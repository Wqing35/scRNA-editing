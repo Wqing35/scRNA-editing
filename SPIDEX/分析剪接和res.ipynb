{
 "cells": [
  {
   "cell_type": "code",
   "execution_count": 1,
   "metadata": {
    "vscode": {
     "languageId": "r"
    }
   },
   "outputs": [],
   "source": [
    "#####利用SPIDEX数据库影响剪接的变异位点和celltype的res做交叉，得到落在剪接位点上的res\n",
    "#GABA\n",
    "res <- read.table(\"/disk1/wenqing/tmp_data/PFC_s2/all_analysis_result/de_editing/GABAergic_neurons/all_edited.processed.srt.res\")\n",
    "all_sites <- paste0(res$V1,\"_\",res$V3)"
   ]
  },
  {
   "cell_type": "code",
   "execution_count": 2,
   "metadata": {
    "vscode": {
     "languageId": "r"
    }
   },
   "outputs": [
    {
     "data": {
      "text/html": [
       "<table class=\"dataframe\">\n",
       "<caption>A data.frame: 6 × 7</caption>\n",
       "<thead>\n",
       "\t<tr><th></th><th scope=col>V1</th><th scope=col>V2</th><th scope=col>V3</th><th scope=col>V4</th><th scope=col>V5</th><th scope=col>V6</th><th scope=col>V7</th></tr>\n",
       "\t<tr><th></th><th scope=col>&lt;chr&gt;</th><th scope=col>&lt;int&gt;</th><th scope=col>&lt;int&gt;</th><th scope=col>&lt;chr&gt;</th><th scope=col>&lt;chr&gt;</th><th scope=col>&lt;dbl&gt;</th><th scope=col>&lt;dbl&gt;</th></tr>\n",
       "</thead>\n",
       "<tbody>\n",
       "\t<tr><th scope=row>1</th><td>1</td><td>861181</td><td>861181</td><td>G</td><td>A</td><td>0.5983</td><td>1.226</td></tr>\n",
       "\t<tr><th scope=row>2</th><td>1</td><td>861181</td><td>861181</td><td>G</td><td>C</td><td>0.3903</td><td>1.011</td></tr>\n",
       "\t<tr><th scope=row>3</th><td>1</td><td>861181</td><td>861181</td><td>G</td><td>T</td><td>0.6564</td><td>1.276</td></tr>\n",
       "\t<tr><th scope=row>4</th><td>1</td><td>861182</td><td>861182</td><td>T</td><td>A</td><td>0.4921</td><td>1.125</td></tr>\n",
       "\t<tr><th scope=row>5</th><td>1</td><td>861182</td><td>861182</td><td>T</td><td>C</td><td>0.4723</td><td>1.104</td></tr>\n",
       "\t<tr><th scope=row>6</th><td>1</td><td>861182</td><td>861182</td><td>T</td><td>G</td><td>0.7517</td><td>1.351</td></tr>\n",
       "</tbody>\n",
       "</table>\n"
      ],
      "text/latex": [
       "A data.frame: 6 × 7\n",
       "\\begin{tabular}{r|lllllll}\n",
       "  & V1 & V2 & V3 & V4 & V5 & V6 & V7\\\\\n",
       "  & <chr> & <int> & <int> & <chr> & <chr> & <dbl> & <dbl>\\\\\n",
       "\\hline\n",
       "\t1 & 1 & 861181 & 861181 & G & A & 0.5983 & 1.226\\\\\n",
       "\t2 & 1 & 861181 & 861181 & G & C & 0.3903 & 1.011\\\\\n",
       "\t3 & 1 & 861181 & 861181 & G & T & 0.6564 & 1.276\\\\\n",
       "\t4 & 1 & 861182 & 861182 & T & A & 0.4921 & 1.125\\\\\n",
       "\t5 & 1 & 861182 & 861182 & T & C & 0.4723 & 1.104\\\\\n",
       "\t6 & 1 & 861182 & 861182 & T & G & 0.7517 & 1.351\\\\\n",
       "\\end{tabular}\n"
      ],
      "text/markdown": [
       "\n",
       "A data.frame: 6 × 7\n",
       "\n",
       "| <!--/--> | V1 &lt;chr&gt; | V2 &lt;int&gt; | V3 &lt;int&gt; | V4 &lt;chr&gt; | V5 &lt;chr&gt; | V6 &lt;dbl&gt; | V7 &lt;dbl&gt; |\n",
       "|---|---|---|---|---|---|---|---|\n",
       "| 1 | 1 | 861181 | 861181 | G | A | 0.5983 | 1.226 |\n",
       "| 2 | 1 | 861181 | 861181 | G | C | 0.3903 | 1.011 |\n",
       "| 3 | 1 | 861181 | 861181 | G | T | 0.6564 | 1.276 |\n",
       "| 4 | 1 | 861182 | 861182 | T | A | 0.4921 | 1.125 |\n",
       "| 5 | 1 | 861182 | 861182 | T | C | 0.4723 | 1.104 |\n",
       "| 6 | 1 | 861182 | 861182 | T | G | 0.7517 | 1.351 |\n",
       "\n"
      ],
      "text/plain": [
       "  V1 V2     V3     V4 V5 V6     V7   \n",
       "1 1  861181 861181 G  A  0.5983 1.226\n",
       "2 1  861181 861181 G  C  0.3903 1.011\n",
       "3 1  861181 861181 G  T  0.6564 1.276\n",
       "4 1  861182 861182 T  A  0.4921 1.125\n",
       "5 1  861182 861182 T  C  0.4723 1.104\n",
       "6 1  861182 861182 T  G  0.7517 1.351"
      ]
     },
     "metadata": {},
     "output_type": "display_data"
    }
   ],
   "source": [
    "snv2splicing_sites <- read.table(\"/disk1/wenqing/SPIDEX/hg19_spidex.txt\")\n",
    "head(snv2splicing_sites)"
   ]
  },
  {
   "cell_type": "code",
   "execution_count": 3,
   "metadata": {
    "vscode": {
     "languageId": "r"
    }
   },
   "outputs": [],
   "source": [
    "snv_sites <- paste0(\"chr\",snv2splicing_sites$V1,\"_\",snv2splicing_sites$V3)"
   ]
  },
  {
   "cell_type": "code",
   "execution_count": null,
   "metadata": {
    "vscode": {
     "languageId": "r"
    }
   },
   "outputs": [],
   "source": [
    "snv_proSplicing <- snv_sites[which(snv2splicing_sites$V7 < 0)]"
   ]
  },
  {
   "cell_type": "code",
   "execution_count": null,
   "metadata": {
    "vscode": {
     "languageId": "r"
    }
   },
   "outputs": [],
   "source": [
    "intersect(snv_proSplicing,all_sites)"
   ]
  },
  {
   "cell_type": "code",
   "execution_count": 5,
   "metadata": {
    "vscode": {
     "languageId": "r"
    }
   },
   "outputs": [
    {
     "data": {
      "text/html": [
       "9011"
      ],
      "text/latex": [
       "9011"
      ],
      "text/markdown": [
       "9011"
      ],
      "text/plain": [
       "[1] 9011"
      ]
     },
     "metadata": {},
     "output_type": "display_data"
    }
   ],
   "source": [
    "435+8576"
   ]
  }
 ],
 "metadata": {
  "kernelspec": {
   "display_name": "R",
   "language": "R",
   "name": "ir"
  },
  "language_info": {
   "codemirror_mode": "r",
   "file_extension": ".r",
   "mimetype": "text/x-r-source",
   "name": "R",
   "pygments_lexer": "r",
   "version": "4.3.1"
  },
  "orig_nbformat": 4
 },
 "nbformat": 4,
 "nbformat_minor": 2
}
