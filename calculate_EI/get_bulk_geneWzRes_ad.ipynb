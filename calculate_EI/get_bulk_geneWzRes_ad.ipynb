{
 "cells": [
  {
   "cell_type": "code",
   "execution_count": 1,
   "metadata": {
    "vscode": {
     "languageId": "r"
    }
   },
   "outputs": [],
   "source": [
    ".libPaths('/disk1/wenqing/anaconda3/envs/wq_R4.2/lib/R/library')"
   ]
  },
  {
   "cell_type": "code",
   "execution_count": 3,
   "metadata": {
    "vscode": {
     "languageId": "r"
    }
   },
   "outputs": [
    {
     "name": "stderr",
     "output_type": "stream",
     "text": [
      "Loading required package: lme4\n",
      "\n",
      "Warning message:\n",
      "“package ‘lme4’ was built under R version 4.3.2”\n",
      "Loading required package: Matrix\n",
      "\n",
      "\n",
      "Attaching package: ‘lmerTest’\n",
      "\n",
      "\n",
      "The following object is masked from ‘package:lme4’:\n",
      "\n",
      "    lmer\n",
      "\n",
      "\n",
      "The following object is masked from ‘package:stats’:\n",
      "\n",
      "    step\n",
      "\n",
      "\n"
     ]
    }
   ],
   "source": [
    "library(lmerTest)"
   ]
  },
  {
   "cell_type": "code",
   "execution_count": 4,
   "metadata": {
    "vscode": {
     "languageId": "r"
    }
   },
   "outputs": [
    {
     "name": "stdout",
     "output_type": "stream",
     "text": [
      "lmer                 package:lmerTest                  R Documentation\n",
      "\n",
      "_\bF_\bi_\bt _\bL_\bi_\bn_\be_\ba_\br _\bM_\bi_\bx_\be_\bd-_\bE_\bf_\bf_\be_\bc_\bt_\bs _\bM_\bo_\bd_\be_\bl_\bs\n",
      "\n",
      "_\bD_\be_\bs_\bc_\br_\bi_\bp_\bt_\bi_\bo_\bn:\n",
      "\n",
      "     This function overloads ‘lmer’ from the ‘lme4’-package\n",
      "     (‘lme4::lmer’) and adds a couple of slots needed for the\n",
      "     computation of Satterthwaite denominator degrees of freedom. All\n",
      "     arguments are the same as for ‘lme4::lmer’ and all the usual\n",
      "     ‘lmer’-methods work.\n",
      "\n",
      "_\bU_\bs_\ba_\bg_\be:\n",
      "\n",
      "     lmer(\n",
      "       formula,\n",
      "       data = NULL,\n",
      "       REML = TRUE,\n",
      "       control = lmerControl(),\n",
      "       start = NULL,\n",
      "       verbose = 0L,\n",
      "       subset,\n",
      "       weights,\n",
      "       na.action,\n",
      "       offset,\n",
      "       contrasts = NULL,\n",
      "       devFunOnly = FALSE\n",
      "     )\n",
      "     \n",
      "_\bA_\br_\bg_\bu_\bm_\be_\bn_\bt_\bs:\n",
      "\n",
      " formula: a two-sided linear formula object describing both the\n",
      "          fixed-effects and random-effects part of the model, with the\n",
      "          response on the left of a ‘~’ operator and the terms,\n",
      "          separated by ‘+’ operators, on the right.  Random-effects\n",
      "          terms are distinguished by vertical bars (‘|’) separating\n",
      "          expressions for design matrices from grouping factors.  Two\n",
      "          vertical bars (‘||’) can be used to specify multiple\n",
      "          uncorrelated random effects for the same grouping variable.\n",
      "          (Because of the way it is implemented, the ‘||’-syntax _works\n",
      "          only for design matrices containing numeric (continuous)\n",
      "          predictors_; to fit models with independent categorical\n",
      "          effects, see ‘dummy’ or the ‘lmer_alt’ function from the\n",
      "          ‘afex’ package.)\n",
      "\n",
      "    data: an optional data frame containing the variables named in\n",
      "          ‘formula’.  By default the variables are taken from the\n",
      "          environment from which ‘lmer’ is called. While ‘data’ is\n",
      "          optional, the package authors _strongly_ recommend its use,\n",
      "          especially when later applying methods such as ‘update’ and\n",
      "          ‘drop1’ to the fitted model (_such methods are not guaranteed\n",
      "          to work properly if ‘data’ is omitted_). If ‘data’ is\n",
      "          omitted, variables will be taken from the environment of\n",
      "          ‘formula’ (if specified as a formula) or from the parent\n",
      "          frame (if specified as a character vector).\n",
      "\n",
      "    REML: logical scalar - Should the estimates be chosen to optimize\n",
      "          the REML criterion (as opposed to the log-likelihood)?\n",
      "\n",
      " control: a list (of correct class, resulting from ‘lmerControl()’ or\n",
      "          ‘glmerControl()’ respectively) containing control parameters,\n",
      "          including the nonlinear optimizer to be used and parameters\n",
      "          to be passed through to the nonlinear optimizer, see the\n",
      "          ‘*lmerControl’ documentation for details.\n",
      "\n",
      "   start: a named ‘list’ of starting values for the parameters in the\n",
      "          model.  For ‘lmer’ this can be a numeric vector or a list\n",
      "          with one component named ‘\"theta\"’.\n",
      "\n",
      " verbose: integer scalar.  If ‘> 0’ verbose output is generated during\n",
      "          the optimization of the parameter estimates.  If ‘> 1’\n",
      "          verbose output is generated during the individual penalized\n",
      "          iteratively reweighted least squares (PIRLS) steps.\n",
      "\n",
      "  subset: an optional expression indicating the subset of the rows of\n",
      "          ‘data’ that should be used in the fit. This can be a logical\n",
      "          vector, or a numeric vector indicating which observation\n",
      "          numbers are to be included, or a character vector of the row\n",
      "          names to be included.  All observations are included by\n",
      "          default.\n",
      "\n",
      " weights: an optional vector of ‘prior weights’ to be used in the\n",
      "          fitting process.  Should be ‘NULL’ or a numeric vector.\n",
      "          Prior ‘weights’ are _not_ normalized or standardized in any\n",
      "          way.  In particular, the diagonal of the residual covariance\n",
      "          matrix is the squared residual standard deviation parameter\n",
      "          ‘sigma’ times the vector of inverse ‘weights’.  Therefore, if\n",
      "          the ‘weights’ have relatively large magnitudes, then in order\n",
      "          to compensate, the ‘sigma’ parameter will also need to have a\n",
      "          relatively large magnitude.\n",
      "\n",
      "na.action: a function that indicates what should happen when the data\n",
      "          contain ‘NA’s.  The default action (‘na.omit’, inherited from\n",
      "          the 'factory fresh' value of ‘getOption(\"na.action\")’) strips\n",
      "          any observations with any missing values in any variables.\n",
      "\n",
      "  offset: this can be used to specify an _a priori_ known component to\n",
      "          be included in the linear predictor during fitting. This\n",
      "          should be ‘NULL’ or a numeric vector of length equal to the\n",
      "          number of cases.  One or more ‘offset’ terms can be included\n",
      "          in the formula instead or as well, and if more than one is\n",
      "          specified their sum is used.  See ‘model.offset’.\n",
      "\n",
      "contrasts: an optional list. See the ‘contrasts.arg’ of\n",
      "          ‘model.matrix.default’.\n",
      "\n",
      "devFunOnly: logical - return only the deviance evaluation function.\n",
      "          Note that because the deviance function operates on variables\n",
      "          stored in its environment, it may not return _exactly_ the\n",
      "          same values on subsequent calls (but the results should\n",
      "          always be within machine tolerance).\n",
      "\n",
      "_\bD_\be_\bt_\ba_\bi_\bl_\bs:\n",
      "\n",
      "     For details about ‘lmer’ see ‘lmer’ (‘help(lme4::lmer)’). The\n",
      "     description of all arguments is taken unedited from the\n",
      "     ‘lme4’-package.\n",
      "\n",
      "     In cases when a valid ‘lmer’-object (‘lmerMod’) is produced, but\n",
      "     when the computations needed for Satterthwaite df fails, the\n",
      "     ‘lmerMod’ object is returned - not an ‘lmerModLmerTest’ object.\n",
      "\n",
      "_\bV_\ba_\bl_\bu_\be:\n",
      "\n",
      "     an S4 object of class ‘\"lmerModLmerTest\"’\n",
      "\n",
      "_\bA_\bu_\bt_\bh_\bo_\br(_\bs):\n",
      "\n",
      "     Rune Haubo B. Christensen and Alexandra Kuznetsova for the\n",
      "     overload in ‘lmerTest’ - ‘lme4’-authors for the underlying\n",
      "     implementation in ‘lme4’.\n",
      "\n",
      "_\bS_\be_\be _\bA_\bl_\bs_\bo:\n",
      "\n",
      "     ‘lmer’ and ‘lmerModLmerTest’\n",
      "\n",
      "_\bE_\bx_\ba_\bm_\bp_\bl_\be_\bs:\n",
      "\n",
      "     data(\"sleepstudy\", package=\"lme4\")\n",
      "     m <- lmer(Reaction ~ Days + (Days | Subject), sleepstudy)\n",
      "     class(m) # lmerModLmerTest\n",
      "     "
     ]
    }
   ],
   "source": [
    "?lmer"
   ]
  },
  {
   "cell_type": "code",
   "execution_count": 20,
   "metadata": {
    "vscode": {
     "languageId": "r"
    }
   },
   "outputs": [],
   "source": [
    "     data(\"sleepstudy\", package=\"lme4\")\n",
    "     m <- lmer(Reaction ~ Days + (Days | Subject), sleepstudy)"
   ]
  },
  {
   "cell_type": "code",
   "execution_count": 18,
   "metadata": {
    "vscode": {
     "languageId": "r"
    }
   },
   "outputs": [
    {
     "data": {
      "text/html": [
       "<table class=\"dataframe\">\n",
       "<caption>A data.frame: 180 × 3</caption>\n",
       "<thead>\n",
       "\t<tr><th scope=col>Reaction</th><th scope=col>Days</th><th scope=col>Subject</th></tr>\n",
       "\t<tr><th scope=col>&lt;dbl&gt;</th><th scope=col>&lt;dbl&gt;</th><th scope=col>&lt;fct&gt;</th></tr>\n",
       "</thead>\n",
       "<tbody>\n",
       "\t<tr><td>249.5600</td><td>0</td><td>308</td></tr>\n",
       "\t<tr><td>258.7047</td><td>1</td><td>308</td></tr>\n",
       "\t<tr><td>250.8006</td><td>2</td><td>308</td></tr>\n",
       "\t<tr><td>321.4398</td><td>3</td><td>308</td></tr>\n",
       "\t<tr><td>356.8519</td><td>4</td><td>308</td></tr>\n",
       "\t<tr><td>414.6901</td><td>5</td><td>308</td></tr>\n",
       "\t<tr><td>382.2038</td><td>6</td><td>308</td></tr>\n",
       "\t<tr><td>290.1486</td><td>7</td><td>308</td></tr>\n",
       "\t<tr><td>430.5853</td><td>8</td><td>308</td></tr>\n",
       "\t<tr><td>466.3535</td><td>9</td><td>308</td></tr>\n",
       "\t<tr><td>222.7339</td><td>0</td><td>309</td></tr>\n",
       "\t<tr><td>205.2658</td><td>1</td><td>309</td></tr>\n",
       "\t<tr><td>202.9778</td><td>2</td><td>309</td></tr>\n",
       "\t<tr><td>204.7070</td><td>3</td><td>309</td></tr>\n",
       "\t<tr><td>207.7161</td><td>4</td><td>309</td></tr>\n",
       "\t<tr><td>215.9618</td><td>5</td><td>309</td></tr>\n",
       "\t<tr><td>213.6303</td><td>6</td><td>309</td></tr>\n",
       "\t<tr><td>217.7272</td><td>7</td><td>309</td></tr>\n",
       "\t<tr><td>224.2957</td><td>8</td><td>309</td></tr>\n",
       "\t<tr><td>237.3142</td><td>9</td><td>309</td></tr>\n",
       "\t<tr><td>199.0539</td><td>0</td><td>310</td></tr>\n",
       "\t<tr><td>194.3322</td><td>1</td><td>310</td></tr>\n",
       "\t<tr><td>234.3200</td><td>2</td><td>310</td></tr>\n",
       "\t<tr><td>232.8416</td><td>3</td><td>310</td></tr>\n",
       "\t<tr><td>229.3074</td><td>4</td><td>310</td></tr>\n",
       "\t<tr><td>220.4579</td><td>5</td><td>310</td></tr>\n",
       "\t<tr><td>235.4208</td><td>6</td><td>310</td></tr>\n",
       "\t<tr><td>255.7511</td><td>7</td><td>310</td></tr>\n",
       "\t<tr><td>261.0125</td><td>8</td><td>310</td></tr>\n",
       "\t<tr><td>247.5153</td><td>9</td><td>310</td></tr>\n",
       "\t<tr><td>⋮</td><td>⋮</td><td>⋮</td></tr>\n",
       "\t<tr><td>225.2640</td><td>0</td><td>370</td></tr>\n",
       "\t<tr><td>234.5235</td><td>1</td><td>370</td></tr>\n",
       "\t<tr><td>238.9008</td><td>2</td><td>370</td></tr>\n",
       "\t<tr><td>240.4730</td><td>3</td><td>370</td></tr>\n",
       "\t<tr><td>267.5373</td><td>4</td><td>370</td></tr>\n",
       "\t<tr><td>344.1937</td><td>5</td><td>370</td></tr>\n",
       "\t<tr><td>281.1481</td><td>6</td><td>370</td></tr>\n",
       "\t<tr><td>347.5855</td><td>7</td><td>370</td></tr>\n",
       "\t<tr><td>365.1630</td><td>8</td><td>370</td></tr>\n",
       "\t<tr><td>372.2288</td><td>9</td><td>370</td></tr>\n",
       "\t<tr><td>269.8804</td><td>0</td><td>371</td></tr>\n",
       "\t<tr><td>272.4428</td><td>1</td><td>371</td></tr>\n",
       "\t<tr><td>277.8989</td><td>2</td><td>371</td></tr>\n",
       "\t<tr><td>281.7895</td><td>3</td><td>371</td></tr>\n",
       "\t<tr><td>279.1705</td><td>4</td><td>371</td></tr>\n",
       "\t<tr><td>284.5120</td><td>5</td><td>371</td></tr>\n",
       "\t<tr><td>259.2658</td><td>6</td><td>371</td></tr>\n",
       "\t<tr><td>304.6306</td><td>7</td><td>371</td></tr>\n",
       "\t<tr><td>350.7807</td><td>8</td><td>371</td></tr>\n",
       "\t<tr><td>369.4692</td><td>9</td><td>371</td></tr>\n",
       "\t<tr><td>269.4117</td><td>0</td><td>372</td></tr>\n",
       "\t<tr><td>273.4740</td><td>1</td><td>372</td></tr>\n",
       "\t<tr><td>297.5968</td><td>2</td><td>372</td></tr>\n",
       "\t<tr><td>310.6316</td><td>3</td><td>372</td></tr>\n",
       "\t<tr><td>287.1726</td><td>4</td><td>372</td></tr>\n",
       "\t<tr><td>329.6076</td><td>5</td><td>372</td></tr>\n",
       "\t<tr><td>334.4818</td><td>6</td><td>372</td></tr>\n",
       "\t<tr><td>343.2199</td><td>7</td><td>372</td></tr>\n",
       "\t<tr><td>369.1417</td><td>8</td><td>372</td></tr>\n",
       "\t<tr><td>364.1236</td><td>9</td><td>372</td></tr>\n",
       "</tbody>\n",
       "</table>\n"
      ],
      "text/latex": [
       "A data.frame: 180 × 3\n",
       "\\begin{tabular}{lll}\n",
       " Reaction & Days & Subject\\\\\n",
       " <dbl> & <dbl> & <fct>\\\\\n",
       "\\hline\n",
       "\t 249.5600 & 0 & 308\\\\\n",
       "\t 258.7047 & 1 & 308\\\\\n",
       "\t 250.8006 & 2 & 308\\\\\n",
       "\t 321.4398 & 3 & 308\\\\\n",
       "\t 356.8519 & 4 & 308\\\\\n",
       "\t 414.6901 & 5 & 308\\\\\n",
       "\t 382.2038 & 6 & 308\\\\\n",
       "\t 290.1486 & 7 & 308\\\\\n",
       "\t 430.5853 & 8 & 308\\\\\n",
       "\t 466.3535 & 9 & 308\\\\\n",
       "\t 222.7339 & 0 & 309\\\\\n",
       "\t 205.2658 & 1 & 309\\\\\n",
       "\t 202.9778 & 2 & 309\\\\\n",
       "\t 204.7070 & 3 & 309\\\\\n",
       "\t 207.7161 & 4 & 309\\\\\n",
       "\t 215.9618 & 5 & 309\\\\\n",
       "\t 213.6303 & 6 & 309\\\\\n",
       "\t 217.7272 & 7 & 309\\\\\n",
       "\t 224.2957 & 8 & 309\\\\\n",
       "\t 237.3142 & 9 & 309\\\\\n",
       "\t 199.0539 & 0 & 310\\\\\n",
       "\t 194.3322 & 1 & 310\\\\\n",
       "\t 234.3200 & 2 & 310\\\\\n",
       "\t 232.8416 & 3 & 310\\\\\n",
       "\t 229.3074 & 4 & 310\\\\\n",
       "\t 220.4579 & 5 & 310\\\\\n",
       "\t 235.4208 & 6 & 310\\\\\n",
       "\t 255.7511 & 7 & 310\\\\\n",
       "\t 261.0125 & 8 & 310\\\\\n",
       "\t 247.5153 & 9 & 310\\\\\n",
       "\t ⋮ & ⋮ & ⋮\\\\\n",
       "\t 225.2640 & 0 & 370\\\\\n",
       "\t 234.5235 & 1 & 370\\\\\n",
       "\t 238.9008 & 2 & 370\\\\\n",
       "\t 240.4730 & 3 & 370\\\\\n",
       "\t 267.5373 & 4 & 370\\\\\n",
       "\t 344.1937 & 5 & 370\\\\\n",
       "\t 281.1481 & 6 & 370\\\\\n",
       "\t 347.5855 & 7 & 370\\\\\n",
       "\t 365.1630 & 8 & 370\\\\\n",
       "\t 372.2288 & 9 & 370\\\\\n",
       "\t 269.8804 & 0 & 371\\\\\n",
       "\t 272.4428 & 1 & 371\\\\\n",
       "\t 277.8989 & 2 & 371\\\\\n",
       "\t 281.7895 & 3 & 371\\\\\n",
       "\t 279.1705 & 4 & 371\\\\\n",
       "\t 284.5120 & 5 & 371\\\\\n",
       "\t 259.2658 & 6 & 371\\\\\n",
       "\t 304.6306 & 7 & 371\\\\\n",
       "\t 350.7807 & 8 & 371\\\\\n",
       "\t 369.4692 & 9 & 371\\\\\n",
       "\t 269.4117 & 0 & 372\\\\\n",
       "\t 273.4740 & 1 & 372\\\\\n",
       "\t 297.5968 & 2 & 372\\\\\n",
       "\t 310.6316 & 3 & 372\\\\\n",
       "\t 287.1726 & 4 & 372\\\\\n",
       "\t 329.6076 & 5 & 372\\\\\n",
       "\t 334.4818 & 6 & 372\\\\\n",
       "\t 343.2199 & 7 & 372\\\\\n",
       "\t 369.1417 & 8 & 372\\\\\n",
       "\t 364.1236 & 9 & 372\\\\\n",
       "\\end{tabular}\n"
      ],
      "text/markdown": [
       "\n",
       "A data.frame: 180 × 3\n",
       "\n",
       "| Reaction &lt;dbl&gt; | Days &lt;dbl&gt; | Subject &lt;fct&gt; |\n",
       "|---|---|---|\n",
       "| 249.5600 | 0 | 308 |\n",
       "| 258.7047 | 1 | 308 |\n",
       "| 250.8006 | 2 | 308 |\n",
       "| 321.4398 | 3 | 308 |\n",
       "| 356.8519 | 4 | 308 |\n",
       "| 414.6901 | 5 | 308 |\n",
       "| 382.2038 | 6 | 308 |\n",
       "| 290.1486 | 7 | 308 |\n",
       "| 430.5853 | 8 | 308 |\n",
       "| 466.3535 | 9 | 308 |\n",
       "| 222.7339 | 0 | 309 |\n",
       "| 205.2658 | 1 | 309 |\n",
       "| 202.9778 | 2 | 309 |\n",
       "| 204.7070 | 3 | 309 |\n",
       "| 207.7161 | 4 | 309 |\n",
       "| 215.9618 | 5 | 309 |\n",
       "| 213.6303 | 6 | 309 |\n",
       "| 217.7272 | 7 | 309 |\n",
       "| 224.2957 | 8 | 309 |\n",
       "| 237.3142 | 9 | 309 |\n",
       "| 199.0539 | 0 | 310 |\n",
       "| 194.3322 | 1 | 310 |\n",
       "| 234.3200 | 2 | 310 |\n",
       "| 232.8416 | 3 | 310 |\n",
       "| 229.3074 | 4 | 310 |\n",
       "| 220.4579 | 5 | 310 |\n",
       "| 235.4208 | 6 | 310 |\n",
       "| 255.7511 | 7 | 310 |\n",
       "| 261.0125 | 8 | 310 |\n",
       "| 247.5153 | 9 | 310 |\n",
       "| ⋮ | ⋮ | ⋮ |\n",
       "| 225.2640 | 0 | 370 |\n",
       "| 234.5235 | 1 | 370 |\n",
       "| 238.9008 | 2 | 370 |\n",
       "| 240.4730 | 3 | 370 |\n",
       "| 267.5373 | 4 | 370 |\n",
       "| 344.1937 | 5 | 370 |\n",
       "| 281.1481 | 6 | 370 |\n",
       "| 347.5855 | 7 | 370 |\n",
       "| 365.1630 | 8 | 370 |\n",
       "| 372.2288 | 9 | 370 |\n",
       "| 269.8804 | 0 | 371 |\n",
       "| 272.4428 | 1 | 371 |\n",
       "| 277.8989 | 2 | 371 |\n",
       "| 281.7895 | 3 | 371 |\n",
       "| 279.1705 | 4 | 371 |\n",
       "| 284.5120 | 5 | 371 |\n",
       "| 259.2658 | 6 | 371 |\n",
       "| 304.6306 | 7 | 371 |\n",
       "| 350.7807 | 8 | 371 |\n",
       "| 369.4692 | 9 | 371 |\n",
       "| 269.4117 | 0 | 372 |\n",
       "| 273.4740 | 1 | 372 |\n",
       "| 297.5968 | 2 | 372 |\n",
       "| 310.6316 | 3 | 372 |\n",
       "| 287.1726 | 4 | 372 |\n",
       "| 329.6076 | 5 | 372 |\n",
       "| 334.4818 | 6 | 372 |\n",
       "| 343.2199 | 7 | 372 |\n",
       "| 369.1417 | 8 | 372 |\n",
       "| 364.1236 | 9 | 372 |\n",
       "\n"
      ],
      "text/plain": [
       "    Reaction Days Subject\n",
       "1   249.5600 0    308    \n",
       "2   258.7047 1    308    \n",
       "3   250.8006 2    308    \n",
       "4   321.4398 3    308    \n",
       "5   356.8519 4    308    \n",
       "6   414.6901 5    308    \n",
       "7   382.2038 6    308    \n",
       "8   290.1486 7    308    \n",
       "9   430.5853 8    308    \n",
       "10  466.3535 9    308    \n",
       "11  222.7339 0    309    \n",
       "12  205.2658 1    309    \n",
       "13  202.9778 2    309    \n",
       "14  204.7070 3    309    \n",
       "15  207.7161 4    309    \n",
       "16  215.9618 5    309    \n",
       "17  213.6303 6    309    \n",
       "18  217.7272 7    309    \n",
       "19  224.2957 8    309    \n",
       "20  237.3142 9    309    \n",
       "21  199.0539 0    310    \n",
       "22  194.3322 1    310    \n",
       "23  234.3200 2    310    \n",
       "24  232.8416 3    310    \n",
       "25  229.3074 4    310    \n",
       "26  220.4579 5    310    \n",
       "27  235.4208 6    310    \n",
       "28  255.7511 7    310    \n",
       "29  261.0125 8    310    \n",
       "30  247.5153 9    310    \n",
       "⋮   ⋮        ⋮    ⋮      \n",
       "151 225.2640 0    370    \n",
       "152 234.5235 1    370    \n",
       "153 238.9008 2    370    \n",
       "154 240.4730 3    370    \n",
       "155 267.5373 4    370    \n",
       "156 344.1937 5    370    \n",
       "157 281.1481 6    370    \n",
       "158 347.5855 7    370    \n",
       "159 365.1630 8    370    \n",
       "160 372.2288 9    370    \n",
       "161 269.8804 0    371    \n",
       "162 272.4428 1    371    \n",
       "163 277.8989 2    371    \n",
       "164 281.7895 3    371    \n",
       "165 279.1705 4    371    \n",
       "166 284.5120 5    371    \n",
       "167 259.2658 6    371    \n",
       "168 304.6306 7    371    \n",
       "169 350.7807 8    371    \n",
       "170 369.4692 9    371    \n",
       "171 269.4117 0    372    \n",
       "172 273.4740 1    372    \n",
       "173 297.5968 2    372    \n",
       "174 310.6316 3    372    \n",
       "175 287.1726 4    372    \n",
       "176 329.6076 5    372    \n",
       "177 334.4818 6    372    \n",
       "178 343.2199 7    372    \n",
       "179 369.1417 8    372    \n",
       "180 364.1236 9    372    "
      ]
     },
     "metadata": {},
     "output_type": "display_data"
    }
   ],
   "source": [
    "sleepstudy"
   ]
  },
  {
   "cell_type": "code",
   "execution_count": 17,
   "metadata": {
    "vscode": {
     "languageId": "r"
    }
   },
   "outputs": [
    {
     "data": {
      "text/plain": [
       "\n",
       " 0  1  2  3  4  5  6  7  8  9 \n",
       "18 18 18 18 18 18 18 18 18 18 "
      ]
     },
     "metadata": {},
     "output_type": "display_data"
    },
    {
     "data": {
      "text/plain": [
       "\n",
       "308 309 310 330 331 332 333 334 335 337 349 350 351 352 369 370 371 372 \n",
       " 10  10  10  10  10  10  10  10  10  10  10  10  10  10  10  10  10  10 "
      ]
     },
     "metadata": {},
     "output_type": "display_data"
    },
    {
     "data": {
      "text/plain": [
       "\n",
       "194.3322 199.0539 202.9778  204.707 205.2658 207.7161 213.6303 215.9618 \n",
       "       1        1        1        1        1        1        1        1 \n",
       "217.7272 220.4579 221.6771 222.7339 224.2957  225.264 229.3074 230.3167 \n",
       "       1        1        1        1        1        1        1        1 \n",
       "232.8416   234.32 234.5235 234.8606  235.311 235.4208 235.7541 236.1032 \n",
       "       1        1        1        1        1        1        1        1 \n",
       "237.2466 237.3142 238.9008 238.9256  240.473 241.6083 242.8118 243.3647 \n",
       "       1        1        1        1        1        1        1        1 \n",
       "243.4543 245.4523 247.5153   249.56 250.5265 250.7103 250.8006 251.4519 \n",
       "       1        1        1        1        1        1        1        1 \n",
       "253.8644 254.4907 254.6362 254.6723  254.922 255.5271 255.7511 256.2046 \n",
       "       1        1        1        1        1        1        1        1 \n",
       "256.2968 257.2424 258.7047 259.2658 261.0125 265.4731 266.5955 267.5373 \n",
       "       1        1        1        1        1        1        1        1 \n",
       "268.4369 268.9165 269.4117 269.7744 269.8804 269.8939 270.8021 271.8274 \n",
       "       1        1        1        1        1        1        1        1 \n",
       "271.9235 272.4428 272.9613  273.474 273.9472 276.2012 276.7693 277.6566 \n",
       "       1        1        1        1        1        1        1        1 \n",
       "277.8989 279.0244 279.1705 280.2396 280.5891 281.1481 281.5648 281.7895 \n",
       "       1        1        1        1        1        1        1        1 \n",
       "283.8424 283.8565 284.1912  284.512      285  285.133 285.7973 287.1726 \n",
       "       1        1        1        1        1        1        1        1 \n",
       "287.6079 287.7466  289.555  290.075 290.1486 291.6112 293.3187 293.7469 \n",
       "       1        1        1        1        1        1        1        1 \n",
       " 297.171 297.5855 297.5968 298.1353 298.1939 299.8097 300.0576 300.4002 \n",
       "       1        1        1        1        1        1        1        1 \n",
       "301.8206 304.6306 304.6336 305.3495 305.5248  308.102 309.7688 309.9976 \n",
       "       1        1        1        1        1        1        1        1 \n",
       "310.6316 312.3666 313.8058 314.8222 316.2773 317.2135 317.4629 318.2613 \n",
       "       1        1        1        1        1        1        1        1 \n",
       "320.1153 321.4398 321.5418 321.5426 326.8785 329.6076 329.7247 330.3003 \n",
       "       1        1        1        1        1        1        1        1 \n",
       "331.5229 332.0265   333.36 334.4818 334.8177 335.7469 336.2806 338.1665 \n",
       "       1        1        1        1        1        1        1        1 \n",
       "  340.28 343.2199 344.1937 346.1222 346.8311 346.8555 347.5655 347.5855 \n",
       "       1        1        1        1        1        1        1        1 \n",
       "348.1229 348.7402 348.8399 350.7807 351.6451 352.8287 354.0487 354.4266 \n",
       "       1        1        1        1        1        1        1        1 \n",
       "356.8519 360.4326 362.0428 362.9184 364.1236  365.163 365.7324 366.5131 \n",
       "       1        1        1        1        1        1        1        1 \n",
       "369.1417 369.4692 371.5811 372.2288 375.6406  377.299 379.4445 382.2038 \n",
       "       1        1        1        1        1        1        1        1 \n",
       "388.5417 389.0527 391.8385 394.4872 404.2601 414.6901 416.6923 430.5853 \n",
       "       1        1        1        1        1        1        1        1 \n",
       "454.1619 455.8643 458.9167 466.3535 \n",
       "       1        1        1        1 "
      ]
     },
     "metadata": {},
     "output_type": "display_data"
    }
   ],
   "source": [
    "table(sleepstudy$Days)\n",
    "table(sleepstudy$Subject)\n",
    "table(sleepstudy$Reaction)"
   ]
  },
  {
   "cell_type": "code",
   "execution_count": 8,
   "metadata": {
    "vscode": {
     "languageId": "r"
    }
   },
   "outputs": [
    {
     "data": {
      "text/plain": [
       "Linear mixed model fit by REML. t-tests use Satterthwaite's method [\n",
       "lmerModLmerTest]\n",
       "Formula: Reaction ~ Days + (Days | Subject)\n",
       "   Data: sleepstudy\n",
       "\n",
       "REML criterion at convergence: 1743.6\n",
       "\n",
       "Scaled residuals: \n",
       "    Min      1Q  Median      3Q     Max \n",
       "-3.9536 -0.4634  0.0231  0.4634  5.1793 \n",
       "\n",
       "Random effects:\n",
       " Groups   Name        Variance Std.Dev. Corr\n",
       " Subject  (Intercept) 612.10   24.741       \n",
       "          Days         35.07    5.922   0.07\n",
       " Residual             654.94   25.592       \n",
       "Number of obs: 180, groups:  Subject, 18\n",
       "\n",
       "Fixed effects:\n",
       "            Estimate Std. Error      df t value Pr(>|t|)    \n",
       "(Intercept)  251.405      6.825  17.000  36.838  < 2e-16 ***\n",
       "Days          10.467      1.546  17.000   6.771 3.26e-06 ***\n",
       "---\n",
       "Signif. codes:  0 ‘***’ 0.001 ‘**’ 0.01 ‘*’ 0.05 ‘.’ 0.1 ‘ ’ 1\n",
       "\n",
       "Correlation of Fixed Effects:\n",
       "     (Intr)\n",
       "Days -0.138"
      ]
     },
     "metadata": {},
     "output_type": "display_data"
    }
   ],
   "source": [
    "summary(m)"
   ]
  },
  {
   "cell_type": "code",
   "execution_count": 2,
   "metadata": {
    "vscode": {
     "languageId": "r"
    }
   },
   "outputs": [],
   "source": [
    "find_gene_res_num <- function(x){\n",
    "    gene <- strsplit(uniq_gene_region[x],\"_\")[[1]][4]\n",
    "    res_num <- sum(dat$V8[dat$V4==gene])\n",
    "    return(res_num)\n",
    "}"
   ]
  },
  {
   "cell_type": "code",
   "execution_count": 12,
   "metadata": {
    "vscode": {
     "languageId": "r"
    }
   },
   "outputs": [],
   "source": [
    "for(path in c('284','285','288','289','290','291','292','293','299','300')){\n",
    "\n",
    "    dat <- read.table(paste0(\"/disk1/wenqing/tmp_data/ASD_bulk/asd/gene_ei/\",path,\"/geneWithRegular_res.txt\"))\n",
    "\n",
    "    dat$V10 <- paste0(dat$V1,\"_\",dat$V2,\"_\",dat$V3,\"_\",dat$V4)\n",
    "    #head(dat)\n",
    "    uniq_gene_region <- unique(dat$V10)\n",
    "    #length(uniq_gene_region)\n",
    "\n",
    "    gene_res_num <- apply(as.matrix(1:length(uniq_gene_region)),1,find_gene_res_num)\n",
    "\n",
    "\n",
    "    new_dat_col1 <- apply(as.matrix(1:length(uniq_gene_region)),1,function(x) {col1 <- strsplit(uniq_gene_region[x],\"_\")[[1]][1]})\n",
    "    new_dat_col2 <- apply(as.matrix(1:length(uniq_gene_region)),1,function(x) {col1 <- strsplit(uniq_gene_region[x],\"_\")[[1]][2]})\n",
    "    new_dat_col3 <- apply(as.matrix(1:length(uniq_gene_region)),1,function(x) {col1 <- strsplit(uniq_gene_region[x],\"_\")[[1]][3]})\n",
    "    new_dat_col4 <- apply(as.matrix(1:length(uniq_gene_region)),1,function(x) {col1 <- strsplit(uniq_gene_region[x],\"_\")[[1]][4]})\n",
    "    new_dat_col5 <- gene_res_num\n",
    "    new_dat <- as.data.frame(cbind(new_dat_col1,new_dat_col2,new_dat_col3,new_dat_col4,new_dat_col5))\n",
    "    write.table(new_dat,paste0(\"/disk1/wenqing/tmp_data/ASD_bulk/asd/gene_ei/\",path,\"/geneWzRes_ad.txt\"),quote=F,col.names=F,row.names=F,sep='\\t')\n",
    "}"
   ]
  },
  {
   "cell_type": "code",
   "execution_count": 1,
   "metadata": {
    "vscode": {
     "languageId": "r"
    }
   },
   "outputs": [],
   "source": [
    "    dat <- read.table(\"/disk1/wenqing/tmp_data/ASD/ctr_male_pfc/AEI/32/geneWzRes.txt\")\n"
   ]
  },
  {
   "cell_type": "code",
   "execution_count": 3,
   "metadata": {
    "vscode": {
     "languageId": "r"
    }
   },
   "outputs": [],
   "source": [
    "\n",
    "    dat$V7 <- paste0(dat$V1,\"_\",dat$V2,\"_\",dat$V3,\"_\",dat$V4)\n",
    "    #head(dat)\n",
    "    uniq_gene_region <- unique(dat$V7)\n",
    "    #length(uniq_gene_region)\n",
    "\n",
    "    gene_res_num <- apply(as.matrix(1:length(uniq_gene_region)),1,find_gene_res_num)\n",
    "\n"
   ]
  },
  {
   "cell_type": "code",
   "execution_count": 4,
   "metadata": {
    "vscode": {
     "languageId": "r"
    }
   },
   "outputs": [],
   "source": [
    "\n",
    "    new_dat_col1 <- apply(as.matrix(1:length(uniq_gene_region)),1,function(x) {col1 <- strsplit(uniq_gene_region[x],\"_\")[[1]][1]})\n",
    "    new_dat_col2 <- apply(as.matrix(1:length(uniq_gene_region)),1,function(x) {col1 <- strsplit(uniq_gene_region[x],\"_\")[[1]][2]})\n",
    "    new_dat_col3 <- apply(as.matrix(1:length(uniq_gene_region)),1,function(x) {col1 <- strsplit(uniq_gene_region[x],\"_\")[[1]][3]})\n",
    "    new_dat_col4 <- apply(as.matrix(1:length(uniq_gene_region)),1,function(x) {col1 <- strsplit(uniq_gene_region[x],\"_\")[[1]][4]})\n",
    "    new_dat_col5 <- gene_res_num\n",
    "    new_dat <- as.data.frame(cbind(new_dat_col1,new_dat_col2,new_dat_col3,new_dat_col4,new_dat_col5))\n"
   ]
  },
  {
   "cell_type": "code",
   "execution_count": 5,
   "metadata": {
    "vscode": {
     "languageId": "r"
    }
   },
   "outputs": [
    {
     "data": {
      "text/html": [
       "<table class=\"dataframe\">\n",
       "<caption>A data.frame: 6 × 5</caption>\n",
       "<thead>\n",
       "\t<tr><th></th><th scope=col>new_dat_col1</th><th scope=col>new_dat_col2</th><th scope=col>new_dat_col3</th><th scope=col>new_dat_col4</th><th scope=col>new_dat_col5</th></tr>\n",
       "\t<tr><th></th><th scope=col>&lt;chr&gt;</th><th scope=col>&lt;chr&gt;</th><th scope=col>&lt;chr&gt;</th><th scope=col>&lt;chr&gt;</th><th scope=col>&lt;chr&gt;</th></tr>\n",
       "</thead>\n",
       "<tbody>\n",
       "\t<tr><th scope=row>1</th><td>chr1</td><td>89294 </td><td>133566</td><td>RP11-34P13.7 </td><td>16</td></tr>\n",
       "\t<tr><th scope=row>2</th><td>chr1</td><td>131024</td><td>134836</td><td>CICP27       </td><td>4 </td></tr>\n",
       "\t<tr><th scope=row>3</th><td>chr1</td><td>141473</td><td>173862</td><td>RP11-34P13.13</td><td>34</td></tr>\n",
       "\t<tr><th scope=row>4</th><td>chr1</td><td>227614</td><td>267253</td><td>AP006222.2   </td><td>19</td></tr>\n",
       "\t<tr><th scope=row>5</th><td>chr1</td><td>317719</td><td>453948</td><td>RP4-669L17.10</td><td>10</td></tr>\n",
       "\t<tr><th scope=row>6</th><td>chr1</td><td>536815</td><td>659930</td><td>RP5-857K21.4 </td><td>18</td></tr>\n",
       "</tbody>\n",
       "</table>\n"
      ],
      "text/latex": [
       "A data.frame: 6 × 5\n",
       "\\begin{tabular}{r|lllll}\n",
       "  & new\\_dat\\_col1 & new\\_dat\\_col2 & new\\_dat\\_col3 & new\\_dat\\_col4 & new\\_dat\\_col5\\\\\n",
       "  & <chr> & <chr> & <chr> & <chr> & <chr>\\\\\n",
       "\\hline\n",
       "\t1 & chr1 & 89294  & 133566 & RP11-34P13.7  & 16\\\\\n",
       "\t2 & chr1 & 131024 & 134836 & CICP27        & 4 \\\\\n",
       "\t3 & chr1 & 141473 & 173862 & RP11-34P13.13 & 34\\\\\n",
       "\t4 & chr1 & 227614 & 267253 & AP006222.2    & 19\\\\\n",
       "\t5 & chr1 & 317719 & 453948 & RP4-669L17.10 & 10\\\\\n",
       "\t6 & chr1 & 536815 & 659930 & RP5-857K21.4  & 18\\\\\n",
       "\\end{tabular}\n"
      ],
      "text/markdown": [
       "\n",
       "A data.frame: 6 × 5\n",
       "\n",
       "| <!--/--> | new_dat_col1 &lt;chr&gt; | new_dat_col2 &lt;chr&gt; | new_dat_col3 &lt;chr&gt; | new_dat_col4 &lt;chr&gt; | new_dat_col5 &lt;chr&gt; |\n",
       "|---|---|---|---|---|---|\n",
       "| 1 | chr1 | 89294  | 133566 | RP11-34P13.7  | 16 |\n",
       "| 2 | chr1 | 131024 | 134836 | CICP27        | 4  |\n",
       "| 3 | chr1 | 141473 | 173862 | RP11-34P13.13 | 34 |\n",
       "| 4 | chr1 | 227614 | 267253 | AP006222.2    | 19 |\n",
       "| 5 | chr1 | 317719 | 453948 | RP4-669L17.10 | 10 |\n",
       "| 6 | chr1 | 536815 | 659930 | RP5-857K21.4  | 18 |\n",
       "\n"
      ],
      "text/plain": [
       "  new_dat_col1 new_dat_col2 new_dat_col3 new_dat_col4  new_dat_col5\n",
       "1 chr1         89294        133566       RP11-34P13.7  16          \n",
       "2 chr1         131024       134836       CICP27        4           \n",
       "3 chr1         141473       173862       RP11-34P13.13 34          \n",
       "4 chr1         227614       267253       AP006222.2    19          \n",
       "5 chr1         317719       453948       RP4-669L17.10 10          \n",
       "6 chr1         536815       659930       RP5-857K21.4  18          "
      ]
     },
     "metadata": {},
     "output_type": "display_data"
    }
   ],
   "source": [
    "head(new_dat)"
   ]
  },
  {
   "cell_type": "code",
   "execution_count": 6,
   "metadata": {
    "vscode": {
     "languageId": "r"
    }
   },
   "outputs": [],
   "source": [
    "    write.table(new_dat,\"/disk1/wenqing/tmp_data/ASD/ctr_male_pfc/AEI/32/geneWzRes_ad.txt\",quote=F,col.names=F,row.names=F,sep='\\t')"
   ]
  }
 ],
 "metadata": {
  "kernelspec": {
   "display_name": "R",
   "language": "R",
   "name": "ir"
  },
  "language_info": {
   "codemirror_mode": "r",
   "file_extension": ".r",
   "mimetype": "text/x-r-source",
   "name": "R",
   "pygments_lexer": "r",
   "version": "4.3.1"
  },
  "orig_nbformat": 4
 },
 "nbformat": 4,
 "nbformat_minor": 2
}
