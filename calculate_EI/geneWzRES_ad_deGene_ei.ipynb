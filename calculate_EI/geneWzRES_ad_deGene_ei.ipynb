{
 "cells": [
  {
   "cell_type": "code",
   "execution_count": 1,
   "metadata": {
    "vscode": {
     "languageId": "r"
    }
   },
   "outputs": [],
   "source": [
    ".libPaths('/disk1/wenqing/anaconda3/envs/wq_R4.2/lib/R/library')"
   ]
  },
  {
   "cell_type": "code",
   "execution_count": 10,
   "metadata": {
    "vscode": {
     "languageId": "r"
    }
   },
   "outputs": [
    {
     "data": {
      "text/html": [
       "<table class=\"dataframe\">\n",
       "<caption>A data.frame: 6 × 5</caption>\n",
       "<thead>\n",
       "\t<tr><th></th><th scope=col>V1</th><th scope=col>V2</th><th scope=col>V3</th><th scope=col>V4</th><th scope=col>V5</th></tr>\n",
       "\t<tr><th></th><th scope=col>&lt;chr&gt;</th><th scope=col>&lt;int&gt;</th><th scope=col>&lt;int&gt;</th><th scope=col>&lt;chr&gt;</th><th scope=col>&lt;int&gt;</th></tr>\n",
       "</thead>\n",
       "<tbody>\n",
       "\t<tr><th scope=row>1</th><td>chr1</td><td>141473</td><td>173862</td><td>RP11-34P13.13</td><td> 5</td></tr>\n",
       "\t<tr><th scope=row>2</th><td>chr1</td><td>317719</td><td>453948</td><td>RP4-669L17.10</td><td>37</td></tr>\n",
       "\t<tr><th scope=row>3</th><td>chr1</td><td>536815</td><td>659930</td><td>RP5-857K21.4 </td><td> 3</td></tr>\n",
       "\t<tr><th scope=row>4</th><td>chr1</td><td>677192</td><td>685396</td><td>RP11-206L10.3</td><td> 4</td></tr>\n",
       "\t<tr><th scope=row>5</th><td>chr1</td><td>700236</td><td>714006</td><td>RP11-206L10.2</td><td> 3</td></tr>\n",
       "\t<tr><th scope=row>6</th><td>chr1</td><td>947376</td><td>948573</td><td>RP11-54O7.11 </td><td>12</td></tr>\n",
       "</tbody>\n",
       "</table>\n"
      ],
      "text/latex": [
       "A data.frame: 6 × 5\n",
       "\\begin{tabular}{r|lllll}\n",
       "  & V1 & V2 & V3 & V4 & V5\\\\\n",
       "  & <chr> & <int> & <int> & <chr> & <int>\\\\\n",
       "\\hline\n",
       "\t1 & chr1 & 141473 & 173862 & RP11-34P13.13 &  5\\\\\n",
       "\t2 & chr1 & 317719 & 453948 & RP4-669L17.10 & 37\\\\\n",
       "\t3 & chr1 & 536815 & 659930 & RP5-857K21.4  &  3\\\\\n",
       "\t4 & chr1 & 677192 & 685396 & RP11-206L10.3 &  4\\\\\n",
       "\t5 & chr1 & 700236 & 714006 & RP11-206L10.2 &  3\\\\\n",
       "\t6 & chr1 & 947376 & 948573 & RP11-54O7.11  & 12\\\\\n",
       "\\end{tabular}\n"
      ],
      "text/markdown": [
       "\n",
       "A data.frame: 6 × 5\n",
       "\n",
       "| <!--/--> | V1 &lt;chr&gt; | V2 &lt;int&gt; | V3 &lt;int&gt; | V4 &lt;chr&gt; | V5 &lt;int&gt; |\n",
       "|---|---|---|---|---|---|\n",
       "| 1 | chr1 | 141473 | 173862 | RP11-34P13.13 |  5 |\n",
       "| 2 | chr1 | 317719 | 453948 | RP4-669L17.10 | 37 |\n",
       "| 3 | chr1 | 536815 | 659930 | RP5-857K21.4  |  3 |\n",
       "| 4 | chr1 | 677192 | 685396 | RP11-206L10.3 |  4 |\n",
       "| 5 | chr1 | 700236 | 714006 | RP11-206L10.2 |  3 |\n",
       "| 6 | chr1 | 947376 | 948573 | RP11-54O7.11  | 12 |\n",
       "\n"
      ],
      "text/plain": [
       "  V1   V2     V3     V4            V5\n",
       "1 chr1 141473 173862 RP11-34P13.13  5\n",
       "2 chr1 317719 453948 RP4-669L17.10 37\n",
       "3 chr1 536815 659930 RP5-857K21.4   3\n",
       "4 chr1 677192 685396 RP11-206L10.3  4\n",
       "5 chr1 700236 714006 RP11-206L10.2  3\n",
       "6 chr1 947376 948573 RP11-54O7.11  12"
      ]
     },
     "metadata": {},
     "output_type": "display_data"
    }
   ],
   "source": [
    "a <- read.table('/disk1/wenqing/tmp_data/human_brain/gene_ei/19/regular/over0/geneWzRes_ad.txt')\n",
    "head(a)\n",
    "flag1 <- a$V3-a$V2 < 10000\n",
    "flag2 <- a$V5 > 100\n"
   ]
  },
  {
   "cell_type": "code",
   "execution_count": null,
   "metadata": {
    "vscode": {
     "languageId": "r"
    }
   },
   "outputs": [],
   "source": [
    "for(i in 1:nrow(a)){\n",
    "    if(flag1[i] & flag2[i]){\n",
    "        print(a$V4[i])\n",
    "    }\n",
    "}"
   ]
  },
  {
   "cell_type": "code",
   "execution_count": 2,
   "metadata": {
    "vscode": {
     "languageId": "r"
    }
   },
   "outputs": [],
   "source": [
    "find_gene_res_num <- function(x){\n",
    "    gene <- strsplit(uniq_gene_region[x],\"_\")[[1]][4]\n",
    "    res_num <- sum(dat$V8[dat$V4==gene])\n",
    "    return(res_num)\n",
    "}"
   ]
  },
  {
   "cell_type": "code",
   "execution_count": 4,
   "metadata": {
    "vscode": {
     "languageId": "r"
    }
   },
   "outputs": [],
   "source": [
    "for(path in c('124','126','128','129','131','132','133','134','137','138')){\n"
   ]
  },
  {
   "cell_type": "code",
   "execution_count": 6,
   "metadata": {
    "vscode": {
     "languageId": "r"
    }
   },
   "outputs": [],
   "source": [
    "\n",
    "    dat <- read.table(\"/disk1/wenqing/tmp_data/ASD/asd_male_pfc/gene_ei_onecell/17/geneWithRegular_res.txt\")\n",
    "\n",
    "    dat$V10 <- paste0(dat$V1,\"_\",dat$V2,\"_\",dat$V3,\"_\",dat$V4)\n",
    "    #head(dat)\n",
    "    uniq_gene_region <- unique(dat$V10)\n",
    "    #length(uniq_gene_region)\n",
    "\n",
    "    gene_res_num <- apply(as.matrix(1:length(uniq_gene_region)),1,find_gene_res_num)\n",
    "\n",
    "\n",
    "    new_dat_col1 <- apply(as.matrix(1:length(uniq_gene_region)),1,function(x) {col1 <- strsplit(uniq_gene_region[x],\"_\")[[1]][1]})\n",
    "    new_dat_col2 <- apply(as.matrix(1:length(uniq_gene_region)),1,function(x) {col1 <- strsplit(uniq_gene_region[x],\"_\")[[1]][2]})\n",
    "    new_dat_col3 <- apply(as.matrix(1:length(uniq_gene_region)),1,function(x) {col1 <- strsplit(uniq_gene_region[x],\"_\")[[1]][3]})\n",
    "    new_dat_col4 <- apply(as.matrix(1:length(uniq_gene_region)),1,function(x) {col1 <- strsplit(uniq_gene_region[x],\"_\")[[1]][4]})\n",
    "    new_dat_col5 <- gene_res_num\n",
    "    new_dat <- as.data.frame(cbind(new_dat_col1,new_dat_col2,new_dat_col3,new_dat_col4,new_dat_col5))\n",
    "    write.table(new_dat,\"/disk1/wenqing/tmp_data/ASD/asd_male_pfc/gene_ei_onecell/17/geneWzRes_ad.txt\",quote=F,col.names=F,row.names=F,sep='\\t')\n"
   ]
  },
  {
   "cell_type": "code",
   "execution_count": null,
   "metadata": {
    "vscode": {
     "languageId": "r"
    }
   },
   "outputs": [],
   "source": [
    "library(pheatmap)\n",
    "library(DESeq2)"
   ]
  },
  {
   "cell_type": "code",
   "execution_count": 15,
   "metadata": {
    "vscode": {
     "languageId": "r"
    }
   },
   "outputs": [],
   "source": [
    "#########asd Vs ctr gene ei差异\n",
    "asd_284 <- read.table('/disk1/wenqing/tmp_data/ASD_bulk/asd/gene_ei/284/regular_EI_inGene_over0.txt')\n",
    "asd_285 <- read.table('/disk1/wenqing/tmp_data/ASD_bulk/asd/gene_ei/285/regular_EI_inGene_over0.txt')\n",
    "asd_288 <- read.table('/disk1/wenqing/tmp_data/ASD_bulk/asd/gene_ei/288/regular_EI_inGene_over0.txt')\n",
    "asd_289 <- read.table('/disk1/wenqing/tmp_data/ASD_bulk/asd/gene_ei/289/regular_EI_inGene_over0.txt')\n",
    "asd_290 <- read.table('/disk1/wenqing/tmp_data/ASD_bulk/asd/gene_ei/290/regular_EI_inGene_over0.txt')\n",
    "asd_291 <- read.table('/disk1/wenqing/tmp_data/ASD_bulk/asd/gene_ei/291/regular_EI_inGene_over0.txt')\n",
    "asd_292 <- read.table('/disk1/wenqing/tmp_data/ASD_bulk/asd/gene_ei/292/regular_EI_inGene_over0.txt')\n",
    "asd_293 <- read.table('/disk1/wenqing/tmp_data/ASD_bulk/asd/gene_ei/293/regular_EI_inGene_over0.txt')\n",
    "asd_299 <- read.table('/disk1/wenqing/tmp_data/ASD_bulk/asd/gene_ei/299/regular_EI_inGene_over0.txt')\n",
    "asd_300 <- read.table('/disk1/wenqing/tmp_data/ASD_bulk/asd/gene_ei/300/regular_EI_inGene_over0.txt')\n",
    "\n"
   ]
  },
  {
   "cell_type": "code",
   "execution_count": 18,
   "metadata": {
    "vscode": {
     "languageId": "r"
    }
   },
   "outputs": [
    {
     "data": {
      "text/html": [
       "761"
      ],
      "text/latex": [
       "761"
      ],
      "text/markdown": [
       "761"
      ],
      "text/plain": [
       "[1] 761"
      ]
     },
     "metadata": {},
     "output_type": "display_data"
    }
   ],
   "source": [
    "shared_genes <- intersect(rownames(asd_284),rownames(asd_285))\n",
    "shared_genes <- intersect(shared_genes,rownames(asd_288))\n",
    "shared_genes <- intersect(shared_genes,rownames(asd_289))\n",
    "shared_genes <- intersect(shared_genes,rownames(asd_290))\n",
    "shared_genes <- intersect(shared_genes,rownames(asd_291))\n",
    "shared_genes <- intersect(shared_genes,rownames(asd_292))\n",
    "shared_genes <- intersect(shared_genes,rownames(asd_293))\n",
    "shared_genes <- intersect(shared_genes,rownames(asd_299))\n",
    "shared_genes <- intersect(shared_genes,rownames(asd_300))\n",
    "length(shared_genes)"
   ]
  },
  {
   "cell_type": "code",
   "execution_count": 16,
   "metadata": {
    "vscode": {
     "languageId": "r"
    }
   },
   "outputs": [],
   "source": [
    "#########asd Vs ctr gene ei差异\n",
    "ctr_124 <- read.table('/disk1/wenqing/tmp_data/ASD_bulk/ctr/gene_ei/124/regular_EI_inGene_over0.txt')\n",
    "ctr_126 <- read.table('/disk1/wenqing/tmp_data/ASD_bulk/ctr/gene_ei/126/regular_EI_inGene_over0.txt')\n",
    "ctr_128 <- read.table('/disk1/wenqing/tmp_data/ASD_bulk/ctr/gene_ei/128/regular_EI_inGene_over0.txt')\n",
    "ctr_129 <- read.table('/disk1/wenqing/tmp_data/ASD_bulk/ctr/gene_ei/129/regular_EI_inGene_over0.txt')\n",
    "ctr_131 <- read.table('/disk1/wenqing/tmp_data/ASD_bulk/ctr/gene_ei/131/regular_EI_inGene_over0.txt')\n",
    "ctr_132 <- read.table('/disk1/wenqing/tmp_data/ASD_bulk/ctr/gene_ei/132/regular_EI_inGene_over0.txt')\n",
    "ctr_133 <- read.table('/disk1/wenqing/tmp_data/ASD_bulk/ctr/gene_ei/133/regular_EI_inGene_over0.txt')\n",
    "ctr_134 <- read.table('/disk1/wenqing/tmp_data/ASD_bulk/ctr/gene_ei/134/regular_EI_inGene_over0.txt')\n",
    "ctr_137 <- read.table('/disk1/wenqing/tmp_data/ASD_bulk/ctr/gene_ei/137/regular_EI_inGene_over0.txt')\n",
    "ctr_138 <- read.table('/disk1/wenqing/tmp_data/ASD_bulk/ctr/gene_ei/138/regular_EI_inGene_over0.txt')\n"
   ]
  },
  {
   "cell_type": "code",
   "execution_count": 19,
   "metadata": {
    "vscode": {
     "languageId": "r"
    }
   },
   "outputs": [
    {
     "data": {
      "text/html": [
       "416"
      ],
      "text/latex": [
       "416"
      ],
      "text/markdown": [
       "416"
      ],
      "text/plain": [
       "[1] 416"
      ]
     },
     "metadata": {},
     "output_type": "display_data"
    }
   ],
   "source": [
    "shared_genes_ctr <- intersect(rownames(ctr_124),rownames(ctr_126))\n",
    "shared_genes_ctr <- intersect(shared_genes_ctr,rownames(ctr_128))\n",
    "shared_genes_ctr <- intersect(shared_genes_ctr,rownames(ctr_129))\n",
    "shared_genes_ctr <- intersect(shared_genes_ctr,rownames(ctr_131))\n",
    "shared_genes_ctr <- intersect(shared_genes_ctr,rownames(ctr_132))\n",
    "shared_genes_ctr <- intersect(shared_genes_ctr,rownames(ctr_133))\n",
    "shared_genes_ctr <- intersect(shared_genes_ctr,rownames(ctr_134))\n",
    "shared_genes_ctr <- intersect(shared_genes_ctr,rownames(ctr_137))\n",
    "shared_genes_ctr <- intersect(shared_genes_ctr,rownames(ctr_138))\n",
    "length(shared_genes_ctr)"
   ]
  },
  {
   "cell_type": "code",
   "execution_count": 21,
   "metadata": {
    "vscode": {
     "languageId": "r"
    }
   },
   "outputs": [
    {
     "data": {
      "text/html": [
       "311"
      ],
      "text/latex": [
       "311"
      ],
      "text/markdown": [
       "311"
      ],
      "text/plain": [
       "[1] 311"
      ]
     },
     "metadata": {},
     "output_type": "display_data"
    }
   ],
   "source": [
    "shared_genes_all <- intersect(shared_genes,shared_genes_ctr)\n",
    "length(shared_genes_all)"
   ]
  },
  {
   "cell_type": "code",
   "execution_count": 57,
   "metadata": {
    "vscode": {
     "languageId": "r"
    }
   },
   "outputs": [],
   "source": [
    "data <- as.data.frame(cbind(asd_284[shared_genes_all,],asd_285[shared_genes_all,],asd_288[shared_genes_all,],asd_289[shared_genes_all,],asd_290[shared_genes_all,],\n",
    "                asd_291[shared_genes_all,],asd_292[shared_genes_all,],asd_293[shared_genes_all,],asd_299[shared_genes_all,],asd_300[shared_genes_all,],\n",
    "                ctr_124[shared_genes_all,],ctr_126[shared_genes_all,],ctr_128[shared_genes_all,],ctr_129[shared_genes_all,],ctr_131[shared_genes_all,],\n",
    "                ctr_132[shared_genes_all,],ctr_133[shared_genes_all,],ctr_134[shared_genes_all,],ctr_137[shared_genes_all,],ctr_138[shared_genes_all,]))"
   ]
  },
  {
   "cell_type": "code",
   "execution_count": 58,
   "metadata": {
    "vscode": {
     "languageId": "r"
    }
   },
   "outputs": [],
   "source": [
    "colnames(data) <- c('asd_284','asd_285','asd_288','asd_289','asd_290','asd_291','asd_292','asd_293','asd_299','asd_300',\n",
    "                    'ctr_124','ctr_126','ctr_128','ctr_129','ctr_131','ctr_132','ctr_133','ctr_134','ctr_137','ctr_138')\n",
    "\n",
    "rownames(data) <- shared_genes_all"
   ]
  },
  {
   "cell_type": "code",
   "execution_count": 59,
   "metadata": {
    "vscode": {
     "languageId": "r"
    }
   },
   "outputs": [
    {
     "data": {
      "text/html": [
       "20"
      ],
      "text/latex": [
       "20"
      ],
      "text/markdown": [
       "20"
      ],
      "text/plain": [
       "[1] 20"
      ]
     },
     "metadata": {},
     "output_type": "display_data"
    }
   ],
   "source": [
    "ncol(data)"
   ]
  },
  {
   "cell_type": "code",
   "execution_count": 10,
   "metadata": {
    "vscode": {
     "languageId": "r"
    }
   },
   "outputs": [],
   "source": [
    "annotation_col = data.frame(\n",
    "  condition = factor(rep(c(\"Asd\",\"Ctr\"),each=10)),\n",
    "  phases = factor(c(\"284\",\"285\",\"288\",\"289\",\"290\",\"291\",\"292\",\"293\",\"299\",\"300\",\"124\",\"126\",\"128\",\"129\",\"131\",\"132\",\"133\",\"134\",\"137\",\"138\"))\n",
    "  #phases = factor(rep(c(\"16\",\"20\",'25'),times=3))\n",
    ")\n"
   ]
  },
  {
   "cell_type": "code",
   "execution_count": 56,
   "metadata": {
    "vscode": {
     "languageId": "r"
    }
   },
   "outputs": [
    {
     "data": {
      "text/html": [
       "<style>\n",
       ".list-inline {list-style: none; margin:0; padding: 0}\n",
       ".list-inline>li {display: inline-block}\n",
       ".list-inline>li:not(:last-child)::after {content: \"\\00b7\"; padding: 0 .5ex}\n",
       "</style>\n",
       "<ol class=list-inline><li>20</li><li>2</li></ol>\n"
      ],
      "text/latex": [
       "\\begin{enumerate*}\n",
       "\\item 20\n",
       "\\item 2\n",
       "\\end{enumerate*}\n"
      ],
      "text/markdown": [
       "1. 20\n",
       "2. 2\n",
       "\n",
       "\n"
      ],
      "text/plain": [
       "[1] 20  2"
      ]
     },
     "metadata": {},
     "output_type": "display_data"
    }
   ],
   "source": [
    "dim(annotation_col)"
   ]
  },
  {
   "cell_type": "code",
   "execution_count": 61,
   "metadata": {
    "vscode": {
     "languageId": "r"
    }
   },
   "outputs": [],
   "source": [
    "rownames(annotation_col) <- colnames(data)"
   ]
  },
  {
   "cell_type": "code",
   "execution_count": 62,
   "metadata": {
    "vscode": {
     "languageId": "r"
    }
   },
   "outputs": [
    {
     "data": {
      "text/html": [
       "<table class=\"dataframe\">\n",
       "<caption>A data.frame: 6 × 20</caption>\n",
       "<thead>\n",
       "\t<tr><th></th><th scope=col>asd_284</th><th scope=col>asd_285</th><th scope=col>asd_288</th><th scope=col>asd_289</th><th scope=col>asd_290</th><th scope=col>asd_291</th><th scope=col>asd_292</th><th scope=col>asd_293</th><th scope=col>asd_299</th><th scope=col>asd_300</th><th scope=col>ctr_124</th><th scope=col>ctr_126</th><th scope=col>ctr_128</th><th scope=col>ctr_129</th><th scope=col>ctr_131</th><th scope=col>ctr_132</th><th scope=col>ctr_133</th><th scope=col>ctr_134</th><th scope=col>ctr_137</th><th scope=col>ctr_138</th></tr>\n",
       "\t<tr><th></th><th scope=col>&lt;dbl&gt;</th><th scope=col>&lt;dbl&gt;</th><th scope=col>&lt;dbl&gt;</th><th scope=col>&lt;dbl&gt;</th><th scope=col>&lt;dbl&gt;</th><th scope=col>&lt;dbl&gt;</th><th scope=col>&lt;dbl&gt;</th><th scope=col>&lt;dbl&gt;</th><th scope=col>&lt;dbl&gt;</th><th scope=col>&lt;dbl&gt;</th><th scope=col>&lt;dbl&gt;</th><th scope=col>&lt;dbl&gt;</th><th scope=col>&lt;dbl&gt;</th><th scope=col>&lt;dbl&gt;</th><th scope=col>&lt;dbl&gt;</th><th scope=col>&lt;dbl&gt;</th><th scope=col>&lt;dbl&gt;</th><th scope=col>&lt;dbl&gt;</th><th scope=col>&lt;dbl&gt;</th><th scope=col>&lt;dbl&gt;</th></tr>\n",
       "</thead>\n",
       "<tbody>\n",
       "\t<tr><th scope=row>C3orf83</th><td>99.66777</td><td>130.02191</td><td>42.46285</td><td>50.26810</td><td>16.86341</td><td>41.68983</td><td>22.55300</td><td>54.03580</td><td>39.81797</td><td> 53.41880</td><td>88.72286</td><td>85.85630</td><td> 27.67528</td><td>57.47126</td><td>33.24100</td><td>42.56966</td><td>17.80944</td><td>25.47307</td><td>55.03145</td><td>59.82906</td></tr>\n",
       "\t<tr><th scope=row>RNF115</th><td>45.53286</td><td> 71.56694</td><td>77.54552</td><td>42.86589</td><td>44.68135</td><td>55.06797</td><td>82.09539</td><td>90.23790</td><td>80.35356</td><td>104.70751</td><td>85.63336</td><td>88.89377</td><td>129.61296</td><td>70.44865</td><td>77.79134</td><td>71.34915</td><td>68.44693</td><td>40.99540</td><td>32.74733</td><td>63.77551</td></tr>\n",
       "\t<tr><th scope=row>FBXL18</th><td>33.31251</td><td> 82.61704</td><td>33.11628</td><td>39.27169</td><td>44.13682</td><td>58.20399</td><td>74.31629</td><td>59.19053</td><td>59.27425</td><td> 59.59476</td><td>47.87677</td><td>66.11432</td><td> 51.90311</td><td>20.24291</td><td>41.14468</td><td>57.66692</td><td>61.01630</td><td>85.74491</td><td>78.05907</td><td>39.03006</td></tr>\n",
       "\t<tr><th scope=row>XPOT</th><td>51.33342</td><td> 64.43530</td><td>63.13574</td><td>67.36842</td><td>30.39288</td><td>47.99089</td><td>65.22330</td><td>58.29904</td><td>79.55881</td><td> 43.34180</td><td>46.52766</td><td>22.18637</td><td> 44.15435</td><td>20.32520</td><td>41.90920</td><td>44.47662</td><td>58.54509</td><td>33.31113</td><td>51.00246</td><td>49.65753</td></tr>\n",
       "\t<tr><th scope=row>AC007390.5</th><td>11.33236</td><td> 11.91422</td><td>29.79886</td><td>40.91938</td><td>31.05882</td><td>35.99771</td><td>22.83644</td><td>51.20702</td><td>11.69591</td><td> 47.11220</td><td>58.46027</td><td>84.28657</td><td> 49.18337</td><td>41.84100</td><td>62.92606</td><td>59.76663</td><td>73.59829</td><td>73.88556</td><td>70.36060</td><td>41.46305</td></tr>\n",
       "\t<tr><th scope=row>RPS20</th><td>34.58413</td><td> 40.84440</td><td>38.25189</td><td>35.13015</td><td>39.06250</td><td>47.49536</td><td>64.65691</td><td>71.50675</td><td>54.97604</td><td> 49.73887</td><td>61.14703</td><td>91.17035</td><td> 30.68157</td><td>44.05286</td><td>65.38973</td><td>74.71878</td><td>62.05372</td><td>53.25050</td><td>42.02224</td><td>66.68918</td></tr>\n",
       "</tbody>\n",
       "</table>\n"
      ],
      "text/latex": [
       "A data.frame: 6 × 20\n",
       "\\begin{tabular}{r|llllllllllllllllllll}\n",
       "  & asd\\_284 & asd\\_285 & asd\\_288 & asd\\_289 & asd\\_290 & asd\\_291 & asd\\_292 & asd\\_293 & asd\\_299 & asd\\_300 & ctr\\_124 & ctr\\_126 & ctr\\_128 & ctr\\_129 & ctr\\_131 & ctr\\_132 & ctr\\_133 & ctr\\_134 & ctr\\_137 & ctr\\_138\\\\\n",
       "  & <dbl> & <dbl> & <dbl> & <dbl> & <dbl> & <dbl> & <dbl> & <dbl> & <dbl> & <dbl> & <dbl> & <dbl> & <dbl> & <dbl> & <dbl> & <dbl> & <dbl> & <dbl> & <dbl> & <dbl>\\\\\n",
       "\\hline\n",
       "\tC3orf83 & 99.66777 & 130.02191 & 42.46285 & 50.26810 & 16.86341 & 41.68983 & 22.55300 & 54.03580 & 39.81797 &  53.41880 & 88.72286 & 85.85630 &  27.67528 & 57.47126 & 33.24100 & 42.56966 & 17.80944 & 25.47307 & 55.03145 & 59.82906\\\\\n",
       "\tRNF115 & 45.53286 &  71.56694 & 77.54552 & 42.86589 & 44.68135 & 55.06797 & 82.09539 & 90.23790 & 80.35356 & 104.70751 & 85.63336 & 88.89377 & 129.61296 & 70.44865 & 77.79134 & 71.34915 & 68.44693 & 40.99540 & 32.74733 & 63.77551\\\\\n",
       "\tFBXL18 & 33.31251 &  82.61704 & 33.11628 & 39.27169 & 44.13682 & 58.20399 & 74.31629 & 59.19053 & 59.27425 &  59.59476 & 47.87677 & 66.11432 &  51.90311 & 20.24291 & 41.14468 & 57.66692 & 61.01630 & 85.74491 & 78.05907 & 39.03006\\\\\n",
       "\tXPOT & 51.33342 &  64.43530 & 63.13574 & 67.36842 & 30.39288 & 47.99089 & 65.22330 & 58.29904 & 79.55881 &  43.34180 & 46.52766 & 22.18637 &  44.15435 & 20.32520 & 41.90920 & 44.47662 & 58.54509 & 33.31113 & 51.00246 & 49.65753\\\\\n",
       "\tAC007390.5 & 11.33236 &  11.91422 & 29.79886 & 40.91938 & 31.05882 & 35.99771 & 22.83644 & 51.20702 & 11.69591 &  47.11220 & 58.46027 & 84.28657 &  49.18337 & 41.84100 & 62.92606 & 59.76663 & 73.59829 & 73.88556 & 70.36060 & 41.46305\\\\\n",
       "\tRPS20 & 34.58413 &  40.84440 & 38.25189 & 35.13015 & 39.06250 & 47.49536 & 64.65691 & 71.50675 & 54.97604 &  49.73887 & 61.14703 & 91.17035 &  30.68157 & 44.05286 & 65.38973 & 74.71878 & 62.05372 & 53.25050 & 42.02224 & 66.68918\\\\\n",
       "\\end{tabular}\n"
      ],
      "text/markdown": [
       "\n",
       "A data.frame: 6 × 20\n",
       "\n",
       "| <!--/--> | asd_284 &lt;dbl&gt; | asd_285 &lt;dbl&gt; | asd_288 &lt;dbl&gt; | asd_289 &lt;dbl&gt; | asd_290 &lt;dbl&gt; | asd_291 &lt;dbl&gt; | asd_292 &lt;dbl&gt; | asd_293 &lt;dbl&gt; | asd_299 &lt;dbl&gt; | asd_300 &lt;dbl&gt; | ctr_124 &lt;dbl&gt; | ctr_126 &lt;dbl&gt; | ctr_128 &lt;dbl&gt; | ctr_129 &lt;dbl&gt; | ctr_131 &lt;dbl&gt; | ctr_132 &lt;dbl&gt; | ctr_133 &lt;dbl&gt; | ctr_134 &lt;dbl&gt; | ctr_137 &lt;dbl&gt; | ctr_138 &lt;dbl&gt; |\n",
       "|---|---|---|---|---|---|---|---|---|---|---|---|---|---|---|---|---|---|---|---|---|\n",
       "| C3orf83 | 99.66777 | 130.02191 | 42.46285 | 50.26810 | 16.86341 | 41.68983 | 22.55300 | 54.03580 | 39.81797 |  53.41880 | 88.72286 | 85.85630 |  27.67528 | 57.47126 | 33.24100 | 42.56966 | 17.80944 | 25.47307 | 55.03145 | 59.82906 |\n",
       "| RNF115 | 45.53286 |  71.56694 | 77.54552 | 42.86589 | 44.68135 | 55.06797 | 82.09539 | 90.23790 | 80.35356 | 104.70751 | 85.63336 | 88.89377 | 129.61296 | 70.44865 | 77.79134 | 71.34915 | 68.44693 | 40.99540 | 32.74733 | 63.77551 |\n",
       "| FBXL18 | 33.31251 |  82.61704 | 33.11628 | 39.27169 | 44.13682 | 58.20399 | 74.31629 | 59.19053 | 59.27425 |  59.59476 | 47.87677 | 66.11432 |  51.90311 | 20.24291 | 41.14468 | 57.66692 | 61.01630 | 85.74491 | 78.05907 | 39.03006 |\n",
       "| XPOT | 51.33342 |  64.43530 | 63.13574 | 67.36842 | 30.39288 | 47.99089 | 65.22330 | 58.29904 | 79.55881 |  43.34180 | 46.52766 | 22.18637 |  44.15435 | 20.32520 | 41.90920 | 44.47662 | 58.54509 | 33.31113 | 51.00246 | 49.65753 |\n",
       "| AC007390.5 | 11.33236 |  11.91422 | 29.79886 | 40.91938 | 31.05882 | 35.99771 | 22.83644 | 51.20702 | 11.69591 |  47.11220 | 58.46027 | 84.28657 |  49.18337 | 41.84100 | 62.92606 | 59.76663 | 73.59829 | 73.88556 | 70.36060 | 41.46305 |\n",
       "| RPS20 | 34.58413 |  40.84440 | 38.25189 | 35.13015 | 39.06250 | 47.49536 | 64.65691 | 71.50675 | 54.97604 |  49.73887 | 61.14703 | 91.17035 |  30.68157 | 44.05286 | 65.38973 | 74.71878 | 62.05372 | 53.25050 | 42.02224 | 66.68918 |\n",
       "\n"
      ],
      "text/plain": [
       "           asd_284  asd_285   asd_288  asd_289  asd_290  asd_291  asd_292 \n",
       "C3orf83    99.66777 130.02191 42.46285 50.26810 16.86341 41.68983 22.55300\n",
       "RNF115     45.53286  71.56694 77.54552 42.86589 44.68135 55.06797 82.09539\n",
       "FBXL18     33.31251  82.61704 33.11628 39.27169 44.13682 58.20399 74.31629\n",
       "XPOT       51.33342  64.43530 63.13574 67.36842 30.39288 47.99089 65.22330\n",
       "AC007390.5 11.33236  11.91422 29.79886 40.91938 31.05882 35.99771 22.83644\n",
       "RPS20      34.58413  40.84440 38.25189 35.13015 39.06250 47.49536 64.65691\n",
       "           asd_293  asd_299  asd_300   ctr_124  ctr_126  ctr_128   ctr_129 \n",
       "C3orf83    54.03580 39.81797  53.41880 88.72286 85.85630  27.67528 57.47126\n",
       "RNF115     90.23790 80.35356 104.70751 85.63336 88.89377 129.61296 70.44865\n",
       "FBXL18     59.19053 59.27425  59.59476 47.87677 66.11432  51.90311 20.24291\n",
       "XPOT       58.29904 79.55881  43.34180 46.52766 22.18637  44.15435 20.32520\n",
       "AC007390.5 51.20702 11.69591  47.11220 58.46027 84.28657  49.18337 41.84100\n",
       "RPS20      71.50675 54.97604  49.73887 61.14703 91.17035  30.68157 44.05286\n",
       "           ctr_131  ctr_132  ctr_133  ctr_134  ctr_137  ctr_138 \n",
       "C3orf83    33.24100 42.56966 17.80944 25.47307 55.03145 59.82906\n",
       "RNF115     77.79134 71.34915 68.44693 40.99540 32.74733 63.77551\n",
       "FBXL18     41.14468 57.66692 61.01630 85.74491 78.05907 39.03006\n",
       "XPOT       41.90920 44.47662 58.54509 33.31113 51.00246 49.65753\n",
       "AC007390.5 62.92606 59.76663 73.59829 73.88556 70.36060 41.46305\n",
       "RPS20      65.38973 74.71878 62.05372 53.25050 42.02224 66.68918"
      ]
     },
     "metadata": {},
     "output_type": "display_data"
    }
   ],
   "source": [
    "head(data*10^4)"
   ]
  },
  {
   "cell_type": "code",
   "execution_count": 32,
   "metadata": {
    "vscode": {
     "languageId": "r"
    }
   },
   "outputs": [
    {
     "name": "stderr",
     "output_type": "stream",
     "text": [
      "converting counts to integer mode\n",
      "\n",
      "estimating size factors\n",
      "\n",
      "estimating dispersions\n",
      "\n",
      "gene-wise dispersion estimates\n",
      "\n",
      "mean-dispersion relationship\n",
      "\n",
      "final dispersion estimates\n",
      "\n",
      "fitting model and testing\n",
      "\n"
     ]
    }
   ],
   "source": [
    "#差异分析\n",
    "dds <- DESeqDataSetFromMatrix(countData = round(data*10^4), colData = annotation_col, design = ~ condition)\n",
    "\n",
    "\n",
    "dds <- DESeq(dds)\n",
    "res <- results(dds,contrast = c(\"condition\",\"Asd\",\"Ctr\"))\n",
    "res1 <- data.frame(res, stringsAsFactors = FALSE, check.names = FALSE)\n",
    "write.table(res1, \"/disk1/wenqing/tmp_data/ASD_bulk/de_gene_ei.txt\", col.names = NA, sep = '\\t', quote = FALSE)\n",
    "#res <- subset(res, padj < 0.1 & abs(log2FoldChange) > 1)\n",
    "\n"
   ]
  },
  {
   "cell_type": "code",
   "execution_count": 63,
   "metadata": {
    "vscode": {
     "languageId": "r"
    }
   },
   "outputs": [
    {
     "data": {
      "text/html": [
       "<table class=\"dataframe\">\n",
       "<caption>A data.frame: 6 × 20</caption>\n",
       "<thead>\n",
       "\t<tr><th></th><th scope=col>asd_284</th><th scope=col>asd_285</th><th scope=col>asd_288</th><th scope=col>asd_289</th><th scope=col>asd_290</th><th scope=col>asd_291</th><th scope=col>asd_292</th><th scope=col>asd_293</th><th scope=col>asd_299</th><th scope=col>asd_300</th><th scope=col>ctr_124</th><th scope=col>ctr_126</th><th scope=col>ctr_128</th><th scope=col>ctr_129</th><th scope=col>ctr_131</th><th scope=col>ctr_132</th><th scope=col>ctr_133</th><th scope=col>ctr_134</th><th scope=col>ctr_137</th><th scope=col>ctr_138</th></tr>\n",
       "\t<tr><th></th><th scope=col>&lt;dbl&gt;</th><th scope=col>&lt;dbl&gt;</th><th scope=col>&lt;dbl&gt;</th><th scope=col>&lt;dbl&gt;</th><th scope=col>&lt;dbl&gt;</th><th scope=col>&lt;dbl&gt;</th><th scope=col>&lt;dbl&gt;</th><th scope=col>&lt;dbl&gt;</th><th scope=col>&lt;dbl&gt;</th><th scope=col>&lt;dbl&gt;</th><th scope=col>&lt;dbl&gt;</th><th scope=col>&lt;dbl&gt;</th><th scope=col>&lt;dbl&gt;</th><th scope=col>&lt;dbl&gt;</th><th scope=col>&lt;dbl&gt;</th><th scope=col>&lt;dbl&gt;</th><th scope=col>&lt;dbl&gt;</th><th scope=col>&lt;dbl&gt;</th><th scope=col>&lt;dbl&gt;</th><th scope=col>&lt;dbl&gt;</th></tr>\n",
       "</thead>\n",
       "<tbody>\n",
       "\t<tr><th scope=row>C3orf83</th><td>10</td><td>13</td><td>4</td><td>5</td><td>2</td><td>4</td><td>2</td><td>5</td><td>4</td><td> 5</td><td>9</td><td>9</td><td> 3</td><td>6</td><td>3</td><td>4</td><td>2</td><td>3</td><td>6</td><td>6</td></tr>\n",
       "\t<tr><th scope=row>RNF115</th><td> 5</td><td> 7</td><td>8</td><td>4</td><td>4</td><td>6</td><td>8</td><td>9</td><td>8</td><td>10</td><td>9</td><td>9</td><td>13</td><td>7</td><td>8</td><td>7</td><td>7</td><td>4</td><td>3</td><td>6</td></tr>\n",
       "\t<tr><th scope=row>FBXL18</th><td> 3</td><td> 8</td><td>3</td><td>4</td><td>4</td><td>6</td><td>7</td><td>6</td><td>6</td><td> 6</td><td>5</td><td>7</td><td> 5</td><td>2</td><td>4</td><td>6</td><td>6</td><td>9</td><td>8</td><td>4</td></tr>\n",
       "\t<tr><th scope=row>XPOT</th><td> 5</td><td> 6</td><td>6</td><td>7</td><td>3</td><td>5</td><td>7</td><td>6</td><td>8</td><td> 4</td><td>5</td><td>2</td><td> 4</td><td>2</td><td>4</td><td>4</td><td>6</td><td>3</td><td>5</td><td>5</td></tr>\n",
       "\t<tr><th scope=row>AC007390.5</th><td> 1</td><td> 1</td><td>3</td><td>4</td><td>3</td><td>4</td><td>2</td><td>5</td><td>1</td><td> 5</td><td>6</td><td>8</td><td> 5</td><td>4</td><td>6</td><td>6</td><td>7</td><td>7</td><td>7</td><td>4</td></tr>\n",
       "\t<tr><th scope=row>RPS20</th><td> 3</td><td> 4</td><td>4</td><td>4</td><td>4</td><td>5</td><td>6</td><td>7</td><td>5</td><td> 5</td><td>6</td><td>9</td><td> 3</td><td>4</td><td>7</td><td>7</td><td>6</td><td>5</td><td>4</td><td>7</td></tr>\n",
       "</tbody>\n",
       "</table>\n"
      ],
      "text/latex": [
       "A data.frame: 6 × 20\n",
       "\\begin{tabular}{r|llllllllllllllllllll}\n",
       "  & asd\\_284 & asd\\_285 & asd\\_288 & asd\\_289 & asd\\_290 & asd\\_291 & asd\\_292 & asd\\_293 & asd\\_299 & asd\\_300 & ctr\\_124 & ctr\\_126 & ctr\\_128 & ctr\\_129 & ctr\\_131 & ctr\\_132 & ctr\\_133 & ctr\\_134 & ctr\\_137 & ctr\\_138\\\\\n",
       "  & <dbl> & <dbl> & <dbl> & <dbl> & <dbl> & <dbl> & <dbl> & <dbl> & <dbl> & <dbl> & <dbl> & <dbl> & <dbl> & <dbl> & <dbl> & <dbl> & <dbl> & <dbl> & <dbl> & <dbl>\\\\\n",
       "\\hline\n",
       "\tC3orf83 & 10 & 13 & 4 & 5 & 2 & 4 & 2 & 5 & 4 &  5 & 9 & 9 &  3 & 6 & 3 & 4 & 2 & 3 & 6 & 6\\\\\n",
       "\tRNF115 &  5 &  7 & 8 & 4 & 4 & 6 & 8 & 9 & 8 & 10 & 9 & 9 & 13 & 7 & 8 & 7 & 7 & 4 & 3 & 6\\\\\n",
       "\tFBXL18 &  3 &  8 & 3 & 4 & 4 & 6 & 7 & 6 & 6 &  6 & 5 & 7 &  5 & 2 & 4 & 6 & 6 & 9 & 8 & 4\\\\\n",
       "\tXPOT &  5 &  6 & 6 & 7 & 3 & 5 & 7 & 6 & 8 &  4 & 5 & 2 &  4 & 2 & 4 & 4 & 6 & 3 & 5 & 5\\\\\n",
       "\tAC007390.5 &  1 &  1 & 3 & 4 & 3 & 4 & 2 & 5 & 1 &  5 & 6 & 8 &  5 & 4 & 6 & 6 & 7 & 7 & 7 & 4\\\\\n",
       "\tRPS20 &  3 &  4 & 4 & 4 & 4 & 5 & 6 & 7 & 5 &  5 & 6 & 9 &  3 & 4 & 7 & 7 & 6 & 5 & 4 & 7\\\\\n",
       "\\end{tabular}\n"
      ],
      "text/markdown": [
       "\n",
       "A data.frame: 6 × 20\n",
       "\n",
       "| <!--/--> | asd_284 &lt;dbl&gt; | asd_285 &lt;dbl&gt; | asd_288 &lt;dbl&gt; | asd_289 &lt;dbl&gt; | asd_290 &lt;dbl&gt; | asd_291 &lt;dbl&gt; | asd_292 &lt;dbl&gt; | asd_293 &lt;dbl&gt; | asd_299 &lt;dbl&gt; | asd_300 &lt;dbl&gt; | ctr_124 &lt;dbl&gt; | ctr_126 &lt;dbl&gt; | ctr_128 &lt;dbl&gt; | ctr_129 &lt;dbl&gt; | ctr_131 &lt;dbl&gt; | ctr_132 &lt;dbl&gt; | ctr_133 &lt;dbl&gt; | ctr_134 &lt;dbl&gt; | ctr_137 &lt;dbl&gt; | ctr_138 &lt;dbl&gt; |\n",
       "|---|---|---|---|---|---|---|---|---|---|---|---|---|---|---|---|---|---|---|---|---|\n",
       "| C3orf83 | 10 | 13 | 4 | 5 | 2 | 4 | 2 | 5 | 4 |  5 | 9 | 9 |  3 | 6 | 3 | 4 | 2 | 3 | 6 | 6 |\n",
       "| RNF115 |  5 |  7 | 8 | 4 | 4 | 6 | 8 | 9 | 8 | 10 | 9 | 9 | 13 | 7 | 8 | 7 | 7 | 4 | 3 | 6 |\n",
       "| FBXL18 |  3 |  8 | 3 | 4 | 4 | 6 | 7 | 6 | 6 |  6 | 5 | 7 |  5 | 2 | 4 | 6 | 6 | 9 | 8 | 4 |\n",
       "| XPOT |  5 |  6 | 6 | 7 | 3 | 5 | 7 | 6 | 8 |  4 | 5 | 2 |  4 | 2 | 4 | 4 | 6 | 3 | 5 | 5 |\n",
       "| AC007390.5 |  1 |  1 | 3 | 4 | 3 | 4 | 2 | 5 | 1 |  5 | 6 | 8 |  5 | 4 | 6 | 6 | 7 | 7 | 7 | 4 |\n",
       "| RPS20 |  3 |  4 | 4 | 4 | 4 | 5 | 6 | 7 | 5 |  5 | 6 | 9 |  3 | 4 | 7 | 7 | 6 | 5 | 4 | 7 |\n",
       "\n"
      ],
      "text/plain": [
       "           asd_284 asd_285 asd_288 asd_289 asd_290 asd_291 asd_292 asd_293\n",
       "C3orf83    10      13      4       5       2       4       2       5      \n",
       "RNF115      5       7      8       4       4       6       8       9      \n",
       "FBXL18      3       8      3       4       4       6       7       6      \n",
       "XPOT        5       6      6       7       3       5       7       6      \n",
       "AC007390.5  1       1      3       4       3       4       2       5      \n",
       "RPS20       3       4      4       4       4       5       6       7      \n",
       "           asd_299 asd_300 ctr_124 ctr_126 ctr_128 ctr_129 ctr_131 ctr_132\n",
       "C3orf83    4        5      9       9        3      6       3       4      \n",
       "RNF115     8       10      9       9       13      7       8       7      \n",
       "FBXL18     6        6      5       7        5      2       4       6      \n",
       "XPOT       8        4      5       2        4      2       4       4      \n",
       "AC007390.5 1        5      6       8        5      4       6       6      \n",
       "RPS20      5        5      6       9        3      4       7       7      \n",
       "           ctr_133 ctr_134 ctr_137 ctr_138\n",
       "C3orf83    2       3       6       6      \n",
       "RNF115     7       4       3       6      \n",
       "FBXL18     6       9       8       4      \n",
       "XPOT       6       3       5       5      \n",
       "AC007390.5 7       7       7       4      \n",
       "RPS20      6       5       4       7      "
      ]
     },
     "metadata": {},
     "output_type": "display_data"
    },
    {
     "data": {
      "text/html": [
       "<table class=\"dataframe\">\n",
       "<caption>A data.frame: 20 × 2</caption>\n",
       "<thead>\n",
       "\t<tr><th></th><th scope=col>condition</th><th scope=col>phases</th></tr>\n",
       "\t<tr><th></th><th scope=col>&lt;fct&gt;</th><th scope=col>&lt;fct&gt;</th></tr>\n",
       "</thead>\n",
       "<tbody>\n",
       "\t<tr><th scope=row>asd_284</th><td>Asd</td><td>284</td></tr>\n",
       "\t<tr><th scope=row>asd_285</th><td>Asd</td><td>285</td></tr>\n",
       "\t<tr><th scope=row>asd_288</th><td>Asd</td><td>288</td></tr>\n",
       "\t<tr><th scope=row>asd_289</th><td>Asd</td><td>289</td></tr>\n",
       "\t<tr><th scope=row>asd_290</th><td>Asd</td><td>290</td></tr>\n",
       "\t<tr><th scope=row>asd_291</th><td>Asd</td><td>291</td></tr>\n",
       "\t<tr><th scope=row>asd_292</th><td>Asd</td><td>292</td></tr>\n",
       "\t<tr><th scope=row>asd_293</th><td>Asd</td><td>293</td></tr>\n",
       "\t<tr><th scope=row>asd_299</th><td>Asd</td><td>299</td></tr>\n",
       "\t<tr><th scope=row>asd_300</th><td>Asd</td><td>300</td></tr>\n",
       "\t<tr><th scope=row>ctr_124</th><td>Ctr</td><td>124</td></tr>\n",
       "\t<tr><th scope=row>ctr_126</th><td>Ctr</td><td>126</td></tr>\n",
       "\t<tr><th scope=row>ctr_128</th><td>Ctr</td><td>128</td></tr>\n",
       "\t<tr><th scope=row>ctr_129</th><td>Ctr</td><td>129</td></tr>\n",
       "\t<tr><th scope=row>ctr_131</th><td>Ctr</td><td>131</td></tr>\n",
       "\t<tr><th scope=row>ctr_132</th><td>Ctr</td><td>132</td></tr>\n",
       "\t<tr><th scope=row>ctr_133</th><td>Ctr</td><td>133</td></tr>\n",
       "\t<tr><th scope=row>ctr_134</th><td>Ctr</td><td>134</td></tr>\n",
       "\t<tr><th scope=row>ctr_137</th><td>Ctr</td><td>137</td></tr>\n",
       "\t<tr><th scope=row>ctr_138</th><td>Ctr</td><td>138</td></tr>\n",
       "</tbody>\n",
       "</table>\n"
      ],
      "text/latex": [
       "A data.frame: 20 × 2\n",
       "\\begin{tabular}{r|ll}\n",
       "  & condition & phases\\\\\n",
       "  & <fct> & <fct>\\\\\n",
       "\\hline\n",
       "\tasd\\_284 & Asd & 284\\\\\n",
       "\tasd\\_285 & Asd & 285\\\\\n",
       "\tasd\\_288 & Asd & 288\\\\\n",
       "\tasd\\_289 & Asd & 289\\\\\n",
       "\tasd\\_290 & Asd & 290\\\\\n",
       "\tasd\\_291 & Asd & 291\\\\\n",
       "\tasd\\_292 & Asd & 292\\\\\n",
       "\tasd\\_293 & Asd & 293\\\\\n",
       "\tasd\\_299 & Asd & 299\\\\\n",
       "\tasd\\_300 & Asd & 300\\\\\n",
       "\tctr\\_124 & Ctr & 124\\\\\n",
       "\tctr\\_126 & Ctr & 126\\\\\n",
       "\tctr\\_128 & Ctr & 128\\\\\n",
       "\tctr\\_129 & Ctr & 129\\\\\n",
       "\tctr\\_131 & Ctr & 131\\\\\n",
       "\tctr\\_132 & Ctr & 132\\\\\n",
       "\tctr\\_133 & Ctr & 133\\\\\n",
       "\tctr\\_134 & Ctr & 134\\\\\n",
       "\tctr\\_137 & Ctr & 137\\\\\n",
       "\tctr\\_138 & Ctr & 138\\\\\n",
       "\\end{tabular}\n"
      ],
      "text/markdown": [
       "\n",
       "A data.frame: 20 × 2\n",
       "\n",
       "| <!--/--> | condition &lt;fct&gt; | phases &lt;fct&gt; |\n",
       "|---|---|---|\n",
       "| asd_284 | Asd | 284 |\n",
       "| asd_285 | Asd | 285 |\n",
       "| asd_288 | Asd | 288 |\n",
       "| asd_289 | Asd | 289 |\n",
       "| asd_290 | Asd | 290 |\n",
       "| asd_291 | Asd | 291 |\n",
       "| asd_292 | Asd | 292 |\n",
       "| asd_293 | Asd | 293 |\n",
       "| asd_299 | Asd | 299 |\n",
       "| asd_300 | Asd | 300 |\n",
       "| ctr_124 | Ctr | 124 |\n",
       "| ctr_126 | Ctr | 126 |\n",
       "| ctr_128 | Ctr | 128 |\n",
       "| ctr_129 | Ctr | 129 |\n",
       "| ctr_131 | Ctr | 131 |\n",
       "| ctr_132 | Ctr | 132 |\n",
       "| ctr_133 | Ctr | 133 |\n",
       "| ctr_134 | Ctr | 134 |\n",
       "| ctr_137 | Ctr | 137 |\n",
       "| ctr_138 | Ctr | 138 |\n",
       "\n"
      ],
      "text/plain": [
       "        condition phases\n",
       "asd_284 Asd       284   \n",
       "asd_285 Asd       285   \n",
       "asd_288 Asd       288   \n",
       "asd_289 Asd       289   \n",
       "asd_290 Asd       290   \n",
       "asd_291 Asd       291   \n",
       "asd_292 Asd       292   \n",
       "asd_293 Asd       293   \n",
       "asd_299 Asd       299   \n",
       "asd_300 Asd       300   \n",
       "ctr_124 Ctr       124   \n",
       "ctr_126 Ctr       126   \n",
       "ctr_128 Ctr       128   \n",
       "ctr_129 Ctr       129   \n",
       "ctr_131 Ctr       131   \n",
       "ctr_132 Ctr       132   \n",
       "ctr_133 Ctr       133   \n",
       "ctr_134 Ctr       134   \n",
       "ctr_137 Ctr       137   \n",
       "ctr_138 Ctr       138   "
      ]
     },
     "metadata": {},
     "output_type": "display_data"
    }
   ],
   "source": [
    "head(round(data*10^3))\n",
    "annotation_col"
   ]
  },
  {
   "cell_type": "code",
   "execution_count": 68,
   "metadata": {
    "vscode": {
     "languageId": "r"
    }
   },
   "outputs": [
    {
     "data": {
      "image/png": "[encoded data removed]",
      "text/plain": [
       "plot without title"
      ]
     },
     "metadata": {
      "image/png": {
       "height": 420,
       "width": 420
      }
     },
     "output_type": "display_data"
    }
   ],
   "source": [
    "pheatmap(round(data*10^3), annotation_col = annotation_col, annotation_legend = TRUE,cluster_cols = F,cluster_rows = T,show_rownames=F)\n"
   ]
  },
  {
   "cell_type": "code",
   "execution_count": 78,
   "metadata": {
    "vscode": {
     "languageId": "r"
    }
   },
   "outputs": [],
   "source": [
    "p_vals <- c()\n",
    "for(i in 1:nrow(data)){\n",
    "    p_val <- wilcox.test(as.numeric(data[i,1:10])*100,as.numeric(data[i,11:20])*100)$p.value\n",
    "    p_vals <- c(p_vals,p_val)\n",
    "}\n"
   ]
  },
  {
   "cell_type": "code",
   "execution_count": 82,
   "metadata": {
    "vscode": {
     "languageId": "r"
    }
   },
   "outputs": [
    {
     "data": {
      "text/html": [
       "<style>\n",
       ".list-inline {list-style: none; margin:0; padding: 0}\n",
       ".list-inline>li {display: inline-block}\n",
       ".list-inline>li:not(:last-child)::after {content: \"\\00b7\"; padding: 0 .5ex}\n",
       "</style>\n",
       "<ol class=list-inline><li>'XPOT'</li><li>'AC007390.5'</li><li>'MPRIP'</li><li>'PPP6R2'</li><li>'OIP5-AS1'</li><li>'FBXO27'</li><li>'TXNDC15'</li><li>'POLR2J4'</li><li>'CTSB'</li><li>'IPP'</li><li>'SYT11'</li><li>'DCLRE1CP1'</li><li>'XIAP'</li><li>'AC007383.4'</li><li>'RASA4CP'</li><li>'DDOST'</li><li>'PLCXD1'</li><li>'C19orf52'</li><li>'INIP'</li><li>'ORAI2'</li><li>'CEBPZ'</li><li>'RP11-514P8.7'</li><li>'CRCP'</li></ol>\n"
      ],
      "text/latex": [
       "\\begin{enumerate*}\n",
       "\\item 'XPOT'\n",
       "\\item 'AC007390.5'\n",
       "\\item 'MPRIP'\n",
       "\\item 'PPP6R2'\n",
       "\\item 'OIP5-AS1'\n",
       "\\item 'FBXO27'\n",
       "\\item 'TXNDC15'\n",
       "\\item 'POLR2J4'\n",
       "\\item 'CTSB'\n",
       "\\item 'IPP'\n",
       "\\item 'SYT11'\n",
       "\\item 'DCLRE1CP1'\n",
       "\\item 'XIAP'\n",
       "\\item 'AC007383.4'\n",
       "\\item 'RASA4CP'\n",
       "\\item 'DDOST'\n",
       "\\item 'PLCXD1'\n",
       "\\item 'C19orf52'\n",
       "\\item 'INIP'\n",
       "\\item 'ORAI2'\n",
       "\\item 'CEBPZ'\n",
       "\\item 'RP11-514P8.7'\n",
       "\\item 'CRCP'\n",
       "\\end{enumerate*}\n"
      ],
      "text/markdown": [
       "1. 'XPOT'\n",
       "2. 'AC007390.5'\n",
       "3. 'MPRIP'\n",
       "4. 'PPP6R2'\n",
       "5. 'OIP5-AS1'\n",
       "6. 'FBXO27'\n",
       "7. 'TXNDC15'\n",
       "8. 'POLR2J4'\n",
       "9. 'CTSB'\n",
       "10. 'IPP'\n",
       "11. 'SYT11'\n",
       "12. 'DCLRE1CP1'\n",
       "13. 'XIAP'\n",
       "14. 'AC007383.4'\n",
       "15. 'RASA4CP'\n",
       "16. 'DDOST'\n",
       "17. 'PLCXD1'\n",
       "18. 'C19orf52'\n",
       "19. 'INIP'\n",
       "20. 'ORAI2'\n",
       "21. 'CEBPZ'\n",
       "22. 'RP11-514P8.7'\n",
       "23. 'CRCP'\n",
       "\n",
       "\n"
      ],
      "text/plain": [
       " [1] \"XPOT\"         \"AC007390.5\"   \"MPRIP\"        \"PPP6R2\"       \"OIP5-AS1\"    \n",
       " [6] \"FBXO27\"       \"TXNDC15\"      \"POLR2J4\"      \"CTSB\"         \"IPP\"         \n",
       "[11] \"SYT11\"        \"DCLRE1CP1\"    \"XIAP\"         \"AC007383.4\"   \"RASA4CP\"     \n",
       "[16] \"DDOST\"        \"PLCXD1\"       \"C19orf52\"     \"INIP\"         \"ORAI2\"       \n",
       "[21] \"CEBPZ\"        \"RP11-514P8.7\" \"CRCP\"        "
      ]
     },
     "metadata": {},
     "output_type": "display_data"
    }
   ],
   "source": [
    "de_gene_ei <- rownames(data)[p_vals < 0.05]\n",
    "de_gene_ei"
   ]
  },
  {
   "cell_type": "code",
   "execution_count": 3,
   "metadata": {
    "vscode": {
     "languageId": "r"
    }
   },
   "outputs": [],
   "source": [
    "gene_ei_17 <- read.table(\"/disk1/wenqing/tmp_data/ASD/asd_male_pfc/gene_ei/17/regular_EI_inGene_over1.txt\")\n",
    "gene_ei_18 <- read.table(\"/disk1/wenqing/tmp_data/ASD/asd_male_pfc/gene_ei/18/regular_EI_inGene_over1.txt\")\n",
    "gene_ei_57 <- read.table(\"/disk1/wenqing/tmp_data/ASD/asd_male_pfc/gene_ei/57/regular_EI_inGene_over1.txt\")\n",
    "\n",
    "gene_ei_20 <- read.table(\"/disk1/wenqing/tmp_data/ASD/ctr_male_pfc/gene_ei/20/regular_EI_inGene_over1.txt\")\n",
    "gene_ei_32 <- read.table(\"/disk1/wenqing/tmp_data/ASD/ctr_male_pfc/gene_ei/32/regular_EI_inGene_over1.txt\")\n",
    "gene_ei_56 <- read.table(\"/disk1/wenqing/tmp_data/ASD/ctr_male_pfc/gene_ei/56/regular_EI_inGene_over1.txt\")\n",
    "\n"
   ]
  },
  {
   "cell_type": "code",
   "execution_count": 5,
   "metadata": {
    "vscode": {
     "languageId": "r"
    }
   },
   "outputs": [
    {
     "data": {
      "text/html": [
       "11419"
      ],
      "text/latex": [
       "11419"
      ],
      "text/markdown": [
       "11419"
      ],
      "text/plain": [
       "[1] 11419"
      ]
     },
     "metadata": {},
     "output_type": "display_data"
    }
   ],
   "source": [
    "shared_genes <- intersect(rownames(gene_ei_17),rownames(gene_ei_18))\n",
    "shared_genes <- intersect(shared_genes,rownames(gene_ei_57))\n",
    "shared_genes <- intersect(shared_genes,rownames(gene_ei_20))\n",
    "shared_genes <- intersect(shared_genes,rownames(gene_ei_32))\n",
    "shared_genes <- intersect(shared_genes,rownames(gene_ei_56))\n",
    "\n",
    "length(shared_genes)"
   ]
  },
  {
   "cell_type": "code",
   "execution_count": 6,
   "metadata": {
    "vscode": {
     "languageId": "r"
    }
   },
   "outputs": [],
   "source": [
    "data <- cbind(gene_ei_17[shared_genes,],gene_ei_18[shared_genes,],gene_ei_57[shared_genes,],gene_ei_20[shared_genes,],gene_ei_32[shared_genes,],gene_ei_56[shared_genes,])"
   ]
  },
  {
   "cell_type": "code",
   "execution_count": 9,
   "metadata": {
    "vscode": {
     "languageId": "r"
    }
   },
   "outputs": [],
   "source": [
    "colnames(data) <- c('17','18','57','20','32','56')\n",
    "rownames(data) <- shared_genes"
   ]
  },
  {
   "cell_type": "code",
   "execution_count": 11,
   "metadata": {
    "vscode": {
     "languageId": "r"
    }
   },
   "outputs": [],
   "source": [
    "annotation_col = data.frame(\n",
    "  condition = factor(rep(c(\"Asd\",\"Ctr\"),each=3)),\n",
    "  phases = factor(c('17','18','57','20','32','56'))\n",
    "  #phases = factor(rep(c(\"16\",\"20\",'25'),times=3))\n",
    ")"
   ]
  },
  {
   "cell_type": "code",
   "execution_count": 18,
   "metadata": {
    "vscode": {
     "languageId": "r"
    }
   },
   "outputs": [],
   "source": [
    "rownames(annotation_col) <- colnames(data)"
   ]
  },
  {
   "cell_type": "code",
   "execution_count": 16,
   "metadata": {
    "vscode": {
     "languageId": "r"
    }
   },
   "outputs": [
    {
     "data": {
      "text/html": [
       "<table class=\"dataframe\">\n",
       "<caption>A matrix: 6 × 6 of type dbl</caption>\n",
       "<thead>\n",
       "\t<tr><th></th><th scope=col>17</th><th scope=col>18</th><th scope=col>57</th><th scope=col>20</th><th scope=col>32</th><th scope=col>56</th></tr>\n",
       "</thead>\n",
       "<tbody>\n",
       "\t<tr><th scope=row>RNF14</th><td>0.002000572</td><td>0.0009203146</td><td>0.0013227513</td><td>0.0030429821</td><td>0.002757811</td><td>0.0017042643</td></tr>\n",
       "\t<tr><th scope=row>UBE2Q2</th><td>0.001007290</td><td>0.0005812639</td><td>0.0005486493</td><td>0.0026068822</td><td>0.001788171</td><td>0.0018971696</td></tr>\n",
       "\t<tr><th scope=row>RNF10</th><td>0.001520270</td><td>0.0010233138</td><td>0.0021620555</td><td>0.0023436123</td><td>0.004052983</td><td>0.0012262649</td></tr>\n",
       "\t<tr><th scope=row>RNF11</th><td>0.003685041</td><td>0.0039814399</td><td>0.0031162333</td><td>0.0062397337</td><td>0.006735608</td><td>0.0030202003</td></tr>\n",
       "\t<tr><th scope=row>RNF13</th><td>0.001610408</td><td>0.0004234868</td><td>0.0008473336</td><td>0.0006383173</td><td>0.001232639</td><td>0.0006976692</td></tr>\n",
       "\t<tr><th scope=row>GTF2IP1</th><td>0.005861252</td><td>0.0024286418</td><td>0.0058630558</td><td>0.0064984773</td><td>0.006174863</td><td>0.0031352627</td></tr>\n",
       "</tbody>\n",
       "</table>\n"
      ],
      "text/latex": [
       "A matrix: 6 × 6 of type dbl\n",
       "\\begin{tabular}{r|llllll}\n",
       "  & 17 & 18 & 57 & 20 & 32 & 56\\\\\n",
       "\\hline\n",
       "\tRNF14 & 0.002000572 & 0.0009203146 & 0.0013227513 & 0.0030429821 & 0.002757811 & 0.0017042643\\\\\n",
       "\tUBE2Q2 & 0.001007290 & 0.0005812639 & 0.0005486493 & 0.0026068822 & 0.001788171 & 0.0018971696\\\\\n",
       "\tRNF10 & 0.001520270 & 0.0010233138 & 0.0021620555 & 0.0023436123 & 0.004052983 & 0.0012262649\\\\\n",
       "\tRNF11 & 0.003685041 & 0.0039814399 & 0.0031162333 & 0.0062397337 & 0.006735608 & 0.0030202003\\\\\n",
       "\tRNF13 & 0.001610408 & 0.0004234868 & 0.0008473336 & 0.0006383173 & 0.001232639 & 0.0006976692\\\\\n",
       "\tGTF2IP1 & 0.005861252 & 0.0024286418 & 0.0058630558 & 0.0064984773 & 0.006174863 & 0.0031352627\\\\\n",
       "\\end{tabular}\n"
      ],
      "text/markdown": [
       "\n",
       "A matrix: 6 × 6 of type dbl\n",
       "\n",
       "| <!--/--> | 17 | 18 | 57 | 20 | 32 | 56 |\n",
       "|---|---|---|---|---|---|---|\n",
       "| RNF14 | 0.002000572 | 0.0009203146 | 0.0013227513 | 0.0030429821 | 0.002757811 | 0.0017042643 |\n",
       "| UBE2Q2 | 0.001007290 | 0.0005812639 | 0.0005486493 | 0.0026068822 | 0.001788171 | 0.0018971696 |\n",
       "| RNF10 | 0.001520270 | 0.0010233138 | 0.0021620555 | 0.0023436123 | 0.004052983 | 0.0012262649 |\n",
       "| RNF11 | 0.003685041 | 0.0039814399 | 0.0031162333 | 0.0062397337 | 0.006735608 | 0.0030202003 |\n",
       "| RNF13 | 0.001610408 | 0.0004234868 | 0.0008473336 | 0.0006383173 | 0.001232639 | 0.0006976692 |\n",
       "| GTF2IP1 | 0.005861252 | 0.0024286418 | 0.0058630558 | 0.0064984773 | 0.006174863 | 0.0031352627 |\n",
       "\n"
      ],
      "text/plain": [
       "        17          18           57           20           32         \n",
       "RNF14   0.002000572 0.0009203146 0.0013227513 0.0030429821 0.002757811\n",
       "UBE2Q2  0.001007290 0.0005812639 0.0005486493 0.0026068822 0.001788171\n",
       "RNF10   0.001520270 0.0010233138 0.0021620555 0.0023436123 0.004052983\n",
       "RNF11   0.003685041 0.0039814399 0.0031162333 0.0062397337 0.006735608\n",
       "RNF13   0.001610408 0.0004234868 0.0008473336 0.0006383173 0.001232639\n",
       "GTF2IP1 0.005861252 0.0024286418 0.0058630558 0.0064984773 0.006174863\n",
       "        56          \n",
       "RNF14   0.0017042643\n",
       "UBE2Q2  0.0018971696\n",
       "RNF10   0.0012262649\n",
       "RNF11   0.0030202003\n",
       "RNF13   0.0006976692\n",
       "GTF2IP1 0.0031352627"
      ]
     },
     "metadata": {},
     "output_type": "display_data"
    }
   ],
   "source": [
    "head(data)"
   ]
  },
  {
   "cell_type": "code",
   "execution_count": 19,
   "metadata": {
    "vscode": {
     "languageId": "r"
    }
   },
   "outputs": [
    {
     "name": "stderr",
     "output_type": "stream",
     "text": [
      "converting counts to integer mode\n",
      "\n",
      "estimating size factors\n",
      "\n",
      "estimating dispersions\n",
      "\n",
      "gene-wise dispersion estimates\n",
      "\n",
      "mean-dispersion relationship\n",
      "\n",
      "final dispersion estimates\n",
      "\n",
      "fitting model and testing\n",
      "\n"
     ]
    }
   ],
   "source": [
    "dds <- DESeqDataSetFromMatrix(countData = round(data*10^4), colData = annotation_col, design = ~ condition)\n",
    "\n",
    "\n",
    "dds <- DESeq(dds)\n",
    "res <- results(dds,contrast = c(\"condition\",\"Asd\",\"Ctr\"))\n",
    "res1 <- data.frame(res, stringsAsFactors = FALSE, check.names = FALSE)"
   ]
  },
  {
   "cell_type": "code",
   "execution_count": 69,
   "metadata": {
    "vscode": {
     "languageId": "r"
    }
   },
   "outputs": [
    {
     "name": "stdout",
     "output_type": "stream",
     "text": [
      "DESeq                  package:DESeq2                  R Documentation\n",
      "\n",
      "_\bD_\bi_\bf_\bf_\be_\br_\be_\bn_\bt_\bi_\ba_\bl _\be_\bx_\bp_\br_\be_\bs_\bs_\bi_\bo_\bn _\ba_\bn_\ba_\bl_\by_\bs_\bi_\bs _\bb_\ba_\bs_\be_\bd _\bo_\bn _\bt_\bh_\be _\bN_\be_\bg_\ba_\bt_\bi_\bv_\be _\bB_\bi_\bn_\bo_\bm_\bi_\ba_\bl (_\ba._\bk._\ba.\n",
      "_\bG_\ba_\bm_\bm_\ba-_\bP_\bo_\bi_\bs_\bs_\bo_\bn) _\bd_\bi_\bs_\bt_\br_\bi_\bb_\bu_\bt_\bi_\bo_\bn\n",
      "\n",
      "_\bD_\be_\bs_\bc_\br_\bi_\bp_\bt_\bi_\bo_\bn:\n",
      "\n",
      "     This function performs a default analysis through the steps:\n",
      "\n",
      "       1. estimation of size factors: ‘estimateSizeFactors’\n",
      "\n",
      "       2. estimation of dispersion: ‘estimateDispersions’\n",
      "\n",
      "       3. Negative Binomial GLM fitting and Wald statistics:\n",
      "          ‘nbinomWaldTest’\n",
      "\n",
      "     For complete details on each step, see the manual pages of the\n",
      "     respective functions. After the ‘DESeq’ function returns a\n",
      "     DESeqDataSet object, results tables (log2 fold changes and\n",
      "     p-values) can be generated using the ‘results’ function. Shrunken\n",
      "     LFC can then be generated using the ‘lfcShrink’ function.  All\n",
      "     support questions should be posted to the Bioconductor support\n",
      "     site: <http://support.bioconductor.org>.\n",
      "\n",
      "_\bU_\bs_\ba_\bg_\be:\n",
      "\n",
      "     DESeq(\n",
      "       object,\n",
      "       test = c(\"Wald\", \"LRT\"),\n",
      "       fitType = c(\"parametric\", \"local\", \"mean\", \"glmGamPoi\"),\n",
      "       sfType = c(\"ratio\", \"poscounts\", \"iterate\"),\n",
      "       betaPrior,\n",
      "       full = design(object),\n",
      "       reduced,\n",
      "       quiet = FALSE,\n",
      "       minReplicatesForReplace = 7,\n",
      "       modelMatrixType,\n",
      "       useT = FALSE,\n",
      "       minmu = if (fitType == \"glmGamPoi\") 1e-06 else 0.5,\n",
      "       parallel = FALSE,\n",
      "       BPPARAM = bpparam()\n",
      "     )\n",
      "     \n",
      "_\bA_\br_\bg_\bu_\bm_\be_\bn_\bt_\bs:\n",
      "\n",
      "  object: a DESeqDataSet object, see the constructor functions\n",
      "          ‘DESeqDataSet’, ‘DESeqDataSetFromMatrix’,\n",
      "          ‘DESeqDataSetFromHTSeqCount’.\n",
      "\n",
      "    test: either \"Wald\" or \"LRT\", which will then use either Wald\n",
      "          significance tests (defined by ‘nbinomWaldTest’), or the\n",
      "          likelihood ratio test on the difference in deviance between a\n",
      "          full and reduced model formula (defined by ‘nbinomLRT’)\n",
      "\n",
      " fitType: either \"parametric\", \"local\", \"mean\", or \"glmGamPoi\" for the\n",
      "          type of fitting of dispersions to the mean intensity. See\n",
      "          ‘estimateDispersions’ for description.\n",
      "\n",
      "  sfType: either \"ratio\", \"poscounts\", or \"iterate\" for the type of\n",
      "          size factor estimation. See ‘estimateSizeFactors’ for\n",
      "          description.\n",
      "\n",
      "betaPrior: whether or not to put a zero-mean normal prior on the\n",
      "          non-intercept coefficients See ‘nbinomWaldTest’ for\n",
      "          description of the calculation of the beta prior. In versions\n",
      "          ‘>=1.16’, the default is set to ‘FALSE’, and shrunken LFCs\n",
      "          are obtained afterwards using ‘lfcShrink’.\n",
      "\n",
      "    full: for ‘test=\"LRT\"’, the full model formula, which is restricted\n",
      "          to the formula in ‘design(object)’. alternatively, it can be\n",
      "          a model matrix constructed by the user. advanced use:\n",
      "          specifying a model matrix for full and ‘test=\"Wald\"’ is\n",
      "          possible if ‘betaPrior=FALSE’\n",
      "\n",
      " reduced: for ‘test=\"LRT\"’, a reduced formula to compare against, i.e.,\n",
      "          the full formula with the term(s) of interest removed.\n",
      "          alternatively, it can be a model matrix constructed by the\n",
      "          user\n",
      "\n",
      "   quiet: whether to print messages at each step\n",
      "\n",
      "minReplicatesForReplace: the minimum number of replicates required in\n",
      "          order to use ‘replaceOutliers’ on a sample. If there are\n",
      "          samples with so many replicates, the model will be refit\n",
      "          after these replacing outliers, flagged by Cook's distance.\n",
      "          Set to ‘Inf’ in order to never replace outliers. It set to\n",
      "          ‘Inf’ for ‘fitType=\"glmGamPoi\"’.\n",
      "\n",
      "modelMatrixType: either \"standard\" or \"expanded\", which describe how\n",
      "          the model matrix, X of the GLM formula is formed. \"standard\"\n",
      "          is as created by ‘model.matrix’ using the design formula.\n",
      "          \"expanded\" includes an indicator variable for each level of\n",
      "          factors in addition to an intercept. for more information see\n",
      "          the Description of ‘nbinomWaldTest’. betaPrior must be set to\n",
      "          TRUE in order for expanded model matrices to be fit.\n",
      "\n",
      "    useT: logical, passed to ‘nbinomWaldTest’, default is FALSE, where\n",
      "          Wald statistics are assumed to follow a standard Normal\n",
      "\n",
      "   minmu: lower bound on the estimated count for fitting gene-wise\n",
      "          dispersion and for use with ‘nbinomWaldTest’ and ‘nbinomLRT’.\n",
      "          If ‘fitType=\"glmGamPoi\"’, then 1e-6 will be used (as this\n",
      "          fitType is optimized for single cell data, where a lower\n",
      "          minmu is recommended), otherwise the default value as\n",
      "          evaluated on bulk datasets is 0.5\n",
      "\n",
      "parallel: if FALSE, no parallelization. if TRUE, parallel execution\n",
      "          using ‘BiocParallel’, see next argument ‘BPPARAM’. Two notes\n",
      "          on running in parallel using ‘BiocParallel’: 1) it is\n",
      "          recommended to filter out genes where all samples have low\n",
      "          counts before running DESeq2 in parellel: this improves\n",
      "          efficiency as otherwise you will be sending data to child\n",
      "          processes, though those have little power for detection of\n",
      "          differences, and will likely be removed by independent\n",
      "          filtering anyway; 2) it may be advantageous to remove large,\n",
      "          unneeded objects from your current R environment before\n",
      "          calling ‘DESeq’, as it is possible that R's internal garbage\n",
      "          collection will copy these files while running on worker\n",
      "          nodes.\n",
      "\n",
      " BPPARAM: an optional parameter object passed internally to ‘bplapply’\n",
      "          when ‘parallel=TRUE’. If not specified, the parameters last\n",
      "          registered with ‘register’ will be used.\n",
      "\n",
      "_\bD_\be_\bt_\ba_\bi_\bl_\bs:\n",
      "\n",
      "     The differential expression analysis uses a generalized linear\n",
      "     model of the form:\n",
      "\n",
      "                          K_ij ~ NB(mu_ij, alpha_i)                     \n",
      "     \n",
      "                              mu_ij = s_j q_ij                          \n",
      "     \n",
      "                          log2(q_ij) = x_j. beta_i                      \n",
      "     \n",
      "     where counts K_ij for gene i, sample j are modeled using a\n",
      "     Negative Binomial distribution with fitted mean mu_ij and a\n",
      "     gene-specific dispersion parameter alpha_i. The fitted mean is\n",
      "     composed of a sample-specific size factor s_j and a parameter q_ij\n",
      "     proportional to the expected true concentration of fragments for\n",
      "     sample j. The coefficients beta_i give the log2 fold changes for\n",
      "     gene i for each column of the model matrix X. The sample-specific\n",
      "     size factors can be replaced by gene-specific normalization\n",
      "     factors for each sample using ‘normalizationFactors’.\n",
      "\n",
      "     For details on the fitting of the log2 fold changes and\n",
      "     calculation of p-values, see ‘nbinomWaldTest’ if using\n",
      "     ‘test=\"Wald\"’, or ‘nbinomLRT’ if using ‘test=\"LRT\"’.\n",
      "\n",
      "     Experiments without replicates do not allow for estimation of the\n",
      "     dispersion of counts around the expected value for each group,\n",
      "     which is critical for differential expression analysis. Analysis\n",
      "     without replicates was deprecated in v1.20 and is no longer\n",
      "     supported since v1.22.\n",
      "\n",
      "     The argument ‘minReplicatesForReplace’ is used to decide which\n",
      "     samples are eligible for automatic replacement in the case of\n",
      "     extreme Cook's distance. By default, ‘DESeq’ will replace outliers\n",
      "     if the Cook's distance is large for a sample which has 7 or more\n",
      "     replicates (including itself). Outlier replacement is turned off\n",
      "     entirely for ‘fitType=\"glmGamPoi\"’. This replacement is performed\n",
      "     by the ‘replaceOutliers’ function. This default behavior helps to\n",
      "     prevent filtering genes based on Cook's distance when there are\n",
      "     many degrees of freedom. See ‘results’ for more information about\n",
      "     filtering using Cook's distance, and the 'Dealing with outliers'\n",
      "     section of the vignette. Unlike the behavior of ‘replaceOutliers’,\n",
      "     here original counts are kept in the matrix returned by ‘counts’,\n",
      "     original Cook's distances are kept in ‘assays(dds)[[\"cooks\"]]’,\n",
      "     and the replacement counts used for fitting are kept in\n",
      "     ‘assays(dds)[[\"replaceCounts\"]]’.\n",
      "\n",
      "     Note that if a log2 fold change prior is used (betaPrior=TRUE)\n",
      "     then expanded model matrices will be used in fitting. These are\n",
      "     described in ‘nbinomWaldTest’ and in the vignette. The ‘contrast’\n",
      "     argument of ‘results’ should be used for generating results\n",
      "     tables.\n",
      "\n",
      "_\bV_\ba_\bl_\bu_\be:\n",
      "\n",
      "     a ‘DESeqDataSet’ object with results stored as metadata columns.\n",
      "     These results should accessed by calling the ‘results’ function.\n",
      "     By default this will return the log2 fold changes and p-values for\n",
      "     the last variable in the design formula.  See ‘results’ for how to\n",
      "     access results for other variables.\n",
      "\n",
      "_\bA_\bu_\bt_\bh_\bo_\br(_\bs):\n",
      "\n",
      "     Michael Love\n",
      "\n",
      "_\bR_\be_\bf_\be_\br_\be_\bn_\bc_\be_\bs:\n",
      "\n",
      "     Love, M.I., Huber, W., Anders, S. (2014) Moderated estimation of\n",
      "     fold change and dispersion for RNA-seq data with DESeq2. Genome\n",
      "     Biology, 15:550. <https://doi.org/10.1186/s13059-014-0550-8>\n",
      "\n",
      "     For ‘fitType=\"glmGamPoi\"’:\n",
      "\n",
      "     Ahlmann-Eltze, C., Huber, W. (2020) glmGamPoi: Fitting\n",
      "     Gamma-Poisson Generalized Linear Models on Single Cell Count Data.\n",
      "     Bioinformatics. <https://doi.org/10.1093/bioinformatics/btaa1009>\n",
      "\n",
      "_\bS_\be_\be _\bA_\bl_\bs_\bo:\n",
      "\n",
      "     ‘link{results}’, ‘lfcShrink’, ‘nbinomWaldTest’, ‘nbinomLRT’\n",
      "\n",
      "_\bE_\bx_\ba_\bm_\bp_\bl_\be_\bs:\n",
      "\n",
      "     # see vignette for suggestions on generating\n",
      "     # count tables from RNA-Seq data\n",
      "     cnts <- matrix(rnbinom(n=1000, mu=100, size=1/0.5), ncol=10)\n",
      "     cond <- factor(rep(1:2, each=5))\n",
      "     \n",
      "     # object construction\n",
      "     dds <- DESeqDataSetFromMatrix(cnts, DataFrame(cond), ~ cond)\n",
      "     \n",
      "     # standard analysis\n",
      "     dds <- DESeq(dds)\n",
      "     res <- results(dds)\n",
      "     \n",
      "     # moderated log2 fold changes\n",
      "     resultsNames(dds)\n",
      "     resLFC <- lfcShrink(dds, coef=2, type=\"apeglm\")\n",
      "     \n",
      "     # an alternate analysis: likelihood ratio test\n",
      "     ddsLRT <- DESeq(dds, test=\"LRT\", reduced= ~ 1)\n",
      "     resLRT <- results(ddsLRT)\n",
      "     "
     ]
    }
   ],
   "source": [
    "?DESeq"
   ]
  },
  {
   "cell_type": "code",
   "execution_count": 68,
   "metadata": {
    "vscode": {
     "languageId": "r"
    }
   },
   "outputs": [
    {
     "data": {
      "text/html": [
       "<table class=\"dataframe\">\n",
       "<caption>A data.frame: 136 × 6</caption>\n",
       "<thead>\n",
       "\t<tr><th></th><th scope=col>baseMean</th><th scope=col>log2FoldChange</th><th scope=col>lfcSE</th><th scope=col>stat</th><th scope=col>pvalue</th><th scope=col>padj</th></tr>\n",
       "\t<tr><th></th><th scope=col>&lt;dbl&gt;</th><th scope=col>&lt;dbl&gt;</th><th scope=col>&lt;dbl&gt;</th><th scope=col>&lt;dbl&gt;</th><th scope=col>&lt;dbl&gt;</th><th scope=col>&lt;dbl&gt;</th></tr>\n",
       "</thead>\n",
       "<tbody>\n",
       "\t<tr><th scope=row>AATK-AS1</th><td> 37.860594</td><td> 2.050090</td><td>0.6265360</td><td> 3.272102</td><td>1.067510e-03</td><td>0.273081147</td></tr>\n",
       "\t<tr><th scope=row>UPK2</th><td>175.251072</td><td> 2.416106</td><td>0.4996011</td><td> 4.836071</td><td>1.324310e-06</td><td>0.003769427</td></tr>\n",
       "\t<tr><th scope=row>DGUOK-AS1</th><td> 78.767430</td><td> 2.835484</td><td>0.7324530</td><td> 3.871216</td><td>1.082938e-04</td><td>0.062739685</td></tr>\n",
       "\t<tr><th scope=row>C14orf132</th><td>  6.197961</td><td> 3.240593</td><td>1.0013409</td><td> 3.236253</td><td>1.211098e-03</td><td>         NA</td></tr>\n",
       "\t<tr><th scope=row>RP11-231C18.1</th><td> 82.279355</td><td> 2.933271</td><td>0.6841781</td><td> 4.287292</td><td>1.808648e-05</td><td>0.023465732</td></tr>\n",
       "\t<tr><th scope=row>RP11-195B21.3</th><td> 11.343127</td><td> 1.645280</td><td>0.6096669</td><td> 2.698654</td><td>6.962043e-03</td><td>         NA</td></tr>\n",
       "\t<tr><th scope=row>AC116366.6</th><td> 84.186931</td><td> 1.524666</td><td>0.5174373</td><td> 2.946572</td><td>3.213174e-03</td><td>0.454552359</td></tr>\n",
       "\t<tr><th scope=row>FSIP1</th><td> 13.454783</td><td>-1.724203</td><td>0.6052802</td><td>-2.848603</td><td>4.391158e-03</td><td>         NA</td></tr>\n",
       "\t<tr><th scope=row>ZNF837</th><td> 60.149633</td><td> 1.718344</td><td>0.5013834</td><td> 3.427206</td><td>6.098256e-04</td><td>0.200280804</td></tr>\n",
       "\t<tr><th scope=row>BIN2</th><td> 79.837014</td><td> 2.314833</td><td>0.7928601</td><td> 2.919598</td><td>3.504828e-03</td><td>0.461295684</td></tr>\n",
       "\t<tr><th scope=row>LRRC43</th><td> 63.195930</td><td> 1.694315</td><td>0.6349143</td><td> 2.668573</td><td>7.617424e-03</td><td>0.680620211</td></tr>\n",
       "\t<tr><th scope=row>CTD-2270L9.2</th><td>195.813282</td><td>-1.173233</td><td>0.4113296</td><td>-2.852293</td><td>4.340501e-03</td><td>0.537152674</td></tr>\n",
       "\t<tr><th scope=row>RP1-46F2.3</th><td>200.470705</td><td>-1.172881</td><td>0.3889588</td><td>-3.015439</td><td>2.566079e-03</td><td>0.413429262</td></tr>\n",
       "\t<tr><th scope=row>RP11-506B6.6</th><td> 24.767485</td><td>-1.993632</td><td>0.6737044</td><td>-2.959209</td><td>3.084302e-03</td><td>0.454083688</td></tr>\n",
       "\t<tr><th scope=row>EBF4</th><td> 17.627409</td><td> 2.452050</td><td>0.7505749</td><td> 3.266896</td><td>1.087336e-03</td><td>0.273081147</td></tr>\n",
       "\t<tr><th scope=row>ADCY10P1</th><td> 24.969921</td><td> 1.505067</td><td>0.5467732</td><td> 2.752635</td><td>5.911777e-03</td><td>0.655593001</td></tr>\n",
       "\t<tr><th scope=row>CTD-2568A17.1</th><td> 27.736050</td><td> 2.191908</td><td>0.8167151</td><td> 2.683810</td><td>7.278837e-03</td><td>0.680620211</td></tr>\n",
       "\t<tr><th scope=row>RNF6</th><td>  8.817174</td><td> 2.773925</td><td>1.0073202</td><td> 2.753767</td><td>5.891377e-03</td><td>         NA</td></tr>\n",
       "\t<tr><th scope=row>ADAM15</th><td> 39.842173</td><td> 1.247153</td><td>0.4638862</td><td> 2.688489</td><td>7.177626e-03</td><td>0.680620211</td></tr>\n",
       "\t<tr><th scope=row>SNRPA</th><td> 40.029461</td><td> 1.577323</td><td>0.5177768</td><td> 3.046337</td><td>2.316478e-03</td><td>0.391984292</td></tr>\n",
       "\t<tr><th scope=row>RP11-114H23.1</th><td> 21.675803</td><td> 2.257271</td><td>0.7659943</td><td> 2.946851</td><td>3.210275e-03</td><td>0.454552359</td></tr>\n",
       "\t<tr><th scope=row>RP11-101O21.1</th><td> 62.093095</td><td> 1.926984</td><td>0.5872831</td><td> 3.281184</td><td>1.033723e-03</td><td>0.273081147</td></tr>\n",
       "\t<tr><th scope=row>LIPC</th><td> 25.905117</td><td> 2.817894</td><td>0.8038952</td><td> 3.505300</td><td>4.560925e-04</td><td>0.155782938</td></tr>\n",
       "\t<tr><th scope=row>GPR160</th><td> 49.955623</td><td> 1.841451</td><td>0.5583214</td><td> 3.298192</td><td>9.730963e-04</td><td>0.268040942</td></tr>\n",
       "\t<tr><th scope=row>KIF2C</th><td>102.059996</td><td>-1.059213</td><td>0.3406397</td><td>-3.109480</td><td>1.874167e-03</td><td>0.347902445</td></tr>\n",
       "\t<tr><th scope=row>TJAP1</th><td> 21.598812</td><td> 2.930602</td><td>0.7114650</td><td> 4.119109</td><td>3.803407e-05</td><td>0.037274944</td></tr>\n",
       "\t<tr><th scope=row>AKT3-IT1</th><td>134.147319</td><td>-1.043200</td><td>0.4008770</td><td>-2.602294</td><td>9.260238e-03</td><td>0.689838554</td></tr>\n",
       "\t<tr><th scope=row>CTC-367J11.1</th><td> 72.115684</td><td>-1.507463</td><td>0.5168440</td><td>-2.916670</td><td>3.537897e-03</td><td>0.461295684</td></tr>\n",
       "\t<tr><th scope=row>CDR2L</th><td> 71.968766</td><td> 1.732353</td><td>0.5647444</td><td> 3.067499</td><td>2.158583e-03</td><td>0.384002960</td></tr>\n",
       "\t<tr><th scope=row>LINC00639</th><td> 10.196387</td><td> 2.654580</td><td>0.9610238</td><td> 2.762242</td><td>5.740598e-03</td><td>         NA</td></tr>\n",
       "\t<tr><th scope=row>⋮</th><td>⋮</td><td>⋮</td><td>⋮</td><td>⋮</td><td>⋮</td><td>⋮</td></tr>\n",
       "\t<tr><th scope=row>ARMC4</th><td> 10.249716</td><td>-2.116467</td><td>0.6849646</td><td>-3.089893</td><td>2.002284e-03</td><td>         NA</td></tr>\n",
       "\t<tr><th scope=row>C19orf68</th><td> 20.446366</td><td>-1.974032</td><td>0.7412665</td><td>-2.663054</td><td>7.743504e-03</td><td>0.680620211</td></tr>\n",
       "\t<tr><th scope=row>GVINP1</th><td> 36.145439</td><td> 1.268247</td><td>0.4791953</td><td> 2.646617</td><td>8.130140e-03</td><td>0.680620211</td></tr>\n",
       "\t<tr><th scope=row>UXS1</th><td> 18.234546</td><td> 1.399885</td><td>0.5326022</td><td> 2.628388</td><td>8.579053e-03</td><td>0.689838554</td></tr>\n",
       "\t<tr><th scope=row>SERHL</th><td>  9.997099</td><td>-2.324712</td><td>0.8853101</td><td>-2.625873</td><td>8.642708e-03</td><td>         NA</td></tr>\n",
       "\t<tr><th scope=row>MADCAM1</th><td> 17.457305</td><td>-1.888995</td><td>0.6737330</td><td>-2.803775</td><td>5.050819e-03</td><td>0.599013153</td></tr>\n",
       "\t<tr><th scope=row>ZNF783</th><td> 32.993596</td><td>-1.844674</td><td>0.5841089</td><td>-3.158100</td><td>1.588011e-03</td><td>0.325327710</td></tr>\n",
       "\t<tr><th scope=row>PABPC1L</th><td> 17.668244</td><td>-1.853130</td><td>0.6965596</td><td>-2.660404</td><td>7.804702e-03</td><td>0.680620211</td></tr>\n",
       "\t<tr><th scope=row>TBC1D17</th><td> 25.448065</td><td>-1.347785</td><td>0.4999283</td><td>-2.695957</td><td>7.018676e-03</td><td>0.680620211</td></tr>\n",
       "\t<tr><th scope=row>COLEC10</th><td> 33.775398</td><td> 3.102434</td><td>0.8715907</td><td> 3.559508</td><td>3.715498e-04</td><td>0.151079225</td></tr>\n",
       "\t<tr><th scope=row>ARHGEF1</th><td> 54.127536</td><td>-1.129150</td><td>0.3786750</td><td>-2.981845</td><td>2.865172e-03</td><td>0.436887570</td></tr>\n",
       "\t<tr><th scope=row>TRIB3</th><td> 45.967270</td><td> 2.366823</td><td>0.8136129</td><td> 2.909028</td><td>3.625545e-03</td><td>0.462067544</td></tr>\n",
       "\t<tr><th scope=row>FGD3</th><td> 27.197134</td><td> 1.937875</td><td>0.7314598</td><td> 2.649325</td><td>8.065263e-03</td><td>0.680620211</td></tr>\n",
       "\t<tr><th scope=row>FOXP1-AS1</th><td> 16.005550</td><td> 1.508028</td><td>0.5715518</td><td> 2.638480</td><td>8.327871e-03</td><td>0.689838554</td></tr>\n",
       "\t<tr><th scope=row>RP11-57J16.1</th><td> 48.403285</td><td>-1.384946</td><td>0.5131584</td><td>-2.698867</td><td>6.957601e-03</td><td>0.680620211</td></tr>\n",
       "\t<tr><th scope=row>RASIP1</th><td> 60.303170</td><td> 1.804921</td><td>0.4851099</td><td> 3.720644</td><td>1.987155e-04</td><td>0.099813641</td></tr>\n",
       "\t<tr><th scope=row>BSPRY</th><td>148.631038</td><td> 1.994465</td><td>0.4589069</td><td> 4.346122</td><td>1.385655e-05</td><td>0.023465732</td></tr>\n",
       "\t<tr><th scope=row>ARID3A</th><td> 28.148736</td><td> 1.656036</td><td>0.4993163</td><td> 3.316606</td><td>9.111789e-04</td><td>0.259351901</td></tr>\n",
       "\t<tr><th scope=row>RP11-977G19.12</th><td>123.821266</td><td> 2.018124</td><td>0.6029324</td><td> 3.347182</td><td>8.163768e-04</td><td>0.240380740</td></tr>\n",
       "\t<tr><th scope=row>LAT</th><td> 30.961007</td><td> 2.085559</td><td>0.5094298</td><td> 4.093909</td><td>4.241616e-05</td><td>0.037274944</td></tr>\n",
       "\t<tr><th scope=row>GRAMD1C</th><td> 43.398191</td><td> 1.649221</td><td>0.4238912</td><td> 3.890670</td><td>9.996783e-05</td><td>0.062739685</td></tr>\n",
       "\t<tr><th scope=row>ST6GALNAC2</th><td> 63.934145</td><td>-2.220005</td><td>0.8509382</td><td>-2.608891</td><td>9.083616e-03</td><td>0.689838554</td></tr>\n",
       "\t<tr><th scope=row>RP11-203M5.7</th><td>145.868141</td><td> 2.233917</td><td>0.4554886</td><td> 4.904441</td><td>9.369398e-07</td><td>0.003769427</td></tr>\n",
       "\t<tr><th scope=row>ROPN1L</th><td> 36.241763</td><td> 1.905320</td><td>0.7176931</td><td> 2.654784</td><td>7.935928e-03</td><td>0.680620211</td></tr>\n",
       "\t<tr><th scope=row>RP11-667F9.1</th><td> 37.868831</td><td>-1.603211</td><td>0.4974846</td><td>-3.222635</td><td>1.270172e-03</td><td>0.301277702</td></tr>\n",
       "\t<tr><th scope=row>CNPY3</th><td> 32.493690</td><td> 2.057351</td><td>0.5847373</td><td> 3.518419</td><td>4.341256e-04</td><td>0.154458286</td></tr>\n",
       "\t<tr><th scope=row>MPP4</th><td> 43.477380</td><td>-1.175656</td><td>0.4317491</td><td>-2.723008</td><td>6.469050e-03</td><td>0.676960534</td></tr>\n",
       "\t<tr><th scope=row>SPTB</th><td> 22.857100</td><td> 1.528844</td><td>0.5010178</td><td> 3.051476</td><td>2.277196e-03</td><td>0.391984292</td></tr>\n",
       "\t<tr><th scope=row>LAMC3</th><td> 46.130902</td><td> 1.444309</td><td>0.4634775</td><td> 3.116245</td><td>1.831699e-03</td><td>0.347575111</td></tr>\n",
       "\t<tr><th scope=row>CHRNB3</th><td> 66.118151</td><td> 1.643485</td><td>0.5904212</td><td> 2.783580</td><td>5.376254e-03</td><td>0.621642589</td></tr>\n",
       "</tbody>\n",
       "</table>\n"
      ],
      "text/latex": [
       "A data.frame: 136 × 6\n",
       "\\begin{tabular}{r|llllll}\n",
       "  & baseMean & log2FoldChange & lfcSE & stat & pvalue & padj\\\\\n",
       "  & <dbl> & <dbl> & <dbl> & <dbl> & <dbl> & <dbl>\\\\\n",
       "\\hline\n",
       "\tAATK-AS1 &  37.860594 &  2.050090 & 0.6265360 &  3.272102 & 1.067510e-03 & 0.273081147\\\\\n",
       "\tUPK2 & 175.251072 &  2.416106 & 0.4996011 &  4.836071 & 1.324310e-06 & 0.003769427\\\\\n",
       "\tDGUOK-AS1 &  78.767430 &  2.835484 & 0.7324530 &  3.871216 & 1.082938e-04 & 0.062739685\\\\\n",
       "\tC14orf132 &   6.197961 &  3.240593 & 1.0013409 &  3.236253 & 1.211098e-03 &          NA\\\\\n",
       "\tRP11-231C18.1 &  82.279355 &  2.933271 & 0.6841781 &  4.287292 & 1.808648e-05 & 0.023465732\\\\\n",
       "\tRP11-195B21.3 &  11.343127 &  1.645280 & 0.6096669 &  2.698654 & 6.962043e-03 &          NA\\\\\n",
       "\tAC116366.6 &  84.186931 &  1.524666 & 0.5174373 &  2.946572 & 3.213174e-03 & 0.454552359\\\\\n",
       "\tFSIP1 &  13.454783 & -1.724203 & 0.6052802 & -2.848603 & 4.391158e-03 &          NA\\\\\n",
       "\tZNF837 &  60.149633 &  1.718344 & 0.5013834 &  3.427206 & 6.098256e-04 & 0.200280804\\\\\n",
       "\tBIN2 &  79.837014 &  2.314833 & 0.7928601 &  2.919598 & 3.504828e-03 & 0.461295684\\\\\n",
       "\tLRRC43 &  63.195930 &  1.694315 & 0.6349143 &  2.668573 & 7.617424e-03 & 0.680620211\\\\\n",
       "\tCTD-2270L9.2 & 195.813282 & -1.173233 & 0.4113296 & -2.852293 & 4.340501e-03 & 0.537152674\\\\\n",
       "\tRP1-46F2.3 & 200.470705 & -1.172881 & 0.3889588 & -3.015439 & 2.566079e-03 & 0.413429262\\\\\n",
       "\tRP11-506B6.6 &  24.767485 & -1.993632 & 0.6737044 & -2.959209 & 3.084302e-03 & 0.454083688\\\\\n",
       "\tEBF4 &  17.627409 &  2.452050 & 0.7505749 &  3.266896 & 1.087336e-03 & 0.273081147\\\\\n",
       "\tADCY10P1 &  24.969921 &  1.505067 & 0.5467732 &  2.752635 & 5.911777e-03 & 0.655593001\\\\\n",
       "\tCTD-2568A17.1 &  27.736050 &  2.191908 & 0.8167151 &  2.683810 & 7.278837e-03 & 0.680620211\\\\\n",
       "\tRNF6 &   8.817174 &  2.773925 & 1.0073202 &  2.753767 & 5.891377e-03 &          NA\\\\\n",
       "\tADAM15 &  39.842173 &  1.247153 & 0.4638862 &  2.688489 & 7.177626e-03 & 0.680620211\\\\\n",
       "\tSNRPA &  40.029461 &  1.577323 & 0.5177768 &  3.046337 & 2.316478e-03 & 0.391984292\\\\\n",
       "\tRP11-114H23.1 &  21.675803 &  2.257271 & 0.7659943 &  2.946851 & 3.210275e-03 & 0.454552359\\\\\n",
       "\tRP11-101O21.1 &  62.093095 &  1.926984 & 0.5872831 &  3.281184 & 1.033723e-03 & 0.273081147\\\\\n",
       "\tLIPC &  25.905117 &  2.817894 & 0.8038952 &  3.505300 & 4.560925e-04 & 0.155782938\\\\\n",
       "\tGPR160 &  49.955623 &  1.841451 & 0.5583214 &  3.298192 & 9.730963e-04 & 0.268040942\\\\\n",
       "\tKIF2C & 102.059996 & -1.059213 & 0.3406397 & -3.109480 & 1.874167e-03 & 0.347902445\\\\\n",
       "\tTJAP1 &  21.598812 &  2.930602 & 0.7114650 &  4.119109 & 3.803407e-05 & 0.037274944\\\\\n",
       "\tAKT3-IT1 & 134.147319 & -1.043200 & 0.4008770 & -2.602294 & 9.260238e-03 & 0.689838554\\\\\n",
       "\tCTC-367J11.1 &  72.115684 & -1.507463 & 0.5168440 & -2.916670 & 3.537897e-03 & 0.461295684\\\\\n",
       "\tCDR2L &  71.968766 &  1.732353 & 0.5647444 &  3.067499 & 2.158583e-03 & 0.384002960\\\\\n",
       "\tLINC00639 &  10.196387 &  2.654580 & 0.9610238 &  2.762242 & 5.740598e-03 &          NA\\\\\n",
       "\t⋮ & ⋮ & ⋮ & ⋮ & ⋮ & ⋮ & ⋮\\\\\n",
       "\tARMC4 &  10.249716 & -2.116467 & 0.6849646 & -3.089893 & 2.002284e-03 &          NA\\\\\n",
       "\tC19orf68 &  20.446366 & -1.974032 & 0.7412665 & -2.663054 & 7.743504e-03 & 0.680620211\\\\\n",
       "\tGVINP1 &  36.145439 &  1.268247 & 0.4791953 &  2.646617 & 8.130140e-03 & 0.680620211\\\\\n",
       "\tUXS1 &  18.234546 &  1.399885 & 0.5326022 &  2.628388 & 8.579053e-03 & 0.689838554\\\\\n",
       "\tSERHL &   9.997099 & -2.324712 & 0.8853101 & -2.625873 & 8.642708e-03 &          NA\\\\\n",
       "\tMADCAM1 &  17.457305 & -1.888995 & 0.6737330 & -2.803775 & 5.050819e-03 & 0.599013153\\\\\n",
       "\tZNF783 &  32.993596 & -1.844674 & 0.5841089 & -3.158100 & 1.588011e-03 & 0.325327710\\\\\n",
       "\tPABPC1L &  17.668244 & -1.853130 & 0.6965596 & -2.660404 & 7.804702e-03 & 0.680620211\\\\\n",
       "\tTBC1D17 &  25.448065 & -1.347785 & 0.4999283 & -2.695957 & 7.018676e-03 & 0.680620211\\\\\n",
       "\tCOLEC10 &  33.775398 &  3.102434 & 0.8715907 &  3.559508 & 3.715498e-04 & 0.151079225\\\\\n",
       "\tARHGEF1 &  54.127536 & -1.129150 & 0.3786750 & -2.981845 & 2.865172e-03 & 0.436887570\\\\\n",
       "\tTRIB3 &  45.967270 &  2.366823 & 0.8136129 &  2.909028 & 3.625545e-03 & 0.462067544\\\\\n",
       "\tFGD3 &  27.197134 &  1.937875 & 0.7314598 &  2.649325 & 8.065263e-03 & 0.680620211\\\\\n",
       "\tFOXP1-AS1 &  16.005550 &  1.508028 & 0.5715518 &  2.638480 & 8.327871e-03 & 0.689838554\\\\\n",
       "\tRP11-57J16.1 &  48.403285 & -1.384946 & 0.5131584 & -2.698867 & 6.957601e-03 & 0.680620211\\\\\n",
       "\tRASIP1 &  60.303170 &  1.804921 & 0.4851099 &  3.720644 & 1.987155e-04 & 0.099813641\\\\\n",
       "\tBSPRY & 148.631038 &  1.994465 & 0.4589069 &  4.346122 & 1.385655e-05 & 0.023465732\\\\\n",
       "\tARID3A &  28.148736 &  1.656036 & 0.4993163 &  3.316606 & 9.111789e-04 & 0.259351901\\\\\n",
       "\tRP11-977G19.12 & 123.821266 &  2.018124 & 0.6029324 &  3.347182 & 8.163768e-04 & 0.240380740\\\\\n",
       "\tLAT &  30.961007 &  2.085559 & 0.5094298 &  4.093909 & 4.241616e-05 & 0.037274944\\\\\n",
       "\tGRAMD1C &  43.398191 &  1.649221 & 0.4238912 &  3.890670 & 9.996783e-05 & 0.062739685\\\\\n",
       "\tST6GALNAC2 &  63.934145 & -2.220005 & 0.8509382 & -2.608891 & 9.083616e-03 & 0.689838554\\\\\n",
       "\tRP11-203M5.7 & 145.868141 &  2.233917 & 0.4554886 &  4.904441 & 9.369398e-07 & 0.003769427\\\\\n",
       "\tROPN1L &  36.241763 &  1.905320 & 0.7176931 &  2.654784 & 7.935928e-03 & 0.680620211\\\\\n",
       "\tRP11-667F9.1 &  37.868831 & -1.603211 & 0.4974846 & -3.222635 & 1.270172e-03 & 0.301277702\\\\\n",
       "\tCNPY3 &  32.493690 &  2.057351 & 0.5847373 &  3.518419 & 4.341256e-04 & 0.154458286\\\\\n",
       "\tMPP4 &  43.477380 & -1.175656 & 0.4317491 & -2.723008 & 6.469050e-03 & 0.676960534\\\\\n",
       "\tSPTB &  22.857100 &  1.528844 & 0.5010178 &  3.051476 & 2.277196e-03 & 0.391984292\\\\\n",
       "\tLAMC3 &  46.130902 &  1.444309 & 0.4634775 &  3.116245 & 1.831699e-03 & 0.347575111\\\\\n",
       "\tCHRNB3 &  66.118151 &  1.643485 & 0.5904212 &  2.783580 & 5.376254e-03 & 0.621642589\\\\\n",
       "\\end{tabular}\n"
      ],
      "text/markdown": [
       "\n",
       "A data.frame: 136 × 6\n",
       "\n",
       "| <!--/--> | baseMean &lt;dbl&gt; | log2FoldChange &lt;dbl&gt; | lfcSE &lt;dbl&gt; | stat &lt;dbl&gt; | pvalue &lt;dbl&gt; | padj &lt;dbl&gt; |\n",
       "|---|---|---|---|---|---|---|\n",
       "| AATK-AS1 |  37.860594 |  2.050090 | 0.6265360 |  3.272102 | 1.067510e-03 | 0.273081147 |\n",
       "| UPK2 | 175.251072 |  2.416106 | 0.4996011 |  4.836071 | 1.324310e-06 | 0.003769427 |\n",
       "| DGUOK-AS1 |  78.767430 |  2.835484 | 0.7324530 |  3.871216 | 1.082938e-04 | 0.062739685 |\n",
       "| C14orf132 |   6.197961 |  3.240593 | 1.0013409 |  3.236253 | 1.211098e-03 |          NA |\n",
       "| RP11-231C18.1 |  82.279355 |  2.933271 | 0.6841781 |  4.287292 | 1.808648e-05 | 0.023465732 |\n",
       "| RP11-195B21.3 |  11.343127 |  1.645280 | 0.6096669 |  2.698654 | 6.962043e-03 |          NA |\n",
       "| AC116366.6 |  84.186931 |  1.524666 | 0.5174373 |  2.946572 | 3.213174e-03 | 0.454552359 |\n",
       "| FSIP1 |  13.454783 | -1.724203 | 0.6052802 | -2.848603 | 4.391158e-03 |          NA |\n",
       "| ZNF837 |  60.149633 |  1.718344 | 0.5013834 |  3.427206 | 6.098256e-04 | 0.200280804 |\n",
       "| BIN2 |  79.837014 |  2.314833 | 0.7928601 |  2.919598 | 3.504828e-03 | 0.461295684 |\n",
       "| LRRC43 |  63.195930 |  1.694315 | 0.6349143 |  2.668573 | 7.617424e-03 | 0.680620211 |\n",
       "| CTD-2270L9.2 | 195.813282 | -1.173233 | 0.4113296 | -2.852293 | 4.340501e-03 | 0.537152674 |\n",
       "| RP1-46F2.3 | 200.470705 | -1.172881 | 0.3889588 | -3.015439 | 2.566079e-03 | 0.413429262 |\n",
       "| RP11-506B6.6 |  24.767485 | -1.993632 | 0.6737044 | -2.959209 | 3.084302e-03 | 0.454083688 |\n",
       "| EBF4 |  17.627409 |  2.452050 | 0.7505749 |  3.266896 | 1.087336e-03 | 0.273081147 |\n",
       "| ADCY10P1 |  24.969921 |  1.505067 | 0.5467732 |  2.752635 | 5.911777e-03 | 0.655593001 |\n",
       "| CTD-2568A17.1 |  27.736050 |  2.191908 | 0.8167151 |  2.683810 | 7.278837e-03 | 0.680620211 |\n",
       "| RNF6 |   8.817174 |  2.773925 | 1.0073202 |  2.753767 | 5.891377e-03 |          NA |\n",
       "| ADAM15 |  39.842173 |  1.247153 | 0.4638862 |  2.688489 | 7.177626e-03 | 0.680620211 |\n",
       "| SNRPA |  40.029461 |  1.577323 | 0.5177768 |  3.046337 | 2.316478e-03 | 0.391984292 |\n",
       "| RP11-114H23.1 |  21.675803 |  2.257271 | 0.7659943 |  2.946851 | 3.210275e-03 | 0.454552359 |\n",
       "| RP11-101O21.1 |  62.093095 |  1.926984 | 0.5872831 |  3.281184 | 1.033723e-03 | 0.273081147 |\n",
       "| LIPC |  25.905117 |  2.817894 | 0.8038952 |  3.505300 | 4.560925e-04 | 0.155782938 |\n",
       "| GPR160 |  49.955623 |  1.841451 | 0.5583214 |  3.298192 | 9.730963e-04 | 0.268040942 |\n",
       "| KIF2C | 102.059996 | -1.059213 | 0.3406397 | -3.109480 | 1.874167e-03 | 0.347902445 |\n",
       "| TJAP1 |  21.598812 |  2.930602 | 0.7114650 |  4.119109 | 3.803407e-05 | 0.037274944 |\n",
       "| AKT3-IT1 | 134.147319 | -1.043200 | 0.4008770 | -2.602294 | 9.260238e-03 | 0.689838554 |\n",
       "| CTC-367J11.1 |  72.115684 | -1.507463 | 0.5168440 | -2.916670 | 3.537897e-03 | 0.461295684 |\n",
       "| CDR2L |  71.968766 |  1.732353 | 0.5647444 |  3.067499 | 2.158583e-03 | 0.384002960 |\n",
       "| LINC00639 |  10.196387 |  2.654580 | 0.9610238 |  2.762242 | 5.740598e-03 |          NA |\n",
       "| ⋮ | ⋮ | ⋮ | ⋮ | ⋮ | ⋮ | ⋮ |\n",
       "| ARMC4 |  10.249716 | -2.116467 | 0.6849646 | -3.089893 | 2.002284e-03 |          NA |\n",
       "| C19orf68 |  20.446366 | -1.974032 | 0.7412665 | -2.663054 | 7.743504e-03 | 0.680620211 |\n",
       "| GVINP1 |  36.145439 |  1.268247 | 0.4791953 |  2.646617 | 8.130140e-03 | 0.680620211 |\n",
       "| UXS1 |  18.234546 |  1.399885 | 0.5326022 |  2.628388 | 8.579053e-03 | 0.689838554 |\n",
       "| SERHL |   9.997099 | -2.324712 | 0.8853101 | -2.625873 | 8.642708e-03 |          NA |\n",
       "| MADCAM1 |  17.457305 | -1.888995 | 0.6737330 | -2.803775 | 5.050819e-03 | 0.599013153 |\n",
       "| ZNF783 |  32.993596 | -1.844674 | 0.5841089 | -3.158100 | 1.588011e-03 | 0.325327710 |\n",
       "| PABPC1L |  17.668244 | -1.853130 | 0.6965596 | -2.660404 | 7.804702e-03 | 0.680620211 |\n",
       "| TBC1D17 |  25.448065 | -1.347785 | 0.4999283 | -2.695957 | 7.018676e-03 | 0.680620211 |\n",
       "| COLEC10 |  33.775398 |  3.102434 | 0.8715907 |  3.559508 | 3.715498e-04 | 0.151079225 |\n",
       "| ARHGEF1 |  54.127536 | -1.129150 | 0.3786750 | -2.981845 | 2.865172e-03 | 0.436887570 |\n",
       "| TRIB3 |  45.967270 |  2.366823 | 0.8136129 |  2.909028 | 3.625545e-03 | 0.462067544 |\n",
       "| FGD3 |  27.197134 |  1.937875 | 0.7314598 |  2.649325 | 8.065263e-03 | 0.680620211 |\n",
       "| FOXP1-AS1 |  16.005550 |  1.508028 | 0.5715518 |  2.638480 | 8.327871e-03 | 0.689838554 |\n",
       "| RP11-57J16.1 |  48.403285 | -1.384946 | 0.5131584 | -2.698867 | 6.957601e-03 | 0.680620211 |\n",
       "| RASIP1 |  60.303170 |  1.804921 | 0.4851099 |  3.720644 | 1.987155e-04 | 0.099813641 |\n",
       "| BSPRY | 148.631038 |  1.994465 | 0.4589069 |  4.346122 | 1.385655e-05 | 0.023465732 |\n",
       "| ARID3A |  28.148736 |  1.656036 | 0.4993163 |  3.316606 | 9.111789e-04 | 0.259351901 |\n",
       "| RP11-977G19.12 | 123.821266 |  2.018124 | 0.6029324 |  3.347182 | 8.163768e-04 | 0.240380740 |\n",
       "| LAT |  30.961007 |  2.085559 | 0.5094298 |  4.093909 | 4.241616e-05 | 0.037274944 |\n",
       "| GRAMD1C |  43.398191 |  1.649221 | 0.4238912 |  3.890670 | 9.996783e-05 | 0.062739685 |\n",
       "| ST6GALNAC2 |  63.934145 | -2.220005 | 0.8509382 | -2.608891 | 9.083616e-03 | 0.689838554 |\n",
       "| RP11-203M5.7 | 145.868141 |  2.233917 | 0.4554886 |  4.904441 | 9.369398e-07 | 0.003769427 |\n",
       "| ROPN1L |  36.241763 |  1.905320 | 0.7176931 |  2.654784 | 7.935928e-03 | 0.680620211 |\n",
       "| RP11-667F9.1 |  37.868831 | -1.603211 | 0.4974846 | -3.222635 | 1.270172e-03 | 0.301277702 |\n",
       "| CNPY3 |  32.493690 |  2.057351 | 0.5847373 |  3.518419 | 4.341256e-04 | 0.154458286 |\n",
       "| MPP4 |  43.477380 | -1.175656 | 0.4317491 | -2.723008 | 6.469050e-03 | 0.676960534 |\n",
       "| SPTB |  22.857100 |  1.528844 | 0.5010178 |  3.051476 | 2.277196e-03 | 0.391984292 |\n",
       "| LAMC3 |  46.130902 |  1.444309 | 0.4634775 |  3.116245 | 1.831699e-03 | 0.347575111 |\n",
       "| CHRNB3 |  66.118151 |  1.643485 | 0.5904212 |  2.783580 | 5.376254e-03 | 0.621642589 |\n",
       "\n"
      ],
      "text/plain": [
       "               baseMean   log2FoldChange lfcSE     stat      pvalue      \n",
       "AATK-AS1        37.860594  2.050090      0.6265360  3.272102 1.067510e-03\n",
       "UPK2           175.251072  2.416106      0.4996011  4.836071 1.324310e-06\n",
       "DGUOK-AS1       78.767430  2.835484      0.7324530  3.871216 1.082938e-04\n",
       "C14orf132        6.197961  3.240593      1.0013409  3.236253 1.211098e-03\n",
       "RP11-231C18.1   82.279355  2.933271      0.6841781  4.287292 1.808648e-05\n",
       "RP11-195B21.3   11.343127  1.645280      0.6096669  2.698654 6.962043e-03\n",
       "AC116366.6      84.186931  1.524666      0.5174373  2.946572 3.213174e-03\n",
       "FSIP1           13.454783 -1.724203      0.6052802 -2.848603 4.391158e-03\n",
       "ZNF837          60.149633  1.718344      0.5013834  3.427206 6.098256e-04\n",
       "BIN2            79.837014  2.314833      0.7928601  2.919598 3.504828e-03\n",
       "LRRC43          63.195930  1.694315      0.6349143  2.668573 7.617424e-03\n",
       "CTD-2270L9.2   195.813282 -1.173233      0.4113296 -2.852293 4.340501e-03\n",
       "RP1-46F2.3     200.470705 -1.172881      0.3889588 -3.015439 2.566079e-03\n",
       "RP11-506B6.6    24.767485 -1.993632      0.6737044 -2.959209 3.084302e-03\n",
       "EBF4            17.627409  2.452050      0.7505749  3.266896 1.087336e-03\n",
       "ADCY10P1        24.969921  1.505067      0.5467732  2.752635 5.911777e-03\n",
       "CTD-2568A17.1   27.736050  2.191908      0.8167151  2.683810 7.278837e-03\n",
       "RNF6             8.817174  2.773925      1.0073202  2.753767 5.891377e-03\n",
       "ADAM15          39.842173  1.247153      0.4638862  2.688489 7.177626e-03\n",
       "SNRPA           40.029461  1.577323      0.5177768  3.046337 2.316478e-03\n",
       "RP11-114H23.1   21.675803  2.257271      0.7659943  2.946851 3.210275e-03\n",
       "RP11-101O21.1   62.093095  1.926984      0.5872831  3.281184 1.033723e-03\n",
       "LIPC            25.905117  2.817894      0.8038952  3.505300 4.560925e-04\n",
       "GPR160          49.955623  1.841451      0.5583214  3.298192 9.730963e-04\n",
       "KIF2C          102.059996 -1.059213      0.3406397 -3.109480 1.874167e-03\n",
       "TJAP1           21.598812  2.930602      0.7114650  4.119109 3.803407e-05\n",
       "AKT3-IT1       134.147319 -1.043200      0.4008770 -2.602294 9.260238e-03\n",
       "CTC-367J11.1    72.115684 -1.507463      0.5168440 -2.916670 3.537897e-03\n",
       "CDR2L           71.968766  1.732353      0.5647444  3.067499 2.158583e-03\n",
       "LINC00639       10.196387  2.654580      0.9610238  2.762242 5.740598e-03\n",
       "⋮              ⋮          ⋮              ⋮         ⋮         ⋮           \n",
       "ARMC4           10.249716 -2.116467      0.6849646 -3.089893 2.002284e-03\n",
       "C19orf68        20.446366 -1.974032      0.7412665 -2.663054 7.743504e-03\n",
       "GVINP1          36.145439  1.268247      0.4791953  2.646617 8.130140e-03\n",
       "UXS1            18.234546  1.399885      0.5326022  2.628388 8.579053e-03\n",
       "SERHL            9.997099 -2.324712      0.8853101 -2.625873 8.642708e-03\n",
       "MADCAM1         17.457305 -1.888995      0.6737330 -2.803775 5.050819e-03\n",
       "ZNF783          32.993596 -1.844674      0.5841089 -3.158100 1.588011e-03\n",
       "PABPC1L         17.668244 -1.853130      0.6965596 -2.660404 7.804702e-03\n",
       "TBC1D17         25.448065 -1.347785      0.4999283 -2.695957 7.018676e-03\n",
       "COLEC10         33.775398  3.102434      0.8715907  3.559508 3.715498e-04\n",
       "ARHGEF1         54.127536 -1.129150      0.3786750 -2.981845 2.865172e-03\n",
       "TRIB3           45.967270  2.366823      0.8136129  2.909028 3.625545e-03\n",
       "FGD3            27.197134  1.937875      0.7314598  2.649325 8.065263e-03\n",
       "FOXP1-AS1       16.005550  1.508028      0.5715518  2.638480 8.327871e-03\n",
       "RP11-57J16.1    48.403285 -1.384946      0.5131584 -2.698867 6.957601e-03\n",
       "RASIP1          60.303170  1.804921      0.4851099  3.720644 1.987155e-04\n",
       "BSPRY          148.631038  1.994465      0.4589069  4.346122 1.385655e-05\n",
       "ARID3A          28.148736  1.656036      0.4993163  3.316606 9.111789e-04\n",
       "RP11-977G19.12 123.821266  2.018124      0.6029324  3.347182 8.163768e-04\n",
       "LAT             30.961007  2.085559      0.5094298  4.093909 4.241616e-05\n",
       "GRAMD1C         43.398191  1.649221      0.4238912  3.890670 9.996783e-05\n",
       "ST6GALNAC2      63.934145 -2.220005      0.8509382 -2.608891 9.083616e-03\n",
       "RP11-203M5.7   145.868141  2.233917      0.4554886  4.904441 9.369398e-07\n",
       "ROPN1L          36.241763  1.905320      0.7176931  2.654784 7.935928e-03\n",
       "RP11-667F9.1    37.868831 -1.603211      0.4974846 -3.222635 1.270172e-03\n",
       "CNPY3           32.493690  2.057351      0.5847373  3.518419 4.341256e-04\n",
       "MPP4            43.477380 -1.175656      0.4317491 -2.723008 6.469050e-03\n",
       "SPTB            22.857100  1.528844      0.5010178  3.051476 2.277196e-03\n",
       "LAMC3           46.130902  1.444309      0.4634775  3.116245 1.831699e-03\n",
       "CHRNB3          66.118151  1.643485      0.5904212  2.783580 5.376254e-03\n",
       "               padj       \n",
       "AATK-AS1       0.273081147\n",
       "UPK2           0.003769427\n",
       "DGUOK-AS1      0.062739685\n",
       "C14orf132               NA\n",
       "RP11-231C18.1  0.023465732\n",
       "RP11-195B21.3           NA\n",
       "AC116366.6     0.454552359\n",
       "FSIP1                   NA\n",
       "ZNF837         0.200280804\n",
       "BIN2           0.461295684\n",
       "LRRC43         0.680620211\n",
       "CTD-2270L9.2   0.537152674\n",
       "RP1-46F2.3     0.413429262\n",
       "RP11-506B6.6   0.454083688\n",
       "EBF4           0.273081147\n",
       "ADCY10P1       0.655593001\n",
       "CTD-2568A17.1  0.680620211\n",
       "RNF6                    NA\n",
       "ADAM15         0.680620211\n",
       "SNRPA          0.391984292\n",
       "RP11-114H23.1  0.454552359\n",
       "RP11-101O21.1  0.273081147\n",
       "LIPC           0.155782938\n",
       "GPR160         0.268040942\n",
       "KIF2C          0.347902445\n",
       "TJAP1          0.037274944\n",
       "AKT3-IT1       0.689838554\n",
       "CTC-367J11.1   0.461295684\n",
       "CDR2L          0.384002960\n",
       "LINC00639               NA\n",
       "⋮              ⋮          \n",
       "ARMC4                   NA\n",
       "C19orf68       0.680620211\n",
       "GVINP1         0.680620211\n",
       "UXS1           0.689838554\n",
       "SERHL                   NA\n",
       "MADCAM1        0.599013153\n",
       "ZNF783         0.325327710\n",
       "PABPC1L        0.680620211\n",
       "TBC1D17        0.680620211\n",
       "COLEC10        0.151079225\n",
       "ARHGEF1        0.436887570\n",
       "TRIB3          0.462067544\n",
       "FGD3           0.680620211\n",
       "FOXP1-AS1      0.689838554\n",
       "RP11-57J16.1   0.680620211\n",
       "RASIP1         0.099813641\n",
       "BSPRY          0.023465732\n",
       "ARID3A         0.259351901\n",
       "RP11-977G19.12 0.240380740\n",
       "LAT            0.037274944\n",
       "GRAMD1C        0.062739685\n",
       "ST6GALNAC2     0.689838554\n",
       "RP11-203M5.7   0.003769427\n",
       "ROPN1L         0.680620211\n",
       "RP11-667F9.1   0.301277702\n",
       "CNPY3          0.154458286\n",
       "MPP4           0.676960534\n",
       "SPTB           0.391984292\n",
       "LAMC3          0.347575111\n",
       "CHRNB3         0.621642589"
      ]
     },
     "metadata": {},
     "output_type": "display_data"
    }
   ],
   "source": [
    "res1[which(res1$pvalue < 0.01),]"
   ]
  },
  {
   "cell_type": "code",
   "execution_count": null,
   "metadata": {
    "vscode": {
     "languageId": "r"
    }
   },
   "outputs": [],
   "source": [
    "res1"
   ]
  },
  {
   "cell_type": "code",
   "execution_count": null,
   "metadata": {
    "vscode": {
     "languageId": "r"
    }
   },
   "outputs": [],
   "source": [
    "p_vals <- c()\n",
    "for(i in 1:nrow(data)){\n",
    "    p_val <- wilcox.test(round(data[i,1:3]*10^4),round(data[i,4:6]*10^4))$p.value\n",
    "    p_vals <- c(p_vals,p_val)\n",
    "}\n"
   ]
  },
  {
   "cell_type": "code",
   "execution_count": 39,
   "metadata": {
    "vscode": {
     "languageId": "r"
    }
   },
   "outputs": [],
   "source": [
    "i=1\n",
    "a <- wilcox.test(round(data[i,1:3]*10^4),round(data[i,4:6]*10^4))"
   ]
  },
  {
   "cell_type": "code",
   "execution_count": 42,
   "metadata": {
    "vscode": {
     "languageId": "r"
    }
   },
   "outputs": [
    {
     "data": {
      "text/html": [
       "42"
      ],
      "text/latex": [
       "42"
      ],
      "text/markdown": [
       "42"
      ],
      "text/plain": [
       "[1] 42"
      ]
     },
     "metadata": {},
     "output_type": "display_data"
    },
    {
     "data": {
      "text/html": [
       "75"
      ],
      "text/latex": [
       "75"
      ],
      "text/markdown": [
       "75"
      ],
      "text/plain": [
       "[1] 75"
      ]
     },
     "metadata": {},
     "output_type": "display_data"
    }
   ],
   "source": [
    "sum(round(data[i, 1:3] * 10^4))\n",
    "sum(round(data[i, 4:6] * 10^4))"
   ]
  },
  {
   "cell_type": "code",
   "execution_count": 29,
   "metadata": {
    "vscode": {
     "languageId": "r"
    }
   },
   "outputs": [
    {
     "data": {
      "text/html": [
       "<style>\n",
       ".dl-inline {width: auto; margin:0; padding: 0}\n",
       ".dl-inline>dt, .dl-inline>dd {float: none; width: auto; display: inline-block}\n",
       ".dl-inline>dt::after {content: \":\\0020\"; padding-right: .5ex}\n",
       ".dl-inline>dt:not(:first-of-type) {padding-left: .5ex}\n",
       "</style><dl class=dl-inline><dt>17</dt><dd>0.00188458962764539</dd><dt>18</dt><dd>0.001191194948028</dd><dt>57</dt><dd>0.000543498773353463</dd></dl>\n"
      ],
      "text/latex": [
       "\\begin{description*}\n",
       "\\item[17] 0.00188458962764539\n",
       "\\item[18] 0.001191194948028\n",
       "\\item[57] 0.000543498773353463\n",
       "\\end{description*}\n"
      ],
      "text/markdown": [
       "17\n",
       ":   0.0018845896276453918\n",
       ":   0.00119119494802857\n",
       ":   0.000543498773353463\n",
       "\n"
      ],
      "text/plain": [
       "          17           18           57 \n",
       "0.0018845896 0.0011911949 0.0005434988 "
      ]
     },
     "metadata": {},
     "output_type": "display_data"
    }
   ],
   "source": [
    "data[i,1:3]"
   ]
  },
  {
   "cell_type": "code",
   "execution_count": 52,
   "metadata": {
    "vscode": {
     "languageId": "r"
    }
   },
   "outputs": [],
   "source": [
    "genes_sig <- shared_genes[which(p_vals < 0.1)]"
   ]
  },
  {
   "cell_type": "code",
   "execution_count": 43,
   "metadata": {
    "vscode": {
     "languageId": "r"
    }
   },
   "outputs": [],
   "source": [
    "flags <- c()\n",
    "for(j in which(p_vals < 0.1)){\n",
    "    if(sum(data[j,1:3]) < sum(data[j,4:6])){\n",
    "        flag <- 'down'\n",
    "    }\n",
    "    else{\n",
    "        flag <- 'up'\n",
    "    }\n",
    "    flags <- c(flags,flag)\n",
    "}"
   ]
  },
  {
   "cell_type": "code",
   "execution_count": 45,
   "metadata": {
    "vscode": {
     "languageId": "r"
    }
   },
   "outputs": [
    {
     "data": {
      "text/html": [
       "198"
      ],
      "text/latex": [
       "198"
      ],
      "text/markdown": [
       "198"
      ],
      "text/plain": [
       "[1] 198"
      ]
     },
     "metadata": {},
     "output_type": "display_data"
    }
   ],
   "source": [
    "length(flags)"
   ]
  },
  {
   "cell_type": "code",
   "execution_count": 48,
   "metadata": {
    "vscode": {
     "languageId": "r"
    }
   },
   "outputs": [],
   "source": [
    "de_gene_ei <- as.data.frame(cbind(p_vals[which(p_vals < 0.1)],flags))"
   ]
  },
  {
   "cell_type": "code",
   "execution_count": 54,
   "metadata": {
    "vscode": {
     "languageId": "r"
    }
   },
   "outputs": [],
   "source": [
    "rownames(de_gene_ei) <- genes_sig\n",
    "colnames(de_gene_ei) <- c('p_value','expr')"
   ]
  },
  {
   "cell_type": "code",
   "execution_count": 60,
   "metadata": {
    "vscode": {
     "languageId": "r"
    }
   },
   "outputs": [],
   "source": [
    "write.csv(de_gene_ei,\"/disk1/wenqing/tmp_data/ASD/de_gene_ei_pval01.csv\",quote=F)"
   ]
  },
  {
   "cell_type": "code",
   "execution_count": 56,
   "metadata": {
    "vscode": {
     "languageId": "r"
    }
   },
   "outputs": [],
   "source": [
    "asd_genes <- read.table(\"/disk1/wenqing/tmp_data/ASD/102_ASD_genes.txt\")"
   ]
  },
  {
   "cell_type": "code",
   "execution_count": 59,
   "metadata": {
    "vscode": {
     "languageId": "r"
    }
   },
   "outputs": [
    {
     "data": {
      "text/html": [
       "<table class=\"dataframe\">\n",
       "<caption>A data.frame: 4 × 2</caption>\n",
       "<thead>\n",
       "\t<tr><th></th><th scope=col>p_value</th><th scope=col>expr</th></tr>\n",
       "\t<tr><th></th><th scope=col>&lt;chr&gt;</th><th scope=col>&lt;chr&gt;</th></tr>\n",
       "</thead>\n",
       "<tbody>\n",
       "\t<tr><th scope=row>GRIN2B</th><td>0.0765225004750592</td><td>down</td></tr>\n",
       "\t<tr><th scope=row>MBD5</th><td>0.0765225004750592</td><td>down</td></tr>\n",
       "\t<tr><th scope=row>GRIA2</th><td>0.0765225004750592</td><td>down</td></tr>\n",
       "\t<tr><th scope=row>CTNNB1</th><td>0.0636025696207536</td><td>down</td></tr>\n",
       "</tbody>\n",
       "</table>\n"
      ],
      "text/latex": [
       "A data.frame: 4 × 2\n",
       "\\begin{tabular}{r|ll}\n",
       "  & p\\_value & expr\\\\\n",
       "  & <chr> & <chr>\\\\\n",
       "\\hline\n",
       "\tGRIN2B & 0.0765225004750592 & down\\\\\n",
       "\tMBD5 & 0.0765225004750592 & down\\\\\n",
       "\tGRIA2 & 0.0765225004750592 & down\\\\\n",
       "\tCTNNB1 & 0.0636025696207536 & down\\\\\n",
       "\\end{tabular}\n"
      ],
      "text/markdown": [
       "\n",
       "A data.frame: 4 × 2\n",
       "\n",
       "| <!--/--> | p_value &lt;chr&gt; | expr &lt;chr&gt; |\n",
       "|---|---|---|\n",
       "| GRIN2B | 0.0765225004750592 | down |\n",
       "| MBD5 | 0.0765225004750592 | down |\n",
       "| GRIA2 | 0.0765225004750592 | down |\n",
       "| CTNNB1 | 0.0636025696207536 | down |\n",
       "\n"
      ],
      "text/plain": [
       "       p_value            expr\n",
       "GRIN2B 0.0765225004750592 down\n",
       "MBD5   0.0765225004750592 down\n",
       "GRIA2  0.0765225004750592 down\n",
       "CTNNB1 0.0636025696207536 down"
      ]
     },
     "metadata": {},
     "output_type": "display_data"
    }
   ],
   "source": [
    "de_gene_ei[intersect(genes_sig,asd_genes$V1),]"
   ]
  },
  {
   "cell_type": "code",
   "execution_count": 70,
   "metadata": {
    "vscode": {
     "languageId": "r"
    }
   },
   "outputs": [
    {
     "data": {
      "text/html": [
       "0.064638783269962"
      ],
      "text/latex": [
       "0.064638783269962"
      ],
      "text/markdown": [
       "0.064638783269962"
      ],
      "text/plain": [
       "[1] 0.06463878"
      ]
     },
     "metadata": {},
     "output_type": "display_data"
    }
   ],
   "source": [
    "17/263"
   ]
  },
  {
   "cell_type": "code",
   "execution_count": 78,
   "metadata": {
    "vscode": {
     "languageId": "r"
    }
   },
   "outputs": [],
   "source": [
    "GRIN2B_res_17 <- read.table(\"/disk1/wenqing/tmp_data/ASD/asd_male_pfc/gene_ei/17/GRIN2B_17.txt\")\n",
    "GRIN2B_res_18 <- read.table(\"/disk1/wenqing/tmp_data/ASD/asd_male_pfc/gene_ei/18/GRIN2B_18.txt\")\n",
    "GRIN2B_res_57 <- read.table(\"/disk1/wenqing/tmp_data/ASD/asd_male_pfc/gene_ei/57/GRIN2B_57.txt\")\n",
    "\n",
    "GRIN2B_res_20 <- read.table(\"/disk1/wenqing/tmp_data/ASD/ctr_male_pfc/gene_ei/20/GRIN2B_20.txt\")\n",
    "GRIN2B_res_32 <- read.table(\"/disk1/wenqing/tmp_data/ASD/ctr_male_pfc/gene_ei/32/GRIN2B_32.txt\")\n",
    "GRIN2B_res_56 <- read.table(\"/disk1/wenqing/tmp_data/ASD/ctr_male_pfc/gene_ei/56/GRIN2B_56.txt\")"
   ]
  },
  {
   "cell_type": "code",
   "execution_count": 79,
   "metadata": {
    "vscode": {
     "languageId": "r"
    }
   },
   "outputs": [],
   "source": [
    "shared_res <- intersect(GRIN2B_res_17$V6,GRIN2B_res_18$V6)\n",
    "shared_res <- intersect(shared_res,GRIN2B_res_57$V6)\n",
    "shared_res <- intersect(shared_res,GRIN2B_res_20$V6)\n",
    "shared_res <- intersect(shared_res,GRIN2B_res_32$V6)\n",
    "shared_res <- intersect(shared_res,GRIN2B_res_56$V6)"
   ]
  },
  {
   "cell_type": "code",
   "execution_count": 81,
   "metadata": {
    "vscode": {
     "languageId": "r"
    }
   },
   "outputs": [],
   "source": [
    "asd_res <- union(GRIN2B_res_17$V6,GRIN2B_res_18$V6)\n",
    "asd_res <- union(asd_res,GRIN2B_res_57$V6)"
   ]
  },
  {
   "cell_type": "code",
   "execution_count": 84,
   "metadata": {
    "vscode": {
     "languageId": "r"
    }
   },
   "outputs": [],
   "source": [
    "ctr_res <- union(GRIN2B_res_20$V6,GRIN2B_res_32$V6)\n",
    "ctr_res <- union(ctr_res,GRIN2B_res_56$V6)"
   ]
  },
  {
   "cell_type": "code",
   "execution_count": 87,
   "metadata": {
    "vscode": {
     "languageId": "r"
    }
   },
   "outputs": [],
   "source": [
    "asd_specific_res <- setdiff(asd_res,ctr_res)\n",
    "ctr_specific_res <- setdiff(ctr_res,asd_res)"
   ]
  },
  {
   "cell_type": "code",
   "execution_count": 91,
   "metadata": {
    "vscode": {
     "languageId": "r"
    }
   },
   "outputs": [
    {
     "data": {
      "text/html": [
       "121"
      ],
      "text/latex": [
       "121"
      ],
      "text/markdown": [
       "121"
      ],
      "text/plain": [
       "[1] 121"
      ]
     },
     "metadata": {},
     "output_type": "display_data"
    },
    {
     "data": {
      "text/html": [
       "178"
      ],
      "text/latex": [
       "178"
      ],
      "text/markdown": [
       "178"
      ],
      "text/plain": [
       "[1] 178"
      ]
     },
     "metadata": {},
     "output_type": "display_data"
    },
    {
     "data": {
      "text/html": [
       "6"
      ],
      "text/latex": [
       "6"
      ],
      "text/markdown": [
       "6"
      ],
      "text/plain": [
       "[1] 6"
      ]
     },
     "metadata": {},
     "output_type": "display_data"
    }
   ],
   "source": [
    "length(asd_specific_res)\n",
    "length(ctr_specific_res)\n",
    "length(shared_res)"
   ]
  },
  {
   "cell_type": "code",
   "execution_count": 96,
   "metadata": {
    "vscode": {
     "languageId": "r"
    }
   },
   "outputs": [],
   "source": [
    "write.table(asd_specific_res,\"/disk1/wenqing/tmp_data/ASD/GRIN2B_res/asd_specific_res.txt\",quote=F,row.names=F,col.names=F)\n",
    "write.table(ctr_specific_res,\"/disk1/wenqing/tmp_data/ASD/GRIN2B_res/ctr_specific_res.txt\",quote=F,row.names=F,col.names=F)\n",
    "write.table(shared_res,\"/disk1/wenqing/tmp_data/ASD/GRIN2B_res/shared_res.txt\",quote=F,row.names=F,col.names=F)\n"
   ]
  },
  {
   "cell_type": "code",
   "execution_count": 103,
   "metadata": {
    "vscode": {
     "languageId": "r"
    }
   },
   "outputs": [
    {
     "data": {
      "text/html": [
       "7"
      ],
      "text/latex": [
       "7"
      ],
      "text/markdown": [
       "7"
      ],
      "text/plain": [
       "[1] 7"
      ]
     },
     "metadata": {},
     "output_type": "display_data"
    },
    {
     "data": {
      "text/html": [
       "13"
      ],
      "text/latex": [
       "13"
      ],
      "text/markdown": [
       "13"
      ],
      "text/plain": [
       "[1] 13"
      ]
     },
     "metadata": {},
     "output_type": "display_data"
    },
    {
     "data": {
      "text/html": [
       "0"
      ],
      "text/latex": [
       "0"
      ],
      "text/markdown": [
       "0"
      ],
      "text/plain": [
       "[1] 0"
      ]
     },
     "metadata": {},
     "output_type": "display_data"
    }
   ],
   "source": [
    "JPH1_res_17 <- read.table(\"/disk1/wenqing/tmp_data/ASD/asd_male_pfc/gene_ei/17/JPH1_17.txt\")\n",
    "JPH1_res_18 <- read.table(\"/disk1/wenqing/tmp_data/ASD/asd_male_pfc/gene_ei/18/JPH1_18.txt\")\n",
    "JPH1_res_57 <- read.table(\"/disk1/wenqing/tmp_data/ASD/asd_male_pfc/gene_ei/57/JPH1_57.txt\")\n",
    "\n",
    "JPH1_res_20 <- read.table(\"/disk1/wenqing/tmp_data/ASD/ctr_male_pfc/gene_ei/20/JPH1_20.txt\")\n",
    "JPH1_res_32 <- read.table(\"/disk1/wenqing/tmp_data/ASD/ctr_male_pfc/gene_ei/32/JPH1_32.txt\")\n",
    "JPH1_res_56 <- read.table(\"/disk1/wenqing/tmp_data/ASD/ctr_male_pfc/gene_ei/56/JPH1_56.txt\")\n",
    "shared_res <- intersect(JPH1_res_17$V6,JPH1_res_18$V6)\n",
    "shared_res <- intersect(shared_res,JPH1_res_57$V6)\n",
    "shared_res <- intersect(shared_res,JPH1_res_20$V6)\n",
    "shared_res <- intersect(shared_res,JPH1_res_32$V6)\n",
    "shared_res <- intersect(shared_res,JPH1_res_56$V6)\n",
    "asd_res <- union(JPH1_res_17$V6,JPH1_res_18$V6)\n",
    "asd_res <- union(asd_res,JPH1_res_57$V6)\n",
    "ctr_res <- union(JPH1_res_20$V6,JPH1_res_32$V6)\n",
    "ctr_res <- union(ctr_res,JPH1_res_56$V6)\n",
    "asd_specific_res <- setdiff(asd_res,ctr_res)\n",
    "ctr_specific_res <- setdiff(ctr_res,asd_res)\n",
    "length(asd_specific_res)\n",
    "length(ctr_specific_res)\n",
    "length(shared_res)\n",
    "write.table(asd_specific_res,\"/disk1/wenqing/tmp_data/ASD/JPH1_res/asd_specific_res.txt\",quote=F,row.names=F,col.names=F)\n",
    "write.table(ctr_specific_res,\"/disk1/wenqing/tmp_data/ASD/JPH1_res/ctr_specific_res.txt\",quote=F,row.names=F,col.names=F)\n",
    "write.table(shared_res,\"/disk1/wenqing/tmp_data/ASD/JPH1_res/shared_res.txt\",quote=F,row.names=F,col.names=F)\n"
   ]
  },
  {
   "cell_type": "code",
   "execution_count": 1,
   "metadata": {
    "vscode": {
     "languageId": "r"
    }
   },
   "outputs": [],
   "source": [
    "ei_in_shared_intron <- round(c(0.0005811720643163752,0.0004557602316032276,0.0002509097249490738,0.0007562304612330607,0.0009004472066410302,0.0007835058638725447)*10^4)"
   ]
  },
  {
   "cell_type": "code",
   "execution_count": 2,
   "metadata": {
    "vscode": {
     "languageId": "r"
    }
   },
   "outputs": [
    {
     "name": "stderr",
     "output_type": "stream",
     "text": [
      "Warning message in wilcox.test.default(ei_in_shared_intron[1:3], ei_in_shared_intron[4:6]):\n",
      "“cannot compute exact p-value with ties”\n"
     ]
    },
    {
     "data": {
      "text/plain": [
       "\n",
       "\tWilcoxon rank sum test with continuity correction\n",
       "\n",
       "data:  ei_in_shared_intron[1:3] and ei_in_shared_intron[4:6]\n",
       "W = 0, p-value = 0.07652\n",
       "alternative hypothesis: true location shift is not equal to 0\n"
      ]
     },
     "metadata": {},
     "output_type": "display_data"
    }
   ],
   "source": [
    "wilcox.test(ei_in_shared_intron[1:3],ei_in_shared_intron[4:6])"
   ]
  }
 ],
 "metadata": {
  "kernelspec": {
   "display_name": "R",
   "language": "R",
   "name": "ir"
  },
  "language_info": {
   "codemirror_mode": "r",
   "file_extension": ".r",
   "mimetype": "text/x-r-source",
   "name": "R",
   "pygments_lexer": "r",
   "version": "4.3.1"
  },
  "orig_nbformat": 4
 },
 "nbformat": 4,
 "nbformat_minor": 2
}
