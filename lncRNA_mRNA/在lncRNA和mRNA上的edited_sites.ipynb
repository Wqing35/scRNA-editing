{
 "cells": [
  {
   "cell_type": "code",
   "execution_count": 1,
   "metadata": {
    "vscode": {
     "languageId": "r"
    }
   },
   "outputs": [
    {
     "data": {
      "text/html": [
       "'/disk1/wenqing/anaconda3/envs/wq_R4.2/lib/R/library'"
      ],
      "text/latex": [
       "'/disk1/wenqing/anaconda3/envs/wq\\_R4.2/lib/R/library'"
      ],
      "text/markdown": [
       "'/disk1/wenqing/anaconda3/envs/wq_R4.2/lib/R/library'"
      ],
      "text/plain": [
       "[1] \"/disk1/wenqing/anaconda3/envs/wq_R4.2/lib/R/library\""
      ]
     },
     "metadata": {},
     "output_type": "display_data"
    }
   ],
   "source": [
    ".libPaths()\n",
    "library(biomaRt)\n",
    "ensembl <- useMart(\"ensembl\", dataset = \"hsapiens_gene_ensembl\")"
   ]
  },
  {
   "cell_type": "markdown",
   "metadata": {},
   "source": []
  },
  {
   "cell_type": "code",
   "execution_count": 2,
   "metadata": {
    "vscode": {
     "languageId": "r"
    }
   },
   "outputs": [
    {
     "data": {
      "text/html": [
       "<style>\n",
       ".list-inline {list-style: none; margin:0; padding: 0}\n",
       ".list-inline>li {display: inline-block}\n",
       ".list-inline>li:not(:last-child)::after {content: \"\\00b7\"; padding: 0 .5ex}\n",
       "</style>\n",
       "<ol class=list-inline><li>'RP5-857K21.4'</li><li>'hsa-mir-6723'</li><li>'C1orf159'</li><li>'CPSF3L'</li><li>'MRPL20'</li><li>'ATAD3B'</li></ol>\n"
      ],
      "text/latex": [
       "\\begin{enumerate*}\n",
       "\\item 'RP5-857K21.4'\n",
       "\\item 'hsa-mir-6723'\n",
       "\\item 'C1orf159'\n",
       "\\item 'CPSF3L'\n",
       "\\item 'MRPL20'\n",
       "\\item 'ATAD3B'\n",
       "\\end{enumerate*}\n"
      ],
      "text/markdown": [
       "1. 'RP5-857K21.4'\n",
       "2. 'hsa-mir-6723'\n",
       "3. 'C1orf159'\n",
       "4. 'CPSF3L'\n",
       "5. 'MRPL20'\n",
       "6. 'ATAD3B'\n",
       "\n",
       "\n"
      ],
      "text/plain": [
       "[1] \"RP5-857K21.4\" \"hsa-mir-6723\" \"C1orf159\"     \"CPSF3L\"       \"MRPL20\"      \n",
       "[6] \"ATAD3B\"      "
      ]
     },
     "metadata": {},
     "output_type": "display_data"
    }
   ],
   "source": [
    "\n",
    "gene_ids <- unique(read.table(\"/disk1/wenqing/tmp_data/PFC_s2/filter_snv_for_new_res/GW26_1_1/GABAergic_neurons/detailed_info_genes_with_all_res.txt\")[,4])\n",
    "head(gene_ids)\n"
   ]
  },
  {
   "cell_type": "code",
   "execution_count": 4,
   "metadata": {
    "vscode": {
     "languageId": "r"
    }
   },
   "outputs": [
    {
     "data": {
      "text/html": [
       "<table class=\"dataframe\">\n",
       "<caption>A data.frame: 6 × 8</caption>\n",
       "<thead>\n",
       "\t<tr><th></th><th scope=col>ensembl_gene_id_version</th><th scope=col>ensembl_gene_id</th><th scope=col>external_gene_name</th><th scope=col>description</th><th scope=col>chromosome_name</th><th scope=col>start_position</th><th scope=col>end_position</th><th scope=col>gene_biotype</th></tr>\n",
       "\t<tr><th></th><th scope=col>&lt;chr&gt;</th><th scope=col>&lt;chr&gt;</th><th scope=col>&lt;chr&gt;</th><th scope=col>&lt;chr&gt;</th><th scope=col>&lt;chr&gt;</th><th scope=col>&lt;int&gt;</th><th scope=col>&lt;int&gt;</th><th scope=col>&lt;chr&gt;</th></tr>\n",
       "</thead>\n",
       "<tbody>\n",
       "\t<tr><th scope=row>1</th><td>ENSG00000198763.3</td><td>ENSG00000198763</td><td>MT-ND2    </td><td>mitochondrially encoded NADH:ubiquinone oxidoreductase core subunit 2 [Source:HGNC Symbol;Acc:HGNC:7456]</td><td>chrMT                      </td><td>   4470</td><td>   5511</td><td>protein_coding</td></tr>\n",
       "\t<tr><th scope=row>2</th><td>ENSG00000198804.2</td><td>ENSG00000198804</td><td>MT-CO1    </td><td>mitochondrially encoded cytochrome c oxidase I [Source:HGNC Symbol;Acc:HGNC:7419]                       </td><td>chrMT                      </td><td>   5904</td><td>   7445</td><td>protein_coding</td></tr>\n",
       "\t<tr><th scope=row>3</th><td>ENSG00000198886.2</td><td>ENSG00000198886</td><td>MT-ND4    </td><td>mitochondrially encoded NADH:ubiquinone oxidoreductase core subunit 4 [Source:HGNC Symbol;Acc:HGNC:7459]</td><td>chrMT                      </td><td>  10760</td><td>  12137</td><td>protein_coding</td></tr>\n",
       "\t<tr><th scope=row>4</th><td>ENSG00000291375.1</td><td>ENSG00000291375</td><td>FBXO42    </td><td>F-box protein 42 [Source:HGNC Symbol;Acc:HGNC:29249]                                                    </td><td>chrHG1343_HG173_HG459_PATCH</td><td>  50977</td><td> 156623</td><td>protein_coding</td></tr>\n",
       "\t<tr><th scope=row>5</th><td>ENSG00000292225.2</td><td>ENSG00000292225</td><td>NBPF1     </td><td>NBPF member 1 [Source:HGNC Symbol;Acc:HGNC:26088]                                                       </td><td>chrHG1343_HG173_HG459_PATCH</td><td>1198562</td><td>1260797</td><td>protein_coding</td></tr>\n",
       "\t<tr><th scope=row>6</th><td>ENSG00000291432.1</td><td>ENSG00000291432</td><td>KRTAP5-AS1</td><td>KRTAP5-1/KRTAP5-2 antisense RNA 1 [Source:HGNC Symbol;Acc:HGNC:27877]                                   </td><td>chrHG152_PATCH             </td><td> 311329</td><td> 339160</td><td>lncRNA        </td></tr>\n",
       "</tbody>\n",
       "</table>\n"
      ],
      "text/latex": [
       "A data.frame: 6 × 8\n",
       "\\begin{tabular}{r|llllllll}\n",
       "  & ensembl\\_gene\\_id\\_version & ensembl\\_gene\\_id & external\\_gene\\_name & description & chromosome\\_name & start\\_position & end\\_position & gene\\_biotype\\\\\n",
       "  & <chr> & <chr> & <chr> & <chr> & <chr> & <int> & <int> & <chr>\\\\\n",
       "\\hline\n",
       "\t1 & ENSG00000198763.3 & ENSG00000198763 & MT-ND2     & mitochondrially encoded NADH:ubiquinone oxidoreductase core subunit 2 {[}Source:HGNC Symbol;Acc:HGNC:7456{]} & chrMT                       &    4470 &    5511 & protein\\_coding\\\\\n",
       "\t2 & ENSG00000198804.2 & ENSG00000198804 & MT-CO1     & mitochondrially encoded cytochrome c oxidase I {[}Source:HGNC Symbol;Acc:HGNC:7419{]}                        & chrMT                       &    5904 &    7445 & protein\\_coding\\\\\n",
       "\t3 & ENSG00000198886.2 & ENSG00000198886 & MT-ND4     & mitochondrially encoded NADH:ubiquinone oxidoreductase core subunit 4 {[}Source:HGNC Symbol;Acc:HGNC:7459{]} & chrMT                       &   10760 &   12137 & protein\\_coding\\\\\n",
       "\t4 & ENSG00000291375.1 & ENSG00000291375 & FBXO42     & F-box protein 42 {[}Source:HGNC Symbol;Acc:HGNC:29249{]}                                                     & chrHG1343\\_HG173\\_HG459\\_PATCH &   50977 &  156623 & protein\\_coding\\\\\n",
       "\t5 & ENSG00000292225.2 & ENSG00000292225 & NBPF1      & NBPF member 1 {[}Source:HGNC Symbol;Acc:HGNC:26088{]}                                                        & chrHG1343\\_HG173\\_HG459\\_PATCH & 1198562 & 1260797 & protein\\_coding\\\\\n",
       "\t6 & ENSG00000291432.1 & ENSG00000291432 & KRTAP5-AS1 & KRTAP5-1/KRTAP5-2 antisense RNA 1 {[}Source:HGNC Symbol;Acc:HGNC:27877{]}                                    & chrHG152\\_PATCH              &  311329 &  339160 & lncRNA        \\\\\n",
       "\\end{tabular}\n"
      ],
      "text/markdown": [
       "\n",
       "A data.frame: 6 × 8\n",
       "\n",
       "| <!--/--> | ensembl_gene_id_version &lt;chr&gt; | ensembl_gene_id &lt;chr&gt; | external_gene_name &lt;chr&gt; | description &lt;chr&gt; | chromosome_name &lt;chr&gt; | start_position &lt;int&gt; | end_position &lt;int&gt; | gene_biotype &lt;chr&gt; |\n",
       "|---|---|---|---|---|---|---|---|---|\n",
       "| 1 | ENSG00000198763.3 | ENSG00000198763 | MT-ND2     | mitochondrially encoded NADH:ubiquinone oxidoreductase core subunit 2 [Source:HGNC Symbol;Acc:HGNC:7456] | chrMT                       |    4470 |    5511 | protein_coding |\n",
       "| 2 | ENSG00000198804.2 | ENSG00000198804 | MT-CO1     | mitochondrially encoded cytochrome c oxidase I [Source:HGNC Symbol;Acc:HGNC:7419]                        | chrMT                       |    5904 |    7445 | protein_coding |\n",
       "| 3 | ENSG00000198886.2 | ENSG00000198886 | MT-ND4     | mitochondrially encoded NADH:ubiquinone oxidoreductase core subunit 4 [Source:HGNC Symbol;Acc:HGNC:7459] | chrMT                       |   10760 |   12137 | protein_coding |\n",
       "| 4 | ENSG00000291375.1 | ENSG00000291375 | FBXO42     | F-box protein 42 [Source:HGNC Symbol;Acc:HGNC:29249]                                                     | chrHG1343_HG173_HG459_PATCH |   50977 |  156623 | protein_coding |\n",
       "| 5 | ENSG00000292225.2 | ENSG00000292225 | NBPF1      | NBPF member 1 [Source:HGNC Symbol;Acc:HGNC:26088]                                                        | chrHG1343_HG173_HG459_PATCH | 1198562 | 1260797 | protein_coding |\n",
       "| 6 | ENSG00000291432.1 | ENSG00000291432 | KRTAP5-AS1 | KRTAP5-1/KRTAP5-2 antisense RNA 1 [Source:HGNC Symbol;Acc:HGNC:27877]                                    | chrHG152_PATCH              |  311329 |  339160 | lncRNA         |\n",
       "\n"
      ],
      "text/plain": [
       "  ensembl_gene_id_version ensembl_gene_id external_gene_name\n",
       "1 ENSG00000198763.3       ENSG00000198763 MT-ND2            \n",
       "2 ENSG00000198804.2       ENSG00000198804 MT-CO1            \n",
       "3 ENSG00000198886.2       ENSG00000198886 MT-ND4            \n",
       "4 ENSG00000291375.1       ENSG00000291375 FBXO42            \n",
       "5 ENSG00000292225.2       ENSG00000292225 NBPF1             \n",
       "6 ENSG00000291432.1       ENSG00000291432 KRTAP5-AS1        \n",
       "  description                                                                                             \n",
       "1 mitochondrially encoded NADH:ubiquinone oxidoreductase core subunit 2 [Source:HGNC Symbol;Acc:HGNC:7456]\n",
       "2 mitochondrially encoded cytochrome c oxidase I [Source:HGNC Symbol;Acc:HGNC:7419]                       \n",
       "3 mitochondrially encoded NADH:ubiquinone oxidoreductase core subunit 4 [Source:HGNC Symbol;Acc:HGNC:7459]\n",
       "4 F-box protein 42 [Source:HGNC Symbol;Acc:HGNC:29249]                                                    \n",
       "5 NBPF member 1 [Source:HGNC Symbol;Acc:HGNC:26088]                                                       \n",
       "6 KRTAP5-1/KRTAP5-2 antisense RNA 1 [Source:HGNC Symbol;Acc:HGNC:27877]                                   \n",
       "  chromosome_name             start_position end_position gene_biotype  \n",
       "1 chrMT                          4470           5511      protein_coding\n",
       "2 chrMT                          5904           7445      protein_coding\n",
       "3 chrMT                         10760          12137      protein_coding\n",
       "4 chrHG1343_HG173_HG459_PATCH   50977         156623      protein_coding\n",
       "5 chrHG1343_HG173_HG459_PATCH 1198562        1260797      protein_coding\n",
       "6 chrHG152_PATCH               311329         339160      lncRNA        "
      ]
     },
     "metadata": {},
     "output_type": "display_data"
    }
   ],
   "source": [
    "attributes <- c(\"ensembl_gene_id_version\",\"ensembl_gene_id\", \"external_gene_name\", \"description\", \"chromosome_name\", \"start_position\", \"end_position\",\"gene_biotype\")\n",
    "results <- getBM(attributes = attributes, filters = \"external_gene_name\", values = gene_ids, mart = ensembl)\n",
    "results$chromosome_name <- paste0(\"chr\",results$chromosome_name)\n",
    "head(results)"
   ]
  },
  {
   "cell_type": "code",
   "execution_count": null,
   "metadata": {
    "vscode": {
     "languageId": "r"
    }
   },
   "outputs": [],
   "source": [
    "length(results$external_gene_name)\n",
    "length(unique(results$external_gene_name))\n",
    "length(paste0(results$external_gene_name,\"_\",results$gene_biotype))\n",
    "length(unique(paste0(results$external_gene_name,\"_\",results$gene_biotype)))\n",
    "results[order(results$external_gene_name),]\n",
    "\n"
   ]
  },
  {
   "cell_type": "code",
   "execution_count": 3,
   "metadata": {
    "vscode": {
     "languageId": "r"
    }
   },
   "outputs": [
    {
     "data": {
      "text/html": [
       "<table class=\"dataframe\">\n",
       "<caption>A data.frame: 6 × 14</caption>\n",
       "<thead>\n",
       "\t<tr><th></th><th scope=col>V1</th><th scope=col>V2</th><th scope=col>V3</th><th scope=col>V4</th><th scope=col>V5</th><th scope=col>V6</th><th scope=col>V7</th><th scope=col>V8</th><th scope=col>V9</th><th scope=col>V10</th><th scope=col>V11</th><th scope=col>V12</th><th scope=col>V13</th><th scope=col>V14</th></tr>\n",
       "\t<tr><th></th><th scope=col>&lt;chr&gt;</th><th scope=col>&lt;int&gt;</th><th scope=col>&lt;int&gt;</th><th scope=col>&lt;chr&gt;</th><th scope=col>&lt;chr&gt;</th><th scope=col>&lt;chr&gt;</th><th scope=col>&lt;int&gt;</th><th scope=col>&lt;int&gt;</th><th scope=col>&lt;chr&gt;</th><th scope=col>&lt;int&gt;</th><th scope=col>&lt;chr&gt;</th><th scope=col>&lt;int&gt;</th><th scope=col>&lt;int&gt;</th><th scope=col>&lt;int&gt;</th></tr>\n",
       "</thead>\n",
       "<tbody>\n",
       "\t<tr><th scope=row>1</th><td>chr1</td><td>564389</td><td>567994</td><td>RP5-857K21.4</td><td>;</td><td>chr1</td><td>567988</td><td>567989</td><td>AC</td><td> 19</td><td>-</td><td>438</td><td>17949</td><td>1</td></tr>\n",
       "\t<tr><th scope=row>2</th><td>chr1</td><td>564389</td><td>567994</td><td>RP5-857K21.4</td><td>;</td><td>chr1</td><td>567989</td><td>567990</td><td>AC</td><td> 16</td><td>-</td><td>319</td><td>17946</td><td>1</td></tr>\n",
       "\t<tr><th scope=row>3</th><td>chr1</td><td>564389</td><td>567994</td><td>RP5-857K21.4</td><td>;</td><td>chr1</td><td>567993</td><td>567994</td><td>AC</td><td> 11</td><td>-</td><td>423</td><td>17873</td><td>1</td></tr>\n",
       "\t<tr><th scope=row>4</th><td>chr1</td><td>568065</td><td>621095</td><td>RP5-857K21.4</td><td>;</td><td>chr1</td><td>583220</td><td>583221</td><td>AG</td><td> 12</td><td>-</td><td> 22</td><td> 5122</td><td>1</td></tr>\n",
       "\t<tr><th scope=row>5</th><td>chr1</td><td>568065</td><td>621095</td><td>RP5-857K21.4</td><td>;</td><td>chr1</td><td>583222</td><td>583223</td><td>AG</td><td> 21</td><td>-</td><td> 30</td><td> 4846</td><td>1</td></tr>\n",
       "\t<tr><th scope=row>6</th><td>chr1</td><td>622034</td><td>659930</td><td>RP5-857K21.4</td><td>;</td><td>chr1</td><td>657326</td><td>657327</td><td>CA</td><td>397</td><td>-</td><td>825</td><td>  926</td><td>1</td></tr>\n",
       "</tbody>\n",
       "</table>\n"
      ],
      "text/latex": [
       "A data.frame: 6 × 14\n",
       "\\begin{tabular}{r|llllllllllllll}\n",
       "  & V1 & V2 & V3 & V4 & V5 & V6 & V7 & V8 & V9 & V10 & V11 & V12 & V13 & V14\\\\\n",
       "  & <chr> & <int> & <int> & <chr> & <chr> & <chr> & <int> & <int> & <chr> & <int> & <chr> & <int> & <int> & <int>\\\\\n",
       "\\hline\n",
       "\t1 & chr1 & 564389 & 567994 & RP5-857K21.4 & ; & chr1 & 567988 & 567989 & AC &  19 & - & 438 & 17949 & 1\\\\\n",
       "\t2 & chr1 & 564389 & 567994 & RP5-857K21.4 & ; & chr1 & 567989 & 567990 & AC &  16 & - & 319 & 17946 & 1\\\\\n",
       "\t3 & chr1 & 564389 & 567994 & RP5-857K21.4 & ; & chr1 & 567993 & 567994 & AC &  11 & - & 423 & 17873 & 1\\\\\n",
       "\t4 & chr1 & 568065 & 621095 & RP5-857K21.4 & ; & chr1 & 583220 & 583221 & AG &  12 & - &  22 &  5122 & 1\\\\\n",
       "\t5 & chr1 & 568065 & 621095 & RP5-857K21.4 & ; & chr1 & 583222 & 583223 & AG &  21 & - &  30 &  4846 & 1\\\\\n",
       "\t6 & chr1 & 622034 & 659930 & RP5-857K21.4 & ; & chr1 & 657326 & 657327 & CA & 397 & - & 825 &   926 & 1\\\\\n",
       "\\end{tabular}\n"
      ],
      "text/markdown": [
       "\n",
       "A data.frame: 6 × 14\n",
       "\n",
       "| <!--/--> | V1 &lt;chr&gt; | V2 &lt;int&gt; | V3 &lt;int&gt; | V4 &lt;chr&gt; | V5 &lt;chr&gt; | V6 &lt;chr&gt; | V7 &lt;int&gt; | V8 &lt;int&gt; | V9 &lt;chr&gt; | V10 &lt;int&gt; | V11 &lt;chr&gt; | V12 &lt;int&gt; | V13 &lt;int&gt; | V14 &lt;int&gt; |\n",
       "|---|---|---|---|---|---|---|---|---|---|---|---|---|---|---|\n",
       "| 1 | chr1 | 564389 | 567994 | RP5-857K21.4 | ; | chr1 | 567988 | 567989 | AC |  19 | - | 438 | 17949 | 1 |\n",
       "| 2 | chr1 | 564389 | 567994 | RP5-857K21.4 | ; | chr1 | 567989 | 567990 | AC |  16 | - | 319 | 17946 | 1 |\n",
       "| 3 | chr1 | 564389 | 567994 | RP5-857K21.4 | ; | chr1 | 567993 | 567994 | AC |  11 | - | 423 | 17873 | 1 |\n",
       "| 4 | chr1 | 568065 | 621095 | RP5-857K21.4 | ; | chr1 | 583220 | 583221 | AG |  12 | - |  22 |  5122 | 1 |\n",
       "| 5 | chr1 | 568065 | 621095 | RP5-857K21.4 | ; | chr1 | 583222 | 583223 | AG |  21 | - |  30 |  4846 | 1 |\n",
       "| 6 | chr1 | 622034 | 659930 | RP5-857K21.4 | ; | chr1 | 657326 | 657327 | CA | 397 | - | 825 |   926 | 1 |\n",
       "\n"
      ],
      "text/plain": [
       "  V1   V2     V3     V4           V5 V6   V7     V8     V9 V10 V11 V12 V13  \n",
       "1 chr1 564389 567994 RP5-857K21.4 ;  chr1 567988 567989 AC  19 -   438 17949\n",
       "2 chr1 564389 567994 RP5-857K21.4 ;  chr1 567989 567990 AC  16 -   319 17946\n",
       "3 chr1 564389 567994 RP5-857K21.4 ;  chr1 567993 567994 AC  11 -   423 17873\n",
       "4 chr1 568065 621095 RP5-857K21.4 ;  chr1 583220 583221 AG  12 -    22  5122\n",
       "5 chr1 568065 621095 RP5-857K21.4 ;  chr1 583222 583223 AG  21 -    30  4846\n",
       "6 chr1 622034 659930 RP5-857K21.4 ;  chr1 657326 657327 CA 397 -   825   926\n",
       "  V14\n",
       "1 1  \n",
       "2 1  \n",
       "3 1  \n",
       "4 1  \n",
       "5 1  \n",
       "6 1  "
      ]
     },
     "metadata": {},
     "output_type": "display_data"
    }
   ],
   "source": [
    "##在每个富集到res的基因后面备注该基因的类型\n",
    "info <- read.table(\"/disk1/wenqing/tmp_data/PFC_s2/filter_snv_for_new_res/GW26_1_1/GABAergic_neurons/detailed_info_genes_with_all_res.txt\")\n",
    "head(info)"
   ]
  },
  {
   "cell_type": "code",
   "execution_count": 6,
   "metadata": {
    "vscode": {
     "languageId": "r"
    }
   },
   "outputs": [],
   "source": [
    "###注意：一个基因可能有多个基因id，对应不同的类型，在这个部分的分析中，我们去除了有多重gene biotype的gene\n",
    "#仅保留1:1的gene\n",
    "all_gene_types <- c()\n",
    "for(i in 1:nrow(info)){\n",
    "    res <- unique(results$gene_biotype[results$external_gene_name==info$V4[i]])\n",
    "    if(length(res)==1){\n",
    "        gene_type <- res\n",
    "    }else{\n",
    "        gene_type <- 'unKnown'\n",
    "    }\n",
    "    all_gene_types <- c(all_gene_types,gene_type)\n",
    "}"
   ]
  },
  {
   "cell_type": "code",
   "execution_count": 7,
   "metadata": {
    "vscode": {
     "languageId": "r"
    }
   },
   "outputs": [
    {
     "data": {
      "text/plain": [
       "all_gene_types\n",
       "                            lncRNA                              miRNA \n",
       "                               601                                  3 \n",
       "                          misc_RNA               processed_pseudogene \n",
       "                                 2                                  2 \n",
       "                    protein_coding                              scRNA \n",
       "                             19428                                 12 \n",
       "                            snoRNA   transcribed_processed_pseudogene \n",
       "                                 4                                  3 \n",
       "    transcribed_unitary_pseudogene transcribed_unprocessed_pseudogene \n",
       "                                45                                356 \n",
       "                           unKnown             unprocessed_pseudogene \n",
       "                              4995                                139 "
      ]
     },
     "metadata": {},
     "output_type": "display_data"
    }
   ],
   "source": [
    "info$V9 <- all_gene_types\n",
    "table(all_gene_types)"
   ]
  },
  {
   "cell_type": "code",
   "execution_count": 10,
   "metadata": {
    "vscode": {
     "languageId": "r"
    }
   },
   "outputs": [],
   "source": [
    "write.table(info,\"/disk1/wenqing/tmp_data/PFC_s2/all_analysis_result/de_editing/GABAergic_neurons/detailed_info_genes_with_all_edited_res_with_geneType.txt\",quote=F,sep='\\t',col.names=F,row.names=F)"
   ]
  },
  {
   "cell_type": "code",
   "execution_count": 8,
   "metadata": {
    "vscode": {
     "languageId": "r"
    }
   },
   "outputs": [
    {
     "data": {
      "text/plain": [
       "\n",
       "                            lncRNA                              miRNA \n",
       "                               601                                  3 \n",
       "                          misc_RNA               processed_pseudogene \n",
       "                                 2                                  2 \n",
       "                    protein_coding                              scRNA \n",
       "                             19428                                 12 \n",
       "                            snoRNA   transcribed_processed_pseudogene \n",
       "                                 4                                  3 \n",
       "    transcribed_unitary_pseudogene transcribed_unprocessed_pseudogene \n",
       "                                45                                356 \n",
       "                           unKnown             unprocessed_pseudogene \n",
       "                              4995                                139 "
      ]
     },
     "metadata": {},
     "output_type": "display_data"
    }
   ],
   "source": [
    "##统计各类型基因intron富集的res数量\n",
    "table(info$V9)"
   ]
  },
  {
   "cell_type": "code",
   "execution_count": 9,
   "metadata": {
    "vscode": {
     "languageId": "r"
    }
   },
   "outputs": [
    {
     "data": {
      "text/html": [
       "582"
      ],
      "text/latex": [
       "582"
      ],
      "text/markdown": [
       "582"
      ],
      "text/plain": [
       "[1] 582"
      ]
     },
     "metadata": {},
     "output_type": "display_data"
    },
    {
     "data": {
      "text/html": [
       "18281"
      ],
      "text/latex": [
       "18281"
      ],
      "text/markdown": [
       "18281"
      ],
      "text/plain": [
       "[1] 18281"
      ]
     },
     "metadata": {},
     "output_type": "display_data"
    }
   ],
   "source": [
    "lncRNA_dat <- info[which(info$V9=='lncRNA'),]\n",
    "length(unique(paste0(lncRNA_dat$V6,\"_\",lncRNA_dat$V8)))\n",
    "mRNA_dat <- info[which(info$V9=='protein_coding'),]\n",
    "length(unique(paste0(mRNA_dat$V6,\"_\",mRNA_dat$V8)))"
   ]
  },
  {
   "cell_type": "code",
   "execution_count": 4,
   "metadata": {
    "vscode": {
     "languageId": "r"
    }
   },
   "outputs": [
    {
     "data": {
      "text/html": [
       "<table class=\"dataframe\">\n",
       "<caption>A data.frame: 6 × 9</caption>\n",
       "<thead>\n",
       "\t<tr><th></th><th scope=col>V1</th><th scope=col>V2</th><th scope=col>V3</th><th scope=col>V4</th><th scope=col>V5</th><th scope=col>V6</th><th scope=col>V7</th><th scope=col>V8</th><th scope=col>V9</th></tr>\n",
       "\t<tr><th></th><th scope=col>&lt;chr&gt;</th><th scope=col>&lt;int&gt;</th><th scope=col>&lt;int&gt;</th><th scope=col>&lt;dbl&gt;</th><th scope=col>&lt;chr&gt;</th><th scope=col>&lt;int&gt;</th><th scope=col>&lt;int&gt;</th><th scope=col>&lt;int&gt;</th><th scope=col>&lt;chr&gt;</th></tr>\n",
       "</thead>\n",
       "<tbody>\n",
       "\t<tr><th scope=row>1</th><td>chr1</td><td>145510938</td><td>145514420</td><td>128.2240092</td><td>chr1</td><td>145511928</td><td>145511929</td><td>1</td><td>chr1_145510938_145514420</td></tr>\n",
       "\t<tr><th scope=row>2</th><td>chr1</td><td>145510938</td><td>145514420</td><td>128.2240092</td><td>chr1</td><td>145511982</td><td>145511983</td><td>1</td><td>chr1_145510938_145514420</td></tr>\n",
       "\t<tr><th scope=row>3</th><td>chr1</td><td>145510938</td><td>145514420</td><td>128.2240092</td><td>chr1</td><td>145511997</td><td>145511998</td><td>1</td><td>chr1_145510938_145514420</td></tr>\n",
       "\t<tr><th scope=row>4</th><td>chr2</td><td> 80136923</td><td> 80532229</td><td>  0.3557139</td><td>chr2</td><td> 80426140</td><td> 80426141</td><td>1</td><td>chr2_80136923_80532229  </td></tr>\n",
       "\t<tr><th scope=row>5</th><td>chr2</td><td> 80136923</td><td> 80532229</td><td>  0.3557139</td><td>chr2</td><td> 80426185</td><td> 80426186</td><td>1</td><td>chr2_80136923_80532229  </td></tr>\n",
       "\t<tr><th scope=row>6</th><td>chr2</td><td> 80136923</td><td> 80532229</td><td>  0.3557139</td><td>chr2</td><td> 80428532</td><td> 80428533</td><td>1</td><td>chr2_80136923_80532229  </td></tr>\n",
       "</tbody>\n",
       "</table>\n"
      ],
      "text/latex": [
       "A data.frame: 6 × 9\n",
       "\\begin{tabular}{r|lllllllll}\n",
       "  & V1 & V2 & V3 & V4 & V5 & V6 & V7 & V8 & V9\\\\\n",
       "  & <chr> & <int> & <int> & <dbl> & <chr> & <int> & <int> & <int> & <chr>\\\\\n",
       "\\hline\n",
       "\t1 & chr1 & 145510938 & 145514420 & 128.2240092 & chr1 & 145511928 & 145511929 & 1 & chr1\\_145510938\\_145514420\\\\\n",
       "\t2 & chr1 & 145510938 & 145514420 & 128.2240092 & chr1 & 145511982 & 145511983 & 1 & chr1\\_145510938\\_145514420\\\\\n",
       "\t3 & chr1 & 145510938 & 145514420 & 128.2240092 & chr1 & 145511997 & 145511998 & 1 & chr1\\_145510938\\_145514420\\\\\n",
       "\t4 & chr2 &  80136923 &  80532229 &   0.3557139 & chr2 &  80426140 &  80426141 & 1 & chr2\\_80136923\\_80532229  \\\\\n",
       "\t5 & chr2 &  80136923 &  80532229 &   0.3557139 & chr2 &  80426185 &  80426186 & 1 & chr2\\_80136923\\_80532229  \\\\\n",
       "\t6 & chr2 &  80136923 &  80532229 &   0.3557139 & chr2 &  80428532 &  80428533 & 1 & chr2\\_80136923\\_80532229  \\\\\n",
       "\\end{tabular}\n"
      ],
      "text/markdown": [
       "\n",
       "A data.frame: 6 × 9\n",
       "\n",
       "| <!--/--> | V1 &lt;chr&gt; | V2 &lt;int&gt; | V3 &lt;int&gt; | V4 &lt;dbl&gt; | V5 &lt;chr&gt; | V6 &lt;int&gt; | V7 &lt;int&gt; | V8 &lt;int&gt; | V9 &lt;chr&gt; |\n",
       "|---|---|---|---|---|---|---|---|---|---|\n",
       "| 1 | chr1 | 145510938 | 145514420 | 128.2240092 | chr1 | 145511928 | 145511929 | 1 | chr1_145510938_145514420 |\n",
       "| 2 | chr1 | 145510938 | 145514420 | 128.2240092 | chr1 | 145511982 | 145511983 | 1 | chr1_145510938_145514420 |\n",
       "| 3 | chr1 | 145510938 | 145514420 | 128.2240092 | chr1 | 145511997 | 145511998 | 1 | chr1_145510938_145514420 |\n",
       "| 4 | chr2 |  80136923 |  80532229 |   0.3557139 | chr2 |  80426140 |  80426141 | 1 | chr2_80136923_80532229   |\n",
       "| 5 | chr2 |  80136923 |  80532229 |   0.3557139 | chr2 |  80426185 |  80426186 | 1 | chr2_80136923_80532229   |\n",
       "| 6 | chr2 |  80136923 |  80532229 |   0.3557139 | chr2 |  80428532 |  80428533 | 1 | chr2_80136923_80532229   |\n",
       "\n"
      ],
      "text/plain": [
       "  V1   V2        V3        V4          V5   V6        V7        V8\n",
       "1 chr1 145510938 145514420 128.2240092 chr1 145511928 145511929 1 \n",
       "2 chr1 145510938 145514420 128.2240092 chr1 145511982 145511983 1 \n",
       "3 chr1 145510938 145514420 128.2240092 chr1 145511997 145511998 1 \n",
       "4 chr2  80136923  80532229   0.3557139 chr2  80426140  80426141 1 \n",
       "5 chr2  80136923  80532229   0.3557139 chr2  80426185  80426186 1 \n",
       "6 chr2  80136923  80532229   0.3557139 chr2  80428532  80428533 1 \n",
       "  V9                      \n",
       "1 chr1_145510938_145514420\n",
       "2 chr1_145510938_145514420\n",
       "3 chr1_145510938_145514420\n",
       "4 chr2_80136923_80532229  \n",
       "5 chr2_80136923_80532229  \n",
       "6 chr2_80136923_80532229  "
      ]
     },
     "metadata": {},
     "output_type": "display_data"
    }
   ],
   "source": [
    "############\n",
    "setwd(\"/disk1/wenqing/tmp_data/PFC_s2/all_analysis_result/lncRNA_mRNA/3_groups_res/GABA/down\")\n",
    "\n",
    "RNA_res <- read.table(\"mRNA_exon_down.res\")\n",
    "RNA_res$V9 <- paste0(RNA_res$V1,\"_\",RNA_res$V2,\"_\",RNA_res$V3)\n",
    "head(RNA_res)"
   ]
  },
  {
   "cell_type": "code",
   "execution_count": null,
   "metadata": {
    "vscode": {
     "languageId": "r"
    }
   },
   "outputs": [],
   "source": [
    "find_gene_res_num <- function(x){\n",
    "    gene <- strsplit(uniq_gene_region[x],\"_\")[[1]][4]\n",
    "    res_num <- sum(dat$V8[dat$V4==gene])\n",
    "    return(res_num)\n",
    "}"
   ]
  },
  {
   "cell_type": "code",
   "execution_count": null,
   "metadata": {
    "vscode": {
     "languageId": "r"
    }
   },
   "outputs": [
    {
     "name": "stdout",
     "output_type": "stream",
     "text": [
      "[1] \"GW23_1_2\"\n"
     ]
    }
   ],
   "source": [
    "###只计算了ag type的res的基因\n",
    "#samples=c('GW08','GW12','GW16_1_3','GW16_1_4','GW16_1_9','GW19_1_1','GW19_1_2','GW19_1_3','GW23_1_1','GW23_1_2','GW23_1_3','GW26_1_1','GW26_1_2','GW26_1_3','GW26_1_4','GW26_1_5','GW26_1_6','GW26_1_7','GW26_1_8','GW26_1_9','GW26_1_10')\n",
    "samples=c('GW23_1_2')\n",
    "for(one in samples){\n",
    "    print(one)\n",
    "    #one='GW08'\n",
    "    #data_all <- read.table(paste0(\"/disk1/wenqing/tmp_data/PFC_s2/all_analysis_result/AEI/GABAergic_neurons/\",one,\"/geneWithRegular_res.txt\"))\n",
    "    dat <- read.table(paste0(\"/disk1/wenqing/tmp_data/PFC_s2/all_analysis_result/AEI/GABAergic_neurons/\",one,\"/geneWithRegular_res.txt\"))\n",
    "\n",
    "    #dat <- data_all[which(data_all[,7]=='AG'),]\n",
    "\n",
    "    dat$V10 <- paste0(dat$V1,\"_\",dat$V2,\"_\",dat$V3,\"_\",dat$V4)\n",
    "    #head(dat)\n",
    "    uniq_gene_region <- unique(dat$V10)\n",
    "    #length(uniq_gene_region)\n",
    "\n",
    "    gene_res_num <- apply(as.matrix(1:length(uniq_gene_region)),1,find_gene_res_num)\n",
    "\n",
    "\n",
    "    new_dat_col1 <- apply(as.matrix(1:length(uniq_gene_region)),1,function(x) {col1 <- strsplit(uniq_gene_region[x],\"_\")[[1]][1]})\n",
    "    new_dat_col2 <- apply(as.matrix(1:length(uniq_gene_region)),1,function(x) {col1 <- strsplit(uniq_gene_region[x],\"_\")[[1]][2]})\n",
    "    new_dat_col3 <- apply(as.matrix(1:length(uniq_gene_region)),1,function(x) {col1 <- strsplit(uniq_gene_region[x],\"_\")[[1]][3]})\n",
    "    new_dat_col4 <- apply(as.matrix(1:length(uniq_gene_region)),1,function(x) {col1 <- strsplit(uniq_gene_region[x],\"_\")[[1]][4]})\n",
    "    new_dat_col5 <- gene_res_num\n",
    "    new_dat <- as.data.frame(cbind(new_dat_col1,new_dat_col2,new_dat_col3,new_dat_col4,new_dat_col5))\n",
    "    write.table(new_dat,paste0(\"/disk1/wenqing/tmp_data/PFC_s2/all_analysis_result/AEI/GABAergic_neurons/\",one,\"/geneWzRes_ad.txt\"),quote=F,col.names=F,row.names=F,sep='\\t')\n",
    "}"
   ]
  }
 ],
 "metadata": {
  "kernelspec": {
   "display_name": "R",
   "language": "R",
   "name": "ir"
  },
  "language_info": {
   "codemirror_mode": "r",
   "file_extension": ".r",
   "mimetype": "text/x-r-source",
   "name": "R",
   "pygments_lexer": "r",
   "version": "4.3.1"
  },
  "orig_nbformat": 4,
  "vscode": {
   "interpreter": {
    "hash": "31f2aee4e71d21fbe5cf8b01ff0e069b9275f58929596ceb00d14d90e3e16cd6"
   }
  }
 },
 "nbformat": 4,
 "nbformat_minor": 2
}
