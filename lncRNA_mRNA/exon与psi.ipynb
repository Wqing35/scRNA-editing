{
 "cells": [
  {
   "cell_type": "markdown",
   "metadata": {},
   "source": [
    "##########计算lncRNA/lncRNA-exon编辑水平和psi的相关性\n",
    "\n",
    "#step1: 先整理lncRNA/mRNA_exon_down.res格式，每个exon的标注不一致，另赋一个名称\n",
    "line_count=$(wc -l < mRNA_exon_down.res)\n",
    "\n",
    "int_array=($(seq 1 $line_count))\n",
    "\n",
    "declare -a exon_name\n",
    "for one in ${int_array[@]};\n",
    "do\n",
    "    exon_name+=(\"exon$one\")\n",
    "done\n",
    "\n",
    "paste \"mRNA_exon_down.res\" <(printf \"%s\\n\" \"${exon_name[@]}\") > mRNA_exon_down.wzexonName.res\n",
    "#random_number=$((RANDOM % (line_count + 1))) #生成随机数的命令0-line_count\n"
   ]
  },
  {
   "cell_type": "code",
   "execution_count": 11,
   "metadata": {
    "vscode": {
     "languageId": "r"
    }
   },
   "outputs": [
    {
     "data": {
      "text/html": [
       "<table class=\"dataframe\">\n",
       "<caption>A data.frame: 6 × 9</caption>\n",
       "<thead>\n",
       "\t<tr><th></th><th scope=col>V1</th><th scope=col>V2</th><th scope=col>V3</th><th scope=col>V4</th><th scope=col>V5</th><th scope=col>V6</th><th scope=col>V7</th><th scope=col>V8</th><th scope=col>V9</th></tr>\n",
       "\t<tr><th></th><th scope=col>&lt;chr&gt;</th><th scope=col>&lt;int&gt;</th><th scope=col>&lt;int&gt;</th><th scope=col>&lt;chr&gt;</th><th scope=col>&lt;chr&gt;</th><th scope=col>&lt;chr&gt;</th><th scope=col>&lt;int&gt;</th><th scope=col>&lt;int&gt;</th><th scope=col>&lt;chr&gt;</th></tr>\n",
       "</thead>\n",
       "<tbody>\n",
       "\t<tr><th scope=row>1</th><td>chr1</td><td>10133176</td><td>10155518</td><td>ENSG00000130939.14</td><td>;</td><td>chr1</td><td>10152629</td><td>10152630</td><td>chr1_10133176_10155518</td></tr>\n",
       "\t<tr><th scope=row>2</th><td>chr1</td><td>10133176</td><td>10155518</td><td>ENSG00000130939.14</td><td>;</td><td>chr1</td><td>10152830</td><td>10152831</td><td>chr1_10133176_10155518</td></tr>\n",
       "\t<tr><th scope=row>3</th><td>chr1</td><td>15054001</td><td>15180667</td><td>ENSG00000189337.11</td><td>;</td><td>chr1</td><td>15089042</td><td>15089043</td><td>chr1_15054001_15180667</td></tr>\n",
       "\t<tr><th scope=row>4</th><td>chr1</td><td>15054001</td><td>15180667</td><td>ENSG00000189337.11</td><td>;</td><td>chr1</td><td>15089099</td><td>15089100</td><td>chr1_15054001_15180667</td></tr>\n",
       "\t<tr><th scope=row>5</th><td>chr1</td><td>15054001</td><td>15180667</td><td>ENSG00000189337.11</td><td>;</td><td>chr1</td><td>15158571</td><td>15158572</td><td>chr1_15054001_15180667</td></tr>\n",
       "\t<tr><th scope=row>6</th><td>chr1</td><td>21276604</td><td>21295966</td><td>ENSG00000075151.15</td><td>;</td><td>chr1</td><td>21281796</td><td>21281797</td><td>chr1_21276604_21295966</td></tr>\n",
       "</tbody>\n",
       "</table>\n"
      ],
      "text/latex": [
       "A data.frame: 6 × 9\n",
       "\\begin{tabular}{r|lllllllll}\n",
       "  & V1 & V2 & V3 & V4 & V5 & V6 & V7 & V8 & V9\\\\\n",
       "  & <chr> & <int> & <int> & <chr> & <chr> & <chr> & <int> & <int> & <chr>\\\\\n",
       "\\hline\n",
       "\t1 & chr1 & 10133176 & 10155518 & ENSG00000130939.14 & ; & chr1 & 10152629 & 10152630 & chr1\\_10133176\\_10155518\\\\\n",
       "\t2 & chr1 & 10133176 & 10155518 & ENSG00000130939.14 & ; & chr1 & 10152830 & 10152831 & chr1\\_10133176\\_10155518\\\\\n",
       "\t3 & chr1 & 15054001 & 15180667 & ENSG00000189337.11 & ; & chr1 & 15089042 & 15089043 & chr1\\_15054001\\_15180667\\\\\n",
       "\t4 & chr1 & 15054001 & 15180667 & ENSG00000189337.11 & ; & chr1 & 15089099 & 15089100 & chr1\\_15054001\\_15180667\\\\\n",
       "\t5 & chr1 & 15054001 & 15180667 & ENSG00000189337.11 & ; & chr1 & 15158571 & 15158572 & chr1\\_15054001\\_15180667\\\\\n",
       "\t6 & chr1 & 21276604 & 21295966 & ENSG00000075151.15 & ; & chr1 & 21281796 & 21281797 & chr1\\_21276604\\_21295966\\\\\n",
       "\\end{tabular}\n"
      ],
      "text/markdown": [
       "\n",
       "A data.frame: 6 × 9\n",
       "\n",
       "| <!--/--> | V1 &lt;chr&gt; | V2 &lt;int&gt; | V3 &lt;int&gt; | V4 &lt;chr&gt; | V5 &lt;chr&gt; | V6 &lt;chr&gt; | V7 &lt;int&gt; | V8 &lt;int&gt; | V9 &lt;chr&gt; |\n",
       "|---|---|---|---|---|---|---|---|---|---|\n",
       "| 1 | chr1 | 10133176 | 10155518 | ENSG00000130939.14 | ; | chr1 | 10152629 | 10152630 | chr1_10133176_10155518 |\n",
       "| 2 | chr1 | 10133176 | 10155518 | ENSG00000130939.14 | ; | chr1 | 10152830 | 10152831 | chr1_10133176_10155518 |\n",
       "| 3 | chr1 | 15054001 | 15180667 | ENSG00000189337.11 | ; | chr1 | 15089042 | 15089043 | chr1_15054001_15180667 |\n",
       "| 4 | chr1 | 15054001 | 15180667 | ENSG00000189337.11 | ; | chr1 | 15089099 | 15089100 | chr1_15054001_15180667 |\n",
       "| 5 | chr1 | 15054001 | 15180667 | ENSG00000189337.11 | ; | chr1 | 15158571 | 15158572 | chr1_15054001_15180667 |\n",
       "| 6 | chr1 | 21276604 | 21295966 | ENSG00000075151.15 | ; | chr1 | 21281796 | 21281797 | chr1_21276604_21295966 |\n",
       "\n"
      ],
      "text/plain": [
       "  V1   V2       V3       V4                 V5 V6   V7       V8      \n",
       "1 chr1 10133176 10155518 ENSG00000130939.14 ;  chr1 10152629 10152630\n",
       "2 chr1 10133176 10155518 ENSG00000130939.14 ;  chr1 10152830 10152831\n",
       "3 chr1 15054001 15180667 ENSG00000189337.11 ;  chr1 15089042 15089043\n",
       "4 chr1 15054001 15180667 ENSG00000189337.11 ;  chr1 15089099 15089100\n",
       "5 chr1 15054001 15180667 ENSG00000189337.11 ;  chr1 15158571 15158572\n",
       "6 chr1 21276604 21295966 ENSG00000075151.15 ;  chr1 21281796 21281797\n",
       "  V9                    \n",
       "1 chr1_10133176_10155518\n",
       "2 chr1_10133176_10155518\n",
       "3 chr1_15054001_15180667\n",
       "4 chr1_15054001_15180667\n",
       "5 chr1_15054001_15180667\n",
       "6 chr1_21276604_21295966"
      ]
     },
     "metadata": {},
     "output_type": "display_data"
    }
   ],
   "source": [
    "######整理整个发育阶段的regular.res（和all res有交集的）\n",
    "############\n",
    "setwd(\"/disk1/wenqing/tmp_data/PFC_s2/all_analysis_result/lncRNA_mRNA/3_groups_res/GABA/down\")\n",
    "\n",
    "RNA_res <- read.table(\"mRNA_exon_down.res\")\n",
    "RNA_res$V9 <- paste0(RNA_res$V1,\"_\",RNA_res$V2,\"_\",RNA_res$V3)\n",
    "head(RNA_res)"
   ]
  },
  {
   "cell_type": "code",
   "execution_count": 3,
   "metadata": {
    "vscode": {
     "languageId": "r"
    }
   },
   "outputs": [],
   "source": [
    "##将所有样本res的ad相加\n",
    "setwd(\"/disk1/wenqing/tmp_data/PFC_s2/filter_snv_for_new_res\")\n",
    "res_08 <- read.table(\"./GW08/GABAergic_neurons/regular.res.depth.orig\")\n",
    "res_12 <- read.table(\"./GW12/GABAergic_neurons/regular.res.depth.orig\")\n",
    "res_16_3 <- read.table(\"./GW16_1_3/GABAergic_neurons/regular.res.depth.orig\")\n",
    "res_16_4 <- read.table(\"./GW16_1_4/GABAergic_neurons/regular.res.depth.orig\")\n",
    "res_16_9 <- read.table(\"./GW16_1_9/GABAergic_neurons/regular.res.depth.orig\")\n",
    "res_19_1 <- read.table(\"./GW19_1_1/GABAergic_neurons/regular.res.depth.orig\")\n",
    "res_19_2 <- read.table(\"./GW19_1_2/GABAergic_neurons/regular.res.depth.orig\")\n",
    "res_19_3 <- read.table(\"./GW19_1_3/GABAergic_neurons/regular.res.depth.orig\")\n",
    "res_23_1 <- read.table(\"./GW23_1_1/GABAergic_neurons/regular.res.depth.orig\")\n",
    "res_23_2 <- read.table(\"./GW23_1_2/GABAergic_neurons/regular.res.depth.orig\")\n",
    "res_23_3 <- read.table(\"./GW23_1_3/GABAergic_neurons/regular.res.depth.orig\")\n",
    "res_26_1 <- read.table(\"./GW26_1_1/GABAergic_neurons/regular.res.depth.orig\")\n"
   ]
  },
  {
   "cell_type": "code",
   "execution_count": 4,
   "metadata": {
    "vscode": {
     "languageId": "r"
    }
   },
   "outputs": [],
   "source": [
    "res_08 <- res_08[which(res_08$V4=='AG'),]\n",
    "res_12 <- res_08[which(res_08$V4=='AG'),]\n",
    "res_16_3 <- res_16_3[which(res_16_3$V4=='AG'),]\n",
    "res_16_4 <- res_16_4[which(res_16_4$V4=='AG'),]\n",
    "res_16_9 <- res_16_9[which(res_16_9$V4=='AG'),]\n",
    "res_19_1 <- res_19_1[which(res_19_1$V4=='AG'),]\n",
    "res_19_2 <- res_19_2[which(res_19_2$V4=='AG'),]\n",
    "res_19_3 <- res_19_3[which(res_19_3$V4=='AG'),]\n",
    "res_23_1 <- res_23_1[which(res_23_1$V4=='AG'),]\n",
    "res_23_2 <- res_23_2[which(res_23_2$V4=='AG'),]\n",
    "res_23_3 <- res_23_3[which(res_23_3$V4=='AG'),]\n",
    "res_26_1 <- res_26_1[which(res_26_1$V4=='AG'),]\n"
   ]
  },
  {
   "cell_type": "code",
   "execution_count": 5,
   "metadata": {
    "vscode": {
     "languageId": "r"
    }
   },
   "outputs": [
    {
     "data": {
      "text/html": [
       "<table class=\"dataframe\">\n",
       "<caption>A data.frame: 6 × 8</caption>\n",
       "<thead>\n",
       "\t<tr><th></th><th scope=col>V1</th><th scope=col>V2</th><th scope=col>V3</th><th scope=col>V4</th><th scope=col>V5</th><th scope=col>V6</th><th scope=col>V7</th><th scope=col>V8</th></tr>\n",
       "\t<tr><th></th><th scope=col>&lt;chr&gt;</th><th scope=col>&lt;int&gt;</th><th scope=col>&lt;int&gt;</th><th scope=col>&lt;chr&gt;</th><th scope=col>&lt;int&gt;</th><th scope=col>&lt;chr&gt;</th><th scope=col>&lt;int&gt;</th><th scope=col>&lt;int&gt;</th></tr>\n",
       "</thead>\n",
       "<tbody>\n",
       "\t<tr><th scope=row>5</th><td>chr1</td><td>11780415</td><td>11780416</td><td>AG</td><td>32</td><td>-</td><td>34</td><td>34</td></tr>\n",
       "\t<tr><th scope=row>6</th><td>chr1</td><td>11780473</td><td>11780474</td><td>AG</td><td>63</td><td>-</td><td>68</td><td>68</td></tr>\n",
       "\t<tr><th scope=row>7</th><td>chr1</td><td>19585568</td><td>19585569</td><td>AG</td><td>20</td><td>-</td><td>21</td><td>38</td></tr>\n",
       "\t<tr><th scope=row>8</th><td>chr1</td><td>19585570</td><td>19585571</td><td>AG</td><td>20</td><td>-</td><td>22</td><td>37</td></tr>\n",
       "\t<tr><th scope=row>9</th><td>chr1</td><td>19585602</td><td>19585603</td><td>AG</td><td>13</td><td>-</td><td>20</td><td>21</td></tr>\n",
       "\t<tr><th scope=row>10</th><td>chr1</td><td>19585605</td><td>19585606</td><td>AG</td><td>15</td><td>-</td><td>20</td><td>20</td></tr>\n",
       "</tbody>\n",
       "</table>\n"
      ],
      "text/latex": [
       "A data.frame: 6 × 8\n",
       "\\begin{tabular}{r|llllllll}\n",
       "  & V1 & V2 & V3 & V4 & V5 & V6 & V7 & V8\\\\\n",
       "  & <chr> & <int> & <int> & <chr> & <int> & <chr> & <int> & <int>\\\\\n",
       "\\hline\n",
       "\t5 & chr1 & 11780415 & 11780416 & AG & 32 & - & 34 & 34\\\\\n",
       "\t6 & chr1 & 11780473 & 11780474 & AG & 63 & - & 68 & 68\\\\\n",
       "\t7 & chr1 & 19585568 & 19585569 & AG & 20 & - & 21 & 38\\\\\n",
       "\t8 & chr1 & 19585570 & 19585571 & AG & 20 & - & 22 & 37\\\\\n",
       "\t9 & chr1 & 19585602 & 19585603 & AG & 13 & - & 20 & 21\\\\\n",
       "\t10 & chr1 & 19585605 & 19585606 & AG & 15 & - & 20 & 20\\\\\n",
       "\\end{tabular}\n"
      ],
      "text/markdown": [
       "\n",
       "A data.frame: 6 × 8\n",
       "\n",
       "| <!--/--> | V1 &lt;chr&gt; | V2 &lt;int&gt; | V3 &lt;int&gt; | V4 &lt;chr&gt; | V5 &lt;int&gt; | V6 &lt;chr&gt; | V7 &lt;int&gt; | V8 &lt;int&gt; |\n",
       "|---|---|---|---|---|---|---|---|---|\n",
       "| 5 | chr1 | 11780415 | 11780416 | AG | 32 | - | 34 | 34 |\n",
       "| 6 | chr1 | 11780473 | 11780474 | AG | 63 | - | 68 | 68 |\n",
       "| 7 | chr1 | 19585568 | 19585569 | AG | 20 | - | 21 | 38 |\n",
       "| 8 | chr1 | 19585570 | 19585571 | AG | 20 | - | 22 | 37 |\n",
       "| 9 | chr1 | 19585602 | 19585603 | AG | 13 | - | 20 | 21 |\n",
       "| 10 | chr1 | 19585605 | 19585606 | AG | 15 | - | 20 | 20 |\n",
       "\n"
      ],
      "text/plain": [
       "   V1   V2       V3       V4 V5 V6 V7 V8\n",
       "5  chr1 11780415 11780416 AG 32 -  34 34\n",
       "6  chr1 11780473 11780474 AG 63 -  68 68\n",
       "7  chr1 19585568 19585569 AG 20 -  21 38\n",
       "8  chr1 19585570 19585571 AG 20 -  22 37\n",
       "9  chr1 19585602 19585603 AG 13 -  20 21\n",
       "10 chr1 19585605 19585606 AG 15 -  20 20"
      ]
     },
     "metadata": {},
     "output_type": "display_data"
    }
   ],
   "source": [
    "head(res_08)\n",
    "res_08$V9 <- paste0(res_08$V1,\"_\",res_08$V3)\n",
    "res_12$V9 <- paste0(res_12$V1,\"_\",res_12$V3)\n",
    "res_16_3$V9 <- paste0(res_16_3$V1,\"_\",res_16_3$V3)\n",
    "res_16_4$V9 <- paste0(res_16_4$V1,\"_\",res_16_4$V3)\n",
    "res_16_9$V9 <- paste0(res_16_9$V1,\"_\",res_16_9$V3)\n",
    "res_19_1$V9 <- paste0(res_19_1$V1,\"_\",res_19_1$V3)\n",
    "res_19_2$V9 <- paste0(res_19_2$V1,\"_\",res_19_2$V3)\n",
    "res_19_3$V9 <- paste0(res_19_3$V1,\"_\",res_19_3$V3)\n",
    "res_23_1$V9 <- paste0(res_23_1$V1,\"_\",res_23_1$V3)\n",
    "res_23_2$V9 <- paste0(res_23_2$V1,\"_\",res_23_2$V3)\n",
    "res_23_3$V9 <- paste0(res_23_3$V1,\"_\",res_23_3$V3)\n",
    "res_26_1$V9 <- paste0(res_26_1$V1,\"_\",res_26_1$V3)"
   ]
  },
  {
   "cell_type": "code",
   "execution_count": 12,
   "metadata": {
    "vscode": {
     "languageId": "r"
    }
   },
   "outputs": [],
   "source": [
    "#计算每一个res的ad\n",
    "res_ad_sum_array <- c()\n",
    "for(i in 1:nrow(RNA_res)){\n",
    "    this_res <- paste0(RNA_res$V6,\"_\",RNA_res$V8)[i]\n",
    "    ad_08_for_this_res <- res_08$V5[which(res_08$V9==this_res)]\n",
    "    ad_12_for_this_res <- res_12$V5[which(res_12$V9==this_res)]\n",
    "    ad_16_3_for_this_res <- res_16_3$V5[which(res_16_3$V9==this_res)]\n",
    "    ad_16_4_for_this_res <- res_16_4$V5[which(res_16_4$V9==this_res)]\n",
    "    ad_16_9_for_this_res <- res_16_9$V5[which(res_16_9$V9==this_res)]\n",
    "    ad_19_1_for_this_res <- res_19_1$V5[which(res_19_1$V9==this_res)]\n",
    "    ad_19_2_for_this_res <- res_19_2$V5[which(res_19_2$V9==this_res)]\n",
    "    ad_19_3_for_this_res <- res_19_3$V5[which(res_19_3$V9==this_res)]\n",
    "    ad_23_1_for_this_res <- res_23_1$V5[which(res_23_1$V9==this_res)]\n",
    "    ad_23_2_for_this_res <- res_23_2$V5[which(res_23_2$V9==this_res)]\n",
    "    ad_23_3_for_this_res <- res_23_3$V5[which(res_23_3$V9==this_res)]\n",
    "    ad_26_1_for_this_res <- res_26_1$V5[which(res_26_1$V9==this_res)]\n",
    "    this_res_ad_sum <- sum(ad_08_for_this_res,ad_12_for_this_res,ad_16_3_for_this_res,ad_16_4_for_this_res,\n",
    "                            ad_16_9_for_this_res,ad_19_1_for_this_res,ad_19_2_for_this_res,ad_19_3_for_this_res,\n",
    "                            ad_23_1_for_this_res,ad_23_2_for_this_res,ad_23_3_for_this_res,ad_26_1_for_this_res)\n",
    "    res_ad_sum_array <- c(res_ad_sum_array,this_res_ad_sum)\n",
    "}"
   ]
  },
  {
   "cell_type": "code",
   "execution_count": 13,
   "metadata": {
    "vscode": {
     "languageId": "r"
    }
   },
   "outputs": [],
   "source": [
    "new_RNA_res_wzAD <- cbind(RNA_res,res_ad_sum_array)\n",
    "new_RNA_res_wzAD <- new_RNA_res_wzAD[which(new_RNA_res_wzAD$res_ad_sum_array > 0),]"
   ]
  },
  {
   "cell_type": "code",
   "execution_count": 14,
   "metadata": {
    "vscode": {
     "languageId": "r"
    }
   },
   "outputs": [],
   "source": [
    "ad_num_in_region <- c()\n",
    "for(one in unique(new_RNA_res_wzAD$V9)){\n",
    "    ad_num <- sum(new_RNA_res_wzAD$res_ad_sum_array[which(new_RNA_res_wzAD$V9==one)])\n",
    "    ad_num_in_region <- c(ad_num_in_region,ad_num)\n",
    "}"
   ]
  },
  {
   "cell_type": "code",
   "execution_count": 15,
   "metadata": {
    "vscode": {
     "languageId": "r"
    }
   },
   "outputs": [
    {
     "data": {
      "text/html": [
       "64"
      ],
      "text/latex": [
       "64"
      ],
      "text/markdown": [
       "64"
      ],
      "text/plain": [
       "[1] 64"
      ]
     },
     "metadata": {},
     "output_type": "display_data"
    }
   ],
   "source": [
    "length(ad_num_in_region)\n"
   ]
  },
  {
   "cell_type": "code",
   "execution_count": 10,
   "metadata": {
    "vscode": {
     "languageId": "r"
    }
   },
   "outputs": [],
   "source": [
    "#构造RNA region的geneWzRes_onlyAG_ad.txt\n",
    "regionWzRes_onlyAG_ad <- as.data.frame(cbind(unique(new_RNA_res_wzAD$V9),ad_num_in_region))\n",
    "setwd(\"/disk1/wenqing/tmp_data/PFC_s2/all_analysis_result/lncRNA_mRNA/3_groups_res/GABA/down\")\n",
    "write.table(regionWzRes_onlyAG_ad,\"./mRNA_exon_WzRes_onlyAG_ad.txt\",sep='\\t',col.names=F,row.names=F,quote=F)"
   ]
  },
  {
   "cell_type": "markdown",
   "metadata": {},
   "source": [
    "paste <(awk '{print $1}' mRNA_exon_WzRes_onlyAG_ad.txt|sed 's/_/\\t/g') mRNA_exon_WzRes_onlyAG_ad.txt > mRNA_exon_WzRes_onlyAG_ad.processed.txt\n",
    "bedtools sort -faidx ~/tmp_data/names.txt -i mRNA_exon_WzRes_onlyAG_ad.processed.txt > mRNA_exon_WzRes_onlyAG_ad.processed.srt.txt\n",
    "\n",
    "#合并所有样本GABA的regular_combined.zz\n",
    "cat /disk1/wenqing/tmp_data/PFC_s2/all_analysis_result/AEI/GABAergic_neurons/GW08/regular_combined.zz /disk1/wenqing/tmp_data/PFC_s2/all_analysis_result/AEI/GABAergic_neurons/GW12/regular_combined.zz /disk1/wenqing/tmp_data/PFC_s2/all_analysis_result/AEI/GABAergic_neurons/GW16_1_3/regular_combined.zz /disk1/wenqing/tmp_data/PFC_s2/all_analysis_result/AEI/GABAergic_neurons/GW16_1_4/regular_combined.zz /disk1/wenqing/tmp_data/PFC_s2/all_analysis_result/AEI/GABAergic_neurons/GW16_1_9/regular_combined.zz /disk1/wenqing/tmp_data/PFC_s2/all_analysis_result/AEI/GABAergic_neurons/GW19_1_1/regular_combined.zz /disk1/wenqing/tmp_data/PFC_s2/all_analysis_result/AEI/GABAergic_neurons/GW19_1_2/regular_combined.zz /disk1/wenqing/tmp_data/PFC_s2/all_analysis_result/AEI/GABAergic_neurons/GW19_1_3/regular_combined.zz /disk1/wenqing/tmp_data/PFC_s2/all_analysis_result/AEI/GABAergic_neurons/GW23_1_1/regular_combined.zz /disk1/wenqing/tmp_data/PFC_s2/all_analysis_result/AEI/GABAergic_neurons/GW23_1_2/regular_combined.zz /disk1/wenqing/tmp_data/PFC_s2/all_analysis_result/AEI/GABAergic_neurons/GW23_1_3/regular_combined.zz /disk1/wenqing/tmp_data/PFC_s2/all_analysis_result/AEI/GABAergic_neurons/GW26_1_1/regular_combined.zz > /disk1/wenqing/tmp_data/PFC_s2/all_analysis_result/RNA_region_EI/GABA/down/regular_combined.zz"
   ]
  }
 ],
 "metadata": {
  "kernelspec": {
   "display_name": "R",
   "language": "R",
   "name": "ir"
  },
  "language_info": {
   "codemirror_mode": "r",
   "file_extension": ".r",
   "mimetype": "text/x-r-source",
   "name": "R",
   "pygments_lexer": "r",
   "version": "4.3.1"
  },
  "orig_nbformat": 4,
  "vscode": {
   "interpreter": {
    "hash": "31f2aee4e71d21fbe5cf8b01ff0e069b9275f58929596ceb00d14d90e3e16cd6"
   }
  }
 },
 "nbformat": 4,
 "nbformat_minor": 2
}
