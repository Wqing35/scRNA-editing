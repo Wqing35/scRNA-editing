{
 "cells": [
  {
   "cell_type": "markdown",
   "metadata": {},
   "source": [
    "##########计算lncRNA/lncRNA-exon编辑水平和psi的相关性\n",
    "\n",
    "#step1: 先整理lncRNA/mRNA_exon_down.res格式，每个exon的标注不一致，另赋一个名称\n",
    "line_count=$(wc -l < mRNA_exon_down.res)\n",
    "\n",
    "int_array=($(seq 1 $line_count))\n",
    "\n",
    "declare -a exon_name\n",
    "for one in ${int_array[@]};\n",
    "do\n",
    "    exon_name+=(\"exon$one\")\n",
    "done\n",
    "\n",
    "paste \"mRNA_exon_down.res\" <(printf \"%s\\n\" \"${exon_name[@]}\") > mRNA_exon_down.wzexonName.res\n",
    "#random_number=$((RANDOM % (line_count + 1))) #生成随机数的命令0-line_count\n"
   ]
  },
  {
   "cell_type": "code",
   "execution_count": 55,
   "metadata": {
    "vscode": {
     "languageId": "r"
    }
   },
   "outputs": [
    {
     "data": {
      "text/html": [
       "<table class=\"dataframe\">\n",
       "<caption>A data.frame: 6 × 9</caption>\n",
       "<thead>\n",
       "\t<tr><th></th><th scope=col>V1</th><th scope=col>V2</th><th scope=col>V3</th><th scope=col>V4</th><th scope=col>V5</th><th scope=col>V6</th><th scope=col>V7</th><th scope=col>V8</th><th scope=col>V9</th></tr>\n",
       "\t<tr><th></th><th scope=col>&lt;chr&gt;</th><th scope=col>&lt;int&gt;</th><th scope=col>&lt;int&gt;</th><th scope=col>&lt;chr&gt;</th><th scope=col>&lt;chr&gt;</th><th scope=col>&lt;chr&gt;</th><th scope=col>&lt;int&gt;</th><th scope=col>&lt;int&gt;</th><th scope=col>&lt;chr&gt;</th></tr>\n",
       "</thead>\n",
       "<tbody>\n",
       "\t<tr><th scope=row>1</th><td>chr1</td><td>15003080</td><td>15077998</td><td>CATG00000047960.1</td><td>;,\"CATG00000047960.1\";,\"CATG00000047960.1\";,\"CATG00000047960.1\";,\"CATG00000047960.1\";,\"CATG00000047960.1\";,\"CATG00000047960.1\";,\"CATG00000047960.1\";,\"CATG00000047960.1\";,\"CATG00000047960.1\";,\"CATG00000047960.1\";,\"CATG00000047960.1\";,\"CATG00000047960.1\";,\"CATG00000047960.1\";,\"CATG00000047960.1\";,\"CATG00000047960.1\";,\"CATG00000047960.1\";,\"CATG00000047960.1\";,\"CATG00000047960.1\";,\"CATG00000025144.1\";,\"CATG00000047960.1\";,\"CATG00000047960.1\";,\"CATG00000047960.1\";,\"CATG00000047960.1\";</td><td>chr1</td><td>15048387</td><td>15048388</td><td>chr1_15003080_15077998</td></tr>\n",
       "\t<tr><th scope=row>2</th><td>chr1</td><td>15003080</td><td>15077998</td><td>CATG00000047960.1</td><td>;,\"CATG00000047960.1\";,\"CATG00000047960.1\";,\"CATG00000047960.1\";,\"CATG00000047960.1\";,\"CATG00000047960.1\";,\"CATG00000047960.1\";,\"CATG00000047960.1\";,\"CATG00000047960.1\";,\"CATG00000047960.1\";,\"CATG00000047960.1\";,\"CATG00000047960.1\";,\"CATG00000047960.1\";,\"CATG00000047960.1\";,\"CATG00000047960.1\";,\"CATG00000047960.1\";,\"CATG00000047960.1\";,\"CATG00000047960.1\";,\"CATG00000047960.1\";,\"CATG00000025144.1\";,\"CATG00000047960.1\";,\"CATG00000047960.1\";,\"CATG00000047960.1\";,\"CATG00000047960.1\";</td><td>chr1</td><td>15048420</td><td>15048421</td><td>chr1_15003080_15077998</td></tr>\n",
       "\t<tr><th scope=row>3</th><td>chr1</td><td>15003080</td><td>15077998</td><td>CATG00000047960.1</td><td>;,\"CATG00000047960.1\";,\"CATG00000047960.1\";,\"CATG00000047960.1\";,\"CATG00000047960.1\";,\"CATG00000047960.1\";,\"CATG00000047960.1\";,\"CATG00000047960.1\";,\"CATG00000047960.1\";,\"CATG00000047960.1\";,\"CATG00000047960.1\";,\"CATG00000047960.1\";,\"CATG00000047960.1\";,\"CATG00000047960.1\";,\"CATG00000047960.1\";,\"CATG00000047960.1\";,\"CATG00000047960.1\";,\"CATG00000047960.1\";,\"CATG00000047960.1\";,\"CATG00000025144.1\";,\"CATG00000047960.1\";,\"CATG00000047960.1\";,\"CATG00000047960.1\";,\"CATG00000047960.1\";</td><td>chr1</td><td>15048530</td><td>15048531</td><td>chr1_15003080_15077998</td></tr>\n",
       "\t<tr><th scope=row>4</th><td>chr1</td><td>15081761</td><td>15096507</td><td>CATG00000025145.1</td><td>;,\"CATG00000025145.1\";,\"CATG00000025145.1\";,\"CATG00000025145.1\";,\"CATG00000025145.1\";,\"CATG00000025145.1\";,\"CATG00000025145.1\";                                                                                                                                                                                                                                                                                                                                                                     </td><td>chr1</td><td>15089042</td><td>15089043</td><td>chr1_15081761_15096507</td></tr>\n",
       "\t<tr><th scope=row>5</th><td>chr1</td><td>15081761</td><td>15096507</td><td>CATG00000025145.1</td><td>;,\"CATG00000025145.1\";,\"CATG00000025145.1\";,\"CATG00000025145.1\";,\"CATG00000025145.1\";,\"CATG00000025145.1\";,\"CATG00000025145.1\";                                                                                                                                                                                                                                                                                                                                                                     </td><td>chr1</td><td>15089099</td><td>15089100</td><td>chr1_15081761_15096507</td></tr>\n",
       "\t<tr><th scope=row>6</th><td>chr1</td><td>16096411</td><td>16114783</td><td>CATG00000048395.1</td><td>;,\"CATG00000048395.1\";,\"CATG00000048395.1\";,\"CATG00000048395.1\";,\"CATG00000048395.1\";                                                                                                                                                                                                                                                                                                                                                                                                               </td><td>chr1</td><td>16110534</td><td>16110535</td><td>chr1_16096411_16114783</td></tr>\n",
       "</tbody>\n",
       "</table>\n"
      ],
      "text/latex": [
       "A data.frame: 6 × 9\n",
       "\\begin{tabular}{r|lllllllll}\n",
       "  & V1 & V2 & V3 & V4 & V5 & V6 & V7 & V8 & V9\\\\\n",
       "  & <chr> & <int> & <int> & <chr> & <chr> & <chr> & <int> & <int> & <chr>\\\\\n",
       "\\hline\n",
       "\t1 & chr1 & 15003080 & 15077998 & CATG00000047960.1 & ;,\"CATG00000047960.1\";,\"CATG00000047960.1\";,\"CATG00000047960.1\";,\"CATG00000047960.1\";,\"CATG00000047960.1\";,\"CATG00000047960.1\";,\"CATG00000047960.1\";,\"CATG00000047960.1\";,\"CATG00000047960.1\";,\"CATG00000047960.1\";,\"CATG00000047960.1\";,\"CATG00000047960.1\";,\"CATG00000047960.1\";,\"CATG00000047960.1\";,\"CATG00000047960.1\";,\"CATG00000047960.1\";,\"CATG00000047960.1\";,\"CATG00000047960.1\";,\"CATG00000025144.1\";,\"CATG00000047960.1\";,\"CATG00000047960.1\";,\"CATG00000047960.1\";,\"CATG00000047960.1\"; & chr1 & 15048387 & 15048388 & chr1\\_15003080\\_15077998\\\\\n",
       "\t2 & chr1 & 15003080 & 15077998 & CATG00000047960.1 & ;,\"CATG00000047960.1\";,\"CATG00000047960.1\";,\"CATG00000047960.1\";,\"CATG00000047960.1\";,\"CATG00000047960.1\";,\"CATG00000047960.1\";,\"CATG00000047960.1\";,\"CATG00000047960.1\";,\"CATG00000047960.1\";,\"CATG00000047960.1\";,\"CATG00000047960.1\";,\"CATG00000047960.1\";,\"CATG00000047960.1\";,\"CATG00000047960.1\";,\"CATG00000047960.1\";,\"CATG00000047960.1\";,\"CATG00000047960.1\";,\"CATG00000047960.1\";,\"CATG00000025144.1\";,\"CATG00000047960.1\";,\"CATG00000047960.1\";,\"CATG00000047960.1\";,\"CATG00000047960.1\"; & chr1 & 15048420 & 15048421 & chr1\\_15003080\\_15077998\\\\\n",
       "\t3 & chr1 & 15003080 & 15077998 & CATG00000047960.1 & ;,\"CATG00000047960.1\";,\"CATG00000047960.1\";,\"CATG00000047960.1\";,\"CATG00000047960.1\";,\"CATG00000047960.1\";,\"CATG00000047960.1\";,\"CATG00000047960.1\";,\"CATG00000047960.1\";,\"CATG00000047960.1\";,\"CATG00000047960.1\";,\"CATG00000047960.1\";,\"CATG00000047960.1\";,\"CATG00000047960.1\";,\"CATG00000047960.1\";,\"CATG00000047960.1\";,\"CATG00000047960.1\";,\"CATG00000047960.1\";,\"CATG00000047960.1\";,\"CATG00000025144.1\";,\"CATG00000047960.1\";,\"CATG00000047960.1\";,\"CATG00000047960.1\";,\"CATG00000047960.1\"; & chr1 & 15048530 & 15048531 & chr1\\_15003080\\_15077998\\\\\n",
       "\t4 & chr1 & 15081761 & 15096507 & CATG00000025145.1 & ;,\"CATG00000025145.1\";,\"CATG00000025145.1\";,\"CATG00000025145.1\";,\"CATG00000025145.1\";,\"CATG00000025145.1\";,\"CATG00000025145.1\";                                                                                                                                                                                                                                                                                                                                                                      & chr1 & 15089042 & 15089043 & chr1\\_15081761\\_15096507\\\\\n",
       "\t5 & chr1 & 15081761 & 15096507 & CATG00000025145.1 & ;,\"CATG00000025145.1\";,\"CATG00000025145.1\";,\"CATG00000025145.1\";,\"CATG00000025145.1\";,\"CATG00000025145.1\";,\"CATG00000025145.1\";                                                                                                                                                                                                                                                                                                                                                                      & chr1 & 15089099 & 15089100 & chr1\\_15081761\\_15096507\\\\\n",
       "\t6 & chr1 & 16096411 & 16114783 & CATG00000048395.1 & ;,\"CATG00000048395.1\";,\"CATG00000048395.1\";,\"CATG00000048395.1\";,\"CATG00000048395.1\";                                                                                                                                                                                                                                                                                                                                                                                                                & chr1 & 16110534 & 16110535 & chr1\\_16096411\\_16114783\\\\\n",
       "\\end{tabular}\n"
      ],
      "text/markdown": [
       "\n",
       "A data.frame: 6 × 9\n",
       "\n",
       "| <!--/--> | V1 &lt;chr&gt; | V2 &lt;int&gt; | V3 &lt;int&gt; | V4 &lt;chr&gt; | V5 &lt;chr&gt; | V6 &lt;chr&gt; | V7 &lt;int&gt; | V8 &lt;int&gt; | V9 &lt;chr&gt; |\n",
       "|---|---|---|---|---|---|---|---|---|---|\n",
       "| 1 | chr1 | 15003080 | 15077998 | CATG00000047960.1 | ;,\"CATG00000047960.1\";,\"CATG00000047960.1\";,\"CATG00000047960.1\";,\"CATG00000047960.1\";,\"CATG00000047960.1\";,\"CATG00000047960.1\";,\"CATG00000047960.1\";,\"CATG00000047960.1\";,\"CATG00000047960.1\";,\"CATG00000047960.1\";,\"CATG00000047960.1\";,\"CATG00000047960.1\";,\"CATG00000047960.1\";,\"CATG00000047960.1\";,\"CATG00000047960.1\";,\"CATG00000047960.1\";,\"CATG00000047960.1\";,\"CATG00000047960.1\";,\"CATG00000025144.1\";,\"CATG00000047960.1\";,\"CATG00000047960.1\";,\"CATG00000047960.1\";,\"CATG00000047960.1\"; | chr1 | 15048387 | 15048388 | chr1_15003080_15077998 |\n",
       "| 2 | chr1 | 15003080 | 15077998 | CATG00000047960.1 | ;,\"CATG00000047960.1\";,\"CATG00000047960.1\";,\"CATG00000047960.1\";,\"CATG00000047960.1\";,\"CATG00000047960.1\";,\"CATG00000047960.1\";,\"CATG00000047960.1\";,\"CATG00000047960.1\";,\"CATG00000047960.1\";,\"CATG00000047960.1\";,\"CATG00000047960.1\";,\"CATG00000047960.1\";,\"CATG00000047960.1\";,\"CATG00000047960.1\";,\"CATG00000047960.1\";,\"CATG00000047960.1\";,\"CATG00000047960.1\";,\"CATG00000047960.1\";,\"CATG00000025144.1\";,\"CATG00000047960.1\";,\"CATG00000047960.1\";,\"CATG00000047960.1\";,\"CATG00000047960.1\"; | chr1 | 15048420 | 15048421 | chr1_15003080_15077998 |\n",
       "| 3 | chr1 | 15003080 | 15077998 | CATG00000047960.1 | ;,\"CATG00000047960.1\";,\"CATG00000047960.1\";,\"CATG00000047960.1\";,\"CATG00000047960.1\";,\"CATG00000047960.1\";,\"CATG00000047960.1\";,\"CATG00000047960.1\";,\"CATG00000047960.1\";,\"CATG00000047960.1\";,\"CATG00000047960.1\";,\"CATG00000047960.1\";,\"CATG00000047960.1\";,\"CATG00000047960.1\";,\"CATG00000047960.1\";,\"CATG00000047960.1\";,\"CATG00000047960.1\";,\"CATG00000047960.1\";,\"CATG00000047960.1\";,\"CATG00000025144.1\";,\"CATG00000047960.1\";,\"CATG00000047960.1\";,\"CATG00000047960.1\";,\"CATG00000047960.1\"; | chr1 | 15048530 | 15048531 | chr1_15003080_15077998 |\n",
       "| 4 | chr1 | 15081761 | 15096507 | CATG00000025145.1 | ;,\"CATG00000025145.1\";,\"CATG00000025145.1\";,\"CATG00000025145.1\";,\"CATG00000025145.1\";,\"CATG00000025145.1\";,\"CATG00000025145.1\";                                                                                                                                                                                                                                                                                                                                                                      | chr1 | 15089042 | 15089043 | chr1_15081761_15096507 |\n",
       "| 5 | chr1 | 15081761 | 15096507 | CATG00000025145.1 | ;,\"CATG00000025145.1\";,\"CATG00000025145.1\";,\"CATG00000025145.1\";,\"CATG00000025145.1\";,\"CATG00000025145.1\";,\"CATG00000025145.1\";                                                                                                                                                                                                                                                                                                                                                                      | chr1 | 15089099 | 15089100 | chr1_15081761_15096507 |\n",
       "| 6 | chr1 | 16096411 | 16114783 | CATG00000048395.1 | ;,\"CATG00000048395.1\";,\"CATG00000048395.1\";,\"CATG00000048395.1\";,\"CATG00000048395.1\";                                                                                                                                                                                                                                                                                                                                                                                                                | chr1 | 16110534 | 16110535 | chr1_16096411_16114783 |\n",
       "\n"
      ],
      "text/plain": [
       "  V1   V2       V3       V4               \n",
       "1 chr1 15003080 15077998 CATG00000047960.1\n",
       "2 chr1 15003080 15077998 CATG00000047960.1\n",
       "3 chr1 15003080 15077998 CATG00000047960.1\n",
       "4 chr1 15081761 15096507 CATG00000025145.1\n",
       "5 chr1 15081761 15096507 CATG00000025145.1\n",
       "6 chr1 16096411 16114783 CATG00000048395.1\n",
       "  V5                                                                                                                                                                                                                                                                                                                                                                                                                                                                                                  \n",
       "1 ;,\"CATG00000047960.1\";,\"CATG00000047960.1\";,\"CATG00000047960.1\";,\"CATG00000047960.1\";,\"CATG00000047960.1\";,\"CATG00000047960.1\";,\"CATG00000047960.1\";,\"CATG00000047960.1\";,\"CATG00000047960.1\";,\"CATG00000047960.1\";,\"CATG00000047960.1\";,\"CATG00000047960.1\";,\"CATG00000047960.1\";,\"CATG00000047960.1\";,\"CATG00000047960.1\";,\"CATG00000047960.1\";,\"CATG00000047960.1\";,\"CATG00000047960.1\";,\"CATG00000025144.1\";,\"CATG00000047960.1\";,\"CATG00000047960.1\";,\"CATG00000047960.1\";,\"CATG00000047960.1\";\n",
       "2 ;,\"CATG00000047960.1\";,\"CATG00000047960.1\";,\"CATG00000047960.1\";,\"CATG00000047960.1\";,\"CATG00000047960.1\";,\"CATG00000047960.1\";,\"CATG00000047960.1\";,\"CATG00000047960.1\";,\"CATG00000047960.1\";,\"CATG00000047960.1\";,\"CATG00000047960.1\";,\"CATG00000047960.1\";,\"CATG00000047960.1\";,\"CATG00000047960.1\";,\"CATG00000047960.1\";,\"CATG00000047960.1\";,\"CATG00000047960.1\";,\"CATG00000047960.1\";,\"CATG00000025144.1\";,\"CATG00000047960.1\";,\"CATG00000047960.1\";,\"CATG00000047960.1\";,\"CATG00000047960.1\";\n",
       "3 ;,\"CATG00000047960.1\";,\"CATG00000047960.1\";,\"CATG00000047960.1\";,\"CATG00000047960.1\";,\"CATG00000047960.1\";,\"CATG00000047960.1\";,\"CATG00000047960.1\";,\"CATG00000047960.1\";,\"CATG00000047960.1\";,\"CATG00000047960.1\";,\"CATG00000047960.1\";,\"CATG00000047960.1\";,\"CATG00000047960.1\";,\"CATG00000047960.1\";,\"CATG00000047960.1\";,\"CATG00000047960.1\";,\"CATG00000047960.1\";,\"CATG00000047960.1\";,\"CATG00000025144.1\";,\"CATG00000047960.1\";,\"CATG00000047960.1\";,\"CATG00000047960.1\";,\"CATG00000047960.1\";\n",
       "4 ;,\"CATG00000025145.1\";,\"CATG00000025145.1\";,\"CATG00000025145.1\";,\"CATG00000025145.1\";,\"CATG00000025145.1\";,\"CATG00000025145.1\";                                                                                                                                                                                                                                                                                                                                                                     \n",
       "5 ;,\"CATG00000025145.1\";,\"CATG00000025145.1\";,\"CATG00000025145.1\";,\"CATG00000025145.1\";,\"CATG00000025145.1\";,\"CATG00000025145.1\";                                                                                                                                                                                                                                                                                                                                                                     \n",
       "6 ;,\"CATG00000048395.1\";,\"CATG00000048395.1\";,\"CATG00000048395.1\";,\"CATG00000048395.1\";                                                                                                                                                                                                                                                                                                                                                                                                               \n",
       "  V6   V7       V8       V9                    \n",
       "1 chr1 15048387 15048388 chr1_15003080_15077998\n",
       "2 chr1 15048420 15048421 chr1_15003080_15077998\n",
       "3 chr1 15048530 15048531 chr1_15003080_15077998\n",
       "4 chr1 15089042 15089043 chr1_15081761_15096507\n",
       "5 chr1 15089099 15089100 chr1_15081761_15096507\n",
       "6 chr1 16110534 16110535 chr1_16096411_16114783"
      ]
     },
     "metadata": {},
     "output_type": "display_data"
    }
   ],
   "source": [
    "######整理整个发育阶段的regular.res（和all res有交集的）\n",
    "############\n",
    "setwd(\"/disk1/wenqing/tmp_data/PFC_s2/all_analysis_result/lncRNA_mRNA/3_groups_res/GABA/down\")\n",
    "\n",
    "RNA_res <- read.table(\"lncRNA_exon_down.res\")\n",
    "RNA_res$V9 <- paste0(RNA_res$V1,\"_\",RNA_res$V2,\"_\",RNA_res$V3)\n",
    "head(RNA_res)"
   ]
  },
  {
   "cell_type": "code",
   "execution_count": 47,
   "metadata": {
    "vscode": {
     "languageId": "r"
    }
   },
   "outputs": [],
   "source": [
    "##将所有样本res的ad相加\n",
    "setwd(\"/disk1/wenqing/tmp_data/PFC_s2/filter_snv_for_new_res\")\n",
    "res_08 <- read.table(\"./GW08/GABAergic_neurons/regular.res.depth.orig\")\n",
    "res_12 <- read.table(\"./GW12/GABAergic_neurons/regular.res.depth.orig\")\n",
    "res_16_3 <- read.table(\"./GW16_1_3/GABAergic_neurons/regular.res.depth.orig\")\n",
    "res_16_4 <- read.table(\"./GW16_1_4/GABAergic_neurons/regular.res.depth.orig\")\n",
    "res_16_9 <- read.table(\"./GW16_1_9/GABAergic_neurons/regular.res.depth.orig\")\n",
    "res_19_1 <- read.table(\"./GW19_1_1/GABAergic_neurons/regular.res.depth.orig\")\n",
    "res_19_2 <- read.table(\"./GW19_1_2/GABAergic_neurons/regular.res.depth.orig\")\n",
    "res_19_3 <- read.table(\"./GW19_1_3/GABAergic_neurons/regular.res.depth.orig\")\n",
    "res_23_1 <- read.table(\"./GW23_1_1/GABAergic_neurons/regular.res.depth.orig\")\n",
    "res_23_2 <- read.table(\"./GW23_1_2/GABAergic_neurons/regular.res.depth.orig\")\n",
    "res_23_3 <- read.table(\"./GW23_1_3/GABAergic_neurons/regular.res.depth.orig\")\n",
    "res_26_1 <- read.table(\"./GW26_1_1/GABAergic_neurons/regular.res.depth.orig\")\n"
   ]
  },
  {
   "cell_type": "code",
   "execution_count": 48,
   "metadata": {
    "vscode": {
     "languageId": "r"
    }
   },
   "outputs": [],
   "source": [
    "res_08 <- res_08[which(res_08$V4=='AG'),]\n",
    "res_12 <- res_08[which(res_08$V4=='AG'),]\n",
    "res_16_3 <- res_16_3[which(res_16_3$V4=='AG'),]\n",
    "res_16_4 <- res_16_4[which(res_16_4$V4=='AG'),]\n",
    "res_16_9 <- res_16_9[which(res_16_9$V4=='AG'),]\n",
    "res_19_1 <- res_19_1[which(res_19_1$V4=='AG'),]\n",
    "res_19_2 <- res_19_2[which(res_19_2$V4=='AG'),]\n",
    "res_19_3 <- res_19_3[which(res_19_3$V4=='AG'),]\n",
    "res_23_1 <- res_23_1[which(res_23_1$V4=='AG'),]\n",
    "res_23_2 <- res_23_2[which(res_23_2$V4=='AG'),]\n",
    "res_23_3 <- res_23_3[which(res_23_3$V4=='AG'),]\n",
    "res_26_1 <- res_26_1[which(res_26_1$V4=='AG'),]\n"
   ]
  },
  {
   "cell_type": "code",
   "execution_count": 49,
   "metadata": {
    "vscode": {
     "languageId": "r"
    }
   },
   "outputs": [
    {
     "data": {
      "text/html": [
       "<table class=\"dataframe\">\n",
       "<caption>A data.frame: 6 × 8</caption>\n",
       "<thead>\n",
       "\t<tr><th></th><th scope=col>V1</th><th scope=col>V2</th><th scope=col>V3</th><th scope=col>V4</th><th scope=col>V5</th><th scope=col>V6</th><th scope=col>V7</th><th scope=col>V8</th></tr>\n",
       "\t<tr><th></th><th scope=col>&lt;chr&gt;</th><th scope=col>&lt;int&gt;</th><th scope=col>&lt;int&gt;</th><th scope=col>&lt;chr&gt;</th><th scope=col>&lt;int&gt;</th><th scope=col>&lt;chr&gt;</th><th scope=col>&lt;int&gt;</th><th scope=col>&lt;int&gt;</th></tr>\n",
       "</thead>\n",
       "<tbody>\n",
       "\t<tr><th scope=row>5</th><td>chr1</td><td>11780415</td><td>11780416</td><td>AG</td><td>32</td><td>-</td><td>34</td><td>34</td></tr>\n",
       "\t<tr><th scope=row>6</th><td>chr1</td><td>11780473</td><td>11780474</td><td>AG</td><td>63</td><td>-</td><td>68</td><td>68</td></tr>\n",
       "\t<tr><th scope=row>7</th><td>chr1</td><td>19585568</td><td>19585569</td><td>AG</td><td>20</td><td>-</td><td>21</td><td>38</td></tr>\n",
       "\t<tr><th scope=row>8</th><td>chr1</td><td>19585570</td><td>19585571</td><td>AG</td><td>20</td><td>-</td><td>22</td><td>37</td></tr>\n",
       "\t<tr><th scope=row>9</th><td>chr1</td><td>19585602</td><td>19585603</td><td>AG</td><td>13</td><td>-</td><td>20</td><td>21</td></tr>\n",
       "\t<tr><th scope=row>10</th><td>chr1</td><td>19585605</td><td>19585606</td><td>AG</td><td>15</td><td>-</td><td>20</td><td>20</td></tr>\n",
       "</tbody>\n",
       "</table>\n"
      ],
      "text/latex": [
       "A data.frame: 6 × 8\n",
       "\\begin{tabular}{r|llllllll}\n",
       "  & V1 & V2 & V3 & V4 & V5 & V6 & V7 & V8\\\\\n",
       "  & <chr> & <int> & <int> & <chr> & <int> & <chr> & <int> & <int>\\\\\n",
       "\\hline\n",
       "\t5 & chr1 & 11780415 & 11780416 & AG & 32 & - & 34 & 34\\\\\n",
       "\t6 & chr1 & 11780473 & 11780474 & AG & 63 & - & 68 & 68\\\\\n",
       "\t7 & chr1 & 19585568 & 19585569 & AG & 20 & - & 21 & 38\\\\\n",
       "\t8 & chr1 & 19585570 & 19585571 & AG & 20 & - & 22 & 37\\\\\n",
       "\t9 & chr1 & 19585602 & 19585603 & AG & 13 & - & 20 & 21\\\\\n",
       "\t10 & chr1 & 19585605 & 19585606 & AG & 15 & - & 20 & 20\\\\\n",
       "\\end{tabular}\n"
      ],
      "text/markdown": [
       "\n",
       "A data.frame: 6 × 8\n",
       "\n",
       "| <!--/--> | V1 &lt;chr&gt; | V2 &lt;int&gt; | V3 &lt;int&gt; | V4 &lt;chr&gt; | V5 &lt;int&gt; | V6 &lt;chr&gt; | V7 &lt;int&gt; | V8 &lt;int&gt; |\n",
       "|---|---|---|---|---|---|---|---|---|\n",
       "| 5 | chr1 | 11780415 | 11780416 | AG | 32 | - | 34 | 34 |\n",
       "| 6 | chr1 | 11780473 | 11780474 | AG | 63 | - | 68 | 68 |\n",
       "| 7 | chr1 | 19585568 | 19585569 | AG | 20 | - | 21 | 38 |\n",
       "| 8 | chr1 | 19585570 | 19585571 | AG | 20 | - | 22 | 37 |\n",
       "| 9 | chr1 | 19585602 | 19585603 | AG | 13 | - | 20 | 21 |\n",
       "| 10 | chr1 | 19585605 | 19585606 | AG | 15 | - | 20 | 20 |\n",
       "\n"
      ],
      "text/plain": [
       "   V1   V2       V3       V4 V5 V6 V7 V8\n",
       "5  chr1 11780415 11780416 AG 32 -  34 34\n",
       "6  chr1 11780473 11780474 AG 63 -  68 68\n",
       "7  chr1 19585568 19585569 AG 20 -  21 38\n",
       "8  chr1 19585570 19585571 AG 20 -  22 37\n",
       "9  chr1 19585602 19585603 AG 13 -  20 21\n",
       "10 chr1 19585605 19585606 AG 15 -  20 20"
      ]
     },
     "metadata": {},
     "output_type": "display_data"
    }
   ],
   "source": [
    "head(res_08)\n",
    "res_08$V9 <- paste0(res_08$V1,\"_\",res_08$V3)\n",
    "res_12$V9 <- paste0(res_12$V1,\"_\",res_12$V3)\n",
    "res_16_3$V9 <- paste0(res_16_3$V1,\"_\",res_16_3$V3)\n",
    "res_16_4$V9 <- paste0(res_16_4$V1,\"_\",res_16_4$V3)\n",
    "res_16_9$V9 <- paste0(res_16_9$V1,\"_\",res_16_9$V3)\n",
    "res_19_1$V9 <- paste0(res_19_1$V1,\"_\",res_19_1$V3)\n",
    "res_19_2$V9 <- paste0(res_19_2$V1,\"_\",res_19_2$V3)\n",
    "res_19_3$V9 <- paste0(res_19_3$V1,\"_\",res_19_3$V3)\n",
    "res_23_1$V9 <- paste0(res_23_1$V1,\"_\",res_23_1$V3)\n",
    "res_23_2$V9 <- paste0(res_23_2$V1,\"_\",res_23_2$V3)\n",
    "res_23_3$V9 <- paste0(res_23_3$V1,\"_\",res_23_3$V3)\n",
    "res_26_1$V9 <- paste0(res_26_1$V1,\"_\",res_26_1$V3)"
   ]
  },
  {
   "cell_type": "code",
   "execution_count": 56,
   "metadata": {
    "vscode": {
     "languageId": "r"
    }
   },
   "outputs": [],
   "source": [
    "#计算每一个res的ad\n",
    "res_ad_sum_array <- c()\n",
    "for(i in 1:nrow(RNA_res)){\n",
    "    this_res <- paste0(RNA_res$V6,\"_\",RNA_res$V8)[i]\n",
    "    ad_08_for_this_res <- res_08$V5[which(res_08$V9==this_res)]\n",
    "    ad_12_for_this_res <- res_12$V5[which(res_12$V9==this_res)]\n",
    "    ad_16_3_for_this_res <- res_16_3$V5[which(res_16_3$V9==this_res)]\n",
    "    ad_16_4_for_this_res <- res_16_4$V5[which(res_16_4$V9==this_res)]\n",
    "    ad_16_9_for_this_res <- res_16_9$V5[which(res_16_9$V9==this_res)]\n",
    "    ad_19_1_for_this_res <- res_19_1$V5[which(res_19_1$V9==this_res)]\n",
    "    ad_19_2_for_this_res <- res_19_2$V5[which(res_19_2$V9==this_res)]\n",
    "    ad_19_3_for_this_res <- res_19_3$V5[which(res_19_3$V9==this_res)]\n",
    "    ad_23_1_for_this_res <- res_23_1$V5[which(res_23_1$V9==this_res)]\n",
    "    ad_23_2_for_this_res <- res_23_2$V5[which(res_23_2$V9==this_res)]\n",
    "    ad_23_3_for_this_res <- res_23_3$V5[which(res_23_3$V9==this_res)]\n",
    "    ad_26_1_for_this_res <- res_26_1$V5[which(res_26_1$V9==this_res)]\n",
    "    this_res_ad_sum <- sum(ad_08_for_this_res,ad_12_for_this_res,ad_16_3_for_this_res,ad_16_4_for_this_res,\n",
    "                            ad_16_9_for_this_res,ad_19_1_for_this_res,ad_19_2_for_this_res,ad_19_3_for_this_res,\n",
    "                            ad_23_1_for_this_res,ad_23_2_for_this_res,ad_23_3_for_this_res,ad_26_1_for_this_res)\n",
    "    res_ad_sum_array <- c(res_ad_sum_array,this_res_ad_sum)\n",
    "}"
   ]
  },
  {
   "cell_type": "code",
   "execution_count": 57,
   "metadata": {
    "vscode": {
     "languageId": "r"
    }
   },
   "outputs": [],
   "source": [
    "new_RNA_res_wzAD <- cbind(RNA_res,res_ad_sum_array)\n",
    "new_RNA_res_wzAD <- new_RNA_res_wzAD[which(new_RNA_res_wzAD$res_ad_sum_array > 0),]"
   ]
  },
  {
   "cell_type": "code",
   "execution_count": 58,
   "metadata": {
    "vscode": {
     "languageId": "r"
    }
   },
   "outputs": [],
   "source": [
    "ad_num_in_region <- c()\n",
    "for(one in unique(new_RNA_res_wzAD$V9)){\n",
    "    ad_num <- sum(new_RNA_res_wzAD$res_ad_sum_array[which(new_RNA_res_wzAD$V9==one)])\n",
    "    ad_num_in_region <- c(ad_num_in_region,ad_num)\n",
    "}"
   ]
  },
  {
   "cell_type": "code",
   "execution_count": 59,
   "metadata": {
    "vscode": {
     "languageId": "r"
    }
   },
   "outputs": [
    {
     "data": {
      "text/html": [
       "25"
      ],
      "text/latex": [
       "25"
      ],
      "text/markdown": [
       "25"
      ],
      "text/plain": [
       "[1] 25"
      ]
     },
     "metadata": {},
     "output_type": "display_data"
    }
   ],
   "source": [
    "length(ad_num_in_region)\n"
   ]
  },
  {
   "cell_type": "code",
   "execution_count": 60,
   "metadata": {
    "vscode": {
     "languageId": "r"
    }
   },
   "outputs": [],
   "source": [
    "#构造RNA region的geneWzRes_onlyAG_ad.txt\n",
    "regionWzRes_onlyAG_ad <- as.data.frame(cbind(unique(new_RNA_res_wzAD$V9),ad_num_in_region))\n",
    "setwd(\"/disk1/wenqing/tmp_data/PFC_s2/all_analysis_result/lncRNA_mRNA/3_groups_res/GABA/down\")\n",
    "write.table(regionWzRes_onlyAG_ad,\"./lncRNA_exon_WzRes_onlyAG_ad.txt\",sep='\\t',col.names=F,row.names=F,quote=F)"
   ]
  },
  {
   "cell_type": "code",
   "execution_count": null,
   "metadata": {
    "vscode": {
     "languageId": "r"
    }
   },
   "outputs": [],
   "source": []
  },
  {
   "cell_type": "markdown",
   "metadata": {},
   "source": [
    "##########计算mRNA/lncRNA-exon编辑水平和psi的相关性\n",
    "\n",
    "#step1: 根据psi结果csv整理exon区间\n",
    "samples=(GW08 GW12 GW16_1_3 GW16_1_4 GW16_1_9 GW19_1_1 GW19_1_2 GW19_1_3 GW23_1_1 GW23_1_2 GW23_1_3 GW26_1_1)\n",
    "for one in ${samples[@]};\n",
    "do\n",
    "    cd /disk1/wenqing/tmp_data/PFC_s2/all_analysis_result/exon_psi/\"$one\"/\n",
    "    cat psi_freePSI.summary_allChr | awk '{if($1!=\"Chromosome\") print $1\"\\t\"$3\"\\t\"$4\"\\t\"$5}' > exon_region_wzPSI.bed\n",
    "done\n",
    "\n",
    "#step2:合并所有样本的exon bed，同一个exon region的psi取均值\n",
    "paste GW08/exon_region_wzPSI.bed <(awk '{print $4}' GW12/exon_region_wzPSI.bed) <(awk '{print $4}' GW16_1_3/exon_region_wzPSI.bed) <(awk '{print $4}' GW16_1_4/exon_region_wzPSI.bed) <(awk '{print $4}' GW16_1_9/exon_region_wzPSI.bed) <(awk '{print $4}' GW19_1_1/exon_region_wzPSI.bed) <(awk '{print $4}' GW19_1_2/exon_region_wzPSI.bed) <(awk '{print $4}' GW19_1_3/exon_region_wzPSI.bed) <(awk '{print $4}' GW23_1_1/exon_region_wzPSI.bed) <(awk '{print $4}' GW23_1_2/exon_region_wzPSI.bed) <(awk '{print $4}' GW23_1_3/exon_region_wzPSI.bed) <(awk '{print $4}' GW26_1_1/exon_region_wzPSI.bed) > exon_region_wz_allPSI.bed\n",
    "\n",
    "awk '{sum=0; count=0; for(i=4;i<=NF;i++) if($i != 0) {sum+=$i; count++}; if(count>0) print $1\"\\t\"$2\"\\t\"$3\"\\t\"sum/count; else print \"NA\"}' > exon_region_wz_meanPSI.bed"
   ]
  },
  {
   "cell_type": "code",
   "execution_count": 14,
   "metadata": {
    "vscode": {
     "languageId": "r"
    }
   },
   "outputs": [],
   "source": [
    "###\n",
    "psi_dat_08 <- read.table(\"/disk1/wenqing/tmp_data/PFC_s2/all_analysis_result/exon_psi/GW08/exon_region_wzPSI.bed\")\n",
    "psi_dat_12 <- read.table(\"/disk1/wenqing/tmp_data/PFC_s2/all_analysis_result/exon_psi/GW12/exon_region_wzPSI.bed\")\n",
    "psi_dat_16_3 <- read.table(\"/disk1/wenqing/tmp_data/PFC_s2/all_analysis_result/exon_psi/GW16_1_3/exon_region_wzPSI.bed\")\n",
    "psi_dat_16_4 <- read.table(\"/disk1/wenqing/tmp_data/PFC_s2/all_analysis_result/exon_psi/GW16_1_4/exon_region_wzPSI.bed\")\n",
    "psi_dat_16_9 <- read.table(\"/disk1/wenqing/tmp_data/PFC_s2/all_analysis_result/exon_psi/GW16_1_9/exon_region_wzPSI.bed\")\n",
    "psi_dat_19_1 <- read.table(\"/disk1/wenqing/tmp_data/PFC_s2/all_analysis_result/exon_psi/GW19_1_1/exon_region_wzPSI.bed\")\n",
    "psi_dat_19_2 <- read.table(\"/disk1/wenqing/tmp_data/PFC_s2/all_analysis_result/exon_psi/GW19_1_2/exon_region_wzPSI.bed\")\n",
    "psi_dat_19_3 <- read.table(\"/disk1/wenqing/tmp_data/PFC_s2/all_analysis_result/exon_psi/GW19_1_3/exon_region_wzPSI.bed\")\n",
    "psi_dat_23_1 <- read.table(\"/disk1/wenqing/tmp_data/PFC_s2/all_analysis_result/exon_psi/GW23_1_1/exon_region_wzPSI.bed\")\n",
    "psi_dat_23_2 <- read.table(\"/disk1/wenqing/tmp_data/PFC_s2/all_analysis_result/exon_psi/GW23_1_2/exon_region_wzPSI.bed\")\n",
    "psi_dat_23_3 <- read.table(\"/disk1/wenqing/tmp_data/PFC_s2/all_analysis_result/exon_psi/GW23_1_3/exon_region_wzPSI.bed\")\n",
    "psi_dat_26_1 <- read.table(\"/disk1/wenqing/tmp_data/PFC_s2/all_analysis_result/exon_psi/GW26_1_1/exon_region_wzPSI.bed\")\n"
   ]
  },
  {
   "cell_type": "code",
   "execution_count": 15,
   "metadata": {
    "vscode": {
     "languageId": "r"
    }
   },
   "outputs": [],
   "source": [
    "psi_dat_08$V5 <- paste0(psi_dat_08$V1,\"_\",psi_dat_08$V2,\"_\",psi_dat_08$V3)\n",
    "psi_dat_12$V5 <- paste0(psi_dat_12$V1,\"_\",psi_dat_12$V2,\"_\",psi_dat_12$V3)\n",
    "psi_dat_16_3$V5 <- paste0(psi_dat_16_3$V1,\"_\",psi_dat_16_3$V2,\"_\",psi_dat_16_3$V3)\n",
    "psi_dat_16_4$V5 <- paste0(psi_dat_16_4$V1,\"_\",psi_dat_16_4$V2,\"_\",psi_dat_16_4$V3)\n",
    "psi_dat_16_9$V5 <- paste0(psi_dat_16_9$V1,\"_\",psi_dat_16_9$V2,\"_\",psi_dat_16_9$V3)\n",
    "psi_dat_19_1$V5 <- paste0(psi_dat_19_1$V1,\"_\",psi_dat_19_1$V2,\"_\",psi_dat_19_1$V3)\n",
    "psi_dat_19_2$V5 <- paste0(psi_dat_19_2$V1,\"_\",psi_dat_19_2$V2,\"_\",psi_dat_19_2$V3)\n",
    "psi_dat_19_3$V5 <- paste0(psi_dat_19_3$V1,\"_\",psi_dat_19_3$V2,\"_\",psi_dat_19_3$V3)\n",
    "psi_dat_23_1$V5 <- paste0(psi_dat_23_1$V1,\"_\",psi_dat_23_1$V2,\"_\",psi_dat_23_1$V3)\n",
    "psi_dat_23_2$V5 <- paste0(psi_dat_23_2$V1,\"_\",psi_dat_23_2$V2,\"_\",psi_dat_23_2$V3)\n",
    "psi_dat_23_3$V5 <- paste0(psi_dat_23_3$V1,\"_\",psi_dat_23_3$V2,\"_\",psi_dat_23_3$V3)\n",
    "psi_dat_26_1$V5 <- paste0(psi_dat_26_1$V1,\"_\",psi_dat_26_1$V2,\"_\",psi_dat_26_1$V3)\n"
   ]
  },
  {
   "cell_type": "code",
   "execution_count": 16,
   "metadata": {
    "vscode": {
     "languageId": "r"
    }
   },
   "outputs": [],
   "source": [
    "union_exon <- union(psi_dat_08$V5,psi_dat_12$V5)\n",
    "union_exon <- union(union_exon,psi_dat_16_3$V5)\n",
    "union_exon <- union(union_exon,psi_dat_16_4$V5)\n",
    "union_exon <- union(union_exon,psi_dat_16_9$V5)\n",
    "union_exon <- union(union_exon,psi_dat_19_1$V5)\n",
    "union_exon <- union(union_exon,psi_dat_19_2$V5)\n",
    "union_exon <- union(union_exon,psi_dat_19_3$V5)\n",
    "union_exon <- union(union_exon,psi_dat_23_1$V5)\n",
    "union_exon <- union(union_exon,psi_dat_23_2$V5)\n",
    "union_exon <- union(union_exon,psi_dat_23_3$V5)\n",
    "union_exon <- union(union_exon,psi_dat_26_1$V5)"
   ]
  },
  {
   "cell_type": "code",
   "execution_count": 17,
   "metadata": {
    "vscode": {
     "languageId": "r"
    }
   },
   "outputs": [],
   "source": [
    "merge_exon_psi <- function(x){\n",
    "    all_psis <- c(psi_dat_08$V4[which(psi_dat_08$V5==x)],psi_dat_12$V4[which(psi_dat_12$V5==x)],psi_dat_16_3$V4[which(psi_dat_16_3$V5==x)],\n",
    "                    psi_dat_16_4$V4[which(psi_dat_16_4$V5==x)],psi_dat_16_9$V4[which(psi_dat_16_9$V5==x)],psi_dat_19_1$V4[which(psi_dat_19_1$V5==x)],\n",
    "                    psi_dat_19_2$V4[which(psi_dat_19_2$V5==x)],psi_dat_19_3$V4[which(psi_dat_19_3$V5==x)],psi_dat_23_1$V4[which(psi_dat_23_1$V5==x)],\n",
    "                    psi_dat_23_2$V4[which(psi_dat_23_2$V5==x)],psi_dat_23_3$V4[which(psi_dat_23_3$V5==x)],psi_dat_26_1$V4[which(psi_dat_26_1$V5==x)])\n",
    "    all_worked_psis <- mean(all_psis[which(all_psis!=0)])\n",
    "    return(all_worked_psis)\n",
    "}"
   ]
  },
  {
   "cell_type": "code",
   "execution_count": 18,
   "metadata": {
    "vscode": {
     "languageId": "r"
    }
   },
   "outputs": [],
   "source": [
    "psi_for_each_exon_all_samples <- apply(as.matrix(union_exon),1,merge_exon_psi)"
   ]
  },
  {
   "cell_type": "code",
   "execution_count": 21,
   "metadata": {
    "vscode": {
     "languageId": "r"
    }
   },
   "outputs": [
    {
     "data": {
      "text/html": [
       "154571"
      ],
      "text/latex": [
       "154571"
      ],
      "text/markdown": [
       "154571"
      ],
      "text/plain": [
       "[1] 154571"
      ]
     },
     "metadata": {},
     "output_type": "display_data"
    },
    {
     "data": {
      "text/html": [
       "154571"
      ],
      "text/latex": [
       "154571"
      ],
      "text/markdown": [
       "154571"
      ],
      "text/plain": [
       "[1] 154571"
      ]
     },
     "metadata": {},
     "output_type": "display_data"
    }
   ],
   "source": [
    "length(union_exon)\n",
    "length(psi_for_each_exon_all_samples)"
   ]
  },
  {
   "cell_type": "code",
   "execution_count": 22,
   "metadata": {
    "vscode": {
     "languageId": "r"
    }
   },
   "outputs": [
    {
     "data": {
      "text/html": [
       "<style>\n",
       ".list-inline {list-style: none; margin:0; padding: 0}\n",
       ".list-inline>li {display: inline-block}\n",
       ".list-inline>li:not(:last-child)::after {content: \"\\00b7\"; padding: 0 .5ex}\n",
       "</style>\n",
       "<ol class=list-inline><li>154571</li><li>2</li></ol>\n"
      ],
      "text/latex": [
       "\\begin{enumerate*}\n",
       "\\item 154571\n",
       "\\item 2\n",
       "\\end{enumerate*}\n"
      ],
      "text/markdown": [
       "1. 154571\n",
       "2. 2\n",
       "\n",
       "\n"
      ],
      "text/plain": [
       "[1] 154571      2"
      ]
     },
     "metadata": {},
     "output_type": "display_data"
    },
    {
     "data": {
      "text/html": [
       "<table class=\"dataframe\">\n",
       "<caption>A data.frame: 6 × 2</caption>\n",
       "<thead>\n",
       "\t<tr><th></th><th scope=col>union_exon</th><th scope=col>psi_for_each_exon_all_samples</th></tr>\n",
       "\t<tr><th></th><th scope=col>&lt;chr&gt;</th><th scope=col>&lt;chr&gt;</th></tr>\n",
       "</thead>\n",
       "<tbody>\n",
       "\t<tr><th scope=row>1</th><td>chr1_327035_328581  </td><td>1                </td></tr>\n",
       "\t<tr><th scope=row>2</th><td>chr1_776579_778984  </td><td>0.296325501739447</td></tr>\n",
       "\t<tr><th scope=row>3</th><td>chr1_788770_794826  </td><td>0.639467322591402</td></tr>\n",
       "\t<tr><th scope=row>4</th><td>chr1_900342_901099  </td><td>1                </td></tr>\n",
       "\t<tr><th scope=row>5</th><td>chr1_1215815_1216046</td><td>0.959004971761437</td></tr>\n",
       "\t<tr><th scope=row>6</th><td>chr1_1246709_1247057</td><td>1                </td></tr>\n",
       "</tbody>\n",
       "</table>\n"
      ],
      "text/latex": [
       "A data.frame: 6 × 2\n",
       "\\begin{tabular}{r|ll}\n",
       "  & union\\_exon & psi\\_for\\_each\\_exon\\_all\\_samples\\\\\n",
       "  & <chr> & <chr>\\\\\n",
       "\\hline\n",
       "\t1 & chr1\\_327035\\_328581   & 1                \\\\\n",
       "\t2 & chr1\\_776579\\_778984   & 0.296325501739447\\\\\n",
       "\t3 & chr1\\_788770\\_794826   & 0.639467322591402\\\\\n",
       "\t4 & chr1\\_900342\\_901099   & 1                \\\\\n",
       "\t5 & chr1\\_1215815\\_1216046 & 0.959004971761437\\\\\n",
       "\t6 & chr1\\_1246709\\_1247057 & 1                \\\\\n",
       "\\end{tabular}\n"
      ],
      "text/markdown": [
       "\n",
       "A data.frame: 6 × 2\n",
       "\n",
       "| <!--/--> | union_exon &lt;chr&gt; | psi_for_each_exon_all_samples &lt;chr&gt; |\n",
       "|---|---|---|\n",
       "| 1 | chr1_327035_328581   | 1                 |\n",
       "| 2 | chr1_776579_778984   | 0.296325501739447 |\n",
       "| 3 | chr1_788770_794826   | 0.639467322591402 |\n",
       "| 4 | chr1_900342_901099   | 1                 |\n",
       "| 5 | chr1_1215815_1216046 | 0.959004971761437 |\n",
       "| 6 | chr1_1246709_1247057 | 1                 |\n",
       "\n"
      ],
      "text/plain": [
       "  union_exon           psi_for_each_exon_all_samples\n",
       "1 chr1_327035_328581   1                            \n",
       "2 chr1_776579_778984   0.296325501739447            \n",
       "3 chr1_788770_794826   0.639467322591402            \n",
       "4 chr1_900342_901099   1                            \n",
       "5 chr1_1215815_1216046 0.959004971761437            \n",
       "6 chr1_1246709_1247057 1                            "
      ]
     },
     "metadata": {},
     "output_type": "display_data"
    }
   ],
   "source": [
    "###\n",
    "exon_region_wzAverpsi <- as.data.frame(cbind(union_exon,psi_for_each_exon_all_samples))\n",
    "exon_region_wzAverpsi_noNA <- exon_region_wzAverpsi[!is.na(psi_for_each_exon_all_samples),]\n",
    "dim(exon_region_wzAverpsi_noNA)\n",
    "head(exon_region_wzAverpsi_noNA)\n",
    "write.table(exon_region_wzAverpsi_noNA,\"/disk1/wenqing/tmp_data/PFC_s2/all_analysis_result/exon_psi/exon_region_wzAverpsi_noNA.txt\",quote=F,col.names=F,row.names=F,sep='\\t')"
   ]
  },
  {
   "cell_type": "markdown",
   "metadata": {
    "vscode": {
     "languageId": "r"
    }
   },
   "source": [
    "sed -i 's/_/\\t/g' exon_region_wzAverpsi_noNA.txt\n",
    "#注意此处使用lncRNA_up.res，因为exon_region_wzAverpsi_noNA.txt已经是exon的区间信息\n",
    "#但两者来源的gtf文件不同，前者来源于FANTOM的lncRNA区间注释，后者来源于refGene.txt，可能会有所影响(后者lncRNA的exon区间注释信息相对较少，会损失部分前者的信息)\n",
    "#注意exon/exon编辑的列数不同\n",
    "bedtools intersect -wo -a /disk1/wenqing/tmp_data/PFC_s2/all_analysis_result/exon_psi/exon_region_wzAverpsi_noNA.txt -b <(awk '{print $4\"\\t\"$5\"\\t\"$6}' ~/tmp_data/PFC_s2/all_analysis_result/lncRNA_mRNA/3_groups_res/GABA/down/lncRNA_up.res) |sort|uniq -c|awk '{print $2\"\\t\"$3\"\\t\"$4\"\\t\"$5\"\\t\"$6\"\\t\"$7\"\\t\"$8}' > ~/tmp_data/PFC_s2/all_analysis_result/lncRNA_mRNA/3_groups_res/GABA/up/lncRNA_up_exon_regionFrompsi.res\n",
    "\n",
    "bedtools intersect -wo -a /disk1/wenqing/tmp_data/PFC_s2/all_analysis_result/exon_psi/exon_region_wzAverpsi_noNA.txt -b <(awk '{print $5\"\\t\"$6\"\\t\"$7}' ~/tmp_data/PFC_s2/all_analysis_result/lncRNA_mRNA/3_groups_res/GABA/up/mRNA_up.res)|sort|uniq -c|awk '{print $2\"\\t\"$3\"\\t\"$4\"\\t\"$5\"\\t\"$6\"\\t\"$7\"\\t\"$8}' > mRNA_up_exon_regionFrompsi.res"
   ]
  },
  {
   "cell_type": "code",
   "execution_count": 93,
   "metadata": {
    "vscode": {
     "languageId": "r"
    }
   },
   "outputs": [
    {
     "data": {
      "text/html": [
       "<table class=\"dataframe\">\n",
       "<caption>A data.frame: 6 × 8</caption>\n",
       "<thead>\n",
       "\t<tr><th></th><th scope=col>V1</th><th scope=col>V2</th><th scope=col>V3</th><th scope=col>V4</th><th scope=col>V5</th><th scope=col>V6</th><th scope=col>V7</th><th scope=col>V9</th></tr>\n",
       "\t<tr><th></th><th scope=col>&lt;chr&gt;</th><th scope=col>&lt;int&gt;</th><th scope=col>&lt;int&gt;</th><th scope=col>&lt;dbl&gt;</th><th scope=col>&lt;chr&gt;</th><th scope=col>&lt;int&gt;</th><th scope=col>&lt;int&gt;</th><th scope=col>&lt;chr&gt;</th></tr>\n",
       "</thead>\n",
       "<tbody>\n",
       "\t<tr><th scope=row>1</th><td>chr11</td><td>17096643</td><td>17096744</td><td>1</td><td>chr11</td><td>17096654</td><td>17096655</td><td>chr11_17096643_17096744</td></tr>\n",
       "\t<tr><th scope=row>2</th><td>chr11</td><td>17096643</td><td>17096744</td><td>1</td><td>chr11</td><td>17096655</td><td>17096656</td><td>chr11_17096643_17096744</td></tr>\n",
       "\t<tr><th scope=row>3</th><td>chr11</td><td>17096643</td><td>17096744</td><td>1</td><td>chr11</td><td>17096658</td><td>17096659</td><td>chr11_17096643_17096744</td></tr>\n",
       "\t<tr><th scope=row>4</th><td>chr11</td><td>17096643</td><td>17096744</td><td>1</td><td>chr11</td><td>17096659</td><td>17096660</td><td>chr11_17096643_17096744</td></tr>\n",
       "\t<tr><th scope=row>5</th><td>chr11</td><td>17096643</td><td>17096744</td><td>1</td><td>chr11</td><td>17096660</td><td>17096661</td><td>chr11_17096643_17096744</td></tr>\n",
       "\t<tr><th scope=row>6</th><td>chr11</td><td>17096643</td><td>17096744</td><td>1</td><td>chr11</td><td>17096662</td><td>17096663</td><td>chr11_17096643_17096744</td></tr>\n",
       "</tbody>\n",
       "</table>\n"
      ],
      "text/latex": [
       "A data.frame: 6 × 8\n",
       "\\begin{tabular}{r|llllllll}\n",
       "  & V1 & V2 & V3 & V4 & V5 & V6 & V7 & V9\\\\\n",
       "  & <chr> & <int> & <int> & <dbl> & <chr> & <int> & <int> & <chr>\\\\\n",
       "\\hline\n",
       "\t1 & chr11 & 17096643 & 17096744 & 1 & chr11 & 17096654 & 17096655 & chr11\\_17096643\\_17096744\\\\\n",
       "\t2 & chr11 & 17096643 & 17096744 & 1 & chr11 & 17096655 & 17096656 & chr11\\_17096643\\_17096744\\\\\n",
       "\t3 & chr11 & 17096643 & 17096744 & 1 & chr11 & 17096658 & 17096659 & chr11\\_17096643\\_17096744\\\\\n",
       "\t4 & chr11 & 17096643 & 17096744 & 1 & chr11 & 17096659 & 17096660 & chr11\\_17096643\\_17096744\\\\\n",
       "\t5 & chr11 & 17096643 & 17096744 & 1 & chr11 & 17096660 & 17096661 & chr11\\_17096643\\_17096744\\\\\n",
       "\t6 & chr11 & 17096643 & 17096744 & 1 & chr11 & 17096662 & 17096663 & chr11\\_17096643\\_17096744\\\\\n",
       "\\end{tabular}\n"
      ],
      "text/markdown": [
       "\n",
       "A data.frame: 6 × 8\n",
       "\n",
       "| <!--/--> | V1 &lt;chr&gt; | V2 &lt;int&gt; | V3 &lt;int&gt; | V4 &lt;dbl&gt; | V5 &lt;chr&gt; | V6 &lt;int&gt; | V7 &lt;int&gt; | V9 &lt;chr&gt; |\n",
       "|---|---|---|---|---|---|---|---|---|\n",
       "| 1 | chr11 | 17096643 | 17096744 | 1 | chr11 | 17096654 | 17096655 | chr11_17096643_17096744 |\n",
       "| 2 | chr11 | 17096643 | 17096744 | 1 | chr11 | 17096655 | 17096656 | chr11_17096643_17096744 |\n",
       "| 3 | chr11 | 17096643 | 17096744 | 1 | chr11 | 17096658 | 17096659 | chr11_17096643_17096744 |\n",
       "| 4 | chr11 | 17096643 | 17096744 | 1 | chr11 | 17096659 | 17096660 | chr11_17096643_17096744 |\n",
       "| 5 | chr11 | 17096643 | 17096744 | 1 | chr11 | 17096660 | 17096661 | chr11_17096643_17096744 |\n",
       "| 6 | chr11 | 17096643 | 17096744 | 1 | chr11 | 17096662 | 17096663 | chr11_17096643_17096744 |\n",
       "\n"
      ],
      "text/plain": [
       "  V1    V2       V3       V4 V5    V6       V7       V9                     \n",
       "1 chr11 17096643 17096744 1  chr11 17096654 17096655 chr11_17096643_17096744\n",
       "2 chr11 17096643 17096744 1  chr11 17096655 17096656 chr11_17096643_17096744\n",
       "3 chr11 17096643 17096744 1  chr11 17096658 17096659 chr11_17096643_17096744\n",
       "4 chr11 17096643 17096744 1  chr11 17096659 17096660 chr11_17096643_17096744\n",
       "5 chr11 17096643 17096744 1  chr11 17096660 17096661 chr11_17096643_17096744\n",
       "6 chr11 17096643 17096744 1  chr11 17096662 17096663 chr11_17096643_17096744"
      ]
     },
     "metadata": {},
     "output_type": "display_data"
    }
   ],
   "source": [
    "######整理整个发育阶段的regular.res（和all res有交集的）\n",
    "############\n",
    "setwd(\"/disk1/wenqing/tmp_data/PFC_s2/all_analysis_result/lncRNA_mRNA/3_groups_res/GABA/stable\")\n",
    "\n",
    "RNA_res <- read.table(\"mRNA_stable_exon_regionFrompsi.res\")\n",
    "RNA_res$V9 <- paste0(RNA_res$V1,\"_\",RNA_res$V2,\"_\",RNA_res$V3)\n",
    "head(RNA_res)"
   ]
  },
  {
   "cell_type": "code",
   "execution_count": 24,
   "metadata": {
    "vscode": {
     "languageId": "r"
    }
   },
   "outputs": [],
   "source": [
    "##将所有样本res的ad相加\n",
    "setwd(\"/disk1/wenqing/tmp_data/PFC_s2/filter_snv_for_new_res\")\n",
    "res_08 <- read.table(\"./GW08/GABAergic_neurons/regular.res.depth.orig\")\n",
    "res_12 <- read.table(\"./GW12/GABAergic_neurons/regular.res.depth.orig\")\n",
    "res_16_1_3 <- read.table(\"./GW16_1_3/GABAergic_neurons/regular.res.depth.orig\")\n",
    "res_16_1_4 <- read.table(\"./GW16_1_4/GABAergic_neurons/regular.res.depth.orig\")\n",
    "res_16_1_9 <- read.table(\"./GW16_1_9/GABAergic_neurons/regular.res.depth.orig\")\n",
    "res_19_1_1 <- read.table(\"./GW19_1_1/GABAergic_neurons/regular.res.depth.orig\")\n",
    "res_19_1_2 <- read.table(\"./GW19_1_2/GABAergic_neurons/regular.res.depth.orig\")\n",
    "res_19_1_3 <- read.table(\"./GW19_1_3/GABAergic_neurons/regular.res.depth.orig\")\n",
    "res_23_1_1 <- read.table(\"./GW23_1_1/GABAergic_neurons/regular.res.depth.orig\")\n",
    "res_23_1_2 <- read.table(\"./GW23_1_2/GABAergic_neurons/regular.res.depth.orig\")\n",
    "res_23_1_3 <- read.table(\"./GW23_1_3/GABAergic_neurons/regular.res.depth.orig\")\n",
    "res_26_1_1 <- read.table(\"./GW26_1_1/GABAergic_neurons/regular.res.depth.orig\")\n"
   ]
  },
  {
   "cell_type": "code",
   "execution_count": 25,
   "metadata": {
    "vscode": {
     "languageId": "r"
    }
   },
   "outputs": [],
   "source": [
    "res_08 <- res_08[which(res_08$V4=='AG'),]\n",
    "res_12 <- res_12[which(res_12$V4=='AG'),]\n",
    "res_16_1_3 <- res_16_1_3[which(res_16_1_3$V4=='AG'),]\n",
    "res_16_1_4 <- res_16_1_4[which(res_16_1_4$V4=='AG'),]\n",
    "res_16_1_9 <- res_16_1_9[which(res_16_1_9$V4=='AG'),]\n",
    "res_19_1_1 <- res_19_1_1[which(res_19_1_1$V4=='AG'),]\n",
    "res_19_1_2 <- res_19_1_2[which(res_19_1_2$V4=='AG'),]\n",
    "res_19_1_3 <- res_19_1_3[which(res_19_1_3$V4=='AG'),]\n",
    "res_23_1_1 <- res_23_1_1[which(res_23_1_1$V4=='AG'),]\n",
    "res_23_1_2 <- res_23_1_2[which(res_23_1_2$V4=='AG'),]\n",
    "res_23_1_3 <- res_23_1_3[which(res_23_1_3$V4=='AG'),]\n",
    "res_26_1_1 <- res_26_1_1[which(res_26_1_1$V4=='AG'),]\n"
   ]
  },
  {
   "cell_type": "code",
   "execution_count": 26,
   "metadata": {
    "vscode": {
     "languageId": "r"
    }
   },
   "outputs": [
    {
     "data": {
      "text/html": [
       "<table class=\"dataframe\">\n",
       "<caption>A data.frame: 6 × 8</caption>\n",
       "<thead>\n",
       "\t<tr><th></th><th scope=col>V1</th><th scope=col>V2</th><th scope=col>V3</th><th scope=col>V4</th><th scope=col>V5</th><th scope=col>V6</th><th scope=col>V7</th><th scope=col>V8</th></tr>\n",
       "\t<tr><th></th><th scope=col>&lt;chr&gt;</th><th scope=col>&lt;int&gt;</th><th scope=col>&lt;int&gt;</th><th scope=col>&lt;chr&gt;</th><th scope=col>&lt;int&gt;</th><th scope=col>&lt;chr&gt;</th><th scope=col>&lt;int&gt;</th><th scope=col>&lt;int&gt;</th></tr>\n",
       "</thead>\n",
       "<tbody>\n",
       "\t<tr><th scope=row>5</th><td>chr1</td><td>11780415</td><td>11780416</td><td>AG</td><td>32</td><td>-</td><td>34</td><td>34</td></tr>\n",
       "\t<tr><th scope=row>6</th><td>chr1</td><td>11780473</td><td>11780474</td><td>AG</td><td>63</td><td>-</td><td>68</td><td>68</td></tr>\n",
       "\t<tr><th scope=row>7</th><td>chr1</td><td>19585568</td><td>19585569</td><td>AG</td><td>20</td><td>-</td><td>21</td><td>38</td></tr>\n",
       "\t<tr><th scope=row>8</th><td>chr1</td><td>19585570</td><td>19585571</td><td>AG</td><td>20</td><td>-</td><td>22</td><td>37</td></tr>\n",
       "\t<tr><th scope=row>9</th><td>chr1</td><td>19585602</td><td>19585603</td><td>AG</td><td>13</td><td>-</td><td>20</td><td>21</td></tr>\n",
       "\t<tr><th scope=row>10</th><td>chr1</td><td>19585605</td><td>19585606</td><td>AG</td><td>15</td><td>-</td><td>20</td><td>20</td></tr>\n",
       "</tbody>\n",
       "</table>\n"
      ],
      "text/latex": [
       "A data.frame: 6 × 8\n",
       "\\begin{tabular}{r|llllllll}\n",
       "  & V1 & V2 & V3 & V4 & V5 & V6 & V7 & V8\\\\\n",
       "  & <chr> & <int> & <int> & <chr> & <int> & <chr> & <int> & <int>\\\\\n",
       "\\hline\n",
       "\t5 & chr1 & 11780415 & 11780416 & AG & 32 & - & 34 & 34\\\\\n",
       "\t6 & chr1 & 11780473 & 11780474 & AG & 63 & - & 68 & 68\\\\\n",
       "\t7 & chr1 & 19585568 & 19585569 & AG & 20 & - & 21 & 38\\\\\n",
       "\t8 & chr1 & 19585570 & 19585571 & AG & 20 & - & 22 & 37\\\\\n",
       "\t9 & chr1 & 19585602 & 19585603 & AG & 13 & - & 20 & 21\\\\\n",
       "\t10 & chr1 & 19585605 & 19585606 & AG & 15 & - & 20 & 20\\\\\n",
       "\\end{tabular}\n"
      ],
      "text/markdown": [
       "\n",
       "A data.frame: 6 × 8\n",
       "\n",
       "| <!--/--> | V1 &lt;chr&gt; | V2 &lt;int&gt; | V3 &lt;int&gt; | V4 &lt;chr&gt; | V5 &lt;int&gt; | V6 &lt;chr&gt; | V7 &lt;int&gt; | V8 &lt;int&gt; |\n",
       "|---|---|---|---|---|---|---|---|---|\n",
       "| 5 | chr1 | 11780415 | 11780416 | AG | 32 | - | 34 | 34 |\n",
       "| 6 | chr1 | 11780473 | 11780474 | AG | 63 | - | 68 | 68 |\n",
       "| 7 | chr1 | 19585568 | 19585569 | AG | 20 | - | 21 | 38 |\n",
       "| 8 | chr1 | 19585570 | 19585571 | AG | 20 | - | 22 | 37 |\n",
       "| 9 | chr1 | 19585602 | 19585603 | AG | 13 | - | 20 | 21 |\n",
       "| 10 | chr1 | 19585605 | 19585606 | AG | 15 | - | 20 | 20 |\n",
       "\n"
      ],
      "text/plain": [
       "   V1   V2       V3       V4 V5 V6 V7 V8\n",
       "5  chr1 11780415 11780416 AG 32 -  34 34\n",
       "6  chr1 11780473 11780474 AG 63 -  68 68\n",
       "7  chr1 19585568 19585569 AG 20 -  21 38\n",
       "8  chr1 19585570 19585571 AG 20 -  22 37\n",
       "9  chr1 19585602 19585603 AG 13 -  20 21\n",
       "10 chr1 19585605 19585606 AG 15 -  20 20"
      ]
     },
     "metadata": {},
     "output_type": "display_data"
    }
   ],
   "source": [
    "head(res_08)\n",
    "res_08$V9 <- paste0(res_08$V1,\"_\",res_08$V3)\n",
    "res_12$V9 <- paste0(res_12$V1,\"_\",res_12$V3)\n",
    "res_16_1_3$V9 <- paste0(res_16_1_3$V1,\"_\",res_16_1_3$V3)\n",
    "res_16_1_4$V9 <- paste0(res_16_1_4$V1,\"_\",res_16_1_4$V3)\n",
    "res_16_1_9$V9 <- paste0(res_16_1_9$V1,\"_\",res_16_1_9$V3)\n",
    "res_19_1_1$V9 <- paste0(res_19_1_1$V1,\"_\",res_19_1_1$V3)\n",
    "res_19_1_2$V9 <- paste0(res_19_1_2$V1,\"_\",res_19_1_2$V3)\n",
    "res_19_1_3$V9 <- paste0(res_19_1_3$V1,\"_\",res_19_1_3$V3)\n",
    "res_23_1_1$V9 <- paste0(res_23_1_1$V1,\"_\",res_23_1_1$V3)\n",
    "res_23_1_2$V9 <- paste0(res_23_1_2$V1,\"_\",res_23_1_2$V3)\n",
    "res_23_1_3$V9 <- paste0(res_23_1_3$V1,\"_\",res_23_1_3$V3)\n",
    "res_26_1_1$V9 <- paste0(res_26_1_1$V1,\"_\",res_26_1_1$V3)"
   ]
  },
  {
   "cell_type": "code",
   "execution_count": 94,
   "metadata": {
    "vscode": {
     "languageId": "r"
    }
   },
   "outputs": [],
   "source": [
    "#计算每一个res的ad\n",
    "res_ad_sum_array <- c()\n",
    "for(i in 1:nrow(RNA_res)){\n",
    "    this_res <- paste0(RNA_res$V5,\"_\",RNA_res$V7)[i]\n",
    "    ad_08_for_this_res <- res_08$V5[which(res_08$V9==this_res)]\n",
    "    ad_12_for_this_res <- res_12$V5[which(res_12$V9==this_res)]\n",
    "    ad_16_3_for_this_res <- res_16_1_3$V5[which(res_16_1_3$V9==this_res)]\n",
    "    ad_16_4_for_this_res <- res_16_1_4$V5[which(res_16_1_4$V9==this_res)]\n",
    "    ad_16_9_for_this_res <- res_16_1_9$V5[which(res_16_1_9$V9==this_res)]\n",
    "    ad_19_1_for_this_res <- res_19_1_1$V5[which(res_19_1_1$V9==this_res)]\n",
    "    ad_19_2_for_this_res <- res_19_1_2$V5[which(res_19_1_2$V9==this_res)]\n",
    "    ad_19_3_for_this_res <- res_19_1_3$V5[which(res_19_1_3$V9==this_res)]\n",
    "    ad_23_1_for_this_res <- res_23_1_1$V5[which(res_23_1_1$V9==this_res)]\n",
    "    ad_23_2_for_this_res <- res_23_1_2$V5[which(res_23_1_2$V9==this_res)]\n",
    "    ad_23_3_for_this_res <- res_23_1_3$V5[which(res_23_1_3$V9==this_res)]\n",
    "    ad_26_1_for_this_res <- res_26_1_1$V5[which(res_26_1_1$V9==this_res)]\n",
    "    this_res_ad_sum <- sum(ad_08_for_this_res,ad_12_for_this_res,ad_16_3_for_this_res,ad_16_4_for_this_res,\n",
    "                            ad_16_9_for_this_res,ad_19_1_for_this_res,ad_19_2_for_this_res,ad_19_3_for_this_res,\n",
    "                            ad_23_1_for_this_res,ad_23_2_for_this_res,ad_23_3_for_this_res,ad_26_1_for_this_res)\n",
    "    res_ad_sum_array <- c(res_ad_sum_array,this_res_ad_sum)\n",
    "}"
   ]
  },
  {
   "cell_type": "code",
   "execution_count": 95,
   "metadata": {
    "vscode": {
     "languageId": "r"
    }
   },
   "outputs": [],
   "source": [
    "new_RNA_res_wzAD <- cbind(RNA_res,res_ad_sum_array)\n",
    "new_RNA_res_wzAD <- new_RNA_res_wzAD[which(new_RNA_res_wzAD$res_ad_sum_array > 0),]"
   ]
  },
  {
   "cell_type": "code",
   "execution_count": 96,
   "metadata": {
    "vscode": {
     "languageId": "r"
    }
   },
   "outputs": [],
   "source": [
    "ad_num_in_region <- c()\n",
    "for(one in unique(new_RNA_res_wzAD$V9)){\n",
    "    ad_num <- sum(new_RNA_res_wzAD$res_ad_sum_array[which(new_RNA_res_wzAD$V9==one)])\n",
    "    ad_num_in_region <- c(ad_num_in_region,ad_num)\n",
    "}"
   ]
  },
  {
   "cell_type": "code",
   "execution_count": 97,
   "metadata": {
    "vscode": {
     "languageId": "r"
    }
   },
   "outputs": [
    {
     "data": {
      "text/html": [
       "10"
      ],
      "text/latex": [
       "10"
      ],
      "text/markdown": [
       "10"
      ],
      "text/plain": [
       "[1] 10"
      ]
     },
     "metadata": {},
     "output_type": "display_data"
    },
    {
     "data": {
      "text/html": [
       "<style>\n",
       ".list-inline {list-style: none; margin:0; padding: 0}\n",
       ".list-inline>li {display: inline-block}\n",
       ".list-inline>li:not(:last-child)::after {content: \"\\00b7\"; padding: 0 .5ex}\n",
       "</style>\n",
       "<ol class=list-inline><li>73</li><li>73</li><li>26</li><li>18</li><li>13</li><li>12</li><li>31</li><li>10</li><li>23</li><li>13</li></ol>\n"
      ],
      "text/latex": [
       "\\begin{enumerate*}\n",
       "\\item 73\n",
       "\\item 73\n",
       "\\item 26\n",
       "\\item 18\n",
       "\\item 13\n",
       "\\item 12\n",
       "\\item 31\n",
       "\\item 10\n",
       "\\item 23\n",
       "\\item 13\n",
       "\\end{enumerate*}\n"
      ],
      "text/markdown": [
       "1. 73\n",
       "2. 73\n",
       "3. 26\n",
       "4. 18\n",
       "5. 13\n",
       "6. 12\n",
       "7. 31\n",
       "8. 10\n",
       "9. 23\n",
       "10. 13\n",
       "\n",
       "\n"
      ],
      "text/plain": [
       " [1] 73 73 26 18 13 12 31 10 23 13"
      ]
     },
     "metadata": {},
     "output_type": "display_data"
    }
   ],
   "source": [
    "length(ad_num_in_region)\n",
    "ad_num_in_region"
   ]
  },
  {
   "cell_type": "code",
   "execution_count": 98,
   "metadata": {
    "vscode": {
     "languageId": "r"
    }
   },
   "outputs": [],
   "source": [
    "#构造RNA region的geneWzRes_onlyAG_ad.txt\n",
    "regionWzRes_onlyAG_ad <- as.data.frame(cbind(unique(new_RNA_res_wzAD$V9),ad_num_in_region))\n",
    "setwd(\"/disk1/wenqing/tmp_data/PFC_s2/all_analysis_result/RNA_region_EI/GABA/stable\")\n",
    "write.table(regionWzRes_onlyAG_ad,\"./mRNA_exon_WzRes_onlyAG_ad.txt\",sep='\\t',col.names=F,row.names=F,quote=F)"
   ]
  },
  {
   "cell_type": "markdown",
   "metadata": {},
   "source": [
    "paste <(awk '{print $1}' lncRNA_exon_WzRes_onlyAG_ad.txt|sed 's/_/\\t/g') lncRNA_exon_WzRes_onlyAG_ad.txt > lncRNA_exon_WzRes_onlyAG_ad.processed.txt\n",
    "bedtools sort -faidx ~/tmp_data/names.txt -i lncRNA_exon_WzRes_onlyAG_ad.processed.txt > lncRNA_exon_WzRes_onlyAG_ad.processed.srt.txt"
   ]
  },
  {
   "cell_type": "code",
   "execution_count": 63,
   "metadata": {
    "vscode": {
     "languageId": "r"
    }
   },
   "outputs": [
    {
     "data": {
      "text/html": [
       "<table class=\"dataframe\">\n",
       "<caption>A data.frame: 6 × 5</caption>\n",
       "<thead>\n",
       "\t<tr><th></th><th scope=col>V1</th><th scope=col>V2</th><th scope=col>V3</th><th scope=col>V4</th><th scope=col>V5</th></tr>\n",
       "\t<tr><th></th><th scope=col>&lt;chr&gt;</th><th scope=col>&lt;int&gt;</th><th scope=col>&lt;int&gt;</th><th scope=col>&lt;dbl&gt;</th><th scope=col>&lt;chr&gt;</th></tr>\n",
       "</thead>\n",
       "<tbody>\n",
       "\t<tr><th scope=row>1</th><td>chr1</td><td> 327035</td><td> 328581</td><td>1.0000000</td><td>chr1_327035_328581  </td></tr>\n",
       "\t<tr><th scope=row>2</th><td>chr1</td><td> 776579</td><td> 778984</td><td>0.2963255</td><td>chr1_776579_778984  </td></tr>\n",
       "\t<tr><th scope=row>3</th><td>chr1</td><td> 788770</td><td> 794826</td><td>0.6394673</td><td>chr1_788770_794826  </td></tr>\n",
       "\t<tr><th scope=row>4</th><td>chr1</td><td> 900342</td><td> 901099</td><td>1.0000000</td><td>chr1_900342_901099  </td></tr>\n",
       "\t<tr><th scope=row>5</th><td>chr1</td><td>1215815</td><td>1216046</td><td>0.9590050</td><td>chr1_1215815_1216046</td></tr>\n",
       "\t<tr><th scope=row>6</th><td>chr1</td><td>1246709</td><td>1247057</td><td>1.0000000</td><td>chr1_1246709_1247057</td></tr>\n",
       "</tbody>\n",
       "</table>\n"
      ],
      "text/latex": [
       "A data.frame: 6 × 5\n",
       "\\begin{tabular}{r|lllll}\n",
       "  & V1 & V2 & V3 & V4 & V5\\\\\n",
       "  & <chr> & <int> & <int> & <dbl> & <chr>\\\\\n",
       "\\hline\n",
       "\t1 & chr1 &  327035 &  328581 & 1.0000000 & chr1\\_327035\\_328581  \\\\\n",
       "\t2 & chr1 &  776579 &  778984 & 0.2963255 & chr1\\_776579\\_778984  \\\\\n",
       "\t3 & chr1 &  788770 &  794826 & 0.6394673 & chr1\\_788770\\_794826  \\\\\n",
       "\t4 & chr1 &  900342 &  901099 & 1.0000000 & chr1\\_900342\\_901099  \\\\\n",
       "\t5 & chr1 & 1215815 & 1216046 & 0.9590050 & chr1\\_1215815\\_1216046\\\\\n",
       "\t6 & chr1 & 1246709 & 1247057 & 1.0000000 & chr1\\_1246709\\_1247057\\\\\n",
       "\\end{tabular}\n"
      ],
      "text/markdown": [
       "\n",
       "A data.frame: 6 × 5\n",
       "\n",
       "| <!--/--> | V1 &lt;chr&gt; | V2 &lt;int&gt; | V3 &lt;int&gt; | V4 &lt;dbl&gt; | V5 &lt;chr&gt; |\n",
       "|---|---|---|---|---|---|\n",
       "| 1 | chr1 |  327035 |  328581 | 1.0000000 | chr1_327035_328581   |\n",
       "| 2 | chr1 |  776579 |  778984 | 0.2963255 | chr1_776579_778984   |\n",
       "| 3 | chr1 |  788770 |  794826 | 0.6394673 | chr1_788770_794826   |\n",
       "| 4 | chr1 |  900342 |  901099 | 1.0000000 | chr1_900342_901099   |\n",
       "| 5 | chr1 | 1215815 | 1216046 | 0.9590050 | chr1_1215815_1216046 |\n",
       "| 6 | chr1 | 1246709 | 1247057 | 1.0000000 | chr1_1246709_1247057 |\n",
       "\n"
      ],
      "text/plain": [
       "  V1   V2      V3      V4        V5                  \n",
       "1 chr1  327035  328581 1.0000000 chr1_327035_328581  \n",
       "2 chr1  776579  778984 0.2963255 chr1_776579_778984  \n",
       "3 chr1  788770  794826 0.6394673 chr1_788770_794826  \n",
       "4 chr1  900342  901099 1.0000000 chr1_900342_901099  \n",
       "5 chr1 1215815 1216046 0.9590050 chr1_1215815_1216046\n",
       "6 chr1 1246709 1247057 1.0000000 chr1_1246709_1247057"
      ]
     },
     "metadata": {},
     "output_type": "display_data"
    }
   ],
   "source": [
    "######计算相关性，生成密度曲线\n",
    "exon_psi <- read.table(\"/disk1/wenqing/tmp_data/PFC_s2/all_analysis_result/exon_psi/exon_region_wzAverpsi_noNA.txt\")\n",
    "exon_psi$V5 <- paste0(exon_psi$V1,\"_\",exon_psi$V2,\"_\",exon_psi$V3)\n",
    "head(exon_psi)"
   ]
  },
  {
   "cell_type": "code",
   "execution_count": 103,
   "metadata": {
    "vscode": {
     "languageId": "r"
    }
   },
   "outputs": [],
   "source": [
    "EI_data <- read.table(\"/disk1/wenqing/tmp_data/PFC_s2/all_analysis_result/RNA_region_EI/GABA/stable/regular_EI_lncRNA_exon_over0.txt\")"
   ]
  },
  {
   "cell_type": "code",
   "execution_count": 104,
   "metadata": {
    "vscode": {
     "languageId": "r"
    }
   },
   "outputs": [
    {
     "data": {
      "text/html": [
       "<style>\n",
       ".list-inline {list-style: none; margin:0; padding: 0}\n",
       ".list-inline>li {display: inline-block}\n",
       ".list-inline>li:not(:last-child)::after {content: \"\\00b7\"; padding: 0 .5ex}\n",
       "</style>\n",
       "<ol class=list-inline><li>1</li><li>1</li><li>1</li><li>0.93953475</li><li>1</li><li>1</li></ol>\n"
      ],
      "text/latex": [
       "\\begin{enumerate*}\n",
       "\\item 1\n",
       "\\item 1\n",
       "\\item 1\n",
       "\\item 0.93953475\n",
       "\\item 1\n",
       "\\item 1\n",
       "\\end{enumerate*}\n"
      ],
      "text/markdown": [
       "1. 1\n",
       "2. 1\n",
       "3. 1\n",
       "4. 0.93953475\n",
       "5. 1\n",
       "6. 1\n",
       "\n",
       "\n"
      ],
      "text/plain": [
       "[1] 1.0000000 1.0000000 1.0000000 0.9395347 1.0000000 1.0000000"
      ]
     },
     "metadata": {},
     "output_type": "display_data"
    }
   ],
   "source": [
    "exon_psi$V4[which(exon_psi$V5 %in% rownames(EI_data))]"
   ]
  },
  {
   "cell_type": "code",
   "execution_count": 105,
   "metadata": {
    "vscode": {
     "languageId": "r"
    }
   },
   "outputs": [
    {
     "data": {
      "text/html": [
       "<style>\n",
       ".list-inline {list-style: none; margin:0; padding: 0}\n",
       ".list-inline>li {display: inline-block}\n",
       ".list-inline>li:not(:last-child)::after {content: \"\\00b7\"; padding: 0 .5ex}\n",
       "</style>\n",
       "<ol class=list-inline><li>6</li><li>3</li></ol>\n"
      ],
      "text/latex": [
       "\\begin{enumerate*}\n",
       "\\item 6\n",
       "\\item 3\n",
       "\\end{enumerate*}\n"
      ],
      "text/markdown": [
       "1. 6\n",
       "2. 3\n",
       "\n",
       "\n"
      ],
      "text/plain": [
       "[1] 6 3"
      ]
     },
     "metadata": {},
     "output_type": "display_data"
    }
   ],
   "source": [
    "input_corr_dat <- as.data.frame(cbind(rownames(EI_data),EI_data$EI,exon_psi$V4[which(exon_psi$V5 %in% rownames(EI_data))]))\n",
    "#dim(input_corr_dat)\n",
    "colnames(input_corr_dat) <- c(\"exon_region\",\"EI\",\"psi\")\n",
    "input_corr_dat$EI <- as.numeric(input_corr_dat$EI)\n",
    "input_corr_dat$psi <- as.numeric(input_corr_dat$psi)\n",
    "dim(input_corr_dat)"
   ]
  },
  {
   "cell_type": "code",
   "execution_count": 106,
   "metadata": {
    "vscode": {
     "languageId": "r"
    }
   },
   "outputs": [
    {
     "data": {
      "text/html": [
       "-0.974508809231747"
      ],
      "text/latex": [
       "-0.974508809231747"
      ],
      "text/markdown": [
       "-0.974508809231747"
      ],
      "text/plain": [
       "[1] -0.9745088"
      ]
     },
     "metadata": {},
     "output_type": "display_data"
    }
   ],
   "source": [
    "cor(input_corr_dat$EI*1000,input_corr_dat$psi)\n",
    "\n",
    "####lncRNA exon EI和psi相关性 < 0——说明：exon区域的编辑水平上升、该exon的保留率反而下降\n",
    "####mRNA exon EI和psi相关性 > 0\n"
   ]
  },
  {
   "cell_type": "code",
   "execution_count": null,
   "metadata": {
    "vscode": {
     "languageId": "r"
    }
   },
   "outputs": [],
   "source": [
    "#####up\n",
    "#lncRNA-exon和psi\n",
    "-0.09279629919385\n",
    "#mRNA-exon和psi\n",
    "-0.210383117855851\n",
    "#####down\n",
    "#lncRNA-exon和psi\n",
    "0.162765062810237\n",
    "#mRNA-exon和psi\n",
    "-0.137775947149868\n",
    "#####stable\n",
    "#lncRNA-exon和psi\n",
    "-0.974508809231747\n",
    "#mRNA-exon和psi\n",
    "-0.487777331791862\n",
    "\n",
    "#lncRNA-intron和iri\n",
    "0.0320093866615501\n",
    "#mRNA-intron和iri\n",
    "-0.0392510298982043"
   ]
  },
  {
   "cell_type": "code",
   "execution_count": null,
   "metadata": {
    "vscode": {
     "languageId": "r"
    }
   },
   "outputs": [],
   "source": [
    "####按每个样本再计算\n",
    "#step1：生成每个样本对应的up.res\n",
    "all_lncRNA_up_res <- read.table(\"/disk1/wenqing/tmp_data/PFC_s2/all_analysis_result/lncRNA_mRNA/3_groups_res/GABA/up/lncRNA_up.res\")\n",
    "#注意此处mRNA和lncRNA编辑位点的列数不同\n",
    "uniq_res <- unique(paste0(all_lncRNA_up_res$V6,\"_\",all_lncRNA_up_res$V8))\n",
    "phase=c(\"08\",\"12\",\"16_1_3\",\"16_1_4\",\"16_1_9\",\"19_1_1\",\"19_1_2\",\"19_1_3\",\"23_1_1\",\"23_1_2\",\"23_1_3\",\"26_1_1\")\n",
    "for(one in phase){\n",
    "    res_dat <- eval(as.name(paste0(\"res_\",one)))\n",
    "    write.table(res_dat[which(res_dat$V9 %in% uniq_res),],paste0(\"/disk1/wenqing/tmp_data/PFC_s2/all_analysis_result/RNA_region_EI/GABA/up/GW\",one,\"/lncRNA_up_this_sample.res\"),quote=F,col.names=F,row.names=F,sep='\\t')\n",
    "}\n"
   ]
  },
  {
   "cell_type": "code",
   "execution_count": null,
   "metadata": {
    "vscode": {
     "languageId": "r"
    }
   },
   "outputs": [
    {
     "data": {
      "text/html": [
       "<table class=\"dataframe\">\n",
       "<caption>A data.frame: 6 × 9</caption>\n",
       "<thead>\n",
       "\t<tr><th></th><th scope=col>V1</th><th scope=col>V2</th><th scope=col>V3</th><th scope=col>V4</th><th scope=col>V5</th><th scope=col>V6</th><th scope=col>V7</th><th scope=col>V8</th><th scope=col>V9</th></tr>\n",
       "\t<tr><th></th><th scope=col>&lt;chr&gt;</th><th scope=col>&lt;int&gt;</th><th scope=col>&lt;int&gt;</th><th scope=col>&lt;chr&gt;</th><th scope=col>&lt;chr&gt;</th><th scope=col>&lt;chr&gt;</th><th scope=col>&lt;int&gt;</th><th scope=col>&lt;int&gt;</th><th scope=col>&lt;int&gt;</th></tr>\n",
       "</thead>\n",
       "<tbody>\n",
       "\t<tr><th scope=row>1</th><td>chr1</td><td>1016361</td><td>1051469</td><td>ENSG00000131591.13</td><td>;</td><td>chr1</td><td>1033577</td><td>1033578</td><td>1</td></tr>\n",
       "\t<tr><th scope=row>2</th><td>chr1</td><td>1016361</td><td>1051469</td><td>ENSG00000131591.13</td><td>;</td><td>chr1</td><td>1033593</td><td>1033594</td><td>1</td></tr>\n",
       "\t<tr><th scope=row>3</th><td>chr1</td><td>1334829</td><td>1342673</td><td>ENSG00000242485.1 </td><td>;</td><td>chr1</td><td>1338719</td><td>1338720</td><td>1</td></tr>\n",
       "\t<tr><th scope=row>4</th><td>chr1</td><td>1334932</td><td>1341204</td><td>ENSG00000224870.3 </td><td>;</td><td>chr1</td><td>1338719</td><td>1338720</td><td>1</td></tr>\n",
       "\t<tr><th scope=row>5</th><td>chr1</td><td>1630324</td><td>1713218</td><td>ENSG00000008130.11</td><td>;</td><td>chr1</td><td>1664412</td><td>1664413</td><td>1</td></tr>\n",
       "\t<tr><th scope=row>6</th><td>chr1</td><td>1630324</td><td>1713218</td><td>ENSG00000008130.11</td><td>;</td><td>chr1</td><td>1664474</td><td>1664475</td><td>1</td></tr>\n",
       "</tbody>\n",
       "</table>\n"
      ],
      "text/latex": [
       "A data.frame: 6 × 9\n",
       "\\begin{tabular}{r|lllllllll}\n",
       "  & V1 & V2 & V3 & V4 & V5 & V6 & V7 & V8 & V9\\\\\n",
       "  & <chr> & <int> & <int> & <chr> & <chr> & <chr> & <int> & <int> & <int>\\\\\n",
       "\\hline\n",
       "\t1 & chr1 & 1016361 & 1051469 & ENSG00000131591.13 & ; & chr1 & 1033577 & 1033578 & 1\\\\\n",
       "\t2 & chr1 & 1016361 & 1051469 & ENSG00000131591.13 & ; & chr1 & 1033593 & 1033594 & 1\\\\\n",
       "\t3 & chr1 & 1334829 & 1342673 & ENSG00000242485.1  & ; & chr1 & 1338719 & 1338720 & 1\\\\\n",
       "\t4 & chr1 & 1334932 & 1341204 & ENSG00000224870.3  & ; & chr1 & 1338719 & 1338720 & 1\\\\\n",
       "\t5 & chr1 & 1630324 & 1713218 & ENSG00000008130.11 & ; & chr1 & 1664412 & 1664413 & 1\\\\\n",
       "\t6 & chr1 & 1630324 & 1713218 & ENSG00000008130.11 & ; & chr1 & 1664474 & 1664475 & 1\\\\\n",
       "\\end{tabular}\n"
      ],
      "text/markdown": [
       "\n",
       "A data.frame: 6 × 9\n",
       "\n",
       "| <!--/--> | V1 &lt;chr&gt; | V2 &lt;int&gt; | V3 &lt;int&gt; | V4 &lt;chr&gt; | V5 &lt;chr&gt; | V6 &lt;chr&gt; | V7 &lt;int&gt; | V8 &lt;int&gt; | V9 &lt;int&gt; |\n",
       "|---|---|---|---|---|---|---|---|---|---|\n",
       "| 1 | chr1 | 1016361 | 1051469 | ENSG00000131591.13 | ; | chr1 | 1033577 | 1033578 | 1 |\n",
       "| 2 | chr1 | 1016361 | 1051469 | ENSG00000131591.13 | ; | chr1 | 1033593 | 1033594 | 1 |\n",
       "| 3 | chr1 | 1334829 | 1342673 | ENSG00000242485.1  | ; | chr1 | 1338719 | 1338720 | 1 |\n",
       "| 4 | chr1 | 1334932 | 1341204 | ENSG00000224870.3  | ; | chr1 | 1338719 | 1338720 | 1 |\n",
       "| 5 | chr1 | 1630324 | 1713218 | ENSG00000008130.11 | ; | chr1 | 1664412 | 1664413 | 1 |\n",
       "| 6 | chr1 | 1630324 | 1713218 | ENSG00000008130.11 | ; | chr1 | 1664474 | 1664475 | 1 |\n",
       "\n"
      ],
      "text/plain": [
       "  V1   V2      V3      V4                 V5 V6   V7      V8      V9\n",
       "1 chr1 1016361 1051469 ENSG00000131591.13 ;  chr1 1033577 1033578 1 \n",
       "2 chr1 1016361 1051469 ENSG00000131591.13 ;  chr1 1033593 1033594 1 \n",
       "3 chr1 1334829 1342673 ENSG00000242485.1  ;  chr1 1338719 1338720 1 \n",
       "4 chr1 1334932 1341204 ENSG00000224870.3  ;  chr1 1338719 1338720 1 \n",
       "5 chr1 1630324 1713218 ENSG00000008130.11 ;  chr1 1664412 1664413 1 \n",
       "6 chr1 1630324 1713218 ENSG00000008130.11 ;  chr1 1664474 1664475 1 "
      ]
     },
     "metadata": {},
     "output_type": "display_data"
    }
   ],
   "source": [
    "head(all_lncRNA_up_res)"
   ]
  },
  {
   "cell_type": "markdown",
   "metadata": {},
   "source": [
    "######对生成的各样本的res，与各样本的exon region做交集，有些样本的数量会很少\n",
    "samples=(GW08 GW12 GW16_1_3 GW16_1_4 GW16_1_9 GW19_1_1 GW19_1_2 GW19_1_3 GW23_1_1 GW23_1_2 GW23_1_3 GW26_1_1)\n",
    "for one in ${samples[@]};\n",
    "do\n",
    "    region_direct=/disk1/wenqing/exon_retention_analysis_senescence-master/\"$one\"/GABAergic_neurons\n",
    "    res_direct=/disk1/wenqing/tmp_data/PFC_s2/all_analysis_result/RNA_region_EI/GABA/up/\"$one\"\n",
    "    bedtools intersect -wo -a \"$region_direct\"/exon_region_wzpsi.srt.bed -b \"$res_direct\"/lncRNA_up_this_sample.res > \"$res_direct\"/lncRNA_up_exon_this_sample.res\n",
    "done"
   ]
  },
  {
   "cell_type": "code",
   "execution_count": null,
   "metadata": {
    "vscode": {
     "languageId": "r"
    }
   },
   "outputs": [],
   "source": [
    "#######对几个样本共有的exon region计算EI\n",
    "#有些region很少的去掉\n",
    "#GABA-up/down/stable:没有富集得到的exon region，因此不采用分开计算相关性的方法！！！！！！！！！\n",
    "#exon_psi_wzRES_08 <- read.table(\"/disk1/wenqing/tmp_data/PFC_s2/all_analysis_result/RNA_region_EI/GABA/up/GW08/lncRNA_up_exon_this_sample.res\")\n",
    "#exon_region_08 <- paste0(exon_psi_wzRES_08$V1,\"_\",exon_psi_wzRES_08$V2,\"_\",exon_psi_wzRES_08$V3)\n",
    "exon_psi_wzRES_12 <- read.table(\"/disk1/wenqing/tmp_data/PFC_s2/all_analysis_result/RNA_region_EI/GABA/up/GW12/lncRNA_up_exon_this_sample.res\")\n",
    "exon_region_12 <- paste0(exon_psi_wzRES_12$V1,\"_\",exon_psi_wzRES_12$V2,\"_\",exon_psi_wzRES_12$V3)\n",
    "exon_psi_wzRES_16_1_3 <- read.table(\"/disk1/wenqing/tmp_data/PFC_s2/all_analysis_result/RNA_region_EI/GABA/up/GW16_1_3/lncRNA_up_exon_this_sample.res\")\n",
    "exon_region_16_1_3 <- paste0(exon_psi_wzRES_16_1_3$V1,\"_\",exon_psi_wzRES_16_1_3$V2,\"_\",exon_psi_wzRES_16_1_3$V3)\n",
    "exon_psi_wzRES_16_1_4 <- read.table(\"/disk1/wenqing/tmp_data/PFC_s2/all_analysis_result/RNA_region_EI/GABA/up/GW16_1_4/lncRNA_up_exon_this_sample.res\")\n",
    "exon_region_16_1_4 <- paste0(exon_psi_wzRES_16_1_4$V1,\"_\",exon_psi_wzRES_16_1_4$V2,\"_\",exon_psi_wzRES_16_1_4$V3)\n",
    "exon_psi_wzRES_16_1_9 <- read.table(\"/disk1/wenqing/tmp_data/PFC_s2/all_analysis_result/RNA_region_EI/GABA/up/GW16_1_9/lncRNA_up_exon_this_sample.res\")\n",
    "exon_region_16_1_9 <- paste0(exon_psi_wzRES_16_1_9$V1,\"_\",exon_psi_wzRES_16_1_9$V2,\"_\",exon_psi_wzRES_16_1_9$V3)\n",
    "exon_psi_wzRES_19_1_1 <- read.table(\"/disk1/wenqing/tmp_data/PFC_s2/all_analysis_result/RNA_region_EI/GABA/up/GW19_1_1/lncRNA_up_exon_this_sample.res\")\n",
    "exon_region_19_1_1 <- paste0(exon_psi_wzRES_19_1_1$V1,\"_\",exon_psi_wzRES_19_1_1$V2,\"_\",exon_psi_wzRES_19_1_1$V3)\n",
    "#exon_psi_wzRES_19_1_2 <- read.table(\"/disk1/wenqing/tmp_data/PFC_s2/all_analysis_result/RNA_region_EI/GABA/up/GW19_1_2/lncRNA_up_exon_this_sample.res\")\n",
    "#exon_region_19_1_2 <- paste0(exon_psi_wzRES_19_1_2$V1,\"_\",exon_psi_wzRES_19_1_2$V2,\"_\",exon_psi_wzRES_19_1_2$V3)\n",
    "#exon_psi_wzRES_19_1_3 <- read.table(\"/disk1/wenqing/tmp_data/PFC_s2/all_analysis_result/RNA_region_EI/GABA/up/GW19_1_3/lncRNA_up_exon_this_sample.res\")\n",
    "#exon_region_19_1_3 <- paste0(exon_psi_wzRES_19_1_3$V1,\"_\",exon_psi_wzRES_19_1_3$V2,\"_\",exon_psi_wzRES_19_1_3$V3)\n",
    "exon_psi_wzRES_23_1_1 <- read.table(\"/disk1/wenqing/tmp_data/PFC_s2/all_analysis_result/RNA_region_EI/GABA/up/GW23_1_1/lncRNA_up_exon_this_sample.res\")\n",
    "exon_region_23_1_1 <- paste0(exon_psi_wzRES_23_1_1$V1,\"_\",exon_psi_wzRES_23_1_1$V2,\"_\",exon_psi_wzRES_23_1_1$V3)\n",
    "exon_psi_wzRES_23_1_2 <- read.table(\"/disk1/wenqing/tmp_data/PFC_s2/all_analysis_result/RNA_region_EI/GABA/up/GW23_1_2/lncRNA_up_exon_this_sample.res\")\n",
    "exon_region_23_1_2 <- paste0(exon_psi_wzRES_23_1_2$V1,\"_\",exon_psi_wzRES_23_1_2$V2,\"_\",exon_psi_wzRES_23_1_2$V3)\n",
    "exon_psi_wzRES_23_1_3 <- read.table(\"/disk1/wenqing/tmp_data/PFC_s2/all_analysis_result/RNA_region_EI/GABA/up/GW23_1_3/lncRNA_up_exon_this_sample.res\")\n",
    "exon_region_23_1_3 <- paste0(exon_psi_wzRES_23_1_3$V1,\"_\",exon_psi_wzRES_23_1_3$V2,\"_\",exon_psi_wzRES_23_1_3$V3)\n",
    "exon_psi_wzRES_26_1_1 <- read.table(\"/disk1/wenqing/tmp_data/PFC_s2/all_analysis_result/RNA_region_EI/GABA/up/GW26_1_1/lncRNA_up_exon_this_sample.res\")\n",
    "exon_region_26_1_1 <- paste0(exon_psi_wzRES_26_1_1$V1,\"_\",exon_psi_wzRES_26_1_1$V2,\"_\",exon_psi_wzRES_26_1_1$V3)"
   ]
  },
  {
   "cell_type": "code",
   "execution_count": null,
   "metadata": {
    "vscode": {
     "languageId": "r"
    }
   },
   "outputs": [
    {
     "ename": "ERROR",
     "evalue": "Error in eval(expr, envir, enclos): object 'intron_region_08' not found\n",
     "output_type": "error",
     "traceback": [
      "Error in eval(expr, envir, enclos): object 'intron_region_08' not found\n",
      "Traceback:\n",
      "\n",
      "1. intersect(intron_region_08, intron_region_12)"
     ]
    }
   ],
   "source": [
    "shared_exon_region <- intersect(exon_region_08,exon_region_12)\n",
    "shared_exon_region <- intersect(shared_exon_region,exon_region_16_1_3)\n",
    "shared_exon_region <- intersect(shared_exon_region,exon_region_16_1_4)\n",
    "shared_exon_region <- intersect(shared_exon_region,exon_region_16_1_9)\n",
    "shared_exon_region <- intersect(shared_exon_region,exon_region_19_1_2)\n",
    "shared_exon_region <- intersect(shared_exon_region,exon_region_23_1_1)\n",
    "shared_exon_region <- intersect(shared_exon_region,exon_region_23_1_2)\n",
    "shared_exon_region <- intersect(shared_exon_region,exon_region_23_1_3)\n",
    "shared_exon_region <- intersect(shared_exon_region,exon_region_26_1_1)\n",
    "shared_exon_region\n",
    "\n"
   ]
  },
  {
   "cell_type": "markdown",
   "metadata": {},
   "source": [
    "paste <(awk '{print $1}' mRNA_exon_WzRes_onlyAG_ad.txt|sed 's/_/\\t/g') mRNA_exon_WzRes_onlyAG_ad.txt > mRNA_exon_WzRes_onlyAG_ad.processed.txt\n",
    "bedtools sort -faidx ~/tmp_data/names.txt -i mRNA_exon_WzRes_onlyAG_ad.processed.txt > mRNA_exon_WzRes_onlyAG_ad.processed.srt.txt\n",
    "\n",
    "#合并所有样本GABA的regular_combined.zz\n",
    "cat /disk1/wenqing/tmp_data/PFC_s2/all_analysis_result/AEI/GABAergic_neurons/GW08/regular_combined.zz /disk1/wenqing/tmp_data/PFC_s2/all_analysis_result/AEI/GABAergic_neurons/GW12/regular_combined.zz /disk1/wenqing/tmp_data/PFC_s2/all_analysis_result/AEI/GABAergic_neurons/GW16_1_3/regular_combined.zz /disk1/wenqing/tmp_data/PFC_s2/all_analysis_result/AEI/GABAergic_neurons/GW16_1_4/regular_combined.zz /disk1/wenqing/tmp_data/PFC_s2/all_analysis_result/AEI/GABAergic_neurons/GW16_1_9/regular_combined.zz /disk1/wenqing/tmp_data/PFC_s2/all_analysis_result/AEI/GABAergic_neurons/GW19_1_1/regular_combined.zz /disk1/wenqing/tmp_data/PFC_s2/all_analysis_result/AEI/GABAergic_neurons/GW19_1_2/regular_combined.zz /disk1/wenqing/tmp_data/PFC_s2/all_analysis_result/AEI/GABAergic_neurons/GW19_1_3/regular_combined.zz /disk1/wenqing/tmp_data/PFC_s2/all_analysis_result/AEI/GABAergic_neurons/GW23_1_1/regular_combined.zz /disk1/wenqing/tmp_data/PFC_s2/all_analysis_result/AEI/GABAergic_neurons/GW23_1_2/regular_combined.zz /disk1/wenqing/tmp_data/PFC_s2/all_analysis_result/AEI/GABAergic_neurons/GW23_1_3/regular_combined.zz /disk1/wenqing/tmp_data/PFC_s2/all_analysis_result/AEI/GABAergic_neurons/GW26_1_1/regular_combined.zz > /disk1/wenqing/tmp_data/PFC_s2/all_analysis_result/RNA_region_EI/GABA/down/regular_combined.zz"
   ]
  }
 ],
 "metadata": {
  "kernelspec": {
   "display_name": "R",
   "language": "R",
   "name": "ir"
  },
  "language_info": {
   "codemirror_mode": "r",
   "file_extension": ".r",
   "mimetype": "text/x-r-source",
   "name": "R",
   "pygments_lexer": "r",
   "version": "4.3.1"
  },
  "orig_nbformat": 4,
  "vscode": {
   "interpreter": {
    "hash": "31f2aee4e71d21fbe5cf8b01ff0e069b9275f58929596ceb00d14d90e3e16cd6"
   }
  }
 },
 "nbformat": 4,
 "nbformat_minor": 2
}
