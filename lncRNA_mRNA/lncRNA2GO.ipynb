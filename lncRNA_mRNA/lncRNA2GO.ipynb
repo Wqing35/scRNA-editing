{
 "cells": [
  {
   "cell_type": "code",
   "execution_count": 1,
   "metadata": {
    "vscode": {
     "languageId": "r"
    }
   },
   "outputs": [
    {
     "data": {
      "text/html": [
       "'/disk1/wenqing/anaconda3/envs/wq_R4.2/lib/R/library'"
      ],
      "text/latex": [
       "'/disk1/wenqing/anaconda3/envs/wq\\_R4.2/lib/R/library'"
      ],
      "text/markdown": [
       "'/disk1/wenqing/anaconda3/envs/wq_R4.2/lib/R/library'"
      ],
      "text/plain": [
       "[1] \"/disk1/wenqing/anaconda3/envs/wq_R4.2/lib/R/library\""
      ]
     },
     "metadata": {},
     "output_type": "display_data"
    }
   ],
   "source": [
    ".libPaths()"
   ]
  },
  {
   "cell_type": "code",
   "execution_count": 2,
   "metadata": {
    "vscode": {
     "languageId": "r"
    }
   },
   "outputs": [
    {
     "ename": "ERROR",
     "evalue": "Error in library(GOSim): there is no package called ‘GOSim’\n",
     "output_type": "error",
     "traceback": [
      "Error in library(GOSim): there is no package called ‘GOSim’\nTraceback:\n",
      "1. library(GOSim)"
     ]
    }
   ],
   "source": [
    "\n",
    "######################################################################################################################################################################\n",
    "#\n",
    "#\n",
    "#   - This code predicts functions of lncRNA (Protein-Coding) genes based on Gene Ontology dataset.\n",
    "#   - Please first download \"ExpressionData\" and \"EnsemblID2GOID\" form supplementary and change blew addresses according to your system location of these files.\n",
    "#   - Main function is Prediction Function;\n",
    "#\n",
    "#                       Input: 1- GeneID, Ensembl ID of gene that you want to predict of its function for example: ENSG00000228630\n",
    "#                              2- Onto, Ontology type that have two options; MF(Molecular Function) or BP(Biological Process)\n",
    "#                              3- Method, which has five options; Pearson or Spearman or Fisher or Sobolev or combine\n",
    "#\n",
    "#                       Output: the output is a list of ontology terms that ordered with respect to FDR values\n",
    "#                              1- GOID, Gene Ontology ID\n",
    "#                              2- Ontology, Ontology type (MF or BP)\n",
    "#                              3- FDR, False Positive Rate\n",
    "#                              4- Term, description of GOID\n",
    "#    - There is an example for HOTAIR lncRNA in last line.\n",
    "#\n",
    "#\n",
    "########################################################################################################################################################################\n",
    "\n",
    "library(plyr)\n",
    "library(GOSim)\n",
    "\n",
    "options(stringsAsFactors = FALSE)\n",
    "ExpressionData = read.table('/disk1/wenqing/scRNA-editing/lncRNA_mRNA/lncRNA2function_data.txt', sep='\\t', head=TRUE)\n",
    "EnsemblID2GOID = read.table('/disk1/wenqing/scRNA-editing/lncRNA_mRNA/EG2GO.txt', sep='\\t',head=TRUE)\n",
    "\n",
    "ExpressionData_PC <- ExpressionData[(ExpressionData$GeneType == \"protein_coding\"), ]\n",
    "\n",
    "EnsemblID_PC <- ExpressionData_PC$GeneID\n",
    "CutOff <- 250\n",
    "l <- ncol(ExpressionData)\n"
   ]
  },
  {
   "cell_type": "code",
   "execution_count": null,
   "metadata": {
    "vscode": {
     "languageId": "r"
    }
   },
   "outputs": [],
   "source": [
    "\n",
    "SobolevMetric <- function(x, y) {\n",
    "            x1 <- x**2 / (sum(x**2))\n",
    "            y1 <- y**2 / (sum(y**2))\n",
    "\t    z1 <- x1 - y1\n",
    "\t    FT <- fft(z1)\n",
    "\t    w <- 2*pi*(1:length(FT))/(length(FT))\n",
    "\t    s <- sum((1+w)*abs(FT)**2)**(1/2)\n",
    "\t    return(s)\n",
    "\t    }\n",
    "\n",
    "FisherMetric <- function(x, y) {\n",
    "\t    x1 <- x**2 / (sum(x**2))\n",
    "\t    y1 <- y**2 / (sum(y**2))\n",
    "\t    t <- x1 * y1\n",
    "\t    return(acos(sum(sqrt(t))))\n",
    "            }\n",
    "\n",
    "Enrichment_func <- function(DF_, onto) {\n",
    "    \n",
    "\tList_Top_Genes <- DF_[c(1:CutOff), 1]\n",
    "\tif(onto == \"MF\") EG_ <- EnsemblID2GOID[(EnsemblID2GOID[ ,3] == \"molecular_function\"), ]\n",
    "\tif(onto == \"BP\") EG_ <- EnsemblID2GOID[(EnsemblID2GOID[ ,3] == \"biological_process\"), ]\n",
    "\n",
    "\tEG_ <- EG_[(EG_$ensembl_gene_id %in% EnsemblID_PC), ]\n",
    "\tListOfGos <- EG_[(EG_$ensembl_gene_id %in% List_Top_Genes),2]\t\n",
    "\tListOfGos <- unique(ListOfGos)\n",
    "\tListOfGos <- ListOfGos[which(!is.na(ListOfGos))]\n",
    "\n",
    "\tTermID2ExtID <- ddply(EG_, .(go_id), function(x) Freq_Anno=nrow(x))\n",
    "        colnames(TermID2ExtID)[2] <- \"Freq_go\"\n",
    "\tqTermID2ExtID <- TermID2ExtID[(TermID2ExtID$go_id %in% ListOfGos), ]\n",
    "        qExtID2TermID <- ddply(EG_, .(go_id), function(x) Freq_go=nrow(x[(x$ensembl_gene_id %in% List_Top_Genes),]))\n",
    "        colnames(qExtID2TermID)[2] <- \"Freq_go\"\n",
    "\n",
    "\tqExtID2TermID <- qExtID2TermID[(qExtID2TermID$go_id %in% ListOfGos),2]\n",
    "\n",
    "\tn1 = qExtID2TermID\n",
    "\tn2 = qTermID2ExtID$Freq_go-qExtID2TermID\n",
    "\tn3 = length(EnsemblID_PC) - CutOff - n2\n",
    "\tn4 = rep(CutOff, nrow(qTermID2ExtID))\n",
    "\tqTermID2ExtID <- cbind(qTermID2ExtID, n1, n2, n3, n4)\n",
    "\n",
    "\tqTermID2ExtID <- qTermID2ExtID[(qTermID2ExtID$Freq_go>=5),]\n",
    "\n",
    "\targs.df<-qTermID2ExtID[,c(\"n1\", \"n2\", \"n3\", \"n4\")]\n",
    "\tpvalues <- apply(args.df, 1, function(n)\n",
    "\t\t     min(phyper(0:n[1]-1,n[2], n[3], n[4], lower.tail=FALSE)))\n",
    "\n",
    "\tGOID <- qTermID2ExtID$go_id\n",
    "\tOntology <- rep(onto, nrow(args.df))\n",
    "\tPvalue <- format(pvalues, scientific=TRUE, digits = 3)\n",
    "\tfdr  <- p.adjust(pvalues, method = \"fdr\", n = length(pvalues))\n",
    "        TERM <- Term(qTermID2ExtID[ ,1])\n",
    "        \n",
    "\tD_EN <- data.frame(GOID=GOID, Ontology=Ontology, Pvalue=Pvalue, FDR=format(fdr, scientific=TRUE, digits = 3),Term=TERM)\n",
    "\tD_EN <- na.omit(D_EN)\n",
    "\tD_EN <- D_EN[(order(as.numeric(D_EN$FDR))), ]\n",
    "\tD_EN <- D_EN[(as.numeric(D_EN$FDR)<.05),]\n",
    "\treturn(D_EN)\n",
    "        }\n",
    "\n",
    "Prediction_Function<-function( GeneID, Onto, Method ){\n",
    "\tTarget_EX <- ExpressionData[( ExpressionData$GeneID == GeneID ),]\n",
    "        if( nrow(Target_EX) == 0) return(\"The GeneID is not in our database\")\n",
    "\tTareget_EX <- as.numeric( Target_EX[1,c(4:l)] )\n",
    "\n",
    "\tif( Method == \"Pearson\" )       SCORE <- apply( ExpressionData_PC[, c(4:l)], 1, function(x) abs(cor(as.numeric(x), Tareget_EX)))\n",
    "        if( Method == \"Spearman\" )      SCORE <- apply( ExpressionData_PC[, c(4:l)], 1, function(x) abs(cor(as.numeric(x), Tareget_EX, method = \"spearman\")))\n",
    "\tif( Method == \"Fisher\" )  SCORE <- apply( ExpressionData_PC[, c(4:l)], 1, function(x) SobolevMetric(as.numeric(x), Tareget_EX))\n",
    "\tif( Method == \"Sobolev\" ) SCORE <- apply( ExpressionData_PC[, c(4:l)], 1, function(x) FisherMetric(as.numeric(x), Tareget_EX))\n",
    "\tif( Method == \"combine\" ) {\n",
    "\t\t\t\t  SCORE_Pearson  <- apply( ExpressionData_PC[, c(4:l)], 1, function(x) abs(cor(as.numeric(x), Tareget_EX)))\n",
    "\t\t\t\t  SCORE_Spearman <- apply( ExpressionData_PC[, c(4:l)], 1, function(x) abs(cor(as.numeric(x), Tareget_EX, method = \"spearman\")))\n",
    "                                  SCORE_Fisher   <- apply( ExpressionData_PC[, c(4:l)], 1, function(x) FisherMetric(as.numeric(x), Tareget_EX))\n",
    "\t\t\t\t  SCORE_Sobolev  <- apply( ExpressionData_PC[, c(4:l)], 1, function(x) SobolevMetric(as.numeric(x), Tareget_EX))\n",
    "\t\t\t\t}\n",
    "\n",
    "\tif( Method == \"combine\" ) DFScore <- data.frame( EnsemblID_PC, SCORE_Pearson, SCORE_Spearman, SCORE_Sobolev, SCORE_Fisher )\n",
    "\telse DFScore <- data.frame( EnsemblID_PC, SCORE )\n",
    "\n",
    "\tDFScore <- na.omit(DFScore)\n",
    "\n",
    "\tDFScore <- DFScore[(DFScore$EnsemblID_PC!=GeneID),]\n",
    "\tif( Method == \"Pearson\" | Method == \"Spearman\")  EnrichResult<-Enrichment_func( DFScore[ rev(order(DFScore[,2])), ], Onto)\n",
    "\tif( Method == \"Sobolev\" | Method == \"Fisher\") EnrichResult<-Enrichment_func( DFScore[order(DFScore[,2]), ], Onto)\n",
    "\tif( Method == \"combine\" ) {\n",
    "\t\t\t\tEnrichPearson  <- Enrichment_func( DFScore[ rev(order(DFScore$SCORE_Pearson)), ], Onto)\n",
    "\t\t\t\tEnrichSpearman <- Enrichment_func( DFScore[ rev(order(DFScore$SCORE_Spearman)), ], Onto)\n",
    "\t\t\t\tEnrichSobolev  <- Enrichment_func( DFScore[     order(DFScore$SCORE_Sobolev) , ], Onto)\n",
    "\t\t\t\tEnrichFisher   <- Enrichment_func( DFScore[     order(DFScore$SCORE_Fisher) , ], Onto)\n",
    "\t\t\t\tEnrichCombine  <- rbind( EnrichPearson, EnrichSpearman, EnrichSobolev,  EnrichFisher )\n",
    "\t\t\t\tEnrichCombine  <- ddply(EnrichCombine, .(GOID), function(x) x[which.min(x$FDR),])\n",
    "\t\t\t\tEnrichResult   <- EnrichCombine[ order(as.numeric(EnrichCombine$FDR)), ]\n",
    "\t\t\t\t}\n",
    "\tif(nrow(EnrichResult)>0){\n",
    "\t\t\trownames(EnrichResult) <- c(1:nrow(EnrichResult))\n",
    "\t\t\treturn(EnrichResult)\n",
    "\t\t\t}\n",
    "\telse print(\"could not find anything!\")\n",
    "\n",
    "}\t"
   ]
  },
  {
   "cell_type": "code",
   "execution_count": 4,
   "metadata": {
    "vscode": {
     "languageId": "r"
    }
   },
   "outputs": [
    {
     "data": {
      "text/html": [
       "<style>\n",
       ".list-inline {list-style: none; margin:0; padding: 0}\n",
       ".list-inline>li {display: inline-block}\n",
       ".list-inline>li:not(:last-child)::after {content: \"\\00b7\"; padding: 0 .5ex}\n",
       "</style>\n",
       "<ol class=list-inline><li>'ENSG00000170919'</li><li>'ENSG00000228221'</li><li>'ENSG00000273032'</li><li>'ENSG00000223482'</li><li>'ENSG00000230590'</li><li>'ENSG00000244879'</li><li>'ENSG00000231764'</li><li>'ENSG00000272168'</li><li>'ENSG00000231889'</li><li>'ENSG00000242808'</li></ol>\n"
      ],
      "text/latex": [
       "\\begin{enumerate*}\n",
       "\\item 'ENSG00000170919'\n",
       "\\item 'ENSG00000228221'\n",
       "\\item 'ENSG00000273032'\n",
       "\\item 'ENSG00000223482'\n",
       "\\item 'ENSG00000230590'\n",
       "\\item 'ENSG00000244879'\n",
       "\\item 'ENSG00000231764'\n",
       "\\item 'ENSG00000272168'\n",
       "\\item 'ENSG00000231889'\n",
       "\\item 'ENSG00000242808'\n",
       "\\end{enumerate*}\n"
      ],
      "text/markdown": [
       "1. 'ENSG00000170919'\n",
       "2. 'ENSG00000228221'\n",
       "3. 'ENSG00000273032'\n",
       "4. 'ENSG00000223482'\n",
       "5. 'ENSG00000230590'\n",
       "6. 'ENSG00000244879'\n",
       "7. 'ENSG00000231764'\n",
       "8. 'ENSG00000272168'\n",
       "9. 'ENSG00000231889'\n",
       "10. 'ENSG00000242808'\n",
       "\n",
       "\n"
      ],
      "text/plain": [
       " [1] \"ENSG00000170919\" \"ENSG00000228221\" \"ENSG00000273032\" \"ENSG00000223482\"\n",
       " [5] \"ENSG00000230590\" \"ENSG00000244879\" \"ENSG00000231764\" \"ENSG00000272168\"\n",
       " [9] \"ENSG00000231889\" \"ENSG00000242808\""
      ]
     },
     "metadata": {},
     "output_type": "display_data"
    }
   ],
   "source": [
    "gene_ids <- read.table(\"/disk1/wenqing/tmp_data/PFC_s2/all_analysis_result/de_editing/GABAergic_neurons/lncRNA_ESG.txt\")[,2]\n",
    "gene_ids"
   ]
  },
  {
   "cell_type": "code",
   "execution_count": null,
   "metadata": {
    "vscode": {
     "languageId": "r"
    }
   },
   "outputs": [],
   "source": [
    "Prediction_Function( GeneID=gene_ids[1], Onto=\"BP\", Method=\"combine\" )\n"
   ]
  }
 ],
 "metadata": {
  "kernelspec": {
   "display_name": "R",
   "language": "R",
   "name": "ir"
  },
  "language_info": {
   "codemirror_mode": "r",
   "file_extension": ".r",
   "mimetype": "text/x-r-source",
   "name": "R",
   "pygments_lexer": "r",
   "version": "4.3.1"
  },
  "orig_nbformat": 4
 },
 "nbformat": 4,
 "nbformat_minor": 2
}
