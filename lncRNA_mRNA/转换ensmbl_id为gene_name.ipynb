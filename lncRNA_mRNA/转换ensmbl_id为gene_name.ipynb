{
 "cells": [
  {
   "cell_type": "code",
   "execution_count": 1,
   "metadata": {
    "vscode": {
     "languageId": "r"
    }
   },
   "outputs": [
    {
     "data": {
      "text/html": [
       "'/disk1/wenqing/anaconda3/envs/wq_R4.2/lib/R/library'"
      ],
      "text/latex": [
       "'/disk1/wenqing/anaconda3/envs/wq\\_R4.2/lib/R/library'"
      ],
      "text/markdown": [
       "'/disk1/wenqing/anaconda3/envs/wq_R4.2/lib/R/library'"
      ],
      "text/plain": [
       "[1] \"/disk1/wenqing/anaconda3/envs/wq_R4.2/lib/R/library\""
      ]
     },
     "metadata": {},
     "output_type": "display_data"
    }
   ],
   "source": [
    ".libPaths()\n",
    "library(biomaRt)\n",
    "ensembl <- useMart(\"ensembl\", dataset = \"hsapiens_gene_ensembl\")\n"
   ]
  },
  {
   "cell_type": "code",
   "execution_count": 8,
   "metadata": {
    "vscode": {
     "languageId": "r"
    }
   },
   "outputs": [
    {
     "data": {
      "text/html": [
       "14"
      ],
      "text/latex": [
       "14"
      ],
      "text/markdown": [
       "14"
      ],
      "text/plain": [
       "[1] 14"
      ]
     },
     "metadata": {},
     "output_type": "display_data"
    }
   ],
   "source": [
    "\n",
    "#gene_ids <- read.table(\"/disk1/wenqing/tmp_data/PFC_s2/all_analysis_result/de_editing/GABAergic_neurons/genes_with_de_edited_res.txt\")[,1]\n",
    "gene_ids <- read.table(\"/disk1/wenqing/tmp_data/PFC_s2/all_analysis_result/editing_level_change/notwith1/cor_threshold_0.3/top20_genes_related2pc1.txt\")[,1]\n",
    "length(gene_ids)\n"
   ]
  },
  {
   "cell_type": "code",
   "execution_count": 4,
   "metadata": {
    "vscode": {
     "languageId": "r"
    }
   },
   "outputs": [
    {
     "data": {
      "text/html": [
       "<table class=\"dataframe\">\n",
       "<caption>A data.frame: 6 × 8</caption>\n",
       "<thead>\n",
       "\t<tr><th></th><th scope=col>ensembl_gene_id_version</th><th scope=col>ensembl_gene_id</th><th scope=col>external_gene_name</th><th scope=col>description</th><th scope=col>chromosome_name</th><th scope=col>start_position</th><th scope=col>end_position</th><th scope=col>gene_biotype</th></tr>\n",
       "\t<tr><th></th><th scope=col>&lt;chr&gt;</th><th scope=col>&lt;chr&gt;</th><th scope=col>&lt;chr&gt;</th><th scope=col>&lt;chr&gt;</th><th scope=col>&lt;chr&gt;</th><th scope=col>&lt;int&gt;</th><th scope=col>&lt;int&gt;</th><th scope=col>&lt;chr&gt;</th></tr>\n",
       "</thead>\n",
       "<tbody>\n",
       "\t<tr><th scope=row>1</th><td>ENSG00000002746.15</td><td>ENSG00000002746</td><td>HECW1    </td><td>HECT, C2 and WW domain containing E3 ubiquitin protein ligase 1 [Source:HGNC Symbol;Acc:HGNC:22195]</td><td>chr7 </td><td> 43112629</td><td> 43566001</td><td>protein_coding</td></tr>\n",
       "\t<tr><th scope=row>2</th><td>ENSG00000100325.15</td><td>ENSG00000100325</td><td>ASCC2    </td><td>activating signal cointegrator 1 complex subunit 2 [Source:HGNC Symbol;Acc:HGNC:24103]             </td><td>chr22</td><td> 29788609</td><td> 29838304</td><td>protein_coding</td></tr>\n",
       "\t<tr><th scope=row>3</th><td>ENSG00000123815.13</td><td>ENSG00000123815</td><td>COQ8B    </td><td>coenzyme Q8B [Source:HGNC Symbol;Acc:HGNC:19041]                                                   </td><td>chr19</td><td> 40691514</td><td> 40725784</td><td>protein_coding</td></tr>\n",
       "\t<tr><th scope=row>4</th><td>ENSG00000158864.13</td><td>ENSG00000158864</td><td>NDUFS2   </td><td>NADH:ubiquinone oxidoreductase core subunit S2 [Source:HGNC Symbol;Acc:HGNC:7708]                  </td><td>chr1 </td><td>161197104</td><td>161214723</td><td>protein_coding</td></tr>\n",
       "\t<tr><th scope=row>5</th><td>ENSG00000166272.18</td><td>ENSG00000166272</td><td>WBP1L    </td><td>WW domain binding protein 1 like [Source:HGNC Symbol;Acc:HGNC:23510]                               </td><td>chr10</td><td>102743948</td><td>102834516</td><td>protein_coding</td></tr>\n",
       "\t<tr><th scope=row>6</th><td>ENSG00000215196.5 </td><td>ENSG00000215196</td><td>BASP1-AS1</td><td>BASP1 antisense RNA 1 [Source:HGNC Symbol;Acc:HGNC:26609]                                          </td><td>chr5 </td><td> 17089296</td><td> 17217047</td><td>lncRNA        </td></tr>\n",
       "</tbody>\n",
       "</table>\n"
      ],
      "text/latex": [
       "A data.frame: 6 × 8\n",
       "\\begin{tabular}{r|llllllll}\n",
       "  & ensembl\\_gene\\_id\\_version & ensembl\\_gene\\_id & external\\_gene\\_name & description & chromosome\\_name & start\\_position & end\\_position & gene\\_biotype\\\\\n",
       "  & <chr> & <chr> & <chr> & <chr> & <chr> & <int> & <int> & <chr>\\\\\n",
       "\\hline\n",
       "\t1 & ENSG00000002746.15 & ENSG00000002746 & HECW1     & HECT, C2 and WW domain containing E3 ubiquitin protein ligase 1 {[}Source:HGNC Symbol;Acc:HGNC:22195{]} & chr7  &  43112629 &  43566001 & protein\\_coding\\\\\n",
       "\t2 & ENSG00000100325.15 & ENSG00000100325 & ASCC2     & activating signal cointegrator 1 complex subunit 2 {[}Source:HGNC Symbol;Acc:HGNC:24103{]}              & chr22 &  29788609 &  29838304 & protein\\_coding\\\\\n",
       "\t3 & ENSG00000123815.13 & ENSG00000123815 & COQ8B     & coenzyme Q8B {[}Source:HGNC Symbol;Acc:HGNC:19041{]}                                                    & chr19 &  40691514 &  40725784 & protein\\_coding\\\\\n",
       "\t4 & ENSG00000158864.13 & ENSG00000158864 & NDUFS2    & NADH:ubiquinone oxidoreductase core subunit S2 {[}Source:HGNC Symbol;Acc:HGNC:7708{]}                   & chr1  & 161197104 & 161214723 & protein\\_coding\\\\\n",
       "\t5 & ENSG00000166272.18 & ENSG00000166272 & WBP1L     & WW domain binding protein 1 like {[}Source:HGNC Symbol;Acc:HGNC:23510{]}                                & chr10 & 102743948 & 102834516 & protein\\_coding\\\\\n",
       "\t6 & ENSG00000215196.5  & ENSG00000215196 & BASP1-AS1 & BASP1 antisense RNA 1 {[}Source:HGNC Symbol;Acc:HGNC:26609{]}                                           & chr5  &  17089296 &  17217047 & lncRNA        \\\\\n",
       "\\end{tabular}\n"
      ],
      "text/markdown": [
       "\n",
       "A data.frame: 6 × 8\n",
       "\n",
       "| <!--/--> | ensembl_gene_id_version &lt;chr&gt; | ensembl_gene_id &lt;chr&gt; | external_gene_name &lt;chr&gt; | description &lt;chr&gt; | chromosome_name &lt;chr&gt; | start_position &lt;int&gt; | end_position &lt;int&gt; | gene_biotype &lt;chr&gt; |\n",
       "|---|---|---|---|---|---|---|---|---|\n",
       "| 1 | ENSG00000002746.15 | ENSG00000002746 | HECW1     | HECT, C2 and WW domain containing E3 ubiquitin protein ligase 1 [Source:HGNC Symbol;Acc:HGNC:22195] | chr7  |  43112629 |  43566001 | protein_coding |\n",
       "| 2 | ENSG00000100325.15 | ENSG00000100325 | ASCC2     | activating signal cointegrator 1 complex subunit 2 [Source:HGNC Symbol;Acc:HGNC:24103]              | chr22 |  29788609 |  29838304 | protein_coding |\n",
       "| 3 | ENSG00000123815.13 | ENSG00000123815 | COQ8B     | coenzyme Q8B [Source:HGNC Symbol;Acc:HGNC:19041]                                                    | chr19 |  40691514 |  40725784 | protein_coding |\n",
       "| 4 | ENSG00000158864.13 | ENSG00000158864 | NDUFS2    | NADH:ubiquinone oxidoreductase core subunit S2 [Source:HGNC Symbol;Acc:HGNC:7708]                   | chr1  | 161197104 | 161214723 | protein_coding |\n",
       "| 5 | ENSG00000166272.18 | ENSG00000166272 | WBP1L     | WW domain binding protein 1 like [Source:HGNC Symbol;Acc:HGNC:23510]                                | chr10 | 102743948 | 102834516 | protein_coding |\n",
       "| 6 | ENSG00000215196.5  | ENSG00000215196 | BASP1-AS1 | BASP1 antisense RNA 1 [Source:HGNC Symbol;Acc:HGNC:26609]                                           | chr5  |  17089296 |  17217047 | lncRNA         |\n",
       "\n"
      ],
      "text/plain": [
       "  ensembl_gene_id_version ensembl_gene_id external_gene_name\n",
       "1 ENSG00000002746.15      ENSG00000002746 HECW1             \n",
       "2 ENSG00000100325.15      ENSG00000100325 ASCC2             \n",
       "3 ENSG00000123815.13      ENSG00000123815 COQ8B             \n",
       "4 ENSG00000158864.13      ENSG00000158864 NDUFS2            \n",
       "5 ENSG00000166272.18      ENSG00000166272 WBP1L             \n",
       "6 ENSG00000215196.5       ENSG00000215196 BASP1-AS1         \n",
       "  description                                                                                        \n",
       "1 HECT, C2 and WW domain containing E3 ubiquitin protein ligase 1 [Source:HGNC Symbol;Acc:HGNC:22195]\n",
       "2 activating signal cointegrator 1 complex subunit 2 [Source:HGNC Symbol;Acc:HGNC:24103]             \n",
       "3 coenzyme Q8B [Source:HGNC Symbol;Acc:HGNC:19041]                                                   \n",
       "4 NADH:ubiquinone oxidoreductase core subunit S2 [Source:HGNC Symbol;Acc:HGNC:7708]                  \n",
       "5 WW domain binding protein 1 like [Source:HGNC Symbol;Acc:HGNC:23510]                               \n",
       "6 BASP1 antisense RNA 1 [Source:HGNC Symbol;Acc:HGNC:26609]                                          \n",
       "  chromosome_name start_position end_position gene_biotype  \n",
       "1 chr7             43112629       43566001    protein_coding\n",
       "2 chr22            29788609       29838304    protein_coding\n",
       "3 chr19            40691514       40725784    protein_coding\n",
       "4 chr1            161197104      161214723    protein_coding\n",
       "5 chr10           102743948      102834516    protein_coding\n",
       "6 chr5             17089296       17217047    lncRNA        "
      ]
     },
     "metadata": {},
     "output_type": "display_data"
    }
   ],
   "source": [
    "attributes <- c(\"ensembl_gene_id_version\",\"ensembl_gene_id\", \"external_gene_name\", \"description\", \"chromosome_name\", \"start_position\", \"end_position\",\"gene_biotype\")\n",
    "results <- getBM(attributes = attributes, filters = \"ensembl_gene_id_version\", values = gene_ids, mart = ensembl)\n",
    "results$chromosome_name <- paste0(\"chr\",results$chromosome_name)\n",
    "dim(results)"
   ]
  },
  {
   "cell_type": "code",
   "execution_count": 9,
   "metadata": {
    "vscode": {
     "languageId": "r"
    }
   },
   "outputs": [
    {
     "data": {
      "text/html": [
       "8"
      ],
      "text/latex": [
       "8"
      ],
      "text/markdown": [
       "8"
      ],
      "text/plain": [
       "[1] 8"
      ]
     },
     "metadata": {},
     "output_type": "display_data"
    }
   ],
   "source": [
    "length(results$external_gene_name)\n",
    "write.table(unique(results$external_gene_name),\"/disk1/wenqing/tmp_data/PFC_s2/all_analysis_result/editing_level_change/notwith1/cor_threshold_0.3/top20_genes_related2pc1_geneNameVer.txt\",quote=F,col.names=F,row.names=F)\n"
   ]
  },
  {
   "cell_type": "code",
   "execution_count": null,
   "metadata": {
    "vscode": {
     "languageId": "r"
    }
   },
   "outputs": [],
   "source": [
    "length(paste0(results$external_gene_name,\"_\",results$gene_biotype))\n",
    "length(unique(paste0(results$external_gene_name,\"_\",results$gene_biotype)))\n",
    "results[order(results$external_gene_name),]\n",
    "\n"
   ]
  },
  {
   "cell_type": "code",
   "execution_count": null,
   "metadata": {
    "vscode": {
     "languageId": "r"
    }
   },
   "outputs": [],
   "source": [
    "length(results$external_gene_name)\n",
    "length(unique(results$external_gene_name))\n",
    "length(paste0(results$external_gene_name,\"_\",results$gene_biotype))\n",
    "length(unique(paste0(results$external_gene_name,\"_\",results$gene_biotype)))\n",
    "results[order(results$external_gene_name),]\n",
    "\n"
   ]
  },
  {
   "cell_type": "code",
   "execution_count": null,
   "metadata": {
    "vscode": {
     "languageId": "r"
    }
   },
   "outputs": [],
   "source": [
    "##在每个富集到res的基因后面备注该基因的类型\n",
    "info <- read.table(\"/disk1/wenqing/tmp_data/PFC_s2/all_analysis_result/de_editing/GABAergic_neurons/detailed_info_genes_with_de_edited_res.txt\")\n",
    "head(info)"
   ]
  },
  {
   "cell_type": "code",
   "execution_count": 61,
   "metadata": {
    "vscode": {
     "languageId": "r"
    }
   },
   "outputs": [],
   "source": [
    "###注意：一个基因可能有多个基因id，对应不同的类型，在这个部分的分析中，我们去除了有多重gene biotype的gene\n",
    "#仅保留1:1的gene\n",
    "all_gene_types <- c()\n",
    "for(i in 1:nrow(info)){\n",
    "    res <- unique(results$gene_biotype[results$external_gene_name==info$V4[i]])\n",
    "    if(length(res)==1){\n",
    "        gene_type <- res\n",
    "    }else{\n",
    "        gene_type <- 'unKnown'\n",
    "    }\n",
    "    all_gene_types <- c(all_gene_types,gene_type)\n",
    "}"
   ]
  },
  {
   "cell_type": "code",
   "execution_count": 63,
   "metadata": {
    "vscode": {
     "languageId": "r"
    }
   },
   "outputs": [],
   "source": [
    "info$V9 <- all_gene_types"
   ]
  },
  {
   "cell_type": "code",
   "execution_count": 64,
   "metadata": {
    "vscode": {
     "languageId": "r"
    }
   },
   "outputs": [],
   "source": [
    "write.table(info,\"/disk1/wenqing/tmp_data/PFC_s2/all_analysis_result/de_editing/GABAergic_neurons/detailed_info_genes_with_de_edited_res_with_geneType.txt\",quote=F,sep='\\t',col.names=F,row.names=F)"
   ]
  },
  {
   "cell_type": "code",
   "execution_count": 69,
   "metadata": {
    "vscode": {
     "languageId": "r"
    }
   },
   "outputs": [
    {
     "data": {
      "text/plain": [
       "\n",
       "                            lncRNA                     protein_coding \n",
       "                                17                                466 \n",
       "                             scRNA transcribed_unprocessed_pseudogene \n",
       "                                 1                                  8 \n",
       "                           unKnown             unprocessed_pseudogene \n",
       "                               156                                  1 "
      ]
     },
     "metadata": {},
     "output_type": "display_data"
    },
    {
     "data": {
      "text/html": [
       "17"
      ],
      "text/latex": [
       "17"
      ],
      "text/markdown": [
       "17"
      ],
      "text/plain": [
       "[1] 17"
      ]
     },
     "metadata": {},
     "output_type": "display_data"
    },
    {
     "data": {
      "text/html": [
       "17"
      ],
      "text/latex": [
       "17"
      ],
      "text/markdown": [
       "17"
      ],
      "text/plain": [
       "[1] 17"
      ]
     },
     "metadata": {},
     "output_type": "display_data"
    }
   ],
   "source": [
    "##统计各类型基因intron富集的res数量\n",
    "table(info$V9)"
   ]
  },
  {
   "cell_type": "code",
   "execution_count": 70,
   "metadata": {
    "vscode": {
     "languageId": "r"
    }
   },
   "outputs": [
    {
     "data": {
      "text/html": [
       "17"
      ],
      "text/latex": [
       "17"
      ],
      "text/markdown": [
       "17"
      ],
      "text/plain": [
       "[1] 17"
      ]
     },
     "metadata": {},
     "output_type": "display_data"
    },
    {
     "data": {
      "text/html": [
       "17"
      ],
      "text/latex": [
       "17"
      ],
      "text/markdown": [
       "17"
      ],
      "text/plain": [
       "[1] 17"
      ]
     },
     "metadata": {},
     "output_type": "display_data"
    },
    {
     "data": {
      "text/html": [
       "428"
      ],
      "text/latex": [
       "428"
      ],
      "text/markdown": [
       "428"
      ],
      "text/plain": [
       "[1] 428"
      ]
     },
     "metadata": {},
     "output_type": "display_data"
    },
    {
     "data": {
      "text/html": [
       "466"
      ],
      "text/latex": [
       "466"
      ],
      "text/markdown": [
       "466"
      ],
      "text/plain": [
       "[1] 466"
      ]
     },
     "metadata": {},
     "output_type": "display_data"
    }
   ],
   "source": [
    "lncRNA_dat <- info[which(info$V9=='lncRNA'),]\n",
    "length(unique(paste0(lncRNA_dat$V6,\"_\",lncRNA_dat$V8)))\n",
    "length(paste0(lncRNA_dat$V6,\"_\",lncRNA_dat$V8))\n",
    "mRNA_dat <- info[which(info$V9=='protein_coding'),]\n",
    "length(unique(paste0(mRNA_dat$V6,\"_\",mRNA_dat$V8)))"
   ]
  },
  {
   "cell_type": "code",
   "execution_count": 80,
   "metadata": {
    "vscode": {
     "languageId": "r"
    }
   },
   "outputs": [],
   "source": [
    "attributes_for_GO <- c(\"ensembl_gene_id_version\",\"ensembl_gene_id\", \"external_gene_name\")\n",
    "lncRNA_ESG <- getBM(attributes = attributes_for_GO, filters = \"external_gene_name\", values = unique(lncRNA_dat$V4), mart = ensembl)\n",
    "write.table(lncRNA_ESG,\"/disk1/wenqing/tmp_data/PFC_s2/all_analysis_result/de_editing/GABAergic_neurons/lncRNA_ESG.txt\",quote=F,col.names=F,row.names=F,sep='\\t')"
   ]
  },
  {
   "cell_type": "code",
   "execution_count": 76,
   "metadata": {
    "vscode": {
     "languageId": "r"
    }
   },
   "outputs": [],
   "source": [
    "write.table(unique(lncRNA_dat$V4),\"/disk1/wenqing/tmp_data/PFC_s2/all_analysis_result/de_editing/GABAergic_neurons/lncRNA_genes_with_de_edited_sites.txt\",quote=F,col.names=F,row.names=F)\n",
    "write.table(unique(mRNA_dat$V4),\"/disk1/wenqing/tmp_data/PFC_s2/all_analysis_result/de_editing/GABAergic_neurons/mRNA_genes_with_de_edited_sites.txt\",quote=F,col.names=F,row.names=F)"
   ]
  },
  {
   "cell_type": "code",
   "execution_count": 73,
   "metadata": {
    "vscode": {
     "languageId": "r"
    }
   },
   "outputs": [
    {
     "data": {
      "text/html": [
       "17.7432432432432"
      ],
      "text/latex": [
       "17.7432432432432"
      ],
      "text/markdown": [
       "17.7432432432432"
      ],
      "text/plain": [
       "[1] 17.74324"
      ]
     },
     "metadata": {},
     "output_type": "display_data"
    },
    {
     "data": {
      "text/html": [
       "8.11026615969582"
      ],
      "text/latex": [
       "8.11026615969582"
      ],
      "text/markdown": [
       "8.11026615969582"
      ],
      "text/plain": [
       "[1] 8.110266"
      ]
     },
     "metadata": {},
     "output_type": "display_data"
    },
    {
     "data": {
      "text/html": [
       "21.2526315789474"
      ],
      "text/latex": [
       "21.2526315789474"
      ],
      "text/markdown": [
       "21.2526315789474"
      ],
      "text/plain": [
       "[1] 21.25263"
      ]
     },
     "metadata": {},
     "output_type": "display_data"
    },
    {
     "data": {
      "text/html": [
       "10.797507788162"
      ],
      "text/latex": [
       "10.797507788162"
      ],
      "text/markdown": [
       "10.797507788162"
      ],
      "text/plain": [
       "[1] 10.79751"
      ]
     },
     "metadata": {},
     "output_type": "display_data"
    }
   ],
   "source": [
    "1313/74\n",
    "2133/263\n",
    "\n",
    "2019/95\n",
    "3466/321"
   ]
  },
  {
   "cell_type": "code",
   "execution_count": 21,
   "metadata": {
    "vscode": {
     "languageId": "r"
    }
   },
   "outputs": [],
   "source": [
    "####分别提取lncRNA、mRNA、miRNA形成region的bed文件\n",
    "region_lncRNA <- results[which(results$gene_biotype=='lncRNA'),c('chromosome_name','start_position','end_position','external_gene_name')]\n",
    "region_mRNA <- results[which(results$gene_biotype=='protein_coding'),c('chromosome_name','start_position','end_position','external_gene_name')]\n",
    "region_miRNA <- results[which(results$gene_biotype=='miRNA'),c('chromosome_name','start_position','end_position','external_gene_name')]"
   ]
  },
  {
   "cell_type": "code",
   "execution_count": 27,
   "metadata": {
    "vscode": {
     "languageId": "r"
    }
   },
   "outputs": [],
   "source": [
    "region_lncRNA$external_gene_name[which(region_lncRNA$external_gene_name=='')] <- 'No_name'\n",
    "region_mRNA$external_gene_name[which(region_mRNA$external_gene_name=='')] <- 'No_name'\n",
    "region_miRNA$external_gene_name[which(region_miRNA$external_gene_name=='')] <- 'No_name'"
   ]
  },
  {
   "cell_type": "code",
   "execution_count": 16,
   "metadata": {
    "vscode": {
     "languageId": "r"
    }
   },
   "outputs": [
    {
     "data": {
      "text/plain": [
       "\n",
       "FALSE  TRUE \n",
       " 5729  1883 "
      ]
     },
     "metadata": {},
     "output_type": "display_data"
    }
   ],
   "source": [
    "table(region_lncRNA$external_gene_name!='')"
   ]
  },
  {
   "cell_type": "code",
   "execution_count": 17,
   "metadata": {
    "vscode": {
     "languageId": "r"
    }
   },
   "outputs": [],
   "source": [
    "#######lncRNA, mRNA和miRNA有些没有对应的基因名称，无法计算相应的IRI，因此去掉这部份分子\n",
    "region_lncRNA <- region_lncRNA[which(region_lncRNA$external_gene_name!=''),]\n",
    "region_mRNA <- region_mRNA[which(region_mRNA$external_gene_name!=''),]\n",
    "region_miRNA <- region_miRNA[which(region_miRNA$external_gene_name!=''),]"
   ]
  },
  {
   "cell_type": "code",
   "execution_count": 18,
   "metadata": {
    "vscode": {
     "languageId": "r"
    }
   },
   "outputs": [
    {
     "data": {
      "text/html": [
       "<style>\n",
       ".list-inline {list-style: none; margin:0; padding: 0}\n",
       ".list-inline>li {display: inline-block}\n",
       ".list-inline>li:not(:last-child)::after {content: \"\\00b7\"; padding: 0 .5ex}\n",
       "</style>\n",
       "<ol class=list-inline><li>1883</li><li>4</li></ol>\n"
      ],
      "text/latex": [
       "\\begin{enumerate*}\n",
       "\\item 1883\n",
       "\\item 4\n",
       "\\end{enumerate*}\n"
      ],
      "text/markdown": [
       "1. 1883\n",
       "2. 4\n",
       "\n",
       "\n"
      ],
      "text/plain": [
       "[1] 1883    4"
      ]
     },
     "metadata": {},
     "output_type": "display_data"
    },
    {
     "data": {
      "text/html": [
       "<style>\n",
       ".list-inline {list-style: none; margin:0; padding: 0}\n",
       ".list-inline>li {display: inline-block}\n",
       ".list-inline>li:not(:last-child)::after {content: \"\\00b7\"; padding: 0 .5ex}\n",
       "</style>\n",
       "<ol class=list-inline><li>991</li><li>4</li></ol>\n"
      ],
      "text/latex": [
       "\\begin{enumerate*}\n",
       "\\item 991\n",
       "\\item 4\n",
       "\\end{enumerate*}\n"
      ],
      "text/markdown": [
       "1. 991\n",
       "2. 4\n",
       "\n",
       "\n"
      ],
      "text/plain": [
       "[1] 991   4"
      ]
     },
     "metadata": {},
     "output_type": "display_data"
    },
    {
     "data": {
      "text/html": [
       "<style>\n",
       ".list-inline {list-style: none; margin:0; padding: 0}\n",
       ".list-inline>li {display: inline-block}\n",
       ".list-inline>li:not(:last-child)::after {content: \"\\00b7\"; padding: 0 .5ex}\n",
       "</style>\n",
       "<ol class=list-inline><li>348</li><li>4</li></ol>\n"
      ],
      "text/latex": [
       "\\begin{enumerate*}\n",
       "\\item 348\n",
       "\\item 4\n",
       "\\end{enumerate*}\n"
      ],
      "text/markdown": [
       "1. 348\n",
       "2. 4\n",
       "\n",
       "\n"
      ],
      "text/plain": [
       "[1] 348   4"
      ]
     },
     "metadata": {},
     "output_type": "display_data"
    }
   ],
   "source": [
    "dim(region_lncRNA)\n",
    "dim(region_miRNA)\n",
    "dim(region_mRNA)"
   ]
  },
  {
   "cell_type": "code",
   "execution_count": 28,
   "metadata": {
    "vscode": {
     "languageId": "r"
    }
   },
   "outputs": [],
   "source": [
    "write.table(region_lncRNA,\"/disk1/wenqing/tmp_data/lncRNA.withNoname.bed\",quote=F,row.names=F,col.names=F,sep='\\t')\n",
    "write.table(region_mRNA,\"/disk1/wenqing/tmp_data/mRNA.withNoname.bed\",quote=F,row.names=F,col.names=F,sep='\\t')\n",
    "write.table(region_miRNA,\"/disk1/wenqing/tmp_data/miRNA.withNoname.bed\",quote=F,row.names=F,col.names=F,sep='\\t')"
   ]
  },
  {
   "cell_type": "code",
   "execution_count": null,
   "metadata": {
    "vscode": {
     "languageId": "r"
    }
   },
   "outputs": [],
   "source": [
    "write.table(results,\"/disk1/wenqing/tmp_data/uniq_gencodeNONCODE_gene_info.txt\",quote=F,row.names=F,sep='\\t')"
   ]
  },
  {
   "cell_type": "code",
   "execution_count": 19,
   "metadata": {
    "vscode": {
     "languageId": "r"
    }
   },
   "outputs": [
    {
     "data": {
      "text/html": [
       "<table class=\"dataframe\">\n",
       "<caption>A data.frame: 3157 × 3</caption>\n",
       "<thead>\n",
       "\t<tr><th scope=col>name</th><th scope=col>description</th><th scope=col>page</th></tr>\n",
       "\t<tr><th scope=col>&lt;chr&gt;</th><th scope=col>&lt;chr&gt;</th><th scope=col>&lt;chr&gt;</th></tr>\n",
       "</thead>\n",
       "<tbody>\n",
       "\t<tr><td>ensembl_gene_id                </td><td>Gene stable ID                              </td><td>feature_page</td></tr>\n",
       "\t<tr><td>ensembl_gene_id_version        </td><td>Gene stable ID version                      </td><td>feature_page</td></tr>\n",
       "\t<tr><td>ensembl_transcript_id          </td><td>Transcript stable ID                        </td><td>feature_page</td></tr>\n",
       "\t<tr><td>ensembl_transcript_id_version  </td><td>Transcript stable ID version                </td><td>feature_page</td></tr>\n",
       "\t<tr><td>ensembl_peptide_id             </td><td>Protein stable ID                           </td><td>feature_page</td></tr>\n",
       "\t<tr><td>ensembl_peptide_id_version     </td><td>Protein stable ID version                   </td><td>feature_page</td></tr>\n",
       "\t<tr><td>ensembl_exon_id                </td><td>Exon stable ID                              </td><td>feature_page</td></tr>\n",
       "\t<tr><td>description                    </td><td>Gene description                            </td><td>feature_page</td></tr>\n",
       "\t<tr><td>chromosome_name                </td><td>Chromosome/scaffold name                    </td><td>feature_page</td></tr>\n",
       "\t<tr><td>start_position                 </td><td>Gene start (bp)                             </td><td>feature_page</td></tr>\n",
       "\t<tr><td>end_position                   </td><td>Gene end (bp)                               </td><td>feature_page</td></tr>\n",
       "\t<tr><td>strand                         </td><td>Strand                                      </td><td>feature_page</td></tr>\n",
       "\t<tr><td>band                           </td><td>Karyotype band                              </td><td>feature_page</td></tr>\n",
       "\t<tr><td>transcript_start               </td><td>Transcript start (bp)                       </td><td>feature_page</td></tr>\n",
       "\t<tr><td>transcript_end                 </td><td>Transcript end (bp)                         </td><td>feature_page</td></tr>\n",
       "\t<tr><td>transcription_start_site       </td><td>Transcription start site (TSS)              </td><td>feature_page</td></tr>\n",
       "\t<tr><td>transcript_length              </td><td>Transcript length (including UTRs and CDS)  </td><td>feature_page</td></tr>\n",
       "\t<tr><td>transcript_tsl                 </td><td>Transcript support level (TSL)              </td><td>feature_page</td></tr>\n",
       "\t<tr><td>transcript_gencode_basic       </td><td>GENCODE basic annotation                    </td><td>feature_page</td></tr>\n",
       "\t<tr><td>transcript_appris              </td><td>APPRIS annotation                           </td><td>feature_page</td></tr>\n",
       "\t<tr><td>transcript_is_canonical        </td><td>Ensembl Canonical                           </td><td>feature_page</td></tr>\n",
       "\t<tr><td>transcript_mane_select         </td><td>RefSeq match transcript (MANE Select)       </td><td>feature_page</td></tr>\n",
       "\t<tr><td>transcript_mane_plus_clinical  </td><td>RefSeq match transcript (MANE Plus Clinical)</td><td>feature_page</td></tr>\n",
       "\t<tr><td>external_gene_name             </td><td>Gene name                                   </td><td>feature_page</td></tr>\n",
       "\t<tr><td>external_gene_source           </td><td>Source of gene name                         </td><td>feature_page</td></tr>\n",
       "\t<tr><td>external_transcript_name       </td><td>Transcript name                             </td><td>feature_page</td></tr>\n",
       "\t<tr><td>external_transcript_source_name</td><td>Source of transcript name                   </td><td>feature_page</td></tr>\n",
       "\t<tr><td>percentage_gene_gc_content     </td><td>Gene % GC content                           </td><td>feature_page</td></tr>\n",
       "\t<tr><td>gene_biotype                   </td><td>Gene type                                   </td><td>feature_page</td></tr>\n",
       "\t<tr><td>transcript_biotype             </td><td>Transcript type                             </td><td>feature_page</td></tr>\n",
       "\t<tr><td>⋮</td><td>⋮</td><td>⋮</td></tr>\n",
       "\t<tr><td>5_utr_end                    </td><td>5' UTR end                                </td><td>sequences</td></tr>\n",
       "\t<tr><td>3_utr_start                  </td><td>3' UTR start                              </td><td>sequences</td></tr>\n",
       "\t<tr><td>3_utr_end                    </td><td>3' UTR end                                </td><td>sequences</td></tr>\n",
       "\t<tr><td>ensembl_transcript_id        </td><td>Transcript stable ID                      </td><td>sequences</td></tr>\n",
       "\t<tr><td>ensembl_transcript_id_version</td><td>Transcript stable ID version              </td><td>sequences</td></tr>\n",
       "\t<tr><td>ensembl_peptide_id           </td><td>Protein stable ID                         </td><td>sequences</td></tr>\n",
       "\t<tr><td>ensembl_peptide_id_version   </td><td>Protein stable ID version                 </td><td>sequences</td></tr>\n",
       "\t<tr><td>transcript_biotype           </td><td>Transcript type                           </td><td>sequences</td></tr>\n",
       "\t<tr><td>transcript_version           </td><td>Version (transcript)                      </td><td>sequences</td></tr>\n",
       "\t<tr><td>peptide_version              </td><td>Version (protein)                         </td><td>sequences</td></tr>\n",
       "\t<tr><td>strand                       </td><td>Strand                                    </td><td>sequences</td></tr>\n",
       "\t<tr><td>transcript_start             </td><td>Transcript start (bp)                     </td><td>sequences</td></tr>\n",
       "\t<tr><td>transcript_end               </td><td>Transcript end (bp)                       </td><td>sequences</td></tr>\n",
       "\t<tr><td>transcription_start_site     </td><td>Transcription start site (TSS)            </td><td>sequences</td></tr>\n",
       "\t<tr><td>transcript_length            </td><td>Transcript length (including UTRs and CDS)</td><td>sequences</td></tr>\n",
       "\t<tr><td>cds_length                   </td><td>CDS Length                                </td><td>sequences</td></tr>\n",
       "\t<tr><td>cds_start                    </td><td>CDS start                                 </td><td>sequences</td></tr>\n",
       "\t<tr><td>cds_end                      </td><td>CDS end                                   </td><td>sequences</td></tr>\n",
       "\t<tr><td>ensembl_exon_id              </td><td>Exon stable ID                            </td><td>sequences</td></tr>\n",
       "\t<tr><td>exon_chrom_start             </td><td>Exon region start (bp)                    </td><td>sequences</td></tr>\n",
       "\t<tr><td>exon_chrom_end               </td><td>Exon region end (bp)                      </td><td>sequences</td></tr>\n",
       "\t<tr><td>strand                       </td><td>Strand                                    </td><td>sequences</td></tr>\n",
       "\t<tr><td>rank                         </td><td>Exon rank in transcript                   </td><td>sequences</td></tr>\n",
       "\t<tr><td>phase                        </td><td>Start phase                               </td><td>sequences</td></tr>\n",
       "\t<tr><td>end_phase                    </td><td>End phase                                 </td><td>sequences</td></tr>\n",
       "\t<tr><td>cdna_coding_start            </td><td>cDNA coding start                         </td><td>sequences</td></tr>\n",
       "\t<tr><td>cdna_coding_end              </td><td>cDNA coding end                           </td><td>sequences</td></tr>\n",
       "\t<tr><td>genomic_coding_start         </td><td>Genomic coding start                      </td><td>sequences</td></tr>\n",
       "\t<tr><td>genomic_coding_end           </td><td>Genomic coding end                        </td><td>sequences</td></tr>\n",
       "\t<tr><td>is_constitutive              </td><td>Constitutive exon                         </td><td>sequences</td></tr>\n",
       "</tbody>\n",
       "</table>\n"
      ],
      "text/latex": [
       "A data.frame: 3157 × 3\n",
       "\\begin{tabular}{lll}\n",
       " name & description & page\\\\\n",
       " <chr> & <chr> & <chr>\\\\\n",
       "\\hline\n",
       "\t ensembl\\_gene\\_id                 & Gene stable ID                               & feature\\_page\\\\\n",
       "\t ensembl\\_gene\\_id\\_version         & Gene stable ID version                       & feature\\_page\\\\\n",
       "\t ensembl\\_transcript\\_id           & Transcript stable ID                         & feature\\_page\\\\\n",
       "\t ensembl\\_transcript\\_id\\_version   & Transcript stable ID version                 & feature\\_page\\\\\n",
       "\t ensembl\\_peptide\\_id              & Protein stable ID                            & feature\\_page\\\\\n",
       "\t ensembl\\_peptide\\_id\\_version      & Protein stable ID version                    & feature\\_page\\\\\n",
       "\t ensembl\\_exon\\_id                 & Exon stable ID                               & feature\\_page\\\\\n",
       "\t description                     & Gene description                             & feature\\_page\\\\\n",
       "\t chromosome\\_name                 & Chromosome/scaffold name                     & feature\\_page\\\\\n",
       "\t start\\_position                  & Gene start (bp)                              & feature\\_page\\\\\n",
       "\t end\\_position                    & Gene end (bp)                                & feature\\_page\\\\\n",
       "\t strand                          & Strand                                       & feature\\_page\\\\\n",
       "\t band                            & Karyotype band                               & feature\\_page\\\\\n",
       "\t transcript\\_start                & Transcript start (bp)                        & feature\\_page\\\\\n",
       "\t transcript\\_end                  & Transcript end (bp)                          & feature\\_page\\\\\n",
       "\t transcription\\_start\\_site        & Transcription start site (TSS)               & feature\\_page\\\\\n",
       "\t transcript\\_length               & Transcript length (including UTRs and CDS)   & feature\\_page\\\\\n",
       "\t transcript\\_tsl                  & Transcript support level (TSL)               & feature\\_page\\\\\n",
       "\t transcript\\_gencode\\_basic        & GENCODE basic annotation                     & feature\\_page\\\\\n",
       "\t transcript\\_appris               & APPRIS annotation                            & feature\\_page\\\\\n",
       "\t transcript\\_is\\_canonical         & Ensembl Canonical                            & feature\\_page\\\\\n",
       "\t transcript\\_mane\\_select          & RefSeq match transcript (MANE Select)        & feature\\_page\\\\\n",
       "\t transcript\\_mane\\_plus\\_clinical   & RefSeq match transcript (MANE Plus Clinical) & feature\\_page\\\\\n",
       "\t external\\_gene\\_name              & Gene name                                    & feature\\_page\\\\\n",
       "\t external\\_gene\\_source            & Source of gene name                          & feature\\_page\\\\\n",
       "\t external\\_transcript\\_name        & Transcript name                              & feature\\_page\\\\\n",
       "\t external\\_transcript\\_source\\_name & Source of transcript name                    & feature\\_page\\\\\n",
       "\t percentage\\_gene\\_gc\\_content      & Gene \\% GC content                            & feature\\_page\\\\\n",
       "\t gene\\_biotype                    & Gene type                                    & feature\\_page\\\\\n",
       "\t transcript\\_biotype              & Transcript type                              & feature\\_page\\\\\n",
       "\t ⋮ & ⋮ & ⋮\\\\\n",
       "\t 5\\_utr\\_end                     & 5' UTR end                                 & sequences\\\\\n",
       "\t 3\\_utr\\_start                   & 3' UTR start                               & sequences\\\\\n",
       "\t 3\\_utr\\_end                     & 3' UTR end                                 & sequences\\\\\n",
       "\t ensembl\\_transcript\\_id         & Transcript stable ID                       & sequences\\\\\n",
       "\t ensembl\\_transcript\\_id\\_version & Transcript stable ID version               & sequences\\\\\n",
       "\t ensembl\\_peptide\\_id            & Protein stable ID                          & sequences\\\\\n",
       "\t ensembl\\_peptide\\_id\\_version    & Protein stable ID version                  & sequences\\\\\n",
       "\t transcript\\_biotype            & Transcript type                            & sequences\\\\\n",
       "\t transcript\\_version            & Version (transcript)                       & sequences\\\\\n",
       "\t peptide\\_version               & Version (protein)                          & sequences\\\\\n",
       "\t strand                        & Strand                                     & sequences\\\\\n",
       "\t transcript\\_start              & Transcript start (bp)                      & sequences\\\\\n",
       "\t transcript\\_end                & Transcript end (bp)                        & sequences\\\\\n",
       "\t transcription\\_start\\_site      & Transcription start site (TSS)             & sequences\\\\\n",
       "\t transcript\\_length             & Transcript length (including UTRs and CDS) & sequences\\\\\n",
       "\t cds\\_length                    & CDS Length                                 & sequences\\\\\n",
       "\t cds\\_start                     & CDS start                                  & sequences\\\\\n",
       "\t cds\\_end                       & CDS end                                    & sequences\\\\\n",
       "\t ensembl\\_exon\\_id               & Exon stable ID                             & sequences\\\\\n",
       "\t exon\\_chrom\\_start              & Exon region start (bp)                     & sequences\\\\\n",
       "\t exon\\_chrom\\_end                & Exon region end (bp)                       & sequences\\\\\n",
       "\t strand                        & Strand                                     & sequences\\\\\n",
       "\t rank                          & Exon rank in transcript                    & sequences\\\\\n",
       "\t phase                         & Start phase                                & sequences\\\\\n",
       "\t end\\_phase                     & End phase                                  & sequences\\\\\n",
       "\t cdna\\_coding\\_start             & cDNA coding start                          & sequences\\\\\n",
       "\t cdna\\_coding\\_end               & cDNA coding end                            & sequences\\\\\n",
       "\t genomic\\_coding\\_start          & Genomic coding start                       & sequences\\\\\n",
       "\t genomic\\_coding\\_end            & Genomic coding end                         & sequences\\\\\n",
       "\t is\\_constitutive               & Constitutive exon                          & sequences\\\\\n",
       "\\end{tabular}\n"
      ],
      "text/markdown": [
       "\n",
       "A data.frame: 3157 × 3\n",
       "\n",
       "| name &lt;chr&gt; | description &lt;chr&gt; | page &lt;chr&gt; |\n",
       "|---|---|---|\n",
       "| ensembl_gene_id                 | Gene stable ID                               | feature_page |\n",
       "| ensembl_gene_id_version         | Gene stable ID version                       | feature_page |\n",
       "| ensembl_transcript_id           | Transcript stable ID                         | feature_page |\n",
       "| ensembl_transcript_id_version   | Transcript stable ID version                 | feature_page |\n",
       "| ensembl_peptide_id              | Protein stable ID                            | feature_page |\n",
       "| ensembl_peptide_id_version      | Protein stable ID version                    | feature_page |\n",
       "| ensembl_exon_id                 | Exon stable ID                               | feature_page |\n",
       "| description                     | Gene description                             | feature_page |\n",
       "| chromosome_name                 | Chromosome/scaffold name                     | feature_page |\n",
       "| start_position                  | Gene start (bp)                              | feature_page |\n",
       "| end_position                    | Gene end (bp)                                | feature_page |\n",
       "| strand                          | Strand                                       | feature_page |\n",
       "| band                            | Karyotype band                               | feature_page |\n",
       "| transcript_start                | Transcript start (bp)                        | feature_page |\n",
       "| transcript_end                  | Transcript end (bp)                          | feature_page |\n",
       "| transcription_start_site        | Transcription start site (TSS)               | feature_page |\n",
       "| transcript_length               | Transcript length (including UTRs and CDS)   | feature_page |\n",
       "| transcript_tsl                  | Transcript support level (TSL)               | feature_page |\n",
       "| transcript_gencode_basic        | GENCODE basic annotation                     | feature_page |\n",
       "| transcript_appris               | APPRIS annotation                            | feature_page |\n",
       "| transcript_is_canonical         | Ensembl Canonical                            | feature_page |\n",
       "| transcript_mane_select          | RefSeq match transcript (MANE Select)        | feature_page |\n",
       "| transcript_mane_plus_clinical   | RefSeq match transcript (MANE Plus Clinical) | feature_page |\n",
       "| external_gene_name              | Gene name                                    | feature_page |\n",
       "| external_gene_source            | Source of gene name                          | feature_page |\n",
       "| external_transcript_name        | Transcript name                              | feature_page |\n",
       "| external_transcript_source_name | Source of transcript name                    | feature_page |\n",
       "| percentage_gene_gc_content      | Gene % GC content                            | feature_page |\n",
       "| gene_biotype                    | Gene type                                    | feature_page |\n",
       "| transcript_biotype              | Transcript type                              | feature_page |\n",
       "| ⋮ | ⋮ | ⋮ |\n",
       "| 5_utr_end                     | 5' UTR end                                 | sequences |\n",
       "| 3_utr_start                   | 3' UTR start                               | sequences |\n",
       "| 3_utr_end                     | 3' UTR end                                 | sequences |\n",
       "| ensembl_transcript_id         | Transcript stable ID                       | sequences |\n",
       "| ensembl_transcript_id_version | Transcript stable ID version               | sequences |\n",
       "| ensembl_peptide_id            | Protein stable ID                          | sequences |\n",
       "| ensembl_peptide_id_version    | Protein stable ID version                  | sequences |\n",
       "| transcript_biotype            | Transcript type                            | sequences |\n",
       "| transcript_version            | Version (transcript)                       | sequences |\n",
       "| peptide_version               | Version (protein)                          | sequences |\n",
       "| strand                        | Strand                                     | sequences |\n",
       "| transcript_start              | Transcript start (bp)                      | sequences |\n",
       "| transcript_end                | Transcript end (bp)                        | sequences |\n",
       "| transcription_start_site      | Transcription start site (TSS)             | sequences |\n",
       "| transcript_length             | Transcript length (including UTRs and CDS) | sequences |\n",
       "| cds_length                    | CDS Length                                 | sequences |\n",
       "| cds_start                     | CDS start                                  | sequences |\n",
       "| cds_end                       | CDS end                                    | sequences |\n",
       "| ensembl_exon_id               | Exon stable ID                             | sequences |\n",
       "| exon_chrom_start              | Exon region start (bp)                     | sequences |\n",
       "| exon_chrom_end                | Exon region end (bp)                       | sequences |\n",
       "| strand                        | Strand                                     | sequences |\n",
       "| rank                          | Exon rank in transcript                    | sequences |\n",
       "| phase                         | Start phase                                | sequences |\n",
       "| end_phase                     | End phase                                  | sequences |\n",
       "| cdna_coding_start             | cDNA coding start                          | sequences |\n",
       "| cdna_coding_end               | cDNA coding end                            | sequences |\n",
       "| genomic_coding_start          | Genomic coding start                       | sequences |\n",
       "| genomic_coding_end            | Genomic coding end                         | sequences |\n",
       "| is_constitutive               | Constitutive exon                          | sequences |\n",
       "\n"
      ],
      "text/plain": [
       "     name                           \n",
       "1    ensembl_gene_id                \n",
       "2    ensembl_gene_id_version        \n",
       "3    ensembl_transcript_id          \n",
       "4    ensembl_transcript_id_version  \n",
       "5    ensembl_peptide_id             \n",
       "6    ensembl_peptide_id_version     \n",
       "7    ensembl_exon_id                \n",
       "8    description                    \n",
       "9    chromosome_name                \n",
       "10   start_position                 \n",
       "11   end_position                   \n",
       "12   strand                         \n",
       "13   band                           \n",
       "14   transcript_start               \n",
       "15   transcript_end                 \n",
       "16   transcription_start_site       \n",
       "17   transcript_length              \n",
       "18   transcript_tsl                 \n",
       "19   transcript_gencode_basic       \n",
       "20   transcript_appris              \n",
       "21   transcript_is_canonical        \n",
       "22   transcript_mane_select         \n",
       "23   transcript_mane_plus_clinical  \n",
       "24   external_gene_name             \n",
       "25   external_gene_source           \n",
       "26   external_transcript_name       \n",
       "27   external_transcript_source_name\n",
       "28   percentage_gene_gc_content     \n",
       "29   gene_biotype                   \n",
       "30   transcript_biotype             \n",
       "⋮    ⋮                              \n",
       "3128 5_utr_end                      \n",
       "3129 3_utr_start                    \n",
       "3130 3_utr_end                      \n",
       "3131 ensembl_transcript_id          \n",
       "3132 ensembl_transcript_id_version  \n",
       "3133 ensembl_peptide_id             \n",
       "3134 ensembl_peptide_id_version     \n",
       "3135 transcript_biotype             \n",
       "3136 transcript_version             \n",
       "3137 peptide_version                \n",
       "3138 strand                         \n",
       "3139 transcript_start               \n",
       "3140 transcript_end                 \n",
       "3141 transcription_start_site       \n",
       "3142 transcript_length              \n",
       "3143 cds_length                     \n",
       "3144 cds_start                      \n",
       "3145 cds_end                        \n",
       "3146 ensembl_exon_id                \n",
       "3147 exon_chrom_start               \n",
       "3148 exon_chrom_end                 \n",
       "3149 strand                         \n",
       "3150 rank                           \n",
       "3151 phase                          \n",
       "3152 end_phase                      \n",
       "3153 cdna_coding_start              \n",
       "3154 cdna_coding_end                \n",
       "3155 genomic_coding_start           \n",
       "3156 genomic_coding_end             \n",
       "3157 is_constitutive                \n",
       "     description                                  page        \n",
       "1    Gene stable ID                               feature_page\n",
       "2    Gene stable ID version                       feature_page\n",
       "3    Transcript stable ID                         feature_page\n",
       "4    Transcript stable ID version                 feature_page\n",
       "5    Protein stable ID                            feature_page\n",
       "6    Protein stable ID version                    feature_page\n",
       "7    Exon stable ID                               feature_page\n",
       "8    Gene description                             feature_page\n",
       "9    Chromosome/scaffold name                     feature_page\n",
       "10   Gene start (bp)                              feature_page\n",
       "11   Gene end (bp)                                feature_page\n",
       "12   Strand                                       feature_page\n",
       "13   Karyotype band                               feature_page\n",
       "14   Transcript start (bp)                        feature_page\n",
       "15   Transcript end (bp)                          feature_page\n",
       "16   Transcription start site (TSS)               feature_page\n",
       "17   Transcript length (including UTRs and CDS)   feature_page\n",
       "18   Transcript support level (TSL)               feature_page\n",
       "19   GENCODE basic annotation                     feature_page\n",
       "20   APPRIS annotation                            feature_page\n",
       "21   Ensembl Canonical                            feature_page\n",
       "22   RefSeq match transcript (MANE Select)        feature_page\n",
       "23   RefSeq match transcript (MANE Plus Clinical) feature_page\n",
       "24   Gene name                                    feature_page\n",
       "25   Source of gene name                          feature_page\n",
       "26   Transcript name                              feature_page\n",
       "27   Source of transcript name                    feature_page\n",
       "28   Gene % GC content                            feature_page\n",
       "29   Gene type                                    feature_page\n",
       "30   Transcript type                              feature_page\n",
       "⋮    ⋮                                            ⋮           \n",
       "3128 5' UTR end                                   sequences   \n",
       "3129 3' UTR start                                 sequences   \n",
       "3130 3' UTR end                                   sequences   \n",
       "3131 Transcript stable ID                         sequences   \n",
       "3132 Transcript stable ID version                 sequences   \n",
       "3133 Protein stable ID                            sequences   \n",
       "3134 Protein stable ID version                    sequences   \n",
       "3135 Transcript type                              sequences   \n",
       "3136 Version (transcript)                         sequences   \n",
       "3137 Version (protein)                            sequences   \n",
       "3138 Strand                                       sequences   \n",
       "3139 Transcript start (bp)                        sequences   \n",
       "3140 Transcript end (bp)                          sequences   \n",
       "3141 Transcription start site (TSS)               sequences   \n",
       "3142 Transcript length (including UTRs and CDS)   sequences   \n",
       "3143 CDS Length                                   sequences   \n",
       "3144 CDS start                                    sequences   \n",
       "3145 CDS end                                      sequences   \n",
       "3146 Exon stable ID                               sequences   \n",
       "3147 Exon region start (bp)                       sequences   \n",
       "3148 Exon region end (bp)                         sequences   \n",
       "3149 Strand                                       sequences   \n",
       "3150 Exon rank in transcript                      sequences   \n",
       "3151 Start phase                                  sequences   \n",
       "3152 End phase                                    sequences   \n",
       "3153 cDNA coding start                            sequences   \n",
       "3154 cDNA coding end                              sequences   \n",
       "3155 Genomic coding start                         sequences   \n",
       "3156 Genomic coding end                           sequences   \n",
       "3157 Constitutive exon                            sequences   "
      ]
     },
     "metadata": {},
     "output_type": "display_data"
    }
   ],
   "source": [
    "listAttributes(ensembl)"
   ]
  }
 ],
 "metadata": {
  "kernelspec": {
   "display_name": "R",
   "language": "R",
   "name": "ir"
  },
  "language_info": {
   "codemirror_mode": "r",
   "file_extension": ".r",
   "mimetype": "text/x-r-source",
   "name": "R",
   "pygments_lexer": "r",
   "version": "4.3.1"
  },
  "orig_nbformat": 4
 },
 "nbformat": 4,
 "nbformat_minor": 2
}
