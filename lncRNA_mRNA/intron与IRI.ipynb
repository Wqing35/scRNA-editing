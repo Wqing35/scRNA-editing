{
 "cells": [
  {
   "cell_type": "markdown",
   "metadata": {},
   "source": [
    "##########计算mRNA/lncRNA-intron编辑水平和IRI的相关性\n",
    "\n",
    "#step1: 根据IRI结果csv整理intron区间\n",
    "samples=(GW08 GW12 GW16_1_3 GW16_1_4 GW16_1_9 GW19_1_1 GW19_1_2 GW19_1_3 GW23_1_1 GW23_1_2 GW23_1_3 GW26_1_1)\n",
    "for one in ${samples[@]};\n",
    "do\n",
    "    cd /disk1/wenqing/intron_retention_analysis_senescence-master/\"$one\"/GABAergic_neurons\n",
    "    cat result_1_1.csv|awk -F ',' '{print $4}' |sed 's/[:-]/\\t/g'|awk '{if($1!=\"position\") print $1\"\\t\"$2\"\\t\"$3}' > intron_region.bed\n",
    "    paste \"intron_region.bed\" <(awk -F ',' '{if($20!=\"iri\") print $20}' result_1_1.csv) > intron_region_wzIRI.bed\n",
    "    bedtools sort -faidx ~/tmp_data/names.txt -i intron_region_wzIRI.bed > intron_region_wzIRI.srt.bed\n",
    "done\n",
    "\n",
    "#step2:合并所有样本的intron bed，同一个intron region的iri取均值\n"
   ]
  },
  {
   "cell_type": "code",
   "execution_count": 2,
   "metadata": {
    "vscode": {
     "languageId": "r"
    }
   },
   "outputs": [],
   "source": [
    "###\n",
    "iri_dat_08 <- read.table(\"/disk1/wenqing/intron_retention_analysis_senescence-master/GW08/GABAergic_neurons/intron_region_wzIRI.srt.bed\")\n",
    "iri_dat_12 <- read.table(\"/disk1/wenqing/intron_retention_analysis_senescence-master/GW12/GABAergic_neurons/intron_region_wzIRI.srt.bed\")\n",
    "iri_dat_16_3 <- read.table(\"/disk1/wenqing/intron_retention_analysis_senescence-master/GW16_1_3/GABAergic_neurons/intron_region_wzIRI.srt.bed\")\n",
    "iri_dat_16_4 <- read.table(\"/disk1/wenqing/intron_retention_analysis_senescence-master/GW16_1_4/GABAergic_neurons/intron_region_wzIRI.srt.bed\")\n",
    "iri_dat_16_9 <- read.table(\"/disk1/wenqing/intron_retention_analysis_senescence-master/GW16_1_9/GABAergic_neurons/intron_region_wzIRI.srt.bed\")\n",
    "iri_dat_19_1 <- read.table(\"/disk1/wenqing/intron_retention_analysis_senescence-master/GW19_1_1/GABAergic_neurons/intron_region_wzIRI.srt.bed\")\n",
    "iri_dat_19_2 <- read.table(\"/disk1/wenqing/intron_retention_analysis_senescence-master/GW19_1_2/GABAergic_neurons/intron_region_wzIRI.srt.bed\")\n",
    "iri_dat_19_3 <- read.table(\"/disk1/wenqing/intron_retention_analysis_senescence-master/GW19_1_3/GABAergic_neurons/intron_region_wzIRI.srt.bed\")\n",
    "iri_dat_23_1 <- read.table(\"/disk1/wenqing/intron_retention_analysis_senescence-master/GW23_1_1/GABAergic_neurons/intron_region_wzIRI.srt.bed\")\n",
    "iri_dat_23_2 <- read.table(\"/disk1/wenqing/intron_retention_analysis_senescence-master/GW23_1_2/GABAergic_neurons/intron_region_wzIRI.srt.bed\")\n",
    "iri_dat_23_3 <- read.table(\"/disk1/wenqing/intron_retention_analysis_senescence-master/GW23_1_3/GABAergic_neurons/intron_region_wzIRI.srt.bed\")\n",
    "iri_dat_26_1 <- read.table(\"/disk1/wenqing/intron_retention_analysis_senescence-master/GW26_1_1/GABAergic_neurons/intron_region_wzIRI.srt.bed\")\n"
   ]
  },
  {
   "cell_type": "code",
   "execution_count": 30,
   "metadata": {
    "vscode": {
     "languageId": "r"
    }
   },
   "outputs": [],
   "source": [
    "iri_dat_08$V5 <- paste0(iri_dat_08$V1,\"_\",iri_dat_08$V2,\"_\",iri_dat_08$V3)\n",
    "iri_dat_12$V5 <- paste0(iri_dat_12$V1,\"_\",iri_dat_12$V2,\"_\",iri_dat_12$V3)\n",
    "iri_dat_16_3$V5 <- paste0(iri_dat_16_3$V1,\"_\",iri_dat_16_3$V2,\"_\",iri_dat_16_3$V3)\n",
    "iri_dat_16_4$V5 <- paste0(iri_dat_16_4$V1,\"_\",iri_dat_16_4$V2,\"_\",iri_dat_16_4$V3)\n",
    "iri_dat_16_9$V5 <- paste0(iri_dat_16_9$V1,\"_\",iri_dat_16_9$V2,\"_\",iri_dat_16_9$V3)\n",
    "iri_dat_19_1$V5 <- paste0(iri_dat_19_1$V1,\"_\",iri_dat_19_1$V2,\"_\",iri_dat_19_1$V3)\n",
    "iri_dat_19_2$V5 <- paste0(iri_dat_19_2$V1,\"_\",iri_dat_19_2$V2,\"_\",iri_dat_19_2$V3)\n",
    "iri_dat_19_3$V5 <- paste0(iri_dat_19_3$V1,\"_\",iri_dat_19_3$V2,\"_\",iri_dat_19_3$V3)\n",
    "iri_dat_23_1$V5 <- paste0(iri_dat_23_1$V1,\"_\",iri_dat_23_1$V2,\"_\",iri_dat_23_1$V3)\n",
    "iri_dat_23_2$V5 <- paste0(iri_dat_23_2$V1,\"_\",iri_dat_23_2$V2,\"_\",iri_dat_23_2$V3)\n",
    "iri_dat_23_3$V5 <- paste0(iri_dat_23_3$V1,\"_\",iri_dat_23_3$V2,\"_\",iri_dat_23_3$V3)\n",
    "iri_dat_26_1$V5 <- paste0(iri_dat_26_1$V1,\"_\",iri_dat_26_1$V2,\"_\",iri_dat_26_1$V3)\n"
   ]
  },
  {
   "cell_type": "code",
   "execution_count": 31,
   "metadata": {
    "vscode": {
     "languageId": "r"
    }
   },
   "outputs": [],
   "source": [
    "union_intron <- union(iri_dat_08$V5,iri_dat_12$V5)\n",
    "union_intron <- union(union_intron,iri_dat_16_3$V5)\n",
    "union_intron <- union(union_intron,iri_dat_16_4$V5)\n",
    "union_intron <- union(union_intron,iri_dat_16_9$V5)\n",
    "union_intron <- union(union_intron,iri_dat_19_1$V5)\n",
    "union_intron <- union(union_intron,iri_dat_19_2$V5)\n",
    "union_intron <- union(union_intron,iri_dat_19_3$V5)\n",
    "union_intron <- union(union_intron,iri_dat_23_1$V5)\n",
    "union_intron <- union(union_intron,iri_dat_23_2$V5)\n",
    "union_intron <- union(union_intron,iri_dat_23_3$V5)\n",
    "union_intron <- union(union_intron,iri_dat_26_1$V5)"
   ]
  },
  {
   "cell_type": "code",
   "execution_count": 18,
   "metadata": {
    "vscode": {
     "languageId": "r"
    }
   },
   "outputs": [],
   "source": [
    "merge_intron_IRI <- function(x){\n",
    "    all_IRIs <- c(iri_dat_08$V4[which(iri_dat_08$V5==x)],iri_dat_12$V4[which(iri_dat_12$V5==x)],iri_dat_16_3$V4[which(iri_dat_16_3$V5==x)],\n",
    "                    iri_dat_16_4$V4[which(iri_dat_16_4$V5==x)],iri_dat_16_9$V4[which(iri_dat_16_9$V5==x)],iri_dat_19_1$V4[which(iri_dat_19_1$V5==x)],\n",
    "                    iri_dat_19_2$V4[which(iri_dat_19_2$V5==x)],iri_dat_19_3$V4[which(iri_dat_19_3$V5==x)],iri_dat_23_1$V4[which(iri_dat_23_1$V5==x)],\n",
    "                    iri_dat_23_2$V4[which(iri_dat_23_2$V5==x)],iri_dat_23_3$V4[which(iri_dat_23_3$V5==x)],iri_dat_26_1$V4[which(iri_dat_26_1$V5==x)])\n",
    "    all_worked_IRIs <- mean(all_IRIs[which(all_IRIs!=Inf)])\n",
    "    return(all_worked_IRIs)\n",
    "}"
   ]
  },
  {
   "cell_type": "code",
   "execution_count": 32,
   "metadata": {
    "vscode": {
     "languageId": "r"
    }
   },
   "outputs": [],
   "source": [
    "IRI_for_each_intron_all_samples <- apply(as.matrix(union_intron),1,merge_intron_IRI)"
   ]
  },
  {
   "cell_type": "code",
   "execution_count": 33,
   "metadata": {
    "vscode": {
     "languageId": "r"
    }
   },
   "outputs": [
    {
     "data": {
      "text/html": [
       "<style>\n",
       ".list-inline {list-style: none; margin:0; padding: 0}\n",
       ".list-inline>li {display: inline-block}\n",
       ".list-inline>li:not(:last-child)::after {content: \"\\00b7\"; padding: 0 .5ex}\n",
       "</style>\n",
       "<ol class=list-inline><li>26219</li><li>2</li></ol>\n"
      ],
      "text/latex": [
       "\\begin{enumerate*}\n",
       "\\item 26219\n",
       "\\item 2\n",
       "\\end{enumerate*}\n"
      ],
      "text/markdown": [
       "1. 26219\n",
       "2. 2\n",
       "\n",
       "\n"
      ],
      "text/plain": [
       "[1] 26219     2"
      ]
     },
     "metadata": {},
     "output_type": "display_data"
    },
    {
     "data": {
      "text/html": [
       "<table class=\"dataframe\">\n",
       "<caption>A data.frame: 6 × 2</caption>\n",
       "<thead>\n",
       "\t<tr><th></th><th scope=col>union_intron</th><th scope=col>IRI_for_each_intron_all_samples</th></tr>\n",
       "\t<tr><th></th><th scope=col>&lt;chr&gt;</th><th scope=col>&lt;chr&gt;</th></tr>\n",
       "</thead>\n",
       "<tbody>\n",
       "\t<tr><th scope=row>3</th><td>chr1_778984_783033  </td><td>25.434459698986    </td></tr>\n",
       "\t<tr><th scope=row>5</th><td>chr1_880180_880436  </td><td>0.0695281471404349 </td></tr>\n",
       "\t<tr><th scope=row>7</th><td>chr1_1480382_1500152</td><td>1.85173862019077   </td></tr>\n",
       "\t<tr><th scope=row>11</th><td>chr1_6215777_6219395</td><td>0.00382701875240562</td></tr>\n",
       "\t<tr><th scope=row>14</th><td>chr1_7815728_7826518</td><td>1.97013878234965   </td></tr>\n",
       "\t<tr><th scope=row>15</th><td>chr1_8716500_8852462</td><td>0.191864332604184  </td></tr>\n",
       "</tbody>\n",
       "</table>\n"
      ],
      "text/latex": [
       "A data.frame: 6 × 2\n",
       "\\begin{tabular}{r|ll}\n",
       "  & union\\_intron & IRI\\_for\\_each\\_intron\\_all\\_samples\\\\\n",
       "  & <chr> & <chr>\\\\\n",
       "\\hline\n",
       "\t3 & chr1\\_778984\\_783033   & 25.434459698986    \\\\\n",
       "\t5 & chr1\\_880180\\_880436   & 0.0695281471404349 \\\\\n",
       "\t7 & chr1\\_1480382\\_1500152 & 1.85173862019077   \\\\\n",
       "\t11 & chr1\\_6215777\\_6219395 & 0.00382701875240562\\\\\n",
       "\t14 & chr1\\_7815728\\_7826518 & 1.97013878234965   \\\\\n",
       "\t15 & chr1\\_8716500\\_8852462 & 0.191864332604184  \\\\\n",
       "\\end{tabular}\n"
      ],
      "text/markdown": [
       "\n",
       "A data.frame: 6 × 2\n",
       "\n",
       "| <!--/--> | union_intron &lt;chr&gt; | IRI_for_each_intron_all_samples &lt;chr&gt; |\n",
       "|---|---|---|\n",
       "| 3 | chr1_778984_783033   | 25.434459698986     |\n",
       "| 5 | chr1_880180_880436   | 0.0695281471404349  |\n",
       "| 7 | chr1_1480382_1500152 | 1.85173862019077    |\n",
       "| 11 | chr1_6215777_6219395 | 0.00382701875240562 |\n",
       "| 14 | chr1_7815728_7826518 | 1.97013878234965    |\n",
       "| 15 | chr1_8716500_8852462 | 0.191864332604184   |\n",
       "\n"
      ],
      "text/plain": [
       "   union_intron         IRI_for_each_intron_all_samples\n",
       "3  chr1_778984_783033   25.434459698986                \n",
       "5  chr1_880180_880436   0.0695281471404349             \n",
       "7  chr1_1480382_1500152 1.85173862019077               \n",
       "11 chr1_6215777_6219395 0.00382701875240562            \n",
       "14 chr1_7815728_7826518 1.97013878234965               \n",
       "15 chr1_8716500_8852462 0.191864332604184              "
      ]
     },
     "metadata": {},
     "output_type": "display_data"
    }
   ],
   "source": [
    "###\n",
    "intron_region_wzAverIRI <- as.data.frame(cbind(union_intron,IRI_for_each_intron_all_samples))\n",
    "intron_region_wzAverIRI_noNA <- intron_region_wzAverIRI[!is.na(IRI_for_each_intron_all_samples),]\n",
    "dim(intron_region_wzAverIRI_noNA)\n",
    "head(intron_region_wzAverIRI_noNA)\n",
    "write.table(intron_region_wzAverIRI_noNA,\"/disk1/wenqing/intron_retention_analysis_senescence-master/intron_region_wzAverIRI_noNA.txt\",quote=F,col.names=F,row.names=F,sep='\\t')"
   ]
  },
  {
   "cell_type": "markdown",
   "metadata": {
    "vscode": {
     "languageId": "r"
    }
   },
   "source": [
    "sed -i 's/_/\\t/g' intron_region_wzAverIRI_noNA.txt\n",
    "#注意此处使用lncRNA_up.res，因为intron_region_wzAverIRI_noNA.txt已经是intron的区间信息\n",
    "#但两者来源的gtf文件不同，前者来源于FANTOM的lncRNA区间注释，后者来源于refGene.txt，可能会有所影响(后者lncRNA的intron区间注释信息相对较少，会损失部分前者的信息)\n",
    "#注意exon/intron编辑的列数不同\n",
    "bedtools intersect -wo -a /disk1/wenqing/intron_retention_analysis_senescence-master/intron_region_wzAverIRI_noNA.txt -b <(awk '{print $4\"\\t\"$5\"\\t\"$6}' ~/tmp_data/PFC_s2/all_analysis_result/lncRNA_mRNA/3_groups_res/GABA/up/lncRNA_up.res) > ~/tmp_data/PFC_s2/all_analysis_result/lncRNA_mRNA/3_groups_res/GABA/up/lncRNA_up_intron_regionFromIRI.res"
   ]
  },
  {
   "cell_type": "code",
   "execution_count": 21,
   "metadata": {
    "vscode": {
     "languageId": "r"
    }
   },
   "outputs": [
    {
     "data": {
      "text/html": [
       "<table class=\"dataframe\">\n",
       "<caption>A data.frame: 6 × 9</caption>\n",
       "<thead>\n",
       "\t<tr><th></th><th scope=col>V1</th><th scope=col>V2</th><th scope=col>V3</th><th scope=col>V4</th><th scope=col>V5</th><th scope=col>V6</th><th scope=col>V7</th><th scope=col>V8</th><th scope=col>V9</th></tr>\n",
       "\t<tr><th></th><th scope=col>&lt;chr&gt;</th><th scope=col>&lt;int&gt;</th><th scope=col>&lt;int&gt;</th><th scope=col>&lt;dbl&gt;</th><th scope=col>&lt;chr&gt;</th><th scope=col>&lt;int&gt;</th><th scope=col>&lt;int&gt;</th><th scope=col>&lt;int&gt;</th><th scope=col>&lt;chr&gt;</th></tr>\n",
       "</thead>\n",
       "<tbody>\n",
       "\t<tr><th scope=row>1</th><td>chr1</td><td>  8716500</td><td>  8852462</td><td>0.1918643</td><td>chr1</td><td>  8752488</td><td>  8752489</td><td>1</td><td>chr1_8716500_8852462    </td></tr>\n",
       "\t<tr><th scope=row>2</th><td>chr1</td><td>  8716500</td><td>  8852462</td><td>0.1918643</td><td>chr1</td><td>  8752491</td><td>  8752492</td><td>1</td><td>chr1_8716500_8852462    </td></tr>\n",
       "\t<tr><th scope=row>3</th><td>chr1</td><td>  8716500</td><td>  8852462</td><td>0.1918643</td><td>chr1</td><td>  8752565</td><td>  8752566</td><td>1</td><td>chr1_8716500_8852462    </td></tr>\n",
       "\t<tr><th scope=row>4</th><td>chr1</td><td>  8716500</td><td>  8852462</td><td>0.1918643</td><td>chr1</td><td>  8752602</td><td>  8752603</td><td>1</td><td>chr1_8716500_8852462    </td></tr>\n",
       "\t<tr><th scope=row>5</th><td>chr1</td><td> 70226076</td><td> 70257725</td><td>2.5863591</td><td>chr1</td><td> 70237650</td><td> 70237651</td><td>1</td><td>chr1_70226076_70257725  </td></tr>\n",
       "\t<tr><th scope=row>6</th><td>chr1</td><td>207959027</td><td>207963597</td><td>0.7823650</td><td>chr1</td><td>207961611</td><td>207961612</td><td>1</td><td>chr1_207959027_207963597</td></tr>\n",
       "</tbody>\n",
       "</table>\n"
      ],
      "text/latex": [
       "A data.frame: 6 × 9\n",
       "\\begin{tabular}{r|lllllllll}\n",
       "  & V1 & V2 & V3 & V4 & V5 & V6 & V7 & V8 & V9\\\\\n",
       "  & <chr> & <int> & <int> & <dbl> & <chr> & <int> & <int> & <int> & <chr>\\\\\n",
       "\\hline\n",
       "\t1 & chr1 &   8716500 &   8852462 & 0.1918643 & chr1 &   8752488 &   8752489 & 1 & chr1\\_8716500\\_8852462    \\\\\n",
       "\t2 & chr1 &   8716500 &   8852462 & 0.1918643 & chr1 &   8752491 &   8752492 & 1 & chr1\\_8716500\\_8852462    \\\\\n",
       "\t3 & chr1 &   8716500 &   8852462 & 0.1918643 & chr1 &   8752565 &   8752566 & 1 & chr1\\_8716500\\_8852462    \\\\\n",
       "\t4 & chr1 &   8716500 &   8852462 & 0.1918643 & chr1 &   8752602 &   8752603 & 1 & chr1\\_8716500\\_8852462    \\\\\n",
       "\t5 & chr1 &  70226076 &  70257725 & 2.5863591 & chr1 &  70237650 &  70237651 & 1 & chr1\\_70226076\\_70257725  \\\\\n",
       "\t6 & chr1 & 207959027 & 207963597 & 0.7823650 & chr1 & 207961611 & 207961612 & 1 & chr1\\_207959027\\_207963597\\\\\n",
       "\\end{tabular}\n"
      ],
      "text/markdown": [
       "\n",
       "A data.frame: 6 × 9\n",
       "\n",
       "| <!--/--> | V1 &lt;chr&gt; | V2 &lt;int&gt; | V3 &lt;int&gt; | V4 &lt;dbl&gt; | V5 &lt;chr&gt; | V6 &lt;int&gt; | V7 &lt;int&gt; | V8 &lt;int&gt; | V9 &lt;chr&gt; |\n",
       "|---|---|---|---|---|---|---|---|---|---|\n",
       "| 1 | chr1 |   8716500 |   8852462 | 0.1918643 | chr1 |   8752488 |   8752489 | 1 | chr1_8716500_8852462     |\n",
       "| 2 | chr1 |   8716500 |   8852462 | 0.1918643 | chr1 |   8752491 |   8752492 | 1 | chr1_8716500_8852462     |\n",
       "| 3 | chr1 |   8716500 |   8852462 | 0.1918643 | chr1 |   8752565 |   8752566 | 1 | chr1_8716500_8852462     |\n",
       "| 4 | chr1 |   8716500 |   8852462 | 0.1918643 | chr1 |   8752602 |   8752603 | 1 | chr1_8716500_8852462     |\n",
       "| 5 | chr1 |  70226076 |  70257725 | 2.5863591 | chr1 |  70237650 |  70237651 | 1 | chr1_70226076_70257725   |\n",
       "| 6 | chr1 | 207959027 | 207963597 | 0.7823650 | chr1 | 207961611 | 207961612 | 1 | chr1_207959027_207963597 |\n",
       "\n"
      ],
      "text/plain": [
       "  V1   V2        V3        V4        V5   V6        V7        V8\n",
       "1 chr1   8716500   8852462 0.1918643 chr1   8752488   8752489 1 \n",
       "2 chr1   8716500   8852462 0.1918643 chr1   8752491   8752492 1 \n",
       "3 chr1   8716500   8852462 0.1918643 chr1   8752565   8752566 1 \n",
       "4 chr1   8716500   8852462 0.1918643 chr1   8752602   8752603 1 \n",
       "5 chr1  70226076  70257725 2.5863591 chr1  70237650  70237651 1 \n",
       "6 chr1 207959027 207963597 0.7823650 chr1 207961611 207961612 1 \n",
       "  V9                      \n",
       "1 chr1_8716500_8852462    \n",
       "2 chr1_8716500_8852462    \n",
       "3 chr1_8716500_8852462    \n",
       "4 chr1_8716500_8852462    \n",
       "5 chr1_70226076_70257725  \n",
       "6 chr1_207959027_207963597"
      ]
     },
     "metadata": {},
     "output_type": "display_data"
    }
   ],
   "source": [
    "######整理整个发育阶段的regular.res（和all res有交集的）\n",
    "############\n",
    "setwd(\"/disk1/wenqing/tmp_data/PFC_s2/all_analysis_result/lncRNA_mRNA/3_groups_res/GABA/up\")\n",
    "\n",
    "RNA_res <- read.table(\"lncRNA_up_intron_regionFromIRI.res\")\n",
    "RNA_res$V9 <- paste0(RNA_res$V1,\"_\",RNA_res$V2,\"_\",RNA_res$V3)\n",
    "head(RNA_res)"
   ]
  },
  {
   "cell_type": "code",
   "execution_count": 3,
   "metadata": {
    "vscode": {
     "languageId": "r"
    }
   },
   "outputs": [],
   "source": [
    "##将所有样本res的ad相加\n",
    "setwd(\"/disk1/wenqing/tmp_data/PFC_s2/filter_snv_for_new_res\")\n",
    "res_08 <- read.table(\"./GW08/GABAergic_neurons/regular.res.depth.orig\")\n",
    "res_12 <- read.table(\"./GW12/GABAergic_neurons/regular.res.depth.orig\")\n",
    "res_16_1_3 <- read.table(\"./GW16_1_3/GABAergic_neurons/regular.res.depth.orig\")\n",
    "res_16_1_4 <- read.table(\"./GW16_1_4/GABAergic_neurons/regular.res.depth.orig\")\n",
    "res_16_1_9 <- read.table(\"./GW16_1_9/GABAergic_neurons/regular.res.depth.orig\")\n",
    "res_19_1_1 <- read.table(\"./GW19_1_1/GABAergic_neurons/regular.res.depth.orig\")\n",
    "res_19_1_2 <- read.table(\"./GW19_1_2/GABAergic_neurons/regular.res.depth.orig\")\n",
    "res_19_1_3 <- read.table(\"./GW19_1_3/GABAergic_neurons/regular.res.depth.orig\")\n",
    "res_23_1_1 <- read.table(\"./GW23_1_1/GABAergic_neurons/regular.res.depth.orig\")\n",
    "res_23_1_2 <- read.table(\"./GW23_1_2/GABAergic_neurons/regular.res.depth.orig\")\n",
    "res_23_1_3 <- read.table(\"./GW23_1_3/GABAergic_neurons/regular.res.depth.orig\")\n",
    "res_26_1_1 <- read.table(\"./GW26_1_1/GABAergic_neurons/regular.res.depth.orig\")\n"
   ]
  },
  {
   "cell_type": "code",
   "execution_count": 4,
   "metadata": {
    "vscode": {
     "languageId": "r"
    }
   },
   "outputs": [],
   "source": [
    "res_08 <- res_08[which(res_08$V4=='AG'),]\n",
    "res_12 <- res_12[which(res_12$V4=='AG'),]\n",
    "res_16_1_3 <- res_16_1_3[which(res_16_1_3$V4=='AG'),]\n",
    "res_16_1_4 <- res_16_1_4[which(res_16_1_4$V4=='AG'),]\n",
    "res_16_1_9 <- res_16_1_9[which(res_16_1_9$V4=='AG'),]\n",
    "res_19_1_1 <- res_19_1_1[which(res_19_1_1$V4=='AG'),]\n",
    "res_19_1_2 <- res_19_1_2[which(res_19_1_2$V4=='AG'),]\n",
    "res_19_1_3 <- res_19_1_3[which(res_19_1_3$V4=='AG'),]\n",
    "res_23_1_1 <- res_23_1_1[which(res_23_1_1$V4=='AG'),]\n",
    "res_23_1_2 <- res_23_1_2[which(res_23_1_2$V4=='AG'),]\n",
    "res_23_1_3 <- res_23_1_3[which(res_23_1_3$V4=='AG'),]\n",
    "res_26_1_1 <- res_26_1_1[which(res_26_1_1$V4=='AG'),]\n"
   ]
  },
  {
   "cell_type": "code",
   "execution_count": 5,
   "metadata": {
    "vscode": {
     "languageId": "r"
    }
   },
   "outputs": [
    {
     "data": {
      "text/html": [
       "<table class=\"dataframe\">\n",
       "<caption>A data.frame: 6 × 8</caption>\n",
       "<thead>\n",
       "\t<tr><th></th><th scope=col>V1</th><th scope=col>V2</th><th scope=col>V3</th><th scope=col>V4</th><th scope=col>V5</th><th scope=col>V6</th><th scope=col>V7</th><th scope=col>V8</th></tr>\n",
       "\t<tr><th></th><th scope=col>&lt;chr&gt;</th><th scope=col>&lt;int&gt;</th><th scope=col>&lt;int&gt;</th><th scope=col>&lt;chr&gt;</th><th scope=col>&lt;int&gt;</th><th scope=col>&lt;chr&gt;</th><th scope=col>&lt;int&gt;</th><th scope=col>&lt;int&gt;</th></tr>\n",
       "</thead>\n",
       "<tbody>\n",
       "\t<tr><th scope=row>5</th><td>chr1</td><td>11780415</td><td>11780416</td><td>AG</td><td>32</td><td>-</td><td>34</td><td>34</td></tr>\n",
       "\t<tr><th scope=row>6</th><td>chr1</td><td>11780473</td><td>11780474</td><td>AG</td><td>63</td><td>-</td><td>68</td><td>68</td></tr>\n",
       "\t<tr><th scope=row>7</th><td>chr1</td><td>19585568</td><td>19585569</td><td>AG</td><td>20</td><td>-</td><td>21</td><td>38</td></tr>\n",
       "\t<tr><th scope=row>8</th><td>chr1</td><td>19585570</td><td>19585571</td><td>AG</td><td>20</td><td>-</td><td>22</td><td>37</td></tr>\n",
       "\t<tr><th scope=row>9</th><td>chr1</td><td>19585602</td><td>19585603</td><td>AG</td><td>13</td><td>-</td><td>20</td><td>21</td></tr>\n",
       "\t<tr><th scope=row>10</th><td>chr1</td><td>19585605</td><td>19585606</td><td>AG</td><td>15</td><td>-</td><td>20</td><td>20</td></tr>\n",
       "</tbody>\n",
       "</table>\n"
      ],
      "text/latex": [
       "A data.frame: 6 × 8\n",
       "\\begin{tabular}{r|llllllll}\n",
       "  & V1 & V2 & V3 & V4 & V5 & V6 & V7 & V8\\\\\n",
       "  & <chr> & <int> & <int> & <chr> & <int> & <chr> & <int> & <int>\\\\\n",
       "\\hline\n",
       "\t5 & chr1 & 11780415 & 11780416 & AG & 32 & - & 34 & 34\\\\\n",
       "\t6 & chr1 & 11780473 & 11780474 & AG & 63 & - & 68 & 68\\\\\n",
       "\t7 & chr1 & 19585568 & 19585569 & AG & 20 & - & 21 & 38\\\\\n",
       "\t8 & chr1 & 19585570 & 19585571 & AG & 20 & - & 22 & 37\\\\\n",
       "\t9 & chr1 & 19585602 & 19585603 & AG & 13 & - & 20 & 21\\\\\n",
       "\t10 & chr1 & 19585605 & 19585606 & AG & 15 & - & 20 & 20\\\\\n",
       "\\end{tabular}\n"
      ],
      "text/markdown": [
       "\n",
       "A data.frame: 6 × 8\n",
       "\n",
       "| <!--/--> | V1 &lt;chr&gt; | V2 &lt;int&gt; | V3 &lt;int&gt; | V4 &lt;chr&gt; | V5 &lt;int&gt; | V6 &lt;chr&gt; | V7 &lt;int&gt; | V8 &lt;int&gt; |\n",
       "|---|---|---|---|---|---|---|---|---|\n",
       "| 5 | chr1 | 11780415 | 11780416 | AG | 32 | - | 34 | 34 |\n",
       "| 6 | chr1 | 11780473 | 11780474 | AG | 63 | - | 68 | 68 |\n",
       "| 7 | chr1 | 19585568 | 19585569 | AG | 20 | - | 21 | 38 |\n",
       "| 8 | chr1 | 19585570 | 19585571 | AG | 20 | - | 22 | 37 |\n",
       "| 9 | chr1 | 19585602 | 19585603 | AG | 13 | - | 20 | 21 |\n",
       "| 10 | chr1 | 19585605 | 19585606 | AG | 15 | - | 20 | 20 |\n",
       "\n"
      ],
      "text/plain": [
       "   V1   V2       V3       V4 V5 V6 V7 V8\n",
       "5  chr1 11780415 11780416 AG 32 -  34 34\n",
       "6  chr1 11780473 11780474 AG 63 -  68 68\n",
       "7  chr1 19585568 19585569 AG 20 -  21 38\n",
       "8  chr1 19585570 19585571 AG 20 -  22 37\n",
       "9  chr1 19585602 19585603 AG 13 -  20 21\n",
       "10 chr1 19585605 19585606 AG 15 -  20 20"
      ]
     },
     "metadata": {},
     "output_type": "display_data"
    }
   ],
   "source": [
    "head(res_08)\n",
    "res_08$V9 <- paste0(res_08$V1,\"_\",res_08$V3)\n",
    "res_12$V9 <- paste0(res_12$V1,\"_\",res_12$V3)\n",
    "res_16_1_3$V9 <- paste0(res_16_1_3$V1,\"_\",res_16_1_3$V3)\n",
    "res_16_1_4$V9 <- paste0(res_16_1_4$V1,\"_\",res_16_1_4$V3)\n",
    "res_16_1_9$V9 <- paste0(res_16_1_9$V1,\"_\",res_16_1_9$V3)\n",
    "res_19_1_1$V9 <- paste0(res_19_1_1$V1,\"_\",res_19_1_1$V3)\n",
    "res_19_1_2$V9 <- paste0(res_19_1_2$V1,\"_\",res_19_1_2$V3)\n",
    "res_19_1_3$V9 <- paste0(res_19_1_3$V1,\"_\",res_19_1_3$V3)\n",
    "res_23_1_1$V9 <- paste0(res_23_1_1$V1,\"_\",res_23_1_1$V3)\n",
    "res_23_1_2$V9 <- paste0(res_23_1_2$V1,\"_\",res_23_1_2$V3)\n",
    "res_23_1_3$V9 <- paste0(res_23_1_3$V1,\"_\",res_23_1_3$V3)\n",
    "res_26_1_1$V9 <- paste0(res_26_1_1$V1,\"_\",res_26_1_1$V3)"
   ]
  },
  {
   "cell_type": "code",
   "execution_count": 22,
   "metadata": {
    "vscode": {
     "languageId": "r"
    }
   },
   "outputs": [],
   "source": [
    "#计算每一个res的ad\n",
    "res_ad_sum_array <- c()\n",
    "for(i in 1:nrow(RNA_res)){\n",
    "    this_res <- paste0(RNA_res$V5,\"_\",RNA_res$V7)[i]\n",
    "    ad_08_for_this_res <- res_08$V5[which(res_08$V9==this_res)]\n",
    "    ad_12_for_this_res <- res_12$V5[which(res_12$V9==this_res)]\n",
    "    ad_16_3_for_this_res <- res_16_1_3$V5[which(res_16_1_3$V9==this_res)]\n",
    "    ad_16_4_for_this_res <- res_16_1_4$V5[which(res_16_1_4$V9==this_res)]\n",
    "    ad_16_9_for_this_res <- res_16_1_9$V5[which(res_16_1_9$V9==this_res)]\n",
    "    ad_19_1_for_this_res <- res_19_1_1$V5[which(res_19_1_1$V9==this_res)]\n",
    "    ad_19_2_for_this_res <- res_19_1_2$V5[which(res_19_1_2$V9==this_res)]\n",
    "    ad_19_3_for_this_res <- res_19_1_3$V5[which(res_19_1_3$V9==this_res)]\n",
    "    ad_23_1_for_this_res <- res_23_1_1$V5[which(res_23_1_1$V9==this_res)]\n",
    "    ad_23_2_for_this_res <- res_23_1_2$V5[which(res_23_1_2$V9==this_res)]\n",
    "    ad_23_3_for_this_res <- res_23_1_3$V5[which(res_23_1_3$V9==this_res)]\n",
    "    ad_26_1_for_this_res <- res_26_1_1$V5[which(res_26_1_1$V9==this_res)]\n",
    "    this_res_ad_sum <- sum(ad_08_for_this_res,ad_12_for_this_res,ad_16_3_for_this_res,ad_16_4_for_this_res,\n",
    "                            ad_16_9_for_this_res,ad_19_1_for_this_res,ad_19_2_for_this_res,ad_19_3_for_this_res,\n",
    "                            ad_23_1_for_this_res,ad_23_2_for_this_res,ad_23_3_for_this_res,ad_26_1_for_this_res)\n",
    "    res_ad_sum_array <- c(res_ad_sum_array,this_res_ad_sum)\n",
    "}"
   ]
  },
  {
   "cell_type": "code",
   "execution_count": 23,
   "metadata": {
    "vscode": {
     "languageId": "r"
    }
   },
   "outputs": [],
   "source": [
    "new_RNA_res_wzAD <- cbind(RNA_res,res_ad_sum_array)\n",
    "new_RNA_res_wzAD <- new_RNA_res_wzAD[which(new_RNA_res_wzAD$res_ad_sum_array > 0),]"
   ]
  },
  {
   "cell_type": "code",
   "execution_count": 24,
   "metadata": {
    "vscode": {
     "languageId": "r"
    }
   },
   "outputs": [],
   "source": [
    "ad_num_in_region <- c()\n",
    "for(one in unique(new_RNA_res_wzAD$V9)){\n",
    "    ad_num <- sum(new_RNA_res_wzAD$res_ad_sum_array[which(new_RNA_res_wzAD$V9==one)])\n",
    "    ad_num_in_region <- c(ad_num_in_region,ad_num)\n",
    "}"
   ]
  },
  {
   "cell_type": "code",
   "execution_count": 25,
   "metadata": {
    "vscode": {
     "languageId": "r"
    }
   },
   "outputs": [
    {
     "data": {
      "text/html": [
       "108"
      ],
      "text/latex": [
       "108"
      ],
      "text/markdown": [
       "108"
      ],
      "text/plain": [
       "[1] 108"
      ]
     },
     "metadata": {},
     "output_type": "display_data"
    },
    {
     "data": {
      "text/html": [
       "<style>\n",
       ".list-inline {list-style: none; margin:0; padding: 0}\n",
       ".list-inline>li {display: inline-block}\n",
       ".list-inline>li:not(:last-child)::after {content: \"\\00b7\"; padding: 0 .5ex}\n",
       "</style>\n",
       "<ol class=list-inline><li>43</li><li>86</li><li>146</li><li>16</li><li>168</li><li>381</li><li>108</li><li>170</li><li>364</li><li>48</li><li>72</li><li>72</li><li>40</li><li>185</li><li>10</li><li>315</li><li>24</li><li>68</li><li>252</li><li>39</li><li>858</li><li>108</li><li>102</li><li>367</li><li>97</li><li>37</li><li>723</li><li>51</li><li>53</li><li>16</li><li>113</li><li>51</li><li>176</li><li>65</li><li>48</li><li>38</li><li>460</li><li>68</li><li>158</li><li>46</li><li>68</li><li>27</li><li>107</li><li>348</li><li>72</li><li>86</li><li>21</li><li>411</li><li>34</li><li>151</li><li>34</li><li>23</li><li>150</li><li>156</li><li>15</li><li>460</li><li>77</li><li>45</li><li>210</li><li>215</li><li>43</li><li>75</li><li>17</li><li>25</li><li>37</li><li>31</li><li>12</li><li>157</li><li>37</li><li>10</li><li>22</li><li>21</li><li>330</li><li>12</li><li>245</li><li>248</li><li>449</li><li>41</li><li>288</li><li>412</li><li>56</li><li>82</li><li>35</li><li>706</li><li>20</li><li>42</li><li>150</li><li>158</li><li>41</li><li>217</li><li>97</li><li>57</li><li>12</li><li>34</li><li>46</li><li>144</li><li>223</li><li>72</li><li>156</li><li>48</li><li>21</li><li>47</li><li>26</li><li>86</li><li>57</li><li>16</li><li>11</li><li>495</li></ol>\n"
      ],
      "text/latex": [
       "\\begin{enumerate*}\n",
       "\\item 43\n",
       "\\item 86\n",
       "\\item 146\n",
       "\\item 16\n",
       "\\item 168\n",
       "\\item 381\n",
       "\\item 108\n",
       "\\item 170\n",
       "\\item 364\n",
       "\\item 48\n",
       "\\item 72\n",
       "\\item 72\n",
       "\\item 40\n",
       "\\item 185\n",
       "\\item 10\n",
       "\\item 315\n",
       "\\item 24\n",
       "\\item 68\n",
       "\\item 252\n",
       "\\item 39\n",
       "\\item 858\n",
       "\\item 108\n",
       "\\item 102\n",
       "\\item 367\n",
       "\\item 97\n",
       "\\item 37\n",
       "\\item 723\n",
       "\\item 51\n",
       "\\item 53\n",
       "\\item 16\n",
       "\\item 113\n",
       "\\item 51\n",
       "\\item 176\n",
       "\\item 65\n",
       "\\item 48\n",
       "\\item 38\n",
       "\\item 460\n",
       "\\item 68\n",
       "\\item 158\n",
       "\\item 46\n",
       "\\item 68\n",
       "\\item 27\n",
       "\\item 107\n",
       "\\item 348\n",
       "\\item 72\n",
       "\\item 86\n",
       "\\item 21\n",
       "\\item 411\n",
       "\\item 34\n",
       "\\item 151\n",
       "\\item 34\n",
       "\\item 23\n",
       "\\item 150\n",
       "\\item 156\n",
       "\\item 15\n",
       "\\item 460\n",
       "\\item 77\n",
       "\\item 45\n",
       "\\item 210\n",
       "\\item 215\n",
       "\\item 43\n",
       "\\item 75\n",
       "\\item 17\n",
       "\\item 25\n",
       "\\item 37\n",
       "\\item 31\n",
       "\\item 12\n",
       "\\item 157\n",
       "\\item 37\n",
       "\\item 10\n",
       "\\item 22\n",
       "\\item 21\n",
       "\\item 330\n",
       "\\item 12\n",
       "\\item 245\n",
       "\\item 248\n",
       "\\item 449\n",
       "\\item 41\n",
       "\\item 288\n",
       "\\item 412\n",
       "\\item 56\n",
       "\\item 82\n",
       "\\item 35\n",
       "\\item 706\n",
       "\\item 20\n",
       "\\item 42\n",
       "\\item 150\n",
       "\\item 158\n",
       "\\item 41\n",
       "\\item 217\n",
       "\\item 97\n",
       "\\item 57\n",
       "\\item 12\n",
       "\\item 34\n",
       "\\item 46\n",
       "\\item 144\n",
       "\\item 223\n",
       "\\item 72\n",
       "\\item 156\n",
       "\\item 48\n",
       "\\item 21\n",
       "\\item 47\n",
       "\\item 26\n",
       "\\item 86\n",
       "\\item 57\n",
       "\\item 16\n",
       "\\item 11\n",
       "\\item 495\n",
       "\\end{enumerate*}\n"
      ],
      "text/markdown": [
       "1. 43\n",
       "2. 86\n",
       "3. 146\n",
       "4. 16\n",
       "5. 168\n",
       "6. 381\n",
       "7. 108\n",
       "8. 170\n",
       "9. 364\n",
       "10. 48\n",
       "11. 72\n",
       "12. 72\n",
       "13. 40\n",
       "14. 185\n",
       "15. 10\n",
       "16. 315\n",
       "17. 24\n",
       "18. 68\n",
       "19. 252\n",
       "20. 39\n",
       "21. 858\n",
       "22. 108\n",
       "23. 102\n",
       "24. 367\n",
       "25. 97\n",
       "26. 37\n",
       "27. 723\n",
       "28. 51\n",
       "29. 53\n",
       "30. 16\n",
       "31. 113\n",
       "32. 51\n",
       "33. 176\n",
       "34. 65\n",
       "35. 48\n",
       "36. 38\n",
       "37. 460\n",
       "38. 68\n",
       "39. 158\n",
       "40. 46\n",
       "41. 68\n",
       "42. 27\n",
       "43. 107\n",
       "44. 348\n",
       "45. 72\n",
       "46. 86\n",
       "47. 21\n",
       "48. 411\n",
       "49. 34\n",
       "50. 151\n",
       "51. 34\n",
       "52. 23\n",
       "53. 150\n",
       "54. 156\n",
       "55. 15\n",
       "56. 460\n",
       "57. 77\n",
       "58. 45\n",
       "59. 210\n",
       "60. 215\n",
       "61. 43\n",
       "62. 75\n",
       "63. 17\n",
       "64. 25\n",
       "65. 37\n",
       "66. 31\n",
       "67. 12\n",
       "68. 157\n",
       "69. 37\n",
       "70. 10\n",
       "71. 22\n",
       "72. 21\n",
       "73. 330\n",
       "74. 12\n",
       "75. 245\n",
       "76. 248\n",
       "77. 449\n",
       "78. 41\n",
       "79. 288\n",
       "80. 412\n",
       "81. 56\n",
       "82. 82\n",
       "83. 35\n",
       "84. 706\n",
       "85. 20\n",
       "86. 42\n",
       "87. 150\n",
       "88. 158\n",
       "89. 41\n",
       "90. 217\n",
       "91. 97\n",
       "92. 57\n",
       "93. 12\n",
       "94. 34\n",
       "95. 46\n",
       "96. 144\n",
       "97. 223\n",
       "98. 72\n",
       "99. 156\n",
       "100. 48\n",
       "101. 21\n",
       "102. 47\n",
       "103. 26\n",
       "104. 86\n",
       "105. 57\n",
       "106. 16\n",
       "107. 11\n",
       "108. 495\n",
       "\n",
       "\n"
      ],
      "text/plain": [
       "  [1]  43  86 146  16 168 381 108 170 364  48  72  72  40 185  10 315  24  68\n",
       " [19] 252  39 858 108 102 367  97  37 723  51  53  16 113  51 176  65  48  38\n",
       " [37] 460  68 158  46  68  27 107 348  72  86  21 411  34 151  34  23 150 156\n",
       " [55]  15 460  77  45 210 215  43  75  17  25  37  31  12 157  37  10  22  21\n",
       " [73] 330  12 245 248 449  41 288 412  56  82  35 706  20  42 150 158  41 217\n",
       " [91]  97  57  12  34  46 144 223  72 156  48  21  47  26  86  57  16  11 495"
      ]
     },
     "metadata": {},
     "output_type": "display_data"
    }
   ],
   "source": [
    "length(ad_num_in_region)\n",
    "ad_num_in_region"
   ]
  },
  {
   "cell_type": "code",
   "execution_count": 26,
   "metadata": {
    "vscode": {
     "languageId": "r"
    }
   },
   "outputs": [],
   "source": [
    "#构造RNA region的geneWzRes_onlyAG_ad.txt\n",
    "regionWzRes_onlyAG_ad <- as.data.frame(cbind(unique(new_RNA_res_wzAD$V9),ad_num_in_region))\n",
    "setwd(\"/disk1/wenqing/tmp_data/PFC_s2/all_analysis_result/RNA_region_EI/GABA/up\")\n",
    "write.table(regionWzRes_onlyAG_ad,\"./lncRNA_intron_WzRes_onlyAG_ad.txt\",sep='\\t',col.names=F,row.names=F,quote=F)"
   ]
  },
  {
   "cell_type": "markdown",
   "metadata": {},
   "source": [
    "paste <(awk '{print $1}' lncRNA_intron_WzRes_onlyAG_ad.txt|sed 's/_/\\t/g') lncRNA_intron_WzRes_onlyAG_ad.txt > lncRNA_intron_WzRes_onlyAG_ad.processed.txt\n",
    "bedtools sort -faidx ~/tmp_data/names.txt -i lncRNA_intron_WzRes_onlyAG_ad.processed.txt > lncRNA_intron_WzRes_onlyAG_ad.processed.srt.txt"
   ]
  },
  {
   "cell_type": "code",
   "execution_count": 29,
   "metadata": {
    "vscode": {
     "languageId": "r"
    }
   },
   "outputs": [
    {
     "data": {
      "text/html": [
       "<table class=\"dataframe\">\n",
       "<caption>A data.frame: 6 × 5</caption>\n",
       "<thead>\n",
       "\t<tr><th></th><th scope=col>V1</th><th scope=col>V2</th><th scope=col>V3</th><th scope=col>V4</th><th scope=col>V5</th></tr>\n",
       "\t<tr><th></th><th scope=col>&lt;chr&gt;</th><th scope=col>&lt;int&gt;</th><th scope=col>&lt;int&gt;</th><th scope=col>&lt;dbl&gt;</th><th scope=col>&lt;chr&gt;</th></tr>\n",
       "</thead>\n",
       "<tbody>\n",
       "\t<tr><th scope=row>1</th><td>chr1</td><td> 778984</td><td> 783033</td><td>25.434459699</td><td>chr1_778984_783033  </td></tr>\n",
       "\t<tr><th scope=row>2</th><td>chr1</td><td> 880180</td><td> 880436</td><td> 0.069528147</td><td>chr1_880180_880436  </td></tr>\n",
       "\t<tr><th scope=row>3</th><td>chr1</td><td>1480382</td><td>1500152</td><td> 1.851738620</td><td>chr1_1480382_1500152</td></tr>\n",
       "\t<tr><th scope=row>4</th><td>chr1</td><td>6215777</td><td>6219395</td><td> 0.003827019</td><td>chr1_6215777_6219395</td></tr>\n",
       "\t<tr><th scope=row>5</th><td>chr1</td><td>7815728</td><td>7826518</td><td> 1.970138782</td><td>chr1_7815728_7826518</td></tr>\n",
       "\t<tr><th scope=row>6</th><td>chr1</td><td>8716500</td><td>8852462</td><td> 0.191864333</td><td>chr1_8716500_8852462</td></tr>\n",
       "</tbody>\n",
       "</table>\n"
      ],
      "text/latex": [
       "A data.frame: 6 × 5\n",
       "\\begin{tabular}{r|lllll}\n",
       "  & V1 & V2 & V3 & V4 & V5\\\\\n",
       "  & <chr> & <int> & <int> & <dbl> & <chr>\\\\\n",
       "\\hline\n",
       "\t1 & chr1 &  778984 &  783033 & 25.434459699 & chr1\\_778984\\_783033  \\\\\n",
       "\t2 & chr1 &  880180 &  880436 &  0.069528147 & chr1\\_880180\\_880436  \\\\\n",
       "\t3 & chr1 & 1480382 & 1500152 &  1.851738620 & chr1\\_1480382\\_1500152\\\\\n",
       "\t4 & chr1 & 6215777 & 6219395 &  0.003827019 & chr1\\_6215777\\_6219395\\\\\n",
       "\t5 & chr1 & 7815728 & 7826518 &  1.970138782 & chr1\\_7815728\\_7826518\\\\\n",
       "\t6 & chr1 & 8716500 & 8852462 &  0.191864333 & chr1\\_8716500\\_8852462\\\\\n",
       "\\end{tabular}\n"
      ],
      "text/markdown": [
       "\n",
       "A data.frame: 6 × 5\n",
       "\n",
       "| <!--/--> | V1 &lt;chr&gt; | V2 &lt;int&gt; | V3 &lt;int&gt; | V4 &lt;dbl&gt; | V5 &lt;chr&gt; |\n",
       "|---|---|---|---|---|---|\n",
       "| 1 | chr1 |  778984 |  783033 | 25.434459699 | chr1_778984_783033   |\n",
       "| 2 | chr1 |  880180 |  880436 |  0.069528147 | chr1_880180_880436   |\n",
       "| 3 | chr1 | 1480382 | 1500152 |  1.851738620 | chr1_1480382_1500152 |\n",
       "| 4 | chr1 | 6215777 | 6219395 |  0.003827019 | chr1_6215777_6219395 |\n",
       "| 5 | chr1 | 7815728 | 7826518 |  1.970138782 | chr1_7815728_7826518 |\n",
       "| 6 | chr1 | 8716500 | 8852462 |  0.191864333 | chr1_8716500_8852462 |\n",
       "\n"
      ],
      "text/plain": [
       "  V1   V2      V3      V4           V5                  \n",
       "1 chr1  778984  783033 25.434459699 chr1_778984_783033  \n",
       "2 chr1  880180  880436  0.069528147 chr1_880180_880436  \n",
       "3 chr1 1480382 1500152  1.851738620 chr1_1480382_1500152\n",
       "4 chr1 6215777 6219395  0.003827019 chr1_6215777_6219395\n",
       "5 chr1 7815728 7826518  1.970138782 chr1_7815728_7826518\n",
       "6 chr1 8716500 8852462  0.191864333 chr1_8716500_8852462"
      ]
     },
     "metadata": {},
     "output_type": "display_data"
    }
   ],
   "source": [
    "######计算相关性，生成密度曲线\n",
    "intron_IRI <- read.table(\"/disk1/wenqing/intron_retention_analysis_senescence-master/intron_region_wzAverIRI_noNA.txt\")\n",
    "intron_IRI$V5 <- paste0(intron_IRI$V1,\"_\",intron_IRI$V2,\"_\",intron_IRI$V3)\n",
    "head(intron_IRI)"
   ]
  },
  {
   "cell_type": "code",
   "execution_count": 37,
   "metadata": {
    "vscode": {
     "languageId": "r"
    }
   },
   "outputs": [],
   "source": [
    "EI_data <- read.table(\"/disk1/wenqing/tmp_data/PFC_s2/all_analysis_result/RNA_region_EI/GABA/up/regular_EI_mRNA_intron_over0.txt\")"
   ]
  },
  {
   "cell_type": "code",
   "execution_count": null,
   "metadata": {
    "vscode": {
     "languageId": "r"
    }
   },
   "outputs": [],
   "source": [
    "intron_IRI$V4[which(intron_IRI$V5 %in% rownames(EI_data))]"
   ]
  },
  {
   "cell_type": "code",
   "execution_count": 38,
   "metadata": {
    "vscode": {
     "languageId": "r"
    }
   },
   "outputs": [
    {
     "data": {
      "text/html": [
       "<style>\n",
       ".list-inline {list-style: none; margin:0; padding: 0}\n",
       ".list-inline>li {display: inline-block}\n",
       ".list-inline>li:not(:last-child)::after {content: \"\\00b7\"; padding: 0 .5ex}\n",
       "</style>\n",
       "<ol class=list-inline><li>273</li><li>3</li></ol>\n"
      ],
      "text/latex": [
       "\\begin{enumerate*}\n",
       "\\item 273\n",
       "\\item 3\n",
       "\\end{enumerate*}\n"
      ],
      "text/markdown": [
       "1. 273\n",
       "2. 3\n",
       "\n",
       "\n"
      ],
      "text/plain": [
       "[1] 273   3"
      ]
     },
     "metadata": {},
     "output_type": "display_data"
    }
   ],
   "source": [
    "input_corr_dat <- as.data.frame(cbind(rownames(EI_data),EI_data$EI,intron_IRI$V4[which(intron_IRI$V5 %in% rownames(EI_data))]))\n",
    "#dim(input_corr_dat)\n",
    "colnames(input_corr_dat) <- c(\"intron_region\",\"EI\",\"IRI\")\n",
    "input_corr_dat$EI <- as.numeric(input_corr_dat$EI)\n",
    "input_corr_dat$IRI <- as.numeric(input_corr_dat$IRI)\n",
    "dim(input_corr_dat)"
   ]
  },
  {
   "cell_type": "code",
   "execution_count": 39,
   "metadata": {
    "vscode": {
     "languageId": "r"
    }
   },
   "outputs": [
    {
     "data": {
      "text/html": [
       "-0.0392510298982043"
      ],
      "text/latex": [
       "-0.0392510298982043"
      ],
      "text/markdown": [
       "-0.0392510298982043"
      ],
      "text/plain": [
       "[1] -0.03925103"
      ]
     },
     "metadata": {},
     "output_type": "display_data"
    }
   ],
   "source": [
    "cor(input_corr_dat$EI*1000,input_corr_dat$IRI)\n",
    "\n",
    "####lncRNA intron EI和IRI相关性 < 0——说明：intron区域的编辑水平下降、该intron的保留率反而上升，更倾向于保留？？？？？和前述编辑位点分簇的结论不一致啊\n",
    "####mRNA intron EI和IRI相关性 > 0\n"
   ]
  },
  {
   "cell_type": "code",
   "execution_count": null,
   "metadata": {
    "vscode": {
     "languageId": "r"
    }
   },
   "outputs": [],
   "source": [
    "#lncRNA-intron和IRI\n",
    "0.0320093866615501\n",
    "#mRNA-intron和IRI\n",
    "-0.0392510298982043"
   ]
  },
  {
   "cell_type": "code",
   "execution_count": 10,
   "metadata": {
    "vscode": {
     "languageId": "r"
    }
   },
   "outputs": [],
   "source": [
    "####按每个样本再计算\n",
    "#step1：生成每个样本对应的up.res\n",
    "all_lncRNA_up_res <- read.table(\"/disk1/wenqing/tmp_data/PFC_s2/all_analysis_result/lncRNA_mRNA/3_groups_res/GABA/up/lncRNA_up.res\")\n",
    "#注意此处mRNA和lncRNA编辑位点的列数不同\n",
    "uniq_res <- unique(paste0(all_lncRNA_up_res$V6,\"_\",all_lncRNA_up_res$V8))\n",
    "phase=c(\"08\",\"12\",\"16_1_3\",\"16_1_4\",\"16_1_9\",\"19_1_1\",\"19_1_2\",\"19_1_3\",\"23_1_1\",\"23_1_2\",\"23_1_3\",\"26_1_1\")\n",
    "for(one in phase){\n",
    "    res_dat <- eval(as.name(paste0(\"res_\",one)))\n",
    "    write.table(res_dat[which(res_dat$V9 %in% uniq_res),],paste0(\"/disk1/wenqing/tmp_data/PFC_s2/all_analysis_result/RNA_region_EI/GABA/up/GW\",one,\"/lncRNA_up_this_sample.res\"),quote=F,col.names=F,row.names=F,sep='\\t')\n",
    "}\n"
   ]
  },
  {
   "cell_type": "code",
   "execution_count": 9,
   "metadata": {
    "vscode": {
     "languageId": "r"
    }
   },
   "outputs": [
    {
     "data": {
      "text/html": [
       "<table class=\"dataframe\">\n",
       "<caption>A data.frame: 6 × 9</caption>\n",
       "<thead>\n",
       "\t<tr><th></th><th scope=col>V1</th><th scope=col>V2</th><th scope=col>V3</th><th scope=col>V4</th><th scope=col>V5</th><th scope=col>V6</th><th scope=col>V7</th><th scope=col>V8</th><th scope=col>V9</th></tr>\n",
       "\t<tr><th></th><th scope=col>&lt;chr&gt;</th><th scope=col>&lt;int&gt;</th><th scope=col>&lt;int&gt;</th><th scope=col>&lt;chr&gt;</th><th scope=col>&lt;chr&gt;</th><th scope=col>&lt;chr&gt;</th><th scope=col>&lt;int&gt;</th><th scope=col>&lt;int&gt;</th><th scope=col>&lt;int&gt;</th></tr>\n",
       "</thead>\n",
       "<tbody>\n",
       "\t<tr><th scope=row>1</th><td>chr1</td><td>1016361</td><td>1051469</td><td>ENSG00000131591.13</td><td>;</td><td>chr1</td><td>1033577</td><td>1033578</td><td>1</td></tr>\n",
       "\t<tr><th scope=row>2</th><td>chr1</td><td>1016361</td><td>1051469</td><td>ENSG00000131591.13</td><td>;</td><td>chr1</td><td>1033593</td><td>1033594</td><td>1</td></tr>\n",
       "\t<tr><th scope=row>3</th><td>chr1</td><td>1334829</td><td>1342673</td><td>ENSG00000242485.1 </td><td>;</td><td>chr1</td><td>1338719</td><td>1338720</td><td>1</td></tr>\n",
       "\t<tr><th scope=row>4</th><td>chr1</td><td>1334932</td><td>1341204</td><td>ENSG00000224870.3 </td><td>;</td><td>chr1</td><td>1338719</td><td>1338720</td><td>1</td></tr>\n",
       "\t<tr><th scope=row>5</th><td>chr1</td><td>1630324</td><td>1713218</td><td>ENSG00000008130.11</td><td>;</td><td>chr1</td><td>1664412</td><td>1664413</td><td>1</td></tr>\n",
       "\t<tr><th scope=row>6</th><td>chr1</td><td>1630324</td><td>1713218</td><td>ENSG00000008130.11</td><td>;</td><td>chr1</td><td>1664474</td><td>1664475</td><td>1</td></tr>\n",
       "</tbody>\n",
       "</table>\n"
      ],
      "text/latex": [
       "A data.frame: 6 × 9\n",
       "\\begin{tabular}{r|lllllllll}\n",
       "  & V1 & V2 & V3 & V4 & V5 & V6 & V7 & V8 & V9\\\\\n",
       "  & <chr> & <int> & <int> & <chr> & <chr> & <chr> & <int> & <int> & <int>\\\\\n",
       "\\hline\n",
       "\t1 & chr1 & 1016361 & 1051469 & ENSG00000131591.13 & ; & chr1 & 1033577 & 1033578 & 1\\\\\n",
       "\t2 & chr1 & 1016361 & 1051469 & ENSG00000131591.13 & ; & chr1 & 1033593 & 1033594 & 1\\\\\n",
       "\t3 & chr1 & 1334829 & 1342673 & ENSG00000242485.1  & ; & chr1 & 1338719 & 1338720 & 1\\\\\n",
       "\t4 & chr1 & 1334932 & 1341204 & ENSG00000224870.3  & ; & chr1 & 1338719 & 1338720 & 1\\\\\n",
       "\t5 & chr1 & 1630324 & 1713218 & ENSG00000008130.11 & ; & chr1 & 1664412 & 1664413 & 1\\\\\n",
       "\t6 & chr1 & 1630324 & 1713218 & ENSG00000008130.11 & ; & chr1 & 1664474 & 1664475 & 1\\\\\n",
       "\\end{tabular}\n"
      ],
      "text/markdown": [
       "\n",
       "A data.frame: 6 × 9\n",
       "\n",
       "| <!--/--> | V1 &lt;chr&gt; | V2 &lt;int&gt; | V3 &lt;int&gt; | V4 &lt;chr&gt; | V5 &lt;chr&gt; | V6 &lt;chr&gt; | V7 &lt;int&gt; | V8 &lt;int&gt; | V9 &lt;int&gt; |\n",
       "|---|---|---|---|---|---|---|---|---|---|\n",
       "| 1 | chr1 | 1016361 | 1051469 | ENSG00000131591.13 | ; | chr1 | 1033577 | 1033578 | 1 |\n",
       "| 2 | chr1 | 1016361 | 1051469 | ENSG00000131591.13 | ; | chr1 | 1033593 | 1033594 | 1 |\n",
       "| 3 | chr1 | 1334829 | 1342673 | ENSG00000242485.1  | ; | chr1 | 1338719 | 1338720 | 1 |\n",
       "| 4 | chr1 | 1334932 | 1341204 | ENSG00000224870.3  | ; | chr1 | 1338719 | 1338720 | 1 |\n",
       "| 5 | chr1 | 1630324 | 1713218 | ENSG00000008130.11 | ; | chr1 | 1664412 | 1664413 | 1 |\n",
       "| 6 | chr1 | 1630324 | 1713218 | ENSG00000008130.11 | ; | chr1 | 1664474 | 1664475 | 1 |\n",
       "\n"
      ],
      "text/plain": [
       "  V1   V2      V3      V4                 V5 V6   V7      V8      V9\n",
       "1 chr1 1016361 1051469 ENSG00000131591.13 ;  chr1 1033577 1033578 1 \n",
       "2 chr1 1016361 1051469 ENSG00000131591.13 ;  chr1 1033593 1033594 1 \n",
       "3 chr1 1334829 1342673 ENSG00000242485.1  ;  chr1 1338719 1338720 1 \n",
       "4 chr1 1334932 1341204 ENSG00000224870.3  ;  chr1 1338719 1338720 1 \n",
       "5 chr1 1630324 1713218 ENSG00000008130.11 ;  chr1 1664412 1664413 1 \n",
       "6 chr1 1630324 1713218 ENSG00000008130.11 ;  chr1 1664474 1664475 1 "
      ]
     },
     "metadata": {},
     "output_type": "display_data"
    }
   ],
   "source": [
    "head(all_lncRNA_up_res)"
   ]
  },
  {
   "cell_type": "markdown",
   "metadata": {},
   "source": [
    "######对生成的各样本的res，与各样本的intron region做交集，有些样本的数量会很少\n",
    "samples=(GW08 GW12 GW16_1_3 GW16_1_4 GW16_1_9 GW19_1_1 GW19_1_2 GW19_1_3 GW23_1_1 GW23_1_2 GW23_1_3 GW26_1_1)\n",
    "for one in ${samples[@]};\n",
    "do\n",
    "    region_direct=/disk1/wenqing/intron_retention_analysis_senescence-master/\"$one\"/GABAergic_neurons\n",
    "    res_direct=/disk1/wenqing/tmp_data/PFC_s2/all_analysis_result/RNA_region_EI/GABA/up/\"$one\"\n",
    "    bedtools intersect -wo -a \"$region_direct\"/intron_region_wzIRI.srt.bed -b \"$res_direct\"/lncRNA_up_this_sample.res > \"$res_direct\"/lncRNA_up_intron_this_sample.res\n",
    "done"
   ]
  },
  {
   "cell_type": "code",
   "execution_count": 13,
   "metadata": {
    "vscode": {
     "languageId": "r"
    }
   },
   "outputs": [],
   "source": [
    "#######对几个样本共有的intron region计算EI\n",
    "#有些region很少的去掉\n",
    "#GABA-up/down/stable:没有富集得到的intron region，因此不采用分开计算相关性的方法！！！！！！！！！\n",
    "#intron_IRI_wzRES_08 <- read.table(\"/disk1/wenqing/tmp_data/PFC_s2/all_analysis_result/RNA_region_EI/GABA/up/GW08/lncRNA_up_intron_this_sample.res\")\n",
    "#intron_region_08 <- paste0(intron_IRI_wzRES_08$V1,\"_\",intron_IRI_wzRES_08$V2,\"_\",intron_IRI_wzRES_08$V3)\n",
    "intron_IRI_wzRES_12 <- read.table(\"/disk1/wenqing/tmp_data/PFC_s2/all_analysis_result/RNA_region_EI/GABA/up/GW12/lncRNA_up_intron_this_sample.res\")\n",
    "intron_region_12 <- paste0(intron_IRI_wzRES_12$V1,\"_\",intron_IRI_wzRES_12$V2,\"_\",intron_IRI_wzRES_12$V3)\n",
    "intron_IRI_wzRES_16_1_3 <- read.table(\"/disk1/wenqing/tmp_data/PFC_s2/all_analysis_result/RNA_region_EI/GABA/up/GW16_1_3/lncRNA_up_intron_this_sample.res\")\n",
    "intron_region_16_1_3 <- paste0(intron_IRI_wzRES_16_1_3$V1,\"_\",intron_IRI_wzRES_16_1_3$V2,\"_\",intron_IRI_wzRES_16_1_3$V3)\n",
    "intron_IRI_wzRES_16_1_4 <- read.table(\"/disk1/wenqing/tmp_data/PFC_s2/all_analysis_result/RNA_region_EI/GABA/up/GW16_1_4/lncRNA_up_intron_this_sample.res\")\n",
    "intron_region_16_1_4 <- paste0(intron_IRI_wzRES_16_1_4$V1,\"_\",intron_IRI_wzRES_16_1_4$V2,\"_\",intron_IRI_wzRES_16_1_4$V3)\n",
    "intron_IRI_wzRES_16_1_9 <- read.table(\"/disk1/wenqing/tmp_data/PFC_s2/all_analysis_result/RNA_region_EI/GABA/up/GW16_1_9/lncRNA_up_intron_this_sample.res\")\n",
    "intron_region_16_1_9 <- paste0(intron_IRI_wzRES_16_1_9$V1,\"_\",intron_IRI_wzRES_16_1_9$V2,\"_\",intron_IRI_wzRES_16_1_9$V3)\n",
    "intron_IRI_wzRES_19_1_1 <- read.table(\"/disk1/wenqing/tmp_data/PFC_s2/all_analysis_result/RNA_region_EI/GABA/up/GW19_1_1/lncRNA_up_intron_this_sample.res\")\n",
    "intron_region_19_1_1 <- paste0(intron_IRI_wzRES_19_1_1$V1,\"_\",intron_IRI_wzRES_19_1_1$V2,\"_\",intron_IRI_wzRES_19_1_1$V3)\n",
    "#intron_IRI_wzRES_19_1_2 <- read.table(\"/disk1/wenqing/tmp_data/PFC_s2/all_analysis_result/RNA_region_EI/GABA/up/GW19_1_2/lncRNA_up_intron_this_sample.res\")\n",
    "#intron_region_19_1_2 <- paste0(intron_IRI_wzRES_19_1_2$V1,\"_\",intron_IRI_wzRES_19_1_2$V2,\"_\",intron_IRI_wzRES_19_1_2$V3)\n",
    "#intron_IRI_wzRES_19_1_3 <- read.table(\"/disk1/wenqing/tmp_data/PFC_s2/all_analysis_result/RNA_region_EI/GABA/up/GW19_1_3/lncRNA_up_intron_this_sample.res\")\n",
    "#intron_region_19_1_3 <- paste0(intron_IRI_wzRES_19_1_3$V1,\"_\",intron_IRI_wzRES_19_1_3$V2,\"_\",intron_IRI_wzRES_19_1_3$V3)\n",
    "intron_IRI_wzRES_23_1_1 <- read.table(\"/disk1/wenqing/tmp_data/PFC_s2/all_analysis_result/RNA_region_EI/GABA/up/GW23_1_1/lncRNA_up_intron_this_sample.res\")\n",
    "intron_region_23_1_1 <- paste0(intron_IRI_wzRES_23_1_1$V1,\"_\",intron_IRI_wzRES_23_1_1$V2,\"_\",intron_IRI_wzRES_23_1_1$V3)\n",
    "intron_IRI_wzRES_23_1_2 <- read.table(\"/disk1/wenqing/tmp_data/PFC_s2/all_analysis_result/RNA_region_EI/GABA/up/GW23_1_2/lncRNA_up_intron_this_sample.res\")\n",
    "intron_region_23_1_2 <- paste0(intron_IRI_wzRES_23_1_2$V1,\"_\",intron_IRI_wzRES_23_1_2$V2,\"_\",intron_IRI_wzRES_23_1_2$V3)\n",
    "intron_IRI_wzRES_23_1_3 <- read.table(\"/disk1/wenqing/tmp_data/PFC_s2/all_analysis_result/RNA_region_EI/GABA/up/GW23_1_3/lncRNA_up_intron_this_sample.res\")\n",
    "intron_region_23_1_3 <- paste0(intron_IRI_wzRES_23_1_3$V1,\"_\",intron_IRI_wzRES_23_1_3$V2,\"_\",intron_IRI_wzRES_23_1_3$V3)\n",
    "intron_IRI_wzRES_26_1_1 <- read.table(\"/disk1/wenqing/tmp_data/PFC_s2/all_analysis_result/RNA_region_EI/GABA/up/GW26_1_1/lncRNA_up_intron_this_sample.res\")\n",
    "intron_region_26_1_1 <- paste0(intron_IRI_wzRES_26_1_1$V1,\"_\",intron_IRI_wzRES_26_1_1$V2,\"_\",intron_IRI_wzRES_26_1_1$V3)"
   ]
  },
  {
   "cell_type": "code",
   "execution_count": 14,
   "metadata": {
    "vscode": {
     "languageId": "r"
    }
   },
   "outputs": [
    {
     "ename": "ERROR",
     "evalue": "Error in eval(expr, envir, enclos): object 'intron_region_08' not found\n",
     "output_type": "error",
     "traceback": [
      "Error in eval(expr, envir, enclos): object 'intron_region_08' not found\nTraceback:\n",
      "1. intersect(intron_region_08, intron_region_12)"
     ]
    }
   ],
   "source": [
    "shared_intron_region <- intersect(intron_region_08,intron_region_12)\n",
    "shared_intron_region <- intersect(shared_intron_region,intron_region_16_1_3)\n",
    "shared_intron_region <- intersect(shared_intron_region,intron_region_16_1_4)\n",
    "shared_intron_region <- intersect(shared_intron_region,intron_region_16_1_9)\n",
    "shared_intron_region <- intersect(shared_intron_region,intron_region_19_1_2)\n",
    "shared_intron_region <- intersect(shared_intron_region,intron_region_23_1_1)\n",
    "shared_intron_region <- intersect(shared_intron_region,intron_region_23_1_2)\n",
    "shared_intron_region <- intersect(shared_intron_region,intron_region_23_1_3)\n",
    "shared_intron_region <- intersect(shared_intron_region,intron_region_26_1_1)\n",
    "shared_intron_region\n",
    "\n"
   ]
  }
 ],
 "metadata": {
  "kernelspec": {
   "display_name": "R",
   "language": "R",
   "name": "ir"
  },
  "language_info": {
   "codemirror_mode": "r",
   "file_extension": ".r",
   "mimetype": "text/x-r-source",
   "name": "R",
   "pygments_lexer": "r",
   "version": "4.3.1"
  },
  "orig_nbformat": 4
 },
 "nbformat": 4,
 "nbformat_minor": 2
}
