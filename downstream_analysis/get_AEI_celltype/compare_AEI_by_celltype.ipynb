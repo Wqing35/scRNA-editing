{
 "cells": [
  {
   "cell_type": "code",
   "execution_count": 1,
   "metadata": {
    "vscode": {
     "languageId": "r"
    }
   },
   "outputs": [],
   "source": [
    ".libPaths(\"/disk1/wenqing/anaconda3/envs/wq_R4.2/lib/R/library\")"
   ]
  },
  {
   "cell_type": "code",
   "execution_count": 15,
   "metadata": {
    "vscode": {
     "languageId": "r"
    }
   },
   "outputs": [],
   "source": [
    "# 加载所需的库\n",
    "library(ggplot2)\n",
    "library(dplyr)\n",
    "library(ggforce)\n",
    "library(patchwork)\n",
    "library(ggpubr)\n"
   ]
  },
  {
   "cell_type": "code",
   "execution_count": 15,
   "metadata": {
    "vscode": {
     "languageId": "r"
    }
   },
   "outputs": [
    {
     "data": {
      "text/html": [
       "10"
      ],
      "text/latex": [
       "10"
      ],
      "text/markdown": [
       "10"
      ],
      "text/plain": [
       "[1] 10"
      ]
     },
     "metadata": {},
     "output_type": "display_data"
    }
   ],
   "source": [
    "#取4个样本共有的alu区域：共有的alu区域数量太少，不采取这种方式\n",
    "#不为0的region取均值即可\n",
    "#shared_alu <- intersect(aei_GABA_16$Alu_region,aei_GABA_19$Alu_region)\n",
    "#shared_alu <- intersect(shared_alu,aei_GABA_23$Alu_region)\n",
    "#shared_alu <- intersect(shared_alu,aei_GABA_26$Alu_region)\n",
    "#length(shared_alu)"
   ]
  },
  {
   "cell_type": "code",
   "execution_count": 11,
   "metadata": {
    "vscode": {
     "languageId": "r"
    }
   },
   "outputs": [
    {
     "data": {
      "text/html": [
       "<style>\n",
       ".list-inline {list-style: none; margin:0; padding: 0}\n",
       ".list-inline>li {display: inline-block}\n",
       ".list-inline>li:not(:last-child)::after {content: \"\\00b7\"; padding: 0 .5ex}\n",
       "</style>\n",
       "<ol class=list-inline><li>0.0497979828633731</li><li>0.0522664788327286</li><li>0.0537957033661828</li><li>0.0456016916662144</li></ol>\n"
      ],
      "text/latex": [
       "\\begin{enumerate*}\n",
       "\\item 0.0497979828633731\n",
       "\\item 0.0522664788327286\n",
       "\\item 0.0537957033661828\n",
       "\\item 0.0456016916662144\n",
       "\\end{enumerate*}\n"
      ],
      "text/markdown": [
       "1. 0.0497979828633731\n",
       "2. 0.0522664788327286\n",
       "3. 0.0537957033661828\n",
       "4. 0.0456016916662144\n",
       "\n",
       "\n"
      ],
      "text/plain": [
       "[1] 0.04979798 0.05226648 0.05379570 0.04560169"
      ]
     },
     "metadata": {},
     "output_type": "display_data"
    }
   ],
   "source": [
    "##比较celltype之间的AEI\n",
    "aei_GABA_16 <- read.table(\"/disk1/wenqing/tmp_data/PFC_s2/all_analysis_result/AEI/GABAergic_neurons/GW16_1_4/AEI_AG_over0.txt\")\n",
    "rownames(aei_GABA_16) <- aei_GABA_16[,1]\n",
    "colnames(aei_GABA_16) <- c('Alu_region','AEI')\n",
    "aei_GABA_19 <- read.table(\"/disk1/wenqing/tmp_data/PFC_s2/all_analysis_result/AEI/GABAergic_neurons/GW19_1_1/AEI_AG_over0.txt\")\n",
    "rownames(aei_GABA_19) <- aei_GABA_19[,1]\n",
    "colnames(aei_GABA_19) <- c('Alu_region','AEI')\n",
    "aei_GABA_23 <- read.table(\"/disk1/wenqing/tmp_data/PFC_s2/all_analysis_result/AEI/GABAergic_neurons/GW23_1_2/AEI_AG_over0.txt\")\n",
    "rownames(aei_GABA_23) <- aei_GABA_23[,1]\n",
    "colnames(aei_GABA_23) <- c('Alu_region','AEI')\n",
    "aei_GABA_26 <- read.table(\"/disk1/wenqing/tmp_data/PFC_s2/all_analysis_result/AEI/GABAergic_neurons/GW26_1_1/AEI_AG_over0.txt\")\n",
    "rownames(aei_GABA_26) <- aei_GABA_26[,1]\n",
    "colnames(aei_GABA_26) <- c('Alu_region','AEI')\n",
    "GABA_aei <- c(sum(aei_GABA_16[which(aei_GABA_16[,2]!=0),2])/nrow(aei_GABA_16[which(aei_GABA_16[,2]!=0),]),\n",
    "                sum(aei_GABA_19[which(aei_GABA_19[,2]!=0),2])/nrow(aei_GABA_19[which(aei_GABA_19[,2]!=0),]),\n",
    "                sum(aei_GABA_23[which(aei_GABA_23[,2]!=0),2])/nrow(aei_GABA_23[which(aei_GABA_23[,2]!=0),]),\n",
    "                sum(aei_GABA_26[which(aei_GABA_26[,2]!=0),2])/nrow(aei_GABA_26[which(aei_GABA_26[,2]!=0),]))\n",
    "GABA_aei"
   ]
  },
  {
   "cell_type": "code",
   "execution_count": 12,
   "metadata": {
    "vscode": {
     "languageId": "r"
    }
   },
   "outputs": [
    {
     "data": {
      "text/html": [
       "<style>\n",
       ".list-inline {list-style: none; margin:0; padding: 0}\n",
       ".list-inline>li {display: inline-block}\n",
       ".list-inline>li:not(:last-child)::after {content: \"\\00b7\"; padding: 0 .5ex}\n",
       "</style>\n",
       "<ol class=list-inline><li>0.0378492846367331</li><li>0.0501528526647424</li><li>0.0566541289366712</li><li>0.0571447500712972</li></ol>\n"
      ],
      "text/latex": [
       "\\begin{enumerate*}\n",
       "\\item 0.0378492846367331\n",
       "\\item 0.0501528526647424\n",
       "\\item 0.0566541289366712\n",
       "\\item 0.0571447500712972\n",
       "\\end{enumerate*}\n"
      ],
      "text/markdown": [
       "1. 0.0378492846367331\n",
       "2. 0.0501528526647424\n",
       "3. 0.0566541289366712\n",
       "4. 0.0571447500712972\n",
       "\n",
       "\n"
      ],
      "text/plain": [
       "[1] 0.03784928 0.05015285 0.05665413 0.05714475"
      ]
     },
     "metadata": {},
     "output_type": "display_data"
    }
   ],
   "source": [
    "##比较celltype之间的AEI\n",
    "aei_neuron_16 <- read.table(\"/disk1/wenqing/tmp_data/PFC_s2/all_analysis_result/AEI/Neurons/GW16_1_4/AEI_AG_over0.txt\")\n",
    "rownames(aei_neuron_16) <- aei_neuron_16[,1]\n",
    "colnames(aei_neuron_16) <- c('Alu_region','AEI')\n",
    "aei_neuron_19 <- read.table(\"/disk1/wenqing/tmp_data/PFC_s2/all_analysis_result/AEI/Neurons/GW19_1_1/AEI_AG_over0.txt\")\n",
    "rownames(aei_neuron_19) <- aei_neuron_19[,1]\n",
    "colnames(aei_neuron_19) <- c('Alu_region','AEI')\n",
    "aei_neuron_23 <- read.table(\"/disk1/wenqing/tmp_data/PFC_s2/all_analysis_result/AEI/Neurons/GW23_1_2/AEI_AG_over0.txt\")\n",
    "rownames(aei_neuron_23) <- aei_neuron_23[,1]\n",
    "colnames(aei_neuron_23) <- c('Alu_region','AEI')\n",
    "aei_neuron_26 <- read.table(\"/disk1/wenqing/tmp_data/PFC_s2/all_analysis_result/AEI/Neurons/GW26_1_1/AEI_AG_over0.txt\")\n",
    "rownames(aei_neuron_26) <- aei_neuron_26[,1]\n",
    "colnames(aei_neuron_26) <- c('Alu_region','AEI')\n",
    "neuron_aei <- c(sum(aei_neuron_16[which(aei_neuron_16[,2]!=0),2])/nrow(aei_neuron_16[which(aei_neuron_16[,2]!=0),]),\n",
    "                sum(aei_neuron_19[which(aei_neuron_19[,2]!=0),2])/nrow(aei_neuron_19[which(aei_neuron_19[,2]!=0),]),\n",
    "                sum(aei_neuron_23[which(aei_neuron_23[,2]!=0),2])/nrow(aei_neuron_23[which(aei_neuron_23[,2]!=0),]),\n",
    "                sum(aei_neuron_26[which(aei_neuron_26[,2]!=0),2])/nrow(aei_neuron_26[which(aei_neuron_26[,2]!=0),]))\n",
    "neuron_aei"
   ]
  },
  {
   "cell_type": "code",
   "execution_count": 13,
   "metadata": {
    "vscode": {
     "languageId": "r"
    }
   },
   "outputs": [
    {
     "data": {
      "text/html": [
       "<style>\n",
       ".list-inline {list-style: none; margin:0; padding: 0}\n",
       ".list-inline>li {display: inline-block}\n",
       ".list-inline>li:not(:last-child)::after {content: \"\\00b7\"; padding: 0 .5ex}\n",
       "</style>\n",
       "<ol class=list-inline><li>0.0561417365568326</li><li>0.0588992518882117</li><li>0.0561300761264884</li><li>0.0586399967604399</li></ol>\n"
      ],
      "text/latex": [
       "\\begin{enumerate*}\n",
       "\\item 0.0561417365568326\n",
       "\\item 0.0588992518882117\n",
       "\\item 0.0561300761264884\n",
       "\\item 0.0586399967604399\n",
       "\\end{enumerate*}\n"
      ],
      "text/markdown": [
       "1. 0.0561417365568326\n",
       "2. 0.0588992518882117\n",
       "3. 0.0561300761264884\n",
       "4. 0.0586399967604399\n",
       "\n",
       "\n"
      ],
      "text/plain": [
       "[1] 0.05614174 0.05889925 0.05613008 0.05864000"
      ]
     },
     "metadata": {},
     "output_type": "display_data"
    }
   ],
   "source": [
    "##比较celltype之间的AEI\n",
    "aei_opc_16 <- read.table(\"/disk1/wenqing/tmp_data/PFC_s2/all_analysis_result/AEI/OPC/GW16_1_4/AEI_AG_over0.txt\")\n",
    "rownames(aei_opc_16) <- aei_opc_16[,1]\n",
    "colnames(aei_opc_16) <- c('Alu_region','AEI')\n",
    "aei_opc_19 <- read.table(\"/disk1/wenqing/tmp_data/PFC_s2/all_analysis_result/AEI/OPC/GW19_1_1/AEI_AG_over0.txt\")\n",
    "rownames(aei_opc_19) <- aei_opc_19[,1]\n",
    "colnames(aei_opc_19) <- c('Alu_region','AEI')\n",
    "aei_opc_23 <- read.table(\"/disk1/wenqing/tmp_data/PFC_s2/all_analysis_result/AEI/OPC/GW23_1_2/AEI_AG_over0.txt\")\n",
    "rownames(aei_opc_23) <- aei_opc_23[,1]\n",
    "colnames(aei_opc_23) <- c('Alu_region','AEI')\n",
    "aei_opc_26 <- read.table(\"/disk1/wenqing/tmp_data/PFC_s2/all_analysis_result/AEI/OPC/GW26_1_1/AEI_AG_over0.txt\")\n",
    "rownames(aei_opc_26) <- aei_opc_26[,1]\n",
    "colnames(aei_opc_26) <- c('Alu_region','AEI')\n",
    "opc_aei <- c(sum(aei_opc_16[which(aei_opc_16[,2]!=0),2])/nrow(aei_opc_16[which(aei_opc_16[,2]!=0),]),\n",
    "                sum(aei_opc_19[which(aei_opc_19[,2]!=0),2])/nrow(aei_opc_19[which(aei_opc_19[,2]!=0),]),\n",
    "                sum(aei_opc_23[which(aei_opc_23[,2]!=0),2])/nrow(aei_opc_23[which(aei_opc_23[,2]!=0),]),\n",
    "                sum(aei_opc_26[which(aei_opc_26[,2]!=0),2])/nrow(aei_opc_26[which(aei_opc_26[,2]!=0),]))\n",
    "opc_aei"
   ]
  },
  {
   "cell_type": "code",
   "execution_count": 20,
   "metadata": {
    "vscode": {
     "languageId": "r"
    }
   },
   "outputs": [],
   "source": [
    "colors <- c(\"GABA\" = \"#840dd3\",\"Neuron\" = \"#04c49c\",'OPC' = \"#2759bd\")"
   ]
  },
  {
   "cell_type": "code",
   "execution_count": 27,
   "metadata": {
    "vscode": {
     "languageId": "r"
    }
   },
   "outputs": [
    {
     "name": "stderr",
     "output_type": "stream",
     "text": [
      "Warning message:\n",
      "“\u001b[1m\u001b[22mReturning more (or less) than 1 row per `summarise()` group was deprecated in\n",
      "dplyr 1.1.0.\n",
      "\u001b[36mℹ\u001b[39m Please use `reframe()` instead.\n",
      "\u001b[36mℹ\u001b[39m When switching from `summarise()` to `reframe()`, remember that `reframe()`\n",
      "  always returns an ungrouped data frame and adjust accordingly.”\n",
      "\u001b[1m\u001b[22m`summarise()` has grouped output by 'group'. You can override using the\n",
      "`.groups` argument.\n"
     ]
    },
    {
     "data": {
      "text/html": [
       "<table class=\"dataframe\">\n",
       "<caption>A grouped_df: 6 × 5</caption>\n",
       "<thead>\n",
       "\t<tr><th scope=col>group</th><th scope=col>count</th><th scope=col>mean</th><th scope=col>sd</th><th scope=col>rg</th></tr>\n",
       "\t<tr><th scope=col>&lt;chr&gt;</th><th scope=col>&lt;int&gt;</th><th scope=col>&lt;dbl&gt;</th><th scope=col>&lt;dbl&gt;</th><th scope=col>&lt;dbl&gt;</th></tr>\n",
       "</thead>\n",
       "<tbody>\n",
       "\t<tr><td>GABA  </td><td>4</td><td>5.2750</td><td>0.6144103</td><td>4.56</td></tr>\n",
       "\t<tr><td>GABA  </td><td>4</td><td>5.2750</td><td>0.6144103</td><td>5.89</td></tr>\n",
       "\t<tr><td>Neuron</td><td>4</td><td>5.0825</td><td>0.8926132</td><td>3.78</td></tr>\n",
       "\t<tr><td>Neuron</td><td>4</td><td>5.0825</td><td>0.8926132</td><td>5.71</td></tr>\n",
       "\t<tr><td>OPC   </td><td>4</td><td>5.4675</td><td>0.3569664</td><td>5.02</td></tr>\n",
       "\t<tr><td>OPC   </td><td>4</td><td>5.4675</td><td>0.3569664</td><td>5.86</td></tr>\n",
       "</tbody>\n",
       "</table>\n"
      ],
      "text/latex": [
       "A grouped\\_df: 6 × 5\n",
       "\\begin{tabular}{lllll}\n",
       " group & count & mean & sd & rg\\\\\n",
       " <chr> & <int> & <dbl> & <dbl> & <dbl>\\\\\n",
       "\\hline\n",
       "\t GABA   & 4 & 5.2750 & 0.6144103 & 4.56\\\\\n",
       "\t GABA   & 4 & 5.2750 & 0.6144103 & 5.89\\\\\n",
       "\t Neuron & 4 & 5.0825 & 0.8926132 & 3.78\\\\\n",
       "\t Neuron & 4 & 5.0825 & 0.8926132 & 5.71\\\\\n",
       "\t OPC    & 4 & 5.4675 & 0.3569664 & 5.02\\\\\n",
       "\t OPC    & 4 & 5.4675 & 0.3569664 & 5.86\\\\\n",
       "\\end{tabular}\n"
      ],
      "text/markdown": [
       "\n",
       "A grouped_df: 6 × 5\n",
       "\n",
       "| group &lt;chr&gt; | count &lt;int&gt; | mean &lt;dbl&gt; | sd &lt;dbl&gt; | rg &lt;dbl&gt; |\n",
       "|---|---|---|---|---|\n",
       "| GABA   | 4 | 5.2750 | 0.6144103 | 4.56 |\n",
       "| GABA   | 4 | 5.2750 | 0.6144103 | 5.89 |\n",
       "| Neuron | 4 | 5.0825 | 0.8926132 | 3.78 |\n",
       "| Neuron | 4 | 5.0825 | 0.8926132 | 5.71 |\n",
       "| OPC    | 4 | 5.4675 | 0.3569664 | 5.02 |\n",
       "| OPC    | 4 | 5.4675 | 0.3569664 | 5.86 |\n",
       "\n"
      ],
      "text/plain": [
       "  group  count mean   sd        rg  \n",
       "1 GABA   4     5.2750 0.6144103 4.56\n",
       "2 GABA   4     5.2750 0.6144103 5.89\n",
       "3 Neuron 4     5.0825 0.8926132 3.78\n",
       "4 Neuron 4     5.0825 0.8926132 5.71\n",
       "5 OPC    4     5.4675 0.3569664 5.02\n",
       "6 OPC    4     5.4675 0.3569664 5.86"
      ]
     },
     "metadata": {},
     "output_type": "display_data"
    }
   ],
   "source": [
    "########不论是哪种计算AEI的方式，无论是否引入信噪比（scale factor），GABA和Neuron相较于OPC的AEI更低\n",
    "#因此不做任何处理，不引入scale factor，直接展示三者的AEI备用\n",
    "all_AEI <- data.frame(\n",
    "  group=c(rep(c(\"GABA\",\"Neuron\",\"OPC\"),times=4)),\n",
    "  expr=round(c(GABA_aei,neuron_aei,opc_aei)*100,2)\n",
    ")\n",
    "\n",
    "group_by(all_AEI, group) %>%\n",
    "  summarise(\n",
    "    count = n(),\n",
    "    mean = mean(expr, na.rm = TRUE),\n",
    "    sd = sd(expr, na.rm = TRUE),\n",
    "    rg = range(expr, na.rm = TRUE)\n",
    "  )\n",
    "all_AEI$group = factor(all_AEI$group, levels=c(\"GABA\",\"Neuron\",\"OPC\"))\n",
    "\n",
    "\n",
    "compaired <- list(c(\"GABA\",\"OPC\"),\n",
    "                         c(\"Neuron\",\"OPC\"),\n",
    "                         c(\"GABA\",\"Neuron\"))\n"
   ]
  },
  {
   "cell_type": "code",
   "execution_count": 33,
   "metadata": {
    "vscode": {
     "languageId": "r"
    }
   },
   "outputs": [
    {
     "name": "stderr",
     "output_type": "stream",
     "text": [
      "Warning message in wilcox.test.default(c(5.23, 3.78, 5.71, 5.61), c(5.38, 5.02, :\n",
      "“cannot compute exact p-value with ties”\n"
     ]
    },
    {
     "data": {
      "image/png": "[encoded data removed]",
      "text/plain": [
       "plot without title"
      ]
     },
     "metadata": {
      "image/png": {
       "height": 420,
       "width": 420
      }
     },
     "output_type": "display_data"
    }
   ],
   "source": [
    "\n",
    "ggboxplot(all_AEI, x=\"group\", y = \"expr\", fill = \"group\",add = \"jitter\",  short.panel.labs = FALSE) +\n",
    "  scale_fill_manual(values = colors) +\n",
    "  stat_compare_means(comparisons=compaired,method=\"wilcox.test\",label=\"p.format\",paired=F, step_increase = 0.5)+\n",
    "    labs(title = \"\",\n",
    "       x = \"\", y = \"Alu Editing Index\", fill = \"\") +\n",
    "  theme_bw() +\n",
    "  theme(text = element_text(size = 13),\n",
    "        legend.position = c(0.9,0.9),\n",
    "        legend.box.background = element_rect(color = \"black\", size = 0.5),\n",
    "        legend.spacing.x = unit(1, \"mm\"),     # 调整水平间距\n",
    "        legend.spacing.y = unit(1, \"mm\"),     # 调整垂直间距\n",
    "        legend.margin = margin(3, 3, 3, 3),\n",
    "        panel.border = element_rect(color = \"black\", fill = NA, size = 0.5), \n",
    "        plot.margin = unit(c(1, 1, 1, 1), \"lines\") \n",
    "  )\n",
    "\n"
   ]
  },
  {
   "cell_type": "code",
   "execution_count": 6,
   "metadata": {
    "vscode": {
     "languageId": "r"
    }
   },
   "outputs": [],
   "source": [
    "#引入信噪比\n",
    "SNR_GABA <- c(91.83/(2.7+1.91),93.8/(1.41+1.74),85.38/(4.48+3.17),94.95/(1.18+1.44))\n",
    "SNR_neuron <- c(91.92/(1.92+2.46),93.51/(2.34+1.57),87.9/(3.04+3.28),95.25/(1.12+1.57))\n",
    "SNR_opc <- c(91.97/(2.61+2.44),91.95/(4.66+1.98),91.63/(1.64+2.95),93.97/(1.8+1.44))"
   ]
  },
  {
   "cell_type": "code",
   "execution_count": 8,
   "metadata": {
    "vscode": {
     "languageId": "r"
    }
   },
   "outputs": [],
   "source": [
    "AG_rate_GABA <- c(91.83,93.8,85.38,94.95)\n",
    "AG_rate_neuron <- c(91.92,93.51,87.9,95.25)\n",
    "AG_rate_opc <- c(91.97,91.95,91.63,93.97)"
   ]
  },
  {
   "cell_type": "code",
   "execution_count": 3,
   "metadata": {
    "vscode": {
     "languageId": "r"
    }
   },
   "outputs": [
    {
     "data": {
      "text/html": [
       "<style>\n",
       ".list-inline {list-style: none; margin:0; padding: 0}\n",
       ".list-inline>li {display: inline-block}\n",
       ".list-inline>li:not(:last-child)::after {content: \"\\00b7\"; padding: 0 .5ex}\n",
       "</style>\n",
       "<ol class=list-inline><li>0.0497979828633731</li><li>0.0522664788327286</li><li>0.0537957033661828</li><li>0.0456016916662144</li></ol>\n"
      ],
      "text/latex": [
       "\\begin{enumerate*}\n",
       "\\item 0.0497979828633731\n",
       "\\item 0.0522664788327286\n",
       "\\item 0.0537957033661828\n",
       "\\item 0.0456016916662144\n",
       "\\end{enumerate*}\n"
      ],
      "text/markdown": [
       "1. 0.0497979828633731\n",
       "2. 0.0522664788327286\n",
       "3. 0.0537957033661828\n",
       "4. 0.0456016916662144\n",
       "\n",
       "\n"
      ],
      "text/plain": [
       "[1] 0.04979798 0.05226648 0.05379570 0.04560169"
      ]
     },
     "metadata": {},
     "output_type": "display_data"
    }
   ],
   "source": [
    "GABA_aei"
   ]
  },
  {
   "cell_type": "code",
   "execution_count": 24,
   "metadata": {
    "vscode": {
     "languageId": "r"
    }
   },
   "outputs": [
    {
     "data": {
      "text/html": [
       "<style>\n",
       ".list-inline {list-style: none; margin:0; padding: 0}\n",
       ".list-inline>li {display: inline-block}\n",
       ".list-inline>li:not(:last-child)::after {content: \"\\00b7\"; padding: 0 .5ex}\n",
       "</style>\n",
       "<ol class=list-inline><li>0.0503654641821247</li><li>0.050450254077361</li><li>0.0574527653329932</li></ol>\n"
      ],
      "text/latex": [
       "\\begin{enumerate*}\n",
       "\\item 0.0503654641821247\n",
       "\\item 0.050450254077361\n",
       "\\item 0.0574527653329932\n",
       "\\end{enumerate*}\n"
      ],
      "text/markdown": [
       "1. 0.0503654641821247\n",
       "2. 0.050450254077361\n",
       "3. 0.0574527653329932\n",
       "\n",
       "\n"
      ],
      "text/plain": [
       "[1] 0.05036546 0.05045025 0.05745277"
      ]
     },
     "metadata": {},
     "output_type": "display_data"
    },
    {
     "data": {
      "text/html": [
       "<style>\n",
       ".list-inline {list-style: none; margin:0; padding: 0}\n",
       ".list-inline>li {display: inline-block}\n",
       ".list-inline>li:not(:last-child)::after {content: \"\\00b7\"; padding: 0 .5ex}\n",
       "</style>\n",
       "<ol class=list-inline><li>0.00212757448930059</li><li>0.00195030008962172</li><li>0.00294720452681901</li></ol>\n"
      ],
      "text/latex": [
       "\\begin{enumerate*}\n",
       "\\item 0.00212757448930059\n",
       "\\item 0.00195030008962172\n",
       "\\item 0.00294720452681901\n",
       "\\end{enumerate*}\n"
      ],
      "text/markdown": [
       "1. 0.00212757448930059\n",
       "2. 0.00195030008962172\n",
       "3. 0.00294720452681901\n",
       "\n",
       "\n"
      ],
      "text/plain": [
       "[1] 0.002127574 0.001950300 0.002947205"
      ]
     },
     "metadata": {},
     "output_type": "display_data"
    }
   ],
   "source": [
    "#all_SNR <- c(SNR_GABA,SNR_neuron,SNR_opc)\n",
    "#all_aei_deSNR <- c(GABA_aei,neuron_aei,opc_aei)/all_SNR\n",
    "#all_aei_deSNR\n",
    "c(mean(GABA_aei),mean(neuron_aei),mean(opc_aei))\n",
    "c(median(GABA_aei/SNR_GABA),median(neuron_aei/SNR_neuron),median(opc_aei/SNR_opc))\n"
   ]
  },
  {
   "cell_type": "code",
   "execution_count": 25,
   "metadata": {
    "vscode": {
     "languageId": "r"
    }
   },
   "outputs": [
    {
     "data": {
      "text/html": [
       "32209"
      ],
      "text/latex": [
       "32209"
      ],
      "text/markdown": [
       "32209"
      ],
      "text/plain": [
       "[1] 32209"
      ]
     },
     "metadata": {},
     "output_type": "display_data"
    }
   ],
   "source": [
    "1056+1725+3873+25555"
   ]
  },
  {
   "cell_type": "code",
   "execution_count": 4,
   "metadata": {
    "vscode": {
     "languageId": "r"
    }
   },
   "outputs": [],
   "source": [
    "GABA_aei_ver2 <- c(0.041314189571,0.03910287067,0.0393498579314,0.0320163391302)\n",
    "Neuon_aei_ver2 <- c(0.0243497940978,0.0367412645912,0.0367412645912,0.0453990177567)\n",
    "OPC_aei_ver2 <- c(0.0424506766558,0.0454711858202,0.0478016893133,0.0493450713485)"
   ]
  },
  {
   "cell_type": "code",
   "execution_count": 9,
   "metadata": {
    "vscode": {
     "languageId": "r"
    }
   },
   "outputs": [
    {
     "data": {
      "text/html": [
       "<style>\n",
       ".list-inline {list-style: none; margin:0; padding: 0}\n",
       ".list-inline>li {display: inline-block}\n",
       ".list-inline>li:not(:last-child)::after {content: \"\\00b7\"; padding: 0 .5ex}\n",
       "</style>\n",
       "<ol class=list-inline><li>0.000449898612338016</li><li>0.000416874953837953</li><li>0.00046087910437339</li><li>0.000337191565352291</li></ol>\n"
      ],
      "text/latex": [
       "\\begin{enumerate*}\n",
       "\\item 0.000449898612338016\n",
       "\\item 0.000416874953837953\n",
       "\\item 0.00046087910437339\n",
       "\\item 0.000337191565352291\n",
       "\\end{enumerate*}\n"
      ],
      "text/markdown": [
       "1. 0.000449898612338016\n",
       "2. 0.000416874953837953\n",
       "3. 0.00046087910437339\n",
       "4. 0.000337191565352291\n",
       "\n",
       "\n"
      ],
      "text/plain": [
       "[1] 0.0004498986 0.0004168750 0.0004608791 0.0003371916"
      ]
     },
     "metadata": {},
     "output_type": "display_data"
    },
    {
     "data": {
      "text/html": [
       "<style>\n",
       ".list-inline {list-style: none; margin:0; padding: 0}\n",
       ".list-inline>li {display: inline-block}\n",
       ".list-inline>li:not(:last-child)::after {content: \"\\00b7\"; padding: 0 .5ex}\n",
       "</style>\n",
       "<ol class=list-inline><li>0.000264902024562663</li><li>0.000392912678763769</li><li>0.000417989358261661</li><li>0.00047663010768189</li></ol>\n"
      ],
      "text/latex": [
       "\\begin{enumerate*}\n",
       "\\item 0.000264902024562663\n",
       "\\item 0.000392912678763769\n",
       "\\item 0.000417989358261661\n",
       "\\item 0.00047663010768189\n",
       "\\end{enumerate*}\n"
      ],
      "text/markdown": [
       "1. 0.000264902024562663\n",
       "2. 0.000392912678763769\n",
       "3. 0.000417989358261661\n",
       "4. 0.00047663010768189\n",
       "\n",
       "\n"
      ],
      "text/plain": [
       "[1] 0.0002649020 0.0003929127 0.0004179894 0.0004766301"
      ]
     },
     "metadata": {},
     "output_type": "display_data"
    },
    {
     "data": {
      "text/html": [
       "<style>\n",
       ".list-inline {list-style: none; margin:0; padding: 0}\n",
       ".list-inline>li {display: inline-block}\n",
       ".list-inline>li:not(:last-child)::after {content: \"\\00b7\"; padding: 0 .5ex}\n",
       "</style>\n",
       "<ol class=list-inline><li>0.000461570910686093</li><li>0.000494520781078847</li><li>0.000521681646985703</li><li>0.000525115157481111</li></ol>\n"
      ],
      "text/latex": [
       "\\begin{enumerate*}\n",
       "\\item 0.000461570910686093\n",
       "\\item 0.000494520781078847\n",
       "\\item 0.000521681646985703\n",
       "\\item 0.000525115157481111\n",
       "\\end{enumerate*}\n"
      ],
      "text/markdown": [
       "1. 0.000461570910686093\n",
       "2. 0.000494520781078847\n",
       "3. 0.000521681646985703\n",
       "4. 0.000525115157481111\n",
       "\n",
       "\n"
      ],
      "text/plain": [
       "[1] 0.0004615709 0.0004945208 0.0005216816 0.0005251152"
      ]
     },
     "metadata": {},
     "output_type": "display_data"
    }
   ],
   "source": [
    "GABA_aei_ver2/AG_rate_GABA\n",
    "Neuon_aei_ver2/AG_rate_neuron\n",
    "OPC_aei_ver2/AG_rate_opc"
   ]
  }
 ],
 "metadata": {
  "kernelspec": {
   "display_name": "R",
   "language": "R",
   "name": "ir"
  },
  "language_info": {
   "codemirror_mode": "r",
   "file_extension": ".r",
   "mimetype": "text/x-r-source",
   "name": "R",
   "pygments_lexer": "r",
   "version": "4.3.1"
  },
  "orig_nbformat": 4
 },
 "nbformat": 4,
 "nbformat_minor": 2
}
