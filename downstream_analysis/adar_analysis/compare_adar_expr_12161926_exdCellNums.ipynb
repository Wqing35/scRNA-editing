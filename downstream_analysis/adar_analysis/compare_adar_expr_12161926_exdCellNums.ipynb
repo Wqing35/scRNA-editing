{
 "cells": [
  {
   "cell_type": "code",
   "execution_count": 1,
   "metadata": {
    "vscode": {
     "languageId": "r"
    }
   },
   "outputs": [],
   "source": [
    ".libPaths('/disk1/wenqing/anaconda3/envs/wq_R4.2/lib/R/library')"
   ]
  },
  {
   "cell_type": "code",
   "execution_count": 2,
   "metadata": {
    "vscode": {
     "languageId": "r"
    }
   },
   "outputs": [
    {
     "name": "stderr",
     "output_type": "stream",
     "text": [
      "\n",
      "Attaching package: ‘dplyr’\n",
      "\n",
      "\n",
      "The following objects are masked from ‘package:stats’:\n",
      "\n",
      "    filter, lag\n",
      "\n",
      "\n",
      "The following objects are masked from ‘package:base’:\n",
      "\n",
      "    intersect, setdiff, setequal, union\n",
      "\n",
      "\n"
     ]
    }
   ],
   "source": [
    "library(dplyr)\n",
    "library(ggplot2)\n",
    "library(ggpubr)"
   ]
  },
  {
   "cell_type": "code",
   "execution_count": 3,
   "metadata": {
    "vscode": {
     "languageId": "r"
    }
   },
   "outputs": [],
   "source": [
    "all_info <- read.table(\"/disk1/wenqing/tmp_data/PFC_s2/all_info.txt\")"
   ]
  },
  {
   "cell_type": "code",
   "execution_count": 4,
   "metadata": {
    "vscode": {
     "languageId": "r"
    }
   },
   "outputs": [
    {
     "data": {
      "text/html": [
       "<style>\n",
       ".list-inline {list-style: none; margin:0; padding: 0}\n",
       ".list-inline>li {display: inline-block}\n",
       ".list-inline>li:not(:last-child)::after {content: \"\\00b7\"; padding: 0 .5ex}\n",
       "</style>\n",
       "<ol class=list-inline><li>2309</li><li>7</li></ol>\n"
      ],
      "text/latex": [
       "\\begin{enumerate*}\n",
       "\\item 2309\n",
       "\\item 7\n",
       "\\end{enumerate*}\n"
      ],
      "text/markdown": [
       "1. 2309\n",
       "2. 7\n",
       "\n",
       "\n"
      ],
      "text/plain": [
       "[1] 2309    7"
      ]
     },
     "metadata": {},
     "output_type": "display_data"
    }
   ],
   "source": [
    "dim(all_info)"
   ]
  },
  {
   "cell_type": "code",
   "execution_count": 5,
   "metadata": {
    "vscode": {
     "languageId": "r"
    }
   },
   "outputs": [
    {
     "data": {
      "text/html": [
       "<table class=\"dataframe\">\n",
       "<caption>A data.frame: 6 × 89</caption>\n",
       "<thead>\n",
       "\t<tr><th></th><th scope=col>Gene</th><th scope=col>GW12_PFC1_sc1</th><th scope=col>GW12_PFC1_sc2</th><th scope=col>GW12_PFC1_sc3</th><th scope=col>GW12_PFC1_sc4</th><th scope=col>GW12_PFC1_sc5</th><th scope=col>GW12_PFC1_sc6</th><th scope=col>GW12_PFC1_sc7</th><th scope=col>GW12_PFC1_sc8</th><th scope=col>GW12_PFC1_sc9</th><th scope=col>⋯</th><th scope=col>GW12_PFC1_sc81</th><th scope=col>GW12_PFC1_sc82</th><th scope=col>GW12_PFC1_sc83</th><th scope=col>GW12_PFC1_sc84</th><th scope=col>GW12_PFC1_sc85</th><th scope=col>GW12_PFC1_sc86</th><th scope=col>GW12_PFC1_sc87</th><th scope=col>GW12_PFC1_sc88</th><th scope=col>GW12_PFC1_sc89</th><th scope=col>GW12_PFC1_sc90</th></tr>\n",
       "\t<tr><th></th><th scope=col>&lt;chr&gt;</th><th scope=col>&lt;dbl&gt;</th><th scope=col>&lt;dbl&gt;</th><th scope=col>&lt;dbl&gt;</th><th scope=col>&lt;dbl&gt;</th><th scope=col>&lt;dbl&gt;</th><th scope=col>&lt;dbl&gt;</th><th scope=col>&lt;dbl&gt;</th><th scope=col>&lt;dbl&gt;</th><th scope=col>&lt;dbl&gt;</th><th scope=col>⋯</th><th scope=col>&lt;dbl&gt;</th><th scope=col>&lt;dbl&gt;</th><th scope=col>&lt;dbl&gt;</th><th scope=col>&lt;dbl&gt;</th><th scope=col>&lt;dbl&gt;</th><th scope=col>&lt;dbl&gt;</th><th scope=col>&lt;dbl&gt;</th><th scope=col>&lt;dbl&gt;</th><th scope=col>&lt;dbl&gt;</th><th scope=col>&lt;dbl&gt;</th></tr>\n",
       "</thead>\n",
       "<tbody>\n",
       "\t<tr><th scope=row>1</th><td>A1BG    </td><td>0</td><td>0.00</td><td>0</td><td>  5.65</td><td>0.00</td><td>0</td><td>0</td><td>0</td><td>0</td><td>⋯</td><td>0</td><td>0</td><td>0</td><td>0</td><td>0</td><td>0</td><td>0</td><td>0</td><td>0</td><td>0</td></tr>\n",
       "\t<tr><th scope=row>2</th><td>A1BG-AS1</td><td>0</td><td>0.00</td><td>0</td><td>  0.00</td><td>0.00</td><td>0</td><td>0</td><td>0</td><td>0</td><td>⋯</td><td>0</td><td>0</td><td>0</td><td>0</td><td>0</td><td>0</td><td>0</td><td>0</td><td>0</td><td>0</td></tr>\n",
       "\t<tr><th scope=row>3</th><td>A1CF    </td><td>0</td><td>0.00</td><td>0</td><td>  0.00</td><td>0.00</td><td>0</td><td>0</td><td>0</td><td>0</td><td>⋯</td><td>0</td><td>0</td><td>0</td><td>0</td><td>0</td><td>0</td><td>0</td><td>0</td><td>0</td><td>0</td></tr>\n",
       "\t<tr><th scope=row>4</th><td>A2M     </td><td>0</td><td>6.33</td><td>0</td><td> 70.64</td><td>5.79</td><td>0</td><td>0</td><td>0</td><td>0</td><td>⋯</td><td>0</td><td>0</td><td>0</td><td>0</td><td>0</td><td>0</td><td>0</td><td>0</td><td>0</td><td>0</td></tr>\n",
       "\t<tr><th scope=row>5</th><td>A2M-AS1 </td><td>0</td><td>0.00</td><td>0</td><td>124.32</td><td>0.00</td><td>0</td><td>0</td><td>0</td><td>0</td><td>⋯</td><td>0</td><td>0</td><td>0</td><td>0</td><td>0</td><td>0</td><td>0</td><td>0</td><td>0</td><td>0</td></tr>\n",
       "\t<tr><th scope=row>6</th><td>A2ML1   </td><td>0</td><td>0.00</td><td>0</td><td>  0.00</td><td>0.00</td><td>0</td><td>0</td><td>0</td><td>0</td><td>⋯</td><td>0</td><td>0</td><td>0</td><td>0</td><td>0</td><td>0</td><td>0</td><td>0</td><td>0</td><td>0</td></tr>\n",
       "</tbody>\n",
       "</table>\n"
      ],
      "text/latex": [
       "A data.frame: 6 × 89\n",
       "\\begin{tabular}{r|lllllllllllllllllllll}\n",
       "  & Gene & GW12\\_PFC1\\_sc1 & GW12\\_PFC1\\_sc2 & GW12\\_PFC1\\_sc3 & GW12\\_PFC1\\_sc4 & GW12\\_PFC1\\_sc5 & GW12\\_PFC1\\_sc6 & GW12\\_PFC1\\_sc7 & GW12\\_PFC1\\_sc8 & GW12\\_PFC1\\_sc9 & ⋯ & GW12\\_PFC1\\_sc81 & GW12\\_PFC1\\_sc82 & GW12\\_PFC1\\_sc83 & GW12\\_PFC1\\_sc84 & GW12\\_PFC1\\_sc85 & GW12\\_PFC1\\_sc86 & GW12\\_PFC1\\_sc87 & GW12\\_PFC1\\_sc88 & GW12\\_PFC1\\_sc89 & GW12\\_PFC1\\_sc90\\\\\n",
       "  & <chr> & <dbl> & <dbl> & <dbl> & <dbl> & <dbl> & <dbl> & <dbl> & <dbl> & <dbl> & ⋯ & <dbl> & <dbl> & <dbl> & <dbl> & <dbl> & <dbl> & <dbl> & <dbl> & <dbl> & <dbl>\\\\\n",
       "\\hline\n",
       "\t1 & A1BG     & 0 & 0.00 & 0 &   5.65 & 0.00 & 0 & 0 & 0 & 0 & ⋯ & 0 & 0 & 0 & 0 & 0 & 0 & 0 & 0 & 0 & 0\\\\\n",
       "\t2 & A1BG-AS1 & 0 & 0.00 & 0 &   0.00 & 0.00 & 0 & 0 & 0 & 0 & ⋯ & 0 & 0 & 0 & 0 & 0 & 0 & 0 & 0 & 0 & 0\\\\\n",
       "\t3 & A1CF     & 0 & 0.00 & 0 &   0.00 & 0.00 & 0 & 0 & 0 & 0 & ⋯ & 0 & 0 & 0 & 0 & 0 & 0 & 0 & 0 & 0 & 0\\\\\n",
       "\t4 & A2M      & 0 & 6.33 & 0 &  70.64 & 5.79 & 0 & 0 & 0 & 0 & ⋯ & 0 & 0 & 0 & 0 & 0 & 0 & 0 & 0 & 0 & 0\\\\\n",
       "\t5 & A2M-AS1  & 0 & 0.00 & 0 & 124.32 & 0.00 & 0 & 0 & 0 & 0 & ⋯ & 0 & 0 & 0 & 0 & 0 & 0 & 0 & 0 & 0 & 0\\\\\n",
       "\t6 & A2ML1    & 0 & 0.00 & 0 &   0.00 & 0.00 & 0 & 0 & 0 & 0 & ⋯ & 0 & 0 & 0 & 0 & 0 & 0 & 0 & 0 & 0 & 0\\\\\n",
       "\\end{tabular}\n"
      ],
      "text/markdown": [
       "\n",
       "A data.frame: 6 × 89\n",
       "\n",
       "| <!--/--> | Gene &lt;chr&gt; | GW12_PFC1_sc1 &lt;dbl&gt; | GW12_PFC1_sc2 &lt;dbl&gt; | GW12_PFC1_sc3 &lt;dbl&gt; | GW12_PFC1_sc4 &lt;dbl&gt; | GW12_PFC1_sc5 &lt;dbl&gt; | GW12_PFC1_sc6 &lt;dbl&gt; | GW12_PFC1_sc7 &lt;dbl&gt; | GW12_PFC1_sc8 &lt;dbl&gt; | GW12_PFC1_sc9 &lt;dbl&gt; | ⋯ ⋯ | GW12_PFC1_sc81 &lt;dbl&gt; | GW12_PFC1_sc82 &lt;dbl&gt; | GW12_PFC1_sc83 &lt;dbl&gt; | GW12_PFC1_sc84 &lt;dbl&gt; | GW12_PFC1_sc85 &lt;dbl&gt; | GW12_PFC1_sc86 &lt;dbl&gt; | GW12_PFC1_sc87 &lt;dbl&gt; | GW12_PFC1_sc88 &lt;dbl&gt; | GW12_PFC1_sc89 &lt;dbl&gt; | GW12_PFC1_sc90 &lt;dbl&gt; |\n",
       "|---|---|---|---|---|---|---|---|---|---|---|---|---|---|---|---|---|---|---|---|---|---|\n",
       "| 1 | A1BG     | 0 | 0.00 | 0 |   5.65 | 0.00 | 0 | 0 | 0 | 0 | ⋯ | 0 | 0 | 0 | 0 | 0 | 0 | 0 | 0 | 0 | 0 |\n",
       "| 2 | A1BG-AS1 | 0 | 0.00 | 0 |   0.00 | 0.00 | 0 | 0 | 0 | 0 | ⋯ | 0 | 0 | 0 | 0 | 0 | 0 | 0 | 0 | 0 | 0 |\n",
       "| 3 | A1CF     | 0 | 0.00 | 0 |   0.00 | 0.00 | 0 | 0 | 0 | 0 | ⋯ | 0 | 0 | 0 | 0 | 0 | 0 | 0 | 0 | 0 | 0 |\n",
       "| 4 | A2M      | 0 | 6.33 | 0 |  70.64 | 5.79 | 0 | 0 | 0 | 0 | ⋯ | 0 | 0 | 0 | 0 | 0 | 0 | 0 | 0 | 0 | 0 |\n",
       "| 5 | A2M-AS1  | 0 | 0.00 | 0 | 124.32 | 0.00 | 0 | 0 | 0 | 0 | ⋯ | 0 | 0 | 0 | 0 | 0 | 0 | 0 | 0 | 0 | 0 |\n",
       "| 6 | A2ML1    | 0 | 0.00 | 0 |   0.00 | 0.00 | 0 | 0 | 0 | 0 | ⋯ | 0 | 0 | 0 | 0 | 0 | 0 | 0 | 0 | 0 | 0 |\n",
       "\n"
      ],
      "text/plain": [
       "  Gene     GW12_PFC1_sc1 GW12_PFC1_sc2 GW12_PFC1_sc3 GW12_PFC1_sc4\n",
       "1 A1BG     0             0.00          0               5.65       \n",
       "2 A1BG-AS1 0             0.00          0               0.00       \n",
       "3 A1CF     0             0.00          0               0.00       \n",
       "4 A2M      0             6.33          0              70.64       \n",
       "5 A2M-AS1  0             0.00          0             124.32       \n",
       "6 A2ML1    0             0.00          0               0.00       \n",
       "  GW12_PFC1_sc5 GW12_PFC1_sc6 GW12_PFC1_sc7 GW12_PFC1_sc8 GW12_PFC1_sc9 ⋯\n",
       "1 0.00          0             0             0             0             ⋯\n",
       "2 0.00          0             0             0             0             ⋯\n",
       "3 0.00          0             0             0             0             ⋯\n",
       "4 5.79          0             0             0             0             ⋯\n",
       "5 0.00          0             0             0             0             ⋯\n",
       "6 0.00          0             0             0             0             ⋯\n",
       "  GW12_PFC1_sc81 GW12_PFC1_sc82 GW12_PFC1_sc83 GW12_PFC1_sc84 GW12_PFC1_sc85\n",
       "1 0              0              0              0              0             \n",
       "2 0              0              0              0              0             \n",
       "3 0              0              0              0              0             \n",
       "4 0              0              0              0              0             \n",
       "5 0              0              0              0              0             \n",
       "6 0              0              0              0              0             \n",
       "  GW12_PFC1_sc86 GW12_PFC1_sc87 GW12_PFC1_sc88 GW12_PFC1_sc89 GW12_PFC1_sc90\n",
       "1 0              0              0              0              0             \n",
       "2 0              0              0              0              0             \n",
       "3 0              0              0              0              0             \n",
       "4 0              0              0              0              0             \n",
       "5 0              0              0              0              0             \n",
       "6 0              0              0              0              0             "
      ]
     },
     "metadata": {},
     "output_type": "display_data"
    },
    {
     "data": {
      "text/html": [
       "<table class=\"dataframe\">\n",
       "<caption>A data.frame: 6 × 88</caption>\n",
       "<thead>\n",
       "\t<tr><th></th><th scope=col>GW12_PFC1_sc1</th><th scope=col>GW12_PFC1_sc2</th><th scope=col>GW12_PFC1_sc3</th><th scope=col>GW12_PFC1_sc4</th><th scope=col>GW12_PFC1_sc5</th><th scope=col>GW12_PFC1_sc6</th><th scope=col>GW12_PFC1_sc7</th><th scope=col>GW12_PFC1_sc8</th><th scope=col>GW12_PFC1_sc9</th><th scope=col>GW12_PFC1_sc10</th><th scope=col>⋯</th><th scope=col>GW12_PFC1_sc81</th><th scope=col>GW12_PFC1_sc82</th><th scope=col>GW12_PFC1_sc83</th><th scope=col>GW12_PFC1_sc84</th><th scope=col>GW12_PFC1_sc85</th><th scope=col>GW12_PFC1_sc86</th><th scope=col>GW12_PFC1_sc87</th><th scope=col>GW12_PFC1_sc88</th><th scope=col>GW12_PFC1_sc89</th><th scope=col>GW12_PFC1_sc90</th></tr>\n",
       "\t<tr><th></th><th scope=col>&lt;dbl&gt;</th><th scope=col>&lt;dbl&gt;</th><th scope=col>&lt;dbl&gt;</th><th scope=col>&lt;dbl&gt;</th><th scope=col>&lt;dbl&gt;</th><th scope=col>&lt;dbl&gt;</th><th scope=col>&lt;dbl&gt;</th><th scope=col>&lt;dbl&gt;</th><th scope=col>&lt;dbl&gt;</th><th scope=col>&lt;dbl&gt;</th><th scope=col>⋯</th><th scope=col>&lt;dbl&gt;</th><th scope=col>&lt;dbl&gt;</th><th scope=col>&lt;dbl&gt;</th><th scope=col>&lt;dbl&gt;</th><th scope=col>&lt;dbl&gt;</th><th scope=col>&lt;dbl&gt;</th><th scope=col>&lt;dbl&gt;</th><th scope=col>&lt;dbl&gt;</th><th scope=col>&lt;dbl&gt;</th><th scope=col>&lt;dbl&gt;</th></tr>\n",
       "</thead>\n",
       "<tbody>\n",
       "\t<tr><th scope=row>A1BG</th><td>0</td><td>0.00</td><td>0</td><td>  5.65</td><td>0.00</td><td>0</td><td>0</td><td>0</td><td>0</td><td>0</td><td>⋯</td><td>0</td><td>0</td><td>0</td><td>0</td><td>0</td><td>0</td><td>0</td><td>0</td><td>0</td><td>0</td></tr>\n",
       "\t<tr><th scope=row>A1BG-AS1</th><td>0</td><td>0.00</td><td>0</td><td>  0.00</td><td>0.00</td><td>0</td><td>0</td><td>0</td><td>0</td><td>0</td><td>⋯</td><td>0</td><td>0</td><td>0</td><td>0</td><td>0</td><td>0</td><td>0</td><td>0</td><td>0</td><td>0</td></tr>\n",
       "\t<tr><th scope=row>A1CF</th><td>0</td><td>0.00</td><td>0</td><td>  0.00</td><td>0.00</td><td>0</td><td>0</td><td>0</td><td>0</td><td>0</td><td>⋯</td><td>0</td><td>0</td><td>0</td><td>0</td><td>0</td><td>0</td><td>0</td><td>0</td><td>0</td><td>0</td></tr>\n",
       "\t<tr><th scope=row>A2M</th><td>0</td><td>6.33</td><td>0</td><td> 70.64</td><td>5.79</td><td>0</td><td>0</td><td>0</td><td>0</td><td>0</td><td>⋯</td><td>0</td><td>0</td><td>0</td><td>0</td><td>0</td><td>0</td><td>0</td><td>0</td><td>0</td><td>0</td></tr>\n",
       "\t<tr><th scope=row>A2M-AS1</th><td>0</td><td>0.00</td><td>0</td><td>124.32</td><td>0.00</td><td>0</td><td>0</td><td>0</td><td>0</td><td>0</td><td>⋯</td><td>0</td><td>0</td><td>0</td><td>0</td><td>0</td><td>0</td><td>0</td><td>0</td><td>0</td><td>0</td></tr>\n",
       "\t<tr><th scope=row>A2ML1</th><td>0</td><td>0.00</td><td>0</td><td>  0.00</td><td>0.00</td><td>0</td><td>0</td><td>0</td><td>0</td><td>0</td><td>⋯</td><td>0</td><td>0</td><td>0</td><td>0</td><td>0</td><td>0</td><td>0</td><td>0</td><td>0</td><td>0</td></tr>\n",
       "</tbody>\n",
       "</table>\n"
      ],
      "text/latex": [
       "A data.frame: 6 × 88\n",
       "\\begin{tabular}{r|lllllllllllllllllllll}\n",
       "  & GW12\\_PFC1\\_sc1 & GW12\\_PFC1\\_sc2 & GW12\\_PFC1\\_sc3 & GW12\\_PFC1\\_sc4 & GW12\\_PFC1\\_sc5 & GW12\\_PFC1\\_sc6 & GW12\\_PFC1\\_sc7 & GW12\\_PFC1\\_sc8 & GW12\\_PFC1\\_sc9 & GW12\\_PFC1\\_sc10 & ⋯ & GW12\\_PFC1\\_sc81 & GW12\\_PFC1\\_sc82 & GW12\\_PFC1\\_sc83 & GW12\\_PFC1\\_sc84 & GW12\\_PFC1\\_sc85 & GW12\\_PFC1\\_sc86 & GW12\\_PFC1\\_sc87 & GW12\\_PFC1\\_sc88 & GW12\\_PFC1\\_sc89 & GW12\\_PFC1\\_sc90\\\\\n",
       "  & <dbl> & <dbl> & <dbl> & <dbl> & <dbl> & <dbl> & <dbl> & <dbl> & <dbl> & <dbl> & ⋯ & <dbl> & <dbl> & <dbl> & <dbl> & <dbl> & <dbl> & <dbl> & <dbl> & <dbl> & <dbl>\\\\\n",
       "\\hline\n",
       "\tA1BG & 0 & 0.00 & 0 &   5.65 & 0.00 & 0 & 0 & 0 & 0 & 0 & ⋯ & 0 & 0 & 0 & 0 & 0 & 0 & 0 & 0 & 0 & 0\\\\\n",
       "\tA1BG-AS1 & 0 & 0.00 & 0 &   0.00 & 0.00 & 0 & 0 & 0 & 0 & 0 & ⋯ & 0 & 0 & 0 & 0 & 0 & 0 & 0 & 0 & 0 & 0\\\\\n",
       "\tA1CF & 0 & 0.00 & 0 &   0.00 & 0.00 & 0 & 0 & 0 & 0 & 0 & ⋯ & 0 & 0 & 0 & 0 & 0 & 0 & 0 & 0 & 0 & 0\\\\\n",
       "\tA2M & 0 & 6.33 & 0 &  70.64 & 5.79 & 0 & 0 & 0 & 0 & 0 & ⋯ & 0 & 0 & 0 & 0 & 0 & 0 & 0 & 0 & 0 & 0\\\\\n",
       "\tA2M-AS1 & 0 & 0.00 & 0 & 124.32 & 0.00 & 0 & 0 & 0 & 0 & 0 & ⋯ & 0 & 0 & 0 & 0 & 0 & 0 & 0 & 0 & 0 & 0\\\\\n",
       "\tA2ML1 & 0 & 0.00 & 0 &   0.00 & 0.00 & 0 & 0 & 0 & 0 & 0 & ⋯ & 0 & 0 & 0 & 0 & 0 & 0 & 0 & 0 & 0 & 0\\\\\n",
       "\\end{tabular}\n"
      ],
      "text/markdown": [
       "\n",
       "A data.frame: 6 × 88\n",
       "\n",
       "| <!--/--> | GW12_PFC1_sc1 &lt;dbl&gt; | GW12_PFC1_sc2 &lt;dbl&gt; | GW12_PFC1_sc3 &lt;dbl&gt; | GW12_PFC1_sc4 &lt;dbl&gt; | GW12_PFC1_sc5 &lt;dbl&gt; | GW12_PFC1_sc6 &lt;dbl&gt; | GW12_PFC1_sc7 &lt;dbl&gt; | GW12_PFC1_sc8 &lt;dbl&gt; | GW12_PFC1_sc9 &lt;dbl&gt; | GW12_PFC1_sc10 &lt;dbl&gt; | ⋯ ⋯ | GW12_PFC1_sc81 &lt;dbl&gt; | GW12_PFC1_sc82 &lt;dbl&gt; | GW12_PFC1_sc83 &lt;dbl&gt; | GW12_PFC1_sc84 &lt;dbl&gt; | GW12_PFC1_sc85 &lt;dbl&gt; | GW12_PFC1_sc86 &lt;dbl&gt; | GW12_PFC1_sc87 &lt;dbl&gt; | GW12_PFC1_sc88 &lt;dbl&gt; | GW12_PFC1_sc89 &lt;dbl&gt; | GW12_PFC1_sc90 &lt;dbl&gt; |\n",
       "|---|---|---|---|---|---|---|---|---|---|---|---|---|---|---|---|---|---|---|---|---|---|\n",
       "| A1BG | 0 | 0.00 | 0 |   5.65 | 0.00 | 0 | 0 | 0 | 0 | 0 | ⋯ | 0 | 0 | 0 | 0 | 0 | 0 | 0 | 0 | 0 | 0 |\n",
       "| A1BG-AS1 | 0 | 0.00 | 0 |   0.00 | 0.00 | 0 | 0 | 0 | 0 | 0 | ⋯ | 0 | 0 | 0 | 0 | 0 | 0 | 0 | 0 | 0 | 0 |\n",
       "| A1CF | 0 | 0.00 | 0 |   0.00 | 0.00 | 0 | 0 | 0 | 0 | 0 | ⋯ | 0 | 0 | 0 | 0 | 0 | 0 | 0 | 0 | 0 | 0 |\n",
       "| A2M | 0 | 6.33 | 0 |  70.64 | 5.79 | 0 | 0 | 0 | 0 | 0 | ⋯ | 0 | 0 | 0 | 0 | 0 | 0 | 0 | 0 | 0 | 0 |\n",
       "| A2M-AS1 | 0 | 0.00 | 0 | 124.32 | 0.00 | 0 | 0 | 0 | 0 | 0 | ⋯ | 0 | 0 | 0 | 0 | 0 | 0 | 0 | 0 | 0 | 0 |\n",
       "| A2ML1 | 0 | 0.00 | 0 |   0.00 | 0.00 | 0 | 0 | 0 | 0 | 0 | ⋯ | 0 | 0 | 0 | 0 | 0 | 0 | 0 | 0 | 0 | 0 |\n",
       "\n"
      ],
      "text/plain": [
       "         GW12_PFC1_sc1 GW12_PFC1_sc2 GW12_PFC1_sc3 GW12_PFC1_sc4 GW12_PFC1_sc5\n",
       "A1BG     0             0.00          0               5.65        0.00         \n",
       "A1BG-AS1 0             0.00          0               0.00        0.00         \n",
       "A1CF     0             0.00          0               0.00        0.00         \n",
       "A2M      0             6.33          0              70.64        5.79         \n",
       "A2M-AS1  0             0.00          0             124.32        0.00         \n",
       "A2ML1    0             0.00          0               0.00        0.00         \n",
       "         GW12_PFC1_sc6 GW12_PFC1_sc7 GW12_PFC1_sc8 GW12_PFC1_sc9 GW12_PFC1_sc10\n",
       "A1BG     0             0             0             0             0             \n",
       "A1BG-AS1 0             0             0             0             0             \n",
       "A1CF     0             0             0             0             0             \n",
       "A2M      0             0             0             0             0             \n",
       "A2M-AS1  0             0             0             0             0             \n",
       "A2ML1    0             0             0             0             0             \n",
       "         ⋯ GW12_PFC1_sc81 GW12_PFC1_sc82 GW12_PFC1_sc83 GW12_PFC1_sc84\n",
       "A1BG     ⋯ 0              0              0              0             \n",
       "A1BG-AS1 ⋯ 0              0              0              0             \n",
       "A1CF     ⋯ 0              0              0              0             \n",
       "A2M      ⋯ 0              0              0              0             \n",
       "A2M-AS1  ⋯ 0              0              0              0             \n",
       "A2ML1    ⋯ 0              0              0              0             \n",
       "         GW12_PFC1_sc85 GW12_PFC1_sc86 GW12_PFC1_sc87 GW12_PFC1_sc88\n",
       "A1BG     0              0              0              0             \n",
       "A1BG-AS1 0              0              0              0             \n",
       "A1CF     0              0              0              0             \n",
       "A2M      0              0              0              0             \n",
       "A2M-AS1  0              0              0              0             \n",
       "A2ML1    0              0              0              0             \n",
       "         GW12_PFC1_sc89 GW12_PFC1_sc90\n",
       "A1BG     0              0             \n",
       "A1BG-AS1 0              0             \n",
       "A1CF     0              0             \n",
       "A2M      0              0             \n",
       "A2M-AS1  0              0             \n",
       "A2ML1    0              0             "
      ]
     },
     "metadata": {},
     "output_type": "display_data"
    },
    {
     "data": {
      "text/html": [
       "<style>\n",
       ".list-inline {list-style: none; margin:0; padding: 0}\n",
       ".list-inline>li {display: inline-block}\n",
       ".list-inline>li:not(:last-child)::after {content: \"\\00b7\"; padding: 0 .5ex}\n",
       "</style>\n",
       "<ol class=list-inline><li>85</li><li>7</li></ol>\n"
      ],
      "text/latex": [
       "\\begin{enumerate*}\n",
       "\\item 85\n",
       "\\item 7\n",
       "\\end{enumerate*}\n"
      ],
      "text/markdown": [
       "1. 85\n",
       "2. 7\n",
       "\n",
       "\n"
      ],
      "text/plain": [
       "[1] 85  7"
      ]
     },
     "metadata": {},
     "output_type": "display_data"
    }
   ],
   "source": [
    "#########PFC样本ADAR家族表达情况\n",
    "expression_12 <- read.table(\"/disk1/wenqing/tmp_data/PFC_s2/20240425_useful_matrix/GSM2884066_GW12_PFC1.UMI_TPM_no_ERCC.txt\",header=T)\n",
    "head(expression_12)\n",
    "\n",
    "rownames(expression_12) <- expression_12[,1]\n",
    "expression_12 <- expression_12[,-1]\n",
    "head(expression_12)\n",
    "#expression_12 <- expression_12[,-1]\n",
    "####按细胞类型对表达分组\n",
    "info_12 <- all_info[all_info$week=='GW12',]\n",
    "dim(info_12)\n",
    "####GABA-ADAR1\n",
    "cell_name_GABA <- rownames(info_12)[info_12$cell_types=='GABAergic_neurons']\n",
    "#ADAR''ADARB1''ADARB2''ADARB2-AS1\n",
    "cell_name_GABA <- intersect(colnames(expression_12),cell_name_GABA)\n",
    "adar1_expr_GABA <- expression_12['ADAR',cell_name_GABA]\n",
    "mean_adar1_expr_GABA <- mean(adar1_expr_GABA[adar1_expr_GABA!=0])\n",
    "####neuron-ADAR1\n",
    "cell_name_neuron <- rownames(info_12)[info_12$cell_types=='Neurons']\n",
    "#ADAR''ADARB1''ADARB2''ADARB2-AS1\n",
    "cell_name_neuron <- intersect(colnames(expression_12),cell_name_neuron)\n",
    "adar1_expr_neuron <- expression_12['ADAR',cell_name_neuron]\n",
    "mean_adar1_expr_neuron <- mean(adar1_expr_neuron[adar1_expr_neuron!=0])\n",
    "####OPC-ADAR1\n",
    "cell_name_opc <- rownames(info_12)[info_12$cell_types=='OPC']\n",
    "#ADAR''ADARB1''ADARB2''ADARB2-AS1\n",
    "cell_name_opc <- intersect(colnames(expression_12),cell_name_opc)\n",
    "adar1_expr_opc <- expression_12['ADAR',cell_name_opc]\n",
    "mean_adar1_expr_opc <- mean(adar1_expr_opc[adar1_expr_opc!=0])\n",
    "all_celltype_adar1_12 <- c(mean_adar1_expr_GABA,mean_adar1_expr_neuron,mean_adar1_expr_opc)"
   ]
  },
  {
   "cell_type": "code",
   "execution_count": 8,
   "metadata": {
    "vscode": {
     "languageId": "r"
    }
   },
   "outputs": [],
   "source": [
    "#########PFC样本ADAR家族表达情况\n",
    "expression_16 <- data.frame()\n",
    "#for(i in 1:9){\n",
    "    tmp_expression_16_1 <- read.table(\"/disk1/wenqing/tmp_data/PFC_s2/20240425_useful_matrix/GSM2884068_GW16_PFC1_1.UMI_TPM_no_ERCC.txt\",header=T)\n",
    "    tmp_expression_16_2 <- read.table(\"/disk1/wenqing/tmp_data/PFC_s2/20240425_useful_matrix/GSM2884069_GW16_PFC1_2.UMI_TPM_no_ERCC.txt\",header=T)\n",
    "    tmp_expression_16_3 <- read.table(\"/disk1/wenqing/tmp_data/PFC_s2/20240425_useful_matrix/GSM2884070_GW16_PFC1_3.UMI_TPM_no_ERCC.txt\",header=T)\n",
    "    tmp_expression_16_4 <- read.table(\"/disk1/wenqing/tmp_data/PFC_s2/20240425_useful_matrix/GSM2884071_GW16_PFC1_4.UMI_TPM_no_ERCC.txt\",header=T)\n",
    "    tmp_expression_16_5 <- read.table(\"/disk1/wenqing/tmp_data/PFC_s2/20240425_useful_matrix/GSM2884072_GW16_PFC1_5.UMI_TPM_no_ERCC.txt\",header=T)\n",
    "    tmp_expression_16_6 <- read.table(\"/disk1/wenqing/tmp_data/PFC_s2/20240425_useful_matrix/GSM2884073_GW16_PFC1_6.UMI_TPM_no_ERCC.txt\",header=T)\n",
    "    tmp_expression_16_7 <- read.table(\"/disk1/wenqing/tmp_data/PFC_s2/20240425_useful_matrix/GSM2884074_GW16_PFC1_7.UMI_TPM_no_ERCC.txt\",header=T)\n",
    "    tmp_expression_16_8 <- read.table(\"/disk1/wenqing/tmp_data/PFC_s2/20240425_useful_matrix/GSM2884075_GW16_PFC1_8.UMI_TPM_no_ERCC.txt\",header=T)\n",
    "    tmp_expression_16_9 <- read.table(\"/disk1/wenqing/tmp_data/PFC_s2/20240425_useful_matrix/GSM2884076_GW16_PFC1_9.UMI_TPM_no_ERCC.txt\",header=T)\n",
    "    expression_16 <- cbind(tmp_expression_16_1,tmp_expression_16_2,tmp_expression_16_3,tmp_expression_16_4,\n",
    "                            tmp_expression_16_5,tmp_expression_16_6,tmp_expression_16_7,tmp_expression_16_8,\n",
    "                            tmp_expression_16_9)\n",
    "\n",
    "#}\n"
   ]
  },
  {
   "cell_type": "code",
   "execution_count": 12,
   "metadata": {
    "vscode": {
     "languageId": "r"
    }
   },
   "outputs": [
    {
     "data": {
      "text/plain": [
       "\n",
       " TRUE \n",
       "24153 "
      ]
     },
     "metadata": {},
     "output_type": "display_data"
    },
    {
     "data": {
      "text/html": [
       "<style>\n",
       ".list-inline {list-style: none; margin:0; padding: 0}\n",
       ".list-inline>li {display: inline-block}\n",
       ".list-inline>li:not(:last-child)::after {content: \"\\00b7\"; padding: 0 .5ex}\n",
       "</style>\n",
       "<ol class=list-inline><li>24153</li><li>798</li></ol>\n"
      ],
      "text/latex": [
       "\\begin{enumerate*}\n",
       "\\item 24153\n",
       "\\item 798\n",
       "\\end{enumerate*}\n"
      ],
      "text/markdown": [
       "1. 24153\n",
       "2. 798\n",
       "\n",
       "\n"
      ],
      "text/plain": [
       "[1] 24153   798"
      ]
     },
     "metadata": {},
     "output_type": "display_data"
    }
   ],
   "source": [
    "table(rownames(tmp_expression_16_1)==rownames(tmp_expression_16_2))\n",
    "dim(expression_16)"
   ]
  },
  {
   "cell_type": "code",
   "execution_count": 13,
   "metadata": {
    "vscode": {
     "languageId": "r"
    }
   },
   "outputs": [
    {
     "data": {
      "text/html": [
       "<table class=\"dataframe\">\n",
       "<caption>A data.frame: 6 × 798</caption>\n",
       "<thead>\n",
       "\t<tr><th></th><th scope=col>Gene</th><th scope=col>GW16_PFC1_B2_sc2</th><th scope=col>GW16_PFC1_B2_sc4</th><th scope=col>GW16_PFC1_B2_sc5</th><th scope=col>GW16_PFC1_B2_sc6</th><th scope=col>GW16_PFC1_B2_sc7</th><th scope=col>GW16_PFC1_B2_sc8</th><th scope=col>GW16_PFC1_B2_sc9</th><th scope=col>GW16_PFC1_B2_sc10</th><th scope=col>GW16_PFC1_B2_sc11</th><th scope=col>⋯</th><th scope=col>GW16_PFC1_C2_sc7</th><th scope=col>GW16_PFC1_C2_sc8</th><th scope=col>GW16_PFC1_C2_sc9</th><th scope=col>GW16_PFC1_C2_sc10</th><th scope=col>GW16_PFC1_C2_sc11</th><th scope=col>GW16_PFC1_C2_sc12</th><th scope=col>GW16_PFC1_C2_sc13</th><th scope=col>GW16_PFC1_C2_sc14</th><th scope=col>GW16_PFC1_C2_sc15</th><th scope=col>GW16_PFC1_C2_sc16</th></tr>\n",
       "\t<tr><th></th><th scope=col>&lt;chr&gt;</th><th scope=col>&lt;dbl&gt;</th><th scope=col>&lt;dbl&gt;</th><th scope=col>&lt;dbl&gt;</th><th scope=col>&lt;dbl&gt;</th><th scope=col>&lt;dbl&gt;</th><th scope=col>&lt;dbl&gt;</th><th scope=col>&lt;dbl&gt;</th><th scope=col>&lt;dbl&gt;</th><th scope=col>&lt;dbl&gt;</th><th scope=col>⋯</th><th scope=col>&lt;dbl&gt;</th><th scope=col>&lt;dbl&gt;</th><th scope=col>&lt;dbl&gt;</th><th scope=col>&lt;dbl&gt;</th><th scope=col>&lt;dbl&gt;</th><th scope=col>&lt;dbl&gt;</th><th scope=col>&lt;dbl&gt;</th><th scope=col>&lt;dbl&gt;</th><th scope=col>&lt;dbl&gt;</th><th scope=col>&lt;dbl&gt;</th></tr>\n",
       "</thead>\n",
       "<tbody>\n",
       "\t<tr><th scope=row>1</th><td>A1BG    </td><td>0.00</td><td> 0.00</td><td>0</td><td>104.77</td><td>0.00</td><td>36.09</td><td>0</td><td>0</td><td>0</td><td>⋯</td><td> 1.11</td><td>30.09</td><td>0.00</td><td>1.12</td><td>0</td><td>0</td><td> 0.00</td><td> 0.00</td><td>0.0</td><td>0</td></tr>\n",
       "\t<tr><th scope=row>2</th><td>A1BG-AS1</td><td>0.00</td><td> 0.00</td><td>0</td><td>  0.00</td><td>0.00</td><td> 0.00</td><td>0</td><td>0</td><td>0</td><td>⋯</td><td> 0.00</td><td> 0.00</td><td>0.00</td><td>0.00</td><td>0</td><td>0</td><td> 0.00</td><td> 0.00</td><td>0.0</td><td>0</td></tr>\n",
       "\t<tr><th scope=row>3</th><td>A1CF    </td><td>0.00</td><td> 0.00</td><td>0</td><td>  0.00</td><td>1.28</td><td> 0.00</td><td>0</td><td>0</td><td>0</td><td>⋯</td><td> 0.00</td><td> 0.00</td><td>0.00</td><td>0.00</td><td>0</td><td>0</td><td> 0.00</td><td> 0.00</td><td>0.0</td><td>0</td></tr>\n",
       "\t<tr><th scope=row>4</th><td>A2M     </td><td>2.03</td><td>23.07</td><td>0</td><td>  0.00</td><td>0.00</td><td> 0.00</td><td>0</td><td>0</td><td>0</td><td>⋯</td><td>62.20</td><td> 0.00</td><td>2.18</td><td>1.12</td><td>0</td><td>0</td><td>65.89</td><td>20.61</td><td>3.5</td><td>0</td></tr>\n",
       "\t<tr><th scope=row>5</th><td>A2M-AS1 </td><td>0.00</td><td> 0.00</td><td>0</td><td>  0.00</td><td>0.00</td><td> 0.00</td><td>0</td><td>0</td><td>0</td><td>⋯</td><td> 0.00</td><td> 0.00</td><td>0.00</td><td>0.00</td><td>0</td><td>0</td><td> 0.00</td><td> 0.00</td><td>0.0</td><td>0</td></tr>\n",
       "\t<tr><th scope=row>6</th><td>A2ML1   </td><td>0.00</td><td> 0.96</td><td>0</td><td>  0.00</td><td>0.00</td><td> 0.00</td><td>0</td><td>0</td><td>0</td><td>⋯</td><td> 0.00</td><td> 0.00</td><td>0.00</td><td>0.00</td><td>0</td><td>0</td><td> 0.00</td><td> 0.00</td><td>0.0</td><td>0</td></tr>\n",
       "</tbody>\n",
       "</table>\n"
      ],
      "text/latex": [
       "A data.frame: 6 × 798\n",
       "\\begin{tabular}{r|lllllllllllllllllllll}\n",
       "  & Gene & GW16\\_PFC1\\_B2\\_sc2 & GW16\\_PFC1\\_B2\\_sc4 & GW16\\_PFC1\\_B2\\_sc5 & GW16\\_PFC1\\_B2\\_sc6 & GW16\\_PFC1\\_B2\\_sc7 & GW16\\_PFC1\\_B2\\_sc8 & GW16\\_PFC1\\_B2\\_sc9 & GW16\\_PFC1\\_B2\\_sc10 & GW16\\_PFC1\\_B2\\_sc11 & ⋯ & GW16\\_PFC1\\_C2\\_sc7 & GW16\\_PFC1\\_C2\\_sc8 & GW16\\_PFC1\\_C2\\_sc9 & GW16\\_PFC1\\_C2\\_sc10 & GW16\\_PFC1\\_C2\\_sc11 & GW16\\_PFC1\\_C2\\_sc12 & GW16\\_PFC1\\_C2\\_sc13 & GW16\\_PFC1\\_C2\\_sc14 & GW16\\_PFC1\\_C2\\_sc15 & GW16\\_PFC1\\_C2\\_sc16\\\\\n",
       "  & <chr> & <dbl> & <dbl> & <dbl> & <dbl> & <dbl> & <dbl> & <dbl> & <dbl> & <dbl> & ⋯ & <dbl> & <dbl> & <dbl> & <dbl> & <dbl> & <dbl> & <dbl> & <dbl> & <dbl> & <dbl>\\\\\n",
       "\\hline\n",
       "\t1 & A1BG     & 0.00 &  0.00 & 0 & 104.77 & 0.00 & 36.09 & 0 & 0 & 0 & ⋯ &  1.11 & 30.09 & 0.00 & 1.12 & 0 & 0 &  0.00 &  0.00 & 0.0 & 0\\\\\n",
       "\t2 & A1BG-AS1 & 0.00 &  0.00 & 0 &   0.00 & 0.00 &  0.00 & 0 & 0 & 0 & ⋯ &  0.00 &  0.00 & 0.00 & 0.00 & 0 & 0 &  0.00 &  0.00 & 0.0 & 0\\\\\n",
       "\t3 & A1CF     & 0.00 &  0.00 & 0 &   0.00 & 1.28 &  0.00 & 0 & 0 & 0 & ⋯ &  0.00 &  0.00 & 0.00 & 0.00 & 0 & 0 &  0.00 &  0.00 & 0.0 & 0\\\\\n",
       "\t4 & A2M      & 2.03 & 23.07 & 0 &   0.00 & 0.00 &  0.00 & 0 & 0 & 0 & ⋯ & 62.20 &  0.00 & 2.18 & 1.12 & 0 & 0 & 65.89 & 20.61 & 3.5 & 0\\\\\n",
       "\t5 & A2M-AS1  & 0.00 &  0.00 & 0 &   0.00 & 0.00 &  0.00 & 0 & 0 & 0 & ⋯ &  0.00 &  0.00 & 0.00 & 0.00 & 0 & 0 &  0.00 &  0.00 & 0.0 & 0\\\\\n",
       "\t6 & A2ML1    & 0.00 &  0.96 & 0 &   0.00 & 0.00 &  0.00 & 0 & 0 & 0 & ⋯ &  0.00 &  0.00 & 0.00 & 0.00 & 0 & 0 &  0.00 &  0.00 & 0.0 & 0\\\\\n",
       "\\end{tabular}\n"
      ],
      "text/markdown": [
       "\n",
       "A data.frame: 6 × 798\n",
       "\n",
       "| <!--/--> | Gene &lt;chr&gt; | GW16_PFC1_B2_sc2 &lt;dbl&gt; | GW16_PFC1_B2_sc4 &lt;dbl&gt; | GW16_PFC1_B2_sc5 &lt;dbl&gt; | GW16_PFC1_B2_sc6 &lt;dbl&gt; | GW16_PFC1_B2_sc7 &lt;dbl&gt; | GW16_PFC1_B2_sc8 &lt;dbl&gt; | GW16_PFC1_B2_sc9 &lt;dbl&gt; | GW16_PFC1_B2_sc10 &lt;dbl&gt; | GW16_PFC1_B2_sc11 &lt;dbl&gt; | ⋯ ⋯ | GW16_PFC1_C2_sc7 &lt;dbl&gt; | GW16_PFC1_C2_sc8 &lt;dbl&gt; | GW16_PFC1_C2_sc9 &lt;dbl&gt; | GW16_PFC1_C2_sc10 &lt;dbl&gt; | GW16_PFC1_C2_sc11 &lt;dbl&gt; | GW16_PFC1_C2_sc12 &lt;dbl&gt; | GW16_PFC1_C2_sc13 &lt;dbl&gt; | GW16_PFC1_C2_sc14 &lt;dbl&gt; | GW16_PFC1_C2_sc15 &lt;dbl&gt; | GW16_PFC1_C2_sc16 &lt;dbl&gt; |\n",
       "|---|---|---|---|---|---|---|---|---|---|---|---|---|---|---|---|---|---|---|---|---|---|\n",
       "| 1 | A1BG     | 0.00 |  0.00 | 0 | 104.77 | 0.00 | 36.09 | 0 | 0 | 0 | ⋯ |  1.11 | 30.09 | 0.00 | 1.12 | 0 | 0 |  0.00 |  0.00 | 0.0 | 0 |\n",
       "| 2 | A1BG-AS1 | 0.00 |  0.00 | 0 |   0.00 | 0.00 |  0.00 | 0 | 0 | 0 | ⋯ |  0.00 |  0.00 | 0.00 | 0.00 | 0 | 0 |  0.00 |  0.00 | 0.0 | 0 |\n",
       "| 3 | A1CF     | 0.00 |  0.00 | 0 |   0.00 | 1.28 |  0.00 | 0 | 0 | 0 | ⋯ |  0.00 |  0.00 | 0.00 | 0.00 | 0 | 0 |  0.00 |  0.00 | 0.0 | 0 |\n",
       "| 4 | A2M      | 2.03 | 23.07 | 0 |   0.00 | 0.00 |  0.00 | 0 | 0 | 0 | ⋯ | 62.20 |  0.00 | 2.18 | 1.12 | 0 | 0 | 65.89 | 20.61 | 3.5 | 0 |\n",
       "| 5 | A2M-AS1  | 0.00 |  0.00 | 0 |   0.00 | 0.00 |  0.00 | 0 | 0 | 0 | ⋯ |  0.00 |  0.00 | 0.00 | 0.00 | 0 | 0 |  0.00 |  0.00 | 0.0 | 0 |\n",
       "| 6 | A2ML1    | 0.00 |  0.96 | 0 |   0.00 | 0.00 |  0.00 | 0 | 0 | 0 | ⋯ |  0.00 |  0.00 | 0.00 | 0.00 | 0 | 0 |  0.00 |  0.00 | 0.0 | 0 |\n",
       "\n"
      ],
      "text/plain": [
       "  Gene     GW16_PFC1_B2_sc2 GW16_PFC1_B2_sc4 GW16_PFC1_B2_sc5 GW16_PFC1_B2_sc6\n",
       "1 A1BG     0.00              0.00            0                104.77          \n",
       "2 A1BG-AS1 0.00              0.00            0                  0.00          \n",
       "3 A1CF     0.00              0.00            0                  0.00          \n",
       "4 A2M      2.03             23.07            0                  0.00          \n",
       "5 A2M-AS1  0.00              0.00            0                  0.00          \n",
       "6 A2ML1    0.00              0.96            0                  0.00          \n",
       "  GW16_PFC1_B2_sc7 GW16_PFC1_B2_sc8 GW16_PFC1_B2_sc9 GW16_PFC1_B2_sc10\n",
       "1 0.00             36.09            0                0                \n",
       "2 0.00              0.00            0                0                \n",
       "3 1.28              0.00            0                0                \n",
       "4 0.00              0.00            0                0                \n",
       "5 0.00              0.00            0                0                \n",
       "6 0.00              0.00            0                0                \n",
       "  GW16_PFC1_B2_sc11 ⋯ GW16_PFC1_C2_sc7 GW16_PFC1_C2_sc8 GW16_PFC1_C2_sc9\n",
       "1 0                 ⋯  1.11            30.09            0.00            \n",
       "2 0                 ⋯  0.00             0.00            0.00            \n",
       "3 0                 ⋯  0.00             0.00            0.00            \n",
       "4 0                 ⋯ 62.20             0.00            2.18            \n",
       "5 0                 ⋯  0.00             0.00            0.00            \n",
       "6 0                 ⋯  0.00             0.00            0.00            \n",
       "  GW16_PFC1_C2_sc10 GW16_PFC1_C2_sc11 GW16_PFC1_C2_sc12 GW16_PFC1_C2_sc13\n",
       "1 1.12              0                 0                  0.00            \n",
       "2 0.00              0                 0                  0.00            \n",
       "3 0.00              0                 0                  0.00            \n",
       "4 1.12              0                 0                 65.89            \n",
       "5 0.00              0                 0                  0.00            \n",
       "6 0.00              0                 0                  0.00            \n",
       "  GW16_PFC1_C2_sc14 GW16_PFC1_C2_sc15 GW16_PFC1_C2_sc16\n",
       "1  0.00             0.0               0                \n",
       "2  0.00             0.0               0                \n",
       "3  0.00             0.0               0                \n",
       "4 20.61             3.5               0                \n",
       "5  0.00             0.0               0                \n",
       "6  0.00             0.0               0                "
      ]
     },
     "metadata": {},
     "output_type": "display_data"
    },
    {
     "data": {
      "text/html": [
       "<table class=\"dataframe\">\n",
       "<caption>A data.frame: 6 × 797</caption>\n",
       "<thead>\n",
       "\t<tr><th></th><th scope=col>GW16_PFC1_B2_sc2</th><th scope=col>GW16_PFC1_B2_sc4</th><th scope=col>GW16_PFC1_B2_sc5</th><th scope=col>GW16_PFC1_B2_sc6</th><th scope=col>GW16_PFC1_B2_sc7</th><th scope=col>GW16_PFC1_B2_sc8</th><th scope=col>GW16_PFC1_B2_sc9</th><th scope=col>GW16_PFC1_B2_sc10</th><th scope=col>GW16_PFC1_B2_sc11</th><th scope=col>GW16_PFC1_B2_sc12</th><th scope=col>⋯</th><th scope=col>GW16_PFC1_C2_sc7</th><th scope=col>GW16_PFC1_C2_sc8</th><th scope=col>GW16_PFC1_C2_sc9</th><th scope=col>GW16_PFC1_C2_sc10</th><th scope=col>GW16_PFC1_C2_sc11</th><th scope=col>GW16_PFC1_C2_sc12</th><th scope=col>GW16_PFC1_C2_sc13</th><th scope=col>GW16_PFC1_C2_sc14</th><th scope=col>GW16_PFC1_C2_sc15</th><th scope=col>GW16_PFC1_C2_sc16</th></tr>\n",
       "\t<tr><th></th><th scope=col>&lt;dbl&gt;</th><th scope=col>&lt;dbl&gt;</th><th scope=col>&lt;dbl&gt;</th><th scope=col>&lt;dbl&gt;</th><th scope=col>&lt;dbl&gt;</th><th scope=col>&lt;dbl&gt;</th><th scope=col>&lt;dbl&gt;</th><th scope=col>&lt;dbl&gt;</th><th scope=col>&lt;dbl&gt;</th><th scope=col>&lt;dbl&gt;</th><th scope=col>⋯</th><th scope=col>&lt;dbl&gt;</th><th scope=col>&lt;dbl&gt;</th><th scope=col>&lt;dbl&gt;</th><th scope=col>&lt;dbl&gt;</th><th scope=col>&lt;dbl&gt;</th><th scope=col>&lt;dbl&gt;</th><th scope=col>&lt;dbl&gt;</th><th scope=col>&lt;dbl&gt;</th><th scope=col>&lt;dbl&gt;</th><th scope=col>&lt;dbl&gt;</th></tr>\n",
       "</thead>\n",
       "<tbody>\n",
       "\t<tr><th scope=row>A1BG</th><td>0.00</td><td> 0.00</td><td>0</td><td>104.77</td><td>0.00</td><td>36.09</td><td>0</td><td>0</td><td>0</td><td>0</td><td>⋯</td><td> 1.11</td><td>30.09</td><td>0.00</td><td>1.12</td><td>0</td><td>0</td><td> 0.00</td><td> 0.00</td><td>0.0</td><td>0</td></tr>\n",
       "\t<tr><th scope=row>A1BG-AS1</th><td>0.00</td><td> 0.00</td><td>0</td><td>  0.00</td><td>0.00</td><td> 0.00</td><td>0</td><td>0</td><td>0</td><td>0</td><td>⋯</td><td> 0.00</td><td> 0.00</td><td>0.00</td><td>0.00</td><td>0</td><td>0</td><td> 0.00</td><td> 0.00</td><td>0.0</td><td>0</td></tr>\n",
       "\t<tr><th scope=row>A1CF</th><td>0.00</td><td> 0.00</td><td>0</td><td>  0.00</td><td>1.28</td><td> 0.00</td><td>0</td><td>0</td><td>0</td><td>0</td><td>⋯</td><td> 0.00</td><td> 0.00</td><td>0.00</td><td>0.00</td><td>0</td><td>0</td><td> 0.00</td><td> 0.00</td><td>0.0</td><td>0</td></tr>\n",
       "\t<tr><th scope=row>A2M</th><td>2.03</td><td>23.07</td><td>0</td><td>  0.00</td><td>0.00</td><td> 0.00</td><td>0</td><td>0</td><td>0</td><td>0</td><td>⋯</td><td>62.20</td><td> 0.00</td><td>2.18</td><td>1.12</td><td>0</td><td>0</td><td>65.89</td><td>20.61</td><td>3.5</td><td>0</td></tr>\n",
       "\t<tr><th scope=row>A2M-AS1</th><td>0.00</td><td> 0.00</td><td>0</td><td>  0.00</td><td>0.00</td><td> 0.00</td><td>0</td><td>0</td><td>0</td><td>0</td><td>⋯</td><td> 0.00</td><td> 0.00</td><td>0.00</td><td>0.00</td><td>0</td><td>0</td><td> 0.00</td><td> 0.00</td><td>0.0</td><td>0</td></tr>\n",
       "\t<tr><th scope=row>A2ML1</th><td>0.00</td><td> 0.96</td><td>0</td><td>  0.00</td><td>0.00</td><td> 0.00</td><td>0</td><td>0</td><td>0</td><td>0</td><td>⋯</td><td> 0.00</td><td> 0.00</td><td>0.00</td><td>0.00</td><td>0</td><td>0</td><td> 0.00</td><td> 0.00</td><td>0.0</td><td>0</td></tr>\n",
       "</tbody>\n",
       "</table>\n"
      ],
      "text/latex": [
       "A data.frame: 6 × 797\n",
       "\\begin{tabular}{r|lllllllllllllllllllll}\n",
       "  & GW16\\_PFC1\\_B2\\_sc2 & GW16\\_PFC1\\_B2\\_sc4 & GW16\\_PFC1\\_B2\\_sc5 & GW16\\_PFC1\\_B2\\_sc6 & GW16\\_PFC1\\_B2\\_sc7 & GW16\\_PFC1\\_B2\\_sc8 & GW16\\_PFC1\\_B2\\_sc9 & GW16\\_PFC1\\_B2\\_sc10 & GW16\\_PFC1\\_B2\\_sc11 & GW16\\_PFC1\\_B2\\_sc12 & ⋯ & GW16\\_PFC1\\_C2\\_sc7 & GW16\\_PFC1\\_C2\\_sc8 & GW16\\_PFC1\\_C2\\_sc9 & GW16\\_PFC1\\_C2\\_sc10 & GW16\\_PFC1\\_C2\\_sc11 & GW16\\_PFC1\\_C2\\_sc12 & GW16\\_PFC1\\_C2\\_sc13 & GW16\\_PFC1\\_C2\\_sc14 & GW16\\_PFC1\\_C2\\_sc15 & GW16\\_PFC1\\_C2\\_sc16\\\\\n",
       "  & <dbl> & <dbl> & <dbl> & <dbl> & <dbl> & <dbl> & <dbl> & <dbl> & <dbl> & <dbl> & ⋯ & <dbl> & <dbl> & <dbl> & <dbl> & <dbl> & <dbl> & <dbl> & <dbl> & <dbl> & <dbl>\\\\\n",
       "\\hline\n",
       "\tA1BG & 0.00 &  0.00 & 0 & 104.77 & 0.00 & 36.09 & 0 & 0 & 0 & 0 & ⋯ &  1.11 & 30.09 & 0.00 & 1.12 & 0 & 0 &  0.00 &  0.00 & 0.0 & 0\\\\\n",
       "\tA1BG-AS1 & 0.00 &  0.00 & 0 &   0.00 & 0.00 &  0.00 & 0 & 0 & 0 & 0 & ⋯ &  0.00 &  0.00 & 0.00 & 0.00 & 0 & 0 &  0.00 &  0.00 & 0.0 & 0\\\\\n",
       "\tA1CF & 0.00 &  0.00 & 0 &   0.00 & 1.28 &  0.00 & 0 & 0 & 0 & 0 & ⋯ &  0.00 &  0.00 & 0.00 & 0.00 & 0 & 0 &  0.00 &  0.00 & 0.0 & 0\\\\\n",
       "\tA2M & 2.03 & 23.07 & 0 &   0.00 & 0.00 &  0.00 & 0 & 0 & 0 & 0 & ⋯ & 62.20 &  0.00 & 2.18 & 1.12 & 0 & 0 & 65.89 & 20.61 & 3.5 & 0\\\\\n",
       "\tA2M-AS1 & 0.00 &  0.00 & 0 &   0.00 & 0.00 &  0.00 & 0 & 0 & 0 & 0 & ⋯ &  0.00 &  0.00 & 0.00 & 0.00 & 0 & 0 &  0.00 &  0.00 & 0.0 & 0\\\\\n",
       "\tA2ML1 & 0.00 &  0.96 & 0 &   0.00 & 0.00 &  0.00 & 0 & 0 & 0 & 0 & ⋯ &  0.00 &  0.00 & 0.00 & 0.00 & 0 & 0 &  0.00 &  0.00 & 0.0 & 0\\\\\n",
       "\\end{tabular}\n"
      ],
      "text/markdown": [
       "\n",
       "A data.frame: 6 × 797\n",
       "\n",
       "| <!--/--> | GW16_PFC1_B2_sc2 &lt;dbl&gt; | GW16_PFC1_B2_sc4 &lt;dbl&gt; | GW16_PFC1_B2_sc5 &lt;dbl&gt; | GW16_PFC1_B2_sc6 &lt;dbl&gt; | GW16_PFC1_B2_sc7 &lt;dbl&gt; | GW16_PFC1_B2_sc8 &lt;dbl&gt; | GW16_PFC1_B2_sc9 &lt;dbl&gt; | GW16_PFC1_B2_sc10 &lt;dbl&gt; | GW16_PFC1_B2_sc11 &lt;dbl&gt; | GW16_PFC1_B2_sc12 &lt;dbl&gt; | ⋯ ⋯ | GW16_PFC1_C2_sc7 &lt;dbl&gt; | GW16_PFC1_C2_sc8 &lt;dbl&gt; | GW16_PFC1_C2_sc9 &lt;dbl&gt; | GW16_PFC1_C2_sc10 &lt;dbl&gt; | GW16_PFC1_C2_sc11 &lt;dbl&gt; | GW16_PFC1_C2_sc12 &lt;dbl&gt; | GW16_PFC1_C2_sc13 &lt;dbl&gt; | GW16_PFC1_C2_sc14 &lt;dbl&gt; | GW16_PFC1_C2_sc15 &lt;dbl&gt; | GW16_PFC1_C2_sc16 &lt;dbl&gt; |\n",
       "|---|---|---|---|---|---|---|---|---|---|---|---|---|---|---|---|---|---|---|---|---|---|\n",
       "| A1BG | 0.00 |  0.00 | 0 | 104.77 | 0.00 | 36.09 | 0 | 0 | 0 | 0 | ⋯ |  1.11 | 30.09 | 0.00 | 1.12 | 0 | 0 |  0.00 |  0.00 | 0.0 | 0 |\n",
       "| A1BG-AS1 | 0.00 |  0.00 | 0 |   0.00 | 0.00 |  0.00 | 0 | 0 | 0 | 0 | ⋯ |  0.00 |  0.00 | 0.00 | 0.00 | 0 | 0 |  0.00 |  0.00 | 0.0 | 0 |\n",
       "| A1CF | 0.00 |  0.00 | 0 |   0.00 | 1.28 |  0.00 | 0 | 0 | 0 | 0 | ⋯ |  0.00 |  0.00 | 0.00 | 0.00 | 0 | 0 |  0.00 |  0.00 | 0.0 | 0 |\n",
       "| A2M | 2.03 | 23.07 | 0 |   0.00 | 0.00 |  0.00 | 0 | 0 | 0 | 0 | ⋯ | 62.20 |  0.00 | 2.18 | 1.12 | 0 | 0 | 65.89 | 20.61 | 3.5 | 0 |\n",
       "| A2M-AS1 | 0.00 |  0.00 | 0 |   0.00 | 0.00 |  0.00 | 0 | 0 | 0 | 0 | ⋯ |  0.00 |  0.00 | 0.00 | 0.00 | 0 | 0 |  0.00 |  0.00 | 0.0 | 0 |\n",
       "| A2ML1 | 0.00 |  0.96 | 0 |   0.00 | 0.00 |  0.00 | 0 | 0 | 0 | 0 | ⋯ |  0.00 |  0.00 | 0.00 | 0.00 | 0 | 0 |  0.00 |  0.00 | 0.0 | 0 |\n",
       "\n"
      ],
      "text/plain": [
       "         GW16_PFC1_B2_sc2 GW16_PFC1_B2_sc4 GW16_PFC1_B2_sc5 GW16_PFC1_B2_sc6\n",
       "A1BG     0.00              0.00            0                104.77          \n",
       "A1BG-AS1 0.00              0.00            0                  0.00          \n",
       "A1CF     0.00              0.00            0                  0.00          \n",
       "A2M      2.03             23.07            0                  0.00          \n",
       "A2M-AS1  0.00              0.00            0                  0.00          \n",
       "A2ML1    0.00              0.96            0                  0.00          \n",
       "         GW16_PFC1_B2_sc7 GW16_PFC1_B2_sc8 GW16_PFC1_B2_sc9 GW16_PFC1_B2_sc10\n",
       "A1BG     0.00             36.09            0                0                \n",
       "A1BG-AS1 0.00              0.00            0                0                \n",
       "A1CF     1.28              0.00            0                0                \n",
       "A2M      0.00              0.00            0                0                \n",
       "A2M-AS1  0.00              0.00            0                0                \n",
       "A2ML1    0.00              0.00            0                0                \n",
       "         GW16_PFC1_B2_sc11 GW16_PFC1_B2_sc12 ⋯ GW16_PFC1_C2_sc7\n",
       "A1BG     0                 0                 ⋯  1.11           \n",
       "A1BG-AS1 0                 0                 ⋯  0.00           \n",
       "A1CF     0                 0                 ⋯  0.00           \n",
       "A2M      0                 0                 ⋯ 62.20           \n",
       "A2M-AS1  0                 0                 ⋯  0.00           \n",
       "A2ML1    0                 0                 ⋯  0.00           \n",
       "         GW16_PFC1_C2_sc8 GW16_PFC1_C2_sc9 GW16_PFC1_C2_sc10 GW16_PFC1_C2_sc11\n",
       "A1BG     30.09            0.00             1.12              0                \n",
       "A1BG-AS1  0.00            0.00             0.00              0                \n",
       "A1CF      0.00            0.00             0.00              0                \n",
       "A2M       0.00            2.18             1.12              0                \n",
       "A2M-AS1   0.00            0.00             0.00              0                \n",
       "A2ML1     0.00            0.00             0.00              0                \n",
       "         GW16_PFC1_C2_sc12 GW16_PFC1_C2_sc13 GW16_PFC1_C2_sc14\n",
       "A1BG     0                  0.00              0.00            \n",
       "A1BG-AS1 0                  0.00              0.00            \n",
       "A1CF     0                  0.00              0.00            \n",
       "A2M      0                 65.89             20.61            \n",
       "A2M-AS1  0                  0.00              0.00            \n",
       "A2ML1    0                  0.00              0.00            \n",
       "         GW16_PFC1_C2_sc15 GW16_PFC1_C2_sc16\n",
       "A1BG     0.0               0                \n",
       "A1BG-AS1 0.0               0                \n",
       "A1CF     0.0               0                \n",
       "A2M      3.5               0                \n",
       "A2M-AS1  0.0               0                \n",
       "A2ML1    0.0               0                "
      ]
     },
     "metadata": {},
     "output_type": "display_data"
    },
    {
     "data": {
      "text/html": [
       "<style>\n",
       ".list-inline {list-style: none; margin:0; padding: 0}\n",
       ".list-inline>li {display: inline-block}\n",
       ".list-inline>li:not(:last-child)::after {content: \"\\00b7\"; padding: 0 .5ex}\n",
       "</style>\n",
       "<ol class=list-inline><li>776</li><li>7</li></ol>\n"
      ],
      "text/latex": [
       "\\begin{enumerate*}\n",
       "\\item 776\n",
       "\\item 7\n",
       "\\end{enumerate*}\n"
      ],
      "text/markdown": [
       "1. 776\n",
       "2. 7\n",
       "\n",
       "\n"
      ],
      "text/plain": [
       "[1] 776   7"
      ]
     },
     "metadata": {},
     "output_type": "display_data"
    }
   ],
   "source": [
    "head(expression_16)\n",
    "\n",
    "rownames(expression_16) <- expression_16[,1]\n",
    "expression_16 <- expression_16[,-1]\n",
    "head(expression_16)\n",
    "#expression_16 <- expression_16[,-1]\n",
    "####按细胞类型对表达分组\n",
    "info_16 <- all_info[all_info$week=='GW16',]\n",
    "dim(info_16)\n",
    "####GABA-ADAR1\n",
    "cell_name_GABA <- rownames(info_16)[info_16$cell_types=='GABAergic_neurons']\n",
    "#ADAR''ADARB1''ADARB2''ADARB2-AS1\n",
    "cell_name_GABA <- intersect(colnames(expression_16),cell_name_GABA)\n",
    "adar1_expr_GABA <- expression_16['ADAR',cell_name_GABA]\n",
    "mean_adar1_expr_GABA <- mean(adar1_expr_GABA[adar1_expr_GABA!=0])\n",
    "####neuron-ADAR1\n",
    "cell_name_neuron <- rownames(info_16)[info_16$cell_types=='Neurons']\n",
    "#ADAR''ADARB1''ADARB2''ADARB2-AS1\n",
    "cell_name_neuron <- intersect(colnames(expression_16),cell_name_neuron)\n",
    "adar1_expr_neuron <- expression_16['ADAR',cell_name_neuron]\n",
    "mean_adar1_expr_neuron <- mean(adar1_expr_neuron[adar1_expr_neuron!=0])\n",
    "####OPC-ADAR1\n",
    "cell_name_opc <- rownames(info_16)[info_16$cell_types=='OPC']\n",
    "#ADAR''ADARB1''ADARB2''ADARB2-AS1\n",
    "cell_name_opc <- intersect(colnames(expression_16),cell_name_opc)\n",
    "adar1_expr_opc <- expression_16['ADAR',cell_name_opc]\n",
    "mean_adar1_expr_opc <- mean(adar1_expr_opc[adar1_expr_opc!=0])\n",
    "all_celltype_adar1_16 <- c(mean_adar1_expr_GABA,mean_adar1_expr_neuron,mean_adar1_expr_opc)"
   ]
  },
  {
   "cell_type": "code",
   "execution_count": 18,
   "metadata": {
    "vscode": {
     "languageId": "r"
    }
   },
   "outputs": [],
   "source": [
    "#########PFC样本ADAR家族表达情况\n",
    "#########PFC样本ADAR家族表达情况\n",
    "expression_19 <- data.frame()\n",
    "#for(i in 1:9){\n",
    "    tmp_expression_19_1 <- read.table(\"/disk1/wenqing/tmp_data/PFC_s2/20240425_useful_matrix/GSM2884077_GW19_PFC1.UMI_TPM_no_ERCC.txt\",header=T)\n",
    "    tmp_expression_19_2 <- read.table(\"/disk1/wenqing/tmp_data/PFC_s2/20240425_useful_matrix/GSM2884078_GW19_PFC2.UMI_TPM_no_ERCC.txt\",header=T)\n",
    "    tmp_expression_19_3 <- read.table(\"/disk1/wenqing/tmp_data/PFC_s2/20240425_useful_matrix/GSM2884079_GW19_PFC3.UMI_TPM_no_ERCC.txt\",header=T)\n",
    "\n",
    "    expression_19 <- cbind(tmp_expression_19_1,tmp_expression_19_2,tmp_expression_19_3)\n",
    "\n",
    "#}\n",
    "\n"
   ]
  },
  {
   "cell_type": "code",
   "execution_count": 19,
   "metadata": {
    "vscode": {
     "languageId": "r"
    }
   },
   "outputs": [
    {
     "data": {
      "text/html": [
       "<table class=\"dataframe\">\n",
       "<caption>A data.frame: 6 × 120</caption>\n",
       "<thead>\n",
       "\t<tr><th></th><th scope=col>GW19_PFC1_sc1</th><th scope=col>GW19_PFC1_sc2</th><th scope=col>GW19_PFC1_sc3</th><th scope=col>GW19_PFC1_sc4</th><th scope=col>GW19_PFC1_sc5</th><th scope=col>GW19_PFC1_sc6</th><th scope=col>GW19_PFC1_sc7</th><th scope=col>GW19_PFC1_sc8</th><th scope=col>GW19_PFC1_sc9</th><th scope=col>GW19_PFC1_sc10</th><th scope=col>⋯</th><th scope=col>GW19_PFC1_sc111</th><th scope=col>GW19_PFC1_sc112</th><th scope=col>GW19_PFC1_sc113</th><th scope=col>GW19_PFC1_sc114</th><th scope=col>GW19_PFC1_sc115</th><th scope=col>GW19_PFC1_sc116</th><th scope=col>GW19_PFC1_sc117</th><th scope=col>GW19_PFC1_sc118</th><th scope=col>GW19_PFC1_sc119</th><th scope=col>GW19_PFC1_sc120</th></tr>\n",
       "\t<tr><th></th><th scope=col>&lt;dbl&gt;</th><th scope=col>&lt;dbl&gt;</th><th scope=col>&lt;dbl&gt;</th><th scope=col>&lt;dbl&gt;</th><th scope=col>&lt;dbl&gt;</th><th scope=col>&lt;dbl&gt;</th><th scope=col>&lt;dbl&gt;</th><th scope=col>&lt;dbl&gt;</th><th scope=col>&lt;dbl&gt;</th><th scope=col>&lt;dbl&gt;</th><th scope=col>⋯</th><th scope=col>&lt;dbl&gt;</th><th scope=col>&lt;dbl&gt;</th><th scope=col>&lt;dbl&gt;</th><th scope=col>&lt;dbl&gt;</th><th scope=col>&lt;dbl&gt;</th><th scope=col>&lt;dbl&gt;</th><th scope=col>&lt;dbl&gt;</th><th scope=col>&lt;dbl&gt;</th><th scope=col>&lt;dbl&gt;</th><th scope=col>&lt;dbl&gt;</th></tr>\n",
       "</thead>\n",
       "<tbody>\n",
       "\t<tr><th scope=row>A1BG</th><td>0</td><td>0</td><td>0</td><td>0</td><td>0</td><td>0</td><td>0</td><td>0</td><td>0</td><td>565.34</td><td>⋯</td><td>0.00</td><td>0</td><td>0</td><td>  0.00</td><td>0</td><td>0.00</td><td>0</td><td>0</td><td>0</td><td>0</td></tr>\n",
       "\t<tr><th scope=row>A1BG-AS1</th><td>0</td><td>0</td><td>0</td><td>0</td><td>0</td><td>0</td><td>0</td><td>0</td><td>0</td><td>  0.00</td><td>⋯</td><td>0.00</td><td>0</td><td>0</td><td>  0.00</td><td>0</td><td>0.00</td><td>0</td><td>0</td><td>0</td><td>0</td></tr>\n",
       "\t<tr><th scope=row>A1CF</th><td>0</td><td>0</td><td>0</td><td>0</td><td>0</td><td>0</td><td>0</td><td>0</td><td>0</td><td>  0.00</td><td>⋯</td><td>0.00</td><td>0</td><td>0</td><td>227.77</td><td>0</td><td>5.63</td><td>0</td><td>0</td><td>0</td><td>0</td></tr>\n",
       "\t<tr><th scope=row>A2M</th><td>0</td><td>0</td><td>0</td><td>0</td><td>0</td><td>0</td><td>0</td><td>0</td><td>0</td><td>  0.00</td><td>⋯</td><td>0.00</td><td>0</td><td>0</td><td>  0.00</td><td>0</td><td>0.00</td><td>0</td><td>0</td><td>0</td><td>0</td></tr>\n",
       "\t<tr><th scope=row>A2M-AS1</th><td>0</td><td>0</td><td>0</td><td>0</td><td>0</td><td>0</td><td>0</td><td>0</td><td>0</td><td>  0.00</td><td>⋯</td><td>0.00</td><td>0</td><td>0</td><td>  0.00</td><td>0</td><td>0.00</td><td>0</td><td>0</td><td>0</td><td>0</td></tr>\n",
       "\t<tr><th scope=row>A2ML1</th><td>0</td><td>0</td><td>0</td><td>0</td><td>0</td><td>0</td><td>0</td><td>0</td><td>0</td><td>  0.00</td><td>⋯</td><td>4.94</td><td>0</td><td>0</td><td>  0.00</td><td>0</td><td>0.00</td><td>0</td><td>0</td><td>0</td><td>0</td></tr>\n",
       "</tbody>\n",
       "</table>\n"
      ],
      "text/latex": [
       "A data.frame: 6 × 120\n",
       "\\begin{tabular}{r|lllllllllllllllllllll}\n",
       "  & GW19\\_PFC1\\_sc1 & GW19\\_PFC1\\_sc2 & GW19\\_PFC1\\_sc3 & GW19\\_PFC1\\_sc4 & GW19\\_PFC1\\_sc5 & GW19\\_PFC1\\_sc6 & GW19\\_PFC1\\_sc7 & GW19\\_PFC1\\_sc8 & GW19\\_PFC1\\_sc9 & GW19\\_PFC1\\_sc10 & ⋯ & GW19\\_PFC1\\_sc111 & GW19\\_PFC1\\_sc112 & GW19\\_PFC1\\_sc113 & GW19\\_PFC1\\_sc114 & GW19\\_PFC1\\_sc115 & GW19\\_PFC1\\_sc116 & GW19\\_PFC1\\_sc117 & GW19\\_PFC1\\_sc118 & GW19\\_PFC1\\_sc119 & GW19\\_PFC1\\_sc120\\\\\n",
       "  & <dbl> & <dbl> & <dbl> & <dbl> & <dbl> & <dbl> & <dbl> & <dbl> & <dbl> & <dbl> & ⋯ & <dbl> & <dbl> & <dbl> & <dbl> & <dbl> & <dbl> & <dbl> & <dbl> & <dbl> & <dbl>\\\\\n",
       "\\hline\n",
       "\tA1BG & 0 & 0 & 0 & 0 & 0 & 0 & 0 & 0 & 0 & 565.34 & ⋯ & 0.00 & 0 & 0 &   0.00 & 0 & 0.00 & 0 & 0 & 0 & 0\\\\\n",
       "\tA1BG-AS1 & 0 & 0 & 0 & 0 & 0 & 0 & 0 & 0 & 0 &   0.00 & ⋯ & 0.00 & 0 & 0 &   0.00 & 0 & 0.00 & 0 & 0 & 0 & 0\\\\\n",
       "\tA1CF & 0 & 0 & 0 & 0 & 0 & 0 & 0 & 0 & 0 &   0.00 & ⋯ & 0.00 & 0 & 0 & 227.77 & 0 & 5.63 & 0 & 0 & 0 & 0\\\\\n",
       "\tA2M & 0 & 0 & 0 & 0 & 0 & 0 & 0 & 0 & 0 &   0.00 & ⋯ & 0.00 & 0 & 0 &   0.00 & 0 & 0.00 & 0 & 0 & 0 & 0\\\\\n",
       "\tA2M-AS1 & 0 & 0 & 0 & 0 & 0 & 0 & 0 & 0 & 0 &   0.00 & ⋯ & 0.00 & 0 & 0 &   0.00 & 0 & 0.00 & 0 & 0 & 0 & 0\\\\\n",
       "\tA2ML1 & 0 & 0 & 0 & 0 & 0 & 0 & 0 & 0 & 0 &   0.00 & ⋯ & 4.94 & 0 & 0 &   0.00 & 0 & 0.00 & 0 & 0 & 0 & 0\\\\\n",
       "\\end{tabular}\n"
      ],
      "text/markdown": [
       "\n",
       "A data.frame: 6 × 120\n",
       "\n",
       "| <!--/--> | GW19_PFC1_sc1 &lt;dbl&gt; | GW19_PFC1_sc2 &lt;dbl&gt; | GW19_PFC1_sc3 &lt;dbl&gt; | GW19_PFC1_sc4 &lt;dbl&gt; | GW19_PFC1_sc5 &lt;dbl&gt; | GW19_PFC1_sc6 &lt;dbl&gt; | GW19_PFC1_sc7 &lt;dbl&gt; | GW19_PFC1_sc8 &lt;dbl&gt; | GW19_PFC1_sc9 &lt;dbl&gt; | GW19_PFC1_sc10 &lt;dbl&gt; | ⋯ ⋯ | GW19_PFC1_sc111 &lt;dbl&gt; | GW19_PFC1_sc112 &lt;dbl&gt; | GW19_PFC1_sc113 &lt;dbl&gt; | GW19_PFC1_sc114 &lt;dbl&gt; | GW19_PFC1_sc115 &lt;dbl&gt; | GW19_PFC1_sc116 &lt;dbl&gt; | GW19_PFC1_sc117 &lt;dbl&gt; | GW19_PFC1_sc118 &lt;dbl&gt; | GW19_PFC1_sc119 &lt;dbl&gt; | GW19_PFC1_sc120 &lt;dbl&gt; |\n",
       "|---|---|---|---|---|---|---|---|---|---|---|---|---|---|---|---|---|---|---|---|---|---|\n",
       "| A1BG | 0 | 0 | 0 | 0 | 0 | 0 | 0 | 0 | 0 | 565.34 | ⋯ | 0.00 | 0 | 0 |   0.00 | 0 | 0.00 | 0 | 0 | 0 | 0 |\n",
       "| A1BG-AS1 | 0 | 0 | 0 | 0 | 0 | 0 | 0 | 0 | 0 |   0.00 | ⋯ | 0.00 | 0 | 0 |   0.00 | 0 | 0.00 | 0 | 0 | 0 | 0 |\n",
       "| A1CF | 0 | 0 | 0 | 0 | 0 | 0 | 0 | 0 | 0 |   0.00 | ⋯ | 0.00 | 0 | 0 | 227.77 | 0 | 5.63 | 0 | 0 | 0 | 0 |\n",
       "| A2M | 0 | 0 | 0 | 0 | 0 | 0 | 0 | 0 | 0 |   0.00 | ⋯ | 0.00 | 0 | 0 |   0.00 | 0 | 0.00 | 0 | 0 | 0 | 0 |\n",
       "| A2M-AS1 | 0 | 0 | 0 | 0 | 0 | 0 | 0 | 0 | 0 |   0.00 | ⋯ | 0.00 | 0 | 0 |   0.00 | 0 | 0.00 | 0 | 0 | 0 | 0 |\n",
       "| A2ML1 | 0 | 0 | 0 | 0 | 0 | 0 | 0 | 0 | 0 |   0.00 | ⋯ | 4.94 | 0 | 0 |   0.00 | 0 | 0.00 | 0 | 0 | 0 | 0 |\n",
       "\n"
      ],
      "text/plain": [
       "         GW19_PFC1_sc1 GW19_PFC1_sc2 GW19_PFC1_sc3 GW19_PFC1_sc4 GW19_PFC1_sc5\n",
       "A1BG     0             0             0             0             0            \n",
       "A1BG-AS1 0             0             0             0             0            \n",
       "A1CF     0             0             0             0             0            \n",
       "A2M      0             0             0             0             0            \n",
       "A2M-AS1  0             0             0             0             0            \n",
       "A2ML1    0             0             0             0             0            \n",
       "         GW19_PFC1_sc6 GW19_PFC1_sc7 GW19_PFC1_sc8 GW19_PFC1_sc9 GW19_PFC1_sc10\n",
       "A1BG     0             0             0             0             565.34        \n",
       "A1BG-AS1 0             0             0             0               0.00        \n",
       "A1CF     0             0             0             0               0.00        \n",
       "A2M      0             0             0             0               0.00        \n",
       "A2M-AS1  0             0             0             0               0.00        \n",
       "A2ML1    0             0             0             0               0.00        \n",
       "         ⋯ GW19_PFC1_sc111 GW19_PFC1_sc112 GW19_PFC1_sc113 GW19_PFC1_sc114\n",
       "A1BG     ⋯ 0.00            0               0                 0.00         \n",
       "A1BG-AS1 ⋯ 0.00            0               0                 0.00         \n",
       "A1CF     ⋯ 0.00            0               0               227.77         \n",
       "A2M      ⋯ 0.00            0               0                 0.00         \n",
       "A2M-AS1  ⋯ 0.00            0               0                 0.00         \n",
       "A2ML1    ⋯ 4.94            0               0                 0.00         \n",
       "         GW19_PFC1_sc115 GW19_PFC1_sc116 GW19_PFC1_sc117 GW19_PFC1_sc118\n",
       "A1BG     0               0.00            0               0              \n",
       "A1BG-AS1 0               0.00            0               0              \n",
       "A1CF     0               5.63            0               0              \n",
       "A2M      0               0.00            0               0              \n",
       "A2M-AS1  0               0.00            0               0              \n",
       "A2ML1    0               0.00            0               0              \n",
       "         GW19_PFC1_sc119 GW19_PFC1_sc120\n",
       "A1BG     0               0              \n",
       "A1BG-AS1 0               0              \n",
       "A1CF     0               0              \n",
       "A2M      0               0              \n",
       "A2M-AS1  0               0              \n",
       "A2ML1    0               0              "
      ]
     },
     "metadata": {},
     "output_type": "display_data"
    },
    {
     "data": {
      "text/html": [
       "<style>\n",
       ".list-inline {list-style: none; margin:0; padding: 0}\n",
       ".list-inline>li {display: inline-block}\n",
       ".list-inline>li:not(:last-child)::after {content: \"\\00b7\"; padding: 0 .5ex}\n",
       "</style>\n",
       "<ol class=list-inline><li>120</li><li>7</li></ol>\n"
      ],
      "text/latex": [
       "\\begin{enumerate*}\n",
       "\\item 120\n",
       "\\item 7\n",
       "\\end{enumerate*}\n"
      ],
      "text/markdown": [
       "1. 120\n",
       "2. 7\n",
       "\n",
       "\n"
      ],
      "text/plain": [
       "[1] 120   7"
      ]
     },
     "metadata": {},
     "output_type": "display_data"
    }
   ],
   "source": [
    "\n",
    "rownames(expression_19) <- expression_19[,1]\n",
    "expression_19 <- expression_19[,-1]\n",
    "head(expression_19)\n",
    "#expression_19 <- expression_19[,-1]\n",
    "####按细胞类型对表达分组\n",
    "info_19 <- all_info[all_info$week=='GW19',]\n",
    "dim(info_19)\n",
    "####GABA-ADAR1\n",
    "cell_name_GABA <- rownames(info_19)[info_19$cell_types=='GABAergic_neurons']\n",
    "#ADAR''ADARB1''ADARB2''ADARB2-AS1\n",
    "cell_name_GABA <- intersect(colnames(expression_19),cell_name_GABA)\n",
    "adar1_expr_GABA <- expression_19['ADAR',cell_name_GABA]\n",
    "mean_adar1_expr_GABA <- mean(adar1_expr_GABA[adar1_expr_GABA!=0])\n",
    "####neuron-ADAR1\n",
    "cell_name_neuron <- rownames(info_19)[info_19$cell_types=='Neurons']\n",
    "#ADAR''ADARB1''ADARB2''ADARB2-AS1\n",
    "cell_name_neuron <- intersect(colnames(expression_19),cell_name_neuron)\n",
    "adar1_expr_neuron <- expression_19['ADAR',cell_name_neuron]\n",
    "mean_adar1_expr_neuron <- mean(adar1_expr_neuron[adar1_expr_neuron!=0])\n",
    "####OPC-ADAR1\n",
    "cell_name_opc <- rownames(info_19)[info_19$cell_types=='OPC']\n",
    "#ADAR''ADARB1''ADARB2''ADARB2-AS1\n",
    "cell_name_opc <- intersect(colnames(expression_19),cell_name_opc)\n",
    "adar1_expr_opc <- expression_19['ADAR',cell_name_opc]\n",
    "mean_adar1_expr_opc <- mean(adar1_expr_opc[adar1_expr_opc!=0])\n",
    "all_celltype_adar1_19 <- c(mean_adar1_expr_GABA,mean_adar1_expr_neuron,mean_adar1_expr_opc)"
   ]
  },
  {
   "cell_type": "code",
   "execution_count": 20,
   "metadata": {
    "vscode": {
     "languageId": "r"
    }
   },
   "outputs": [
    {
     "data": {
      "text/html": [
       "<table class=\"dataframe\">\n",
       "<caption>A data.frame: 6 × 80</caption>\n",
       "<thead>\n",
       "\t<tr><th></th><th scope=col>Gene</th><th scope=col>GW26_PFC1_K1_sc2</th><th scope=col>GW26_PFC1_K1_sc3</th><th scope=col>GW26_PFC1_K1_sc4</th><th scope=col>GW26_PFC1_K1_sc5</th><th scope=col>GW26_PFC1_K1_sc6</th><th scope=col>GW26_PFC1_K1_sc7</th><th scope=col>GW26_PFC1_K1_sc8</th><th scope=col>GW26_PFC1_K1_sc9</th><th scope=col>GW26_PFC1_K1_sc10</th><th scope=col>⋯</th><th scope=col>GW26_PFC1_R1_sc7</th><th scope=col>GW26_PFC1_R1_sc8</th><th scope=col>GW26_PFC1_R1_sc9</th><th scope=col>GW26_PFC1_R1_sc10</th><th scope=col>GW26_PFC1_R1_sc11</th><th scope=col>GW26_PFC1_R1_sc12</th><th scope=col>GW26_PFC1_R1_sc13</th><th scope=col>GW26_PFC1_R1_sc14</th><th scope=col>GW26_PFC1_R1_sc15</th><th scope=col>GW26_PFC1_R1_sc16</th></tr>\n",
       "\t<tr><th></th><th scope=col>&lt;chr&gt;</th><th scope=col>&lt;dbl&gt;</th><th scope=col>&lt;dbl&gt;</th><th scope=col>&lt;dbl&gt;</th><th scope=col>&lt;dbl&gt;</th><th scope=col>&lt;dbl&gt;</th><th scope=col>&lt;dbl&gt;</th><th scope=col>&lt;dbl&gt;</th><th scope=col>&lt;dbl&gt;</th><th scope=col>&lt;dbl&gt;</th><th scope=col>⋯</th><th scope=col>&lt;dbl&gt;</th><th scope=col>&lt;dbl&gt;</th><th scope=col>&lt;dbl&gt;</th><th scope=col>&lt;dbl&gt;</th><th scope=col>&lt;dbl&gt;</th><th scope=col>&lt;dbl&gt;</th><th scope=col>&lt;dbl&gt;</th><th scope=col>&lt;dbl&gt;</th><th scope=col>&lt;dbl&gt;</th><th scope=col>&lt;dbl&gt;</th></tr>\n",
       "</thead>\n",
       "<tbody>\n",
       "\t<tr><th scope=row>1</th><td>A1BG    </td><td>0</td><td>0</td><td>0.00</td><td>0</td><td>  0.00</td><td>0.00</td><td>0</td><td>0</td><td>0</td><td>⋯</td><td>21.21</td><td>0</td><td>0</td><td>0</td><td>0</td><td>0</td><td>0</td><td>0</td><td>0</td><td> 0.00</td></tr>\n",
       "\t<tr><th scope=row>2</th><td>A1BG-AS1</td><td>0</td><td>0</td><td>0.00</td><td>0</td><td>  0.00</td><td>0.00</td><td>0</td><td>0</td><td>0</td><td>⋯</td><td> 0.00</td><td>0</td><td>0</td><td>0</td><td>0</td><td>0</td><td>0</td><td>0</td><td>0</td><td> 0.00</td></tr>\n",
       "\t<tr><th scope=row>3</th><td>A1CF    </td><td>0</td><td>0</td><td>0.00</td><td>0</td><td>  0.00</td><td>0.00</td><td>0</td><td>0</td><td>0</td><td>⋯</td><td> 0.00</td><td>0</td><td>0</td><td>0</td><td>0</td><td>0</td><td>0</td><td>0</td><td>0</td><td> 0.00</td></tr>\n",
       "\t<tr><th scope=row>4</th><td>A2M     </td><td>0</td><td>0</td><td>8.76</td><td>0</td><td>  0.00</td><td>2.74</td><td>0</td><td>0</td><td>0</td><td>⋯</td><td> 0.00</td><td>0</td><td>0</td><td>0</td><td>0</td><td>0</td><td>0</td><td>0</td><td>0</td><td>72.17</td></tr>\n",
       "\t<tr><th scope=row>5</th><td>A2M-AS1 </td><td>0</td><td>0</td><td>0.00</td><td>0</td><td>128.58</td><td>0.00</td><td>0</td><td>0</td><td>0</td><td>⋯</td><td> 0.00</td><td>0</td><td>0</td><td>0</td><td>0</td><td>0</td><td>0</td><td>0</td><td>0</td><td> 0.00</td></tr>\n",
       "\t<tr><th scope=row>6</th><td>A2ML1   </td><td>0</td><td>0</td><td>0.00</td><td>0</td><td>  0.00</td><td>0.00</td><td>0</td><td>0</td><td>0</td><td>⋯</td><td> 0.00</td><td>0</td><td>0</td><td>0</td><td>0</td><td>0</td><td>0</td><td>0</td><td>0</td><td> 0.00</td></tr>\n",
       "</tbody>\n",
       "</table>\n"
      ],
      "text/latex": [
       "A data.frame: 6 × 80\n",
       "\\begin{tabular}{r|lllllllllllllllllllll}\n",
       "  & Gene & GW26\\_PFC1\\_K1\\_sc2 & GW26\\_PFC1\\_K1\\_sc3 & GW26\\_PFC1\\_K1\\_sc4 & GW26\\_PFC1\\_K1\\_sc5 & GW26\\_PFC1\\_K1\\_sc6 & GW26\\_PFC1\\_K1\\_sc7 & GW26\\_PFC1\\_K1\\_sc8 & GW26\\_PFC1\\_K1\\_sc9 & GW26\\_PFC1\\_K1\\_sc10 & ⋯ & GW26\\_PFC1\\_R1\\_sc7 & GW26\\_PFC1\\_R1\\_sc8 & GW26\\_PFC1\\_R1\\_sc9 & GW26\\_PFC1\\_R1\\_sc10 & GW26\\_PFC1\\_R1\\_sc11 & GW26\\_PFC1\\_R1\\_sc12 & GW26\\_PFC1\\_R1\\_sc13 & GW26\\_PFC1\\_R1\\_sc14 & GW26\\_PFC1\\_R1\\_sc15 & GW26\\_PFC1\\_R1\\_sc16\\\\\n",
       "  & <chr> & <dbl> & <dbl> & <dbl> & <dbl> & <dbl> & <dbl> & <dbl> & <dbl> & <dbl> & ⋯ & <dbl> & <dbl> & <dbl> & <dbl> & <dbl> & <dbl> & <dbl> & <dbl> & <dbl> & <dbl>\\\\\n",
       "\\hline\n",
       "\t1 & A1BG     & 0 & 0 & 0.00 & 0 &   0.00 & 0.00 & 0 & 0 & 0 & ⋯ & 21.21 & 0 & 0 & 0 & 0 & 0 & 0 & 0 & 0 &  0.00\\\\\n",
       "\t2 & A1BG-AS1 & 0 & 0 & 0.00 & 0 &   0.00 & 0.00 & 0 & 0 & 0 & ⋯ &  0.00 & 0 & 0 & 0 & 0 & 0 & 0 & 0 & 0 &  0.00\\\\\n",
       "\t3 & A1CF     & 0 & 0 & 0.00 & 0 &   0.00 & 0.00 & 0 & 0 & 0 & ⋯ &  0.00 & 0 & 0 & 0 & 0 & 0 & 0 & 0 & 0 &  0.00\\\\\n",
       "\t4 & A2M      & 0 & 0 & 8.76 & 0 &   0.00 & 2.74 & 0 & 0 & 0 & ⋯ &  0.00 & 0 & 0 & 0 & 0 & 0 & 0 & 0 & 0 & 72.17\\\\\n",
       "\t5 & A2M-AS1  & 0 & 0 & 0.00 & 0 & 128.58 & 0.00 & 0 & 0 & 0 & ⋯ &  0.00 & 0 & 0 & 0 & 0 & 0 & 0 & 0 & 0 &  0.00\\\\\n",
       "\t6 & A2ML1    & 0 & 0 & 0.00 & 0 &   0.00 & 0.00 & 0 & 0 & 0 & ⋯ &  0.00 & 0 & 0 & 0 & 0 & 0 & 0 & 0 & 0 &  0.00\\\\\n",
       "\\end{tabular}\n"
      ],
      "text/markdown": [
       "\n",
       "A data.frame: 6 × 80\n",
       "\n",
       "| <!--/--> | Gene &lt;chr&gt; | GW26_PFC1_K1_sc2 &lt;dbl&gt; | GW26_PFC1_K1_sc3 &lt;dbl&gt; | GW26_PFC1_K1_sc4 &lt;dbl&gt; | GW26_PFC1_K1_sc5 &lt;dbl&gt; | GW26_PFC1_K1_sc6 &lt;dbl&gt; | GW26_PFC1_K1_sc7 &lt;dbl&gt; | GW26_PFC1_K1_sc8 &lt;dbl&gt; | GW26_PFC1_K1_sc9 &lt;dbl&gt; | GW26_PFC1_K1_sc10 &lt;dbl&gt; | ⋯ ⋯ | GW26_PFC1_R1_sc7 &lt;dbl&gt; | GW26_PFC1_R1_sc8 &lt;dbl&gt; | GW26_PFC1_R1_sc9 &lt;dbl&gt; | GW26_PFC1_R1_sc10 &lt;dbl&gt; | GW26_PFC1_R1_sc11 &lt;dbl&gt; | GW26_PFC1_R1_sc12 &lt;dbl&gt; | GW26_PFC1_R1_sc13 &lt;dbl&gt; | GW26_PFC1_R1_sc14 &lt;dbl&gt; | GW26_PFC1_R1_sc15 &lt;dbl&gt; | GW26_PFC1_R1_sc16 &lt;dbl&gt; |\n",
       "|---|---|---|---|---|---|---|---|---|---|---|---|---|---|---|---|---|---|---|---|---|---|\n",
       "| 1 | A1BG     | 0 | 0 | 0.00 | 0 |   0.00 | 0.00 | 0 | 0 | 0 | ⋯ | 21.21 | 0 | 0 | 0 | 0 | 0 | 0 | 0 | 0 |  0.00 |\n",
       "| 2 | A1BG-AS1 | 0 | 0 | 0.00 | 0 |   0.00 | 0.00 | 0 | 0 | 0 | ⋯ |  0.00 | 0 | 0 | 0 | 0 | 0 | 0 | 0 | 0 |  0.00 |\n",
       "| 3 | A1CF     | 0 | 0 | 0.00 | 0 |   0.00 | 0.00 | 0 | 0 | 0 | ⋯ |  0.00 | 0 | 0 | 0 | 0 | 0 | 0 | 0 | 0 |  0.00 |\n",
       "| 4 | A2M      | 0 | 0 | 8.76 | 0 |   0.00 | 2.74 | 0 | 0 | 0 | ⋯ |  0.00 | 0 | 0 | 0 | 0 | 0 | 0 | 0 | 0 | 72.17 |\n",
       "| 5 | A2M-AS1  | 0 | 0 | 0.00 | 0 | 128.58 | 0.00 | 0 | 0 | 0 | ⋯ |  0.00 | 0 | 0 | 0 | 0 | 0 | 0 | 0 | 0 |  0.00 |\n",
       "| 6 | A2ML1    | 0 | 0 | 0.00 | 0 |   0.00 | 0.00 | 0 | 0 | 0 | ⋯ |  0.00 | 0 | 0 | 0 | 0 | 0 | 0 | 0 | 0 |  0.00 |\n",
       "\n"
      ],
      "text/plain": [
       "  Gene     GW26_PFC1_K1_sc2 GW26_PFC1_K1_sc3 GW26_PFC1_K1_sc4 GW26_PFC1_K1_sc5\n",
       "1 A1BG     0                0                0.00             0               \n",
       "2 A1BG-AS1 0                0                0.00             0               \n",
       "3 A1CF     0                0                0.00             0               \n",
       "4 A2M      0                0                8.76             0               \n",
       "5 A2M-AS1  0                0                0.00             0               \n",
       "6 A2ML1    0                0                0.00             0               \n",
       "  GW26_PFC1_K1_sc6 GW26_PFC1_K1_sc7 GW26_PFC1_K1_sc8 GW26_PFC1_K1_sc9\n",
       "1   0.00           0.00             0                0               \n",
       "2   0.00           0.00             0                0               \n",
       "3   0.00           0.00             0                0               \n",
       "4   0.00           2.74             0                0               \n",
       "5 128.58           0.00             0                0               \n",
       "6   0.00           0.00             0                0               \n",
       "  GW26_PFC1_K1_sc10 ⋯ GW26_PFC1_R1_sc7 GW26_PFC1_R1_sc8 GW26_PFC1_R1_sc9\n",
       "1 0                 ⋯ 21.21            0                0               \n",
       "2 0                 ⋯  0.00            0                0               \n",
       "3 0                 ⋯  0.00            0                0               \n",
       "4 0                 ⋯  0.00            0                0               \n",
       "5 0                 ⋯  0.00            0                0               \n",
       "6 0                 ⋯  0.00            0                0               \n",
       "  GW26_PFC1_R1_sc10 GW26_PFC1_R1_sc11 GW26_PFC1_R1_sc12 GW26_PFC1_R1_sc13\n",
       "1 0                 0                 0                 0                \n",
       "2 0                 0                 0                 0                \n",
       "3 0                 0                 0                 0                \n",
       "4 0                 0                 0                 0                \n",
       "5 0                 0                 0                 0                \n",
       "6 0                 0                 0                 0                \n",
       "  GW26_PFC1_R1_sc14 GW26_PFC1_R1_sc15 GW26_PFC1_R1_sc16\n",
       "1 0                 0                  0.00            \n",
       "2 0                 0                  0.00            \n",
       "3 0                 0                  0.00            \n",
       "4 0                 0                 72.17            \n",
       "5 0                 0                  0.00            \n",
       "6 0                 0                  0.00            "
      ]
     },
     "metadata": {},
     "output_type": "display_data"
    },
    {
     "data": {
      "text/html": [
       "<table class=\"dataframe\">\n",
       "<caption>A data.frame: 6 × 79</caption>\n",
       "<thead>\n",
       "\t<tr><th></th><th scope=col>GW26_PFC1_K1_sc2</th><th scope=col>GW26_PFC1_K1_sc3</th><th scope=col>GW26_PFC1_K1_sc4</th><th scope=col>GW26_PFC1_K1_sc5</th><th scope=col>GW26_PFC1_K1_sc6</th><th scope=col>GW26_PFC1_K1_sc7</th><th scope=col>GW26_PFC1_K1_sc8</th><th scope=col>GW26_PFC1_K1_sc9</th><th scope=col>GW26_PFC1_K1_sc10</th><th scope=col>GW26_PFC1_K1_sc11</th><th scope=col>⋯</th><th scope=col>GW26_PFC1_R1_sc7</th><th scope=col>GW26_PFC1_R1_sc8</th><th scope=col>GW26_PFC1_R1_sc9</th><th scope=col>GW26_PFC1_R1_sc10</th><th scope=col>GW26_PFC1_R1_sc11</th><th scope=col>GW26_PFC1_R1_sc12</th><th scope=col>GW26_PFC1_R1_sc13</th><th scope=col>GW26_PFC1_R1_sc14</th><th scope=col>GW26_PFC1_R1_sc15</th><th scope=col>GW26_PFC1_R1_sc16</th></tr>\n",
       "\t<tr><th></th><th scope=col>&lt;dbl&gt;</th><th scope=col>&lt;dbl&gt;</th><th scope=col>&lt;dbl&gt;</th><th scope=col>&lt;dbl&gt;</th><th scope=col>&lt;dbl&gt;</th><th scope=col>&lt;dbl&gt;</th><th scope=col>&lt;dbl&gt;</th><th scope=col>&lt;dbl&gt;</th><th scope=col>&lt;dbl&gt;</th><th scope=col>&lt;dbl&gt;</th><th scope=col>⋯</th><th scope=col>&lt;dbl&gt;</th><th scope=col>&lt;dbl&gt;</th><th scope=col>&lt;dbl&gt;</th><th scope=col>&lt;dbl&gt;</th><th scope=col>&lt;dbl&gt;</th><th scope=col>&lt;dbl&gt;</th><th scope=col>&lt;dbl&gt;</th><th scope=col>&lt;dbl&gt;</th><th scope=col>&lt;dbl&gt;</th><th scope=col>&lt;dbl&gt;</th></tr>\n",
       "</thead>\n",
       "<tbody>\n",
       "\t<tr><th scope=row>A1BG</th><td>0</td><td>0</td><td>0.00</td><td>0</td><td>  0.00</td><td>0.00</td><td>0</td><td>0</td><td>0</td><td>0</td><td>⋯</td><td>21.21</td><td>0</td><td>0</td><td>0</td><td>0</td><td>0</td><td>0</td><td>0</td><td>0</td><td> 0.00</td></tr>\n",
       "\t<tr><th scope=row>A1BG-AS1</th><td>0</td><td>0</td><td>0.00</td><td>0</td><td>  0.00</td><td>0.00</td><td>0</td><td>0</td><td>0</td><td>0</td><td>⋯</td><td> 0.00</td><td>0</td><td>0</td><td>0</td><td>0</td><td>0</td><td>0</td><td>0</td><td>0</td><td> 0.00</td></tr>\n",
       "\t<tr><th scope=row>A1CF</th><td>0</td><td>0</td><td>0.00</td><td>0</td><td>  0.00</td><td>0.00</td><td>0</td><td>0</td><td>0</td><td>0</td><td>⋯</td><td> 0.00</td><td>0</td><td>0</td><td>0</td><td>0</td><td>0</td><td>0</td><td>0</td><td>0</td><td> 0.00</td></tr>\n",
       "\t<tr><th scope=row>A2M</th><td>0</td><td>0</td><td>8.76</td><td>0</td><td>  0.00</td><td>2.74</td><td>0</td><td>0</td><td>0</td><td>0</td><td>⋯</td><td> 0.00</td><td>0</td><td>0</td><td>0</td><td>0</td><td>0</td><td>0</td><td>0</td><td>0</td><td>72.17</td></tr>\n",
       "\t<tr><th scope=row>A2M-AS1</th><td>0</td><td>0</td><td>0.00</td><td>0</td><td>128.58</td><td>0.00</td><td>0</td><td>0</td><td>0</td><td>0</td><td>⋯</td><td> 0.00</td><td>0</td><td>0</td><td>0</td><td>0</td><td>0</td><td>0</td><td>0</td><td>0</td><td> 0.00</td></tr>\n",
       "\t<tr><th scope=row>A2ML1</th><td>0</td><td>0</td><td>0.00</td><td>0</td><td>  0.00</td><td>0.00</td><td>0</td><td>0</td><td>0</td><td>0</td><td>⋯</td><td> 0.00</td><td>0</td><td>0</td><td>0</td><td>0</td><td>0</td><td>0</td><td>0</td><td>0</td><td> 0.00</td></tr>\n",
       "</tbody>\n",
       "</table>\n"
      ],
      "text/latex": [
       "A data.frame: 6 × 79\n",
       "\\begin{tabular}{r|lllllllllllllllllllll}\n",
       "  & GW26\\_PFC1\\_K1\\_sc2 & GW26\\_PFC1\\_K1\\_sc3 & GW26\\_PFC1\\_K1\\_sc4 & GW26\\_PFC1\\_K1\\_sc5 & GW26\\_PFC1\\_K1\\_sc6 & GW26\\_PFC1\\_K1\\_sc7 & GW26\\_PFC1\\_K1\\_sc8 & GW26\\_PFC1\\_K1\\_sc9 & GW26\\_PFC1\\_K1\\_sc10 & GW26\\_PFC1\\_K1\\_sc11 & ⋯ & GW26\\_PFC1\\_R1\\_sc7 & GW26\\_PFC1\\_R1\\_sc8 & GW26\\_PFC1\\_R1\\_sc9 & GW26\\_PFC1\\_R1\\_sc10 & GW26\\_PFC1\\_R1\\_sc11 & GW26\\_PFC1\\_R1\\_sc12 & GW26\\_PFC1\\_R1\\_sc13 & GW26\\_PFC1\\_R1\\_sc14 & GW26\\_PFC1\\_R1\\_sc15 & GW26\\_PFC1\\_R1\\_sc16\\\\\n",
       "  & <dbl> & <dbl> & <dbl> & <dbl> & <dbl> & <dbl> & <dbl> & <dbl> & <dbl> & <dbl> & ⋯ & <dbl> & <dbl> & <dbl> & <dbl> & <dbl> & <dbl> & <dbl> & <dbl> & <dbl> & <dbl>\\\\\n",
       "\\hline\n",
       "\tA1BG & 0 & 0 & 0.00 & 0 &   0.00 & 0.00 & 0 & 0 & 0 & 0 & ⋯ & 21.21 & 0 & 0 & 0 & 0 & 0 & 0 & 0 & 0 &  0.00\\\\\n",
       "\tA1BG-AS1 & 0 & 0 & 0.00 & 0 &   0.00 & 0.00 & 0 & 0 & 0 & 0 & ⋯ &  0.00 & 0 & 0 & 0 & 0 & 0 & 0 & 0 & 0 &  0.00\\\\\n",
       "\tA1CF & 0 & 0 & 0.00 & 0 &   0.00 & 0.00 & 0 & 0 & 0 & 0 & ⋯ &  0.00 & 0 & 0 & 0 & 0 & 0 & 0 & 0 & 0 &  0.00\\\\\n",
       "\tA2M & 0 & 0 & 8.76 & 0 &   0.00 & 2.74 & 0 & 0 & 0 & 0 & ⋯ &  0.00 & 0 & 0 & 0 & 0 & 0 & 0 & 0 & 0 & 72.17\\\\\n",
       "\tA2M-AS1 & 0 & 0 & 0.00 & 0 & 128.58 & 0.00 & 0 & 0 & 0 & 0 & ⋯ &  0.00 & 0 & 0 & 0 & 0 & 0 & 0 & 0 & 0 &  0.00\\\\\n",
       "\tA2ML1 & 0 & 0 & 0.00 & 0 &   0.00 & 0.00 & 0 & 0 & 0 & 0 & ⋯ &  0.00 & 0 & 0 & 0 & 0 & 0 & 0 & 0 & 0 &  0.00\\\\\n",
       "\\end{tabular}\n"
      ],
      "text/markdown": [
       "\n",
       "A data.frame: 6 × 79\n",
       "\n",
       "| <!--/--> | GW26_PFC1_K1_sc2 &lt;dbl&gt; | GW26_PFC1_K1_sc3 &lt;dbl&gt; | GW26_PFC1_K1_sc4 &lt;dbl&gt; | GW26_PFC1_K1_sc5 &lt;dbl&gt; | GW26_PFC1_K1_sc6 &lt;dbl&gt; | GW26_PFC1_K1_sc7 &lt;dbl&gt; | GW26_PFC1_K1_sc8 &lt;dbl&gt; | GW26_PFC1_K1_sc9 &lt;dbl&gt; | GW26_PFC1_K1_sc10 &lt;dbl&gt; | GW26_PFC1_K1_sc11 &lt;dbl&gt; | ⋯ ⋯ | GW26_PFC1_R1_sc7 &lt;dbl&gt; | GW26_PFC1_R1_sc8 &lt;dbl&gt; | GW26_PFC1_R1_sc9 &lt;dbl&gt; | GW26_PFC1_R1_sc10 &lt;dbl&gt; | GW26_PFC1_R1_sc11 &lt;dbl&gt; | GW26_PFC1_R1_sc12 &lt;dbl&gt; | GW26_PFC1_R1_sc13 &lt;dbl&gt; | GW26_PFC1_R1_sc14 &lt;dbl&gt; | GW26_PFC1_R1_sc15 &lt;dbl&gt; | GW26_PFC1_R1_sc16 &lt;dbl&gt; |\n",
       "|---|---|---|---|---|---|---|---|---|---|---|---|---|---|---|---|---|---|---|---|---|---|\n",
       "| A1BG | 0 | 0 | 0.00 | 0 |   0.00 | 0.00 | 0 | 0 | 0 | 0 | ⋯ | 21.21 | 0 | 0 | 0 | 0 | 0 | 0 | 0 | 0 |  0.00 |\n",
       "| A1BG-AS1 | 0 | 0 | 0.00 | 0 |   0.00 | 0.00 | 0 | 0 | 0 | 0 | ⋯ |  0.00 | 0 | 0 | 0 | 0 | 0 | 0 | 0 | 0 |  0.00 |\n",
       "| A1CF | 0 | 0 | 0.00 | 0 |   0.00 | 0.00 | 0 | 0 | 0 | 0 | ⋯ |  0.00 | 0 | 0 | 0 | 0 | 0 | 0 | 0 | 0 |  0.00 |\n",
       "| A2M | 0 | 0 | 8.76 | 0 |   0.00 | 2.74 | 0 | 0 | 0 | 0 | ⋯ |  0.00 | 0 | 0 | 0 | 0 | 0 | 0 | 0 | 0 | 72.17 |\n",
       "| A2M-AS1 | 0 | 0 | 0.00 | 0 | 128.58 | 0.00 | 0 | 0 | 0 | 0 | ⋯ |  0.00 | 0 | 0 | 0 | 0 | 0 | 0 | 0 | 0 |  0.00 |\n",
       "| A2ML1 | 0 | 0 | 0.00 | 0 |   0.00 | 0.00 | 0 | 0 | 0 | 0 | ⋯ |  0.00 | 0 | 0 | 0 | 0 | 0 | 0 | 0 | 0 |  0.00 |\n",
       "\n"
      ],
      "text/plain": [
       "         GW26_PFC1_K1_sc2 GW26_PFC1_K1_sc3 GW26_PFC1_K1_sc4 GW26_PFC1_K1_sc5\n",
       "A1BG     0                0                0.00             0               \n",
       "A1BG-AS1 0                0                0.00             0               \n",
       "A1CF     0                0                0.00             0               \n",
       "A2M      0                0                8.76             0               \n",
       "A2M-AS1  0                0                0.00             0               \n",
       "A2ML1    0                0                0.00             0               \n",
       "         GW26_PFC1_K1_sc6 GW26_PFC1_K1_sc7 GW26_PFC1_K1_sc8 GW26_PFC1_K1_sc9\n",
       "A1BG       0.00           0.00             0                0               \n",
       "A1BG-AS1   0.00           0.00             0                0               \n",
       "A1CF       0.00           0.00             0                0               \n",
       "A2M        0.00           2.74             0                0               \n",
       "A2M-AS1  128.58           0.00             0                0               \n",
       "A2ML1      0.00           0.00             0                0               \n",
       "         GW26_PFC1_K1_sc10 GW26_PFC1_K1_sc11 ⋯ GW26_PFC1_R1_sc7\n",
       "A1BG     0                 0                 ⋯ 21.21           \n",
       "A1BG-AS1 0                 0                 ⋯  0.00           \n",
       "A1CF     0                 0                 ⋯  0.00           \n",
       "A2M      0                 0                 ⋯  0.00           \n",
       "A2M-AS1  0                 0                 ⋯  0.00           \n",
       "A2ML1    0                 0                 ⋯  0.00           \n",
       "         GW26_PFC1_R1_sc8 GW26_PFC1_R1_sc9 GW26_PFC1_R1_sc10 GW26_PFC1_R1_sc11\n",
       "A1BG     0                0                0                 0                \n",
       "A1BG-AS1 0                0                0                 0                \n",
       "A1CF     0                0                0                 0                \n",
       "A2M      0                0                0                 0                \n",
       "A2M-AS1  0                0                0                 0                \n",
       "A2ML1    0                0                0                 0                \n",
       "         GW26_PFC1_R1_sc12 GW26_PFC1_R1_sc13 GW26_PFC1_R1_sc14\n",
       "A1BG     0                 0                 0                \n",
       "A1BG-AS1 0                 0                 0                \n",
       "A1CF     0                 0                 0                \n",
       "A2M      0                 0                 0                \n",
       "A2M-AS1  0                 0                 0                \n",
       "A2ML1    0                 0                 0                \n",
       "         GW26_PFC1_R1_sc15 GW26_PFC1_R1_sc16\n",
       "A1BG     0                  0.00            \n",
       "A1BG-AS1 0                  0.00            \n",
       "A1CF     0                  0.00            \n",
       "A2M      0                 72.17            \n",
       "A2M-AS1  0                  0.00            \n",
       "A2ML1    0                  0.00            "
      ]
     },
     "metadata": {},
     "output_type": "display_data"
    },
    {
     "data": {
      "text/html": [
       "<style>\n",
       ".list-inline {list-style: none; margin:0; padding: 0}\n",
       ".list-inline>li {display: inline-block}\n",
       ".list-inline>li:not(:last-child)::after {content: \"\\00b7\"; padding: 0 .5ex}\n",
       "</style>\n",
       "<ol class=list-inline><li>699</li><li>7</li></ol>\n"
      ],
      "text/latex": [
       "\\begin{enumerate*}\n",
       "\\item 699\n",
       "\\item 7\n",
       "\\end{enumerate*}\n"
      ],
      "text/markdown": [
       "1. 699\n",
       "2. 7\n",
       "\n",
       "\n"
      ],
      "text/plain": [
       "[1] 699   7"
      ]
     },
     "metadata": {},
     "output_type": "display_data"
    }
   ],
   "source": [
    "#########PFC样本ADAR家族表达情况\n",
    "expression_26 <- read.table(\"/disk1/wenqing/tmp_data/PFC_s2/20240425_useful_matrix/GSM2884091_GW26_PFC1_8.UMI_TPM_no_ERCC.txt\",header=T)\n",
    "head(expression_26)\n",
    "\n",
    "rownames(expression_26) <- expression_26[,1]\n",
    "expression_26 <- expression_26[,-1]\n",
    "head(expression_26)\n",
    "#expression_26 <- expression_26[,-1]\n",
    "####按细胞类型对表达分组\n",
    "info_26 <- all_info[all_info$week=='GW26',]\n",
    "dim(info_26)\n",
    "####GABA-ADAR1\n",
    "cell_name_GABA <- rownames(info_26)[info_26$cell_types=='GABAergic_neurons']\n",
    "#ADAR''ADARB1''ADARB2''ADARB2-AS1\n",
    "cell_name_GABA <- intersect(colnames(expression_26),cell_name_GABA)\n",
    "adar1_expr_GABA <- expression_26['ADAR',cell_name_GABA]\n",
    "mean_adar1_expr_GABA <- mean(adar1_expr_GABA[adar1_expr_GABA!=0])\n",
    "####neuron-ADAR1\n",
    "cell_name_neuron <- rownames(info_26)[info_26$cell_types=='Neurons']\n",
    "#ADAR''ADARB1''ADARB2''ADARB2-AS1\n",
    "cell_name_neuron <- intersect(colnames(expression_26),cell_name_neuron)\n",
    "adar1_expr_neuron <- expression_26['ADAR',cell_name_neuron]\n",
    "mean_adar1_expr_neuron <- mean(adar1_expr_neuron[adar1_expr_neuron!=0])\n",
    "####OPC-ADAR1\n",
    "cell_name_opc <- rownames(info_26)[info_26$cell_types=='OPC']\n",
    "#ADAR''ADARB1''ADARB2''ADARB2-AS1\n",
    "cell_name_opc <- intersect(colnames(expression_26),cell_name_opc)\n",
    "adar1_expr_opc <- expression_26['ADAR',cell_name_opc]\n",
    "mean_adar1_expr_opc <- mean(adar1_expr_opc[adar1_expr_opc!=0])\n",
    "all_celltype_adar1_26 <- c(mean_adar1_expr_GABA,mean_adar1_expr_neuron,mean_adar1_expr_opc)"
   ]
  },
  {
   "cell_type": "code",
   "execution_count": 21,
   "metadata": {
    "vscode": {
     "languageId": "r"
    }
   },
   "outputs": [],
   "source": [
    "all_adar_expr <- c(all_celltype_adar1_12,all_celltype_adar1_16,all_celltype_adar1_19,all_celltype_adar1_26)"
   ]
  },
  {
   "cell_type": "code",
   "execution_count": 22,
   "metadata": {
    "vscode": {
     "languageId": "r"
    }
   },
   "outputs": [
    {
     "data": {
      "text/html": [
       "<style>\n",
       ".list-inline {list-style: none; margin:0; padding: 0}\n",
       ".list-inline>li {display: inline-block}\n",
       ".list-inline>li:not(:last-child)::after {content: \"\\00b7\"; padding: 0 .5ex}\n",
       "</style>\n",
       "<ol class=list-inline><li>56.1833333333333</li><li>96.12875</li><li>6.225</li><li>93.0271739130435</li><li>72.8194705882353</li><li>104.82</li><li>32.0375</li><li>77.103947368421</li><li>23.46</li><li>138.572</li><li>53.7133333333333</li><li>41.5733333333333</li></ol>\n"
      ],
      "text/latex": [
       "\\begin{enumerate*}\n",
       "\\item 56.1833333333333\n",
       "\\item 96.12875\n",
       "\\item 6.225\n",
       "\\item 93.0271739130435\n",
       "\\item 72.8194705882353\n",
       "\\item 104.82\n",
       "\\item 32.0375\n",
       "\\item 77.103947368421\n",
       "\\item 23.46\n",
       "\\item 138.572\n",
       "\\item 53.7133333333333\n",
       "\\item 41.5733333333333\n",
       "\\end{enumerate*}\n"
      ],
      "text/markdown": [
       "1. 56.1833333333333\n",
       "2. 96.12875\n",
       "3. 6.225\n",
       "4. 93.0271739130435\n",
       "5. 72.8194705882353\n",
       "6. 104.82\n",
       "7. 32.0375\n",
       "8. 77.103947368421\n",
       "9. 23.46\n",
       "10. 138.572\n",
       "11. 53.7133333333333\n",
       "12. 41.5733333333333\n",
       "\n",
       "\n"
      ],
      "text/plain": [
       " [1]  56.18333  96.12875   6.22500  93.02717  72.81947 104.82000  32.03750\n",
       " [8]  77.10395  23.46000 138.57200  53.71333  41.57333"
      ]
     },
     "metadata": {},
     "output_type": "display_data"
    }
   ],
   "source": [
    "all_adar_expr"
   ]
  },
  {
   "cell_type": "code",
   "execution_count": null,
   "metadata": {
    "vscode": {
     "languageId": "r"
    }
   },
   "outputs": [
    {
     "data": {
      "text/html": [
       "<style>\n",
       ".list-inline {list-style: none; margin:0; padding: 0}\n",
       ".list-inline>li {display: inline-block}\n",
       ".list-inline>li:not(:last-child)::after {content: \"\\00b7\"; padding: 0 .5ex}\n",
       "</style>\n",
       "<ol class=list-inline><li>'GABA'</li><li>'Neuron'</li><li>'OPC'</li><li>'GABA'</li><li>'Neuron'</li><li>'OPC'</li><li>'GABA'</li><li>'Neuron'</li><li>'OPC'</li><li>'GABA'</li><li>'Neuron'</li><li>'OPC'</li></ol>\n"
      ],
      "text/latex": [
       "\\begin{enumerate*}\n",
       "\\item 'GABA'\n",
       "\\item 'Neuron'\n",
       "\\item 'OPC'\n",
       "\\item 'GABA'\n",
       "\\item 'Neuron'\n",
       "\\item 'OPC'\n",
       "\\item 'GABA'\n",
       "\\item 'Neuron'\n",
       "\\item 'OPC'\n",
       "\\item 'GABA'\n",
       "\\item 'Neuron'\n",
       "\\item 'OPC'\n",
       "\\end{enumerate*}\n"
      ],
      "text/markdown": [
       "1. 'GABA'\n",
       "2. 'Neuron'\n",
       "3. 'OPC'\n",
       "4. 'GABA'\n",
       "5. 'Neuron'\n",
       "6. 'OPC'\n",
       "7. 'GABA'\n",
       "8. 'Neuron'\n",
       "9. 'OPC'\n",
       "10. 'GABA'\n",
       "11. 'Neuron'\n",
       "12. 'OPC'\n",
       "\n",
       "\n"
      ],
      "text/plain": [
       " [1] \"GABA\"   \"Neuron\" \"OPC\"    \"GABA\"   \"Neuron\" \"OPC\"    \"GABA\"   \"Neuron\"\n",
       " [9] \"OPC\"    \"GABA\"   \"Neuron\" \"OPC\"   "
      ]
     },
     "metadata": {},
     "output_type": "display_data"
    }
   ],
   "source": [
    "rep(c(\"GABA\",\"Neuron\",\"OPC\"),times=4)"
   ]
  },
  {
   "cell_type": "code",
   "execution_count": 23,
   "metadata": {
    "vscode": {
     "languageId": "r"
    }
   },
   "outputs": [],
   "source": [
    "all_adars <- data.frame(\n",
    "  #group=c(rep(c(\"MGE-GABA\",\"GLU\",\"Olig\"),AEI_nums)),\n",
    "  #group=c(rep(c(\"Microglia\",\"CGE-derived InN\",\"MGE-derived InN\",\"Olig\",\"Astrocyte\",\"DG ExN\",\"Non_DG ExN\"),AEI_nums)),\n",
    "  group=c(rep(c(\"GABA\",\"Neuron\",\"OPC\"),times=4)),\n",
    "  expr=all_adar_expr,\n",
    "  phase=c(rep(c(\"12\",\"16\",\"19\",\"26\"),each=3))  \n",
    ")\n"
   ]
  },
  {
   "cell_type": "code",
   "execution_count": 24,
   "metadata": {
    "vscode": {
     "languageId": "r"
    }
   },
   "outputs": [
    {
     "data": {
      "text/html": [
       "<table class=\"dataframe\">\n",
       "<caption>A data.frame: 12 × 3</caption>\n",
       "<thead>\n",
       "\t<tr><th scope=col>group</th><th scope=col>expr</th><th scope=col>phase</th></tr>\n",
       "\t<tr><th scope=col>&lt;chr&gt;</th><th scope=col>&lt;dbl&gt;</th><th scope=col>&lt;chr&gt;</th></tr>\n",
       "</thead>\n",
       "<tbody>\n",
       "\t<tr><td>GABA  </td><td> 56.18333</td><td>12</td></tr>\n",
       "\t<tr><td>Neuron</td><td> 96.12875</td><td>12</td></tr>\n",
       "\t<tr><td>OPC   </td><td>  6.22500</td><td>12</td></tr>\n",
       "\t<tr><td>GABA  </td><td> 93.02717</td><td>16</td></tr>\n",
       "\t<tr><td>Neuron</td><td> 72.81947</td><td>16</td></tr>\n",
       "\t<tr><td>OPC   </td><td>104.82000</td><td>16</td></tr>\n",
       "\t<tr><td>GABA  </td><td> 32.03750</td><td>19</td></tr>\n",
       "\t<tr><td>Neuron</td><td> 77.10395</td><td>19</td></tr>\n",
       "\t<tr><td>OPC   </td><td> 23.46000</td><td>19</td></tr>\n",
       "\t<tr><td>GABA  </td><td>138.57200</td><td>26</td></tr>\n",
       "\t<tr><td>Neuron</td><td> 53.71333</td><td>26</td></tr>\n",
       "\t<tr><td>OPC   </td><td> 41.57333</td><td>26</td></tr>\n",
       "</tbody>\n",
       "</table>\n"
      ],
      "text/latex": [
       "A data.frame: 12 × 3\n",
       "\\begin{tabular}{lll}\n",
       " group & expr & phase\\\\\n",
       " <chr> & <dbl> & <chr>\\\\\n",
       "\\hline\n",
       "\t GABA   &  56.18333 & 12\\\\\n",
       "\t Neuron &  96.12875 & 12\\\\\n",
       "\t OPC    &   6.22500 & 12\\\\\n",
       "\t GABA   &  93.02717 & 16\\\\\n",
       "\t Neuron &  72.81947 & 16\\\\\n",
       "\t OPC    & 104.82000 & 16\\\\\n",
       "\t GABA   &  32.03750 & 19\\\\\n",
       "\t Neuron &  77.10395 & 19\\\\\n",
       "\t OPC    &  23.46000 & 19\\\\\n",
       "\t GABA   & 138.57200 & 26\\\\\n",
       "\t Neuron &  53.71333 & 26\\\\\n",
       "\t OPC    &  41.57333 & 26\\\\\n",
       "\\end{tabular}\n"
      ],
      "text/markdown": [
       "\n",
       "A data.frame: 12 × 3\n",
       "\n",
       "| group &lt;chr&gt; | expr &lt;dbl&gt; | phase &lt;chr&gt; |\n",
       "|---|---|---|\n",
       "| GABA   |  56.18333 | 12 |\n",
       "| Neuron |  96.12875 | 12 |\n",
       "| OPC    |   6.22500 | 12 |\n",
       "| GABA   |  93.02717 | 16 |\n",
       "| Neuron |  72.81947 | 16 |\n",
       "| OPC    | 104.82000 | 16 |\n",
       "| GABA   |  32.03750 | 19 |\n",
       "| Neuron |  77.10395 | 19 |\n",
       "| OPC    |  23.46000 | 19 |\n",
       "| GABA   | 138.57200 | 26 |\n",
       "| Neuron |  53.71333 | 26 |\n",
       "| OPC    |  41.57333 | 26 |\n",
       "\n"
      ],
      "text/plain": [
       "   group  expr      phase\n",
       "1  GABA    56.18333 12   \n",
       "2  Neuron  96.12875 12   \n",
       "3  OPC      6.22500 12   \n",
       "4  GABA    93.02717 16   \n",
       "5  Neuron  72.81947 16   \n",
       "6  OPC    104.82000 16   \n",
       "7  GABA    32.03750 19   \n",
       "8  Neuron  77.10395 19   \n",
       "9  OPC     23.46000 19   \n",
       "10 GABA   138.57200 26   \n",
       "11 Neuron  53.71333 26   \n",
       "12 OPC     41.57333 26   "
      ]
     },
     "metadata": {},
     "output_type": "display_data"
    }
   ],
   "source": [
    "all_adars"
   ]
  },
  {
   "cell_type": "code",
   "execution_count": 25,
   "metadata": {
    "vscode": {
     "languageId": "r"
    }
   },
   "outputs": [
    {
     "name": "stderr",
     "output_type": "stream",
     "text": [
      "Warning message:\n",
      "“\u001b[1m\u001b[22mReturning more (or less) than 1 row per `summarise()` group was deprecated in\n",
      "dplyr 1.1.0.\n",
      "\u001b[36mℹ\u001b[39m Please use `reframe()` instead.\n",
      "\u001b[36mℹ\u001b[39m When switching from `summarise()` to `reframe()`, remember that `reframe()`\n",
      "  always returns an ungrouped data frame and adjust accordingly.”\n",
      "\u001b[1m\u001b[22m`summarise()` has grouped output by 'group'. You can override using the\n",
      "`.groups` argument.\n"
     ]
    },
    {
     "data": {
      "text/html": [
       "<table class=\"dataframe\">\n",
       "<caption>A grouped_df: 6 × 5</caption>\n",
       "<thead>\n",
       "\t<tr><th scope=col>group</th><th scope=col>count</th><th scope=col>mean</th><th scope=col>sd</th><th scope=col>rg</th></tr>\n",
       "\t<tr><th scope=col>&lt;chr&gt;</th><th scope=col>&lt;int&gt;</th><th scope=col>&lt;dbl&gt;</th><th scope=col>&lt;dbl&gt;</th><th scope=col>&lt;dbl&gt;</th></tr>\n",
       "</thead>\n",
       "<tbody>\n",
       "\t<tr><td>GABA  </td><td>4</td><td>79.95500</td><td>46.43280</td><td> 32.03750</td></tr>\n",
       "\t<tr><td>GABA  </td><td>4</td><td>79.95500</td><td>46.43280</td><td>138.57200</td></tr>\n",
       "\t<tr><td>Neuron</td><td>4</td><td>74.94138</td><td>17.40415</td><td> 53.71333</td></tr>\n",
       "\t<tr><td>Neuron</td><td>4</td><td>74.94138</td><td>17.40415</td><td> 96.12875</td></tr>\n",
       "\t<tr><td>OPC   </td><td>4</td><td>44.01958</td><td>43.02636</td><td>  6.22500</td></tr>\n",
       "\t<tr><td>OPC   </td><td>4</td><td>44.01958</td><td>43.02636</td><td>104.82000</td></tr>\n",
       "</tbody>\n",
       "</table>\n"
      ],
      "text/latex": [
       "A grouped\\_df: 6 × 5\n",
       "\\begin{tabular}{lllll}\n",
       " group & count & mean & sd & rg\\\\\n",
       " <chr> & <int> & <dbl> & <dbl> & <dbl>\\\\\n",
       "\\hline\n",
       "\t GABA   & 4 & 79.95500 & 46.43280 &  32.03750\\\\\n",
       "\t GABA   & 4 & 79.95500 & 46.43280 & 138.57200\\\\\n",
       "\t Neuron & 4 & 74.94138 & 17.40415 &  53.71333\\\\\n",
       "\t Neuron & 4 & 74.94138 & 17.40415 &  96.12875\\\\\n",
       "\t OPC    & 4 & 44.01958 & 43.02636 &   6.22500\\\\\n",
       "\t OPC    & 4 & 44.01958 & 43.02636 & 104.82000\\\\\n",
       "\\end{tabular}\n"
      ],
      "text/markdown": [
       "\n",
       "A grouped_df: 6 × 5\n",
       "\n",
       "| group &lt;chr&gt; | count &lt;int&gt; | mean &lt;dbl&gt; | sd &lt;dbl&gt; | rg &lt;dbl&gt; |\n",
       "|---|---|---|---|---|\n",
       "| GABA   | 4 | 79.95500 | 46.43280 |  32.03750 |\n",
       "| GABA   | 4 | 79.95500 | 46.43280 | 138.57200 |\n",
       "| Neuron | 4 | 74.94138 | 17.40415 |  53.71333 |\n",
       "| Neuron | 4 | 74.94138 | 17.40415 |  96.12875 |\n",
       "| OPC    | 4 | 44.01958 | 43.02636 |   6.22500 |\n",
       "| OPC    | 4 | 44.01958 | 43.02636 | 104.82000 |\n",
       "\n"
      ],
      "text/plain": [
       "  group  count mean     sd       rg       \n",
       "1 GABA   4     79.95500 46.43280  32.03750\n",
       "2 GABA   4     79.95500 46.43280 138.57200\n",
       "3 Neuron 4     74.94138 17.40415  53.71333\n",
       "4 Neuron 4     74.94138 17.40415  96.12875\n",
       "5 OPC    4     44.01958 43.02636   6.22500\n",
       "6 OPC    4     44.01958 43.02636 104.82000"
      ]
     },
     "metadata": {},
     "output_type": "display_data"
    }
   ],
   "source": [
    "group_by(all_adars, group) %>%\n",
    "  summarise(\n",
    "    count = n(),\n",
    "    mean = mean(expr, na.rm = TRUE),\n",
    "    sd = sd(expr, na.rm = TRUE),\n",
    "    rg = range(expr, na.rm = TRUE)\n",
    "  )\n",
    "all_adars$group = factor(all_adars$group, levels=c(\"GABA\",\"Neuron\",\"OPC\"))\n"
   ]
  },
  {
   "cell_type": "code",
   "execution_count": 26,
   "metadata": {
    "vscode": {
     "languageId": "r"
    }
   },
   "outputs": [
    {
     "data": {
      "image/png": "[encoded data removed]",
      "text/plain": [
       "plot without title"
      ]
     },
     "metadata": {
      "image/png": {
       "height": 420,
       "width": 420
      }
     },
     "output_type": "display_data"
    }
   ],
   "source": [
    "\n",
    "compaired_adar <- list(c(\"GABA\",\"OPC\"),\n",
    "                         c(\"Neuron\",\"OPC\"),\n",
    "                         c(\"GABA\",\"Neuron\"))\n",
    "\n",
    "ggboxplot(all_adars, x=\"group\", y = \"expr\", color = \"group\", palette = \"jco\", add = \"jitter\",  short.panel.labs = FALSE) +\n",
    "  stat_compare_means(comparisons=compaired_adar,method=\"wilcox.test\",label=\"p.format\",paired=F, step_increase = 0.5)\n",
    "\n"
   ]
  },
  {
   "cell_type": "code",
   "execution_count": null,
   "metadata": {
    "vscode": {
     "languageId": "r"
    }
   },
   "outputs": [
    {
     "data": {
      "text/html": [
       "<style>\n",
       ".list-inline {list-style: none; margin:0; padding: 0}\n",
       ".list-inline>li {display: inline-block}\n",
       ".list-inline>li:not(:last-child)::after {content: \"\\00b7\"; padding: 0 .5ex}\n",
       "</style>\n",
       "<ol class=list-inline><li>96.12875</li><li>89.621</li><li>98.0342857142857</li><li>53.7133333333333</li></ol>\n"
      ],
      "text/latex": [
       "\\begin{enumerate*}\n",
       "\\item 96.12875\n",
       "\\item 89.621\n",
       "\\item 98.0342857142857\n",
       "\\item 53.7133333333333\n",
       "\\end{enumerate*}\n"
      ],
      "text/markdown": [
       "1. 96.12875\n",
       "2. 89.621\n",
       "3. 98.0342857142857\n",
       "4. 53.7133333333333\n",
       "\n",
       "\n"
      ],
      "text/plain": [
       "[1] 96.12875 89.62100 98.03429 53.71333"
      ]
     },
     "metadata": {},
     "output_type": "display_data"
    },
    {
     "data": {
      "text/html": [
       "<style>\n",
       ".list-inline {list-style: none; margin:0; padding: 0}\n",
       ".list-inline>li {display: inline-block}\n",
       ".list-inline>li:not(:last-child)::after {content: \"\\00b7\"; padding: 0 .5ex}\n",
       "</style>\n",
       "<ol class=list-inline><li>6.225</li><li>107.47</li><li>23.46</li><li>41.5733333333333</li></ol>\n"
      ],
      "text/latex": [
       "\\begin{enumerate*}\n",
       "\\item 6.225\n",
       "\\item 107.47\n",
       "\\item 23.46\n",
       "\\item 41.5733333333333\n",
       "\\end{enumerate*}\n"
      ],
      "text/markdown": [
       "1. 6.225\n",
       "2. 107.47\n",
       "3. 23.46\n",
       "4. 41.5733333333333\n",
       "\n",
       "\n"
      ],
      "text/plain": [
       "[1]   6.22500 107.47000  23.46000  41.57333"
      ]
     },
     "metadata": {},
     "output_type": "display_data"
    },
    {
     "data": {
      "text/html": [
       "<style>\n",
       ".list-inline {list-style: none; margin:0; padding: 0}\n",
       ".list-inline>li {display: inline-block}\n",
       ".list-inline>li:not(:last-child)::after {content: \"\\00b7\"; padding: 0 .5ex}\n",
       "</style>\n",
       "<ol class=list-inline><li>56.1833333333333</li><li>18.0666666666667</li><li>17.2975</li><li>138.572</li></ol>\n"
      ],
      "text/latex": [
       "\\begin{enumerate*}\n",
       "\\item 56.1833333333333\n",
       "\\item 18.0666666666667\n",
       "\\item 17.2975\n",
       "\\item 138.572\n",
       "\\end{enumerate*}\n"
      ],
      "text/markdown": [
       "1. 56.1833333333333\n",
       "2. 18.0666666666667\n",
       "3. 17.2975\n",
       "4. 138.572\n",
       "\n",
       "\n"
      ],
      "text/plain": [
       "[1]  56.18333  18.06667  17.29750 138.57200"
      ]
     },
     "metadata": {},
     "output_type": "display_data"
    }
   ],
   "source": [
    "all_adars$expr[all_adars$group=='Neuron']\n",
    "all_adars$expr[all_adars$group=='OPC']\n",
    "all_adars$expr[all_adars$group=='GABA']\n"
   ]
  },
  {
   "cell_type": "code",
   "execution_count": null,
   "metadata": {
    "vscode": {
     "languageId": "r"
    }
   },
   "outputs": [
    {
     "data": {
      "text/html": [
       "<table class=\"dataframe\">\n",
       "<caption>A data.frame: 6 × 89</caption>\n",
       "<thead>\n",
       "\t<tr><th></th><th scope=col>Gene</th><th scope=col>GW16_PFC1_D3_sc1</th><th scope=col>GW16_PFC1_D3_sc2</th><th scope=col>GW16_PFC1_D3_sc3</th><th scope=col>GW16_PFC1_D3_sc4</th><th scope=col>GW16_PFC1_D3_sc5</th><th scope=col>GW16_PFC1_D3_sc6</th><th scope=col>GW16_PFC1_D3_sc7</th><th scope=col>GW16_PFC1_D3_sc8</th><th scope=col>GW16_PFC1_D3_sc9</th><th scope=col>⋯</th><th scope=col>GW16_PFC1_VL3_sc7</th><th scope=col>GW16_PFC1_VL3_sc8</th><th scope=col>GW16_PFC1_VL3_sc9</th><th scope=col>GW16_PFC1_VL3_sc10</th><th scope=col>GW16_PFC1_VL3_sc11</th><th scope=col>GW16_PFC1_VL3_sc12</th><th scope=col>GW16_PFC1_VL3_sc13</th><th scope=col>GW16_PFC1_VL3_sc14</th><th scope=col>GW16_PFC1_VL3_sc15</th><th scope=col>GW16_PFC1_VL3_sc16</th></tr>\n",
       "\t<tr><th></th><th scope=col>&lt;chr&gt;</th><th scope=col>&lt;dbl&gt;</th><th scope=col>&lt;dbl&gt;</th><th scope=col>&lt;dbl&gt;</th><th scope=col>&lt;dbl&gt;</th><th scope=col>&lt;dbl&gt;</th><th scope=col>&lt;dbl&gt;</th><th scope=col>&lt;dbl&gt;</th><th scope=col>&lt;dbl&gt;</th><th scope=col>&lt;dbl&gt;</th><th scope=col>⋯</th><th scope=col>&lt;dbl&gt;</th><th scope=col>&lt;dbl&gt;</th><th scope=col>&lt;dbl&gt;</th><th scope=col>&lt;dbl&gt;</th><th scope=col>&lt;dbl&gt;</th><th scope=col>&lt;dbl&gt;</th><th scope=col>&lt;dbl&gt;</th><th scope=col>&lt;dbl&gt;</th><th scope=col>&lt;dbl&gt;</th><th scope=col>&lt;dbl&gt;</th></tr>\n",
       "</thead>\n",
       "<tbody>\n",
       "\t<tr><th scope=row>1</th><td>A1BG    </td><td>2.32</td><td> 0.00</td><td>0</td><td>0</td><td>0</td><td>0</td><td> 0.00</td><td>0</td><td> 2.49</td><td>⋯</td><td>0</td><td>0</td><td>0</td><td>0</td><td> 0.00</td><td>0</td><td>0</td><td>0</td><td>0.00</td><td>11.53</td></tr>\n",
       "\t<tr><th scope=row>2</th><td>A1BG-AS1</td><td>0.00</td><td> 0.00</td><td>0</td><td>0</td><td>0</td><td>0</td><td> 0.00</td><td>0</td><td> 0.00</td><td>⋯</td><td>0</td><td>0</td><td>0</td><td>0</td><td> 0.00</td><td>0</td><td>0</td><td>0</td><td>0.00</td><td> 0.00</td></tr>\n",
       "\t<tr><th scope=row>3</th><td>A1CF    </td><td>0.00</td><td> 0.00</td><td>0</td><td>0</td><td>0</td><td>0</td><td> 0.00</td><td>0</td><td> 0.00</td><td>⋯</td><td>0</td><td>0</td><td>0</td><td>0</td><td> 0.00</td><td>0</td><td>0</td><td>0</td><td>0.00</td><td> 0.00</td></tr>\n",
       "\t<tr><th scope=row>4</th><td>A2M     </td><td>0.00</td><td>33.99</td><td>0</td><td>0</td><td>0</td><td>0</td><td>66.24</td><td>0</td><td>17.44</td><td>⋯</td><td>0</td><td>0</td><td>0</td><td>0</td><td>93.96</td><td>0</td><td>0</td><td>0</td><td>0.00</td><td> 2.88</td></tr>\n",
       "\t<tr><th scope=row>5</th><td>A2M-AS1 </td><td>0.00</td><td> 0.00</td><td>0</td><td>0</td><td>0</td><td>0</td><td> 0.00</td><td>0</td><td> 0.00</td><td>⋯</td><td>0</td><td>0</td><td>0</td><td>0</td><td> 0.00</td><td>0</td><td>0</td><td>0</td><td>0.00</td><td> 0.00</td></tr>\n",
       "\t<tr><th scope=row>6</th><td>A2ML1   </td><td>0.00</td><td> 0.00</td><td>0</td><td>0</td><td>0</td><td>0</td><td> 0.00</td><td>0</td><td> 0.00</td><td>⋯</td><td>0</td><td>0</td><td>0</td><td>0</td><td> 0.00</td><td>0</td><td>0</td><td>0</td><td>2.86</td><td> 0.00</td></tr>\n",
       "</tbody>\n",
       "</table>\n"
      ],
      "text/latex": [
       "A data.frame: 6 × 89\n",
       "\\begin{tabular}{r|lllllllllllllllllllll}\n",
       "  & Gene & GW16\\_PFC1\\_D3\\_sc1 & GW16\\_PFC1\\_D3\\_sc2 & GW16\\_PFC1\\_D3\\_sc3 & GW16\\_PFC1\\_D3\\_sc4 & GW16\\_PFC1\\_D3\\_sc5 & GW16\\_PFC1\\_D3\\_sc6 & GW16\\_PFC1\\_D3\\_sc7 & GW16\\_PFC1\\_D3\\_sc8 & GW16\\_PFC1\\_D3\\_sc9 & ⋯ & GW16\\_PFC1\\_VL3\\_sc7 & GW16\\_PFC1\\_VL3\\_sc8 & GW16\\_PFC1\\_VL3\\_sc9 & GW16\\_PFC1\\_VL3\\_sc10 & GW16\\_PFC1\\_VL3\\_sc11 & GW16\\_PFC1\\_VL3\\_sc12 & GW16\\_PFC1\\_VL3\\_sc13 & GW16\\_PFC1\\_VL3\\_sc14 & GW16\\_PFC1\\_VL3\\_sc15 & GW16\\_PFC1\\_VL3\\_sc16\\\\\n",
       "  & <chr> & <dbl> & <dbl> & <dbl> & <dbl> & <dbl> & <dbl> & <dbl> & <dbl> & <dbl> & ⋯ & <dbl> & <dbl> & <dbl> & <dbl> & <dbl> & <dbl> & <dbl> & <dbl> & <dbl> & <dbl>\\\\\n",
       "\\hline\n",
       "\t1 & A1BG     & 2.32 &  0.00 & 0 & 0 & 0 & 0 &  0.00 & 0 &  2.49 & ⋯ & 0 & 0 & 0 & 0 &  0.00 & 0 & 0 & 0 & 0.00 & 11.53\\\\\n",
       "\t2 & A1BG-AS1 & 0.00 &  0.00 & 0 & 0 & 0 & 0 &  0.00 & 0 &  0.00 & ⋯ & 0 & 0 & 0 & 0 &  0.00 & 0 & 0 & 0 & 0.00 &  0.00\\\\\n",
       "\t3 & A1CF     & 0.00 &  0.00 & 0 & 0 & 0 & 0 &  0.00 & 0 &  0.00 & ⋯ & 0 & 0 & 0 & 0 &  0.00 & 0 & 0 & 0 & 0.00 &  0.00\\\\\n",
       "\t4 & A2M      & 0.00 & 33.99 & 0 & 0 & 0 & 0 & 66.24 & 0 & 17.44 & ⋯ & 0 & 0 & 0 & 0 & 93.96 & 0 & 0 & 0 & 0.00 &  2.88\\\\\n",
       "\t5 & A2M-AS1  & 0.00 &  0.00 & 0 & 0 & 0 & 0 &  0.00 & 0 &  0.00 & ⋯ & 0 & 0 & 0 & 0 &  0.00 & 0 & 0 & 0 & 0.00 &  0.00\\\\\n",
       "\t6 & A2ML1    & 0.00 &  0.00 & 0 & 0 & 0 & 0 &  0.00 & 0 &  0.00 & ⋯ & 0 & 0 & 0 & 0 &  0.00 & 0 & 0 & 0 & 2.86 &  0.00\\\\\n",
       "\\end{tabular}\n"
      ],
      "text/markdown": [
       "\n",
       "A data.frame: 6 × 89\n",
       "\n",
       "| <!--/--> | Gene &lt;chr&gt; | GW16_PFC1_D3_sc1 &lt;dbl&gt; | GW16_PFC1_D3_sc2 &lt;dbl&gt; | GW16_PFC1_D3_sc3 &lt;dbl&gt; | GW16_PFC1_D3_sc4 &lt;dbl&gt; | GW16_PFC1_D3_sc5 &lt;dbl&gt; | GW16_PFC1_D3_sc6 &lt;dbl&gt; | GW16_PFC1_D3_sc7 &lt;dbl&gt; | GW16_PFC1_D3_sc8 &lt;dbl&gt; | GW16_PFC1_D3_sc9 &lt;dbl&gt; | ⋯ ⋯ | GW16_PFC1_VL3_sc7 &lt;dbl&gt; | GW16_PFC1_VL3_sc8 &lt;dbl&gt; | GW16_PFC1_VL3_sc9 &lt;dbl&gt; | GW16_PFC1_VL3_sc10 &lt;dbl&gt; | GW16_PFC1_VL3_sc11 &lt;dbl&gt; | GW16_PFC1_VL3_sc12 &lt;dbl&gt; | GW16_PFC1_VL3_sc13 &lt;dbl&gt; | GW16_PFC1_VL3_sc14 &lt;dbl&gt; | GW16_PFC1_VL3_sc15 &lt;dbl&gt; | GW16_PFC1_VL3_sc16 &lt;dbl&gt; |\n",
       "|---|---|---|---|---|---|---|---|---|---|---|---|---|---|---|---|---|---|---|---|---|---|\n",
       "| 1 | A1BG     | 2.32 |  0.00 | 0 | 0 | 0 | 0 |  0.00 | 0 |  2.49 | ⋯ | 0 | 0 | 0 | 0 |  0.00 | 0 | 0 | 0 | 0.00 | 11.53 |\n",
       "| 2 | A1BG-AS1 | 0.00 |  0.00 | 0 | 0 | 0 | 0 |  0.00 | 0 |  0.00 | ⋯ | 0 | 0 | 0 | 0 |  0.00 | 0 | 0 | 0 | 0.00 |  0.00 |\n",
       "| 3 | A1CF     | 0.00 |  0.00 | 0 | 0 | 0 | 0 |  0.00 | 0 |  0.00 | ⋯ | 0 | 0 | 0 | 0 |  0.00 | 0 | 0 | 0 | 0.00 |  0.00 |\n",
       "| 4 | A2M      | 0.00 | 33.99 | 0 | 0 | 0 | 0 | 66.24 | 0 | 17.44 | ⋯ | 0 | 0 | 0 | 0 | 93.96 | 0 | 0 | 0 | 0.00 |  2.88 |\n",
       "| 5 | A2M-AS1  | 0.00 |  0.00 | 0 | 0 | 0 | 0 |  0.00 | 0 |  0.00 | ⋯ | 0 | 0 | 0 | 0 |  0.00 | 0 | 0 | 0 | 0.00 |  0.00 |\n",
       "| 6 | A2ML1    | 0.00 |  0.00 | 0 | 0 | 0 | 0 |  0.00 | 0 |  0.00 | ⋯ | 0 | 0 | 0 | 0 |  0.00 | 0 | 0 | 0 | 2.86 |  0.00 |\n",
       "\n"
      ],
      "text/plain": [
       "  Gene     GW16_PFC1_D3_sc1 GW16_PFC1_D3_sc2 GW16_PFC1_D3_sc3 GW16_PFC1_D3_sc4\n",
       "1 A1BG     2.32              0.00            0                0               \n",
       "2 A1BG-AS1 0.00              0.00            0                0               \n",
       "3 A1CF     0.00              0.00            0                0               \n",
       "4 A2M      0.00             33.99            0                0               \n",
       "5 A2M-AS1  0.00              0.00            0                0               \n",
       "6 A2ML1    0.00              0.00            0                0               \n",
       "  GW16_PFC1_D3_sc5 GW16_PFC1_D3_sc6 GW16_PFC1_D3_sc7 GW16_PFC1_D3_sc8\n",
       "1 0                0                 0.00            0               \n",
       "2 0                0                 0.00            0               \n",
       "3 0                0                 0.00            0               \n",
       "4 0                0                66.24            0               \n",
       "5 0                0                 0.00            0               \n",
       "6 0                0                 0.00            0               \n",
       "  GW16_PFC1_D3_sc9 ⋯ GW16_PFC1_VL3_sc7 GW16_PFC1_VL3_sc8 GW16_PFC1_VL3_sc9\n",
       "1  2.49            ⋯ 0                 0                 0                \n",
       "2  0.00            ⋯ 0                 0                 0                \n",
       "3  0.00            ⋯ 0                 0                 0                \n",
       "4 17.44            ⋯ 0                 0                 0                \n",
       "5  0.00            ⋯ 0                 0                 0                \n",
       "6  0.00            ⋯ 0                 0                 0                \n",
       "  GW16_PFC1_VL3_sc10 GW16_PFC1_VL3_sc11 GW16_PFC1_VL3_sc12 GW16_PFC1_VL3_sc13\n",
       "1 0                   0.00              0                  0                 \n",
       "2 0                   0.00              0                  0                 \n",
       "3 0                   0.00              0                  0                 \n",
       "4 0                  93.96              0                  0                 \n",
       "5 0                   0.00              0                  0                 \n",
       "6 0                   0.00              0                  0                 \n",
       "  GW16_PFC1_VL3_sc14 GW16_PFC1_VL3_sc15 GW16_PFC1_VL3_sc16\n",
       "1 0                  0.00               11.53             \n",
       "2 0                  0.00                0.00             \n",
       "3 0                  0.00                0.00             \n",
       "4 0                  0.00                2.88             \n",
       "5 0                  0.00                0.00             \n",
       "6 0                  2.86                0.00             "
      ]
     },
     "metadata": {},
     "output_type": "display_data"
    },
    {
     "data": {
      "text/html": [
       "<table class=\"dataframe\">\n",
       "<caption>A data.frame: 6 × 88</caption>\n",
       "<thead>\n",
       "\t<tr><th></th><th scope=col>GW16_PFC1_D3_sc1</th><th scope=col>GW16_PFC1_D3_sc2</th><th scope=col>GW16_PFC1_D3_sc3</th><th scope=col>GW16_PFC1_D3_sc4</th><th scope=col>GW16_PFC1_D3_sc5</th><th scope=col>GW16_PFC1_D3_sc6</th><th scope=col>GW16_PFC1_D3_sc7</th><th scope=col>GW16_PFC1_D3_sc8</th><th scope=col>GW16_PFC1_D3_sc9</th><th scope=col>GW16_PFC1_D3_sc10</th><th scope=col>⋯</th><th scope=col>GW16_PFC1_VL3_sc7</th><th scope=col>GW16_PFC1_VL3_sc8</th><th scope=col>GW16_PFC1_VL3_sc9</th><th scope=col>GW16_PFC1_VL3_sc10</th><th scope=col>GW16_PFC1_VL3_sc11</th><th scope=col>GW16_PFC1_VL3_sc12</th><th scope=col>GW16_PFC1_VL3_sc13</th><th scope=col>GW16_PFC1_VL3_sc14</th><th scope=col>GW16_PFC1_VL3_sc15</th><th scope=col>GW16_PFC1_VL3_sc16</th></tr>\n",
       "\t<tr><th></th><th scope=col>&lt;dbl&gt;</th><th scope=col>&lt;dbl&gt;</th><th scope=col>&lt;dbl&gt;</th><th scope=col>&lt;dbl&gt;</th><th scope=col>&lt;dbl&gt;</th><th scope=col>&lt;dbl&gt;</th><th scope=col>&lt;dbl&gt;</th><th scope=col>&lt;dbl&gt;</th><th scope=col>&lt;dbl&gt;</th><th scope=col>&lt;dbl&gt;</th><th scope=col>⋯</th><th scope=col>&lt;dbl&gt;</th><th scope=col>&lt;dbl&gt;</th><th scope=col>&lt;dbl&gt;</th><th scope=col>&lt;dbl&gt;</th><th scope=col>&lt;dbl&gt;</th><th scope=col>&lt;dbl&gt;</th><th scope=col>&lt;dbl&gt;</th><th scope=col>&lt;dbl&gt;</th><th scope=col>&lt;dbl&gt;</th><th scope=col>&lt;dbl&gt;</th></tr>\n",
       "</thead>\n",
       "<tbody>\n",
       "\t<tr><th scope=row>A1BG</th><td>2.32</td><td> 0.00</td><td>0</td><td>0</td><td>0</td><td>0</td><td> 0.00</td><td>0</td><td> 2.49</td><td>0.00</td><td>⋯</td><td>0</td><td>0</td><td>0</td><td>0</td><td> 0.00</td><td>0</td><td>0</td><td>0</td><td>0.00</td><td>11.53</td></tr>\n",
       "\t<tr><th scope=row>A1BG-AS1</th><td>0.00</td><td> 0.00</td><td>0</td><td>0</td><td>0</td><td>0</td><td> 0.00</td><td>0</td><td> 0.00</td><td>0.00</td><td>⋯</td><td>0</td><td>0</td><td>0</td><td>0</td><td> 0.00</td><td>0</td><td>0</td><td>0</td><td>0.00</td><td> 0.00</td></tr>\n",
       "\t<tr><th scope=row>A1CF</th><td>0.00</td><td> 0.00</td><td>0</td><td>0</td><td>0</td><td>0</td><td> 0.00</td><td>0</td><td> 0.00</td><td>0.00</td><td>⋯</td><td>0</td><td>0</td><td>0</td><td>0</td><td> 0.00</td><td>0</td><td>0</td><td>0</td><td>0.00</td><td> 0.00</td></tr>\n",
       "\t<tr><th scope=row>A2M</th><td>0.00</td><td>33.99</td><td>0</td><td>0</td><td>0</td><td>0</td><td>66.24</td><td>0</td><td>17.44</td><td>4.14</td><td>⋯</td><td>0</td><td>0</td><td>0</td><td>0</td><td>93.96</td><td>0</td><td>0</td><td>0</td><td>0.00</td><td> 2.88</td></tr>\n",
       "\t<tr><th scope=row>A2M-AS1</th><td>0.00</td><td> 0.00</td><td>0</td><td>0</td><td>0</td><td>0</td><td> 0.00</td><td>0</td><td> 0.00</td><td>0.00</td><td>⋯</td><td>0</td><td>0</td><td>0</td><td>0</td><td> 0.00</td><td>0</td><td>0</td><td>0</td><td>0.00</td><td> 0.00</td></tr>\n",
       "\t<tr><th scope=row>A2ML1</th><td>0.00</td><td> 0.00</td><td>0</td><td>0</td><td>0</td><td>0</td><td> 0.00</td><td>0</td><td> 0.00</td><td>0.00</td><td>⋯</td><td>0</td><td>0</td><td>0</td><td>0</td><td> 0.00</td><td>0</td><td>0</td><td>0</td><td>2.86</td><td> 0.00</td></tr>\n",
       "</tbody>\n",
       "</table>\n"
      ],
      "text/latex": [
       "A data.frame: 6 × 88\n",
       "\\begin{tabular}{r|lllllllllllllllllllll}\n",
       "  & GW16\\_PFC1\\_D3\\_sc1 & GW16\\_PFC1\\_D3\\_sc2 & GW16\\_PFC1\\_D3\\_sc3 & GW16\\_PFC1\\_D3\\_sc4 & GW16\\_PFC1\\_D3\\_sc5 & GW16\\_PFC1\\_D3\\_sc6 & GW16\\_PFC1\\_D3\\_sc7 & GW16\\_PFC1\\_D3\\_sc8 & GW16\\_PFC1\\_D3\\_sc9 & GW16\\_PFC1\\_D3\\_sc10 & ⋯ & GW16\\_PFC1\\_VL3\\_sc7 & GW16\\_PFC1\\_VL3\\_sc8 & GW16\\_PFC1\\_VL3\\_sc9 & GW16\\_PFC1\\_VL3\\_sc10 & GW16\\_PFC1\\_VL3\\_sc11 & GW16\\_PFC1\\_VL3\\_sc12 & GW16\\_PFC1\\_VL3\\_sc13 & GW16\\_PFC1\\_VL3\\_sc14 & GW16\\_PFC1\\_VL3\\_sc15 & GW16\\_PFC1\\_VL3\\_sc16\\\\\n",
       "  & <dbl> & <dbl> & <dbl> & <dbl> & <dbl> & <dbl> & <dbl> & <dbl> & <dbl> & <dbl> & ⋯ & <dbl> & <dbl> & <dbl> & <dbl> & <dbl> & <dbl> & <dbl> & <dbl> & <dbl> & <dbl>\\\\\n",
       "\\hline\n",
       "\tA1BG & 2.32 &  0.00 & 0 & 0 & 0 & 0 &  0.00 & 0 &  2.49 & 0.00 & ⋯ & 0 & 0 & 0 & 0 &  0.00 & 0 & 0 & 0 & 0.00 & 11.53\\\\\n",
       "\tA1BG-AS1 & 0.00 &  0.00 & 0 & 0 & 0 & 0 &  0.00 & 0 &  0.00 & 0.00 & ⋯ & 0 & 0 & 0 & 0 &  0.00 & 0 & 0 & 0 & 0.00 &  0.00\\\\\n",
       "\tA1CF & 0.00 &  0.00 & 0 & 0 & 0 & 0 &  0.00 & 0 &  0.00 & 0.00 & ⋯ & 0 & 0 & 0 & 0 &  0.00 & 0 & 0 & 0 & 0.00 &  0.00\\\\\n",
       "\tA2M & 0.00 & 33.99 & 0 & 0 & 0 & 0 & 66.24 & 0 & 17.44 & 4.14 & ⋯ & 0 & 0 & 0 & 0 & 93.96 & 0 & 0 & 0 & 0.00 &  2.88\\\\\n",
       "\tA2M-AS1 & 0.00 &  0.00 & 0 & 0 & 0 & 0 &  0.00 & 0 &  0.00 & 0.00 & ⋯ & 0 & 0 & 0 & 0 &  0.00 & 0 & 0 & 0 & 0.00 &  0.00\\\\\n",
       "\tA2ML1 & 0.00 &  0.00 & 0 & 0 & 0 & 0 &  0.00 & 0 &  0.00 & 0.00 & ⋯ & 0 & 0 & 0 & 0 &  0.00 & 0 & 0 & 0 & 2.86 &  0.00\\\\\n",
       "\\end{tabular}\n"
      ],
      "text/markdown": [
       "\n",
       "A data.frame: 6 × 88\n",
       "\n",
       "| <!--/--> | GW16_PFC1_D3_sc1 &lt;dbl&gt; | GW16_PFC1_D3_sc2 &lt;dbl&gt; | GW16_PFC1_D3_sc3 &lt;dbl&gt; | GW16_PFC1_D3_sc4 &lt;dbl&gt; | GW16_PFC1_D3_sc5 &lt;dbl&gt; | GW16_PFC1_D3_sc6 &lt;dbl&gt; | GW16_PFC1_D3_sc7 &lt;dbl&gt; | GW16_PFC1_D3_sc8 &lt;dbl&gt; | GW16_PFC1_D3_sc9 &lt;dbl&gt; | GW16_PFC1_D3_sc10 &lt;dbl&gt; | ⋯ ⋯ | GW16_PFC1_VL3_sc7 &lt;dbl&gt; | GW16_PFC1_VL3_sc8 &lt;dbl&gt; | GW16_PFC1_VL3_sc9 &lt;dbl&gt; | GW16_PFC1_VL3_sc10 &lt;dbl&gt; | GW16_PFC1_VL3_sc11 &lt;dbl&gt; | GW16_PFC1_VL3_sc12 &lt;dbl&gt; | GW16_PFC1_VL3_sc13 &lt;dbl&gt; | GW16_PFC1_VL3_sc14 &lt;dbl&gt; | GW16_PFC1_VL3_sc15 &lt;dbl&gt; | GW16_PFC1_VL3_sc16 &lt;dbl&gt; |\n",
       "|---|---|---|---|---|---|---|---|---|---|---|---|---|---|---|---|---|---|---|---|---|---|\n",
       "| A1BG | 2.32 |  0.00 | 0 | 0 | 0 | 0 |  0.00 | 0 |  2.49 | 0.00 | ⋯ | 0 | 0 | 0 | 0 |  0.00 | 0 | 0 | 0 | 0.00 | 11.53 |\n",
       "| A1BG-AS1 | 0.00 |  0.00 | 0 | 0 | 0 | 0 |  0.00 | 0 |  0.00 | 0.00 | ⋯ | 0 | 0 | 0 | 0 |  0.00 | 0 | 0 | 0 | 0.00 |  0.00 |\n",
       "| A1CF | 0.00 |  0.00 | 0 | 0 | 0 | 0 |  0.00 | 0 |  0.00 | 0.00 | ⋯ | 0 | 0 | 0 | 0 |  0.00 | 0 | 0 | 0 | 0.00 |  0.00 |\n",
       "| A2M | 0.00 | 33.99 | 0 | 0 | 0 | 0 | 66.24 | 0 | 17.44 | 4.14 | ⋯ | 0 | 0 | 0 | 0 | 93.96 | 0 | 0 | 0 | 0.00 |  2.88 |\n",
       "| A2M-AS1 | 0.00 |  0.00 | 0 | 0 | 0 | 0 |  0.00 | 0 |  0.00 | 0.00 | ⋯ | 0 | 0 | 0 | 0 |  0.00 | 0 | 0 | 0 | 0.00 |  0.00 |\n",
       "| A2ML1 | 0.00 |  0.00 | 0 | 0 | 0 | 0 |  0.00 | 0 |  0.00 | 0.00 | ⋯ | 0 | 0 | 0 | 0 |  0.00 | 0 | 0 | 0 | 2.86 |  0.00 |\n",
       "\n"
      ],
      "text/plain": [
       "         GW16_PFC1_D3_sc1 GW16_PFC1_D3_sc2 GW16_PFC1_D3_sc3 GW16_PFC1_D3_sc4\n",
       "A1BG     2.32              0.00            0                0               \n",
       "A1BG-AS1 0.00              0.00            0                0               \n",
       "A1CF     0.00              0.00            0                0               \n",
       "A2M      0.00             33.99            0                0               \n",
       "A2M-AS1  0.00              0.00            0                0               \n",
       "A2ML1    0.00              0.00            0                0               \n",
       "         GW16_PFC1_D3_sc5 GW16_PFC1_D3_sc6 GW16_PFC1_D3_sc7 GW16_PFC1_D3_sc8\n",
       "A1BG     0                0                 0.00            0               \n",
       "A1BG-AS1 0                0                 0.00            0               \n",
       "A1CF     0                0                 0.00            0               \n",
       "A2M      0                0                66.24            0               \n",
       "A2M-AS1  0                0                 0.00            0               \n",
       "A2ML1    0                0                 0.00            0               \n",
       "         GW16_PFC1_D3_sc9 GW16_PFC1_D3_sc10 ⋯ GW16_PFC1_VL3_sc7\n",
       "A1BG      2.49            0.00              ⋯ 0                \n",
       "A1BG-AS1  0.00            0.00              ⋯ 0                \n",
       "A1CF      0.00            0.00              ⋯ 0                \n",
       "A2M      17.44            4.14              ⋯ 0                \n",
       "A2M-AS1   0.00            0.00              ⋯ 0                \n",
       "A2ML1     0.00            0.00              ⋯ 0                \n",
       "         GW16_PFC1_VL3_sc8 GW16_PFC1_VL3_sc9 GW16_PFC1_VL3_sc10\n",
       "A1BG     0                 0                 0                 \n",
       "A1BG-AS1 0                 0                 0                 \n",
       "A1CF     0                 0                 0                 \n",
       "A2M      0                 0                 0                 \n",
       "A2M-AS1  0                 0                 0                 \n",
       "A2ML1    0                 0                 0                 \n",
       "         GW16_PFC1_VL3_sc11 GW16_PFC1_VL3_sc12 GW16_PFC1_VL3_sc13\n",
       "A1BG      0.00              0                  0                 \n",
       "A1BG-AS1  0.00              0                  0                 \n",
       "A1CF      0.00              0                  0                 \n",
       "A2M      93.96              0                  0                 \n",
       "A2M-AS1   0.00              0                  0                 \n",
       "A2ML1     0.00              0                  0                 \n",
       "         GW16_PFC1_VL3_sc14 GW16_PFC1_VL3_sc15 GW16_PFC1_VL3_sc16\n",
       "A1BG     0                  0.00               11.53             \n",
       "A1BG-AS1 0                  0.00                0.00             \n",
       "A1CF     0                  0.00                0.00             \n",
       "A2M      0                  0.00                2.88             \n",
       "A2M-AS1  0                  0.00                0.00             \n",
       "A2ML1    0                  2.86                0.00             "
      ]
     },
     "metadata": {},
     "output_type": "display_data"
    },
    {
     "data": {
      "text/html": [
       "<style>\n",
       ".list-inline {list-style: none; margin:0; padding: 0}\n",
       ".list-inline>li {display: inline-block}\n",
       ".list-inline>li:not(:last-child)::after {content: \"\\00b7\"; padding: 0 .5ex}\n",
       "</style>\n",
       "<ol class=list-inline><li>87</li><li>8</li></ol>\n"
      ],
      "text/latex": [
       "\\begin{enumerate*}\n",
       "\\item 87\n",
       "\\item 8\n",
       "\\end{enumerate*}\n"
      ],
      "text/markdown": [
       "1. 87\n",
       "2. 8\n",
       "\n",
       "\n"
      ],
      "text/plain": [
       "[1] 87  8"
      ]
     },
     "metadata": {},
     "output_type": "display_data"
    }
   ],
   "source": [
    "#########PFC样本ADAR家族表达情况\n",
    "expression_16 <- read.table(\"/disk1/wenqing/tmp_data/PFC_s2/20240425_useful_matrix/GSM2884071_GW16_PFC1_4.UMI_TPM_no_ERCC.txt\",header=T)\n",
    "head(expression_16)\n",
    "\n",
    "rownames(expression_16) <- expression_16[,1]\n",
    "expression_16 <- expression_16[,-1]\n",
    "head(expression_16)\n",
    "#expression_16 <- expression_16[,-1]\n",
    "####按细胞类型对表达分组\n",
    "info_16 <- all_info[all_info$week=='GW16',]\n",
    "dim(info_16)\n",
    "####GABA-ADAR1\n",
    "cell_name_GABA <- rownames(info_16)[info_16$cell_types=='GABAergic_neurons']\n",
    "#ADAR''ADARB1''ADARB2''ADARB2-AS1\n",
    "cell_name_GABA <- intersect(colnames(expression_16),cell_name_GABA)\n",
    "RBFOX1_expr_GABA <- expression_16['RBFOX1',cell_name_GABA]\n",
    "NEUROD2_expr_GABA <- expression_16['NEUROD2',cell_name_GABA]\n",
    "GAD1_expr_GABA <- expression_16['GAD1',cell_name_GABA]\n",
    "PDE4DIP_expr_GABA <- expression_16['PDE4DIP',cell_name_GABA]\n",
    "mean_RBFOX1_expr_GABA <- mean(RBFOX1_expr_GABA[RBFOX1_expr_GABA!=0])\n",
    "mean_NEUROD2_expr_GABA <- mean(NEUROD2_expr_GABA[NEUROD2_expr_GABA!=0])\n",
    "mean_GAD1_expr_GABA <- mean(GAD1_expr_GABA[GAD1_expr_GABA!=0])\n",
    "mean_PDE4DIP_expr_GABA <- mean(PDE4DIP_expr_GABA[PDE4DIP_expr_GABA!=0])\n",
    "####neuron-ADAR1\n",
    "cell_name_neuron <- rownames(info_16)[info_16$cell_types=='Neurons']\n",
    "#ADAR''ADARB1''ADARB2''ADARB2-AS1\n",
    "cell_name_neuron <- intersect(colnames(expression_16),cell_name_neuron)\n",
    "RBFOX1_expr_neuron <- expression_16['RBFOX1',cell_name_neuron]\n",
    "NEUROD2_expr_neuron <- expression_16['NEUROD2',cell_name_neuron]\n",
    "GAD1_expr_neuron <- expression_16['GAD1',cell_name_neuron]\n",
    "PDE4DIP_expr_neuron <- expression_16['PDE4DIP',cell_name_neuron]\n",
    "mean_RBFOX1_expr_neuron <- mean(RBFOX1_expr_neuron[RBFOX1_expr_neuron!=0])\n",
    "mean_NEUROD2_expr_neuron <- mean(NEUROD2_expr_neuron[NEUROD2_expr_neuron!=0])\n",
    "mean_GAD1_expr_neuron <- mean(GAD1_expr_neuron[GAD1_expr_neuron!=0])\n",
    "mean_PDE4DIP_expr_neuron <- mean(PDE4DIP_expr_neuron[PDE4DIP_expr_neuron!=0])\n"
   ]
  },
  {
   "cell_type": "code",
   "execution_count": null,
   "metadata": {
    "vscode": {
     "languageId": "r"
    }
   },
   "outputs": [
    {
     "data": {
      "text/html": [
       "931.688"
      ],
      "text/latex": [
       "931.688"
      ],
      "text/markdown": [
       "931.688"
      ],
      "text/plain": [
       "[1] 931.688"
      ]
     },
     "metadata": {},
     "output_type": "display_data"
    },
    {
     "data": {
      "text/html": [
       "1199.87428571429"
      ],
      "text/latex": [
       "1199.87428571429"
      ],
      "text/markdown": [
       "1199.87428571429"
      ],
      "text/plain": [
       "[1] 1199.874"
      ]
     },
     "metadata": {},
     "output_type": "display_data"
    },
    {
     "data": {
      "text/html": [
       "15.1654166666667"
      ],
      "text/latex": [
       "15.1654166666667"
      ],
      "text/markdown": [
       "15.1654166666667"
      ],
      "text/plain": [
       "[1] 15.16542"
      ]
     },
     "metadata": {},
     "output_type": "display_data"
    },
    {
     "data": {
      "text/html": [
       "92.2834210526316"
      ],
      "text/latex": [
       "92.2834210526316"
      ],
      "text/markdown": [
       "92.2834210526316"
      ],
      "text/plain": [
       "[1] 92.28342"
      ]
     },
     "metadata": {},
     "output_type": "display_data"
    }
   ],
   "source": [
    "mean_GAD1_expr_GABA\n",
    "mean_PDE4DIP_expr_GABA\n",
    "mean_GAD1_expr_neuron\n",
    "mean_PDE4DIP_expr_neuron"
   ]
  },
  {
   "cell_type": "code",
   "execution_count": null,
   "metadata": {
    "vscode": {
     "languageId": "r"
    }
   },
   "outputs": [
    {
     "data": {
      "text/html": [
       "70.9266666666667"
      ],
      "text/latex": [
       "70.9266666666667"
      ],
      "text/markdown": [
       "70.9266666666667"
      ],
      "text/plain": [
       "[1] 70.92667"
      ]
     },
     "metadata": {},
     "output_type": "display_data"
    },
    {
     "data": {
      "text/html": [
       "47.978"
      ],
      "text/latex": [
       "47.978"
      ],
      "text/markdown": [
       "47.978"
      ],
      "text/plain": [
       "[1] 47.978"
      ]
     },
     "metadata": {},
     "output_type": "display_data"
    },
    {
     "data": {
      "text/html": [
       "281.014038461538"
      ],
      "text/latex": [
       "281.014038461538"
      ],
      "text/markdown": [
       "281.014038461538"
      ],
      "text/plain": [
       "[1] 281.014"
      ]
     },
     "metadata": {},
     "output_type": "display_data"
    },
    {
     "data": {
      "text/html": [
       "462.3465"
      ],
      "text/latex": [
       "462.3465"
      ],
      "text/markdown": [
       "462.3465"
      ],
      "text/plain": [
       "[1] 462.3465"
      ]
     },
     "metadata": {},
     "output_type": "display_data"
    }
   ],
   "source": [
    "mean_RBFOX1_expr_GABA\n",
    "mean_NEUROD2_expr_GABA\n",
    "mean_RBFOX1_expr_neuron\n",
    "mean_NEUROD2_expr_neuron"
   ]
  },
  {
   "cell_type": "code",
   "execution_count": null,
   "metadata": {
    "vscode": {
     "languageId": "r"
    }
   },
   "outputs": [
    {
     "data": {
      "text/html": [
       "<table class=\"dataframe\">\n",
       "<caption>A data.frame: 6 × 89</caption>\n",
       "<thead>\n",
       "\t<tr><th></th><th scope=col>Gene</th><th scope=col>GW12_PFC1_sc1</th><th scope=col>GW12_PFC1_sc2</th><th scope=col>GW12_PFC1_sc3</th><th scope=col>GW12_PFC1_sc4</th><th scope=col>GW12_PFC1_sc5</th><th scope=col>GW12_PFC1_sc6</th><th scope=col>GW12_PFC1_sc7</th><th scope=col>GW12_PFC1_sc8</th><th scope=col>GW12_PFC1_sc9</th><th scope=col>⋯</th><th scope=col>GW12_PFC1_sc81</th><th scope=col>GW12_PFC1_sc82</th><th scope=col>GW12_PFC1_sc83</th><th scope=col>GW12_PFC1_sc84</th><th scope=col>GW12_PFC1_sc85</th><th scope=col>GW12_PFC1_sc86</th><th scope=col>GW12_PFC1_sc87</th><th scope=col>GW12_PFC1_sc88</th><th scope=col>GW12_PFC1_sc89</th><th scope=col>GW12_PFC1_sc90</th></tr>\n",
       "\t<tr><th></th><th scope=col>&lt;chr&gt;</th><th scope=col>&lt;dbl&gt;</th><th scope=col>&lt;dbl&gt;</th><th scope=col>&lt;dbl&gt;</th><th scope=col>&lt;dbl&gt;</th><th scope=col>&lt;dbl&gt;</th><th scope=col>&lt;dbl&gt;</th><th scope=col>&lt;dbl&gt;</th><th scope=col>&lt;dbl&gt;</th><th scope=col>&lt;dbl&gt;</th><th scope=col>⋯</th><th scope=col>&lt;dbl&gt;</th><th scope=col>&lt;dbl&gt;</th><th scope=col>&lt;dbl&gt;</th><th scope=col>&lt;dbl&gt;</th><th scope=col>&lt;dbl&gt;</th><th scope=col>&lt;dbl&gt;</th><th scope=col>&lt;dbl&gt;</th><th scope=col>&lt;dbl&gt;</th><th scope=col>&lt;dbl&gt;</th><th scope=col>&lt;dbl&gt;</th></tr>\n",
       "</thead>\n",
       "<tbody>\n",
       "\t<tr><th scope=row>1</th><td>A1BG    </td><td>0</td><td>0.00</td><td>0</td><td>  5.65</td><td>0.00</td><td>0</td><td>0</td><td>0</td><td>0</td><td>⋯</td><td>0</td><td>0</td><td>0</td><td>0</td><td>0</td><td>0</td><td>0</td><td>0</td><td>0</td><td>0</td></tr>\n",
       "\t<tr><th scope=row>2</th><td>A1BG-AS1</td><td>0</td><td>0.00</td><td>0</td><td>  0.00</td><td>0.00</td><td>0</td><td>0</td><td>0</td><td>0</td><td>⋯</td><td>0</td><td>0</td><td>0</td><td>0</td><td>0</td><td>0</td><td>0</td><td>0</td><td>0</td><td>0</td></tr>\n",
       "\t<tr><th scope=row>3</th><td>A1CF    </td><td>0</td><td>0.00</td><td>0</td><td>  0.00</td><td>0.00</td><td>0</td><td>0</td><td>0</td><td>0</td><td>⋯</td><td>0</td><td>0</td><td>0</td><td>0</td><td>0</td><td>0</td><td>0</td><td>0</td><td>0</td><td>0</td></tr>\n",
       "\t<tr><th scope=row>4</th><td>A2M     </td><td>0</td><td>6.33</td><td>0</td><td> 70.64</td><td>5.79</td><td>0</td><td>0</td><td>0</td><td>0</td><td>⋯</td><td>0</td><td>0</td><td>0</td><td>0</td><td>0</td><td>0</td><td>0</td><td>0</td><td>0</td><td>0</td></tr>\n",
       "\t<tr><th scope=row>5</th><td>A2M-AS1 </td><td>0</td><td>0.00</td><td>0</td><td>124.32</td><td>0.00</td><td>0</td><td>0</td><td>0</td><td>0</td><td>⋯</td><td>0</td><td>0</td><td>0</td><td>0</td><td>0</td><td>0</td><td>0</td><td>0</td><td>0</td><td>0</td></tr>\n",
       "\t<tr><th scope=row>6</th><td>A2ML1   </td><td>0</td><td>0.00</td><td>0</td><td>  0.00</td><td>0.00</td><td>0</td><td>0</td><td>0</td><td>0</td><td>⋯</td><td>0</td><td>0</td><td>0</td><td>0</td><td>0</td><td>0</td><td>0</td><td>0</td><td>0</td><td>0</td></tr>\n",
       "</tbody>\n",
       "</table>\n"
      ],
      "text/latex": [
       "A data.frame: 6 × 89\n",
       "\\begin{tabular}{r|lllllllllllllllllllll}\n",
       "  & Gene & GW12\\_PFC1\\_sc1 & GW12\\_PFC1\\_sc2 & GW12\\_PFC1\\_sc3 & GW12\\_PFC1\\_sc4 & GW12\\_PFC1\\_sc5 & GW12\\_PFC1\\_sc6 & GW12\\_PFC1\\_sc7 & GW12\\_PFC1\\_sc8 & GW12\\_PFC1\\_sc9 & ⋯ & GW12\\_PFC1\\_sc81 & GW12\\_PFC1\\_sc82 & GW12\\_PFC1\\_sc83 & GW12\\_PFC1\\_sc84 & GW12\\_PFC1\\_sc85 & GW12\\_PFC1\\_sc86 & GW12\\_PFC1\\_sc87 & GW12\\_PFC1\\_sc88 & GW12\\_PFC1\\_sc89 & GW12\\_PFC1\\_sc90\\\\\n",
       "  & <chr> & <dbl> & <dbl> & <dbl> & <dbl> & <dbl> & <dbl> & <dbl> & <dbl> & <dbl> & ⋯ & <dbl> & <dbl> & <dbl> & <dbl> & <dbl> & <dbl> & <dbl> & <dbl> & <dbl> & <dbl>\\\\\n",
       "\\hline\n",
       "\t1 & A1BG     & 0 & 0.00 & 0 &   5.65 & 0.00 & 0 & 0 & 0 & 0 & ⋯ & 0 & 0 & 0 & 0 & 0 & 0 & 0 & 0 & 0 & 0\\\\\n",
       "\t2 & A1BG-AS1 & 0 & 0.00 & 0 &   0.00 & 0.00 & 0 & 0 & 0 & 0 & ⋯ & 0 & 0 & 0 & 0 & 0 & 0 & 0 & 0 & 0 & 0\\\\\n",
       "\t3 & A1CF     & 0 & 0.00 & 0 &   0.00 & 0.00 & 0 & 0 & 0 & 0 & ⋯ & 0 & 0 & 0 & 0 & 0 & 0 & 0 & 0 & 0 & 0\\\\\n",
       "\t4 & A2M      & 0 & 6.33 & 0 &  70.64 & 5.79 & 0 & 0 & 0 & 0 & ⋯ & 0 & 0 & 0 & 0 & 0 & 0 & 0 & 0 & 0 & 0\\\\\n",
       "\t5 & A2M-AS1  & 0 & 0.00 & 0 & 124.32 & 0.00 & 0 & 0 & 0 & 0 & ⋯ & 0 & 0 & 0 & 0 & 0 & 0 & 0 & 0 & 0 & 0\\\\\n",
       "\t6 & A2ML1    & 0 & 0.00 & 0 &   0.00 & 0.00 & 0 & 0 & 0 & 0 & ⋯ & 0 & 0 & 0 & 0 & 0 & 0 & 0 & 0 & 0 & 0\\\\\n",
       "\\end{tabular}\n"
      ],
      "text/markdown": [
       "\n",
       "A data.frame: 6 × 89\n",
       "\n",
       "| <!--/--> | Gene &lt;chr&gt; | GW12_PFC1_sc1 &lt;dbl&gt; | GW12_PFC1_sc2 &lt;dbl&gt; | GW12_PFC1_sc3 &lt;dbl&gt; | GW12_PFC1_sc4 &lt;dbl&gt; | GW12_PFC1_sc5 &lt;dbl&gt; | GW12_PFC1_sc6 &lt;dbl&gt; | GW12_PFC1_sc7 &lt;dbl&gt; | GW12_PFC1_sc8 &lt;dbl&gt; | GW12_PFC1_sc9 &lt;dbl&gt; | ⋯ ⋯ | GW12_PFC1_sc81 &lt;dbl&gt; | GW12_PFC1_sc82 &lt;dbl&gt; | GW12_PFC1_sc83 &lt;dbl&gt; | GW12_PFC1_sc84 &lt;dbl&gt; | GW12_PFC1_sc85 &lt;dbl&gt; | GW12_PFC1_sc86 &lt;dbl&gt; | GW12_PFC1_sc87 &lt;dbl&gt; | GW12_PFC1_sc88 &lt;dbl&gt; | GW12_PFC1_sc89 &lt;dbl&gt; | GW12_PFC1_sc90 &lt;dbl&gt; |\n",
       "|---|---|---|---|---|---|---|---|---|---|---|---|---|---|---|---|---|---|---|---|---|---|\n",
       "| 1 | A1BG     | 0 | 0.00 | 0 |   5.65 | 0.00 | 0 | 0 | 0 | 0 | ⋯ | 0 | 0 | 0 | 0 | 0 | 0 | 0 | 0 | 0 | 0 |\n",
       "| 2 | A1BG-AS1 | 0 | 0.00 | 0 |   0.00 | 0.00 | 0 | 0 | 0 | 0 | ⋯ | 0 | 0 | 0 | 0 | 0 | 0 | 0 | 0 | 0 | 0 |\n",
       "| 3 | A1CF     | 0 | 0.00 | 0 |   0.00 | 0.00 | 0 | 0 | 0 | 0 | ⋯ | 0 | 0 | 0 | 0 | 0 | 0 | 0 | 0 | 0 | 0 |\n",
       "| 4 | A2M      | 0 | 6.33 | 0 |  70.64 | 5.79 | 0 | 0 | 0 | 0 | ⋯ | 0 | 0 | 0 | 0 | 0 | 0 | 0 | 0 | 0 | 0 |\n",
       "| 5 | A2M-AS1  | 0 | 0.00 | 0 | 124.32 | 0.00 | 0 | 0 | 0 | 0 | ⋯ | 0 | 0 | 0 | 0 | 0 | 0 | 0 | 0 | 0 | 0 |\n",
       "| 6 | A2ML1    | 0 | 0.00 | 0 |   0.00 | 0.00 | 0 | 0 | 0 | 0 | ⋯ | 0 | 0 | 0 | 0 | 0 | 0 | 0 | 0 | 0 | 0 |\n",
       "\n"
      ],
      "text/plain": [
       "  Gene     GW12_PFC1_sc1 GW12_PFC1_sc2 GW12_PFC1_sc3 GW12_PFC1_sc4\n",
       "1 A1BG     0             0.00          0               5.65       \n",
       "2 A1BG-AS1 0             0.00          0               0.00       \n",
       "3 A1CF     0             0.00          0               0.00       \n",
       "4 A2M      0             6.33          0              70.64       \n",
       "5 A2M-AS1  0             0.00          0             124.32       \n",
       "6 A2ML1    0             0.00          0               0.00       \n",
       "  GW12_PFC1_sc5 GW12_PFC1_sc6 GW12_PFC1_sc7 GW12_PFC1_sc8 GW12_PFC1_sc9 ⋯\n",
       "1 0.00          0             0             0             0             ⋯\n",
       "2 0.00          0             0             0             0             ⋯\n",
       "3 0.00          0             0             0             0             ⋯\n",
       "4 5.79          0             0             0             0             ⋯\n",
       "5 0.00          0             0             0             0             ⋯\n",
       "6 0.00          0             0             0             0             ⋯\n",
       "  GW12_PFC1_sc81 GW12_PFC1_sc82 GW12_PFC1_sc83 GW12_PFC1_sc84 GW12_PFC1_sc85\n",
       "1 0              0              0              0              0             \n",
       "2 0              0              0              0              0             \n",
       "3 0              0              0              0              0             \n",
       "4 0              0              0              0              0             \n",
       "5 0              0              0              0              0             \n",
       "6 0              0              0              0              0             \n",
       "  GW12_PFC1_sc86 GW12_PFC1_sc87 GW12_PFC1_sc88 GW12_PFC1_sc89 GW12_PFC1_sc90\n",
       "1 0              0              0              0              0             \n",
       "2 0              0              0              0              0             \n",
       "3 0              0              0              0              0             \n",
       "4 0              0              0              0              0             \n",
       "5 0              0              0              0              0             \n",
       "6 0              0              0              0              0             "
      ]
     },
     "metadata": {},
     "output_type": "display_data"
    },
    {
     "data": {
      "text/html": [
       "<table class=\"dataframe\">\n",
       "<caption>A data.frame: 6 × 88</caption>\n",
       "<thead>\n",
       "\t<tr><th></th><th scope=col>GW12_PFC1_sc1</th><th scope=col>GW12_PFC1_sc2</th><th scope=col>GW12_PFC1_sc3</th><th scope=col>GW12_PFC1_sc4</th><th scope=col>GW12_PFC1_sc5</th><th scope=col>GW12_PFC1_sc6</th><th scope=col>GW12_PFC1_sc7</th><th scope=col>GW12_PFC1_sc8</th><th scope=col>GW12_PFC1_sc9</th><th scope=col>GW12_PFC1_sc10</th><th scope=col>⋯</th><th scope=col>GW12_PFC1_sc81</th><th scope=col>GW12_PFC1_sc82</th><th scope=col>GW12_PFC1_sc83</th><th scope=col>GW12_PFC1_sc84</th><th scope=col>GW12_PFC1_sc85</th><th scope=col>GW12_PFC1_sc86</th><th scope=col>GW12_PFC1_sc87</th><th scope=col>GW12_PFC1_sc88</th><th scope=col>GW12_PFC1_sc89</th><th scope=col>GW12_PFC1_sc90</th></tr>\n",
       "\t<tr><th></th><th scope=col>&lt;dbl&gt;</th><th scope=col>&lt;dbl&gt;</th><th scope=col>&lt;dbl&gt;</th><th scope=col>&lt;dbl&gt;</th><th scope=col>&lt;dbl&gt;</th><th scope=col>&lt;dbl&gt;</th><th scope=col>&lt;dbl&gt;</th><th scope=col>&lt;dbl&gt;</th><th scope=col>&lt;dbl&gt;</th><th scope=col>&lt;dbl&gt;</th><th scope=col>⋯</th><th scope=col>&lt;dbl&gt;</th><th scope=col>&lt;dbl&gt;</th><th scope=col>&lt;dbl&gt;</th><th scope=col>&lt;dbl&gt;</th><th scope=col>&lt;dbl&gt;</th><th scope=col>&lt;dbl&gt;</th><th scope=col>&lt;dbl&gt;</th><th scope=col>&lt;dbl&gt;</th><th scope=col>&lt;dbl&gt;</th><th scope=col>&lt;dbl&gt;</th></tr>\n",
       "</thead>\n",
       "<tbody>\n",
       "\t<tr><th scope=row>A1BG</th><td>0</td><td>0.00</td><td>0</td><td>  5.65</td><td>0.00</td><td>0</td><td>0</td><td>0</td><td>0</td><td>0</td><td>⋯</td><td>0</td><td>0</td><td>0</td><td>0</td><td>0</td><td>0</td><td>0</td><td>0</td><td>0</td><td>0</td></tr>\n",
       "\t<tr><th scope=row>A1BG-AS1</th><td>0</td><td>0.00</td><td>0</td><td>  0.00</td><td>0.00</td><td>0</td><td>0</td><td>0</td><td>0</td><td>0</td><td>⋯</td><td>0</td><td>0</td><td>0</td><td>0</td><td>0</td><td>0</td><td>0</td><td>0</td><td>0</td><td>0</td></tr>\n",
       "\t<tr><th scope=row>A1CF</th><td>0</td><td>0.00</td><td>0</td><td>  0.00</td><td>0.00</td><td>0</td><td>0</td><td>0</td><td>0</td><td>0</td><td>⋯</td><td>0</td><td>0</td><td>0</td><td>0</td><td>0</td><td>0</td><td>0</td><td>0</td><td>0</td><td>0</td></tr>\n",
       "\t<tr><th scope=row>A2M</th><td>0</td><td>6.33</td><td>0</td><td> 70.64</td><td>5.79</td><td>0</td><td>0</td><td>0</td><td>0</td><td>0</td><td>⋯</td><td>0</td><td>0</td><td>0</td><td>0</td><td>0</td><td>0</td><td>0</td><td>0</td><td>0</td><td>0</td></tr>\n",
       "\t<tr><th scope=row>A2M-AS1</th><td>0</td><td>0.00</td><td>0</td><td>124.32</td><td>0.00</td><td>0</td><td>0</td><td>0</td><td>0</td><td>0</td><td>⋯</td><td>0</td><td>0</td><td>0</td><td>0</td><td>0</td><td>0</td><td>0</td><td>0</td><td>0</td><td>0</td></tr>\n",
       "\t<tr><th scope=row>A2ML1</th><td>0</td><td>0.00</td><td>0</td><td>  0.00</td><td>0.00</td><td>0</td><td>0</td><td>0</td><td>0</td><td>0</td><td>⋯</td><td>0</td><td>0</td><td>0</td><td>0</td><td>0</td><td>0</td><td>0</td><td>0</td><td>0</td><td>0</td></tr>\n",
       "</tbody>\n",
       "</table>\n"
      ],
      "text/latex": [
       "A data.frame: 6 × 88\n",
       "\\begin{tabular}{r|lllllllllllllllllllll}\n",
       "  & GW12\\_PFC1\\_sc1 & GW12\\_PFC1\\_sc2 & GW12\\_PFC1\\_sc3 & GW12\\_PFC1\\_sc4 & GW12\\_PFC1\\_sc5 & GW12\\_PFC1\\_sc6 & GW12\\_PFC1\\_sc7 & GW12\\_PFC1\\_sc8 & GW12\\_PFC1\\_sc9 & GW12\\_PFC1\\_sc10 & ⋯ & GW12\\_PFC1\\_sc81 & GW12\\_PFC1\\_sc82 & GW12\\_PFC1\\_sc83 & GW12\\_PFC1\\_sc84 & GW12\\_PFC1\\_sc85 & GW12\\_PFC1\\_sc86 & GW12\\_PFC1\\_sc87 & GW12\\_PFC1\\_sc88 & GW12\\_PFC1\\_sc89 & GW12\\_PFC1\\_sc90\\\\\n",
       "  & <dbl> & <dbl> & <dbl> & <dbl> & <dbl> & <dbl> & <dbl> & <dbl> & <dbl> & <dbl> & ⋯ & <dbl> & <dbl> & <dbl> & <dbl> & <dbl> & <dbl> & <dbl> & <dbl> & <dbl> & <dbl>\\\\\n",
       "\\hline\n",
       "\tA1BG & 0 & 0.00 & 0 &   5.65 & 0.00 & 0 & 0 & 0 & 0 & 0 & ⋯ & 0 & 0 & 0 & 0 & 0 & 0 & 0 & 0 & 0 & 0\\\\\n",
       "\tA1BG-AS1 & 0 & 0.00 & 0 &   0.00 & 0.00 & 0 & 0 & 0 & 0 & 0 & ⋯ & 0 & 0 & 0 & 0 & 0 & 0 & 0 & 0 & 0 & 0\\\\\n",
       "\tA1CF & 0 & 0.00 & 0 &   0.00 & 0.00 & 0 & 0 & 0 & 0 & 0 & ⋯ & 0 & 0 & 0 & 0 & 0 & 0 & 0 & 0 & 0 & 0\\\\\n",
       "\tA2M & 0 & 6.33 & 0 &  70.64 & 5.79 & 0 & 0 & 0 & 0 & 0 & ⋯ & 0 & 0 & 0 & 0 & 0 & 0 & 0 & 0 & 0 & 0\\\\\n",
       "\tA2M-AS1 & 0 & 0.00 & 0 & 124.32 & 0.00 & 0 & 0 & 0 & 0 & 0 & ⋯ & 0 & 0 & 0 & 0 & 0 & 0 & 0 & 0 & 0 & 0\\\\\n",
       "\tA2ML1 & 0 & 0.00 & 0 &   0.00 & 0.00 & 0 & 0 & 0 & 0 & 0 & ⋯ & 0 & 0 & 0 & 0 & 0 & 0 & 0 & 0 & 0 & 0\\\\\n",
       "\\end{tabular}\n"
      ],
      "text/markdown": [
       "\n",
       "A data.frame: 6 × 88\n",
       "\n",
       "| <!--/--> | GW12_PFC1_sc1 &lt;dbl&gt; | GW12_PFC1_sc2 &lt;dbl&gt; | GW12_PFC1_sc3 &lt;dbl&gt; | GW12_PFC1_sc4 &lt;dbl&gt; | GW12_PFC1_sc5 &lt;dbl&gt; | GW12_PFC1_sc6 &lt;dbl&gt; | GW12_PFC1_sc7 &lt;dbl&gt; | GW12_PFC1_sc8 &lt;dbl&gt; | GW12_PFC1_sc9 &lt;dbl&gt; | GW12_PFC1_sc10 &lt;dbl&gt; | ⋯ ⋯ | GW12_PFC1_sc81 &lt;dbl&gt; | GW12_PFC1_sc82 &lt;dbl&gt; | GW12_PFC1_sc83 &lt;dbl&gt; | GW12_PFC1_sc84 &lt;dbl&gt; | GW12_PFC1_sc85 &lt;dbl&gt; | GW12_PFC1_sc86 &lt;dbl&gt; | GW12_PFC1_sc87 &lt;dbl&gt; | GW12_PFC1_sc88 &lt;dbl&gt; | GW12_PFC1_sc89 &lt;dbl&gt; | GW12_PFC1_sc90 &lt;dbl&gt; |\n",
       "|---|---|---|---|---|---|---|---|---|---|---|---|---|---|---|---|---|---|---|---|---|---|\n",
       "| A1BG | 0 | 0.00 | 0 |   5.65 | 0.00 | 0 | 0 | 0 | 0 | 0 | ⋯ | 0 | 0 | 0 | 0 | 0 | 0 | 0 | 0 | 0 | 0 |\n",
       "| A1BG-AS1 | 0 | 0.00 | 0 |   0.00 | 0.00 | 0 | 0 | 0 | 0 | 0 | ⋯ | 0 | 0 | 0 | 0 | 0 | 0 | 0 | 0 | 0 | 0 |\n",
       "| A1CF | 0 | 0.00 | 0 |   0.00 | 0.00 | 0 | 0 | 0 | 0 | 0 | ⋯ | 0 | 0 | 0 | 0 | 0 | 0 | 0 | 0 | 0 | 0 |\n",
       "| A2M | 0 | 6.33 | 0 |  70.64 | 5.79 | 0 | 0 | 0 | 0 | 0 | ⋯ | 0 | 0 | 0 | 0 | 0 | 0 | 0 | 0 | 0 | 0 |\n",
       "| A2M-AS1 | 0 | 0.00 | 0 | 124.32 | 0.00 | 0 | 0 | 0 | 0 | 0 | ⋯ | 0 | 0 | 0 | 0 | 0 | 0 | 0 | 0 | 0 | 0 |\n",
       "| A2ML1 | 0 | 0.00 | 0 |   0.00 | 0.00 | 0 | 0 | 0 | 0 | 0 | ⋯ | 0 | 0 | 0 | 0 | 0 | 0 | 0 | 0 | 0 | 0 |\n",
       "\n"
      ],
      "text/plain": [
       "         GW12_PFC1_sc1 GW12_PFC1_sc2 GW12_PFC1_sc3 GW12_PFC1_sc4 GW12_PFC1_sc5\n",
       "A1BG     0             0.00          0               5.65        0.00         \n",
       "A1BG-AS1 0             0.00          0               0.00        0.00         \n",
       "A1CF     0             0.00          0               0.00        0.00         \n",
       "A2M      0             6.33          0              70.64        5.79         \n",
       "A2M-AS1  0             0.00          0             124.32        0.00         \n",
       "A2ML1    0             0.00          0               0.00        0.00         \n",
       "         GW12_PFC1_sc6 GW12_PFC1_sc7 GW12_PFC1_sc8 GW12_PFC1_sc9 GW12_PFC1_sc10\n",
       "A1BG     0             0             0             0             0             \n",
       "A1BG-AS1 0             0             0             0             0             \n",
       "A1CF     0             0             0             0             0             \n",
       "A2M      0             0             0             0             0             \n",
       "A2M-AS1  0             0             0             0             0             \n",
       "A2ML1    0             0             0             0             0             \n",
       "         ⋯ GW12_PFC1_sc81 GW12_PFC1_sc82 GW12_PFC1_sc83 GW12_PFC1_sc84\n",
       "A1BG     ⋯ 0              0              0              0             \n",
       "A1BG-AS1 ⋯ 0              0              0              0             \n",
       "A1CF     ⋯ 0              0              0              0             \n",
       "A2M      ⋯ 0              0              0              0             \n",
       "A2M-AS1  ⋯ 0              0              0              0             \n",
       "A2ML1    ⋯ 0              0              0              0             \n",
       "         GW12_PFC1_sc85 GW12_PFC1_sc86 GW12_PFC1_sc87 GW12_PFC1_sc88\n",
       "A1BG     0              0              0              0             \n",
       "A1BG-AS1 0              0              0              0             \n",
       "A1CF     0              0              0              0             \n",
       "A2M      0              0              0              0             \n",
       "A2M-AS1  0              0              0              0             \n",
       "A2ML1    0              0              0              0             \n",
       "         GW12_PFC1_sc89 GW12_PFC1_sc90\n",
       "A1BG     0              0             \n",
       "A1BG-AS1 0              0             \n",
       "A1CF     0              0             \n",
       "A2M      0              0             \n",
       "A2M-AS1  0              0             \n",
       "A2ML1    0              0             "
      ]
     },
     "metadata": {},
     "output_type": "display_data"
    },
    {
     "data": {
      "text/html": [
       "<style>\n",
       ".list-inline {list-style: none; margin:0; padding: 0}\n",
       ".list-inline>li {display: inline-block}\n",
       ".list-inline>li:not(:last-child)::after {content: \"\\00b7\"; padding: 0 .5ex}\n",
       "</style>\n",
       "<ol class=list-inline><li>85</li><li>8</li></ol>\n"
      ],
      "text/latex": [
       "\\begin{enumerate*}\n",
       "\\item 85\n",
       "\\item 8\n",
       "\\end{enumerate*}\n"
      ],
      "text/markdown": [
       "1. 85\n",
       "2. 8\n",
       "\n",
       "\n"
      ],
      "text/plain": [
       "[1] 85  8"
      ]
     },
     "metadata": {},
     "output_type": "display_data"
    }
   ],
   "source": [
    "#########PFC样本ADAR家族表达情况\n",
    "expression_12 <- read.table(\"/disk1/wenqing/tmp_data/PFC_s2/20240425_useful_matrix/GSM2884066_GW12_PFC1.UMI_TPM_no_ERCC.txt\",header=T)\n",
    "head(expression_12)\n",
    "\n",
    "rownames(expression_12) <- expression_12[,1]\n",
    "expression_12 <- expression_12[,-1]\n",
    "head(expression_12)\n",
    "#expression_12 <- expression_12[,-1]\n",
    "####按细胞类型对表达分组\n",
    "info_12 <- all_info[all_info$week=='GW12',]\n",
    "dim(info_12)\n",
    "####GABA-ADAR1\n",
    "cell_name_GABA <- rownames(info_12)[info_12$cell_types=='GABAergic_neurons']\n",
    "#ADAR''ADARB1''ADARB2''ADARB2-AS1\n",
    "cell_name_GABA <- intersect(colnames(expression_12),cell_name_GABA)\n",
    "adar1_expr_GABA <- expression_12['ADAR',cell_name_GABA]\n",
    "mean_adar1_expr_GABA <- sum(adar1_expr_GABA)/length(adar1_expr_GABA)\n",
    "\n",
    "####neuron-ADAR1\n",
    "cell_name_neuron <- rownames(info_12)[info_12$cell_types=='Neurons']\n",
    "#ADAR''ADARB1''ADARB2''ADARB2-AS1\n",
    "cell_name_neuron <- intersect(colnames(expression_12),cell_name_neuron)\n",
    "adar1_expr_neuron <- expression_12['ADAR',cell_name_neuron]\n",
    "mean_adar1_expr_neuron <- sum(adar1_expr_neuron)/length(adar1_expr_neuron)\n",
    "####OPC-ADAR1\n",
    "cell_name_opc <- rownames(info_12)[info_12$cell_types=='OPC']\n",
    "#ADAR''ADARB1''ADARB2''ADARB2-AS1\n",
    "cell_name_opc <- intersect(colnames(expression_12),cell_name_opc)\n",
    "adar1_expr_opc <- expression_12['ADAR',cell_name_opc]\n",
    "mean_adar1_expr_opc <- sum(adar1_expr_opc)/length(adar1_expr_opc)\n",
    "all_celltype_adar1_12 <- c(mean_adar1_expr_GABA,mean_adar1_expr_neuron,mean_adar1_expr_opc)"
   ]
  },
  {
   "cell_type": "code",
   "execution_count": null,
   "metadata": {
    "vscode": {
     "languageId": "r"
    }
   },
   "outputs": [
    {
     "data": {
      "text/html": [
       "<style>\n",
       ".list-inline {list-style: none; margin:0; padding: 0}\n",
       ".list-inline>li {display: inline-block}\n",
       ".list-inline>li:not(:last-child)::after {content: \"\\00b7\"; padding: 0 .5ex}\n",
       "</style>\n",
       "<ol class=list-inline><li>24.0785714285714</li><li>24.4136507936508</li><li>6.225</li></ol>\n"
      ],
      "text/latex": [
       "\\begin{enumerate*}\n",
       "\\item 24.0785714285714\n",
       "\\item 24.4136507936508\n",
       "\\item 6.225\n",
       "\\end{enumerate*}\n"
      ],
      "text/markdown": [
       "1. 24.0785714285714\n",
       "2. 24.4136507936508\n",
       "3. 6.225\n",
       "\n",
       "\n"
      ],
      "text/plain": [
       "[1] 24.07857 24.41365  6.22500"
      ]
     },
     "metadata": {},
     "output_type": "display_data"
    }
   ],
   "source": [
    "#########PFC样本ADAR家族表达情况\n",
    "expression_16 <- read.table(\"/disk1/wenqing/tmp_data/PFC_s2/20240425_useful_matrix/GSM2884071_GW16_PFC1_4.UMI_TPM_no_ERCC.txt\",header=T)\n",
    "head(expression_16)\n",
    "\n",
    "rownames(expression_16) <- expression_16[,1]\n",
    "expression_16 <- expression_16[,-1]\n",
    "head(expression_16)\n",
    "#expression_16 <- expression_16[,-1]\n",
    "####按细胞类型对表达分组\n",
    "info_16 <- all_info[all_info$week=='GW16',]\n",
    "dim(info_16)\n",
    "####GABA-ADAR1\n",
    "cell_name_GABA <- rownames(info_16)[info_16$cell_types=='GABAergic_neurons']\n",
    "#ADAR''ADARB1''ADARB2''ADARB2-AS1\n",
    "cell_name_GABA <- intersect(colnames(expression_16),cell_name_GABA)\n",
    "adar1_expr_GABA <- expression_16['ADAR',cell_name_GABA]\n",
    "mean_adar1_expr_GABA <- sum(adar1_expr_GABA)/length(adar1_expr_GABA)\n",
    "\n",
    "####neuron-ADAR1\n",
    "cell_name_neuron <- rownames(info_16)[info_16$cell_types=='Neurons']\n",
    "#ADAR''ADARB1''ADARB2''ADARB2-AS1\n",
    "cell_name_neuron <- intersect(colnames(expression_16),cell_name_neuron)\n",
    "adar1_expr_neuron <- expression_16['ADAR',cell_name_neuron]\n",
    "mean_adar1_expr_neuron <- sum(adar1_expr_neuron)/length(adar1_expr_neuron)\n",
    "####OPC-ADAR1\n",
    "cell_name_opc <- rownames(info_16)[info_16$cell_types=='OPC']\n",
    "#ADAR''ADARB1''ADARB2''ADARB2-AS1\n",
    "cell_name_opc <- intersect(colnames(expression_16),cell_name_opc)\n",
    "adar1_expr_opc <- expression_16['ADAR',cell_name_opc]\n",
    "mean_adar1_expr_opc <- sum(adar1_expr_opc)/length(adar1_expr_opc)\n",
    "all_celltype_adar1_16 <- c(mean_adar1_expr_GABA,mean_adar1_expr_neuron,mean_adar1_expr_opc)"
   ]
  },
  {
   "cell_type": "code",
   "execution_count": null,
   "metadata": {
    "vscode": {
     "languageId": "r"
    }
   },
   "outputs": [
    {
     "data": {
      "text/html": [
       "<table class=\"dataframe\">\n",
       "<caption>A data.frame: 6 × 41</caption>\n",
       "<thead>\n",
       "\t<tr><th></th><th scope=col>Gene</th><th scope=col>GW19_PFC1_sc1</th><th scope=col>GW19_PFC1_sc2</th><th scope=col>GW19_PFC1_sc3</th><th scope=col>GW19_PFC1_sc4</th><th scope=col>GW19_PFC1_sc5</th><th scope=col>GW19_PFC1_sc6</th><th scope=col>GW19_PFC1_sc7</th><th scope=col>GW19_PFC1_sc8</th><th scope=col>GW19_PFC1_sc9</th><th scope=col>⋯</th><th scope=col>GW19_PFC1_sc31</th><th scope=col>GW19_PFC1_sc32</th><th scope=col>GW19_PFC1_sc33</th><th scope=col>GW19_PFC1_sc34</th><th scope=col>GW19_PFC1_sc35</th><th scope=col>GW19_PFC1_sc36</th><th scope=col>GW19_PFC1_sc37</th><th scope=col>GW19_PFC1_sc38</th><th scope=col>GW19_PFC1_sc39</th><th scope=col>GW19_PFC1_sc40</th></tr>\n",
       "\t<tr><th></th><th scope=col>&lt;chr&gt;</th><th scope=col>&lt;dbl&gt;</th><th scope=col>&lt;dbl&gt;</th><th scope=col>&lt;dbl&gt;</th><th scope=col>&lt;dbl&gt;</th><th scope=col>&lt;dbl&gt;</th><th scope=col>&lt;dbl&gt;</th><th scope=col>&lt;dbl&gt;</th><th scope=col>&lt;dbl&gt;</th><th scope=col>&lt;dbl&gt;</th><th scope=col>⋯</th><th scope=col>&lt;dbl&gt;</th><th scope=col>&lt;dbl&gt;</th><th scope=col>&lt;dbl&gt;</th><th scope=col>&lt;dbl&gt;</th><th scope=col>&lt;dbl&gt;</th><th scope=col>&lt;dbl&gt;</th><th scope=col>&lt;dbl&gt;</th><th scope=col>&lt;dbl&gt;</th><th scope=col>&lt;dbl&gt;</th><th scope=col>&lt;dbl&gt;</th></tr>\n",
       "</thead>\n",
       "<tbody>\n",
       "\t<tr><th scope=row>1</th><td>A1BG    </td><td>0</td><td>0</td><td>0</td><td>0</td><td>0</td><td>0</td><td>0</td><td>0</td><td>0</td><td>⋯</td><td>0</td><td>0</td><td>0</td><td>0</td><td>0</td><td>0</td><td>0</td><td>0</td><td>  0.00</td><td>  0.00</td></tr>\n",
       "\t<tr><th scope=row>2</th><td>A1BG-AS1</td><td>0</td><td>0</td><td>0</td><td>0</td><td>0</td><td>0</td><td>0</td><td>0</td><td>0</td><td>⋯</td><td>0</td><td>0</td><td>0</td><td>0</td><td>0</td><td>0</td><td>0</td><td>0</td><td>  0.00</td><td>  0.00</td></tr>\n",
       "\t<tr><th scope=row>3</th><td>A1CF    </td><td>0</td><td>0</td><td>0</td><td>0</td><td>0</td><td>0</td><td>0</td><td>0</td><td>0</td><td>⋯</td><td>0</td><td>0</td><td>0</td><td>0</td><td>0</td><td>0</td><td>0</td><td>0</td><td>  0.00</td><td>  0.00</td></tr>\n",
       "\t<tr><th scope=row>4</th><td>A2M     </td><td>0</td><td>0</td><td>0</td><td>0</td><td>0</td><td>0</td><td>0</td><td>0</td><td>0</td><td>⋯</td><td>0</td><td>0</td><td>0</td><td>0</td><td>0</td><td>0</td><td>0</td><td>0</td><td> 81.36</td><td>147.43</td></tr>\n",
       "\t<tr><th scope=row>5</th><td>A2M-AS1 </td><td>0</td><td>0</td><td>0</td><td>0</td><td>0</td><td>0</td><td>0</td><td>0</td><td>0</td><td>⋯</td><td>0</td><td>0</td><td>0</td><td>0</td><td>0</td><td>0</td><td>0</td><td>0</td><td>244.08</td><td>  0.00</td></tr>\n",
       "\t<tr><th scope=row>6</th><td>A2ML1   </td><td>0</td><td>0</td><td>0</td><td>0</td><td>0</td><td>0</td><td>0</td><td>0</td><td>0</td><td>⋯</td><td>0</td><td>0</td><td>0</td><td>0</td><td>0</td><td>0</td><td>0</td><td>0</td><td>  0.00</td><td>  0.00</td></tr>\n",
       "</tbody>\n",
       "</table>\n"
      ],
      "text/latex": [
       "A data.frame: 6 × 41\n",
       "\\begin{tabular}{r|lllllllllllllllllllll}\n",
       "  & Gene & GW19\\_PFC1\\_sc1 & GW19\\_PFC1\\_sc2 & GW19\\_PFC1\\_sc3 & GW19\\_PFC1\\_sc4 & GW19\\_PFC1\\_sc5 & GW19\\_PFC1\\_sc6 & GW19\\_PFC1\\_sc7 & GW19\\_PFC1\\_sc8 & GW19\\_PFC1\\_sc9 & ⋯ & GW19\\_PFC1\\_sc31 & GW19\\_PFC1\\_sc32 & GW19\\_PFC1\\_sc33 & GW19\\_PFC1\\_sc34 & GW19\\_PFC1\\_sc35 & GW19\\_PFC1\\_sc36 & GW19\\_PFC1\\_sc37 & GW19\\_PFC1\\_sc38 & GW19\\_PFC1\\_sc39 & GW19\\_PFC1\\_sc40\\\\\n",
       "  & <chr> & <dbl> & <dbl> & <dbl> & <dbl> & <dbl> & <dbl> & <dbl> & <dbl> & <dbl> & ⋯ & <dbl> & <dbl> & <dbl> & <dbl> & <dbl> & <dbl> & <dbl> & <dbl> & <dbl> & <dbl>\\\\\n",
       "\\hline\n",
       "\t1 & A1BG     & 0 & 0 & 0 & 0 & 0 & 0 & 0 & 0 & 0 & ⋯ & 0 & 0 & 0 & 0 & 0 & 0 & 0 & 0 &   0.00 &   0.00\\\\\n",
       "\t2 & A1BG-AS1 & 0 & 0 & 0 & 0 & 0 & 0 & 0 & 0 & 0 & ⋯ & 0 & 0 & 0 & 0 & 0 & 0 & 0 & 0 &   0.00 &   0.00\\\\\n",
       "\t3 & A1CF     & 0 & 0 & 0 & 0 & 0 & 0 & 0 & 0 & 0 & ⋯ & 0 & 0 & 0 & 0 & 0 & 0 & 0 & 0 &   0.00 &   0.00\\\\\n",
       "\t4 & A2M      & 0 & 0 & 0 & 0 & 0 & 0 & 0 & 0 & 0 & ⋯ & 0 & 0 & 0 & 0 & 0 & 0 & 0 & 0 &  81.36 & 147.43\\\\\n",
       "\t5 & A2M-AS1  & 0 & 0 & 0 & 0 & 0 & 0 & 0 & 0 & 0 & ⋯ & 0 & 0 & 0 & 0 & 0 & 0 & 0 & 0 & 244.08 &   0.00\\\\\n",
       "\t6 & A2ML1    & 0 & 0 & 0 & 0 & 0 & 0 & 0 & 0 & 0 & ⋯ & 0 & 0 & 0 & 0 & 0 & 0 & 0 & 0 &   0.00 &   0.00\\\\\n",
       "\\end{tabular}\n"
      ],
      "text/markdown": [
       "\n",
       "A data.frame: 6 × 41\n",
       "\n",
       "| <!--/--> | Gene &lt;chr&gt; | GW19_PFC1_sc1 &lt;dbl&gt; | GW19_PFC1_sc2 &lt;dbl&gt; | GW19_PFC1_sc3 &lt;dbl&gt; | GW19_PFC1_sc4 &lt;dbl&gt; | GW19_PFC1_sc5 &lt;dbl&gt; | GW19_PFC1_sc6 &lt;dbl&gt; | GW19_PFC1_sc7 &lt;dbl&gt; | GW19_PFC1_sc8 &lt;dbl&gt; | GW19_PFC1_sc9 &lt;dbl&gt; | ⋯ ⋯ | GW19_PFC1_sc31 &lt;dbl&gt; | GW19_PFC1_sc32 &lt;dbl&gt; | GW19_PFC1_sc33 &lt;dbl&gt; | GW19_PFC1_sc34 &lt;dbl&gt; | GW19_PFC1_sc35 &lt;dbl&gt; | GW19_PFC1_sc36 &lt;dbl&gt; | GW19_PFC1_sc37 &lt;dbl&gt; | GW19_PFC1_sc38 &lt;dbl&gt; | GW19_PFC1_sc39 &lt;dbl&gt; | GW19_PFC1_sc40 &lt;dbl&gt; |\n",
       "|---|---|---|---|---|---|---|---|---|---|---|---|---|---|---|---|---|---|---|---|---|---|\n",
       "| 1 | A1BG     | 0 | 0 | 0 | 0 | 0 | 0 | 0 | 0 | 0 | ⋯ | 0 | 0 | 0 | 0 | 0 | 0 | 0 | 0 |   0.00 |   0.00 |\n",
       "| 2 | A1BG-AS1 | 0 | 0 | 0 | 0 | 0 | 0 | 0 | 0 | 0 | ⋯ | 0 | 0 | 0 | 0 | 0 | 0 | 0 | 0 |   0.00 |   0.00 |\n",
       "| 3 | A1CF     | 0 | 0 | 0 | 0 | 0 | 0 | 0 | 0 | 0 | ⋯ | 0 | 0 | 0 | 0 | 0 | 0 | 0 | 0 |   0.00 |   0.00 |\n",
       "| 4 | A2M      | 0 | 0 | 0 | 0 | 0 | 0 | 0 | 0 | 0 | ⋯ | 0 | 0 | 0 | 0 | 0 | 0 | 0 | 0 |  81.36 | 147.43 |\n",
       "| 5 | A2M-AS1  | 0 | 0 | 0 | 0 | 0 | 0 | 0 | 0 | 0 | ⋯ | 0 | 0 | 0 | 0 | 0 | 0 | 0 | 0 | 244.08 |   0.00 |\n",
       "| 6 | A2ML1    | 0 | 0 | 0 | 0 | 0 | 0 | 0 | 0 | 0 | ⋯ | 0 | 0 | 0 | 0 | 0 | 0 | 0 | 0 |   0.00 |   0.00 |\n",
       "\n"
      ],
      "text/plain": [
       "  Gene     GW19_PFC1_sc1 GW19_PFC1_sc2 GW19_PFC1_sc3 GW19_PFC1_sc4\n",
       "1 A1BG     0             0             0             0            \n",
       "2 A1BG-AS1 0             0             0             0            \n",
       "3 A1CF     0             0             0             0            \n",
       "4 A2M      0             0             0             0            \n",
       "5 A2M-AS1  0             0             0             0            \n",
       "6 A2ML1    0             0             0             0            \n",
       "  GW19_PFC1_sc5 GW19_PFC1_sc6 GW19_PFC1_sc7 GW19_PFC1_sc8 GW19_PFC1_sc9 ⋯\n",
       "1 0             0             0             0             0             ⋯\n",
       "2 0             0             0             0             0             ⋯\n",
       "3 0             0             0             0             0             ⋯\n",
       "4 0             0             0             0             0             ⋯\n",
       "5 0             0             0             0             0             ⋯\n",
       "6 0             0             0             0             0             ⋯\n",
       "  GW19_PFC1_sc31 GW19_PFC1_sc32 GW19_PFC1_sc33 GW19_PFC1_sc34 GW19_PFC1_sc35\n",
       "1 0              0              0              0              0             \n",
       "2 0              0              0              0              0             \n",
       "3 0              0              0              0              0             \n",
       "4 0              0              0              0              0             \n",
       "5 0              0              0              0              0             \n",
       "6 0              0              0              0              0             \n",
       "  GW19_PFC1_sc36 GW19_PFC1_sc37 GW19_PFC1_sc38 GW19_PFC1_sc39 GW19_PFC1_sc40\n",
       "1 0              0              0                0.00           0.00        \n",
       "2 0              0              0                0.00           0.00        \n",
       "3 0              0              0                0.00           0.00        \n",
       "4 0              0              0               81.36         147.43        \n",
       "5 0              0              0              244.08           0.00        \n",
       "6 0              0              0                0.00           0.00        "
      ]
     },
     "metadata": {},
     "output_type": "display_data"
    },
    {
     "data": {
      "text/html": [
       "<table class=\"dataframe\">\n",
       "<caption>A data.frame: 6 × 40</caption>\n",
       "<thead>\n",
       "\t<tr><th></th><th scope=col>GW19_PFC1_sc1</th><th scope=col>GW19_PFC1_sc2</th><th scope=col>GW19_PFC1_sc3</th><th scope=col>GW19_PFC1_sc4</th><th scope=col>GW19_PFC1_sc5</th><th scope=col>GW19_PFC1_sc6</th><th scope=col>GW19_PFC1_sc7</th><th scope=col>GW19_PFC1_sc8</th><th scope=col>GW19_PFC1_sc9</th><th scope=col>GW19_PFC1_sc10</th><th scope=col>⋯</th><th scope=col>GW19_PFC1_sc31</th><th scope=col>GW19_PFC1_sc32</th><th scope=col>GW19_PFC1_sc33</th><th scope=col>GW19_PFC1_sc34</th><th scope=col>GW19_PFC1_sc35</th><th scope=col>GW19_PFC1_sc36</th><th scope=col>GW19_PFC1_sc37</th><th scope=col>GW19_PFC1_sc38</th><th scope=col>GW19_PFC1_sc39</th><th scope=col>GW19_PFC1_sc40</th></tr>\n",
       "\t<tr><th></th><th scope=col>&lt;dbl&gt;</th><th scope=col>&lt;dbl&gt;</th><th scope=col>&lt;dbl&gt;</th><th scope=col>&lt;dbl&gt;</th><th scope=col>&lt;dbl&gt;</th><th scope=col>&lt;dbl&gt;</th><th scope=col>&lt;dbl&gt;</th><th scope=col>&lt;dbl&gt;</th><th scope=col>&lt;dbl&gt;</th><th scope=col>&lt;dbl&gt;</th><th scope=col>⋯</th><th scope=col>&lt;dbl&gt;</th><th scope=col>&lt;dbl&gt;</th><th scope=col>&lt;dbl&gt;</th><th scope=col>&lt;dbl&gt;</th><th scope=col>&lt;dbl&gt;</th><th scope=col>&lt;dbl&gt;</th><th scope=col>&lt;dbl&gt;</th><th scope=col>&lt;dbl&gt;</th><th scope=col>&lt;dbl&gt;</th><th scope=col>&lt;dbl&gt;</th></tr>\n",
       "</thead>\n",
       "<tbody>\n",
       "\t<tr><th scope=row>A1BG</th><td>0</td><td>0</td><td>0</td><td>0</td><td>0</td><td>0</td><td>0</td><td>0</td><td>0</td><td>565.34</td><td>⋯</td><td>0</td><td>0</td><td>0</td><td>0</td><td>0</td><td>0</td><td>0</td><td>0</td><td>  0.00</td><td>  0.00</td></tr>\n",
       "\t<tr><th scope=row>A1BG-AS1</th><td>0</td><td>0</td><td>0</td><td>0</td><td>0</td><td>0</td><td>0</td><td>0</td><td>0</td><td>  0.00</td><td>⋯</td><td>0</td><td>0</td><td>0</td><td>0</td><td>0</td><td>0</td><td>0</td><td>0</td><td>  0.00</td><td>  0.00</td></tr>\n",
       "\t<tr><th scope=row>A1CF</th><td>0</td><td>0</td><td>0</td><td>0</td><td>0</td><td>0</td><td>0</td><td>0</td><td>0</td><td>  0.00</td><td>⋯</td><td>0</td><td>0</td><td>0</td><td>0</td><td>0</td><td>0</td><td>0</td><td>0</td><td>  0.00</td><td>  0.00</td></tr>\n",
       "\t<tr><th scope=row>A2M</th><td>0</td><td>0</td><td>0</td><td>0</td><td>0</td><td>0</td><td>0</td><td>0</td><td>0</td><td>  0.00</td><td>⋯</td><td>0</td><td>0</td><td>0</td><td>0</td><td>0</td><td>0</td><td>0</td><td>0</td><td> 81.36</td><td>147.43</td></tr>\n",
       "\t<tr><th scope=row>A2M-AS1</th><td>0</td><td>0</td><td>0</td><td>0</td><td>0</td><td>0</td><td>0</td><td>0</td><td>0</td><td>  0.00</td><td>⋯</td><td>0</td><td>0</td><td>0</td><td>0</td><td>0</td><td>0</td><td>0</td><td>0</td><td>244.08</td><td>  0.00</td></tr>\n",
       "\t<tr><th scope=row>A2ML1</th><td>0</td><td>0</td><td>0</td><td>0</td><td>0</td><td>0</td><td>0</td><td>0</td><td>0</td><td>  0.00</td><td>⋯</td><td>0</td><td>0</td><td>0</td><td>0</td><td>0</td><td>0</td><td>0</td><td>0</td><td>  0.00</td><td>  0.00</td></tr>\n",
       "</tbody>\n",
       "</table>\n"
      ],
      "text/latex": [
       "A data.frame: 6 × 40\n",
       "\\begin{tabular}{r|lllllllllllllllllllll}\n",
       "  & GW19\\_PFC1\\_sc1 & GW19\\_PFC1\\_sc2 & GW19\\_PFC1\\_sc3 & GW19\\_PFC1\\_sc4 & GW19\\_PFC1\\_sc5 & GW19\\_PFC1\\_sc6 & GW19\\_PFC1\\_sc7 & GW19\\_PFC1\\_sc8 & GW19\\_PFC1\\_sc9 & GW19\\_PFC1\\_sc10 & ⋯ & GW19\\_PFC1\\_sc31 & GW19\\_PFC1\\_sc32 & GW19\\_PFC1\\_sc33 & GW19\\_PFC1\\_sc34 & GW19\\_PFC1\\_sc35 & GW19\\_PFC1\\_sc36 & GW19\\_PFC1\\_sc37 & GW19\\_PFC1\\_sc38 & GW19\\_PFC1\\_sc39 & GW19\\_PFC1\\_sc40\\\\\n",
       "  & <dbl> & <dbl> & <dbl> & <dbl> & <dbl> & <dbl> & <dbl> & <dbl> & <dbl> & <dbl> & ⋯ & <dbl> & <dbl> & <dbl> & <dbl> & <dbl> & <dbl> & <dbl> & <dbl> & <dbl> & <dbl>\\\\\n",
       "\\hline\n",
       "\tA1BG & 0 & 0 & 0 & 0 & 0 & 0 & 0 & 0 & 0 & 565.34 & ⋯ & 0 & 0 & 0 & 0 & 0 & 0 & 0 & 0 &   0.00 &   0.00\\\\\n",
       "\tA1BG-AS1 & 0 & 0 & 0 & 0 & 0 & 0 & 0 & 0 & 0 &   0.00 & ⋯ & 0 & 0 & 0 & 0 & 0 & 0 & 0 & 0 &   0.00 &   0.00\\\\\n",
       "\tA1CF & 0 & 0 & 0 & 0 & 0 & 0 & 0 & 0 & 0 &   0.00 & ⋯ & 0 & 0 & 0 & 0 & 0 & 0 & 0 & 0 &   0.00 &   0.00\\\\\n",
       "\tA2M & 0 & 0 & 0 & 0 & 0 & 0 & 0 & 0 & 0 &   0.00 & ⋯ & 0 & 0 & 0 & 0 & 0 & 0 & 0 & 0 &  81.36 & 147.43\\\\\n",
       "\tA2M-AS1 & 0 & 0 & 0 & 0 & 0 & 0 & 0 & 0 & 0 &   0.00 & ⋯ & 0 & 0 & 0 & 0 & 0 & 0 & 0 & 0 & 244.08 &   0.00\\\\\n",
       "\tA2ML1 & 0 & 0 & 0 & 0 & 0 & 0 & 0 & 0 & 0 &   0.00 & ⋯ & 0 & 0 & 0 & 0 & 0 & 0 & 0 & 0 &   0.00 &   0.00\\\\\n",
       "\\end{tabular}\n"
      ],
      "text/markdown": [
       "\n",
       "A data.frame: 6 × 40\n",
       "\n",
       "| <!--/--> | GW19_PFC1_sc1 &lt;dbl&gt; | GW19_PFC1_sc2 &lt;dbl&gt; | GW19_PFC1_sc3 &lt;dbl&gt; | GW19_PFC1_sc4 &lt;dbl&gt; | GW19_PFC1_sc5 &lt;dbl&gt; | GW19_PFC1_sc6 &lt;dbl&gt; | GW19_PFC1_sc7 &lt;dbl&gt; | GW19_PFC1_sc8 &lt;dbl&gt; | GW19_PFC1_sc9 &lt;dbl&gt; | GW19_PFC1_sc10 &lt;dbl&gt; | ⋯ ⋯ | GW19_PFC1_sc31 &lt;dbl&gt; | GW19_PFC1_sc32 &lt;dbl&gt; | GW19_PFC1_sc33 &lt;dbl&gt; | GW19_PFC1_sc34 &lt;dbl&gt; | GW19_PFC1_sc35 &lt;dbl&gt; | GW19_PFC1_sc36 &lt;dbl&gt; | GW19_PFC1_sc37 &lt;dbl&gt; | GW19_PFC1_sc38 &lt;dbl&gt; | GW19_PFC1_sc39 &lt;dbl&gt; | GW19_PFC1_sc40 &lt;dbl&gt; |\n",
       "|---|---|---|---|---|---|---|---|---|---|---|---|---|---|---|---|---|---|---|---|---|---|\n",
       "| A1BG | 0 | 0 | 0 | 0 | 0 | 0 | 0 | 0 | 0 | 565.34 | ⋯ | 0 | 0 | 0 | 0 | 0 | 0 | 0 | 0 |   0.00 |   0.00 |\n",
       "| A1BG-AS1 | 0 | 0 | 0 | 0 | 0 | 0 | 0 | 0 | 0 |   0.00 | ⋯ | 0 | 0 | 0 | 0 | 0 | 0 | 0 | 0 |   0.00 |   0.00 |\n",
       "| A1CF | 0 | 0 | 0 | 0 | 0 | 0 | 0 | 0 | 0 |   0.00 | ⋯ | 0 | 0 | 0 | 0 | 0 | 0 | 0 | 0 |   0.00 |   0.00 |\n",
       "| A2M | 0 | 0 | 0 | 0 | 0 | 0 | 0 | 0 | 0 |   0.00 | ⋯ | 0 | 0 | 0 | 0 | 0 | 0 | 0 | 0 |  81.36 | 147.43 |\n",
       "| A2M-AS1 | 0 | 0 | 0 | 0 | 0 | 0 | 0 | 0 | 0 |   0.00 | ⋯ | 0 | 0 | 0 | 0 | 0 | 0 | 0 | 0 | 244.08 |   0.00 |\n",
       "| A2ML1 | 0 | 0 | 0 | 0 | 0 | 0 | 0 | 0 | 0 |   0.00 | ⋯ | 0 | 0 | 0 | 0 | 0 | 0 | 0 | 0 |   0.00 |   0.00 |\n",
       "\n"
      ],
      "text/plain": [
       "         GW19_PFC1_sc1 GW19_PFC1_sc2 GW19_PFC1_sc3 GW19_PFC1_sc4 GW19_PFC1_sc5\n",
       "A1BG     0             0             0             0             0            \n",
       "A1BG-AS1 0             0             0             0             0            \n",
       "A1CF     0             0             0             0             0            \n",
       "A2M      0             0             0             0             0            \n",
       "A2M-AS1  0             0             0             0             0            \n",
       "A2ML1    0             0             0             0             0            \n",
       "         GW19_PFC1_sc6 GW19_PFC1_sc7 GW19_PFC1_sc8 GW19_PFC1_sc9 GW19_PFC1_sc10\n",
       "A1BG     0             0             0             0             565.34        \n",
       "A1BG-AS1 0             0             0             0               0.00        \n",
       "A1CF     0             0             0             0               0.00        \n",
       "A2M      0             0             0             0               0.00        \n",
       "A2M-AS1  0             0             0             0               0.00        \n",
       "A2ML1    0             0             0             0               0.00        \n",
       "         ⋯ GW19_PFC1_sc31 GW19_PFC1_sc32 GW19_PFC1_sc33 GW19_PFC1_sc34\n",
       "A1BG     ⋯ 0              0              0              0             \n",
       "A1BG-AS1 ⋯ 0              0              0              0             \n",
       "A1CF     ⋯ 0              0              0              0             \n",
       "A2M      ⋯ 0              0              0              0             \n",
       "A2M-AS1  ⋯ 0              0              0              0             \n",
       "A2ML1    ⋯ 0              0              0              0             \n",
       "         GW19_PFC1_sc35 GW19_PFC1_sc36 GW19_PFC1_sc37 GW19_PFC1_sc38\n",
       "A1BG     0              0              0              0             \n",
       "A1BG-AS1 0              0              0              0             \n",
       "A1CF     0              0              0              0             \n",
       "A2M      0              0              0              0             \n",
       "A2M-AS1  0              0              0              0             \n",
       "A2ML1    0              0              0              0             \n",
       "         GW19_PFC1_sc39 GW19_PFC1_sc40\n",
       "A1BG       0.00           0.00        \n",
       "A1BG-AS1   0.00           0.00        \n",
       "A1CF       0.00           0.00        \n",
       "A2M       81.36         147.43        \n",
       "A2M-AS1  244.08           0.00        \n",
       "A2ML1      0.00           0.00        "
      ]
     },
     "metadata": {},
     "output_type": "display_data"
    },
    {
     "data": {
      "text/html": [
       "<style>\n",
       ".list-inline {list-style: none; margin:0; padding: 0}\n",
       ".list-inline>li {display: inline-block}\n",
       ".list-inline>li:not(:last-child)::after {content: \"\\00b7\"; padding: 0 .5ex}\n",
       "</style>\n",
       "<ol class=list-inline><li>40</li><li>8</li></ol>\n"
      ],
      "text/latex": [
       "\\begin{enumerate*}\n",
       "\\item 40\n",
       "\\item 8\n",
       "\\end{enumerate*}\n"
      ],
      "text/markdown": [
       "1. 40\n",
       "2. 8\n",
       "\n",
       "\n"
      ],
      "text/plain": [
       "[1] 40  8"
      ]
     },
     "metadata": {},
     "output_type": "display_data"
    }
   ],
   "source": [
    "#########PFC样本ADAR家族表达情况\n",
    "expression_19 <- read.table(\"/disk1/wenqing/tmp_data/PFC_s2/20240425_useful_matrix/GSM2884077_GW19_PFC1.UMI_TPM_no_ERCC.txt\",header=T)\n",
    "head(expression_19)\n",
    "\n",
    "rownames(expression_19) <- expression_19[,1]\n",
    "expression_19 <- expression_19[,-1]\n",
    "head(expression_19)\n",
    "#expression_19 <- expression_19[,-1]\n",
    "####按细胞类型对表达分组\n",
    "info_19 <- all_info[all_info$week=='GW19',]\n",
    "dim(info_19)\n",
    "####GABA-ADAR1\n",
    "cell_name_GABA <- rownames(info_19)[info_19$cell_types=='GABAergic_neurons']\n",
    "#ADAR''ADARB1''ADARB2''ADARB2-AS1\n",
    "cell_name_GABA <- intersect(colnames(expression_19),cell_name_GABA)\n",
    "adar1_expr_GABA <- expression_19['ADAR',cell_name_GABA]\n",
    "mean_adar1_expr_GABA <- sum(adar1_expr_GABA)/length(adar1_expr_GABA)\n",
    "\n",
    "####neuron-ADAR1\n",
    "cell_name_neuron <- rownames(info_19)[info_19$cell_types=='Neurons']\n",
    "#ADAR''ADARB1''ADARB2''ADARB2-AS1\n",
    "cell_name_neuron <- intersect(colnames(expression_19),cell_name_neuron)\n",
    "adar1_expr_neuron <- expression_19['ADAR',cell_name_neuron]\n",
    "mean_adar1_expr_neuron <- sum(adar1_expr_neuron)/length(adar1_expr_neuron)\n",
    "####OPC-ADAR1\n",
    "cell_name_opc <- rownames(info_19)[info_19$cell_types=='OPC']\n",
    "#ADAR''ADARB1''ADARB2''ADARB2-AS1\n",
    "cell_name_opc <- intersect(colnames(expression_19),cell_name_opc)\n",
    "adar1_expr_opc <- expression_19['ADAR',cell_name_opc]\n",
    "mean_adar1_expr_opc <- sum(adar1_expr_opc)/length(adar1_expr_opc)\n",
    "all_celltype_adar1_19 <- c(mean_adar1_expr_GABA,mean_adar1_expr_neuron,mean_adar1_expr_opc)"
   ]
  },
  {
   "cell_type": "code",
   "execution_count": null,
   "metadata": {
    "vscode": {
     "languageId": "r"
    }
   },
   "outputs": [
    {
     "data": {
      "text/html": [
       "<table class=\"dataframe\">\n",
       "<caption>A data.frame: 6 × 80</caption>\n",
       "<thead>\n",
       "\t<tr><th></th><th scope=col>Gene</th><th scope=col>GW26_PFC1_K1_sc2</th><th scope=col>GW26_PFC1_K1_sc3</th><th scope=col>GW26_PFC1_K1_sc4</th><th scope=col>GW26_PFC1_K1_sc5</th><th scope=col>GW26_PFC1_K1_sc6</th><th scope=col>GW26_PFC1_K1_sc7</th><th scope=col>GW26_PFC1_K1_sc8</th><th scope=col>GW26_PFC1_K1_sc9</th><th scope=col>GW26_PFC1_K1_sc10</th><th scope=col>⋯</th><th scope=col>GW26_PFC1_R1_sc7</th><th scope=col>GW26_PFC1_R1_sc8</th><th scope=col>GW26_PFC1_R1_sc9</th><th scope=col>GW26_PFC1_R1_sc10</th><th scope=col>GW26_PFC1_R1_sc11</th><th scope=col>GW26_PFC1_R1_sc12</th><th scope=col>GW26_PFC1_R1_sc13</th><th scope=col>GW26_PFC1_R1_sc14</th><th scope=col>GW26_PFC1_R1_sc15</th><th scope=col>GW26_PFC1_R1_sc16</th></tr>\n",
       "\t<tr><th></th><th scope=col>&lt;chr&gt;</th><th scope=col>&lt;dbl&gt;</th><th scope=col>&lt;dbl&gt;</th><th scope=col>&lt;dbl&gt;</th><th scope=col>&lt;dbl&gt;</th><th scope=col>&lt;dbl&gt;</th><th scope=col>&lt;dbl&gt;</th><th scope=col>&lt;dbl&gt;</th><th scope=col>&lt;dbl&gt;</th><th scope=col>&lt;dbl&gt;</th><th scope=col>⋯</th><th scope=col>&lt;dbl&gt;</th><th scope=col>&lt;dbl&gt;</th><th scope=col>&lt;dbl&gt;</th><th scope=col>&lt;dbl&gt;</th><th scope=col>&lt;dbl&gt;</th><th scope=col>&lt;dbl&gt;</th><th scope=col>&lt;dbl&gt;</th><th scope=col>&lt;dbl&gt;</th><th scope=col>&lt;dbl&gt;</th><th scope=col>&lt;dbl&gt;</th></tr>\n",
       "</thead>\n",
       "<tbody>\n",
       "\t<tr><th scope=row>1</th><td>A1BG    </td><td>0</td><td>0</td><td>0.00</td><td>0</td><td>  0.00</td><td>0.00</td><td>0</td><td>0</td><td>0</td><td>⋯</td><td>21.21</td><td>0</td><td>0</td><td>0</td><td>0</td><td>0</td><td>0</td><td>0</td><td>0</td><td> 0.00</td></tr>\n",
       "\t<tr><th scope=row>2</th><td>A1BG-AS1</td><td>0</td><td>0</td><td>0.00</td><td>0</td><td>  0.00</td><td>0.00</td><td>0</td><td>0</td><td>0</td><td>⋯</td><td> 0.00</td><td>0</td><td>0</td><td>0</td><td>0</td><td>0</td><td>0</td><td>0</td><td>0</td><td> 0.00</td></tr>\n",
       "\t<tr><th scope=row>3</th><td>A1CF    </td><td>0</td><td>0</td><td>0.00</td><td>0</td><td>  0.00</td><td>0.00</td><td>0</td><td>0</td><td>0</td><td>⋯</td><td> 0.00</td><td>0</td><td>0</td><td>0</td><td>0</td><td>0</td><td>0</td><td>0</td><td>0</td><td> 0.00</td></tr>\n",
       "\t<tr><th scope=row>4</th><td>A2M     </td><td>0</td><td>0</td><td>8.76</td><td>0</td><td>  0.00</td><td>2.74</td><td>0</td><td>0</td><td>0</td><td>⋯</td><td> 0.00</td><td>0</td><td>0</td><td>0</td><td>0</td><td>0</td><td>0</td><td>0</td><td>0</td><td>72.17</td></tr>\n",
       "\t<tr><th scope=row>5</th><td>A2M-AS1 </td><td>0</td><td>0</td><td>0.00</td><td>0</td><td>128.58</td><td>0.00</td><td>0</td><td>0</td><td>0</td><td>⋯</td><td> 0.00</td><td>0</td><td>0</td><td>0</td><td>0</td><td>0</td><td>0</td><td>0</td><td>0</td><td> 0.00</td></tr>\n",
       "\t<tr><th scope=row>6</th><td>A2ML1   </td><td>0</td><td>0</td><td>0.00</td><td>0</td><td>  0.00</td><td>0.00</td><td>0</td><td>0</td><td>0</td><td>⋯</td><td> 0.00</td><td>0</td><td>0</td><td>0</td><td>0</td><td>0</td><td>0</td><td>0</td><td>0</td><td> 0.00</td></tr>\n",
       "</tbody>\n",
       "</table>\n"
      ],
      "text/latex": [
       "A data.frame: 6 × 80\n",
       "\\begin{tabular}{r|lllllllllllllllllllll}\n",
       "  & Gene & GW26\\_PFC1\\_K1\\_sc2 & GW26\\_PFC1\\_K1\\_sc3 & GW26\\_PFC1\\_K1\\_sc4 & GW26\\_PFC1\\_K1\\_sc5 & GW26\\_PFC1\\_K1\\_sc6 & GW26\\_PFC1\\_K1\\_sc7 & GW26\\_PFC1\\_K1\\_sc8 & GW26\\_PFC1\\_K1\\_sc9 & GW26\\_PFC1\\_K1\\_sc10 & ⋯ & GW26\\_PFC1\\_R1\\_sc7 & GW26\\_PFC1\\_R1\\_sc8 & GW26\\_PFC1\\_R1\\_sc9 & GW26\\_PFC1\\_R1\\_sc10 & GW26\\_PFC1\\_R1\\_sc11 & GW26\\_PFC1\\_R1\\_sc12 & GW26\\_PFC1\\_R1\\_sc13 & GW26\\_PFC1\\_R1\\_sc14 & GW26\\_PFC1\\_R1\\_sc15 & GW26\\_PFC1\\_R1\\_sc16\\\\\n",
       "  & <chr> & <dbl> & <dbl> & <dbl> & <dbl> & <dbl> & <dbl> & <dbl> & <dbl> & <dbl> & ⋯ & <dbl> & <dbl> & <dbl> & <dbl> & <dbl> & <dbl> & <dbl> & <dbl> & <dbl> & <dbl>\\\\\n",
       "\\hline\n",
       "\t1 & A1BG     & 0 & 0 & 0.00 & 0 &   0.00 & 0.00 & 0 & 0 & 0 & ⋯ & 21.21 & 0 & 0 & 0 & 0 & 0 & 0 & 0 & 0 &  0.00\\\\\n",
       "\t2 & A1BG-AS1 & 0 & 0 & 0.00 & 0 &   0.00 & 0.00 & 0 & 0 & 0 & ⋯ &  0.00 & 0 & 0 & 0 & 0 & 0 & 0 & 0 & 0 &  0.00\\\\\n",
       "\t3 & A1CF     & 0 & 0 & 0.00 & 0 &   0.00 & 0.00 & 0 & 0 & 0 & ⋯ &  0.00 & 0 & 0 & 0 & 0 & 0 & 0 & 0 & 0 &  0.00\\\\\n",
       "\t4 & A2M      & 0 & 0 & 8.76 & 0 &   0.00 & 2.74 & 0 & 0 & 0 & ⋯ &  0.00 & 0 & 0 & 0 & 0 & 0 & 0 & 0 & 0 & 72.17\\\\\n",
       "\t5 & A2M-AS1  & 0 & 0 & 0.00 & 0 & 128.58 & 0.00 & 0 & 0 & 0 & ⋯ &  0.00 & 0 & 0 & 0 & 0 & 0 & 0 & 0 & 0 &  0.00\\\\\n",
       "\t6 & A2ML1    & 0 & 0 & 0.00 & 0 &   0.00 & 0.00 & 0 & 0 & 0 & ⋯ &  0.00 & 0 & 0 & 0 & 0 & 0 & 0 & 0 & 0 &  0.00\\\\\n",
       "\\end{tabular}\n"
      ],
      "text/markdown": [
       "\n",
       "A data.frame: 6 × 80\n",
       "\n",
       "| <!--/--> | Gene &lt;chr&gt; | GW26_PFC1_K1_sc2 &lt;dbl&gt; | GW26_PFC1_K1_sc3 &lt;dbl&gt; | GW26_PFC1_K1_sc4 &lt;dbl&gt; | GW26_PFC1_K1_sc5 &lt;dbl&gt; | GW26_PFC1_K1_sc6 &lt;dbl&gt; | GW26_PFC1_K1_sc7 &lt;dbl&gt; | GW26_PFC1_K1_sc8 &lt;dbl&gt; | GW26_PFC1_K1_sc9 &lt;dbl&gt; | GW26_PFC1_K1_sc10 &lt;dbl&gt; | ⋯ ⋯ | GW26_PFC1_R1_sc7 &lt;dbl&gt; | GW26_PFC1_R1_sc8 &lt;dbl&gt; | GW26_PFC1_R1_sc9 &lt;dbl&gt; | GW26_PFC1_R1_sc10 &lt;dbl&gt; | GW26_PFC1_R1_sc11 &lt;dbl&gt; | GW26_PFC1_R1_sc12 &lt;dbl&gt; | GW26_PFC1_R1_sc13 &lt;dbl&gt; | GW26_PFC1_R1_sc14 &lt;dbl&gt; | GW26_PFC1_R1_sc15 &lt;dbl&gt; | GW26_PFC1_R1_sc16 &lt;dbl&gt; |\n",
       "|---|---|---|---|---|---|---|---|---|---|---|---|---|---|---|---|---|---|---|---|---|---|\n",
       "| 1 | A1BG     | 0 | 0 | 0.00 | 0 |   0.00 | 0.00 | 0 | 0 | 0 | ⋯ | 21.21 | 0 | 0 | 0 | 0 | 0 | 0 | 0 | 0 |  0.00 |\n",
       "| 2 | A1BG-AS1 | 0 | 0 | 0.00 | 0 |   0.00 | 0.00 | 0 | 0 | 0 | ⋯ |  0.00 | 0 | 0 | 0 | 0 | 0 | 0 | 0 | 0 |  0.00 |\n",
       "| 3 | A1CF     | 0 | 0 | 0.00 | 0 |   0.00 | 0.00 | 0 | 0 | 0 | ⋯ |  0.00 | 0 | 0 | 0 | 0 | 0 | 0 | 0 | 0 |  0.00 |\n",
       "| 4 | A2M      | 0 | 0 | 8.76 | 0 |   0.00 | 2.74 | 0 | 0 | 0 | ⋯ |  0.00 | 0 | 0 | 0 | 0 | 0 | 0 | 0 | 0 | 72.17 |\n",
       "| 5 | A2M-AS1  | 0 | 0 | 0.00 | 0 | 128.58 | 0.00 | 0 | 0 | 0 | ⋯ |  0.00 | 0 | 0 | 0 | 0 | 0 | 0 | 0 | 0 |  0.00 |\n",
       "| 6 | A2ML1    | 0 | 0 | 0.00 | 0 |   0.00 | 0.00 | 0 | 0 | 0 | ⋯ |  0.00 | 0 | 0 | 0 | 0 | 0 | 0 | 0 | 0 |  0.00 |\n",
       "\n"
      ],
      "text/plain": [
       "  Gene     GW26_PFC1_K1_sc2 GW26_PFC1_K1_sc3 GW26_PFC1_K1_sc4 GW26_PFC1_K1_sc5\n",
       "1 A1BG     0                0                0.00             0               \n",
       "2 A1BG-AS1 0                0                0.00             0               \n",
       "3 A1CF     0                0                0.00             0               \n",
       "4 A2M      0                0                8.76             0               \n",
       "5 A2M-AS1  0                0                0.00             0               \n",
       "6 A2ML1    0                0                0.00             0               \n",
       "  GW26_PFC1_K1_sc6 GW26_PFC1_K1_sc7 GW26_PFC1_K1_sc8 GW26_PFC1_K1_sc9\n",
       "1   0.00           0.00             0                0               \n",
       "2   0.00           0.00             0                0               \n",
       "3   0.00           0.00             0                0               \n",
       "4   0.00           2.74             0                0               \n",
       "5 128.58           0.00             0                0               \n",
       "6   0.00           0.00             0                0               \n",
       "  GW26_PFC1_K1_sc10 ⋯ GW26_PFC1_R1_sc7 GW26_PFC1_R1_sc8 GW26_PFC1_R1_sc9\n",
       "1 0                 ⋯ 21.21            0                0               \n",
       "2 0                 ⋯  0.00            0                0               \n",
       "3 0                 ⋯  0.00            0                0               \n",
       "4 0                 ⋯  0.00            0                0               \n",
       "5 0                 ⋯  0.00            0                0               \n",
       "6 0                 ⋯  0.00            0                0               \n",
       "  GW26_PFC1_R1_sc10 GW26_PFC1_R1_sc11 GW26_PFC1_R1_sc12 GW26_PFC1_R1_sc13\n",
       "1 0                 0                 0                 0                \n",
       "2 0                 0                 0                 0                \n",
       "3 0                 0                 0                 0                \n",
       "4 0                 0                 0                 0                \n",
       "5 0                 0                 0                 0                \n",
       "6 0                 0                 0                 0                \n",
       "  GW26_PFC1_R1_sc14 GW26_PFC1_R1_sc15 GW26_PFC1_R1_sc16\n",
       "1 0                 0                  0.00            \n",
       "2 0                 0                  0.00            \n",
       "3 0                 0                  0.00            \n",
       "4 0                 0                 72.17            \n",
       "5 0                 0                  0.00            \n",
       "6 0                 0                  0.00            "
      ]
     },
     "metadata": {},
     "output_type": "display_data"
    },
    {
     "data": {
      "text/html": [
       "<table class=\"dataframe\">\n",
       "<caption>A data.frame: 6 × 79</caption>\n",
       "<thead>\n",
       "\t<tr><th></th><th scope=col>GW26_PFC1_K1_sc2</th><th scope=col>GW26_PFC1_K1_sc3</th><th scope=col>GW26_PFC1_K1_sc4</th><th scope=col>GW26_PFC1_K1_sc5</th><th scope=col>GW26_PFC1_K1_sc6</th><th scope=col>GW26_PFC1_K1_sc7</th><th scope=col>GW26_PFC1_K1_sc8</th><th scope=col>GW26_PFC1_K1_sc9</th><th scope=col>GW26_PFC1_K1_sc10</th><th scope=col>GW26_PFC1_K1_sc11</th><th scope=col>⋯</th><th scope=col>GW26_PFC1_R1_sc7</th><th scope=col>GW26_PFC1_R1_sc8</th><th scope=col>GW26_PFC1_R1_sc9</th><th scope=col>GW26_PFC1_R1_sc10</th><th scope=col>GW26_PFC1_R1_sc11</th><th scope=col>GW26_PFC1_R1_sc12</th><th scope=col>GW26_PFC1_R1_sc13</th><th scope=col>GW26_PFC1_R1_sc14</th><th scope=col>GW26_PFC1_R1_sc15</th><th scope=col>GW26_PFC1_R1_sc16</th></tr>\n",
       "\t<tr><th></th><th scope=col>&lt;dbl&gt;</th><th scope=col>&lt;dbl&gt;</th><th scope=col>&lt;dbl&gt;</th><th scope=col>&lt;dbl&gt;</th><th scope=col>&lt;dbl&gt;</th><th scope=col>&lt;dbl&gt;</th><th scope=col>&lt;dbl&gt;</th><th scope=col>&lt;dbl&gt;</th><th scope=col>&lt;dbl&gt;</th><th scope=col>&lt;dbl&gt;</th><th scope=col>⋯</th><th scope=col>&lt;dbl&gt;</th><th scope=col>&lt;dbl&gt;</th><th scope=col>&lt;dbl&gt;</th><th scope=col>&lt;dbl&gt;</th><th scope=col>&lt;dbl&gt;</th><th scope=col>&lt;dbl&gt;</th><th scope=col>&lt;dbl&gt;</th><th scope=col>&lt;dbl&gt;</th><th scope=col>&lt;dbl&gt;</th><th scope=col>&lt;dbl&gt;</th></tr>\n",
       "</thead>\n",
       "<tbody>\n",
       "\t<tr><th scope=row>A1BG</th><td>0</td><td>0</td><td>0.00</td><td>0</td><td>  0.00</td><td>0.00</td><td>0</td><td>0</td><td>0</td><td>0</td><td>⋯</td><td>21.21</td><td>0</td><td>0</td><td>0</td><td>0</td><td>0</td><td>0</td><td>0</td><td>0</td><td> 0.00</td></tr>\n",
       "\t<tr><th scope=row>A1BG-AS1</th><td>0</td><td>0</td><td>0.00</td><td>0</td><td>  0.00</td><td>0.00</td><td>0</td><td>0</td><td>0</td><td>0</td><td>⋯</td><td> 0.00</td><td>0</td><td>0</td><td>0</td><td>0</td><td>0</td><td>0</td><td>0</td><td>0</td><td> 0.00</td></tr>\n",
       "\t<tr><th scope=row>A1CF</th><td>0</td><td>0</td><td>0.00</td><td>0</td><td>  0.00</td><td>0.00</td><td>0</td><td>0</td><td>0</td><td>0</td><td>⋯</td><td> 0.00</td><td>0</td><td>0</td><td>0</td><td>0</td><td>0</td><td>0</td><td>0</td><td>0</td><td> 0.00</td></tr>\n",
       "\t<tr><th scope=row>A2M</th><td>0</td><td>0</td><td>8.76</td><td>0</td><td>  0.00</td><td>2.74</td><td>0</td><td>0</td><td>0</td><td>0</td><td>⋯</td><td> 0.00</td><td>0</td><td>0</td><td>0</td><td>0</td><td>0</td><td>0</td><td>0</td><td>0</td><td>72.17</td></tr>\n",
       "\t<tr><th scope=row>A2M-AS1</th><td>0</td><td>0</td><td>0.00</td><td>0</td><td>128.58</td><td>0.00</td><td>0</td><td>0</td><td>0</td><td>0</td><td>⋯</td><td> 0.00</td><td>0</td><td>0</td><td>0</td><td>0</td><td>0</td><td>0</td><td>0</td><td>0</td><td> 0.00</td></tr>\n",
       "\t<tr><th scope=row>A2ML1</th><td>0</td><td>0</td><td>0.00</td><td>0</td><td>  0.00</td><td>0.00</td><td>0</td><td>0</td><td>0</td><td>0</td><td>⋯</td><td> 0.00</td><td>0</td><td>0</td><td>0</td><td>0</td><td>0</td><td>0</td><td>0</td><td>0</td><td> 0.00</td></tr>\n",
       "</tbody>\n",
       "</table>\n"
      ],
      "text/latex": [
       "A data.frame: 6 × 79\n",
       "\\begin{tabular}{r|lllllllllllllllllllll}\n",
       "  & GW26\\_PFC1\\_K1\\_sc2 & GW26\\_PFC1\\_K1\\_sc3 & GW26\\_PFC1\\_K1\\_sc4 & GW26\\_PFC1\\_K1\\_sc5 & GW26\\_PFC1\\_K1\\_sc6 & GW26\\_PFC1\\_K1\\_sc7 & GW26\\_PFC1\\_K1\\_sc8 & GW26\\_PFC1\\_K1\\_sc9 & GW26\\_PFC1\\_K1\\_sc10 & GW26\\_PFC1\\_K1\\_sc11 & ⋯ & GW26\\_PFC1\\_R1\\_sc7 & GW26\\_PFC1\\_R1\\_sc8 & GW26\\_PFC1\\_R1\\_sc9 & GW26\\_PFC1\\_R1\\_sc10 & GW26\\_PFC1\\_R1\\_sc11 & GW26\\_PFC1\\_R1\\_sc12 & GW26\\_PFC1\\_R1\\_sc13 & GW26\\_PFC1\\_R1\\_sc14 & GW26\\_PFC1\\_R1\\_sc15 & GW26\\_PFC1\\_R1\\_sc16\\\\\n",
       "  & <dbl> & <dbl> & <dbl> & <dbl> & <dbl> & <dbl> & <dbl> & <dbl> & <dbl> & <dbl> & ⋯ & <dbl> & <dbl> & <dbl> & <dbl> & <dbl> & <dbl> & <dbl> & <dbl> & <dbl> & <dbl>\\\\\n",
       "\\hline\n",
       "\tA1BG & 0 & 0 & 0.00 & 0 &   0.00 & 0.00 & 0 & 0 & 0 & 0 & ⋯ & 21.21 & 0 & 0 & 0 & 0 & 0 & 0 & 0 & 0 &  0.00\\\\\n",
       "\tA1BG-AS1 & 0 & 0 & 0.00 & 0 &   0.00 & 0.00 & 0 & 0 & 0 & 0 & ⋯ &  0.00 & 0 & 0 & 0 & 0 & 0 & 0 & 0 & 0 &  0.00\\\\\n",
       "\tA1CF & 0 & 0 & 0.00 & 0 &   0.00 & 0.00 & 0 & 0 & 0 & 0 & ⋯ &  0.00 & 0 & 0 & 0 & 0 & 0 & 0 & 0 & 0 &  0.00\\\\\n",
       "\tA2M & 0 & 0 & 8.76 & 0 &   0.00 & 2.74 & 0 & 0 & 0 & 0 & ⋯ &  0.00 & 0 & 0 & 0 & 0 & 0 & 0 & 0 & 0 & 72.17\\\\\n",
       "\tA2M-AS1 & 0 & 0 & 0.00 & 0 & 128.58 & 0.00 & 0 & 0 & 0 & 0 & ⋯ &  0.00 & 0 & 0 & 0 & 0 & 0 & 0 & 0 & 0 &  0.00\\\\\n",
       "\tA2ML1 & 0 & 0 & 0.00 & 0 &   0.00 & 0.00 & 0 & 0 & 0 & 0 & ⋯ &  0.00 & 0 & 0 & 0 & 0 & 0 & 0 & 0 & 0 &  0.00\\\\\n",
       "\\end{tabular}\n"
      ],
      "text/markdown": [
       "\n",
       "A data.frame: 6 × 79\n",
       "\n",
       "| <!--/--> | GW26_PFC1_K1_sc2 &lt;dbl&gt; | GW26_PFC1_K1_sc3 &lt;dbl&gt; | GW26_PFC1_K1_sc4 &lt;dbl&gt; | GW26_PFC1_K1_sc5 &lt;dbl&gt; | GW26_PFC1_K1_sc6 &lt;dbl&gt; | GW26_PFC1_K1_sc7 &lt;dbl&gt; | GW26_PFC1_K1_sc8 &lt;dbl&gt; | GW26_PFC1_K1_sc9 &lt;dbl&gt; | GW26_PFC1_K1_sc10 &lt;dbl&gt; | GW26_PFC1_K1_sc11 &lt;dbl&gt; | ⋯ ⋯ | GW26_PFC1_R1_sc7 &lt;dbl&gt; | GW26_PFC1_R1_sc8 &lt;dbl&gt; | GW26_PFC1_R1_sc9 &lt;dbl&gt; | GW26_PFC1_R1_sc10 &lt;dbl&gt; | GW26_PFC1_R1_sc11 &lt;dbl&gt; | GW26_PFC1_R1_sc12 &lt;dbl&gt; | GW26_PFC1_R1_sc13 &lt;dbl&gt; | GW26_PFC1_R1_sc14 &lt;dbl&gt; | GW26_PFC1_R1_sc15 &lt;dbl&gt; | GW26_PFC1_R1_sc16 &lt;dbl&gt; |\n",
       "|---|---|---|---|---|---|---|---|---|---|---|---|---|---|---|---|---|---|---|---|---|---|\n",
       "| A1BG | 0 | 0 | 0.00 | 0 |   0.00 | 0.00 | 0 | 0 | 0 | 0 | ⋯ | 21.21 | 0 | 0 | 0 | 0 | 0 | 0 | 0 | 0 |  0.00 |\n",
       "| A1BG-AS1 | 0 | 0 | 0.00 | 0 |   0.00 | 0.00 | 0 | 0 | 0 | 0 | ⋯ |  0.00 | 0 | 0 | 0 | 0 | 0 | 0 | 0 | 0 |  0.00 |\n",
       "| A1CF | 0 | 0 | 0.00 | 0 |   0.00 | 0.00 | 0 | 0 | 0 | 0 | ⋯ |  0.00 | 0 | 0 | 0 | 0 | 0 | 0 | 0 | 0 |  0.00 |\n",
       "| A2M | 0 | 0 | 8.76 | 0 |   0.00 | 2.74 | 0 | 0 | 0 | 0 | ⋯ |  0.00 | 0 | 0 | 0 | 0 | 0 | 0 | 0 | 0 | 72.17 |\n",
       "| A2M-AS1 | 0 | 0 | 0.00 | 0 | 128.58 | 0.00 | 0 | 0 | 0 | 0 | ⋯ |  0.00 | 0 | 0 | 0 | 0 | 0 | 0 | 0 | 0 |  0.00 |\n",
       "| A2ML1 | 0 | 0 | 0.00 | 0 |   0.00 | 0.00 | 0 | 0 | 0 | 0 | ⋯ |  0.00 | 0 | 0 | 0 | 0 | 0 | 0 | 0 | 0 |  0.00 |\n",
       "\n"
      ],
      "text/plain": [
       "         GW26_PFC1_K1_sc2 GW26_PFC1_K1_sc3 GW26_PFC1_K1_sc4 GW26_PFC1_K1_sc5\n",
       "A1BG     0                0                0.00             0               \n",
       "A1BG-AS1 0                0                0.00             0               \n",
       "A1CF     0                0                0.00             0               \n",
       "A2M      0                0                8.76             0               \n",
       "A2M-AS1  0                0                0.00             0               \n",
       "A2ML1    0                0                0.00             0               \n",
       "         GW26_PFC1_K1_sc6 GW26_PFC1_K1_sc7 GW26_PFC1_K1_sc8 GW26_PFC1_K1_sc9\n",
       "A1BG       0.00           0.00             0                0               \n",
       "A1BG-AS1   0.00           0.00             0                0               \n",
       "A1CF       0.00           0.00             0                0               \n",
       "A2M        0.00           2.74             0                0               \n",
       "A2M-AS1  128.58           0.00             0                0               \n",
       "A2ML1      0.00           0.00             0                0               \n",
       "         GW26_PFC1_K1_sc10 GW26_PFC1_K1_sc11 ⋯ GW26_PFC1_R1_sc7\n",
       "A1BG     0                 0                 ⋯ 21.21           \n",
       "A1BG-AS1 0                 0                 ⋯  0.00           \n",
       "A1CF     0                 0                 ⋯  0.00           \n",
       "A2M      0                 0                 ⋯  0.00           \n",
       "A2M-AS1  0                 0                 ⋯  0.00           \n",
       "A2ML1    0                 0                 ⋯  0.00           \n",
       "         GW26_PFC1_R1_sc8 GW26_PFC1_R1_sc9 GW26_PFC1_R1_sc10 GW26_PFC1_R1_sc11\n",
       "A1BG     0                0                0                 0                \n",
       "A1BG-AS1 0                0                0                 0                \n",
       "A1CF     0                0                0                 0                \n",
       "A2M      0                0                0                 0                \n",
       "A2M-AS1  0                0                0                 0                \n",
       "A2ML1    0                0                0                 0                \n",
       "         GW26_PFC1_R1_sc12 GW26_PFC1_R1_sc13 GW26_PFC1_R1_sc14\n",
       "A1BG     0                 0                 0                \n",
       "A1BG-AS1 0                 0                 0                \n",
       "A1CF     0                 0                 0                \n",
       "A2M      0                 0                 0                \n",
       "A2M-AS1  0                 0                 0                \n",
       "A2ML1    0                 0                 0                \n",
       "         GW26_PFC1_R1_sc15 GW26_PFC1_R1_sc16\n",
       "A1BG     0                  0.00            \n",
       "A1BG-AS1 0                  0.00            \n",
       "A1CF     0                  0.00            \n",
       "A2M      0                 72.17            \n",
       "A2M-AS1  0                  0.00            \n",
       "A2ML1    0                  0.00            "
      ]
     },
     "metadata": {},
     "output_type": "display_data"
    },
    {
     "data": {
      "text/html": [
       "<style>\n",
       ".list-inline {list-style: none; margin:0; padding: 0}\n",
       ".list-inline>li {display: inline-block}\n",
       ".list-inline>li:not(:last-child)::after {content: \"\\00b7\"; padding: 0 .5ex}\n",
       "</style>\n",
       "<ol class=list-inline><li>67</li><li>8</li></ol>\n"
      ],
      "text/latex": [
       "\\begin{enumerate*}\n",
       "\\item 67\n",
       "\\item 8\n",
       "\\end{enumerate*}\n"
      ],
      "text/markdown": [
       "1. 67\n",
       "2. 8\n",
       "\n",
       "\n"
      ],
      "text/plain": [
       "[1] 67  8"
      ]
     },
     "metadata": {},
     "output_type": "display_data"
    }
   ],
   "source": [
    "#########PFC样本ADAR家族表达情况\n",
    "expression_26 <- read.table(\"/disk1/wenqing/tmp_data/PFC_s2/20240425_useful_matrix/GSM2884091_GW26_PFC1_8.UMI_TPM_no_ERCC.txt\",header=T)\n",
    "head(expression_26)\n",
    "\n",
    "rownames(expression_26) <- expression_26[,1]\n",
    "expression_26 <- expression_26[,-1]\n",
    "head(expression_26)\n",
    "#expression_26 <- expression_26[,-1]\n",
    "####按细胞类型对表达分组\n",
    "info_26 <- all_info[all_info$week=='GW26',]\n",
    "dim(info_26)\n",
    "####GABA-ADAR1\n",
    "cell_name_GABA <- rownames(info_26)[info_26$cell_types=='GABAergic_neurons']\n",
    "#ADAR''ADARB1''ADARB2''ADARB2-AS1\n",
    "cell_name_GABA <- intersect(colnames(expression_26),cell_name_GABA)\n",
    "adar1_expr_GABA <- expression_26['ADAR',cell_name_GABA]\n",
    "mean_adar1_expr_GABA <- sum(adar1_expr_GABA)/length(adar1_expr_GABA)\n",
    "\n",
    "####neuron-ADAR1\n",
    "cell_name_neuron <- rownames(info_26)[info_26$cell_types=='Neurons']\n",
    "#ADAR''ADARB1''ADARB2''ADARB2-AS1\n",
    "cell_name_neuron <- intersect(colnames(expression_26),cell_name_neuron)\n",
    "adar1_expr_neuron <- expression_26['ADAR',cell_name_neuron]\n",
    "mean_adar1_expr_neuron <- sum(adar1_expr_neuron)/length(adar1_expr_neuron)\n",
    "####OPC-ADAR1\n",
    "cell_name_opc <- rownames(info_26)[info_26$cell_types=='OPC']\n",
    "#ADAR''ADARB1''ADARB2''ADARB2-AS1\n",
    "cell_name_opc <- intersect(colnames(expression_26),cell_name_opc)\n",
    "adar1_expr_opc <- expression_26['ADAR',cell_name_opc]\n",
    "mean_adar1_expr_opc <- sum(adar1_expr_opc)/length(adar1_expr_opc)\n",
    "all_celltype_adar1_26 <- c(mean_adar1_expr_GABA,mean_adar1_expr_neuron,mean_adar1_expr_opc)"
   ]
  },
  {
   "cell_type": "code",
   "execution_count": null,
   "metadata": {
    "vscode": {
     "languageId": "r"
    }
   },
   "outputs": [
    {
     "name": "stderr",
     "output_type": "stream",
     "text": [
      "Warning message:\n",
      "“\u001b[1m\u001b[22mReturning more (or less) than 1 row per `summarise()` group was deprecated in\n",
      "dplyr 1.1.0.\n",
      "\u001b[36mℹ\u001b[39m Please use `reframe()` instead.\n",
      "\u001b[36mℹ\u001b[39m When switching from `summarise()` to `reframe()`, remember that `reframe()`\n",
      "  always returns an ungrouped data frame and adjust accordingly.”\n",
      "\u001b[1m\u001b[22m`summarise()` has grouped output by 'group'. You can override using the\n",
      "`.groups` argument.\n"
     ]
    },
    {
     "data": {
      "text/html": [
       "<table class=\"dataframe\">\n",
       "<caption>A grouped_df: 6 × 5</caption>\n",
       "<thead>\n",
       "\t<tr><th scope=col>group</th><th scope=col>count</th><th scope=col>mean</th><th scope=col>sd</th><th scope=col>rg</th></tr>\n",
       "\t<tr><th scope=col>&lt;chr&gt;</th><th scope=col>&lt;int&gt;</th><th scope=col>&lt;dbl&gt;</th><th scope=col>&lt;dbl&gt;</th><th scope=col>&lt;dbl&gt;</th></tr>\n",
       "</thead>\n",
       "<tbody>\n",
       "\t<tr><td>GABA  </td><td>4</td><td>22.29793</td><td>14.35323</td><td>  6.29000</td></tr>\n",
       "\t<tr><td>GABA  </td><td>4</td><td>22.29793</td><td>14.35323</td><td> 40.75647</td></tr>\n",
       "\t<tr><td>Neuron</td><td>4</td><td>39.40569</td><td>34.36737</td><td> 12.39538</td></tr>\n",
       "\t<tr><td>Neuron</td><td>4</td><td>39.40569</td><td>34.36737</td><td> 89.62100</td></tr>\n",
       "\t<tr><td>OPC   </td><td>4</td><td>35.16830</td><td>48.35452</td><td>  6.22500</td></tr>\n",
       "\t<tr><td>OPC   </td><td>4</td><td>35.16830</td><td>48.35452</td><td>107.47000</td></tr>\n",
       "</tbody>\n",
       "</table>\n"
      ],
      "text/latex": [
       "A grouped\\_df: 6 × 5\n",
       "\\begin{tabular}{lllll}\n",
       " group & count & mean & sd & rg\\\\\n",
       " <chr> & <int> & <dbl> & <dbl> & <dbl>\\\\\n",
       "\\hline\n",
       "\t GABA   & 4 & 22.29793 & 14.35323 &   6.29000\\\\\n",
       "\t GABA   & 4 & 22.29793 & 14.35323 &  40.75647\\\\\n",
       "\t Neuron & 4 & 39.40569 & 34.36737 &  12.39538\\\\\n",
       "\t Neuron & 4 & 39.40569 & 34.36737 &  89.62100\\\\\n",
       "\t OPC    & 4 & 35.16830 & 48.35452 &   6.22500\\\\\n",
       "\t OPC    & 4 & 35.16830 & 48.35452 & 107.47000\\\\\n",
       "\\end{tabular}\n"
      ],
      "text/markdown": [
       "\n",
       "A grouped_df: 6 × 5\n",
       "\n",
       "| group &lt;chr&gt; | count &lt;int&gt; | mean &lt;dbl&gt; | sd &lt;dbl&gt; | rg &lt;dbl&gt; |\n",
       "|---|---|---|---|---|\n",
       "| GABA   | 4 | 22.29793 | 14.35323 |   6.29000 |\n",
       "| GABA   | 4 | 22.29793 | 14.35323 |  40.75647 |\n",
       "| Neuron | 4 | 39.40569 | 34.36737 |  12.39538 |\n",
       "| Neuron | 4 | 39.40569 | 34.36737 |  89.62100 |\n",
       "| OPC    | 4 | 35.16830 | 48.35452 |   6.22500 |\n",
       "| OPC    | 4 | 35.16830 | 48.35452 | 107.47000 |\n",
       "\n"
      ],
      "text/plain": [
       "  group  count mean     sd       rg       \n",
       "1 GABA   4     22.29793 14.35323   6.29000\n",
       "2 GABA   4     22.29793 14.35323  40.75647\n",
       "3 Neuron 4     39.40569 34.36737  12.39538\n",
       "4 Neuron 4     39.40569 34.36737  89.62100\n",
       "5 OPC    4     35.16830 48.35452   6.22500\n",
       "6 OPC    4     35.16830 48.35452 107.47000"
      ]
     },
     "metadata": {},
     "output_type": "display_data"
    },
    {
     "data": {
      "image/png": "[encoded data removed]",
      "text/plain": [
       "plot without title"
      ]
     },
     "metadata": {},
     "output_type": "display_data"
    }
   ],
   "source": [
    "all_adar_expr <- c(all_celltype_adar1_12,all_celltype_adar1_16,all_celltype_adar1_19,all_celltype_adar1_26)\n",
    "all_adars <- data.frame(\n",
    "  #group=c(rep(c(\"MGE-GABA\",\"GLU\",\"Olig\"),AEI_nums)),\n",
    "  #group=c(rep(c(\"Microglia\",\"CGE-derived InN\",\"MGE-derived InN\",\"Olig\",\"Astrocyte\",\"DG ExN\",\"Non_DG ExN\"),AEI_nums)),\n",
    "  group=c(rep(c(\"GABA\",\"Neuron\",\"OPC\"),times=4)),\n",
    "  expr=all_adar_expr,\n",
    "  phase=c(rep(c(\"12\",\"16\",\"19\",\"26\"),each=3))  \n",
    ")\n",
    "\n",
    "group_by(all_adars, group) %>%\n",
    "  summarise(\n",
    "    count = n(),\n",
    "    mean = mean(expr, na.rm = TRUE),\n",
    "    sd = sd(expr, na.rm = TRUE),\n",
    "    rg = range(expr, na.rm = TRUE)\n",
    "  )\n",
    "all_adars$group = factor(all_adars$group, levels=c(\"GABA\",\"Neuron\",\"OPC\"))\n",
    "\n",
    "\n",
    "compaired_adar <- list(c(\"GABA\",\"OPC\"),\n",
    "                         c(\"Neuron\",\"OPC\"),\n",
    "                         c(\"GABA\",\"Neuron\"))\n",
    "\n",
    "ggboxplot(all_adars, x=\"group\", y = \"expr\", color = \"group\", palette = \"jco\", add = \"jitter\",  short.panel.labs = FALSE) +\n",
    "  stat_compare_means(comparisons=compaired_adar,method=\"wilcox.test\",label=\"p.format\",paired=F, step_increase = 0.5)\n",
    "\n"
   ]
  }
 ],
 "metadata": {
  "kernelspec": {
   "display_name": "R",
   "language": "R",
   "name": "ir"
  },
  "language_info": {
   "codemirror_mode": "r",
   "file_extension": ".r",
   "mimetype": "text/x-r-source",
   "name": "R",
   "pygments_lexer": "r",
   "version": "4.3.1"
  },
  "orig_nbformat": 4
 },
 "nbformat": 4,
 "nbformat_minor": 2
}
