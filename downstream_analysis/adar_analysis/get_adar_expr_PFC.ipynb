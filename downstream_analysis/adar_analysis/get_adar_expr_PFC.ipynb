{
 "cells": [
  {
   "cell_type": "code",
   "execution_count": 1,
   "metadata": {
    "vscode": {
     "languageId": "r"
    }
   },
   "outputs": [],
   "source": [
    ".libPaths('/disk1/wenqing/anaconda3/envs/wq_R4.2/lib/R/library')"
   ]
  },
  {
   "cell_type": "code",
   "execution_count": 1,
   "metadata": {
    "vscode": {
     "languageId": "r"
    }
   },
   "outputs": [],
   "source": [
    "all_info <- read.table(\"/disk1/wenqing/tmp_data/PFC_s2/20240425_use_info.txt\")"
   ]
  },
  {
   "cell_type": "code",
   "execution_count": 2,
   "metadata": {
    "vscode": {
     "languageId": "r"
    }
   },
   "outputs": [
    {
     "data": {
      "text/html": [
       "<style>\n",
       ".list-inline {list-style: none; margin:0; padding: 0}\n",
       ".list-inline>li {display: inline-block}\n",
       ".list-inline>li:not(:last-child)::after {content: \"\\00b7\"; padding: 0 .5ex}\n",
       "</style>\n",
       "<ol class=list-inline><li>481</li><li>8</li></ol>\n"
      ],
      "text/latex": [
       "\\begin{enumerate*}\n",
       "\\item 481\n",
       "\\item 8\n",
       "\\end{enumerate*}\n"
      ],
      "text/markdown": [
       "1. 481\n",
       "2. 8\n",
       "\n",
       "\n"
      ],
      "text/plain": [
       "[1] 481   8"
      ]
     },
     "metadata": {},
     "output_type": "display_data"
    }
   ],
   "source": [
    "dim(all_info)"
   ]
  },
  {
   "cell_type": "code",
   "execution_count": 3,
   "metadata": {
    "vscode": {
     "languageId": "r"
    }
   },
   "outputs": [
    {
     "data": {
      "text/html": [
       "<table class=\"dataframe\">\n",
       "<caption>A data.frame: 6 × 89</caption>\n",
       "<thead>\n",
       "\t<tr><th></th><th scope=col>Gene</th><th scope=col>GW12_PFC1_sc1</th><th scope=col>GW12_PFC1_sc2</th><th scope=col>GW12_PFC1_sc3</th><th scope=col>GW12_PFC1_sc4</th><th scope=col>GW12_PFC1_sc5</th><th scope=col>GW12_PFC1_sc6</th><th scope=col>GW12_PFC1_sc7</th><th scope=col>GW12_PFC1_sc8</th><th scope=col>GW12_PFC1_sc9</th><th scope=col>⋯</th><th scope=col>GW12_PFC1_sc81</th><th scope=col>GW12_PFC1_sc82</th><th scope=col>GW12_PFC1_sc83</th><th scope=col>GW12_PFC1_sc84</th><th scope=col>GW12_PFC1_sc85</th><th scope=col>GW12_PFC1_sc86</th><th scope=col>GW12_PFC1_sc87</th><th scope=col>GW12_PFC1_sc88</th><th scope=col>GW12_PFC1_sc89</th><th scope=col>GW12_PFC1_sc90</th></tr>\n",
       "\t<tr><th></th><th scope=col>&lt;chr&gt;</th><th scope=col>&lt;dbl&gt;</th><th scope=col>&lt;dbl&gt;</th><th scope=col>&lt;dbl&gt;</th><th scope=col>&lt;dbl&gt;</th><th scope=col>&lt;dbl&gt;</th><th scope=col>&lt;dbl&gt;</th><th scope=col>&lt;dbl&gt;</th><th scope=col>&lt;dbl&gt;</th><th scope=col>&lt;dbl&gt;</th><th scope=col>⋯</th><th scope=col>&lt;dbl&gt;</th><th scope=col>&lt;dbl&gt;</th><th scope=col>&lt;dbl&gt;</th><th scope=col>&lt;dbl&gt;</th><th scope=col>&lt;dbl&gt;</th><th scope=col>&lt;dbl&gt;</th><th scope=col>&lt;dbl&gt;</th><th scope=col>&lt;dbl&gt;</th><th scope=col>&lt;dbl&gt;</th><th scope=col>&lt;dbl&gt;</th></tr>\n",
       "</thead>\n",
       "<tbody>\n",
       "\t<tr><th scope=row>1</th><td>A1BG    </td><td>0</td><td>0.00</td><td>0</td><td>  5.65</td><td>0.00</td><td>0</td><td>0</td><td>0</td><td>0</td><td>⋯</td><td>0</td><td>0</td><td>0</td><td>0</td><td>0</td><td>0</td><td>0</td><td>0</td><td>0</td><td>0</td></tr>\n",
       "\t<tr><th scope=row>2</th><td>A1BG-AS1</td><td>0</td><td>0.00</td><td>0</td><td>  0.00</td><td>0.00</td><td>0</td><td>0</td><td>0</td><td>0</td><td>⋯</td><td>0</td><td>0</td><td>0</td><td>0</td><td>0</td><td>0</td><td>0</td><td>0</td><td>0</td><td>0</td></tr>\n",
       "\t<tr><th scope=row>3</th><td>A1CF    </td><td>0</td><td>0.00</td><td>0</td><td>  0.00</td><td>0.00</td><td>0</td><td>0</td><td>0</td><td>0</td><td>⋯</td><td>0</td><td>0</td><td>0</td><td>0</td><td>0</td><td>0</td><td>0</td><td>0</td><td>0</td><td>0</td></tr>\n",
       "\t<tr><th scope=row>4</th><td>A2M     </td><td>0</td><td>6.33</td><td>0</td><td> 70.64</td><td>5.79</td><td>0</td><td>0</td><td>0</td><td>0</td><td>⋯</td><td>0</td><td>0</td><td>0</td><td>0</td><td>0</td><td>0</td><td>0</td><td>0</td><td>0</td><td>0</td></tr>\n",
       "\t<tr><th scope=row>5</th><td>A2M-AS1 </td><td>0</td><td>0.00</td><td>0</td><td>124.32</td><td>0.00</td><td>0</td><td>0</td><td>0</td><td>0</td><td>⋯</td><td>0</td><td>0</td><td>0</td><td>0</td><td>0</td><td>0</td><td>0</td><td>0</td><td>0</td><td>0</td></tr>\n",
       "\t<tr><th scope=row>6</th><td>A2ML1   </td><td>0</td><td>0.00</td><td>0</td><td>  0.00</td><td>0.00</td><td>0</td><td>0</td><td>0</td><td>0</td><td>⋯</td><td>0</td><td>0</td><td>0</td><td>0</td><td>0</td><td>0</td><td>0</td><td>0</td><td>0</td><td>0</td></tr>\n",
       "</tbody>\n",
       "</table>\n"
      ],
      "text/latex": [
       "A data.frame: 6 × 89\n",
       "\\begin{tabular}{r|lllllllllllllllllllll}\n",
       "  & Gene & GW12\\_PFC1\\_sc1 & GW12\\_PFC1\\_sc2 & GW12\\_PFC1\\_sc3 & GW12\\_PFC1\\_sc4 & GW12\\_PFC1\\_sc5 & GW12\\_PFC1\\_sc6 & GW12\\_PFC1\\_sc7 & GW12\\_PFC1\\_sc8 & GW12\\_PFC1\\_sc9 & ⋯ & GW12\\_PFC1\\_sc81 & GW12\\_PFC1\\_sc82 & GW12\\_PFC1\\_sc83 & GW12\\_PFC1\\_sc84 & GW12\\_PFC1\\_sc85 & GW12\\_PFC1\\_sc86 & GW12\\_PFC1\\_sc87 & GW12\\_PFC1\\_sc88 & GW12\\_PFC1\\_sc89 & GW12\\_PFC1\\_sc90\\\\\n",
       "  & <chr> & <dbl> & <dbl> & <dbl> & <dbl> & <dbl> & <dbl> & <dbl> & <dbl> & <dbl> & ⋯ & <dbl> & <dbl> & <dbl> & <dbl> & <dbl> & <dbl> & <dbl> & <dbl> & <dbl> & <dbl>\\\\\n",
       "\\hline\n",
       "\t1 & A1BG     & 0 & 0.00 & 0 &   5.65 & 0.00 & 0 & 0 & 0 & 0 & ⋯ & 0 & 0 & 0 & 0 & 0 & 0 & 0 & 0 & 0 & 0\\\\\n",
       "\t2 & A1BG-AS1 & 0 & 0.00 & 0 &   0.00 & 0.00 & 0 & 0 & 0 & 0 & ⋯ & 0 & 0 & 0 & 0 & 0 & 0 & 0 & 0 & 0 & 0\\\\\n",
       "\t3 & A1CF     & 0 & 0.00 & 0 &   0.00 & 0.00 & 0 & 0 & 0 & 0 & ⋯ & 0 & 0 & 0 & 0 & 0 & 0 & 0 & 0 & 0 & 0\\\\\n",
       "\t4 & A2M      & 0 & 6.33 & 0 &  70.64 & 5.79 & 0 & 0 & 0 & 0 & ⋯ & 0 & 0 & 0 & 0 & 0 & 0 & 0 & 0 & 0 & 0\\\\\n",
       "\t5 & A2M-AS1  & 0 & 0.00 & 0 & 124.32 & 0.00 & 0 & 0 & 0 & 0 & ⋯ & 0 & 0 & 0 & 0 & 0 & 0 & 0 & 0 & 0 & 0\\\\\n",
       "\t6 & A2ML1    & 0 & 0.00 & 0 &   0.00 & 0.00 & 0 & 0 & 0 & 0 & ⋯ & 0 & 0 & 0 & 0 & 0 & 0 & 0 & 0 & 0 & 0\\\\\n",
       "\\end{tabular}\n"
      ],
      "text/markdown": [
       "\n",
       "A data.frame: 6 × 89\n",
       "\n",
       "| <!--/--> | Gene &lt;chr&gt; | GW12_PFC1_sc1 &lt;dbl&gt; | GW12_PFC1_sc2 &lt;dbl&gt; | GW12_PFC1_sc3 &lt;dbl&gt; | GW12_PFC1_sc4 &lt;dbl&gt; | GW12_PFC1_sc5 &lt;dbl&gt; | GW12_PFC1_sc6 &lt;dbl&gt; | GW12_PFC1_sc7 &lt;dbl&gt; | GW12_PFC1_sc8 &lt;dbl&gt; | GW12_PFC1_sc9 &lt;dbl&gt; | ⋯ ⋯ | GW12_PFC1_sc81 &lt;dbl&gt; | GW12_PFC1_sc82 &lt;dbl&gt; | GW12_PFC1_sc83 &lt;dbl&gt; | GW12_PFC1_sc84 &lt;dbl&gt; | GW12_PFC1_sc85 &lt;dbl&gt; | GW12_PFC1_sc86 &lt;dbl&gt; | GW12_PFC1_sc87 &lt;dbl&gt; | GW12_PFC1_sc88 &lt;dbl&gt; | GW12_PFC1_sc89 &lt;dbl&gt; | GW12_PFC1_sc90 &lt;dbl&gt; |\n",
       "|---|---|---|---|---|---|---|---|---|---|---|---|---|---|---|---|---|---|---|---|---|---|\n",
       "| 1 | A1BG     | 0 | 0.00 | 0 |   5.65 | 0.00 | 0 | 0 | 0 | 0 | ⋯ | 0 | 0 | 0 | 0 | 0 | 0 | 0 | 0 | 0 | 0 |\n",
       "| 2 | A1BG-AS1 | 0 | 0.00 | 0 |   0.00 | 0.00 | 0 | 0 | 0 | 0 | ⋯ | 0 | 0 | 0 | 0 | 0 | 0 | 0 | 0 | 0 | 0 |\n",
       "| 3 | A1CF     | 0 | 0.00 | 0 |   0.00 | 0.00 | 0 | 0 | 0 | 0 | ⋯ | 0 | 0 | 0 | 0 | 0 | 0 | 0 | 0 | 0 | 0 |\n",
       "| 4 | A2M      | 0 | 6.33 | 0 |  70.64 | 5.79 | 0 | 0 | 0 | 0 | ⋯ | 0 | 0 | 0 | 0 | 0 | 0 | 0 | 0 | 0 | 0 |\n",
       "| 5 | A2M-AS1  | 0 | 0.00 | 0 | 124.32 | 0.00 | 0 | 0 | 0 | 0 | ⋯ | 0 | 0 | 0 | 0 | 0 | 0 | 0 | 0 | 0 | 0 |\n",
       "| 6 | A2ML1    | 0 | 0.00 | 0 |   0.00 | 0.00 | 0 | 0 | 0 | 0 | ⋯ | 0 | 0 | 0 | 0 | 0 | 0 | 0 | 0 | 0 | 0 |\n",
       "\n"
      ],
      "text/plain": [
       "  Gene     GW12_PFC1_sc1 GW12_PFC1_sc2 GW12_PFC1_sc3 GW12_PFC1_sc4\n",
       "1 A1BG     0             0.00          0               5.65       \n",
       "2 A1BG-AS1 0             0.00          0               0.00       \n",
       "3 A1CF     0             0.00          0               0.00       \n",
       "4 A2M      0             6.33          0              70.64       \n",
       "5 A2M-AS1  0             0.00          0             124.32       \n",
       "6 A2ML1    0             0.00          0               0.00       \n",
       "  GW12_PFC1_sc5 GW12_PFC1_sc6 GW12_PFC1_sc7 GW12_PFC1_sc8 GW12_PFC1_sc9 ⋯\n",
       "1 0.00          0             0             0             0             ⋯\n",
       "2 0.00          0             0             0             0             ⋯\n",
       "3 0.00          0             0             0             0             ⋯\n",
       "4 5.79          0             0             0             0             ⋯\n",
       "5 0.00          0             0             0             0             ⋯\n",
       "6 0.00          0             0             0             0             ⋯\n",
       "  GW12_PFC1_sc81 GW12_PFC1_sc82 GW12_PFC1_sc83 GW12_PFC1_sc84 GW12_PFC1_sc85\n",
       "1 0              0              0              0              0             \n",
       "2 0              0              0              0              0             \n",
       "3 0              0              0              0              0             \n",
       "4 0              0              0              0              0             \n",
       "5 0              0              0              0              0             \n",
       "6 0              0              0              0              0             \n",
       "  GW12_PFC1_sc86 GW12_PFC1_sc87 GW12_PFC1_sc88 GW12_PFC1_sc89 GW12_PFC1_sc90\n",
       "1 0              0              0              0              0             \n",
       "2 0              0              0              0              0             \n",
       "3 0              0              0              0              0             \n",
       "4 0              0              0              0              0             \n",
       "5 0              0              0              0              0             \n",
       "6 0              0              0              0              0             "
      ]
     },
     "metadata": {},
     "output_type": "display_data"
    }
   ],
   "source": [
    "#########PFC样本ADAR家族表达情况\n",
    "expression_12 <- read.table(\"/disk1/wenqing/tmp_data/PFC_s2/20240425_useful_matrix/GSM2884066_GW12_PFC1.UMI_TPM_no_ERCC.txt\",header=T)\n",
    "head(expression_12)\n"
   ]
  },
  {
   "cell_type": "code",
   "execution_count": 4,
   "metadata": {
    "vscode": {
     "languageId": "r"
    }
   },
   "outputs": [
    {
     "data": {
      "text/html": [
       "<table class=\"dataframe\">\n",
       "<caption>A data.frame: 6 × 88</caption>\n",
       "<thead>\n",
       "\t<tr><th></th><th scope=col>GW12_PFC1_sc1</th><th scope=col>GW12_PFC1_sc2</th><th scope=col>GW12_PFC1_sc3</th><th scope=col>GW12_PFC1_sc4</th><th scope=col>GW12_PFC1_sc5</th><th scope=col>GW12_PFC1_sc6</th><th scope=col>GW12_PFC1_sc7</th><th scope=col>GW12_PFC1_sc8</th><th scope=col>GW12_PFC1_sc9</th><th scope=col>GW12_PFC1_sc10</th><th scope=col>⋯</th><th scope=col>GW12_PFC1_sc81</th><th scope=col>GW12_PFC1_sc82</th><th scope=col>GW12_PFC1_sc83</th><th scope=col>GW12_PFC1_sc84</th><th scope=col>GW12_PFC1_sc85</th><th scope=col>GW12_PFC1_sc86</th><th scope=col>GW12_PFC1_sc87</th><th scope=col>GW12_PFC1_sc88</th><th scope=col>GW12_PFC1_sc89</th><th scope=col>GW12_PFC1_sc90</th></tr>\n",
       "\t<tr><th></th><th scope=col>&lt;dbl&gt;</th><th scope=col>&lt;dbl&gt;</th><th scope=col>&lt;dbl&gt;</th><th scope=col>&lt;dbl&gt;</th><th scope=col>&lt;dbl&gt;</th><th scope=col>&lt;dbl&gt;</th><th scope=col>&lt;dbl&gt;</th><th scope=col>&lt;dbl&gt;</th><th scope=col>&lt;dbl&gt;</th><th scope=col>&lt;dbl&gt;</th><th scope=col>⋯</th><th scope=col>&lt;dbl&gt;</th><th scope=col>&lt;dbl&gt;</th><th scope=col>&lt;dbl&gt;</th><th scope=col>&lt;dbl&gt;</th><th scope=col>&lt;dbl&gt;</th><th scope=col>&lt;dbl&gt;</th><th scope=col>&lt;dbl&gt;</th><th scope=col>&lt;dbl&gt;</th><th scope=col>&lt;dbl&gt;</th><th scope=col>&lt;dbl&gt;</th></tr>\n",
       "</thead>\n",
       "<tbody>\n",
       "\t<tr><th scope=row>A1BG</th><td>0</td><td>0.00</td><td>0</td><td>  5.65</td><td>0.00</td><td>0</td><td>0</td><td>0</td><td>0</td><td>0</td><td>⋯</td><td>0</td><td>0</td><td>0</td><td>0</td><td>0</td><td>0</td><td>0</td><td>0</td><td>0</td><td>0</td></tr>\n",
       "\t<tr><th scope=row>A1BG-AS1</th><td>0</td><td>0.00</td><td>0</td><td>  0.00</td><td>0.00</td><td>0</td><td>0</td><td>0</td><td>0</td><td>0</td><td>⋯</td><td>0</td><td>0</td><td>0</td><td>0</td><td>0</td><td>0</td><td>0</td><td>0</td><td>0</td><td>0</td></tr>\n",
       "\t<tr><th scope=row>A1CF</th><td>0</td><td>0.00</td><td>0</td><td>  0.00</td><td>0.00</td><td>0</td><td>0</td><td>0</td><td>0</td><td>0</td><td>⋯</td><td>0</td><td>0</td><td>0</td><td>0</td><td>0</td><td>0</td><td>0</td><td>0</td><td>0</td><td>0</td></tr>\n",
       "\t<tr><th scope=row>A2M</th><td>0</td><td>6.33</td><td>0</td><td> 70.64</td><td>5.79</td><td>0</td><td>0</td><td>0</td><td>0</td><td>0</td><td>⋯</td><td>0</td><td>0</td><td>0</td><td>0</td><td>0</td><td>0</td><td>0</td><td>0</td><td>0</td><td>0</td></tr>\n",
       "\t<tr><th scope=row>A2M-AS1</th><td>0</td><td>0.00</td><td>0</td><td>124.32</td><td>0.00</td><td>0</td><td>0</td><td>0</td><td>0</td><td>0</td><td>⋯</td><td>0</td><td>0</td><td>0</td><td>0</td><td>0</td><td>0</td><td>0</td><td>0</td><td>0</td><td>0</td></tr>\n",
       "\t<tr><th scope=row>A2ML1</th><td>0</td><td>0.00</td><td>0</td><td>  0.00</td><td>0.00</td><td>0</td><td>0</td><td>0</td><td>0</td><td>0</td><td>⋯</td><td>0</td><td>0</td><td>0</td><td>0</td><td>0</td><td>0</td><td>0</td><td>0</td><td>0</td><td>0</td></tr>\n",
       "</tbody>\n",
       "</table>\n"
      ],
      "text/latex": [
       "A data.frame: 6 × 88\n",
       "\\begin{tabular}{r|lllllllllllllllllllll}\n",
       "  & GW12\\_PFC1\\_sc1 & GW12\\_PFC1\\_sc2 & GW12\\_PFC1\\_sc3 & GW12\\_PFC1\\_sc4 & GW12\\_PFC1\\_sc5 & GW12\\_PFC1\\_sc6 & GW12\\_PFC1\\_sc7 & GW12\\_PFC1\\_sc8 & GW12\\_PFC1\\_sc9 & GW12\\_PFC1\\_sc10 & ⋯ & GW12\\_PFC1\\_sc81 & GW12\\_PFC1\\_sc82 & GW12\\_PFC1\\_sc83 & GW12\\_PFC1\\_sc84 & GW12\\_PFC1\\_sc85 & GW12\\_PFC1\\_sc86 & GW12\\_PFC1\\_sc87 & GW12\\_PFC1\\_sc88 & GW12\\_PFC1\\_sc89 & GW12\\_PFC1\\_sc90\\\\\n",
       "  & <dbl> & <dbl> & <dbl> & <dbl> & <dbl> & <dbl> & <dbl> & <dbl> & <dbl> & <dbl> & ⋯ & <dbl> & <dbl> & <dbl> & <dbl> & <dbl> & <dbl> & <dbl> & <dbl> & <dbl> & <dbl>\\\\\n",
       "\\hline\n",
       "\tA1BG & 0 & 0.00 & 0 &   5.65 & 0.00 & 0 & 0 & 0 & 0 & 0 & ⋯ & 0 & 0 & 0 & 0 & 0 & 0 & 0 & 0 & 0 & 0\\\\\n",
       "\tA1BG-AS1 & 0 & 0.00 & 0 &   0.00 & 0.00 & 0 & 0 & 0 & 0 & 0 & ⋯ & 0 & 0 & 0 & 0 & 0 & 0 & 0 & 0 & 0 & 0\\\\\n",
       "\tA1CF & 0 & 0.00 & 0 &   0.00 & 0.00 & 0 & 0 & 0 & 0 & 0 & ⋯ & 0 & 0 & 0 & 0 & 0 & 0 & 0 & 0 & 0 & 0\\\\\n",
       "\tA2M & 0 & 6.33 & 0 &  70.64 & 5.79 & 0 & 0 & 0 & 0 & 0 & ⋯ & 0 & 0 & 0 & 0 & 0 & 0 & 0 & 0 & 0 & 0\\\\\n",
       "\tA2M-AS1 & 0 & 0.00 & 0 & 124.32 & 0.00 & 0 & 0 & 0 & 0 & 0 & ⋯ & 0 & 0 & 0 & 0 & 0 & 0 & 0 & 0 & 0 & 0\\\\\n",
       "\tA2ML1 & 0 & 0.00 & 0 &   0.00 & 0.00 & 0 & 0 & 0 & 0 & 0 & ⋯ & 0 & 0 & 0 & 0 & 0 & 0 & 0 & 0 & 0 & 0\\\\\n",
       "\\end{tabular}\n"
      ],
      "text/markdown": [
       "\n",
       "A data.frame: 6 × 88\n",
       "\n",
       "| <!--/--> | GW12_PFC1_sc1 &lt;dbl&gt; | GW12_PFC1_sc2 &lt;dbl&gt; | GW12_PFC1_sc3 &lt;dbl&gt; | GW12_PFC1_sc4 &lt;dbl&gt; | GW12_PFC1_sc5 &lt;dbl&gt; | GW12_PFC1_sc6 &lt;dbl&gt; | GW12_PFC1_sc7 &lt;dbl&gt; | GW12_PFC1_sc8 &lt;dbl&gt; | GW12_PFC1_sc9 &lt;dbl&gt; | GW12_PFC1_sc10 &lt;dbl&gt; | ⋯ ⋯ | GW12_PFC1_sc81 &lt;dbl&gt; | GW12_PFC1_sc82 &lt;dbl&gt; | GW12_PFC1_sc83 &lt;dbl&gt; | GW12_PFC1_sc84 &lt;dbl&gt; | GW12_PFC1_sc85 &lt;dbl&gt; | GW12_PFC1_sc86 &lt;dbl&gt; | GW12_PFC1_sc87 &lt;dbl&gt; | GW12_PFC1_sc88 &lt;dbl&gt; | GW12_PFC1_sc89 &lt;dbl&gt; | GW12_PFC1_sc90 &lt;dbl&gt; |\n",
       "|---|---|---|---|---|---|---|---|---|---|---|---|---|---|---|---|---|---|---|---|---|---|\n",
       "| A1BG | 0 | 0.00 | 0 |   5.65 | 0.00 | 0 | 0 | 0 | 0 | 0 | ⋯ | 0 | 0 | 0 | 0 | 0 | 0 | 0 | 0 | 0 | 0 |\n",
       "| A1BG-AS1 | 0 | 0.00 | 0 |   0.00 | 0.00 | 0 | 0 | 0 | 0 | 0 | ⋯ | 0 | 0 | 0 | 0 | 0 | 0 | 0 | 0 | 0 | 0 |\n",
       "| A1CF | 0 | 0.00 | 0 |   0.00 | 0.00 | 0 | 0 | 0 | 0 | 0 | ⋯ | 0 | 0 | 0 | 0 | 0 | 0 | 0 | 0 | 0 | 0 |\n",
       "| A2M | 0 | 6.33 | 0 |  70.64 | 5.79 | 0 | 0 | 0 | 0 | 0 | ⋯ | 0 | 0 | 0 | 0 | 0 | 0 | 0 | 0 | 0 | 0 |\n",
       "| A2M-AS1 | 0 | 0.00 | 0 | 124.32 | 0.00 | 0 | 0 | 0 | 0 | 0 | ⋯ | 0 | 0 | 0 | 0 | 0 | 0 | 0 | 0 | 0 | 0 |\n",
       "| A2ML1 | 0 | 0.00 | 0 |   0.00 | 0.00 | 0 | 0 | 0 | 0 | 0 | ⋯ | 0 | 0 | 0 | 0 | 0 | 0 | 0 | 0 | 0 | 0 |\n",
       "\n"
      ],
      "text/plain": [
       "         GW12_PFC1_sc1 GW12_PFC1_sc2 GW12_PFC1_sc3 GW12_PFC1_sc4 GW12_PFC1_sc5\n",
       "A1BG     0             0.00          0               5.65        0.00         \n",
       "A1BG-AS1 0             0.00          0               0.00        0.00         \n",
       "A1CF     0             0.00          0               0.00        0.00         \n",
       "A2M      0             6.33          0              70.64        5.79         \n",
       "A2M-AS1  0             0.00          0             124.32        0.00         \n",
       "A2ML1    0             0.00          0               0.00        0.00         \n",
       "         GW12_PFC1_sc6 GW12_PFC1_sc7 GW12_PFC1_sc8 GW12_PFC1_sc9 GW12_PFC1_sc10\n",
       "A1BG     0             0             0             0             0             \n",
       "A1BG-AS1 0             0             0             0             0             \n",
       "A1CF     0             0             0             0             0             \n",
       "A2M      0             0             0             0             0             \n",
       "A2M-AS1  0             0             0             0             0             \n",
       "A2ML1    0             0             0             0             0             \n",
       "         ⋯ GW12_PFC1_sc81 GW12_PFC1_sc82 GW12_PFC1_sc83 GW12_PFC1_sc84\n",
       "A1BG     ⋯ 0              0              0              0             \n",
       "A1BG-AS1 ⋯ 0              0              0              0             \n",
       "A1CF     ⋯ 0              0              0              0             \n",
       "A2M      ⋯ 0              0              0              0             \n",
       "A2M-AS1  ⋯ 0              0              0              0             \n",
       "A2ML1    ⋯ 0              0              0              0             \n",
       "         GW12_PFC1_sc85 GW12_PFC1_sc86 GW12_PFC1_sc87 GW12_PFC1_sc88\n",
       "A1BG     0              0              0              0             \n",
       "A1BG-AS1 0              0              0              0             \n",
       "A1CF     0              0              0              0             \n",
       "A2M      0              0              0              0             \n",
       "A2M-AS1  0              0              0              0             \n",
       "A2ML1    0              0              0              0             \n",
       "         GW12_PFC1_sc89 GW12_PFC1_sc90\n",
       "A1BG     0              0             \n",
       "A1BG-AS1 0              0             \n",
       "A1CF     0              0             \n",
       "A2M      0              0             \n",
       "A2M-AS1  0              0             \n",
       "A2ML1    0              0             "
      ]
     },
     "metadata": {},
     "output_type": "display_data"
    }
   ],
   "source": [
    "rownames(expression_12) <- expression_12[,1]\n",
    "expression_12 <- expression_12[,-1]\n",
    "head(expression_12)"
   ]
  },
  {
   "cell_type": "code",
   "execution_count": 5,
   "metadata": {
    "vscode": {
     "languageId": "r"
    }
   },
   "outputs": [
    {
     "data": {
      "text/html": [
       "<style>\n",
       ".list-inline {list-style: none; margin:0; padding: 0}\n",
       ".list-inline>li {display: inline-block}\n",
       ".list-inline>li:not(:last-child)::after {content: \"\\00b7\"; padding: 0 .5ex}\n",
       "</style>\n",
       "<ol class=list-inline><li>85</li><li>8</li></ol>\n"
      ],
      "text/latex": [
       "\\begin{enumerate*}\n",
       "\\item 85\n",
       "\\item 8\n",
       "\\end{enumerate*}\n"
      ],
      "text/markdown": [
       "1. 85\n",
       "2. 8\n",
       "\n",
       "\n"
      ],
      "text/plain": [
       "[1] 85  8"
      ]
     },
     "metadata": {},
     "output_type": "display_data"
    }
   ],
   "source": [
    "#expression_12 <- expression_12[,-1]\n",
    "####按细胞类型对表达分组\n",
    "info_12 <- all_info[all_info$week=='GW12',]\n",
    "dim(info_12)"
   ]
  },
  {
   "cell_type": "code",
   "execution_count": 6,
   "metadata": {
    "vscode": {
     "languageId": "r"
    }
   },
   "outputs": [
    {
     "data": {
      "text/html": [
       "<style>\n",
       ".list-inline {list-style: none; margin:0; padding: 0}\n",
       ".list-inline>li {display: inline-block}\n",
       ".list-inline>li:not(:last-child)::after {content: \"\\00b7\"; padding: 0 .5ex}\n",
       "</style>\n",
       "<ol class=list-inline><li>'GABAergic_neurons'</li><li>'Microglia'</li><li>'Neurons'</li><li>'OPC'</li><li>'Stem_cell'</li></ol>\n"
      ],
      "text/latex": [
       "\\begin{enumerate*}\n",
       "\\item 'GABAergic\\_neurons'\n",
       "\\item 'Microglia'\n",
       "\\item 'Neurons'\n",
       "\\item 'OPC'\n",
       "\\item 'Stem\\_cell'\n",
       "\\end{enumerate*}\n"
      ],
      "text/markdown": [
       "1. 'GABAergic_neurons'\n",
       "2. 'Microglia'\n",
       "3. 'Neurons'\n",
       "4. 'OPC'\n",
       "5. 'Stem_cell'\n",
       "\n",
       "\n"
      ],
      "text/plain": [
       "[1] \"GABAergic_neurons\" \"Microglia\"         \"Neurons\"          \n",
       "[4] \"OPC\"               \"Stem_cell\"        "
      ]
     },
     "metadata": {},
     "output_type": "display_data"
    }
   ],
   "source": [
    "names(table(info_12$cell_types))"
   ]
  },
  {
   "cell_type": "code",
   "execution_count": 143,
   "metadata": {
    "vscode": {
     "languageId": "r"
    }
   },
   "outputs": [
    {
     "data": {
      "text/html": [
       "<table class=\"dataframe\">\n",
       "<caption>A matrix: 6 × 3 of type dbl</caption>\n",
       "<thead>\n",
       "\t<tr><th></th><th scope=col>ADAR</th><th scope=col>ADARB1</th><th scope=col>ADARB2</th></tr>\n",
       "</thead>\n",
       "<tbody>\n",
       "\t<tr><th scope=row>Astrocytes</th><td>21.62000</td><td>0.00</td><td>0.0</td></tr>\n",
       "\t<tr><th scope=row>GABAergic_neurons</th><td>17.29750</td><td>0.00</td><td>8.7</td></tr>\n",
       "\t<tr><th scope=row>Microglia</th><td> 0.00000</td><td>0.00</td><td>0.0</td></tr>\n",
       "\t<tr><th scope=row>Neurons</th><td>98.03429</td><td>0.00</td><td>0.0</td></tr>\n",
       "\t<tr><th scope=row>OPC</th><td>23.46000</td><td>4.95</td><td>0.0</td></tr>\n",
       "\t<tr><th scope=row>Stem_cell</th><td> 0.00000</td><td>0.00</td><td>0.0</td></tr>\n",
       "</tbody>\n",
       "</table>\n"
      ],
      "text/latex": [
       "A matrix: 6 × 3 of type dbl\n",
       "\\begin{tabular}{r|lll}\n",
       "  & ADAR & ADARB1 & ADARB2\\\\\n",
       "\\hline\n",
       "\tAstrocytes & 21.62000 & 0.00 & 0.0\\\\\n",
       "\tGABAergic\\_neurons & 17.29750 & 0.00 & 8.7\\\\\n",
       "\tMicroglia &  0.00000 & 0.00 & 0.0\\\\\n",
       "\tNeurons & 98.03429 & 0.00 & 0.0\\\\\n",
       "\tOPC & 23.46000 & 4.95 & 0.0\\\\\n",
       "\tStem\\_cell &  0.00000 & 0.00 & 0.0\\\\\n",
       "\\end{tabular}\n"
      ],
      "text/markdown": [
       "\n",
       "A matrix: 6 × 3 of type dbl\n",
       "\n",
       "| <!--/--> | ADAR | ADARB1 | ADARB2 |\n",
       "|---|---|---|---|\n",
       "| Astrocytes | 21.62000 | 0.00 | 0.0 |\n",
       "| GABAergic_neurons | 17.29750 | 0.00 | 8.7 |\n",
       "| Microglia |  0.00000 | 0.00 | 0.0 |\n",
       "| Neurons | 98.03429 | 0.00 | 0.0 |\n",
       "| OPC | 23.46000 | 4.95 | 0.0 |\n",
       "| Stem_cell |  0.00000 | 0.00 | 0.0 |\n",
       "\n"
      ],
      "text/plain": [
       "                  ADAR     ADARB1 ADARB2\n",
       "Astrocytes        21.62000 0.00   0.0   \n",
       "GABAergic_neurons 17.29750 0.00   8.7   \n",
       "Microglia          0.00000 0.00   0.0   \n",
       "Neurons           98.03429 0.00   0.0   \n",
       "OPC               23.46000 4.95   0.0   \n",
       "Stem_cell          0.00000 0.00   0.0   "
      ]
     },
     "metadata": {},
     "output_type": "display_data"
    }
   ],
   "source": [
    "tmp_adar1_1 <- 0\n",
    "tmp_adar1_2 <- 0\n",
    "tmp_adar1_3 <- 0\n",
    "tmp_adar1_4 <- 0\n",
    "tmp_adar1_5 <- 0\n",
    "tmp_adar1_6 <- 0\n",
    "tmp_adar2_1 <- 0\n",
    "tmp_adar2_2 <- 0\n",
    "tmp_adar2_3 <- 0\n",
    "tmp_adar2_4 <- 0\n",
    "tmp_adar2_5 <- 0\n",
    "tmp_adar2_6 <- 0\n",
    "tmp_adar3_1 <- 0\n",
    "tmp_adar3_2 <- 0\n",
    "tmp_adar3_3 <- 0\n",
    "tmp_adar3_4 <- 0\n",
    "tmp_adar3_5 <- 0\n",
    "tmp_adar3_6 <- 0\n",
    "adar_1s <- c()\n",
    "adar_2s <- c()\n",
    "adar_3s <- c()\n",
    "adar_4s <- c()\n",
    "adar_5s <- c()\n",
    "adar_6s <- c()\n",
    "for(cell_type in names(table(info_12$cell_types))){\n",
    "    cell_name <- rownames(info_12)[info_12$cell_types==cell_type]\n",
    "    #ADAR''ADARB1''ADARB2''ADARB2-AS1\n",
    "    cell_name <- intersect(colnames(expression_12),cell_name)\n",
    "    adar1_expr <- expression_12['ADAR',cell_name]\n",
    "    adar2_expr <- expression_12['ADARB1',cell_name]\n",
    "    adar3_expr <- expression_12['ADARB2',cell_name]\n",
    "    mean_adar1_expr <- mean(adar1_expr[adar1_expr!=0])\n",
    "    mean_adar2_expr <- mean(adar1_expr[adar2_expr!=0])\n",
    "    mean_adar3_expr <- mean(adar1_expr[adar3_expr!=0])\n",
    "\n",
    "    if(cell_type=='Astrocytes'){\n",
    "      tmp_adar1_1 <- mean_adar1_expr\n",
    "      tmp_adar2_1 <- mean_adar2_expr\n",
    "      tmp_adar3_1 <- mean_adar2_expr\n",
    "    }\n",
    "    else if(cell_type=='GABAergic_neurons'){\n",
    "      tmp_adar1_2 <- mean_adar1_expr\n",
    "      tmp_adar2_2 <- mean_adar2_expr\n",
    "      tmp_adar3_2 <- mean_adar3_expr\n",
    "    }\n",
    "    else if(cell_type=='Microglia'){\n",
    "      tmp_adar1_3 <- mean_adar1_expr\n",
    "      tmp_adar2_3 <- mean_adar2_expr\n",
    "      tmp_adar3_3 <- mean_adar3_expr\n",
    "    }\n",
    "    else if(cell_type=='Neurons'){\n",
    "      tmp_adar1_4 <- mean_adar1_expr\n",
    "      tmp_adar2_4 <- mean_adar2_expr\n",
    "      tmp_adar3_4 <- mean_adar3_expr    }\n",
    "    else if(cell_type=='OPC'){\n",
    "      tmp_adar1_5 <- mean_adar1_expr\n",
    "      tmp_adar2_5 <- mean_adar2_expr\n",
    "      tmp_adar3_5 <- mean_adar3_expr    }\n",
    "    else{#stem_cell\n",
    "      tmp_adar1_6 <- mean_adar1_expr\n",
    "      tmp_adar2_6 <- mean_adar2_expr\n",
    "      tmp_adar3_6 <- mean_adar3_expr    }\n",
    "      \n",
    "    adar_1s <- c(tmp_adar1_1,tmp_adar2_1,tmp_adar3_1)\n",
    "    adar_2s <- c(tmp_adar1_2,tmp_adar2_2,tmp_adar3_2)\n",
    "    adar_3s <- c(tmp_adar1_3,tmp_adar2_3,tmp_adar3_3)\n",
    "    adar_4s <- c(tmp_adar1_4,tmp_adar2_4,tmp_adar3_4)\n",
    "    adar_5s <- c(tmp_adar1_5,tmp_adar2_5,tmp_adar3_5)\n",
    "    adar_6s <- c(tmp_adar1_6,tmp_adar2_6,tmp_adar3_6)\n",
    "    #write.table(sub_barcode,paste0(\"~/SPRINT/analysis/PFC/barcode_seq/\",one_sample,\"/\",cell_type,\"_barcode.txt\"),quote=F,col.names=F,row.names=F)\n",
    "  \n",
    "}\n",
    "#adar_1s:astrocyte; adar_2s:GABAergic_neurons;adar_3s:Microglia;\n",
    "#adar_4s:neuron; adar_5s:opc;adar_6s:stem cells;\n",
    "all_adars_celltype <- rbind(adar_1s,adar_2s,adar_3s,\n",
    "                            adar_4s,adar_5s,adar_6s)\n",
    "all_adars_celltype[is.na(all_adars_celltype)] <- 0\n",
    "rownames(all_adars_celltype) <- c(\"Astrocytes\",\"GABAergic_neurons\",\"Microglia\",\n",
    "                                \"Neurons\",\"OPC\",\"Stem_cell\")\n",
    "colnames(all_adars_celltype) <- c('ADAR','ADARB1','ADARB2')\n",
    "all_adars_celltype"
   ]
  },
  {
   "cell_type": "code",
   "execution_count": 97,
   "metadata": {
    "vscode": {
     "languageId": "r"
    }
   },
   "outputs": [
    {
     "data": {
      "text/html": [
       "'Astrocytes'"
      ],
      "text/latex": [
       "'Astrocytes'"
      ],
      "text/markdown": [
       "'Astrocytes'"
      ],
      "text/plain": [
       "[1] \"Astrocytes\""
      ]
     },
     "metadata": {},
     "output_type": "display_data"
    }
   ],
   "source": [
    "cell_type"
   ]
  },
  {
   "cell_type": "code",
   "execution_count": 112,
   "metadata": {
    "vscode": {
     "languageId": "r"
    }
   },
   "outputs": [
    {
     "data": {
      "text/html": [
       "<style>\n",
       ".list-inline {list-style: none; margin:0; padding: 0}\n",
       ".list-inline>li {display: inline-block}\n",
       ".list-inline>li:not(:last-child)::after {content: \"\\00b7\"; padding: 0 .5ex}\n",
       "</style>\n",
       "<ol class=list-inline><li>'GW23_PFC1_sc2'</li><li>'GW23_PFC1_sc43'</li><li>'GW23_PFC1_sc65'</li></ol>\n"
      ],
      "text/latex": [
       "\\begin{enumerate*}\n",
       "\\item 'GW23\\_PFC1\\_sc2'\n",
       "\\item 'GW23\\_PFC1\\_sc43'\n",
       "\\item 'GW23\\_PFC1\\_sc65'\n",
       "\\end{enumerate*}\n"
      ],
      "text/markdown": [
       "1. 'GW23_PFC1_sc2'\n",
       "2. 'GW23_PFC1_sc43'\n",
       "3. 'GW23_PFC1_sc65'\n",
       "\n",
       "\n"
      ],
      "text/plain": [
       "[1] \"GW23_PFC1_sc2\"  \"GW23_PFC1_sc43\" \"GW23_PFC1_sc65\""
      ]
     },
     "metadata": {},
     "output_type": "display_data"
    },
    {
     "data": {
      "text/html": [
       "<style>\n",
       ".list-inline {list-style: none; margin:0; padding: 0}\n",
       ".list-inline>li {display: inline-block}\n",
       ".list-inline>li:not(:last-child)::after {content: \"\\00b7\"; padding: 0 .5ex}\n",
       "</style>\n",
       "<ol class=list-inline><li>'GW23_PFC1_sc1'</li><li>'GW23_PFC1_sc2'</li><li>'GW23_PFC1_sc3'</li><li>'GW23_PFC1_sc4'</li><li>'GW23_PFC1_sc5'</li><li>'GW23_PFC1_sc6'</li><li>'GW23_PFC1_sc7'</li><li>'GW23_PFC1_sc8'</li><li>'GW23_PFC1_sc9'</li><li>'GW23_PFC1_sc10'</li><li>'GW23_PFC1_sc11'</li><li>'GW23_PFC1_sc12'</li><li>'GW23_PFC1_sc13'</li><li>'GW23_PFC1_sc14'</li><li>'GW23_PFC1_sc15'</li><li>'GW23_PFC1_sc16'</li><li>'GW23_PFC1_sc17'</li><li>'GW23_PFC1_sc18'</li><li>'GW23_PFC1_sc19'</li><li>'GW23_PFC1_sc20'</li><li>'GW23_PFC1_sc21'</li><li>'GW23_PFC1_sc22'</li><li>'GW23_PFC1_sc23'</li><li>'GW23_PFC1_sc24'</li><li>'GW23_PFC1_sc25'</li><li>'GW23_PFC1_sc26'</li><li>'GW23_PFC1_sc27'</li><li>'GW23_PFC1_sc28'</li><li>'GW23_PFC1_sc29'</li><li>'GW23_PFC1_sc30'</li><li>'GW23_PFC1_sc31'</li><li>'GW23_PFC1_sc32'</li><li>'GW23_PFC1_sc33'</li><li>'GW23_PFC1_sc34'</li><li>'GW23_PFC1_sc35'</li><li>'GW23_PFC1_sc36'</li><li>'GW23_PFC1_sc37'</li><li>'GW23_PFC1_sc38'</li><li>'GW23_PFC1_sc39'</li><li>'GW23_PFC1_sc40'</li><li>'GW23_PFC1_sc41'</li><li>'GW23_PFC1_sc42'</li><li>'GW23_PFC1_sc43'</li><li>'GW23_PFC1_sc44'</li><li>'GW23_PFC1_sc45'</li><li>'GW23_PFC1_sc46'</li><li>'GW23_PFC1_sc47'</li><li>'GW23_PFC1_sc48'</li></ol>\n"
      ],
      "text/latex": [
       "\\begin{enumerate*}\n",
       "\\item 'GW23\\_PFC1\\_sc1'\n",
       "\\item 'GW23\\_PFC1\\_sc2'\n",
       "\\item 'GW23\\_PFC1\\_sc3'\n",
       "\\item 'GW23\\_PFC1\\_sc4'\n",
       "\\item 'GW23\\_PFC1\\_sc5'\n",
       "\\item 'GW23\\_PFC1\\_sc6'\n",
       "\\item 'GW23\\_PFC1\\_sc7'\n",
       "\\item 'GW23\\_PFC1\\_sc8'\n",
       "\\item 'GW23\\_PFC1\\_sc9'\n",
       "\\item 'GW23\\_PFC1\\_sc10'\n",
       "\\item 'GW23\\_PFC1\\_sc11'\n",
       "\\item 'GW23\\_PFC1\\_sc12'\n",
       "\\item 'GW23\\_PFC1\\_sc13'\n",
       "\\item 'GW23\\_PFC1\\_sc14'\n",
       "\\item 'GW23\\_PFC1\\_sc15'\n",
       "\\item 'GW23\\_PFC1\\_sc16'\n",
       "\\item 'GW23\\_PFC1\\_sc17'\n",
       "\\item 'GW23\\_PFC1\\_sc18'\n",
       "\\item 'GW23\\_PFC1\\_sc19'\n",
       "\\item 'GW23\\_PFC1\\_sc20'\n",
       "\\item 'GW23\\_PFC1\\_sc21'\n",
       "\\item 'GW23\\_PFC1\\_sc22'\n",
       "\\item 'GW23\\_PFC1\\_sc23'\n",
       "\\item 'GW23\\_PFC1\\_sc24'\n",
       "\\item 'GW23\\_PFC1\\_sc25'\n",
       "\\item 'GW23\\_PFC1\\_sc26'\n",
       "\\item 'GW23\\_PFC1\\_sc27'\n",
       "\\item 'GW23\\_PFC1\\_sc28'\n",
       "\\item 'GW23\\_PFC1\\_sc29'\n",
       "\\item 'GW23\\_PFC1\\_sc30'\n",
       "\\item 'GW23\\_PFC1\\_sc31'\n",
       "\\item 'GW23\\_PFC1\\_sc32'\n",
       "\\item 'GW23\\_PFC1\\_sc33'\n",
       "\\item 'GW23\\_PFC1\\_sc34'\n",
       "\\item 'GW23\\_PFC1\\_sc35'\n",
       "\\item 'GW23\\_PFC1\\_sc36'\n",
       "\\item 'GW23\\_PFC1\\_sc37'\n",
       "\\item 'GW23\\_PFC1\\_sc38'\n",
       "\\item 'GW23\\_PFC1\\_sc39'\n",
       "\\item 'GW23\\_PFC1\\_sc40'\n",
       "\\item 'GW23\\_PFC1\\_sc41'\n",
       "\\item 'GW23\\_PFC1\\_sc42'\n",
       "\\item 'GW23\\_PFC1\\_sc43'\n",
       "\\item 'GW23\\_PFC1\\_sc44'\n",
       "\\item 'GW23\\_PFC1\\_sc45'\n",
       "\\item 'GW23\\_PFC1\\_sc46'\n",
       "\\item 'GW23\\_PFC1\\_sc47'\n",
       "\\item 'GW23\\_PFC1\\_sc48'\n",
       "\\end{enumerate*}\n"
      ],
      "text/markdown": [
       "1. 'GW23_PFC1_sc1'\n",
       "2. 'GW23_PFC1_sc2'\n",
       "3. 'GW23_PFC1_sc3'\n",
       "4. 'GW23_PFC1_sc4'\n",
       "5. 'GW23_PFC1_sc5'\n",
       "6. 'GW23_PFC1_sc6'\n",
       "7. 'GW23_PFC1_sc7'\n",
       "8. 'GW23_PFC1_sc8'\n",
       "9. 'GW23_PFC1_sc9'\n",
       "10. 'GW23_PFC1_sc10'\n",
       "11. 'GW23_PFC1_sc11'\n",
       "12. 'GW23_PFC1_sc12'\n",
       "13. 'GW23_PFC1_sc13'\n",
       "14. 'GW23_PFC1_sc14'\n",
       "15. 'GW23_PFC1_sc15'\n",
       "16. 'GW23_PFC1_sc16'\n",
       "17. 'GW23_PFC1_sc17'\n",
       "18. 'GW23_PFC1_sc18'\n",
       "19. 'GW23_PFC1_sc19'\n",
       "20. 'GW23_PFC1_sc20'\n",
       "21. 'GW23_PFC1_sc21'\n",
       "22. 'GW23_PFC1_sc22'\n",
       "23. 'GW23_PFC1_sc23'\n",
       "24. 'GW23_PFC1_sc24'\n",
       "25. 'GW23_PFC1_sc25'\n",
       "26. 'GW23_PFC1_sc26'\n",
       "27. 'GW23_PFC1_sc27'\n",
       "28. 'GW23_PFC1_sc28'\n",
       "29. 'GW23_PFC1_sc29'\n",
       "30. 'GW23_PFC1_sc30'\n",
       "31. 'GW23_PFC1_sc31'\n",
       "32. 'GW23_PFC1_sc32'\n",
       "33. 'GW23_PFC1_sc33'\n",
       "34. 'GW23_PFC1_sc34'\n",
       "35. 'GW23_PFC1_sc35'\n",
       "36. 'GW23_PFC1_sc36'\n",
       "37. 'GW23_PFC1_sc37'\n",
       "38. 'GW23_PFC1_sc38'\n",
       "39. 'GW23_PFC1_sc39'\n",
       "40. 'GW23_PFC1_sc40'\n",
       "41. 'GW23_PFC1_sc41'\n",
       "42. 'GW23_PFC1_sc42'\n",
       "43. 'GW23_PFC1_sc43'\n",
       "44. 'GW23_PFC1_sc44'\n",
       "45. 'GW23_PFC1_sc45'\n",
       "46. 'GW23_PFC1_sc46'\n",
       "47. 'GW23_PFC1_sc47'\n",
       "48. 'GW23_PFC1_sc48'\n",
       "\n",
       "\n"
      ],
      "text/plain": [
       " [1] \"GW23_PFC1_sc1\"  \"GW23_PFC1_sc2\"  \"GW23_PFC1_sc3\"  \"GW23_PFC1_sc4\" \n",
       " [5] \"GW23_PFC1_sc5\"  \"GW23_PFC1_sc6\"  \"GW23_PFC1_sc7\"  \"GW23_PFC1_sc8\" \n",
       " [9] \"GW23_PFC1_sc9\"  \"GW23_PFC1_sc10\" \"GW23_PFC1_sc11\" \"GW23_PFC1_sc12\"\n",
       "[13] \"GW23_PFC1_sc13\" \"GW23_PFC1_sc14\" \"GW23_PFC1_sc15\" \"GW23_PFC1_sc16\"\n",
       "[17] \"GW23_PFC1_sc17\" \"GW23_PFC1_sc18\" \"GW23_PFC1_sc19\" \"GW23_PFC1_sc20\"\n",
       "[21] \"GW23_PFC1_sc21\" \"GW23_PFC1_sc22\" \"GW23_PFC1_sc23\" \"GW23_PFC1_sc24\"\n",
       "[25] \"GW23_PFC1_sc25\" \"GW23_PFC1_sc26\" \"GW23_PFC1_sc27\" \"GW23_PFC1_sc28\"\n",
       "[29] \"GW23_PFC1_sc29\" \"GW23_PFC1_sc30\" \"GW23_PFC1_sc31\" \"GW23_PFC1_sc32\"\n",
       "[33] \"GW23_PFC1_sc33\" \"GW23_PFC1_sc34\" \"GW23_PFC1_sc35\" \"GW23_PFC1_sc36\"\n",
       "[37] \"GW23_PFC1_sc37\" \"GW23_PFC1_sc38\" \"GW23_PFC1_sc39\" \"GW23_PFC1_sc40\"\n",
       "[41] \"GW23_PFC1_sc41\" \"GW23_PFC1_sc42\" \"GW23_PFC1_sc43\" \"GW23_PFC1_sc44\"\n",
       "[45] \"GW23_PFC1_sc45\" \"GW23_PFC1_sc46\" \"GW23_PFC1_sc47\" \"GW23_PFC1_sc48\""
      ]
     },
     "metadata": {},
     "output_type": "display_data"
    },
    {
     "data": {
      "text/html": [
       "<style>\n",
       ".list-inline {list-style: none; margin:0; padding: 0}\n",
       ".list-inline>li {display: inline-block}\n",
       ".list-inline>li:not(:last-child)::after {content: \"\\00b7\"; padding: 0 .5ex}\n",
       "</style>\n",
       "<ol class=list-inline><li>24153</li><li>48</li></ol>\n"
      ],
      "text/latex": [
       "\\begin{enumerate*}\n",
       "\\item 24153\n",
       "\\item 48\n",
       "\\end{enumerate*}\n"
      ],
      "text/markdown": [
       "1. 24153\n",
       "2. 48\n",
       "\n",
       "\n"
      ],
      "text/plain": [
       "[1] 24153    48"
      ]
     },
     "metadata": {},
     "output_type": "display_data"
    },
    {
     "data": {
      "text/html": [
       "<style>\n",
       ".list-inline {list-style: none; margin:0; padding: 0}\n",
       ".list-inline>li {display: inline-block}\n",
       ".list-inline>li:not(:last-child)::after {content: \"\\00b7\"; padding: 0 .5ex}\n",
       "</style>\n",
       "<ol class=list-inline><li>132</li><li>8</li></ol>\n"
      ],
      "text/latex": [
       "\\begin{enumerate*}\n",
       "\\item 132\n",
       "\\item 8\n",
       "\\end{enumerate*}\n"
      ],
      "text/markdown": [
       "1. 132\n",
       "2. 8\n",
       "\n",
       "\n"
      ],
      "text/plain": [
       "[1] 132   8"
      ]
     },
     "metadata": {},
     "output_type": "display_data"
    }
   ],
   "source": [
    "    cell_name <- rownames(info_12)[info_12$cell_types==cell_type]\n",
    "    cell_name\n",
    "\n",
    "    colnames(expression_12)\n",
    "    dim(expression_12)\n",
    "    #expression_12[,cell_name]\n",
    "    dim(info_12)"
   ]
  },
  {
   "cell_type": "code",
   "execution_count": null,
   "metadata": {
    "vscode": {
     "languageId": "r"
    }
   },
   "outputs": [],
   "source": [
    "    #ADAR''ADARB1''ADARB2''ADARB2-AS1\n",
    "    adar1_expr <- expression_12['ADAR',cell_name]\n",
    "    adar2_expr <- expression_12['ADARB1',cell_name]\n",
    "    adar3_expr <- expression_12['ADARB2',cell_name]\n",
    "    mean_adar1_expr <- mean(adar1_expr[adar1_expr!=0])\n",
    "    mean_adar2_expr <- mean(adar1_expr[adar2_expr!=0])\n",
    "    mean_adar3_expr <- mean(adar1_expr[adar3_expr!=0])\n",
    "\n",
    "    if(cell_type=='Astrocytes'){\n",
    "      tmp_adar1_1 <- mean_adar1_expr\n",
    "      tmp_adar2_1 <- mean_adar2_expr\n",
    "      tmp_adar3_1 <- mean_adar2_expr\n",
    "    }\n",
    "    else if(cell_type=='GABAergic_neurons'){\n",
    "      tmp_adar1_2 <- mean_adar1_expr\n",
    "      tmp_adar2_2 <- mean_adar2_expr\n",
    "      tmp_adar3_2 <- mean_adar3_expr\n",
    "    }\n",
    "    else if(cell_type=='Microglia'){\n",
    "      tmp_adar1_3 <- mean_adar1_expr\n",
    "      tmp_adar2_3 <- mean_adar2_expr\n",
    "      tmp_adar3_3 <- mean_adar3_expr\n",
    "    }\n",
    "    else if(cell_type=='Neurons'){\n",
    "      tmp_adar1_4 <- mean_adar1_expr\n",
    "      tmp_adar2_4 <- mean_adar2_expr\n",
    "      tmp_adar3_4 <- mean_adar3_expr    }\n",
    "    else if(cell_type=='OPC'){\n",
    "      tmp_adar1_5 <- mean_adar1_expr\n",
    "      tmp_adar2_5 <- mean_adar2_expr\n",
    "      tmp_adar3_5 <- mean_adar3_expr    }\n",
    "    else{#stem_cell\n",
    "      tmp_adar1_6 <- mean_adar1_expr\n",
    "      tmp_adar2_6 <- mean_adar2_expr\n",
    "      tmp_adar3_6 <- mean_adar3_expr    }\n",
    "      \n",
    "    adar_1s <- c(tmp_adar1_1,tmp_adar2_1,tmp_adar3_1)\n",
    "    adar_2s <- c(tmp_adar1_2,tmp_adar2_2,tmp_adar3_2)\n",
    "    adar_3s <- c(tmp_adar1_3,tmp_adar2_3,tmp_adar3_3)\n",
    "    adar_4s <- c(tmp_adar1_4,tmp_adar2_4,tmp_adar3_4)\n",
    "    adar_5s <- c(tmp_adar1_5,tmp_adar2_5,tmp_adar3_5)\n",
    "    adar_6s <- c(tmp_adar1_6,tmp_adar2_6,tmp_adar3_6)\n",
    "    #write.table(sub_barcode,paste0(\"~/SPRINT/analysis/PFC/barcode_seq/\",one_sample,\"/\",cell_type,\"_barcode.txt\"),quote=F,col.names=F,row.names=F)\n",
    " "
   ]
  },
  {
   "cell_type": "code",
   "execution_count": 24,
   "metadata": {
    "vscode": {
     "languageId": "r"
    }
   },
   "outputs": [
    {
     "data": {
      "text/html": [
       "<table class=\"dataframe\">\n",
       "<caption>A data.frame: 6 × 24</caption>\n",
       "<thead>\n",
       "\t<tr><th></th><th scope=col>Gene</th><th scope=col>GW08_PFC1_sc1</th><th scope=col>GW08_PFC1_sc2</th><th scope=col>GW08_PFC1_sc3</th><th scope=col>GW08_PFC1_sc4</th><th scope=col>GW08_PFC1_sc5</th><th scope=col>GW08_PFC1_sc6</th><th scope=col>GW08_PFC1_sc7</th><th scope=col>GW08_PFC1_sc8</th><th scope=col>GW08_PFC1_sc9</th><th scope=col>⋯</th><th scope=col>GW08_PFC1_sc15</th><th scope=col>GW08_PFC1_sc16</th><th scope=col>GW08_PFC1_sc17</th><th scope=col>GW08_PFC1_sc18</th><th scope=col>GW08_PFC1_sc19</th><th scope=col>GW08_PFC1_sc20</th><th scope=col>GW08_PFC1_sc21</th><th scope=col>GW08_PFC1_sc22</th><th scope=col>GW08_PFC1_sc24</th><th scope=col>GW08_PFC1_sc25</th></tr>\n",
       "\t<tr><th></th><th scope=col>&lt;chr&gt;</th><th scope=col>&lt;dbl&gt;</th><th scope=col>&lt;dbl&gt;</th><th scope=col>&lt;dbl&gt;</th><th scope=col>&lt;dbl&gt;</th><th scope=col>&lt;dbl&gt;</th><th scope=col>&lt;dbl&gt;</th><th scope=col>&lt;dbl&gt;</th><th scope=col>&lt;dbl&gt;</th><th scope=col>&lt;dbl&gt;</th><th scope=col>⋯</th><th scope=col>&lt;dbl&gt;</th><th scope=col>&lt;dbl&gt;</th><th scope=col>&lt;dbl&gt;</th><th scope=col>&lt;dbl&gt;</th><th scope=col>&lt;dbl&gt;</th><th scope=col>&lt;dbl&gt;</th><th scope=col>&lt;dbl&gt;</th><th scope=col>&lt;dbl&gt;</th><th scope=col>&lt;dbl&gt;</th><th scope=col>&lt;dbl&gt;</th></tr>\n",
       "</thead>\n",
       "<tbody>\n",
       "\t<tr><th scope=row>1</th><td>A1BG    </td><td>4.54</td><td>0</td><td>0.00</td><td>0</td><td>  0.00</td><td>   0.00</td><td>0</td><td>0</td><td>0</td><td>⋯</td><td>0</td><td>0</td><td>  0.00</td><td>0</td><td>0</td><td>0</td><td>0</td><td> 0.00</td><td>0</td><td>0.00</td></tr>\n",
       "\t<tr><th scope=row>2</th><td>A1BG-AS1</td><td>0.00</td><td>0</td><td>0.00</td><td>0</td><td>  0.00</td><td>   0.00</td><td>0</td><td>0</td><td>0</td><td>⋯</td><td>0</td><td>0</td><td>  0.00</td><td>0</td><td>0</td><td>0</td><td>0</td><td> 0.00</td><td>0</td><td>0.00</td></tr>\n",
       "\t<tr><th scope=row>3</th><td>A1CF    </td><td>0.00</td><td>0</td><td>0.00</td><td>0</td><td>  0.00</td><td>   0.00</td><td>0</td><td>0</td><td>0</td><td>⋯</td><td>0</td><td>0</td><td>  0.00</td><td>0</td><td>0</td><td>0</td><td>0</td><td> 0.00</td><td>0</td><td>0.00</td></tr>\n",
       "\t<tr><th scope=row>4</th><td>A2M     </td><td>4.54</td><td>0</td><td>8.87</td><td>0</td><td>872.68</td><td>1013.81</td><td>0</td><td>0</td><td>0</td><td>⋯</td><td>0</td><td>0</td><td>210.84</td><td>0</td><td>0</td><td>0</td><td>0</td><td>14.91</td><td>0</td><td>6.53</td></tr>\n",
       "\t<tr><th scope=row>5</th><td>A2M-AS1 </td><td>0.00</td><td>0</td><td>0.00</td><td>0</td><td>  2.19</td><td>   0.00</td><td>0</td><td>0</td><td>0</td><td>⋯</td><td>0</td><td>0</td><td>  0.00</td><td>0</td><td>0</td><td>0</td><td>0</td><td> 0.00</td><td>0</td><td>0.00</td></tr>\n",
       "\t<tr><th scope=row>6</th><td>A2ML1   </td><td>0.00</td><td>0</td><td>0.00</td><td>0</td><td>  0.00</td><td>   0.00</td><td>0</td><td>0</td><td>0</td><td>⋯</td><td>0</td><td>0</td><td>  0.00</td><td>0</td><td>0</td><td>0</td><td>0</td><td> 0.00</td><td>0</td><td>0.00</td></tr>\n",
       "</tbody>\n",
       "</table>\n"
      ],
      "text/latex": [
       "A data.frame: 6 × 24\n",
       "\\begin{tabular}{r|lllllllllllllllllllll}\n",
       "  & Gene & GW08\\_PFC1\\_sc1 & GW08\\_PFC1\\_sc2 & GW08\\_PFC1\\_sc3 & GW08\\_PFC1\\_sc4 & GW08\\_PFC1\\_sc5 & GW08\\_PFC1\\_sc6 & GW08\\_PFC1\\_sc7 & GW08\\_PFC1\\_sc8 & GW08\\_PFC1\\_sc9 & ⋯ & GW08\\_PFC1\\_sc15 & GW08\\_PFC1\\_sc16 & GW08\\_PFC1\\_sc17 & GW08\\_PFC1\\_sc18 & GW08\\_PFC1\\_sc19 & GW08\\_PFC1\\_sc20 & GW08\\_PFC1\\_sc21 & GW08\\_PFC1\\_sc22 & GW08\\_PFC1\\_sc24 & GW08\\_PFC1\\_sc25\\\\\n",
       "  & <chr> & <dbl> & <dbl> & <dbl> & <dbl> & <dbl> & <dbl> & <dbl> & <dbl> & <dbl> & ⋯ & <dbl> & <dbl> & <dbl> & <dbl> & <dbl> & <dbl> & <dbl> & <dbl> & <dbl> & <dbl>\\\\\n",
       "\\hline\n",
       "\t1 & A1BG     & 4.54 & 0 & 0.00 & 0 &   0.00 &    0.00 & 0 & 0 & 0 & ⋯ & 0 & 0 &   0.00 & 0 & 0 & 0 & 0 &  0.00 & 0 & 0.00\\\\\n",
       "\t2 & A1BG-AS1 & 0.00 & 0 & 0.00 & 0 &   0.00 &    0.00 & 0 & 0 & 0 & ⋯ & 0 & 0 &   0.00 & 0 & 0 & 0 & 0 &  0.00 & 0 & 0.00\\\\\n",
       "\t3 & A1CF     & 0.00 & 0 & 0.00 & 0 &   0.00 &    0.00 & 0 & 0 & 0 & ⋯ & 0 & 0 &   0.00 & 0 & 0 & 0 & 0 &  0.00 & 0 & 0.00\\\\\n",
       "\t4 & A2M      & 4.54 & 0 & 8.87 & 0 & 872.68 & 1013.81 & 0 & 0 & 0 & ⋯ & 0 & 0 & 210.84 & 0 & 0 & 0 & 0 & 14.91 & 0 & 6.53\\\\\n",
       "\t5 & A2M-AS1  & 0.00 & 0 & 0.00 & 0 &   2.19 &    0.00 & 0 & 0 & 0 & ⋯ & 0 & 0 &   0.00 & 0 & 0 & 0 & 0 &  0.00 & 0 & 0.00\\\\\n",
       "\t6 & A2ML1    & 0.00 & 0 & 0.00 & 0 &   0.00 &    0.00 & 0 & 0 & 0 & ⋯ & 0 & 0 &   0.00 & 0 & 0 & 0 & 0 &  0.00 & 0 & 0.00\\\\\n",
       "\\end{tabular}\n"
      ],
      "text/markdown": [
       "\n",
       "A data.frame: 6 × 24\n",
       "\n",
       "| <!--/--> | Gene &lt;chr&gt; | GW08_PFC1_sc1 &lt;dbl&gt; | GW08_PFC1_sc2 &lt;dbl&gt; | GW08_PFC1_sc3 &lt;dbl&gt; | GW08_PFC1_sc4 &lt;dbl&gt; | GW08_PFC1_sc5 &lt;dbl&gt; | GW08_PFC1_sc6 &lt;dbl&gt; | GW08_PFC1_sc7 &lt;dbl&gt; | GW08_PFC1_sc8 &lt;dbl&gt; | GW08_PFC1_sc9 &lt;dbl&gt; | ⋯ ⋯ | GW08_PFC1_sc15 &lt;dbl&gt; | GW08_PFC1_sc16 &lt;dbl&gt; | GW08_PFC1_sc17 &lt;dbl&gt; | GW08_PFC1_sc18 &lt;dbl&gt; | GW08_PFC1_sc19 &lt;dbl&gt; | GW08_PFC1_sc20 &lt;dbl&gt; | GW08_PFC1_sc21 &lt;dbl&gt; | GW08_PFC1_sc22 &lt;dbl&gt; | GW08_PFC1_sc24 &lt;dbl&gt; | GW08_PFC1_sc25 &lt;dbl&gt; |\n",
       "|---|---|---|---|---|---|---|---|---|---|---|---|---|---|---|---|---|---|---|---|---|---|\n",
       "| 1 | A1BG     | 4.54 | 0 | 0.00 | 0 |   0.00 |    0.00 | 0 | 0 | 0 | ⋯ | 0 | 0 |   0.00 | 0 | 0 | 0 | 0 |  0.00 | 0 | 0.00 |\n",
       "| 2 | A1BG-AS1 | 0.00 | 0 | 0.00 | 0 |   0.00 |    0.00 | 0 | 0 | 0 | ⋯ | 0 | 0 |   0.00 | 0 | 0 | 0 | 0 |  0.00 | 0 | 0.00 |\n",
       "| 3 | A1CF     | 0.00 | 0 | 0.00 | 0 |   0.00 |    0.00 | 0 | 0 | 0 | ⋯ | 0 | 0 |   0.00 | 0 | 0 | 0 | 0 |  0.00 | 0 | 0.00 |\n",
       "| 4 | A2M      | 4.54 | 0 | 8.87 | 0 | 872.68 | 1013.81 | 0 | 0 | 0 | ⋯ | 0 | 0 | 210.84 | 0 | 0 | 0 | 0 | 14.91 | 0 | 6.53 |\n",
       "| 5 | A2M-AS1  | 0.00 | 0 | 0.00 | 0 |   2.19 |    0.00 | 0 | 0 | 0 | ⋯ | 0 | 0 |   0.00 | 0 | 0 | 0 | 0 |  0.00 | 0 | 0.00 |\n",
       "| 6 | A2ML1    | 0.00 | 0 | 0.00 | 0 |   0.00 |    0.00 | 0 | 0 | 0 | ⋯ | 0 | 0 |   0.00 | 0 | 0 | 0 | 0 |  0.00 | 0 | 0.00 |\n",
       "\n"
      ],
      "text/plain": [
       "  Gene     GW08_PFC1_sc1 GW08_PFC1_sc2 GW08_PFC1_sc3 GW08_PFC1_sc4\n",
       "1 A1BG     4.54          0             0.00          0            \n",
       "2 A1BG-AS1 0.00          0             0.00          0            \n",
       "3 A1CF     0.00          0             0.00          0            \n",
       "4 A2M      4.54          0             8.87          0            \n",
       "5 A2M-AS1  0.00          0             0.00          0            \n",
       "6 A2ML1    0.00          0             0.00          0            \n",
       "  GW08_PFC1_sc5 GW08_PFC1_sc6 GW08_PFC1_sc7 GW08_PFC1_sc8 GW08_PFC1_sc9 ⋯\n",
       "1   0.00           0.00       0             0             0             ⋯\n",
       "2   0.00           0.00       0             0             0             ⋯\n",
       "3   0.00           0.00       0             0             0             ⋯\n",
       "4 872.68        1013.81       0             0             0             ⋯\n",
       "5   2.19           0.00       0             0             0             ⋯\n",
       "6   0.00           0.00       0             0             0             ⋯\n",
       "  GW08_PFC1_sc15 GW08_PFC1_sc16 GW08_PFC1_sc17 GW08_PFC1_sc18 GW08_PFC1_sc19\n",
       "1 0              0                0.00         0              0             \n",
       "2 0              0                0.00         0              0             \n",
       "3 0              0                0.00         0              0             \n",
       "4 0              0              210.84         0              0             \n",
       "5 0              0                0.00         0              0             \n",
       "6 0              0                0.00         0              0             \n",
       "  GW08_PFC1_sc20 GW08_PFC1_sc21 GW08_PFC1_sc22 GW08_PFC1_sc24 GW08_PFC1_sc25\n",
       "1 0              0               0.00          0              0.00          \n",
       "2 0              0               0.00          0              0.00          \n",
       "3 0              0               0.00          0              0.00          \n",
       "4 0              0              14.91          0              6.53          \n",
       "5 0              0               0.00          0              0.00          \n",
       "6 0              0               0.00          0              0.00          "
      ]
     },
     "metadata": {},
     "output_type": "display_data"
    }
   ],
   "source": [
    "all_adars <- data.frame(\n",
    "  #group=c(rep(c(\"MGE-GABA\",\"GLU\",\"Olig\"),AEI_nums)),\n",
    "  #group=c(rep(c(\"Microglia\",\"CGE-derived InN\",\"MGE-derived InN\",\"Olig\",\"Astrocyte\",\"DG ExN\",\"Non_DG ExN\"),AEI_nums)),\n",
    "  group=c(rep(c(\"L2_3_ExN\",\"L4\",\"L5_6\",\"L5_6_CC\",\"IN_VIP\",\"Olig\"),each=3)),\n",
    "  log2_cpm=all_adars,\n",
    "  phase=c(rep(c(\"20\",\"32\",\"56\"),times=6))  \n",
    ")\n",
    "group_by(all_adars, group) %>%\n",
    "  summarise(\n",
    "    count = n(),\n",
    "    mean = mean(log2_cpm, na.rm = TRUE),\n",
    "    sd = sd(log2_cpm, na.rm = TRUE),\n",
    "    rg = range(log2_cpm, na.rm = TRUE)\n",
    "  )\n",
    "all_adars$group = factor(all_adars$group, levels=c(\"L2_3_ExN\",\"L4\",\"L5_6\",\"L5_6_CC\",\"IN_VIP\",\"Olig\"))\n",
    "\n",
    "all_adar2s <- data.frame(\n",
    "  #group=c(rep(c(\"MGE-GABA\",\"GLU\",\"Olig\"),AEI_nums)),\n",
    "  #group=c(rep(c(\"Microglia\",\"CGE-derived InN\",\"MGE-derived InN\",\"Olig\",\"Astrocyte\",\"DG ExN\",\"Non_DG ExN\"),AEI_nums)),\n",
    "  group=c(rep(c(\"L2_3_ExN\",\"L4\",\"L5_6\",\"L5_6_CC\",\"IN_VIP\",\"Olig\"),each=3)),\n",
    "  log2_cpm=all_adar2s,\n",
    "  phase=c(rep(c(\"20\",\"32\",\"56\"),times=6)) \n",
    ")\n",
    "group_by(all_adar2s, group) %>%\n",
    "  summarise(\n",
    "    count = n(),\n",
    "    mean = mean(log2_cpm, na.rm = TRUE),\n",
    "    sd = sd(log2_cpm, na.rm = TRUE),\n",
    "    rg = range(log2_cpm, na.rm = TRUE)\n",
    "  )\n",
    "all_adar2s$group = factor(all_adar2s$group, levels=c(\"L2_3_ExN\",\"L4\",\"L5_6\",\"L5_6_CC\",\"IN_VIP\",\"Olig\"))\n",
    "\n",
    "all_adar3s <- data.frame(\n",
    "  #group=c(rep(c(\"MGE-GABA\",\"GLU\",\"Olig\"),AEI_nums)),\n",
    "  #group=c(rep(c(\"Microglia\",\"CGE-derived InN\",\"MGE-derived InN\",\"Olig\",\"Astrocyte\",\"DG ExN\",\"Non_DG ExN\"),AEI_nums)),\n",
    "  group=c(rep(c(\"L2_3_ExN\",\"L4\",\"L5_6\",\"L5_6_CC\",\"IN_VIP\",\"Olig\"),each=3)),\n",
    "  log2_cpm=all_adar3s,\n",
    "  phase=c(rep(c(\"20\",\"32\",\"56\"),times=6))  \n",
    ")\n",
    "group_by(all_adar3s, group) %>%\n",
    "  summarise(\n",
    "    count = n(),\n",
    "    mean = mean(log2_cpm, na.rm = TRUE),\n",
    "    sd = sd(log2_cpm, na.rm = TRUE),\n",
    "    rg = range(log2_cpm, na.rm = TRUE)\n",
    "  )\n",
    "all_adar3s$group = factor(all_adar3s$group, levels=c(\"L2_3_ExN\",\"L4\",\"L5_6\",\"L5_6_CC\",\"IN_VIP\",\"Olig\"))\n",
    "\n",
    "compaired_aei <- compaired_adars\n",
    "# compaired_aei <- list(c(\"L2_3_ExN\",\"L5_6_CC\"),\n",
    "#                         c(\"L2_3_ExN\",\"L5_6\"),\n",
    "#                         c(\"L2_3_ExN\",\"L4\"),\n",
    "#                         c(\"L4\",\"L5_6_CC\"),\n",
    "#                         c(\"L4\",\"L5_6\"),\n",
    "#                         c(\"L5_6_CC\",\"L5_6\"),\n",
    "#                         c(\"IN_VIP\",\"Olig\")\n",
    "# )\n",
    "\n",
    "ggboxplot(all_adars, x=\"group\", y = \"log2_cpm\", color = \"group\", palette = \"jco\", add = \"jitter\",  short.panel.labs = FALSE) +\n",
    "  ylim(0,15) +\n",
    "  stat_compare_means(comparisons=compaired_adars,method=\"t.test\",label=\"p.format\",paired=F, step_increase = 0.5)\n",
    "\n",
    "ggboxplot(all_adar2s, x=\"group\", y = \"log2_cpm\", color = \"group\", palette = \"jco\", add = \"jitter\",  short.panel.labs = FALSE) +\n",
    "  ylim(0,15) +\n",
    "  stat_compare_means(comparisons=compaired_adars,method=\"t.test\",label=\"p.format\",paired=F, step_increase = 0.5)\n",
    "\n",
    "ggboxplot(all_adar3s, x=\"group\", y = \"log2_cpm\", color = \"group\", palette = \"jco\", add = \"jitter\",  short.panel.labs = FALSE) +\n",
    "  ylim(0,15) +\n",
    "  stat_compare_means(comparisons=compaired_adars,method=\"t.test\",label=\"p.format\",paired=F, step_increase = 0.5)\n",
    "\n"
   ]
  }
 ],
 "metadata": {
  "kernelspec": {
   "display_name": "R",
   "language": "R",
   "name": "ir"
  },
  "language_info": {
   "codemirror_mode": "r",
   "file_extension": ".r",
   "mimetype": "text/x-r-source",
   "name": "R",
   "pygments_lexer": "r",
   "version": "4.3.1"
  },
  "orig_nbformat": 4
 },
 "nbformat": 4,
 "nbformat_minor": 2
}
