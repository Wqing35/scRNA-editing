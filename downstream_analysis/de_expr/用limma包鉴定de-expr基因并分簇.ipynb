{
 "cells": [
  {
   "cell_type": "code",
   "execution_count": null,
   "metadata": {
    "vscode": {
     "languageId": "r"
    }
   },
   "outputs": [],
   "source": [
    "#######对差异编辑进行分簇可视化后，对基因的表达也做同样的分析，期待有一致/相反的趋势\n",
    "# 确保载入所需的库\n",
    "library(tidyr)\n",
    "library(dplyr)\n",
    "library(ggplot2)\n",
    "library(tidyverse)\n",
    "library(pheatmap)\n",
    "library(limma)\n",
    "#library(ggtree)  #聚类\n",
    "#library(aplot) "
   ]
  },
  {
   "cell_type": "code",
   "execution_count": 2,
   "metadata": {
    "vscode": {
     "languageId": "r"
    }
   },
   "outputs": [],
   "source": [
    ".libPaths('/disk1/wenqing/anaconda3/envs/wq_R4.2/lib/R/library')"
   ]
  },
  {
   "cell_type": "code",
   "execution_count": 2,
   "metadata": {
    "vscode": {
     "languageId": "r"
    }
   },
   "outputs": [],
   "source": [
    "#########PFC样本ADAR家族表达情况\n",
    "expression_08 <- read.table(\"/disk1/wenqing/tmp_data/PFC_s2/20240425_useful_matrix/GSM2884059_GW8_PFC1.UMI_TPM_no_ERCC.txt\",header=T)\n",
    "expression_12 <- read.table(\"/disk1/wenqing/tmp_data/PFC_s2/20240425_useful_matrix/GSM2884066_GW12_PFC1.UMI_TPM_no_ERCC.txt\",header=T)\n",
    "expression_16_3 <- read.table(\"/disk1/wenqing/tmp_data/PFC_s2/20240425_useful_matrix/GSM2884070_GW16_PFC1_3.UMI_TPM_no_ERCC.txt\",header=T)\n",
    "expression_16_4 <- read.table(\"/disk1/wenqing/tmp_data/PFC_s2/20240425_useful_matrix/GSM2884071_GW16_PFC1_4.UMI_TPM_no_ERCC.txt\",header=T)\n",
    "expression_16_9 <- read.table(\"/disk1/wenqing/tmp_data/PFC_s2/20240425_useful_matrix/GSM2884076_GW16_PFC1_9.UMI_TPM_no_ERCC.txt\",header=T)\n",
    "expression_19_1 <- read.table(\"/disk1/wenqing/tmp_data/PFC_s2/20240425_useful_matrix/GSM2884077_GW19_PFC1.UMI_TPM_no_ERCC.txt\",header=T)\n",
    "expression_19_2 <- read.table(\"/disk1/wenqing/tmp_data/PFC_s2/20240425_useful_matrix/GSM2884078_GW19_PFC2.UMI_TPM_no_ERCC.txt\",header=T)\n",
    "expression_19_3 <- read.table(\"/disk1/wenqing/tmp_data/PFC_s2/20240425_useful_matrix/GSM2884079_GW19_PFC3.UMI_TPM_no_ERCC.txt\",header=T)\n",
    "expression_23_1 <- read.table(\"/disk1/wenqing/tmp_data/PFC_s2/20240425_useful_matrix/GSM2884080_GW23_PFC1_1.UMI_TPM_no_ERCC.txt\",header=T)\n",
    "expression_23_2 <- read.table(\"/disk1/wenqing/tmp_data/PFC_s2/20240425_useful_matrix/GSM2884081_GW23_PFC1_2.UMI_TPM_no_ERCC.txt\",header=T)\n",
    "expression_23_3 <- read.table(\"/disk1/wenqing/tmp_data/PFC_s2/20240425_useful_matrix/GSM2884082_GW23_PFC1_3.UMI_TPM_no_ERCC.txt\",header=T)\n",
    "expression_26_1 <- read.table(\"/disk1/wenqing/tmp_data/PFC_s2/20240425_useful_matrix/GSM2884084_GW26_PFC1_1.UMI_TPM_no_ERCC.txt\",header=T)"
   ]
  },
  {
   "cell_type": "code",
   "execution_count": 3,
   "metadata": {
    "vscode": {
     "languageId": "r"
    }
   },
   "outputs": [
    {
     "data": {
      "text/html": [
       "<style>\n",
       ".list-inline {list-style: none; margin:0; padding: 0}\n",
       ".list-inline>li {display: inline-block}\n",
       ".list-inline>li:not(:last-child)::after {content: \"\\00b7\"; padding: 0 .5ex}\n",
       "</style>\n",
       "<ol class=list-inline><li>24153</li><li>24</li></ol>\n"
      ],
      "text/latex": [
       "\\begin{enumerate*}\n",
       "\\item 24153\n",
       "\\item 24\n",
       "\\end{enumerate*}\n"
      ],
      "text/markdown": [
       "1. 24153\n",
       "2. 24\n",
       "\n",
       "\n"
      ],
      "text/plain": [
       "[1] 24153    24"
      ]
     },
     "metadata": {},
     "output_type": "display_data"
    },
    {
     "data": {
      "text/html": [
       "<style>\n",
       ".list-inline {list-style: none; margin:0; padding: 0}\n",
       ".list-inline>li {display: inline-block}\n",
       ".list-inline>li:not(:last-child)::after {content: \"\\00b7\"; padding: 0 .5ex}\n",
       "</style>\n",
       "<ol class=list-inline><li>24153</li><li>89</li></ol>\n"
      ],
      "text/latex": [
       "\\begin{enumerate*}\n",
       "\\item 24153\n",
       "\\item 89\n",
       "\\end{enumerate*}\n"
      ],
      "text/markdown": [
       "1. 24153\n",
       "2. 89\n",
       "\n",
       "\n"
      ],
      "text/plain": [
       "[1] 24153    89"
      ]
     },
     "metadata": {},
     "output_type": "display_data"
    },
    {
     "data": {
      "text/html": [
       "<style>\n",
       ".list-inline {list-style: none; margin:0; padding: 0}\n",
       ".list-inline>li {display: inline-block}\n",
       ".list-inline>li:not(:last-child)::after {content: \"\\00b7\"; padding: 0 .5ex}\n",
       "</style>\n",
       "<ol class=list-inline><li>24153</li><li>89</li></ol>\n"
      ],
      "text/latex": [
       "\\begin{enumerate*}\n",
       "\\item 24153\n",
       "\\item 89\n",
       "\\end{enumerate*}\n"
      ],
      "text/markdown": [
       "1. 24153\n",
       "2. 89\n",
       "\n",
       "\n"
      ],
      "text/plain": [
       "[1] 24153    89"
      ]
     },
     "metadata": {},
     "output_type": "display_data"
    },
    {
     "data": {
      "text/html": [
       "<style>\n",
       ".list-inline {list-style: none; margin:0; padding: 0}\n",
       ".list-inline>li {display: inline-block}\n",
       ".list-inline>li:not(:last-child)::after {content: \"\\00b7\"; padding: 0 .5ex}\n",
       "</style>\n",
       "<ol class=list-inline><li>24153</li><li>89</li></ol>\n"
      ],
      "text/latex": [
       "\\begin{enumerate*}\n",
       "\\item 24153\n",
       "\\item 89\n",
       "\\end{enumerate*}\n"
      ],
      "text/markdown": [
       "1. 24153\n",
       "2. 89\n",
       "\n",
       "\n"
      ],
      "text/plain": [
       "[1] 24153    89"
      ]
     },
     "metadata": {},
     "output_type": "display_data"
    },
    {
     "data": {
      "text/html": [
       "<style>\n",
       ".list-inline {list-style: none; margin:0; padding: 0}\n",
       ".list-inline>li {display: inline-block}\n",
       ".list-inline>li:not(:last-child)::after {content: \"\\00b7\"; padding: 0 .5ex}\n",
       "</style>\n",
       "<ol class=list-inline><li>24153</li><li>89</li></ol>\n"
      ],
      "text/latex": [
       "\\begin{enumerate*}\n",
       "\\item 24153\n",
       "\\item 89\n",
       "\\end{enumerate*}\n"
      ],
      "text/markdown": [
       "1. 24153\n",
       "2. 89\n",
       "\n",
       "\n"
      ],
      "text/plain": [
       "[1] 24153    89"
      ]
     },
     "metadata": {},
     "output_type": "display_data"
    },
    {
     "data": {
      "text/html": [
       "<style>\n",
       ".list-inline {list-style: none; margin:0; padding: 0}\n",
       ".list-inline>li {display: inline-block}\n",
       ".list-inline>li:not(:last-child)::after {content: \"\\00b7\"; padding: 0 .5ex}\n",
       "</style>\n",
       "<ol class=list-inline><li>24153</li><li>41</li></ol>\n"
      ],
      "text/latex": [
       "\\begin{enumerate*}\n",
       "\\item 24153\n",
       "\\item 41\n",
       "\\end{enumerate*}\n"
      ],
      "text/markdown": [
       "1. 24153\n",
       "2. 41\n",
       "\n",
       "\n"
      ],
      "text/plain": [
       "[1] 24153    41"
      ]
     },
     "metadata": {},
     "output_type": "display_data"
    },
    {
     "data": {
      "text/html": [
       "<style>\n",
       ".list-inline {list-style: none; margin:0; padding: 0}\n",
       ".list-inline>li {display: inline-block}\n",
       ".list-inline>li:not(:last-child)::after {content: \"\\00b7\"; padding: 0 .5ex}\n",
       "</style>\n",
       "<ol class=list-inline><li>24153</li><li>40</li></ol>\n"
      ],
      "text/latex": [
       "\\begin{enumerate*}\n",
       "\\item 24153\n",
       "\\item 40\n",
       "\\end{enumerate*}\n"
      ],
      "text/markdown": [
       "1. 24153\n",
       "2. 40\n",
       "\n",
       "\n"
      ],
      "text/plain": [
       "[1] 24153    40"
      ]
     },
     "metadata": {},
     "output_type": "display_data"
    },
    {
     "data": {
      "text/html": [
       "<style>\n",
       ".list-inline {list-style: none; margin:0; padding: 0}\n",
       ".list-inline>li {display: inline-block}\n",
       ".list-inline>li:not(:last-child)::after {content: \"\\00b7\"; padding: 0 .5ex}\n",
       "</style>\n",
       "<ol class=list-inline><li>24153</li><li>40</li></ol>\n"
      ],
      "text/latex": [
       "\\begin{enumerate*}\n",
       "\\item 24153\n",
       "\\item 40\n",
       "\\end{enumerate*}\n"
      ],
      "text/markdown": [
       "1. 24153\n",
       "2. 40\n",
       "\n",
       "\n"
      ],
      "text/plain": [
       "[1] 24153    40"
      ]
     },
     "metadata": {},
     "output_type": "display_data"
    },
    {
     "data": {
      "text/html": [
       "<style>\n",
       ".list-inline {list-style: none; margin:0; padding: 0}\n",
       ".list-inline>li {display: inline-block}\n",
       ".list-inline>li:not(:last-child)::after {content: \"\\00b7\"; padding: 0 .5ex}\n",
       "</style>\n",
       "<ol class=list-inline><li>24153</li><li>49</li></ol>\n"
      ],
      "text/latex": [
       "\\begin{enumerate*}\n",
       "\\item 24153\n",
       "\\item 49\n",
       "\\end{enumerate*}\n"
      ],
      "text/markdown": [
       "1. 24153\n",
       "2. 49\n",
       "\n",
       "\n"
      ],
      "text/plain": [
       "[1] 24153    49"
      ]
     },
     "metadata": {},
     "output_type": "display_data"
    },
    {
     "data": {
      "text/html": [
       "<style>\n",
       ".list-inline {list-style: none; margin:0; padding: 0}\n",
       ".list-inline>li {display: inline-block}\n",
       ".list-inline>li:not(:last-child)::after {content: \"\\00b7\"; padding: 0 .5ex}\n",
       "</style>\n",
       "<ol class=list-inline><li>24153</li><li>48</li></ol>\n"
      ],
      "text/latex": [
       "\\begin{enumerate*}\n",
       "\\item 24153\n",
       "\\item 48\n",
       "\\end{enumerate*}\n"
      ],
      "text/markdown": [
       "1. 24153\n",
       "2. 48\n",
       "\n",
       "\n"
      ],
      "text/plain": [
       "[1] 24153    48"
      ]
     },
     "metadata": {},
     "output_type": "display_data"
    },
    {
     "data": {
      "text/html": [
       "<style>\n",
       ".list-inline {list-style: none; margin:0; padding: 0}\n",
       ".list-inline>li {display: inline-block}\n",
       ".list-inline>li:not(:last-child)::after {content: \"\\00b7\"; padding: 0 .5ex}\n",
       "</style>\n",
       "<ol class=list-inline><li>24153</li><li>47</li></ol>\n"
      ],
      "text/latex": [
       "\\begin{enumerate*}\n",
       "\\item 24153\n",
       "\\item 47\n",
       "\\end{enumerate*}\n"
      ],
      "text/markdown": [
       "1. 24153\n",
       "2. 47\n",
       "\n",
       "\n"
      ],
      "text/plain": [
       "[1] 24153    47"
      ]
     },
     "metadata": {},
     "output_type": "display_data"
    },
    {
     "data": {
      "text/html": [
       "<style>\n",
       ".list-inline {list-style: none; margin:0; padding: 0}\n",
       ".list-inline>li {display: inline-block}\n",
       ".list-inline>li:not(:last-child)::after {content: \"\\00b7\"; padding: 0 .5ex}\n",
       "</style>\n",
       "<ol class=list-inline><li>24153</li><li>65</li></ol>\n"
      ],
      "text/latex": [
       "\\begin{enumerate*}\n",
       "\\item 24153\n",
       "\\item 65\n",
       "\\end{enumerate*}\n"
      ],
      "text/markdown": [
       "1. 24153\n",
       "2. 65\n",
       "\n",
       "\n"
      ],
      "text/plain": [
       "[1] 24153    65"
      ]
     },
     "metadata": {},
     "output_type": "display_data"
    }
   ],
   "source": [
    "dim(expression_08)\n",
    "dim(expression_12)\n",
    "dim(expression_16_3)\n",
    "dim(expression_16_4)\n",
    "dim(expression_16_9)\n",
    "dim(expression_19_1)\n",
    "dim(expression_19_2)\n",
    "dim(expression_19_3)\n",
    "dim(expression_23_1)\n",
    "dim(expression_23_2)\n",
    "dim(expression_23_3)\n",
    "dim(expression_26_1)\n"
   ]
  },
  {
   "cell_type": "code",
   "execution_count": 3,
   "metadata": {
    "vscode": {
     "languageId": "r"
    }
   },
   "outputs": [
    {
     "data": {
      "text/html": [
       "<table class=\"dataframe\">\n",
       "<caption>A data.frame: 6 × 65</caption>\n",
       "<thead>\n",
       "\t<tr><th></th><th scope=col>Gene</th><th scope=col>GW26_PFC1_M4_sc1</th><th scope=col>GW26_PFC1_M4_sc2</th><th scope=col>GW26_PFC1_M4_sc3</th><th scope=col>GW26_PFC1_M4_sc4</th><th scope=col>GW26_PFC1_M4_sc5</th><th scope=col>GW26_PFC1_M4_sc6</th><th scope=col>GW26_PFC1_M4_sc7</th><th scope=col>GW26_PFC1_M4_sc8</th><th scope=col>GW26_PFC1_M4_sc9</th><th scope=col>⋯</th><th scope=col>GW26_PFC1_J4_sc5</th><th scope=col>GW26_PFC1_J4_sc6</th><th scope=col>GW26_PFC1_J4_sc7</th><th scope=col>GW26_PFC1_J4_sc8</th><th scope=col>GW26_PFC1_I4_sc1</th><th scope=col>GW26_PFC1_I4_sc2</th><th scope=col>GW26_PFC1_I4_sc3</th><th scope=col>GW26_PFC1_I4_sc4</th><th scope=col>GW26_PFC1_I4_sc5</th><th scope=col>GW26_PFC1_I4_sc6</th></tr>\n",
       "\t<tr><th></th><th scope=col>&lt;chr&gt;</th><th scope=col>&lt;dbl&gt;</th><th scope=col>&lt;dbl&gt;</th><th scope=col>&lt;dbl&gt;</th><th scope=col>&lt;dbl&gt;</th><th scope=col>&lt;dbl&gt;</th><th scope=col>&lt;dbl&gt;</th><th scope=col>&lt;dbl&gt;</th><th scope=col>&lt;dbl&gt;</th><th scope=col>&lt;dbl&gt;</th><th scope=col>⋯</th><th scope=col>&lt;dbl&gt;</th><th scope=col>&lt;dbl&gt;</th><th scope=col>&lt;dbl&gt;</th><th scope=col>&lt;dbl&gt;</th><th scope=col>&lt;dbl&gt;</th><th scope=col>&lt;dbl&gt;</th><th scope=col>&lt;dbl&gt;</th><th scope=col>&lt;dbl&gt;</th><th scope=col>&lt;dbl&gt;</th><th scope=col>&lt;dbl&gt;</th></tr>\n",
       "</thead>\n",
       "<tbody>\n",
       "\t<tr><th scope=row>1</th><td>A1BG    </td><td>0</td><td>0.0</td><td>0</td><td>0</td><td>3.33</td><td>0</td><td> 21.70</td><td>0</td><td>0</td><td>⋯</td><td>0</td><td>0</td><td>0</td><td>0</td><td>0</td><td>0</td><td>0</td><td>0</td><td>0</td><td>0</td></tr>\n",
       "\t<tr><th scope=row>2</th><td>A1BG-AS1</td><td>0</td><td>0.0</td><td>0</td><td>0</td><td>0.00</td><td>0</td><td>  0.00</td><td>0</td><td>0</td><td>⋯</td><td>0</td><td>0</td><td>0</td><td>0</td><td>0</td><td>0</td><td>0</td><td>0</td><td>0</td><td>0</td></tr>\n",
       "\t<tr><th scope=row>3</th><td>A1CF    </td><td>0</td><td>0.0</td><td>0</td><td>0</td><td>0.00</td><td>0</td><td>  0.00</td><td>0</td><td>0</td><td>⋯</td><td>0</td><td>0</td><td>0</td><td>0</td><td>0</td><td>0</td><td>0</td><td>0</td><td>0</td><td>0</td></tr>\n",
       "\t<tr><th scope=row>4</th><td>A2M     </td><td>0</td><td>3.4</td><td>0</td><td>0</td><td>0.00</td><td>0</td><td>573.96</td><td>0</td><td>0</td><td>⋯</td><td>0</td><td>0</td><td>0</td><td>0</td><td>0</td><td>0</td><td>0</td><td>0</td><td>0</td><td>0</td></tr>\n",
       "\t<tr><th scope=row>5</th><td>A2M-AS1 </td><td>0</td><td>0.0</td><td>0</td><td>0</td><td>0.00</td><td>0</td><td>  4.82</td><td>0</td><td>0</td><td>⋯</td><td>0</td><td>0</td><td>0</td><td>0</td><td>0</td><td>0</td><td>0</td><td>0</td><td>0</td><td>0</td></tr>\n",
       "\t<tr><th scope=row>6</th><td>A2ML1   </td><td>0</td><td>0.0</td><td>0</td><td>0</td><td>0.00</td><td>0</td><td>  0.00</td><td>0</td><td>0</td><td>⋯</td><td>0</td><td>0</td><td>0</td><td>0</td><td>0</td><td>0</td><td>0</td><td>0</td><td>0</td><td>0</td></tr>\n",
       "</tbody>\n",
       "</table>\n"
      ],
      "text/latex": [
       "A data.frame: 6 × 65\n",
       "\\begin{tabular}{r|lllllllllllllllllllll}\n",
       "  & Gene & GW26\\_PFC1\\_M4\\_sc1 & GW26\\_PFC1\\_M4\\_sc2 & GW26\\_PFC1\\_M4\\_sc3 & GW26\\_PFC1\\_M4\\_sc4 & GW26\\_PFC1\\_M4\\_sc5 & GW26\\_PFC1\\_M4\\_sc6 & GW26\\_PFC1\\_M4\\_sc7 & GW26\\_PFC1\\_M4\\_sc8 & GW26\\_PFC1\\_M4\\_sc9 & ⋯ & GW26\\_PFC1\\_J4\\_sc5 & GW26\\_PFC1\\_J4\\_sc6 & GW26\\_PFC1\\_J4\\_sc7 & GW26\\_PFC1\\_J4\\_sc8 & GW26\\_PFC1\\_I4\\_sc1 & GW26\\_PFC1\\_I4\\_sc2 & GW26\\_PFC1\\_I4\\_sc3 & GW26\\_PFC1\\_I4\\_sc4 & GW26\\_PFC1\\_I4\\_sc5 & GW26\\_PFC1\\_I4\\_sc6\\\\\n",
       "  & <chr> & <dbl> & <dbl> & <dbl> & <dbl> & <dbl> & <dbl> & <dbl> & <dbl> & <dbl> & ⋯ & <dbl> & <dbl> & <dbl> & <dbl> & <dbl> & <dbl> & <dbl> & <dbl> & <dbl> & <dbl>\\\\\n",
       "\\hline\n",
       "\t1 & A1BG     & 0 & 0.0 & 0 & 0 & 3.33 & 0 &  21.70 & 0 & 0 & ⋯ & 0 & 0 & 0 & 0 & 0 & 0 & 0 & 0 & 0 & 0\\\\\n",
       "\t2 & A1BG-AS1 & 0 & 0.0 & 0 & 0 & 0.00 & 0 &   0.00 & 0 & 0 & ⋯ & 0 & 0 & 0 & 0 & 0 & 0 & 0 & 0 & 0 & 0\\\\\n",
       "\t3 & A1CF     & 0 & 0.0 & 0 & 0 & 0.00 & 0 &   0.00 & 0 & 0 & ⋯ & 0 & 0 & 0 & 0 & 0 & 0 & 0 & 0 & 0 & 0\\\\\n",
       "\t4 & A2M      & 0 & 3.4 & 0 & 0 & 0.00 & 0 & 573.96 & 0 & 0 & ⋯ & 0 & 0 & 0 & 0 & 0 & 0 & 0 & 0 & 0 & 0\\\\\n",
       "\t5 & A2M-AS1  & 0 & 0.0 & 0 & 0 & 0.00 & 0 &   4.82 & 0 & 0 & ⋯ & 0 & 0 & 0 & 0 & 0 & 0 & 0 & 0 & 0 & 0\\\\\n",
       "\t6 & A2ML1    & 0 & 0.0 & 0 & 0 & 0.00 & 0 &   0.00 & 0 & 0 & ⋯ & 0 & 0 & 0 & 0 & 0 & 0 & 0 & 0 & 0 & 0\\\\\n",
       "\\end{tabular}\n"
      ],
      "text/markdown": [
       "\n",
       "A data.frame: 6 × 65\n",
       "\n",
       "| <!--/--> | Gene &lt;chr&gt; | GW26_PFC1_M4_sc1 &lt;dbl&gt; | GW26_PFC1_M4_sc2 &lt;dbl&gt; | GW26_PFC1_M4_sc3 &lt;dbl&gt; | GW26_PFC1_M4_sc4 &lt;dbl&gt; | GW26_PFC1_M4_sc5 &lt;dbl&gt; | GW26_PFC1_M4_sc6 &lt;dbl&gt; | GW26_PFC1_M4_sc7 &lt;dbl&gt; | GW26_PFC1_M4_sc8 &lt;dbl&gt; | GW26_PFC1_M4_sc9 &lt;dbl&gt; | ⋯ ⋯ | GW26_PFC1_J4_sc5 &lt;dbl&gt; | GW26_PFC1_J4_sc6 &lt;dbl&gt; | GW26_PFC1_J4_sc7 &lt;dbl&gt; | GW26_PFC1_J4_sc8 &lt;dbl&gt; | GW26_PFC1_I4_sc1 &lt;dbl&gt; | GW26_PFC1_I4_sc2 &lt;dbl&gt; | GW26_PFC1_I4_sc3 &lt;dbl&gt; | GW26_PFC1_I4_sc4 &lt;dbl&gt; | GW26_PFC1_I4_sc5 &lt;dbl&gt; | GW26_PFC1_I4_sc6 &lt;dbl&gt; |\n",
       "|---|---|---|---|---|---|---|---|---|---|---|---|---|---|---|---|---|---|---|---|---|---|\n",
       "| 1 | A1BG     | 0 | 0.0 | 0 | 0 | 3.33 | 0 |  21.70 | 0 | 0 | ⋯ | 0 | 0 | 0 | 0 | 0 | 0 | 0 | 0 | 0 | 0 |\n",
       "| 2 | A1BG-AS1 | 0 | 0.0 | 0 | 0 | 0.00 | 0 |   0.00 | 0 | 0 | ⋯ | 0 | 0 | 0 | 0 | 0 | 0 | 0 | 0 | 0 | 0 |\n",
       "| 3 | A1CF     | 0 | 0.0 | 0 | 0 | 0.00 | 0 |   0.00 | 0 | 0 | ⋯ | 0 | 0 | 0 | 0 | 0 | 0 | 0 | 0 | 0 | 0 |\n",
       "| 4 | A2M      | 0 | 3.4 | 0 | 0 | 0.00 | 0 | 573.96 | 0 | 0 | ⋯ | 0 | 0 | 0 | 0 | 0 | 0 | 0 | 0 | 0 | 0 |\n",
       "| 5 | A2M-AS1  | 0 | 0.0 | 0 | 0 | 0.00 | 0 |   4.82 | 0 | 0 | ⋯ | 0 | 0 | 0 | 0 | 0 | 0 | 0 | 0 | 0 | 0 |\n",
       "| 6 | A2ML1    | 0 | 0.0 | 0 | 0 | 0.00 | 0 |   0.00 | 0 | 0 | ⋯ | 0 | 0 | 0 | 0 | 0 | 0 | 0 | 0 | 0 | 0 |\n",
       "\n"
      ],
      "text/plain": [
       "  Gene     GW26_PFC1_M4_sc1 GW26_PFC1_M4_sc2 GW26_PFC1_M4_sc3 GW26_PFC1_M4_sc4\n",
       "1 A1BG     0                0.0              0                0               \n",
       "2 A1BG-AS1 0                0.0              0                0               \n",
       "3 A1CF     0                0.0              0                0               \n",
       "4 A2M      0                3.4              0                0               \n",
       "5 A2M-AS1  0                0.0              0                0               \n",
       "6 A2ML1    0                0.0              0                0               \n",
       "  GW26_PFC1_M4_sc5 GW26_PFC1_M4_sc6 GW26_PFC1_M4_sc7 GW26_PFC1_M4_sc8\n",
       "1 3.33             0                 21.70           0               \n",
       "2 0.00             0                  0.00           0               \n",
       "3 0.00             0                  0.00           0               \n",
       "4 0.00             0                573.96           0               \n",
       "5 0.00             0                  4.82           0               \n",
       "6 0.00             0                  0.00           0               \n",
       "  GW26_PFC1_M4_sc9 ⋯ GW26_PFC1_J4_sc5 GW26_PFC1_J4_sc6 GW26_PFC1_J4_sc7\n",
       "1 0                ⋯ 0                0                0               \n",
       "2 0                ⋯ 0                0                0               \n",
       "3 0                ⋯ 0                0                0               \n",
       "4 0                ⋯ 0                0                0               \n",
       "5 0                ⋯ 0                0                0               \n",
       "6 0                ⋯ 0                0                0               \n",
       "  GW26_PFC1_J4_sc8 GW26_PFC1_I4_sc1 GW26_PFC1_I4_sc2 GW26_PFC1_I4_sc3\n",
       "1 0                0                0                0               \n",
       "2 0                0                0                0               \n",
       "3 0                0                0                0               \n",
       "4 0                0                0                0               \n",
       "5 0                0                0                0               \n",
       "6 0                0                0                0               \n",
       "  GW26_PFC1_I4_sc4 GW26_PFC1_I4_sc5 GW26_PFC1_I4_sc6\n",
       "1 0                0                0               \n",
       "2 0                0                0               \n",
       "3 0                0                0               \n",
       "4 0                0                0               \n",
       "5 0                0                0               \n",
       "6 0                0                0               "
      ]
     },
     "metadata": {},
     "output_type": "display_data"
    }
   ],
   "source": [
    "head(expression_26_1)"
   ]
  },
  {
   "cell_type": "code",
   "execution_count": 4,
   "metadata": {
    "vscode": {
     "languageId": "r"
    }
   },
   "outputs": [],
   "source": [
    "rownames(expression_08) <- expression_08$Gene\n",
    "expression_08 <- expression_08[,-1]\n",
    "rownames(expression_12) <- expression_12$Gene\n",
    "expression_12 <- expression_12[,-1]\n",
    "rownames(expression_16_3) <- expression_16_3$Gene\n",
    "expression_16_3 <- expression_16_3[,-1]\n",
    "rownames(expression_16_4) <- expression_16_4$Gene\n",
    "expression_16_4 <- expression_16_4[,-1]\n",
    "rownames(expression_16_9) <- expression_16_9$Gene\n",
    "expression_16_9 <- expression_16_9[,-1]\n",
    "rownames(expression_19_1) <- expression_19_1$Gene\n",
    "expression_19_1 <- expression_19_1[,-1]\n",
    "rownames(expression_19_2) <- expression_19_2$Gene\n",
    "expression_19_2 <- expression_19_2[,-1]\n",
    "rownames(expression_19_3) <- expression_19_3$Gene\n",
    "expression_19_3 <- expression_19_3[,-1]\n",
    "rownames(expression_23_1) <- expression_23_1$Gene\n",
    "expression_23_1 <- expression_23_1[,-1]\n",
    "rownames(expression_23_2) <- expression_23_2$Gene\n",
    "expression_23_2 <- expression_23_2[,-1]\n",
    "rownames(expression_23_3) <- expression_23_3$Gene\n",
    "expression_23_3 <- expression_23_3[,-1]\n",
    "rownames(expression_26_1) <- expression_26_1$Gene\n",
    "expression_26_1 <- expression_26_1[,-1]"
   ]
  },
  {
   "cell_type": "code",
   "execution_count": 5,
   "metadata": {
    "vscode": {
     "languageId": "r"
    }
   },
   "outputs": [],
   "source": [
    "###按细胞类型对表达数据分组\n",
    "GABA_cellTag_08 <- read.table(\"/disk1/wenqing/tmp_data/PFC_s2/cellTag_info/GW08/GABAergic_neurons_cellTag.txt\")[,1]\n",
    "expression_08_GABA <- expression_08[,GABA_cellTag_08]\n",
    "GABA_cellTag_12 <- read.table(\"/disk1/wenqing/tmp_data/PFC_s2/cellTag_info/GW12/GABAergic_neurons_cellTag.txt\")[,1]\n",
    "expression_12_GABA <- expression_12[,GABA_cellTag_12]\n",
    "GABA_cellTag_16_3 <- read.table(\"/disk1/wenqing/tmp_data/PFC_s2/cellTag_info/GW16_1_3/GABAergic_neurons_cellTag.txt\")[,1]\n",
    "expression_16_3_GABA <- expression_16_3[,GABA_cellTag_16_3]\n",
    "GABA_cellTag_16_4 <- read.table(\"/disk1/wenqing/tmp_data/PFC_s2/cellTag_info/GW16_1_4/GABAergic_neurons_cellTag.txt\")[,1]\n",
    "expression_16_4_GABA <- expression_16_4[,GABA_cellTag_16_4]\n",
    "GABA_cellTag_16_9 <- read.table(\"/disk1/wenqing/tmp_data/PFC_s2/cellTag_info/GW16_1_9/GABAergic_neurons_cellTag.txt\")[,1]\n",
    "expression_16_9_GABA <- expression_16_9[,GABA_cellTag_16_9]\n",
    "GABA_cellTag_19_1 <- read.table(\"/disk1/wenqing/tmp_data/PFC_s2/cellTag_info/GW19_1_1/GABAergic_neurons_cellTag.txt\")[,1]\n",
    "expression_19_1_GABA <- expression_19_1[,GABA_cellTag_19_1]\n",
    "GABA_cellTag_19_2 <- read.table(\"/disk1/wenqing/tmp_data/PFC_s2/cellTag_info/GW19_1_2/GABAergic_neurons_cellTag.txt\")[,1]\n",
    "expression_19_2_GABA <- expression_19_2[,GABA_cellTag_19_2]\n",
    "GABA_cellTag_19_3 <- read.table(\"/disk1/wenqing/tmp_data/PFC_s2/cellTag_info/GW19_1_3/GABAergic_neurons_cellTag.txt\")[,1]\n",
    "expression_19_3_GABA <- expression_19_3[,GABA_cellTag_19_3]\n",
    "GABA_cellTag_23_1 <- read.table(\"/disk1/wenqing/tmp_data/PFC_s2/cellTag_info/GW23_1_1/GABAergic_neurons_cellTag.txt\")[,1]\n",
    "expression_23_1_GABA <- expression_23_1[,GABA_cellTag_23_1]\n",
    "GABA_cellTag_23_2 <- read.table(\"/disk1/wenqing/tmp_data/PFC_s2/cellTag_info/GW23_1_2/GABAergic_neurons_cellTag.txt\")[,1]\n",
    "expression_23_2_GABA <- expression_23_2[,GABA_cellTag_23_2]\n",
    "GABA_cellTag_23_3 <- read.table(\"/disk1/wenqing/tmp_data/PFC_s2/cellTag_info/GW23_1_3/GABAergic_neurons_cellTag.txt\")[,1]\n",
    "expression_23_3_GABA <- expression_23_3[,GABA_cellTag_23_3]\n",
    "GABA_cellTag_26_1 <- read.table(\"/disk1/wenqing/tmp_data/PFC_s2/cellTag_info/GW26_1_1/GABAergic_neurons_cellTag.txt\")[,1]\n",
    "expression_26_1_GABA <- expression_26_1[,GABA_cellTag_26_1]"
   ]
  },
  {
   "cell_type": "code",
   "execution_count": 6,
   "metadata": {
    "vscode": {
     "languageId": "r"
    }
   },
   "outputs": [
    {
     "data": {
      "text/html": [
       "<table class=\"dataframe\">\n",
       "<caption>A data.frame: 6 × 3</caption>\n",
       "<thead>\n",
       "\t<tr><th></th><th scope=col>GW08_PFC1_sc16</th><th scope=col>GW08_PFC1_sc19</th><th scope=col>GW08_PFC1_sc2</th></tr>\n",
       "\t<tr><th></th><th scope=col>&lt;dbl&gt;</th><th scope=col>&lt;dbl&gt;</th><th scope=col>&lt;dbl&gt;</th></tr>\n",
       "</thead>\n",
       "<tbody>\n",
       "\t<tr><th scope=row>A1BG</th><td>0</td><td>0</td><td>0</td></tr>\n",
       "\t<tr><th scope=row>A1BG-AS1</th><td>0</td><td>0</td><td>0</td></tr>\n",
       "\t<tr><th scope=row>A1CF</th><td>0</td><td>0</td><td>0</td></tr>\n",
       "\t<tr><th scope=row>A2M</th><td>0</td><td>0</td><td>0</td></tr>\n",
       "\t<tr><th scope=row>A2M-AS1</th><td>0</td><td>0</td><td>0</td></tr>\n",
       "\t<tr><th scope=row>A2ML1</th><td>0</td><td>0</td><td>0</td></tr>\n",
       "</tbody>\n",
       "</table>\n"
      ],
      "text/latex": [
       "A data.frame: 6 × 3\n",
       "\\begin{tabular}{r|lll}\n",
       "  & GW08\\_PFC1\\_sc16 & GW08\\_PFC1\\_sc19 & GW08\\_PFC1\\_sc2\\\\\n",
       "  & <dbl> & <dbl> & <dbl>\\\\\n",
       "\\hline\n",
       "\tA1BG & 0 & 0 & 0\\\\\n",
       "\tA1BG-AS1 & 0 & 0 & 0\\\\\n",
       "\tA1CF & 0 & 0 & 0\\\\\n",
       "\tA2M & 0 & 0 & 0\\\\\n",
       "\tA2M-AS1 & 0 & 0 & 0\\\\\n",
       "\tA2ML1 & 0 & 0 & 0\\\\\n",
       "\\end{tabular}\n"
      ],
      "text/markdown": [
       "\n",
       "A data.frame: 6 × 3\n",
       "\n",
       "| <!--/--> | GW08_PFC1_sc16 &lt;dbl&gt; | GW08_PFC1_sc19 &lt;dbl&gt; | GW08_PFC1_sc2 &lt;dbl&gt; |\n",
       "|---|---|---|---|\n",
       "| A1BG | 0 | 0 | 0 |\n",
       "| A1BG-AS1 | 0 | 0 | 0 |\n",
       "| A1CF | 0 | 0 | 0 |\n",
       "| A2M | 0 | 0 | 0 |\n",
       "| A2M-AS1 | 0 | 0 | 0 |\n",
       "| A2ML1 | 0 | 0 | 0 |\n",
       "\n"
      ],
      "text/plain": [
       "         GW08_PFC1_sc16 GW08_PFC1_sc19 GW08_PFC1_sc2\n",
       "A1BG     0              0              0            \n",
       "A1BG-AS1 0              0              0            \n",
       "A1CF     0              0              0            \n",
       "A2M      0              0              0            \n",
       "A2M-AS1  0              0              0            \n",
       "A2ML1    0              0              0            "
      ]
     },
     "metadata": {},
     "output_type": "display_data"
    }
   ],
   "source": [
    "head(expression_08_GABA)"
   ]
  },
  {
   "cell_type": "code",
   "execution_count": 7,
   "metadata": {
    "vscode": {
     "languageId": "r"
    }
   },
   "outputs": [],
   "source": [
    "avg_gene_expr_08 <- rowSums(expression_08_GABA)/rowSums(expression_08_GABA!=0)\n",
    "avg_gene_expr_08[is.na(avg_gene_expr_08)] <- 0\n",
    "avg_gene_expr_12 <- rowSums(expression_12_GABA)/rowSums(expression_12_GABA!=0)\n",
    "avg_gene_expr_12[is.na(avg_gene_expr_12)] <- 0\n",
    "avg_gene_expr_16_3 <- rowSums(expression_16_3_GABA)/rowSums(expression_16_3_GABA!=0)\n",
    "avg_gene_expr_16_3[is.na(avg_gene_expr_16_3)] <- 0\n",
    "avg_gene_expr_16_4 <- rowSums(expression_16_4_GABA)/rowSums(expression_16_4_GABA!=0)\n",
    "avg_gene_expr_16_4[is.na(avg_gene_expr_16_4)] <- 0\n",
    "avg_gene_expr_16_9 <- rowSums(expression_16_9_GABA)/rowSums(expression_16_9_GABA!=0)\n",
    "avg_gene_expr_16_9[is.na(avg_gene_expr_16_9)] <- 0\n",
    "avg_gene_expr_19_1 <- rowSums(expression_19_1_GABA)/rowSums(expression_19_1_GABA!=0)\n",
    "avg_gene_expr_19_1[is.na(avg_gene_expr_19_1)] <- 0\n",
    "avg_gene_expr_19_2 <- rowSums(expression_19_2_GABA)/rowSums(expression_19_2_GABA!=0)\n",
    "avg_gene_expr_19_2[is.na(avg_gene_expr_19_2)] <- 0\n",
    "avg_gene_expr_19_3 <- rowSums(expression_19_3_GABA)/rowSums(expression_19_3_GABA!=0)\n",
    "avg_gene_expr_19_3[is.na(avg_gene_expr_19_3)] <- 0\n",
    "avg_gene_expr_23_1 <- rowSums(expression_23_1_GABA)/rowSums(expression_23_1_GABA!=0)\n",
    "avg_gene_expr_23_1[is.na(avg_gene_expr_23_1)] <- 0\n",
    "avg_gene_expr_23_2 <- rowSums(expression_23_2_GABA)/rowSums(expression_23_2_GABA!=0)\n",
    "avg_gene_expr_23_2[is.na(avg_gene_expr_23_2)] <- 0\n",
    "avg_gene_expr_23_3 <- rowSums(expression_23_3_GABA)/rowSums(expression_23_3_GABA!=0)\n",
    "avg_gene_expr_23_3[is.na(avg_gene_expr_23_3)] <- 0\n",
    "avg_gene_expr_26_1 <- rowSums(expression_26_1_GABA)/rowSums(expression_26_1_GABA!=0)\n",
    "avg_gene_expr_26_1[is.na(avg_gene_expr_26_1)] <- 0"
   ]
  },
  {
   "cell_type": "code",
   "execution_count": 8,
   "metadata": {
    "vscode": {
     "languageId": "r"
    }
   },
   "outputs": [
    {
     "data": {
      "text/html": [
       "<table class=\"dataframe\">\n",
       "<caption>A data.frame: 6 × 12</caption>\n",
       "<thead>\n",
       "\t<tr><th></th><th scope=col>avg_gene_expr_08</th><th scope=col>avg_gene_expr_12</th><th scope=col>avg_gene_expr_16_3</th><th scope=col>avg_gene_expr_16_4</th><th scope=col>avg_gene_expr_16_9</th><th scope=col>avg_gene_expr_19_1</th><th scope=col>avg_gene_expr_19_2</th><th scope=col>avg_gene_expr_19_3</th><th scope=col>avg_gene_expr_23_1</th><th scope=col>avg_gene_expr_23_2</th><th scope=col>avg_gene_expr_23_3</th><th scope=col>avg_gene_expr_26_1</th></tr>\n",
       "\t<tr><th></th><th scope=col>&lt;dbl&gt;</th><th scope=col>&lt;dbl&gt;</th><th scope=col>&lt;dbl&gt;</th><th scope=col>&lt;dbl&gt;</th><th scope=col>&lt;dbl&gt;</th><th scope=col>&lt;dbl&gt;</th><th scope=col>&lt;dbl&gt;</th><th scope=col>&lt;dbl&gt;</th><th scope=col>&lt;dbl&gt;</th><th scope=col>&lt;dbl&gt;</th><th scope=col>&lt;dbl&gt;</th><th scope=col>&lt;dbl&gt;</th></tr>\n",
       "</thead>\n",
       "<tbody>\n",
       "\t<tr><th scope=row>A1BG</th><td>0</td><td>0.000000</td><td>0.00</td><td>686.325</td><td> 2.9900</td><td>286.69</td><td>0.00</td><td>160.93</td><td>0.00</td><td>695.73</td><td>36.965</td><td> 77.3020</td></tr>\n",
       "\t<tr><th scope=row>A1BG-AS1</th><td>0</td><td>0.000000</td><td>0.00</td><td>  0.000</td><td> 0.0000</td><td>  0.00</td><td>0.00</td><td>  0.00</td><td>0.00</td><td>  0.00</td><td> 0.000</td><td>  0.0000</td></tr>\n",
       "\t<tr><th scope=row>A1CF</th><td>0</td><td>0.000000</td><td>0.00</td><td>  0.000</td><td> 0.0000</td><td>  0.00</td><td>0.00</td><td>  0.00</td><td>0.00</td><td>  5.58</td><td> 0.000</td><td>  0.0000</td></tr>\n",
       "\t<tr><th scope=row>A2M</th><td>0</td><td>8.996667</td><td>7.97</td><td> 49.400</td><td>30.6075</td><td>147.43</td><td>5.72</td><td>  0.00</td><td>9.73</td><td>  0.00</td><td> 0.000</td><td>233.0325</td></tr>\n",
       "\t<tr><th scope=row>A2M-AS1</th><td>0</td><td>0.000000</td><td>0.00</td><td>  0.000</td><td>65.4100</td><td>  0.00</td><td>0.00</td><td>  0.00</td><td>0.00</td><td>  0.00</td><td> 0.000</td><td>  4.8200</td></tr>\n",
       "\t<tr><th scope=row>A2ML1</th><td>0</td><td>0.000000</td><td>0.00</td><td>  0.000</td><td> 0.0000</td><td>  0.00</td><td>0.00</td><td>  0.00</td><td>0.00</td><td>  0.00</td><td>14.200</td><td> 38.1200</td></tr>\n",
       "</tbody>\n",
       "</table>\n"
      ],
      "text/latex": [
       "A data.frame: 6 × 12\n",
       "\\begin{tabular}{r|llllllllllll}\n",
       "  & avg\\_gene\\_expr\\_08 & avg\\_gene\\_expr\\_12 & avg\\_gene\\_expr\\_16\\_3 & avg\\_gene\\_expr\\_16\\_4 & avg\\_gene\\_expr\\_16\\_9 & avg\\_gene\\_expr\\_19\\_1 & avg\\_gene\\_expr\\_19\\_2 & avg\\_gene\\_expr\\_19\\_3 & avg\\_gene\\_expr\\_23\\_1 & avg\\_gene\\_expr\\_23\\_2 & avg\\_gene\\_expr\\_23\\_3 & avg\\_gene\\_expr\\_26\\_1\\\\\n",
       "  & <dbl> & <dbl> & <dbl> & <dbl> & <dbl> & <dbl> & <dbl> & <dbl> & <dbl> & <dbl> & <dbl> & <dbl>\\\\\n",
       "\\hline\n",
       "\tA1BG & 0 & 0.000000 & 0.00 & 686.325 &  2.9900 & 286.69 & 0.00 & 160.93 & 0.00 & 695.73 & 36.965 &  77.3020\\\\\n",
       "\tA1BG-AS1 & 0 & 0.000000 & 0.00 &   0.000 &  0.0000 &   0.00 & 0.00 &   0.00 & 0.00 &   0.00 &  0.000 &   0.0000\\\\\n",
       "\tA1CF & 0 & 0.000000 & 0.00 &   0.000 &  0.0000 &   0.00 & 0.00 &   0.00 & 0.00 &   5.58 &  0.000 &   0.0000\\\\\n",
       "\tA2M & 0 & 8.996667 & 7.97 &  49.400 & 30.6075 & 147.43 & 5.72 &   0.00 & 9.73 &   0.00 &  0.000 & 233.0325\\\\\n",
       "\tA2M-AS1 & 0 & 0.000000 & 0.00 &   0.000 & 65.4100 &   0.00 & 0.00 &   0.00 & 0.00 &   0.00 &  0.000 &   4.8200\\\\\n",
       "\tA2ML1 & 0 & 0.000000 & 0.00 &   0.000 &  0.0000 &   0.00 & 0.00 &   0.00 & 0.00 &   0.00 & 14.200 &  38.1200\\\\\n",
       "\\end{tabular}\n"
      ],
      "text/markdown": [
       "\n",
       "A data.frame: 6 × 12\n",
       "\n",
       "| <!--/--> | avg_gene_expr_08 &lt;dbl&gt; | avg_gene_expr_12 &lt;dbl&gt; | avg_gene_expr_16_3 &lt;dbl&gt; | avg_gene_expr_16_4 &lt;dbl&gt; | avg_gene_expr_16_9 &lt;dbl&gt; | avg_gene_expr_19_1 &lt;dbl&gt; | avg_gene_expr_19_2 &lt;dbl&gt; | avg_gene_expr_19_3 &lt;dbl&gt; | avg_gene_expr_23_1 &lt;dbl&gt; | avg_gene_expr_23_2 &lt;dbl&gt; | avg_gene_expr_23_3 &lt;dbl&gt; | avg_gene_expr_26_1 &lt;dbl&gt; |\n",
       "|---|---|---|---|---|---|---|---|---|---|---|---|---|\n",
       "| A1BG | 0 | 0.000000 | 0.00 | 686.325 |  2.9900 | 286.69 | 0.00 | 160.93 | 0.00 | 695.73 | 36.965 |  77.3020 |\n",
       "| A1BG-AS1 | 0 | 0.000000 | 0.00 |   0.000 |  0.0000 |   0.00 | 0.00 |   0.00 | 0.00 |   0.00 |  0.000 |   0.0000 |\n",
       "| A1CF | 0 | 0.000000 | 0.00 |   0.000 |  0.0000 |   0.00 | 0.00 |   0.00 | 0.00 |   5.58 |  0.000 |   0.0000 |\n",
       "| A2M | 0 | 8.996667 | 7.97 |  49.400 | 30.6075 | 147.43 | 5.72 |   0.00 | 9.73 |   0.00 |  0.000 | 233.0325 |\n",
       "| A2M-AS1 | 0 | 0.000000 | 0.00 |   0.000 | 65.4100 |   0.00 | 0.00 |   0.00 | 0.00 |   0.00 |  0.000 |   4.8200 |\n",
       "| A2ML1 | 0 | 0.000000 | 0.00 |   0.000 |  0.0000 |   0.00 | 0.00 |   0.00 | 0.00 |   0.00 | 14.200 |  38.1200 |\n",
       "\n"
      ],
      "text/plain": [
       "         avg_gene_expr_08 avg_gene_expr_12 avg_gene_expr_16_3\n",
       "A1BG     0                0.000000         0.00              \n",
       "A1BG-AS1 0                0.000000         0.00              \n",
       "A1CF     0                0.000000         0.00              \n",
       "A2M      0                8.996667         7.97              \n",
       "A2M-AS1  0                0.000000         0.00              \n",
       "A2ML1    0                0.000000         0.00              \n",
       "         avg_gene_expr_16_4 avg_gene_expr_16_9 avg_gene_expr_19_1\n",
       "A1BG     686.325             2.9900            286.69            \n",
       "A1BG-AS1   0.000             0.0000              0.00            \n",
       "A1CF       0.000             0.0000              0.00            \n",
       "A2M       49.400            30.6075            147.43            \n",
       "A2M-AS1    0.000            65.4100              0.00            \n",
       "A2ML1      0.000             0.0000              0.00            \n",
       "         avg_gene_expr_19_2 avg_gene_expr_19_3 avg_gene_expr_23_1\n",
       "A1BG     0.00               160.93             0.00              \n",
       "A1BG-AS1 0.00                 0.00             0.00              \n",
       "A1CF     0.00                 0.00             0.00              \n",
       "A2M      5.72                 0.00             9.73              \n",
       "A2M-AS1  0.00                 0.00             0.00              \n",
       "A2ML1    0.00                 0.00             0.00              \n",
       "         avg_gene_expr_23_2 avg_gene_expr_23_3 avg_gene_expr_26_1\n",
       "A1BG     695.73             36.965              77.3020          \n",
       "A1BG-AS1   0.00              0.000               0.0000          \n",
       "A1CF       5.58              0.000               0.0000          \n",
       "A2M        0.00              0.000             233.0325          \n",
       "A2M-AS1    0.00              0.000               4.8200          \n",
       "A2ML1      0.00             14.200              38.1200          "
      ]
     },
     "metadata": {},
     "output_type": "display_data"
    }
   ],
   "source": [
    "avg_expr_all_phases <- as.data.frame(cbind(avg_gene_expr_08,avg_gene_expr_12,avg_gene_expr_16_3,avg_gene_expr_16_4,\n",
    "                                            avg_gene_expr_16_9,avg_gene_expr_19_1,avg_gene_expr_19_2,avg_gene_expr_19_3,\n",
    "                                            avg_gene_expr_23_1,avg_gene_expr_23_2,avg_gene_expr_23_3,avg_gene_expr_26_1))\n",
    "head(avg_expr_all_phases)"
   ]
  },
  {
   "cell_type": "code",
   "execution_count": 9,
   "metadata": {
    "vscode": {
     "languageId": "r"
    }
   },
   "outputs": [],
   "source": [
    "avg_expr_all_phases <- avg_expr_all_phases[which(rowSums(avg_expr_all_phases)!=0),]"
   ]
  },
  {
   "cell_type": "code",
   "execution_count": 10,
   "metadata": {
    "vscode": {
     "languageId": "r"
    }
   },
   "outputs": [
    {
     "data": {
      "text/html": [
       "<style>\n",
       ".list-inline {list-style: none; margin:0; padding: 0}\n",
       ".list-inline>li {display: inline-block}\n",
       ".list-inline>li:not(:last-child)::after {content: \"\\00b7\"; padding: 0 .5ex}\n",
       "</style>\n",
       "<ol class=list-inline><li>'A1BG'</li><li>'A1CF'</li><li>'A2M'</li><li>'A2M-AS1'</li><li>'A2ML1'</li><li>'A2MP1'</li></ol>\n"
      ],
      "text/latex": [
       "\\begin{enumerate*}\n",
       "\\item 'A1BG'\n",
       "\\item 'A1CF'\n",
       "\\item 'A2M'\n",
       "\\item 'A2M-AS1'\n",
       "\\item 'A2ML1'\n",
       "\\item 'A2MP1'\n",
       "\\end{enumerate*}\n"
      ],
      "text/markdown": [
       "1. 'A1BG'\n",
       "2. 'A1CF'\n",
       "3. 'A2M'\n",
       "4. 'A2M-AS1'\n",
       "5. 'A2ML1'\n",
       "6. 'A2MP1'\n",
       "\n",
       "\n"
      ],
      "text/plain": [
       "[1] \"A1BG\"    \"A1CF\"    \"A2M\"     \"A2M-AS1\" \"A2ML1\"   \"A2MP1\"  "
      ]
     },
     "metadata": {},
     "output_type": "display_data"
    }
   ],
   "source": [
    "head(rownames(avg_expr_all_phases))"
   ]
  },
  {
   "cell_type": "code",
   "execution_count": 11,
   "metadata": {
    "vscode": {
     "languageId": "r"
    }
   },
   "outputs": [
    {
     "data": {
      "text/html": [
       "<style>\n",
       ".list-inline {list-style: none; margin:0; padding: 0}\n",
       ".list-inline>li {display: inline-block}\n",
       ".list-inline>li:not(:last-child)::after {content: \"\\00b7\"; padding: 0 .5ex}\n",
       "</style>\n",
       "<ol class=list-inline><li>'ABI2'</li><li>'AC004951.6'</li><li>'AC004980.11'</li><li>'AC004980.9'</li><li>'AC007000.12'</li><li>'AC007383.4'</li></ol>\n"
      ],
      "text/latex": [
       "\\begin{enumerate*}\n",
       "\\item 'ABI2'\n",
       "\\item 'AC004951.6'\n",
       "\\item 'AC004980.11'\n",
       "\\item 'AC004980.9'\n",
       "\\item 'AC007000.12'\n",
       "\\item 'AC007383.4'\n",
       "\\end{enumerate*}\n"
      ],
      "text/markdown": [
       "1. 'ABI2'\n",
       "2. 'AC004951.6'\n",
       "3. 'AC004980.11'\n",
       "4. 'AC004980.9'\n",
       "5. 'AC007000.12'\n",
       "6. 'AC007383.4'\n",
       "\n",
       "\n"
      ],
      "text/plain": [
       "[1] \"ABI2\"        \"AC004951.6\"  \"AC004980.11\" \"AC004980.9\"  \"AC007000.12\"\n",
       "[6] \"AC007383.4\" "
      ]
     },
     "metadata": {},
     "output_type": "display_data"
    }
   ],
   "source": [
    "genes_cluster <- read.table('/disk1/wenqing/tmp_data/PFC_s2/all_analysis_result/de_editing/GABAergic_neurons/genes_de_edited_sites_cluster3.txt')[,1]\n",
    "head(genes_cluster)"
   ]
  },
  {
   "cell_type": "code",
   "execution_count": 12,
   "metadata": {
    "vscode": {
     "languageId": "r"
    }
   },
   "outputs": [
    {
     "data": {
      "text/html": [
       "<style>\n",
       ".list-inline {list-style: none; margin:0; padding: 0}\n",
       ".list-inline>li {display: inline-block}\n",
       ".list-inline>li:not(:last-child)::after {content: \"\\00b7\"; padding: 0 .5ex}\n",
       "</style>\n",
       "<ol class=list-inline><li>73</li><li>12</li></ol>\n"
      ],
      "text/latex": [
       "\\begin{enumerate*}\n",
       "\\item 73\n",
       "\\item 12\n",
       "\\end{enumerate*}\n"
      ],
      "text/markdown": [
       "1. 73\n",
       "2. 12\n",
       "\n",
       "\n"
      ],
      "text/plain": [
       "[1] 73 12"
      ]
     },
     "metadata": {},
     "output_type": "display_data"
    }
   ],
   "source": [
    "gene_cluster_expr <- avg_expr_all_phases[rownames(avg_expr_all_phases) %in% genes_cluster,]\n",
    "dim(gene_cluster_expr)"
   ]
  },
  {
   "cell_type": "code",
   "execution_count": 13,
   "metadata": {
    "vscode": {
     "languageId": "r"
    }
   },
   "outputs": [
    {
     "data": {
      "text/html": [
       "<table class=\"dataframe\">\n",
       "<caption>A data.frame: 6 × 12</caption>\n",
       "<thead>\n",
       "\t<tr><th></th><th scope=col>avg_gene_expr_08</th><th scope=col>avg_gene_expr_12</th><th scope=col>avg_gene_expr_16_3</th><th scope=col>avg_gene_expr_16_4</th><th scope=col>avg_gene_expr_16_9</th><th scope=col>avg_gene_expr_19_1</th><th scope=col>avg_gene_expr_19_2</th><th scope=col>avg_gene_expr_19_3</th><th scope=col>avg_gene_expr_23_1</th><th scope=col>avg_gene_expr_23_2</th><th scope=col>avg_gene_expr_23_3</th><th scope=col>avg_gene_expr_26_1</th></tr>\n",
       "\t<tr><th></th><th scope=col>&lt;dbl&gt;</th><th scope=col>&lt;dbl&gt;</th><th scope=col>&lt;dbl&gt;</th><th scope=col>&lt;dbl&gt;</th><th scope=col>&lt;dbl&gt;</th><th scope=col>&lt;dbl&gt;</th><th scope=col>&lt;dbl&gt;</th><th scope=col>&lt;dbl&gt;</th><th scope=col>&lt;dbl&gt;</th><th scope=col>&lt;dbl&gt;</th><th scope=col>&lt;dbl&gt;</th><th scope=col>&lt;dbl&gt;</th></tr>\n",
       "</thead>\n",
       "<tbody>\n",
       "\t<tr><th scope=row>ABI2</th><td>275.775</td><td>691.195</td><td>148.6975</td><td> 189.7183</td><td>368.9780</td><td>295.0267</td><td> 41.720</td><td>184.4900</td><td>412.4000</td><td>198.5227</td><td>410.8520</td><td>442.0342</td></tr>\n",
       "\t<tr><th scope=row>AGAP9</th><td>  0.000</td><td>  0.000</td><td>  0.0000</td><td>   0.0000</td><td>  0.0000</td><td>  0.0000</td><td>  0.000</td><td>  0.0000</td><td>  0.0000</td><td>  0.0000</td><td>  0.0000</td><td>  1.7100</td></tr>\n",
       "\t<tr><th scope=row>BICD1</th><td> 47.370</td><td>331.425</td><td>116.4250</td><td>1520.6500</td><td>169.5267</td><td> 46.3500</td><td> 16.730</td><td>319.9850</td><td>332.7650</td><td>493.0900</td><td>377.2467</td><td>537.4209</td></tr>\n",
       "\t<tr><th scope=row>BNIP3L</th><td>189.440</td><td>395.880</td><td>146.7544</td><td> 261.6871</td><td>278.8533</td><td>276.1767</td><td>202.234</td><td>238.3025</td><td>479.4847</td><td>500.0542</td><td>452.3414</td><td>395.1400</td></tr>\n",
       "\t<tr><th scope=row>BRINP3</th><td>236.870</td><td>  0.000</td><td> 68.3900</td><td>  14.4150</td><td>  3.0000</td><td> 52.1900</td><td> 12.450</td><td>  0.0000</td><td>  5.6400</td><td>  0.0000</td><td>  0.0000</td><td>145.5300</td></tr>\n",
       "\t<tr><th scope=row>CCDC148</th><td>  0.000</td><td>  0.000</td><td>  0.0000</td><td>   0.0000</td><td> 10.3000</td><td>  0.0000</td><td>  0.000</td><td> 16.0400</td><td>469.2700</td><td>  0.0000</td><td>609.6600</td><td>107.3200</td></tr>\n",
       "</tbody>\n",
       "</table>\n"
      ],
      "text/latex": [
       "A data.frame: 6 × 12\n",
       "\\begin{tabular}{r|llllllllllll}\n",
       "  & avg\\_gene\\_expr\\_08 & avg\\_gene\\_expr\\_12 & avg\\_gene\\_expr\\_16\\_3 & avg\\_gene\\_expr\\_16\\_4 & avg\\_gene\\_expr\\_16\\_9 & avg\\_gene\\_expr\\_19\\_1 & avg\\_gene\\_expr\\_19\\_2 & avg\\_gene\\_expr\\_19\\_3 & avg\\_gene\\_expr\\_23\\_1 & avg\\_gene\\_expr\\_23\\_2 & avg\\_gene\\_expr\\_23\\_3 & avg\\_gene\\_expr\\_26\\_1\\\\\n",
       "  & <dbl> & <dbl> & <dbl> & <dbl> & <dbl> & <dbl> & <dbl> & <dbl> & <dbl> & <dbl> & <dbl> & <dbl>\\\\\n",
       "\\hline\n",
       "\tABI2 & 275.775 & 691.195 & 148.6975 &  189.7183 & 368.9780 & 295.0267 &  41.720 & 184.4900 & 412.4000 & 198.5227 & 410.8520 & 442.0342\\\\\n",
       "\tAGAP9 &   0.000 &   0.000 &   0.0000 &    0.0000 &   0.0000 &   0.0000 &   0.000 &   0.0000 &   0.0000 &   0.0000 &   0.0000 &   1.7100\\\\\n",
       "\tBICD1 &  47.370 & 331.425 & 116.4250 & 1520.6500 & 169.5267 &  46.3500 &  16.730 & 319.9850 & 332.7650 & 493.0900 & 377.2467 & 537.4209\\\\\n",
       "\tBNIP3L & 189.440 & 395.880 & 146.7544 &  261.6871 & 278.8533 & 276.1767 & 202.234 & 238.3025 & 479.4847 & 500.0542 & 452.3414 & 395.1400\\\\\n",
       "\tBRINP3 & 236.870 &   0.000 &  68.3900 &   14.4150 &   3.0000 &  52.1900 &  12.450 &   0.0000 &   5.6400 &   0.0000 &   0.0000 & 145.5300\\\\\n",
       "\tCCDC148 &   0.000 &   0.000 &   0.0000 &    0.0000 &  10.3000 &   0.0000 &   0.000 &  16.0400 & 469.2700 &   0.0000 & 609.6600 & 107.3200\\\\\n",
       "\\end{tabular}\n"
      ],
      "text/markdown": [
       "\n",
       "A data.frame: 6 × 12\n",
       "\n",
       "| <!--/--> | avg_gene_expr_08 &lt;dbl&gt; | avg_gene_expr_12 &lt;dbl&gt; | avg_gene_expr_16_3 &lt;dbl&gt; | avg_gene_expr_16_4 &lt;dbl&gt; | avg_gene_expr_16_9 &lt;dbl&gt; | avg_gene_expr_19_1 &lt;dbl&gt; | avg_gene_expr_19_2 &lt;dbl&gt; | avg_gene_expr_19_3 &lt;dbl&gt; | avg_gene_expr_23_1 &lt;dbl&gt; | avg_gene_expr_23_2 &lt;dbl&gt; | avg_gene_expr_23_3 &lt;dbl&gt; | avg_gene_expr_26_1 &lt;dbl&gt; |\n",
       "|---|---|---|---|---|---|---|---|---|---|---|---|---|\n",
       "| ABI2 | 275.775 | 691.195 | 148.6975 |  189.7183 | 368.9780 | 295.0267 |  41.720 | 184.4900 | 412.4000 | 198.5227 | 410.8520 | 442.0342 |\n",
       "| AGAP9 |   0.000 |   0.000 |   0.0000 |    0.0000 |   0.0000 |   0.0000 |   0.000 |   0.0000 |   0.0000 |   0.0000 |   0.0000 |   1.7100 |\n",
       "| BICD1 |  47.370 | 331.425 | 116.4250 | 1520.6500 | 169.5267 |  46.3500 |  16.730 | 319.9850 | 332.7650 | 493.0900 | 377.2467 | 537.4209 |\n",
       "| BNIP3L | 189.440 | 395.880 | 146.7544 |  261.6871 | 278.8533 | 276.1767 | 202.234 | 238.3025 | 479.4847 | 500.0542 | 452.3414 | 395.1400 |\n",
       "| BRINP3 | 236.870 |   0.000 |  68.3900 |   14.4150 |   3.0000 |  52.1900 |  12.450 |   0.0000 |   5.6400 |   0.0000 |   0.0000 | 145.5300 |\n",
       "| CCDC148 |   0.000 |   0.000 |   0.0000 |    0.0000 |  10.3000 |   0.0000 |   0.000 |  16.0400 | 469.2700 |   0.0000 | 609.6600 | 107.3200 |\n",
       "\n"
      ],
      "text/plain": [
       "        avg_gene_expr_08 avg_gene_expr_12 avg_gene_expr_16_3 avg_gene_expr_16_4\n",
       "ABI2    275.775          691.195          148.6975            189.7183         \n",
       "AGAP9     0.000            0.000            0.0000              0.0000         \n",
       "BICD1    47.370          331.425          116.4250           1520.6500         \n",
       "BNIP3L  189.440          395.880          146.7544            261.6871         \n",
       "BRINP3  236.870            0.000           68.3900             14.4150         \n",
       "CCDC148   0.000            0.000            0.0000              0.0000         \n",
       "        avg_gene_expr_16_9 avg_gene_expr_19_1 avg_gene_expr_19_2\n",
       "ABI2    368.9780           295.0267            41.720           \n",
       "AGAP9     0.0000             0.0000             0.000           \n",
       "BICD1   169.5267            46.3500            16.730           \n",
       "BNIP3L  278.8533           276.1767           202.234           \n",
       "BRINP3    3.0000            52.1900            12.450           \n",
       "CCDC148  10.3000             0.0000             0.000           \n",
       "        avg_gene_expr_19_3 avg_gene_expr_23_1 avg_gene_expr_23_2\n",
       "ABI2    184.4900           412.4000           198.5227          \n",
       "AGAP9     0.0000             0.0000             0.0000          \n",
       "BICD1   319.9850           332.7650           493.0900          \n",
       "BNIP3L  238.3025           479.4847           500.0542          \n",
       "BRINP3    0.0000             5.6400             0.0000          \n",
       "CCDC148  16.0400           469.2700             0.0000          \n",
       "        avg_gene_expr_23_3 avg_gene_expr_26_1\n",
       "ABI2    410.8520           442.0342          \n",
       "AGAP9     0.0000             1.7100          \n",
       "BICD1   377.2467           537.4209          \n",
       "BNIP3L  452.3414           395.1400          \n",
       "BRINP3    0.0000           145.5300          \n",
       "CCDC148 609.6600           107.3200          "
      ]
     },
     "metadata": {},
     "output_type": "display_data"
    }
   ],
   "source": [
    "########同一簇内的基因表达如何可视化看趋势变化？？？？？？？？\n",
    "head(gene_cluster_expr)"
   ]
  },
  {
   "cell_type": "code",
   "execution_count": 90,
   "metadata": {
    "vscode": {
     "languageId": "r"
    }
   },
   "outputs": [],
   "source": [
    "####先鉴定差异表达基因\n",
    "#boxplot(as.vector(t(avg_expr_all_phases)))\n",
    "#quantile(as.vector(t(avg_expr_all_phases)))\n",
    "all_values <- as.vector(t(avg_expr_all_phases))\n",
    "Q1 <- quantile(all_values,0.25)\n",
    "Q3 <- quantile(all_values,0.75)\n",
    "sub_avg_expr_all_phases1 <- avg_expr_all_phases\n",
    "sub_avg_expr_all_phases1[sub_avg_expr_all_phases1 < Q1 | sub_avg_expr_all_phases1 > Q3] <- 0\n"
   ]
  },
  {
   "cell_type": "code",
   "execution_count": 92,
   "metadata": {
    "vscode": {
     "languageId": "r"
    }
   },
   "outputs": [],
   "source": [
    "sub_avg_expr_all_phases1 <- sub_avg_expr_all_phases1[which(rowSums(sub_avg_expr_all_phases1)!=0),]"
   ]
  },
  {
   "cell_type": "code",
   "execution_count": 93,
   "metadata": {
    "vscode": {
     "languageId": "r"
    }
   },
   "outputs": [
    {
     "data": {
      "text/html": [
       "<style>\n",
       ".list-inline {list-style: none; margin:0; padding: 0}\n",
       ".list-inline>li {display: inline-block}\n",
       ".list-inline>li:not(:last-child)::after {content: \"\\00b7\"; padding: 0 .5ex}\n",
       "</style>\n",
       "<ol class=list-inline><li>15827</li><li>12</li></ol>\n"
      ],
      "text/latex": [
       "\\begin{enumerate*}\n",
       "\\item 15827\n",
       "\\item 12\n",
       "\\end{enumerate*}\n"
      ],
      "text/markdown": [
       "1. 15827\n",
       "2. 12\n",
       "\n",
       "\n"
      ],
      "text/plain": [
       "[1] 15827    12"
      ]
     },
     "metadata": {},
     "output_type": "display_data"
    }
   ],
   "source": [
    "dim(sub_avg_expr_all_phases1)"
   ]
  },
  {
   "cell_type": "code",
   "execution_count": 95,
   "metadata": {
    "vscode": {
     "languageId": "r"
    }
   },
   "outputs": [
    {
     "data": {
      "text/html": [
       "<style>\n",
       ".list-inline {list-style: none; margin:0; padding: 0}\n",
       ".list-inline>li {display: inline-block}\n",
       ".list-inline>li:not(:last-child)::after {content: \"\\00b7\"; padding: 0 .5ex}\n",
       "</style>\n",
       "<ol class=list-inline><li>1.64</li><li>887.687343406593</li></ol>\n"
      ],
      "text/latex": [
       "\\begin{enumerate*}\n",
       "\\item 1.64\n",
       "\\item 887.687343406593\n",
       "\\end{enumerate*}\n"
      ],
      "text/markdown": [
       "1. 1.64\n",
       "2. 887.687343406593\n",
       "\n",
       "\n"
      ],
      "text/plain": [
       "[1]   1.6400 887.6873"
      ]
     },
     "metadata": {},
     "output_type": "display_data"
    },
    {
     "data": {
      "text/html": [
       "<style>\n",
       ".dl-inline {width: auto; margin:0; padding: 0}\n",
       ".dl-inline>dt, .dl-inline>dd {float: none; width: auto; display: inline-block}\n",
       ".dl-inline>dt::after {content: \":\\0020\"; padding-right: .5ex}\n",
       ".dl-inline>dt:not(:first-of-type) {padding-left: .5ex}\n",
       "</style><dl class=dl-inline><dt>0%</dt><dd>1.64</dd><dt>25%</dt><dd>46.875</dd><dt>50%</dt><dd>126.7</dd><dt>75%</dt><dd>232.480333333333</dd><dt>100%</dt><dd>887.687343406593</dd></dl>\n"
      ],
      "text/latex": [
       "\\begin{description*}\n",
       "\\item[0\\textbackslash{}\\%] 1.64\n",
       "\\item[25\\textbackslash{}\\%] 46.875\n",
       "\\item[50\\textbackslash{}\\%] 126.7\n",
       "\\item[75\\textbackslash{}\\%] 232.480333333333\n",
       "\\item[100\\textbackslash{}\\%] 887.687343406593\n",
       "\\end{description*}\n"
      ],
      "text/markdown": [
       "0%\n",
       ":   1.6425%\n",
       ":   46.87550%\n",
       ":   126.775%\n",
       ":   232.480333333333100%\n",
       ":   887.687343406593\n",
       "\n"
      ],
      "text/plain": [
       "      0%      25%      50%      75%     100% \n",
       "  1.6400  46.8750 126.7000 232.4803 887.6873 "
      ]
     },
     "metadata": {},
     "output_type": "display_data"
    },
    {
     "data": {
      "image/png": "[encoded data removed]",
      "text/plain": [
       "plot without title"
      ]
     },
     "metadata": {
      "image/png": {
       "height": 420,
       "width": 420
      }
     },
     "output_type": "display_data"
    }
   ],
   "source": [
    "###对每个基因在所有样本中求和，去除和值过低的基因，以免影响下游分析\n",
    "gene_expr_sum <- rowSums(sub_avg_expr_all_phases1)\n",
    "boxplot(gene_expr_sum)\n",
    "range(gene_expr_sum)\n",
    "quantile(gene_expr_sum)"
   ]
  },
  {
   "cell_type": "code",
   "execution_count": 96,
   "metadata": {
    "vscode": {
     "languageId": "r"
    }
   },
   "outputs": [
    {
     "data": {
      "text/html": [
       "<strong>25%:</strong> 46.875"
      ],
      "text/latex": [
       "\\textbf{25\\textbackslash{}\\%:} 46.875"
      ],
      "text/markdown": [
       "**25%:** 46.875"
      ],
      "text/plain": [
       "   25% \n",
       "46.875 "
      ]
     },
     "metadata": {},
     "output_type": "display_data"
    },
    {
     "data": {
      "text/html": [
       "<strong>75%:</strong> 232.480333333333"
      ],
      "text/latex": [
       "\\textbf{75\\textbackslash{}\\%:} 232.480333333333"
      ],
      "text/markdown": [
       "**75%:** 232.480333333333"
      ],
      "text/plain": [
       "     75% \n",
       "232.4803 "
      ]
     },
     "metadata": {},
     "output_type": "display_data"
    }
   ],
   "source": [
    "Q1 <- quantile(gene_expr_sum, 0.25)\n",
    "Q3 <- quantile(gene_expr_sum, 0.75)\n",
    "Q1\n",
    "Q3\n",
    "IQR <- Q3 - Q1\n",
    "\n",
    "#IQR\n",
    "\n",
    "# 定义离群点范围\n",
    "#lower_bound <- Q1 - 1.5 * IQR\n",
    "#upper_bound <- Q3 + 1.5 * IQR\n",
    "# 标记离群点\n",
    "input_genes_loc <- which(gene_expr_sum >= Q1 & gene_expr_sum <= Q3)\n"
   ]
  },
  {
   "cell_type": "code",
   "execution_count": 97,
   "metadata": {
    "vscode": {
     "languageId": "r"
    }
   },
   "outputs": [
    {
     "data": {
      "text/html": [
       "7913"
      ],
      "text/latex": [
       "7913"
      ],
      "text/markdown": [
       "7913"
      ],
      "text/plain": [
       "[1] 7913"
      ]
     },
     "metadata": {},
     "output_type": "display_data"
    }
   ],
   "source": [
    "length(input_genes_loc)"
   ]
  },
  {
   "cell_type": "code",
   "execution_count": 98,
   "metadata": {
    "vscode": {
     "languageId": "r"
    }
   },
   "outputs": [],
   "source": [
    "\n",
    "sub_avg_expr_all_phases2 <- sub_avg_expr_all_phases1[input_genes_loc,]\n",
    "sub_avg_expr_all_phases2 <- sub_avg_expr_all_phases2[rowSums(sub_avg_expr_all_phases2)!=0,]"
   ]
  },
  {
   "cell_type": "code",
   "execution_count": 99,
   "metadata": {
    "vscode": {
     "languageId": "r"
    }
   },
   "outputs": [
    {
     "data": {
      "text/html": [
       "<style>\n",
       ".list-inline {list-style: none; margin:0; padding: 0}\n",
       ".list-inline>li {display: inline-block}\n",
       ".list-inline>li:not(:last-child)::after {content: \"\\00b7\"; padding: 0 .5ex}\n",
       "</style>\n",
       "<ol class=list-inline><li>7913</li><li>12</li></ol>\n"
      ],
      "text/latex": [
       "\\begin{enumerate*}\n",
       "\\item 7913\n",
       "\\item 12\n",
       "\\end{enumerate*}\n"
      ],
      "text/markdown": [
       "1. 7913\n",
       "2. 12\n",
       "\n",
       "\n"
      ],
      "text/plain": [
       "[1] 7913   12"
      ]
     },
     "metadata": {},
     "output_type": "display_data"
    },
    {
     "data": {
      "text/html": [
       "<style>\n",
       ".list-inline {list-style: none; margin:0; padding: 0}\n",
       ".list-inline>li {display: inline-block}\n",
       ".list-inline>li:not(:last-child)::after {content: \"\\00b7\"; padding: 0 .5ex}\n",
       "</style>\n",
       "<ol class=list-inline><li>16823</li><li>12</li></ol>\n"
      ],
      "text/latex": [
       "\\begin{enumerate*}\n",
       "\\item 16823\n",
       "\\item 12\n",
       "\\end{enumerate*}\n"
      ],
      "text/markdown": [
       "1. 16823\n",
       "2. 12\n",
       "\n",
       "\n"
      ],
      "text/plain": [
       "[1] 16823    12"
      ]
     },
     "metadata": {},
     "output_type": "display_data"
    }
   ],
   "source": [
    "dim(sub_avg_expr_all_phases2)\n",
    "dim(avg_expr_all_phases)"
   ]
  },
  {
   "cell_type": "code",
   "execution_count": 100,
   "metadata": {
    "vscode": {
     "languageId": "r"
    }
   },
   "outputs": [
    {
     "data": {
      "image/png": "[encoded data removed]",
      "text/plain": [
       "Plot with title “voom: Mean-variance trend”"
      ]
     },
     "metadata": {
      "image/png": {
       "height": 420,
       "width": 420
      }
     },
     "output_type": "display_data"
    }
   ],
   "source": [
    "colData <- data.frame(\n",
    "    sampleName = colnames(sub_avg_expr_all_phases2), # 样本名称\n",
    "    group = c('week8','week12',rep('week16',3),rep('week19',3),rep('week23',3),'week26')  # 分组信息\n",
    ")\n",
    "\n",
    "design <- model.matrix(~ 0 + group, data = colData) # 设定模型设计\n",
    "v <- voom(sub_avg_expr_all_phases2, design, plot = TRUE) # voom转换并返回一个voom对象"
   ]
  },
  {
   "cell_type": "code",
   "execution_count": 101,
   "metadata": {
    "vscode": {
     "languageId": "r"
    }
   },
   "outputs": [],
   "source": [
    "fit <- lmFit(v, design) # 建立线性模型\n",
    "fit <- eBayes(fit) # 使用 empirical Bayes 方法进行统计推断"
   ]
  },
  {
   "cell_type": "code",
   "execution_count": 102,
   "metadata": {
    "vscode": {
     "languageId": "r"
    }
   },
   "outputs": [],
   "source": [
    "# 选择显著差异表达的基因，例如基于FDR矫正后的p值（adj.P.Val）和对数 fold 改变（logFC）\n",
    "res <- topTable(fit, coef = 1, adjust.method = \"fdr\", sort.by = \"P\", n = Inf)"
   ]
  },
  {
   "cell_type": "code",
   "execution_count": 103,
   "metadata": {
    "vscode": {
     "languageId": "r"
    }
   },
   "outputs": [
    {
     "name": "stderr",
     "output_type": "stream",
     "text": [
      "The following objects are masked from res (pos = 3):\n",
      "\n",
      "    adj.P.Val, AveExpr, B, logFC, P.Value, t\n",
      "\n",
      "\n",
      "The following objects are masked from res (pos = 4):\n",
      "\n",
      "    adj.P.Val, AveExpr, B, logFC, P.Value, t\n",
      "\n",
      "\n",
      "The following objects are masked from res (pos = 9):\n",
      "\n",
      "    adj.P.Val, AveExpr, B, logFC, P.Value, t\n",
      "\n",
      "\n"
     ]
    },
    {
     "data": {
      "text/html": [
       "<table class=\"dataframe\">\n",
       "<caption>A data.frame: 6 × 6</caption>\n",
       "<thead>\n",
       "\t<tr><th></th><th scope=col>logFC</th><th scope=col>AveExpr</th><th scope=col>t</th><th scope=col>P.Value</th><th scope=col>adj.P.Val</th><th scope=col>B</th></tr>\n",
       "\t<tr><th></th><th scope=col>&lt;dbl&gt;</th><th scope=col>&lt;dbl&gt;</th><th scope=col>&lt;dbl&gt;</th><th scope=col>&lt;dbl&gt;</th><th scope=col>&lt;dbl&gt;</th><th scope=col>&lt;dbl&gt;</th></tr>\n",
       "</thead>\n",
       "<tbody>\n",
       "\t<tr><th scope=row>GYS2</th><td>11.00621</td><td>3.903366</td><td>8.157011</td><td>4.411171e-07</td><td>0.0002601629</td><td>4.271268</td></tr>\n",
       "\t<tr><th scope=row>LOC101928304</th><td>11.00621</td><td>3.379398</td><td>8.157011</td><td>4.411171e-07</td><td>0.0002601629</td><td>4.271268</td></tr>\n",
       "\t<tr><th scope=row>TNIP3</th><td>11.00621</td><td>3.379398</td><td>8.157011</td><td>4.411171e-07</td><td>0.0002601629</td><td>4.271268</td></tr>\n",
       "\t<tr><th scope=row>LINC01232</th><td>10.99228</td><td>3.378236</td><td>8.146684</td><td>4.484579e-07</td><td>0.0002601629</td><td>4.262196</td></tr>\n",
       "\t<tr><th scope=row>GCKR</th><td>10.98251</td><td>3.377423</td><td>8.139448</td><td>4.536775e-07</td><td>0.0002601629</td><td>4.255830</td></tr>\n",
       "\t<tr><th scope=row>NTNG2</th><td>10.98251</td><td>3.872260</td><td>8.139448</td><td>4.536775e-07</td><td>0.0002601629</td><td>4.255830</td></tr>\n",
       "</tbody>\n",
       "</table>\n"
      ],
      "text/latex": [
       "A data.frame: 6 × 6\n",
       "\\begin{tabular}{r|llllll}\n",
       "  & logFC & AveExpr & t & P.Value & adj.P.Val & B\\\\\n",
       "  & <dbl> & <dbl> & <dbl> & <dbl> & <dbl> & <dbl>\\\\\n",
       "\\hline\n",
       "\tGYS2 & 11.00621 & 3.903366 & 8.157011 & 4.411171e-07 & 0.0002601629 & 4.271268\\\\\n",
       "\tLOC101928304 & 11.00621 & 3.379398 & 8.157011 & 4.411171e-07 & 0.0002601629 & 4.271268\\\\\n",
       "\tTNIP3 & 11.00621 & 3.379398 & 8.157011 & 4.411171e-07 & 0.0002601629 & 4.271268\\\\\n",
       "\tLINC01232 & 10.99228 & 3.378236 & 8.146684 & 4.484579e-07 & 0.0002601629 & 4.262196\\\\\n",
       "\tGCKR & 10.98251 & 3.377423 & 8.139448 & 4.536775e-07 & 0.0002601629 & 4.255830\\\\\n",
       "\tNTNG2 & 10.98251 & 3.872260 & 8.139448 & 4.536775e-07 & 0.0002601629 & 4.255830\\\\\n",
       "\\end{tabular}\n"
      ],
      "text/markdown": [
       "\n",
       "A data.frame: 6 × 6\n",
       "\n",
       "| <!--/--> | logFC &lt;dbl&gt; | AveExpr &lt;dbl&gt; | t &lt;dbl&gt; | P.Value &lt;dbl&gt; | adj.P.Val &lt;dbl&gt; | B &lt;dbl&gt; |\n",
       "|---|---|---|---|---|---|---|\n",
       "| GYS2 | 11.00621 | 3.903366 | 8.157011 | 4.411171e-07 | 0.0002601629 | 4.271268 |\n",
       "| LOC101928304 | 11.00621 | 3.379398 | 8.157011 | 4.411171e-07 | 0.0002601629 | 4.271268 |\n",
       "| TNIP3 | 11.00621 | 3.379398 | 8.157011 | 4.411171e-07 | 0.0002601629 | 4.271268 |\n",
       "| LINC01232 | 10.99228 | 3.378236 | 8.146684 | 4.484579e-07 | 0.0002601629 | 4.262196 |\n",
       "| GCKR | 10.98251 | 3.377423 | 8.139448 | 4.536775e-07 | 0.0002601629 | 4.255830 |\n",
       "| NTNG2 | 10.98251 | 3.872260 | 8.139448 | 4.536775e-07 | 0.0002601629 | 4.255830 |\n",
       "\n"
      ],
      "text/plain": [
       "             logFC    AveExpr  t        P.Value      adj.P.Val    B       \n",
       "GYS2         11.00621 3.903366 8.157011 4.411171e-07 0.0002601629 4.271268\n",
       "LOC101928304 11.00621 3.379398 8.157011 4.411171e-07 0.0002601629 4.271268\n",
       "TNIP3        11.00621 3.379398 8.157011 4.411171e-07 0.0002601629 4.271268\n",
       "LINC01232    10.99228 3.378236 8.146684 4.484579e-07 0.0002601629 4.262196\n",
       "GCKR         10.98251 3.377423 8.139448 4.536775e-07 0.0002601629 4.255830\n",
       "NTNG2        10.98251 3.872260 8.139448 4.536775e-07 0.0002601629 4.255830"
      ]
     },
     "metadata": {},
     "output_type": "display_data"
    }
   ],
   "source": [
    "attach(res)\n",
    "head(res)"
   ]
  },
  {
   "cell_type": "code",
   "execution_count": 104,
   "metadata": {
    "vscode": {
     "languageId": "r"
    }
   },
   "outputs": [
    {
     "data": {
      "text/html": [
       "<style>\n",
       ".list-inline {list-style: none; margin:0; padding: 0}\n",
       ".list-inline>li {display: inline-block}\n",
       ".list-inline>li:not(:last-child)::after {content: \"\\00b7\"; padding: 0 .5ex}\n",
       "</style>\n",
       "<ol class=list-inline><li>1959</li><li>6</li></ol>\n"
      ],
      "text/latex": [
       "\\begin{enumerate*}\n",
       "\\item 1959\n",
       "\\item 6\n",
       "\\end{enumerate*}\n"
      ],
      "text/markdown": [
       "1. 1959\n",
       "2. 6\n",
       "\n",
       "\n"
      ],
      "text/plain": [
       "[1] 1959    6"
      ]
     },
     "metadata": {},
     "output_type": "display_data"
    }
   ],
   "source": [
    "de_genes_res <- res[which(abs(logFC)>1 & adj.P.Val < 0.05),]\n",
    "dim(de_genes_res)"
   ]
  },
  {
   "cell_type": "code",
   "execution_count": 105,
   "metadata": {
    "vscode": {
     "languageId": "r"
    }
   },
   "outputs": [
    {
     "data": {
      "text/html": [
       "<style>\n",
       ".list-inline {list-style: none; margin:0; padding: 0}\n",
       ".list-inline>li {display: inline-block}\n",
       ".list-inline>li:not(:last-child)::after {content: \"\\00b7\"; padding: 0 .5ex}\n",
       "</style>\n",
       "<ol class=list-inline><li>1959</li><li>12</li></ol>\n"
      ],
      "text/latex": [
       "\\begin{enumerate*}\n",
       "\\item 1959\n",
       "\\item 12\n",
       "\\end{enumerate*}\n"
      ],
      "text/markdown": [
       "1. 1959\n",
       "2. 12\n",
       "\n",
       "\n"
      ],
      "text/plain": [
       "[1] 1959   12"
      ]
     },
     "metadata": {},
     "output_type": "display_data"
    }
   ],
   "source": [
    "de_data <- avg_expr_all_phases[rownames(de_genes_res),]\n",
    "dim(de_data)"
   ]
  },
  {
   "cell_type": "code",
   "execution_count": null,
   "metadata": {
    "vscode": {
     "languageId": "r"
    }
   },
   "outputs": [],
   "source": [
    "all_gene_expr_with_p_values <- avg_expr_all_phases\n",
    "all_gene_expr_with_p_values$p_value <- res$P.Value\n",
    "all_gene_expr_with_p_values$adjust_p <- res$adj.P.Val\n",
    "dim(all_gene_expr_with_p_values)"
   ]
  },
  {
   "cell_type": "code",
   "execution_count": 37,
   "metadata": {
    "vscode": {
     "languageId": "r"
    }
   },
   "outputs": [
    {
     "data": {
      "text/html": [
       "<table class=\"dataframe\">\n",
       "<caption>A data.frame: 6 × 14</caption>\n",
       "<thead>\n",
       "\t<tr><th></th><th scope=col>avg_gene_expr_08</th><th scope=col>avg_gene_expr_12</th><th scope=col>avg_gene_expr_16_3</th><th scope=col>avg_gene_expr_16_4</th><th scope=col>avg_gene_expr_16_9</th><th scope=col>avg_gene_expr_19_1</th><th scope=col>avg_gene_expr_19_2</th><th scope=col>avg_gene_expr_19_3</th><th scope=col>avg_gene_expr_23_1</th><th scope=col>avg_gene_expr_23_2</th><th scope=col>avg_gene_expr_23_3</th><th scope=col>avg_gene_expr_26_1</th><th scope=col>p_value</th><th scope=col>adjust_p</th></tr>\n",
       "\t<tr><th></th><th scope=col>&lt;dbl&gt;</th><th scope=col>&lt;dbl&gt;</th><th scope=col>&lt;dbl&gt;</th><th scope=col>&lt;dbl&gt;</th><th scope=col>&lt;dbl&gt;</th><th scope=col>&lt;dbl&gt;</th><th scope=col>&lt;dbl&gt;</th><th scope=col>&lt;dbl&gt;</th><th scope=col>&lt;dbl&gt;</th><th scope=col>&lt;dbl&gt;</th><th scope=col>&lt;dbl&gt;</th><th scope=col>&lt;dbl&gt;</th><th scope=col>&lt;dbl&gt;</th><th scope=col>&lt;dbl&gt;</th></tr>\n",
       "</thead>\n",
       "<tbody>\n",
       "\t<tr><th scope=row>A1BG</th><td>0</td><td>0.000000</td><td>0.00</td><td>686.325</td><td> 2.9900</td><td>286.69</td><td>0.00</td><td>160.93</td><td> 0.00</td><td>695.73</td><td>36.965</td><td> 77.3020</td><td>6.295562e-19</td><td>7.632177e-15</td></tr>\n",
       "\t<tr><th scope=row>A1CF</th><td>0</td><td>0.000000</td><td>0.00</td><td>  0.000</td><td> 0.0000</td><td>  0.00</td><td>0.00</td><td>  0.00</td><td> 0.00</td><td>  5.58</td><td> 0.000</td><td>  0.0000</td><td>9.760461e-19</td><td>7.632177e-15</td></tr>\n",
       "\t<tr><th scope=row>A2M</th><td>0</td><td>8.996667</td><td>7.97</td><td> 49.400</td><td>30.6075</td><td>147.43</td><td>5.72</td><td>  0.00</td><td> 9.73</td><td>  0.00</td><td> 0.000</td><td>233.0325</td><td>1.361106e-18</td><td>7.632177e-15</td></tr>\n",
       "\t<tr><th scope=row>A2M-AS1</th><td>0</td><td>0.000000</td><td>0.00</td><td>  0.000</td><td>65.4100</td><td>  0.00</td><td>0.00</td><td>  0.00</td><td> 0.00</td><td>  0.00</td><td> 0.000</td><td>  4.8200</td><td>9.325986e-17</td><td>3.922043e-13</td></tr>\n",
       "\t<tr><th scope=row>A2ML1</th><td>0</td><td>0.000000</td><td>0.00</td><td>  0.000</td><td> 0.0000</td><td>  0.00</td><td>0.00</td><td>  0.00</td><td> 0.00</td><td>  0.00</td><td>14.200</td><td> 38.1200</td><td>1.507746e-16</td><td>4.261118e-13</td></tr>\n",
       "\t<tr><th scope=row>A2MP1</th><td>0</td><td>0.000000</td><td>0.00</td><td>  0.000</td><td> 0.0000</td><td>  0.00</td><td>0.00</td><td>  0.00</td><td>84.59</td><td>  0.00</td><td> 0.000</td><td>  0.0000</td><td>1.519837e-16</td><td>4.261118e-13</td></tr>\n",
       "</tbody>\n",
       "</table>\n"
      ],
      "text/latex": [
       "A data.frame: 6 × 14\n",
       "\\begin{tabular}{r|llllllllllllll}\n",
       "  & avg\\_gene\\_expr\\_08 & avg\\_gene\\_expr\\_12 & avg\\_gene\\_expr\\_16\\_3 & avg\\_gene\\_expr\\_16\\_4 & avg\\_gene\\_expr\\_16\\_9 & avg\\_gene\\_expr\\_19\\_1 & avg\\_gene\\_expr\\_19\\_2 & avg\\_gene\\_expr\\_19\\_3 & avg\\_gene\\_expr\\_23\\_1 & avg\\_gene\\_expr\\_23\\_2 & avg\\_gene\\_expr\\_23\\_3 & avg\\_gene\\_expr\\_26\\_1 & p\\_value & adjust\\_p\\\\\n",
       "  & <dbl> & <dbl> & <dbl> & <dbl> & <dbl> & <dbl> & <dbl> & <dbl> & <dbl> & <dbl> & <dbl> & <dbl> & <dbl> & <dbl>\\\\\n",
       "\\hline\n",
       "\tA1BG & 0 & 0.000000 & 0.00 & 686.325 &  2.9900 & 286.69 & 0.00 & 160.93 &  0.00 & 695.73 & 36.965 &  77.3020 & 6.295562e-19 & 7.632177e-15\\\\\n",
       "\tA1CF & 0 & 0.000000 & 0.00 &   0.000 &  0.0000 &   0.00 & 0.00 &   0.00 &  0.00 &   5.58 &  0.000 &   0.0000 & 9.760461e-19 & 7.632177e-15\\\\\n",
       "\tA2M & 0 & 8.996667 & 7.97 &  49.400 & 30.6075 & 147.43 & 5.72 &   0.00 &  9.73 &   0.00 &  0.000 & 233.0325 & 1.361106e-18 & 7.632177e-15\\\\\n",
       "\tA2M-AS1 & 0 & 0.000000 & 0.00 &   0.000 & 65.4100 &   0.00 & 0.00 &   0.00 &  0.00 &   0.00 &  0.000 &   4.8200 & 9.325986e-17 & 3.922043e-13\\\\\n",
       "\tA2ML1 & 0 & 0.000000 & 0.00 &   0.000 &  0.0000 &   0.00 & 0.00 &   0.00 &  0.00 &   0.00 & 14.200 &  38.1200 & 1.507746e-16 & 4.261118e-13\\\\\n",
       "\tA2MP1 & 0 & 0.000000 & 0.00 &   0.000 &  0.0000 &   0.00 & 0.00 &   0.00 & 84.59 &   0.00 &  0.000 &   0.0000 & 1.519837e-16 & 4.261118e-13\\\\\n",
       "\\end{tabular}\n"
      ],
      "text/markdown": [
       "\n",
       "A data.frame: 6 × 14\n",
       "\n",
       "| <!--/--> | avg_gene_expr_08 &lt;dbl&gt; | avg_gene_expr_12 &lt;dbl&gt; | avg_gene_expr_16_3 &lt;dbl&gt; | avg_gene_expr_16_4 &lt;dbl&gt; | avg_gene_expr_16_9 &lt;dbl&gt; | avg_gene_expr_19_1 &lt;dbl&gt; | avg_gene_expr_19_2 &lt;dbl&gt; | avg_gene_expr_19_3 &lt;dbl&gt; | avg_gene_expr_23_1 &lt;dbl&gt; | avg_gene_expr_23_2 &lt;dbl&gt; | avg_gene_expr_23_3 &lt;dbl&gt; | avg_gene_expr_26_1 &lt;dbl&gt; | p_value &lt;dbl&gt; | adjust_p &lt;dbl&gt; |\n",
       "|---|---|---|---|---|---|---|---|---|---|---|---|---|---|---|\n",
       "| A1BG | 0 | 0.000000 | 0.00 | 686.325 |  2.9900 | 286.69 | 0.00 | 160.93 |  0.00 | 695.73 | 36.965 |  77.3020 | 6.295562e-19 | 7.632177e-15 |\n",
       "| A1CF | 0 | 0.000000 | 0.00 |   0.000 |  0.0000 |   0.00 | 0.00 |   0.00 |  0.00 |   5.58 |  0.000 |   0.0000 | 9.760461e-19 | 7.632177e-15 |\n",
       "| A2M | 0 | 8.996667 | 7.97 |  49.400 | 30.6075 | 147.43 | 5.72 |   0.00 |  9.73 |   0.00 |  0.000 | 233.0325 | 1.361106e-18 | 7.632177e-15 |\n",
       "| A2M-AS1 | 0 | 0.000000 | 0.00 |   0.000 | 65.4100 |   0.00 | 0.00 |   0.00 |  0.00 |   0.00 |  0.000 |   4.8200 | 9.325986e-17 | 3.922043e-13 |\n",
       "| A2ML1 | 0 | 0.000000 | 0.00 |   0.000 |  0.0000 |   0.00 | 0.00 |   0.00 |  0.00 |   0.00 | 14.200 |  38.1200 | 1.507746e-16 | 4.261118e-13 |\n",
       "| A2MP1 | 0 | 0.000000 | 0.00 |   0.000 |  0.0000 |   0.00 | 0.00 |   0.00 | 84.59 |   0.00 |  0.000 |   0.0000 | 1.519837e-16 | 4.261118e-13 |\n",
       "\n"
      ],
      "text/plain": [
       "        avg_gene_expr_08 avg_gene_expr_12 avg_gene_expr_16_3 avg_gene_expr_16_4\n",
       "A1BG    0                0.000000         0.00               686.325           \n",
       "A1CF    0                0.000000         0.00                 0.000           \n",
       "A2M     0                8.996667         7.97                49.400           \n",
       "A2M-AS1 0                0.000000         0.00                 0.000           \n",
       "A2ML1   0                0.000000         0.00                 0.000           \n",
       "A2MP1   0                0.000000         0.00                 0.000           \n",
       "        avg_gene_expr_16_9 avg_gene_expr_19_1 avg_gene_expr_19_2\n",
       "A1BG     2.9900            286.69             0.00              \n",
       "A1CF     0.0000              0.00             0.00              \n",
       "A2M     30.6075            147.43             5.72              \n",
       "A2M-AS1 65.4100              0.00             0.00              \n",
       "A2ML1    0.0000              0.00             0.00              \n",
       "A2MP1    0.0000              0.00             0.00              \n",
       "        avg_gene_expr_19_3 avg_gene_expr_23_1 avg_gene_expr_23_2\n",
       "A1BG    160.93              0.00              695.73            \n",
       "A1CF      0.00              0.00                5.58            \n",
       "A2M       0.00              9.73                0.00            \n",
       "A2M-AS1   0.00              0.00                0.00            \n",
       "A2ML1     0.00              0.00                0.00            \n",
       "A2MP1     0.00             84.59                0.00            \n",
       "        avg_gene_expr_23_3 avg_gene_expr_26_1 p_value      adjust_p    \n",
       "A1BG    36.965              77.3020           6.295562e-19 7.632177e-15\n",
       "A1CF     0.000               0.0000           9.760461e-19 7.632177e-15\n",
       "A2M      0.000             233.0325           1.361106e-18 7.632177e-15\n",
       "A2M-AS1  0.000               4.8200           9.325986e-17 3.922043e-13\n",
       "A2ML1   14.200              38.1200           1.507746e-16 4.261118e-13\n",
       "A2MP1    0.000               0.0000           1.519837e-16 4.261118e-13"
      ]
     },
     "metadata": {},
     "output_type": "display_data"
    }
   ],
   "source": [
    "head(all_gene_expr_with_p_values)"
   ]
  },
  {
   "cell_type": "code",
   "execution_count": 99,
   "metadata": {
    "vscode": {
     "languageId": "r"
    }
   },
   "outputs": [],
   "source": [
    "write.table(all_gene_expr_with_p_values,\"/disk1/wenqing/tmp_data/PFC_s2/all_analysis_result/de_expr/GABAergic_neurons/all_gene_expr_with_p_values_limma.txt\",quote=F,sep='\\t')"
   ]
  },
  {
   "cell_type": "code",
   "execution_count": null,
   "metadata": {
    "vscode": {
     "languageId": "r"
    }
   },
   "outputs": [],
   "source": [
    "######对差异编辑位点分簇\n",
    "# 加载必要的库\n",
    "library(cluster) # 可能需要安装这个包来进行聚类分析\n",
    "library(dendextend)\n",
    "library(ape)\n",
    "library(factoextra)"
   ]
  },
  {
   "cell_type": "code",
   "execution_count": 108,
   "metadata": {
    "vscode": {
     "languageId": "r"
    }
   },
   "outputs": [
    {
     "data": {
      "text/html": [
       "<style>\n",
       ".list-inline {list-style: none; margin:0; padding: 0}\n",
       ".list-inline>li {display: inline-block}\n",
       ".list-inline>li:not(:last-child)::after {content: \"\\00b7\"; padding: 0 .5ex}\n",
       "</style>\n",
       "<ol class=list-inline><li>1959</li><li>12</li></ol>\n"
      ],
      "text/latex": [
       "\\begin{enumerate*}\n",
       "\\item 1959\n",
       "\\item 12\n",
       "\\end{enumerate*}\n"
      ],
      "text/markdown": [
       "1. 1959\n",
       "2. 12\n",
       "\n",
       "\n"
      ],
      "text/plain": [
       "[1] 1959   12"
      ]
     },
     "metadata": {},
     "output_type": "display_data"
    }
   ],
   "source": [
    "dim(de_data)"
   ]
  },
  {
   "cell_type": "code",
   "execution_count": 107,
   "metadata": {
    "vscode": {
     "languageId": "r"
    }
   },
   "outputs": [
    {
     "data": {
      "text/html": [
       "23508"
      ],
      "text/latex": [
       "23508"
      ],
      "text/markdown": [
       "23508"
      ],
      "text/plain": [
       "[1] 23508"
      ]
     },
     "metadata": {},
     "output_type": "display_data"
    },
    {
     "data": {
      "text/html": [
       "<table class=\"dataframe\">\n",
       "<caption>A data.frame: 6 × 12</caption>\n",
       "<thead>\n",
       "\t<tr><th></th><th scope=col>avg_gene_expr_08</th><th scope=col>avg_gene_expr_12</th><th scope=col>avg_gene_expr_16_3</th><th scope=col>avg_gene_expr_16_4</th><th scope=col>avg_gene_expr_16_9</th><th scope=col>avg_gene_expr_19_1</th><th scope=col>avg_gene_expr_19_2</th><th scope=col>avg_gene_expr_19_3</th><th scope=col>avg_gene_expr_23_1</th><th scope=col>avg_gene_expr_23_2</th><th scope=col>avg_gene_expr_23_3</th><th scope=col>avg_gene_expr_26_1</th></tr>\n",
       "\t<tr><th></th><th scope=col>&lt;dbl&gt;</th><th scope=col>&lt;dbl&gt;</th><th scope=col>&lt;dbl&gt;</th><th scope=col>&lt;dbl&gt;</th><th scope=col>&lt;dbl&gt;</th><th scope=col>&lt;dbl&gt;</th><th scope=col>&lt;dbl&gt;</th><th scope=col>&lt;dbl&gt;</th><th scope=col>&lt;dbl&gt;</th><th scope=col>&lt;dbl&gt;</th><th scope=col>&lt;dbl&gt;</th><th scope=col>&lt;dbl&gt;</th></tr>\n",
       "</thead>\n",
       "<tbody>\n",
       "\t<tr><th scope=row>GYS2</th><td>  0.00</td><td>122.26</td><td>0</td><td>0</td><td>  0.00</td><td>0</td><td>0</td><td>0</td><td>0</td><td>0</td><td>0</td><td>38.560</td></tr>\n",
       "\t<tr><th scope=row>LOC101928304</th><td>  0.00</td><td>122.26</td><td>0</td><td>0</td><td>  0.00</td><td>0</td><td>0</td><td>0</td><td>0</td><td>0</td><td>0</td><td> 0.000</td></tr>\n",
       "\t<tr><th scope=row>TNIP3</th><td>  0.00</td><td>122.26</td><td>0</td><td>0</td><td>  0.00</td><td>0</td><td>0</td><td>0</td><td>0</td><td>0</td><td>0</td><td> 0.000</td></tr>\n",
       "\t<tr><th scope=row>LINC01232</th><td>  0.00</td><td>121.08</td><td>0</td><td>0</td><td>  0.00</td><td>0</td><td>0</td><td>0</td><td>0</td><td>0</td><td>0</td><td> 0.000</td></tr>\n",
       "\t<tr><th scope=row>GCKR</th><td>  0.00</td><td>120.26</td><td>0</td><td>0</td><td>  0.00</td><td>0</td><td>0</td><td>0</td><td>0</td><td>0</td><td>0</td><td> 0.000</td></tr>\n",
       "\t<tr><th scope=row>NTNG2</th><td>162.38</td><td>120.26</td><td>0</td><td>0</td><td>191.86</td><td>0</td><td>0</td><td>0</td><td>0</td><td>0</td><td>0</td><td>30.155</td></tr>\n",
       "</tbody>\n",
       "</table>\n"
      ],
      "text/latex": [
       "A data.frame: 6 × 12\n",
       "\\begin{tabular}{r|llllllllllll}\n",
       "  & avg\\_gene\\_expr\\_08 & avg\\_gene\\_expr\\_12 & avg\\_gene\\_expr\\_16\\_3 & avg\\_gene\\_expr\\_16\\_4 & avg\\_gene\\_expr\\_16\\_9 & avg\\_gene\\_expr\\_19\\_1 & avg\\_gene\\_expr\\_19\\_2 & avg\\_gene\\_expr\\_19\\_3 & avg\\_gene\\_expr\\_23\\_1 & avg\\_gene\\_expr\\_23\\_2 & avg\\_gene\\_expr\\_23\\_3 & avg\\_gene\\_expr\\_26\\_1\\\\\n",
       "  & <dbl> & <dbl> & <dbl> & <dbl> & <dbl> & <dbl> & <dbl> & <dbl> & <dbl> & <dbl> & <dbl> & <dbl>\\\\\n",
       "\\hline\n",
       "\tGYS2 &   0.00 & 122.26 & 0 & 0 &   0.00 & 0 & 0 & 0 & 0 & 0 & 0 & 38.560\\\\\n",
       "\tLOC101928304 &   0.00 & 122.26 & 0 & 0 &   0.00 & 0 & 0 & 0 & 0 & 0 & 0 &  0.000\\\\\n",
       "\tTNIP3 &   0.00 & 122.26 & 0 & 0 &   0.00 & 0 & 0 & 0 & 0 & 0 & 0 &  0.000\\\\\n",
       "\tLINC01232 &   0.00 & 121.08 & 0 & 0 &   0.00 & 0 & 0 & 0 & 0 & 0 & 0 &  0.000\\\\\n",
       "\tGCKR &   0.00 & 120.26 & 0 & 0 &   0.00 & 0 & 0 & 0 & 0 & 0 & 0 &  0.000\\\\\n",
       "\tNTNG2 & 162.38 & 120.26 & 0 & 0 & 191.86 & 0 & 0 & 0 & 0 & 0 & 0 & 30.155\\\\\n",
       "\\end{tabular}\n"
      ],
      "text/markdown": [
       "\n",
       "A data.frame: 6 × 12\n",
       "\n",
       "| <!--/--> | avg_gene_expr_08 &lt;dbl&gt; | avg_gene_expr_12 &lt;dbl&gt; | avg_gene_expr_16_3 &lt;dbl&gt; | avg_gene_expr_16_4 &lt;dbl&gt; | avg_gene_expr_16_9 &lt;dbl&gt; | avg_gene_expr_19_1 &lt;dbl&gt; | avg_gene_expr_19_2 &lt;dbl&gt; | avg_gene_expr_19_3 &lt;dbl&gt; | avg_gene_expr_23_1 &lt;dbl&gt; | avg_gene_expr_23_2 &lt;dbl&gt; | avg_gene_expr_23_3 &lt;dbl&gt; | avg_gene_expr_26_1 &lt;dbl&gt; |\n",
       "|---|---|---|---|---|---|---|---|---|---|---|---|---|\n",
       "| GYS2 |   0.00 | 122.26 | 0 | 0 |   0.00 | 0 | 0 | 0 | 0 | 0 | 0 | 38.560 |\n",
       "| LOC101928304 |   0.00 | 122.26 | 0 | 0 |   0.00 | 0 | 0 | 0 | 0 | 0 | 0 |  0.000 |\n",
       "| TNIP3 |   0.00 | 122.26 | 0 | 0 |   0.00 | 0 | 0 | 0 | 0 | 0 | 0 |  0.000 |\n",
       "| LINC01232 |   0.00 | 121.08 | 0 | 0 |   0.00 | 0 | 0 | 0 | 0 | 0 | 0 |  0.000 |\n",
       "| GCKR |   0.00 | 120.26 | 0 | 0 |   0.00 | 0 | 0 | 0 | 0 | 0 | 0 |  0.000 |\n",
       "| NTNG2 | 162.38 | 120.26 | 0 | 0 | 191.86 | 0 | 0 | 0 | 0 | 0 | 0 | 30.155 |\n",
       "\n"
      ],
      "text/plain": [
       "             avg_gene_expr_08 avg_gene_expr_12 avg_gene_expr_16_3\n",
       "GYS2           0.00           122.26           0                 \n",
       "LOC101928304   0.00           122.26           0                 \n",
       "TNIP3          0.00           122.26           0                 \n",
       "LINC01232      0.00           121.08           0                 \n",
       "GCKR           0.00           120.26           0                 \n",
       "NTNG2        162.38           120.26           0                 \n",
       "             avg_gene_expr_16_4 avg_gene_expr_16_9 avg_gene_expr_19_1\n",
       "GYS2         0                    0.00             0                 \n",
       "LOC101928304 0                    0.00             0                 \n",
       "TNIP3        0                    0.00             0                 \n",
       "LINC01232    0                    0.00             0                 \n",
       "GCKR         0                    0.00             0                 \n",
       "NTNG2        0                  191.86             0                 \n",
       "             avg_gene_expr_19_2 avg_gene_expr_19_3 avg_gene_expr_23_1\n",
       "GYS2         0                  0                  0                 \n",
       "LOC101928304 0                  0                  0                 \n",
       "TNIP3        0                  0                  0                 \n",
       "LINC01232    0                  0                  0                 \n",
       "GCKR         0                  0                  0                 \n",
       "NTNG2        0                  0                  0                 \n",
       "             avg_gene_expr_23_2 avg_gene_expr_23_3 avg_gene_expr_26_1\n",
       "GYS2         0                  0                  38.560            \n",
       "LOC101928304 0                  0                   0.000            \n",
       "TNIP3        0                  0                   0.000            \n",
       "LINC01232    0                  0                   0.000            \n",
       "GCKR         0                  0                   0.000            \n",
       "NTNG2        0                  0                  30.155            "
      ]
     },
     "metadata": {},
     "output_type": "display_data"
    }
   ],
   "source": [
    "vector_data <- as.vector(t(de_data))\n",
    "length(vector_data)\n",
    "head(de_data)"
   ]
  },
  {
   "cell_type": "code",
   "execution_count": 109,
   "metadata": {
    "vscode": {
     "languageId": "r"
    }
   },
   "outputs": [
    {
     "data": {
      "text/html": [
       "<table class=\"dataframe\">\n",
       "<caption>A data.frame: 6 × 3</caption>\n",
       "<thead>\n",
       "\t<tr><th></th><th scope=col>Row</th><th scope=col>Col</th><th scope=col>Value</th></tr>\n",
       "\t<tr><th></th><th scope=col>&lt;chr&gt;</th><th scope=col>&lt;chr&gt;</th><th scope=col>&lt;dbl&gt;</th></tr>\n",
       "</thead>\n",
       "<tbody>\n",
       "\t<tr><th scope=row>1</th><td>GYS2        </td><td>avg_gene_expr_08</td><td>  0.00</td></tr>\n",
       "\t<tr><th scope=row>2</th><td>LOC101928304</td><td>avg_gene_expr_08</td><td>122.26</td></tr>\n",
       "\t<tr><th scope=row>3</th><td>TNIP3       </td><td>avg_gene_expr_08</td><td>  0.00</td></tr>\n",
       "\t<tr><th scope=row>4</th><td>LINC01232   </td><td>avg_gene_expr_08</td><td>  0.00</td></tr>\n",
       "\t<tr><th scope=row>5</th><td>GCKR        </td><td>avg_gene_expr_08</td><td>  0.00</td></tr>\n",
       "\t<tr><th scope=row>6</th><td>NTNG2       </td><td>avg_gene_expr_08</td><td>  0.00</td></tr>\n",
       "</tbody>\n",
       "</table>\n"
      ],
      "text/latex": [
       "A data.frame: 6 × 3\n",
       "\\begin{tabular}{r|lll}\n",
       "  & Row & Col & Value\\\\\n",
       "  & <chr> & <chr> & <dbl>\\\\\n",
       "\\hline\n",
       "\t1 & GYS2         & avg\\_gene\\_expr\\_08 &   0.00\\\\\n",
       "\t2 & LOC101928304 & avg\\_gene\\_expr\\_08 & 122.26\\\\\n",
       "\t3 & TNIP3        & avg\\_gene\\_expr\\_08 &   0.00\\\\\n",
       "\t4 & LINC01232    & avg\\_gene\\_expr\\_08 &   0.00\\\\\n",
       "\t5 & GCKR         & avg\\_gene\\_expr\\_08 &   0.00\\\\\n",
       "\t6 & NTNG2        & avg\\_gene\\_expr\\_08 &   0.00\\\\\n",
       "\\end{tabular}\n"
      ],
      "text/markdown": [
       "\n",
       "A data.frame: 6 × 3\n",
       "\n",
       "| <!--/--> | Row &lt;chr&gt; | Col &lt;chr&gt; | Value &lt;dbl&gt; |\n",
       "|---|---|---|---|\n",
       "| 1 | GYS2         | avg_gene_expr_08 |   0.00 |\n",
       "| 2 | LOC101928304 | avg_gene_expr_08 | 122.26 |\n",
       "| 3 | TNIP3        | avg_gene_expr_08 |   0.00 |\n",
       "| 4 | LINC01232    | avg_gene_expr_08 |   0.00 |\n",
       "| 5 | GCKR         | avg_gene_expr_08 |   0.00 |\n",
       "| 6 | NTNG2        | avg_gene_expr_08 |   0.00 |\n",
       "\n"
      ],
      "text/plain": [
       "  Row          Col              Value \n",
       "1 GYS2         avg_gene_expr_08   0.00\n",
       "2 LOC101928304 avg_gene_expr_08 122.26\n",
       "3 TNIP3        avg_gene_expr_08   0.00\n",
       "4 LINC01232    avg_gene_expr_08   0.00\n",
       "5 GCKR         avg_gene_expr_08   0.00\n",
       "6 NTNG2        avg_gene_expr_08   0.00"
      ]
     },
     "metadata": {},
     "output_type": "display_data"
    }
   ],
   "source": [
    "df_expanded <- data.frame(\n",
    "  Row = rep(rownames(de_data), times = ncol(de_data)),\n",
    "  Col = rep(colnames(de_data), each = nrow(de_data)),\n",
    "  Value = vector_data\n",
    ")\n",
    "\n",
    "# 查看转换后的数据框\n",
    "head(df_expanded)"
   ]
  },
  {
   "cell_type": "code",
   "execution_count": 110,
   "metadata": {
    "vscode": {
     "languageId": "r"
    }
   },
   "outputs": [],
   "source": [
    "dist_obj <- dist(df_expanded$Value,method = \"euclidean\")\n",
    "hclust_obj <- hclust(dist_obj,method='ward.D2')\n"
   ]
  },
  {
   "cell_type": "code",
   "execution_count": 76,
   "metadata": {
    "vscode": {
     "languageId": "r"
    }
   },
   "outputs": [],
   "source": [
    "\n",
    "dend <- df_expanded$Value %>%\n",
    "  dist(method = \"euclidean\") %>%\n",
    "  hclust() %>%\n",
    "  as.phylo()\n"
   ]
  },
  {
   "cell_type": "code",
   "execution_count": 77,
   "metadata": {
    "vscode": {
     "languageId": "r"
    }
   },
   "outputs": [
    {
     "data": {
      "text/plain": [
       "\n",
       "Call:\n",
       "hclust(d = dist_obj, method = \"ward.D2\")\n",
       "\n",
       "Cluster method   : ward.D2 \n",
       "Distance         : euclidean \n",
       "Number of objects: 26520 \n"
      ]
     },
     "metadata": {},
     "output_type": "display_data"
    }
   ],
   "source": [
    "# 步骤3: 确定最佳聚类数\n",
    "# 绘制树状图\n",
    "#dend <- as.phylo.dendrogram(hclust_obj)\n",
    "plot(dend)\n",
    "#hclust_obj"
   ]
  },
  {
   "cell_type": "code",
   "execution_count": 78,
   "metadata": {
    "vscode": {
     "languageId": "r"
    }
   },
   "outputs": [
    {
     "data": {
      "image/png": "[encoded data removed]",
      "text/plain": [
       "plot without title"
      ]
     },
     "metadata": {
      "image/png": {
       "height": 420,
       "width": 420
      }
     },
     "output_type": "display_data"
    }
   ],
   "source": [
    "# 使用肘部法则确定最佳聚类数\n",
    "# 计算并绘制不同聚类数目的总内平方和\n",
    "# 注意：这个方法不一定总是能找到最优解，更多是作为一个启发式方法\n",
    "fviz_nbclust(as.matrix(df_expanded$Value), FUN = hcut,hclust_method = \"ward.D2\", method = \"wss\") +\n",
    "  ggtitle(\"Elbow Method to Determine Optimal Number of Clusters\")\n",
    "\n"
   ]
  },
  {
   "cell_type": "code",
   "execution_count": 111,
   "metadata": {
    "vscode": {
     "languageId": "r"
    }
   },
   "outputs": [],
   "source": [
    "# 根据以上方法选择一个合适的聚类数目k\n",
    "# 然后切割树状图得到k个簇\n",
    "k <- 3 # 假设通过上述方法确定的最佳聚类数为3\n",
    "clusters <- cutree(hclust_obj, k = k)\n"
   ]
  },
  {
   "cell_type": "code",
   "execution_count": 112,
   "metadata": {
    "vscode": {
     "languageId": "r"
    }
   },
   "outputs": [
    {
     "data": {
      "text/plain": [
       "clusters\n",
       "    1     2     3 \n",
       "16609  6389   510 "
      ]
     },
     "metadata": {},
     "output_type": "display_data"
    },
    {
     "data": {
      "text/html": [
       "<style>\n",
       ".list-inline {list-style: none; margin:0; padding: 0}\n",
       ".list-inline>li {display: inline-block}\n",
       ".list-inline>li:not(:last-child)::after {content: \"\\00b7\"; padding: 0 .5ex}\n",
       "</style>\n",
       "<ol class=list-inline><li>23508</li><li>3</li></ol>\n"
      ],
      "text/latex": [
       "\\begin{enumerate*}\n",
       "\\item 23508\n",
       "\\item 3\n",
       "\\end{enumerate*}\n"
      ],
      "text/markdown": [
       "1. 23508\n",
       "2. 3\n",
       "\n",
       "\n"
      ],
      "text/plain": [
       "[1] 23508     3"
      ]
     },
     "metadata": {},
     "output_type": "display_data"
    }
   ],
   "source": [
    "table(clusters)\n",
    "dim(df_expanded)"
   ]
  },
  {
   "cell_type": "code",
   "execution_count": 113,
   "metadata": {
    "vscode": {
     "languageId": "r"
    }
   },
   "outputs": [
    {
     "data": {
      "text/html": [
       "<table class=\"dataframe\">\n",
       "<caption>A data.frame: 6 × 4</caption>\n",
       "<thead>\n",
       "\t<tr><th></th><th scope=col>Row</th><th scope=col>Col</th><th scope=col>Value</th><th scope=col>cluster</th></tr>\n",
       "\t<tr><th></th><th scope=col>&lt;chr&gt;</th><th scope=col>&lt;chr&gt;</th><th scope=col>&lt;dbl&gt;</th><th scope=col>&lt;int&gt;</th></tr>\n",
       "</thead>\n",
       "<tbody>\n",
       "\t<tr><th scope=row>1</th><td>GYS2        </td><td>avg_gene_expr_08</td><td>  0.00</td><td>1</td></tr>\n",
       "\t<tr><th scope=row>2</th><td>LOC101928304</td><td>avg_gene_expr_08</td><td>122.26</td><td>2</td></tr>\n",
       "\t<tr><th scope=row>3</th><td>TNIP3       </td><td>avg_gene_expr_08</td><td>  0.00</td><td>1</td></tr>\n",
       "\t<tr><th scope=row>4</th><td>LINC01232   </td><td>avg_gene_expr_08</td><td>  0.00</td><td>1</td></tr>\n",
       "\t<tr><th scope=row>5</th><td>GCKR        </td><td>avg_gene_expr_08</td><td>  0.00</td><td>1</td></tr>\n",
       "\t<tr><th scope=row>6</th><td>NTNG2       </td><td>avg_gene_expr_08</td><td>  0.00</td><td>1</td></tr>\n",
       "</tbody>\n",
       "</table>\n"
      ],
      "text/latex": [
       "A data.frame: 6 × 4\n",
       "\\begin{tabular}{r|llll}\n",
       "  & Row & Col & Value & cluster\\\\\n",
       "  & <chr> & <chr> & <dbl> & <int>\\\\\n",
       "\\hline\n",
       "\t1 & GYS2         & avg\\_gene\\_expr\\_08 &   0.00 & 1\\\\\n",
       "\t2 & LOC101928304 & avg\\_gene\\_expr\\_08 & 122.26 & 2\\\\\n",
       "\t3 & TNIP3        & avg\\_gene\\_expr\\_08 &   0.00 & 1\\\\\n",
       "\t4 & LINC01232    & avg\\_gene\\_expr\\_08 &   0.00 & 1\\\\\n",
       "\t5 & GCKR         & avg\\_gene\\_expr\\_08 &   0.00 & 1\\\\\n",
       "\t6 & NTNG2        & avg\\_gene\\_expr\\_08 &   0.00 & 1\\\\\n",
       "\\end{tabular}\n"
      ],
      "text/markdown": [
       "\n",
       "A data.frame: 6 × 4\n",
       "\n",
       "| <!--/--> | Row &lt;chr&gt; | Col &lt;chr&gt; | Value &lt;dbl&gt; | cluster &lt;int&gt; |\n",
       "|---|---|---|---|---|\n",
       "| 1 | GYS2         | avg_gene_expr_08 |   0.00 | 1 |\n",
       "| 2 | LOC101928304 | avg_gene_expr_08 | 122.26 | 2 |\n",
       "| 3 | TNIP3        | avg_gene_expr_08 |   0.00 | 1 |\n",
       "| 4 | LINC01232    | avg_gene_expr_08 |   0.00 | 1 |\n",
       "| 5 | GCKR         | avg_gene_expr_08 |   0.00 | 1 |\n",
       "| 6 | NTNG2        | avg_gene_expr_08 |   0.00 | 1 |\n",
       "\n"
      ],
      "text/plain": [
       "  Row          Col              Value  cluster\n",
       "1 GYS2         avg_gene_expr_08   0.00 1      \n",
       "2 LOC101928304 avg_gene_expr_08 122.26 2      \n",
       "3 TNIP3        avg_gene_expr_08   0.00 1      \n",
       "4 LINC01232    avg_gene_expr_08   0.00 1      \n",
       "5 GCKR         avg_gene_expr_08   0.00 1      \n",
       "6 NTNG2        avg_gene_expr_08   0.00 1      "
      ]
     },
     "metadata": {},
     "output_type": "display_data"
    }
   ],
   "source": [
    "# 输出每个编辑位点所属的簇\n",
    "# print(clusters)\n",
    "gene_expr_wz_cluster <- df_expanded\n",
    "gene_expr_wz_cluster$cluster <- clusters\n",
    "head(gene_expr_wz_cluster)\n",
    "write.table(gene_expr_wz_cluster,\"/disk1/wenqing/tmp_data/PFC_s2/all_analysis_result/de_expr/GABAergic_neurons/de_expr_genes_wz_3clusters.txt\",quote=F,sep='\\t',row.names=F)"
   ]
  },
  {
   "cell_type": "code",
   "execution_count": 114,
   "metadata": {
    "vscode": {
     "languageId": "r"
    }
   },
   "outputs": [
    {
     "data": {
      "text/plain": [
       "                    \n",
       "                        1    2    3\n",
       "  avg_gene_expr_08   1200  697   62\n",
       "  avg_gene_expr_12   1175  720   64\n",
       "  avg_gene_expr_16_3 1355  572   32\n",
       "  avg_gene_expr_16_4 1422  493   44\n",
       "  avg_gene_expr_16_9 1361  564   34\n",
       "  avg_gene_expr_19_1 1439  484   36\n",
       "  avg_gene_expr_19_2 1354  559   46\n",
       "  avg_gene_expr_19_3 1446  473   40\n",
       "  avg_gene_expr_23_1 1525  405   29\n",
       "  avg_gene_expr_23_2 1405  502   52\n",
       "  avg_gene_expr_23_3 1418  492   49\n",
       "  avg_gene_expr_26_1 1509  428   22"
      ]
     },
     "metadata": {},
     "output_type": "display_data"
    }
   ],
   "source": [
    "table(gene_expr_wz_cluster$Col,gene_expr_wz_cluster$cluster)"
   ]
  },
  {
   "cell_type": "code",
   "execution_count": 115,
   "metadata": {
    "vscode": {
     "languageId": "r"
    }
   },
   "outputs": [],
   "source": [
    "write.table(table(gene_expr_wz_cluster$Col,gene_expr_wz_cluster$cluster),\"/disk1/wenqing/tmp_data/PFC_s2/all_analysis_result/de_expr/GABAergic_neurons/de_expr_gene_num_in_3clusters.txt\",sep='\\t',quote=F)"
   ]
  },
  {
   "cell_type": "code",
   "execution_count": 116,
   "metadata": {
    "vscode": {
     "languageId": "r"
    }
   },
   "outputs": [
    {
     "name": "stderr",
     "output_type": "stream",
     "text": [
      "\u001b[1m\u001b[22m`summarise()` has grouped output by 'Col'. You can override using the `.groups`\n",
      "argument.\n"
     ]
    },
    {
     "data": {
      "text/html": [
       "<table class=\"dataframe\">\n",
       "<caption>A grouped_df: 36 × 4</caption>\n",
       "<thead>\n",
       "\t<tr><th scope=col>Col</th><th scope=col>cluster</th><th scope=col>avg_expr</th><th scope=col>sd_expr</th></tr>\n",
       "\t<tr><th scope=col>&lt;chr&gt;</th><th scope=col>&lt;fct&gt;</th><th scope=col>&lt;dbl&gt;</th><th scope=col>&lt;dbl&gt;</th></tr>\n",
       "</thead>\n",
       "<tbody>\n",
       "\t<tr><td>avg_gene_expr_08  </td><td>1</td><td>   8.464061</td><td> 17.53911</td></tr>\n",
       "\t<tr><td>avg_gene_expr_08  </td><td>2</td><td> 267.143438</td><td>146.96309</td></tr>\n",
       "\t<tr><td>avg_gene_expr_08  </td><td>3</td><td> 973.308913</td><td>320.60053</td></tr>\n",
       "\t<tr><td>avg_gene_expr_12  </td><td>1</td><td>  12.634845</td><td> 19.34200</td></tr>\n",
       "\t<tr><td>avg_gene_expr_12  </td><td>2</td><td> 265.194327</td><td>141.84157</td></tr>\n",
       "\t<tr><td>avg_gene_expr_12  </td><td>3</td><td> 975.793138</td><td>289.18146</td></tr>\n",
       "\t<tr><td>avg_gene_expr_16_3</td><td>1</td><td>  14.022151</td><td> 18.88728</td></tr>\n",
       "\t<tr><td>avg_gene_expr_16_3</td><td>2</td><td> 255.438323</td><td>130.23950</td></tr>\n",
       "\t<tr><td>avg_gene_expr_16_3</td><td>3</td><td>1067.177943</td><td>441.13771</td></tr>\n",
       "\t<tr><td>avg_gene_expr_16_4</td><td>1</td><td>  13.174975</td><td> 17.99342</td></tr>\n",
       "\t<tr><td>avg_gene_expr_16_4</td><td>2</td><td> 250.687391</td><td>131.02454</td></tr>\n",
       "\t<tr><td>avg_gene_expr_16_4</td><td>3</td><td> 987.129373</td><td>375.31674</td></tr>\n",
       "\t<tr><td>avg_gene_expr_16_9</td><td>1</td><td>  13.352182</td><td> 17.07544</td></tr>\n",
       "\t<tr><td>avg_gene_expr_16_9</td><td>2</td><td> 261.427454</td><td>138.05332</td></tr>\n",
       "\t<tr><td>avg_gene_expr_16_9</td><td>3</td><td> 993.954466</td><td>302.08340</td></tr>\n",
       "\t<tr><td>avg_gene_expr_19_1</td><td>1</td><td>  13.665303</td><td> 17.39296</td></tr>\n",
       "\t<tr><td>avg_gene_expr_19_1</td><td>2</td><td> 256.755991</td><td>140.92705</td></tr>\n",
       "\t<tr><td>avg_gene_expr_19_1</td><td>3</td><td>1025.315463</td><td>410.18644</td></tr>\n",
       "\t<tr><td>avg_gene_expr_19_2</td><td>1</td><td>  13.396455</td><td> 16.92491</td></tr>\n",
       "\t<tr><td>avg_gene_expr_19_2</td><td>2</td><td> 262.123222</td><td>142.00172</td></tr>\n",
       "\t<tr><td>avg_gene_expr_19_2</td><td>3</td><td> 949.171322</td><td>233.10461</td></tr>\n",
       "\t<tr><td>avg_gene_expr_19_3</td><td>1</td><td>  12.757982</td><td> 16.78310</td></tr>\n",
       "\t<tr><td>avg_gene_expr_19_3</td><td>2</td><td> 260.765613</td><td>145.98885</td></tr>\n",
       "\t<tr><td>avg_gene_expr_19_3</td><td>3</td><td>1007.510800</td><td>294.89513</td></tr>\n",
       "\t<tr><td>avg_gene_expr_23_1</td><td>1</td><td>  10.767578</td><td> 15.61766</td></tr>\n",
       "\t<tr><td>avg_gene_expr_23_1</td><td>2</td><td> 253.796760</td><td>145.38807</td></tr>\n",
       "\t<tr><td>avg_gene_expr_23_1</td><td>3</td><td> 993.791299</td><td>305.93760</td></tr>\n",
       "\t<tr><td>avg_gene_expr_23_2</td><td>1</td><td>  11.682472</td><td> 16.87707</td></tr>\n",
       "\t<tr><td>avg_gene_expr_23_2</td><td>2</td><td> 253.502790</td><td>144.33222</td></tr>\n",
       "\t<tr><td>avg_gene_expr_23_2</td><td>3</td><td>1017.794397</td><td>439.32124</td></tr>\n",
       "\t<tr><td>avg_gene_expr_23_3</td><td>1</td><td>  11.836457</td><td> 16.80781</td></tr>\n",
       "\t<tr><td>avg_gene_expr_23_3</td><td>2</td><td> 264.354626</td><td>153.72870</td></tr>\n",
       "\t<tr><td>avg_gene_expr_23_3</td><td>3</td><td>1157.126370</td><td>519.21507</td></tr>\n",
       "\t<tr><td>avg_gene_expr_26_1</td><td>1</td><td>  11.009919</td><td> 16.54806</td></tr>\n",
       "\t<tr><td>avg_gene_expr_26_1</td><td>2</td><td> 252.726264</td><td>152.55528</td></tr>\n",
       "\t<tr><td>avg_gene_expr_26_1</td><td>3</td><td>1260.261856</td><td>527.53446</td></tr>\n",
       "</tbody>\n",
       "</table>\n"
      ],
      "text/latex": [
       "A grouped\\_df: 36 × 4\n",
       "\\begin{tabular}{llll}\n",
       " Col & cluster & avg\\_expr & sd\\_expr\\\\\n",
       " <chr> & <fct> & <dbl> & <dbl>\\\\\n",
       "\\hline\n",
       "\t avg\\_gene\\_expr\\_08   & 1 &    8.464061 &  17.53911\\\\\n",
       "\t avg\\_gene\\_expr\\_08   & 2 &  267.143438 & 146.96309\\\\\n",
       "\t avg\\_gene\\_expr\\_08   & 3 &  973.308913 & 320.60053\\\\\n",
       "\t avg\\_gene\\_expr\\_12   & 1 &   12.634845 &  19.34200\\\\\n",
       "\t avg\\_gene\\_expr\\_12   & 2 &  265.194327 & 141.84157\\\\\n",
       "\t avg\\_gene\\_expr\\_12   & 3 &  975.793138 & 289.18146\\\\\n",
       "\t avg\\_gene\\_expr\\_16\\_3 & 1 &   14.022151 &  18.88728\\\\\n",
       "\t avg\\_gene\\_expr\\_16\\_3 & 2 &  255.438323 & 130.23950\\\\\n",
       "\t avg\\_gene\\_expr\\_16\\_3 & 3 & 1067.177943 & 441.13771\\\\\n",
       "\t avg\\_gene\\_expr\\_16\\_4 & 1 &   13.174975 &  17.99342\\\\\n",
       "\t avg\\_gene\\_expr\\_16\\_4 & 2 &  250.687391 & 131.02454\\\\\n",
       "\t avg\\_gene\\_expr\\_16\\_4 & 3 &  987.129373 & 375.31674\\\\\n",
       "\t avg\\_gene\\_expr\\_16\\_9 & 1 &   13.352182 &  17.07544\\\\\n",
       "\t avg\\_gene\\_expr\\_16\\_9 & 2 &  261.427454 & 138.05332\\\\\n",
       "\t avg\\_gene\\_expr\\_16\\_9 & 3 &  993.954466 & 302.08340\\\\\n",
       "\t avg\\_gene\\_expr\\_19\\_1 & 1 &   13.665303 &  17.39296\\\\\n",
       "\t avg\\_gene\\_expr\\_19\\_1 & 2 &  256.755991 & 140.92705\\\\\n",
       "\t avg\\_gene\\_expr\\_19\\_1 & 3 & 1025.315463 & 410.18644\\\\\n",
       "\t avg\\_gene\\_expr\\_19\\_2 & 1 &   13.396455 &  16.92491\\\\\n",
       "\t avg\\_gene\\_expr\\_19\\_2 & 2 &  262.123222 & 142.00172\\\\\n",
       "\t avg\\_gene\\_expr\\_19\\_2 & 3 &  949.171322 & 233.10461\\\\\n",
       "\t avg\\_gene\\_expr\\_19\\_3 & 1 &   12.757982 &  16.78310\\\\\n",
       "\t avg\\_gene\\_expr\\_19\\_3 & 2 &  260.765613 & 145.98885\\\\\n",
       "\t avg\\_gene\\_expr\\_19\\_3 & 3 & 1007.510800 & 294.89513\\\\\n",
       "\t avg\\_gene\\_expr\\_23\\_1 & 1 &   10.767578 &  15.61766\\\\\n",
       "\t avg\\_gene\\_expr\\_23\\_1 & 2 &  253.796760 & 145.38807\\\\\n",
       "\t avg\\_gene\\_expr\\_23\\_1 & 3 &  993.791299 & 305.93760\\\\\n",
       "\t avg\\_gene\\_expr\\_23\\_2 & 1 &   11.682472 &  16.87707\\\\\n",
       "\t avg\\_gene\\_expr\\_23\\_2 & 2 &  253.502790 & 144.33222\\\\\n",
       "\t avg\\_gene\\_expr\\_23\\_2 & 3 & 1017.794397 & 439.32124\\\\\n",
       "\t avg\\_gene\\_expr\\_23\\_3 & 1 &   11.836457 &  16.80781\\\\\n",
       "\t avg\\_gene\\_expr\\_23\\_3 & 2 &  264.354626 & 153.72870\\\\\n",
       "\t avg\\_gene\\_expr\\_23\\_3 & 3 & 1157.126370 & 519.21507\\\\\n",
       "\t avg\\_gene\\_expr\\_26\\_1 & 1 &   11.009919 &  16.54806\\\\\n",
       "\t avg\\_gene\\_expr\\_26\\_1 & 2 &  252.726264 & 152.55528\\\\\n",
       "\t avg\\_gene\\_expr\\_26\\_1 & 3 & 1260.261856 & 527.53446\\\\\n",
       "\\end{tabular}\n"
      ],
      "text/markdown": [
       "\n",
       "A grouped_df: 36 × 4\n",
       "\n",
       "| Col &lt;chr&gt; | cluster &lt;fct&gt; | avg_expr &lt;dbl&gt; | sd_expr &lt;dbl&gt; |\n",
       "|---|---|---|---|\n",
       "| avg_gene_expr_08   | 1 |    8.464061 |  17.53911 |\n",
       "| avg_gene_expr_08   | 2 |  267.143438 | 146.96309 |\n",
       "| avg_gene_expr_08   | 3 |  973.308913 | 320.60053 |\n",
       "| avg_gene_expr_12   | 1 |   12.634845 |  19.34200 |\n",
       "| avg_gene_expr_12   | 2 |  265.194327 | 141.84157 |\n",
       "| avg_gene_expr_12   | 3 |  975.793138 | 289.18146 |\n",
       "| avg_gene_expr_16_3 | 1 |   14.022151 |  18.88728 |\n",
       "| avg_gene_expr_16_3 | 2 |  255.438323 | 130.23950 |\n",
       "| avg_gene_expr_16_3 | 3 | 1067.177943 | 441.13771 |\n",
       "| avg_gene_expr_16_4 | 1 |   13.174975 |  17.99342 |\n",
       "| avg_gene_expr_16_4 | 2 |  250.687391 | 131.02454 |\n",
       "| avg_gene_expr_16_4 | 3 |  987.129373 | 375.31674 |\n",
       "| avg_gene_expr_16_9 | 1 |   13.352182 |  17.07544 |\n",
       "| avg_gene_expr_16_9 | 2 |  261.427454 | 138.05332 |\n",
       "| avg_gene_expr_16_9 | 3 |  993.954466 | 302.08340 |\n",
       "| avg_gene_expr_19_1 | 1 |   13.665303 |  17.39296 |\n",
       "| avg_gene_expr_19_1 | 2 |  256.755991 | 140.92705 |\n",
       "| avg_gene_expr_19_1 | 3 | 1025.315463 | 410.18644 |\n",
       "| avg_gene_expr_19_2 | 1 |   13.396455 |  16.92491 |\n",
       "| avg_gene_expr_19_2 | 2 |  262.123222 | 142.00172 |\n",
       "| avg_gene_expr_19_2 | 3 |  949.171322 | 233.10461 |\n",
       "| avg_gene_expr_19_3 | 1 |   12.757982 |  16.78310 |\n",
       "| avg_gene_expr_19_3 | 2 |  260.765613 | 145.98885 |\n",
       "| avg_gene_expr_19_3 | 3 | 1007.510800 | 294.89513 |\n",
       "| avg_gene_expr_23_1 | 1 |   10.767578 |  15.61766 |\n",
       "| avg_gene_expr_23_1 | 2 |  253.796760 | 145.38807 |\n",
       "| avg_gene_expr_23_1 | 3 |  993.791299 | 305.93760 |\n",
       "| avg_gene_expr_23_2 | 1 |   11.682472 |  16.87707 |\n",
       "| avg_gene_expr_23_2 | 2 |  253.502790 | 144.33222 |\n",
       "| avg_gene_expr_23_2 | 3 | 1017.794397 | 439.32124 |\n",
       "| avg_gene_expr_23_3 | 1 |   11.836457 |  16.80781 |\n",
       "| avg_gene_expr_23_3 | 2 |  264.354626 | 153.72870 |\n",
       "| avg_gene_expr_23_3 | 3 | 1157.126370 | 519.21507 |\n",
       "| avg_gene_expr_26_1 | 1 |   11.009919 |  16.54806 |\n",
       "| avg_gene_expr_26_1 | 2 |  252.726264 | 152.55528 |\n",
       "| avg_gene_expr_26_1 | 3 | 1260.261856 | 527.53446 |\n",
       "\n"
      ],
      "text/plain": [
       "   Col                cluster avg_expr    sd_expr  \n",
       "1  avg_gene_expr_08   1          8.464061  17.53911\n",
       "2  avg_gene_expr_08   2        267.143438 146.96309\n",
       "3  avg_gene_expr_08   3        973.308913 320.60053\n",
       "4  avg_gene_expr_12   1         12.634845  19.34200\n",
       "5  avg_gene_expr_12   2        265.194327 141.84157\n",
       "6  avg_gene_expr_12   3        975.793138 289.18146\n",
       "7  avg_gene_expr_16_3 1         14.022151  18.88728\n",
       "8  avg_gene_expr_16_3 2        255.438323 130.23950\n",
       "9  avg_gene_expr_16_3 3       1067.177943 441.13771\n",
       "10 avg_gene_expr_16_4 1         13.174975  17.99342\n",
       "11 avg_gene_expr_16_4 2        250.687391 131.02454\n",
       "12 avg_gene_expr_16_4 3        987.129373 375.31674\n",
       "13 avg_gene_expr_16_9 1         13.352182  17.07544\n",
       "14 avg_gene_expr_16_9 2        261.427454 138.05332\n",
       "15 avg_gene_expr_16_9 3        993.954466 302.08340\n",
       "16 avg_gene_expr_19_1 1         13.665303  17.39296\n",
       "17 avg_gene_expr_19_1 2        256.755991 140.92705\n",
       "18 avg_gene_expr_19_1 3       1025.315463 410.18644\n",
       "19 avg_gene_expr_19_2 1         13.396455  16.92491\n",
       "20 avg_gene_expr_19_2 2        262.123222 142.00172\n",
       "21 avg_gene_expr_19_2 3        949.171322 233.10461\n",
       "22 avg_gene_expr_19_3 1         12.757982  16.78310\n",
       "23 avg_gene_expr_19_3 2        260.765613 145.98885\n",
       "24 avg_gene_expr_19_3 3       1007.510800 294.89513\n",
       "25 avg_gene_expr_23_1 1         10.767578  15.61766\n",
       "26 avg_gene_expr_23_1 2        253.796760 145.38807\n",
       "27 avg_gene_expr_23_1 3        993.791299 305.93760\n",
       "28 avg_gene_expr_23_2 1         11.682472  16.87707\n",
       "29 avg_gene_expr_23_2 2        253.502790 144.33222\n",
       "30 avg_gene_expr_23_2 3       1017.794397 439.32124\n",
       "31 avg_gene_expr_23_3 1         11.836457  16.80781\n",
       "32 avg_gene_expr_23_3 2        264.354626 153.72870\n",
       "33 avg_gene_expr_23_3 3       1157.126370 519.21507\n",
       "34 avg_gene_expr_26_1 1         11.009919  16.54806\n",
       "35 avg_gene_expr_26_1 2        252.726264 152.55528\n",
       "36 avg_gene_expr_26_1 3       1260.261856 527.53446"
      ]
     },
     "metadata": {},
     "output_type": "display_data"
    }
   ],
   "source": [
    "data_summary <- gene_expr_wz_cluster %>%\n",
    "  group_by(Col, cluster) %>%\n",
    "  summarize(avg_expr = mean(Value),\n",
    "            sd_expr = sd(Value)) # 添加标准差计算\n",
    "data_summary$cluster <- as.factor(data_summary$cluster)\n",
    "data_summary"
   ]
  },
  {
   "cell_type": "code",
   "execution_count": 117,
   "metadata": {
    "vscode": {
     "languageId": "r"
    }
   },
   "outputs": [
    {
     "data": {
      "text/html": [
       "<table class=\"dataframe\">\n",
       "<caption>A data.frame: 6 × 6</caption>\n",
       "<thead>\n",
       "\t<tr><th></th><th scope=col>Col</th><th scope=col>cluster</th><th scope=col>avg_expr</th><th scope=col>sd_expr</th><th scope=col>min_val</th><th scope=col>max_val</th></tr>\n",
       "\t<tr><th></th><th scope=col>&lt;chr&gt;</th><th scope=col>&lt;fct&gt;</th><th scope=col>&lt;dbl&gt;</th><th scope=col>&lt;dbl&gt;</th><th scope=col>&lt;dbl&gt;</th><th scope=col>&lt;dbl&gt;</th></tr>\n",
       "</thead>\n",
       "<tbody>\n",
       "\t<tr><th scope=row>1</th><td>avg_gene_expr_08  </td><td>1</td><td> 8.464061</td><td>17.53911</td><td>-9.075053</td><td>26.00317</td></tr>\n",
       "\t<tr><th scope=row>2</th><td>avg_gene_expr_12  </td><td>1</td><td>12.634845</td><td>19.34200</td><td>-6.707155</td><td>31.97684</td></tr>\n",
       "\t<tr><th scope=row>3</th><td>avg_gene_expr_16_3</td><td>1</td><td>14.022151</td><td>18.88728</td><td>-4.865128</td><td>32.90943</td></tr>\n",
       "\t<tr><th scope=row>4</th><td>avg_gene_expr_16_4</td><td>1</td><td>13.174975</td><td>17.99342</td><td>-4.818450</td><td>31.16840</td></tr>\n",
       "\t<tr><th scope=row>5</th><td>avg_gene_expr_16_9</td><td>1</td><td>13.352182</td><td>17.07544</td><td>-3.723258</td><td>30.42762</td></tr>\n",
       "\t<tr><th scope=row>6</th><td>avg_gene_expr_19_1</td><td>1</td><td>13.665303</td><td>17.39296</td><td>-3.727659</td><td>31.05827</td></tr>\n",
       "</tbody>\n",
       "</table>\n"
      ],
      "text/latex": [
       "A data.frame: 6 × 6\n",
       "\\begin{tabular}{r|llllll}\n",
       "  & Col & cluster & avg\\_expr & sd\\_expr & min\\_val & max\\_val\\\\\n",
       "  & <chr> & <fct> & <dbl> & <dbl> & <dbl> & <dbl>\\\\\n",
       "\\hline\n",
       "\t1 & avg\\_gene\\_expr\\_08   & 1 &  8.464061 & 17.53911 & -9.075053 & 26.00317\\\\\n",
       "\t2 & avg\\_gene\\_expr\\_12   & 1 & 12.634845 & 19.34200 & -6.707155 & 31.97684\\\\\n",
       "\t3 & avg\\_gene\\_expr\\_16\\_3 & 1 & 14.022151 & 18.88728 & -4.865128 & 32.90943\\\\\n",
       "\t4 & avg\\_gene\\_expr\\_16\\_4 & 1 & 13.174975 & 17.99342 & -4.818450 & 31.16840\\\\\n",
       "\t5 & avg\\_gene\\_expr\\_16\\_9 & 1 & 13.352182 & 17.07544 & -3.723258 & 30.42762\\\\\n",
       "\t6 & avg\\_gene\\_expr\\_19\\_1 & 1 & 13.665303 & 17.39296 & -3.727659 & 31.05827\\\\\n",
       "\\end{tabular}\n"
      ],
      "text/markdown": [
       "\n",
       "A data.frame: 6 × 6\n",
       "\n",
       "| <!--/--> | Col &lt;chr&gt; | cluster &lt;fct&gt; | avg_expr &lt;dbl&gt; | sd_expr &lt;dbl&gt; | min_val &lt;dbl&gt; | max_val &lt;dbl&gt; |\n",
       "|---|---|---|---|---|---|---|\n",
       "| 1 | avg_gene_expr_08   | 1 |  8.464061 | 17.53911 | -9.075053 | 26.00317 |\n",
       "| 2 | avg_gene_expr_12   | 1 | 12.634845 | 19.34200 | -6.707155 | 31.97684 |\n",
       "| 3 | avg_gene_expr_16_3 | 1 | 14.022151 | 18.88728 | -4.865128 | 32.90943 |\n",
       "| 4 | avg_gene_expr_16_4 | 1 | 13.174975 | 17.99342 | -4.818450 | 31.16840 |\n",
       "| 5 | avg_gene_expr_16_9 | 1 | 13.352182 | 17.07544 | -3.723258 | 30.42762 |\n",
       "| 6 | avg_gene_expr_19_1 | 1 | 13.665303 | 17.39296 | -3.727659 | 31.05827 |\n",
       "\n"
      ],
      "text/plain": [
       "  Col                cluster avg_expr  sd_expr  min_val   max_val \n",
       "1 avg_gene_expr_08   1        8.464061 17.53911 -9.075053 26.00317\n",
       "2 avg_gene_expr_12   1       12.634845 19.34200 -6.707155 31.97684\n",
       "3 avg_gene_expr_16_3 1       14.022151 18.88728 -4.865128 32.90943\n",
       "4 avg_gene_expr_16_4 1       13.174975 17.99342 -4.818450 31.16840\n",
       "5 avg_gene_expr_16_9 1       13.352182 17.07544 -3.723258 30.42762\n",
       "6 avg_gene_expr_19_1 1       13.665303 17.39296 -3.727659 31.05827"
      ]
     },
     "metadata": {},
     "output_type": "display_data"
    }
   ],
   "source": [
    "# 假设df是原始的data_summary数据框\n",
    "\n",
    "# 步骤1: 获取所有独特的Col和cluster组合\n",
    "all_combinations <- expand.grid(unique(data_summary$Col), unique(data_summary$cluster))\n",
    "colnames(all_combinations) <- c(\"Col\", \"cluster\")\n",
    "\n",
    "# 步骤2: 创建一个包含所有组合且初始化编辑水平为0的数据框\n",
    "complete_data <- all_combinations %>%\n",
    "  mutate(avg_expr = 0,\n",
    "         sd_expr = 0)\n",
    "\n",
    "# 步骤3: 将原始数据与新创建的数据框合并，确保所有组合都有记录\n",
    "# 使用left_join确保所有来自complete_data的行都被保留\n",
    "final_data <- complete_data %>%\n",
    "  left_join(data_summary, by = c(\"Col\", \"cluster\"), suffix = c(\"_init\", \"\")) %>%\n",
    "  select(-ends_with(\"_init\")) # 移除初始化时添加的后缀列\n",
    "\n",
    "# 如果有特定的值需要填充而非0，可以在第2步时相应修改\n",
    "final_data[is.na(final_data)] <- 0\n",
    "# 假设final_data已经是包含了所有组合（即使某些原始数据中未出现的组合值为0）的数据框\n",
    "\n",
    "# 确保final_data中包含了误差范围的最小值和最大值列，如果还没有的话需要先计算并添加\n",
    "# 这里简化处理，直接使用之前逻辑但确保使用final_data作为数据源\n",
    "final_data <- final_data %>%\n",
    "  group_by(Col, cluster) %>%\n",
    "  mutate(min_val = avg_expr - sd_expr,\n",
    "         max_val = avg_expr + sd_expr)\n",
    "final_data <- as.data.frame(final_data)\n",
    "head(final_data)"
   ]
  },
  {
   "cell_type": "code",
   "execution_count": 122,
   "metadata": {
    "vscode": {
     "languageId": "r"
    }
   },
   "outputs": [
    {
     "data": {
      "text/html": [
       "<table class=\"dataframe\">\n",
       "<caption>A data.frame: 6 × 6</caption>\n",
       "<thead>\n",
       "\t<tr><th></th><th scope=col>Col</th><th scope=col>cluster</th><th scope=col>avg_expr</th><th scope=col>sd_expr</th><th scope=col>min_val</th><th scope=col>max_val</th></tr>\n",
       "\t<tr><th></th><th scope=col>&lt;chr&gt;</th><th scope=col>&lt;fct&gt;</th><th scope=col>&lt;dbl&gt;</th><th scope=col>&lt;dbl&gt;</th><th scope=col>&lt;dbl&gt;</th><th scope=col>&lt;dbl&gt;</th></tr>\n",
       "</thead>\n",
       "<tbody>\n",
       "\t<tr><th scope=row>1</th><td>GW08    </td><td>1</td><td> 8.464061</td><td>17.53911</td><td>-9.075053</td><td>26.00317</td></tr>\n",
       "\t<tr><th scope=row>2</th><td>GW12    </td><td>1</td><td>12.634845</td><td>19.34200</td><td>-6.707155</td><td>31.97684</td></tr>\n",
       "\t<tr><th scope=row>3</th><td>GW16_1_3</td><td>1</td><td>14.022151</td><td>18.88728</td><td>-4.865128</td><td>32.90943</td></tr>\n",
       "\t<tr><th scope=row>4</th><td>GW16_1_4</td><td>1</td><td>13.174975</td><td>17.99342</td><td>-4.818450</td><td>31.16840</td></tr>\n",
       "\t<tr><th scope=row>5</th><td>GW16_1_9</td><td>1</td><td>13.352182</td><td>17.07544</td><td>-3.723258</td><td>30.42762</td></tr>\n",
       "\t<tr><th scope=row>6</th><td>GW19_1_1</td><td>1</td><td>13.665303</td><td>17.39296</td><td>-3.727659</td><td>31.05827</td></tr>\n",
       "</tbody>\n",
       "</table>\n"
      ],
      "text/latex": [
       "A data.frame: 6 × 6\n",
       "\\begin{tabular}{r|llllll}\n",
       "  & Col & cluster & avg\\_expr & sd\\_expr & min\\_val & max\\_val\\\\\n",
       "  & <chr> & <fct> & <dbl> & <dbl> & <dbl> & <dbl>\\\\\n",
       "\\hline\n",
       "\t1 & GW08     & 1 &  8.464061 & 17.53911 & -9.075053 & 26.00317\\\\\n",
       "\t2 & GW12     & 1 & 12.634845 & 19.34200 & -6.707155 & 31.97684\\\\\n",
       "\t3 & GW16\\_1\\_3 & 1 & 14.022151 & 18.88728 & -4.865128 & 32.90943\\\\\n",
       "\t4 & GW16\\_1\\_4 & 1 & 13.174975 & 17.99342 & -4.818450 & 31.16840\\\\\n",
       "\t5 & GW16\\_1\\_9 & 1 & 13.352182 & 17.07544 & -3.723258 & 30.42762\\\\\n",
       "\t6 & GW19\\_1\\_1 & 1 & 13.665303 & 17.39296 & -3.727659 & 31.05827\\\\\n",
       "\\end{tabular}\n"
      ],
      "text/markdown": [
       "\n",
       "A data.frame: 6 × 6\n",
       "\n",
       "| <!--/--> | Col &lt;chr&gt; | cluster &lt;fct&gt; | avg_expr &lt;dbl&gt; | sd_expr &lt;dbl&gt; | min_val &lt;dbl&gt; | max_val &lt;dbl&gt; |\n",
       "|---|---|---|---|---|---|---|\n",
       "| 1 | GW08     | 1 |  8.464061 | 17.53911 | -9.075053 | 26.00317 |\n",
       "| 2 | GW12     | 1 | 12.634845 | 19.34200 | -6.707155 | 31.97684 |\n",
       "| 3 | GW16_1_3 | 1 | 14.022151 | 18.88728 | -4.865128 | 32.90943 |\n",
       "| 4 | GW16_1_4 | 1 | 13.174975 | 17.99342 | -4.818450 | 31.16840 |\n",
       "| 5 | GW16_1_9 | 1 | 13.352182 | 17.07544 | -3.723258 | 30.42762 |\n",
       "| 6 | GW19_1_1 | 1 | 13.665303 | 17.39296 | -3.727659 | 31.05827 |\n",
       "\n"
      ],
      "text/plain": [
       "  Col      cluster avg_expr  sd_expr  min_val   max_val \n",
       "1 GW08     1        8.464061 17.53911 -9.075053 26.00317\n",
       "2 GW12     1       12.634845 19.34200 -6.707155 31.97684\n",
       "3 GW16_1_3 1       14.022151 18.88728 -4.865128 32.90943\n",
       "4 GW16_1_4 1       13.174975 17.99342 -4.818450 31.16840\n",
       "5 GW16_1_9 1       13.352182 17.07544 -3.723258 30.42762\n",
       "6 GW19_1_1 1       13.665303 17.39296 -3.727659 31.05827"
      ]
     },
     "metadata": {},
     "output_type": "display_data"
    }
   ],
   "source": [
    "final_data$Col <- rep(c('GW08','GW12','GW16_1_3','GW16_1_4','GW16_1_9','GW19_1_1','GW19_1_2','GW19_1_3','GW23_1_1','GW23_1_2','GW23_1_3','GW26_1_1'),times=3)\n",
    "head(final_data)"
   ]
  },
  {
   "cell_type": "code",
   "execution_count": 125,
   "metadata": {
    "vscode": {
     "languageId": "r"
    }
   },
   "outputs": [
    {
     "data": {
      "image/png": "[encoded data removed]",
      "text/plain": [
       "plot without title"
      ]
     },
     "metadata": {
      "image/png": {
       "height": 420,
       "width": 420
      }
     },
     "output_type": "display_data"
    }
   ],
   "source": [
    "\n",
    "ggplot(data=final_data,aes(x=Col,y=avg_expr,group=cluster))+\n",
    "  geom_line(aes(color=cluster,lty=cluster))+\n",
    "  geom_point(aes(color=cluster,shape=cluster))+\n",
    "  geom_ribbon(aes(x=Col,ymin=min_val,ymax=max_val,fill=cluster,\n",
    "                  color=cluster),alpha=0.5)+\n",
    "  scale_color_manual(values = c(\"1\"=\"#840dd3\",\"2\"=\"#04c49c\",\"3\"=\"#2759bd\"))+\n",
    "  scale_fill_manual(values = c(\"1\"=\"#840dd3\",\"2\"=\"#04c49c\",\"3\"=\"#2759bd\"))+\n",
    "  #colors=c(\"#840dd3\",\"#04c49c\",\"#2759bd\")\n",
    "  theme_bw() +\n",
    "  theme(plot.title = element_text(hjust = 0.5),\n",
    "        legend.title = element_blank(),\n",
    "        axis.text.x = element_text(angle = 45, hjust = 1),\n",
    "        text = element_text(size = 13)) +\n",
    "  xlab('')+\n",
    "  ylab('Expr of Genes (TPM)')"
   ]
  },
  {
   "cell_type": "code",
   "execution_count": 59,
   "metadata": {
    "vscode": {
     "languageId": "r"
    }
   },
   "outputs": [],
   "source": [
    "#anova分析鉴定差异表达基因\n",
    "p_values <- c()\n",
    "for(gene in rownames(avg_expr_all_phases)){\n",
    "    sub_sample_data <- as.data.frame(cbind(c('GW08','GW12',rep('GW16',3),rep('GW19',3),rep('GW23',3),'GW26'),colnames(avg_expr_all_phases), as.numeric(avg_expr_all_phases[gene,])))\n",
    "    colnames(sub_sample_data) <- c(\"group\",\"sample\",'gene_tpm')\n",
    "    sub_sample_data$group <- factor(sub_sample_data$group)\n",
    "    #head(sub_sample_data)\n",
    "    result <- aov(gene_tpm~group,sub_sample_data)\n",
    "    p_value <- summary(result)[[1]][[\"Pr(>F)\"]][1]\n",
    "    p_values <- c(p_values,p_value) \n",
    "}\n",
    "\n",
    "fdr_adjusted_p_values <- p.adjust(p_values, method = \"BH\")\n",
    "table(fdr_adjusted_p_values < 0.05)\n",
    "length(fdr_adjusted_p_values)\n",
    "#对差异编辑的位点进行热图展示\n",
    "de_data <- avg_expr_all_phases[which(fdr_adjusted_p_values < 0.05),]\n",
    "dim(de_data)"
   ]
  }
 ],
 "metadata": {
  "kernelspec": {
   "display_name": "R",
   "language": "R",
   "name": "ir"
  },
  "language_info": {
   "codemirror_mode": "r",
   "file_extension": ".r",
   "mimetype": "text/x-r-source",
   "name": "R",
   "pygments_lexer": "r",
   "version": "4.3.1"
  },
  "orig_nbformat": 4
 },
 "nbformat": 4,
 "nbformat_minor": 2
}
