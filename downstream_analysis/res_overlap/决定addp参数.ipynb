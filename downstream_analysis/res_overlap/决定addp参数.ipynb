{
 "cells": [
  {
   "cell_type": "code",
   "execution_count": 1,
   "metadata": {
    "vscode": {
     "languageId": "r"
    }
   },
   "outputs": [],
   "source": [
    ".libPaths(\"/disk1/wenqing/anaconda3/envs/wq_R4.2/lib/R/library\")"
   ]
  },
  {
   "cell_type": "code",
   "execution_count": 2,
   "metadata": {
    "vscode": {
     "languageId": "r"
    }
   },
   "outputs": [],
   "source": [
    "setwd(\"/disk1/wenqing/tmp_data/PFC_s2/all_analysis_result\")"
   ]
  },
  {
   "cell_type": "code",
   "execution_count": 16,
   "metadata": {
    "vscode": {
     "languageId": "r"
    }
   },
   "outputs": [],
   "source": [
    "#预期应是overlap较多\n",
    "library(VennDiagram)\n",
    "library(colorspace)\n",
    "library(ggplot2)\n",
    "colors=c(\"#840dd3\",\"#04c49c\",\"#2759bd\")"
   ]
  },
  {
   "cell_type": "code",
   "execution_count": 48,
   "metadata": {
    "vscode": {
     "languageId": "r"
    }
   },
   "outputs": [
    {
     "name": "stdout",
     "output_type": "stream",
     "text": [
      "[1] \"GABA and neuron\"\n",
      "[1] \"GABA and OPC\"\n",
      "[1] \"neuron and OPC\"\n",
      "[1] \"GABA and neuron\"\n",
      "[1] \"GABA and OPC\"\n",
      "[1] \"neuron and OPC\"\n",
      "[1] \"GABA and neuron\"\n",
      "[1] \"GABA and OPC\"\n",
      "[1] \"neuron and OPC\"\n",
      "[1] \"GABA and neuron\"\n",
      "[1] \"GABA and OPC\"\n",
      "[1] \"neuron and OPC\"\n",
      "[1] \"GABA and neuron\"\n",
      "[1] \"GABA and OPC\"\n",
      "[1] \"neuron and OPC\"\n",
      "[1] \"GABA and neuron\"\n",
      "[1] \"GABA and OPC\"\n",
      "[1] \"neuron and OPC\"\n",
      "[1] \"GABA and neuron\"\n",
      "[1] \"GABA and OPC\"\n",
      "[1] \"neuron and OPC\"\n",
      "[1] \"GABA and neuron\"\n",
      "[1] \"GABA and OPC\"\n",
      "[1] \"neuron and OPC\"\n",
      "[1] \"GABA and neuron\"\n",
      "[1] \"GABA and OPC\"\n",
      "[1] \"neuron and OPC\"\n",
      "[1] \"GABA and neuron\"\n",
      "[1] \"GABA and OPC\"\n",
      "[1] \"neuron and OPC\"\n",
      "[1] \"GABA and neuron\"\n",
      "[1] \"GABA and OPC\"\n",
      "[1] \"neuron and OPC\"\n",
      "[1] \"GABA and neuron\"\n",
      "[1] \"GABA and OPC\"\n",
      "[1] \"neuron and OPC\"\n",
      "[1] \"GABA and neuron\"\n",
      "[1] \"GABA and OPC\"\n",
      "[1] \"neuron and OPC\"\n",
      "[1] \"GABA and neuron\"\n",
      "[1] \"GABA and OPC\"\n",
      "[1] \"neuron and OPC\"\n",
      "[1] \"GABA and neuron\"\n",
      "[1] \"GABA and OPC\"\n",
      "[1] \"neuron and OPC\"\n",
      "[1] \"GABA and neuron\"\n",
      "[1] \"GABA and OPC\"\n",
      "[1] \"neuron and OPC\"\n",
      "[1] \"GABA and neuron\"\n",
      "[1] \"GABA and OPC\"\n",
      "[1] \"neuron and OPC\"\n",
      "[1] \"GABA and neuron\"\n",
      "[1] \"GABA and OPC\"\n",
      "[1] \"neuron and OPC\"\n",
      "[1] \"GABA and neuron\"\n",
      "[1] \"GABA and OPC\"\n",
      "[1] \"neuron and OPC\"\n",
      "[1] \"GABA and neuron\"\n",
      "[1] \"GABA and OPC\"\n",
      "[1] \"neuron and OPC\"\n",
      "[1] \"GABA and neuron\"\n",
      "[1] \"GABA and OPC\"\n",
      "[1] \"neuron and OPC\"\n",
      "[1] \"GABA and neuron\"\n",
      "[1] \"GABA and OPC\"\n",
      "[1] \"neuron and OPC\"\n",
      "[1] \"GABA and neuron\"\n",
      "[1] \"GABA and OPC\"\n",
      "[1] \"neuron and OPC\"\n",
      "[1] \"GABA and neuron\"\n",
      "[1] \"GABA and OPC\"\n",
      "[1] \"neuron and OPC\"\n",
      "[1] \"GABA and neuron\"\n",
      "[1] \"GABA and OPC\"\n",
      "[1] \"neuron and OPC\"\n",
      "[1] \"GABA and neuron\"\n",
      "[1] \"GABA and OPC\"\n",
      "[1] \"neuron and OPC\"\n",
      "[1] \"GABA and neuron\"\n",
      "[1] \"GABA and OPC\"\n",
      "[1] \"neuron and OPC\"\n",
      "[1] \"GABA and neuron\"\n",
      "[1] \"GABA and OPC\"\n",
      "[1] \"neuron and OPC\"\n",
      "[1] \"GABA and neuron\"\n",
      "[1] \"GABA and OPC\"\n",
      "[1] \"neuron and OPC\"\n",
      "[1] \"GABA and neuron\"\n",
      "[1] \"GABA and OPC\"\n",
      "[1] \"neuron and OPC\"\n",
      "[1] \"GABA and neuron\"\n",
      "[1] \"GABA and OPC\"\n",
      "[1] \"neuron and OPC\"\n",
      "[1] \"GABA and neuron\"\n",
      "[1] \"GABA and OPC\"\n",
      "[1] \"neuron and OPC\"\n",
      "[1] \"GABA and neuron\"\n",
      "[1] \"GABA and OPC\"\n",
      "[1] \"neuron and OPC\"\n",
      "[1] \"GABA and neuron\"\n",
      "[1] \"GABA and OPC\"\n",
      "[1] \"neuron and OPC\"\n",
      "[1] \"GABA and neuron\"\n",
      "[1] \"GABA and OPC\"\n",
      "[1] \"neuron and OPC\"\n",
      "[1] \"GABA and neuron\"\n",
      "[1] \"GABA and OPC\"\n",
      "[1] \"neuron and OPC\"\n",
      "[1] \"GABA and neuron\"\n",
      "[1] \"GABA and OPC\"\n",
      "[1] \"neuron and OPC\"\n",
      "[1] \"GABA and neuron\"\n",
      "[1] \"GABA and OPC\"\n",
      "[1] \"neuron and OPC\"\n",
      "[1] \"GABA and neuron\"\n",
      "[1] \"GABA and OPC\"\n",
      "[1] \"neuron and OPC\"\n",
      "[1] \"GABA and neuron\"\n",
      "[1] \"GABA and OPC\"\n",
      "[1] \"neuron and OPC\"\n",
      "[1] \"GABA and neuron\"\n",
      "[1] \"GABA and OPC\"\n",
      "[1] \"neuron and OPC\"\n",
      "[1] \"GABA and neuron\"\n",
      "[1] \"GABA and OPC\"\n",
      "[1] \"neuron and OPC\"\n",
      "[1] \"GABA and neuron\"\n",
      "[1] \"GABA and OPC\"\n",
      "[1] \"neuron and OPC\"\n",
      "[1] \"GABA and neuron\"\n",
      "[1] \"GABA and OPC\"\n",
      "[1] \"neuron and OPC\"\n"
     ]
    }
   ],
   "source": [
    "all_rows <- data.frame()\n",
    "for(ad_filter_idx in c(1,2,3)){\n",
    "    for(dp_filter_idx in c(3,4,5,6,7,8,9,10)){\n",
    "        input_res_16 <- read.table(\"/disk1/wenqing/tmp_data/PFC_s2/result/GW16_1_4/GABAergic_neurons/SPRINT_identified_all.res\",header=F)\n",
    "        input_res_19 <- read.table(\"/disk1/wenqing/tmp_data/PFC_s2/result/GW19_1_1/GABAergic_neurons/SPRINT_identified_all.res\",header=F)\n",
    "        input_res_23 <- read.table(\"/disk1/wenqing/tmp_data/PFC_s2/result/GW23_1_2/GABAergic_neurons/SPRINT_identified_all.res\",header=F)\n",
    "        input_res_26 <- read.table(\"/disk1/wenqing/tmp_data/PFC_s2/result/GW26_1_1/GABAergic_neurons/SPRINT_identified_all.res\",header=F)\n",
    "\n",
    "        all_input_res <- rbind(input_res_16,input_res_19)\n",
    "        all_input_res <- rbind(all_input_res,input_res_23)\n",
    "        all_input_res <- rbind(all_input_res,input_res_26)\n",
    "        #对res的dp和ad做一定过滤\n",
    "        filtered_idx <- c()\n",
    "\n",
    "        for(i in 1:nrow(all_input_res)){\n",
    "            tmp_ad = as.numeric(strsplit(all_input_res[i,7],\":\")[[1]][1])\n",
    "            tmp_dp = as.numeric(strsplit(all_input_res[i,7],\":\")[[1]][2])\n",
    "            if(tmp_ad > ad_filter_idx & tmp_dp > dp_filter_idx){\n",
    "                filtered_idx <- c(filtered_idx,i)\n",
    "            }\n",
    "        }\n",
    "        res_all <- paste0(all_input_res[,1],\"_\",all_input_res[,3])\n",
    "        sub_res_all_GABA <- unique(res_all[filtered_idx])\n",
    "\n",
    "        #neuron\n",
    "        #neuron\n",
    "        input_res_16 <- read.table(\"/disk1/wenqing/tmp_data/PFC_s2/result/GW16_1_4/Neurons/SPRINT_identified_all.res\",header=F)\n",
    "        input_res_19 <- read.table(\"/disk1/wenqing/tmp_data/PFC_s2/result/GW19_1_1/Neurons/SPRINT_identified_all.res\",header=F)\n",
    "        input_res_23 <- read.table(\"/disk1/wenqing/tmp_data/PFC_s2/result/GW23_1_2/Neurons/SPRINT_identified_all.res\",header=F)\n",
    "        input_res_26 <- read.table(\"/disk1/wenqing/tmp_data/PFC_s2/result/GW26_1_1/Neurons/SPRINT_identified_all.res\",header=F)\n",
    "\n",
    "        all_input_res <- rbind(input_res_16,input_res_19)\n",
    "        all_input_res <- rbind(all_input_res,input_res_23)\n",
    "        all_input_res <- rbind(all_input_res,input_res_26)\n",
    "        #对res的dp和ad做一定过滤\n",
    "        filtered_idx <- c()\n",
    "\n",
    "        for(i in 1:nrow(all_input_res)){\n",
    "            tmp_ad = as.numeric(strsplit(all_input_res[i,7],\":\")[[1]][1])\n",
    "            tmp_dp = as.numeric(strsplit(all_input_res[i,7],\":\")[[1]][2])\n",
    "            if(tmp_ad > ad_filter_idx & tmp_dp > dp_filter_idx){\n",
    "                filtered_idx <- c(filtered_idx,i)\n",
    "            }\n",
    "        }\n",
    "        res_all <- paste0(all_input_res[,1],\"_\",all_input_res[,3])\n",
    "        sub_res_all_neuron <- unique(res_all[filtered_idx])\n",
    "\n",
    "        #opc\n",
    "        input_res_16 <- read.table(\"/disk1/wenqing/tmp_data/PFC_s2/result/GW16_1_4/OPC/SPRINT_identified_all.res\",header=F)\n",
    "        input_res_19 <- read.table(\"/disk1/wenqing/tmp_data/PFC_s2/result/GW19_1_1/OPC/SPRINT_identified_all.res\",header=F)\n",
    "        input_res_23 <- read.table(\"/disk1/wenqing/tmp_data/PFC_s2/result/GW23_1_2/OPC/SPRINT_identified_all.res\",header=F)\n",
    "        input_res_26 <- read.table(\"/disk1/wenqing/tmp_data/PFC_s2/result/GW26_1_1/OPC/SPRINT_identified_all.res\",header=F)\n",
    "\n",
    "        all_input_res <- rbind(input_res_16,input_res_19)\n",
    "        all_input_res <- rbind(all_input_res,input_res_23)\n",
    "        all_input_res <- rbind(all_input_res,input_res_26)\n",
    "        #对res的dp和ad做一定过滤\n",
    "        filtered_idx <- c()\n",
    "\n",
    "        for(i in 1:nrow(all_input_res)){\n",
    "            tmp_ad = as.numeric(strsplit(all_input_res[i,7],\":\")[[1]][1])\n",
    "            tmp_dp = as.numeric(strsplit(all_input_res[i,7],\":\")[[1]][2])\n",
    "            if(tmp_ad > ad_filter_idx & tmp_dp > dp_filter_idx){\n",
    "                filtered_idx <- c(filtered_idx,i)\n",
    "            }\n",
    "        }\n",
    "        res_all <- paste0(all_input_res[,1],\"_\",all_input_res[,3])\n",
    "        sub_res_all_opc <- unique(res_all[filtered_idx])\n",
    "\n",
    "        neuron_GABA_inter_GABA_prop <- length(intersect(sub_res_all_GABA,sub_res_all_neuron))/length(sub_res_all_GABA)\n",
    "        neuron_GABA_inter_neuron_prop <- length(intersect(sub_res_all_GABA,sub_res_all_neuron))/length(sub_res_all_neuron)\n",
    "        opc_GABA_inter_GABA_prop <- length(intersect(sub_res_all_GABA,sub_res_all_opc))/length(sub_res_all_GABA)\n",
    "        opc_GABA_inter_opc_prop <- length(intersect(sub_res_all_GABA,sub_res_all_opc))/length(sub_res_all_opc)\n",
    "        opc_neuron_inter_neuron_prop <- length(intersect(sub_res_all_neuron,sub_res_all_opc))/length(sub_res_all_neuron)\n",
    "        opc_neuron_inter_opc_prop <- length(intersect(sub_res_all_neuron,sub_res_all_opc))/length(sub_res_all_opc)\n",
    "\n",
    "        this_row <- c(paste0(ad_filter_idx,'_',dp_filter_idx),neuron_GABA_inter_GABA_prop,neuron_GABA_inter_neuron_prop,\n",
    "                    opc_GABA_inter_GABA_prop,opc_GABA_inter_opc_prop,opc_neuron_inter_neuron_prop,opc_neuron_inter_opc_prop)\n",
    "        all_rows <- rbind(all_rows,this_row)\n",
    "\n",
    "        venn.diagram(\n",
    "            x = list(\n",
    "            \"GABA_neurons\" = sub_res_all_GABA,\n",
    "            #\"18\" = res_dat2[[one]],\n",
    "            \"Neurons\" = sub_res_all_neuron,\n",
    "            #\"22\" = res_dat4[[one]],\n",
    "            \"OPC\" = sub_res_all_opc\n",
    "            ),\n",
    "            filename = paste0(\"/disk1/wenqing/tmp_data/PFC_s2/all_analysis_result/res_overlap/res_overlap_3celltypes_\",ad_filter_idx,\"_\",dp_filter_idx,\".jpeg\"),\n",
    "            col = colors,\n",
    "            cat.col = colors,\n",
    "            cat.dist = c(0.08,0.08,0.08),\n",
    "            cat.pos = c(11,1,6),\n",
    "            cex = 1.3\n",
    "        )\n",
    "    }\n",
    "}"
   ]
  },
  {
   "cell_type": "code",
   "execution_count": 52,
   "metadata": {
    "vscode": {
     "languageId": "r"
    }
   },
   "outputs": [
    {
     "data": {
      "text/html": [
       "<table class=\"dataframe\">\n",
       "<caption>A data.frame: 6 × 8</caption>\n",
       "<thead>\n",
       "\t<tr><th></th><th scope=col>X0</th><th scope=col>X0.1</th><th scope=col>X0.124152683474717</th><th scope=col>X0.116638033426656</th><th scope=col>X0.0346376787054753</th><th scope=col>X0.149155425932677</th><th scope=col>X0.0354150759311105</th><th scope=col>X0.162328350953943</th></tr>\n",
       "\t<tr><th></th><th scope=col>&lt;dbl&gt;</th><th scope=col>&lt;dbl&gt;</th><th scope=col>&lt;dbl&gt;</th><th scope=col>&lt;dbl&gt;</th><th scope=col>&lt;dbl&gt;</th><th scope=col>&lt;dbl&gt;</th><th scope=col>&lt;dbl&gt;</th><th scope=col>&lt;dbl&gt;</th></tr>\n",
       "</thead>\n",
       "<tbody>\n",
       "\t<tr><th scope=row>0_0</th><td>0</td><td>0</td><td>0.12415268</td><td>0.11663803</td><td>0.03463768</td><td>0.14915543</td><td>0.03541508</td><td>0.16232835</td></tr>\n",
       "\t<tr><th scope=row>0_1</th><td>0</td><td>1</td><td>0.15128395</td><td>0.11636591</td><td>0.03636195</td><td>0.16774838</td><td>0.03285668</td><td>0.19706155</td></tr>\n",
       "\t<tr><th scope=row>0_2</th><td>0</td><td>2</td><td>0.11681692</td><td>0.08902493</td><td>0.02839806</td><td>0.12873985</td><td>0.02594028</td><td>0.15430967</td></tr>\n",
       "\t<tr><th scope=row>0_3</th><td>0</td><td>3</td><td>0.09104819</td><td>0.06901278</td><td>0.02299774</td><td>0.10071748</td><td>0.02111034</td><td>0.12197103</td></tr>\n",
       "\t<tr><th scope=row>0_4</th><td>0</td><td>4</td><td>0.07239133</td><td>0.05439517</td><td>0.01792372</td><td>0.07883593</td><td>0.01646939</td><td>0.09640508</td></tr>\n",
       "\t<tr><th scope=row>0_5</th><td>0</td><td>5</td><td>0.05619684</td><td>0.04160703</td><td>0.01308958</td><td>0.05902129</td><td>0.01241055</td><td>0.07558212</td></tr>\n",
       "</tbody>\n",
       "</table>\n"
      ],
      "text/latex": [
       "A data.frame: 6 × 8\n",
       "\\begin{tabular}{r|llllllll}\n",
       "  & X0 & X0.1 & X0.124152683474717 & X0.116638033426656 & X0.0346376787054753 & X0.149155425932677 & X0.0354150759311105 & X0.162328350953943\\\\\n",
       "  & <dbl> & <dbl> & <dbl> & <dbl> & <dbl> & <dbl> & <dbl> & <dbl>\\\\\n",
       "\\hline\n",
       "\t0\\_0 & 0 & 0 & 0.12415268 & 0.11663803 & 0.03463768 & 0.14915543 & 0.03541508 & 0.16232835\\\\\n",
       "\t0\\_1 & 0 & 1 & 0.15128395 & 0.11636591 & 0.03636195 & 0.16774838 & 0.03285668 & 0.19706155\\\\\n",
       "\t0\\_2 & 0 & 2 & 0.11681692 & 0.08902493 & 0.02839806 & 0.12873985 & 0.02594028 & 0.15430967\\\\\n",
       "\t0\\_3 & 0 & 3 & 0.09104819 & 0.06901278 & 0.02299774 & 0.10071748 & 0.02111034 & 0.12197103\\\\\n",
       "\t0\\_4 & 0 & 4 & 0.07239133 & 0.05439517 & 0.01792372 & 0.07883593 & 0.01646939 & 0.09640508\\\\\n",
       "\t0\\_5 & 0 & 5 & 0.05619684 & 0.04160703 & 0.01308958 & 0.05902129 & 0.01241055 & 0.07558212\\\\\n",
       "\\end{tabular}\n"
      ],
      "text/markdown": [
       "\n",
       "A data.frame: 6 × 8\n",
       "\n",
       "| <!--/--> | X0 &lt;dbl&gt; | X0.1 &lt;dbl&gt; | X0.124152683474717 &lt;dbl&gt; | X0.116638033426656 &lt;dbl&gt; | X0.0346376787054753 &lt;dbl&gt; | X0.149155425932677 &lt;dbl&gt; | X0.0354150759311105 &lt;dbl&gt; | X0.162328350953943 &lt;dbl&gt; |\n",
       "|---|---|---|---|---|---|---|---|---|\n",
       "| 0_0 | 0 | 0 | 0.12415268 | 0.11663803 | 0.03463768 | 0.14915543 | 0.03541508 | 0.16232835 |\n",
       "| 0_1 | 0 | 1 | 0.15128395 | 0.11636591 | 0.03636195 | 0.16774838 | 0.03285668 | 0.19706155 |\n",
       "| 0_2 | 0 | 2 | 0.11681692 | 0.08902493 | 0.02839806 | 0.12873985 | 0.02594028 | 0.15430967 |\n",
       "| 0_3 | 0 | 3 | 0.09104819 | 0.06901278 | 0.02299774 | 0.10071748 | 0.02111034 | 0.12197103 |\n",
       "| 0_4 | 0 | 4 | 0.07239133 | 0.05439517 | 0.01792372 | 0.07883593 | 0.01646939 | 0.09640508 |\n",
       "| 0_5 | 0 | 5 | 0.05619684 | 0.04160703 | 0.01308958 | 0.05902129 | 0.01241055 | 0.07558212 |\n",
       "\n"
      ],
      "text/plain": [
       "    X0 X0.1 X0.124152683474717 X0.116638033426656 X0.0346376787054753\n",
       "0_0 0  0    0.12415268         0.11663803         0.03463768         \n",
       "0_1 0  1    0.15128395         0.11636591         0.03636195         \n",
       "0_2 0  2    0.11681692         0.08902493         0.02839806         \n",
       "0_3 0  3    0.09104819         0.06901278         0.02299774         \n",
       "0_4 0  4    0.07239133         0.05439517         0.01792372         \n",
       "0_5 0  5    0.05619684         0.04160703         0.01308958         \n",
       "    X0.149155425932677 X0.0354150759311105 X0.162328350953943\n",
       "0_0 0.14915543         0.03541508          0.16232835        \n",
       "0_1 0.16774838         0.03285668          0.19706155        \n",
       "0_2 0.12873985         0.02594028          0.15430967        \n",
       "0_3 0.10071748         0.02111034          0.12197103        \n",
       "0_4 0.07883593         0.01646939          0.09640508        \n",
       "0_5 0.05902129         0.01241055          0.07558212        "
      ]
     },
     "metadata": {},
     "output_type": "display_data"
    }
   ],
   "source": [
    "rownames(all_rows) <- paste0(all_rows[,1],\"_\",all_rows[,2])"
   ]
  },
  {
   "cell_type": "code",
   "execution_count": 53,
   "metadata": {
    "vscode": {
     "languageId": "r"
    }
   },
   "outputs": [],
   "source": [
    "all_rows <- all_rows[,-c(1,2)]"
   ]
  },
  {
   "cell_type": "code",
   "execution_count": 55,
   "metadata": {
    "vscode": {
     "languageId": "r"
    }
   },
   "outputs": [],
   "source": [
    "write.table(all_rows,\"/disk1/wenqing/tmp_data/PFC_s2/all_analysis_result/res_stats/res_overlap_accordToAdDp.txt\",quote=F,col.names=F,sep='\\t')"
   ]
  },
  {
   "cell_type": "code",
   "execution_count": null,
   "metadata": {
    "vscode": {
     "languageId": "r"
    }
   },
   "outputs": [],
   "source": [
    "        print(\"GABA and neuron\")\n",
    "        neuron_GABA_inter_GABA_prop <- length(intersect(sub_res_all_GABA,sub_res_all_neuron))/length(sub_res_all_GABA)\n",
    "        neuron_GABA_inter_neuron_prop <- length(intersect(sub_res_all_GABA,sub_res_all_neuron))/length(sub_res_all_neuron)\n",
    "        print(\"GABA and OPC\")\n",
    "        opc_GABA_inter_GABA_prop <- length(intersect(sub_res_all_GABA,sub_res_all_opc))/length(sub_res_all_GABA)\n",
    "        opc_GABA_inter_opc_prop <- length(intersect(sub_res_all_GABA,sub_res_all_opc))/length(sub_res_all_opc)\n",
    "        print(\"neuron and OPC\")\n",
    "        opc_neuron_inter_neuron_prop <- length(intersect(sub_res_all_neuron,sub_res_all_opc))/length(sub_res_all_neuron)\n",
    "        opc_neuron_inter_opc_prop <- length(intersect(sub_res_all_neuron,sub_res_all_opc))/length(sub_res_all_opc)\n",
    "\n",
    "        this_row <- c(ad_filter_idx,dp_filter_idx,neuron_GABA_inter_GABA_prop,neuron_GABA_inter_neuron_prop,\n",
    "                    opc_GABA_inter_GABA_prop,opc_GABA_inter_opc_prop,opc_neuron_inter_neuron_prop,opc_neuron_inter_opc_prop)\n",
    "        all_rows <- rbind(all_rows,this_row)"
   ]
  },
  {
   "cell_type": "code",
   "execution_count": 27,
   "metadata": {
    "vscode": {
     "languageId": "r"
    }
   },
   "outputs": [
    {
     "data": {
      "text/html": [
       "47281"
      ],
      "text/latex": [
       "47281"
      ],
      "text/markdown": [
       "47281"
      ],
      "text/plain": [
       "[1] 47281"
      ]
     },
     "metadata": {},
     "output_type": "display_data"
    }
   ],
   "source": [
    "#GABA\n",
    "input_res_16 <- read.table(\"/disk1/wenqing/tmp_data/PFC_s2/result/GW16_1_4/GABAergic_neurons/SPRINT_identified_all.res\",header=F)\n",
    "input_res_19 <- read.table(\"/disk1/wenqing/tmp_data/PFC_s2/result/GW19_1_1/GABAergic_neurons/SPRINT_identified_all.res\",header=F)\n",
    "input_res_23 <- read.table(\"/disk1/wenqing/tmp_data/PFC_s2/result/GW23_1_2/GABAergic_neurons/SPRINT_identified_all.res\",header=F)\n",
    "input_res_26 <- read.table(\"/disk1/wenqing/tmp_data/PFC_s2/result/GW26_1_1/GABAergic_neurons/SPRINT_identified_all.res\",header=F)\n",
    "\n",
    "all_input_res <- rbind(input_res_16,input_res_19)\n",
    "all_input_res <- rbind(all_input_res,input_res_23)\n",
    "all_input_res <- rbind(all_input_res,input_res_26)\n",
    "#对res的dp和ad做一定过滤\n",
    "ad_filter_idx = 3\n",
    "dp_filter_idx = 10\n",
    "filtered_idx <- c()\n",
    "\n",
    "for(i in 1:nrow(all_input_res)){\n",
    "    tmp_ad = strsplit(all_input_res[i,7],\":\")[[1]][1]\n",
    "    tmp_dp = strsplit(all_input_res[i,7],\":\")[[1]][2]\n",
    "    if(tmp_ad > ad_filter_idx & tmp_dp > dp_filter_idx){\n",
    "        filtered_idx <- c(filtered_idx,i)\n",
    "    }\n",
    "}\n",
    "res_all <- paste0(all_input_res[,1],\"_\",all_input_res[,3])\n",
    "sub_res_all_GABA <- unique(res_all[filtered_idx])"
   ]
  },
  {
   "cell_type": "code",
   "execution_count": 29,
   "metadata": {
    "vscode": {
     "languageId": "r"
    }
   },
   "outputs": [],
   "source": [
    "#neuron\n",
    "input_res_16 <- read.table(\"/disk1/wenqing/tmp_data/PFC_s2/result/GW16_1_4/Neurons/SPRINT_identified_all.res\",header=F)\n",
    "input_res_19 <- read.table(\"/disk1/wenqing/tmp_data/PFC_s2/result/GW19_1_1/Neurons/SPRINT_identified_all.res\",header=F)\n",
    "input_res_23 <- read.table(\"/disk1/wenqing/tmp_data/PFC_s2/result/GW23_1_2/Neurons/SPRINT_identified_all.res\",header=F)\n",
    "input_res_26 <- read.table(\"/disk1/wenqing/tmp_data/PFC_s2/result/GW26_1_1/Neurons/SPRINT_identified_all.res\",header=F)\n",
    "\n",
    "all_input_res <- rbind(input_res_16,input_res_19)\n",
    "all_input_res <- rbind(all_input_res,input_res_23)\n",
    "all_input_res <- rbind(all_input_res,input_res_26)\n",
    "#对res的dp和ad做一定过滤\n",
    "ad_filter_idx = 3\n",
    "dp_filter_idx = 10\n",
    "filtered_idx <- c()\n",
    "\n",
    "for(i in 1:nrow(all_input_res)){\n",
    "    tmp_ad = strsplit(all_input_res[i,7],\":\")[[1]][1]\n",
    "    tmp_dp = strsplit(all_input_res[i,7],\":\")[[1]][2]\n",
    "    if(tmp_ad > ad_filter_idx & tmp_dp > dp_filter_idx){\n",
    "        filtered_idx <- c(filtered_idx,i)\n",
    "    }\n",
    "}\n",
    "res_all <- paste0(all_input_res[,1],\"_\",all_input_res[,3])\n",
    "sub_res_all_neuron <- unique(res_all[filtered_idx])"
   ]
  },
  {
   "cell_type": "code",
   "execution_count": 30,
   "metadata": {
    "vscode": {
     "languageId": "r"
    }
   },
   "outputs": [],
   "source": [
    "#opc\n",
    "input_res_16 <- read.table(\"/disk1/wenqing/tmp_data/PFC_s2/result/GW16_1_4/OPC/SPRINT_identified_all.res\",header=F)\n",
    "input_res_19 <- read.table(\"/disk1/wenqing/tmp_data/PFC_s2/result/GW19_1_1/OPC/SPRINT_identified_all.res\",header=F)\n",
    "input_res_23 <- read.table(\"/disk1/wenqing/tmp_data/PFC_s2/result/GW23_1_2/OPC/SPRINT_identified_all.res\",header=F)\n",
    "input_res_26 <- read.table(\"/disk1/wenqing/tmp_data/PFC_s2/result/GW26_1_1/OPC/SPRINT_identified_all.res\",header=F)\n",
    "\n",
    "all_input_res <- rbind(input_res_16,input_res_19)\n",
    "all_input_res <- rbind(all_input_res,input_res_23)\n",
    "all_input_res <- rbind(all_input_res,input_res_26)\n",
    "#对res的dp和ad做一定过滤\n",
    "ad_filter_idx = 3\n",
    "dp_filter_idx = 10\n",
    "filtered_idx <- c()\n",
    "\n",
    "for(i in 1:nrow(all_input_res)){\n",
    "    tmp_ad = strsplit(all_input_res[i,7],\":\")[[1]][1]\n",
    "    tmp_dp = strsplit(all_input_res[i,7],\":\")[[1]][2]\n",
    "    if(tmp_ad > ad_filter_idx & tmp_dp > dp_filter_idx){\n",
    "        filtered_idx <- c(filtered_idx,i)\n",
    "    }\n",
    "}\n",
    "res_all <- paste0(all_input_res[,1],\"_\",all_input_res[,3])\n",
    "sub_res_all_opc <- unique(res_all[filtered_idx])"
   ]
  },
  {
   "cell_type": "code",
   "execution_count": 31,
   "metadata": {
    "vscode": {
     "languageId": "r"
    }
   },
   "outputs": [
    {
     "data": {
      "text/html": [
       "47281"
      ],
      "text/latex": [
       "47281"
      ],
      "text/markdown": [
       "47281"
      ],
      "text/plain": [
       "[1] 47281"
      ]
     },
     "metadata": {},
     "output_type": "display_data"
    },
    {
     "data": {
      "text/html": [
       "61321"
      ],
      "text/latex": [
       "61321"
      ],
      "text/markdown": [
       "61321"
      ],
      "text/plain": [
       "[1] 61321"
      ]
     },
     "metadata": {},
     "output_type": "display_data"
    },
    {
     "data": {
      "text/html": [
       "10852"
      ],
      "text/latex": [
       "10852"
      ],
      "text/markdown": [
       "10852"
      ],
      "text/plain": [
       "[1] 10852"
      ]
     },
     "metadata": {},
     "output_type": "display_data"
    }
   ],
   "source": [
    "length(sub_res_all_GABA)\n",
    "length(sub_res_all_neuron)\n",
    "length(sub_res_all_opc)\n"
   ]
  },
  {
   "cell_type": "code",
   "execution_count": 28,
   "metadata": {
    "vscode": {
     "languageId": "r"
    }
   },
   "outputs": [],
   "source": [
    "all_row <- data.frame()\n",
    "for(ad_filter_idx in c(3,4,5,6,7,8,9,10)){\n",
    "    for(dp_filter_idx in c(11,12,13,14,15,16,17,18,19,20)){\n",
    "        for(celltype in c(\"GABA\",\"neuron\",\"opc\")){\n",
    "            res_stat <- read.table(paste0(\"/disk1/wenqing/tmp_data/PFC_s2/all_analysis_result/res_stats/result/\",ad_filter_idx,\"_\",dp_filter_idx,\"_\",celltype,\"_all.res.txt\"))\n",
    "            #this_row <- c(celltype,paste0(ad_filter_idx,\"_\",dp_filter_idx),res_stat[13,3],res_stat[6,3]+res_stat[7,3])\n",
    "            this_row <- c(celltype,paste0(ad_filter_idx,\"_\",dp_filter_idx),res_stat[13,2],res_stat[14,2])\n",
    "            all_row <- rbind(all_row,this_row)\n",
    "        }\n",
    "    }\n",
    "}"
   ]
  },
  {
   "cell_type": "code",
   "execution_count": 29,
   "metadata": {
    "vscode": {
     "languageId": "r"
    }
   },
   "outputs": [],
   "source": [
    "#colnames(all_row) <- c('celltype','ad_dp','AG_TC','CT_GA')\n",
    "colnames(all_row) <- c('celltype','ad_dp','AG_TC_num','Total_res_num')"
   ]
  },
  {
   "cell_type": "code",
   "execution_count": 25,
   "metadata": {
    "vscode": {
     "languageId": "r"
    }
   },
   "outputs": [],
   "source": [
    "write.table(all_row,\"/disk1/wenqing/tmp_data/PFC_s2/all_analysis_result/res_stats/result/res_stats_accordToAdDp.txt\",quote=F,sep='\\t',row.names=F)"
   ]
  },
  {
   "cell_type": "code",
   "execution_count": 1,
   "metadata": {
    "vscode": {
     "languageId": "r"
    }
   },
   "outputs": [
    {
     "ename": "ERROR",
     "evalue": "Error in eval(expr, envir, enclos): object 'all_row' not found\n",
     "output_type": "error",
     "traceback": [
      "Error in eval(expr, envir, enclos): object 'all_row' not found\nTraceback:\n",
      "1. reshape2::melt(all_row, id.vars = c(\"celltype\", \"ad_dp\"))"
     ]
    }
   ],
   "source": [
    "df_long <- reshape2::melt(all_row, id.vars = c(\"celltype\", \"ad_dp\"))"
   ]
  },
  {
   "cell_type": "code",
   "execution_count": 31,
   "metadata": {
    "vscode": {
     "languageId": "r"
    }
   },
   "outputs": [],
   "source": [
    "# ... 上述代码保持不变 ...\n",
    "\n",
    "# 在绘制图形之前，先对ad_dp进行排序\n",
    "df_long$ad_dp <- factor(df_long$ad_dp, levels = unique(all_row[,2]), ordered = TRUE)\n",
    "df_long$value <- as.numeric(df_long$value)\n",
    "# 指定颜色\n",
    "#colors <- c(\"AG_TC\" = \"#840dd3\",\"CT_GA\" = \"#04c49c\") # 自定义颜色，这里举例红色和蓝色\n",
    "colors <- c(\"AG_TC_num\" = \"#840dd3\",\"Total_res_num\" = \"#04c49c\")\n"
   ]
  },
  {
   "cell_type": "code",
   "execution_count": 32,
   "metadata": {
    "vscode": {
     "languageId": "r"
    }
   },
   "outputs": [
    {
     "data": {
      "image/png": "[encoded data removed]",
      "text/plain": [
       "plot without title"
      ]
     },
     "metadata": {
      "image/png": {
       "height": 420,
       "width": 420
      }
     },
     "output_type": "display_data"
    }
   ],
   "source": [
    "\n",
    "# 使用ggplot2绘制分组柱状图，加入颜色指定\n",
    "ggplot(df_long, aes(x = ad_dp, y = value, fill = variable)) +\n",
    "  geom_bar(stat = \"identity\", position = \"dodge\") +\n",
    "  scale_fill_manual(values = colors) + # 指定颜色\n",
    "  facet_wrap(~ celltype, ncol = 1, scales = \"free_x\") +\n",
    "  labs(title = \"Grouped Bar Chart by Cell Type and ad_dp\",\n",
    "       x = \"ad_dp Groups\", y = \"Values\", fill = \"\") +\n",
    "  theme_bw() +\n",
    "  theme(\n",
    "        axis.text.x = element_blank(),  # 移除x轴的刻度标签\n",
    "        axis.ticks.x = element_blank()) +\n",
    "  guides(fill = guide_legend(reverse = TRUE)) # 如果需要按特定顺序显示图例，可以调整这里"
   ]
  }
 ],
 "metadata": {
  "kernelspec": {
   "display_name": "R",
   "language": "R",
   "name": "ir"
  },
  "language_info": {
   "codemirror_mode": "r",
   "file_extension": ".r",
   "mimetype": "text/x-r-source",
   "name": "R",
   "pygments_lexer": "r",
   "version": "4.3.1"
  },
  "orig_nbformat": 4,
  "vscode": {
   "interpreter": {
    "hash": "4587f8d71e481bac2dbb4139bf1f5d6af8d88103a069ab0b4e862134521318f6"
   }
  }
 },
 "nbformat": 4,
 "nbformat_minor": 2
}
