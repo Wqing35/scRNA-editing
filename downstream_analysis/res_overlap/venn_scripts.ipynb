{
 "cells": [
  {
   "cell_type": "code",
   "execution_count": 1,
   "metadata": {
    "vscode": {
     "languageId": "r"
    }
   },
   "outputs": [],
   "source": [
    ".libPaths(\"/disk1/wenqing/anaconda3/envs/wq_R4.2/lib/R/library\")"
   ]
  },
  {
   "cell_type": "code",
   "execution_count": 2,
   "metadata": {
    "vscode": {
     "languageId": "r"
    }
   },
   "outputs": [],
   "source": [
    "setwd(\"/disk1/wenqing/tmp_data/PFC_s2/all_analysis_result/res_overlap/filterSNVBy10_ver\")"
   ]
  },
  {
   "cell_type": "code",
   "execution_count": 1,
   "metadata": {
    "vscode": {
     "languageId": "r"
    }
   },
   "outputs": [],
   "source": [
    "##input\n",
    "#GABA\n",
    "input_res_08 <- read.table(\"/disk1/wenqing/tmp_data/PFC_s2/filter_snv_for_new_res/GW08/GABAergic_neurons/regular.res.depth\",header=F)\n",
    "input_res_12 <- read.table(\"/disk1/wenqing/tmp_data/PFC_s2/filter_snv_for_new_res/GW12/GABAergic_neurons/regular.res.depth\",header=F)\n",
    "input_res_16_1_3 <- read.table(\"/disk1/wenqing/tmp_data/PFC_s2/filter_snv_for_new_res/GW16_1_3/GABAergic_neurons/regular.res.depth\",header=F)\n",
    "input_res_16_1_4 <- read.table(\"/disk1/wenqing/tmp_data/PFC_s2/filter_snv_for_new_res/GW16_1_4/GABAergic_neurons/regular.res.depth\",header=F)\n",
    "input_res_16_1_9 <- read.table(\"/disk1/wenqing/tmp_data/PFC_s2/filter_snv_for_new_res/GW16_1_9/GABAergic_neurons/regular.res.depth\",header=F)\n",
    "input_res_19_1_1 <- read.table(\"/disk1/wenqing/tmp_data/PFC_s2/filter_snv_for_new_res/GW19_1_1/GABAergic_neurons/regular.res.depth\",header=F)\n",
    "input_res_19_1_2 <- read.table(\"/disk1/wenqing/tmp_data/PFC_s2/filter_snv_for_new_res/GW19_1_2/GABAergic_neurons/regular.res.depth\",header=F)\n",
    "input_res_19_1_3 <- read.table(\"/disk1/wenqing/tmp_data/PFC_s2/filter_snv_for_new_res/GW19_1_3/GABAergic_neurons/regular.res.depth\",header=F)\n",
    "input_res_23_1_1 <- read.table(\"/disk1/wenqing/tmp_data/PFC_s2/filter_snv_for_new_res/GW23_1_1/GABAergic_neurons/regular.res.depth\",header=F)\n",
    "input_res_23_1_2 <- read.table(\"/disk1/wenqing/tmp_data/PFC_s2/filter_snv_for_new_res/GW23_1_2/GABAergic_neurons/regular.res.depth\",header=F)\n",
    "input_res_23_1_3 <- read.table(\"/disk1/wenqing/tmp_data/PFC_s2/filter_snv_for_new_res/GW23_1_3/GABAergic_neurons/regular.res.depth\",header=F)\n",
    "input_res_26_1_1 <- read.table(\"/disk1/wenqing/tmp_data/PFC_s2/filter_snv_for_new_res/GW26_1_1/GABAergic_neurons/regular.res.depth\",header=F)\n",
    "\n",
    "\n",
    "res_08 <- paste0(input_res_08[,1],\"_\",input_res_08[,3])\n",
    "res_12 <- paste0(input_res_12[,1],\"_\",input_res_12[,3])\n",
    "res_16_1_3 <- paste0(input_res_16_1_3[,1],\"_\",input_res_16_1_3[,3])\n",
    "res_16_1_4 <- paste0(input_res_16_1_4[,1],\"_\",input_res_16_1_4[,3])\n",
    "res_16_1_9 <- paste0(input_res_16_1_9[,1],\"_\",input_res_16_1_9[,3])\n",
    "res_19_1_1 <- paste0(input_res_19_1_1[,1],\"_\",input_res_19_1_1[,3])\n",
    "res_19_1_2 <- paste0(input_res_19_1_2[,1],\"_\",input_res_19_1_2[,3])\n",
    "res_19_1_3 <- paste0(input_res_19_1_3[,1],\"_\",input_res_19_1_3[,3])\n",
    "res_23_1_1 <- paste0(input_res_23_1_1[,1],\"_\",input_res_23_1_1[,3])\n",
    "res_23_1_2 <- paste0(input_res_23_1_2[,1],\"_\",input_res_23_1_2[,3])\n",
    "res_23_1_3 <- paste0(input_res_23_1_3[,1],\"_\",input_res_23_1_3[,3])\n",
    "res_26_1_1 <- paste0(input_res_26_1_1[,1],\"_\",input_res_26_1_1[,3])\n",
    "\n",
    "GABA_res_union_4samples <- union(res_08,res_12)\n",
    "GABA_res_union_4samples <- union(GABA_res_union_4samples,res_16_1_3)\n",
    "GABA_res_union_4samples <- union(GABA_res_union_4samples,res_16_1_4)\n",
    "GABA_res_union_4samples <- union(GABA_res_union_4samples,res_16_1_9)\n",
    "GABA_res_union_4samples <- union(GABA_res_union_4samples,res_19_1_1)\n",
    "GABA_res_union_4samples <- union(GABA_res_union_4samples,res_19_1_2)\n",
    "GABA_res_union_4samples <- union(GABA_res_union_4samples,res_19_1_3)\n",
    "GABA_res_union_4samples <- union(GABA_res_union_4samples,res_23_1_1)\n",
    "GABA_res_union_4samples <- union(GABA_res_union_4samples,res_23_1_2)\n",
    "GABA_res_union_4samples <- union(GABA_res_union_4samples,res_23_1_3)\n",
    "GABA_res_union_4samples <- union(GABA_res_union_4samples,res_26_1_1)\n"
   ]
  },
  {
   "cell_type": "code",
   "execution_count": 2,
   "metadata": {
    "vscode": {
     "languageId": "r"
    }
   },
   "outputs": [
    {
     "data": {
      "text/html": [
       "52432"
      ],
      "text/latex": [
       "52432"
      ],
      "text/markdown": [
       "52432"
      ],
      "text/plain": [
       "[1] 52432"
      ]
     },
     "metadata": {},
     "output_type": "display_data"
    }
   ],
   "source": [
    "length(GABA_res_union_4samples)"
   ]
  },
  {
   "cell_type": "code",
   "execution_count": 3,
   "metadata": {
    "vscode": {
     "languageId": "r"
    }
   },
   "outputs": [
    {
     "data": {
      "text/html": [
       "128135"
      ],
      "text/latex": [
       "128135"
      ],
      "text/markdown": [
       "128135"
      ],
      "text/plain": [
       "[1] 128135"
      ]
     },
     "metadata": {},
     "output_type": "display_data"
    }
   ],
   "source": [
    "##input\n",
    "#neuron\n",
    "input_res_08 <- read.table(\"/disk1/wenqing/tmp_data/PFC_s2/filter_snv_for_new_res/GW08/Neurons/regular.res.depth\",header=F)\n",
    "input_res_12 <- read.table(\"/disk1/wenqing/tmp_data/PFC_s2/filter_snv_for_new_res/GW12/Neurons/regular.res.depth\",header=F)\n",
    "input_res_16_1_3 <- read.table(\"/disk1/wenqing/tmp_data/PFC_s2/filter_snv_for_new_res/GW16_1_3/Neurons/regular.res.depth\",header=F)\n",
    "input_res_16_1_4 <- read.table(\"/disk1/wenqing/tmp_data/PFC_s2/filter_snv_for_new_res/GW16_1_4/Neurons/regular.res.depth\",header=F)\n",
    "input_res_16_1_9 <- read.table(\"/disk1/wenqing/tmp_data/PFC_s2/filter_snv_for_new_res/GW16_1_9/Neurons/regular.res.depth\",header=F)\n",
    "input_res_19_1_1 <- read.table(\"/disk1/wenqing/tmp_data/PFC_s2/filter_snv_for_new_res/GW19_1_1/Neurons/regular.res.depth\",header=F)\n",
    "input_res_19_1_2 <- read.table(\"/disk1/wenqing/tmp_data/PFC_s2/filter_snv_for_new_res/GW19_1_2/Neurons/regular.res.depth\",header=F)\n",
    "input_res_19_1_3 <- read.table(\"/disk1/wenqing/tmp_data/PFC_s2/filter_snv_for_new_res/GW19_1_3/Neurons/regular.res.depth\",header=F)\n",
    "input_res_23_1_1 <- read.table(\"/disk1/wenqing/tmp_data/PFC_s2/filter_snv_for_new_res/GW23_1_1/Neurons/regular.res.depth\",header=F)\n",
    "input_res_23_1_2 <- read.table(\"/disk1/wenqing/tmp_data/PFC_s2/filter_snv_for_new_res/GW23_1_2/Neurons/regular.res.depth\",header=F)\n",
    "input_res_23_1_3 <- read.table(\"/disk1/wenqing/tmp_data/PFC_s2/filter_snv_for_new_res/GW23_1_3/Neurons/regular.res.depth\",header=F)\n",
    "input_res_26_1_1 <- read.table(\"/disk1/wenqing/tmp_data/PFC_s2/filter_snv_for_new_res/GW26_1_1/Neurons/regular.res.depth\",header=F)\n",
    "\n",
    "\n",
    "res_08 <- paste0(input_res_08[,1],\"_\",input_res_08[,3])\n",
    "res_12 <- paste0(input_res_12[,1],\"_\",input_res_12[,3])\n",
    "res_16_1_3 <- paste0(input_res_16_1_3[,1],\"_\",input_res_16_1_3[,3])\n",
    "res_16_1_4 <- paste0(input_res_16_1_4[,1],\"_\",input_res_16_1_4[,3])\n",
    "res_16_1_9 <- paste0(input_res_16_1_9[,1],\"_\",input_res_16_1_9[,3])\n",
    "res_19_1_1 <- paste0(input_res_19_1_1[,1],\"_\",input_res_19_1_1[,3])\n",
    "res_19_1_2 <- paste0(input_res_19_1_2[,1],\"_\",input_res_19_1_2[,3])\n",
    "res_19_1_3 <- paste0(input_res_19_1_3[,1],\"_\",input_res_19_1_3[,3])\n",
    "res_23_1_1 <- paste0(input_res_23_1_1[,1],\"_\",input_res_23_1_1[,3])\n",
    "res_23_1_2 <- paste0(input_res_23_1_2[,1],\"_\",input_res_23_1_2[,3])\n",
    "res_23_1_3 <- paste0(input_res_23_1_3[,1],\"_\",input_res_23_1_3[,3])\n",
    "res_26_1_1 <- paste0(input_res_26_1_1[,1],\"_\",input_res_26_1_1[,3])\n",
    "\n",
    "neuron_res_union_4samples <- union(res_08,res_12)\n",
    "neuron_res_union_4samples <- union(neuron_res_union_4samples,res_16_1_3)\n",
    "neuron_res_union_4samples <- union(neuron_res_union_4samples,res_16_1_4)\n",
    "neuron_res_union_4samples <- union(neuron_res_union_4samples,res_16_1_9)\n",
    "neuron_res_union_4samples <- union(neuron_res_union_4samples,res_19_1_1)\n",
    "neuron_res_union_4samples <- union(neuron_res_union_4samples,res_19_1_2)\n",
    "neuron_res_union_4samples <- union(neuron_res_union_4samples,res_19_1_3)\n",
    "neuron_res_union_4samples <- union(neuron_res_union_4samples,res_23_1_1)\n",
    "neuron_res_union_4samples <- union(neuron_res_union_4samples,res_23_1_2)\n",
    "neuron_res_union_4samples <- union(neuron_res_union_4samples,res_23_1_3)\n",
    "neuron_res_union_4samples <- union(neuron_res_union_4samples,res_26_1_1)\n",
    "length(neuron_res_union_4samples)"
   ]
  },
  {
   "cell_type": "code",
   "execution_count": 7,
   "metadata": {
    "vscode": {
     "languageId": "r"
    }
   },
   "outputs": [],
   "source": [
    "##input\n",
    "#opc\n",
    "input_res_16 <- read.table(\"/disk1/wenqing/tmp_data/PFC_s2/filter_snv_for_new_res/GW16_1_4/OPC/regular.res.depth\",header=F)\n",
    "input_res_19 <- read.table(\"/disk1/wenqing/tmp_data/PFC_s2/filter_snv_for_new_res/GW19_1_1/OPC/regular.res.depth\",header=F)\n",
    "input_res_23 <- read.table(\"/disk1/wenqing/tmp_data/PFC_s2/filter_snv_for_new_res/GW23_1_2/OPC/regular.res.depth\",header=F)\n",
    "input_res_26 <- read.table(\"/disk1/wenqing/tmp_data/PFC_s2/filter_snv_for_new_res/GW26_1_1/OPC/regular.res.depth\",header=F)\n",
    "\n",
    "res_16 <- paste0(input_res_16[,1],\"_\",input_res_16[,3])\n",
    "res_19 <- paste0(input_res_19[,1],\"_\",input_res_19[,3])\n",
    "res_23 <- paste0(input_res_23[,1],\"_\",input_res_23[,3])\n",
    "res_26 <- paste0(input_res_26[,1],\"_\",input_res_26[,3])\n",
    "\n",
    "opc_res_union_4samples <- union(res_16,res_19)\n",
    "opc_res_union_4samples <- union(opc_res_union_4samples,res_23)\n",
    "opc_res_union_4samples <- union(opc_res_union_4samples,res_26)"
   ]
  },
  {
   "cell_type": "code",
   "execution_count": 8,
   "metadata": {
    "vscode": {
     "languageId": "r"
    }
   },
   "outputs": [
    {
     "data": {
      "text/html": [
       "42189"
      ],
      "text/latex": [
       "42189"
      ],
      "text/markdown": [
       "42189"
      ],
      "text/plain": [
       "[1] 42189"
      ]
     },
     "metadata": {},
     "output_type": "display_data"
    },
    {
     "data": {
      "text/html": [
       "33444"
      ],
      "text/latex": [
       "33444"
      ],
      "text/markdown": [
       "33444"
      ],
      "text/plain": [
       "[1] 33444"
      ]
     },
     "metadata": {},
     "output_type": "display_data"
    },
    {
     "data": {
      "text/html": [
       "7208"
      ],
      "text/latex": [
       "7208"
      ],
      "text/markdown": [
       "7208"
      ],
      "text/plain": [
       "[1] 7208"
      ]
     },
     "metadata": {},
     "output_type": "display_data"
    }
   ],
   "source": [
    "length(neuron_res_union_4samples)\n",
    "length(GABA_res_union_4samples)\n",
    "length(opc_res_union_4samples)\n"
   ]
  },
  {
   "cell_type": "code",
   "execution_count": 13,
   "metadata": {
    "vscode": {
     "languageId": "r"
    }
   },
   "outputs": [
    {
     "data": {
      "text/html": [
       "0.105074782526251"
      ],
      "text/latex": [
       "0.105074782526251"
      ],
      "text/markdown": [
       "0.105074782526251"
      ],
      "text/plain": [
       "[1] 0.1050748"
      ]
     },
     "metadata": {},
     "output_type": "display_data"
    },
    {
     "data": {
      "text/html": [
       "0.132549934218395"
      ],
      "text/latex": [
       "0.132549934218395"
      ],
      "text/markdown": [
       "0.132549934218395"
      ],
      "text/plain": [
       "[1] 0.1325499"
      ]
     },
     "metadata": {},
     "output_type": "display_data"
    },
    {
     "data": {
      "text/html": [
       "0.028943906231312"
      ],
      "text/latex": [
       "0.028943906231312"
      ],
      "text/markdown": [
       "0.028943906231312"
      ],
      "text/plain": [
       "[1] 0.02894391"
      ]
     },
     "metadata": {},
     "output_type": "display_data"
    },
    {
     "data": {
      "text/html": [
       "0.134295227524972"
      ],
      "text/latex": [
       "0.134295227524972"
      ],
      "text/markdown": [
       "0.134295227524972"
      ],
      "text/plain": [
       "[1] 0.1342952"
      ]
     },
     "metadata": {},
     "output_type": "display_data"
    },
    {
     "data": {
      "text/html": [
       "0.0275427244068359"
      ],
      "text/latex": [
       "0.0275427244068359"
      ],
      "text/markdown": [
       "0.0275427244068359"
      ],
      "text/plain": [
       "[1] 0.02754272"
      ]
     },
     "metadata": {},
     "output_type": "display_data"
    },
    {
     "data": {
      "text/html": [
       "0.161209766925638"
      ],
      "text/latex": [
       "0.161209766925638"
      ],
      "text/markdown": [
       "0.161209766925638"
      ],
      "text/plain": [
       "[1] 0.1612098"
      ]
     },
     "metadata": {},
     "output_type": "display_data"
    }
   ],
   "source": [
    "length(intersect(neuron_res_union_4samples,GABA_res_union_4samples))/length(neuron_res_union_4samples)\n",
    "length(intersect(neuron_res_union_4samples,GABA_res_union_4samples))/length(GABA_res_union_4samples)\n",
    "length(intersect(opc_res_union_4samples,GABA_res_union_4samples))/length(GABA_res_union_4samples)\n",
    "length(intersect(opc_res_union_4samples,GABA_res_union_4samples))/length(opc_res_union_4samples)\n",
    "length(intersect(opc_res_union_4samples,neuron_res_union_4samples))/length(neuron_res_union_4samples)\n",
    "length(intersect(opc_res_union_4samples,neuron_res_union_4samples))/length(opc_res_union_4samples)\n"
   ]
  },
  {
   "cell_type": "code",
   "execution_count": 9,
   "metadata": {
    "vscode": {
     "languageId": "r"
    }
   },
   "outputs": [
    {
     "name": "stderr",
     "output_type": "stream",
     "text": [
      "Loading required package: grid\n",
      "\n",
      "Loading required package: futile.logger\n",
      "\n"
     ]
    }
   ],
   "source": [
    "#预期应是overlap较多\n",
    "library(VennDiagram)\n",
    "library(colorspace)\n",
    "colors=c(\"#840dd3\",\"#04c49c\",\"#2759bd\")"
   ]
  },
  {
   "cell_type": "code",
   "execution_count": 18,
   "metadata": {
    "vscode": {
     "languageId": "r"
    }
   },
   "outputs": [
    {
     "data": {
      "text/html": [
       "1"
      ],
      "text/latex": [
       "1"
      ],
      "text/markdown": [
       "1"
      ],
      "text/plain": [
       "[1] 1"
      ]
     },
     "metadata": {},
     "output_type": "display_data"
    }
   ],
   "source": [
    "venn.diagram(\n",
    "    x = list(\n",
    "      \"GABA\" = GABA_res_union_4samples,\n",
    "      #\"18\" = res_dat2[[one]],\n",
    "      \"Neurons\" = neuron_res_union_4samples,\n",
    "      #\"22\" = res_dat4[[one]],\n",
    "      \"OPC\" = opc_res_union_4samples\n",
    "    ),\n",
    "    filename = paste0(\"./res_overlap_3celltypes.jpeg\"),\n",
    "    col = colors,\n",
    "    cat.col = colors,\n",
    "    cat.cex = 1.3,\n",
    "    cat.dist = c(0.08,0.08,0.08),\n",
    "    #cat.pos = c(11,1,6),\n",
    "    cex = 1.3\n",
    ")\n"
   ]
  },
  {
   "cell_type": "code",
   "execution_count": 50,
   "metadata": {
    "vscode": {
     "languageId": "r"
    }
   },
   "outputs": [
    {
     "data": {
      "text/html": [
       "64178"
      ],
      "text/latex": [
       "64178"
      ],
      "text/markdown": [
       "64178"
      ],
      "text/plain": [
       "[1] 64178"
      ]
     },
     "metadata": {},
     "output_type": "display_data"
    },
    {
     "data": {
      "text/html": [
       "23333"
      ],
      "text/latex": [
       "23333"
      ],
      "text/markdown": [
       "23333"
      ],
      "text/plain": [
       "[1] 23333"
      ]
     },
     "metadata": {},
     "output_type": "display_data"
    },
    {
     "data": {
      "text/html": [
       "24060"
      ],
      "text/latex": [
       "24060"
      ],
      "text/markdown": [
       "24060"
      ],
      "text/plain": [
       "[1] 24060"
      ]
     },
     "metadata": {},
     "output_type": "display_data"
    },
    {
     "data": {
      "text/html": [
       "0.594251745402693"
      ],
      "text/latex": [
       "0.594251745402693"
      ],
      "text/markdown": [
       "0.594251745402693"
      ],
      "text/plain": [
       "[1] 0.5942517"
      ]
     },
     "metadata": {},
     "output_type": "display_data"
    },
    {
     "data": {
      "text/html": [
       "0.584850638817504"
      ],
      "text/latex": [
       "0.584850638817504"
      ],
      "text/markdown": [
       "0.584850638817504"
      ],
      "text/plain": [
       "[1] 0.5848506"
      ]
     },
     "metadata": {},
     "output_type": "display_data"
    },
    {
     "data": {
      "text/html": [
       "0.216050297227726"
      ],
      "text/latex": [
       "0.216050297227726"
      ],
      "text/markdown": [
       "0.216050297227726"
      ],
      "text/plain": [
       "[1] 0.2160503"
      ]
     },
     "metadata": {},
     "output_type": "display_data"
    },
    {
     "data": {
      "text/html": [
       "0.362459999378631"
      ],
      "text/latex": [
       "0.362459999378631"
      ],
      "text/markdown": [
       "0.362459999378631"
      ],
      "text/plain": [
       "[1] 0.36246"
      ]
     },
     "metadata": {},
     "output_type": "display_data"
    },
    {
     "data": {
      "text/html": [
       "0.219257477172071"
      ],
      "text/latex": [
       "0.219257477172071"
      ],
      "text/markdown": [
       "0.219257477172071"
      ],
      "text/plain": [
       "[1] 0.2192575"
      ]
     },
     "metadata": {},
     "output_type": "display_data"
    },
    {
     "data": {
      "text/html": [
       "0.362459999378631"
      ],
      "text/latex": [
       "0.362459999378631"
      ],
      "text/markdown": [
       "0.362459999378631"
      ],
      "text/plain": [
       "[1] 0.36246"
      ]
     },
     "metadata": {},
     "output_type": "display_data"
    }
   ],
   "source": [
    "45485+18693\n",
    "4640+18693\n",
    "5367+18693\n",
    "\n",
    "64178/107998\n",
    "64178/109734\n",
    "\n",
    "23333/107998\n",
    "23333/64374\n",
    "\n",
    "24060/109734\n",
    "23333/64374\n"
   ]
  },
  {
   "cell_type": "code",
   "execution_count": 1,
   "metadata": {
    "vscode": {
     "languageId": "r"
    }
   },
   "outputs": [],
   "source": [
    "for(ad_filter_idx in c(3,4,5,6,7,8,9,10)){\n",
    "    for(dp_filter_idx in c(11,12,13,14,15,16,17,18,19,20)){\n",
    "        input_res_16 <- read.table(\"/disk1/wenqing/tmp_data/PFC_s2/filter_snv_for_new_res/GW16_1_4/GABAergic_neurons/regular.res.depth\",header=F)\n",
    "        input_res_19 <- read.table(\"/disk1/wenqing/tmp_data/PFC_s2/filter_snv_for_new_res/GW19_1_1/GABAergic_neurons/regular.res.depth\",header=F)\n",
    "        input_res_23 <- read.table(\"/disk1/wenqing/tmp_data/PFC_s2/filter_snv_for_new_res/GW23_1_2/GABAergic_neurons/regular.res.depth\",header=F)\n",
    "        input_res_26 <- read.table(\"/disk1/wenqing/tmp_data/PFC_s2/filter_snv_for_new_res/GW26_1_1/GABAergic_neurons/regular.res.depth\",header=F)\n",
    "\n",
    "        all_input_res <- rbind(input_res_16,input_res_19)\n",
    "        all_input_res <- rbind(all_input_res,input_res_23)\n",
    "        all_input_res <- rbind(all_input_res,input_res_26)\n",
    "        #对res的dp和ad做一定过滤\n",
    "        filtered_idx <- c()\n",
    "\n",
    "        for(i in 1:nrow(all_input_res)){\n",
    "            tmp_ad = as.numeric(strsplit(all_input_res[i,7],\":\")[[1]][1])\n",
    "            tmp_dp = as.numeric(strsplit(all_input_res[i,7],\":\")[[1]][2])\n",
    "            if(tmp_ad > ad_filter_idx & tmp_dp > dp_filter_idx){\n",
    "                filtered_idx <- c(filtered_idx,i)\n",
    "            }\n",
    "        }\n",
    "        sub_res_all_GABA <- all_input_res[filtered_idx,]\n",
    "\n",
    "        #neuron\n",
    "        #neuron\n",
    "        input_res_16 <- read.table(\"/disk1/wenqing/tmp_data/PFC_s2/filter_snv_for_new_res/GW16_1_4/Neurons/regular.res.depth\",header=F)\n",
    "        input_res_19 <- read.table(\"/disk1/wenqing/tmp_data/PFC_s2/filter_snv_for_new_res/GW19_1_1/Neurons/regular.res.depth\",header=F)\n",
    "        input_res_23 <- read.table(\"/disk1/wenqing/tmp_data/PFC_s2/filter_snv_for_new_res/GW23_1_2/Neurons/regular.res.depth\",header=F)\n",
    "        input_res_26 <- read.table(\"/disk1/wenqing/tmp_data/PFC_s2/filter_snv_for_new_res/GW26_1_1/Neurons/regular.res.depth\",header=F)\n",
    "\n",
    "        all_input_res <- rbind(input_res_16,input_res_19)\n",
    "        all_input_res <- rbind(all_input_res,input_res_23)\n",
    "        all_input_res <- rbind(all_input_res,input_res_26)\n",
    "        #对res的dp和ad做一定过滤\n",
    "        filtered_idx <- c()\n",
    "\n",
    "        for(i in 1:nrow(all_input_res)){\n",
    "            tmp_ad = as.numeric(strsplit(all_input_res[i,7],\":\")[[1]][1])\n",
    "            tmp_dp = as.numeric(strsplit(all_input_res[i,7],\":\")[[1]][2])\n",
    "            if(tmp_ad > ad_filter_idx & tmp_dp > dp_filter_idx){\n",
    "                filtered_idx <- c(filtered_idx,i)\n",
    "            }\n",
    "        }\n",
    "        sub_res_all_neuron <- all_input_res[filtered_idx,]\n",
    "\n",
    "\n",
    "        #opc\n",
    "        input_res_16 <- read.table(\"/disk1/wenqing/tmp_data/PFC_s2/filter_snv_for_new_res/GW16_1_4/OPC/regular.res.depth\",header=F)\n",
    "        input_res_19 <- read.table(\"/disk1/wenqing/tmp_data/PFC_s2/filter_snv_for_new_res/GW19_1_1/OPC/regular.res.depth\",header=F)\n",
    "        input_res_23 <- read.table(\"/disk1/wenqing/tmp_data/PFC_s2/filter_snv_for_new_res/GW23_1_2/OPC/regular.res.depth\",header=F)\n",
    "        input_res_26 <- read.table(\"/disk1/wenqing/tmp_data/PFC_s2/filter_snv_for_new_res/GW26_1_1/OPC/regular.res.depth\",header=F)\n",
    "\n",
    "        all_input_res <- rbind(input_res_16,input_res_19)\n",
    "        all_input_res <- rbind(all_input_res,input_res_23)\n",
    "        all_input_res <- rbind(all_input_res,input_res_26)\n",
    "        #对res的dp和ad做一定过滤\n",
    "        filtered_idx <- c()\n",
    "\n",
    "        for(i in 1:nrow(all_input_res)){\n",
    "            tmp_ad = as.numeric(strsplit(all_input_res[i,7],\":\")[[1]][1])\n",
    "            tmp_dp = as.numeric(strsplit(all_input_res[i,7],\":\")[[1]][2])\n",
    "            if(tmp_ad > ad_filter_idx & tmp_dp > dp_filter_idx){\n",
    "                filtered_idx <- c(filtered_idx,i)\n",
    "            }\n",
    "        }\n",
    "        sub_res_all_opc <- all_input_res[filtered_idx,]\n",
    "\n",
    "        write.table(sub_res_all_GABA, file = paste0(\"/disk1/wenqing/tmp_data/PFC_s2/all_analysis_result/res_stats/\",ad_filter_idx,\"_\",dp_filter_idx,\"_GABA_all.res.depth\"),quote=F,row.names=F,col.names=F,sep='\\t')\n",
    "        write.table(sub_res_all_neuron, file = paste0(\"/disk1/wenqing/tmp_data/PFC_s2/all_analysis_result/res_stats/\",ad_filter_idx,\"_\",dp_filter_idx,\"_neuron_all.res.depth\"),quote=F,row.names=F,col.names=F,sep='\\t')\n",
    "        write.table(sub_res_all_opc, file = paste0(\"/disk1/wenqing/tmp_data/PFC_s2/all_analysis_result/res_stats/\",ad_filter_idx,\"_\",dp_filter_idx,\"_opc_all.res.depth\"),quote=F,row.names=F,col.names=F,sep='\\t')\n",
    "\n",
    "    }\n",
    "}\n",
    "\n"
   ]
  },
  {
   "cell_type": "code",
   "execution_count": 71,
   "metadata": {
    "vscode": {
     "languageId": "r"
    }
   },
   "outputs": [
    {
     "data": {
      "text/html": [
       "<style>\n",
       ".list-inline {list-style: none; margin:0; padding: 0}\n",
       ".list-inline>li {display: inline-block}\n",
       ".list-inline>li:not(:last-child)::after {content: \"\\00b7\"; padding: 0 .5ex}\n",
       "</style>\n",
       "<ol class=list-inline><li>34440</li><li>7</li></ol>\n"
      ],
      "text/latex": [
       "\\begin{enumerate*}\n",
       "\\item 34440\n",
       "\\item 7\n",
       "\\end{enumerate*}\n"
      ],
      "text/markdown": [
       "1. 34440\n",
       "2. 7\n",
       "\n",
       "\n"
      ],
      "text/plain": [
       "[1] 34440     7"
      ]
     },
     "metadata": {},
     "output_type": "display_data"
    }
   ],
   "source": [
    "input_res_16 <- read.table(\"/disk1/wenqing/tmp_data/PFC_s2/filter_snv_for_new_res/GW16_1_4/GABAergic_neurons/regular.res.depth\",header=F)\n",
    "input_res_19 <- read.table(\"/disk1/wenqing/tmp_data/PFC_s2/filter_snv_for_new_res/GW19_1_1/GABAergic_neurons/regular.res.depth\",header=F)\n",
    "input_res_23 <- read.table(\"/disk1/wenqing/tmp_data/PFC_s2/filter_snv_for_new_res/GW23_1_2/GABAergic_neurons/regular.res.depth\",header=F)\n",
    "input_res_26 <- read.table(\"/disk1/wenqing/tmp_data/PFC_s2/filter_snv_for_new_res/GW26_1_1/GABAergic_neurons/regular.res.depth\",header=F)\n",
    "\n",
    "all_res_GABA <- rbind(input_res_16,input_res_19)\n",
    "all_res_GABA <- rbind(all_res_GABA,input_res_23)\n",
    "all_res_GABA <- rbind(all_res_GABA,input_res_26)\n",
    "dim(all_res_GABA)\n",
    "uniq_all_res_GABA <- unique(paste0(all_res_GABA[,1],'_',all_res_GABA[,3],'+',all_res_GABA[,4]))\n",
    "write.table(uniq_all_res_GABA,\"./uniq_all_res_GABA.txt\",quote=F,row.names=F,sep='\\t',col.names=F)\n",
    "\n",
    "uniq_all_res_GABA_ver1 <- unique(paste0(all_res_GABA[,1],'_',all_res_GABA[,2],'_',all_res_GABA[,3],'+',all_res_GABA[,4]))\n",
    "write.table(uniq_all_res_GABA_ver1,\"./uniq_all_res_GABA_forAlu_distri.txt\",quote=F,row.names=F,sep='\\t',col.names=F)\n",
    "\n"
   ]
  },
  {
   "cell_type": "code",
   "execution_count": 72,
   "metadata": {
    "vscode": {
     "languageId": "r"
    }
   },
   "outputs": [
    {
     "data": {
      "text/html": [
       "<style>\n",
       ".list-inline {list-style: none; margin:0; padding: 0}\n",
       ".list-inline>li {display: inline-block}\n",
       ".list-inline>li:not(:last-child)::after {content: \"\\00b7\"; padding: 0 .5ex}\n",
       "</style>\n",
       "<ol class=list-inline><li>44529</li><li>7</li></ol>\n"
      ],
      "text/latex": [
       "\\begin{enumerate*}\n",
       "\\item 44529\n",
       "\\item 7\n",
       "\\end{enumerate*}\n"
      ],
      "text/markdown": [
       "1. 44529\n",
       "2. 7\n",
       "\n",
       "\n"
      ],
      "text/plain": [
       "[1] 44529     7"
      ]
     },
     "metadata": {},
     "output_type": "display_data"
    }
   ],
   "source": [
    "input_res_16 <- read.table(\"/disk1/wenqing/tmp_data/PFC_s2/filter_snv_for_new_res/GW16_1_4/Neurons/regular.res.depth\",header=F)\n",
    "input_res_19 <- read.table(\"/disk1/wenqing/tmp_data/PFC_s2/filter_snv_for_new_res/GW19_1_1/Neurons/regular.res.depth\",header=F)\n",
    "input_res_23 <- read.table(\"/disk1/wenqing/tmp_data/PFC_s2/filter_snv_for_new_res/GW23_1_2/Neurons/regular.res.depth\",header=F)\n",
    "input_res_26 <- read.table(\"/disk1/wenqing/tmp_data/PFC_s2/filter_snv_for_new_res/GW26_1_1/Neurons/regular.res.depth\",header=F)\n",
    "\n",
    "all_res_neuron <- rbind(input_res_16,input_res_19)\n",
    "all_res_neuron <- rbind(all_res_neuron,input_res_23)\n",
    "all_res_neuron <- rbind(all_res_neuron,input_res_26)\n",
    "dim(all_res_neuron)\n",
    "#uniq_all_res_neuron <- unique(paste0(all_res_neuron[,1],'_',all_res_neuron[,3],'+',all_res_neuron[,4]))\n",
    "#write.table(uniq_all_res_neuron,\"./uniq_all_res_neuron.txt\",quote=F,row.names=F,sep='\\t',col.names=F)\n",
    "\n",
    "\n",
    "uniq_all_res_neuron_ver1 <- unique(paste0(all_res_neuron[,1],'_',all_res_neuron[,2],'_',all_res_neuron[,3],'+',all_res_neuron[,4]))\n",
    "write.table(uniq_all_res_neuron_ver1,\"./uniq_all_res_neuron_forAlu_distri.txt\",quote=F,row.names=F,sep='\\t',col.names=F)\n"
   ]
  },
  {
   "cell_type": "code",
   "execution_count": 73,
   "metadata": {
    "vscode": {
     "languageId": "r"
    }
   },
   "outputs": [
    {
     "data": {
      "text/html": [
       "<style>\n",
       ".list-inline {list-style: none; margin:0; padding: 0}\n",
       ".list-inline>li {display: inline-block}\n",
       ".list-inline>li:not(:last-child)::after {content: \"\\00b7\"; padding: 0 .5ex}\n",
       "</style>\n",
       "<ol class=list-inline><li>7387</li><li>7</li></ol>\n"
      ],
      "text/latex": [
       "\\begin{enumerate*}\n",
       "\\item 7387\n",
       "\\item 7\n",
       "\\end{enumerate*}\n"
      ],
      "text/markdown": [
       "1. 7387\n",
       "2. 7\n",
       "\n",
       "\n"
      ],
      "text/plain": [
       "[1] 7387    7"
      ]
     },
     "metadata": {},
     "output_type": "display_data"
    }
   ],
   "source": [
    "input_res_16 <- read.table(\"/disk1/wenqing/tmp_data/PFC_s2/filter_snv_for_new_res/GW16_1_4/OPC/regular.res.depth\",header=F)\n",
    "input_res_19 <- read.table(\"/disk1/wenqing/tmp_data/PFC_s2/filter_snv_for_new_res/GW19_1_1/OPC/regular.res.depth\",header=F)\n",
    "input_res_23 <- read.table(\"/disk1/wenqing/tmp_data/PFC_s2/filter_snv_for_new_res/GW23_1_2/OPC/regular.res.depth\",header=F)\n",
    "input_res_26 <- read.table(\"/disk1/wenqing/tmp_data/PFC_s2/filter_snv_for_new_res/GW26_1_1/OPC/regular.res.depth\",header=F)\n",
    "\n",
    "all_res_opc <- rbind(input_res_16,input_res_19)\n",
    "all_res_opc <- rbind(all_res_opc,input_res_23)\n",
    "all_res_opc <- rbind(all_res_opc,input_res_26)\n",
    "dim(all_res_opc)\n",
    "#uniq_all_res_opc <- unique(paste0(all_res_opc[,1],'_',all_res_opc[,3],'+',all_res_opc[,4]))\n",
    "#write.table(uniq_all_res_opc,\"./uniq_all_res_opc.txt\",quote=F,row.names=F,sep='\\t',col.names=F)\n",
    "\n",
    "uniq_all_res_opc_ver1 <- unique(paste0(all_res_opc[,1],'_',all_res_opc[,2],'_',all_res_opc[,3],'+',all_res_opc[,4]))\n",
    "write.table(uniq_all_res_opc_ver1,\"./uniq_all_res_opc_forAlu_distri.txt\",quote=F,row.names=F,sep='\\t',col.names=F)\n",
    "\n"
   ]
  },
  {
   "cell_type": "code",
   "execution_count": 7,
   "metadata": {
    "vscode": {
     "languageId": "r"
    }
   },
   "outputs": [],
   "source": [
    "uniq_res_GABA <- read.table(\"./uniq_all_res_GABA.txt\")\n",
    "uniq_res_neuron <- read.table(\"./uniq_all_res_neuron.txt\")\n",
    "uniq_res_opc <- read.table(\"./uniq_all_res_opc.txt\")\n"
   ]
  },
  {
   "cell_type": "code",
   "execution_count": 69,
   "metadata": {
    "vscode": {
     "languageId": "r"
    }
   },
   "outputs": [
    {
     "data": {
      "text/html": [
       "<style>\n",
       ".list-inline {list-style: none; margin:0; padding: 0}\n",
       ".list-inline>li {display: inline-block}\n",
       ".list-inline>li:not(:last-child)::after {content: \"\\00b7\"; padding: 0 .5ex}\n",
       "</style>\n",
       "<ol class=list-inline><li>'AG'</li><li>'TC'</li><li>'GA'</li><li>'CT'</li><li>'CA'</li><li>'TG'</li><li>'TA'</li><li>'GT'</li><li>'AT'</li><li>'AC'</li><li>'CG'</li><li>'GC'</li></ol>\n"
      ],
      "text/latex": [
       "\\begin{enumerate*}\n",
       "\\item 'AG'\n",
       "\\item 'TC'\n",
       "\\item 'GA'\n",
       "\\item 'CT'\n",
       "\\item 'CA'\n",
       "\\item 'TG'\n",
       "\\item 'TA'\n",
       "\\item 'GT'\n",
       "\\item 'AT'\n",
       "\\item 'AC'\n",
       "\\item 'CG'\n",
       "\\item 'GC'\n",
       "\\end{enumerate*}\n"
      ],
      "text/markdown": [
       "1. 'AG'\n",
       "2. 'TC'\n",
       "3. 'GA'\n",
       "4. 'CT'\n",
       "5. 'CA'\n",
       "6. 'TG'\n",
       "7. 'TA'\n",
       "8. 'GT'\n",
       "9. 'AT'\n",
       "10. 'AC'\n",
       "11. 'CG'\n",
       "12. 'GC'\n",
       "\n",
       "\n"
      ],
      "text/plain": [
       " [1] \"AG\" \"TC\" \"GA\" \"CT\" \"CA\" \"TG\" \"TA\" \"GT\" \"AT\" \"AC\" \"CG\" \"GC\""
      ]
     },
     "metadata": {},
     "output_type": "display_data"
    }
   ],
   "source": [
    "names(sort(table(uniq_res_GABA[,2]),decreasing=TRUE))"
   ]
  },
  {
   "cell_type": "code",
   "execution_count": 25,
   "metadata": {
    "vscode": {
     "languageId": "r"
    }
   },
   "outputs": [],
   "source": [
    "all_res_num_type <- c(table(uniq_res_GABA[,2]),table(uniq_res_neuron[,2]),table(uniq_res_opc[,2]))\n",
    "celltype_info <- rep(c(\"GABA\",\"Neuron\",\"OPC\"),each=12)\n",
    "type_info <- rep(names(table(uniq_res_GABA[,2])),times=3)"
   ]
  },
  {
   "cell_type": "code",
   "execution_count": 24,
   "metadata": {
    "vscode": {
     "languageId": "r"
    }
   },
   "outputs": [
    {
     "data": {
      "text/plain": [
       "NULL"
      ]
     },
     "metadata": {},
     "output_type": "display_data"
    }
   ],
   "source": [
    "type_info"
   ]
  },
  {
   "cell_type": "code",
   "execution_count": 28,
   "metadata": {
    "vscode": {
     "languageId": "r"
    }
   },
   "outputs": [],
   "source": [
    "res_type_data <- data.frame(cbind(celltype_info,all_res_num_type,type_info))\n",
    "colnames(res_type_data) <- c('cell_type','res_num','res_type')"
   ]
  },
  {
   "cell_type": "code",
   "execution_count": 48,
   "metadata": {
    "vscode": {
     "languageId": "r"
    }
   },
   "outputs": [],
   "source": [
    "df_long <- reshape2::melt(res_type_data, id.vars = c(\"cell_type\", \"res_type\"))\n"
   ]
  },
  {
   "cell_type": "code",
   "execution_count": 49,
   "metadata": {
    "vscode": {
     "languageId": "r"
    }
   },
   "outputs": [
    {
     "data": {
      "text/html": [
       "<table class=\"dataframe\">\n",
       "<caption>A data.frame: 36 × 4</caption>\n",
       "<thead>\n",
       "\t<tr><th scope=col>cell_type</th><th scope=col>res_type</th><th scope=col>variable</th><th scope=col>value</th></tr>\n",
       "\t<tr><th scope=col>&lt;chr&gt;</th><th scope=col>&lt;chr&gt;</th><th scope=col>&lt;fct&gt;</th><th scope=col>&lt;chr&gt;</th></tr>\n",
       "</thead>\n",
       "<tbody>\n",
       "\t<tr><td>GABA  </td><td>AC</td><td>res_num</td><td>78   </td></tr>\n",
       "\t<tr><td>GABA  </td><td>AG</td><td>res_num</td><td>15722</td></tr>\n",
       "\t<tr><td>GABA  </td><td>AT</td><td>res_num</td><td>97   </td></tr>\n",
       "\t<tr><td>GABA  </td><td>CA</td><td>res_num</td><td>309  </td></tr>\n",
       "\t<tr><td>GABA  </td><td>CG</td><td>res_num</td><td>21   </td></tr>\n",
       "\t<tr><td>GABA  </td><td>CT</td><td>res_num</td><td>548  </td></tr>\n",
       "\t<tr><td>GABA  </td><td>GA</td><td>res_num</td><td>572  </td></tr>\n",
       "\t<tr><td>GABA  </td><td>GC</td><td>res_num</td><td>16   </td></tr>\n",
       "\t<tr><td>GABA  </td><td>GT</td><td>res_num</td><td>134  </td></tr>\n",
       "\t<tr><td>GABA  </td><td>TA</td><td>res_num</td><td>155  </td></tr>\n",
       "\t<tr><td>GABA  </td><td>TC</td><td>res_num</td><td>15614</td></tr>\n",
       "\t<tr><td>GABA  </td><td>TG</td><td>res_num</td><td>182  </td></tr>\n",
       "\t<tr><td>Neuron</td><td>AC</td><td>res_num</td><td>19   </td></tr>\n",
       "\t<tr><td>Neuron</td><td>AG</td><td>res_num</td><td>19897</td></tr>\n",
       "\t<tr><td>Neuron</td><td>AT</td><td>res_num</td><td>167  </td></tr>\n",
       "\t<tr><td>Neuron</td><td>CA</td><td>res_num</td><td>570  </td></tr>\n",
       "\t<tr><td>Neuron</td><td>CG</td><td>res_num</td><td>35   </td></tr>\n",
       "\t<tr><td>Neuron</td><td>CT</td><td>res_num</td><td>891  </td></tr>\n",
       "\t<tr><td>Neuron</td><td>GA</td><td>res_num</td><td>1031 </td></tr>\n",
       "\t<tr><td>Neuron</td><td>GC</td><td>res_num</td><td>12   </td></tr>\n",
       "\t<tr><td>Neuron</td><td>GT</td><td>res_num</td><td>185  </td></tr>\n",
       "\t<tr><td>Neuron</td><td>TA</td><td>res_num</td><td>302  </td></tr>\n",
       "\t<tr><td>Neuron</td><td>TC</td><td>res_num</td><td>18785</td></tr>\n",
       "\t<tr><td>Neuron</td><td>TG</td><td>res_num</td><td>302  </td></tr>\n",
       "\t<tr><td>OPC   </td><td>AC</td><td>res_num</td><td>2    </td></tr>\n",
       "\t<tr><td>OPC   </td><td>AG</td><td>res_num</td><td>3316 </td></tr>\n",
       "\t<tr><td>OPC   </td><td>AT</td><td>res_num</td><td>14   </td></tr>\n",
       "\t<tr><td>OPC   </td><td>CA</td><td>res_num</td><td>45   </td></tr>\n",
       "\t<tr><td>OPC   </td><td>CG</td><td>res_num</td><td>10   </td></tr>\n",
       "\t<tr><td>OPC   </td><td>CT</td><td>res_num</td><td>157  </td></tr>\n",
       "\t<tr><td>OPC   </td><td>GA</td><td>res_num</td><td>144  </td></tr>\n",
       "\t<tr><td>OPC   </td><td>GC</td><td>res_num</td><td>2    </td></tr>\n",
       "\t<tr><td>OPC   </td><td>GT</td><td>res_num</td><td>22   </td></tr>\n",
       "\t<tr><td>OPC   </td><td>TA</td><td>res_num</td><td>43   </td></tr>\n",
       "\t<tr><td>OPC   </td><td>TC</td><td>res_num</td><td>3395 </td></tr>\n",
       "\t<tr><td>OPC   </td><td>TG</td><td>res_num</td><td>58   </td></tr>\n",
       "</tbody>\n",
       "</table>\n"
      ],
      "text/latex": [
       "A data.frame: 36 × 4\n",
       "\\begin{tabular}{llll}\n",
       " cell\\_type & res\\_type & variable & value\\\\\n",
       " <chr> & <chr> & <fct> & <chr>\\\\\n",
       "\\hline\n",
       "\t GABA   & AC & res\\_num & 78   \\\\\n",
       "\t GABA   & AG & res\\_num & 15722\\\\\n",
       "\t GABA   & AT & res\\_num & 97   \\\\\n",
       "\t GABA   & CA & res\\_num & 309  \\\\\n",
       "\t GABA   & CG & res\\_num & 21   \\\\\n",
       "\t GABA   & CT & res\\_num & 548  \\\\\n",
       "\t GABA   & GA & res\\_num & 572  \\\\\n",
       "\t GABA   & GC & res\\_num & 16   \\\\\n",
       "\t GABA   & GT & res\\_num & 134  \\\\\n",
       "\t GABA   & TA & res\\_num & 155  \\\\\n",
       "\t GABA   & TC & res\\_num & 15614\\\\\n",
       "\t GABA   & TG & res\\_num & 182  \\\\\n",
       "\t Neuron & AC & res\\_num & 19   \\\\\n",
       "\t Neuron & AG & res\\_num & 19897\\\\\n",
       "\t Neuron & AT & res\\_num & 167  \\\\\n",
       "\t Neuron & CA & res\\_num & 570  \\\\\n",
       "\t Neuron & CG & res\\_num & 35   \\\\\n",
       "\t Neuron & CT & res\\_num & 891  \\\\\n",
       "\t Neuron & GA & res\\_num & 1031 \\\\\n",
       "\t Neuron & GC & res\\_num & 12   \\\\\n",
       "\t Neuron & GT & res\\_num & 185  \\\\\n",
       "\t Neuron & TA & res\\_num & 302  \\\\\n",
       "\t Neuron & TC & res\\_num & 18785\\\\\n",
       "\t Neuron & TG & res\\_num & 302  \\\\\n",
       "\t OPC    & AC & res\\_num & 2    \\\\\n",
       "\t OPC    & AG & res\\_num & 3316 \\\\\n",
       "\t OPC    & AT & res\\_num & 14   \\\\\n",
       "\t OPC    & CA & res\\_num & 45   \\\\\n",
       "\t OPC    & CG & res\\_num & 10   \\\\\n",
       "\t OPC    & CT & res\\_num & 157  \\\\\n",
       "\t OPC    & GA & res\\_num & 144  \\\\\n",
       "\t OPC    & GC & res\\_num & 2    \\\\\n",
       "\t OPC    & GT & res\\_num & 22   \\\\\n",
       "\t OPC    & TA & res\\_num & 43   \\\\\n",
       "\t OPC    & TC & res\\_num & 3395 \\\\\n",
       "\t OPC    & TG & res\\_num & 58   \\\\\n",
       "\\end{tabular}\n"
      ],
      "text/markdown": [
       "\n",
       "A data.frame: 36 × 4\n",
       "\n",
       "| cell_type &lt;chr&gt; | res_type &lt;chr&gt; | variable &lt;fct&gt; | value &lt;chr&gt; |\n",
       "|---|---|---|---|\n",
       "| GABA   | AC | res_num | 78    |\n",
       "| GABA   | AG | res_num | 15722 |\n",
       "| GABA   | AT | res_num | 97    |\n",
       "| GABA   | CA | res_num | 309   |\n",
       "| GABA   | CG | res_num | 21    |\n",
       "| GABA   | CT | res_num | 548   |\n",
       "| GABA   | GA | res_num | 572   |\n",
       "| GABA   | GC | res_num | 16    |\n",
       "| GABA   | GT | res_num | 134   |\n",
       "| GABA   | TA | res_num | 155   |\n",
       "| GABA   | TC | res_num | 15614 |\n",
       "| GABA   | TG | res_num | 182   |\n",
       "| Neuron | AC | res_num | 19    |\n",
       "| Neuron | AG | res_num | 19897 |\n",
       "| Neuron | AT | res_num | 167   |\n",
       "| Neuron | CA | res_num | 570   |\n",
       "| Neuron | CG | res_num | 35    |\n",
       "| Neuron | CT | res_num | 891   |\n",
       "| Neuron | GA | res_num | 1031  |\n",
       "| Neuron | GC | res_num | 12    |\n",
       "| Neuron | GT | res_num | 185   |\n",
       "| Neuron | TA | res_num | 302   |\n",
       "| Neuron | TC | res_num | 18785 |\n",
       "| Neuron | TG | res_num | 302   |\n",
       "| OPC    | AC | res_num | 2     |\n",
       "| OPC    | AG | res_num | 3316  |\n",
       "| OPC    | AT | res_num | 14    |\n",
       "| OPC    | CA | res_num | 45    |\n",
       "| OPC    | CG | res_num | 10    |\n",
       "| OPC    | CT | res_num | 157   |\n",
       "| OPC    | GA | res_num | 144   |\n",
       "| OPC    | GC | res_num | 2     |\n",
       "| OPC    | GT | res_num | 22    |\n",
       "| OPC    | TA | res_num | 43    |\n",
       "| OPC    | TC | res_num | 3395  |\n",
       "| OPC    | TG | res_num | 58    |\n",
       "\n"
      ],
      "text/plain": [
       "   cell_type res_type variable value\n",
       "1  GABA      AC       res_num  78   \n",
       "2  GABA      AG       res_num  15722\n",
       "3  GABA      AT       res_num  97   \n",
       "4  GABA      CA       res_num  309  \n",
       "5  GABA      CG       res_num  21   \n",
       "6  GABA      CT       res_num  548  \n",
       "7  GABA      GA       res_num  572  \n",
       "8  GABA      GC       res_num  16   \n",
       "9  GABA      GT       res_num  134  \n",
       "10 GABA      TA       res_num  155  \n",
       "11 GABA      TC       res_num  15614\n",
       "12 GABA      TG       res_num  182  \n",
       "13 Neuron    AC       res_num  19   \n",
       "14 Neuron    AG       res_num  19897\n",
       "15 Neuron    AT       res_num  167  \n",
       "16 Neuron    CA       res_num  570  \n",
       "17 Neuron    CG       res_num  35   \n",
       "18 Neuron    CT       res_num  891  \n",
       "19 Neuron    GA       res_num  1031 \n",
       "20 Neuron    GC       res_num  12   \n",
       "21 Neuron    GT       res_num  185  \n",
       "22 Neuron    TA       res_num  302  \n",
       "23 Neuron    TC       res_num  18785\n",
       "24 Neuron    TG       res_num  302  \n",
       "25 OPC       AC       res_num  2    \n",
       "26 OPC       AG       res_num  3316 \n",
       "27 OPC       AT       res_num  14   \n",
       "28 OPC       CA       res_num  45   \n",
       "29 OPC       CG       res_num  10   \n",
       "30 OPC       CT       res_num  157  \n",
       "31 OPC       GA       res_num  144  \n",
       "32 OPC       GC       res_num  2    \n",
       "33 OPC       GT       res_num  22   \n",
       "34 OPC       TA       res_num  43   \n",
       "35 OPC       TC       res_num  3395 \n",
       "36 OPC       TG       res_num  58   "
      ]
     },
     "metadata": {},
     "output_type": "display_data"
    }
   ],
   "source": [
    "df_long"
   ]
  },
  {
   "cell_type": "code",
   "execution_count": 50,
   "metadata": {
    "vscode": {
     "languageId": "r"
    }
   },
   "outputs": [],
   "source": [
    "\n",
    "# 在绘制图形之前，先对ad_dp进行排序\n",
    "df_long$res_type <- factor(df_long$res_type, levels = names(sort(table(uniq_res_GABA[,2]),decreasing=TRUE)), ordered = TRUE)\n",
    "df_long$value <- as.numeric(df_long$value)\n",
    "# 指定颜色\n",
    "#colors <- c(\"AG_TC\" = \"#840dd3\",\"CT_GA\" = \"#04c49c\") # 自定义颜色，这里举例红色和蓝色\n",
    "colors <- c(\"GABA\" = \"#840dd3\",\"Neuron\" = \"#04c49c\",'OPC' = \"#2759bd\")\n",
    "\n"
   ]
  },
  {
   "cell_type": "code",
   "execution_count": 42,
   "metadata": {
    "vscode": {
     "languageId": "r"
    }
   },
   "outputs": [],
   "source": [
    "library(ggplot2)"
   ]
  },
  {
   "cell_type": "code",
   "execution_count": 68,
   "metadata": {
    "vscode": {
     "languageId": "r"
    }
   },
   "outputs": [
    {
     "data": {
      "image/png": "[encoded data removed]",
      "text/plain": [
       "plot without title"
      ]
     },
     "metadata": {
      "image/png": {
       "height": 420,
       "width": 420
      }
     },
     "output_type": "display_data"
    }
   ],
   "source": [
    "\n",
    "# 使用ggplot2绘制分组柱状图，加入颜色指定\n",
    "ggplot(df_long, aes(x = res_type, y = value, fill = cell_type)) +\n",
    "  geom_bar(stat = \"identity\", position = \"dodge\") +\n",
    "  scale_fill_manual(values = colors) + # 指定颜色\n",
    "  #facet_wrap(~ cell_type, ncol = 1, scales = \"free_x\") +\n",
    "  labs(title = \"\",\n",
    "       x = \"Modification type\", y = \"Number of RNA editing sites\", fill = \"\") +\n",
    "  theme_bw() +\n",
    "  theme(text = element_text(size = 13),\n",
    "        legend.position = c(0.9,0.9),\n",
    "        legend.box.background = element_rect(color = \"black\", size = 0.5),\n",
    "        legend.spacing.x = unit(1, \"mm\"),     # 调整水平间距\n",
    "        legend.spacing.y = unit(1, \"mm\"),     # 调整垂直间距\n",
    "        legend.margin = margin(3, 3, 3, 3)\n",
    "  ) +\n",
    "  guides(fill = guide_legend(reverse = F)) "
   ]
  }
 ],
 "metadata": {
  "kernelspec": {
   "display_name": "R",
   "language": "R",
   "name": "ir"
  },
  "language_info": {
   "codemirror_mode": "r",
   "file_extension": ".r",
   "mimetype": "text/x-r-source",
   "name": "R",
   "pygments_lexer": "r",
   "version": "4.3.1"
  },
  "orig_nbformat": 4
 },
 "nbformat": 4,
 "nbformat_minor": 2
}
