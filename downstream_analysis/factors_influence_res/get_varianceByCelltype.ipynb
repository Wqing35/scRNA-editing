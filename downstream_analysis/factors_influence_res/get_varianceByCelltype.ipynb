{
 "cells": [
  {
   "cell_type": "code",
   "execution_count": 28,
   "metadata": {
    "vscode": {
     "languageId": "r"
    }
   },
   "outputs": [],
   "source": [
    ".libPaths('/disk1/wenqing/anaconda3/envs/wq_R4.2/lib/R/library')"
   ]
  },
  {
   "cell_type": "code",
   "execution_count": 30,
   "metadata": {
    "vscode": {
     "languageId": "r"
    }
   },
   "outputs": [
    {
     "name": "stderr",
     "output_type": "stream",
     "text": [
      "Loading required package: lme4\n",
      "\n",
      "Warning message:\n",
      "“package ‘lme4’ was built under R version 4.3.2”\n",
      "Loading required package: Matrix\n",
      "\n",
      "\n",
      "Attaching package: ‘lmerTest’\n",
      "\n",
      "\n",
      "The following object is masked from ‘package:lme4’:\n",
      "\n",
      "    lmer\n",
      "\n",
      "\n",
      "The following object is masked from ‘package:stats’:\n",
      "\n",
      "    step\n",
      "\n",
      "\n"
     ]
    }
   ],
   "source": [
    "library(lmerTest)"
   ]
  },
  {
   "cell_type": "code",
   "execution_count": 21,
   "metadata": {
    "vscode": {
     "languageId": "r"
    }
   },
   "outputs": [],
   "source": [
    "#计算细胞类型解释基因编辑比例的variance\n",
    "gene_ei_17_1 <- read.table(\"/disk1/wenqing/tmp_data/ASD/asd_male_pfc/AEI/17/celltype_AEI/L2_3_ExN/regular_EI_inGene_over1.txt\")\n",
    "gene_ei_17_2 <- read.table(\"/disk1/wenqing/tmp_data/ASD/asd_male_pfc/AEI/17/celltype_AEI/L4/regular_EI_inGene_over1.txt\")\n",
    "gene_ei_17_3 <- read.table(\"/disk1/wenqing/tmp_data/ASD/asd_male_pfc/AEI/17/celltype_AEI/L5_6/regular_EI_inGene_over1.txt\")\n",
    "gene_ei_17_4 <- read.table(\"/disk1/wenqing/tmp_data/ASD/asd_male_pfc/AEI/17/celltype_AEI/L5_6_CC/regular_EI_inGene_over1.txt\")\n",
    "gene_ei_17_5 <- read.table(\"/disk1/wenqing/tmp_data/ASD/asd_male_pfc/AEI/17/celltype_AEI/IN_VIP/regular_EI_inGene_over1.txt\")\n",
    "gene_ei_17_6 <- read.table(\"/disk1/wenqing/tmp_data/ASD/asd_male_pfc/AEI/17/celltype_AEI/Olig/regular_EI_inGene_over1.txt\")\n",
    "#去除ei百分比小于0.5的取均值\n",
    "gene_ei_17 <- c(mean(gene_ei_17_1[gene_ei_17_1*100>0.5]),mean(gene_ei_17_2[gene_ei_17_2*100>0.5]),mean(gene_ei_17_3[gene_ei_17_3*100>0.5]),mean(gene_ei_17_4[gene_ei_17_4*100>0.5]),mean(gene_ei_17_5[gene_ei_17_5*100>0.5]),mean(gene_ei_17_6[gene_ei_17_6*100>0.5])) "
   ]
  },
  {
   "cell_type": "code",
   "execution_count": 22,
   "metadata": {
    "vscode": {
     "languageId": "r"
    }
   },
   "outputs": [],
   "source": [
    "#计算细胞类型解释基因编辑比例的variance\n",
    "gene_ei_18_1 <- read.table(\"/disk1/wenqing/tmp_data/ASD/asd_male_pfc/AEI/18/celltype_AEI/L2_3_ExN/regular_EI_inGene_over1.txt\")\n",
    "gene_ei_18_2 <- read.table(\"/disk1/wenqing/tmp_data/ASD/asd_male_pfc/AEI/18/celltype_AEI/L4/regular_EI_inGene_over1.txt\")\n",
    "gene_ei_18_3 <- read.table(\"/disk1/wenqing/tmp_data/ASD/asd_male_pfc/AEI/18/celltype_AEI/L5_6/regular_EI_inGene_over1.txt\")\n",
    "gene_ei_18_4 <- read.table(\"/disk1/wenqing/tmp_data/ASD/asd_male_pfc/AEI/18/celltype_AEI/L5_6_CC/regular_EI_inGene_over1.txt\")\n",
    "gene_ei_18_5 <- read.table(\"/disk1/wenqing/tmp_data/ASD/asd_male_pfc/AEI/18/celltype_AEI/IN_VIP/regular_EI_inGene_over1.txt\")\n",
    "gene_ei_18_6 <- read.table(\"/disk1/wenqing/tmp_data/ASD/asd_male_pfc/AEI/18/celltype_AEI/Olig/regular_EI_inGene_over1.txt\")\n",
    "#去除ei百分比小于0.5的取均值\n",
    "gene_ei_18 <- c(mean(gene_ei_18_1[gene_ei_18_1*100>0.5]),mean(gene_ei_18_2[gene_ei_18_2*100>0.5]),mean(gene_ei_18_3[gene_ei_18_3*100>0.5]),mean(gene_ei_18_4[gene_ei_18_4*100>0.5]),mean(gene_ei_18_5[gene_ei_18_5*100>0.5]),mean(gene_ei_18_6[gene_ei_18_6*100>0.5])) "
   ]
  },
  {
   "cell_type": "code",
   "execution_count": 23,
   "metadata": {
    "vscode": {
     "languageId": "r"
    }
   },
   "outputs": [],
   "source": [
    "#计算细胞类型解释基因编辑比例的variance\n",
    "gene_ei_57_1 <- read.table(\"/disk1/wenqing/tmp_data/ASD/asd_male_pfc/AEI/57/celltype_AEI/L2_3_ExN/regular_EI_inGene_over1.txt\")\n",
    "gene_ei_57_2 <- read.table(\"/disk1/wenqing/tmp_data/ASD/asd_male_pfc/AEI/57/celltype_AEI/L4/regular_EI_inGene_over1.txt\")\n",
    "gene_ei_57_3 <- read.table(\"/disk1/wenqing/tmp_data/ASD/asd_male_pfc/AEI/57/celltype_AEI/L5_6/regular_EI_inGene_over1.txt\")\n",
    "gene_ei_57_4 <- read.table(\"/disk1/wenqing/tmp_data/ASD/asd_male_pfc/AEI/57/celltype_AEI/L5_6_CC/regular_EI_inGene_over1.txt\")\n",
    "gene_ei_57_5 <- read.table(\"/disk1/wenqing/tmp_data/ASD/asd_male_pfc/AEI/57/celltype_AEI/IN_VIP/regular_EI_inGene_over1.txt\")\n",
    "gene_ei_57_6 <- read.table(\"/disk1/wenqing/tmp_data/ASD/asd_male_pfc/AEI/57/celltype_AEI/Olig/regular_EI_inGene_over1.txt\")\n",
    "#去除ei百分比小于0.5的取均值\n",
    "gene_ei_57 <- c(mean(gene_ei_57_1[gene_ei_57_1*100>0.5]),mean(gene_ei_57_2[gene_ei_57_2*100>0.5]),mean(gene_ei_57_3[gene_ei_57_3*100>0.5]),mean(gene_ei_57_4[gene_ei_57_4*100>0.5]),mean(gene_ei_57_5[gene_ei_57_5*100>0.5]),mean(gene_ei_57_6[gene_ei_57_6*100>0.5])) "
   ]
  },
  {
   "cell_type": "code",
   "execution_count": 24,
   "metadata": {
    "vscode": {
     "languageId": "r"
    }
   },
   "outputs": [
    {
     "data": {
      "text/html": [
       "18"
      ],
      "text/latex": [
       "18"
      ],
      "text/markdown": [
       "18"
      ],
      "text/plain": [
       "[1] 18"
      ]
     },
     "metadata": {},
     "output_type": "display_data"
    }
   ],
   "source": [
    "gene_ei <- c(gene_ei_17,gene_ei_18,gene_ei_57)\n",
    "length(gene_ei)"
   ]
  },
  {
   "cell_type": "code",
   "execution_count": 25,
   "metadata": {
    "vscode": {
     "languageId": "r"
    }
   },
   "outputs": [],
   "source": [
    "celltypes <- rep(c('L2_3','L4','L5_6','L5_6_CC','IN_VIP','Olig'),times=3)\n",
    "samples <- rep(c('asd_17','asd_18','asd_57'),each=6)\n",
    "data <- as.data.frame(cbind(celltypes,gene_ei,samples))"
   ]
  },
  {
   "cell_type": "code",
   "execution_count": 27,
   "metadata": {
    "vscode": {
     "languageId": "r"
    }
   },
   "outputs": [
    {
     "name": "stderr",
     "output_type": "stream",
     "text": [
      "The following objects are masked _by_ .GlobalEnv:\n",
      "\n",
      "    celltypes, gene_ei, samples\n",
      "\n",
      "\n"
     ]
    }
   ],
   "source": [
    "attach(data)"
   ]
  },
  {
   "cell_type": "code",
   "execution_count": 36,
   "metadata": {
    "vscode": {
     "languageId": "r"
    }
   },
   "outputs": [
    {
     "data": {
      "text/html": [
       "<table class=\"dataframe\">\n",
       "<caption>A data.frame: 18 × 3</caption>\n",
       "<thead>\n",
       "\t<tr><th scope=col>celltypes</th><th scope=col>gene_ei</th><th scope=col>samples</th></tr>\n",
       "\t<tr><th scope=col>&lt;chr&gt;</th><th scope=col>&lt;chr&gt;</th><th scope=col>&lt;chr&gt;</th></tr>\n",
       "</thead>\n",
       "<tbody>\n",
       "\t<tr><td>L2_3   </td><td>0.0141733641802489</td><td>asd_17</td></tr>\n",
       "\t<tr><td>L4     </td><td>0.0154304426147044</td><td>asd_17</td></tr>\n",
       "\t<tr><td>L5_6   </td><td>0.0161994170156768</td><td>asd_17</td></tr>\n",
       "\t<tr><td>L5_6_CC</td><td>0.0146799211708617</td><td>asd_17</td></tr>\n",
       "\t<tr><td>IN_VIP </td><td>0.0175567601007419</td><td>asd_17</td></tr>\n",
       "\t<tr><td>Olig   </td><td>0.0196072651429539</td><td>asd_17</td></tr>\n",
       "\t<tr><td>L2_3   </td><td>0.0121106547353494</td><td>asd_18</td></tr>\n",
       "\t<tr><td>L4     </td><td>0.0123752753311622</td><td>asd_18</td></tr>\n",
       "\t<tr><td>L5_6   </td><td>0.0133179636977666</td><td>asd_18</td></tr>\n",
       "\t<tr><td>L5_6_CC</td><td>0.012427933324175 </td><td>asd_18</td></tr>\n",
       "\t<tr><td>IN_VIP </td><td>0.013270753613024 </td><td>asd_18</td></tr>\n",
       "\t<tr><td>Olig   </td><td>0.0126691876892203</td><td>asd_18</td></tr>\n",
       "\t<tr><td>L2_3   </td><td>0.0146682174621656</td><td>asd_57</td></tr>\n",
       "\t<tr><td>L4     </td><td>0.0166763109384215</td><td>asd_57</td></tr>\n",
       "\t<tr><td>L5_6   </td><td>0.0211511836821184</td><td>asd_57</td></tr>\n",
       "\t<tr><td>L5_6_CC</td><td>0.0172836991791224</td><td>asd_57</td></tr>\n",
       "\t<tr><td>IN_VIP </td><td>0.0178099369744583</td><td>asd_57</td></tr>\n",
       "\t<tr><td>Olig   </td><td>0.0188678843278953</td><td>asd_57</td></tr>\n",
       "</tbody>\n",
       "</table>\n"
      ],
      "text/latex": [
       "A data.frame: 18 × 3\n",
       "\\begin{tabular}{lll}\n",
       " celltypes & gene\\_ei & samples\\\\\n",
       " <chr> & <chr> & <chr>\\\\\n",
       "\\hline\n",
       "\t L2\\_3    & 0.0141733641802489 & asd\\_17\\\\\n",
       "\t L4      & 0.0154304426147044 & asd\\_17\\\\\n",
       "\t L5\\_6    & 0.0161994170156768 & asd\\_17\\\\\n",
       "\t L5\\_6\\_CC & 0.0146799211708617 & asd\\_17\\\\\n",
       "\t IN\\_VIP  & 0.0175567601007419 & asd\\_17\\\\\n",
       "\t Olig    & 0.0196072651429539 & asd\\_17\\\\\n",
       "\t L2\\_3    & 0.0121106547353494 & asd\\_18\\\\\n",
       "\t L4      & 0.0123752753311622 & asd\\_18\\\\\n",
       "\t L5\\_6    & 0.0133179636977666 & asd\\_18\\\\\n",
       "\t L5\\_6\\_CC & 0.012427933324175  & asd\\_18\\\\\n",
       "\t IN\\_VIP  & 0.013270753613024  & asd\\_18\\\\\n",
       "\t Olig    & 0.0126691876892203 & asd\\_18\\\\\n",
       "\t L2\\_3    & 0.0146682174621656 & asd\\_57\\\\\n",
       "\t L4      & 0.0166763109384215 & asd\\_57\\\\\n",
       "\t L5\\_6    & 0.0211511836821184 & asd\\_57\\\\\n",
       "\t L5\\_6\\_CC & 0.0172836991791224 & asd\\_57\\\\\n",
       "\t IN\\_VIP  & 0.0178099369744583 & asd\\_57\\\\\n",
       "\t Olig    & 0.0188678843278953 & asd\\_57\\\\\n",
       "\\end{tabular}\n"
      ],
      "text/markdown": [
       "\n",
       "A data.frame: 18 × 3\n",
       "\n",
       "| celltypes &lt;chr&gt; | gene_ei &lt;chr&gt; | samples &lt;chr&gt; |\n",
       "|---|---|---|\n",
       "| L2_3    | 0.0141733641802489 | asd_17 |\n",
       "| L4      | 0.0154304426147044 | asd_17 |\n",
       "| L5_6    | 0.0161994170156768 | asd_17 |\n",
       "| L5_6_CC | 0.0146799211708617 | asd_17 |\n",
       "| IN_VIP  | 0.0175567601007419 | asd_17 |\n",
       "| Olig    | 0.0196072651429539 | asd_17 |\n",
       "| L2_3    | 0.0121106547353494 | asd_18 |\n",
       "| L4      | 0.0123752753311622 | asd_18 |\n",
       "| L5_6    | 0.0133179636977666 | asd_18 |\n",
       "| L5_6_CC | 0.012427933324175  | asd_18 |\n",
       "| IN_VIP  | 0.013270753613024  | asd_18 |\n",
       "| Olig    | 0.0126691876892203 | asd_18 |\n",
       "| L2_3    | 0.0146682174621656 | asd_57 |\n",
       "| L4      | 0.0166763109384215 | asd_57 |\n",
       "| L5_6    | 0.0211511836821184 | asd_57 |\n",
       "| L5_6_CC | 0.0172836991791224 | asd_57 |\n",
       "| IN_VIP  | 0.0178099369744583 | asd_57 |\n",
       "| Olig    | 0.0188678843278953 | asd_57 |\n",
       "\n"
      ],
      "text/plain": [
       "   celltypes gene_ei            samples\n",
       "1  L2_3      0.0141733641802489 asd_17 \n",
       "2  L4        0.0154304426147044 asd_17 \n",
       "3  L5_6      0.0161994170156768 asd_17 \n",
       "4  L5_6_CC   0.0146799211708617 asd_17 \n",
       "5  IN_VIP    0.0175567601007419 asd_17 \n",
       "6  Olig      0.0196072651429539 asd_17 \n",
       "7  L2_3      0.0121106547353494 asd_18 \n",
       "8  L4        0.0123752753311622 asd_18 \n",
       "9  L5_6      0.0133179636977666 asd_18 \n",
       "10 L5_6_CC   0.012427933324175  asd_18 \n",
       "11 IN_VIP    0.013270753613024  asd_18 \n",
       "12 Olig      0.0126691876892203 asd_18 \n",
       "13 L2_3      0.0146682174621656 asd_57 \n",
       "14 L4        0.0166763109384215 asd_57 \n",
       "15 L5_6      0.0211511836821184 asd_57 \n",
       "16 L5_6_CC   0.0172836991791224 asd_57 \n",
       "17 IN_VIP    0.0178099369744583 asd_57 \n",
       "18 Olig      0.0188678843278953 asd_57 "
      ]
     },
     "metadata": {},
     "output_type": "display_data"
    }
   ],
   "source": [
    "data"
   ]
  },
  {
   "cell_type": "code",
   "execution_count": 40,
   "metadata": {
    "vscode": {
     "languageId": "r"
    }
   },
   "outputs": [
    {
     "name": "stderr",
     "output_type": "stream",
     "text": [
      "Warning message in glmer(gene_ei ~ celltypes + (celltypes | samples), data):\n",
      "“calling glmer() with family=gaussian (identity link) as a shortcut to lmer() is deprecated; please call lmer() directly”\n"
     ]
    },
    {
     "ename": "ERROR",
     "evalue": "Error: number of observations (=18) <= number of random effects (=18) for term (celltypes | samples); the random-effects parameters and the residual variance (or scale parameter) are probably unidentifiable\n",
     "output_type": "error",
     "traceback": [
      "Error: number of observations (=18) <= number of random effects (=18) for term (celltypes | samples); the random-effects parameters and the residual variance (or scale parameter) are probably unidentifiable\nTraceback:\n",
      "1. glmer(gene_ei ~ celltypes + (celltypes | samples), data)",
      "2. eval(mc, parent.frame())",
      "3. eval(mc, parent.frame())",
      "4. lme4::lmer(formula = gene_ei ~ celltypes + (celltypes | samples), \n .     data = data)",
      "5. eval(mc, parent.frame(1L))",
      "6. eval(mc, parent.frame(1L))",
      "7. lme4::lFormula(formula = gene_ei ~ celltypes + (celltypes | samples), \n .     data = data, control = structure(list(optimizer = \"nloptwrap\", \n .         restart_edge = TRUE, boundary.tol = 1e-05, calc.derivs = TRUE, \n .         use.last.params = FALSE, checkControl = list(check.nobs.vs.rankZ = \"ignore\", \n .             check.nobs.vs.nlev = \"stop\", check.nlev.gtreq.5 = \"ignore\", \n .             check.nlev.gtr.1 = \"stop\", check.nobs.vs.nRE = \"stop\", \n .             check.rankX = \"message+drop.cols\", check.scaleX = \"warning\", \n .             check.formula.LHS = \"stop\"), checkConv = list(check.conv.grad = list(\n .             action = \"warning\", tol = 0.002, relTol = NULL), \n .             check.conv.singular = list(action = \"message\", tol = 1e-04), \n .             check.conv.hess = list(action = \"warning\", tol = 1e-06)), \n .         optCtrl = list()), class = c(\"lmerControl\", \"merControl\"\n .     )))",
      "8. checkZdims(reTrms$Ztlist, n = n, control, allow.n = FALSE)",
      "9. unique(unlist(lapply(seq_along(Ztlist), function(i) {\n .     ww <- wmsg(cols[i], rows[i], allow.n, \"number of observations\", \n .         \"number of random effects\", sprintf(\" for term (%s)\", \n .             term.names[i]))\n .     if (ww$unident) {\n .         switch(cc, warning = warning(ww$wstr, call. = FALSE), \n .             stop = stop(ww$wstr, call. = FALSE), stop(gettextf(\"unknown check level for '%s'\", \n .                 cstr), domain = NA))\n .         ww$wstr\n .     }\n .     else character()\n . })))",
      "10. unlist(lapply(seq_along(Ztlist), function(i) {\n  .     ww <- wmsg(cols[i], rows[i], allow.n, \"number of observations\", \n  .         \"number of random effects\", sprintf(\" for term (%s)\", \n  .             term.names[i]))\n  .     if (ww$unident) {\n  .         switch(cc, warning = warning(ww$wstr, call. = FALSE), \n  .             stop = stop(ww$wstr, call. = FALSE), stop(gettextf(\"unknown check level for '%s'\", \n  .                 cstr), domain = NA))\n  .         ww$wstr\n  .     }\n  .     else character()\n  . }))",
      "11. lapply(seq_along(Ztlist), function(i) {\n  .     ww <- wmsg(cols[i], rows[i], allow.n, \"number of observations\", \n  .         \"number of random effects\", sprintf(\" for term (%s)\", \n  .             term.names[i]))\n  .     if (ww$unident) {\n  .         switch(cc, warning = warning(ww$wstr, call. = FALSE), \n  .             stop = stop(ww$wstr, call. = FALSE), stop(gettextf(\"unknown check level for '%s'\", \n  .                 cstr), domain = NA))\n  .         ww$wstr\n  .     }\n  .     else character()\n  . })",
      "12. FUN(X[[i]], ...)",
      "13. stop(ww$wstr, call. = FALSE)"
     ]
    }
   ],
   "source": [
    "res <- glmer(gene_ei ~ celltypes + (celltypes|samples), data)"
   ]
  }
 ],
 "metadata": {
  "kernelspec": {
   "display_name": "R",
   "language": "R",
   "name": "ir"
  },
  "language_info": {
   "codemirror_mode": "r",
   "file_extension": ".r",
   "mimetype": "text/x-r-source",
   "name": "R",
   "pygments_lexer": "r",
   "version": "4.3.1"
  },
  "orig_nbformat": 4
 },
 "nbformat": 4,
 "nbformat_minor": 2
}
