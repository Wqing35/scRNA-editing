{
 "cells": [
  {
   "cell_type": "code",
   "execution_count": 1,
   "metadata": {
    "vscode": {
     "languageId": "r"
    }
   },
   "outputs": [],
   "source": [
    ".libPaths('/disk1/wenqing/anaconda3/envs/wq_R4.2/lib/R/library')"
   ]
  },
  {
   "cell_type": "code",
   "execution_count": 13,
   "metadata": {
    "vscode": {
     "languageId": "r"
    }
   },
   "outputs": [
    {
     "name": "stderr",
     "output_type": "stream",
     "text": [
      "\n",
      "Attaching package: ‘dplyr’\n",
      "\n",
      "\n",
      "The following objects are masked from ‘package:stats’:\n",
      "\n",
      "    filter, lag\n",
      "\n",
      "\n",
      "The following objects are masked from ‘package:base’:\n",
      "\n",
      "    intersect, setdiff, setequal, union\n",
      "\n",
      "\n",
      "── \u001b[1mAttaching core tidyverse packages\u001b[22m ──────────────────────── tidyverse 2.0.0 ──\n",
      "\u001b[32m✔\u001b[39m \u001b[34mforcats  \u001b[39m 1.0.0     \u001b[32m✔\u001b[39m \u001b[34mreadr    \u001b[39m 2.1.4\n",
      "\u001b[32m✔\u001b[39m \u001b[34mlubridate\u001b[39m 1.9.3     \u001b[32m✔\u001b[39m \u001b[34mstringr  \u001b[39m 1.5.0\n",
      "\u001b[32m✔\u001b[39m \u001b[34mpurrr    \u001b[39m 1.0.2     \u001b[32m✔\u001b[39m \u001b[34mtibble   \u001b[39m 3.2.1\n",
      "── \u001b[1mConflicts\u001b[22m ────────────────────────────────────────── tidyverse_conflicts() ──\n",
      "\u001b[31m✖\u001b[39m \u001b[34mdplyr\u001b[39m::\u001b[32mfilter()\u001b[39m masks \u001b[34mstats\u001b[39m::filter()\n",
      "\u001b[31m✖\u001b[39m \u001b[34mdplyr\u001b[39m::\u001b[32mlag()\u001b[39m    masks \u001b[34mstats\u001b[39m::lag()\n",
      "\u001b[36mℹ\u001b[39m Use the conflicted package (\u001b[3m\u001b[34m<http://conflicted.r-lib.org/>\u001b[39m\u001b[23m) to force all conflicts to become errors\n"
     ]
    }
   ],
   "source": [
    "library(tidyr)\n",
    "library(dplyr)\n",
    "library(ggplot2)\n",
    "library(tidyverse)\n",
    "library(pheatmap)"
   ]
  },
  {
   "cell_type": "code",
   "execution_count": 5,
   "metadata": {
    "vscode": {
     "languageId": "r"
    }
   },
   "outputs": [],
   "source": [
    "#########生成IRI矩阵\n",
    "#首先分析GABA\n",
    "IRI_dat_08 <- read.csv(\"/disk1/wenqing/tmp_data/PFC_s2/all_analysis_result/intron_retention_analysis_senescence-master/GW08/GABAergic_neurons/result_1_1.csv\")\n",
    "IRI_dat_08$uni_feature <- paste0(IRI_dat_08$Gene,\"_\",IRI_dat_08$rank)\n",
    "IRI_dat_12 <- read.csv(\"/disk1/wenqing/tmp_data/PFC_s2/all_analysis_result/intron_retention_analysis_senescence-master/GW12/GABAergic_neurons/result_1_1.csv\")\n",
    "IRI_dat_12$uni_feature <- paste0(IRI_dat_12$Gene,\"_\",IRI_dat_12$rank)\n",
    "IRI_dat_16_1_3 <- read.csv(\"/disk1/wenqing/tmp_data/PFC_s2/all_analysis_result/intron_retention_analysis_senescence-master/GW16_1_3/GABAergic_neurons/result_1_1.csv\")\n",
    "IRI_dat_16_1_3$uni_feature <- paste0(IRI_dat_16_1_3$Gene,\"_\",IRI_dat_16_1_3$rank)\n",
    "IRI_dat_16_1_4 <- read.csv(\"/disk1/wenqing/tmp_data/PFC_s2/all_analysis_result/intron_retention_analysis_senescence-master/GW16_1_4/GABAergic_neurons/result_1_1.csv\")\n",
    "IRI_dat_16_1_4$uni_feature <- paste0(IRI_dat_16_1_4$Gene,\"_\",IRI_dat_16_1_4$rank)\n",
    "IRI_dat_16_1_9 <- read.csv(\"/disk1/wenqing/tmp_data/PFC_s2/all_analysis_result/intron_retention_analysis_senescence-master/GW16_1_9/GABAergic_neurons/result_1_1.csv\")\n",
    "IRI_dat_16_1_9$uni_feature <- paste0(IRI_dat_16_1_9$Gene,\"_\",IRI_dat_16_1_9$rank)\n",
    "IRI_dat_19_1_1 <- read.csv(\"/disk1/wenqing/tmp_data/PFC_s2/all_analysis_result/intron_retention_analysis_senescence-master/GW19_1_1/GABAergic_neurons/result_1_1.csv\")\n",
    "IRI_dat_19_1_1$uni_feature <- paste0(IRI_dat_19_1_1$Gene,\"_\",IRI_dat_19_1_1$rank)\n",
    "IRI_dat_19_1_2 <- read.csv(\"/disk1/wenqing/tmp_data/PFC_s2/all_analysis_result/intron_retention_analysis_senescence-master/GW19_1_2/GABAergic_neurons/result_1_1.csv\")\n",
    "IRI_dat_19_1_2$uni_feature <- paste0(IRI_dat_19_1_2$Gene,\"_\",IRI_dat_19_1_2$rank)\n",
    "IRI_dat_19_1_3 <- read.csv(\"/disk1/wenqing/tmp_data/PFC_s2/all_analysis_result/intron_retention_analysis_senescence-master/GW19_1_3/GABAergic_neurons/result_1_1.csv\")\n",
    "IRI_dat_19_1_3$uni_feature <- paste0(IRI_dat_19_1_3$Gene,\"_\",IRI_dat_19_1_3$rank)\n",
    "IRI_dat_23_1_1 <- read.csv(\"/disk1/wenqing/tmp_data/PFC_s2/all_analysis_result/intron_retention_analysis_senescence-master/GW23_1_1/GABAergic_neurons/result_1_1.csv\")\n",
    "IRI_dat_23_1_1$uni_feature <- paste0(IRI_dat_23_1_1$Gene,\"_\",IRI_dat_23_1_1$rank)\n",
    "IRI_dat_23_1_2 <- read.csv(\"/disk1/wenqing/tmp_data/PFC_s2/all_analysis_result/intron_retention_analysis_senescence-master/GW23_1_2/GABAergic_neurons/result_1_1.csv\")\n",
    "IRI_dat_23_1_2$uni_feature <- paste0(IRI_dat_23_1_2$Gene,\"_\",IRI_dat_23_1_2$rank)\n",
    "IRI_dat_23_1_3 <- read.csv(\"/disk1/wenqing/tmp_data/PFC_s2/all_analysis_result/intron_retention_analysis_senescence-master/GW23_1_3/GABAergic_neurons/result_1_1.csv\")\n",
    "IRI_dat_23_1_3$uni_feature <- paste0(IRI_dat_23_1_3$Gene,\"_\",IRI_dat_23_1_3$rank)\n",
    "IRI_dat_26_1_1 <- read.csv(\"/disk1/wenqing/tmp_data/PFC_s2/all_analysis_result/intron_retention_analysis_senescence-master/GW26_1_1/GABAergic_neurons/result_1_1.csv\")\n",
    "IRI_dat_26_1_1$uni_feature <- paste0(IRI_dat_26_1_1$Gene,\"_\",IRI_dat_26_1_1$rank)\n"
   ]
  },
  {
   "cell_type": "code",
   "execution_count": 35,
   "metadata": {
    "vscode": {
     "languageId": "r"
    }
   },
   "outputs": [],
   "source": [
    "df <- rbind(IRI_dat_08[,c('position','uni_feature','iri')],IRI_dat_12[,c('position','uni_feature','iri')],\n",
    "                IRI_dat_16_1_3[,c('position','uni_feature','iri')],IRI_dat_16_1_4[,c('position','uni_feature','iri')],IRI_dat_16_1_9[,c('position','uni_feature','iri')],\n",
    "                IRI_dat_19_1_1[,c('position','uni_feature','iri')],IRI_dat_19_1_2[,c('position','uni_feature','iri')],IRI_dat_19_1_3[,c('position','uni_feature','iri')],\n",
    "                IRI_dat_23_1_1[,c('position','uni_feature','iri')],IRI_dat_23_1_2[,c('position','uni_feature','iri')],IRI_dat_23_1_3[,c('position','uni_feature','iri')],\n",
    "                IRI_dat_26_1_1[,c('position','uni_feature','iri')])"
   ]
  },
  {
   "cell_type": "code",
   "execution_count": 36,
   "metadata": {
    "vscode": {
     "languageId": "r"
    }
   },
   "outputs": [],
   "source": [
    "df$sample <- c(rep('GW08',nrow(IRI_dat_08)),rep('GW12',nrow(IRI_dat_12)),rep('GW16_1_3',nrow(IRI_dat_16_1_3)),\n",
    "                    rep('GW16_1_4',nrow(IRI_dat_16_1_4)),rep('GW16_1_9',nrow(IRI_dat_16_1_9)),rep('GW19_1_1',nrow(IRI_dat_19_1_1)),\n",
    "                    rep('GW19_1_2',nrow(IRI_dat_19_1_2)),rep('GW19_1_3',nrow(IRI_dat_19_1_3)),rep('GW23_1_1',nrow(IRI_dat_23_1_1)),\n",
    "                    rep('GW23_1_2',nrow(IRI_dat_23_1_2)),rep('GW23_1_3',nrow(IRI_dat_23_1_3)),rep('GW26_1_1',nrow(IRI_dat_26_1_1)))"
   ]
  },
  {
   "cell_type": "code",
   "execution_count": 37,
   "metadata": {
    "vscode": {
     "languageId": "r"
    }
   },
   "outputs": [
    {
     "data": {
      "text/html": [
       "<table class=\"dataframe\">\n",
       "<caption>A data.frame: 6 × 4</caption>\n",
       "<thead>\n",
       "\t<tr><th></th><th scope=col>position</th><th scope=col>uni_feature</th><th scope=col>iri</th><th scope=col>sample</th></tr>\n",
       "\t<tr><th></th><th scope=col>&lt;chr&gt;</th><th scope=col>&lt;chr&gt;</th><th scope=col>&lt;dbl&gt;</th><th scope=col>&lt;chr&gt;</th></tr>\n",
       "</thead>\n",
       "<tbody>\n",
       "\t<tr><th scope=row>1</th><td>chr19:18701743-18702917:+  </td><td>chr19/REX1BD/+/1_8</td><td>0.20936259</td><td>GW08</td></tr>\n",
       "\t<tr><th scope=row>2</th><td>chr8:32600770-32607078:+   </td><td>chr8/NRG1/+/1_14  </td><td>       Inf</td><td>GW08</td></tr>\n",
       "\t<tr><th scope=row>3</th><td>chr8:32607102-32611889:+   </td><td>chr8/NRG1/+/1_15  </td><td>       Inf</td><td>GW08</td></tr>\n",
       "\t<tr><th scope=row>4</th><td>chr13:101144072-101167680:+</td><td>chr13/PCCA/+/1_39 </td><td>0.02362897</td><td>GW08</td></tr>\n",
       "\t<tr><th scope=row>5</th><td>chr6:108544249-108581963:- </td><td>chr6/SNX3/-/1_4   </td><td>       Inf</td><td>GW08</td></tr>\n",
       "\t<tr><th scope=row>6</th><td>chr16:28164106-28167394:-  </td><td>chr16/XPO6/-/1_34 </td><td>       Inf</td><td>GW08</td></tr>\n",
       "</tbody>\n",
       "</table>\n"
      ],
      "text/latex": [
       "A data.frame: 6 × 4\n",
       "\\begin{tabular}{r|llll}\n",
       "  & position & uni\\_feature & iri & sample\\\\\n",
       "  & <chr> & <chr> & <dbl> & <chr>\\\\\n",
       "\\hline\n",
       "\t1 & chr19:18701743-18702917:+   & chr19/REX1BD/+/1\\_8 & 0.20936259 & GW08\\\\\n",
       "\t2 & chr8:32600770-32607078:+    & chr8/NRG1/+/1\\_14   &        Inf & GW08\\\\\n",
       "\t3 & chr8:32607102-32611889:+    & chr8/NRG1/+/1\\_15   &        Inf & GW08\\\\\n",
       "\t4 & chr13:101144072-101167680:+ & chr13/PCCA/+/1\\_39  & 0.02362897 & GW08\\\\\n",
       "\t5 & chr6:108544249-108581963:-  & chr6/SNX3/-/1\\_4    &        Inf & GW08\\\\\n",
       "\t6 & chr16:28164106-28167394:-   & chr16/XPO6/-/1\\_34  &        Inf & GW08\\\\\n",
       "\\end{tabular}\n"
      ],
      "text/markdown": [
       "\n",
       "A data.frame: 6 × 4\n",
       "\n",
       "| <!--/--> | position &lt;chr&gt; | uni_feature &lt;chr&gt; | iri &lt;dbl&gt; | sample &lt;chr&gt; |\n",
       "|---|---|---|---|---|\n",
       "| 1 | chr19:18701743-18702917:+   | chr19/REX1BD/+/1_8 | 0.20936259 | GW08 |\n",
       "| 2 | chr8:32600770-32607078:+    | chr8/NRG1/+/1_14   |        Inf | GW08 |\n",
       "| 3 | chr8:32607102-32611889:+    | chr8/NRG1/+/1_15   |        Inf | GW08 |\n",
       "| 4 | chr13:101144072-101167680:+ | chr13/PCCA/+/1_39  | 0.02362897 | GW08 |\n",
       "| 5 | chr6:108544249-108581963:-  | chr6/SNX3/-/1_4    |        Inf | GW08 |\n",
       "| 6 | chr16:28164106-28167394:-   | chr16/XPO6/-/1_34  |        Inf | GW08 |\n",
       "\n"
      ],
      "text/plain": [
       "  position                    uni_feature        iri        sample\n",
       "1 chr19:18701743-18702917:+   chr19/REX1BD/+/1_8 0.20936259 GW08  \n",
       "2 chr8:32600770-32607078:+    chr8/NRG1/+/1_14          Inf GW08  \n",
       "3 chr8:32607102-32611889:+    chr8/NRG1/+/1_15          Inf GW08  \n",
       "4 chr13:101144072-101167680:+ chr13/PCCA/+/1_39  0.02362897 GW08  \n",
       "5 chr6:108544249-108581963:-  chr6/SNX3/-/1_4           Inf GW08  \n",
       "6 chr16:28164106-28167394:-   chr16/XPO6/-/1_34         Inf GW08  "
      ]
     },
     "metadata": {},
     "output_type": "display_data"
    }
   ],
   "source": [
    "head(df)"
   ]
  },
  {
   "cell_type": "code",
   "execution_count": 39,
   "metadata": {
    "vscode": {
     "languageId": "r"
    }
   },
   "outputs": [],
   "source": [
    "write.table(df,\"/disk1/wenqing/tmp_data/PFC_s2/all_analysis_result/intron_retention_analysis_senescence-master/all_inron_iri.txt\",sep='\\t',quote=F,col.names=F,row.names=F)"
   ]
  },
  {
   "cell_type": "code",
   "execution_count": 21,
   "metadata": {
    "vscode": {
     "languageId": "r"
    }
   },
   "outputs": [
    {
     "data": {
      "text/html": [
       "<table class=\"dataframe\">\n",
       "<caption>A tibble: 6 × 13</caption>\n",
       "<thead>\n",
       "\t<tr><th scope=col>uni_feature</th><th scope=col>GW08</th><th scope=col>GW12</th><th scope=col>GW16_1_3</th><th scope=col>GW16_1_4</th><th scope=col>GW16_1_9</th><th scope=col>GW19_1_1</th><th scope=col>GW19_1_2</th><th scope=col>GW19_1_3</th><th scope=col>GW23_1_1</th><th scope=col>GW23_1_2</th><th scope=col>GW23_1_3</th><th scope=col>GW26_1_1</th></tr>\n",
       "\t<tr><th scope=col>&lt;chr&gt;</th><th scope=col>&lt;dbl&gt;</th><th scope=col>&lt;dbl&gt;</th><th scope=col>&lt;dbl&gt;</th><th scope=col>&lt;dbl&gt;</th><th scope=col>&lt;dbl&gt;</th><th scope=col>&lt;dbl&gt;</th><th scope=col>&lt;dbl&gt;</th><th scope=col>&lt;dbl&gt;</th><th scope=col>&lt;dbl&gt;</th><th scope=col>&lt;dbl&gt;</th><th scope=col>&lt;dbl&gt;</th><th scope=col>&lt;dbl&gt;</th></tr>\n",
       "</thead>\n",
       "<tbody>\n",
       "\t<tr><td>chr19/REX1BD/+/1_8</td><td>0.20936259</td><td> NA</td><td> NA</td><td>        NA</td><td>0.003963854</td><td>0.005443476</td><td>NA</td><td> NA</td><td>0.005665363</td><td> NA</td><td>         NA</td><td>0.02332297</td></tr>\n",
       "\t<tr><td>chr8/NRG1/+/1_14  </td><td>       Inf</td><td>Inf</td><td> NA</td><td>        NA</td><td>         NA</td><td>         NA</td><td>NA</td><td> NA</td><td>         NA</td><td> NA</td><td>         NA</td><td>        NA</td></tr>\n",
       "\t<tr><td>chr8/NRG1/+/1_15  </td><td>       Inf</td><td> NA</td><td> NA</td><td>        NA</td><td>        Inf</td><td>         NA</td><td>NA</td><td> NA</td><td>         NA</td><td> NA</td><td>         NA</td><td>        NA</td></tr>\n",
       "\t<tr><td>chr13/PCCA/+/1_39 </td><td>0.02362897</td><td> NA</td><td> NA</td><td>        NA</td><td>         NA</td><td>0.026431718</td><td>NA</td><td> NA</td><td>        Inf</td><td> NA</td><td>         NA</td><td>        NA</td></tr>\n",
       "\t<tr><td>chr6/SNX3/-/1_4   </td><td>       Inf</td><td> NA</td><td> NA</td><td>0.03040427</td><td>0.052627264</td><td>         NA</td><td>NA</td><td> NA</td><td>         NA</td><td> NA</td><td>0.005363512</td><td>0.01528870</td></tr>\n",
       "\t<tr><td>chr16/XPO6/-/1_34 </td><td>       Inf</td><td>Inf</td><td>Inf</td><td>        NA</td><td>        Inf</td><td>         NA</td><td>NA</td><td>Inf</td><td>         NA</td><td>Inf</td><td>        Inf</td><td>       Inf</td></tr>\n",
       "</tbody>\n",
       "</table>\n"
      ],
      "text/latex": [
       "A tibble: 6 × 13\n",
       "\\begin{tabular}{lllllllllllll}\n",
       " uni\\_feature & GW08 & GW12 & GW16\\_1\\_3 & GW16\\_1\\_4 & GW16\\_1\\_9 & GW19\\_1\\_1 & GW19\\_1\\_2 & GW19\\_1\\_3 & GW23\\_1\\_1 & GW23\\_1\\_2 & GW23\\_1\\_3 & GW26\\_1\\_1\\\\\n",
       " <chr> & <dbl> & <dbl> & <dbl> & <dbl> & <dbl> & <dbl> & <dbl> & <dbl> & <dbl> & <dbl> & <dbl> & <dbl>\\\\\n",
       "\\hline\n",
       "\t chr19/REX1BD/+/1\\_8 & 0.20936259 &  NA &  NA &         NA & 0.003963854 & 0.005443476 & NA &  NA & 0.005665363 &  NA &          NA & 0.02332297\\\\\n",
       "\t chr8/NRG1/+/1\\_14   &        Inf & Inf &  NA &         NA &          NA &          NA & NA &  NA &          NA &  NA &          NA &         NA\\\\\n",
       "\t chr8/NRG1/+/1\\_15   &        Inf &  NA &  NA &         NA &         Inf &          NA & NA &  NA &          NA &  NA &          NA &         NA\\\\\n",
       "\t chr13/PCCA/+/1\\_39  & 0.02362897 &  NA &  NA &         NA &          NA & 0.026431718 & NA &  NA &         Inf &  NA &          NA &         NA\\\\\n",
       "\t chr6/SNX3/-/1\\_4    &        Inf &  NA &  NA & 0.03040427 & 0.052627264 &          NA & NA &  NA &          NA &  NA & 0.005363512 & 0.01528870\\\\\n",
       "\t chr16/XPO6/-/1\\_34  &        Inf & Inf & Inf &         NA &         Inf &          NA & NA & Inf &          NA & Inf &         Inf &        Inf\\\\\n",
       "\\end{tabular}\n"
      ],
      "text/markdown": [
       "\n",
       "A tibble: 6 × 13\n",
       "\n",
       "| uni_feature &lt;chr&gt; | GW08 &lt;dbl&gt; | GW12 &lt;dbl&gt; | GW16_1_3 &lt;dbl&gt; | GW16_1_4 &lt;dbl&gt; | GW16_1_9 &lt;dbl&gt; | GW19_1_1 &lt;dbl&gt; | GW19_1_2 &lt;dbl&gt; | GW19_1_3 &lt;dbl&gt; | GW23_1_1 &lt;dbl&gt; | GW23_1_2 &lt;dbl&gt; | GW23_1_3 &lt;dbl&gt; | GW26_1_1 &lt;dbl&gt; |\n",
       "|---|---|---|---|---|---|---|---|---|---|---|---|---|\n",
       "| chr19/REX1BD/+/1_8 | 0.20936259 |  NA |  NA |         NA | 0.003963854 | 0.005443476 | NA |  NA | 0.005665363 |  NA |          NA | 0.02332297 |\n",
       "| chr8/NRG1/+/1_14   |        Inf | Inf |  NA |         NA |          NA |          NA | NA |  NA |          NA |  NA |          NA |         NA |\n",
       "| chr8/NRG1/+/1_15   |        Inf |  NA |  NA |         NA |         Inf |          NA | NA |  NA |          NA |  NA |          NA |         NA |\n",
       "| chr13/PCCA/+/1_39  | 0.02362897 |  NA |  NA |         NA |          NA | 0.026431718 | NA |  NA |         Inf |  NA |          NA |         NA |\n",
       "| chr6/SNX3/-/1_4    |        Inf |  NA |  NA | 0.03040427 | 0.052627264 |          NA | NA |  NA |          NA |  NA | 0.005363512 | 0.01528870 |\n",
       "| chr16/XPO6/-/1_34  |        Inf | Inf | Inf |         NA |         Inf |          NA | NA | Inf |          NA | Inf |         Inf |        Inf |\n",
       "\n"
      ],
      "text/plain": [
       "  uni_feature        GW08       GW12 GW16_1_3 GW16_1_4   GW16_1_9   \n",
       "1 chr19/REX1BD/+/1_8 0.20936259  NA   NA              NA 0.003963854\n",
       "2 chr8/NRG1/+/1_14          Inf Inf   NA              NA          NA\n",
       "3 chr8/NRG1/+/1_15          Inf  NA   NA              NA         Inf\n",
       "4 chr13/PCCA/+/1_39  0.02362897  NA   NA              NA          NA\n",
       "5 chr6/SNX3/-/1_4           Inf  NA   NA      0.03040427 0.052627264\n",
       "6 chr16/XPO6/-/1_34         Inf Inf  Inf              NA         Inf\n",
       "  GW19_1_1    GW19_1_2 GW19_1_3 GW23_1_1    GW23_1_2 GW23_1_3    GW26_1_1  \n",
       "1 0.005443476 NA        NA      0.005665363  NA               NA 0.02332297\n",
       "2          NA NA        NA               NA  NA               NA         NA\n",
       "3          NA NA        NA               NA  NA               NA         NA\n",
       "4 0.026431718 NA        NA              Inf  NA               NA         NA\n",
       "5          NA NA        NA               NA  NA      0.005363512 0.01528870\n",
       "6          NA NA       Inf               NA Inf              Inf        Inf"
      ]
     },
     "metadata": {},
     "output_type": "display_data"
    },
    {
     "data": {
      "text/html": [
       "<style>\n",
       ".list-inline {list-style: none; margin:0; padding: 0}\n",
       ".list-inline>li {display: inline-block}\n",
       ".list-inline>li:not(:last-child)::after {content: \"\\00b7\"; padding: 0 .5ex}\n",
       "</style>\n",
       "<ol class=list-inline><li>74426</li><li>13</li></ol>\n"
      ],
      "text/latex": [
       "\\begin{enumerate*}\n",
       "\\item 74426\n",
       "\\item 13\n",
       "\\end{enumerate*}\n"
      ],
      "text/markdown": [
       "1. 74426\n",
       "2. 13\n",
       "\n",
       "\n"
      ],
      "text/plain": [
       "[1] 74426    13"
      ]
     },
     "metadata": {},
     "output_type": "display_data"
    }
   ],
   "source": [
    "# 使用pivot_wider函数进行转换\n",
    "wide_df <- pivot_wider(df, names_from = \"sample\", values_from = \"iri\")\n",
    "head(wide_df)\n",
    "dim(wide_df)\n"
   ]
  },
  {
   "cell_type": "code",
   "execution_count": 22,
   "metadata": {
    "vscode": {
     "languageId": "r"
    }
   },
   "outputs": [
    {
     "data": {
      "text/html": [
       "<table class=\"dataframe\">\n",
       "<caption>A data.frame: 6 × 12</caption>\n",
       "<thead>\n",
       "\t<tr><th></th><th scope=col>GW08</th><th scope=col>GW12</th><th scope=col>GW16_1_3</th><th scope=col>GW16_1_4</th><th scope=col>GW16_1_9</th><th scope=col>GW19_1_1</th><th scope=col>GW19_1_2</th><th scope=col>GW19_1_3</th><th scope=col>GW23_1_1</th><th scope=col>GW23_1_2</th><th scope=col>GW23_1_3</th><th scope=col>GW26_1_1</th></tr>\n",
       "\t<tr><th></th><th scope=col>&lt;dbl&gt;</th><th scope=col>&lt;dbl&gt;</th><th scope=col>&lt;dbl&gt;</th><th scope=col>&lt;dbl&gt;</th><th scope=col>&lt;dbl&gt;</th><th scope=col>&lt;dbl&gt;</th><th scope=col>&lt;dbl&gt;</th><th scope=col>&lt;dbl&gt;</th><th scope=col>&lt;dbl&gt;</th><th scope=col>&lt;dbl&gt;</th><th scope=col>&lt;dbl&gt;</th><th scope=col>&lt;dbl&gt;</th></tr>\n",
       "</thead>\n",
       "<tbody>\n",
       "\t<tr><th scope=row>chr19/REX1BD/+/1_8</th><td>0.20936259</td><td> NA</td><td> NA</td><td>        NA</td><td>0.003963854</td><td>0.005443476</td><td>NA</td><td> NA</td><td>0.005665363</td><td> NA</td><td>         NA</td><td>0.02332297</td></tr>\n",
       "\t<tr><th scope=row>chr8/NRG1/+/1_14</th><td>       Inf</td><td>Inf</td><td> NA</td><td>        NA</td><td>         NA</td><td>         NA</td><td>NA</td><td> NA</td><td>         NA</td><td> NA</td><td>         NA</td><td>        NA</td></tr>\n",
       "\t<tr><th scope=row>chr8/NRG1/+/1_15</th><td>       Inf</td><td> NA</td><td> NA</td><td>        NA</td><td>        Inf</td><td>         NA</td><td>NA</td><td> NA</td><td>         NA</td><td> NA</td><td>         NA</td><td>        NA</td></tr>\n",
       "\t<tr><th scope=row>chr13/PCCA/+/1_39</th><td>0.02362897</td><td> NA</td><td> NA</td><td>        NA</td><td>         NA</td><td>0.026431718</td><td>NA</td><td> NA</td><td>        Inf</td><td> NA</td><td>         NA</td><td>        NA</td></tr>\n",
       "\t<tr><th scope=row>chr6/SNX3/-/1_4</th><td>       Inf</td><td> NA</td><td> NA</td><td>0.03040427</td><td>0.052627264</td><td>         NA</td><td>NA</td><td> NA</td><td>         NA</td><td> NA</td><td>0.005363512</td><td>0.01528870</td></tr>\n",
       "\t<tr><th scope=row>chr16/XPO6/-/1_34</th><td>       Inf</td><td>Inf</td><td>Inf</td><td>        NA</td><td>        Inf</td><td>         NA</td><td>NA</td><td>Inf</td><td>         NA</td><td>Inf</td><td>        Inf</td><td>       Inf</td></tr>\n",
       "</tbody>\n",
       "</table>\n"
      ],
      "text/latex": [
       "A data.frame: 6 × 12\n",
       "\\begin{tabular}{r|llllllllllll}\n",
       "  & GW08 & GW12 & GW16\\_1\\_3 & GW16\\_1\\_4 & GW16\\_1\\_9 & GW19\\_1\\_1 & GW19\\_1\\_2 & GW19\\_1\\_3 & GW23\\_1\\_1 & GW23\\_1\\_2 & GW23\\_1\\_3 & GW26\\_1\\_1\\\\\n",
       "  & <dbl> & <dbl> & <dbl> & <dbl> & <dbl> & <dbl> & <dbl> & <dbl> & <dbl> & <dbl> & <dbl> & <dbl>\\\\\n",
       "\\hline\n",
       "\tchr19/REX1BD/+/1\\_8 & 0.20936259 &  NA &  NA &         NA & 0.003963854 & 0.005443476 & NA &  NA & 0.005665363 &  NA &          NA & 0.02332297\\\\\n",
       "\tchr8/NRG1/+/1\\_14 &        Inf & Inf &  NA &         NA &          NA &          NA & NA &  NA &          NA &  NA &          NA &         NA\\\\\n",
       "\tchr8/NRG1/+/1\\_15 &        Inf &  NA &  NA &         NA &         Inf &          NA & NA &  NA &          NA &  NA &          NA &         NA\\\\\n",
       "\tchr13/PCCA/+/1\\_39 & 0.02362897 &  NA &  NA &         NA &          NA & 0.026431718 & NA &  NA &         Inf &  NA &          NA &         NA\\\\\n",
       "\tchr6/SNX3/-/1\\_4 &        Inf &  NA &  NA & 0.03040427 & 0.052627264 &          NA & NA &  NA &          NA &  NA & 0.005363512 & 0.01528870\\\\\n",
       "\tchr16/XPO6/-/1\\_34 &        Inf & Inf & Inf &         NA &         Inf &          NA & NA & Inf &          NA & Inf &         Inf &        Inf\\\\\n",
       "\\end{tabular}\n"
      ],
      "text/markdown": [
       "\n",
       "A data.frame: 6 × 12\n",
       "\n",
       "| <!--/--> | GW08 &lt;dbl&gt; | GW12 &lt;dbl&gt; | GW16_1_3 &lt;dbl&gt; | GW16_1_4 &lt;dbl&gt; | GW16_1_9 &lt;dbl&gt; | GW19_1_1 &lt;dbl&gt; | GW19_1_2 &lt;dbl&gt; | GW19_1_3 &lt;dbl&gt; | GW23_1_1 &lt;dbl&gt; | GW23_1_2 &lt;dbl&gt; | GW23_1_3 &lt;dbl&gt; | GW26_1_1 &lt;dbl&gt; |\n",
       "|---|---|---|---|---|---|---|---|---|---|---|---|---|\n",
       "| chr19/REX1BD/+/1_8 | 0.20936259 |  NA |  NA |         NA | 0.003963854 | 0.005443476 | NA |  NA | 0.005665363 |  NA |          NA | 0.02332297 |\n",
       "| chr8/NRG1/+/1_14 |        Inf | Inf |  NA |         NA |          NA |          NA | NA |  NA |          NA |  NA |          NA |         NA |\n",
       "| chr8/NRG1/+/1_15 |        Inf |  NA |  NA |         NA |         Inf |          NA | NA |  NA |          NA |  NA |          NA |         NA |\n",
       "| chr13/PCCA/+/1_39 | 0.02362897 |  NA |  NA |         NA |          NA | 0.026431718 | NA |  NA |         Inf |  NA |          NA |         NA |\n",
       "| chr6/SNX3/-/1_4 |        Inf |  NA |  NA | 0.03040427 | 0.052627264 |          NA | NA |  NA |          NA |  NA | 0.005363512 | 0.01528870 |\n",
       "| chr16/XPO6/-/1_34 |        Inf | Inf | Inf |         NA |         Inf |          NA | NA | Inf |          NA | Inf |         Inf |        Inf |\n",
       "\n"
      ],
      "text/plain": [
       "                   GW08       GW12 GW16_1_3 GW16_1_4   GW16_1_9    GW19_1_1   \n",
       "chr19/REX1BD/+/1_8 0.20936259  NA   NA              NA 0.003963854 0.005443476\n",
       "chr8/NRG1/+/1_14          Inf Inf   NA              NA          NA          NA\n",
       "chr8/NRG1/+/1_15          Inf  NA   NA              NA         Inf          NA\n",
       "chr13/PCCA/+/1_39  0.02362897  NA   NA              NA          NA 0.026431718\n",
       "chr6/SNX3/-/1_4           Inf  NA   NA      0.03040427 0.052627264          NA\n",
       "chr16/XPO6/-/1_34         Inf Inf  Inf              NA         Inf          NA\n",
       "                   GW19_1_2 GW19_1_3 GW23_1_1    GW23_1_2 GW23_1_3   \n",
       "chr19/REX1BD/+/1_8 NA        NA      0.005665363  NA               NA\n",
       "chr8/NRG1/+/1_14   NA        NA               NA  NA               NA\n",
       "chr8/NRG1/+/1_15   NA        NA               NA  NA               NA\n",
       "chr13/PCCA/+/1_39  NA        NA              Inf  NA               NA\n",
       "chr6/SNX3/-/1_4    NA        NA               NA  NA      0.005363512\n",
       "chr16/XPO6/-/1_34  NA       Inf               NA Inf              Inf\n",
       "                   GW26_1_1  \n",
       "chr19/REX1BD/+/1_8 0.02332297\n",
       "chr8/NRG1/+/1_14           NA\n",
       "chr8/NRG1/+/1_15           NA\n",
       "chr13/PCCA/+/1_39          NA\n",
       "chr6/SNX3/-/1_4    0.01528870\n",
       "chr16/XPO6/-/1_34         Inf"
      ]
     },
     "metadata": {},
     "output_type": "display_data"
    }
   ],
   "source": [
    "data <- as.data.frame(wide_df)\n",
    "rownames(data) <- data$uni_feature\n",
    "data <- data[,-1]\n",
    "head(data)\n"
   ]
  },
  {
   "cell_type": "code",
   "execution_count": 23,
   "metadata": {
    "vscode": {
     "languageId": "r"
    }
   },
   "outputs": [
    {
     "data": {
      "text/html": [
       "<table class=\"dataframe\">\n",
       "<caption>A data.frame: 6 × 12</caption>\n",
       "<thead>\n",
       "\t<tr><th></th><th scope=col>GW08</th><th scope=col>GW12</th><th scope=col>GW16_1_3</th><th scope=col>GW16_1_4</th><th scope=col>GW16_1_9</th><th scope=col>GW19_1_1</th><th scope=col>GW19_1_2</th><th scope=col>GW19_1_3</th><th scope=col>GW23_1_1</th><th scope=col>GW23_1_2</th><th scope=col>GW23_1_3</th><th scope=col>GW26_1_1</th></tr>\n",
       "\t<tr><th></th><th scope=col>&lt;dbl&gt;</th><th scope=col>&lt;dbl&gt;</th><th scope=col>&lt;dbl&gt;</th><th scope=col>&lt;dbl&gt;</th><th scope=col>&lt;dbl&gt;</th><th scope=col>&lt;dbl&gt;</th><th scope=col>&lt;dbl&gt;</th><th scope=col>&lt;dbl&gt;</th><th scope=col>&lt;dbl&gt;</th><th scope=col>&lt;dbl&gt;</th><th scope=col>&lt;dbl&gt;</th><th scope=col>&lt;dbl&gt;</th></tr>\n",
       "</thead>\n",
       "<tbody>\n",
       "\t<tr><th scope=row>chr19/REX1BD/+/1_8</th><td>0.20936259</td><td>0</td><td>0</td><td>0.00000000</td><td>0.003963854</td><td>0.005443476</td><td>0</td><td>0</td><td>0.005665363</td><td>0</td><td>0.000000000</td><td>0.02332297</td></tr>\n",
       "\t<tr><th scope=row>chr8/NRG1/+/1_14</th><td>0.00000000</td><td>0</td><td>0</td><td>0.00000000</td><td>0.000000000</td><td>0.000000000</td><td>0</td><td>0</td><td>0.000000000</td><td>0</td><td>0.000000000</td><td>0.00000000</td></tr>\n",
       "\t<tr><th scope=row>chr8/NRG1/+/1_15</th><td>0.00000000</td><td>0</td><td>0</td><td>0.00000000</td><td>0.000000000</td><td>0.000000000</td><td>0</td><td>0</td><td>0.000000000</td><td>0</td><td>0.000000000</td><td>0.00000000</td></tr>\n",
       "\t<tr><th scope=row>chr13/PCCA/+/1_39</th><td>0.02362897</td><td>0</td><td>0</td><td>0.00000000</td><td>0.000000000</td><td>0.026431718</td><td>0</td><td>0</td><td>0.000000000</td><td>0</td><td>0.000000000</td><td>0.00000000</td></tr>\n",
       "\t<tr><th scope=row>chr6/SNX3/-/1_4</th><td>0.00000000</td><td>0</td><td>0</td><td>0.03040427</td><td>0.052627264</td><td>0.000000000</td><td>0</td><td>0</td><td>0.000000000</td><td>0</td><td>0.005363512</td><td>0.01528870</td></tr>\n",
       "\t<tr><th scope=row>chr16/XPO6/-/1_34</th><td>0.00000000</td><td>0</td><td>0</td><td>0.00000000</td><td>0.000000000</td><td>0.000000000</td><td>0</td><td>0</td><td>0.000000000</td><td>0</td><td>0.000000000</td><td>0.00000000</td></tr>\n",
       "</tbody>\n",
       "</table>\n"
      ],
      "text/latex": [
       "A data.frame: 6 × 12\n",
       "\\begin{tabular}{r|llllllllllll}\n",
       "  & GW08 & GW12 & GW16\\_1\\_3 & GW16\\_1\\_4 & GW16\\_1\\_9 & GW19\\_1\\_1 & GW19\\_1\\_2 & GW19\\_1\\_3 & GW23\\_1\\_1 & GW23\\_1\\_2 & GW23\\_1\\_3 & GW26\\_1\\_1\\\\\n",
       "  & <dbl> & <dbl> & <dbl> & <dbl> & <dbl> & <dbl> & <dbl> & <dbl> & <dbl> & <dbl> & <dbl> & <dbl>\\\\\n",
       "\\hline\n",
       "\tchr19/REX1BD/+/1\\_8 & 0.20936259 & 0 & 0 & 0.00000000 & 0.003963854 & 0.005443476 & 0 & 0 & 0.005665363 & 0 & 0.000000000 & 0.02332297\\\\\n",
       "\tchr8/NRG1/+/1\\_14 & 0.00000000 & 0 & 0 & 0.00000000 & 0.000000000 & 0.000000000 & 0 & 0 & 0.000000000 & 0 & 0.000000000 & 0.00000000\\\\\n",
       "\tchr8/NRG1/+/1\\_15 & 0.00000000 & 0 & 0 & 0.00000000 & 0.000000000 & 0.000000000 & 0 & 0 & 0.000000000 & 0 & 0.000000000 & 0.00000000\\\\\n",
       "\tchr13/PCCA/+/1\\_39 & 0.02362897 & 0 & 0 & 0.00000000 & 0.000000000 & 0.026431718 & 0 & 0 & 0.000000000 & 0 & 0.000000000 & 0.00000000\\\\\n",
       "\tchr6/SNX3/-/1\\_4 & 0.00000000 & 0 & 0 & 0.03040427 & 0.052627264 & 0.000000000 & 0 & 0 & 0.000000000 & 0 & 0.005363512 & 0.01528870\\\\\n",
       "\tchr16/XPO6/-/1\\_34 & 0.00000000 & 0 & 0 & 0.00000000 & 0.000000000 & 0.000000000 & 0 & 0 & 0.000000000 & 0 & 0.000000000 & 0.00000000\\\\\n",
       "\\end{tabular}\n"
      ],
      "text/markdown": [
       "\n",
       "A data.frame: 6 × 12\n",
       "\n",
       "| <!--/--> | GW08 &lt;dbl&gt; | GW12 &lt;dbl&gt; | GW16_1_3 &lt;dbl&gt; | GW16_1_4 &lt;dbl&gt; | GW16_1_9 &lt;dbl&gt; | GW19_1_1 &lt;dbl&gt; | GW19_1_2 &lt;dbl&gt; | GW19_1_3 &lt;dbl&gt; | GW23_1_1 &lt;dbl&gt; | GW23_1_2 &lt;dbl&gt; | GW23_1_3 &lt;dbl&gt; | GW26_1_1 &lt;dbl&gt; |\n",
       "|---|---|---|---|---|---|---|---|---|---|---|---|---|\n",
       "| chr19/REX1BD/+/1_8 | 0.20936259 | 0 | 0 | 0.00000000 | 0.003963854 | 0.005443476 | 0 | 0 | 0.005665363 | 0 | 0.000000000 | 0.02332297 |\n",
       "| chr8/NRG1/+/1_14 | 0.00000000 | 0 | 0 | 0.00000000 | 0.000000000 | 0.000000000 | 0 | 0 | 0.000000000 | 0 | 0.000000000 | 0.00000000 |\n",
       "| chr8/NRG1/+/1_15 | 0.00000000 | 0 | 0 | 0.00000000 | 0.000000000 | 0.000000000 | 0 | 0 | 0.000000000 | 0 | 0.000000000 | 0.00000000 |\n",
       "| chr13/PCCA/+/1_39 | 0.02362897 | 0 | 0 | 0.00000000 | 0.000000000 | 0.026431718 | 0 | 0 | 0.000000000 | 0 | 0.000000000 | 0.00000000 |\n",
       "| chr6/SNX3/-/1_4 | 0.00000000 | 0 | 0 | 0.03040427 | 0.052627264 | 0.000000000 | 0 | 0 | 0.000000000 | 0 | 0.005363512 | 0.01528870 |\n",
       "| chr16/XPO6/-/1_34 | 0.00000000 | 0 | 0 | 0.00000000 | 0.000000000 | 0.000000000 | 0 | 0 | 0.000000000 | 0 | 0.000000000 | 0.00000000 |\n",
       "\n"
      ],
      "text/plain": [
       "                   GW08       GW12 GW16_1_3 GW16_1_4   GW16_1_9    GW19_1_1   \n",
       "chr19/REX1BD/+/1_8 0.20936259 0    0        0.00000000 0.003963854 0.005443476\n",
       "chr8/NRG1/+/1_14   0.00000000 0    0        0.00000000 0.000000000 0.000000000\n",
       "chr8/NRG1/+/1_15   0.00000000 0    0        0.00000000 0.000000000 0.000000000\n",
       "chr13/PCCA/+/1_39  0.02362897 0    0        0.00000000 0.000000000 0.026431718\n",
       "chr6/SNX3/-/1_4    0.00000000 0    0        0.03040427 0.052627264 0.000000000\n",
       "chr16/XPO6/-/1_34  0.00000000 0    0        0.00000000 0.000000000 0.000000000\n",
       "                   GW19_1_2 GW19_1_3 GW23_1_1    GW23_1_2 GW23_1_3   \n",
       "chr19/REX1BD/+/1_8 0        0        0.005665363 0        0.000000000\n",
       "chr8/NRG1/+/1_14   0        0        0.000000000 0        0.000000000\n",
       "chr8/NRG1/+/1_15   0        0        0.000000000 0        0.000000000\n",
       "chr13/PCCA/+/1_39  0        0        0.000000000 0        0.000000000\n",
       "chr6/SNX3/-/1_4    0        0        0.000000000 0        0.005363512\n",
       "chr16/XPO6/-/1_34  0        0        0.000000000 0        0.000000000\n",
       "                   GW26_1_1  \n",
       "chr19/REX1BD/+/1_8 0.02332297\n",
       "chr8/NRG1/+/1_14   0.00000000\n",
       "chr8/NRG1/+/1_15   0.00000000\n",
       "chr13/PCCA/+/1_39  0.00000000\n",
       "chr6/SNX3/-/1_4    0.01528870\n",
       "chr16/XPO6/-/1_34  0.00000000"
      ]
     },
     "metadata": {},
     "output_type": "display_data"
    }
   ],
   "source": [
    "data[is.na(data)] <- 0\n",
    "data[data==Inf] <- 0\n",
    "\n",
    "# 查看转换后的数据框\n",
    "head(data)"
   ]
  },
  {
   "cell_type": "code",
   "execution_count": 24,
   "metadata": {
    "vscode": {
     "languageId": "r"
    }
   },
   "outputs": [
    {
     "data": {
      "text/html": [
       "<style>\n",
       ".list-inline {list-style: none; margin:0; padding: 0}\n",
       ".list-inline>li {display: inline-block}\n",
       ".list-inline>li:not(:last-child)::after {content: \"\\00b7\"; padding: 0 .5ex}\n",
       "</style>\n",
       "<ol class=list-inline><li>26219</li><li>12</li></ol>\n"
      ],
      "text/latex": [
       "\\begin{enumerate*}\n",
       "\\item 26219\n",
       "\\item 12\n",
       "\\end{enumerate*}\n"
      ],
      "text/markdown": [
       "1. 26219\n",
       "2. 12\n",
       "\n",
       "\n"
      ],
      "text/plain": [
       "[1] 26219    12"
      ]
     },
     "metadata": {},
     "output_type": "display_data"
    }
   ],
   "source": [
    "data <- data[rowSums(data)!=0,]\n",
    "dim(data)"
   ]
  },
  {
   "cell_type": "code",
   "execution_count": 32,
   "metadata": {
    "vscode": {
     "languageId": "r"
    }
   },
   "outputs": [
    {
     "data": {
      "text/html": [
       "728"
      ],
      "text/latex": [
       "728"
      ],
      "text/markdown": [
       "728"
      ],
      "text/plain": [
       "[1] 728"
      ]
     },
     "metadata": {},
     "output_type": "display_data"
    }
   ],
   "source": [
    "length(IRI_dat_08$Gene[which(IRI_dat_08$iri!=Inf)])\n",
    "genes <- IRI_dat_08$Gene[which(IRI_dat_08$iri!=Inf)]\n",
    "write.table(genes,\"/disk1/wenqing/tmp_data/PFC_s2/all_analysis_result/intron_retention_analysis_senescence-master/GW08/GABAergic_neurons/genes_iri_notInf_1_1.txt\",row.names=F,col.names=F,quote=F)"
   ]
  },
  {
   "cell_type": "code",
   "execution_count": 33,
   "metadata": {
    "vscode": {
     "languageId": "r"
    }
   },
   "outputs": [
    {
     "data": {
      "text/html": [
       "<table class=\"dataframe\">\n",
       "<caption>A data.frame: 6 × 21</caption>\n",
       "<thead>\n",
       "\t<tr><th></th><th scope=col>Gene</th><th scope=col>feature</th><th scope=col>rank</th><th scope=col>position</th><th scope=col>length</th><th scope=col>read_counts</th><th scope=col>read_counts_norm</th><th scope=col>coverage...</th><th scope=col>position.exon_left</th><th scope=col>length.exon_left</th><th scope=col>⋯</th><th scope=col>read_counts_norm.exon_left</th><th scope=col>coverage....exon_left</th><th scope=col>position.exon_right</th><th scope=col>length.exon_right</th><th scope=col>read_counts.exon_right</th><th scope=col>read_counts_norm.exon_right</th><th scope=col>coverage....exon_right</th><th scope=col>expr_state</th><th scope=col>iri</th><th scope=col>uni_feature</th></tr>\n",
       "\t<tr><th></th><th scope=col>&lt;chr&gt;</th><th scope=col>&lt;chr&gt;</th><th scope=col>&lt;int&gt;</th><th scope=col>&lt;chr&gt;</th><th scope=col>&lt;int&gt;</th><th scope=col>&lt;int&gt;</th><th scope=col>&lt;dbl&gt;</th><th scope=col>&lt;dbl&gt;</th><th scope=col>&lt;chr&gt;</th><th scope=col>&lt;int&gt;</th><th scope=col>⋯</th><th scope=col>&lt;dbl&gt;</th><th scope=col>&lt;dbl&gt;</th><th scope=col>&lt;chr&gt;</th><th scope=col>&lt;int&gt;</th><th scope=col>&lt;int&gt;</th><th scope=col>&lt;dbl&gt;</th><th scope=col>&lt;dbl&gt;</th><th scope=col>&lt;chr&gt;</th><th scope=col>&lt;dbl&gt;</th><th scope=col>&lt;chr&gt;</th></tr>\n",
       "</thead>\n",
       "<tbody>\n",
       "\t<tr><th scope=row>1</th><td>chr19/REX1BD/+/1</td><td>intron</td><td> 8</td><td>chr19:18701743-18702917:+  </td><td> 1174</td><td>143</td><td>121.8057922</td><td>42.844974</td><td>chr19:18701663-18701743:+  </td><td>  80</td><td>⋯</td><td>737.50000</td><td>100</td><td>chr19:18702917-18703147:+  </td><td>230</td><td>98</td><td>426.0870</td><td>100</td><td>low expression</td><td>0.20936259</td><td>chr19/REX1BD/+/1_8</td></tr>\n",
       "\t<tr><th scope=row>2</th><td>chr8/NRG1/+/1   </td><td>intron</td><td>14</td><td>chr8:32600770-32607078:+   </td><td> 6308</td><td>  2</td><td>  0.3170577</td><td> 4.153456</td><td>chr8:32585466-32585596:+   </td><td> 130</td><td>⋯</td><td>  0.00000</td><td>  0</td><td>chr8:32611889-32611992:+   </td><td>103</td><td> 0</td><td>  0.0000</td><td>  0</td><td>low expression</td><td>       Inf</td><td>chr8/NRG1/+/1_14  </td></tr>\n",
       "\t<tr><th scope=row>3</th><td>chr8/NRG1/+/1   </td><td>intron</td><td>15</td><td>chr8:32607102-32611889:+   </td><td> 4787</td><td>  1</td><td>  0.2088991</td><td> 3.133487</td><td>chr8:32585466-32585596:+   </td><td> 130</td><td>⋯</td><td>  0.00000</td><td>  0</td><td>chr8:32611889-32611992:+   </td><td>103</td><td> 0</td><td>  0.0000</td><td>  0</td><td>low expression</td><td>       Inf</td><td>chr8/NRG1/+/1_15  </td></tr>\n",
       "\t<tr><th scope=row>4</th><td>chr13/PCCA/+/1  </td><td>intron</td><td>39</td><td>chr13:101144072-101167680:+</td><td>23608</td><td> 70</td><td>  2.9650966</td><td> 1.567265</td><td>chr13:101077886-101077985:+</td><td>  99</td><td>⋯</td><td> 20.20202</td><td>100</td><td>chr13:101179928-101180006:+</td><td> 78</td><td>18</td><td>230.7692</td><td>100</td><td>ok            </td><td>0.02362897</td><td>chr13/PCCA/+/1_39 </td></tr>\n",
       "\t<tr><th scope=row>5</th><td>chr6/SNX3/-/1   </td><td>intron</td><td> 4</td><td>chr6:108544249-108581963:- </td><td>37714</td><td> 38</td><td>  1.0075834</td><td> 1.370844</td><td>chr6:108532426-108533458:- </td><td>1032</td><td>⋯</td><td>  0.00000</td><td>  0</td><td>chr6:108582029-108582244:- </td><td>215</td><td> 0</td><td>  0.0000</td><td>  0</td><td>low expression</td><td>       Inf</td><td>chr6/SNX3/-/1_4   </td></tr>\n",
       "\t<tr><th scope=row>6</th><td>chr16/XPO6/-/1  </td><td>intron</td><td>34</td><td>chr16:28164106-28167394:-  </td><td> 3288</td><td>  1</td><td>  0.3041363</td><td> 4.045012</td><td>chr16:28163979-28164106:-  </td><td> 127</td><td>⋯</td><td>  0.00000</td><td>  0</td><td>chr16:28167394-28167848:-  </td><td>454</td><td> 0</td><td>  0.0000</td><td>  0</td><td>low expression</td><td>       Inf</td><td>chr16/XPO6/-/1_34 </td></tr>\n",
       "</tbody>\n",
       "</table>\n"
      ],
      "text/latex": [
       "A data.frame: 6 × 21\n",
       "\\begin{tabular}{r|lllllllllllllllllllll}\n",
       "  & Gene & feature & rank & position & length & read\\_counts & read\\_counts\\_norm & coverage... & position.exon\\_left & length.exon\\_left & ⋯ & read\\_counts\\_norm.exon\\_left & coverage....exon\\_left & position.exon\\_right & length.exon\\_right & read\\_counts.exon\\_right & read\\_counts\\_norm.exon\\_right & coverage....exon\\_right & expr\\_state & iri & uni\\_feature\\\\\n",
       "  & <chr> & <chr> & <int> & <chr> & <int> & <int> & <dbl> & <dbl> & <chr> & <int> & ⋯ & <dbl> & <dbl> & <chr> & <int> & <int> & <dbl> & <dbl> & <chr> & <dbl> & <chr>\\\\\n",
       "\\hline\n",
       "\t1 & chr19/REX1BD/+/1 & intron &  8 & chr19:18701743-18702917:+   &  1174 & 143 & 121.8057922 & 42.844974 & chr19:18701663-18701743:+   &   80 & ⋯ & 737.50000 & 100 & chr19:18702917-18703147:+   & 230 & 98 & 426.0870 & 100 & low expression & 0.20936259 & chr19/REX1BD/+/1\\_8\\\\\n",
       "\t2 & chr8/NRG1/+/1    & intron & 14 & chr8:32600770-32607078:+    &  6308 &   2 &   0.3170577 &  4.153456 & chr8:32585466-32585596:+    &  130 & ⋯ &   0.00000 &   0 & chr8:32611889-32611992:+    & 103 &  0 &   0.0000 &   0 & low expression &        Inf & chr8/NRG1/+/1\\_14  \\\\\n",
       "\t3 & chr8/NRG1/+/1    & intron & 15 & chr8:32607102-32611889:+    &  4787 &   1 &   0.2088991 &  3.133487 & chr8:32585466-32585596:+    &  130 & ⋯ &   0.00000 &   0 & chr8:32611889-32611992:+    & 103 &  0 &   0.0000 &   0 & low expression &        Inf & chr8/NRG1/+/1\\_15  \\\\\n",
       "\t4 & chr13/PCCA/+/1   & intron & 39 & chr13:101144072-101167680:+ & 23608 &  70 &   2.9650966 &  1.567265 & chr13:101077886-101077985:+ &   99 & ⋯ &  20.20202 & 100 & chr13:101179928-101180006:+ &  78 & 18 & 230.7692 & 100 & ok             & 0.02362897 & chr13/PCCA/+/1\\_39 \\\\\n",
       "\t5 & chr6/SNX3/-/1    & intron &  4 & chr6:108544249-108581963:-  & 37714 &  38 &   1.0075834 &  1.370844 & chr6:108532426-108533458:-  & 1032 & ⋯ &   0.00000 &   0 & chr6:108582029-108582244:-  & 215 &  0 &   0.0000 &   0 & low expression &        Inf & chr6/SNX3/-/1\\_4   \\\\\n",
       "\t6 & chr16/XPO6/-/1   & intron & 34 & chr16:28164106-28167394:-   &  3288 &   1 &   0.3041363 &  4.045012 & chr16:28163979-28164106:-   &  127 & ⋯ &   0.00000 &   0 & chr16:28167394-28167848:-   & 454 &  0 &   0.0000 &   0 & low expression &        Inf & chr16/XPO6/-/1\\_34 \\\\\n",
       "\\end{tabular}\n"
      ],
      "text/markdown": [
       "\n",
       "A data.frame: 6 × 21\n",
       "\n",
       "| <!--/--> | Gene &lt;chr&gt; | feature &lt;chr&gt; | rank &lt;int&gt; | position &lt;chr&gt; | length &lt;int&gt; | read_counts &lt;int&gt; | read_counts_norm &lt;dbl&gt; | coverage... &lt;dbl&gt; | position.exon_left &lt;chr&gt; | length.exon_left &lt;int&gt; | ⋯ ⋯ | read_counts_norm.exon_left &lt;dbl&gt; | coverage....exon_left &lt;dbl&gt; | position.exon_right &lt;chr&gt; | length.exon_right &lt;int&gt; | read_counts.exon_right &lt;int&gt; | read_counts_norm.exon_right &lt;dbl&gt; | coverage....exon_right &lt;dbl&gt; | expr_state &lt;chr&gt; | iri &lt;dbl&gt; | uni_feature &lt;chr&gt; |\n",
       "|---|---|---|---|---|---|---|---|---|---|---|---|---|---|---|---|---|---|---|---|---|---|\n",
       "| 1 | chr19/REX1BD/+/1 | intron |  8 | chr19:18701743-18702917:+   |  1174 | 143 | 121.8057922 | 42.844974 | chr19:18701663-18701743:+   |   80 | ⋯ | 737.50000 | 100 | chr19:18702917-18703147:+   | 230 | 98 | 426.0870 | 100 | low expression | 0.20936259 | chr19/REX1BD/+/1_8 |\n",
       "| 2 | chr8/NRG1/+/1    | intron | 14 | chr8:32600770-32607078:+    |  6308 |   2 |   0.3170577 |  4.153456 | chr8:32585466-32585596:+    |  130 | ⋯ |   0.00000 |   0 | chr8:32611889-32611992:+    | 103 |  0 |   0.0000 |   0 | low expression |        Inf | chr8/NRG1/+/1_14   |\n",
       "| 3 | chr8/NRG1/+/1    | intron | 15 | chr8:32607102-32611889:+    |  4787 |   1 |   0.2088991 |  3.133487 | chr8:32585466-32585596:+    |  130 | ⋯ |   0.00000 |   0 | chr8:32611889-32611992:+    | 103 |  0 |   0.0000 |   0 | low expression |        Inf | chr8/NRG1/+/1_15   |\n",
       "| 4 | chr13/PCCA/+/1   | intron | 39 | chr13:101144072-101167680:+ | 23608 |  70 |   2.9650966 |  1.567265 | chr13:101077886-101077985:+ |   99 | ⋯ |  20.20202 | 100 | chr13:101179928-101180006:+ |  78 | 18 | 230.7692 | 100 | ok             | 0.02362897 | chr13/PCCA/+/1_39  |\n",
       "| 5 | chr6/SNX3/-/1    | intron |  4 | chr6:108544249-108581963:-  | 37714 |  38 |   1.0075834 |  1.370844 | chr6:108532426-108533458:-  | 1032 | ⋯ |   0.00000 |   0 | chr6:108582029-108582244:-  | 215 |  0 |   0.0000 |   0 | low expression |        Inf | chr6/SNX3/-/1_4    |\n",
       "| 6 | chr16/XPO6/-/1   | intron | 34 | chr16:28164106-28167394:-   |  3288 |   1 |   0.3041363 |  4.045012 | chr16:28163979-28164106:-   |  127 | ⋯ |   0.00000 |   0 | chr16:28167394-28167848:-   | 454 |  0 |   0.0000 |   0 | low expression |        Inf | chr16/XPO6/-/1_34  |\n",
       "\n"
      ],
      "text/plain": [
       "  Gene             feature rank position                    length read_counts\n",
       "1 chr19/REX1BD/+/1 intron   8   chr19:18701743-18702917:+    1174  143        \n",
       "2 chr8/NRG1/+/1    intron  14   chr8:32600770-32607078:+     6308    2        \n",
       "3 chr8/NRG1/+/1    intron  15   chr8:32607102-32611889:+     4787    1        \n",
       "4 chr13/PCCA/+/1   intron  39   chr13:101144072-101167680:+ 23608   70        \n",
       "5 chr6/SNX3/-/1    intron   4   chr6:108544249-108581963:-  37714   38        \n",
       "6 chr16/XPO6/-/1   intron  34   chr16:28164106-28167394:-    3288    1        \n",
       "  read_counts_norm coverage... position.exon_left          length.exon_left ⋯\n",
       "1 121.8057922      42.844974   chr19:18701663-18701743:+     80             ⋯\n",
       "2   0.3170577       4.153456   chr8:32585466-32585596:+     130             ⋯\n",
       "3   0.2088991       3.133487   chr8:32585466-32585596:+     130             ⋯\n",
       "4   2.9650966       1.567265   chr13:101077886-101077985:+   99             ⋯\n",
       "5   1.0075834       1.370844   chr6:108532426-108533458:-  1032             ⋯\n",
       "6   0.3041363       4.045012   chr16:28163979-28164106:-    127             ⋯\n",
       "  read_counts_norm.exon_left coverage....exon_left position.exon_right        \n",
       "1 737.50000                  100                   chr19:18702917-18703147:+  \n",
       "2   0.00000                    0                   chr8:32611889-32611992:+   \n",
       "3   0.00000                    0                   chr8:32611889-32611992:+   \n",
       "4  20.20202                  100                   chr13:101179928-101180006:+\n",
       "5   0.00000                    0                   chr6:108582029-108582244:- \n",
       "6   0.00000                    0                   chr16:28167394-28167848:-  \n",
       "  length.exon_right read_counts.exon_right read_counts_norm.exon_right\n",
       "1 230               98                     426.0870                   \n",
       "2 103                0                       0.0000                   \n",
       "3 103                0                       0.0000                   \n",
       "4  78               18                     230.7692                   \n",
       "5 215                0                       0.0000                   \n",
       "6 454                0                       0.0000                   \n",
       "  coverage....exon_right expr_state     iri        uni_feature       \n",
       "1 100                    low expression 0.20936259 chr19/REX1BD/+/1_8\n",
       "2   0                    low expression        Inf chr8/NRG1/+/1_14  \n",
       "3   0                    low expression        Inf chr8/NRG1/+/1_15  \n",
       "4 100                    ok             0.02362897 chr13/PCCA/+/1_39 \n",
       "5   0                    low expression        Inf chr6/SNX3/-/1_4   \n",
       "6   0                    low expression        Inf chr16/XPO6/-/1_34 "
      ]
     },
     "metadata": {},
     "output_type": "display_data"
    }
   ],
   "source": [
    "head(IRI_dat_08)"
   ]
  },
  {
   "cell_type": "code",
   "execution_count": 124,
   "metadata": {
    "vscode": {
     "languageId": "r"
    }
   },
   "outputs": [],
   "source": [
    "###与exd100的intron region有交集的res结果\n",
    "res_cluster1 <- read.table(\"/disk1/wenqing/tmp_data/PFC_s2/all_analysis_result/intron_retention_analysis_senescence-master/intron_exd100_region_with_de_edited_sites_cluster1.txt\")\n",
    "res_cluster1[,11] <- paste0(res_cluster1[,1],\"_\",res_cluster1[,9])\n",
    "#####将第八周定为发育早期，第26周定为发育晚期\n",
    "#第8周的intron region和26周的intron region做交集，并对iri做log2比较？？\n",
    "intron_region_08_cluster1 <- res_cluster1[,4][which(res_cluster1[,6]==\"GW08\")]\n",
    "intron_region_26_cluster1 <- res_cluster1[,4][which(res_cluster1[,6]==\"GW26_1_1\")]\n",
    "\n",
    "shared_intron_cluster1 <- intersect(intron_region_08_cluster1,intron_region_26_cluster1)\n",
    "all_rows_cluster1 <- data.frame()\n",
    "for(one in shared_intron_cluster1){\n",
    "    iri_08 <- unique(res_cluster1[,5][which(res_cluster1[,4]==one & res_cluster1[,6]=='GW08')])\n",
    "    iri_26 <- unique(res_cluster1[,5][which(res_cluster1[,4]==one & res_cluster1[,6]=='GW26_1_1')])\n",
    "    \n",
    "    this_row <- c(iri_08,iri_26,one)\n",
    "    all_rows_cluster1 <- rbind(all_rows_cluster1,this_row)\n",
    "}\n",
    "rownames(all_rows_cluster1) <- all_rows_cluster1[,3]\n",
    "all_rows_cluster1 <- all_rows_cluster1[,-3]\n",
    "colnames(all_rows_cluster1) <- c('iri_early','iri_late')\n",
    "all_rows_cluster1$log2_iri_fc_change <- log2(as.numeric(all_rows_cluster1$iri_late)/as.numeric(all_rows_cluster1$iri_early))\n",
    "\n",
    "sub_dat_cluster1 <- all_rows_cluster1$log2_iri_fc_change[!is.na(all_rows_cluster1$log2_iri_fc_change)]\n",
    "sub_dat_cluster1 <- sub_dat_cluster1[sub_dat_cluster1!=-Inf]\n",
    "sub_dat_cluster1 <- sub_dat_cluster1[sub_dat_cluster1!=Inf]"
   ]
  },
  {
   "cell_type": "code",
   "execution_count": 127,
   "metadata": {
    "vscode": {
     "languageId": "r"
    }
   },
   "outputs": [],
   "source": [
    "###与exd100的intron region有交集的res结果\n",
    "res_cluster2 <- read.table(\"/disk1/wenqing/tmp_data/PFC_s2/all_analysis_result/intron_retention_analysis_senescence-master/intron_exd100_region_with_de_edited_sites_cluster2.txt\")\n",
    "res_cluster2[,11] <- paste0(res_cluster2[,1],\"_\",res_cluster2[,9])\n",
    "#####将第八周定为发育早期，第26周定为发育晚期\n",
    "#第8周的intron region和26周的intron region做交集，并对iri做log2比较？？\n",
    "intron_region_08_cluster2 <- res_cluster2[,4][which(res_cluster2[,6]==\"GW08\")]\n",
    "intron_region_26_cluster2 <- res_cluster2[,4][which(res_cluster2[,6]==\"GW26_1_1\")]\n",
    "\n",
    "shared_intron_cluster2 <- intersect(intron_region_08_cluster2,intron_region_26_cluster2)\n",
    "all_rows_cluster2 <- data.frame()\n",
    "for(one in shared_intron_cluster2){\n",
    "    iri_08 <- unique(res_cluster2[,5][which(res_cluster2[,4]==one & res_cluster2[,6]=='GW08')])\n",
    "    iri_26 <- unique(res_cluster2[,5][which(res_cluster2[,4]==one & res_cluster2[,6]=='GW26_1_1')])\n",
    "    \n",
    "    this_row <- c(iri_08,iri_26,one)\n",
    "    all_rows_cluster2 <- rbind(all_rows_cluster2,this_row)\n",
    "}\n",
    "rownames(all_rows_cluster2) <- all_rows_cluster2[,3]\n",
    "all_rows_cluster2 <- all_rows_cluster2[,-3]\n",
    "colnames(all_rows_cluster2) <- c('iri_early','iri_late')\n",
    "all_rows_cluster2$log2_iri_fc_change <- log2(as.numeric(all_rows_cluster2$iri_late)/as.numeric(all_rows_cluster2$iri_early))\n",
    "\n",
    "sub_dat_cluster2 <- all_rows_cluster2$log2_iri_fc_change[!is.na(all_rows_cluster2$log2_iri_fc_change)]\n",
    "sub_dat_cluster2 <- sub_dat_cluster2[sub_dat_cluster2!=-Inf]\n",
    "sub_dat_cluster2 <- sub_dat_cluster2[sub_dat_cluster2!=Inf]"
   ]
  },
  {
   "cell_type": "code",
   "execution_count": 130,
   "metadata": {
    "vscode": {
     "languageId": "r"
    }
   },
   "outputs": [],
   "source": [
    "###与exd100的intron region有交集的res结果\n",
    "res_cluster3 <- read.table(\"/disk1/wenqing/tmp_data/PFC_s2/all_analysis_result/intron_retention_analysis_senescence-master/intron_exd100_region_with_de_edited_sites_cluster3.txt\")\n",
    "res_cluster3[,11] <- paste0(res_cluster3[,1],\"_\",res_cluster3[,9])\n",
    "#####将第八周定为发育早期，第26周定为发育晚期\n",
    "#第8周的intron region和26周的intron region做交集，并对iri做log2比较？？\n",
    "intron_region_08_cluster3 <- res_cluster3[,4][which(res_cluster3[,6]==\"GW08\")]\n",
    "intron_region_26_cluster3 <- res_cluster3[,4][which(res_cluster3[,6]==\"GW26_1_1\")]\n",
    "\n",
    "shared_intron_cluster3 <- intersect(intron_region_08_cluster3,intron_region_26_cluster3)\n",
    "all_rows_cluster3 <- data.frame()\n",
    "for(one in shared_intron_cluster3){\n",
    "    iri_08 <- unique(res_cluster3[,5][which(res_cluster3[,4]==one & res_cluster3[,6]=='GW08')])\n",
    "    iri_26 <- unique(res_cluster3[,5][which(res_cluster3[,4]==one & res_cluster3[,6]=='GW26_1_1')])\n",
    "    \n",
    "    this_row <- c(iri_08,iri_26,one)\n",
    "    all_rows_cluster3 <- rbind(all_rows_cluster3,this_row)\n",
    "}\n",
    "rownames(all_rows_cluster3) <- all_rows_cluster3[,3]\n",
    "all_rows_cluster3 <- all_rows_cluster3[,-3]\n",
    "colnames(all_rows_cluster3) <- c('iri_early','iri_late')\n",
    "all_rows_cluster3$log2_iri_fc_change <- log2(as.numeric(all_rows_cluster3$iri_late)/as.numeric(all_rows_cluster3$iri_early))\n",
    "\n",
    "sub_dat_cluster3 <- all_rows_cluster3$log2_iri_fc_change[!is.na(all_rows_cluster3$log2_iri_fc_change)]\n",
    "sub_dat_cluster3 <- sub_dat_cluster3[sub_dat_cluster3!=-Inf]\n",
    "sub_dat_cluster3 <- sub_dat_cluster3[sub_dat_cluster3!=Inf]"
   ]
  },
  {
   "cell_type": "code",
   "execution_count": 131,
   "metadata": {
    "vscode": {
     "languageId": "r"
    }
   },
   "outputs": [
    {
     "data": {
      "text/html": [
       "<style>\n",
       ".list-inline {list-style: none; margin:0; padding: 0}\n",
       ".list-inline>li {display: inline-block}\n",
       ".list-inline>li:not(:last-child)::after {content: \"\\00b7\"; padding: 0 .5ex}\n",
       "</style>\n",
       "<ol class=list-inline><li>7.13585020774793</li><li>-6.64504921206789</li><li>-7.2323333209894</li><li>3.7593499337639</li></ol>\n"
      ],
      "text/latex": [
       "\\begin{enumerate*}\n",
       "\\item 7.13585020774793\n",
       "\\item -6.64504921206789\n",
       "\\item -7.2323333209894\n",
       "\\item 3.7593499337639\n",
       "\\end{enumerate*}\n"
      ],
      "text/markdown": [
       "1. 7.13585020774793\n",
       "2. -6.64504921206789\n",
       "3. -7.2323333209894\n",
       "4. 3.7593499337639\n",
       "\n",
       "\n"
      ],
      "text/plain": [
       "[1]  7.135850 -6.645049 -7.232333  3.759350"
      ]
     },
     "metadata": {},
     "output_type": "display_data"
    },
    {
     "data": {
      "text/html": [
       "<style>\n",
       ".list-inline {list-style: none; margin:0; padding: 0}\n",
       ".list-inline>li {display: inline-block}\n",
       ".list-inline>li:not(:last-child)::after {content: \"\\00b7\"; padding: 0 .5ex}\n",
       "</style>\n",
       "<ol class=list-inline><li>-4.5181312624425</li><li>7.13585020774793</li><li>-7.12928301694441</li><li>-7.06742423058994</li></ol>\n"
      ],
      "text/latex": [
       "\\begin{enumerate*}\n",
       "\\item -4.5181312624425\n",
       "\\item 7.13585020774793\n",
       "\\item -7.12928301694441\n",
       "\\item -7.06742423058994\n",
       "\\end{enumerate*}\n"
      ],
      "text/markdown": [
       "1. -4.5181312624425\n",
       "2. 7.13585020774793\n",
       "3. -7.12928301694441\n",
       "4. -7.06742423058994\n",
       "\n",
       "\n"
      ],
      "text/plain": [
       "[1] -4.518131  7.135850 -7.129283 -7.067424"
      ]
     },
     "metadata": {},
     "output_type": "display_data"
    },
    {
     "data": {
      "text/html": [
       "<style>\n",
       ".list-inline {list-style: none; margin:0; padding: 0}\n",
       ".list-inline>li {display: inline-block}\n",
       ".list-inline>li:not(:last-child)::after {content: \"\\00b7\"; padding: 0 .5ex}\n",
       "</style>\n",
       "<ol class=list-inline><li>-4.5181312624425</li><li>7.13585020774793</li><li>-6.64504921206789</li><li>-7.2323333209894</li><li>3.7593499337639</li></ol>\n"
      ],
      "text/latex": [
       "\\begin{enumerate*}\n",
       "\\item -4.5181312624425\n",
       "\\item 7.13585020774793\n",
       "\\item -6.64504921206789\n",
       "\\item -7.2323333209894\n",
       "\\item 3.7593499337639\n",
       "\\end{enumerate*}\n"
      ],
      "text/markdown": [
       "1. -4.5181312624425\n",
       "2. 7.13585020774793\n",
       "3. -6.64504921206789\n",
       "4. -7.2323333209894\n",
       "5. 3.7593499337639\n",
       "\n",
       "\n"
      ],
      "text/plain": [
       "[1] -4.518131  7.135850 -6.645049 -7.232333  3.759350"
      ]
     },
     "metadata": {},
     "output_type": "display_data"
    }
   ],
   "source": [
    "sub_dat_cluster3\n",
    "sub_dat_cluster2\n",
    "sub_dat_cluster1"
   ]
  },
  {
   "cell_type": "code",
   "execution_count": 133,
   "metadata": {
    "vscode": {
     "languageId": "r"
    }
   },
   "outputs": [
    {
     "data": {
      "text/html": [
       "<table class=\"dataframe\">\n",
       "<caption>A data.frame: 13 × 2</caption>\n",
       "<thead>\n",
       "\t<tr><th scope=col>cluster</th><th scope=col>value</th></tr>\n",
       "\t<tr><th scope=col>&lt;chr&gt;</th><th scope=col>&lt;dbl&gt;</th></tr>\n",
       "</thead>\n",
       "<tbody>\n",
       "\t<tr><td>cluster1</td><td>-4.518131</td></tr>\n",
       "\t<tr><td>cluster1</td><td> 7.135850</td></tr>\n",
       "\t<tr><td>cluster1</td><td>-6.645049</td></tr>\n",
       "\t<tr><td>cluster1</td><td>-7.232333</td></tr>\n",
       "\t<tr><td>cluster1</td><td> 3.759350</td></tr>\n",
       "\t<tr><td>cluster2</td><td>-4.518131</td></tr>\n",
       "\t<tr><td>cluster2</td><td> 7.135850</td></tr>\n",
       "\t<tr><td>cluster2</td><td>-7.129283</td></tr>\n",
       "\t<tr><td>cluster2</td><td>-7.067424</td></tr>\n",
       "\t<tr><td>cluster3</td><td> 7.135850</td></tr>\n",
       "\t<tr><td>cluster3</td><td>-6.645049</td></tr>\n",
       "\t<tr><td>cluster3</td><td>-7.232333</td></tr>\n",
       "\t<tr><td>cluster3</td><td> 3.759350</td></tr>\n",
       "</tbody>\n",
       "</table>\n"
      ],
      "text/latex": [
       "A data.frame: 13 × 2\n",
       "\\begin{tabular}{ll}\n",
       " cluster & value\\\\\n",
       " <chr> & <dbl>\\\\\n",
       "\\hline\n",
       "\t cluster1 & -4.518131\\\\\n",
       "\t cluster1 &  7.135850\\\\\n",
       "\t cluster1 & -6.645049\\\\\n",
       "\t cluster1 & -7.232333\\\\\n",
       "\t cluster1 &  3.759350\\\\\n",
       "\t cluster2 & -4.518131\\\\\n",
       "\t cluster2 &  7.135850\\\\\n",
       "\t cluster2 & -7.129283\\\\\n",
       "\t cluster2 & -7.067424\\\\\n",
       "\t cluster3 &  7.135850\\\\\n",
       "\t cluster3 & -6.645049\\\\\n",
       "\t cluster3 & -7.232333\\\\\n",
       "\t cluster3 &  3.759350\\\\\n",
       "\\end{tabular}\n"
      ],
      "text/markdown": [
       "\n",
       "A data.frame: 13 × 2\n",
       "\n",
       "| cluster &lt;chr&gt; | value &lt;dbl&gt; |\n",
       "|---|---|\n",
       "| cluster1 | -4.518131 |\n",
       "| cluster1 |  7.135850 |\n",
       "| cluster1 | -6.645049 |\n",
       "| cluster1 | -7.232333 |\n",
       "| cluster1 |  3.759350 |\n",
       "| cluster2 | -4.518131 |\n",
       "| cluster2 |  7.135850 |\n",
       "| cluster2 | -7.129283 |\n",
       "| cluster2 | -7.067424 |\n",
       "| cluster3 |  7.135850 |\n",
       "| cluster3 | -6.645049 |\n",
       "| cluster3 | -7.232333 |\n",
       "| cluster3 |  3.759350 |\n",
       "\n"
      ],
      "text/plain": [
       "   cluster  value    \n",
       "1  cluster1 -4.518131\n",
       "2  cluster1  7.135850\n",
       "3  cluster1 -6.645049\n",
       "4  cluster1 -7.232333\n",
       "5  cluster1  3.759350\n",
       "6  cluster2 -4.518131\n",
       "7  cluster2  7.135850\n",
       "8  cluster2 -7.129283\n",
       "9  cluster2 -7.067424\n",
       "10 cluster3  7.135850\n",
       "11 cluster3 -6.645049\n",
       "12 cluster3 -7.232333\n",
       "13 cluster3  3.759350"
      ]
     },
     "metadata": {},
     "output_type": "display_data"
    }
   ],
   "source": [
    "df <- data.frame(\n",
    "   cluster = rep(c(\"cluster1\", \"cluster2\", \"cluster3\"), times = c(5,4,4)),\n",
    "   value = c(sub_dat_cluster1,sub_dat_cluster2,sub_dat_cluster3)\n",
    " )\n",
    "\n",
    "df"
   ]
  },
  {
   "cell_type": "code",
   "execution_count": 156,
   "metadata": {
    "vscode": {
     "languageId": "r"
    }
   },
   "outputs": [
    {
     "data": {
      "image/png": "[encoded data removed]",
      "text/plain": [
       "plot without title"
      ]
     },
     "metadata": {
      "image/png": {
       "height": 420,
       "width": 420
      }
     },
     "output_type": "display_data"
    }
   ],
   "source": [
    "\n",
    "# 使用ggplot2生成箱线图\n",
    "ggplot(df, aes(x = cluster, y = value, fill = cluster)) +\n",
    "  geom_boxplot(alpha=0.5) +\n",
    "  scale_fill_manual(values = c(\"#840dd3\", \"#04c49c\", \"#2759bd\")) + # 自定义颜色\n",
    "  labs(title = \"\",\n",
    "       x = \"\",\n",
    "       y = \"log2(IRI fold change)(development late/early)\") +\n",
    "  #ylim(-20,20)+\n",
    "  theme_bw() + # 使用白色背景主题\n",
    "  theme(plot.title = element_text(hjust = 0.5),\n",
    "        legend.title = element_blank(),\n",
    "        text = element_text(size = 13),legend.position = \"none\") \n"
   ]
  }
 ],
 "metadata": {
  "kernelspec": {
   "display_name": "R",
   "language": "R",
   "name": "ir"
  },
  "language_info": {
   "codemirror_mode": "r",
   "file_extension": ".r",
   "mimetype": "text/x-r-source",
   "name": "R",
   "pygments_lexer": "r",
   "version": "4.3.1"
  },
  "orig_nbformat": 4,
  "vscode": {
   "interpreter": {
    "hash": "31f2aee4e71d21fbe5cf8b01ff0e069b9275f58929596ceb00d14d90e3e16cd6"
   }
  }
 },
 "nbformat": 4,
 "nbformat_minor": 2
}
