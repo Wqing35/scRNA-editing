{
 "cells": [
  {
   "cell_type": "code",
   "execution_count": null,
   "metadata": {
    "vscode": {
     "languageId": "r"
    }
   },
   "outputs": [],
   "source": [
    ".libPaths('/disk1/wenqing/anaconda3/envs/wq_R4.2/lib/R/library')\n",
    "find_gene_res_num <- function(x){\n",
    "    gene <- strsplit(uniq_gene_region[x],\"_\")[[1]][4]\n",
    "    res_num <- sum(dat$V6[dat$V4==gene])\n",
    "    return(res_num)\n",
    "}\n",
    "\n",
    "    dat <- read.table(\"/disk1/wenqing/tmp_data/oocyte/gene_ei/64/all/over0/geneWithRes_all.txt\")\n",
    "\n",
    "    dat$V10 <- paste0(dat$V1,\"_\",dat$V2,\"_\",dat$V3,\"_\",dat$V4)\n",
    "\n",
    "    #head(dat)\n",
    "    uniq_gene_region <- unique(dat$V10)\n",
    "    #length(uniq_gene_region)\n",
    "\n",
    "    gene_res_num <- apply(as.matrix(1:length(uniq_gene_region)),1,find_gene_res_num)\n",
    "\n",
    "\n",
    "\n",
    "    new_dat_col1 <- apply(as.matrix(1:length(uniq_gene_region)),1,function(x) {col1 <- strsplit(uniq_gene_region[x],\"_\")[[1]][1]})\n",
    "    new_dat_col2 <- apply(as.matrix(1:length(uniq_gene_region)),1,function(x) {col1 <- strsplit(uniq_gene_region[x],\"_\")[[1]][2]})\n",
    "    new_dat_col3 <- apply(as.matrix(1:length(uniq_gene_region)),1,function(x) {col1 <- strsplit(uniq_gene_region[x],\"_\")[[1]][3]})\n",
    "    new_dat_col4 <- apply(as.matrix(1:length(uniq_gene_region)),1,function(x) {col1 <- strsplit(uniq_gene_region[x],\"_\")[[1]][4]})\n",
    "    new_dat_col5 <- gene_res_num\n",
    "    new_dat <- as.data.frame(cbind(new_dat_col1,new_dat_col2,new_dat_col3,new_dat_col4,new_dat_col5))\n",
    "    write.table(new_dat,\"/disk1/wenqing/tmp_data/oocyte/gene_ei/64/all/over0/geneWzRes_ad.txt\",quote=F,col.names=F,row.names=F,sep='\\t')\n",
    "\n",
    "library(ggpubr)\n",
    "library(ggplot2)\n",
    "####计算asd样本gene ediitng index的相关性\n",
    "gene_ei_63 <- as.data.frame(read.table(\"/disk1/wenqing/tmp_data/oocyte/gene_ei/63/all/over0/all_EI_inGene_over0.txt\"))\n",
    "gene_ei_64 <- as.data.frame(read.table(\"/disk1/wenqing/tmp_data/oocyte/gene_ei/64/all/over0/all_EI_inGene_over0.txt\"))\n",
    "\n",
    "#head(dat_brain_19)\n",
    "sub_gene_ei_63 <- gene_ei_63[which(gene_ei_63[,1] >0.001),]\n",
    "sub_gene_ei_64 <- gene_ei_64[which(gene_ei_64[,1] >0.001),]\n",
    "names(sub_gene_ei_63) <- rownames(gene_ei_63)[which(gene_ei_63[,1] >0.001)]\n",
    "names(sub_gene_ei_64) <- rownames(gene_ei_64)[which(gene_ei_64[,1] >0.001)]\n",
    "\n",
    "#head(names(sub_gene_ei_19))\n",
    "shared_genes <- intersect(names(sub_gene_ei_63),names(sub_gene_ei_64))\n",
    "\n",
    "cor_dat17 <- sub_gene_ei_63[shared_genes]\n",
    "cor_dat18 <- sub_gene_ei_64[shared_genes]\n",
    "\n",
    "dat1 <- as.data.frame(cbind(cor_dat17,cor_dat18))\n",
    "colnames(dat1) <- c('oocyte_63',\"oocyte_64\")\n",
    "dim(dat1)\n",
    "dim(dat)\n",
    "p1 <- ggscatter(dat1, x = \"oocyte_63\", y = \"oocyte_64\", \n",
    "          color = \"red3\",fill = \"lightgray\",\n",
    "          add = \"reg.line\", conf.int = TRUE, \n",
    "          add.params = list( color = \"black\",fill = \"lightgray\",fill = \"lightgray\"),\n",
    "          cor.coef = T,\n",
    "          cor.coeff.args = list(),\n",
    "          cor.method = \"pearson\")\n",
    "p1\n",
    "p2 <- ggscatter(dat1, x = \"asd_63\", y = \"asd_64\", \n",
    "          color = \"red3\",fill = \"lightgray\",\n",
    "          add = \"reg.line\", conf.int = TRUE, \n",
    "          add.params = list( color = \"black\",fill = \"lightgray\",fill = \"lightgray\"),\n",
    "          cor.coef = T,\n",
    "          cor.coeff.args = list(),\n",
    "          cor.method = \"pearson\")\n",
    "p_lst <- list()\n",
    "p_lst[[2]] <- p1\n",
    "p_lst[[1]] <- p2\n",
    "\n",
    "pdf('/disk1/wenqing/tmp_data/ASD/asd_male_pfc/onecellVsBulk_gene_ei_corr.pdf',height = 10,width=17)\n",
    "do.call(\"ggarrange\", c(p_lst, ncol=2, nrow=1))\n",
    "dev.off()"
   ]
  }
 ],
 "metadata": {
  "kernelspec": {
   "display_name": "R",
   "language": "R",
   "name": "ir"
  },
  "language_info": {
   "name": "R",
   "version": "3.9.18"
  },
  "orig_nbformat": 4,
  "vscode": {
   "interpreter": {
    "hash": "4587f8d71e481bac2dbb4139bf1f5d6af8d88103a069ab0b4e862134521318f6"
   }
  }
 },
 "nbformat": 4,
 "nbformat_minor": 2
}
