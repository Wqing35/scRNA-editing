{
 "cells": [
  {
   "cell_type": "code",
   "execution_count": 1,
   "metadata": {
    "vscode": {
     "languageId": "r"
    }
   },
   "outputs": [],
   "source": [
    ".libPaths('/disk1/wenqing/anaconda3/envs/wq_R4.2/lib/R/library')"
   ]
  },
  {
   "cell_type": "code",
   "execution_count": 2,
   "metadata": {
    "vscode": {
     "languageId": "r"
    }
   },
   "outputs": [
    {
     "name": "stderr",
     "output_type": "stream",
     "text": [
      "Loading required package: ggplot2\n",
      "\n"
     ]
    }
   ],
   "source": [
    "library(ggpubr)"
   ]
  },
  {
   "cell_type": "code",
   "execution_count": 9,
   "metadata": {
    "vscode": {
     "languageId": "r"
    }
   },
   "outputs": [],
   "source": [
    "####计算asd样本gene ediitng index的相关性\n",
    "library(ggplot2)\n",
    "gene_ei_17 <- as.data.frame(read.table(\"/disk1/wenqing/tmp_data/ASD/asd_male_pfc/gene_ei_one_cell/17/regular_EI_inGene_over1.txt\"))\n",
    "gene_ei_18 <- as.data.frame(read.table(\"/disk1/wenqing/tmp_data/ASD/asd_male_pfc/gene_ei_one_cell/18/regular_EI_inGene_over1.txt\"))\n",
    "\n",
    "#head(dat_brain_19)\n",
    "sub_gene_ei_17 <- gene_ei_17[which(gene_ei_17[,1] >0.001),]\n",
    "sub_gene_ei_18 <- gene_ei_18[which(gene_ei_18[,1] >0.001),]\n",
    "names(sub_gene_ei_17) <- rownames(gene_ei_17)[which(gene_ei_17[,1] >0.001)]\n",
    "names(sub_gene_ei_18) <- rownames(gene_ei_18)[which(gene_ei_18[,1] >0.001)]\n",
    "\n",
    "#head(names(sub_gene_ei_19))\n",
    "shared_genes <- intersect(names(sub_gene_ei_17),names(sub_gene_ei_18))\n",
    "\n",
    "cor_dat17 <- sub_gene_ei_17[shared_genes]\n",
    "cor_dat18 <- sub_gene_ei_18[shared_genes]\n",
    "\n",
    "dat1 <- as.data.frame(cbind(cor_dat17,cor_dat18))\n",
    "colnames(dat1) <- c('asd_17',\"asd_18\")"
   ]
  },
  {
   "cell_type": "code",
   "execution_count": 11,
   "metadata": {
    "vscode": {
     "languageId": "r"
    }
   },
   "outputs": [
    {
     "data": {
      "text/html": [
       "<style>\n",
       ".list-inline {list-style: none; margin:0; padding: 0}\n",
       ".list-inline>li {display: inline-block}\n",
       ".list-inline>li:not(:last-child)::after {content: \"\\00b7\"; padding: 0 .5ex}\n",
       "</style>\n",
       "<ol class=list-inline><li>5908</li><li>2</li></ol>\n"
      ],
      "text/latex": [
       "\\begin{enumerate*}\n",
       "\\item 5908\n",
       "\\item 2\n",
       "\\end{enumerate*}\n"
      ],
      "text/markdown": [
       "1. 5908\n",
       "2. 2\n",
       "\n",
       "\n"
      ],
      "text/plain": [
       "[1] 5908    2"
      ]
     },
     "metadata": {},
     "output_type": "display_data"
    },
    {
     "data": {
      "text/html": [
       "<style>\n",
       ".list-inline {list-style: none; margin:0; padding: 0}\n",
       ".list-inline>li {display: inline-block}\n",
       ".list-inline>li:not(:last-child)::after {content: \"\\00b7\"; padding: 0 .5ex}\n",
       "</style>\n",
       "<ol class=list-inline><li>9248</li><li>2</li></ol>\n"
      ],
      "text/latex": [
       "\\begin{enumerate*}\n",
       "\\item 9248\n",
       "\\item 2\n",
       "\\end{enumerate*}\n"
      ],
      "text/markdown": [
       "1. 9248\n",
       "2. 2\n",
       "\n",
       "\n"
      ],
      "text/plain": [
       "[1] 9248    2"
      ]
     },
     "metadata": {},
     "output_type": "display_data"
    }
   ],
   "source": [
    "dim(dat1)\n",
    "dim(dat)"
   ]
  },
  {
   "cell_type": "code",
   "execution_count": 7,
   "metadata": {
    "vscode": {
     "languageId": "r"
    }
   },
   "outputs": [],
   "source": [
    "p1 <- ggscatter(dat, x = \"asd_17\", y = \"asd_18\", \n",
    "          color = \"red3\",fill = \"lightgray\",\n",
    "          add = \"reg.line\", conf.int = TRUE, \n",
    "          add.params = list( color = \"black\",fill = \"lightgray\",fill = \"lightgray\"),\n",
    "          cor.coef = T,\n",
    "          cor.coeff.args = list(),\n",
    "          cor.method = \"pearson\")"
   ]
  },
  {
   "cell_type": "code",
   "execution_count": 12,
   "metadata": {
    "vscode": {
     "languageId": "r"
    }
   },
   "outputs": [],
   "source": [
    "p2 <- ggscatter(dat1, x = \"asd_17\", y = \"asd_18\", \n",
    "          color = \"red3\",fill = \"lightgray\",\n",
    "          add = \"reg.line\", conf.int = TRUE, \n",
    "          add.params = list( color = \"black\",fill = \"lightgray\",fill = \"lightgray\"),\n",
    "          cor.coef = T,\n",
    "          cor.coeff.args = list(),\n",
    "          cor.method = \"pearson\")"
   ]
  },
  {
   "cell_type": "code",
   "execution_count": 15,
   "metadata": {
    "vscode": {
     "languageId": "r"
    }
   },
   "outputs": [
    {
     "data": {
      "text/html": [
       "<strong>png:</strong> 2"
      ],
      "text/latex": [
       "\\textbf{png:} 2"
      ],
      "text/markdown": [
       "**png:** 2"
      ],
      "text/plain": [
       "png \n",
       "  2 "
      ]
     },
     "metadata": {},
     "output_type": "display_data"
    }
   ],
   "source": [
    "p_lst <- list()\n",
    "p_lst[[2]] <- p1\n",
    "p_lst[[1]] <- p2\n",
    "\n",
    "pdf('/disk1/wenqing/tmp_data/ASD/asd_male_pfc/onecellVsBulk_gene_ei_corr.pdf',height = 10,width=17)\n",
    "do.call(\"ggarrange\", c(p_lst, ncol=2, nrow=1))\n",
    "dev.off()"
   ]
  }
 ],
 "metadata": {
  "kernelspec": {
   "display_name": "R",
   "language": "R",
   "name": "ir"
  },
  "language_info": {
   "codemirror_mode": "r",
   "file_extension": ".r",
   "mimetype": "text/x-r-source",
   "name": "R",
   "pygments_lexer": "r",
   "version": "4.3.1"
  },
  "orig_nbformat": 4
 },
 "nbformat": 4,
 "nbformat_minor": 2
}
