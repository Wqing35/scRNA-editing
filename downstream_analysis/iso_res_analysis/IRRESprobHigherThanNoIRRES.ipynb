{
 "cells": [
  {
   "cell_type": "code",
   "execution_count": 1,
   "metadata": {
    "vscode": {
     "languageId": "r"
    }
   },
   "outputs": [],
   "source": [
    ".libPaths('/disk1/wenqing/anaconda3/envs/wq_R4.2/lib/R/library')"
   ]
  },
  {
   "cell_type": "code",
   "execution_count": 2,
   "metadata": {
    "vscode": {
     "languageId": "r"
    }
   },
   "outputs": [],
   "source": [
    "library(IRkernel)\n",
    "library(jsonlite)\n",
    "library(repr)"
   ]
  },
  {
   "cell_type": "code",
   "execution_count": 3,
   "metadata": {
    "vscode": {
     "languageId": "r"
    }
   },
   "outputs": [
    {
     "data": {
      "text/html": [
       "<style>\n",
       ".list-inline {list-style: none; margin:0; padding: 0}\n",
       ".list-inline>li {display: inline-block}\n",
       ".list-inline>li:not(:last-child)::after {content: \"\\00b7\"; padding: 0 .5ex}\n",
       "</style>\n",
       "<ol class=list-inline><li>71</li><li>36</li></ol>\n"
      ],
      "text/latex": [
       "\\begin{enumerate*}\n",
       "\\item 71\n",
       "\\item 36\n",
       "\\end{enumerate*}\n"
      ],
      "text/markdown": [
       "1. 71\n",
       "2. 36\n",
       "\n",
       "\n"
      ],
      "text/plain": [
       "[1] 71 36"
      ]
     },
     "metadata": {},
     "output_type": "display_data"
    }
   ],
   "source": [
    "##########联动isoform信息与RES\n",
    "#deEx_iso:经过if usage差异表达得到的587个iso，进一步对dif+p值过滤，得到显著差异表达的125个iso\n",
    "#其中71个iso具有IR\n",
    "deEx_iso_IR <- read.csv(\"/disk1/wenqing/tmp_data/ASD/deEx_isoform_IR.csv\")\n",
    "dim(deEx_iso_IR)\n"
   ]
  },
  {
   "cell_type": "code",
   "execution_count": 10,
   "metadata": {
    "vscode": {
     "languageId": "r"
    }
   },
   "outputs": [
    {
     "data": {
      "text/html": [
       "71"
      ],
      "text/latex": [
       "71"
      ],
      "text/markdown": [
       "71"
      ],
      "text/plain": [
       "[1] 71"
      ]
     },
     "metadata": {},
     "output_type": "display_data"
    }
   ],
   "source": [
    "length(unique(deEx_iso_IR$isoform_id))"
   ]
  },
  {
   "cell_type": "code",
   "execution_count": 4,
   "metadata": {
    "vscode": {
     "languageId": "r"
    }
   },
   "outputs": [
    {
     "data": {
      "text/html": [
       "<style>\n",
       ".list-inline {list-style: none; margin:0; padding: 0}\n",
       ".list-inline>li {display: inline-block}\n",
       ".list-inline>li:not(:last-child)::after {content: \"\\00b7\"; padding: 0 .5ex}\n",
       "</style>\n",
       "<ol class=list-inline><li>125</li><li>31</li></ol>\n"
      ],
      "text/latex": [
       "\\begin{enumerate*}\n",
       "\\item 125\n",
       "\\item 31\n",
       "\\end{enumerate*}\n"
      ],
      "text/markdown": [
       "1. 125\n",
       "2. 31\n",
       "\n",
       "\n"
      ],
      "text/plain": [
       "[1] 125  31"
      ]
     },
     "metadata": {},
     "output_type": "display_data"
    }
   ],
   "source": [
    "deEx_iso <- read.csv(\"/disk1/wenqing/tmp_data/ASD/deEx_isoform.csv\")\n",
    "dim(deEx_iso)"
   ]
  },
  {
   "cell_type": "code",
   "execution_count": 5,
   "metadata": {
    "vscode": {
     "languageId": "r"
    }
   },
   "outputs": [],
   "source": [
    "#将差异表达的iso分为发生IR和未检测到IR的两组\n",
    "iso_IR <- deEx_iso$isoform_id[deEx_iso$isoform_id %in% deEx_iso_IR$isoform_id]\n",
    "iso_no_IR <- deEx_iso$isoform_id[!(deEx_iso$isoform_id %in% deEx_iso_IR$isoform_id)]"
   ]
  },
  {
   "cell_type": "code",
   "execution_count": 6,
   "metadata": {
    "vscode": {
     "languageId": "r"
    }
   },
   "outputs": [
    {
     "data": {
      "text/html": [
       "12"
      ],
      "text/latex": [
       "12"
      ],
      "text/markdown": [
       "12"
      ],
      "text/plain": [
       "[1] 12"
      ]
     },
     "metadata": {},
     "output_type": "display_data"
    },
    {
     "data": {
      "text/html": [
       "113"
      ],
      "text/latex": [
       "113"
      ],
      "text/markdown": [
       "113"
      ],
      "text/plain": [
       "[1] 113"
      ]
     },
     "metadata": {},
     "output_type": "display_data"
    }
   ],
   "source": [
    "length(iso_IR)\n",
    "length(iso_no_IR)"
   ]
  },
  {
   "cell_type": "code",
   "execution_count": 7,
   "metadata": {
    "vscode": {
     "languageId": "r"
    }
   },
   "outputs": [
    {
     "data": {
      "text/html": [
       "<table class=\"dataframe\">\n",
       "<caption>A data.frame: 6 × 9</caption>\n",
       "<thead>\n",
       "\t<tr><th></th><th scope=col>X</th><th scope=col>seqnames</th><th scope=col>start</th><th scope=col>end</th><th scope=col>width</th><th scope=col>strand</th><th scope=col>isoform_id</th><th scope=col>gene_id</th><th scope=col>gene_name</th></tr>\n",
       "\t<tr><th></th><th scope=col>&lt;int&gt;</th><th scope=col>&lt;chr&gt;</th><th scope=col>&lt;int&gt;</th><th scope=col>&lt;int&gt;</th><th scope=col>&lt;int&gt;</th><th scope=col>&lt;chr&gt;</th><th scope=col>&lt;chr&gt;</th><th scope=col>&lt;chr&gt;</th><th scope=col>&lt;chr&gt;</th></tr>\n",
       "</thead>\n",
       "<tbody>\n",
       "\t<tr><th scope=row>1</th><td>1</td><td>chr1</td><td>12010</td><td>12057</td><td> 48</td><td>+</td><td>ENST00000450305.2_2</td><td>DDX11L1</td><td>DDX11L1</td></tr>\n",
       "\t<tr><th scope=row>2</th><td>2</td><td>chr1</td><td>12179</td><td>12227</td><td> 49</td><td>+</td><td>ENST00000450305.2_2</td><td>DDX11L1</td><td>DDX11L1</td></tr>\n",
       "\t<tr><th scope=row>3</th><td>3</td><td>chr1</td><td>12613</td><td>12697</td><td> 85</td><td>+</td><td>ENST00000450305.2_2</td><td>DDX11L1</td><td>DDX11L1</td></tr>\n",
       "\t<tr><th scope=row>4</th><td>4</td><td>chr1</td><td>12975</td><td>13052</td><td> 78</td><td>+</td><td>ENST00000450305.2_2</td><td>DDX11L1</td><td>DDX11L1</td></tr>\n",
       "\t<tr><th scope=row>5</th><td>5</td><td>chr1</td><td>13221</td><td>13374</td><td>154</td><td>+</td><td>ENST00000450305.2_2</td><td>DDX11L1</td><td>DDX11L1</td></tr>\n",
       "\t<tr><th scope=row>6</th><td>6</td><td>chr1</td><td>13453</td><td>13670</td><td>218</td><td>+</td><td>ENST00000450305.2_2</td><td>DDX11L1</td><td>DDX11L1</td></tr>\n",
       "</tbody>\n",
       "</table>\n"
      ],
      "text/latex": [
       "A data.frame: 6 × 9\n",
       "\\begin{tabular}{r|lllllllll}\n",
       "  & X & seqnames & start & end & width & strand & isoform\\_id & gene\\_id & gene\\_name\\\\\n",
       "  & <int> & <chr> & <int> & <int> & <int> & <chr> & <chr> & <chr> & <chr>\\\\\n",
       "\\hline\n",
       "\t1 & 1 & chr1 & 12010 & 12057 &  48 & + & ENST00000450305.2\\_2 & DDX11L1 & DDX11L1\\\\\n",
       "\t2 & 2 & chr1 & 12179 & 12227 &  49 & + & ENST00000450305.2\\_2 & DDX11L1 & DDX11L1\\\\\n",
       "\t3 & 3 & chr1 & 12613 & 12697 &  85 & + & ENST00000450305.2\\_2 & DDX11L1 & DDX11L1\\\\\n",
       "\t4 & 4 & chr1 & 12975 & 13052 &  78 & + & ENST00000450305.2\\_2 & DDX11L1 & DDX11L1\\\\\n",
       "\t5 & 5 & chr1 & 13221 & 13374 & 154 & + & ENST00000450305.2\\_2 & DDX11L1 & DDX11L1\\\\\n",
       "\t6 & 6 & chr1 & 13453 & 13670 & 218 & + & ENST00000450305.2\\_2 & DDX11L1 & DDX11L1\\\\\n",
       "\\end{tabular}\n"
      ],
      "text/markdown": [
       "\n",
       "A data.frame: 6 × 9\n",
       "\n",
       "| <!--/--> | X &lt;int&gt; | seqnames &lt;chr&gt; | start &lt;int&gt; | end &lt;int&gt; | width &lt;int&gt; | strand &lt;chr&gt; | isoform_id &lt;chr&gt; | gene_id &lt;chr&gt; | gene_name &lt;chr&gt; |\n",
       "|---|---|---|---|---|---|---|---|---|---|\n",
       "| 1 | 1 | chr1 | 12010 | 12057 |  48 | + | ENST00000450305.2_2 | DDX11L1 | DDX11L1 |\n",
       "| 2 | 2 | chr1 | 12179 | 12227 |  49 | + | ENST00000450305.2_2 | DDX11L1 | DDX11L1 |\n",
       "| 3 | 3 | chr1 | 12613 | 12697 |  85 | + | ENST00000450305.2_2 | DDX11L1 | DDX11L1 |\n",
       "| 4 | 4 | chr1 | 12975 | 13052 |  78 | + | ENST00000450305.2_2 | DDX11L1 | DDX11L1 |\n",
       "| 5 | 5 | chr1 | 13221 | 13374 | 154 | + | ENST00000450305.2_2 | DDX11L1 | DDX11L1 |\n",
       "| 6 | 6 | chr1 | 13453 | 13670 | 218 | + | ENST00000450305.2_2 | DDX11L1 | DDX11L1 |\n",
       "\n"
      ],
      "text/plain": [
       "  X seqnames start end   width strand isoform_id          gene_id gene_name\n",
       "1 1 chr1     12010 12057  48   +      ENST00000450305.2_2 DDX11L1 DDX11L1  \n",
       "2 2 chr1     12179 12227  49   +      ENST00000450305.2_2 DDX11L1 DDX11L1  \n",
       "3 3 chr1     12613 12697  85   +      ENST00000450305.2_2 DDX11L1 DDX11L1  \n",
       "4 4 chr1     12975 13052  78   +      ENST00000450305.2_2 DDX11L1 DDX11L1  \n",
       "5 5 chr1     13221 13374 154   +      ENST00000450305.2_2 DDX11L1 DDX11L1  \n",
       "6 6 chr1     13453 13670 218   +      ENST00000450305.2_2 DDX11L1 DDX11L1  "
      ]
     },
     "metadata": {},
     "output_type": "display_data"
    }
   ],
   "source": [
    "#调取两组iso的exon边界，构建剪接供受体位点\n",
    "exon_region <- read.csv(\"/disk1/wenqing/tmp_data/ASD/switchList_exon.csv\")\n",
    "head(exon_region)"
   ]
  },
  {
   "cell_type": "code",
   "execution_count": 8,
   "metadata": {
    "vscode": {
     "languageId": "r"
    }
   },
   "outputs": [],
   "source": [
    "iso_IR_exon_region <- exon_region[exon_region$isoform_id %in% iso_IR,]\n",
    "iso_no_IR_exon_region <- exon_region[exon_region$isoform_id %in% iso_no_IR,]"
   ]
  },
  {
   "cell_type": "code",
   "execution_count": 10,
   "metadata": {
    "vscode": {
     "languageId": "r"
    }
   },
   "outputs": [],
   "source": [
    "#res是否落在可变剪接的供受体位点上\n",
    "#构建供受体位点上下游5bp的潜在res位点\n",
    "donor_sites_2 <- paste0(iso_IR_exon_region$seqnames,\"_\",as.character(as.integer(iso_IR_exon_region$end)+2))\n",
    "donor_sites_1 <- paste0(iso_IR_exon_region$seqnames,\"_\",as.character(as.integer(iso_IR_exon_region$end)+1))\n",
    "donor_sites_3 <- paste0(iso_IR_exon_region$seqnames,\"_\",as.character(as.integer(iso_IR_exon_region$end)+3))\n",
    "donor_sites_4 <- paste0(iso_IR_exon_region$seqnames,\"_\",as.character(as.integer(iso_IR_exon_region$end)+4))\n",
    "donor_sites_5 <- paste0(iso_IR_exon_region$seqnames,\"_\",as.character(as.integer(iso_IR_exon_region$end)+5))\n",
    "\n",
    "acceptor_sites_2 <- paste0(iso_IR_exon_region$seqnames,\"_\",as.character(as.integer(iso_IR_exon_region$start)-2))\n",
    "acceptor_sites_1 <- paste0(iso_IR_exon_region$seqnames,\"_\",as.character(as.integer(iso_IR_exon_region$start)-1))\n",
    "acceptor_sites_3 <- paste0(iso_IR_exon_region$seqnames,\"_\",as.character(as.integer(iso_IR_exon_region$start)-3))\n",
    "acceptor_sites_4 <- paste0(iso_IR_exon_region$seqnames,\"_\",as.character(as.integer(iso_IR_exon_region$start)-4))\n",
    "acceptor_sites_5 <- paste0(iso_IR_exon_region$seqnames,\"_\",as.character(as.integer(iso_IR_exon_region$start)-5))\n",
    "\n",
    "\n",
    "all_possible_sites <- c(donor_sites_1,donor_sites_2,donor_sites_3,donor_sites_4,donor_sites_5,acceptor_sites_1,acceptor_sites_2,acceptor_sites_3,acceptor_sites_4,acceptor_sites_5)\n",
    "\n",
    "donor_sites_info <- c(rep(\"donor_ds_1_G\",times=length(iso_IR_exon_region$seqnames)),rep(\"donor_ds_2_T\",times=length(iso_IR_exon_region$seqnames)),rep(\"donor_ds_3_A_G\",times=length(iso_IR_exon_region$seqnames)),rep(\"donor_ds_4_A\",times=length(iso_IR_exon_region$seqnames)),rep(\"donor_ds_5_G\",times=length(iso_IR_exon_region$seqnames)))\n",
    "acceptor_sites_info <- c(rep(\"acceptor_us_1_G\",times=length(iso_IR_exon_region$seqnames)),rep(\"acceptor_us_2_A\",times=length(iso_IR_exon_region$seqnames)),rep(\"acceptor_us_3_C_T\",times=length(iso_IR_exon_region$seqnames)),rep(\"acceptor_us_4_N\",times=length(iso_IR_exon_region$seqnames)),rep(\"acceptor_us_5_C_T\",times=length(iso_IR_exon_region$seqnames)))\n",
    "\n",
    "all_sites_info <- c(donor_sites_info,acceptor_sites_info)\n",
    "all_sites <- as.data.frame(cbind(all_possible_sites,all_sites_info))\n"
   ]
  },
  {
   "cell_type": "code",
   "execution_count": 11,
   "metadata": {
    "vscode": {
     "languageId": "r"
    }
   },
   "outputs": [
    {
     "data": {
      "text/html": [
       "<style>\n",
       ".list-inline {list-style: none; margin:0; padding: 0}\n",
       ".list-inline>li {display: inline-block}\n",
       ".list-inline>li:not(:last-child)::after {content: \"\\00b7\"; padding: 0 .5ex}\n",
       "</style>\n",
       "<ol class=list-inline><li>530</li><li>2</li></ol>\n"
      ],
      "text/latex": [
       "\\begin{enumerate*}\n",
       "\\item 530\n",
       "\\item 2\n",
       "\\end{enumerate*}\n"
      ],
      "text/markdown": [
       "1. 530\n",
       "2. 2\n",
       "\n",
       "\n"
      ],
      "text/plain": [
       "[1] 530   2"
      ]
     },
     "metadata": {},
     "output_type": "display_data"
    },
    {
     "data": {
      "text/html": [
       "<table class=\"dataframe\">\n",
       "<caption>A data.frame: 6 × 2</caption>\n",
       "<thead>\n",
       "\t<tr><th></th><th scope=col>site</th><th scope=col>info</th></tr>\n",
       "\t<tr><th></th><th scope=col>&lt;chr&gt;</th><th scope=col>&lt;chr&gt;</th></tr>\n",
       "</thead>\n",
       "<tbody>\n",
       "\t<tr><th scope=row>1</th><td>chr1_161954067</td><td>donor_ds_1_G</td></tr>\n",
       "\t<tr><th scope=row>2</th><td>chr1_161954771</td><td>donor_ds_1_G</td></tr>\n",
       "\t<tr><th scope=row>3</th><td>chr1_161968140</td><td>donor_ds_1_G</td></tr>\n",
       "\t<tr><th scope=row>4</th><td>chr1_161970129</td><td>donor_ds_1_G</td></tr>\n",
       "\t<tr><th scope=row>5</th><td>chr1_161976264</td><td>donor_ds_1_G</td></tr>\n",
       "\t<tr><th scope=row>6</th><td>chr1_161987298</td><td>donor_ds_1_G</td></tr>\n",
       "</tbody>\n",
       "</table>\n"
      ],
      "text/latex": [
       "A data.frame: 6 × 2\n",
       "\\begin{tabular}{r|ll}\n",
       "  & site & info\\\\\n",
       "  & <chr> & <chr>\\\\\n",
       "\\hline\n",
       "\t1 & chr1\\_161954067 & donor\\_ds\\_1\\_G\\\\\n",
       "\t2 & chr1\\_161954771 & donor\\_ds\\_1\\_G\\\\\n",
       "\t3 & chr1\\_161968140 & donor\\_ds\\_1\\_G\\\\\n",
       "\t4 & chr1\\_161970129 & donor\\_ds\\_1\\_G\\\\\n",
       "\t5 & chr1\\_161976264 & donor\\_ds\\_1\\_G\\\\\n",
       "\t6 & chr1\\_161987298 & donor\\_ds\\_1\\_G\\\\\n",
       "\\end{tabular}\n"
      ],
      "text/markdown": [
       "\n",
       "A data.frame: 6 × 2\n",
       "\n",
       "| <!--/--> | site &lt;chr&gt; | info &lt;chr&gt; |\n",
       "|---|---|---|\n",
       "| 1 | chr1_161954067 | donor_ds_1_G |\n",
       "| 2 | chr1_161954771 | donor_ds_1_G |\n",
       "| 3 | chr1_161968140 | donor_ds_1_G |\n",
       "| 4 | chr1_161970129 | donor_ds_1_G |\n",
       "| 5 | chr1_161976264 | donor_ds_1_G |\n",
       "| 6 | chr1_161987298 | donor_ds_1_G |\n",
       "\n"
      ],
      "text/plain": [
       "  site           info        \n",
       "1 chr1_161954067 donor_ds_1_G\n",
       "2 chr1_161954771 donor_ds_1_G\n",
       "3 chr1_161968140 donor_ds_1_G\n",
       "4 chr1_161970129 donor_ds_1_G\n",
       "5 chr1_161976264 donor_ds_1_G\n",
       "6 chr1_161987298 donor_ds_1_G"
      ]
     },
     "metadata": {},
     "output_type": "display_data"
    }
   ],
   "source": [
    "dim(all_sites)\n",
    "colnames(all_sites) <- c(\"site\",\"info\")\n",
    "head(all_sites)\n"
   ]
  },
  {
   "cell_type": "code",
   "execution_count": 12,
   "metadata": {
    "vscode": {
     "languageId": "r"
    }
   },
   "outputs": [
    {
     "data": {
      "text/html": [
       "<style>\n",
       ".list-inline {list-style: none; margin:0; padding: 0}\n",
       ".list-inline>li {display: inline-block}\n",
       ".list-inline>li:not(:last-child)::after {content: \"\\00b7\"; padding: 0 .5ex}\n",
       "</style>\n",
       "<ol class=list-inline><li>510</li><li>2</li></ol>\n"
      ],
      "text/latex": [
       "\\begin{enumerate*}\n",
       "\\item 510\n",
       "\\item 2\n",
       "\\end{enumerate*}\n"
      ],
      "text/markdown": [
       "1. 510\n",
       "2. 2\n",
       "\n",
       "\n"
      ],
      "text/plain": [
       "[1] 510   2"
      ]
     },
     "metadata": {},
     "output_type": "display_data"
    }
   ],
   "source": [
    "uniq_all_sites <- all_sites[!duplicated(all_sites$site),]\n",
    "dim(uniq_all_sites)\n",
    "\n",
    "rownames(uniq_all_sites) <- uniq_all_sites$site"
   ]
  },
  {
   "cell_type": "code",
   "execution_count": 13,
   "metadata": {
    "vscode": {
     "languageId": "r"
    }
   },
   "outputs": [
    {
     "data": {
      "text/html": [
       "<table class=\"dataframe\">\n",
       "<caption>A data.frame: 6 × 9</caption>\n",
       "<thead>\n",
       "\t<tr><th></th><th scope=col>V1</th><th scope=col>V2</th><th scope=col>V3</th><th scope=col>V4</th><th scope=col>V5</th><th scope=col>V6</th><th scope=col>V7</th><th scope=col>V8</th><th scope=col>V9</th></tr>\n",
       "\t<tr><th></th><th scope=col>&lt;chr&gt;</th><th scope=col>&lt;int&gt;</th><th scope=col>&lt;int&gt;</th><th scope=col>&lt;chr&gt;</th><th scope=col>&lt;int&gt;</th><th scope=col>&lt;chr&gt;</th><th scope=col>&lt;chr&gt;</th><th scope=col>&lt;chr&gt;</th><th scope=col>&lt;int&gt;</th></tr>\n",
       "</thead>\n",
       "<tbody>\n",
       "\t<tr><th scope=row>1</th><td>chr1</td><td> 99234</td><td> 99235</td><td>TC</td><td>2</td><td>+</td><td>GTCTTCGTCATAACCG</td><td>3:3</td><td>17</td></tr>\n",
       "\t<tr><th scope=row>2</th><td>chr1</td><td> 99298</td><td> 99299</td><td>TC</td><td>2</td><td>+</td><td>CATATGGCACCAGGCT</td><td>2:2</td><td>17</td></tr>\n",
       "\t<tr><th scope=row>3</th><td>chr1</td><td> 99312</td><td> 99313</td><td>TC</td><td>4</td><td>+</td><td>GTCTTCGTCATAACCG</td><td>6:6</td><td>17</td></tr>\n",
       "\t<tr><th scope=row>4</th><td>chr1</td><td> 99326</td><td> 99327</td><td>TC</td><td>2</td><td>+</td><td>GTCTTCGTCATAACCG</td><td>7:7</td><td>17</td></tr>\n",
       "\t<tr><th scope=row>5</th><td>chr1</td><td>103105</td><td>103106</td><td>TC</td><td>1</td><td>+</td><td>AACTCCCGTAGTGAAT</td><td>1:1</td><td>17</td></tr>\n",
       "\t<tr><th scope=row>6</th><td>chr1</td><td>103106</td><td>103107</td><td>TC</td><td>1</td><td>+</td><td>AACTCCCGTAGTGAAT</td><td>1:1</td><td>17</td></tr>\n",
       "</tbody>\n",
       "</table>\n"
      ],
      "text/latex": [
       "A data.frame: 6 × 9\n",
       "\\begin{tabular}{r|lllllllll}\n",
       "  & V1 & V2 & V3 & V4 & V5 & V6 & V7 & V8 & V9\\\\\n",
       "  & <chr> & <int> & <int> & <chr> & <int> & <chr> & <chr> & <chr> & <int>\\\\\n",
       "\\hline\n",
       "\t1 & chr1 &  99234 &  99235 & TC & 2 & + & GTCTTCGTCATAACCG & 3:3 & 17\\\\\n",
       "\t2 & chr1 &  99298 &  99299 & TC & 2 & + & CATATGGCACCAGGCT & 2:2 & 17\\\\\n",
       "\t3 & chr1 &  99312 &  99313 & TC & 4 & + & GTCTTCGTCATAACCG & 6:6 & 17\\\\\n",
       "\t4 & chr1 &  99326 &  99327 & TC & 2 & + & GTCTTCGTCATAACCG & 7:7 & 17\\\\\n",
       "\t5 & chr1 & 103105 & 103106 & TC & 1 & + & AACTCCCGTAGTGAAT & 1:1 & 17\\\\\n",
       "\t6 & chr1 & 103106 & 103107 & TC & 1 & + & AACTCCCGTAGTGAAT & 1:1 & 17\\\\\n",
       "\\end{tabular}\n"
      ],
      "text/markdown": [
       "\n",
       "A data.frame: 6 × 9\n",
       "\n",
       "| <!--/--> | V1 &lt;chr&gt; | V2 &lt;int&gt; | V3 &lt;int&gt; | V4 &lt;chr&gt; | V5 &lt;int&gt; | V6 &lt;chr&gt; | V7 &lt;chr&gt; | V8 &lt;chr&gt; | V9 &lt;int&gt; |\n",
       "|---|---|---|---|---|---|---|---|---|---|\n",
       "| 1 | chr1 |  99234 |  99235 | TC | 2 | + | GTCTTCGTCATAACCG | 3:3 | 17 |\n",
       "| 2 | chr1 |  99298 |  99299 | TC | 2 | + | CATATGGCACCAGGCT | 2:2 | 17 |\n",
       "| 3 | chr1 |  99312 |  99313 | TC | 4 | + | GTCTTCGTCATAACCG | 6:6 | 17 |\n",
       "| 4 | chr1 |  99326 |  99327 | TC | 2 | + | GTCTTCGTCATAACCG | 7:7 | 17 |\n",
       "| 5 | chr1 | 103105 | 103106 | TC | 1 | + | AACTCCCGTAGTGAAT | 1:1 | 17 |\n",
       "| 6 | chr1 | 103106 | 103107 | TC | 1 | + | AACTCCCGTAGTGAAT | 1:1 | 17 |\n",
       "\n"
      ],
      "text/plain": [
       "  V1   V2     V3     V4 V5 V6 V7               V8  V9\n",
       "1 chr1  99234  99235 TC 2  +  GTCTTCGTCATAACCG 3:3 17\n",
       "2 chr1  99298  99299 TC 2  +  CATATGGCACCAGGCT 2:2 17\n",
       "3 chr1  99312  99313 TC 4  +  GTCTTCGTCATAACCG 6:6 17\n",
       "4 chr1  99326  99327 TC 2  +  GTCTTCGTCATAACCG 7:7 17\n",
       "5 chr1 103105 103106 TC 1  +  AACTCCCGTAGTGAAT 1:1 17\n",
       "6 chr1 103106 103107 TC 1  +  AACTCCCGTAGTGAAT 1:1 17"
      ]
     },
     "metadata": {},
     "output_type": "display_data"
    },
    {
     "data": {
      "text/html": [
       "<table class=\"dataframe\">\n",
       "<caption>A data.frame: 6 × 10</caption>\n",
       "<thead>\n",
       "\t<tr><th></th><th scope=col>V1</th><th scope=col>V2</th><th scope=col>V3</th><th scope=col>V4</th><th scope=col>V5</th><th scope=col>V6</th><th scope=col>V7</th><th scope=col>V8</th><th scope=col>V9</th><th scope=col>V10</th></tr>\n",
       "\t<tr><th></th><th scope=col>&lt;chr&gt;</th><th scope=col>&lt;int&gt;</th><th scope=col>&lt;int&gt;</th><th scope=col>&lt;chr&gt;</th><th scope=col>&lt;int&gt;</th><th scope=col>&lt;chr&gt;</th><th scope=col>&lt;chr&gt;</th><th scope=col>&lt;chr&gt;</th><th scope=col>&lt;int&gt;</th><th scope=col>&lt;chr&gt;</th></tr>\n",
       "</thead>\n",
       "<tbody>\n",
       "\t<tr><th scope=row>1</th><td>chr1</td><td> 99234</td><td> 99235</td><td>TC</td><td>2</td><td>+</td><td>GTCTTCGTCATAACCG</td><td>3:3</td><td>17</td><td>chr1_99235 </td></tr>\n",
       "\t<tr><th scope=row>2</th><td>chr1</td><td> 99298</td><td> 99299</td><td>TC</td><td>2</td><td>+</td><td>CATATGGCACCAGGCT</td><td>2:2</td><td>17</td><td>chr1_99299 </td></tr>\n",
       "\t<tr><th scope=row>3</th><td>chr1</td><td> 99312</td><td> 99313</td><td>TC</td><td>4</td><td>+</td><td>GTCTTCGTCATAACCG</td><td>6:6</td><td>17</td><td>chr1_99313 </td></tr>\n",
       "\t<tr><th scope=row>4</th><td>chr1</td><td> 99326</td><td> 99327</td><td>TC</td><td>2</td><td>+</td><td>GTCTTCGTCATAACCG</td><td>7:7</td><td>17</td><td>chr1_99327 </td></tr>\n",
       "\t<tr><th scope=row>5</th><td>chr1</td><td>103105</td><td>103106</td><td>TC</td><td>1</td><td>+</td><td>AACTCCCGTAGTGAAT</td><td>1:1</td><td>17</td><td>chr1_103106</td></tr>\n",
       "\t<tr><th scope=row>6</th><td>chr1</td><td>103106</td><td>103107</td><td>TC</td><td>1</td><td>+</td><td>AACTCCCGTAGTGAAT</td><td>1:1</td><td>17</td><td>chr1_103107</td></tr>\n",
       "</tbody>\n",
       "</table>\n"
      ],
      "text/latex": [
       "A data.frame: 6 × 10\n",
       "\\begin{tabular}{r|llllllllll}\n",
       "  & V1 & V2 & V3 & V4 & V5 & V6 & V7 & V8 & V9 & V10\\\\\n",
       "  & <chr> & <int> & <int> & <chr> & <int> & <chr> & <chr> & <chr> & <int> & <chr>\\\\\n",
       "\\hline\n",
       "\t1 & chr1 &  99234 &  99235 & TC & 2 & + & GTCTTCGTCATAACCG & 3:3 & 17 & chr1\\_99235 \\\\\n",
       "\t2 & chr1 &  99298 &  99299 & TC & 2 & + & CATATGGCACCAGGCT & 2:2 & 17 & chr1\\_99299 \\\\\n",
       "\t3 & chr1 &  99312 &  99313 & TC & 4 & + & GTCTTCGTCATAACCG & 6:6 & 17 & chr1\\_99313 \\\\\n",
       "\t4 & chr1 &  99326 &  99327 & TC & 2 & + & GTCTTCGTCATAACCG & 7:7 & 17 & chr1\\_99327 \\\\\n",
       "\t5 & chr1 & 103105 & 103106 & TC & 1 & + & AACTCCCGTAGTGAAT & 1:1 & 17 & chr1\\_103106\\\\\n",
       "\t6 & chr1 & 103106 & 103107 & TC & 1 & + & AACTCCCGTAGTGAAT & 1:1 & 17 & chr1\\_103107\\\\\n",
       "\\end{tabular}\n"
      ],
      "text/markdown": [
       "\n",
       "A data.frame: 6 × 10\n",
       "\n",
       "| <!--/--> | V1 &lt;chr&gt; | V2 &lt;int&gt; | V3 &lt;int&gt; | V4 &lt;chr&gt; | V5 &lt;int&gt; | V6 &lt;chr&gt; | V7 &lt;chr&gt; | V8 &lt;chr&gt; | V9 &lt;int&gt; | V10 &lt;chr&gt; |\n",
       "|---|---|---|---|---|---|---|---|---|---|---|\n",
       "| 1 | chr1 |  99234 |  99235 | TC | 2 | + | GTCTTCGTCATAACCG | 3:3 | 17 | chr1_99235  |\n",
       "| 2 | chr1 |  99298 |  99299 | TC | 2 | + | CATATGGCACCAGGCT | 2:2 | 17 | chr1_99299  |\n",
       "| 3 | chr1 |  99312 |  99313 | TC | 4 | + | GTCTTCGTCATAACCG | 6:6 | 17 | chr1_99313  |\n",
       "| 4 | chr1 |  99326 |  99327 | TC | 2 | + | GTCTTCGTCATAACCG | 7:7 | 17 | chr1_99327  |\n",
       "| 5 | chr1 | 103105 | 103106 | TC | 1 | + | AACTCCCGTAGTGAAT | 1:1 | 17 | chr1_103106 |\n",
       "| 6 | chr1 | 103106 | 103107 | TC | 1 | + | AACTCCCGTAGTGAAT | 1:1 | 17 | chr1_103107 |\n",
       "\n"
      ],
      "text/plain": [
       "  V1   V2     V3     V4 V5 V6 V7               V8  V9 V10        \n",
       "1 chr1  99234  99235 TC 2  +  GTCTTCGTCATAACCG 3:3 17 chr1_99235 \n",
       "2 chr1  99298  99299 TC 2  +  CATATGGCACCAGGCT 2:2 17 chr1_99299 \n",
       "3 chr1  99312  99313 TC 4  +  GTCTTCGTCATAACCG 6:6 17 chr1_99313 \n",
       "4 chr1  99326  99327 TC 2  +  GTCTTCGTCATAACCG 7:7 17 chr1_99327 \n",
       "5 chr1 103105 103106 TC 1  +  AACTCCCGTAGTGAAT 1:1 17 chr1_103106\n",
       "6 chr1 103106 103107 TC 1  +  AACTCCCGTAGTGAAT 1:1 17 chr1_103107"
      ]
     },
     "metadata": {},
     "output_type": "display_data"
    }
   ],
   "source": [
    "#head(all_possible_sites)\n",
    "all_res <- read.table(\"/disk1/wenqing/tmp_data/ASD/all.res.wizSampleInfo\")\n",
    "\n",
    "head(all_res)\n",
    "\n",
    "all_res$V10 <- paste0(all_res$V1,\"_\",all_res$V3)\n",
    "head(all_res)"
   ]
  },
  {
   "cell_type": "code",
   "execution_count": 14,
   "metadata": {
    "vscode": {
     "languageId": "r"
    }
   },
   "outputs": [],
   "source": [
    "resInSpliceSites <- all_res[all_res$V10 %in% all_sites$site,]\n"
   ]
  },
  {
   "cell_type": "code",
   "execution_count": 15,
   "metadata": {
    "vscode": {
     "languageId": "r"
    }
   },
   "outputs": [],
   "source": [
    "resInSpliceSites$V11 <- \"info\"\n",
    "resInSpliceSites$V11 <- uniq_all_sites[resInSpliceSites$V10,]$info\n"
   ]
  },
  {
   "cell_type": "code",
   "execution_count": 17,
   "metadata": {
    "vscode": {
     "languageId": "r"
    }
   },
   "outputs": [
    {
     "data": {
      "text/html": [
       "<table class=\"dataframe\">\n",
       "<caption>A data.frame: 4 × 11</caption>\n",
       "<thead>\n",
       "\t<tr><th></th><th scope=col>V1</th><th scope=col>V2</th><th scope=col>V3</th><th scope=col>V4</th><th scope=col>V5</th><th scope=col>V6</th><th scope=col>V7</th><th scope=col>V8</th><th scope=col>V9</th><th scope=col>V10</th><th scope=col>V11</th></tr>\n",
       "\t<tr><th></th><th scope=col>&lt;chr&gt;</th><th scope=col>&lt;int&gt;</th><th scope=col>&lt;int&gt;</th><th scope=col>&lt;chr&gt;</th><th scope=col>&lt;int&gt;</th><th scope=col>&lt;chr&gt;</th><th scope=col>&lt;chr&gt;</th><th scope=col>&lt;chr&gt;</th><th scope=col>&lt;int&gt;</th><th scope=col>&lt;chr&gt;</th><th scope=col>&lt;chr&gt;</th></tr>\n",
       "</thead>\n",
       "<tbody>\n",
       "\t<tr><th scope=row>1678397</th><td>chr22</td><td>27115651</td><td>27115652</td><td>AG</td><td>4</td><td>-</td><td>CTCCTAGGTCTTCGTC</td><td>4:4</td><td>17</td><td>chr22_27115652</td><td>donor_ds_3_A_G</td></tr>\n",
       "\t<tr><th scope=row>6090719</th><td>chr22</td><td>27115650</td><td>27115651</td><td>TC</td><td>1</td><td>+</td><td>AGGTCCGAGACGACGT</td><td>1:1</td><td>18</td><td>chr22_27115651</td><td>donor_ds_2_T  </td></tr>\n",
       "\t<tr><th scope=row>6090720</th><td>chr22</td><td>27115651</td><td>27115652</td><td>AG</td><td>2</td><td>-</td><td>CTTGGCTTCGAATGCT</td><td>1:1</td><td>18</td><td>chr22_27115652</td><td>donor_ds_3_A_G</td></tr>\n",
       "\t<tr><th scope=row>20119120</th><td>chr22</td><td>27115651</td><td>27115652</td><td>AG</td><td>3</td><td>-</td><td>AACTCAGGTATATGGA</td><td>3:3</td><td>32</td><td>chr22_27115652</td><td>donor_ds_3_A_G</td></tr>\n",
       "</tbody>\n",
       "</table>\n"
      ],
      "text/latex": [
       "A data.frame: 4 × 11\n",
       "\\begin{tabular}{r|lllllllllll}\n",
       "  & V1 & V2 & V3 & V4 & V5 & V6 & V7 & V8 & V9 & V10 & V11\\\\\n",
       "  & <chr> & <int> & <int> & <chr> & <int> & <chr> & <chr> & <chr> & <int> & <chr> & <chr>\\\\\n",
       "\\hline\n",
       "\t1678397 & chr22 & 27115651 & 27115652 & AG & 4 & - & CTCCTAGGTCTTCGTC & 4:4 & 17 & chr22\\_27115652 & donor\\_ds\\_3\\_A\\_G\\\\\n",
       "\t6090719 & chr22 & 27115650 & 27115651 & TC & 1 & + & AGGTCCGAGACGACGT & 1:1 & 18 & chr22\\_27115651 & donor\\_ds\\_2\\_T  \\\\\n",
       "\t6090720 & chr22 & 27115651 & 27115652 & AG & 2 & - & CTTGGCTTCGAATGCT & 1:1 & 18 & chr22\\_27115652 & donor\\_ds\\_3\\_A\\_G\\\\\n",
       "\t20119120 & chr22 & 27115651 & 27115652 & AG & 3 & - & AACTCAGGTATATGGA & 3:3 & 32 & chr22\\_27115652 & donor\\_ds\\_3\\_A\\_G\\\\\n",
       "\\end{tabular}\n"
      ],
      "text/markdown": [
       "\n",
       "A data.frame: 4 × 11\n",
       "\n",
       "| <!--/--> | V1 &lt;chr&gt; | V2 &lt;int&gt; | V3 &lt;int&gt; | V4 &lt;chr&gt; | V5 &lt;int&gt; | V6 &lt;chr&gt; | V7 &lt;chr&gt; | V8 &lt;chr&gt; | V9 &lt;int&gt; | V10 &lt;chr&gt; | V11 &lt;chr&gt; |\n",
       "|---|---|---|---|---|---|---|---|---|---|---|---|\n",
       "| 1678397 | chr22 | 27115651 | 27115652 | AG | 4 | - | CTCCTAGGTCTTCGTC | 4:4 | 17 | chr22_27115652 | donor_ds_3_A_G |\n",
       "| 6090719 | chr22 | 27115650 | 27115651 | TC | 1 | + | AGGTCCGAGACGACGT | 1:1 | 18 | chr22_27115651 | donor_ds_2_T   |\n",
       "| 6090720 | chr22 | 27115651 | 27115652 | AG | 2 | - | CTTGGCTTCGAATGCT | 1:1 | 18 | chr22_27115652 | donor_ds_3_A_G |\n",
       "| 20119120 | chr22 | 27115651 | 27115652 | AG | 3 | - | AACTCAGGTATATGGA | 3:3 | 32 | chr22_27115652 | donor_ds_3_A_G |\n",
       "\n"
      ],
      "text/plain": [
       "         V1    V2       V3       V4 V5 V6 V7               V8  V9\n",
       "1678397  chr22 27115651 27115652 AG 4  -  CTCCTAGGTCTTCGTC 4:4 17\n",
       "6090719  chr22 27115650 27115651 TC 1  +  AGGTCCGAGACGACGT 1:1 18\n",
       "6090720  chr22 27115651 27115652 AG 2  -  CTTGGCTTCGAATGCT 1:1 18\n",
       "20119120 chr22 27115651 27115652 AG 3  -  AACTCAGGTATATGGA 3:3 32\n",
       "         V10            V11           \n",
       "1678397  chr22_27115652 donor_ds_3_A_G\n",
       "6090719  chr22_27115651 donor_ds_2_T  \n",
       "6090720  chr22_27115652 donor_ds_3_A_G\n",
       "20119120 chr22_27115652 donor_ds_3_A_G"
      ]
     },
     "metadata": {},
     "output_type": "display_data"
    }
   ],
   "source": [
    "head(resInSpliceSites)"
   ]
  },
  {
   "cell_type": "code",
   "execution_count": 28,
   "metadata": {
    "vscode": {
     "languageId": "r"
    }
   },
   "outputs": [
    {
     "data": {
      "text/html": [
       "<style>\n",
       ".list-inline {list-style: none; margin:0; padding: 0}\n",
       ".list-inline>li {display: inline-block}\n",
       ".list-inline>li:not(:last-child)::after {content: \"\\00b7\"; padding: 0 .5ex}\n",
       "</style>\n",
       "<ol class=list-inline><li>6300</li><li>2</li></ol>\n"
      ],
      "text/latex": [
       "\\begin{enumerate*}\n",
       "\\item 6300\n",
       "\\item 2\n",
       "\\end{enumerate*}\n"
      ],
      "text/markdown": [
       "1. 6300\n",
       "2. 2\n",
       "\n",
       "\n"
      ],
      "text/plain": [
       "[1] 6300    2"
      ]
     },
     "metadata": {},
     "output_type": "display_data"
    },
    {
     "data": {
      "text/html": [
       "<table class=\"dataframe\">\n",
       "<caption>A data.frame: 6 × 2</caption>\n",
       "<thead>\n",
       "\t<tr><th></th><th scope=col>site</th><th scope=col>info</th></tr>\n",
       "\t<tr><th></th><th scope=col>&lt;chr&gt;</th><th scope=col>&lt;chr&gt;</th></tr>\n",
       "</thead>\n",
       "<tbody>\n",
       "\t<tr><th scope=row>1</th><td>chr1_46899620 </td><td>donor_ds_1_G</td></tr>\n",
       "\t<tr><th scope=row>2</th><td>chr1_46900921 </td><td>donor_ds_1_G</td></tr>\n",
       "\t<tr><th scope=row>3</th><td>chr1_46901709 </td><td>donor_ds_1_G</td></tr>\n",
       "\t<tr><th scope=row>4</th><td>chr1_46902126 </td><td>donor_ds_1_G</td></tr>\n",
       "\t<tr><th scope=row>5</th><td>chr1_160646295</td><td>donor_ds_1_G</td></tr>\n",
       "\t<tr><th scope=row>6</th><td>chr1_160646295</td><td>donor_ds_1_G</td></tr>\n",
       "</tbody>\n",
       "</table>\n"
      ],
      "text/latex": [
       "A data.frame: 6 × 2\n",
       "\\begin{tabular}{r|ll}\n",
       "  & site & info\\\\\n",
       "  & <chr> & <chr>\\\\\n",
       "\\hline\n",
       "\t1 & chr1\\_46899620  & donor\\_ds\\_1\\_G\\\\\n",
       "\t2 & chr1\\_46900921  & donor\\_ds\\_1\\_G\\\\\n",
       "\t3 & chr1\\_46901709  & donor\\_ds\\_1\\_G\\\\\n",
       "\t4 & chr1\\_46902126  & donor\\_ds\\_1\\_G\\\\\n",
       "\t5 & chr1\\_160646295 & donor\\_ds\\_1\\_G\\\\\n",
       "\t6 & chr1\\_160646295 & donor\\_ds\\_1\\_G\\\\\n",
       "\\end{tabular}\n"
      ],
      "text/markdown": [
       "\n",
       "A data.frame: 6 × 2\n",
       "\n",
       "| <!--/--> | site &lt;chr&gt; | info &lt;chr&gt; |\n",
       "|---|---|---|\n",
       "| 1 | chr1_46899620  | donor_ds_1_G |\n",
       "| 2 | chr1_46900921  | donor_ds_1_G |\n",
       "| 3 | chr1_46901709  | donor_ds_1_G |\n",
       "| 4 | chr1_46902126  | donor_ds_1_G |\n",
       "| 5 | chr1_160646295 | donor_ds_1_G |\n",
       "| 6 | chr1_160646295 | donor_ds_1_G |\n",
       "\n"
      ],
      "text/plain": [
       "  site           info        \n",
       "1 chr1_46899620  donor_ds_1_G\n",
       "2 chr1_46900921  donor_ds_1_G\n",
       "3 chr1_46901709  donor_ds_1_G\n",
       "4 chr1_46902126  donor_ds_1_G\n",
       "5 chr1_160646295 donor_ds_1_G\n",
       "6 chr1_160646295 donor_ds_1_G"
      ]
     },
     "metadata": {},
     "output_type": "display_data"
    },
    {
     "data": {
      "text/html": [
       "<style>\n",
       ".list-inline {list-style: none; margin:0; padding: 0}\n",
       ".list-inline>li {display: inline-block}\n",
       ".list-inline>li:not(:last-child)::after {content: \"\\00b7\"; padding: 0 .5ex}\n",
       "</style>\n",
       "<ol class=list-inline><li>5900</li><li>2</li></ol>\n"
      ],
      "text/latex": [
       "\\begin{enumerate*}\n",
       "\\item 5900\n",
       "\\item 2\n",
       "\\end{enumerate*}\n"
      ],
      "text/markdown": [
       "1. 5900\n",
       "2. 2\n",
       "\n",
       "\n"
      ],
      "text/plain": [
       "[1] 5900    2"
      ]
     },
     "metadata": {},
     "output_type": "display_data"
    }
   ],
   "source": [
    "#res是否落在可变剪接的供受体位点上\n",
    "#构建供受体位点上下游5bp的潜在res位点\n",
    "donor_sites_2 <- paste0(iso_no_IR_exon_region$seqnames,\"_\",as.character(as.integer(iso_no_IR_exon_region$end)+2))\n",
    "donor_sites_1 <- paste0(iso_no_IR_exon_region$seqnames,\"_\",as.character(as.integer(iso_no_IR_exon_region$end)+1))\n",
    "donor_sites_3 <- paste0(iso_no_IR_exon_region$seqnames,\"_\",as.character(as.integer(iso_no_IR_exon_region$end)+3))\n",
    "donor_sites_4 <- paste0(iso_no_IR_exon_region$seqnames,\"_\",as.character(as.integer(iso_no_IR_exon_region$end)+4))\n",
    "donor_sites_5 <- paste0(iso_no_IR_exon_region$seqnames,\"_\",as.character(as.integer(iso_no_IR_exon_region$end)+5))\n",
    "\n",
    "acceptor_sites_2 <- paste0(iso_no_IR_exon_region$seqnames,\"_\",as.character(as.integer(iso_no_IR_exon_region$start)-2))\n",
    "acceptor_sites_1 <- paste0(iso_no_IR_exon_region$seqnames,\"_\",as.character(as.integer(iso_no_IR_exon_region$start)-1))\n",
    "acceptor_sites_3 <- paste0(iso_no_IR_exon_region$seqnames,\"_\",as.character(as.integer(iso_no_IR_exon_region$start)-3))\n",
    "acceptor_sites_4 <- paste0(iso_no_IR_exon_region$seqnames,\"_\",as.character(as.integer(iso_no_IR_exon_region$start)-4))\n",
    "acceptor_sites_5 <- paste0(iso_no_IR_exon_region$seqnames,\"_\",as.character(as.integer(iso_no_IR_exon_region$start)-5))\n",
    "\n",
    "\n",
    "all_possible_sites <- c(donor_sites_1,donor_sites_2,donor_sites_3,donor_sites_4,donor_sites_5,acceptor_sites_1,acceptor_sites_2,acceptor_sites_3,acceptor_sites_4,acceptor_sites_5)\n",
    "\n",
    "donor_sites_info <- c(rep(\"donor_ds_1_G\",times=length(iso_no_IR_exon_region$seqnames)),rep(\"donor_ds_2_T\",times=length(iso_no_IR_exon_region$seqnames)),rep(\"donor_ds_3_A_G\",times=length(iso_no_IR_exon_region$seqnames)),rep(\"donor_ds_4_A\",times=length(iso_no_IR_exon_region$seqnames)),rep(\"donor_ds_5_G\",times=length(iso_no_IR_exon_region$seqnames)))\n",
    "acceptor_sites_info <- c(rep(\"acceptor_us_1_G\",times=length(iso_no_IR_exon_region$seqnames)),rep(\"acceptor_us_2_A\",times=length(iso_no_IR_exon_region$seqnames)),rep(\"acceptor_us_3_C_T\",times=length(iso_no_IR_exon_region$seqnames)),rep(\"acceptor_us_4_N\",times=length(iso_no_IR_exon_region$seqnames)),rep(\"acceptor_us_5_C_T\",times=length(iso_no_IR_exon_region$seqnames)))\n",
    "\n",
    "all_sites_no_IR_info <- c(donor_sites_info,acceptor_sites_info)\n",
    "all_sites_no_IR <- as.data.frame(cbind(all_possible_sites,all_sites_no_IR_info))\n",
    "\n",
    "dim(all_sites_no_IR)\n",
    "colnames(all_sites_no_IR) <- c(\"site\",\"info\")\n",
    "head(all_sites_no_IR)\n",
    "\n",
    "uniq_all_sites_no_IR <- all_sites_no_IR[!duplicated(all_sites_no_IR$site),]\n",
    "dim(uniq_all_sites_no_IR)\n",
    "\n",
    "rownames(uniq_all_sites_no_IR) <- uniq_all_sites_no_IR$site\n",
    "\n",
    "\n",
    "resInSpliceSites_no_IR <- all_res[all_res$V10 %in% all_sites_no_IR$site,]\n",
    "\n",
    "resInSpliceSites_no_IR$V11 <- \"info\"\n",
    "resInSpliceSites_no_IR$V11 <- uniq_all_sites_no_IR[resInSpliceSites_no_IR$V10,]$info\n"
   ]
  },
  {
   "cell_type": "code",
   "execution_count": 35,
   "metadata": {
    "vscode": {
     "languageId": "r"
    }
   },
   "outputs": [
    {
     "data": {
      "text/html": [
       "<style>\n",
       ".list-inline {list-style: none; margin:0; padding: 0}\n",
       ".list-inline>li {display: inline-block}\n",
       ".list-inline>li:not(:last-child)::after {content: \"\\00b7\"; padding: 0 .5ex}\n",
       "</style>\n",
       "<ol class=list-inline><li>25</li><li>11</li></ol>\n"
      ],
      "text/latex": [
       "\\begin{enumerate*}\n",
       "\\item 25\n",
       "\\item 11\n",
       "\\end{enumerate*}\n"
      ],
      "text/markdown": [
       "1. 25\n",
       "2. 11\n",
       "\n",
       "\n"
      ],
      "text/plain": [
       "[1] 25 11"
      ]
     },
     "metadata": {},
     "output_type": "display_data"
    }
   ],
   "source": [
    "dim(resInSpliceSites_no_IR)"
   ]
  },
  {
   "cell_type": "code",
   "execution_count": 36,
   "metadata": {
    "vscode": {
     "languageId": "r"
    }
   },
   "outputs": [
    {
     "data": {
      "text/html": [
       "0.221238938053097"
      ],
      "text/latex": [
       "0.221238938053097"
      ],
      "text/markdown": [
       "0.221238938053097"
      ],
      "text/plain": [
       "[1] 0.2212389"
      ]
     },
     "metadata": {},
     "output_type": "display_data"
    },
    {
     "data": {
      "text/html": [
       "0.0973451327433628"
      ],
      "text/latex": [
       "0.0973451327433628"
      ],
      "text/markdown": [
       "0.0973451327433628"
      ],
      "text/plain": [
       "[1] 0.09734513"
      ]
     },
     "metadata": {},
     "output_type": "display_data"
    }
   ],
   "source": [
    "25/113\n",
    "11/113"
   ]
  }
 ],
 "metadata": {
  "kernelspec": {
   "display_name": "R",
   "language": "R",
   "name": "ir"
  },
  "language_info": {
   "codemirror_mode": "r",
   "file_extension": ".r",
   "mimetype": "text/x-r-source",
   "name": "R",
   "pygments_lexer": "r",
   "version": "4.3.1"
  },
  "orig_nbformat": 4
 },
 "nbformat": 4,
 "nbformat_minor": 2
}
