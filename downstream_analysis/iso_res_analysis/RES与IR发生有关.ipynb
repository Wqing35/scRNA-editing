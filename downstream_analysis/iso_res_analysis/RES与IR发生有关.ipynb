{
 "cells": [
  {
   "cell_type": "code",
   "execution_count": 1,
   "metadata": {
    "vscode": {
     "languageId": "r"
    }
   },
   "outputs": [],
   "source": [
    ".libPaths('/disk1/wenqing/anaconda3/envs/wq_R4.2/lib/R/library')\n",
    "\n",
    "library(IRkernel)\n",
    "library(jsonlite)\n",
    "library(repr)"
   ]
  },
  {
   "cell_type": "code",
   "execution_count": 129,
   "metadata": {
    "vscode": {
     "languageId": "r"
    }
   },
   "outputs": [],
   "source": [
    "asd_sample_iso_IR <- read.table(\"/disk1/wenqing/tmp_data/ASD/asd_male_pfc/iso_retained_intron/asd_iso_IR.txt\",header=F)\n",
    "asd_sample_iso_no_IR <- read.table(\"/disk1/wenqing/tmp_data/ASD/asd_male_pfc/iso_retained_intron/asd_iso_no_IR.txt\",header=F)"
   ]
  },
  {
   "cell_type": "code",
   "execution_count": 128,
   "metadata": {
    "vscode": {
     "languageId": "r"
    }
   },
   "outputs": [
    {
     "data": {
      "text/html": [
       "<table class=\"dataframe\">\n",
       "<caption>A data.frame: 6 × 1</caption>\n",
       "<thead>\n",
       "\t<tr><th></th><th scope=col>V1</th></tr>\n",
       "\t<tr><th></th><th scope=col>&lt;chr&gt;</th></tr>\n",
       "</thead>\n",
       "<tbody>\n",
       "\t<tr><th scope=row>1</th><td>ENST00000595014.1_3</td></tr>\n",
       "\t<tr><th scope=row>2</th><td>ENST00000598345.1_3</td></tr>\n",
       "\t<tr><th scope=row>3</th><td>ENST00000472360.1_3</td></tr>\n",
       "\t<tr><th scope=row>4</th><td>ENST00000495442.1_3</td></tr>\n",
       "\t<tr><th scope=row>5</th><td>ENST00000495709.1_3</td></tr>\n",
       "\t<tr><th scope=row>6</th><td>ENST00000546562.6_4</td></tr>\n",
       "</tbody>\n",
       "</table>\n"
      ],
      "text/latex": [
       "A data.frame: 6 × 1\n",
       "\\begin{tabular}{r|l}\n",
       "  & V1\\\\\n",
       "  & <chr>\\\\\n",
       "\\hline\n",
       "\t1 & ENST00000595014.1\\_3\\\\\n",
       "\t2 & ENST00000598345.1\\_3\\\\\n",
       "\t3 & ENST00000472360.1\\_3\\\\\n",
       "\t4 & ENST00000495442.1\\_3\\\\\n",
       "\t5 & ENST00000495709.1\\_3\\\\\n",
       "\t6 & ENST00000546562.6\\_4\\\\\n",
       "\\end{tabular}\n"
      ],
      "text/markdown": [
       "\n",
       "A data.frame: 6 × 1\n",
       "\n",
       "| <!--/--> | V1 &lt;chr&gt; |\n",
       "|---|---|\n",
       "| 1 | ENST00000595014.1_3 |\n",
       "| 2 | ENST00000598345.1_3 |\n",
       "| 3 | ENST00000472360.1_3 |\n",
       "| 4 | ENST00000495442.1_3 |\n",
       "| 5 | ENST00000495709.1_3 |\n",
       "| 6 | ENST00000546562.6_4 |\n",
       "\n"
      ],
      "text/plain": [
       "  V1                 \n",
       "1 ENST00000595014.1_3\n",
       "2 ENST00000598345.1_3\n",
       "3 ENST00000472360.1_3\n",
       "4 ENST00000495442.1_3\n",
       "5 ENST00000495709.1_3\n",
       "6 ENST00000546562.6_4"
      ]
     },
     "metadata": {},
     "output_type": "display_data"
    }
   ],
   "source": [
    "head(asd_sample_iso_IR)"
   ]
  },
  {
   "cell_type": "code",
   "execution_count": 5,
   "metadata": {
    "vscode": {
     "languageId": "r"
    }
   },
   "outputs": [
    {
     "data": {
      "text/html": [
       "<style>\n",
       ".list-inline {list-style: none; margin:0; padding: 0}\n",
       ".list-inline>li {display: inline-block}\n",
       ".list-inline>li:not(:last-child)::after {content: \"\\00b7\"; padding: 0 .5ex}\n",
       "</style>\n",
       "<ol class=list-inline><li>926332</li><li>9</li></ol>\n"
      ],
      "text/latex": [
       "\\begin{enumerate*}\n",
       "\\item 926332\n",
       "\\item 9\n",
       "\\end{enumerate*}\n"
      ],
      "text/markdown": [
       "1. 926332\n",
       "2. 9\n",
       "\n",
       "\n"
      ],
      "text/plain": [
       "[1] 926332      9"
      ]
     },
     "metadata": {},
     "output_type": "display_data"
    }
   ],
   "source": [
    "#调取两组iso的exon边界，构建剪接供受体位点\n",
    "exon_region <- read.csv(\"/disk1/wenqing/tmp_data/ASD/switchList_exon.csv\")\n",
    "dim(exon_region)"
   ]
  },
  {
   "cell_type": "code",
   "execution_count": 52,
   "metadata": {
    "vscode": {
     "languageId": "r"
    }
   },
   "outputs": [],
   "source": [
    "iso_IR_exon_region <- exon_region[exon_region$isoform_id %in% asd_sample_iso_IR$V1,]\n",
    "iso_no_IR_exon_region <- exon_region[exon_region$isoform_id %in% asd_sample_iso_no_IR$V1,]"
   ]
  },
  {
   "cell_type": "code",
   "execution_count": 126,
   "metadata": {
    "vscode": {
     "languageId": "r"
    }
   },
   "outputs": [
    {
     "data": {
      "text/html": [
       "<table class=\"dataframe\">\n",
       "<caption>A data.frame: 6 × 8</caption>\n",
       "<thead>\n",
       "\t<tr><th></th><th scope=col>seqnames</th><th scope=col>start</th><th scope=col>end</th><th scope=col>width</th><th scope=col>strand</th><th scope=col>isoform_id</th><th scope=col>gene_id</th><th scope=col>gene_name</th></tr>\n",
       "\t<tr><th></th><th scope=col>&lt;chr&gt;</th><th scope=col>&lt;int&gt;</th><th scope=col>&lt;int&gt;</th><th scope=col>&lt;int&gt;</th><th scope=col>&lt;chr&gt;</th><th scope=col>&lt;chr&gt;</th><th scope=col>&lt;chr&gt;</th><th scope=col>&lt;chr&gt;</th></tr>\n",
       "</thead>\n",
       "<tbody>\n",
       "\t<tr><th scope=row>125</th><td>chr1</td><td>786728</td><td>787490</td><td>763</td><td>+</td><td>ENST00000425657.1_1</td><td>LINC01128</td><td>LINC01128</td></tr>\n",
       "\t<tr><th scope=row>132</th><td>chr1</td><td>788051</td><td>788132</td><td> 82</td><td>+</td><td>ENST00000425657.1_1</td><td>LINC01128</td><td>LINC01128</td></tr>\n",
       "\t<tr><th scope=row>220</th><td>chr1</td><td>970247</td><td>970704</td><td>458</td><td>+</td><td>ENST00000469403.1_1</td><td>AGRN     </td><td>AGRN     </td></tr>\n",
       "\t<tr><th scope=row>223</th><td>chr1</td><td>976045</td><td>976260</td><td>216</td><td>+</td><td>ENST00000469403.1_1</td><td>AGRN     </td><td>AGRN     </td></tr>\n",
       "\t<tr><th scope=row>226</th><td>chr1</td><td>976553</td><td>976777</td><td>225</td><td>+</td><td>ENST00000469403.1_1</td><td>AGRN     </td><td>AGRN     </td></tr>\n",
       "\t<tr><th scope=row>257</th><td>chr1</td><td>982581</td><td>982834</td><td>254</td><td>+</td><td>ENST00000466223.1_1</td><td>AGRN     </td><td>AGRN     </td></tr>\n",
       "</tbody>\n",
       "</table>\n"
      ],
      "text/latex": [
       "A data.frame: 6 × 8\n",
       "\\begin{tabular}{r|llllllll}\n",
       "  & seqnames & start & end & width & strand & isoform\\_id & gene\\_id & gene\\_name\\\\\n",
       "  & <chr> & <int> & <int> & <int> & <chr> & <chr> & <chr> & <chr>\\\\\n",
       "\\hline\n",
       "\t125 & chr1 & 786728 & 787490 & 763 & + & ENST00000425657.1\\_1 & LINC01128 & LINC01128\\\\\n",
       "\t132 & chr1 & 788051 & 788132 &  82 & + & ENST00000425657.1\\_1 & LINC01128 & LINC01128\\\\\n",
       "\t220 & chr1 & 970247 & 970704 & 458 & + & ENST00000469403.1\\_1 & AGRN      & AGRN     \\\\\n",
       "\t223 & chr1 & 976045 & 976260 & 216 & + & ENST00000469403.1\\_1 & AGRN      & AGRN     \\\\\n",
       "\t226 & chr1 & 976553 & 976777 & 225 & + & ENST00000469403.1\\_1 & AGRN      & AGRN     \\\\\n",
       "\t257 & chr1 & 982581 & 982834 & 254 & + & ENST00000466223.1\\_1 & AGRN      & AGRN     \\\\\n",
       "\\end{tabular}\n"
      ],
      "text/markdown": [
       "\n",
       "A data.frame: 6 × 8\n",
       "\n",
       "| <!--/--> | seqnames &lt;chr&gt; | start &lt;int&gt; | end &lt;int&gt; | width &lt;int&gt; | strand &lt;chr&gt; | isoform_id &lt;chr&gt; | gene_id &lt;chr&gt; | gene_name &lt;chr&gt; |\n",
       "|---|---|---|---|---|---|---|---|---|\n",
       "| 125 | chr1 | 786728 | 787490 | 763 | + | ENST00000425657.1_1 | LINC01128 | LINC01128 |\n",
       "| 132 | chr1 | 788051 | 788132 |  82 | + | ENST00000425657.1_1 | LINC01128 | LINC01128 |\n",
       "| 220 | chr1 | 970247 | 970704 | 458 | + | ENST00000469403.1_1 | AGRN      | AGRN      |\n",
       "| 223 | chr1 | 976045 | 976260 | 216 | + | ENST00000469403.1_1 | AGRN      | AGRN      |\n",
       "| 226 | chr1 | 976553 | 976777 | 225 | + | ENST00000469403.1_1 | AGRN      | AGRN      |\n",
       "| 257 | chr1 | 982581 | 982834 | 254 | + | ENST00000466223.1_1 | AGRN      | AGRN      |\n",
       "\n"
      ],
      "text/plain": [
       "    seqnames start  end    width strand isoform_id          gene_id   gene_name\n",
       "125 chr1     786728 787490 763   +      ENST00000425657.1_1 LINC01128 LINC01128\n",
       "132 chr1     788051 788132  82   +      ENST00000425657.1_1 LINC01128 LINC01128\n",
       "220 chr1     970247 970704 458   +      ENST00000469403.1_1 AGRN      AGRN     \n",
       "223 chr1     976045 976260 216   +      ENST00000469403.1_1 AGRN      AGRN     \n",
       "226 chr1     976553 976777 225   +      ENST00000469403.1_1 AGRN      AGRN     \n",
       "257 chr1     982581 982834 254   +      ENST00000466223.1_1 AGRN      AGRN     "
      ]
     },
     "metadata": {},
     "output_type": "display_data"
    }
   ],
   "source": [
    "head(iso_IR_exon_region)"
   ]
  },
  {
   "cell_type": "code",
   "execution_count": 56,
   "metadata": {
    "vscode": {
     "languageId": "r"
    }
   },
   "outputs": [],
   "source": [
    "iso_IR_exon_region <- iso_IR_exon_region[,c(2:9)]\n",
    "iso_no_IR_exon_region <- iso_no_IR_exon_region[,c(2:9)]\n",
    "write.table(iso_IR_exon_region,\"/disk1/wenqing/tmp_data/ASD/asd_iso_IR_exon_region.txt\",row.names=F,quote=F)\n",
    "write.table(iso_no_IR_exon_region,\"/disk1/wenqing/tmp_data/ASD/asd_iso_no_IR_exon_region.txt\",row.names=F,quote=F)"
   ]
  },
  {
   "cell_type": "code",
   "execution_count": 96,
   "metadata": {
    "vscode": {
     "languageId": "r"
    }
   },
   "outputs": [
    {
     "data": {
      "text/html": [
       "<table class=\"dataframe\">\n",
       "<caption>A data.frame: 6 × 8</caption>\n",
       "<thead>\n",
       "\t<tr><th></th><th scope=col>seqnames</th><th scope=col>start</th><th scope=col>end</th><th scope=col>width</th><th scope=col>strand</th><th scope=col>isoform_id</th><th scope=col>gene_id</th><th scope=col>gene_name</th></tr>\n",
       "\t<tr><th></th><th scope=col>&lt;chr&gt;</th><th scope=col>&lt;int&gt;</th><th scope=col>&lt;int&gt;</th><th scope=col>&lt;int&gt;</th><th scope=col>&lt;chr&gt;</th><th scope=col>&lt;chr&gt;</th><th scope=col>&lt;chr&gt;</th><th scope=col>&lt;chr&gt;</th></tr>\n",
       "</thead>\n",
       "<tbody>\n",
       "\t<tr><th scope=row>125</th><td>chr1</td><td>786728</td><td>787490</td><td>763</td><td>+</td><td>ENST00000425657.1_1</td><td>LINC01128</td><td>LINC01128</td></tr>\n",
       "\t<tr><th scope=row>132</th><td>chr1</td><td>788051</td><td>788132</td><td> 82</td><td>+</td><td>ENST00000425657.1_1</td><td>LINC01128</td><td>LINC01128</td></tr>\n",
       "\t<tr><th scope=row>220</th><td>chr1</td><td>970247</td><td>970704</td><td>458</td><td>+</td><td>ENST00000469403.1_1</td><td>AGRN     </td><td>AGRN     </td></tr>\n",
       "\t<tr><th scope=row>223</th><td>chr1</td><td>976045</td><td>976260</td><td>216</td><td>+</td><td>ENST00000469403.1_1</td><td>AGRN     </td><td>AGRN     </td></tr>\n",
       "\t<tr><th scope=row>226</th><td>chr1</td><td>976553</td><td>976777</td><td>225</td><td>+</td><td>ENST00000469403.1_1</td><td>AGRN     </td><td>AGRN     </td></tr>\n",
       "\t<tr><th scope=row>257</th><td>chr1</td><td>982581</td><td>982834</td><td>254</td><td>+</td><td>ENST00000466223.1_1</td><td>AGRN     </td><td>AGRN     </td></tr>\n",
       "</tbody>\n",
       "</table>\n"
      ],
      "text/latex": [
       "A data.frame: 6 × 8\n",
       "\\begin{tabular}{r|llllllll}\n",
       "  & seqnames & start & end & width & strand & isoform\\_id & gene\\_id & gene\\_name\\\\\n",
       "  & <chr> & <int> & <int> & <int> & <chr> & <chr> & <chr> & <chr>\\\\\n",
       "\\hline\n",
       "\t125 & chr1 & 786728 & 787490 & 763 & + & ENST00000425657.1\\_1 & LINC01128 & LINC01128\\\\\n",
       "\t132 & chr1 & 788051 & 788132 &  82 & + & ENST00000425657.1\\_1 & LINC01128 & LINC01128\\\\\n",
       "\t220 & chr1 & 970247 & 970704 & 458 & + & ENST00000469403.1\\_1 & AGRN      & AGRN     \\\\\n",
       "\t223 & chr1 & 976045 & 976260 & 216 & + & ENST00000469403.1\\_1 & AGRN      & AGRN     \\\\\n",
       "\t226 & chr1 & 976553 & 976777 & 225 & + & ENST00000469403.1\\_1 & AGRN      & AGRN     \\\\\n",
       "\t257 & chr1 & 982581 & 982834 & 254 & + & ENST00000466223.1\\_1 & AGRN      & AGRN     \\\\\n",
       "\\end{tabular}\n"
      ],
      "text/markdown": [
       "\n",
       "A data.frame: 6 × 8\n",
       "\n",
       "| <!--/--> | seqnames &lt;chr&gt; | start &lt;int&gt; | end &lt;int&gt; | width &lt;int&gt; | strand &lt;chr&gt; | isoform_id &lt;chr&gt; | gene_id &lt;chr&gt; | gene_name &lt;chr&gt; |\n",
       "|---|---|---|---|---|---|---|---|---|\n",
       "| 125 | chr1 | 786728 | 787490 | 763 | + | ENST00000425657.1_1 | LINC01128 | LINC01128 |\n",
       "| 132 | chr1 | 788051 | 788132 |  82 | + | ENST00000425657.1_1 | LINC01128 | LINC01128 |\n",
       "| 220 | chr1 | 970247 | 970704 | 458 | + | ENST00000469403.1_1 | AGRN      | AGRN      |\n",
       "| 223 | chr1 | 976045 | 976260 | 216 | + | ENST00000469403.1_1 | AGRN      | AGRN      |\n",
       "| 226 | chr1 | 976553 | 976777 | 225 | + | ENST00000469403.1_1 | AGRN      | AGRN      |\n",
       "| 257 | chr1 | 982581 | 982834 | 254 | + | ENST00000466223.1_1 | AGRN      | AGRN      |\n",
       "\n"
      ],
      "text/plain": [
       "    seqnames start  end    width strand isoform_id          gene_id   gene_name\n",
       "125 chr1     786728 787490 763   +      ENST00000425657.1_1 LINC01128 LINC01128\n",
       "132 chr1     788051 788132  82   +      ENST00000425657.1_1 LINC01128 LINC01128\n",
       "220 chr1     970247 970704 458   +      ENST00000469403.1_1 AGRN      AGRN     \n",
       "223 chr1     976045 976260 216   +      ENST00000469403.1_1 AGRN      AGRN     \n",
       "226 chr1     976553 976777 225   +      ENST00000469403.1_1 AGRN      AGRN     \n",
       "257 chr1     982581 982834 254   +      ENST00000466223.1_1 AGRN      AGRN     "
      ]
     },
     "metadata": {},
     "output_type": "display_data"
    }
   ],
   "source": [
    "head(iso_IR_exon_region)"
   ]
  },
  {
   "cell_type": "code",
   "execution_count": 99,
   "metadata": {
    "vscode": {
     "languageId": "r"
    }
   },
   "outputs": [],
   "source": [
    "start_exd <- iso_IR_exon_region$start-5\n",
    "end_exd <- iso_IR_exon_region$end+5\n",
    "iso_IR_exon_region_exd <- iso_IR_exon_region\n",
    "iso_IR_exon_region_exd$start <- start_exd\n",
    "iso_IR_exon_region_exd$end <- end_exd"
   ]
  },
  {
   "cell_type": "code",
   "execution_count": 100,
   "metadata": {
    "vscode": {
     "languageId": "r"
    }
   },
   "outputs": [],
   "source": [
    "no_IR_start_exd <- iso_no_IR_exon_region$start-5\n",
    "no_IR_end_exd <- iso_no_IR_exon_region$end+5\n",
    "iso_no_IR_exon_region_exd <- iso_no_IR_exon_region\n",
    "iso_no_IR_exon_region_exd$start <- no_IR_start_exd\n",
    "iso_no_IR_exon_region_exd$end <- no_IR_end_exd"
   ]
  },
  {
   "cell_type": "code",
   "execution_count": 104,
   "metadata": {
    "vscode": {
     "languageId": "r"
    }
   },
   "outputs": [],
   "source": [
    "write.table(iso_IR_exon_region_exd,\"/disk1/wenqing/tmp_data/ASD/asd_iso_IR_exon_region_exd.txt\",row.names=F,quote=F)\n",
    "write.table(iso_no_IR_exon_region_exd,\"/disk1/wenqing/tmp_data/ASD/asd_iso_no_IR_exon_region_exd.txt\",row.names=F,quote=F)"
   ]
  },
  {
   "cell_type": "code",
   "execution_count": 106,
   "metadata": {
    "vscode": {
     "languageId": "r"
    }
   },
   "outputs": [],
   "source": [
    "#res是否落在可变剪接的供受体位点上\n",
    "#构建供受体位点上下游5bp的潜在res位点\n",
    "donor_sites_2 <- paste0(iso_IR_exon_region$seqnames,\"_\",as.character(as.integer(iso_IR_exon_region$end)+2))\n",
    "donor_sites_1 <- paste0(iso_IR_exon_region$seqnames,\"_\",as.character(as.integer(iso_IR_exon_region$end)+1))\n",
    "donor_sites_3 <- paste0(iso_IR_exon_region$seqnames,\"_\",as.character(as.integer(iso_IR_exon_region$end)+3))\n",
    "donor_sites_4 <- paste0(iso_IR_exon_region$seqnames,\"_\",as.character(as.integer(iso_IR_exon_region$end)+4))\n",
    "donor_sites_5 <- paste0(iso_IR_exon_region$seqnames,\"_\",as.character(as.integer(iso_IR_exon_region$end)+5))\n",
    "donor_sites_2_neg <- paste0(iso_IR_exon_region$seqnames,\"_\",as.character(as.integer(iso_IR_exon_region$end)-2))\n",
    "donor_sites_1_neg <- paste0(iso_IR_exon_region$seqnames,\"_\",as.character(as.integer(iso_IR_exon_region$end)-1))\n",
    "donor_sites_3_neg <- paste0(iso_IR_exon_region$seqnames,\"_\",as.character(as.integer(iso_IR_exon_region$end)-3))\n",
    "donor_sites_4_neg <- paste0(iso_IR_exon_region$seqnames,\"_\",as.character(as.integer(iso_IR_exon_region$end)-4))\n",
    "donor_sites_5_neg <- paste0(iso_IR_exon_region$seqnames,\"_\",as.character(as.integer(iso_IR_exon_region$end)-5))\n",
    "\n",
    "acceptor_sites_2 <- paste0(iso_IR_exon_region$seqnames,\"_\",as.character(as.integer(iso_IR_exon_region$start)-2))\n",
    "acceptor_sites_1 <- paste0(iso_IR_exon_region$seqnames,\"_\",as.character(as.integer(iso_IR_exon_region$start)-1))\n",
    "acceptor_sites_3 <- paste0(iso_IR_exon_region$seqnames,\"_\",as.character(as.integer(iso_IR_exon_region$start)-3))\n",
    "acceptor_sites_4 <- paste0(iso_IR_exon_region$seqnames,\"_\",as.character(as.integer(iso_IR_exon_region$start)-4))\n",
    "acceptor_sites_5 <- paste0(iso_IR_exon_region$seqnames,\"_\",as.character(as.integer(iso_IR_exon_region$start)-5))\n",
    "\n",
    "acceptor_sites_2_pos <- paste0(iso_IR_exon_region$seqnames,\"_\",as.character(as.integer(iso_IR_exon_region$start)+2))\n",
    "acceptor_sites_1_pos <- paste0(iso_IR_exon_region$seqnames,\"_\",as.character(as.integer(iso_IR_exon_region$start)+1))\n",
    "acceptor_sites_3_pos <- paste0(iso_IR_exon_region$seqnames,\"_\",as.character(as.integer(iso_IR_exon_region$start)+3))\n",
    "acceptor_sites_4_pos <- paste0(iso_IR_exon_region$seqnames,\"_\",as.character(as.integer(iso_IR_exon_region$start)+4))\n",
    "acceptor_sites_5_pos <- paste0(iso_IR_exon_region$seqnames,\"_\",as.character(as.integer(iso_IR_exon_region$start)+5))\n",
    "\n",
    "\n",
    "all_possible_sites <- c(donor_sites_1,donor_sites_2,donor_sites_3,donor_sites_4,donor_sites_5,acceptor_sites_1,acceptor_sites_2,acceptor_sites_3,acceptor_sites_4,acceptor_sites_5,\n",
    "                        donor_sites_1_neg,donor_sites_2_neg,donor_sites_3_neg,donor_sites_4_neg,donor_sites_5_neg,\n",
    "                        acceptor_sites_1_pos,acceptor_sites_2_pos,acceptor_sites_3_pos,acceptor_sites_4_pos,acceptor_sites_5_pos)\n",
    "\n",
    "donor_sites_info <- c(rep(\"donor_ds_1_G\",times=length(iso_IR_exon_region$seqnames)),rep(\"donor_ds_2_T\",times=length(iso_IR_exon_region$seqnames)),rep(\"donor_ds_3_A_G\",times=length(iso_IR_exon_region$seqnames)),rep(\"donor_ds_4_A\",times=length(iso_IR_exon_region$seqnames)),rep(\"donor_ds_5_G\",times=length(iso_IR_exon_region$seqnames)),\n",
    "                        rep(\"donor_us_1\",times=length(iso_IR_exon_region$seqnames)),rep(\"donor_us_2\",times=length(iso_IR_exon_region$seqnames)),rep(\"donor_us_3\",times=length(iso_IR_exon_region$seqnames)),rep(\"donor_us_4\",times=length(iso_IR_exon_region$seqnames)),rep(\"donor_us_5\",times=length(iso_IR_exon_region$seqnames)))\n",
    "acceptor_sites_info <- c(rep(\"acceptor_us_1_G\",times=length(iso_IR_exon_region$seqnames)),rep(\"acceptor_us_2_A\",times=length(iso_IR_exon_region$seqnames)),rep(\"acceptor_us_3_C_T\",times=length(iso_IR_exon_region$seqnames)),rep(\"acceptor_us_4_N\",times=length(iso_IR_exon_region$seqnames)),rep(\"acceptor_us_5_C_T\",times=length(iso_IR_exon_region$seqnames)),\n",
    "                        rep(\"acceptor_ds_1\",times=length(iso_IR_exon_region$seqnames)),rep(\"acceptor_ds_2\",times=length(iso_IR_exon_region$seqnames)),rep(\"acceptor_ds_3\",times=length(iso_IR_exon_region$seqnames)),rep(\"acceptor_ds_4\",times=length(iso_IR_exon_region$seqnames)),rep(\"acceptor_ds_5\",times=length(iso_IR_exon_region$seqnames)))\n",
    "\n",
    "all_sites_info <- c(donor_sites_info,acceptor_sites_info)\n",
    "\n",
    "isoform_id <- rep(iso_IR_exon_region$isoform_id,times=20)"
   ]
  },
  {
   "cell_type": "code",
   "execution_count": 107,
   "metadata": {
    "vscode": {
     "languageId": "r"
    }
   },
   "outputs": [],
   "source": [
    "all_sites <- as.data.frame(cbind(all_possible_sites,all_sites_info,isoform_id))"
   ]
  },
  {
   "cell_type": "code",
   "execution_count": 130,
   "metadata": {
    "vscode": {
     "languageId": "r"
    }
   },
   "outputs": [
    {
     "data": {
      "text/html": [
       "<table class=\"dataframe\">\n",
       "<caption>A data.frame: 6 × 3</caption>\n",
       "<thead>\n",
       "\t<tr><th></th><th scope=col>site</th><th scope=col>info</th><th scope=col>iso_id</th></tr>\n",
       "\t<tr><th></th><th scope=col>&lt;chr&gt;</th><th scope=col>&lt;chr&gt;</th><th scope=col>&lt;chr&gt;</th></tr>\n",
       "</thead>\n",
       "<tbody>\n",
       "\t<tr><th scope=row>1</th><td>chr1_12058</td><td>donor_ds_1_G</td><td>ENST00000450305.2_2</td></tr>\n",
       "\t<tr><th scope=row>2</th><td>chr1_12228</td><td>donor_ds_1_G</td><td>ENST00000450305.2_2</td></tr>\n",
       "\t<tr><th scope=row>3</th><td>chr1_12698</td><td>donor_ds_1_G</td><td>ENST00000450305.2_2</td></tr>\n",
       "\t<tr><th scope=row>4</th><td>chr1_13053</td><td>donor_ds_1_G</td><td>ENST00000450305.2_2</td></tr>\n",
       "\t<tr><th scope=row>5</th><td>chr1_13375</td><td>donor_ds_1_G</td><td>ENST00000450305.2_2</td></tr>\n",
       "\t<tr><th scope=row>6</th><td>chr1_13671</td><td>donor_ds_1_G</td><td>ENST00000450305.2_2</td></tr>\n",
       "</tbody>\n",
       "</table>\n"
      ],
      "text/latex": [
       "A data.frame: 6 × 3\n",
       "\\begin{tabular}{r|lll}\n",
       "  & site & info & iso\\_id\\\\\n",
       "  & <chr> & <chr> & <chr>\\\\\n",
       "\\hline\n",
       "\t1 & chr1\\_12058 & donor\\_ds\\_1\\_G & ENST00000450305.2\\_2\\\\\n",
       "\t2 & chr1\\_12228 & donor\\_ds\\_1\\_G & ENST00000450305.2\\_2\\\\\n",
       "\t3 & chr1\\_12698 & donor\\_ds\\_1\\_G & ENST00000450305.2\\_2\\\\\n",
       "\t4 & chr1\\_13053 & donor\\_ds\\_1\\_G & ENST00000450305.2\\_2\\\\\n",
       "\t5 & chr1\\_13375 & donor\\_ds\\_1\\_G & ENST00000450305.2\\_2\\\\\n",
       "\t6 & chr1\\_13671 & donor\\_ds\\_1\\_G & ENST00000450305.2\\_2\\\\\n",
       "\\end{tabular}\n"
      ],
      "text/markdown": [
       "\n",
       "A data.frame: 6 × 3\n",
       "\n",
       "| <!--/--> | site &lt;chr&gt; | info &lt;chr&gt; | iso_id &lt;chr&gt; |\n",
       "|---|---|---|---|\n",
       "| 1 | chr1_12058 | donor_ds_1_G | ENST00000450305.2_2 |\n",
       "| 2 | chr1_12228 | donor_ds_1_G | ENST00000450305.2_2 |\n",
       "| 3 | chr1_12698 | donor_ds_1_G | ENST00000450305.2_2 |\n",
       "| 4 | chr1_13053 | donor_ds_1_G | ENST00000450305.2_2 |\n",
       "| 5 | chr1_13375 | donor_ds_1_G | ENST00000450305.2_2 |\n",
       "| 6 | chr1_13671 | donor_ds_1_G | ENST00000450305.2_2 |\n",
       "\n"
      ],
      "text/plain": [
       "  site       info         iso_id             \n",
       "1 chr1_12058 donor_ds_1_G ENST00000450305.2_2\n",
       "2 chr1_12228 donor_ds_1_G ENST00000450305.2_2\n",
       "3 chr1_12698 donor_ds_1_G ENST00000450305.2_2\n",
       "4 chr1_13053 donor_ds_1_G ENST00000450305.2_2\n",
       "5 chr1_13375 donor_ds_1_G ENST00000450305.2_2\n",
       "6 chr1_13671 donor_ds_1_G ENST00000450305.2_2"
      ]
     },
     "metadata": {},
     "output_type": "display_data"
    }
   ],
   "source": [
    "head(all_sites)"
   ]
  },
  {
   "cell_type": "code",
   "execution_count": 110,
   "metadata": {
    "vscode": {
     "languageId": "r"
    }
   },
   "outputs": [
    {
     "data": {
      "text/html": [
       "<style>\n",
       ".list-inline {list-style: none; margin:0; padding: 0}\n",
       ".list-inline>li {display: inline-block}\n",
       ".list-inline>li:not(:last-child)::after {content: \"\\00b7\"; padding: 0 .5ex}\n",
       "</style>\n",
       "<ol class=list-inline><li>2201380</li><li>3</li></ol>\n"
      ],
      "text/latex": [
       "\\begin{enumerate*}\n",
       "\\item 2201380\n",
       "\\item 3\n",
       "\\end{enumerate*}\n"
      ],
      "text/markdown": [
       "1. 2201380\n",
       "2. 3\n",
       "\n",
       "\n"
      ],
      "text/plain": [
       "[1] 2201380       3"
      ]
     },
     "metadata": {},
     "output_type": "display_data"
    },
    {
     "data": {
      "text/html": [
       "<table class=\"dataframe\">\n",
       "<caption>A data.frame: 6 × 3</caption>\n",
       "<thead>\n",
       "\t<tr><th></th><th scope=col>site</th><th scope=col>info</th><th scope=col>iso_id</th></tr>\n",
       "\t<tr><th></th><th scope=col>&lt;chr&gt;</th><th scope=col>&lt;chr&gt;</th><th scope=col>&lt;chr&gt;</th></tr>\n",
       "</thead>\n",
       "<tbody>\n",
       "\t<tr><th scope=row>1</th><td>chr1_787491</td><td>donor_ds_1_G</td><td>ENST00000425657.1_1</td></tr>\n",
       "\t<tr><th scope=row>2</th><td>chr1_788133</td><td>donor_ds_1_G</td><td>ENST00000425657.1_1</td></tr>\n",
       "\t<tr><th scope=row>3</th><td>chr1_970705</td><td>donor_ds_1_G</td><td>ENST00000469403.1_1</td></tr>\n",
       "\t<tr><th scope=row>4</th><td>chr1_976261</td><td>donor_ds_1_G</td><td>ENST00000469403.1_1</td></tr>\n",
       "\t<tr><th scope=row>5</th><td>chr1_976778</td><td>donor_ds_1_G</td><td>ENST00000469403.1_1</td></tr>\n",
       "\t<tr><th scope=row>6</th><td>chr1_982835</td><td>donor_ds_1_G</td><td>ENST00000466223.1_1</td></tr>\n",
       "</tbody>\n",
       "</table>\n"
      ],
      "text/latex": [
       "A data.frame: 6 × 3\n",
       "\\begin{tabular}{r|lll}\n",
       "  & site & info & iso\\_id\\\\\n",
       "  & <chr> & <chr> & <chr>\\\\\n",
       "\\hline\n",
       "\t1 & chr1\\_787491 & donor\\_ds\\_1\\_G & ENST00000425657.1\\_1\\\\\n",
       "\t2 & chr1\\_788133 & donor\\_ds\\_1\\_G & ENST00000425657.1\\_1\\\\\n",
       "\t3 & chr1\\_970705 & donor\\_ds\\_1\\_G & ENST00000469403.1\\_1\\\\\n",
       "\t4 & chr1\\_976261 & donor\\_ds\\_1\\_G & ENST00000469403.1\\_1\\\\\n",
       "\t5 & chr1\\_976778 & donor\\_ds\\_1\\_G & ENST00000469403.1\\_1\\\\\n",
       "\t6 & chr1\\_982835 & donor\\_ds\\_1\\_G & ENST00000466223.1\\_1\\\\\n",
       "\\end{tabular}\n"
      ],
      "text/markdown": [
       "\n",
       "A data.frame: 6 × 3\n",
       "\n",
       "| <!--/--> | site &lt;chr&gt; | info &lt;chr&gt; | iso_id &lt;chr&gt; |\n",
       "|---|---|---|---|\n",
       "| 1 | chr1_787491 | donor_ds_1_G | ENST00000425657.1_1 |\n",
       "| 2 | chr1_788133 | donor_ds_1_G | ENST00000425657.1_1 |\n",
       "| 3 | chr1_970705 | donor_ds_1_G | ENST00000469403.1_1 |\n",
       "| 4 | chr1_976261 | donor_ds_1_G | ENST00000469403.1_1 |\n",
       "| 5 | chr1_976778 | donor_ds_1_G | ENST00000469403.1_1 |\n",
       "| 6 | chr1_982835 | donor_ds_1_G | ENST00000466223.1_1 |\n",
       "\n"
      ],
      "text/plain": [
       "  site        info         iso_id             \n",
       "1 chr1_787491 donor_ds_1_G ENST00000425657.1_1\n",
       "2 chr1_788133 donor_ds_1_G ENST00000425657.1_1\n",
       "3 chr1_970705 donor_ds_1_G ENST00000469403.1_1\n",
       "4 chr1_976261 donor_ds_1_G ENST00000469403.1_1\n",
       "5 chr1_976778 donor_ds_1_G ENST00000469403.1_1\n",
       "6 chr1_982835 donor_ds_1_G ENST00000466223.1_1"
      ]
     },
     "metadata": {},
     "output_type": "display_data"
    }
   ],
   "source": [
    "dim(all_sites)\n",
    "colnames(all_sites) <- c(\"site\",\"info\",\"iso_id\")\n",
    "head(all_sites)\n"
   ]
  },
  {
   "cell_type": "code",
   "execution_count": 111,
   "metadata": {
    "vscode": {
     "languageId": "r"
    }
   },
   "outputs": [
    {
     "data": {
      "text/html": [
       "<style>\n",
       ".list-inline {list-style: none; margin:0; padding: 0}\n",
       ".list-inline>li {display: inline-block}\n",
       ".list-inline>li:not(:last-child)::after {content: \"\\00b7\"; padding: 0 .5ex}\n",
       "</style>\n",
       "<ol class=list-inline><li>1516131</li><li>3</li></ol>\n"
      ],
      "text/latex": [
       "\\begin{enumerate*}\n",
       "\\item 1516131\n",
       "\\item 3\n",
       "\\end{enumerate*}\n"
      ],
      "text/markdown": [
       "1. 1516131\n",
       "2. 3\n",
       "\n",
       "\n"
      ],
      "text/plain": [
       "[1] 1516131       3"
      ]
     },
     "metadata": {},
     "output_type": "display_data"
    }
   ],
   "source": [
    "uniq_all_sites <- all_sites[!duplicated(all_sites$site),]\n",
    "dim(uniq_all_sites)\n",
    "\n",
    "rownames(uniq_all_sites) <- uniq_all_sites$site"
   ]
  },
  {
   "cell_type": "code",
   "execution_count": 40,
   "metadata": {
    "vscode": {
     "languageId": "r"
    }
   },
   "outputs": [
    {
     "data": {
      "text/html": [
       "<table class=\"dataframe\">\n",
       "<caption>A data.frame: 6 × 9</caption>\n",
       "<thead>\n",
       "\t<tr><th></th><th scope=col>V1</th><th scope=col>V2</th><th scope=col>V3</th><th scope=col>V4</th><th scope=col>V5</th><th scope=col>V6</th><th scope=col>V7</th><th scope=col>V8</th><th scope=col>V9</th></tr>\n",
       "\t<tr><th></th><th scope=col>&lt;chr&gt;</th><th scope=col>&lt;int&gt;</th><th scope=col>&lt;int&gt;</th><th scope=col>&lt;chr&gt;</th><th scope=col>&lt;int&gt;</th><th scope=col>&lt;chr&gt;</th><th scope=col>&lt;chr&gt;</th><th scope=col>&lt;chr&gt;</th><th scope=col>&lt;int&gt;</th></tr>\n",
       "</thead>\n",
       "<tbody>\n",
       "\t<tr><th scope=row>1</th><td>chr1</td><td> 99234</td><td> 99235</td><td>TC</td><td>2</td><td>+</td><td>GTCTTCGTCATAACCG</td><td>3:3</td><td>17</td></tr>\n",
       "\t<tr><th scope=row>2</th><td>chr1</td><td> 99298</td><td> 99299</td><td>TC</td><td>2</td><td>+</td><td>CATATGGCACCAGGCT</td><td>2:2</td><td>17</td></tr>\n",
       "\t<tr><th scope=row>3</th><td>chr1</td><td> 99312</td><td> 99313</td><td>TC</td><td>4</td><td>+</td><td>GTCTTCGTCATAACCG</td><td>6:6</td><td>17</td></tr>\n",
       "\t<tr><th scope=row>4</th><td>chr1</td><td> 99326</td><td> 99327</td><td>TC</td><td>2</td><td>+</td><td>GTCTTCGTCATAACCG</td><td>7:7</td><td>17</td></tr>\n",
       "\t<tr><th scope=row>5</th><td>chr1</td><td>103105</td><td>103106</td><td>TC</td><td>1</td><td>+</td><td>AACTCCCGTAGTGAAT</td><td>1:1</td><td>17</td></tr>\n",
       "\t<tr><th scope=row>6</th><td>chr1</td><td>103106</td><td>103107</td><td>TC</td><td>1</td><td>+</td><td>AACTCCCGTAGTGAAT</td><td>1:1</td><td>17</td></tr>\n",
       "</tbody>\n",
       "</table>\n"
      ],
      "text/latex": [
       "A data.frame: 6 × 9\n",
       "\\begin{tabular}{r|lllllllll}\n",
       "  & V1 & V2 & V3 & V4 & V5 & V6 & V7 & V8 & V9\\\\\n",
       "  & <chr> & <int> & <int> & <chr> & <int> & <chr> & <chr> & <chr> & <int>\\\\\n",
       "\\hline\n",
       "\t1 & chr1 &  99234 &  99235 & TC & 2 & + & GTCTTCGTCATAACCG & 3:3 & 17\\\\\n",
       "\t2 & chr1 &  99298 &  99299 & TC & 2 & + & CATATGGCACCAGGCT & 2:2 & 17\\\\\n",
       "\t3 & chr1 &  99312 &  99313 & TC & 4 & + & GTCTTCGTCATAACCG & 6:6 & 17\\\\\n",
       "\t4 & chr1 &  99326 &  99327 & TC & 2 & + & GTCTTCGTCATAACCG & 7:7 & 17\\\\\n",
       "\t5 & chr1 & 103105 & 103106 & TC & 1 & + & AACTCCCGTAGTGAAT & 1:1 & 17\\\\\n",
       "\t6 & chr1 & 103106 & 103107 & TC & 1 & + & AACTCCCGTAGTGAAT & 1:1 & 17\\\\\n",
       "\\end{tabular}\n"
      ],
      "text/markdown": [
       "\n",
       "A data.frame: 6 × 9\n",
       "\n",
       "| <!--/--> | V1 &lt;chr&gt; | V2 &lt;int&gt; | V3 &lt;int&gt; | V4 &lt;chr&gt; | V5 &lt;int&gt; | V6 &lt;chr&gt; | V7 &lt;chr&gt; | V8 &lt;chr&gt; | V9 &lt;int&gt; |\n",
       "|---|---|---|---|---|---|---|---|---|---|\n",
       "| 1 | chr1 |  99234 |  99235 | TC | 2 | + | GTCTTCGTCATAACCG | 3:3 | 17 |\n",
       "| 2 | chr1 |  99298 |  99299 | TC | 2 | + | CATATGGCACCAGGCT | 2:2 | 17 |\n",
       "| 3 | chr1 |  99312 |  99313 | TC | 4 | + | GTCTTCGTCATAACCG | 6:6 | 17 |\n",
       "| 4 | chr1 |  99326 |  99327 | TC | 2 | + | GTCTTCGTCATAACCG | 7:7 | 17 |\n",
       "| 5 | chr1 | 103105 | 103106 | TC | 1 | + | AACTCCCGTAGTGAAT | 1:1 | 17 |\n",
       "| 6 | chr1 | 103106 | 103107 | TC | 1 | + | AACTCCCGTAGTGAAT | 1:1 | 17 |\n",
       "\n"
      ],
      "text/plain": [
       "  V1   V2     V3     V4 V5 V6 V7               V8  V9\n",
       "1 chr1  99234  99235 TC 2  +  GTCTTCGTCATAACCG 3:3 17\n",
       "2 chr1  99298  99299 TC 2  +  CATATGGCACCAGGCT 2:2 17\n",
       "3 chr1  99312  99313 TC 4  +  GTCTTCGTCATAACCG 6:6 17\n",
       "4 chr1  99326  99327 TC 2  +  GTCTTCGTCATAACCG 7:7 17\n",
       "5 chr1 103105 103106 TC 1  +  AACTCCCGTAGTGAAT 1:1 17\n",
       "6 chr1 103106 103107 TC 1  +  AACTCCCGTAGTGAAT 1:1 17"
      ]
     },
     "metadata": {},
     "output_type": "display_data"
    },
    {
     "data": {
      "text/html": [
       "<table class=\"dataframe\">\n",
       "<caption>A data.frame: 6 × 10</caption>\n",
       "<thead>\n",
       "\t<tr><th></th><th scope=col>V1</th><th scope=col>V2</th><th scope=col>V3</th><th scope=col>V4</th><th scope=col>V5</th><th scope=col>V6</th><th scope=col>V7</th><th scope=col>V8</th><th scope=col>V9</th><th scope=col>V10</th></tr>\n",
       "\t<tr><th></th><th scope=col>&lt;chr&gt;</th><th scope=col>&lt;int&gt;</th><th scope=col>&lt;int&gt;</th><th scope=col>&lt;chr&gt;</th><th scope=col>&lt;int&gt;</th><th scope=col>&lt;chr&gt;</th><th scope=col>&lt;chr&gt;</th><th scope=col>&lt;chr&gt;</th><th scope=col>&lt;int&gt;</th><th scope=col>&lt;chr&gt;</th></tr>\n",
       "</thead>\n",
       "<tbody>\n",
       "\t<tr><th scope=row>1</th><td>chr1</td><td> 99234</td><td> 99235</td><td>TC</td><td>2</td><td>+</td><td>GTCTTCGTCATAACCG</td><td>3:3</td><td>17</td><td>chr1_99235 </td></tr>\n",
       "\t<tr><th scope=row>2</th><td>chr1</td><td> 99298</td><td> 99299</td><td>TC</td><td>2</td><td>+</td><td>CATATGGCACCAGGCT</td><td>2:2</td><td>17</td><td>chr1_99299 </td></tr>\n",
       "\t<tr><th scope=row>3</th><td>chr1</td><td> 99312</td><td> 99313</td><td>TC</td><td>4</td><td>+</td><td>GTCTTCGTCATAACCG</td><td>6:6</td><td>17</td><td>chr1_99313 </td></tr>\n",
       "\t<tr><th scope=row>4</th><td>chr1</td><td> 99326</td><td> 99327</td><td>TC</td><td>2</td><td>+</td><td>GTCTTCGTCATAACCG</td><td>7:7</td><td>17</td><td>chr1_99327 </td></tr>\n",
       "\t<tr><th scope=row>5</th><td>chr1</td><td>103105</td><td>103106</td><td>TC</td><td>1</td><td>+</td><td>AACTCCCGTAGTGAAT</td><td>1:1</td><td>17</td><td>chr1_103106</td></tr>\n",
       "\t<tr><th scope=row>6</th><td>chr1</td><td>103106</td><td>103107</td><td>TC</td><td>1</td><td>+</td><td>AACTCCCGTAGTGAAT</td><td>1:1</td><td>17</td><td>chr1_103107</td></tr>\n",
       "</tbody>\n",
       "</table>\n"
      ],
      "text/latex": [
       "A data.frame: 6 × 10\n",
       "\\begin{tabular}{r|llllllllll}\n",
       "  & V1 & V2 & V3 & V4 & V5 & V6 & V7 & V8 & V9 & V10\\\\\n",
       "  & <chr> & <int> & <int> & <chr> & <int> & <chr> & <chr> & <chr> & <int> & <chr>\\\\\n",
       "\\hline\n",
       "\t1 & chr1 &  99234 &  99235 & TC & 2 & + & GTCTTCGTCATAACCG & 3:3 & 17 & chr1\\_99235 \\\\\n",
       "\t2 & chr1 &  99298 &  99299 & TC & 2 & + & CATATGGCACCAGGCT & 2:2 & 17 & chr1\\_99299 \\\\\n",
       "\t3 & chr1 &  99312 &  99313 & TC & 4 & + & GTCTTCGTCATAACCG & 6:6 & 17 & chr1\\_99313 \\\\\n",
       "\t4 & chr1 &  99326 &  99327 & TC & 2 & + & GTCTTCGTCATAACCG & 7:7 & 17 & chr1\\_99327 \\\\\n",
       "\t5 & chr1 & 103105 & 103106 & TC & 1 & + & AACTCCCGTAGTGAAT & 1:1 & 17 & chr1\\_103106\\\\\n",
       "\t6 & chr1 & 103106 & 103107 & TC & 1 & + & AACTCCCGTAGTGAAT & 1:1 & 17 & chr1\\_103107\\\\\n",
       "\\end{tabular}\n"
      ],
      "text/markdown": [
       "\n",
       "A data.frame: 6 × 10\n",
       "\n",
       "| <!--/--> | V1 &lt;chr&gt; | V2 &lt;int&gt; | V3 &lt;int&gt; | V4 &lt;chr&gt; | V5 &lt;int&gt; | V6 &lt;chr&gt; | V7 &lt;chr&gt; | V8 &lt;chr&gt; | V9 &lt;int&gt; | V10 &lt;chr&gt; |\n",
       "|---|---|---|---|---|---|---|---|---|---|---|\n",
       "| 1 | chr1 |  99234 |  99235 | TC | 2 | + | GTCTTCGTCATAACCG | 3:3 | 17 | chr1_99235  |\n",
       "| 2 | chr1 |  99298 |  99299 | TC | 2 | + | CATATGGCACCAGGCT | 2:2 | 17 | chr1_99299  |\n",
       "| 3 | chr1 |  99312 |  99313 | TC | 4 | + | GTCTTCGTCATAACCG | 6:6 | 17 | chr1_99313  |\n",
       "| 4 | chr1 |  99326 |  99327 | TC | 2 | + | GTCTTCGTCATAACCG | 7:7 | 17 | chr1_99327  |\n",
       "| 5 | chr1 | 103105 | 103106 | TC | 1 | + | AACTCCCGTAGTGAAT | 1:1 | 17 | chr1_103106 |\n",
       "| 6 | chr1 | 103106 | 103107 | TC | 1 | + | AACTCCCGTAGTGAAT | 1:1 | 17 | chr1_103107 |\n",
       "\n"
      ],
      "text/plain": [
       "  V1   V2     V3     V4 V5 V6 V7               V8  V9 V10        \n",
       "1 chr1  99234  99235 TC 2  +  GTCTTCGTCATAACCG 3:3 17 chr1_99235 \n",
       "2 chr1  99298  99299 TC 2  +  CATATGGCACCAGGCT 2:2 17 chr1_99299 \n",
       "3 chr1  99312  99313 TC 4  +  GTCTTCGTCATAACCG 6:6 17 chr1_99313 \n",
       "4 chr1  99326  99327 TC 2  +  GTCTTCGTCATAACCG 7:7 17 chr1_99327 \n",
       "5 chr1 103105 103106 TC 1  +  AACTCCCGTAGTGAAT 1:1 17 chr1_103106\n",
       "6 chr1 103106 103107 TC 1  +  AACTCCCGTAGTGAAT 1:1 17 chr1_103107"
      ]
     },
     "metadata": {},
     "output_type": "display_data"
    }
   ],
   "source": [
    "#head(all_possible_sites)\n",
    "#all.res.wizSampleInfo.new: 由ctr组中的23组成\n",
    "all_res <- read.table(\"/disk1/wenqing/tmp_data/ASD/all.res.wizSampleInfo.new\")\n",
    "\n",
    "#asd only\n",
    "all_res <- all_res[all_res$V9=='17'|all_res$V9=='18'|all_res$V9=='57',]\n",
    "head(all_res)\n",
    "\n",
    "all_res$V10 <- paste0(all_res$V1,\"_\",all_res$V3)\n",
    "head(all_res)"
   ]
  },
  {
   "cell_type": "code",
   "execution_count": 105,
   "metadata": {
    "vscode": {
     "languageId": "r"
    }
   },
   "outputs": [],
   "source": [
    "write.table(all_res,\"/disk1/wenqing/tmp_data/ASD/asd_male_pfc/asd_all.res\",quote=F,col.names=F,row.names=F)"
   ]
  },
  {
   "cell_type": "code",
   "execution_count": 112,
   "metadata": {
    "vscode": {
     "languageId": "r"
    }
   },
   "outputs": [],
   "source": [
    "resInSpliceSites <- all_res[all_res$V10 %in% all_sites$site,]\n"
   ]
  },
  {
   "cell_type": "code",
   "execution_count": 113,
   "metadata": {
    "vscode": {
     "languageId": "r"
    }
   },
   "outputs": [],
   "source": [
    "resInSpliceSites$V11 <- \"info\"\n",
    "resInSpliceSites$V11 <- uniq_all_sites[resInSpliceSites$V10,]$info\n",
    "resInSpliceSites$V12 <- \"iso_id\"\n",
    "resInSpliceSites$V12 <- uniq_all_sites[resInSpliceSites$V10,]$iso_id\n",
    "\n"
   ]
  },
  {
   "cell_type": "code",
   "execution_count": 114,
   "metadata": {
    "vscode": {
     "languageId": "r"
    }
   },
   "outputs": [
    {
     "data": {
      "text/html": [
       "<table class=\"dataframe\">\n",
       "<caption>A data.frame: 6 × 12</caption>\n",
       "<thead>\n",
       "\t<tr><th></th><th scope=col>V1</th><th scope=col>V2</th><th scope=col>V3</th><th scope=col>V4</th><th scope=col>V5</th><th scope=col>V6</th><th scope=col>V7</th><th scope=col>V8</th><th scope=col>V9</th><th scope=col>V10</th><th scope=col>V11</th><th scope=col>V12</th></tr>\n",
       "\t<tr><th></th><th scope=col>&lt;chr&gt;</th><th scope=col>&lt;int&gt;</th><th scope=col>&lt;int&gt;</th><th scope=col>&lt;chr&gt;</th><th scope=col>&lt;int&gt;</th><th scope=col>&lt;chr&gt;</th><th scope=col>&lt;chr&gt;</th><th scope=col>&lt;chr&gt;</th><th scope=col>&lt;int&gt;</th><th scope=col>&lt;chr&gt;</th><th scope=col>&lt;chr&gt;</th><th scope=col>&lt;chr&gt;</th></tr>\n",
       "</thead>\n",
       "<tbody>\n",
       "\t<tr><th scope=row>4491</th><td>chr1</td><td> 3762566</td><td> 3762567</td><td>TC</td><td>1</td><td>+</td><td>AGGGAGTAGTTAGCGG</td><td>1:1</td><td>17</td><td>chr1_3762567 </td><td>acceptor_us_2_A</td><td>ENST00000675966.1_1</td></tr>\n",
       "\t<tr><th scope=row>4492</th><td>chr1</td><td> 3762566</td><td> 3762567</td><td>TC</td><td>2</td><td>+</td><td>TACGGATAGCCTTGAT</td><td>2:2</td><td>17</td><td>chr1_3762567 </td><td>acceptor_us_2_A</td><td>ENST00000675966.1_1</td></tr>\n",
       "\t<tr><th scope=row>4493</th><td>chr1</td><td> 3762566</td><td> 3762567</td><td>TC</td><td>2</td><td>-</td><td>TACAGTGTCACAAACC</td><td>1:1</td><td>17</td><td>chr1_3762567 </td><td>acceptor_us_2_A</td><td>ENST00000675966.1_1</td></tr>\n",
       "\t<tr><th scope=row>5859</th><td>chr1</td><td> 6523677</td><td> 6523678</td><td>TC</td><td>2</td><td>-</td><td>ACATACGGTGTGAATA</td><td>2:2</td><td>17</td><td>chr1_6523678 </td><td>acceptor_us_4_N</td><td>ENST00000473343.5_3</td></tr>\n",
       "\t<tr><th scope=row>6303</th><td>chr1</td><td> 6726654</td><td> 6726655</td><td>TC</td><td>2</td><td>+</td><td>GGCCGATTCAATCTCT</td><td>9:9</td><td>17</td><td>chr1_6726655 </td><td>donor_us_2     </td><td>ENST00000693337.1_1</td></tr>\n",
       "\t<tr><th scope=row>28077</th><td>chr1</td><td>19543295</td><td>19543296</td><td>TC</td><td>1</td><td>+</td><td>TGGCCAGGTATCAGTC</td><td>2:2</td><td>17</td><td>chr1_19543296</td><td>donor_us_3     </td><td>ENST00000690451.1_1</td></tr>\n",
       "</tbody>\n",
       "</table>\n"
      ],
      "text/latex": [
       "A data.frame: 6 × 12\n",
       "\\begin{tabular}{r|llllllllllll}\n",
       "  & V1 & V2 & V3 & V4 & V5 & V6 & V7 & V8 & V9 & V10 & V11 & V12\\\\\n",
       "  & <chr> & <int> & <int> & <chr> & <int> & <chr> & <chr> & <chr> & <int> & <chr> & <chr> & <chr>\\\\\n",
       "\\hline\n",
       "\t4491 & chr1 &  3762566 &  3762567 & TC & 1 & + & AGGGAGTAGTTAGCGG & 1:1 & 17 & chr1\\_3762567  & acceptor\\_us\\_2\\_A & ENST00000675966.1\\_1\\\\\n",
       "\t4492 & chr1 &  3762566 &  3762567 & TC & 2 & + & TACGGATAGCCTTGAT & 2:2 & 17 & chr1\\_3762567  & acceptor\\_us\\_2\\_A & ENST00000675966.1\\_1\\\\\n",
       "\t4493 & chr1 &  3762566 &  3762567 & TC & 2 & - & TACAGTGTCACAAACC & 1:1 & 17 & chr1\\_3762567  & acceptor\\_us\\_2\\_A & ENST00000675966.1\\_1\\\\\n",
       "\t5859 & chr1 &  6523677 &  6523678 & TC & 2 & - & ACATACGGTGTGAATA & 2:2 & 17 & chr1\\_6523678  & acceptor\\_us\\_4\\_N & ENST00000473343.5\\_3\\\\\n",
       "\t6303 & chr1 &  6726654 &  6726655 & TC & 2 & + & GGCCGATTCAATCTCT & 9:9 & 17 & chr1\\_6726655  & donor\\_us\\_2      & ENST00000693337.1\\_1\\\\\n",
       "\t28077 & chr1 & 19543295 & 19543296 & TC & 1 & + & TGGCCAGGTATCAGTC & 2:2 & 17 & chr1\\_19543296 & donor\\_us\\_3      & ENST00000690451.1\\_1\\\\\n",
       "\\end{tabular}\n"
      ],
      "text/markdown": [
       "\n",
       "A data.frame: 6 × 12\n",
       "\n",
       "| <!--/--> | V1 &lt;chr&gt; | V2 &lt;int&gt; | V3 &lt;int&gt; | V4 &lt;chr&gt; | V5 &lt;int&gt; | V6 &lt;chr&gt; | V7 &lt;chr&gt; | V8 &lt;chr&gt; | V9 &lt;int&gt; | V10 &lt;chr&gt; | V11 &lt;chr&gt; | V12 &lt;chr&gt; |\n",
       "|---|---|---|---|---|---|---|---|---|---|---|---|---|\n",
       "| 4491 | chr1 |  3762566 |  3762567 | TC | 1 | + | AGGGAGTAGTTAGCGG | 1:1 | 17 | chr1_3762567  | acceptor_us_2_A | ENST00000675966.1_1 |\n",
       "| 4492 | chr1 |  3762566 |  3762567 | TC | 2 | + | TACGGATAGCCTTGAT | 2:2 | 17 | chr1_3762567  | acceptor_us_2_A | ENST00000675966.1_1 |\n",
       "| 4493 | chr1 |  3762566 |  3762567 | TC | 2 | - | TACAGTGTCACAAACC | 1:1 | 17 | chr1_3762567  | acceptor_us_2_A | ENST00000675966.1_1 |\n",
       "| 5859 | chr1 |  6523677 |  6523678 | TC | 2 | - | ACATACGGTGTGAATA | 2:2 | 17 | chr1_6523678  | acceptor_us_4_N | ENST00000473343.5_3 |\n",
       "| 6303 | chr1 |  6726654 |  6726655 | TC | 2 | + | GGCCGATTCAATCTCT | 9:9 | 17 | chr1_6726655  | donor_us_2      | ENST00000693337.1_1 |\n",
       "| 28077 | chr1 | 19543295 | 19543296 | TC | 1 | + | TGGCCAGGTATCAGTC | 2:2 | 17 | chr1_19543296 | donor_us_3      | ENST00000690451.1_1 |\n",
       "\n"
      ],
      "text/plain": [
       "      V1   V2       V3       V4 V5 V6 V7               V8  V9 V10          \n",
       "4491  chr1  3762566  3762567 TC 1  +  AGGGAGTAGTTAGCGG 1:1 17 chr1_3762567 \n",
       "4492  chr1  3762566  3762567 TC 2  +  TACGGATAGCCTTGAT 2:2 17 chr1_3762567 \n",
       "4493  chr1  3762566  3762567 TC 2  -  TACAGTGTCACAAACC 1:1 17 chr1_3762567 \n",
       "5859  chr1  6523677  6523678 TC 2  -  ACATACGGTGTGAATA 2:2 17 chr1_6523678 \n",
       "6303  chr1  6726654  6726655 TC 2  +  GGCCGATTCAATCTCT 9:9 17 chr1_6726655 \n",
       "28077 chr1 19543295 19543296 TC 1  +  TGGCCAGGTATCAGTC 2:2 17 chr1_19543296\n",
       "      V11             V12                \n",
       "4491  acceptor_us_2_A ENST00000675966.1_1\n",
       "4492  acceptor_us_2_A ENST00000675966.1_1\n",
       "4493  acceptor_us_2_A ENST00000675966.1_1\n",
       "5859  acceptor_us_4_N ENST00000473343.5_3\n",
       "6303  donor_us_2      ENST00000693337.1_1\n",
       "28077 donor_us_3      ENST00000690451.1_1"
      ]
     },
     "metadata": {},
     "output_type": "display_data"
    }
   ],
   "source": [
    "head(resInSpliceSites)"
   ]
  },
  {
   "cell_type": "code",
   "execution_count": 115,
   "metadata": {
    "vscode": {
     "languageId": "r"
    }
   },
   "outputs": [
    {
     "data": {
      "text/html": [
       "882"
      ],
      "text/latex": [
       "882"
      ],
      "text/markdown": [
       "882"
      ],
      "text/plain": [
       "[1] 882"
      ]
     },
     "metadata": {},
     "output_type": "display_data"
    }
   ],
   "source": [
    "#计算as site有RES的iso数量，不去重\n",
    "length(unique(resInSpliceSites$V10))"
   ]
  },
  {
   "cell_type": "code",
   "execution_count": 117,
   "metadata": {
    "vscode": {
     "languageId": "r"
    }
   },
   "outputs": [
    {
     "data": {
      "text/html": [
       "<style>\n",
       ".list-inline {list-style: none; margin:0; padding: 0}\n",
       ".list-inline>li {display: inline-block}\n",
       ".list-inline>li:not(:last-child)::after {content: \"\\00b7\"; padding: 0 .5ex}\n",
       "</style>\n",
       "<ol class=list-inline><li>'chr1_983918'</li><li>'chr1_983922'</li><li>'chr1_1419591'</li><li>'chr1_1419616'</li><li>'chr1_1419625'</li><li>'chr1_1419631'</li></ol>\n"
      ],
      "text/latex": [
       "\\begin{enumerate*}\n",
       "\\item 'chr1\\_983918'\n",
       "\\item 'chr1\\_983922'\n",
       "\\item 'chr1\\_1419591'\n",
       "\\item 'chr1\\_1419616'\n",
       "\\item 'chr1\\_1419625'\n",
       "\\item 'chr1\\_1419631'\n",
       "\\end{enumerate*}\n"
      ],
      "text/markdown": [
       "1. 'chr1_983918'\n",
       "2. 'chr1_983922'\n",
       "3. 'chr1_1419591'\n",
       "4. 'chr1_1419616'\n",
       "5. 'chr1_1419625'\n",
       "6. 'chr1_1419631'\n",
       "\n",
       "\n"
      ],
      "text/plain": [
       "[1] \"chr1_983918\"  \"chr1_983922\"  \"chr1_1419591\" \"chr1_1419616\" \"chr1_1419625\"\n",
       "[6] \"chr1_1419631\""
      ]
     },
     "metadata": {},
     "output_type": "display_data"
    }
   ],
   "source": [
    "#发生在retained itron上的所有编辑位点\n",
    "asd_res_in_iso_IR_region <- read.table(\"/disk1/wenqing/tmp_data/ASD/asd_male_pfc/iso_retained_intron/asd_res_in_iso_IR_region_exd.txt\")$V1\n",
    "head(asd_res_in_iso_IR_region)\n",
    "length(setdiff(unique(asd_res_in_iso_IR_region),unique(resInSpliceSites$V10)))"
   ]
  },
  {
   "cell_type": "code",
   "execution_count": 84,
   "metadata": {
    "vscode": {
     "languageId": "r"
    }
   },
   "outputs": [
    {
     "data": {
      "text/html": [
       "21416"
      ],
      "text/latex": [
       "21416"
      ],
      "text/markdown": [
       "21416"
      ],
      "text/plain": [
       "[1] 21416"
      ]
     },
     "metadata": {},
     "output_type": "display_data"
    }
   ],
   "source": [
    "length(unique(iso_IR_exon_region$isoform_id))"
   ]
  },
  {
   "cell_type": "code",
   "execution_count": 85,
   "metadata": {
    "vscode": {
     "languageId": "r"
    }
   },
   "outputs": [
    {
     "data": {
      "text/html": [
       "20872"
      ],
      "text/latex": [
       "20872"
      ],
      "text/markdown": [
       "20872"
      ],
      "text/plain": [
       "[1] 20872"
      ]
     },
     "metadata": {},
     "output_type": "display_data"
    }
   ],
   "source": [
    "length(unique(setdiff(iso_IR_exon_region$isoform_id,unique(resInSpliceSites$V12))))"
   ]
  },
  {
   "cell_type": "code",
   "execution_count": 25,
   "metadata": {
    "vscode": {
     "languageId": "r"
    }
   },
   "outputs": [
    {
     "data": {
      "text/html": [
       "<style>\n",
       ".list-inline {list-style: none; margin:0; padding: 0}\n",
       ".list-inline>li {display: inline-block}\n",
       ".list-inline>li:not(:last-child)::after {content: \"\\00b7\"; padding: 0 .5ex}\n",
       "</style>\n",
       "<ol class=list-inline><li>192849</li><li>2</li></ol>\n"
      ],
      "text/latex": [
       "\\begin{enumerate*}\n",
       "\\item 192849\n",
       "\\item 2\n",
       "\\end{enumerate*}\n"
      ],
      "text/markdown": [
       "1. 192849\n",
       "2. 2\n",
       "\n",
       "\n"
      ],
      "text/plain": [
       "[1] 192849      2"
      ]
     },
     "metadata": {},
     "output_type": "display_data"
    }
   ],
   "source": [
    "resInInIsoIR_region <- read.table(\"/disk1/wenqing/tmp_data/ASD/iso_IR_RES.txt\")\n"
   ]
  },
  {
   "cell_type": "code",
   "execution_count": 27,
   "metadata": {
    "vscode": {
     "languageId": "r"
    }
   },
   "outputs": [
    {
     "data": {
      "text/html": [
       "<table class=\"dataframe\">\n",
       "<caption>A data.frame: 6 × 2</caption>\n",
       "<thead>\n",
       "\t<tr><th></th><th scope=col>V1</th><th scope=col>V2</th></tr>\n",
       "\t<tr><th></th><th scope=col>&lt;chr&gt;</th><th scope=col>&lt;chr&gt;</th></tr>\n",
       "</thead>\n",
       "<tbody>\n",
       "\t<tr><th scope=row>1</th><td>chr1_1554509</td><td>ENST00000477990.1_1</td></tr>\n",
       "\t<tr><th scope=row>2</th><td>chr1_1554510</td><td>ENST00000477990.1_1</td></tr>\n",
       "\t<tr><th scope=row>3</th><td>chr1_1554511</td><td>ENST00000477990.1_1</td></tr>\n",
       "\t<tr><th scope=row>4</th><td>chr1_1554560</td><td>ENST00000477990.1_1</td></tr>\n",
       "\t<tr><th scope=row>5</th><td>chr1_1554564</td><td>ENST00000477990.1_1</td></tr>\n",
       "\t<tr><th scope=row>6</th><td>chr1_1554583</td><td>ENST00000477990.1_1</td></tr>\n",
       "</tbody>\n",
       "</table>\n"
      ],
      "text/latex": [
       "A data.frame: 6 × 2\n",
       "\\begin{tabular}{r|ll}\n",
       "  & V1 & V2\\\\\n",
       "  & <chr> & <chr>\\\\\n",
       "\\hline\n",
       "\t1 & chr1\\_1554509 & ENST00000477990.1\\_1\\\\\n",
       "\t2 & chr1\\_1554510 & ENST00000477990.1\\_1\\\\\n",
       "\t3 & chr1\\_1554511 & ENST00000477990.1\\_1\\\\\n",
       "\t4 & chr1\\_1554560 & ENST00000477990.1\\_1\\\\\n",
       "\t5 & chr1\\_1554564 & ENST00000477990.1\\_1\\\\\n",
       "\t6 & chr1\\_1554583 & ENST00000477990.1\\_1\\\\\n",
       "\\end{tabular}\n"
      ],
      "text/markdown": [
       "\n",
       "A data.frame: 6 × 2\n",
       "\n",
       "| <!--/--> | V1 &lt;chr&gt; | V2 &lt;chr&gt; |\n",
       "|---|---|---|\n",
       "| 1 | chr1_1554509 | ENST00000477990.1_1 |\n",
       "| 2 | chr1_1554510 | ENST00000477990.1_1 |\n",
       "| 3 | chr1_1554511 | ENST00000477990.1_1 |\n",
       "| 4 | chr1_1554560 | ENST00000477990.1_1 |\n",
       "| 5 | chr1_1554564 | ENST00000477990.1_1 |\n",
       "| 6 | chr1_1554583 | ENST00000477990.1_1 |\n",
       "\n"
      ],
      "text/plain": [
       "  V1           V2                 \n",
       "1 chr1_1554509 ENST00000477990.1_1\n",
       "2 chr1_1554510 ENST00000477990.1_1\n",
       "3 chr1_1554511 ENST00000477990.1_1\n",
       "4 chr1_1554560 ENST00000477990.1_1\n",
       "5 chr1_1554564 ENST00000477990.1_1\n",
       "6 chr1_1554583 ENST00000477990.1_1"
      ]
     },
     "metadata": {},
     "output_type": "display_data"
    }
   ],
   "source": [
    "head(resInInIsoIR_region)\n"
   ]
  },
  {
   "cell_type": "code",
   "execution_count": 26,
   "metadata": {
    "vscode": {
     "languageId": "r"
    }
   },
   "outputs": [
    {
     "data": {
      "text/html": [
       "<style>\n",
       ".list-inline {list-style: none; margin:0; padding: 0}\n",
       ".list-inline>li {display: inline-block}\n",
       ".list-inline>li:not(:last-child)::after {content: \"\\00b7\"; padding: 0 .5ex}\n",
       "</style>\n",
       "<ol class=list-inline><li>192634</li><li>2</li></ol>\n"
      ],
      "text/latex": [
       "\\begin{enumerate*}\n",
       "\\item 192634\n",
       "\\item 2\n",
       "\\end{enumerate*}\n"
      ],
      "text/markdown": [
       "1. 192634\n",
       "2. 2\n",
       "\n",
       "\n"
      ],
      "text/plain": [
       "[1] 192634      2"
      ]
     },
     "metadata": {},
     "output_type": "display_data"
    },
    {
     "data": {
      "text/html": [
       "2133"
      ],
      "text/latex": [
       "2133"
      ],
      "text/markdown": [
       "2133"
      ],
      "text/plain": [
       "[1] 2133"
      ]
     },
     "metadata": {},
     "output_type": "display_data"
    }
   ],
   "source": [
    "resNotInSpliceSites <- resInInIsoIR_region[!(resInInIsoIR_region$V1 %in% resInSpliceSites$V10),]\n",
    "dim(resNotInSpliceSites)\n",
    "length(unique(resNotInSpliceSites$V2))"
   ]
  },
  {
   "cell_type": "code",
   "execution_count": null,
   "metadata": {
    "vscode": {
     "languageId": "r"
    }
   },
   "outputs": [],
   "source": [
    "#下面为未发生IR的iso"
   ]
  },
  {
   "cell_type": "code",
   "execution_count": 119,
   "metadata": {
    "vscode": {
     "languageId": "r"
    }
   },
   "outputs": [],
   "source": [
    "#res是否落在可变剪接的供受体位点上\n",
    "#构建供受体位点上下游5bp的潜在res位点\n",
    "donor_sites_2 <- paste0(iso_no_IR_exon_region$seqnames,\"_\",as.character(as.integer(iso_no_IR_exon_region$end)+2))\n",
    "donor_sites_1 <- paste0(iso_no_IR_exon_region$seqnames,\"_\",as.character(as.integer(iso_no_IR_exon_region$end)+1))\n",
    "donor_sites_3 <- paste0(iso_no_IR_exon_region$seqnames,\"_\",as.character(as.integer(iso_no_IR_exon_region$end)+3))\n",
    "donor_sites_4 <- paste0(iso_no_IR_exon_region$seqnames,\"_\",as.character(as.integer(iso_no_IR_exon_region$end)+4))\n",
    "donor_sites_5 <- paste0(iso_no_IR_exon_region$seqnames,\"_\",as.character(as.integer(iso_no_IR_exon_region$end)+5))\n",
    "donor_sites_2_neg <- paste0(iso_no_IR_exon_region$seqnames,\"_\",as.character(as.integer(iso_no_IR_exon_region$end)-2))\n",
    "donor_sites_1_neg <- paste0(iso_no_IR_exon_region$seqnames,\"_\",as.character(as.integer(iso_no_IR_exon_region$end)-1))\n",
    "donor_sites_3_neg <- paste0(iso_no_IR_exon_region$seqnames,\"_\",as.character(as.integer(iso_no_IR_exon_region$end)-3))\n",
    "donor_sites_4_neg <- paste0(iso_no_IR_exon_region$seqnames,\"_\",as.character(as.integer(iso_no_IR_exon_region$end)-4))\n",
    "donor_sites_5_neg <- paste0(iso_no_IR_exon_region$seqnames,\"_\",as.character(as.integer(iso_no_IR_exon_region$end)-5))\n",
    "\n",
    "acceptor_sites_2 <- paste0(iso_no_IR_exon_region$seqnames,\"_\",as.character(as.integer(iso_no_IR_exon_region$start)-2))\n",
    "acceptor_sites_1 <- paste0(iso_no_IR_exon_region$seqnames,\"_\",as.character(as.integer(iso_no_IR_exon_region$start)-1))\n",
    "acceptor_sites_3 <- paste0(iso_no_IR_exon_region$seqnames,\"_\",as.character(as.integer(iso_no_IR_exon_region$start)-3))\n",
    "acceptor_sites_4 <- paste0(iso_no_IR_exon_region$seqnames,\"_\",as.character(as.integer(iso_no_IR_exon_region$start)-4))\n",
    "acceptor_sites_5 <- paste0(iso_no_IR_exon_region$seqnames,\"_\",as.character(as.integer(iso_no_IR_exon_region$start)-5))\n",
    "\n",
    "acceptor_sites_2_pos <- paste0(iso_no_IR_exon_region$seqnames,\"_\",as.character(as.integer(iso_no_IR_exon_region$start)+2))\n",
    "acceptor_sites_1_pos <- paste0(iso_no_IR_exon_region$seqnames,\"_\",as.character(as.integer(iso_no_IR_exon_region$start)+1))\n",
    "acceptor_sites_3_pos <- paste0(iso_no_IR_exon_region$seqnames,\"_\",as.character(as.integer(iso_no_IR_exon_region$start)+3))\n",
    "acceptor_sites_4_pos <- paste0(iso_no_IR_exon_region$seqnames,\"_\",as.character(as.integer(iso_no_IR_exon_region$start)+4))\n",
    "acceptor_sites_5_pos <- paste0(iso_no_IR_exon_region$seqnames,\"_\",as.character(as.integer(iso_no_IR_exon_region$start)+5))\n",
    "\n",
    "\n",
    "all_possible_sites <- c(donor_sites_1,donor_sites_2,donor_sites_3,donor_sites_4,donor_sites_5,acceptor_sites_1,acceptor_sites_2,acceptor_sites_3,acceptor_sites_4,acceptor_sites_5,\n",
    "                        donor_sites_1_neg,donor_sites_2_neg,donor_sites_3_neg,donor_sites_4_neg,donor_sites_5_neg,\n",
    "                        acceptor_sites_1_pos,acceptor_sites_2_pos,acceptor_sites_3_pos,acceptor_sites_4_pos,acceptor_sites_5_pos)\n",
    "\n",
    "donor_sites_info <- c(rep(\"donor_ds_1_G\",times=length(iso_no_IR_exon_region$seqnames)),rep(\"donor_ds_2_T\",times=length(iso_no_IR_exon_region$seqnames)),rep(\"donor_ds_3_A_G\",times=length(iso_no_IR_exon_region$seqnames)),rep(\"donor_ds_4_A\",times=length(iso_no_IR_exon_region$seqnames)),rep(\"donor_ds_5_G\",times=length(iso_no_IR_exon_region$seqnames)),\n",
    "                        rep(\"donor_us_1\",times=length(iso_no_IR_exon_region$seqnames)),rep(\"donor_us_2\",times=length(iso_no_IR_exon_region$seqnames)),rep(\"donor_us_3\",times=length(iso_no_IR_exon_region$seqnames)),rep(\"donor_us_4\",times=length(iso_no_IR_exon_region$seqnames)),rep(\"donor_us_5\",times=length(iso_no_IR_exon_region$seqnames)))\n",
    "acceptor_sites_info <- c(rep(\"acceptor_us_1_G\",times=length(iso_no_IR_exon_region$seqnames)),rep(\"acceptor_us_2_A\",times=length(iso_no_IR_exon_region$seqnames)),rep(\"acceptor_us_3_C_T\",times=length(iso_no_IR_exon_region$seqnames)),rep(\"acceptor_us_4_N\",times=length(iso_no_IR_exon_region$seqnames)),rep(\"acceptor_us_5_C_T\",times=length(iso_no_IR_exon_region$seqnames)),\n",
    "                        rep(\"acceptor_ds_1\",times=length(iso_no_IR_exon_region$seqnames)),rep(\"acceptor_ds_2\",times=length(iso_no_IR_exon_region$seqnames)),rep(\"acceptor_ds_3\",times=length(iso_no_IR_exon_region$seqnames)),rep(\"acceptor_ds_4\",times=length(iso_no_IR_exon_region$seqnames)),rep(\"acceptor_ds_5\",times=length(iso_no_IR_exon_region$seqnames)))\n",
    "\n",
    "all_sites_info <- c(donor_sites_info,acceptor_sites_info)\n",
    "\n",
    "isoform_id <- rep(iso_no_IR_exon_region$isoform_id,times=20)\n",
    "\n",
    "all_sites <- as.data.frame(cbind(all_possible_sites,all_sites_info,isoform_id))"
   ]
  },
  {
   "cell_type": "code",
   "execution_count": 120,
   "metadata": {
    "vscode": {
     "languageId": "r"
    }
   },
   "outputs": [],
   "source": [
    "all_sites <- as.data.frame(cbind(all_possible_sites,all_sites_info,isoform_id))"
   ]
  },
  {
   "cell_type": "code",
   "execution_count": 121,
   "metadata": {
    "vscode": {
     "languageId": "r"
    }
   },
   "outputs": [
    {
     "data": {
      "text/html": [
       "<style>\n",
       ".list-inline {list-style: none; margin:0; padding: 0}\n",
       ".list-inline>li {display: inline-block}\n",
       ".list-inline>li:not(:last-child)::after {content: \"\\00b7\"; padding: 0 .5ex}\n",
       "</style>\n",
       "<ol class=list-inline><li>14181580</li><li>3</li></ol>\n"
      ],
      "text/latex": [
       "\\begin{enumerate*}\n",
       "\\item 14181580\n",
       "\\item 3\n",
       "\\end{enumerate*}\n"
      ],
      "text/markdown": [
       "1. 14181580\n",
       "2. 3\n",
       "\n",
       "\n"
      ],
      "text/plain": [
       "[1] 14181580        3"
      ]
     },
     "metadata": {},
     "output_type": "display_data"
    },
    {
     "data": {
      "text/html": [
       "<table class=\"dataframe\">\n",
       "<caption>A data.frame: 6 × 3</caption>\n",
       "<thead>\n",
       "\t<tr><th></th><th scope=col>site</th><th scope=col>info</th><th scope=col>iso_id</th></tr>\n",
       "\t<tr><th></th><th scope=col>&lt;chr&gt;</th><th scope=col>&lt;chr&gt;</th><th scope=col>&lt;chr&gt;</th></tr>\n",
       "</thead>\n",
       "<tbody>\n",
       "\t<tr><th scope=row>1</th><td>chr1_12058</td><td>donor_ds_1_G</td><td>ENST00000450305.2_2</td></tr>\n",
       "\t<tr><th scope=row>2</th><td>chr1_12228</td><td>donor_ds_1_G</td><td>ENST00000450305.2_2</td></tr>\n",
       "\t<tr><th scope=row>3</th><td>chr1_12698</td><td>donor_ds_1_G</td><td>ENST00000450305.2_2</td></tr>\n",
       "\t<tr><th scope=row>4</th><td>chr1_13053</td><td>donor_ds_1_G</td><td>ENST00000450305.2_2</td></tr>\n",
       "\t<tr><th scope=row>5</th><td>chr1_13375</td><td>donor_ds_1_G</td><td>ENST00000450305.2_2</td></tr>\n",
       "\t<tr><th scope=row>6</th><td>chr1_13671</td><td>donor_ds_1_G</td><td>ENST00000450305.2_2</td></tr>\n",
       "</tbody>\n",
       "</table>\n"
      ],
      "text/latex": [
       "A data.frame: 6 × 3\n",
       "\\begin{tabular}{r|lll}\n",
       "  & site & info & iso\\_id\\\\\n",
       "  & <chr> & <chr> & <chr>\\\\\n",
       "\\hline\n",
       "\t1 & chr1\\_12058 & donor\\_ds\\_1\\_G & ENST00000450305.2\\_2\\\\\n",
       "\t2 & chr1\\_12228 & donor\\_ds\\_1\\_G & ENST00000450305.2\\_2\\\\\n",
       "\t3 & chr1\\_12698 & donor\\_ds\\_1\\_G & ENST00000450305.2\\_2\\\\\n",
       "\t4 & chr1\\_13053 & donor\\_ds\\_1\\_G & ENST00000450305.2\\_2\\\\\n",
       "\t5 & chr1\\_13375 & donor\\_ds\\_1\\_G & ENST00000450305.2\\_2\\\\\n",
       "\t6 & chr1\\_13671 & donor\\_ds\\_1\\_G & ENST00000450305.2\\_2\\\\\n",
       "\\end{tabular}\n"
      ],
      "text/markdown": [
       "\n",
       "A data.frame: 6 × 3\n",
       "\n",
       "| <!--/--> | site &lt;chr&gt; | info &lt;chr&gt; | iso_id &lt;chr&gt; |\n",
       "|---|---|---|---|\n",
       "| 1 | chr1_12058 | donor_ds_1_G | ENST00000450305.2_2 |\n",
       "| 2 | chr1_12228 | donor_ds_1_G | ENST00000450305.2_2 |\n",
       "| 3 | chr1_12698 | donor_ds_1_G | ENST00000450305.2_2 |\n",
       "| 4 | chr1_13053 | donor_ds_1_G | ENST00000450305.2_2 |\n",
       "| 5 | chr1_13375 | donor_ds_1_G | ENST00000450305.2_2 |\n",
       "| 6 | chr1_13671 | donor_ds_1_G | ENST00000450305.2_2 |\n",
       "\n"
      ],
      "text/plain": [
       "  site       info         iso_id             \n",
       "1 chr1_12058 donor_ds_1_G ENST00000450305.2_2\n",
       "2 chr1_12228 donor_ds_1_G ENST00000450305.2_2\n",
       "3 chr1_12698 donor_ds_1_G ENST00000450305.2_2\n",
       "4 chr1_13053 donor_ds_1_G ENST00000450305.2_2\n",
       "5 chr1_13375 donor_ds_1_G ENST00000450305.2_2\n",
       "6 chr1_13671 donor_ds_1_G ENST00000450305.2_2"
      ]
     },
     "metadata": {},
     "output_type": "display_data"
    },
    {
     "data": {
      "text/html": [
       "<style>\n",
       ".list-inline {list-style: none; margin:0; padding: 0}\n",
       ".list-inline>li {display: inline-block}\n",
       ".list-inline>li:not(:last-child)::after {content: \"\\00b7\"; padding: 0 .5ex}\n",
       "</style>\n",
       "<ol class=list-inline><li>6716037</li><li>3</li></ol>\n"
      ],
      "text/latex": [
       "\\begin{enumerate*}\n",
       "\\item 6716037\n",
       "\\item 3\n",
       "\\end{enumerate*}\n"
      ],
      "text/markdown": [
       "1. 6716037\n",
       "2. 3\n",
       "\n",
       "\n"
      ],
      "text/plain": [
       "[1] 6716037       3"
      ]
     },
     "metadata": {},
     "output_type": "display_data"
    },
    {
     "data": {
      "text/html": [
       "<style>\n",
       ".list-inline {list-style: none; margin:0; padding: 0}\n",
       ".list-inline>li {display: inline-block}\n",
       ".list-inline>li:not(:last-child)::after {content: \"\\00b7\"; padding: 0 .5ex}\n",
       "</style>\n",
       "<ol class=list-inline><li>13098</li><li>12</li></ol>\n"
      ],
      "text/latex": [
       "\\begin{enumerate*}\n",
       "\\item 13098\n",
       "\\item 12\n",
       "\\end{enumerate*}\n"
      ],
      "text/markdown": [
       "1. 13098\n",
       "2. 12\n",
       "\n",
       "\n"
      ],
      "text/plain": [
       "[1] 13098    12"
      ]
     },
     "metadata": {},
     "output_type": "display_data"
    },
    {
     "data": {
      "text/html": [
       "2685"
      ],
      "text/latex": [
       "2685"
      ],
      "text/markdown": [
       "2685"
      ],
      "text/plain": [
       "[1] 2685"
      ]
     },
     "metadata": {},
     "output_type": "display_data"
    }
   ],
   "source": [
    "\n",
    "dim(all_sites)\n",
    "colnames(all_sites) <- c(\"site\",\"info\",\"iso_id\")\n",
    "head(all_sites)\n",
    "\n",
    "uniq_all_sites <- all_sites[!duplicated(all_sites$site),]\n",
    "dim(uniq_all_sites)\n",
    "\n",
    "rownames(uniq_all_sites) <- uniq_all_sites$site\n",
    "\n",
    "resInSpliceSites <- all_res[all_res$V10 %in% all_sites$site,]\n",
    "\n",
    "resInSpliceSites$V11 <- \"info\"\n",
    "resInSpliceSites$V11 <- uniq_all_sites[resInSpliceSites$V10,]$info\n",
    "resInSpliceSites$V12 <- \"iso_id\"\n",
    "resInSpliceSites$V12 <- uniq_all_sites[resInSpliceSites$V10,]$iso_id\n",
    "\n",
    "dim(resInSpliceSites)\n"
   ]
  },
  {
   "cell_type": "code",
   "execution_count": 122,
   "metadata": {
    "vscode": {
     "languageId": "r"
    }
   },
   "outputs": [
    {
     "data": {
      "text/html": [
       "4796"
      ],
      "text/latex": [
       "4796"
      ],
      "text/markdown": [
       "4796"
      ],
      "text/plain": [
       "[1] 4796"
      ]
     },
     "metadata": {},
     "output_type": "display_data"
    }
   ],
   "source": [
    "length(unique(resInSpliceSites$V10))\n"
   ]
  },
  {
   "cell_type": "code",
   "execution_count": 123,
   "metadata": {
    "vscode": {
     "languageId": "r"
    }
   },
   "outputs": [
    {
     "data": {
      "text/html": [
       "<style>\n",
       ".list-inline {list-style: none; margin:0; padding: 0}\n",
       ".list-inline>li {display: inline-block}\n",
       ".list-inline>li:not(:last-child)::after {content: \"\\00b7\"; padding: 0 .5ex}\n",
       "</style>\n",
       "<ol class=list-inline><li>'chr1_134228'</li><li>'chr1_134241'</li><li>'chr1_134250'</li><li>'chr1_134253'</li><li>'chr1_134254'</li><li>'chr1_134259'</li></ol>\n"
      ],
      "text/latex": [
       "\\begin{enumerate*}\n",
       "\\item 'chr1\\_134228'\n",
       "\\item 'chr1\\_134241'\n",
       "\\item 'chr1\\_134250'\n",
       "\\item 'chr1\\_134253'\n",
       "\\item 'chr1\\_134254'\n",
       "\\item 'chr1\\_134259'\n",
       "\\end{enumerate*}\n"
      ],
      "text/markdown": [
       "1. 'chr1_134228'\n",
       "2. 'chr1_134241'\n",
       "3. 'chr1_134250'\n",
       "4. 'chr1_134253'\n",
       "5. 'chr1_134254'\n",
       "6. 'chr1_134259'\n",
       "\n",
       "\n"
      ],
      "text/plain": [
       "[1] \"chr1_134228\" \"chr1_134241\" \"chr1_134250\" \"chr1_134253\" \"chr1_134254\"\n",
       "[6] \"chr1_134259\""
      ]
     },
     "metadata": {},
     "output_type": "display_data"
    },
    {
     "data": {
      "text/html": [
       "144579"
      ],
      "text/latex": [
       "144579"
      ],
      "text/markdown": [
       "144579"
      ],
      "text/plain": [
       "[1] 144579"
      ]
     },
     "metadata": {},
     "output_type": "display_data"
    }
   ],
   "source": [
    "asd_res_in_iso_no_IR_region <- read.table(\"/disk1/wenqing/tmp_data/ASD/asd_male_pfc/iso_retained_intron/asd_res_in_iso_no_IR_region_exd.txt\")$V1\n",
    "head(asd_res_in_iso_no_IR_region)\n",
    "length(setdiff(unique(asd_res_in_iso_no_IR_region),unique(resInSpliceSites$V10)))"
   ]
  },
  {
   "cell_type": "code",
   "execution_count": 92,
   "metadata": {
    "vscode": {
     "languageId": "r"
    }
   },
   "outputs": [
    {
     "data": {
      "text/html": [
       "100265"
      ],
      "text/latex": [
       "100265"
      ],
      "text/markdown": [
       "100265"
      ],
      "text/plain": [
       "[1] 100265"
      ]
     },
     "metadata": {},
     "output_type": "display_data"
    }
   ],
   "source": [
    "length(unique(setdiff(iso_no_IR_exon_region$isoform_id,unique(resInSpliceSites$V12))))"
   ]
  },
  {
   "cell_type": "code",
   "execution_count": 93,
   "metadata": {
    "vscode": {
     "languageId": "r"
    }
   },
   "outputs": [
    {
     "data": {
      "text/html": [
       "102950"
      ],
      "text/latex": [
       "102950"
      ],
      "text/markdown": [
       "102950"
      ],
      "text/plain": [
       "[1] 102950"
      ]
     },
     "metadata": {},
     "output_type": "display_data"
    }
   ],
   "source": [
    "length(unique(iso_no_IR_exon_region$isoform_id))"
   ]
  },
  {
   "cell_type": "code",
   "execution_count": null,
   "metadata": {
    "vscode": {
     "languageId": "r"
    }
   },
   "outputs": [],
   "source": [
    "\n",
    "resInInIsoIR_region <- read.table(\"/disk1/wenqing/tmp_data/ASD/iso_no_IR_RES.txt\")\n",
    "dim(resInInIsoIR_region)\n",
    "\n",
    "resNotInSpliceSites <- resInInIsoIR_region[!(resInInIsoIR_region$V1 %in% resInSpliceSites$V10),]\n",
    "dim(resNotInSpliceSites)\n",
    "length(unique(resNotInSpliceSites$V2))"
   ]
  },
  {
   "cell_type": "code",
   "execution_count": 56,
   "metadata": {
    "vscode": {
     "languageId": "r"
    }
   },
   "outputs": [
    {
     "data": {
      "text/html": [
       "1410"
      ],
      "text/latex": [
       "1410"
      ],
      "text/markdown": [
       "1410"
      ],
      "text/plain": [
       "[1] 1410"
      ]
     },
     "metadata": {},
     "output_type": "display_data"
    }
   ],
   "source": [
    "length(unique(resInSpliceSites$V12))"
   ]
  },
  {
   "cell_type": "code",
   "execution_count": 124,
   "metadata": {
    "vscode": {
     "languageId": "r"
    }
   },
   "outputs": [
    {
     "data": {
      "text/html": [
       "<table class=\"dataframe\">\n",
       "<caption>A matrix: 2 × 2 of type dbl</caption>\n",
       "<thead>\n",
       "\t<tr><th></th><th scope=col>0</th><th scope=col>1</th></tr>\n",
       "</thead>\n",
       "<tbody>\n",
       "\t<tr><th scope=row>0</th><td> 882</td><td> 44004</td></tr>\n",
       "\t<tr><th scope=row>1</th><td>4796</td><td>144579</td></tr>\n",
       "</tbody>\n",
       "</table>\n"
      ],
      "text/latex": [
       "A matrix: 2 × 2 of type dbl\n",
       "\\begin{tabular}{r|ll}\n",
       "  & 0 & 1\\\\\n",
       "\\hline\n",
       "\t0 &  882 &  44004\\\\\n",
       "\t1 & 4796 & 144579\\\\\n",
       "\\end{tabular}\n"
      ],
      "text/markdown": [
       "\n",
       "A matrix: 2 × 2 of type dbl\n",
       "\n",
       "| <!--/--> | 0 | 1 |\n",
       "|---|---|---|\n",
       "| 0 |  882 |  44004 |\n",
       "| 1 | 4796 | 144579 |\n",
       "\n"
      ],
      "text/plain": [
       "  0    1     \n",
       "0  882  44004\n",
       "1 4796 144579"
      ]
     },
     "metadata": {},
     "output_type": "display_data"
    },
    {
     "data": {
      "text/plain": [
       "\n",
       "\tPearson's Chi-squared test with Yates' continuity correction\n",
       "\n",
       "data:  my_ka\n",
       "X-squared = 188.33, df = 1, p-value < 2.2e-16\n"
      ]
     },
     "metadata": {},
     "output_type": "display_data"
    }
   ],
   "source": [
    "my_ka <- matrix(c(882,44004,4796,144579),nrow=2,byrow=T)\n",
    "colnames(my_ka) <- c('0','1')\n",
    "\n",
    "rownames(my_ka) <- c('0','1')\n",
    "my_ka\n",
    "chisq.test(my_ka)"
   ]
  },
  {
   "cell_type": "code",
   "execution_count": 125,
   "metadata": {
    "vscode": {
     "languageId": "r"
    }
   },
   "outputs": [
    {
     "data": {
      "text/html": [
       "0.0200436323970548"
      ],
      "text/latex": [
       "0.0200436323970548"
      ],
      "text/markdown": [
       "0.0200436323970548"
      ],
      "text/plain": [
       "[1] 0.02004363"
      ]
     },
     "metadata": {},
     "output_type": "display_data"
    },
    {
     "data": {
      "text/html": [
       "0.0331721757654984"
      ],
      "text/latex": [
       "0.0331721757654984"
      ],
      "text/markdown": [
       "0.0331721757654984"
      ],
      "text/plain": [
       "[1] 0.03317218"
      ]
     },
     "metadata": {},
     "output_type": "display_data"
    }
   ],
   "source": [
    "882/44004\n",
    "4796/144579\n"
   ]
  },
  {
   "cell_type": "code",
   "execution_count": 78,
   "metadata": {
    "vscode": {
     "languageId": "r"
    }
   },
   "outputs": [
    {
     "data": {
      "text/html": [
       "TRUE"
      ],
      "text/latex": [
       "TRUE"
      ],
      "text/markdown": [
       "TRUE"
      ],
      "text/plain": [
       "[1] TRUE"
      ]
     },
     "metadata": {},
     "output_type": "display_data"
    }
   ],
   "source": [
    "2.993e-07 < 0.05"
   ]
  }
 ],
 "metadata": {
  "kernelspec": {
   "display_name": "R",
   "language": "R",
   "name": "ir"
  },
  "language_info": {
   "codemirror_mode": "r",
   "file_extension": ".r",
   "mimetype": "text/x-r-source",
   "name": "R",
   "pygments_lexer": "r",
   "version": "4.3.1"
  },
  "orig_nbformat": 4
 },
 "nbformat": 4,
 "nbformat_minor": 2
}
