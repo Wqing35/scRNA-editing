{
 "cells": [
  {
   "cell_type": "code",
   "execution_count": null,
   "metadata": {
    "vscode": {
     "languageId": "r"
    }
   },
   "outputs": [],
   "source": [
    "########9.29\n",
    "#后续：找落在71个有intron retained的isoform对应的基因区域的res——10.07之前的想法\n",
    "#10.07除去经选择性剪接分析得到的71个具有IR的iso外，对94个经历了选择性剪接且有明确后果的基因进行igv的详细可视化"
   ]
  },
  {
   "cell_type": "code",
   "execution_count": 1,
   "metadata": {
    "vscode": {
     "languageId": "r"
    }
   },
   "outputs": [
    {
     "data": {
      "text/html": [
       "<style>\n",
       ".list-inline {list-style: none; margin:0; padding: 0}\n",
       ".list-inline>li {display: inline-block}\n",
       ".list-inline>li:not(:last-child)::after {content: \"\\00b7\"; padding: 0 .5ex}\n",
       "</style>\n",
       "<ol class=list-inline><li>71</li><li>36</li></ol>\n"
      ],
      "text/latex": [
       "\\begin{enumerate*}\n",
       "\\item 71\n",
       "\\item 36\n",
       "\\end{enumerate*}\n"
      ],
      "text/markdown": [
       "1. 71\n",
       "2. 36\n",
       "\n",
       "\n"
      ],
      "text/plain": [
       "[1] 71 36"
      ]
     },
     "metadata": {},
     "output_type": "display_data"
    },
    {
     "data": {
      "text/html": [
       "<table class=\"dataframe\">\n",
       "<caption>A data.frame: 6 × 36</caption>\n",
       "<thead>\n",
       "\t<tr><th></th><th scope=col>X</th><th scope=col>iso_ref</th><th scope=col>gene_ref</th><th scope=col>isoform_id</th><th scope=col>gene_id</th><th scope=col>condition_1</th><th scope=col>condition_2</th><th scope=col>gene_name</th><th scope=col>gene_biotype</th><th scope=col>iso_biotype</th><th scope=col>⋯</th><th scope=col>IF2</th><th scope=col>dIF</th><th scope=col>isoform_switch_q_value</th><th scope=col>gene_switch_q_value</th><th scope=col>PTC</th><th scope=col>codingPotentialValue</th><th scope=col>codingPotential</th><th scope=col>domain_identified</th><th scope=col>IR</th><th scope=col>switchConsequencesGene</th></tr>\n",
       "\t<tr><th></th><th scope=col>&lt;int&gt;</th><th scope=col>&lt;chr&gt;</th><th scope=col>&lt;chr&gt;</th><th scope=col>&lt;chr&gt;</th><th scope=col>&lt;chr&gt;</th><th scope=col>&lt;chr&gt;</th><th scope=col>&lt;chr&gt;</th><th scope=col>&lt;chr&gt;</th><th scope=col>&lt;chr&gt;</th><th scope=col>&lt;chr&gt;</th><th scope=col>⋯</th><th scope=col>&lt;dbl&gt;</th><th scope=col>&lt;dbl&gt;</th><th scope=col>&lt;dbl&gt;</th><th scope=col>&lt;dbl&gt;</th><th scope=col>&lt;lgl&gt;</th><th scope=col>&lt;dbl&gt;</th><th scope=col>&lt;lgl&gt;</th><th scope=col>&lt;chr&gt;</th><th scope=col>&lt;int&gt;</th><th scope=col>&lt;lgl&gt;</th></tr>\n",
       "</thead>\n",
       "<tbody>\n",
       "\t<tr><th scope=row>1</th><td>117219</td><td>isoComp_00000024</td><td>geneComp_00000007</td><td>ENST00000667950.1_2</td><td>A2M-AS1 </td><td>ASD</td><td>Control</td><td>A2M-AS1 </td><td>lncRNA        </td><td>lncRNA         </td><td>⋯</td><td>0.06853333</td><td> 0.068533333</td><td>5.463666e-01</td><td>3.487953e-06</td><td>FALSE</td><td>0.004551983</td><td>FALSE</td><td>no </td><td>1</td><td> TRUE</td></tr>\n",
       "\t<tr><th scope=row>2</th><td>117220</td><td>isoComp_00000025</td><td>geneComp_00000007</td><td>ENST00000670582.1_1</td><td>A2M-AS1 </td><td>ASD</td><td>Control</td><td>A2M-AS1 </td><td>lncRNA        </td><td>lncRNA         </td><td>⋯</td><td>0.00000000</td><td>-0.184900000</td><td>3.487953e-06</td><td>3.487953e-06</td><td>FALSE</td><td>0.004547452</td><td>FALSE</td><td>no </td><td>1</td><td> TRUE</td></tr>\n",
       "\t<tr><th scope=row>3</th><td> 67064</td><td>isoComp_00005868</td><td>geneComp_00001500</td><td>ENST00000504484.5_3</td><td>APBB2   </td><td>ASD</td><td>Control</td><td>APBB2   </td><td>protein_coding</td><td>retained_intron</td><td>⋯</td><td>0.02260000</td><td> 0.001433333</td><td>9.063016e-01</td><td>3.177904e-02</td><td>FALSE</td><td>0.015046990</td><td>FALSE</td><td>no </td><td>1</td><td> TRUE</td></tr>\n",
       "\t<tr><th scope=row>4</th><td> 95259</td><td>isoComp_00007285</td><td>geneComp_00001787</td><td>ENST00000361910.9_6</td><td>ARMCX6  </td><td>ASD</td><td>Control</td><td>ARMCX6  </td><td>protein_coding</td><td>protein_coding </td><td>⋯</td><td>0.11586667</td><td> 0.033800000</td><td>9.853710e-01</td><td>3.302405e-02</td><td>FALSE</td><td>0.143687731</td><td>FALSE</td><td>yes</td><td>1</td><td> TRUE</td></tr>\n",
       "\t<tr><th scope=row>5</th><td> 50454</td><td>isoComp_00012061</td><td>geneComp_00002831</td><td>ENST00000333234.5_1</td><td>C18orf21</td><td>ASD</td><td>Control</td><td>C18orf21</td><td>protein_coding</td><td>protein_coding </td><td>⋯</td><td>0.07400000</td><td> 0.074000000</td><td>5.555719e-01</td><td>6.346829e-14</td><td>FALSE</td><td>0.006724984</td><td>FALSE</td><td>yes</td><td>1</td><td>FALSE</td></tr>\n",
       "\t<tr><th scope=row>6</th><td> 41918</td><td>isoComp_00020293</td><td>geneComp_00004590</td><td>ENST00000584581.5_1</td><td>CNDP2   </td><td>ASD</td><td>Control</td><td>CNDP2   </td><td>protein_coding</td><td>retained_intron</td><td>⋯</td><td>0.27540000</td><td> 0.087100000</td><td>8.303687e-01</td><td>9.580512e-19</td><td> TRUE</td><td>0.224747935</td><td>FALSE</td><td>yes</td><td>2</td><td> TRUE</td></tr>\n",
       "</tbody>\n",
       "</table>\n"
      ],
      "text/latex": [
       "A data.frame: 6 × 36\n",
       "\\begin{tabular}{r|lllllllllllllllllllll}\n",
       "  & X & iso\\_ref & gene\\_ref & isoform\\_id & gene\\_id & condition\\_1 & condition\\_2 & gene\\_name & gene\\_biotype & iso\\_biotype & ⋯ & IF2 & dIF & isoform\\_switch\\_q\\_value & gene\\_switch\\_q\\_value & PTC & codingPotentialValue & codingPotential & domain\\_identified & IR & switchConsequencesGene\\\\\n",
       "  & <int> & <chr> & <chr> & <chr> & <chr> & <chr> & <chr> & <chr> & <chr> & <chr> & ⋯ & <dbl> & <dbl> & <dbl> & <dbl> & <lgl> & <dbl> & <lgl> & <chr> & <int> & <lgl>\\\\\n",
       "\\hline\n",
       "\t1 & 117219 & isoComp\\_00000024 & geneComp\\_00000007 & ENST00000667950.1\\_2 & A2M-AS1  & ASD & Control & A2M-AS1  & lncRNA         & lncRNA          & ⋯ & 0.06853333 &  0.068533333 & 5.463666e-01 & 3.487953e-06 & FALSE & 0.004551983 & FALSE & no  & 1 &  TRUE\\\\\n",
       "\t2 & 117220 & isoComp\\_00000025 & geneComp\\_00000007 & ENST00000670582.1\\_1 & A2M-AS1  & ASD & Control & A2M-AS1  & lncRNA         & lncRNA          & ⋯ & 0.00000000 & -0.184900000 & 3.487953e-06 & 3.487953e-06 & FALSE & 0.004547452 & FALSE & no  & 1 &  TRUE\\\\\n",
       "\t3 &  67064 & isoComp\\_00005868 & geneComp\\_00001500 & ENST00000504484.5\\_3 & APBB2    & ASD & Control & APBB2    & protein\\_coding & retained\\_intron & ⋯ & 0.02260000 &  0.001433333 & 9.063016e-01 & 3.177904e-02 & FALSE & 0.015046990 & FALSE & no  & 1 &  TRUE\\\\\n",
       "\t4 &  95259 & isoComp\\_00007285 & geneComp\\_00001787 & ENST00000361910.9\\_6 & ARMCX6   & ASD & Control & ARMCX6   & protein\\_coding & protein\\_coding  & ⋯ & 0.11586667 &  0.033800000 & 9.853710e-01 & 3.302405e-02 & FALSE & 0.143687731 & FALSE & yes & 1 &  TRUE\\\\\n",
       "\t5 &  50454 & isoComp\\_00012061 & geneComp\\_00002831 & ENST00000333234.5\\_1 & C18orf21 & ASD & Control & C18orf21 & protein\\_coding & protein\\_coding  & ⋯ & 0.07400000 &  0.074000000 & 5.555719e-01 & 6.346829e-14 & FALSE & 0.006724984 & FALSE & yes & 1 & FALSE\\\\\n",
       "\t6 &  41918 & isoComp\\_00020293 & geneComp\\_00004590 & ENST00000584581.5\\_1 & CNDP2    & ASD & Control & CNDP2    & protein\\_coding & retained\\_intron & ⋯ & 0.27540000 &  0.087100000 & 8.303687e-01 & 9.580512e-19 &  TRUE & 0.224747935 & FALSE & yes & 2 &  TRUE\\\\\n",
       "\\end{tabular}\n"
      ],
      "text/markdown": [
       "\n",
       "A data.frame: 6 × 36\n",
       "\n",
       "| <!--/--> | X &lt;int&gt; | iso_ref &lt;chr&gt; | gene_ref &lt;chr&gt; | isoform_id &lt;chr&gt; | gene_id &lt;chr&gt; | condition_1 &lt;chr&gt; | condition_2 &lt;chr&gt; | gene_name &lt;chr&gt; | gene_biotype &lt;chr&gt; | iso_biotype &lt;chr&gt; | ⋯ ⋯ | IF2 &lt;dbl&gt; | dIF &lt;dbl&gt; | isoform_switch_q_value &lt;dbl&gt; | gene_switch_q_value &lt;dbl&gt; | PTC &lt;lgl&gt; | codingPotentialValue &lt;dbl&gt; | codingPotential &lt;lgl&gt; | domain_identified &lt;chr&gt; | IR &lt;int&gt; | switchConsequencesGene &lt;lgl&gt; |\n",
       "|---|---|---|---|---|---|---|---|---|---|---|---|---|---|---|---|---|---|---|---|---|---|\n",
       "| 1 | 117219 | isoComp_00000024 | geneComp_00000007 | ENST00000667950.1_2 | A2M-AS1  | ASD | Control | A2M-AS1  | lncRNA         | lncRNA          | ⋯ | 0.06853333 |  0.068533333 | 5.463666e-01 | 3.487953e-06 | FALSE | 0.004551983 | FALSE | no  | 1 |  TRUE |\n",
       "| 2 | 117220 | isoComp_00000025 | geneComp_00000007 | ENST00000670582.1_1 | A2M-AS1  | ASD | Control | A2M-AS1  | lncRNA         | lncRNA          | ⋯ | 0.00000000 | -0.184900000 | 3.487953e-06 | 3.487953e-06 | FALSE | 0.004547452 | FALSE | no  | 1 |  TRUE |\n",
       "| 3 |  67064 | isoComp_00005868 | geneComp_00001500 | ENST00000504484.5_3 | APBB2    | ASD | Control | APBB2    | protein_coding | retained_intron | ⋯ | 0.02260000 |  0.001433333 | 9.063016e-01 | 3.177904e-02 | FALSE | 0.015046990 | FALSE | no  | 1 |  TRUE |\n",
       "| 4 |  95259 | isoComp_00007285 | geneComp_00001787 | ENST00000361910.9_6 | ARMCX6   | ASD | Control | ARMCX6   | protein_coding | protein_coding  | ⋯ | 0.11586667 |  0.033800000 | 9.853710e-01 | 3.302405e-02 | FALSE | 0.143687731 | FALSE | yes | 1 |  TRUE |\n",
       "| 5 |  50454 | isoComp_00012061 | geneComp_00002831 | ENST00000333234.5_1 | C18orf21 | ASD | Control | C18orf21 | protein_coding | protein_coding  | ⋯ | 0.07400000 |  0.074000000 | 5.555719e-01 | 6.346829e-14 | FALSE | 0.006724984 | FALSE | yes | 1 | FALSE |\n",
       "| 6 |  41918 | isoComp_00020293 | geneComp_00004590 | ENST00000584581.5_1 | CNDP2    | ASD | Control | CNDP2    | protein_coding | retained_intron | ⋯ | 0.27540000 |  0.087100000 | 8.303687e-01 | 9.580512e-19 |  TRUE | 0.224747935 | FALSE | yes | 2 |  TRUE |\n",
       "\n"
      ],
      "text/plain": [
       "  X      iso_ref          gene_ref          isoform_id          gene_id \n",
       "1 117219 isoComp_00000024 geneComp_00000007 ENST00000667950.1_2 A2M-AS1 \n",
       "2 117220 isoComp_00000025 geneComp_00000007 ENST00000670582.1_1 A2M-AS1 \n",
       "3  67064 isoComp_00005868 geneComp_00001500 ENST00000504484.5_3 APBB2   \n",
       "4  95259 isoComp_00007285 geneComp_00001787 ENST00000361910.9_6 ARMCX6  \n",
       "5  50454 isoComp_00012061 geneComp_00002831 ENST00000333234.5_1 C18orf21\n",
       "6  41918 isoComp_00020293 geneComp_00004590 ENST00000584581.5_1 CNDP2   \n",
       "  condition_1 condition_2 gene_name gene_biotype   iso_biotype     ⋯ IF2       \n",
       "1 ASD         Control     A2M-AS1   lncRNA         lncRNA          ⋯ 0.06853333\n",
       "2 ASD         Control     A2M-AS1   lncRNA         lncRNA          ⋯ 0.00000000\n",
       "3 ASD         Control     APBB2     protein_coding retained_intron ⋯ 0.02260000\n",
       "4 ASD         Control     ARMCX6    protein_coding protein_coding  ⋯ 0.11586667\n",
       "5 ASD         Control     C18orf21  protein_coding protein_coding  ⋯ 0.07400000\n",
       "6 ASD         Control     CNDP2     protein_coding retained_intron ⋯ 0.27540000\n",
       "  dIF          isoform_switch_q_value gene_switch_q_value PTC  \n",
       "1  0.068533333 5.463666e-01           3.487953e-06        FALSE\n",
       "2 -0.184900000 3.487953e-06           3.487953e-06        FALSE\n",
       "3  0.001433333 9.063016e-01           3.177904e-02        FALSE\n",
       "4  0.033800000 9.853710e-01           3.302405e-02        FALSE\n",
       "5  0.074000000 5.555719e-01           6.346829e-14        FALSE\n",
       "6  0.087100000 8.303687e-01           9.580512e-19         TRUE\n",
       "  codingPotentialValue codingPotential domain_identified IR\n",
       "1 0.004551983          FALSE           no                1 \n",
       "2 0.004547452          FALSE           no                1 \n",
       "3 0.015046990          FALSE           no                1 \n",
       "4 0.143687731          FALSE           yes               1 \n",
       "5 0.006724984          FALSE           yes               1 \n",
       "6 0.224747935          FALSE           yes               2 \n",
       "  switchConsequencesGene\n",
       "1  TRUE                 \n",
       "2  TRUE                 \n",
       "3  TRUE                 \n",
       "4  TRUE                 \n",
       "5 FALSE                 \n",
       "6  TRUE                 "
      ]
     },
     "metadata": {},
     "output_type": "display_data"
    }
   ],
   "source": [
    "##########联动isoform信息与RES\n",
    "#deEx_iso:经过if usage差异表达得到的587个iso，进一步对dif+p值过滤，得到显著差异表达的125个iso\n",
    "#其中71个iso具有IR\n",
    "deEx_iso_IR <- read.csv(\"/disk1/wenqing/tmp_data/ASD/deEx_isoform_IR.csv\")\n",
    "dim(deEx_iso_IR)\n",
    "head(deEx_iso_IR)"
   ]
  },
  {
   "cell_type": "code",
   "execution_count": 2,
   "metadata": {
    "vscode": {
     "languageId": "r"
    }
   },
   "outputs": [
    {
     "data": {
      "text/html": [
       "39"
      ],
      "text/latex": [
       "39"
      ],
      "text/markdown": [
       "39"
      ],
      "text/plain": [
       "[1] 39"
      ]
     },
     "metadata": {},
     "output_type": "display_data"
    },
    {
     "data": {
      "text/plain": [
       "\n",
       "        A2M-AS1           APBB2          ARMCX6        C18orf21           CNDP2 \n",
       "              2               1               1               1               2 \n",
       "         COPS7B           CYREN          DCAF11          DCAF17         DNAJC10 \n",
       "              2               1               4               1               3 \n",
       "ENSG00000287625 ENSG00000291171         FAM193A         FAM200B          FIGNL1 \n",
       "              2               1               1               6               1 \n",
       "        GAS6-DT         GLUD1P3             HGF          HS1BP3           IFIT5 \n",
       "              2               1               1               1               1 \n",
       "        KRTCAP3           LERFS       LINC03015      LYPLAL1-DT          MAN2B1 \n",
       "              1               1               2               1               1 \n",
       "         MIATNB         OLFML2B           PALB2            PAX6            PCTP \n",
       "              1               1               1               4               1 \n",
       "           PEG3          PNPLA7         PPP1R42           SIRT7        TMEM198B \n",
       "              1               1               4               4               4 \n",
       "       USP34-DT           ZGPAT          ZNF250          ZNF774 \n",
       "              5               1               1               1 "
      ]
     },
     "metadata": {},
     "output_type": "display_data"
    }
   ],
   "source": [
    "length(unique(deEx_iso_IR$gene_id))\n",
    "table(deEx_iso_IR$gene_id)"
   ]
  },
  {
   "cell_type": "code",
   "execution_count": 3,
   "metadata": {
    "vscode": {
     "languageId": "r"
    }
   },
   "outputs": [],
   "source": [
    "#exon_region：组成isoform的exon的region\n",
    "exon_region <- read.csv(\"/disk1/wenqing/tmp_data/ASD/switchList_exon.csv\")\n"
   ]
  },
  {
   "cell_type": "code",
   "execution_count": 7,
   "metadata": {
    "vscode": {
     "languageId": "r"
    }
   },
   "outputs": [
    {
     "data": {
      "text/html": [
       "<table class=\"dataframe\">\n",
       "<caption>A data.frame: 6 × 9</caption>\n",
       "<thead>\n",
       "\t<tr><th></th><th scope=col>X</th><th scope=col>seqnames</th><th scope=col>start</th><th scope=col>end</th><th scope=col>width</th><th scope=col>strand</th><th scope=col>isoform_id</th><th scope=col>gene_id</th><th scope=col>gene_name</th></tr>\n",
       "\t<tr><th></th><th scope=col>&lt;int&gt;</th><th scope=col>&lt;chr&gt;</th><th scope=col>&lt;int&gt;</th><th scope=col>&lt;int&gt;</th><th scope=col>&lt;int&gt;</th><th scope=col>&lt;chr&gt;</th><th scope=col>&lt;chr&gt;</th><th scope=col>&lt;chr&gt;</th><th scope=col>&lt;chr&gt;</th></tr>\n",
       "</thead>\n",
       "<tbody>\n",
       "\t<tr><th scope=row>1</th><td>1</td><td>chr1</td><td>12010</td><td>12057</td><td> 48</td><td>+</td><td>ENST00000450305.2_2</td><td>DDX11L1</td><td>DDX11L1</td></tr>\n",
       "\t<tr><th scope=row>2</th><td>2</td><td>chr1</td><td>12179</td><td>12227</td><td> 49</td><td>+</td><td>ENST00000450305.2_2</td><td>DDX11L1</td><td>DDX11L1</td></tr>\n",
       "\t<tr><th scope=row>3</th><td>3</td><td>chr1</td><td>12613</td><td>12697</td><td> 85</td><td>+</td><td>ENST00000450305.2_2</td><td>DDX11L1</td><td>DDX11L1</td></tr>\n",
       "\t<tr><th scope=row>4</th><td>4</td><td>chr1</td><td>12975</td><td>13052</td><td> 78</td><td>+</td><td>ENST00000450305.2_2</td><td>DDX11L1</td><td>DDX11L1</td></tr>\n",
       "\t<tr><th scope=row>5</th><td>5</td><td>chr1</td><td>13221</td><td>13374</td><td>154</td><td>+</td><td>ENST00000450305.2_2</td><td>DDX11L1</td><td>DDX11L1</td></tr>\n",
       "\t<tr><th scope=row>6</th><td>6</td><td>chr1</td><td>13453</td><td>13670</td><td>218</td><td>+</td><td>ENST00000450305.2_2</td><td>DDX11L1</td><td>DDX11L1</td></tr>\n",
       "</tbody>\n",
       "</table>\n"
      ],
      "text/latex": [
       "A data.frame: 6 × 9\n",
       "\\begin{tabular}{r|lllllllll}\n",
       "  & X & seqnames & start & end & width & strand & isoform\\_id & gene\\_id & gene\\_name\\\\\n",
       "  & <int> & <chr> & <int> & <int> & <int> & <chr> & <chr> & <chr> & <chr>\\\\\n",
       "\\hline\n",
       "\t1 & 1 & chr1 & 12010 & 12057 &  48 & + & ENST00000450305.2\\_2 & DDX11L1 & DDX11L1\\\\\n",
       "\t2 & 2 & chr1 & 12179 & 12227 &  49 & + & ENST00000450305.2\\_2 & DDX11L1 & DDX11L1\\\\\n",
       "\t3 & 3 & chr1 & 12613 & 12697 &  85 & + & ENST00000450305.2\\_2 & DDX11L1 & DDX11L1\\\\\n",
       "\t4 & 4 & chr1 & 12975 & 13052 &  78 & + & ENST00000450305.2\\_2 & DDX11L1 & DDX11L1\\\\\n",
       "\t5 & 5 & chr1 & 13221 & 13374 & 154 & + & ENST00000450305.2\\_2 & DDX11L1 & DDX11L1\\\\\n",
       "\t6 & 6 & chr1 & 13453 & 13670 & 218 & + & ENST00000450305.2\\_2 & DDX11L1 & DDX11L1\\\\\n",
       "\\end{tabular}\n"
      ],
      "text/markdown": [
       "\n",
       "A data.frame: 6 × 9\n",
       "\n",
       "| <!--/--> | X &lt;int&gt; | seqnames &lt;chr&gt; | start &lt;int&gt; | end &lt;int&gt; | width &lt;int&gt; | strand &lt;chr&gt; | isoform_id &lt;chr&gt; | gene_id &lt;chr&gt; | gene_name &lt;chr&gt; |\n",
       "|---|---|---|---|---|---|---|---|---|---|\n",
       "| 1 | 1 | chr1 | 12010 | 12057 |  48 | + | ENST00000450305.2_2 | DDX11L1 | DDX11L1 |\n",
       "| 2 | 2 | chr1 | 12179 | 12227 |  49 | + | ENST00000450305.2_2 | DDX11L1 | DDX11L1 |\n",
       "| 3 | 3 | chr1 | 12613 | 12697 |  85 | + | ENST00000450305.2_2 | DDX11L1 | DDX11L1 |\n",
       "| 4 | 4 | chr1 | 12975 | 13052 |  78 | + | ENST00000450305.2_2 | DDX11L1 | DDX11L1 |\n",
       "| 5 | 5 | chr1 | 13221 | 13374 | 154 | + | ENST00000450305.2_2 | DDX11L1 | DDX11L1 |\n",
       "| 6 | 6 | chr1 | 13453 | 13670 | 218 | + | ENST00000450305.2_2 | DDX11L1 | DDX11L1 |\n",
       "\n"
      ],
      "text/plain": [
       "  X seqnames start end   width strand isoform_id          gene_id gene_name\n",
       "1 1 chr1     12010 12057  48   +      ENST00000450305.2_2 DDX11L1 DDX11L1  \n",
       "2 2 chr1     12179 12227  49   +      ENST00000450305.2_2 DDX11L1 DDX11L1  \n",
       "3 3 chr1     12613 12697  85   +      ENST00000450305.2_2 DDX11L1 DDX11L1  \n",
       "4 4 chr1     12975 13052  78   +      ENST00000450305.2_2 DDX11L1 DDX11L1  \n",
       "5 5 chr1     13221 13374 154   +      ENST00000450305.2_2 DDX11L1 DDX11L1  \n",
       "6 6 chr1     13453 13670 218   +      ENST00000450305.2_2 DDX11L1 DDX11L1  "
      ]
     },
     "metadata": {},
     "output_type": "display_data"
    }
   ],
   "source": [
    "head(exon_region)"
   ]
  },
  {
   "cell_type": "code",
   "execution_count": 4,
   "metadata": {
    "vscode": {
     "languageId": "r"
    }
   },
   "outputs": [],
   "source": [
    "#res是否落在可变剪接的供受体位点上\n",
    "#构建供受体位点上下游5bp的潜在res位点\n",
    "donor_sites_2 <- paste0(exon_region$seqnames,\"_\",as.character(as.integer(exon_region$end)+2))\n",
    "donor_sites_1 <- paste0(exon_region$seqnames,\"_\",as.character(as.integer(exon_region$end)+1))\n",
    "donor_sites_3 <- paste0(exon_region$seqnames,\"_\",as.character(as.integer(exon_region$end)+3))\n",
    "donor_sites_4 <- paste0(exon_region$seqnames,\"_\",as.character(as.integer(exon_region$end)+4))\n",
    "donor_sites_5 <- paste0(exon_region$seqnames,\"_\",as.character(as.integer(exon_region$end)+5))\n",
    "\n",
    "acceptor_sites_2 <- paste0(exon_region$seqnames,\"_\",as.character(as.integer(exon_region$start)-2))\n",
    "acceptor_sites_1 <- paste0(exon_region$seqnames,\"_\",as.character(as.integer(exon_region$start)-1))\n",
    "acceptor_sites_3 <- paste0(exon_region$seqnames,\"_\",as.character(as.integer(exon_region$start)-3))\n",
    "acceptor_sites_4 <- paste0(exon_region$seqnames,\"_\",as.character(as.integer(exon_region$start)-4))\n",
    "acceptor_sites_5 <- paste0(exon_region$seqnames,\"_\",as.character(as.integer(exon_region$start)-5))\n",
    "\n",
    "\n",
    "branch_sites <- paste0(exon_region$seqnames,\"_\",as.character(as.integer(exon_region$start)-20))\n",
    "\n",
    "all_possible_sites <- c(donor_sites_1,donor_sites_2,donor_sites_3,donor_sites_4,donor_sites_5,acceptor_sites_1,acceptor_sites_2,acceptor_sites_3,acceptor_sites_4,acceptor_sites_5,branch_sites)\n",
    "\n",
    "donor_sites_info <- c(rep(\"donor_ds_1_G\",times=length(exon_region$seqnames)),rep(\"donor_ds_2_T\",times=length(exon_region$seqnames)),rep(\"donor_ds_3_A_G\",times=length(exon_region$seqnames)),rep(\"donor_ds_4_A\",times=length(exon_region$seqnames)),rep(\"donor_ds_5_G\",times=length(exon_region$seqnames)))\n",
    "acceptor_sites_info <- c(rep(\"acceptor_us_1_G\",times=length(exon_region$seqnames)),rep(\"acceptor_us_2_A\",times=length(exon_region$seqnames)),rep(\"acceptor_us_3_C_T\",times=length(exon_region$seqnames)),rep(\"acceptor_us_4_N\",times=length(exon_region$seqnames)),rep(\"acceptor_us_5_C_T\",times=length(exon_region$seqnames)))\n",
    "branch_sites_info <- rep(\"branch_site_A\",times=length(exon_region$seqnames))\n",
    "\n",
    "all_sites_info <- c(donor_sites_info,acceptor_sites_info,branch_sites_info)\n",
    "all_sites <- as.data.frame(cbind(all_possible_sites,all_sites_info))\n"
   ]
  },
  {
   "cell_type": "code",
   "execution_count": 5,
   "metadata": {
    "vscode": {
     "languageId": "r"
    }
   },
   "outputs": [
    {
     "data": {
      "text/html": [
       "<table class=\"dataframe\">\n",
       "<caption>A data.frame: 6 × 2</caption>\n",
       "<thead>\n",
       "\t<tr><th></th><th scope=col>all_possible_sites</th><th scope=col>all_sites_info</th></tr>\n",
       "\t<tr><th></th><th scope=col>&lt;chr&gt;</th><th scope=col>&lt;chr&gt;</th></tr>\n",
       "</thead>\n",
       "<tbody>\n",
       "\t<tr><th scope=row>1</th><td>chr1_12058</td><td>donor_ds_1_G</td></tr>\n",
       "\t<tr><th scope=row>2</th><td>chr1_12228</td><td>donor_ds_1_G</td></tr>\n",
       "\t<tr><th scope=row>3</th><td>chr1_12698</td><td>donor_ds_1_G</td></tr>\n",
       "\t<tr><th scope=row>4</th><td>chr1_13053</td><td>donor_ds_1_G</td></tr>\n",
       "\t<tr><th scope=row>5</th><td>chr1_13375</td><td>donor_ds_1_G</td></tr>\n",
       "\t<tr><th scope=row>6</th><td>chr1_13671</td><td>donor_ds_1_G</td></tr>\n",
       "</tbody>\n",
       "</table>\n"
      ],
      "text/latex": [
       "A data.frame: 6 × 2\n",
       "\\begin{tabular}{r|ll}\n",
       "  & all\\_possible\\_sites & all\\_sites\\_info\\\\\n",
       "  & <chr> & <chr>\\\\\n",
       "\\hline\n",
       "\t1 & chr1\\_12058 & donor\\_ds\\_1\\_G\\\\\n",
       "\t2 & chr1\\_12228 & donor\\_ds\\_1\\_G\\\\\n",
       "\t3 & chr1\\_12698 & donor\\_ds\\_1\\_G\\\\\n",
       "\t4 & chr1\\_13053 & donor\\_ds\\_1\\_G\\\\\n",
       "\t5 & chr1\\_13375 & donor\\_ds\\_1\\_G\\\\\n",
       "\t6 & chr1\\_13671 & donor\\_ds\\_1\\_G\\\\\n",
       "\\end{tabular}\n"
      ],
      "text/markdown": [
       "\n",
       "A data.frame: 6 × 2\n",
       "\n",
       "| <!--/--> | all_possible_sites &lt;chr&gt; | all_sites_info &lt;chr&gt; |\n",
       "|---|---|---|\n",
       "| 1 | chr1_12058 | donor_ds_1_G |\n",
       "| 2 | chr1_12228 | donor_ds_1_G |\n",
       "| 3 | chr1_12698 | donor_ds_1_G |\n",
       "| 4 | chr1_13053 | donor_ds_1_G |\n",
       "| 5 | chr1_13375 | donor_ds_1_G |\n",
       "| 6 | chr1_13671 | donor_ds_1_G |\n",
       "\n"
      ],
      "text/plain": [
       "  all_possible_sites all_sites_info\n",
       "1 chr1_12058         donor_ds_1_G  \n",
       "2 chr1_12228         donor_ds_1_G  \n",
       "3 chr1_12698         donor_ds_1_G  \n",
       "4 chr1_13053         donor_ds_1_G  \n",
       "5 chr1_13375         donor_ds_1_G  \n",
       "6 chr1_13671         donor_ds_1_G  "
      ]
     },
     "metadata": {},
     "output_type": "display_data"
    },
    {
     "data": {
      "text/html": [
       "<style>\n",
       ".list-inline {list-style: none; margin:0; padding: 0}\n",
       ".list-inline>li {display: inline-block}\n",
       ".list-inline>li:not(:last-child)::after {content: \"\\00b7\"; padding: 0 .5ex}\n",
       "</style>\n",
       "<ol class=list-inline><li>10189652</li><li>2</li></ol>\n"
      ],
      "text/latex": [
       "\\begin{enumerate*}\n",
       "\\item 10189652\n",
       "\\item 2\n",
       "\\end{enumerate*}\n"
      ],
      "text/markdown": [
       "1. 10189652\n",
       "2. 2\n",
       "\n",
       "\n"
      ],
      "text/plain": [
       "[1] 10189652        2"
      ]
     },
     "metadata": {},
     "output_type": "display_data"
    },
    {
     "data": {
      "text/html": [
       "<table class=\"dataframe\">\n",
       "<caption>A data.frame: 6 × 2</caption>\n",
       "<thead>\n",
       "\t<tr><th></th><th scope=col>site</th><th scope=col>info</th></tr>\n",
       "\t<tr><th></th><th scope=col>&lt;chr&gt;</th><th scope=col>&lt;chr&gt;</th></tr>\n",
       "</thead>\n",
       "<tbody>\n",
       "\t<tr><th scope=row>1</th><td>chr1_12058</td><td>donor_ds_1_G</td></tr>\n",
       "\t<tr><th scope=row>2</th><td>chr1_12228</td><td>donor_ds_1_G</td></tr>\n",
       "\t<tr><th scope=row>3</th><td>chr1_12698</td><td>donor_ds_1_G</td></tr>\n",
       "\t<tr><th scope=row>4</th><td>chr1_13053</td><td>donor_ds_1_G</td></tr>\n",
       "\t<tr><th scope=row>5</th><td>chr1_13375</td><td>donor_ds_1_G</td></tr>\n",
       "\t<tr><th scope=row>6</th><td>chr1_13671</td><td>donor_ds_1_G</td></tr>\n",
       "</tbody>\n",
       "</table>\n"
      ],
      "text/latex": [
       "A data.frame: 6 × 2\n",
       "\\begin{tabular}{r|ll}\n",
       "  & site & info\\\\\n",
       "  & <chr> & <chr>\\\\\n",
       "\\hline\n",
       "\t1 & chr1\\_12058 & donor\\_ds\\_1\\_G\\\\\n",
       "\t2 & chr1\\_12228 & donor\\_ds\\_1\\_G\\\\\n",
       "\t3 & chr1\\_12698 & donor\\_ds\\_1\\_G\\\\\n",
       "\t4 & chr1\\_13053 & donor\\_ds\\_1\\_G\\\\\n",
       "\t5 & chr1\\_13375 & donor\\_ds\\_1\\_G\\\\\n",
       "\t6 & chr1\\_13671 & donor\\_ds\\_1\\_G\\\\\n",
       "\\end{tabular}\n"
      ],
      "text/markdown": [
       "\n",
       "A data.frame: 6 × 2\n",
       "\n",
       "| <!--/--> | site &lt;chr&gt; | info &lt;chr&gt; |\n",
       "|---|---|---|\n",
       "| 1 | chr1_12058 | donor_ds_1_G |\n",
       "| 2 | chr1_12228 | donor_ds_1_G |\n",
       "| 3 | chr1_12698 | donor_ds_1_G |\n",
       "| 4 | chr1_13053 | donor_ds_1_G |\n",
       "| 5 | chr1_13375 | donor_ds_1_G |\n",
       "| 6 | chr1_13671 | donor_ds_1_G |\n",
       "\n"
      ],
      "text/plain": [
       "  site       info        \n",
       "1 chr1_12058 donor_ds_1_G\n",
       "2 chr1_12228 donor_ds_1_G\n",
       "3 chr1_12698 donor_ds_1_G\n",
       "4 chr1_13053 donor_ds_1_G\n",
       "5 chr1_13375 donor_ds_1_G\n",
       "6 chr1_13671 donor_ds_1_G"
      ]
     },
     "metadata": {},
     "output_type": "display_data"
    }
   ],
   "source": [
    "\n",
    "head(all_sites)\n",
    "dim(all_sites)\n",
    "colnames(all_sites) <- c(\"site\",\"info\")\n",
    "head(all_sites)\n"
   ]
  },
  {
   "cell_type": "code",
   "execution_count": 6,
   "metadata": {
    "vscode": {
     "languageId": "r"
    }
   },
   "outputs": [
    {
     "data": {
      "text/html": [
       "<style>\n",
       ".list-inline {list-style: none; margin:0; padding: 0}\n",
       ".list-inline>li {display: inline-block}\n",
       ".list-inline>li:not(:last-child)::after {content: \"\\00b7\"; padding: 0 .5ex}\n",
       "</style>\n",
       "<ol class=list-inline><li>4218444</li><li>2</li></ol>\n"
      ],
      "text/latex": [
       "\\begin{enumerate*}\n",
       "\\item 4218444\n",
       "\\item 2\n",
       "\\end{enumerate*}\n"
      ],
      "text/markdown": [
       "1. 4218444\n",
       "2. 2\n",
       "\n",
       "\n"
      ],
      "text/plain": [
       "[1] 4218444       2"
      ]
     },
     "metadata": {},
     "output_type": "display_data"
    }
   ],
   "source": [
    "#4218444个候选位点\n",
    "uniq_all_sites <- all_sites[!duplicated(all_sites$site),]\n",
    "dim(uniq_all_sites)\n",
    "\n",
    "rownames(uniq_all_sites) <- uniq_all_sites$site\n",
    "#write.table(all_sites,\"/disk1/wenqing/tmp_data/ASD/donor_acceptor_sites_us_ds_5bp.txt\",quote=F,row.names=F)"
   ]
  },
  {
   "cell_type": "code",
   "execution_count": 7,
   "metadata": {
    "vscode": {
     "languageId": "r"
    }
   },
   "outputs": [
    {
     "data": {
      "text/html": [
       "<table class=\"dataframe\">\n",
       "<caption>A data.frame: 6 × 9</caption>\n",
       "<thead>\n",
       "\t<tr><th></th><th scope=col>V1</th><th scope=col>V2</th><th scope=col>V3</th><th scope=col>V4</th><th scope=col>V5</th><th scope=col>V6</th><th scope=col>V7</th><th scope=col>V8</th><th scope=col>V9</th></tr>\n",
       "\t<tr><th></th><th scope=col>&lt;chr&gt;</th><th scope=col>&lt;int&gt;</th><th scope=col>&lt;int&gt;</th><th scope=col>&lt;chr&gt;</th><th scope=col>&lt;int&gt;</th><th scope=col>&lt;chr&gt;</th><th scope=col>&lt;chr&gt;</th><th scope=col>&lt;chr&gt;</th><th scope=col>&lt;int&gt;</th></tr>\n",
       "</thead>\n",
       "<tbody>\n",
       "\t<tr><th scope=row>1</th><td>chr1</td><td> 99234</td><td> 99235</td><td>TC</td><td>2</td><td>+</td><td>GTCTTCGTCATAACCG</td><td>3:3</td><td>17</td></tr>\n",
       "\t<tr><th scope=row>2</th><td>chr1</td><td> 99298</td><td> 99299</td><td>TC</td><td>2</td><td>+</td><td>CATATGGCACCAGGCT</td><td>2:2</td><td>17</td></tr>\n",
       "\t<tr><th scope=row>3</th><td>chr1</td><td> 99312</td><td> 99313</td><td>TC</td><td>4</td><td>+</td><td>GTCTTCGTCATAACCG</td><td>6:6</td><td>17</td></tr>\n",
       "\t<tr><th scope=row>4</th><td>chr1</td><td> 99326</td><td> 99327</td><td>TC</td><td>2</td><td>+</td><td>GTCTTCGTCATAACCG</td><td>7:7</td><td>17</td></tr>\n",
       "\t<tr><th scope=row>5</th><td>chr1</td><td>103105</td><td>103106</td><td>TC</td><td>1</td><td>+</td><td>AACTCCCGTAGTGAAT</td><td>1:1</td><td>17</td></tr>\n",
       "\t<tr><th scope=row>6</th><td>chr1</td><td>103106</td><td>103107</td><td>TC</td><td>1</td><td>+</td><td>AACTCCCGTAGTGAAT</td><td>1:1</td><td>17</td></tr>\n",
       "</tbody>\n",
       "</table>\n"
      ],
      "text/latex": [
       "A data.frame: 6 × 9\n",
       "\\begin{tabular}{r|lllllllll}\n",
       "  & V1 & V2 & V3 & V4 & V5 & V6 & V7 & V8 & V9\\\\\n",
       "  & <chr> & <int> & <int> & <chr> & <int> & <chr> & <chr> & <chr> & <int>\\\\\n",
       "\\hline\n",
       "\t1 & chr1 &  99234 &  99235 & TC & 2 & + & GTCTTCGTCATAACCG & 3:3 & 17\\\\\n",
       "\t2 & chr1 &  99298 &  99299 & TC & 2 & + & CATATGGCACCAGGCT & 2:2 & 17\\\\\n",
       "\t3 & chr1 &  99312 &  99313 & TC & 4 & + & GTCTTCGTCATAACCG & 6:6 & 17\\\\\n",
       "\t4 & chr1 &  99326 &  99327 & TC & 2 & + & GTCTTCGTCATAACCG & 7:7 & 17\\\\\n",
       "\t5 & chr1 & 103105 & 103106 & TC & 1 & + & AACTCCCGTAGTGAAT & 1:1 & 17\\\\\n",
       "\t6 & chr1 & 103106 & 103107 & TC & 1 & + & AACTCCCGTAGTGAAT & 1:1 & 17\\\\\n",
       "\\end{tabular}\n"
      ],
      "text/markdown": [
       "\n",
       "A data.frame: 6 × 9\n",
       "\n",
       "| <!--/--> | V1 &lt;chr&gt; | V2 &lt;int&gt; | V3 &lt;int&gt; | V4 &lt;chr&gt; | V5 &lt;int&gt; | V6 &lt;chr&gt; | V7 &lt;chr&gt; | V8 &lt;chr&gt; | V9 &lt;int&gt; |\n",
       "|---|---|---|---|---|---|---|---|---|---|\n",
       "| 1 | chr1 |  99234 |  99235 | TC | 2 | + | GTCTTCGTCATAACCG | 3:3 | 17 |\n",
       "| 2 | chr1 |  99298 |  99299 | TC | 2 | + | CATATGGCACCAGGCT | 2:2 | 17 |\n",
       "| 3 | chr1 |  99312 |  99313 | TC | 4 | + | GTCTTCGTCATAACCG | 6:6 | 17 |\n",
       "| 4 | chr1 |  99326 |  99327 | TC | 2 | + | GTCTTCGTCATAACCG | 7:7 | 17 |\n",
       "| 5 | chr1 | 103105 | 103106 | TC | 1 | + | AACTCCCGTAGTGAAT | 1:1 | 17 |\n",
       "| 6 | chr1 | 103106 | 103107 | TC | 1 | + | AACTCCCGTAGTGAAT | 1:1 | 17 |\n",
       "\n"
      ],
      "text/plain": [
       "  V1   V2     V3     V4 V5 V6 V7               V8  V9\n",
       "1 chr1  99234  99235 TC 2  +  GTCTTCGTCATAACCG 3:3 17\n",
       "2 chr1  99298  99299 TC 2  +  CATATGGCACCAGGCT 2:2 17\n",
       "3 chr1  99312  99313 TC 4  +  GTCTTCGTCATAACCG 6:6 17\n",
       "4 chr1  99326  99327 TC 2  +  GTCTTCGTCATAACCG 7:7 17\n",
       "5 chr1 103105 103106 TC 1  +  AACTCCCGTAGTGAAT 1:1 17\n",
       "6 chr1 103106 103107 TC 1  +  AACTCCCGTAGTGAAT 1:1 17"
      ]
     },
     "metadata": {},
     "output_type": "display_data"
    },
    {
     "data": {
      "text/html": [
       "<table class=\"dataframe\">\n",
       "<caption>A data.frame: 6 × 10</caption>\n",
       "<thead>\n",
       "\t<tr><th></th><th scope=col>V1</th><th scope=col>V2</th><th scope=col>V3</th><th scope=col>V4</th><th scope=col>V5</th><th scope=col>V6</th><th scope=col>V7</th><th scope=col>V8</th><th scope=col>V9</th><th scope=col>V10</th></tr>\n",
       "\t<tr><th></th><th scope=col>&lt;chr&gt;</th><th scope=col>&lt;int&gt;</th><th scope=col>&lt;int&gt;</th><th scope=col>&lt;chr&gt;</th><th scope=col>&lt;int&gt;</th><th scope=col>&lt;chr&gt;</th><th scope=col>&lt;chr&gt;</th><th scope=col>&lt;chr&gt;</th><th scope=col>&lt;int&gt;</th><th scope=col>&lt;chr&gt;</th></tr>\n",
       "</thead>\n",
       "<tbody>\n",
       "\t<tr><th scope=row>1</th><td>chr1</td><td> 99234</td><td> 99235</td><td>TC</td><td>2</td><td>+</td><td>GTCTTCGTCATAACCG</td><td>3:3</td><td>17</td><td>chr1_99235 </td></tr>\n",
       "\t<tr><th scope=row>2</th><td>chr1</td><td> 99298</td><td> 99299</td><td>TC</td><td>2</td><td>+</td><td>CATATGGCACCAGGCT</td><td>2:2</td><td>17</td><td>chr1_99299 </td></tr>\n",
       "\t<tr><th scope=row>3</th><td>chr1</td><td> 99312</td><td> 99313</td><td>TC</td><td>4</td><td>+</td><td>GTCTTCGTCATAACCG</td><td>6:6</td><td>17</td><td>chr1_99313 </td></tr>\n",
       "\t<tr><th scope=row>4</th><td>chr1</td><td> 99326</td><td> 99327</td><td>TC</td><td>2</td><td>+</td><td>GTCTTCGTCATAACCG</td><td>7:7</td><td>17</td><td>chr1_99327 </td></tr>\n",
       "\t<tr><th scope=row>5</th><td>chr1</td><td>103105</td><td>103106</td><td>TC</td><td>1</td><td>+</td><td>AACTCCCGTAGTGAAT</td><td>1:1</td><td>17</td><td>chr1_103106</td></tr>\n",
       "\t<tr><th scope=row>6</th><td>chr1</td><td>103106</td><td>103107</td><td>TC</td><td>1</td><td>+</td><td>AACTCCCGTAGTGAAT</td><td>1:1</td><td>17</td><td>chr1_103107</td></tr>\n",
       "</tbody>\n",
       "</table>\n"
      ],
      "text/latex": [
       "A data.frame: 6 × 10\n",
       "\\begin{tabular}{r|llllllllll}\n",
       "  & V1 & V2 & V3 & V4 & V5 & V6 & V7 & V8 & V9 & V10\\\\\n",
       "  & <chr> & <int> & <int> & <chr> & <int> & <chr> & <chr> & <chr> & <int> & <chr>\\\\\n",
       "\\hline\n",
       "\t1 & chr1 &  99234 &  99235 & TC & 2 & + & GTCTTCGTCATAACCG & 3:3 & 17 & chr1\\_99235 \\\\\n",
       "\t2 & chr1 &  99298 &  99299 & TC & 2 & + & CATATGGCACCAGGCT & 2:2 & 17 & chr1\\_99299 \\\\\n",
       "\t3 & chr1 &  99312 &  99313 & TC & 4 & + & GTCTTCGTCATAACCG & 6:6 & 17 & chr1\\_99313 \\\\\n",
       "\t4 & chr1 &  99326 &  99327 & TC & 2 & + & GTCTTCGTCATAACCG & 7:7 & 17 & chr1\\_99327 \\\\\n",
       "\t5 & chr1 & 103105 & 103106 & TC & 1 & + & AACTCCCGTAGTGAAT & 1:1 & 17 & chr1\\_103106\\\\\n",
       "\t6 & chr1 & 103106 & 103107 & TC & 1 & + & AACTCCCGTAGTGAAT & 1:1 & 17 & chr1\\_103107\\\\\n",
       "\\end{tabular}\n"
      ],
      "text/markdown": [
       "\n",
       "A data.frame: 6 × 10\n",
       "\n",
       "| <!--/--> | V1 &lt;chr&gt; | V2 &lt;int&gt; | V3 &lt;int&gt; | V4 &lt;chr&gt; | V5 &lt;int&gt; | V6 &lt;chr&gt; | V7 &lt;chr&gt; | V8 &lt;chr&gt; | V9 &lt;int&gt; | V10 &lt;chr&gt; |\n",
       "|---|---|---|---|---|---|---|---|---|---|---|\n",
       "| 1 | chr1 |  99234 |  99235 | TC | 2 | + | GTCTTCGTCATAACCG | 3:3 | 17 | chr1_99235  |\n",
       "| 2 | chr1 |  99298 |  99299 | TC | 2 | + | CATATGGCACCAGGCT | 2:2 | 17 | chr1_99299  |\n",
       "| 3 | chr1 |  99312 |  99313 | TC | 4 | + | GTCTTCGTCATAACCG | 6:6 | 17 | chr1_99313  |\n",
       "| 4 | chr1 |  99326 |  99327 | TC | 2 | + | GTCTTCGTCATAACCG | 7:7 | 17 | chr1_99327  |\n",
       "| 5 | chr1 | 103105 | 103106 | TC | 1 | + | AACTCCCGTAGTGAAT | 1:1 | 17 | chr1_103106 |\n",
       "| 6 | chr1 | 103106 | 103107 | TC | 1 | + | AACTCCCGTAGTGAAT | 1:1 | 17 | chr1_103107 |\n",
       "\n"
      ],
      "text/plain": [
       "  V1   V2     V3     V4 V5 V6 V7               V8  V9 V10        \n",
       "1 chr1  99234  99235 TC 2  +  GTCTTCGTCATAACCG 3:3 17 chr1_99235 \n",
       "2 chr1  99298  99299 TC 2  +  CATATGGCACCAGGCT 2:2 17 chr1_99299 \n",
       "3 chr1  99312  99313 TC 4  +  GTCTTCGTCATAACCG 6:6 17 chr1_99313 \n",
       "4 chr1  99326  99327 TC 2  +  GTCTTCGTCATAACCG 7:7 17 chr1_99327 \n",
       "5 chr1 103105 103106 TC 1  +  AACTCCCGTAGTGAAT 1:1 17 chr1_103106\n",
       "6 chr1 103106 103107 TC 1  +  AACTCCCGTAGTGAAT 1:1 17 chr1_103107"
      ]
     },
     "metadata": {},
     "output_type": "display_data"
    }
   ],
   "source": [
    "#head(all_possible_sites)\n",
    "all_res <- read.table(\"/disk1/wenqing/tmp_data/ASD/all.res.wizSampleInfo\")\n",
    "\n",
    "head(all_res)\n",
    "\n",
    "all_res$V10 <- paste0(all_res$V1,\"_\",all_res$V3)\n",
    "head(all_res)\n",
    "\n"
   ]
  },
  {
   "cell_type": "code",
   "execution_count": 8,
   "metadata": {
    "vscode": {
     "languageId": "r"
    }
   },
   "outputs": [],
   "source": [
    "#4739个位点落在上述构建的位置上\n",
    "resInSpliceSites <- all_res[all_res$V10 %in% all_sites$site,]\n"
   ]
  },
  {
   "cell_type": "code",
   "execution_count": 9,
   "metadata": {
    "vscode": {
     "languageId": "r"
    }
   },
   "outputs": [
    {
     "data": {
      "text/html": [
       "<style>\n",
       ".list-inline {list-style: none; margin:0; padding: 0}\n",
       ".list-inline>li {display: inline-block}\n",
       ".list-inline>li:not(:last-child)::after {content: \"\\00b7\"; padding: 0 .5ex}\n",
       "</style>\n",
       "<ol class=list-inline><li>16596</li><li>10</li></ol>\n"
      ],
      "text/latex": [
       "\\begin{enumerate*}\n",
       "\\item 16596\n",
       "\\item 10\n",
       "\\end{enumerate*}\n"
      ],
      "text/markdown": [
       "1. 16596\n",
       "2. 10\n",
       "\n",
       "\n"
      ],
      "text/plain": [
       "[1] 16596    10"
      ]
     },
     "metadata": {},
     "output_type": "display_data"
    }
   ],
   "source": [
    "dim(resInSpliceSites)"
   ]
  },
  {
   "cell_type": "code",
   "execution_count": 10,
   "metadata": {
    "vscode": {
     "languageId": "r"
    }
   },
   "outputs": [],
   "source": [
    "\n",
    "resInSpliceSites$V11 <- \"info\"\n"
   ]
  },
  {
   "cell_type": "code",
   "execution_count": 11,
   "metadata": {
    "vscode": {
     "languageId": "r"
    }
   },
   "outputs": [],
   "source": [
    "resInSpliceSites$V11 <- uniq_all_sites[resInSpliceSites$V10,]$info\n"
   ]
  },
  {
   "cell_type": "code",
   "execution_count": 12,
   "metadata": {
    "vscode": {
     "languageId": "r"
    }
   },
   "outputs": [
    {
     "data": {
      "text/html": [
       "<style>\n",
       ".list-inline {list-style: none; margin:0; padding: 0}\n",
       ".list-inline>li {display: inline-block}\n",
       ".list-inline>li:not(:last-child)::after {content: \"\\00b7\"; padding: 0 .5ex}\n",
       "</style>\n",
       "<ol class=list-inline><li>'acceptor_us_1_G'</li><li>'acceptor_us_2_A'</li><li>'acceptor_us_3_C_T'</li><li>'acceptor_us_4_N'</li><li>'acceptor_us_5_C_T'</li><li>'branch_site_A'</li><li>'donor_ds_1_G'</li><li>'donor_ds_2_T'</li><li>'donor_ds_3_A_G'</li><li>'donor_ds_4_A'</li><li>'donor_ds_5_G'</li></ol>\n"
      ],
      "text/latex": [
       "\\begin{enumerate*}\n",
       "\\item 'acceptor\\_us\\_1\\_G'\n",
       "\\item 'acceptor\\_us\\_2\\_A'\n",
       "\\item 'acceptor\\_us\\_3\\_C\\_T'\n",
       "\\item 'acceptor\\_us\\_4\\_N'\n",
       "\\item 'acceptor\\_us\\_5\\_C\\_T'\n",
       "\\item 'branch\\_site\\_A'\n",
       "\\item 'donor\\_ds\\_1\\_G'\n",
       "\\item 'donor\\_ds\\_2\\_T'\n",
       "\\item 'donor\\_ds\\_3\\_A\\_G'\n",
       "\\item 'donor\\_ds\\_4\\_A'\n",
       "\\item 'donor\\_ds\\_5\\_G'\n",
       "\\end{enumerate*}\n"
      ],
      "text/markdown": [
       "1. 'acceptor_us_1_G'\n",
       "2. 'acceptor_us_2_A'\n",
       "3. 'acceptor_us_3_C_T'\n",
       "4. 'acceptor_us_4_N'\n",
       "5. 'acceptor_us_5_C_T'\n",
       "6. 'branch_site_A'\n",
       "7. 'donor_ds_1_G'\n",
       "8. 'donor_ds_2_T'\n",
       "9. 'donor_ds_3_A_G'\n",
       "10. 'donor_ds_4_A'\n",
       "11. 'donor_ds_5_G'\n",
       "\n",
       "\n"
      ],
      "text/plain": [
       " [1] \"acceptor_us_1_G\"   \"acceptor_us_2_A\"   \"acceptor_us_3_C_T\"\n",
       " [4] \"acceptor_us_4_N\"   \"acceptor_us_5_C_T\" \"branch_site_A\"    \n",
       " [7] \"donor_ds_1_G\"      \"donor_ds_2_T\"      \"donor_ds_3_A_G\"   \n",
       "[10] \"donor_ds_4_A\"      \"donor_ds_5_G\"     "
      ]
     },
     "metadata": {},
     "output_type": "display_data"
    }
   ],
   "source": [
    "\n",
    "names(table(resInSpliceSites$V11))\n"
   ]
  },
  {
   "cell_type": "code",
   "execution_count": 244,
   "metadata": {
    "vscode": {
     "languageId": "r"
    }
   },
   "outputs": [
    {
     "data": {
      "text/html": [
       "<table class=\"dataframe\">\n",
       "<caption>A data.frame: 6 × 11</caption>\n",
       "<thead>\n",
       "\t<tr><th></th><th scope=col>V1</th><th scope=col>V2</th><th scope=col>V3</th><th scope=col>V4</th><th scope=col>V5</th><th scope=col>V6</th><th scope=col>V7</th><th scope=col>V8</th><th scope=col>V9</th><th scope=col>V10</th><th scope=col>V11</th></tr>\n",
       "\t<tr><th></th><th scope=col>&lt;chr&gt;</th><th scope=col>&lt;int&gt;</th><th scope=col>&lt;int&gt;</th><th scope=col>&lt;chr&gt;</th><th scope=col>&lt;int&gt;</th><th scope=col>&lt;chr&gt;</th><th scope=col>&lt;chr&gt;</th><th scope=col>&lt;chr&gt;</th><th scope=col>&lt;int&gt;</th><th scope=col>&lt;chr&gt;</th><th scope=col>&lt;chr&gt;</th></tr>\n",
       "</thead>\n",
       "<tbody>\n",
       "\t<tr><th scope=row>1373</th><td>chr1</td><td>1215686</td><td>1215687</td><td>AG</td><td>1</td><td>+</td><td>GGGCACTAGTGTACCT</td><td>1:1</td><td>17</td><td>chr1_1215687</td><td>acceptor_us_4_N  </td></tr>\n",
       "\t<tr><th scope=row>1374</th><td>chr1</td><td>1215688</td><td>1215689</td><td>AG</td><td>1</td><td>-</td><td>GACTGCGAGGGCTTCC</td><td>1:1</td><td>17</td><td>chr1_1215689</td><td>acceptor_us_2_A  </td></tr>\n",
       "\t<tr><th scope=row>1756</th><td>chr1</td><td>1580934</td><td>1580935</td><td>TC</td><td>3</td><td>+</td><td>CGTCAGGTCCGTAGGC</td><td>3:3</td><td>17</td><td>chr1_1580935</td><td>acceptor_us_5_C_T</td></tr>\n",
       "\t<tr><th scope=row>1757</th><td>chr1</td><td>1580967</td><td>1580968</td><td>TC</td><td>3</td><td>+</td><td>CTACGTCAGTAGATGT</td><td>3:3</td><td>17</td><td>chr1_1580968</td><td>acceptor_us_4_N  </td></tr>\n",
       "\t<tr><th scope=row>6017</th><td>chr1</td><td>6608487</td><td>6608488</td><td>TC</td><td>3</td><td>+</td><td>TAGAGCTGTCGGGTCT</td><td>3:3</td><td>17</td><td>chr1_6608488</td><td>branch_site_A    </td></tr>\n",
       "\t<tr><th scope=row>6303</th><td>chr1</td><td>6726654</td><td>6726655</td><td>TC</td><td>2</td><td>+</td><td>GGCCGATTCAATCTCT</td><td>9:9</td><td>17</td><td>chr1_6726655</td><td>acceptor_us_2_A  </td></tr>\n",
       "</tbody>\n",
       "</table>\n"
      ],
      "text/latex": [
       "A data.frame: 6 × 11\n",
       "\\begin{tabular}{r|lllllllllll}\n",
       "  & V1 & V2 & V3 & V4 & V5 & V6 & V7 & V8 & V9 & V10 & V11\\\\\n",
       "  & <chr> & <int> & <int> & <chr> & <int> & <chr> & <chr> & <chr> & <int> & <chr> & <chr>\\\\\n",
       "\\hline\n",
       "\t1373 & chr1 & 1215686 & 1215687 & AG & 1 & + & GGGCACTAGTGTACCT & 1:1 & 17 & chr1\\_1215687 & acceptor\\_us\\_4\\_N  \\\\\n",
       "\t1374 & chr1 & 1215688 & 1215689 & AG & 1 & - & GACTGCGAGGGCTTCC & 1:1 & 17 & chr1\\_1215689 & acceptor\\_us\\_2\\_A  \\\\\n",
       "\t1756 & chr1 & 1580934 & 1580935 & TC & 3 & + & CGTCAGGTCCGTAGGC & 3:3 & 17 & chr1\\_1580935 & acceptor\\_us\\_5\\_C\\_T\\\\\n",
       "\t1757 & chr1 & 1580967 & 1580968 & TC & 3 & + & CTACGTCAGTAGATGT & 3:3 & 17 & chr1\\_1580968 & acceptor\\_us\\_4\\_N  \\\\\n",
       "\t6017 & chr1 & 6608487 & 6608488 & TC & 3 & + & TAGAGCTGTCGGGTCT & 3:3 & 17 & chr1\\_6608488 & branch\\_site\\_A    \\\\\n",
       "\t6303 & chr1 & 6726654 & 6726655 & TC & 2 & + & GGCCGATTCAATCTCT & 9:9 & 17 & chr1\\_6726655 & acceptor\\_us\\_2\\_A  \\\\\n",
       "\\end{tabular}\n"
      ],
      "text/markdown": [
       "\n",
       "A data.frame: 6 × 11\n",
       "\n",
       "| <!--/--> | V1 &lt;chr&gt; | V2 &lt;int&gt; | V3 &lt;int&gt; | V4 &lt;chr&gt; | V5 &lt;int&gt; | V6 &lt;chr&gt; | V7 &lt;chr&gt; | V8 &lt;chr&gt; | V9 &lt;int&gt; | V10 &lt;chr&gt; | V11 &lt;chr&gt; |\n",
       "|---|---|---|---|---|---|---|---|---|---|---|---|\n",
       "| 1373 | chr1 | 1215686 | 1215687 | AG | 1 | + | GGGCACTAGTGTACCT | 1:1 | 17 | chr1_1215687 | acceptor_us_4_N   |\n",
       "| 1374 | chr1 | 1215688 | 1215689 | AG | 1 | - | GACTGCGAGGGCTTCC | 1:1 | 17 | chr1_1215689 | acceptor_us_2_A   |\n",
       "| 1756 | chr1 | 1580934 | 1580935 | TC | 3 | + | CGTCAGGTCCGTAGGC | 3:3 | 17 | chr1_1580935 | acceptor_us_5_C_T |\n",
       "| 1757 | chr1 | 1580967 | 1580968 | TC | 3 | + | CTACGTCAGTAGATGT | 3:3 | 17 | chr1_1580968 | acceptor_us_4_N   |\n",
       "| 6017 | chr1 | 6608487 | 6608488 | TC | 3 | + | TAGAGCTGTCGGGTCT | 3:3 | 17 | chr1_6608488 | branch_site_A     |\n",
       "| 6303 | chr1 | 6726654 | 6726655 | TC | 2 | + | GGCCGATTCAATCTCT | 9:9 | 17 | chr1_6726655 | acceptor_us_2_A   |\n",
       "\n"
      ],
      "text/plain": [
       "     V1   V2      V3      V4 V5 V6 V7               V8  V9 V10         \n",
       "1373 chr1 1215686 1215687 AG 1  +  GGGCACTAGTGTACCT 1:1 17 chr1_1215687\n",
       "1374 chr1 1215688 1215689 AG 1  -  GACTGCGAGGGCTTCC 1:1 17 chr1_1215689\n",
       "1756 chr1 1580934 1580935 TC 3  +  CGTCAGGTCCGTAGGC 3:3 17 chr1_1580935\n",
       "1757 chr1 1580967 1580968 TC 3  +  CTACGTCAGTAGATGT 3:3 17 chr1_1580968\n",
       "6017 chr1 6608487 6608488 TC 3  +  TAGAGCTGTCGGGTCT 3:3 17 chr1_6608488\n",
       "6303 chr1 6726654 6726655 TC 2  +  GGCCGATTCAATCTCT 9:9 17 chr1_6726655\n",
       "     V11              \n",
       "1373 acceptor_us_4_N  \n",
       "1374 acceptor_us_2_A  \n",
       "1756 acceptor_us_5_C_T\n",
       "1757 acceptor_us_4_N  \n",
       "6017 branch_site_A    \n",
       "6303 acceptor_us_2_A  "
      ]
     },
     "metadata": {},
     "output_type": "display_data"
    }
   ],
   "source": [
    "###########暂时不做这种过滤，可能性过多\n",
    "head(resInSpliceSites)\n",
    "\n",
    "#判断res所在位点是否有可能造成AS\n",
    "judge_AS <- function(x){\n",
    "    candidate_res_info <- c()\n",
    "    site_info=x[11]\n",
    "    res_type=x[4]\n",
    "    flag1 <- site_info == 'acceptor_us_1_G' & res_type=='G'\n",
    "    flag2 <- site_info == 'acceptor_us_2_A' & res_type=='G'\n",
    "\n",
    "    if(site_info == 'acceptor_us_1_G' & res_type=='G'){\n",
    "        candidate_res_info <- rbind(candidate_res_info,x)\n",
    "\n",
    "    }\n",
    "    \n",
    "}"
   ]
  },
  {
   "cell_type": "code",
   "execution_count": 248,
   "metadata": {
    "vscode": {
     "languageId": "r"
    }
   },
   "outputs": [],
   "source": [
    "####将得到的res归到基因上\n",
    "#写出resInSpliceSites\n",
    "write.table(resInSpliceSites,\"/disk1/wenqing/tmp_data/ASD/resInSpliceSites.txt\",quote=F,sep='\\t',row.names=F)"
   ]
  },
  {
   "cell_type": "code",
   "execution_count": 247,
   "metadata": {
    "vscode": {
     "languageId": "r"
    }
   },
   "outputs": [
    {
     "data": {
      "text/html": [
       "<table class=\"dataframe\">\n",
       "<caption>A data.frame: 6 × 11</caption>\n",
       "<thead>\n",
       "\t<tr><th></th><th scope=col>V1</th><th scope=col>V2</th><th scope=col>V3</th><th scope=col>V4</th><th scope=col>V5</th><th scope=col>V6</th><th scope=col>V7</th><th scope=col>V8</th><th scope=col>V9</th><th scope=col>V10</th><th scope=col>V11</th></tr>\n",
       "\t<tr><th></th><th scope=col>&lt;chr&gt;</th><th scope=col>&lt;int&gt;</th><th scope=col>&lt;int&gt;</th><th scope=col>&lt;chr&gt;</th><th scope=col>&lt;int&gt;</th><th scope=col>&lt;chr&gt;</th><th scope=col>&lt;chr&gt;</th><th scope=col>&lt;chr&gt;</th><th scope=col>&lt;int&gt;</th><th scope=col>&lt;chr&gt;</th><th scope=col>&lt;chr&gt;</th></tr>\n",
       "</thead>\n",
       "<tbody>\n",
       "\t<tr><th scope=row>1373</th><td>chr1</td><td>1215686</td><td>1215687</td><td>AG</td><td>1</td><td>+</td><td>GGGCACTAGTGTACCT</td><td>1:1</td><td>17</td><td>chr1_1215687</td><td>acceptor_us_4_N  </td></tr>\n",
       "\t<tr><th scope=row>1374</th><td>chr1</td><td>1215688</td><td>1215689</td><td>AG</td><td>1</td><td>-</td><td>GACTGCGAGGGCTTCC</td><td>1:1</td><td>17</td><td>chr1_1215689</td><td>acceptor_us_2_A  </td></tr>\n",
       "\t<tr><th scope=row>1756</th><td>chr1</td><td>1580934</td><td>1580935</td><td>TC</td><td>3</td><td>+</td><td>CGTCAGGTCCGTAGGC</td><td>3:3</td><td>17</td><td>chr1_1580935</td><td>acceptor_us_5_C_T</td></tr>\n",
       "\t<tr><th scope=row>1757</th><td>chr1</td><td>1580967</td><td>1580968</td><td>TC</td><td>3</td><td>+</td><td>CTACGTCAGTAGATGT</td><td>3:3</td><td>17</td><td>chr1_1580968</td><td>acceptor_us_4_N  </td></tr>\n",
       "\t<tr><th scope=row>6017</th><td>chr1</td><td>6608487</td><td>6608488</td><td>TC</td><td>3</td><td>+</td><td>TAGAGCTGTCGGGTCT</td><td>3:3</td><td>17</td><td>chr1_6608488</td><td>branch_site_A    </td></tr>\n",
       "\t<tr><th scope=row>6303</th><td>chr1</td><td>6726654</td><td>6726655</td><td>TC</td><td>2</td><td>+</td><td>GGCCGATTCAATCTCT</td><td>9:9</td><td>17</td><td>chr1_6726655</td><td>acceptor_us_2_A  </td></tr>\n",
       "</tbody>\n",
       "</table>\n"
      ],
      "text/latex": [
       "A data.frame: 6 × 11\n",
       "\\begin{tabular}{r|lllllllllll}\n",
       "  & V1 & V2 & V3 & V4 & V5 & V6 & V7 & V8 & V9 & V10 & V11\\\\\n",
       "  & <chr> & <int> & <int> & <chr> & <int> & <chr> & <chr> & <chr> & <int> & <chr> & <chr>\\\\\n",
       "\\hline\n",
       "\t1373 & chr1 & 1215686 & 1215687 & AG & 1 & + & GGGCACTAGTGTACCT & 1:1 & 17 & chr1\\_1215687 & acceptor\\_us\\_4\\_N  \\\\\n",
       "\t1374 & chr1 & 1215688 & 1215689 & AG & 1 & - & GACTGCGAGGGCTTCC & 1:1 & 17 & chr1\\_1215689 & acceptor\\_us\\_2\\_A  \\\\\n",
       "\t1756 & chr1 & 1580934 & 1580935 & TC & 3 & + & CGTCAGGTCCGTAGGC & 3:3 & 17 & chr1\\_1580935 & acceptor\\_us\\_5\\_C\\_T\\\\\n",
       "\t1757 & chr1 & 1580967 & 1580968 & TC & 3 & + & CTACGTCAGTAGATGT & 3:3 & 17 & chr1\\_1580968 & acceptor\\_us\\_4\\_N  \\\\\n",
       "\t6017 & chr1 & 6608487 & 6608488 & TC & 3 & + & TAGAGCTGTCGGGTCT & 3:3 & 17 & chr1\\_6608488 & branch\\_site\\_A    \\\\\n",
       "\t6303 & chr1 & 6726654 & 6726655 & TC & 2 & + & GGCCGATTCAATCTCT & 9:9 & 17 & chr1\\_6726655 & acceptor\\_us\\_2\\_A  \\\\\n",
       "\\end{tabular}\n"
      ],
      "text/markdown": [
       "\n",
       "A data.frame: 6 × 11\n",
       "\n",
       "| <!--/--> | V1 &lt;chr&gt; | V2 &lt;int&gt; | V3 &lt;int&gt; | V4 &lt;chr&gt; | V5 &lt;int&gt; | V6 &lt;chr&gt; | V7 &lt;chr&gt; | V8 &lt;chr&gt; | V9 &lt;int&gt; | V10 &lt;chr&gt; | V11 &lt;chr&gt; |\n",
       "|---|---|---|---|---|---|---|---|---|---|---|---|\n",
       "| 1373 | chr1 | 1215686 | 1215687 | AG | 1 | + | GGGCACTAGTGTACCT | 1:1 | 17 | chr1_1215687 | acceptor_us_4_N   |\n",
       "| 1374 | chr1 | 1215688 | 1215689 | AG | 1 | - | GACTGCGAGGGCTTCC | 1:1 | 17 | chr1_1215689 | acceptor_us_2_A   |\n",
       "| 1756 | chr1 | 1580934 | 1580935 | TC | 3 | + | CGTCAGGTCCGTAGGC | 3:3 | 17 | chr1_1580935 | acceptor_us_5_C_T |\n",
       "| 1757 | chr1 | 1580967 | 1580968 | TC | 3 | + | CTACGTCAGTAGATGT | 3:3 | 17 | chr1_1580968 | acceptor_us_4_N   |\n",
       "| 6017 | chr1 | 6608487 | 6608488 | TC | 3 | + | TAGAGCTGTCGGGTCT | 3:3 | 17 | chr1_6608488 | branch_site_A     |\n",
       "| 6303 | chr1 | 6726654 | 6726655 | TC | 2 | + | GGCCGATTCAATCTCT | 9:9 | 17 | chr1_6726655 | acceptor_us_2_A   |\n",
       "\n"
      ],
      "text/plain": [
       "     V1   V2      V3      V4 V5 V6 V7               V8  V9 V10         \n",
       "1373 chr1 1215686 1215687 AG 1  +  GGGCACTAGTGTACCT 1:1 17 chr1_1215687\n",
       "1374 chr1 1215688 1215689 AG 1  -  GACTGCGAGGGCTTCC 1:1 17 chr1_1215689\n",
       "1756 chr1 1580934 1580935 TC 3  +  CGTCAGGTCCGTAGGC 3:3 17 chr1_1580935\n",
       "1757 chr1 1580967 1580968 TC 3  +  CTACGTCAGTAGATGT 3:3 17 chr1_1580968\n",
       "6017 chr1 6608487 6608488 TC 3  +  TAGAGCTGTCGGGTCT 3:3 17 chr1_6608488\n",
       "6303 chr1 6726654 6726655 TC 2  +  GGCCGATTCAATCTCT 9:9 17 chr1_6726655\n",
       "     V11              \n",
       "1373 acceptor_us_4_N  \n",
       "1374 acceptor_us_2_A  \n",
       "1756 acceptor_us_5_C_T\n",
       "1757 acceptor_us_4_N  \n",
       "6017 branch_site_A    \n",
       "6303 acceptor_us_2_A  "
      ]
     },
     "metadata": {},
     "output_type": "display_data"
    }
   ],
   "source": [
    "head(resInSpliceSites)"
   ]
  },
  {
   "cell_type": "code",
   "execution_count": 13,
   "metadata": {
    "vscode": {
     "languageId": "r"
    }
   },
   "outputs": [],
   "source": [
    "#读取resInSpliceSites_WzGeneInfo\n",
    "resInSpliceSites_WzGeneInfo <- read.table(\"/disk1/wenqing/tmp_data/ASD/resInSpliceSites_WzGeneInfo.txt\")"
   ]
  },
  {
   "cell_type": "code",
   "execution_count": 14,
   "metadata": {
    "vscode": {
     "languageId": "r"
    }
   },
   "outputs": [
    {
     "data": {
      "text/html": [
       "<table class=\"dataframe\">\n",
       "<caption>A data.frame: 6 × 17</caption>\n",
       "<thead>\n",
       "\t<tr><th></th><th scope=col>V1</th><th scope=col>V2</th><th scope=col>V3</th><th scope=col>V4</th><th scope=col>V5</th><th scope=col>V6</th><th scope=col>V7</th><th scope=col>V8</th><th scope=col>V9</th><th scope=col>V10</th><th scope=col>V11</th><th scope=col>V12</th><th scope=col>V13</th><th scope=col>V14</th><th scope=col>V15</th><th scope=col>V16</th><th scope=col>V17</th></tr>\n",
       "\t<tr><th></th><th scope=col>&lt;chr&gt;</th><th scope=col>&lt;int&gt;</th><th scope=col>&lt;int&gt;</th><th scope=col>&lt;chr&gt;</th><th scope=col>&lt;chr&gt;</th><th scope=col>&lt;chr&gt;</th><th scope=col>&lt;int&gt;</th><th scope=col>&lt;int&gt;</th><th scope=col>&lt;chr&gt;</th><th scope=col>&lt;int&gt;</th><th scope=col>&lt;chr&gt;</th><th scope=col>&lt;chr&gt;</th><th scope=col>&lt;chr&gt;</th><th scope=col>&lt;int&gt;</th><th scope=col>&lt;chr&gt;</th><th scope=col>&lt;chr&gt;</th><th scope=col>&lt;int&gt;</th></tr>\n",
       "</thead>\n",
       "<tbody>\n",
       "\t<tr><th scope=row>1</th><td>chr1</td><td>1017197</td><td>1051741</td><td>C1orf159    </td><td>;</td><td>chr1</td><td>1033495</td><td>1033496</td><td>TC</td><td>1</td><td>+</td><td>CCCATACCAGTTTACG</td><td>1:1</td><td>18</td><td>chr1_1033496</td><td>donor_ds_3_A_G </td><td>1</td></tr>\n",
       "\t<tr><th scope=row>2</th><td>chr1</td><td>1017197</td><td>1051741</td><td>C1orf159    </td><td>;</td><td>chr1</td><td>1033495</td><td>1033496</td><td>TC</td><td>2</td><td>+</td><td>CGATTGATCTGATACG</td><td>3:3</td><td>20</td><td>chr1_1033496</td><td>donor_ds_3_A_G </td><td>1</td></tr>\n",
       "\t<tr><th scope=row>3</th><td>chr1</td><td>1017197</td><td>1051741</td><td>C1orf159    </td><td>;</td><td>chr1</td><td>1033495</td><td>1033496</td><td>TC</td><td>1</td><td>+</td><td>GGGTTGCTCGATAGAA</td><td>2:2</td><td>23</td><td>chr1_1033496</td><td>donor_ds_3_A_G </td><td>1</td></tr>\n",
       "\t<tr><th scope=row>4</th><td>chr1</td><td>1210602</td><td>1215800</td><td>RP5-902P8.10</td><td>;</td><td>chr1</td><td>1215686</td><td>1215687</td><td>AG</td><td>1</td><td>+</td><td>GGGCACTAGTGTACCT</td><td>1:1</td><td>17</td><td>chr1_1215687</td><td>acceptor_us_4_N</td><td>1</td></tr>\n",
       "\t<tr><th scope=row>5</th><td>chr1</td><td>1210602</td><td>1215800</td><td>RP5-902P8.10</td><td>;</td><td>chr1</td><td>1215688</td><td>1215689</td><td>AG</td><td>1</td><td>-</td><td>GACTGCGAGGGCTTCC</td><td>1:1</td><td>17</td><td>chr1_1215689</td><td>acceptor_us_2_A</td><td>1</td></tr>\n",
       "\t<tr><th scope=row>6</th><td>chr1</td><td>1210602</td><td>1215800</td><td>RP5-902P8.10</td><td>;</td><td>chr1</td><td>1215686</td><td>1215687</td><td>AG</td><td>1</td><td>-</td><td>ATCCACCGTCACCTAA</td><td>1:1</td><td>18</td><td>chr1_1215687</td><td>acceptor_us_4_N</td><td>1</td></tr>\n",
       "</tbody>\n",
       "</table>\n"
      ],
      "text/latex": [
       "A data.frame: 6 × 17\n",
       "\\begin{tabular}{r|lllllllllllllllll}\n",
       "  & V1 & V2 & V3 & V4 & V5 & V6 & V7 & V8 & V9 & V10 & V11 & V12 & V13 & V14 & V15 & V16 & V17\\\\\n",
       "  & <chr> & <int> & <int> & <chr> & <chr> & <chr> & <int> & <int> & <chr> & <int> & <chr> & <chr> & <chr> & <int> & <chr> & <chr> & <int>\\\\\n",
       "\\hline\n",
       "\t1 & chr1 & 1017197 & 1051741 & C1orf159     & ; & chr1 & 1033495 & 1033496 & TC & 1 & + & CCCATACCAGTTTACG & 1:1 & 18 & chr1\\_1033496 & donor\\_ds\\_3\\_A\\_G  & 1\\\\\n",
       "\t2 & chr1 & 1017197 & 1051741 & C1orf159     & ; & chr1 & 1033495 & 1033496 & TC & 2 & + & CGATTGATCTGATACG & 3:3 & 20 & chr1\\_1033496 & donor\\_ds\\_3\\_A\\_G  & 1\\\\\n",
       "\t3 & chr1 & 1017197 & 1051741 & C1orf159     & ; & chr1 & 1033495 & 1033496 & TC & 1 & + & GGGTTGCTCGATAGAA & 2:2 & 23 & chr1\\_1033496 & donor\\_ds\\_3\\_A\\_G  & 1\\\\\n",
       "\t4 & chr1 & 1210602 & 1215800 & RP5-902P8.10 & ; & chr1 & 1215686 & 1215687 & AG & 1 & + & GGGCACTAGTGTACCT & 1:1 & 17 & chr1\\_1215687 & acceptor\\_us\\_4\\_N & 1\\\\\n",
       "\t5 & chr1 & 1210602 & 1215800 & RP5-902P8.10 & ; & chr1 & 1215688 & 1215689 & AG & 1 & - & GACTGCGAGGGCTTCC & 1:1 & 17 & chr1\\_1215689 & acceptor\\_us\\_2\\_A & 1\\\\\n",
       "\t6 & chr1 & 1210602 & 1215800 & RP5-902P8.10 & ; & chr1 & 1215686 & 1215687 & AG & 1 & - & ATCCACCGTCACCTAA & 1:1 & 18 & chr1\\_1215687 & acceptor\\_us\\_4\\_N & 1\\\\\n",
       "\\end{tabular}\n"
      ],
      "text/markdown": [
       "\n",
       "A data.frame: 6 × 17\n",
       "\n",
       "| <!--/--> | V1 &lt;chr&gt; | V2 &lt;int&gt; | V3 &lt;int&gt; | V4 &lt;chr&gt; | V5 &lt;chr&gt; | V6 &lt;chr&gt; | V7 &lt;int&gt; | V8 &lt;int&gt; | V9 &lt;chr&gt; | V10 &lt;int&gt; | V11 &lt;chr&gt; | V12 &lt;chr&gt; | V13 &lt;chr&gt; | V14 &lt;int&gt; | V15 &lt;chr&gt; | V16 &lt;chr&gt; | V17 &lt;int&gt; |\n",
       "|---|---|---|---|---|---|---|---|---|---|---|---|---|---|---|---|---|---|\n",
       "| 1 | chr1 | 1017197 | 1051741 | C1orf159     | ; | chr1 | 1033495 | 1033496 | TC | 1 | + | CCCATACCAGTTTACG | 1:1 | 18 | chr1_1033496 | donor_ds_3_A_G  | 1 |\n",
       "| 2 | chr1 | 1017197 | 1051741 | C1orf159     | ; | chr1 | 1033495 | 1033496 | TC | 2 | + | CGATTGATCTGATACG | 3:3 | 20 | chr1_1033496 | donor_ds_3_A_G  | 1 |\n",
       "| 3 | chr1 | 1017197 | 1051741 | C1orf159     | ; | chr1 | 1033495 | 1033496 | TC | 1 | + | GGGTTGCTCGATAGAA | 2:2 | 23 | chr1_1033496 | donor_ds_3_A_G  | 1 |\n",
       "| 4 | chr1 | 1210602 | 1215800 | RP5-902P8.10 | ; | chr1 | 1215686 | 1215687 | AG | 1 | + | GGGCACTAGTGTACCT | 1:1 | 17 | chr1_1215687 | acceptor_us_4_N | 1 |\n",
       "| 5 | chr1 | 1210602 | 1215800 | RP5-902P8.10 | ; | chr1 | 1215688 | 1215689 | AG | 1 | - | GACTGCGAGGGCTTCC | 1:1 | 17 | chr1_1215689 | acceptor_us_2_A | 1 |\n",
       "| 6 | chr1 | 1210602 | 1215800 | RP5-902P8.10 | ; | chr1 | 1215686 | 1215687 | AG | 1 | - | ATCCACCGTCACCTAA | 1:1 | 18 | chr1_1215687 | acceptor_us_4_N | 1 |\n",
       "\n"
      ],
      "text/plain": [
       "  V1   V2      V3      V4           V5 V6   V7      V8      V9 V10 V11\n",
       "1 chr1 1017197 1051741 C1orf159     ;  chr1 1033495 1033496 TC 1   +  \n",
       "2 chr1 1017197 1051741 C1orf159     ;  chr1 1033495 1033496 TC 2   +  \n",
       "3 chr1 1017197 1051741 C1orf159     ;  chr1 1033495 1033496 TC 1   +  \n",
       "4 chr1 1210602 1215800 RP5-902P8.10 ;  chr1 1215686 1215687 AG 1   +  \n",
       "5 chr1 1210602 1215800 RP5-902P8.10 ;  chr1 1215688 1215689 AG 1   -  \n",
       "6 chr1 1210602 1215800 RP5-902P8.10 ;  chr1 1215686 1215687 AG 1   -  \n",
       "  V12              V13 V14 V15          V16             V17\n",
       "1 CCCATACCAGTTTACG 1:1 18  chr1_1033496 donor_ds_3_A_G  1  \n",
       "2 CGATTGATCTGATACG 3:3 20  chr1_1033496 donor_ds_3_A_G  1  \n",
       "3 GGGTTGCTCGATAGAA 2:2 23  chr1_1033496 donor_ds_3_A_G  1  \n",
       "4 GGGCACTAGTGTACCT 1:1 17  chr1_1215687 acceptor_us_4_N 1  \n",
       "5 GACTGCGAGGGCTTCC 1:1 17  chr1_1215689 acceptor_us_2_A 1  \n",
       "6 ATCCACCGTCACCTAA 1:1 18  chr1_1215687 acceptor_us_4_N 1  "
      ]
     },
     "metadata": {},
     "output_type": "display_data"
    },
    {
     "data": {
      "text/html": [
       "<style>\n",
       ".list-inline {list-style: none; margin:0; padding: 0}\n",
       ".list-inline>li {display: inline-block}\n",
       ".list-inline>li:not(:last-child)::after {content: \"\\00b7\"; padding: 0 .5ex}\n",
       "</style>\n",
       "<ol class=list-inline><li>4306</li><li>17</li></ol>\n"
      ],
      "text/latex": [
       "\\begin{enumerate*}\n",
       "\\item 4306\n",
       "\\item 17\n",
       "\\end{enumerate*}\n"
      ],
      "text/markdown": [
       "1. 4306\n",
       "2. 17\n",
       "\n",
       "\n"
      ],
      "text/plain": [
       "[1] 4306   17"
      ]
     },
     "metadata": {},
     "output_type": "display_data"
    }
   ],
   "source": [
    "\n",
    "head(resInSpliceSites_WzGeneInfo)\n",
    "\n",
    "resInSpliceSites_WzGeneInfo_dedup <- resInSpliceSites_WzGeneInfo[!duplicated(resInSpliceSites_WzGeneInfo$V15),]\n",
    "#resInSpliceSites_WzGeneInfo_dedup维度：4306个位点落在基因的AS site及其上下游5bp的位置\n",
    "dim(resInSpliceSites_WzGeneInfo_dedup)"
   ]
  },
  {
   "cell_type": "code",
   "execution_count": 262,
   "metadata": {
    "vscode": {
     "languageId": "r"
    }
   },
   "outputs": [
    {
     "data": {
      "text/html": [
       "<style>\n",
       ".list-inline {list-style: none; margin:0; padding: 0}\n",
       ".list-inline>li {display: inline-block}\n",
       ".list-inline>li:not(:last-child)::after {content: \"\\00b7\"; padding: 0 .5ex}\n",
       "</style>\n",
       "<ol class=list-inline><li>'acceptor_us_1_G'</li><li>'acceptor_us_2_A'</li><li>'acceptor_us_3_C_T'</li><li>'acceptor_us_4_N'</li><li>'acceptor_us_5_C_T'</li><li>'branch_site_A'</li><li>'donor_ds_1_G'</li><li>'donor_ds_2_T'</li><li>'donor_ds_3_A_G'</li><li>'donor_ds_4_A'</li><li>'donor_ds_5_G'</li></ol>\n"
      ],
      "text/latex": [
       "\\begin{enumerate*}\n",
       "\\item 'acceptor\\_us\\_1\\_G'\n",
       "\\item 'acceptor\\_us\\_2\\_A'\n",
       "\\item 'acceptor\\_us\\_3\\_C\\_T'\n",
       "\\item 'acceptor\\_us\\_4\\_N'\n",
       "\\item 'acceptor\\_us\\_5\\_C\\_T'\n",
       "\\item 'branch\\_site\\_A'\n",
       "\\item 'donor\\_ds\\_1\\_G'\n",
       "\\item 'donor\\_ds\\_2\\_T'\n",
       "\\item 'donor\\_ds\\_3\\_A\\_G'\n",
       "\\item 'donor\\_ds\\_4\\_A'\n",
       "\\item 'donor\\_ds\\_5\\_G'\n",
       "\\end{enumerate*}\n"
      ],
      "text/markdown": [
       "1. 'acceptor_us_1_G'\n",
       "2. 'acceptor_us_2_A'\n",
       "3. 'acceptor_us_3_C_T'\n",
       "4. 'acceptor_us_4_N'\n",
       "5. 'acceptor_us_5_C_T'\n",
       "6. 'branch_site_A'\n",
       "7. 'donor_ds_1_G'\n",
       "8. 'donor_ds_2_T'\n",
       "9. 'donor_ds_3_A_G'\n",
       "10. 'donor_ds_4_A'\n",
       "11. 'donor_ds_5_G'\n",
       "\n",
       "\n"
      ],
      "text/plain": [
       " [1] \"acceptor_us_1_G\"   \"acceptor_us_2_A\"   \"acceptor_us_3_C_T\"\n",
       " [4] \"acceptor_us_4_N\"   \"acceptor_us_5_C_T\" \"branch_site_A\"    \n",
       " [7] \"donor_ds_1_G\"      \"donor_ds_2_T\"      \"donor_ds_3_A_G\"   \n",
       "[10] \"donor_ds_4_A\"      \"donor_ds_5_G\"     "
      ]
     },
     "metadata": {},
     "output_type": "display_data"
    }
   ],
   "source": [
    "names(table(resInSpliceSites$V11))"
   ]
  },
  {
   "cell_type": "code",
   "execution_count": 16,
   "metadata": {
    "vscode": {
     "languageId": "r"
    }
   },
   "outputs": [
    {
     "data": {
      "text/plain": [
       "\n",
       "     JPX    ZNF83    MARK3 OIP5-AS1 TPT1-AS1   AKNAD1   SUZ12P    CDC27 \n",
       "      25       13       12       12       12       11       11       10 \n",
       "    CTSB  FAM153B \n",
       "      10       10 "
      ]
     },
     "metadata": {},
     "output_type": "display_data"
    },
    {
     "data": {
      "text/html": [
       "2295"
      ],
      "text/latex": [
       "2295"
      ],
      "text/markdown": [
       "2295"
      ],
      "text/plain": [
       "[1] 2295"
      ]
     },
     "metadata": {},
     "output_type": "display_data"
    }
   ],
   "source": [
    "sort(table(resInSpliceSites_WzGeneInfo_dedup$V4),decreasing=T)[1:10]\n",
    "#2295个候选基因，数量太多，根据res类型及其发生的位点设置过滤条件\n",
    "length(names(table(resInSpliceSites_WzGeneInfo_dedup$V4)))\n"
   ]
  },
  {
   "cell_type": "code",
   "execution_count": 265,
   "metadata": {
    "vscode": {
     "languageId": "r"
    }
   },
   "outputs": [
    {
     "data": {
      "text/html": [
       "<table class=\"dataframe\">\n",
       "<caption>A data.frame: 6 × 17</caption>\n",
       "<thead>\n",
       "\t<tr><th></th><th scope=col>V1</th><th scope=col>V2</th><th scope=col>V3</th><th scope=col>V4</th><th scope=col>V5</th><th scope=col>V6</th><th scope=col>V7</th><th scope=col>V8</th><th scope=col>V9</th><th scope=col>V10</th><th scope=col>V11</th><th scope=col>V12</th><th scope=col>V13</th><th scope=col>V14</th><th scope=col>V15</th><th scope=col>V16</th><th scope=col>V17</th></tr>\n",
       "\t<tr><th></th><th scope=col>&lt;chr&gt;</th><th scope=col>&lt;int&gt;</th><th scope=col>&lt;int&gt;</th><th scope=col>&lt;chr&gt;</th><th scope=col>&lt;chr&gt;</th><th scope=col>&lt;chr&gt;</th><th scope=col>&lt;int&gt;</th><th scope=col>&lt;int&gt;</th><th scope=col>&lt;chr&gt;</th><th scope=col>&lt;int&gt;</th><th scope=col>&lt;chr&gt;</th><th scope=col>&lt;chr&gt;</th><th scope=col>&lt;chr&gt;</th><th scope=col>&lt;int&gt;</th><th scope=col>&lt;chr&gt;</th><th scope=col>&lt;chr&gt;</th><th scope=col>&lt;int&gt;</th></tr>\n",
       "</thead>\n",
       "<tbody>\n",
       "\t<tr><th scope=row>1</th><td>chr1</td><td>1017197</td><td>1051741</td><td>C1orf159    </td><td>;</td><td>chr1</td><td>1033495</td><td>1033496</td><td>TC</td><td>1</td><td>+</td><td>CCCATACCAGTTTACG</td><td>1:1</td><td>18</td><td>chr1_1033496</td><td>donor_ds_3_A_G   </td><td>1</td></tr>\n",
       "\t<tr><th scope=row>4</th><td>chr1</td><td>1210602</td><td>1215800</td><td>RP5-902P8.10</td><td>;</td><td>chr1</td><td>1215686</td><td>1215687</td><td>AG</td><td>1</td><td>+</td><td>GGGCACTAGTGTACCT</td><td>1:1</td><td>17</td><td>chr1_1215687</td><td>acceptor_us_4_N  </td><td>1</td></tr>\n",
       "\t<tr><th scope=row>5</th><td>chr1</td><td>1210602</td><td>1215800</td><td>RP5-902P8.10</td><td>;</td><td>chr1</td><td>1215688</td><td>1215689</td><td>AG</td><td>1</td><td>-</td><td>GACTGCGAGGGCTTCC</td><td>1:1</td><td>17</td><td>chr1_1215689</td><td>acceptor_us_2_A  </td><td>1</td></tr>\n",
       "\t<tr><th scope=row>9</th><td>chr1</td><td>1407142</td><td>1433228</td><td>ATAD3B      </td><td>;</td><td>chr1</td><td>1419947</td><td>1419948</td><td>AG</td><td>3</td><td>+</td><td>CGATGTATCCGGCACA</td><td>3:3</td><td>18</td><td>chr1_1419948</td><td>acceptor_us_1_G  </td><td>1</td></tr>\n",
       "\t<tr><th scope=row>11</th><td>chr1</td><td>1570602</td><td>1590473</td><td>CDK11B      </td><td>;</td><td>chr1</td><td>1580934</td><td>1580935</td><td>TC</td><td>3</td><td>+</td><td>CGTCAGGTCCGTAGGC</td><td>3:3</td><td>17</td><td>chr1_1580935</td><td>acceptor_us_5_C_T</td><td>1</td></tr>\n",
       "\t<tr><th scope=row>12</th><td>chr1</td><td>1570602</td><td>1590473</td><td>CDK11B      </td><td>;</td><td>chr1</td><td>1580967</td><td>1580968</td><td>TC</td><td>3</td><td>+</td><td>CTACGTCAGTAGATGT</td><td>3:3</td><td>17</td><td>chr1_1580968</td><td>acceptor_us_4_N  </td><td>1</td></tr>\n",
       "</tbody>\n",
       "</table>\n"
      ],
      "text/latex": [
       "A data.frame: 6 × 17\n",
       "\\begin{tabular}{r|lllllllllllllllll}\n",
       "  & V1 & V2 & V3 & V4 & V5 & V6 & V7 & V8 & V9 & V10 & V11 & V12 & V13 & V14 & V15 & V16 & V17\\\\\n",
       "  & <chr> & <int> & <int> & <chr> & <chr> & <chr> & <int> & <int> & <chr> & <int> & <chr> & <chr> & <chr> & <int> & <chr> & <chr> & <int>\\\\\n",
       "\\hline\n",
       "\t1 & chr1 & 1017197 & 1051741 & C1orf159     & ; & chr1 & 1033495 & 1033496 & TC & 1 & + & CCCATACCAGTTTACG & 1:1 & 18 & chr1\\_1033496 & donor\\_ds\\_3\\_A\\_G    & 1\\\\\n",
       "\t4 & chr1 & 1210602 & 1215800 & RP5-902P8.10 & ; & chr1 & 1215686 & 1215687 & AG & 1 & + & GGGCACTAGTGTACCT & 1:1 & 17 & chr1\\_1215687 & acceptor\\_us\\_4\\_N   & 1\\\\\n",
       "\t5 & chr1 & 1210602 & 1215800 & RP5-902P8.10 & ; & chr1 & 1215688 & 1215689 & AG & 1 & - & GACTGCGAGGGCTTCC & 1:1 & 17 & chr1\\_1215689 & acceptor\\_us\\_2\\_A   & 1\\\\\n",
       "\t9 & chr1 & 1407142 & 1433228 & ATAD3B       & ; & chr1 & 1419947 & 1419948 & AG & 3 & + & CGATGTATCCGGCACA & 3:3 & 18 & chr1\\_1419948 & acceptor\\_us\\_1\\_G   & 1\\\\\n",
       "\t11 & chr1 & 1570602 & 1590473 & CDK11B       & ; & chr1 & 1580934 & 1580935 & TC & 3 & + & CGTCAGGTCCGTAGGC & 3:3 & 17 & chr1\\_1580935 & acceptor\\_us\\_5\\_C\\_T & 1\\\\\n",
       "\t12 & chr1 & 1570602 & 1590473 & CDK11B       & ; & chr1 & 1580967 & 1580968 & TC & 3 & + & CTACGTCAGTAGATGT & 3:3 & 17 & chr1\\_1580968 & acceptor\\_us\\_4\\_N   & 1\\\\\n",
       "\\end{tabular}\n"
      ],
      "text/markdown": [
       "\n",
       "A data.frame: 6 × 17\n",
       "\n",
       "| <!--/--> | V1 &lt;chr&gt; | V2 &lt;int&gt; | V3 &lt;int&gt; | V4 &lt;chr&gt; | V5 &lt;chr&gt; | V6 &lt;chr&gt; | V7 &lt;int&gt; | V8 &lt;int&gt; | V9 &lt;chr&gt; | V10 &lt;int&gt; | V11 &lt;chr&gt; | V12 &lt;chr&gt; | V13 &lt;chr&gt; | V14 &lt;int&gt; | V15 &lt;chr&gt; | V16 &lt;chr&gt; | V17 &lt;int&gt; |\n",
       "|---|---|---|---|---|---|---|---|---|---|---|---|---|---|---|---|---|---|\n",
       "| 1 | chr1 | 1017197 | 1051741 | C1orf159     | ; | chr1 | 1033495 | 1033496 | TC | 1 | + | CCCATACCAGTTTACG | 1:1 | 18 | chr1_1033496 | donor_ds_3_A_G    | 1 |\n",
       "| 4 | chr1 | 1210602 | 1215800 | RP5-902P8.10 | ; | chr1 | 1215686 | 1215687 | AG | 1 | + | GGGCACTAGTGTACCT | 1:1 | 17 | chr1_1215687 | acceptor_us_4_N   | 1 |\n",
       "| 5 | chr1 | 1210602 | 1215800 | RP5-902P8.10 | ; | chr1 | 1215688 | 1215689 | AG | 1 | - | GACTGCGAGGGCTTCC | 1:1 | 17 | chr1_1215689 | acceptor_us_2_A   | 1 |\n",
       "| 9 | chr1 | 1407142 | 1433228 | ATAD3B       | ; | chr1 | 1419947 | 1419948 | AG | 3 | + | CGATGTATCCGGCACA | 3:3 | 18 | chr1_1419948 | acceptor_us_1_G   | 1 |\n",
       "| 11 | chr1 | 1570602 | 1590473 | CDK11B       | ; | chr1 | 1580934 | 1580935 | TC | 3 | + | CGTCAGGTCCGTAGGC | 3:3 | 17 | chr1_1580935 | acceptor_us_5_C_T | 1 |\n",
       "| 12 | chr1 | 1570602 | 1590473 | CDK11B       | ; | chr1 | 1580967 | 1580968 | TC | 3 | + | CTACGTCAGTAGATGT | 3:3 | 17 | chr1_1580968 | acceptor_us_4_N   | 1 |\n",
       "\n"
      ],
      "text/plain": [
       "   V1   V2      V3      V4           V5 V6   V7      V8      V9 V10 V11\n",
       "1  chr1 1017197 1051741 C1orf159     ;  chr1 1033495 1033496 TC 1   +  \n",
       "4  chr1 1210602 1215800 RP5-902P8.10 ;  chr1 1215686 1215687 AG 1   +  \n",
       "5  chr1 1210602 1215800 RP5-902P8.10 ;  chr1 1215688 1215689 AG 1   -  \n",
       "9  chr1 1407142 1433228 ATAD3B       ;  chr1 1419947 1419948 AG 3   +  \n",
       "11 chr1 1570602 1590473 CDK11B       ;  chr1 1580934 1580935 TC 3   +  \n",
       "12 chr1 1570602 1590473 CDK11B       ;  chr1 1580967 1580968 TC 3   +  \n",
       "   V12              V13 V14 V15          V16               V17\n",
       "1  CCCATACCAGTTTACG 1:1 18  chr1_1033496 donor_ds_3_A_G    1  \n",
       "4  GGGCACTAGTGTACCT 1:1 17  chr1_1215687 acceptor_us_4_N   1  \n",
       "5  GACTGCGAGGGCTTCC 1:1 17  chr1_1215689 acceptor_us_2_A   1  \n",
       "9  CGATGTATCCGGCACA 3:3 18  chr1_1419948 acceptor_us_1_G   1  \n",
       "11 CGTCAGGTCCGTAGGC 3:3 17  chr1_1580935 acceptor_us_5_C_T 1  \n",
       "12 CTACGTCAGTAGATGT 3:3 17  chr1_1580968 acceptor_us_4_N   1  "
      ]
     },
     "metadata": {},
     "output_type": "display_data"
    }
   ],
   "source": [
    "head(resInSpliceSites_WzGeneInfo_dedup)\n"
   ]
  },
  {
   "cell_type": "code",
   "execution_count": 273,
   "metadata": {
    "vscode": {
     "languageId": "r"
    }
   },
   "outputs": [],
   "source": [
    "\n",
    "judge_AS <- function(x){\n",
    "    site_info=x[16]\n",
    "    res_type=x[9]\n",
    "    flag1 <- site_info == 'acceptor_us_1_G' & res_type=='AG'\n",
    "    flag2 <- site_info == 'acceptor_us_2_A' & res_type=='AG'\n",
    "    flag3 <- site_info == 'branch_site_A' & res_type=='AG'\n",
    "    flag4 <- site_info == 'branch_site_A' & res_type=='AG'\n",
    "    flag5 <- site_info == 'donor_ds_1_G' & res_type=='AG'\n",
    "    flag6 <- site_info == 'donor_ds_2_T' & res_type=='TC'\n",
    "\n",
    "    if(flag1 | flag2 | flag3 | flag4 | flag5 | flag6){\n",
    "        return(x)\n",
    "    }   \n",
    "}\n"
   ]
  },
  {
   "cell_type": "code",
   "execution_count": 17,
   "metadata": {
    "vscode": {
     "languageId": "r"
    }
   },
   "outputs": [],
   "source": [
    "resInSpliceSites_WzGeneInfo_dedup_filtered <- c()\n",
    "for(i in 1:nrow(resInSpliceSites_WzGeneInfo_dedup)){\n",
    "    site_info=resInSpliceSites_WzGeneInfo_dedup[i,16]\n",
    "    res_type=resInSpliceSites_WzGeneInfo_dedup[i,9]\n",
    "    flag1 <- site_info == 'acceptor_us_1_G' & res_type=='AG'\n",
    "    flag2 <- site_info == 'acceptor_us_2_A' & res_type=='AG'\n",
    "    flag3 <- site_info == 'branch_site_A' & res_type=='AG'\n",
    "    flag4 <- site_info == 'branch_site_A' & res_type=='AG'\n",
    "    flag5 <- site_info == 'donor_ds_1_G' & res_type=='AG'\n",
    "    flag6 <- site_info == 'donor_ds_2_T' & res_type=='TC'\n",
    "\n",
    "    if(flag1 | flag2 | flag3 | flag4 | flag5 | flag6){\n",
    "        resInSpliceSites_WzGeneInfo_dedup_filtered <- rbind(resInSpliceSites_WzGeneInfo_dedup_filtered,resInSpliceSites_WzGeneInfo_dedup[i,])\n",
    "    }   \n",
    "}\n",
    "\n"
   ]
  },
  {
   "cell_type": "code",
   "execution_count": null,
   "metadata": {
    "vscode": {
     "languageId": "r"
    }
   },
   "outputs": [],
   "source": [
    "#按中心法则，若该位点发生mRNA发生A-to-G，则DNA序列看到的应该是TC（正链），AG（负链）\n",
    "resInSpliceSites_WzGeneInfo_dedup_filtered <- c()\n",
    "for(i in 1:nrow(resInSpliceSites_WzGeneInfo_dedup)){\n",
    "    site_info=resInSpliceSites_WzGeneInfo_dedup[i,16]\n",
    "    res_type=resInSpliceSites_WzGeneInfo_dedup[i,9]\n",
    "    flag1 <- site_info == 'acceptor_us_1_G' & res_type=='AG'\n",
    "    flag2 <- site_info == 'acceptor_us_2_A' & res_type=='AG'\n",
    "    flag3 <- site_info == 'branch_site_A' & res_type=='AG'\n",
    "    flag4 <- site_info == 'branch_site_A' & res_type=='AG'\n",
    "    flag5 <- site_info == 'donor_ds_1_G' & res_type=='AG'\n",
    "    flag6 <- site_info == 'donor_ds_2_T' & res_type=='TC'\n",
    "\n",
    "    if(flag1 | flag2 | flag3 | flag4 | flag5 | flag6){\n",
    "        resInSpliceSites_WzGeneInfo_dedup_filtered <- rbind(resInSpliceSites_WzGeneInfo_dedup_filtered,resInSpliceSites_WzGeneInfo_dedup[i,])\n",
    "    }   \n",
    "}\n"
   ]
  },
  {
   "cell_type": "code",
   "execution_count": 18,
   "metadata": {
    "vscode": {
     "languageId": "r"
    }
   },
   "outputs": [
    {
     "data": {
      "text/html": [
       "<style>\n",
       ".list-inline {list-style: none; margin:0; padding: 0}\n",
       ".list-inline>li {display: inline-block}\n",
       ".list-inline>li:not(:last-child)::after {content: \"\\00b7\"; padding: 0 .5ex}\n",
       "</style>\n",
       "<ol class=list-inline><li>1610</li><li>17</li></ol>\n"
      ],
      "text/latex": [
       "\\begin{enumerate*}\n",
       "\\item 1610\n",
       "\\item 17\n",
       "\\end{enumerate*}\n"
      ],
      "text/markdown": [
       "1. 1610\n",
       "2. 17\n",
       "\n",
       "\n"
      ],
      "text/plain": [
       "[1] 1610   17"
      ]
     },
     "metadata": {},
     "output_type": "display_data"
    },
    {
     "data": {
      "text/html": [
       "1273"
      ],
      "text/latex": [
       "1273"
      ],
      "text/markdown": [
       "1273"
      ],
      "text/plain": [
       "[1] 1273"
      ]
     },
     "metadata": {},
     "output_type": "display_data"
    }
   ],
   "source": [
    "dim(resInSpliceSites_WzGeneInfo_dedup_filtered)\n",
    "#过滤后仍剩1273个基因，范围仍然很大\n",
    "length(unique(resInSpliceSites_WzGeneInfo_dedup_filtered$V4))\n"
   ]
  },
  {
   "cell_type": "code",
   "execution_count": 21,
   "metadata": {
    "vscode": {
     "languageId": "r"
    }
   },
   "outputs": [
    {
     "data": {
      "text/html": [
       "<style>\n",
       ".list-inline {list-style: none; margin:0; padding: 0}\n",
       ".list-inline>li {display: inline-block}\n",
       ".list-inline>li:not(:last-child)::after {content: \"\\00b7\"; padding: 0 .5ex}\n",
       "</style>\n",
       "<ol class=list-inline><li>'COPS7B'</li><li>'DNAJC10'</li><li>'ENTPD5'</li><li>'FAM193A'</li><li>'FRS2'</li><li>'MRI1'</li><li>'NPL'</li><li>'PALB2'</li><li>'TATDN3'</li><li>'TMEM198B'</li><li>'ZNF774'</li></ol>\n"
      ],
      "text/latex": [
       "\\begin{enumerate*}\n",
       "\\item 'COPS7B'\n",
       "\\item 'DNAJC10'\n",
       "\\item 'ENTPD5'\n",
       "\\item 'FAM193A'\n",
       "\\item 'FRS2'\n",
       "\\item 'MRI1'\n",
       "\\item 'NPL'\n",
       "\\item 'PALB2'\n",
       "\\item 'TATDN3'\n",
       "\\item 'TMEM198B'\n",
       "\\item 'ZNF774'\n",
       "\\end{enumerate*}\n"
      ],
      "text/markdown": [
       "1. 'COPS7B'\n",
       "2. 'DNAJC10'\n",
       "3. 'ENTPD5'\n",
       "4. 'FAM193A'\n",
       "5. 'FRS2'\n",
       "6. 'MRI1'\n",
       "7. 'NPL'\n",
       "8. 'PALB2'\n",
       "9. 'TATDN3'\n",
       "10. 'TMEM198B'\n",
       "11. 'ZNF774'\n",
       "\n",
       "\n"
      ],
      "text/plain": [
       " [1] \"COPS7B\"   \"DNAJC10\"  \"ENTPD5\"   \"FAM193A\"  \"FRS2\"     \"MRI1\"    \n",
       " [7] \"NPL\"      \"PALB2\"    \"TATDN3\"   \"TMEM198B\" \"ZNF774\"  "
      ]
     },
     "metadata": {},
     "output_type": "display_data"
    }
   ],
   "source": [
    "#与有switch后果的基因做交叉\n",
    "#得到'COPS7B''DNAJC10''ENTPD5''FAM193A''FRS2''MRI1''NPL''PALB2''TATDN3''TMEM198B''ZNF774'共11个基因\n",
    "final_genes <- intersect(switch_cons$gene_id,unique(resInSpliceSites_WzGeneInfo_dedup$V4))\n",
    "final_genes"
   ]
  },
  {
   "cell_type": "code",
   "execution_count": 22,
   "metadata": {
    "vscode": {
     "languageId": "r"
    }
   },
   "outputs": [
    {
     "data": {
      "text/html": [
       "12"
      ],
      "text/latex": [
       "12"
      ],
      "text/markdown": [
       "12"
      ],
      "text/plain": [
       "[1] 12"
      ]
     },
     "metadata": {},
     "output_type": "display_data"
    },
    {
     "data": {
      "text/html": [
       "<style>\n",
       ".list-inline {list-style: none; margin:0; padding: 0}\n",
       ".list-inline>li {display: inline-block}\n",
       ".list-inline>li:not(:last-child)::after {content: \"\\00b7\"; padding: 0 .5ex}\n",
       "</style>\n",
       "<ol class=list-inline><li>'COPS7B'</li><li>'DNAJC10'</li><li>'ENTPD5'</li><li>'FAM193A'</li><li>'FRS2'</li><li>'MRI1'</li><li>'NPL'</li><li>'PALB2'</li><li>'TATDN3'</li><li>'TMEM198B'</li><li>'ZNF774'</li><li>'MAN2B1'</li></ol>\n"
      ],
      "text/latex": [
       "\\begin{enumerate*}\n",
       "\\item 'COPS7B'\n",
       "\\item 'DNAJC10'\n",
       "\\item 'ENTPD5'\n",
       "\\item 'FAM193A'\n",
       "\\item 'FRS2'\n",
       "\\item 'MRI1'\n",
       "\\item 'NPL'\n",
       "\\item 'PALB2'\n",
       "\\item 'TATDN3'\n",
       "\\item 'TMEM198B'\n",
       "\\item 'ZNF774'\n",
       "\\item 'MAN2B1'\n",
       "\\end{enumerate*}\n"
      ],
      "text/markdown": [
       "1. 'COPS7B'\n",
       "2. 'DNAJC10'\n",
       "3. 'ENTPD5'\n",
       "4. 'FAM193A'\n",
       "5. 'FRS2'\n",
       "6. 'MRI1'\n",
       "7. 'NPL'\n",
       "8. 'PALB2'\n",
       "9. 'TATDN3'\n",
       "10. 'TMEM198B'\n",
       "11. 'ZNF774'\n",
       "12. 'MAN2B1'\n",
       "\n",
       "\n"
      ],
      "text/plain": [
       " [1] \"COPS7B\"   \"DNAJC10\"  \"ENTPD5\"   \"FAM193A\"  \"FRS2\"     \"MRI1\"    \n",
       " [7] \"NPL\"      \"PALB2\"    \"TATDN3\"   \"TMEM198B\" \"ZNF774\"   \"MAN2B1\"  "
      ]
     },
     "metadata": {},
     "output_type": "display_data"
    },
    {
     "data": {
      "text/html": [
       "<table class=\"dataframe\">\n",
       "<caption>A data.frame: 3 × 17</caption>\n",
       "<thead>\n",
       "\t<tr><th></th><th scope=col>V1</th><th scope=col>V2</th><th scope=col>V3</th><th scope=col>V4</th><th scope=col>V5</th><th scope=col>V6</th><th scope=col>V7</th><th scope=col>V8</th><th scope=col>V9</th><th scope=col>V10</th><th scope=col>V11</th><th scope=col>V12</th><th scope=col>V13</th><th scope=col>V14</th><th scope=col>V15</th><th scope=col>V16</th><th scope=col>V17</th></tr>\n",
       "\t<tr><th></th><th scope=col>&lt;chr&gt;</th><th scope=col>&lt;int&gt;</th><th scope=col>&lt;int&gt;</th><th scope=col>&lt;chr&gt;</th><th scope=col>&lt;chr&gt;</th><th scope=col>&lt;chr&gt;</th><th scope=col>&lt;int&gt;</th><th scope=col>&lt;int&gt;</th><th scope=col>&lt;chr&gt;</th><th scope=col>&lt;int&gt;</th><th scope=col>&lt;chr&gt;</th><th scope=col>&lt;chr&gt;</th><th scope=col>&lt;chr&gt;</th><th scope=col>&lt;int&gt;</th><th scope=col>&lt;chr&gt;</th><th scope=col>&lt;chr&gt;</th><th scope=col>&lt;int&gt;</th></tr>\n",
       "</thead>\n",
       "<tbody>\n",
       "\t<tr><th scope=row>13102</th><td>chr2</td><td>183580998</td><td>183659191</td><td>DNAJC10</td><td>;</td><td>chr2</td><td>183587952</td><td>183587953</td><td>AG</td><td>1</td><td>+</td><td>CATCGAACAGTGGGAT</td><td>7:7</td><td>17</td><td>chr2_183587953</td><td>acceptor_us_2_A</td><td>1</td></tr>\n",
       "\t<tr><th scope=row>13104</th><td>chr2</td><td>183580998</td><td>183659191</td><td>DNAJC10</td><td>;</td><td>chr2</td><td>183587519</td><td>183587520</td><td>AG</td><td>1</td><td>+</td><td>TGCTACCTCAGTCCCT</td><td>4:4</td><td>18</td><td>chr2_183587520</td><td>donor_ds_3_A_G </td><td>1</td></tr>\n",
       "\t<tr><th scope=row>13117</th><td>chr2</td><td>183580998</td><td>183659191</td><td>DNAJC10</td><td>;</td><td>chr2</td><td>183588113</td><td>183588114</td><td>AG</td><td>1</td><td>-</td><td>GCATGCGAGTACGACG</td><td>1:1</td><td>23</td><td>chr2_183588114</td><td>donor_ds_4_A   </td><td>1</td></tr>\n",
       "</tbody>\n",
       "</table>\n"
      ],
      "text/latex": [
       "A data.frame: 3 × 17\n",
       "\\begin{tabular}{r|lllllllllllllllll}\n",
       "  & V1 & V2 & V3 & V4 & V5 & V6 & V7 & V8 & V9 & V10 & V11 & V12 & V13 & V14 & V15 & V16 & V17\\\\\n",
       "  & <chr> & <int> & <int> & <chr> & <chr> & <chr> & <int> & <int> & <chr> & <int> & <chr> & <chr> & <chr> & <int> & <chr> & <chr> & <int>\\\\\n",
       "\\hline\n",
       "\t13102 & chr2 & 183580998 & 183659191 & DNAJC10 & ; & chr2 & 183587952 & 183587953 & AG & 1 & + & CATCGAACAGTGGGAT & 7:7 & 17 & chr2\\_183587953 & acceptor\\_us\\_2\\_A & 1\\\\\n",
       "\t13104 & chr2 & 183580998 & 183659191 & DNAJC10 & ; & chr2 & 183587519 & 183587520 & AG & 1 & + & TGCTACCTCAGTCCCT & 4:4 & 18 & chr2\\_183587520 & donor\\_ds\\_3\\_A\\_G  & 1\\\\\n",
       "\t13117 & chr2 & 183580998 & 183659191 & DNAJC10 & ; & chr2 & 183588113 & 183588114 & AG & 1 & - & GCATGCGAGTACGACG & 1:1 & 23 & chr2\\_183588114 & donor\\_ds\\_4\\_A    & 1\\\\\n",
       "\\end{tabular}\n"
      ],
      "text/markdown": [
       "\n",
       "A data.frame: 3 × 17\n",
       "\n",
       "| <!--/--> | V1 &lt;chr&gt; | V2 &lt;int&gt; | V3 &lt;int&gt; | V4 &lt;chr&gt; | V5 &lt;chr&gt; | V6 &lt;chr&gt; | V7 &lt;int&gt; | V8 &lt;int&gt; | V9 &lt;chr&gt; | V10 &lt;int&gt; | V11 &lt;chr&gt; | V12 &lt;chr&gt; | V13 &lt;chr&gt; | V14 &lt;int&gt; | V15 &lt;chr&gt; | V16 &lt;chr&gt; | V17 &lt;int&gt; |\n",
       "|---|---|---|---|---|---|---|---|---|---|---|---|---|---|---|---|---|---|\n",
       "| 13102 | chr2 | 183580998 | 183659191 | DNAJC10 | ; | chr2 | 183587952 | 183587953 | AG | 1 | + | CATCGAACAGTGGGAT | 7:7 | 17 | chr2_183587953 | acceptor_us_2_A | 1 |\n",
       "| 13104 | chr2 | 183580998 | 183659191 | DNAJC10 | ; | chr2 | 183587519 | 183587520 | AG | 1 | + | TGCTACCTCAGTCCCT | 4:4 | 18 | chr2_183587520 | donor_ds_3_A_G  | 1 |\n",
       "| 13117 | chr2 | 183580998 | 183659191 | DNAJC10 | ; | chr2 | 183588113 | 183588114 | AG | 1 | - | GCATGCGAGTACGACG | 1:1 | 23 | chr2_183588114 | donor_ds_4_A    | 1 |\n",
       "\n"
      ],
      "text/plain": [
       "      V1   V2        V3        V4      V5 V6   V7        V8        V9 V10 V11\n",
       "13102 chr2 183580998 183659191 DNAJC10 ;  chr2 183587952 183587953 AG 1   +  \n",
       "13104 chr2 183580998 183659191 DNAJC10 ;  chr2 183587519 183587520 AG 1   +  \n",
       "13117 chr2 183580998 183659191 DNAJC10 ;  chr2 183588113 183588114 AG 1   -  \n",
       "      V12              V13 V14 V15            V16             V17\n",
       "13102 CATCGAACAGTGGGAT 7:7 17  chr2_183587953 acceptor_us_2_A 1  \n",
       "13104 TGCTACCTCAGTCCCT 4:4 18  chr2_183587520 donor_ds_3_A_G  1  \n",
       "13117 GCATGCGAGTACGACG 1:1 23  chr2_183588114 donor_ds_4_A    1  "
      ]
     },
     "metadata": {},
     "output_type": "display_data"
    },
    {
     "data": {
      "text/html": [
       "<table class=\"dataframe\">\n",
       "<caption>A data.frame: 10 × 13</caption>\n",
       "<thead>\n",
       "\t<tr><th></th><th scope=col>X</th><th scope=col>gene_ref</th><th scope=col>gene_id</th><th scope=col>gene_name</th><th scope=col>condition_1</th><th scope=col>condition_2</th><th scope=col>isoformUpregulated</th><th scope=col>isoformDownregulated</th><th scope=col>iso_ref_up</th><th scope=col>iso_ref_down</th><th scope=col>featureCompared</th><th scope=col>isoformsDifferent</th><th scope=col>switchConsequence</th></tr>\n",
       "\t<tr><th></th><th scope=col>&lt;int&gt;</th><th scope=col>&lt;chr&gt;</th><th scope=col>&lt;chr&gt;</th><th scope=col>&lt;chr&gt;</th><th scope=col>&lt;chr&gt;</th><th scope=col>&lt;chr&gt;</th><th scope=col>&lt;chr&gt;</th><th scope=col>&lt;chr&gt;</th><th scope=col>&lt;chr&gt;</th><th scope=col>&lt;chr&gt;</th><th scope=col>&lt;chr&gt;</th><th scope=col>&lt;lgl&gt;</th><th scope=col>&lt;chr&gt;</th></tr>\n",
       "</thead>\n",
       "<tbody>\n",
       "\t<tr><th scope=row>81</th><td>81</td><td>geneComp_00006005</td><td>DNAJC10</td><td>DNAJC10</td><td>ASD</td><td>Control</td><td>ENST00000469118.5_1</td><td>ENST00000680480.1_1</td><td>isoComp_00027369</td><td>isoComp_00027379</td><td>intron_retention  </td><td> TRUE</td><td>Intron retention loss  </td></tr>\n",
       "\t<tr><th scope=row>82</th><td>82</td><td>geneComp_00006005</td><td>DNAJC10</td><td>DNAJC10</td><td>ASD</td><td>Control</td><td>ENST00000469118.5_1</td><td>ENST00000680480.1_1</td><td>isoComp_00027369</td><td>isoComp_00027379</td><td>coding_potential  </td><td> TRUE</td><td>Transcript is Noncoding</td></tr>\n",
       "\t<tr><th scope=row>83</th><td>83</td><td>geneComp_00006005</td><td>DNAJC10</td><td>DNAJC10</td><td>ASD</td><td>Control</td><td>ENST00000469118.5_1</td><td>ENST00000680480.1_1</td><td>isoComp_00027369</td><td>isoComp_00027379</td><td>ORF_seq_similarity</td><td> TRUE</td><td>ORF is shorter         </td></tr>\n",
       "\t<tr><th scope=row>84</th><td>84</td><td>geneComp_00006005</td><td>DNAJC10</td><td>DNAJC10</td><td>ASD</td><td>Control</td><td>ENST00000469118.5_1</td><td>ENST00000680480.1_1</td><td>isoComp_00027369</td><td>isoComp_00027379</td><td>NMD_status        </td><td>FALSE</td><td>NA                     </td></tr>\n",
       "\t<tr><th scope=row>85</th><td>85</td><td>geneComp_00006005</td><td>DNAJC10</td><td>DNAJC10</td><td>ASD</td><td>Control</td><td>ENST00000469118.5_1</td><td>ENST00000680480.1_1</td><td>isoComp_00027369</td><td>isoComp_00027379</td><td>domains_identified</td><td> TRUE</td><td>Domain loss            </td></tr>\n",
       "\t<tr><th scope=row>86</th><td>86</td><td>geneComp_00006005</td><td>DNAJC10</td><td>DNAJC10</td><td>ASD</td><td>Control</td><td>ENST00000469118.5_1</td><td>ENST00000680648.1_1</td><td>isoComp_00027369</td><td>isoComp_00027381</td><td>intron_retention  </td><td>FALSE</td><td>NA                     </td></tr>\n",
       "\t<tr><th scope=row>87</th><td>87</td><td>geneComp_00006005</td><td>DNAJC10</td><td>DNAJC10</td><td>ASD</td><td>Control</td><td>ENST00000469118.5_1</td><td>ENST00000680648.1_1</td><td>isoComp_00027369</td><td>isoComp_00027381</td><td>coding_potential  </td><td>FALSE</td><td>NA                     </td></tr>\n",
       "\t<tr><th scope=row>88</th><td>88</td><td>geneComp_00006005</td><td>DNAJC10</td><td>DNAJC10</td><td>ASD</td><td>Control</td><td>ENST00000469118.5_1</td><td>ENST00000680648.1_1</td><td>isoComp_00027369</td><td>isoComp_00027381</td><td>ORF_seq_similarity</td><td> TRUE</td><td>ORF is shorter         </td></tr>\n",
       "\t<tr><th scope=row>89</th><td>89</td><td>geneComp_00006005</td><td>DNAJC10</td><td>DNAJC10</td><td>ASD</td><td>Control</td><td>ENST00000469118.5_1</td><td>ENST00000680648.1_1</td><td>isoComp_00027369</td><td>isoComp_00027381</td><td>NMD_status        </td><td>FALSE</td><td>NA                     </td></tr>\n",
       "\t<tr><th scope=row>90</th><td>90</td><td>geneComp_00006005</td><td>DNAJC10</td><td>DNAJC10</td><td>ASD</td><td>Control</td><td>ENST00000469118.5_1</td><td>ENST00000680648.1_1</td><td>isoComp_00027369</td><td>isoComp_00027381</td><td>domains_identified</td><td> TRUE</td><td>Domain loss            </td></tr>\n",
       "</tbody>\n",
       "</table>\n"
      ],
      "text/latex": [
       "A data.frame: 10 × 13\n",
       "\\begin{tabular}{r|lllllllllllll}\n",
       "  & X & gene\\_ref & gene\\_id & gene\\_name & condition\\_1 & condition\\_2 & isoformUpregulated & isoformDownregulated & iso\\_ref\\_up & iso\\_ref\\_down & featureCompared & isoformsDifferent & switchConsequence\\\\\n",
       "  & <int> & <chr> & <chr> & <chr> & <chr> & <chr> & <chr> & <chr> & <chr> & <chr> & <chr> & <lgl> & <chr>\\\\\n",
       "\\hline\n",
       "\t81 & 81 & geneComp\\_00006005 & DNAJC10 & DNAJC10 & ASD & Control & ENST00000469118.5\\_1 & ENST00000680480.1\\_1 & isoComp\\_00027369 & isoComp\\_00027379 & intron\\_retention   &  TRUE & Intron retention loss  \\\\\n",
       "\t82 & 82 & geneComp\\_00006005 & DNAJC10 & DNAJC10 & ASD & Control & ENST00000469118.5\\_1 & ENST00000680480.1\\_1 & isoComp\\_00027369 & isoComp\\_00027379 & coding\\_potential   &  TRUE & Transcript is Noncoding\\\\\n",
       "\t83 & 83 & geneComp\\_00006005 & DNAJC10 & DNAJC10 & ASD & Control & ENST00000469118.5\\_1 & ENST00000680480.1\\_1 & isoComp\\_00027369 & isoComp\\_00027379 & ORF\\_seq\\_similarity &  TRUE & ORF is shorter         \\\\\n",
       "\t84 & 84 & geneComp\\_00006005 & DNAJC10 & DNAJC10 & ASD & Control & ENST00000469118.5\\_1 & ENST00000680480.1\\_1 & isoComp\\_00027369 & isoComp\\_00027379 & NMD\\_status         & FALSE & NA                     \\\\\n",
       "\t85 & 85 & geneComp\\_00006005 & DNAJC10 & DNAJC10 & ASD & Control & ENST00000469118.5\\_1 & ENST00000680480.1\\_1 & isoComp\\_00027369 & isoComp\\_00027379 & domains\\_identified &  TRUE & Domain loss            \\\\\n",
       "\t86 & 86 & geneComp\\_00006005 & DNAJC10 & DNAJC10 & ASD & Control & ENST00000469118.5\\_1 & ENST00000680648.1\\_1 & isoComp\\_00027369 & isoComp\\_00027381 & intron\\_retention   & FALSE & NA                     \\\\\n",
       "\t87 & 87 & geneComp\\_00006005 & DNAJC10 & DNAJC10 & ASD & Control & ENST00000469118.5\\_1 & ENST00000680648.1\\_1 & isoComp\\_00027369 & isoComp\\_00027381 & coding\\_potential   & FALSE & NA                     \\\\\n",
       "\t88 & 88 & geneComp\\_00006005 & DNAJC10 & DNAJC10 & ASD & Control & ENST00000469118.5\\_1 & ENST00000680648.1\\_1 & isoComp\\_00027369 & isoComp\\_00027381 & ORF\\_seq\\_similarity &  TRUE & ORF is shorter         \\\\\n",
       "\t89 & 89 & geneComp\\_00006005 & DNAJC10 & DNAJC10 & ASD & Control & ENST00000469118.5\\_1 & ENST00000680648.1\\_1 & isoComp\\_00027369 & isoComp\\_00027381 & NMD\\_status         & FALSE & NA                     \\\\\n",
       "\t90 & 90 & geneComp\\_00006005 & DNAJC10 & DNAJC10 & ASD & Control & ENST00000469118.5\\_1 & ENST00000680648.1\\_1 & isoComp\\_00027369 & isoComp\\_00027381 & domains\\_identified &  TRUE & Domain loss            \\\\\n",
       "\\end{tabular}\n"
      ],
      "text/markdown": [
       "\n",
       "A data.frame: 10 × 13\n",
       "\n",
       "| <!--/--> | X &lt;int&gt; | gene_ref &lt;chr&gt; | gene_id &lt;chr&gt; | gene_name &lt;chr&gt; | condition_1 &lt;chr&gt; | condition_2 &lt;chr&gt; | isoformUpregulated &lt;chr&gt; | isoformDownregulated &lt;chr&gt; | iso_ref_up &lt;chr&gt; | iso_ref_down &lt;chr&gt; | featureCompared &lt;chr&gt; | isoformsDifferent &lt;lgl&gt; | switchConsequence &lt;chr&gt; |\n",
       "|---|---|---|---|---|---|---|---|---|---|---|---|---|---|\n",
       "| 81 | 81 | geneComp_00006005 | DNAJC10 | DNAJC10 | ASD | Control | ENST00000469118.5_1 | ENST00000680480.1_1 | isoComp_00027369 | isoComp_00027379 | intron_retention   |  TRUE | Intron retention loss   |\n",
       "| 82 | 82 | geneComp_00006005 | DNAJC10 | DNAJC10 | ASD | Control | ENST00000469118.5_1 | ENST00000680480.1_1 | isoComp_00027369 | isoComp_00027379 | coding_potential   |  TRUE | Transcript is Noncoding |\n",
       "| 83 | 83 | geneComp_00006005 | DNAJC10 | DNAJC10 | ASD | Control | ENST00000469118.5_1 | ENST00000680480.1_1 | isoComp_00027369 | isoComp_00027379 | ORF_seq_similarity |  TRUE | ORF is shorter          |\n",
       "| 84 | 84 | geneComp_00006005 | DNAJC10 | DNAJC10 | ASD | Control | ENST00000469118.5_1 | ENST00000680480.1_1 | isoComp_00027369 | isoComp_00027379 | NMD_status         | FALSE | NA                      |\n",
       "| 85 | 85 | geneComp_00006005 | DNAJC10 | DNAJC10 | ASD | Control | ENST00000469118.5_1 | ENST00000680480.1_1 | isoComp_00027369 | isoComp_00027379 | domains_identified |  TRUE | Domain loss             |\n",
       "| 86 | 86 | geneComp_00006005 | DNAJC10 | DNAJC10 | ASD | Control | ENST00000469118.5_1 | ENST00000680648.1_1 | isoComp_00027369 | isoComp_00027381 | intron_retention   | FALSE | NA                      |\n",
       "| 87 | 87 | geneComp_00006005 | DNAJC10 | DNAJC10 | ASD | Control | ENST00000469118.5_1 | ENST00000680648.1_1 | isoComp_00027369 | isoComp_00027381 | coding_potential   | FALSE | NA                      |\n",
       "| 88 | 88 | geneComp_00006005 | DNAJC10 | DNAJC10 | ASD | Control | ENST00000469118.5_1 | ENST00000680648.1_1 | isoComp_00027369 | isoComp_00027381 | ORF_seq_similarity |  TRUE | ORF is shorter          |\n",
       "| 89 | 89 | geneComp_00006005 | DNAJC10 | DNAJC10 | ASD | Control | ENST00000469118.5_1 | ENST00000680648.1_1 | isoComp_00027369 | isoComp_00027381 | NMD_status         | FALSE | NA                      |\n",
       "| 90 | 90 | geneComp_00006005 | DNAJC10 | DNAJC10 | ASD | Control | ENST00000469118.5_1 | ENST00000680648.1_1 | isoComp_00027369 | isoComp_00027381 | domains_identified |  TRUE | Domain loss             |\n",
       "\n"
      ],
      "text/plain": [
       "   X  gene_ref          gene_id gene_name condition_1 condition_2\n",
       "81 81 geneComp_00006005 DNAJC10 DNAJC10   ASD         Control    \n",
       "82 82 geneComp_00006005 DNAJC10 DNAJC10   ASD         Control    \n",
       "83 83 geneComp_00006005 DNAJC10 DNAJC10   ASD         Control    \n",
       "84 84 geneComp_00006005 DNAJC10 DNAJC10   ASD         Control    \n",
       "85 85 geneComp_00006005 DNAJC10 DNAJC10   ASD         Control    \n",
       "86 86 geneComp_00006005 DNAJC10 DNAJC10   ASD         Control    \n",
       "87 87 geneComp_00006005 DNAJC10 DNAJC10   ASD         Control    \n",
       "88 88 geneComp_00006005 DNAJC10 DNAJC10   ASD         Control    \n",
       "89 89 geneComp_00006005 DNAJC10 DNAJC10   ASD         Control    \n",
       "90 90 geneComp_00006005 DNAJC10 DNAJC10   ASD         Control    \n",
       "   isoformUpregulated  isoformDownregulated iso_ref_up       iso_ref_down    \n",
       "81 ENST00000469118.5_1 ENST00000680480.1_1  isoComp_00027369 isoComp_00027379\n",
       "82 ENST00000469118.5_1 ENST00000680480.1_1  isoComp_00027369 isoComp_00027379\n",
       "83 ENST00000469118.5_1 ENST00000680480.1_1  isoComp_00027369 isoComp_00027379\n",
       "84 ENST00000469118.5_1 ENST00000680480.1_1  isoComp_00027369 isoComp_00027379\n",
       "85 ENST00000469118.5_1 ENST00000680480.1_1  isoComp_00027369 isoComp_00027379\n",
       "86 ENST00000469118.5_1 ENST00000680648.1_1  isoComp_00027369 isoComp_00027381\n",
       "87 ENST00000469118.5_1 ENST00000680648.1_1  isoComp_00027369 isoComp_00027381\n",
       "88 ENST00000469118.5_1 ENST00000680648.1_1  isoComp_00027369 isoComp_00027381\n",
       "89 ENST00000469118.5_1 ENST00000680648.1_1  isoComp_00027369 isoComp_00027381\n",
       "90 ENST00000469118.5_1 ENST00000680648.1_1  isoComp_00027369 isoComp_00027381\n",
       "   featureCompared    isoformsDifferent switchConsequence      \n",
       "81 intron_retention    TRUE             Intron retention loss  \n",
       "82 coding_potential    TRUE             Transcript is Noncoding\n",
       "83 ORF_seq_similarity  TRUE             ORF is shorter         \n",
       "84 NMD_status         FALSE             NA                     \n",
       "85 domains_identified  TRUE             Domain loss            \n",
       "86 intron_retention   FALSE             NA                     \n",
       "87 coding_potential   FALSE             NA                     \n",
       "88 ORF_seq_similarity  TRUE             ORF is shorter         \n",
       "89 NMD_status         FALSE             NA                     \n",
       "90 domains_identified  TRUE             Domain loss            "
      ]
     },
     "metadata": {},
     "output_type": "display_data"
    }
   ],
   "source": [
    "#isoform发生IR的基因与res发生的基因做交叉\n",
    "genes_IR_RES <- intersect(names(table(deEx_iso_IR$gene_id)),unique(resInSpliceSites_WzGeneInfo_dedup$V4))\n",
    "#最终候选研究基因取上述2种基因,得到12个候选基因\n",
    "final_candidate_genes <- unique(c(final_genes,genes_IR_RES))\n",
    "length(final_candidate_genes)\n",
    "final_candidate_genes\n",
    "#经研究背景调查，在12个candidate genes中得到经研究过与神经系统发育相关的6个基因\n",
    "#head(resInSpliceSites_WzGeneInfo_dedup)\n",
    "gene_name='DNAJC10'\n",
    "resInSpliceSites_WzGeneInfo_dedup[resInSpliceSites_WzGeneInfo_dedup$V4 == gene_name,]\n",
    "\n",
    "switch_cons[switch_cons$gene_id=='DNAJC10',]\n"
   ]
  },
  {
   "cell_type": "code",
   "execution_count": 38,
   "metadata": {
    "vscode": {
     "languageId": "r"
    }
   },
   "outputs": [
    {
     "data": {
      "text/html": [
       "<table class=\"dataframe\">\n",
       "<caption>A data.frame: 1 × 17</caption>\n",
       "<thead>\n",
       "\t<tr><th></th><th scope=col>V1</th><th scope=col>V2</th><th scope=col>V3</th><th scope=col>V4</th><th scope=col>V5</th><th scope=col>V6</th><th scope=col>V7</th><th scope=col>V8</th><th scope=col>V9</th><th scope=col>V10</th><th scope=col>V11</th><th scope=col>V12</th><th scope=col>V13</th><th scope=col>V14</th><th scope=col>V15</th><th scope=col>V16</th><th scope=col>V17</th></tr>\n",
       "\t<tr><th></th><th scope=col>&lt;chr&gt;</th><th scope=col>&lt;int&gt;</th><th scope=col>&lt;int&gt;</th><th scope=col>&lt;chr&gt;</th><th scope=col>&lt;chr&gt;</th><th scope=col>&lt;chr&gt;</th><th scope=col>&lt;int&gt;</th><th scope=col>&lt;int&gt;</th><th scope=col>&lt;chr&gt;</th><th scope=col>&lt;int&gt;</th><th scope=col>&lt;chr&gt;</th><th scope=col>&lt;chr&gt;</th><th scope=col>&lt;chr&gt;</th><th scope=col>&lt;int&gt;</th><th scope=col>&lt;chr&gt;</th><th scope=col>&lt;chr&gt;</th><th scope=col>&lt;int&gt;</th></tr>\n",
       "</thead>\n",
       "<tbody>\n",
       "\t<tr><th scope=row>5849</th><td>chr14</td><td>74424712</td><td>74486102</td><td>ENTPD5</td><td>;</td><td>chr14</td><td>74463480</td><td>74463481</td><td>TC</td><td>5</td><td>-</td><td>GACGGCTCAAAGTCAA</td><td>7:7</td><td>18</td><td>chr14_74463481</td><td>donor_ds_2_T</td><td>1</td></tr>\n",
       "</tbody>\n",
       "</table>\n"
      ],
      "text/latex": [
       "A data.frame: 1 × 17\n",
       "\\begin{tabular}{r|lllllllllllllllll}\n",
       "  & V1 & V2 & V3 & V4 & V5 & V6 & V7 & V8 & V9 & V10 & V11 & V12 & V13 & V14 & V15 & V16 & V17\\\\\n",
       "  & <chr> & <int> & <int> & <chr> & <chr> & <chr> & <int> & <int> & <chr> & <int> & <chr> & <chr> & <chr> & <int> & <chr> & <chr> & <int>\\\\\n",
       "\\hline\n",
       "\t5849 & chr14 & 74424712 & 74486102 & ENTPD5 & ; & chr14 & 74463480 & 74463481 & TC & 5 & - & GACGGCTCAAAGTCAA & 7:7 & 18 & chr14\\_74463481 & donor\\_ds\\_2\\_T & 1\\\\\n",
       "\\end{tabular}\n"
      ],
      "text/markdown": [
       "\n",
       "A data.frame: 1 × 17\n",
       "\n",
       "| <!--/--> | V1 &lt;chr&gt; | V2 &lt;int&gt; | V3 &lt;int&gt; | V4 &lt;chr&gt; | V5 &lt;chr&gt; | V6 &lt;chr&gt; | V7 &lt;int&gt; | V8 &lt;int&gt; | V9 &lt;chr&gt; | V10 &lt;int&gt; | V11 &lt;chr&gt; | V12 &lt;chr&gt; | V13 &lt;chr&gt; | V14 &lt;int&gt; | V15 &lt;chr&gt; | V16 &lt;chr&gt; | V17 &lt;int&gt; |\n",
       "|---|---|---|---|---|---|---|---|---|---|---|---|---|---|---|---|---|---|\n",
       "| 5849 | chr14 | 74424712 | 74486102 | ENTPD5 | ; | chr14 | 74463480 | 74463481 | TC | 5 | - | GACGGCTCAAAGTCAA | 7:7 | 18 | chr14_74463481 | donor_ds_2_T | 1 |\n",
       "\n"
      ],
      "text/plain": [
       "     V1    V2       V3       V4     V5 V6    V7       V8       V9 V10 V11\n",
       "5849 chr14 74424712 74486102 ENTPD5 ;  chr14 74463480 74463481 TC 5   -  \n",
       "     V12              V13 V14 V15            V16          V17\n",
       "5849 GACGGCTCAAAGTCAA 7:7 18  chr14_74463481 donor_ds_2_T 1  "
      ]
     },
     "metadata": {},
     "output_type": "display_data"
    }
   ],
   "source": [
    "gene_name='ENTPD5'\n",
    "resInSpliceSites_WzGeneInfo_dedup[resInSpliceSites_WzGeneInfo_dedup$V4 == gene_name,]\n"
   ]
  },
  {
   "cell_type": "code",
   "execution_count": null,
   "metadata": {
    "vscode": {
     "languageId": "r"
    }
   },
   "outputs": [],
   "source": []
  },
  {
   "cell_type": "code",
   "execution_count": null,
   "metadata": {
    "vscode": {
     "languageId": "r"
    }
   },
   "outputs": [],
   "source": [
    "resInSpliceSites_WzGeneInfo_dedup[final_candidate_genes]\n",
    "resInSpliceSites_WzGeneInfo_dedup_filtered <- apply(resInSpliceSites_WzGeneInfo_dedup,1,judge_AS)\n",
    "\n",
    "dim(resInSpliceSites_WzGeneInfo_dedup)\n"
   ]
  },
  {
   "cell_type": "code",
   "execution_count": 274,
   "metadata": {
    "vscode": {
     "languageId": "r"
    }
   },
   "outputs": [],
   "source": [
    "resInSpliceSites_WzGeneInfo_dedup_filtered <- apply(resInSpliceSites_WzGeneInfo_dedup,1,judge_AS)\n"
   ]
  },
  {
   "cell_type": "code",
   "execution_count": 276,
   "metadata": {
    "vscode": {
     "languageId": "r"
    }
   },
   "outputs": [
    {
     "data": {
      "text/html": [
       "<style>\n",
       ".list-inline {list-style: none; margin:0; padding: 0}\n",
       ".list-inline>li {display: inline-block}\n",
       ".list-inline>li:not(:last-child)::after {content: \"\\00b7\"; padding: 0 .5ex}\n",
       "</style>\n",
       "<ol class=list-inline><li>4306</li><li>17</li></ol>\n"
      ],
      "text/latex": [
       "\\begin{enumerate*}\n",
       "\\item 4306\n",
       "\\item 17\n",
       "\\end{enumerate*}\n"
      ],
      "text/markdown": [
       "1. 4306\n",
       "2. 17\n",
       "\n",
       "\n"
      ],
      "text/plain": [
       "[1] 4306   17"
      ]
     },
     "metadata": {},
     "output_type": "display_data"
    }
   ],
   "source": [
    "dim(resInSpliceSites_WzGeneInfo_dedup)"
   ]
  },
  {
   "cell_type": "code",
   "execution_count": 257,
   "metadata": {
    "vscode": {
     "languageId": "r"
    }
   },
   "outputs": [],
   "source": [
    "\n",
    "#做功能富集分析，以此为基础选定后续分析使用的基因\n",
    "gene_names <- names(table(resInSpliceSites_WzGeneInfo_dedup$V4))\n",
    "gene_id <- mget(gene_names, #需要转换的Symbol\n",
    "                     org.Hs.egSYMBOL2EG, # Symbol转EntrezID（人）\n",
    "                     ifnotfound=NA)\n",
    "gene_id <- as.character(gene_id)[!is.na(gene_id)]\n"
   ]
  },
  {
   "cell_type": "code",
   "execution_count": 258,
   "metadata": {
    "vscode": {
     "languageId": "r"
    }
   },
   "outputs": [
    {
     "data": {
      "text/html": [
       "1836"
      ],
      "text/latex": [
       "1836"
      ],
      "text/markdown": [
       "1836"
      ],
      "text/plain": [
       "[1] 1836"
      ]
     },
     "metadata": {},
     "output_type": "display_data"
    }
   ],
   "source": [
    "length(gene_id)"
   ]
  },
  {
   "cell_type": "code",
   "execution_count": 259,
   "metadata": {
    "vscode": {
     "languageId": "r"
    }
   },
   "outputs": [],
   "source": [
    "\n",
    "enrich.go <- enrichGO(gene = gene_id,  \n",
    "                      OrgDb = 'org.Hs.eg.db',  \n",
    "                      keyType = 'ENTREZID',  #指定给定的基因名称类型，例如这里以 entrze id 为例\n",
    "                      ont = 'ALL',  #GO Ontology，可选 BP、MF、CC，也可以指定 ALL 同时计算 3 者\n",
    "                      pAdjustMethod = 'fdr',  #指定 p 值校正方法\n",
    "                      pvalueCutoff = 1,  #指定 p 值阈值（可指定 1 以输出全部）\n",
    "                      qvalueCutoff = 1,  #指定 q 值阈值（可指定 1 以输出全部）\n",
    "                      readable = FALSE)  \n",
    "\n"
   ]
  },
  {
   "cell_type": "code",
   "execution_count": 261,
   "metadata": {
    "vscode": {
     "languageId": "r"
    }
   },
   "outputs": [
    {
     "data": {
      "text/html": [
       "<strong>png:</strong> 2"
      ],
      "text/latex": [
       "\\textbf{png:} 2"
      ],
      "text/markdown": [
       "**png:** 2"
      ],
      "text/plain": [
       "png \n",
       "  2 "
      ]
     },
     "metadata": {},
     "output_type": "display_data"
    }
   ],
   "source": [
    "#####\n",
    "pdf(\"/disk1/wenqing/tmp_data/ASD/GO_enrichment_genesWzResInAsSite.pdf\")\n",
    "dotplot(enrich.go)  #富集气泡图\n",
    "barplot(enrich.go)  #富集柱形图\n",
    "dev.off()"
   ]
  },
  {
   "cell_type": "code",
   "execution_count": null,
   "metadata": {
    "vscode": {
     "languageId": "r"
    }
   },
   "outputs": [],
   "source": [
    "\n",
    "write.table(input_genes,\"/disk1/wenqing/tmp_data/ASD/gene_names_GO.txt\",quote=F,row.names=F)"
   ]
  },
  {
   "cell_type": "code",
   "execution_count": 8,
   "metadata": {
    "vscode": {
     "languageId": "r"
    }
   },
   "outputs": [
    {
     "data": {
      "text/html": [
       "<table class=\"dataframe\">\n",
       "<caption>A data.frame: 6 × 26</caption>\n",
       "<thead>\n",
       "\t<tr><th></th><th scope=col>X</th><th scope=col>isoform_id</th><th scope=col>ES</th><th scope=col>ES_genomic_start</th><th scope=col>ES_genomic_end</th><th scope=col>MEE</th><th scope=col>MEE_genomic_start</th><th scope=col>MEE_genomic_end</th><th scope=col>MES</th><th scope=col>MES_genomic_start</th><th scope=col>⋯</th><th scope=col>A5_genomic_end</th><th scope=col>A3</th><th scope=col>A3_genomic_start</th><th scope=col>A3_genomic_end</th><th scope=col>ATSS</th><th scope=col>ATSS_genomic_start</th><th scope=col>ATSS_genomic_end</th><th scope=col>ATTS</th><th scope=col>ATTS_genomic_start</th><th scope=col>ATTS_genomic_end</th></tr>\n",
       "\t<tr><th></th><th scope=col>&lt;chr&gt;</th><th scope=col>&lt;chr&gt;</th><th scope=col>&lt;int&gt;</th><th scope=col>&lt;chr&gt;</th><th scope=col>&lt;chr&gt;</th><th scope=col>&lt;int&gt;</th><th scope=col>&lt;chr&gt;</th><th scope=col>&lt;chr&gt;</th><th scope=col>&lt;int&gt;</th><th scope=col>&lt;chr&gt;</th><th scope=col>⋯</th><th scope=col>&lt;chr&gt;</th><th scope=col>&lt;chr&gt;</th><th scope=col>&lt;chr&gt;</th><th scope=col>&lt;chr&gt;</th><th scope=col>&lt;chr&gt;</th><th scope=col>&lt;chr&gt;</th><th scope=col>&lt;chr&gt;</th><th scope=col>&lt;chr&gt;</th><th scope=col>&lt;chr&gt;</th><th scope=col>&lt;chr&gt;</th></tr>\n",
       "</thead>\n",
       "<tbody>\n",
       "\t<tr><th scope=row>1</th><td>1</td><td>ENST00000648157.1_1</td><td>0</td><td>NA       </td><td>NA       </td><td>0</td><td>NA</td><td>NA</td><td>0</td><td>NA                 </td><td>⋯</td><td>NA                 </td><td>0</td><td>NA                 </td><td>NA                 </td><td>1</td><td>9217759                                                                                                                                                                                                </td><td>9217798                                                                                                                                                                                                </td><td>1</td><td>9221280                                                                                                                          </td><td>9221285                                                                                                                          </td></tr>\n",
       "\t<tr><th scope=row>2</th><td>2</td><td>ENST00000667950.1_2</td><td>0</td><td>NA       </td><td>NA       </td><td>0</td><td>NA</td><td>NA</td><td>0</td><td>NA                 </td><td>⋯</td><td>NA                 </td><td>0</td><td>NA                 </td><td>NA                 </td><td>0</td><td>NA                                                                                                                                                                                                     </td><td>NA                                                                                                                                                                                                     </td><td>0</td><td>NA                                                                                                                               </td><td>NA                                                                                                                               </td></tr>\n",
       "\t<tr><th scope=row>3</th><td>3</td><td>ENST00000670582.1_1</td><td>0</td><td>NA       </td><td>NA       </td><td>0</td><td>NA</td><td>NA</td><td>0</td><td>NA                 </td><td>⋯</td><td>NA                 </td><td>0</td><td>NA                 </td><td>NA                 </td><td>1</td><td>9217759                                                                                                                                                                                                </td><td>9217770                                                                                                                                                                                                </td><td>1</td><td>9221258                                                                                                                          </td><td>9221285                                                                                                                          </td></tr>\n",
       "\t<tr><th scope=row>4</th><td>4</td><td>ENST00000357096.5_4</td><td>1</td><td>131347198</td><td>131347351</td><td>0</td><td>NA</td><td>NA</td><td>1</td><td>131310451;131310586</td><td>⋯</td><td>131321100;131329829</td><td>2</td><td>131296314;131309051</td><td>131296638;131309093</td><td>0</td><td>NA                                                                                                                                                                                                     </td><td>NA                                                                                                                                                                                                     </td><td>1</td><td>131285666                                                                                                                        </td><td>131285669                                                                                                                        </td></tr>\n",
       "\t<tr><th scope=row>5</th><td>5</td><td>ENST00000489047.1_3</td><td>0</td><td>NA       </td><td>NA       </td><td>0</td><td>NA</td><td>NA</td><td>0</td><td>NA                 </td><td>⋯</td><td>NA                 </td><td>0</td><td>NA                 </td><td>NA                 </td><td>1</td><td>131323783;131324498;131325100;131325793;131326546;131329724;131347198;131347463                                                                                                                        </td><td>131323919;131324597;131325201;131325857;131326660;131329944;131347351;131347607                                                                                                                        </td><td>1</td><td>131285666;131295229;131296213;131298228;131302109;131303633;131305821;131307243;131308417;131308959;131310451;131310586;131312341</td><td>131290064;131295300;131296638;131298371;131302225;131303721;131305893;131307338;131308551;131309093;131310528;131310663;131312414</td></tr>\n",
       "\t<tr><th scope=row>6</th><td>6</td><td>ENST00000492156.1_3</td><td>0</td><td>NA       </td><td>NA       </td><td>0</td><td>NA</td><td>NA</td><td>0</td><td>NA                 </td><td>⋯</td><td>NA                 </td><td>0</td><td>NA                 </td><td>NA                 </td><td>1</td><td>131298228;131302109;131303633;131305821;131307243;131308417;131308959;131310451;131310586;131312341;131317552;131322515;131323741;131324498;131325100;131325793;131326546;131329724;131347198;131347463</td><td>131298371;131302225;131303721;131305893;131307338;131308551;131309093;131310528;131310663;131312414;131321151;131322547;131323919;131324597;131325201;131325857;131326660;131329944;131347351;131347607</td><td>1</td><td>131285666;131295229                                                                                                              </td><td>131290064;131295266                                                                                                              </td></tr>\n",
       "</tbody>\n",
       "</table>\n"
      ],
      "text/latex": [
       "A data.frame: 6 × 26\n",
       "\\begin{tabular}{r|lllllllllllllllllllll}\n",
       "  & X & isoform\\_id & ES & ES\\_genomic\\_start & ES\\_genomic\\_end & MEE & MEE\\_genomic\\_start & MEE\\_genomic\\_end & MES & MES\\_genomic\\_start & ⋯ & A5\\_genomic\\_end & A3 & A3\\_genomic\\_start & A3\\_genomic\\_end & ATSS & ATSS\\_genomic\\_start & ATSS\\_genomic\\_end & ATTS & ATTS\\_genomic\\_start & ATTS\\_genomic\\_end\\\\\n",
       "  & <chr> & <chr> & <int> & <chr> & <chr> & <int> & <chr> & <chr> & <int> & <chr> & ⋯ & <chr> & <chr> & <chr> & <chr> & <chr> & <chr> & <chr> & <chr> & <chr> & <chr>\\\\\n",
       "\\hline\n",
       "\t1 & 1 & ENST00000648157.1\\_1 & 0 & NA        & NA        & 0 & NA & NA & 0 & NA                  & ⋯ & NA                  & 0 & NA                  & NA                  & 1 & 9217759                                                                                                                                                                                                 & 9217798                                                                                                                                                                                                 & 1 & 9221280                                                                                                                           & 9221285                                                                                                                          \\\\\n",
       "\t2 & 2 & ENST00000667950.1\\_2 & 0 & NA        & NA        & 0 & NA & NA & 0 & NA                  & ⋯ & NA                  & 0 & NA                  & NA                  & 0 & NA                                                                                                                                                                                                      & NA                                                                                                                                                                                                      & 0 & NA                                                                                                                                & NA                                                                                                                               \\\\\n",
       "\t3 & 3 & ENST00000670582.1\\_1 & 0 & NA        & NA        & 0 & NA & NA & 0 & NA                  & ⋯ & NA                  & 0 & NA                  & NA                  & 1 & 9217759                                                                                                                                                                                                 & 9217770                                                                                                                                                                                                 & 1 & 9221258                                                                                                                           & 9221285                                                                                                                          \\\\\n",
       "\t4 & 4 & ENST00000357096.5\\_4 & 1 & 131347198 & 131347351 & 0 & NA & NA & 1 & 131310451;131310586 & ⋯ & 131321100;131329829 & 2 & 131296314;131309051 & 131296638;131309093 & 0 & NA                                                                                                                                                                                                      & NA                                                                                                                                                                                                      & 1 & 131285666                                                                                                                         & 131285669                                                                                                                        \\\\\n",
       "\t5 & 5 & ENST00000489047.1\\_3 & 0 & NA        & NA        & 0 & NA & NA & 0 & NA                  & ⋯ & NA                  & 0 & NA                  & NA                  & 1 & 131323783;131324498;131325100;131325793;131326546;131329724;131347198;131347463                                                                                                                         & 131323919;131324597;131325201;131325857;131326660;131329944;131347351;131347607                                                                                                                         & 1 & 131285666;131295229;131296213;131298228;131302109;131303633;131305821;131307243;131308417;131308959;131310451;131310586;131312341 & 131290064;131295300;131296638;131298371;131302225;131303721;131305893;131307338;131308551;131309093;131310528;131310663;131312414\\\\\n",
       "\t6 & 6 & ENST00000492156.1\\_3 & 0 & NA        & NA        & 0 & NA & NA & 0 & NA                  & ⋯ & NA                  & 0 & NA                  & NA                  & 1 & 131298228;131302109;131303633;131305821;131307243;131308417;131308959;131310451;131310586;131312341;131317552;131322515;131323741;131324498;131325100;131325793;131326546;131329724;131347198;131347463 & 131298371;131302225;131303721;131305893;131307338;131308551;131309093;131310528;131310663;131312414;131321151;131322547;131323919;131324597;131325201;131325857;131326660;131329944;131347351;131347607 & 1 & 131285666;131295229                                                                                                               & 131290064;131295266                                                                                                              \\\\\n",
       "\\end{tabular}\n"
      ],
      "text/markdown": [
       "\n",
       "A data.frame: 6 × 26\n",
       "\n",
       "| <!--/--> | X &lt;chr&gt; | isoform_id &lt;chr&gt; | ES &lt;int&gt; | ES_genomic_start &lt;chr&gt; | ES_genomic_end &lt;chr&gt; | MEE &lt;int&gt; | MEE_genomic_start &lt;chr&gt; | MEE_genomic_end &lt;chr&gt; | MES &lt;int&gt; | MES_genomic_start &lt;chr&gt; | ⋯ ⋯ | A5_genomic_end &lt;chr&gt; | A3 &lt;chr&gt; | A3_genomic_start &lt;chr&gt; | A3_genomic_end &lt;chr&gt; | ATSS &lt;chr&gt; | ATSS_genomic_start &lt;chr&gt; | ATSS_genomic_end &lt;chr&gt; | ATTS &lt;chr&gt; | ATTS_genomic_start &lt;chr&gt; | ATTS_genomic_end &lt;chr&gt; |\n",
       "|---|---|---|---|---|---|---|---|---|---|---|---|---|---|---|---|---|---|---|---|---|---|\n",
       "| 1 | 1 | ENST00000648157.1_1 | 0 | NA        | NA        | 0 | NA | NA | 0 | NA                  | ⋯ | NA                  | 0 | NA                  | NA                  | 1 | 9217759                                                                                                                                                                                                 | 9217798                                                                                                                                                                                                 | 1 | 9221280                                                                                                                           | 9221285                                                                                                                           |\n",
       "| 2 | 2 | ENST00000667950.1_2 | 0 | NA        | NA        | 0 | NA | NA | 0 | NA                  | ⋯ | NA                  | 0 | NA                  | NA                  | 0 | NA                                                                                                                                                                                                      | NA                                                                                                                                                                                                      | 0 | NA                                                                                                                                | NA                                                                                                                                |\n",
       "| 3 | 3 | ENST00000670582.1_1 | 0 | NA        | NA        | 0 | NA | NA | 0 | NA                  | ⋯ | NA                  | 0 | NA                  | NA                  | 1 | 9217759                                                                                                                                                                                                 | 9217770                                                                                                                                                                                                 | 1 | 9221258                                                                                                                           | 9221285                                                                                                                           |\n",
       "| 4 | 4 | ENST00000357096.5_4 | 1 | 131347198 | 131347351 | 0 | NA | NA | 1 | 131310451;131310586 | ⋯ | 131321100;131329829 | 2 | 131296314;131309051 | 131296638;131309093 | 0 | NA                                                                                                                                                                                                      | NA                                                                                                                                                                                                      | 1 | 131285666                                                                                                                         | 131285669                                                                                                                         |\n",
       "| 5 | 5 | ENST00000489047.1_3 | 0 | NA        | NA        | 0 | NA | NA | 0 | NA                  | ⋯ | NA                  | 0 | NA                  | NA                  | 1 | 131323783;131324498;131325100;131325793;131326546;131329724;131347198;131347463                                                                                                                         | 131323919;131324597;131325201;131325857;131326660;131329944;131347351;131347607                                                                                                                         | 1 | 131285666;131295229;131296213;131298228;131302109;131303633;131305821;131307243;131308417;131308959;131310451;131310586;131312341 | 131290064;131295300;131296638;131298371;131302225;131303721;131305893;131307338;131308551;131309093;131310528;131310663;131312414 |\n",
       "| 6 | 6 | ENST00000492156.1_3 | 0 | NA        | NA        | 0 | NA | NA | 0 | NA                  | ⋯ | NA                  | 0 | NA                  | NA                  | 1 | 131298228;131302109;131303633;131305821;131307243;131308417;131308959;131310451;131310586;131312341;131317552;131322515;131323741;131324498;131325100;131325793;131326546;131329724;131347198;131347463 | 131298371;131302225;131303721;131305893;131307338;131308551;131309093;131310528;131310663;131312414;131321151;131322547;131323919;131324597;131325201;131325857;131326660;131329944;131347351;131347607 | 1 | 131285666;131295229                                                                                                               | 131290064;131295266                                                                                                               |\n",
       "\n"
      ],
      "text/plain": [
       "  X isoform_id          ES ES_genomic_start ES_genomic_end MEE\n",
       "1 1 ENST00000648157.1_1 0  NA               NA             0  \n",
       "2 2 ENST00000667950.1_2 0  NA               NA             0  \n",
       "3 3 ENST00000670582.1_1 0  NA               NA             0  \n",
       "4 4 ENST00000357096.5_4 1  131347198        131347351      0  \n",
       "5 5 ENST00000489047.1_3 0  NA               NA             0  \n",
       "6 6 ENST00000492156.1_3 0  NA               NA             0  \n",
       "  MEE_genomic_start MEE_genomic_end MES MES_genomic_start   ⋯\n",
       "1 NA                NA              0   NA                  ⋯\n",
       "2 NA                NA              0   NA                  ⋯\n",
       "3 NA                NA              0   NA                  ⋯\n",
       "4 NA                NA              1   131310451;131310586 ⋯\n",
       "5 NA                NA              0   NA                  ⋯\n",
       "6 NA                NA              0   NA                  ⋯\n",
       "  A5_genomic_end      A3 A3_genomic_start    A3_genomic_end      ATSS\n",
       "1 NA                  0  NA                  NA                  1   \n",
       "2 NA                  0  NA                  NA                  0   \n",
       "3 NA                  0  NA                  NA                  1   \n",
       "4 131321100;131329829 2  131296314;131309051 131296638;131309093 0   \n",
       "5 NA                  0  NA                  NA                  1   \n",
       "6 NA                  0  NA                  NA                  1   \n",
       "  ATSS_genomic_start                                                                                                                                                                                     \n",
       "1 9217759                                                                                                                                                                                                \n",
       "2 NA                                                                                                                                                                                                     \n",
       "3 9217759                                                                                                                                                                                                \n",
       "4 NA                                                                                                                                                                                                     \n",
       "5 131323783;131324498;131325100;131325793;131326546;131329724;131347198;131347463                                                                                                                        \n",
       "6 131298228;131302109;131303633;131305821;131307243;131308417;131308959;131310451;131310586;131312341;131317552;131322515;131323741;131324498;131325100;131325793;131326546;131329724;131347198;131347463\n",
       "  ATSS_genomic_end                                                                                                                                                                                       \n",
       "1 9217798                                                                                                                                                                                                \n",
       "2 NA                                                                                                                                                                                                     \n",
       "3 9217770                                                                                                                                                                                                \n",
       "4 NA                                                                                                                                                                                                     \n",
       "5 131323919;131324597;131325201;131325857;131326660;131329944;131347351;131347607                                                                                                                        \n",
       "6 131298371;131302225;131303721;131305893;131307338;131308551;131309093;131310528;131310663;131312414;131321151;131322547;131323919;131324597;131325201;131325857;131326660;131329944;131347351;131347607\n",
       "  ATTS\n",
       "1 1   \n",
       "2 0   \n",
       "3 1   \n",
       "4 1   \n",
       "5 1   \n",
       "6 1   \n",
       "  ATTS_genomic_start                                                                                                               \n",
       "1 9221280                                                                                                                          \n",
       "2 NA                                                                                                                               \n",
       "3 9221258                                                                                                                          \n",
       "4 131285666                                                                                                                        \n",
       "5 131285666;131295229;131296213;131298228;131302109;131303633;131305821;131307243;131308417;131308959;131310451;131310586;131312341\n",
       "6 131285666;131295229                                                                                                              \n",
       "  ATTS_genomic_end                                                                                                                 \n",
       "1 9221285                                                                                                                          \n",
       "2 NA                                                                                                                               \n",
       "3 9221285                                                                                                                          \n",
       "4 131285669                                                                                                                        \n",
       "5 131290064;131295300;131296638;131298371;131302225;131303721;131305893;131307338;131308551;131309093;131310528;131310663;131312414\n",
       "6 131290064;131295266                                                                                                              "
      ]
     },
     "metadata": {},
     "output_type": "display_data"
    }
   ],
   "source": [
    "#587个iso发生可变剪接的形式（具体位点）\n",
    "AlterSplice <- read.csv(\"/disk1/wenqing/tmp_data/ASD/AlternativeSplicingAnalysis.csv\")\n",
    "head(AlterSplice)\n"
   ]
  },
  {
   "cell_type": "code",
   "execution_count": 20,
   "metadata": {
    "vscode": {
     "languageId": "r"
    }
   },
   "outputs": [],
   "source": [
    "#usage发生变化的iso的后果（94个基因）\n",
    "switch_cons <- read.csv(\"/disk1/wenqing/tmp_data/ASD/switchConsequence.csv\")\n",
    "#isoform在每个样本的表达信息，用于决定导入哪些样本的res\n",
    "iso_abundance_filtered <- read.csv(\"/disk1/wenqing/tmp_data/ASD/isoformEx_abundance_filtered.csv\")\n",
    "rownames(iso_abundance_filtered) <- iso_abundance_filtered$isoform_id\n"
   ]
  },
  {
   "cell_type": "code",
   "execution_count": 111,
   "metadata": {
    "vscode": {
     "languageId": "r"
    }
   },
   "outputs": [
    {
     "data": {
      "text/html": [
       "<table class=\"dataframe\">\n",
       "<caption>A data.frame: 6 × 13</caption>\n",
       "<thead>\n",
       "\t<tr><th></th><th scope=col>X</th><th scope=col>gene_ref</th><th scope=col>gene_id</th><th scope=col>gene_name</th><th scope=col>condition_1</th><th scope=col>condition_2</th><th scope=col>isoformUpregulated</th><th scope=col>isoformDownregulated</th><th scope=col>iso_ref_up</th><th scope=col>iso_ref_down</th><th scope=col>featureCompared</th><th scope=col>isoformsDifferent</th><th scope=col>switchConsequence</th></tr>\n",
       "\t<tr><th></th><th scope=col>&lt;int&gt;</th><th scope=col>&lt;chr&gt;</th><th scope=col>&lt;chr&gt;</th><th scope=col>&lt;chr&gt;</th><th scope=col>&lt;chr&gt;</th><th scope=col>&lt;chr&gt;</th><th scope=col>&lt;chr&gt;</th><th scope=col>&lt;chr&gt;</th><th scope=col>&lt;chr&gt;</th><th scope=col>&lt;chr&gt;</th><th scope=col>&lt;chr&gt;</th><th scope=col>&lt;lgl&gt;</th><th scope=col>&lt;chr&gt;</th></tr>\n",
       "</thead>\n",
       "<tbody>\n",
       "\t<tr><th scope=row>1</th><td>1</td><td>geneComp_00000007</td><td>A2M-AS1</td><td>A2M-AS1</td><td>ASD</td><td>Control</td><td>ENST00000648157.1_1</td><td>ENST00000670582.1_1</td><td>isoComp_00000023</td><td>isoComp_00000025</td><td>intron_retention  </td><td> TRUE</td><td>Intron retention loss</td></tr>\n",
       "\t<tr><th scope=row>2</th><td>2</td><td>geneComp_00000007</td><td>A2M-AS1</td><td>A2M-AS1</td><td>ASD</td><td>Control</td><td>ENST00000648157.1_1</td><td>ENST00000670582.1_1</td><td>isoComp_00000023</td><td>isoComp_00000025</td><td>coding_potential  </td><td>FALSE</td><td>NA                   </td></tr>\n",
       "\t<tr><th scope=row>3</th><td>3</td><td>geneComp_00000007</td><td>A2M-AS1</td><td>A2M-AS1</td><td>ASD</td><td>Control</td><td>ENST00000648157.1_1</td><td>ENST00000670582.1_1</td><td>isoComp_00000023</td><td>isoComp_00000025</td><td>ORF_seq_similarity</td><td> TRUE</td><td>ORF is shorter       </td></tr>\n",
       "\t<tr><th scope=row>4</th><td>4</td><td>geneComp_00000007</td><td>A2M-AS1</td><td>A2M-AS1</td><td>ASD</td><td>Control</td><td>ENST00000648157.1_1</td><td>ENST00000670582.1_1</td><td>isoComp_00000023</td><td>isoComp_00000025</td><td>NMD_status        </td><td> TRUE</td><td>NMD sensitive        </td></tr>\n",
       "\t<tr><th scope=row>5</th><td>5</td><td>geneComp_00000007</td><td>A2M-AS1</td><td>A2M-AS1</td><td>ASD</td><td>Control</td><td>ENST00000648157.1_1</td><td>ENST00000670582.1_1</td><td>isoComp_00000023</td><td>isoComp_00000025</td><td>domains_identified</td><td>FALSE</td><td>NA                   </td></tr>\n",
       "\t<tr><th scope=row>6</th><td>6</td><td>geneComp_00000503</td><td>ACSL6  </td><td>ACSL6  </td><td>ASD</td><td>Control</td><td>ENST00000357096.5_4</td><td>ENST00000651883.2_8</td><td>isoComp_00001614</td><td>isoComp_00001624</td><td>intron_retention  </td><td>FALSE</td><td>NA                   </td></tr>\n",
       "</tbody>\n",
       "</table>\n"
      ],
      "text/latex": [
       "A data.frame: 6 × 13\n",
       "\\begin{tabular}{r|lllllllllllll}\n",
       "  & X & gene\\_ref & gene\\_id & gene\\_name & condition\\_1 & condition\\_2 & isoformUpregulated & isoformDownregulated & iso\\_ref\\_up & iso\\_ref\\_down & featureCompared & isoformsDifferent & switchConsequence\\\\\n",
       "  & <int> & <chr> & <chr> & <chr> & <chr> & <chr> & <chr> & <chr> & <chr> & <chr> & <chr> & <lgl> & <chr>\\\\\n",
       "\\hline\n",
       "\t1 & 1 & geneComp\\_00000007 & A2M-AS1 & A2M-AS1 & ASD & Control & ENST00000648157.1\\_1 & ENST00000670582.1\\_1 & isoComp\\_00000023 & isoComp\\_00000025 & intron\\_retention   &  TRUE & Intron retention loss\\\\\n",
       "\t2 & 2 & geneComp\\_00000007 & A2M-AS1 & A2M-AS1 & ASD & Control & ENST00000648157.1\\_1 & ENST00000670582.1\\_1 & isoComp\\_00000023 & isoComp\\_00000025 & coding\\_potential   & FALSE & NA                   \\\\\n",
       "\t3 & 3 & geneComp\\_00000007 & A2M-AS1 & A2M-AS1 & ASD & Control & ENST00000648157.1\\_1 & ENST00000670582.1\\_1 & isoComp\\_00000023 & isoComp\\_00000025 & ORF\\_seq\\_similarity &  TRUE & ORF is shorter       \\\\\n",
       "\t4 & 4 & geneComp\\_00000007 & A2M-AS1 & A2M-AS1 & ASD & Control & ENST00000648157.1\\_1 & ENST00000670582.1\\_1 & isoComp\\_00000023 & isoComp\\_00000025 & NMD\\_status         &  TRUE & NMD sensitive        \\\\\n",
       "\t5 & 5 & geneComp\\_00000007 & A2M-AS1 & A2M-AS1 & ASD & Control & ENST00000648157.1\\_1 & ENST00000670582.1\\_1 & isoComp\\_00000023 & isoComp\\_00000025 & domains\\_identified & FALSE & NA                   \\\\\n",
       "\t6 & 6 & geneComp\\_00000503 & ACSL6   & ACSL6   & ASD & Control & ENST00000357096.5\\_4 & ENST00000651883.2\\_8 & isoComp\\_00001614 & isoComp\\_00001624 & intron\\_retention   & FALSE & NA                   \\\\\n",
       "\\end{tabular}\n"
      ],
      "text/markdown": [
       "\n",
       "A data.frame: 6 × 13\n",
       "\n",
       "| <!--/--> | X &lt;int&gt; | gene_ref &lt;chr&gt; | gene_id &lt;chr&gt; | gene_name &lt;chr&gt; | condition_1 &lt;chr&gt; | condition_2 &lt;chr&gt; | isoformUpregulated &lt;chr&gt; | isoformDownregulated &lt;chr&gt; | iso_ref_up &lt;chr&gt; | iso_ref_down &lt;chr&gt; | featureCompared &lt;chr&gt; | isoformsDifferent &lt;lgl&gt; | switchConsequence &lt;chr&gt; |\n",
       "|---|---|---|---|---|---|---|---|---|---|---|---|---|---|\n",
       "| 1 | 1 | geneComp_00000007 | A2M-AS1 | A2M-AS1 | ASD | Control | ENST00000648157.1_1 | ENST00000670582.1_1 | isoComp_00000023 | isoComp_00000025 | intron_retention   |  TRUE | Intron retention loss |\n",
       "| 2 | 2 | geneComp_00000007 | A2M-AS1 | A2M-AS1 | ASD | Control | ENST00000648157.1_1 | ENST00000670582.1_1 | isoComp_00000023 | isoComp_00000025 | coding_potential   | FALSE | NA                    |\n",
       "| 3 | 3 | geneComp_00000007 | A2M-AS1 | A2M-AS1 | ASD | Control | ENST00000648157.1_1 | ENST00000670582.1_1 | isoComp_00000023 | isoComp_00000025 | ORF_seq_similarity |  TRUE | ORF is shorter        |\n",
       "| 4 | 4 | geneComp_00000007 | A2M-AS1 | A2M-AS1 | ASD | Control | ENST00000648157.1_1 | ENST00000670582.1_1 | isoComp_00000023 | isoComp_00000025 | NMD_status         |  TRUE | NMD sensitive         |\n",
       "| 5 | 5 | geneComp_00000007 | A2M-AS1 | A2M-AS1 | ASD | Control | ENST00000648157.1_1 | ENST00000670582.1_1 | isoComp_00000023 | isoComp_00000025 | domains_identified | FALSE | NA                    |\n",
       "| 6 | 6 | geneComp_00000503 | ACSL6   | ACSL6   | ASD | Control | ENST00000357096.5_4 | ENST00000651883.2_8 | isoComp_00001614 | isoComp_00001624 | intron_retention   | FALSE | NA                    |\n",
       "\n"
      ],
      "text/plain": [
       "  X gene_ref          gene_id gene_name condition_1 condition_2\n",
       "1 1 geneComp_00000007 A2M-AS1 A2M-AS1   ASD         Control    \n",
       "2 2 geneComp_00000007 A2M-AS1 A2M-AS1   ASD         Control    \n",
       "3 3 geneComp_00000007 A2M-AS1 A2M-AS1   ASD         Control    \n",
       "4 4 geneComp_00000007 A2M-AS1 A2M-AS1   ASD         Control    \n",
       "5 5 geneComp_00000007 A2M-AS1 A2M-AS1   ASD         Control    \n",
       "6 6 geneComp_00000503 ACSL6   ACSL6     ASD         Control    \n",
       "  isoformUpregulated  isoformDownregulated iso_ref_up       iso_ref_down    \n",
       "1 ENST00000648157.1_1 ENST00000670582.1_1  isoComp_00000023 isoComp_00000025\n",
       "2 ENST00000648157.1_1 ENST00000670582.1_1  isoComp_00000023 isoComp_00000025\n",
       "3 ENST00000648157.1_1 ENST00000670582.1_1  isoComp_00000023 isoComp_00000025\n",
       "4 ENST00000648157.1_1 ENST00000670582.1_1  isoComp_00000023 isoComp_00000025\n",
       "5 ENST00000648157.1_1 ENST00000670582.1_1  isoComp_00000023 isoComp_00000025\n",
       "6 ENST00000357096.5_4 ENST00000651883.2_8  isoComp_00001614 isoComp_00001624\n",
       "  featureCompared    isoformsDifferent switchConsequence    \n",
       "1 intron_retention    TRUE             Intron retention loss\n",
       "2 coding_potential   FALSE             NA                   \n",
       "3 ORF_seq_similarity  TRUE             ORF is shorter       \n",
       "4 NMD_status          TRUE             NMD sensitive        \n",
       "5 domains_identified FALSE             NA                   \n",
       "6 intron_retention   FALSE             NA                   "
      ]
     },
     "metadata": {},
     "output_type": "display_data"
    },
    {
     "data": {
      "text/html": [
       "<table class=\"dataframe\">\n",
       "<caption>A data.frame: 10 × 13</caption>\n",
       "<thead>\n",
       "\t<tr><th></th><th scope=col>X</th><th scope=col>gene_ref</th><th scope=col>gene_id</th><th scope=col>gene_name</th><th scope=col>condition_1</th><th scope=col>condition_2</th><th scope=col>isoformUpregulated</th><th scope=col>isoformDownregulated</th><th scope=col>iso_ref_up</th><th scope=col>iso_ref_down</th><th scope=col>featureCompared</th><th scope=col>isoformsDifferent</th><th scope=col>switchConsequence</th></tr>\n",
       "\t<tr><th></th><th scope=col>&lt;int&gt;</th><th scope=col>&lt;chr&gt;</th><th scope=col>&lt;chr&gt;</th><th scope=col>&lt;chr&gt;</th><th scope=col>&lt;chr&gt;</th><th scope=col>&lt;chr&gt;</th><th scope=col>&lt;chr&gt;</th><th scope=col>&lt;chr&gt;</th><th scope=col>&lt;chr&gt;</th><th scope=col>&lt;chr&gt;</th><th scope=col>&lt;chr&gt;</th><th scope=col>&lt;lgl&gt;</th><th scope=col>&lt;chr&gt;</th></tr>\n",
       "</thead>\n",
       "<tbody>\n",
       "\t<tr><th scope=row>531</th><td>531</td><td>geneComp_00040665</td><td>USP34-DT</td><td>USP34-DT</td><td>ASD</td><td>Control</td><td>ENST00000603652.2_4</td><td>ENST00000702649.1_1</td><td>isoComp_00133928</td><td>isoComp_00133932</td><td>intron_retention  </td><td> TRUE</td><td>Intron retention switch</td></tr>\n",
       "\t<tr><th scope=row>532</th><td>532</td><td>geneComp_00040665</td><td>USP34-DT</td><td>USP34-DT</td><td>ASD</td><td>Control</td><td>ENST00000603652.2_4</td><td>ENST00000702649.1_1</td><td>isoComp_00133928</td><td>isoComp_00133932</td><td>coding_potential  </td><td>FALSE</td><td>NA                     </td></tr>\n",
       "\t<tr><th scope=row>533</th><td>533</td><td>geneComp_00040665</td><td>USP34-DT</td><td>USP34-DT</td><td>ASD</td><td>Control</td><td>ENST00000603652.2_4</td><td>ENST00000702649.1_1</td><td>isoComp_00133928</td><td>isoComp_00133932</td><td>ORF_seq_similarity</td><td> TRUE</td><td>Complete ORF gain      </td></tr>\n",
       "\t<tr><th scope=row>534</th><td>534</td><td>geneComp_00040665</td><td>USP34-DT</td><td>USP34-DT</td><td>ASD</td><td>Control</td><td>ENST00000603652.2_4</td><td>ENST00000702649.1_1</td><td>isoComp_00133928</td><td>isoComp_00133932</td><td>NMD_status        </td><td>   NA</td><td>NA                     </td></tr>\n",
       "\t<tr><th scope=row>535</th><td>535</td><td>geneComp_00040665</td><td>USP34-DT</td><td>USP34-DT</td><td>ASD</td><td>Control</td><td>ENST00000603652.2_4</td><td>ENST00000702649.1_1</td><td>isoComp_00133928</td><td>isoComp_00133932</td><td>domains_identified</td><td>FALSE</td><td>NA                     </td></tr>\n",
       "\t<tr><th scope=row>536</th><td>536</td><td>geneComp_00040665</td><td>USP34-DT</td><td>USP34-DT</td><td>ASD</td><td>Control</td><td>ENST00000605437.1_2</td><td>ENST00000702649.1_1</td><td>isoComp_00133929</td><td>isoComp_00133932</td><td>intron_retention  </td><td> TRUE</td><td>Intron retention loss  </td></tr>\n",
       "\t<tr><th scope=row>537</th><td>537</td><td>geneComp_00040665</td><td>USP34-DT</td><td>USP34-DT</td><td>ASD</td><td>Control</td><td>ENST00000605437.1_2</td><td>ENST00000702649.1_1</td><td>isoComp_00133929</td><td>isoComp_00133932</td><td>coding_potential  </td><td>FALSE</td><td>NA                     </td></tr>\n",
       "\t<tr><th scope=row>538</th><td>538</td><td>geneComp_00040665</td><td>USP34-DT</td><td>USP34-DT</td><td>ASD</td><td>Control</td><td>ENST00000605437.1_2</td><td>ENST00000702649.1_1</td><td>isoComp_00133929</td><td>isoComp_00133932</td><td>ORF_seq_similarity</td><td> TRUE</td><td>Complete ORF gain      </td></tr>\n",
       "\t<tr><th scope=row>539</th><td>539</td><td>geneComp_00040665</td><td>USP34-DT</td><td>USP34-DT</td><td>ASD</td><td>Control</td><td>ENST00000605437.1_2</td><td>ENST00000702649.1_1</td><td>isoComp_00133929</td><td>isoComp_00133932</td><td>NMD_status        </td><td>   NA</td><td>NA                     </td></tr>\n",
       "\t<tr><th scope=row>540</th><td>540</td><td>geneComp_00040665</td><td>USP34-DT</td><td>USP34-DT</td><td>ASD</td><td>Control</td><td>ENST00000605437.1_2</td><td>ENST00000702649.1_1</td><td>isoComp_00133929</td><td>isoComp_00133932</td><td>domains_identified</td><td>FALSE</td><td>NA                     </td></tr>\n",
       "</tbody>\n",
       "</table>\n"
      ],
      "text/latex": [
       "A data.frame: 10 × 13\n",
       "\\begin{tabular}{r|lllllllllllll}\n",
       "  & X & gene\\_ref & gene\\_id & gene\\_name & condition\\_1 & condition\\_2 & isoformUpregulated & isoformDownregulated & iso\\_ref\\_up & iso\\_ref\\_down & featureCompared & isoformsDifferent & switchConsequence\\\\\n",
       "  & <int> & <chr> & <chr> & <chr> & <chr> & <chr> & <chr> & <chr> & <chr> & <chr> & <chr> & <lgl> & <chr>\\\\\n",
       "\\hline\n",
       "\t531 & 531 & geneComp\\_00040665 & USP34-DT & USP34-DT & ASD & Control & ENST00000603652.2\\_4 & ENST00000702649.1\\_1 & isoComp\\_00133928 & isoComp\\_00133932 & intron\\_retention   &  TRUE & Intron retention switch\\\\\n",
       "\t532 & 532 & geneComp\\_00040665 & USP34-DT & USP34-DT & ASD & Control & ENST00000603652.2\\_4 & ENST00000702649.1\\_1 & isoComp\\_00133928 & isoComp\\_00133932 & coding\\_potential   & FALSE & NA                     \\\\\n",
       "\t533 & 533 & geneComp\\_00040665 & USP34-DT & USP34-DT & ASD & Control & ENST00000603652.2\\_4 & ENST00000702649.1\\_1 & isoComp\\_00133928 & isoComp\\_00133932 & ORF\\_seq\\_similarity &  TRUE & Complete ORF gain      \\\\\n",
       "\t534 & 534 & geneComp\\_00040665 & USP34-DT & USP34-DT & ASD & Control & ENST00000603652.2\\_4 & ENST00000702649.1\\_1 & isoComp\\_00133928 & isoComp\\_00133932 & NMD\\_status         &    NA & NA                     \\\\\n",
       "\t535 & 535 & geneComp\\_00040665 & USP34-DT & USP34-DT & ASD & Control & ENST00000603652.2\\_4 & ENST00000702649.1\\_1 & isoComp\\_00133928 & isoComp\\_00133932 & domains\\_identified & FALSE & NA                     \\\\\n",
       "\t536 & 536 & geneComp\\_00040665 & USP34-DT & USP34-DT & ASD & Control & ENST00000605437.1\\_2 & ENST00000702649.1\\_1 & isoComp\\_00133929 & isoComp\\_00133932 & intron\\_retention   &  TRUE & Intron retention loss  \\\\\n",
       "\t537 & 537 & geneComp\\_00040665 & USP34-DT & USP34-DT & ASD & Control & ENST00000605437.1\\_2 & ENST00000702649.1\\_1 & isoComp\\_00133929 & isoComp\\_00133932 & coding\\_potential   & FALSE & NA                     \\\\\n",
       "\t538 & 538 & geneComp\\_00040665 & USP34-DT & USP34-DT & ASD & Control & ENST00000605437.1\\_2 & ENST00000702649.1\\_1 & isoComp\\_00133929 & isoComp\\_00133932 & ORF\\_seq\\_similarity &  TRUE & Complete ORF gain      \\\\\n",
       "\t539 & 539 & geneComp\\_00040665 & USP34-DT & USP34-DT & ASD & Control & ENST00000605437.1\\_2 & ENST00000702649.1\\_1 & isoComp\\_00133929 & isoComp\\_00133932 & NMD\\_status         &    NA & NA                     \\\\\n",
       "\t540 & 540 & geneComp\\_00040665 & USP34-DT & USP34-DT & ASD & Control & ENST00000605437.1\\_2 & ENST00000702649.1\\_1 & isoComp\\_00133929 & isoComp\\_00133932 & domains\\_identified & FALSE & NA                     \\\\\n",
       "\\end{tabular}\n"
      ],
      "text/markdown": [
       "\n",
       "A data.frame: 10 × 13\n",
       "\n",
       "| <!--/--> | X &lt;int&gt; | gene_ref &lt;chr&gt; | gene_id &lt;chr&gt; | gene_name &lt;chr&gt; | condition_1 &lt;chr&gt; | condition_2 &lt;chr&gt; | isoformUpregulated &lt;chr&gt; | isoformDownregulated &lt;chr&gt; | iso_ref_up &lt;chr&gt; | iso_ref_down &lt;chr&gt; | featureCompared &lt;chr&gt; | isoformsDifferent &lt;lgl&gt; | switchConsequence &lt;chr&gt; |\n",
       "|---|---|---|---|---|---|---|---|---|---|---|---|---|---|\n",
       "| 531 | 531 | geneComp_00040665 | USP34-DT | USP34-DT | ASD | Control | ENST00000603652.2_4 | ENST00000702649.1_1 | isoComp_00133928 | isoComp_00133932 | intron_retention   |  TRUE | Intron retention switch |\n",
       "| 532 | 532 | geneComp_00040665 | USP34-DT | USP34-DT | ASD | Control | ENST00000603652.2_4 | ENST00000702649.1_1 | isoComp_00133928 | isoComp_00133932 | coding_potential   | FALSE | NA                      |\n",
       "| 533 | 533 | geneComp_00040665 | USP34-DT | USP34-DT | ASD | Control | ENST00000603652.2_4 | ENST00000702649.1_1 | isoComp_00133928 | isoComp_00133932 | ORF_seq_similarity |  TRUE | Complete ORF gain       |\n",
       "| 534 | 534 | geneComp_00040665 | USP34-DT | USP34-DT | ASD | Control | ENST00000603652.2_4 | ENST00000702649.1_1 | isoComp_00133928 | isoComp_00133932 | NMD_status         |    NA | NA                      |\n",
       "| 535 | 535 | geneComp_00040665 | USP34-DT | USP34-DT | ASD | Control | ENST00000603652.2_4 | ENST00000702649.1_1 | isoComp_00133928 | isoComp_00133932 | domains_identified | FALSE | NA                      |\n",
       "| 536 | 536 | geneComp_00040665 | USP34-DT | USP34-DT | ASD | Control | ENST00000605437.1_2 | ENST00000702649.1_1 | isoComp_00133929 | isoComp_00133932 | intron_retention   |  TRUE | Intron retention loss   |\n",
       "| 537 | 537 | geneComp_00040665 | USP34-DT | USP34-DT | ASD | Control | ENST00000605437.1_2 | ENST00000702649.1_1 | isoComp_00133929 | isoComp_00133932 | coding_potential   | FALSE | NA                      |\n",
       "| 538 | 538 | geneComp_00040665 | USP34-DT | USP34-DT | ASD | Control | ENST00000605437.1_2 | ENST00000702649.1_1 | isoComp_00133929 | isoComp_00133932 | ORF_seq_similarity |  TRUE | Complete ORF gain       |\n",
       "| 539 | 539 | geneComp_00040665 | USP34-DT | USP34-DT | ASD | Control | ENST00000605437.1_2 | ENST00000702649.1_1 | isoComp_00133929 | isoComp_00133932 | NMD_status         |    NA | NA                      |\n",
       "| 540 | 540 | geneComp_00040665 | USP34-DT | USP34-DT | ASD | Control | ENST00000605437.1_2 | ENST00000702649.1_1 | isoComp_00133929 | isoComp_00133932 | domains_identified | FALSE | NA                      |\n",
       "\n"
      ],
      "text/plain": [
       "    X   gene_ref          gene_id  gene_name condition_1 condition_2\n",
       "531 531 geneComp_00040665 USP34-DT USP34-DT  ASD         Control    \n",
       "532 532 geneComp_00040665 USP34-DT USP34-DT  ASD         Control    \n",
       "533 533 geneComp_00040665 USP34-DT USP34-DT  ASD         Control    \n",
       "534 534 geneComp_00040665 USP34-DT USP34-DT  ASD         Control    \n",
       "535 535 geneComp_00040665 USP34-DT USP34-DT  ASD         Control    \n",
       "536 536 geneComp_00040665 USP34-DT USP34-DT  ASD         Control    \n",
       "537 537 geneComp_00040665 USP34-DT USP34-DT  ASD         Control    \n",
       "538 538 geneComp_00040665 USP34-DT USP34-DT  ASD         Control    \n",
       "539 539 geneComp_00040665 USP34-DT USP34-DT  ASD         Control    \n",
       "540 540 geneComp_00040665 USP34-DT USP34-DT  ASD         Control    \n",
       "    isoformUpregulated  isoformDownregulated iso_ref_up       iso_ref_down    \n",
       "531 ENST00000603652.2_4 ENST00000702649.1_1  isoComp_00133928 isoComp_00133932\n",
       "532 ENST00000603652.2_4 ENST00000702649.1_1  isoComp_00133928 isoComp_00133932\n",
       "533 ENST00000603652.2_4 ENST00000702649.1_1  isoComp_00133928 isoComp_00133932\n",
       "534 ENST00000603652.2_4 ENST00000702649.1_1  isoComp_00133928 isoComp_00133932\n",
       "535 ENST00000603652.2_4 ENST00000702649.1_1  isoComp_00133928 isoComp_00133932\n",
       "536 ENST00000605437.1_2 ENST00000702649.1_1  isoComp_00133929 isoComp_00133932\n",
       "537 ENST00000605437.1_2 ENST00000702649.1_1  isoComp_00133929 isoComp_00133932\n",
       "538 ENST00000605437.1_2 ENST00000702649.1_1  isoComp_00133929 isoComp_00133932\n",
       "539 ENST00000605437.1_2 ENST00000702649.1_1  isoComp_00133929 isoComp_00133932\n",
       "540 ENST00000605437.1_2 ENST00000702649.1_1  isoComp_00133929 isoComp_00133932\n",
       "    featureCompared    isoformsDifferent switchConsequence      \n",
       "531 intron_retention    TRUE             Intron retention switch\n",
       "532 coding_potential   FALSE             NA                     \n",
       "533 ORF_seq_similarity  TRUE             Complete ORF gain      \n",
       "534 NMD_status            NA             NA                     \n",
       "535 domains_identified FALSE             NA                     \n",
       "536 intron_retention    TRUE             Intron retention loss  \n",
       "537 coding_potential   FALSE             NA                     \n",
       "538 ORF_seq_similarity  TRUE             Complete ORF gain      \n",
       "539 NMD_status            NA             NA                     \n",
       "540 domains_identified FALSE             NA                     "
      ]
     },
     "metadata": {},
     "output_type": "display_data"
    }
   ],
   "source": [
    "head(switch_cons)\n",
    "switch_cons[switch_cons$gene_id=='USP34-DT',]\n",
    "write.table(unique(switch_cons$gene_id),\"/disk1/wenqing/tmp_data/ASD/geneWzAS.txt\",quote=F,row.names=F)"
   ]
  },
  {
   "cell_type": "code",
   "execution_count": 132,
   "metadata": {
    "vscode": {
     "languageId": "r"
    }
   },
   "outputs": [
    {
     "data": {
      "text/html": [
       "<style>\n",
       ".list-inline {list-style: none; margin:0; padding: 0}\n",
       ".list-inline>li {display: inline-block}\n",
       ".list-inline>li:not(:last-child)::after {content: \"\\00b7\"; padding: 0 .5ex}\n",
       "</style>\n",
       "<ol class=list-inline><li>580</li><li>13</li></ol>\n"
      ],
      "text/latex": [
       "\\begin{enumerate*}\n",
       "\\item 580\n",
       "\\item 13\n",
       "\\end{enumerate*}\n"
      ],
      "text/markdown": [
       "1. 580\n",
       "2. 13\n",
       "\n",
       "\n"
      ],
      "text/plain": [
       "[1] 580  13"
      ]
     },
     "metadata": {},
     "output_type": "display_data"
    },
    {
     "data": {
      "text/html": [
       "<style>\n",
       ".list-inline {list-style: none; margin:0; padding: 0}\n",
       ".list-inline>li {display: inline-block}\n",
       ".list-inline>li:not(:last-child)::after {content: \"\\00b7\"; padding: 0 .5ex}\n",
       "</style>\n",
       "<ol class=list-inline><li>243</li><li>13</li></ol>\n"
      ],
      "text/latex": [
       "\\begin{enumerate*}\n",
       "\\item 243\n",
       "\\item 13\n",
       "\\end{enumerate*}\n"
      ],
      "text/markdown": [
       "1. 243\n",
       "2. 13\n",
       "\n",
       "\n"
      ],
      "text/plain": [
       "[1] 243  13"
      ]
     },
     "metadata": {},
     "output_type": "display_data"
    },
    {
     "data": {
      "text/html": [
       "<table class=\"dataframe\">\n",
       "<caption>A data.frame: 6 × 13</caption>\n",
       "<thead>\n",
       "\t<tr><th></th><th scope=col>X</th><th scope=col>gene_ref</th><th scope=col>gene_id</th><th scope=col>gene_name</th><th scope=col>condition_1</th><th scope=col>condition_2</th><th scope=col>isoformUpregulated</th><th scope=col>isoformDownregulated</th><th scope=col>iso_ref_up</th><th scope=col>iso_ref_down</th><th scope=col>featureCompared</th><th scope=col>isoformsDifferent</th><th scope=col>switchConsequence</th></tr>\n",
       "\t<tr><th></th><th scope=col>&lt;int&gt;</th><th scope=col>&lt;chr&gt;</th><th scope=col>&lt;chr&gt;</th><th scope=col>&lt;chr&gt;</th><th scope=col>&lt;chr&gt;</th><th scope=col>&lt;chr&gt;</th><th scope=col>&lt;chr&gt;</th><th scope=col>&lt;chr&gt;</th><th scope=col>&lt;chr&gt;</th><th scope=col>&lt;chr&gt;</th><th scope=col>&lt;chr&gt;</th><th scope=col>&lt;lgl&gt;</th><th scope=col>&lt;chr&gt;</th></tr>\n",
       "</thead>\n",
       "<tbody>\n",
       "\t<tr><th scope=row>1</th><td> 1</td><td>geneComp_00000007</td><td>A2M-AS1</td><td>A2M-AS1</td><td>ASD</td><td>Control</td><td>ENST00000648157.1_1</td><td>ENST00000670582.1_1 </td><td>isoComp_00000023</td><td>isoComp_00000025</td><td>intron_retention  </td><td>TRUE</td><td>Intron retention loss  </td></tr>\n",
       "\t<tr><th scope=row>3</th><td> 3</td><td>geneComp_00000007</td><td>A2M-AS1</td><td>A2M-AS1</td><td>ASD</td><td>Control</td><td>ENST00000648157.1_1</td><td>ENST00000670582.1_1 </td><td>isoComp_00000023</td><td>isoComp_00000025</td><td>ORF_seq_similarity</td><td>TRUE</td><td>ORF is shorter         </td></tr>\n",
       "\t<tr><th scope=row>4</th><td> 4</td><td>geneComp_00000007</td><td>A2M-AS1</td><td>A2M-AS1</td><td>ASD</td><td>Control</td><td>ENST00000648157.1_1</td><td>ENST00000670582.1_1 </td><td>isoComp_00000023</td><td>isoComp_00000025</td><td>NMD_status        </td><td>TRUE</td><td>NMD sensitive          </td></tr>\n",
       "\t<tr><th scope=row>8</th><td> 8</td><td>geneComp_00000503</td><td>ACSL6  </td><td>ACSL6  </td><td>ASD</td><td>Control</td><td>ENST00000357096.5_4</td><td>ENST00000651883.2_8 </td><td>isoComp_00001614</td><td>isoComp_00001624</td><td>ORF_seq_similarity</td><td>TRUE</td><td>ORF is shorter         </td></tr>\n",
       "\t<tr><th scope=row>10</th><td>10</td><td>geneComp_00000503</td><td>ACSL6  </td><td>ACSL6  </td><td>ASD</td><td>Control</td><td>ENST00000357096.5_4</td><td>ENST00000651883.2_8 </td><td>isoComp_00001614</td><td>isoComp_00001624</td><td>domains_identified</td><td>TRUE</td><td>Domain gain            </td></tr>\n",
       "\t<tr><th scope=row>12</th><td>12</td><td>geneComp_00001500</td><td>APBB2  </td><td>APBB2  </td><td>ASD</td><td>Control</td><td>ENST00000508707.5_4</td><td>ENST00000295974.12_6</td><td>isoComp_00005871</td><td>isoComp_00005861</td><td>coding_potential  </td><td>TRUE</td><td>Transcript is Noncoding</td></tr>\n",
       "</tbody>\n",
       "</table>\n"
      ],
      "text/latex": [
       "A data.frame: 6 × 13\n",
       "\\begin{tabular}{r|lllllllllllll}\n",
       "  & X & gene\\_ref & gene\\_id & gene\\_name & condition\\_1 & condition\\_2 & isoformUpregulated & isoformDownregulated & iso\\_ref\\_up & iso\\_ref\\_down & featureCompared & isoformsDifferent & switchConsequence\\\\\n",
       "  & <int> & <chr> & <chr> & <chr> & <chr> & <chr> & <chr> & <chr> & <chr> & <chr> & <chr> & <lgl> & <chr>\\\\\n",
       "\\hline\n",
       "\t1 &  1 & geneComp\\_00000007 & A2M-AS1 & A2M-AS1 & ASD & Control & ENST00000648157.1\\_1 & ENST00000670582.1\\_1  & isoComp\\_00000023 & isoComp\\_00000025 & intron\\_retention   & TRUE & Intron retention loss  \\\\\n",
       "\t3 &  3 & geneComp\\_00000007 & A2M-AS1 & A2M-AS1 & ASD & Control & ENST00000648157.1\\_1 & ENST00000670582.1\\_1  & isoComp\\_00000023 & isoComp\\_00000025 & ORF\\_seq\\_similarity & TRUE & ORF is shorter         \\\\\n",
       "\t4 &  4 & geneComp\\_00000007 & A2M-AS1 & A2M-AS1 & ASD & Control & ENST00000648157.1\\_1 & ENST00000670582.1\\_1  & isoComp\\_00000023 & isoComp\\_00000025 & NMD\\_status         & TRUE & NMD sensitive          \\\\\n",
       "\t8 &  8 & geneComp\\_00000503 & ACSL6   & ACSL6   & ASD & Control & ENST00000357096.5\\_4 & ENST00000651883.2\\_8  & isoComp\\_00001614 & isoComp\\_00001624 & ORF\\_seq\\_similarity & TRUE & ORF is shorter         \\\\\n",
       "\t10 & 10 & geneComp\\_00000503 & ACSL6   & ACSL6   & ASD & Control & ENST00000357096.5\\_4 & ENST00000651883.2\\_8  & isoComp\\_00001614 & isoComp\\_00001624 & domains\\_identified & TRUE & Domain gain            \\\\\n",
       "\t12 & 12 & geneComp\\_00001500 & APBB2   & APBB2   & ASD & Control & ENST00000508707.5\\_4 & ENST00000295974.12\\_6 & isoComp\\_00005871 & isoComp\\_00005861 & coding\\_potential   & TRUE & Transcript is Noncoding\\\\\n",
       "\\end{tabular}\n"
      ],
      "text/markdown": [
       "\n",
       "A data.frame: 6 × 13\n",
       "\n",
       "| <!--/--> | X &lt;int&gt; | gene_ref &lt;chr&gt; | gene_id &lt;chr&gt; | gene_name &lt;chr&gt; | condition_1 &lt;chr&gt; | condition_2 &lt;chr&gt; | isoformUpregulated &lt;chr&gt; | isoformDownregulated &lt;chr&gt; | iso_ref_up &lt;chr&gt; | iso_ref_down &lt;chr&gt; | featureCompared &lt;chr&gt; | isoformsDifferent &lt;lgl&gt; | switchConsequence &lt;chr&gt; |\n",
       "|---|---|---|---|---|---|---|---|---|---|---|---|---|---|\n",
       "| 1 |  1 | geneComp_00000007 | A2M-AS1 | A2M-AS1 | ASD | Control | ENST00000648157.1_1 | ENST00000670582.1_1  | isoComp_00000023 | isoComp_00000025 | intron_retention   | TRUE | Intron retention loss   |\n",
       "| 3 |  3 | geneComp_00000007 | A2M-AS1 | A2M-AS1 | ASD | Control | ENST00000648157.1_1 | ENST00000670582.1_1  | isoComp_00000023 | isoComp_00000025 | ORF_seq_similarity | TRUE | ORF is shorter          |\n",
       "| 4 |  4 | geneComp_00000007 | A2M-AS1 | A2M-AS1 | ASD | Control | ENST00000648157.1_1 | ENST00000670582.1_1  | isoComp_00000023 | isoComp_00000025 | NMD_status         | TRUE | NMD sensitive           |\n",
       "| 8 |  8 | geneComp_00000503 | ACSL6   | ACSL6   | ASD | Control | ENST00000357096.5_4 | ENST00000651883.2_8  | isoComp_00001614 | isoComp_00001624 | ORF_seq_similarity | TRUE | ORF is shorter          |\n",
       "| 10 | 10 | geneComp_00000503 | ACSL6   | ACSL6   | ASD | Control | ENST00000357096.5_4 | ENST00000651883.2_8  | isoComp_00001614 | isoComp_00001624 | domains_identified | TRUE | Domain gain             |\n",
       "| 12 | 12 | geneComp_00001500 | APBB2   | APBB2   | ASD | Control | ENST00000508707.5_4 | ENST00000295974.12_6 | isoComp_00005871 | isoComp_00005861 | coding_potential   | TRUE | Transcript is Noncoding |\n",
       "\n"
      ],
      "text/plain": [
       "   X  gene_ref          gene_id gene_name condition_1 condition_2\n",
       "1   1 geneComp_00000007 A2M-AS1 A2M-AS1   ASD         Control    \n",
       "3   3 geneComp_00000007 A2M-AS1 A2M-AS1   ASD         Control    \n",
       "4   4 geneComp_00000007 A2M-AS1 A2M-AS1   ASD         Control    \n",
       "8   8 geneComp_00000503 ACSL6   ACSL6     ASD         Control    \n",
       "10 10 geneComp_00000503 ACSL6   ACSL6     ASD         Control    \n",
       "12 12 geneComp_00001500 APBB2   APBB2     ASD         Control    \n",
       "   isoformUpregulated  isoformDownregulated iso_ref_up       iso_ref_down    \n",
       "1  ENST00000648157.1_1 ENST00000670582.1_1  isoComp_00000023 isoComp_00000025\n",
       "3  ENST00000648157.1_1 ENST00000670582.1_1  isoComp_00000023 isoComp_00000025\n",
       "4  ENST00000648157.1_1 ENST00000670582.1_1  isoComp_00000023 isoComp_00000025\n",
       "8  ENST00000357096.5_4 ENST00000651883.2_8  isoComp_00001614 isoComp_00001624\n",
       "10 ENST00000357096.5_4 ENST00000651883.2_8  isoComp_00001614 isoComp_00001624\n",
       "12 ENST00000508707.5_4 ENST00000295974.12_6 isoComp_00005871 isoComp_00005861\n",
       "   featureCompared    isoformsDifferent switchConsequence      \n",
       "1  intron_retention   TRUE              Intron retention loss  \n",
       "3  ORF_seq_similarity TRUE              ORF is shorter         \n",
       "4  NMD_status         TRUE              NMD sensitive          \n",
       "8  ORF_seq_similarity TRUE              ORF is shorter         \n",
       "10 domains_identified TRUE              Domain gain            \n",
       "12 coding_potential   TRUE              Transcript is Noncoding"
      ]
     },
     "metadata": {},
     "output_type": "display_data"
    }
   ],
   "source": [
    "dim(switch_cons)\n",
    "#switch_cons_rm <- switch_cons[!is.na(switch_cons$switchConsequence),]\n",
    "#dim(switch_cons_rm)\n",
    "#head(switch_cons_rm)"
   ]
  },
  {
   "cell_type": "code",
   "execution_count": 5,
   "metadata": {
    "vscode": {
     "languageId": "r"
    }
   },
   "outputs": [],
   "source": [
    "# dim(deEx_iso)\n",
    "#deEx_switch_consequence_iso_id <- intersect(deEx_iso$isoform_id,c(switch_cons$isoformUpregulated,switch_cons$isoformDownregulated))\n"
   ]
  },
  {
   "cell_type": "code",
   "execution_count": 11,
   "metadata": {
    "vscode": {
     "languageId": "r"
    }
   },
   "outputs": [],
   "source": [
    "#取有明确功能后果的iso进行分析\n",
    "deEx_iso_IR_range <- exon_region[exon_region$isoform_id %in% deEx_iso_IR$isoform_id,]"
   ]
  },
  {
   "cell_type": "code",
   "execution_count": 15,
   "metadata": {
    "vscode": {
     "languageId": "r"
    }
   },
   "outputs": [
    {
     "data": {
      "text/html": [
       "<table class=\"dataframe\">\n",
       "<caption>A data.frame: 6 × 9</caption>\n",
       "<thead>\n",
       "\t<tr><th></th><th scope=col>X</th><th scope=col>seqnames</th><th scope=col>start</th><th scope=col>end</th><th scope=col>width</th><th scope=col>strand</th><th scope=col>isoform_id</th><th scope=col>gene_id</th><th scope=col>gene_name</th></tr>\n",
       "\t<tr><th></th><th scope=col>&lt;int&gt;</th><th scope=col>&lt;chr&gt;</th><th scope=col>&lt;int&gt;</th><th scope=col>&lt;int&gt;</th><th scope=col>&lt;int&gt;</th><th scope=col>&lt;chr&gt;</th><th scope=col>&lt;chr&gt;</th><th scope=col>&lt;chr&gt;</th><th scope=col>&lt;chr&gt;</th></tr>\n",
       "</thead>\n",
       "<tbody>\n",
       "\t<tr><th scope=row>76395</th><td>76395</td><td>chr1</td><td>161952982</td><td>161954066</td><td>1085</td><td>-</td><td>ENST00000294794.8_9</td><td>OLFML2B</td><td>OLFML2B</td></tr>\n",
       "\t<tr><th scope=row>76398</th><td>76398</td><td>chr1</td><td>161954594</td><td>161954770</td><td> 177</td><td>-</td><td>ENST00000294794.8_9</td><td>OLFML2B</td><td>OLFML2B</td></tr>\n",
       "\t<tr><th scope=row>76399</th><td>76399</td><td>chr1</td><td>161967615</td><td>161968139</td><td> 525</td><td>-</td><td>ENST00000294794.8_9</td><td>OLFML2B</td><td>OLFML2B</td></tr>\n",
       "\t<tr><th scope=row>76400</th><td>76400</td><td>chr1</td><td>161969903</td><td>161970128</td><td> 226</td><td>-</td><td>ENST00000294794.8_9</td><td>OLFML2B</td><td>OLFML2B</td></tr>\n",
       "\t<tr><th scope=row>76401</th><td>76401</td><td>chr1</td><td>161976087</td><td>161976263</td><td> 177</td><td>-</td><td>ENST00000294794.8_9</td><td>OLFML2B</td><td>OLFML2B</td></tr>\n",
       "\t<tr><th scope=row>76402</th><td>76402</td><td>chr1</td><td>161987190</td><td>161987297</td><td> 108</td><td>-</td><td>ENST00000294794.8_9</td><td>OLFML2B</td><td>OLFML2B</td></tr>\n",
       "</tbody>\n",
       "</table>\n"
      ],
      "text/latex": [
       "A data.frame: 6 × 9\n",
       "\\begin{tabular}{r|lllllllll}\n",
       "  & X & seqnames & start & end & width & strand & isoform\\_id & gene\\_id & gene\\_name\\\\\n",
       "  & <int> & <chr> & <int> & <int> & <int> & <chr> & <chr> & <chr> & <chr>\\\\\n",
       "\\hline\n",
       "\t76395 & 76395 & chr1 & 161952982 & 161954066 & 1085 & - & ENST00000294794.8\\_9 & OLFML2B & OLFML2B\\\\\n",
       "\t76398 & 76398 & chr1 & 161954594 & 161954770 &  177 & - & ENST00000294794.8\\_9 & OLFML2B & OLFML2B\\\\\n",
       "\t76399 & 76399 & chr1 & 161967615 & 161968139 &  525 & - & ENST00000294794.8\\_9 & OLFML2B & OLFML2B\\\\\n",
       "\t76400 & 76400 & chr1 & 161969903 & 161970128 &  226 & - & ENST00000294794.8\\_9 & OLFML2B & OLFML2B\\\\\n",
       "\t76401 & 76401 & chr1 & 161976087 & 161976263 &  177 & - & ENST00000294794.8\\_9 & OLFML2B & OLFML2B\\\\\n",
       "\t76402 & 76402 & chr1 & 161987190 & 161987297 &  108 & - & ENST00000294794.8\\_9 & OLFML2B & OLFML2B\\\\\n",
       "\\end{tabular}\n"
      ],
      "text/markdown": [
       "\n",
       "A data.frame: 6 × 9\n",
       "\n",
       "| <!--/--> | X &lt;int&gt; | seqnames &lt;chr&gt; | start &lt;int&gt; | end &lt;int&gt; | width &lt;int&gt; | strand &lt;chr&gt; | isoform_id &lt;chr&gt; | gene_id &lt;chr&gt; | gene_name &lt;chr&gt; |\n",
       "|---|---|---|---|---|---|---|---|---|---|\n",
       "| 76395 | 76395 | chr1 | 161952982 | 161954066 | 1085 | - | ENST00000294794.8_9 | OLFML2B | OLFML2B |\n",
       "| 76398 | 76398 | chr1 | 161954594 | 161954770 |  177 | - | ENST00000294794.8_9 | OLFML2B | OLFML2B |\n",
       "| 76399 | 76399 | chr1 | 161967615 | 161968139 |  525 | - | ENST00000294794.8_9 | OLFML2B | OLFML2B |\n",
       "| 76400 | 76400 | chr1 | 161969903 | 161970128 |  226 | - | ENST00000294794.8_9 | OLFML2B | OLFML2B |\n",
       "| 76401 | 76401 | chr1 | 161976087 | 161976263 |  177 | - | ENST00000294794.8_9 | OLFML2B | OLFML2B |\n",
       "| 76402 | 76402 | chr1 | 161987190 | 161987297 |  108 | - | ENST00000294794.8_9 | OLFML2B | OLFML2B |\n",
       "\n"
      ],
      "text/plain": [
       "      X     seqnames start     end       width strand isoform_id         \n",
       "76395 76395 chr1     161952982 161954066 1085  -      ENST00000294794.8_9\n",
       "76398 76398 chr1     161954594 161954770  177  -      ENST00000294794.8_9\n",
       "76399 76399 chr1     161967615 161968139  525  -      ENST00000294794.8_9\n",
       "76400 76400 chr1     161969903 161970128  226  -      ENST00000294794.8_9\n",
       "76401 76401 chr1     161976087 161976263  177  -      ENST00000294794.8_9\n",
       "76402 76402 chr1     161987190 161987297  108  -      ENST00000294794.8_9\n",
       "      gene_id gene_name\n",
       "76395 OLFML2B OLFML2B  \n",
       "76398 OLFML2B OLFML2B  \n",
       "76399 OLFML2B OLFML2B  \n",
       "76400 OLFML2B OLFML2B  \n",
       "76401 OLFML2B OLFML2B  \n",
       "76402 OLFML2B OLFML2B  "
      ]
     },
     "metadata": {},
     "output_type": "display_data"
    },
    {
     "data": {
      "text/html": [
       "<style>\n",
       ".list-inline {list-style: none; margin:0; padding: 0}\n",
       ".list-inline>li {display: inline-block}\n",
       ".list-inline>li:not(:last-child)::after {content: \"\\00b7\"; padding: 0 .5ex}\n",
       "</style>\n",
       "<ol class=list-inline><li>376</li><li>9</li></ol>\n"
      ],
      "text/latex": [
       "\\begin{enumerate*}\n",
       "\\item 376\n",
       "\\item 9\n",
       "\\end{enumerate*}\n"
      ],
      "text/markdown": [
       "1. 376\n",
       "2. 9\n",
       "\n",
       "\n"
      ],
      "text/plain": [
       "[1] 376   9"
      ]
     },
     "metadata": {},
     "output_type": "display_data"
    },
    {
     "data": {
      "text/html": [
       "71"
      ],
      "text/latex": [
       "71"
      ],
      "text/markdown": [
       "71"
      ],
      "text/plain": [
       "[1] 71"
      ]
     },
     "metadata": {},
     "output_type": "display_data"
    }
   ],
   "source": [
    "head(deEx_iso_IR_range)\n",
    "dim(deEx_iso_IR_range)\n",
    "length(unique(deEx_iso_IR_range$isoform_id))\n"
   ]
  },
  {
   "cell_type": "code",
   "execution_count": 16,
   "metadata": {
    "vscode": {
     "languageId": "r"
    }
   },
   "outputs": [],
   "source": [
    "#构建总的res列表\n",
    "res_17 <- read.table(\"/disk1/wenqing/tmp_data/ASD/asd_male_pfc/asd_17/SPRINT_identified_all.res\")\n",
    "res_18 <- read.table(\"/disk1/wenqing/tmp_data/ASD/asd_male_pfc/asd_18/SPRINT_identified_all.res\")\n",
    "res_57 <- read.table(\"/disk1/wenqing/tmp_data/ASD/asd_male_pfc/asd_57/SPRINT_identified_all.res\")\n",
    "res_20 <- read.table(\"/disk1/wenqing/tmp_data/ASD/ctr_male_pfc/ctr_20/SPRINT_identified_all.res\")\n",
    "res_23 <- read.table(\"/disk1/wenqing/tmp_data/ASD/ctr_male_pfc/ctr_23/SPRINT_identified_all.res\")\n",
    "res_56 <- read.table(\"/disk1/wenqing/tmp_data/ASD/ctr_male_pfc/ctr_56/SPRINT_identified_all.res\")\n",
    "\n",
    "all_res <- list()\n",
    "all_res[['17']] <- res_17\n",
    "all_res[['18']] <- res_18\n",
    "all_res[['57']] <- res_57\n",
    "all_res[['20']] <- res_20\n",
    "all_res[['23']] <- res_23\n",
    "all_res[['56']] <- res_56\n",
    "\n"
   ]
  },
  {
   "cell_type": "code",
   "execution_count": 63,
   "metadata": {
    "vscode": {
     "languageId": "r"
    }
   },
   "outputs": [
    {
     "data": {
      "text/plain": [
       "NULL"
      ]
     },
     "metadata": {},
     "output_type": "display_data"
    }
   ],
   "source": [
    "dim(unlist(all_res))"
   ]
  },
  {
   "cell_type": "code",
   "execution_count": 34,
   "metadata": {
    "vscode": {
     "languageId": "r"
    }
   },
   "outputs": [],
   "source": [
    "#####构建剪切供受体位点\n",
    "start_end_site <- c(paste0(deEx_iso_IR_range$seqnames,\"_\",deEx_iso_IR_range$start),paste0(deEx_iso_IR_range$seqnames,\"_\",deEx_iso_IR_range$end))\n",
    "#all_site <- c(start_site_expand,end_site_expand,start_end_site)\n",
    "deEx_iso_IR_id <- rep(deEx_iso_IR_range$isoform_id,times=2)\n",
    "deEx_iso_sites <- as.data.frame(cbind(start_end_site,deEx_iso_IR_id))\n",
    "colnames(deEx_iso_sites) <- c('site','iso_id')\n",
    "head(deEx_iso_sites)\n",
    "\n",
    "#deEx_iso_sites <- deEx_iso_sites[!duplicated(deEx_iso_sites$site),]\n",
    "#dim(deEx_iso_sites)\n",
    "#deEx_iso_sites[deEx_iso_sites$iso_id=='ENST00000294794.8_9',]\n",
    "\n",
    "#对每一个iso进行遍历，选择做交叉的res\n",
    "###未找到位于剪接供受体位置的res\n",
    "for(one_iso_id in deEx_iso_sites$iso_id){\n",
    "  loc <- which(iso_abundance_filtered[one_iso_id,c(3:8)]!=0)\n",
    "  input_res <- all_res[[loc[1]]]\n",
    "  for(i in loc[-1]){\n",
    "    tmp_input_res <- all_res[[i]]\n",
    "    input_res <- rbind(input_res,tmp_input_res)\n",
    "  }\n",
    "  all_res_site <- paste0(input_res$V1,\"_\",input_res$V3)\n",
    "  resInIsoSite <- intersect(deEx_iso_sites$site,all_res_site)\n",
    "  if(length(resInIsoSite)!=0){\n",
    "    print(one_iso_id)\n",
    "  }\n",
    "}"
   ]
  },
  {
   "cell_type": "code",
   "execution_count": 67,
   "metadata": {
    "vscode": {
     "languageId": "r"
    }
   },
   "outputs": [
    {
     "data": {
      "text/html": [
       "<style>\n",
       ".list-inline {list-style: none; margin:0; padding: 0}\n",
       ".list-inline>li {display: inline-block}\n",
       ".list-inline>li:not(:last-child)::after {content: \"\\00b7\"; padding: 0 .5ex}\n",
       "</style>\n",
       "<ol class=list-inline><li>376</li><li>5</li></ol>\n"
      ],
      "text/latex": [
       "\\begin{enumerate*}\n",
       "\\item 376\n",
       "\\item 5\n",
       "\\end{enumerate*}\n"
      ],
      "text/markdown": [
       "1. 376\n",
       "2. 5\n",
       "\n",
       "\n"
      ],
      "text/plain": [
       "[1] 376   5"
      ]
     },
     "metadata": {},
     "output_type": "display_data"
    },
    {
     "data": {
      "text/html": [
       "<table class=\"dataframe\">\n",
       "<caption>A matrix: 6 × 5 of type chr</caption>\n",
       "<thead>\n",
       "\t<tr><th scope=col></th><th scope=col>start</th><th scope=col>end</th><th scope=col></th><th scope=col></th></tr>\n",
       "</thead>\n",
       "<tbody>\n",
       "\t<tr><td>chr1</td><td>161947982</td><td>161959066</td><td>ENST00000294794.8_9</td><td>OLFML2B</td></tr>\n",
       "\t<tr><td>chr1</td><td>161949594</td><td>161959770</td><td>ENST00000294794.8_9</td><td>OLFML2B</td></tr>\n",
       "\t<tr><td>chr1</td><td>161962615</td><td>161973139</td><td>ENST00000294794.8_9</td><td>OLFML2B</td></tr>\n",
       "\t<tr><td>chr1</td><td>161964903</td><td>161975128</td><td>ENST00000294794.8_9</td><td>OLFML2B</td></tr>\n",
       "\t<tr><td>chr1</td><td>161971087</td><td>161981263</td><td>ENST00000294794.8_9</td><td>OLFML2B</td></tr>\n",
       "\t<tr><td>chr1</td><td>161982190</td><td>161992297</td><td>ENST00000294794.8_9</td><td>OLFML2B</td></tr>\n",
       "</tbody>\n",
       "</table>\n"
      ],
      "text/latex": [
       "A matrix: 6 × 5 of type chr\n",
       "\\begin{tabular}{lllll}\n",
       "  & start & end &  & \\\\\n",
       "\\hline\n",
       "\t chr1 & 161947982 & 161959066 & ENST00000294794.8\\_9 & OLFML2B\\\\\n",
       "\t chr1 & 161949594 & 161959770 & ENST00000294794.8\\_9 & OLFML2B\\\\\n",
       "\t chr1 & 161962615 & 161973139 & ENST00000294794.8\\_9 & OLFML2B\\\\\n",
       "\t chr1 & 161964903 & 161975128 & ENST00000294794.8\\_9 & OLFML2B\\\\\n",
       "\t chr1 & 161971087 & 161981263 & ENST00000294794.8\\_9 & OLFML2B\\\\\n",
       "\t chr1 & 161982190 & 161992297 & ENST00000294794.8\\_9 & OLFML2B\\\\\n",
       "\\end{tabular}\n"
      ],
      "text/markdown": [
       "\n",
       "A matrix: 6 × 5 of type chr\n",
       "\n",
       "| <!----> | start | end | <!----> | <!----> |\n",
       "|---|---|---|---|---|\n",
       "| chr1 | 161947982 | 161959066 | ENST00000294794.8_9 | OLFML2B |\n",
       "| chr1 | 161949594 | 161959770 | ENST00000294794.8_9 | OLFML2B |\n",
       "| chr1 | 161962615 | 161973139 | ENST00000294794.8_9 | OLFML2B |\n",
       "| chr1 | 161964903 | 161975128 | ENST00000294794.8_9 | OLFML2B |\n",
       "| chr1 | 161971087 | 161981263 | ENST00000294794.8_9 | OLFML2B |\n",
       "| chr1 | 161982190 | 161992297 | ENST00000294794.8_9 | OLFML2B |\n",
       "\n"
      ],
      "text/plain": [
       "          start     end                                  \n",
       "[1,] chr1 161947982 161959066 ENST00000294794.8_9 OLFML2B\n",
       "[2,] chr1 161949594 161959770 ENST00000294794.8_9 OLFML2B\n",
       "[3,] chr1 161962615 161973139 ENST00000294794.8_9 OLFML2B\n",
       "[4,] chr1 161964903 161975128 ENST00000294794.8_9 OLFML2B\n",
       "[5,] chr1 161971087 161981263 ENST00000294794.8_9 OLFML2B\n",
       "[6,] chr1 161982190 161992297 ENST00000294794.8_9 OLFML2B"
      ]
     },
     "metadata": {},
     "output_type": "display_data"
    }
   ],
   "source": [
    "###找位于iso边界上下游5k region的res\n",
    "start <- deEx_iso_IR_range$start-5000\n",
    "end <- deEx_iso_IR_range$end+5000\n",
    "new_region <- cbind(deEx_iso_IR_range$seqnames,start,end,deEx_iso_IR_range$isoform_id,deEx_iso_IR_range$gene_id)\n",
    "\n",
    "dim(new_region)\n",
    "colnames(new_region) <- NULL\n"
   ]
  },
  {
   "cell_type": "code",
   "execution_count": 127,
   "metadata": {
    "vscode": {
     "languageId": "r"
    }
   },
   "outputs": [
    {
     "data": {
      "text/html": [
       "<table class=\"dataframe\">\n",
       "<caption>A matrix: 6 × 5 of type chr</caption>\n",
       "<tbody>\n",
       "\t<tr><td>chr1</td><td>161947982</td><td>161959066</td><td>ENST00000294794.8_9</td><td>OLFML2B</td></tr>\n",
       "\t<tr><td>chr1</td><td>161949594</td><td>161959770</td><td>ENST00000294794.8_9</td><td>OLFML2B</td></tr>\n",
       "\t<tr><td>chr1</td><td>161962615</td><td>161973139</td><td>ENST00000294794.8_9</td><td>OLFML2B</td></tr>\n",
       "\t<tr><td>chr1</td><td>161964903</td><td>161975128</td><td>ENST00000294794.8_9</td><td>OLFML2B</td></tr>\n",
       "\t<tr><td>chr1</td><td>161971087</td><td>161981263</td><td>ENST00000294794.8_9</td><td>OLFML2B</td></tr>\n",
       "\t<tr><td>chr1</td><td>161982190</td><td>161992297</td><td>ENST00000294794.8_9</td><td>OLFML2B</td></tr>\n",
       "</tbody>\n",
       "</table>\n"
      ],
      "text/latex": [
       "A matrix: 6 × 5 of type chr\n",
       "\\begin{tabular}{lllll}\n",
       "\t chr1 & 161947982 & 161959066 & ENST00000294794.8\\_9 & OLFML2B\\\\\n",
       "\t chr1 & 161949594 & 161959770 & ENST00000294794.8\\_9 & OLFML2B\\\\\n",
       "\t chr1 & 161962615 & 161973139 & ENST00000294794.8\\_9 & OLFML2B\\\\\n",
       "\t chr1 & 161964903 & 161975128 & ENST00000294794.8\\_9 & OLFML2B\\\\\n",
       "\t chr1 & 161971087 & 161981263 & ENST00000294794.8\\_9 & OLFML2B\\\\\n",
       "\t chr1 & 161982190 & 161992297 & ENST00000294794.8\\_9 & OLFML2B\\\\\n",
       "\\end{tabular}\n"
      ],
      "text/markdown": [
       "\n",
       "A matrix: 6 × 5 of type chr\n",
       "\n",
       "| chr1 | 161947982 | 161959066 | ENST00000294794.8_9 | OLFML2B |\n",
       "| chr1 | 161949594 | 161959770 | ENST00000294794.8_9 | OLFML2B |\n",
       "| chr1 | 161962615 | 161973139 | ENST00000294794.8_9 | OLFML2B |\n",
       "| chr1 | 161964903 | 161975128 | ENST00000294794.8_9 | OLFML2B |\n",
       "| chr1 | 161971087 | 161981263 | ENST00000294794.8_9 | OLFML2B |\n",
       "| chr1 | 161982190 | 161992297 | ENST00000294794.8_9 | OLFML2B |\n",
       "\n"
      ],
      "text/plain": [
       "     [,1] [,2]      [,3]      [,4]                [,5]   \n",
       "[1,] chr1 161947982 161959066 ENST00000294794.8_9 OLFML2B\n",
       "[2,] chr1 161949594 161959770 ENST00000294794.8_9 OLFML2B\n",
       "[3,] chr1 161962615 161973139 ENST00000294794.8_9 OLFML2B\n",
       "[4,] chr1 161964903 161975128 ENST00000294794.8_9 OLFML2B\n",
       "[5,] chr1 161971087 161981263 ENST00000294794.8_9 OLFML2B\n",
       "[6,] chr1 161982190 161992297 ENST00000294794.8_9 OLFML2B"
      ]
     },
     "metadata": {},
     "output_type": "display_data"
    },
    {
     "data": {
      "text/html": [
       "39"
      ],
      "text/latex": [
       "39"
      ],
      "text/markdown": [
       "39"
      ],
      "text/plain": [
       "[1] 39"
      ]
     },
     "metadata": {},
     "output_type": "display_data"
    },
    {
     "data": {
      "text/plain": [
       "\n",
       "        A2M-AS1           APBB2          ARMCX6        C18orf21           CNDP2 \n",
       "              4               3               3               4               7 \n",
       "         COPS7B           CYREN          DCAF11          DCAF17         DNAJC10 \n",
       "             12               4              34              14              53 \n",
       "ENSG00000287625 ENSG00000291171         FAM193A         FAM200B          FIGNL1 \n",
       "              7               8               2              18               2 \n",
       "        GAS6-DT         GLUD1P3             HGF          HS1BP3           IFIT5 \n",
       "              4               1               4               2               2 \n",
       "        KRTCAP3           LERFS       LINC03015      LYPLAL1-DT          MAN2B1 \n",
       "              3               2               5               5               2 \n",
       "         MIATNB         OLFML2B           PALB2            PAX6            PCTP \n",
       "              2               8              12              33               6 \n",
       "           PEG3          PNPLA7         PPP1R42           SIRT7        TMEM198B \n",
       "             10              10              27              22              13 \n",
       "       USP34-DT           ZGPAT          ZNF250          ZNF774 \n",
       "             12               6               6               4 "
      ]
     },
     "metadata": {},
     "output_type": "display_data"
    }
   ],
   "source": [
    "\n",
    "head(new_region)\n",
    "length(unique(deEx_iso_IR_range$gene_id))\n",
    "table(deEx_iso_IR_range$gene_id)"
   ]
  },
  {
   "cell_type": "code",
   "execution_count": 68,
   "metadata": {
    "vscode": {
     "languageId": "r"
    }
   },
   "outputs": [],
   "source": [
    "write.table(new_region,\"/disk1/wenqing/tmp_data/ASD/region.txt\",quote=F,row.names=F)"
   ]
  },
  {
   "cell_type": "code",
   "execution_count": 93,
   "metadata": {
    "vscode": {
     "languageId": "r"
    }
   },
   "outputs": [
    {
     "data": {
      "text/html": [
       "21878599"
      ],
      "text/latex": [
       "21878599"
      ],
      "text/markdown": [
       "21878599"
      ],
      "text/plain": [
       "[1] 21878599"
      ]
     },
     "metadata": {},
     "output_type": "display_data"
    }
   ],
   "source": [
    "sample <- c(rep('17',times=2777043),rep('18',times=5445279),rep('57',times=2130754),rep('20',times=3506164),rep('23',times=4297423),rep('26',times=3721936))\n",
    "length(sample)"
   ]
  },
  {
   "cell_type": "code",
   "execution_count": 91,
   "metadata": {
    "vscode": {
     "languageId": "r"
    }
   },
   "outputs": [],
   "source": [
    "write.table(as.data.frame(sample),\"/disk1/wenqing/tmp_data/ASD/sample_info.txt\",quote=F,row.names=F)"
   ]
  },
  {
   "cell_type": "code",
   "execution_count": 94,
   "metadata": {
    "vscode": {
     "languageId": "r"
    }
   },
   "outputs": [],
   "source": [
    "######得到位于region区域的res——AsdCtrResInIsoformRegion.txt\n",
    "resInRegion <- read.table(\"/disk1/wenqing/tmp_data/ASD/AsdCtrResInIsoformRegion.txt\")\n",
    "head(resInRegion)\n",
    "table(resInRegion$V5)\n",
    "\n",
    "#生成isoform_res唯一标识符\n",
    "res_iso_uniq_id <- paste0(resInRegion$V4,\"_\",resInRegion$V6,\"_\",resInRegion$V8)\n",
    "length(res_iso_uniq_id)\n",
    "#共8062个res位于isoform上下游5k的范围内\n",
    "length(unique(res_iso_uniq_id))\n",
    "\n",
    "resInRegion_uniq <- resInRegion[!duplicated(res_iso_uniq_id),]\n",
    "write.table(resInRegion_uniq[resInRegion_uniq$V5=='USP34-DT',],\"/disk1/wenqing/tmp_data/ASD/USP34DT_res.txt\",quote=F,row.names=F)\n",
    "sort(table(resInRegion[!duplicated(res_iso_uniq_id),]$V5),decreasing=T)\n",
    "\n",
    "length(names(sort(table(resInRegion[!duplicated(res_iso_uniq_id),]$V5),decreasing=T)))\n"
   ]
  },
  {
   "cell_type": "code",
   "execution_count": 106,
   "metadata": {
    "vscode": {
     "languageId": "r"
    }
   },
   "outputs": [
    {
     "data": {
      "text/html": [
       "<table class=\"dataframe\">\n",
       "<caption>A data.frame: 6 × 9</caption>\n",
       "<thead>\n",
       "\t<tr><th></th><th scope=col>X</th><th scope=col>seqnames</th><th scope=col>start</th><th scope=col>end</th><th scope=col>width</th><th scope=col>strand</th><th scope=col>isoform_id</th><th scope=col>gene_id</th><th scope=col>gene_name</th></tr>\n",
       "\t<tr><th></th><th scope=col>&lt;int&gt;</th><th scope=col>&lt;chr&gt;</th><th scope=col>&lt;int&gt;</th><th scope=col>&lt;int&gt;</th><th scope=col>&lt;int&gt;</th><th scope=col>&lt;chr&gt;</th><th scope=col>&lt;chr&gt;</th><th scope=col>&lt;chr&gt;</th><th scope=col>&lt;chr&gt;</th></tr>\n",
       "</thead>\n",
       "<tbody>\n",
       "\t<tr><th scope=row>1</th><td>1</td><td>chr1</td><td>12010</td><td>12057</td><td> 48</td><td>+</td><td>ENST00000450305.2_2</td><td>DDX11L1</td><td>DDX11L1</td></tr>\n",
       "\t<tr><th scope=row>2</th><td>2</td><td>chr1</td><td>12179</td><td>12227</td><td> 49</td><td>+</td><td>ENST00000450305.2_2</td><td>DDX11L1</td><td>DDX11L1</td></tr>\n",
       "\t<tr><th scope=row>3</th><td>3</td><td>chr1</td><td>12613</td><td>12697</td><td> 85</td><td>+</td><td>ENST00000450305.2_2</td><td>DDX11L1</td><td>DDX11L1</td></tr>\n",
       "\t<tr><th scope=row>4</th><td>4</td><td>chr1</td><td>12975</td><td>13052</td><td> 78</td><td>+</td><td>ENST00000450305.2_2</td><td>DDX11L1</td><td>DDX11L1</td></tr>\n",
       "\t<tr><th scope=row>5</th><td>5</td><td>chr1</td><td>13221</td><td>13374</td><td>154</td><td>+</td><td>ENST00000450305.2_2</td><td>DDX11L1</td><td>DDX11L1</td></tr>\n",
       "\t<tr><th scope=row>6</th><td>6</td><td>chr1</td><td>13453</td><td>13670</td><td>218</td><td>+</td><td>ENST00000450305.2_2</td><td>DDX11L1</td><td>DDX11L1</td></tr>\n",
       "</tbody>\n",
       "</table>\n"
      ],
      "text/latex": [
       "A data.frame: 6 × 9\n",
       "\\begin{tabular}{r|lllllllll}\n",
       "  & X & seqnames & start & end & width & strand & isoform\\_id & gene\\_id & gene\\_name\\\\\n",
       "  & <int> & <chr> & <int> & <int> & <int> & <chr> & <chr> & <chr> & <chr>\\\\\n",
       "\\hline\n",
       "\t1 & 1 & chr1 & 12010 & 12057 &  48 & + & ENST00000450305.2\\_2 & DDX11L1 & DDX11L1\\\\\n",
       "\t2 & 2 & chr1 & 12179 & 12227 &  49 & + & ENST00000450305.2\\_2 & DDX11L1 & DDX11L1\\\\\n",
       "\t3 & 3 & chr1 & 12613 & 12697 &  85 & + & ENST00000450305.2\\_2 & DDX11L1 & DDX11L1\\\\\n",
       "\t4 & 4 & chr1 & 12975 & 13052 &  78 & + & ENST00000450305.2\\_2 & DDX11L1 & DDX11L1\\\\\n",
       "\t5 & 5 & chr1 & 13221 & 13374 & 154 & + & ENST00000450305.2\\_2 & DDX11L1 & DDX11L1\\\\\n",
       "\t6 & 6 & chr1 & 13453 & 13670 & 218 & + & ENST00000450305.2\\_2 & DDX11L1 & DDX11L1\\\\\n",
       "\\end{tabular}\n"
      ],
      "text/markdown": [
       "\n",
       "A data.frame: 6 × 9\n",
       "\n",
       "| <!--/--> | X &lt;int&gt; | seqnames &lt;chr&gt; | start &lt;int&gt; | end &lt;int&gt; | width &lt;int&gt; | strand &lt;chr&gt; | isoform_id &lt;chr&gt; | gene_id &lt;chr&gt; | gene_name &lt;chr&gt; |\n",
       "|---|---|---|---|---|---|---|---|---|---|\n",
       "| 1 | 1 | chr1 | 12010 | 12057 |  48 | + | ENST00000450305.2_2 | DDX11L1 | DDX11L1 |\n",
       "| 2 | 2 | chr1 | 12179 | 12227 |  49 | + | ENST00000450305.2_2 | DDX11L1 | DDX11L1 |\n",
       "| 3 | 3 | chr1 | 12613 | 12697 |  85 | + | ENST00000450305.2_2 | DDX11L1 | DDX11L1 |\n",
       "| 4 | 4 | chr1 | 12975 | 13052 |  78 | + | ENST00000450305.2_2 | DDX11L1 | DDX11L1 |\n",
       "| 5 | 5 | chr1 | 13221 | 13374 | 154 | + | ENST00000450305.2_2 | DDX11L1 | DDX11L1 |\n",
       "| 6 | 6 | chr1 | 13453 | 13670 | 218 | + | ENST00000450305.2_2 | DDX11L1 | DDX11L1 |\n",
       "\n"
      ],
      "text/plain": [
       "  X seqnames start end   width strand isoform_id          gene_id gene_name\n",
       "1 1 chr1     12010 12057  48   +      ENST00000450305.2_2 DDX11L1 DDX11L1  \n",
       "2 2 chr1     12179 12227  49   +      ENST00000450305.2_2 DDX11L1 DDX11L1  \n",
       "3 3 chr1     12613 12697  85   +      ENST00000450305.2_2 DDX11L1 DDX11L1  \n",
       "4 4 chr1     12975 13052  78   +      ENST00000450305.2_2 DDX11L1 DDX11L1  \n",
       "5 5 chr1     13221 13374 154   +      ENST00000450305.2_2 DDX11L1 DDX11L1  \n",
       "6 6 chr1     13453 13670 218   +      ENST00000450305.2_2 DDX11L1 DDX11L1  "
      ]
     },
     "metadata": {},
     "output_type": "display_data"
    },
    {
     "data": {
      "text/html": [
       "<table class=\"dataframe\">\n",
       "<caption>A data.frame: 3 × 9</caption>\n",
       "<thead>\n",
       "\t<tr><th></th><th scope=col>X</th><th scope=col>seqnames</th><th scope=col>start</th><th scope=col>end</th><th scope=col>width</th><th scope=col>strand</th><th scope=col>isoform_id</th><th scope=col>gene_id</th><th scope=col>gene_name</th></tr>\n",
       "\t<tr><th></th><th scope=col>&lt;int&gt;</th><th scope=col>&lt;chr&gt;</th><th scope=col>&lt;int&gt;</th><th scope=col>&lt;int&gt;</th><th scope=col>&lt;int&gt;</th><th scope=col>&lt;chr&gt;</th><th scope=col>&lt;chr&gt;</th><th scope=col>&lt;chr&gt;</th><th scope=col>&lt;chr&gt;</th></tr>\n",
       "</thead>\n",
       "<tbody>\n",
       "\t<tr><th scope=row>96911</th><td>96911</td><td>chr2</td><td>61698323</td><td>61698514</td><td> 192</td><td>+</td><td>ENST00000603652.2_4</td><td>USP34-DT</td><td>USP34-DT</td></tr>\n",
       "\t<tr><th scope=row>96919</th><td>96919</td><td>chr2</td><td>61707460</td><td>61707718</td><td> 259</td><td>+</td><td>ENST00000603652.2_4</td><td>USP34-DT</td><td>USP34-DT</td></tr>\n",
       "\t<tr><th scope=row>96922</th><td>96922</td><td>chr2</td><td>61709762</td><td>61711048</td><td>1287</td><td>+</td><td>ENST00000603652.2_4</td><td>USP34-DT</td><td>USP34-DT</td></tr>\n",
       "</tbody>\n",
       "</table>\n"
      ],
      "text/latex": [
       "A data.frame: 3 × 9\n",
       "\\begin{tabular}{r|lllllllll}\n",
       "  & X & seqnames & start & end & width & strand & isoform\\_id & gene\\_id & gene\\_name\\\\\n",
       "  & <int> & <chr> & <int> & <int> & <int> & <chr> & <chr> & <chr> & <chr>\\\\\n",
       "\\hline\n",
       "\t96911 & 96911 & chr2 & 61698323 & 61698514 &  192 & + & ENST00000603652.2\\_4 & USP34-DT & USP34-DT\\\\\n",
       "\t96919 & 96919 & chr2 & 61707460 & 61707718 &  259 & + & ENST00000603652.2\\_4 & USP34-DT & USP34-DT\\\\\n",
       "\t96922 & 96922 & chr2 & 61709762 & 61711048 & 1287 & + & ENST00000603652.2\\_4 & USP34-DT & USP34-DT\\\\\n",
       "\\end{tabular}\n"
      ],
      "text/markdown": [
       "\n",
       "A data.frame: 3 × 9\n",
       "\n",
       "| <!--/--> | X &lt;int&gt; | seqnames &lt;chr&gt; | start &lt;int&gt; | end &lt;int&gt; | width &lt;int&gt; | strand &lt;chr&gt; | isoform_id &lt;chr&gt; | gene_id &lt;chr&gt; | gene_name &lt;chr&gt; |\n",
       "|---|---|---|---|---|---|---|---|---|---|\n",
       "| 96911 | 96911 | chr2 | 61698323 | 61698514 |  192 | + | ENST00000603652.2_4 | USP34-DT | USP34-DT |\n",
       "| 96919 | 96919 | chr2 | 61707460 | 61707718 |  259 | + | ENST00000603652.2_4 | USP34-DT | USP34-DT |\n",
       "| 96922 | 96922 | chr2 | 61709762 | 61711048 | 1287 | + | ENST00000603652.2_4 | USP34-DT | USP34-DT |\n",
       "\n"
      ],
      "text/plain": [
       "      X     seqnames start    end      width strand isoform_id         \n",
       "96911 96911 chr2     61698323 61698514  192  +      ENST00000603652.2_4\n",
       "96919 96919 chr2     61707460 61707718  259  +      ENST00000603652.2_4\n",
       "96922 96922 chr2     61709762 61711048 1287  +      ENST00000603652.2_4\n",
       "      gene_id  gene_name\n",
       "96911 USP34-DT USP34-DT \n",
       "96919 USP34-DT USP34-DT \n",
       "96922 USP34-DT USP34-DT "
      ]
     },
     "metadata": {},
     "output_type": "display_data"
    },
    {
     "data": {
      "text/html": [
       "<table class=\"dataframe\">\n",
       "<caption>A data.frame: 1 × 9</caption>\n",
       "<thead>\n",
       "\t<tr><th></th><th scope=col>X</th><th scope=col>seqnames</th><th scope=col>start</th><th scope=col>end</th><th scope=col>width</th><th scope=col>strand</th><th scope=col>isoform_id</th><th scope=col>gene_id</th><th scope=col>gene_name</th></tr>\n",
       "\t<tr><th></th><th scope=col>&lt;int&gt;</th><th scope=col>&lt;chr&gt;</th><th scope=col>&lt;int&gt;</th><th scope=col>&lt;int&gt;</th><th scope=col>&lt;int&gt;</th><th scope=col>&lt;chr&gt;</th><th scope=col>&lt;chr&gt;</th><th scope=col>&lt;chr&gt;</th><th scope=col>&lt;chr&gt;</th></tr>\n",
       "</thead>\n",
       "<tbody>\n",
       "\t<tr><th scope=row>96915</th><td>96915</td><td>chr2</td><td>61698521</td><td>61699215</td><td>695</td><td>+</td><td>ENST00000702649.1_1</td><td>USP34-DT</td><td>USP34-DT</td></tr>\n",
       "</tbody>\n",
       "</table>\n"
      ],
      "text/latex": [
       "A data.frame: 1 × 9\n",
       "\\begin{tabular}{r|lllllllll}\n",
       "  & X & seqnames & start & end & width & strand & isoform\\_id & gene\\_id & gene\\_name\\\\\n",
       "  & <int> & <chr> & <int> & <int> & <int> & <chr> & <chr> & <chr> & <chr>\\\\\n",
       "\\hline\n",
       "\t96915 & 96915 & chr2 & 61698521 & 61699215 & 695 & + & ENST00000702649.1\\_1 & USP34-DT & USP34-DT\\\\\n",
       "\\end{tabular}\n"
      ],
      "text/markdown": [
       "\n",
       "A data.frame: 1 × 9\n",
       "\n",
       "| <!--/--> | X &lt;int&gt; | seqnames &lt;chr&gt; | start &lt;int&gt; | end &lt;int&gt; | width &lt;int&gt; | strand &lt;chr&gt; | isoform_id &lt;chr&gt; | gene_id &lt;chr&gt; | gene_name &lt;chr&gt; |\n",
       "|---|---|---|---|---|---|---|---|---|---|\n",
       "| 96915 | 96915 | chr2 | 61698521 | 61699215 | 695 | + | ENST00000702649.1_1 | USP34-DT | USP34-DT |\n",
       "\n"
      ],
      "text/plain": [
       "      X     seqnames start    end      width strand isoform_id         \n",
       "96915 96915 chr2     61698521 61699215 695   +      ENST00000702649.1_1\n",
       "      gene_id  gene_name\n",
       "96915 USP34-DT USP34-DT "
      ]
     },
     "metadata": {},
     "output_type": "display_data"
    }
   ],
   "source": [
    "#以USP34-DT长非编码RNA为例，查看其isoform与res位置的关系\n",
    "head(exon_region)\n",
    "exon_region[exon_region$isoform_id=='ENST00000603652.2_4',]\n",
    "exon_region[exon_region$isoform_id=='ENST00000702649.1_1',]"
   ]
  },
  {
   "cell_type": "code",
   "execution_count": null,
   "metadata": {
    "vscode": {
     "languageId": "r"
    }
   },
   "outputs": [],
   "source": [
    "#################方案2:除去经选择性剪接分析得到的71个具有IR的iso外，对94个经历了选择性剪接且有明确后果的基因进行igv的详细可视化\n",
    "#1.获取94个基因的region\n",
    "gene_bed <- read.table(\"/disk1/wenqing/tmp_data/gene.bed\")\n",
    "head(gene_bed)\n",
    "\n",
    "length(unique(switch_cons$gene_id))\n",
    "setdiff(unique(switch_cons$gene_id),gene_bed$V4)\n",
    "table(gene_bed$V4 %in% unique(switch_cons$gene_id))\n",
    "geneWzAS_region <- gene_bed[gene_bed$V4 %in% unique(switch_cons$gene_id),]\n",
    "head(geneWzAS_region)\n",
    "write.table(geneWzAS_region,\"/disk1/wenqing/tmp_data/ASD/geneWzAS_region.txt\",quote=F,row.names=F)"
   ]
  },
  {
   "cell_type": "code",
   "execution_count": 156,
   "metadata": {
    "vscode": {
     "languageId": "r"
    }
   },
   "outputs": [
    {
     "data": {
      "text/html": [
       "<table class=\"dataframe\">\n",
       "<caption>A data.frame: 6 × 14</caption>\n",
       "<thead>\n",
       "\t<tr><th></th><th scope=col>V1</th><th scope=col>V2</th><th scope=col>V3</th><th scope=col>V4</th><th scope=col>V5</th><th scope=col>V6</th><th scope=col>V7</th><th scope=col>V8</th><th scope=col>V9</th><th scope=col>V10</th><th scope=col>V11</th><th scope=col>V12</th><th scope=col>V13</th><th scope=col>V14</th></tr>\n",
       "\t<tr><th></th><th scope=col>&lt;chr&gt;</th><th scope=col>&lt;int&gt;</th><th scope=col>&lt;int&gt;</th><th scope=col>&lt;chr&gt;</th><th scope=col>&lt;chr&gt;</th><th scope=col>&lt;int&gt;</th><th scope=col>&lt;int&gt;</th><th scope=col>&lt;chr&gt;</th><th scope=col>&lt;int&gt;</th><th scope=col>&lt;chr&gt;</th><th scope=col>&lt;chr&gt;</th><th scope=col>&lt;chr&gt;</th><th scope=col>&lt;int&gt;</th><th scope=col>&lt;int&gt;</th></tr>\n",
       "</thead>\n",
       "<tbody>\n",
       "\t<tr><th scope=row>1</th><td>chr1</td><td>23707553</td><td>23751233</td><td>TCEA3</td><td>chr1</td><td>23708804</td><td>23708805</td><td>TC</td><td>2</td><td>+</td><td>CTCGTCATCGCGCCAA</td><td>2:2</td><td>17</td><td>1</td></tr>\n",
       "\t<tr><th scope=row>2</th><td>chr1</td><td>23707553</td><td>23751233</td><td>TCEA3</td><td>chr1</td><td>23708805</td><td>23708806</td><td>TC</td><td>2</td><td>+</td><td>CTCGTCATCGCGCCAA</td><td>2:2</td><td>17</td><td>1</td></tr>\n",
       "\t<tr><th scope=row>3</th><td>chr1</td><td>23707553</td><td>23751233</td><td>TCEA3</td><td>chr1</td><td>23708821</td><td>23708822</td><td>TC</td><td>2</td><td>+</td><td>CTCGTCATCGCGCCAA</td><td>2:2</td><td>17</td><td>1</td></tr>\n",
       "\t<tr><th scope=row>4</th><td>chr1</td><td>23707553</td><td>23751233</td><td>TCEA3</td><td>chr1</td><td>23718170</td><td>23718171</td><td>TC</td><td>1</td><td>+</td><td>AGTGGGAGTTCACGGC</td><td>1:1</td><td>17</td><td>1</td></tr>\n",
       "\t<tr><th scope=row>5</th><td>chr1</td><td>23707553</td><td>23751233</td><td>TCEA3</td><td>chr1</td><td>23718171</td><td>23718172</td><td>TC</td><td>1</td><td>+</td><td>AGTGGGAGTTCACGGC</td><td>1:1</td><td>17</td><td>1</td></tr>\n",
       "\t<tr><th scope=row>6</th><td>chr1</td><td>23707553</td><td>23751233</td><td>TCEA3</td><td>chr1</td><td>23718172</td><td>23718173</td><td>TC</td><td>1</td><td>+</td><td>AGTGGGAGTTCACGGC</td><td>1:1</td><td>17</td><td>1</td></tr>\n",
       "</tbody>\n",
       "</table>\n"
      ],
      "text/latex": [
       "A data.frame: 6 × 14\n",
       "\\begin{tabular}{r|llllllllllllll}\n",
       "  & V1 & V2 & V3 & V4 & V5 & V6 & V7 & V8 & V9 & V10 & V11 & V12 & V13 & V14\\\\\n",
       "  & <chr> & <int> & <int> & <chr> & <chr> & <int> & <int> & <chr> & <int> & <chr> & <chr> & <chr> & <int> & <int>\\\\\n",
       "\\hline\n",
       "\t1 & chr1 & 23707553 & 23751233 & TCEA3 & chr1 & 23708804 & 23708805 & TC & 2 & + & CTCGTCATCGCGCCAA & 2:2 & 17 & 1\\\\\n",
       "\t2 & chr1 & 23707553 & 23751233 & TCEA3 & chr1 & 23708805 & 23708806 & TC & 2 & + & CTCGTCATCGCGCCAA & 2:2 & 17 & 1\\\\\n",
       "\t3 & chr1 & 23707553 & 23751233 & TCEA3 & chr1 & 23708821 & 23708822 & TC & 2 & + & CTCGTCATCGCGCCAA & 2:2 & 17 & 1\\\\\n",
       "\t4 & chr1 & 23707553 & 23751233 & TCEA3 & chr1 & 23718170 & 23718171 & TC & 1 & + & AGTGGGAGTTCACGGC & 1:1 & 17 & 1\\\\\n",
       "\t5 & chr1 & 23707553 & 23751233 & TCEA3 & chr1 & 23718171 & 23718172 & TC & 1 & + & AGTGGGAGTTCACGGC & 1:1 & 17 & 1\\\\\n",
       "\t6 & chr1 & 23707553 & 23751233 & TCEA3 & chr1 & 23718172 & 23718173 & TC & 1 & + & AGTGGGAGTTCACGGC & 1:1 & 17 & 1\\\\\n",
       "\\end{tabular}\n"
      ],
      "text/markdown": [
       "\n",
       "A data.frame: 6 × 14\n",
       "\n",
       "| <!--/--> | V1 &lt;chr&gt; | V2 &lt;int&gt; | V3 &lt;int&gt; | V4 &lt;chr&gt; | V5 &lt;chr&gt; | V6 &lt;int&gt; | V7 &lt;int&gt; | V8 &lt;chr&gt; | V9 &lt;int&gt; | V10 &lt;chr&gt; | V11 &lt;chr&gt; | V12 &lt;chr&gt; | V13 &lt;int&gt; | V14 &lt;int&gt; |\n",
       "|---|---|---|---|---|---|---|---|---|---|---|---|---|---|---|\n",
       "| 1 | chr1 | 23707553 | 23751233 | TCEA3 | chr1 | 23708804 | 23708805 | TC | 2 | + | CTCGTCATCGCGCCAA | 2:2 | 17 | 1 |\n",
       "| 2 | chr1 | 23707553 | 23751233 | TCEA3 | chr1 | 23708805 | 23708806 | TC | 2 | + | CTCGTCATCGCGCCAA | 2:2 | 17 | 1 |\n",
       "| 3 | chr1 | 23707553 | 23751233 | TCEA3 | chr1 | 23708821 | 23708822 | TC | 2 | + | CTCGTCATCGCGCCAA | 2:2 | 17 | 1 |\n",
       "| 4 | chr1 | 23707553 | 23751233 | TCEA3 | chr1 | 23718170 | 23718171 | TC | 1 | + | AGTGGGAGTTCACGGC | 1:1 | 17 | 1 |\n",
       "| 5 | chr1 | 23707553 | 23751233 | TCEA3 | chr1 | 23718171 | 23718172 | TC | 1 | + | AGTGGGAGTTCACGGC | 1:1 | 17 | 1 |\n",
       "| 6 | chr1 | 23707553 | 23751233 | TCEA3 | chr1 | 23718172 | 23718173 | TC | 1 | + | AGTGGGAGTTCACGGC | 1:1 | 17 | 1 |\n",
       "\n"
      ],
      "text/plain": [
       "  V1   V2       V3       V4    V5   V6       V7       V8 V9 V10\n",
       "1 chr1 23707553 23751233 TCEA3 chr1 23708804 23708805 TC 2  +  \n",
       "2 chr1 23707553 23751233 TCEA3 chr1 23708805 23708806 TC 2  +  \n",
       "3 chr1 23707553 23751233 TCEA3 chr1 23708821 23708822 TC 2  +  \n",
       "4 chr1 23707553 23751233 TCEA3 chr1 23718170 23718171 TC 1  +  \n",
       "5 chr1 23707553 23751233 TCEA3 chr1 23718171 23718172 TC 1  +  \n",
       "6 chr1 23707553 23751233 TCEA3 chr1 23718172 23718173 TC 1  +  \n",
       "  V11              V12 V13 V14\n",
       "1 CTCGTCATCGCGCCAA 2:2 17  1  \n",
       "2 CTCGTCATCGCGCCAA 2:2 17  1  \n",
       "3 CTCGTCATCGCGCCAA 2:2 17  1  \n",
       "4 AGTGGGAGTTCACGGC 1:1 17  1  \n",
       "5 AGTGGGAGTTCACGGC 1:1 17  1  \n",
       "6 AGTGGGAGTTCACGGC 1:1 17  1  "
      ]
     },
     "metadata": {},
     "output_type": "display_data"
    },
    {
     "data": {
      "text/plain": [
       "\n",
       "          ACSL6           APBB2           ARMC2           ATMIN             CAT \n",
       "           1232            7189            1582              13             109 \n",
       "           CAV1            CDH1            CLP1           CNDP2          COPS7B \n",
       "             85             664             134              44              98 \n",
       "          CYREN          DCAF11          DCAF17         DNAJC10           DPP10 \n",
       "            198              74             977             422           38635 \n",
       "            EDA        EDRF1-DT           EGFL8 ENSG00000228395 ENSG00000228863 \n",
       "            644              14              50             249               8 \n",
       "ENSG00000249335 ENSG00000286329 ENSG00000291054 ENSG00000291138 ENSG00000291171 \n",
       "           1077              81            1163             121             651 \n",
       "         ENTPD5           EPRS1         FAM193A         FAM200B          FIGNL1 \n",
       "            607             923            4895              13               3 \n",
       "           FKRP            FRS2         GLUD1P3            GNG4         HCCS-DT \n",
       "            722            2068             153            1460             179 \n",
       "            HGF          HS1BP3           IFIT5         KATNAL2           KCTD6 \n",
       "            109            2120               6            1690              15 \n",
       "        KRTCAP3           LERFS       LINC01320       LINC03015          MIATNB \n",
       "             70             150            1402               3             760 \n",
       "         MPPED2            MRI1           MTIF2        NPEPPSP1             NPL \n",
       "            447            1804             438            3338             722 \n",
       "        OLFML2B           PALB2            PBX3            PCTP       PDE7B-AS1 \n",
       "             27             668            1958            2031             472 \n",
       "           PEG3         PITPNM3          PNPLA7         PPP1R42            RFC1 \n",
       "             82             751            1316             889             320 \n",
       "        RPS6KA6           RPSA2          RSL1D1           RSRC1           SFXN4 \n",
       "            505             256             748            2877            1825 \n",
       "           SOX6        SPATA5L1         SUGT1P3           TAF7L          TATDN3 \n",
       "           1963             110             569             233            1440 \n",
       "          TCEA3          TCF7L2        TMEM198B            TNIK           TRAF3 \n",
       "            185             842             406            2119            4177 \n",
       "       TRAF3IP1       TRIM7-AS1        USP34-DT           VAMP7            ZBBX \n",
       "           2080              26             654             224             529 \n",
       "          ZGPAT          ZNF250          ZNF260          ZNF774           ZNF85 \n",
       "           1663            1512             460             656             163 "
      ]
     },
     "metadata": {},
     "output_type": "display_data"
    }
   ],
   "source": [
    "#2.相较于isoform，不针对基因的上下游做扩展\n",
    "resInGeneRegion <- read.table(\"/disk1/wenqing/tmp_data/ASD/AsdCtrResInGeneRegion.txt\")\n",
    "head(resInGeneRegion)\n",
    "table(resInGeneRegion$V4)\n"
   ]
  },
  {
   "cell_type": "code",
   "execution_count": 157,
   "metadata": {
    "vscode": {
     "languageId": "r"
    }
   },
   "outputs": [
    {
     "data": {
      "text/html": [
       "<style>\n",
       ".list-inline {list-style: none; margin:0; padding: 0}\n",
       ".list-inline>li {display: inline-block}\n",
       ".list-inline>li:not(:last-child)::after {content: \"\\00b7\"; padding: 0 .5ex}\n",
       "</style>\n",
       "<ol class=list-inline><li>'TCEA3_chr1_23708805'</li><li>'TCEA3_chr1_23708806'</li><li>'TCEA3_chr1_23708822'</li><li>'TCEA3_chr1_23718171'</li><li>'TCEA3_chr1_23718172'</li><li>'TCEA3_chr1_23718173'</li></ol>\n"
      ],
      "text/latex": [
       "\\begin{enumerate*}\n",
       "\\item 'TCEA3\\_chr1\\_23708805'\n",
       "\\item 'TCEA3\\_chr1\\_23708806'\n",
       "\\item 'TCEA3\\_chr1\\_23708822'\n",
       "\\item 'TCEA3\\_chr1\\_23718171'\n",
       "\\item 'TCEA3\\_chr1\\_23718172'\n",
       "\\item 'TCEA3\\_chr1\\_23718173'\n",
       "\\end{enumerate*}\n"
      ],
      "text/markdown": [
       "1. 'TCEA3_chr1_23708805'\n",
       "2. 'TCEA3_chr1_23708806'\n",
       "3. 'TCEA3_chr1_23708822'\n",
       "4. 'TCEA3_chr1_23718171'\n",
       "5. 'TCEA3_chr1_23718172'\n",
       "6. 'TCEA3_chr1_23718173'\n",
       "\n",
       "\n"
      ],
      "text/plain": [
       "[1] \"TCEA3_chr1_23708805\" \"TCEA3_chr1_23708806\" \"TCEA3_chr1_23708822\"\n",
       "[4] \"TCEA3_chr1_23718171\" \"TCEA3_chr1_23718172\" \"TCEA3_chr1_23718173\""
      ]
     },
     "metadata": {},
     "output_type": "display_data"
    },
    {
     "data": {
      "text/html": [
       "38132"
      ],
      "text/latex": [
       "38132"
      ],
      "text/markdown": [
       "38132"
      ],
      "text/plain": [
       "[1] 38132"
      ]
     },
     "metadata": {},
     "output_type": "display_data"
    }
   ],
   "source": [
    "\n",
    "#生成isoform_res唯一标识符\n",
    "res_iso_uniq_id <- paste0(resInGeneRegion$V4,\"_\",resInGeneRegion$V5,\"_\",resInGeneRegion$V7)\n",
    "head(res_iso_uniq_id)\n",
    "#共8062个res位于isoform上下游5k的范围内\n",
    "length(unique(res_iso_uniq_id))\n"
   ]
  },
  {
   "cell_type": "code",
   "execution_count": 158,
   "metadata": {
    "vscode": {
     "languageId": "r"
    }
   },
   "outputs": [],
   "source": [
    "\n",
    "resInGeneRegion_uniq <- resInGeneRegion[!duplicated(res_iso_uniq_id),]\n"
   ]
  },
  {
   "cell_type": "code",
   "execution_count": 197,
   "metadata": {
    "vscode": {
     "languageId": "r"
    }
   },
   "outputs": [
    {
     "data": {
      "text/html": [
       "<table class=\"dataframe\">\n",
       "<caption>A data.frame: 6 × 14</caption>\n",
       "<thead>\n",
       "\t<tr><th></th><th scope=col>V1</th><th scope=col>V2</th><th scope=col>V3</th><th scope=col>V4</th><th scope=col>V5</th><th scope=col>V6</th><th scope=col>V7</th><th scope=col>V8</th><th scope=col>V9</th><th scope=col>V10</th><th scope=col>V11</th><th scope=col>V12</th><th scope=col>V13</th><th scope=col>V14</th></tr>\n",
       "\t<tr><th></th><th scope=col>&lt;chr&gt;</th><th scope=col>&lt;int&gt;</th><th scope=col>&lt;int&gt;</th><th scope=col>&lt;chr&gt;</th><th scope=col>&lt;chr&gt;</th><th scope=col>&lt;int&gt;</th><th scope=col>&lt;int&gt;</th><th scope=col>&lt;chr&gt;</th><th scope=col>&lt;int&gt;</th><th scope=col>&lt;chr&gt;</th><th scope=col>&lt;chr&gt;</th><th scope=col>&lt;chr&gt;</th><th scope=col>&lt;int&gt;</th><th scope=col>&lt;int&gt;</th></tr>\n",
       "</thead>\n",
       "<tbody>\n",
       "\t<tr><th scope=row>1</th><td>chr1</td><td>23707553</td><td>23751233</td><td>TCEA3</td><td>chr1</td><td>23708804</td><td>23708805</td><td>TC</td><td>2</td><td>+</td><td>CTCGTCATCGCGCCAA</td><td>2:2</td><td>17</td><td>1</td></tr>\n",
       "\t<tr><th scope=row>2</th><td>chr1</td><td>23707553</td><td>23751233</td><td>TCEA3</td><td>chr1</td><td>23708805</td><td>23708806</td><td>TC</td><td>2</td><td>+</td><td>CTCGTCATCGCGCCAA</td><td>2:2</td><td>17</td><td>1</td></tr>\n",
       "\t<tr><th scope=row>3</th><td>chr1</td><td>23707553</td><td>23751233</td><td>TCEA3</td><td>chr1</td><td>23708821</td><td>23708822</td><td>TC</td><td>2</td><td>+</td><td>CTCGTCATCGCGCCAA</td><td>2:2</td><td>17</td><td>1</td></tr>\n",
       "\t<tr><th scope=row>4</th><td>chr1</td><td>23707553</td><td>23751233</td><td>TCEA3</td><td>chr1</td><td>23718170</td><td>23718171</td><td>TC</td><td>1</td><td>+</td><td>AGTGGGAGTTCACGGC</td><td>1:1</td><td>17</td><td>1</td></tr>\n",
       "\t<tr><th scope=row>5</th><td>chr1</td><td>23707553</td><td>23751233</td><td>TCEA3</td><td>chr1</td><td>23718171</td><td>23718172</td><td>TC</td><td>1</td><td>+</td><td>AGTGGGAGTTCACGGC</td><td>1:1</td><td>17</td><td>1</td></tr>\n",
       "\t<tr><th scope=row>6</th><td>chr1</td><td>23707553</td><td>23751233</td><td>TCEA3</td><td>chr1</td><td>23718172</td><td>23718173</td><td>TC</td><td>1</td><td>+</td><td>AGTGGGAGTTCACGGC</td><td>1:1</td><td>17</td><td>1</td></tr>\n",
       "</tbody>\n",
       "</table>\n"
      ],
      "text/latex": [
       "A data.frame: 6 × 14\n",
       "\\begin{tabular}{r|llllllllllllll}\n",
       "  & V1 & V2 & V3 & V4 & V5 & V6 & V7 & V8 & V9 & V10 & V11 & V12 & V13 & V14\\\\\n",
       "  & <chr> & <int> & <int> & <chr> & <chr> & <int> & <int> & <chr> & <int> & <chr> & <chr> & <chr> & <int> & <int>\\\\\n",
       "\\hline\n",
       "\t1 & chr1 & 23707553 & 23751233 & TCEA3 & chr1 & 23708804 & 23708805 & TC & 2 & + & CTCGTCATCGCGCCAA & 2:2 & 17 & 1\\\\\n",
       "\t2 & chr1 & 23707553 & 23751233 & TCEA3 & chr1 & 23708805 & 23708806 & TC & 2 & + & CTCGTCATCGCGCCAA & 2:2 & 17 & 1\\\\\n",
       "\t3 & chr1 & 23707553 & 23751233 & TCEA3 & chr1 & 23708821 & 23708822 & TC & 2 & + & CTCGTCATCGCGCCAA & 2:2 & 17 & 1\\\\\n",
       "\t4 & chr1 & 23707553 & 23751233 & TCEA3 & chr1 & 23718170 & 23718171 & TC & 1 & + & AGTGGGAGTTCACGGC & 1:1 & 17 & 1\\\\\n",
       "\t5 & chr1 & 23707553 & 23751233 & TCEA3 & chr1 & 23718171 & 23718172 & TC & 1 & + & AGTGGGAGTTCACGGC & 1:1 & 17 & 1\\\\\n",
       "\t6 & chr1 & 23707553 & 23751233 & TCEA3 & chr1 & 23718172 & 23718173 & TC & 1 & + & AGTGGGAGTTCACGGC & 1:1 & 17 & 1\\\\\n",
       "\\end{tabular}\n"
      ],
      "text/markdown": [
       "\n",
       "A data.frame: 6 × 14\n",
       "\n",
       "| <!--/--> | V1 &lt;chr&gt; | V2 &lt;int&gt; | V3 &lt;int&gt; | V4 &lt;chr&gt; | V5 &lt;chr&gt; | V6 &lt;int&gt; | V7 &lt;int&gt; | V8 &lt;chr&gt; | V9 &lt;int&gt; | V10 &lt;chr&gt; | V11 &lt;chr&gt; | V12 &lt;chr&gt; | V13 &lt;int&gt; | V14 &lt;int&gt; |\n",
       "|---|---|---|---|---|---|---|---|---|---|---|---|---|---|---|\n",
       "| 1 | chr1 | 23707553 | 23751233 | TCEA3 | chr1 | 23708804 | 23708805 | TC | 2 | + | CTCGTCATCGCGCCAA | 2:2 | 17 | 1 |\n",
       "| 2 | chr1 | 23707553 | 23751233 | TCEA3 | chr1 | 23708805 | 23708806 | TC | 2 | + | CTCGTCATCGCGCCAA | 2:2 | 17 | 1 |\n",
       "| 3 | chr1 | 23707553 | 23751233 | TCEA3 | chr1 | 23708821 | 23708822 | TC | 2 | + | CTCGTCATCGCGCCAA | 2:2 | 17 | 1 |\n",
       "| 4 | chr1 | 23707553 | 23751233 | TCEA3 | chr1 | 23718170 | 23718171 | TC | 1 | + | AGTGGGAGTTCACGGC | 1:1 | 17 | 1 |\n",
       "| 5 | chr1 | 23707553 | 23751233 | TCEA3 | chr1 | 23718171 | 23718172 | TC | 1 | + | AGTGGGAGTTCACGGC | 1:1 | 17 | 1 |\n",
       "| 6 | chr1 | 23707553 | 23751233 | TCEA3 | chr1 | 23718172 | 23718173 | TC | 1 | + | AGTGGGAGTTCACGGC | 1:1 | 17 | 1 |\n",
       "\n"
      ],
      "text/plain": [
       "  V1   V2       V3       V4    V5   V6       V7       V8 V9 V10\n",
       "1 chr1 23707553 23751233 TCEA3 chr1 23708804 23708805 TC 2  +  \n",
       "2 chr1 23707553 23751233 TCEA3 chr1 23708805 23708806 TC 2  +  \n",
       "3 chr1 23707553 23751233 TCEA3 chr1 23708821 23708822 TC 2  +  \n",
       "4 chr1 23707553 23751233 TCEA3 chr1 23718170 23718171 TC 1  +  \n",
       "5 chr1 23707553 23751233 TCEA3 chr1 23718171 23718172 TC 1  +  \n",
       "6 chr1 23707553 23751233 TCEA3 chr1 23718172 23718173 TC 1  +  \n",
       "  V11              V12 V13 V14\n",
       "1 CTCGTCATCGCGCCAA 2:2 17  1  \n",
       "2 CTCGTCATCGCGCCAA 2:2 17  1  \n",
       "3 CTCGTCATCGCGCCAA 2:2 17  1  \n",
       "4 AGTGGGAGTTCACGGC 1:1 17  1  \n",
       "5 AGTGGGAGTTCACGGC 1:1 17  1  \n",
       "6 AGTGGGAGTTCACGGC 1:1 17  1  "
      ]
     },
     "metadata": {},
     "output_type": "display_data"
    },
    {
     "data": {
      "text/html": [
       "85"
      ],
      "text/latex": [
       "85"
      ],
      "text/markdown": [
       "85"
      ],
      "text/plain": [
       "[1] 85"
      ]
     },
     "metadata": {},
     "output_type": "display_data"
    },
    {
     "data": {
      "text/plain": [
       "\n",
       "          ACSL6           APBB2           ARMC2           ATMIN             CAT \n",
       "            595            2748             804              13              54 \n",
       "           CAV1            CDH1            CLP1           CNDP2          COPS7B \n",
       "             46             387              71              24              71 \n",
       "          CYREN          DCAF11          DCAF17         DNAJC10           DPP10 \n",
       "            147              58             388             135            7769 \n",
       "            EDA        EDRF1-DT           EGFL8 ENSG00000228395 ENSG00000228863 \n",
       "            476              12              25             175               8 \n",
       "ENSG00000249335 ENSG00000286329 ENSG00000291054 ENSG00000291138 ENSG00000291171 \n",
       "            595              59             670              39             323 \n",
       "         ENTPD5           EPRS1         FAM193A         FAM200B          FIGNL1 \n",
       "            417             478            1770              13               3 \n",
       "           FKRP            FRS2         GLUD1P3            GNG4         HCCS-DT \n",
       "            413             754              76             796             119 \n",
       "            HGF          HS1BP3           IFIT5         KATNAL2           KCTD6 \n",
       "             80             239               6             885               7 \n",
       "        KRTCAP3           LERFS       LINC01320       LINC03015          MIATNB \n",
       "             35              73             962               3             243 \n",
       "         MPPED2            MRI1           MTIF2        NPEPPSP1             NPL \n",
       "            266             404             189            1256             215 \n",
       "        OLFML2B           PALB2            PBX3            PCTP       PDE7B-AS1 \n",
       "             21             326             606             164             263 \n",
       "           PEG3         PITPNM3          PNPLA7         PPP1R42            RFC1 \n",
       "             24             405             568             511             196 \n",
       "        RPS6KA6           RPSA2          RSL1D1           RSRC1           SFXN4 \n",
       "            178             206             293             654             478 \n",
       "           SOX6        SPATA5L1         SUGT1P3           TAF7L          TATDN3 \n",
       "            920              82             215             136             552 \n",
       "          TCEA3          TCF7L2        TMEM198B            TNIK           TRAF3 \n",
       "            114             423              63             900            1625 \n",
       "       TRAF3IP1       TRIM7-AS1        USP34-DT           VAMP7            ZBBX \n",
       "            412              23             378             137             174 \n",
       "          ZGPAT          ZNF250          ZNF260          ZNF774           ZNF85 \n",
       "            695             462             180             231             123 "
      ]
     },
     "metadata": {},
     "output_type": "display_data"
    }
   ],
   "source": [
    "head(resInGeneRegion_uniq)\n",
    "####85个具有AS事件的基因显示如下数量的RES\n",
    "length(table(resInGeneRegion_uniq$V4))\n",
    "table(resInGeneRegion_uniq$V4)"
   ]
  },
  {
   "cell_type": "code",
   "execution_count": 203,
   "metadata": {
    "vscode": {
     "languageId": "r"
    }
   },
   "outputs": [
    {
     "data": {
      "text/html": [
       "<table class=\"dataframe\">\n",
       "<caption>A data.frame: 43 × 14</caption>\n",
       "<thead>\n",
       "\t<tr><th></th><th scope=col>V1</th><th scope=col>V2</th><th scope=col>V3</th><th scope=col>V4</th><th scope=col>V5</th><th scope=col>V6</th><th scope=col>V7</th><th scope=col>V8</th><th scope=col>V9</th><th scope=col>V10</th><th scope=col>V11</th><th scope=col>V12</th><th scope=col>V13</th><th scope=col>V14</th></tr>\n",
       "\t<tr><th></th><th scope=col>&lt;chr&gt;</th><th scope=col>&lt;int&gt;</th><th scope=col>&lt;int&gt;</th><th scope=col>&lt;chr&gt;</th><th scope=col>&lt;chr&gt;</th><th scope=col>&lt;int&gt;</th><th scope=col>&lt;int&gt;</th><th scope=col>&lt;chr&gt;</th><th scope=col>&lt;int&gt;</th><th scope=col>&lt;chr&gt;</th><th scope=col>&lt;chr&gt;</th><th scope=col>&lt;chr&gt;</th><th scope=col>&lt;int&gt;</th><th scope=col>&lt;int&gt;</th></tr>\n",
       "</thead>\n",
       "<tbody>\n",
       "\t<tr><th scope=row>3994</th><td>chr10</td><td>114710008</td><td>114927437</td><td>TCF7L2</td><td>chr10</td><td>114725722</td><td>114725723</td><td>AG</td><td> 1</td><td>-</td><td>GCGCCAACACACGCTG</td><td>1:1  </td><td>17</td><td>1</td></tr>\n",
       "\t<tr><th scope=row>3995</th><td>chr10</td><td>114710008</td><td>114927437</td><td>TCF7L2</td><td>chr10</td><td>114725731</td><td>114725732</td><td>AG</td><td> 1</td><td>-</td><td>GCGCCAACACACGCTG</td><td>1:1  </td><td>17</td><td>1</td></tr>\n",
       "\t<tr><th scope=row>3996</th><td>chr10</td><td>114710008</td><td>114927437</td><td>TCF7L2</td><td>chr10</td><td>114725745</td><td>114725746</td><td>AG</td><td> 1</td><td>-</td><td>CGGGTCAAGGGAGTAA</td><td>1:1  </td><td>17</td><td>1</td></tr>\n",
       "\t<tr><th scope=row>3997</th><td>chr10</td><td>114710008</td><td>114927437</td><td>TCF7L2</td><td>chr10</td><td>114725746</td><td>114725747</td><td>AG</td><td> 1</td><td>-</td><td>CGGGTCAAGGGAGTAA</td><td>1:1  </td><td>17</td><td>1</td></tr>\n",
       "\t<tr><th scope=row>3998</th><td>chr10</td><td>114710008</td><td>114927437</td><td>TCF7L2</td><td>chr10</td><td>114725748</td><td>114725749</td><td>AG</td><td> 3</td><td>-</td><td>AACGTTGAGGGTTCCC</td><td>1:1  </td><td>17</td><td>1</td></tr>\n",
       "\t<tr><th scope=row>4139</th><td>chr10</td><td>114710008</td><td>114927437</td><td>TCF7L2</td><td>chr10</td><td>114772957</td><td>114772958</td><td>AG</td><td> 1</td><td>+</td><td>GTCACGGTCTCTAAGG</td><td>1:1  </td><td>17</td><td>1</td></tr>\n",
       "\t<tr><th scope=row>4140</th><td>chr10</td><td>114710008</td><td>114927437</td><td>TCF7L2</td><td>chr10</td><td>114772970</td><td>114772971</td><td>AG</td><td> 1</td><td>+</td><td>GTCACGGTCTCTAAGG</td><td>2:2  </td><td>17</td><td>1</td></tr>\n",
       "\t<tr><th scope=row>4141</th><td>chr10</td><td>114710008</td><td>114927437</td><td>TCF7L2</td><td>chr10</td><td>114772994</td><td>114772995</td><td>AG</td><td> 1</td><td>+</td><td>GACTGCGAGTTTCCTT</td><td>1:1  </td><td>17</td><td>1</td></tr>\n",
       "\t<tr><th scope=row>4142</th><td>chr10</td><td>114710008</td><td>114927437</td><td>TCF7L2</td><td>chr10</td><td>114773004</td><td>114773005</td><td>AG</td><td> 1</td><td>+</td><td>GTATCTTAGGTGCAAC</td><td>2:2  </td><td>17</td><td>1</td></tr>\n",
       "\t<tr><th scope=row>4143</th><td>chr10</td><td>114710008</td><td>114927437</td><td>TCF7L2</td><td>chr10</td><td>114773006</td><td>114773007</td><td>AG</td><td> 1</td><td>+</td><td>GTATCTTAGGTGCAAC</td><td>2:2  </td><td>17</td><td>1</td></tr>\n",
       "\t<tr><th scope=row>4145</th><td>chr10</td><td>114710008</td><td>114927437</td><td>TCF7L2</td><td>chr10</td><td>114773016</td><td>114773017</td><td>AG</td><td> 1</td><td>+</td><td>TGGGAAGAGACCTAGG</td><td>5:5  </td><td>17</td><td>1</td></tr>\n",
       "\t<tr><th scope=row>4147</th><td>chr10</td><td>114710008</td><td>114927437</td><td>TCF7L2</td><td>chr10</td><td>114773057</td><td>114773058</td><td>AG</td><td> 1</td><td>+</td><td>GTATCTTAGGTGCAAC</td><td>4:4  </td><td>17</td><td>1</td></tr>\n",
       "\t<tr><th scope=row>4149</th><td>chr10</td><td>114710008</td><td>114927437</td><td>TCF7L2</td><td>chr10</td><td>114773064</td><td>114773065</td><td>AG</td><td> 1</td><td>+</td><td>GGCCGATAGGGTGTTG</td><td>1:6  </td><td>17</td><td>1</td></tr>\n",
       "\t<tr><th scope=row>4399</th><td>chr10</td><td>114710008</td><td>114927437</td><td>TCF7L2</td><td>chr10</td><td>114835639</td><td>114835640</td><td>AG</td><td>14</td><td>-</td><td>GGCTGGTAGTGGCACA</td><td>14:14</td><td>17</td><td>1</td></tr>\n",
       "\t<tr><th scope=row>4400</th><td>chr10</td><td>114710008</td><td>114927437</td><td>TCF7L2</td><td>chr10</td><td>114835729</td><td>114835730</td><td>AG</td><td>11</td><td>-</td><td>CGGAGTCGTCCCGACA</td><td>11:11</td><td>17</td><td>1</td></tr>\n",
       "\t<tr><th scope=row>4401</th><td>chr10</td><td>114710008</td><td>114927437</td><td>TCF7L2</td><td>chr10</td><td>114835732</td><td>114835733</td><td>AG</td><td> 2</td><td>-</td><td>CGGAGTCGTCCCGACA</td><td>11:11</td><td>17</td><td>1</td></tr>\n",
       "\t<tr><th scope=row>4402</th><td>chr10</td><td>114710008</td><td>114927437</td><td>TCF7L2</td><td>chr10</td><td>114835734</td><td>114835735</td><td>AG</td><td> 1</td><td>-</td><td>CGGACTGAGCGATTCT</td><td>1:1  </td><td>17</td><td>1</td></tr>\n",
       "\t<tr><th scope=row>4403</th><td>chr10</td><td>114710008</td><td>114927437</td><td>TCF7L2</td><td>chr10</td><td>114835736</td><td>114835737</td><td>AG</td><td> 1</td><td>-</td><td>CGGACTGAGCGATTCT</td><td>1:1  </td><td>17</td><td>1</td></tr>\n",
       "\t<tr><th scope=row>4404</th><td>chr10</td><td>114710008</td><td>114927437</td><td>TCF7L2</td><td>chr10</td><td>114835774</td><td>114835775</td><td>AG</td><td> 2</td><td>-</td><td>GACTGCGAGGGCTTCC</td><td>2:2  </td><td>17</td><td>1</td></tr>\n",
       "\t<tr><th scope=row>4405</th><td>chr10</td><td>114710008</td><td>114927437</td><td>TCF7L2</td><td>chr10</td><td>114835809</td><td>114835810</td><td>AG</td><td> 1</td><td>-</td><td>AGCTTGATCATACGGT</td><td>2:2  </td><td>17</td><td>1</td></tr>\n",
       "\t<tr><th scope=row>4406</th><td>chr10</td><td>114710008</td><td>114927437</td><td>TCF7L2</td><td>chr10</td><td>114835813</td><td>114835814</td><td>AG</td><td> 1</td><td>-</td><td>AGCTTGATCATACGGT</td><td>2:2  </td><td>17</td><td>1</td></tr>\n",
       "\t<tr><th scope=row>4407</th><td>chr10</td><td>114710008</td><td>114927437</td><td>TCF7L2</td><td>chr10</td><td>114835869</td><td>114835870</td><td>AG</td><td> 3</td><td>-</td><td>AGCTTGATCATACGGT</td><td>4:4  </td><td>17</td><td>1</td></tr>\n",
       "\t<tr><th scope=row>4408</th><td>chr10</td><td>114710008</td><td>114927437</td><td>TCF7L2</td><td>chr10</td><td>114835874</td><td>114835875</td><td>AG</td><td> 3</td><td>-</td><td>AGCTTGATCATACGGT</td><td>4:4  </td><td>17</td><td>1</td></tr>\n",
       "\t<tr><th scope=row>4409</th><td>chr10</td><td>114710008</td><td>114927437</td><td>TCF7L2</td><td>chr10</td><td>114839581</td><td>114839582</td><td>AG</td><td> 1</td><td>-</td><td>GGCGTGTGTTCCACAA</td><td>1:1  </td><td>17</td><td>1</td></tr>\n",
       "\t<tr><th scope=row>4410</th><td>chr10</td><td>114710008</td><td>114927437</td><td>TCF7L2</td><td>chr10</td><td>114839582</td><td>114839583</td><td>AG</td><td> 1</td><td>-</td><td>GGCGTGTGTTCCACAA</td><td>1:1  </td><td>17</td><td>1</td></tr>\n",
       "\t<tr><th scope=row>4411</th><td>chr10</td><td>114710008</td><td>114927437</td><td>TCF7L2</td><td>chr10</td><td>114839590</td><td>114839591</td><td>AG</td><td> 1</td><td>-</td><td>GTAGGCCAGCGTGAAC</td><td>1:1  </td><td>17</td><td>1</td></tr>\n",
       "\t<tr><th scope=row>4412</th><td>chr10</td><td>114710008</td><td>114927437</td><td>TCF7L2</td><td>chr10</td><td>114839596</td><td>114839597</td><td>AG</td><td> 1</td><td>-</td><td>AACTGGTCAGATAATG</td><td>1:1  </td><td>17</td><td>1</td></tr>\n",
       "\t<tr><th scope=row>4414</th><td>chr10</td><td>114710008</td><td>114927437</td><td>TCF7L2</td><td>chr10</td><td>114839599</td><td>114839600</td><td>AG</td><td> 1</td><td>-</td><td>AACTGGTCAGATAATG</td><td>1:1  </td><td>17</td><td>1</td></tr>\n",
       "\t<tr><th scope=row>4417</th><td>chr10</td><td>114710008</td><td>114927437</td><td>TCF7L2</td><td>chr10</td><td>114839607</td><td>114839608</td><td>AG</td><td> 1</td><td>-</td><td>AACTGGTCAGATAATG</td><td>1:1  </td><td>17</td><td>1</td></tr>\n",
       "\t<tr><th scope=row>4420</th><td>chr10</td><td>114710008</td><td>114927437</td><td>TCF7L2</td><td>chr10</td><td>114839613</td><td>114839614</td><td>AG</td><td> 1</td><td>-</td><td>GGCGTGTGTTCCACAA</td><td>1:1  </td><td>17</td><td>1</td></tr>\n",
       "\t<tr><th scope=row>4638</th><td>chr10</td><td>114710008</td><td>114927437</td><td>TCF7L2</td><td>chr10</td><td>114867229</td><td>114867230</td><td>TC</td><td> 2</td><td>+</td><td>ACACCGGTCGAACTGT</td><td>2:2  </td><td>17</td><td>1</td></tr>\n",
       "\t<tr><th scope=row>4640</th><td>chr10</td><td>114710008</td><td>114927437</td><td>TCF7L2</td><td>chr10</td><td>114867236</td><td>114867237</td><td>TC</td><td> 1</td><td>+</td><td>GCTTGAATCAACGAAA</td><td>1:1  </td><td>17</td><td>1</td></tr>\n",
       "\t<tr><th scope=row>4641</th><td>chr10</td><td>114710008</td><td>114927437</td><td>TCF7L2</td><td>chr10</td><td>114867239</td><td>114867240</td><td>TC</td><td> 1</td><td>+</td><td>CGAGCACTCACTGGGC</td><td>2:2  </td><td>17</td><td>1</td></tr>\n",
       "\t<tr><th scope=row>4651</th><td>chr10</td><td>114710008</td><td>114927437</td><td>TCF7L2</td><td>chr10</td><td>114867243</td><td>114867244</td><td>TC</td><td> 1</td><td>+</td><td>ACACCGGTCGAACTGT</td><td>5:5  </td><td>17</td><td>1</td></tr>\n",
       "\t<tr><th scope=row>4652</th><td>chr10</td><td>114710008</td><td>114927437</td><td>TCF7L2</td><td>chr10</td><td>114867245</td><td>114867246</td><td>TC</td><td> 1</td><td>+</td><td>CGAGCACTCACTGGGC</td><td>2:2  </td><td>17</td><td>1</td></tr>\n",
       "\t<tr><th scope=row>4661</th><td>chr10</td><td>114710008</td><td>114927437</td><td>TCF7L2</td><td>chr10</td><td>114867250</td><td>114867251</td><td>TC</td><td> 1</td><td>+</td><td>AACACGTAGTACCGGA</td><td>2:2  </td><td>17</td><td>1</td></tr>\n",
       "\t<tr><th scope=row>4671</th><td>chr10</td><td>114710008</td><td>114927437</td><td>TCF7L2</td><td>chr10</td><td>114867257</td><td>114867258</td><td>TC</td><td> 1</td><td>+</td><td>AACACGTAGTACCGGA</td><td>2:2  </td><td>17</td><td>1</td></tr>\n",
       "\t<tr><th scope=row>4825</th><td>chr10</td><td>114710008</td><td>114927437</td><td>TCF7L2</td><td>chr10</td><td>114917041</td><td>114917042</td><td>TC</td><td> 1</td><td>-</td><td>CAAGGCCGTAACGCGA</td><td>1:1  </td><td>17</td><td>1</td></tr>\n",
       "\t<tr><th scope=row>4827</th><td>chr10</td><td>114710008</td><td>114927437</td><td>TCF7L2</td><td>chr10</td><td>114917044</td><td>114917045</td><td>TC</td><td> 1</td><td>-</td><td>CAAGGCCGTAACGCGA</td><td>1:1  </td><td>17</td><td>1</td></tr>\n",
       "\t<tr><th scope=row>4828</th><td>chr10</td><td>114710008</td><td>114927437</td><td>TCF7L2</td><td>chr10</td><td>114917046</td><td>114917047</td><td>TC</td><td> 1</td><td>-</td><td>AACCATGAGCCGGTAA</td><td>1:1  </td><td>17</td><td>1</td></tr>\n",
       "\t<tr><th scope=row>4829</th><td>chr10</td><td>114710008</td><td>114927437</td><td>TCF7L2</td><td>chr10</td><td>114917054</td><td>114917055</td><td>TC</td><td> 2</td><td>-</td><td>AATCGGTAGGCCGAAT</td><td>2:2  </td><td>17</td><td>1</td></tr>\n",
       "\t<tr><th scope=row>4830</th><td>chr10</td><td>114710008</td><td>114927437</td><td>TCF7L2</td><td>chr10</td><td>114917055</td><td>114917056</td><td>TC</td><td> 1</td><td>-</td><td>AACCATGAGCCGGTAA</td><td>1:1  </td><td>17</td><td>1</td></tr>\n",
       "\t<tr><th scope=row>4831</th><td>chr10</td><td>114710008</td><td>114927437</td><td>TCF7L2</td><td>chr10</td><td>114917058</td><td>114917059</td><td>TC</td><td> 1</td><td>-</td><td>CAAGGCCGTAACGCGA</td><td>1:1  </td><td>17</td><td>1</td></tr>\n",
       "</tbody>\n",
       "</table>\n"
      ],
      "text/latex": [
       "A data.frame: 43 × 14\n",
       "\\begin{tabular}{r|llllllllllllll}\n",
       "  & V1 & V2 & V3 & V4 & V5 & V6 & V7 & V8 & V9 & V10 & V11 & V12 & V13 & V14\\\\\n",
       "  & <chr> & <int> & <int> & <chr> & <chr> & <int> & <int> & <chr> & <int> & <chr> & <chr> & <chr> & <int> & <int>\\\\\n",
       "\\hline\n",
       "\t3994 & chr10 & 114710008 & 114927437 & TCF7L2 & chr10 & 114725722 & 114725723 & AG &  1 & - & GCGCCAACACACGCTG & 1:1   & 17 & 1\\\\\n",
       "\t3995 & chr10 & 114710008 & 114927437 & TCF7L2 & chr10 & 114725731 & 114725732 & AG &  1 & - & GCGCCAACACACGCTG & 1:1   & 17 & 1\\\\\n",
       "\t3996 & chr10 & 114710008 & 114927437 & TCF7L2 & chr10 & 114725745 & 114725746 & AG &  1 & - & CGGGTCAAGGGAGTAA & 1:1   & 17 & 1\\\\\n",
       "\t3997 & chr10 & 114710008 & 114927437 & TCF7L2 & chr10 & 114725746 & 114725747 & AG &  1 & - & CGGGTCAAGGGAGTAA & 1:1   & 17 & 1\\\\\n",
       "\t3998 & chr10 & 114710008 & 114927437 & TCF7L2 & chr10 & 114725748 & 114725749 & AG &  3 & - & AACGTTGAGGGTTCCC & 1:1   & 17 & 1\\\\\n",
       "\t4139 & chr10 & 114710008 & 114927437 & TCF7L2 & chr10 & 114772957 & 114772958 & AG &  1 & + & GTCACGGTCTCTAAGG & 1:1   & 17 & 1\\\\\n",
       "\t4140 & chr10 & 114710008 & 114927437 & TCF7L2 & chr10 & 114772970 & 114772971 & AG &  1 & + & GTCACGGTCTCTAAGG & 2:2   & 17 & 1\\\\\n",
       "\t4141 & chr10 & 114710008 & 114927437 & TCF7L2 & chr10 & 114772994 & 114772995 & AG &  1 & + & GACTGCGAGTTTCCTT & 1:1   & 17 & 1\\\\\n",
       "\t4142 & chr10 & 114710008 & 114927437 & TCF7L2 & chr10 & 114773004 & 114773005 & AG &  1 & + & GTATCTTAGGTGCAAC & 2:2   & 17 & 1\\\\\n",
       "\t4143 & chr10 & 114710008 & 114927437 & TCF7L2 & chr10 & 114773006 & 114773007 & AG &  1 & + & GTATCTTAGGTGCAAC & 2:2   & 17 & 1\\\\\n",
       "\t4145 & chr10 & 114710008 & 114927437 & TCF7L2 & chr10 & 114773016 & 114773017 & AG &  1 & + & TGGGAAGAGACCTAGG & 5:5   & 17 & 1\\\\\n",
       "\t4147 & chr10 & 114710008 & 114927437 & TCF7L2 & chr10 & 114773057 & 114773058 & AG &  1 & + & GTATCTTAGGTGCAAC & 4:4   & 17 & 1\\\\\n",
       "\t4149 & chr10 & 114710008 & 114927437 & TCF7L2 & chr10 & 114773064 & 114773065 & AG &  1 & + & GGCCGATAGGGTGTTG & 1:6   & 17 & 1\\\\\n",
       "\t4399 & chr10 & 114710008 & 114927437 & TCF7L2 & chr10 & 114835639 & 114835640 & AG & 14 & - & GGCTGGTAGTGGCACA & 14:14 & 17 & 1\\\\\n",
       "\t4400 & chr10 & 114710008 & 114927437 & TCF7L2 & chr10 & 114835729 & 114835730 & AG & 11 & - & CGGAGTCGTCCCGACA & 11:11 & 17 & 1\\\\\n",
       "\t4401 & chr10 & 114710008 & 114927437 & TCF7L2 & chr10 & 114835732 & 114835733 & AG &  2 & - & CGGAGTCGTCCCGACA & 11:11 & 17 & 1\\\\\n",
       "\t4402 & chr10 & 114710008 & 114927437 & TCF7L2 & chr10 & 114835734 & 114835735 & AG &  1 & - & CGGACTGAGCGATTCT & 1:1   & 17 & 1\\\\\n",
       "\t4403 & chr10 & 114710008 & 114927437 & TCF7L2 & chr10 & 114835736 & 114835737 & AG &  1 & - & CGGACTGAGCGATTCT & 1:1   & 17 & 1\\\\\n",
       "\t4404 & chr10 & 114710008 & 114927437 & TCF7L2 & chr10 & 114835774 & 114835775 & AG &  2 & - & GACTGCGAGGGCTTCC & 2:2   & 17 & 1\\\\\n",
       "\t4405 & chr10 & 114710008 & 114927437 & TCF7L2 & chr10 & 114835809 & 114835810 & AG &  1 & - & AGCTTGATCATACGGT & 2:2   & 17 & 1\\\\\n",
       "\t4406 & chr10 & 114710008 & 114927437 & TCF7L2 & chr10 & 114835813 & 114835814 & AG &  1 & - & AGCTTGATCATACGGT & 2:2   & 17 & 1\\\\\n",
       "\t4407 & chr10 & 114710008 & 114927437 & TCF7L2 & chr10 & 114835869 & 114835870 & AG &  3 & - & AGCTTGATCATACGGT & 4:4   & 17 & 1\\\\\n",
       "\t4408 & chr10 & 114710008 & 114927437 & TCF7L2 & chr10 & 114835874 & 114835875 & AG &  3 & - & AGCTTGATCATACGGT & 4:4   & 17 & 1\\\\\n",
       "\t4409 & chr10 & 114710008 & 114927437 & TCF7L2 & chr10 & 114839581 & 114839582 & AG &  1 & - & GGCGTGTGTTCCACAA & 1:1   & 17 & 1\\\\\n",
       "\t4410 & chr10 & 114710008 & 114927437 & TCF7L2 & chr10 & 114839582 & 114839583 & AG &  1 & - & GGCGTGTGTTCCACAA & 1:1   & 17 & 1\\\\\n",
       "\t4411 & chr10 & 114710008 & 114927437 & TCF7L2 & chr10 & 114839590 & 114839591 & AG &  1 & - & GTAGGCCAGCGTGAAC & 1:1   & 17 & 1\\\\\n",
       "\t4412 & chr10 & 114710008 & 114927437 & TCF7L2 & chr10 & 114839596 & 114839597 & AG &  1 & - & AACTGGTCAGATAATG & 1:1   & 17 & 1\\\\\n",
       "\t4414 & chr10 & 114710008 & 114927437 & TCF7L2 & chr10 & 114839599 & 114839600 & AG &  1 & - & AACTGGTCAGATAATG & 1:1   & 17 & 1\\\\\n",
       "\t4417 & chr10 & 114710008 & 114927437 & TCF7L2 & chr10 & 114839607 & 114839608 & AG &  1 & - & AACTGGTCAGATAATG & 1:1   & 17 & 1\\\\\n",
       "\t4420 & chr10 & 114710008 & 114927437 & TCF7L2 & chr10 & 114839613 & 114839614 & AG &  1 & - & GGCGTGTGTTCCACAA & 1:1   & 17 & 1\\\\\n",
       "\t4638 & chr10 & 114710008 & 114927437 & TCF7L2 & chr10 & 114867229 & 114867230 & TC &  2 & + & ACACCGGTCGAACTGT & 2:2   & 17 & 1\\\\\n",
       "\t4640 & chr10 & 114710008 & 114927437 & TCF7L2 & chr10 & 114867236 & 114867237 & TC &  1 & + & GCTTGAATCAACGAAA & 1:1   & 17 & 1\\\\\n",
       "\t4641 & chr10 & 114710008 & 114927437 & TCF7L2 & chr10 & 114867239 & 114867240 & TC &  1 & + & CGAGCACTCACTGGGC & 2:2   & 17 & 1\\\\\n",
       "\t4651 & chr10 & 114710008 & 114927437 & TCF7L2 & chr10 & 114867243 & 114867244 & TC &  1 & + & ACACCGGTCGAACTGT & 5:5   & 17 & 1\\\\\n",
       "\t4652 & chr10 & 114710008 & 114927437 & TCF7L2 & chr10 & 114867245 & 114867246 & TC &  1 & + & CGAGCACTCACTGGGC & 2:2   & 17 & 1\\\\\n",
       "\t4661 & chr10 & 114710008 & 114927437 & TCF7L2 & chr10 & 114867250 & 114867251 & TC &  1 & + & AACACGTAGTACCGGA & 2:2   & 17 & 1\\\\\n",
       "\t4671 & chr10 & 114710008 & 114927437 & TCF7L2 & chr10 & 114867257 & 114867258 & TC &  1 & + & AACACGTAGTACCGGA & 2:2   & 17 & 1\\\\\n",
       "\t4825 & chr10 & 114710008 & 114927437 & TCF7L2 & chr10 & 114917041 & 114917042 & TC &  1 & - & CAAGGCCGTAACGCGA & 1:1   & 17 & 1\\\\\n",
       "\t4827 & chr10 & 114710008 & 114927437 & TCF7L2 & chr10 & 114917044 & 114917045 & TC &  1 & - & CAAGGCCGTAACGCGA & 1:1   & 17 & 1\\\\\n",
       "\t4828 & chr10 & 114710008 & 114927437 & TCF7L2 & chr10 & 114917046 & 114917047 & TC &  1 & - & AACCATGAGCCGGTAA & 1:1   & 17 & 1\\\\\n",
       "\t4829 & chr10 & 114710008 & 114927437 & TCF7L2 & chr10 & 114917054 & 114917055 & TC &  2 & - & AATCGGTAGGCCGAAT & 2:2   & 17 & 1\\\\\n",
       "\t4830 & chr10 & 114710008 & 114927437 & TCF7L2 & chr10 & 114917055 & 114917056 & TC &  1 & - & AACCATGAGCCGGTAA & 1:1   & 17 & 1\\\\\n",
       "\t4831 & chr10 & 114710008 & 114927437 & TCF7L2 & chr10 & 114917058 & 114917059 & TC &  1 & - & CAAGGCCGTAACGCGA & 1:1   & 17 & 1\\\\\n",
       "\\end{tabular}\n"
      ],
      "text/markdown": [
       "\n",
       "A data.frame: 43 × 14\n",
       "\n",
       "| <!--/--> | V1 &lt;chr&gt; | V2 &lt;int&gt; | V3 &lt;int&gt; | V4 &lt;chr&gt; | V5 &lt;chr&gt; | V6 &lt;int&gt; | V7 &lt;int&gt; | V8 &lt;chr&gt; | V9 &lt;int&gt; | V10 &lt;chr&gt; | V11 &lt;chr&gt; | V12 &lt;chr&gt; | V13 &lt;int&gt; | V14 &lt;int&gt; |\n",
       "|---|---|---|---|---|---|---|---|---|---|---|---|---|---|---|\n",
       "| 3994 | chr10 | 114710008 | 114927437 | TCF7L2 | chr10 | 114725722 | 114725723 | AG |  1 | - | GCGCCAACACACGCTG | 1:1   | 17 | 1 |\n",
       "| 3995 | chr10 | 114710008 | 114927437 | TCF7L2 | chr10 | 114725731 | 114725732 | AG |  1 | - | GCGCCAACACACGCTG | 1:1   | 17 | 1 |\n",
       "| 3996 | chr10 | 114710008 | 114927437 | TCF7L2 | chr10 | 114725745 | 114725746 | AG |  1 | - | CGGGTCAAGGGAGTAA | 1:1   | 17 | 1 |\n",
       "| 3997 | chr10 | 114710008 | 114927437 | TCF7L2 | chr10 | 114725746 | 114725747 | AG |  1 | - | CGGGTCAAGGGAGTAA | 1:1   | 17 | 1 |\n",
       "| 3998 | chr10 | 114710008 | 114927437 | TCF7L2 | chr10 | 114725748 | 114725749 | AG |  3 | - | AACGTTGAGGGTTCCC | 1:1   | 17 | 1 |\n",
       "| 4139 | chr10 | 114710008 | 114927437 | TCF7L2 | chr10 | 114772957 | 114772958 | AG |  1 | + | GTCACGGTCTCTAAGG | 1:1   | 17 | 1 |\n",
       "| 4140 | chr10 | 114710008 | 114927437 | TCF7L2 | chr10 | 114772970 | 114772971 | AG |  1 | + | GTCACGGTCTCTAAGG | 2:2   | 17 | 1 |\n",
       "| 4141 | chr10 | 114710008 | 114927437 | TCF7L2 | chr10 | 114772994 | 114772995 | AG |  1 | + | GACTGCGAGTTTCCTT | 1:1   | 17 | 1 |\n",
       "| 4142 | chr10 | 114710008 | 114927437 | TCF7L2 | chr10 | 114773004 | 114773005 | AG |  1 | + | GTATCTTAGGTGCAAC | 2:2   | 17 | 1 |\n",
       "| 4143 | chr10 | 114710008 | 114927437 | TCF7L2 | chr10 | 114773006 | 114773007 | AG |  1 | + | GTATCTTAGGTGCAAC | 2:2   | 17 | 1 |\n",
       "| 4145 | chr10 | 114710008 | 114927437 | TCF7L2 | chr10 | 114773016 | 114773017 | AG |  1 | + | TGGGAAGAGACCTAGG | 5:5   | 17 | 1 |\n",
       "| 4147 | chr10 | 114710008 | 114927437 | TCF7L2 | chr10 | 114773057 | 114773058 | AG |  1 | + | GTATCTTAGGTGCAAC | 4:4   | 17 | 1 |\n",
       "| 4149 | chr10 | 114710008 | 114927437 | TCF7L2 | chr10 | 114773064 | 114773065 | AG |  1 | + | GGCCGATAGGGTGTTG | 1:6   | 17 | 1 |\n",
       "| 4399 | chr10 | 114710008 | 114927437 | TCF7L2 | chr10 | 114835639 | 114835640 | AG | 14 | - | GGCTGGTAGTGGCACA | 14:14 | 17 | 1 |\n",
       "| 4400 | chr10 | 114710008 | 114927437 | TCF7L2 | chr10 | 114835729 | 114835730 | AG | 11 | - | CGGAGTCGTCCCGACA | 11:11 | 17 | 1 |\n",
       "| 4401 | chr10 | 114710008 | 114927437 | TCF7L2 | chr10 | 114835732 | 114835733 | AG |  2 | - | CGGAGTCGTCCCGACA | 11:11 | 17 | 1 |\n",
       "| 4402 | chr10 | 114710008 | 114927437 | TCF7L2 | chr10 | 114835734 | 114835735 | AG |  1 | - | CGGACTGAGCGATTCT | 1:1   | 17 | 1 |\n",
       "| 4403 | chr10 | 114710008 | 114927437 | TCF7L2 | chr10 | 114835736 | 114835737 | AG |  1 | - | CGGACTGAGCGATTCT | 1:1   | 17 | 1 |\n",
       "| 4404 | chr10 | 114710008 | 114927437 | TCF7L2 | chr10 | 114835774 | 114835775 | AG |  2 | - | GACTGCGAGGGCTTCC | 2:2   | 17 | 1 |\n",
       "| 4405 | chr10 | 114710008 | 114927437 | TCF7L2 | chr10 | 114835809 | 114835810 | AG |  1 | - | AGCTTGATCATACGGT | 2:2   | 17 | 1 |\n",
       "| 4406 | chr10 | 114710008 | 114927437 | TCF7L2 | chr10 | 114835813 | 114835814 | AG |  1 | - | AGCTTGATCATACGGT | 2:2   | 17 | 1 |\n",
       "| 4407 | chr10 | 114710008 | 114927437 | TCF7L2 | chr10 | 114835869 | 114835870 | AG |  3 | - | AGCTTGATCATACGGT | 4:4   | 17 | 1 |\n",
       "| 4408 | chr10 | 114710008 | 114927437 | TCF7L2 | chr10 | 114835874 | 114835875 | AG |  3 | - | AGCTTGATCATACGGT | 4:4   | 17 | 1 |\n",
       "| 4409 | chr10 | 114710008 | 114927437 | TCF7L2 | chr10 | 114839581 | 114839582 | AG |  1 | - | GGCGTGTGTTCCACAA | 1:1   | 17 | 1 |\n",
       "| 4410 | chr10 | 114710008 | 114927437 | TCF7L2 | chr10 | 114839582 | 114839583 | AG |  1 | - | GGCGTGTGTTCCACAA | 1:1   | 17 | 1 |\n",
       "| 4411 | chr10 | 114710008 | 114927437 | TCF7L2 | chr10 | 114839590 | 114839591 | AG |  1 | - | GTAGGCCAGCGTGAAC | 1:1   | 17 | 1 |\n",
       "| 4412 | chr10 | 114710008 | 114927437 | TCF7L2 | chr10 | 114839596 | 114839597 | AG |  1 | - | AACTGGTCAGATAATG | 1:1   | 17 | 1 |\n",
       "| 4414 | chr10 | 114710008 | 114927437 | TCF7L2 | chr10 | 114839599 | 114839600 | AG |  1 | - | AACTGGTCAGATAATG | 1:1   | 17 | 1 |\n",
       "| 4417 | chr10 | 114710008 | 114927437 | TCF7L2 | chr10 | 114839607 | 114839608 | AG |  1 | - | AACTGGTCAGATAATG | 1:1   | 17 | 1 |\n",
       "| 4420 | chr10 | 114710008 | 114927437 | TCF7L2 | chr10 | 114839613 | 114839614 | AG |  1 | - | GGCGTGTGTTCCACAA | 1:1   | 17 | 1 |\n",
       "| 4638 | chr10 | 114710008 | 114927437 | TCF7L2 | chr10 | 114867229 | 114867230 | TC |  2 | + | ACACCGGTCGAACTGT | 2:2   | 17 | 1 |\n",
       "| 4640 | chr10 | 114710008 | 114927437 | TCF7L2 | chr10 | 114867236 | 114867237 | TC |  1 | + | GCTTGAATCAACGAAA | 1:1   | 17 | 1 |\n",
       "| 4641 | chr10 | 114710008 | 114927437 | TCF7L2 | chr10 | 114867239 | 114867240 | TC |  1 | + | CGAGCACTCACTGGGC | 2:2   | 17 | 1 |\n",
       "| 4651 | chr10 | 114710008 | 114927437 | TCF7L2 | chr10 | 114867243 | 114867244 | TC |  1 | + | ACACCGGTCGAACTGT | 5:5   | 17 | 1 |\n",
       "| 4652 | chr10 | 114710008 | 114927437 | TCF7L2 | chr10 | 114867245 | 114867246 | TC |  1 | + | CGAGCACTCACTGGGC | 2:2   | 17 | 1 |\n",
       "| 4661 | chr10 | 114710008 | 114927437 | TCF7L2 | chr10 | 114867250 | 114867251 | TC |  1 | + | AACACGTAGTACCGGA | 2:2   | 17 | 1 |\n",
       "| 4671 | chr10 | 114710008 | 114927437 | TCF7L2 | chr10 | 114867257 | 114867258 | TC |  1 | + | AACACGTAGTACCGGA | 2:2   | 17 | 1 |\n",
       "| 4825 | chr10 | 114710008 | 114927437 | TCF7L2 | chr10 | 114917041 | 114917042 | TC |  1 | - | CAAGGCCGTAACGCGA | 1:1   | 17 | 1 |\n",
       "| 4827 | chr10 | 114710008 | 114927437 | TCF7L2 | chr10 | 114917044 | 114917045 | TC |  1 | - | CAAGGCCGTAACGCGA | 1:1   | 17 | 1 |\n",
       "| 4828 | chr10 | 114710008 | 114927437 | TCF7L2 | chr10 | 114917046 | 114917047 | TC |  1 | - | AACCATGAGCCGGTAA | 1:1   | 17 | 1 |\n",
       "| 4829 | chr10 | 114710008 | 114927437 | TCF7L2 | chr10 | 114917054 | 114917055 | TC |  2 | - | AATCGGTAGGCCGAAT | 2:2   | 17 | 1 |\n",
       "| 4830 | chr10 | 114710008 | 114927437 | TCF7L2 | chr10 | 114917055 | 114917056 | TC |  1 | - | AACCATGAGCCGGTAA | 1:1   | 17 | 1 |\n",
       "| 4831 | chr10 | 114710008 | 114927437 | TCF7L2 | chr10 | 114917058 | 114917059 | TC |  1 | - | CAAGGCCGTAACGCGA | 1:1   | 17 | 1 |\n",
       "\n"
      ],
      "text/plain": [
       "     V1    V2        V3        V4     V5    V6        V7        V8 V9 V10\n",
       "3994 chr10 114710008 114927437 TCF7L2 chr10 114725722 114725723 AG  1 -  \n",
       "3995 chr10 114710008 114927437 TCF7L2 chr10 114725731 114725732 AG  1 -  \n",
       "3996 chr10 114710008 114927437 TCF7L2 chr10 114725745 114725746 AG  1 -  \n",
       "3997 chr10 114710008 114927437 TCF7L2 chr10 114725746 114725747 AG  1 -  \n",
       "3998 chr10 114710008 114927437 TCF7L2 chr10 114725748 114725749 AG  3 -  \n",
       "4139 chr10 114710008 114927437 TCF7L2 chr10 114772957 114772958 AG  1 +  \n",
       "4140 chr10 114710008 114927437 TCF7L2 chr10 114772970 114772971 AG  1 +  \n",
       "4141 chr10 114710008 114927437 TCF7L2 chr10 114772994 114772995 AG  1 +  \n",
       "4142 chr10 114710008 114927437 TCF7L2 chr10 114773004 114773005 AG  1 +  \n",
       "4143 chr10 114710008 114927437 TCF7L2 chr10 114773006 114773007 AG  1 +  \n",
       "4145 chr10 114710008 114927437 TCF7L2 chr10 114773016 114773017 AG  1 +  \n",
       "4147 chr10 114710008 114927437 TCF7L2 chr10 114773057 114773058 AG  1 +  \n",
       "4149 chr10 114710008 114927437 TCF7L2 chr10 114773064 114773065 AG  1 +  \n",
       "4399 chr10 114710008 114927437 TCF7L2 chr10 114835639 114835640 AG 14 -  \n",
       "4400 chr10 114710008 114927437 TCF7L2 chr10 114835729 114835730 AG 11 -  \n",
       "4401 chr10 114710008 114927437 TCF7L2 chr10 114835732 114835733 AG  2 -  \n",
       "4402 chr10 114710008 114927437 TCF7L2 chr10 114835734 114835735 AG  1 -  \n",
       "4403 chr10 114710008 114927437 TCF7L2 chr10 114835736 114835737 AG  1 -  \n",
       "4404 chr10 114710008 114927437 TCF7L2 chr10 114835774 114835775 AG  2 -  \n",
       "4405 chr10 114710008 114927437 TCF7L2 chr10 114835809 114835810 AG  1 -  \n",
       "4406 chr10 114710008 114927437 TCF7L2 chr10 114835813 114835814 AG  1 -  \n",
       "4407 chr10 114710008 114927437 TCF7L2 chr10 114835869 114835870 AG  3 -  \n",
       "4408 chr10 114710008 114927437 TCF7L2 chr10 114835874 114835875 AG  3 -  \n",
       "4409 chr10 114710008 114927437 TCF7L2 chr10 114839581 114839582 AG  1 -  \n",
       "4410 chr10 114710008 114927437 TCF7L2 chr10 114839582 114839583 AG  1 -  \n",
       "4411 chr10 114710008 114927437 TCF7L2 chr10 114839590 114839591 AG  1 -  \n",
       "4412 chr10 114710008 114927437 TCF7L2 chr10 114839596 114839597 AG  1 -  \n",
       "4414 chr10 114710008 114927437 TCF7L2 chr10 114839599 114839600 AG  1 -  \n",
       "4417 chr10 114710008 114927437 TCF7L2 chr10 114839607 114839608 AG  1 -  \n",
       "4420 chr10 114710008 114927437 TCF7L2 chr10 114839613 114839614 AG  1 -  \n",
       "4638 chr10 114710008 114927437 TCF7L2 chr10 114867229 114867230 TC  2 +  \n",
       "4640 chr10 114710008 114927437 TCF7L2 chr10 114867236 114867237 TC  1 +  \n",
       "4641 chr10 114710008 114927437 TCF7L2 chr10 114867239 114867240 TC  1 +  \n",
       "4651 chr10 114710008 114927437 TCF7L2 chr10 114867243 114867244 TC  1 +  \n",
       "4652 chr10 114710008 114927437 TCF7L2 chr10 114867245 114867246 TC  1 +  \n",
       "4661 chr10 114710008 114927437 TCF7L2 chr10 114867250 114867251 TC  1 +  \n",
       "4671 chr10 114710008 114927437 TCF7L2 chr10 114867257 114867258 TC  1 +  \n",
       "4825 chr10 114710008 114927437 TCF7L2 chr10 114917041 114917042 TC  1 -  \n",
       "4827 chr10 114710008 114927437 TCF7L2 chr10 114917044 114917045 TC  1 -  \n",
       "4828 chr10 114710008 114927437 TCF7L2 chr10 114917046 114917047 TC  1 -  \n",
       "4829 chr10 114710008 114927437 TCF7L2 chr10 114917054 114917055 TC  2 -  \n",
       "4830 chr10 114710008 114927437 TCF7L2 chr10 114917055 114917056 TC  1 -  \n",
       "4831 chr10 114710008 114927437 TCF7L2 chr10 114917058 114917059 TC  1 -  \n",
       "     V11              V12   V13 V14\n",
       "3994 GCGCCAACACACGCTG 1:1   17  1  \n",
       "3995 GCGCCAACACACGCTG 1:1   17  1  \n",
       "3996 CGGGTCAAGGGAGTAA 1:1   17  1  \n",
       "3997 CGGGTCAAGGGAGTAA 1:1   17  1  \n",
       "3998 AACGTTGAGGGTTCCC 1:1   17  1  \n",
       "4139 GTCACGGTCTCTAAGG 1:1   17  1  \n",
       "4140 GTCACGGTCTCTAAGG 2:2   17  1  \n",
       "4141 GACTGCGAGTTTCCTT 1:1   17  1  \n",
       "4142 GTATCTTAGGTGCAAC 2:2   17  1  \n",
       "4143 GTATCTTAGGTGCAAC 2:2   17  1  \n",
       "4145 TGGGAAGAGACCTAGG 5:5   17  1  \n",
       "4147 GTATCTTAGGTGCAAC 4:4   17  1  \n",
       "4149 GGCCGATAGGGTGTTG 1:6   17  1  \n",
       "4399 GGCTGGTAGTGGCACA 14:14 17  1  \n",
       "4400 CGGAGTCGTCCCGACA 11:11 17  1  \n",
       "4401 CGGAGTCGTCCCGACA 11:11 17  1  \n",
       "4402 CGGACTGAGCGATTCT 1:1   17  1  \n",
       "4403 CGGACTGAGCGATTCT 1:1   17  1  \n",
       "4404 GACTGCGAGGGCTTCC 2:2   17  1  \n",
       "4405 AGCTTGATCATACGGT 2:2   17  1  \n",
       "4406 AGCTTGATCATACGGT 2:2   17  1  \n",
       "4407 AGCTTGATCATACGGT 4:4   17  1  \n",
       "4408 AGCTTGATCATACGGT 4:4   17  1  \n",
       "4409 GGCGTGTGTTCCACAA 1:1   17  1  \n",
       "4410 GGCGTGTGTTCCACAA 1:1   17  1  \n",
       "4411 GTAGGCCAGCGTGAAC 1:1   17  1  \n",
       "4412 AACTGGTCAGATAATG 1:1   17  1  \n",
       "4414 AACTGGTCAGATAATG 1:1   17  1  \n",
       "4417 AACTGGTCAGATAATG 1:1   17  1  \n",
       "4420 GGCGTGTGTTCCACAA 1:1   17  1  \n",
       "4638 ACACCGGTCGAACTGT 2:2   17  1  \n",
       "4640 GCTTGAATCAACGAAA 1:1   17  1  \n",
       "4641 CGAGCACTCACTGGGC 2:2   17  1  \n",
       "4651 ACACCGGTCGAACTGT 5:5   17  1  \n",
       "4652 CGAGCACTCACTGGGC 2:2   17  1  \n",
       "4661 AACACGTAGTACCGGA 2:2   17  1  \n",
       "4671 AACACGTAGTACCGGA 2:2   17  1  \n",
       "4825 CAAGGCCGTAACGCGA 1:1   17  1  \n",
       "4827 CAAGGCCGTAACGCGA 1:1   17  1  \n",
       "4828 AACCATGAGCCGGTAA 1:1   17  1  \n",
       "4829 AATCGGTAGGCCGAAT 2:2   17  1  \n",
       "4830 AACCATGAGCCGGTAA 1:1   17  1  \n",
       "4831 CAAGGCCGTAACGCGA 1:1   17  1  "
      ]
     },
     "metadata": {},
     "output_type": "display_data"
    }
   ],
   "source": [
    "#在17这个样本中，发生在TCF7L2基因上的res共43个\n",
    "resInGeneRegion_uniq[resInGeneRegion_uniq$V4=='TCF7L2' & resInGeneRegion_uniq$V13=='17',]\n",
    "###后续两种方向：\n",
    "#1:每一簇的res周围序列的情况做分析，是否与剪接供受体序列特点一致，\n",
    "#2.ASD/Ctr样本的res有什么不同，这种不同对可变剪接有什么贡献"
   ]
  },
  {
   "cell_type": "code",
   "execution_count": 160,
   "metadata": {
    "vscode": {
     "languageId": "r"
    }
   },
   "outputs": [],
   "source": [
    "write.table(resInGeneRegion_uniq[resInGeneRegion_uniq$V4=='TCF7L2',],\"/disk1/wenqing/tmp_data/ASD/TCF7L2_res.txt\",quote=F,row.names=F)\n",
    "\n"
   ]
  },
  {
   "cell_type": "code",
   "execution_count": 168,
   "metadata": {
    "vscode": {
     "languageId": "r"
    }
   },
   "outputs": [
    {
     "data": {
      "text/html": [
       "<table class=\"dataframe\">\n",
       "<caption>A data.frame: 11 × 9</caption>\n",
       "<thead>\n",
       "\t<tr><th></th><th scope=col>X</th><th scope=col>seqnames</th><th scope=col>start</th><th scope=col>end</th><th scope=col>width</th><th scope=col>strand</th><th scope=col>isoform_id</th><th scope=col>gene_id</th><th scope=col>gene_name</th></tr>\n",
       "\t<tr><th></th><th scope=col>&lt;int&gt;</th><th scope=col>&lt;chr&gt;</th><th scope=col>&lt;int&gt;</th><th scope=col>&lt;int&gt;</th><th scope=col>&lt;int&gt;</th><th scope=col>&lt;chr&gt;</th><th scope=col>&lt;chr&gt;</th><th scope=col>&lt;chr&gt;</th><th scope=col>&lt;chr&gt;</th></tr>\n",
       "</thead>\n",
       "<tbody>\n",
       "\t<tr><th scope=row>483922</th><td>483922</td><td>chr10</td><td>114710009</td><td>114710704</td><td> 696</td><td>+</td><td>ENST00000534894.5_4</td><td>TCF7L2</td><td>TCF7L2</td></tr>\n",
       "\t<tr><th scope=row>483926</th><td>483926</td><td>chr10</td><td>114710966</td><td>114711032</td><td>  67</td><td>+</td><td>ENST00000534894.5_4</td><td>TCF7L2</td><td>TCF7L2</td></tr>\n",
       "\t<tr><th scope=row>483930</th><td>483930</td><td>chr10</td><td>114711242</td><td>114711366</td><td> 125</td><td>+</td><td>ENST00000534894.5_4</td><td>TCF7L2</td><td>TCF7L2</td></tr>\n",
       "\t<tr><th scope=row>483949</th><td>483949</td><td>chr10</td><td>114900943</td><td>114901075</td><td> 133</td><td>+</td><td>ENST00000534894.5_4</td><td>TCF7L2</td><td>TCF7L2</td></tr>\n",
       "\t<tr><th scope=row>483962</th><td>483962</td><td>chr10</td><td>114903682</td><td>114903784</td><td> 103</td><td>+</td><td>ENST00000534894.5_4</td><td>TCF7L2</td><td>TCF7L2</td></tr>\n",
       "\t<tr><th scope=row>483973</th><td>483973</td><td>chr10</td><td>114905770</td><td>114905856</td><td>  87</td><td>+</td><td>ENST00000534894.5_4</td><td>TCF7L2</td><td>TCF7L2</td></tr>\n",
       "\t<tr><th scope=row>483987</th><td>483987</td><td>chr10</td><td>114910757</td><td>114910882</td><td> 126</td><td>+</td><td>ENST00000534894.5_4</td><td>TCF7L2</td><td>TCF7L2</td></tr>\n",
       "\t<tr><th scope=row>483998</th><td>483998</td><td>chr10</td><td>114911484</td><td>114911643</td><td> 160</td><td>+</td><td>ENST00000534894.5_4</td><td>TCF7L2</td><td>TCF7L2</td></tr>\n",
       "\t<tr><th scope=row>484008</th><td>484008</td><td>chr10</td><td>114912092</td><td>114912199</td><td> 108</td><td>+</td><td>ENST00000534894.5_4</td><td>TCF7L2</td><td>TCF7L2</td></tr>\n",
       "\t<tr><th scope=row>484019</th><td>484019</td><td>chr10</td><td>114917780</td><td>114917828</td><td>  49</td><td>+</td><td>ENST00000534894.5_4</td><td>TCF7L2</td><td>TCF7L2</td></tr>\n",
       "\t<tr><th scope=row>484052</th><td>484052</td><td>chr10</td><td>114925314</td><td>114927437</td><td>2124</td><td>+</td><td>ENST00000534894.5_4</td><td>TCF7L2</td><td>TCF7L2</td></tr>\n",
       "</tbody>\n",
       "</table>\n"
      ],
      "text/latex": [
       "A data.frame: 11 × 9\n",
       "\\begin{tabular}{r|lllllllll}\n",
       "  & X & seqnames & start & end & width & strand & isoform\\_id & gene\\_id & gene\\_name\\\\\n",
       "  & <int> & <chr> & <int> & <int> & <int> & <chr> & <chr> & <chr> & <chr>\\\\\n",
       "\\hline\n",
       "\t483922 & 483922 & chr10 & 114710009 & 114710704 &  696 & + & ENST00000534894.5\\_4 & TCF7L2 & TCF7L2\\\\\n",
       "\t483926 & 483926 & chr10 & 114710966 & 114711032 &   67 & + & ENST00000534894.5\\_4 & TCF7L2 & TCF7L2\\\\\n",
       "\t483930 & 483930 & chr10 & 114711242 & 114711366 &  125 & + & ENST00000534894.5\\_4 & TCF7L2 & TCF7L2\\\\\n",
       "\t483949 & 483949 & chr10 & 114900943 & 114901075 &  133 & + & ENST00000534894.5\\_4 & TCF7L2 & TCF7L2\\\\\n",
       "\t483962 & 483962 & chr10 & 114903682 & 114903784 &  103 & + & ENST00000534894.5\\_4 & TCF7L2 & TCF7L2\\\\\n",
       "\t483973 & 483973 & chr10 & 114905770 & 114905856 &   87 & + & ENST00000534894.5\\_4 & TCF7L2 & TCF7L2\\\\\n",
       "\t483987 & 483987 & chr10 & 114910757 & 114910882 &  126 & + & ENST00000534894.5\\_4 & TCF7L2 & TCF7L2\\\\\n",
       "\t483998 & 483998 & chr10 & 114911484 & 114911643 &  160 & + & ENST00000534894.5\\_4 & TCF7L2 & TCF7L2\\\\\n",
       "\t484008 & 484008 & chr10 & 114912092 & 114912199 &  108 & + & ENST00000534894.5\\_4 & TCF7L2 & TCF7L2\\\\\n",
       "\t484019 & 484019 & chr10 & 114917780 & 114917828 &   49 & + & ENST00000534894.5\\_4 & TCF7L2 & TCF7L2\\\\\n",
       "\t484052 & 484052 & chr10 & 114925314 & 114927437 & 2124 & + & ENST00000534894.5\\_4 & TCF7L2 & TCF7L2\\\\\n",
       "\\end{tabular}\n"
      ],
      "text/markdown": [
       "\n",
       "A data.frame: 11 × 9\n",
       "\n",
       "| <!--/--> | X &lt;int&gt; | seqnames &lt;chr&gt; | start &lt;int&gt; | end &lt;int&gt; | width &lt;int&gt; | strand &lt;chr&gt; | isoform_id &lt;chr&gt; | gene_id &lt;chr&gt; | gene_name &lt;chr&gt; |\n",
       "|---|---|---|---|---|---|---|---|---|---|\n",
       "| 483922 | 483922 | chr10 | 114710009 | 114710704 |  696 | + | ENST00000534894.5_4 | TCF7L2 | TCF7L2 |\n",
       "| 483926 | 483926 | chr10 | 114710966 | 114711032 |   67 | + | ENST00000534894.5_4 | TCF7L2 | TCF7L2 |\n",
       "| 483930 | 483930 | chr10 | 114711242 | 114711366 |  125 | + | ENST00000534894.5_4 | TCF7L2 | TCF7L2 |\n",
       "| 483949 | 483949 | chr10 | 114900943 | 114901075 |  133 | + | ENST00000534894.5_4 | TCF7L2 | TCF7L2 |\n",
       "| 483962 | 483962 | chr10 | 114903682 | 114903784 |  103 | + | ENST00000534894.5_4 | TCF7L2 | TCF7L2 |\n",
       "| 483973 | 483973 | chr10 | 114905770 | 114905856 |   87 | + | ENST00000534894.5_4 | TCF7L2 | TCF7L2 |\n",
       "| 483987 | 483987 | chr10 | 114910757 | 114910882 |  126 | + | ENST00000534894.5_4 | TCF7L2 | TCF7L2 |\n",
       "| 483998 | 483998 | chr10 | 114911484 | 114911643 |  160 | + | ENST00000534894.5_4 | TCF7L2 | TCF7L2 |\n",
       "| 484008 | 484008 | chr10 | 114912092 | 114912199 |  108 | + | ENST00000534894.5_4 | TCF7L2 | TCF7L2 |\n",
       "| 484019 | 484019 | chr10 | 114917780 | 114917828 |   49 | + | ENST00000534894.5_4 | TCF7L2 | TCF7L2 |\n",
       "| 484052 | 484052 | chr10 | 114925314 | 114927437 | 2124 | + | ENST00000534894.5_4 | TCF7L2 | TCF7L2 |\n",
       "\n"
      ],
      "text/plain": [
       "       X      seqnames start     end       width strand isoform_id         \n",
       "483922 483922 chr10    114710009 114710704  696  +      ENST00000534894.5_4\n",
       "483926 483926 chr10    114710966 114711032   67  +      ENST00000534894.5_4\n",
       "483930 483930 chr10    114711242 114711366  125  +      ENST00000534894.5_4\n",
       "483949 483949 chr10    114900943 114901075  133  +      ENST00000534894.5_4\n",
       "483962 483962 chr10    114903682 114903784  103  +      ENST00000534894.5_4\n",
       "483973 483973 chr10    114905770 114905856   87  +      ENST00000534894.5_4\n",
       "483987 483987 chr10    114910757 114910882  126  +      ENST00000534894.5_4\n",
       "483998 483998 chr10    114911484 114911643  160  +      ENST00000534894.5_4\n",
       "484008 484008 chr10    114912092 114912199  108  +      ENST00000534894.5_4\n",
       "484019 484019 chr10    114917780 114917828   49  +      ENST00000534894.5_4\n",
       "484052 484052 chr10    114925314 114927437 2124  +      ENST00000534894.5_4\n",
       "       gene_id gene_name\n",
       "483922 TCF7L2  TCF7L2   \n",
       "483926 TCF7L2  TCF7L2   \n",
       "483930 TCF7L2  TCF7L2   \n",
       "483949 TCF7L2  TCF7L2   \n",
       "483962 TCF7L2  TCF7L2   \n",
       "483973 TCF7L2  TCF7L2   \n",
       "483987 TCF7L2  TCF7L2   \n",
       "483998 TCF7L2  TCF7L2   \n",
       "484008 TCF7L2  TCF7L2   \n",
       "484019 TCF7L2  TCF7L2   \n",
       "484052 TCF7L2  TCF7L2   "
      ]
     },
     "metadata": {},
     "output_type": "display_data"
    },
    {
     "data": {
      "text/html": [
       "15019"
      ],
      "text/latex": [
       "15019"
      ],
      "text/markdown": [
       "15019"
      ],
      "text/plain": [
       "[1] 15019"
      ]
     },
     "metadata": {},
     "output_type": "display_data"
    },
    {
     "data": {
      "text/html": [
       "65208"
      ],
      "text/latex": [
       "65208"
      ],
      "text/markdown": [
       "65208"
      ],
      "text/plain": [
       "[1] 65208"
      ]
     },
     "metadata": {},
     "output_type": "display_data"
    }
   ],
   "source": [
    "#基因的region过大，以基因上的usage有差异的isoform为锚点\n",
    "#head(exon_region)\n",
    "exon_region[exon_region$isoform_id=='ENST00000534894.5_4',]\n",
    "114725723-114710704\n",
    "114900943-114835735"
   ]
  },
  {
   "cell_type": "code",
   "execution_count": 169,
   "metadata": {
    "vscode": {
     "languageId": "r"
    }
   },
   "outputs": [
    {
     "data": {
      "text/html": [
       "<table class=\"dataframe\">\n",
       "<caption>A data.frame: 5 × 13</caption>\n",
       "<thead>\n",
       "\t<tr><th></th><th scope=col>X</th><th scope=col>gene_ref</th><th scope=col>gene_id</th><th scope=col>gene_name</th><th scope=col>condition_1</th><th scope=col>condition_2</th><th scope=col>isoformUpregulated</th><th scope=col>isoformDownregulated</th><th scope=col>iso_ref_up</th><th scope=col>iso_ref_down</th><th scope=col>featureCompared</th><th scope=col>isoformsDifferent</th><th scope=col>switchConsequence</th></tr>\n",
       "\t<tr><th></th><th scope=col>&lt;int&gt;</th><th scope=col>&lt;chr&gt;</th><th scope=col>&lt;chr&gt;</th><th scope=col>&lt;chr&gt;</th><th scope=col>&lt;chr&gt;</th><th scope=col>&lt;chr&gt;</th><th scope=col>&lt;chr&gt;</th><th scope=col>&lt;chr&gt;</th><th scope=col>&lt;chr&gt;</th><th scope=col>&lt;chr&gt;</th><th scope=col>&lt;chr&gt;</th><th scope=col>&lt;lgl&gt;</th><th scope=col>&lt;chr&gt;</th></tr>\n",
       "</thead>\n",
       "<tbody>\n",
       "\t<tr><th scope=row>496</th><td>496</td><td>geneComp_00038690</td><td>TCF7L2</td><td>TCF7L2</td><td>ASD</td><td>Control</td><td>ENST00000704415.1_1</td><td>ENST00000534894.5_4</td><td>isoComp_00125208</td><td>isoComp_00125203</td><td>intron_retention  </td><td>FALSE</td><td>NA                     </td></tr>\n",
       "\t<tr><th scope=row>497</th><td>497</td><td>geneComp_00038690</td><td>TCF7L2</td><td>TCF7L2</td><td>ASD</td><td>Control</td><td>ENST00000704415.1_1</td><td>ENST00000534894.5_4</td><td>isoComp_00125208</td><td>isoComp_00125203</td><td>coding_potential  </td><td> TRUE</td><td>Transcript is Noncoding</td></tr>\n",
       "\t<tr><th scope=row>498</th><td>498</td><td>geneComp_00038690</td><td>TCF7L2</td><td>TCF7L2</td><td>ASD</td><td>Control</td><td>ENST00000704415.1_1</td><td>ENST00000534894.5_4</td><td>isoComp_00125208</td><td>isoComp_00125203</td><td>ORF_seq_similarity</td><td> TRUE</td><td>ORF is shorter         </td></tr>\n",
       "\t<tr><th scope=row>499</th><td>499</td><td>geneComp_00038690</td><td>TCF7L2</td><td>TCF7L2</td><td>ASD</td><td>Control</td><td>ENST00000704415.1_1</td><td>ENST00000534894.5_4</td><td>isoComp_00125208</td><td>isoComp_00125203</td><td>NMD_status        </td><td>FALSE</td><td>NA                     </td></tr>\n",
       "\t<tr><th scope=row>500</th><td>500</td><td>geneComp_00038690</td><td>TCF7L2</td><td>TCF7L2</td><td>ASD</td><td>Control</td><td>ENST00000704415.1_1</td><td>ENST00000534894.5_4</td><td>isoComp_00125208</td><td>isoComp_00125203</td><td>domains_identified</td><td> TRUE</td><td>Domain loss            </td></tr>\n",
       "</tbody>\n",
       "</table>\n"
      ],
      "text/latex": [
       "A data.frame: 5 × 13\n",
       "\\begin{tabular}{r|lllllllllllll}\n",
       "  & X & gene\\_ref & gene\\_id & gene\\_name & condition\\_1 & condition\\_2 & isoformUpregulated & isoformDownregulated & iso\\_ref\\_up & iso\\_ref\\_down & featureCompared & isoformsDifferent & switchConsequence\\\\\n",
       "  & <int> & <chr> & <chr> & <chr> & <chr> & <chr> & <chr> & <chr> & <chr> & <chr> & <chr> & <lgl> & <chr>\\\\\n",
       "\\hline\n",
       "\t496 & 496 & geneComp\\_00038690 & TCF7L2 & TCF7L2 & ASD & Control & ENST00000704415.1\\_1 & ENST00000534894.5\\_4 & isoComp\\_00125208 & isoComp\\_00125203 & intron\\_retention   & FALSE & NA                     \\\\\n",
       "\t497 & 497 & geneComp\\_00038690 & TCF7L2 & TCF7L2 & ASD & Control & ENST00000704415.1\\_1 & ENST00000534894.5\\_4 & isoComp\\_00125208 & isoComp\\_00125203 & coding\\_potential   &  TRUE & Transcript is Noncoding\\\\\n",
       "\t498 & 498 & geneComp\\_00038690 & TCF7L2 & TCF7L2 & ASD & Control & ENST00000704415.1\\_1 & ENST00000534894.5\\_4 & isoComp\\_00125208 & isoComp\\_00125203 & ORF\\_seq\\_similarity &  TRUE & ORF is shorter         \\\\\n",
       "\t499 & 499 & geneComp\\_00038690 & TCF7L2 & TCF7L2 & ASD & Control & ENST00000704415.1\\_1 & ENST00000534894.5\\_4 & isoComp\\_00125208 & isoComp\\_00125203 & NMD\\_status         & FALSE & NA                     \\\\\n",
       "\t500 & 500 & geneComp\\_00038690 & TCF7L2 & TCF7L2 & ASD & Control & ENST00000704415.1\\_1 & ENST00000534894.5\\_4 & isoComp\\_00125208 & isoComp\\_00125203 & domains\\_identified &  TRUE & Domain loss            \\\\\n",
       "\\end{tabular}\n"
      ],
      "text/markdown": [
       "\n",
       "A data.frame: 5 × 13\n",
       "\n",
       "| <!--/--> | X &lt;int&gt; | gene_ref &lt;chr&gt; | gene_id &lt;chr&gt; | gene_name &lt;chr&gt; | condition_1 &lt;chr&gt; | condition_2 &lt;chr&gt; | isoformUpregulated &lt;chr&gt; | isoformDownregulated &lt;chr&gt; | iso_ref_up &lt;chr&gt; | iso_ref_down &lt;chr&gt; | featureCompared &lt;chr&gt; | isoformsDifferent &lt;lgl&gt; | switchConsequence &lt;chr&gt; |\n",
       "|---|---|---|---|---|---|---|---|---|---|---|---|---|---|\n",
       "| 496 | 496 | geneComp_00038690 | TCF7L2 | TCF7L2 | ASD | Control | ENST00000704415.1_1 | ENST00000534894.5_4 | isoComp_00125208 | isoComp_00125203 | intron_retention   | FALSE | NA                      |\n",
       "| 497 | 497 | geneComp_00038690 | TCF7L2 | TCF7L2 | ASD | Control | ENST00000704415.1_1 | ENST00000534894.5_4 | isoComp_00125208 | isoComp_00125203 | coding_potential   |  TRUE | Transcript is Noncoding |\n",
       "| 498 | 498 | geneComp_00038690 | TCF7L2 | TCF7L2 | ASD | Control | ENST00000704415.1_1 | ENST00000534894.5_4 | isoComp_00125208 | isoComp_00125203 | ORF_seq_similarity |  TRUE | ORF is shorter          |\n",
       "| 499 | 499 | geneComp_00038690 | TCF7L2 | TCF7L2 | ASD | Control | ENST00000704415.1_1 | ENST00000534894.5_4 | isoComp_00125208 | isoComp_00125203 | NMD_status         | FALSE | NA                      |\n",
       "| 500 | 500 | geneComp_00038690 | TCF7L2 | TCF7L2 | ASD | Control | ENST00000704415.1_1 | ENST00000534894.5_4 | isoComp_00125208 | isoComp_00125203 | domains_identified |  TRUE | Domain loss             |\n",
       "\n"
      ],
      "text/plain": [
       "    X   gene_ref          gene_id gene_name condition_1 condition_2\n",
       "496 496 geneComp_00038690 TCF7L2  TCF7L2    ASD         Control    \n",
       "497 497 geneComp_00038690 TCF7L2  TCF7L2    ASD         Control    \n",
       "498 498 geneComp_00038690 TCF7L2  TCF7L2    ASD         Control    \n",
       "499 499 geneComp_00038690 TCF7L2  TCF7L2    ASD         Control    \n",
       "500 500 geneComp_00038690 TCF7L2  TCF7L2    ASD         Control    \n",
       "    isoformUpregulated  isoformDownregulated iso_ref_up       iso_ref_down    \n",
       "496 ENST00000704415.1_1 ENST00000534894.5_4  isoComp_00125208 isoComp_00125203\n",
       "497 ENST00000704415.1_1 ENST00000534894.5_4  isoComp_00125208 isoComp_00125203\n",
       "498 ENST00000704415.1_1 ENST00000534894.5_4  isoComp_00125208 isoComp_00125203\n",
       "499 ENST00000704415.1_1 ENST00000534894.5_4  isoComp_00125208 isoComp_00125203\n",
       "500 ENST00000704415.1_1 ENST00000534894.5_4  isoComp_00125208 isoComp_00125203\n",
       "    featureCompared    isoformsDifferent switchConsequence      \n",
       "496 intron_retention   FALSE             NA                     \n",
       "497 coding_potential    TRUE             Transcript is Noncoding\n",
       "498 ORF_seq_similarity  TRUE             ORF is shorter         \n",
       "499 NMD_status         FALSE             NA                     \n",
       "500 domains_identified  TRUE             Domain loss            "
      ]
     },
     "metadata": {},
     "output_type": "display_data"
    },
    {
     "data": {
      "text/html": [
       "3760"
      ],
      "text/latex": [
       "3760"
      ],
      "text/markdown": [
       "3760"
      ],
      "text/plain": [
       "[1] 3760"
      ]
     },
     "metadata": {},
     "output_type": "display_data"
    }
   ],
   "source": [
    "switch_cons[switch_cons$gene_id=='TCF7L2',]\n",
    "80*47"
   ]
  },
  {
   "cell_type": "code",
   "execution_count": 181,
   "metadata": {
    "vscode": {
     "languageId": "r"
    }
   },
   "outputs": [],
   "source": [
    "#####对有明确switch后果的基因做功能富集分析\n",
    "library(\"clusterProfiler\")\n",
    "library(\"org.Hs.eg.db\")\n",
    "library(repr)"
   ]
  },
  {
   "cell_type": "code",
   "execution_count": 191,
   "metadata": {
    "vscode": {
     "languageId": "r"
    }
   },
   "outputs": [
    {
     "data": {
      "text/html": [
       "<style>\n",
       ".list-inline {list-style: none; margin:0; padding: 0}\n",
       ".list-inline>li {display: inline-block}\n",
       ".list-inline>li:not(:last-child)::after {content: \"\\00b7\"; padding: 0 .5ex}\n",
       "</style>\n",
       "<ol class=list-inline><li>'A2M-AS1'</li><li>'ACSL6'</li><li>'APBB2'</li><li>'ARMC2'</li><li>'ARMCX6'</li><li>'ATMIN'</li></ol>\n"
      ],
      "text/latex": [
       "\\begin{enumerate*}\n",
       "\\item 'A2M-AS1'\n",
       "\\item 'ACSL6'\n",
       "\\item 'APBB2'\n",
       "\\item 'ARMC2'\n",
       "\\item 'ARMCX6'\n",
       "\\item 'ATMIN'\n",
       "\\end{enumerate*}\n"
      ],
      "text/markdown": [
       "1. 'A2M-AS1'\n",
       "2. 'ACSL6'\n",
       "3. 'APBB2'\n",
       "4. 'ARMC2'\n",
       "5. 'ARMCX6'\n",
       "6. 'ATMIN'\n",
       "\n",
       "\n"
      ],
      "text/plain": [
       "[1] \"A2M-AS1\" \"ACSL6\"   \"APBB2\"   \"ARMC2\"   \"ARMCX6\"  \"ATMIN\"  "
      ]
     },
     "metadata": {},
     "output_type": "display_data"
    }
   ],
   "source": [
    "input_genes <- unique(switch_cons$gene_id)\n",
    "head(input_genes)"
   ]
  },
  {
   "cell_type": "code",
   "execution_count": 177,
   "metadata": {
    "vscode": {
     "languageId": "r"
    }
   },
   "outputs": [
    {
     "data": {
      "text/html": [
       "87"
      ],
      "text/latex": [
       "87"
      ],
      "text/markdown": [
       "87"
      ],
      "text/plain": [
       "[1] 87"
      ]
     },
     "metadata": {},
     "output_type": "display_data"
    },
    {
     "data": {
      "text/html": [],
      "text/latex": [],
      "text/markdown": [],
      "text/plain": [
       "integer(0)"
      ]
     },
     "metadata": {},
     "output_type": "display_data"
    }
   ],
   "source": [
    "\n",
    "gene_id <- mget(input_genes, #需要转换的Symbol\n",
    "                     org.Hs.egSYMBOL2EG, # Symbol转EntrezID（人）\n",
    "                     ifnotfound=NA)\n",
    "gene_id <- as.character(gene_id)[!is.na(gene_id)]\n",
    "\n",
    "length(gene_id)\n",
    "\n",
    "enrich.go\n",
    "\n",
    "\n",
    "enrich.go <- enrichGO(gene = gene_id,  \n",
    "                      OrgDb = 'org.Hs.eg.db',  \n",
    "                      keyType = 'ENTREZID',  #指定给定的基因名称类型，例如这里以 entrze id 为例\n",
    "                      ont = 'ALL',  #GO Ontology，可选 BP、MF、CC，也可以指定 ALL 同时计算 3 者\n",
    "                      pAdjustMethod = 'fdr',  #指定 p 值校正方法\n",
    "                      pvalueCutoff = 1,  #指定 p 值阈值（可指定 1 以输出全部）\n",
    "                      qvalueCutoff = 1,  #指定 q 值阈值（可指定 1 以输出全部）\n",
    "                      readable = FALSE)  \n",
    "\n",
    "\n",
    "write.table(input_genes,\"/disk1/wenqing/tmp_data/ASD/gene_names_GO.txt\",quote=F,row.names=F)"
   ]
  },
  {
   "cell_type": "code",
   "execution_count": 195,
   "metadata": {
    "vscode": {
     "languageId": "r"
    }
   },
   "outputs": [
    {
     "data": {
      "text/html": [
       "<strong>png:</strong> 2"
      ],
      "text/latex": [
       "\\textbf{png:} 2"
      ],
      "text/markdown": [
       "**png:** 2"
      ],
      "text/plain": [
       "png \n",
       "  2 "
      ]
     },
     "metadata": {},
     "output_type": "display_data"
    }
   ],
   "source": [
    "#####enrich.go为空，所得94个基因未富集到显著功能\n",
    "pdf(\"/disk1/wenqing/tmp_data/ASD/GO_enrichment_switchGenes.pdf\")\n",
    "dotplot(enrich.go)  #富集气泡图\n",
    "barplot(enrich.go)  #富集柱形图\n",
    "dev.off()"
   ]
  },
  {
   "cell_type": "code",
   "execution_count": 209,
   "metadata": {
    "vscode": {
     "languageId": "r"
    }
   },
   "outputs": [
    {
     "data": {
      "text/html": [
       "217429"
      ],
      "text/latex": [
       "217429"
      ],
      "text/markdown": [
       "217429"
      ],
      "text/plain": [
       "[1] 217429"
      ]
     },
     "metadata": {},
     "output_type": "display_data"
    }
   ],
   "source": [
    "114927437-114710008\n",
    "\n",
    "114710008+441246"
   ]
  },
  {
   "cell_type": "code",
   "execution_count": 2,
   "metadata": {
    "vscode": {
     "languageId": "r"
    }
   },
   "outputs": [
    {
     "name": "stderr",
     "output_type": "stream",
     "text": [
      "Attaching SeuratObject\n",
      "\n"
     ]
    }
   ],
   "source": [
    "library(Seurat)"
   ]
  },
  {
   "cell_type": "code",
   "execution_count": 3,
   "metadata": {
    "vscode": {
     "languageId": "r"
    }
   },
   "outputs": [],
   "source": [
    "library(BiocManager)"
   ]
  },
  {
   "cell_type": "code",
   "execution_count": 4,
   "metadata": {
    "vscode": {
     "languageId": "r"
    }
   },
   "outputs": [
    {
     "name": "stderr",
     "output_type": "stream",
     "text": [
      "'getOption(\"repos\")' replaces Bioconductor standard repositories, see\n",
      "'help(\"repositories\", package = \"BiocManager\")' for details.\n",
      "Replacement repositories:\n",
      "    CRAN: https://cran.r-project.org\n",
      "\n",
      "Bioconductor version 3.17 (BiocManager 1.30.21.1), R 4.3.1 (2023-06-16)\n",
      "\n",
      "Installing package(s) 'batchelor'\n",
      "\n",
      "also installing the dependencies ‘RcppHNSW’, ‘rsvd’, ‘DelayedArray’, ‘sparseMatrixStats’, ‘SingleCellExperiment’, ‘BiocNeighbors’, ‘BiocSingular’, ‘DelayedMatrixStats’, ‘scuttle’, ‘ResidualMatrix’, ‘ScaledMatrix’, ‘beachmat’\n",
      "\n",
      "\n",
      "Warning message in install.packages(...):\n",
      "“installation of package ‘RcppHNSW’ had non-zero exit status”\n",
      "Warning message in install.packages(...):\n",
      "“installation of package ‘DelayedArray’ had non-zero exit status”\n",
      "Warning message in install.packages(...):\n",
      "“installation of package ‘sparseMatrixStats’ had non-zero exit status”\n",
      "Warning message in install.packages(...):\n",
      "“installation of package ‘BiocNeighbors’ had non-zero exit status”\n",
      "Warning message in install.packages(...):\n",
      "“installation of package ‘DelayedMatrixStats’ had non-zero exit status”\n",
      "Warning message in install.packages(...):\n",
      "“installation of package ‘beachmat’ had non-zero exit status”\n",
      "Warning message in install.packages(...):\n",
      "“installation of package ‘BiocSingular’ had non-zero exit status”\n",
      "Warning message in install.packages(...):\n",
      "“installation of package ‘scuttle’ had non-zero exit status”\n",
      "Warning message in install.packages(...):\n",
      "“installation of package ‘batchelor’ had non-zero exit status”\n",
      "Updating HTML index of packages in '.Library'\n",
      "\n",
      "Making 'packages.html' ...\n",
      " done\n",
      "\n",
      "Old packages: 'BiocManager', 'clusterProfiler', 'curl', 'dbplyr',\n",
      "  'DelayedArray', 'DOSE', 'DT', 'enrichplot', 'ensembldb', 'evaluate', 'fansi',\n",
      "  'GenomeInfoDb', 'GenomicFeatures', 'GenomicRanges', 'ggplot2', 'ggrepel',\n",
      "  'ggtree', 'GOSemSim', 'htmltools', 'httpuv', 'KEGGREST', 'lattice',\n",
      "  'MatrixGenerics', 'openssl', 'plyr', 'rbibutils', 'rtracklayer', 'S4Arrays',\n",
      "  'S4Vectors', 'shiny', 'systemfonts', 'tinytex', 'treeio', 'tximeta', 'utf8',\n",
      "  'vctrs', 'vroom', 'withr'\n",
      "\n"
     ]
    }
   ],
   "source": [
    "BiocManager::install(\"batchelor\")"
   ]
  },
  {
   "cell_type": "code",
   "execution_count": 9,
   "metadata": {
    "vscode": {
     "languageId": "r"
    }
   },
   "outputs": [
    {
     "data": {
      "text/html": [
       "11642229600"
      ],
      "text/latex": [
       "11642229600"
      ],
      "text/markdown": [
       "11642229600"
      ],
      "text/plain": [
       "[1] 11642229600"
      ]
     },
     "metadata": {},
     "output_type": "display_data"
    },
    {
     "data": {
      "text/html": [
       "11642229558"
      ],
      "text/latex": [
       "11642229558"
      ],
      "text/markdown": [
       "11642229558"
      ],
      "text/plain": [
       "[1] 11642229558"
      ]
     },
     "metadata": {},
     "output_type": "display_data"
    }
   ],
   "source": [
    "116422296*100\n",
    "\n",
    "7013391300+4628838258"
   ]
  }
 ],
 "metadata": {
  "kernelspec": {
   "display_name": "R",
   "language": "R",
   "name": "ir"
  },
  "language_info": {
   "codemirror_mode": "r",
   "file_extension": ".r",
   "mimetype": "text/x-r-source",
   "name": "R",
   "pygments_lexer": "r",
   "version": "4.3.1"
  },
  "orig_nbformat": 4
 },
 "nbformat": 4,
 "nbformat_minor": 2
}
