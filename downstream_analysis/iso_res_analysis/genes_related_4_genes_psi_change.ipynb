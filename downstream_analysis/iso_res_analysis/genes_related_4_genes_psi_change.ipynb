{
 "cells": [
  {
   "cell_type": "code",
   "execution_count": null,
   "metadata": {
    "vscode": {
     "languageId": "r"
    }
   },
   "outputs": [],
   "source": [
    "library(dplyr)\n",
    "library(tidyr)\n",
    "library(purrr)\n",
    "library(pheatmap)\n"
   ]
  },
  {
   "cell_type": "code",
   "execution_count": null,
   "metadata": {
    "vscode": {
     "languageId": "r"
    }
   },
   "outputs": [],
   "source": [
    "#########对所有AS事件进行分类（按照其跟随发育时间的变化程度）\n",
    "#PSI > 0.9 (all times)(no change)\n",
    "#max(PSI) - min(PSI) < 0.1 (stable)\n",
    "#max(PSI) - min(PSI) >=0.1 and Cor(X,L) > 0.7 (continous up)\n",
    "#max(PSI) - min(PSI) >=0.1 and Cor(X,L) < -0.7 (continous down)\n",
    "data <- read.table(\"/disk1/wenqing/tmp_data/PFC_s2/salmon_output_untrimmed_ver/project_events_untrimmed_ver.psi\",row.names=NULL)\n",
    "rownames(data) <- data[,1]\n",
    "data <- data[,-1]\n",
    "head(data)\n"
   ]
  },
  {
   "cell_type": "code",
   "execution_count": 3,
   "metadata": {
    "vscode": {
     "languageId": "r"
    }
   },
   "outputs": [
    {
     "data": {
      "text/html": [
       "<style>\n",
       ".list-inline {list-style: none; margin:0; padding: 0}\n",
       ".list-inline>li {display: inline-block}\n",
       ".list-inline>li:not(:last-child)::after {content: \"\\00b7\"; padding: 0 .5ex}\n",
       "</style>\n",
       "<ol class=list-inline><li>68747</li><li>12</li></ol>\n"
      ],
      "text/latex": [
       "\\begin{enumerate*}\n",
       "\\item 68747\n",
       "\\item 12\n",
       "\\end{enumerate*}\n"
      ],
      "text/markdown": [
       "1. 68747\n",
       "2. 12\n",
       "\n",
       "\n"
      ],
      "text/plain": [
       "[1] 68747    12"
      ]
     },
     "metadata": {},
     "output_type": "display_data"
    }
   ],
   "source": [
    "data[is.na(data)] <- 0\n",
    "data <- data[rowSums(data)!=0,]\n",
    "dim(data)"
   ]
  },
  {
   "cell_type": "code",
   "execution_count": 4,
   "metadata": {
    "vscode": {
     "languageId": "r"
    }
   },
   "outputs": [
    {
     "data": {
      "text/html": [
       "<table class=\"dataframe\">\n",
       "<caption>A data.frame: 6 × 12</caption>\n",
       "<thead>\n",
       "\t<tr><th></th><th scope=col>GW08</th><th scope=col>GW12</th><th scope=col>GW16_1_3</th><th scope=col>GW16_1_4</th><th scope=col>GW16_1_9</th><th scope=col>GW19_1_1</th><th scope=col>GW19_1_2</th><th scope=col>GW19_1_3</th><th scope=col>GW23_1_1</th><th scope=col>GW23_1_2</th><th scope=col>GW23_1_3</th><th scope=col>GW26_1_1</th></tr>\n",
       "\t<tr><th></th><th scope=col>&lt;dbl&gt;</th><th scope=col>&lt;dbl&gt;</th><th scope=col>&lt;dbl&gt;</th><th scope=col>&lt;dbl&gt;</th><th scope=col>&lt;dbl&gt;</th><th scope=col>&lt;dbl&gt;</th><th scope=col>&lt;dbl&gt;</th><th scope=col>&lt;dbl&gt;</th><th scope=col>&lt;dbl&gt;</th><th scope=col>&lt;dbl&gt;</th><th scope=col>&lt;dbl&gt;</th><th scope=col>&lt;dbl&gt;</th></tr>\n",
       "</thead>\n",
       "<tbody>\n",
       "\t<tr><th scope=row>ENSG00000000003.15;A5:chrX:100635746-100636608:100635746-100636793:-</th><td>1</td><td>1</td><td>0</td><td>1</td><td>1.0000000</td><td>1</td><td>1</td><td>1</td><td>1</td><td>1.000000000</td><td>1</td><td>1</td></tr>\n",
       "\t<tr><th scope=row>ENSG00000000003.15;SE:chrX:100630866-100632485:100632568-100633405:-</th><td>1</td><td>1</td><td>0</td><td>1</td><td>1.0000000</td><td>1</td><td>1</td><td>1</td><td>1</td><td>1.000000000</td><td>1</td><td>1</td></tr>\n",
       "\t<tr><th scope=row>ENSG00000000419.13;A3:chr20:50940955-50941105:50940933-50941105:-</th><td>1</td><td>1</td><td>1</td><td>1</td><td>0.0000000</td><td>1</td><td>1</td><td>0</td><td>1</td><td>0.987618524</td><td>1</td><td>1</td></tr>\n",
       "\t<tr><th scope=row>ENSG00000000419.13;A3:chr20:50940955-50942031:50940933-50942031:-</th><td>0</td><td>0</td><td>0</td><td>0</td><td>0.5916562</td><td>0</td><td>0</td><td>0</td><td>0</td><td>0.000000000</td><td>0</td><td>0</td></tr>\n",
       "\t<tr><th scope=row>ENSG00000000419.13;A5:chr20:50940933-50941105:50940933-50941129:-</th><td>0</td><td>0</td><td>0</td><td>0</td><td>0.0000000</td><td>0</td><td>0</td><td>0</td><td>0</td><td>0.008303274</td><td>0</td><td>0</td></tr>\n",
       "\t<tr><th scope=row>ENSG00000000419.13;SE:chr20:50940933-50941105:50941209-50942031:-</th><td>0</td><td>0</td><td>0</td><td>0</td><td>0.0000000</td><td>0</td><td>0</td><td>0</td><td>0</td><td>1.000000000</td><td>0</td><td>0</td></tr>\n",
       "</tbody>\n",
       "</table>\n"
      ],
      "text/latex": [
       "A data.frame: 6 × 12\n",
       "\\begin{tabular}{r|llllllllllll}\n",
       "  & GW08 & GW12 & GW16\\_1\\_3 & GW16\\_1\\_4 & GW16\\_1\\_9 & GW19\\_1\\_1 & GW19\\_1\\_2 & GW19\\_1\\_3 & GW23\\_1\\_1 & GW23\\_1\\_2 & GW23\\_1\\_3 & GW26\\_1\\_1\\\\\n",
       "  & <dbl> & <dbl> & <dbl> & <dbl> & <dbl> & <dbl> & <dbl> & <dbl> & <dbl> & <dbl> & <dbl> & <dbl>\\\\\n",
       "\\hline\n",
       "\tENSG00000000003.15;A5:chrX:100635746-100636608:100635746-100636793:- & 1 & 1 & 0 & 1 & 1.0000000 & 1 & 1 & 1 & 1 & 1.000000000 & 1 & 1\\\\\n",
       "\tENSG00000000003.15;SE:chrX:100630866-100632485:100632568-100633405:- & 1 & 1 & 0 & 1 & 1.0000000 & 1 & 1 & 1 & 1 & 1.000000000 & 1 & 1\\\\\n",
       "\tENSG00000000419.13;A3:chr20:50940955-50941105:50940933-50941105:- & 1 & 1 & 1 & 1 & 0.0000000 & 1 & 1 & 0 & 1 & 0.987618524 & 1 & 1\\\\\n",
       "\tENSG00000000419.13;A3:chr20:50940955-50942031:50940933-50942031:- & 0 & 0 & 0 & 0 & 0.5916562 & 0 & 0 & 0 & 0 & 0.000000000 & 0 & 0\\\\\n",
       "\tENSG00000000419.13;A5:chr20:50940933-50941105:50940933-50941129:- & 0 & 0 & 0 & 0 & 0.0000000 & 0 & 0 & 0 & 0 & 0.008303274 & 0 & 0\\\\\n",
       "\tENSG00000000419.13;SE:chr20:50940933-50941105:50941209-50942031:- & 0 & 0 & 0 & 0 & 0.0000000 & 0 & 0 & 0 & 0 & 1.000000000 & 0 & 0\\\\\n",
       "\\end{tabular}\n"
      ],
      "text/markdown": [
       "\n",
       "A data.frame: 6 × 12\n",
       "\n",
       "| <!--/--> | GW08 &lt;dbl&gt; | GW12 &lt;dbl&gt; | GW16_1_3 &lt;dbl&gt; | GW16_1_4 &lt;dbl&gt; | GW16_1_9 &lt;dbl&gt; | GW19_1_1 &lt;dbl&gt; | GW19_1_2 &lt;dbl&gt; | GW19_1_3 &lt;dbl&gt; | GW23_1_1 &lt;dbl&gt; | GW23_1_2 &lt;dbl&gt; | GW23_1_3 &lt;dbl&gt; | GW26_1_1 &lt;dbl&gt; |\n",
       "|---|---|---|---|---|---|---|---|---|---|---|---|---|\n",
       "| ENSG00000000003.15;A5:chrX:100635746-100636608:100635746-100636793:- | 1 | 1 | 0 | 1 | 1.0000000 | 1 | 1 | 1 | 1 | 1.000000000 | 1 | 1 |\n",
       "| ENSG00000000003.15;SE:chrX:100630866-100632485:100632568-100633405:- | 1 | 1 | 0 | 1 | 1.0000000 | 1 | 1 | 1 | 1 | 1.000000000 | 1 | 1 |\n",
       "| ENSG00000000419.13;A3:chr20:50940955-50941105:50940933-50941105:- | 1 | 1 | 1 | 1 | 0.0000000 | 1 | 1 | 0 | 1 | 0.987618524 | 1 | 1 |\n",
       "| ENSG00000000419.13;A3:chr20:50940955-50942031:50940933-50942031:- | 0 | 0 | 0 | 0 | 0.5916562 | 0 | 0 | 0 | 0 | 0.000000000 | 0 | 0 |\n",
       "| ENSG00000000419.13;A5:chr20:50940933-50941105:50940933-50941129:- | 0 | 0 | 0 | 0 | 0.0000000 | 0 | 0 | 0 | 0 | 0.008303274 | 0 | 0 |\n",
       "| ENSG00000000419.13;SE:chr20:50940933-50941105:50941209-50942031:- | 0 | 0 | 0 | 0 | 0.0000000 | 0 | 0 | 0 | 0 | 1.000000000 | 0 | 0 |\n",
       "\n"
      ],
      "text/plain": [
       "                                                                     GW08 GW12\n",
       "ENSG00000000003.15;A5:chrX:100635746-100636608:100635746-100636793:- 1    1   \n",
       "ENSG00000000003.15;SE:chrX:100630866-100632485:100632568-100633405:- 1    1   \n",
       "ENSG00000000419.13;A3:chr20:50940955-50941105:50940933-50941105:-    1    1   \n",
       "ENSG00000000419.13;A3:chr20:50940955-50942031:50940933-50942031:-    0    0   \n",
       "ENSG00000000419.13;A5:chr20:50940933-50941105:50940933-50941129:-    0    0   \n",
       "ENSG00000000419.13;SE:chr20:50940933-50941105:50941209-50942031:-    0    0   \n",
       "                                                                     GW16_1_3\n",
       "ENSG00000000003.15;A5:chrX:100635746-100636608:100635746-100636793:- 0       \n",
       "ENSG00000000003.15;SE:chrX:100630866-100632485:100632568-100633405:- 0       \n",
       "ENSG00000000419.13;A3:chr20:50940955-50941105:50940933-50941105:-    1       \n",
       "ENSG00000000419.13;A3:chr20:50940955-50942031:50940933-50942031:-    0       \n",
       "ENSG00000000419.13;A5:chr20:50940933-50941105:50940933-50941129:-    0       \n",
       "ENSG00000000419.13;SE:chr20:50940933-50941105:50941209-50942031:-    0       \n",
       "                                                                     GW16_1_4\n",
       "ENSG00000000003.15;A5:chrX:100635746-100636608:100635746-100636793:- 1       \n",
       "ENSG00000000003.15;SE:chrX:100630866-100632485:100632568-100633405:- 1       \n",
       "ENSG00000000419.13;A3:chr20:50940955-50941105:50940933-50941105:-    1       \n",
       "ENSG00000000419.13;A3:chr20:50940955-50942031:50940933-50942031:-    0       \n",
       "ENSG00000000419.13;A5:chr20:50940933-50941105:50940933-50941129:-    0       \n",
       "ENSG00000000419.13;SE:chr20:50940933-50941105:50941209-50942031:-    0       \n",
       "                                                                     GW16_1_9 \n",
       "ENSG00000000003.15;A5:chrX:100635746-100636608:100635746-100636793:- 1.0000000\n",
       "ENSG00000000003.15;SE:chrX:100630866-100632485:100632568-100633405:- 1.0000000\n",
       "ENSG00000000419.13;A3:chr20:50940955-50941105:50940933-50941105:-    0.0000000\n",
       "ENSG00000000419.13;A3:chr20:50940955-50942031:50940933-50942031:-    0.5916562\n",
       "ENSG00000000419.13;A5:chr20:50940933-50941105:50940933-50941129:-    0.0000000\n",
       "ENSG00000000419.13;SE:chr20:50940933-50941105:50941209-50942031:-    0.0000000\n",
       "                                                                     GW19_1_1\n",
       "ENSG00000000003.15;A5:chrX:100635746-100636608:100635746-100636793:- 1       \n",
       "ENSG00000000003.15;SE:chrX:100630866-100632485:100632568-100633405:- 1       \n",
       "ENSG00000000419.13;A3:chr20:50940955-50941105:50940933-50941105:-    1       \n",
       "ENSG00000000419.13;A3:chr20:50940955-50942031:50940933-50942031:-    0       \n",
       "ENSG00000000419.13;A5:chr20:50940933-50941105:50940933-50941129:-    0       \n",
       "ENSG00000000419.13;SE:chr20:50940933-50941105:50941209-50942031:-    0       \n",
       "                                                                     GW19_1_2\n",
       "ENSG00000000003.15;A5:chrX:100635746-100636608:100635746-100636793:- 1       \n",
       "ENSG00000000003.15;SE:chrX:100630866-100632485:100632568-100633405:- 1       \n",
       "ENSG00000000419.13;A3:chr20:50940955-50941105:50940933-50941105:-    1       \n",
       "ENSG00000000419.13;A3:chr20:50940955-50942031:50940933-50942031:-    0       \n",
       "ENSG00000000419.13;A5:chr20:50940933-50941105:50940933-50941129:-    0       \n",
       "ENSG00000000419.13;SE:chr20:50940933-50941105:50941209-50942031:-    0       \n",
       "                                                                     GW19_1_3\n",
       "ENSG00000000003.15;A5:chrX:100635746-100636608:100635746-100636793:- 1       \n",
       "ENSG00000000003.15;SE:chrX:100630866-100632485:100632568-100633405:- 1       \n",
       "ENSG00000000419.13;A3:chr20:50940955-50941105:50940933-50941105:-    0       \n",
       "ENSG00000000419.13;A3:chr20:50940955-50942031:50940933-50942031:-    0       \n",
       "ENSG00000000419.13;A5:chr20:50940933-50941105:50940933-50941129:-    0       \n",
       "ENSG00000000419.13;SE:chr20:50940933-50941105:50941209-50942031:-    0       \n",
       "                                                                     GW23_1_1\n",
       "ENSG00000000003.15;A5:chrX:100635746-100636608:100635746-100636793:- 1       \n",
       "ENSG00000000003.15;SE:chrX:100630866-100632485:100632568-100633405:- 1       \n",
       "ENSG00000000419.13;A3:chr20:50940955-50941105:50940933-50941105:-    1       \n",
       "ENSG00000000419.13;A3:chr20:50940955-50942031:50940933-50942031:-    0       \n",
       "ENSG00000000419.13;A5:chr20:50940933-50941105:50940933-50941129:-    0       \n",
       "ENSG00000000419.13;SE:chr20:50940933-50941105:50941209-50942031:-    0       \n",
       "                                                                     GW23_1_2   \n",
       "ENSG00000000003.15;A5:chrX:100635746-100636608:100635746-100636793:- 1.000000000\n",
       "ENSG00000000003.15;SE:chrX:100630866-100632485:100632568-100633405:- 1.000000000\n",
       "ENSG00000000419.13;A3:chr20:50940955-50941105:50940933-50941105:-    0.987618524\n",
       "ENSG00000000419.13;A3:chr20:50940955-50942031:50940933-50942031:-    0.000000000\n",
       "ENSG00000000419.13;A5:chr20:50940933-50941105:50940933-50941129:-    0.008303274\n",
       "ENSG00000000419.13;SE:chr20:50940933-50941105:50941209-50942031:-    1.000000000\n",
       "                                                                     GW23_1_3\n",
       "ENSG00000000003.15;A5:chrX:100635746-100636608:100635746-100636793:- 1       \n",
       "ENSG00000000003.15;SE:chrX:100630866-100632485:100632568-100633405:- 1       \n",
       "ENSG00000000419.13;A3:chr20:50940955-50941105:50940933-50941105:-    1       \n",
       "ENSG00000000419.13;A3:chr20:50940955-50942031:50940933-50942031:-    0       \n",
       "ENSG00000000419.13;A5:chr20:50940933-50941105:50940933-50941129:-    0       \n",
       "ENSG00000000419.13;SE:chr20:50940933-50941105:50941209-50942031:-    0       \n",
       "                                                                     GW26_1_1\n",
       "ENSG00000000003.15;A5:chrX:100635746-100636608:100635746-100636793:- 1       \n",
       "ENSG00000000003.15;SE:chrX:100630866-100632485:100632568-100633405:- 1       \n",
       "ENSG00000000419.13;A3:chr20:50940955-50941105:50940933-50941105:-    1       \n",
       "ENSG00000000419.13;A3:chr20:50940955-50942031:50940933-50942031:-    0       \n",
       "ENSG00000000419.13;A5:chr20:50940933-50941105:50940933-50941129:-    0       \n",
       "ENSG00000000419.13;SE:chr20:50940933-50941105:50941209-50942031:-    0       "
      ]
     },
     "metadata": {},
     "output_type": "display_data"
    }
   ],
   "source": [
    "head(data)"
   ]
  },
  {
   "cell_type": "code",
   "execution_count": 5,
   "metadata": {
    "vscode": {
     "languageId": "r"
    }
   },
   "outputs": [],
   "source": [
    "df <- data %>%\n",
    "  rowwise() %>%\n",
    "  mutate(diff_PSI = max(c_across(starts_with(\"GW\"))) - min(c_across(starts_with(\"GW\"))))"
   ]
  },
  {
   "cell_type": "code",
   "execution_count": 6,
   "metadata": {
    "vscode": {
     "languageId": "r"
    }
   },
   "outputs": [],
   "source": [
    "# 生成L序列，L代表时间点的均匀分布，从1到n（n为列数）\n",
    "L_sequence <- seq(0,1,length.out=ncol(data))\n",
    "\n",
    "# 定义一个函数来计算单行的X与L的相关性\n",
    "calc_correlation <- function(row) {\n",
    "  cor(row, L_sequence, method = \"pearson\")\n",
    "}\n"
   ]
  },
  {
   "cell_type": "code",
   "execution_count": null,
   "metadata": {
    "vscode": {
     "languageId": "r"
    }
   },
   "outputs": [],
   "source": [
    "cor_value <- apply(data,1,calc_correlation)"
   ]
  },
  {
   "cell_type": "code",
   "execution_count": 8,
   "metadata": {
    "vscode": {
     "languageId": "r"
    }
   },
   "outputs": [],
   "source": [
    "psi_no_change <- function(row){\n",
    "  pass_flag_num <- length(which(row > 0.9))\n",
    "  if(pass_flag_num > 0.8*12){\n",
    "    return(1)\n",
    "  }\n",
    "  else{\n",
    "    return(0)\n",
    "  }\n",
    "}"
   ]
  },
  {
   "cell_type": "code",
   "execution_count": 9,
   "metadata": {
    "vscode": {
     "languageId": "r"
    }
   },
   "outputs": [],
   "source": [
    "no_change_index <- apply(data,1,psi_no_change)"
   ]
  },
  {
   "cell_type": "code",
   "execution_count": 10,
   "metadata": {
    "vscode": {
     "languageId": "r"
    }
   },
   "outputs": [],
   "source": [
    "cor_value[is.na(cor_value)] <- 0"
   ]
  },
  {
   "cell_type": "code",
   "execution_count": 11,
   "metadata": {
    "vscode": {
     "languageId": "r"
    }
   },
   "outputs": [],
   "source": [
    "df$cor_value <- cor_value\n",
    "df$change_index <- no_change_index\n",
    "#change_index=1:没有变换，=0:有变化"
   ]
  },
  {
   "cell_type": "code",
   "execution_count": 12,
   "metadata": {
    "vscode": {
     "languageId": "r"
    }
   },
   "outputs": [],
   "source": [
    "df <- as.data.frame(df)\n",
    "rownames(df) <- rownames(data)"
   ]
  },
  {
   "cell_type": "code",
   "execution_count": 13,
   "metadata": {
    "vscode": {
     "languageId": "r"
    }
   },
   "outputs": [],
   "source": [
    "##psi没变化的event\n",
    "no_change_event <- df[which(df$change_index == 1),]\n",
    "stable_event <- df[which(df$diff_PSI < 0.1),]\n",
    "up_event <- df[which(df$diff_PSI >= 0.1 & df$cor_value > 0.7),]\n",
    "down_event <- df[which(df$diff_PSI >= 0.1 & df$cor_value < -0.7),]"
   ]
  },
  {
   "cell_type": "code",
   "execution_count": 15,
   "metadata": {
    "vscode": {
     "languageId": "r"
    }
   },
   "outputs": [],
   "source": [
    "write.table(up_event,\"/disk1/wenqing/tmp_data/PFC_s2/all_analysis_result/psi_change/psi_up_events.txt\",quote=F,sep='\\t')\n",
    "write.table(down_event,\"/disk1/wenqing/tmp_data/PFC_s2/all_analysis_result/psi_change/psi_down_events.txt\",quote=F,sep='\\t')\n",
    "write.table(stable_event,\"/disk1/wenqing/tmp_data/PFC_s2/all_analysis_result/psi_change/psi_stable_events.txt\",quote=F,sep='\\t')\n",
    "write.table(no_change_event,\"/disk1/wenqing/tmp_data/PFC_s2/all_analysis_result/psi_change/psi_no_change_events.txt\",quote=F,sep='\\t')"
   ]
  },
  {
   "cell_type": "code",
   "execution_count": 130,
   "metadata": {
    "vscode": {
     "languageId": "r"
    }
   },
   "outputs": [
    {
     "data": {
      "text/html": [
       "<style>\n",
       ".list-inline {list-style: none; margin:0; padding: 0}\n",
       ".list-inline>li {display: inline-block}\n",
       ".list-inline>li:not(:last-child)::after {content: \"\\00b7\"; padding: 0 .5ex}\n",
       "</style>\n",
       "<ol class=list-inline><li>9272</li><li>15</li></ol>\n"
      ],
      "text/latex": [
       "\\begin{enumerate*}\n",
       "\\item 9272\n",
       "\\item 15\n",
       "\\end{enumerate*}\n"
      ],
      "text/markdown": [
       "1. 9272\n",
       "2. 15\n",
       "\n",
       "\n"
      ],
      "text/plain": [
       "[1] 9272   15"
      ]
     },
     "metadata": {},
     "output_type": "display_data"
    },
    {
     "data": {
      "text/html": [
       "<style>\n",
       ".list-inline {list-style: none; margin:0; padding: 0}\n",
       ".list-inline>li {display: inline-block}\n",
       ".list-inline>li:not(:last-child)::after {content: \"\\00b7\"; padding: 0 .5ex}\n",
       "</style>\n",
       "<ol class=list-inline><li>5627</li><li>15</li></ol>\n"
      ],
      "text/latex": [
       "\\begin{enumerate*}\n",
       "\\item 5627\n",
       "\\item 15\n",
       "\\end{enumerate*}\n"
      ],
      "text/markdown": [
       "1. 5627\n",
       "2. 15\n",
       "\n",
       "\n"
      ],
      "text/plain": [
       "[1] 5627   15"
      ]
     },
     "metadata": {},
     "output_type": "display_data"
    },
    {
     "data": {
      "text/html": [
       "<style>\n",
       ".list-inline {list-style: none; margin:0; padding: 0}\n",
       ".list-inline>li {display: inline-block}\n",
       ".list-inline>li:not(:last-child)::after {content: \"\\00b7\"; padding: 0 .5ex}\n",
       "</style>\n",
       "<ol class=list-inline><li>467</li><li>15</li></ol>\n"
      ],
      "text/latex": [
       "\\begin{enumerate*}\n",
       "\\item 467\n",
       "\\item 15\n",
       "\\end{enumerate*}\n"
      ],
      "text/markdown": [
       "1. 467\n",
       "2. 15\n",
       "\n",
       "\n"
      ],
      "text/plain": [
       "[1] 467  15"
      ]
     },
     "metadata": {},
     "output_type": "display_data"
    },
    {
     "data": {
      "text/html": [
       "<style>\n",
       ".list-inline {list-style: none; margin:0; padding: 0}\n",
       ".list-inline>li {display: inline-block}\n",
       ".list-inline>li:not(:last-child)::after {content: \"\\00b7\"; padding: 0 .5ex}\n",
       "</style>\n",
       "<ol class=list-inline><li>91</li><li>15</li></ol>\n"
      ],
      "text/latex": [
       "\\begin{enumerate*}\n",
       "\\item 91\n",
       "\\item 15\n",
       "\\end{enumerate*}\n"
      ],
      "text/markdown": [
       "1. 91\n",
       "2. 15\n",
       "\n",
       "\n"
      ],
      "text/plain": [
       "[1] 91 15"
      ]
     },
     "metadata": {},
     "output_type": "display_data"
    },
    {
     "data": {
      "text/html": [
       "<style>\n",
       ".list-inline {list-style: none; margin:0; padding: 0}\n",
       ".list-inline>li {display: inline-block}\n",
       ".list-inline>li:not(:last-child)::after {content: \"\\00b7\"; padding: 0 .5ex}\n",
       "</style>\n",
       "<ol class=list-inline><li>68747</li><li>15</li></ol>\n"
      ],
      "text/latex": [
       "\\begin{enumerate*}\n",
       "\\item 68747\n",
       "\\item 15\n",
       "\\end{enumerate*}\n"
      ],
      "text/markdown": [
       "1. 68747\n",
       "2. 15\n",
       "\n",
       "\n"
      ],
      "text/plain": [
       "[1] 68747    15"
      ]
     },
     "metadata": {},
     "output_type": "display_data"
    }
   ],
   "source": [
    "dim(no_change_event)\n",
    "dim(stable_event)\n",
    "dim(up_event)\n",
    "dim(down_event)\n",
    "dim(df)"
   ]
  },
  {
   "cell_type": "code",
   "execution_count": 181,
   "metadata": {
    "vscode": {
     "languageId": "r"
    }
   },
   "outputs": [],
   "source": [
    "change_event <- rbind(up_event,down_event)\n",
    "change_event_data <- data[rownames(change_event),]\n"
   ]
  },
  {
   "cell_type": "code",
   "execution_count": 182,
   "metadata": {
    "vscode": {
     "languageId": "r"
    }
   },
   "outputs": [
    {
     "data": {
      "text/html": [
       "<style>\n",
       ".list-inline {list-style: none; margin:0; padding: 0}\n",
       ".list-inline>li {display: inline-block}\n",
       ".list-inline>li:not(:last-child)::after {content: \"\\00b7\"; padding: 0 .5ex}\n",
       "</style>\n",
       "<ol class=list-inline><li>'Up'</li><li>'Up'</li><li>'Up'</li><li>'Up'</li><li>'Up'</li><li>'Up'</li><li>'Up'</li><li>'Up'</li><li>'Up'</li><li>'Up'</li><li>'Up'</li><li>'Up'</li><li>'Up'</li><li>'Up'</li><li>'Up'</li><li>'Up'</li><li>'Up'</li><li>'Up'</li><li>'Up'</li><li>'Up'</li><li>'Up'</li><li>'Up'</li><li>'Up'</li><li>'Up'</li><li>'Up'</li><li>'Up'</li><li>'Up'</li><li>'Up'</li><li>'Up'</li><li>'Up'</li><li>'Up'</li><li>'Up'</li><li>'Up'</li><li>'Up'</li><li>'Up'</li><li>'Up'</li><li>'Up'</li><li>'Up'</li><li>'Up'</li><li>'Up'</li><li>'Up'</li><li>'Up'</li><li>'Up'</li><li>'Up'</li><li>'Up'</li><li>'Up'</li><li>'Up'</li><li>'Up'</li><li>'Up'</li><li>'Up'</li><li>'Up'</li><li>'Up'</li><li>'Up'</li><li>'Up'</li><li>'Up'</li><li>'Up'</li><li>'Up'</li><li>'Up'</li><li>'Up'</li><li>'Up'</li><li>'Up'</li><li>'Up'</li><li>'Up'</li><li>'Up'</li><li>'Up'</li><li>'Up'</li><li>'Up'</li><li>'Up'</li><li>'Up'</li><li>'Up'</li><li>'Up'</li><li>'Up'</li><li>'Up'</li><li>'Up'</li><li>'Up'</li><li>'Up'</li><li>'Up'</li><li>'Up'</li><li>'Up'</li><li>'Up'</li><li>'Up'</li><li>'Up'</li><li>'Up'</li><li>'Up'</li><li>'Up'</li><li>'Up'</li><li>'Up'</li><li>'Up'</li><li>'Up'</li><li>'Up'</li><li>'Up'</li><li>'Up'</li><li>'Up'</li><li>'Up'</li><li>'Up'</li><li>'Up'</li><li>'Up'</li><li>'Up'</li><li>'Up'</li><li>'Up'</li><li>'Up'</li><li>'Up'</li><li>'Up'</li><li>'Up'</li><li>'Up'</li><li>'Up'</li><li>'Up'</li><li>'Up'</li><li>'Up'</li><li>'Up'</li><li>'Up'</li><li>'Up'</li><li>'Up'</li><li>'Up'</li><li>'Up'</li><li>'Up'</li><li>'Up'</li><li>'Up'</li><li>'Up'</li><li>'Up'</li><li>'Up'</li><li>'Up'</li><li>'Up'</li><li>'Up'</li><li>'Up'</li><li>'Up'</li><li>'Up'</li><li>'Up'</li><li>'Up'</li><li>'Up'</li><li>'Up'</li><li>'Up'</li><li>'Up'</li><li>'Up'</li><li>'Up'</li><li>'Up'</li><li>'Up'</li><li>'Up'</li><li>'Up'</li><li>'Up'</li><li>'Up'</li><li>'Up'</li><li>'Up'</li><li>'Up'</li><li>'Up'</li><li>'Up'</li><li>'Up'</li><li>'Up'</li><li>'Up'</li><li>'Up'</li><li>'Up'</li><li>'Up'</li><li>'Up'</li><li>'Up'</li><li>'Up'</li><li>'Up'</li><li>'Up'</li><li>'Up'</li><li>'Up'</li><li>'Up'</li><li>'Up'</li><li>'Up'</li><li>'Up'</li><li>'Up'</li><li>'Up'</li><li>'Up'</li><li>'Up'</li><li>'Up'</li><li>'Up'</li><li>'Up'</li><li>'Up'</li><li>'Up'</li><li>'Up'</li><li>'Up'</li><li>'Up'</li><li>'Up'</li><li>'Up'</li><li>'Up'</li><li>'Up'</li><li>'Up'</li><li>'Up'</li><li>'Up'</li><li>'Up'</li><li>'Up'</li><li>'Up'</li><li>'Up'</li><li>'Up'</li><li>'Up'</li><li>'Up'</li><li>'Up'</li><li>'Up'</li><li>'Up'</li><li>'Up'</li><li>'Up'</li><li>'Up'</li><li>'Up'</li><li>'Up'</li><li>'Up'</li><li>'Up'</li><li>'Up'</li><li>⋯</li><li>'Up'</li><li>'Up'</li><li>'Up'</li><li>'Up'</li><li>'Up'</li><li>'Up'</li><li>'Up'</li><li>'Up'</li><li>'Up'</li><li>'Up'</li><li>'Up'</li><li>'Up'</li><li>'Up'</li><li>'Up'</li><li>'Up'</li><li>'Up'</li><li>'Up'</li><li>'Up'</li><li>'Up'</li><li>'Up'</li><li>'Up'</li><li>'Up'</li><li>'Up'</li><li>'Up'</li><li>'Up'</li><li>'Up'</li><li>'Up'</li><li>'Up'</li><li>'Up'</li><li>'Up'</li><li>'Up'</li><li>'Up'</li><li>'Up'</li><li>'Up'</li><li>'Up'</li><li>'Up'</li><li>'Up'</li><li>'Up'</li><li>'Up'</li><li>'Up'</li><li>'Up'</li><li>'Up'</li><li>'Up'</li><li>'Up'</li><li>'Up'</li><li>'Up'</li><li>'Up'</li><li>'Up'</li><li>'Up'</li><li>'Up'</li><li>'Up'</li><li>'Up'</li><li>'Up'</li><li>'Up'</li><li>'Up'</li><li>'Up'</li><li>'Up'</li><li>'Up'</li><li>'Up'</li><li>'Up'</li><li>'Up'</li><li>'Up'</li><li>'Up'</li><li>'Up'</li><li>'Up'</li><li>'Up'</li><li>'Up'</li><li>'Up'</li><li>'Up'</li><li>'Up'</li><li>'Up'</li><li>'Up'</li><li>'Up'</li><li>'Up'</li><li>'Up'</li><li>'Up'</li><li>'Up'</li><li>'Up'</li><li>'Up'</li><li>'Up'</li><li>'Up'</li><li>'Up'</li><li>'Up'</li><li>'Up'</li><li>'Up'</li><li>'Up'</li><li>'Up'</li><li>'Up'</li><li>'Up'</li><li>'Up'</li><li>'Up'</li><li>'Up'</li><li>'Up'</li><li>'Up'</li><li>'Up'</li><li>'Up'</li><li>'Up'</li><li>'Up'</li><li>'Up'</li><li>'Up'</li><li>'Up'</li><li>'Up'</li><li>'Up'</li><li>'Up'</li><li>'Up'</li><li>'Up'</li><li>'Up'</li><li>'Up'</li><li>'Up'</li><li>'Down'</li><li>'Down'</li><li>'Down'</li><li>'Down'</li><li>'Down'</li><li>'Down'</li><li>'Down'</li><li>'Down'</li><li>'Down'</li><li>'Down'</li><li>'Down'</li><li>'Down'</li><li>'Down'</li><li>'Down'</li><li>'Down'</li><li>'Down'</li><li>'Down'</li><li>'Down'</li><li>'Down'</li><li>'Down'</li><li>'Down'</li><li>'Down'</li><li>'Down'</li><li>'Down'</li><li>'Down'</li><li>'Down'</li><li>'Down'</li><li>'Down'</li><li>'Down'</li><li>'Down'</li><li>'Down'</li><li>'Down'</li><li>'Down'</li><li>'Down'</li><li>'Down'</li><li>'Down'</li><li>'Down'</li><li>'Down'</li><li>'Down'</li><li>'Down'</li><li>'Down'</li><li>'Down'</li><li>'Down'</li><li>'Down'</li><li>'Down'</li><li>'Down'</li><li>'Down'</li><li>'Down'</li><li>'Down'</li><li>'Down'</li><li>'Down'</li><li>'Down'</li><li>'Down'</li><li>'Down'</li><li>'Down'</li><li>'Down'</li><li>'Down'</li><li>'Down'</li><li>'Down'</li><li>'Down'</li><li>'Down'</li><li>'Down'</li><li>'Down'</li><li>'Down'</li><li>'Down'</li><li>'Down'</li><li>'Down'</li><li>'Down'</li><li>'Down'</li><li>'Down'</li><li>'Down'</li><li>'Down'</li><li>'Down'</li><li>'Down'</li><li>'Down'</li><li>'Down'</li><li>'Down'</li><li>'Down'</li><li>'Down'</li><li>'Down'</li><li>'Down'</li><li>'Down'</li><li>'Down'</li><li>'Down'</li><li>'Down'</li><li>'Down'</li><li>'Down'</li><li>'Down'</li><li>'Down'</li><li>'Down'</li><li>'Down'</li></ol>\n"
      ],
      "text/latex": [
       "\\begin{enumerate*}\n",
       "\\item 'Up'\n",
       "\\item 'Up'\n",
       "\\item 'Up'\n",
       "\\item 'Up'\n",
       "\\item 'Up'\n",
       "\\item 'Up'\n",
       "\\item 'Up'\n",
       "\\item 'Up'\n",
       "\\item 'Up'\n",
       "\\item 'Up'\n",
       "\\item 'Up'\n",
       "\\item 'Up'\n",
       "\\item 'Up'\n",
       "\\item 'Up'\n",
       "\\item 'Up'\n",
       "\\item 'Up'\n",
       "\\item 'Up'\n",
       "\\item 'Up'\n",
       "\\item 'Up'\n",
       "\\item 'Up'\n",
       "\\item 'Up'\n",
       "\\item 'Up'\n",
       "\\item 'Up'\n",
       "\\item 'Up'\n",
       "\\item 'Up'\n",
       "\\item 'Up'\n",
       "\\item 'Up'\n",
       "\\item 'Up'\n",
       "\\item 'Up'\n",
       "\\item 'Up'\n",
       "\\item 'Up'\n",
       "\\item 'Up'\n",
       "\\item 'Up'\n",
       "\\item 'Up'\n",
       "\\item 'Up'\n",
       "\\item 'Up'\n",
       "\\item 'Up'\n",
       "\\item 'Up'\n",
       "\\item 'Up'\n",
       "\\item 'Up'\n",
       "\\item 'Up'\n",
       "\\item 'Up'\n",
       "\\item 'Up'\n",
       "\\item 'Up'\n",
       "\\item 'Up'\n",
       "\\item 'Up'\n",
       "\\item 'Up'\n",
       "\\item 'Up'\n",
       "\\item 'Up'\n",
       "\\item 'Up'\n",
       "\\item 'Up'\n",
       "\\item 'Up'\n",
       "\\item 'Up'\n",
       "\\item 'Up'\n",
       "\\item 'Up'\n",
       "\\item 'Up'\n",
       "\\item 'Up'\n",
       "\\item 'Up'\n",
       "\\item 'Up'\n",
       "\\item 'Up'\n",
       "\\item 'Up'\n",
       "\\item 'Up'\n",
       "\\item 'Up'\n",
       "\\item 'Up'\n",
       "\\item 'Up'\n",
       "\\item 'Up'\n",
       "\\item 'Up'\n",
       "\\item 'Up'\n",
       "\\item 'Up'\n",
       "\\item 'Up'\n",
       "\\item 'Up'\n",
       "\\item 'Up'\n",
       "\\item 'Up'\n",
       "\\item 'Up'\n",
       "\\item 'Up'\n",
       "\\item 'Up'\n",
       "\\item 'Up'\n",
       "\\item 'Up'\n",
       "\\item 'Up'\n",
       "\\item 'Up'\n",
       "\\item 'Up'\n",
       "\\item 'Up'\n",
       "\\item 'Up'\n",
       "\\item 'Up'\n",
       "\\item 'Up'\n",
       "\\item 'Up'\n",
       "\\item 'Up'\n",
       "\\item 'Up'\n",
       "\\item 'Up'\n",
       "\\item 'Up'\n",
       "\\item 'Up'\n",
       "\\item 'Up'\n",
       "\\item 'Up'\n",
       "\\item 'Up'\n",
       "\\item 'Up'\n",
       "\\item 'Up'\n",
       "\\item 'Up'\n",
       "\\item 'Up'\n",
       "\\item 'Up'\n",
       "\\item 'Up'\n",
       "\\item 'Up'\n",
       "\\item 'Up'\n",
       "\\item 'Up'\n",
       "\\item 'Up'\n",
       "\\item 'Up'\n",
       "\\item 'Up'\n",
       "\\item 'Up'\n",
       "\\item 'Up'\n",
       "\\item 'Up'\n",
       "\\item 'Up'\n",
       "\\item 'Up'\n",
       "\\item 'Up'\n",
       "\\item 'Up'\n",
       "\\item 'Up'\n",
       "\\item 'Up'\n",
       "\\item 'Up'\n",
       "\\item 'Up'\n",
       "\\item 'Up'\n",
       "\\item 'Up'\n",
       "\\item 'Up'\n",
       "\\item 'Up'\n",
       "\\item 'Up'\n",
       "\\item 'Up'\n",
       "\\item 'Up'\n",
       "\\item 'Up'\n",
       "\\item 'Up'\n",
       "\\item 'Up'\n",
       "\\item 'Up'\n",
       "\\item 'Up'\n",
       "\\item 'Up'\n",
       "\\item 'Up'\n",
       "\\item 'Up'\n",
       "\\item 'Up'\n",
       "\\item 'Up'\n",
       "\\item 'Up'\n",
       "\\item 'Up'\n",
       "\\item 'Up'\n",
       "\\item 'Up'\n",
       "\\item 'Up'\n",
       "\\item 'Up'\n",
       "\\item 'Up'\n",
       "\\item 'Up'\n",
       "\\item 'Up'\n",
       "\\item 'Up'\n",
       "\\item 'Up'\n",
       "\\item 'Up'\n",
       "\\item 'Up'\n",
       "\\item 'Up'\n",
       "\\item 'Up'\n",
       "\\item 'Up'\n",
       "\\item 'Up'\n",
       "\\item 'Up'\n",
       "\\item 'Up'\n",
       "\\item 'Up'\n",
       "\\item 'Up'\n",
       "\\item 'Up'\n",
       "\\item 'Up'\n",
       "\\item 'Up'\n",
       "\\item 'Up'\n",
       "\\item 'Up'\n",
       "\\item 'Up'\n",
       "\\item 'Up'\n",
       "\\item 'Up'\n",
       "\\item 'Up'\n",
       "\\item 'Up'\n",
       "\\item 'Up'\n",
       "\\item 'Up'\n",
       "\\item 'Up'\n",
       "\\item 'Up'\n",
       "\\item 'Up'\n",
       "\\item 'Up'\n",
       "\\item 'Up'\n",
       "\\item 'Up'\n",
       "\\item 'Up'\n",
       "\\item 'Up'\n",
       "\\item 'Up'\n",
       "\\item 'Up'\n",
       "\\item 'Up'\n",
       "\\item 'Up'\n",
       "\\item 'Up'\n",
       "\\item 'Up'\n",
       "\\item 'Up'\n",
       "\\item 'Up'\n",
       "\\item 'Up'\n",
       "\\item 'Up'\n",
       "\\item 'Up'\n",
       "\\item 'Up'\n",
       "\\item 'Up'\n",
       "\\item 'Up'\n",
       "\\item 'Up'\n",
       "\\item 'Up'\n",
       "\\item 'Up'\n",
       "\\item 'Up'\n",
       "\\item 'Up'\n",
       "\\item 'Up'\n",
       "\\item 'Up'\n",
       "\\item 'Up'\n",
       "\\item 'Up'\n",
       "\\item 'Up'\n",
       "\\item 'Up'\n",
       "\\item ⋯\n",
       "\\item 'Up'\n",
       "\\item 'Up'\n",
       "\\item 'Up'\n",
       "\\item 'Up'\n",
       "\\item 'Up'\n",
       "\\item 'Up'\n",
       "\\item 'Up'\n",
       "\\item 'Up'\n",
       "\\item 'Up'\n",
       "\\item 'Up'\n",
       "\\item 'Up'\n",
       "\\item 'Up'\n",
       "\\item 'Up'\n",
       "\\item 'Up'\n",
       "\\item 'Up'\n",
       "\\item 'Up'\n",
       "\\item 'Up'\n",
       "\\item 'Up'\n",
       "\\item 'Up'\n",
       "\\item 'Up'\n",
       "\\item 'Up'\n",
       "\\item 'Up'\n",
       "\\item 'Up'\n",
       "\\item 'Up'\n",
       "\\item 'Up'\n",
       "\\item 'Up'\n",
       "\\item 'Up'\n",
       "\\item 'Up'\n",
       "\\item 'Up'\n",
       "\\item 'Up'\n",
       "\\item 'Up'\n",
       "\\item 'Up'\n",
       "\\item 'Up'\n",
       "\\item 'Up'\n",
       "\\item 'Up'\n",
       "\\item 'Up'\n",
       "\\item 'Up'\n",
       "\\item 'Up'\n",
       "\\item 'Up'\n",
       "\\item 'Up'\n",
       "\\item 'Up'\n",
       "\\item 'Up'\n",
       "\\item 'Up'\n",
       "\\item 'Up'\n",
       "\\item 'Up'\n",
       "\\item 'Up'\n",
       "\\item 'Up'\n",
       "\\item 'Up'\n",
       "\\item 'Up'\n",
       "\\item 'Up'\n",
       "\\item 'Up'\n",
       "\\item 'Up'\n",
       "\\item 'Up'\n",
       "\\item 'Up'\n",
       "\\item 'Up'\n",
       "\\item 'Up'\n",
       "\\item 'Up'\n",
       "\\item 'Up'\n",
       "\\item 'Up'\n",
       "\\item 'Up'\n",
       "\\item 'Up'\n",
       "\\item 'Up'\n",
       "\\item 'Up'\n",
       "\\item 'Up'\n",
       "\\item 'Up'\n",
       "\\item 'Up'\n",
       "\\item 'Up'\n",
       "\\item 'Up'\n",
       "\\item 'Up'\n",
       "\\item 'Up'\n",
       "\\item 'Up'\n",
       "\\item 'Up'\n",
       "\\item 'Up'\n",
       "\\item 'Up'\n",
       "\\item 'Up'\n",
       "\\item 'Up'\n",
       "\\item 'Up'\n",
       "\\item 'Up'\n",
       "\\item 'Up'\n",
       "\\item 'Up'\n",
       "\\item 'Up'\n",
       "\\item 'Up'\n",
       "\\item 'Up'\n",
       "\\item 'Up'\n",
       "\\item 'Up'\n",
       "\\item 'Up'\n",
       "\\item 'Up'\n",
       "\\item 'Up'\n",
       "\\item 'Up'\n",
       "\\item 'Up'\n",
       "\\item 'Up'\n",
       "\\item 'Up'\n",
       "\\item 'Up'\n",
       "\\item 'Up'\n",
       "\\item 'Up'\n",
       "\\item 'Up'\n",
       "\\item 'Up'\n",
       "\\item 'Up'\n",
       "\\item 'Up'\n",
       "\\item 'Up'\n",
       "\\item 'Up'\n",
       "\\item 'Up'\n",
       "\\item 'Up'\n",
       "\\item 'Up'\n",
       "\\item 'Up'\n",
       "\\item 'Up'\n",
       "\\item 'Up'\n",
       "\\item 'Up'\n",
       "\\item 'Up'\n",
       "\\item 'Down'\n",
       "\\item 'Down'\n",
       "\\item 'Down'\n",
       "\\item 'Down'\n",
       "\\item 'Down'\n",
       "\\item 'Down'\n",
       "\\item 'Down'\n",
       "\\item 'Down'\n",
       "\\item 'Down'\n",
       "\\item 'Down'\n",
       "\\item 'Down'\n",
       "\\item 'Down'\n",
       "\\item 'Down'\n",
       "\\item 'Down'\n",
       "\\item 'Down'\n",
       "\\item 'Down'\n",
       "\\item 'Down'\n",
       "\\item 'Down'\n",
       "\\item 'Down'\n",
       "\\item 'Down'\n",
       "\\item 'Down'\n",
       "\\item 'Down'\n",
       "\\item 'Down'\n",
       "\\item 'Down'\n",
       "\\item 'Down'\n",
       "\\item 'Down'\n",
       "\\item 'Down'\n",
       "\\item 'Down'\n",
       "\\item 'Down'\n",
       "\\item 'Down'\n",
       "\\item 'Down'\n",
       "\\item 'Down'\n",
       "\\item 'Down'\n",
       "\\item 'Down'\n",
       "\\item 'Down'\n",
       "\\item 'Down'\n",
       "\\item 'Down'\n",
       "\\item 'Down'\n",
       "\\item 'Down'\n",
       "\\item 'Down'\n",
       "\\item 'Down'\n",
       "\\item 'Down'\n",
       "\\item 'Down'\n",
       "\\item 'Down'\n",
       "\\item 'Down'\n",
       "\\item 'Down'\n",
       "\\item 'Down'\n",
       "\\item 'Down'\n",
       "\\item 'Down'\n",
       "\\item 'Down'\n",
       "\\item 'Down'\n",
       "\\item 'Down'\n",
       "\\item 'Down'\n",
       "\\item 'Down'\n",
       "\\item 'Down'\n",
       "\\item 'Down'\n",
       "\\item 'Down'\n",
       "\\item 'Down'\n",
       "\\item 'Down'\n",
       "\\item 'Down'\n",
       "\\item 'Down'\n",
       "\\item 'Down'\n",
       "\\item 'Down'\n",
       "\\item 'Down'\n",
       "\\item 'Down'\n",
       "\\item 'Down'\n",
       "\\item 'Down'\n",
       "\\item 'Down'\n",
       "\\item 'Down'\n",
       "\\item 'Down'\n",
       "\\item 'Down'\n",
       "\\item 'Down'\n",
       "\\item 'Down'\n",
       "\\item 'Down'\n",
       "\\item 'Down'\n",
       "\\item 'Down'\n",
       "\\item 'Down'\n",
       "\\item 'Down'\n",
       "\\item 'Down'\n",
       "\\item 'Down'\n",
       "\\item 'Down'\n",
       "\\item 'Down'\n",
       "\\item 'Down'\n",
       "\\item 'Down'\n",
       "\\item 'Down'\n",
       "\\item 'Down'\n",
       "\\item 'Down'\n",
       "\\item 'Down'\n",
       "\\item 'Down'\n",
       "\\item 'Down'\n",
       "\\item 'Down'\n",
       "\\end{enumerate*}\n"
      ],
      "text/markdown": [
       "1. 'Up'\n",
       "2. 'Up'\n",
       "3. 'Up'\n",
       "4. 'Up'\n",
       "5. 'Up'\n",
       "6. 'Up'\n",
       "7. 'Up'\n",
       "8. 'Up'\n",
       "9. 'Up'\n",
       "10. 'Up'\n",
       "11. 'Up'\n",
       "12. 'Up'\n",
       "13. 'Up'\n",
       "14. 'Up'\n",
       "15. 'Up'\n",
       "16. 'Up'\n",
       "17. 'Up'\n",
       "18. 'Up'\n",
       "19. 'Up'\n",
       "20. 'Up'\n",
       "21. 'Up'\n",
       "22. 'Up'\n",
       "23. 'Up'\n",
       "24. 'Up'\n",
       "25. 'Up'\n",
       "26. 'Up'\n",
       "27. 'Up'\n",
       "28. 'Up'\n",
       "29. 'Up'\n",
       "30. 'Up'\n",
       "31. 'Up'\n",
       "32. 'Up'\n",
       "33. 'Up'\n",
       "34. 'Up'\n",
       "35. 'Up'\n",
       "36. 'Up'\n",
       "37. 'Up'\n",
       "38. 'Up'\n",
       "39. 'Up'\n",
       "40. 'Up'\n",
       "41. 'Up'\n",
       "42. 'Up'\n",
       "43. 'Up'\n",
       "44. 'Up'\n",
       "45. 'Up'\n",
       "46. 'Up'\n",
       "47. 'Up'\n",
       "48. 'Up'\n",
       "49. 'Up'\n",
       "50. 'Up'\n",
       "51. 'Up'\n",
       "52. 'Up'\n",
       "53. 'Up'\n",
       "54. 'Up'\n",
       "55. 'Up'\n",
       "56. 'Up'\n",
       "57. 'Up'\n",
       "58. 'Up'\n",
       "59. 'Up'\n",
       "60. 'Up'\n",
       "61. 'Up'\n",
       "62. 'Up'\n",
       "63. 'Up'\n",
       "64. 'Up'\n",
       "65. 'Up'\n",
       "66. 'Up'\n",
       "67. 'Up'\n",
       "68. 'Up'\n",
       "69. 'Up'\n",
       "70. 'Up'\n",
       "71. 'Up'\n",
       "72. 'Up'\n",
       "73. 'Up'\n",
       "74. 'Up'\n",
       "75. 'Up'\n",
       "76. 'Up'\n",
       "77. 'Up'\n",
       "78. 'Up'\n",
       "79. 'Up'\n",
       "80. 'Up'\n",
       "81. 'Up'\n",
       "82. 'Up'\n",
       "83. 'Up'\n",
       "84. 'Up'\n",
       "85. 'Up'\n",
       "86. 'Up'\n",
       "87. 'Up'\n",
       "88. 'Up'\n",
       "89. 'Up'\n",
       "90. 'Up'\n",
       "91. 'Up'\n",
       "92. 'Up'\n",
       "93. 'Up'\n",
       "94. 'Up'\n",
       "95. 'Up'\n",
       "96. 'Up'\n",
       "97. 'Up'\n",
       "98. 'Up'\n",
       "99. 'Up'\n",
       "100. 'Up'\n",
       "101. 'Up'\n",
       "102. 'Up'\n",
       "103. 'Up'\n",
       "104. 'Up'\n",
       "105. 'Up'\n",
       "106. 'Up'\n",
       "107. 'Up'\n",
       "108. 'Up'\n",
       "109. 'Up'\n",
       "110. 'Up'\n",
       "111. 'Up'\n",
       "112. 'Up'\n",
       "113. 'Up'\n",
       "114. 'Up'\n",
       "115. 'Up'\n",
       "116. 'Up'\n",
       "117. 'Up'\n",
       "118. 'Up'\n",
       "119. 'Up'\n",
       "120. 'Up'\n",
       "121. 'Up'\n",
       "122. 'Up'\n",
       "123. 'Up'\n",
       "124. 'Up'\n",
       "125. 'Up'\n",
       "126. 'Up'\n",
       "127. 'Up'\n",
       "128. 'Up'\n",
       "129. 'Up'\n",
       "130. 'Up'\n",
       "131. 'Up'\n",
       "132. 'Up'\n",
       "133. 'Up'\n",
       "134. 'Up'\n",
       "135. 'Up'\n",
       "136. 'Up'\n",
       "137. 'Up'\n",
       "138. 'Up'\n",
       "139. 'Up'\n",
       "140. 'Up'\n",
       "141. 'Up'\n",
       "142. 'Up'\n",
       "143. 'Up'\n",
       "144. 'Up'\n",
       "145. 'Up'\n",
       "146. 'Up'\n",
       "147. 'Up'\n",
       "148. 'Up'\n",
       "149. 'Up'\n",
       "150. 'Up'\n",
       "151. 'Up'\n",
       "152. 'Up'\n",
       "153. 'Up'\n",
       "154. 'Up'\n",
       "155. 'Up'\n",
       "156. 'Up'\n",
       "157. 'Up'\n",
       "158. 'Up'\n",
       "159. 'Up'\n",
       "160. 'Up'\n",
       "161. 'Up'\n",
       "162. 'Up'\n",
       "163. 'Up'\n",
       "164. 'Up'\n",
       "165. 'Up'\n",
       "166. 'Up'\n",
       "167. 'Up'\n",
       "168. 'Up'\n",
       "169. 'Up'\n",
       "170. 'Up'\n",
       "171. 'Up'\n",
       "172. 'Up'\n",
       "173. 'Up'\n",
       "174. 'Up'\n",
       "175. 'Up'\n",
       "176. 'Up'\n",
       "177. 'Up'\n",
       "178. 'Up'\n",
       "179. 'Up'\n",
       "180. 'Up'\n",
       "181. 'Up'\n",
       "182. 'Up'\n",
       "183. 'Up'\n",
       "184. 'Up'\n",
       "185. 'Up'\n",
       "186. 'Up'\n",
       "187. 'Up'\n",
       "188. 'Up'\n",
       "189. 'Up'\n",
       "190. 'Up'\n",
       "191. 'Up'\n",
       "192. 'Up'\n",
       "193. 'Up'\n",
       "194. 'Up'\n",
       "195. 'Up'\n",
       "196. 'Up'\n",
       "197. 'Up'\n",
       "198. 'Up'\n",
       "199. 'Up'\n",
       "200. 'Up'\n",
       "201. ⋯\n",
       "202. 'Up'\n",
       "203. 'Up'\n",
       "204. 'Up'\n",
       "205. 'Up'\n",
       "206. 'Up'\n",
       "207. 'Up'\n",
       "208. 'Up'\n",
       "209. 'Up'\n",
       "210. 'Up'\n",
       "211. 'Up'\n",
       "212. 'Up'\n",
       "213. 'Up'\n",
       "214. 'Up'\n",
       "215. 'Up'\n",
       "216. 'Up'\n",
       "217. 'Up'\n",
       "218. 'Up'\n",
       "219. 'Up'\n",
       "220. 'Up'\n",
       "221. 'Up'\n",
       "222. 'Up'\n",
       "223. 'Up'\n",
       "224. 'Up'\n",
       "225. 'Up'\n",
       "226. 'Up'\n",
       "227. 'Up'\n",
       "228. 'Up'\n",
       "229. 'Up'\n",
       "230. 'Up'\n",
       "231. 'Up'\n",
       "232. 'Up'\n",
       "233. 'Up'\n",
       "234. 'Up'\n",
       "235. 'Up'\n",
       "236. 'Up'\n",
       "237. 'Up'\n",
       "238. 'Up'\n",
       "239. 'Up'\n",
       "240. 'Up'\n",
       "241. 'Up'\n",
       "242. 'Up'\n",
       "243. 'Up'\n",
       "244. 'Up'\n",
       "245. 'Up'\n",
       "246. 'Up'\n",
       "247. 'Up'\n",
       "248. 'Up'\n",
       "249. 'Up'\n",
       "250. 'Up'\n",
       "251. 'Up'\n",
       "252. 'Up'\n",
       "253. 'Up'\n",
       "254. 'Up'\n",
       "255. 'Up'\n",
       "256. 'Up'\n",
       "257. 'Up'\n",
       "258. 'Up'\n",
       "259. 'Up'\n",
       "260. 'Up'\n",
       "261. 'Up'\n",
       "262. 'Up'\n",
       "263. 'Up'\n",
       "264. 'Up'\n",
       "265. 'Up'\n",
       "266. 'Up'\n",
       "267. 'Up'\n",
       "268. 'Up'\n",
       "269. 'Up'\n",
       "270. 'Up'\n",
       "271. 'Up'\n",
       "272. 'Up'\n",
       "273. 'Up'\n",
       "274. 'Up'\n",
       "275. 'Up'\n",
       "276. 'Up'\n",
       "277. 'Up'\n",
       "278. 'Up'\n",
       "279. 'Up'\n",
       "280. 'Up'\n",
       "281. 'Up'\n",
       "282. 'Up'\n",
       "283. 'Up'\n",
       "284. 'Up'\n",
       "285. 'Up'\n",
       "286. 'Up'\n",
       "287. 'Up'\n",
       "288. 'Up'\n",
       "289. 'Up'\n",
       "290. 'Up'\n",
       "291. 'Up'\n",
       "292. 'Up'\n",
       "293. 'Up'\n",
       "294. 'Up'\n",
       "295. 'Up'\n",
       "296. 'Up'\n",
       "297. 'Up'\n",
       "298. 'Up'\n",
       "299. 'Up'\n",
       "300. 'Up'\n",
       "301. 'Up'\n",
       "302. 'Up'\n",
       "303. 'Up'\n",
       "304. 'Up'\n",
       "305. 'Up'\n",
       "306. 'Up'\n",
       "307. 'Up'\n",
       "308. 'Up'\n",
       "309. 'Up'\n",
       "310. 'Up'\n",
       "311. 'Down'\n",
       "312. 'Down'\n",
       "313. 'Down'\n",
       "314. 'Down'\n",
       "315. 'Down'\n",
       "316. 'Down'\n",
       "317. 'Down'\n",
       "318. 'Down'\n",
       "319. 'Down'\n",
       "320. 'Down'\n",
       "321. 'Down'\n",
       "322. 'Down'\n",
       "323. 'Down'\n",
       "324. 'Down'\n",
       "325. 'Down'\n",
       "326. 'Down'\n",
       "327. 'Down'\n",
       "328. 'Down'\n",
       "329. 'Down'\n",
       "330. 'Down'\n",
       "331. 'Down'\n",
       "332. 'Down'\n",
       "333. 'Down'\n",
       "334. 'Down'\n",
       "335. 'Down'\n",
       "336. 'Down'\n",
       "337. 'Down'\n",
       "338. 'Down'\n",
       "339. 'Down'\n",
       "340. 'Down'\n",
       "341. 'Down'\n",
       "342. 'Down'\n",
       "343. 'Down'\n",
       "344. 'Down'\n",
       "345. 'Down'\n",
       "346. 'Down'\n",
       "347. 'Down'\n",
       "348. 'Down'\n",
       "349. 'Down'\n",
       "350. 'Down'\n",
       "351. 'Down'\n",
       "352. 'Down'\n",
       "353. 'Down'\n",
       "354. 'Down'\n",
       "355. 'Down'\n",
       "356. 'Down'\n",
       "357. 'Down'\n",
       "358. 'Down'\n",
       "359. 'Down'\n",
       "360. 'Down'\n",
       "361. 'Down'\n",
       "362. 'Down'\n",
       "363. 'Down'\n",
       "364. 'Down'\n",
       "365. 'Down'\n",
       "366. 'Down'\n",
       "367. 'Down'\n",
       "368. 'Down'\n",
       "369. 'Down'\n",
       "370. 'Down'\n",
       "371. 'Down'\n",
       "372. 'Down'\n",
       "373. 'Down'\n",
       "374. 'Down'\n",
       "375. 'Down'\n",
       "376. 'Down'\n",
       "377. 'Down'\n",
       "378. 'Down'\n",
       "379. 'Down'\n",
       "380. 'Down'\n",
       "381. 'Down'\n",
       "382. 'Down'\n",
       "383. 'Down'\n",
       "384. 'Down'\n",
       "385. 'Down'\n",
       "386. 'Down'\n",
       "387. 'Down'\n",
       "388. 'Down'\n",
       "389. 'Down'\n",
       "390. 'Down'\n",
       "391. 'Down'\n",
       "392. 'Down'\n",
       "393. 'Down'\n",
       "394. 'Down'\n",
       "395. 'Down'\n",
       "396. 'Down'\n",
       "397. 'Down'\n",
       "398. 'Down'\n",
       "399. 'Down'\n",
       "400. 'Down'\n",
       "401. 'Down'\n",
       "\n",
       "\n"
      ],
      "text/plain": [
       "  [1] \"Up\"   \"Up\"   \"Up\"   \"Up\"   \"Up\"   \"Up\"   \"Up\"   \"Up\"   \"Up\"   \"Up\"  \n",
       " [11] \"Up\"   \"Up\"   \"Up\"   \"Up\"   \"Up\"   \"Up\"   \"Up\"   \"Up\"   \"Up\"   \"Up\"  \n",
       " [21] \"Up\"   \"Up\"   \"Up\"   \"Up\"   \"Up\"   \"Up\"   \"Up\"   \"Up\"   \"Up\"   \"Up\"  \n",
       " [31] \"Up\"   \"Up\"   \"Up\"   \"Up\"   \"Up\"   \"Up\"   \"Up\"   \"Up\"   \"Up\"   \"Up\"  \n",
       " [41] \"Up\"   \"Up\"   \"Up\"   \"Up\"   \"Up\"   \"Up\"   \"Up\"   \"Up\"   \"Up\"   \"Up\"  \n",
       " [51] \"Up\"   \"Up\"   \"Up\"   \"Up\"   \"Up\"   \"Up\"   \"Up\"   \"Up\"   \"Up\"   \"Up\"  \n",
       " [61] \"Up\"   \"Up\"   \"Up\"   \"Up\"   \"Up\"   \"Up\"   \"Up\"   \"Up\"   \"Up\"   \"Up\"  \n",
       " [71] \"Up\"   \"Up\"   \"Up\"   \"Up\"   \"Up\"   \"Up\"   \"Up\"   \"Up\"   \"Up\"   \"Up\"  \n",
       " [81] \"Up\"   \"Up\"   \"Up\"   \"Up\"   \"Up\"   \"Up\"   \"Up\"   \"Up\"   \"Up\"   \"Up\"  \n",
       " [91] \"Up\"   \"Up\"   \"Up\"   \"Up\"   \"Up\"   \"Up\"   \"Up\"   \"Up\"   \"Up\"   \"Up\"  \n",
       "[101] \"Up\"   \"Up\"   \"Up\"   \"Up\"   \"Up\"   \"Up\"   \"Up\"   \"Up\"   \"Up\"   \"Up\"  \n",
       "[111] \"Up\"   \"Up\"   \"Up\"   \"Up\"   \"Up\"   \"Up\"   \"Up\"   \"Up\"   \"Up\"   \"Up\"  \n",
       "[121] \"Up\"   \"Up\"   \"Up\"   \"Up\"   \"Up\"   \"Up\"   \"Up\"   \"Up\"   \"Up\"   \"Up\"  \n",
       "[131] \"Up\"   \"Up\"   \"Up\"   \"Up\"   \"Up\"   \"Up\"   \"Up\"   \"Up\"   \"Up\"   \"Up\"  \n",
       "[141] \"Up\"   \"Up\"   \"Up\"   \"Up\"   \"Up\"   \"Up\"   \"Up\"   \"Up\"   \"Up\"   \"Up\"  \n",
       "[151] \"Up\"   \"Up\"   \"Up\"   \"Up\"   \"Up\"   \"Up\"   \"Up\"   \"Up\"   \"Up\"   \"Up\"  \n",
       "[161] \"Up\"   \"Up\"   \"Up\"   \"Up\"   \"Up\"   \"Up\"   \"Up\"   \"Up\"   \"Up\"   \"Up\"  \n",
       "[171] \"Up\"   \"Up\"   \"Up\"   \"Up\"   \"Up\"   \"Up\"   \"Up\"   \"Up\"   \"Up\"   \"Up\"  \n",
       "[181] \"Up\"   \"Up\"   \"Up\"   \"Up\"   \"Up\"   \"Up\"   \"Up\"   \"Up\"   \"Up\"   \"Up\"  \n",
       "[191] \"Up\"   \"Up\"   \"Up\"   \"Up\"   \"Up\"   \"Up\"   \"Up\"   \"Up\"   \"Up\"   \"Up\"  \n",
       "[201] \"Up\"   \"Up\"   \"Up\"   \"Up\"   \"Up\"   \"Up\"   \"Up\"   \"Up\"   \"Up\"   \"Up\"  \n",
       "[211] \"Up\"   \"Up\"   \"Up\"   \"Up\"   \"Up\"   \"Up\"   \"Up\"   \"Up\"   \"Up\"   \"Up\"  \n",
       "[221] \"Up\"   \"Up\"   \"Up\"   \"Up\"   \"Up\"   \"Up\"   \"Up\"   \"Up\"   \"Up\"   \"Up\"  \n",
       "[231] \"Up\"   \"Up\"   \"Up\"   \"Up\"   \"Up\"   \"Up\"   \"Up\"   \"Up\"   \"Up\"   \"Up\"  \n",
       "[241] \"Up\"   \"Up\"   \"Up\"   \"Up\"   \"Up\"   \"Up\"   \"Up\"   \"Up\"   \"Up\"   \"Up\"  \n",
       "[251] \"Up\"   \"Up\"   \"Up\"   \"Up\"   \"Up\"   \"Up\"   \"Up\"   \"Up\"   \"Up\"   \"Up\"  \n",
       "[261] \"Up\"   \"Up\"   \"Up\"   \"Up\"   \"Up\"   \"Up\"   \"Up\"   \"Up\"   \"Up\"   \"Up\"  \n",
       "[271] \"Up\"   \"Up\"   \"Up\"   \"Up\"   \"Up\"   \"Up\"   \"Up\"   \"Up\"   \"Up\"   \"Up\"  \n",
       "[281] \"Up\"   \"Up\"   \"Up\"   \"Up\"   \"Up\"   \"Up\"   \"Up\"   \"Up\"   \"Up\"   \"Up\"  \n",
       "[291] \"Up\"   \"Up\"   \"Up\"   \"Up\"   \"Up\"   \"Up\"   \"Up\"   \"Up\"   \"Up\"   \"Up\"  \n",
       "[301] \"Up\"   \"Up\"   \"Up\"   \"Up\"   \"Up\"   \"Up\"   \"Up\"   \"Up\"   \"Up\"   \"Up\"  \n",
       "[311] \"Up\"   \"Up\"   \"Up\"   \"Up\"   \"Up\"   \"Up\"   \"Up\"   \"Up\"   \"Up\"   \"Up\"  \n",
       "[321] \"Up\"   \"Up\"   \"Up\"   \"Up\"   \"Up\"   \"Up\"   \"Up\"   \"Up\"   \"Up\"   \"Up\"  \n",
       "[331] \"Up\"   \"Up\"   \"Up\"   \"Up\"   \"Up\"   \"Up\"   \"Up\"   \"Up\"   \"Up\"   \"Up\"  \n",
       "[341] \"Up\"   \"Up\"   \"Up\"   \"Up\"   \"Up\"   \"Up\"   \"Up\"   \"Up\"   \"Up\"   \"Up\"  \n",
       "[351] \"Up\"   \"Up\"   \"Up\"   \"Up\"   \"Up\"   \"Up\"   \"Up\"   \"Up\"   \"Up\"   \"Up\"  \n",
       "[361] \"Up\"   \"Up\"   \"Up\"   \"Up\"   \"Up\"   \"Up\"   \"Up\"   \"Up\"   \"Up\"   \"Up\"  \n",
       "[371] \"Up\"   \"Up\"   \"Up\"   \"Up\"   \"Up\"   \"Up\"   \"Up\"   \"Up\"   \"Up\"   \"Up\"  \n",
       "[381] \"Up\"   \"Up\"   \"Up\"   \"Up\"   \"Up\"   \"Up\"   \"Up\"   \"Up\"   \"Up\"   \"Up\"  \n",
       "[391] \"Up\"   \"Up\"   \"Up\"   \"Up\"   \"Up\"   \"Up\"   \"Up\"   \"Up\"   \"Up\"   \"Up\"  \n",
       "[401] \"Up\"   \"Up\"   \"Up\"   \"Up\"   \"Up\"   \"Up\"   \"Up\"   \"Up\"   \"Up\"   \"Up\"  \n",
       "[411] \"Up\"   \"Up\"   \"Up\"   \"Up\"   \"Up\"   \"Up\"   \"Up\"   \"Up\"   \"Up\"   \"Up\"  \n",
       "[421] \"Up\"   \"Up\"   \"Up\"   \"Up\"   \"Up\"   \"Up\"   \"Up\"   \"Up\"   \"Up\"   \"Up\"  \n",
       "[431] \"Up\"   \"Up\"   \"Up\"   \"Up\"   \"Up\"   \"Up\"   \"Up\"   \"Up\"   \"Up\"   \"Up\"  \n",
       "[441] \"Up\"   \"Up\"   \"Up\"   \"Up\"   \"Up\"   \"Up\"   \"Up\"   \"Up\"   \"Up\"   \"Up\"  \n",
       "[451] \"Up\"   \"Up\"   \"Up\"   \"Up\"   \"Up\"   \"Up\"   \"Up\"   \"Up\"   \"Up\"   \"Up\"  \n",
       "[461] \"Up\"   \"Up\"   \"Up\"   \"Up\"   \"Up\"   \"Up\"   \"Up\"   \"Down\" \"Down\" \"Down\"\n",
       "[471] \"Down\" \"Down\" \"Down\" \"Down\" \"Down\" \"Down\" \"Down\" \"Down\" \"Down\" \"Down\"\n",
       "[481] \"Down\" \"Down\" \"Down\" \"Down\" \"Down\" \"Down\" \"Down\" \"Down\" \"Down\" \"Down\"\n",
       "[491] \"Down\" \"Down\" \"Down\" \"Down\" \"Down\" \"Down\" \"Down\" \"Down\" \"Down\" \"Down\"\n",
       "[501] \"Down\" \"Down\" \"Down\" \"Down\" \"Down\" \"Down\" \"Down\" \"Down\" \"Down\" \"Down\"\n",
       "[511] \"Down\" \"Down\" \"Down\" \"Down\" \"Down\" \"Down\" \"Down\" \"Down\" \"Down\" \"Down\"\n",
       "[521] \"Down\" \"Down\" \"Down\" \"Down\" \"Down\" \"Down\" \"Down\" \"Down\" \"Down\" \"Down\"\n",
       "[531] \"Down\" \"Down\" \"Down\" \"Down\" \"Down\" \"Down\" \"Down\" \"Down\" \"Down\" \"Down\"\n",
       "[541] \"Down\" \"Down\" \"Down\" \"Down\" \"Down\" \"Down\" \"Down\" \"Down\" \"Down\" \"Down\"\n",
       "[551] \"Down\" \"Down\" \"Down\" \"Down\" \"Down\" \"Down\" \"Down\" \"Down\""
      ]
     },
     "metadata": {},
     "output_type": "display_data"
    }
   ],
   "source": [
    "group <- c(rep('Up',467),rep('Down',91))\n",
    "group"
   ]
  },
  {
   "cell_type": "code",
   "execution_count": 191,
   "metadata": {
    "vscode": {
     "languageId": "r"
    }
   },
   "outputs": [
    {
     "data": {
      "image/png": "[encoded data removed]",
      "text/plain": [
       "plot without title"
      ]
     },
     "metadata": {
      "image/png": {
       "height": 420,
       "width": 420
      }
     },
     "output_type": "display_data"
    }
   ],
   "source": [
    "my_palette <- colorRampPalette(c(\"green\", \"red\"))(n = 100)  # 创建自定义颜色梯度，100级颜色 \n",
    "annotation_col = data.frame(\n",
    "  stages = c('week8','week12',rep('week16',3),rep('week19',3),rep('week23',3),'week26')\n",
    "  #color = c('blue','yellow',rep('purple',3),rep('red',3),rep('orange',3),'black')\n",
    ")\n",
    "rownames(annotation_col) = colnames(change_event_data)\n",
    "color_mapping <- list(stages=c(week8 = \"blue\", week12 = \"yellow\", week16 = \"purple\", week19 = 'red', week23 = 'orange', week26 = 'black')) \n",
    "\n",
    "\n",
    "annotation_row = data.frame(\n",
    "  groups = group\n",
    "  #color = c('blue','yellow',rep('purple',3),rep('red',3),rep('orange',3),'black')\n",
    ")\n",
    "rownames(annotation_row) = rownames(change_event_data)\n",
    "color_mapping_for_rows <- list(groups=c(Up = \"black\", Down = \"purple\")) \n",
    "\n",
    "\n",
    "#pdf(\"/disk1/wenqing/tmp_data/PFC_s2/all_analysis_result/de_editing/de_edited_sites.pdf\")\n",
    "heatmap <- pheatmap(change_event_data,\n",
    "         cluster_cols = FALSE,\n",
    "         cluster_rows = TRUE,\n",
    "         show_colnames = TRUE,\n",
    "         show_rownames = FALSE,\n",
    "         #cellheight = 0.5,\n",
    "         color = my_palette,\n",
    "         #fontsize_row = 6,          # 行标签字体大小\n",
    "         fontsize_col = 13,          # 列标签字体大小\n",
    "         border_color = NA,    # 边框颜色\n",
    "         cell_border_color = \"grey\",\n",
    "         #alpha = 0.8,             # 颜色透明度\n",
    "         treeheight_row = 0,\n",
    "         annotation_col = annotation_col,\n",
    "         annotation_colors =  color_mapping,\n",
    "         annotation_legend = FALSE, \n",
    "         annotation_names_col = TRUE,# 添加列注释\n",
    "         #main = \"SE\",\n",
    "         #main = \"Customized Heatmap\", # 图表标题\n",
    "         #legend_breaks = seq(min(de_data), max(de_data), length.out = 5), # 图例刻度\n",
    "         legend_labels = 'PSI', # 图例标签,\n",
    "         annotation_row = annotation_row, # 提供行注释的数据\n",
    "         annotation_colors_row = color_mapping_for_rows # 行注释的颜色映射\n",
    ")\n",
    "heatmap\n"
   ]
  },
  {
   "cell_type": "code",
   "execution_count": 193,
   "metadata": {
    "vscode": {
     "languageId": "r"
    }
   },
   "outputs": [],
   "source": [
    "write.table(change_event_data,\"/disk1/wenqing/tmp_data/PFC_s2/all_analysis_result/psi_change/psi_change_event.txt\",quote=F,sep='\\t')"
   ]
  },
  {
   "cell_type": "code",
   "execution_count": 196,
   "metadata": {
    "vscode": {
     "languageId": "r"
    }
   },
   "outputs": [
    {
     "data": {
      "text/html": [
       "<style>\n",
       ".list-inline {list-style: none; margin:0; padding: 0}\n",
       ".list-inline>li {display: inline-block}\n",
       ".list-inline>li:not(:last-child)::after {content: \"\\00b7\"; padding: 0 .5ex}\n",
       "</style>\n",
       "<ol class=list-inline><li>'A3'</li><li>'A5'</li><li>'RI'</li><li>'RI'</li><li>'A3'</li><li>'AF'</li></ol>\n"
      ],
      "text/latex": [
       "\\begin{enumerate*}\n",
       "\\item 'A3'\n",
       "\\item 'A5'\n",
       "\\item 'RI'\n",
       "\\item 'RI'\n",
       "\\item 'A3'\n",
       "\\item 'AF'\n",
       "\\end{enumerate*}\n"
      ],
      "text/markdown": [
       "1. 'A3'\n",
       "2. 'A5'\n",
       "3. 'RI'\n",
       "4. 'RI'\n",
       "5. 'A3'\n",
       "6. 'AF'\n",
       "\n",
       "\n"
      ],
      "text/plain": [
       "[1] \"A3\" \"A5\" \"RI\" \"RI\" \"A3\" \"AF\""
      ]
     },
     "metadata": {},
     "output_type": "display_data"
    }
   ],
   "source": [
    "########找到psi有变化的event后，最重要的是看他们和编辑有没有联系\n",
    "#所以得先看有没有编辑位点落在这些地方？？？？？？\n",
    "#个别事件后面寻找，先找相关性\n",
    "#统计AS事件分类、占比\n",
    "stats_dat <- read.table(\"/disk1/wenqing/tmp_data/PFC_s2/all_analysis_result/psi_change/only_events.txt\")[,1]\n",
    "head(stats_dat)"
   ]
  },
  {
   "cell_type": "code",
   "execution_count": 210,
   "metadata": {
    "vscode": {
     "languageId": "r"
    }
   },
   "outputs": [],
   "source": [
    "colors=c(\"#840dd3\",\"#04c49c\",\"#2759bd\",\"#FFB400\",\"#AED6F1\",\"#D4AE5D\",\"#964B00\")"
   ]
  },
  {
   "cell_type": "code",
   "execution_count": 205,
   "metadata": {
    "vscode": {
     "languageId": "r"
    }
   },
   "outputs": [
    {
     "data": {
      "text/html": [
       "<table class=\"dataframe\">\n",
       "<caption>A data.frame: 7 × 3</caption>\n",
       "<thead>\n",
       "\t<tr><th scope=col>categories</th><th scope=col>group</th><th scope=col>values</th></tr>\n",
       "\t<tr><th scope=col>&lt;chr&gt;</th><th scope=col>&lt;fct&gt;</th><th scope=col>&lt;int&gt;</th></tr>\n",
       "</thead>\n",
       "<tbody>\n",
       "\t<tr><td>A3</td><td>A3</td><td> 66</td></tr>\n",
       "\t<tr><td>A5</td><td>A5</td><td> 47</td></tr>\n",
       "\t<tr><td>AF</td><td>AF</td><td>201</td></tr>\n",
       "\t<tr><td>AL</td><td>AL</td><td> 72</td></tr>\n",
       "\t<tr><td>MX</td><td>MX</td><td>  7</td></tr>\n",
       "\t<tr><td>RI</td><td>RI</td><td> 25</td></tr>\n",
       "\t<tr><td>SE</td><td>SE</td><td>140</td></tr>\n",
       "</tbody>\n",
       "</table>\n"
      ],
      "text/latex": [
       "A data.frame: 7 × 3\n",
       "\\begin{tabular}{lll}\n",
       " categories & group & values\\\\\n",
       " <chr> & <fct> & <int>\\\\\n",
       "\\hline\n",
       "\t A3 & A3 &  66\\\\\n",
       "\t A5 & A5 &  47\\\\\n",
       "\t AF & AF & 201\\\\\n",
       "\t AL & AL &  72\\\\\n",
       "\t MX & MX &   7\\\\\n",
       "\t RI & RI &  25\\\\\n",
       "\t SE & SE & 140\\\\\n",
       "\\end{tabular}\n"
      ],
      "text/markdown": [
       "\n",
       "A data.frame: 7 × 3\n",
       "\n",
       "| categories &lt;chr&gt; | group &lt;fct&gt; | values &lt;int&gt; |\n",
       "|---|---|---|\n",
       "| A3 | A3 |  66 |\n",
       "| A5 | A5 |  47 |\n",
       "| AF | AF | 201 |\n",
       "| AL | AL |  72 |\n",
       "| MX | MX |   7 |\n",
       "| RI | RI |  25 |\n",
       "| SE | SE | 140 |\n",
       "\n"
      ],
      "text/plain": [
       "  categories group values\n",
       "1 A3         A3     66   \n",
       "2 A5         A5     47   \n",
       "3 AF         AF    201   \n",
       "4 AL         AL     72   \n",
       "5 MX         MX      7   \n",
       "6 RI         RI     25   \n",
       "7 SE         SE    140   "
      ]
     },
     "metadata": {},
     "output_type": "display_data"
    }
   ],
   "source": [
    "library(ggplot2)\n",
    "\n",
    "# 将数据转换为数据框\n",
    "df <- data.frame(categories = names(table(stats_dat)), values = table(stats_dat))\n",
    "colnames(df) <- c('categories','group','values')\n",
    "df"
   ]
  },
  {
   "cell_type": "code",
   "execution_count": 215,
   "metadata": {
    "vscode": {
     "languageId": "r"
    }
   },
   "outputs": [
    {
     "data": {
      "image/png": "[encoded data removed]",
      "text/plain": [
       "plot without title"
      ]
     },
     "metadata": {
      "image/png": {
       "height": 420,
       "width": 420
      }
     },
     "output_type": "display_data"
    }
   ],
   "source": [
    "\n",
    "# 绘制饼图\n",
    "ggplot(df, aes(x = \"\", y = values, fill = categories)) +\n",
    "  geom_bar(stat = \"identity\", width = 1) +\n",
    "  coord_polar(theta = \"y\") +\n",
    "  theme_void() +\n",
    "  geom_text(aes(label =values), \n",
    "            position = position_stack(vjust = 0.5), size = 4) +\n",
    "  scale_fill_manual(values = colors)+\n",
    "  theme(text = element_text(size = 13)) "
   ]
  },
  {
   "cell_type": "code",
   "execution_count": 2,
   "metadata": {
    "vscode": {
     "languageId": "r"
    }
   },
   "outputs": [
    {
     "data": {
      "text/html": [
       "<style>\n",
       ".list-inline {list-style: none; margin:0; padding: 0}\n",
       ".list-inline>li {display: inline-block}\n",
       ".list-inline>li:not(:last-child)::after {content: \"\\00b7\"; padding: 0 .5ex}\n",
       "</style>\n",
       "<ol class=list-inline><li>'ENSG00000005007.14'</li><li>'ENSG00000077312.9'</li><li>'ENSG00000096401.8'</li><li>'ENSG00000100028.12'</li><li>'ENSG00000101161.8'</li><li>'ENSG00000101343.15'</li></ol>\n"
      ],
      "text/latex": [
       "\\begin{enumerate*}\n",
       "\\item 'ENSG00000005007.14'\n",
       "\\item 'ENSG00000077312.9'\n",
       "\\item 'ENSG00000096401.8'\n",
       "\\item 'ENSG00000100028.12'\n",
       "\\item 'ENSG00000101161.8'\n",
       "\\item 'ENSG00000101343.15'\n",
       "\\end{enumerate*}\n"
      ],
      "text/markdown": [
       "1. 'ENSG00000005007.14'\n",
       "2. 'ENSG00000077312.9'\n",
       "3. 'ENSG00000096401.8'\n",
       "4. 'ENSG00000100028.12'\n",
       "5. 'ENSG00000101161.8'\n",
       "6. 'ENSG00000101343.15'\n",
       "\n",
       "\n"
      ],
      "text/plain": [
       "[1] \"ENSG00000005007.14\" \"ENSG00000077312.9\"  \"ENSG00000096401.8\" \n",
       "[4] \"ENSG00000100028.12\" \"ENSG00000101161.8\"  \"ENSG00000101343.15\""
      ]
     },
     "metadata": {},
     "output_type": "display_data"
    }
   ],
   "source": [
    "######通过与剪接通路相关的4个基因的网络互作蛋白（from string）看其他蛋白的psi变化\n",
    "#先提取从string中获得的与4个基因形成互作网络的其他基因\n",
    "protein_name <- read.table(\"/disk1/wenqing/tmp_data/string/ensmbl_ids_related_4_genes.txt\")[,1]\n",
    "head(protein_name)"
   ]
  },
  {
   "cell_type": "code",
   "execution_count": 3,
   "metadata": {
    "vscode": {
     "languageId": "r"
    }
   },
   "outputs": [
    {
     "data": {
      "text/html": [
       "<style>\n",
       ".list-inline {list-style: none; margin:0; padding: 0}\n",
       ".list-inline>li {display: inline-block}\n",
       ".list-inline>li:not(:last-child)::after {content: \"\\00b7\"; padding: 0 .5ex}\n",
       "</style>\n",
       "<ol class=list-inline><li>20837</li><li>12</li></ol>\n"
      ],
      "text/latex": [
       "\\begin{enumerate*}\n",
       "\\item 20837\n",
       "\\item 12\n",
       "\\end{enumerate*}\n"
      ],
      "text/markdown": [
       "1. 20837\n",
       "2. 12\n",
       "\n",
       "\n"
      ],
      "text/plain": [
       "[1] 20837    12"
      ]
     },
     "metadata": {},
     "output_type": "display_data"
    }
   ],
   "source": [
    "#提取这些基因的psi矩阵\n",
    "A3_psi <- read.table(\"/disk1/wenqing/tmp_data/PFC_s2/all_analysis_result/psi_matrix/A3_psi.txt\")\n",
    "dim(A3_psi)"
   ]
  },
  {
   "cell_type": "code",
   "execution_count": 4,
   "metadata": {
    "vscode": {
     "languageId": "r"
    }
   },
   "outputs": [],
   "source": [
    "# 定义函数\n",
    "extract_rows_with_pattern <- function(data, pattern_list) {\n",
    "  # 使用grep函数找出匹配模式的行名索引\n",
    "  all_matching_res <- c()\n",
    "  for(one in pattern_list){\n",
    "    matching_rows <- grep(one, rownames(data), value = TRUE)\n",
    "    all_matching_res <- c(all_matching_res,matching_rows)\n",
    "  }\n",
    "  \n",
    "  # 根据匹配的行名索引提取数据框的子集\n",
    "  subset_data <- data[all_matching_res, ]\n",
    "  \n",
    "  # 返回提取的子数据框\n",
    "  return(subset_data)\n",
    "}\n"
   ]
  },
  {
   "cell_type": "code",
   "execution_count": 56,
   "metadata": {
    "vscode": {
     "languageId": "r"
    }
   },
   "outputs": [],
   "source": [
    "##根据ENSMBL ID提取子矩阵\n",
    "sub_A3_psi <- extract_rows_with_pattern(A3_psi,protein_name)"
   ]
  },
  {
   "cell_type": "code",
   "execution_count": 57,
   "metadata": {
    "vscode": {
     "languageId": "r"
    }
   },
   "outputs": [
    {
     "data": {
      "text/html": [
       "<style>\n",
       ".list-inline {list-style: none; margin:0; padding: 0}\n",
       ".list-inline>li {display: inline-block}\n",
       ".list-inline>li:not(:last-child)::after {content: \"\\00b7\"; padding: 0 .5ex}\n",
       "</style>\n",
       "<ol class=list-inline><li>25</li><li>12</li></ol>\n"
      ],
      "text/latex": [
       "\\begin{enumerate*}\n",
       "\\item 25\n",
       "\\item 12\n",
       "\\end{enumerate*}\n"
      ],
      "text/markdown": [
       "1. 25\n",
       "2. 12\n",
       "\n",
       "\n"
      ],
      "text/plain": [
       "[1] 25 12"
      ]
     },
     "metadata": {},
     "output_type": "display_data"
    },
    {
     "data": {
      "text/html": [
       "<table class=\"dataframe\">\n",
       "<caption>A data.frame: 6 × 12</caption>\n",
       "<thead>\n",
       "\t<tr><th></th><th scope=col>GW08</th><th scope=col>GW12</th><th scope=col>GW16_1_3</th><th scope=col>GW16_1_4</th><th scope=col>GW16_1_9</th><th scope=col>GW19_1_1</th><th scope=col>GW19_1_2</th><th scope=col>GW19_1_3</th><th scope=col>GW23_1_1</th><th scope=col>GW23_1_2</th><th scope=col>GW23_1_3</th><th scope=col>GW26_1_1</th></tr>\n",
       "\t<tr><th></th><th scope=col>&lt;dbl&gt;</th><th scope=col>&lt;dbl&gt;</th><th scope=col>&lt;dbl&gt;</th><th scope=col>&lt;dbl&gt;</th><th scope=col>&lt;dbl&gt;</th><th scope=col>&lt;dbl&gt;</th><th scope=col>&lt;dbl&gt;</th><th scope=col>&lt;dbl&gt;</th><th scope=col>&lt;dbl&gt;</th><th scope=col>&lt;dbl&gt;</th><th scope=col>&lt;dbl&gt;</th><th scope=col>&lt;dbl&gt;</th></tr>\n",
       "</thead>\n",
       "<tbody>\n",
       "\t<tr><th scope=row>ENSG00000077312.9;A3:chr19:40751481-40757332:40751481-40757367:+</th><td> 1</td><td> 1</td><td> 1</td><td> 1</td><td>1.0000000</td><td> 1</td><td>0.9869851</td><td>1.0000000</td><td> 1</td><td>       NA</td><td> 0</td><td>1.0000000</td></tr>\n",
       "\t<tr><th scope=row>ENSG00000077312.9;A3:chr19:40757504-40759431:40757504-40759440:+</th><td> 1</td><td> 1</td><td> 1</td><td> 1</td><td>1.0000000</td><td> 1</td><td>1.0000000</td><td>1.0000000</td><td> 1</td><td>       NA</td><td> 1</td><td>1.0000000</td></tr>\n",
       "\t<tr><th scope=row>ENSG00000100028.12;A3:chr22:24568176-24571916:24568176-24572018:+</th><td> 1</td><td> 1</td><td> 1</td><td> 1</td><td>1.0000000</td><td> 1</td><td>1.0000000</td><td>0.4204904</td><td> 1</td><td>1.0000000</td><td> 1</td><td>1.0000000</td></tr>\n",
       "\t<tr><th scope=row>ENSG00000101343.15;A3:chr20:20037571-20038349:20037534-20038349:-</th><td>NA</td><td> 1</td><td> 1</td><td> 1</td><td>0.5255999</td><td> 1</td><td>0.4650269</td><td>1.0000000</td><td> 1</td><td>0.1795182</td><td> 1</td><td>0.2774629</td></tr>\n",
       "\t<tr><th scope=row>ENSG00000101343.15;A3:chr20:20052722-20055948:20052628-20055948:-</th><td>NA</td><td>NA</td><td>NA</td><td>NA</td><td>       NA</td><td>NA</td><td>       NA</td><td>       NA</td><td>NA</td><td>       NA</td><td>NA</td><td>1.0000000</td></tr>\n",
       "\t<tr><th scope=row>ENSG00000101343.15;A3:chr20:20052758-20055948:20052628-20055948:-</th><td>NA</td><td>NA</td><td>NA</td><td>NA</td><td>       NA</td><td>NA</td><td>       NA</td><td>       NA</td><td>NA</td><td>       NA</td><td>NA</td><td>       NA</td></tr>\n",
       "</tbody>\n",
       "</table>\n"
      ],
      "text/latex": [
       "A data.frame: 6 × 12\n",
       "\\begin{tabular}{r|llllllllllll}\n",
       "  & GW08 & GW12 & GW16\\_1\\_3 & GW16\\_1\\_4 & GW16\\_1\\_9 & GW19\\_1\\_1 & GW19\\_1\\_2 & GW19\\_1\\_3 & GW23\\_1\\_1 & GW23\\_1\\_2 & GW23\\_1\\_3 & GW26\\_1\\_1\\\\\n",
       "  & <dbl> & <dbl> & <dbl> & <dbl> & <dbl> & <dbl> & <dbl> & <dbl> & <dbl> & <dbl> & <dbl> & <dbl>\\\\\n",
       "\\hline\n",
       "\tENSG00000077312.9;A3:chr19:40751481-40757332:40751481-40757367:+ &  1 &  1 &  1 &  1 & 1.0000000 &  1 & 0.9869851 & 1.0000000 &  1 &        NA &  0 & 1.0000000\\\\\n",
       "\tENSG00000077312.9;A3:chr19:40757504-40759431:40757504-40759440:+ &  1 &  1 &  1 &  1 & 1.0000000 &  1 & 1.0000000 & 1.0000000 &  1 &        NA &  1 & 1.0000000\\\\\n",
       "\tENSG00000100028.12;A3:chr22:24568176-24571916:24568176-24572018:+ &  1 &  1 &  1 &  1 & 1.0000000 &  1 & 1.0000000 & 0.4204904 &  1 & 1.0000000 &  1 & 1.0000000\\\\\n",
       "\tENSG00000101343.15;A3:chr20:20037571-20038349:20037534-20038349:- & NA &  1 &  1 &  1 & 0.5255999 &  1 & 0.4650269 & 1.0000000 &  1 & 0.1795182 &  1 & 0.2774629\\\\\n",
       "\tENSG00000101343.15;A3:chr20:20052722-20055948:20052628-20055948:- & NA & NA & NA & NA &        NA & NA &        NA &        NA & NA &        NA & NA & 1.0000000\\\\\n",
       "\tENSG00000101343.15;A3:chr20:20052758-20055948:20052628-20055948:- & NA & NA & NA & NA &        NA & NA &        NA &        NA & NA &        NA & NA &        NA\\\\\n",
       "\\end{tabular}\n"
      ],
      "text/markdown": [
       "\n",
       "A data.frame: 6 × 12\n",
       "\n",
       "| <!--/--> | GW08 &lt;dbl&gt; | GW12 &lt;dbl&gt; | GW16_1_3 &lt;dbl&gt; | GW16_1_4 &lt;dbl&gt; | GW16_1_9 &lt;dbl&gt; | GW19_1_1 &lt;dbl&gt; | GW19_1_2 &lt;dbl&gt; | GW19_1_3 &lt;dbl&gt; | GW23_1_1 &lt;dbl&gt; | GW23_1_2 &lt;dbl&gt; | GW23_1_3 &lt;dbl&gt; | GW26_1_1 &lt;dbl&gt; |\n",
       "|---|---|---|---|---|---|---|---|---|---|---|---|---|\n",
       "| ENSG00000077312.9;A3:chr19:40751481-40757332:40751481-40757367:+ |  1 |  1 |  1 |  1 | 1.0000000 |  1 | 0.9869851 | 1.0000000 |  1 |        NA |  0 | 1.0000000 |\n",
       "| ENSG00000077312.9;A3:chr19:40757504-40759431:40757504-40759440:+ |  1 |  1 |  1 |  1 | 1.0000000 |  1 | 1.0000000 | 1.0000000 |  1 |        NA |  1 | 1.0000000 |\n",
       "| ENSG00000100028.12;A3:chr22:24568176-24571916:24568176-24572018:+ |  1 |  1 |  1 |  1 | 1.0000000 |  1 | 1.0000000 | 0.4204904 |  1 | 1.0000000 |  1 | 1.0000000 |\n",
       "| ENSG00000101343.15;A3:chr20:20037571-20038349:20037534-20038349:- | NA |  1 |  1 |  1 | 0.5255999 |  1 | 0.4650269 | 1.0000000 |  1 | 0.1795182 |  1 | 0.2774629 |\n",
       "| ENSG00000101343.15;A3:chr20:20052722-20055948:20052628-20055948:- | NA | NA | NA | NA |        NA | NA |        NA |        NA | NA |        NA | NA | 1.0000000 |\n",
       "| ENSG00000101343.15;A3:chr20:20052758-20055948:20052628-20055948:- | NA | NA | NA | NA |        NA | NA |        NA |        NA | NA |        NA | NA |        NA |\n",
       "\n"
      ],
      "text/plain": [
       "                                                                  GW08 GW12\n",
       "ENSG00000077312.9;A3:chr19:40751481-40757332:40751481-40757367:+   1    1  \n",
       "ENSG00000077312.9;A3:chr19:40757504-40759431:40757504-40759440:+   1    1  \n",
       "ENSG00000100028.12;A3:chr22:24568176-24571916:24568176-24572018:+  1    1  \n",
       "ENSG00000101343.15;A3:chr20:20037571-20038349:20037534-20038349:- NA    1  \n",
       "ENSG00000101343.15;A3:chr20:20052722-20055948:20052628-20055948:- NA   NA  \n",
       "ENSG00000101343.15;A3:chr20:20052758-20055948:20052628-20055948:- NA   NA  \n",
       "                                                                  GW16_1_3\n",
       "ENSG00000077312.9;A3:chr19:40751481-40757332:40751481-40757367:+   1      \n",
       "ENSG00000077312.9;A3:chr19:40757504-40759431:40757504-40759440:+   1      \n",
       "ENSG00000100028.12;A3:chr22:24568176-24571916:24568176-24572018:+  1      \n",
       "ENSG00000101343.15;A3:chr20:20037571-20038349:20037534-20038349:-  1      \n",
       "ENSG00000101343.15;A3:chr20:20052722-20055948:20052628-20055948:- NA      \n",
       "ENSG00000101343.15;A3:chr20:20052758-20055948:20052628-20055948:- NA      \n",
       "                                                                  GW16_1_4\n",
       "ENSG00000077312.9;A3:chr19:40751481-40757332:40751481-40757367:+   1      \n",
       "ENSG00000077312.9;A3:chr19:40757504-40759431:40757504-40759440:+   1      \n",
       "ENSG00000100028.12;A3:chr22:24568176-24571916:24568176-24572018:+  1      \n",
       "ENSG00000101343.15;A3:chr20:20037571-20038349:20037534-20038349:-  1      \n",
       "ENSG00000101343.15;A3:chr20:20052722-20055948:20052628-20055948:- NA      \n",
       "ENSG00000101343.15;A3:chr20:20052758-20055948:20052628-20055948:- NA      \n",
       "                                                                  GW16_1_9 \n",
       "ENSG00000077312.9;A3:chr19:40751481-40757332:40751481-40757367:+  1.0000000\n",
       "ENSG00000077312.9;A3:chr19:40757504-40759431:40757504-40759440:+  1.0000000\n",
       "ENSG00000100028.12;A3:chr22:24568176-24571916:24568176-24572018:+ 1.0000000\n",
       "ENSG00000101343.15;A3:chr20:20037571-20038349:20037534-20038349:- 0.5255999\n",
       "ENSG00000101343.15;A3:chr20:20052722-20055948:20052628-20055948:-        NA\n",
       "ENSG00000101343.15;A3:chr20:20052758-20055948:20052628-20055948:-        NA\n",
       "                                                                  GW19_1_1\n",
       "ENSG00000077312.9;A3:chr19:40751481-40757332:40751481-40757367:+   1      \n",
       "ENSG00000077312.9;A3:chr19:40757504-40759431:40757504-40759440:+   1      \n",
       "ENSG00000100028.12;A3:chr22:24568176-24571916:24568176-24572018:+  1      \n",
       "ENSG00000101343.15;A3:chr20:20037571-20038349:20037534-20038349:-  1      \n",
       "ENSG00000101343.15;A3:chr20:20052722-20055948:20052628-20055948:- NA      \n",
       "ENSG00000101343.15;A3:chr20:20052758-20055948:20052628-20055948:- NA      \n",
       "                                                                  GW19_1_2 \n",
       "ENSG00000077312.9;A3:chr19:40751481-40757332:40751481-40757367:+  0.9869851\n",
       "ENSG00000077312.9;A3:chr19:40757504-40759431:40757504-40759440:+  1.0000000\n",
       "ENSG00000100028.12;A3:chr22:24568176-24571916:24568176-24572018:+ 1.0000000\n",
       "ENSG00000101343.15;A3:chr20:20037571-20038349:20037534-20038349:- 0.4650269\n",
       "ENSG00000101343.15;A3:chr20:20052722-20055948:20052628-20055948:-        NA\n",
       "ENSG00000101343.15;A3:chr20:20052758-20055948:20052628-20055948:-        NA\n",
       "                                                                  GW19_1_3 \n",
       "ENSG00000077312.9;A3:chr19:40751481-40757332:40751481-40757367:+  1.0000000\n",
       "ENSG00000077312.9;A3:chr19:40757504-40759431:40757504-40759440:+  1.0000000\n",
       "ENSG00000100028.12;A3:chr22:24568176-24571916:24568176-24572018:+ 0.4204904\n",
       "ENSG00000101343.15;A3:chr20:20037571-20038349:20037534-20038349:- 1.0000000\n",
       "ENSG00000101343.15;A3:chr20:20052722-20055948:20052628-20055948:-        NA\n",
       "ENSG00000101343.15;A3:chr20:20052758-20055948:20052628-20055948:-        NA\n",
       "                                                                  GW23_1_1\n",
       "ENSG00000077312.9;A3:chr19:40751481-40757332:40751481-40757367:+   1      \n",
       "ENSG00000077312.9;A3:chr19:40757504-40759431:40757504-40759440:+   1      \n",
       "ENSG00000100028.12;A3:chr22:24568176-24571916:24568176-24572018:+  1      \n",
       "ENSG00000101343.15;A3:chr20:20037571-20038349:20037534-20038349:-  1      \n",
       "ENSG00000101343.15;A3:chr20:20052722-20055948:20052628-20055948:- NA      \n",
       "ENSG00000101343.15;A3:chr20:20052758-20055948:20052628-20055948:- NA      \n",
       "                                                                  GW23_1_2 \n",
       "ENSG00000077312.9;A3:chr19:40751481-40757332:40751481-40757367:+         NA\n",
       "ENSG00000077312.9;A3:chr19:40757504-40759431:40757504-40759440:+         NA\n",
       "ENSG00000100028.12;A3:chr22:24568176-24571916:24568176-24572018:+ 1.0000000\n",
       "ENSG00000101343.15;A3:chr20:20037571-20038349:20037534-20038349:- 0.1795182\n",
       "ENSG00000101343.15;A3:chr20:20052722-20055948:20052628-20055948:-        NA\n",
       "ENSG00000101343.15;A3:chr20:20052758-20055948:20052628-20055948:-        NA\n",
       "                                                                  GW23_1_3\n",
       "ENSG00000077312.9;A3:chr19:40751481-40757332:40751481-40757367:+   0      \n",
       "ENSG00000077312.9;A3:chr19:40757504-40759431:40757504-40759440:+   1      \n",
       "ENSG00000100028.12;A3:chr22:24568176-24571916:24568176-24572018:+  1      \n",
       "ENSG00000101343.15;A3:chr20:20037571-20038349:20037534-20038349:-  1      \n",
       "ENSG00000101343.15;A3:chr20:20052722-20055948:20052628-20055948:- NA      \n",
       "ENSG00000101343.15;A3:chr20:20052758-20055948:20052628-20055948:- NA      \n",
       "                                                                  GW26_1_1 \n",
       "ENSG00000077312.9;A3:chr19:40751481-40757332:40751481-40757367:+  1.0000000\n",
       "ENSG00000077312.9;A3:chr19:40757504-40759431:40757504-40759440:+  1.0000000\n",
       "ENSG00000100028.12;A3:chr22:24568176-24571916:24568176-24572018:+ 1.0000000\n",
       "ENSG00000101343.15;A3:chr20:20037571-20038349:20037534-20038349:- 0.2774629\n",
       "ENSG00000101343.15;A3:chr20:20052722-20055948:20052628-20055948:- 1.0000000\n",
       "ENSG00000101343.15;A3:chr20:20052758-20055948:20052628-20055948:-        NA"
      ]
     },
     "metadata": {},
     "output_type": "display_data"
    }
   ],
   "source": [
    "dim(sub_A3_psi)\n",
    "head(sub_A3_psi)"
   ]
  },
  {
   "cell_type": "code",
   "execution_count": 58,
   "metadata": {
    "vscode": {
     "languageId": "r"
    }
   },
   "outputs": [
    {
     "data": {
      "text/html": [
       "<style>\n",
       ".list-inline {list-style: none; margin:0; padding: 0}\n",
       ".list-inline>li {display: inline-block}\n",
       ".list-inline>li:not(:last-child)::after {content: \"\\00b7\"; padding: 0 .5ex}\n",
       "</style>\n",
       "<ol class=list-inline><li>16</li><li>12</li></ol>\n"
      ],
      "text/latex": [
       "\\begin{enumerate*}\n",
       "\\item 16\n",
       "\\item 12\n",
       "\\end{enumerate*}\n"
      ],
      "text/markdown": [
       "1. 16\n",
       "2. 12\n",
       "\n",
       "\n"
      ],
      "text/plain": [
       "[1] 16 12"
      ]
     },
     "metadata": {},
     "output_type": "display_data"
    }
   ],
   "source": [
    "#######怎么分析？？？？\n",
    "#先生成折线图单独观察每个event的变化（估计很少）\n",
    "sub_A3_psi[is.na(sub_A3_psi)] <- 0\n",
    "sub_A3_psi <- sub_A3_psi[rowSums(sub_A3_psi)!=0,]\n",
    "sub_A3_psi <- sub_A3_psi[rowSums(sub_A3_psi)!=12,]\n",
    "dim(sub_A3_psi)"
   ]
  },
  {
   "cell_type": "code",
   "execution_count": 9,
   "metadata": {
    "vscode": {
     "languageId": "r"
    }
   },
   "outputs": [],
   "source": [
    "library(ggplot2)\n"
   ]
  },
  {
   "cell_type": "code",
   "execution_count": 59,
   "metadata": {
    "vscode": {
     "languageId": "r"
    }
   },
   "outputs": [],
   "source": [
    "data <- c()\n",
    "for(i in 1:nrow(sub_A3_psi)){\n",
    "     data <- c(data,sub_A3_psi[i,])\n",
    "}\n",
    "data <- as.data.frame(data)"
   ]
  },
  {
   "cell_type": "code",
   "execution_count": 60,
   "metadata": {
    "vscode": {
     "languageId": "r"
    }
   },
   "outputs": [],
   "source": [
    "data <- as.data.frame(t(data))"
   ]
  },
  {
   "cell_type": "code",
   "execution_count": 61,
   "metadata": {
    "vscode": {
     "languageId": "r"
    }
   },
   "outputs": [
    {
     "data": {
      "text/html": [
       "<style>\n",
       ".list-inline {list-style: none; margin:0; padding: 0}\n",
       ".list-inline>li {display: inline-block}\n",
       ".list-inline>li:not(:last-child)::after {content: \"\\00b7\"; padding: 0 .5ex}\n",
       "</style>\n",
       "<ol class=list-inline><li>16</li><li>12</li></ol>\n"
      ],
      "text/latex": [
       "\\begin{enumerate*}\n",
       "\\item 16\n",
       "\\item 12\n",
       "\\end{enumerate*}\n"
      ],
      "text/markdown": [
       "1. 16\n",
       "2. 12\n",
       "\n",
       "\n"
      ],
      "text/plain": [
       "[1] 16 12"
      ]
     },
     "metadata": {},
     "output_type": "display_data"
    }
   ],
   "source": [
    "dim(sub_A3_psi)"
   ]
  },
  {
   "cell_type": "code",
   "execution_count": 62,
   "metadata": {
    "vscode": {
     "languageId": "r"
    }
   },
   "outputs": [],
   "source": [
    "data$group <- rep(rownames(sub_A3_psi), each = 12) # 添加分组信息\n",
    "data$week <- rownames(data)\n",
    "colnames(data) <- c('Psi','AS_event','Week')"
   ]
  },
  {
   "cell_type": "code",
   "execution_count": 63,
   "metadata": {
    "vscode": {
     "languageId": "r"
    }
   },
   "outputs": [],
   "source": [
    "data$Week <- factor(c('GW08','GW12','GW16_1_3','GW16_1_4','GW16_1_9','GW19_1_1','GW19_1_2','GW19_1_3','GW23_1_1','GW23_1_2','GW23_1_3','GW26_1_1'))"
   ]
  },
  {
   "cell_type": "code",
   "execution_count": 50,
   "metadata": {
    "vscode": {
     "languageId": "r"
    }
   },
   "outputs": [
    {
     "data": {
      "text/html": [
       "<table class=\"dataframe\">\n",
       "<caption>A data.frame: 6 × 3</caption>\n",
       "<thead>\n",
       "\t<tr><th></th><th scope=col>Psi</th><th scope=col>AS_event</th><th scope=col>Week</th></tr>\n",
       "\t<tr><th></th><th scope=col>&lt;dbl&gt;</th><th scope=col>&lt;chr&gt;</th><th scope=col>&lt;fct&gt;</th></tr>\n",
       "</thead>\n",
       "<tbody>\n",
       "\t<tr><th scope=row>GW08</th><td>1</td><td>ENSG00000077312.9;A3:chr19:40751481-40757332:40751481-40757367:+</td><td>GW08    </td></tr>\n",
       "\t<tr><th scope=row>GW12</th><td>1</td><td>ENSG00000077312.9;A3:chr19:40751481-40757332:40751481-40757367:+</td><td>GW12    </td></tr>\n",
       "\t<tr><th scope=row>GW16_1_3</th><td>1</td><td>ENSG00000077312.9;A3:chr19:40751481-40757332:40751481-40757367:+</td><td>GW16_1_3</td></tr>\n",
       "\t<tr><th scope=row>GW16_1_4</th><td>1</td><td>ENSG00000077312.9;A3:chr19:40751481-40757332:40751481-40757367:+</td><td>GW16_1_4</td></tr>\n",
       "\t<tr><th scope=row>GW16_1_9</th><td>1</td><td>ENSG00000077312.9;A3:chr19:40751481-40757332:40751481-40757367:+</td><td>GW16_1_9</td></tr>\n",
       "\t<tr><th scope=row>GW19_1_1</th><td>1</td><td>ENSG00000077312.9;A3:chr19:40751481-40757332:40751481-40757367:+</td><td>GW19_1_1</td></tr>\n",
       "</tbody>\n",
       "</table>\n"
      ],
      "text/latex": [
       "A data.frame: 6 × 3\n",
       "\\begin{tabular}{r|lll}\n",
       "  & Psi & AS\\_event & Week\\\\\n",
       "  & <dbl> & <chr> & <fct>\\\\\n",
       "\\hline\n",
       "\tGW08 & 1 & ENSG00000077312.9;A3:chr19:40751481-40757332:40751481-40757367:+ & GW08    \\\\\n",
       "\tGW12 & 1 & ENSG00000077312.9;A3:chr19:40751481-40757332:40751481-40757367:+ & GW12    \\\\\n",
       "\tGW16\\_1\\_3 & 1 & ENSG00000077312.9;A3:chr19:40751481-40757332:40751481-40757367:+ & GW16\\_1\\_3\\\\\n",
       "\tGW16\\_1\\_4 & 1 & ENSG00000077312.9;A3:chr19:40751481-40757332:40751481-40757367:+ & GW16\\_1\\_4\\\\\n",
       "\tGW16\\_1\\_9 & 1 & ENSG00000077312.9;A3:chr19:40751481-40757332:40751481-40757367:+ & GW16\\_1\\_9\\\\\n",
       "\tGW19\\_1\\_1 & 1 & ENSG00000077312.9;A3:chr19:40751481-40757332:40751481-40757367:+ & GW19\\_1\\_1\\\\\n",
       "\\end{tabular}\n"
      ],
      "text/markdown": [
       "\n",
       "A data.frame: 6 × 3\n",
       "\n",
       "| <!--/--> | Psi &lt;dbl&gt; | AS_event &lt;chr&gt; | Week &lt;fct&gt; |\n",
       "|---|---|---|---|\n",
       "| GW08 | 1 | ENSG00000077312.9;A3:chr19:40751481-40757332:40751481-40757367:+ | GW08     |\n",
       "| GW12 | 1 | ENSG00000077312.9;A3:chr19:40751481-40757332:40751481-40757367:+ | GW12     |\n",
       "| GW16_1_3 | 1 | ENSG00000077312.9;A3:chr19:40751481-40757332:40751481-40757367:+ | GW16_1_3 |\n",
       "| GW16_1_4 | 1 | ENSG00000077312.9;A3:chr19:40751481-40757332:40751481-40757367:+ | GW16_1_4 |\n",
       "| GW16_1_9 | 1 | ENSG00000077312.9;A3:chr19:40751481-40757332:40751481-40757367:+ | GW16_1_9 |\n",
       "| GW19_1_1 | 1 | ENSG00000077312.9;A3:chr19:40751481-40757332:40751481-40757367:+ | GW19_1_1 |\n",
       "\n"
      ],
      "text/plain": [
       "         Psi AS_event                                                        \n",
       "GW08     1   ENSG00000077312.9;A3:chr19:40751481-40757332:40751481-40757367:+\n",
       "GW12     1   ENSG00000077312.9;A3:chr19:40751481-40757332:40751481-40757367:+\n",
       "GW16_1_3 1   ENSG00000077312.9;A3:chr19:40751481-40757332:40751481-40757367:+\n",
       "GW16_1_4 1   ENSG00000077312.9;A3:chr19:40751481-40757332:40751481-40757367:+\n",
       "GW16_1_9 1   ENSG00000077312.9;A3:chr19:40751481-40757332:40751481-40757367:+\n",
       "GW19_1_1 1   ENSG00000077312.9;A3:chr19:40751481-40757332:40751481-40757367:+\n",
       "         Week    \n",
       "GW08     GW08    \n",
       "GW12     GW12    \n",
       "GW16_1_3 GW16_1_3\n",
       "GW16_1_4 GW16_1_4\n",
       "GW16_1_9 GW16_1_9\n",
       "GW19_1_1 GW19_1_1"
      ]
     },
     "metadata": {},
     "output_type": "display_data"
    }
   ],
   "source": [
    "head(data)"
   ]
  },
  {
   "cell_type": "code",
   "execution_count": 65,
   "metadata": {
    "vscode": {
     "languageId": "r"
    }
   },
   "outputs": [
    {
     "data": {
      "image/png": "[encoded data removed]",
      "text/plain": [
       "plot without title"
      ]
     },
     "metadata": {
      "image/png": {
       "height": 420,
       "width": 420
      }
     },
     "output_type": "display_data"
    }
   ],
   "source": [
    "ggplot(data = data,aes(x=Week,y=Psi,group = AS_event,color=AS_event))+\n",
    "  geom_point()+\n",
    "  geom_line()+\n",
    "  xlab(\"\")+#横坐标名称\n",
    "  ylab(\"Psi\")+#纵坐标名称\n",
    "  theme_bw() +#去掉背景灰色\n",
    "  theme(panel.grid.major=element_line(colour=NA),\n",
    "        panel.background = element_rect(fill = \"transparent\",colour = NA),\n",
    "        plot.background = element_rect(fill = \"transparent\",colour = NA),\n",
    "        panel.grid.minor = element_blank(),#以上theme中代码用于去除网格线且保留坐标轴边框\n",
    "        legend.position = \"none\",#更改图例的位置，放至图内部的左上角\n",
    "        legend.box.background = element_rect(color=\"black\"))\n",
    "#点击zoom查看大图\n"
   ]
  },
  {
   "cell_type": "code",
   "execution_count": 8,
   "metadata": {
    "vscode": {
     "languageId": "r"
    }
   },
   "outputs": [
    {
     "data": {
      "text/html": [
       "<style>\n",
       ".list-inline {list-style: none; margin:0; padding: 0}\n",
       ".list-inline>li {display: inline-block}\n",
       ".list-inline>li:not(:last-child)::after {content: \"\\00b7\"; padding: 0 .5ex}\n",
       "</style>\n",
       "<ol class=list-inline><li>18</li><li>12</li></ol>\n"
      ],
      "text/latex": [
       "\\begin{enumerate*}\n",
       "\\item 18\n",
       "\\item 12\n",
       "\\end{enumerate*}\n"
      ],
      "text/markdown": [
       "1. 18\n",
       "2. 12\n",
       "\n",
       "\n"
      ],
      "text/plain": [
       "[1] 18 12"
      ]
     },
     "metadata": {},
     "output_type": "display_data"
    }
   ],
   "source": [
    "for(one in rownames(sub_A3_psi)){\n",
    "    \n",
    "}"
   ]
  }
 ],
 "metadata": {
  "kernelspec": {
   "display_name": "R",
   "language": "R",
   "name": "ir"
  },
  "language_info": {
   "codemirror_mode": "r",
   "file_extension": ".r",
   "mimetype": "text/x-r-source",
   "name": "R",
   "pygments_lexer": "r",
   "version": "4.3.1"
  },
  "orig_nbformat": 4
 },
 "nbformat": 4,
 "nbformat_minor": 2
}
