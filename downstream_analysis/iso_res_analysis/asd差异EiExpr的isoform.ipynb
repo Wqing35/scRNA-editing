{
 "cells": [
  {
   "cell_type": "code",
   "execution_count": 2,
   "metadata": {
    "vscode": {
     "languageId": "r"
    }
   },
   "outputs": [],
   "source": [
    "library(IRkernel)"
   ]
  },
  {
   "cell_type": "code",
   "execution_count": 3,
   "metadata": {
    "vscode": {
     "languageId": "r"
    }
   },
   "outputs": [],
   "source": [
    "library(jsonlite)"
   ]
  },
  {
   "cell_type": "code",
   "execution_count": 1,
   "metadata": {
    "vscode": {
     "languageId": "r"
    }
   },
   "outputs": [
    {
     "data": {
      "text/html": [
       "'/disk1/wenqing/anaconda3/envs/wq_R4.2/lib/R/library'"
      ],
      "text/latex": [
       "'/disk1/wenqing/anaconda3/envs/wq\\_R4.2/lib/R/library'"
      ],
      "text/markdown": [
       "'/disk1/wenqing/anaconda3/envs/wq_R4.2/lib/R/library'"
      ],
      "text/plain": [
       "[1] \"/disk1/wenqing/anaconda3/envs/wq_R4.2/lib/R/library\""
      ]
     },
     "metadata": {},
     "output_type": "display_data"
    }
   ],
   "source": [
    ".libPaths()"
   ]
  },
  {
   "cell_type": "code",
   "execution_count": null,
   "metadata": {
    "vscode": {
     "languageId": "r"
    }
   },
   "outputs": [],
   "source": [
    "library(DESeq2)"
   ]
  },
  {
   "cell_type": "code",
   "execution_count": null,
   "metadata": {
    "vscode": {
     "languageId": "r"
    }
   },
   "outputs": [],
   "source": [
    "library(IsoformSwitchAnalyzeR)"
   ]
  },
  {
   "cell_type": "code",
   "execution_count": 7,
   "metadata": {
    "vscode": {
     "languageId": "r"
    }
   },
   "outputs": [],
   "source": [
    "library(jsonlite)\n",
    "library(IRkernel)\n",
    "library(repr)"
   ]
  },
  {
   "cell_type": "code",
   "execution_count": 7,
   "metadata": {
    "vscode": {
     "languageId": "r"
    }
   },
   "outputs": [
    {
     "name": "stderr",
     "output_type": "stream",
     "text": [
      "Step 1 of 3: Identifying which algorithm was used...\n",
      "\n",
      "    The quantification algorithm used was: Salmon\n",
      "\n",
      "    Found 6 quantification file(s) of interest\n",
      "\n",
      "Step 2 of 3: Reading data...\n",
      "\n",
      "reading in files with read_tsv\n",
      "\n",
      "1 \n",
      "2 \n",
      "3 \n",
      "4 \n",
      "5 \n",
      "6 \n",
      "\n",
      "\n",
      "Step 3 of 3: Normalizing abundance values (not counts) via edgeR...\n",
      "\n",
      "Done\n",
      "\n",
      "\n"
     ]
    },
    {
     "data": {
      "text/html": [
       "<table class=\"dataframe\">\n",
       "<caption>A data.frame: 6 × 2</caption>\n",
       "<thead>\n",
       "\t<tr><th scope=col>sampleID</th><th scope=col>condition</th></tr>\n",
       "\t<tr><th scope=col>&lt;chr&gt;</th><th scope=col>&lt;chr&gt;</th></tr>\n",
       "</thead>\n",
       "<tbody>\n",
       "\t<tr><td>17</td><td>ASD    </td></tr>\n",
       "\t<tr><td>18</td><td>ASD    </td></tr>\n",
       "\t<tr><td>57</td><td>ASD    </td></tr>\n",
       "\t<tr><td>20</td><td>Control</td></tr>\n",
       "\t<tr><td>32</td><td>Control</td></tr>\n",
       "\t<tr><td>56</td><td>Control</td></tr>\n",
       "</tbody>\n",
       "</table>\n"
      ],
      "text/latex": [
       "A data.frame: 6 × 2\n",
       "\\begin{tabular}{ll}\n",
       " sampleID & condition\\\\\n",
       " <chr> & <chr>\\\\\n",
       "\\hline\n",
       "\t 17 & ASD    \\\\\n",
       "\t 18 & ASD    \\\\\n",
       "\t 57 & ASD    \\\\\n",
       "\t 20 & Control\\\\\n",
       "\t 32 & Control\\\\\n",
       "\t 56 & Control\\\\\n",
       "\\end{tabular}\n"
      ],
      "text/markdown": [
       "\n",
       "A data.frame: 6 × 2\n",
       "\n",
       "| sampleID &lt;chr&gt; | condition &lt;chr&gt; |\n",
       "|---|---|\n",
       "| 17 | ASD     |\n",
       "| 18 | ASD     |\n",
       "| 57 | ASD     |\n",
       "| 20 | Control |\n",
       "| 32 | Control |\n",
       "| 56 | Control |\n",
       "\n"
      ],
      "text/plain": [
       "  sampleID condition\n",
       "1 17       ASD      \n",
       "2 18       ASD      \n",
       "3 57       ASD      \n",
       "4 20       Control  \n",
       "5 32       Control  \n",
       "6 56       Control  "
      ]
     },
     "metadata": {},
     "output_type": "display_data"
    },
    {
     "name": "stderr",
     "output_type": "stream",
     "text": [
      "Step 1 of 10: Checking data...\n",
      "\n",
      "Step 2 of 10: Obtaining annotation...\n",
      "\n",
      "    importing GTF (this may take a while)...\n",
      "\n",
      "Warning message in importRdata(isoformCountMatrix = isoformExpr$counts, isoformRepExpression = isoformExpr$abundance, :\n",
      "\"The annotation and quantification (count/abundance matrix and isoform annotation) Seem to be slightly different. \n",
      "Specifically:\n",
      " 324 isoforms were only found in the annotation\n",
      " \n",
      "Please make sure this is on purpouse since differences will cause inaccurate quantification and thereby skew all analysis.\n",
      " If you have quantified with Salmon this could be normal since it as default only keep one copy of identical sequnces (can be prevented using the --keepDuplicates option)\n",
      " We strongly encurage you to go back and figure out why this is the case.\n",
      "\n",
      "\"\n",
      "    108957 ( 43.17%) isoforms were removed since they were not expressed in any samples.\n",
      "\n",
      "Step 3 of 10: Fixing StringTie gene annoation problems...\n",
      "\n",
      "    There were no need to rescue any annotation\n",
      "\n",
      "    43169 genes_id were assigned their original gene_id instead of the StringTie gene_id.\n",
      "        This was only done when it could be done unambiguous.\n",
      "\n",
      "Step 4 of 10: Calculating expression estimates from count data...\n",
      "\n",
      "    Skipped as user supplied expression via the \"isoformRepExpression\" argument...\n",
      "\n",
      "Step 5 of 10: Testing for unwanted effects...\n",
      "\n",
      "    No unwanted effects added\n",
      "\n",
      "Step 6 of 10: Batch correcting expression estimates...\n",
      "\n",
      "    Skipped as no batch effects were found or annoated...\n",
      "\n",
      "Step 7 of 10: Extracting data from each condition...\n",
      "\n"
     ]
    },
    {
     "name": "stdout",
     "output_type": "stream",
     "text": [
      "  |======================================================================| 100%\n"
     ]
    },
    {
     "name": "stderr",
     "output_type": "stream",
     "text": [
      "Step 8 of 10: Making comparisons...\n",
      "\n"
     ]
    },
    {
     "name": "stdout",
     "output_type": "stream",
     "text": [
      "  |======================================================================| 100%\n"
     ]
    },
    {
     "name": "stderr",
     "output_type": "stream",
     "text": [
      "Step 9 of 10: Making switchAnalyzeRlist object...\n",
      "\n",
      "Warning message in createSwitchAnalyzeRlist(isoformFeatures = isoAnnot, exons = isoformExonStructure, :\n",
      "\"The gene_ids or isoform_ids were not unique - we identified multiple instances of the same gene_id/isoform_id on different chromosomes. To solve this we removed 45 gene_id. Please note there might still be duplicated gene_id located on the same chromosome. Some of these could be due to fusion transcripts which IsoformSwitchAnalyzeR cannot handle.\"\n",
      "Step 10 of 10: Guestimating differential usage...\n",
      "\n",
      "    The GUESSTIMATED number of genes with differential isoform usage are:\n",
      "\n"
     ]
    },
    {
     "name": "stdout",
     "output_type": "stream",
     "text": [
      "      comparison estimated_genes_with_dtu\n",
      "1 ASD vs Control                    0 - 0\n"
     ]
    },
    {
     "name": "stderr",
     "output_type": "stream",
     "text": [
      "Done\n",
      "\n",
      "\n",
      "The filtering removed 86546 ( 60.62% of ) transcripts. There is now 56211 isoforms left\n",
      "\n"
     ]
    }
   ],
   "source": [
    "isoformExpr <- importIsoformExpression(parentDir=\"/disk1/wenqing/tmp_data/ASD/salmon_quant_gencode\", pattern=\"quant.sf\")\n",
    "samples <- c(\"17\",\"18\",\"57\",\"20\",\"32\",\"56\")\n",
    "condictions <- c(rep_len(\"ASD\", 3), rep_len(\"Control\", 3))\n",
    "#samples <- c(\"17\",\"18\",\"57\")\n",
    "#condictions <- c(rep_len(\"ASD\", 2), rep_len(\"Control\", 1))\n",
    "designM <- data.frame(sampleID=samples, condition=condictions)\n",
    "designM\n",
    "switchList <- importRdata(isoformCountMatrix=isoformExpr$counts, isoformRepExpression=isoformExpr$abundance, designMatrix=designM, isoformExonAnnoation=\"/disk1/wenqing/tmp_data/hg19/gencode.v44lift37.annotation.gtf\", isoformNtFasta=\"/disk1/wenqing/tmp_data/hg19/gencode.v44lift37.transcripts.fa\")\n",
    "switchListF <- preFilter(switchList)\n"
   ]
  },
  {
   "cell_type": "code",
   "execution_count": null,
   "metadata": {
    "vscode": {
     "languageId": "r"
    }
   },
   "outputs": [],
   "source": [
    "#abundance=TxPM(相当于RPKM/FPKM)，但已经根据用于量化的工具模拟的所有偏差进行了调整，包括片段长度分布和序列特异性偏差以及GC-片段偏差（这取决于每个工具及其运行方式，因此您需要查找具体的工具）。TxPM对于比较丰度的表达是最优的，因为大多数偏差都会被考虑在内。\n",
    "#head(isoformExpr$abundance)\n",
    "#head(isoformExpr$counts)\n",
    "#names(isoformExpr)\n",
    "#head(isoformExpr$importOptions)"
   ]
  },
  {
   "cell_type": "code",
   "execution_count": 10,
   "metadata": {
    "vscode": {
     "languageId": "r"
    }
   },
   "outputs": [
    {
     "data": {
      "text/html": [
       "<style>\n",
       ".list-inline {list-style: none; margin:0; padding: 0}\n",
       ".list-inline>li {display: inline-block}\n",
       ".list-inline>li:not(:last-child)::after {content: \"\\00b7\"; padding: 0 .5ex}\n",
       "</style>\n",
       "<ol class=list-inline><li>142757</li><li>30</li></ol>\n"
      ],
      "text/latex": [
       "\\begin{enumerate*}\n",
       "\\item 142757\n",
       "\\item 30\n",
       "\\end{enumerate*}\n"
      ],
      "text/markdown": [
       "1. 142757\n",
       "2. 30\n",
       "\n",
       "\n"
      ],
      "text/plain": [
       "[1] 142757     30"
      ]
     },
     "metadata": {},
     "output_type": "display_data"
    }
   ],
   "source": [
    "dim(switchList$isoformFeatures)\n",
    "#dim(as.data.frame(switchList$exons))\n",
    "#head(switchList$exons@ranges)\n",
    "#write.csv(as.data.frame(switchList$exons),'/disk1/wenqing/tmp_data/ASD/switchList_exon.csv',quote=F)"
   ]
  },
  {
   "cell_type": "code",
   "execution_count": 11,
   "metadata": {
    "vscode": {
     "languageId": "r"
    }
   },
   "outputs": [
    {
     "data": {
      "text/plain": [
       "\n",
       "FALSE  TRUE \n",
       "51622 11449 "
      ]
     },
     "metadata": {},
     "output_type": "display_data"
    }
   ],
   "source": [
    "#PTC: A logic indicating whether the isoform is classified as having a Premature Termination Codon. This is defined as having a stop codon more than PTCDistance (default is 50) nt upstream of the last exon exon junction.\n",
    "table(switchList$isoformFeatures$PTC)"
   ]
  },
  {
   "cell_type": "code",
   "execution_count": 12,
   "metadata": {
    "vscode": {
     "languageId": "r"
    }
   },
   "outputs": [
    {
     "data": {
      "text/plain": [
       "\n",
       " FALSE   TRUE \n",
       "142392    365 "
      ]
     },
     "metadata": {},
     "output_type": "display_data"
    }
   ],
   "source": [
    "table(switchList$isoformFeatures$IF_overall==0)"
   ]
  },
  {
   "cell_type": "code",
   "execution_count": 13,
   "metadata": {
    "vscode": {
     "languageId": "r"
    }
   },
   "outputs": [
    {
     "data": {
      "text/html": [
       "56211"
      ],
      "text/latex": [
       "56211"
      ],
      "text/markdown": [
       "56211"
      ],
      "text/plain": [
       "[1] 56211"
      ]
     },
     "metadata": {},
     "output_type": "display_data"
    }
   ],
   "source": [
    "#prefilter过滤掉86519（61.33%）的isoform\n",
    "length(switchListF$isoformFeatures$isoform_id)"
   ]
  },
  {
   "cell_type": "code",
   "execution_count": 14,
   "metadata": {
    "vscode": {
     "languageId": "r"
    }
   },
   "outputs": [
    {
     "name": "stderr",
     "output_type": "stream",
     "text": [
      "Step 1 of 2: Testing each pairwise comparisons with DEXSeq (this might be a bit slow)...\n",
      "\n",
      "    Estimated run time is: 25.7 min\n",
      "\n",
      "Step 2 of 2: Integrating result into switchAnalyzeRlist...\n",
      "\n",
      "    Isoform switch analysis was performed for 13158 gene comparisons (100%).\n",
      "\n",
      "Total runtime: 1.89 min\n",
      "\n",
      "Done\n",
      "\n"
     ]
    }
   ],
   "source": [
    "#isoformSwitchTestDEXSeq:分析差异表达的isoform\n",
    "#uses DEXSeq to test for differential isoform usage using the replicate count matrix.\n",
    "#dIFcutoff：过滤在两条件下IF usage没有改变的isoform\n",
    "switchListD <- isoformSwitchTestDEXSeq(switchAnalyzeRlist=switchListF, alpha=0.05)         "
   ]
  },
  {
   "cell_type": "code",
   "execution_count": 15,
   "metadata": {
    "vscode": {
     "languageId": "r"
    }
   },
   "outputs": [
    {
     "data": {
      "text/html": [
       "<style>\n",
       ".list-inline {list-style: none; margin:0; padding: 0}\n",
       ".list-inline>li {display: inline-block}\n",
       ".list-inline>li:not(:last-child)::after {content: \"\\00b7\"; padding: 0 .5ex}\n",
       "</style>\n",
       "<ol class=list-inline><li>'isoformFeatures'</li><li>'exons'</li><li>'conditions'</li><li>'designMatrix'</li><li>'sourceId'</li><li>'isoformCountMatrix'</li><li>'isoformRepExpression'</li><li>'runInfo'</li><li>'orfAnalysis'</li><li>'isoformRepIF'</li><li>'ntSequence'</li><li>'isoformSwitchAnalysis'</li></ol>\n"
      ],
      "text/latex": [
       "\\begin{enumerate*}\n",
       "\\item 'isoformFeatures'\n",
       "\\item 'exons'\n",
       "\\item 'conditions'\n",
       "\\item 'designMatrix'\n",
       "\\item 'sourceId'\n",
       "\\item 'isoformCountMatrix'\n",
       "\\item 'isoformRepExpression'\n",
       "\\item 'runInfo'\n",
       "\\item 'orfAnalysis'\n",
       "\\item 'isoformRepIF'\n",
       "\\item 'ntSequence'\n",
       "\\item 'isoformSwitchAnalysis'\n",
       "\\end{enumerate*}\n"
      ],
      "text/markdown": [
       "1. 'isoformFeatures'\n",
       "2. 'exons'\n",
       "3. 'conditions'\n",
       "4. 'designMatrix'\n",
       "5. 'sourceId'\n",
       "6. 'isoformCountMatrix'\n",
       "7. 'isoformRepExpression'\n",
       "8. 'runInfo'\n",
       "9. 'orfAnalysis'\n",
       "10. 'isoformRepIF'\n",
       "11. 'ntSequence'\n",
       "12. 'isoformSwitchAnalysis'\n",
       "\n",
       "\n"
      ],
      "text/plain": [
       " [1] \"isoformFeatures\"       \"exons\"                 \"conditions\"           \n",
       " [4] \"designMatrix\"          \"sourceId\"              \"isoformCountMatrix\"   \n",
       " [7] \"isoformRepExpression\"  \"runInfo\"               \"orfAnalysis\"          \n",
       "[10] \"isoformRepIF\"          \"ntSequence\"            \"isoformSwitchAnalysis\""
      ]
     },
     "metadata": {},
     "output_type": "display_data"
    }
   ],
   "source": [
    "names(switchListD)"
   ]
  },
  {
   "cell_type": "code",
   "execution_count": 17,
   "metadata": {
    "vscode": {
     "languageId": "r"
    }
   },
   "outputs": [],
   "source": [
    "asd_de_ei_expr_genes <- read.csv(\"/disk1/wenqing/tmp_data/ASD/ASD_CTR_geneEI_Expr.csv\")"
   ]
  },
  {
   "cell_type": "code",
   "execution_count": 18,
   "metadata": {
    "vscode": {
     "languageId": "r"
    }
   },
   "outputs": [
    {
     "data": {
      "text/html": [
       "<table class=\"dataframe\">\n",
       "<caption>A data.frame: 6 × 4</caption>\n",
       "<thead>\n",
       "\t<tr><th></th><th scope=col>X</th><th scope=col>expr_p_adjs</th><th scope=col>ei_p_adjs</th><th scope=col>all_labels</th></tr>\n",
       "\t<tr><th></th><th scope=col>&lt;chr&gt;</th><th scope=col>&lt;dbl&gt;</th><th scope=col>&lt;dbl&gt;</th><th scope=col>&lt;chr&gt;</th></tr>\n",
       "</thead>\n",
       "<tbody>\n",
       "\t<tr><th scope=row>1</th><td>RAB40C    </td><td> 4.477316e-05</td><td>-0.07652250</td><td>up_down  </td></tr>\n",
       "\t<tr><th scope=row>2</th><td>PRKAR2B   </td><td> 2.532669e-05</td><td>-0.06360257</td><td>up_down  </td></tr>\n",
       "\t<tr><th scope=row>3</th><td>AC003991.3</td><td>-1.156778e-02</td><td>-0.07652250</td><td>down_down</td></tr>\n",
       "\t<tr><th scope=row>4</th><td>MBNL2     </td><td>-1.852806e-10</td><td>-0.07652250</td><td>down_down</td></tr>\n",
       "\t<tr><th scope=row>5</th><td>BRD4      </td><td> 4.087192e-03</td><td>-0.07652250</td><td>up_down  </td></tr>\n",
       "\t<tr><th scope=row>6</th><td>SUPT20H   </td><td>-3.750842e-02</td><td>-0.07652250</td><td>down_down</td></tr>\n",
       "</tbody>\n",
       "</table>\n"
      ],
      "text/latex": [
       "A data.frame: 6 × 4\n",
       "\\begin{tabular}{r|llll}\n",
       "  & X & expr\\_p\\_adjs & ei\\_p\\_adjs & all\\_labels\\\\\n",
       "  & <chr> & <dbl> & <dbl> & <chr>\\\\\n",
       "\\hline\n",
       "\t1 & RAB40C     &  4.477316e-05 & -0.07652250 & up\\_down  \\\\\n",
       "\t2 & PRKAR2B    &  2.532669e-05 & -0.06360257 & up\\_down  \\\\\n",
       "\t3 & AC003991.3 & -1.156778e-02 & -0.07652250 & down\\_down\\\\\n",
       "\t4 & MBNL2      & -1.852806e-10 & -0.07652250 & down\\_down\\\\\n",
       "\t5 & BRD4       &  4.087192e-03 & -0.07652250 & up\\_down  \\\\\n",
       "\t6 & SUPT20H    & -3.750842e-02 & -0.07652250 & down\\_down\\\\\n",
       "\\end{tabular}\n"
      ],
      "text/markdown": [
       "\n",
       "A data.frame: 6 × 4\n",
       "\n",
       "| <!--/--> | X &lt;chr&gt; | expr_p_adjs &lt;dbl&gt; | ei_p_adjs &lt;dbl&gt; | all_labels &lt;chr&gt; |\n",
       "|---|---|---|---|---|\n",
       "| 1 | RAB40C     |  4.477316e-05 | -0.07652250 | up_down   |\n",
       "| 2 | PRKAR2B    |  2.532669e-05 | -0.06360257 | up_down   |\n",
       "| 3 | AC003991.3 | -1.156778e-02 | -0.07652250 | down_down |\n",
       "| 4 | MBNL2      | -1.852806e-10 | -0.07652250 | down_down |\n",
       "| 5 | BRD4       |  4.087192e-03 | -0.07652250 | up_down   |\n",
       "| 6 | SUPT20H    | -3.750842e-02 | -0.07652250 | down_down |\n",
       "\n"
      ],
      "text/plain": [
       "  X          expr_p_adjs   ei_p_adjs   all_labels\n",
       "1 RAB40C      4.477316e-05 -0.07652250 up_down   \n",
       "2 PRKAR2B     2.532669e-05 -0.06360257 up_down   \n",
       "3 AC003991.3 -1.156778e-02 -0.07652250 down_down \n",
       "4 MBNL2      -1.852806e-10 -0.07652250 down_down \n",
       "5 BRD4        4.087192e-03 -0.07652250 up_down   \n",
       "6 SUPT20H    -3.750842e-02 -0.07652250 down_down "
      ]
     },
     "metadata": {},
     "output_type": "display_data"
    }
   ],
   "source": [
    "head(asd_de_ei_expr_genes)"
   ]
  },
  {
   "cell_type": "code",
   "execution_count": 26,
   "metadata": {
    "vscode": {
     "languageId": "r"
    }
   },
   "outputs": [],
   "source": [
    "asd_de_ei_expr_gene_WzIso <- intersect(asd_de_ei_expr_genes$X,switchListF$isoformFeatures$gene_id)\n",
    "asd_de_ei_expr_gene_WzDEIso <- intersect(asd_de_ei_expr_genes$X,switchListD$isoformFeatures$gene_id)"
   ]
  },
  {
   "cell_type": "code",
   "execution_count": 27,
   "metadata": {
    "vscode": {
     "languageId": "r"
    }
   },
   "outputs": [
    {
     "data": {
      "text/html": [
       "<style>\n",
       ".list-inline {list-style: none; margin:0; padding: 0}\n",
       ".list-inline>li {display: inline-block}\n",
       ".list-inline>li:not(:last-child)::after {content: \"\\00b7\"; padding: 0 .5ex}\n",
       "</style>\n",
       "<ol class=list-inline><li>'RAB40C'</li><li>'PRKAR2B'</li><li>'MBNL2'</li><li>'BRD4'</li><li>'SUPT20H'</li><li>'C14orf132'</li></ol>\n"
      ],
      "text/latex": [
       "\\begin{enumerate*}\n",
       "\\item 'RAB40C'\n",
       "\\item 'PRKAR2B'\n",
       "\\item 'MBNL2'\n",
       "\\item 'BRD4'\n",
       "\\item 'SUPT20H'\n",
       "\\item 'C14orf132'\n",
       "\\end{enumerate*}\n"
      ],
      "text/markdown": [
       "1. 'RAB40C'\n",
       "2. 'PRKAR2B'\n",
       "3. 'MBNL2'\n",
       "4. 'BRD4'\n",
       "5. 'SUPT20H'\n",
       "6. 'C14orf132'\n",
       "\n",
       "\n"
      ],
      "text/plain": [
       "[1] \"RAB40C\"    \"PRKAR2B\"   \"MBNL2\"     \"BRD4\"      \"SUPT20H\"   \"C14orf132\""
      ]
     },
     "metadata": {},
     "output_type": "display_data"
    },
    {
     "data": {
      "text/html": [
       "'LRRC3B'"
      ],
      "text/latex": [
       "'LRRC3B'"
      ],
      "text/markdown": [
       "'LRRC3B'"
      ],
      "text/plain": [
       "[1] \"LRRC3B\""
      ]
     },
     "metadata": {},
     "output_type": "display_data"
    }
   ],
   "source": [
    "head(asd_de_ei_expr_gene_WzIso)\n",
    "asd_de_ei_expr_gene_WzDEIso"
   ]
  },
  {
   "cell_type": "code",
   "execution_count": 28,
   "metadata": {
    "vscode": {
     "languageId": "r"
    }
   },
   "outputs": [
    {
     "data": {
      "text/html": [
       "<table class=\"dataframe\">\n",
       "<caption>A data.frame: 7 × 30</caption>\n",
       "<thead>\n",
       "\t<tr><th scope=col>iso_ref</th><th scope=col>gene_ref</th><th scope=col>isoform_id</th><th scope=col>gene_id</th><th scope=col>condition_1</th><th scope=col>condition_2</th><th scope=col>gene_name</th><th scope=col>gene_biotype</th><th scope=col>iso_biotype</th><th scope=col>gene_overall_mean</th><th scope=col>⋯</th><th scope=col>iso_stderr_2</th><th scope=col>iso_log2_fold_change</th><th scope=col>iso_q_value</th><th scope=col>IF_overall</th><th scope=col>IF1</th><th scope=col>IF2</th><th scope=col>dIF</th><th scope=col>isoform_switch_q_value</th><th scope=col>gene_switch_q_value</th><th scope=col>PTC</th></tr>\n",
       "\t<tr><th scope=col>&lt;chr&gt;</th><th scope=col>&lt;chr&gt;</th><th scope=col>&lt;chr&gt;</th><th scope=col>&lt;chr&gt;</th><th scope=col>&lt;chr&gt;</th><th scope=col>&lt;chr&gt;</th><th scope=col>&lt;chr&gt;</th><th scope=col>&lt;chr&gt;</th><th scope=col>&lt;chr&gt;</th><th scope=col>&lt;dbl&gt;</th><th scope=col>⋯</th><th scope=col>&lt;dbl&gt;</th><th scope=col>&lt;dbl&gt;</th><th scope=col>&lt;lgl&gt;</th><th scope=col>&lt;dbl&gt;</th><th scope=col>&lt;dbl&gt;</th><th scope=col>&lt;dbl&gt;</th><th scope=col>&lt;dbl&gt;</th><th scope=col>&lt;dbl&gt;</th><th scope=col>&lt;dbl&gt;</th><th scope=col>&lt;lgl&gt;</th></tr>\n",
       "</thead>\n",
       "<tbody>\n",
       "\t<tr><td>isoComp_00076060</td><td>geneComp_00026160</td><td>ENST00000396641.7_3</td><td>LRRC3B</td><td>ASD</td><td>Control</td><td>LRRC3B</td><td>protein_coding</td><td>protein_coding                </td><td>3.668202</td><td>⋯</td><td>0.18971649</td><td>-2.34376214</td><td>NA</td><td>0.17790000</td><td>0.30303333</td><td>0.052766667</td><td>-0.250266667</td><td>0.81146972</td><td>0.02573849</td><td>FALSE</td></tr>\n",
       "\t<tr><td>isoComp_00076061</td><td>geneComp_00026160</td><td>ENST00000414619.1_7</td><td>LRRC3B</td><td>ASD</td><td>Control</td><td>LRRC3B</td><td>protein_coding</td><td>protein_coding                </td><td>3.668202</td><td>⋯</td><td>0.15391725</td><td>-0.92690301</td><td>NA</td><td>0.08870000</td><td>0.10783333</td><td>0.069566667</td><td>-0.038266667</td><td>0.99134410</td><td>0.02573849</td><td>FALSE</td></tr>\n",
       "\t<tr><td>isoComp_00076062</td><td>geneComp_00026160</td><td>ENST00000417744.5_1</td><td>LRRC3B</td><td>ASD</td><td>Control</td><td>LRRC3B</td><td>protein_coding</td><td>protein_coding                </td><td>3.668202</td><td>⋯</td><td>0.34028679</td><td> 6.09946675</td><td>NA</td><td>0.08830000</td><td>0.00000000</td><td>0.176600000</td><td> 0.176600000</td><td>0.02573849</td><td>0.02573849</td><td>FALSE</td></tr>\n",
       "\t<tr><td>isoComp_00076063</td><td>geneComp_00026160</td><td>ENST00000432040.1_5</td><td>LRRC3B</td><td>ASD</td><td>Control</td><td>LRRC3B</td><td>protein_coding</td><td>protein_coding                </td><td>3.668202</td><td>⋯</td><td>0.02942762</td><td>-1.01081860</td><td>NA</td><td>0.01233333</td><td>0.01583333</td><td>0.008833333</td><td>-0.007000000</td><td>1.00000000</td><td>0.02573849</td><td>FALSE</td></tr>\n",
       "\t<tr><td>isoComp_00076064</td><td>geneComp_00026160</td><td>ENST00000456208.2_1</td><td>LRRC3B</td><td>ASD</td><td>Control</td><td>LRRC3B</td><td>protein_coding</td><td>protein_coding                </td><td>3.668202</td><td>⋯</td><td>0.35305235</td><td> 0.01044423</td><td>NA</td><td>0.33116667</td><td>0.28776667</td><td>0.374566667</td><td> 0.086800000</td><td>0.98885559</td><td>0.02573849</td><td>FALSE</td></tr>\n",
       "\t<tr><td>isoComp_00076065</td><td>geneComp_00026160</td><td>ENST00000469437.1_1</td><td>LRRC3B</td><td>ASD</td><td>Control</td><td>LRRC3B</td><td>protein_coding</td><td>protein_coding_CDS_not_defined</td><td>3.668202</td><td>⋯</td><td>0.12273606</td><td> 1.81989618</td><td>NA</td><td>0.02003333</td><td>0.00800000</td><td>0.032066667</td><td> 0.024066667</td><td>0.99781369</td><td>0.02573849</td><td>   NA</td></tr>\n",
       "\t<tr><td>isoComp_00076066</td><td>geneComp_00026160</td><td>ENST00000648296.1_2</td><td>LRRC3B</td><td>ASD</td><td>Control</td><td>LRRC3B</td><td>protein_coding</td><td>nonsense_mediated_decay       </td><td>3.668202</td><td>⋯</td><td>0.08241284</td><td>-0.35003531</td><td>NA</td><td>0.28156667</td><td>0.27753333</td><td>0.285600000</td><td> 0.008066667</td><td>1.00000000</td><td>0.02573849</td><td> TRUE</td></tr>\n",
       "</tbody>\n",
       "</table>\n"
      ],
      "text/latex": [
       "A data.frame: 7 × 30\n",
       "\\begin{tabular}{lllllllllllllllllllll}\n",
       " iso\\_ref & gene\\_ref & isoform\\_id & gene\\_id & condition\\_1 & condition\\_2 & gene\\_name & gene\\_biotype & iso\\_biotype & gene\\_overall\\_mean & ⋯ & iso\\_stderr\\_2 & iso\\_log2\\_fold\\_change & iso\\_q\\_value & IF\\_overall & IF1 & IF2 & dIF & isoform\\_switch\\_q\\_value & gene\\_switch\\_q\\_value & PTC\\\\\n",
       " <chr> & <chr> & <chr> & <chr> & <chr> & <chr> & <chr> & <chr> & <chr> & <dbl> & ⋯ & <dbl> & <dbl> & <lgl> & <dbl> & <dbl> & <dbl> & <dbl> & <dbl> & <dbl> & <lgl>\\\\\n",
       "\\hline\n",
       "\t isoComp\\_00076060 & geneComp\\_00026160 & ENST00000396641.7\\_3 & LRRC3B & ASD & Control & LRRC3B & protein\\_coding & protein\\_coding                 & 3.668202 & ⋯ & 0.18971649 & -2.34376214 & NA & 0.17790000 & 0.30303333 & 0.052766667 & -0.250266667 & 0.81146972 & 0.02573849 & FALSE\\\\\n",
       "\t isoComp\\_00076061 & geneComp\\_00026160 & ENST00000414619.1\\_7 & LRRC3B & ASD & Control & LRRC3B & protein\\_coding & protein\\_coding                 & 3.668202 & ⋯ & 0.15391725 & -0.92690301 & NA & 0.08870000 & 0.10783333 & 0.069566667 & -0.038266667 & 0.99134410 & 0.02573849 & FALSE\\\\\n",
       "\t isoComp\\_00076062 & geneComp\\_00026160 & ENST00000417744.5\\_1 & LRRC3B & ASD & Control & LRRC3B & protein\\_coding & protein\\_coding                 & 3.668202 & ⋯ & 0.34028679 &  6.09946675 & NA & 0.08830000 & 0.00000000 & 0.176600000 &  0.176600000 & 0.02573849 & 0.02573849 & FALSE\\\\\n",
       "\t isoComp\\_00076063 & geneComp\\_00026160 & ENST00000432040.1\\_5 & LRRC3B & ASD & Control & LRRC3B & protein\\_coding & protein\\_coding                 & 3.668202 & ⋯ & 0.02942762 & -1.01081860 & NA & 0.01233333 & 0.01583333 & 0.008833333 & -0.007000000 & 1.00000000 & 0.02573849 & FALSE\\\\\n",
       "\t isoComp\\_00076064 & geneComp\\_00026160 & ENST00000456208.2\\_1 & LRRC3B & ASD & Control & LRRC3B & protein\\_coding & protein\\_coding                 & 3.668202 & ⋯ & 0.35305235 &  0.01044423 & NA & 0.33116667 & 0.28776667 & 0.374566667 &  0.086800000 & 0.98885559 & 0.02573849 & FALSE\\\\\n",
       "\t isoComp\\_00076065 & geneComp\\_00026160 & ENST00000469437.1\\_1 & LRRC3B & ASD & Control & LRRC3B & protein\\_coding & protein\\_coding\\_CDS\\_not\\_defined & 3.668202 & ⋯ & 0.12273606 &  1.81989618 & NA & 0.02003333 & 0.00800000 & 0.032066667 &  0.024066667 & 0.99781369 & 0.02573849 &    NA\\\\\n",
       "\t isoComp\\_00076066 & geneComp\\_00026160 & ENST00000648296.1\\_2 & LRRC3B & ASD & Control & LRRC3B & protein\\_coding & nonsense\\_mediated\\_decay        & 3.668202 & ⋯ & 0.08241284 & -0.35003531 & NA & 0.28156667 & 0.27753333 & 0.285600000 &  0.008066667 & 1.00000000 & 0.02573849 &  TRUE\\\\\n",
       "\\end{tabular}\n"
      ],
      "text/markdown": [
       "\n",
       "A data.frame: 7 × 30\n",
       "\n",
       "| iso_ref &lt;chr&gt; | gene_ref &lt;chr&gt; | isoform_id &lt;chr&gt; | gene_id &lt;chr&gt; | condition_1 &lt;chr&gt; | condition_2 &lt;chr&gt; | gene_name &lt;chr&gt; | gene_biotype &lt;chr&gt; | iso_biotype &lt;chr&gt; | gene_overall_mean &lt;dbl&gt; | ⋯ ⋯ | iso_stderr_2 &lt;dbl&gt; | iso_log2_fold_change &lt;dbl&gt; | iso_q_value &lt;lgl&gt; | IF_overall &lt;dbl&gt; | IF1 &lt;dbl&gt; | IF2 &lt;dbl&gt; | dIF &lt;dbl&gt; | isoform_switch_q_value &lt;dbl&gt; | gene_switch_q_value &lt;dbl&gt; | PTC &lt;lgl&gt; |\n",
       "|---|---|---|---|---|---|---|---|---|---|---|---|---|---|---|---|---|---|---|---|---|\n",
       "| isoComp_00076060 | geneComp_00026160 | ENST00000396641.7_3 | LRRC3B | ASD | Control | LRRC3B | protein_coding | protein_coding                 | 3.668202 | ⋯ | 0.18971649 | -2.34376214 | NA | 0.17790000 | 0.30303333 | 0.052766667 | -0.250266667 | 0.81146972 | 0.02573849 | FALSE |\n",
       "| isoComp_00076061 | geneComp_00026160 | ENST00000414619.1_7 | LRRC3B | ASD | Control | LRRC3B | protein_coding | protein_coding                 | 3.668202 | ⋯ | 0.15391725 | -0.92690301 | NA | 0.08870000 | 0.10783333 | 0.069566667 | -0.038266667 | 0.99134410 | 0.02573849 | FALSE |\n",
       "| isoComp_00076062 | geneComp_00026160 | ENST00000417744.5_1 | LRRC3B | ASD | Control | LRRC3B | protein_coding | protein_coding                 | 3.668202 | ⋯ | 0.34028679 |  6.09946675 | NA | 0.08830000 | 0.00000000 | 0.176600000 |  0.176600000 | 0.02573849 | 0.02573849 | FALSE |\n",
       "| isoComp_00076063 | geneComp_00026160 | ENST00000432040.1_5 | LRRC3B | ASD | Control | LRRC3B | protein_coding | protein_coding                 | 3.668202 | ⋯ | 0.02942762 | -1.01081860 | NA | 0.01233333 | 0.01583333 | 0.008833333 | -0.007000000 | 1.00000000 | 0.02573849 | FALSE |\n",
       "| isoComp_00076064 | geneComp_00026160 | ENST00000456208.2_1 | LRRC3B | ASD | Control | LRRC3B | protein_coding | protein_coding                 | 3.668202 | ⋯ | 0.35305235 |  0.01044423 | NA | 0.33116667 | 0.28776667 | 0.374566667 |  0.086800000 | 0.98885559 | 0.02573849 | FALSE |\n",
       "| isoComp_00076065 | geneComp_00026160 | ENST00000469437.1_1 | LRRC3B | ASD | Control | LRRC3B | protein_coding | protein_coding_CDS_not_defined | 3.668202 | ⋯ | 0.12273606 |  1.81989618 | NA | 0.02003333 | 0.00800000 | 0.032066667 |  0.024066667 | 0.99781369 | 0.02573849 |    NA |\n",
       "| isoComp_00076066 | geneComp_00026160 | ENST00000648296.1_2 | LRRC3B | ASD | Control | LRRC3B | protein_coding | nonsense_mediated_decay        | 3.668202 | ⋯ | 0.08241284 | -0.35003531 | NA | 0.28156667 | 0.27753333 | 0.285600000 |  0.008066667 | 1.00000000 | 0.02573849 |  TRUE |\n",
       "\n"
      ],
      "text/plain": [
       "  iso_ref          gene_ref          isoform_id          gene_id condition_1\n",
       "1 isoComp_00076060 geneComp_00026160 ENST00000396641.7_3 LRRC3B  ASD        \n",
       "2 isoComp_00076061 geneComp_00026160 ENST00000414619.1_7 LRRC3B  ASD        \n",
       "3 isoComp_00076062 geneComp_00026160 ENST00000417744.5_1 LRRC3B  ASD        \n",
       "4 isoComp_00076063 geneComp_00026160 ENST00000432040.1_5 LRRC3B  ASD        \n",
       "5 isoComp_00076064 geneComp_00026160 ENST00000456208.2_1 LRRC3B  ASD        \n",
       "6 isoComp_00076065 geneComp_00026160 ENST00000469437.1_1 LRRC3B  ASD        \n",
       "7 isoComp_00076066 geneComp_00026160 ENST00000648296.1_2 LRRC3B  ASD        \n",
       "  condition_2 gene_name gene_biotype   iso_biotype                   \n",
       "1 Control     LRRC3B    protein_coding protein_coding                \n",
       "2 Control     LRRC3B    protein_coding protein_coding                \n",
       "3 Control     LRRC3B    protein_coding protein_coding                \n",
       "4 Control     LRRC3B    protein_coding protein_coding                \n",
       "5 Control     LRRC3B    protein_coding protein_coding                \n",
       "6 Control     LRRC3B    protein_coding protein_coding_CDS_not_defined\n",
       "7 Control     LRRC3B    protein_coding nonsense_mediated_decay       \n",
       "  gene_overall_mean ⋯ iso_stderr_2 iso_log2_fold_change iso_q_value IF_overall\n",
       "1 3.668202          ⋯ 0.18971649   -2.34376214          NA          0.17790000\n",
       "2 3.668202          ⋯ 0.15391725   -0.92690301          NA          0.08870000\n",
       "3 3.668202          ⋯ 0.34028679    6.09946675          NA          0.08830000\n",
       "4 3.668202          ⋯ 0.02942762   -1.01081860          NA          0.01233333\n",
       "5 3.668202          ⋯ 0.35305235    0.01044423          NA          0.33116667\n",
       "6 3.668202          ⋯ 0.12273606    1.81989618          NA          0.02003333\n",
       "7 3.668202          ⋯ 0.08241284   -0.35003531          NA          0.28156667\n",
       "  IF1        IF2         dIF          isoform_switch_q_value\n",
       "1 0.30303333 0.052766667 -0.250266667 0.81146972            \n",
       "2 0.10783333 0.069566667 -0.038266667 0.99134410            \n",
       "3 0.00000000 0.176600000  0.176600000 0.02573849            \n",
       "4 0.01583333 0.008833333 -0.007000000 1.00000000            \n",
       "5 0.28776667 0.374566667  0.086800000 0.98885559            \n",
       "6 0.00800000 0.032066667  0.024066667 0.99781369            \n",
       "7 0.27753333 0.285600000  0.008066667 1.00000000            \n",
       "  gene_switch_q_value PTC  \n",
       "1 0.02573849          FALSE\n",
       "2 0.02573849          FALSE\n",
       "3 0.02573849          FALSE\n",
       "4 0.02573849          FALSE\n",
       "5 0.02573849          FALSE\n",
       "6 0.02573849             NA\n",
       "7 0.02573849           TRUE"
      ]
     },
     "metadata": {},
     "output_type": "display_data"
    }
   ],
   "source": [
    "switchListD$isoformFeatures %>% \n",
    "  dplyr::filter(gene_id==\"LRRC3B\")"
   ]
  },
  {
   "cell_type": "code",
   "execution_count": null,
   "metadata": {
    "vscode": {
     "languageId": "r"
    }
   },
   "outputs": [
    {
     "name": "stderr",
     "output_type": "stream",
     "text": [
      "Omitting toplogy visualization as it has not been added. You can add this analysis through analyzeDeepTMHMM(). To avoid this message set \"plotTopology=FALSE\"\n",
      "\n"
     ]
    },
    {
     "data": {
      "image/png": "[encoded data removed]",
      "text/plain": [
       "plot without title"
      ]
     },
     "metadata": {},
     "output_type": "display_data"
    }
   ],
   "source": [
    "switchPlot(switchListD, gene = 'ACSL6',\n",
    "           condition1=\"ASD\",\n",
    "           condition2=\"Control\")"
   ]
  },
  {
   "cell_type": "code",
   "execution_count": null,
   "metadata": {
    "vscode": {
     "languageId": "r"
    }
   },
   "outputs": [
    {
     "data": {
      "image/png": "[encoded data removed]",
      "text/plain": [
       "plot without title"
      ]
     },
     "metadata": {},
     "output_type": "display_data"
    }
   ],
   "source": [
    "ggplot(data=switchListD$isoformFeatures, aes(x=dIF, y=-log10(isoform_switch_q_value))) +\n",
    "  geom_point(\n",
    "    aes( color=abs(dIF) > 0.1 & isoform_switch_q_value < 0.05 ), # default cutoff\n",
    "    size=1\n",
    "  ) +\n",
    "  geom_hline(yintercept = -log10(0.05), linetype='dashed') + # default cutoff\n",
    "  geom_vline(xintercept = c(-0.1, 0.1), linetype='dashed') + # default cutoff\n",
    "  scale_color_manual('Signficant\\nIsoform Switch', values = c('black','red')) +\n",
    "  labs(x='dIF', y='-Log10 ( Isoform Switch Q Value )') +\n",
    "  theme_bw()\n"
   ]
  },
  {
   "cell_type": "code",
   "execution_count": null,
   "metadata": {
    "vscode": {
     "languageId": "r"
    }
   },
   "outputs": [
    {
     "data": {
      "text/html": [
       "<style>\n",
       ".list-inline {list-style: none; margin:0; padding: 0}\n",
       ".list-inline>li {display: inline-block}\n",
       ".list-inline>li:not(:last-child)::after {content: \"\\00b7\"; padding: 0 .5ex}\n",
       "</style>\n",
       "<ol class=list-inline><li>587</li><li>30</li></ol>\n"
      ],
      "text/latex": [
       "\\begin{enumerate*}\n",
       "\\item 587\n",
       "\\item 30\n",
       "\\end{enumerate*}\n"
      ],
      "text/markdown": [
       "1. 587\n",
       "2. 30\n",
       "\n",
       "\n"
      ],
      "text/plain": [
       "[1] 587  30"
      ]
     },
     "metadata": {},
     "output_type": "display_data"
    },
    {
     "data": {
      "text/html": [
       "587"
      ],
      "text/latex": [
       "587"
      ],
      "text/markdown": [
       "587"
      ],
      "text/plain": [
       "[1] 587"
      ]
     },
     "metadata": {},
     "output_type": "display_data"
    },
    {
     "data": {
      "text/plain": [
       "GRanges object with 6 ranges and 3 metadata columns:\n",
       "      seqnames            ranges strand |          isoform_id         gene_id\n",
       "         <Rle>         <IRanges>  <Rle> |         <character>     <character>\n",
       "  [1]     chr1 46899499-46899619      + | ENST00000606395.1_2 ENSG00000291138\n",
       "  [2]     chr1 46900879-46900920      + | ENST00000606395.1_2 ENSG00000291138\n",
       "  [3]     chr1 46901584-46901708      + | ENST00000606395.1_2 ENSG00000291138\n",
       "  [4]     chr1 46901796-46902125      + | ENST00000606395.1_2 ENSG00000291138\n",
       "  [5]     chr1 46901817-46901920      + | ENST00000429784.2_2 ENSG00000291138\n",
       "  [6]     chr1 46905195-46905249      + | ENST00000429784.2_2 ENSG00000291138\n",
       "            gene_name\n",
       "          <character>\n",
       "  [1] ENSG00000291138\n",
       "  [2] ENSG00000291138\n",
       "  [3] ENSG00000291138\n",
       "  [4] ENSG00000291138\n",
       "  [5] ENSG00000291138\n",
       "  [6] ENSG00000291138\n",
       "  -------\n",
       "  seqinfo: 25 sequences from an unspecified genome; no seqlengths"
      ]
     },
     "metadata": {},
     "output_type": "display_data"
    }
   ],
   "source": [
    "dim(switchListD$isoformFeatures)\n",
    "length(unique(switchListD$isoformFeatures$isoform_id))\n",
    "head(switchListD$exons)"
   ]
  },
  {
   "cell_type": "code",
   "execution_count": null,
   "metadata": {
    "vscode": {
     "languageId": "r"
    }
   },
   "outputs": [],
   "source": [
    "#将差异表达isoform提取成表格\n",
    "attach(switchListD$isoformFeatures)\n",
    "de_isoform <- switchListD$isoformFeatures[abs(dIF) > 0.1 & isoform_switch_q_value < 0.05,]"
   ]
  },
  {
   "cell_type": "code",
   "execution_count": null,
   "metadata": {
    "vscode": {
     "languageId": "r"
    }
   },
   "outputs": [
    {
     "data": {
      "text/html": [
       "<style>\n",
       ".list-inline {list-style: none; margin:0; padding: 0}\n",
       ".list-inline>li {display: inline-block}\n",
       ".list-inline>li:not(:last-child)::after {content: \"\\00b7\"; padding: 0 .5ex}\n",
       "</style>\n",
       "<ol class=list-inline><li>125</li><li>30</li></ol>\n"
      ],
      "text/latex": [
       "\\begin{enumerate*}\n",
       "\\item 125\n",
       "\\item 30\n",
       "\\end{enumerate*}\n"
      ],
      "text/markdown": [
       "1. 125\n",
       "2. 30\n",
       "\n",
       "\n"
      ],
      "text/plain": [
       "[1] 125  30"
      ]
     },
     "metadata": {},
     "output_type": "display_data"
    }
   ],
   "source": [
    "dim(de_isoform)\n",
    "#write.csv(de_isoform,\"/disk1/wenqing/tmp_data/ASD/deEx_isoform.csv\",quote=F)"
   ]
  },
  {
   "cell_type": "code",
   "execution_count": null,
   "metadata": {
    "vscode": {
     "languageId": "r"
    }
   },
   "outputs": [
    {
     "data": {
      "text/html": [
       "<table class=\"dataframe\">\n",
       "<caption>A data.frame: 6 × 30</caption>\n",
       "<thead>\n",
       "\t<tr><th></th><th scope=col>iso_ref</th><th scope=col>gene_ref</th><th scope=col>isoform_id</th><th scope=col>gene_id</th><th scope=col>condition_1</th><th scope=col>condition_2</th><th scope=col>gene_name</th><th scope=col>gene_biotype</th><th scope=col>iso_biotype</th><th scope=col>gene_overall_mean</th><th scope=col>⋯</th><th scope=col>iso_stderr_2</th><th scope=col>iso_log2_fold_change</th><th scope=col>iso_q_value</th><th scope=col>IF_overall</th><th scope=col>IF1</th><th scope=col>IF2</th><th scope=col>dIF</th><th scope=col>isoform_switch_q_value</th><th scope=col>gene_switch_q_value</th><th scope=col>PTC</th></tr>\n",
       "\t<tr><th></th><th scope=col>&lt;chr&gt;</th><th scope=col>&lt;chr&gt;</th><th scope=col>&lt;chr&gt;</th><th scope=col>&lt;chr&gt;</th><th scope=col>&lt;chr&gt;</th><th scope=col>&lt;chr&gt;</th><th scope=col>&lt;chr&gt;</th><th scope=col>&lt;chr&gt;</th><th scope=col>&lt;chr&gt;</th><th scope=col>&lt;dbl&gt;</th><th scope=col>⋯</th><th scope=col>&lt;dbl&gt;</th><th scope=col>&lt;dbl&gt;</th><th scope=col>&lt;lgl&gt;</th><th scope=col>&lt;dbl&gt;</th><th scope=col>&lt;dbl&gt;</th><th scope=col>&lt;dbl&gt;</th><th scope=col>&lt;dbl&gt;</th><th scope=col>&lt;dbl&gt;</th><th scope=col>&lt;dbl&gt;</th><th scope=col>&lt;lgl&gt;</th></tr>\n",
       "</thead>\n",
       "<tbody>\n",
       "\t<tr><th scope=row>117218</th><td>isoComp_00000023</td><td>geneComp_00000007</td><td>ENST00000648157.1_1</td><td>A2M-AS1</td><td>ASD</td><td>Control</td><td>A2M-AS1</td><td>lncRNA        </td><td>lncRNA         </td><td> 2.04373</td><td>⋯</td><td>0.35615602</td><td> 0.07240242</td><td>NA</td><td>0.87073333</td><td>0.81510000</td><td>0.92636667</td><td> 0.11126667</td><td>6.528526e-01</td><td>3.487953e-06</td><td>   NA</td></tr>\n",
       "\t<tr><th scope=row>117219</th><td>isoComp_00000024</td><td>geneComp_00000007</td><td>ENST00000667950.1_2</td><td>A2M-AS1</td><td>ASD</td><td>Control</td><td>A2M-AS1</td><td>lncRNA        </td><td>lncRNA         </td><td> 2.04373</td><td>⋯</td><td>0.09214425</td><td> 4.06859677</td><td>NA</td><td>0.03426667</td><td>0.00000000</td><td>0.06853333</td><td> 0.06853333</td><td>5.463666e-01</td><td>3.487953e-06</td><td>   NA</td></tr>\n",
       "\t<tr><th scope=row>117220</th><td>isoComp_00000025</td><td>geneComp_00000007</td><td>ENST00000670582.1_1</td><td>A2M-AS1</td><td>ASD</td><td>Control</td><td>A2M-AS1</td><td>lncRNA        </td><td>lncRNA         </td><td> 2.04373</td><td>⋯</td><td>0.00000000</td><td>-5.40781060</td><td>NA</td><td>0.09245000</td><td>0.18490000</td><td>0.00000000</td><td>-0.18490000</td><td>3.487953e-06</td><td>3.487953e-06</td><td>   NA</td></tr>\n",
       "\t<tr><th scope=row>68317</th><td>isoComp_00001614</td><td>geneComp_00000503</td><td>ENST00000357096.5_4</td><td>ACSL6  </td><td>ASD</td><td>Control</td><td>ACSL6  </td><td>protein_coding</td><td>protein_coding </td><td>36.16378</td><td>⋯</td><td>0.48814506</td><td> 1.64819944</td><td>NA</td><td>0.20611667</td><td>0.10056667</td><td>0.31166667</td><td> 0.21110000</td><td>5.255387e-01</td><td>3.824508e-02</td><td>FALSE</td></tr>\n",
       "\t<tr><th scope=row>68320</th><td>isoComp_00001617</td><td>geneComp_00000503</td><td>ENST00000489047.1_3</td><td>ACSL6  </td><td>ASD</td><td>Control</td><td>ACSL6  </td><td>protein_coding</td><td>retained_intron</td><td>36.16378</td><td>⋯</td><td>2.19335783</td><td> 0.05369243</td><td>NA</td><td>0.43408333</td><td>0.41466667</td><td>0.45350000</td><td> 0.03883333</td><td>8.738374e-01</td><td>3.824508e-02</td><td>   NA</td></tr>\n",
       "\t<tr><th scope=row>68321</th><td>isoComp_00001618</td><td>geneComp_00000503</td><td>ENST00000492156.1_3</td><td>ACSL6  </td><td>ASD</td><td>Control</td><td>ACSL6  </td><td>protein_coding</td><td>retained_intron</td><td>36.16378</td><td>⋯</td><td>0.20257117</td><td>-1.64233548</td><td>NA</td><td>0.01248333</td><td>0.01876667</td><td>0.00620000</td><td>-0.01256667</td><td>6.217782e-01</td><td>3.824508e-02</td><td>   NA</td></tr>\n",
       "</tbody>\n",
       "</table>\n"
      ],
      "text/latex": [
       "A data.frame: 6 × 30\n",
       "\\begin{tabular}{r|lllllllllllllllllllll}\n",
       "  & iso\\_ref & gene\\_ref & isoform\\_id & gene\\_id & condition\\_1 & condition\\_2 & gene\\_name & gene\\_biotype & iso\\_biotype & gene\\_overall\\_mean & ⋯ & iso\\_stderr\\_2 & iso\\_log2\\_fold\\_change & iso\\_q\\_value & IF\\_overall & IF1 & IF2 & dIF & isoform\\_switch\\_q\\_value & gene\\_switch\\_q\\_value & PTC\\\\\n",
       "  & <chr> & <chr> & <chr> & <chr> & <chr> & <chr> & <chr> & <chr> & <chr> & <dbl> & ⋯ & <dbl> & <dbl> & <lgl> & <dbl> & <dbl> & <dbl> & <dbl> & <dbl> & <dbl> & <lgl>\\\\\n",
       "\\hline\n",
       "\t117218 & isoComp\\_00000023 & geneComp\\_00000007 & ENST00000648157.1\\_1 & A2M-AS1 & ASD & Control & A2M-AS1 & lncRNA         & lncRNA          &  2.04373 & ⋯ & 0.35615602 &  0.07240242 & NA & 0.87073333 & 0.81510000 & 0.92636667 &  0.11126667 & 6.528526e-01 & 3.487953e-06 &    NA\\\\\n",
       "\t117219 & isoComp\\_00000024 & geneComp\\_00000007 & ENST00000667950.1\\_2 & A2M-AS1 & ASD & Control & A2M-AS1 & lncRNA         & lncRNA          &  2.04373 & ⋯ & 0.09214425 &  4.06859677 & NA & 0.03426667 & 0.00000000 & 0.06853333 &  0.06853333 & 5.463666e-01 & 3.487953e-06 &    NA\\\\\n",
       "\t117220 & isoComp\\_00000025 & geneComp\\_00000007 & ENST00000670582.1\\_1 & A2M-AS1 & ASD & Control & A2M-AS1 & lncRNA         & lncRNA          &  2.04373 & ⋯ & 0.00000000 & -5.40781060 & NA & 0.09245000 & 0.18490000 & 0.00000000 & -0.18490000 & 3.487953e-06 & 3.487953e-06 &    NA\\\\\n",
       "\t68317 & isoComp\\_00001614 & geneComp\\_00000503 & ENST00000357096.5\\_4 & ACSL6   & ASD & Control & ACSL6   & protein\\_coding & protein\\_coding  & 36.16378 & ⋯ & 0.48814506 &  1.64819944 & NA & 0.20611667 & 0.10056667 & 0.31166667 &  0.21110000 & 5.255387e-01 & 3.824508e-02 & FALSE\\\\\n",
       "\t68320 & isoComp\\_00001617 & geneComp\\_00000503 & ENST00000489047.1\\_3 & ACSL6   & ASD & Control & ACSL6   & protein\\_coding & retained\\_intron & 36.16378 & ⋯ & 2.19335783 &  0.05369243 & NA & 0.43408333 & 0.41466667 & 0.45350000 &  0.03883333 & 8.738374e-01 & 3.824508e-02 &    NA\\\\\n",
       "\t68321 & isoComp\\_00001618 & geneComp\\_00000503 & ENST00000492156.1\\_3 & ACSL6   & ASD & Control & ACSL6   & protein\\_coding & retained\\_intron & 36.16378 & ⋯ & 0.20257117 & -1.64233548 & NA & 0.01248333 & 0.01876667 & 0.00620000 & -0.01256667 & 6.217782e-01 & 3.824508e-02 &    NA\\\\\n",
       "\\end{tabular}\n"
      ],
      "text/markdown": [
       "\n",
       "A data.frame: 6 × 30\n",
       "\n",
       "| <!--/--> | iso_ref &lt;chr&gt; | gene_ref &lt;chr&gt; | isoform_id &lt;chr&gt; | gene_id &lt;chr&gt; | condition_1 &lt;chr&gt; | condition_2 &lt;chr&gt; | gene_name &lt;chr&gt; | gene_biotype &lt;chr&gt; | iso_biotype &lt;chr&gt; | gene_overall_mean &lt;dbl&gt; | ⋯ ⋯ | iso_stderr_2 &lt;dbl&gt; | iso_log2_fold_change &lt;dbl&gt; | iso_q_value &lt;lgl&gt; | IF_overall &lt;dbl&gt; | IF1 &lt;dbl&gt; | IF2 &lt;dbl&gt; | dIF &lt;dbl&gt; | isoform_switch_q_value &lt;dbl&gt; | gene_switch_q_value &lt;dbl&gt; | PTC &lt;lgl&gt; |\n",
       "|---|---|---|---|---|---|---|---|---|---|---|---|---|---|---|---|---|---|---|---|---|---|\n",
       "| 117218 | isoComp_00000023 | geneComp_00000007 | ENST00000648157.1_1 | A2M-AS1 | ASD | Control | A2M-AS1 | lncRNA         | lncRNA          |  2.04373 | ⋯ | 0.35615602 |  0.07240242 | NA | 0.87073333 | 0.81510000 | 0.92636667 |  0.11126667 | 6.528526e-01 | 3.487953e-06 |    NA |\n",
       "| 117219 | isoComp_00000024 | geneComp_00000007 | ENST00000667950.1_2 | A2M-AS1 | ASD | Control | A2M-AS1 | lncRNA         | lncRNA          |  2.04373 | ⋯ | 0.09214425 |  4.06859677 | NA | 0.03426667 | 0.00000000 | 0.06853333 |  0.06853333 | 5.463666e-01 | 3.487953e-06 |    NA |\n",
       "| 117220 | isoComp_00000025 | geneComp_00000007 | ENST00000670582.1_1 | A2M-AS1 | ASD | Control | A2M-AS1 | lncRNA         | lncRNA          |  2.04373 | ⋯ | 0.00000000 | -5.40781060 | NA | 0.09245000 | 0.18490000 | 0.00000000 | -0.18490000 | 3.487953e-06 | 3.487953e-06 |    NA |\n",
       "| 68317 | isoComp_00001614 | geneComp_00000503 | ENST00000357096.5_4 | ACSL6   | ASD | Control | ACSL6   | protein_coding | protein_coding  | 36.16378 | ⋯ | 0.48814506 |  1.64819944 | NA | 0.20611667 | 0.10056667 | 0.31166667 |  0.21110000 | 5.255387e-01 | 3.824508e-02 | FALSE |\n",
       "| 68320 | isoComp_00001617 | geneComp_00000503 | ENST00000489047.1_3 | ACSL6   | ASD | Control | ACSL6   | protein_coding | retained_intron | 36.16378 | ⋯ | 2.19335783 |  0.05369243 | NA | 0.43408333 | 0.41466667 | 0.45350000 |  0.03883333 | 8.738374e-01 | 3.824508e-02 |    NA |\n",
       "| 68321 | isoComp_00001618 | geneComp_00000503 | ENST00000492156.1_3 | ACSL6   | ASD | Control | ACSL6   | protein_coding | retained_intron | 36.16378 | ⋯ | 0.20257117 | -1.64233548 | NA | 0.01248333 | 0.01876667 | 0.00620000 | -0.01256667 | 6.217782e-01 | 3.824508e-02 |    NA |\n",
       "\n"
      ],
      "text/plain": [
       "       iso_ref          gene_ref          isoform_id          gene_id\n",
       "117218 isoComp_00000023 geneComp_00000007 ENST00000648157.1_1 A2M-AS1\n",
       "117219 isoComp_00000024 geneComp_00000007 ENST00000667950.1_2 A2M-AS1\n",
       "117220 isoComp_00000025 geneComp_00000007 ENST00000670582.1_1 A2M-AS1\n",
       "68317  isoComp_00001614 geneComp_00000503 ENST00000357096.5_4 ACSL6  \n",
       "68320  isoComp_00001617 geneComp_00000503 ENST00000489047.1_3 ACSL6  \n",
       "68321  isoComp_00001618 geneComp_00000503 ENST00000492156.1_3 ACSL6  \n",
       "       condition_1 condition_2 gene_name gene_biotype   iso_biotype    \n",
       "117218 ASD         Control     A2M-AS1   lncRNA         lncRNA         \n",
       "117219 ASD         Control     A2M-AS1   lncRNA         lncRNA         \n",
       "117220 ASD         Control     A2M-AS1   lncRNA         lncRNA         \n",
       "68317  ASD         Control     ACSL6     protein_coding protein_coding \n",
       "68320  ASD         Control     ACSL6     protein_coding retained_intron\n",
       "68321  ASD         Control     ACSL6     protein_coding retained_intron\n",
       "       gene_overall_mean ⋯ iso_stderr_2 iso_log2_fold_change iso_q_value\n",
       "117218  2.04373          ⋯ 0.35615602    0.07240242          NA         \n",
       "117219  2.04373          ⋯ 0.09214425    4.06859677          NA         \n",
       "117220  2.04373          ⋯ 0.00000000   -5.40781060          NA         \n",
       "68317  36.16378          ⋯ 0.48814506    1.64819944          NA         \n",
       "68320  36.16378          ⋯ 2.19335783    0.05369243          NA         \n",
       "68321  36.16378          ⋯ 0.20257117   -1.64233548          NA         \n",
       "       IF_overall IF1        IF2        dIF         isoform_switch_q_value\n",
       "117218 0.87073333 0.81510000 0.92636667  0.11126667 6.528526e-01          \n",
       "117219 0.03426667 0.00000000 0.06853333  0.06853333 5.463666e-01          \n",
       "117220 0.09245000 0.18490000 0.00000000 -0.18490000 3.487953e-06          \n",
       "68317  0.20611667 0.10056667 0.31166667  0.21110000 5.255387e-01          \n",
       "68320  0.43408333 0.41466667 0.45350000  0.03883333 8.738374e-01          \n",
       "68321  0.01248333 0.01876667 0.00620000 -0.01256667 6.217782e-01          \n",
       "       gene_switch_q_value PTC  \n",
       "117218 3.487953e-06           NA\n",
       "117219 3.487953e-06           NA\n",
       "117220 3.487953e-06           NA\n",
       "68317  3.824508e-02        FALSE\n",
       "68320  3.824508e-02           NA\n",
       "68321  3.824508e-02           NA"
      ]
     },
     "metadata": {},
     "output_type": "display_data"
    }
   ],
   "source": [
    "head(switchListD$isoformFeatures)"
   ]
  },
  {
   "cell_type": "code",
   "execution_count": null,
   "metadata": {
    "vscode": {
     "languageId": "r"
    }
   },
   "outputs": [
    {
     "name": "stderr",
     "output_type": "stream",
     "text": [
      "Step 1 of 3 : Extracting transcript sequences...\n",
      "\n",
      "Step 2 of 3 : Locating potential ORFs...\n",
      "\n"
     ]
    },
    {
     "name": "stdout",
     "output_type": "stream",
     "text": [
      "  |======================================================================| 100%\n"
     ]
    },
    {
     "name": "stderr",
     "output_type": "stream",
     "text": [
      "Step 3 of 3 : Scanning for PTCs...\n",
      "\n",
      "518 putative ORFs were identified, analyzed and added.\n",
      "\n",
      "Done\n",
      "\n"
     ]
    }
   ],
   "source": [
    "switchListO <- analyzeORF(switchListD)"
   ]
  },
  {
   "cell_type": "code",
   "execution_count": null,
   "metadata": {
    "vscode": {
     "languageId": "r"
    }
   },
   "outputs": [
    {
     "data": {
      "text/html": [
       "<table class=\"dataframe\">\n",
       "<caption>A data.frame: 6 × 30</caption>\n",
       "<thead>\n",
       "\t<tr><th></th><th scope=col>iso_ref</th><th scope=col>gene_ref</th><th scope=col>isoform_id</th><th scope=col>gene_id</th><th scope=col>condition_1</th><th scope=col>condition_2</th><th scope=col>gene_name</th><th scope=col>gene_biotype</th><th scope=col>iso_biotype</th><th scope=col>gene_overall_mean</th><th scope=col>⋯</th><th scope=col>iso_stderr_2</th><th scope=col>iso_log2_fold_change</th><th scope=col>iso_q_value</th><th scope=col>IF_overall</th><th scope=col>IF1</th><th scope=col>IF2</th><th scope=col>dIF</th><th scope=col>isoform_switch_q_value</th><th scope=col>gene_switch_q_value</th><th scope=col>PTC</th></tr>\n",
       "\t<tr><th></th><th scope=col>&lt;chr&gt;</th><th scope=col>&lt;chr&gt;</th><th scope=col>&lt;chr&gt;</th><th scope=col>&lt;chr&gt;</th><th scope=col>&lt;chr&gt;</th><th scope=col>&lt;chr&gt;</th><th scope=col>&lt;chr&gt;</th><th scope=col>&lt;chr&gt;</th><th scope=col>&lt;chr&gt;</th><th scope=col>&lt;dbl&gt;</th><th scope=col>⋯</th><th scope=col>&lt;dbl&gt;</th><th scope=col>&lt;dbl&gt;</th><th scope=col>&lt;lgl&gt;</th><th scope=col>&lt;dbl&gt;</th><th scope=col>&lt;dbl&gt;</th><th scope=col>&lt;dbl&gt;</th><th scope=col>&lt;dbl&gt;</th><th scope=col>&lt;dbl&gt;</th><th scope=col>&lt;dbl&gt;</th><th scope=col>&lt;lgl&gt;</th></tr>\n",
       "</thead>\n",
       "<tbody>\n",
       "\t<tr><th scope=row>117218</th><td>isoComp_00000023</td><td>geneComp_00000007</td><td>ENST00000648157.1_1</td><td>A2M-AS1</td><td>ASD</td><td>Control</td><td>A2M-AS1</td><td>lncRNA        </td><td>lncRNA         </td><td> 2.04373</td><td>⋯</td><td>0.35615602</td><td> 0.07240242</td><td>NA</td><td>0.87073333</td><td>0.81510000</td><td>0.92636667</td><td> 0.11126667</td><td>6.528526e-01</td><td>3.487953e-06</td><td> TRUE</td></tr>\n",
       "\t<tr><th scope=row>117219</th><td>isoComp_00000024</td><td>geneComp_00000007</td><td>ENST00000667950.1_2</td><td>A2M-AS1</td><td>ASD</td><td>Control</td><td>A2M-AS1</td><td>lncRNA        </td><td>lncRNA         </td><td> 2.04373</td><td>⋯</td><td>0.09214425</td><td> 4.06859677</td><td>NA</td><td>0.03426667</td><td>0.00000000</td><td>0.06853333</td><td> 0.06853333</td><td>5.463666e-01</td><td>3.487953e-06</td><td>FALSE</td></tr>\n",
       "\t<tr><th scope=row>117220</th><td>isoComp_00000025</td><td>geneComp_00000007</td><td>ENST00000670582.1_1</td><td>A2M-AS1</td><td>ASD</td><td>Control</td><td>A2M-AS1</td><td>lncRNA        </td><td>lncRNA         </td><td> 2.04373</td><td>⋯</td><td>0.00000000</td><td>-5.40781060</td><td>NA</td><td>0.09245000</td><td>0.18490000</td><td>0.00000000</td><td>-0.18490000</td><td>3.487953e-06</td><td>3.487953e-06</td><td>FALSE</td></tr>\n",
       "\t<tr><th scope=row>68317</th><td>isoComp_00001614</td><td>geneComp_00000503</td><td>ENST00000357096.5_4</td><td>ACSL6  </td><td>ASD</td><td>Control</td><td>ACSL6  </td><td>protein_coding</td><td>protein_coding </td><td>36.16378</td><td>⋯</td><td>0.48814506</td><td> 1.64819944</td><td>NA</td><td>0.20611667</td><td>0.10056667</td><td>0.31166667</td><td> 0.21110000</td><td>5.255387e-01</td><td>3.824508e-02</td><td>FALSE</td></tr>\n",
       "\t<tr><th scope=row>68320</th><td>isoComp_00001617</td><td>geneComp_00000503</td><td>ENST00000489047.1_3</td><td>ACSL6  </td><td>ASD</td><td>Control</td><td>ACSL6  </td><td>protein_coding</td><td>retained_intron</td><td>36.16378</td><td>⋯</td><td>2.19335783</td><td> 0.05369243</td><td>NA</td><td>0.43408333</td><td>0.41466667</td><td>0.45350000</td><td> 0.03883333</td><td>8.738374e-01</td><td>3.824508e-02</td><td>FALSE</td></tr>\n",
       "\t<tr><th scope=row>68321</th><td>isoComp_00001618</td><td>geneComp_00000503</td><td>ENST00000492156.1_3</td><td>ACSL6  </td><td>ASD</td><td>Control</td><td>ACSL6  </td><td>protein_coding</td><td>retained_intron</td><td>36.16378</td><td>⋯</td><td>0.20257117</td><td>-1.64233548</td><td>NA</td><td>0.01248333</td><td>0.01876667</td><td>0.00620000</td><td>-0.01256667</td><td>6.217782e-01</td><td>3.824508e-02</td><td>   NA</td></tr>\n",
       "</tbody>\n",
       "</table>\n"
      ],
      "text/latex": [
       "A data.frame: 6 × 30\n",
       "\\begin{tabular}{r|lllllllllllllllllllll}\n",
       "  & iso\\_ref & gene\\_ref & isoform\\_id & gene\\_id & condition\\_1 & condition\\_2 & gene\\_name & gene\\_biotype & iso\\_biotype & gene\\_overall\\_mean & ⋯ & iso\\_stderr\\_2 & iso\\_log2\\_fold\\_change & iso\\_q\\_value & IF\\_overall & IF1 & IF2 & dIF & isoform\\_switch\\_q\\_value & gene\\_switch\\_q\\_value & PTC\\\\\n",
       "  & <chr> & <chr> & <chr> & <chr> & <chr> & <chr> & <chr> & <chr> & <chr> & <dbl> & ⋯ & <dbl> & <dbl> & <lgl> & <dbl> & <dbl> & <dbl> & <dbl> & <dbl> & <dbl> & <lgl>\\\\\n",
       "\\hline\n",
       "\t117218 & isoComp\\_00000023 & geneComp\\_00000007 & ENST00000648157.1\\_1 & A2M-AS1 & ASD & Control & A2M-AS1 & lncRNA         & lncRNA          &  2.04373 & ⋯ & 0.35615602 &  0.07240242 & NA & 0.87073333 & 0.81510000 & 0.92636667 &  0.11126667 & 6.528526e-01 & 3.487953e-06 &  TRUE\\\\\n",
       "\t117219 & isoComp\\_00000024 & geneComp\\_00000007 & ENST00000667950.1\\_2 & A2M-AS1 & ASD & Control & A2M-AS1 & lncRNA         & lncRNA          &  2.04373 & ⋯ & 0.09214425 &  4.06859677 & NA & 0.03426667 & 0.00000000 & 0.06853333 &  0.06853333 & 5.463666e-01 & 3.487953e-06 & FALSE\\\\\n",
       "\t117220 & isoComp\\_00000025 & geneComp\\_00000007 & ENST00000670582.1\\_1 & A2M-AS1 & ASD & Control & A2M-AS1 & lncRNA         & lncRNA          &  2.04373 & ⋯ & 0.00000000 & -5.40781060 & NA & 0.09245000 & 0.18490000 & 0.00000000 & -0.18490000 & 3.487953e-06 & 3.487953e-06 & FALSE\\\\\n",
       "\t68317 & isoComp\\_00001614 & geneComp\\_00000503 & ENST00000357096.5\\_4 & ACSL6   & ASD & Control & ACSL6   & protein\\_coding & protein\\_coding  & 36.16378 & ⋯ & 0.48814506 &  1.64819944 & NA & 0.20611667 & 0.10056667 & 0.31166667 &  0.21110000 & 5.255387e-01 & 3.824508e-02 & FALSE\\\\\n",
       "\t68320 & isoComp\\_00001617 & geneComp\\_00000503 & ENST00000489047.1\\_3 & ACSL6   & ASD & Control & ACSL6   & protein\\_coding & retained\\_intron & 36.16378 & ⋯ & 2.19335783 &  0.05369243 & NA & 0.43408333 & 0.41466667 & 0.45350000 &  0.03883333 & 8.738374e-01 & 3.824508e-02 & FALSE\\\\\n",
       "\t68321 & isoComp\\_00001618 & geneComp\\_00000503 & ENST00000492156.1\\_3 & ACSL6   & ASD & Control & ACSL6   & protein\\_coding & retained\\_intron & 36.16378 & ⋯ & 0.20257117 & -1.64233548 & NA & 0.01248333 & 0.01876667 & 0.00620000 & -0.01256667 & 6.217782e-01 & 3.824508e-02 &    NA\\\\\n",
       "\\end{tabular}\n"
      ],
      "text/markdown": [
       "\n",
       "A data.frame: 6 × 30\n",
       "\n",
       "| <!--/--> | iso_ref &lt;chr&gt; | gene_ref &lt;chr&gt; | isoform_id &lt;chr&gt; | gene_id &lt;chr&gt; | condition_1 &lt;chr&gt; | condition_2 &lt;chr&gt; | gene_name &lt;chr&gt; | gene_biotype &lt;chr&gt; | iso_biotype &lt;chr&gt; | gene_overall_mean &lt;dbl&gt; | ⋯ ⋯ | iso_stderr_2 &lt;dbl&gt; | iso_log2_fold_change &lt;dbl&gt; | iso_q_value &lt;lgl&gt; | IF_overall &lt;dbl&gt; | IF1 &lt;dbl&gt; | IF2 &lt;dbl&gt; | dIF &lt;dbl&gt; | isoform_switch_q_value &lt;dbl&gt; | gene_switch_q_value &lt;dbl&gt; | PTC &lt;lgl&gt; |\n",
       "|---|---|---|---|---|---|---|---|---|---|---|---|---|---|---|---|---|---|---|---|---|---|\n",
       "| 117218 | isoComp_00000023 | geneComp_00000007 | ENST00000648157.1_1 | A2M-AS1 | ASD | Control | A2M-AS1 | lncRNA         | lncRNA          |  2.04373 | ⋯ | 0.35615602 |  0.07240242 | NA | 0.87073333 | 0.81510000 | 0.92636667 |  0.11126667 | 6.528526e-01 | 3.487953e-06 |  TRUE |\n",
       "| 117219 | isoComp_00000024 | geneComp_00000007 | ENST00000667950.1_2 | A2M-AS1 | ASD | Control | A2M-AS1 | lncRNA         | lncRNA          |  2.04373 | ⋯ | 0.09214425 |  4.06859677 | NA | 0.03426667 | 0.00000000 | 0.06853333 |  0.06853333 | 5.463666e-01 | 3.487953e-06 | FALSE |\n",
       "| 117220 | isoComp_00000025 | geneComp_00000007 | ENST00000670582.1_1 | A2M-AS1 | ASD | Control | A2M-AS1 | lncRNA         | lncRNA          |  2.04373 | ⋯ | 0.00000000 | -5.40781060 | NA | 0.09245000 | 0.18490000 | 0.00000000 | -0.18490000 | 3.487953e-06 | 3.487953e-06 | FALSE |\n",
       "| 68317 | isoComp_00001614 | geneComp_00000503 | ENST00000357096.5_4 | ACSL6   | ASD | Control | ACSL6   | protein_coding | protein_coding  | 36.16378 | ⋯ | 0.48814506 |  1.64819944 | NA | 0.20611667 | 0.10056667 | 0.31166667 |  0.21110000 | 5.255387e-01 | 3.824508e-02 | FALSE |\n",
       "| 68320 | isoComp_00001617 | geneComp_00000503 | ENST00000489047.1_3 | ACSL6   | ASD | Control | ACSL6   | protein_coding | retained_intron | 36.16378 | ⋯ | 2.19335783 |  0.05369243 | NA | 0.43408333 | 0.41466667 | 0.45350000 |  0.03883333 | 8.738374e-01 | 3.824508e-02 | FALSE |\n",
       "| 68321 | isoComp_00001618 | geneComp_00000503 | ENST00000492156.1_3 | ACSL6   | ASD | Control | ACSL6   | protein_coding | retained_intron | 36.16378 | ⋯ | 0.20257117 | -1.64233548 | NA | 0.01248333 | 0.01876667 | 0.00620000 | -0.01256667 | 6.217782e-01 | 3.824508e-02 |    NA |\n",
       "\n"
      ],
      "text/plain": [
       "       iso_ref          gene_ref          isoform_id          gene_id\n",
       "117218 isoComp_00000023 geneComp_00000007 ENST00000648157.1_1 A2M-AS1\n",
       "117219 isoComp_00000024 geneComp_00000007 ENST00000667950.1_2 A2M-AS1\n",
       "117220 isoComp_00000025 geneComp_00000007 ENST00000670582.1_1 A2M-AS1\n",
       "68317  isoComp_00001614 geneComp_00000503 ENST00000357096.5_4 ACSL6  \n",
       "68320  isoComp_00001617 geneComp_00000503 ENST00000489047.1_3 ACSL6  \n",
       "68321  isoComp_00001618 geneComp_00000503 ENST00000492156.1_3 ACSL6  \n",
       "       condition_1 condition_2 gene_name gene_biotype   iso_biotype    \n",
       "117218 ASD         Control     A2M-AS1   lncRNA         lncRNA         \n",
       "117219 ASD         Control     A2M-AS1   lncRNA         lncRNA         \n",
       "117220 ASD         Control     A2M-AS1   lncRNA         lncRNA         \n",
       "68317  ASD         Control     ACSL6     protein_coding protein_coding \n",
       "68320  ASD         Control     ACSL6     protein_coding retained_intron\n",
       "68321  ASD         Control     ACSL6     protein_coding retained_intron\n",
       "       gene_overall_mean ⋯ iso_stderr_2 iso_log2_fold_change iso_q_value\n",
       "117218  2.04373          ⋯ 0.35615602    0.07240242          NA         \n",
       "117219  2.04373          ⋯ 0.09214425    4.06859677          NA         \n",
       "117220  2.04373          ⋯ 0.00000000   -5.40781060          NA         \n",
       "68317  36.16378          ⋯ 0.48814506    1.64819944          NA         \n",
       "68320  36.16378          ⋯ 2.19335783    0.05369243          NA         \n",
       "68321  36.16378          ⋯ 0.20257117   -1.64233548          NA         \n",
       "       IF_overall IF1        IF2        dIF         isoform_switch_q_value\n",
       "117218 0.87073333 0.81510000 0.92636667  0.11126667 6.528526e-01          \n",
       "117219 0.03426667 0.00000000 0.06853333  0.06853333 5.463666e-01          \n",
       "117220 0.09245000 0.18490000 0.00000000 -0.18490000 3.487953e-06          \n",
       "68317  0.20611667 0.10056667 0.31166667  0.21110000 5.255387e-01          \n",
       "68320  0.43408333 0.41466667 0.45350000  0.03883333 8.738374e-01          \n",
       "68321  0.01248333 0.01876667 0.00620000 -0.01256667 6.217782e-01          \n",
       "       gene_switch_q_value PTC  \n",
       "117218 3.487953e-06         TRUE\n",
       "117219 3.487953e-06        FALSE\n",
       "117220 3.487953e-06        FALSE\n",
       "68317  3.824508e-02        FALSE\n",
       "68320  3.824508e-02        FALSE\n",
       "68321  3.824508e-02           NA"
      ]
     },
     "metadata": {},
     "output_type": "display_data"
    },
    {
     "data": {
      "text/html": [
       "<style>\n",
       ".list-inline {list-style: none; margin:0; padding: 0}\n",
       ".list-inline>li {display: inline-block}\n",
       ".list-inline>li:not(:last-child)::after {content: \"\\00b7\"; padding: 0 .5ex}\n",
       "</style>\n",
       "<ol class=list-inline><li>'isoformFeatures'</li><li>'exons'</li><li>'conditions'</li><li>'designMatrix'</li><li>'sourceId'</li><li>'isoformCountMatrix'</li><li>'isoformRepExpression'</li><li>'runInfo'</li><li>'orfAnalysis'</li><li>'isoformRepIF'</li><li>'ntSequence'</li><li>'isoformSwitchAnalysis'</li></ol>\n"
      ],
      "text/latex": [
       "\\begin{enumerate*}\n",
       "\\item 'isoformFeatures'\n",
       "\\item 'exons'\n",
       "\\item 'conditions'\n",
       "\\item 'designMatrix'\n",
       "\\item 'sourceId'\n",
       "\\item 'isoformCountMatrix'\n",
       "\\item 'isoformRepExpression'\n",
       "\\item 'runInfo'\n",
       "\\item 'orfAnalysis'\n",
       "\\item 'isoformRepIF'\n",
       "\\item 'ntSequence'\n",
       "\\item 'isoformSwitchAnalysis'\n",
       "\\end{enumerate*}\n"
      ],
      "text/markdown": [
       "1. 'isoformFeatures'\n",
       "2. 'exons'\n",
       "3. 'conditions'\n",
       "4. 'designMatrix'\n",
       "5. 'sourceId'\n",
       "6. 'isoformCountMatrix'\n",
       "7. 'isoformRepExpression'\n",
       "8. 'runInfo'\n",
       "9. 'orfAnalysis'\n",
       "10. 'isoformRepIF'\n",
       "11. 'ntSequence'\n",
       "12. 'isoformSwitchAnalysis'\n",
       "\n",
       "\n"
      ],
      "text/plain": [
       " [1] \"isoformFeatures\"       \"exons\"                 \"conditions\"           \n",
       " [4] \"designMatrix\"          \"sourceId\"              \"isoformCountMatrix\"   \n",
       " [7] \"isoformRepExpression\"  \"runInfo\"               \"orfAnalysis\"          \n",
       "[10] \"isoformRepIF\"          \"ntSequence\"            \"isoformSwitchAnalysis\""
      ]
     },
     "metadata": {},
     "output_type": "display_data"
    }
   ],
   "source": [
    "head(switchListO$isoformFeatures)\n",
    "names(switchListO)"
   ]
  },
  {
   "cell_type": "code",
   "execution_count": null,
   "metadata": {
    "vscode": {
     "languageId": "r"
    }
   },
   "outputs": [
    {
     "name": "stderr",
     "output_type": "stream",
     "text": [
      "Step 1 of 3 : Extracting transcript nucleotide sequences...\n",
      "\n",
      "Step 2 of 3 : Extracting ORF AA sequences...\n",
      "\n",
      "Step 3 of 3 : Preparing output...\n",
      "\n",
      "The 'removeLongAAseq' and 'removeShortAAseq' arguments:\n",
      " Removed : 0 isoforms.\n",
      " Trimmed : 0 isoforms (to only contain the first 1000 AA)\n",
      "\n",
      "Done\n",
      "\n"
     ]
    }
   ],
   "source": [
    "#提取转录本的核苷酸序列+氨基酸序列\n",
    "switchListS <- extractSequence(switchListO, pathToOutput=\"/disk1/wenqing/tmp_data/ASD/IsoformSequence\")"
   ]
  },
  {
   "cell_type": "code",
   "execution_count": null,
   "metadata": {
    "vscode": {
     "languageId": "r"
    }
   },
   "outputs": [
    {
     "data": {
      "text/html": [
       "<table class=\"dataframe\">\n",
       "<caption>A data.frame: 1 × 4</caption>\n",
       "<thead>\n",
       "\t<tr><th scope=col>Comparison</th><th scope=col>nrIsoforms</th><th scope=col>nrSwitches</th><th scope=col>nrGenes</th></tr>\n",
       "\t<tr><th scope=col>&lt;chr&gt;</th><th scope=col>&lt;int&gt;</th><th scope=col>&lt;int&gt;</th><th scope=col>&lt;int&gt;</th></tr>\n",
       "</thead>\n",
       "<tbody>\n",
       "\t<tr><td>ASD vs Control</td><td>125</td><td>138</td><td>107</td></tr>\n",
       "</tbody>\n",
       "</table>\n"
      ],
      "text/latex": [
       "A data.frame: 1 × 4\n",
       "\\begin{tabular}{llll}\n",
       " Comparison & nrIsoforms & nrSwitches & nrGenes\\\\\n",
       " <chr> & <int> & <int> & <int>\\\\\n",
       "\\hline\n",
       "\t ASD vs Control & 125 & 138 & 107\\\\\n",
       "\\end{tabular}\n"
      ],
      "text/markdown": [
       "\n",
       "A data.frame: 1 × 4\n",
       "\n",
       "| Comparison &lt;chr&gt; | nrIsoforms &lt;int&gt; | nrSwitches &lt;int&gt; | nrGenes &lt;int&gt; |\n",
       "|---|---|---|---|\n",
       "| ASD vs Control | 125 | 138 | 107 |\n",
       "\n"
      ],
      "text/plain": [
       "  Comparison     nrIsoforms nrSwitches nrGenes\n",
       "1 ASD vs Control 125        138        107    "
      ]
     },
     "metadata": {},
     "output_type": "display_data"
    }
   ],
   "source": [
    "extractSwitchSummary(switchListS)"
   ]
  },
  {
   "cell_type": "code",
   "execution_count": null,
   "metadata": {
    "vscode": {
     "languageId": "r"
    }
   },
   "outputs": [
    {
     "name": "stderr",
     "output_type": "stream",
     "text": [
      "Added coding potential to 587 (100%) transcripts\n",
      "\n"
     ]
    }
   ],
   "source": [
    "#为每个isoform添加coding potential分数\n",
    "switchListC <- analyzeCPAT(switchListS, pathToCPATresultFile=\"/disk1/wenqing/tmp_data/ASD/prepForIso/cpat_res/output1\", codingCutoff=0.364, removeNoncodinORFs=FALSE)\n"
   ]
  },
  {
   "cell_type": "code",
   "execution_count": null,
   "metadata": {
    "vscode": {
     "languageId": "r"
    }
   },
   "outputs": [
    {
     "data": {
      "text/html": [
       "<style>\n",
       ".list-inline {list-style: none; margin:0; padding: 0}\n",
       ".list-inline>li {display: inline-block}\n",
       ".list-inline>li:not(:last-child)::after {content: \"\\00b7\"; padding: 0 .5ex}\n",
       "</style>\n",
       "<ol class=list-inline><li>'isoformFeatures'</li><li>'exons'</li><li>'conditions'</li><li>'designMatrix'</li><li>'sourceId'</li><li>'isoformCountMatrix'</li><li>'isoformRepExpression'</li><li>'runInfo'</li><li>'orfAnalysis'</li><li>'isoformRepIF'</li><li>'ntSequence'</li><li>'isoformSwitchAnalysis'</li><li>'aaSequence'</li></ol>\n"
      ],
      "text/latex": [
       "\\begin{enumerate*}\n",
       "\\item 'isoformFeatures'\n",
       "\\item 'exons'\n",
       "\\item 'conditions'\n",
       "\\item 'designMatrix'\n",
       "\\item 'sourceId'\n",
       "\\item 'isoformCountMatrix'\n",
       "\\item 'isoformRepExpression'\n",
       "\\item 'runInfo'\n",
       "\\item 'orfAnalysis'\n",
       "\\item 'isoformRepIF'\n",
       "\\item 'ntSequence'\n",
       "\\item 'isoformSwitchAnalysis'\n",
       "\\item 'aaSequence'\n",
       "\\end{enumerate*}\n"
      ],
      "text/markdown": [
       "1. 'isoformFeatures'\n",
       "2. 'exons'\n",
       "3. 'conditions'\n",
       "4. 'designMatrix'\n",
       "5. 'sourceId'\n",
       "6. 'isoformCountMatrix'\n",
       "7. 'isoformRepExpression'\n",
       "8. 'runInfo'\n",
       "9. 'orfAnalysis'\n",
       "10. 'isoformRepIF'\n",
       "11. 'ntSequence'\n",
       "12. 'isoformSwitchAnalysis'\n",
       "13. 'aaSequence'\n",
       "\n",
       "\n"
      ],
      "text/plain": [
       " [1] \"isoformFeatures\"       \"exons\"                 \"conditions\"           \n",
       " [4] \"designMatrix\"          \"sourceId\"              \"isoformCountMatrix\"   \n",
       " [7] \"isoformRepExpression\"  \"runInfo\"               \"orfAnalysis\"          \n",
       "[10] \"isoformRepIF\"          \"ntSequence\"            \"isoformSwitchAnalysis\"\n",
       "[13] \"aaSequence\"           "
      ]
     },
     "metadata": {},
     "output_type": "display_data"
    },
    {
     "data": {
      "text/plain": [
       "\n",
       "FALSE  TRUE \n",
       "  467   120 "
      ]
     },
     "metadata": {},
     "output_type": "display_data"
    }
   ],
   "source": [
    "names(switchListC)\n",
    "#str(switchListC$aaSequence)\n",
    "#587个有isoform usage组件差异的isoform仅有120个有coding potential\n",
    "table(switchListC$isoformFeatures$codingPotential)"
   ]
  },
  {
   "cell_type": "code",
   "execution_count": null,
   "metadata": {
    "vscode": {
     "languageId": "r"
    }
   },
   "outputs": [
    {
     "name": "stderr",
     "output_type": "stream",
     "text": [
      "Converting AA coordinats to transcript and genomic coordinats...\n",
      "\n"
     ]
    },
    {
     "name": "stdout",
     "output_type": "stream",
     "text": [
      "  |======================================================================| 100%\n"
     ]
    },
    {
     "name": "stderr",
     "output_type": "stream",
     "text": [
      "Added domain information to 223 (37.99%) transcripts\n",
      "\n"
     ]
    }
   ],
   "source": [
    "#analyzePFAM：添加Prediction of protein domains的结果\n",
    "switchListP <- analyzePFAM(switchListC, pathToPFAMresultFile=\"/disk1/wenqing/tmp_data/ASD/prepForIso/pfam_res/pfam_scan_result.fa\")                            \n"
   ]
  },
  {
   "cell_type": "code",
   "execution_count": null,
   "metadata": {
    "vscode": {
     "languageId": "r"
    }
   },
   "outputs": [
    {
     "data": {
      "text/html": [
       "<style>\n",
       ".list-inline {list-style: none; margin:0; padding: 0}\n",
       ".list-inline>li {display: inline-block}\n",
       ".list-inline>li:not(:last-child)::after {content: \"\\00b7\"; padding: 0 .5ex}\n",
       "</style>\n",
       "<ol class=list-inline><li>'isoformFeatures'</li><li>'exons'</li><li>'conditions'</li><li>'designMatrix'</li><li>'sourceId'</li><li>'isoformCountMatrix'</li><li>'isoformRepExpression'</li><li>'runInfo'</li><li>'orfAnalysis'</li><li>'isoformRepIF'</li><li>'ntSequence'</li><li>'isoformSwitchAnalysis'</li><li>'aaSequence'</li><li>'domainAnalysis'</li></ol>\n"
      ],
      "text/latex": [
       "\\begin{enumerate*}\n",
       "\\item 'isoformFeatures'\n",
       "\\item 'exons'\n",
       "\\item 'conditions'\n",
       "\\item 'designMatrix'\n",
       "\\item 'sourceId'\n",
       "\\item 'isoformCountMatrix'\n",
       "\\item 'isoformRepExpression'\n",
       "\\item 'runInfo'\n",
       "\\item 'orfAnalysis'\n",
       "\\item 'isoformRepIF'\n",
       "\\item 'ntSequence'\n",
       "\\item 'isoformSwitchAnalysis'\n",
       "\\item 'aaSequence'\n",
       "\\item 'domainAnalysis'\n",
       "\\end{enumerate*}\n"
      ],
      "text/markdown": [
       "1. 'isoformFeatures'\n",
       "2. 'exons'\n",
       "3. 'conditions'\n",
       "4. 'designMatrix'\n",
       "5. 'sourceId'\n",
       "6. 'isoformCountMatrix'\n",
       "7. 'isoformRepExpression'\n",
       "8. 'runInfo'\n",
       "9. 'orfAnalysis'\n",
       "10. 'isoformRepIF'\n",
       "11. 'ntSequence'\n",
       "12. 'isoformSwitchAnalysis'\n",
       "13. 'aaSequence'\n",
       "14. 'domainAnalysis'\n",
       "\n",
       "\n"
      ],
      "text/plain": [
       " [1] \"isoformFeatures\"       \"exons\"                 \"conditions\"           \n",
       " [4] \"designMatrix\"          \"sourceId\"              \"isoformCountMatrix\"   \n",
       " [7] \"isoformRepExpression\"  \"runInfo\"               \"orfAnalysis\"          \n",
       "[10] \"isoformRepIF\"          \"ntSequence\"            \"isoformSwitchAnalysis\"\n",
       "[13] \"aaSequence\"            \"domainAnalysis\"       "
      ]
     },
     "metadata": {},
     "output_type": "display_data"
    },
    {
     "data": {
      "text/html": [
       "69"
      ],
      "text/latex": [
       "69"
      ],
      "text/markdown": [
       "69"
      ],
      "text/plain": [
       "[1] 69"
      ]
     },
     "metadata": {},
     "output_type": "display_data"
    },
    {
     "data": {
      "text/plain": [
       "\n",
       " no yes \n",
       "295 223 "
      ]
     },
     "metadata": {},
     "output_type": "display_data"
    },
    {
     "data": {
      "text/html": [
       "<table class=\"dataframe\">\n",
       "<caption>A data.frame: 6 × 19</caption>\n",
       "<thead>\n",
       "\t<tr><th></th><th scope=col>isoform_id</th><th scope=col>hmm_acc</th><th scope=col>hmm_name</th><th scope=col>clan</th><th scope=col>orf_aa_start</th><th scope=col>orf_aa_end</th><th scope=col>type</th><th scope=col>bit_score</th><th scope=col>E_value</th><th scope=col>significant</th><th scope=col>residue</th><th scope=col>domain_isotype</th><th scope=col>domain_isotype_simple</th><th scope=col>transcriptStart</th><th scope=col>transcriptEnd</th><th scope=col>pfamStarExon</th><th scope=col>pfamEndExon</th><th scope=col>pfamStartGenomic</th><th scope=col>pfamEndGenomic</th></tr>\n",
       "\t<tr><th></th><th scope=col>&lt;chr&gt;</th><th scope=col>&lt;chr&gt;</th><th scope=col>&lt;chr&gt;</th><th scope=col>&lt;chr&gt;</th><th scope=col>&lt;int&gt;</th><th scope=col>&lt;int&gt;</th><th scope=col>&lt;chr&gt;</th><th scope=col>&lt;dbl&gt;</th><th scope=col>&lt;dbl&gt;</th><th scope=col>&lt;int&gt;</th><th scope=col>&lt;chr&gt;</th><th scope=col>&lt;chr&gt;</th><th scope=col>&lt;chr&gt;</th><th scope=col>&lt;dbl&gt;</th><th scope=col>&lt;dbl&gt;</th><th scope=col>&lt;int&gt;</th><th scope=col>&lt;int&gt;</th><th scope=col>&lt;dbl&gt;</th><th scope=col>&lt;dbl&gt;</th></tr>\n",
       "</thead>\n",
       "<tbody>\n",
       "\t<tr><th scope=row>1</th><td>ENST00000040663.8_3  </td><td>PF01008.21</td><td>IF-2B     </td><td>CL0063 </td><td> 44</td><td>346</td><td>Family</td><td>263.9</td><td>1.7e-78</td><td>1</td><td>predicted_active_site</td><td>Reference</td><td>Reference    </td><td>197</td><td>1105</td><td>1</td><td>6</td><td>13875532</td><td>13883023</td></tr>\n",
       "\t<tr><th scope=row>2</th><td>ENST00000215531.6_9  </td><td>PF15807.9 </td><td>MAP17     </td><td>No_clan</td><td>  1</td><td>130</td><td>Family</td><td>179.5</td><td>2.6e-53</td><td>1</td><td>NA                   </td><td>Reference</td><td>Reference    </td><td> 63</td><td> 452</td><td>1</td><td>4</td><td> 3480461</td><td> 3474844</td></tr>\n",
       "\t<tr><th scope=row>3</th><td>ENST00000222250.5_5  </td><td>PF00339.33</td><td>Arrestin_N</td><td>CL0135 </td><td>  9</td><td>158</td><td>Domain</td><td>143.5</td><td>5.2e-42</td><td>1</td><td>NA                   </td><td>Reference</td><td>Reference    </td><td>166</td><td> 615</td><td>1</td><td>3</td><td>18119144</td><td>18119912</td></tr>\n",
       "\t<tr><th scope=row>4</th><td>ENST00000222250.5_5  </td><td>PF02752.26</td><td>Arrestin_C</td><td>CL0135 </td><td>180</td><td>307</td><td>Domain</td><td> 96.0</td><td>2.5e-27</td><td>1</td><td>NA                   </td><td>Reference</td><td>Reference    </td><td>679</td><td>1062</td><td>4</td><td>6</td><td>18120449</td><td>18121076</td></tr>\n",
       "\t<tr><th scope=row>5</th><td>ENST00000222390.11_14</td><td>PF00024.30</td><td>PAN_1     </td><td>CL0168 </td><td> 40</td><td>124</td><td>Domain</td><td> 47.3</td><td>1.6e-12</td><td>1</td><td>NA                   </td><td>Insertion</td><td>Non-reference</td><td>194</td><td> 448</td><td>2</td><td>4</td><td>81392159</td><td>81386615</td></tr>\n",
       "\t<tr><th scope=row>6</th><td>ENST00000222390.11_14</td><td>PF00051.22</td><td>Kringle   </td><td>CL0602 </td><td>128</td><td>206</td><td>Domain</td><td> 99.9</td><td>8.7e-29</td><td>1</td><td>NA                   </td><td>Reference</td><td>Reference    </td><td>458</td><td> 694</td><td>4</td><td>5</td><td>81386605</td><td>81381443</td></tr>\n",
       "</tbody>\n",
       "</table>\n"
      ],
      "text/latex": [
       "A data.frame: 6 × 19\n",
       "\\begin{tabular}{r|lllllllllllllllllll}\n",
       "  & isoform\\_id & hmm\\_acc & hmm\\_name & clan & orf\\_aa\\_start & orf\\_aa\\_end & type & bit\\_score & E\\_value & significant & residue & domain\\_isotype & domain\\_isotype\\_simple & transcriptStart & transcriptEnd & pfamStarExon & pfamEndExon & pfamStartGenomic & pfamEndGenomic\\\\\n",
       "  & <chr> & <chr> & <chr> & <chr> & <int> & <int> & <chr> & <dbl> & <dbl> & <int> & <chr> & <chr> & <chr> & <dbl> & <dbl> & <int> & <int> & <dbl> & <dbl>\\\\\n",
       "\\hline\n",
       "\t1 & ENST00000040663.8\\_3   & PF01008.21 & IF-2B      & CL0063  &  44 & 346 & Family & 263.9 & 1.7e-78 & 1 & predicted\\_active\\_site & Reference & Reference     & 197 & 1105 & 1 & 6 & 13875532 & 13883023\\\\\n",
       "\t2 & ENST00000215531.6\\_9   & PF15807.9  & MAP17      & No\\_clan &   1 & 130 & Family & 179.5 & 2.6e-53 & 1 & NA                    & Reference & Reference     &  63 &  452 & 1 & 4 &  3480461 &  3474844\\\\\n",
       "\t3 & ENST00000222250.5\\_5   & PF00339.33 & Arrestin\\_N & CL0135  &   9 & 158 & Domain & 143.5 & 5.2e-42 & 1 & NA                    & Reference & Reference     & 166 &  615 & 1 & 3 & 18119144 & 18119912\\\\\n",
       "\t4 & ENST00000222250.5\\_5   & PF02752.26 & Arrestin\\_C & CL0135  & 180 & 307 & Domain &  96.0 & 2.5e-27 & 1 & NA                    & Reference & Reference     & 679 & 1062 & 4 & 6 & 18120449 & 18121076\\\\\n",
       "\t5 & ENST00000222390.11\\_14 & PF00024.30 & PAN\\_1      & CL0168  &  40 & 124 & Domain &  47.3 & 1.6e-12 & 1 & NA                    & Insertion & Non-reference & 194 &  448 & 2 & 4 & 81392159 & 81386615\\\\\n",
       "\t6 & ENST00000222390.11\\_14 & PF00051.22 & Kringle    & CL0602  & 128 & 206 & Domain &  99.9 & 8.7e-29 & 1 & NA                    & Reference & Reference     & 458 &  694 & 4 & 5 & 81386605 & 81381443\\\\\n",
       "\\end{tabular}\n"
      ],
      "text/markdown": [
       "\n",
       "A data.frame: 6 × 19\n",
       "\n",
       "| <!--/--> | isoform_id &lt;chr&gt; | hmm_acc &lt;chr&gt; | hmm_name &lt;chr&gt; | clan &lt;chr&gt; | orf_aa_start &lt;int&gt; | orf_aa_end &lt;int&gt; | type &lt;chr&gt; | bit_score &lt;dbl&gt; | E_value &lt;dbl&gt; | significant &lt;int&gt; | residue &lt;chr&gt; | domain_isotype &lt;chr&gt; | domain_isotype_simple &lt;chr&gt; | transcriptStart &lt;dbl&gt; | transcriptEnd &lt;dbl&gt; | pfamStarExon &lt;int&gt; | pfamEndExon &lt;int&gt; | pfamStartGenomic &lt;dbl&gt; | pfamEndGenomic &lt;dbl&gt; |\n",
       "|---|---|---|---|---|---|---|---|---|---|---|---|---|---|---|---|---|---|---|---|\n",
       "| 1 | ENST00000040663.8_3   | PF01008.21 | IF-2B      | CL0063  |  44 | 346 | Family | 263.9 | 1.7e-78 | 1 | predicted_active_site | Reference | Reference     | 197 | 1105 | 1 | 6 | 13875532 | 13883023 |\n",
       "| 2 | ENST00000215531.6_9   | PF15807.9  | MAP17      | No_clan |   1 | 130 | Family | 179.5 | 2.6e-53 | 1 | NA                    | Reference | Reference     |  63 |  452 | 1 | 4 |  3480461 |  3474844 |\n",
       "| 3 | ENST00000222250.5_5   | PF00339.33 | Arrestin_N | CL0135  |   9 | 158 | Domain | 143.5 | 5.2e-42 | 1 | NA                    | Reference | Reference     | 166 |  615 | 1 | 3 | 18119144 | 18119912 |\n",
       "| 4 | ENST00000222250.5_5   | PF02752.26 | Arrestin_C | CL0135  | 180 | 307 | Domain |  96.0 | 2.5e-27 | 1 | NA                    | Reference | Reference     | 679 | 1062 | 4 | 6 | 18120449 | 18121076 |\n",
       "| 5 | ENST00000222390.11_14 | PF00024.30 | PAN_1      | CL0168  |  40 | 124 | Domain |  47.3 | 1.6e-12 | 1 | NA                    | Insertion | Non-reference | 194 |  448 | 2 | 4 | 81392159 | 81386615 |\n",
       "| 6 | ENST00000222390.11_14 | PF00051.22 | Kringle    | CL0602  | 128 | 206 | Domain |  99.9 | 8.7e-29 | 1 | NA                    | Reference | Reference     | 458 |  694 | 4 | 5 | 81386605 | 81381443 |\n",
       "\n"
      ],
      "text/plain": [
       "  isoform_id            hmm_acc    hmm_name   clan    orf_aa_start orf_aa_end\n",
       "1 ENST00000040663.8_3   PF01008.21 IF-2B      CL0063   44          346       \n",
       "2 ENST00000215531.6_9   PF15807.9  MAP17      No_clan   1          130       \n",
       "3 ENST00000222250.5_5   PF00339.33 Arrestin_N CL0135    9          158       \n",
       "4 ENST00000222250.5_5   PF02752.26 Arrestin_C CL0135  180          307       \n",
       "5 ENST00000222390.11_14 PF00024.30 PAN_1      CL0168   40          124       \n",
       "6 ENST00000222390.11_14 PF00051.22 Kringle    CL0602  128          206       \n",
       "  type   bit_score E_value significant residue               domain_isotype\n",
       "1 Family 263.9     1.7e-78 1           predicted_active_site Reference     \n",
       "2 Family 179.5     2.6e-53 1           NA                    Reference     \n",
       "3 Domain 143.5     5.2e-42 1           NA                    Reference     \n",
       "4 Domain  96.0     2.5e-27 1           NA                    Reference     \n",
       "5 Domain  47.3     1.6e-12 1           NA                    Insertion     \n",
       "6 Domain  99.9     8.7e-29 1           NA                    Reference     \n",
       "  domain_isotype_simple transcriptStart transcriptEnd pfamStarExon pfamEndExon\n",
       "1 Reference             197             1105          1            6          \n",
       "2 Reference              63              452          1            4          \n",
       "3 Reference             166              615          1            3          \n",
       "4 Reference             679             1062          4            6          \n",
       "5 Non-reference         194              448          2            4          \n",
       "6 Reference             458              694          4            5          \n",
       "  pfamStartGenomic pfamEndGenomic\n",
       "1 13875532         13883023      \n",
       "2  3480461          3474844      \n",
       "3 18119144         18119912      \n",
       "4 18120449         18121076      \n",
       "5 81392159         81386615      \n",
       "6 81386605         81381443      "
      ]
     },
     "metadata": {},
     "output_type": "display_data"
    }
   ],
   "source": [
    "names(switchListP)\n",
    "587-295-223\n",
    "#587个iso中，295个未落在domain中，223落在结构域中，69个信息未知,其中：223个iso所位于的domain有重叠，详见switchListP$domainAnalysis\n",
    "table(switchListP$isoformFeatures$domain_identified)\n",
    "head(switchListP$domainAnalysis)"
   ]
  },
  {
   "cell_type": "code",
   "execution_count": null,
   "metadata": {
    "vscode": {
     "languageId": "r"
    }
   },
   "outputs": [
    {
     "data": {
      "text/plain": [
       "\n",
       " no yes \n",
       "295 223 "
      ]
     },
     "metadata": {},
     "output_type": "display_data"
    }
   ],
   "source": [
    "table(switchListP$isoformFeatures$domain_identified)"
   ]
  },
  {
   "cell_type": "code",
   "execution_count": null,
   "metadata": {
    "vscode": {
     "languageId": "r"
    }
   },
   "outputs": [
    {
     "name": "stderr",
     "output_type": "stream",
     "text": [
      "Step 1 of 3: Massaging data...\n",
      "\n",
      "Step 2 of 3: Analyzing splicing...\n",
      "\n"
     ]
    },
    {
     "name": "stdout",
     "output_type": "stream",
     "text": [
      "  |======================================================================| 100%\n"
     ]
    },
    {
     "name": "stderr",
     "output_type": "stream",
     "text": [
      "Step 3 of 3: Preparing output...\n",
      "\n",
      "Done\n",
      "\n"
     ]
    }
   ],
   "source": [
    "#分析一个isoform是否属于可变剪切的结果\n",
    "#将一个gene的isoform与该gene所有exon组成的pri-mRNA对比，得到该isoform的剪接形式\n",
    "switchListA <- analyzeAlternativeSplicing(switchListP)                                     "
   ]
  },
  {
   "cell_type": "code",
   "execution_count": null,
   "metadata": {
    "vscode": {
     "languageId": "r"
    }
   },
   "outputs": [
    {
     "data": {
      "text/plain": [
       "This switchAnalyzeRlist list contains:\n",
       " 54562 isoforms from 12911 genes\n",
       " 1 comparison from 2 conditions (in total 6 samples)\n",
       "\n",
       "Feature analyzed:\n",
       "[1] \"ORFs, ntSequence\""
      ]
     },
     "metadata": {},
     "output_type": "display_data"
    }
   ],
   "source": [
    "#?analyzeAlternativeSplicing\n",
    "switchListF"
   ]
  },
  {
   "cell_type": "code",
   "execution_count": null,
   "metadata": {
    "vscode": {
     "languageId": "r"
    }
   },
   "outputs": [
    {
     "name": "stderr",
     "output_type": "stream",
     "text": [
      "Step 1 of 3: Massaging data...\n",
      "\n",
      "Step 2 of 3: Analyzing splicing...\n",
      "\n"
     ]
    },
    {
     "name": "stdout",
     "output_type": "stream",
     "text": [
      "  |=================================                                     |  47%"
     ]
    },
    {
     "name": "stderr",
     "output_type": "stream",
     "text": [
      "Warning message in .determineAStypeOverlap(exonInfoPreTranscript, isoformExonInfo, :\n",
      "\"In pairwise comparison - transcripts are not from the same strand, consitter using \"fixCufflinksAnnotationProblem=TRUE\" in prepareCuff() as this probably solves the problem\"\n",
      "Warning message in .determineAStypeOverlap(exonInfoPreTranscript, isoformExonInfo, :\n",
      "\"In pairwise comparison - transcripts are not from the same strand, consitter using \"fixCufflinksAnnotationProblem=TRUE\" in prepareCuff() as this probably solves the problem\"\n"
     ]
    },
    {
     "name": "stdout",
     "output_type": "stream",
     "text": [
      "  |==============================================================        |  88%"
     ]
    },
    {
     "name": "stderr",
     "output_type": "stream",
     "text": [
      "Warning message in .determineAStypeOverlap(exonInfoPreTranscript, isoformExonInfo, :\n",
      "\"In pairwise comparison - transcripts are not from the same strand, consitter using \"fixCufflinksAnnotationProblem=TRUE\" in prepareCuff() as this probably solves the problem\"\n"
     ]
    },
    {
     "name": "stdout",
     "output_type": "stream",
     "text": [
      "  |======================================================================| 100%\n"
     ]
    },
    {
     "name": "stderr",
     "output_type": "stream",
     "text": [
      "Step 3 of 3: Preparing output...\n",
      "\n",
      "Done\n",
      "\n"
     ]
    }
   ],
   "source": [
    "switchListA_F <- analyzeAlternativeSplicing(switchListF,onlySwitchingGenes=F)                                     "
   ]
  },
  {
   "cell_type": "code",
   "execution_count": null,
   "metadata": {
    "vscode": {
     "languageId": "r"
    }
   },
   "outputs": [],
   "source": [
    "names(switchListA_F)\n",
    "head(switchListA_F$isoformFeatures)\n"
   ]
  },
  {
   "cell_type": "code",
   "execution_count": null,
   "metadata": {
    "vscode": {
     "languageId": "r"
    }
   },
   "outputs": [
    {
     "data": {
      "text/html": [
       "6959"
      ],
      "text/latex": [
       "6959"
      ],
      "text/markdown": [
       "6959"
      ],
      "text/plain": [
       "[1] 6959"
      ]
     },
     "metadata": {},
     "output_type": "display_data"
    }
   ],
   "source": [
    "length(switchListA_F$isoformFeatures$isoform_id)-47603"
   ]
  },
  {
   "cell_type": "code",
   "execution_count": null,
   "metadata": {
    "vscode": {
     "languageId": "r"
    }
   },
   "outputs": [
    {
     "data": {
      "text/html": [
       "47603"
      ],
      "text/latex": [
       "47603"
      ],
      "text/markdown": [
       "47603"
      ],
      "text/plain": [
       "[1] 47603"
      ]
     },
     "metadata": {},
     "output_type": "display_data"
    },
    {
     "data": {
      "text/html": [
       "6959"
      ],
      "text/latex": [
       "6959"
      ],
      "text/markdown": [
       "6959"
      ],
      "text/plain": [
       "[1] 6959"
      ]
     },
     "metadata": {},
     "output_type": "display_data"
    }
   ],
   "source": [
    "all_sample_no_IR_iso <- switchListA_F$isoformFeatures$isoform_id[switchListA_F$isoformFeatures$IR==0]\n",
    "length(all_sample_no_IR_iso)\n",
    "all_sample_IR_iso <- switchListA_F$isoformFeatures$isoform_id[switchListA_F$isoformFeatures$IR!=0]\n",
    "length(all_sample_IR_iso)\n"
   ]
  },
  {
   "cell_type": "code",
   "execution_count": null,
   "metadata": {
    "vscode": {
     "languageId": "r"
    }
   },
   "outputs": [
    {
     "data": {
      "text/html": [
       "54562"
      ],
      "text/latex": [
       "54562"
      ],
      "text/markdown": [
       "54562"
      ],
      "text/plain": [
       "[1] 54562"
      ]
     },
     "metadata": {},
     "output_type": "display_data"
    }
   ],
   "source": [
    "length(c(all_sample_no_IR_iso,all_sample_IR_iso))"
   ]
  },
  {
   "cell_type": "code",
   "execution_count": null,
   "metadata": {
    "vscode": {
     "languageId": "r"
    }
   },
   "outputs": [
    {
     "data": {
      "text/html": [
       "<style>\n",
       ".list-inline {list-style: none; margin:0; padding: 0}\n",
       ".list-inline>li {display: inline-block}\n",
       ".list-inline>li:not(:last-child)::after {content: \"\\00b7\"; padding: 0 .5ex}\n",
       "</style>\n",
       "<ol class=list-inline><li>54562</li><li>2</li></ol>\n"
      ],
      "text/latex": [
       "\\begin{enumerate*}\n",
       "\\item 54562\n",
       "\\item 2\n",
       "\\end{enumerate*}\n"
      ],
      "text/markdown": [
       "1. 54562\n",
       "2. 2\n",
       "\n",
       "\n"
      ],
      "text/plain": [
       "[1] 54562     2"
      ]
     },
     "metadata": {},
     "output_type": "display_data"
    }
   ],
   "source": [
    "\n",
    "all_sample_iso <- as.data.frame(cbind(c(all_sample_no_IR_iso,all_sample_IR_iso),c(rep('no_IR',times=47603),rep('with_IR',times=6959))))\n",
    "colnames(all_sample_iso) <- c('iso_id','ir_info')\n",
    "dim(all_sample_iso)"
   ]
  },
  {
   "cell_type": "code",
   "execution_count": null,
   "metadata": {
    "vscode": {
     "languageId": "r"
    }
   },
   "outputs": [],
   "source": [
    "write.table(all_sample_iso,\"/disk1/wenqing/tmp_data/ASD/all_sample_iso.txt\",quote=F,row.names=F)\n"
   ]
  },
  {
   "cell_type": "code",
   "execution_count": null,
   "metadata": {
    "vscode": {
     "languageId": "r"
    }
   },
   "outputs": [
    {
     "data": {
      "text/html": [
       "<style>\n",
       ".list-inline {list-style: none; margin:0; padding: 0}\n",
       ".list-inline>li {display: inline-block}\n",
       ".list-inline>li:not(:last-child)::after {content: \"\\00b7\"; padding: 0 .5ex}\n",
       "</style>\n",
       "<ol class=list-inline><li>'isoformFeatures'</li><li>'exons'</li><li>'conditions'</li><li>'designMatrix'</li><li>'sourceId'</li><li>'isoformCountMatrix'</li><li>'isoformRepExpression'</li><li>'runInfo'</li><li>'orfAnalysis'</li><li>'isoformRepIF'</li><li>'ntSequence'</li><li>'isoformSwitchAnalysis'</li><li>'aaSequence'</li><li>'domainAnalysis'</li><li>'AlternativeSplicingAnalysis'</li></ol>\n"
      ],
      "text/latex": [
       "\\begin{enumerate*}\n",
       "\\item 'isoformFeatures'\n",
       "\\item 'exons'\n",
       "\\item 'conditions'\n",
       "\\item 'designMatrix'\n",
       "\\item 'sourceId'\n",
       "\\item 'isoformCountMatrix'\n",
       "\\item 'isoformRepExpression'\n",
       "\\item 'runInfo'\n",
       "\\item 'orfAnalysis'\n",
       "\\item 'isoformRepIF'\n",
       "\\item 'ntSequence'\n",
       "\\item 'isoformSwitchAnalysis'\n",
       "\\item 'aaSequence'\n",
       "\\item 'domainAnalysis'\n",
       "\\item 'AlternativeSplicingAnalysis'\n",
       "\\end{enumerate*}\n"
      ],
      "text/markdown": [
       "1. 'isoformFeatures'\n",
       "2. 'exons'\n",
       "3. 'conditions'\n",
       "4. 'designMatrix'\n",
       "5. 'sourceId'\n",
       "6. 'isoformCountMatrix'\n",
       "7. 'isoformRepExpression'\n",
       "8. 'runInfo'\n",
       "9. 'orfAnalysis'\n",
       "10. 'isoformRepIF'\n",
       "11. 'ntSequence'\n",
       "12. 'isoformSwitchAnalysis'\n",
       "13. 'aaSequence'\n",
       "14. 'domainAnalysis'\n",
       "15. 'AlternativeSplicingAnalysis'\n",
       "\n",
       "\n"
      ],
      "text/plain": [
       " [1] \"isoformFeatures\"             \"exons\"                      \n",
       " [3] \"conditions\"                  \"designMatrix\"               \n",
       " [5] \"sourceId\"                    \"isoformCountMatrix\"         \n",
       " [7] \"isoformRepExpression\"        \"runInfo\"                    \n",
       " [9] \"orfAnalysis\"                 \"isoformRepIF\"               \n",
       "[11] \"ntSequence\"                  \"isoformSwitchAnalysis\"      \n",
       "[13] \"aaSequence\"                  \"domainAnalysis\"             \n",
       "[15] \"AlternativeSplicingAnalysis\""
      ]
     },
     "metadata": {},
     "output_type": "display_data"
    },
    {
     "data": {
      "text/plain": [
       "\n",
       "  0   1   2   3   4 \n",
       "516  56   8   5   2 "
      ]
     },
     "metadata": {},
     "output_type": "display_data"
    },
    {
     "data": {
      "text/html": [
       "<table class=\"dataframe\">\n",
       "<caption>A data.frame: 6 × 25</caption>\n",
       "<thead>\n",
       "\t<tr><th></th><th scope=col>isoform_id</th><th scope=col>ES</th><th scope=col>ES_genomic_start</th><th scope=col>ES_genomic_end</th><th scope=col>MEE</th><th scope=col>MEE_genomic_start</th><th scope=col>MEE_genomic_end</th><th scope=col>MES</th><th scope=col>MES_genomic_start</th><th scope=col>MES_genomic_end</th><th scope=col>⋯</th><th scope=col>A5_genomic_end</th><th scope=col>A3</th><th scope=col>A3_genomic_start</th><th scope=col>A3_genomic_end</th><th scope=col>ATSS</th><th scope=col>ATSS_genomic_start</th><th scope=col>ATSS_genomic_end</th><th scope=col>ATTS</th><th scope=col>ATTS_genomic_start</th><th scope=col>ATTS_genomic_end</th></tr>\n",
       "\t<tr><th></th><th scope=col>&lt;chr&gt;</th><th scope=col>&lt;dbl&gt;</th><th scope=col>&lt;chr&gt;</th><th scope=col>&lt;chr&gt;</th><th scope=col>&lt;dbl&gt;</th><th scope=col>&lt;chr&gt;</th><th scope=col>&lt;chr&gt;</th><th scope=col>&lt;dbl&gt;</th><th scope=col>&lt;chr&gt;</th><th scope=col>&lt;chr&gt;</th><th scope=col>⋯</th><th scope=col>&lt;chr&gt;</th><th scope=col>&lt;dbl&gt;</th><th scope=col>&lt;chr&gt;</th><th scope=col>&lt;chr&gt;</th><th scope=col>&lt;dbl&gt;</th><th scope=col>&lt;chr&gt;</th><th scope=col>&lt;chr&gt;</th><th scope=col>&lt;dbl&gt;</th><th scope=col>&lt;chr&gt;</th><th scope=col>&lt;chr&gt;</th></tr>\n",
       "</thead>\n",
       "<tbody>\n",
       "\t<tr><th scope=row>1</th><td>ENST00000648157.1_1</td><td>0</td><td>NA       </td><td>NA       </td><td>0</td><td>NA</td><td>NA</td><td>0</td><td>NA                 </td><td>NA                 </td><td>⋯</td><td>NA                 </td><td>0</td><td>NA                 </td><td>NA                 </td><td>1</td><td>9217759                                                                                                                                                                                                </td><td>9217798                                                                                                                                                                                                </td><td>1</td><td>9221280                                                                                                                          </td><td>9221285                                                                                                                          </td></tr>\n",
       "\t<tr><th scope=row>2</th><td>ENST00000667950.1_2</td><td>0</td><td>NA       </td><td>NA       </td><td>0</td><td>NA</td><td>NA</td><td>0</td><td>NA                 </td><td>NA                 </td><td>⋯</td><td>NA                 </td><td>0</td><td>NA                 </td><td>NA                 </td><td>0</td><td>NA                                                                                                                                                                                                     </td><td>NA                                                                                                                                                                                                     </td><td>0</td><td>NA                                                                                                                               </td><td>NA                                                                                                                               </td></tr>\n",
       "\t<tr><th scope=row>3</th><td>ENST00000670582.1_1</td><td>0</td><td>NA       </td><td>NA       </td><td>0</td><td>NA</td><td>NA</td><td>0</td><td>NA                 </td><td>NA                 </td><td>⋯</td><td>NA                 </td><td>0</td><td>NA                 </td><td>NA                 </td><td>1</td><td>9217759                                                                                                                                                                                                </td><td>9217770                                                                                                                                                                                                </td><td>1</td><td>9221258                                                                                                                          </td><td>9221285                                                                                                                          </td></tr>\n",
       "\t<tr><th scope=row>4</th><td>ENST00000357096.5_4</td><td>1</td><td>131347198</td><td>131347351</td><td>0</td><td>NA</td><td>NA</td><td>1</td><td>131310451;131310586</td><td>131310528;131310663</td><td>⋯</td><td>131321100;131329829</td><td>2</td><td>131296314;131309051</td><td>131296638;131309093</td><td>0</td><td>NA                                                                                                                                                                                                     </td><td>NA                                                                                                                                                                                                     </td><td>1</td><td>131285666                                                                                                                        </td><td>131285669                                                                                                                        </td></tr>\n",
       "\t<tr><th scope=row>5</th><td>ENST00000489047.1_3</td><td>0</td><td>NA       </td><td>NA       </td><td>0</td><td>NA</td><td>NA</td><td>0</td><td>NA                 </td><td>NA                 </td><td>⋯</td><td>NA                 </td><td>0</td><td>NA                 </td><td>NA                 </td><td>1</td><td>131323783;131324498;131325100;131325793;131326546;131329724;131347198;131347463                                                                                                                        </td><td>131323919;131324597;131325201;131325857;131326660;131329944;131347351;131347607                                                                                                                        </td><td>1</td><td>131285666;131295229;131296213;131298228;131302109;131303633;131305821;131307243;131308417;131308959;131310451;131310586;131312341</td><td>131290064;131295300;131296638;131298371;131302225;131303721;131305893;131307338;131308551;131309093;131310528;131310663;131312414</td></tr>\n",
       "\t<tr><th scope=row>6</th><td>ENST00000492156.1_3</td><td>0</td><td>NA       </td><td>NA       </td><td>0</td><td>NA</td><td>NA</td><td>0</td><td>NA                 </td><td>NA                 </td><td>⋯</td><td>NA                 </td><td>0</td><td>NA                 </td><td>NA                 </td><td>1</td><td>131298228;131302109;131303633;131305821;131307243;131308417;131308959;131310451;131310586;131312341;131317552;131322515;131323741;131324498;131325100;131325793;131326546;131329724;131347198;131347463</td><td>131298371;131302225;131303721;131305893;131307338;131308551;131309093;131310528;131310663;131312414;131321151;131322547;131323919;131324597;131325201;131325857;131326660;131329944;131347351;131347607</td><td>1</td><td>131285666;131295229                                                                                                              </td><td>131290064;131295266                                                                                                              </td></tr>\n",
       "</tbody>\n",
       "</table>\n"
      ],
      "text/latex": [
       "A data.frame: 6 × 25\n",
       "\\begin{tabular}{r|lllllllllllllllllllll}\n",
       "  & isoform\\_id & ES & ES\\_genomic\\_start & ES\\_genomic\\_end & MEE & MEE\\_genomic\\_start & MEE\\_genomic\\_end & MES & MES\\_genomic\\_start & MES\\_genomic\\_end & ⋯ & A5\\_genomic\\_end & A3 & A3\\_genomic\\_start & A3\\_genomic\\_end & ATSS & ATSS\\_genomic\\_start & ATSS\\_genomic\\_end & ATTS & ATTS\\_genomic\\_start & ATTS\\_genomic\\_end\\\\\n",
       "  & <chr> & <dbl> & <chr> & <chr> & <dbl> & <chr> & <chr> & <dbl> & <chr> & <chr> & ⋯ & <chr> & <dbl> & <chr> & <chr> & <dbl> & <chr> & <chr> & <dbl> & <chr> & <chr>\\\\\n",
       "\\hline\n",
       "\t1 & ENST00000648157.1\\_1 & 0 & NA        & NA        & 0 & NA & NA & 0 & NA                  & NA                  & ⋯ & NA                  & 0 & NA                  & NA                  & 1 & 9217759                                                                                                                                                                                                 & 9217798                                                                                                                                                                                                 & 1 & 9221280                                                                                                                           & 9221285                                                                                                                          \\\\\n",
       "\t2 & ENST00000667950.1\\_2 & 0 & NA        & NA        & 0 & NA & NA & 0 & NA                  & NA                  & ⋯ & NA                  & 0 & NA                  & NA                  & 0 & NA                                                                                                                                                                                                      & NA                                                                                                                                                                                                      & 0 & NA                                                                                                                                & NA                                                                                                                               \\\\\n",
       "\t3 & ENST00000670582.1\\_1 & 0 & NA        & NA        & 0 & NA & NA & 0 & NA                  & NA                  & ⋯ & NA                  & 0 & NA                  & NA                  & 1 & 9217759                                                                                                                                                                                                 & 9217770                                                                                                                                                                                                 & 1 & 9221258                                                                                                                           & 9221285                                                                                                                          \\\\\n",
       "\t4 & ENST00000357096.5\\_4 & 1 & 131347198 & 131347351 & 0 & NA & NA & 1 & 131310451;131310586 & 131310528;131310663 & ⋯ & 131321100;131329829 & 2 & 131296314;131309051 & 131296638;131309093 & 0 & NA                                                                                                                                                                                                      & NA                                                                                                                                                                                                      & 1 & 131285666                                                                                                                         & 131285669                                                                                                                        \\\\\n",
       "\t5 & ENST00000489047.1\\_3 & 0 & NA        & NA        & 0 & NA & NA & 0 & NA                  & NA                  & ⋯ & NA                  & 0 & NA                  & NA                  & 1 & 131323783;131324498;131325100;131325793;131326546;131329724;131347198;131347463                                                                                                                         & 131323919;131324597;131325201;131325857;131326660;131329944;131347351;131347607                                                                                                                         & 1 & 131285666;131295229;131296213;131298228;131302109;131303633;131305821;131307243;131308417;131308959;131310451;131310586;131312341 & 131290064;131295300;131296638;131298371;131302225;131303721;131305893;131307338;131308551;131309093;131310528;131310663;131312414\\\\\n",
       "\t6 & ENST00000492156.1\\_3 & 0 & NA        & NA        & 0 & NA & NA & 0 & NA                  & NA                  & ⋯ & NA                  & 0 & NA                  & NA                  & 1 & 131298228;131302109;131303633;131305821;131307243;131308417;131308959;131310451;131310586;131312341;131317552;131322515;131323741;131324498;131325100;131325793;131326546;131329724;131347198;131347463 & 131298371;131302225;131303721;131305893;131307338;131308551;131309093;131310528;131310663;131312414;131321151;131322547;131323919;131324597;131325201;131325857;131326660;131329944;131347351;131347607 & 1 & 131285666;131295229                                                                                                               & 131290064;131295266                                                                                                              \\\\\n",
       "\\end{tabular}\n"
      ],
      "text/markdown": [
       "\n",
       "A data.frame: 6 × 25\n",
       "\n",
       "| <!--/--> | isoform_id &lt;chr&gt; | ES &lt;dbl&gt; | ES_genomic_start &lt;chr&gt; | ES_genomic_end &lt;chr&gt; | MEE &lt;dbl&gt; | MEE_genomic_start &lt;chr&gt; | MEE_genomic_end &lt;chr&gt; | MES &lt;dbl&gt; | MES_genomic_start &lt;chr&gt; | MES_genomic_end &lt;chr&gt; | ⋯ ⋯ | A5_genomic_end &lt;chr&gt; | A3 &lt;dbl&gt; | A3_genomic_start &lt;chr&gt; | A3_genomic_end &lt;chr&gt; | ATSS &lt;dbl&gt; | ATSS_genomic_start &lt;chr&gt; | ATSS_genomic_end &lt;chr&gt; | ATTS &lt;dbl&gt; | ATTS_genomic_start &lt;chr&gt; | ATTS_genomic_end &lt;chr&gt; |\n",
       "|---|---|---|---|---|---|---|---|---|---|---|---|---|---|---|---|---|---|---|---|---|---|\n",
       "| 1 | ENST00000648157.1_1 | 0 | NA        | NA        | 0 | NA | NA | 0 | NA                  | NA                  | ⋯ | NA                  | 0 | NA                  | NA                  | 1 | 9217759                                                                                                                                                                                                 | 9217798                                                                                                                                                                                                 | 1 | 9221280                                                                                                                           | 9221285                                                                                                                           |\n",
       "| 2 | ENST00000667950.1_2 | 0 | NA        | NA        | 0 | NA | NA | 0 | NA                  | NA                  | ⋯ | NA                  | 0 | NA                  | NA                  | 0 | NA                                                                                                                                                                                                      | NA                                                                                                                                                                                                      | 0 | NA                                                                                                                                | NA                                                                                                                                |\n",
       "| 3 | ENST00000670582.1_1 | 0 | NA        | NA        | 0 | NA | NA | 0 | NA                  | NA                  | ⋯ | NA                  | 0 | NA                  | NA                  | 1 | 9217759                                                                                                                                                                                                 | 9217770                                                                                                                                                                                                 | 1 | 9221258                                                                                                                           | 9221285                                                                                                                           |\n",
       "| 4 | ENST00000357096.5_4 | 1 | 131347198 | 131347351 | 0 | NA | NA | 1 | 131310451;131310586 | 131310528;131310663 | ⋯ | 131321100;131329829 | 2 | 131296314;131309051 | 131296638;131309093 | 0 | NA                                                                                                                                                                                                      | NA                                                                                                                                                                                                      | 1 | 131285666                                                                                                                         | 131285669                                                                                                                         |\n",
       "| 5 | ENST00000489047.1_3 | 0 | NA        | NA        | 0 | NA | NA | 0 | NA                  | NA                  | ⋯ | NA                  | 0 | NA                  | NA                  | 1 | 131323783;131324498;131325100;131325793;131326546;131329724;131347198;131347463                                                                                                                         | 131323919;131324597;131325201;131325857;131326660;131329944;131347351;131347607                                                                                                                         | 1 | 131285666;131295229;131296213;131298228;131302109;131303633;131305821;131307243;131308417;131308959;131310451;131310586;131312341 | 131290064;131295300;131296638;131298371;131302225;131303721;131305893;131307338;131308551;131309093;131310528;131310663;131312414 |\n",
       "| 6 | ENST00000492156.1_3 | 0 | NA        | NA        | 0 | NA | NA | 0 | NA                  | NA                  | ⋯ | NA                  | 0 | NA                  | NA                  | 1 | 131298228;131302109;131303633;131305821;131307243;131308417;131308959;131310451;131310586;131312341;131317552;131322515;131323741;131324498;131325100;131325793;131326546;131329724;131347198;131347463 | 131298371;131302225;131303721;131305893;131307338;131308551;131309093;131310528;131310663;131312414;131321151;131322547;131323919;131324597;131325201;131325857;131326660;131329944;131347351;131347607 | 1 | 131285666;131295229                                                                                                               | 131290064;131295266                                                                                                               |\n",
       "\n"
      ],
      "text/plain": [
       "  isoform_id          ES ES_genomic_start ES_genomic_end MEE MEE_genomic_start\n",
       "1 ENST00000648157.1_1 0  NA               NA             0   NA               \n",
       "2 ENST00000667950.1_2 0  NA               NA             0   NA               \n",
       "3 ENST00000670582.1_1 0  NA               NA             0   NA               \n",
       "4 ENST00000357096.5_4 1  131347198        131347351      0   NA               \n",
       "5 ENST00000489047.1_3 0  NA               NA             0   NA               \n",
       "6 ENST00000492156.1_3 0  NA               NA             0   NA               \n",
       "  MEE_genomic_end MES MES_genomic_start   MES_genomic_end     ⋯\n",
       "1 NA              0   NA                  NA                  ⋯\n",
       "2 NA              0   NA                  NA                  ⋯\n",
       "3 NA              0   NA                  NA                  ⋯\n",
       "4 NA              1   131310451;131310586 131310528;131310663 ⋯\n",
       "5 NA              0   NA                  NA                  ⋯\n",
       "6 NA              0   NA                  NA                  ⋯\n",
       "  A5_genomic_end      A3 A3_genomic_start    A3_genomic_end      ATSS\n",
       "1 NA                  0  NA                  NA                  1   \n",
       "2 NA                  0  NA                  NA                  0   \n",
       "3 NA                  0  NA                  NA                  1   \n",
       "4 131321100;131329829 2  131296314;131309051 131296638;131309093 0   \n",
       "5 NA                  0  NA                  NA                  1   \n",
       "6 NA                  0  NA                  NA                  1   \n",
       "  ATSS_genomic_start                                                                                                                                                                                     \n",
       "1 9217759                                                                                                                                                                                                \n",
       "2 NA                                                                                                                                                                                                     \n",
       "3 9217759                                                                                                                                                                                                \n",
       "4 NA                                                                                                                                                                                                     \n",
       "5 131323783;131324498;131325100;131325793;131326546;131329724;131347198;131347463                                                                                                                        \n",
       "6 131298228;131302109;131303633;131305821;131307243;131308417;131308959;131310451;131310586;131312341;131317552;131322515;131323741;131324498;131325100;131325793;131326546;131329724;131347198;131347463\n",
       "  ATSS_genomic_end                                                                                                                                                                                       \n",
       "1 9217798                                                                                                                                                                                                \n",
       "2 NA                                                                                                                                                                                                     \n",
       "3 9217770                                                                                                                                                                                                \n",
       "4 NA                                                                                                                                                                                                     \n",
       "5 131323919;131324597;131325201;131325857;131326660;131329944;131347351;131347607                                                                                                                        \n",
       "6 131298371;131302225;131303721;131305893;131307338;131308551;131309093;131310528;131310663;131312414;131321151;131322547;131323919;131324597;131325201;131325857;131326660;131329944;131347351;131347607\n",
       "  ATTS\n",
       "1 1   \n",
       "2 0   \n",
       "3 1   \n",
       "4 1   \n",
       "5 1   \n",
       "6 1   \n",
       "  ATTS_genomic_start                                                                                                               \n",
       "1 9221280                                                                                                                          \n",
       "2 NA                                                                                                                               \n",
       "3 9221258                                                                                                                          \n",
       "4 131285666                                                                                                                        \n",
       "5 131285666;131295229;131296213;131298228;131302109;131303633;131305821;131307243;131308417;131308959;131310451;131310586;131312341\n",
       "6 131285666;131295229                                                                                                              \n",
       "  ATTS_genomic_end                                                                                                                 \n",
       "1 9221285                                                                                                                          \n",
       "2 NA                                                                                                                               \n",
       "3 9221285                                                                                                                          \n",
       "4 131285669                                                                                                                        \n",
       "5 131290064;131295300;131296638;131298371;131302225;131303721;131305893;131307338;131308551;131309093;131310528;131310663;131312414\n",
       "6 131290064;131295266                                                                                                              "
      ]
     },
     "metadata": {},
     "output_type": "display_data"
    }
   ],
   "source": [
    "names(switchListA)\n",
    "#switchListA$isoformFeatures$IR列代表：该isoform具有的intron retained的数量\n",
    "table(switchListA$isoformFeatures$IR)\n",
    "head(switchListA$AlternativeSplicingAnalysis)"
   ]
  },
  {
   "cell_type": "code",
   "execution_count": null,
   "metadata": {
    "vscode": {
     "languageId": "r"
    }
   },
   "outputs": [
    {
     "name": "stderr",
     "output_type": "stream",
     "text": [
      "Step 1 of 4: Extracting genes with isoform switches...\n",
      "\n",
      "Step 2 of 4: Analyzing 138 pairwise isoforms comparisons...\n",
      "\n"
     ]
    },
    {
     "name": "stdout",
     "output_type": "stream",
     "text": [
      "  |======================================================================| 100%\n"
     ]
    },
    {
     "name": "stderr",
     "output_type": "stream",
     "text": [
      "Step 3 of 4: Massaging isoforms comparisons results...\n",
      "\n",
      "Step 4 of 4: Preparing output...\n",
      "\n",
      "Identified  genes with containing isoforms switching with functional consequences...\n",
      "\n"
     ]
    }
   ],
   "source": [
    "switchListCQ <- analyzeSwitchConsequences(switchListA, consequencesToAnalyze=c(\"intron_retention\", \"coding_potential\", \"ORF_seq_similarity\", \"NMD_status\", \"domains_identified\"))       "
   ]
  },
  {
   "cell_type": "code",
   "execution_count": null,
   "metadata": {
    "vscode": {
     "languageId": "r"
    }
   },
   "outputs": [
    {
     "data": {
      "text/html": [
       "<style>\n",
       ".list-inline {list-style: none; margin:0; padding: 0}\n",
       ".list-inline>li {display: inline-block}\n",
       ".list-inline>li:not(:last-child)::after {content: \"\\00b7\"; padding: 0 .5ex}\n",
       "</style>\n",
       "<ol class=list-inline><li>'isoformFeatures'</li><li>'exons'</li><li>'conditions'</li><li>'designMatrix'</li><li>'sourceId'</li><li>'isoformCountMatrix'</li><li>'isoformRepExpression'</li><li>'runInfo'</li><li>'orfAnalysis'</li><li>'isoformRepIF'</li><li>'ntSequence'</li><li>'isoformSwitchAnalysis'</li><li>'aaSequence'</li><li>'domainAnalysis'</li><li>'AlternativeSplicingAnalysis'</li><li>'switchConsequence'</li></ol>\n"
      ],
      "text/latex": [
       "\\begin{enumerate*}\n",
       "\\item 'isoformFeatures'\n",
       "\\item 'exons'\n",
       "\\item 'conditions'\n",
       "\\item 'designMatrix'\n",
       "\\item 'sourceId'\n",
       "\\item 'isoformCountMatrix'\n",
       "\\item 'isoformRepExpression'\n",
       "\\item 'runInfo'\n",
       "\\item 'orfAnalysis'\n",
       "\\item 'isoformRepIF'\n",
       "\\item 'ntSequence'\n",
       "\\item 'isoformSwitchAnalysis'\n",
       "\\item 'aaSequence'\n",
       "\\item 'domainAnalysis'\n",
       "\\item 'AlternativeSplicingAnalysis'\n",
       "\\item 'switchConsequence'\n",
       "\\end{enumerate*}\n"
      ],
      "text/markdown": [
       "1. 'isoformFeatures'\n",
       "2. 'exons'\n",
       "3. 'conditions'\n",
       "4. 'designMatrix'\n",
       "5. 'sourceId'\n",
       "6. 'isoformCountMatrix'\n",
       "7. 'isoformRepExpression'\n",
       "8. 'runInfo'\n",
       "9. 'orfAnalysis'\n",
       "10. 'isoformRepIF'\n",
       "11. 'ntSequence'\n",
       "12. 'isoformSwitchAnalysis'\n",
       "13. 'aaSequence'\n",
       "14. 'domainAnalysis'\n",
       "15. 'AlternativeSplicingAnalysis'\n",
       "16. 'switchConsequence'\n",
       "\n",
       "\n"
      ],
      "text/plain": [
       " [1] \"isoformFeatures\"             \"exons\"                      \n",
       " [3] \"conditions\"                  \"designMatrix\"               \n",
       " [5] \"sourceId\"                    \"isoformCountMatrix\"         \n",
       " [7] \"isoformRepExpression\"        \"runInfo\"                    \n",
       " [9] \"orfAnalysis\"                 \"isoformRepIF\"               \n",
       "[11] \"ntSequence\"                  \"isoformSwitchAnalysis\"      \n",
       "[13] \"aaSequence\"                  \"domainAnalysis\"             \n",
       "[15] \"AlternativeSplicingAnalysis\" \"switchConsequence\"          "
      ]
     },
     "metadata": {},
     "output_type": "display_data"
    }
   ],
   "source": [
    "names(switchListCQ)\n"
   ]
  },
  {
   "cell_type": "code",
   "execution_count": null,
   "metadata": {
    "vscode": {
     "languageId": "r"
    }
   },
   "outputs": [
    {
     "data": {
      "text/html": [
       "<table class=\"dataframe\">\n",
       "<caption>A data.frame: 6 × 35</caption>\n",
       "<thead>\n",
       "\t<tr><th></th><th scope=col>iso_ref</th><th scope=col>gene_ref</th><th scope=col>isoform_id</th><th scope=col>gene_id</th><th scope=col>condition_1</th><th scope=col>condition_2</th><th scope=col>gene_name</th><th scope=col>gene_biotype</th><th scope=col>iso_biotype</th><th scope=col>gene_overall_mean</th><th scope=col>⋯</th><th scope=col>IF2</th><th scope=col>dIF</th><th scope=col>isoform_switch_q_value</th><th scope=col>gene_switch_q_value</th><th scope=col>PTC</th><th scope=col>codingPotentialValue</th><th scope=col>codingPotential</th><th scope=col>domain_identified</th><th scope=col>IR</th><th scope=col>switchConsequencesGene</th></tr>\n",
       "\t<tr><th></th><th scope=col>&lt;chr&gt;</th><th scope=col>&lt;chr&gt;</th><th scope=col>&lt;chr&gt;</th><th scope=col>&lt;chr&gt;</th><th scope=col>&lt;chr&gt;</th><th scope=col>&lt;chr&gt;</th><th scope=col>&lt;chr&gt;</th><th scope=col>&lt;chr&gt;</th><th scope=col>&lt;chr&gt;</th><th scope=col>&lt;dbl&gt;</th><th scope=col>⋯</th><th scope=col>&lt;dbl&gt;</th><th scope=col>&lt;dbl&gt;</th><th scope=col>&lt;dbl&gt;</th><th scope=col>&lt;dbl&gt;</th><th scope=col>&lt;lgl&gt;</th><th scope=col>&lt;dbl&gt;</th><th scope=col>&lt;lgl&gt;</th><th scope=col>&lt;chr&gt;</th><th scope=col>&lt;dbl&gt;</th><th scope=col>&lt;lgl&gt;</th></tr>\n",
       "</thead>\n",
       "<tbody>\n",
       "\t<tr><th scope=row>117218</th><td>isoComp_00000023</td><td>geneComp_00000007</td><td>ENST00000648157.1_1</td><td>A2M-AS1</td><td>ASD</td><td>Control</td><td>A2M-AS1</td><td>lncRNA        </td><td>lncRNA         </td><td> 2.04373</td><td>⋯</td><td>0.92636667</td><td> 0.11126667</td><td>6.528526e-01</td><td>3.487953e-06</td><td> TRUE</td><td>0.002311993</td><td>FALSE</td><td>no </td><td>0</td><td>TRUE</td></tr>\n",
       "\t<tr><th scope=row>117219</th><td>isoComp_00000024</td><td>geneComp_00000007</td><td>ENST00000667950.1_2</td><td>A2M-AS1</td><td>ASD</td><td>Control</td><td>A2M-AS1</td><td>lncRNA        </td><td>lncRNA         </td><td> 2.04373</td><td>⋯</td><td>0.06853333</td><td> 0.06853333</td><td>5.463666e-01</td><td>3.487953e-06</td><td>FALSE</td><td>0.004551983</td><td>FALSE</td><td>no </td><td>1</td><td>TRUE</td></tr>\n",
       "\t<tr><th scope=row>117220</th><td>isoComp_00000025</td><td>geneComp_00000007</td><td>ENST00000670582.1_1</td><td>A2M-AS1</td><td>ASD</td><td>Control</td><td>A2M-AS1</td><td>lncRNA        </td><td>lncRNA         </td><td> 2.04373</td><td>⋯</td><td>0.00000000</td><td>-0.18490000</td><td>3.487953e-06</td><td>3.487953e-06</td><td>FALSE</td><td>0.004547452</td><td>FALSE</td><td>no </td><td>1</td><td>TRUE</td></tr>\n",
       "\t<tr><th scope=row>68317</th><td>isoComp_00001614</td><td>geneComp_00000503</td><td>ENST00000357096.5_4</td><td>ACSL6  </td><td>ASD</td><td>Control</td><td>ACSL6  </td><td>protein_coding</td><td>protein_coding </td><td>36.16378</td><td>⋯</td><td>0.31166667</td><td> 0.21110000</td><td>5.255387e-01</td><td>3.824508e-02</td><td>FALSE</td><td>0.962291458</td><td> TRUE</td><td>yes</td><td>0</td><td>TRUE</td></tr>\n",
       "\t<tr><th scope=row>68320</th><td>isoComp_00001617</td><td>geneComp_00000503</td><td>ENST00000489047.1_3</td><td>ACSL6  </td><td>ASD</td><td>Control</td><td>ACSL6  </td><td>protein_coding</td><td>retained_intron</td><td>36.16378</td><td>⋯</td><td>0.45350000</td><td> 0.03883333</td><td>8.738374e-01</td><td>3.824508e-02</td><td>FALSE</td><td>0.011951932</td><td>FALSE</td><td>no </td><td>0</td><td>TRUE</td></tr>\n",
       "\t<tr><th scope=row>68321</th><td>isoComp_00001618</td><td>geneComp_00000503</td><td>ENST00000492156.1_3</td><td>ACSL6  </td><td>ASD</td><td>Control</td><td>ACSL6  </td><td>protein_coding</td><td>retained_intron</td><td>36.16378</td><td>⋯</td><td>0.00620000</td><td>-0.01256667</td><td>6.217782e-01</td><td>3.824508e-02</td><td>   NA</td><td>0.007050468</td><td>FALSE</td><td>NA </td><td>0</td><td>TRUE</td></tr>\n",
       "</tbody>\n",
       "</table>\n"
      ],
      "text/latex": [
       "A data.frame: 6 × 35\n",
       "\\begin{tabular}{r|lllllllllllllllllllll}\n",
       "  & iso\\_ref & gene\\_ref & isoform\\_id & gene\\_id & condition\\_1 & condition\\_2 & gene\\_name & gene\\_biotype & iso\\_biotype & gene\\_overall\\_mean & ⋯ & IF2 & dIF & isoform\\_switch\\_q\\_value & gene\\_switch\\_q\\_value & PTC & codingPotentialValue & codingPotential & domain\\_identified & IR & switchConsequencesGene\\\\\n",
       "  & <chr> & <chr> & <chr> & <chr> & <chr> & <chr> & <chr> & <chr> & <chr> & <dbl> & ⋯ & <dbl> & <dbl> & <dbl> & <dbl> & <lgl> & <dbl> & <lgl> & <chr> & <dbl> & <lgl>\\\\\n",
       "\\hline\n",
       "\t117218 & isoComp\\_00000023 & geneComp\\_00000007 & ENST00000648157.1\\_1 & A2M-AS1 & ASD & Control & A2M-AS1 & lncRNA         & lncRNA          &  2.04373 & ⋯ & 0.92636667 &  0.11126667 & 6.528526e-01 & 3.487953e-06 &  TRUE & 0.002311993 & FALSE & no  & 0 & TRUE\\\\\n",
       "\t117219 & isoComp\\_00000024 & geneComp\\_00000007 & ENST00000667950.1\\_2 & A2M-AS1 & ASD & Control & A2M-AS1 & lncRNA         & lncRNA          &  2.04373 & ⋯ & 0.06853333 &  0.06853333 & 5.463666e-01 & 3.487953e-06 & FALSE & 0.004551983 & FALSE & no  & 1 & TRUE\\\\\n",
       "\t117220 & isoComp\\_00000025 & geneComp\\_00000007 & ENST00000670582.1\\_1 & A2M-AS1 & ASD & Control & A2M-AS1 & lncRNA         & lncRNA          &  2.04373 & ⋯ & 0.00000000 & -0.18490000 & 3.487953e-06 & 3.487953e-06 & FALSE & 0.004547452 & FALSE & no  & 1 & TRUE\\\\\n",
       "\t68317 & isoComp\\_00001614 & geneComp\\_00000503 & ENST00000357096.5\\_4 & ACSL6   & ASD & Control & ACSL6   & protein\\_coding & protein\\_coding  & 36.16378 & ⋯ & 0.31166667 &  0.21110000 & 5.255387e-01 & 3.824508e-02 & FALSE & 0.962291458 &  TRUE & yes & 0 & TRUE\\\\\n",
       "\t68320 & isoComp\\_00001617 & geneComp\\_00000503 & ENST00000489047.1\\_3 & ACSL6   & ASD & Control & ACSL6   & protein\\_coding & retained\\_intron & 36.16378 & ⋯ & 0.45350000 &  0.03883333 & 8.738374e-01 & 3.824508e-02 & FALSE & 0.011951932 & FALSE & no  & 0 & TRUE\\\\\n",
       "\t68321 & isoComp\\_00001618 & geneComp\\_00000503 & ENST00000492156.1\\_3 & ACSL6   & ASD & Control & ACSL6   & protein\\_coding & retained\\_intron & 36.16378 & ⋯ & 0.00620000 & -0.01256667 & 6.217782e-01 & 3.824508e-02 &    NA & 0.007050468 & FALSE & NA  & 0 & TRUE\\\\\n",
       "\\end{tabular}\n"
      ],
      "text/markdown": [
       "\n",
       "A data.frame: 6 × 35\n",
       "\n",
       "| <!--/--> | iso_ref &lt;chr&gt; | gene_ref &lt;chr&gt; | isoform_id &lt;chr&gt; | gene_id &lt;chr&gt; | condition_1 &lt;chr&gt; | condition_2 &lt;chr&gt; | gene_name &lt;chr&gt; | gene_biotype &lt;chr&gt; | iso_biotype &lt;chr&gt; | gene_overall_mean &lt;dbl&gt; | ⋯ ⋯ | IF2 &lt;dbl&gt; | dIF &lt;dbl&gt; | isoform_switch_q_value &lt;dbl&gt; | gene_switch_q_value &lt;dbl&gt; | PTC &lt;lgl&gt; | codingPotentialValue &lt;dbl&gt; | codingPotential &lt;lgl&gt; | domain_identified &lt;chr&gt; | IR &lt;dbl&gt; | switchConsequencesGene &lt;lgl&gt; |\n",
       "|---|---|---|---|---|---|---|---|---|---|---|---|---|---|---|---|---|---|---|---|---|---|\n",
       "| 117218 | isoComp_00000023 | geneComp_00000007 | ENST00000648157.1_1 | A2M-AS1 | ASD | Control | A2M-AS1 | lncRNA         | lncRNA          |  2.04373 | ⋯ | 0.92636667 |  0.11126667 | 6.528526e-01 | 3.487953e-06 |  TRUE | 0.002311993 | FALSE | no  | 0 | TRUE |\n",
       "| 117219 | isoComp_00000024 | geneComp_00000007 | ENST00000667950.1_2 | A2M-AS1 | ASD | Control | A2M-AS1 | lncRNA         | lncRNA          |  2.04373 | ⋯ | 0.06853333 |  0.06853333 | 5.463666e-01 | 3.487953e-06 | FALSE | 0.004551983 | FALSE | no  | 1 | TRUE |\n",
       "| 117220 | isoComp_00000025 | geneComp_00000007 | ENST00000670582.1_1 | A2M-AS1 | ASD | Control | A2M-AS1 | lncRNA         | lncRNA          |  2.04373 | ⋯ | 0.00000000 | -0.18490000 | 3.487953e-06 | 3.487953e-06 | FALSE | 0.004547452 | FALSE | no  | 1 | TRUE |\n",
       "| 68317 | isoComp_00001614 | geneComp_00000503 | ENST00000357096.5_4 | ACSL6   | ASD | Control | ACSL6   | protein_coding | protein_coding  | 36.16378 | ⋯ | 0.31166667 |  0.21110000 | 5.255387e-01 | 3.824508e-02 | FALSE | 0.962291458 |  TRUE | yes | 0 | TRUE |\n",
       "| 68320 | isoComp_00001617 | geneComp_00000503 | ENST00000489047.1_3 | ACSL6   | ASD | Control | ACSL6   | protein_coding | retained_intron | 36.16378 | ⋯ | 0.45350000 |  0.03883333 | 8.738374e-01 | 3.824508e-02 | FALSE | 0.011951932 | FALSE | no  | 0 | TRUE |\n",
       "| 68321 | isoComp_00001618 | geneComp_00000503 | ENST00000492156.1_3 | ACSL6   | ASD | Control | ACSL6   | protein_coding | retained_intron | 36.16378 | ⋯ | 0.00620000 | -0.01256667 | 6.217782e-01 | 3.824508e-02 |    NA | 0.007050468 | FALSE | NA  | 0 | TRUE |\n",
       "\n"
      ],
      "text/plain": [
       "       iso_ref          gene_ref          isoform_id          gene_id\n",
       "117218 isoComp_00000023 geneComp_00000007 ENST00000648157.1_1 A2M-AS1\n",
       "117219 isoComp_00000024 geneComp_00000007 ENST00000667950.1_2 A2M-AS1\n",
       "117220 isoComp_00000025 geneComp_00000007 ENST00000670582.1_1 A2M-AS1\n",
       "68317  isoComp_00001614 geneComp_00000503 ENST00000357096.5_4 ACSL6  \n",
       "68320  isoComp_00001617 geneComp_00000503 ENST00000489047.1_3 ACSL6  \n",
       "68321  isoComp_00001618 geneComp_00000503 ENST00000492156.1_3 ACSL6  \n",
       "       condition_1 condition_2 gene_name gene_biotype   iso_biotype    \n",
       "117218 ASD         Control     A2M-AS1   lncRNA         lncRNA         \n",
       "117219 ASD         Control     A2M-AS1   lncRNA         lncRNA         \n",
       "117220 ASD         Control     A2M-AS1   lncRNA         lncRNA         \n",
       "68317  ASD         Control     ACSL6     protein_coding protein_coding \n",
       "68320  ASD         Control     ACSL6     protein_coding retained_intron\n",
       "68321  ASD         Control     ACSL6     protein_coding retained_intron\n",
       "       gene_overall_mean ⋯ IF2        dIF         isoform_switch_q_value\n",
       "117218  2.04373          ⋯ 0.92636667  0.11126667 6.528526e-01          \n",
       "117219  2.04373          ⋯ 0.06853333  0.06853333 5.463666e-01          \n",
       "117220  2.04373          ⋯ 0.00000000 -0.18490000 3.487953e-06          \n",
       "68317  36.16378          ⋯ 0.31166667  0.21110000 5.255387e-01          \n",
       "68320  36.16378          ⋯ 0.45350000  0.03883333 8.738374e-01          \n",
       "68321  36.16378          ⋯ 0.00620000 -0.01256667 6.217782e-01          \n",
       "       gene_switch_q_value PTC   codingPotentialValue codingPotential\n",
       "117218 3.487953e-06         TRUE 0.002311993          FALSE          \n",
       "117219 3.487953e-06        FALSE 0.004551983          FALSE          \n",
       "117220 3.487953e-06        FALSE 0.004547452          FALSE          \n",
       "68317  3.824508e-02        FALSE 0.962291458           TRUE          \n",
       "68320  3.824508e-02        FALSE 0.011951932          FALSE          \n",
       "68321  3.824508e-02           NA 0.007050468          FALSE          \n",
       "       domain_identified IR switchConsequencesGene\n",
       "117218 no                0  TRUE                  \n",
       "117219 no                1  TRUE                  \n",
       "117220 no                1  TRUE                  \n",
       "68317  yes               0  TRUE                  \n",
       "68320  no                0  TRUE                  \n",
       "68321  NA                0  TRUE                  "
      ]
     },
     "metadata": {},
     "output_type": "display_data"
    },
    {
     "data": {
      "text/html": [
       "<style>\n",
       ".list-inline {list-style: none; margin:0; padding: 0}\n",
       ".list-inline>li {display: inline-block}\n",
       ".list-inline>li:not(:last-child)::after {content: \"\\00b7\"; padding: 0 .5ex}\n",
       "</style>\n",
       "<ol class=list-inline><li>587</li><li>35</li></ol>\n"
      ],
      "text/latex": [
       "\\begin{enumerate*}\n",
       "\\item 587\n",
       "\\item 35\n",
       "\\end{enumerate*}\n"
      ],
      "text/markdown": [
       "1. 587\n",
       "2. 35\n",
       "\n",
       "\n"
      ],
      "text/plain": [
       "[1] 587  35"
      ]
     },
     "metadata": {},
     "output_type": "display_data"
    },
    {
     "data": {
      "text/plain": [
       "\n",
       "  0   1   2   3   4 \n",
       "516  56   8   5   2 "
      ]
     },
     "metadata": {},
     "output_type": "display_data"
    },
    {
     "data": {
      "text/html": [
       "<style>\n",
       ".list-inline {list-style: none; margin:0; padding: 0}\n",
       ".list-inline>li {display: inline-block}\n",
       ".list-inline>li:not(:last-child)::after {content: \"\\00b7\"; padding: 0 .5ex}\n",
       "</style>\n",
       "<ol class=list-inline><li>71</li><li>35</li></ol>\n"
      ],
      "text/latex": [
       "\\begin{enumerate*}\n",
       "\\item 71\n",
       "\\item 35\n",
       "\\end{enumerate*}\n"
      ],
      "text/markdown": [
       "1. 71\n",
       "2. 35\n",
       "\n",
       "\n"
      ],
      "text/plain": [
       "[1] 71 35"
      ]
     },
     "metadata": {},
     "output_type": "display_data"
    }
   ],
   "source": [
    "head(switchListCQ$isoformFeatures)\n",
    "dim(switchListCQ$isoformFeatures)\n",
    "table(switchListCQ$isoformFeatures$IR)\n",
    "dim(switchListCQ$isoformFeatures[switchListCQ$isoformFeatures$IR!=0,])\n",
    "write.csv(switchListCQ$isoformFeatures[switchListCQ$isoformFeatures$IR!=0,],\"/disk1/wenqing/tmp_data/ASD/deEx_isoform_IR.csv\",quote=F)"
   ]
  },
  {
   "cell_type": "code",
   "execution_count": null,
   "metadata": {
    "vscode": {
     "languageId": "r"
    }
   },
   "outputs": [
    {
     "data": {
      "text/html": [
       "<table class=\"dataframe\">\n",
       "<caption>A data.frame: 6 × 12</caption>\n",
       "<thead>\n",
       "\t<tr><th></th><th scope=col>gene_ref</th><th scope=col>gene_id</th><th scope=col>gene_name</th><th scope=col>condition_1</th><th scope=col>condition_2</th><th scope=col>isoformUpregulated</th><th scope=col>isoformDownregulated</th><th scope=col>iso_ref_up</th><th scope=col>iso_ref_down</th><th scope=col>featureCompared</th><th scope=col>isoformsDifferent</th><th scope=col>switchConsequence</th></tr>\n",
       "\t<tr><th></th><th scope=col>&lt;chr&gt;</th><th scope=col>&lt;chr&gt;</th><th scope=col>&lt;chr&gt;</th><th scope=col>&lt;chr&gt;</th><th scope=col>&lt;chr&gt;</th><th scope=col>&lt;chr&gt;</th><th scope=col>&lt;chr&gt;</th><th scope=col>&lt;chr&gt;</th><th scope=col>&lt;chr&gt;</th><th scope=col>&lt;chr&gt;</th><th scope=col>&lt;lgl&gt;</th><th scope=col>&lt;chr&gt;</th></tr>\n",
       "</thead>\n",
       "<tbody>\n",
       "\t<tr><th scope=row>1</th><td>geneComp_00000007</td><td>A2M-AS1</td><td>A2M-AS1</td><td>ASD</td><td>Control</td><td>ENST00000648157.1_1</td><td>ENST00000670582.1_1</td><td>isoComp_00000023</td><td>isoComp_00000025</td><td>intron_retention  </td><td> TRUE</td><td>Intron retention loss</td></tr>\n",
       "\t<tr><th scope=row>2</th><td>geneComp_00000007</td><td>A2M-AS1</td><td>A2M-AS1</td><td>ASD</td><td>Control</td><td>ENST00000648157.1_1</td><td>ENST00000670582.1_1</td><td>isoComp_00000023</td><td>isoComp_00000025</td><td>coding_potential  </td><td>FALSE</td><td>NA                   </td></tr>\n",
       "\t<tr><th scope=row>3</th><td>geneComp_00000007</td><td>A2M-AS1</td><td>A2M-AS1</td><td>ASD</td><td>Control</td><td>ENST00000648157.1_1</td><td>ENST00000670582.1_1</td><td>isoComp_00000023</td><td>isoComp_00000025</td><td>ORF_seq_similarity</td><td> TRUE</td><td>ORF is shorter       </td></tr>\n",
       "\t<tr><th scope=row>4</th><td>geneComp_00000007</td><td>A2M-AS1</td><td>A2M-AS1</td><td>ASD</td><td>Control</td><td>ENST00000648157.1_1</td><td>ENST00000670582.1_1</td><td>isoComp_00000023</td><td>isoComp_00000025</td><td>NMD_status        </td><td> TRUE</td><td>NMD sensitive        </td></tr>\n",
       "\t<tr><th scope=row>5</th><td>geneComp_00000007</td><td>A2M-AS1</td><td>A2M-AS1</td><td>ASD</td><td>Control</td><td>ENST00000648157.1_1</td><td>ENST00000670582.1_1</td><td>isoComp_00000023</td><td>isoComp_00000025</td><td>domains_identified</td><td>FALSE</td><td>NA                   </td></tr>\n",
       "\t<tr><th scope=row>6</th><td>geneComp_00000503</td><td>ACSL6  </td><td>ACSL6  </td><td>ASD</td><td>Control</td><td>ENST00000357096.5_4</td><td>ENST00000651883.2_8</td><td>isoComp_00001614</td><td>isoComp_00001624</td><td>intron_retention  </td><td>FALSE</td><td>NA                   </td></tr>\n",
       "</tbody>\n",
       "</table>\n"
      ],
      "text/latex": [
       "A data.frame: 6 × 12\n",
       "\\begin{tabular}{r|llllllllllll}\n",
       "  & gene\\_ref & gene\\_id & gene\\_name & condition\\_1 & condition\\_2 & isoformUpregulated & isoformDownregulated & iso\\_ref\\_up & iso\\_ref\\_down & featureCompared & isoformsDifferent & switchConsequence\\\\\n",
       "  & <chr> & <chr> & <chr> & <chr> & <chr> & <chr> & <chr> & <chr> & <chr> & <chr> & <lgl> & <chr>\\\\\n",
       "\\hline\n",
       "\t1 & geneComp\\_00000007 & A2M-AS1 & A2M-AS1 & ASD & Control & ENST00000648157.1\\_1 & ENST00000670582.1\\_1 & isoComp\\_00000023 & isoComp\\_00000025 & intron\\_retention   &  TRUE & Intron retention loss\\\\\n",
       "\t2 & geneComp\\_00000007 & A2M-AS1 & A2M-AS1 & ASD & Control & ENST00000648157.1\\_1 & ENST00000670582.1\\_1 & isoComp\\_00000023 & isoComp\\_00000025 & coding\\_potential   & FALSE & NA                   \\\\\n",
       "\t3 & geneComp\\_00000007 & A2M-AS1 & A2M-AS1 & ASD & Control & ENST00000648157.1\\_1 & ENST00000670582.1\\_1 & isoComp\\_00000023 & isoComp\\_00000025 & ORF\\_seq\\_similarity &  TRUE & ORF is shorter       \\\\\n",
       "\t4 & geneComp\\_00000007 & A2M-AS1 & A2M-AS1 & ASD & Control & ENST00000648157.1\\_1 & ENST00000670582.1\\_1 & isoComp\\_00000023 & isoComp\\_00000025 & NMD\\_status         &  TRUE & NMD sensitive        \\\\\n",
       "\t5 & geneComp\\_00000007 & A2M-AS1 & A2M-AS1 & ASD & Control & ENST00000648157.1\\_1 & ENST00000670582.1\\_1 & isoComp\\_00000023 & isoComp\\_00000025 & domains\\_identified & FALSE & NA                   \\\\\n",
       "\t6 & geneComp\\_00000503 & ACSL6   & ACSL6   & ASD & Control & ENST00000357096.5\\_4 & ENST00000651883.2\\_8 & isoComp\\_00001614 & isoComp\\_00001624 & intron\\_retention   & FALSE & NA                   \\\\\n",
       "\\end{tabular}\n"
      ],
      "text/markdown": [
       "\n",
       "A data.frame: 6 × 12\n",
       "\n",
       "| <!--/--> | gene_ref &lt;chr&gt; | gene_id &lt;chr&gt; | gene_name &lt;chr&gt; | condition_1 &lt;chr&gt; | condition_2 &lt;chr&gt; | isoformUpregulated &lt;chr&gt; | isoformDownregulated &lt;chr&gt; | iso_ref_up &lt;chr&gt; | iso_ref_down &lt;chr&gt; | featureCompared &lt;chr&gt; | isoformsDifferent &lt;lgl&gt; | switchConsequence &lt;chr&gt; |\n",
       "|---|---|---|---|---|---|---|---|---|---|---|---|---|\n",
       "| 1 | geneComp_00000007 | A2M-AS1 | A2M-AS1 | ASD | Control | ENST00000648157.1_1 | ENST00000670582.1_1 | isoComp_00000023 | isoComp_00000025 | intron_retention   |  TRUE | Intron retention loss |\n",
       "| 2 | geneComp_00000007 | A2M-AS1 | A2M-AS1 | ASD | Control | ENST00000648157.1_1 | ENST00000670582.1_1 | isoComp_00000023 | isoComp_00000025 | coding_potential   | FALSE | NA                    |\n",
       "| 3 | geneComp_00000007 | A2M-AS1 | A2M-AS1 | ASD | Control | ENST00000648157.1_1 | ENST00000670582.1_1 | isoComp_00000023 | isoComp_00000025 | ORF_seq_similarity |  TRUE | ORF is shorter        |\n",
       "| 4 | geneComp_00000007 | A2M-AS1 | A2M-AS1 | ASD | Control | ENST00000648157.1_1 | ENST00000670582.1_1 | isoComp_00000023 | isoComp_00000025 | NMD_status         |  TRUE | NMD sensitive         |\n",
       "| 5 | geneComp_00000007 | A2M-AS1 | A2M-AS1 | ASD | Control | ENST00000648157.1_1 | ENST00000670582.1_1 | isoComp_00000023 | isoComp_00000025 | domains_identified | FALSE | NA                    |\n",
       "| 6 | geneComp_00000503 | ACSL6   | ACSL6   | ASD | Control | ENST00000357096.5_4 | ENST00000651883.2_8 | isoComp_00001614 | isoComp_00001624 | intron_retention   | FALSE | NA                    |\n",
       "\n"
      ],
      "text/plain": [
       "  gene_ref          gene_id gene_name condition_1 condition_2\n",
       "1 geneComp_00000007 A2M-AS1 A2M-AS1   ASD         Control    \n",
       "2 geneComp_00000007 A2M-AS1 A2M-AS1   ASD         Control    \n",
       "3 geneComp_00000007 A2M-AS1 A2M-AS1   ASD         Control    \n",
       "4 geneComp_00000007 A2M-AS1 A2M-AS1   ASD         Control    \n",
       "5 geneComp_00000007 A2M-AS1 A2M-AS1   ASD         Control    \n",
       "6 geneComp_00000503 ACSL6   ACSL6     ASD         Control    \n",
       "  isoformUpregulated  isoformDownregulated iso_ref_up       iso_ref_down    \n",
       "1 ENST00000648157.1_1 ENST00000670582.1_1  isoComp_00000023 isoComp_00000025\n",
       "2 ENST00000648157.1_1 ENST00000670582.1_1  isoComp_00000023 isoComp_00000025\n",
       "3 ENST00000648157.1_1 ENST00000670582.1_1  isoComp_00000023 isoComp_00000025\n",
       "4 ENST00000648157.1_1 ENST00000670582.1_1  isoComp_00000023 isoComp_00000025\n",
       "5 ENST00000648157.1_1 ENST00000670582.1_1  isoComp_00000023 isoComp_00000025\n",
       "6 ENST00000357096.5_4 ENST00000651883.2_8  isoComp_00001614 isoComp_00001624\n",
       "  featureCompared    isoformsDifferent switchConsequence    \n",
       "1 intron_retention    TRUE             Intron retention loss\n",
       "2 coding_potential   FALSE             NA                   \n",
       "3 ORF_seq_similarity  TRUE             ORF is shorter       \n",
       "4 NMD_status          TRUE             NMD sensitive        \n",
       "5 domains_identified FALSE             NA                   \n",
       "6 intron_retention   FALSE             NA                   "
      ]
     },
     "metadata": {},
     "output_type": "display_data"
    },
    {
     "data": {
      "text/html": [
       "94"
      ],
      "text/latex": [
       "94"
      ],
      "text/markdown": [
       "94"
      ],
      "text/plain": [
       "[1] 94"
      ]
     },
     "metadata": {},
     "output_type": "display_data"
    },
    {
     "data": {
      "text/html": [
       "94"
      ],
      "text/latex": [
       "94"
      ],
      "text/markdown": [
       "94"
      ],
      "text/plain": [
       "[1] 94"
      ]
     },
     "metadata": {},
     "output_type": "display_data"
    }
   ],
   "source": [
    "head(switchListCQ$switchConsequence)\n",
    "length(unique(switchListCQ$switchConsequence$gene_id))\n",
    "length(unique(switchListCQ$isoformFeatures$gene_id[switchListCQ$isoformFeatures$switchConsequencesGene==TRUE]))"
   ]
  },
  {
   "cell_type": "code",
   "execution_count": null,
   "metadata": {
    "vscode": {
     "languageId": "r"
    }
   },
   "outputs": [
    {
     "data": {
      "text/html": [
       "<table class=\"dataframe\">\n",
       "<caption>A data.frame: 6 × 12</caption>\n",
       "<thead>\n",
       "\t<tr><th></th><th scope=col>gene_ref</th><th scope=col>gene_id</th><th scope=col>gene_name</th><th scope=col>condition_1</th><th scope=col>condition_2</th><th scope=col>isoformUpregulated</th><th scope=col>isoformDownregulated</th><th scope=col>iso_ref_up</th><th scope=col>iso_ref_down</th><th scope=col>featureCompared</th><th scope=col>isoformsDifferent</th><th scope=col>switchConsequence</th></tr>\n",
       "\t<tr><th></th><th scope=col>&lt;chr&gt;</th><th scope=col>&lt;chr&gt;</th><th scope=col>&lt;chr&gt;</th><th scope=col>&lt;chr&gt;</th><th scope=col>&lt;chr&gt;</th><th scope=col>&lt;chr&gt;</th><th scope=col>&lt;chr&gt;</th><th scope=col>&lt;chr&gt;</th><th scope=col>&lt;chr&gt;</th><th scope=col>&lt;chr&gt;</th><th scope=col>&lt;lgl&gt;</th><th scope=col>&lt;chr&gt;</th></tr>\n",
       "</thead>\n",
       "<tbody>\n",
       "\t<tr><th scope=row>1</th><td>geneComp_00000007</td><td>A2M-AS1</td><td>A2M-AS1</td><td>ASD</td><td>Control</td><td>ENST00000648157.1_1</td><td>ENST00000670582.1_1</td><td>isoComp_00000023</td><td>isoComp_00000025</td><td>intron_retention  </td><td> TRUE</td><td>Intron retention loss</td></tr>\n",
       "\t<tr><th scope=row>2</th><td>geneComp_00000007</td><td>A2M-AS1</td><td>A2M-AS1</td><td>ASD</td><td>Control</td><td>ENST00000648157.1_1</td><td>ENST00000670582.1_1</td><td>isoComp_00000023</td><td>isoComp_00000025</td><td>coding_potential  </td><td>FALSE</td><td>NA                   </td></tr>\n",
       "\t<tr><th scope=row>3</th><td>geneComp_00000007</td><td>A2M-AS1</td><td>A2M-AS1</td><td>ASD</td><td>Control</td><td>ENST00000648157.1_1</td><td>ENST00000670582.1_1</td><td>isoComp_00000023</td><td>isoComp_00000025</td><td>ORF_seq_similarity</td><td> TRUE</td><td>ORF is shorter       </td></tr>\n",
       "\t<tr><th scope=row>4</th><td>geneComp_00000007</td><td>A2M-AS1</td><td>A2M-AS1</td><td>ASD</td><td>Control</td><td>ENST00000648157.1_1</td><td>ENST00000670582.1_1</td><td>isoComp_00000023</td><td>isoComp_00000025</td><td>NMD_status        </td><td> TRUE</td><td>NMD sensitive        </td></tr>\n",
       "\t<tr><th scope=row>5</th><td>geneComp_00000007</td><td>A2M-AS1</td><td>A2M-AS1</td><td>ASD</td><td>Control</td><td>ENST00000648157.1_1</td><td>ENST00000670582.1_1</td><td>isoComp_00000023</td><td>isoComp_00000025</td><td>domains_identified</td><td>FALSE</td><td>NA                   </td></tr>\n",
       "\t<tr><th scope=row>6</th><td>geneComp_00000503</td><td>ACSL6  </td><td>ACSL6  </td><td>ASD</td><td>Control</td><td>ENST00000357096.5_4</td><td>ENST00000651883.2_8</td><td>isoComp_00001614</td><td>isoComp_00001624</td><td>intron_retention  </td><td>FALSE</td><td>NA                   </td></tr>\n",
       "</tbody>\n",
       "</table>\n"
      ],
      "text/latex": [
       "A data.frame: 6 × 12\n",
       "\\begin{tabular}{r|llllllllllll}\n",
       "  & gene\\_ref & gene\\_id & gene\\_name & condition\\_1 & condition\\_2 & isoformUpregulated & isoformDownregulated & iso\\_ref\\_up & iso\\_ref\\_down & featureCompared & isoformsDifferent & switchConsequence\\\\\n",
       "  & <chr> & <chr> & <chr> & <chr> & <chr> & <chr> & <chr> & <chr> & <chr> & <chr> & <lgl> & <chr>\\\\\n",
       "\\hline\n",
       "\t1 & geneComp\\_00000007 & A2M-AS1 & A2M-AS1 & ASD & Control & ENST00000648157.1\\_1 & ENST00000670582.1\\_1 & isoComp\\_00000023 & isoComp\\_00000025 & intron\\_retention   &  TRUE & Intron retention loss\\\\\n",
       "\t2 & geneComp\\_00000007 & A2M-AS1 & A2M-AS1 & ASD & Control & ENST00000648157.1\\_1 & ENST00000670582.1\\_1 & isoComp\\_00000023 & isoComp\\_00000025 & coding\\_potential   & FALSE & NA                   \\\\\n",
       "\t3 & geneComp\\_00000007 & A2M-AS1 & A2M-AS1 & ASD & Control & ENST00000648157.1\\_1 & ENST00000670582.1\\_1 & isoComp\\_00000023 & isoComp\\_00000025 & ORF\\_seq\\_similarity &  TRUE & ORF is shorter       \\\\\n",
       "\t4 & geneComp\\_00000007 & A2M-AS1 & A2M-AS1 & ASD & Control & ENST00000648157.1\\_1 & ENST00000670582.1\\_1 & isoComp\\_00000023 & isoComp\\_00000025 & NMD\\_status         &  TRUE & NMD sensitive        \\\\\n",
       "\t5 & geneComp\\_00000007 & A2M-AS1 & A2M-AS1 & ASD & Control & ENST00000648157.1\\_1 & ENST00000670582.1\\_1 & isoComp\\_00000023 & isoComp\\_00000025 & domains\\_identified & FALSE & NA                   \\\\\n",
       "\t6 & geneComp\\_00000503 & ACSL6   & ACSL6   & ASD & Control & ENST00000357096.5\\_4 & ENST00000651883.2\\_8 & isoComp\\_00001614 & isoComp\\_00001624 & intron\\_retention   & FALSE & NA                   \\\\\n",
       "\\end{tabular}\n"
      ],
      "text/markdown": [
       "\n",
       "A data.frame: 6 × 12\n",
       "\n",
       "| <!--/--> | gene_ref &lt;chr&gt; | gene_id &lt;chr&gt; | gene_name &lt;chr&gt; | condition_1 &lt;chr&gt; | condition_2 &lt;chr&gt; | isoformUpregulated &lt;chr&gt; | isoformDownregulated &lt;chr&gt; | iso_ref_up &lt;chr&gt; | iso_ref_down &lt;chr&gt; | featureCompared &lt;chr&gt; | isoformsDifferent &lt;lgl&gt; | switchConsequence &lt;chr&gt; |\n",
       "|---|---|---|---|---|---|---|---|---|---|---|---|---|\n",
       "| 1 | geneComp_00000007 | A2M-AS1 | A2M-AS1 | ASD | Control | ENST00000648157.1_1 | ENST00000670582.1_1 | isoComp_00000023 | isoComp_00000025 | intron_retention   |  TRUE | Intron retention loss |\n",
       "| 2 | geneComp_00000007 | A2M-AS1 | A2M-AS1 | ASD | Control | ENST00000648157.1_1 | ENST00000670582.1_1 | isoComp_00000023 | isoComp_00000025 | coding_potential   | FALSE | NA                    |\n",
       "| 3 | geneComp_00000007 | A2M-AS1 | A2M-AS1 | ASD | Control | ENST00000648157.1_1 | ENST00000670582.1_1 | isoComp_00000023 | isoComp_00000025 | ORF_seq_similarity |  TRUE | ORF is shorter        |\n",
       "| 4 | geneComp_00000007 | A2M-AS1 | A2M-AS1 | ASD | Control | ENST00000648157.1_1 | ENST00000670582.1_1 | isoComp_00000023 | isoComp_00000025 | NMD_status         |  TRUE | NMD sensitive         |\n",
       "| 5 | geneComp_00000007 | A2M-AS1 | A2M-AS1 | ASD | Control | ENST00000648157.1_1 | ENST00000670582.1_1 | isoComp_00000023 | isoComp_00000025 | domains_identified | FALSE | NA                    |\n",
       "| 6 | geneComp_00000503 | ACSL6   | ACSL6   | ASD | Control | ENST00000357096.5_4 | ENST00000651883.2_8 | isoComp_00001614 | isoComp_00001624 | intron_retention   | FALSE | NA                    |\n",
       "\n"
      ],
      "text/plain": [
       "  gene_ref          gene_id gene_name condition_1 condition_2\n",
       "1 geneComp_00000007 A2M-AS1 A2M-AS1   ASD         Control    \n",
       "2 geneComp_00000007 A2M-AS1 A2M-AS1   ASD         Control    \n",
       "3 geneComp_00000007 A2M-AS1 A2M-AS1   ASD         Control    \n",
       "4 geneComp_00000007 A2M-AS1 A2M-AS1   ASD         Control    \n",
       "5 geneComp_00000007 A2M-AS1 A2M-AS1   ASD         Control    \n",
       "6 geneComp_00000503 ACSL6   ACSL6     ASD         Control    \n",
       "  isoformUpregulated  isoformDownregulated iso_ref_up       iso_ref_down    \n",
       "1 ENST00000648157.1_1 ENST00000670582.1_1  isoComp_00000023 isoComp_00000025\n",
       "2 ENST00000648157.1_1 ENST00000670582.1_1  isoComp_00000023 isoComp_00000025\n",
       "3 ENST00000648157.1_1 ENST00000670582.1_1  isoComp_00000023 isoComp_00000025\n",
       "4 ENST00000648157.1_1 ENST00000670582.1_1  isoComp_00000023 isoComp_00000025\n",
       "5 ENST00000648157.1_1 ENST00000670582.1_1  isoComp_00000023 isoComp_00000025\n",
       "6 ENST00000357096.5_4 ENST00000651883.2_8  isoComp_00001614 isoComp_00001624\n",
       "  featureCompared    isoformsDifferent switchConsequence    \n",
       "1 intron_retention    TRUE             Intron retention loss\n",
       "2 coding_potential   FALSE             NA                   \n",
       "3 ORF_seq_similarity  TRUE             ORF is shorter       \n",
       "4 NMD_status          TRUE             NMD sensitive        \n",
       "5 domains_identified FALSE             NA                   \n",
       "6 intron_retention   FALSE             NA                   "
      ]
     },
     "metadata": {},
     "output_type": "display_data"
    }
   ],
   "source": [
    "head(switchListCQ$switchConsequence)"
   ]
  },
  {
   "cell_type": "code",
   "execution_count": null,
   "metadata": {
    "vscode": {
     "languageId": "r"
    }
   },
   "outputs": [],
   "source": [
    "write.csv(switchListCQ$switchConsequence,\"/disk1/wenqing/tmp_data/ASD/switchConsequence.csv\",quote=F)\n",
    "write.table(switchListCQ$AlternativeSplicingAnalysis,\"/disk1/wenqing/tmp_data/ASD/AlternativeSplicingAnalysis.txt\",quote=F)\n",
    "write.csv(switchListCQ$domainAnalysis,\"/disk1/wenqing/tmp_data/ASD/domainAnalysis.csv\",quote=F)"
   ]
  },
  {
   "cell_type": "code",
   "execution_count": null,
   "metadata": {
    "vscode": {
     "languageId": "r"
    }
   },
   "outputs": [
    {
     "data": {
      "text/html": [
       "<table class=\"dataframe\">\n",
       "<caption>A data.frame: 1 × 35</caption>\n",
       "<thead>\n",
       "\t<tr><th></th><th scope=col>iso_ref</th><th scope=col>gene_ref</th><th scope=col>isoform_id</th><th scope=col>gene_id</th><th scope=col>condition_1</th><th scope=col>condition_2</th><th scope=col>gene_name</th><th scope=col>gene_biotype</th><th scope=col>iso_biotype</th><th scope=col>gene_overall_mean</th><th scope=col>⋯</th><th scope=col>IF2</th><th scope=col>dIF</th><th scope=col>isoform_switch_q_value</th><th scope=col>gene_switch_q_value</th><th scope=col>PTC</th><th scope=col>codingPotentialValue</th><th scope=col>codingPotential</th><th scope=col>domain_identified</th><th scope=col>IR</th><th scope=col>switchConsequencesGene</th></tr>\n",
       "\t<tr><th></th><th scope=col>&lt;chr&gt;</th><th scope=col>&lt;chr&gt;</th><th scope=col>&lt;chr&gt;</th><th scope=col>&lt;chr&gt;</th><th scope=col>&lt;chr&gt;</th><th scope=col>&lt;chr&gt;</th><th scope=col>&lt;chr&gt;</th><th scope=col>&lt;chr&gt;</th><th scope=col>&lt;chr&gt;</th><th scope=col>&lt;dbl&gt;</th><th scope=col>⋯</th><th scope=col>&lt;dbl&gt;</th><th scope=col>&lt;dbl&gt;</th><th scope=col>&lt;dbl&gt;</th><th scope=col>&lt;dbl&gt;</th><th scope=col>&lt;lgl&gt;</th><th scope=col>&lt;dbl&gt;</th><th scope=col>&lt;lgl&gt;</th><th scope=col>&lt;chr&gt;</th><th scope=col>&lt;dbl&gt;</th><th scope=col>&lt;lgl&gt;</th></tr>\n",
       "</thead>\n",
       "<tbody>\n",
       "\t<tr><th scope=row>80260</th><td>isoComp_00028138</td><td>geneComp_00006138</td><td>ENST00000436732.5_3</td><td>DPP10</td><td>ASD</td><td>Control</td><td>DPP10</td><td>protein_coding</td><td>protein_coding</td><td>22.8517</td><td>⋯</td><td>0.02613333</td><td>0.006066667</td><td>0.8574271</td><td>0.01092684</td><td>FALSE</td><td>0.008748599</td><td>FALSE</td><td>no</td><td>0</td><td>TRUE</td></tr>\n",
       "</tbody>\n",
       "</table>\n"
      ],
      "text/latex": [
       "A data.frame: 1 × 35\n",
       "\\begin{tabular}{r|lllllllllllllllllllll}\n",
       "  & iso\\_ref & gene\\_ref & isoform\\_id & gene\\_id & condition\\_1 & condition\\_2 & gene\\_name & gene\\_biotype & iso\\_biotype & gene\\_overall\\_mean & ⋯ & IF2 & dIF & isoform\\_switch\\_q\\_value & gene\\_switch\\_q\\_value & PTC & codingPotentialValue & codingPotential & domain\\_identified & IR & switchConsequencesGene\\\\\n",
       "  & <chr> & <chr> & <chr> & <chr> & <chr> & <chr> & <chr> & <chr> & <chr> & <dbl> & ⋯ & <dbl> & <dbl> & <dbl> & <dbl> & <lgl> & <dbl> & <lgl> & <chr> & <dbl> & <lgl>\\\\\n",
       "\\hline\n",
       "\t80260 & isoComp\\_00028138 & geneComp\\_00006138 & ENST00000436732.5\\_3 & DPP10 & ASD & Control & DPP10 & protein\\_coding & protein\\_coding & 22.8517 & ⋯ & 0.02613333 & 0.006066667 & 0.8574271 & 0.01092684 & FALSE & 0.008748599 & FALSE & no & 0 & TRUE\\\\\n",
       "\\end{tabular}\n"
      ],
      "text/markdown": [
       "\n",
       "A data.frame: 1 × 35\n",
       "\n",
       "| <!--/--> | iso_ref &lt;chr&gt; | gene_ref &lt;chr&gt; | isoform_id &lt;chr&gt; | gene_id &lt;chr&gt; | condition_1 &lt;chr&gt; | condition_2 &lt;chr&gt; | gene_name &lt;chr&gt; | gene_biotype &lt;chr&gt; | iso_biotype &lt;chr&gt; | gene_overall_mean &lt;dbl&gt; | ⋯ ⋯ | IF2 &lt;dbl&gt; | dIF &lt;dbl&gt; | isoform_switch_q_value &lt;dbl&gt; | gene_switch_q_value &lt;dbl&gt; | PTC &lt;lgl&gt; | codingPotentialValue &lt;dbl&gt; | codingPotential &lt;lgl&gt; | domain_identified &lt;chr&gt; | IR &lt;dbl&gt; | switchConsequencesGene &lt;lgl&gt; |\n",
       "|---|---|---|---|---|---|---|---|---|---|---|---|---|---|---|---|---|---|---|---|---|---|\n",
       "| 80260 | isoComp_00028138 | geneComp_00006138 | ENST00000436732.5_3 | DPP10 | ASD | Control | DPP10 | protein_coding | protein_coding | 22.8517 | ⋯ | 0.02613333 | 0.006066667 | 0.8574271 | 0.01092684 | FALSE | 0.008748599 | FALSE | no | 0 | TRUE |\n",
       "\n"
      ],
      "text/plain": [
       "      iso_ref          gene_ref          isoform_id          gene_id\n",
       "80260 isoComp_00028138 geneComp_00006138 ENST00000436732.5_3 DPP10  \n",
       "      condition_1 condition_2 gene_name gene_biotype   iso_biotype   \n",
       "80260 ASD         Control     DPP10     protein_coding protein_coding\n",
       "      gene_overall_mean ⋯ IF2        dIF         isoform_switch_q_value\n",
       "80260 22.8517           ⋯ 0.02613333 0.006066667 0.8574271             \n",
       "      gene_switch_q_value PTC   codingPotentialValue codingPotential\n",
       "80260 0.01092684          FALSE 0.008748599          FALSE          \n",
       "      domain_identified IR switchConsequencesGene\n",
       "80260 no                0  TRUE                  "
      ]
     },
     "metadata": {},
     "output_type": "display_data"
    }
   ],
   "source": [
    "switchListCQ$isoformFeatures[grep(\"ENST00000436732.5_3\",switchListCQ$isoformFeatures$isoform_id),]"
   ]
  },
  {
   "cell_type": "code",
   "execution_count": null,
   "metadata": {
    "vscode": {
     "languageId": "r"
    }
   },
   "outputs": [],
   "source": [
    "switchPlotTopSwitches(switchListCQ, n=Inf, pathToOutput=\"/disk1/wenqing/tmp_data/ASD/Iso_res/ASEvents\")                                                                             "
   ]
  },
  {
   "cell_type": "code",
   "execution_count": null,
   "metadata": {
    "vscode": {
     "languageId": "r"
    }
   },
   "outputs": [
    {
     "data": {
      "text/html": [
       "<table class=\"dataframe\">\n",
       "<caption>A data.frame: 1 × 4</caption>\n",
       "<thead>\n",
       "\t<tr><th scope=col>Comparison</th><th scope=col>nrIsoforms</th><th scope=col>nrSwitches</th><th scope=col>nrGenes</th></tr>\n",
       "\t<tr><th scope=col>&lt;chr&gt;</th><th scope=col>&lt;int&gt;</th><th scope=col>&lt;int&gt;</th><th scope=col>&lt;int&gt;</th></tr>\n",
       "</thead>\n",
       "<tbody>\n",
       "\t<tr><td>ASD vs Control</td><td>125</td><td>138</td><td>107</td></tr>\n",
       "</tbody>\n",
       "</table>\n"
      ],
      "text/latex": [
       "A data.frame: 1 × 4\n",
       "\\begin{tabular}{llll}\n",
       " Comparison & nrIsoforms & nrSwitches & nrGenes\\\\\n",
       " <chr> & <int> & <int> & <int>\\\\\n",
       "\\hline\n",
       "\t ASD vs Control & 125 & 138 & 107\\\\\n",
       "\\end{tabular}\n"
      ],
      "text/markdown": [
       "\n",
       "A data.frame: 1 × 4\n",
       "\n",
       "| Comparison &lt;chr&gt; | nrIsoforms &lt;int&gt; | nrSwitches &lt;int&gt; | nrGenes &lt;int&gt; |\n",
       "|---|---|---|---|\n",
       "| ASD vs Control | 125 | 138 | 107 |\n",
       "\n"
      ],
      "text/plain": [
       "  Comparison     nrIsoforms nrSwitches nrGenes\n",
       "1 ASD vs Control 125        138        107    "
      ]
     },
     "metadata": {},
     "output_type": "display_data"
    }
   ],
   "source": [
    "extractSwitchSummary(switchListCQ)"
   ]
  },
  {
   "cell_type": "code",
   "execution_count": null,
   "metadata": {
    "vscode": {
     "languageId": "r"
    }
   },
   "outputs": [],
   "source": [
    "pdf(\"/disk1/wenqing/tmp_data/ASD/Iso_res/ASEvents/SplicingSummary.pdf\")\n",
    "extractSplicingSummary(switchListCQ)\n",
    "extractSplicingEnrichment(switchListCQ)\n",
    "extractSplicingGenomeWide(switchListCQ)\n",
    "dev.off()"
   ]
  },
  {
   "cell_type": "code",
   "execution_count": null,
   "metadata": {
    "vscode": {
     "languageId": "r"
    }
   },
   "outputs": [
    {
     "data": {
      "image/png": "[encoded data removed]",
      "text/plain": [
       "plot without title"
      ]
     },
     "metadata": {},
     "output_type": "display_data"
    }
   ],
   "source": [
    "extractSplicingSummary(switchListCQ)\n"
   ]
  },
  {
   "cell_type": "code",
   "execution_count": null,
   "metadata": {
    "vscode": {
     "languageId": "r"
    }
   },
   "outputs": [],
   "source": [
    "attach(switchListCQ$switchConsequence)"
   ]
  },
  {
   "cell_type": "code",
   "execution_count": null,
   "metadata": {
    "vscode": {
     "languageId": "r"
    }
   },
   "outputs": [
    {
     "data": {
      "text/html": [
       "109"
      ],
      "text/latex": [
       "109"
      ],
      "text/markdown": [
       "109"
      ],
      "text/plain": [
       "[1] 109"
      ]
     },
     "metadata": {},
     "output_type": "display_data"
    }
   ],
   "source": [
    "length(unique(switchListCQ$switchConsequence$isoformDownregulated))\n"
   ]
  },
  {
   "cell_type": "code",
   "execution_count": null,
   "metadata": {
    "vscode": {
     "languageId": "r"
    }
   },
   "outputs": [
    {
     "data": {
      "text/html": [
       "210"
      ],
      "text/latex": [
       "210"
      ],
      "text/markdown": [
       "210"
      ],
      "text/plain": [
       "[1] 210"
      ]
     },
     "metadata": {},
     "output_type": "display_data"
    }
   ],
   "source": [
    "length(unique(c(switchListCQ$switchConsequence$isoformDownregulated,switchListCQ$switchConsequence$isoformUpregulated)))"
   ]
  }
 ],
 "metadata": {
  "kernelspec": {
   "display_name": "R",
   "language": "R",
   "name": "ir"
  },
  "language_info": {
   "codemirror_mode": "r",
   "file_extension": ".r",
   "mimetype": "text/x-r-source",
   "name": "R",
   "pygments_lexer": "r",
   "version": "4.3.1"
  },
  "orig_nbformat": 4
 },
 "nbformat": 4,
 "nbformat_minor": 2
}
