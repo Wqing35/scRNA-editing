{
 "cells": [
  {
   "cell_type": "code",
   "execution_count": null,
   "metadata": {
    "vscode": {
     "languageId": "r"
    }
   },
   "outputs": [],
   "source": [
    "library(dplyr)\n",
    "library(tidyr)\n",
    "library(purrr)\n",
    "library(pheatmap)\n",
    "library(ggplot2)\n",
    "library(reshape2)\n",
    "library(factoextra)"
   ]
  },
  {
   "cell_type": "code",
   "execution_count": null,
   "metadata": {
    "vscode": {
     "languageId": "r"
    }
   },
   "outputs": [],
   "source": [
    "#########对所有AS事件进行分类（按照其跟随发育时间的变化程度）\n",
    "#PSI > 0.9 (all times)(no change)\n",
    "#max(PSI) - min(PSI) < 0.1 (stable)\n",
    "#max(PSI) - min(PSI) >=0.1 and Cor(X,L) > 0.7 (continous up)\n",
    "#max(PSI) - min(PSI) >=0.1 and Cor(X,L) < -0.7 (continous down)\n"
   ]
  },
  {
   "cell_type": "code",
   "execution_count": 3,
   "metadata": {
    "vscode": {
     "languageId": "r"
    }
   },
   "outputs": [
    {
     "data": {
      "text/html": [
       "<table class=\"dataframe\">\n",
       "<caption>A data.frame: 6 × 12</caption>\n",
       "<thead>\n",
       "\t<tr><th></th><th scope=col>GW08</th><th scope=col>GW12</th><th scope=col>GW16_1_3</th><th scope=col>GW16_1_4</th><th scope=col>GW16_1_9</th><th scope=col>GW19_1_1</th><th scope=col>GW19_1_2</th><th scope=col>GW19_1_3</th><th scope=col>GW23_1_1</th><th scope=col>GW23_1_2</th><th scope=col>GW23_1_3</th><th scope=col>GW26_1_1</th></tr>\n",
       "\t<tr><th></th><th scope=col>&lt;dbl&gt;</th><th scope=col>&lt;dbl&gt;</th><th scope=col>&lt;dbl&gt;</th><th scope=col>&lt;dbl&gt;</th><th scope=col>&lt;dbl&gt;</th><th scope=col>&lt;dbl&gt;</th><th scope=col>&lt;dbl&gt;</th><th scope=col>&lt;dbl&gt;</th><th scope=col>&lt;dbl&gt;</th><th scope=col>&lt;dbl&gt;</th><th scope=col>&lt;dbl&gt;</th><th scope=col>&lt;dbl&gt;</th></tr>\n",
       "</thead>\n",
       "<tbody>\n",
       "\t<tr><th scope=row>ENSG00000000003.15;A5:chrX:100635746-100636191:100635746-100636608:-</th><td>  0</td><td>  0</td><td>NaN</td><td>  0</td><td>0.0000000</td><td>  0</td><td>  0</td><td>  0</td><td>  0</td><td>0.0000000</td><td>  0</td><td>  0</td></tr>\n",
       "\t<tr><th scope=row>ENSG00000000003.15;A5:chrX:100635746-100636608:100635746-100636793:-</th><td>  1</td><td>  1</td><td>  0</td><td>  1</td><td>1.0000000</td><td>  1</td><td>  1</td><td>  1</td><td>  1</td><td>1.0000000</td><td>  1</td><td>  1</td></tr>\n",
       "\t<tr><th scope=row>ENSG00000000003.15;AF:chrX:100635746-100636191:100636689:100635746-100636793:100637104:-</th><td>NaN</td><td>NaN</td><td>  0</td><td>NaN</td><td>      NaN</td><td>NaN</td><td>NaN</td><td>NaN</td><td>NaN</td><td>      NaN</td><td>NaN</td><td>NaN</td></tr>\n",
       "\t<tr><th scope=row>ENSG00000000003.15;SE:chrX:100630866-100632485:100632568-100633405:-</th><td>  1</td><td>  1</td><td>  0</td><td>  1</td><td>1.0000000</td><td>  1</td><td>  1</td><td>  1</td><td>  1</td><td>1.0000000</td><td>  1</td><td>  1</td></tr>\n",
       "\t<tr><th scope=row>ENSG00000000419.13;A3:chr20:50940955-50941105:50940933-50941105:-</th><td>  1</td><td>  1</td><td>  1</td><td>  1</td><td>      NaN</td><td>  1</td><td>  1</td><td>NaN</td><td>  1</td><td>0.9876185</td><td>  1</td><td>  1</td></tr>\n",
       "\t<tr><th scope=row>ENSG00000000419.13;A3:chr20:50940955-50942031:50940933-50942031:-</th><td>  0</td><td>NaN</td><td>  0</td><td>  0</td><td>0.5916562</td><td>  0</td><td>  0</td><td>  0</td><td>  0</td><td>      NaN</td><td>NaN</td><td>  0</td></tr>\n",
       "</tbody>\n",
       "</table>\n"
      ],
      "text/latex": [
       "A data.frame: 6 × 12\n",
       "\\begin{tabular}{r|llllllllllll}\n",
       "  & GW08 & GW12 & GW16\\_1\\_3 & GW16\\_1\\_4 & GW16\\_1\\_9 & GW19\\_1\\_1 & GW19\\_1\\_2 & GW19\\_1\\_3 & GW23\\_1\\_1 & GW23\\_1\\_2 & GW23\\_1\\_3 & GW26\\_1\\_1\\\\\n",
       "  & <dbl> & <dbl> & <dbl> & <dbl> & <dbl> & <dbl> & <dbl> & <dbl> & <dbl> & <dbl> & <dbl> & <dbl>\\\\\n",
       "\\hline\n",
       "\tENSG00000000003.15;A5:chrX:100635746-100636191:100635746-100636608:- &   0 &   0 & NaN &   0 & 0.0000000 &   0 &   0 &   0 &   0 & 0.0000000 &   0 &   0\\\\\n",
       "\tENSG00000000003.15;A5:chrX:100635746-100636608:100635746-100636793:- &   1 &   1 &   0 &   1 & 1.0000000 &   1 &   1 &   1 &   1 & 1.0000000 &   1 &   1\\\\\n",
       "\tENSG00000000003.15;AF:chrX:100635746-100636191:100636689:100635746-100636793:100637104:- & NaN & NaN &   0 & NaN &       NaN & NaN & NaN & NaN & NaN &       NaN & NaN & NaN\\\\\n",
       "\tENSG00000000003.15;SE:chrX:100630866-100632485:100632568-100633405:- &   1 &   1 &   0 &   1 & 1.0000000 &   1 &   1 &   1 &   1 & 1.0000000 &   1 &   1\\\\\n",
       "\tENSG00000000419.13;A3:chr20:50940955-50941105:50940933-50941105:- &   1 &   1 &   1 &   1 &       NaN &   1 &   1 & NaN &   1 & 0.9876185 &   1 &   1\\\\\n",
       "\tENSG00000000419.13;A3:chr20:50940955-50942031:50940933-50942031:- &   0 & NaN &   0 &   0 & 0.5916562 &   0 &   0 &   0 &   0 &       NaN & NaN &   0\\\\\n",
       "\\end{tabular}\n"
      ],
      "text/markdown": [
       "\n",
       "A data.frame: 6 × 12\n",
       "\n",
       "| <!--/--> | GW08 &lt;dbl&gt; | GW12 &lt;dbl&gt; | GW16_1_3 &lt;dbl&gt; | GW16_1_4 &lt;dbl&gt; | GW16_1_9 &lt;dbl&gt; | GW19_1_1 &lt;dbl&gt; | GW19_1_2 &lt;dbl&gt; | GW19_1_3 &lt;dbl&gt; | GW23_1_1 &lt;dbl&gt; | GW23_1_2 &lt;dbl&gt; | GW23_1_3 &lt;dbl&gt; | GW26_1_1 &lt;dbl&gt; |\n",
       "|---|---|---|---|---|---|---|---|---|---|---|---|---|\n",
       "| ENSG00000000003.15;A5:chrX:100635746-100636191:100635746-100636608:- |   0 |   0 | NaN |   0 | 0.0000000 |   0 |   0 |   0 |   0 | 0.0000000 |   0 |   0 |\n",
       "| ENSG00000000003.15;A5:chrX:100635746-100636608:100635746-100636793:- |   1 |   1 |   0 |   1 | 1.0000000 |   1 |   1 |   1 |   1 | 1.0000000 |   1 |   1 |\n",
       "| ENSG00000000003.15;AF:chrX:100635746-100636191:100636689:100635746-100636793:100637104:- | NaN | NaN |   0 | NaN |       NaN | NaN | NaN | NaN | NaN |       NaN | NaN | NaN |\n",
       "| ENSG00000000003.15;SE:chrX:100630866-100632485:100632568-100633405:- |   1 |   1 |   0 |   1 | 1.0000000 |   1 |   1 |   1 |   1 | 1.0000000 |   1 |   1 |\n",
       "| ENSG00000000419.13;A3:chr20:50940955-50941105:50940933-50941105:- |   1 |   1 |   1 |   1 |       NaN |   1 |   1 | NaN |   1 | 0.9876185 |   1 |   1 |\n",
       "| ENSG00000000419.13;A3:chr20:50940955-50942031:50940933-50942031:- |   0 | NaN |   0 |   0 | 0.5916562 |   0 |   0 |   0 |   0 |       NaN | NaN |   0 |\n",
       "\n"
      ],
      "text/plain": [
       "                                                                                         GW08\n",
       "ENSG00000000003.15;A5:chrX:100635746-100636191:100635746-100636608:-                       0 \n",
       "ENSG00000000003.15;A5:chrX:100635746-100636608:100635746-100636793:-                       1 \n",
       "ENSG00000000003.15;AF:chrX:100635746-100636191:100636689:100635746-100636793:100637104:- NaN \n",
       "ENSG00000000003.15;SE:chrX:100630866-100632485:100632568-100633405:-                       1 \n",
       "ENSG00000000419.13;A3:chr20:50940955-50941105:50940933-50941105:-                          1 \n",
       "ENSG00000000419.13;A3:chr20:50940955-50942031:50940933-50942031:-                          0 \n",
       "                                                                                         GW12\n",
       "ENSG00000000003.15;A5:chrX:100635746-100636191:100635746-100636608:-                       0 \n",
       "ENSG00000000003.15;A5:chrX:100635746-100636608:100635746-100636793:-                       1 \n",
       "ENSG00000000003.15;AF:chrX:100635746-100636191:100636689:100635746-100636793:100637104:- NaN \n",
       "ENSG00000000003.15;SE:chrX:100630866-100632485:100632568-100633405:-                       1 \n",
       "ENSG00000000419.13;A3:chr20:50940955-50941105:50940933-50941105:-                          1 \n",
       "ENSG00000000419.13;A3:chr20:50940955-50942031:50940933-50942031:-                        NaN \n",
       "                                                                                         GW16_1_3\n",
       "ENSG00000000003.15;A5:chrX:100635746-100636191:100635746-100636608:-                     NaN     \n",
       "ENSG00000000003.15;A5:chrX:100635746-100636608:100635746-100636793:-                       0     \n",
       "ENSG00000000003.15;AF:chrX:100635746-100636191:100636689:100635746-100636793:100637104:-   0     \n",
       "ENSG00000000003.15;SE:chrX:100630866-100632485:100632568-100633405:-                       0     \n",
       "ENSG00000000419.13;A3:chr20:50940955-50941105:50940933-50941105:-                          1     \n",
       "ENSG00000000419.13;A3:chr20:50940955-50942031:50940933-50942031:-                          0     \n",
       "                                                                                         GW16_1_4\n",
       "ENSG00000000003.15;A5:chrX:100635746-100636191:100635746-100636608:-                       0     \n",
       "ENSG00000000003.15;A5:chrX:100635746-100636608:100635746-100636793:-                       1     \n",
       "ENSG00000000003.15;AF:chrX:100635746-100636191:100636689:100635746-100636793:100637104:- NaN     \n",
       "ENSG00000000003.15;SE:chrX:100630866-100632485:100632568-100633405:-                       1     \n",
       "ENSG00000000419.13;A3:chr20:50940955-50941105:50940933-50941105:-                          1     \n",
       "ENSG00000000419.13;A3:chr20:50940955-50942031:50940933-50942031:-                          0     \n",
       "                                                                                         GW16_1_9 \n",
       "ENSG00000000003.15;A5:chrX:100635746-100636191:100635746-100636608:-                     0.0000000\n",
       "ENSG00000000003.15;A5:chrX:100635746-100636608:100635746-100636793:-                     1.0000000\n",
       "ENSG00000000003.15;AF:chrX:100635746-100636191:100636689:100635746-100636793:100637104:-       NaN\n",
       "ENSG00000000003.15;SE:chrX:100630866-100632485:100632568-100633405:-                     1.0000000\n",
       "ENSG00000000419.13;A3:chr20:50940955-50941105:50940933-50941105:-                              NaN\n",
       "ENSG00000000419.13;A3:chr20:50940955-50942031:50940933-50942031:-                        0.5916562\n",
       "                                                                                         GW19_1_1\n",
       "ENSG00000000003.15;A5:chrX:100635746-100636191:100635746-100636608:-                       0     \n",
       "ENSG00000000003.15;A5:chrX:100635746-100636608:100635746-100636793:-                       1     \n",
       "ENSG00000000003.15;AF:chrX:100635746-100636191:100636689:100635746-100636793:100637104:- NaN     \n",
       "ENSG00000000003.15;SE:chrX:100630866-100632485:100632568-100633405:-                       1     \n",
       "ENSG00000000419.13;A3:chr20:50940955-50941105:50940933-50941105:-                          1     \n",
       "ENSG00000000419.13;A3:chr20:50940955-50942031:50940933-50942031:-                          0     \n",
       "                                                                                         GW19_1_2\n",
       "ENSG00000000003.15;A5:chrX:100635746-100636191:100635746-100636608:-                       0     \n",
       "ENSG00000000003.15;A5:chrX:100635746-100636608:100635746-100636793:-                       1     \n",
       "ENSG00000000003.15;AF:chrX:100635746-100636191:100636689:100635746-100636793:100637104:- NaN     \n",
       "ENSG00000000003.15;SE:chrX:100630866-100632485:100632568-100633405:-                       1     \n",
       "ENSG00000000419.13;A3:chr20:50940955-50941105:50940933-50941105:-                          1     \n",
       "ENSG00000000419.13;A3:chr20:50940955-50942031:50940933-50942031:-                          0     \n",
       "                                                                                         GW19_1_3\n",
       "ENSG00000000003.15;A5:chrX:100635746-100636191:100635746-100636608:-                       0     \n",
       "ENSG00000000003.15;A5:chrX:100635746-100636608:100635746-100636793:-                       1     \n",
       "ENSG00000000003.15;AF:chrX:100635746-100636191:100636689:100635746-100636793:100637104:- NaN     \n",
       "ENSG00000000003.15;SE:chrX:100630866-100632485:100632568-100633405:-                       1     \n",
       "ENSG00000000419.13;A3:chr20:50940955-50941105:50940933-50941105:-                        NaN     \n",
       "ENSG00000000419.13;A3:chr20:50940955-50942031:50940933-50942031:-                          0     \n",
       "                                                                                         GW23_1_1\n",
       "ENSG00000000003.15;A5:chrX:100635746-100636191:100635746-100636608:-                       0     \n",
       "ENSG00000000003.15;A5:chrX:100635746-100636608:100635746-100636793:-                       1     \n",
       "ENSG00000000003.15;AF:chrX:100635746-100636191:100636689:100635746-100636793:100637104:- NaN     \n",
       "ENSG00000000003.15;SE:chrX:100630866-100632485:100632568-100633405:-                       1     \n",
       "ENSG00000000419.13;A3:chr20:50940955-50941105:50940933-50941105:-                          1     \n",
       "ENSG00000000419.13;A3:chr20:50940955-50942031:50940933-50942031:-                          0     \n",
       "                                                                                         GW23_1_2 \n",
       "ENSG00000000003.15;A5:chrX:100635746-100636191:100635746-100636608:-                     0.0000000\n",
       "ENSG00000000003.15;A5:chrX:100635746-100636608:100635746-100636793:-                     1.0000000\n",
       "ENSG00000000003.15;AF:chrX:100635746-100636191:100636689:100635746-100636793:100637104:-       NaN\n",
       "ENSG00000000003.15;SE:chrX:100630866-100632485:100632568-100633405:-                     1.0000000\n",
       "ENSG00000000419.13;A3:chr20:50940955-50941105:50940933-50941105:-                        0.9876185\n",
       "ENSG00000000419.13;A3:chr20:50940955-50942031:50940933-50942031:-                              NaN\n",
       "                                                                                         GW23_1_3\n",
       "ENSG00000000003.15;A5:chrX:100635746-100636191:100635746-100636608:-                       0     \n",
       "ENSG00000000003.15;A5:chrX:100635746-100636608:100635746-100636793:-                       1     \n",
       "ENSG00000000003.15;AF:chrX:100635746-100636191:100636689:100635746-100636793:100637104:- NaN     \n",
       "ENSG00000000003.15;SE:chrX:100630866-100632485:100632568-100633405:-                       1     \n",
       "ENSG00000000419.13;A3:chr20:50940955-50941105:50940933-50941105:-                          1     \n",
       "ENSG00000000419.13;A3:chr20:50940955-50942031:50940933-50942031:-                        NaN     \n",
       "                                                                                         GW26_1_1\n",
       "ENSG00000000003.15;A5:chrX:100635746-100636191:100635746-100636608:-                       0     \n",
       "ENSG00000000003.15;A5:chrX:100635746-100636608:100635746-100636793:-                       1     \n",
       "ENSG00000000003.15;AF:chrX:100635746-100636191:100636689:100635746-100636793:100637104:- NaN     \n",
       "ENSG00000000003.15;SE:chrX:100630866-100632485:100632568-100633405:-                       1     \n",
       "ENSG00000000419.13;A3:chr20:50940955-50941105:50940933-50941105:-                          1     \n",
       "ENSG00000000419.13;A3:chr20:50940955-50942031:50940933-50942031:-                          0     "
      ]
     },
     "metadata": {},
     "output_type": "display_data"
    }
   ],
   "source": [
    "###for up res\n",
    "psi_matrix <- read.table(\"/disk1/wenqing/tmp_data/PFC_s2/salmon_output_untrimmed_ver/project_events_untrimmed_ver.psi\")\n",
    "head(psi_matrix)"
   ]
  },
  {
   "cell_type": "code",
   "execution_count": 47,
   "metadata": {
    "vscode": {
     "languageId": "r"
    }
   },
   "outputs": [
    {
     "data": {
      "text/html": [
       "3715"
      ],
      "text/latex": [
       "3715"
      ],
      "text/markdown": [
       "3715"
      ],
      "text/plain": [
       "[1] 3715"
      ]
     },
     "metadata": {},
     "output_type": "display_data"
    },
    {
     "data": {
      "text/html": [
       "<style>\n",
       ".list-inline {list-style: none; margin:0; padding: 0}\n",
       ".list-inline>li {display: inline-block}\n",
       ".list-inline>li:not(:last-child)::after {content: \"\\00b7\"; padding: 0 .5ex}\n",
       "</style>\n",
       "<ol class=list-inline><li>1145</li><li>12</li></ol>\n"
      ],
      "text/latex": [
       "\\begin{enumerate*}\n",
       "\\item 1145\n",
       "\\item 12\n",
       "\\end{enumerate*}\n"
      ],
      "text/markdown": [
       "1. 1145\n",
       "2. 12\n",
       "\n",
       "\n"
      ],
      "text/plain": [
       "[1] 1145   12"
      ]
     },
     "metadata": {},
     "output_type": "display_data"
    },
    {
     "name": "stderr",
     "output_type": "stream",
     "text": [
      "Warning message in cor(row, L_sequence, method = \"pearson\"):\n",
      "“the standard deviation is zero”\n",
      "Warning message in cor(row, L_sequence, method = \"pearson\"):\n",
      "“the standard deviation is zero”\n",
      "Warning message in cor(row, L_sequence, method = \"pearson\"):\n",
      "“the standard deviation is zero”\n",
      "Warning message in cor(row, L_sequence, method = \"pearson\"):\n",
      "“the standard deviation is zero”\n",
      "Warning message in cor(row, L_sequence, method = \"pearson\"):\n",
      "“the standard deviation is zero”\n",
      "Warning message in cor(row, L_sequence, method = \"pearson\"):\n",
      "“the standard deviation is zero”\n",
      "Warning message in cor(row, L_sequence, method = \"pearson\"):\n",
      "“the standard deviation is zero”\n",
      "Warning message in cor(row, L_sequence, method = \"pearson\"):\n",
      "“the standard deviation is zero”\n",
      "Warning message in cor(row, L_sequence, method = \"pearson\"):\n",
      "“the standard deviation is zero”\n",
      "Warning message in cor(row, L_sequence, method = \"pearson\"):\n",
      "“the standard deviation is zero”\n",
      "Warning message in cor(row, L_sequence, method = \"pearson\"):\n",
      "“the standard deviation is zero”\n",
      "Warning message in cor(row, L_sequence, method = \"pearson\"):\n",
      "“the standard deviation is zero”\n",
      "Warning message in cor(row, L_sequence, method = \"pearson\"):\n",
      "“the standard deviation is zero”\n",
      "Warning message in cor(row, L_sequence, method = \"pearson\"):\n",
      "“the standard deviation is zero”\n",
      "Warning message in cor(row, L_sequence, method = \"pearson\"):\n",
      "“the standard deviation is zero”\n",
      "Warning message in cor(row, L_sequence, method = \"pearson\"):\n",
      "“the standard deviation is zero”\n",
      "Warning message in cor(row, L_sequence, method = \"pearson\"):\n",
      "“the standard deviation is zero”\n",
      "Warning message in cor(row, L_sequence, method = \"pearson\"):\n",
      "“the standard deviation is zero”\n",
      "Warning message in cor(row, L_sequence, method = \"pearson\"):\n",
      "“the standard deviation is zero”\n",
      "Warning message in cor(row, L_sequence, method = \"pearson\"):\n",
      "“the standard deviation is zero”\n",
      "Warning message in cor(row, L_sequence, method = \"pearson\"):\n",
      "“the standard deviation is zero”\n",
      "Warning message in cor(row, L_sequence, method = \"pearson\"):\n",
      "“the standard deviation is zero”\n",
      "Warning message in cor(row, L_sequence, method = \"pearson\"):\n",
      "“the standard deviation is zero”\n",
      "Warning message in cor(row, L_sequence, method = \"pearson\"):\n",
      "“the standard deviation is zero”\n",
      "Warning message in cor(row, L_sequence, method = \"pearson\"):\n",
      "“the standard deviation is zero”\n",
      "Warning message in cor(row, L_sequence, method = \"pearson\"):\n",
      "“the standard deviation is zero”\n",
      "Warning message in cor(row, L_sequence, method = \"pearson\"):\n",
      "“the standard deviation is zero”\n",
      "Warning message in cor(row, L_sequence, method = \"pearson\"):\n",
      "“the standard deviation is zero”\n",
      "Warning message in cor(row, L_sequence, method = \"pearson\"):\n",
      "“the standard deviation is zero”\n"
     ]
    },
    {
     "data": {
      "text/plain": [
       "\n",
       "FALSE  TRUE \n",
       "  910   235 "
      ]
     },
     "metadata": {},
     "output_type": "display_data"
    },
    {
     "data": {
      "text/plain": [
       "\n",
       "FALSE  TRUE \n",
       " 1038   107 "
      ]
     },
     "metadata": {},
     "output_type": "display_data"
    },
    {
     "data": {
      "text/html": [
       "<strong>70%:</strong> 0.416205205669959"
      ],
      "text/latex": [
       "\\textbf{70\\textbackslash{}\\%:} 0.416205205669959"
      ],
      "text/markdown": [
       "**70%:** 0.416205205669959"
      ],
      "text/plain": [
       "      70% \n",
       "0.4162052 "
      ]
     },
     "metadata": {},
     "output_type": "display_data"
    },
    {
     "data": {
      "text/html": [
       "<strong>30%:</strong> -0.305699202718803"
      ],
      "text/latex": [
       "\\textbf{30\\textbackslash{}\\%:} -0.305699202718803"
      ],
      "text/markdown": [
       "**30%:** -0.305699202718803"
      ],
      "text/plain": [
       "       30% \n",
       "-0.3056992 "
      ]
     },
     "metadata": {},
     "output_type": "display_data"
    },
    {
     "data": {
      "text/html": [
       "<style>\n",
       ".list-inline {list-style: none; margin:0; padding: 0}\n",
       ".list-inline>li {display: inline-block}\n",
       ".list-inline>li:not(:last-child)::after {content: \"\\00b7\"; padding: 0 .5ex}\n",
       "</style>\n",
       "<ol class=list-inline><li>226</li><li>15</li></ol>\n"
      ],
      "text/latex": [
       "\\begin{enumerate*}\n",
       "\\item 226\n",
       "\\item 15\n",
       "\\end{enumerate*}\n"
      ],
      "text/markdown": [
       "1. 226\n",
       "2. 15\n",
       "\n",
       "\n"
      ],
      "text/plain": [
       "[1] 226  15"
      ]
     },
     "metadata": {},
     "output_type": "display_data"
    },
    {
     "data": {
      "text/html": [
       "<style>\n",
       ".list-inline {list-style: none; margin:0; padding: 0}\n",
       ".list-inline>li {display: inline-block}\n",
       ".list-inline>li:not(:last-child)::after {content: \"\\00b7\"; padding: 0 .5ex}\n",
       "</style>\n",
       "<ol class=list-inline><li>101</li><li>15</li></ol>\n"
      ],
      "text/latex": [
       "\\begin{enumerate*}\n",
       "\\item 101\n",
       "\\item 15\n",
       "\\end{enumerate*}\n"
      ],
      "text/markdown": [
       "1. 101\n",
       "2. 15\n",
       "\n",
       "\n"
      ],
      "text/plain": [
       "[1] 101  15"
      ]
     },
     "metadata": {},
     "output_type": "display_data"
    },
    {
     "data": {
      "text/html": [
       "<style>\n",
       ".list-inline {list-style: none; margin:0; padding: 0}\n",
       ".list-inline>li {display: inline-block}\n",
       ".list-inline>li:not(:last-child)::after {content: \"\\00b7\"; padding: 0 .5ex}\n",
       "</style>\n",
       "<ol class=list-inline><li>74</li><li>15</li></ol>\n"
      ],
      "text/latex": [
       "\\begin{enumerate*}\n",
       "\\item 74\n",
       "\\item 15\n",
       "\\end{enumerate*}\n"
      ],
      "text/markdown": [
       "1. 74\n",
       "2. 15\n",
       "\n",
       "\n"
      ],
      "text/plain": [
       "[1] 74 15"
      ]
     },
     "metadata": {},
     "output_type": "display_data"
    },
    {
     "data": {
      "text/html": [
       "<style>\n",
       ".list-inline {list-style: none; margin:0; padding: 0}\n",
       ".list-inline>li {display: inline-block}\n",
       ".list-inline>li:not(:last-child)::after {content: \"\\00b7\"; padding: 0 .5ex}\n",
       "</style>\n",
       "<ol class=list-inline><li>138</li><li>15</li></ol>\n"
      ],
      "text/latex": [
       "\\begin{enumerate*}\n",
       "\\item 138\n",
       "\\item 15\n",
       "\\end{enumerate*}\n"
      ],
      "text/markdown": [
       "1. 138\n",
       "2. 15\n",
       "\n",
       "\n"
      ],
      "text/plain": [
       "[1] 138  15"
      ]
     },
     "metadata": {},
     "output_type": "display_data"
    },
    {
     "data": {
      "text/html": [
       "907"
      ],
      "text/latex": [
       "907"
      ],
      "text/markdown": [
       "907"
      ],
      "text/plain": [
       "[1] 907"
      ]
     },
     "metadata": {},
     "output_type": "display_data"
    },
    {
     "data": {
      "text/html": [
       "<style>\n",
       ".list-inline {list-style: none; margin:0; padding: 0}\n",
       ".list-inline>li {display: inline-block}\n",
       ".list-inline>li:not(:last-child)::after {content: \"\\00b7\"; padding: 0 .5ex}\n",
       "</style>\n",
       "<ol class=list-inline><li>305</li><li>12</li></ol>\n"
      ],
      "text/latex": [
       "\\begin{enumerate*}\n",
       "\\item 305\n",
       "\\item 12\n",
       "\\end{enumerate*}\n"
      ],
      "text/markdown": [
       "1. 305\n",
       "2. 12\n",
       "\n",
       "\n"
      ],
      "text/plain": [
       "[1] 305  12"
      ]
     },
     "metadata": {},
     "output_type": "display_data"
    },
    {
     "name": "stderr",
     "output_type": "stream",
     "text": [
      "Warning message in cor(row, L_sequence, method = \"pearson\"):\n",
      "“the standard deviation is zero”\n",
      "Warning message in cor(row, L_sequence, method = \"pearson\"):\n",
      "“the standard deviation is zero”\n",
      "Warning message in cor(row, L_sequence, method = \"pearson\"):\n",
      "“the standard deviation is zero”\n",
      "Warning message in cor(row, L_sequence, method = \"pearson\"):\n",
      "“the standard deviation is zero”\n",
      "Warning message in cor(row, L_sequence, method = \"pearson\"):\n",
      "“the standard deviation is zero”\n",
      "Warning message in cor(row, L_sequence, method = \"pearson\"):\n",
      "“the standard deviation is zero”\n",
      "Warning message in cor(row, L_sequence, method = \"pearson\"):\n",
      "“the standard deviation is zero”\n",
      "Warning message in cor(row, L_sequence, method = \"pearson\"):\n",
      "“the standard deviation is zero”\n",
      "Warning message in cor(row, L_sequence, method = \"pearson\"):\n",
      "“the standard deviation is zero”\n",
      "Warning message in cor(row, L_sequence, method = \"pearson\"):\n",
      "“the standard deviation is zero”\n"
     ]
    },
    {
     "data": {
      "text/plain": [
       "\n",
       "FALSE  TRUE \n",
       "  251    54 "
      ]
     },
     "metadata": {},
     "output_type": "display_data"
    },
    {
     "data": {
      "text/plain": [
       "\n",
       "FALSE  TRUE \n",
       "  278    27 "
      ]
     },
     "metadata": {},
     "output_type": "display_data"
    },
    {
     "data": {
      "text/html": [
       "<strong>70%:</strong> 0.393041832067032"
      ],
      "text/latex": [
       "\\textbf{70\\textbackslash{}\\%:} 0.393041832067032"
      ],
      "text/markdown": [
       "**70%:** 0.393041832067032"
      ],
      "text/plain": [
       "      70% \n",
       "0.3930418 "
      ]
     },
     "metadata": {},
     "output_type": "display_data"
    },
    {
     "data": {
      "text/html": [
       "<strong>30%:</strong> -0.305699202718803"
      ],
      "text/latex": [
       "\\textbf{30\\textbackslash{}\\%:} -0.305699202718803"
      ],
      "text/markdown": [
       "**30%:** -0.305699202718803"
      ],
      "text/plain": [
       "       30% \n",
       "-0.3056992 "
      ]
     },
     "metadata": {},
     "output_type": "display_data"
    },
    {
     "data": {
      "text/html": [
       "<style>\n",
       ".list-inline {list-style: none; margin:0; padding: 0}\n",
       ".list-inline>li {display: inline-block}\n",
       ".list-inline>li:not(:last-child)::after {content: \"\\00b7\"; padding: 0 .5ex}\n",
       "</style>\n",
       "<ol class=list-inline><li>51</li><li>15</li></ol>\n"
      ],
      "text/latex": [
       "\\begin{enumerate*}\n",
       "\\item 51\n",
       "\\item 15\n",
       "\\end{enumerate*}\n"
      ],
      "text/markdown": [
       "1. 51\n",
       "2. 15\n",
       "\n",
       "\n"
      ],
      "text/plain": [
       "[1] 51 15"
      ]
     },
     "metadata": {},
     "output_type": "display_data"
    },
    {
     "data": {
      "text/html": [
       "<style>\n",
       ".list-inline {list-style: none; margin:0; padding: 0}\n",
       ".list-inline>li {display: inline-block}\n",
       ".list-inline>li:not(:last-child)::after {content: \"\\00b7\"; padding: 0 .5ex}\n",
       "</style>\n",
       "<ol class=list-inline><li>26</li><li>15</li></ol>\n"
      ],
      "text/latex": [
       "\\begin{enumerate*}\n",
       "\\item 26\n",
       "\\item 15\n",
       "\\end{enumerate*}\n"
      ],
      "text/markdown": [
       "1. 26\n",
       "2. 15\n",
       "\n",
       "\n"
      ],
      "text/plain": [
       "[1] 26 15"
      ]
     },
     "metadata": {},
     "output_type": "display_data"
    },
    {
     "data": {
      "text/html": [
       "<style>\n",
       ".list-inline {list-style: none; margin:0; padding: 0}\n",
       ".list-inline>li {display: inline-block}\n",
       ".list-inline>li:not(:last-child)::after {content: \"\\00b7\"; padding: 0 .5ex}\n",
       "</style>\n",
       "<ol class=list-inline><li>19</li><li>15</li></ol>\n"
      ],
      "text/latex": [
       "\\begin{enumerate*}\n",
       "\\item 19\n",
       "\\item 15\n",
       "\\end{enumerate*}\n"
      ],
      "text/markdown": [
       "1. 19\n",
       "2. 15\n",
       "\n",
       "\n"
      ],
      "text/plain": [
       "[1] 19 15"
      ]
     },
     "metadata": {},
     "output_type": "display_data"
    },
    {
     "data": {
      "text/html": [
       "<style>\n",
       ".list-inline {list-style: none; margin:0; padding: 0}\n",
       ".list-inline>li {display: inline-block}\n",
       ".list-inline>li:not(:last-child)::after {content: \"\\00b7\"; padding: 0 .5ex}\n",
       "</style>\n",
       "<ol class=list-inline><li>52</li><li>15</li></ol>\n"
      ],
      "text/latex": [
       "\\begin{enumerate*}\n",
       "\\item 52\n",
       "\\item 15\n",
       "\\end{enumerate*}\n"
      ],
      "text/markdown": [
       "1. 52\n",
       "2. 15\n",
       "\n",
       "\n"
      ],
      "text/plain": [
       "[1] 52 15"
      ]
     },
     "metadata": {},
     "output_type": "display_data"
    },
    {
     "data": {
      "text/html": [
       "689"
      ],
      "text/latex": [
       "689"
      ],
      "text/markdown": [
       "689"
      ],
      "text/plain": [
       "[1] 689"
      ]
     },
     "metadata": {},
     "output_type": "display_data"
    },
    {
     "data": {
      "text/html": [
       "<style>\n",
       ".list-inline {list-style: none; margin:0; padding: 0}\n",
       ".list-inline>li {display: inline-block}\n",
       ".list-inline>li:not(:last-child)::after {content: \"\\00b7\"; padding: 0 .5ex}\n",
       "</style>\n",
       "<ol class=list-inline><li>249</li><li>12</li></ol>\n"
      ],
      "text/latex": [
       "\\begin{enumerate*}\n",
       "\\item 249\n",
       "\\item 12\n",
       "\\end{enumerate*}\n"
      ],
      "text/markdown": [
       "1. 249\n",
       "2. 12\n",
       "\n",
       "\n"
      ],
      "text/plain": [
       "[1] 249  12"
      ]
     },
     "metadata": {},
     "output_type": "display_data"
    },
    {
     "name": "stderr",
     "output_type": "stream",
     "text": [
      "Warning message in cor(row, L_sequence, method = \"pearson\"):\n",
      "“the standard deviation is zero”\n",
      "Warning message in cor(row, L_sequence, method = \"pearson\"):\n",
      "“the standard deviation is zero”\n",
      "Warning message in cor(row, L_sequence, method = \"pearson\"):\n",
      "“the standard deviation is zero”\n",
      "Warning message in cor(row, L_sequence, method = \"pearson\"):\n",
      "“the standard deviation is zero”\n",
      "Warning message in cor(row, L_sequence, method = \"pearson\"):\n",
      "“the standard deviation is zero”\n",
      "Warning message in cor(row, L_sequence, method = \"pearson\"):\n",
      "“the standard deviation is zero”\n",
      "Warning message in cor(row, L_sequence, method = \"pearson\"):\n",
      "“the standard deviation is zero”\n",
      "Warning message in cor(row, L_sequence, method = \"pearson\"):\n",
      "“the standard deviation is zero”\n",
      "Warning message in cor(row, L_sequence, method = \"pearson\"):\n",
      "“the standard deviation is zero”\n",
      "Warning message in cor(row, L_sequence, method = \"pearson\"):\n",
      "“the standard deviation is zero”\n",
      "Warning message in cor(row, L_sequence, method = \"pearson\"):\n",
      "“the standard deviation is zero”\n",
      "Warning message in cor(row, L_sequence, method = \"pearson\"):\n",
      "“the standard deviation is zero”\n",
      "Warning message in cor(row, L_sequence, method = \"pearson\"):\n",
      "“the standard deviation is zero”\n",
      "Warning message in cor(row, L_sequence, method = \"pearson\"):\n",
      "“the standard deviation is zero”\n"
     ]
    },
    {
     "data": {
      "text/plain": [
       "\n",
       "FALSE  TRUE \n",
       "  195    54 "
      ]
     },
     "metadata": {},
     "output_type": "display_data"
    },
    {
     "data": {
      "text/plain": [
       "\n",
       "FALSE  TRUE \n",
       "  226    23 "
      ]
     },
     "metadata": {},
     "output_type": "display_data"
    },
    {
     "data": {
      "text/html": [
       "<strong>70%:</strong> 0.393041832067032"
      ],
      "text/latex": [
       "\\textbf{70\\textbackslash{}\\%:} 0.393041832067032"
      ],
      "text/markdown": [
       "**70%:** 0.393041832067032"
      ],
      "text/plain": [
       "      70% \n",
       "0.3930418 "
      ]
     },
     "metadata": {},
     "output_type": "display_data"
    },
    {
     "data": {
      "text/html": [
       "<strong>30%:</strong> -0.282399656485661"
      ],
      "text/latex": [
       "\\textbf{30\\textbackslash{}\\%:} -0.282399656485661"
      ],
      "text/markdown": [
       "**30%:** -0.282399656485661"
      ],
      "text/plain": [
       "       30% \n",
       "-0.2823997 "
      ]
     },
     "metadata": {},
     "output_type": "display_data"
    },
    {
     "data": {
      "text/html": [
       "<style>\n",
       ".list-inline {list-style: none; margin:0; padding: 0}\n",
       ".list-inline>li {display: inline-block}\n",
       ".list-inline>li:not(:last-child)::after {content: \"\\00b7\"; padding: 0 .5ex}\n",
       "</style>\n",
       "<ol class=list-inline><li>52</li><li>15</li></ol>\n"
      ],
      "text/latex": [
       "\\begin{enumerate*}\n",
       "\\item 52\n",
       "\\item 15\n",
       "\\end{enumerate*}\n"
      ],
      "text/markdown": [
       "1. 52\n",
       "2. 15\n",
       "\n",
       "\n"
      ],
      "text/plain": [
       "[1] 52 15"
      ]
     },
     "metadata": {},
     "output_type": "display_data"
    },
    {
     "data": {
      "text/html": [
       "<style>\n",
       ".list-inline {list-style: none; margin:0; padding: 0}\n",
       ".list-inline>li {display: inline-block}\n",
       ".list-inline>li:not(:last-child)::after {content: \"\\00b7\"; padding: 0 .5ex}\n",
       "</style>\n",
       "<ol class=list-inline><li>19</li><li>15</li></ol>\n"
      ],
      "text/latex": [
       "\\begin{enumerate*}\n",
       "\\item 19\n",
       "\\item 15\n",
       "\\end{enumerate*}\n"
      ],
      "text/markdown": [
       "1. 19\n",
       "2. 15\n",
       "\n",
       "\n"
      ],
      "text/plain": [
       "[1] 19 15"
      ]
     },
     "metadata": {},
     "output_type": "display_data"
    },
    {
     "data": {
      "text/html": [
       "<style>\n",
       ".list-inline {list-style: none; margin:0; padding: 0}\n",
       ".list-inline>li {display: inline-block}\n",
       ".list-inline>li:not(:last-child)::after {content: \"\\00b7\"; padding: 0 .5ex}\n",
       "</style>\n",
       "<ol class=list-inline><li>25</li><li>15</li></ol>\n"
      ],
      "text/latex": [
       "\\begin{enumerate*}\n",
       "\\item 25\n",
       "\\item 15\n",
       "\\end{enumerate*}\n"
      ],
      "text/markdown": [
       "1. 25\n",
       "2. 15\n",
       "\n",
       "\n"
      ],
      "text/plain": [
       "[1] 25 15"
      ]
     },
     "metadata": {},
     "output_type": "display_data"
    },
    {
     "data": {
      "text/html": [
       "<style>\n",
       ".list-inline {list-style: none; margin:0; padding: 0}\n",
       ".list-inline>li {display: inline-block}\n",
       ".list-inline>li:not(:last-child)::after {content: \"\\00b7\"; padding: 0 .5ex}\n",
       "</style>\n",
       "<ol class=list-inline><li>45</li><li>15</li></ol>\n"
      ],
      "text/latex": [
       "\\begin{enumerate*}\n",
       "\\item 45\n",
       "\\item 15\n",
       "\\end{enumerate*}\n"
      ],
      "text/markdown": [
       "1. 45\n",
       "2. 15\n",
       "\n",
       "\n"
      ],
      "text/plain": [
       "[1] 45 15"
      ]
     },
     "metadata": {},
     "output_type": "display_data"
    }
   ],
   "source": [
    "region_has_up_res <- read.table(\"/disk1/wenqing/tmp_data/PFC_s2/all_analysis_result/psi_matrix/allType_region_has_up.txt\")[,1]\n",
    "length(region_has_up_res)\n",
    "sub_psi_mtx_up_res <- psi_matrix[region_has_up_res,]\n",
    "sub_psi_mtx_up_res[is.na(sub_psi_mtx_up_res)] <- 0\n",
    "sub_psi_mtx_up_res <- sub_psi_mtx_up_res[rowSums(sub_psi_mtx_up_res)!=0,]\n",
    "dim(sub_psi_mtx_up_res)\n",
    "df <- sub_psi_mtx_up_res %>%\n",
    "  rowwise() %>%\n",
    "  mutate(diff_PSI = max(c_across(starts_with(\"GW\"))) - min(c_across(starts_with(\"GW\"))))\n",
    "df <- as.data.frame(df)\n",
    "rownames(df) <- rownames(sub_psi_mtx_up_res)\n",
    "# 生成L序列，L代表时间点的均匀分布，从1到n（n为列数）\n",
    "L_sequence <- seq(0,1,length.out=ncol(sub_psi_mtx_up_res))\n",
    "\n",
    "# 定义一个函数来计算单行的X与L的相关性\n",
    "calc_correlation <- function(row) {\n",
    "  cor(row, L_sequence, method = \"pearson\")\n",
    "}\n",
    "\n",
    "cor_value <- apply(sub_psi_mtx_up_res,1,calc_correlation)\n",
    "psi_no_change <- function(row){\n",
    "  pass_flag_num <- length(which(row > 0.9))\n",
    "  if(pass_flag_num > 0.8*12){\n",
    "    return(1)\n",
    "  }\n",
    "  else{\n",
    "    return(0)\n",
    "  }\n",
    "}\n",
    "no_change_index <- apply(sub_psi_mtx_up_res,1,psi_no_change)\n",
    "cor_value[is.na(cor_value)] <- 0\n",
    "df$cor_value <- cor_value\n",
    "df$change_index <- no_change_index\n",
    "#change_index=1:没有变换，=0:有变化\n",
    "#quantile(df$cor_value[which(df$cor_value>=0)])\n",
    "# 使用quantile函数直接找到10%分位点的值\n",
    "quantile_10_percent_above0 <- quantile(df$cor_value[df$cor_value >= 0], 0.7)\n",
    "quantile_10_percent_below0 <- quantile(df$cor_value[df$cor_value <= 0], 0.3)\n",
    "table(df$cor_value > quantile_10_percent_above0)\n",
    "table(df$cor_value < quantile_10_percent_below0)\n",
    "quantile_10_percent_above0\n",
    "quantile_10_percent_below0\n",
    "##psi没变化的event\n",
    "no_change_event <- df[which(df$change_index == 1),]\n",
    "stable_event <- df[which(df$diff_PSI < 0.1),]\n",
    "up_event <- df[which(df$diff_PSI >= 0.1 & df$cor_value > quantile_10_percent_above0),]\n",
    "down_event <- df[which(df$diff_PSI >= 0.1 & df$cor_value < quantile_10_percent_below0),]\n",
    "dim(up_event)\n",
    "dim(down_event)\n",
    "dim(stable_event)\n",
    "dim(no_change_event)\n",
    "\n",
    "write.table(up_event,\"~/tmp_data/PFC_s2/all_analysis_result/editing_level_change/notwith1/cor_threshold_0.3/up_res_related_psi/psi_up_events.txt\",quote=F,sep='\\t',col.names=F)\n",
    "write.table(down_event,\"~/tmp_data/PFC_s2/all_analysis_result/editing_level_change/notwith1/cor_threshold_0.3/up_res_related_psi/psi_down_events.txt\",quote=F,sep='\\t',col.names=F)\n",
    "write.table(stable_event,\"~/tmp_data/PFC_s2/all_analysis_result/editing_level_change/notwith1/cor_threshold_0.3/up_res_related_psi/psi_stable_events.txt\",quote=F,sep='\\t',col.names=F)\n",
    "write.table(no_change_event,\"~/tmp_data/PFC_s2/all_analysis_result/editing_level_change/notwith1/cor_threshold_0.3/up_res_related_psi/psi_no_change_events.txt\",quote=F,sep='\\t',col.names=F)\n",
    "region_has_down_res <- read.table(\"/disk1/wenqing/tmp_data/PFC_s2/all_analysis_result/psi_matrix/allType_region_has_down.txt\")[,1]\n",
    "length(region_has_down_res)\n",
    "sub_psi_mtx_down_res <- psi_matrix[region_has_down_res,]\n",
    "sub_psi_mtx_down_res[is.na(sub_psi_mtx_down_res)] <- 0\n",
    "sub_psi_mtx_down_res <- sub_psi_mtx_down_res[rowSums(sub_psi_mtx_down_res)!=0,]\n",
    "dim(sub_psi_mtx_down_res)\n",
    "df <- sub_psi_mtx_down_res %>%\n",
    "  rowwise() %>%\n",
    "  mutate(diff_PSI = max(c_across(starts_with(\"GW\"))) - min(c_across(starts_with(\"GW\"))))\n",
    "df <- as.data.frame(df)\n",
    "rownames(df) <- rownames(sub_psi_mtx_down_res)\n",
    "# 生成L序列，L代表时间点的均匀分布，从1到n（n为列数）\n",
    "L_sequence <- seq(0,1,length.out=ncol(sub_psi_mtx_down_res))\n",
    "\n",
    "# 定义一个函数来计算单行的X与L的相关性\n",
    "calc_correlation <- function(row) {\n",
    "  cor(row, L_sequence, method = \"pearson\")\n",
    "}\n",
    "\n",
    "cor_value <- apply(sub_psi_mtx_down_res,1,calc_correlation)\n",
    "psi_no_change <- function(row){\n",
    "  pass_flag_num <- length(which(row > 0.9))\n",
    "  if(pass_flag_num > 0.8*12){\n",
    "    return(1)\n",
    "  }\n",
    "  else{\n",
    "    return(0)\n",
    "  }\n",
    "}\n",
    "no_change_index <- apply(sub_psi_mtx_down_res,1,psi_no_change)\n",
    "cor_value[is.na(cor_value)] <- 0\n",
    "df$cor_value <- cor_value\n",
    "df$change_index <- no_change_index\n",
    "#change_index=1:没有变换，=0:有变化\n",
    "#quantile(df$cor_value[which(df$cor_value>=0)])\n",
    "# 使用quantile函数直接找到10%分位点的值\n",
    "quantile_10_percent_above0 <- quantile(df$cor_value[df$cor_value >= 0], 0.7)\n",
    "quantile_10_percent_below0 <- quantile(df$cor_value[df$cor_value <= 0], 0.3)\n",
    "table(df$cor_value > quantile_10_percent_above0)\n",
    "table(df$cor_value < quantile_10_percent_below0)\n",
    "quantile_10_percent_above0\n",
    "quantile_10_percent_below0\n",
    "##psi没变化的event\n",
    "no_change_event <- df[which(df$change_index == 1),]\n",
    "stable_event <- df[which(df$diff_PSI < 0.1),]\n",
    "up_event <- df[which(df$diff_PSI >= 0.1 & df$cor_value > quantile_10_percent_above0),]\n",
    "down_event <- df[which(df$diff_PSI >= 0.1 & df$cor_value < quantile_10_percent_below0),]\n",
    "dim(up_event)\n",
    "dim(down_event)\n",
    "dim(stable_event)\n",
    "dim(no_change_event)\n",
    "\n",
    "write.table(up_event,\"~/tmp_data/PFC_s2/all_analysis_result/editing_level_change/notwith1/cor_threshold_0.3/down_res_related_psi/psi_up_events.txt\",quote=F,sep='\\t',col.names=F)\n",
    "write.table(down_event,\"~/tmp_data/PFC_s2/all_analysis_result/editing_level_change/notwith1/cor_threshold_0.3/down_res_related_psi/psi_down_events.txt\",quote=F,sep='\\t',col.names=F)\n",
    "write.table(stable_event,\"~/tmp_data/PFC_s2/all_analysis_result/editing_level_change/notwith1/cor_threshold_0.3/down_res_related_psi/psi_stable_events.txt\",quote=F,sep='\\t',col.names=F)\n",
    "write.table(no_change_event,\"~/tmp_data/PFC_s2/all_analysis_result/editing_level_change/notwith1/cor_threshold_0.3/down_res_related_psi/psi_no_change_events.txt\",quote=F,sep='\\t',col.names=F)\n",
    "region_has_stable_res <- read.table(\"/disk1/wenqing/tmp_data/PFC_s2/all_analysis_result/psi_matrix/allType_region_has_stable.txt\")[,1]\n",
    "length(region_has_stable_res)\n",
    "sub_psi_mtx_stable_res <- psi_matrix[region_has_stable_res,]\n",
    "sub_psi_mtx_stable_res[is.na(sub_psi_mtx_stable_res)] <- 0\n",
    "sub_psi_mtx_stable_res <- sub_psi_mtx_stable_res[rowSums(sub_psi_mtx_stable_res)!=0,]\n",
    "dim(sub_psi_mtx_stable_res)\n",
    "df <- sub_psi_mtx_stable_res %>%\n",
    "  rowwise() %>%\n",
    "  mutate(diff_PSI = max(c_across(starts_with(\"GW\"))) - min(c_across(starts_with(\"GW\"))))\n",
    "df <- as.data.frame(df)\n",
    "rownames(df) <- rownames(sub_psi_mtx_stable_res)\n",
    "# 生成L序列，L代表时间点的均匀分布，从1到n（n为列数）\n",
    "L_sequence <- seq(0,1,length.out=ncol(sub_psi_mtx_stable_res))\n",
    "\n",
    "# 定义一个函数来计算单行的X与L的相关性\n",
    "calc_correlation <- function(row) {\n",
    "  cor(row, L_sequence, method = \"pearson\")\n",
    "}\n",
    "\n",
    "cor_value <- apply(sub_psi_mtx_stable_res,1,calc_correlation)\n",
    "psi_no_change <- function(row){\n",
    "  pass_flag_num <- length(which(row > 0.9))\n",
    "  if(pass_flag_num > 0.8*12){\n",
    "    return(1)\n",
    "  }\n",
    "  else{\n",
    "    return(0)\n",
    "  }\n",
    "}\n",
    "no_change_index <- apply(sub_psi_mtx_stable_res,1,psi_no_change)\n",
    "cor_value[is.na(cor_value)] <- 0\n",
    "df$cor_value <- cor_value\n",
    "df$change_index <- no_change_index\n",
    "#change_index=1:没有变换，=0:有变化\n",
    "#quantile(df$cor_value[which(df$cor_value>=0)])\n",
    "# 使用quantile函数直接找到10%分位点的值\n",
    "quantile_10_percent_above0 <- quantile(df$cor_value[df$cor_value >= 0], 0.7)\n",
    "quantile_10_percent_below0 <- quantile(df$cor_value[df$cor_value <= 0], 0.3)\n",
    "table(df$cor_value > quantile_10_percent_above0)\n",
    "table(df$cor_value < quantile_10_percent_below0)\n",
    "quantile_10_percent_above0\n",
    "quantile_10_percent_below0\n",
    "##psi没变化的event\n",
    "no_change_event <- df[which(df$change_index == 1),]\n",
    "stable_event <- df[which(df$diff_PSI < 0.1),]\n",
    "up_event <- df[which(df$diff_PSI >= 0.1 & df$cor_value > quantile_10_percent_above0),]\n",
    "down_event <- df[which(df$diff_PSI >= 0.1 & df$cor_value < quantile_10_percent_below0),]\n",
    "dim(up_event)\n",
    "dim(down_event)\n",
    "dim(stable_event)\n",
    "dim(no_change_event)\n",
    "\n",
    "write.table(up_event,\"~/tmp_data/PFC_s2/all_analysis_result/editing_level_change/notwith1/cor_threshold_0.3/stable_res_related_psi/psi_up_events.txt\",quote=F,sep='\\t',col.names=F)\n",
    "write.table(down_event,\"~/tmp_data/PFC_s2/all_analysis_result/editing_level_change/notwith1/cor_threshold_0.3/stable_res_related_psi/psi_down_events.txt\",quote=F,sep='\\t',col.names=F)\n",
    "write.table(stable_event,\"~/tmp_data/PFC_s2/all_analysis_result/editing_level_change/notwith1/cor_threshold_0.3/stable_res_related_psi/psi_stable_events.txt\",quote=F,sep='\\t',col.names=F)\n",
    "write.table(no_change_event,\"~/tmp_data/PFC_s2/all_analysis_result/editing_level_change/notwith1/cor_threshold_0.3/stable_res_related_psi/psi_no_change_events.txt\",quote=F,sep='\\t',col.names=F)"
   ]
  },
  {
   "cell_type": "code",
   "execution_count": 48,
   "metadata": {
    "vscode": {
     "languageId": "r"
    }
   },
   "outputs": [],
   "source": [
    "#######不同的cor值，res数量不同，iri fc和expr fc的cor结果也不同\n",
    "as_events_num <- c(226,101,74,138,51,26,19,52,52,19,25,45)\n",
    "res_group <- rep(c('res_up','res_down','res_stable'),each=4)\n",
    "psi_group <- rep(c('psi_up','psi_down','psi_stable','psi_no_change'),3)\n",
    "\n",
    "dat <- as.data.frame(cbind(as_events_num,res_group,psi_group))\n",
    "dat$as_events_num <- as.numeric(dat$as_events_num)\n",
    "\n",
    "# 将psi_group列转换为因子，并设定其水平顺序\n",
    "dat$psi_group <- factor(dat$psi_group, levels = c('psi_up','psi_down','psi_stable','psi_no_change'))\n",
    "dat$res_group <- factor(dat$res_group, levels = c('res_up','res_down','res_stable'))"
   ]
  },
  {
   "cell_type": "code",
   "execution_count": 49,
   "metadata": {
    "vscode": {
     "languageId": "r"
    }
   },
   "outputs": [
    {
     "data": {
      "text/html": [
       "828"
      ],
      "text/latex": [
       "828"
      ],
      "text/markdown": [
       "828"
      ],
      "text/plain": [
       "[1] 828"
      ]
     },
     "metadata": {},
     "output_type": "display_data"
    }
   ],
   "source": [
    "sum(as_events_num)"
   ]
  },
  {
   "cell_type": "code",
   "execution_count": 52,
   "metadata": {
    "vscode": {
     "languageId": "r"
    }
   },
   "outputs": [
    {
     "data": {
      "image/png": "[encoded data removed]",
      "text/plain": [
       "plot without title"
      ]
     },
     "metadata": {
      "image/png": {
       "height": 420,
       "width": 420
      }
     },
     "output_type": "display_data"
    }
   ],
   "source": [
    "colors=c(\"#840dd3\",\"#04c49c\",\"#2759bd\",\"#FFB400\")\n",
    "# 使用ggplot2绘制分组柱状图，加入颜色指定\n",
    "ggplot(dat, aes(x = res_group, y = as_events_num, fill = psi_group)) +\n",
    "  geom_bar(stat = \"identity\", position = \"dodge\") +\n",
    "  ylim(0,300) +\n",
    "  scale_fill_manual(values = colors) + # 指定颜色\n",
    "  #facet_wrap(~ cell_type, ncol = 1, scales = \"free_x\") +\n",
    "  labs(title = \"\",\n",
    "       x = \"\", y = \"Number of As events\", fill = \"\") +\n",
    "  theme_bw() +\n",
    "  theme(text = element_text(size = 13),\n",
    "        legend.position = c(0.85,0.85),\n",
    "        legend.box.background = element_rect(color = \"black\", size = 0.5),\n",
    "        legend.spacing.x = unit(1, \"mm\"),     # 调整水平间距\n",
    "        legend.spacing.y = unit(1, \"mm\"),    # 调整垂直间距\n",
    "        legend.margin = margin(3, 3, 3, 3)\n",
    "  ) +\n",
    "  guides(fill = guide_legend(reverse = F)) +\n",
    "  geom_text(aes(label = as_events_num), \n",
    "            position = position_dodge(width = 0.9), # 调整分组条形图中标签的位置\n",
    "            vjust = -0.25, # 上下微调文本位置，负值向上，正值向下\n",
    "            size = 4)\n"
   ]
  },
  {
   "cell_type": "code",
   "execution_count": null,
   "metadata": {
    "vscode": {
     "languageId": "r"
    }
   },
   "outputs": [],
   "source": []
  },
  {
   "cell_type": "markdown",
   "metadata": {},
   "source": [
    "################对这些as事件的psi matrix进行PCA分析\n",
    "#将3组res中的所有stable、down、up、no_change psi事件合并成一个matrix,并在每一个事件的后面添加res group和psi change group\n",
    "cd ./up_res_related_psi\n",
    "paste <(awk '{if($1!=\"GW08\") print $0}' psi_up_events.txt) <(yes \"res_up\" | head -n 226) <(yes \"psi_up\" | head -n 226) > psi_up_events_wzGRP.txt\n",
    "paste <(awk '{if($1!=\"GW08\") print $0}' psi_down_events.txt) <(yes \"res_up\" | head -n 101) <(yes \"psi_down\" | head -n 101) > psi_down_events_wzGRP.txt\n",
    "paste <(awk '{if($1!=\"GW08\") print $0}' psi_stable_events.txt) <(yes \"res_up\" | head -n 74) <(yes \"psi_stable\" | head -n 74) > psi_stable_events_wzGRP.txt\n",
    "paste <(awk '{if($1!=\"GW08\") print $0}' psi_no_change_events.txt) <(yes \"res_up\" | head -n 138) <(yes \"psi_no_change\" | head -n 138) > psi_no_change_events_wzGRP.txt\n",
    "#........\n",
    "cat ./up_res_related_psi/*wz* ./down_res_related_psi/*wz* ./stable_res_related_psi/*wz* > ./all_res_group_all_psi_events.txt\n"
   ]
  },
  {
   "cell_type": "code",
   "execution_count": 59,
   "metadata": {
    "vscode": {
     "languageId": "r"
    }
   },
   "outputs": [
    {
     "data": {
      "text/html": [
       "<table class=\"dataframe\">\n",
       "<caption>A data.frame: 6 × 17</caption>\n",
       "<thead>\n",
       "\t<tr><th></th><th scope=col>V2</th><th scope=col>V3</th><th scope=col>V4</th><th scope=col>V5</th><th scope=col>V6</th><th scope=col>V7</th><th scope=col>V8</th><th scope=col>V9</th><th scope=col>V10</th><th scope=col>V11</th><th scope=col>V12</th><th scope=col>V13</th><th scope=col>V14</th><th scope=col>V15</th><th scope=col>V16</th><th scope=col>V17</th><th scope=col>V18</th></tr>\n",
       "\t<tr><th></th><th scope=col>&lt;dbl&gt;</th><th scope=col>&lt;dbl&gt;</th><th scope=col>&lt;dbl&gt;</th><th scope=col>&lt;dbl&gt;</th><th scope=col>&lt;dbl&gt;</th><th scope=col>&lt;dbl&gt;</th><th scope=col>&lt;dbl&gt;</th><th scope=col>&lt;dbl&gt;</th><th scope=col>&lt;dbl&gt;</th><th scope=col>&lt;dbl&gt;</th><th scope=col>&lt;dbl&gt;</th><th scope=col>&lt;dbl&gt;</th><th scope=col>&lt;dbl&gt;</th><th scope=col>&lt;dbl&gt;</th><th scope=col>&lt;int&gt;</th><th scope=col>&lt;chr&gt;</th><th scope=col>&lt;chr&gt;</th></tr>\n",
       "</thead>\n",
       "<tbody>\n",
       "\t<tr><th scope=row>ENSG00000088367.23;MX:chr20:36092813-36112426:36112480-36175551:36092813-36173764:36173954-36175551:+</th><td>1.0000000</td><td>1.000000000</td><td>1.00000000</td><td>1.00000000</td><td>1.00000000</td><td>1.00000000</td><td>1.000000000</td><td>0.00000000</td><td>1.0000000</td><td>1.00000000</td><td>0.00000000</td><td>1.0000000</td><td>1.0000000</td><td>-0.3886502</td><td>1</td><td>res_up</td><td>psi_down</td></tr>\n",
       "\t<tr><th scope=row>ENSG00000100325.15;MX:chr22:29832342-29834442:29834550-29838178:29832342-29836438:29836500-29838178:-</th><td>0.0000000</td><td>1.000000000</td><td>0.00000000</td><td>0.00000000</td><td>0.00000000</td><td>0.00000000</td><td>0.000000000</td><td>0.00000000</td><td>0.0000000</td><td>0.00000000</td><td>0.00000000</td><td>0.0000000</td><td>1.0000000</td><td>-0.3930418</td><td>0</td><td>res_up</td><td>psi_down</td></tr>\n",
       "\t<tr><th scope=row>ENSG00000163630.11;MX:chr3:63278742-63480832:63480956-63609125:63278742-63556543:63556741-63609125:+</th><td>1.0000000</td><td>0.000000000</td><td>0.00000000</td><td>0.00000000</td><td>0.00000000</td><td>0.00000000</td><td>0.000000000</td><td>0.00000000</td><td>0.0000000</td><td>0.00000000</td><td>0.00000000</td><td>0.0000000</td><td>1.0000000</td><td>-0.4803845</td><td>0</td><td>res_up</td><td>psi_down</td></tr>\n",
       "\t<tr><th scope=row>ENSG00000129071.10;A5:chr3:129434136-129436443:129434136-129436461:-</th><td>0.0000000</td><td>1.000000000</td><td>0.00000000</td><td>0.00000000</td><td>0.00000000</td><td>0.97250202</td><td>0.000000000</td><td>0.00000000</td><td>0.0000000</td><td>0.00000000</td><td>0.00000000</td><td>0.0000000</td><td>1.0000000</td><td>-0.3274490</td><td>0</td><td>res_up</td><td>psi_down</td></tr>\n",
       "\t<tr><th scope=row>ENSG00000167642.13;A5:chr19:38264998-38283627:38264723-38283627:+</th><td>1.0000000</td><td>1.000000000</td><td>1.00000000</td><td>1.00000000</td><td>1.00000000</td><td>1.00000000</td><td>1.000000000</td><td>1.00000000</td><td>1.0000000</td><td>1.00000000</td><td>0.00000000</td><td>1.0000000</td><td>1.0000000</td><td>-0.3930418</td><td>1</td><td>res_up</td><td>psi_down</td></tr>\n",
       "\t<tr><th scope=row>ENSG00000179915.24;A3:chr2:50925955-51027502:50925952-51027502:-</th><td>0.1651532</td><td>0.004231252</td><td>0.04123618</td><td>0.02373961</td><td>0.09668841</td><td>0.01977035</td><td>0.006160147</td><td>0.03074605</td><td>0.0274772</td><td>0.02737971</td><td>0.01563169</td><td>0.0642028</td><td>0.1609219</td><td>-0.3546166</td><td>0</td><td>res_up</td><td>psi_down</td></tr>\n",
       "</tbody>\n",
       "</table>\n"
      ],
      "text/latex": [
       "A data.frame: 6 × 17\n",
       "\\begin{tabular}{r|lllllllllllllllll}\n",
       "  & V2 & V3 & V4 & V5 & V6 & V7 & V8 & V9 & V10 & V11 & V12 & V13 & V14 & V15 & V16 & V17 & V18\\\\\n",
       "  & <dbl> & <dbl> & <dbl> & <dbl> & <dbl> & <dbl> & <dbl> & <dbl> & <dbl> & <dbl> & <dbl> & <dbl> & <dbl> & <dbl> & <int> & <chr> & <chr>\\\\\n",
       "\\hline\n",
       "\tENSG00000088367.23;MX:chr20:36092813-36112426:36112480-36175551:36092813-36173764:36173954-36175551:+ & 1.0000000 & 1.000000000 & 1.00000000 & 1.00000000 & 1.00000000 & 1.00000000 & 1.000000000 & 0.00000000 & 1.0000000 & 1.00000000 & 0.00000000 & 1.0000000 & 1.0000000 & -0.3886502 & 1 & res\\_up & psi\\_down\\\\\n",
       "\tENSG00000100325.15;MX:chr22:29832342-29834442:29834550-29838178:29832342-29836438:29836500-29838178:- & 0.0000000 & 1.000000000 & 0.00000000 & 0.00000000 & 0.00000000 & 0.00000000 & 0.000000000 & 0.00000000 & 0.0000000 & 0.00000000 & 0.00000000 & 0.0000000 & 1.0000000 & -0.3930418 & 0 & res\\_up & psi\\_down\\\\\n",
       "\tENSG00000163630.11;MX:chr3:63278742-63480832:63480956-63609125:63278742-63556543:63556741-63609125:+ & 1.0000000 & 0.000000000 & 0.00000000 & 0.00000000 & 0.00000000 & 0.00000000 & 0.000000000 & 0.00000000 & 0.0000000 & 0.00000000 & 0.00000000 & 0.0000000 & 1.0000000 & -0.4803845 & 0 & res\\_up & psi\\_down\\\\\n",
       "\tENSG00000129071.10;A5:chr3:129434136-129436443:129434136-129436461:- & 0.0000000 & 1.000000000 & 0.00000000 & 0.00000000 & 0.00000000 & 0.97250202 & 0.000000000 & 0.00000000 & 0.0000000 & 0.00000000 & 0.00000000 & 0.0000000 & 1.0000000 & -0.3274490 & 0 & res\\_up & psi\\_down\\\\\n",
       "\tENSG00000167642.13;A5:chr19:38264998-38283627:38264723-38283627:+ & 1.0000000 & 1.000000000 & 1.00000000 & 1.00000000 & 1.00000000 & 1.00000000 & 1.000000000 & 1.00000000 & 1.0000000 & 1.00000000 & 0.00000000 & 1.0000000 & 1.0000000 & -0.3930418 & 1 & res\\_up & psi\\_down\\\\\n",
       "\tENSG00000179915.24;A3:chr2:50925955-51027502:50925952-51027502:- & 0.1651532 & 0.004231252 & 0.04123618 & 0.02373961 & 0.09668841 & 0.01977035 & 0.006160147 & 0.03074605 & 0.0274772 & 0.02737971 & 0.01563169 & 0.0642028 & 0.1609219 & -0.3546166 & 0 & res\\_up & psi\\_down\\\\\n",
       "\\end{tabular}\n"
      ],
      "text/markdown": [
       "\n",
       "A data.frame: 6 × 17\n",
       "\n",
       "| <!--/--> | V2 &lt;dbl&gt; | V3 &lt;dbl&gt; | V4 &lt;dbl&gt; | V5 &lt;dbl&gt; | V6 &lt;dbl&gt; | V7 &lt;dbl&gt; | V8 &lt;dbl&gt; | V9 &lt;dbl&gt; | V10 &lt;dbl&gt; | V11 &lt;dbl&gt; | V12 &lt;dbl&gt; | V13 &lt;dbl&gt; | V14 &lt;dbl&gt; | V15 &lt;dbl&gt; | V16 &lt;int&gt; | V17 &lt;chr&gt; | V18 &lt;chr&gt; |\n",
       "|---|---|---|---|---|---|---|---|---|---|---|---|---|---|---|---|---|---|\n",
       "| ENSG00000088367.23;MX:chr20:36092813-36112426:36112480-36175551:36092813-36173764:36173954-36175551:+ | 1.0000000 | 1.000000000 | 1.00000000 | 1.00000000 | 1.00000000 | 1.00000000 | 1.000000000 | 0.00000000 | 1.0000000 | 1.00000000 | 0.00000000 | 1.0000000 | 1.0000000 | -0.3886502 | 1 | res_up | psi_down |\n",
       "| ENSG00000100325.15;MX:chr22:29832342-29834442:29834550-29838178:29832342-29836438:29836500-29838178:- | 0.0000000 | 1.000000000 | 0.00000000 | 0.00000000 | 0.00000000 | 0.00000000 | 0.000000000 | 0.00000000 | 0.0000000 | 0.00000000 | 0.00000000 | 0.0000000 | 1.0000000 | -0.3930418 | 0 | res_up | psi_down |\n",
       "| ENSG00000163630.11;MX:chr3:63278742-63480832:63480956-63609125:63278742-63556543:63556741-63609125:+ | 1.0000000 | 0.000000000 | 0.00000000 | 0.00000000 | 0.00000000 | 0.00000000 | 0.000000000 | 0.00000000 | 0.0000000 | 0.00000000 | 0.00000000 | 0.0000000 | 1.0000000 | -0.4803845 | 0 | res_up | psi_down |\n",
       "| ENSG00000129071.10;A5:chr3:129434136-129436443:129434136-129436461:- | 0.0000000 | 1.000000000 | 0.00000000 | 0.00000000 | 0.00000000 | 0.97250202 | 0.000000000 | 0.00000000 | 0.0000000 | 0.00000000 | 0.00000000 | 0.0000000 | 1.0000000 | -0.3274490 | 0 | res_up | psi_down |\n",
       "| ENSG00000167642.13;A5:chr19:38264998-38283627:38264723-38283627:+ | 1.0000000 | 1.000000000 | 1.00000000 | 1.00000000 | 1.00000000 | 1.00000000 | 1.000000000 | 1.00000000 | 1.0000000 | 1.00000000 | 0.00000000 | 1.0000000 | 1.0000000 | -0.3930418 | 1 | res_up | psi_down |\n",
       "| ENSG00000179915.24;A3:chr2:50925955-51027502:50925952-51027502:- | 0.1651532 | 0.004231252 | 0.04123618 | 0.02373961 | 0.09668841 | 0.01977035 | 0.006160147 | 0.03074605 | 0.0274772 | 0.02737971 | 0.01563169 | 0.0642028 | 0.1609219 | -0.3546166 | 0 | res_up | psi_down |\n",
       "\n"
      ],
      "text/plain": [
       "                                                                                                      V2       \n",
       "ENSG00000088367.23;MX:chr20:36092813-36112426:36112480-36175551:36092813-36173764:36173954-36175551:+ 1.0000000\n",
       "ENSG00000100325.15;MX:chr22:29832342-29834442:29834550-29838178:29832342-29836438:29836500-29838178:- 0.0000000\n",
       "ENSG00000163630.11;MX:chr3:63278742-63480832:63480956-63609125:63278742-63556543:63556741-63609125:+  1.0000000\n",
       "ENSG00000129071.10;A5:chr3:129434136-129436443:129434136-129436461:-                                  0.0000000\n",
       "ENSG00000167642.13;A5:chr19:38264998-38283627:38264723-38283627:+                                     1.0000000\n",
       "ENSG00000179915.24;A3:chr2:50925955-51027502:50925952-51027502:-                                      0.1651532\n",
       "                                                                                                      V3         \n",
       "ENSG00000088367.23;MX:chr20:36092813-36112426:36112480-36175551:36092813-36173764:36173954-36175551:+ 1.000000000\n",
       "ENSG00000100325.15;MX:chr22:29832342-29834442:29834550-29838178:29832342-29836438:29836500-29838178:- 1.000000000\n",
       "ENSG00000163630.11;MX:chr3:63278742-63480832:63480956-63609125:63278742-63556543:63556741-63609125:+  0.000000000\n",
       "ENSG00000129071.10;A5:chr3:129434136-129436443:129434136-129436461:-                                  1.000000000\n",
       "ENSG00000167642.13;A5:chr19:38264998-38283627:38264723-38283627:+                                     1.000000000\n",
       "ENSG00000179915.24;A3:chr2:50925955-51027502:50925952-51027502:-                                      0.004231252\n",
       "                                                                                                      V4        \n",
       "ENSG00000088367.23;MX:chr20:36092813-36112426:36112480-36175551:36092813-36173764:36173954-36175551:+ 1.00000000\n",
       "ENSG00000100325.15;MX:chr22:29832342-29834442:29834550-29838178:29832342-29836438:29836500-29838178:- 0.00000000\n",
       "ENSG00000163630.11;MX:chr3:63278742-63480832:63480956-63609125:63278742-63556543:63556741-63609125:+  0.00000000\n",
       "ENSG00000129071.10;A5:chr3:129434136-129436443:129434136-129436461:-                                  0.00000000\n",
       "ENSG00000167642.13;A5:chr19:38264998-38283627:38264723-38283627:+                                     1.00000000\n",
       "ENSG00000179915.24;A3:chr2:50925955-51027502:50925952-51027502:-                                      0.04123618\n",
       "                                                                                                      V5        \n",
       "ENSG00000088367.23;MX:chr20:36092813-36112426:36112480-36175551:36092813-36173764:36173954-36175551:+ 1.00000000\n",
       "ENSG00000100325.15;MX:chr22:29832342-29834442:29834550-29838178:29832342-29836438:29836500-29838178:- 0.00000000\n",
       "ENSG00000163630.11;MX:chr3:63278742-63480832:63480956-63609125:63278742-63556543:63556741-63609125:+  0.00000000\n",
       "ENSG00000129071.10;A5:chr3:129434136-129436443:129434136-129436461:-                                  0.00000000\n",
       "ENSG00000167642.13;A5:chr19:38264998-38283627:38264723-38283627:+                                     1.00000000\n",
       "ENSG00000179915.24;A3:chr2:50925955-51027502:50925952-51027502:-                                      0.02373961\n",
       "                                                                                                      V6        \n",
       "ENSG00000088367.23;MX:chr20:36092813-36112426:36112480-36175551:36092813-36173764:36173954-36175551:+ 1.00000000\n",
       "ENSG00000100325.15;MX:chr22:29832342-29834442:29834550-29838178:29832342-29836438:29836500-29838178:- 0.00000000\n",
       "ENSG00000163630.11;MX:chr3:63278742-63480832:63480956-63609125:63278742-63556543:63556741-63609125:+  0.00000000\n",
       "ENSG00000129071.10;A5:chr3:129434136-129436443:129434136-129436461:-                                  0.00000000\n",
       "ENSG00000167642.13;A5:chr19:38264998-38283627:38264723-38283627:+                                     1.00000000\n",
       "ENSG00000179915.24;A3:chr2:50925955-51027502:50925952-51027502:-                                      0.09668841\n",
       "                                                                                                      V7        \n",
       "ENSG00000088367.23;MX:chr20:36092813-36112426:36112480-36175551:36092813-36173764:36173954-36175551:+ 1.00000000\n",
       "ENSG00000100325.15;MX:chr22:29832342-29834442:29834550-29838178:29832342-29836438:29836500-29838178:- 0.00000000\n",
       "ENSG00000163630.11;MX:chr3:63278742-63480832:63480956-63609125:63278742-63556543:63556741-63609125:+  0.00000000\n",
       "ENSG00000129071.10;A5:chr3:129434136-129436443:129434136-129436461:-                                  0.97250202\n",
       "ENSG00000167642.13;A5:chr19:38264998-38283627:38264723-38283627:+                                     1.00000000\n",
       "ENSG00000179915.24;A3:chr2:50925955-51027502:50925952-51027502:-                                      0.01977035\n",
       "                                                                                                      V8         \n",
       "ENSG00000088367.23;MX:chr20:36092813-36112426:36112480-36175551:36092813-36173764:36173954-36175551:+ 1.000000000\n",
       "ENSG00000100325.15;MX:chr22:29832342-29834442:29834550-29838178:29832342-29836438:29836500-29838178:- 0.000000000\n",
       "ENSG00000163630.11;MX:chr3:63278742-63480832:63480956-63609125:63278742-63556543:63556741-63609125:+  0.000000000\n",
       "ENSG00000129071.10;A5:chr3:129434136-129436443:129434136-129436461:-                                  0.000000000\n",
       "ENSG00000167642.13;A5:chr19:38264998-38283627:38264723-38283627:+                                     1.000000000\n",
       "ENSG00000179915.24;A3:chr2:50925955-51027502:50925952-51027502:-                                      0.006160147\n",
       "                                                                                                      V9        \n",
       "ENSG00000088367.23;MX:chr20:36092813-36112426:36112480-36175551:36092813-36173764:36173954-36175551:+ 0.00000000\n",
       "ENSG00000100325.15;MX:chr22:29832342-29834442:29834550-29838178:29832342-29836438:29836500-29838178:- 0.00000000\n",
       "ENSG00000163630.11;MX:chr3:63278742-63480832:63480956-63609125:63278742-63556543:63556741-63609125:+  0.00000000\n",
       "ENSG00000129071.10;A5:chr3:129434136-129436443:129434136-129436461:-                                  0.00000000\n",
       "ENSG00000167642.13;A5:chr19:38264998-38283627:38264723-38283627:+                                     1.00000000\n",
       "ENSG00000179915.24;A3:chr2:50925955-51027502:50925952-51027502:-                                      0.03074605\n",
       "                                                                                                      V10      \n",
       "ENSG00000088367.23;MX:chr20:36092813-36112426:36112480-36175551:36092813-36173764:36173954-36175551:+ 1.0000000\n",
       "ENSG00000100325.15;MX:chr22:29832342-29834442:29834550-29838178:29832342-29836438:29836500-29838178:- 0.0000000\n",
       "ENSG00000163630.11;MX:chr3:63278742-63480832:63480956-63609125:63278742-63556543:63556741-63609125:+  0.0000000\n",
       "ENSG00000129071.10;A5:chr3:129434136-129436443:129434136-129436461:-                                  0.0000000\n",
       "ENSG00000167642.13;A5:chr19:38264998-38283627:38264723-38283627:+                                     1.0000000\n",
       "ENSG00000179915.24;A3:chr2:50925955-51027502:50925952-51027502:-                                      0.0274772\n",
       "                                                                                                      V11       \n",
       "ENSG00000088367.23;MX:chr20:36092813-36112426:36112480-36175551:36092813-36173764:36173954-36175551:+ 1.00000000\n",
       "ENSG00000100325.15;MX:chr22:29832342-29834442:29834550-29838178:29832342-29836438:29836500-29838178:- 0.00000000\n",
       "ENSG00000163630.11;MX:chr3:63278742-63480832:63480956-63609125:63278742-63556543:63556741-63609125:+  0.00000000\n",
       "ENSG00000129071.10;A5:chr3:129434136-129436443:129434136-129436461:-                                  0.00000000\n",
       "ENSG00000167642.13;A5:chr19:38264998-38283627:38264723-38283627:+                                     1.00000000\n",
       "ENSG00000179915.24;A3:chr2:50925955-51027502:50925952-51027502:-                                      0.02737971\n",
       "                                                                                                      V12       \n",
       "ENSG00000088367.23;MX:chr20:36092813-36112426:36112480-36175551:36092813-36173764:36173954-36175551:+ 0.00000000\n",
       "ENSG00000100325.15;MX:chr22:29832342-29834442:29834550-29838178:29832342-29836438:29836500-29838178:- 0.00000000\n",
       "ENSG00000163630.11;MX:chr3:63278742-63480832:63480956-63609125:63278742-63556543:63556741-63609125:+  0.00000000\n",
       "ENSG00000129071.10;A5:chr3:129434136-129436443:129434136-129436461:-                                  0.00000000\n",
       "ENSG00000167642.13;A5:chr19:38264998-38283627:38264723-38283627:+                                     0.00000000\n",
       "ENSG00000179915.24;A3:chr2:50925955-51027502:50925952-51027502:-                                      0.01563169\n",
       "                                                                                                      V13      \n",
       "ENSG00000088367.23;MX:chr20:36092813-36112426:36112480-36175551:36092813-36173764:36173954-36175551:+ 1.0000000\n",
       "ENSG00000100325.15;MX:chr22:29832342-29834442:29834550-29838178:29832342-29836438:29836500-29838178:- 0.0000000\n",
       "ENSG00000163630.11;MX:chr3:63278742-63480832:63480956-63609125:63278742-63556543:63556741-63609125:+  0.0000000\n",
       "ENSG00000129071.10;A5:chr3:129434136-129436443:129434136-129436461:-                                  0.0000000\n",
       "ENSG00000167642.13;A5:chr19:38264998-38283627:38264723-38283627:+                                     1.0000000\n",
       "ENSG00000179915.24;A3:chr2:50925955-51027502:50925952-51027502:-                                      0.0642028\n",
       "                                                                                                      V14      \n",
       "ENSG00000088367.23;MX:chr20:36092813-36112426:36112480-36175551:36092813-36173764:36173954-36175551:+ 1.0000000\n",
       "ENSG00000100325.15;MX:chr22:29832342-29834442:29834550-29838178:29832342-29836438:29836500-29838178:- 1.0000000\n",
       "ENSG00000163630.11;MX:chr3:63278742-63480832:63480956-63609125:63278742-63556543:63556741-63609125:+  1.0000000\n",
       "ENSG00000129071.10;A5:chr3:129434136-129436443:129434136-129436461:-                                  1.0000000\n",
       "ENSG00000167642.13;A5:chr19:38264998-38283627:38264723-38283627:+                                     1.0000000\n",
       "ENSG00000179915.24;A3:chr2:50925955-51027502:50925952-51027502:-                                      0.1609219\n",
       "                                                                                                      V15       \n",
       "ENSG00000088367.23;MX:chr20:36092813-36112426:36112480-36175551:36092813-36173764:36173954-36175551:+ -0.3886502\n",
       "ENSG00000100325.15;MX:chr22:29832342-29834442:29834550-29838178:29832342-29836438:29836500-29838178:- -0.3930418\n",
       "ENSG00000163630.11;MX:chr3:63278742-63480832:63480956-63609125:63278742-63556543:63556741-63609125:+  -0.4803845\n",
       "ENSG00000129071.10;A5:chr3:129434136-129436443:129434136-129436461:-                                  -0.3274490\n",
       "ENSG00000167642.13;A5:chr19:38264998-38283627:38264723-38283627:+                                     -0.3930418\n",
       "ENSG00000179915.24;A3:chr2:50925955-51027502:50925952-51027502:-                                      -0.3546166\n",
       "                                                                                                      V16\n",
       "ENSG00000088367.23;MX:chr20:36092813-36112426:36112480-36175551:36092813-36173764:36173954-36175551:+ 1  \n",
       "ENSG00000100325.15;MX:chr22:29832342-29834442:29834550-29838178:29832342-29836438:29836500-29838178:- 0  \n",
       "ENSG00000163630.11;MX:chr3:63278742-63480832:63480956-63609125:63278742-63556543:63556741-63609125:+  0  \n",
       "ENSG00000129071.10;A5:chr3:129434136-129436443:129434136-129436461:-                                  0  \n",
       "ENSG00000167642.13;A5:chr19:38264998-38283627:38264723-38283627:+                                     1  \n",
       "ENSG00000179915.24;A3:chr2:50925955-51027502:50925952-51027502:-                                      0  \n",
       "                                                                                                      V17   \n",
       "ENSG00000088367.23;MX:chr20:36092813-36112426:36112480-36175551:36092813-36173764:36173954-36175551:+ res_up\n",
       "ENSG00000100325.15;MX:chr22:29832342-29834442:29834550-29838178:29832342-29836438:29836500-29838178:- res_up\n",
       "ENSG00000163630.11;MX:chr3:63278742-63480832:63480956-63609125:63278742-63556543:63556741-63609125:+  res_up\n",
       "ENSG00000129071.10;A5:chr3:129434136-129436443:129434136-129436461:-                                  res_up\n",
       "ENSG00000167642.13;A5:chr19:38264998-38283627:38264723-38283627:+                                     res_up\n",
       "ENSG00000179915.24;A3:chr2:50925955-51027502:50925952-51027502:-                                      res_up\n",
       "                                                                                                      V18     \n",
       "ENSG00000088367.23;MX:chr20:36092813-36112426:36112480-36175551:36092813-36173764:36173954-36175551:+ psi_down\n",
       "ENSG00000100325.15;MX:chr22:29832342-29834442:29834550-29838178:29832342-29836438:29836500-29838178:- psi_down\n",
       "ENSG00000163630.11;MX:chr3:63278742-63480832:63480956-63609125:63278742-63556543:63556741-63609125:+  psi_down\n",
       "ENSG00000129071.10;A5:chr3:129434136-129436443:129434136-129436461:-                                  psi_down\n",
       "ENSG00000167642.13;A5:chr19:38264998-38283627:38264723-38283627:+                                     psi_down\n",
       "ENSG00000179915.24;A3:chr2:50925955-51027502:50925952-51027502:-                                      psi_down"
      ]
     },
     "metadata": {},
     "output_type": "display_data"
    }
   ],
   "source": [
    "input_data <- read.table(\"/disk1/wenqing/tmp_data/PFC_s2/all_analysis_result/editing_level_change/notwith1/cor_threshold_0.3/all_res_group_all_psi_events.txt\")\n",
    "#head(input_data)\n",
    "# 处理重复名字，谨慎处理，先找到名字重复的原因再决定是否需要按一下方式都保留\n",
    "uniq_input_data <- input_data[!duplicated(input_data[,1]),]\n",
    "rownames(uniq_input_data) <- uniq_input_data[,1]\n",
    "uniq_input_data <- uniq_input_data[,-1]\n",
    "#head(uniq_input_data)\n",
    "pca_input_mtx_wz_grp <- uniq_input_data[,c(1:12,16,17)]\n",
    "pca_input_mtx <- uniq_input_data[,c(1:12)]\n",
    "#head(pca_input_mtx)\n",
    "dim(pca_input_mtx)\n",
    "#pca_input_mtx <- pca_input_mtx[rowSums(pca_input_mtx)>0,]\n",
    "#dim(pca_input_mtx)"
   ]
  },
  {
   "cell_type": "code",
   "execution_count": 61,
   "metadata": {
    "vscode": {
     "languageId": "r"
    }
   },
   "outputs": [
    {
     "data": {
      "text/html": [
       "<style>\n",
       ".list-inline {list-style: none; margin:0; padding: 0}\n",
       ".list-inline>li {display: inline-block}\n",
       ".list-inline>li:not(:last-child)::after {content: \"\\00b7\"; padding: 0 .5ex}\n",
       "</style>\n",
       "<ol class=list-inline><li>550</li><li>12</li></ol>\n"
      ],
      "text/latex": [
       "\\begin{enumerate*}\n",
       "\\item 550\n",
       "\\item 12\n",
       "\\end{enumerate*}\n"
      ],
      "text/markdown": [
       "1. 550\n",
       "2. 12\n",
       "\n",
       "\n"
      ],
      "text/plain": [
       "[1] 550  12"
      ]
     },
     "metadata": {},
     "output_type": "display_data"
    },
    {
     "data": {
      "text/html": [
       "<style>\n",
       ".list-inline {list-style: none; margin:0; padding: 0}\n",
       ".list-inline>li {display: inline-block}\n",
       ".list-inline>li:not(:last-child)::after {content: \"\\00b7\"; padding: 0 .5ex}\n",
       "</style>\n",
       "<ol class=list-inline><li>550</li><li>14</li></ol>\n"
      ],
      "text/latex": [
       "\\begin{enumerate*}\n",
       "\\item 550\n",
       "\\item 14\n",
       "\\end{enumerate*}\n"
      ],
      "text/markdown": [
       "1. 550\n",
       "2. 14\n",
       "\n",
       "\n"
      ],
      "text/plain": [
       "[1] 550  14"
      ]
     },
     "metadata": {},
     "output_type": "display_data"
    }
   ],
   "source": [
    "# 去掉方差为0 的行，这些本身没有意义，也妨碍后续运算\n",
    "pca_input_mtx <- pca_input_mtx[apply(pca_input_mtx, 1, var)!=0,]\n",
    "pca_input_mtx_wz_grp <- pca_input_mtx_wz_grp[rownames(pca_input_mtx),]\n",
    "dim(pca_input_mtx)\n",
    "dim(pca_input_mtx_wz_grp)\n",
    "#table(apply(pca_input_mtx, 1, var)==0)\n",
    "#FALSE  TRUE \n",
    "# 1188   108 "
   ]
  },
  {
   "cell_type": "code",
   "execution_count": 62,
   "metadata": {
    "vscode": {
     "languageId": "r"
    }
   },
   "outputs": [],
   "source": [
    "# Pay attention to the format of PCA input \n",
    "# Rows are samples and columns are variables\n",
    "data_t <- t(pca_input_mtx)\n",
    "#head(aes_params = list(label = \"\"))\n",
    "rownames(data_t) <- colnames(psi_matrix)\n",
    "variableL <- ncol(data_t)\n",
    "#data_t$res_group <- pca_input_mtx_wz_grp[,13]\n",
    "#data_t$psi_group <- pca_input_mtx_wz_grp[,14]\n",
    "#fviz_pca_ind(pca, col.ind=data_t$conditions, mean.point=F, addEllipses = T, legend.title=\"Groups\", ellipse.type=\"confidence\", ellipse.level=0.95)\n"
   ]
  },
  {
   "cell_type": "code",
   "execution_count": 63,
   "metadata": {
    "vscode": {
     "languageId": "r"
    }
   },
   "outputs": [
    {
     "data": {
      "text/html": [
       "<style>\n",
       ".list-inline {list-style: none; margin:0; padding: 0}\n",
       ".list-inline>li {display: inline-block}\n",
       ".list-inline>li:not(:last-child)::after {content: \"\\00b7\"; padding: 0 .5ex}\n",
       "</style>\n",
       "<ol class=list-inline><li>12</li><li>550</li></ol>\n"
      ],
      "text/latex": [
       "\\begin{enumerate*}\n",
       "\\item 12\n",
       "\\item 550\n",
       "\\end{enumerate*}\n"
      ],
      "text/markdown": [
       "1. 12\n",
       "2. 550\n",
       "\n",
       "\n"
      ],
      "text/plain": [
       "[1]  12 550"
      ]
     },
     "metadata": {},
     "output_type": "display_data"
    }
   ],
   "source": [
    "dim(data_t)"
   ]
  },
  {
   "cell_type": "code",
   "execution_count": 64,
   "metadata": {
    "vscode": {
     "languageId": "r"
    }
   },
   "outputs": [
    {
     "name": "stdout",
     "output_type": "stream",
     "text": [
      "List of 5\n",
      " $ sdev    : num [1:12] 12.45 9.8 7.68 7.2 6.1 ...\n",
      " $ rotation: num [1:550, 1:12] 3.63e-05 -1.58e-02 -3.25e-02 -1.42e-02 -1.04e-02 ...\n",
      "  ..- attr(*, \"dimnames\")=List of 2\n",
      "  .. ..$ : chr [1:550] \"ENSG00000088367.23;MX:chr20:36092813-36112426:36112480-36175551:36092813-36173764:36173954-36175551:+\" \"ENSG00000100325.15;MX:chr22:29832342-29834442:29834550-29838178:29832342-29836438:29836500-29838178:-\" \"ENSG00000163630.11;MX:chr3:63278742-63480832:63480956-63609125:63278742-63556543:63556741-63609125:+\" \"ENSG00000129071.10;A5:chr3:129434136-129436443:129434136-129436461:-\" ...\n",
      "  .. ..$ : chr [1:12] \"PC1\" \"PC2\" \"PC3\" \"PC4\" ...\n",
      " $ center  : Named num [1:550] 0.8333 0.0833 0.0833 0.1644 0.9167 ...\n",
      "  ..- attr(*, \"names\")= chr [1:550] \"ENSG00000088367.23;MX:chr20:36092813-36112426:36112480-36175551:36092813-36173764:36173954-36175551:+\" \"ENSG00000100325.15;MX:chr22:29832342-29834442:29834550-29838178:29832342-29836438:29836500-29838178:-\" \"ENSG00000163630.11;MX:chr3:63278742-63480832:63480956-63609125:63278742-63556543:63556741-63609125:+\" \"ENSG00000129071.10;A5:chr3:129434136-129436443:129434136-129436461:-\" ...\n",
      " $ scale   : Named num [1:550] 0.389 0.289 0.289 0.384 0.289 ...\n",
      "  ..- attr(*, \"names\")= chr [1:550] \"ENSG00000088367.23;MX:chr20:36092813-36112426:36112480-36175551:36092813-36173764:36173954-36175551:+\" \"ENSG00000100325.15;MX:chr22:29832342-29834442:29834550-29838178:29832342-29836438:29836500-29838178:-\" \"ENSG00000163630.11;MX:chr3:63278742-63480832:63480956-63609125:63278742-63556543:63556741-63609125:+\" \"ENSG00000129071.10;A5:chr3:129434136-129436443:129434136-129436461:-\" ...\n",
      " $ x       : num [1:12, 1:12] -15.98 -7.75 -4.63 -4.06 -2.23 ...\n",
      "  ..- attr(*, \"dimnames\")=List of 2\n",
      "  .. ..$ : chr [1:12] \"GW08\" \"GW12\" \"GW16_1_3\" \"GW16_1_4\" ...\n",
      "  .. ..$ : chr [1:12] \"PC1\" \"PC2\" \"PC3\" \"PC4\" ...\n",
      " - attr(*, \"class\")= chr \"prcomp\"\n",
      "NULL\n"
     ]
    }
   ],
   "source": [
    "pca <- prcomp(data_t[,1:variableL], scale=T)\n",
    "\n",
    "# sdev: standard deviation of the principle components.\n",
    "# Square to get variance\n",
    "# percentVar <- pca$sdev^2 / sum( pca$sdev^2)\n",
    "\n",
    "# To check what's in pca\n",
    "print(str(pca))"
   ]
  },
  {
   "cell_type": "code",
   "execution_count": 65,
   "metadata": {
    "vscode": {
     "languageId": "r"
    }
   },
   "outputs": [
    {
     "data": {
      "image/png": "[encoded data removed]",
      "text/plain": [
       "plot without title"
      ]
     },
     "metadata": {
      "image/png": {
       "height": 420,
       "width": 420
      }
     },
     "output_type": "display_data"
    },
    {
     "data": {
      "image/png": "[encoded data removed]",
      "text/plain": [
       "plot without title"
      ]
     },
     "metadata": {
      "image/png": {
       "height": 420,
       "width": 420
      }
     },
     "output_type": "display_data"
    }
   ],
   "source": [
    "fviz_eig(pca, addlabels = TRUE)\n",
    "fviz_pca_ind(pca, repel=TRUE)   \n",
    "#fviz_pca_ind(pca, label='none', col.ind=data_t$psi_group, mean.point=F, addEllipses = T, legend.title=\"Groups\")"
   ]
  },
  {
   "cell_type": "code",
   "execution_count": 90,
   "metadata": {
    "vscode": {
     "languageId": "r"
    }
   },
   "outputs": [
    {
     "data": {
      "text/html": [
       "<strong>80%:</strong> 0.58608874563577"
      ],
      "text/latex": [
       "\\textbf{80\\textbackslash{}\\%:} 0.58608874563577"
      ],
      "text/markdown": [
       "**80%:** 0.58608874563577"
      ],
      "text/plain": [
       "      80% \n",
       "0.5860887 "
      ]
     },
     "metadata": {},
     "output_type": "display_data"
    },
    {
     "data": {
      "text/html": [
       "<style>\n",
       ".list-inline {list-style: none; margin:0; padding: 0}\n",
       ".list-inline>li {display: inline-block}\n",
       ".list-inline>li:not(:last-child)::after {content: \"\\00b7\"; padding: 0 .5ex}\n",
       "</style>\n",
       "<ol class=list-inline><li>2.03752419160615e-07</li><li>0.817299542455047</li></ol>\n"
      ],
      "text/latex": [
       "\\begin{enumerate*}\n",
       "\\item 2.03752419160615e-07\n",
       "\\item 0.817299542455047\n",
       "\\end{enumerate*}\n"
      ],
      "text/markdown": [
       "1. 2.03752419160615e-07\n",
       "2. 0.817299542455047\n",
       "\n",
       "\n"
      ],
      "text/plain": [
       "[1] 2.037524e-07 8.172995e-01"
      ]
     },
     "metadata": {},
     "output_type": "display_data"
    },
    {
     "data": {
      "text/plain": [
       "\n",
       "FALSE  TRUE \n",
       "  443   107 "
      ]
     },
     "metadata": {},
     "output_type": "display_data"
    }
   ],
   "source": [
    "above_threshold <- quantile(get_pca_var(pca)$cos2[,1],0.8)\n",
    "above_threshold\n",
    "range(get_pca_var(pca)$cos2[,1])\n",
    "table(get_pca_var(pca)$cos2[,1] > above_threshold)"
   ]
  },
  {
   "cell_type": "code",
   "execution_count": 93,
   "metadata": {
    "vscode": {
     "languageId": "r"
    }
   },
   "outputs": [
    {
     "data": {
      "text/html": [
       "107"
      ],
      "text/latex": [
       "107"
      ],
      "text/markdown": [
       "107"
      ],
      "text/plain": [
       "[1] 107"
      ]
     },
     "metadata": {},
     "output_type": "display_data"
    }
   ],
   "source": [
    "top20percent_as_event_related2pc1 <- names(get_pca_var(pca)$cos2[,1][get_pca_var(pca)$cos2[,1] > above_threshold])\n",
    "length(top20percent_as_event_related2pc1)"
   ]
  },
  {
   "cell_type": "code",
   "execution_count": 75,
   "metadata": {
    "vscode": {
     "languageId": "r"
    }
   },
   "outputs": [],
   "source": [
    "# 计算变量的贡献度平方(cos2)，这是变量在主成分上的解释方差\n",
    "#get_pca_var(pca)\n",
    "#取在第一个主成分上贡献度排名前十的as event\n",
    "top20percent_as_event_related2pc1 <- names(get_pca_var(pca)$cos2[,1][get_pca_var(pca)$cos2[,1] > above_threshold])\n",
    "top10_as_event_related2pc2 <- names(sort(get_pca_var(pca)$cos2[,2], decreasing = TRUE))[1:20]\n",
    "top10_as_event_related2pc1_2 <- unique(c(top20_as_event_related2pc1,top20_as_event_related2pc1))\n",
    "write.table(top10_as_event_related2pc1_2,\"/disk1/wenqing/tmp_data/PFC_s2/all_analysis_result/editing_level_change/notwith1/cor_threshold_0.3/top10_as_event_related2pc1_2.txt\",quote=F,col.names=F,row.names=F)\n",
    "write.table(top10_as_event_related2pc1,\"/disk1/wenqing/tmp_data/PFC_s2/all_analysis_result/editing_level_change/notwith1/cor_threshold_0.3/top10_as_event_related2pc1.txt\",quote=F,col.names=F,row.names=F)\n",
    "write.table(top10_as_event_related2pc1_2,\"/disk1/wenqing/tmp_data/PFC_s2/all_analysis_result/editing_level_change/notwith1/cor_threshold_0.3/top10_as_event_related2pc2.txt\",quote=F,col.names=F,row.names=F)\n",
    "#top_vars"
   ]
  },
  {
   "cell_type": "code",
   "execution_count": 81,
   "metadata": {
    "vscode": {
     "languageId": "r"
    }
   },
   "outputs": [],
   "source": [
    "# 计算变量的贡献度平方(cos2)，这是变量在主成分上的解释方差\n",
    "#get_pca_var(pca)\n",
    "#取在第一个主成分上贡献度排名前十的as event\n",
    "top20_as_event_related2pc1 <- names(sort(get_pca_var(pca)$cos2[,1], decreasing = TRUE))[1:20]\n",
    "top100_as_event_related2pc1 <- names(sort(get_pca_var(pca)$cos2[,1], decreasing = TRUE))[1:100]\n",
    "#top20_as_event_related2pc2 <- names(sort(get_pca_var(pca)$cos2[,2], decreasing = TRUE))[1:20]\n",
    "#top20_as_event_related2pc1_2 <- unique(c(top20_as_event_related2pc1,top20_as_event_related2pc1))\n",
    "#write.table(top20_as_event_related2pc1_2,\"/disk1/wenqing/tmp_data/PFC_s2/all_analysis_result/editing_level_change/notwith1/cor_threshold_0.3/top20_as_event_related2pc1_2.txt\",quote=F,col.names=F,row.names=F)\n",
    "#write.table(top20_as_event_related2pc1,\"/disk1/wenqing/tmp_data/PFC_s2/all_analysis_result/editing_level_change/notwith1/cor_threshold_0.3/top20_as_event_related2pc1.txt\",quote=F,col.names=F,row.names=F)\n",
    "#write.table(top20_as_event_related2pc1_2,\"/disk1/wenqing/tmp_data/PFC_s2/all_analysis_result/editing_level_change/notwith1/cor_threshold_0.3/top20_as_event_related2pc2.txt\",quote=F,col.names=F,row.names=F)\n",
    "#top_vars"
   ]
  },
  {
   "cell_type": "code",
   "execution_count": 71,
   "metadata": {
    "vscode": {
     "languageId": "r"
    }
   },
   "outputs": [
    {
     "data": {
      "text/html": [
       "<style>\n",
       ".list-inline {list-style: none; margin:0; padding: 0}\n",
       ".list-inline>li {display: inline-block}\n",
       ".list-inline>li:not(:last-child)::after {content: \"\\00b7\"; padding: 0 .5ex}\n",
       "</style>\n",
       "<ol class=list-inline><li>'ENSG00000117020.19;SE:chr1:243664883-243695591:243695716-243843125:-'</li><li>'ENSG00000166272.18;AF:chr10:102743982:102744143-102797993:102776249:102776417-102797993:+'</li><li>'ENSG00000186487.20;AF:chr2:2284503-2326036:2326554:2284503-2330967:2331348:-'</li><li>'ENSG00000158864.13;SE:chr1:161206597-161208005:161208127-161209193:+'</li><li>'ENSG00000078328.22;MX:chr16:6654650-6876662:6876743-7052057:6654650-6983639:6983738-7052057:+'</li><li>'ENSG00000100325.15;MX:chr22:29832342-29833541:29833614-29838178:29832342-29834442:29834550-29838178:-'</li><li>'ENSG00000100325.15;MX:chr22:29832342-29833541:29833614-29838178:29832342-29834489:29834550-29838178:-'</li><li>'ENSG00000100325.15;MX:chr22:29832342-29833541:29833614-29838178:29832342-29836438:29836500-29838178:-'</li><li>'ENSG00000114861.23;MX:chr3:71359244-71493426:71493555-71583571:71359244-71581549:71581697-71583571:-'</li><li>'ENSG00000250120.8;A5:chr5:140858436-140978949:140857647-140978949:+'</li></ol>\n"
      ],
      "text/latex": [
       "\\begin{enumerate*}\n",
       "\\item 'ENSG00000117020.19;SE:chr1:243664883-243695591:243695716-243843125:-'\n",
       "\\item 'ENSG00000166272.18;AF:chr10:102743982:102744143-102797993:102776249:102776417-102797993:+'\n",
       "\\item 'ENSG00000186487.20;AF:chr2:2284503-2326036:2326554:2284503-2330967:2331348:-'\n",
       "\\item 'ENSG00000158864.13;SE:chr1:161206597-161208005:161208127-161209193:+'\n",
       "\\item 'ENSG00000078328.22;MX:chr16:6654650-6876662:6876743-7052057:6654650-6983639:6983738-7052057:+'\n",
       "\\item 'ENSG00000100325.15;MX:chr22:29832342-29833541:29833614-29838178:29832342-29834442:29834550-29838178:-'\n",
       "\\item 'ENSG00000100325.15;MX:chr22:29832342-29833541:29833614-29838178:29832342-29834489:29834550-29838178:-'\n",
       "\\item 'ENSG00000100325.15;MX:chr22:29832342-29833541:29833614-29838178:29832342-29836438:29836500-29838178:-'\n",
       "\\item 'ENSG00000114861.23;MX:chr3:71359244-71493426:71493555-71583571:71359244-71581549:71581697-71583571:-'\n",
       "\\item 'ENSG00000250120.8;A5:chr5:140858436-140978949:140857647-140978949:+'\n",
       "\\end{enumerate*}\n"
      ],
      "text/markdown": [
       "1. 'ENSG00000117020.19;SE:chr1:243664883-243695591:243695716-243843125:-'\n",
       "2. 'ENSG00000166272.18;AF:chr10:102743982:102744143-102797993:102776249:102776417-102797993:+'\n",
       "3. 'ENSG00000186487.20;AF:chr2:2284503-2326036:2326554:2284503-2330967:2331348:-'\n",
       "4. 'ENSG00000158864.13;SE:chr1:161206597-161208005:161208127-161209193:+'\n",
       "5. 'ENSG00000078328.22;MX:chr16:6654650-6876662:6876743-7052057:6654650-6983639:6983738-7052057:+'\n",
       "6. 'ENSG00000100325.15;MX:chr22:29832342-29833541:29833614-29838178:29832342-29834442:29834550-29838178:-'\n",
       "7. 'ENSG00000100325.15;MX:chr22:29832342-29833541:29833614-29838178:29832342-29834489:29834550-29838178:-'\n",
       "8. 'ENSG00000100325.15;MX:chr22:29832342-29833541:29833614-29838178:29832342-29836438:29836500-29838178:-'\n",
       "9. 'ENSG00000114861.23;MX:chr3:71359244-71493426:71493555-71583571:71359244-71581549:71581697-71583571:-'\n",
       "10. 'ENSG00000250120.8;A5:chr5:140858436-140978949:140857647-140978949:+'\n",
       "\n",
       "\n"
      ],
      "text/plain": [
       " [1] \"ENSG00000117020.19;SE:chr1:243664883-243695591:243695716-243843125:-\"                                 \n",
       " [2] \"ENSG00000166272.18;AF:chr10:102743982:102744143-102797993:102776249:102776417-102797993:+\"            \n",
       " [3] \"ENSG00000186487.20;AF:chr2:2284503-2326036:2326554:2284503-2330967:2331348:-\"                         \n",
       " [4] \"ENSG00000158864.13;SE:chr1:161206597-161208005:161208127-161209193:+\"                                 \n",
       " [5] \"ENSG00000078328.22;MX:chr16:6654650-6876662:6876743-7052057:6654650-6983639:6983738-7052057:+\"        \n",
       " [6] \"ENSG00000100325.15;MX:chr22:29832342-29833541:29833614-29838178:29832342-29834442:29834550-29838178:-\"\n",
       " [7] \"ENSG00000100325.15;MX:chr22:29832342-29833541:29833614-29838178:29832342-29834489:29834550-29838178:-\"\n",
       " [8] \"ENSG00000100325.15;MX:chr22:29832342-29833541:29833614-29838178:29832342-29836438:29836500-29838178:-\"\n",
       " [9] \"ENSG00000114861.23;MX:chr3:71359244-71493426:71493555-71583571:71359244-71581549:71581697-71583571:-\" \n",
       "[10] \"ENSG00000250120.8;A5:chr5:140858436-140978949:140857647-140978949:+\"                                  "
      ]
     },
     "metadata": {},
     "output_type": "display_data"
    }
   ],
   "source": [
    "cumulative_cos2 <- apply(get_pca_var(pca)$cos2[, 1:2], 1, sum) # 计算前两个主成分的累积cos2\n",
    "\n",
    "# 对累积cos2值进行降序排序并获取排名前十的变量索引\n",
    "top_vars <- head(order(cumulative_cos2, decreasing = TRUE), 10)\n",
    "rownames(get_pca_var(pca)$cos2)[top_vars]"
   ]
  },
  {
   "cell_type": "code",
   "execution_count": null,
   "metadata": {
    "vscode": {
     "languageId": "r"
    }
   },
   "outputs": [],
   "source": [
    "# 根据分组上色并绘制95%置信区间\n",
    "#fviz_pca_ind(pca, col.ind=data_t$conditions, mean.point=F, addEllipses = T, legend.title=\"Groups\", ellipse.type=\"confidence\", ellipse.level=0.95)\n",
    "# Visualize variable with cos2 >= 0.99\n",
    "#fviz_pca_var(pca, select.var = list(cos2 = above_cor), repel=T, col.var = \"cos2\", geom.var = c(\"arrow\", \"text\") )\n",
    "#fviz_pca_var(pca, select.var= list(cos2 = 10), repel=T, col.var = \"contrib\")"
   ]
  },
  {
   "cell_type": "code",
   "execution_count": 100,
   "metadata": {
    "vscode": {
     "languageId": "r"
    }
   },
   "outputs": [],
   "source": [
    "data_res_bar <- data.frame(categories = names(table(uniq_input_data[top20percent_as_event_related2pc1,16])), values = table(uniq_input_data[top20percent_as_event_related2pc1,16]))\n",
    "colnames(data_res_bar) <- c('categories','group','values')\n",
    "data_psi_bar <- data.frame(categories = names(table(uniq_input_data[top20percent_as_event_related2pc1,17])), values = table(uniq_input_data[top20percent_as_event_related2pc1,17]))\n",
    "colnames(data_psi_bar) <- c('categories','group','values')\n",
    "data_psi_bar$categories <- factor(data_psi_bar$categories, levels = c('psi_up','psi_down','psi_stable','psi_no_change'))\n"
   ]
  },
  {
   "cell_type": "code",
   "execution_count": 98,
   "metadata": {
    "vscode": {
     "languageId": "r"
    }
   },
   "outputs": [
    {
     "data": {
      "text/html": [
       "<table class=\"dataframe\">\n",
       "<caption>A data.frame: 4 × 3</caption>\n",
       "<thead>\n",
       "\t<tr><th scope=col>categories</th><th scope=col>group</th><th scope=col>values</th></tr>\n",
       "\t<tr><th scope=col>&lt;chr&gt;</th><th scope=col>&lt;fct&gt;</th><th scope=col>&lt;int&gt;</th></tr>\n",
       "</thead>\n",
       "<tbody>\n",
       "\t<tr><td>psi_down     </td><td>psi_down     </td><td> 2</td></tr>\n",
       "\t<tr><td>psi_no_change</td><td>psi_no_change</td><td> 2</td></tr>\n",
       "\t<tr><td>psi_stable   </td><td>psi_stable   </td><td>10</td></tr>\n",
       "\t<tr><td>psi_up       </td><td>psi_up       </td><td>93</td></tr>\n",
       "</tbody>\n",
       "</table>\n"
      ],
      "text/latex": [
       "A data.frame: 4 × 3\n",
       "\\begin{tabular}{lll}\n",
       " categories & group & values\\\\\n",
       " <chr> & <fct> & <int>\\\\\n",
       "\\hline\n",
       "\t psi\\_down      & psi\\_down      &  2\\\\\n",
       "\t psi\\_no\\_change & psi\\_no\\_change &  2\\\\\n",
       "\t psi\\_stable    & psi\\_stable    & 10\\\\\n",
       "\t psi\\_up        & psi\\_up        & 93\\\\\n",
       "\\end{tabular}\n"
      ],
      "text/markdown": [
       "\n",
       "A data.frame: 4 × 3\n",
       "\n",
       "| categories &lt;chr&gt; | group &lt;fct&gt; | values &lt;int&gt; |\n",
       "|---|---|---|\n",
       "| psi_down      | psi_down      |  2 |\n",
       "| psi_no_change | psi_no_change |  2 |\n",
       "| psi_stable    | psi_stable    | 10 |\n",
       "| psi_up        | psi_up        | 93 |\n",
       "\n"
      ],
      "text/plain": [
       "  categories    group         values\n",
       "1 psi_down      psi_down       2    \n",
       "2 psi_no_change psi_no_change  2    \n",
       "3 psi_stable    psi_stable    10    \n",
       "4 psi_up        psi_up        93    "
      ]
     },
     "metadata": {},
     "output_type": "display_data"
    }
   ],
   "source": [
    "data_psi_bar"
   ]
  },
  {
   "cell_type": "code",
   "execution_count": 121,
   "metadata": {
    "vscode": {
     "languageId": "r"
    }
   },
   "outputs": [],
   "source": [
    "colors=c(\"#840dd3\",\"#04c49c\",\"#2759bd\",\"#FFB400\")\n",
    "# 绘制饼图\n",
    "psi_bar <- ggplot(data_psi_bar, aes(x = \"\", y = values, fill = categories)) +\n",
    "  geom_bar(stat = \"identity\", width = 1) +\n",
    "  coord_polar(theta = \"y\") +\n",
    "  theme_void() +\n",
    "  geom_text(aes(label =values), \n",
    "            position = position_stack(vjust = 0.5), size = 4) +\n",
    "  scale_fill_manual(values = colors)+\n",
    "  theme(text = element_text(size = 13)) \n",
    "res_bar <- ggplot(data_res_bar, aes(x = \"\", y = values, fill = categories)) +\n",
    "  geom_bar(stat = \"identity\", width = 1) +\n",
    "  coord_polar(theta = \"y\") +\n",
    "  theme_void() +\n",
    "  geom_text(aes(label =values),size = 4) +\n",
    "  scale_fill_manual(values = colors[1])+\n",
    "  theme(text = element_text(size = 13)) "
   ]
  },
  {
   "cell_type": "code",
   "execution_count": 123,
   "metadata": {
    "vscode": {
     "languageId": "r"
    }
   },
   "outputs": [
    {
     "data": {
      "image/png": "[encoded data removed]",
      "text/plain": [
       "plot without title"
      ]
     },
     "metadata": {
      "image/png": {
       "height": 420,
       "width": 420
      }
     },
     "output_type": "display_data"
    },
    {
     "data": {
      "image/png": "[encoded data removed]",
      "text/plain": [
       "plot without title"
      ]
     },
     "metadata": {
      "image/png": {
       "height": 420,
       "width": 420
      }
     },
     "output_type": "display_data"
    }
   ],
   "source": [
    "psi_bar\n",
    "res_bar"
   ]
  },
  {
   "cell_type": "code",
   "execution_count": 114,
   "metadata": {
    "vscode": {
     "languageId": "r"
    }
   },
   "outputs": [
    {
     "data": {
      "image/png": "[encoded data removed]",
      "text/plain": [
       "plot without title"
      ]
     },
     "metadata": {
      "image/png": {
       "height": 420,
       "width": 420
      }
     },
     "output_type": "display_data"
    }
   ],
   "source": [
    "\n",
    "fig1 <- ggpubr::ggarrange(plotlist = list(psi_bar, res_bar), ncol = 2, nrow = 1)\n",
    "fig1\n",
    "\n",
    "ggsave('/disk1/wenqing/tmp_data/PFC_s2/all_analysis_result/editing_level_change/notwith1/cor_threshold_0.3/top20_as_events_psi_res_change.png',fig1,width = 15,height = 6)"
   ]
  }
 ],
 "metadata": {
  "kernelspec": {
   "display_name": "R",
   "language": "R",
   "name": "ir"
  },
  "language_info": {
   "codemirror_mode": "r",
   "file_extension": ".r",
   "mimetype": "text/x-r-source",
   "name": "R",
   "pygments_lexer": "r",
   "version": "4.3.1"
  },
  "orig_nbformat": 4
 },
 "nbformat": 4,
 "nbformat_minor": 2
}
