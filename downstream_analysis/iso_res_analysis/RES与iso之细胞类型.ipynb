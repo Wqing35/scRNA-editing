{
 "cells": [
  {
   "cell_type": "code",
   "execution_count": 1,
   "metadata": {
    "vscode": {
     "languageId": "r"
    }
   },
   "outputs": [],
   "source": [
    "    uniq_all_sites <- read.table(\"/disk1/wenqing/tmp_data/ASD/donor_acceptor_sites_us_ds_5bp.txt\",header=T)\n"
   ]
  },
  {
   "cell_type": "code",
   "execution_count": 3,
   "metadata": {
    "vscode": {
     "languageId": "r"
    }
   },
   "outputs": [
    {
     "data": {
      "text/plain": [
       "\n",
       "  acceptor_us_1_G   acceptor_us_2_A acceptor_us_3_C_T   acceptor_us_4_N \n",
       "           388718            385971            383239            380315 \n",
       "acceptor_us_5_C_T     branch_site_A      donor_ds_1_G      donor_ds_2_T \n",
       "           378176            383105            389560            386426 \n",
       "   donor_ds_3_A_G      donor_ds_4_A      donor_ds_5_G \n",
       "           383582            380764            378588 "
      ]
     },
     "metadata": {},
     "output_type": "display_data"
    }
   ],
   "source": [
    "table(uniq_all_sites$info)"
   ]
  },
  {
   "cell_type": "code",
   "execution_count": 5,
   "metadata": {
    "vscode": {
     "languageId": "r"
    }
   },
   "outputs": [
    {
     "data": {
      "text/html": [
       "723505"
      ],
      "text/latex": [
       "723505"
      ],
      "text/markdown": [
       "723505"
      ],
      "text/plain": [
       "[1] 723505"
      ]
     },
     "metadata": {},
     "output_type": "display_data"
    },
    {
     "data": {
      "text/html": [
       "1099063"
      ],
      "text/latex": [
       "1099063"
      ],
      "text/markdown": [
       "1099063"
      ],
      "text/plain": [
       "[1] 1099063"
      ]
     },
     "metadata": {},
     "output_type": "display_data"
    },
    {
     "data": {
      "text/html": [
       "791026"
      ],
      "text/latex": [
       "791026"
      ],
      "text/markdown": [
       "791026"
      ],
      "text/plain": [
       "[1] 791026"
      ]
     },
     "metadata": {},
     "output_type": "display_data"
    },
    {
     "data": {
      "text/html": [
       "1188809"
      ],
      "text/latex": [
       "1188809"
      ],
      "text/markdown": [
       "1188809"
      ],
      "text/plain": [
       "[1] 1188809"
      ]
     },
     "metadata": {},
     "output_type": "display_data"
    },
    {
     "data": {
      "text/html": [
       "759047"
      ],
      "text/latex": [
       "759047"
      ],
      "text/markdown": [
       "759047"
      ],
      "text/plain": [
       "[1] 759047"
      ]
     },
     "metadata": {},
     "output_type": "display_data"
    },
    {
     "data": {
      "text/html": [
       "671056"
      ],
      "text/latex": [
       "671056"
      ],
      "text/markdown": [
       "671056"
      ],
      "text/plain": [
       "[1] 671056"
      ]
     },
     "metadata": {},
     "output_type": "display_data"
    }
   ],
   "source": [
    "    celltype='L2_3_ExN'\n",
    "\n",
    "    all_res <- read.table(paste0(\"/disk1/wenqing/tmp_data/ASD/all.celltype.res.WzSampleInfo/all.\",celltype,\".res.WzSampleInfo\"))\n",
    "    all_res$V10 <- paste0(all_res$V1,\"_\",all_res$V3)\n",
    "    ####各样本、细胞类型的res数量\n",
    "    length(unique(all_res$V10[all_res$V9=='17']))\n",
    "    length(unique(all_res$V10[all_res$V9=='18']))\n",
    "    length(unique(all_res$V10[all_res$V9=='57']))\n",
    "    length(unique(all_res$V10[all_res$V9=='20']))\n",
    "    length(unique(all_res$V10[all_res$V9=='32']))\n",
    "    length(unique(all_res$V10[all_res$V9=='56']))\n"
   ]
  },
  {
   "cell_type": "code",
   "execution_count": null,
   "metadata": {
    "vscode": {
     "languageId": "r"
    }
   },
   "outputs": [],
   "source": [
    "    ####鉴定仅在asd/ctr存在的res\n",
    "    asd_res <- union(all_res$V10[all_res$V9=='17'],all_res$V10[all_res$V9=='18'])\n",
    "    asd_res <- union(asd_res,all_res$V10[all_res$V9=='57'])\n",
    "    length(unique(asd_res))\n",
    "\n",
    "    ctr_res <- union(all_res$V10[all_res$V9=='20'],all_res$V10[all_res$V9=='32'])\n",
    "    ctr_res <- union(ctr_res,all_res$V10[all_res$V9=='56'])\n",
    "    length(unique(ctr_res))\n",
    "\n",
    "    only_asd_res <- setdiff(asd_res,ctr_res)\n",
    "    length(only_asd_res)\n",
    "\n",
    "    only_ctr_res <- setdiff(ctr_res,asd_res)\n",
    "    length(only_ctr_res)\n",
    "\n",
    "    only_ctr_res_mat <- all_res[all_res$V10 %in% only_ctr_res,]\n",
    "    #dim(only_ctr_res_mat)\n",
    "    only_asd_res_mat <- all_res[all_res$V10 %in% only_asd_res,]\n",
    "    #dim(only_asd_res_mat)\n",
    "\n",
    "\n",
    "        #asd/ctr sites落在splice site\n",
    "    asd_resInSpliceSites <- only_asd_res_mat[only_asd_res_mat$V10 %in% uniq_all_sites$site,]\n",
    "    asd_resInSpliceSites$V11 <- \"info\"\n",
    "    asd_resInSpliceSites$V11 <- uniq_all_sites[asd_resInSpliceSites$V10,]$info\n",
    "\n",
    "    ctr_resInSpliceSites <- only_ctr_res_mat[only_ctr_res_mat$V10 %in% uniq_all_sites$site,]\n",
    "    ctr_resInSpliceSites$V11 <- \"info\"\n",
    "    ctr_resInSpliceSites$V11 <- uniq_all_sites[ctr_resInSpliceSites$V10,]$info\n",
    "\n",
    "\n",
    "    length(unique(asd_resInSpliceSites$V10))\n",
    "    length(unique(ctr_resInSpliceSites$V10))\n",
    "\n",
    "    write.table(asd_resInSpliceSites,paste0(\"/disk1/wenqing/tmp_data/ASD/resInSpliceSites_WzGeneInfo/asd_only/union_resInSpliceSites_\",celltype,\".txt\"),quote=F,row.names=F,col.names=F,sep='\\t')\n",
    "    write.table(ctr_resInSpliceSites,paste0(\"/disk1/wenqing/tmp_data/ASD/resInSpliceSites_WzGeneInfo/ctr_only/union_resInSpliceSites_\",celltype,\".txt\"),quote=F,row.names=F,col.names=F,sep='\\t')\n"
   ]
  },
  {
   "cell_type": "code",
   "execution_count": null,
   "metadata": {
    "vscode": {
     "languageId": "r"
    }
   },
   "outputs": [],
   "source": [
    "    all_res$V10 <- paste0(all_res$V1,\"_\",all_res$V3)\n",
    "    ####各样本、细胞类型的res数量\n",
    "    length(unique(all_res$V10[all_res$V9=='17']))\n",
    "    length(unique(all_res$V10[all_res$V9=='18']))\n",
    "    length(unique(all_res$V10[all_res$V9=='57']))\n",
    "    length(unique(all_res$V10[all_res$V9=='20']))\n",
    "    length(unique(all_res$V10[all_res$V9=='32']))\n",
    "    length(unique(all_res$V10[all_res$V9=='56']))\n",
    "    ####鉴定仅在asd/ctr存在的res\n",
    "    asd_res <- union(all_res$V10[all_res$V9=='17'],all_res$V10[all_res$V9=='18'])\n",
    "    asd_res <- union(asd_res,all_res$V10[all_res$V9=='57'])\n",
    "    length(unique(asd_res))\n",
    "\n",
    "    ctr_res <- union(all_res$V10[all_res$V9=='20'],all_res$V10[all_res$V9=='32'])\n",
    "    ctr_res <- union(ctr_res,all_res$V10[all_res$V9=='56'])\n",
    "    length(unique(ctr_res))\n",
    "\n",
    "    only_asd_res <- setdiff(asd_res,ctr_res)\n",
    "    length(only_asd_res)\n",
    "\n",
    "    only_ctr_res <- setdiff(ctr_res,asd_res)\n",
    "    length(only_ctr_res)\n",
    "\n",
    "    only_ctr_res_mat <- all_res[all_res$V10 %in% only_ctr_res,]\n",
    "    #dim(only_ctr_res_mat)\n",
    "    only_asd_res_mat <- all_res[all_res$V10 %in% only_asd_res,]\n",
    "    #dim(only_asd_res_mat)\n",
    "\n",
    "\n",
    "        #asd/ctr sites落在splice site\n",
    "    asd_resInSpliceSites <- only_asd_res_mat[only_asd_res_mat$V10 %in% uniq_all_sites$site,]\n",
    "    asd_resInSpliceSites$V11 <- \"info\"\n",
    "    asd_resInSpliceSites$V11 <- uniq_all_sites[asd_resInSpliceSites$V10,]$info\n",
    "\n",
    "    ctr_resInSpliceSites <- only_ctr_res_mat[only_ctr_res_mat$V10 %in% uniq_all_sites$site,]\n",
    "    ctr_resInSpliceSites$V11 <- \"info\"\n",
    "    ctr_resInSpliceSites$V11 <- uniq_all_sites[ctr_resInSpliceSites$V10,]$info\n",
    "\n",
    "\n",
    "    length(unique(asd_resInSpliceSites$V10))\n",
    "    length(unique(ctr_resInSpliceSites$V10))\n",
    "\n",
    "    write.table(asd_resInSpliceSites,paste0(\"/disk1/wenqing/tmp_data/ASD/resInSpliceSites_WzGeneInfo/asd_only/union_resInSpliceSites_\",celltype,\".txt\"),quote=F,row.names=F,col.names=F,sep='\\t')\n",
    "    write.table(ctr_resInSpliceSites,paste0(\"/disk1/wenqing/tmp_data/ASD/resInSpliceSites_WzGeneInfo/ctr_only/union_resInSpliceSites_\",celltype,\".txt\"),quote=F,row.names=F,col.names=F,sep='\\t')\n"
   ]
  },
  {
   "cell_type": "code",
   "execution_count": null,
   "metadata": {
    "vscode": {
     "languageId": "r"
    }
   },
   "outputs": [],
   "source": [
    "####以上步骤与下面步骤分开进行，跑完上面步骤后需将res位点映射到基因上"
   ]
  },
  {
   "cell_type": "code",
   "execution_count": null,
   "metadata": {
    "vscode": {
     "languageId": "r"
    }
   },
   "outputs": [
    {
     "data": {
      "text/html": [
       "<style>\n",
       ".list-inline {list-style: none; margin:0; padding: 0}\n",
       ".list-inline>li {display: inline-block}\n",
       ".list-inline>li:not(:last-child)::after {content: \"\\00b7\"; padding: 0 .5ex}\n",
       "</style>\n",
       "<ol class=list-inline><li>772</li><li>17</li></ol>\n"
      ],
      "text/latex": [
       "\\begin{enumerate*}\n",
       "\\item 772\n",
       "\\item 17\n",
       "\\end{enumerate*}\n"
      ],
      "text/markdown": [
       "1. 772\n",
       "2. 17\n",
       "\n",
       "\n"
      ],
      "text/plain": [
       "[1] 772  17"
      ]
     },
     "metadata": {},
     "output_type": "display_data"
    },
    {
     "data": {
      "text/html": [
       "<style>\n",
       ".list-inline {list-style: none; margin:0; padding: 0}\n",
       ".list-inline>li {display: inline-block}\n",
       ".list-inline>li:not(:last-child)::after {content: \"\\00b7\"; padding: 0 .5ex}\n",
       "</style>\n",
       "<ol class=list-inline><li>105</li><li>32</li></ol>\n"
      ],
      "text/latex": [
       "\\begin{enumerate*}\n",
       "\\item 105\n",
       "\\item 32\n",
       "\\end{enumerate*}\n"
      ],
      "text/markdown": [
       "1. 105\n",
       "2. 32\n",
       "\n",
       "\n"
      ],
      "text/plain": [
       "[1] 105  32"
      ]
     },
     "metadata": {},
     "output_type": "display_data"
    },
    {
     "data": {
      "text/html": [
       "<style>\n",
       ".list-inline {list-style: none; margin:0; padding: 0}\n",
       ".list-inline>li {display: inline-block}\n",
       ".list-inline>li:not(:last-child)::after {content: \"\\00b7\"; padding: 0 .5ex}\n",
       "</style>\n",
       "<ol class=list-inline><li>17</li><li>32</li></ol>\n"
      ],
      "text/latex": [
       "\\begin{enumerate*}\n",
       "\\item 17\n",
       "\\item 32\n",
       "\\end{enumerate*}\n"
      ],
      "text/markdown": [
       "1. 17\n",
       "2. 32\n",
       "\n",
       "\n"
      ],
      "text/plain": [
       "[1] 17 32"
      ]
     },
     "metadata": {},
     "output_type": "display_data"
    },
    {
     "data": {
      "text/html": [
       "'PAN2'"
      ],
      "text/latex": [
       "'PAN2'"
      ],
      "text/markdown": [
       "'PAN2'"
      ],
      "text/plain": [
       "[1] \"PAN2\""
      ]
     },
     "metadata": {},
     "output_type": "display_data"
    },
    {
     "data": {
      "text/html": [
       "<style>\n",
       ".list-inline {list-style: none; margin:0; padding: 0}\n",
       ".list-inline>li {display: inline-block}\n",
       ".list-inline>li:not(:last-child)::after {content: \"\\00b7\"; padding: 0 .5ex}\n",
       "</style>\n",
       "<ol class=list-inline><li>'PAN2'</li><li>'PDPK1'</li><li>'TRIP12'</li><li>'ZNF544'</li></ol>\n"
      ],
      "text/latex": [
       "\\begin{enumerate*}\n",
       "\\item 'PAN2'\n",
       "\\item 'PDPK1'\n",
       "\\item 'TRIP12'\n",
       "\\item 'ZNF544'\n",
       "\\end{enumerate*}\n"
      ],
      "text/markdown": [
       "1. 'PAN2'\n",
       "2. 'PDPK1'\n",
       "3. 'TRIP12'\n",
       "4. 'ZNF544'\n",
       "\n",
       "\n"
      ],
      "text/plain": [
       "[1] \"PAN2\"   \"PDPK1\"  \"TRIP12\" \"ZNF544\""
      ]
     },
     "metadata": {},
     "output_type": "display_data"
    }
   ],
   "source": [
    "    #读取resInSpliceSites_WzGeneInfo\n",
    "    celltype='L2_3_ExN'\n",
    "    ctr_resInSpliceSites_WzGeneInfo <- read.table(paste0(\"/disk1/wenqing/tmp_data/ASD/resInSpliceSites_WzGeneInfo/ctr_only/union_resInSpliceSites_\",celltype,\".WzGeneInfo.txt\"))\n",
    "\n",
    "\n",
    "    ctr_resInSpliceSites_WzGeneInfo_dedup <- ctr_resInSpliceSites_WzGeneInfo[!duplicated(ctr_resInSpliceSites_WzGeneInfo$V15),]\n",
    "    #resInSpliceSites_WzGeneInfo_dedup维度：4306个位点落在基因的AS site及其上下游5bp的位置\n",
    "    dim(ctr_resInSpliceSites_WzGeneInfo_dedup)\n",
    "\n",
    "    #按中心法则，若该位点发生mRNA发生A-to-G，则DNA序列看到的应该是TC（正链），AG（负链）\n",
    "    ctr_resInSpliceSites_WzGeneInfo_dedup_filtered <- c()\n",
    "    for(i in 1:nrow(ctr_resInSpliceSites_WzGeneInfo_dedup)){\n",
    "        site_info=ctr_resInSpliceSites_WzGeneInfo_dedup[i,16]\n",
    "        res_type=ctr_resInSpliceSites_WzGeneInfo_dedup[i,9]\n",
    "        flag1 <- site_info == 'acceptor_us_1_G' & res_type=='AG'\n",
    "        flag2 <- site_info == 'acceptor_us_2_A' & res_type=='AG'\n",
    "        flag3 <- site_info == 'branch_site_A' & res_type=='AG'\n",
    "        flag4 <- site_info == 'branch_site_A' & res_type=='AG'\n",
    "        flag5 <- site_info == 'donor_ds_1_G' & res_type=='AG'\n",
    "        flag6 <- site_info == 'donor_ds_2_T' & res_type=='TC'\n",
    "\n",
    "        if(flag1 | flag2 | flag3 | flag4 | flag5 | flag6){\n",
    "            ctr_resInSpliceSites_WzGeneInfo_dedup_filtered <- rbind(ctr_resInSpliceSites_WzGeneInfo_dedup_filtered,ctr_resInSpliceSites_WzGeneInfo_dedup[i,])\n",
    "        }   \n",
    "    }\n",
    "\n",
    "    deEx_iso_IR <- read.csv(paste0(\"/disk1/wenqing/tmp_data/ASD/deX_isoform_IR/de_isoform_IR_\",celltype,\".csv\"))\n",
    "    iso_IR <- read.csv(paste0(\"/disk1/wenqing/tmp_data/ASD/isoform_IR/isoform_IR_\",celltype,\".csv\"))\n",
    "    dim(iso_IR)\n",
    "    dim(deEx_iso_IR)\n",
    "\n",
    "    #差异表达的+有IR的isoform所在的基因与res发生的基因做交叉\n",
    "    genes_de_iso_IR_RES <- intersect(names(table(deEx_iso_IR$gene_id)),unique(ctr_resInSpliceSites_WzGeneInfo_dedup$V4))\n",
    "    genes_de_iso_IR_RES\n",
    "\n",
    "    genes_iso_IR_RES <- intersect(names(table(iso_IR$gene_id)),unique(ctr_resInSpliceSites_WzGeneInfo_dedup$V4))\n",
    "    genes_iso_IR_RES"
   ]
  },
  {
   "cell_type": "code",
   "execution_count": null,
   "metadata": {
    "vscode": {
     "languageId": "r"
    }
   },
   "outputs": [
    {
     "data": {
      "text/html": [
       "14"
      ],
      "text/latex": [
       "14"
      ],
      "text/markdown": [
       "14"
      ],
      "text/plain": [
       "[1] 14"
      ]
     },
     "metadata": {},
     "output_type": "display_data"
    }
   ],
   "source": [
    "length(unique(ctr_resInSpliceSites_WzGeneInfo_dedup_filtered$V4))"
   ]
  },
  {
   "cell_type": "code",
   "execution_count": null,
   "metadata": {
    "vscode": {
     "languageId": "r"
    }
   },
   "outputs": [],
   "source": [
    "\n",
    "    #与有switch后果的基因做交叉\n",
    "    #得到'COPS7B''DNAJC10''ENTPD5''FAM193A''FRS2''MRI1''NPL''PALB2''TATDN3''TMEM198B''ZNF774'共11个基因\n",
    "    #final_genes <- intersect(switch_cons$gene_id,unique(resInSpliceSites_WzGeneInfo_dedup$V4))\n",
    "    #final_genes\n",
    "    #isoform发生IR的基因与res发生的基因做交叉\n",
    "    genes_de_iso_IR_RES <- intersect(names(table(deEx_iso_IR$gene_id)),unique(ctr_resInSpliceSites_WzGeneInfo_dedup_filtered$V4))\n",
    "    #最终候选研究基因取上述2种基因,得到12个候选基因\n",
    "    #final_candidate_genes <- unique(c(final_genes,genes_IR_RES))\n",
    "    #length(final_candidate_genes)\n",
    "    #final_candidate_genes\n",
    "    #经研究背景调查，在12个candidate genes中得到经研究过与神经系统发育相关的6个基因\n",
    "    #head(resInSpliceSites_WzGeneInfo_dedup)\n",
    "    #genes_iso_IR_RES <- intersect(names(table(iso_IR$gene_id)),unique(resInSpliceSites_WzGeneInfo_dedup$V4))\n"
   ]
  },
  {
   "cell_type": "code",
   "execution_count": null,
   "metadata": {
    "vscode": {
     "languageId": "r"
    }
   },
   "outputs": [
    {
     "data": {
      "text/html": [],
      "text/latex": [],
      "text/markdown": [],
      "text/plain": [
       "character(0)"
      ]
     },
     "metadata": {},
     "output_type": "display_data"
    },
    {
     "data": {
      "text/html": [],
      "text/latex": [],
      "text/markdown": [],
      "text/plain": [
       "character(0)"
      ]
     },
     "metadata": {},
     "output_type": "display_data"
    }
   ],
   "source": [
    "genes_de_iso_IR_RES\n",
    "genes_iso_IR_RES"
   ]
  },
  {
   "cell_type": "code",
   "execution_count": null,
   "metadata": {
    "vscode": {
     "languageId": "r"
    }
   },
   "outputs": [
    {
     "data": {
      "text/html": [
       "<table class=\"dataframe\">\n",
       "<caption>A data.frame: 3 × 17</caption>\n",
       "<thead>\n",
       "\t<tr><th></th><th scope=col>V1</th><th scope=col>V2</th><th scope=col>V3</th><th scope=col>V4</th><th scope=col>V5</th><th scope=col>V6</th><th scope=col>V7</th><th scope=col>V8</th><th scope=col>V9</th><th scope=col>V10</th><th scope=col>V11</th><th scope=col>V12</th><th scope=col>V13</th><th scope=col>V14</th><th scope=col>V15</th><th scope=col>V16</th><th scope=col>V17</th></tr>\n",
       "\t<tr><th></th><th scope=col>&lt;chr&gt;</th><th scope=col>&lt;int&gt;</th><th scope=col>&lt;int&gt;</th><th scope=col>&lt;chr&gt;</th><th scope=col>&lt;chr&gt;</th><th scope=col>&lt;chr&gt;</th><th scope=col>&lt;int&gt;</th><th scope=col>&lt;int&gt;</th><th scope=col>&lt;chr&gt;</th><th scope=col>&lt;int&gt;</th><th scope=col>&lt;chr&gt;</th><th scope=col>&lt;chr&gt;</th><th scope=col>&lt;chr&gt;</th><th scope=col>&lt;int&gt;</th><th scope=col>&lt;chr&gt;</th><th scope=col>&lt;chr&gt;</th><th scope=col>&lt;int&gt;</th></tr>\n",
       "</thead>\n",
       "<tbody>\n",
       "\t<tr><th scope=row>3215</th><td>chr9</td><td>132245729</td><td>132275947</td><td>LINC00963</td><td>;</td><td>chr9</td><td>132266442</td><td>132266443</td><td>AG</td><td>1</td><td>-</td><td>ACATCAGAGACTACAA</td><td>1:1</td><td>18</td><td>chr9_132266443</td><td>donor_ds_5_G     </td><td>1</td></tr>\n",
       "\t<tr><th scope=row>3216</th><td>chr9</td><td>132245729</td><td>132275947</td><td>LINC00963</td><td>;</td><td>chr9</td><td>132268956</td><td>132268957</td><td>AG</td><td>2</td><td>-</td><td>GTATCTTAGTCGAGTG</td><td>2:2</td><td>56</td><td>chr9_132268957</td><td>acceptor_us_5_C_T</td><td>1</td></tr>\n",
       "\t<tr><th scope=row>3217</th><td>chr9</td><td>132245729</td><td>132275947</td><td>LINC00963</td><td>;</td><td>chr9</td><td>132268959</td><td>132268960</td><td>AG</td><td>2</td><td>-</td><td>GTATCTTAGTCGAGTG</td><td>3:3</td><td>56</td><td>chr9_132268960</td><td>acceptor_us_2_A  </td><td>1</td></tr>\n",
       "</tbody>\n",
       "</table>\n"
      ],
      "text/latex": [
       "A data.frame: 3 × 17\n",
       "\\begin{tabular}{r|lllllllllllllllll}\n",
       "  & V1 & V2 & V3 & V4 & V5 & V6 & V7 & V8 & V9 & V10 & V11 & V12 & V13 & V14 & V15 & V16 & V17\\\\\n",
       "  & <chr> & <int> & <int> & <chr> & <chr> & <chr> & <int> & <int> & <chr> & <int> & <chr> & <chr> & <chr> & <int> & <chr> & <chr> & <int>\\\\\n",
       "\\hline\n",
       "\t3215 & chr9 & 132245729 & 132275947 & LINC00963 & ; & chr9 & 132266442 & 132266443 & AG & 1 & - & ACATCAGAGACTACAA & 1:1 & 18 & chr9\\_132266443 & donor\\_ds\\_5\\_G      & 1\\\\\n",
       "\t3216 & chr9 & 132245729 & 132275947 & LINC00963 & ; & chr9 & 132268956 & 132268957 & AG & 2 & - & GTATCTTAGTCGAGTG & 2:2 & 56 & chr9\\_132268957 & acceptor\\_us\\_5\\_C\\_T & 1\\\\\n",
       "\t3217 & chr9 & 132245729 & 132275947 & LINC00963 & ; & chr9 & 132268959 & 132268960 & AG & 2 & - & GTATCTTAGTCGAGTG & 3:3 & 56 & chr9\\_132268960 & acceptor\\_us\\_2\\_A   & 1\\\\\n",
       "\\end{tabular}\n"
      ],
      "text/markdown": [
       "\n",
       "A data.frame: 3 × 17\n",
       "\n",
       "| <!--/--> | V1 &lt;chr&gt; | V2 &lt;int&gt; | V3 &lt;int&gt; | V4 &lt;chr&gt; | V5 &lt;chr&gt; | V6 &lt;chr&gt; | V7 &lt;int&gt; | V8 &lt;int&gt; | V9 &lt;chr&gt; | V10 &lt;int&gt; | V11 &lt;chr&gt; | V12 &lt;chr&gt; | V13 &lt;chr&gt; | V14 &lt;int&gt; | V15 &lt;chr&gt; | V16 &lt;chr&gt; | V17 &lt;int&gt; |\n",
       "|---|---|---|---|---|---|---|---|---|---|---|---|---|---|---|---|---|---|\n",
       "| 3215 | chr9 | 132245729 | 132275947 | LINC00963 | ; | chr9 | 132266442 | 132266443 | AG | 1 | - | ACATCAGAGACTACAA | 1:1 | 18 | chr9_132266443 | donor_ds_5_G      | 1 |\n",
       "| 3216 | chr9 | 132245729 | 132275947 | LINC00963 | ; | chr9 | 132268956 | 132268957 | AG | 2 | - | GTATCTTAGTCGAGTG | 2:2 | 56 | chr9_132268957 | acceptor_us_5_C_T | 1 |\n",
       "| 3217 | chr9 | 132245729 | 132275947 | LINC00963 | ; | chr9 | 132268959 | 132268960 | AG | 2 | - | GTATCTTAGTCGAGTG | 3:3 | 56 | chr9_132268960 | acceptor_us_2_A   | 1 |\n",
       "\n"
      ],
      "text/plain": [
       "     V1   V2        V3        V4        V5 V6   V7        V8        V9 V10 V11\n",
       "3215 chr9 132245729 132275947 LINC00963 ;  chr9 132266442 132266443 AG 1   -  \n",
       "3216 chr9 132245729 132275947 LINC00963 ;  chr9 132268956 132268957 AG 2   -  \n",
       "3217 chr9 132245729 132275947 LINC00963 ;  chr9 132268959 132268960 AG 2   -  \n",
       "     V12              V13 V14 V15            V16               V17\n",
       "3215 ACATCAGAGACTACAA 1:1 18  chr9_132266443 donor_ds_5_G      1  \n",
       "3216 GTATCTTAGTCGAGTG 2:2 56  chr9_132268957 acceptor_us_5_C_T 1  \n",
       "3217 GTATCTTAGTCGAGTG 3:3 56  chr9_132268960 acceptor_us_2_A   1  "
      ]
     },
     "metadata": {},
     "output_type": "display_data"
    }
   ],
   "source": [
    "    gene_name='LINC00963'\n",
    "    resInSpliceSites_WzGeneInfo_dedup[resInSpliceSites_WzGeneInfo_dedup$V4 == gene_name,]\n"
   ]
  },
  {
   "cell_type": "code",
   "execution_count": null,
   "metadata": {
    "vscode": {
     "languageId": "r"
    }
   },
   "outputs": [
    {
     "data": {
      "text/html": [
       "71840"
      ],
      "text/latex": [
       "71840"
      ],
      "text/markdown": [
       "71840"
      ],
      "text/plain": [
       "[1] 71840"
      ]
     },
     "metadata": {},
     "output_type": "display_data"
    },
    {
     "data": {
      "text/html": [
       "60346"
      ],
      "text/latex": [
       "60346"
      ],
      "text/markdown": [
       "60346"
      ],
      "text/plain": [
       "[1] 60346"
      ]
     },
     "metadata": {},
     "output_type": "display_data"
    },
    {
     "data": {
      "text/html": [
       "55368"
      ],
      "text/latex": [
       "55368"
      ],
      "text/markdown": [
       "55368"
      ],
      "text/plain": [
       "[1] 55368"
      ]
     },
     "metadata": {},
     "output_type": "display_data"
    },
    {
     "data": {
      "text/html": [
       "43874"
      ],
      "text/latex": [
       "43874"
      ],
      "text/markdown": [
       "43874"
      ],
      "text/plain": [
       "[1] 43874"
      ]
     },
     "metadata": {},
     "output_type": "display_data"
    },
    {
     "data": {
      "text/html": [
       "<style>\n",
       ".list-inline {list-style: none; margin:0; padding: 0}\n",
       ".list-inline>li {display: inline-block}\n",
       ".list-inline>li:not(:last-child)::after {content: \"\\00b7\"; padding: 0 .5ex}\n",
       "</style>\n",
       "<ol class=list-inline><li>378102</li><li>10</li></ol>\n"
      ],
      "text/latex": [
       "\\begin{enumerate*}\n",
       "\\item 378102\n",
       "\\item 10\n",
       "\\end{enumerate*}\n"
      ],
      "text/markdown": [
       "1. 378102\n",
       "2. 10\n",
       "\n",
       "\n"
      ],
      "text/plain": [
       "[1] 378102     10"
      ]
     },
     "metadata": {},
     "output_type": "display_data"
    },
    {
     "data": {
      "text/html": [
       "<style>\n",
       ".list-inline {list-style: none; margin:0; padding: 0}\n",
       ".list-inline>li {display: inline-block}\n",
       ".list-inline>li:not(:last-child)::after {content: \"\\00b7\"; padding: 0 .5ex}\n",
       "</style>\n",
       "<ol class=list-inline><li>514367</li><li>10</li></ol>\n"
      ],
      "text/latex": [
       "\\begin{enumerate*}\n",
       "\\item 514367\n",
       "\\item 10\n",
       "\\end{enumerate*}\n"
      ],
      "text/markdown": [
       "1. 514367\n",
       "2. 10\n",
       "\n",
       "\n"
      ],
      "text/plain": [
       "[1] 514367     10"
      ]
     },
     "metadata": {},
     "output_type": "display_data"
    },
    {
     "data": {
      "text/html": [
       "59"
      ],
      "text/latex": [
       "59"
      ],
      "text/markdown": [
       "59"
      ],
      "text/plain": [
       "[1] 59"
      ]
     },
     "metadata": {},
     "output_type": "display_data"
    },
    {
     "data": {
      "text/html": [
       "41"
      ],
      "text/latex": [
       "41"
      ],
      "text/markdown": [
       "41"
      ],
      "text/plain": [
       "[1] 41"
      ]
     },
     "metadata": {},
     "output_type": "display_data"
    }
   ],
   "source": [
    "####鉴定仅在asd/ctr存在的res\n",
    "asd_res <- intersect(all_res$V10[all_res$V9=='17'],all_res$V10[all_res$V9=='18'])\n",
    "asd_res <- intersect(asd_res,all_res$V10[all_res$V9=='57'])\n",
    "length(unique(asd_res))\n",
    "\n",
    "ctr_res <- intersect(all_res$V10[all_res$V9=='20'],all_res$V10[all_res$V9=='32'])\n",
    "ctr_res <- intersect(ctr_res,all_res$V10[all_res$V9=='56'])\n",
    "length(unique(ctr_res))\n",
    "\n",
    "only_asd_res <- setdiff(asd_res,ctr_res)\n",
    "length(only_asd_res)\n",
    "\n",
    "only_ctr_res <- setdiff(ctr_res,asd_res)\n",
    "length(only_ctr_res)\n",
    "\n",
    "only_ctr_res_mat <- all_res[all_res$V10 %in% only_ctr_res,]\n",
    "dim(only_ctr_res_mat)\n",
    "only_asd_res_mat <- all_res[all_res$V10 %in% only_asd_res,]\n",
    "dim(only_asd_res_mat)\n",
    "\n",
    "\n",
    "    #asd/ctr sites落在splice site\n",
    "    asd_resInSpliceSites <- only_asd_res_mat[only_asd_res_mat$V10 %in% uniq_all_sites$site,]\n",
    "    asd_resInSpliceSites$V11 <- \"info\"\n",
    "    asd_resInSpliceSites$V11 <- uniq_all_sites[asd_resInSpliceSites$V10,]$info\n",
    "\n",
    "    ctr_resInSpliceSites <- only_ctr_res_mat[only_ctr_res_mat$V10 %in% uniq_all_sites$site,]\n",
    "    ctr_resInSpliceSites$V11 <- \"info\"\n",
    "    ctr_resInSpliceSites$V11 <- uniq_all_sites[ctr_resInSpliceSites$V10,]$info\n",
    "\n",
    "\n",
    "    length(unique(asd_resInSpliceSites$V10))\n",
    "    length(unique(ctr_resInSpliceSites$V10))"
   ]
  },
  {
   "cell_type": "code",
   "execution_count": 2,
   "metadata": {
    "vscode": {
     "languageId": "r"
    }
   },
   "outputs": [
    {
     "data": {
      "text/html": [
       "<style>\n",
       ".list-inline {list-style: none; margin:0; padding: 0}\n",
       ".list-inline>li {display: inline-block}\n",
       ".list-inline>li:not(:last-child)::after {content: \"\\00b7\"; padding: 0 .5ex}\n",
       "</style>\n",
       "<ol class=list-inline><li>796</li><li>17</li></ol>\n"
      ],
      "text/latex": [
       "\\begin{enumerate*}\n",
       "\\item 796\n",
       "\\item 17\n",
       "\\end{enumerate*}\n"
      ],
      "text/markdown": [
       "1. 796\n",
       "2. 17\n",
       "\n",
       "\n"
      ],
      "text/plain": [
       "[1] 796  17"
      ]
     },
     "metadata": {},
     "output_type": "display_data"
    },
    {
     "data": {
      "text/html": [
       "<style>\n",
       ".list-inline {list-style: none; margin:0; padding: 0}\n",
       ".list-inline>li {display: inline-block}\n",
       ".list-inline>li:not(:last-child)::after {content: \"\\00b7\"; padding: 0 .5ex}\n",
       "</style>\n",
       "<ol class=list-inline><li>105</li><li>32</li></ol>\n"
      ],
      "text/latex": [
       "\\begin{enumerate*}\n",
       "\\item 105\n",
       "\\item 32\n",
       "\\end{enumerate*}\n"
      ],
      "text/markdown": [
       "1. 105\n",
       "2. 32\n",
       "\n",
       "\n"
      ],
      "text/plain": [
       "[1] 105  32"
      ]
     },
     "metadata": {},
     "output_type": "display_data"
    },
    {
     "data": {
      "text/html": [
       "<style>\n",
       ".list-inline {list-style: none; margin:0; padding: 0}\n",
       ".list-inline>li {display: inline-block}\n",
       ".list-inline>li:not(:last-child)::after {content: \"\\00b7\"; padding: 0 .5ex}\n",
       "</style>\n",
       "<ol class=list-inline><li>17</li><li>32</li></ol>\n"
      ],
      "text/latex": [
       "\\begin{enumerate*}\n",
       "\\item 17\n",
       "\\item 32\n",
       "\\end{enumerate*}\n"
      ],
      "text/markdown": [
       "1. 17\n",
       "2. 32\n",
       "\n",
       "\n"
      ],
      "text/plain": [
       "[1] 17 32"
      ]
     },
     "metadata": {},
     "output_type": "display_data"
    },
    {
     "data": {
      "text/html": [
       "'CDC16'"
      ],
      "text/latex": [
       "'CDC16'"
      ],
      "text/markdown": [
       "'CDC16'"
      ],
      "text/plain": [
       "[1] \"CDC16\""
      ]
     },
     "metadata": {},
     "output_type": "display_data"
    },
    {
     "data": {
      "text/html": [
       "<style>\n",
       ".list-inline {list-style: none; margin:0; padding: 0}\n",
       ".list-inline>li {display: inline-block}\n",
       ".list-inline>li:not(:last-child)::after {content: \"\\00b7\"; padding: 0 .5ex}\n",
       "</style>\n",
       "<ol class=list-inline><li>'CDC16'</li><li>'PDPK1'</li></ol>\n"
      ],
      "text/latex": [
       "\\begin{enumerate*}\n",
       "\\item 'CDC16'\n",
       "\\item 'PDPK1'\n",
       "\\end{enumerate*}\n"
      ],
      "text/markdown": [
       "1. 'CDC16'\n",
       "2. 'PDPK1'\n",
       "\n",
       "\n"
      ],
      "text/plain": [
       "[1] \"CDC16\" \"PDPK1\""
      ]
     },
     "metadata": {},
     "output_type": "display_data"
    }
   ],
   "source": [
    "    #读取resInSpliceSites_WzGeneInfo\n",
    "    celltype='L2_3_ExN'\n",
    "    asd_resInSpliceSites_WzGeneInfo <- read.table(paste0(\"/disk1/wenqing/tmp_data/ASD/resInSpliceSites_WzGeneInfo/asd_only/union_resInSpliceSites_\",celltype,\".WzGeneInfo.txt\"))\n",
    "\n",
    "\n",
    "    asd_resInSpliceSites_WzGeneInfo_dedup <- asd_resInSpliceSites_WzGeneInfo[!duplicated(asd_resInSpliceSites_WzGeneInfo$V15),]\n",
    "    #resInSpliceSites_WzGeneInfo_dedup维度：4306个位点落在基因的AS site及其上下游5bp的位置\n",
    "    dim(asd_resInSpliceSites_WzGeneInfo_dedup)\n",
    "\n",
    "    #按中心法则，若该位点发生mRNA发生A-to-G，则DNA序列看到的应该是TC（正链），AG（负链）\n",
    "    asd_resInSpliceSites_WzGeneInfo_dedup_filtered <- c()\n",
    "    for(i in 1:nrow(asd_resInSpliceSites_WzGeneInfo_dedup)){\n",
    "        site_info=asd_resInSpliceSites_WzGeneInfo_dedup[i,16]\n",
    "        res_type=asd_resInSpliceSites_WzGeneInfo_dedup[i,9]\n",
    "        flag1 <- site_info == 'acceptor_us_1_G' & res_type=='AG'\n",
    "        flag2 <- site_info == 'acceptor_us_2_A' & res_type=='AG'\n",
    "        flag3 <- site_info == 'branch_site_A' & res_type=='AG'\n",
    "        flag4 <- site_info == 'branch_site_A' & res_type=='AG'\n",
    "        flag5 <- site_info == 'donor_ds_1_G' & res_type=='AG'\n",
    "        flag6 <- site_info == 'donor_ds_2_T' & res_type=='TC'\n",
    "\n",
    "        if(flag1 | flag2 | flag3 | flag4 | flag5 | flag6){\n",
    "            asd_resInSpliceSites_WzGeneInfo_dedup_filtered <- rbind(asd_resInSpliceSites_WzGeneInfo_dedup_filtered,asd_resInSpliceSites_WzGeneInfo_dedup[i,])\n",
    "        }   \n",
    "    }\n",
    "\n",
    "    deEx_iso_IR <- read.csv(paste0(\"/disk1/wenqing/tmp_data/ASD/deX_isoform_IR/de_isoform_IR_\",celltype,\".csv\"))\n",
    "    iso_IR <- read.csv(paste0(\"/disk1/wenqing/tmp_data/ASD/isoform_IR/isoform_IR_\",celltype,\".csv\"))\n",
    "    dim(iso_IR)\n",
    "    dim(deEx_iso_IR)\n",
    "\n",
    "    #差异表达的+有IR的isoform所在的基因与res发生的基因做交叉\n",
    "    genes_de_iso_IR_RES <- intersect(names(table(deEx_iso_IR$gene_id)),unique(asd_resInSpliceSites_WzGeneInfo_dedup$V4))\n",
    "    genes_de_iso_IR_RES\n",
    "\n",
    "    genes_iso_IR_RES <- intersect(names(table(iso_IR$gene_id)),unique(asd_resInSpliceSites_WzGeneInfo_dedup$V4))\n",
    "    genes_iso_IR_RES"
   ]
  },
  {
   "cell_type": "code",
   "execution_count": 3,
   "metadata": {
    "vscode": {
     "languageId": "r"
    }
   },
   "outputs": [
    {
     "data": {
      "text/html": [
       "<table class=\"dataframe\">\n",
       "<caption>A data.frame: 1 × 17</caption>\n",
       "<thead>\n",
       "\t<tr><th></th><th scope=col>V1</th><th scope=col>V2</th><th scope=col>V3</th><th scope=col>V4</th><th scope=col>V5</th><th scope=col>V6</th><th scope=col>V7</th><th scope=col>V8</th><th scope=col>V9</th><th scope=col>V10</th><th scope=col>V11</th><th scope=col>V12</th><th scope=col>V13</th><th scope=col>V14</th><th scope=col>V15</th><th scope=col>V16</th><th scope=col>V17</th></tr>\n",
       "\t<tr><th></th><th scope=col>&lt;chr&gt;</th><th scope=col>&lt;int&gt;</th><th scope=col>&lt;int&gt;</th><th scope=col>&lt;chr&gt;</th><th scope=col>&lt;chr&gt;</th><th scope=col>&lt;chr&gt;</th><th scope=col>&lt;int&gt;</th><th scope=col>&lt;int&gt;</th><th scope=col>&lt;chr&gt;</th><th scope=col>&lt;int&gt;</th><th scope=col>&lt;chr&gt;</th><th scope=col>&lt;chr&gt;</th><th scope=col>&lt;chr&gt;</th><th scope=col>&lt;int&gt;</th><th scope=col>&lt;chr&gt;</th><th scope=col>&lt;chr&gt;</th><th scope=col>&lt;int&gt;</th></tr>\n",
       "</thead>\n",
       "<tbody>\n",
       "\t<tr><th scope=row>238</th><td>chr13</td><td>115000361</td><td>115038198</td><td>CDC16</td><td>;</td><td>chr13</td><td>115030362</td><td>115030363</td><td>AG</td><td>1</td><td>+</td><td>CTCCTAGTCAGCTCGG</td><td>1:1</td><td>18</td><td>chr13_115030363</td><td>acceptor_us_5_C_T</td><td>1</td></tr>\n",
       "</tbody>\n",
       "</table>\n"
      ],
      "text/latex": [
       "A data.frame: 1 × 17\n",
       "\\begin{tabular}{r|lllllllllllllllll}\n",
       "  & V1 & V2 & V3 & V4 & V5 & V6 & V7 & V8 & V9 & V10 & V11 & V12 & V13 & V14 & V15 & V16 & V17\\\\\n",
       "  & <chr> & <int> & <int> & <chr> & <chr> & <chr> & <int> & <int> & <chr> & <int> & <chr> & <chr> & <chr> & <int> & <chr> & <chr> & <int>\\\\\n",
       "\\hline\n",
       "\t238 & chr13 & 115000361 & 115038198 & CDC16 & ; & chr13 & 115030362 & 115030363 & AG & 1 & + & CTCCTAGTCAGCTCGG & 1:1 & 18 & chr13\\_115030363 & acceptor\\_us\\_5\\_C\\_T & 1\\\\\n",
       "\\end{tabular}\n"
      ],
      "text/markdown": [
       "\n",
       "A data.frame: 1 × 17\n",
       "\n",
       "| <!--/--> | V1 &lt;chr&gt; | V2 &lt;int&gt; | V3 &lt;int&gt; | V4 &lt;chr&gt; | V5 &lt;chr&gt; | V6 &lt;chr&gt; | V7 &lt;int&gt; | V8 &lt;int&gt; | V9 &lt;chr&gt; | V10 &lt;int&gt; | V11 &lt;chr&gt; | V12 &lt;chr&gt; | V13 &lt;chr&gt; | V14 &lt;int&gt; | V15 &lt;chr&gt; | V16 &lt;chr&gt; | V17 &lt;int&gt; |\n",
       "|---|---|---|---|---|---|---|---|---|---|---|---|---|---|---|---|---|---|\n",
       "| 238 | chr13 | 115000361 | 115038198 | CDC16 | ; | chr13 | 115030362 | 115030363 | AG | 1 | + | CTCCTAGTCAGCTCGG | 1:1 | 18 | chr13_115030363 | acceptor_us_5_C_T | 1 |\n",
       "\n"
      ],
      "text/plain": [
       "    V1    V2        V3        V4    V5 V6    V7        V8        V9 V10 V11\n",
       "238 chr13 115000361 115038198 CDC16 ;  chr13 115030362 115030363 AG 1   +  \n",
       "    V12              V13 V14 V15             V16               V17\n",
       "238 CTCCTAGTCAGCTCGG 1:1 18  chr13_115030363 acceptor_us_5_C_T 1  "
      ]
     },
     "metadata": {},
     "output_type": "display_data"
    }
   ],
   "source": [
    "    gene_name='CDC16'\n",
    "    asd_resInSpliceSites_WzGeneInfo_dedup[asd_resInSpliceSites_WzGeneInfo_dedup$V4 == gene_name,]\n"
   ]
  }
 ],
 "metadata": {
  "kernelspec": {
   "display_name": "R",
   "language": "R",
   "name": "ir"
  },
  "language_info": {
   "codemirror_mode": "r",
   "file_extension": ".r",
   "mimetype": "text/x-r-source",
   "name": "R",
   "pygments_lexer": "r",
   "version": "4.3.1"
  },
  "orig_nbformat": 4
 },
 "nbformat": 4,
 "nbformat_minor": 2
}
