{
 "cells": [
  {
   "cell_type": "code",
   "execution_count": 2,
   "metadata": {
    "vscode": {
     "languageId": "r"
    }
   },
   "outputs": [
    {
     "data": {
      "text/html": [
       "<table class=\"dataframe\">\n",
       "<caption>A data.frame: 6 × 14</caption>\n",
       "<thead>\n",
       "\t<tr><th></th><th scope=col>V1</th><th scope=col>V2</th><th scope=col>V3</th><th scope=col>V4</th><th scope=col>V5</th><th scope=col>V6</th><th scope=col>V7</th><th scope=col>V8</th><th scope=col>V9</th><th scope=col>V10</th><th scope=col>V11</th><th scope=col>V12</th><th scope=col>V13</th><th scope=col>V14</th></tr>\n",
       "\t<tr><th></th><th scope=col>&lt;chr&gt;</th><th scope=col>&lt;int&gt;</th><th scope=col>&lt;int&gt;</th><th scope=col>&lt;chr&gt;</th><th scope=col>&lt;chr&gt;</th><th scope=col>&lt;chr&gt;</th><th scope=col>&lt;int&gt;</th><th scope=col>&lt;int&gt;</th><th scope=col>&lt;chr&gt;</th><th scope=col>&lt;int&gt;</th><th scope=col>&lt;chr&gt;</th><th scope=col>&lt;chr&gt;</th><th scope=col>&lt;chr&gt;</th><th scope=col>&lt;int&gt;</th></tr>\n",
       "</thead>\n",
       "<tbody>\n",
       "\t<tr><th scope=row>1</th><td>chr7 </td><td> 1200063</td><td> 1203136</td><td>ENST00000660500.1_3</td><td>ZFAND2A-DT</td><td>chr7 </td><td> 1202337</td><td> 1202338</td><td>AG</td><td>1</td><td>-</td><td>TACCTTATCCAAACAC</td><td>1:1</td><td>1</td></tr>\n",
       "\t<tr><th scope=row>2</th><td>chr7 </td><td> 1200063</td><td> 1203136</td><td>ENST00000660500.1_3</td><td>ZFAND2A-DT</td><td>chr7 </td><td> 1202342</td><td> 1202343</td><td>AG</td><td>1</td><td>-</td><td>CAGCATAAGGCATTGG</td><td>1:1</td><td>1</td></tr>\n",
       "\t<tr><th scope=row>3</th><td>chr7 </td><td> 1200063</td><td> 1203136</td><td>ENST00000660500.1_3</td><td>ZFAND2A-DT</td><td>chr7 </td><td> 1202366</td><td> 1202367</td><td>AG</td><td>1</td><td>-</td><td>TACCTTATCCAAACAC</td><td>1:1</td><td>1</td></tr>\n",
       "\t<tr><th scope=row>4</th><td>chr15</td><td>76225021</td><td>76234857</td><td>ENST00000308275.8_7</td><td>FBXO22    </td><td>chr15</td><td>76229134</td><td>76229135</td><td>AG</td><td>2</td><td>-</td><td>CAGCATAAGGCATTGG</td><td>1:1</td><td>1</td></tr>\n",
       "\t<tr><th scope=row>5</th><td>chr15</td><td>76225021</td><td>76234857</td><td>ENST00000308275.8_7</td><td>FBXO22    </td><td>chr15</td><td>76229165</td><td>76229166</td><td>AG</td><td>3</td><td>-</td><td>CAGCATAAGGCATTGG</td><td>4:4</td><td>1</td></tr>\n",
       "\t<tr><th scope=row>6</th><td>chr15</td><td>76225021</td><td>76234857</td><td>ENST00000308275.8_7</td><td>FBXO22    </td><td>chr15</td><td>76229189</td><td>76229190</td><td>AG</td><td>3</td><td>-</td><td>CAGCATAAGGCATTGG</td><td>3:3</td><td>1</td></tr>\n",
       "</tbody>\n",
       "</table>\n"
      ],
      "text/latex": [
       "A data.frame: 6 × 14\n",
       "\\begin{tabular}{r|llllllllllllll}\n",
       "  & V1 & V2 & V3 & V4 & V5 & V6 & V7 & V8 & V9 & V10 & V11 & V12 & V13 & V14\\\\\n",
       "  & <chr> & <int> & <int> & <chr> & <chr> & <chr> & <int> & <int> & <chr> & <int> & <chr> & <chr> & <chr> & <int>\\\\\n",
       "\\hline\n",
       "\t1 & chr7  &  1200063 &  1203136 & ENST00000660500.1\\_3 & ZFAND2A-DT & chr7  &  1202337 &  1202338 & AG & 1 & - & TACCTTATCCAAACAC & 1:1 & 1\\\\\n",
       "\t2 & chr7  &  1200063 &  1203136 & ENST00000660500.1\\_3 & ZFAND2A-DT & chr7  &  1202342 &  1202343 & AG & 1 & - & CAGCATAAGGCATTGG & 1:1 & 1\\\\\n",
       "\t3 & chr7  &  1200063 &  1203136 & ENST00000660500.1\\_3 & ZFAND2A-DT & chr7  &  1202366 &  1202367 & AG & 1 & - & TACCTTATCCAAACAC & 1:1 & 1\\\\\n",
       "\t4 & chr15 & 76225021 & 76234857 & ENST00000308275.8\\_7 & FBXO22     & chr15 & 76229134 & 76229135 & AG & 2 & - & CAGCATAAGGCATTGG & 1:1 & 1\\\\\n",
       "\t5 & chr15 & 76225021 & 76234857 & ENST00000308275.8\\_7 & FBXO22     & chr15 & 76229165 & 76229166 & AG & 3 & - & CAGCATAAGGCATTGG & 4:4 & 1\\\\\n",
       "\t6 & chr15 & 76225021 & 76234857 & ENST00000308275.8\\_7 & FBXO22     & chr15 & 76229189 & 76229190 & AG & 3 & - & CAGCATAAGGCATTGG & 3:3 & 1\\\\\n",
       "\\end{tabular}\n"
      ],
      "text/markdown": [
       "\n",
       "A data.frame: 6 × 14\n",
       "\n",
       "| <!--/--> | V1 &lt;chr&gt; | V2 &lt;int&gt; | V3 &lt;int&gt; | V4 &lt;chr&gt; | V5 &lt;chr&gt; | V6 &lt;chr&gt; | V7 &lt;int&gt; | V8 &lt;int&gt; | V9 &lt;chr&gt; | V10 &lt;int&gt; | V11 &lt;chr&gt; | V12 &lt;chr&gt; | V13 &lt;chr&gt; | V14 &lt;int&gt; |\n",
       "|---|---|---|---|---|---|---|---|---|---|---|---|---|---|---|\n",
       "| 1 | chr7  |  1200063 |  1203136 | ENST00000660500.1_3 | ZFAND2A-DT | chr7  |  1202337 |  1202338 | AG | 1 | - | TACCTTATCCAAACAC | 1:1 | 1 |\n",
       "| 2 | chr7  |  1200063 |  1203136 | ENST00000660500.1_3 | ZFAND2A-DT | chr7  |  1202342 |  1202343 | AG | 1 | - | CAGCATAAGGCATTGG | 1:1 | 1 |\n",
       "| 3 | chr7  |  1200063 |  1203136 | ENST00000660500.1_3 | ZFAND2A-DT | chr7  |  1202366 |  1202367 | AG | 1 | - | TACCTTATCCAAACAC | 1:1 | 1 |\n",
       "| 4 | chr15 | 76225021 | 76234857 | ENST00000308275.8_7 | FBXO22     | chr15 | 76229134 | 76229135 | AG | 2 | - | CAGCATAAGGCATTGG | 1:1 | 1 |\n",
       "| 5 | chr15 | 76225021 | 76234857 | ENST00000308275.8_7 | FBXO22     | chr15 | 76229165 | 76229166 | AG | 3 | - | CAGCATAAGGCATTGG | 4:4 | 1 |\n",
       "| 6 | chr15 | 76225021 | 76234857 | ENST00000308275.8_7 | FBXO22     | chr15 | 76229189 | 76229190 | AG | 3 | - | CAGCATAAGGCATTGG | 3:3 | 1 |\n",
       "\n"
      ],
      "text/plain": [
       "  V1    V2       V3       V4                  V5         V6    V7      \n",
       "1 chr7   1200063  1203136 ENST00000660500.1_3 ZFAND2A-DT chr7   1202337\n",
       "2 chr7   1200063  1203136 ENST00000660500.1_3 ZFAND2A-DT chr7   1202342\n",
       "3 chr7   1200063  1203136 ENST00000660500.1_3 ZFAND2A-DT chr7   1202366\n",
       "4 chr15 76225021 76234857 ENST00000308275.8_7 FBXO22     chr15 76229134\n",
       "5 chr15 76225021 76234857 ENST00000308275.8_7 FBXO22     chr15 76229165\n",
       "6 chr15 76225021 76234857 ENST00000308275.8_7 FBXO22     chr15 76229189\n",
       "  V8       V9 V10 V11 V12              V13 V14\n",
       "1  1202338 AG 1   -   TACCTTATCCAAACAC 1:1 1  \n",
       "2  1202343 AG 1   -   CAGCATAAGGCATTGG 1:1 1  \n",
       "3  1202367 AG 1   -   TACCTTATCCAAACAC 1:1 1  \n",
       "4 76229135 AG 2   -   CAGCATAAGGCATTGG 1:1 1  \n",
       "5 76229166 AG 3   -   CAGCATAAGGCATTGG 4:4 1  \n",
       "6 76229190 AG 3   -   CAGCATAAGGCATTGG 3:3 1  "
      ]
     },
     "metadata": {},
     "output_type": "display_data"
    }
   ],
   "source": [
    "######6个样本中没找到shared的res，看单个位点\n",
    "res_site_in_iso_17 <- read.table(\"/disk1/wenqing/tmp_data/ASD/celltype_deX_iso_IR_res/L2_3_ExN/17/L2_3_de_iso_IR.res\")\n",
    "res_site_in_iso_17$V15 <- paste0(res_site_in_iso_17$V6,\"_\",res_site_in_iso_17$V8)\n",
    "specific_res_site_in_iso_17 <- res_site_in_iso_17[res_site_in_iso_17$V4=='ENST00000308275.8_7',]\n"
   ]
  },
  {
   "cell_type": "code",
   "execution_count": 7,
   "metadata": {
    "vscode": {
     "languageId": "r"
    }
   },
   "outputs": [
    {
     "data": {
      "text/html": [
       "<table class=\"dataframe\">\n",
       "<caption>A data.frame: 6 × 15</caption>\n",
       "<thead>\n",
       "\t<tr><th></th><th scope=col>V1</th><th scope=col>V2</th><th scope=col>V3</th><th scope=col>V4</th><th scope=col>V5</th><th scope=col>V6</th><th scope=col>V7</th><th scope=col>V8</th><th scope=col>V9</th><th scope=col>V10</th><th scope=col>V11</th><th scope=col>V12</th><th scope=col>V13</th><th scope=col>V14</th><th scope=col>V15</th></tr>\n",
       "\t<tr><th></th><th scope=col>&lt;chr&gt;</th><th scope=col>&lt;int&gt;</th><th scope=col>&lt;int&gt;</th><th scope=col>&lt;chr&gt;</th><th scope=col>&lt;chr&gt;</th><th scope=col>&lt;chr&gt;</th><th scope=col>&lt;int&gt;</th><th scope=col>&lt;int&gt;</th><th scope=col>&lt;chr&gt;</th><th scope=col>&lt;int&gt;</th><th scope=col>&lt;chr&gt;</th><th scope=col>&lt;chr&gt;</th><th scope=col>&lt;chr&gt;</th><th scope=col>&lt;int&gt;</th><th scope=col>&lt;chr&gt;</th></tr>\n",
       "</thead>\n",
       "<tbody>\n",
       "\t<tr><th scope=row>2</th><td>chr15</td><td>76225021</td><td>76234857</td><td>ENST00000308275.8_7</td><td>FBXO22</td><td>chr15</td><td>76228387</td><td>76228388</td><td>AG</td><td>2</td><td>-</td><td>GGAGCAAGTTTACTCT</td><td>2:2</td><td>1</td><td>chr15_76228388</td></tr>\n",
       "\t<tr><th scope=row>3</th><td>chr15</td><td>76225021</td><td>76234857</td><td>ENST00000308275.8_7</td><td>FBXO22</td><td>chr15</td><td>76228401</td><td>76228402</td><td>AG</td><td>2</td><td>-</td><td>GGAGCAAGTTTACTCT</td><td>2:2</td><td>1</td><td>chr15_76228402</td></tr>\n",
       "\t<tr><th scope=row>4</th><td>chr15</td><td>76225021</td><td>76234857</td><td>ENST00000308275.8_7</td><td>FBXO22</td><td>chr15</td><td>76228407</td><td>76228408</td><td>AG</td><td>3</td><td>-</td><td>GGAGCAAGTTTACTCT</td><td>2:2</td><td>1</td><td>chr15_76228408</td></tr>\n",
       "\t<tr><th scope=row>5</th><td>chr15</td><td>76225021</td><td>76234857</td><td>ENST00000308275.8_7</td><td>FBXO22</td><td>chr15</td><td>76229019</td><td>76229020</td><td>AG</td><td>1</td><td>-</td><td>TACTCATAGGAGTCTG</td><td>2:2</td><td>1</td><td>chr15_76229020</td></tr>\n",
       "\t<tr><th scope=row>6</th><td>chr15</td><td>76225021</td><td>76234857</td><td>ENST00000308275.8_7</td><td>FBXO22</td><td>chr15</td><td>76229054</td><td>76229055</td><td>AG</td><td>1</td><td>+</td><td>CCAATCCTCCTTCAAT</td><td>3:3</td><td>1</td><td>chr15_76229055</td></tr>\n",
       "\t<tr><th scope=row>7</th><td>chr15</td><td>76225021</td><td>76234857</td><td>ENST00000308275.8_7</td><td>FBXO22</td><td>chr15</td><td>76229134</td><td>76229135</td><td>AG</td><td>9</td><td>+</td><td>CCAATCCTCCTTCAAT</td><td>8:8</td><td>1</td><td>chr15_76229135</td></tr>\n",
       "</tbody>\n",
       "</table>\n"
      ],
      "text/latex": [
       "A data.frame: 6 × 15\n",
       "\\begin{tabular}{r|lllllllllllllll}\n",
       "  & V1 & V2 & V3 & V4 & V5 & V6 & V7 & V8 & V9 & V10 & V11 & V12 & V13 & V14 & V15\\\\\n",
       "  & <chr> & <int> & <int> & <chr> & <chr> & <chr> & <int> & <int> & <chr> & <int> & <chr> & <chr> & <chr> & <int> & <chr>\\\\\n",
       "\\hline\n",
       "\t2 & chr15 & 76225021 & 76234857 & ENST00000308275.8\\_7 & FBXO22 & chr15 & 76228387 & 76228388 & AG & 2 & - & GGAGCAAGTTTACTCT & 2:2 & 1 & chr15\\_76228388\\\\\n",
       "\t3 & chr15 & 76225021 & 76234857 & ENST00000308275.8\\_7 & FBXO22 & chr15 & 76228401 & 76228402 & AG & 2 & - & GGAGCAAGTTTACTCT & 2:2 & 1 & chr15\\_76228402\\\\\n",
       "\t4 & chr15 & 76225021 & 76234857 & ENST00000308275.8\\_7 & FBXO22 & chr15 & 76228407 & 76228408 & AG & 3 & - & GGAGCAAGTTTACTCT & 2:2 & 1 & chr15\\_76228408\\\\\n",
       "\t5 & chr15 & 76225021 & 76234857 & ENST00000308275.8\\_7 & FBXO22 & chr15 & 76229019 & 76229020 & AG & 1 & - & TACTCATAGGAGTCTG & 2:2 & 1 & chr15\\_76229020\\\\\n",
       "\t6 & chr15 & 76225021 & 76234857 & ENST00000308275.8\\_7 & FBXO22 & chr15 & 76229054 & 76229055 & AG & 1 & + & CCAATCCTCCTTCAAT & 3:3 & 1 & chr15\\_76229055\\\\\n",
       "\t7 & chr15 & 76225021 & 76234857 & ENST00000308275.8\\_7 & FBXO22 & chr15 & 76229134 & 76229135 & AG & 9 & + & CCAATCCTCCTTCAAT & 8:8 & 1 & chr15\\_76229135\\\\\n",
       "\\end{tabular}\n"
      ],
      "text/markdown": [
       "\n",
       "A data.frame: 6 × 15\n",
       "\n",
       "| <!--/--> | V1 &lt;chr&gt; | V2 &lt;int&gt; | V3 &lt;int&gt; | V4 &lt;chr&gt; | V5 &lt;chr&gt; | V6 &lt;chr&gt; | V7 &lt;int&gt; | V8 &lt;int&gt; | V9 &lt;chr&gt; | V10 &lt;int&gt; | V11 &lt;chr&gt; | V12 &lt;chr&gt; | V13 &lt;chr&gt; | V14 &lt;int&gt; | V15 &lt;chr&gt; |\n",
       "|---|---|---|---|---|---|---|---|---|---|---|---|---|---|---|---|\n",
       "| 2 | chr15 | 76225021 | 76234857 | ENST00000308275.8_7 | FBXO22 | chr15 | 76228387 | 76228388 | AG | 2 | - | GGAGCAAGTTTACTCT | 2:2 | 1 | chr15_76228388 |\n",
       "| 3 | chr15 | 76225021 | 76234857 | ENST00000308275.8_7 | FBXO22 | chr15 | 76228401 | 76228402 | AG | 2 | - | GGAGCAAGTTTACTCT | 2:2 | 1 | chr15_76228402 |\n",
       "| 4 | chr15 | 76225021 | 76234857 | ENST00000308275.8_7 | FBXO22 | chr15 | 76228407 | 76228408 | AG | 3 | - | GGAGCAAGTTTACTCT | 2:2 | 1 | chr15_76228408 |\n",
       "| 5 | chr15 | 76225021 | 76234857 | ENST00000308275.8_7 | FBXO22 | chr15 | 76229019 | 76229020 | AG | 1 | - | TACTCATAGGAGTCTG | 2:2 | 1 | chr15_76229020 |\n",
       "| 6 | chr15 | 76225021 | 76234857 | ENST00000308275.8_7 | FBXO22 | chr15 | 76229054 | 76229055 | AG | 1 | + | CCAATCCTCCTTCAAT | 3:3 | 1 | chr15_76229055 |\n",
       "| 7 | chr15 | 76225021 | 76234857 | ENST00000308275.8_7 | FBXO22 | chr15 | 76229134 | 76229135 | AG | 9 | + | CCAATCCTCCTTCAAT | 8:8 | 1 | chr15_76229135 |\n",
       "\n"
      ],
      "text/plain": [
       "  V1    V2       V3       V4                  V5     V6    V7       V8       V9\n",
       "2 chr15 76225021 76234857 ENST00000308275.8_7 FBXO22 chr15 76228387 76228388 AG\n",
       "3 chr15 76225021 76234857 ENST00000308275.8_7 FBXO22 chr15 76228401 76228402 AG\n",
       "4 chr15 76225021 76234857 ENST00000308275.8_7 FBXO22 chr15 76228407 76228408 AG\n",
       "5 chr15 76225021 76234857 ENST00000308275.8_7 FBXO22 chr15 76229019 76229020 AG\n",
       "6 chr15 76225021 76234857 ENST00000308275.8_7 FBXO22 chr15 76229054 76229055 AG\n",
       "7 chr15 76225021 76234857 ENST00000308275.8_7 FBXO22 chr15 76229134 76229135 AG\n",
       "  V10 V11 V12              V13 V14 V15           \n",
       "2 2   -   GGAGCAAGTTTACTCT 2:2 1   chr15_76228388\n",
       "3 2   -   GGAGCAAGTTTACTCT 2:2 1   chr15_76228402\n",
       "4 3   -   GGAGCAAGTTTACTCT 2:2 1   chr15_76228408\n",
       "5 1   -   TACTCATAGGAGTCTG 2:2 1   chr15_76229020\n",
       "6 1   +   CCAATCCTCCTTCAAT 3:3 1   chr15_76229055\n",
       "7 9   +   CCAATCCTCCTTCAAT 8:8 1   chr15_76229135"
      ]
     },
     "metadata": {},
     "output_type": "display_data"
    }
   ],
   "source": [
    "res_site_in_iso_18 <- read.table(\"/disk1/wenqing/tmp_data/ASD/celltype_deX_iso_IR_res/L2_3_ExN/18/L2_3_de_iso_IR.res\")\n",
    "res_site_in_iso_18$V15 <- paste0(res_site_in_iso_18$V6,\"_\",res_site_in_iso_18$V8)\n",
    "specific_res_site_in_iso_18 <- res_site_in_iso_18[res_site_in_iso_18$V4=='ENST00000308275.8_7',]\n",
    "head(specific_res_site_in_iso_18)\n"
   ]
  },
  {
   "cell_type": "code",
   "execution_count": 8,
   "metadata": {
    "vscode": {
     "languageId": "r"
    }
   },
   "outputs": [
    {
     "data": {
      "text/html": [
       "<table class=\"dataframe\">\n",
       "<caption>A data.frame: 6 × 15</caption>\n",
       "<thead>\n",
       "\t<tr><th></th><th scope=col>V1</th><th scope=col>V2</th><th scope=col>V3</th><th scope=col>V4</th><th scope=col>V5</th><th scope=col>V6</th><th scope=col>V7</th><th scope=col>V8</th><th scope=col>V9</th><th scope=col>V10</th><th scope=col>V11</th><th scope=col>V12</th><th scope=col>V13</th><th scope=col>V14</th><th scope=col>V15</th></tr>\n",
       "\t<tr><th></th><th scope=col>&lt;chr&gt;</th><th scope=col>&lt;int&gt;</th><th scope=col>&lt;int&gt;</th><th scope=col>&lt;chr&gt;</th><th scope=col>&lt;chr&gt;</th><th scope=col>&lt;chr&gt;</th><th scope=col>&lt;int&gt;</th><th scope=col>&lt;int&gt;</th><th scope=col>&lt;chr&gt;</th><th scope=col>&lt;int&gt;</th><th scope=col>&lt;chr&gt;</th><th scope=col>&lt;chr&gt;</th><th scope=col>&lt;chr&gt;</th><th scope=col>&lt;int&gt;</th><th scope=col>&lt;chr&gt;</th></tr>\n",
       "</thead>\n",
       "<tbody>\n",
       "\t<tr><th scope=row>1</th><td>chr15</td><td>76225021</td><td>76234857</td><td>ENST00000308275.8_7</td><td>FBXO22</td><td>chr15</td><td>76229187</td><td>76229188</td><td>AG</td><td> 1</td><td>-</td><td>TGCTACCTCTTCATGT</td><td>2:2  </td><td>1</td><td>chr15_76229188</td></tr>\n",
       "\t<tr><th scope=row>2</th><td>chr15</td><td>76225021</td><td>76234857</td><td>ENST00000308275.8_7</td><td>FBXO22</td><td>chr15</td><td>76234008</td><td>76234009</td><td>AG</td><td> 4</td><td>-</td><td>CGCTATCTCATGCATG</td><td>5:5  </td><td>1</td><td>chr15_76234009</td></tr>\n",
       "\t<tr><th scope=row>3</th><td>chr15</td><td>76225021</td><td>76234857</td><td>ENST00000308275.8_7</td><td>FBXO22</td><td>chr15</td><td>76234010</td><td>76234011</td><td>AG</td><td> 4</td><td>-</td><td>CGCTATCTCATGCATG</td><td>6:6  </td><td>1</td><td>chr15_76234011</td></tr>\n",
       "\t<tr><th scope=row>4</th><td>chr15</td><td>76225021</td><td>76234857</td><td>ENST00000308275.8_7</td><td>FBXO22</td><td>chr15</td><td>76234035</td><td>76234036</td><td>AG</td><td> 2</td><td>-</td><td>CGCTATCTCATGCATG</td><td>11:11</td><td>1</td><td>chr15_76234036</td></tr>\n",
       "\t<tr><th scope=row>5</th><td>chr15</td><td>76225021</td><td>76234857</td><td>ENST00000308275.8_7</td><td>FBXO22</td><td>chr15</td><td>76234040</td><td>76234041</td><td>AG</td><td> 1</td><td>-</td><td>ACGTCAAGTTATTCTC</td><td>3:3  </td><td>1</td><td>chr15_76234041</td></tr>\n",
       "\t<tr><th scope=row>6</th><td>chr15</td><td>76225021</td><td>76234857</td><td>ENST00000308275.8_7</td><td>FBXO22</td><td>chr15</td><td>76234091</td><td>76234092</td><td>AG</td><td>28</td><td>-</td><td>CGCTATCTCATGCATG</td><td>9:9  </td><td>1</td><td>chr15_76234092</td></tr>\n",
       "</tbody>\n",
       "</table>\n"
      ],
      "text/latex": [
       "A data.frame: 6 × 15\n",
       "\\begin{tabular}{r|lllllllllllllll}\n",
       "  & V1 & V2 & V3 & V4 & V5 & V6 & V7 & V8 & V9 & V10 & V11 & V12 & V13 & V14 & V15\\\\\n",
       "  & <chr> & <int> & <int> & <chr> & <chr> & <chr> & <int> & <int> & <chr> & <int> & <chr> & <chr> & <chr> & <int> & <chr>\\\\\n",
       "\\hline\n",
       "\t1 & chr15 & 76225021 & 76234857 & ENST00000308275.8\\_7 & FBXO22 & chr15 & 76229187 & 76229188 & AG &  1 & - & TGCTACCTCTTCATGT & 2:2   & 1 & chr15\\_76229188\\\\\n",
       "\t2 & chr15 & 76225021 & 76234857 & ENST00000308275.8\\_7 & FBXO22 & chr15 & 76234008 & 76234009 & AG &  4 & - & CGCTATCTCATGCATG & 5:5   & 1 & chr15\\_76234009\\\\\n",
       "\t3 & chr15 & 76225021 & 76234857 & ENST00000308275.8\\_7 & FBXO22 & chr15 & 76234010 & 76234011 & AG &  4 & - & CGCTATCTCATGCATG & 6:6   & 1 & chr15\\_76234011\\\\\n",
       "\t4 & chr15 & 76225021 & 76234857 & ENST00000308275.8\\_7 & FBXO22 & chr15 & 76234035 & 76234036 & AG &  2 & - & CGCTATCTCATGCATG & 11:11 & 1 & chr15\\_76234036\\\\\n",
       "\t5 & chr15 & 76225021 & 76234857 & ENST00000308275.8\\_7 & FBXO22 & chr15 & 76234040 & 76234041 & AG &  1 & - & ACGTCAAGTTATTCTC & 3:3   & 1 & chr15\\_76234041\\\\\n",
       "\t6 & chr15 & 76225021 & 76234857 & ENST00000308275.8\\_7 & FBXO22 & chr15 & 76234091 & 76234092 & AG & 28 & - & CGCTATCTCATGCATG & 9:9   & 1 & chr15\\_76234092\\\\\n",
       "\\end{tabular}\n"
      ],
      "text/markdown": [
       "\n",
       "A data.frame: 6 × 15\n",
       "\n",
       "| <!--/--> | V1 &lt;chr&gt; | V2 &lt;int&gt; | V3 &lt;int&gt; | V4 &lt;chr&gt; | V5 &lt;chr&gt; | V6 &lt;chr&gt; | V7 &lt;int&gt; | V8 &lt;int&gt; | V9 &lt;chr&gt; | V10 &lt;int&gt; | V11 &lt;chr&gt; | V12 &lt;chr&gt; | V13 &lt;chr&gt; | V14 &lt;int&gt; | V15 &lt;chr&gt; |\n",
       "|---|---|---|---|---|---|---|---|---|---|---|---|---|---|---|---|\n",
       "| 1 | chr15 | 76225021 | 76234857 | ENST00000308275.8_7 | FBXO22 | chr15 | 76229187 | 76229188 | AG |  1 | - | TGCTACCTCTTCATGT | 2:2   | 1 | chr15_76229188 |\n",
       "| 2 | chr15 | 76225021 | 76234857 | ENST00000308275.8_7 | FBXO22 | chr15 | 76234008 | 76234009 | AG |  4 | - | CGCTATCTCATGCATG | 5:5   | 1 | chr15_76234009 |\n",
       "| 3 | chr15 | 76225021 | 76234857 | ENST00000308275.8_7 | FBXO22 | chr15 | 76234010 | 76234011 | AG |  4 | - | CGCTATCTCATGCATG | 6:6   | 1 | chr15_76234011 |\n",
       "| 4 | chr15 | 76225021 | 76234857 | ENST00000308275.8_7 | FBXO22 | chr15 | 76234035 | 76234036 | AG |  2 | - | CGCTATCTCATGCATG | 11:11 | 1 | chr15_76234036 |\n",
       "| 5 | chr15 | 76225021 | 76234857 | ENST00000308275.8_7 | FBXO22 | chr15 | 76234040 | 76234041 | AG |  1 | - | ACGTCAAGTTATTCTC | 3:3   | 1 | chr15_76234041 |\n",
       "| 6 | chr15 | 76225021 | 76234857 | ENST00000308275.8_7 | FBXO22 | chr15 | 76234091 | 76234092 | AG | 28 | - | CGCTATCTCATGCATG | 9:9   | 1 | chr15_76234092 |\n",
       "\n"
      ],
      "text/plain": [
       "  V1    V2       V3       V4                  V5     V6    V7       V8       V9\n",
       "1 chr15 76225021 76234857 ENST00000308275.8_7 FBXO22 chr15 76229187 76229188 AG\n",
       "2 chr15 76225021 76234857 ENST00000308275.8_7 FBXO22 chr15 76234008 76234009 AG\n",
       "3 chr15 76225021 76234857 ENST00000308275.8_7 FBXO22 chr15 76234010 76234011 AG\n",
       "4 chr15 76225021 76234857 ENST00000308275.8_7 FBXO22 chr15 76234035 76234036 AG\n",
       "5 chr15 76225021 76234857 ENST00000308275.8_7 FBXO22 chr15 76234040 76234041 AG\n",
       "6 chr15 76225021 76234857 ENST00000308275.8_7 FBXO22 chr15 76234091 76234092 AG\n",
       "  V10 V11 V12              V13   V14 V15           \n",
       "1  1  -   TGCTACCTCTTCATGT 2:2   1   chr15_76229188\n",
       "2  4  -   CGCTATCTCATGCATG 5:5   1   chr15_76234009\n",
       "3  4  -   CGCTATCTCATGCATG 6:6   1   chr15_76234011\n",
       "4  2  -   CGCTATCTCATGCATG 11:11 1   chr15_76234036\n",
       "5  1  -   ACGTCAAGTTATTCTC 3:3   1   chr15_76234041\n",
       "6 28  -   CGCTATCTCATGCATG 9:9   1   chr15_76234092"
      ]
     },
     "metadata": {},
     "output_type": "display_data"
    }
   ],
   "source": [
    "res_site_in_iso_57 <- read.table(\"/disk1/wenqing/tmp_data/ASD/celltype_deX_iso_IR_res/L2_3_ExN/57/L2_3_de_iso_IR.res\")\n",
    "res_site_in_iso_57$V15 <- paste0(res_site_in_iso_57$V6,\"_\",res_site_in_iso_57$V8)\n",
    "specific_res_site_in_iso_57 <- res_site_in_iso_57[res_site_in_iso_57$V4=='ENST00000308275.8_7',]\n",
    "head(specific_res_site_in_iso_57)"
   ]
  },
  {
   "cell_type": "code",
   "execution_count": 9,
   "metadata": {
    "vscode": {
     "languageId": "r"
    }
   },
   "outputs": [
    {
     "data": {
      "text/html": [
       "<table class=\"dataframe\">\n",
       "<caption>A data.frame: 4 × 15</caption>\n",
       "<thead>\n",
       "\t<tr><th></th><th scope=col>V1</th><th scope=col>V2</th><th scope=col>V3</th><th scope=col>V4</th><th scope=col>V5</th><th scope=col>V6</th><th scope=col>V7</th><th scope=col>V8</th><th scope=col>V9</th><th scope=col>V10</th><th scope=col>V11</th><th scope=col>V12</th><th scope=col>V13</th><th scope=col>V14</th><th scope=col>V15</th></tr>\n",
       "\t<tr><th></th><th scope=col>&lt;chr&gt;</th><th scope=col>&lt;int&gt;</th><th scope=col>&lt;int&gt;</th><th scope=col>&lt;chr&gt;</th><th scope=col>&lt;chr&gt;</th><th scope=col>&lt;chr&gt;</th><th scope=col>&lt;int&gt;</th><th scope=col>&lt;int&gt;</th><th scope=col>&lt;chr&gt;</th><th scope=col>&lt;int&gt;</th><th scope=col>&lt;chr&gt;</th><th scope=col>&lt;chr&gt;</th><th scope=col>&lt;chr&gt;</th><th scope=col>&lt;int&gt;</th><th scope=col>&lt;chr&gt;</th></tr>\n",
       "</thead>\n",
       "<tbody>\n",
       "\t<tr><th scope=row>4</th><td>chr15</td><td>76225021</td><td>76234857</td><td>ENST00000308275.8_7</td><td>FBXO22</td><td>chr15</td><td>76229594</td><td>76229595</td><td>AG</td><td>1</td><td>-</td><td>GAACGGAAGACTACAA</td><td>1:1</td><td>1</td><td>chr15_76229595</td></tr>\n",
       "\t<tr><th scope=row>5</th><td>chr15</td><td>76225021</td><td>76234857</td><td>ENST00000308275.8_7</td><td>FBXO22</td><td>chr15</td><td>76229595</td><td>76229596</td><td>AG</td><td>1</td><td>-</td><td>GAACGGAAGACTACAA</td><td>1:1</td><td>1</td><td>chr15_76229596</td></tr>\n",
       "\t<tr><th scope=row>6</th><td>chr15</td><td>76225021</td><td>76234857</td><td>ENST00000308275.8_7</td><td>FBXO22</td><td>chr15</td><td>76229625</td><td>76229626</td><td>AG</td><td>3</td><td>-</td><td>GGCCGATGTATAGTAG</td><td>1:1</td><td>1</td><td>chr15_76229626</td></tr>\n",
       "\t<tr><th scope=row>7</th><td>chr15</td><td>76225021</td><td>76234857</td><td>ENST00000308275.8_7</td><td>FBXO22</td><td>chr15</td><td>76229630</td><td>76229631</td><td>AG</td><td>1</td><td>-</td><td>GGCCGATGTATAGTAG</td><td>1:1</td><td>1</td><td>chr15_76229631</td></tr>\n",
       "</tbody>\n",
       "</table>\n"
      ],
      "text/latex": [
       "A data.frame: 4 × 15\n",
       "\\begin{tabular}{r|lllllllllllllll}\n",
       "  & V1 & V2 & V3 & V4 & V5 & V6 & V7 & V8 & V9 & V10 & V11 & V12 & V13 & V14 & V15\\\\\n",
       "  & <chr> & <int> & <int> & <chr> & <chr> & <chr> & <int> & <int> & <chr> & <int> & <chr> & <chr> & <chr> & <int> & <chr>\\\\\n",
       "\\hline\n",
       "\t4 & chr15 & 76225021 & 76234857 & ENST00000308275.8\\_7 & FBXO22 & chr15 & 76229594 & 76229595 & AG & 1 & - & GAACGGAAGACTACAA & 1:1 & 1 & chr15\\_76229595\\\\\n",
       "\t5 & chr15 & 76225021 & 76234857 & ENST00000308275.8\\_7 & FBXO22 & chr15 & 76229595 & 76229596 & AG & 1 & - & GAACGGAAGACTACAA & 1:1 & 1 & chr15\\_76229596\\\\\n",
       "\t6 & chr15 & 76225021 & 76234857 & ENST00000308275.8\\_7 & FBXO22 & chr15 & 76229625 & 76229626 & AG & 3 & - & GGCCGATGTATAGTAG & 1:1 & 1 & chr15\\_76229626\\\\\n",
       "\t7 & chr15 & 76225021 & 76234857 & ENST00000308275.8\\_7 & FBXO22 & chr15 & 76229630 & 76229631 & AG & 1 & - & GGCCGATGTATAGTAG & 1:1 & 1 & chr15\\_76229631\\\\\n",
       "\\end{tabular}\n"
      ],
      "text/markdown": [
       "\n",
       "A data.frame: 4 × 15\n",
       "\n",
       "| <!--/--> | V1 &lt;chr&gt; | V2 &lt;int&gt; | V3 &lt;int&gt; | V4 &lt;chr&gt; | V5 &lt;chr&gt; | V6 &lt;chr&gt; | V7 &lt;int&gt; | V8 &lt;int&gt; | V9 &lt;chr&gt; | V10 &lt;int&gt; | V11 &lt;chr&gt; | V12 &lt;chr&gt; | V13 &lt;chr&gt; | V14 &lt;int&gt; | V15 &lt;chr&gt; |\n",
       "|---|---|---|---|---|---|---|---|---|---|---|---|---|---|---|---|\n",
       "| 4 | chr15 | 76225021 | 76234857 | ENST00000308275.8_7 | FBXO22 | chr15 | 76229594 | 76229595 | AG | 1 | - | GAACGGAAGACTACAA | 1:1 | 1 | chr15_76229595 |\n",
       "| 5 | chr15 | 76225021 | 76234857 | ENST00000308275.8_7 | FBXO22 | chr15 | 76229595 | 76229596 | AG | 1 | - | GAACGGAAGACTACAA | 1:1 | 1 | chr15_76229596 |\n",
       "| 6 | chr15 | 76225021 | 76234857 | ENST00000308275.8_7 | FBXO22 | chr15 | 76229625 | 76229626 | AG | 3 | - | GGCCGATGTATAGTAG | 1:1 | 1 | chr15_76229626 |\n",
       "| 7 | chr15 | 76225021 | 76234857 | ENST00000308275.8_7 | FBXO22 | chr15 | 76229630 | 76229631 | AG | 1 | - | GGCCGATGTATAGTAG | 1:1 | 1 | chr15_76229631 |\n",
       "\n"
      ],
      "text/plain": [
       "  V1    V2       V3       V4                  V5     V6    V7       V8       V9\n",
       "4 chr15 76225021 76234857 ENST00000308275.8_7 FBXO22 chr15 76229594 76229595 AG\n",
       "5 chr15 76225021 76234857 ENST00000308275.8_7 FBXO22 chr15 76229595 76229596 AG\n",
       "6 chr15 76225021 76234857 ENST00000308275.8_7 FBXO22 chr15 76229625 76229626 AG\n",
       "7 chr15 76225021 76234857 ENST00000308275.8_7 FBXO22 chr15 76229630 76229631 AG\n",
       "  V10 V11 V12              V13 V14 V15           \n",
       "4 1   -   GAACGGAAGACTACAA 1:1 1   chr15_76229595\n",
       "5 1   -   GAACGGAAGACTACAA 1:1 1   chr15_76229596\n",
       "6 3   -   GGCCGATGTATAGTAG 1:1 1   chr15_76229626\n",
       "7 1   -   GGCCGATGTATAGTAG 1:1 1   chr15_76229631"
      ]
     },
     "metadata": {},
     "output_type": "display_data"
    }
   ],
   "source": [
    "res_site_in_iso_20 <- read.table(\"/disk1/wenqing/tmp_data/ASD/celltype_deX_iso_IR_res/L2_3_ExN/20/L2_3_de_iso_IR.res\")\n",
    "res_site_in_iso_20$V15 <- paste0(res_site_in_iso_20$V6,\"_\",res_site_in_iso_20$V8)\n",
    "specific_res_site_in_iso_20 <- res_site_in_iso_20[res_site_in_iso_20$V4=='ENST00000308275.8_7',]\n",
    "head(specific_res_site_in_iso_20)"
   ]
  },
  {
   "cell_type": "code",
   "execution_count": 10,
   "metadata": {
    "vscode": {
     "languageId": "r"
    }
   },
   "outputs": [
    {
     "data": {
      "text/html": [
       "<table class=\"dataframe\">\n",
       "<caption>A data.frame: 6 × 15</caption>\n",
       "<thead>\n",
       "\t<tr><th></th><th scope=col>V1</th><th scope=col>V2</th><th scope=col>V3</th><th scope=col>V4</th><th scope=col>V5</th><th scope=col>V6</th><th scope=col>V7</th><th scope=col>V8</th><th scope=col>V9</th><th scope=col>V10</th><th scope=col>V11</th><th scope=col>V12</th><th scope=col>V13</th><th scope=col>V14</th><th scope=col>V15</th></tr>\n",
       "\t<tr><th></th><th scope=col>&lt;chr&gt;</th><th scope=col>&lt;int&gt;</th><th scope=col>&lt;int&gt;</th><th scope=col>&lt;chr&gt;</th><th scope=col>&lt;chr&gt;</th><th scope=col>&lt;chr&gt;</th><th scope=col>&lt;int&gt;</th><th scope=col>&lt;int&gt;</th><th scope=col>&lt;chr&gt;</th><th scope=col>&lt;int&gt;</th><th scope=col>&lt;chr&gt;</th><th scope=col>&lt;chr&gt;</th><th scope=col>&lt;chr&gt;</th><th scope=col>&lt;int&gt;</th><th scope=col>&lt;chr&gt;</th></tr>\n",
       "</thead>\n",
       "<tbody>\n",
       "\t<tr><th scope=row>1</th><td>chr15</td><td>76225021</td><td>76234857</td><td>ENST00000308275.8_7</td><td>FBXO22</td><td>chr15</td><td>76229044</td><td>76229045</td><td>AG</td><td>3</td><td>-</td><td>GATGAAAAGCGGATCA</td><td>4:4</td><td>1</td><td>chr15_76229045</td></tr>\n",
       "\t<tr><th scope=row>2</th><td>chr15</td><td>76225021</td><td>76234857</td><td>ENST00000308275.8_7</td><td>FBXO22</td><td>chr15</td><td>76229054</td><td>76229055</td><td>AG</td><td>3</td><td>-</td><td>GATGAAAAGCGGATCA</td><td>3:3</td><td>1</td><td>chr15_76229055</td></tr>\n",
       "\t<tr><th scope=row>3</th><td>chr15</td><td>76225021</td><td>76234857</td><td>ENST00000308275.8_7</td><td>FBXO22</td><td>chr15</td><td>76229594</td><td>76229595</td><td>AG</td><td>4</td><td>-</td><td>CAGCAGCTCTATCGCC</td><td>4:4</td><td>1</td><td>chr15_76229595</td></tr>\n",
       "\t<tr><th scope=row>4</th><td>chr15</td><td>76225021</td><td>76234857</td><td>ENST00000308275.8_7</td><td>FBXO22</td><td>chr15</td><td>76229595</td><td>76229596</td><td>AG</td><td>3</td><td>-</td><td>CAGCAGCTCTATCGCC</td><td>4:4</td><td>1</td><td>chr15_76229596</td></tr>\n",
       "\t<tr><th scope=row>5</th><td>chr15</td><td>76225021</td><td>76234857</td><td>ENST00000308275.8_7</td><td>FBXO22</td><td>chr15</td><td>76229603</td><td>76229604</td><td>AG</td><td>3</td><td>-</td><td>CAGCAGCTCTATCGCC</td><td>3:3</td><td>1</td><td>chr15_76229604</td></tr>\n",
       "\t<tr><th scope=row>6</th><td>chr15</td><td>76225021</td><td>76234857</td><td>ENST00000308275.8_7</td><td>FBXO22</td><td>chr15</td><td>76229625</td><td>76229626</td><td>AG</td><td>3</td><td>-</td><td>CAGCAGCTCTATCGCC</td><td>1:1</td><td>1</td><td>chr15_76229626</td></tr>\n",
       "</tbody>\n",
       "</table>\n"
      ],
      "text/latex": [
       "A data.frame: 6 × 15\n",
       "\\begin{tabular}{r|lllllllllllllll}\n",
       "  & V1 & V2 & V3 & V4 & V5 & V6 & V7 & V8 & V9 & V10 & V11 & V12 & V13 & V14 & V15\\\\\n",
       "  & <chr> & <int> & <int> & <chr> & <chr> & <chr> & <int> & <int> & <chr> & <int> & <chr> & <chr> & <chr> & <int> & <chr>\\\\\n",
       "\\hline\n",
       "\t1 & chr15 & 76225021 & 76234857 & ENST00000308275.8\\_7 & FBXO22 & chr15 & 76229044 & 76229045 & AG & 3 & - & GATGAAAAGCGGATCA & 4:4 & 1 & chr15\\_76229045\\\\\n",
       "\t2 & chr15 & 76225021 & 76234857 & ENST00000308275.8\\_7 & FBXO22 & chr15 & 76229054 & 76229055 & AG & 3 & - & GATGAAAAGCGGATCA & 3:3 & 1 & chr15\\_76229055\\\\\n",
       "\t3 & chr15 & 76225021 & 76234857 & ENST00000308275.8\\_7 & FBXO22 & chr15 & 76229594 & 76229595 & AG & 4 & - & CAGCAGCTCTATCGCC & 4:4 & 1 & chr15\\_76229595\\\\\n",
       "\t4 & chr15 & 76225021 & 76234857 & ENST00000308275.8\\_7 & FBXO22 & chr15 & 76229595 & 76229596 & AG & 3 & - & CAGCAGCTCTATCGCC & 4:4 & 1 & chr15\\_76229596\\\\\n",
       "\t5 & chr15 & 76225021 & 76234857 & ENST00000308275.8\\_7 & FBXO22 & chr15 & 76229603 & 76229604 & AG & 3 & - & CAGCAGCTCTATCGCC & 3:3 & 1 & chr15\\_76229604\\\\\n",
       "\t6 & chr15 & 76225021 & 76234857 & ENST00000308275.8\\_7 & FBXO22 & chr15 & 76229625 & 76229626 & AG & 3 & - & CAGCAGCTCTATCGCC & 1:1 & 1 & chr15\\_76229626\\\\\n",
       "\\end{tabular}\n"
      ],
      "text/markdown": [
       "\n",
       "A data.frame: 6 × 15\n",
       "\n",
       "| <!--/--> | V1 &lt;chr&gt; | V2 &lt;int&gt; | V3 &lt;int&gt; | V4 &lt;chr&gt; | V5 &lt;chr&gt; | V6 &lt;chr&gt; | V7 &lt;int&gt; | V8 &lt;int&gt; | V9 &lt;chr&gt; | V10 &lt;int&gt; | V11 &lt;chr&gt; | V12 &lt;chr&gt; | V13 &lt;chr&gt; | V14 &lt;int&gt; | V15 &lt;chr&gt; |\n",
       "|---|---|---|---|---|---|---|---|---|---|---|---|---|---|---|---|\n",
       "| 1 | chr15 | 76225021 | 76234857 | ENST00000308275.8_7 | FBXO22 | chr15 | 76229044 | 76229045 | AG | 3 | - | GATGAAAAGCGGATCA | 4:4 | 1 | chr15_76229045 |\n",
       "| 2 | chr15 | 76225021 | 76234857 | ENST00000308275.8_7 | FBXO22 | chr15 | 76229054 | 76229055 | AG | 3 | - | GATGAAAAGCGGATCA | 3:3 | 1 | chr15_76229055 |\n",
       "| 3 | chr15 | 76225021 | 76234857 | ENST00000308275.8_7 | FBXO22 | chr15 | 76229594 | 76229595 | AG | 4 | - | CAGCAGCTCTATCGCC | 4:4 | 1 | chr15_76229595 |\n",
       "| 4 | chr15 | 76225021 | 76234857 | ENST00000308275.8_7 | FBXO22 | chr15 | 76229595 | 76229596 | AG | 3 | - | CAGCAGCTCTATCGCC | 4:4 | 1 | chr15_76229596 |\n",
       "| 5 | chr15 | 76225021 | 76234857 | ENST00000308275.8_7 | FBXO22 | chr15 | 76229603 | 76229604 | AG | 3 | - | CAGCAGCTCTATCGCC | 3:3 | 1 | chr15_76229604 |\n",
       "| 6 | chr15 | 76225021 | 76234857 | ENST00000308275.8_7 | FBXO22 | chr15 | 76229625 | 76229626 | AG | 3 | - | CAGCAGCTCTATCGCC | 1:1 | 1 | chr15_76229626 |\n",
       "\n"
      ],
      "text/plain": [
       "  V1    V2       V3       V4                  V5     V6    V7       V8       V9\n",
       "1 chr15 76225021 76234857 ENST00000308275.8_7 FBXO22 chr15 76229044 76229045 AG\n",
       "2 chr15 76225021 76234857 ENST00000308275.8_7 FBXO22 chr15 76229054 76229055 AG\n",
       "3 chr15 76225021 76234857 ENST00000308275.8_7 FBXO22 chr15 76229594 76229595 AG\n",
       "4 chr15 76225021 76234857 ENST00000308275.8_7 FBXO22 chr15 76229595 76229596 AG\n",
       "5 chr15 76225021 76234857 ENST00000308275.8_7 FBXO22 chr15 76229603 76229604 AG\n",
       "6 chr15 76225021 76234857 ENST00000308275.8_7 FBXO22 chr15 76229625 76229626 AG\n",
       "  V10 V11 V12              V13 V14 V15           \n",
       "1 3   -   GATGAAAAGCGGATCA 4:4 1   chr15_76229045\n",
       "2 3   -   GATGAAAAGCGGATCA 3:3 1   chr15_76229055\n",
       "3 4   -   CAGCAGCTCTATCGCC 4:4 1   chr15_76229595\n",
       "4 3   -   CAGCAGCTCTATCGCC 4:4 1   chr15_76229596\n",
       "5 3   -   CAGCAGCTCTATCGCC 3:3 1   chr15_76229604\n",
       "6 3   -   CAGCAGCTCTATCGCC 1:1 1   chr15_76229626"
      ]
     },
     "metadata": {},
     "output_type": "display_data"
    }
   ],
   "source": [
    "res_site_in_iso_32 <- read.table(\"/disk1/wenqing/tmp_data/ASD/celltype_deX_iso_IR_res/L2_3_ExN/32/L2_3_de_iso_IR.res\")\n",
    "res_site_in_iso_32$V15 <- paste0(res_site_in_iso_32$V6,\"_\",res_site_in_iso_32$V8)\n",
    "specific_res_site_in_iso_32 <- res_site_in_iso_32[res_site_in_iso_32$V4=='ENST00000308275.8_7',]\n",
    "head(specific_res_site_in_iso_32)"
   ]
  },
  {
   "cell_type": "code",
   "execution_count": 14,
   "metadata": {
    "vscode": {
     "languageId": "r"
    }
   },
   "outputs": [],
   "source": [
    "asd_res <- union(specific_res_site_in_iso_57$V15,specific_res_site_in_iso_18$V15)\n",
    "asd_res <- union(asd_res,specific_res_site_in_iso_17$V15)\n",
    "\n",
    "ctr_res <- union(specific_res_site_in_iso_32$V15,specific_res_site_in_iso_20$V15)"
   ]
  },
  {
   "cell_type": "code",
   "execution_count": 21,
   "metadata": {
    "vscode": {
     "languageId": "r"
    }
   },
   "outputs": [
    {
     "data": {
      "text/html": [
       "24"
      ],
      "text/latex": [
       "24"
      ],
      "text/markdown": [
       "24"
      ],
      "text/plain": [
       "[1] 24"
      ]
     },
     "metadata": {},
     "output_type": "display_data"
    },
    {
     "data": {
      "text/html": [
       "12"
      ],
      "text/latex": [
       "12"
      ],
      "text/markdown": [
       "12"
      ],
      "text/plain": [
       "[1] 12"
      ]
     },
     "metadata": {},
     "output_type": "display_data"
    }
   ],
   "source": [
    "length(unique(asd_res))\n",
    "length(unique(ctr_res))"
   ]
  },
  {
   "cell_type": "code",
   "execution_count": 24,
   "metadata": {
    "vscode": {
     "languageId": "r"
    }
   },
   "outputs": [],
   "source": [
    "write.table(unique(asd_res),\"/disk1/wenqing/tmp_data/ASD/celltype_deX_iso_IR_res/L2_3_ExN/asd_res_in_ENST00000308275.8_7.txt\",col.names=F,row.names=F,quote=F)\n",
    "write.table(unique(ctr_res),\"/disk1/wenqing/tmp_data/ASD/celltype_deX_iso_IR_res/L2_3_ExN/ctr_res_in_ENST00000308275.8_7.txt\",col.names=F,row.names=F,quote=F)"
   ]
  }
 ],
 "metadata": {
  "kernelspec": {
   "display_name": "R",
   "language": "R",
   "name": "ir"
  },
  "language_info": {
   "codemirror_mode": "r",
   "file_extension": ".r",
   "mimetype": "text/x-r-source",
   "name": "R",
   "pygments_lexer": "r",
   "version": "4.3.1"
  },
  "orig_nbformat": 4
 },
 "nbformat": 4,
 "nbformat_minor": 2
}
