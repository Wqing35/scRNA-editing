{
 "cells": [
  {
   "cell_type": "code",
   "execution_count": null,
   "metadata": {
    "vscode": {
     "languageId": "r"
    }
   },
   "outputs": [],
   "source": [
    "#########没有在de且IR的转录本的AS site找到RES"
   ]
  },
  {
   "cell_type": "code",
   "execution_count": null,
   "metadata": {
    "vscode": {
     "languageId": "r"
    }
   },
   "outputs": [],
   "source": [
    "exon_region <- read.csv(\"/disk1/wenqing/tmp_data/ASD/switchList_exon.csv\")\n",
    "head(exon_region)"
   ]
  },
  {
   "cell_type": "code",
   "execution_count": 50,
   "metadata": {
    "vscode": {
     "languageId": "r"
    }
   },
   "outputs": [
    {
     "data": {
      "text/html": [
       "<table class=\"dataframe\">\n",
       "<caption>A data.frame: 5 × 32</caption>\n",
       "<thead>\n",
       "\t<tr><th></th><th scope=col>X</th><th scope=col>iso_ref</th><th scope=col>gene_ref</th><th scope=col>isoform_id</th><th scope=col>gene_id</th><th scope=col>condition_1</th><th scope=col>condition_2</th><th scope=col>gene_name</th><th scope=col>gene_biotype</th><th scope=col>iso_biotype</th><th scope=col>⋯</th><th scope=col>iso_log2_fold_change</th><th scope=col>iso_q_value</th><th scope=col>IF_overall</th><th scope=col>IF1</th><th scope=col>IF2</th><th scope=col>dIF</th><th scope=col>isoform_switch_q_value</th><th scope=col>gene_switch_q_value</th><th scope=col>PTC</th><th scope=col>IR</th></tr>\n",
       "\t<tr><th></th><th scope=col>&lt;int&gt;</th><th scope=col>&lt;chr&gt;</th><th scope=col>&lt;chr&gt;</th><th scope=col>&lt;chr&gt;</th><th scope=col>&lt;chr&gt;</th><th scope=col>&lt;chr&gt;</th><th scope=col>&lt;chr&gt;</th><th scope=col>&lt;chr&gt;</th><th scope=col>&lt;chr&gt;</th><th scope=col>&lt;chr&gt;</th><th scope=col>⋯</th><th scope=col>&lt;dbl&gt;</th><th scope=col>&lt;lgl&gt;</th><th scope=col>&lt;dbl&gt;</th><th scope=col>&lt;dbl&gt;</th><th scope=col>&lt;dbl&gt;</th><th scope=col>&lt;dbl&gt;</th><th scope=col>&lt;dbl&gt;</th><th scope=col>&lt;dbl&gt;</th><th scope=col>&lt;lgl&gt;</th><th scope=col>&lt;int&gt;</th></tr>\n",
       "</thead>\n",
       "<tbody>\n",
       "\t<tr><th scope=row>1</th><td>78473</td><td>isoComp_00000763</td><td>geneComp_00000304</td><td>ENST00000496418.5_3</td><td>ACAD11</td><td>ASD</td><td>Control</td><td>ACAD11</td><td>protein_coding</td><td>retained_intron               </td><td>⋯</td><td> 7.8519505</td><td>NA</td><td>0.14886667</td><td>0.0000000</td><td>0.2977333</td><td> 0.2977333</td><td>0.0009007804</td><td>9.007804e-04</td><td> TRUE</td><td>1</td></tr>\n",
       "\t<tr><th scope=row>2</th><td>60934</td><td>isoComp_00017790</td><td>geneComp_00004783</td><td>ENST00000528718.6_6</td><td>DGAT1 </td><td>ASD</td><td>Control</td><td>DGAT1 </td><td>protein_coding</td><td>protein_coding                </td><td>⋯</td><td>-0.4289815</td><td>NA</td><td>0.67866667</td><td>1.0000000</td><td>0.3573333</td><td>-0.6426667</td><td>0.0003501966</td><td>8.751818e-05</td><td>FALSE</td><td>2</td></tr>\n",
       "\t<tr><th scope=row>3</th><td>65533</td><td>isoComp_00033146</td><td>geneComp_00014124</td><td>ENST00000553714.1_3</td><td>ERO1A </td><td>ASD</td><td>Control</td><td>ERO1A </td><td>protein_coding</td><td>retained_intron               </td><td>⋯</td><td> 8.2753882</td><td>NA</td><td>0.09383333</td><td>0.0000000</td><td>0.1876667</td><td> 0.1876667</td><td>0.0029398197</td><td>2.939820e-03</td><td>FALSE</td><td>1</td></tr>\n",
       "\t<tr><th scope=row>4</th><td>37109</td><td>isoComp_00041640</td><td>geneComp_00016586</td><td>ENST00000476746.6_4</td><td>HSPD1 </td><td>ASD</td><td>Control</td><td>HSPD1 </td><td>protein_coding</td><td>retained_intron               </td><td>⋯</td><td> 8.2219776</td><td>NA</td><td>0.05870000</td><td>0.0000000</td><td>0.1174000</td><td> 0.1174000</td><td>0.0075260574</td><td>7.526057e-03</td><td>FALSE</td><td>2</td></tr>\n",
       "\t<tr><th scope=row>5</th><td>39477</td><td>isoComp_00084302</td><td>geneComp_00029190</td><td>ENST00000704415.1_1</td><td>TCF7L2</td><td>ASD</td><td>Control</td><td>TCF7L2</td><td>protein_coding</td><td>protein_coding_CDS_not_defined</td><td>⋯</td><td>-7.4389210</td><td>NA</td><td>0.40248333</td><td>0.8049667</td><td>0.0000000</td><td>-0.8049667</td><td>0.0018427193</td><td>1.842719e-03</td><td>FALSE</td><td>1</td></tr>\n",
       "</tbody>\n",
       "</table>\n"
      ],
      "text/latex": [
       "A data.frame: 5 × 32\n",
       "\\begin{tabular}{r|lllllllllllllllllllll}\n",
       "  & X & iso\\_ref & gene\\_ref & isoform\\_id & gene\\_id & condition\\_1 & condition\\_2 & gene\\_name & gene\\_biotype & iso\\_biotype & ⋯ & iso\\_log2\\_fold\\_change & iso\\_q\\_value & IF\\_overall & IF1 & IF2 & dIF & isoform\\_switch\\_q\\_value & gene\\_switch\\_q\\_value & PTC & IR\\\\\n",
       "  & <int> & <chr> & <chr> & <chr> & <chr> & <chr> & <chr> & <chr> & <chr> & <chr> & ⋯ & <dbl> & <lgl> & <dbl> & <dbl> & <dbl> & <dbl> & <dbl> & <dbl> & <lgl> & <int>\\\\\n",
       "\\hline\n",
       "\t1 & 78473 & isoComp\\_00000763 & geneComp\\_00000304 & ENST00000496418.5\\_3 & ACAD11 & ASD & Control & ACAD11 & protein\\_coding & retained\\_intron                & ⋯ &  7.8519505 & NA & 0.14886667 & 0.0000000 & 0.2977333 &  0.2977333 & 0.0009007804 & 9.007804e-04 &  TRUE & 1\\\\\n",
       "\t2 & 60934 & isoComp\\_00017790 & geneComp\\_00004783 & ENST00000528718.6\\_6 & DGAT1  & ASD & Control & DGAT1  & protein\\_coding & protein\\_coding                 & ⋯ & -0.4289815 & NA & 0.67866667 & 1.0000000 & 0.3573333 & -0.6426667 & 0.0003501966 & 8.751818e-05 & FALSE & 2\\\\\n",
       "\t3 & 65533 & isoComp\\_00033146 & geneComp\\_00014124 & ENST00000553714.1\\_3 & ERO1A  & ASD & Control & ERO1A  & protein\\_coding & retained\\_intron                & ⋯ &  8.2753882 & NA & 0.09383333 & 0.0000000 & 0.1876667 &  0.1876667 & 0.0029398197 & 2.939820e-03 & FALSE & 1\\\\\n",
       "\t4 & 37109 & isoComp\\_00041640 & geneComp\\_00016586 & ENST00000476746.6\\_4 & HSPD1  & ASD & Control & HSPD1  & protein\\_coding & retained\\_intron                & ⋯ &  8.2219776 & NA & 0.05870000 & 0.0000000 & 0.1174000 &  0.1174000 & 0.0075260574 & 7.526057e-03 & FALSE & 2\\\\\n",
       "\t5 & 39477 & isoComp\\_00084302 & geneComp\\_00029190 & ENST00000704415.1\\_1 & TCF7L2 & ASD & Control & TCF7L2 & protein\\_coding & protein\\_coding\\_CDS\\_not\\_defined & ⋯ & -7.4389210 & NA & 0.40248333 & 0.8049667 & 0.0000000 & -0.8049667 & 0.0018427193 & 1.842719e-03 & FALSE & 1\\\\\n",
       "\\end{tabular}\n"
      ],
      "text/markdown": [
       "\n",
       "A data.frame: 5 × 32\n",
       "\n",
       "| <!--/--> | X &lt;int&gt; | iso_ref &lt;chr&gt; | gene_ref &lt;chr&gt; | isoform_id &lt;chr&gt; | gene_id &lt;chr&gt; | condition_1 &lt;chr&gt; | condition_2 &lt;chr&gt; | gene_name &lt;chr&gt; | gene_biotype &lt;chr&gt; | iso_biotype &lt;chr&gt; | ⋯ ⋯ | iso_log2_fold_change &lt;dbl&gt; | iso_q_value &lt;lgl&gt; | IF_overall &lt;dbl&gt; | IF1 &lt;dbl&gt; | IF2 &lt;dbl&gt; | dIF &lt;dbl&gt; | isoform_switch_q_value &lt;dbl&gt; | gene_switch_q_value &lt;dbl&gt; | PTC &lt;lgl&gt; | IR &lt;int&gt; |\n",
       "|---|---|---|---|---|---|---|---|---|---|---|---|---|---|---|---|---|---|---|---|---|---|\n",
       "| 1 | 78473 | isoComp_00000763 | geneComp_00000304 | ENST00000496418.5_3 | ACAD11 | ASD | Control | ACAD11 | protein_coding | retained_intron                | ⋯ |  7.8519505 | NA | 0.14886667 | 0.0000000 | 0.2977333 |  0.2977333 | 0.0009007804 | 9.007804e-04 |  TRUE | 1 |\n",
       "| 2 | 60934 | isoComp_00017790 | geneComp_00004783 | ENST00000528718.6_6 | DGAT1  | ASD | Control | DGAT1  | protein_coding | protein_coding                 | ⋯ | -0.4289815 | NA | 0.67866667 | 1.0000000 | 0.3573333 | -0.6426667 | 0.0003501966 | 8.751818e-05 | FALSE | 2 |\n",
       "| 3 | 65533 | isoComp_00033146 | geneComp_00014124 | ENST00000553714.1_3 | ERO1A  | ASD | Control | ERO1A  | protein_coding | retained_intron                | ⋯ |  8.2753882 | NA | 0.09383333 | 0.0000000 | 0.1876667 |  0.1876667 | 0.0029398197 | 2.939820e-03 | FALSE | 1 |\n",
       "| 4 | 37109 | isoComp_00041640 | geneComp_00016586 | ENST00000476746.6_4 | HSPD1  | ASD | Control | HSPD1  | protein_coding | retained_intron                | ⋯ |  8.2219776 | NA | 0.05870000 | 0.0000000 | 0.1174000 |  0.1174000 | 0.0075260574 | 7.526057e-03 | FALSE | 2 |\n",
       "| 5 | 39477 | isoComp_00084302 | geneComp_00029190 | ENST00000704415.1_1 | TCF7L2 | ASD | Control | TCF7L2 | protein_coding | protein_coding_CDS_not_defined | ⋯ | -7.4389210 | NA | 0.40248333 | 0.8049667 | 0.0000000 | -0.8049667 | 0.0018427193 | 1.842719e-03 | FALSE | 1 |\n",
       "\n"
      ],
      "text/plain": [
       "  X     iso_ref          gene_ref          isoform_id          gene_id\n",
       "1 78473 isoComp_00000763 geneComp_00000304 ENST00000496418.5_3 ACAD11 \n",
       "2 60934 isoComp_00017790 geneComp_00004783 ENST00000528718.6_6 DGAT1  \n",
       "3 65533 isoComp_00033146 geneComp_00014124 ENST00000553714.1_3 ERO1A  \n",
       "4 37109 isoComp_00041640 geneComp_00016586 ENST00000476746.6_4 HSPD1  \n",
       "5 39477 isoComp_00084302 geneComp_00029190 ENST00000704415.1_1 TCF7L2 \n",
       "  condition_1 condition_2 gene_name gene_biotype  \n",
       "1 ASD         Control     ACAD11    protein_coding\n",
       "2 ASD         Control     DGAT1     protein_coding\n",
       "3 ASD         Control     ERO1A     protein_coding\n",
       "4 ASD         Control     HSPD1     protein_coding\n",
       "5 ASD         Control     TCF7L2    protein_coding\n",
       "  iso_biotype                    ⋯ iso_log2_fold_change iso_q_value IF_overall\n",
       "1 retained_intron                ⋯  7.8519505           NA          0.14886667\n",
       "2 protein_coding                 ⋯ -0.4289815           NA          0.67866667\n",
       "3 retained_intron                ⋯  8.2753882           NA          0.09383333\n",
       "4 retained_intron                ⋯  8.2219776           NA          0.05870000\n",
       "5 protein_coding_CDS_not_defined ⋯ -7.4389210           NA          0.40248333\n",
       "  IF1       IF2       dIF        isoform_switch_q_value gene_switch_q_value\n",
       "1 0.0000000 0.2977333  0.2977333 0.0009007804           9.007804e-04       \n",
       "2 1.0000000 0.3573333 -0.6426667 0.0003501966           8.751818e-05       \n",
       "3 0.0000000 0.1876667  0.1876667 0.0029398197           2.939820e-03       \n",
       "4 0.0000000 0.1174000  0.1174000 0.0075260574           7.526057e-03       \n",
       "5 0.8049667 0.0000000 -0.8049667 0.0018427193           1.842719e-03       \n",
       "  PTC   IR\n",
       "1  TRUE 1 \n",
       "2 FALSE 2 \n",
       "3 FALSE 1 \n",
       "4 FALSE 2 \n",
       "5 FALSE 1 "
      ]
     },
     "metadata": {},
     "output_type": "display_data"
    }
   ],
   "source": [
    "###计算de且IR的转录本的RNA编辑水平（差异）\n",
    "celltype <- 'L5_6_CC'\n",
    "de_IR_iso_celltype <- read.csv(paste0(\"/disk1/wenqing/tmp_data/ASD/deX_isoform_IR/de_isoform_IR_\",celltype,\".csv\"))\n",
    "head(de_IR_iso_celltype)\n"
   ]
  },
  {
   "cell_type": "code",
   "execution_count": 51,
   "metadata": {
    "vscode": {
     "languageId": "r"
    }
   },
   "outputs": [
    {
     "data": {
      "text/html": [
       "<table class=\"dataframe\">\n",
       "<caption>A data.frame: 6 × 9</caption>\n",
       "<thead>\n",
       "\t<tr><th></th><th scope=col>X</th><th scope=col>seqnames</th><th scope=col>start</th><th scope=col>end</th><th scope=col>width</th><th scope=col>strand</th><th scope=col>isoform_id</th><th scope=col>gene_id</th><th scope=col>gene_name</th></tr>\n",
       "\t<tr><th></th><th scope=col>&lt;int&gt;</th><th scope=col>&lt;chr&gt;</th><th scope=col>&lt;int&gt;</th><th scope=col>&lt;int&gt;</th><th scope=col>&lt;int&gt;</th><th scope=col>&lt;chr&gt;</th><th scope=col>&lt;chr&gt;</th><th scope=col>&lt;chr&gt;</th><th scope=col>&lt;chr&gt;</th></tr>\n",
       "</thead>\n",
       "<tbody>\n",
       "\t<tr><th scope=row>154857</th><td>154857</td><td>chr2</td><td>198351310</td><td>198351922</td><td>613</td><td>-</td><td>ENST00000476746.6_4</td><td>HSPD1</td><td>HSPD1</td></tr>\n",
       "\t<tr><th scope=row>154876</th><td>154876</td><td>chr2</td><td>198352582</td><td>198352760</td><td>179</td><td>-</td><td>ENST00000476746.6_4</td><td>HSPD1</td><td>HSPD1</td></tr>\n",
       "\t<tr><th scope=row>154895</th><td>154895</td><td>chr2</td><td>198353041</td><td>198353215</td><td>175</td><td>-</td><td>ENST00000476746.6_4</td><td>HSPD1</td><td>HSPD1</td></tr>\n",
       "\t<tr><th scope=row>154914</th><td>154914</td><td>chr2</td><td>198353726</td><td>198353971</td><td>246</td><td>-</td><td>ENST00000476746.6_4</td><td>HSPD1</td><td>HSPD1</td></tr>\n",
       "\t<tr><th scope=row>154934</th><td>154934</td><td>chr2</td><td>198354921</td><td>198355020</td><td>100</td><td>-</td><td>ENST00000476746.6_4</td><td>HSPD1</td><td>HSPD1</td></tr>\n",
       "\t<tr><th scope=row>154953</th><td>154953</td><td>chr2</td><td>198358048</td><td>198358216</td><td>169</td><td>-</td><td>ENST00000476746.6_4</td><td>HSPD1</td><td>HSPD1</td></tr>\n",
       "</tbody>\n",
       "</table>\n"
      ],
      "text/latex": [
       "A data.frame: 6 × 9\n",
       "\\begin{tabular}{r|lllllllll}\n",
       "  & X & seqnames & start & end & width & strand & isoform\\_id & gene\\_id & gene\\_name\\\\\n",
       "  & <int> & <chr> & <int> & <int> & <int> & <chr> & <chr> & <chr> & <chr>\\\\\n",
       "\\hline\n",
       "\t154857 & 154857 & chr2 & 198351310 & 198351922 & 613 & - & ENST00000476746.6\\_4 & HSPD1 & HSPD1\\\\\n",
       "\t154876 & 154876 & chr2 & 198352582 & 198352760 & 179 & - & ENST00000476746.6\\_4 & HSPD1 & HSPD1\\\\\n",
       "\t154895 & 154895 & chr2 & 198353041 & 198353215 & 175 & - & ENST00000476746.6\\_4 & HSPD1 & HSPD1\\\\\n",
       "\t154914 & 154914 & chr2 & 198353726 & 198353971 & 246 & - & ENST00000476746.6\\_4 & HSPD1 & HSPD1\\\\\n",
       "\t154934 & 154934 & chr2 & 198354921 & 198355020 & 100 & - & ENST00000476746.6\\_4 & HSPD1 & HSPD1\\\\\n",
       "\t154953 & 154953 & chr2 & 198358048 & 198358216 & 169 & - & ENST00000476746.6\\_4 & HSPD1 & HSPD1\\\\\n",
       "\\end{tabular}\n"
      ],
      "text/markdown": [
       "\n",
       "A data.frame: 6 × 9\n",
       "\n",
       "| <!--/--> | X &lt;int&gt; | seqnames &lt;chr&gt; | start &lt;int&gt; | end &lt;int&gt; | width &lt;int&gt; | strand &lt;chr&gt; | isoform_id &lt;chr&gt; | gene_id &lt;chr&gt; | gene_name &lt;chr&gt; |\n",
       "|---|---|---|---|---|---|---|---|---|---|\n",
       "| 154857 | 154857 | chr2 | 198351310 | 198351922 | 613 | - | ENST00000476746.6_4 | HSPD1 | HSPD1 |\n",
       "| 154876 | 154876 | chr2 | 198352582 | 198352760 | 179 | - | ENST00000476746.6_4 | HSPD1 | HSPD1 |\n",
       "| 154895 | 154895 | chr2 | 198353041 | 198353215 | 175 | - | ENST00000476746.6_4 | HSPD1 | HSPD1 |\n",
       "| 154914 | 154914 | chr2 | 198353726 | 198353971 | 246 | - | ENST00000476746.6_4 | HSPD1 | HSPD1 |\n",
       "| 154934 | 154934 | chr2 | 198354921 | 198355020 | 100 | - | ENST00000476746.6_4 | HSPD1 | HSPD1 |\n",
       "| 154953 | 154953 | chr2 | 198358048 | 198358216 | 169 | - | ENST00000476746.6_4 | HSPD1 | HSPD1 |\n",
       "\n"
      ],
      "text/plain": [
       "       X      seqnames start     end       width strand isoform_id         \n",
       "154857 154857 chr2     198351310 198351922 613   -      ENST00000476746.6_4\n",
       "154876 154876 chr2     198352582 198352760 179   -      ENST00000476746.6_4\n",
       "154895 154895 chr2     198353041 198353215 175   -      ENST00000476746.6_4\n",
       "154914 154914 chr2     198353726 198353971 246   -      ENST00000476746.6_4\n",
       "154934 154934 chr2     198354921 198355020 100   -      ENST00000476746.6_4\n",
       "154953 154953 chr2     198358048 198358216 169   -      ENST00000476746.6_4\n",
       "       gene_id gene_name\n",
       "154857 HSPD1   HSPD1    \n",
       "154876 HSPD1   HSPD1    \n",
       "154895 HSPD1   HSPD1    \n",
       "154914 HSPD1   HSPD1    \n",
       "154934 HSPD1   HSPD1    \n",
       "154953 HSPD1   HSPD1    "
      ]
     },
     "metadata": {},
     "output_type": "display_data"
    }
   ],
   "source": [
    "de_IR_iso_exon_region <- exon_region[exon_region$isoform_id %in% de_IR_iso_celltype$isoform_id,]\n",
    "head(de_IR_iso_exon_region)"
   ]
  },
  {
   "cell_type": "code",
   "execution_count": 52,
   "metadata": {
    "vscode": {
     "languageId": "r"
    }
   },
   "outputs": [],
   "source": [
    "#拓宽转录本exon边界上下游5bp寻找RNA编辑位点\n",
    "de_IR_iso_exon_region$start <- de_IR_iso_exon_region$start-5\n",
    "de_IR_iso_exon_region$end <- de_IR_iso_exon_region$end+5\n"
   ]
  },
  {
   "cell_type": "code",
   "execution_count": 53,
   "metadata": {
    "vscode": {
     "languageId": "r"
    }
   },
   "outputs": [
    {
     "data": {
      "text/html": [
       "<table class=\"dataframe\">\n",
       "<caption>A data.frame: 6 × 5</caption>\n",
       "<thead>\n",
       "\t<tr><th></th><th scope=col>seqnames</th><th scope=col>start</th><th scope=col>end</th><th scope=col>isoform_id</th><th scope=col>gene_id</th></tr>\n",
       "\t<tr><th></th><th scope=col>&lt;chr&gt;</th><th scope=col>&lt;dbl&gt;</th><th scope=col>&lt;dbl&gt;</th><th scope=col>&lt;chr&gt;</th><th scope=col>&lt;chr&gt;</th></tr>\n",
       "</thead>\n",
       "<tbody>\n",
       "\t<tr><th scope=row>154857</th><td>chr2</td><td>198351305</td><td>198351927</td><td>ENST00000476746.6_4</td><td>HSPD1</td></tr>\n",
       "\t<tr><th scope=row>154876</th><td>chr2</td><td>198352577</td><td>198352765</td><td>ENST00000476746.6_4</td><td>HSPD1</td></tr>\n",
       "\t<tr><th scope=row>154895</th><td>chr2</td><td>198353036</td><td>198353220</td><td>ENST00000476746.6_4</td><td>HSPD1</td></tr>\n",
       "\t<tr><th scope=row>154914</th><td>chr2</td><td>198353721</td><td>198353976</td><td>ENST00000476746.6_4</td><td>HSPD1</td></tr>\n",
       "\t<tr><th scope=row>154934</th><td>chr2</td><td>198354916</td><td>198355025</td><td>ENST00000476746.6_4</td><td>HSPD1</td></tr>\n",
       "\t<tr><th scope=row>154953</th><td>chr2</td><td>198358043</td><td>198358221</td><td>ENST00000476746.6_4</td><td>HSPD1</td></tr>\n",
       "</tbody>\n",
       "</table>\n"
      ],
      "text/latex": [
       "A data.frame: 6 × 5\n",
       "\\begin{tabular}{r|lllll}\n",
       "  & seqnames & start & end & isoform\\_id & gene\\_id\\\\\n",
       "  & <chr> & <dbl> & <dbl> & <chr> & <chr>\\\\\n",
       "\\hline\n",
       "\t154857 & chr2 & 198351305 & 198351927 & ENST00000476746.6\\_4 & HSPD1\\\\\n",
       "\t154876 & chr2 & 198352577 & 198352765 & ENST00000476746.6\\_4 & HSPD1\\\\\n",
       "\t154895 & chr2 & 198353036 & 198353220 & ENST00000476746.6\\_4 & HSPD1\\\\\n",
       "\t154914 & chr2 & 198353721 & 198353976 & ENST00000476746.6\\_4 & HSPD1\\\\\n",
       "\t154934 & chr2 & 198354916 & 198355025 & ENST00000476746.6\\_4 & HSPD1\\\\\n",
       "\t154953 & chr2 & 198358043 & 198358221 & ENST00000476746.6\\_4 & HSPD1\\\\\n",
       "\\end{tabular}\n"
      ],
      "text/markdown": [
       "\n",
       "A data.frame: 6 × 5\n",
       "\n",
       "| <!--/--> | seqnames &lt;chr&gt; | start &lt;dbl&gt; | end &lt;dbl&gt; | isoform_id &lt;chr&gt; | gene_id &lt;chr&gt; |\n",
       "|---|---|---|---|---|---|\n",
       "| 154857 | chr2 | 198351305 | 198351927 | ENST00000476746.6_4 | HSPD1 |\n",
       "| 154876 | chr2 | 198352577 | 198352765 | ENST00000476746.6_4 | HSPD1 |\n",
       "| 154895 | chr2 | 198353036 | 198353220 | ENST00000476746.6_4 | HSPD1 |\n",
       "| 154914 | chr2 | 198353721 | 198353976 | ENST00000476746.6_4 | HSPD1 |\n",
       "| 154934 | chr2 | 198354916 | 198355025 | ENST00000476746.6_4 | HSPD1 |\n",
       "| 154953 | chr2 | 198358043 | 198358221 | ENST00000476746.6_4 | HSPD1 |\n",
       "\n"
      ],
      "text/plain": [
       "       seqnames start     end       isoform_id          gene_id\n",
       "154857 chr2     198351305 198351927 ENST00000476746.6_4 HSPD1  \n",
       "154876 chr2     198352577 198352765 ENST00000476746.6_4 HSPD1  \n",
       "154895 chr2     198353036 198353220 ENST00000476746.6_4 HSPD1  \n",
       "154914 chr2     198353721 198353976 ENST00000476746.6_4 HSPD1  \n",
       "154934 chr2     198354916 198355025 ENST00000476746.6_4 HSPD1  \n",
       "154953 chr2     198358043 198358221 ENST00000476746.6_4 HSPD1  "
      ]
     },
     "metadata": {},
     "output_type": "display_data"
    }
   ],
   "source": [
    "\n",
    "new_de_IR_iso <- de_IR_iso_exon_region[,c(2,3,4,7,8)]\n",
    "head(new_de_IR_iso)\n",
    "write.table(new_de_IR_iso,paste0(\"/disk1/wenqing/tmp_data/ASD/deX_isoform_IR/de_isoform_IR_\",celltype,\".newExd.txt\"),quote=F,col.names=F,row.names=F)"
   ]
  },
  {
   "cell_type": "code",
   "execution_count": 35,
   "metadata": {
    "vscode": {
     "languageId": "r"
    }
   },
   "outputs": [],
   "source": [
    "#res是否落在可变剪接的供受体位点上\n",
    "#构建供受体位点上下游5bp的潜在res位点\n",
    "donor_sites_1 <- paste0(de_IR_iso_exon_region$seqnames,\"_\",as.character(as.integer(de_IR_iso_exon_region$end)+1))\n",
    "\n",
    "acceptor_sites_2 <- paste0(de_IR_iso_exon_region$seqnames,\"_\",as.character(as.integer(de_IR_iso_exon_region$start)-2))\n",
    "\n",
    "all_possible_sites <- c(donor_sites_1,acceptor_sites_2)\n",
    "\n",
    "donor_sites_info <- rep(\"donor_ds_1_G\",times=length(de_IR_iso_exon_region$seqnames))\n",
    "acceptor_sites_info <- rep(\"acceptor_us_2_A\",times=length(de_IR_iso_exon_region$seqnames))\n",
    "\n",
    "all_sites_info <- c(donor_sites_info,acceptor_sites_info)\n",
    "all_sites <- as.data.frame(cbind(all_possible_sites,all_sites_info))\n"
   ]
  },
  {
   "cell_type": "code",
   "execution_count": 36,
   "metadata": {
    "vscode": {
     "languageId": "r"
    }
   },
   "outputs": [
    {
     "data": {
      "text/html": [
       "<table class=\"dataframe\">\n",
       "<caption>A data.frame: 6 × 2</caption>\n",
       "<thead>\n",
       "\t<tr><th></th><th scope=col>all_possible_sites</th><th scope=col>all_sites_info</th></tr>\n",
       "\t<tr><th></th><th scope=col>&lt;chr&gt;</th><th scope=col>&lt;chr&gt;</th></tr>\n",
       "</thead>\n",
       "<tbody>\n",
       "\t<tr><th scope=row>1</th><td>chr1_93913863</td><td>donor_ds_1_G</td></tr>\n",
       "\t<tr><th scope=row>2</th><td>chr1_93965141</td><td>donor_ds_1_G</td></tr>\n",
       "\t<tr><th scope=row>3</th><td>chr1_93987693</td><td>donor_ds_1_G</td></tr>\n",
       "\t<tr><th scope=row>4</th><td>chr1_93989049</td><td>donor_ds_1_G</td></tr>\n",
       "\t<tr><th scope=row>5</th><td>chr1_93989881</td><td>donor_ds_1_G</td></tr>\n",
       "\t<tr><th scope=row>6</th><td>chr1_93995314</td><td>donor_ds_1_G</td></tr>\n",
       "</tbody>\n",
       "</table>\n"
      ],
      "text/latex": [
       "A data.frame: 6 × 2\n",
       "\\begin{tabular}{r|ll}\n",
       "  & all\\_possible\\_sites & all\\_sites\\_info\\\\\n",
       "  & <chr> & <chr>\\\\\n",
       "\\hline\n",
       "\t1 & chr1\\_93913863 & donor\\_ds\\_1\\_G\\\\\n",
       "\t2 & chr1\\_93965141 & donor\\_ds\\_1\\_G\\\\\n",
       "\t3 & chr1\\_93987693 & donor\\_ds\\_1\\_G\\\\\n",
       "\t4 & chr1\\_93989049 & donor\\_ds\\_1\\_G\\\\\n",
       "\t5 & chr1\\_93989881 & donor\\_ds\\_1\\_G\\\\\n",
       "\t6 & chr1\\_93995314 & donor\\_ds\\_1\\_G\\\\\n",
       "\\end{tabular}\n"
      ],
      "text/markdown": [
       "\n",
       "A data.frame: 6 × 2\n",
       "\n",
       "| <!--/--> | all_possible_sites &lt;chr&gt; | all_sites_info &lt;chr&gt; |\n",
       "|---|---|---|\n",
       "| 1 | chr1_93913863 | donor_ds_1_G |\n",
       "| 2 | chr1_93965141 | donor_ds_1_G |\n",
       "| 3 | chr1_93987693 | donor_ds_1_G |\n",
       "| 4 | chr1_93989049 | donor_ds_1_G |\n",
       "| 5 | chr1_93989881 | donor_ds_1_G |\n",
       "| 6 | chr1_93995314 | donor_ds_1_G |\n",
       "\n"
      ],
      "text/plain": [
       "  all_possible_sites all_sites_info\n",
       "1 chr1_93913863      donor_ds_1_G  \n",
       "2 chr1_93965141      donor_ds_1_G  \n",
       "3 chr1_93987693      donor_ds_1_G  \n",
       "4 chr1_93989049      donor_ds_1_G  \n",
       "5 chr1_93989881      donor_ds_1_G  \n",
       "6 chr1_93995314      donor_ds_1_G  "
      ]
     },
     "metadata": {},
     "output_type": "display_data"
    }
   ],
   "source": [
    "head(all_sites)"
   ]
  },
  {
   "cell_type": "code",
   "execution_count": 37,
   "metadata": {
    "vscode": {
     "languageId": "r"
    }
   },
   "outputs": [],
   "source": [
    "##读取编辑位点\n",
    "asd_only_resInAS <- read.table(paste0(\"/disk1/wenqing/tmp_data/ASD/resInSpliceSites_WzGeneInfo/asd_only/union_resInSpliceSites_\",celltype,\".WzGeneInfo.txt\"))\n",
    "#dim(asd_only_resInAS)\n",
    "\n",
    "ctr_only_resInAS <- read.table(paste0(\"/disk1/wenqing/tmp_data/ASD/resInSpliceSites_WzGeneInfo/ctr_only/union_resInSpliceSites_\",celltype,\".WzGeneInfo.txt\"))\n"
   ]
  },
  {
   "cell_type": "code",
   "execution_count": 38,
   "metadata": {
    "vscode": {
     "languageId": "r"
    }
   },
   "outputs": [
    {
     "data": {
      "text/html": [],
      "text/latex": [],
      "text/markdown": [],
      "text/plain": [
       "character(0)"
      ]
     },
     "metadata": {},
     "output_type": "display_data"
    },
    {
     "data": {
      "text/html": [],
      "text/latex": [],
      "text/markdown": [],
      "text/plain": [
       "character(0)"
      ]
     },
     "metadata": {},
     "output_type": "display_data"
    }
   ],
   "source": [
    "intersect(asd_only_resInAS$V15,all_sites$all_possible_sites)\n",
    "intersect(ctr_only_resInAS$V15,all_sites$all_possible_sites)"
   ]
  }
 ],
 "metadata": {
  "kernelspec": {
   "display_name": "R",
   "language": "R",
   "name": "ir"
  },
  "language_info": {
   "codemirror_mode": "r",
   "file_extension": ".r",
   "mimetype": "text/x-r-source",
   "name": "R",
   "pygments_lexer": "r",
   "version": "4.3.1"
  },
  "orig_nbformat": 4
 },
 "nbformat": 4,
 "nbformat_minor": 2
}
