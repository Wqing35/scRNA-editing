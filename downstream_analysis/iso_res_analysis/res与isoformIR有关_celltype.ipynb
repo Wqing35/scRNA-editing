{
 "cells": [
  {
   "cell_type": "code",
   "execution_count": 1,
   "metadata": {},
   "outputs": [],
   "source": [
    ".libPaths('/disk1/wenqing/anaconda3/envs/wq_R4.2/lib/R/library')\n",
    "\n",
    "library(IRkernel)\n",
    "library(jsonlite)\n",
    "library(repr)"
   ]
  },
  {
   "cell_type": "code",
   "execution_count": 2,
   "metadata": {},
   "outputs": [],
   "source": [
    "ctr_sample_iso_IR <- read.table(\"/disk1/wenqing/tmp_data/ASD/ctr_male_pfc/iso_retained_intron/ctr_iso_IR.txt\",header=F)\n",
    "ctr_sample_iso_no_IR <- read.table(\"/disk1/wenqing/tmp_data/ASD/ctr_male_pfc/iso_retained_intron/ctr_iso_no_IR.txt\",header=F)"
   ]
  },
  {
   "cell_type": "code",
   "execution_count": 3,
   "metadata": {},
   "outputs": [
    {
     "data": {
      "text/html": [
       "<table class=\"dataframe\">\n",
       "<caption>A data.frame: 6 × 1</caption>\n",
       "<thead>\n",
       "\t<tr><th></th><th scope=col>V1</th></tr>\n",
       "\t<tr><th></th><th scope=col>&lt;chr&gt;</th></tr>\n",
       "</thead>\n",
       "<tbody>\n",
       "\t<tr><th scope=row>1</th><td>ENST00000595014.1_3</td></tr>\n",
       "\t<tr><th scope=row>2</th><td>ENST00000472360.1_3</td></tr>\n",
       "\t<tr><th scope=row>3</th><td>ENST00000495442.1_3</td></tr>\n",
       "\t<tr><th scope=row>4</th><td>ENST00000495709.1_3</td></tr>\n",
       "\t<tr><th scope=row>5</th><td>ENST00000546393.7_4</td></tr>\n",
       "\t<tr><th scope=row>6</th><td>ENST00000552876.5_3</td></tr>\n",
       "</tbody>\n",
       "</table>\n"
      ],
      "text/latex": [
       "A data.frame: 6 × 1\n",
       "\\begin{tabular}{r|l}\n",
       "  & V1\\\\\n",
       "  & <chr>\\\\\n",
       "\\hline\n",
       "\t1 & ENST00000595014.1\\_3\\\\\n",
       "\t2 & ENST00000472360.1\\_3\\\\\n",
       "\t3 & ENST00000495442.1\\_3\\\\\n",
       "\t4 & ENST00000495709.1\\_3\\\\\n",
       "\t5 & ENST00000546393.7\\_4\\\\\n",
       "\t6 & ENST00000552876.5\\_3\\\\\n",
       "\\end{tabular}\n"
      ],
      "text/markdown": [
       "\n",
       "A data.frame: 6 × 1\n",
       "\n",
       "| <!--/--> | V1 &lt;chr&gt; |\n",
       "|---|---|\n",
       "| 1 | ENST00000595014.1_3 |\n",
       "| 2 | ENST00000472360.1_3 |\n",
       "| 3 | ENST00000495442.1_3 |\n",
       "| 4 | ENST00000495709.1_3 |\n",
       "| 5 | ENST00000546393.7_4 |\n",
       "| 6 | ENST00000552876.5_3 |\n",
       "\n"
      ],
      "text/plain": [
       "  V1                 \n",
       "1 ENST00000595014.1_3\n",
       "2 ENST00000472360.1_3\n",
       "3 ENST00000495442.1_3\n",
       "4 ENST00000495709.1_3\n",
       "5 ENST00000546393.7_4\n",
       "6 ENST00000552876.5_3"
      ]
     },
     "metadata": {},
     "output_type": "display_data"
    }
   ],
   "source": [
    "head(ctr_sample_iso_IR)"
   ]
  },
  {
   "cell_type": "code",
   "execution_count": 5,
   "metadata": {},
   "outputs": [
    {
     "data": {
      "text/html": [
       "<style>\n",
       ".list-inline {list-style: none; margin:0; padding: 0}\n",
       ".list-inline>li {display: inline-block}\n",
       ".list-inline>li:not(:last-child)::after {content: \"\\00b7\"; padding: 0 .5ex}\n",
       "</style>\n",
       "<ol class=list-inline><li>926332</li><li>9</li></ol>\n"
      ],
      "text/latex": [
       "\\begin{enumerate*}\n",
       "\\item 926332\n",
       "\\item 9\n",
       "\\end{enumerate*}\n"
      ],
      "text/markdown": [
       "1. 926332\n",
       "2. 9\n",
       "\n",
       "\n"
      ],
      "text/plain": [
       "[1] 926332      9"
      ]
     },
     "metadata": {},
     "output_type": "display_data"
    }
   ],
   "source": [
    "#调取两组iso的exon边界，构建剪接供受体位点\n",
    "exon_region <- read.csv(\"/disk1/wenqing/tmp_data/ASD/switchList_exon.csv\")\n",
    "dim(exon_region)"
   ]
  },
  {
   "cell_type": "code",
   "execution_count": 6,
   "metadata": {},
   "outputs": [],
   "source": [
    "iso_IR_exon_region <- exon_region[exon_region$isoform_id %in% ctr_sample_iso_IR$V1,]\n",
    "iso_no_IR_exon_region <- exon_region[exon_region$isoform_id %in% ctr_sample_iso_no_IR$V1,]"
   ]
  },
  {
   "cell_type": "code",
   "execution_count": 7,
   "metadata": {},
   "outputs": [
    {
     "data": {
      "text/html": [
       "<table class=\"dataframe\">\n",
       "<caption>A data.frame: 6 × 9</caption>\n",
       "<thead>\n",
       "\t<tr><th></th><th scope=col>X</th><th scope=col>seqnames</th><th scope=col>start</th><th scope=col>end</th><th scope=col>width</th><th scope=col>strand</th><th scope=col>isoform_id</th><th scope=col>gene_id</th><th scope=col>gene_name</th></tr>\n",
       "\t<tr><th></th><th scope=col>&lt;int&gt;</th><th scope=col>&lt;chr&gt;</th><th scope=col>&lt;int&gt;</th><th scope=col>&lt;int&gt;</th><th scope=col>&lt;int&gt;</th><th scope=col>&lt;chr&gt;</th><th scope=col>&lt;chr&gt;</th><th scope=col>&lt;chr&gt;</th><th scope=col>&lt;chr&gt;</th></tr>\n",
       "</thead>\n",
       "<tbody>\n",
       "\t<tr><th scope=row>125</th><td>125</td><td>chr1</td><td>786728</td><td>787490</td><td>763</td><td>+</td><td>ENST00000425657.1_1</td><td>LINC01128</td><td>LINC01128</td></tr>\n",
       "\t<tr><th scope=row>132</th><td>132</td><td>chr1</td><td>788051</td><td>788132</td><td> 82</td><td>+</td><td>ENST00000425657.1_1</td><td>LINC01128</td><td>LINC01128</td></tr>\n",
       "\t<tr><th scope=row>184</th><td>184</td><td>chr1</td><td>898932</td><td>899388</td><td>457</td><td>+</td><td>ENST00000481067.1_1</td><td>KLHL17   </td><td>KLHL17   </td></tr>\n",
       "\t<tr><th scope=row>187</th><td>187</td><td>chr1</td><td>899487</td><td>899544</td><td> 58</td><td>+</td><td>ENST00000481067.1_1</td><td>KLHL17   </td><td>KLHL17   </td></tr>\n",
       "\t<tr><th scope=row>220</th><td>220</td><td>chr1</td><td>970247</td><td>970704</td><td>458</td><td>+</td><td>ENST00000469403.1_1</td><td>AGRN     </td><td>AGRN     </td></tr>\n",
       "\t<tr><th scope=row>223</th><td>223</td><td>chr1</td><td>976045</td><td>976260</td><td>216</td><td>+</td><td>ENST00000469403.1_1</td><td>AGRN     </td><td>AGRN     </td></tr>\n",
       "</tbody>\n",
       "</table>\n"
      ],
      "text/latex": [
       "A data.frame: 6 × 9\n",
       "\\begin{tabular}{r|lllllllll}\n",
       "  & X & seqnames & start & end & width & strand & isoform\\_id & gene\\_id & gene\\_name\\\\\n",
       "  & <int> & <chr> & <int> & <int> & <int> & <chr> & <chr> & <chr> & <chr>\\\\\n",
       "\\hline\n",
       "\t125 & 125 & chr1 & 786728 & 787490 & 763 & + & ENST00000425657.1\\_1 & LINC01128 & LINC01128\\\\\n",
       "\t132 & 132 & chr1 & 788051 & 788132 &  82 & + & ENST00000425657.1\\_1 & LINC01128 & LINC01128\\\\\n",
       "\t184 & 184 & chr1 & 898932 & 899388 & 457 & + & ENST00000481067.1\\_1 & KLHL17    & KLHL17   \\\\\n",
       "\t187 & 187 & chr1 & 899487 & 899544 &  58 & + & ENST00000481067.1\\_1 & KLHL17    & KLHL17   \\\\\n",
       "\t220 & 220 & chr1 & 970247 & 970704 & 458 & + & ENST00000469403.1\\_1 & AGRN      & AGRN     \\\\\n",
       "\t223 & 223 & chr1 & 976045 & 976260 & 216 & + & ENST00000469403.1\\_1 & AGRN      & AGRN     \\\\\n",
       "\\end{tabular}\n"
      ],
      "text/markdown": [
       "\n",
       "A data.frame: 6 × 9\n",
       "\n",
       "| <!--/--> | X &lt;int&gt; | seqnames &lt;chr&gt; | start &lt;int&gt; | end &lt;int&gt; | width &lt;int&gt; | strand &lt;chr&gt; | isoform_id &lt;chr&gt; | gene_id &lt;chr&gt; | gene_name &lt;chr&gt; |\n",
       "|---|---|---|---|---|---|---|---|---|---|\n",
       "| 125 | 125 | chr1 | 786728 | 787490 | 763 | + | ENST00000425657.1_1 | LINC01128 | LINC01128 |\n",
       "| 132 | 132 | chr1 | 788051 | 788132 |  82 | + | ENST00000425657.1_1 | LINC01128 | LINC01128 |\n",
       "| 184 | 184 | chr1 | 898932 | 899388 | 457 | + | ENST00000481067.1_1 | KLHL17    | KLHL17    |\n",
       "| 187 | 187 | chr1 | 899487 | 899544 |  58 | + | ENST00000481067.1_1 | KLHL17    | KLHL17    |\n",
       "| 220 | 220 | chr1 | 970247 | 970704 | 458 | + | ENST00000469403.1_1 | AGRN      | AGRN      |\n",
       "| 223 | 223 | chr1 | 976045 | 976260 | 216 | + | ENST00000469403.1_1 | AGRN      | AGRN      |\n",
       "\n"
      ],
      "text/plain": [
       "    X   seqnames start  end    width strand isoform_id          gene_id  \n",
       "125 125 chr1     786728 787490 763   +      ENST00000425657.1_1 LINC01128\n",
       "132 132 chr1     788051 788132  82   +      ENST00000425657.1_1 LINC01128\n",
       "184 184 chr1     898932 899388 457   +      ENST00000481067.1_1 KLHL17   \n",
       "187 187 chr1     899487 899544  58   +      ENST00000481067.1_1 KLHL17   \n",
       "220 220 chr1     970247 970704 458   +      ENST00000469403.1_1 AGRN     \n",
       "223 223 chr1     976045 976260 216   +      ENST00000469403.1_1 AGRN     \n",
       "    gene_name\n",
       "125 LINC01128\n",
       "132 LINC01128\n",
       "184 KLHL17   \n",
       "187 KLHL17   \n",
       "220 AGRN     \n",
       "223 AGRN     "
      ]
     },
     "metadata": {},
     "output_type": "display_data"
    }
   ],
   "source": [
    "head(iso_IR_exon_region)"
   ]
  },
  {
   "cell_type": "code",
   "execution_count": 8,
   "metadata": {},
   "outputs": [],
   "source": [
    "iso_IR_exon_region <- iso_IR_exon_region[,c(2:9)]\n",
    "iso_no_IR_exon_region <- iso_no_IR_exon_region[,c(2:9)]\n",
    "write.table(iso_IR_exon_region,\"/disk1/wenqing/tmp_data/ASD/ctr_iso_IR_exon_region.txt\",row.names=F,quote=F)\n",
    "write.table(iso_no_IR_exon_region,\"/disk1/wenqing/tmp_data/ASD/ctr_iso_no_IR_exon_region.txt\",row.names=F,quote=F)"
   ]
  },
  {
   "cell_type": "code",
   "execution_count": 9,
   "metadata": {},
   "outputs": [
    {
     "data": {
      "text/html": [
       "<table class=\"dataframe\">\n",
       "<caption>A data.frame: 6 × 8</caption>\n",
       "<thead>\n",
       "\t<tr><th></th><th scope=col>seqnames</th><th scope=col>start</th><th scope=col>end</th><th scope=col>width</th><th scope=col>strand</th><th scope=col>isoform_id</th><th scope=col>gene_id</th><th scope=col>gene_name</th></tr>\n",
       "\t<tr><th></th><th scope=col>&lt;chr&gt;</th><th scope=col>&lt;int&gt;</th><th scope=col>&lt;int&gt;</th><th scope=col>&lt;int&gt;</th><th scope=col>&lt;chr&gt;</th><th scope=col>&lt;chr&gt;</th><th scope=col>&lt;chr&gt;</th><th scope=col>&lt;chr&gt;</th></tr>\n",
       "</thead>\n",
       "<tbody>\n",
       "\t<tr><th scope=row>125</th><td>chr1</td><td>786728</td><td>787490</td><td>763</td><td>+</td><td>ENST00000425657.1_1</td><td>LINC01128</td><td>LINC01128</td></tr>\n",
       "\t<tr><th scope=row>132</th><td>chr1</td><td>788051</td><td>788132</td><td> 82</td><td>+</td><td>ENST00000425657.1_1</td><td>LINC01128</td><td>LINC01128</td></tr>\n",
       "\t<tr><th scope=row>184</th><td>chr1</td><td>898932</td><td>899388</td><td>457</td><td>+</td><td>ENST00000481067.1_1</td><td>KLHL17   </td><td>KLHL17   </td></tr>\n",
       "\t<tr><th scope=row>187</th><td>chr1</td><td>899487</td><td>899544</td><td> 58</td><td>+</td><td>ENST00000481067.1_1</td><td>KLHL17   </td><td>KLHL17   </td></tr>\n",
       "\t<tr><th scope=row>220</th><td>chr1</td><td>970247</td><td>970704</td><td>458</td><td>+</td><td>ENST00000469403.1_1</td><td>AGRN     </td><td>AGRN     </td></tr>\n",
       "\t<tr><th scope=row>223</th><td>chr1</td><td>976045</td><td>976260</td><td>216</td><td>+</td><td>ENST00000469403.1_1</td><td>AGRN     </td><td>AGRN     </td></tr>\n",
       "</tbody>\n",
       "</table>\n"
      ],
      "text/latex": [
       "A data.frame: 6 × 8\n",
       "\\begin{tabular}{r|llllllll}\n",
       "  & seqnames & start & end & width & strand & isoform\\_id & gene\\_id & gene\\_name\\\\\n",
       "  & <chr> & <int> & <int> & <int> & <chr> & <chr> & <chr> & <chr>\\\\\n",
       "\\hline\n",
       "\t125 & chr1 & 786728 & 787490 & 763 & + & ENST00000425657.1\\_1 & LINC01128 & LINC01128\\\\\n",
       "\t132 & chr1 & 788051 & 788132 &  82 & + & ENST00000425657.1\\_1 & LINC01128 & LINC01128\\\\\n",
       "\t184 & chr1 & 898932 & 899388 & 457 & + & ENST00000481067.1\\_1 & KLHL17    & KLHL17   \\\\\n",
       "\t187 & chr1 & 899487 & 899544 &  58 & + & ENST00000481067.1\\_1 & KLHL17    & KLHL17   \\\\\n",
       "\t220 & chr1 & 970247 & 970704 & 458 & + & ENST00000469403.1\\_1 & AGRN      & AGRN     \\\\\n",
       "\t223 & chr1 & 976045 & 976260 & 216 & + & ENST00000469403.1\\_1 & AGRN      & AGRN     \\\\\n",
       "\\end{tabular}\n"
      ],
      "text/markdown": [
       "\n",
       "A data.frame: 6 × 8\n",
       "\n",
       "| <!--/--> | seqnames &lt;chr&gt; | start &lt;int&gt; | end &lt;int&gt; | width &lt;int&gt; | strand &lt;chr&gt; | isoform_id &lt;chr&gt; | gene_id &lt;chr&gt; | gene_name &lt;chr&gt; |\n",
       "|---|---|---|---|---|---|---|---|---|\n",
       "| 125 | chr1 | 786728 | 787490 | 763 | + | ENST00000425657.1_1 | LINC01128 | LINC01128 |\n",
       "| 132 | chr1 | 788051 | 788132 |  82 | + | ENST00000425657.1_1 | LINC01128 | LINC01128 |\n",
       "| 184 | chr1 | 898932 | 899388 | 457 | + | ENST00000481067.1_1 | KLHL17    | KLHL17    |\n",
       "| 187 | chr1 | 899487 | 899544 |  58 | + | ENST00000481067.1_1 | KLHL17    | KLHL17    |\n",
       "| 220 | chr1 | 970247 | 970704 | 458 | + | ENST00000469403.1_1 | AGRN      | AGRN      |\n",
       "| 223 | chr1 | 976045 | 976260 | 216 | + | ENST00000469403.1_1 | AGRN      | AGRN      |\n",
       "\n"
      ],
      "text/plain": [
       "    seqnames start  end    width strand isoform_id          gene_id   gene_name\n",
       "125 chr1     786728 787490 763   +      ENST00000425657.1_1 LINC01128 LINC01128\n",
       "132 chr1     788051 788132  82   +      ENST00000425657.1_1 LINC01128 LINC01128\n",
       "184 chr1     898932 899388 457   +      ENST00000481067.1_1 KLHL17    KLHL17   \n",
       "187 chr1     899487 899544  58   +      ENST00000481067.1_1 KLHL17    KLHL17   \n",
       "220 chr1     970247 970704 458   +      ENST00000469403.1_1 AGRN      AGRN     \n",
       "223 chr1     976045 976260 216   +      ENST00000469403.1_1 AGRN      AGRN     "
      ]
     },
     "metadata": {},
     "output_type": "display_data"
    }
   ],
   "source": [
    "head(iso_IR_exon_region)"
   ]
  },
  {
   "cell_type": "code",
   "execution_count": 10,
   "metadata": {},
   "outputs": [],
   "source": [
    "start_exd <- iso_IR_exon_region$start-5\n",
    "end_exd <- iso_IR_exon_region$end+5\n",
    "iso_IR_exon_region_exd <- iso_IR_exon_region\n",
    "iso_IR_exon_region_exd$start <- start_exd\n",
    "iso_IR_exon_region_exd$end <- end_exd"
   ]
  },
  {
   "cell_type": "code",
   "execution_count": 11,
   "metadata": {},
   "outputs": [],
   "source": [
    "no_IR_start_exd <- iso_no_IR_exon_region$start-5\n",
    "no_IR_end_exd <- iso_no_IR_exon_region$end+5\n",
    "iso_no_IR_exon_region_exd <- iso_no_IR_exon_region\n",
    "iso_no_IR_exon_region_exd$start <- no_IR_start_exd\n",
    "iso_no_IR_exon_region_exd$end <- no_IR_end_exd"
   ]
  },
  {
   "cell_type": "code",
   "execution_count": 12,
   "metadata": {},
   "outputs": [],
   "source": [
    "write.table(iso_IR_exon_region_exd,\"/disk1/wenqing/tmp_data/ASD/ctr_iso_IR_exon_region_exd.txt\",row.names=F,quote=F)\n",
    "write.table(iso_no_IR_exon_region_exd,\"/disk1/wenqing/tmp_data/ASD/ctr_iso_no_IR_exon_region_exd.txt\",row.names=F,quote=F)"
   ]
  },
  {
   "cell_type": "code",
   "execution_count": 13,
   "metadata": {},
   "outputs": [],
   "source": [
    "#res是否落在可变剪接的供受体位点上\n",
    "#构建供受体位点上下游5bp的潜在res位点\n",
    "donor_sites_2 <- paste0(iso_IR_exon_region$seqnames,\"_\",as.character(as.integer(iso_IR_exon_region$end)+2))\n",
    "donor_sites_1 <- paste0(iso_IR_exon_region$seqnames,\"_\",as.character(as.integer(iso_IR_exon_region$end)+1))\n",
    "donor_sites_3 <- paste0(iso_IR_exon_region$seqnames,\"_\",as.character(as.integer(iso_IR_exon_region$end)+3))\n",
    "donor_sites_4 <- paste0(iso_IR_exon_region$seqnames,\"_\",as.character(as.integer(iso_IR_exon_region$end)+4))\n",
    "donor_sites_5 <- paste0(iso_IR_exon_region$seqnames,\"_\",as.character(as.integer(iso_IR_exon_region$end)+5))\n",
    "donor_sites_2_neg <- paste0(iso_IR_exon_region$seqnames,\"_\",as.character(as.integer(iso_IR_exon_region$end)-2))\n",
    "donor_sites_1_neg <- paste0(iso_IR_exon_region$seqnames,\"_\",as.character(as.integer(iso_IR_exon_region$end)-1))\n",
    "donor_sites_3_neg <- paste0(iso_IR_exon_region$seqnames,\"_\",as.character(as.integer(iso_IR_exon_region$end)-3))\n",
    "donor_sites_4_neg <- paste0(iso_IR_exon_region$seqnames,\"_\",as.character(as.integer(iso_IR_exon_region$end)-4))\n",
    "donor_sites_5_neg <- paste0(iso_IR_exon_region$seqnames,\"_\",as.character(as.integer(iso_IR_exon_region$end)-5))\n",
    "\n",
    "acceptor_sites_2 <- paste0(iso_IR_exon_region$seqnames,\"_\",as.character(as.integer(iso_IR_exon_region$start)-2))\n",
    "acceptor_sites_1 <- paste0(iso_IR_exon_region$seqnames,\"_\",as.character(as.integer(iso_IR_exon_region$start)-1))\n",
    "acceptor_sites_3 <- paste0(iso_IR_exon_region$seqnames,\"_\",as.character(as.integer(iso_IR_exon_region$start)-3))\n",
    "acceptor_sites_4 <- paste0(iso_IR_exon_region$seqnames,\"_\",as.character(as.integer(iso_IR_exon_region$start)-4))\n",
    "acceptor_sites_5 <- paste0(iso_IR_exon_region$seqnames,\"_\",as.character(as.integer(iso_IR_exon_region$start)-5))\n",
    "\n",
    "acceptor_sites_2_pos <- paste0(iso_IR_exon_region$seqnames,\"_\",as.character(as.integer(iso_IR_exon_region$start)+2))\n",
    "acceptor_sites_1_pos <- paste0(iso_IR_exon_region$seqnames,\"_\",as.character(as.integer(iso_IR_exon_region$start)+1))\n",
    "acceptor_sites_3_pos <- paste0(iso_IR_exon_region$seqnames,\"_\",as.character(as.integer(iso_IR_exon_region$start)+3))\n",
    "acceptor_sites_4_pos <- paste0(iso_IR_exon_region$seqnames,\"_\",as.character(as.integer(iso_IR_exon_region$start)+4))\n",
    "acceptor_sites_5_pos <- paste0(iso_IR_exon_region$seqnames,\"_\",as.character(as.integer(iso_IR_exon_region$start)+5))\n",
    "\n",
    "\n",
    "all_possible_sites <- c(donor_sites_1,donor_sites_2,donor_sites_3,donor_sites_4,donor_sites_5,acceptor_sites_1,acceptor_sites_2,acceptor_sites_3,acceptor_sites_4,acceptor_sites_5,\n",
    "                        donor_sites_1_neg,donor_sites_2_neg,donor_sites_3_neg,donor_sites_4_neg,donor_sites_5_neg,\n",
    "                        acceptor_sites_1_pos,acceptor_sites_2_pos,acceptor_sites_3_pos,acceptor_sites_4_pos,acceptor_sites_5_pos)\n",
    "\n",
    "donor_sites_info <- c(rep(\"donor_ds_1_G\",times=length(iso_IR_exon_region$seqnames)),rep(\"donor_ds_2_T\",times=length(iso_IR_exon_region$seqnames)),rep(\"donor_ds_3_A_G\",times=length(iso_IR_exon_region$seqnames)),rep(\"donor_ds_4_A\",times=length(iso_IR_exon_region$seqnames)),rep(\"donor_ds_5_G\",times=length(iso_IR_exon_region$seqnames)),\n",
    "                        rep(\"donor_us_1\",times=length(iso_IR_exon_region$seqnames)),rep(\"donor_us_2\",times=length(iso_IR_exon_region$seqnames)),rep(\"donor_us_3\",times=length(iso_IR_exon_region$seqnames)),rep(\"donor_us_4\",times=length(iso_IR_exon_region$seqnames)),rep(\"donor_us_5\",times=length(iso_IR_exon_region$seqnames)))\n",
    "acceptor_sites_info <- c(rep(\"acceptor_us_1_G\",times=length(iso_IR_exon_region$seqnames)),rep(\"acceptor_us_2_A\",times=length(iso_IR_exon_region$seqnames)),rep(\"acceptor_us_3_C_T\",times=length(iso_IR_exon_region$seqnames)),rep(\"acceptor_us_4_N\",times=length(iso_IR_exon_region$seqnames)),rep(\"acceptor_us_5_C_T\",times=length(iso_IR_exon_region$seqnames)),\n",
    "                        rep(\"acceptor_ds_1\",times=length(iso_IR_exon_region$seqnames)),rep(\"acceptor_ds_2\",times=length(iso_IR_exon_region$seqnames)),rep(\"acceptor_ds_3\",times=length(iso_IR_exon_region$seqnames)),rep(\"acceptor_ds_4\",times=length(iso_IR_exon_region$seqnames)),rep(\"acceptor_ds_5\",times=length(iso_IR_exon_region$seqnames)))\n",
    "\n",
    "all_sites_info <- c(donor_sites_info,acceptor_sites_info)\n",
    "\n",
    "isoform_id <- rep(iso_IR_exon_region$isoform_id,times=20)"
   ]
  },
  {
   "cell_type": "code",
   "execution_count": 14,
   "metadata": {},
   "outputs": [],
   "source": [
    "all_sites <- as.data.frame(cbind(all_possible_sites,all_sites_info,isoform_id))"
   ]
  },
  {
   "cell_type": "code",
   "execution_count": 15,
   "metadata": {},
   "outputs": [
    {
     "data": {
      "text/html": [
       "<table class=\"dataframe\">\n",
       "<caption>A data.frame: 6 × 3</caption>\n",
       "<thead>\n",
       "\t<tr><th></th><th scope=col>all_possible_sites</th><th scope=col>all_sites_info</th><th scope=col>isoform_id</th></tr>\n",
       "\t<tr><th></th><th scope=col>&lt;chr&gt;</th><th scope=col>&lt;chr&gt;</th><th scope=col>&lt;chr&gt;</th></tr>\n",
       "</thead>\n",
       "<tbody>\n",
       "\t<tr><th scope=row>1</th><td>chr1_787491</td><td>donor_ds_1_G</td><td>ENST00000425657.1_1</td></tr>\n",
       "\t<tr><th scope=row>2</th><td>chr1_788133</td><td>donor_ds_1_G</td><td>ENST00000425657.1_1</td></tr>\n",
       "\t<tr><th scope=row>3</th><td>chr1_899389</td><td>donor_ds_1_G</td><td>ENST00000481067.1_1</td></tr>\n",
       "\t<tr><th scope=row>4</th><td>chr1_899545</td><td>donor_ds_1_G</td><td>ENST00000481067.1_1</td></tr>\n",
       "\t<tr><th scope=row>5</th><td>chr1_970705</td><td>donor_ds_1_G</td><td>ENST00000469403.1_1</td></tr>\n",
       "\t<tr><th scope=row>6</th><td>chr1_976261</td><td>donor_ds_1_G</td><td>ENST00000469403.1_1</td></tr>\n",
       "</tbody>\n",
       "</table>\n"
      ],
      "text/latex": [
       "A data.frame: 6 × 3\n",
       "\\begin{tabular}{r|lll}\n",
       "  & all\\_possible\\_sites & all\\_sites\\_info & isoform\\_id\\\\\n",
       "  & <chr> & <chr> & <chr>\\\\\n",
       "\\hline\n",
       "\t1 & chr1\\_787491 & donor\\_ds\\_1\\_G & ENST00000425657.1\\_1\\\\\n",
       "\t2 & chr1\\_788133 & donor\\_ds\\_1\\_G & ENST00000425657.1\\_1\\\\\n",
       "\t3 & chr1\\_899389 & donor\\_ds\\_1\\_G & ENST00000481067.1\\_1\\\\\n",
       "\t4 & chr1\\_899545 & donor\\_ds\\_1\\_G & ENST00000481067.1\\_1\\\\\n",
       "\t5 & chr1\\_970705 & donor\\_ds\\_1\\_G & ENST00000469403.1\\_1\\\\\n",
       "\t6 & chr1\\_976261 & donor\\_ds\\_1\\_G & ENST00000469403.1\\_1\\\\\n",
       "\\end{tabular}\n"
      ],
      "text/markdown": [
       "\n",
       "A data.frame: 6 × 3\n",
       "\n",
       "| <!--/--> | all_possible_sites &lt;chr&gt; | all_sites_info &lt;chr&gt; | isoform_id &lt;chr&gt; |\n",
       "|---|---|---|---|\n",
       "| 1 | chr1_787491 | donor_ds_1_G | ENST00000425657.1_1 |\n",
       "| 2 | chr1_788133 | donor_ds_1_G | ENST00000425657.1_1 |\n",
       "| 3 | chr1_899389 | donor_ds_1_G | ENST00000481067.1_1 |\n",
       "| 4 | chr1_899545 | donor_ds_1_G | ENST00000481067.1_1 |\n",
       "| 5 | chr1_970705 | donor_ds_1_G | ENST00000469403.1_1 |\n",
       "| 6 | chr1_976261 | donor_ds_1_G | ENST00000469403.1_1 |\n",
       "\n"
      ],
      "text/plain": [
       "  all_possible_sites all_sites_info isoform_id         \n",
       "1 chr1_787491        donor_ds_1_G   ENST00000425657.1_1\n",
       "2 chr1_788133        donor_ds_1_G   ENST00000425657.1_1\n",
       "3 chr1_899389        donor_ds_1_G   ENST00000481067.1_1\n",
       "4 chr1_899545        donor_ds_1_G   ENST00000481067.1_1\n",
       "5 chr1_970705        donor_ds_1_G   ENST00000469403.1_1\n",
       "6 chr1_976261        donor_ds_1_G   ENST00000469403.1_1"
      ]
     },
     "metadata": {},
     "output_type": "display_data"
    }
   ],
   "source": [
    "head(all_sites)"
   ]
  },
  {
   "cell_type": "code",
   "execution_count": 16,
   "metadata": {},
   "outputs": [
    {
     "data": {
      "text/html": [
       "<style>\n",
       ".list-inline {list-style: none; margin:0; padding: 0}\n",
       ".list-inline>li {display: inline-block}\n",
       ".list-inline>li:not(:last-child)::after {content: \"\\00b7\"; padding: 0 .5ex}\n",
       "</style>\n",
       "<ol class=list-inline><li>2154860</li><li>3</li></ol>\n"
      ],
      "text/latex": [
       "\\begin{enumerate*}\n",
       "\\item 2154860\n",
       "\\item 3\n",
       "\\end{enumerate*}\n"
      ],
      "text/markdown": [
       "1. 2154860\n",
       "2. 3\n",
       "\n",
       "\n"
      ],
      "text/plain": [
       "[1] 2154860       3"
      ]
     },
     "metadata": {},
     "output_type": "display_data"
    },
    {
     "data": {
      "text/html": [
       "<table class=\"dataframe\">\n",
       "<caption>A data.frame: 6 × 3</caption>\n",
       "<thead>\n",
       "\t<tr><th></th><th scope=col>site</th><th scope=col>info</th><th scope=col>iso_id</th></tr>\n",
       "\t<tr><th></th><th scope=col>&lt;chr&gt;</th><th scope=col>&lt;chr&gt;</th><th scope=col>&lt;chr&gt;</th></tr>\n",
       "</thead>\n",
       "<tbody>\n",
       "\t<tr><th scope=row>1</th><td>chr1_787491</td><td>donor_ds_1_G</td><td>ENST00000425657.1_1</td></tr>\n",
       "\t<tr><th scope=row>2</th><td>chr1_788133</td><td>donor_ds_1_G</td><td>ENST00000425657.1_1</td></tr>\n",
       "\t<tr><th scope=row>3</th><td>chr1_899389</td><td>donor_ds_1_G</td><td>ENST00000481067.1_1</td></tr>\n",
       "\t<tr><th scope=row>4</th><td>chr1_899545</td><td>donor_ds_1_G</td><td>ENST00000481067.1_1</td></tr>\n",
       "\t<tr><th scope=row>5</th><td>chr1_970705</td><td>donor_ds_1_G</td><td>ENST00000469403.1_1</td></tr>\n",
       "\t<tr><th scope=row>6</th><td>chr1_976261</td><td>donor_ds_1_G</td><td>ENST00000469403.1_1</td></tr>\n",
       "</tbody>\n",
       "</table>\n"
      ],
      "text/latex": [
       "A data.frame: 6 × 3\n",
       "\\begin{tabular}{r|lll}\n",
       "  & site & info & iso\\_id\\\\\n",
       "  & <chr> & <chr> & <chr>\\\\\n",
       "\\hline\n",
       "\t1 & chr1\\_787491 & donor\\_ds\\_1\\_G & ENST00000425657.1\\_1\\\\\n",
       "\t2 & chr1\\_788133 & donor\\_ds\\_1\\_G & ENST00000425657.1\\_1\\\\\n",
       "\t3 & chr1\\_899389 & donor\\_ds\\_1\\_G & ENST00000481067.1\\_1\\\\\n",
       "\t4 & chr1\\_899545 & donor\\_ds\\_1\\_G & ENST00000481067.1\\_1\\\\\n",
       "\t5 & chr1\\_970705 & donor\\_ds\\_1\\_G & ENST00000469403.1\\_1\\\\\n",
       "\t6 & chr1\\_976261 & donor\\_ds\\_1\\_G & ENST00000469403.1\\_1\\\\\n",
       "\\end{tabular}\n"
      ],
      "text/markdown": [
       "\n",
       "A data.frame: 6 × 3\n",
       "\n",
       "| <!--/--> | site &lt;chr&gt; | info &lt;chr&gt; | iso_id &lt;chr&gt; |\n",
       "|---|---|---|---|\n",
       "| 1 | chr1_787491 | donor_ds_1_G | ENST00000425657.1_1 |\n",
       "| 2 | chr1_788133 | donor_ds_1_G | ENST00000425657.1_1 |\n",
       "| 3 | chr1_899389 | donor_ds_1_G | ENST00000481067.1_1 |\n",
       "| 4 | chr1_899545 | donor_ds_1_G | ENST00000481067.1_1 |\n",
       "| 5 | chr1_970705 | donor_ds_1_G | ENST00000469403.1_1 |\n",
       "| 6 | chr1_976261 | donor_ds_1_G | ENST00000469403.1_1 |\n",
       "\n"
      ],
      "text/plain": [
       "  site        info         iso_id             \n",
       "1 chr1_787491 donor_ds_1_G ENST00000425657.1_1\n",
       "2 chr1_788133 donor_ds_1_G ENST00000425657.1_1\n",
       "3 chr1_899389 donor_ds_1_G ENST00000481067.1_1\n",
       "4 chr1_899545 donor_ds_1_G ENST00000481067.1_1\n",
       "5 chr1_970705 donor_ds_1_G ENST00000469403.1_1\n",
       "6 chr1_976261 donor_ds_1_G ENST00000469403.1_1"
      ]
     },
     "metadata": {},
     "output_type": "display_data"
    }
   ],
   "source": [
    "dim(all_sites)\n",
    "colnames(all_sites) <- c(\"site\",\"info\",\"iso_id\")\n",
    "head(all_sites)\n"
   ]
  },
  {
   "cell_type": "code",
   "execution_count": 17,
   "metadata": {},
   "outputs": [
    {
     "data": {
      "text/html": [
       "<style>\n",
       ".list-inline {list-style: none; margin:0; padding: 0}\n",
       ".list-inline>li {display: inline-block}\n",
       ".list-inline>li:not(:last-child)::after {content: \"\\00b7\"; padding: 0 .5ex}\n",
       "</style>\n",
       "<ol class=list-inline><li>1490917</li><li>3</li></ol>\n"
      ],
      "text/latex": [
       "\\begin{enumerate*}\n",
       "\\item 1490917\n",
       "\\item 3\n",
       "\\end{enumerate*}\n"
      ],
      "text/markdown": [
       "1. 1490917\n",
       "2. 3\n",
       "\n",
       "\n"
      ],
      "text/plain": [
       "[1] 1490917       3"
      ]
     },
     "metadata": {},
     "output_type": "display_data"
    }
   ],
   "source": [
    "uniq_all_sites <- all_sites[!duplicated(all_sites$site),]\n",
    "dim(uniq_all_sites)\n",
    "\n",
    "rownames(uniq_all_sites) <- uniq_all_sites$site"
   ]
  },
  {
   "cell_type": "code",
   "execution_count": 19,
   "metadata": {},
   "outputs": [
    {
     "data": {
      "text/html": [
       "<table class=\"dataframe\">\n",
       "<caption>A data.frame: 6 × 9</caption>\n",
       "<thead>\n",
       "\t<tr><th></th><th scope=col>V1</th><th scope=col>V2</th><th scope=col>V3</th><th scope=col>V4</th><th scope=col>V5</th><th scope=col>V6</th><th scope=col>V7</th><th scope=col>V8</th><th scope=col>V9</th></tr>\n",
       "\t<tr><th></th><th scope=col>&lt;chr&gt;</th><th scope=col>&lt;int&gt;</th><th scope=col>&lt;int&gt;</th><th scope=col>&lt;chr&gt;</th><th scope=col>&lt;int&gt;</th><th scope=col>&lt;chr&gt;</th><th scope=col>&lt;chr&gt;</th><th scope=col>&lt;chr&gt;</th><th scope=col>&lt;int&gt;</th></tr>\n",
       "</thead>\n",
       "<tbody>\n",
       "\t<tr><th scope=row>10353077</th><td>chr1</td><td>51693</td><td>51694</td><td>GA</td><td>1</td><td>-</td><td>AGCCTAACAATAAGCA</td><td>2:2</td><td>20</td></tr>\n",
       "\t<tr><th scope=row>10353078</th><td>chr1</td><td>51715</td><td>51716</td><td>GA</td><td>1</td><td>-</td><td>AGCCTAACAATAAGCA</td><td>2:2</td><td>20</td></tr>\n",
       "\t<tr><th scope=row>10353079</th><td>chr1</td><td>51715</td><td>51716</td><td>GA</td><td>1</td><td>-</td><td>GCCAAATTCTTTACGT</td><td>1:1</td><td>20</td></tr>\n",
       "\t<tr><th scope=row>10353080</th><td>chr1</td><td>51728</td><td>51729</td><td>GA</td><td>1</td><td>-</td><td>GCCAAATTCTTTACGT</td><td>1:1</td><td>20</td></tr>\n",
       "\t<tr><th scope=row>10353081</th><td>chr1</td><td>51738</td><td>51739</td><td>GA</td><td>1</td><td>-</td><td>AGCCTAACAATAAGCA</td><td>1:2</td><td>20</td></tr>\n",
       "\t<tr><th scope=row>10353082</th><td>chr1</td><td>51744</td><td>51745</td><td>GA</td><td>1</td><td>-</td><td>AGCCTAACAATAAGCA</td><td>1:1</td><td>20</td></tr>\n",
       "</tbody>\n",
       "</table>\n"
      ],
      "text/latex": [
       "A data.frame: 6 × 9\n",
       "\\begin{tabular}{r|lllllllll}\n",
       "  & V1 & V2 & V3 & V4 & V5 & V6 & V7 & V8 & V9\\\\\n",
       "  & <chr> & <int> & <int> & <chr> & <int> & <chr> & <chr> & <chr> & <int>\\\\\n",
       "\\hline\n",
       "\t10353077 & chr1 & 51693 & 51694 & GA & 1 & - & AGCCTAACAATAAGCA & 2:2 & 20\\\\\n",
       "\t10353078 & chr1 & 51715 & 51716 & GA & 1 & - & AGCCTAACAATAAGCA & 2:2 & 20\\\\\n",
       "\t10353079 & chr1 & 51715 & 51716 & GA & 1 & - & GCCAAATTCTTTACGT & 1:1 & 20\\\\\n",
       "\t10353080 & chr1 & 51728 & 51729 & GA & 1 & - & GCCAAATTCTTTACGT & 1:1 & 20\\\\\n",
       "\t10353081 & chr1 & 51738 & 51739 & GA & 1 & - & AGCCTAACAATAAGCA & 1:2 & 20\\\\\n",
       "\t10353082 & chr1 & 51744 & 51745 & GA & 1 & - & AGCCTAACAATAAGCA & 1:1 & 20\\\\\n",
       "\\end{tabular}\n"
      ],
      "text/markdown": [
       "\n",
       "A data.frame: 6 × 9\n",
       "\n",
       "| <!--/--> | V1 &lt;chr&gt; | V2 &lt;int&gt; | V3 &lt;int&gt; | V4 &lt;chr&gt; | V5 &lt;int&gt; | V6 &lt;chr&gt; | V7 &lt;chr&gt; | V8 &lt;chr&gt; | V9 &lt;int&gt; |\n",
       "|---|---|---|---|---|---|---|---|---|---|\n",
       "| 10353077 | chr1 | 51693 | 51694 | GA | 1 | - | AGCCTAACAATAAGCA | 2:2 | 20 |\n",
       "| 10353078 | chr1 | 51715 | 51716 | GA | 1 | - | AGCCTAACAATAAGCA | 2:2 | 20 |\n",
       "| 10353079 | chr1 | 51715 | 51716 | GA | 1 | - | GCCAAATTCTTTACGT | 1:1 | 20 |\n",
       "| 10353080 | chr1 | 51728 | 51729 | GA | 1 | - | GCCAAATTCTTTACGT | 1:1 | 20 |\n",
       "| 10353081 | chr1 | 51738 | 51739 | GA | 1 | - | AGCCTAACAATAAGCA | 1:2 | 20 |\n",
       "| 10353082 | chr1 | 51744 | 51745 | GA | 1 | - | AGCCTAACAATAAGCA | 1:1 | 20 |\n",
       "\n"
      ],
      "text/plain": [
       "         V1   V2    V3    V4 V5 V6 V7               V8  V9\n",
       "10353077 chr1 51693 51694 GA 1  -  AGCCTAACAATAAGCA 2:2 20\n",
       "10353078 chr1 51715 51716 GA 1  -  AGCCTAACAATAAGCA 2:2 20\n",
       "10353079 chr1 51715 51716 GA 1  -  GCCAAATTCTTTACGT 1:1 20\n",
       "10353080 chr1 51728 51729 GA 1  -  GCCAAATTCTTTACGT 1:1 20\n",
       "10353081 chr1 51738 51739 GA 1  -  AGCCTAACAATAAGCA 1:2 20\n",
       "10353082 chr1 51744 51745 GA 1  -  AGCCTAACAATAAGCA 1:1 20"
      ]
     },
     "metadata": {},
     "output_type": "display_data"
    },
    {
     "data": {
      "text/html": [
       "<table class=\"dataframe\">\n",
       "<caption>A data.frame: 6 × 10</caption>\n",
       "<thead>\n",
       "\t<tr><th></th><th scope=col>V1</th><th scope=col>V2</th><th scope=col>V3</th><th scope=col>V4</th><th scope=col>V5</th><th scope=col>V6</th><th scope=col>V7</th><th scope=col>V8</th><th scope=col>V9</th><th scope=col>V10</th></tr>\n",
       "\t<tr><th></th><th scope=col>&lt;chr&gt;</th><th scope=col>&lt;int&gt;</th><th scope=col>&lt;int&gt;</th><th scope=col>&lt;chr&gt;</th><th scope=col>&lt;int&gt;</th><th scope=col>&lt;chr&gt;</th><th scope=col>&lt;chr&gt;</th><th scope=col>&lt;chr&gt;</th><th scope=col>&lt;int&gt;</th><th scope=col>&lt;chr&gt;</th></tr>\n",
       "</thead>\n",
       "<tbody>\n",
       "\t<tr><th scope=row>10353077</th><td>chr1</td><td>51693</td><td>51694</td><td>GA</td><td>1</td><td>-</td><td>AGCCTAACAATAAGCA</td><td>2:2</td><td>20</td><td>chr1_51694</td></tr>\n",
       "\t<tr><th scope=row>10353078</th><td>chr1</td><td>51715</td><td>51716</td><td>GA</td><td>1</td><td>-</td><td>AGCCTAACAATAAGCA</td><td>2:2</td><td>20</td><td>chr1_51716</td></tr>\n",
       "\t<tr><th scope=row>10353079</th><td>chr1</td><td>51715</td><td>51716</td><td>GA</td><td>1</td><td>-</td><td>GCCAAATTCTTTACGT</td><td>1:1</td><td>20</td><td>chr1_51716</td></tr>\n",
       "\t<tr><th scope=row>10353080</th><td>chr1</td><td>51728</td><td>51729</td><td>GA</td><td>1</td><td>-</td><td>GCCAAATTCTTTACGT</td><td>1:1</td><td>20</td><td>chr1_51729</td></tr>\n",
       "\t<tr><th scope=row>10353081</th><td>chr1</td><td>51738</td><td>51739</td><td>GA</td><td>1</td><td>-</td><td>AGCCTAACAATAAGCA</td><td>1:2</td><td>20</td><td>chr1_51739</td></tr>\n",
       "\t<tr><th scope=row>10353082</th><td>chr1</td><td>51744</td><td>51745</td><td>GA</td><td>1</td><td>-</td><td>AGCCTAACAATAAGCA</td><td>1:1</td><td>20</td><td>chr1_51745</td></tr>\n",
       "</tbody>\n",
       "</table>\n"
      ],
      "text/latex": [
       "A data.frame: 6 × 10\n",
       "\\begin{tabular}{r|llllllllll}\n",
       "  & V1 & V2 & V3 & V4 & V5 & V6 & V7 & V8 & V9 & V10\\\\\n",
       "  & <chr> & <int> & <int> & <chr> & <int> & <chr> & <chr> & <chr> & <int> & <chr>\\\\\n",
       "\\hline\n",
       "\t10353077 & chr1 & 51693 & 51694 & GA & 1 & - & AGCCTAACAATAAGCA & 2:2 & 20 & chr1\\_51694\\\\\n",
       "\t10353078 & chr1 & 51715 & 51716 & GA & 1 & - & AGCCTAACAATAAGCA & 2:2 & 20 & chr1\\_51716\\\\\n",
       "\t10353079 & chr1 & 51715 & 51716 & GA & 1 & - & GCCAAATTCTTTACGT & 1:1 & 20 & chr1\\_51716\\\\\n",
       "\t10353080 & chr1 & 51728 & 51729 & GA & 1 & - & GCCAAATTCTTTACGT & 1:1 & 20 & chr1\\_51729\\\\\n",
       "\t10353081 & chr1 & 51738 & 51739 & GA & 1 & - & AGCCTAACAATAAGCA & 1:2 & 20 & chr1\\_51739\\\\\n",
       "\t10353082 & chr1 & 51744 & 51745 & GA & 1 & - & AGCCTAACAATAAGCA & 1:1 & 20 & chr1\\_51745\\\\\n",
       "\\end{tabular}\n"
      ],
      "text/markdown": [
       "\n",
       "A data.frame: 6 × 10\n",
       "\n",
       "| <!--/--> | V1 &lt;chr&gt; | V2 &lt;int&gt; | V3 &lt;int&gt; | V4 &lt;chr&gt; | V5 &lt;int&gt; | V6 &lt;chr&gt; | V7 &lt;chr&gt; | V8 &lt;chr&gt; | V9 &lt;int&gt; | V10 &lt;chr&gt; |\n",
       "|---|---|---|---|---|---|---|---|---|---|---|\n",
       "| 10353077 | chr1 | 51693 | 51694 | GA | 1 | - | AGCCTAACAATAAGCA | 2:2 | 20 | chr1_51694 |\n",
       "| 10353078 | chr1 | 51715 | 51716 | GA | 1 | - | AGCCTAACAATAAGCA | 2:2 | 20 | chr1_51716 |\n",
       "| 10353079 | chr1 | 51715 | 51716 | GA | 1 | - | GCCAAATTCTTTACGT | 1:1 | 20 | chr1_51716 |\n",
       "| 10353080 | chr1 | 51728 | 51729 | GA | 1 | - | GCCAAATTCTTTACGT | 1:1 | 20 | chr1_51729 |\n",
       "| 10353081 | chr1 | 51738 | 51739 | GA | 1 | - | AGCCTAACAATAAGCA | 1:2 | 20 | chr1_51739 |\n",
       "| 10353082 | chr1 | 51744 | 51745 | GA | 1 | - | AGCCTAACAATAAGCA | 1:1 | 20 | chr1_51745 |\n",
       "\n"
      ],
      "text/plain": [
       "         V1   V2    V3    V4 V5 V6 V7               V8  V9 V10       \n",
       "10353077 chr1 51693 51694 GA 1  -  AGCCTAACAATAAGCA 2:2 20 chr1_51694\n",
       "10353078 chr1 51715 51716 GA 1  -  AGCCTAACAATAAGCA 2:2 20 chr1_51716\n",
       "10353079 chr1 51715 51716 GA 1  -  GCCAAATTCTTTACGT 1:1 20 chr1_51716\n",
       "10353080 chr1 51728 51729 GA 1  -  GCCAAATTCTTTACGT 1:1 20 chr1_51729\n",
       "10353081 chr1 51738 51739 GA 1  -  AGCCTAACAATAAGCA 1:2 20 chr1_51739\n",
       "10353082 chr1 51744 51745 GA 1  -  AGCCTAACAATAAGCA 1:1 20 chr1_51745"
      ]
     },
     "metadata": {},
     "output_type": "display_data"
    }
   ],
   "source": [
    "#head(all_possible_sites)\n",
    "#all.res.wizSampleInfo.new: 由ctr组中的23组成\n",
    "all_res <- read.table(\"/disk1/wenqing/tmp_data/ASD/all.res.wizSampleInfo.new\")\n",
    "\n",
    "#ctr only\n",
    "all_res <- all_res[all_res$V9=='20'|all_res$V9=='23'|all_res$V9=='56',]\n",
    "head(all_res)\n",
    "\n",
    "all_res$V10 <- paste0(all_res$V1,\"_\",all_res$V3)\n",
    "head(all_res)"
   ]
  },
  {
   "cell_type": "code",
   "execution_count": 20,
   "metadata": {},
   "outputs": [],
   "source": [
    "write.table(all_res,\"/disk1/wenqing/tmp_data/ASD/ctr_male_pfc/ctr_all.res\",quote=F,col.names=F,row.names=F)"
   ]
  },
  {
   "cell_type": "code",
   "execution_count": 21,
   "metadata": {},
   "outputs": [],
   "source": [
    "resInSpliceSites <- all_res[all_res$V10 %in% all_sites$site,]\n"
   ]
  },
  {
   "cell_type": "code",
   "execution_count": 22,
   "metadata": {},
   "outputs": [],
   "source": [
    "resInSpliceSites$V11 <- \"info\"\n",
    "resInSpliceSites$V11 <- uniq_all_sites[resInSpliceSites$V10,]$info\n",
    "resInSpliceSites$V12 <- \"iso_id\"\n",
    "resInSpliceSites$V12 <- uniq_all_sites[resInSpliceSites$V10,]$iso_id\n",
    "\n"
   ]
  },
  {
   "cell_type": "code",
   "execution_count": 23,
   "metadata": {},
   "outputs": [
    {
     "data": {
      "text/html": [
       "<table class=\"dataframe\">\n",
       "<caption>A data.frame: 6 × 12</caption>\n",
       "<thead>\n",
       "\t<tr><th></th><th scope=col>V1</th><th scope=col>V2</th><th scope=col>V3</th><th scope=col>V4</th><th scope=col>V5</th><th scope=col>V6</th><th scope=col>V7</th><th scope=col>V8</th><th scope=col>V9</th><th scope=col>V10</th><th scope=col>V11</th><th scope=col>V12</th></tr>\n",
       "\t<tr><th></th><th scope=col>&lt;chr&gt;</th><th scope=col>&lt;int&gt;</th><th scope=col>&lt;int&gt;</th><th scope=col>&lt;chr&gt;</th><th scope=col>&lt;int&gt;</th><th scope=col>&lt;chr&gt;</th><th scope=col>&lt;chr&gt;</th><th scope=col>&lt;chr&gt;</th><th scope=col>&lt;int&gt;</th><th scope=col>&lt;chr&gt;</th><th scope=col>&lt;chr&gt;</th><th scope=col>&lt;chr&gt;</th></tr>\n",
       "</thead>\n",
       "<tbody>\n",
       "\t<tr><th scope=row>10355292</th><td>chr1</td><td> 1419947</td><td> 1419948</td><td>AG</td><td>1</td><td>-</td><td>TACCTTACATCATCCC</td><td>1:1</td><td>20</td><td>chr1_1419948 </td><td>donor_us_1     </td><td>ENST00000474481.1_1</td></tr>\n",
       "\t<tr><th scope=row>10394882</th><td>chr1</td><td>21219604</td><td>21219605</td><td>TC</td><td>1</td><td>+</td><td>TGGACGCCAGACGTAG</td><td>1:1</td><td>20</td><td>chr1_21219605</td><td>acceptor_ds_1  </td><td>ENST00000374933.3_3</td></tr>\n",
       "\t<tr><th scope=row>10416512</th><td>chr1</td><td>29500007</td><td>29500008</td><td>TC</td><td>3</td><td>+</td><td>ATCATGGCAGATAATG</td><td>1:1</td><td>20</td><td>chr1_29500008</td><td>donor_ds_2_T   </td><td>ENST00000634348.1_3</td></tr>\n",
       "\t<tr><th scope=row>10422126</th><td>chr1</td><td>32696984</td><td>32696985</td><td>AG</td><td>1</td><td>-</td><td>CGTGTAATCAGTGTTG</td><td>1:1</td><td>20</td><td>chr1_32696985</td><td>donor_ds_4_A   </td><td>ENST00000678306.1_1</td></tr>\n",
       "\t<tr><th scope=row>10422127</th><td>chr1</td><td>32696993</td><td>32696994</td><td>AG</td><td>1</td><td>-</td><td>CGTGTAATCAGTGTTG</td><td>1:1</td><td>20</td><td>chr1_32696994</td><td>acceptor_us_1_G</td><td>ENST00000489353.6_2</td></tr>\n",
       "\t<tr><th scope=row>10423805</th><td>chr1</td><td>33097659</td><td>33097660</td><td>TC</td><td>1</td><td>+</td><td>GTTTCTACAAGCGAGT</td><td>3:3</td><td>20</td><td>chr1_33097660</td><td>donor_ds_1_G   </td><td>ENST00000467652.5_3</td></tr>\n",
       "</tbody>\n",
       "</table>\n"
      ],
      "text/latex": [
       "A data.frame: 6 × 12\n",
       "\\begin{tabular}{r|llllllllllll}\n",
       "  & V1 & V2 & V3 & V4 & V5 & V6 & V7 & V8 & V9 & V10 & V11 & V12\\\\\n",
       "  & <chr> & <int> & <int> & <chr> & <int> & <chr> & <chr> & <chr> & <int> & <chr> & <chr> & <chr>\\\\\n",
       "\\hline\n",
       "\t10355292 & chr1 &  1419947 &  1419948 & AG & 1 & - & TACCTTACATCATCCC & 1:1 & 20 & chr1\\_1419948  & donor\\_us\\_1      & ENST00000474481.1\\_1\\\\\n",
       "\t10394882 & chr1 & 21219604 & 21219605 & TC & 1 & + & TGGACGCCAGACGTAG & 1:1 & 20 & chr1\\_21219605 & acceptor\\_ds\\_1   & ENST00000374933.3\\_3\\\\\n",
       "\t10416512 & chr1 & 29500007 & 29500008 & TC & 3 & + & ATCATGGCAGATAATG & 1:1 & 20 & chr1\\_29500008 & donor\\_ds\\_2\\_T    & ENST00000634348.1\\_3\\\\\n",
       "\t10422126 & chr1 & 32696984 & 32696985 & AG & 1 & - & CGTGTAATCAGTGTTG & 1:1 & 20 & chr1\\_32696985 & donor\\_ds\\_4\\_A    & ENST00000678306.1\\_1\\\\\n",
       "\t10422127 & chr1 & 32696993 & 32696994 & AG & 1 & - & CGTGTAATCAGTGTTG & 1:1 & 20 & chr1\\_32696994 & acceptor\\_us\\_1\\_G & ENST00000489353.6\\_2\\\\\n",
       "\t10423805 & chr1 & 33097659 & 33097660 & TC & 1 & + & GTTTCTACAAGCGAGT & 3:3 & 20 & chr1\\_33097660 & donor\\_ds\\_1\\_G    & ENST00000467652.5\\_3\\\\\n",
       "\\end{tabular}\n"
      ],
      "text/markdown": [
       "\n",
       "A data.frame: 6 × 12\n",
       "\n",
       "| <!--/--> | V1 &lt;chr&gt; | V2 &lt;int&gt; | V3 &lt;int&gt; | V4 &lt;chr&gt; | V5 &lt;int&gt; | V6 &lt;chr&gt; | V7 &lt;chr&gt; | V8 &lt;chr&gt; | V9 &lt;int&gt; | V10 &lt;chr&gt; | V11 &lt;chr&gt; | V12 &lt;chr&gt; |\n",
       "|---|---|---|---|---|---|---|---|---|---|---|---|---|\n",
       "| 10355292 | chr1 |  1419947 |  1419948 | AG | 1 | - | TACCTTACATCATCCC | 1:1 | 20 | chr1_1419948  | donor_us_1      | ENST00000474481.1_1 |\n",
       "| 10394882 | chr1 | 21219604 | 21219605 | TC | 1 | + | TGGACGCCAGACGTAG | 1:1 | 20 | chr1_21219605 | acceptor_ds_1   | ENST00000374933.3_3 |\n",
       "| 10416512 | chr1 | 29500007 | 29500008 | TC | 3 | + | ATCATGGCAGATAATG | 1:1 | 20 | chr1_29500008 | donor_ds_2_T    | ENST00000634348.1_3 |\n",
       "| 10422126 | chr1 | 32696984 | 32696985 | AG | 1 | - | CGTGTAATCAGTGTTG | 1:1 | 20 | chr1_32696985 | donor_ds_4_A    | ENST00000678306.1_1 |\n",
       "| 10422127 | chr1 | 32696993 | 32696994 | AG | 1 | - | CGTGTAATCAGTGTTG | 1:1 | 20 | chr1_32696994 | acceptor_us_1_G | ENST00000489353.6_2 |\n",
       "| 10423805 | chr1 | 33097659 | 33097660 | TC | 1 | + | GTTTCTACAAGCGAGT | 3:3 | 20 | chr1_33097660 | donor_ds_1_G    | ENST00000467652.5_3 |\n",
       "\n"
      ],
      "text/plain": [
       "         V1   V2       V3       V4 V5 V6 V7               V8  V9 V10          \n",
       "10355292 chr1  1419947  1419948 AG 1  -  TACCTTACATCATCCC 1:1 20 chr1_1419948 \n",
       "10394882 chr1 21219604 21219605 TC 1  +  TGGACGCCAGACGTAG 1:1 20 chr1_21219605\n",
       "10416512 chr1 29500007 29500008 TC 3  +  ATCATGGCAGATAATG 1:1 20 chr1_29500008\n",
       "10422126 chr1 32696984 32696985 AG 1  -  CGTGTAATCAGTGTTG 1:1 20 chr1_32696985\n",
       "10422127 chr1 32696993 32696994 AG 1  -  CGTGTAATCAGTGTTG 1:1 20 chr1_32696994\n",
       "10423805 chr1 33097659 33097660 TC 1  +  GTTTCTACAAGCGAGT 3:3 20 chr1_33097660\n",
       "         V11             V12                \n",
       "10355292 donor_us_1      ENST00000474481.1_1\n",
       "10394882 acceptor_ds_1   ENST00000374933.3_3\n",
       "10416512 donor_ds_2_T    ENST00000634348.1_3\n",
       "10422126 donor_ds_4_A    ENST00000678306.1_1\n",
       "10422127 acceptor_us_1_G ENST00000489353.6_2\n",
       "10423805 donor_ds_1_G    ENST00000467652.5_3"
      ]
     },
     "metadata": {},
     "output_type": "display_data"
    }
   ],
   "source": [
    "head(resInSpliceSites)"
   ]
  },
  {
   "cell_type": "code",
   "execution_count": 25,
   "metadata": {},
   "outputs": [
    {
     "data": {
      "text/html": [
       "989"
      ],
      "text/latex": [
       "989"
      ],
      "text/markdown": [
       "989"
      ],
      "text/plain": [
       "[1] 989"
      ]
     },
     "metadata": {},
     "output_type": "display_data"
    }
   ],
   "source": [
    "#计算as site有RES的iso数量，不去重\n",
    "length(unique(resInSpliceSites$V10))"
   ]
  },
  {
   "cell_type": "code",
   "execution_count": 26,
   "metadata": {},
   "outputs": [
    {
     "data": {
      "text/html": [
       "<style>\n",
       ".list-inline {list-style: none; margin:0; padding: 0}\n",
       ".list-inline>li {display: inline-block}\n",
       ".list-inline>li:not(:last-child)::after {content: \"\\00b7\"; padding: 0 .5ex}\n",
       "</style>\n",
       "<ol class=list-inline><li>'chr1_1419867'</li><li>'chr1_1419888'</li><li>'chr1_1419898'</li><li>'chr1_1419948'</li><li>'chr1_1418942'</li><li>'chr1_1418966'</li></ol>\n"
      ],
      "text/latex": [
       "\\begin{enumerate*}\n",
       "\\item 'chr1\\_1419867'\n",
       "\\item 'chr1\\_1419888'\n",
       "\\item 'chr1\\_1419898'\n",
       "\\item 'chr1\\_1419948'\n",
       "\\item 'chr1\\_1418942'\n",
       "\\item 'chr1\\_1418966'\n",
       "\\end{enumerate*}\n"
      ],
      "text/markdown": [
       "1. 'chr1_1419867'\n",
       "2. 'chr1_1419888'\n",
       "3. 'chr1_1419898'\n",
       "4. 'chr1_1419948'\n",
       "5. 'chr1_1418942'\n",
       "6. 'chr1_1418966'\n",
       "\n",
       "\n"
      ],
      "text/plain": [
       "[1] \"chr1_1419867\" \"chr1_1419888\" \"chr1_1419898\" \"chr1_1419948\" \"chr1_1418942\"\n",
       "[6] \"chr1_1418966\""
      ]
     },
     "metadata": {},
     "output_type": "display_data"
    },
    {
     "data": {
      "text/html": [
       "47786"
      ],
      "text/latex": [
       "47786"
      ],
      "text/markdown": [
       "47786"
      ],
      "text/plain": [
       "[1] 47786"
      ]
     },
     "metadata": {},
     "output_type": "display_data"
    }
   ],
   "source": [
    "#发生在retained itron上的所有编辑位点\n",
    "ctr_res_in_iso_IR_region <- read.table(\"/disk1/wenqing/tmp_data/ASD/ctr_male_pfc/iso_retained_intron/ctr_res_in_iso_IR_region_exd.txt\")$V1\n",
    "head(ctr_res_in_iso_IR_region)\n",
    "length(setdiff(unique(ctr_res_in_iso_IR_region),unique(resInSpliceSites$V10)))"
   ]
  },
  {
   "cell_type": "code",
   "execution_count": null,
   "metadata": {},
   "outputs": [
    {
     "data": {
      "text/html": [
       "21416"
      ],
      "text/latex": [
       "21416"
      ],
      "text/markdown": [
       "21416"
      ],
      "text/plain": [
       "[1] 21416"
      ]
     },
     "metadata": {},
     "output_type": "display_data"
    }
   ],
   "source": [
    "length(unique(iso_IR_exon_region$isoform_id))"
   ]
  },
  {
   "cell_type": "code",
   "execution_count": null,
   "metadata": {},
   "outputs": [
    {
     "data": {
      "text/html": [
       "20872"
      ],
      "text/latex": [
       "20872"
      ],
      "text/markdown": [
       "20872"
      ],
      "text/plain": [
       "[1] 20872"
      ]
     },
     "metadata": {},
     "output_type": "display_data"
    }
   ],
   "source": [
    "length(unique(setdiff(iso_IR_exon_region$isoform_id,unique(resInSpliceSites$V12))))"
   ]
  },
  {
   "cell_type": "code",
   "execution_count": null,
   "metadata": {},
   "outputs": [
    {
     "data": {
      "text/html": [
       "<style>\n",
       ".list-inline {list-style: none; margin:0; padding: 0}\n",
       ".list-inline>li {display: inline-block}\n",
       ".list-inline>li:not(:last-child)::after {content: \"\\00b7\"; padding: 0 .5ex}\n",
       "</style>\n",
       "<ol class=list-inline><li>192849</li><li>2</li></ol>\n"
      ],
      "text/latex": [
       "\\begin{enumerate*}\n",
       "\\item 192849\n",
       "\\item 2\n",
       "\\end{enumerate*}\n"
      ],
      "text/markdown": [
       "1. 192849\n",
       "2. 2\n",
       "\n",
       "\n"
      ],
      "text/plain": [
       "[1] 192849      2"
      ]
     },
     "metadata": {},
     "output_type": "display_data"
    }
   ],
   "source": [
    "resInInIsoIR_region <- read.table(\"/disk1/wenqing/tmp_data/ctr/iso_IR_RES.txt\")\n"
   ]
  },
  {
   "cell_type": "code",
   "execution_count": null,
   "metadata": {},
   "outputs": [
    {
     "data": {
      "text/html": [
       "<table class=\"dataframe\">\n",
       "<caption>A data.frame: 6 × 2</caption>\n",
       "<thead>\n",
       "\t<tr><th></th><th scope=col>V1</th><th scope=col>V2</th></tr>\n",
       "\t<tr><th></th><th scope=col>&lt;chr&gt;</th><th scope=col>&lt;chr&gt;</th></tr>\n",
       "</thead>\n",
       "<tbody>\n",
       "\t<tr><th scope=row>1</th><td>chr1_1554509</td><td>ENST00000477990.1_1</td></tr>\n",
       "\t<tr><th scope=row>2</th><td>chr1_1554510</td><td>ENST00000477990.1_1</td></tr>\n",
       "\t<tr><th scope=row>3</th><td>chr1_1554511</td><td>ENST00000477990.1_1</td></tr>\n",
       "\t<tr><th scope=row>4</th><td>chr1_1554560</td><td>ENST00000477990.1_1</td></tr>\n",
       "\t<tr><th scope=row>5</th><td>chr1_1554564</td><td>ENST00000477990.1_1</td></tr>\n",
       "\t<tr><th scope=row>6</th><td>chr1_1554583</td><td>ENST00000477990.1_1</td></tr>\n",
       "</tbody>\n",
       "</table>\n"
      ],
      "text/latex": [
       "A data.frame: 6 × 2\n",
       "\\begin{tabular}{r|ll}\n",
       "  & V1 & V2\\\\\n",
       "  & <chr> & <chr>\\\\\n",
       "\\hline\n",
       "\t1 & chr1\\_1554509 & ENST00000477990.1\\_1\\\\\n",
       "\t2 & chr1\\_1554510 & ENST00000477990.1\\_1\\\\\n",
       "\t3 & chr1\\_1554511 & ENST00000477990.1\\_1\\\\\n",
       "\t4 & chr1\\_1554560 & ENST00000477990.1\\_1\\\\\n",
       "\t5 & chr1\\_1554564 & ENST00000477990.1\\_1\\\\\n",
       "\t6 & chr1\\_1554583 & ENST00000477990.1\\_1\\\\\n",
       "\\end{tabular}\n"
      ],
      "text/markdown": [
       "\n",
       "A data.frame: 6 × 2\n",
       "\n",
       "| <!--/--> | V1 &lt;chr&gt; | V2 &lt;chr&gt; |\n",
       "|---|---|---|\n",
       "| 1 | chr1_1554509 | ENST00000477990.1_1 |\n",
       "| 2 | chr1_1554510 | ENST00000477990.1_1 |\n",
       "| 3 | chr1_1554511 | ENST00000477990.1_1 |\n",
       "| 4 | chr1_1554560 | ENST00000477990.1_1 |\n",
       "| 5 | chr1_1554564 | ENST00000477990.1_1 |\n",
       "| 6 | chr1_1554583 | ENST00000477990.1_1 |\n",
       "\n"
      ],
      "text/plain": [
       "  V1           V2                 \n",
       "1 chr1_1554509 ENST00000477990.1_1\n",
       "2 chr1_1554510 ENST00000477990.1_1\n",
       "3 chr1_1554511 ENST00000477990.1_1\n",
       "4 chr1_1554560 ENST00000477990.1_1\n",
       "5 chr1_1554564 ENST00000477990.1_1\n",
       "6 chr1_1554583 ENST00000477990.1_1"
      ]
     },
     "metadata": {},
     "output_type": "display_data"
    }
   ],
   "source": [
    "head(resInInIsoIR_region)\n"
   ]
  },
  {
   "cell_type": "code",
   "execution_count": null,
   "metadata": {},
   "outputs": [
    {
     "data": {
      "text/html": [
       "<style>\n",
       ".list-inline {list-style: none; margin:0; padding: 0}\n",
       ".list-inline>li {display: inline-block}\n",
       ".list-inline>li:not(:last-child)::after {content: \"\\00b7\"; padding: 0 .5ex}\n",
       "</style>\n",
       "<ol class=list-inline><li>192634</li><li>2</li></ol>\n"
      ],
      "text/latex": [
       "\\begin{enumerate*}\n",
       "\\item 192634\n",
       "\\item 2\n",
       "\\end{enumerate*}\n"
      ],
      "text/markdown": [
       "1. 192634\n",
       "2. 2\n",
       "\n",
       "\n"
      ],
      "text/plain": [
       "[1] 192634      2"
      ]
     },
     "metadata": {},
     "output_type": "display_data"
    },
    {
     "data": {
      "text/html": [
       "2133"
      ],
      "text/latex": [
       "2133"
      ],
      "text/markdown": [
       "2133"
      ],
      "text/plain": [
       "[1] 2133"
      ]
     },
     "metadata": {},
     "output_type": "display_data"
    }
   ],
   "source": [
    "resNotInSpliceSites <- resInInIsoIR_region[!(resInInIsoIR_region$V1 %in% resInSpliceSites$V10),]\n",
    "dim(resNotInSpliceSites)\n",
    "length(unique(resNotInSpliceSites$V2))"
   ]
  },
  {
   "cell_type": "code",
   "execution_count": null,
   "metadata": {},
   "outputs": [],
   "source": [
    "#下面为未发生IR的iso"
   ]
  },
  {
   "cell_type": "code",
   "execution_count": 27,
   "metadata": {},
   "outputs": [],
   "source": [
    "#res是否落在可变剪接的供受体位点上\n",
    "#构建供受体位点上下游5bp的潜在res位点\n",
    "donor_sites_2 <- paste0(iso_no_IR_exon_region$seqnames,\"_\",as.character(as.integer(iso_no_IR_exon_region$end)+2))\n",
    "donor_sites_1 <- paste0(iso_no_IR_exon_region$seqnames,\"_\",as.character(as.integer(iso_no_IR_exon_region$end)+1))\n",
    "donor_sites_3 <- paste0(iso_no_IR_exon_region$seqnames,\"_\",as.character(as.integer(iso_no_IR_exon_region$end)+3))\n",
    "donor_sites_4 <- paste0(iso_no_IR_exon_region$seqnames,\"_\",as.character(as.integer(iso_no_IR_exon_region$end)+4))\n",
    "donor_sites_5 <- paste0(iso_no_IR_exon_region$seqnames,\"_\",as.character(as.integer(iso_no_IR_exon_region$end)+5))\n",
    "donor_sites_2_neg <- paste0(iso_no_IR_exon_region$seqnames,\"_\",as.character(as.integer(iso_no_IR_exon_region$end)-2))\n",
    "donor_sites_1_neg <- paste0(iso_no_IR_exon_region$seqnames,\"_\",as.character(as.integer(iso_no_IR_exon_region$end)-1))\n",
    "donor_sites_3_neg <- paste0(iso_no_IR_exon_region$seqnames,\"_\",as.character(as.integer(iso_no_IR_exon_region$end)-3))\n",
    "donor_sites_4_neg <- paste0(iso_no_IR_exon_region$seqnames,\"_\",as.character(as.integer(iso_no_IR_exon_region$end)-4))\n",
    "donor_sites_5_neg <- paste0(iso_no_IR_exon_region$seqnames,\"_\",as.character(as.integer(iso_no_IR_exon_region$end)-5))\n",
    "\n",
    "acceptor_sites_2 <- paste0(iso_no_IR_exon_region$seqnames,\"_\",as.character(as.integer(iso_no_IR_exon_region$start)-2))\n",
    "acceptor_sites_1 <- paste0(iso_no_IR_exon_region$seqnames,\"_\",as.character(as.integer(iso_no_IR_exon_region$start)-1))\n",
    "acceptor_sites_3 <- paste0(iso_no_IR_exon_region$seqnames,\"_\",as.character(as.integer(iso_no_IR_exon_region$start)-3))\n",
    "acceptor_sites_4 <- paste0(iso_no_IR_exon_region$seqnames,\"_\",as.character(as.integer(iso_no_IR_exon_region$start)-4))\n",
    "acceptor_sites_5 <- paste0(iso_no_IR_exon_region$seqnames,\"_\",as.character(as.integer(iso_no_IR_exon_region$start)-5))\n",
    "\n",
    "acceptor_sites_2_pos <- paste0(iso_no_IR_exon_region$seqnames,\"_\",as.character(as.integer(iso_no_IR_exon_region$start)+2))\n",
    "acceptor_sites_1_pos <- paste0(iso_no_IR_exon_region$seqnames,\"_\",as.character(as.integer(iso_no_IR_exon_region$start)+1))\n",
    "acceptor_sites_3_pos <- paste0(iso_no_IR_exon_region$seqnames,\"_\",as.character(as.integer(iso_no_IR_exon_region$start)+3))\n",
    "acceptor_sites_4_pos <- paste0(iso_no_IR_exon_region$seqnames,\"_\",as.character(as.integer(iso_no_IR_exon_region$start)+4))\n",
    "acceptor_sites_5_pos <- paste0(iso_no_IR_exon_region$seqnames,\"_\",as.character(as.integer(iso_no_IR_exon_region$start)+5))\n",
    "\n",
    "\n",
    "all_possible_sites <- c(donor_sites_1,donor_sites_2,donor_sites_3,donor_sites_4,donor_sites_5,acceptor_sites_1,acceptor_sites_2,acceptor_sites_3,acceptor_sites_4,acceptor_sites_5,\n",
    "                        donor_sites_1_neg,donor_sites_2_neg,donor_sites_3_neg,donor_sites_4_neg,donor_sites_5_neg,\n",
    "                        acceptor_sites_1_pos,acceptor_sites_2_pos,acceptor_sites_3_pos,acceptor_sites_4_pos,acceptor_sites_5_pos)\n",
    "\n",
    "donor_sites_info <- c(rep(\"donor_ds_1_G\",times=length(iso_no_IR_exon_region$seqnames)),rep(\"donor_ds_2_T\",times=length(iso_no_IR_exon_region$seqnames)),rep(\"donor_ds_3_A_G\",times=length(iso_no_IR_exon_region$seqnames)),rep(\"donor_ds_4_A\",times=length(iso_no_IR_exon_region$seqnames)),rep(\"donor_ds_5_G\",times=length(iso_no_IR_exon_region$seqnames)),\n",
    "                        rep(\"donor_us_1\",times=length(iso_no_IR_exon_region$seqnames)),rep(\"donor_us_2\",times=length(iso_no_IR_exon_region$seqnames)),rep(\"donor_us_3\",times=length(iso_no_IR_exon_region$seqnames)),rep(\"donor_us_4\",times=length(iso_no_IR_exon_region$seqnames)),rep(\"donor_us_5\",times=length(iso_no_IR_exon_region$seqnames)))\n",
    "acceptor_sites_info <- c(rep(\"acceptor_us_1_G\",times=length(iso_no_IR_exon_region$seqnames)),rep(\"acceptor_us_2_A\",times=length(iso_no_IR_exon_region$seqnames)),rep(\"acceptor_us_3_C_T\",times=length(iso_no_IR_exon_region$seqnames)),rep(\"acceptor_us_4_N\",times=length(iso_no_IR_exon_region$seqnames)),rep(\"acceptor_us_5_C_T\",times=length(iso_no_IR_exon_region$seqnames)),\n",
    "                        rep(\"acceptor_ds_1\",times=length(iso_no_IR_exon_region$seqnames)),rep(\"acceptor_ds_2\",times=length(iso_no_IR_exon_region$seqnames)),rep(\"acceptor_ds_3\",times=length(iso_no_IR_exon_region$seqnames)),rep(\"acceptor_ds_4\",times=length(iso_no_IR_exon_region$seqnames)),rep(\"acceptor_ds_5\",times=length(iso_no_IR_exon_region$seqnames)))\n",
    "\n",
    "all_sites_info <- c(donor_sites_info,acceptor_sites_info)\n",
    "\n",
    "isoform_id <- rep(iso_no_IR_exon_region$isoform_id,times=20)\n",
    "\n",
    "all_sites <- as.data.frame(cbind(all_possible_sites,all_sites_info,isoform_id))"
   ]
  },
  {
   "cell_type": "code",
   "execution_count": 28,
   "metadata": {},
   "outputs": [
    {
     "data": {
      "text/html": [
       "<style>\n",
       ".list-inline {list-style: none; margin:0; padding: 0}\n",
       ".list-inline>li {display: inline-block}\n",
       ".list-inline>li:not(:last-child)::after {content: \"\\00b7\"; padding: 0 .5ex}\n",
       "</style>\n",
       "<ol class=list-inline><li>13887800</li><li>3</li></ol>\n"
      ],
      "text/latex": [
       "\\begin{enumerate*}\n",
       "\\item 13887800\n",
       "\\item 3\n",
       "\\end{enumerate*}\n"
      ],
      "text/markdown": [
       "1. 13887800\n",
       "2. 3\n",
       "\n",
       "\n"
      ],
      "text/plain": [
       "[1] 13887800        3"
      ]
     },
     "metadata": {},
     "output_type": "display_data"
    },
    {
     "data": {
      "text/html": [
       "<table class=\"dataframe\">\n",
       "<caption>A data.frame: 6 × 3</caption>\n",
       "<thead>\n",
       "\t<tr><th></th><th scope=col>site</th><th scope=col>info</th><th scope=col>iso_id</th></tr>\n",
       "\t<tr><th></th><th scope=col>&lt;chr&gt;</th><th scope=col>&lt;chr&gt;</th><th scope=col>&lt;chr&gt;</th></tr>\n",
       "</thead>\n",
       "<tbody>\n",
       "\t<tr><th scope=row>1</th><td>chr1_65434 </td><td>donor_ds_1_G</td><td>ENST00000641515.2_5</td></tr>\n",
       "\t<tr><th scope=row>2</th><td>chr1_65574 </td><td>donor_ds_1_G</td><td>ENST00000641515.2_5</td></tr>\n",
       "\t<tr><th scope=row>3</th><td>chr1_71586 </td><td>donor_ds_1_G</td><td>ENST00000641515.2_5</td></tr>\n",
       "\t<tr><th scope=row>4</th><td>chr1_134837</td><td>donor_ds_1_G</td><td>ENST00000442987.3_2</td></tr>\n",
       "\t<tr><th scope=row>5</th><td>chr1_160691</td><td>donor_ds_1_G</td><td>ENST00000496488.1_5</td></tr>\n",
       "\t<tr><th scope=row>6</th><td>chr1_161526</td><td>donor_ds_1_G</td><td>ENST00000496488.1_5</td></tr>\n",
       "</tbody>\n",
       "</table>\n"
      ],
      "text/latex": [
       "A data.frame: 6 × 3\n",
       "\\begin{tabular}{r|lll}\n",
       "  & site & info & iso\\_id\\\\\n",
       "  & <chr> & <chr> & <chr>\\\\\n",
       "\\hline\n",
       "\t1 & chr1\\_65434  & donor\\_ds\\_1\\_G & ENST00000641515.2\\_5\\\\\n",
       "\t2 & chr1\\_65574  & donor\\_ds\\_1\\_G & ENST00000641515.2\\_5\\\\\n",
       "\t3 & chr1\\_71586  & donor\\_ds\\_1\\_G & ENST00000641515.2\\_5\\\\\n",
       "\t4 & chr1\\_134837 & donor\\_ds\\_1\\_G & ENST00000442987.3\\_2\\\\\n",
       "\t5 & chr1\\_160691 & donor\\_ds\\_1\\_G & ENST00000496488.1\\_5\\\\\n",
       "\t6 & chr1\\_161526 & donor\\_ds\\_1\\_G & ENST00000496488.1\\_5\\\\\n",
       "\\end{tabular}\n"
      ],
      "text/markdown": [
       "\n",
       "A data.frame: 6 × 3\n",
       "\n",
       "| <!--/--> | site &lt;chr&gt; | info &lt;chr&gt; | iso_id &lt;chr&gt; |\n",
       "|---|---|---|---|\n",
       "| 1 | chr1_65434  | donor_ds_1_G | ENST00000641515.2_5 |\n",
       "| 2 | chr1_65574  | donor_ds_1_G | ENST00000641515.2_5 |\n",
       "| 3 | chr1_71586  | donor_ds_1_G | ENST00000641515.2_5 |\n",
       "| 4 | chr1_134837 | donor_ds_1_G | ENST00000442987.3_2 |\n",
       "| 5 | chr1_160691 | donor_ds_1_G | ENST00000496488.1_5 |\n",
       "| 6 | chr1_161526 | donor_ds_1_G | ENST00000496488.1_5 |\n",
       "\n"
      ],
      "text/plain": [
       "  site        info         iso_id             \n",
       "1 chr1_65434  donor_ds_1_G ENST00000641515.2_5\n",
       "2 chr1_65574  donor_ds_1_G ENST00000641515.2_5\n",
       "3 chr1_71586  donor_ds_1_G ENST00000641515.2_5\n",
       "4 chr1_134837 donor_ds_1_G ENST00000442987.3_2\n",
       "5 chr1_160691 donor_ds_1_G ENST00000496488.1_5\n",
       "6 chr1_161526 donor_ds_1_G ENST00000496488.1_5"
      ]
     },
     "metadata": {},
     "output_type": "display_data"
    },
    {
     "data": {
      "text/html": [
       "<style>\n",
       ".list-inline {list-style: none; margin:0; padding: 0}\n",
       ".list-inline>li {display: inline-block}\n",
       ".list-inline>li:not(:last-child)::after {content: \"\\00b7\"; padding: 0 .5ex}\n",
       "</style>\n",
       "<ol class=list-inline><li>6661737</li><li>3</li></ol>\n"
      ],
      "text/latex": [
       "\\begin{enumerate*}\n",
       "\\item 6661737\n",
       "\\item 3\n",
       "\\end{enumerate*}\n"
      ],
      "text/markdown": [
       "1. 6661737\n",
       "2. 3\n",
       "\n",
       "\n"
      ],
      "text/plain": [
       "[1] 6661737       3"
      ]
     },
     "metadata": {},
     "output_type": "display_data"
    },
    {
     "data": {
      "text/html": [
       "<style>\n",
       ".list-inline {list-style: none; margin:0; padding: 0}\n",
       ".list-inline>li {display: inline-block}\n",
       ".list-inline>li:not(:last-child)::after {content: \"\\00b7\"; padding: 0 .5ex}\n",
       "</style>\n",
       "<ol class=list-inline><li>13420</li><li>12</li></ol>\n"
      ],
      "text/latex": [
       "\\begin{enumerate*}\n",
       "\\item 13420\n",
       "\\item 12\n",
       "\\end{enumerate*}\n"
      ],
      "text/markdown": [
       "1. 13420\n",
       "2. 12\n",
       "\n",
       "\n"
      ],
      "text/plain": [
       "[1] 13420    12"
      ]
     },
     "metadata": {},
     "output_type": "display_data"
    }
   ],
   "source": [
    "dim(all_sites)\n",
    "colnames(all_sites) <- c(\"site\",\"info\",\"iso_id\")\n",
    "head(all_sites)\n",
    "\n",
    "uniq_all_sites <- all_sites[!duplicated(all_sites$site),]\n",
    "dim(uniq_all_sites)\n",
    "\n",
    "rownames(uniq_all_sites) <- uniq_all_sites$site\n",
    "\n",
    "resInSpliceSites <- all_res[all_res$V10 %in% all_sites$site,]\n",
    "\n",
    "resInSpliceSites$V11 <- \"info\"\n",
    "resInSpliceSites$V11 <- uniq_all_sites[resInSpliceSites$V10,]$info\n",
    "resInSpliceSites$V12 <- \"iso_id\"\n",
    "resInSpliceSites$V12 <- uniq_all_sites[resInSpliceSites$V10,]$iso_id\n",
    "\n",
    "dim(resInSpliceSites)\n"
   ]
  },
  {
   "cell_type": "code",
   "execution_count": 29,
   "metadata": {},
   "outputs": [
    {
     "data": {
      "text/html": [
       "5101"
      ],
      "text/latex": [
       "5101"
      ],
      "text/markdown": [
       "5101"
      ],
      "text/plain": [
       "[1] 5101"
      ]
     },
     "metadata": {},
     "output_type": "display_data"
    }
   ],
   "source": [
    "length(unique(resInSpliceSites$V10))\n"
   ]
  },
  {
   "cell_type": "code",
   "execution_count": 30,
   "metadata": {},
   "outputs": [
    {
     "data": {
      "text/html": [
       "<style>\n",
       ".list-inline {list-style: none; margin:0; padding: 0}\n",
       ".list-inline>li {display: inline-block}\n",
       ".list-inline>li:not(:last-child)::after {content: \"\\00b7\"; padding: 0 .5ex}\n",
       "</style>\n",
       "<ol class=list-inline><li>'chr1_134210'</li><li>'chr1_134216'</li><li>'chr1_134232'</li><li>'chr1_134241'</li><li>'chr1_134245'</li><li>'chr1_134247'</li></ol>\n"
      ],
      "text/latex": [
       "\\begin{enumerate*}\n",
       "\\item 'chr1\\_134210'\n",
       "\\item 'chr1\\_134216'\n",
       "\\item 'chr1\\_134232'\n",
       "\\item 'chr1\\_134241'\n",
       "\\item 'chr1\\_134245'\n",
       "\\item 'chr1\\_134247'\n",
       "\\end{enumerate*}\n"
      ],
      "text/markdown": [
       "1. 'chr1_134210'\n",
       "2. 'chr1_134216'\n",
       "3. 'chr1_134232'\n",
       "4. 'chr1_134241'\n",
       "5. 'chr1_134245'\n",
       "6. 'chr1_134247'\n",
       "\n",
       "\n"
      ],
      "text/plain": [
       "[1] \"chr1_134210\" \"chr1_134216\" \"chr1_134232\" \"chr1_134241\" \"chr1_134245\"\n",
       "[6] \"chr1_134247\""
      ]
     },
     "metadata": {},
     "output_type": "display_data"
    },
    {
     "data": {
      "text/html": [
       "156380"
      ],
      "text/latex": [
       "156380"
      ],
      "text/markdown": [
       "156380"
      ],
      "text/plain": [
       "[1] 156380"
      ]
     },
     "metadata": {},
     "output_type": "display_data"
    }
   ],
   "source": [
    "ctr_res_in_iso_no_IR_region <- read.table(\"/disk1/wenqing/tmp_data/ASD/ctr_male_pfc/iso_retained_intron/ctr_res_in_iso_no_IR_region_exd.txt\")$V1\n",
    "head(ctr_res_in_iso_no_IR_region)\n",
    "length(setdiff(unique(ctr_res_in_iso_no_IR_region),unique(resInSpliceSites$V10)))"
   ]
  },
  {
   "cell_type": "code",
   "execution_count": null,
   "metadata": {},
   "outputs": [
    {
     "data": {
      "text/html": [
       "100265"
      ],
      "text/latex": [
       "100265"
      ],
      "text/markdown": [
       "100265"
      ],
      "text/plain": [
       "[1] 100265"
      ]
     },
     "metadata": {},
     "output_type": "display_data"
    }
   ],
   "source": [
    "length(unique(setdiff(iso_no_IR_exon_region$isoform_id,unique(resInSpliceSites$V12))))"
   ]
  },
  {
   "cell_type": "code",
   "execution_count": null,
   "metadata": {},
   "outputs": [
    {
     "data": {
      "text/html": [
       "102950"
      ],
      "text/latex": [
       "102950"
      ],
      "text/markdown": [
       "102950"
      ],
      "text/plain": [
       "[1] 102950"
      ]
     },
     "metadata": {},
     "output_type": "display_data"
    }
   ],
   "source": [
    "length(unique(iso_no_IR_exon_region$isoform_id))"
   ]
  },
  {
   "cell_type": "code",
   "execution_count": null,
   "metadata": {},
   "outputs": [],
   "source": [
    "\n",
    "resInInIsoIR_region <- read.table(\"/disk1/wenqing/tmp_data/ctr/iso_no_IR_RES.txt\")\n",
    "dim(resInInIsoIR_region)\n",
    "\n",
    "resNotInSpliceSites <- resInInIsoIR_region[!(resInInIsoIR_region$V1 %in% resInSpliceSites$V10),]\n",
    "dim(resNotInSpliceSites)\n",
    "length(unique(resNotInSpliceSites$V2))"
   ]
  },
  {
   "cell_type": "code",
   "execution_count": null,
   "metadata": {},
   "outputs": [
    {
     "data": {
      "text/html": [
       "1410"
      ],
      "text/latex": [
       "1410"
      ],
      "text/markdown": [
       "1410"
      ],
      "text/plain": [
       "[1] 1410"
      ]
     },
     "metadata": {},
     "output_type": "display_data"
    }
   ],
   "source": [
    "length(unique(resInSpliceSites$V12))"
   ]
  },
  {
   "cell_type": "code",
   "execution_count": 32,
   "metadata": {},
   "outputs": [
    {
     "data": {
      "text/html": [
       "<table class=\"dataframe\">\n",
       "<caption>A matrix: 2 × 2 of type dbl</caption>\n",
       "<thead>\n",
       "\t<tr><th></th><th scope=col>0</th><th scope=col>1</th></tr>\n",
       "</thead>\n",
       "<tbody>\n",
       "\t<tr><th scope=row>0</th><td> 989</td><td> 47786</td></tr>\n",
       "\t<tr><th scope=row>1</th><td>5101</td><td>156380</td></tr>\n",
       "</tbody>\n",
       "</table>\n"
      ],
      "text/latex": [
       "A matrix: 2 × 2 of type dbl\n",
       "\\begin{tabular}{r|ll}\n",
       "  & 0 & 1\\\\\n",
       "\\hline\n",
       "\t0 &  989 &  47786\\\\\n",
       "\t1 & 5101 & 156380\\\\\n",
       "\\end{tabular}\n"
      ],
      "text/markdown": [
       "\n",
       "A matrix: 2 × 2 of type dbl\n",
       "\n",
       "| <!--/--> | 0 | 1 |\n",
       "|---|---|---|\n",
       "| 0 |  989 |  47786 |\n",
       "| 1 | 5101 | 156380 |\n",
       "\n"
      ],
      "text/plain": [
       "  0    1     \n",
       "0  989  47786\n",
       "1 5101 156380"
      ]
     },
     "metadata": {},
     "output_type": "display_data"
    },
    {
     "data": {
      "text/plain": [
       "\n",
       "\tPearson's Chi-squared test with Yates' continuity correction\n",
       "\n",
       "data:  my_ka\n",
       "X-squared = 170.03, df = 1, p-value < 2.2e-16\n"
      ]
     },
     "metadata": {},
     "output_type": "display_data"
    }
   ],
   "source": [
    "my_ka <- matrix(c(989,47786,5101,156380),nrow=2,byrow=T)\n",
    "colnames(my_ka) <- c('0','1')\n",
    "\n",
    "rownames(my_ka) <- c('0','1')\n",
    "my_ka\n",
    "chisq.test(my_ka)"
   ]
  },
  {
   "cell_type": "code",
   "execution_count": 31,
   "metadata": {},
   "outputs": [
    {
     "data": {
      "text/html": [
       "0.0206964382873645"
      ],
      "text/latex": [
       "0.0206964382873645"
      ],
      "text/markdown": [
       "0.0206964382873645"
      ],
      "text/plain": [
       "[1] 0.02069644"
      ]
     },
     "metadata": {},
     "output_type": "display_data"
    },
    {
     "data": {
      "text/html": [
       "0.0326192607750352"
      ],
      "text/latex": [
       "0.0326192607750352"
      ],
      "text/markdown": [
       "0.0326192607750352"
      ],
      "text/plain": [
       "[1] 0.03261926"
      ]
     },
     "metadata": {},
     "output_type": "display_data"
    }
   ],
   "source": [
    "989/47786\n",
    "5101/156380\n"
   ]
  },
  {
   "cell_type": "code",
   "execution_count": null,
   "metadata": {},
   "outputs": [
    {
     "data": {
      "text/html": [
       "TRUE"
      ],
      "text/latex": [
       "TRUE"
      ],
      "text/markdown": [
       "TRUE"
      ],
      "text/plain": [
       "[1] TRUE"
      ]
     },
     "metadata": {},
     "output_type": "display_data"
    }
   ],
   "source": [
    "17"
   ]
  }
 ],
 "metadata": {
  "kernelspec": {
   "display_name": "Python 3.6.9 64-bit",
   "language": "python",
   "name": "python3"
  },
  "language_info": {
   "codemirror_mode": "r",
   "file_extension": ".r",
   "mimetype": "text/x-r-source",
   "name": "python",
   "pygments_lexer": "r",
   "version": "3.6.9"
  },
  "orig_nbformat": 4,
  "vscode": {
   "interpreter": {
    "hash": "31f2aee4e71d21fbe5cf8b01ff0e069b9275f58929596ceb00d14d90e3e16cd6"
   }
  }
 },
 "nbformat": 4,
 "nbformat_minor": 2
}
