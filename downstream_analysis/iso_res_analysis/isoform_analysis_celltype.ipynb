{
 "cells": [
  {
   "cell_type": "code",
   "execution_count": null,
   "metadata": {
    "vscode": {
     "languageId": "r"
    }
   },
   "outputs": [],
   "source": [
    "library(IRkernel)\n",
    "library(jsonlite)\n",
    "library(repr)\n",
    ".libPaths()\n",
    "library(DESeq2)\n",
    "library(IsoformSwitchAnalyzeR)"
   ]
  },
  {
   "cell_type": "code",
   "execution_count": 2,
   "metadata": {
    "vscode": {
     "languageId": "r"
    }
   },
   "outputs": [],
   "source": [
    "library(ggrepel)"
   ]
  },
  {
   "cell_type": "code",
   "execution_count": 108,
   "metadata": {
    "vscode": {
     "languageId": "r"
    }
   },
   "outputs": [
    {
     "name": "stderr",
     "output_type": "stream",
     "text": [
      "Step 1 of 3: Identifying which algorithm was used...\n",
      "\n",
      "    The quantification algorithm used was: Salmon\n",
      "\n",
      "    Found 6 quantification file(s) of interest\n",
      "\n",
      "Step 2 of 3: Reading data...\n",
      "\n",
      "reading in files with read_tsv\n",
      "\n",
      "1 \n",
      "2 \n",
      "3 \n",
      "4 \n",
      "5 \n",
      "6 \n",
      "\n",
      "\n",
      "Step 3 of 3: Normalizing abundance values (not counts) via edgeR...\n",
      "\n",
      "Done\n",
      "\n",
      "\n"
     ]
    },
    {
     "data": {
      "text/html": [
       "<table class=\"dataframe\">\n",
       "<caption>A data.frame: 6 × 2</caption>\n",
       "<thead>\n",
       "\t<tr><th scope=col>sampleID</th><th scope=col>condition</th></tr>\n",
       "\t<tr><th scope=col>&lt;chr&gt;</th><th scope=col>&lt;chr&gt;</th></tr>\n",
       "</thead>\n",
       "<tbody>\n",
       "\t<tr><td>17</td><td>ASD    </td></tr>\n",
       "\t<tr><td>18</td><td>ASD    </td></tr>\n",
       "\t<tr><td>57</td><td>ASD    </td></tr>\n",
       "\t<tr><td>20</td><td>Control</td></tr>\n",
       "\t<tr><td>32</td><td>Control</td></tr>\n",
       "\t<tr><td>56</td><td>Control</td></tr>\n",
       "</tbody>\n",
       "</table>\n"
      ],
      "text/latex": [
       "A data.frame: 6 × 2\n",
       "\\begin{tabular}{ll}\n",
       " sampleID & condition\\\\\n",
       " <chr> & <chr>\\\\\n",
       "\\hline\n",
       "\t 17 & ASD    \\\\\n",
       "\t 18 & ASD    \\\\\n",
       "\t 57 & ASD    \\\\\n",
       "\t 20 & Control\\\\\n",
       "\t 32 & Control\\\\\n",
       "\t 56 & Control\\\\\n",
       "\\end{tabular}\n"
      ],
      "text/markdown": [
       "\n",
       "A data.frame: 6 × 2\n",
       "\n",
       "| sampleID &lt;chr&gt; | condition &lt;chr&gt; |\n",
       "|---|---|\n",
       "| 17 | ASD     |\n",
       "| 18 | ASD     |\n",
       "| 57 | ASD     |\n",
       "| 20 | Control |\n",
       "| 32 | Control |\n",
       "| 56 | Control |\n",
       "\n"
      ],
      "text/plain": [
       "  sampleID condition\n",
       "1 17       ASD      \n",
       "2 18       ASD      \n",
       "3 57       ASD      \n",
       "4 20       Control  \n",
       "5 32       Control  \n",
       "6 56       Control  "
      ]
     },
     "metadata": {},
     "output_type": "display_data"
    },
    {
     "name": "stderr",
     "output_type": "stream",
     "text": [
      "Step 1 of 10: Checking data...\n",
      "\n",
      "Step 2 of 10: Obtaining annotation...\n",
      "\n",
      "    importing GTF (this may take a while)...\n",
      "\n",
      "Warning message in importRdata(isoformCountMatrix = isoformExpr$counts, isoformRepExpression = isoformExpr$abundance, :\n",
      "\"The annotation and quantification (count/abundance matrix and isoform annotation) Seem to be slightly different. \n",
      "Specifically:\n",
      " 324 isoforms were only found in the annotation\n",
      " \n",
      "Please make sure this is on purpouse since differences will cause inaccurate quantification and thereby skew all analysis.\n",
      " If you have quantified with Salmon this could be normal since it as default only keep one copy of identical sequnces (can be prevented using the --keepDuplicates option)\n",
      " We strongly encurage you to go back and figure out why this is the case.\n",
      "\n",
      "\"\n",
      "    169674 ( 67.23%) isoforms were removed since they were not expressed in any samples.\n",
      "\n",
      "Step 3 of 10: Fixing StringTie gene annoation problems...\n",
      "\n",
      "    There were no need to rescue any annotation\n",
      "\n",
      "    29527 genes_id were assigned their original gene_id instead of the StringTie gene_id.\n",
      "        This was only done when it could be done unambiguous.\n",
      "\n",
      "Step 4 of 10: Calculating expression estimates from count data...\n",
      "\n",
      "    Skipped as user supplied expression via the \"isoformRepExpression\" argument...\n",
      "\n",
      "Step 5 of 10: Testing for unwanted effects...\n",
      "\n",
      "    No unwanted effects added\n",
      "\n",
      "Step 6 of 10: Batch correcting expression estimates...\n",
      "\n",
      "    Skipped as no batch effects were found or annoated...\n",
      "\n",
      "Step 7 of 10: Extracting data from each condition...\n",
      "\n"
     ]
    },
    {
     "name": "stdout",
     "output_type": "stream",
     "text": [
      "  |======================================================================| 100%\n"
     ]
    },
    {
     "name": "stderr",
     "output_type": "stream",
     "text": [
      "Step 8 of 10: Making comparisons...\n",
      "\n"
     ]
    },
    {
     "name": "stdout",
     "output_type": "stream",
     "text": [
      "  |======================================================================| 100%\n"
     ]
    },
    {
     "name": "stderr",
     "output_type": "stream",
     "text": [
      "Step 9 of 10: Making switchAnalyzeRlist object...\n",
      "\n",
      "Warning message in createSwitchAnalyzeRlist(isoformFeatures = isoAnnot, exons = isoformExonStructure, :\n",
      "\"The gene_ids or isoform_ids were not unique - we identified multiple instances of the same gene_id/isoform_id on different chromosomes. To solve this we removed 20 gene_id. Please note there might still be duplicated gene_id located on the same chromosome. Some of these could be due to fusion transcripts which IsoformSwitchAnalyzeR cannot handle.\"\n",
      "Step 10 of 10: Guestimating differential usage...\n",
      "\n",
      "    The GUESSTIMATED number of genes with differential isoform usage are:\n",
      "\n"
     ]
    },
    {
     "name": "stdout",
     "output_type": "stream",
     "text": [
      "      comparison estimated_genes_with_dtu\n",
      "1 ASD vs Control                140 - 233\n"
     ]
    },
    {
     "name": "stderr",
     "output_type": "stream",
     "text": [
      "Done\n",
      "\n",
      "\n",
      "The filtering removed 35302 ( 42.81% of ) transcripts. There is now 47162 isoforms left\n",
      "\n"
     ]
    },
    {
     "data": {
      "text/html": [
       "<style>\n",
       ".list-inline {list-style: none; margin:0; padding: 0}\n",
       ".list-inline>li {display: inline-block}\n",
       ".list-inline>li:not(:last-child)::after {content: \"\\00b7\"; padding: 0 .5ex}\n",
       "</style>\n",
       "<ol class=list-inline><li>47162</li><li>7</li></ol>\n"
      ],
      "text/latex": [
       "\\begin{enumerate*}\n",
       "\\item 47162\n",
       "\\item 7\n",
       "\\end{enumerate*}\n"
      ],
      "text/markdown": [
       "1. 47162\n",
       "2. 7\n",
       "\n",
       "\n"
      ],
      "text/plain": [
       "[1] 47162     7"
      ]
     },
     "metadata": {},
     "output_type": "display_data"
    },
    {
     "data": {
      "text/html": [
       "82464"
      ],
      "text/latex": [
       "82464"
      ],
      "text/markdown": [
       "82464"
      ],
      "text/plain": [
       "[1] 82464"
      ]
     },
     "metadata": {},
     "output_type": "display_data"
    },
    {
     "data": {
      "text/html": [
       "47162"
      ],
      "text/latex": [
       "47162"
      ],
      "text/markdown": [
       "47162"
      ],
      "text/plain": [
       "[1] 47162"
      ]
     },
     "metadata": {},
     "output_type": "display_data"
    }
   ],
   "source": [
    "#每种细胞类型循环分析\n",
    "#celltypes <- c(\"Interneuron\",\"ExN\",\"L5_6\",\"L5_6_CC\",\"Olig\")\n",
    "celltypes <- c(\"L4\",\"L2_3_ExN\",\"IN_VIP\",\"L5_6\",\"L5_6_CC\",\"Olig\")\n",
    "i=6\n",
    "celltype <- celltypes[i]\n",
    "\n",
    "isoformExpr <- importIsoformExpression(parentDir=paste0(\"/disk1/wenqing/tmp_data/ASD/salmon_quant_gencode_celltype/\",celltype), pattern=\"quant.sf\")\n",
    "\n",
    "samples <- c(\"17\",\"18\",\"57\",\"20\",\"32\",\"56\")\n",
    "condictions <- c(rep_len(\"ASD\", 3), rep_len(\"Control\", 3))\n",
    "#samples <- c(\"17\",\"18\",\"57\")\n",
    "#condictions <- c(rep_len(\"ASD\", 2), rep_len(\"Control\", 1))\n",
    "designM <- data.frame(sampleID=samples, condition=condictions)\n",
    "designM\n",
    "#构建switchAnalyzeRlist 对象\n",
    "switchList <- importRdata(isoformCountMatrix=isoformExpr$counts, isoformRepExpression=isoformExpr$abundance, designMatrix=designM, isoformExonAnnoation=\"/disk1/wenqing/tmp_data/hg19/gencode.v44lift37.annotation.gtf\", isoformNtFasta=\"/disk1/wenqing/tmp_data/hg19/gencode.v44lift37.transcripts.fa\")\n",
    "#isoformExpressionCutoff:abundance为过滤指标，去掉在所有样本中均未表达的isoform\n",
    "#IFcutoff：IF usage为指标，isoform至少在一个样本中被使用\n",
    "switchListF <- preFilter(switchList)\n",
    "dim(switchListF$isoformCountMatrix)\n",
    "#write.csv(switchListF$isoformCountMatrix,\"/disk1/wenqing/tmp_data/ASD/isoformEx_abundance_filtered.csv\",quote=F)\n",
    "length(switchList$isoformFeatures$isoform_id)\n",
    "#prefilter过滤掉86519（61.33%）的isoform\n",
    "length(switchListF$isoformFeatures$isoform_id)\n"
   ]
  },
  {
   "cell_type": "code",
   "execution_count": 109,
   "metadata": {
    "vscode": {
     "languageId": "r"
    }
   },
   "outputs": [],
   "source": [
    "iso_retained_intron <- switchList$isoformFeatures$isoform_id[switchList$isoformFeatures$iso_biotype=='retained_intron']\n",
    "gene_retained_intron <- switchList$isoformFeatures$gene_id[switchList$isoformFeatures$iso_biotype=='retained_intron']\n",
    "iso_gene_retained_intron <- as.data.frame(cbind(iso_retained_intron,gene_retained_intron))\n",
    "rownames(iso_gene_retained_intron) <- iso_gene_retained_intron$iso_retained_intron\n",
    "write.table(iso_gene_retained_intron,paste0(\"/disk1/wenqing/tmp_data/ASD/asd_male_pfc/celltype_IR/\",celltype,\"_iso_gene_IR_info.txt\"),quote=F,col.names=F,row.names=F)\n",
    "rownames(switchList$isoformCountMatrix) <- switchList$isoformCountMatrix$isoform_id\n"
   ]
  },
  {
   "cell_type": "code",
   "execution_count": 110,
   "metadata": {
    "vscode": {
     "languageId": "r"
    }
   },
   "outputs": [
    {
     "data": {
      "text/html": [
       "5538"
      ],
      "text/latex": [
       "5538"
      ],
      "text/markdown": [
       "5538"
      ],
      "text/plain": [
       "[1] 5538"
      ]
     },
     "metadata": {},
     "output_type": "display_data"
    },
    {
     "data": {
      "text/html": [
       "24825"
      ],
      "text/latex": [
       "24825"
      ],
      "text/markdown": [
       "24825"
      ],
      "text/plain": [
       "[1] 24825"
      ]
     },
     "metadata": {},
     "output_type": "display_data"
    },
    {
     "data": {
      "text/html": [
       "10436"
      ],
      "text/latex": [
       "10436"
      ],
      "text/markdown": [
       "10436"
      ],
      "text/plain": [
       "[1] 10436"
      ]
     },
     "metadata": {},
     "output_type": "display_data"
    },
    {
     "data": {
      "text/html": [
       "44253"
      ],
      "text/latex": [
       "44253"
      ],
      "text/markdown": [
       "44253"
      ],
      "text/plain": [
       "[1] 44253"
      ]
     },
     "metadata": {},
     "output_type": "display_data"
    },
    {
     "data": {
      "text/html": [
       "6196"
      ],
      "text/latex": [
       "6196"
      ],
      "text/markdown": [
       "6196"
      ],
      "text/plain": [
       "[1] 6196"
      ]
     },
     "metadata": {},
     "output_type": "display_data"
    },
    {
     "data": {
      "text/html": [
       "26252"
      ],
      "text/latex": [
       "26252"
      ],
      "text/markdown": [
       "26252"
      ],
      "text/plain": [
       "[1] 26252"
      ]
     },
     "metadata": {},
     "output_type": "display_data"
    }
   ],
   "source": [
    "asd_iso_17 <- rownames(switchList$isoformCountMatrix)[switchList$isoformCountMatrix[,'17']!=0]\n",
    "asd_IR_iso_17 <- intersect(iso_retained_intron,asd_iso_17)\n",
    "asd_no_IR_iso_17 <- setdiff(asd_iso_17,iso_retained_intron)\n",
    "length(unique(asd_IR_iso_17))\n",
    "length(unique(asd_no_IR_iso_17))\n",
    "asd_iso_18 <- rownames(switchList$isoformCountMatrix)[switchList$isoformCountMatrix[,'18']!=0]\n",
    "asd_IR_iso_18 <- intersect(iso_retained_intron,asd_iso_18)\n",
    "asd_no_IR_iso_18 <- setdiff(asd_iso_18,iso_retained_intron)\n",
    "length(unique(asd_IR_iso_18))\n",
    "length(unique(asd_no_IR_iso_18))\n",
    "asd_iso_57 <- rownames(switchList$isoformCountMatrix)[switchList$isoformCountMatrix[,'57']!=0]\n",
    "asd_IR_iso_57 <- intersect(iso_retained_intron,asd_iso_57)\n",
    "asd_no_IR_iso_57 <- setdiff(asd_iso_57,iso_retained_intron)\n",
    "length(unique(asd_IR_iso_57))\n",
    "length(unique(asd_no_IR_iso_57))\n",
    "write.table(asd_IR_iso_57,paste0(\"/disk1/wenqing/tmp_data/ASD/asd_male_pfc/celltype_IR/iso_retained_intron/\",celltype,\"/57.txt\"),quote=F,row.names=F,col.names=F)\n",
    "write.table(asd_IR_iso_17,paste0(\"/disk1/wenqing/tmp_data/ASD/asd_male_pfc/celltype_IR/iso_retained_intron/\",celltype,\"/17.txt\"),quote=F,row.names=F,col.names=F)\n",
    "write.table(asd_IR_iso_18,paste0(\"/disk1/wenqing/tmp_data/ASD/asd_male_pfc/celltype_IR/iso_retained_intron/\",celltype,\"/18.txt\"),quote=F,row.names=F,col.names=F)\n",
    "write.table(asd_no_IR_iso_57,paste0(\"/disk1/wenqing/tmp_data/ASD/asd_male_pfc/celltype_IR/iso_retained_intron/\",celltype,\"/no_57.txt\"),quote=F,row.names=F,col.names=F)\n",
    "write.table(asd_no_IR_iso_18,paste0(\"/disk1/wenqing/tmp_data/ASD/asd_male_pfc/celltype_IR/iso_retained_intron/\",celltype,\"/no_18.txt\"),quote=F,row.names=F,col.names=F)\n",
    "write.table(asd_no_IR_iso_17,paste0(\"/disk1/wenqing/tmp_data/ASD/asd_male_pfc/celltype_IR/iso_retained_intron/\",celltype,\"/no_17.txt\"),quote=F,row.names=F,col.names=F)"
   ]
  },
  {
   "cell_type": "code",
   "execution_count": 111,
   "metadata": {
    "vscode": {
     "languageId": "r"
    }
   },
   "outputs": [],
   "source": [
    "#cat 17.txt 18.txt 57.txt > Olig_iso_IR.txt\n",
    "#cat no_17.txt no_18.txt no_57.txt > Olig_iso_no_IR.txt\n",
    "celltype_iso_IR <- read.table(paste0(\"/disk1/wenqing/tmp_data/ASD/asd_male_pfc/celltype_IR/iso_retained_intron/\",celltype,\"/\",celltype,\"_iso_IR.txt\"))$V1\n",
    "\n",
    "celltype_gene_IR <- iso_gene_retained_intron[celltype_iso_IR,'gene_retained_intron']\n",
    "#length(unique(celltype_gene_IR))\n",
    "celltype_down_genes <- read.table(paste0(\"/disk1/wenqing/tmp_data/ASD/asd_ctr_ei_change_genes/\",celltype,\"_down.txt\"))$x\n",
    "celltype_up_genes <- read.table(paste0(\"/disk1/wenqing/tmp_data/ASD/asd_ctr_ei_change_genes/\",celltype,\"_up.txt\"))$x\n",
    "\n",
    "write.table(intersect(celltype_down_genes,unique(celltype_gene_IR)),paste0(\"/disk1/wenqing/tmp_data/ASD/de_ei_iso_IR/\",celltype,\"_deEI_down_iso_IR.txt\"),quote=F,col.names=F,row.names=F)\n",
    "write.table(intersect(celltype_up_genes,unique(celltype_gene_IR)),paste0(\"/disk1/wenqing/tmp_data/ASD/de_ei_iso_IR/\",celltype,\"_deEI_up_iso_IR.txt\"),quote=F,col.names=F,row.names=F)\n"
   ]
  },
  {
   "cell_type": "code",
   "execution_count": 112,
   "metadata": {
    "vscode": {
     "languageId": "r"
    }
   },
   "outputs": [
    {
     "data": {
      "text/html": [
       "18"
      ],
      "text/latex": [
       "18"
      ],
      "text/markdown": [
       "18"
      ],
      "text/plain": [
       "[1] 18"
      ]
     },
     "metadata": {},
     "output_type": "display_data"
    },
    {
     "data": {
      "text/html": [
       "6038"
      ],
      "text/latex": [
       "6038"
      ],
      "text/markdown": [
       "6038"
      ],
      "text/plain": [
       "[1] 6038"
      ]
     },
     "metadata": {},
     "output_type": "display_data"
    }
   ],
   "source": [
    "sum(length(intersect(celltype_down_genes,unique(celltype_gene_IR))),length(intersect(celltype_up_genes,unique(celltype_gene_IR))))\n",
    "length(unique(celltype_gene_IR))"
   ]
  },
  {
   "cell_type": "code",
   "execution_count": 113,
   "metadata": {
    "vscode": {
     "languageId": "r"
    }
   },
   "outputs": [],
   "source": [
    "#cat no_17.txt no_18.txt no_57.txt > IN_VIP_iso_no_IR.txt\n",
    "celltype_iso_no_IR <- read.table(paste0(\"/disk1/wenqing/tmp_data/ASD/asd_male_pfc/celltype_IR/iso_retained_intron/\",celltype,\"/\",celltype,\"_iso_no_IR.txt\"))$V1\n",
    "\n",
    "celltype_gene_no_IR <- unique(switchList$isoformFeatures$gene_id[switchList$isoformFeatures$isoform_id %in% celltype_iso_no_IR])\n"
   ]
  },
  {
   "cell_type": "code",
   "execution_count": 114,
   "metadata": {
    "vscode": {
     "languageId": "r"
    }
   },
   "outputs": [
    {
     "data": {
      "text/html": [
       "47"
      ],
      "text/latex": [
       "47"
      ],
      "text/markdown": [
       "47"
      ],
      "text/plain": [
       "[1] 47"
      ]
     },
     "metadata": {},
     "output_type": "display_data"
    },
    {
     "data": {
      "text/html": [
       "25404"
      ],
      "text/latex": [
       "25404"
      ],
      "text/markdown": [
       "25404"
      ],
      "text/plain": [
       "[1] 25404"
      ]
     },
     "metadata": {},
     "output_type": "display_data"
    }
   ],
   "source": [
    "sum(length(intersect(celltype_down_genes,unique(celltype_gene_no_IR))),length(intersect(celltype_up_genes,unique(celltype_gene_no_IR))))\n",
    "length(unique(celltype_gene_no_IR))"
   ]
  },
  {
   "cell_type": "code",
   "execution_count": 107,
   "metadata": {
    "vscode": {
     "languageId": "r"
    }
   },
   "outputs": [],
   "source": [
    "\n",
    "write.table(intersect(celltype_down_genes,unique(celltype_gene_no_IR)),paste0(\"/disk1/wenqing/tmp_data/ASD/de_ei_iso_IR/\",celltype,\"_deEI_down_iso_no_IR.txt\"),quote=F,col.names=F,row.names=F)\n",
    "write.table(intersect(celltype_up_genes,unique(celltype_gene_no_IR)),paste0(\"/disk1/wenqing/tmp_data/ASD/de_ei_iso_IR/\",celltype,\"_deEI_up_iso_no_IR.txt\"),quote=F,col.names=F,row.names=F)\n"
   ]
  },
  {
   "cell_type": "code",
   "execution_count": 74,
   "metadata": {
    "vscode": {
     "languageId": "r"
    }
   },
   "outputs": [
    {
     "data": {
      "text/html": [
       "<table class=\"dataframe\">\n",
       "<caption>A matrix: 2 × 2 of type dbl</caption>\n",
       "<thead>\n",
       "\t<tr><th></th><th scope=col>0</th><th scope=col>1</th></tr>\n",
       "</thead>\n",
       "<tbody>\n",
       "\t<tr><th scope=row>0</th><td>90</td><td> 6250</td></tr>\n",
       "\t<tr><th scope=row>1</th><td>23</td><td>31316</td></tr>\n",
       "</tbody>\n",
       "</table>\n"
      ],
      "text/latex": [
       "A matrix: 2 × 2 of type dbl\n",
       "\\begin{tabular}{r|ll}\n",
       "  & 0 & 1\\\\\n",
       "\\hline\n",
       "\t0 & 90 &  6250\\\\\n",
       "\t1 & 23 & 31316\\\\\n",
       "\\end{tabular}\n"
      ],
      "text/markdown": [
       "\n",
       "A matrix: 2 × 2 of type dbl\n",
       "\n",
       "| <!--/--> | 0 | 1 |\n",
       "|---|---|---|\n",
       "| 0 | 90 |  6250 |\n",
       "| 1 | 23 | 31316 |\n",
       "\n"
      ],
      "text/plain": [
       "  0  1    \n",
       "0 90  6250\n",
       "1 23 31316"
      ]
     },
     "metadata": {},
     "output_type": "display_data"
    },
    {
     "data": {
      "text/plain": [
       "\n",
       "\tPearson's Chi-squared test with Yates' continuity correction\n",
       "\n",
       "data:  my_ka\n",
       "X-squared = 315.11, df = 1, p-value < 2.2e-16\n"
      ]
     },
     "metadata": {},
     "output_type": "display_data"
    }
   ],
   "source": [
    "my_ka <- matrix(c(90,6250,23,31316),nrow=2,byrow=T)\n",
    "colnames(my_ka) <- c('0','1')\n",
    "\n",
    "rownames(my_ka) <- c('0','1')\n",
    "my_ka\n",
    "chisq.test(my_ka)"
   ]
  },
  {
   "cell_type": "code",
   "execution_count": 75,
   "metadata": {
    "vscode": {
     "languageId": "r"
    }
   },
   "outputs": [
    {
     "data": {
      "text/html": [
       "0.0144"
      ],
      "text/latex": [
       "0.0144"
      ],
      "text/markdown": [
       "0.0144"
      ],
      "text/plain": [
       "[1] 0.0144"
      ]
     },
     "metadata": {},
     "output_type": "display_data"
    },
    {
     "data": {
      "text/html": [
       "0.000734448844041385"
      ],
      "text/latex": [
       "0.000734448844041385"
      ],
      "text/markdown": [
       "0.000734448844041385"
      ],
      "text/plain": [
       "[1] 0.0007344488"
      ]
     },
     "metadata": {},
     "output_type": "display_data"
    }
   ],
   "source": [
    "90/6250\n",
    "23/31316"
   ]
  },
  {
   "cell_type": "code",
   "execution_count": null,
   "metadata": {
    "vscode": {
     "languageId": "r"
    }
   },
   "outputs": [],
   "source": [
    "#isoformSwitchTestDEXSeq:分析差异表达的isoform\n",
    "#uses DEXSeq to test for differential isoform usage using the replicate count matrix.\n",
    "#dIFcutoff：过滤在两条件下IF usage没有改变的isoform\n",
    "switchListD <- isoformSwitchTestDEXSeq(switchAnalyzeRlist=switchListF, alpha=0.05)         \n",
    "ggplot(data=switchListD$isoformFeatures, aes(x=dIF, y=-log10(isoform_switch_q_value))) +\n",
    "  geom_point(\n",
    "    aes( color=abs(dIF) > 0.1 & isoform_switch_q_value < 0.05 ), # default cutoff\n",
    "    size=1\n",
    "  ) +\n",
    "  geom_hline(yintercept = -log10(0.05), linetype='dashed') + # default cutoff\n",
    "  geom_vline(xintercept = c(-0.1, 0.1), linetype='dashed') + # default cutoff\n",
    "  scale_color_manual('Signficant\\nIsoform Switch', values = c('black','red')) +\n",
    "  labs(x='dIF', y='-Log10 ( Isoform Switch Q Value )') +\n",
    "  theme_bw()\n",
    "\n",
    "#将差异表达isoform提取成表格\n",
    "attach(switchListD$isoformFeatures)\n",
    "de_isoform <- switchListD$isoformFeatures[abs(dIF) > 0.1 & isoform_switch_q_value < 0.05,]\n",
    "dim(de_isoform)\n",
    "write.csv(de_isoform,paste0(\"/disk1/wenqing/tmp_data/ASD/deEx_isoform_\",celltype,\".csv\"),quote=F)\n",
    "switchListO <- analyzeORF(switchListD)\n",
    "#提取转录本的核苷酸序列+氨基酸序列\n",
    "\n",
    "output_path <- paste0(\"/disk1/wenqing/tmp_data/ASD/IsoformSequence_\",celltype)\n",
    "\n",
    "switchListS <- extractSequence(switchListO, pathToOutput=output_path)\n",
    "extractSwitchSummary(switchListS)\n",
    "#分析一个isoform是否属于可变剪切的结果\n",
    "#将一个gene的isoform与该gene所有exon组成的pri-mRNA对比，得到该isoform的剪接形式\n",
    "switchListA <- analyzeAlternativeSplicing(switchListS)                                     \n",
    "names(switchListA)\n",
    "#switchListA$isoformFeatures$IR列代表：该isoform具有的intron retained的数量\n",
    "table(switchListA$isoformFeatures$IR)\n",
    "head(switchListA$AlternativeSplicingAnalysis)\n",
    "write.csv(switchListA$isoformFeatures[switchListA$isoformFeatures$IR!=0,],paste0(\"/disk1/wenqing/tmp_data/ASD/isoform_IR_\",celltype,\".csv\"),quote=F)\n",
    "write.csv(switchListA$AlternativeSplicingAnalysis[switchListA$AlternativeSplicingAnalysis$IR!=0,],paste0(\"/disk1/wenqing/tmp_data/ASD/isoform_IR/isoform_IR_\",celltype,\"_wzIRBorder.csv\"),quote=F)\n",
    "pdf(paste0(\"/disk1/wenqing/tmp_data/ASD/Iso_celltype_res/ASEvents/SplicingSummary_\",celltype,\".pdf\"))\n",
    "extractSplicingSummary(switchListA)\n",
    "extractSplicingEnrichment(switchListA)\n",
    "extractSplicingGenomeWide(switchListA)\n",
    "dev.off()\n",
    "\n",
    "#差异表达且发生IR的iso\n",
    "isoform_IR <- switchListA$isoformFeatures[switchListA$isoformFeatures$IR!=0,]\n",
    "de_isoform_IR <- isoform_IR[isoform_IR$isoform_id %in% de_isoform$isoform_id,]\n",
    "#dim(de_isoform_IR)\n",
    "#write.csv(de_isoform_IR,paste0(\"/disk1/wenqing/tmp_data/ASD/de_isoform_IR_\",celltype,\".csv\"),quote=F)\n"
   ]
  },
  {
   "cell_type": "code",
   "execution_count": 99,
   "metadata": {
    "vscode": {
     "languageId": "r"
    }
   },
   "outputs": [
    {
     "name": "stderr",
     "output_type": "stream",
     "text": [
      "Step 1 of 3: Identifying which algorithm was used...\n",
      "\n",
      "    The quantification algorithm used was: Salmon\n",
      "\n",
      "    Found 6 quantification file(s) of interest\n",
      "\n",
      "Step 2 of 3: Reading data...\n",
      "\n",
      "reading in files with read_tsv\n",
      "\n",
      "1 \n",
      "2 \n",
      "3 \n",
      "4 \n",
      "5 \n",
      "6 \n",
      "\n",
      "\n",
      "Step 3 of 3: Normalizing abundance values (not counts) via edgeR...\n",
      "\n",
      "Done\n",
      "\n",
      "\n"
     ]
    },
    {
     "data": {
      "text/html": [
       "<table class=\"dataframe\">\n",
       "<caption>A data.frame: 6 × 2</caption>\n",
       "<thead>\n",
       "\t<tr><th scope=col>sampleID</th><th scope=col>condition</th></tr>\n",
       "\t<tr><th scope=col>&lt;chr&gt;</th><th scope=col>&lt;chr&gt;</th></tr>\n",
       "</thead>\n",
       "<tbody>\n",
       "\t<tr><td>17</td><td>ASD    </td></tr>\n",
       "\t<tr><td>18</td><td>ASD    </td></tr>\n",
       "\t<tr><td>57</td><td>ASD    </td></tr>\n",
       "\t<tr><td>20</td><td>Control</td></tr>\n",
       "\t<tr><td>32</td><td>Control</td></tr>\n",
       "\t<tr><td>56</td><td>Control</td></tr>\n",
       "</tbody>\n",
       "</table>\n"
      ],
      "text/latex": [
       "A data.frame: 6 × 2\n",
       "\\begin{tabular}{ll}\n",
       " sampleID & condition\\\\\n",
       " <chr> & <chr>\\\\\n",
       "\\hline\n",
       "\t 17 & ASD    \\\\\n",
       "\t 18 & ASD    \\\\\n",
       "\t 57 & ASD    \\\\\n",
       "\t 20 & Control\\\\\n",
       "\t 32 & Control\\\\\n",
       "\t 56 & Control\\\\\n",
       "\\end{tabular}\n"
      ],
      "text/markdown": [
       "\n",
       "A data.frame: 6 × 2\n",
       "\n",
       "| sampleID &lt;chr&gt; | condition &lt;chr&gt; |\n",
       "|---|---|\n",
       "| 17 | ASD     |\n",
       "| 18 | ASD     |\n",
       "| 57 | ASD     |\n",
       "| 20 | Control |\n",
       "| 32 | Control |\n",
       "| 56 | Control |\n",
       "\n"
      ],
      "text/plain": [
       "  sampleID condition\n",
       "1 17       ASD      \n",
       "2 18       ASD      \n",
       "3 57       ASD      \n",
       "4 20       Control  \n",
       "5 32       Control  \n",
       "6 56       Control  "
      ]
     },
     "metadata": {},
     "output_type": "display_data"
    },
    {
     "name": "stderr",
     "output_type": "stream",
     "text": [
      "Step 1 of 10: Checking data...\n",
      "\n",
      "Step 2 of 10: Obtaining annotation...\n",
      "\n",
      "    importing GTF (this may take a while)...\n",
      "\n",
      "Warning message in importRdata(isoformCountMatrix = isoformExpr$counts, isoformRepExpression = isoformExpr$abundance, :\n",
      "\"The annotation and quantification (count/abundance matrix and isoform annotation) Seem to be slightly different. \n",
      "Specifically:\n",
      " 324 isoforms were only found in the annotation\n",
      " \n",
      "Please make sure this is on purpouse since differences will cause inaccurate quantification and thereby skew all analysis.\n",
      " If you have quantified with Salmon this could be normal since it as default only keep one copy of identical sequnces (can be prevented using the --keepDuplicates option)\n",
      " We strongly encurage you to go back and figure out why this is the case.\n",
      "\n",
      "\"\n",
      "    156453 ( 61.99%) isoforms were removed since they were not expressed in any samples.\n",
      "\n",
      "Step 3 of 10: Fixing StringTie gene annoation problems...\n",
      "\n",
      "    There were no need to rescue any annotation\n",
      "\n",
      "    32639 genes_id were assigned their original gene_id instead of the StringTie gene_id.\n",
      "        This was only done when it could be done unambiguous.\n",
      "\n",
      "Step 4 of 10: Calculating expression estimates from count data...\n",
      "\n",
      "    Skipped as user supplied expression via the \"isoformRepExpression\" argument...\n",
      "\n",
      "Step 5 of 10: Testing for unwanted effects...\n",
      "\n",
      "    No unwanted effects added\n",
      "\n",
      "Step 6 of 10: Batch correcting expression estimates...\n",
      "\n",
      "    Skipped as no batch effects were found or annoated...\n",
      "\n",
      "Step 7 of 10: Extracting data from each condition...\n",
      "\n"
     ]
    },
    {
     "name": "stdout",
     "output_type": "stream",
     "text": [
      "  |======================================================================| 100%\n"
     ]
    },
    {
     "name": "stderr",
     "output_type": "stream",
     "text": [
      "Step 8 of 10: Making comparisons...\n",
      "\n"
     ]
    },
    {
     "name": "stdout",
     "output_type": "stream",
     "text": [
      "  |======================================================================| 100%\n"
     ]
    },
    {
     "name": "stderr",
     "output_type": "stream",
     "text": [
      "Step 9 of 10: Making switchAnalyzeRlist object...\n",
      "\n",
      "Warning message in createSwitchAnalyzeRlist(isoformFeatures = isoAnnot, exons = isoformExonStructure, :\n",
      "\"The gene_ids or isoform_ids were not unique - we identified multiple instances of the same gene_id/isoform_id on different chromosomes. To solve this we removed 23 gene_id. Please note there might still be duplicated gene_id located on the same chromosome. Some of these could be due to fusion transcripts which IsoformSwitchAnalyzeR cannot handle.\"\n",
      "Step 10 of 10: Guestimating differential usage...\n",
      "\n",
      "    The GUESSTIMATED number of genes with differential isoform usage are:\n",
      "\n"
     ]
    },
    {
     "name": "stdout",
     "output_type": "stream",
     "text": [
      "      comparison estimated_genes_with_dtu\n",
      "1 ASD vs Control                  38 - 63\n"
     ]
    },
    {
     "name": "stderr",
     "output_type": "stream",
     "text": [
      "Done\n",
      "\n",
      "\n",
      "The filtering removed 46289 ( 48.42% of ) transcripts. There is now 49315 isoforms left\n",
      "\n"
     ]
    },
    {
     "data": {
      "text/html": [
       "<style>\n",
       ".list-inline {list-style: none; margin:0; padding: 0}\n",
       ".list-inline>li {display: inline-block}\n",
       ".list-inline>li:not(:last-child)::after {content: \"\\00b7\"; padding: 0 .5ex}\n",
       "</style>\n",
       "<ol class=list-inline><li>49315</li><li>7</li></ol>\n"
      ],
      "text/latex": [
       "\\begin{enumerate*}\n",
       "\\item 49315\n",
       "\\item 7\n",
       "\\end{enumerate*}\n"
      ],
      "text/markdown": [
       "1. 49315\n",
       "2. 7\n",
       "\n",
       "\n"
      ],
      "text/plain": [
       "[1] 49315     7"
      ]
     },
     "metadata": {},
     "output_type": "display_data"
    },
    {
     "data": {
      "text/html": [
       "95604"
      ],
      "text/latex": [
       "95604"
      ],
      "text/markdown": [
       "95604"
      ],
      "text/plain": [
       "[1] 95604"
      ]
     },
     "metadata": {},
     "output_type": "display_data"
    },
    {
     "data": {
      "text/html": [
       "49315"
      ],
      "text/latex": [
       "49315"
      ],
      "text/markdown": [
       "49315"
      ],
      "text/plain": [
       "[1] 49315"
      ]
     },
     "metadata": {},
     "output_type": "display_data"
    },
    {
     "name": "stderr",
     "output_type": "stream",
     "text": [
      "Step 1 of 2: Testing each pairwise comparisons with DEXSeq (this might be a bit slow)...\n",
      "\n",
      "    Estimated run time is: 22.5 min\n",
      "\n",
      "Step 2 of 2: Integrating result into switchAnalyzeRlist...\n",
      "\n",
      "    Isoform switch analysis was performed for 11798 gene comparisons (100%).\n",
      "\n",
      "Total runtime: 1.94 min\n",
      "\n",
      "Done\n",
      "\n",
      "The following objects are masked from switchListD$isoformFeatures (pos = 3):\n",
      "\n",
      "    condition_1, condition_2, dIF, gene_biotype, gene_id,\n",
      "    gene_log2_fold_change, gene_name, gene_overall_mean, gene_q_value,\n",
      "    gene_ref, gene_stderr_1, gene_stderr_2, gene_switch_q_value,\n",
      "    gene_value_1, gene_value_2, IF_overall, IF1, IF2, iso_biotype,\n",
      "    iso_log2_fold_change, iso_overall_mean, iso_q_value, iso_ref,\n",
      "    iso_stderr_1, iso_stderr_2, iso_value_1, iso_value_2, isoform_id,\n",
      "    isoform_switch_q_value, PTC\n",
      "\n",
      "\n",
      "The following objects are masked from switchListD$isoformFeatures (pos = 4):\n",
      "\n",
      "    condition_1, condition_2, dIF, gene_biotype, gene_id,\n",
      "    gene_log2_fold_change, gene_name, gene_overall_mean, gene_q_value,\n",
      "    gene_ref, gene_stderr_1, gene_stderr_2, gene_switch_q_value,\n",
      "    gene_value_1, gene_value_2, IF_overall, IF1, IF2, iso_biotype,\n",
      "    iso_log2_fold_change, iso_overall_mean, iso_q_value, iso_ref,\n",
      "    iso_stderr_1, iso_stderr_2, iso_value_1, iso_value_2, isoform_id,\n",
      "    isoform_switch_q_value, PTC\n",
      "\n",
      "\n",
      "The following objects are masked from switchListD$isoformFeatures (pos = 5):\n",
      "\n",
      "    condition_1, condition_2, dIF, gene_biotype, gene_id,\n",
      "    gene_log2_fold_change, gene_name, gene_overall_mean, gene_q_value,\n",
      "    gene_ref, gene_stderr_1, gene_stderr_2, gene_switch_q_value,\n",
      "    gene_value_1, gene_value_2, IF_overall, IF1, IF2, iso_biotype,\n",
      "    iso_log2_fold_change, iso_overall_mean, iso_q_value, iso_ref,\n",
      "    iso_stderr_1, iso_stderr_2, iso_value_1, iso_value_2, isoform_id,\n",
      "    isoform_switch_q_value, PTC\n",
      "\n",
      "\n",
      "The following objects are masked from switchListD$isoformFeatures (pos = 7):\n",
      "\n",
      "    condition_1, condition_2, dIF, gene_biotype, gene_id,\n",
      "    gene_log2_fold_change, gene_name, gene_overall_mean, gene_q_value,\n",
      "    gene_ref, gene_stderr_1, gene_stderr_2, gene_switch_q_value,\n",
      "    gene_value_1, gene_value_2, IF_overall, IF1, IF2, iso_biotype,\n",
      "    iso_log2_fold_change, iso_overall_mean, iso_q_value, iso_ref,\n",
      "    iso_stderr_1, iso_stderr_2, iso_value_1, iso_value_2, isoform_id,\n",
      "    isoform_switch_q_value, PTC\n",
      "\n",
      "\n",
      "The following objects are masked from switchListD$isoformFeatures (pos = 8):\n",
      "\n",
      "    condition_1, condition_2, dIF, gene_biotype, gene_id,\n",
      "    gene_log2_fold_change, gene_name, gene_overall_mean, gene_q_value,\n",
      "    gene_ref, gene_stderr_1, gene_stderr_2, gene_switch_q_value,\n",
      "    gene_value_1, gene_value_2, IF_overall, IF1, IF2, iso_biotype,\n",
      "    iso_log2_fold_change, iso_overall_mean, iso_q_value, iso_ref,\n",
      "    iso_stderr_1, iso_stderr_2, iso_value_1, iso_value_2, isoform_id,\n",
      "    isoform_switch_q_value, PTC\n",
      "\n",
      "\n",
      "Step 1 of 3 : Extracting transcript sequences...\n",
      "\n",
      "Step 2 of 3 : Locating potential ORFs...\n",
      "\n"
     ]
    },
    {
     "name": "stdout",
     "output_type": "stream",
     "text": [
      "  |======================================================================| 100%\n"
     ]
    },
    {
     "name": "stderr",
     "output_type": "stream",
     "text": [
      "Step 3 of 3 : Scanning for PTCs...\n",
      "\n",
      "383 putative ORFs were identified, analyzed and added.\n",
      "\n",
      "Done\n",
      "\n",
      "Step 1 of 3 : Extracting transcript nucleotide sequences...\n",
      "\n",
      "Step 2 of 3 : Extracting ORF AA sequences...\n",
      "\n",
      "Step 3 of 3 : Preparing output...\n",
      "\n",
      "The 'removeLongAAseq' and 'removeShortAAseq' arguments:\n",
      " Removed : 0 isoforms.\n",
      " Trimmed : 0 isoforms (to only contain the first 1000 AA)\n",
      "\n",
      "Done\n",
      "\n"
     ]
    },
    {
     "data": {
      "text/html": [
       "<table class=\"dataframe\">\n",
       "<caption>A data.frame: 1 × 4</caption>\n",
       "<thead>\n",
       "\t<tr><th scope=col>Comparison</th><th scope=col>nrIsoforms</th><th scope=col>nrSwitches</th><th scope=col>nrGenes</th></tr>\n",
       "\t<tr><th scope=col>&lt;chr&gt;</th><th scope=col>&lt;int&gt;</th><th scope=col>&lt;int&gt;</th><th scope=col>&lt;int&gt;</th></tr>\n",
       "</thead>\n",
       "<tbody>\n",
       "\t<tr><td>ASD vs Control</td><td>83</td><td>107</td><td>72</td></tr>\n",
       "</tbody>\n",
       "</table>\n"
      ],
      "text/latex": [
       "A data.frame: 1 × 4\n",
       "\\begin{tabular}{llll}\n",
       " Comparison & nrIsoforms & nrSwitches & nrGenes\\\\\n",
       " <chr> & <int> & <int> & <int>\\\\\n",
       "\\hline\n",
       "\t ASD vs Control & 83 & 107 & 72\\\\\n",
       "\\end{tabular}\n"
      ],
      "text/markdown": [
       "\n",
       "A data.frame: 1 × 4\n",
       "\n",
       "| Comparison &lt;chr&gt; | nrIsoforms &lt;int&gt; | nrSwitches &lt;int&gt; | nrGenes &lt;int&gt; |\n",
       "|---|---|---|---|\n",
       "| ASD vs Control | 83 | 107 | 72 |\n",
       "\n"
      ],
      "text/plain": [
       "  Comparison     nrIsoforms nrSwitches nrGenes\n",
       "1 ASD vs Control 83         107        72     "
      ]
     },
     "metadata": {},
     "output_type": "display_data"
    },
    {
     "name": "stderr",
     "output_type": "stream",
     "text": [
      "Step 1 of 3: Massaging data...\n",
      "\n",
      "Step 2 of 3: Analyzing splicing...\n",
      "\n"
     ]
    },
    {
     "name": "stdout",
     "output_type": "stream",
     "text": [
      "  |======================================================================| 100%\n"
     ]
    },
    {
     "name": "stderr",
     "output_type": "stream",
     "text": [
      "Step 3 of 3: Preparing output...\n",
      "\n",
      "Done\n",
      "\n",
      "\u001b[1m\u001b[22mSaving 6.67 x 6.67 in image\n"
     ]
    }
   ],
   "source": [
    "celltypes <- c(\"L4\",\"L2_3_ExN\",\"IN_VIP\",\"L5_6\",\"L5_6_CC\",\"Olig\")\n",
    "i=5\n",
    "  celltype <- celltypes[i]\n",
    "\n",
    "  isoformExpr <- importIsoformExpression(parentDir=paste0(\"/disk1/wenqing/tmp_data/ASD/salmon_quant_gencode_celltype/\",celltype), pattern=\"quant.sf\")\n",
    "\n",
    "  samples <- c(\"17\",\"18\",\"57\",\"20\",\"32\",\"56\")\n",
    "  condictions <- c(rep_len(\"ASD\", 3), rep_len(\"Control\", 3))\n",
    "  #samples <- c(\"17\",\"18\",\"57\")\n",
    "  #condictions <- c(rep_len(\"ASD\", 2), rep_len(\"Control\", 1))\n",
    "  designM <- data.frame(sampleID=samples, condition=condictions)\n",
    "  designM\n",
    "  #构建switchAnalyzeRlist 对象\n",
    "  switchList <- importRdata(isoformCountMatrix=isoformExpr$counts, isoformRepExpression=isoformExpr$abundance, designMatrix=designM, isoformExonAnnoation=\"/disk1/wenqing/tmp_data/hg19/gencode.v44lift37.annotation.gtf\", isoformNtFasta=\"/disk1/wenqing/tmp_data/hg19/gencode.v44lift37.transcripts.fa\")\n",
    "  #isoformExpressionCutoff:abundance为过滤指标，去掉在所有样本中均未表达的isoform\n",
    "  #IFcutoff：IF usage为指标，isoform至少在一个样本中被使用\n",
    "  switchListF <- preFilter(switchList)\n",
    "  dim(switchListF$isoformCountMatrix)\n",
    "  #write.csv(switchListF$isoformCountMatrix,\"/disk1/wenqing/tmp_data/ASD/isoformEx_abundance_filtered.csv\",quote=F)\n",
    "  length(switchList$isoformFeatures$isoform_id)\n",
    "  #prefilter过滤掉86519（61.33%）的isoform\n",
    "  length(switchListF$isoformFeatures$isoform_id)\n",
    "  #isoformSwitchTestDEXSeq:分析差异表达的isoform\n",
    "  #uses DEXSeq to test for differential isoform usage using the replicate count matrix.\n",
    "  #dIFcutoff：过滤在两条件下IF usage没有改变的isoform\n",
    "  switchListD <- isoformSwitchTestDEXSeq(switchAnalyzeRlist=switchListF, alpha=0.05) \n",
    "  attach(switchListD$isoformFeatures)        \n",
    "  de_isoform <- switchListD$isoformFeatures[abs(dIF) > 0.1 & isoform_switch_q_value < 0.05,]\n",
    "\n",
    "  switchListO <- analyzeORF(switchListD)\n",
    "  #提取转录本的核苷酸序列+氨基酸序列\n",
    "\n",
    "  output_path <- paste0(\"/disk1/wenqing/tmp_data/ASD/IsoformSequence_celltype/IsoformSequence_\",celltype)\n",
    "\n",
    "  switchListS <- extractSequence(switchListO, pathToOutput=output_path)\n",
    "  extractSwitchSummary(switchListS)\n",
    "  #分析一个isoform是否属于可变剪切的结果\n",
    "  #将一个gene的isoform与该gene所有exon组成的pri-mRNA对比，得到该isoform的剪接形式\n",
    "  switchListA <- analyzeAlternativeSplicing(switchListS) \n",
    "\n",
    "  write.csv(switchListA$AlternativeSplicingAnalysis[switchListA$AlternativeSplicingAnalysis$IR!=0,],paste0(\"/disk1/wenqing/tmp_data/ASD/isoform_IR/isoform_IR_\",celltype,\"_wzIRBorder.csv\"),quote=F)\n",
    "\n",
    "\n",
    "\n",
    "  isoform_IR <- switchListA$isoformFeatures[switchListA$isoformFeatures$IR!=0,]\n",
    "  de_isoform_IR <- isoform_IR[isoform_IR$isoform_id %in% de_isoform$isoform_id,]\n",
    "\n",
    "  switchListD$isoformFeatures$flag <- 0\n",
    "  switchListD$isoformFeatures$flag[switchListD$isoformFeatures$isoform_id %in% de_isoform_IR$isoform_id] <- 1\n",
    "  sub_iso=switchListD$isoformFeatures %>% filter(flag ==1)\n",
    "\n",
    "  p1 <- ggplot(data=switchListD$isoformFeatures, aes(x=dIF, y=-log10(isoform_switch_q_value))) +\n",
    "    geom_point(\n",
    "      aes( color=abs(dIF) > 0.1 & isoform_switch_q_value < 0.05 ), # default cutoff\n",
    "      size=1\n",
    "    ) +\n",
    "    geom_hline(yintercept = -log10(0.05), linetype='dashed') + # default cutoff\n",
    "    geom_vline(xintercept = c(-0.1, 0.1), linetype='dashed') + # default cutoff\n",
    "    scale_color_manual('Signficant\\nIsoform Switch', values = c('black','red')) +\n",
    "    labs(x='dIF', y='-Log10 ( Isoform Switch Q Value )') +\n",
    "    theme_bw()+\n",
    "    geom_label_repel(aes(label=gene_id),sub_iso)\n",
    "  ggsave(paste0(\"/disk1/wenqing/tmp_data/ASD/deX_isoform/figures/deEx_isoform_\",celltype,\".pdf\"),p1)\n",
    "\n",
    "\n"
   ]
  },
  {
   "cell_type": "code",
   "execution_count": 97,
   "metadata": {
    "vscode": {
     "languageId": "r"
    }
   },
   "outputs": [
    {
     "data": {
      "image/png": "[encoded data removed]",
      "text/plain": [
       "plot without title"
      ]
     },
     "metadata": {
      "image/png": {
       "height": 420,
       "width": 420
      }
     },
     "output_type": "display_data"
    }
   ],
   "source": [
    "p1"
   ]
  },
  {
   "cell_type": "code",
   "execution_count": null,
   "metadata": {
    "vscode": {
     "languageId": "r"
    }
   },
   "outputs": [
    {
     "data": {
      "text/html": [
       "<dl>\n",
       "\t<dt>$calculateCountsFromAbundance</dt>\n",
       "\t\t<dd>TRUE</dd>\n",
       "\t<dt>$interLibNormTxPM</dt>\n",
       "\t\t<dd>TRUE</dd>\n",
       "\t<dt>$normalizationMethod</dt>\n",
       "\t\t<dd>'TMM'</dd>\n",
       "</dl>\n"
      ],
      "text/latex": [
       "\\begin{description}\n",
       "\\item[\\$calculateCountsFromAbundance] TRUE\n",
       "\\item[\\$interLibNormTxPM] TRUE\n",
       "\\item[\\$normalizationMethod] 'TMM'\n",
       "\\end{description}\n"
      ],
      "text/markdown": [
       "$calculateCountsFromAbundance\n",
       ":   TRUE\n",
       "$interLibNormTxPM\n",
       ":   TRUE\n",
       "$normalizationMethod\n",
       ":   'TMM'\n",
       "\n",
       "\n"
      ],
      "text/plain": [
       "$calculateCountsFromAbundance\n",
       "[1] TRUE\n",
       "\n",
       "$interLibNormTxPM\n",
       "[1] TRUE\n",
       "\n",
       "$normalizationMethod\n",
       "[1] \"TMM\"\n"
      ]
     },
     "metadata": {},
     "output_type": "display_data"
    }
   ],
   "source": [
    "#count: counts由abundance转化而来\n",
    "#head(isoformExpr$importOptions)"
   ]
  },
  {
   "cell_type": "code",
   "execution_count": null,
   "metadata": {
    "vscode": {
     "languageId": "r"
    }
   },
   "outputs": [],
   "source": [
    "#abundance=TxPM(相当于RPKM/FPKM)，但已经根据用于量化的工具模拟的所有偏差进行了调整，包括片段长度分布和序列特异性偏差以及GC-片段偏差（这取决于每个工具及其运行方式，因此您需要查找具体的工具）。TxPM对于比较丰度的表达是最优的，因为大多数偏差都会被考虑在内。\n",
    "#head(isoformExpr$abundance)\n",
    "#head(isoformExpr$counts)\n",
    "#names(isoformExpr)\n",
    "#head(isoformExpr$importOptions)"
   ]
  },
  {
   "cell_type": "code",
   "execution_count": 10,
   "metadata": {
    "vscode": {
     "languageId": "r"
    }
   },
   "outputs": [
    {
     "data": {
      "text/html": [
       "<table class=\"dataframe\">\n",
       "<caption>A data.frame: 6 × 30</caption>\n",
       "<thead>\n",
       "\t<tr><th></th><th scope=col>iso_ref</th><th scope=col>gene_ref</th><th scope=col>isoform_id</th><th scope=col>gene_id</th><th scope=col>condition_1</th><th scope=col>condition_2</th><th scope=col>gene_name</th><th scope=col>gene_biotype</th><th scope=col>iso_biotype</th><th scope=col>gene_overall_mean</th><th scope=col>⋯</th><th scope=col>iso_stderr_2</th><th scope=col>iso_log2_fold_change</th><th scope=col>iso_q_value</th><th scope=col>IF_overall</th><th scope=col>IF1</th><th scope=col>IF2</th><th scope=col>dIF</th><th scope=col>isoform_switch_q_value</th><th scope=col>gene_switch_q_value</th><th scope=col>PTC</th></tr>\n",
       "\t<tr><th></th><th scope=col>&lt;chr&gt;</th><th scope=col>&lt;chr&gt;</th><th scope=col>&lt;chr&gt;</th><th scope=col>&lt;chr&gt;</th><th scope=col>&lt;chr&gt;</th><th scope=col>&lt;chr&gt;</th><th scope=col>&lt;chr&gt;</th><th scope=col>&lt;chr&gt;</th><th scope=col>&lt;chr&gt;</th><th scope=col>&lt;dbl&gt;</th><th scope=col>⋯</th><th scope=col>&lt;dbl&gt;</th><th scope=col>&lt;dbl&gt;</th><th scope=col>&lt;lgl&gt;</th><th scope=col>&lt;dbl&gt;</th><th scope=col>&lt;dbl&gt;</th><th scope=col>&lt;dbl&gt;</th><th scope=col>&lt;dbl&gt;</th><th scope=col>&lt;lgl&gt;</th><th scope=col>&lt;lgl&gt;</th><th scope=col>&lt;lgl&gt;</th></tr>\n",
       "</thead>\n",
       "<tbody>\n",
       "\t<tr><th scope=row>92411</th><td>isoComp_00000001</td><td>geneComp_00000001</td><td>ENST00000649180.1_1</td><td>5S_rRNA </td><td>ASD</td><td>Control</td><td>5S_rRNA </td><td>rRNA_pseudogene</td><td>rRNA_pseudogene               </td><td>11.659941</td><td>⋯</td><td>23.31988222</td><td>11.1879633</td><td>NA</td><td>1.000000000</td><td>       NaN</td><td>1.000000000</td><td>         NaN</td><td>NA</td><td>NA</td><td>NA</td></tr>\n",
       "\t<tr><th scope=row>23561</th><td>isoComp_00000002</td><td>geneComp_00000002</td><td>ENST00000595014.1_3</td><td>A1BG    </td><td>ASD</td><td>Control</td><td>A1BG    </td><td>protein_coding </td><td>retained_intron               </td><td>13.890085</td><td>⋯</td><td> 1.35825752</td><td> 0.9575835</td><td>NA</td><td>0.289566667</td><td>0.14466667</td><td>0.434466667</td><td> 0.289800000</td><td>NA</td><td>NA</td><td>NA</td></tr>\n",
       "\t<tr><th scope=row>23562</th><td>isoComp_00000003</td><td>geneComp_00000002</td><td>ENST00000596924.1_3</td><td>A1BG    </td><td>ASD</td><td>Control</td><td>A1BG    </td><td>protein_coding </td><td>protein_coding_CDS_not_defined</td><td>13.890085</td><td>⋯</td><td> 0.24565356</td><td> 0.1065964</td><td>NA</td><td>0.098483333</td><td>0.07153333</td><td>0.125433333</td><td> 0.053900000</td><td>NA</td><td>NA</td><td>NA</td></tr>\n",
       "\t<tr><th scope=row>23563</th><td>isoComp_00000004</td><td>geneComp_00000002</td><td>ENST00000598345.1_3</td><td>A1BG    </td><td>ASD</td><td>Control</td><td>A1BG    </td><td>protein_coding </td><td>retained_intron               </td><td>13.890085</td><td>⋯</td><td> 3.93253431</td><td>-1.0580256</td><td>NA</td><td>0.611966667</td><td>0.78380000</td><td>0.440133333</td><td>-0.343666667</td><td>NA</td><td>NA</td><td>NA</td></tr>\n",
       "\t<tr><th scope=row>88776</th><td>isoComp_00000005</td><td>geneComp_00000003</td><td>ENST00000593960.6_2</td><td>A1BG-AS1</td><td>ASD</td><td>Control</td><td>A1BG-AS1</td><td>lncRNA         </td><td>lncRNA                        </td><td> 1.591412</td><td>⋯</td><td> 0.01534964</td><td> 1.3419655</td><td>NA</td><td>0.003266667</td><td>0.00000000</td><td>0.006533333</td><td> 0.006533333</td><td>NA</td><td>NA</td><td>NA</td></tr>\n",
       "\t<tr><th scope=row>88777</th><td>isoComp_00000006</td><td>geneComp_00000003</td><td>ENST00000594950.5_1</td><td>A1BG-AS1</td><td>ASD</td><td>Control</td><td>A1BG-AS1</td><td>lncRNA         </td><td>lncRNA                        </td><td> 1.591412</td><td>⋯</td><td> 0.13406716</td><td> 3.8486696</td><td>NA</td><td>0.021400000</td><td>0.00000000</td><td>0.042800000</td><td> 0.042800000</td><td>NA</td><td>NA</td><td>NA</td></tr>\n",
       "</tbody>\n",
       "</table>\n"
      ],
      "text/latex": [
       "A data.frame: 6 × 30\n",
       "\\begin{tabular}{r|lllllllllllllllllllll}\n",
       "  & iso\\_ref & gene\\_ref & isoform\\_id & gene\\_id & condition\\_1 & condition\\_2 & gene\\_name & gene\\_biotype & iso\\_biotype & gene\\_overall\\_mean & ⋯ & iso\\_stderr\\_2 & iso\\_log2\\_fold\\_change & iso\\_q\\_value & IF\\_overall & IF1 & IF2 & dIF & isoform\\_switch\\_q\\_value & gene\\_switch\\_q\\_value & PTC\\\\\n",
       "  & <chr> & <chr> & <chr> & <chr> & <chr> & <chr> & <chr> & <chr> & <chr> & <dbl> & ⋯ & <dbl> & <dbl> & <lgl> & <dbl> & <dbl> & <dbl> & <dbl> & <lgl> & <lgl> & <lgl>\\\\\n",
       "\\hline\n",
       "\t92411 & isoComp\\_00000001 & geneComp\\_00000001 & ENST00000649180.1\\_1 & 5S\\_rRNA  & ASD & Control & 5S\\_rRNA  & rRNA\\_pseudogene & rRNA\\_pseudogene                & 11.659941 & ⋯ & 23.31988222 & 11.1879633 & NA & 1.000000000 &        NaN & 1.000000000 &          NaN & NA & NA & NA\\\\\n",
       "\t23561 & isoComp\\_00000002 & geneComp\\_00000002 & ENST00000595014.1\\_3 & A1BG     & ASD & Control & A1BG     & protein\\_coding  & retained\\_intron                & 13.890085 & ⋯ &  1.35825752 &  0.9575835 & NA & 0.289566667 & 0.14466667 & 0.434466667 &  0.289800000 & NA & NA & NA\\\\\n",
       "\t23562 & isoComp\\_00000003 & geneComp\\_00000002 & ENST00000596924.1\\_3 & A1BG     & ASD & Control & A1BG     & protein\\_coding  & protein\\_coding\\_CDS\\_not\\_defined & 13.890085 & ⋯ &  0.24565356 &  0.1065964 & NA & 0.098483333 & 0.07153333 & 0.125433333 &  0.053900000 & NA & NA & NA\\\\\n",
       "\t23563 & isoComp\\_00000004 & geneComp\\_00000002 & ENST00000598345.1\\_3 & A1BG     & ASD & Control & A1BG     & protein\\_coding  & retained\\_intron                & 13.890085 & ⋯ &  3.93253431 & -1.0580256 & NA & 0.611966667 & 0.78380000 & 0.440133333 & -0.343666667 & NA & NA & NA\\\\\n",
       "\t88776 & isoComp\\_00000005 & geneComp\\_00000003 & ENST00000593960.6\\_2 & A1BG-AS1 & ASD & Control & A1BG-AS1 & lncRNA          & lncRNA                         &  1.591412 & ⋯ &  0.01534964 &  1.3419655 & NA & 0.003266667 & 0.00000000 & 0.006533333 &  0.006533333 & NA & NA & NA\\\\\n",
       "\t88777 & isoComp\\_00000006 & geneComp\\_00000003 & ENST00000594950.5\\_1 & A1BG-AS1 & ASD & Control & A1BG-AS1 & lncRNA          & lncRNA                         &  1.591412 & ⋯ &  0.13406716 &  3.8486696 & NA & 0.021400000 & 0.00000000 & 0.042800000 &  0.042800000 & NA & NA & NA\\\\\n",
       "\\end{tabular}\n"
      ],
      "text/markdown": [
       "\n",
       "A data.frame: 6 × 30\n",
       "\n",
       "| <!--/--> | iso_ref &lt;chr&gt; | gene_ref &lt;chr&gt; | isoform_id &lt;chr&gt; | gene_id &lt;chr&gt; | condition_1 &lt;chr&gt; | condition_2 &lt;chr&gt; | gene_name &lt;chr&gt; | gene_biotype &lt;chr&gt; | iso_biotype &lt;chr&gt; | gene_overall_mean &lt;dbl&gt; | ⋯ ⋯ | iso_stderr_2 &lt;dbl&gt; | iso_log2_fold_change &lt;dbl&gt; | iso_q_value &lt;lgl&gt; | IF_overall &lt;dbl&gt; | IF1 &lt;dbl&gt; | IF2 &lt;dbl&gt; | dIF &lt;dbl&gt; | isoform_switch_q_value &lt;lgl&gt; | gene_switch_q_value &lt;lgl&gt; | PTC &lt;lgl&gt; |\n",
       "|---|---|---|---|---|---|---|---|---|---|---|---|---|---|---|---|---|---|---|---|---|---|\n",
       "| 92411 | isoComp_00000001 | geneComp_00000001 | ENST00000649180.1_1 | 5S_rRNA  | ASD | Control | 5S_rRNA  | rRNA_pseudogene | rRNA_pseudogene                | 11.659941 | ⋯ | 23.31988222 | 11.1879633 | NA | 1.000000000 |        NaN | 1.000000000 |          NaN | NA | NA | NA |\n",
       "| 23561 | isoComp_00000002 | geneComp_00000002 | ENST00000595014.1_3 | A1BG     | ASD | Control | A1BG     | protein_coding  | retained_intron                | 13.890085 | ⋯ |  1.35825752 |  0.9575835 | NA | 0.289566667 | 0.14466667 | 0.434466667 |  0.289800000 | NA | NA | NA |\n",
       "| 23562 | isoComp_00000003 | geneComp_00000002 | ENST00000596924.1_3 | A1BG     | ASD | Control | A1BG     | protein_coding  | protein_coding_CDS_not_defined | 13.890085 | ⋯ |  0.24565356 |  0.1065964 | NA | 0.098483333 | 0.07153333 | 0.125433333 |  0.053900000 | NA | NA | NA |\n",
       "| 23563 | isoComp_00000004 | geneComp_00000002 | ENST00000598345.1_3 | A1BG     | ASD | Control | A1BG     | protein_coding  | retained_intron                | 13.890085 | ⋯ |  3.93253431 | -1.0580256 | NA | 0.611966667 | 0.78380000 | 0.440133333 | -0.343666667 | NA | NA | NA |\n",
       "| 88776 | isoComp_00000005 | geneComp_00000003 | ENST00000593960.6_2 | A1BG-AS1 | ASD | Control | A1BG-AS1 | lncRNA          | lncRNA                         |  1.591412 | ⋯ |  0.01534964 |  1.3419655 | NA | 0.003266667 | 0.00000000 | 0.006533333 |  0.006533333 | NA | NA | NA |\n",
       "| 88777 | isoComp_00000006 | geneComp_00000003 | ENST00000594950.5_1 | A1BG-AS1 | ASD | Control | A1BG-AS1 | lncRNA          | lncRNA                         |  1.591412 | ⋯ |  0.13406716 |  3.8486696 | NA | 0.021400000 | 0.00000000 | 0.042800000 |  0.042800000 | NA | NA | NA |\n",
       "\n"
      ],
      "text/plain": [
       "      iso_ref          gene_ref          isoform_id          gene_id \n",
       "92411 isoComp_00000001 geneComp_00000001 ENST00000649180.1_1 5S_rRNA \n",
       "23561 isoComp_00000002 geneComp_00000002 ENST00000595014.1_3 A1BG    \n",
       "23562 isoComp_00000003 geneComp_00000002 ENST00000596924.1_3 A1BG    \n",
       "23563 isoComp_00000004 geneComp_00000002 ENST00000598345.1_3 A1BG    \n",
       "88776 isoComp_00000005 geneComp_00000003 ENST00000593960.6_2 A1BG-AS1\n",
       "88777 isoComp_00000006 geneComp_00000003 ENST00000594950.5_1 A1BG-AS1\n",
       "      condition_1 condition_2 gene_name gene_biotype   \n",
       "92411 ASD         Control     5S_rRNA   rRNA_pseudogene\n",
       "23561 ASD         Control     A1BG      protein_coding \n",
       "23562 ASD         Control     A1BG      protein_coding \n",
       "23563 ASD         Control     A1BG      protein_coding \n",
       "88776 ASD         Control     A1BG-AS1  lncRNA         \n",
       "88777 ASD         Control     A1BG-AS1  lncRNA         \n",
       "      iso_biotype                    gene_overall_mean ⋯ iso_stderr_2\n",
       "92411 rRNA_pseudogene                11.659941         ⋯ 23.31988222 \n",
       "23561 retained_intron                13.890085         ⋯  1.35825752 \n",
       "23562 protein_coding_CDS_not_defined 13.890085         ⋯  0.24565356 \n",
       "23563 retained_intron                13.890085         ⋯  3.93253431 \n",
       "88776 lncRNA                          1.591412         ⋯  0.01534964 \n",
       "88777 lncRNA                          1.591412         ⋯  0.13406716 \n",
       "      iso_log2_fold_change iso_q_value IF_overall  IF1        IF2        \n",
       "92411 11.1879633           NA          1.000000000        NaN 1.000000000\n",
       "23561  0.9575835           NA          0.289566667 0.14466667 0.434466667\n",
       "23562  0.1065964           NA          0.098483333 0.07153333 0.125433333\n",
       "23563 -1.0580256           NA          0.611966667 0.78380000 0.440133333\n",
       "88776  1.3419655           NA          0.003266667 0.00000000 0.006533333\n",
       "88777  3.8486696           NA          0.021400000 0.00000000 0.042800000\n",
       "      dIF          isoform_switch_q_value gene_switch_q_value PTC\n",
       "92411          NaN NA                     NA                  NA \n",
       "23561  0.289800000 NA                     NA                  NA \n",
       "23562  0.053900000 NA                     NA                  NA \n",
       "23563 -0.343666667 NA                     NA                  NA \n",
       "88776  0.006533333 NA                     NA                  NA \n",
       "88777  0.042800000 NA                     NA                  NA "
      ]
     },
     "metadata": {},
     "output_type": "display_data"
    }
   ],
   "source": [
    "head(switchList$isoformFeatures)\n",
    "#dim(as.data.frame(switchList$exons))\n",
    "#head(switchList$exons@ranges)\n",
    "#write.csv(as.data.frame(switchList$exons),'/disk1/wenqing/tmp_data/ASD/switchList_exon.csv',quote=F)"
   ]
  },
  {
   "cell_type": "code",
   "execution_count": 11,
   "metadata": {
    "vscode": {
     "languageId": "r"
    }
   },
   "outputs": [
    {
     "data": {
      "text/plain": [
       "\n",
       "FALSE  TRUE \n",
       "36540  7362 "
      ]
     },
     "metadata": {},
     "output_type": "display_data"
    }
   ],
   "source": [
    "#PTC: A logic indicating whether the isoform is classified as having a Premature Termination Codon. This is defined as having a stop codon more than PTCDistance (default is 50) nt upstream of the last exon exon junction.\n",
    "table(switchList$isoformFeatures$PTC)"
   ]
  },
  {
   "cell_type": "code",
   "execution_count": 12,
   "metadata": {
    "vscode": {
     "languageId": "r"
    }
   },
   "outputs": [
    {
     "data": {
      "text/html": [
       "<table class=\"dataframe\">\n",
       "<caption>A data.frame: 6 × 30</caption>\n",
       "<thead>\n",
       "\t<tr><th></th><th scope=col>iso_ref</th><th scope=col>gene_ref</th><th scope=col>isoform_id</th><th scope=col>gene_id</th><th scope=col>condition_1</th><th scope=col>condition_2</th><th scope=col>gene_name</th><th scope=col>gene_biotype</th><th scope=col>iso_biotype</th><th scope=col>gene_overall_mean</th><th scope=col>⋯</th><th scope=col>iso_stderr_2</th><th scope=col>iso_log2_fold_change</th><th scope=col>iso_q_value</th><th scope=col>IF_overall</th><th scope=col>IF1</th><th scope=col>IF2</th><th scope=col>dIF</th><th scope=col>isoform_switch_q_value</th><th scope=col>gene_switch_q_value</th><th scope=col>PTC</th></tr>\n",
       "\t<tr><th></th><th scope=col>&lt;chr&gt;</th><th scope=col>&lt;chr&gt;</th><th scope=col>&lt;chr&gt;</th><th scope=col>&lt;chr&gt;</th><th scope=col>&lt;chr&gt;</th><th scope=col>&lt;chr&gt;</th><th scope=col>&lt;chr&gt;</th><th scope=col>&lt;chr&gt;</th><th scope=col>&lt;chr&gt;</th><th scope=col>&lt;dbl&gt;</th><th scope=col>⋯</th><th scope=col>&lt;dbl&gt;</th><th scope=col>&lt;dbl&gt;</th><th scope=col>&lt;lgl&gt;</th><th scope=col>&lt;dbl&gt;</th><th scope=col>&lt;dbl&gt;</th><th scope=col>&lt;dbl&gt;</th><th scope=col>&lt;dbl&gt;</th><th scope=col>&lt;lgl&gt;</th><th scope=col>&lt;lgl&gt;</th><th scope=col>&lt;lgl&gt;</th></tr>\n",
       "</thead>\n",
       "<tbody>\n",
       "\t<tr><th scope=row>92411</th><td>isoComp_00000001</td><td>geneComp_00000001</td><td>ENST00000649180.1_1</td><td>5S_rRNA </td><td>ASD</td><td>Control</td><td>5S_rRNA </td><td>rRNA_pseudogene</td><td>rRNA_pseudogene               </td><td>11.659941</td><td>⋯</td><td>23.31988222</td><td>11.1879633</td><td>NA</td><td>1.000000000</td><td>       NaN</td><td>1.000000000</td><td>         NaN</td><td>NA</td><td>NA</td><td>NA</td></tr>\n",
       "\t<tr><th scope=row>23561</th><td>isoComp_00000002</td><td>geneComp_00000002</td><td>ENST00000595014.1_3</td><td>A1BG    </td><td>ASD</td><td>Control</td><td>A1BG    </td><td>protein_coding </td><td>retained_intron               </td><td>13.890085</td><td>⋯</td><td> 1.35825752</td><td> 0.9575835</td><td>NA</td><td>0.289566667</td><td>0.14466667</td><td>0.434466667</td><td> 0.289800000</td><td>NA</td><td>NA</td><td>NA</td></tr>\n",
       "\t<tr><th scope=row>23562</th><td>isoComp_00000003</td><td>geneComp_00000002</td><td>ENST00000596924.1_3</td><td>A1BG    </td><td>ASD</td><td>Control</td><td>A1BG    </td><td>protein_coding </td><td>protein_coding_CDS_not_defined</td><td>13.890085</td><td>⋯</td><td> 0.24565356</td><td> 0.1065964</td><td>NA</td><td>0.098483333</td><td>0.07153333</td><td>0.125433333</td><td> 0.053900000</td><td>NA</td><td>NA</td><td>NA</td></tr>\n",
       "\t<tr><th scope=row>23563</th><td>isoComp_00000004</td><td>geneComp_00000002</td><td>ENST00000598345.1_3</td><td>A1BG    </td><td>ASD</td><td>Control</td><td>A1BG    </td><td>protein_coding </td><td>retained_intron               </td><td>13.890085</td><td>⋯</td><td> 3.93253431</td><td>-1.0580256</td><td>NA</td><td>0.611966667</td><td>0.78380000</td><td>0.440133333</td><td>-0.343666667</td><td>NA</td><td>NA</td><td>NA</td></tr>\n",
       "\t<tr><th scope=row>88776</th><td>isoComp_00000005</td><td>geneComp_00000003</td><td>ENST00000593960.6_2</td><td>A1BG-AS1</td><td>ASD</td><td>Control</td><td>A1BG-AS1</td><td>lncRNA         </td><td>lncRNA                        </td><td> 1.591412</td><td>⋯</td><td> 0.01534964</td><td> 1.3419655</td><td>NA</td><td>0.003266667</td><td>0.00000000</td><td>0.006533333</td><td> 0.006533333</td><td>NA</td><td>NA</td><td>NA</td></tr>\n",
       "\t<tr><th scope=row>88777</th><td>isoComp_00000006</td><td>geneComp_00000003</td><td>ENST00000594950.5_1</td><td>A1BG-AS1</td><td>ASD</td><td>Control</td><td>A1BG-AS1</td><td>lncRNA         </td><td>lncRNA                        </td><td> 1.591412</td><td>⋯</td><td> 0.13406716</td><td> 3.8486696</td><td>NA</td><td>0.021400000</td><td>0.00000000</td><td>0.042800000</td><td> 0.042800000</td><td>NA</td><td>NA</td><td>NA</td></tr>\n",
       "</tbody>\n",
       "</table>\n"
      ],
      "text/latex": [
       "A data.frame: 6 × 30\n",
       "\\begin{tabular}{r|lllllllllllllllllllll}\n",
       "  & iso\\_ref & gene\\_ref & isoform\\_id & gene\\_id & condition\\_1 & condition\\_2 & gene\\_name & gene\\_biotype & iso\\_biotype & gene\\_overall\\_mean & ⋯ & iso\\_stderr\\_2 & iso\\_log2\\_fold\\_change & iso\\_q\\_value & IF\\_overall & IF1 & IF2 & dIF & isoform\\_switch\\_q\\_value & gene\\_switch\\_q\\_value & PTC\\\\\n",
       "  & <chr> & <chr> & <chr> & <chr> & <chr> & <chr> & <chr> & <chr> & <chr> & <dbl> & ⋯ & <dbl> & <dbl> & <lgl> & <dbl> & <dbl> & <dbl> & <dbl> & <lgl> & <lgl> & <lgl>\\\\\n",
       "\\hline\n",
       "\t92411 & isoComp\\_00000001 & geneComp\\_00000001 & ENST00000649180.1\\_1 & 5S\\_rRNA  & ASD & Control & 5S\\_rRNA  & rRNA\\_pseudogene & rRNA\\_pseudogene                & 11.659941 & ⋯ & 23.31988222 & 11.1879633 & NA & 1.000000000 &        NaN & 1.000000000 &          NaN & NA & NA & NA\\\\\n",
       "\t23561 & isoComp\\_00000002 & geneComp\\_00000002 & ENST00000595014.1\\_3 & A1BG     & ASD & Control & A1BG     & protein\\_coding  & retained\\_intron                & 13.890085 & ⋯ &  1.35825752 &  0.9575835 & NA & 0.289566667 & 0.14466667 & 0.434466667 &  0.289800000 & NA & NA & NA\\\\\n",
       "\t23562 & isoComp\\_00000003 & geneComp\\_00000002 & ENST00000596924.1\\_3 & A1BG     & ASD & Control & A1BG     & protein\\_coding  & protein\\_coding\\_CDS\\_not\\_defined & 13.890085 & ⋯ &  0.24565356 &  0.1065964 & NA & 0.098483333 & 0.07153333 & 0.125433333 &  0.053900000 & NA & NA & NA\\\\\n",
       "\t23563 & isoComp\\_00000004 & geneComp\\_00000002 & ENST00000598345.1\\_3 & A1BG     & ASD & Control & A1BG     & protein\\_coding  & retained\\_intron                & 13.890085 & ⋯ &  3.93253431 & -1.0580256 & NA & 0.611966667 & 0.78380000 & 0.440133333 & -0.343666667 & NA & NA & NA\\\\\n",
       "\t88776 & isoComp\\_00000005 & geneComp\\_00000003 & ENST00000593960.6\\_2 & A1BG-AS1 & ASD & Control & A1BG-AS1 & lncRNA          & lncRNA                         &  1.591412 & ⋯ &  0.01534964 &  1.3419655 & NA & 0.003266667 & 0.00000000 & 0.006533333 &  0.006533333 & NA & NA & NA\\\\\n",
       "\t88777 & isoComp\\_00000006 & geneComp\\_00000003 & ENST00000594950.5\\_1 & A1BG-AS1 & ASD & Control & A1BG-AS1 & lncRNA          & lncRNA                         &  1.591412 & ⋯ &  0.13406716 &  3.8486696 & NA & 0.021400000 & 0.00000000 & 0.042800000 &  0.042800000 & NA & NA & NA\\\\\n",
       "\\end{tabular}\n"
      ],
      "text/markdown": [
       "\n",
       "A data.frame: 6 × 30\n",
       "\n",
       "| <!--/--> | iso_ref &lt;chr&gt; | gene_ref &lt;chr&gt; | isoform_id &lt;chr&gt; | gene_id &lt;chr&gt; | condition_1 &lt;chr&gt; | condition_2 &lt;chr&gt; | gene_name &lt;chr&gt; | gene_biotype &lt;chr&gt; | iso_biotype &lt;chr&gt; | gene_overall_mean &lt;dbl&gt; | ⋯ ⋯ | iso_stderr_2 &lt;dbl&gt; | iso_log2_fold_change &lt;dbl&gt; | iso_q_value &lt;lgl&gt; | IF_overall &lt;dbl&gt; | IF1 &lt;dbl&gt; | IF2 &lt;dbl&gt; | dIF &lt;dbl&gt; | isoform_switch_q_value &lt;lgl&gt; | gene_switch_q_value &lt;lgl&gt; | PTC &lt;lgl&gt; |\n",
       "|---|---|---|---|---|---|---|---|---|---|---|---|---|---|---|---|---|---|---|---|---|---|\n",
       "| 92411 | isoComp_00000001 | geneComp_00000001 | ENST00000649180.1_1 | 5S_rRNA  | ASD | Control | 5S_rRNA  | rRNA_pseudogene | rRNA_pseudogene                | 11.659941 | ⋯ | 23.31988222 | 11.1879633 | NA | 1.000000000 |        NaN | 1.000000000 |          NaN | NA | NA | NA |\n",
       "| 23561 | isoComp_00000002 | geneComp_00000002 | ENST00000595014.1_3 | A1BG     | ASD | Control | A1BG     | protein_coding  | retained_intron                | 13.890085 | ⋯ |  1.35825752 |  0.9575835 | NA | 0.289566667 | 0.14466667 | 0.434466667 |  0.289800000 | NA | NA | NA |\n",
       "| 23562 | isoComp_00000003 | geneComp_00000002 | ENST00000596924.1_3 | A1BG     | ASD | Control | A1BG     | protein_coding  | protein_coding_CDS_not_defined | 13.890085 | ⋯ |  0.24565356 |  0.1065964 | NA | 0.098483333 | 0.07153333 | 0.125433333 |  0.053900000 | NA | NA | NA |\n",
       "| 23563 | isoComp_00000004 | geneComp_00000002 | ENST00000598345.1_3 | A1BG     | ASD | Control | A1BG     | protein_coding  | retained_intron                | 13.890085 | ⋯ |  3.93253431 | -1.0580256 | NA | 0.611966667 | 0.78380000 | 0.440133333 | -0.343666667 | NA | NA | NA |\n",
       "| 88776 | isoComp_00000005 | geneComp_00000003 | ENST00000593960.6_2 | A1BG-AS1 | ASD | Control | A1BG-AS1 | lncRNA          | lncRNA                         |  1.591412 | ⋯ |  0.01534964 |  1.3419655 | NA | 0.003266667 | 0.00000000 | 0.006533333 |  0.006533333 | NA | NA | NA |\n",
       "| 88777 | isoComp_00000006 | geneComp_00000003 | ENST00000594950.5_1 | A1BG-AS1 | ASD | Control | A1BG-AS1 | lncRNA          | lncRNA                         |  1.591412 | ⋯ |  0.13406716 |  3.8486696 | NA | 0.021400000 | 0.00000000 | 0.042800000 |  0.042800000 | NA | NA | NA |\n",
       "\n"
      ],
      "text/plain": [
       "      iso_ref          gene_ref          isoform_id          gene_id \n",
       "92411 isoComp_00000001 geneComp_00000001 ENST00000649180.1_1 5S_rRNA \n",
       "23561 isoComp_00000002 geneComp_00000002 ENST00000595014.1_3 A1BG    \n",
       "23562 isoComp_00000003 geneComp_00000002 ENST00000596924.1_3 A1BG    \n",
       "23563 isoComp_00000004 geneComp_00000002 ENST00000598345.1_3 A1BG    \n",
       "88776 isoComp_00000005 geneComp_00000003 ENST00000593960.6_2 A1BG-AS1\n",
       "88777 isoComp_00000006 geneComp_00000003 ENST00000594950.5_1 A1BG-AS1\n",
       "      condition_1 condition_2 gene_name gene_biotype   \n",
       "92411 ASD         Control     5S_rRNA   rRNA_pseudogene\n",
       "23561 ASD         Control     A1BG      protein_coding \n",
       "23562 ASD         Control     A1BG      protein_coding \n",
       "23563 ASD         Control     A1BG      protein_coding \n",
       "88776 ASD         Control     A1BG-AS1  lncRNA         \n",
       "88777 ASD         Control     A1BG-AS1  lncRNA         \n",
       "      iso_biotype                    gene_overall_mean ⋯ iso_stderr_2\n",
       "92411 rRNA_pseudogene                11.659941         ⋯ 23.31988222 \n",
       "23561 retained_intron                13.890085         ⋯  1.35825752 \n",
       "23562 protein_coding_CDS_not_defined 13.890085         ⋯  0.24565356 \n",
       "23563 retained_intron                13.890085         ⋯  3.93253431 \n",
       "88776 lncRNA                          1.591412         ⋯  0.01534964 \n",
       "88777 lncRNA                          1.591412         ⋯  0.13406716 \n",
       "      iso_log2_fold_change iso_q_value IF_overall  IF1        IF2        \n",
       "92411 11.1879633           NA          1.000000000        NaN 1.000000000\n",
       "23561  0.9575835           NA          0.289566667 0.14466667 0.434466667\n",
       "23562  0.1065964           NA          0.098483333 0.07153333 0.125433333\n",
       "23563 -1.0580256           NA          0.611966667 0.78380000 0.440133333\n",
       "88776  1.3419655           NA          0.003266667 0.00000000 0.006533333\n",
       "88777  3.8486696           NA          0.021400000 0.00000000 0.042800000\n",
       "      dIF          isoform_switch_q_value gene_switch_q_value PTC\n",
       "92411          NaN NA                     NA                  NA \n",
       "23561  0.289800000 NA                     NA                  NA \n",
       "23562  0.053900000 NA                     NA                  NA \n",
       "23563 -0.343666667 NA                     NA                  NA \n",
       "88776  0.006533333 NA                     NA                  NA \n",
       "88777  0.042800000 NA                     NA                  NA "
      ]
     },
     "metadata": {},
     "output_type": "display_data"
    }
   ],
   "source": [
    "head(switchList$isoformFeatures)"
   ]
  },
  {
   "cell_type": "code",
   "execution_count": 14,
   "metadata": {
    "vscode": {
     "languageId": "r"
    }
   },
   "outputs": [
    {
     "data": {
      "text/plain": [
       "\n",
       "FALSE  TRUE \n",
       "96199    20 "
      ]
     },
     "metadata": {},
     "output_type": "display_data"
    }
   ],
   "source": [
    "table(switchList$isoformFeatures$IF_overall==0)"
   ]
  },
  {
   "cell_type": "code",
   "execution_count": 18,
   "metadata": {
    "vscode": {
     "languageId": "r"
    }
   },
   "outputs": [
    {
     "data": {
      "text/html": [
       "<style>\n",
       ".list-inline {list-style: none; margin:0; padding: 0}\n",
       ".list-inline>li {display: inline-block}\n",
       ".list-inline>li:not(:last-child)::after {content: \"\\00b7\"; padding: 0 .5ex}\n",
       "</style>\n",
       "<ol class=list-inline><li>'isoformFeatures'</li><li>'exons'</li><li>'conditions'</li><li>'designMatrix'</li><li>'sourceId'</li><li>'isoformCountMatrix'</li><li>'isoformRepExpression'</li><li>'runInfo'</li><li>'orfAnalysis'</li><li>'isoformRepIF'</li><li>'ntSequence'</li><li>'isoformSwitchAnalysis'</li></ol>\n"
      ],
      "text/latex": [
       "\\begin{enumerate*}\n",
       "\\item 'isoformFeatures'\n",
       "\\item 'exons'\n",
       "\\item 'conditions'\n",
       "\\item 'designMatrix'\n",
       "\\item 'sourceId'\n",
       "\\item 'isoformCountMatrix'\n",
       "\\item 'isoformRepExpression'\n",
       "\\item 'runInfo'\n",
       "\\item 'orfAnalysis'\n",
       "\\item 'isoformRepIF'\n",
       "\\item 'ntSequence'\n",
       "\\item 'isoformSwitchAnalysis'\n",
       "\\end{enumerate*}\n"
      ],
      "text/markdown": [
       "1. 'isoformFeatures'\n",
       "2. 'exons'\n",
       "3. 'conditions'\n",
       "4. 'designMatrix'\n",
       "5. 'sourceId'\n",
       "6. 'isoformCountMatrix'\n",
       "7. 'isoformRepExpression'\n",
       "8. 'runInfo'\n",
       "9. 'orfAnalysis'\n",
       "10. 'isoformRepIF'\n",
       "11. 'ntSequence'\n",
       "12. 'isoformSwitchAnalysis'\n",
       "\n",
       "\n"
      ],
      "text/plain": [
       " [1] \"isoformFeatures\"       \"exons\"                 \"conditions\"           \n",
       " [4] \"designMatrix\"          \"sourceId\"              \"isoformCountMatrix\"   \n",
       " [7] \"isoformRepExpression\"  \"runInfo\"               \"orfAnalysis\"          \n",
       "[10] \"isoformRepIF\"          \"ntSequence\"            \"isoformSwitchAnalysis\""
      ]
     },
     "metadata": {},
     "output_type": "display_data"
    }
   ],
   "source": [
    "names(switchListD)"
   ]
  },
  {
   "cell_type": "code",
   "execution_count": 19,
   "metadata": {
    "vscode": {
     "languageId": "r"
    }
   },
   "outputs": [
    {
     "data": {
      "text/html": [
       "<style>\n",
       ".list-inline {list-style: none; margin:0; padding: 0}\n",
       ".list-inline>li {display: inline-block}\n",
       ".list-inline>li:not(:last-child)::after {content: \"\\00b7\"; padding: 0 .5ex}\n",
       "</style>\n",
       "<ol class=list-inline><li>'ADPGK'</li><li>'ADPGK'</li><li>'ADPGK'</li><li>'AKR1E2'</li><li>'AKR1E2'</li><li>'AKR1E2'</li></ol>\n"
      ],
      "text/latex": [
       "\\begin{enumerate*}\n",
       "\\item 'ADPGK'\n",
       "\\item 'ADPGK'\n",
       "\\item 'ADPGK'\n",
       "\\item 'AKR1E2'\n",
       "\\item 'AKR1E2'\n",
       "\\item 'AKR1E2'\n",
       "\\end{enumerate*}\n"
      ],
      "text/markdown": [
       "1. 'ADPGK'\n",
       "2. 'ADPGK'\n",
       "3. 'ADPGK'\n",
       "4. 'AKR1E2'\n",
       "5. 'AKR1E2'\n",
       "6. 'AKR1E2'\n",
       "\n",
       "\n"
      ],
      "text/plain": [
       "[1] \"ADPGK\"  \"ADPGK\"  \"ADPGK\"  \"AKR1E2\" \"AKR1E2\" \"AKR1E2\""
      ]
     },
     "metadata": {},
     "output_type": "display_data"
    }
   ],
   "source": [
    "head(switchListD$isoformFeatures$gene_id)"
   ]
  },
  {
   "cell_type": "code",
   "execution_count": null,
   "metadata": {
    "vscode": {
     "languageId": "r"
    }
   },
   "outputs": [],
   "source": [
    "switchListD$isoformFeatures %>% \n",
    "  dplyr::filter(gene_id==\"ACSL6\")"
   ]
  },
  {
   "cell_type": "code",
   "execution_count": null,
   "metadata": {
    "vscode": {
     "languageId": "r"
    }
   },
   "outputs": [],
   "source": [
    "switchPlot(switchListD, gene = 'ACSL6',\n",
    "           condition1=\"ASD\",\n",
    "           condition2=\"Control\")"
   ]
  },
  {
   "cell_type": "code",
   "execution_count": 22,
   "metadata": {
    "vscode": {
     "languageId": "r"
    }
   },
   "outputs": [
    {
     "data": {
      "text/html": [
       "<style>\n",
       ".list-inline {list-style: none; margin:0; padding: 0}\n",
       ".list-inline>li {display: inline-block}\n",
       ".list-inline>li:not(:last-child)::after {content: \"\\00b7\"; padding: 0 .5ex}\n",
       "</style>\n",
       "<ol class=list-inline><li>874</li><li>30</li></ol>\n"
      ],
      "text/latex": [
       "\\begin{enumerate*}\n",
       "\\item 874\n",
       "\\item 30\n",
       "\\end{enumerate*}\n"
      ],
      "text/markdown": [
       "1. 874\n",
       "2. 30\n",
       "\n",
       "\n"
      ],
      "text/plain": [
       "[1] 874  30"
      ]
     },
     "metadata": {},
     "output_type": "display_data"
    },
    {
     "data": {
      "text/html": [
       "874"
      ],
      "text/latex": [
       "874"
      ],
      "text/markdown": [
       "874"
      ],
      "text/plain": [
       "[1] 874"
      ]
     },
     "metadata": {},
     "output_type": "display_data"
    },
    {
     "data": {
      "text/html": [
       "<table class=\"dataframe\">\n",
       "<caption>A data.frame: 6 × 30</caption>\n",
       "<thead>\n",
       "\t<tr><th></th><th scope=col>iso_ref</th><th scope=col>gene_ref</th><th scope=col>isoform_id</th><th scope=col>gene_id</th><th scope=col>condition_1</th><th scope=col>condition_2</th><th scope=col>gene_name</th><th scope=col>gene_biotype</th><th scope=col>iso_biotype</th><th scope=col>gene_overall_mean</th><th scope=col>⋯</th><th scope=col>iso_stderr_2</th><th scope=col>iso_log2_fold_change</th><th scope=col>iso_q_value</th><th scope=col>IF_overall</th><th scope=col>IF1</th><th scope=col>IF2</th><th scope=col>dIF</th><th scope=col>isoform_switch_q_value</th><th scope=col>gene_switch_q_value</th><th scope=col>PTC</th></tr>\n",
       "\t<tr><th></th><th scope=col>&lt;chr&gt;</th><th scope=col>&lt;chr&gt;</th><th scope=col>&lt;chr&gt;</th><th scope=col>&lt;chr&gt;</th><th scope=col>&lt;chr&gt;</th><th scope=col>&lt;chr&gt;</th><th scope=col>&lt;chr&gt;</th><th scope=col>&lt;chr&gt;</th><th scope=col>&lt;chr&gt;</th><th scope=col>&lt;dbl&gt;</th><th scope=col>⋯</th><th scope=col>&lt;dbl&gt;</th><th scope=col>&lt;dbl&gt;</th><th scope=col>&lt;lgl&gt;</th><th scope=col>&lt;dbl&gt;</th><th scope=col>&lt;dbl&gt;</th><th scope=col>&lt;dbl&gt;</th><th scope=col>&lt;dbl&gt;</th><th scope=col>&lt;dbl&gt;</th><th scope=col>&lt;dbl&gt;</th><th scope=col>&lt;lgl&gt;</th></tr>\n",
       "</thead>\n",
       "<tbody>\n",
       "\t<tr><th scope=row>44993</th><td>isoComp_00001783</td><td>geneComp_00000577</td><td>ENST00000456471.3_6 </td><td>ADPGK </td><td>ASD</td><td>Control</td><td>ADPGK </td><td>protein_coding</td><td>protein_coding         </td><td>19.08097</td><td>⋯</td><td>0.44097500</td><td>-0.9669318</td><td>NA</td><td>0.09978333</td><td>0.1244333</td><td>0.075133333</td><td>-0.0493000</td><td>1.00000000</td><td>0.00275992</td><td>FALSE</td></tr>\n",
       "\t<tr><th scope=row>44994</th><td>isoComp_00001784</td><td>geneComp_00000577</td><td>ENST00000562621.1_3 </td><td>ADPGK </td><td>ASD</td><td>Control</td><td>ADPGK </td><td>protein_coding</td><td>retained_intron        </td><td>19.08097</td><td>⋯</td><td>2.31330669</td><td> 0.2105702</td><td>NA</td><td>0.79390000</td><td>0.6661000</td><td>0.921700000</td><td> 0.2556000</td><td>0.92719830</td><td>0.00275992</td><td>   NA</td></tr>\n",
       "\t<tr><th scope=row>44996</th><td>isoComp_00001786</td><td>geneComp_00000577</td><td>ENST00000569058.1_3 </td><td>ADPGK </td><td>ASD</td><td>Control</td><td>ADPGK </td><td>protein_coding</td><td>retained_intron        </td><td>19.08097</td><td>⋯</td><td>0.06615688</td><td>-5.8666889</td><td>NA</td><td>0.10601667</td><td>0.2088667</td><td>0.003166667</td><td>-0.2057000</td><td>0.00275992</td><td>0.00275992</td><td>   NA</td></tr>\n",
       "\t<tr><th scope=row>49466</th><td>isoComp_00002453</td><td>geneComp_00000752</td><td>ENST00000298375.12_3</td><td>AKR1E2</td><td>ASD</td><td>Control</td><td>AKR1E2</td><td>protein_coding</td><td>protein_coding         </td><td> 1.63562</td><td>⋯</td><td>0.02285267</td><td>-5.6463941</td><td>NA</td><td>0.61338333</td><td>0.8934333</td><td>0.333333333</td><td>-0.5601000</td><td>0.94169619</td><td>0.02734436</td><td>FALSE</td></tr>\n",
       "\t<tr><th scope=row>49468</th><td>isoComp_00002455</td><td>geneComp_00000752</td><td>ENST00000474119.5_1 </td><td>AKR1E2</td><td>ASD</td><td>Control</td><td>AKR1E2</td><td>protein_coding</td><td>nonsense_mediated_decay</td><td> 1.63562</td><td>⋯</td><td>0.20560635</td><td> 5.1851561</td><td>NA</td><td>0.07656667</td><td>0.0000000</td><td>0.153133333</td><td> 0.1531333</td><td>0.82844863</td><td>0.02734436</td><td> TRUE</td></tr>\n",
       "\t<tr><th scope=row>49469</th><td>isoComp_00002456</td><td>geneComp_00000752</td><td>ENST00000487985.1_3 </td><td>AKR1E2</td><td>ASD</td><td>Control</td><td>AKR1E2</td><td>protein_coding</td><td>protein_coding         </td><td> 1.63562</td><td>⋯</td><td>0.60477785</td><td> 6.8097157</td><td>NA</td><td>0.24803333</td><td>0.0000000</td><td>0.496066667</td><td> 0.4960667</td><td>0.02734436</td><td>0.02734436</td><td>FALSE</td></tr>\n",
       "</tbody>\n",
       "</table>\n"
      ],
      "text/latex": [
       "A data.frame: 6 × 30\n",
       "\\begin{tabular}{r|lllllllllllllllllllll}\n",
       "  & iso\\_ref & gene\\_ref & isoform\\_id & gene\\_id & condition\\_1 & condition\\_2 & gene\\_name & gene\\_biotype & iso\\_biotype & gene\\_overall\\_mean & ⋯ & iso\\_stderr\\_2 & iso\\_log2\\_fold\\_change & iso\\_q\\_value & IF\\_overall & IF1 & IF2 & dIF & isoform\\_switch\\_q\\_value & gene\\_switch\\_q\\_value & PTC\\\\\n",
       "  & <chr> & <chr> & <chr> & <chr> & <chr> & <chr> & <chr> & <chr> & <chr> & <dbl> & ⋯ & <dbl> & <dbl> & <lgl> & <dbl> & <dbl> & <dbl> & <dbl> & <dbl> & <dbl> & <lgl>\\\\\n",
       "\\hline\n",
       "\t44993 & isoComp\\_00001783 & geneComp\\_00000577 & ENST00000456471.3\\_6  & ADPGK  & ASD & Control & ADPGK  & protein\\_coding & protein\\_coding          & 19.08097 & ⋯ & 0.44097500 & -0.9669318 & NA & 0.09978333 & 0.1244333 & 0.075133333 & -0.0493000 & 1.00000000 & 0.00275992 & FALSE\\\\\n",
       "\t44994 & isoComp\\_00001784 & geneComp\\_00000577 & ENST00000562621.1\\_3  & ADPGK  & ASD & Control & ADPGK  & protein\\_coding & retained\\_intron         & 19.08097 & ⋯ & 2.31330669 &  0.2105702 & NA & 0.79390000 & 0.6661000 & 0.921700000 &  0.2556000 & 0.92719830 & 0.00275992 &    NA\\\\\n",
       "\t44996 & isoComp\\_00001786 & geneComp\\_00000577 & ENST00000569058.1\\_3  & ADPGK  & ASD & Control & ADPGK  & protein\\_coding & retained\\_intron         & 19.08097 & ⋯ & 0.06615688 & -5.8666889 & NA & 0.10601667 & 0.2088667 & 0.003166667 & -0.2057000 & 0.00275992 & 0.00275992 &    NA\\\\\n",
       "\t49466 & isoComp\\_00002453 & geneComp\\_00000752 & ENST00000298375.12\\_3 & AKR1E2 & ASD & Control & AKR1E2 & protein\\_coding & protein\\_coding          &  1.63562 & ⋯ & 0.02285267 & -5.6463941 & NA & 0.61338333 & 0.8934333 & 0.333333333 & -0.5601000 & 0.94169619 & 0.02734436 & FALSE\\\\\n",
       "\t49468 & isoComp\\_00002455 & geneComp\\_00000752 & ENST00000474119.5\\_1  & AKR1E2 & ASD & Control & AKR1E2 & protein\\_coding & nonsense\\_mediated\\_decay &  1.63562 & ⋯ & 0.20560635 &  5.1851561 & NA & 0.07656667 & 0.0000000 & 0.153133333 &  0.1531333 & 0.82844863 & 0.02734436 &  TRUE\\\\\n",
       "\t49469 & isoComp\\_00002456 & geneComp\\_00000752 & ENST00000487985.1\\_3  & AKR1E2 & ASD & Control & AKR1E2 & protein\\_coding & protein\\_coding          &  1.63562 & ⋯ & 0.60477785 &  6.8097157 & NA & 0.24803333 & 0.0000000 & 0.496066667 &  0.4960667 & 0.02734436 & 0.02734436 & FALSE\\\\\n",
       "\\end{tabular}\n"
      ],
      "text/markdown": [
       "\n",
       "A data.frame: 6 × 30\n",
       "\n",
       "| <!--/--> | iso_ref &lt;chr&gt; | gene_ref &lt;chr&gt; | isoform_id &lt;chr&gt; | gene_id &lt;chr&gt; | condition_1 &lt;chr&gt; | condition_2 &lt;chr&gt; | gene_name &lt;chr&gt; | gene_biotype &lt;chr&gt; | iso_biotype &lt;chr&gt; | gene_overall_mean &lt;dbl&gt; | ⋯ ⋯ | iso_stderr_2 &lt;dbl&gt; | iso_log2_fold_change &lt;dbl&gt; | iso_q_value &lt;lgl&gt; | IF_overall &lt;dbl&gt; | IF1 &lt;dbl&gt; | IF2 &lt;dbl&gt; | dIF &lt;dbl&gt; | isoform_switch_q_value &lt;dbl&gt; | gene_switch_q_value &lt;dbl&gt; | PTC &lt;lgl&gt; |\n",
       "|---|---|---|---|---|---|---|---|---|---|---|---|---|---|---|---|---|---|---|---|---|---|\n",
       "| 44993 | isoComp_00001783 | geneComp_00000577 | ENST00000456471.3_6  | ADPGK  | ASD | Control | ADPGK  | protein_coding | protein_coding          | 19.08097 | ⋯ | 0.44097500 | -0.9669318 | NA | 0.09978333 | 0.1244333 | 0.075133333 | -0.0493000 | 1.00000000 | 0.00275992 | FALSE |\n",
       "| 44994 | isoComp_00001784 | geneComp_00000577 | ENST00000562621.1_3  | ADPGK  | ASD | Control | ADPGK  | protein_coding | retained_intron         | 19.08097 | ⋯ | 2.31330669 |  0.2105702 | NA | 0.79390000 | 0.6661000 | 0.921700000 |  0.2556000 | 0.92719830 | 0.00275992 |    NA |\n",
       "| 44996 | isoComp_00001786 | geneComp_00000577 | ENST00000569058.1_3  | ADPGK  | ASD | Control | ADPGK  | protein_coding | retained_intron         | 19.08097 | ⋯ | 0.06615688 | -5.8666889 | NA | 0.10601667 | 0.2088667 | 0.003166667 | -0.2057000 | 0.00275992 | 0.00275992 |    NA |\n",
       "| 49466 | isoComp_00002453 | geneComp_00000752 | ENST00000298375.12_3 | AKR1E2 | ASD | Control | AKR1E2 | protein_coding | protein_coding          |  1.63562 | ⋯ | 0.02285267 | -5.6463941 | NA | 0.61338333 | 0.8934333 | 0.333333333 | -0.5601000 | 0.94169619 | 0.02734436 | FALSE |\n",
       "| 49468 | isoComp_00002455 | geneComp_00000752 | ENST00000474119.5_1  | AKR1E2 | ASD | Control | AKR1E2 | protein_coding | nonsense_mediated_decay |  1.63562 | ⋯ | 0.20560635 |  5.1851561 | NA | 0.07656667 | 0.0000000 | 0.153133333 |  0.1531333 | 0.82844863 | 0.02734436 |  TRUE |\n",
       "| 49469 | isoComp_00002456 | geneComp_00000752 | ENST00000487985.1_3  | AKR1E2 | ASD | Control | AKR1E2 | protein_coding | protein_coding          |  1.63562 | ⋯ | 0.60477785 |  6.8097157 | NA | 0.24803333 | 0.0000000 | 0.496066667 |  0.4960667 | 0.02734436 | 0.02734436 | FALSE |\n",
       "\n"
      ],
      "text/plain": [
       "      iso_ref          gene_ref          isoform_id           gene_id\n",
       "44993 isoComp_00001783 geneComp_00000577 ENST00000456471.3_6  ADPGK  \n",
       "44994 isoComp_00001784 geneComp_00000577 ENST00000562621.1_3  ADPGK  \n",
       "44996 isoComp_00001786 geneComp_00000577 ENST00000569058.1_3  ADPGK  \n",
       "49466 isoComp_00002453 geneComp_00000752 ENST00000298375.12_3 AKR1E2 \n",
       "49468 isoComp_00002455 geneComp_00000752 ENST00000474119.5_1  AKR1E2 \n",
       "49469 isoComp_00002456 geneComp_00000752 ENST00000487985.1_3  AKR1E2 \n",
       "      condition_1 condition_2 gene_name gene_biotype   iso_biotype            \n",
       "44993 ASD         Control     ADPGK     protein_coding protein_coding         \n",
       "44994 ASD         Control     ADPGK     protein_coding retained_intron        \n",
       "44996 ASD         Control     ADPGK     protein_coding retained_intron        \n",
       "49466 ASD         Control     AKR1E2    protein_coding protein_coding         \n",
       "49468 ASD         Control     AKR1E2    protein_coding nonsense_mediated_decay\n",
       "49469 ASD         Control     AKR1E2    protein_coding protein_coding         \n",
       "      gene_overall_mean ⋯ iso_stderr_2 iso_log2_fold_change iso_q_value\n",
       "44993 19.08097          ⋯ 0.44097500   -0.9669318           NA         \n",
       "44994 19.08097          ⋯ 2.31330669    0.2105702           NA         \n",
       "44996 19.08097          ⋯ 0.06615688   -5.8666889           NA         \n",
       "49466  1.63562          ⋯ 0.02285267   -5.6463941           NA         \n",
       "49468  1.63562          ⋯ 0.20560635    5.1851561           NA         \n",
       "49469  1.63562          ⋯ 0.60477785    6.8097157           NA         \n",
       "      IF_overall IF1       IF2         dIF        isoform_switch_q_value\n",
       "44993 0.09978333 0.1244333 0.075133333 -0.0493000 1.00000000            \n",
       "44994 0.79390000 0.6661000 0.921700000  0.2556000 0.92719830            \n",
       "44996 0.10601667 0.2088667 0.003166667 -0.2057000 0.00275992            \n",
       "49466 0.61338333 0.8934333 0.333333333 -0.5601000 0.94169619            \n",
       "49468 0.07656667 0.0000000 0.153133333  0.1531333 0.82844863            \n",
       "49469 0.24803333 0.0000000 0.496066667  0.4960667 0.02734436            \n",
       "      gene_switch_q_value PTC  \n",
       "44993 0.00275992          FALSE\n",
       "44994 0.00275992             NA\n",
       "44996 0.00275992             NA\n",
       "49466 0.02734436          FALSE\n",
       "49468 0.02734436           TRUE\n",
       "49469 0.02734436          FALSE"
      ]
     },
     "metadata": {},
     "output_type": "display_data"
    }
   ],
   "source": [
    "dim(switchListD$isoformFeatures)\n",
    "length(unique(switchListD$isoformFeatures$isoform_id))\n",
    "head(switchListD$isoformFeatures)"
   ]
  },
  {
   "cell_type": "code",
   "execution_count": 26,
   "metadata": {
    "vscode": {
     "languageId": "r"
    }
   },
   "outputs": [
    {
     "data": {
      "text/html": [
       "<table class=\"dataframe\">\n",
       "<caption>A data.frame: 6 × 30</caption>\n",
       "<thead>\n",
       "\t<tr><th></th><th scope=col>iso_ref</th><th scope=col>gene_ref</th><th scope=col>isoform_id</th><th scope=col>gene_id</th><th scope=col>condition_1</th><th scope=col>condition_2</th><th scope=col>gene_name</th><th scope=col>gene_biotype</th><th scope=col>iso_biotype</th><th scope=col>gene_overall_mean</th><th scope=col>⋯</th><th scope=col>iso_stderr_2</th><th scope=col>iso_log2_fold_change</th><th scope=col>iso_q_value</th><th scope=col>IF_overall</th><th scope=col>IF1</th><th scope=col>IF2</th><th scope=col>dIF</th><th scope=col>isoform_switch_q_value</th><th scope=col>gene_switch_q_value</th><th scope=col>PTC</th></tr>\n",
       "\t<tr><th></th><th scope=col>&lt;chr&gt;</th><th scope=col>&lt;chr&gt;</th><th scope=col>&lt;chr&gt;</th><th scope=col>&lt;chr&gt;</th><th scope=col>&lt;chr&gt;</th><th scope=col>&lt;chr&gt;</th><th scope=col>&lt;chr&gt;</th><th scope=col>&lt;chr&gt;</th><th scope=col>&lt;chr&gt;</th><th scope=col>&lt;dbl&gt;</th><th scope=col>⋯</th><th scope=col>&lt;dbl&gt;</th><th scope=col>&lt;dbl&gt;</th><th scope=col>&lt;lgl&gt;</th><th scope=col>&lt;dbl&gt;</th><th scope=col>&lt;dbl&gt;</th><th scope=col>&lt;dbl&gt;</th><th scope=col>&lt;dbl&gt;</th><th scope=col>&lt;dbl&gt;</th><th scope=col>&lt;dbl&gt;</th><th scope=col>&lt;lgl&gt;</th></tr>\n",
       "</thead>\n",
       "<tbody>\n",
       "\t<tr><th scope=row>44993</th><td>isoComp_00001783</td><td>geneComp_00000577</td><td>ENST00000456471.3_6 </td><td>ADPGK </td><td>ASD</td><td>Control</td><td>ADPGK </td><td>protein_coding</td><td>protein_coding         </td><td>19.08097</td><td>⋯</td><td>0.44097500</td><td>-0.9669318</td><td>NA</td><td>0.09978333</td><td>0.1244333</td><td>0.075133333</td><td>-0.0493000</td><td>1.00000000</td><td>0.00275992</td><td>FALSE</td></tr>\n",
       "\t<tr><th scope=row>44994</th><td>isoComp_00001784</td><td>geneComp_00000577</td><td>ENST00000562621.1_3 </td><td>ADPGK </td><td>ASD</td><td>Control</td><td>ADPGK </td><td>protein_coding</td><td>retained_intron        </td><td>19.08097</td><td>⋯</td><td>2.31330669</td><td> 0.2105702</td><td>NA</td><td>0.79390000</td><td>0.6661000</td><td>0.921700000</td><td> 0.2556000</td><td>0.92719830</td><td>0.00275992</td><td>   NA</td></tr>\n",
       "\t<tr><th scope=row>44996</th><td>isoComp_00001786</td><td>geneComp_00000577</td><td>ENST00000569058.1_3 </td><td>ADPGK </td><td>ASD</td><td>Control</td><td>ADPGK </td><td>protein_coding</td><td>retained_intron        </td><td>19.08097</td><td>⋯</td><td>0.06615688</td><td>-5.8666889</td><td>NA</td><td>0.10601667</td><td>0.2088667</td><td>0.003166667</td><td>-0.2057000</td><td>0.00275992</td><td>0.00275992</td><td>   NA</td></tr>\n",
       "\t<tr><th scope=row>49466</th><td>isoComp_00002453</td><td>geneComp_00000752</td><td>ENST00000298375.12_3</td><td>AKR1E2</td><td>ASD</td><td>Control</td><td>AKR1E2</td><td>protein_coding</td><td>protein_coding         </td><td> 1.63562</td><td>⋯</td><td>0.02285267</td><td>-5.6463941</td><td>NA</td><td>0.61338333</td><td>0.8934333</td><td>0.333333333</td><td>-0.5601000</td><td>0.94169619</td><td>0.02734436</td><td>FALSE</td></tr>\n",
       "\t<tr><th scope=row>49468</th><td>isoComp_00002455</td><td>geneComp_00000752</td><td>ENST00000474119.5_1 </td><td>AKR1E2</td><td>ASD</td><td>Control</td><td>AKR1E2</td><td>protein_coding</td><td>nonsense_mediated_decay</td><td> 1.63562</td><td>⋯</td><td>0.20560635</td><td> 5.1851561</td><td>NA</td><td>0.07656667</td><td>0.0000000</td><td>0.153133333</td><td> 0.1531333</td><td>0.82844863</td><td>0.02734436</td><td> TRUE</td></tr>\n",
       "\t<tr><th scope=row>49469</th><td>isoComp_00002456</td><td>geneComp_00000752</td><td>ENST00000487985.1_3 </td><td>AKR1E2</td><td>ASD</td><td>Control</td><td>AKR1E2</td><td>protein_coding</td><td>protein_coding         </td><td> 1.63562</td><td>⋯</td><td>0.60477785</td><td> 6.8097157</td><td>NA</td><td>0.24803333</td><td>0.0000000</td><td>0.496066667</td><td> 0.4960667</td><td>0.02734436</td><td>0.02734436</td><td>FALSE</td></tr>\n",
       "</tbody>\n",
       "</table>\n"
      ],
      "text/latex": [
       "A data.frame: 6 × 30\n",
       "\\begin{tabular}{r|lllllllllllllllllllll}\n",
       "  & iso\\_ref & gene\\_ref & isoform\\_id & gene\\_id & condition\\_1 & condition\\_2 & gene\\_name & gene\\_biotype & iso\\_biotype & gene\\_overall\\_mean & ⋯ & iso\\_stderr\\_2 & iso\\_log2\\_fold\\_change & iso\\_q\\_value & IF\\_overall & IF1 & IF2 & dIF & isoform\\_switch\\_q\\_value & gene\\_switch\\_q\\_value & PTC\\\\\n",
       "  & <chr> & <chr> & <chr> & <chr> & <chr> & <chr> & <chr> & <chr> & <chr> & <dbl> & ⋯ & <dbl> & <dbl> & <lgl> & <dbl> & <dbl> & <dbl> & <dbl> & <dbl> & <dbl> & <lgl>\\\\\n",
       "\\hline\n",
       "\t44993 & isoComp\\_00001783 & geneComp\\_00000577 & ENST00000456471.3\\_6  & ADPGK  & ASD & Control & ADPGK  & protein\\_coding & protein\\_coding          & 19.08097 & ⋯ & 0.44097500 & -0.9669318 & NA & 0.09978333 & 0.1244333 & 0.075133333 & -0.0493000 & 1.00000000 & 0.00275992 & FALSE\\\\\n",
       "\t44994 & isoComp\\_00001784 & geneComp\\_00000577 & ENST00000562621.1\\_3  & ADPGK  & ASD & Control & ADPGK  & protein\\_coding & retained\\_intron         & 19.08097 & ⋯ & 2.31330669 &  0.2105702 & NA & 0.79390000 & 0.6661000 & 0.921700000 &  0.2556000 & 0.92719830 & 0.00275992 &    NA\\\\\n",
       "\t44996 & isoComp\\_00001786 & geneComp\\_00000577 & ENST00000569058.1\\_3  & ADPGK  & ASD & Control & ADPGK  & protein\\_coding & retained\\_intron         & 19.08097 & ⋯ & 0.06615688 & -5.8666889 & NA & 0.10601667 & 0.2088667 & 0.003166667 & -0.2057000 & 0.00275992 & 0.00275992 &    NA\\\\\n",
       "\t49466 & isoComp\\_00002453 & geneComp\\_00000752 & ENST00000298375.12\\_3 & AKR1E2 & ASD & Control & AKR1E2 & protein\\_coding & protein\\_coding          &  1.63562 & ⋯ & 0.02285267 & -5.6463941 & NA & 0.61338333 & 0.8934333 & 0.333333333 & -0.5601000 & 0.94169619 & 0.02734436 & FALSE\\\\\n",
       "\t49468 & isoComp\\_00002455 & geneComp\\_00000752 & ENST00000474119.5\\_1  & AKR1E2 & ASD & Control & AKR1E2 & protein\\_coding & nonsense\\_mediated\\_decay &  1.63562 & ⋯ & 0.20560635 &  5.1851561 & NA & 0.07656667 & 0.0000000 & 0.153133333 &  0.1531333 & 0.82844863 & 0.02734436 &  TRUE\\\\\n",
       "\t49469 & isoComp\\_00002456 & geneComp\\_00000752 & ENST00000487985.1\\_3  & AKR1E2 & ASD & Control & AKR1E2 & protein\\_coding & protein\\_coding          &  1.63562 & ⋯ & 0.60477785 &  6.8097157 & NA & 0.24803333 & 0.0000000 & 0.496066667 &  0.4960667 & 0.02734436 & 0.02734436 & FALSE\\\\\n",
       "\\end{tabular}\n"
      ],
      "text/markdown": [
       "\n",
       "A data.frame: 6 × 30\n",
       "\n",
       "| <!--/--> | iso_ref &lt;chr&gt; | gene_ref &lt;chr&gt; | isoform_id &lt;chr&gt; | gene_id &lt;chr&gt; | condition_1 &lt;chr&gt; | condition_2 &lt;chr&gt; | gene_name &lt;chr&gt; | gene_biotype &lt;chr&gt; | iso_biotype &lt;chr&gt; | gene_overall_mean &lt;dbl&gt; | ⋯ ⋯ | iso_stderr_2 &lt;dbl&gt; | iso_log2_fold_change &lt;dbl&gt; | iso_q_value &lt;lgl&gt; | IF_overall &lt;dbl&gt; | IF1 &lt;dbl&gt; | IF2 &lt;dbl&gt; | dIF &lt;dbl&gt; | isoform_switch_q_value &lt;dbl&gt; | gene_switch_q_value &lt;dbl&gt; | PTC &lt;lgl&gt; |\n",
       "|---|---|---|---|---|---|---|---|---|---|---|---|---|---|---|---|---|---|---|---|---|---|\n",
       "| 44993 | isoComp_00001783 | geneComp_00000577 | ENST00000456471.3_6  | ADPGK  | ASD | Control | ADPGK  | protein_coding | protein_coding          | 19.08097 | ⋯ | 0.44097500 | -0.9669318 | NA | 0.09978333 | 0.1244333 | 0.075133333 | -0.0493000 | 1.00000000 | 0.00275992 | FALSE |\n",
       "| 44994 | isoComp_00001784 | geneComp_00000577 | ENST00000562621.1_3  | ADPGK  | ASD | Control | ADPGK  | protein_coding | retained_intron         | 19.08097 | ⋯ | 2.31330669 |  0.2105702 | NA | 0.79390000 | 0.6661000 | 0.921700000 |  0.2556000 | 0.92719830 | 0.00275992 |    NA |\n",
       "| 44996 | isoComp_00001786 | geneComp_00000577 | ENST00000569058.1_3  | ADPGK  | ASD | Control | ADPGK  | protein_coding | retained_intron         | 19.08097 | ⋯ | 0.06615688 | -5.8666889 | NA | 0.10601667 | 0.2088667 | 0.003166667 | -0.2057000 | 0.00275992 | 0.00275992 |    NA |\n",
       "| 49466 | isoComp_00002453 | geneComp_00000752 | ENST00000298375.12_3 | AKR1E2 | ASD | Control | AKR1E2 | protein_coding | protein_coding          |  1.63562 | ⋯ | 0.02285267 | -5.6463941 | NA | 0.61338333 | 0.8934333 | 0.333333333 | -0.5601000 | 0.94169619 | 0.02734436 | FALSE |\n",
       "| 49468 | isoComp_00002455 | geneComp_00000752 | ENST00000474119.5_1  | AKR1E2 | ASD | Control | AKR1E2 | protein_coding | nonsense_mediated_decay |  1.63562 | ⋯ | 0.20560635 |  5.1851561 | NA | 0.07656667 | 0.0000000 | 0.153133333 |  0.1531333 | 0.82844863 | 0.02734436 |  TRUE |\n",
       "| 49469 | isoComp_00002456 | geneComp_00000752 | ENST00000487985.1_3  | AKR1E2 | ASD | Control | AKR1E2 | protein_coding | protein_coding          |  1.63562 | ⋯ | 0.60477785 |  6.8097157 | NA | 0.24803333 | 0.0000000 | 0.496066667 |  0.4960667 | 0.02734436 | 0.02734436 | FALSE |\n",
       "\n"
      ],
      "text/plain": [
       "      iso_ref          gene_ref          isoform_id           gene_id\n",
       "44993 isoComp_00001783 geneComp_00000577 ENST00000456471.3_6  ADPGK  \n",
       "44994 isoComp_00001784 geneComp_00000577 ENST00000562621.1_3  ADPGK  \n",
       "44996 isoComp_00001786 geneComp_00000577 ENST00000569058.1_3  ADPGK  \n",
       "49466 isoComp_00002453 geneComp_00000752 ENST00000298375.12_3 AKR1E2 \n",
       "49468 isoComp_00002455 geneComp_00000752 ENST00000474119.5_1  AKR1E2 \n",
       "49469 isoComp_00002456 geneComp_00000752 ENST00000487985.1_3  AKR1E2 \n",
       "      condition_1 condition_2 gene_name gene_biotype   iso_biotype            \n",
       "44993 ASD         Control     ADPGK     protein_coding protein_coding         \n",
       "44994 ASD         Control     ADPGK     protein_coding retained_intron        \n",
       "44996 ASD         Control     ADPGK     protein_coding retained_intron        \n",
       "49466 ASD         Control     AKR1E2    protein_coding protein_coding         \n",
       "49468 ASD         Control     AKR1E2    protein_coding nonsense_mediated_decay\n",
       "49469 ASD         Control     AKR1E2    protein_coding protein_coding         \n",
       "      gene_overall_mean ⋯ iso_stderr_2 iso_log2_fold_change iso_q_value\n",
       "44993 19.08097          ⋯ 0.44097500   -0.9669318           NA         \n",
       "44994 19.08097          ⋯ 2.31330669    0.2105702           NA         \n",
       "44996 19.08097          ⋯ 0.06615688   -5.8666889           NA         \n",
       "49466  1.63562          ⋯ 0.02285267   -5.6463941           NA         \n",
       "49468  1.63562          ⋯ 0.20560635    5.1851561           NA         \n",
       "49469  1.63562          ⋯ 0.60477785    6.8097157           NA         \n",
       "      IF_overall IF1       IF2         dIF        isoform_switch_q_value\n",
       "44993 0.09978333 0.1244333 0.075133333 -0.0493000 1.00000000            \n",
       "44994 0.79390000 0.6661000 0.921700000  0.2556000 0.92719830            \n",
       "44996 0.10601667 0.2088667 0.003166667 -0.2057000 0.00275992            \n",
       "49466 0.61338333 0.8934333 0.333333333 -0.5601000 0.94169619            \n",
       "49468 0.07656667 0.0000000 0.153133333  0.1531333 0.82844863            \n",
       "49469 0.24803333 0.0000000 0.496066667  0.4960667 0.02734436            \n",
       "      gene_switch_q_value PTC  \n",
       "44993 0.00275992          FALSE\n",
       "44994 0.00275992             NA\n",
       "44996 0.00275992             NA\n",
       "49466 0.02734436          FALSE\n",
       "49468 0.02734436           TRUE\n",
       "49469 0.02734436          FALSE"
      ]
     },
     "metadata": {},
     "output_type": "display_data"
    }
   ],
   "source": [
    "head(switchListD$isoformFeatures)"
   ]
  },
  {
   "cell_type": "code",
   "execution_count": 28,
   "metadata": {
    "vscode": {
     "languageId": "r"
    }
   },
   "outputs": [
    {
     "data": {
      "text/html": [
       "<table class=\"dataframe\">\n",
       "<caption>A data.frame: 6 × 30</caption>\n",
       "<thead>\n",
       "\t<tr><th></th><th scope=col>iso_ref</th><th scope=col>gene_ref</th><th scope=col>isoform_id</th><th scope=col>gene_id</th><th scope=col>condition_1</th><th scope=col>condition_2</th><th scope=col>gene_name</th><th scope=col>gene_biotype</th><th scope=col>iso_biotype</th><th scope=col>gene_overall_mean</th><th scope=col>⋯</th><th scope=col>iso_stderr_2</th><th scope=col>iso_log2_fold_change</th><th scope=col>iso_q_value</th><th scope=col>IF_overall</th><th scope=col>IF1</th><th scope=col>IF2</th><th scope=col>dIF</th><th scope=col>isoform_switch_q_value</th><th scope=col>gene_switch_q_value</th><th scope=col>PTC</th></tr>\n",
       "\t<tr><th></th><th scope=col>&lt;chr&gt;</th><th scope=col>&lt;chr&gt;</th><th scope=col>&lt;chr&gt;</th><th scope=col>&lt;chr&gt;</th><th scope=col>&lt;chr&gt;</th><th scope=col>&lt;chr&gt;</th><th scope=col>&lt;chr&gt;</th><th scope=col>&lt;chr&gt;</th><th scope=col>&lt;chr&gt;</th><th scope=col>&lt;dbl&gt;</th><th scope=col>⋯</th><th scope=col>&lt;dbl&gt;</th><th scope=col>&lt;dbl&gt;</th><th scope=col>&lt;lgl&gt;</th><th scope=col>&lt;dbl&gt;</th><th scope=col>&lt;dbl&gt;</th><th scope=col>&lt;dbl&gt;</th><th scope=col>&lt;dbl&gt;</th><th scope=col>&lt;dbl&gt;</th><th scope=col>&lt;dbl&gt;</th><th scope=col>&lt;lgl&gt;</th></tr>\n",
       "</thead>\n",
       "<tbody>\n",
       "\t<tr><th scope=row>44993</th><td>isoComp_00001783</td><td>geneComp_00000577</td><td>ENST00000456471.3_6 </td><td>ADPGK </td><td>ASD</td><td>Control</td><td>ADPGK </td><td>protein_coding</td><td>protein_coding         </td><td>19.08097</td><td>⋯</td><td>0.44097500</td><td>-0.9669318</td><td>NA</td><td>0.09978333</td><td>0.1244333</td><td>0.075133333</td><td>-0.0493000</td><td>1.00000000</td><td>0.00275992</td><td>FALSE</td></tr>\n",
       "\t<tr><th scope=row>44994</th><td>isoComp_00001784</td><td>geneComp_00000577</td><td>ENST00000562621.1_3 </td><td>ADPGK </td><td>ASD</td><td>Control</td><td>ADPGK </td><td>protein_coding</td><td>retained_intron        </td><td>19.08097</td><td>⋯</td><td>2.31330669</td><td> 0.2105702</td><td>NA</td><td>0.79390000</td><td>0.6661000</td><td>0.921700000</td><td> 0.2556000</td><td>0.92719830</td><td>0.00275992</td><td>FALSE</td></tr>\n",
       "\t<tr><th scope=row>44996</th><td>isoComp_00001786</td><td>geneComp_00000577</td><td>ENST00000569058.1_3 </td><td>ADPGK </td><td>ASD</td><td>Control</td><td>ADPGK </td><td>protein_coding</td><td>retained_intron        </td><td>19.08097</td><td>⋯</td><td>0.06615688</td><td>-5.8666889</td><td>NA</td><td>0.10601667</td><td>0.2088667</td><td>0.003166667</td><td>-0.2057000</td><td>0.00275992</td><td>0.00275992</td><td>FALSE</td></tr>\n",
       "\t<tr><th scope=row>49466</th><td>isoComp_00002453</td><td>geneComp_00000752</td><td>ENST00000298375.12_3</td><td>AKR1E2</td><td>ASD</td><td>Control</td><td>AKR1E2</td><td>protein_coding</td><td>protein_coding         </td><td> 1.63562</td><td>⋯</td><td>0.02285267</td><td>-5.6463941</td><td>NA</td><td>0.61338333</td><td>0.8934333</td><td>0.333333333</td><td>-0.5601000</td><td>0.94169619</td><td>0.02734436</td><td>FALSE</td></tr>\n",
       "\t<tr><th scope=row>49468</th><td>isoComp_00002455</td><td>geneComp_00000752</td><td>ENST00000474119.5_1 </td><td>AKR1E2</td><td>ASD</td><td>Control</td><td>AKR1E2</td><td>protein_coding</td><td>nonsense_mediated_decay</td><td> 1.63562</td><td>⋯</td><td>0.20560635</td><td> 5.1851561</td><td>NA</td><td>0.07656667</td><td>0.0000000</td><td>0.153133333</td><td> 0.1531333</td><td>0.82844863</td><td>0.02734436</td><td> TRUE</td></tr>\n",
       "\t<tr><th scope=row>49469</th><td>isoComp_00002456</td><td>geneComp_00000752</td><td>ENST00000487985.1_3 </td><td>AKR1E2</td><td>ASD</td><td>Control</td><td>AKR1E2</td><td>protein_coding</td><td>protein_coding         </td><td> 1.63562</td><td>⋯</td><td>0.60477785</td><td> 6.8097157</td><td>NA</td><td>0.24803333</td><td>0.0000000</td><td>0.496066667</td><td> 0.4960667</td><td>0.02734436</td><td>0.02734436</td><td>   NA</td></tr>\n",
       "</tbody>\n",
       "</table>\n"
      ],
      "text/latex": [
       "A data.frame: 6 × 30\n",
       "\\begin{tabular}{r|lllllllllllllllllllll}\n",
       "  & iso\\_ref & gene\\_ref & isoform\\_id & gene\\_id & condition\\_1 & condition\\_2 & gene\\_name & gene\\_biotype & iso\\_biotype & gene\\_overall\\_mean & ⋯ & iso\\_stderr\\_2 & iso\\_log2\\_fold\\_change & iso\\_q\\_value & IF\\_overall & IF1 & IF2 & dIF & isoform\\_switch\\_q\\_value & gene\\_switch\\_q\\_value & PTC\\\\\n",
       "  & <chr> & <chr> & <chr> & <chr> & <chr> & <chr> & <chr> & <chr> & <chr> & <dbl> & ⋯ & <dbl> & <dbl> & <lgl> & <dbl> & <dbl> & <dbl> & <dbl> & <dbl> & <dbl> & <lgl>\\\\\n",
       "\\hline\n",
       "\t44993 & isoComp\\_00001783 & geneComp\\_00000577 & ENST00000456471.3\\_6  & ADPGK  & ASD & Control & ADPGK  & protein\\_coding & protein\\_coding          & 19.08097 & ⋯ & 0.44097500 & -0.9669318 & NA & 0.09978333 & 0.1244333 & 0.075133333 & -0.0493000 & 1.00000000 & 0.00275992 & FALSE\\\\\n",
       "\t44994 & isoComp\\_00001784 & geneComp\\_00000577 & ENST00000562621.1\\_3  & ADPGK  & ASD & Control & ADPGK  & protein\\_coding & retained\\_intron         & 19.08097 & ⋯ & 2.31330669 &  0.2105702 & NA & 0.79390000 & 0.6661000 & 0.921700000 &  0.2556000 & 0.92719830 & 0.00275992 & FALSE\\\\\n",
       "\t44996 & isoComp\\_00001786 & geneComp\\_00000577 & ENST00000569058.1\\_3  & ADPGK  & ASD & Control & ADPGK  & protein\\_coding & retained\\_intron         & 19.08097 & ⋯ & 0.06615688 & -5.8666889 & NA & 0.10601667 & 0.2088667 & 0.003166667 & -0.2057000 & 0.00275992 & 0.00275992 & FALSE\\\\\n",
       "\t49466 & isoComp\\_00002453 & geneComp\\_00000752 & ENST00000298375.12\\_3 & AKR1E2 & ASD & Control & AKR1E2 & protein\\_coding & protein\\_coding          &  1.63562 & ⋯ & 0.02285267 & -5.6463941 & NA & 0.61338333 & 0.8934333 & 0.333333333 & -0.5601000 & 0.94169619 & 0.02734436 & FALSE\\\\\n",
       "\t49468 & isoComp\\_00002455 & geneComp\\_00000752 & ENST00000474119.5\\_1  & AKR1E2 & ASD & Control & AKR1E2 & protein\\_coding & nonsense\\_mediated\\_decay &  1.63562 & ⋯ & 0.20560635 &  5.1851561 & NA & 0.07656667 & 0.0000000 & 0.153133333 &  0.1531333 & 0.82844863 & 0.02734436 &  TRUE\\\\\n",
       "\t49469 & isoComp\\_00002456 & geneComp\\_00000752 & ENST00000487985.1\\_3  & AKR1E2 & ASD & Control & AKR1E2 & protein\\_coding & protein\\_coding          &  1.63562 & ⋯ & 0.60477785 &  6.8097157 & NA & 0.24803333 & 0.0000000 & 0.496066667 &  0.4960667 & 0.02734436 & 0.02734436 &    NA\\\\\n",
       "\\end{tabular}\n"
      ],
      "text/markdown": [
       "\n",
       "A data.frame: 6 × 30\n",
       "\n",
       "| <!--/--> | iso_ref &lt;chr&gt; | gene_ref &lt;chr&gt; | isoform_id &lt;chr&gt; | gene_id &lt;chr&gt; | condition_1 &lt;chr&gt; | condition_2 &lt;chr&gt; | gene_name &lt;chr&gt; | gene_biotype &lt;chr&gt; | iso_biotype &lt;chr&gt; | gene_overall_mean &lt;dbl&gt; | ⋯ ⋯ | iso_stderr_2 &lt;dbl&gt; | iso_log2_fold_change &lt;dbl&gt; | iso_q_value &lt;lgl&gt; | IF_overall &lt;dbl&gt; | IF1 &lt;dbl&gt; | IF2 &lt;dbl&gt; | dIF &lt;dbl&gt; | isoform_switch_q_value &lt;dbl&gt; | gene_switch_q_value &lt;dbl&gt; | PTC &lt;lgl&gt; |\n",
       "|---|---|---|---|---|---|---|---|---|---|---|---|---|---|---|---|---|---|---|---|---|---|\n",
       "| 44993 | isoComp_00001783 | geneComp_00000577 | ENST00000456471.3_6  | ADPGK  | ASD | Control | ADPGK  | protein_coding | protein_coding          | 19.08097 | ⋯ | 0.44097500 | -0.9669318 | NA | 0.09978333 | 0.1244333 | 0.075133333 | -0.0493000 | 1.00000000 | 0.00275992 | FALSE |\n",
       "| 44994 | isoComp_00001784 | geneComp_00000577 | ENST00000562621.1_3  | ADPGK  | ASD | Control | ADPGK  | protein_coding | retained_intron         | 19.08097 | ⋯ | 2.31330669 |  0.2105702 | NA | 0.79390000 | 0.6661000 | 0.921700000 |  0.2556000 | 0.92719830 | 0.00275992 | FALSE |\n",
       "| 44996 | isoComp_00001786 | geneComp_00000577 | ENST00000569058.1_3  | ADPGK  | ASD | Control | ADPGK  | protein_coding | retained_intron         | 19.08097 | ⋯ | 0.06615688 | -5.8666889 | NA | 0.10601667 | 0.2088667 | 0.003166667 | -0.2057000 | 0.00275992 | 0.00275992 | FALSE |\n",
       "| 49466 | isoComp_00002453 | geneComp_00000752 | ENST00000298375.12_3 | AKR1E2 | ASD | Control | AKR1E2 | protein_coding | protein_coding          |  1.63562 | ⋯ | 0.02285267 | -5.6463941 | NA | 0.61338333 | 0.8934333 | 0.333333333 | -0.5601000 | 0.94169619 | 0.02734436 | FALSE |\n",
       "| 49468 | isoComp_00002455 | geneComp_00000752 | ENST00000474119.5_1  | AKR1E2 | ASD | Control | AKR1E2 | protein_coding | nonsense_mediated_decay |  1.63562 | ⋯ | 0.20560635 |  5.1851561 | NA | 0.07656667 | 0.0000000 | 0.153133333 |  0.1531333 | 0.82844863 | 0.02734436 |  TRUE |\n",
       "| 49469 | isoComp_00002456 | geneComp_00000752 | ENST00000487985.1_3  | AKR1E2 | ASD | Control | AKR1E2 | protein_coding | protein_coding          |  1.63562 | ⋯ | 0.60477785 |  6.8097157 | NA | 0.24803333 | 0.0000000 | 0.496066667 |  0.4960667 | 0.02734436 | 0.02734436 |    NA |\n",
       "\n"
      ],
      "text/plain": [
       "      iso_ref          gene_ref          isoform_id           gene_id\n",
       "44993 isoComp_00001783 geneComp_00000577 ENST00000456471.3_6  ADPGK  \n",
       "44994 isoComp_00001784 geneComp_00000577 ENST00000562621.1_3  ADPGK  \n",
       "44996 isoComp_00001786 geneComp_00000577 ENST00000569058.1_3  ADPGK  \n",
       "49466 isoComp_00002453 geneComp_00000752 ENST00000298375.12_3 AKR1E2 \n",
       "49468 isoComp_00002455 geneComp_00000752 ENST00000474119.5_1  AKR1E2 \n",
       "49469 isoComp_00002456 geneComp_00000752 ENST00000487985.1_3  AKR1E2 \n",
       "      condition_1 condition_2 gene_name gene_biotype   iso_biotype            \n",
       "44993 ASD         Control     ADPGK     protein_coding protein_coding         \n",
       "44994 ASD         Control     ADPGK     protein_coding retained_intron        \n",
       "44996 ASD         Control     ADPGK     protein_coding retained_intron        \n",
       "49466 ASD         Control     AKR1E2    protein_coding protein_coding         \n",
       "49468 ASD         Control     AKR1E2    protein_coding nonsense_mediated_decay\n",
       "49469 ASD         Control     AKR1E2    protein_coding protein_coding         \n",
       "      gene_overall_mean ⋯ iso_stderr_2 iso_log2_fold_change iso_q_value\n",
       "44993 19.08097          ⋯ 0.44097500   -0.9669318           NA         \n",
       "44994 19.08097          ⋯ 2.31330669    0.2105702           NA         \n",
       "44996 19.08097          ⋯ 0.06615688   -5.8666889           NA         \n",
       "49466  1.63562          ⋯ 0.02285267   -5.6463941           NA         \n",
       "49468  1.63562          ⋯ 0.20560635    5.1851561           NA         \n",
       "49469  1.63562          ⋯ 0.60477785    6.8097157           NA         \n",
       "      IF_overall IF1       IF2         dIF        isoform_switch_q_value\n",
       "44993 0.09978333 0.1244333 0.075133333 -0.0493000 1.00000000            \n",
       "44994 0.79390000 0.6661000 0.921700000  0.2556000 0.92719830            \n",
       "44996 0.10601667 0.2088667 0.003166667 -0.2057000 0.00275992            \n",
       "49466 0.61338333 0.8934333 0.333333333 -0.5601000 0.94169619            \n",
       "49468 0.07656667 0.0000000 0.153133333  0.1531333 0.82844863            \n",
       "49469 0.24803333 0.0000000 0.496066667  0.4960667 0.02734436            \n",
       "      gene_switch_q_value PTC  \n",
       "44993 0.00275992          FALSE\n",
       "44994 0.00275992          FALSE\n",
       "44996 0.00275992          FALSE\n",
       "49466 0.02734436          FALSE\n",
       "49468 0.02734436           TRUE\n",
       "49469 0.02734436             NA"
      ]
     },
     "metadata": {},
     "output_type": "display_data"
    },
    {
     "data": {
      "text/html": [
       "<style>\n",
       ".list-inline {list-style: none; margin:0; padding: 0}\n",
       ".list-inline>li {display: inline-block}\n",
       ".list-inline>li:not(:last-child)::after {content: \"\\00b7\"; padding: 0 .5ex}\n",
       "</style>\n",
       "<ol class=list-inline><li>'isoformFeatures'</li><li>'exons'</li><li>'conditions'</li><li>'designMatrix'</li><li>'sourceId'</li><li>'isoformCountMatrix'</li><li>'isoformRepExpression'</li><li>'runInfo'</li><li>'orfAnalysis'</li><li>'isoformRepIF'</li><li>'ntSequence'</li><li>'isoformSwitchAnalysis'</li></ol>\n"
      ],
      "text/latex": [
       "\\begin{enumerate*}\n",
       "\\item 'isoformFeatures'\n",
       "\\item 'exons'\n",
       "\\item 'conditions'\n",
       "\\item 'designMatrix'\n",
       "\\item 'sourceId'\n",
       "\\item 'isoformCountMatrix'\n",
       "\\item 'isoformRepExpression'\n",
       "\\item 'runInfo'\n",
       "\\item 'orfAnalysis'\n",
       "\\item 'isoformRepIF'\n",
       "\\item 'ntSequence'\n",
       "\\item 'isoformSwitchAnalysis'\n",
       "\\end{enumerate*}\n"
      ],
      "text/markdown": [
       "1. 'isoformFeatures'\n",
       "2. 'exons'\n",
       "3. 'conditions'\n",
       "4. 'designMatrix'\n",
       "5. 'sourceId'\n",
       "6. 'isoformCountMatrix'\n",
       "7. 'isoformRepExpression'\n",
       "8. 'runInfo'\n",
       "9. 'orfAnalysis'\n",
       "10. 'isoformRepIF'\n",
       "11. 'ntSequence'\n",
       "12. 'isoformSwitchAnalysis'\n",
       "\n",
       "\n"
      ],
      "text/plain": [
       " [1] \"isoformFeatures\"       \"exons\"                 \"conditions\"           \n",
       " [4] \"designMatrix\"          \"sourceId\"              \"isoformCountMatrix\"   \n",
       " [7] \"isoformRepExpression\"  \"runInfo\"               \"orfAnalysis\"          \n",
       "[10] \"isoformRepIF\"          \"ntSequence\"            \"isoformSwitchAnalysis\""
      ]
     },
     "metadata": {},
     "output_type": "display_data"
    }
   ],
   "source": [
    "head(switchListO$isoformFeatures)\n",
    "names(switchListO)"
   ]
  },
  {
   "cell_type": "code",
   "execution_count": null,
   "metadata": {
    "vscode": {
     "languageId": "r"
    }
   },
   "outputs": [
    {
     "name": "stderr",
     "output_type": "stream",
     "text": [
      "Added coding potential to 587 (100%) transcripts\n",
      "\n"
     ]
    }
   ],
   "source": [
    "#为每个isoform添加coding potential分数\n",
    "#switchListC <- analyzeCPAT(switchListS, pathToCPATresultFile=\"/disk1/wenqing/tmp_data/ASD/prepForIso/cpat_res/output1\", codingCutoff=0.364, removeNoncodinORFs=FALSE)\n"
   ]
  },
  {
   "cell_type": "code",
   "execution_count": null,
   "metadata": {
    "vscode": {
     "languageId": "r"
    }
   },
   "outputs": [
    {
     "data": {
      "text/html": [
       "<style>\n",
       ".list-inline {list-style: none; margin:0; padding: 0}\n",
       ".list-inline>li {display: inline-block}\n",
       ".list-inline>li:not(:last-child)::after {content: \"\\00b7\"; padding: 0 .5ex}\n",
       "</style>\n",
       "<ol class=list-inline><li>'isoformFeatures'</li><li>'exons'</li><li>'conditions'</li><li>'designMatrix'</li><li>'sourceId'</li><li>'isoformCountMatrix'</li><li>'isoformRepExpression'</li><li>'runInfo'</li><li>'orfAnalysis'</li><li>'isoformRepIF'</li><li>'ntSequence'</li><li>'isoformSwitchAnalysis'</li><li>'aaSequence'</li></ol>\n"
      ],
      "text/latex": [
       "\\begin{enumerate*}\n",
       "\\item 'isoformFeatures'\n",
       "\\item 'exons'\n",
       "\\item 'conditions'\n",
       "\\item 'designMatrix'\n",
       "\\item 'sourceId'\n",
       "\\item 'isoformCountMatrix'\n",
       "\\item 'isoformRepExpression'\n",
       "\\item 'runInfo'\n",
       "\\item 'orfAnalysis'\n",
       "\\item 'isoformRepIF'\n",
       "\\item 'ntSequence'\n",
       "\\item 'isoformSwitchAnalysis'\n",
       "\\item 'aaSequence'\n",
       "\\end{enumerate*}\n"
      ],
      "text/markdown": [
       "1. 'isoformFeatures'\n",
       "2. 'exons'\n",
       "3. 'conditions'\n",
       "4. 'designMatrix'\n",
       "5. 'sourceId'\n",
       "6. 'isoformCountMatrix'\n",
       "7. 'isoformRepExpression'\n",
       "8. 'runInfo'\n",
       "9. 'orfAnalysis'\n",
       "10. 'isoformRepIF'\n",
       "11. 'ntSequence'\n",
       "12. 'isoformSwitchAnalysis'\n",
       "13. 'aaSequence'\n",
       "\n",
       "\n"
      ],
      "text/plain": [
       " [1] \"isoformFeatures\"       \"exons\"                 \"conditions\"           \n",
       " [4] \"designMatrix\"          \"sourceId\"              \"isoformCountMatrix\"   \n",
       " [7] \"isoformRepExpression\"  \"runInfo\"               \"orfAnalysis\"          \n",
       "[10] \"isoformRepIF\"          \"ntSequence\"            \"isoformSwitchAnalysis\"\n",
       "[13] \"aaSequence\"           "
      ]
     },
     "metadata": {},
     "output_type": "display_data"
    },
    {
     "data": {
      "text/plain": [
       "\n",
       "FALSE  TRUE \n",
       "  467   120 "
      ]
     },
     "metadata": {},
     "output_type": "display_data"
    }
   ],
   "source": [
    "#names(switchListC)\n",
    "#str(switchListC$aaSequence)\n",
    "#587个有isoform usage组件差异的isoform仅有120个有coding potential\n",
    "#table(switchListC$isoformFeatures$codingPotential)"
   ]
  },
  {
   "cell_type": "code",
   "execution_count": null,
   "metadata": {
    "vscode": {
     "languageId": "r"
    }
   },
   "outputs": [
    {
     "name": "stderr",
     "output_type": "stream",
     "text": [
      "Converting AA coordinats to transcript and genomic coordinats...\n",
      "\n"
     ]
    },
    {
     "name": "stdout",
     "output_type": "stream",
     "text": [
      "  |======================================================================| 100%\n"
     ]
    },
    {
     "name": "stderr",
     "output_type": "stream",
     "text": [
      "Added domain information to 223 (37.99%) transcripts\n",
      "\n"
     ]
    }
   ],
   "source": [
    "#analyzePFAM：添加Prediction of protein domains的结果\n",
    "#switchListP <- analyzePFAM(switchListC, pathToPFAMresultFile=\"/disk1/wenqing/tmp_data/ASD/prepForIso/pfam_res/pfam_scan_result.fa\")                            \n"
   ]
  },
  {
   "cell_type": "code",
   "execution_count": null,
   "metadata": {
    "vscode": {
     "languageId": "r"
    }
   },
   "outputs": [
    {
     "data": {
      "text/html": [
       "<style>\n",
       ".list-inline {list-style: none; margin:0; padding: 0}\n",
       ".list-inline>li {display: inline-block}\n",
       ".list-inline>li:not(:last-child)::after {content: \"\\00b7\"; padding: 0 .5ex}\n",
       "</style>\n",
       "<ol class=list-inline><li>'isoformFeatures'</li><li>'exons'</li><li>'conditions'</li><li>'designMatrix'</li><li>'sourceId'</li><li>'isoformCountMatrix'</li><li>'isoformRepExpression'</li><li>'runInfo'</li><li>'orfAnalysis'</li><li>'isoformRepIF'</li><li>'ntSequence'</li><li>'isoformSwitchAnalysis'</li><li>'aaSequence'</li><li>'domainAnalysis'</li></ol>\n"
      ],
      "text/latex": [
       "\\begin{enumerate*}\n",
       "\\item 'isoformFeatures'\n",
       "\\item 'exons'\n",
       "\\item 'conditions'\n",
       "\\item 'designMatrix'\n",
       "\\item 'sourceId'\n",
       "\\item 'isoformCountMatrix'\n",
       "\\item 'isoformRepExpression'\n",
       "\\item 'runInfo'\n",
       "\\item 'orfAnalysis'\n",
       "\\item 'isoformRepIF'\n",
       "\\item 'ntSequence'\n",
       "\\item 'isoformSwitchAnalysis'\n",
       "\\item 'aaSequence'\n",
       "\\item 'domainAnalysis'\n",
       "\\end{enumerate*}\n"
      ],
      "text/markdown": [
       "1. 'isoformFeatures'\n",
       "2. 'exons'\n",
       "3. 'conditions'\n",
       "4. 'designMatrix'\n",
       "5. 'sourceId'\n",
       "6. 'isoformCountMatrix'\n",
       "7. 'isoformRepExpression'\n",
       "8. 'runInfo'\n",
       "9. 'orfAnalysis'\n",
       "10. 'isoformRepIF'\n",
       "11. 'ntSequence'\n",
       "12. 'isoformSwitchAnalysis'\n",
       "13. 'aaSequence'\n",
       "14. 'domainAnalysis'\n",
       "\n",
       "\n"
      ],
      "text/plain": [
       " [1] \"isoformFeatures\"       \"exons\"                 \"conditions\"           \n",
       " [4] \"designMatrix\"          \"sourceId\"              \"isoformCountMatrix\"   \n",
       " [7] \"isoformRepExpression\"  \"runInfo\"               \"orfAnalysis\"          \n",
       "[10] \"isoformRepIF\"          \"ntSequence\"            \"isoformSwitchAnalysis\"\n",
       "[13] \"aaSequence\"            \"domainAnalysis\"       "
      ]
     },
     "metadata": {},
     "output_type": "display_data"
    },
    {
     "data": {
      "text/html": [
       "69"
      ],
      "text/latex": [
       "69"
      ],
      "text/markdown": [
       "69"
      ],
      "text/plain": [
       "[1] 69"
      ]
     },
     "metadata": {},
     "output_type": "display_data"
    },
    {
     "data": {
      "text/plain": [
       "\n",
       " no yes \n",
       "295 223 "
      ]
     },
     "metadata": {},
     "output_type": "display_data"
    },
    {
     "data": {
      "text/html": [
       "<table class=\"dataframe\">\n",
       "<caption>A data.frame: 6 × 19</caption>\n",
       "<thead>\n",
       "\t<tr><th></th><th scope=col>isoform_id</th><th scope=col>hmm_acc</th><th scope=col>hmm_name</th><th scope=col>clan</th><th scope=col>orf_aa_start</th><th scope=col>orf_aa_end</th><th scope=col>type</th><th scope=col>bit_score</th><th scope=col>E_value</th><th scope=col>significant</th><th scope=col>residue</th><th scope=col>domain_isotype</th><th scope=col>domain_isotype_simple</th><th scope=col>transcriptStart</th><th scope=col>transcriptEnd</th><th scope=col>pfamStarExon</th><th scope=col>pfamEndExon</th><th scope=col>pfamStartGenomic</th><th scope=col>pfamEndGenomic</th></tr>\n",
       "\t<tr><th></th><th scope=col>&lt;chr&gt;</th><th scope=col>&lt;chr&gt;</th><th scope=col>&lt;chr&gt;</th><th scope=col>&lt;chr&gt;</th><th scope=col>&lt;int&gt;</th><th scope=col>&lt;int&gt;</th><th scope=col>&lt;chr&gt;</th><th scope=col>&lt;dbl&gt;</th><th scope=col>&lt;dbl&gt;</th><th scope=col>&lt;int&gt;</th><th scope=col>&lt;chr&gt;</th><th scope=col>&lt;chr&gt;</th><th scope=col>&lt;chr&gt;</th><th scope=col>&lt;dbl&gt;</th><th scope=col>&lt;dbl&gt;</th><th scope=col>&lt;int&gt;</th><th scope=col>&lt;int&gt;</th><th scope=col>&lt;dbl&gt;</th><th scope=col>&lt;dbl&gt;</th></tr>\n",
       "</thead>\n",
       "<tbody>\n",
       "\t<tr><th scope=row>1</th><td>ENST00000040663.8_3  </td><td>PF01008.21</td><td>IF-2B     </td><td>CL0063 </td><td> 44</td><td>346</td><td>Family</td><td>263.9</td><td>1.7e-78</td><td>1</td><td>predicted_active_site</td><td>Reference</td><td>Reference    </td><td>197</td><td>1105</td><td>1</td><td>6</td><td>13875532</td><td>13883023</td></tr>\n",
       "\t<tr><th scope=row>2</th><td>ENST00000215531.6_9  </td><td>PF15807.9 </td><td>MAP17     </td><td>No_clan</td><td>  1</td><td>130</td><td>Family</td><td>179.5</td><td>2.6e-53</td><td>1</td><td>NA                   </td><td>Reference</td><td>Reference    </td><td> 63</td><td> 452</td><td>1</td><td>4</td><td> 3480461</td><td> 3474844</td></tr>\n",
       "\t<tr><th scope=row>3</th><td>ENST00000222250.5_5  </td><td>PF00339.33</td><td>Arrestin_N</td><td>CL0135 </td><td>  9</td><td>158</td><td>Domain</td><td>143.5</td><td>5.2e-42</td><td>1</td><td>NA                   </td><td>Reference</td><td>Reference    </td><td>166</td><td> 615</td><td>1</td><td>3</td><td>18119144</td><td>18119912</td></tr>\n",
       "\t<tr><th scope=row>4</th><td>ENST00000222250.5_5  </td><td>PF02752.26</td><td>Arrestin_C</td><td>CL0135 </td><td>180</td><td>307</td><td>Domain</td><td> 96.0</td><td>2.5e-27</td><td>1</td><td>NA                   </td><td>Reference</td><td>Reference    </td><td>679</td><td>1062</td><td>4</td><td>6</td><td>18120449</td><td>18121076</td></tr>\n",
       "\t<tr><th scope=row>5</th><td>ENST00000222390.11_14</td><td>PF00024.30</td><td>PAN_1     </td><td>CL0168 </td><td> 40</td><td>124</td><td>Domain</td><td> 47.3</td><td>1.6e-12</td><td>1</td><td>NA                   </td><td>Insertion</td><td>Non-reference</td><td>194</td><td> 448</td><td>2</td><td>4</td><td>81392159</td><td>81386615</td></tr>\n",
       "\t<tr><th scope=row>6</th><td>ENST00000222390.11_14</td><td>PF00051.22</td><td>Kringle   </td><td>CL0602 </td><td>128</td><td>206</td><td>Domain</td><td> 99.9</td><td>8.7e-29</td><td>1</td><td>NA                   </td><td>Reference</td><td>Reference    </td><td>458</td><td> 694</td><td>4</td><td>5</td><td>81386605</td><td>81381443</td></tr>\n",
       "</tbody>\n",
       "</table>\n"
      ],
      "text/latex": [
       "A data.frame: 6 × 19\n",
       "\\begin{tabular}{r|lllllllllllllllllll}\n",
       "  & isoform\\_id & hmm\\_acc & hmm\\_name & clan & orf\\_aa\\_start & orf\\_aa\\_end & type & bit\\_score & E\\_value & significant & residue & domain\\_isotype & domain\\_isotype\\_simple & transcriptStart & transcriptEnd & pfamStarExon & pfamEndExon & pfamStartGenomic & pfamEndGenomic\\\\\n",
       "  & <chr> & <chr> & <chr> & <chr> & <int> & <int> & <chr> & <dbl> & <dbl> & <int> & <chr> & <chr> & <chr> & <dbl> & <dbl> & <int> & <int> & <dbl> & <dbl>\\\\\n",
       "\\hline\n",
       "\t1 & ENST00000040663.8\\_3   & PF01008.21 & IF-2B      & CL0063  &  44 & 346 & Family & 263.9 & 1.7e-78 & 1 & predicted\\_active\\_site & Reference & Reference     & 197 & 1105 & 1 & 6 & 13875532 & 13883023\\\\\n",
       "\t2 & ENST00000215531.6\\_9   & PF15807.9  & MAP17      & No\\_clan &   1 & 130 & Family & 179.5 & 2.6e-53 & 1 & NA                    & Reference & Reference     &  63 &  452 & 1 & 4 &  3480461 &  3474844\\\\\n",
       "\t3 & ENST00000222250.5\\_5   & PF00339.33 & Arrestin\\_N & CL0135  &   9 & 158 & Domain & 143.5 & 5.2e-42 & 1 & NA                    & Reference & Reference     & 166 &  615 & 1 & 3 & 18119144 & 18119912\\\\\n",
       "\t4 & ENST00000222250.5\\_5   & PF02752.26 & Arrestin\\_C & CL0135  & 180 & 307 & Domain &  96.0 & 2.5e-27 & 1 & NA                    & Reference & Reference     & 679 & 1062 & 4 & 6 & 18120449 & 18121076\\\\\n",
       "\t5 & ENST00000222390.11\\_14 & PF00024.30 & PAN\\_1      & CL0168  &  40 & 124 & Domain &  47.3 & 1.6e-12 & 1 & NA                    & Insertion & Non-reference & 194 &  448 & 2 & 4 & 81392159 & 81386615\\\\\n",
       "\t6 & ENST00000222390.11\\_14 & PF00051.22 & Kringle    & CL0602  & 128 & 206 & Domain &  99.9 & 8.7e-29 & 1 & NA                    & Reference & Reference     & 458 &  694 & 4 & 5 & 81386605 & 81381443\\\\\n",
       "\\end{tabular}\n"
      ],
      "text/markdown": [
       "\n",
       "A data.frame: 6 × 19\n",
       "\n",
       "| <!--/--> | isoform_id &lt;chr&gt; | hmm_acc &lt;chr&gt; | hmm_name &lt;chr&gt; | clan &lt;chr&gt; | orf_aa_start &lt;int&gt; | orf_aa_end &lt;int&gt; | type &lt;chr&gt; | bit_score &lt;dbl&gt; | E_value &lt;dbl&gt; | significant &lt;int&gt; | residue &lt;chr&gt; | domain_isotype &lt;chr&gt; | domain_isotype_simple &lt;chr&gt; | transcriptStart &lt;dbl&gt; | transcriptEnd &lt;dbl&gt; | pfamStarExon &lt;int&gt; | pfamEndExon &lt;int&gt; | pfamStartGenomic &lt;dbl&gt; | pfamEndGenomic &lt;dbl&gt; |\n",
       "|---|---|---|---|---|---|---|---|---|---|---|---|---|---|---|---|---|---|---|---|\n",
       "| 1 | ENST00000040663.8_3   | PF01008.21 | IF-2B      | CL0063  |  44 | 346 | Family | 263.9 | 1.7e-78 | 1 | predicted_active_site | Reference | Reference     | 197 | 1105 | 1 | 6 | 13875532 | 13883023 |\n",
       "| 2 | ENST00000215531.6_9   | PF15807.9  | MAP17      | No_clan |   1 | 130 | Family | 179.5 | 2.6e-53 | 1 | NA                    | Reference | Reference     |  63 |  452 | 1 | 4 |  3480461 |  3474844 |\n",
       "| 3 | ENST00000222250.5_5   | PF00339.33 | Arrestin_N | CL0135  |   9 | 158 | Domain | 143.5 | 5.2e-42 | 1 | NA                    | Reference | Reference     | 166 |  615 | 1 | 3 | 18119144 | 18119912 |\n",
       "| 4 | ENST00000222250.5_5   | PF02752.26 | Arrestin_C | CL0135  | 180 | 307 | Domain |  96.0 | 2.5e-27 | 1 | NA                    | Reference | Reference     | 679 | 1062 | 4 | 6 | 18120449 | 18121076 |\n",
       "| 5 | ENST00000222390.11_14 | PF00024.30 | PAN_1      | CL0168  |  40 | 124 | Domain |  47.3 | 1.6e-12 | 1 | NA                    | Insertion | Non-reference | 194 |  448 | 2 | 4 | 81392159 | 81386615 |\n",
       "| 6 | ENST00000222390.11_14 | PF00051.22 | Kringle    | CL0602  | 128 | 206 | Domain |  99.9 | 8.7e-29 | 1 | NA                    | Reference | Reference     | 458 |  694 | 4 | 5 | 81386605 | 81381443 |\n",
       "\n"
      ],
      "text/plain": [
       "  isoform_id            hmm_acc    hmm_name   clan    orf_aa_start orf_aa_end\n",
       "1 ENST00000040663.8_3   PF01008.21 IF-2B      CL0063   44          346       \n",
       "2 ENST00000215531.6_9   PF15807.9  MAP17      No_clan   1          130       \n",
       "3 ENST00000222250.5_5   PF00339.33 Arrestin_N CL0135    9          158       \n",
       "4 ENST00000222250.5_5   PF02752.26 Arrestin_C CL0135  180          307       \n",
       "5 ENST00000222390.11_14 PF00024.30 PAN_1      CL0168   40          124       \n",
       "6 ENST00000222390.11_14 PF00051.22 Kringle    CL0602  128          206       \n",
       "  type   bit_score E_value significant residue               domain_isotype\n",
       "1 Family 263.9     1.7e-78 1           predicted_active_site Reference     \n",
       "2 Family 179.5     2.6e-53 1           NA                    Reference     \n",
       "3 Domain 143.5     5.2e-42 1           NA                    Reference     \n",
       "4 Domain  96.0     2.5e-27 1           NA                    Reference     \n",
       "5 Domain  47.3     1.6e-12 1           NA                    Insertion     \n",
       "6 Domain  99.9     8.7e-29 1           NA                    Reference     \n",
       "  domain_isotype_simple transcriptStart transcriptEnd pfamStarExon pfamEndExon\n",
       "1 Reference             197             1105          1            6          \n",
       "2 Reference              63              452          1            4          \n",
       "3 Reference             166              615          1            3          \n",
       "4 Reference             679             1062          4            6          \n",
       "5 Non-reference         194              448          2            4          \n",
       "6 Reference             458              694          4            5          \n",
       "  pfamStartGenomic pfamEndGenomic\n",
       "1 13875532         13883023      \n",
       "2  3480461          3474844      \n",
       "3 18119144         18119912      \n",
       "4 18120449         18121076      \n",
       "5 81392159         81386615      \n",
       "6 81386605         81381443      "
      ]
     },
     "metadata": {},
     "output_type": "display_data"
    }
   ],
   "source": [
    "#names(switchListP)\n",
    "#587-295-223\n",
    "#587个iso中，295个未落在domain中，223落在结构域中，69个信息未知,其中：223个iso所位于的domain有重叠，详见switchListP$domainAnalysis\n",
    "#table(switchListP$isoformFeatures$domain_identified)\n",
    "#head(switchListP$domainAnalysis)"
   ]
  },
  {
   "cell_type": "code",
   "execution_count": null,
   "metadata": {
    "vscode": {
     "languageId": "r"
    }
   },
   "outputs": [
    {
     "data": {
      "text/plain": [
       "\n",
       " no yes \n",
       "295 223 "
      ]
     },
     "metadata": {},
     "output_type": "display_data"
    }
   ],
   "source": [
    "#table(switchListP$isoformFeatures$domain_identified)"
   ]
  },
  {
   "cell_type": "code",
   "execution_count": null,
   "metadata": {
    "vscode": {
     "languageId": "r"
    }
   },
   "outputs": [
    {
     "name": "stderr",
     "output_type": "stream",
     "text": [
      "Step 1 of 4: Extracting genes with isoform switches...\n",
      "\n",
      "Step 2 of 4: Analyzing 138 pairwise isoforms comparisons...\n",
      "\n"
     ]
    },
    {
     "name": "stdout",
     "output_type": "stream",
     "text": [
      "  |======================================================================| 100%\n"
     ]
    },
    {
     "name": "stderr",
     "output_type": "stream",
     "text": [
      "Step 3 of 4: Massaging isoforms comparisons results...\n",
      "\n",
      "Step 4 of 4: Preparing output...\n",
      "\n",
      "Identified  genes with containing isoforms switching with functional consequences...\n",
      "\n"
     ]
    }
   ],
   "source": [
    "#switchListCQ <- analyzeSwitchConsequences(switchListA, consequencesToAnalyze=c(\"intron_retention\", \"coding_potential\", \"ORF_seq_similarity\", \"NMD_status\", \"domains_identified\"))       "
   ]
  },
  {
   "cell_type": "code",
   "execution_count": null,
   "metadata": {
    "vscode": {
     "languageId": "r"
    }
   },
   "outputs": [
    {
     "data": {
      "text/html": [
       "<style>\n",
       ".list-inline {list-style: none; margin:0; padding: 0}\n",
       ".list-inline>li {display: inline-block}\n",
       ".list-inline>li:not(:last-child)::after {content: \"\\00b7\"; padding: 0 .5ex}\n",
       "</style>\n",
       "<ol class=list-inline><li>'isoformFeatures'</li><li>'exons'</li><li>'conditions'</li><li>'designMatrix'</li><li>'sourceId'</li><li>'isoformCountMatrix'</li><li>'isoformRepExpression'</li><li>'runInfo'</li><li>'orfAnalysis'</li><li>'isoformRepIF'</li><li>'ntSequence'</li><li>'isoformSwitchAnalysis'</li><li>'aaSequence'</li><li>'domainAnalysis'</li><li>'AlternativeSplicingAnalysis'</li><li>'switchConsequence'</li></ol>\n"
      ],
      "text/latex": [
       "\\begin{enumerate*}\n",
       "\\item 'isoformFeatures'\n",
       "\\item 'exons'\n",
       "\\item 'conditions'\n",
       "\\item 'designMatrix'\n",
       "\\item 'sourceId'\n",
       "\\item 'isoformCountMatrix'\n",
       "\\item 'isoformRepExpression'\n",
       "\\item 'runInfo'\n",
       "\\item 'orfAnalysis'\n",
       "\\item 'isoformRepIF'\n",
       "\\item 'ntSequence'\n",
       "\\item 'isoformSwitchAnalysis'\n",
       "\\item 'aaSequence'\n",
       "\\item 'domainAnalysis'\n",
       "\\item 'AlternativeSplicingAnalysis'\n",
       "\\item 'switchConsequence'\n",
       "\\end{enumerate*}\n"
      ],
      "text/markdown": [
       "1. 'isoformFeatures'\n",
       "2. 'exons'\n",
       "3. 'conditions'\n",
       "4. 'designMatrix'\n",
       "5. 'sourceId'\n",
       "6. 'isoformCountMatrix'\n",
       "7. 'isoformRepExpression'\n",
       "8. 'runInfo'\n",
       "9. 'orfAnalysis'\n",
       "10. 'isoformRepIF'\n",
       "11. 'ntSequence'\n",
       "12. 'isoformSwitchAnalysis'\n",
       "13. 'aaSequence'\n",
       "14. 'domainAnalysis'\n",
       "15. 'AlternativeSplicingAnalysis'\n",
       "16. 'switchConsequence'\n",
       "\n",
       "\n"
      ],
      "text/plain": [
       " [1] \"isoformFeatures\"             \"exons\"                      \n",
       " [3] \"conditions\"                  \"designMatrix\"               \n",
       " [5] \"sourceId\"                    \"isoformCountMatrix\"         \n",
       " [7] \"isoformRepExpression\"        \"runInfo\"                    \n",
       " [9] \"orfAnalysis\"                 \"isoformRepIF\"               \n",
       "[11] \"ntSequence\"                  \"isoformSwitchAnalysis\"      \n",
       "[13] \"aaSequence\"                  \"domainAnalysis\"             \n",
       "[15] \"AlternativeSplicingAnalysis\" \"switchConsequence\"          "
      ]
     },
     "metadata": {},
     "output_type": "display_data"
    }
   ],
   "source": [
    "#names(switchListCQ)\n"
   ]
  },
  {
   "cell_type": "code",
   "execution_count": null,
   "metadata": {
    "vscode": {
     "languageId": "r"
    }
   },
   "outputs": [
    {
     "data": {
      "text/html": [
       "<table class=\"dataframe\">\n",
       "<caption>A data.frame: 6 × 35</caption>\n",
       "<thead>\n",
       "\t<tr><th></th><th scope=col>iso_ref</th><th scope=col>gene_ref</th><th scope=col>isoform_id</th><th scope=col>gene_id</th><th scope=col>condition_1</th><th scope=col>condition_2</th><th scope=col>gene_name</th><th scope=col>gene_biotype</th><th scope=col>iso_biotype</th><th scope=col>gene_overall_mean</th><th scope=col>⋯</th><th scope=col>IF2</th><th scope=col>dIF</th><th scope=col>isoform_switch_q_value</th><th scope=col>gene_switch_q_value</th><th scope=col>PTC</th><th scope=col>codingPotentialValue</th><th scope=col>codingPotential</th><th scope=col>domain_identified</th><th scope=col>IR</th><th scope=col>switchConsequencesGene</th></tr>\n",
       "\t<tr><th></th><th scope=col>&lt;chr&gt;</th><th scope=col>&lt;chr&gt;</th><th scope=col>&lt;chr&gt;</th><th scope=col>&lt;chr&gt;</th><th scope=col>&lt;chr&gt;</th><th scope=col>&lt;chr&gt;</th><th scope=col>&lt;chr&gt;</th><th scope=col>&lt;chr&gt;</th><th scope=col>&lt;chr&gt;</th><th scope=col>&lt;dbl&gt;</th><th scope=col>⋯</th><th scope=col>&lt;dbl&gt;</th><th scope=col>&lt;dbl&gt;</th><th scope=col>&lt;dbl&gt;</th><th scope=col>&lt;dbl&gt;</th><th scope=col>&lt;lgl&gt;</th><th scope=col>&lt;dbl&gt;</th><th scope=col>&lt;lgl&gt;</th><th scope=col>&lt;chr&gt;</th><th scope=col>&lt;dbl&gt;</th><th scope=col>&lt;lgl&gt;</th></tr>\n",
       "</thead>\n",
       "<tbody>\n",
       "\t<tr><th scope=row>117218</th><td>isoComp_00000023</td><td>geneComp_00000007</td><td>ENST00000648157.1_1</td><td>A2M-AS1</td><td>ASD</td><td>Control</td><td>A2M-AS1</td><td>lncRNA        </td><td>lncRNA         </td><td> 2.04373</td><td>⋯</td><td>0.92636667</td><td> 0.11126667</td><td>6.528526e-01</td><td>3.487953e-06</td><td> TRUE</td><td>0.002311993</td><td>FALSE</td><td>no </td><td>0</td><td>TRUE</td></tr>\n",
       "\t<tr><th scope=row>117219</th><td>isoComp_00000024</td><td>geneComp_00000007</td><td>ENST00000667950.1_2</td><td>A2M-AS1</td><td>ASD</td><td>Control</td><td>A2M-AS1</td><td>lncRNA        </td><td>lncRNA         </td><td> 2.04373</td><td>⋯</td><td>0.06853333</td><td> 0.06853333</td><td>5.463666e-01</td><td>3.487953e-06</td><td>FALSE</td><td>0.004551983</td><td>FALSE</td><td>no </td><td>1</td><td>TRUE</td></tr>\n",
       "\t<tr><th scope=row>117220</th><td>isoComp_00000025</td><td>geneComp_00000007</td><td>ENST00000670582.1_1</td><td>A2M-AS1</td><td>ASD</td><td>Control</td><td>A2M-AS1</td><td>lncRNA        </td><td>lncRNA         </td><td> 2.04373</td><td>⋯</td><td>0.00000000</td><td>-0.18490000</td><td>3.487953e-06</td><td>3.487953e-06</td><td>FALSE</td><td>0.004547452</td><td>FALSE</td><td>no </td><td>1</td><td>TRUE</td></tr>\n",
       "\t<tr><th scope=row>68317</th><td>isoComp_00001614</td><td>geneComp_00000503</td><td>ENST00000357096.5_4</td><td>ACSL6  </td><td>ASD</td><td>Control</td><td>ACSL6  </td><td>protein_coding</td><td>protein_coding </td><td>36.16378</td><td>⋯</td><td>0.31166667</td><td> 0.21110000</td><td>5.255387e-01</td><td>3.824508e-02</td><td>FALSE</td><td>0.962291458</td><td> TRUE</td><td>yes</td><td>0</td><td>TRUE</td></tr>\n",
       "\t<tr><th scope=row>68320</th><td>isoComp_00001617</td><td>geneComp_00000503</td><td>ENST00000489047.1_3</td><td>ACSL6  </td><td>ASD</td><td>Control</td><td>ACSL6  </td><td>protein_coding</td><td>retained_intron</td><td>36.16378</td><td>⋯</td><td>0.45350000</td><td> 0.03883333</td><td>8.738374e-01</td><td>3.824508e-02</td><td>FALSE</td><td>0.011951932</td><td>FALSE</td><td>no </td><td>0</td><td>TRUE</td></tr>\n",
       "\t<tr><th scope=row>68321</th><td>isoComp_00001618</td><td>geneComp_00000503</td><td>ENST00000492156.1_3</td><td>ACSL6  </td><td>ASD</td><td>Control</td><td>ACSL6  </td><td>protein_coding</td><td>retained_intron</td><td>36.16378</td><td>⋯</td><td>0.00620000</td><td>-0.01256667</td><td>6.217782e-01</td><td>3.824508e-02</td><td>   NA</td><td>0.007050468</td><td>FALSE</td><td>NA </td><td>0</td><td>TRUE</td></tr>\n",
       "</tbody>\n",
       "</table>\n"
      ],
      "text/latex": [
       "A data.frame: 6 × 35\n",
       "\\begin{tabular}{r|lllllllllllllllllllll}\n",
       "  & iso\\_ref & gene\\_ref & isoform\\_id & gene\\_id & condition\\_1 & condition\\_2 & gene\\_name & gene\\_biotype & iso\\_biotype & gene\\_overall\\_mean & ⋯ & IF2 & dIF & isoform\\_switch\\_q\\_value & gene\\_switch\\_q\\_value & PTC & codingPotentialValue & codingPotential & domain\\_identified & IR & switchConsequencesGene\\\\\n",
       "  & <chr> & <chr> & <chr> & <chr> & <chr> & <chr> & <chr> & <chr> & <chr> & <dbl> & ⋯ & <dbl> & <dbl> & <dbl> & <dbl> & <lgl> & <dbl> & <lgl> & <chr> & <dbl> & <lgl>\\\\\n",
       "\\hline\n",
       "\t117218 & isoComp\\_00000023 & geneComp\\_00000007 & ENST00000648157.1\\_1 & A2M-AS1 & ASD & Control & A2M-AS1 & lncRNA         & lncRNA          &  2.04373 & ⋯ & 0.92636667 &  0.11126667 & 6.528526e-01 & 3.487953e-06 &  TRUE & 0.002311993 & FALSE & no  & 0 & TRUE\\\\\n",
       "\t117219 & isoComp\\_00000024 & geneComp\\_00000007 & ENST00000667950.1\\_2 & A2M-AS1 & ASD & Control & A2M-AS1 & lncRNA         & lncRNA          &  2.04373 & ⋯ & 0.06853333 &  0.06853333 & 5.463666e-01 & 3.487953e-06 & FALSE & 0.004551983 & FALSE & no  & 1 & TRUE\\\\\n",
       "\t117220 & isoComp\\_00000025 & geneComp\\_00000007 & ENST00000670582.1\\_1 & A2M-AS1 & ASD & Control & A2M-AS1 & lncRNA         & lncRNA          &  2.04373 & ⋯ & 0.00000000 & -0.18490000 & 3.487953e-06 & 3.487953e-06 & FALSE & 0.004547452 & FALSE & no  & 1 & TRUE\\\\\n",
       "\t68317 & isoComp\\_00001614 & geneComp\\_00000503 & ENST00000357096.5\\_4 & ACSL6   & ASD & Control & ACSL6   & protein\\_coding & protein\\_coding  & 36.16378 & ⋯ & 0.31166667 &  0.21110000 & 5.255387e-01 & 3.824508e-02 & FALSE & 0.962291458 &  TRUE & yes & 0 & TRUE\\\\\n",
       "\t68320 & isoComp\\_00001617 & geneComp\\_00000503 & ENST00000489047.1\\_3 & ACSL6   & ASD & Control & ACSL6   & protein\\_coding & retained\\_intron & 36.16378 & ⋯ & 0.45350000 &  0.03883333 & 8.738374e-01 & 3.824508e-02 & FALSE & 0.011951932 & FALSE & no  & 0 & TRUE\\\\\n",
       "\t68321 & isoComp\\_00001618 & geneComp\\_00000503 & ENST00000492156.1\\_3 & ACSL6   & ASD & Control & ACSL6   & protein\\_coding & retained\\_intron & 36.16378 & ⋯ & 0.00620000 & -0.01256667 & 6.217782e-01 & 3.824508e-02 &    NA & 0.007050468 & FALSE & NA  & 0 & TRUE\\\\\n",
       "\\end{tabular}\n"
      ],
      "text/markdown": [
       "\n",
       "A data.frame: 6 × 35\n",
       "\n",
       "| <!--/--> | iso_ref &lt;chr&gt; | gene_ref &lt;chr&gt; | isoform_id &lt;chr&gt; | gene_id &lt;chr&gt; | condition_1 &lt;chr&gt; | condition_2 &lt;chr&gt; | gene_name &lt;chr&gt; | gene_biotype &lt;chr&gt; | iso_biotype &lt;chr&gt; | gene_overall_mean &lt;dbl&gt; | ⋯ ⋯ | IF2 &lt;dbl&gt; | dIF &lt;dbl&gt; | isoform_switch_q_value &lt;dbl&gt; | gene_switch_q_value &lt;dbl&gt; | PTC &lt;lgl&gt; | codingPotentialValue &lt;dbl&gt; | codingPotential &lt;lgl&gt; | domain_identified &lt;chr&gt; | IR &lt;dbl&gt; | switchConsequencesGene &lt;lgl&gt; |\n",
       "|---|---|---|---|---|---|---|---|---|---|---|---|---|---|---|---|---|---|---|---|---|---|\n",
       "| 117218 | isoComp_00000023 | geneComp_00000007 | ENST00000648157.1_1 | A2M-AS1 | ASD | Control | A2M-AS1 | lncRNA         | lncRNA          |  2.04373 | ⋯ | 0.92636667 |  0.11126667 | 6.528526e-01 | 3.487953e-06 |  TRUE | 0.002311993 | FALSE | no  | 0 | TRUE |\n",
       "| 117219 | isoComp_00000024 | geneComp_00000007 | ENST00000667950.1_2 | A2M-AS1 | ASD | Control | A2M-AS1 | lncRNA         | lncRNA          |  2.04373 | ⋯ | 0.06853333 |  0.06853333 | 5.463666e-01 | 3.487953e-06 | FALSE | 0.004551983 | FALSE | no  | 1 | TRUE |\n",
       "| 117220 | isoComp_00000025 | geneComp_00000007 | ENST00000670582.1_1 | A2M-AS1 | ASD | Control | A2M-AS1 | lncRNA         | lncRNA          |  2.04373 | ⋯ | 0.00000000 | -0.18490000 | 3.487953e-06 | 3.487953e-06 | FALSE | 0.004547452 | FALSE | no  | 1 | TRUE |\n",
       "| 68317 | isoComp_00001614 | geneComp_00000503 | ENST00000357096.5_4 | ACSL6   | ASD | Control | ACSL6   | protein_coding | protein_coding  | 36.16378 | ⋯ | 0.31166667 |  0.21110000 | 5.255387e-01 | 3.824508e-02 | FALSE | 0.962291458 |  TRUE | yes | 0 | TRUE |\n",
       "| 68320 | isoComp_00001617 | geneComp_00000503 | ENST00000489047.1_3 | ACSL6   | ASD | Control | ACSL6   | protein_coding | retained_intron | 36.16378 | ⋯ | 0.45350000 |  0.03883333 | 8.738374e-01 | 3.824508e-02 | FALSE | 0.011951932 | FALSE | no  | 0 | TRUE |\n",
       "| 68321 | isoComp_00001618 | geneComp_00000503 | ENST00000492156.1_3 | ACSL6   | ASD | Control | ACSL6   | protein_coding | retained_intron | 36.16378 | ⋯ | 0.00620000 | -0.01256667 | 6.217782e-01 | 3.824508e-02 |    NA | 0.007050468 | FALSE | NA  | 0 | TRUE |\n",
       "\n"
      ],
      "text/plain": [
       "       iso_ref          gene_ref          isoform_id          gene_id\n",
       "117218 isoComp_00000023 geneComp_00000007 ENST00000648157.1_1 A2M-AS1\n",
       "117219 isoComp_00000024 geneComp_00000007 ENST00000667950.1_2 A2M-AS1\n",
       "117220 isoComp_00000025 geneComp_00000007 ENST00000670582.1_1 A2M-AS1\n",
       "68317  isoComp_00001614 geneComp_00000503 ENST00000357096.5_4 ACSL6  \n",
       "68320  isoComp_00001617 geneComp_00000503 ENST00000489047.1_3 ACSL6  \n",
       "68321  isoComp_00001618 geneComp_00000503 ENST00000492156.1_3 ACSL6  \n",
       "       condition_1 condition_2 gene_name gene_biotype   iso_biotype    \n",
       "117218 ASD         Control     A2M-AS1   lncRNA         lncRNA         \n",
       "117219 ASD         Control     A2M-AS1   lncRNA         lncRNA         \n",
       "117220 ASD         Control     A2M-AS1   lncRNA         lncRNA         \n",
       "68317  ASD         Control     ACSL6     protein_coding protein_coding \n",
       "68320  ASD         Control     ACSL6     protein_coding retained_intron\n",
       "68321  ASD         Control     ACSL6     protein_coding retained_intron\n",
       "       gene_overall_mean ⋯ IF2        dIF         isoform_switch_q_value\n",
       "117218  2.04373          ⋯ 0.92636667  0.11126667 6.528526e-01          \n",
       "117219  2.04373          ⋯ 0.06853333  0.06853333 5.463666e-01          \n",
       "117220  2.04373          ⋯ 0.00000000 -0.18490000 3.487953e-06          \n",
       "68317  36.16378          ⋯ 0.31166667  0.21110000 5.255387e-01          \n",
       "68320  36.16378          ⋯ 0.45350000  0.03883333 8.738374e-01          \n",
       "68321  36.16378          ⋯ 0.00620000 -0.01256667 6.217782e-01          \n",
       "       gene_switch_q_value PTC   codingPotentialValue codingPotential\n",
       "117218 3.487953e-06         TRUE 0.002311993          FALSE          \n",
       "117219 3.487953e-06        FALSE 0.004551983          FALSE          \n",
       "117220 3.487953e-06        FALSE 0.004547452          FALSE          \n",
       "68317  3.824508e-02        FALSE 0.962291458           TRUE          \n",
       "68320  3.824508e-02        FALSE 0.011951932          FALSE          \n",
       "68321  3.824508e-02           NA 0.007050468          FALSE          \n",
       "       domain_identified IR switchConsequencesGene\n",
       "117218 no                0  TRUE                  \n",
       "117219 no                1  TRUE                  \n",
       "117220 no                1  TRUE                  \n",
       "68317  yes               0  TRUE                  \n",
       "68320  no                0  TRUE                  \n",
       "68321  NA                0  TRUE                  "
      ]
     },
     "metadata": {},
     "output_type": "display_data"
    },
    {
     "data": {
      "text/html": [
       "<style>\n",
       ".list-inline {list-style: none; margin:0; padding: 0}\n",
       ".list-inline>li {display: inline-block}\n",
       ".list-inline>li:not(:last-child)::after {content: \"\\00b7\"; padding: 0 .5ex}\n",
       "</style>\n",
       "<ol class=list-inline><li>587</li><li>35</li></ol>\n"
      ],
      "text/latex": [
       "\\begin{enumerate*}\n",
       "\\item 587\n",
       "\\item 35\n",
       "\\end{enumerate*}\n"
      ],
      "text/markdown": [
       "1. 587\n",
       "2. 35\n",
       "\n",
       "\n"
      ],
      "text/plain": [
       "[1] 587  35"
      ]
     },
     "metadata": {},
     "output_type": "display_data"
    },
    {
     "data": {
      "text/plain": [
       "\n",
       "  0   1   2   3   4 \n",
       "516  56   8   5   2 "
      ]
     },
     "metadata": {},
     "output_type": "display_data"
    },
    {
     "data": {
      "text/html": [
       "<style>\n",
       ".list-inline {list-style: none; margin:0; padding: 0}\n",
       ".list-inline>li {display: inline-block}\n",
       ".list-inline>li:not(:last-child)::after {content: \"\\00b7\"; padding: 0 .5ex}\n",
       "</style>\n",
       "<ol class=list-inline><li>71</li><li>35</li></ol>\n"
      ],
      "text/latex": [
       "\\begin{enumerate*}\n",
       "\\item 71\n",
       "\\item 35\n",
       "\\end{enumerate*}\n"
      ],
      "text/markdown": [
       "1. 71\n",
       "2. 35\n",
       "\n",
       "\n"
      ],
      "text/plain": [
       "[1] 71 35"
      ]
     },
     "metadata": {},
     "output_type": "display_data"
    }
   ],
   "source": [
    "#head(switchListCQ$isoformFeatures)\n",
    "#dim(switchListCQ$isoformFeatures)\n",
    "#table(switchListCQ$isoformFeatures$IR)\n",
    "#dim(switchListCQ$isoformFeatures[switchListCQ$isoformFeatures$IR!=0,])\n",
    "#write.csv(switchListCQ$isoformFeatures[switchListCQ$isoformFeatures$IR!=0,],\"/disk1/wenqing/tmp_data/ASD/deEx_isoform_IR.csv\",quote=F)"
   ]
  },
  {
   "cell_type": "code",
   "execution_count": null,
   "metadata": {
    "vscode": {
     "languageId": "r"
    }
   },
   "outputs": [
    {
     "data": {
      "text/html": [
       "<table class=\"dataframe\">\n",
       "<caption>A data.frame: 6 × 12</caption>\n",
       "<thead>\n",
       "\t<tr><th></th><th scope=col>gene_ref</th><th scope=col>gene_id</th><th scope=col>gene_name</th><th scope=col>condition_1</th><th scope=col>condition_2</th><th scope=col>isoformUpregulated</th><th scope=col>isoformDownregulated</th><th scope=col>iso_ref_up</th><th scope=col>iso_ref_down</th><th scope=col>featureCompared</th><th scope=col>isoformsDifferent</th><th scope=col>switchConsequence</th></tr>\n",
       "\t<tr><th></th><th scope=col>&lt;chr&gt;</th><th scope=col>&lt;chr&gt;</th><th scope=col>&lt;chr&gt;</th><th scope=col>&lt;chr&gt;</th><th scope=col>&lt;chr&gt;</th><th scope=col>&lt;chr&gt;</th><th scope=col>&lt;chr&gt;</th><th scope=col>&lt;chr&gt;</th><th scope=col>&lt;chr&gt;</th><th scope=col>&lt;chr&gt;</th><th scope=col>&lt;lgl&gt;</th><th scope=col>&lt;chr&gt;</th></tr>\n",
       "</thead>\n",
       "<tbody>\n",
       "\t<tr><th scope=row>1</th><td>geneComp_00000007</td><td>A2M-AS1</td><td>A2M-AS1</td><td>ASD</td><td>Control</td><td>ENST00000648157.1_1</td><td>ENST00000670582.1_1</td><td>isoComp_00000023</td><td>isoComp_00000025</td><td>intron_retention  </td><td> TRUE</td><td>Intron retention loss</td></tr>\n",
       "\t<tr><th scope=row>2</th><td>geneComp_00000007</td><td>A2M-AS1</td><td>A2M-AS1</td><td>ASD</td><td>Control</td><td>ENST00000648157.1_1</td><td>ENST00000670582.1_1</td><td>isoComp_00000023</td><td>isoComp_00000025</td><td>coding_potential  </td><td>FALSE</td><td>NA                   </td></tr>\n",
       "\t<tr><th scope=row>3</th><td>geneComp_00000007</td><td>A2M-AS1</td><td>A2M-AS1</td><td>ASD</td><td>Control</td><td>ENST00000648157.1_1</td><td>ENST00000670582.1_1</td><td>isoComp_00000023</td><td>isoComp_00000025</td><td>ORF_seq_similarity</td><td> TRUE</td><td>ORF is shorter       </td></tr>\n",
       "\t<tr><th scope=row>4</th><td>geneComp_00000007</td><td>A2M-AS1</td><td>A2M-AS1</td><td>ASD</td><td>Control</td><td>ENST00000648157.1_1</td><td>ENST00000670582.1_1</td><td>isoComp_00000023</td><td>isoComp_00000025</td><td>NMD_status        </td><td> TRUE</td><td>NMD sensitive        </td></tr>\n",
       "\t<tr><th scope=row>5</th><td>geneComp_00000007</td><td>A2M-AS1</td><td>A2M-AS1</td><td>ASD</td><td>Control</td><td>ENST00000648157.1_1</td><td>ENST00000670582.1_1</td><td>isoComp_00000023</td><td>isoComp_00000025</td><td>domains_identified</td><td>FALSE</td><td>NA                   </td></tr>\n",
       "\t<tr><th scope=row>6</th><td>geneComp_00000503</td><td>ACSL6  </td><td>ACSL6  </td><td>ASD</td><td>Control</td><td>ENST00000357096.5_4</td><td>ENST00000651883.2_8</td><td>isoComp_00001614</td><td>isoComp_00001624</td><td>intron_retention  </td><td>FALSE</td><td>NA                   </td></tr>\n",
       "</tbody>\n",
       "</table>\n"
      ],
      "text/latex": [
       "A data.frame: 6 × 12\n",
       "\\begin{tabular}{r|llllllllllll}\n",
       "  & gene\\_ref & gene\\_id & gene\\_name & condition\\_1 & condition\\_2 & isoformUpregulated & isoformDownregulated & iso\\_ref\\_up & iso\\_ref\\_down & featureCompared & isoformsDifferent & switchConsequence\\\\\n",
       "  & <chr> & <chr> & <chr> & <chr> & <chr> & <chr> & <chr> & <chr> & <chr> & <chr> & <lgl> & <chr>\\\\\n",
       "\\hline\n",
       "\t1 & geneComp\\_00000007 & A2M-AS1 & A2M-AS1 & ASD & Control & ENST00000648157.1\\_1 & ENST00000670582.1\\_1 & isoComp\\_00000023 & isoComp\\_00000025 & intron\\_retention   &  TRUE & Intron retention loss\\\\\n",
       "\t2 & geneComp\\_00000007 & A2M-AS1 & A2M-AS1 & ASD & Control & ENST00000648157.1\\_1 & ENST00000670582.1\\_1 & isoComp\\_00000023 & isoComp\\_00000025 & coding\\_potential   & FALSE & NA                   \\\\\n",
       "\t3 & geneComp\\_00000007 & A2M-AS1 & A2M-AS1 & ASD & Control & ENST00000648157.1\\_1 & ENST00000670582.1\\_1 & isoComp\\_00000023 & isoComp\\_00000025 & ORF\\_seq\\_similarity &  TRUE & ORF is shorter       \\\\\n",
       "\t4 & geneComp\\_00000007 & A2M-AS1 & A2M-AS1 & ASD & Control & ENST00000648157.1\\_1 & ENST00000670582.1\\_1 & isoComp\\_00000023 & isoComp\\_00000025 & NMD\\_status         &  TRUE & NMD sensitive        \\\\\n",
       "\t5 & geneComp\\_00000007 & A2M-AS1 & A2M-AS1 & ASD & Control & ENST00000648157.1\\_1 & ENST00000670582.1\\_1 & isoComp\\_00000023 & isoComp\\_00000025 & domains\\_identified & FALSE & NA                   \\\\\n",
       "\t6 & geneComp\\_00000503 & ACSL6   & ACSL6   & ASD & Control & ENST00000357096.5\\_4 & ENST00000651883.2\\_8 & isoComp\\_00001614 & isoComp\\_00001624 & intron\\_retention   & FALSE & NA                   \\\\\n",
       "\\end{tabular}\n"
      ],
      "text/markdown": [
       "\n",
       "A data.frame: 6 × 12\n",
       "\n",
       "| <!--/--> | gene_ref &lt;chr&gt; | gene_id &lt;chr&gt; | gene_name &lt;chr&gt; | condition_1 &lt;chr&gt; | condition_2 &lt;chr&gt; | isoformUpregulated &lt;chr&gt; | isoformDownregulated &lt;chr&gt; | iso_ref_up &lt;chr&gt; | iso_ref_down &lt;chr&gt; | featureCompared &lt;chr&gt; | isoformsDifferent &lt;lgl&gt; | switchConsequence &lt;chr&gt; |\n",
       "|---|---|---|---|---|---|---|---|---|---|---|---|---|\n",
       "| 1 | geneComp_00000007 | A2M-AS1 | A2M-AS1 | ASD | Control | ENST00000648157.1_1 | ENST00000670582.1_1 | isoComp_00000023 | isoComp_00000025 | intron_retention   |  TRUE | Intron retention loss |\n",
       "| 2 | geneComp_00000007 | A2M-AS1 | A2M-AS1 | ASD | Control | ENST00000648157.1_1 | ENST00000670582.1_1 | isoComp_00000023 | isoComp_00000025 | coding_potential   | FALSE | NA                    |\n",
       "| 3 | geneComp_00000007 | A2M-AS1 | A2M-AS1 | ASD | Control | ENST00000648157.1_1 | ENST00000670582.1_1 | isoComp_00000023 | isoComp_00000025 | ORF_seq_similarity |  TRUE | ORF is shorter        |\n",
       "| 4 | geneComp_00000007 | A2M-AS1 | A2M-AS1 | ASD | Control | ENST00000648157.1_1 | ENST00000670582.1_1 | isoComp_00000023 | isoComp_00000025 | NMD_status         |  TRUE | NMD sensitive         |\n",
       "| 5 | geneComp_00000007 | A2M-AS1 | A2M-AS1 | ASD | Control | ENST00000648157.1_1 | ENST00000670582.1_1 | isoComp_00000023 | isoComp_00000025 | domains_identified | FALSE | NA                    |\n",
       "| 6 | geneComp_00000503 | ACSL6   | ACSL6   | ASD | Control | ENST00000357096.5_4 | ENST00000651883.2_8 | isoComp_00001614 | isoComp_00001624 | intron_retention   | FALSE | NA                    |\n",
       "\n"
      ],
      "text/plain": [
       "  gene_ref          gene_id gene_name condition_1 condition_2\n",
       "1 geneComp_00000007 A2M-AS1 A2M-AS1   ASD         Control    \n",
       "2 geneComp_00000007 A2M-AS1 A2M-AS1   ASD         Control    \n",
       "3 geneComp_00000007 A2M-AS1 A2M-AS1   ASD         Control    \n",
       "4 geneComp_00000007 A2M-AS1 A2M-AS1   ASD         Control    \n",
       "5 geneComp_00000007 A2M-AS1 A2M-AS1   ASD         Control    \n",
       "6 geneComp_00000503 ACSL6   ACSL6     ASD         Control    \n",
       "  isoformUpregulated  isoformDownregulated iso_ref_up       iso_ref_down    \n",
       "1 ENST00000648157.1_1 ENST00000670582.1_1  isoComp_00000023 isoComp_00000025\n",
       "2 ENST00000648157.1_1 ENST00000670582.1_1  isoComp_00000023 isoComp_00000025\n",
       "3 ENST00000648157.1_1 ENST00000670582.1_1  isoComp_00000023 isoComp_00000025\n",
       "4 ENST00000648157.1_1 ENST00000670582.1_1  isoComp_00000023 isoComp_00000025\n",
       "5 ENST00000648157.1_1 ENST00000670582.1_1  isoComp_00000023 isoComp_00000025\n",
       "6 ENST00000357096.5_4 ENST00000651883.2_8  isoComp_00001614 isoComp_00001624\n",
       "  featureCompared    isoformsDifferent switchConsequence    \n",
       "1 intron_retention    TRUE             Intron retention loss\n",
       "2 coding_potential   FALSE             NA                   \n",
       "3 ORF_seq_similarity  TRUE             ORF is shorter       \n",
       "4 NMD_status          TRUE             NMD sensitive        \n",
       "5 domains_identified FALSE             NA                   \n",
       "6 intron_retention   FALSE             NA                   "
      ]
     },
     "metadata": {},
     "output_type": "display_data"
    },
    {
     "data": {
      "text/html": [
       "94"
      ],
      "text/latex": [
       "94"
      ],
      "text/markdown": [
       "94"
      ],
      "text/plain": [
       "[1] 94"
      ]
     },
     "metadata": {},
     "output_type": "display_data"
    },
    {
     "data": {
      "text/html": [
       "94"
      ],
      "text/latex": [
       "94"
      ],
      "text/markdown": [
       "94"
      ],
      "text/plain": [
       "[1] 94"
      ]
     },
     "metadata": {},
     "output_type": "display_data"
    }
   ],
   "source": [
    "#head(switchListCQ$switchConsequence)\n",
    "#length(unique(switchListCQ$switchConsequence$gene_id))\n",
    "#length(unique(switchListCQ$isoformFeatures$gene_id[switchListCQ$isoformFeatures$switchConsequencesGene==TRUE]))"
   ]
  },
  {
   "cell_type": "code",
   "execution_count": null,
   "metadata": {
    "vscode": {
     "languageId": "r"
    }
   },
   "outputs": [
    {
     "data": {
      "text/html": [
       "<table class=\"dataframe\">\n",
       "<caption>A data.frame: 6 × 12</caption>\n",
       "<thead>\n",
       "\t<tr><th></th><th scope=col>gene_ref</th><th scope=col>gene_id</th><th scope=col>gene_name</th><th scope=col>condition_1</th><th scope=col>condition_2</th><th scope=col>isoformUpregulated</th><th scope=col>isoformDownregulated</th><th scope=col>iso_ref_up</th><th scope=col>iso_ref_down</th><th scope=col>featureCompared</th><th scope=col>isoformsDifferent</th><th scope=col>switchConsequence</th></tr>\n",
       "\t<tr><th></th><th scope=col>&lt;chr&gt;</th><th scope=col>&lt;chr&gt;</th><th scope=col>&lt;chr&gt;</th><th scope=col>&lt;chr&gt;</th><th scope=col>&lt;chr&gt;</th><th scope=col>&lt;chr&gt;</th><th scope=col>&lt;chr&gt;</th><th scope=col>&lt;chr&gt;</th><th scope=col>&lt;chr&gt;</th><th scope=col>&lt;chr&gt;</th><th scope=col>&lt;lgl&gt;</th><th scope=col>&lt;chr&gt;</th></tr>\n",
       "</thead>\n",
       "<tbody>\n",
       "\t<tr><th scope=row>1</th><td>geneComp_00000007</td><td>A2M-AS1</td><td>A2M-AS1</td><td>ASD</td><td>Control</td><td>ENST00000648157.1_1</td><td>ENST00000670582.1_1</td><td>isoComp_00000023</td><td>isoComp_00000025</td><td>intron_retention  </td><td> TRUE</td><td>Intron retention loss</td></tr>\n",
       "\t<tr><th scope=row>2</th><td>geneComp_00000007</td><td>A2M-AS1</td><td>A2M-AS1</td><td>ASD</td><td>Control</td><td>ENST00000648157.1_1</td><td>ENST00000670582.1_1</td><td>isoComp_00000023</td><td>isoComp_00000025</td><td>coding_potential  </td><td>FALSE</td><td>NA                   </td></tr>\n",
       "\t<tr><th scope=row>3</th><td>geneComp_00000007</td><td>A2M-AS1</td><td>A2M-AS1</td><td>ASD</td><td>Control</td><td>ENST00000648157.1_1</td><td>ENST00000670582.1_1</td><td>isoComp_00000023</td><td>isoComp_00000025</td><td>ORF_seq_similarity</td><td> TRUE</td><td>ORF is shorter       </td></tr>\n",
       "\t<tr><th scope=row>4</th><td>geneComp_00000007</td><td>A2M-AS1</td><td>A2M-AS1</td><td>ASD</td><td>Control</td><td>ENST00000648157.1_1</td><td>ENST00000670582.1_1</td><td>isoComp_00000023</td><td>isoComp_00000025</td><td>NMD_status        </td><td> TRUE</td><td>NMD sensitive        </td></tr>\n",
       "\t<tr><th scope=row>5</th><td>geneComp_00000007</td><td>A2M-AS1</td><td>A2M-AS1</td><td>ASD</td><td>Control</td><td>ENST00000648157.1_1</td><td>ENST00000670582.1_1</td><td>isoComp_00000023</td><td>isoComp_00000025</td><td>domains_identified</td><td>FALSE</td><td>NA                   </td></tr>\n",
       "\t<tr><th scope=row>6</th><td>geneComp_00000503</td><td>ACSL6  </td><td>ACSL6  </td><td>ASD</td><td>Control</td><td>ENST00000357096.5_4</td><td>ENST00000651883.2_8</td><td>isoComp_00001614</td><td>isoComp_00001624</td><td>intron_retention  </td><td>FALSE</td><td>NA                   </td></tr>\n",
       "</tbody>\n",
       "</table>\n"
      ],
      "text/latex": [
       "A data.frame: 6 × 12\n",
       "\\begin{tabular}{r|llllllllllll}\n",
       "  & gene\\_ref & gene\\_id & gene\\_name & condition\\_1 & condition\\_2 & isoformUpregulated & isoformDownregulated & iso\\_ref\\_up & iso\\_ref\\_down & featureCompared & isoformsDifferent & switchConsequence\\\\\n",
       "  & <chr> & <chr> & <chr> & <chr> & <chr> & <chr> & <chr> & <chr> & <chr> & <chr> & <lgl> & <chr>\\\\\n",
       "\\hline\n",
       "\t1 & geneComp\\_00000007 & A2M-AS1 & A2M-AS1 & ASD & Control & ENST00000648157.1\\_1 & ENST00000670582.1\\_1 & isoComp\\_00000023 & isoComp\\_00000025 & intron\\_retention   &  TRUE & Intron retention loss\\\\\n",
       "\t2 & geneComp\\_00000007 & A2M-AS1 & A2M-AS1 & ASD & Control & ENST00000648157.1\\_1 & ENST00000670582.1\\_1 & isoComp\\_00000023 & isoComp\\_00000025 & coding\\_potential   & FALSE & NA                   \\\\\n",
       "\t3 & geneComp\\_00000007 & A2M-AS1 & A2M-AS1 & ASD & Control & ENST00000648157.1\\_1 & ENST00000670582.1\\_1 & isoComp\\_00000023 & isoComp\\_00000025 & ORF\\_seq\\_similarity &  TRUE & ORF is shorter       \\\\\n",
       "\t4 & geneComp\\_00000007 & A2M-AS1 & A2M-AS1 & ASD & Control & ENST00000648157.1\\_1 & ENST00000670582.1\\_1 & isoComp\\_00000023 & isoComp\\_00000025 & NMD\\_status         &  TRUE & NMD sensitive        \\\\\n",
       "\t5 & geneComp\\_00000007 & A2M-AS1 & A2M-AS1 & ASD & Control & ENST00000648157.1\\_1 & ENST00000670582.1\\_1 & isoComp\\_00000023 & isoComp\\_00000025 & domains\\_identified & FALSE & NA                   \\\\\n",
       "\t6 & geneComp\\_00000503 & ACSL6   & ACSL6   & ASD & Control & ENST00000357096.5\\_4 & ENST00000651883.2\\_8 & isoComp\\_00001614 & isoComp\\_00001624 & intron\\_retention   & FALSE & NA                   \\\\\n",
       "\\end{tabular}\n"
      ],
      "text/markdown": [
       "\n",
       "A data.frame: 6 × 12\n",
       "\n",
       "| <!--/--> | gene_ref &lt;chr&gt; | gene_id &lt;chr&gt; | gene_name &lt;chr&gt; | condition_1 &lt;chr&gt; | condition_2 &lt;chr&gt; | isoformUpregulated &lt;chr&gt; | isoformDownregulated &lt;chr&gt; | iso_ref_up &lt;chr&gt; | iso_ref_down &lt;chr&gt; | featureCompared &lt;chr&gt; | isoformsDifferent &lt;lgl&gt; | switchConsequence &lt;chr&gt; |\n",
       "|---|---|---|---|---|---|---|---|---|---|---|---|---|\n",
       "| 1 | geneComp_00000007 | A2M-AS1 | A2M-AS1 | ASD | Control | ENST00000648157.1_1 | ENST00000670582.1_1 | isoComp_00000023 | isoComp_00000025 | intron_retention   |  TRUE | Intron retention loss |\n",
       "| 2 | geneComp_00000007 | A2M-AS1 | A2M-AS1 | ASD | Control | ENST00000648157.1_1 | ENST00000670582.1_1 | isoComp_00000023 | isoComp_00000025 | coding_potential   | FALSE | NA                    |\n",
       "| 3 | geneComp_00000007 | A2M-AS1 | A2M-AS1 | ASD | Control | ENST00000648157.1_1 | ENST00000670582.1_1 | isoComp_00000023 | isoComp_00000025 | ORF_seq_similarity |  TRUE | ORF is shorter        |\n",
       "| 4 | geneComp_00000007 | A2M-AS1 | A2M-AS1 | ASD | Control | ENST00000648157.1_1 | ENST00000670582.1_1 | isoComp_00000023 | isoComp_00000025 | NMD_status         |  TRUE | NMD sensitive         |\n",
       "| 5 | geneComp_00000007 | A2M-AS1 | A2M-AS1 | ASD | Control | ENST00000648157.1_1 | ENST00000670582.1_1 | isoComp_00000023 | isoComp_00000025 | domains_identified | FALSE | NA                    |\n",
       "| 6 | geneComp_00000503 | ACSL6   | ACSL6   | ASD | Control | ENST00000357096.5_4 | ENST00000651883.2_8 | isoComp_00001614 | isoComp_00001624 | intron_retention   | FALSE | NA                    |\n",
       "\n"
      ],
      "text/plain": [
       "  gene_ref          gene_id gene_name condition_1 condition_2\n",
       "1 geneComp_00000007 A2M-AS1 A2M-AS1   ASD         Control    \n",
       "2 geneComp_00000007 A2M-AS1 A2M-AS1   ASD         Control    \n",
       "3 geneComp_00000007 A2M-AS1 A2M-AS1   ASD         Control    \n",
       "4 geneComp_00000007 A2M-AS1 A2M-AS1   ASD         Control    \n",
       "5 geneComp_00000007 A2M-AS1 A2M-AS1   ASD         Control    \n",
       "6 geneComp_00000503 ACSL6   ACSL6     ASD         Control    \n",
       "  isoformUpregulated  isoformDownregulated iso_ref_up       iso_ref_down    \n",
       "1 ENST00000648157.1_1 ENST00000670582.1_1  isoComp_00000023 isoComp_00000025\n",
       "2 ENST00000648157.1_1 ENST00000670582.1_1  isoComp_00000023 isoComp_00000025\n",
       "3 ENST00000648157.1_1 ENST00000670582.1_1  isoComp_00000023 isoComp_00000025\n",
       "4 ENST00000648157.1_1 ENST00000670582.1_1  isoComp_00000023 isoComp_00000025\n",
       "5 ENST00000648157.1_1 ENST00000670582.1_1  isoComp_00000023 isoComp_00000025\n",
       "6 ENST00000357096.5_4 ENST00000651883.2_8  isoComp_00001614 isoComp_00001624\n",
       "  featureCompared    isoformsDifferent switchConsequence    \n",
       "1 intron_retention    TRUE             Intron retention loss\n",
       "2 coding_potential   FALSE             NA                   \n",
       "3 ORF_seq_similarity  TRUE             ORF is shorter       \n",
       "4 NMD_status          TRUE             NMD sensitive        \n",
       "5 domains_identified FALSE             NA                   \n",
       "6 intron_retention   FALSE             NA                   "
      ]
     },
     "metadata": {},
     "output_type": "display_data"
    }
   ],
   "source": [
    "#head(switchListCQ$switchConsequence)"
   ]
  },
  {
   "cell_type": "code",
   "execution_count": null,
   "metadata": {
    "vscode": {
     "languageId": "r"
    }
   },
   "outputs": [],
   "source": [
    "#write.csv(switchListCQ$switchConsequence,\"/disk1/wenqing/tmp_data/ASD/switchConsequence.csv\",quote=F)\n",
    "#write.table(switchListCQ$AlternativeSplicingAnalysis,\"/disk1/wenqing/tmp_data/ASD/AlternativeSplicingAnalysis.txt\",quote=F)\n",
    "#write.csv(switchListCQ$domainAnalysis,\"/disk1/wenqing/tmp_data/ASD/domainAnalysis.csv\",quote=F)"
   ]
  },
  {
   "cell_type": "code",
   "execution_count": null,
   "metadata": {
    "vscode": {
     "languageId": "r"
    }
   },
   "outputs": [
    {
     "data": {
      "text/html": [
       "<table class=\"dataframe\">\n",
       "<caption>A data.frame: 1 × 35</caption>\n",
       "<thead>\n",
       "\t<tr><th></th><th scope=col>iso_ref</th><th scope=col>gene_ref</th><th scope=col>isoform_id</th><th scope=col>gene_id</th><th scope=col>condition_1</th><th scope=col>condition_2</th><th scope=col>gene_name</th><th scope=col>gene_biotype</th><th scope=col>iso_biotype</th><th scope=col>gene_overall_mean</th><th scope=col>⋯</th><th scope=col>IF2</th><th scope=col>dIF</th><th scope=col>isoform_switch_q_value</th><th scope=col>gene_switch_q_value</th><th scope=col>PTC</th><th scope=col>codingPotentialValue</th><th scope=col>codingPotential</th><th scope=col>domain_identified</th><th scope=col>IR</th><th scope=col>switchConsequencesGene</th></tr>\n",
       "\t<tr><th></th><th scope=col>&lt;chr&gt;</th><th scope=col>&lt;chr&gt;</th><th scope=col>&lt;chr&gt;</th><th scope=col>&lt;chr&gt;</th><th scope=col>&lt;chr&gt;</th><th scope=col>&lt;chr&gt;</th><th scope=col>&lt;chr&gt;</th><th scope=col>&lt;chr&gt;</th><th scope=col>&lt;chr&gt;</th><th scope=col>&lt;dbl&gt;</th><th scope=col>⋯</th><th scope=col>&lt;dbl&gt;</th><th scope=col>&lt;dbl&gt;</th><th scope=col>&lt;dbl&gt;</th><th scope=col>&lt;dbl&gt;</th><th scope=col>&lt;lgl&gt;</th><th scope=col>&lt;dbl&gt;</th><th scope=col>&lt;lgl&gt;</th><th scope=col>&lt;chr&gt;</th><th scope=col>&lt;dbl&gt;</th><th scope=col>&lt;lgl&gt;</th></tr>\n",
       "</thead>\n",
       "<tbody>\n",
       "\t<tr><th scope=row>80260</th><td>isoComp_00028138</td><td>geneComp_00006138</td><td>ENST00000436732.5_3</td><td>DPP10</td><td>ASD</td><td>Control</td><td>DPP10</td><td>protein_coding</td><td>protein_coding</td><td>22.8517</td><td>⋯</td><td>0.02613333</td><td>0.006066667</td><td>0.8574271</td><td>0.01092684</td><td>FALSE</td><td>0.008748599</td><td>FALSE</td><td>no</td><td>0</td><td>TRUE</td></tr>\n",
       "</tbody>\n",
       "</table>\n"
      ],
      "text/latex": [
       "A data.frame: 1 × 35\n",
       "\\begin{tabular}{r|lllllllllllllllllllll}\n",
       "  & iso\\_ref & gene\\_ref & isoform\\_id & gene\\_id & condition\\_1 & condition\\_2 & gene\\_name & gene\\_biotype & iso\\_biotype & gene\\_overall\\_mean & ⋯ & IF2 & dIF & isoform\\_switch\\_q\\_value & gene\\_switch\\_q\\_value & PTC & codingPotentialValue & codingPotential & domain\\_identified & IR & switchConsequencesGene\\\\\n",
       "  & <chr> & <chr> & <chr> & <chr> & <chr> & <chr> & <chr> & <chr> & <chr> & <dbl> & ⋯ & <dbl> & <dbl> & <dbl> & <dbl> & <lgl> & <dbl> & <lgl> & <chr> & <dbl> & <lgl>\\\\\n",
       "\\hline\n",
       "\t80260 & isoComp\\_00028138 & geneComp\\_00006138 & ENST00000436732.5\\_3 & DPP10 & ASD & Control & DPP10 & protein\\_coding & protein\\_coding & 22.8517 & ⋯ & 0.02613333 & 0.006066667 & 0.8574271 & 0.01092684 & FALSE & 0.008748599 & FALSE & no & 0 & TRUE\\\\\n",
       "\\end{tabular}\n"
      ],
      "text/markdown": [
       "\n",
       "A data.frame: 1 × 35\n",
       "\n",
       "| <!--/--> | iso_ref &lt;chr&gt; | gene_ref &lt;chr&gt; | isoform_id &lt;chr&gt; | gene_id &lt;chr&gt; | condition_1 &lt;chr&gt; | condition_2 &lt;chr&gt; | gene_name &lt;chr&gt; | gene_biotype &lt;chr&gt; | iso_biotype &lt;chr&gt; | gene_overall_mean &lt;dbl&gt; | ⋯ ⋯ | IF2 &lt;dbl&gt; | dIF &lt;dbl&gt; | isoform_switch_q_value &lt;dbl&gt; | gene_switch_q_value &lt;dbl&gt; | PTC &lt;lgl&gt; | codingPotentialValue &lt;dbl&gt; | codingPotential &lt;lgl&gt; | domain_identified &lt;chr&gt; | IR &lt;dbl&gt; | switchConsequencesGene &lt;lgl&gt; |\n",
       "|---|---|---|---|---|---|---|---|---|---|---|---|---|---|---|---|---|---|---|---|---|---|\n",
       "| 80260 | isoComp_00028138 | geneComp_00006138 | ENST00000436732.5_3 | DPP10 | ASD | Control | DPP10 | protein_coding | protein_coding | 22.8517 | ⋯ | 0.02613333 | 0.006066667 | 0.8574271 | 0.01092684 | FALSE | 0.008748599 | FALSE | no | 0 | TRUE |\n",
       "\n"
      ],
      "text/plain": [
       "      iso_ref          gene_ref          isoform_id          gene_id\n",
       "80260 isoComp_00028138 geneComp_00006138 ENST00000436732.5_3 DPP10  \n",
       "      condition_1 condition_2 gene_name gene_biotype   iso_biotype   \n",
       "80260 ASD         Control     DPP10     protein_coding protein_coding\n",
       "      gene_overall_mean ⋯ IF2        dIF         isoform_switch_q_value\n",
       "80260 22.8517           ⋯ 0.02613333 0.006066667 0.8574271             \n",
       "      gene_switch_q_value PTC   codingPotentialValue codingPotential\n",
       "80260 0.01092684          FALSE 0.008748599          FALSE          \n",
       "      domain_identified IR switchConsequencesGene\n",
       "80260 no                0  TRUE                  "
      ]
     },
     "metadata": {},
     "output_type": "display_data"
    }
   ],
   "source": [
    "#switchListCQ$isoformFeatures[grep(\"ENST00000436732.5_3\",switchListCQ$isoformFeatures$isoform_id),]"
   ]
  },
  {
   "cell_type": "code",
   "execution_count": null,
   "metadata": {
    "vscode": {
     "languageId": "r"
    }
   },
   "outputs": [],
   "source": [
    "#switchPlotTopSwitches(switchListCQ, n=Inf, pathToOutput=\"/disk1/wenqing/tmp_data/ASD/Iso_res/ASEvents\")                                                                             "
   ]
  },
  {
   "cell_type": "code",
   "execution_count": null,
   "metadata": {
    "vscode": {
     "languageId": "r"
    }
   },
   "outputs": [
    {
     "data": {
      "text/html": [
       "<table class=\"dataframe\">\n",
       "<caption>A data.frame: 1 × 4</caption>\n",
       "<thead>\n",
       "\t<tr><th scope=col>Comparison</th><th scope=col>nrIsoforms</th><th scope=col>nrSwitches</th><th scope=col>nrGenes</th></tr>\n",
       "\t<tr><th scope=col>&lt;chr&gt;</th><th scope=col>&lt;int&gt;</th><th scope=col>&lt;int&gt;</th><th scope=col>&lt;int&gt;</th></tr>\n",
       "</thead>\n",
       "<tbody>\n",
       "\t<tr><td>ASD vs Control</td><td>125</td><td>138</td><td>107</td></tr>\n",
       "</tbody>\n",
       "</table>\n"
      ],
      "text/latex": [
       "A data.frame: 1 × 4\n",
       "\\begin{tabular}{llll}\n",
       " Comparison & nrIsoforms & nrSwitches & nrGenes\\\\\n",
       " <chr> & <int> & <int> & <int>\\\\\n",
       "\\hline\n",
       "\t ASD vs Control & 125 & 138 & 107\\\\\n",
       "\\end{tabular}\n"
      ],
      "text/markdown": [
       "\n",
       "A data.frame: 1 × 4\n",
       "\n",
       "| Comparison &lt;chr&gt; | nrIsoforms &lt;int&gt; | nrSwitches &lt;int&gt; | nrGenes &lt;int&gt; |\n",
       "|---|---|---|---|\n",
       "| ASD vs Control | 125 | 138 | 107 |\n",
       "\n"
      ],
      "text/plain": [
       "  Comparison     nrIsoforms nrSwitches nrGenes\n",
       "1 ASD vs Control 125        138        107    "
      ]
     },
     "metadata": {},
     "output_type": "display_data"
    }
   ],
   "source": [
    "#extractSwitchSummary(switchListCQ)"
   ]
  },
  {
   "cell_type": "code",
   "execution_count": 41,
   "metadata": {
    "vscode": {
     "languageId": "r"
    }
   },
   "outputs": [
    {
     "data": {
      "image/png": "[encoded data removed]",
      "text/plain": [
       "plot without title"
      ]
     },
     "metadata": {
      "image/png": {
       "height": 420,
       "width": 420
      }
     },
     "output_type": "display_data"
    },
    {
     "data": {
      "text/html": [
       "<table class=\"dataframe\">\n",
       "<caption>A data.frame: 8 × 12</caption>\n",
       "<thead>\n",
       "\t<tr><th></th><th scope=col>condition_1</th><th scope=col>condition_2</th><th scope=col>AStype</th><th scope=col>nUp</th><th scope=col>nDown</th><th scope=col>propUp</th><th scope=col>propUpCiLo</th><th scope=col>propUpCiHi</th><th scope=col>propUpPval</th><th scope=col>propUpQval</th><th scope=col>Significant</th><th scope=col>Comparison</th></tr>\n",
       "\t<tr><th></th><th scope=col>&lt;chr&gt;</th><th scope=col>&lt;chr&gt;</th><th scope=col>&lt;fct&gt;</th><th scope=col>&lt;int&gt;</th><th scope=col>&lt;int&gt;</th><th scope=col>&lt;dbl&gt;</th><th scope=col>&lt;dbl&gt;</th><th scope=col>&lt;dbl&gt;</th><th scope=col>&lt;dbl&gt;</th><th scope=col>&lt;dbl&gt;</th><th scope=col>&lt;fct&gt;</th><th scope=col>&lt;chr&gt;</th></tr>\n",
       "</thead>\n",
       "<tbody>\n",
       "\t<tr><th scope=row>1</th><td>ASD</td><td>Control</td><td>A3 gain (paired with A3 loss)    </td><td>39</td><td>25</td><td>0.6093750</td><td>0.4793154</td><td>0.7289645</td><td>1.034219e-01</td><td>0.2068437566</td><td>FALSE</td><td>ASD\n",
       "vs\n",
       "Control</td></tr>\n",
       "\t<tr><th scope=row>2</th><td>ASD</td><td>Control</td><td>A5 gain (paired with A5 loss)    </td><td>22</td><td>42</td><td>0.3437500</td><td>0.2294632</td><td>0.4730230</td><td>1.685819e-02</td><td>0.0674327602</td><td>FALSE</td><td>ASD\n",
       "vs\n",
       "Control</td></tr>\n",
       "\t<tr><th scope=row>3</th><td>ASD</td><td>Control</td><td>ATSS gain (paired with ATSS loss)</td><td>50</td><td>51</td><td>0.4950495</td><td>0.3940400</td><td>0.5963569</td><td>1.000000e+00</td><td>1.0000000000</td><td>FALSE</td><td>ASD\n",
       "vs\n",
       "Control</td></tr>\n",
       "\t<tr><th scope=row>4</th><td>ASD</td><td>Control</td><td>ATTS gain (paired with ATTS loss)</td><td>78</td><td>34</td><td>0.6964286</td><td>0.6024022</td><td>0.7797609</td><td>3.910542e-05</td><td>0.0003128433</td><td>TRUE </td><td>ASD\n",
       "vs\n",
       "Control</td></tr>\n",
       "\t<tr><th scope=row>5</th><td>ASD</td><td>Control</td><td>ES (paired with EI)              </td><td>45</td><td>51</td><td>0.4687500</td><td>0.3661085</td><td>0.5733716</td><td>6.100683e-01</td><td>0.9761092258</td><td>FALSE</td><td>ASD\n",
       "vs\n",
       "Control</td></tr>\n",
       "\t<tr><th scope=row>6</th><td>ASD</td><td>Control</td><td>IR gain (paired with IR loss)    </td><td>20</td><td>10</td><td>0.6666667</td><td>0.4718800</td><td>0.8271258</td><td>9.873715e-02</td><td>0.2068437566</td><td>FALSE</td><td>ASD\n",
       "vs\n",
       "Control</td></tr>\n",
       "\t<tr><th scope=row>7</th><td>ASD</td><td>Control</td><td>MEE gain (paired with MEE loss)  </td><td> 3</td><td> 2</td><td>0.6000000</td><td>0.1466328</td><td>0.9472550</td><td>1.000000e+00</td><td>1.0000000000</td><td>FALSE</td><td>ASD\n",
       "vs\n",
       "Control</td></tr>\n",
       "\t<tr><th scope=row>8</th><td>ASD</td><td>Control</td><td>MES (paired with MEI)            </td><td>26</td><td>28</td><td>0.4814815</td><td>0.3434296</td><td>0.6216349</td><td>8.919232e-01</td><td>1.0000000000</td><td>FALSE</td><td>ASD\n",
       "vs\n",
       "Control</td></tr>\n",
       "</tbody>\n",
       "</table>\n"
      ],
      "text/latex": [
       "A data.frame: 8 × 12\n",
       "\\begin{tabular}{r|llllllllllll}\n",
       "  & condition\\_1 & condition\\_2 & AStype & nUp & nDown & propUp & propUpCiLo & propUpCiHi & propUpPval & propUpQval & Significant & Comparison\\\\\n",
       "  & <chr> & <chr> & <fct> & <int> & <int> & <dbl> & <dbl> & <dbl> & <dbl> & <dbl> & <fct> & <chr>\\\\\n",
       "\\hline\n",
       "\t1 & ASD & Control & A3 gain (paired with A3 loss)     & 39 & 25 & 0.6093750 & 0.4793154 & 0.7289645 & 1.034219e-01 & 0.2068437566 & FALSE & ASD\n",
       "vs\n",
       "Control\\\\\n",
       "\t2 & ASD & Control & A5 gain (paired with A5 loss)     & 22 & 42 & 0.3437500 & 0.2294632 & 0.4730230 & 1.685819e-02 & 0.0674327602 & FALSE & ASD\n",
       "vs\n",
       "Control\\\\\n",
       "\t3 & ASD & Control & ATSS gain (paired with ATSS loss) & 50 & 51 & 0.4950495 & 0.3940400 & 0.5963569 & 1.000000e+00 & 1.0000000000 & FALSE & ASD\n",
       "vs\n",
       "Control\\\\\n",
       "\t4 & ASD & Control & ATTS gain (paired with ATTS loss) & 78 & 34 & 0.6964286 & 0.6024022 & 0.7797609 & 3.910542e-05 & 0.0003128433 & TRUE  & ASD\n",
       "vs\n",
       "Control\\\\\n",
       "\t5 & ASD & Control & ES (paired with EI)               & 45 & 51 & 0.4687500 & 0.3661085 & 0.5733716 & 6.100683e-01 & 0.9761092258 & FALSE & ASD\n",
       "vs\n",
       "Control\\\\\n",
       "\t6 & ASD & Control & IR gain (paired with IR loss)     & 20 & 10 & 0.6666667 & 0.4718800 & 0.8271258 & 9.873715e-02 & 0.2068437566 & FALSE & ASD\n",
       "vs\n",
       "Control\\\\\n",
       "\t7 & ASD & Control & MEE gain (paired with MEE loss)   &  3 &  2 & 0.6000000 & 0.1466328 & 0.9472550 & 1.000000e+00 & 1.0000000000 & FALSE & ASD\n",
       "vs\n",
       "Control\\\\\n",
       "\t8 & ASD & Control & MES (paired with MEI)             & 26 & 28 & 0.4814815 & 0.3434296 & 0.6216349 & 8.919232e-01 & 1.0000000000 & FALSE & ASD\n",
       "vs\n",
       "Control\\\\\n",
       "\\end{tabular}\n"
      ],
      "text/markdown": [
       "\n",
       "A data.frame: 8 × 12\n",
       "\n",
       "| <!--/--> | condition_1 &lt;chr&gt; | condition_2 &lt;chr&gt; | AStype &lt;fct&gt; | nUp &lt;int&gt; | nDown &lt;int&gt; | propUp &lt;dbl&gt; | propUpCiLo &lt;dbl&gt; | propUpCiHi &lt;dbl&gt; | propUpPval &lt;dbl&gt; | propUpQval &lt;dbl&gt; | Significant &lt;fct&gt; | Comparison &lt;chr&gt; |\n",
       "|---|---|---|---|---|---|---|---|---|---|---|---|---|\n",
       "| 1 | ASD | Control | A3 gain (paired with A3 loss)     | 39 | 25 | 0.6093750 | 0.4793154 | 0.7289645 | 1.034219e-01 | 0.2068437566 | FALSE | ASD\n",
       "vs\n",
       "Control |\n",
       "| 2 | ASD | Control | A5 gain (paired with A5 loss)     | 22 | 42 | 0.3437500 | 0.2294632 | 0.4730230 | 1.685819e-02 | 0.0674327602 | FALSE | ASD\n",
       "vs\n",
       "Control |\n",
       "| 3 | ASD | Control | ATSS gain (paired with ATSS loss) | 50 | 51 | 0.4950495 | 0.3940400 | 0.5963569 | 1.000000e+00 | 1.0000000000 | FALSE | ASD\n",
       "vs\n",
       "Control |\n",
       "| 4 | ASD | Control | ATTS gain (paired with ATTS loss) | 78 | 34 | 0.6964286 | 0.6024022 | 0.7797609 | 3.910542e-05 | 0.0003128433 | TRUE  | ASD\n",
       "vs\n",
       "Control |\n",
       "| 5 | ASD | Control | ES (paired with EI)               | 45 | 51 | 0.4687500 | 0.3661085 | 0.5733716 | 6.100683e-01 | 0.9761092258 | FALSE | ASD\n",
       "vs\n",
       "Control |\n",
       "| 6 | ASD | Control | IR gain (paired with IR loss)     | 20 | 10 | 0.6666667 | 0.4718800 | 0.8271258 | 9.873715e-02 | 0.2068437566 | FALSE | ASD\n",
       "vs\n",
       "Control |\n",
       "| 7 | ASD | Control | MEE gain (paired with MEE loss)   |  3 |  2 | 0.6000000 | 0.1466328 | 0.9472550 | 1.000000e+00 | 1.0000000000 | FALSE | ASD\n",
       "vs\n",
       "Control |\n",
       "| 8 | ASD | Control | MES (paired with MEI)             | 26 | 28 | 0.4814815 | 0.3434296 | 0.6216349 | 8.919232e-01 | 1.0000000000 | FALSE | ASD\n",
       "vs\n",
       "Control |\n",
       "\n"
      ],
      "text/plain": [
       "  condition_1 condition_2 AStype                            nUp nDown propUp   \n",
       "1 ASD         Control     A3 gain (paired with A3 loss)     39  25    0.6093750\n",
       "2 ASD         Control     A5 gain (paired with A5 loss)     22  42    0.3437500\n",
       "3 ASD         Control     ATSS gain (paired with ATSS loss) 50  51    0.4950495\n",
       "4 ASD         Control     ATTS gain (paired with ATTS loss) 78  34    0.6964286\n",
       "5 ASD         Control     ES (paired with EI)               45  51    0.4687500\n",
       "6 ASD         Control     IR gain (paired with IR loss)     20  10    0.6666667\n",
       "7 ASD         Control     MEE gain (paired with MEE loss)    3   2    0.6000000\n",
       "8 ASD         Control     MES (paired with MEI)             26  28    0.4814815\n",
       "  propUpCiLo propUpCiHi propUpPval   propUpQval   Significant Comparison      \n",
       "1 0.4793154  0.7289645  1.034219e-01 0.2068437566 FALSE       ASD\\nvs\\nControl\n",
       "2 0.2294632  0.4730230  1.685819e-02 0.0674327602 FALSE       ASD\\nvs\\nControl\n",
       "3 0.3940400  0.5963569  1.000000e+00 1.0000000000 FALSE       ASD\\nvs\\nControl\n",
       "4 0.6024022  0.7797609  3.910542e-05 0.0003128433 TRUE        ASD\\nvs\\nControl\n",
       "5 0.3661085  0.5733716  6.100683e-01 0.9761092258 FALSE       ASD\\nvs\\nControl\n",
       "6 0.4718800  0.8271258  9.873715e-02 0.2068437566 FALSE       ASD\\nvs\\nControl\n",
       "7 0.1466328  0.9472550  1.000000e+00 1.0000000000 FALSE       ASD\\nvs\\nControl\n",
       "8 0.3434296  0.6216349  8.919232e-01 1.0000000000 FALSE       ASD\\nvs\\nControl"
      ]
     },
     "metadata": {},
     "output_type": "display_data"
    },
    {
     "data": {
      "image/png": "[encoded data removed]",
      "text/plain": [
       "plot without title"
      ]
     },
     "metadata": {
      "image/png": {
       "height": 420,
       "width": 420
      }
     },
     "output_type": "display_data"
    },
    {
     "data": {
      "text/html": [
       "<table class=\"dataframe\">\n",
       "<caption>A data.frame: 16 × 10</caption>\n",
       "<thead>\n",
       "\t<tr><th></th><th scope=col>comparison</th><th scope=col>category</th><th scope=col>isoform_feature</th><th scope=col>n</th><th scope=col>medianIF1</th><th scope=col>medianIF2</th><th scope=col>medianDIF</th><th scope=col>wilcoxPval</th><th scope=col>wilcoxQval</th><th scope=col>significance</th></tr>\n",
       "\t<tr><th></th><th scope=col>&lt;chr&gt;</th><th scope=col>&lt;chr&gt;</th><th scope=col>&lt;fct&gt;</th><th scope=col>&lt;int&gt;</th><th scope=col>&lt;dbl&gt;</th><th scope=col>&lt;dbl&gt;</th><th scope=col>&lt;dbl&gt;</th><th scope=col>&lt;dbl&gt;</th><th scope=col>&lt;dbl&gt;</th><th scope=col>&lt;chr&gt;</th></tr>\n",
       "</thead>\n",
       "<tbody>\n",
       "\t<tr><th scope=row>1</th><td>ASD vs Control</td><td>A3  </td><td>With A3     </td><td>114</td><td>0.19805000</td><td>0.2110333</td><td> 0.012983333</td><td>0.452380253</td><td>0.95661358</td><td>ns</td></tr>\n",
       "\t<tr><th scope=row>2</th><td>ASD vs Control</td><td>A3  </td><td>Without A3  </td><td>315</td><td>0.20236667</td><td>0.1781333</td><td>-0.024233333</td><td>0.796285965</td><td>0.95661358</td><td>ns</td></tr>\n",
       "\t<tr><th scope=row>3</th><td>ASD vs Control</td><td>A5  </td><td>With A5     </td><td>118</td><td>0.23956667</td><td>0.1598833</td><td>-0.079683333</td><td>0.057099110</td><td>0.30452859</td><td>ns</td></tr>\n",
       "\t<tr><th scope=row>4</th><td>ASD vs Control</td><td>A5  </td><td>Without A5  </td><td>311</td><td>0.17466667</td><td>0.2007667</td><td> 0.026100000</td><td>0.187151162</td><td>0.72711194</td><td>ns</td></tr>\n",
       "\t<tr><th scope=row>5</th><td>ASD vs Control</td><td>ATSS</td><td>With ATSS   </td><td>332</td><td>0.17468333</td><td>0.1815167</td><td> 0.006833333</td><td>0.426542137</td><td>0.95661358</td><td>ns</td></tr>\n",
       "\t<tr><th scope=row>6</th><td>ASD vs Control</td><td>ATSS</td><td>Without ATSS</td><td> 97</td><td>0.26420000</td><td>0.2124667</td><td>-0.051733333</td><td>0.227222480</td><td>0.72711194</td><td>ns</td></tr>\n",
       "\t<tr><th scope=row>7</th><td>ASD vs Control</td><td>ATTS</td><td>With ATTS   </td><td>310</td><td>0.15590000</td><td>0.1749667</td><td> 0.019066667</td><td>0.033198805</td><td>0.26559044</td><td>ns</td></tr>\n",
       "\t<tr><th scope=row>8</th><td>ASD vs Control</td><td>ATTS</td><td>Without ATTS</td><td>119</td><td>0.40043333</td><td>0.2161333</td><td>-0.184300000</td><td>0.002256279</td><td>0.03610046</td><td>* </td></tr>\n",
       "\t<tr><th scope=row>9</th><td>ASD vs Control</td><td>ES  </td><td>With ES     </td><td>175</td><td>0.16786667</td><td>0.1832000</td><td> 0.015333333</td><td>0.608166306</td><td>0.95661358</td><td>ns</td></tr>\n",
       "\t<tr><th scope=row>10</th><td>ASD vs Control</td><td>ES  </td><td>Without ES  </td><td>254</td><td>0.21981667</td><td>0.1874833</td><td>-0.032333333</td><td>0.900619832</td><td>0.95661358</td><td>ns</td></tr>\n",
       "\t<tr><th scope=row>11</th><td>ASD vs Control</td><td>IR  </td><td>With IR     </td><td> 52</td><td>0.15360000</td><td>0.1732667</td><td> 0.019666667</td><td>0.655689191</td><td>0.95661358</td><td>ns</td></tr>\n",
       "\t<tr><th scope=row>12</th><td>ASD vs Control</td><td>IR  </td><td>Without IR  </td><td>377</td><td>0.20616667</td><td>0.1939667</td><td>-0.012200000</td><td>0.956613575</td><td>0.95661358</td><td>ns</td></tr>\n",
       "\t<tr><th scope=row>13</th><td>ASD vs Control</td><td>MEE </td><td>With MEE    </td><td>  5</td><td>0.01953333</td><td>0.1021000</td><td> 0.082566667</td><td>0.832518813</td><td>0.95661358</td><td>ns</td></tr>\n",
       "\t<tr><th scope=row>14</th><td>ASD vs Control</td><td>MEE </td><td>Without MEE </td><td>424</td><td>0.20255000</td><td>0.1928333</td><td>-0.009716667</td><td>0.895629710</td><td>0.95661358</td><td>ns</td></tr>\n",
       "\t<tr><th scope=row>15</th><td>ASD vs Control</td><td>MES </td><td>With MES    </td><td>102</td><td>0.15738333</td><td>0.1279667</td><td>-0.029416667</td><td>0.731422086</td><td>0.95661358</td><td>ns</td></tr>\n",
       "\t<tr><th scope=row>16</th><td>ASD vs Control</td><td>MES </td><td>Without MES </td><td>327</td><td>0.21270000</td><td>0.2161333</td><td> 0.003433333</td><td>0.736465862</td><td>0.95661358</td><td>ns</td></tr>\n",
       "</tbody>\n",
       "</table>\n"
      ],
      "text/latex": [
       "A data.frame: 16 × 10\n",
       "\\begin{tabular}{r|llllllllll}\n",
       "  & comparison & category & isoform\\_feature & n & medianIF1 & medianIF2 & medianDIF & wilcoxPval & wilcoxQval & significance\\\\\n",
       "  & <chr> & <chr> & <fct> & <int> & <dbl> & <dbl> & <dbl> & <dbl> & <dbl> & <chr>\\\\\n",
       "\\hline\n",
       "\t1 & ASD vs Control & A3   & With A3      & 114 & 0.19805000 & 0.2110333 &  0.012983333 & 0.452380253 & 0.95661358 & ns\\\\\n",
       "\t2 & ASD vs Control & A3   & Without A3   & 315 & 0.20236667 & 0.1781333 & -0.024233333 & 0.796285965 & 0.95661358 & ns\\\\\n",
       "\t3 & ASD vs Control & A5   & With A5      & 118 & 0.23956667 & 0.1598833 & -0.079683333 & 0.057099110 & 0.30452859 & ns\\\\\n",
       "\t4 & ASD vs Control & A5   & Without A5   & 311 & 0.17466667 & 0.2007667 &  0.026100000 & 0.187151162 & 0.72711194 & ns\\\\\n",
       "\t5 & ASD vs Control & ATSS & With ATSS    & 332 & 0.17468333 & 0.1815167 &  0.006833333 & 0.426542137 & 0.95661358 & ns\\\\\n",
       "\t6 & ASD vs Control & ATSS & Without ATSS &  97 & 0.26420000 & 0.2124667 & -0.051733333 & 0.227222480 & 0.72711194 & ns\\\\\n",
       "\t7 & ASD vs Control & ATTS & With ATTS    & 310 & 0.15590000 & 0.1749667 &  0.019066667 & 0.033198805 & 0.26559044 & ns\\\\\n",
       "\t8 & ASD vs Control & ATTS & Without ATTS & 119 & 0.40043333 & 0.2161333 & -0.184300000 & 0.002256279 & 0.03610046 & * \\\\\n",
       "\t9 & ASD vs Control & ES   & With ES      & 175 & 0.16786667 & 0.1832000 &  0.015333333 & 0.608166306 & 0.95661358 & ns\\\\\n",
       "\t10 & ASD vs Control & ES   & Without ES   & 254 & 0.21981667 & 0.1874833 & -0.032333333 & 0.900619832 & 0.95661358 & ns\\\\\n",
       "\t11 & ASD vs Control & IR   & With IR      &  52 & 0.15360000 & 0.1732667 &  0.019666667 & 0.655689191 & 0.95661358 & ns\\\\\n",
       "\t12 & ASD vs Control & IR   & Without IR   & 377 & 0.20616667 & 0.1939667 & -0.012200000 & 0.956613575 & 0.95661358 & ns\\\\\n",
       "\t13 & ASD vs Control & MEE  & With MEE     &   5 & 0.01953333 & 0.1021000 &  0.082566667 & 0.832518813 & 0.95661358 & ns\\\\\n",
       "\t14 & ASD vs Control & MEE  & Without MEE  & 424 & 0.20255000 & 0.1928333 & -0.009716667 & 0.895629710 & 0.95661358 & ns\\\\\n",
       "\t15 & ASD vs Control & MES  & With MES     & 102 & 0.15738333 & 0.1279667 & -0.029416667 & 0.731422086 & 0.95661358 & ns\\\\\n",
       "\t16 & ASD vs Control & MES  & Without MES  & 327 & 0.21270000 & 0.2161333 &  0.003433333 & 0.736465862 & 0.95661358 & ns\\\\\n",
       "\\end{tabular}\n"
      ],
      "text/markdown": [
       "\n",
       "A data.frame: 16 × 10\n",
       "\n",
       "| <!--/--> | comparison &lt;chr&gt; | category &lt;chr&gt; | isoform_feature &lt;fct&gt; | n &lt;int&gt; | medianIF1 &lt;dbl&gt; | medianIF2 &lt;dbl&gt; | medianDIF &lt;dbl&gt; | wilcoxPval &lt;dbl&gt; | wilcoxQval &lt;dbl&gt; | significance &lt;chr&gt; |\n",
       "|---|---|---|---|---|---|---|---|---|---|---|\n",
       "| 1 | ASD vs Control | A3   | With A3      | 114 | 0.19805000 | 0.2110333 |  0.012983333 | 0.452380253 | 0.95661358 | ns |\n",
       "| 2 | ASD vs Control | A3   | Without A3   | 315 | 0.20236667 | 0.1781333 | -0.024233333 | 0.796285965 | 0.95661358 | ns |\n",
       "| 3 | ASD vs Control | A5   | With A5      | 118 | 0.23956667 | 0.1598833 | -0.079683333 | 0.057099110 | 0.30452859 | ns |\n",
       "| 4 | ASD vs Control | A5   | Without A5   | 311 | 0.17466667 | 0.2007667 |  0.026100000 | 0.187151162 | 0.72711194 | ns |\n",
       "| 5 | ASD vs Control | ATSS | With ATSS    | 332 | 0.17468333 | 0.1815167 |  0.006833333 | 0.426542137 | 0.95661358 | ns |\n",
       "| 6 | ASD vs Control | ATSS | Without ATSS |  97 | 0.26420000 | 0.2124667 | -0.051733333 | 0.227222480 | 0.72711194 | ns |\n",
       "| 7 | ASD vs Control | ATTS | With ATTS    | 310 | 0.15590000 | 0.1749667 |  0.019066667 | 0.033198805 | 0.26559044 | ns |\n",
       "| 8 | ASD vs Control | ATTS | Without ATTS | 119 | 0.40043333 | 0.2161333 | -0.184300000 | 0.002256279 | 0.03610046 | *  |\n",
       "| 9 | ASD vs Control | ES   | With ES      | 175 | 0.16786667 | 0.1832000 |  0.015333333 | 0.608166306 | 0.95661358 | ns |\n",
       "| 10 | ASD vs Control | ES   | Without ES   | 254 | 0.21981667 | 0.1874833 | -0.032333333 | 0.900619832 | 0.95661358 | ns |\n",
       "| 11 | ASD vs Control | IR   | With IR      |  52 | 0.15360000 | 0.1732667 |  0.019666667 | 0.655689191 | 0.95661358 | ns |\n",
       "| 12 | ASD vs Control | IR   | Without IR   | 377 | 0.20616667 | 0.1939667 | -0.012200000 | 0.956613575 | 0.95661358 | ns |\n",
       "| 13 | ASD vs Control | MEE  | With MEE     |   5 | 0.01953333 | 0.1021000 |  0.082566667 | 0.832518813 | 0.95661358 | ns |\n",
       "| 14 | ASD vs Control | MEE  | Without MEE  | 424 | 0.20255000 | 0.1928333 | -0.009716667 | 0.895629710 | 0.95661358 | ns |\n",
       "| 15 | ASD vs Control | MES  | With MES     | 102 | 0.15738333 | 0.1279667 | -0.029416667 | 0.731422086 | 0.95661358 | ns |\n",
       "| 16 | ASD vs Control | MES  | Without MES  | 327 | 0.21270000 | 0.2161333 |  0.003433333 | 0.736465862 | 0.95661358 | ns |\n",
       "\n"
      ],
      "text/plain": [
       "   comparison     category isoform_feature n   medianIF1  medianIF2\n",
       "1  ASD vs Control A3       With A3         114 0.19805000 0.2110333\n",
       "2  ASD vs Control A3       Without A3      315 0.20236667 0.1781333\n",
       "3  ASD vs Control A5       With A5         118 0.23956667 0.1598833\n",
       "4  ASD vs Control A5       Without A5      311 0.17466667 0.2007667\n",
       "5  ASD vs Control ATSS     With ATSS       332 0.17468333 0.1815167\n",
       "6  ASD vs Control ATSS     Without ATSS     97 0.26420000 0.2124667\n",
       "7  ASD vs Control ATTS     With ATTS       310 0.15590000 0.1749667\n",
       "8  ASD vs Control ATTS     Without ATTS    119 0.40043333 0.2161333\n",
       "9  ASD vs Control ES       With ES         175 0.16786667 0.1832000\n",
       "10 ASD vs Control ES       Without ES      254 0.21981667 0.1874833\n",
       "11 ASD vs Control IR       With IR          52 0.15360000 0.1732667\n",
       "12 ASD vs Control IR       Without IR      377 0.20616667 0.1939667\n",
       "13 ASD vs Control MEE      With MEE          5 0.01953333 0.1021000\n",
       "14 ASD vs Control MEE      Without MEE     424 0.20255000 0.1928333\n",
       "15 ASD vs Control MES      With MES        102 0.15738333 0.1279667\n",
       "16 ASD vs Control MES      Without MES     327 0.21270000 0.2161333\n",
       "   medianDIF    wilcoxPval  wilcoxQval significance\n",
       "1   0.012983333 0.452380253 0.95661358 ns          \n",
       "2  -0.024233333 0.796285965 0.95661358 ns          \n",
       "3  -0.079683333 0.057099110 0.30452859 ns          \n",
       "4   0.026100000 0.187151162 0.72711194 ns          \n",
       "5   0.006833333 0.426542137 0.95661358 ns          \n",
       "6  -0.051733333 0.227222480 0.72711194 ns          \n",
       "7   0.019066667 0.033198805 0.26559044 ns          \n",
       "8  -0.184300000 0.002256279 0.03610046 *           \n",
       "9   0.015333333 0.608166306 0.95661358 ns          \n",
       "10 -0.032333333 0.900619832 0.95661358 ns          \n",
       "11  0.019666667 0.655689191 0.95661358 ns          \n",
       "12 -0.012200000 0.956613575 0.95661358 ns          \n",
       "13  0.082566667 0.832518813 0.95661358 ns          \n",
       "14 -0.009716667 0.895629710 0.95661358 ns          \n",
       "15 -0.029416667 0.731422086 0.95661358 ns          \n",
       "16  0.003433333 0.736465862 0.95661358 ns          "
      ]
     },
     "metadata": {},
     "output_type": "display_data"
    },
    {
     "data": {
      "image/png": "[encoded data removed]",
      "text/plain": [
       "plot without title"
      ]
     },
     "metadata": {
      "image/png": {
       "height": 420,
       "width": 420
      }
     },
     "output_type": "display_data"
    }
   ],
   "source": [
    "extractSplicingSummary(switchListA)\n",
    "extractSplicingEnrichment(switchListA)\n",
    "extractSplicingGenomeWide(switchListA)"
   ]
  },
  {
   "cell_type": "code",
   "execution_count": null,
   "metadata": {
    "vscode": {
     "languageId": "r"
    }
   },
   "outputs": [],
   "source": [
    "#attach(switchListCQ$switchConsequence)"
   ]
  },
  {
   "cell_type": "code",
   "execution_count": null,
   "metadata": {
    "vscode": {
     "languageId": "r"
    }
   },
   "outputs": [
    {
     "data": {
      "text/html": [
       "109"
      ],
      "text/latex": [
       "109"
      ],
      "text/markdown": [
       "109"
      ],
      "text/plain": [
       "[1] 109"
      ]
     },
     "metadata": {},
     "output_type": "display_data"
    }
   ],
   "source": [
    "#length(unique(switchListCQ$switchConsequence$isoformDownregulated))\n"
   ]
  },
  {
   "cell_type": "code",
   "execution_count": null,
   "metadata": {
    "vscode": {
     "languageId": "r"
    }
   },
   "outputs": [
    {
     "data": {
      "text/html": [
       "210"
      ],
      "text/latex": [
       "210"
      ],
      "text/markdown": [
       "210"
      ],
      "text/plain": [
       "[1] 210"
      ]
     },
     "metadata": {},
     "output_type": "display_data"
    }
   ],
   "source": [
    "#length(unique(c(switchListCQ$switchConsequence$isoformDownregulated,switchListCQ$switchConsequence$isoformUpregulated)))"
   ]
  }
 ],
 "metadata": {
  "kernelspec": {
   "display_name": "R",
   "language": "R",
   "name": "ir"
  },
  "language_info": {
   "codemirror_mode": "r",
   "file_extension": ".r",
   "mimetype": "text/x-r-source",
   "name": "R",
   "pygments_lexer": "r",
   "version": "4.3.1"
  },
  "orig_nbformat": 4
 },
 "nbformat": 4,
 "nbformat_minor": 2
}
