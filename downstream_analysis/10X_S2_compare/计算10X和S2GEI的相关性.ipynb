{
 "cells": [
  {
   "cell_type": "code",
   "execution_count": 1,
   "metadata": {
    "vscode": {
     "languageId": "r"
    }
   },
   "outputs": [],
   "source": [
    ".libPaths('/disk1/wenqing/anaconda3/envs/wq_R4.2/lib/R/library')"
   ]
  },
  {
   "cell_type": "code",
   "execution_count": 3,
   "metadata": {
    "vscode": {
     "languageId": "r"
    }
   },
   "outputs": [
    {
     "name": "stderr",
     "output_type": "stream",
     "text": [
      "Loading required package: ggplot2\n",
      "\n",
      "\n",
      "Attaching package: ‘dplyr’\n",
      "\n",
      "\n",
      "The following objects are masked from ‘package:stats’:\n",
      "\n",
      "    filter, lag\n",
      "\n",
      "\n",
      "The following objects are masked from ‘package:base’:\n",
      "\n",
      "    intersect, setdiff, setequal, union\n",
      "\n",
      "\n"
     ]
    }
   ],
   "source": [
    "library(ggpubr)\n",
    "library(ggplot2)\n",
    "library(dplyr)"
   ]
  },
  {
   "cell_type": "code",
   "execution_count": 63,
   "metadata": {
    "vscode": {
     "languageId": "r"
    }
   },
   "outputs": [],
   "source": [
    "####计算asd样本gene ediitng index的相关性\n",
    "gene_ei_10X <- as.data.frame(read.table(\"/disk1/wenqing/tmp_data/pbmc/GEI/over0/10X/regular_EI_inGene_over0.txt\"))\n",
    "gene_ei_s2 <- as.data.frame(read.table(\"/disk1/wenqing/tmp_data/pbmc/GEI/over0/S2/regular_EI_inGene_over0.txt\"))\n"
   ]
  },
  {
   "cell_type": "code",
   "execution_count": 64,
   "metadata": {
    "vscode": {
     "languageId": "r"
    }
   },
   "outputs": [
    {
     "data": {
      "text/html": [
       "0"
      ],
      "text/latex": [
       "0"
      ],
      "text/markdown": [
       "0"
      ],
      "text/plain": [
       "[1] 0"
      ]
     },
     "metadata": {},
     "output_type": "display_data"
    }
   ],
   "source": [
    "threshods <- 0\n",
    "threshods"
   ]
  },
  {
   "cell_type": "code",
   "execution_count": 65,
   "metadata": {
    "vscode": {
     "languageId": "r"
    }
   },
   "outputs": [
    {
     "name": "stdout",
     "output_type": "stream",
     "text": [
      "[1] \"threshod is: 0\"\n",
      "      cor \n",
      "0.4248227 \n",
      "[1] 3.663868e-204\n"
     ]
    }
   ],
   "source": [
    "for(one in threshods){\n",
    "    sub_gene_ei_10X <- gene_ei_10X[which(gene_ei_10X[,1] > one),]\n",
    "    sub_gene_ei_s2 <- gene_ei_s2[which(gene_ei_s2[,1] > one),]\n",
    "    names(sub_gene_ei_10X) <- rownames(gene_ei_10X)[which(gene_ei_10X[,1] > one)]\n",
    "    names(sub_gene_ei_s2) <- rownames(gene_ei_s2)[which(gene_ei_s2[,1] > one)]\n",
    "\n",
    "    #head(names(sub_gene_ei_19))\n",
    "    shared_genes <- intersect(names(sub_gene_ei_10X),names(sub_gene_ei_s2))\n",
    "\n",
    "    cor_dat_10X <- sub_gene_ei_10X[shared_genes]\n",
    "    cor_dat_s2 <- sub_gene_ei_s2[shared_genes]\n",
    "\n",
    "    dat1 <- as.data.frame(cbind(cor_dat_10X,cor_dat_s2))\n",
    "    colnames(dat1) <- c('TenX',\"Smart_seq2\")\n",
    "\n",
    "    cor_res <- cor.test(dat1[,1],dat1[,2])\n",
    "    print(paste0(\"threshod is: \",one))\n",
    "    print(cor_res$estimate)\n",
    "    print(cor_res$p.value)\n",
    "    \n",
    "}\n"
   ]
  },
  {
   "cell_type": "code",
   "execution_count": 17,
   "metadata": {
    "vscode": {
     "languageId": "r"
    }
   },
   "outputs": [
    {
     "data": {
      "text/plain": [
       "\n",
       "FALSE  TRUE \n",
       " 5969  2829 "
      ]
     },
     "metadata": {},
     "output_type": "display_data"
    },
    {
     "data": {
      "text/plain": [
       "\n",
       "FALSE  TRUE \n",
       " 5379   726 "
      ]
     },
     "metadata": {},
     "output_type": "display_data"
    }
   ],
   "source": [
    "table(gene_ei_10X > 0.01)\n",
    "table(gene_ei_s2 > 0.01)\n"
   ]
  },
  {
   "cell_type": "code",
   "execution_count": 67,
   "metadata": {
    "vscode": {
     "languageId": "r"
    }
   },
   "outputs": [
    {
     "data": {
      "text/html": [
       "<style>\n",
       ".list-inline {list-style: none; margin:0; padding: 0}\n",
       ".list-inline>li {display: inline-block}\n",
       ".list-inline>li:not(:last-child)::after {content: \"\\00b7\"; padding: 0 .5ex}\n",
       "</style>\n",
       "<ol class=list-inline><li>4673</li><li>2</li></ol>\n"
      ],
      "text/latex": [
       "\\begin{enumerate*}\n",
       "\\item 4673\n",
       "\\item 2\n",
       "\\end{enumerate*}\n"
      ],
      "text/markdown": [
       "1. 4673\n",
       "2. 2\n",
       "\n",
       "\n"
      ],
      "text/plain": [
       "[1] 4673    2"
      ]
     },
     "metadata": {},
     "output_type": "display_data"
    }
   ],
   "source": [
    "dim(dat1)"
   ]
  },
  {
   "cell_type": "code",
   "execution_count": 44,
   "metadata": {
    "vscode": {
     "languageId": "r"
    }
   },
   "outputs": [],
   "source": [
    "a <- cor.test(dat1[,1],dat1[,2])"
   ]
  },
  {
   "cell_type": "code",
   "execution_count": 45,
   "metadata": {
    "vscode": {
     "languageId": "r"
    }
   },
   "outputs": [
    {
     "name": "stdout",
     "output_type": "stream",
     "text": [
      "\n",
      "\tPearson's product-moment correlation\n",
      "\n",
      "data:  dat1[, 1] and dat1[, 2]\n",
      "t = 32.149, df = 4569, p-value < 2.2e-16\n",
      "alternative hypothesis: true correlation is not equal to 0\n",
      "95 percent confidence interval:\n",
      " 0.4055726 0.4528653\n",
      "sample estimates:\n",
      "      cor \n",
      "0.4295134 \n",
      "\n"
     ]
    }
   ],
   "source": [
    "print(a)"
   ]
  },
  {
   "cell_type": "code",
   "execution_count": 66,
   "metadata": {
    "vscode": {
     "languageId": "r"
    }
   },
   "outputs": [
    {
     "data": {
      "image/png": "[encoded data removed]",
      "text/plain": [
       "plot without title"
      ]
     },
     "metadata": {
      "image/png": {
       "height": 420,
       "width": 420
      }
     },
     "output_type": "display_data"
    }
   ],
   "source": [
    "# 运行ggscatter函数\n",
    "ggscatter(dat1, x = \"TenX\", y = \"Smart_seq2\", \n",
    "          color = \"red3\", fill = \"lightgray\",\n",
    "          add = \"reg.line\", conf.int = TRUE, \n",
    "          add.params = list(color = \"black\", fill = \"lightgray\"),\n",
    "          cor.coef = TRUE,\n",
    "          cor.coeff.args = list(method = \"pearson\"),\n",
    "          xlab='10X', ylab='Smart-seq2')\n"
   ]
  },
  {
   "cell_type": "code",
   "execution_count": null,
   "metadata": {
    "vscode": {
     "languageId": "r"
    }
   },
   "outputs": [
    {
     "data": {
      "text/html": [
       "<strong>png:</strong> 2"
      ],
      "text/latex": [
       "\\textbf{png:} 2"
      ],
      "text/markdown": [
       "**png:** 2"
      ],
      "text/plain": [
       "png \n",
       "  2 "
      ]
     },
     "metadata": {},
     "output_type": "display_data"
    }
   ],
   "source": [
    "p_lst <- list()\n",
    "p_lst[[2]] <- p1\n",
    "p_lst[[1]] <- p2\n",
    "\n",
    "pdf('/disk1/wenqing/tmp_data/ASD/asd_male_pfc/onecellVsBulk_gene_ei_corr.pdf',height = 10,width=17)\n",
    "do.call(\"ggarrange\", c(p_lst, ncol=2, nrow=1))\n",
    "dev.off()"
   ]
  },
  {
   "cell_type": "code",
   "execution_count": 56,
   "metadata": {
    "vscode": {
     "languageId": "r"
    }
   },
   "outputs": [
    {
     "data": {
      "text/html": [
       "<style>\n",
       ".list-inline {list-style: none; margin:0; padding: 0}\n",
       ".list-inline>li {display: inline-block}\n",
       ".list-inline>li:not(:last-child)::after {content: \"\\00b7\"; padding: 0 .5ex}\n",
       "</style>\n",
       "<ol class=list-inline><li>'AAGAB'</li><li>'AAK1'</li><li>'AARS'</li><li>'AATF'</li><li>'ABAT'</li><li>'ABCA1'</li></ol>\n"
      ],
      "text/latex": [
       "\\begin{enumerate*}\n",
       "\\item 'AAGAB'\n",
       "\\item 'AAK1'\n",
       "\\item 'AARS'\n",
       "\\item 'AATF'\n",
       "\\item 'ABAT'\n",
       "\\item 'ABCA1'\n",
       "\\end{enumerate*}\n"
      ],
      "text/markdown": [
       "1. 'AAGAB'\n",
       "2. 'AAK1'\n",
       "3. 'AARS'\n",
       "4. 'AATF'\n",
       "5. 'ABAT'\n",
       "6. 'ABCA1'\n",
       "\n",
       "\n"
      ],
      "text/plain": [
       "[1] \"AAGAB\" \"AAK1\"  \"AARS\"  \"AATF\"  \"ABAT\"  \"ABCA1\""
      ]
     },
     "metadata": {},
     "output_type": "display_data"
    }
   ],
   "source": [
    "overlapped_genes <- read.table(\"/disk1/wenqing/tmp_data/pbmc/overlapped_genesIn2Plats.txt\")$V1\n",
    "head(overlapped_genes)"
   ]
  },
  {
   "cell_type": "code",
   "execution_count": 58,
   "metadata": {
    "vscode": {
     "languageId": "r"
    }
   },
   "outputs": [
    {
     "data": {
      "text/html": [
       "<style>\n",
       ".list-inline {list-style: none; margin:0; padding: 0}\n",
       ".list-inline>li {display: inline-block}\n",
       ".list-inline>li:not(:last-child)::after {content: \"\\00b7\"; padding: 0 .5ex}\n",
       "</style>\n",
       "<ol class=list-inline><li>'ABCA1'</li><li>'AC002116.7'</li><li>'AC006547.13'</li><li>'AC007040.11'</li><li>'AC019118.2'</li><li>'AC133680.1'</li><li>'AFMID'</li><li>'ATF7IP'</li><li>'ATG4D'</li><li>'C15orf60'</li><li>'CACNG3'</li><li>'CALD1'</li><li>'CBWD5'</li><li>'CCDC117'</li><li>'CCDC65'</li><li>'CD99P1'</li><li>'CEP112'</li><li>'CEP164P1'</li><li>'CEP97'</li><li>'CLIP1'</li><li>'CROCCP2'</li><li>'CYP51A1'</li><li>'DAPK2'</li><li>'DOCK7'</li><li>'DPF2'</li><li>'DPP6'</li><li>'DSE'</li><li>'EHBP1'</li><li>'ELN'</li><li>'EMBP1'</li><li>'EPHA6'</li><li>'EYA2'</li><li>'FKBP11'</li><li>'FLCN'</li><li>'GABRG3'</li><li>'GINS4'</li><li>'GPR124'</li><li>'HECTD1'</li><li>'HIPK3'</li><li>'IFT80'</li><li>'ISCA1'</li><li>'LCORL'</li><li>'LRP2BP'</li><li>'LRRD1'</li><li>'MAN2A2'</li><li>'MARVELD2'</li><li>'MLLT3'</li><li>'MSRA'</li><li>'MYO15A'</li><li>'NFIC'</li><li>'NPIPB15'</li><li>'NTN1'</li><li>'OPA1'</li><li>'PDE4B'</li><li>'PIPOX'</li><li>'PLEKHA5'</li><li>'PPP1R42'</li><li>'PTK7'</li><li>'PTPRD'</li><li>'PTPRM'</li><li>'RAPGEF4'</li><li>'RASGRP2'</li><li>'RIN2'</li><li>'RP11-111M22.2'</li><li>'RP11-115J16.1'</li><li>'RP11-154D17.1'</li><li>'RP11-360L9.4'</li><li>'RP11-360L9.7'</li><li>'RP11-432B6.3'</li><li>'RP11-492D6.3'</li><li>'RP11-624L4.1'</li><li>'RP11-714G18.1'</li><li>'RP11-782C8.1'</li><li>'RP11-782C8.2'</li><li>'RP1-27O5.3'</li><li>'RPN1'</li><li>'RPS27L'</li><li>'SEC23IP'</li><li>'SH2D4A'</li><li>'SKA2'</li><li>'SORCS3'</li><li>'SPRTN'</li><li>'ST3GAL2'</li><li>'SYNC'</li><li>'SYNJ1'</li><li>'SYT14'</li><li>'TANC2'</li><li>'TCEB3'</li><li>'TCF3'</li><li>'TDRD10'</li><li>'TESK2'</li><li>'TMEM156'</li><li>'TMEM183A'</li><li>'TTC39B'</li><li>'TTI2'</li><li>'USP32'</li><li>'WDR45'</li><li>'WDR92'</li><li>'WWC3'</li><li>'ZBTB7C'</li><li>'ZNF630'</li><li>'ZSWIM7'</li></ol>\n"
      ],
      "text/latex": [
       "\\begin{enumerate*}\n",
       "\\item 'ABCA1'\n",
       "\\item 'AC002116.7'\n",
       "\\item 'AC006547.13'\n",
       "\\item 'AC007040.11'\n",
       "\\item 'AC019118.2'\n",
       "\\item 'AC133680.1'\n",
       "\\item 'AFMID'\n",
       "\\item 'ATF7IP'\n",
       "\\item 'ATG4D'\n",
       "\\item 'C15orf60'\n",
       "\\item 'CACNG3'\n",
       "\\item 'CALD1'\n",
       "\\item 'CBWD5'\n",
       "\\item 'CCDC117'\n",
       "\\item 'CCDC65'\n",
       "\\item 'CD99P1'\n",
       "\\item 'CEP112'\n",
       "\\item 'CEP164P1'\n",
       "\\item 'CEP97'\n",
       "\\item 'CLIP1'\n",
       "\\item 'CROCCP2'\n",
       "\\item 'CYP51A1'\n",
       "\\item 'DAPK2'\n",
       "\\item 'DOCK7'\n",
       "\\item 'DPF2'\n",
       "\\item 'DPP6'\n",
       "\\item 'DSE'\n",
       "\\item 'EHBP1'\n",
       "\\item 'ELN'\n",
       "\\item 'EMBP1'\n",
       "\\item 'EPHA6'\n",
       "\\item 'EYA2'\n",
       "\\item 'FKBP11'\n",
       "\\item 'FLCN'\n",
       "\\item 'GABRG3'\n",
       "\\item 'GINS4'\n",
       "\\item 'GPR124'\n",
       "\\item 'HECTD1'\n",
       "\\item 'HIPK3'\n",
       "\\item 'IFT80'\n",
       "\\item 'ISCA1'\n",
       "\\item 'LCORL'\n",
       "\\item 'LRP2BP'\n",
       "\\item 'LRRD1'\n",
       "\\item 'MAN2A2'\n",
       "\\item 'MARVELD2'\n",
       "\\item 'MLLT3'\n",
       "\\item 'MSRA'\n",
       "\\item 'MYO15A'\n",
       "\\item 'NFIC'\n",
       "\\item 'NPIPB15'\n",
       "\\item 'NTN1'\n",
       "\\item 'OPA1'\n",
       "\\item 'PDE4B'\n",
       "\\item 'PIPOX'\n",
       "\\item 'PLEKHA5'\n",
       "\\item 'PPP1R42'\n",
       "\\item 'PTK7'\n",
       "\\item 'PTPRD'\n",
       "\\item 'PTPRM'\n",
       "\\item 'RAPGEF4'\n",
       "\\item 'RASGRP2'\n",
       "\\item 'RIN2'\n",
       "\\item 'RP11-111M22.2'\n",
       "\\item 'RP11-115J16.1'\n",
       "\\item 'RP11-154D17.1'\n",
       "\\item 'RP11-360L9.4'\n",
       "\\item 'RP11-360L9.7'\n",
       "\\item 'RP11-432B6.3'\n",
       "\\item 'RP11-492D6.3'\n",
       "\\item 'RP11-624L4.1'\n",
       "\\item 'RP11-714G18.1'\n",
       "\\item 'RP11-782C8.1'\n",
       "\\item 'RP11-782C8.2'\n",
       "\\item 'RP1-27O5.3'\n",
       "\\item 'RPN1'\n",
       "\\item 'RPS27L'\n",
       "\\item 'SEC23IP'\n",
       "\\item 'SH2D4A'\n",
       "\\item 'SKA2'\n",
       "\\item 'SORCS3'\n",
       "\\item 'SPRTN'\n",
       "\\item 'ST3GAL2'\n",
       "\\item 'SYNC'\n",
       "\\item 'SYNJ1'\n",
       "\\item 'SYT14'\n",
       "\\item 'TANC2'\n",
       "\\item 'TCEB3'\n",
       "\\item 'TCF3'\n",
       "\\item 'TDRD10'\n",
       "\\item 'TESK2'\n",
       "\\item 'TMEM156'\n",
       "\\item 'TMEM183A'\n",
       "\\item 'TTC39B'\n",
       "\\item 'TTI2'\n",
       "\\item 'USP32'\n",
       "\\item 'WDR45'\n",
       "\\item 'WDR92'\n",
       "\\item 'WWC3'\n",
       "\\item 'ZBTB7C'\n",
       "\\item 'ZNF630'\n",
       "\\item 'ZSWIM7'\n",
       "\\end{enumerate*}\n"
      ],
      "text/markdown": [
       "1. 'ABCA1'\n",
       "2. 'AC002116.7'\n",
       "3. 'AC006547.13'\n",
       "4. 'AC007040.11'\n",
       "5. 'AC019118.2'\n",
       "6. 'AC133680.1'\n",
       "7. 'AFMID'\n",
       "8. 'ATF7IP'\n",
       "9. 'ATG4D'\n",
       "10. 'C15orf60'\n",
       "11. 'CACNG3'\n",
       "12. 'CALD1'\n",
       "13. 'CBWD5'\n",
       "14. 'CCDC117'\n",
       "15. 'CCDC65'\n",
       "16. 'CD99P1'\n",
       "17. 'CEP112'\n",
       "18. 'CEP164P1'\n",
       "19. 'CEP97'\n",
       "20. 'CLIP1'\n",
       "21. 'CROCCP2'\n",
       "22. 'CYP51A1'\n",
       "23. 'DAPK2'\n",
       "24. 'DOCK7'\n",
       "25. 'DPF2'\n",
       "26. 'DPP6'\n",
       "27. 'DSE'\n",
       "28. 'EHBP1'\n",
       "29. 'ELN'\n",
       "30. 'EMBP1'\n",
       "31. 'EPHA6'\n",
       "32. 'EYA2'\n",
       "33. 'FKBP11'\n",
       "34. 'FLCN'\n",
       "35. 'GABRG3'\n",
       "36. 'GINS4'\n",
       "37. 'GPR124'\n",
       "38. 'HECTD1'\n",
       "39. 'HIPK3'\n",
       "40. 'IFT80'\n",
       "41. 'ISCA1'\n",
       "42. 'LCORL'\n",
       "43. 'LRP2BP'\n",
       "44. 'LRRD1'\n",
       "45. 'MAN2A2'\n",
       "46. 'MARVELD2'\n",
       "47. 'MLLT3'\n",
       "48. 'MSRA'\n",
       "49. 'MYO15A'\n",
       "50. 'NFIC'\n",
       "51. 'NPIPB15'\n",
       "52. 'NTN1'\n",
       "53. 'OPA1'\n",
       "54. 'PDE4B'\n",
       "55. 'PIPOX'\n",
       "56. 'PLEKHA5'\n",
       "57. 'PPP1R42'\n",
       "58. 'PTK7'\n",
       "59. 'PTPRD'\n",
       "60. 'PTPRM'\n",
       "61. 'RAPGEF4'\n",
       "62. 'RASGRP2'\n",
       "63. 'RIN2'\n",
       "64. 'RP11-111M22.2'\n",
       "65. 'RP11-115J16.1'\n",
       "66. 'RP11-154D17.1'\n",
       "67. 'RP11-360L9.4'\n",
       "68. 'RP11-360L9.7'\n",
       "69. 'RP11-432B6.3'\n",
       "70. 'RP11-492D6.3'\n",
       "71. 'RP11-624L4.1'\n",
       "72. 'RP11-714G18.1'\n",
       "73. 'RP11-782C8.1'\n",
       "74. 'RP11-782C8.2'\n",
       "75. 'RP1-27O5.3'\n",
       "76. 'RPN1'\n",
       "77. 'RPS27L'\n",
       "78. 'SEC23IP'\n",
       "79. 'SH2D4A'\n",
       "80. 'SKA2'\n",
       "81. 'SORCS3'\n",
       "82. 'SPRTN'\n",
       "83. 'ST3GAL2'\n",
       "84. 'SYNC'\n",
       "85. 'SYNJ1'\n",
       "86. 'SYT14'\n",
       "87. 'TANC2'\n",
       "88. 'TCEB3'\n",
       "89. 'TCF3'\n",
       "90. 'TDRD10'\n",
       "91. 'TESK2'\n",
       "92. 'TMEM156'\n",
       "93. 'TMEM183A'\n",
       "94. 'TTC39B'\n",
       "95. 'TTI2'\n",
       "96. 'USP32'\n",
       "97. 'WDR45'\n",
       "98. 'WDR92'\n",
       "99. 'WWC3'\n",
       "100. 'ZBTB7C'\n",
       "101. 'ZNF630'\n",
       "102. 'ZSWIM7'\n",
       "\n",
       "\n"
      ],
      "text/plain": [
       "  [1] \"ABCA1\"         \"AC002116.7\"    \"AC006547.13\"   \"AC007040.11\"  \n",
       "  [5] \"AC019118.2\"    \"AC133680.1\"    \"AFMID\"         \"ATF7IP\"       \n",
       "  [9] \"ATG4D\"         \"C15orf60\"      \"CACNG3\"        \"CALD1\"        \n",
       " [13] \"CBWD5\"         \"CCDC117\"       \"CCDC65\"        \"CD99P1\"       \n",
       " [17] \"CEP112\"        \"CEP164P1\"      \"CEP97\"         \"CLIP1\"        \n",
       " [21] \"CROCCP2\"       \"CYP51A1\"       \"DAPK2\"         \"DOCK7\"        \n",
       " [25] \"DPF2\"          \"DPP6\"          \"DSE\"           \"EHBP1\"        \n",
       " [29] \"ELN\"           \"EMBP1\"         \"EPHA6\"         \"EYA2\"         \n",
       " [33] \"FKBP11\"        \"FLCN\"          \"GABRG3\"        \"GINS4\"        \n",
       " [37] \"GPR124\"        \"HECTD1\"        \"HIPK3\"         \"IFT80\"        \n",
       " [41] \"ISCA1\"         \"LCORL\"         \"LRP2BP\"        \"LRRD1\"        \n",
       " [45] \"MAN2A2\"        \"MARVELD2\"      \"MLLT3\"         \"MSRA\"         \n",
       " [49] \"MYO15A\"        \"NFIC\"          \"NPIPB15\"       \"NTN1\"         \n",
       " [53] \"OPA1\"          \"PDE4B\"         \"PIPOX\"         \"PLEKHA5\"      \n",
       " [57] \"PPP1R42\"       \"PTK7\"          \"PTPRD\"         \"PTPRM\"        \n",
       " [61] \"RAPGEF4\"       \"RASGRP2\"       \"RIN2\"          \"RP11-111M22.2\"\n",
       " [65] \"RP11-115J16.1\" \"RP11-154D17.1\" \"RP11-360L9.4\"  \"RP11-360L9.7\" \n",
       " [69] \"RP11-432B6.3\"  \"RP11-492D6.3\"  \"RP11-624L4.1\"  \"RP11-714G18.1\"\n",
       " [73] \"RP11-782C8.1\"  \"RP11-782C8.2\"  \"RP1-27O5.3\"    \"RPN1\"         \n",
       " [77] \"RPS27L\"        \"SEC23IP\"       \"SH2D4A\"        \"SKA2\"         \n",
       " [81] \"SORCS3\"        \"SPRTN\"         \"ST3GAL2\"       \"SYNC\"         \n",
       " [85] \"SYNJ1\"         \"SYT14\"         \"TANC2\"         \"TCEB3\"        \n",
       " [89] \"TCF3\"          \"TDRD10\"        \"TESK2\"         \"TMEM156\"      \n",
       " [93] \"TMEM183A\"      \"TTC39B\"        \"TTI2\"          \"USP32\"        \n",
       " [97] \"WDR45\"         \"WDR92\"         \"WWC3\"          \"ZBTB7C\"       \n",
       "[101] \"ZNF630\"        \"ZSWIM7\"       "
      ]
     },
     "metadata": {},
     "output_type": "display_data"
    }
   ],
   "source": [
    "setdiff(overlapped_genes,shared_genes)"
   ]
  },
  {
   "cell_type": "code",
   "execution_count": 60,
   "metadata": {
    "vscode": {
     "languageId": "r"
    }
   },
   "outputs": [],
   "source": [
    "find_gene_res_num <- function(x){\n",
    "    gene <- strsplit(uniq_gene_region[x],\"_\")[[1]][4]\n",
    "    res_num <- sum(dat$V8[dat$V4==gene])\n",
    "    return(res_num)\n",
    "}"
   ]
  },
  {
   "cell_type": "code",
   "execution_count": 62,
   "metadata": {
    "vscode": {
     "languageId": "r"
    }
   },
   "outputs": [],
   "source": [
    "    dat <- read.table(\"/disk1/wenqing/tmp_data/pbmc/GEI/over0/S2/geneWithRegular_res.txt\")\n",
    "\n",
    "    dat$V10 <- paste0(dat$V1,\"_\",dat$V2,\"_\",dat$V3,\"_\",dat$V4)\n",
    "    #head(dat)\n",
    "    uniq_gene_region <- unique(dat$V10)\n",
    "    #length(uniq_gene_region)\n",
    "\n",
    "    gene_res_num <- apply(as.matrix(1:length(uniq_gene_region)),1,find_gene_res_num)\n",
    "\n",
    "\n",
    "    new_dat_col1 <- apply(as.matrix(1:length(uniq_gene_region)),1,function(x) {col1 <- strsplit(uniq_gene_region[x],\"_\")[[1]][1]})\n",
    "    new_dat_col2 <- apply(as.matrix(1:length(uniq_gene_region)),1,function(x) {col1 <- strsplit(uniq_gene_region[x],\"_\")[[1]][2]})\n",
    "    new_dat_col3 <- apply(as.matrix(1:length(uniq_gene_region)),1,function(x) {col1 <- strsplit(uniq_gene_region[x],\"_\")[[1]][3]})\n",
    "    new_dat_col4 <- apply(as.matrix(1:length(uniq_gene_region)),1,function(x) {col1 <- strsplit(uniq_gene_region[x],\"_\")[[1]][4]})\n",
    "    new_dat_col5 <- gene_res_num\n",
    "    new_dat <- as.data.frame(cbind(new_dat_col1,new_dat_col2,new_dat_col3,new_dat_col4,new_dat_col5))\n",
    "    write.table(new_dat,\"/disk1/wenqing/tmp_data/pbmc/GEI/over0/S2/geneWzRes_ad.txt\",quote=F,col.names=F,row.names=F,sep='\\t')\n"
   ]
  },
  {
   "cell_type": "code",
   "execution_count": 2,
   "metadata": {
    "vscode": {
     "languageId": "r"
    }
   },
   "outputs": [],
   "source": [
    "#######计算3'bias是否存在\n",
    "transcriptRes_5end <- read.table(\"/disk1/wenqing/tmp_data/pbmc/distri_bias_test/transcriptWzRes_5end.txt\")\n",
    "transcriptRes_3end <- read.table(\"/disk1/wenqing/tmp_data/pbmc/distri_bias_test/transcriptWzRes_3end.txt\")"
   ]
  },
  {
   "cell_type": "code",
   "execution_count": 3,
   "metadata": {
    "vscode": {
     "languageId": "r"
    }
   },
   "outputs": [],
   "source": [
    "rownames(transcriptRes_5end) <- transcriptRes_5end$V2\n",
    "rownames(transcriptRes_3end) <- transcriptRes_3end$V2"
   ]
  },
  {
   "cell_type": "code",
   "execution_count": 4,
   "metadata": {
    "vscode": {
     "languageId": "r"
    }
   },
   "outputs": [
    {
     "data": {
      "text/html": [
       "1027"
      ],
      "text/latex": [
       "1027"
      ],
      "text/markdown": [
       "1027"
      ],
      "text/plain": [
       "[1] 1027"
      ]
     },
     "metadata": {},
     "output_type": "display_data"
    }
   ],
   "source": [
    "shared_region <- intersect(transcriptRes_5end$V2,transcriptRes_3end$V2)\n",
    "length(shared_region)"
   ]
  },
  {
   "cell_type": "code",
   "execution_count": 5,
   "metadata": {
    "vscode": {
     "languageId": "r"
    }
   },
   "outputs": [],
   "source": [
    "sub_dat_5end <- transcriptRes_5end[shared_region,1]\n",
    "sub_dat_3end <- transcriptRes_3end[shared_region,1]"
   ]
  },
  {
   "cell_type": "code",
   "execution_count": 6,
   "metadata": {
    "vscode": {
     "languageId": "r"
    }
   },
   "outputs": [
    {
     "data": {
      "text/plain": [
       "\n",
       "\tF test to compare two variances\n",
       "\n",
       "data:  sub_dat_5end and sub_dat_3end\n",
       "F = 0.82697, num df = 1026, denom df = 1026, p-value = 0.002369\n",
       "alternative hypothesis: true ratio of variances is not equal to 1\n",
       "95 percent confidence interval:\n",
       " 0.7316689 0.9346954\n",
       "sample estimates:\n",
       "ratio of variances \n",
       "         0.8269749 \n"
      ]
     },
     "metadata": {},
     "output_type": "display_data"
    }
   ],
   "source": [
    "var.test(sub_dat_5end, sub_dat_3end) "
   ]
  },
  {
   "cell_type": "code",
   "execution_count": 7,
   "metadata": {
    "vscode": {
     "languageId": "r"
    }
   },
   "outputs": [
    {
     "data": {
      "text/plain": [
       "\n",
       "\tWelch Two Sample t-test\n",
       "\n",
       "data:  sub_dat_5end and sub_dat_3end\n",
       "t = -5.677, df = 2033.8, p-value = 1.568e-08\n",
       "alternative hypothesis: true difference in means is not equal to 0\n",
       "95 percent confidence interval:\n",
       " -8.435617 -4.103818\n",
       "sample estimates:\n",
       "mean of x mean of y \n",
       " 11.98832  18.25803 \n"
      ]
     },
     "metadata": {},
     "output_type": "display_data"
    }
   ],
   "source": [
    "t.test(sub_dat_5end, sub_dat_3end, var.equal = FALSE)  "
   ]
  },
  {
   "cell_type": "code",
   "execution_count": 7,
   "metadata": {
    "vscode": {
     "languageId": "r"
    }
   },
   "outputs": [
    {
     "data": {
      "text/html": [
       "2443"
      ],
      "text/latex": [
       "2443"
      ],
      "text/markdown": [
       "2443"
      ],
      "text/plain": [
       "[1] 2443"
      ]
     },
     "metadata": {},
     "output_type": "display_data"
    },
    {
     "data": {
      "text/html": [
       "<table class=\"dataframe\">\n",
       "<caption>A data.frame: 6 × 2</caption>\n",
       "<thead>\n",
       "\t<tr><th></th><th scope=col>region</th><th scope=col>scaled_res_num</th></tr>\n",
       "\t<tr><th></th><th scope=col>&lt;chr&gt;</th><th scope=col>&lt;dbl&gt;</th></tr>\n",
       "</thead>\n",
       "<tbody>\n",
       "\t<tr><th scope=row>1</th><td>5end</td><td> 1.125</td></tr>\n",
       "\t<tr><th scope=row>2</th><td>5end</td><td> 5.625</td></tr>\n",
       "\t<tr><th scope=row>3</th><td>5end</td><td>14.000</td></tr>\n",
       "\t<tr><th scope=row>4</th><td>5end</td><td> 2.000</td></tr>\n",
       "\t<tr><th scope=row>5</th><td>5end</td><td>66.125</td></tr>\n",
       "\t<tr><th scope=row>6</th><td>5end</td><td> 4.250</td></tr>\n",
       "</tbody>\n",
       "</table>\n"
      ],
      "text/latex": [
       "A data.frame: 6 × 2\n",
       "\\begin{tabular}{r|ll}\n",
       "  & region & scaled\\_res\\_num\\\\\n",
       "  & <chr> & <dbl>\\\\\n",
       "\\hline\n",
       "\t1 & 5end &  1.125\\\\\n",
       "\t2 & 5end &  5.625\\\\\n",
       "\t3 & 5end & 14.000\\\\\n",
       "\t4 & 5end &  2.000\\\\\n",
       "\t5 & 5end & 66.125\\\\\n",
       "\t6 & 5end &  4.250\\\\\n",
       "\\end{tabular}\n"
      ],
      "text/markdown": [
       "\n",
       "A data.frame: 6 × 2\n",
       "\n",
       "| <!--/--> | region &lt;chr&gt; | scaled_res_num &lt;dbl&gt; |\n",
       "|---|---|---|\n",
       "| 1 | 5end |  1.125 |\n",
       "| 2 | 5end |  5.625 |\n",
       "| 3 | 5end | 14.000 |\n",
       "| 4 | 5end |  2.000 |\n",
       "| 5 | 5end | 66.125 |\n",
       "| 6 | 5end |  4.250 |\n",
       "\n"
      ],
      "text/plain": [
       "  region scaled_res_num\n",
       "1 5end    1.125        \n",
       "2 5end    5.625        \n",
       "3 5end   14.000        \n",
       "4 5end    2.000        \n",
       "5 5end   66.125        \n",
       "6 5end    4.250        "
      ]
     },
     "metadata": {},
     "output_type": "display_data"
    },
    {
     "data": {
      "text/html": [
       "10.7523536635284"
      ],
      "text/latex": [
       "10.7523536635284"
      ],
      "text/markdown": [
       "10.7523536635284"
      ],
      "text/plain": [
       "[1] 10.75235"
      ]
     },
     "metadata": {},
     "output_type": "display_data"
    },
    {
     "data": {
      "text/html": [
       "17.2990176013099"
      ],
      "text/latex": [
       "17.2990176013099"
      ],
      "text/markdown": [
       "17.2990176013099"
      ],
      "text/plain": [
       "[1] 17.29902"
      ]
     },
     "metadata": {},
     "output_type": "display_data"
    },
    {
     "name": "stderr",
     "output_type": "stream",
     "text": [
      "Warning message:\n",
      "“\u001b[1m\u001b[22mRemoved 86 rows containing non-finite values (`stat_boxplot()`).”\n",
      "Warning message:\n",
      "“\u001b[1m\u001b[22mRemoved 86 rows containing non-finite values (`stat_summary()`).”\n",
      "Warning message:\n",
      "“\u001b[1m\u001b[22mRemoved 1 rows containing missing values (`geom_text()`).”\n"
     ]
    },
    {
     "data": {
      "image/png": "[encoded data removed]",
      "text/plain": [
       "plot without title"
      ]
     },
     "metadata": {
      "image/png": {
       "height": 420,
       "width": 420
      }
     },
     "output_type": "display_data"
    }
   ],
   "source": [
    "#######计算3'bias是否存在\n",
    "#for(one in c(0.6,0.7,0.8)){\n",
    "    one=0.8\n",
    "    transcriptRes_5end <- read.table(paste0(\"/disk1/wenqing/tmp_data/pbmc/distri_bias_test/gencode/10X/res_Ver2/transcriptWzRes_5end.\",one,\".txt\"))\n",
    "    transcriptRes_3end <- read.table(paste0(\"/disk1/wenqing/tmp_data/pbmc/distri_bias_test/gencode/10X/res_Ver2/transcriptWzRes_3end.\",one,\".txt\"))\n",
    "    rownames(transcriptRes_5end) <- transcriptRes_5end$V2\n",
    "    rownames(transcriptRes_3end) <- transcriptRes_3end$V2\n",
    "    shared_region <- intersect(transcriptRes_5end$V2,transcriptRes_3end$V2)\n",
    "    length(shared_region)\n",
    "    sub_dat_5end <- transcriptRes_5end[shared_region,1]/(one*10)\n",
    "    sub_dat_3end <- transcriptRes_3end[shared_region,1]/((1-one)*10)\n",
    "\n",
    "    dat1 <- as.data.frame(cbind(x=c(rep('5end',times=length(sub_dat_5end)),rep('3end',times=length(sub_dat_3end))),\n",
    "                            y=c(sub_dat_5end,sub_dat_3end)))\n",
    "    colnames(dat1) <- c('region','scaled_res_num')\n",
    "    dat1$scaled_res_num <- as.numeric(dat1$scaled_res_num)\n",
    "    head(dat1)\n",
    "\n",
    "    test_result <- wilcox.test(sub_dat_5end,sub_dat_3end)  \n",
    "    mean(sub_dat_5end)\n",
    "    mean(sub_dat_3end)\n",
    "    # 根据p值确定显著性水平，并设置相应的符号  \n",
    "    signif_symbol <- ifelse(test_result$p.value < 0.001, \"***\",   \n",
    "                            ifelse(test_result$p.value < 0.01, \"**\",   \n",
    "                            ifelse(test_result$p.value < 0.05, \"*\", \"\"))) \n",
    "                                \n",
    "    \n",
    "    # 创建箱线图  \n",
    "    p <- ggplot(data = dat1,   \n",
    "            aes(x = region, y = scaled_res_num, color = region)) +  \n",
    "    geom_boxplot() + \n",
    "    stat_summary(fun = median, # 计算中位数  \n",
    "               geom = \"text\", # 使用text几何对象来添加标签  \n",
    "               aes(label = round(..y..,2)), # 使用计算出的中位数作为标签  \n",
    "               vjust = -1.5, # 垂直调整标签位置 \n",
    "               hjust = 1.5,\n",
    "               position = position_dodge(width = 0.75)) +\n",
    "    theme(panel.background = element_blank(),        \n",
    "        axis.text.x = element_text(size=10,color = 'black'),\n",
    "        axis.title.y = element_text(size = 14,color = 'black'),\n",
    "        axis.text.y = element_text(size = 12,color = 'black'),\n",
    "        axis.ticks.y = element_blank(),\n",
    "        plot.title = element_text(hjust = .5),\n",
    "        legend.position = \"none\") +\n",
    "    theme_bw() +\n",
    "    scale_fill_manual(values = c('blue','red')) + # 设置箱体填充颜色  \n",
    "    scale_colour_manual(values = c('blue','red')) + # 设置箱体边框颜色，这里与填充颜色相同  \n",
    "    labs(title = \"\", x = paste0(\"divided gene regions by \",one), y = \"scaled_res_num\") +  \n",
    "    #theme_minimal()  +\n",
    "    ylim(0,100)\n",
    "    \n",
    "    # 在箱线图上添加显著性符号 \n",
    "     \n",
    "    p1 <- p + annotate(\"text\", x = 1.5, y = max(c(sub_dat_5end, sub_dat_3end)) + 1,   \n",
    "                label = signif_symbol,   \n",
    "                size = 7, hjust = 0)\n",
    "    p1\n",
    "    #ggsave(paste0(\"/disk1/wenqing/tmp_data/pbmc/distri_bias_test/gencode/10X/compare_res_\",one,\".png\"), plot = p1, width = 8, height = 6, dpi = 300)\n",
    "\n"
   ]
  },
  {
   "cell_type": "code",
   "execution_count": 86,
   "metadata": {
    "vscode": {
     "languageId": "r"
    }
   },
   "outputs": [
    {
     "data": {
      "text/plain": [
       "\n",
       "\tShapiro-Wilk normality test\n",
       "\n",
       "data:  sub_dat_5end\n",
       "W = 0.53315, p-value < 2.2e-16\n"
      ]
     },
     "metadata": {},
     "output_type": "display_data"
    },
    {
     "data": {
      "text/plain": [
       "\n",
       "\tShapiro-Wilk normality test\n",
       "\n",
       "data:  sub_dat_3end\n",
       "W = 0.5417, p-value < 2.2e-16\n"
      ]
     },
     "metadata": {},
     "output_type": "display_data"
    },
    {
     "data": {
      "text/plain": [
       "\n",
       "\tBartlett test of homogeneity of variances\n",
       "\n",
       "data:  list(sub_dat_5end, sub_dat_3end)\n",
       "Bartlett's K-squared = 4.4874, df = 1, p-value = 0.03414\n"
      ]
     },
     "metadata": {},
     "output_type": "display_data"
    }
   ],
   "source": [
    "\n",
    "    shapiro.test(sub_dat_5end)\n",
    "    shapiro.test(sub_dat_3end)\n",
    "    bartlett.test(list(sub_dat_5end,sub_dat_3end))\n"
   ]
  },
  {
   "cell_type": "code",
   "execution_count": 22,
   "metadata": {
    "vscode": {
     "languageId": "r"
    }
   },
   "outputs": [],
   "source": [
    "###检查5end和3end的长度是否有明显的区别\n",
    "length_5end <- read.table(\"/disk1/wenqing/tmp_data/gtf_files/refseq/transcript5end_region_length.txt\")$V1\n",
    "length_3end <- read.table(\"/disk1/wenqing/tmp_data/gtf_files/refseq/transcript3end_region_length.txt\")$V1"
   ]
  },
  {
   "cell_type": "code",
   "execution_count": 23,
   "metadata": {
    "vscode": {
     "languageId": "r"
    }
   },
   "outputs": [
    {
     "data": {
      "text/html": [
       "<style>\n",
       ".dl-inline {width: auto; margin:0; padding: 0}\n",
       ".dl-inline>dt, .dl-inline>dd {float: none; width: auto; display: inline-block}\n",
       ".dl-inline>dt::after {content: \":\\0020\"; padding-right: .5ex}\n",
       ".dl-inline>dt:not(:first-of-type) {padding-left: .5ex}\n",
       "</style><dl class=dl-inline><dt>0%</dt><dd>1</dd><dt>25%</dt><dd>1251.25</dd><dt>50%</dt><dd>6570.5</dd><dt>75%</dt><dd>28608</dd><dt>100%</dt><dd>1885730</dd></dl>\n"
      ],
      "text/latex": [
       "\\begin{description*}\n",
       "\\item[0\\textbackslash{}\\%] 1\n",
       "\\item[25\\textbackslash{}\\%] 1251.25\n",
       "\\item[50\\textbackslash{}\\%] 6570.5\n",
       "\\item[75\\textbackslash{}\\%] 28608\n",
       "\\item[100\\textbackslash{}\\%] 1885730\n",
       "\\end{description*}\n"
      ],
      "text/markdown": [
       "0%\n",
       ":   125%\n",
       ":   1251.2550%\n",
       ":   6570.575%\n",
       ":   28608100%\n",
       ":   1885730\n",
       "\n"
      ],
      "text/plain": [
       "        0%        25%        50%        75%       100% \n",
       "      1.00    1251.25    6570.50   28608.00 1885730.00 "
      ]
     },
     "metadata": {},
     "output_type": "display_data"
    },
    {
     "data": {
      "text/html": [
       "33401.2305776892"
      ],
      "text/latex": [
       "33401.2305776892"
      ],
      "text/markdown": [
       "33401.2305776892"
      ],
      "text/plain": [
       "[1] 33401.23"
      ]
     },
     "metadata": {},
     "output_type": "display_data"
    },
    {
     "data": {
      "text/html": [
       "<style>\n",
       ".dl-inline {width: auto; margin:0; padding: 0}\n",
       ".dl-inline>dt, .dl-inline>dd {float: none; width: auto; display: inline-block}\n",
       ".dl-inline>dt::after {content: \":\\0020\"; padding-right: .5ex}\n",
       ".dl-inline>dt:not(:first-of-type) {padding-left: .5ex}\n",
       "</style><dl class=dl-inline><dt>0%</dt><dd>19</dd><dt>25%</dt><dd>3019.75</dd><dt>50%</dt><dd>13316</dd><dt>75%</dt><dd>42021.75</dd><dt>100%</dt><dd>1093127</dd></dl>\n"
      ],
      "text/latex": [
       "\\begin{description*}\n",
       "\\item[0\\textbackslash{}\\%] 19\n",
       "\\item[25\\textbackslash{}\\%] 3019.75\n",
       "\\item[50\\textbackslash{}\\%] 13316\n",
       "\\item[75\\textbackslash{}\\%] 42021.75\n",
       "\\item[100\\textbackslash{}\\%] 1093127\n",
       "\\end{description*}\n"
      ],
      "text/markdown": [
       "0%\n",
       ":   1925%\n",
       ":   3019.7550%\n",
       ":   1331675%\n",
       ":   42021.75100%\n",
       ":   1093127\n",
       "\n"
      ],
      "text/plain": [
       "        0%        25%        50%        75%       100% \n",
       "     19.00    3019.75   13316.00   42021.75 1093127.00 "
      ]
     },
     "metadata": {},
     "output_type": "display_data"
    },
    {
     "data": {
      "text/html": [
       "42068.6070717131"
      ],
      "text/latex": [
       "42068.6070717131"
      ],
      "text/markdown": [
       "42068.6070717131"
      ],
      "text/plain": [
       "[1] 42068.61"
      ]
     },
     "metadata": {},
     "output_type": "display_data"
    }
   ],
   "source": [
    "quantile(length_5end)\n",
    "mean(length_5end)\n",
    "quantile(length_3end)\n",
    "mean(length_3end)\n"
   ]
  },
  {
   "cell_type": "code",
   "execution_count": 26,
   "metadata": {
    "vscode": {
     "languageId": "r"
    }
   },
   "outputs": [
    {
     "data": {
      "text/html": [
       "<table class=\"dataframe\">\n",
       "<caption>A data.frame: 6 × 4</caption>\n",
       "<thead>\n",
       "\t<tr><th></th><th scope=col>chr</th><th scope=col>start</th><th scope=col>end</th><th scope=col>name</th></tr>\n",
       "\t<tr><th></th><th scope=col>&lt;chr&gt;</th><th scope=col>&lt;int&gt;</th><th scope=col>&lt;int&gt;</th><th scope=col>&lt;chr&gt;</th></tr>\n",
       "</thead>\n",
       "<tbody>\n",
       "\t<tr><th scope=row>1</th><td>chr1</td><td>11868</td><td>14412</td><td>DDX11L1   </td></tr>\n",
       "\t<tr><th scope=row>2</th><td>chr1</td><td>14362</td><td>29806</td><td>WASH7P    </td></tr>\n",
       "\t<tr><th scope=row>3</th><td>chr1</td><td>29553</td><td>31109</td><td>MIR1302-11</td></tr>\n",
       "\t<tr><th scope=row>4</th><td>chr1</td><td>34553</td><td>36081</td><td>FAM138A   </td></tr>\n",
       "\t<tr><th scope=row>5</th><td>chr1</td><td>52472</td><td>54936</td><td>OR4G4P    </td></tr>\n",
       "\t<tr><th scope=row>6</th><td>chr1</td><td>62947</td><td>63887</td><td>OR4G11P   </td></tr>\n",
       "</tbody>\n",
       "</table>\n"
      ],
      "text/latex": [
       "A data.frame: 6 × 4\n",
       "\\begin{tabular}{r|llll}\n",
       "  & chr & start & end & name\\\\\n",
       "  & <chr> & <int> & <int> & <chr>\\\\\n",
       "\\hline\n",
       "\t1 & chr1 & 11868 & 14412 & DDX11L1   \\\\\n",
       "\t2 & chr1 & 14362 & 29806 & WASH7P    \\\\\n",
       "\t3 & chr1 & 29553 & 31109 & MIR1302-11\\\\\n",
       "\t4 & chr1 & 34553 & 36081 & FAM138A   \\\\\n",
       "\t5 & chr1 & 52472 & 54936 & OR4G4P    \\\\\n",
       "\t6 & chr1 & 62947 & 63887 & OR4G11P   \\\\\n",
       "\\end{tabular}\n"
      ],
      "text/markdown": [
       "\n",
       "A data.frame: 6 × 4\n",
       "\n",
       "| <!--/--> | chr &lt;chr&gt; | start &lt;int&gt; | end &lt;int&gt; | name &lt;chr&gt; |\n",
       "|---|---|---|---|---|\n",
       "| 1 | chr1 | 11868 | 14412 | DDX11L1    |\n",
       "| 2 | chr1 | 14362 | 29806 | WASH7P     |\n",
       "| 3 | chr1 | 29553 | 31109 | MIR1302-11 |\n",
       "| 4 | chr1 | 34553 | 36081 | FAM138A    |\n",
       "| 5 | chr1 | 52472 | 54936 | OR4G4P     |\n",
       "| 6 | chr1 | 62947 | 63887 | OR4G11P    |\n",
       "\n"
      ],
      "text/plain": [
       "  chr  start end   name      \n",
       "1 chr1 11868 14412 DDX11L1   \n",
       "2 chr1 14362 29806 WASH7P    \n",
       "3 chr1 29553 31109 MIR1302-11\n",
       "4 chr1 34553 36081 FAM138A   \n",
       "5 chr1 52472 54936 OR4G4P    \n",
       "6 chr1 62947 63887 OR4G11P   "
      ]
     },
     "metadata": {},
     "output_type": "display_data"
    }
   ],
   "source": [
    "#######\n",
    "gene_bed <- read.table(\"/disk1/wenqing/tmp_data/gene.bed\")\n",
    "colnames(gene_bed) <- c('chr','start','end','name')\n",
    "head(gene_bed)"
   ]
  },
  {
   "cell_type": "code",
   "execution_count": 46,
   "metadata": {
    "vscode": {
     "languageId": "r"
    }
   },
   "outputs": [],
   "source": [
    "for(percent in c(0.5,0.6,0.7,0.8)){\n",
    "    new_5end <- round(gene_bed$start+(gene_bed$end-gene_bed$start)*percent)\n",
    "    new_3end <- new_5end+1\n",
    "\n",
    "    region_5end <- cbind(gene_bed$chr,gene_bed$start,new_5end,gene_bed$name)\n",
    "    region_3end <- cbind(gene_bed$chr,new_3end,gene_bed$end,gene_bed$name)\n",
    "    write.table(region_5end,paste0(\"/disk1/wenqing/tmp_data/gencode_5end.\",percent,\".bed\"),quote=F,sep='\\t',col.names=F,row.names=F)\n",
    "    write.table(region_3end,paste0(\"/disk1/wenqing/tmp_data/gencode_3end.\",percent,\".bed\"),quote=F,sep='\\t',col.names=F,row.names=F)\n",
    "}"
   ]
  }
 ],
 "metadata": {
  "kernelspec": {
   "display_name": "R",
   "language": "R",
   "name": "ir"
  },
  "language_info": {
   "codemirror_mode": "r",
   "file_extension": ".r",
   "mimetype": "text/x-r-source",
   "name": "R",
   "pygments_lexer": "r",
   "version": "4.3.1"
  },
  "orig_nbformat": 4,
  "vscode": {
   "interpreter": {
    "hash": "4587f8d71e481bac2dbb4139bf1f5d6af8d88103a069ab0b4e862134521318f6"
   }
  }
 },
 "nbformat": 4,
 "nbformat_minor": 2
}
