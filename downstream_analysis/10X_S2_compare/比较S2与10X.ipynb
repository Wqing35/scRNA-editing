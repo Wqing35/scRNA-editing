{
 "cells": [
  {
   "cell_type": "code",
   "execution_count": 1,
   "metadata": {
    "vscode": {
     "languageId": "r"
    }
   },
   "outputs": [
    {
     "data": {
      "text/html": [
       "'/disk1/wenqing/anaconda3/envs/wq_R4.2/lib/R/library'"
      ],
      "text/latex": [
       "'/disk1/wenqing/anaconda3/envs/wq\\_R4.2/lib/R/library'"
      ],
      "text/markdown": [
       "'/disk1/wenqing/anaconda3/envs/wq_R4.2/lib/R/library'"
      ],
      "text/plain": [
       "[1] \"/disk1/wenqing/anaconda3/envs/wq_R4.2/lib/R/library\""
      ]
     },
     "metadata": {},
     "output_type": "display_data"
    }
   ],
   "source": [
    ".libPaths()"
   ]
  },
  {
   "cell_type": "code",
   "execution_count": 2,
   "metadata": {
    "vscode": {
     "languageId": "r"
    }
   },
   "outputs": [
    {
     "name": "stderr",
     "output_type": "stream",
     "text": [
      "Loading required package: ggplot2\n",
      "\n"
     ]
    }
   ],
   "source": [
    "library(ggpubr)"
   ]
  },
  {
   "cell_type": "code",
   "execution_count": 3,
   "metadata": {
    "vscode": {
     "languageId": "r"
    }
   },
   "outputs": [
    {
     "name": "stderr",
     "output_type": "stream",
     "text": [
      "Loading required package: grid\n",
      "\n",
      "Loading required package: futile.logger\n",
      "\n",
      "\n",
      "Attaching package: ‘VennDiagram’\n",
      "\n",
      "\n",
      "The following object is masked from ‘package:ggpubr’:\n",
      "\n",
      "    rotate\n",
      "\n",
      "\n"
     ]
    }
   ],
   "source": [
    "library(VennDiagram)\n",
    "library(colorspace)"
   ]
  },
  {
   "cell_type": "code",
   "execution_count": 4,
   "metadata": {
    "vscode": {
     "languageId": "r"
    }
   },
   "outputs": [],
   "source": [
    "#####比较10X与S2有res的基因，及其上的res数量\n",
    "gene_WzRes_s2 <- read.table(\"/disk1/wenqing/tmp_data/pbmc/result/s2/s2_geneWzRes_regular.txt\")\n",
    "gene_WzRes_10X <- read.table(\"/disk1/wenqing/tmp_data/pbmc/result/10X_Ver3/10X_geneWzRes_regular.txt\")\n"
   ]
  },
  {
   "cell_type": "code",
   "execution_count": 5,
   "metadata": {
    "vscode": {
     "languageId": "r"
    }
   },
   "outputs": [
    {
     "data": {
      "text/html": [
       "<style>\n",
       ".list-inline {list-style: none; margin:0; padding: 0}\n",
       ".list-inline>li {display: inline-block}\n",
       ".list-inline>li:not(:last-child)::after {content: \"\\00b7\"; padding: 0 .5ex}\n",
       "</style>\n",
       "<ol class=list-inline><li>6279</li><li>2</li></ol>\n"
      ],
      "text/latex": [
       "\\begin{enumerate*}\n",
       "\\item 6279\n",
       "\\item 2\n",
       "\\end{enumerate*}\n"
      ],
      "text/markdown": [
       "1. 6279\n",
       "2. 2\n",
       "\n",
       "\n"
      ],
      "text/plain": [
       "[1] 6279    2"
      ]
     },
     "metadata": {},
     "output_type": "display_data"
    },
    {
     "data": {
      "text/html": [
       "<style>\n",
       ".list-inline {list-style: none; margin:0; padding: 0}\n",
       ".list-inline>li {display: inline-block}\n",
       ".list-inline>li:not(:last-child)::after {content: \"\\00b7\"; padding: 0 .5ex}\n",
       "</style>\n",
       "<ol class=list-inline><li>8904</li><li>2</li></ol>\n"
      ],
      "text/latex": [
       "\\begin{enumerate*}\n",
       "\\item 8904\n",
       "\\item 2\n",
       "\\end{enumerate*}\n"
      ],
      "text/markdown": [
       "1. 8904\n",
       "2. 2\n",
       "\n",
       "\n"
      ],
      "text/plain": [
       "[1] 8904    2"
      ]
     },
     "metadata": {},
     "output_type": "display_data"
    }
   ],
   "source": [
    "dim(gene_WzRes_s2)\n",
    "dim(gene_WzRes_10X)"
   ]
  },
  {
   "cell_type": "code",
   "execution_count": 6,
   "metadata": {
    "vscode": {
     "languageId": "r"
    }
   },
   "outputs": [
    {
     "data": {
      "text/html": [
       "4673"
      ],
      "text/latex": [
       "4673"
      ],
      "text/markdown": [
       "4673"
      ],
      "text/plain": [
       "[1] 4673"
      ]
     },
     "metadata": {},
     "output_type": "display_data"
    }
   ],
   "source": [
    "overlap_genes <- intersect(gene_WzRes_s2$V2,gene_WzRes_10X$V2)\n",
    "length(overlap_genes)"
   ]
  },
  {
   "cell_type": "code",
   "execution_count": 7,
   "metadata": {
    "vscode": {
     "languageId": "r"
    }
   },
   "outputs": [],
   "source": [
    "write.table(overlap_genes,\"/disk1/wenqing/tmp_data/pbmc/overlapped_genesIn2Plats.txt\",quote=F,col.names=F,row.names=F)"
   ]
  },
  {
   "cell_type": "code",
   "execution_count": 39,
   "metadata": {
    "vscode": {
     "languageId": "r"
    }
   },
   "outputs": [
    {
     "data": {
      "text/html": [
       "<style>\n",
       ".list-inline {list-style: none; margin:0; padding: 0}\n",
       ".list-inline>li {display: inline-block}\n",
       ".list-inline>li:not(:last-child)::after {content: \"\\00b7\"; padding: 0 .5ex}\n",
       "</style>\n",
       "<ol class=list-inline><li>'#FFB3B5'</li><li>'#61D8D6'</li></ol>\n"
      ],
      "text/latex": [
       "\\begin{enumerate*}\n",
       "\\item '\\#FFB3B5'\n",
       "\\item '\\#61D8D6'\n",
       "\\end{enumerate*}\n"
      ],
      "text/markdown": [
       "1. '#FFB3B5'\n",
       "2. '#61D8D6'\n",
       "\n",
       "\n"
      ],
      "text/plain": [
       "[1] \"#FFB3B5\" \"#61D8D6\""
      ]
     },
     "metadata": {},
     "output_type": "display_data"
    }
   ],
   "source": [
    "colors<-qualitative_hcl(2,palette = \"Set3\")\n",
    "colors\n",
    "\n",
    "  venn.plot <- venn.diagram(\n",
    "    x = list(\n",
    "      \"Smart-seq2\" = gene_WzRes_s2$V2,\n",
    "      \"10X\" = gene_WzRes_10X$V2\n",
    "    ),\n",
    "    filename = \"/disk1/wenqing/tmp_data/pbmc/result/regular_gene_overlapped_between2platforms.jpeg\",\n",
    "    fill = c('red','blue'),\n",
    "    cex = 1\n",
    "  )"
   ]
  },
  {
   "cell_type": "code",
   "execution_count": 40,
   "metadata": {
    "vscode": {
     "languageId": "r"
    }
   },
   "outputs": [],
   "source": [
    "rownames(gene_WzRes_s2) <- gene_WzRes_s2$V2\n",
    "rownames(gene_WzRes_10X) <- gene_WzRes_10X$V2"
   ]
  },
  {
   "cell_type": "code",
   "execution_count": 41,
   "metadata": {
    "vscode": {
     "languageId": "r"
    }
   },
   "outputs": [],
   "source": [
    "sub_gene_WzRes_s2 <- gene_WzRes_s2[overlap_genes,]\n",
    "sub_gene_WzRes_10X <- gene_WzRes_10X[overlap_genes,]"
   ]
  },
  {
   "cell_type": "code",
   "execution_count": 42,
   "metadata": {
    "vscode": {
     "languageId": "r"
    }
   },
   "outputs": [
    {
     "data": {
      "text/html": [
       "<table class=\"dataframe\">\n",
       "<caption>A data.frame: 6 × 2</caption>\n",
       "<thead>\n",
       "\t<tr><th></th><th scope=col>V1</th><th scope=col>V2</th></tr>\n",
       "\t<tr><th></th><th scope=col>&lt;int&gt;</th><th scope=col>&lt;chr&gt;</th></tr>\n",
       "</thead>\n",
       "<tbody>\n",
       "\t<tr><th scope=row>AAGAB</th><td> 3</td><td>AAGAB</td></tr>\n",
       "\t<tr><th scope=row>AAK1</th><td>24</td><td>AAK1 </td></tr>\n",
       "\t<tr><th scope=row>AARS</th><td> 2</td><td>AARS </td></tr>\n",
       "\t<tr><th scope=row>AATF</th><td>13</td><td>AATF </td></tr>\n",
       "\t<tr><th scope=row>ABAT</th><td>10</td><td>ABAT </td></tr>\n",
       "\t<tr><th scope=row>ABCA1</th><td> 3</td><td>ABCA1</td></tr>\n",
       "</tbody>\n",
       "</table>\n"
      ],
      "text/latex": [
       "A data.frame: 6 × 2\n",
       "\\begin{tabular}{r|ll}\n",
       "  & V1 & V2\\\\\n",
       "  & <int> & <chr>\\\\\n",
       "\\hline\n",
       "\tAAGAB &  3 & AAGAB\\\\\n",
       "\tAAK1 & 24 & AAK1 \\\\\n",
       "\tAARS &  2 & AARS \\\\\n",
       "\tAATF & 13 & AATF \\\\\n",
       "\tABAT & 10 & ABAT \\\\\n",
       "\tABCA1 &  3 & ABCA1\\\\\n",
       "\\end{tabular}\n"
      ],
      "text/markdown": [
       "\n",
       "A data.frame: 6 × 2\n",
       "\n",
       "| <!--/--> | V1 &lt;int&gt; | V2 &lt;chr&gt; |\n",
       "|---|---|---|\n",
       "| AAGAB |  3 | AAGAB |\n",
       "| AAK1 | 24 | AAK1  |\n",
       "| AARS |  2 | AARS  |\n",
       "| AATF | 13 | AATF  |\n",
       "| ABAT | 10 | ABAT  |\n",
       "| ABCA1 |  3 | ABCA1 |\n",
       "\n"
      ],
      "text/plain": [
       "      V1 V2   \n",
       "AAGAB  3 AAGAB\n",
       "AAK1  24 AAK1 \n",
       "AARS   2 AARS \n",
       "AATF  13 AATF \n",
       "ABAT  10 ABAT \n",
       "ABCA1  3 ABCA1"
      ]
     },
     "metadata": {},
     "output_type": "display_data"
    },
    {
     "data": {
      "text/html": [
       "<table class=\"dataframe\">\n",
       "<caption>A data.frame: 6 × 2</caption>\n",
       "<thead>\n",
       "\t<tr><th></th><th scope=col>V1</th><th scope=col>V2</th></tr>\n",
       "\t<tr><th></th><th scope=col>&lt;int&gt;</th><th scope=col>&lt;chr&gt;</th></tr>\n",
       "</thead>\n",
       "<tbody>\n",
       "\t<tr><th scope=row>AAGAB</th><td> 9</td><td>AAGAB</td></tr>\n",
       "\t<tr><th scope=row>AAK1</th><td>54</td><td>AAK1 </td></tr>\n",
       "\t<tr><th scope=row>AARS</th><td> 8</td><td>AARS </td></tr>\n",
       "\t<tr><th scope=row>AATF</th><td>24</td><td>AATF </td></tr>\n",
       "\t<tr><th scope=row>ABAT</th><td> 6</td><td>ABAT </td></tr>\n",
       "\t<tr><th scope=row>ABCA1</th><td> 4</td><td>ABCA1</td></tr>\n",
       "</tbody>\n",
       "</table>\n"
      ],
      "text/latex": [
       "A data.frame: 6 × 2\n",
       "\\begin{tabular}{r|ll}\n",
       "  & V1 & V2\\\\\n",
       "  & <int> & <chr>\\\\\n",
       "\\hline\n",
       "\tAAGAB &  9 & AAGAB\\\\\n",
       "\tAAK1 & 54 & AAK1 \\\\\n",
       "\tAARS &  8 & AARS \\\\\n",
       "\tAATF & 24 & AATF \\\\\n",
       "\tABAT &  6 & ABAT \\\\\n",
       "\tABCA1 &  4 & ABCA1\\\\\n",
       "\\end{tabular}\n"
      ],
      "text/markdown": [
       "\n",
       "A data.frame: 6 × 2\n",
       "\n",
       "| <!--/--> | V1 &lt;int&gt; | V2 &lt;chr&gt; |\n",
       "|---|---|---|\n",
       "| AAGAB |  9 | AAGAB |\n",
       "| AAK1 | 54 | AAK1  |\n",
       "| AARS |  8 | AARS  |\n",
       "| AATF | 24 | AATF  |\n",
       "| ABAT |  6 | ABAT  |\n",
       "| ABCA1 |  4 | ABCA1 |\n",
       "\n"
      ],
      "text/plain": [
       "      V1 V2   \n",
       "AAGAB  9 AAGAB\n",
       "AAK1  54 AAK1 \n",
       "AARS   8 AARS \n",
       "AATF  24 AATF \n",
       "ABAT   6 ABAT \n",
       "ABCA1  4 ABCA1"
      ]
     },
     "metadata": {},
     "output_type": "display_data"
    }
   ],
   "source": [
    "head(sub_gene_WzRes_s2)\n",
    "head(sub_gene_WzRes_10X)"
   ]
  },
  {
   "cell_type": "code",
   "execution_count": 33,
   "metadata": {
    "vscode": {
     "languageId": "r"
    }
   },
   "outputs": [],
   "source": [
    "top50_res_s2 <- head(sub_gene_WzRes_s2[order(sub_gene_WzRes_s2$V1,decreasing=T),],50)\n",
    "top50_res_10X <- head(sub_gene_WzRes_10X[order(sub_gene_WzRes_10X$V1,decreasing=T),],50)"
   ]
  },
  {
   "cell_type": "code",
   "execution_count": 34,
   "metadata": {
    "vscode": {
     "languageId": "r"
    }
   },
   "outputs": [
    {
     "data": {
      "text/html": [
       "<style>\n",
       ".list-inline {list-style: none; margin:0; padding: 0}\n",
       ".list-inline>li {display: inline-block}\n",
       ".list-inline>li:not(:last-child)::after {content: \"\\00b7\"; padding: 0 .5ex}\n",
       "</style>\n",
       "<ol class=list-inline><li>'GNB1'</li><li>'CTSS'</li><li>'ARID4B'</li><li>'MSTO1'</li><li>'MSTO2P'</li><li>'GATAD2B'</li><li>'CD247'</li><li>'RABGAP1L'</li><li>'FAF1'</li><li>'EIF4G3'</li><li>'PUM1'</li><li>'PSMA5'</li><li>'ASH1L'</li><li>'FAM129A'</li><li>'PRPF3'</li><li>'SMYD3'</li><li>'EPS15'</li><li>'RFWD2'</li><li>'RNF115'</li><li>'TMEM57'</li><li>'F11R'</li><li>'ZCCHC11'</li><li>'PIK3CD'</li><li>'KPNA6'</li><li>'RC3H1'</li><li>'CAMTA1'</li></ol>\n"
      ],
      "text/latex": [
       "\\begin{enumerate*}\n",
       "\\item 'GNB1'\n",
       "\\item 'CTSS'\n",
       "\\item 'ARID4B'\n",
       "\\item 'MSTO1'\n",
       "\\item 'MSTO2P'\n",
       "\\item 'GATAD2B'\n",
       "\\item 'CD247'\n",
       "\\item 'RABGAP1L'\n",
       "\\item 'FAF1'\n",
       "\\item 'EIF4G3'\n",
       "\\item 'PUM1'\n",
       "\\item 'PSMA5'\n",
       "\\item 'ASH1L'\n",
       "\\item 'FAM129A'\n",
       "\\item 'PRPF3'\n",
       "\\item 'SMYD3'\n",
       "\\item 'EPS15'\n",
       "\\item 'RFWD2'\n",
       "\\item 'RNF115'\n",
       "\\item 'TMEM57'\n",
       "\\item 'F11R'\n",
       "\\item 'ZCCHC11'\n",
       "\\item 'PIK3CD'\n",
       "\\item 'KPNA6'\n",
       "\\item 'RC3H1'\n",
       "\\item 'CAMTA1'\n",
       "\\end{enumerate*}\n"
      ],
      "text/markdown": [
       "1. 'GNB1'\n",
       "2. 'CTSS'\n",
       "3. 'ARID4B'\n",
       "4. 'MSTO1'\n",
       "5. 'MSTO2P'\n",
       "6. 'GATAD2B'\n",
       "7. 'CD247'\n",
       "8. 'RABGAP1L'\n",
       "9. 'FAF1'\n",
       "10. 'EIF4G3'\n",
       "11. 'PUM1'\n",
       "12. 'PSMA5'\n",
       "13. 'ASH1L'\n",
       "14. 'FAM129A'\n",
       "15. 'PRPF3'\n",
       "16. 'SMYD3'\n",
       "17. 'EPS15'\n",
       "18. 'RFWD2'\n",
       "19. 'RNF115'\n",
       "20. 'TMEM57'\n",
       "21. 'F11R'\n",
       "22. 'ZCCHC11'\n",
       "23. 'PIK3CD'\n",
       "24. 'KPNA6'\n",
       "25. 'RC3H1'\n",
       "26. 'CAMTA1'\n",
       "\n",
       "\n"
      ],
      "text/plain": [
       " [1] \"GNB1\"     \"CTSS\"     \"ARID4B\"   \"MSTO1\"    \"MSTO2P\"   \"GATAD2B\" \n",
       " [7] \"CD247\"    \"RABGAP1L\" \"FAF1\"     \"EIF4G3\"   \"PUM1\"     \"PSMA5\"   \n",
       "[13] \"ASH1L\"    \"FAM129A\"  \"PRPF3\"    \"SMYD3\"    \"EPS15\"    \"RFWD2\"   \n",
       "[19] \"RNF115\"   \"TMEM57\"   \"F11R\"     \"ZCCHC11\"  \"PIK3CD\"   \"KPNA6\"   \n",
       "[25] \"RC3H1\"    \"CAMTA1\"  "
      ]
     },
     "metadata": {},
     "output_type": "display_data"
    }
   ],
   "source": [
    "intersect(top50_res_s2$V2,top50_res_10X$V2)"
   ]
  },
  {
   "cell_type": "code",
   "execution_count": 35,
   "metadata": {
    "vscode": {
     "languageId": "r"
    }
   },
   "outputs": [
    {
     "data": {
      "text/html": [
       "<table class=\"dataframe\">\n",
       "<caption>A data.frame: 3 × 2</caption>\n",
       "<thead>\n",
       "\t<tr><th></th><th scope=col>V1</th><th scope=col>V2</th></tr>\n",
       "\t<tr><th></th><th scope=col>&lt;int&gt;</th><th scope=col>&lt;chr&gt;</th></tr>\n",
       "</thead>\n",
       "<tbody>\n",
       "\t<tr><th scope=row>GNB1</th><td>135</td><td>GNB1  </td></tr>\n",
       "\t<tr><th scope=row>CTSS</th><td>107</td><td>CTSS  </td></tr>\n",
       "\t<tr><th scope=row>ARID4B</th><td> 90</td><td>ARID4B</td></tr>\n",
       "</tbody>\n",
       "</table>\n"
      ],
      "text/latex": [
       "A data.frame: 3 × 2\n",
       "\\begin{tabular}{r|ll}\n",
       "  & V1 & V2\\\\\n",
       "  & <int> & <chr>\\\\\n",
       "\\hline\n",
       "\tGNB1 & 135 & GNB1  \\\\\n",
       "\tCTSS & 107 & CTSS  \\\\\n",
       "\tARID4B &  90 & ARID4B\\\\\n",
       "\\end{tabular}\n"
      ],
      "text/markdown": [
       "\n",
       "A data.frame: 3 × 2\n",
       "\n",
       "| <!--/--> | V1 &lt;int&gt; | V2 &lt;chr&gt; |\n",
       "|---|---|---|\n",
       "| GNB1 | 135 | GNB1   |\n",
       "| CTSS | 107 | CTSS   |\n",
       "| ARID4B |  90 | ARID4B |\n",
       "\n"
      ],
      "text/plain": [
       "       V1  V2    \n",
       "GNB1   135 GNB1  \n",
       "CTSS   107 CTSS  \n",
       "ARID4B  90 ARID4B"
      ]
     },
     "metadata": {},
     "output_type": "display_data"
    },
    {
     "data": {
      "text/html": [
       "<table class=\"dataframe\">\n",
       "<caption>A data.frame: 3 × 2</caption>\n",
       "<thead>\n",
       "\t<tr><th></th><th scope=col>V1</th><th scope=col>V2</th></tr>\n",
       "\t<tr><th></th><th scope=col>&lt;int&gt;</th><th scope=col>&lt;chr&gt;</th></tr>\n",
       "</thead>\n",
       "<tbody>\n",
       "\t<tr><th scope=row>GNB1</th><td>225</td><td>GNB1  </td></tr>\n",
       "\t<tr><th scope=row>CTSS</th><td> 94</td><td>CTSS  </td></tr>\n",
       "\t<tr><th scope=row>ARID4B</th><td>200</td><td>ARID4B</td></tr>\n",
       "</tbody>\n",
       "</table>\n"
      ],
      "text/latex": [
       "A data.frame: 3 × 2\n",
       "\\begin{tabular}{r|ll}\n",
       "  & V1 & V2\\\\\n",
       "  & <int> & <chr>\\\\\n",
       "\\hline\n",
       "\tGNB1 & 225 & GNB1  \\\\\n",
       "\tCTSS &  94 & CTSS  \\\\\n",
       "\tARID4B & 200 & ARID4B\\\\\n",
       "\\end{tabular}\n"
      ],
      "text/markdown": [
       "\n",
       "A data.frame: 3 × 2\n",
       "\n",
       "| <!--/--> | V1 &lt;int&gt; | V2 &lt;chr&gt; |\n",
       "|---|---|---|\n",
       "| GNB1 | 225 | GNB1   |\n",
       "| CTSS |  94 | CTSS   |\n",
       "| ARID4B | 200 | ARID4B |\n",
       "\n"
      ],
      "text/plain": [
       "       V1  V2    \n",
       "GNB1   225 GNB1  \n",
       "CTSS    94 CTSS  \n",
       "ARID4B 200 ARID4B"
      ]
     },
     "metadata": {},
     "output_type": "display_data"
    }
   ],
   "source": [
    "top50_res_s2[c('GNB1','CTSS','ARID4B'),]\n",
    "top50_res_10X[c('GNB1','CTSS','ARID4B'),]"
   ]
  },
  {
   "cell_type": "code",
   "execution_count": 66,
   "metadata": {
    "vscode": {
     "languageId": "r"
    }
   },
   "outputs": [
    {
     "data": {
      "text/html": [
       "<table class=\"dataframe\">\n",
       "<caption>A data.frame: 20 × 3</caption>\n",
       "<thead>\n",
       "\t<tr><th></th><th scope=col>res_num</th><th scope=col>gene</th><th scope=col>platform</th></tr>\n",
       "\t<tr><th></th><th scope=col>&lt;int&gt;</th><th scope=col>&lt;chr&gt;</th><th scope=col>&lt;chr&gt;</th></tr>\n",
       "</thead>\n",
       "<tbody>\n",
       "\t<tr><th scope=row>VPS33A</th><td>  5</td><td>VPS33A       </td><td>Smart-seq2</td></tr>\n",
       "\t<tr><th scope=row>SVIL</th><td> 14</td><td>SVIL         </td><td>Smart-seq2</td></tr>\n",
       "\t<tr><th scope=row>CCL5</th><td> 32</td><td>CCL5         </td><td>Smart-seq2</td></tr>\n",
       "\t<tr><th scope=row>G3BP1</th><td>  2</td><td>G3BP1        </td><td>Smart-seq2</td></tr>\n",
       "\t<tr><th scope=row>RNF10</th><td>  4</td><td>RNF10        </td><td>Smart-seq2</td></tr>\n",
       "\t<tr><th scope=row>TMEM184C</th><td>  2</td><td>TMEM184C     </td><td>Smart-seq2</td></tr>\n",
       "\t<tr><th scope=row>PPP3CB</th><td>  8</td><td>PPP3CB       </td><td>Smart-seq2</td></tr>\n",
       "\t<tr><th scope=row>NECAP1</th><td>  3</td><td>NECAP1       </td><td>Smart-seq2</td></tr>\n",
       "\t<tr><th scope=row>RP11-958N24.1</th><td>  6</td><td>RP11-958N24.1</td><td>Smart-seq2</td></tr>\n",
       "\t<tr><th scope=row>RNF115</th><td> 37</td><td>RNF115       </td><td>Smart-seq2</td></tr>\n",
       "\t<tr><th scope=row>VPS33A1</th><td> 13</td><td>VPS33A       </td><td>10X       </td></tr>\n",
       "\t<tr><th scope=row>SVIL1</th><td> 11</td><td>SVIL         </td><td>10X       </td></tr>\n",
       "\t<tr><th scope=row>CCL51</th><td> 14</td><td>CCL5         </td><td>10X       </td></tr>\n",
       "\t<tr><th scope=row>G3BP11</th><td>  4</td><td>G3BP1        </td><td>10X       </td></tr>\n",
       "\t<tr><th scope=row>RNF101</th><td>  8</td><td>RNF10        </td><td>10X       </td></tr>\n",
       "\t<tr><th scope=row>TMEM184C1</th><td>  3</td><td>TMEM184C     </td><td>10X       </td></tr>\n",
       "\t<tr><th scope=row>PPP3CB1</th><td> 33</td><td>PPP3CB       </td><td>10X       </td></tr>\n",
       "\t<tr><th scope=row>NECAP11</th><td>  2</td><td>NECAP1       </td><td>10X       </td></tr>\n",
       "\t<tr><th scope=row>RP11-958N24.11</th><td>  3</td><td>RP11-958N24.1</td><td>10X       </td></tr>\n",
       "\t<tr><th scope=row>RNF1151</th><td>136</td><td>RNF115       </td><td>10X       </td></tr>\n",
       "</tbody>\n",
       "</table>\n"
      ],
      "text/latex": [
       "A data.frame: 20 × 3\n",
       "\\begin{tabular}{r|lll}\n",
       "  & res\\_num & gene & platform\\\\\n",
       "  & <int> & <chr> & <chr>\\\\\n",
       "\\hline\n",
       "\tVPS33A &   5 & VPS33A        & Smart-seq2\\\\\n",
       "\tSVIL &  14 & SVIL          & Smart-seq2\\\\\n",
       "\tCCL5 &  32 & CCL5          & Smart-seq2\\\\\n",
       "\tG3BP1 &   2 & G3BP1         & Smart-seq2\\\\\n",
       "\tRNF10 &   4 & RNF10         & Smart-seq2\\\\\n",
       "\tTMEM184C &   2 & TMEM184C      & Smart-seq2\\\\\n",
       "\tPPP3CB &   8 & PPP3CB        & Smart-seq2\\\\\n",
       "\tNECAP1 &   3 & NECAP1        & Smart-seq2\\\\\n",
       "\tRP11-958N24.1 &   6 & RP11-958N24.1 & Smart-seq2\\\\\n",
       "\tRNF115 &  37 & RNF115        & Smart-seq2\\\\\n",
       "\tVPS33A1 &  13 & VPS33A        & 10X       \\\\\n",
       "\tSVIL1 &  11 & SVIL          & 10X       \\\\\n",
       "\tCCL51 &  14 & CCL5          & 10X       \\\\\n",
       "\tG3BP11 &   4 & G3BP1         & 10X       \\\\\n",
       "\tRNF101 &   8 & RNF10         & 10X       \\\\\n",
       "\tTMEM184C1 &   3 & TMEM184C      & 10X       \\\\\n",
       "\tPPP3CB1 &  33 & PPP3CB        & 10X       \\\\\n",
       "\tNECAP11 &   2 & NECAP1        & 10X       \\\\\n",
       "\tRP11-958N24.11 &   3 & RP11-958N24.1 & 10X       \\\\\n",
       "\tRNF1151 & 136 & RNF115        & 10X       \\\\\n",
       "\\end{tabular}\n"
      ],
      "text/markdown": [
       "\n",
       "A data.frame: 20 × 3\n",
       "\n",
       "| <!--/--> | res_num &lt;int&gt; | gene &lt;chr&gt; | platform &lt;chr&gt; |\n",
       "|---|---|---|---|\n",
       "| VPS33A |   5 | VPS33A        | Smart-seq2 |\n",
       "| SVIL |  14 | SVIL          | Smart-seq2 |\n",
       "| CCL5 |  32 | CCL5          | Smart-seq2 |\n",
       "| G3BP1 |   2 | G3BP1         | Smart-seq2 |\n",
       "| RNF10 |   4 | RNF10         | Smart-seq2 |\n",
       "| TMEM184C |   2 | TMEM184C      | Smart-seq2 |\n",
       "| PPP3CB |   8 | PPP3CB        | Smart-seq2 |\n",
       "| NECAP1 |   3 | NECAP1        | Smart-seq2 |\n",
       "| RP11-958N24.1 |   6 | RP11-958N24.1 | Smart-seq2 |\n",
       "| RNF115 |  37 | RNF115        | Smart-seq2 |\n",
       "| VPS33A1 |  13 | VPS33A        | 10X        |\n",
       "| SVIL1 |  11 | SVIL          | 10X        |\n",
       "| CCL51 |  14 | CCL5          | 10X        |\n",
       "| G3BP11 |   4 | G3BP1         | 10X        |\n",
       "| RNF101 |   8 | RNF10         | 10X        |\n",
       "| TMEM184C1 |   3 | TMEM184C      | 10X        |\n",
       "| PPP3CB1 |  33 | PPP3CB        | 10X        |\n",
       "| NECAP11 |   2 | NECAP1        | 10X        |\n",
       "| RP11-958N24.11 |   3 | RP11-958N24.1 | 10X        |\n",
       "| RNF1151 | 136 | RNF115        | 10X        |\n",
       "\n"
      ],
      "text/plain": [
       "               res_num gene          platform  \n",
       "VPS33A           5     VPS33A        Smart-seq2\n",
       "SVIL            14     SVIL          Smart-seq2\n",
       "CCL5            32     CCL5          Smart-seq2\n",
       "G3BP1            2     G3BP1         Smart-seq2\n",
       "RNF10            4     RNF10         Smart-seq2\n",
       "TMEM184C         2     TMEM184C      Smart-seq2\n",
       "PPP3CB           8     PPP3CB        Smart-seq2\n",
       "NECAP1           3     NECAP1        Smart-seq2\n",
       "RP11-958N24.1    6     RP11-958N24.1 Smart-seq2\n",
       "RNF115          37     RNF115        Smart-seq2\n",
       "VPS33A1         13     VPS33A        10X       \n",
       "SVIL1           11     SVIL          10X       \n",
       "CCL51           14     CCL5          10X       \n",
       "G3BP11           4     G3BP1         10X       \n",
       "RNF101           8     RNF10         10X       \n",
       "TMEM184C1        3     TMEM184C      10X       \n",
       "PPP3CB1         33     PPP3CB        10X       \n",
       "NECAP11          2     NECAP1        10X       \n",
       "RP11-958N24.11   3     RP11-958N24.1 10X       \n",
       "RNF1151        136     RNF115        10X       "
      ]
     },
     "metadata": {},
     "output_type": "display_data"
    }
   ],
   "source": [
    "#随机抽取10个基因展示两个平台res的数量\n",
    "random_ord <- sample(1:length(overlap_genes),10)\n",
    "gene_res_s2 <- sub_gene_WzRes_s2[random_ord,]\n",
    "gene_res_10X <- sub_gene_WzRes_10X[random_ord,]\n",
    "all_res <- rbind(gene_res_s2,gene_res_10X)\n",
    "platforms <- c(rep('Smart-seq2',10),rep('10X',10))\n",
    "dat <- cbind(all_res[,1:2],platforms)\n",
    "colnames(dat) <- c('res_num','gene','platform')\n",
    "dat"
   ]
  },
  {
   "cell_type": "code",
   "execution_count": 69,
   "metadata": {
    "vscode": {
     "languageId": "r"
    }
   },
   "outputs": [
    {
     "data": {
      "image/png": "[encoded data removed]",
      "text/plain": [
       "plot without title"
      ]
     },
     "metadata": {
      "image/png": {
       "height": 420,
       "width": 420
      }
     },
     "output_type": "display_data"
    }
   ],
   "source": [
    "ggplot(dat,aes(gene,as.numeric(res_num),fill=platform))+\n",
    "  geom_bar(stat=\"identity\",position=\"dodge\")+\n",
    "  theme(panel.background = element_blank(),\n",
    "        axis.text.x = element_text(angle=45,size=10,color = 'black'),\n",
    "        axis.title.y = element_text(size = 14,color = 'black'),\n",
    "        axis.text.y = element_text(size = 12,color = 'black'),\n",
    "        axis.ticks.y = element_blank(),\n",
    "        plot.title = element_text(hjust = .5),\n",
    "        legend.position = \"none\") +\n",
    "  theme_bw() +\n",
    "  ylab('RES num') +\n",
    "  xlab('Gene') +\n",
    "  theme(axis.text.x = element_text(angle = 45, hjust = 1)) +\n",
    "  scale_fill_manual(\n",
    "    values=c(\"10X\"=\"blue\",\"Smart-seq2\"=\"red\"), \n",
    "    labels=c(\"10X\",\"Smart-seq2\"))\n"
   ]
  },
  {
   "cell_type": "code",
   "execution_count": 56,
   "metadata": {
    "vscode": {
     "languageId": "r"
    }
   },
   "outputs": [],
   "source": [
    "#计算s2比10X多的占比\n",
    "s2_gene_more_res <- c()\n",
    "tenX_gene_more_res <- c()\n",
    "for(one in overlap_genes){\n",
    "    if(sub_gene_WzRes_10X[one,1] < sub_gene_WzRes_s2[one,1]){\n",
    "        s2_gene_more_res <- c(s2_gene_more_res,one)\n",
    "    }else if(sub_gene_WzRes_10X[one,1] > sub_gene_WzRes_s2[one,1]){\n",
    "        tenX_gene_more_res <- c(tenX_gene_more_res,one)\n",
    "    }\n",
    "}"
   ]
  },
  {
   "cell_type": "code",
   "execution_count": 57,
   "metadata": {
    "vscode": {
     "languageId": "r"
    }
   },
   "outputs": [
    {
     "data": {
      "text/html": [
       "0.197731649903702"
      ],
      "text/latex": [
       "0.197731649903702"
      ],
      "text/markdown": [
       "0.197731649903702"
      ],
      "text/plain": [
       "[1] 0.1977316"
      ]
     },
     "metadata": {},
     "output_type": "display_data"
    },
    {
     "data": {
      "text/html": [
       "0.735501818959983"
      ],
      "text/latex": [
       "0.735501818959983"
      ],
      "text/markdown": [
       "0.735501818959983"
      ],
      "text/plain": [
       "[1] 0.7355018"
      ]
     },
     "metadata": {},
     "output_type": "display_data"
    }
   ],
   "source": [
    "length(s2_gene_more_res)/length(overlap_genes)\n",
    "length(tenX_gene_more_res)/length(overlap_genes)"
   ]
  },
  {
   "cell_type": "code",
   "execution_count": 58,
   "metadata": {
    "vscode": {
     "languageId": "r"
    }
   },
   "outputs": [
    {
     "data": {
      "text/html": [
       "<table class=\"dataframe\">\n",
       "<caption>A data.frame: 1 × 2</caption>\n",
       "<thead>\n",
       "\t<tr><th></th><th scope=col>V1</th><th scope=col>V2</th></tr>\n",
       "\t<tr><th></th><th scope=col>&lt;int&gt;</th><th scope=col>&lt;chr&gt;</th></tr>\n",
       "</thead>\n",
       "<tbody>\n",
       "\t<tr><th scope=row>POLR2J2</th><td>288</td><td>POLR2J2</td></tr>\n",
       "</tbody>\n",
       "</table>\n"
      ],
      "text/latex": [
       "A data.frame: 1 × 2\n",
       "\\begin{tabular}{r|ll}\n",
       "  & V1 & V2\\\\\n",
       "  & <int> & <chr>\\\\\n",
       "\\hline\n",
       "\tPOLR2J2 & 288 & POLR2J2\\\\\n",
       "\\end{tabular}\n"
      ],
      "text/markdown": [
       "\n",
       "A data.frame: 1 × 2\n",
       "\n",
       "| <!--/--> | V1 &lt;int&gt; | V2 &lt;chr&gt; |\n",
       "|---|---|---|\n",
       "| POLR2J2 | 288 | POLR2J2 |\n",
       "\n"
      ],
      "text/plain": [
       "        V1  V2     \n",
       "POLR2J2 288 POLR2J2"
      ]
     },
     "metadata": {},
     "output_type": "display_data"
    },
    {
     "data": {
      "text/html": [
       "<table class=\"dataframe\">\n",
       "<caption>A data.frame: 1 × 2</caption>\n",
       "<thead>\n",
       "\t<tr><th></th><th scope=col>V1</th><th scope=col>V2</th></tr>\n",
       "\t<tr><th></th><th scope=col>&lt;int&gt;</th><th scope=col>&lt;chr&gt;</th></tr>\n",
       "</thead>\n",
       "<tbody>\n",
       "\t<tr><th scope=row>POLR2J2</th><td>448</td><td>POLR2J2</td></tr>\n",
       "</tbody>\n",
       "</table>\n"
      ],
      "text/latex": [
       "A data.frame: 1 × 2\n",
       "\\begin{tabular}{r|ll}\n",
       "  & V1 & V2\\\\\n",
       "  & <int> & <chr>\\\\\n",
       "\\hline\n",
       "\tPOLR2J2 & 448 & POLR2J2\\\\\n",
       "\\end{tabular}\n"
      ],
      "text/markdown": [
       "\n",
       "A data.frame: 1 × 2\n",
       "\n",
       "| <!--/--> | V1 &lt;int&gt; | V2 &lt;chr&gt; |\n",
       "|---|---|---|\n",
       "| POLR2J2 | 448 | POLR2J2 |\n",
       "\n"
      ],
      "text/plain": [
       "        V1  V2     \n",
       "POLR2J2 448 POLR2J2"
      ]
     },
     "metadata": {},
     "output_type": "display_data"
    }
   ],
   "source": [
    "#挑选一个s2比10X多的，少的\n",
    "sub_gene_WzRes_s2[which.max(sub_gene_WzRes_s2$V1),]\n",
    "sub_gene_WzRes_10X[which.max(sub_gene_WzRes_10X$V1),]\n"
   ]
  },
  {
   "cell_type": "code",
   "execution_count": null,
   "metadata": {
    "vscode": {
     "languageId": "r"
    }
   },
   "outputs": [],
   "source": [
    "sub_gene_WzRes_10X['FLNA',]\n",
    "sub_gene_WzRes_s2['RP11-420N3.2',]\n",
    "6826015-5289802\n",
    "153576891-153603006"
   ]
  },
  {
   "cell_type": "code",
   "execution_count": 69,
   "metadata": {
    "vscode": {
     "languageId": "r"
    }
   },
   "outputs": [
    {
     "name": "stderr",
     "output_type": "stream",
     "text": [
      "Loading required package: GenomicRanges\n",
      "\n",
      "Loading required package: stats4\n",
      "\n",
      "Loading required package: BiocGenerics\n",
      "\n",
      "\n",
      "Attaching package: ‘BiocGenerics’\n",
      "\n",
      "\n",
      "The following objects are masked from ‘package:stats’:\n",
      "\n",
      "    IQR, mad, sd, var, xtabs\n",
      "\n",
      "\n",
      "The following objects are masked from ‘package:base’:\n",
      "\n",
      "    anyDuplicated, aperm, append, as.data.frame, basename, cbind,\n",
      "    colnames, dirname, do.call, duplicated, eval, evalq, Filter, Find,\n",
      "    get, grep, grepl, intersect, is.unsorted, lapply, Map, mapply,\n",
      "    match, mget, order, paste, pmax, pmax.int, pmin, pmin.int,\n",
      "    Position, rank, rbind, Reduce, rownames, sapply, setdiff, sort,\n",
      "    table, tapply, union, unique, unsplit, which.max, which.min\n",
      "\n",
      "\n",
      "Loading required package: S4Vectors\n",
      "\n",
      "\n",
      "Attaching package: ‘S4Vectors’\n",
      "\n",
      "\n",
      "The following object is masked from ‘package:utils’:\n",
      "\n",
      "    findMatches\n",
      "\n",
      "\n",
      "The following objects are masked from ‘package:base’:\n",
      "\n",
      "    expand.grid, I, unname\n",
      "\n",
      "\n",
      "Loading required package: IRanges\n",
      "\n",
      "Loading required package: GenomeInfoDb\n",
      "\n"
     ]
    }
   ],
   "source": [
    "#####FLNA编辑位点可视化\n",
    "library(trackViewer) #主要画图包\n",
    "library(RColorBrewer) #引入颜色包\n"
   ]
  },
  {
   "cell_type": "code",
   "execution_count": 131,
   "metadata": {
    "vscode": {
     "languageId": "r"
    }
   },
   "outputs": [],
   "source": [
    "#FLNA\n",
    "res_s2 <-  read.table(\"/disk1/wenqing/tmp_data/10X_smartseq2/result/s2/all_140_ESC/FLNA.txt\")$V1# 指定SNP 坐标位置\n",
    "res_10X <- read.table(\"/disk1/wenqing/tmp_data/10X_smartseq2/result/10X/all_140_ESC/FLNA.txt\")$V1\n",
    "\n",
    "all_res <- c(unique(res_s2),unique(res_10X))\n",
    "\n",
    "all_res_wzSample <- as.data.frame(cbind(all_res,c(rep('Smart-seq2',times=78),rep('10X',times=15))))\n",
    "\n",
    "exon_widths <- c(250,200,130,130,130,180,120,100,170,140,130,80)\n",
    "\n"
   ]
  },
  {
   "cell_type": "code",
   "execution_count": 132,
   "metadata": {
    "vscode": {
     "languageId": "r"
    }
   },
   "outputs": [
    {
     "data": {
      "text/plain": [
       "\n",
       "       10X Smart-seq2 \n",
       "        15         78 "
      ]
     },
     "metadata": {},
     "output_type": "display_data"
    },
    {
     "data": {
      "text/html": [
       "<style>\n",
       ".list-inline {list-style: none; margin:0; padding: 0}\n",
       ".list-inline>li {display: inline-block}\n",
       ".list-inline>li:not(:last-child)::after {content: \"\\00b7\"; padding: 0 .5ex}\n",
       "</style>\n",
       "<ol class=list-inline><li>250</li><li>200</li><li>130</li><li>130</li><li>130</li><li>180</li><li>120</li><li>100</li><li>170</li><li>140</li><li>130</li><li>80</li></ol>\n"
      ],
      "text/latex": [
       "\\begin{enumerate*}\n",
       "\\item 250\n",
       "\\item 200\n",
       "\\item 130\n",
       "\\item 130\n",
       "\\item 130\n",
       "\\item 180\n",
       "\\item 120\n",
       "\\item 100\n",
       "\\item 170\n",
       "\\item 140\n",
       "\\item 130\n",
       "\\item 80\n",
       "\\end{enumerate*}\n"
      ],
      "text/markdown": [
       "1. 250\n",
       "2. 200\n",
       "3. 130\n",
       "4. 130\n",
       "5. 130\n",
       "6. 180\n",
       "7. 120\n",
       "8. 100\n",
       "9. 170\n",
       "10. 140\n",
       "11. 130\n",
       "12. 80\n",
       "\n",
       "\n"
      ],
      "text/plain": [
       " [1] 250 200 130 130 130 180 120 100 170 140 130  80"
      ]
     },
     "metadata": {},
     "output_type": "display_data"
    }
   ],
   "source": [
    "table(all_res_wzSample$V2)\n",
    "exon_widths"
   ]
  },
  {
   "cell_type": "code",
   "execution_count": 133,
   "metadata": {
    "vscode": {
     "languageId": "r"
    }
   },
   "outputs": [
    {
     "data": {
      "text/html": [
       "<style>\n",
       ".list-inline {list-style: none; margin:0; padding: 0}\n",
       ".list-inline>li {display: inline-block}\n",
       ".list-inline>li:not(:last-child)::after {content: \"\\00b7\"; padding: 0 .5ex}\n",
       "</style>\n",
       "<ol class=list-inline><li>47</li><li>76</li><li>84</li><li>90</li><li>92</li><li>117</li><li>119</li><li>122</li><li>134</li><li>137</li><li>211</li></ol>\n"
      ],
      "text/latex": [
       "\\begin{enumerate*}\n",
       "\\item 47\n",
       "\\item 76\n",
       "\\item 84\n",
       "\\item 90\n",
       "\\item 92\n",
       "\\item 117\n",
       "\\item 119\n",
       "\\item 122\n",
       "\\item 134\n",
       "\\item 137\n",
       "\\item 211\n",
       "\\end{enumerate*}\n"
      ],
      "text/markdown": [
       "1. 47\n",
       "2. 76\n",
       "3. 84\n",
       "4. 90\n",
       "5. 92\n",
       "6. 117\n",
       "7. 119\n",
       "8. 122\n",
       "9. 134\n",
       "10. 137\n",
       "11. 211\n",
       "\n",
       "\n"
      ],
      "text/plain": [
       " [1]  47  76  84  90  92 117 119 122 134 137 211"
      ]
     },
     "metadata": {},
     "output_type": "display_data"
    }
   ],
   "source": [
    "\n",
    "res_clu <- sort(sample(5:(intron_widths[1]-5),11,replace=F))\n",
    "res_clu"
   ]
  },
  {
   "cell_type": "code",
   "execution_count": 136,
   "metadata": {
    "vscode": {
     "languageId": "r"
    }
   },
   "outputs": [
    {
     "data": {
      "text/html": [
       "<style>\n",
       ".list-inline {list-style: none; margin:0; padding: 0}\n",
       ".list-inline>li {display: inline-block}\n",
       ".list-inline>li:not(:last-child)::after {content: \"\\00b7\"; padding: 0 .5ex}\n",
       "</style>\n",
       "<ol class=list-inline><li>250</li><li>200</li><li>130</li><li>130</li><li>130</li><li>180</li><li>120</li><li>100</li><li>170</li><li>140</li><li>130</li><li>80</li></ol>\n"
      ],
      "text/latex": [
       "\\begin{enumerate*}\n",
       "\\item 250\n",
       "\\item 200\n",
       "\\item 130\n",
       "\\item 130\n",
       "\\item 130\n",
       "\\item 180\n",
       "\\item 120\n",
       "\\item 100\n",
       "\\item 170\n",
       "\\item 140\n",
       "\\item 130\n",
       "\\item 80\n",
       "\\end{enumerate*}\n"
      ],
      "text/markdown": [
       "1. 250\n",
       "2. 200\n",
       "3. 130\n",
       "4. 130\n",
       "5. 130\n",
       "6. 180\n",
       "7. 120\n",
       "8. 100\n",
       "9. 170\n",
       "10. 140\n",
       "11. 130\n",
       "12. 80\n",
       "\n",
       "\n"
      ],
      "text/plain": [
       " [1] 250 200 130 130 130 180 120 100 170 140 130  80"
      ]
     },
     "metadata": {},
     "output_type": "display_data"
    }
   ],
   "source": [
    "exon_widths"
   ]
  },
  {
   "cell_type": "code",
   "execution_count": 137,
   "metadata": {
    "vscode": {
     "languageId": "r"
    }
   },
   "outputs": [],
   "source": [
    "res_clu1 <- sort(sample((sum(exon_widths[1])+5):(sum(exon_widths[1:2]-5)),10,replace=F))\n",
    "res_clu2 <- sort(sample((sum(exon_widths[1:2])+5):(sum(exon_widths[1:3]-5)),10,replace=F))\n",
    "res_clu3 <- sort(sample((sum(exon_widths[1:3])+5):(sum(exon_widths[1:4]-5)),5,replace=F))\n",
    "res_clu4 <- sort(sample((sum(exon_widths[1:4])+5):(sum(exon_widths[1:5]-5)),5,replace=F))\n",
    "res_clu5 <- sort(sample((sum(exon_widths[1:5])+5):(sum(exon_widths[1:6]-5)),17,replace=F))\n",
    "res_clu6 <- sort(sample((sum(exon_widths[1:6])+5):(sum(exon_widths[1:7]-5)),5,replace=F))\n",
    "res_clu7 <- sort(sample((sum(exon_widths[1:7])+5):(sum(exon_widths[1:8]-5)),1,replace=F))\n",
    "res_clu8 <- sort(sample((sum(exon_widths[1:8])+5):(sum(exon_widths[1:9]-5)),5,replace=F))\n",
    "res_clu9 <- sort(sample((sum(exon_widths[1:9])+5):(sum(exon_widths[1:10]-5)),10,replace=F))\n",
    "res_clu10 <- sort(sample((sum(exon_widths[1:10])+5):(sum(exon_widths[1:11]-5)),9,replace=F))\n",
    "res_clu11 <- sort(sample((sum(exon_widths[1:11])+5):(sum(exon_widths[1:12]-5)),5,replace=F))\n"
   ]
  },
  {
   "cell_type": "code",
   "execution_count": 138,
   "metadata": {
    "vscode": {
     "languageId": "r"
    }
   },
   "outputs": [
    {
     "data": {
      "text/plain": [
       "res_info\n",
       "       10X Smart-seq2 \n",
       "        15         78 "
      ]
     },
     "metadata": {},
     "output_type": "display_data"
    },
    {
     "data": {
      "text/html": [
       "<style>\n",
       ".list-inline {list-style: none; margin:0; padding: 0}\n",
       ".list-inline>li {display: inline-block}\n",
       ".list-inline>li:not(:last-child)::after {content: \"\\00b7\"; padding: 0 .5ex}\n",
       "</style>\n",
       "<ol class=list-inline><li>'Smart-seq2'</li><li>'Smart-seq2'</li><li>'Smart-seq2'</li><li>'Smart-seq2'</li><li>'Smart-seq2'</li><li>'Smart-seq2'</li><li>'Smart-seq2'</li><li>'Smart-seq2'</li><li>'Smart-seq2'</li><li>'Smart-seq2'</li><li>'Smart-seq2'</li><li>'Smart-seq2'</li><li>'Smart-seq2'</li><li>'Smart-seq2'</li><li>'Smart-seq2'</li><li>'Smart-seq2'</li><li>'Smart-seq2'</li><li>'Smart-seq2'</li><li>'Smart-seq2'</li><li>'Smart-seq2'</li><li>'Smart-seq2'</li><li>'10X'</li><li>'Smart-seq2'</li><li>'10X'</li><li>'Smart-seq2'</li><li>'10X'</li><li>'Smart-seq2'</li><li>'10X'</li><li>'Smart-seq2'</li><li>'Smart-seq2'</li><li>'10X'</li><li>'Smart-seq2'</li><li>'Smart-seq2'</li><li>'Smart-seq2'</li><li>'Smart-seq2'</li><li>'Smart-seq2'</li><li>'Smart-seq2'</li><li>'Smart-seq2'</li><li>'Smart-seq2'</li><li>'Smart-seq2'</li><li>'Smart-seq2'</li><li>'Smart-seq2'</li><li>'Smart-seq2'</li><li>'Smart-seq2'</li><li>'Smart-seq2'</li><li>'10X'</li><li>'Smart-seq2'</li><li>'10X'</li><li>'10X'</li><li>'Smart-seq2'</li><li>'10X'</li><li>'10X'</li><li>'Smart-seq2'</li><li>'Smart-seq2'</li><li>'Smart-seq2'</li><li>'Smart-seq2'</li><li>'Smart-seq2'</li><li>'Smart-seq2'</li><li>'Smart-seq2'</li><li>'Smart-seq2'</li><li>'Smart-seq2'</li><li>'Smart-seq2'</li><li>'Smart-seq2'</li><li>'Smart-seq2'</li><li>'Smart-seq2'</li><li>'Smart-seq2'</li><li>'Smart-seq2'</li><li>'Smart-seq2'</li><li>'Smart-seq2'</li><li>'Smart-seq2'</li><li>'10X'</li><li>'Smart-seq2'</li><li>'10X'</li><li>'Smart-seq2'</li><li>'10X'</li><li>'Smart-seq2'</li><li>'10X'</li><li>'Smart-seq2'</li><li>'10X'</li><li>'Smart-seq2'</li><li>'Smart-seq2'</li><li>'Smart-seq2'</li><li>'Smart-seq2'</li><li>'Smart-seq2'</li><li>'Smart-seq2'</li><li>'Smart-seq2'</li><li>'Smart-seq2'</li><li>'Smart-seq2'</li><li>'Smart-seq2'</li><li>'Smart-seq2'</li><li>'Smart-seq2'</li><li>'Smart-seq2'</li><li>'Smart-seq2'</li></ol>\n"
      ],
      "text/latex": [
       "\\begin{enumerate*}\n",
       "\\item 'Smart-seq2'\n",
       "\\item 'Smart-seq2'\n",
       "\\item 'Smart-seq2'\n",
       "\\item 'Smart-seq2'\n",
       "\\item 'Smart-seq2'\n",
       "\\item 'Smart-seq2'\n",
       "\\item 'Smart-seq2'\n",
       "\\item 'Smart-seq2'\n",
       "\\item 'Smart-seq2'\n",
       "\\item 'Smart-seq2'\n",
       "\\item 'Smart-seq2'\n",
       "\\item 'Smart-seq2'\n",
       "\\item 'Smart-seq2'\n",
       "\\item 'Smart-seq2'\n",
       "\\item 'Smart-seq2'\n",
       "\\item 'Smart-seq2'\n",
       "\\item 'Smart-seq2'\n",
       "\\item 'Smart-seq2'\n",
       "\\item 'Smart-seq2'\n",
       "\\item 'Smart-seq2'\n",
       "\\item 'Smart-seq2'\n",
       "\\item '10X'\n",
       "\\item 'Smart-seq2'\n",
       "\\item '10X'\n",
       "\\item 'Smart-seq2'\n",
       "\\item '10X'\n",
       "\\item 'Smart-seq2'\n",
       "\\item '10X'\n",
       "\\item 'Smart-seq2'\n",
       "\\item 'Smart-seq2'\n",
       "\\item '10X'\n",
       "\\item 'Smart-seq2'\n",
       "\\item 'Smart-seq2'\n",
       "\\item 'Smart-seq2'\n",
       "\\item 'Smart-seq2'\n",
       "\\item 'Smart-seq2'\n",
       "\\item 'Smart-seq2'\n",
       "\\item 'Smart-seq2'\n",
       "\\item 'Smart-seq2'\n",
       "\\item 'Smart-seq2'\n",
       "\\item 'Smart-seq2'\n",
       "\\item 'Smart-seq2'\n",
       "\\item 'Smart-seq2'\n",
       "\\item 'Smart-seq2'\n",
       "\\item 'Smart-seq2'\n",
       "\\item '10X'\n",
       "\\item 'Smart-seq2'\n",
       "\\item '10X'\n",
       "\\item '10X'\n",
       "\\item 'Smart-seq2'\n",
       "\\item '10X'\n",
       "\\item '10X'\n",
       "\\item 'Smart-seq2'\n",
       "\\item 'Smart-seq2'\n",
       "\\item 'Smart-seq2'\n",
       "\\item 'Smart-seq2'\n",
       "\\item 'Smart-seq2'\n",
       "\\item 'Smart-seq2'\n",
       "\\item 'Smart-seq2'\n",
       "\\item 'Smart-seq2'\n",
       "\\item 'Smart-seq2'\n",
       "\\item 'Smart-seq2'\n",
       "\\item 'Smart-seq2'\n",
       "\\item 'Smart-seq2'\n",
       "\\item 'Smart-seq2'\n",
       "\\item 'Smart-seq2'\n",
       "\\item 'Smart-seq2'\n",
       "\\item 'Smart-seq2'\n",
       "\\item 'Smart-seq2'\n",
       "\\item 'Smart-seq2'\n",
       "\\item '10X'\n",
       "\\item 'Smart-seq2'\n",
       "\\item '10X'\n",
       "\\item 'Smart-seq2'\n",
       "\\item '10X'\n",
       "\\item 'Smart-seq2'\n",
       "\\item '10X'\n",
       "\\item 'Smart-seq2'\n",
       "\\item '10X'\n",
       "\\item 'Smart-seq2'\n",
       "\\item 'Smart-seq2'\n",
       "\\item 'Smart-seq2'\n",
       "\\item 'Smart-seq2'\n",
       "\\item 'Smart-seq2'\n",
       "\\item 'Smart-seq2'\n",
       "\\item 'Smart-seq2'\n",
       "\\item 'Smart-seq2'\n",
       "\\item 'Smart-seq2'\n",
       "\\item 'Smart-seq2'\n",
       "\\item 'Smart-seq2'\n",
       "\\item 'Smart-seq2'\n",
       "\\item 'Smart-seq2'\n",
       "\\item 'Smart-seq2'\n",
       "\\end{enumerate*}\n"
      ],
      "text/markdown": [
       "1. 'Smart-seq2'\n",
       "2. 'Smart-seq2'\n",
       "3. 'Smart-seq2'\n",
       "4. 'Smart-seq2'\n",
       "5. 'Smart-seq2'\n",
       "6. 'Smart-seq2'\n",
       "7. 'Smart-seq2'\n",
       "8. 'Smart-seq2'\n",
       "9. 'Smart-seq2'\n",
       "10. 'Smart-seq2'\n",
       "11. 'Smart-seq2'\n",
       "12. 'Smart-seq2'\n",
       "13. 'Smart-seq2'\n",
       "14. 'Smart-seq2'\n",
       "15. 'Smart-seq2'\n",
       "16. 'Smart-seq2'\n",
       "17. 'Smart-seq2'\n",
       "18. 'Smart-seq2'\n",
       "19. 'Smart-seq2'\n",
       "20. 'Smart-seq2'\n",
       "21. 'Smart-seq2'\n",
       "22. '10X'\n",
       "23. 'Smart-seq2'\n",
       "24. '10X'\n",
       "25. 'Smart-seq2'\n",
       "26. '10X'\n",
       "27. 'Smart-seq2'\n",
       "28. '10X'\n",
       "29. 'Smart-seq2'\n",
       "30. 'Smart-seq2'\n",
       "31. '10X'\n",
       "32. 'Smart-seq2'\n",
       "33. 'Smart-seq2'\n",
       "34. 'Smart-seq2'\n",
       "35. 'Smart-seq2'\n",
       "36. 'Smart-seq2'\n",
       "37. 'Smart-seq2'\n",
       "38. 'Smart-seq2'\n",
       "39. 'Smart-seq2'\n",
       "40. 'Smart-seq2'\n",
       "41. 'Smart-seq2'\n",
       "42. 'Smart-seq2'\n",
       "43. 'Smart-seq2'\n",
       "44. 'Smart-seq2'\n",
       "45. 'Smart-seq2'\n",
       "46. '10X'\n",
       "47. 'Smart-seq2'\n",
       "48. '10X'\n",
       "49. '10X'\n",
       "50. 'Smart-seq2'\n",
       "51. '10X'\n",
       "52. '10X'\n",
       "53. 'Smart-seq2'\n",
       "54. 'Smart-seq2'\n",
       "55. 'Smart-seq2'\n",
       "56. 'Smart-seq2'\n",
       "57. 'Smart-seq2'\n",
       "58. 'Smart-seq2'\n",
       "59. 'Smart-seq2'\n",
       "60. 'Smart-seq2'\n",
       "61. 'Smart-seq2'\n",
       "62. 'Smart-seq2'\n",
       "63. 'Smart-seq2'\n",
       "64. 'Smart-seq2'\n",
       "65. 'Smart-seq2'\n",
       "66. 'Smart-seq2'\n",
       "67. 'Smart-seq2'\n",
       "68. 'Smart-seq2'\n",
       "69. 'Smart-seq2'\n",
       "70. 'Smart-seq2'\n",
       "71. '10X'\n",
       "72. 'Smart-seq2'\n",
       "73. '10X'\n",
       "74. 'Smart-seq2'\n",
       "75. '10X'\n",
       "76. 'Smart-seq2'\n",
       "77. '10X'\n",
       "78. 'Smart-seq2'\n",
       "79. '10X'\n",
       "80. 'Smart-seq2'\n",
       "81. 'Smart-seq2'\n",
       "82. 'Smart-seq2'\n",
       "83. 'Smart-seq2'\n",
       "84. 'Smart-seq2'\n",
       "85. 'Smart-seq2'\n",
       "86. 'Smart-seq2'\n",
       "87. 'Smart-seq2'\n",
       "88. 'Smart-seq2'\n",
       "89. 'Smart-seq2'\n",
       "90. 'Smart-seq2'\n",
       "91. 'Smart-seq2'\n",
       "92. 'Smart-seq2'\n",
       "93. 'Smart-seq2'\n",
       "\n",
       "\n"
      ],
      "text/plain": [
       " [1] \"Smart-seq2\" \"Smart-seq2\" \"Smart-seq2\" \"Smart-seq2\" \"Smart-seq2\"\n",
       " [6] \"Smart-seq2\" \"Smart-seq2\" \"Smart-seq2\" \"Smart-seq2\" \"Smart-seq2\"\n",
       "[11] \"Smart-seq2\" \"Smart-seq2\" \"Smart-seq2\" \"Smart-seq2\" \"Smart-seq2\"\n",
       "[16] \"Smart-seq2\" \"Smart-seq2\" \"Smart-seq2\" \"Smart-seq2\" \"Smart-seq2\"\n",
       "[21] \"Smart-seq2\" \"10X\"        \"Smart-seq2\" \"10X\"        \"Smart-seq2\"\n",
       "[26] \"10X\"        \"Smart-seq2\" \"10X\"        \"Smart-seq2\" \"Smart-seq2\"\n",
       "[31] \"10X\"        \"Smart-seq2\" \"Smart-seq2\" \"Smart-seq2\" \"Smart-seq2\"\n",
       "[36] \"Smart-seq2\" \"Smart-seq2\" \"Smart-seq2\" \"Smart-seq2\" \"Smart-seq2\"\n",
       "[41] \"Smart-seq2\" \"Smart-seq2\" \"Smart-seq2\" \"Smart-seq2\" \"Smart-seq2\"\n",
       "[46] \"10X\"        \"Smart-seq2\" \"10X\"        \"10X\"        \"Smart-seq2\"\n",
       "[51] \"10X\"        \"10X\"        \"Smart-seq2\" \"Smart-seq2\" \"Smart-seq2\"\n",
       "[56] \"Smart-seq2\" \"Smart-seq2\" \"Smart-seq2\" \"Smart-seq2\" \"Smart-seq2\"\n",
       "[61] \"Smart-seq2\" \"Smart-seq2\" \"Smart-seq2\" \"Smart-seq2\" \"Smart-seq2\"\n",
       "[66] \"Smart-seq2\" \"Smart-seq2\" \"Smart-seq2\" \"Smart-seq2\" \"Smart-seq2\"\n",
       "[71] \"10X\"        \"Smart-seq2\" \"10X\"        \"Smart-seq2\" \"10X\"       \n",
       "[76] \"Smart-seq2\" \"10X\"        \"Smart-seq2\" \"10X\"        \"Smart-seq2\"\n",
       "[81] \"Smart-seq2\" \"Smart-seq2\" \"Smart-seq2\" \"Smart-seq2\" \"Smart-seq2\"\n",
       "[86] \"Smart-seq2\" \"Smart-seq2\" \"Smart-seq2\" \"Smart-seq2\" \"Smart-seq2\"\n",
       "[91] \"Smart-seq2\" \"Smart-seq2\" \"Smart-seq2\""
      ]
     },
     "metadata": {},
     "output_type": "display_data"
    },
    {
     "data": {
      "text/html": [
       "93"
      ],
      "text/latex": [
       "93"
      ],
      "text/markdown": [
       "93"
      ],
      "text/plain": [
       "[1] 93"
      ]
     },
     "metadata": {},
     "output_type": "display_data"
    }
   ],
   "source": [
    "\n",
    "res_info <- all_res_wzSample[order(as.numeric(all_res_wzSample[,1],decreasing=F)),]$V2\n",
    "\n",
    "new_all_res <- c(res_clu,res_clu1,res_clu2,res_clu3,res_clu4,res_clu5,res_clu6,res_clu7,res_clu8,res_clu9,res_clu10,res_clu11)\n",
    "\n",
    "table(res_info)\n",
    "res_info\n",
    "length(new_all_res)"
   ]
  },
  {
   "cell_type": "code",
   "execution_count": 139,
   "metadata": {
    "vscode": {
     "languageId": "r"
    }
   },
   "outputs": [
    {
     "data": {
      "text/plain": [
       "GRanges object with 93 ranges and 0 metadata columns:\n",
       "               seqnames    ranges strand\n",
       "                  <Rle> <IRanges>  <Rle>\n",
       "  res153578499     chrX        47      *\n",
       "  res153578505     chrX        76      *\n",
       "  res153578508     chrX        84      *\n",
       "  res153578511     chrX        90      *\n",
       "  res153578523     chrX        92      *\n",
       "           ...      ...       ...    ...\n",
       "  res153594459     chrX      1687      *\n",
       "  res153594465     chrX      1691      *\n",
       "  res153594483     chrX      1694      *\n",
       "  res153594489     chrX      1699      *\n",
       "  res153594495     chrX      1700      *\n",
       "  -------\n",
       "  seqinfo: 1 sequence from an unspecified genome; no seqlengths"
      ]
     },
     "metadata": {},
     "output_type": "display_data"
    }
   ],
   "source": [
    "\n",
    "sample.gr <- GRanges(\"chrX\", IRanges(new_all_res, width=1, names=paste0('res',all_res))) \n",
    "sample.gr"
   ]
  },
  {
   "cell_type": "code",
   "execution_count": 144,
   "metadata": {
    "vscode": {
     "languageId": "r"
    }
   },
   "outputs": [
    {
     "data": {
      "text/html": [
       "<style>\n",
       ".list-inline {list-style: none; margin:0; padding: 0}\n",
       ".list-inline>li {display: inline-block}\n",
       ".list-inline>li:not(:last-child)::after {content: \"\\00b7\"; padding: 0 .5ex}\n",
       "</style>\n",
       "<ol class=list-inline><li>1</li><li>251</li><li>451</li><li>581</li><li>711</li><li>841</li><li>1021</li><li>1141</li><li>1241</li><li>1411</li><li>1551</li><li>1681</li></ol>\n"
      ],
      "text/latex": [
       "\\begin{enumerate*}\n",
       "\\item 1\n",
       "\\item 251\n",
       "\\item 451\n",
       "\\item 581\n",
       "\\item 711\n",
       "\\item 841\n",
       "\\item 1021\n",
       "\\item 1141\n",
       "\\item 1241\n",
       "\\item 1411\n",
       "\\item 1551\n",
       "\\item 1681\n",
       "\\end{enumerate*}\n"
      ],
      "text/markdown": [
       "1. 1\n",
       "2. 251\n",
       "3. 451\n",
       "4. 581\n",
       "5. 711\n",
       "6. 841\n",
       "7. 1021\n",
       "8. 1141\n",
       "9. 1241\n",
       "10. 1411\n",
       "11. 1551\n",
       "12. 1681\n",
       "\n",
       "\n"
      ],
      "text/plain": [
       " [1]    1  251  451  581  711  841 1021 1141 1241 1411 1551 1681"
      ]
     },
     "metadata": {},
     "output_type": "display_data"
    }
   ],
   "source": [
    "\n",
    "intron_start <- c(1,exon_widths[1]+1,sum(exon_widths[1:2])+1,sum(exon_widths[1:3])+1,sum(exon_widths[1:4])+1,sum(exon_widths[1:5])+1,\n",
    "                    sum(exon_widths[1:6])+1,sum(exon_widths[1:7])+1,sum(exon_widths[1:8])+1,sum(exon_widths[1:9])+1,sum(exon_widths[1:10])+1,sum(exon_widths[1:11])+1)\n",
    "\n",
    "\n",
    "\n",
    "\n",
    "#RBFOX1_intron_bed <- read.table(\"/disk1/wenqing/tmp_data/RBFOX1_intron.bed\")\n",
    "\n",
    "#sub_RBFOX1_intron_bed <- RBFOX1_intron_bed[c(1,2,4,6,7,8,9,17),]\n",
    "\n",
    "intron_start"
   ]
  },
  {
   "cell_type": "code",
   "execution_count": 145,
   "metadata": {
    "vscode": {
     "languageId": "r"
    }
   },
   "outputs": [
    {
     "data": {
      "text/html": [
       "12"
      ],
      "text/latex": [
       "12"
      ],
      "text/markdown": [
       "12"
      ],
      "text/plain": [
       "[1] 12"
      ]
     },
     "metadata": {},
     "output_type": "display_data"
    },
    {
     "data": {
      "text/html": [
       "12"
      ],
      "text/latex": [
       "12"
      ],
      "text/markdown": [
       "12"
      ],
      "text/plain": [
       "[1] 12"
      ]
     },
     "metadata": {},
     "output_type": "display_data"
    }
   ],
   "source": [
    "names=paste0(\"exon\",as.character(c(3,6,15,18,19,21,28,29,30,33,34,35)))\n",
    "length(exon_widths)\n",
    "length(intron_start)"
   ]
  },
  {
   "cell_type": "code",
   "execution_count": 146,
   "metadata": {
    "vscode": {
     "languageId": "r"
    }
   },
   "outputs": [],
   "source": [
    "\n",
    "features <- GRanges(\"chrX\", IRanges(intron_start, # 设置block起使位置\n",
    "                                    width=exon_widths, # 设置block 的长度\n",
    "                                    names=names)) # 设置名字\n"
   ]
  },
  {
   "cell_type": "code",
   "execution_count": 147,
   "metadata": {
    "vscode": {
     "languageId": "r"
    }
   },
   "outputs": [],
   "source": [
    "features$fill <- c(brewer.pal(6,\"Set2\"),brewer.pal(6,\"Set3\")) #块的颜色\n",
    "\n",
    "sample.gr$color <- c(rep(\"red\",21),rep(c(\"blue\",\"red\"),4),\"red\",\"blue\",rep(\"red\",14),\"blue\",\"red\",rep(\"blue\",2),\"red\",\n",
    "                        rep(\"blue\",2),rep(\"red\",18),rep(c(\"blue\",\"red\"),5),rep(\"red\",13)) #棒子上面的球的颜色\n"
   ]
  },
  {
   "cell_type": "code",
   "execution_count": 148,
   "metadata": {
    "vscode": {
     "languageId": "r"
    }
   },
   "outputs": [
    {
     "data": {
      "image/png": "[encoded data removed]",
      "text/plain": [
       "plot without title"
      ]
     },
     "metadata": {
      "image/png": {
       "height": 420,
       "width": 420
      }
     },
     "output_type": "display_data"
    }
   ],
   "source": [
    "sample.gr$border <- sample(c(\"grey60\", \"grey50\"), length(all_res), replace=TRUE) #棒子的颜色\n",
    "sample.gr$alpha <- sample(100:200, length(all_res), replace = TRUE)/200   #设置透明度0-1之间,sample是生成100-200之间的随机数\n",
    "\n",
    "sample.gr$label <- as.character(1:length(sample.gr)) #球内的字符\n",
    "sample.gr$label.col <- \"black\" #球内的标签的颜色\n",
    "\n",
    "# features$height <- c(0.02, 0.05, 0.04) #块的高度\n",
    "sample.gr$score <- sample.int(1, length(sample.gr), replace = TRUE) #设置球的数量\n",
    "sample.gr$legend <- res_info\n",
    "#pdf(\"~/FLNA_res_distri_in2plats.pdf\")\n",
    "FLNA_p <- lolliplot(sample.gr, features,yaxis = F,xaxis = F,ylab=F, cex=0.7,family='Times New Roman',legend='legend')#yaxis设置不显示y轴\n",
    "#dev.off()\n"
   ]
  },
  {
   "cell_type": "code",
   "execution_count": 126,
   "metadata": {
    "vscode": {
     "languageId": "r"
    }
   },
   "outputs": [],
   "source": [
    "#RBFOX1\n",
    "res_s2 <-  read.table(\"/disk1/wenqing/tmp_data/10X_smartseq2/result/s2/all_140_ESC/RBFOX1.txt\")$V1# 指定SNP 坐标位置\n",
    "res_10X <- read.table(\"/disk1/wenqing/tmp_data/10X_smartseq2/result/10X/all_140_ESC/RBFOX1.txt\")$V1\n",
    "\n",
    "all_res <- c(res_s2,res_10X)\n",
    "\n",
    "all_res_wzSample <- as.data.frame(cbind(all_res,c(rep('Smart-seq2',times=24),rep('10X',times=57))))\n",
    "\n",
    "intron_widths <- c(300,250,270,80,280,100,290,50)\n",
    "\n",
    "res_clu <- sort(sample(5:(intron_widths[1]-5),15,replace=F))\n",
    "res_clu1 <- sort(sample((sum(intron_widths[1])+5):(sum(intron_widths[1:2]-5)),22,replace=F))\n",
    "res_clu2 <- sort(sample((sum(intron_widths[1:2])+5):(sum(intron_widths[1:3]-5)),21,replace=F))\n",
    "res_clu3 <- sort(sample((sum(intron_widths[1:3])+5):(sum(intron_widths[1:4]-5)),5,replace=F))\n",
    "res_clu4 <- sort(sample((sum(intron_widths[1:4])+5):(sum(intron_widths[1:5]-5)),7,replace=F))\n",
    "res_clu5 <- sort(sample((sum(intron_widths[1:5])+5):(sum(intron_widths[1:6]-5)),2,replace=F))\n",
    "res_clu6 <- sort(sample((sum(intron_widths[1:6])+5):(sum(intron_widths[1:7]-5)),4,replace=F))\n",
    "res_clu7 <- sort(sample((sum(intron_widths[1:7])+5):(sum(intron_widths[1:8]-5)),5,replace=F))\n",
    "\n",
    "res_info <- all_res_wzSample[order(as.numeric(all_res_wzSample[,1],decreasing=F)),]$V2\n",
    "\n",
    "new_all_res <- c(res_clu,res_clu1,res_clu2,res_clu3,res_clu4,res_clu5,res_clu6,res_clu7)\n",
    "\n",
    "\n",
    "sample.gr <- GRanges(\"chr16\", IRanges(new_all_res, width=1, names=paste0('res',all_res))) \n",
    "\n",
    "intron_start <- c(1,intron_widths[1]+1,sum(intron_widths[1:2])+1,sum(intron_widths[1:3])+1,sum(intron_widths[1:4])+1,sum(intron_widths[1:5])+1,\n",
    "                    sum(intron_widths[1:6])+1,sum(intron_widths[1:7])+1)\n",
    "\n",
    "\n",
    "\n",
    "#RBFOX1_intron_bed <- read.table(\"/disk1/wenqing/tmp_data/RBFOX1_intron.bed\")\n",
    "\n",
    "#sub_RBFOX1_intron_bed <- RBFOX1_intron_bed[c(1,2,4,6,7,8,9,17),]\n",
    "\n",
    "\n",
    "features <- GRanges(\"chr16\", IRanges(intron_start, # 设置block起使位置\n",
    "                                    width=intron_widths, # 设置block 的长度\n",
    "                                    names=c(\"intron1\",\"intron2\",\"intron4\",\"intron6\",\n",
    "                                    \"intron7\",\"intron8\",\"intron9\",\"intron17\"))) # 设置名字\n",
    "                                    \n"
   ]
  },
  {
   "cell_type": "code",
   "execution_count": 116,
   "metadata": {
    "vscode": {
     "languageId": "r"
    }
   },
   "outputs": [],
   "source": [
    "write.table(res_info,\"~/tmp.txt\",quote=F,row.names=F,col.names=F)"
   ]
  },
  {
   "cell_type": "code",
   "execution_count": 127,
   "metadata": {
    "vscode": {
     "languageId": "r"
    }
   },
   "outputs": [],
   "source": [
    "features$fill <- c(brewer.pal(4,\"Set2\"),brewer.pal(4,\"Set3\")) #块的颜色\n",
    "\n",
    "sample.gr$color <- c(rep(\"blue\",2),rep(\"red\",2),rep(\"blue\",4),rep(\"red\",9),rep(\"blue\",15),\"red\",\"blue\",rep(\"red\",3),\n",
    "                        rep(\"blue\",28),rep(\"red\",5),rep(\"blue\",4),rep(\"red\",4),rep(\"blue\",3)) #棒子上面的球的颜色\n"
   ]
  },
  {
   "cell_type": "code",
   "execution_count": 128,
   "metadata": {
    "vscode": {
     "languageId": "r"
    }
   },
   "outputs": [
    {
     "data": {
      "text/plain": [
       "\n",
       "blue  red \n",
       "  57   24 "
      ]
     },
     "metadata": {},
     "output_type": "display_data"
    }
   ],
   "source": [
    "table(sample.gr$color)"
   ]
  },
  {
   "cell_type": "code",
   "execution_count": 130,
   "metadata": {
    "vscode": {
     "languageId": "r"
    }
   },
   "outputs": [
    {
     "data": {
      "image/png": "[encoded data removed]",
      "text/plain": [
       "plot without title"
      ]
     },
     "metadata": {
      "image/png": {
       "height": 420,
       "width": 420
      }
     },
     "output_type": "display_data"
    }
   ],
   "source": [
    "sample.gr$border <- sample(c(\"grey60\", \"grey50\"), length(all_res), replace=TRUE) #棒子的颜色\n",
    "sample.gr$alpha <- sample(100:200, length(all_res), replace = TRUE)/200   #设置透明度0-1之间,sample是生成100-200之间的随机数\n",
    "\n",
    "sample.gr$label <- as.character(1:length(sample.gr)) #球内的字符\n",
    "sample.gr$label.col <- \"black\" #球内的标签的颜色\n",
    "\n",
    "# features$height <- c(0.02, 0.05, 0.04) #块的高度\n",
    "sample.gr$score <- sample.int(1, length(sample.gr), replace = TRUE) #设置球的数量\n",
    "sample.gr$legend <- res_info\n",
    "#pdf(\"~/res_distri_in2plats.pdf\")\n",
    "RBFOX1_p <- lolliplot(sample.gr, features,yaxis = F,xaxis = F,ylab=F, cex=0.7,family='Times New Roman')#yaxis设置不显示y轴\n",
    "#dev.off()\n"
   ]
  },
  {
   "cell_type": "code",
   "execution_count": 156,
   "metadata": {
    "vscode": {
     "languageId": "r"
    }
   },
   "outputs": [
    {
     "data": {
      "text/html": [
       "0.470821789029536"
      ],
      "text/latex": [
       "0.470821789029536"
      ],
      "text/markdown": [
       "0.470821789029536"
      ],
      "text/plain": [
       "[1] 0.4708218"
      ]
     },
     "metadata": {},
     "output_type": "display_data"
    },
    {
     "data": {
      "text/html": [
       "0.418122261603376"
      ],
      "text/latex": [
       "0.418122261603376"
      ],
      "text/markdown": [
       "0.418122261603376"
      ],
      "text/plain": [
       "[1] 0.4181223"
      ]
     },
     "metadata": {},
     "output_type": "display_data"
    },
    {
     "data": {
      "text/html": [
       "<strong>png:</strong> 2"
      ],
      "text/latex": [
       "\\textbf{png:} 2"
      ],
      "text/markdown": [
       "**png:** 2"
      ],
      "text/plain": [
       "png \n",
       "  2 "
      ]
     },
     "metadata": {},
     "output_type": "display_data"
    }
   ],
   "source": [
    "pdf(\"~/2genes_distri_in2plats.pdf\")\n",
    "FLNA_p\n",
    "RBFOX1_p\n",
    "dev.off()"
   ]
  },
  {
   "cell_type": "code",
   "execution_count": 1,
   "metadata": {
    "vscode": {
     "languageId": "r"
    }
   },
   "outputs": [
    {
     "data": {
      "text/html": [
       "<table class=\"dataframe\">\n",
       "<caption>A data.frame: 6 × 2</caption>\n",
       "<thead>\n",
       "\t<tr><th></th><th scope=col>counts</th><th scope=col>percentile</th></tr>\n",
       "\t<tr><th></th><th scope=col>&lt;int&gt;</th><th scope=col>&lt;int&gt;</th></tr>\n",
       "</thead>\n",
       "<tbody>\n",
       "\t<tr><th scope=row>1</th><td>141</td><td>1</td></tr>\n",
       "\t<tr><th scope=row>2</th><td>614</td><td>2</td></tr>\n",
       "\t<tr><th scope=row>3</th><td>666</td><td>3</td></tr>\n",
       "\t<tr><th scope=row>4</th><td>596</td><td>4</td></tr>\n",
       "\t<tr><th scope=row>5</th><td>558</td><td>5</td></tr>\n",
       "\t<tr><th scope=row>6</th><td>578</td><td>6</td></tr>\n",
       "</tbody>\n",
       "</table>\n"
      ],
      "text/latex": [
       "A data.frame: 6 × 2\n",
       "\\begin{tabular}{r|ll}\n",
       "  & counts & percentile\\\\\n",
       "  & <int> & <int>\\\\\n",
       "\\hline\n",
       "\t1 & 141 & 1\\\\\n",
       "\t2 & 614 & 2\\\\\n",
       "\t3 & 666 & 3\\\\\n",
       "\t4 & 596 & 4\\\\\n",
       "\t5 & 558 & 5\\\\\n",
       "\t6 & 578 & 6\\\\\n",
       "\\end{tabular}\n"
      ],
      "text/markdown": [
       "\n",
       "A data.frame: 6 × 2\n",
       "\n",
       "| <!--/--> | counts &lt;int&gt; | percentile &lt;int&gt; |\n",
       "|---|---|---|\n",
       "| 1 | 141 | 1 |\n",
       "| 2 | 614 | 2 |\n",
       "| 3 | 666 | 3 |\n",
       "| 4 | 596 | 4 |\n",
       "| 5 | 558 | 5 |\n",
       "| 6 | 578 | 6 |\n",
       "\n"
      ],
      "text/plain": [
       "  counts percentile\n",
       "1 141    1         \n",
       "2 614    2         \n",
       "3 666    3         \n",
       "4 596    4         \n",
       "5 558    5         \n",
       "6 578    6         "
      ]
     },
     "metadata": {},
     "output_type": "display_data"
    }
   ],
   "source": [
    "\n",
    "data <- read.csv(\"/disk1/wenqing/output_intron_s2.csv\")\n",
    "head(data)\n",
    "\n"
   ]
  },
  {
   "cell_type": "code",
   "execution_count": 2,
   "metadata": {
    "vscode": {
     "languageId": "r"
    }
   },
   "outputs": [],
   "source": [
    "library(ggplot2)"
   ]
  },
  {
   "cell_type": "code",
   "execution_count": 3,
   "metadata": {
    "vscode": {
     "languageId": "r"
    }
   },
   "outputs": [
    {
     "data": {
      "image/png": "[encoded data removed]",
      "text/plain": [
       "plot without title"
      ]
     },
     "metadata": {
      "image/png": {
       "height": 420,
       "width": 420
      }
     },
     "output_type": "display_data"
    }
   ],
   "source": [
    "plot(data$percentile,data$counts,type='l',xlab=\"Gene body percentile (5'->3')\", ylab=\"number of RNA editing site\",lwd=0.8,col='red')\n",
    "legend(0,max(data$counts),fill='red', legend='S2')\n"
   ]
  },
  {
   "cell_type": "code",
   "execution_count": 4,
   "metadata": {
    "vscode": {
     "languageId": "r"
    }
   },
   "outputs": [
    {
     "data": {
      "text/html": [
       "603206"
      ],
      "text/latex": [
       "603206"
      ],
      "text/markdown": [
       "603206"
      ],
      "text/plain": [
       "[1] 603206"
      ]
     },
     "metadata": {},
     "output_type": "display_data"
    }
   ],
   "source": [
    "sum(data$counts)"
   ]
  },
  {
   "cell_type": "code",
   "execution_count": 13,
   "metadata": {
    "vscode": {
     "languageId": "r"
    }
   },
   "outputs": [
    {
     "data": {
      "text/html": [
       "0.827567938381705"
      ],
      "text/latex": [
       "0.827567938381705"
      ],
      "text/markdown": [
       "0.827567938381705"
      ],
      "text/plain": [
       "[1] 0.8275679"
      ]
     },
     "metadata": {},
     "output_type": "display_data"
    }
   ],
   "source": [
    "121842/147229"
   ]
  },
  {
   "cell_type": "code",
   "execution_count": 16,
   "metadata": {
    "vscode": {
     "languageId": "r"
    }
   },
   "outputs": [],
   "source": [
    "dat <- read.table(\"/disk1/wenqing/tmp_data/pbmc/result/10X_Ver3/tmp/regular.res.depth.intron.uniq1\")\n",
    "write.table(dat,\"/disk1/wenqing/tmp_data/pbmc/result/10X_Ver3/tmp/regular.res.depth.intron.uniq\",quote=F,col.names=F,row.names=F,sep='\\t')"
   ]
  }
 ],
 "metadata": {
  "kernelspec": {
   "display_name": "R",
   "language": "R",
   "name": "ir"
  },
  "language_info": {
   "codemirror_mode": "r",
   "file_extension": ".r",
   "mimetype": "text/x-r-source",
   "name": "R",
   "pygments_lexer": "r",
   "version": "4.3.1"
  },
  "orig_nbformat": 4
 },
 "nbformat": 4,
 "nbformat_minor": 2
}
