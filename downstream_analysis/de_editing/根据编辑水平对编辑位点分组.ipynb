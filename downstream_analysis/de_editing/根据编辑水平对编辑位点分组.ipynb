{
 "cells": [
  {
   "cell_type": "code",
   "execution_count": null,
   "metadata": {
    "vscode": {
     "languageId": "r"
    }
   },
   "outputs": [],
   "source": [
    "library(dplyr)\n",
    "library(tidyr)\n",
    "library(purrr)\n",
    "library(pheatmap)\n",
    "library(ggplot2)\n"
   ]
  },
  {
   "cell_type": "code",
   "execution_count": null,
   "metadata": {
    "vscode": {
     "languageId": "r"
    }
   },
   "outputs": [],
   "source": [
    "###########在每种细胞类型中，鉴定差异编辑位点\n",
    "#step1：计算每个样本的编辑水平\n",
    "celltype <- 'GABAergic_neurons'\n",
    "regular_res_depth_08 <- read.table(paste0(\"/disk1/wenqing/tmp_data/PFC_s2/filter_snv_for_new_res/GW08/\",celltype,\"/regular.res.depth.orig\"))\n",
    "res_site_editing_rate_08 <- as.data.frame(cbind(paste0(regular_res_depth_08[,1],'_',regular_res_depth_08[,3]),\n",
    "                                regular_res_depth_08[,7]/regular_res_depth_08[,8]))\n",
    "colnames(res_site_editing_rate_08) <- c('site','editing_rate')\n",
    "\n",
    "regular_res_depth_12 <- read.table(paste0(\"/disk1/wenqing/tmp_data/PFC_s2/filter_snv_for_new_res/GW12/\",celltype,\"/regular.res.depth.orig\"))\n",
    "res_site_editing_rate_12 <- as.data.frame(cbind(paste0(regular_res_depth_12[,1],'_',regular_res_depth_12[,3]),\n",
    "                                regular_res_depth_12[,7]/regular_res_depth_12[,8]))\n",
    "colnames(res_site_editing_rate_12) <- c('site','editing_rate')\n",
    "head(res_site_editing_rate_12)\n",
    "regular_res_depth_16_1_3 <- read.table(paste0(\"/disk1/wenqing/tmp_data/PFC_s2/filter_snv_for_new_res/GW16_1_3/\",celltype,\"/regular.res.depth.orig\"))\n",
    "res_site_editing_rate_16_1_3 <- as.data.frame(cbind(paste0(regular_res_depth_16_1_3[,1],'_',regular_res_depth_16_1_3[,3]),\n",
    "                                regular_res_depth_16_1_3[,7]/regular_res_depth_16_1_3[,8]))\n",
    "colnames(res_site_editing_rate_16_1_3) <- c('site','editing_rate')\n",
    "head(res_site_editing_rate_16_1_3)\n",
    "regular_res_depth_16_1_4 <- read.table(paste0(\"/disk1/wenqing/tmp_data/PFC_s2/filter_snv_for_new_res/GW16_1_4/\",celltype,\"/regular.res.depth.orig\"))\n",
    "res_site_editing_rate_16_1_4 <- as.data.frame(cbind(paste0(regular_res_depth_16_1_4[,1],'_',regular_res_depth_16_1_4[,3]),\n",
    "                                regular_res_depth_16_1_4[,7]/regular_res_depth_16_1_4[,8]))\n",
    "colnames(res_site_editing_rate_16_1_4) <- c('site','editing_rate')\n",
    "head(res_site_editing_rate_16_1_4)\n",
    "regular_res_depth_16_1_9 <- read.table(paste0(\"/disk1/wenqing/tmp_data/PFC_s2/filter_snv_for_new_res/GW16_1_9/\",celltype,\"/regular.res.depth.orig\"))\n",
    "res_site_editing_rate_16_1_9 <- as.data.frame(cbind(paste0(regular_res_depth_16_1_9[,1],'_',regular_res_depth_16_1_9[,3]),\n",
    "                                regular_res_depth_16_1_9[,7]/regular_res_depth_16_1_9[,8]))\n",
    "colnames(res_site_editing_rate_16_1_9) <- c('site','editing_rate')\n",
    "head(res_site_editing_rate_16_1_9)\n",
    "regular_res_depth_19_1_1 <- read.table(paste0(\"/disk1/wenqing/tmp_data/PFC_s2/filter_snv_for_new_res/GW19_1_1/\",celltype,\"/regular.res.depth.orig\"))\n",
    "res_site_editing_rate_19_1_1 <- as.data.frame(cbind(paste0(regular_res_depth_19_1_1[,1],'_',regular_res_depth_19_1_1[,3]),\n",
    "                                regular_res_depth_19_1_1[,7]/regular_res_depth_19_1_1[,8]))\n",
    "colnames(res_site_editing_rate_19_1_1) <- c('site','editing_rate')\n",
    "head(res_site_editing_rate_19_1_1)\n",
    "regular_res_depth_19_1_2 <- read.table(paste0(\"/disk1/wenqing/tmp_data/PFC_s2/filter_snv_for_new_res/GW19_1_2/\",celltype,\"/regular.res.depth.orig\"))\n",
    "res_site_editing_rate_19_1_2 <- as.data.frame(cbind(paste0(regular_res_depth_19_1_2[,1],'_',regular_res_depth_19_1_2[,3]),\n",
    "                                regular_res_depth_19_1_2[,7]/regular_res_depth_19_1_2[,8]))\n",
    "colnames(res_site_editing_rate_19_1_2) <- c('site','editing_rate')\n",
    "head(res_site_editing_rate_19_1_2)\n",
    "regular_res_depth_19_1_3 <- read.table(paste0(\"/disk1/wenqing/tmp_data/PFC_s2/filter_snv_for_new_res/GW19_1_3/\",celltype,\"/regular.res.depth.orig\"))\n",
    "res_site_editing_rate_19_1_3 <- as.data.frame(cbind(paste0(regular_res_depth_19_1_3[,1],'_',regular_res_depth_19_1_3[,3]),\n",
    "                                regular_res_depth_19_1_3[,7]/regular_res_depth_19_1_3[,8]))\n",
    "colnames(res_site_editing_rate_19_1_3) <- c('site','editing_rate')\n",
    "head(res_site_editing_rate_19_1_3)\n",
    "regular_res_depth_23_1_1 <- read.table(paste0(\"/disk1/wenqing/tmp_data/PFC_s2/filter_snv_for_new_res/GW23_1_1/\",celltype,\"/regular.res.depth.orig\"))\n",
    "res_site_editing_rate_23_1_1 <- as.data.frame(cbind(paste0(regular_res_depth_23_1_1[,1],'_',regular_res_depth_23_1_1[,3]),\n",
    "                                regular_res_depth_23_1_1[,7]/regular_res_depth_23_1_1[,8]))\n",
    "colnames(res_site_editing_rate_23_1_1) <- c('site','editing_rate')\n",
    "head(res_site_editing_rate_23_1_1)\n",
    "regular_res_depth_23_1_2 <- read.table(paste0(\"/disk1/wenqing/tmp_data/PFC_s2/filter_snv_for_new_res/GW23_1_2/\",celltype,\"/regular.res.depth.orig\"))\n",
    "res_site_editing_rate_23_1_2 <- as.data.frame(cbind(paste0(regular_res_depth_23_1_2[,1],'_',regular_res_depth_23_1_2[,3]),\n",
    "                                regular_res_depth_23_1_2[,7]/regular_res_depth_23_1_2[,8]))\n",
    "colnames(res_site_editing_rate_23_1_2) <- c('site','editing_rate')\n",
    "head(res_site_editing_rate_23_1_2)\n",
    "regular_res_depth_23_1_3 <- read.table(paste0(\"/disk1/wenqing/tmp_data/PFC_s2/filter_snv_for_new_res/GW23_1_3/\",celltype,\"/regular.res.depth.orig\"))\n",
    "res_site_editing_rate_23_1_3 <- as.data.frame(cbind(paste0(regular_res_depth_23_1_3[,1],'_',regular_res_depth_23_1_3[,3]),\n",
    "                                regular_res_depth_23_1_3[,7]/regular_res_depth_23_1_3[,8]))\n",
    "colnames(res_site_editing_rate_23_1_3) <- c('site','editing_rate')\n",
    "head(res_site_editing_rate_23_1_3)\n",
    "regular_res_depth_26_1_1 <- read.table(paste0(\"/disk1/wenqing/tmp_data/PFC_s2/filter_snv_for_new_res/GW26_1_1/\",celltype,\"/regular.res.depth.orig\"))\n",
    "res_site_editing_rate_26_1_1 <- as.data.frame(cbind(paste0(regular_res_depth_26_1_1[,1],'_',regular_res_depth_26_1_1[,3]),\n",
    "                                regular_res_depth_26_1_1[,7]/regular_res_depth_26_1_1[,8]))\n",
    "colnames(res_site_editing_rate_26_1_1) <- c('site','editing_rate')\n",
    "head(res_site_editing_rate_26_1_1)\n",
    "#########过滤每个样本中editing rate为1的，GW26_1_1仍然有大量位点远多于其他三个样本\n",
    "sub_res_editing_rate_16_1_4 <- res_site_editing_rate_16_1_4[which(res_site_editing_rate_16_1_4$editing_rate!=1),]\n",
    "sub_res_editing_rate_19_1_1 <- res_site_editing_rate_19_1_1[which(res_site_editing_rate_19_1_1$editing_rate!=1),]\n",
    "sub_res_editing_rate_23_1_2 <- res_site_editing_rate_23_1_2[which(res_site_editing_rate_23_1_2$editing_rate!=1),]\n",
    "sub_res_editing_rate_26_1_1 <- res_site_editing_rate_26_1_1[which(res_site_editing_rate_26_1_1$editing_rate!=1),]\n",
    "sub_res_editing_rate_08 <- res_site_editing_rate_08[which(res_site_editing_rate_08$editing_rate!=1),]\n",
    "sub_res_editing_rate_12 <- res_site_editing_rate_12[which(res_site_editing_rate_12$editing_rate!=1),]\n",
    "sub_res_editing_rate_16_1_3 <- res_site_editing_rate_16_1_3[which(res_site_editing_rate_16_1_3$editing_rate!=1),]\n",
    "sub_res_editing_rate_16_1_9 <- res_site_editing_rate_16_1_9[which(res_site_editing_rate_16_1_9$editing_rate!=1),]\n",
    "sub_res_editing_rate_19_1_2 <- res_site_editing_rate_19_1_2[which(res_site_editing_rate_19_1_2$editing_rate!=1),]\n",
    "sub_res_editing_rate_19_1_3 <- res_site_editing_rate_19_1_3[which(res_site_editing_rate_19_1_3$editing_rate!=1),]\n",
    "sub_res_editing_rate_23_1_1 <- res_site_editing_rate_23_1_1[which(res_site_editing_rate_23_1_1$editing_rate!=1),]\n",
    "sub_res_editing_rate_23_1_3 <- res_site_editing_rate_23_1_3[which(res_site_editing_rate_23_1_3$editing_rate!=1),]\n",
    "\n",
    "dim(sub_res_editing_rate_16_1_4)\n",
    "####GW26_1_1的位点数量太多，会对后续差异分析产生影响\n",
    "#仅保留GW26_1_1中和其他样本覆盖的位点\n",
    "#shared_site <- unique(c(sub_res_editing_rate_08$site,sub_res_editing_rate_12$site,sub_res_editing_rate_16_1_3$site,\n",
    "#                    sub_res_editing_rate_16_1_4$site,sub_res_editing_rate_16_1_9$site,sub_res_editing_rate_19_1_1$site,\n",
    "#                    sub_res_editing_rate_19_1_2$site,sub_res_editing_rate_19_1_3$site,sub_res_editing_rate_23_1_1$site,\n",
    "#                    sub_res_editing_rate_23_1_2$site,sub_res_editing_rate_23_1_3$site))\n",
    "#sub_res_editing_rate_26_1_1_intersected <- sub_res_editing_rate_26_1_1[sub_res_editing_rate_26_1_1$site %in% shared_site,]\n",
    "########使用所有跑出fiter SNV(10) res的样本鉴定de res\n",
    "#构建数据框\n",
    "all_site <- c(sub_res_editing_rate_08$site, sub_res_editing_rate_12$site,sub_res_editing_rate_16_1_3$site,\n",
    "                sub_res_editing_rate_16_1_4$site,sub_res_editing_rate_16_1_9$site,sub_res_editing_rate_19_1_1$site,\n",
    "                sub_res_editing_rate_19_1_2$site,sub_res_editing_rate_19_1_3$site,sub_res_editing_rate_23_1_1$site,\n",
    "                sub_res_editing_rate_23_1_2$site,sub_res_editing_rate_23_1_3$site,sub_res_editing_rate_26_1_1$site)\n",
    "sample_info <- c(rep('GW08',times=nrow(sub_res_editing_rate_08)),rep('GW12',times=nrow(sub_res_editing_rate_12)),\n",
    "                    rep('GW16_1_3',times=nrow(sub_res_editing_rate_16_1_3)),rep('GW16_1_4',times=nrow(sub_res_editing_rate_16_1_4)),\n",
    "                    rep('GW16_1_9',times=nrow(sub_res_editing_rate_16_1_9)),rep('GW19_1_1',times=nrow(sub_res_editing_rate_19_1_1)),\n",
    "                    rep('GW19_1_2',times=nrow(sub_res_editing_rate_19_1_2)),rep('GW19_1_3',times=nrow(sub_res_editing_rate_19_1_3)),\n",
    "                    rep('GW23_1_1',times=nrow(sub_res_editing_rate_23_1_1)),rep('GW23_1_2',times=nrow(sub_res_editing_rate_23_1_2)),\n",
    "                    rep('GW23_1_3',times=nrow(sub_res_editing_rate_23_1_3)),rep('GW26_1_1',times=nrow(sub_res_editing_rate_26_1_1)))\n",
    "group_info <- c(rep('GW08',times=nrow(sub_res_editing_rate_08)),rep('GW12',times=nrow(sub_res_editing_rate_12)),\n",
    "                    rep('GW16',times=nrow(sub_res_editing_rate_16_1_3)),rep('GW16',times=nrow(sub_res_editing_rate_16_1_4)),\n",
    "                    rep('GW16',times=nrow(sub_res_editing_rate_16_1_9)),rep('GW19',times=nrow(sub_res_editing_rate_19_1_1)),\n",
    "                    rep('GW19',times=nrow(sub_res_editing_rate_19_1_2)),rep('GW19',times=nrow(sub_res_editing_rate_19_1_3)),\n",
    "                    rep('GW23',times=nrow(sub_res_editing_rate_23_1_1)),rep('GW23',times=nrow(sub_res_editing_rate_23_1_2)),\n",
    "                    rep('GW23',times=nrow(sub_res_editing_rate_23_1_3)),rep('GW26',times=nrow(sub_res_editing_rate_26_1_1)))\n",
    "editing_level <- c(sub_res_editing_rate_08$editing_rate,sub_res_editing_rate_12$editing_rate,sub_res_editing_rate_16_1_3$editing_rate,\n",
    "                    sub_res_editing_rate_16_1_4$editing_rate,sub_res_editing_rate_16_1_9$editing_rate,sub_res_editing_rate_19_1_1$editing_rate,\n",
    "                    sub_res_editing_rate_19_1_2$editing_rate,sub_res_editing_rate_19_1_3$editing_rate,sub_res_editing_rate_23_1_1$editing_rate,\n",
    "                    sub_res_editing_rate_23_1_2$editing_rate,sub_res_editing_rate_23_1_3$editing_rate,sub_res_editing_rate_26_1_1$editing_rate)\n",
    "df <- as.data.frame(cbind(all_site,sample_info,group_info,editing_level))\n",
    "dim(df)\n",
    "pure_df <- df <- as.data.frame(cbind(all_site,sample_info,editing_level))\n",
    "#\n",
    "# 使用pivot_wider函数进行转换\n",
    "wide_df <- pivot_wider(df, names_from = \"sample_info\", values_from = \"editing_level\")\n",
    "dim(wide_df)\n",
    "data <- data.frame(wide_df)\n",
    "head(data)\n",
    "rownames(data) <- data$all_site\n",
    "data <- data[,-1]\n",
    "head(data)\n",
    "data[is.na(data)] <- 0\n",
    "# 查看转换后的数据框\n",
    "head(data)\n",
    "#########对所有AS事件进行分类（按照其跟随发育时间的变化程度）\n",
    "#PSI  == 1 (all times)(no change)\n",
    "#max(PSI) - min(PSI) < 0.1 (stable)\n",
    "#########相关系数的计算，要保留前百分之20，计算\n",
    "#max(PSI) - min(PSI) >=0.1 and Cor(X,L) > 0.7 (continous up)\n",
    "#max(PSI) - min(PSI) >=0.1 and Cor(X,L) < -0.7 (continous down)\n",
    "\n",
    "data$GW08 <- as.numeric(data$GW08)\n",
    "data$GW12 <- as.numeric(data$GW12)\n",
    "data$GW16_1_3 <- as.numeric(data$GW16_1_3)\n",
    "data$GW16_1_4 <- as.numeric(data$GW16_1_4)\n",
    "data$GW16_1_9 <- as.numeric(data$GW16_1_9)\n",
    "data$GW19_1_1 <- as.numeric(data$GW19_1_1)\n",
    "data$GW19_1_2 <- as.numeric(data$GW19_1_2)\n",
    "data$GW19_1_3 <- as.numeric(data$GW19_1_3)\n",
    "data$GW23_1_1 <- as.numeric(data$GW23_1_1)\n",
    "data$GW23_1_2 <- as.numeric(data$GW23_1_2)\n",
    "data$GW23_1_3 <- as.numeric(data$GW23_1_3)\n",
    "data$GW26_1_1 <- as.numeric(data$GW26_1_1)"
   ]
  },
  {
   "cell_type": "code",
   "execution_count": 84,
   "metadata": {
    "vscode": {
     "languageId": "r"
    }
   },
   "outputs": [],
   "source": [
    "df <- data %>%\n",
    "  rowwise() %>%\n",
    "  mutate(diff_editing_level = max(c_across(starts_with(\"GW\"))) - min(c_across(starts_with(\"GW\"))))"
   ]
  },
  {
   "cell_type": "code",
   "execution_count": 85,
   "metadata": {
    "vscode": {
     "languageId": "r"
    }
   },
   "outputs": [],
   "source": [
    "# 生成L序列，L代表时间点的均匀分布，从1到n（n为列数）\n",
    "L_sequence <- seq(0,1,length.out=ncol(data))\n",
    "# 定义一个函数来计算单行的X与L的相关性\n",
    "calc_correlation <- function(row) {\n",
    "  cor(row, L_sequence, method = \"pearson\")\n",
    "}\n",
    "psi_no_change <- function(row){\n",
    "  pass_flag_num <- length(which(row > 0.9))\n",
    "  if(pass_flag_num > 0.8*12){\n",
    "    return(1)\n",
    "  }\n",
    "  else{\n",
    "    return(0)\n",
    "  }\n",
    "}\n",
    "no_change_index <- apply(data,1,psi_no_change)\n",
    "cor_value <- apply(data,1,calc_correlation)\n",
    "cor_value[is.na(cor_value)] <- 0\n",
    "df$cor_value <- cor_value\n",
    "df$change_index <- no_change_index\n",
    "#change_index=1:没有变换，=0:有变化"
   ]
  },
  {
   "cell_type": "code",
   "execution_count": 86,
   "metadata": {
    "vscode": {
     "languageId": "r"
    }
   },
   "outputs": [],
   "source": [
    "df <- as.data.frame(df)\n",
    "rownames(df) <- rownames(data)"
   ]
  },
  {
   "cell_type": "code",
   "execution_count": 99,
   "metadata": {
    "vscode": {
     "languageId": "r"
    }
   },
   "outputs": [],
   "source": [
    "# 使用quantile函数直接找到10%分位点的值\n",
    "quantile_10_percent_above0 <- quantile(df$cor_value[df$cor_value >= 0], 0.1)\n",
    "quantile_10_percent_below0 <- quantile(df$cor_value[df$cor_value <= 0], 0.1)"
   ]
  },
  {
   "cell_type": "code",
   "execution_count": 88,
   "metadata": {
    "vscode": {
     "languageId": "r"
    }
   },
   "outputs": [
    {
     "data": {
      "text/plain": [
       "\n",
       "FALSE  TRUE \n",
       "19917  3628 "
      ]
     },
     "metadata": {},
     "output_type": "display_data"
    },
    {
     "data": {
      "text/plain": [
       "\n",
       "FALSE  TRUE \n",
       "21698  1847 "
      ]
     },
     "metadata": {},
     "output_type": "display_data"
    }
   ],
   "source": [
    "table(df$cor_value > quantile_10_percent_above0)\n",
    "table(df$cor_value < quantile_10_percent_below0)"
   ]
  },
  {
   "cell_type": "code",
   "execution_count": 89,
   "metadata": {
    "vscode": {
     "languageId": "r"
    }
   },
   "outputs": [],
   "source": [
    "##psi没变化的event\n",
    "#no_change_event <- df[which(df$change_index == 1),]\n",
    "stable_event <- df[which(df$diff_editing_level < 0.1),]\n",
    "up_event <- df[which(df$diff_editing_level >= 0.1 & df$cor_value > quantile_50_percent_above0),]\n",
    "down_event <- df[which(df$diff_editing_level >= 0.1 & df$cor_value < quantile_50_percent_below0),]"
   ]
  },
  {
   "cell_type": "code",
   "execution_count": 90,
   "metadata": {
    "vscode": {
     "languageId": "r"
    }
   },
   "outputs": [
    {
     "data": {
      "text/html": [
       "<style>\n",
       ".list-inline {list-style: none; margin:0; padding: 0}\n",
       ".list-inline>li {display: inline-block}\n",
       ".list-inline>li:not(:last-child)::after {content: \"\\00b7\"; padding: 0 .5ex}\n",
       "</style>\n",
       "<ol class=list-inline><li>3462</li><li>15</li></ol>\n"
      ],
      "text/latex": [
       "\\begin{enumerate*}\n",
       "\\item 3462\n",
       "\\item 15\n",
       "\\end{enumerate*}\n"
      ],
      "text/markdown": [
       "1. 3462\n",
       "2. 15\n",
       "\n",
       "\n"
      ],
      "text/plain": [
       "[1] 3462   15"
      ]
     },
     "metadata": {},
     "output_type": "display_data"
    },
    {
     "data": {
      "text/html": [
       "<style>\n",
       ".list-inline {list-style: none; margin:0; padding: 0}\n",
       ".list-inline>li {display: inline-block}\n",
       ".list-inline>li:not(:last-child)::after {content: \"\\00b7\"; padding: 0 .5ex}\n",
       "</style>\n",
       "<ol class=list-inline><li>1808</li><li>15</li></ol>\n"
      ],
      "text/latex": [
       "\\begin{enumerate*}\n",
       "\\item 1808\n",
       "\\item 15\n",
       "\\end{enumerate*}\n"
      ],
      "text/markdown": [
       "1. 1808\n",
       "2. 15\n",
       "\n",
       "\n"
      ],
      "text/plain": [
       "[1] 1808   15"
      ]
     },
     "metadata": {},
     "output_type": "display_data"
    },
    {
     "data": {
      "text/html": [
       "<style>\n",
       ".list-inline {list-style: none; margin:0; padding: 0}\n",
       ".list-inline>li {display: inline-block}\n",
       ".list-inline>li:not(:last-child)::after {content: \"\\00b7\"; padding: 0 .5ex}\n",
       "</style>\n",
       "<ol class=list-inline><li>1599</li><li>15</li></ol>\n"
      ],
      "text/latex": [
       "\\begin{enumerate*}\n",
       "\\item 1599\n",
       "\\item 15\n",
       "\\end{enumerate*}\n"
      ],
      "text/markdown": [
       "1. 1599\n",
       "2. 15\n",
       "\n",
       "\n"
      ],
      "text/plain": [
       "[1] 1599   15"
      ]
     },
     "metadata": {},
     "output_type": "display_data"
    }
   ],
   "source": [
    "dim(up_event)\n",
    "dim(down_event)\n",
    "dim(stable_event)"
   ]
  },
  {
   "cell_type": "code",
   "execution_count": 91,
   "metadata": {
    "vscode": {
     "languageId": "r"
    }
   },
   "outputs": [],
   "source": [
    "write.table(up_event,\"/disk1/wenqing/tmp_data/PFC_s2/all_analysis_result/editing_level_change/notwith1/cor_threshold_0.3/editing_level_up_events.txt\",quote=F,sep='\\t')\n",
    "write.table(down_event,\"/disk1/wenqing/tmp_data/PFC_s2/all_analysis_result/editing_level_change/notwith1/cor_threshold_0.3/editing_level_down_events.txt\",quote=F,sep='\\t')\n",
    "write.table(stable_event,\"/disk1/wenqing/tmp_data/PFC_s2/all_analysis_result/editing_level_change/notwith1/cor_threshold_0.3/editing_level_stable_events.txt\",quote=F,sep='\\t')\n",
    "#write.table(no_change_event,\"/disk1/wenqing/tmp_data/PFC_s2/all_analysis_result/psi_change/psi_no_change_events.txt\",quote=F,sep='\\t')"
   ]
  },
  {
   "cell_type": "code",
   "execution_count": 66,
   "metadata": {
    "vscode": {
     "languageId": "r"
    }
   },
   "outputs": [
    {
     "data": {
      "text/html": [
       "<table class=\"dataframe\">\n",
       "<caption>A data.frame: 6 × 15</caption>\n",
       "<thead>\n",
       "\t<tr><th></th><th scope=col>GW08</th><th scope=col>GW12</th><th scope=col>GW16_1_3</th><th scope=col>GW16_1_4</th><th scope=col>GW16_1_9</th><th scope=col>GW19_1_1</th><th scope=col>GW19_1_2</th><th scope=col>GW19_1_3</th><th scope=col>GW23_1_1</th><th scope=col>GW23_1_2</th><th scope=col>GW23_1_3</th><th scope=col>GW26_1_1</th><th scope=col>diff_editing_level</th><th scope=col>cor_value</th><th scope=col>change_index</th></tr>\n",
       "\t<tr><th></th><th scope=col>&lt;dbl&gt;</th><th scope=col>&lt;dbl&gt;</th><th scope=col>&lt;dbl&gt;</th><th scope=col>&lt;dbl&gt;</th><th scope=col>&lt;dbl&gt;</th><th scope=col>&lt;dbl&gt;</th><th scope=col>&lt;dbl&gt;</th><th scope=col>&lt;dbl&gt;</th><th scope=col>&lt;dbl&gt;</th><th scope=col>&lt;dbl&gt;</th><th scope=col>&lt;dbl&gt;</th><th scope=col>&lt;dbl&gt;</th><th scope=col>&lt;dbl&gt;</th><th scope=col>&lt;dbl&gt;</th><th scope=col>&lt;dbl&gt;</th></tr>\n",
       "</thead>\n",
       "<tbody>\n",
       "\t<tr><th scope=row>chr7_102190662</th><td>0</td><td>0.2264151</td><td>0.0000000</td><td>0.0000000</td><td>0.0000000</td><td>0.0000000</td><td>0</td><td>0</td><td>0.0000000</td><td>0.0000000</td><td>0.7264151</td><td>0.5111111</td><td>0.7264151</td><td>0.5203379</td><td>0</td></tr>\n",
       "\t<tr><th scope=row>chr7_102289756</th><td>0</td><td>0.3043478</td><td>0.0000000</td><td>0.0000000</td><td>0.0000000</td><td>0.0000000</td><td>0</td><td>0</td><td>0.0000000</td><td>0.0000000</td><td>0.7272727</td><td>0.5571429</td><td>0.7272727</td><td>0.4890045</td><td>0</td></tr>\n",
       "\t<tr><th scope=row>chr7_gl000195_random_83064</th><td>0</td><td>0.3971292</td><td>0.2187500</td><td>0.0000000</td><td>0.2779553</td><td>0.1423488</td><td>0</td><td>0</td><td>0.1342282</td><td>0.4017094</td><td>0.4757506</td><td>0.7662338</td><td>0.7662338</td><td>0.5301568</td><td>0</td></tr>\n",
       "\t<tr><th scope=row>chr16_70412194</th><td>0</td><td>0.0000000</td><td>0.5151515</td><td>0.0000000</td><td>0.0000000</td><td>0.0000000</td><td>0</td><td>0</td><td>0.0000000</td><td>0.5615385</td><td>0.9016393</td><td>0.7257143</td><td>0.9016393</td><td>0.5997015</td><td>0</td></tr>\n",
       "\t<tr><th scope=row>chr5_11333436</th><td>0</td><td>0.0000000</td><td>0.3548387</td><td>0.0000000</td><td>0.0000000</td><td>0.0000000</td><td>0</td><td>0</td><td>0.0000000</td><td>0.0000000</td><td>0.6610169</td><td>0.8000000</td><td>0.8000000</td><td>0.5323383</td><td>0</td></tr>\n",
       "\t<tr><th scope=row>chr6_127828876</th><td>0</td><td>0.0000000</td><td>0.2386364</td><td>0.1944444</td><td>0.0000000</td><td>0.0000000</td><td>0</td><td>0</td><td>0.4358974</td><td>0.3789474</td><td>0.4360902</td><td>0.3273196</td><td>0.4360902</td><td>0.6516417</td><td>0</td></tr>\n",
       "</tbody>\n",
       "</table>\n"
      ],
      "text/latex": [
       "A data.frame: 6 × 15\n",
       "\\begin{tabular}{r|lllllllllllllll}\n",
       "  & GW08 & GW12 & GW16\\_1\\_3 & GW16\\_1\\_4 & GW16\\_1\\_9 & GW19\\_1\\_1 & GW19\\_1\\_2 & GW19\\_1\\_3 & GW23\\_1\\_1 & GW23\\_1\\_2 & GW23\\_1\\_3 & GW26\\_1\\_1 & diff\\_editing\\_level & cor\\_value & change\\_index\\\\\n",
       "  & <dbl> & <dbl> & <dbl> & <dbl> & <dbl> & <dbl> & <dbl> & <dbl> & <dbl> & <dbl> & <dbl> & <dbl> & <dbl> & <dbl> & <dbl>\\\\\n",
       "\\hline\n",
       "\tchr7\\_102190662 & 0 & 0.2264151 & 0.0000000 & 0.0000000 & 0.0000000 & 0.0000000 & 0 & 0 & 0.0000000 & 0.0000000 & 0.7264151 & 0.5111111 & 0.7264151 & 0.5203379 & 0\\\\\n",
       "\tchr7\\_102289756 & 0 & 0.3043478 & 0.0000000 & 0.0000000 & 0.0000000 & 0.0000000 & 0 & 0 & 0.0000000 & 0.0000000 & 0.7272727 & 0.5571429 & 0.7272727 & 0.4890045 & 0\\\\\n",
       "\tchr7\\_gl000195\\_random\\_83064 & 0 & 0.3971292 & 0.2187500 & 0.0000000 & 0.2779553 & 0.1423488 & 0 & 0 & 0.1342282 & 0.4017094 & 0.4757506 & 0.7662338 & 0.7662338 & 0.5301568 & 0\\\\\n",
       "\tchr16\\_70412194 & 0 & 0.0000000 & 0.5151515 & 0.0000000 & 0.0000000 & 0.0000000 & 0 & 0 & 0.0000000 & 0.5615385 & 0.9016393 & 0.7257143 & 0.9016393 & 0.5997015 & 0\\\\\n",
       "\tchr5\\_11333436 & 0 & 0.0000000 & 0.3548387 & 0.0000000 & 0.0000000 & 0.0000000 & 0 & 0 & 0.0000000 & 0.0000000 & 0.6610169 & 0.8000000 & 0.8000000 & 0.5323383 & 0\\\\\n",
       "\tchr6\\_127828876 & 0 & 0.0000000 & 0.2386364 & 0.1944444 & 0.0000000 & 0.0000000 & 0 & 0 & 0.4358974 & 0.3789474 & 0.4360902 & 0.3273196 & 0.4360902 & 0.6516417 & 0\\\\\n",
       "\\end{tabular}\n"
      ],
      "text/markdown": [
       "\n",
       "A data.frame: 6 × 15\n",
       "\n",
       "| <!--/--> | GW08 &lt;dbl&gt; | GW12 &lt;dbl&gt; | GW16_1_3 &lt;dbl&gt; | GW16_1_4 &lt;dbl&gt; | GW16_1_9 &lt;dbl&gt; | GW19_1_1 &lt;dbl&gt; | GW19_1_2 &lt;dbl&gt; | GW19_1_3 &lt;dbl&gt; | GW23_1_1 &lt;dbl&gt; | GW23_1_2 &lt;dbl&gt; | GW23_1_3 &lt;dbl&gt; | GW26_1_1 &lt;dbl&gt; | diff_editing_level &lt;dbl&gt; | cor_value &lt;dbl&gt; | change_index &lt;dbl&gt; |\n",
       "|---|---|---|---|---|---|---|---|---|---|---|---|---|---|---|---|\n",
       "| chr7_102190662 | 0 | 0.2264151 | 0.0000000 | 0.0000000 | 0.0000000 | 0.0000000 | 0 | 0 | 0.0000000 | 0.0000000 | 0.7264151 | 0.5111111 | 0.7264151 | 0.5203379 | 0 |\n",
       "| chr7_102289756 | 0 | 0.3043478 | 0.0000000 | 0.0000000 | 0.0000000 | 0.0000000 | 0 | 0 | 0.0000000 | 0.0000000 | 0.7272727 | 0.5571429 | 0.7272727 | 0.4890045 | 0 |\n",
       "| chr7_gl000195_random_83064 | 0 | 0.3971292 | 0.2187500 | 0.0000000 | 0.2779553 | 0.1423488 | 0 | 0 | 0.1342282 | 0.4017094 | 0.4757506 | 0.7662338 | 0.7662338 | 0.5301568 | 0 |\n",
       "| chr16_70412194 | 0 | 0.0000000 | 0.5151515 | 0.0000000 | 0.0000000 | 0.0000000 | 0 | 0 | 0.0000000 | 0.5615385 | 0.9016393 | 0.7257143 | 0.9016393 | 0.5997015 | 0 |\n",
       "| chr5_11333436 | 0 | 0.0000000 | 0.3548387 | 0.0000000 | 0.0000000 | 0.0000000 | 0 | 0 | 0.0000000 | 0.0000000 | 0.6610169 | 0.8000000 | 0.8000000 | 0.5323383 | 0 |\n",
       "| chr6_127828876 | 0 | 0.0000000 | 0.2386364 | 0.1944444 | 0.0000000 | 0.0000000 | 0 | 0 | 0.4358974 | 0.3789474 | 0.4360902 | 0.3273196 | 0.4360902 | 0.6516417 | 0 |\n",
       "\n"
      ],
      "text/plain": [
       "                           GW08 GW12      GW16_1_3  GW16_1_4  GW16_1_9 \n",
       "chr7_102190662             0    0.2264151 0.0000000 0.0000000 0.0000000\n",
       "chr7_102289756             0    0.3043478 0.0000000 0.0000000 0.0000000\n",
       "chr7_gl000195_random_83064 0    0.3971292 0.2187500 0.0000000 0.2779553\n",
       "chr16_70412194             0    0.0000000 0.5151515 0.0000000 0.0000000\n",
       "chr5_11333436              0    0.0000000 0.3548387 0.0000000 0.0000000\n",
       "chr6_127828876             0    0.0000000 0.2386364 0.1944444 0.0000000\n",
       "                           GW19_1_1  GW19_1_2 GW19_1_3 GW23_1_1  GW23_1_2 \n",
       "chr7_102190662             0.0000000 0        0        0.0000000 0.0000000\n",
       "chr7_102289756             0.0000000 0        0        0.0000000 0.0000000\n",
       "chr7_gl000195_random_83064 0.1423488 0        0        0.1342282 0.4017094\n",
       "chr16_70412194             0.0000000 0        0        0.0000000 0.5615385\n",
       "chr5_11333436              0.0000000 0        0        0.0000000 0.0000000\n",
       "chr6_127828876             0.0000000 0        0        0.4358974 0.3789474\n",
       "                           GW23_1_3  GW26_1_1  diff_editing_level cor_value\n",
       "chr7_102190662             0.7264151 0.5111111 0.7264151          0.5203379\n",
       "chr7_102289756             0.7272727 0.5571429 0.7272727          0.4890045\n",
       "chr7_gl000195_random_83064 0.4757506 0.7662338 0.7662338          0.5301568\n",
       "chr16_70412194             0.9016393 0.7257143 0.9016393          0.5997015\n",
       "chr5_11333436              0.6610169 0.8000000 0.8000000          0.5323383\n",
       "chr6_127828876             0.4360902 0.3273196 0.4360902          0.6516417\n",
       "                           change_index\n",
       "chr7_102190662             0           \n",
       "chr7_102289756             0           \n",
       "chr7_gl000195_random_83064 0           \n",
       "chr16_70412194             0           \n",
       "chr5_11333436              0           \n",
       "chr6_127828876             0           "
      ]
     },
     "metadata": {},
     "output_type": "display_data"
    }
   ],
   "source": [
    "head(up_event)"
   ]
  },
  {
   "cell_type": "code",
   "execution_count": 92,
   "metadata": {
    "vscode": {
     "languageId": "r"
    }
   },
   "outputs": [],
   "source": [
    "change_event <- rbind(up_event,down_event)\n",
    "change_event_data <- data[rownames(change_event),]\n"
   ]
  },
  {
   "cell_type": "code",
   "execution_count": 93,
   "metadata": {
    "vscode": {
     "languageId": "r"
    }
   },
   "outputs": [],
   "source": [
    "group <- c(rep('Up',nrow(up_event)),rep('Down',nrow(down_event)))"
   ]
  },
  {
   "cell_type": "code",
   "execution_count": 94,
   "metadata": {
    "vscode": {
     "languageId": "r"
    }
   },
   "outputs": [
    {
     "data": {
      "image/png": "[encoded data removed]",
      "text/plain": [
       "plot without title"
      ]
     },
     "metadata": {
      "image/png": {
       "height": 420,
       "width": 420
      }
     },
     "output_type": "display_data"
    }
   ],
   "source": [
    "my_palette <- colorRampPalette(c(\"green\", \"red\"))(n = 100)  # 创建自定义颜色梯度，100级颜色 \n",
    "annotation_col = data.frame(\n",
    "  stages = c('week8','week12',rep('week16',3),rep('week19',3),rep('week23',3),'week26')\n",
    "  #color = c('blue','yellow',rep('purple',3),rep('red',3),rep('orange',3),'black')\n",
    ")\n",
    "rownames(annotation_col) = colnames(change_event_data)\n",
    "color_mapping <- list(stages=c(week8 = \"blue\", week12 = \"yellow\", week16 = \"purple\", week19 = 'red', week23 = 'orange', week26 = 'black')) \n",
    "\n",
    "\n",
    "annotation_row = data.frame(\n",
    "  groups = group\n",
    "  #color = c('blue','yellow',rep('purple',3),rep('red',3),rep('orange',3),'black')\n",
    ")\n",
    "rownames(annotation_row) = rownames(change_event_data)\n",
    "color_mapping_for_rows <- list(groups=c(Up = \"black\", Down = \"purple\")) \n",
    "\n",
    "\n",
    "#pdf(\"/disk1/wenqing/tmp_data/PFC_s2/all_analysis_result/de_editing/de_edited_sites.pdf\")\n",
    "heatmap <- pheatmap(change_event_data,\n",
    "         cluster_cols = FALSE,\n",
    "         #cluster_rows = TRUE,\n",
    "         show_colnames = TRUE,\n",
    "         show_rownames = FALSE,\n",
    "         #cellheight = 0.5,\n",
    "         color = my_palette,\n",
    "         #fontsize_row = 6,          # 行标签字体大小\n",
    "         fontsize_col = 13,          # 列标签字体大小\n",
    "         border_color = NA,    # 边框颜色\n",
    "         cell_border_color = \"grey\",\n",
    "         #alpha = 0.8,             # 颜色透明度\n",
    "         treeheight_row = 0,\n",
    "         annotation_col = annotation_col,\n",
    "         annotation_colors =  color_mapping,\n",
    "         annotation_legend = FALSE, \n",
    "         annotation_names_col = TRUE,# 添加列注释\n",
    "         #main = \"SE\",\n",
    "         #main = \"Customized Heatmap\", # 图表标题\n",
    "         #legend_breaks = seq(min(de_data), max(de_data), length.out = 5), # 图例刻度\n",
    "         legend_labels = 'PSI', # 图例标签,\n",
    "         annotation_row = annotation_row, # 提供行注释的数据\n",
    "         annotation_colors_row = color_mapping_for_rows # 行注释的颜色映射\n",
    ")\n",
    "heatmap\n"
   ]
  },
  {
   "cell_type": "code",
   "execution_count": 95,
   "metadata": {
    "vscode": {
     "languageId": "r"
    }
   },
   "outputs": [],
   "source": [
    "write.table(change_event_data,\"/disk1/wenqing/tmp_data/PFC_s2/all_analysis_result/editing_level_change/notwith1/cor_threshold_0.3/editing_level_change_event.txt\",quote=F,sep='\\t')"
   ]
  },
  {
   "cell_type": "code",
   "execution_count": 2,
   "metadata": {
    "vscode": {
     "languageId": "r"
    }
   },
   "outputs": [],
   "source": [
    "res_stable <- read.table(\"/disk1/wenqing/tmp_data/PFC_s2/all_analysis_result/editing_level_change/notwith1/cor_threshold_0.3/exd100/intron_exd100_region_with_level_stable_res.txt\")\n",
    "res_stable[,11] <- paste0(res_stable[,1],\"_\",res_stable[,9])\n",
    "#####将第八周定为发育早期，第26周定为发育晚期\n",
    "#第8周的intron region和26周的intron region做交集，并对iri做log2比较？？\n",
    "intron_region_08_stable <- res_stable[,4][which(res_stable[,6]==\"GW08\")]\n",
    "intron_region_26_stable <- res_stable[,4][which(res_stable[,6]==\"GW26_1_1\")]\n",
    "\n",
    "shared_intron_stable <- intersect(intron_region_08_stable,intron_region_26_stable)\n",
    "all_rows_stable <- data.frame()\n",
    "for(one in shared_intron_stable){\n",
    "    iri_08 <- unique(res_stable[,5][which(res_stable[,4]==one & res_stable[,6]=='GW08')])\n",
    "    iri_26 <- unique(res_stable[,5][which(res_stable[,4]==one & res_stable[,6]=='GW26_1_1')])\n",
    "    \n",
    "    this_row <- c(iri_08,iri_26,one)\n",
    "    all_rows_stable <- rbind(all_rows_stable,this_row)\n",
    "}\n",
    "rownames(all_rows_stable) <- all_rows_stable[,3]\n",
    "all_rows_stable <- all_rows_stable[,-3]\n",
    "colnames(all_rows_stable) <- c('iri_early','iri_late')\n",
    "all_rows_stable$log2_iri_fc_change <- log2(as.numeric(all_rows_stable$iri_late)/as.numeric(all_rows_stable$iri_early))\n",
    "\n",
    "sub_dat_stable <- all_rows_stable$log2_iri_fc_change[!is.na(all_rows_stable$log2_iri_fc_change)]\n",
    "sub_dat_stable <- sub_dat_stable[sub_dat_stable!=-Inf]\n",
    "sub_dat_stable <- sub_dat_stable[sub_dat_stable!=Inf]\n",
    "write.table(all_rows_stable,\"/disk1/wenqing/tmp_data/PFC_s2/all_analysis_result/editing_level_change/notwith1/cor_threshold_0.3/exd100/stable_iri_fc.txt\",quote=F,col.names=F)\n",
    "\n",
    "res_up <- read.table(\"/disk1/wenqing/tmp_data/PFC_s2/all_analysis_result/editing_level_change/notwith1/cor_threshold_0.3/exd100/intron_exd100_region_with_level_up_res.txt\")\n",
    "res_up[,11] <- paste0(res_up[,1],\"_\",res_up[,9])\n",
    "#####将第八周定为发育早期，第26周定为发育晚期\n",
    "#第8周的intron region和26周的intron region做交集，并对iri做log2比较？？\n",
    "intron_region_08_up <- res_up[,4][which(res_up[,6]==\"GW08\")]\n",
    "intron_region_26_up <- res_up[,4][which(res_up[,6]==\"GW26_1_1\")]\n",
    "shared_intron_up <- intersect(intron_region_08_up,intron_region_26_up)\n",
    "all_rows_up <- data.frame()\n",
    "for(one in shared_intron_up){\n",
    "    iri_08 <- unique(res_up[,5][which(res_up[,4]==one & res_up[,6]=='GW08')])\n",
    "    iri_26 <- unique(res_up[,5][which(res_up[,4]==one & res_up[,6]=='GW26_1_1')])\n",
    "    \n",
    "    this_row <- c(iri_08,iri_26,one)\n",
    "    all_rows_up <- rbind(all_rows_up,this_row)\n",
    "}\n",
    "rownames(all_rows_up) <- all_rows_up[,3]\n",
    "all_rows_up <- all_rows_up[,-3]\n",
    "colnames(all_rows_up) <- c('iri_early','iri_late')\n",
    "all_rows_up$log2_iri_fc_change <- log2(as.numeric(all_rows_up$iri_late)/as.numeric(all_rows_up$iri_early))\n",
    "\n",
    "sub_dat_up <- all_rows_up$log2_iri_fc_change[!is.na(all_rows_up$log2_iri_fc_change)]\n",
    "sub_dat_up <- sub_dat_up[sub_dat_up!=-Inf]\n",
    "sub_dat_up <- sub_dat_up[sub_dat_up!=Inf]\n",
    "write.table(all_rows_up,\"/disk1/wenqing/tmp_data/PFC_s2/all_analysis_result/editing_level_change/notwith1/cor_threshold_0.3/exd100/up_iri_fc.txt\",quote=F,col.names=F)\n",
    "\n",
    "res_down <- read.table(\"/disk1/wenqing/tmp_data/PFC_s2/all_analysis_result/editing_level_change/notwith1/cor_threshold_0.3/exd100/intron_exd100_region_with_level_down_res.txt\")\n",
    "res_down[,11] <- paste0(res_down[,1],\"_\",res_down[,9])\n",
    "\n",
    "#####将第八周定为发育早期，第26周定为发育晚期\n",
    "#第8周的intron region和26周的intron region做交集，并对iri做log2比较？？\n",
    "intron_region_08_down <- res_down[,4][which(res_down[,6]==\"GW08\")]\n",
    "intron_region_26_down <- res_down[,4][which(res_down[,6]==\"GW26_1_1\")]\n",
    "\n",
    "shared_intron_down <- intersect(intron_region_08_down,intron_region_26_down)\n",
    "all_rows_down <- data.frame()\n",
    "for(one in shared_intron_down){\n",
    "    iri_08 <- unique(res_down[,5][which(res_down[,4]==one & res_down[,6]=='GW08')])\n",
    "    iri_26 <- unique(res_down[,5][which(res_down[,4]==one & res_down[,6]=='GW26_1_1')])\n",
    "    \n",
    "    this_row <- c(iri_08,iri_26,one)\n",
    "    all_rows_down <- rbind(all_rows_down,this_row)\n",
    "}\n",
    "rownames(all_rows_down) <- all_rows_down[,3]\n",
    "all_rows_down <- all_rows_down[,-3]\n",
    "colnames(all_rows_down) <- c('iri_early','iri_late')\n",
    "all_rows_down$log2_iri_fc_change <- log2(as.numeric(all_rows_down$iri_late)/as.numeric(all_rows_down$iri_early))\n",
    "\n",
    "sub_dat_down <- all_rows_down$log2_iri_fc_change[!is.na(all_rows_down$log2_iri_fc_change)]\n",
    "sub_dat_down <- sub_dat_down[sub_dat_down!=-Inf]\n",
    "sub_dat_down <- sub_dat_down[sub_dat_down!=Inf]\n",
    "write.table(all_rows_down,\"/disk1/wenqing/tmp_data/PFC_s2/all_analysis_result/editing_level_change/notwith1/cor_threshold_0.3/exd100/down_iri_fc.txt\",quote=F,col.names=F)"
   ]
  },
  {
   "cell_type": "code",
   "execution_count": 5,
   "metadata": {
    "vscode": {
     "languageId": "r"
    }
   },
   "outputs": [
    {
     "data": {
      "image/png": "[encoded data removed]",
      "text/plain": [
       "plot without title"
      ]
     },
     "metadata": {
      "image/png": {
       "height": 420,
       "width": 420
      }
     },
     "output_type": "display_data"
    }
   ],
   "source": [
    "df <- data.frame(\n",
    "   group = rep(c(\"stable\", \"up\", \"down\"), times = c(length(sub_dat_stable),length(sub_dat_up),length(sub_dat_down))),\n",
    "   value = c(sub_dat_stable,sub_dat_up,sub_dat_down)\n",
    " )\n",
    "\n",
    "# 使用ggplot2生成箱线图\n",
    "ggplot(df, aes(x = group, y = value, fill = group)) +\n",
    "  geom_boxplot(alpha=0.5) +\n",
    "  scale_fill_manual(values = c(\"#840dd3\", \"#04c49c\", \"#2759bd\")) + # 自定义颜色\n",
    "  labs(title = \"\",\n",
    "       x = \"\",\n",
    "       y = \"log2(IRI fold change)(development late/early)\") +\n",
    "  #ylim(-20,20)+\n",
    "  theme_bw() + # 使用白色背景主题\n",
    "  theme(plot.title = element_text(hjust = 0.5),\n",
    "        legend.title = element_blank(),\n",
    "        text = element_text(size = 13),legend.position = \"none\") \n"
   ]
  },
  {
   "cell_type": "code",
   "execution_count": 98,
   "metadata": {
    "vscode": {
     "languageId": "r"
    }
   },
   "outputs": [
    {
     "data": {
      "text/plain": [
       "\n",
       "  down stable     up \n",
       "    12     10     22 "
      ]
     },
     "metadata": {},
     "output_type": "display_data"
    }
   ],
   "source": [
    "table(df$group)"
   ]
  }
 ],
 "metadata": {
  "kernelspec": {
   "display_name": "R",
   "language": "R",
   "name": "ir"
  },
  "language_info": {
   "codemirror_mode": "r",
   "file_extension": ".r",
   "mimetype": "text/x-r-source",
   "name": "R",
   "pygments_lexer": "r",
   "version": "4.3.1"
  },
  "orig_nbformat": 4
 },
 "nbformat": 4,
 "nbformat_minor": 2
}
