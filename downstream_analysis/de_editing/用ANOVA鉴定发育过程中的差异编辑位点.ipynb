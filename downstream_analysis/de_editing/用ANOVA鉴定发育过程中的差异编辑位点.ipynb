{
 "cells": [
  {
   "cell_type": "code",
   "execution_count": null,
   "metadata": {
    "vscode": {
     "languageId": "r"
    }
   },
   "outputs": [],
   "source": [
    "# 确保载入所需的库\n",
    "library(tidyr)\n",
    "library(dplyr)\n",
    "library(ggplot2)\n",
    "library(tidyverse)\n",
    "library(pheatmap)\n",
    "#library(ggtree)  #聚类\n",
    "#library(aplot) "
   ]
  },
  {
   "cell_type": "code",
   "execution_count": null,
   "metadata": {
    "vscode": {
     "languageId": "r"
    }
   },
   "outputs": [],
   "source": [
    "###########在每种细胞类型中，鉴定差异编辑位点\n",
    "#step1：计算每个样本的编辑水平\n",
    "celltype <- 'GABAergic_neurons'\n",
    "regular_res_depth_08 <- read.table(paste0(\"/disk1/wenqing/tmp_data/PFC_s2/filter_snv_for_new_res/GW08/\",celltype,\"/regular.res.depth.orig\"))\n",
    "res_site_editing_rate_08 <- as.data.frame(cbind(paste0(regular_res_depth_08[,1],'_',regular_res_depth_08[,3]),\n",
    "                                regular_res_depth_08[,7]/regular_res_depth_08[,8]))\n",
    "colnames(res_site_editing_rate_08) <- c('site','editing_rate')\n",
    "\n",
    "regular_res_depth_12 <- read.table(paste0(\"/disk1/wenqing/tmp_data/PFC_s2/filter_snv_for_new_res/GW12/\",celltype,\"/regular.res.depth.orig\"))\n",
    "res_site_editing_rate_12 <- as.data.frame(cbind(paste0(regular_res_depth_12[,1],'_',regular_res_depth_12[,3]),\n",
    "                                regular_res_depth_12[,7]/regular_res_depth_12[,8]))\n",
    "colnames(res_site_editing_rate_12) <- c('site','editing_rate')\n",
    "head(res_site_editing_rate_12)\n",
    "regular_res_depth_16_1_3 <- read.table(paste0(\"/disk1/wenqing/tmp_data/PFC_s2/filter_snv_for_new_res/GW16_1_3/\",celltype,\"/regular.res.depth.orig\"))\n",
    "res_site_editing_rate_16_1_3 <- as.data.frame(cbind(paste0(regular_res_depth_16_1_3[,1],'_',regular_res_depth_16_1_3[,3]),\n",
    "                                regular_res_depth_16_1_3[,7]/regular_res_depth_16_1_3[,8]))\n",
    "colnames(res_site_editing_rate_16_1_3) <- c('site','editing_rate')\n",
    "head(res_site_editing_rate_16_1_3)\n",
    "regular_res_depth_16_1_4 <- read.table(paste0(\"/disk1/wenqing/tmp_data/PFC_s2/filter_snv_for_new_res/GW16_1_4/\",celltype,\"/regular.res.depth.orig\"))\n",
    "res_site_editing_rate_16_1_4 <- as.data.frame(cbind(paste0(regular_res_depth_16_1_4[,1],'_',regular_res_depth_16_1_4[,3]),\n",
    "                                regular_res_depth_16_1_4[,7]/regular_res_depth_16_1_4[,8]))\n",
    "colnames(res_site_editing_rate_16_1_4) <- c('site','editing_rate')\n",
    "head(res_site_editing_rate_16_1_4)\n",
    "regular_res_depth_16_1_9 <- read.table(paste0(\"/disk1/wenqing/tmp_data/PFC_s2/filter_snv_for_new_res/GW16_1_9/\",celltype,\"/regular.res.depth.orig\"))\n",
    "res_site_editing_rate_16_1_9 <- as.data.frame(cbind(paste0(regular_res_depth_16_1_9[,1],'_',regular_res_depth_16_1_9[,3]),\n",
    "                                regular_res_depth_16_1_9[,7]/regular_res_depth_16_1_9[,8]))\n",
    "colnames(res_site_editing_rate_16_1_9) <- c('site','editing_rate')\n",
    "head(res_site_editing_rate_16_1_9)\n",
    "regular_res_depth_19_1_1 <- read.table(paste0(\"/disk1/wenqing/tmp_data/PFC_s2/filter_snv_for_new_res/GW19_1_1/\",celltype,\"/regular.res.depth.orig\"))\n",
    "res_site_editing_rate_19_1_1 <- as.data.frame(cbind(paste0(regular_res_depth_19_1_1[,1],'_',regular_res_depth_19_1_1[,3]),\n",
    "                                regular_res_depth_19_1_1[,7]/regular_res_depth_19_1_1[,8]))\n",
    "colnames(res_site_editing_rate_19_1_1) <- c('site','editing_rate')\n",
    "head(res_site_editing_rate_19_1_1)\n",
    "regular_res_depth_19_1_2 <- read.table(paste0(\"/disk1/wenqing/tmp_data/PFC_s2/filter_snv_for_new_res/GW19_1_2/\",celltype,\"/regular.res.depth.orig\"))\n",
    "res_site_editing_rate_19_1_2 <- as.data.frame(cbind(paste0(regular_res_depth_19_1_2[,1],'_',regular_res_depth_19_1_2[,3]),\n",
    "                                regular_res_depth_19_1_2[,7]/regular_res_depth_19_1_2[,8]))\n",
    "colnames(res_site_editing_rate_19_1_2) <- c('site','editing_rate')\n",
    "head(res_site_editing_rate_19_1_2)\n",
    "regular_res_depth_19_1_3 <- read.table(paste0(\"/disk1/wenqing/tmp_data/PFC_s2/filter_snv_for_new_res/GW19_1_3/\",celltype,\"/regular.res.depth.orig\"))\n",
    "res_site_editing_rate_19_1_3 <- as.data.frame(cbind(paste0(regular_res_depth_19_1_3[,1],'_',regular_res_depth_19_1_3[,3]),\n",
    "                                regular_res_depth_19_1_3[,7]/regular_res_depth_19_1_3[,8]))\n",
    "colnames(res_site_editing_rate_19_1_3) <- c('site','editing_rate')\n",
    "head(res_site_editing_rate_19_1_3)\n",
    "regular_res_depth_23_1_1 <- read.table(paste0(\"/disk1/wenqing/tmp_data/PFC_s2/filter_snv_for_new_res/GW23_1_1/\",celltype,\"/regular.res.depth.orig\"))\n",
    "res_site_editing_rate_23_1_1 <- as.data.frame(cbind(paste0(regular_res_depth_23_1_1[,1],'_',regular_res_depth_23_1_1[,3]),\n",
    "                                regular_res_depth_23_1_1[,7]/regular_res_depth_23_1_1[,8]))\n",
    "colnames(res_site_editing_rate_23_1_1) <- c('site','editing_rate')\n",
    "head(res_site_editing_rate_23_1_1)\n",
    "regular_res_depth_23_1_2 <- read.table(paste0(\"/disk1/wenqing/tmp_data/PFC_s2/filter_snv_for_new_res/GW23_1_2/\",celltype,\"/regular.res.depth.orig\"))\n",
    "res_site_editing_rate_23_1_2 <- as.data.frame(cbind(paste0(regular_res_depth_23_1_2[,1],'_',regular_res_depth_23_1_2[,3]),\n",
    "                                regular_res_depth_23_1_2[,7]/regular_res_depth_23_1_2[,8]))\n",
    "colnames(res_site_editing_rate_23_1_2) <- c('site','editing_rate')\n",
    "head(res_site_editing_rate_23_1_2)\n",
    "regular_res_depth_23_1_3 <- read.table(paste0(\"/disk1/wenqing/tmp_data/PFC_s2/filter_snv_for_new_res/GW23_1_3/\",celltype,\"/regular.res.depth.orig\"))\n",
    "res_site_editing_rate_23_1_3 <- as.data.frame(cbind(paste0(regular_res_depth_23_1_3[,1],'_',regular_res_depth_23_1_3[,3]),\n",
    "                                regular_res_depth_23_1_3[,7]/regular_res_depth_23_1_3[,8]))\n",
    "colnames(res_site_editing_rate_23_1_3) <- c('site','editing_rate')\n",
    "head(res_site_editing_rate_23_1_3)\n",
    "regular_res_depth_26_1_1 <- read.table(paste0(\"/disk1/wenqing/tmp_data/PFC_s2/filter_snv_for_new_res/GW26_1_1/\",celltype,\"/regular.res.depth.orig\"))\n",
    "res_site_editing_rate_26_1_1 <- as.data.frame(cbind(paste0(regular_res_depth_26_1_1[,1],'_',regular_res_depth_26_1_1[,3]),\n",
    "                                regular_res_depth_26_1_1[,7]/regular_res_depth_26_1_1[,8]))\n",
    "colnames(res_site_editing_rate_26_1_1) <- c('site','editing_rate')\n",
    "head(res_site_editing_rate_26_1_1)"
   ]
  },
  {
   "cell_type": "code",
   "execution_count": null,
   "metadata": {
    "vscode": {
     "languageId": "r"
    }
   },
   "outputs": [],
   "source": [
    "#head(res_site_editing_rate_08)\n",
    "#Differentially edited editing sites across developmental stages were identified by ANOVA among the stage groups, followed by multiple test corrections with FDR.\n",
    "#增加样本数量\n",
    "######超过80%的位点编辑水平都等于100%（后续筛选）\n"
   ]
  },
  {
   "cell_type": "code",
   "execution_count": 3,
   "metadata": {
    "vscode": {
     "languageId": "r"
    }
   },
   "outputs": [],
   "source": [
    "#########过滤每个样本中editing rate为1的，GW26_1_1仍然有大量位点远多于其他三个样本\n",
    "sub_res_editing_rate_16_1_4 <- res_site_editing_rate_16_1_4[which(res_site_editing_rate_16_1_4$editing_rate!=1),]\n",
    "sub_res_editing_rate_19_1_1 <- res_site_editing_rate_19_1_1[which(res_site_editing_rate_19_1_1$editing_rate!=1),]\n",
    "sub_res_editing_rate_23_1_2 <- res_site_editing_rate_23_1_2[which(res_site_editing_rate_23_1_2$editing_rate!=1),]\n",
    "sub_res_editing_rate_26_1_1 <- res_site_editing_rate_26_1_1[which(res_site_editing_rate_26_1_1$editing_rate!=1),]"
   ]
  },
  {
   "cell_type": "code",
   "execution_count": 4,
   "metadata": {
    "vscode": {
     "languageId": "r"
    }
   },
   "outputs": [],
   "source": [
    "sub_res_editing_rate_08 <- res_site_editing_rate_08[which(res_site_editing_rate_08$editing_rate!=1),]\n",
    "sub_res_editing_rate_12 <- res_site_editing_rate_12[which(res_site_editing_rate_12$editing_rate!=1),]\n",
    "sub_res_editing_rate_16_1_3 <- res_site_editing_rate_16_1_3[which(res_site_editing_rate_16_1_3$editing_rate!=1),]\n",
    "sub_res_editing_rate_16_1_9 <- res_site_editing_rate_16_1_9[which(res_site_editing_rate_16_1_9$editing_rate!=1),]\n",
    "sub_res_editing_rate_19_1_2 <- res_site_editing_rate_19_1_2[which(res_site_editing_rate_19_1_2$editing_rate!=1),]\n",
    "sub_res_editing_rate_19_1_3 <- res_site_editing_rate_19_1_3[which(res_site_editing_rate_19_1_3$editing_rate!=1),]\n",
    "sub_res_editing_rate_23_1_1 <- res_site_editing_rate_23_1_1[which(res_site_editing_rate_23_1_1$editing_rate!=1),]\n",
    "sub_res_editing_rate_23_1_3 <- res_site_editing_rate_23_1_3[which(res_site_editing_rate_23_1_3$editing_rate!=1),]\n"
   ]
  },
  {
   "cell_type": "code",
   "execution_count": 5,
   "metadata": {
    "vscode": {
     "languageId": "r"
    }
   },
   "outputs": [
    {
     "data": {
      "text/html": [
       "<style>\n",
       ".list-inline {list-style: none; margin:0; padding: 0}\n",
       ".list-inline>li {display: inline-block}\n",
       ".list-inline>li:not(:last-child)::after {content: \"\\00b7\"; padding: 0 .5ex}\n",
       "</style>\n",
       "<ol class=list-inline><li>78</li><li>2</li></ol>\n"
      ],
      "text/latex": [
       "\\begin{enumerate*}\n",
       "\\item 78\n",
       "\\item 2\n",
       "\\end{enumerate*}\n"
      ],
      "text/markdown": [
       "1. 78\n",
       "2. 2\n",
       "\n",
       "\n"
      ],
      "text/plain": [
       "[1] 78  2"
      ]
     },
     "metadata": {},
     "output_type": "display_data"
    },
    {
     "data": {
      "text/html": [
       "<style>\n",
       ".list-inline {list-style: none; margin:0; padding: 0}\n",
       ".list-inline>li {display: inline-block}\n",
       ".list-inline>li:not(:last-child)::after {content: \"\\00b7\"; padding: 0 .5ex}\n",
       "</style>\n",
       "<ol class=list-inline><li>591</li><li>2</li></ol>\n"
      ],
      "text/latex": [
       "\\begin{enumerate*}\n",
       "\\item 591\n",
       "\\item 2\n",
       "\\end{enumerate*}\n"
      ],
      "text/markdown": [
       "1. 591\n",
       "2. 2\n",
       "\n",
       "\n"
      ],
      "text/plain": [
       "[1] 591   2"
      ]
     },
     "metadata": {},
     "output_type": "display_data"
    },
    {
     "data": {
      "text/html": [
       "<style>\n",
       ".list-inline {list-style: none; margin:0; padding: 0}\n",
       ".list-inline>li {display: inline-block}\n",
       ".list-inline>li:not(:last-child)::after {content: \"\\00b7\"; padding: 0 .5ex}\n",
       "</style>\n",
       "<ol class=list-inline><li>1294</li><li>2</li></ol>\n"
      ],
      "text/latex": [
       "\\begin{enumerate*}\n",
       "\\item 1294\n",
       "\\item 2\n",
       "\\end{enumerate*}\n"
      ],
      "text/markdown": [
       "1. 1294\n",
       "2. 2\n",
       "\n",
       "\n"
      ],
      "text/plain": [
       "[1] 1294    2"
      ]
     },
     "metadata": {},
     "output_type": "display_data"
    },
    {
     "data": {
      "text/html": [
       "<style>\n",
       ".list-inline {list-style: none; margin:0; padding: 0}\n",
       ".list-inline>li {display: inline-block}\n",
       ".list-inline>li:not(:last-child)::after {content: \"\\00b7\"; padding: 0 .5ex}\n",
       "</style>\n",
       "<ol class=list-inline><li>338</li><li>2</li></ol>\n"
      ],
      "text/latex": [
       "\\begin{enumerate*}\n",
       "\\item 338\n",
       "\\item 2\n",
       "\\end{enumerate*}\n"
      ],
      "text/markdown": [
       "1. 338\n",
       "2. 2\n",
       "\n",
       "\n"
      ],
      "text/plain": [
       "[1] 338   2"
      ]
     },
     "metadata": {},
     "output_type": "display_data"
    },
    {
     "data": {
      "text/html": [
       "<style>\n",
       ".list-inline {list-style: none; margin:0; padding: 0}\n",
       ".list-inline>li {display: inline-block}\n",
       ".list-inline>li:not(:last-child)::after {content: \"\\00b7\"; padding: 0 .5ex}\n",
       "</style>\n",
       "<ol class=list-inline><li>1984</li><li>2</li></ol>\n"
      ],
      "text/latex": [
       "\\begin{enumerate*}\n",
       "\\item 1984\n",
       "\\item 2\n",
       "\\end{enumerate*}\n"
      ],
      "text/markdown": [
       "1. 1984\n",
       "2. 2\n",
       "\n",
       "\n"
      ],
      "text/plain": [
       "[1] 1984    2"
      ]
     },
     "metadata": {},
     "output_type": "display_data"
    },
    {
     "data": {
      "text/html": [
       "<style>\n",
       ".list-inline {list-style: none; margin:0; padding: 0}\n",
       ".list-inline>li {display: inline-block}\n",
       ".list-inline>li:not(:last-child)::after {content: \"\\00b7\"; padding: 0 .5ex}\n",
       "</style>\n",
       "<ol class=list-inline><li>691</li><li>2</li></ol>\n"
      ],
      "text/latex": [
       "\\begin{enumerate*}\n",
       "\\item 691\n",
       "\\item 2\n",
       "\\end{enumerate*}\n"
      ],
      "text/markdown": [
       "1. 691\n",
       "2. 2\n",
       "\n",
       "\n"
      ],
      "text/plain": [
       "[1] 691   2"
      ]
     },
     "metadata": {},
     "output_type": "display_data"
    },
    {
     "data": {
      "text/html": [
       "<style>\n",
       ".list-inline {list-style: none; margin:0; padding: 0}\n",
       ".list-inline>li {display: inline-block}\n",
       ".list-inline>li:not(:last-child)::after {content: \"\\00b7\"; padding: 0 .5ex}\n",
       "</style>\n",
       "<ol class=list-inline><li>155</li><li>2</li></ol>\n"
      ],
      "text/latex": [
       "\\begin{enumerate*}\n",
       "\\item 155\n",
       "\\item 2\n",
       "\\end{enumerate*}\n"
      ],
      "text/markdown": [
       "1. 155\n",
       "2. 2\n",
       "\n",
       "\n"
      ],
      "text/plain": [
       "[1] 155   2"
      ]
     },
     "metadata": {},
     "output_type": "display_data"
    },
    {
     "data": {
      "text/html": [
       "<style>\n",
       ".list-inline {list-style: none; margin:0; padding: 0}\n",
       ".list-inline>li {display: inline-block}\n",
       ".list-inline>li:not(:last-child)::after {content: \"\\00b7\"; padding: 0 .5ex}\n",
       "</style>\n",
       "<ol class=list-inline><li>85</li><li>2</li></ol>\n"
      ],
      "text/latex": [
       "\\begin{enumerate*}\n",
       "\\item 85\n",
       "\\item 2\n",
       "\\end{enumerate*}\n"
      ],
      "text/markdown": [
       "1. 85\n",
       "2. 2\n",
       "\n",
       "\n"
      ],
      "text/plain": [
       "[1] 85  2"
      ]
     },
     "metadata": {},
     "output_type": "display_data"
    },
    {
     "data": {
      "text/html": [
       "<style>\n",
       ".list-inline {list-style: none; margin:0; padding: 0}\n",
       ".list-inline>li {display: inline-block}\n",
       ".list-inline>li:not(:last-child)::after {content: \"\\00b7\"; padding: 0 .5ex}\n",
       "</style>\n",
       "<ol class=list-inline><li>2171</li><li>2</li></ol>\n"
      ],
      "text/latex": [
       "\\begin{enumerate*}\n",
       "\\item 2171\n",
       "\\item 2\n",
       "\\end{enumerate*}\n"
      ],
      "text/markdown": [
       "1. 2171\n",
       "2. 2\n",
       "\n",
       "\n"
      ],
      "text/plain": [
       "[1] 2171    2"
      ]
     },
     "metadata": {},
     "output_type": "display_data"
    },
    {
     "data": {
      "text/html": [
       "<style>\n",
       ".list-inline {list-style: none; margin:0; padding: 0}\n",
       ".list-inline>li {display: inline-block}\n",
       ".list-inline>li:not(:last-child)::after {content: \"\\00b7\"; padding: 0 .5ex}\n",
       "</style>\n",
       "<ol class=list-inline><li>1868</li><li>2</li></ol>\n"
      ],
      "text/latex": [
       "\\begin{enumerate*}\n",
       "\\item 1868\n",
       "\\item 2\n",
       "\\end{enumerate*}\n"
      ],
      "text/markdown": [
       "1. 1868\n",
       "2. 2\n",
       "\n",
       "\n"
      ],
      "text/plain": [
       "[1] 1868    2"
      ]
     },
     "metadata": {},
     "output_type": "display_data"
    },
    {
     "data": {
      "text/html": [
       "<style>\n",
       ".list-inline {list-style: none; margin:0; padding: 0}\n",
       ".list-inline>li {display: inline-block}\n",
       ".list-inline>li:not(:last-child)::after {content: \"\\00b7\"; padding: 0 .5ex}\n",
       "</style>\n",
       "<ol class=list-inline><li>1321</li><li>2</li></ol>\n"
      ],
      "text/latex": [
       "\\begin{enumerate*}\n",
       "\\item 1321\n",
       "\\item 2\n",
       "\\end{enumerate*}\n"
      ],
      "text/markdown": [
       "1. 1321\n",
       "2. 2\n",
       "\n",
       "\n"
      ],
      "text/plain": [
       "[1] 1321    2"
      ]
     },
     "metadata": {},
     "output_type": "display_data"
    },
    {
     "data": {
      "text/html": [
       "<style>\n",
       ".list-inline {list-style: none; margin:0; padding: 0}\n",
       ".list-inline>li {display: inline-block}\n",
       ".list-inline>li:not(:last-child)::after {content: \"\\00b7\"; padding: 0 .5ex}\n",
       "</style>\n",
       "<ol class=list-inline><li>15126</li><li>2</li></ol>\n"
      ],
      "text/latex": [
       "\\begin{enumerate*}\n",
       "\\item 15126\n",
       "\\item 2\n",
       "\\end{enumerate*}\n"
      ],
      "text/markdown": [
       "1. 15126\n",
       "2. 2\n",
       "\n",
       "\n"
      ],
      "text/plain": [
       "[1] 15126     2"
      ]
     },
     "metadata": {},
     "output_type": "display_data"
    }
   ],
   "source": [
    "dim(sub_res_editing_rate_08)\n",
    "dim(sub_res_editing_rate_12)\n",
    "dim(sub_res_editing_rate_16_1_3)\n",
    "dim(sub_res_editing_rate_16_1_4)\n",
    "dim(sub_res_editing_rate_16_1_9)\n",
    "dim(sub_res_editing_rate_19_1_1)\n",
    "dim(sub_res_editing_rate_19_1_2)\n",
    "dim(sub_res_editing_rate_19_1_3)\n",
    "dim(sub_res_editing_rate_23_1_1)\n",
    "dim(sub_res_editing_rate_23_1_2)\n",
    "dim(sub_res_editing_rate_23_1_3)\n",
    "dim(sub_res_editing_rate_26_1_1)"
   ]
  },
  {
   "cell_type": "code",
   "execution_count": 8,
   "metadata": {
    "vscode": {
     "languageId": "r"
    }
   },
   "outputs": [
    {
     "data": {
      "text/html": [
       "<style>\n",
       ".dl-inline {width: auto; margin:0; padding: 0}\n",
       ".dl-inline>dt, .dl-inline>dd {float: none; width: auto; display: inline-block}\n",
       ".dl-inline>dt::after {content: \":\\0020\"; padding-right: .5ex}\n",
       ".dl-inline>dt:not(:first-of-type) {padding-left: .5ex}\n",
       "</style><dl class=dl-inline><dt>0%</dt><dd>0.00183585313174946</dd><dt>25%</dt><dd>0.373424973170886</dd><dt>50%</dt><dd>0.5</dd><dt>75%</dt><dd>0.944901315789474</dd><dt>100%</dt><dd>0.989583333333333</dd></dl>\n"
      ],
      "text/latex": [
       "\\begin{description*}\n",
       "\\item[0\\textbackslash{}\\%] 0.00183585313174946\n",
       "\\item[25\\textbackslash{}\\%] 0.373424973170886\n",
       "\\item[50\\textbackslash{}\\%] 0.5\n",
       "\\item[75\\textbackslash{}\\%] 0.944901315789474\n",
       "\\item[100\\textbackslash{}\\%] 0.989583333333333\n",
       "\\end{description*}\n"
      ],
      "text/markdown": [
       "0%\n",
       ":   0.0018358531317494625%\n",
       ":   0.37342497317088650%\n",
       ":   0.575%\n",
       ":   0.944901315789474100%\n",
       ":   0.989583333333333\n",
       "\n"
      ],
      "text/plain": [
       "         0%         25%         50%         75%        100% \n",
       "0.001835853 0.373424973 0.500000000 0.944901316 0.989583333 "
      ]
     },
     "metadata": {},
     "output_type": "display_data"
    },
    {
     "data": {
      "text/html": [
       "<style>\n",
       ".dl-inline {width: auto; margin:0; padding: 0}\n",
       ".dl-inline>dt, .dl-inline>dd {float: none; width: auto; display: inline-block}\n",
       ".dl-inline>dt::after {content: \":\\0020\"; padding-right: .5ex}\n",
       ".dl-inline>dt:not(:first-of-type) {padding-left: .5ex}\n",
       "</style><dl class=dl-inline><dt>0%</dt><dd>0.0100269957578095</dd><dt>25%</dt><dd>0.391304347826087</dd><dt>50%</dt><dd>0.772727272727273</dd><dt>75%</dt><dd>0.945945945945946</dd><dt>100%</dt><dd>0.992125984251969</dd></dl>\n"
      ],
      "text/latex": [
       "\\begin{description*}\n",
       "\\item[0\\textbackslash{}\\%] 0.0100269957578095\n",
       "\\item[25\\textbackslash{}\\%] 0.391304347826087\n",
       "\\item[50\\textbackslash{}\\%] 0.772727272727273\n",
       "\\item[75\\textbackslash{}\\%] 0.945945945945946\n",
       "\\item[100\\textbackslash{}\\%] 0.992125984251969\n",
       "\\end{description*}\n"
      ],
      "text/markdown": [
       "0%\n",
       ":   0.010026995757809525%\n",
       ":   0.39130434782608750%\n",
       ":   0.77272727272727375%\n",
       ":   0.945945945945946100%\n",
       ":   0.992125984251969\n",
       "\n"
      ],
      "text/plain": [
       "       0%       25%       50%       75%      100% \n",
       "0.0100270 0.3913043 0.7727273 0.9459459 0.9921260 "
      ]
     },
     "metadata": {},
     "output_type": "display_data"
    },
    {
     "data": {
      "text/html": [
       "<style>\n",
       ".dl-inline {width: auto; margin:0; padding: 0}\n",
       ".dl-inline>dt, .dl-inline>dd {float: none; width: auto; display: inline-block}\n",
       ".dl-inline>dt::after {content: \":\\0020\"; padding-right: .5ex}\n",
       ".dl-inline>dt:not(:first-of-type) {padding-left: .5ex}\n",
       "</style><dl class=dl-inline><dt>0%</dt><dd>0.00149791506416744</dd><dt>25%</dt><dd>0.376979727589484</dd><dt>50%</dt><dd>0.638057594579334</dd><dt>75%</dt><dd>0.928571428571429</dd><dt>100%</dt><dd>0.990566037735849</dd></dl>\n"
      ],
      "text/latex": [
       "\\begin{description*}\n",
       "\\item[0\\textbackslash{}\\%] 0.00149791506416744\n",
       "\\item[25\\textbackslash{}\\%] 0.376979727589484\n",
       "\\item[50\\textbackslash{}\\%] 0.638057594579334\n",
       "\\item[75\\textbackslash{}\\%] 0.928571428571429\n",
       "\\item[100\\textbackslash{}\\%] 0.990566037735849\n",
       "\\end{description*}\n"
      ],
      "text/markdown": [
       "0%\n",
       ":   0.0014979150641674425%\n",
       ":   0.37697972758948450%\n",
       ":   0.63805759457933475%\n",
       ":   0.928571428571429100%\n",
       ":   0.990566037735849\n",
       "\n"
      ],
      "text/plain": [
       "         0%         25%         50%         75%        100% \n",
       "0.001497915 0.376979728 0.638057595 0.928571429 0.990566038 "
      ]
     },
     "metadata": {},
     "output_type": "display_data"
    },
    {
     "data": {
      "text/html": [
       "<style>\n",
       ".dl-inline {width: auto; margin:0; padding: 0}\n",
       ".dl-inline>dt, .dl-inline>dd {float: none; width: auto; display: inline-block}\n",
       ".dl-inline>dt::after {content: \":\\0020\"; padding-right: .5ex}\n",
       ".dl-inline>dt:not(:first-of-type) {padding-left: .5ex}\n",
       "</style><dl class=dl-inline><dt>0%</dt><dd>0.0031055900621118</dd><dt>25%</dt><dd>0.304166666666667</dd><dt>50%</dt><dd>0.565942028985507</dd><dt>75%</dt><dd>0.952380952380952</dd><dt>100%</dt><dd>0.990825688073395</dd></dl>\n"
      ],
      "text/latex": [
       "\\begin{description*}\n",
       "\\item[0\\textbackslash{}\\%] 0.0031055900621118\n",
       "\\item[25\\textbackslash{}\\%] 0.304166666666667\n",
       "\\item[50\\textbackslash{}\\%] 0.565942028985507\n",
       "\\item[75\\textbackslash{}\\%] 0.952380952380952\n",
       "\\item[100\\textbackslash{}\\%] 0.990825688073395\n",
       "\\end{description*}\n"
      ],
      "text/markdown": [
       "0%\n",
       ":   0.003105590062111825%\n",
       ":   0.30416666666666750%\n",
       ":   0.56594202898550775%\n",
       ":   0.952380952380952100%\n",
       ":   0.990825688073395\n",
       "\n"
      ],
      "text/plain": [
       "        0%        25%        50%        75%       100% \n",
       "0.00310559 0.30416667 0.56594203 0.95238095 0.99082569 "
      ]
     },
     "metadata": {},
     "output_type": "display_data"
    },
    {
     "data": {
      "text/html": [
       "<style>\n",
       ".dl-inline {width: auto; margin:0; padding: 0}\n",
       ".dl-inline>dt, .dl-inline>dd {float: none; width: auto; display: inline-block}\n",
       ".dl-inline>dt::after {content: \":\\0020\"; padding-right: .5ex}\n",
       ".dl-inline>dt:not(:first-of-type) {padding-left: .5ex}\n",
       "</style><dl class=dl-inline><dt>0%</dt><dd>0.000656820114883809</dd><dt>25%</dt><dd>0.292189552021012</dd><dt>50%</dt><dd>0.528312149318676</dd><dt>75%</dt><dd>0.933333333333333</dd><dt>100%</dt><dd>0.995505617977528</dd></dl>\n"
      ],
      "text/latex": [
       "\\begin{description*}\n",
       "\\item[0\\textbackslash{}\\%] 0.000656820114883809\n",
       "\\item[25\\textbackslash{}\\%] 0.292189552021012\n",
       "\\item[50\\textbackslash{}\\%] 0.528312149318676\n",
       "\\item[75\\textbackslash{}\\%] 0.933333333333333\n",
       "\\item[100\\textbackslash{}\\%] 0.995505617977528\n",
       "\\end{description*}\n"
      ],
      "text/markdown": [
       "0%\n",
       ":   0.00065682011488380925%\n",
       ":   0.29218955202101250%\n",
       ":   0.52831214931867675%\n",
       ":   0.933333333333333100%\n",
       ":   0.995505617977528\n",
       "\n"
      ],
      "text/plain": [
       "          0%          25%          50%          75%         100% \n",
       "0.0006568201 0.2921895520 0.5283121493 0.9333333333 0.9955056180 "
      ]
     },
     "metadata": {},
     "output_type": "display_data"
    },
    {
     "data": {
      "text/html": [
       "<style>\n",
       ".dl-inline {width: auto; margin:0; padding: 0}\n",
       ".dl-inline>dt, .dl-inline>dd {float: none; width: auto; display: inline-block}\n",
       ".dl-inline>dt::after {content: \":\\0020\"; padding-right: .5ex}\n",
       ".dl-inline>dt:not(:first-of-type) {padding-left: .5ex}\n",
       "</style><dl class=dl-inline><dt>0%</dt><dd>0.000358055979814594</dd><dt>25%</dt><dd>0.270418991025952</dd><dt>50%</dt><dd>0.555555555555556</dd><dt>75%</dt><dd>0.9375</dd><dt>100%</dt><dd>0.994152046783626</dd></dl>\n"
      ],
      "text/latex": [
       "\\begin{description*}\n",
       "\\item[0\\textbackslash{}\\%] 0.000358055979814594\n",
       "\\item[25\\textbackslash{}\\%] 0.270418991025952\n",
       "\\item[50\\textbackslash{}\\%] 0.555555555555556\n",
       "\\item[75\\textbackslash{}\\%] 0.9375\n",
       "\\item[100\\textbackslash{}\\%] 0.994152046783626\n",
       "\\end{description*}\n"
      ],
      "text/markdown": [
       "0%\n",
       ":   0.00035805597981459425%\n",
       ":   0.27041899102595250%\n",
       ":   0.55555555555555675%\n",
       ":   0.9375100%\n",
       ":   0.994152046783626\n",
       "\n"
      ],
      "text/plain": [
       "         0%         25%         50%         75%        100% \n",
       "0.000358056 0.270418991 0.555555556 0.937500000 0.994152047 "
      ]
     },
     "metadata": {},
     "output_type": "display_data"
    },
    {
     "data": {
      "text/html": [
       "<style>\n",
       ".dl-inline {width: auto; margin:0; padding: 0}\n",
       ".dl-inline>dt, .dl-inline>dd {float: none; width: auto; display: inline-block}\n",
       ".dl-inline>dt::after {content: \":\\0020\"; padding-right: .5ex}\n",
       ".dl-inline>dt:not(:first-of-type) {padding-left: .5ex}\n",
       "</style><dl class=dl-inline><dt>0%</dt><dd>0.00621669626998224</dd><dt>25%</dt><dd>0.475184074175075</dd><dt>50%</dt><dd>0.941176470588235</dd><dt>75%</dt><dd>0.977652933832709</dd><dt>100%</dt><dd>0.994949494949495</dd></dl>\n"
      ],
      "text/latex": [
       "\\begin{description*}\n",
       "\\item[0\\textbackslash{}\\%] 0.00621669626998224\n",
       "\\item[25\\textbackslash{}\\%] 0.475184074175075\n",
       "\\item[50\\textbackslash{}\\%] 0.941176470588235\n",
       "\\item[75\\textbackslash{}\\%] 0.977652933832709\n",
       "\\item[100\\textbackslash{}\\%] 0.994949494949495\n",
       "\\end{description*}\n"
      ],
      "text/markdown": [
       "0%\n",
       ":   0.0062166962699822425%\n",
       ":   0.47518407417507550%\n",
       ":   0.94117647058823575%\n",
       ":   0.977652933832709100%\n",
       ":   0.994949494949495\n",
       "\n"
      ],
      "text/plain": [
       "         0%         25%         50%         75%        100% \n",
       "0.006216696 0.475184074 0.941176471 0.977652934 0.994949495 "
      ]
     },
     "metadata": {},
     "output_type": "display_data"
    },
    {
     "data": {
      "text/html": [
       "<style>\n",
       ".dl-inline {width: auto; margin:0; padding: 0}\n",
       ".dl-inline>dt, .dl-inline>dd {float: none; width: auto; display: inline-block}\n",
       ".dl-inline>dt::after {content: \":\\0020\"; padding-right: .5ex}\n",
       ".dl-inline>dt:not(:first-of-type) {padding-left: .5ex}\n",
       "</style><dl class=dl-inline><dt>0%</dt><dd>0.114093959731544</dd><dt>25%</dt><dd>0.298461538461538</dd><dt>50%</dt><dd>0.882352941176471</dd><dt>75%</dt><dd>0.971830985915493</dd><dt>100%</dt><dd>0.991379310344828</dd></dl>\n"
      ],
      "text/latex": [
       "\\begin{description*}\n",
       "\\item[0\\textbackslash{}\\%] 0.114093959731544\n",
       "\\item[25\\textbackslash{}\\%] 0.298461538461538\n",
       "\\item[50\\textbackslash{}\\%] 0.882352941176471\n",
       "\\item[75\\textbackslash{}\\%] 0.971830985915493\n",
       "\\item[100\\textbackslash{}\\%] 0.991379310344828\n",
       "\\end{description*}\n"
      ],
      "text/markdown": [
       "0%\n",
       ":   0.11409395973154425%\n",
       ":   0.29846153846153850%\n",
       ":   0.88235294117647175%\n",
       ":   0.971830985915493100%\n",
       ":   0.991379310344828\n",
       "\n"
      ],
      "text/plain": [
       "       0%       25%       50%       75%      100% \n",
       "0.1140940 0.2984615 0.8823529 0.9718310 0.9913793 "
      ]
     },
     "metadata": {},
     "output_type": "display_data"
    },
    {
     "data": {
      "text/html": [
       "<style>\n",
       ".dl-inline {width: auto; margin:0; padding: 0}\n",
       ".dl-inline>dt, .dl-inline>dd {float: none; width: auto; display: inline-block}\n",
       ".dl-inline>dt::after {content: \":\\0020\"; padding-right: .5ex}\n",
       ".dl-inline>dt:not(:first-of-type) {padding-left: .5ex}\n",
       "</style><dl class=dl-inline><dt>0%</dt><dd>0.00319425034937113</dd><dt>25%</dt><dd>0.030694064140777</dd><dt>50%</dt><dd>0.407821229050279</dd><dt>75%</dt><dd>0.946657183499289</dd><dt>100%</dt><dd>0.995901639344262</dd></dl>\n"
      ],
      "text/latex": [
       "\\begin{description*}\n",
       "\\item[0\\textbackslash{}\\%] 0.00319425034937113\n",
       "\\item[25\\textbackslash{}\\%] 0.030694064140777\n",
       "\\item[50\\textbackslash{}\\%] 0.407821229050279\n",
       "\\item[75\\textbackslash{}\\%] 0.946657183499289\n",
       "\\item[100\\textbackslash{}\\%] 0.995901639344262\n",
       "\\end{description*}\n"
      ],
      "text/markdown": [
       "0%\n",
       ":   0.0031942503493711325%\n",
       ":   0.03069406414077750%\n",
       ":   0.40782122905027975%\n",
       ":   0.946657183499289100%\n",
       ":   0.995901639344262\n",
       "\n"
      ],
      "text/plain": [
       "        0%        25%        50%        75%       100% \n",
       "0.00319425 0.03069406 0.40782123 0.94665718 0.99590164 "
      ]
     },
     "metadata": {},
     "output_type": "display_data"
    },
    {
     "data": {
      "text/html": [
       "<style>\n",
       ".dl-inline {width: auto; margin:0; padding: 0}\n",
       ".dl-inline>dt, .dl-inline>dd {float: none; width: auto; display: inline-block}\n",
       ".dl-inline>dt::after {content: \":\\0020\"; padding-right: .5ex}\n",
       ".dl-inline>dt:not(:first-of-type) {padding-left: .5ex}\n",
       "</style><dl class=dl-inline><dt>0%</dt><dd>0.00133409567371832</dd><dt>25%</dt><dd>0.303199002283928</dd><dt>50%</dt><dd>0.658035415970598</dd><dt>75%</dt><dd>0.96969696969697</dd><dt>100%</dt><dd>0.997727272727273</dd></dl>\n"
      ],
      "text/latex": [
       "\\begin{description*}\n",
       "\\item[0\\textbackslash{}\\%] 0.00133409567371832\n",
       "\\item[25\\textbackslash{}\\%] 0.303199002283928\n",
       "\\item[50\\textbackslash{}\\%] 0.658035415970598\n",
       "\\item[75\\textbackslash{}\\%] 0.96969696969697\n",
       "\\item[100\\textbackslash{}\\%] 0.997727272727273\n",
       "\\end{description*}\n"
      ],
      "text/markdown": [
       "0%\n",
       ":   0.0013340956737183225%\n",
       ":   0.30319900228392850%\n",
       ":   0.65803541597059875%\n",
       ":   0.96969696969697100%\n",
       ":   0.997727272727273\n",
       "\n"
      ],
      "text/plain": [
       "         0%         25%         50%         75%        100% \n",
       "0.001334096 0.303199002 0.658035416 0.969696970 0.997727273 "
      ]
     },
     "metadata": {},
     "output_type": "display_data"
    },
    {
     "data": {
      "text/html": [
       "<style>\n",
       ".dl-inline {width: auto; margin:0; padding: 0}\n",
       ".dl-inline>dt, .dl-inline>dd {float: none; width: auto; display: inline-block}\n",
       ".dl-inline>dt::after {content: \":\\0020\"; padding-right: .5ex}\n",
       ".dl-inline>dt:not(:first-of-type) {padding-left: .5ex}\n",
       "</style><dl class=dl-inline><dt>0%</dt><dd>0.00153118040089087</dd><dt>25%</dt><dd>0.323076923076923</dd><dt>50%</dt><dd>0.598214285714286</dd><dt>75%</dt><dd>0.954954954954955</dd><dt>100%</dt><dd>0.995</dd></dl>\n"
      ],
      "text/latex": [
       "\\begin{description*}\n",
       "\\item[0\\textbackslash{}\\%] 0.00153118040089087\n",
       "\\item[25\\textbackslash{}\\%] 0.323076923076923\n",
       "\\item[50\\textbackslash{}\\%] 0.598214285714286\n",
       "\\item[75\\textbackslash{}\\%] 0.954954954954955\n",
       "\\item[100\\textbackslash{}\\%] 0.995\n",
       "\\end{description*}\n"
      ],
      "text/markdown": [
       "0%\n",
       ":   0.0015311804008908725%\n",
       ":   0.32307692307692350%\n",
       ":   0.59821428571428675%\n",
       ":   0.954954954954955100%\n",
       ":   0.995\n",
       "\n"
      ],
      "text/plain": [
       "        0%        25%        50%        75%       100% \n",
       "0.00153118 0.32307692 0.59821429 0.95495495 0.99500000 "
      ]
     },
     "metadata": {},
     "output_type": "display_data"
    },
    {
     "data": {
      "text/html": [
       "<style>\n",
       ".dl-inline {width: auto; margin:0; padding: 0}\n",
       ".dl-inline>dt, .dl-inline>dd {float: none; width: auto; display: inline-block}\n",
       ".dl-inline>dt::after {content: \":\\0020\"; padding-right: .5ex}\n",
       ".dl-inline>dt:not(:first-of-type) {padding-left: .5ex}\n",
       "</style><dl class=dl-inline><dt>0%</dt><dd>9.57318639314659e-05</dd><dt>25%</dt><dd>0.243243243243243</dd><dt>50%</dt><dd>0.428571428571429</dd><dt>75%</dt><dd>0.733333333333333</dd><dt>100%</dt><dd>0.995238095238095</dd></dl>\n"
      ],
      "text/latex": [
       "\\begin{description*}\n",
       "\\item[0\\textbackslash{}\\%] 9.57318639314659e-05\n",
       "\\item[25\\textbackslash{}\\%] 0.243243243243243\n",
       "\\item[50\\textbackslash{}\\%] 0.428571428571429\n",
       "\\item[75\\textbackslash{}\\%] 0.733333333333333\n",
       "\\item[100\\textbackslash{}\\%] 0.995238095238095\n",
       "\\end{description*}\n"
      ],
      "text/markdown": [
       "0%\n",
       ":   9.57318639314659e-0525%\n",
       ":   0.24324324324324350%\n",
       ":   0.42857142857142975%\n",
       ":   0.733333333333333100%\n",
       ":   0.995238095238095\n",
       "\n"
      ],
      "text/plain": [
       "          0%          25%          50%          75%         100% \n",
       "9.573186e-05 2.432432e-01 4.285714e-01 7.333333e-01 9.952381e-01 "
      ]
     },
     "metadata": {},
     "output_type": "display_data"
    }
   ],
   "source": [
    "#从quantile来看GW26_1_1的分布与其他样本无异\n",
    "quantile(as.numeric(sub_res_editing_rate_08$editing_rate))\n",
    "quantile(as.numeric(sub_res_editing_rate_12$editing_rate))\n",
    "quantile(as.numeric(sub_res_editing_rate_16_1_3$editing_rate))\n",
    "quantile(as.numeric(sub_res_editing_rate_16_1_4$editing_rate))\n",
    "quantile(as.numeric(sub_res_editing_rate_16_1_9$editing_rate))\n",
    "quantile(as.numeric(sub_res_editing_rate_19_1_1$editing_rate))\n",
    "quantile(as.numeric(sub_res_editing_rate_19_1_2$editing_rate))\n",
    "quantile(as.numeric(sub_res_editing_rate_19_1_3$editing_rate))\n",
    "quantile(as.numeric(sub_res_editing_rate_23_1_1$editing_rate))\n",
    "quantile(as.numeric(sub_res_editing_rate_23_1_2$editing_rate))\n",
    "quantile(as.numeric(sub_res_editing_rate_23_1_3$editing_rate))\n",
    "quantile(as.numeric(sub_res_editing_rate_26_1_1$editing_rate))\n"
   ]
  },
  {
   "cell_type": "code",
   "execution_count": 5,
   "metadata": {
    "vscode": {
     "languageId": "r"
    }
   },
   "outputs": [],
   "source": [
    "####GW26_1_1的位点数量太多，会对后续差异分析产生影响\n",
    "#仅保留GW26_1_1中和其他样本覆盖的位点\n",
    "shared_site <- unique(c(sub_res_editing_rate_08$site,sub_res_editing_rate_12$site,sub_res_editing_rate_16_1_3$site,\n",
    "                    sub_res_editing_rate_16_1_4$site,sub_res_editing_rate_16_1_9$site,sub_res_editing_rate_19_1_1$site,\n",
    "                    sub_res_editing_rate_19_1_2$site,sub_res_editing_rate_19_1_3$site,sub_res_editing_rate_23_1_1$site,\n",
    "                    sub_res_editing_rate_23_1_2$site,sub_res_editing_rate_23_1_3$site))\n",
    "sub_res_editing_rate_26_1_1_intersected <- sub_res_editing_rate_26_1_1[sub_res_editing_rate_26_1_1$site %in% shared_site,]"
   ]
  },
  {
   "cell_type": "code",
   "execution_count": 6,
   "metadata": {
    "vscode": {
     "languageId": "r"
    }
   },
   "outputs": [
    {
     "data": {
      "text/html": [
       "<style>\n",
       ".list-inline {list-style: none; margin:0; padding: 0}\n",
       ".list-inline>li {display: inline-block}\n",
       ".list-inline>li:not(:last-child)::after {content: \"\\00b7\"; padding: 0 .5ex}\n",
       "</style>\n",
       "<ol class=list-inline><li>1027</li><li>2</li></ol>\n"
      ],
      "text/latex": [
       "\\begin{enumerate*}\n",
       "\\item 1027\n",
       "\\item 2\n",
       "\\end{enumerate*}\n"
      ],
      "text/markdown": [
       "1. 1027\n",
       "2. 2\n",
       "\n",
       "\n"
      ],
      "text/plain": [
       "[1] 1027    2"
      ]
     },
     "metadata": {},
     "output_type": "display_data"
    }
   ],
   "source": [
    "dim(sub_res_editing_rate_26_1_1_intersected)"
   ]
  },
  {
   "cell_type": "code",
   "execution_count": 7,
   "metadata": {
    "vscode": {
     "languageId": "r"
    }
   },
   "outputs": [
    {
     "data": {
      "text/html": [
       "<style>\n",
       ".list-inline {list-style: none; margin:0; padding: 0}\n",
       ".list-inline>li {display: inline-block}\n",
       ".list-inline>li:not(:last-child)::after {content: \"\\00b7\"; padding: 0 .5ex}\n",
       "</style>\n",
       "<ol class=list-inline><li>11603</li><li>4</li></ol>\n"
      ],
      "text/latex": [
       "\\begin{enumerate*}\n",
       "\\item 11603\n",
       "\\item 4\n",
       "\\end{enumerate*}\n"
      ],
      "text/markdown": [
       "1. 11603\n",
       "2. 4\n",
       "\n",
       "\n"
      ],
      "text/plain": [
       "[1] 11603     4"
      ]
     },
     "metadata": {},
     "output_type": "display_data"
    }
   ],
   "source": [
    "########使用所有跑出fiter SNV(10) res的样本鉴定de res\n",
    "#构建数据框\n",
    "all_site <- c(sub_res_editing_rate_08$site, sub_res_editing_rate_12$site,sub_res_editing_rate_16_1_3$site,\n",
    "                sub_res_editing_rate_16_1_4$site,sub_res_editing_rate_16_1_9$site,sub_res_editing_rate_19_1_1$site,\n",
    "                sub_res_editing_rate_19_1_2$site,sub_res_editing_rate_19_1_3$site,sub_res_editing_rate_23_1_1$site,\n",
    "                sub_res_editing_rate_23_1_2$site,sub_res_editing_rate_23_1_3$site,sub_res_editing_rate_26_1_1_intersected$site)\n",
    "sample_info <- c(rep('GW08',times=nrow(sub_res_editing_rate_08)),rep('GW12',times=nrow(sub_res_editing_rate_12)),\n",
    "                    rep('GW16_1_3',times=nrow(sub_res_editing_rate_16_1_3)),rep('GW16_1_4',times=nrow(sub_res_editing_rate_16_1_4)),\n",
    "                    rep('GW16_1_9',times=nrow(sub_res_editing_rate_16_1_9)),rep('GW19_1_1',times=nrow(sub_res_editing_rate_19_1_1)),\n",
    "                    rep('GW19_1_2',times=nrow(sub_res_editing_rate_19_1_2)),rep('GW19_1_3',times=nrow(sub_res_editing_rate_19_1_3)),\n",
    "                    rep('GW23_1_1',times=nrow(sub_res_editing_rate_23_1_1)),rep('GW23_1_2',times=nrow(sub_res_editing_rate_23_1_2)),\n",
    "                    rep('GW23_1_3',times=nrow(sub_res_editing_rate_23_1_3)),rep('GW26_1_1',times=nrow(sub_res_editing_rate_26_1_1_intersected)))\n",
    "group_info <- c(rep('GW08',times=nrow(sub_res_editing_rate_08)),rep('GW12',times=nrow(sub_res_editing_rate_12)),\n",
    "                    rep('GW16',times=nrow(sub_res_editing_rate_16_1_3)),rep('GW16',times=nrow(sub_res_editing_rate_16_1_4)),\n",
    "                    rep('GW16',times=nrow(sub_res_editing_rate_16_1_9)),rep('GW19',times=nrow(sub_res_editing_rate_19_1_1)),\n",
    "                    rep('GW19',times=nrow(sub_res_editing_rate_19_1_2)),rep('GW19',times=nrow(sub_res_editing_rate_19_1_3)),\n",
    "                    rep('GW23',times=nrow(sub_res_editing_rate_23_1_1)),rep('GW23',times=nrow(sub_res_editing_rate_23_1_2)),\n",
    "                    rep('GW23',times=nrow(sub_res_editing_rate_23_1_3)),rep('GW26',times=nrow(sub_res_editing_rate_26_1_1_intersected)))\n",
    "editing_level <- c(sub_res_editing_rate_08$editing_rate,sub_res_editing_rate_12$editing_rate,sub_res_editing_rate_16_1_3$editing_rate,\n",
    "                    sub_res_editing_rate_16_1_4$editing_rate,sub_res_editing_rate_16_1_9$editing_rate,sub_res_editing_rate_19_1_1$editing_rate,\n",
    "                    sub_res_editing_rate_19_1_2$editing_rate,sub_res_editing_rate_19_1_3$editing_rate,sub_res_editing_rate_23_1_1$editing_rate,\n",
    "                    sub_res_editing_rate_23_1_2$editing_rate,sub_res_editing_rate_23_1_3$editing_rate,sub_res_editing_rate_26_1_1_intersected$editing_rate)\n",
    "df <- as.data.frame(cbind(all_site,sample_info,group_info,editing_level))\n",
    "dim(df)\n",
    "pure_df <- df <- as.data.frame(cbind(all_site,sample_info,editing_level))"
   ]
  },
  {
   "cell_type": "code",
   "execution_count": 8,
   "metadata": {
    "vscode": {
     "languageId": "r"
    }
   },
   "outputs": [
    {
     "data": {
      "text/html": [
       "<style>\n",
       ".list-inline {list-style: none; margin:0; padding: 0}\n",
       ".list-inline>li {display: inline-block}\n",
       ".list-inline>li:not(:last-child)::after {content: \"\\00b7\"; padding: 0 .5ex}\n",
       "</style>\n",
       "<ol class=list-inline><li>11603</li><li>3</li></ol>\n"
      ],
      "text/latex": [
       "\\begin{enumerate*}\n",
       "\\item 11603\n",
       "\\item 3\n",
       "\\end{enumerate*}\n"
      ],
      "text/markdown": [
       "1. 11603\n",
       "2. 3\n",
       "\n",
       "\n"
      ],
      "text/plain": [
       "[1] 11603     3"
      ]
     },
     "metadata": {},
     "output_type": "display_data"
    },
    {
     "data": {
      "text/html": [
       "<style>\n",
       ".list-inline {list-style: none; margin:0; padding: 0}\n",
       ".list-inline>li {display: inline-block}\n",
       ".list-inline>li:not(:last-child)::after {content: \"\\00b7\"; padding: 0 .5ex}\n",
       "</style>\n",
       "<ol class=list-inline><li>11603</li><li>3</li></ol>\n"
      ],
      "text/latex": [
       "\\begin{enumerate*}\n",
       "\\item 11603\n",
       "\\item 3\n",
       "\\end{enumerate*}\n"
      ],
      "text/markdown": [
       "1. 11603\n",
       "2. 3\n",
       "\n",
       "\n"
      ],
      "text/plain": [
       "[1] 11603     3"
      ]
     },
     "metadata": {},
     "output_type": "display_data"
    }
   ],
   "source": [
    "dim(df)\n",
    "dim(pure_df)"
   ]
  },
  {
   "cell_type": "code",
   "execution_count": 9,
   "metadata": {
    "vscode": {
     "languageId": "r"
    }
   },
   "outputs": [
    {
     "data": {
      "text/html": [
       "<style>\n",
       ".list-inline {list-style: none; margin:0; padding: 0}\n",
       ".list-inline>li {display: inline-block}\n",
       ".list-inline>li:not(:last-child)::after {content: \"\\00b7\"; padding: 0 .5ex}\n",
       "</style>\n",
       "<ol class=list-inline><li>9446</li><li>13</li></ol>\n"
      ],
      "text/latex": [
       "\\begin{enumerate*}\n",
       "\\item 9446\n",
       "\\item 13\n",
       "\\end{enumerate*}\n"
      ],
      "text/markdown": [
       "1. 9446\n",
       "2. 13\n",
       "\n",
       "\n"
      ],
      "text/plain": [
       "[1] 9446   13"
      ]
     },
     "metadata": {},
     "output_type": "display_data"
    },
    {
     "data": {
      "text/html": [
       "<table class=\"dataframe\">\n",
       "<caption>A data.frame: 6 × 12</caption>\n",
       "<thead>\n",
       "\t<tr><th></th><th scope=col>GW08</th><th scope=col>GW12</th><th scope=col>GW16_1_3</th><th scope=col>GW16_1_4</th><th scope=col>GW16_1_9</th><th scope=col>GW19_1_1</th><th scope=col>GW19_1_2</th><th scope=col>GW19_1_3</th><th scope=col>GW23_1_1</th><th scope=col>GW23_1_2</th><th scope=col>GW23_1_3</th><th scope=col>GW26_1_1</th></tr>\n",
       "\t<tr><th></th><th scope=col>&lt;chr&gt;</th><th scope=col>&lt;chr&gt;</th><th scope=col>&lt;chr&gt;</th><th scope=col>&lt;chr&gt;</th><th scope=col>&lt;chr&gt;</th><th scope=col>&lt;chr&gt;</th><th scope=col>&lt;chr&gt;</th><th scope=col>&lt;chr&gt;</th><th scope=col>&lt;chr&gt;</th><th scope=col>&lt;chr&gt;</th><th scope=col>&lt;chr&gt;</th><th scope=col>&lt;chr&gt;</th></tr>\n",
       "</thead>\n",
       "<tbody>\n",
       "\t<tr><th scope=row>chr1_19585569</th><td>0.552631578947368</td><td>NA</td><td>NA               </td><td>NA</td><td>NA               </td><td>NA</td><td>NA</td><td>NA</td><td>NA</td><td>NA</td><td>NA</td><td>NA               </td></tr>\n",
       "\t<tr><th scope=row>chr1_19585571</th><td>0.594594594594595</td><td>NA</td><td>NA               </td><td>NA</td><td>NA               </td><td>NA</td><td>NA</td><td>NA</td><td>NA</td><td>NA</td><td>NA</td><td>NA               </td></tr>\n",
       "\t<tr><th scope=row>chr1_19585603</th><td>0.952380952380952</td><td>NA</td><td>NA               </td><td>NA</td><td>NA               </td><td>NA</td><td>NA</td><td>NA</td><td>NA</td><td>NA</td><td>NA</td><td>NA               </td></tr>\n",
       "\t<tr><th scope=row>chr1_145511929</th><td>0.521739130434783</td><td>NA</td><td>0.493827160493827</td><td>NA</td><td>0.857142857142857</td><td>NA</td><td>NA</td><td>NA</td><td>NA</td><td>NA</td><td>NA</td><td>NA               </td></tr>\n",
       "\t<tr><th scope=row>chr1_145511983</th><td>0.521739130434783</td><td>NA</td><td>NA               </td><td>NA</td><td>NA               </td><td>NA</td><td>NA</td><td>NA</td><td>NA</td><td>NA</td><td>NA</td><td>NA               </td></tr>\n",
       "\t<tr><th scope=row>chr1_145511992</th><td>0.5              </td><td>NA</td><td>NA               </td><td>NA</td><td>NA               </td><td>NA</td><td>NA</td><td>NA</td><td>NA</td><td>NA</td><td>NA</td><td>0.617283950617284</td></tr>\n",
       "</tbody>\n",
       "</table>\n"
      ],
      "text/latex": [
       "A data.frame: 6 × 12\n",
       "\\begin{tabular}{r|llllllllllll}\n",
       "  & GW08 & GW12 & GW16\\_1\\_3 & GW16\\_1\\_4 & GW16\\_1\\_9 & GW19\\_1\\_1 & GW19\\_1\\_2 & GW19\\_1\\_3 & GW23\\_1\\_1 & GW23\\_1\\_2 & GW23\\_1\\_3 & GW26\\_1\\_1\\\\\n",
       "  & <chr> & <chr> & <chr> & <chr> & <chr> & <chr> & <chr> & <chr> & <chr> & <chr> & <chr> & <chr>\\\\\n",
       "\\hline\n",
       "\tchr1\\_19585569 & 0.552631578947368 & NA & NA                & NA & NA                & NA & NA & NA & NA & NA & NA & NA               \\\\\n",
       "\tchr1\\_19585571 & 0.594594594594595 & NA & NA                & NA & NA                & NA & NA & NA & NA & NA & NA & NA               \\\\\n",
       "\tchr1\\_19585603 & 0.952380952380952 & NA & NA                & NA & NA                & NA & NA & NA & NA & NA & NA & NA               \\\\\n",
       "\tchr1\\_145511929 & 0.521739130434783 & NA & 0.493827160493827 & NA & 0.857142857142857 & NA & NA & NA & NA & NA & NA & NA               \\\\\n",
       "\tchr1\\_145511983 & 0.521739130434783 & NA & NA                & NA & NA                & NA & NA & NA & NA & NA & NA & NA               \\\\\n",
       "\tchr1\\_145511992 & 0.5               & NA & NA                & NA & NA                & NA & NA & NA & NA & NA & NA & 0.617283950617284\\\\\n",
       "\\end{tabular}\n"
      ],
      "text/markdown": [
       "\n",
       "A data.frame: 6 × 12\n",
       "\n",
       "| <!--/--> | GW08 &lt;chr&gt; | GW12 &lt;chr&gt; | GW16_1_3 &lt;chr&gt; | GW16_1_4 &lt;chr&gt; | GW16_1_9 &lt;chr&gt; | GW19_1_1 &lt;chr&gt; | GW19_1_2 &lt;chr&gt; | GW19_1_3 &lt;chr&gt; | GW23_1_1 &lt;chr&gt; | GW23_1_2 &lt;chr&gt; | GW23_1_3 &lt;chr&gt; | GW26_1_1 &lt;chr&gt; |\n",
       "|---|---|---|---|---|---|---|---|---|---|---|---|---|\n",
       "| chr1_19585569 | 0.552631578947368 | NA | NA                | NA | NA                | NA | NA | NA | NA | NA | NA | NA                |\n",
       "| chr1_19585571 | 0.594594594594595 | NA | NA                | NA | NA                | NA | NA | NA | NA | NA | NA | NA                |\n",
       "| chr1_19585603 | 0.952380952380952 | NA | NA                | NA | NA                | NA | NA | NA | NA | NA | NA | NA                |\n",
       "| chr1_145511929 | 0.521739130434783 | NA | 0.493827160493827 | NA | 0.857142857142857 | NA | NA | NA | NA | NA | NA | NA                |\n",
       "| chr1_145511983 | 0.521739130434783 | NA | NA                | NA | NA                | NA | NA | NA | NA | NA | NA | NA                |\n",
       "| chr1_145511992 | 0.5               | NA | NA                | NA | NA                | NA | NA | NA | NA | NA | NA | 0.617283950617284 |\n",
       "\n"
      ],
      "text/plain": [
       "               GW08              GW12 GW16_1_3          GW16_1_4\n",
       "chr1_19585569  0.552631578947368 NA   NA                NA      \n",
       "chr1_19585571  0.594594594594595 NA   NA                NA      \n",
       "chr1_19585603  0.952380952380952 NA   NA                NA      \n",
       "chr1_145511929 0.521739130434783 NA   0.493827160493827 NA      \n",
       "chr1_145511983 0.521739130434783 NA   NA                NA      \n",
       "chr1_145511992 0.5               NA   NA                NA      \n",
       "               GW16_1_9          GW19_1_1 GW19_1_2 GW19_1_3 GW23_1_1 GW23_1_2\n",
       "chr1_19585569  NA                NA       NA       NA       NA       NA      \n",
       "chr1_19585571  NA                NA       NA       NA       NA       NA      \n",
       "chr1_19585603  NA                NA       NA       NA       NA       NA      \n",
       "chr1_145511929 0.857142857142857 NA       NA       NA       NA       NA      \n",
       "chr1_145511983 NA                NA       NA       NA       NA       NA      \n",
       "chr1_145511992 NA                NA       NA       NA       NA       NA      \n",
       "               GW23_1_3 GW26_1_1         \n",
       "chr1_19585569  NA       NA               \n",
       "chr1_19585571  NA       NA               \n",
       "chr1_19585603  NA       NA               \n",
       "chr1_145511929 NA       NA               \n",
       "chr1_145511983 NA       NA               \n",
       "chr1_145511992 NA       0.617283950617284"
      ]
     },
     "metadata": {},
     "output_type": "display_data"
    },
    {
     "data": {
      "text/html": [
       "<table class=\"dataframe\">\n",
       "<caption>A data.frame: 6 × 12</caption>\n",
       "<thead>\n",
       "\t<tr><th></th><th scope=col>GW08</th><th scope=col>GW12</th><th scope=col>GW16_1_3</th><th scope=col>GW16_1_4</th><th scope=col>GW16_1_9</th><th scope=col>GW19_1_1</th><th scope=col>GW19_1_2</th><th scope=col>GW19_1_3</th><th scope=col>GW23_1_1</th><th scope=col>GW23_1_2</th><th scope=col>GW23_1_3</th><th scope=col>GW26_1_1</th></tr>\n",
       "\t<tr><th></th><th scope=col>&lt;chr&gt;</th><th scope=col>&lt;chr&gt;</th><th scope=col>&lt;chr&gt;</th><th scope=col>&lt;chr&gt;</th><th scope=col>&lt;chr&gt;</th><th scope=col>&lt;chr&gt;</th><th scope=col>&lt;chr&gt;</th><th scope=col>&lt;chr&gt;</th><th scope=col>&lt;chr&gt;</th><th scope=col>&lt;chr&gt;</th><th scope=col>&lt;chr&gt;</th><th scope=col>&lt;chr&gt;</th></tr>\n",
       "</thead>\n",
       "<tbody>\n",
       "\t<tr><th scope=row>chr1_19585569</th><td>0.552631578947368</td><td>0</td><td>0                </td><td>0</td><td>0                </td><td>0</td><td>0</td><td>0</td><td>0</td><td>0</td><td>0</td><td>0                </td></tr>\n",
       "\t<tr><th scope=row>chr1_19585571</th><td>0.594594594594595</td><td>0</td><td>0                </td><td>0</td><td>0                </td><td>0</td><td>0</td><td>0</td><td>0</td><td>0</td><td>0</td><td>0                </td></tr>\n",
       "\t<tr><th scope=row>chr1_19585603</th><td>0.952380952380952</td><td>0</td><td>0                </td><td>0</td><td>0                </td><td>0</td><td>0</td><td>0</td><td>0</td><td>0</td><td>0</td><td>0                </td></tr>\n",
       "\t<tr><th scope=row>chr1_145511929</th><td>0.521739130434783</td><td>0</td><td>0.493827160493827</td><td>0</td><td>0.857142857142857</td><td>0</td><td>0</td><td>0</td><td>0</td><td>0</td><td>0</td><td>0                </td></tr>\n",
       "\t<tr><th scope=row>chr1_145511983</th><td>0.521739130434783</td><td>0</td><td>0                </td><td>0</td><td>0                </td><td>0</td><td>0</td><td>0</td><td>0</td><td>0</td><td>0</td><td>0                </td></tr>\n",
       "\t<tr><th scope=row>chr1_145511992</th><td>0.5              </td><td>0</td><td>0                </td><td>0</td><td>0                </td><td>0</td><td>0</td><td>0</td><td>0</td><td>0</td><td>0</td><td>0.617283950617284</td></tr>\n",
       "</tbody>\n",
       "</table>\n"
      ],
      "text/latex": [
       "A data.frame: 6 × 12\n",
       "\\begin{tabular}{r|llllllllllll}\n",
       "  & GW08 & GW12 & GW16\\_1\\_3 & GW16\\_1\\_4 & GW16\\_1\\_9 & GW19\\_1\\_1 & GW19\\_1\\_2 & GW19\\_1\\_3 & GW23\\_1\\_1 & GW23\\_1\\_2 & GW23\\_1\\_3 & GW26\\_1\\_1\\\\\n",
       "  & <chr> & <chr> & <chr> & <chr> & <chr> & <chr> & <chr> & <chr> & <chr> & <chr> & <chr> & <chr>\\\\\n",
       "\\hline\n",
       "\tchr1\\_19585569 & 0.552631578947368 & 0 & 0                 & 0 & 0                 & 0 & 0 & 0 & 0 & 0 & 0 & 0                \\\\\n",
       "\tchr1\\_19585571 & 0.594594594594595 & 0 & 0                 & 0 & 0                 & 0 & 0 & 0 & 0 & 0 & 0 & 0                \\\\\n",
       "\tchr1\\_19585603 & 0.952380952380952 & 0 & 0                 & 0 & 0                 & 0 & 0 & 0 & 0 & 0 & 0 & 0                \\\\\n",
       "\tchr1\\_145511929 & 0.521739130434783 & 0 & 0.493827160493827 & 0 & 0.857142857142857 & 0 & 0 & 0 & 0 & 0 & 0 & 0                \\\\\n",
       "\tchr1\\_145511983 & 0.521739130434783 & 0 & 0                 & 0 & 0                 & 0 & 0 & 0 & 0 & 0 & 0 & 0                \\\\\n",
       "\tchr1\\_145511992 & 0.5               & 0 & 0                 & 0 & 0                 & 0 & 0 & 0 & 0 & 0 & 0 & 0.617283950617284\\\\\n",
       "\\end{tabular}\n"
      ],
      "text/markdown": [
       "\n",
       "A data.frame: 6 × 12\n",
       "\n",
       "| <!--/--> | GW08 &lt;chr&gt; | GW12 &lt;chr&gt; | GW16_1_3 &lt;chr&gt; | GW16_1_4 &lt;chr&gt; | GW16_1_9 &lt;chr&gt; | GW19_1_1 &lt;chr&gt; | GW19_1_2 &lt;chr&gt; | GW19_1_3 &lt;chr&gt; | GW23_1_1 &lt;chr&gt; | GW23_1_2 &lt;chr&gt; | GW23_1_3 &lt;chr&gt; | GW26_1_1 &lt;chr&gt; |\n",
       "|---|---|---|---|---|---|---|---|---|---|---|---|---|\n",
       "| chr1_19585569 | 0.552631578947368 | 0 | 0                 | 0 | 0                 | 0 | 0 | 0 | 0 | 0 | 0 | 0                 |\n",
       "| chr1_19585571 | 0.594594594594595 | 0 | 0                 | 0 | 0                 | 0 | 0 | 0 | 0 | 0 | 0 | 0                 |\n",
       "| chr1_19585603 | 0.952380952380952 | 0 | 0                 | 0 | 0                 | 0 | 0 | 0 | 0 | 0 | 0 | 0                 |\n",
       "| chr1_145511929 | 0.521739130434783 | 0 | 0.493827160493827 | 0 | 0.857142857142857 | 0 | 0 | 0 | 0 | 0 | 0 | 0                 |\n",
       "| chr1_145511983 | 0.521739130434783 | 0 | 0                 | 0 | 0                 | 0 | 0 | 0 | 0 | 0 | 0 | 0                 |\n",
       "| chr1_145511992 | 0.5               | 0 | 0                 | 0 | 0                 | 0 | 0 | 0 | 0 | 0 | 0 | 0.617283950617284 |\n",
       "\n"
      ],
      "text/plain": [
       "               GW08              GW12 GW16_1_3          GW16_1_4\n",
       "chr1_19585569  0.552631578947368 0    0                 0       \n",
       "chr1_19585571  0.594594594594595 0    0                 0       \n",
       "chr1_19585603  0.952380952380952 0    0                 0       \n",
       "chr1_145511929 0.521739130434783 0    0.493827160493827 0       \n",
       "chr1_145511983 0.521739130434783 0    0                 0       \n",
       "chr1_145511992 0.5               0    0                 0       \n",
       "               GW16_1_9          GW19_1_1 GW19_1_2 GW19_1_3 GW23_1_1 GW23_1_2\n",
       "chr1_19585569  0                 0        0        0        0        0       \n",
       "chr1_19585571  0                 0        0        0        0        0       \n",
       "chr1_19585603  0                 0        0        0        0        0       \n",
       "chr1_145511929 0.857142857142857 0        0        0        0        0       \n",
       "chr1_145511983 0                 0        0        0        0        0       \n",
       "chr1_145511992 0                 0        0        0        0        0       \n",
       "               GW23_1_3 GW26_1_1         \n",
       "chr1_19585569  0        0                \n",
       "chr1_19585571  0        0                \n",
       "chr1_19585603  0        0                \n",
       "chr1_145511929 0        0                \n",
       "chr1_145511983 0        0                \n",
       "chr1_145511992 0        0.617283950617284"
      ]
     },
     "metadata": {},
     "output_type": "display_data"
    }
   ],
   "source": [
    "# 使用pivot_wider函数进行转换\n",
    "wide_df <- pivot_wider(pure_df, names_from = \"sample_info\", values_from = \"editing_level\")\n",
    "dim(wide_df)\n",
    "data <- as.data.frame(wide_df)\n",
    "rownames(data) <- data$all_site\n",
    "data <- data[,-1]\n",
    "head(data)\n",
    "data[is.na(data)] <- 0\n",
    "# 查看转换后的数据框\n",
    "head(data)"
   ]
  },
  {
   "cell_type": "code",
   "execution_count": 10,
   "metadata": {
    "vscode": {
     "languageId": "r"
    }
   },
   "outputs": [
    {
     "data": {
      "text/html": [
       "11603"
      ],
      "text/latex": [
       "11603"
      ],
      "text/markdown": [
       "11603"
      ],
      "text/plain": [
       "[1] 11603"
      ]
     },
     "metadata": {},
     "output_type": "display_data"
    }
   ],
   "source": [
    "length(pure_df$all_site)"
   ]
  },
  {
   "cell_type": "code",
   "execution_count": 11,
   "metadata": {
    "vscode": {
     "languageId": "r"
    }
   },
   "outputs": [],
   "source": [
    "p_values <- c()\n",
    "for(site in rownames(data)){\n",
    "    sub_sample_data <- as.data.frame(cbind(c('GW08','GW12',rep('GW16',3),rep('GW19',3),rep('GW23',3),'GW26'),colnames(data), as.numeric(data[site,])))\n",
    "    colnames(sub_sample_data) <- c(\"group\",\"sample\",'editing_rate')\n",
    "    sub_sample_data$group <- factor(sub_sample_data$group)\n",
    "    #head(sub_sample_data)\n",
    "    result <- aov(editing_rate~group,sub_sample_data)\n",
    "    p_value <- summary(result)[[1]][[\"Pr(>F)\"]][1]\n",
    "    p_values <- c(p_values,p_value) \n",
    "}\n"
   ]
  },
  {
   "cell_type": "code",
   "execution_count": 12,
   "metadata": {
    "vscode": {
     "languageId": "r"
    }
   },
   "outputs": [
    {
     "data": {
      "text/plain": [
       "\n",
       "FALSE  TRUE \n",
       " 8870   576 "
      ]
     },
     "metadata": {},
     "output_type": "display_data"
    },
    {
     "data": {
      "text/html": [
       "9446"
      ],
      "text/latex": [
       "9446"
      ],
      "text/markdown": [
       "9446"
      ],
      "text/plain": [
       "[1] 9446"
      ]
     },
     "metadata": {},
     "output_type": "display_data"
    }
   ],
   "source": [
    "fdr_adjusted_p_values <- p.adjust(p_values, method = \"BH\")\n",
    "table(fdr_adjusted_p_values < 0.05)\n",
    "length(fdr_adjusted_p_values)"
   ]
  },
  {
   "cell_type": "code",
   "execution_count": 13,
   "metadata": {
    "vscode": {
     "languageId": "r"
    }
   },
   "outputs": [
    {
     "data": {
      "text/html": [
       "<style>\n",
       ".list-inline {list-style: none; margin:0; padding: 0}\n",
       ".list-inline>li {display: inline-block}\n",
       ".list-inline>li:not(:last-child)::after {content: \"\\00b7\"; padding: 0 .5ex}\n",
       "</style>\n",
       "<ol class=list-inline><li>576</li><li>12</li></ol>\n"
      ],
      "text/latex": [
       "\\begin{enumerate*}\n",
       "\\item 576\n",
       "\\item 12\n",
       "\\end{enumerate*}\n"
      ],
      "text/markdown": [
       "1. 576\n",
       "2. 12\n",
       "\n",
       "\n"
      ],
      "text/plain": [
       "[1] 576  12"
      ]
     },
     "metadata": {},
     "output_type": "display_data"
    }
   ],
   "source": [
    "#对差异编辑的位点进行热图展示\n",
    "de_data <- data[rownames(data)[fdr_adjusted_p_values < 0.05],]\n",
    "dim(de_data)"
   ]
  },
  {
   "cell_type": "code",
   "execution_count": 14,
   "metadata": {
    "vscode": {
     "languageId": "r"
    }
   },
   "outputs": [],
   "source": [
    "de_data$GW08 <- as.numeric(de_data$GW08)\n",
    "de_data$GW12 <- as.numeric(de_data$GW12)\n",
    "de_data$GW16_1_3 <- as.numeric(de_data$GW16_1_3)\n",
    "de_data$GW16_1_4 <- as.numeric(de_data$GW16_1_4)\n",
    "de_data$GW16_1_9 <- as.numeric(de_data$GW16_1_9)\n",
    "de_data$GW19_1_1 <- as.numeric(de_data$GW19_1_1)\n",
    "de_data$GW19_1_2 <- as.numeric(de_data$GW19_1_2)\n",
    "de_data$GW19_1_3 <- as.numeric(de_data$GW19_1_3)\n",
    "de_data$GW23_1_1 <- as.numeric(de_data$GW23_1_1)\n",
    "de_data$GW23_1_2 <- as.numeric(de_data$GW23_1_2)\n",
    "de_data$GW23_1_3 <- as.numeric(de_data$GW23_1_3)\n",
    "de_data$GW26_1_1 <- as.numeric(de_data$GW26_1_1)\n",
    "\n"
   ]
  },
  {
   "cell_type": "code",
   "execution_count": 15,
   "metadata": {
    "vscode": {
     "languageId": "r"
    }
   },
   "outputs": [
    {
     "data": {
      "text/html": [
       "<table class=\"dataframe\">\n",
       "<caption>A data.frame: 6 × 14</caption>\n",
       "<thead>\n",
       "\t<tr><th></th><th scope=col>GW08</th><th scope=col>GW12</th><th scope=col>GW16_1_3</th><th scope=col>GW16_1_4</th><th scope=col>GW16_1_9</th><th scope=col>GW19_1_1</th><th scope=col>GW19_1_2</th><th scope=col>GW19_1_3</th><th scope=col>GW23_1_1</th><th scope=col>GW23_1_2</th><th scope=col>GW23_1_3</th><th scope=col>GW26_1_1</th><th scope=col>p_value</th><th scope=col>adjust_p</th></tr>\n",
       "\t<tr><th></th><th scope=col>&lt;chr&gt;</th><th scope=col>&lt;chr&gt;</th><th scope=col>&lt;chr&gt;</th><th scope=col>&lt;chr&gt;</th><th scope=col>&lt;chr&gt;</th><th scope=col>&lt;chr&gt;</th><th scope=col>&lt;chr&gt;</th><th scope=col>&lt;chr&gt;</th><th scope=col>&lt;chr&gt;</th><th scope=col>&lt;chr&gt;</th><th scope=col>&lt;chr&gt;</th><th scope=col>&lt;chr&gt;</th><th scope=col>&lt;dbl&gt;</th><th scope=col>&lt;dbl&gt;</th></tr>\n",
       "</thead>\n",
       "<tbody>\n",
       "\t<tr><th scope=row>chr1_19585569</th><td>0.552631578947368</td><td>0</td><td>0                </td><td>0</td><td>0                </td><td>0</td><td>0</td><td>0</td><td>0</td><td>0</td><td>0</td><td>0                </td><td>3.136243e-94</td><td>5.948785e-93</td></tr>\n",
       "\t<tr><th scope=row>chr1_19585571</th><td>0.594594594594595</td><td>0</td><td>0                </td><td>0</td><td>0                </td><td>0</td><td>0</td><td>0</td><td>0</td><td>0</td><td>0</td><td>0                </td><td>8.032454e-96</td><td>1.604113e-94</td></tr>\n",
       "\t<tr><th scope=row>chr1_19585603</th><td>0.952380952380952</td><td>0</td><td>0                </td><td>0</td><td>0                </td><td>0</td><td>0</td><td>0</td><td>0</td><td>0</td><td>0</td><td>0                </td><td>6.924410e-94</td><td>1.282509e-92</td></tr>\n",
       "\t<tr><th scope=row>chr1_145511929</th><td>0.521739130434783</td><td>0</td><td>0.493827160493827</td><td>0</td><td>0.857142857142857</td><td>0</td><td>0</td><td>0</td><td>0</td><td>0</td><td>0</td><td>0                </td><td>2.272534e-01</td><td>8.292350e-01</td></tr>\n",
       "\t<tr><th scope=row>chr1_145511983</th><td>0.521739130434783</td><td>0</td><td>0                </td><td>0</td><td>0                </td><td>0</td><td>0</td><td>0</td><td>0</td><td>0</td><td>0</td><td>0                </td><td>3.273267e-93</td><td>5.889387e-92</td></tr>\n",
       "\t<tr><th scope=row>chr1_145511992</th><td>0.5              </td><td>0</td><td>0                </td><td>0</td><td>0                </td><td>0</td><td>0</td><td>0</td><td>0</td><td>0</td><td>0</td><td>0.617283950617284</td><td>1.005671e-97</td><td>2.078680e-96</td></tr>\n",
       "</tbody>\n",
       "</table>\n"
      ],
      "text/latex": [
       "A data.frame: 6 × 14\n",
       "\\begin{tabular}{r|llllllllllllll}\n",
       "  & GW08 & GW12 & GW16\\_1\\_3 & GW16\\_1\\_4 & GW16\\_1\\_9 & GW19\\_1\\_1 & GW19\\_1\\_2 & GW19\\_1\\_3 & GW23\\_1\\_1 & GW23\\_1\\_2 & GW23\\_1\\_3 & GW26\\_1\\_1 & p\\_value & adjust\\_p\\\\\n",
       "  & <chr> & <chr> & <chr> & <chr> & <chr> & <chr> & <chr> & <chr> & <chr> & <chr> & <chr> & <chr> & <dbl> & <dbl>\\\\\n",
       "\\hline\n",
       "\tchr1\\_19585569 & 0.552631578947368 & 0 & 0                 & 0 & 0                 & 0 & 0 & 0 & 0 & 0 & 0 & 0                 & 3.136243e-94 & 5.948785e-93\\\\\n",
       "\tchr1\\_19585571 & 0.594594594594595 & 0 & 0                 & 0 & 0                 & 0 & 0 & 0 & 0 & 0 & 0 & 0                 & 8.032454e-96 & 1.604113e-94\\\\\n",
       "\tchr1\\_19585603 & 0.952380952380952 & 0 & 0                 & 0 & 0                 & 0 & 0 & 0 & 0 & 0 & 0 & 0                 & 6.924410e-94 & 1.282509e-92\\\\\n",
       "\tchr1\\_145511929 & 0.521739130434783 & 0 & 0.493827160493827 & 0 & 0.857142857142857 & 0 & 0 & 0 & 0 & 0 & 0 & 0                 & 2.272534e-01 & 8.292350e-01\\\\\n",
       "\tchr1\\_145511983 & 0.521739130434783 & 0 & 0                 & 0 & 0                 & 0 & 0 & 0 & 0 & 0 & 0 & 0                 & 3.273267e-93 & 5.889387e-92\\\\\n",
       "\tchr1\\_145511992 & 0.5               & 0 & 0                 & 0 & 0                 & 0 & 0 & 0 & 0 & 0 & 0 & 0.617283950617284 & 1.005671e-97 & 2.078680e-96\\\\\n",
       "\\end{tabular}\n"
      ],
      "text/markdown": [
       "\n",
       "A data.frame: 6 × 14\n",
       "\n",
       "| <!--/--> | GW08 &lt;chr&gt; | GW12 &lt;chr&gt; | GW16_1_3 &lt;chr&gt; | GW16_1_4 &lt;chr&gt; | GW16_1_9 &lt;chr&gt; | GW19_1_1 &lt;chr&gt; | GW19_1_2 &lt;chr&gt; | GW19_1_3 &lt;chr&gt; | GW23_1_1 &lt;chr&gt; | GW23_1_2 &lt;chr&gt; | GW23_1_3 &lt;chr&gt; | GW26_1_1 &lt;chr&gt; | p_value &lt;dbl&gt; | adjust_p &lt;dbl&gt; |\n",
       "|---|---|---|---|---|---|---|---|---|---|---|---|---|---|---|\n",
       "| chr1_19585569 | 0.552631578947368 | 0 | 0                 | 0 | 0                 | 0 | 0 | 0 | 0 | 0 | 0 | 0                 | 3.136243e-94 | 5.948785e-93 |\n",
       "| chr1_19585571 | 0.594594594594595 | 0 | 0                 | 0 | 0                 | 0 | 0 | 0 | 0 | 0 | 0 | 0                 | 8.032454e-96 | 1.604113e-94 |\n",
       "| chr1_19585603 | 0.952380952380952 | 0 | 0                 | 0 | 0                 | 0 | 0 | 0 | 0 | 0 | 0 | 0                 | 6.924410e-94 | 1.282509e-92 |\n",
       "| chr1_145511929 | 0.521739130434783 | 0 | 0.493827160493827 | 0 | 0.857142857142857 | 0 | 0 | 0 | 0 | 0 | 0 | 0                 | 2.272534e-01 | 8.292350e-01 |\n",
       "| chr1_145511983 | 0.521739130434783 | 0 | 0                 | 0 | 0                 | 0 | 0 | 0 | 0 | 0 | 0 | 0                 | 3.273267e-93 | 5.889387e-92 |\n",
       "| chr1_145511992 | 0.5               | 0 | 0                 | 0 | 0                 | 0 | 0 | 0 | 0 | 0 | 0 | 0.617283950617284 | 1.005671e-97 | 2.078680e-96 |\n",
       "\n"
      ],
      "text/plain": [
       "               GW08              GW12 GW16_1_3          GW16_1_4\n",
       "chr1_19585569  0.552631578947368 0    0                 0       \n",
       "chr1_19585571  0.594594594594595 0    0                 0       \n",
       "chr1_19585603  0.952380952380952 0    0                 0       \n",
       "chr1_145511929 0.521739130434783 0    0.493827160493827 0       \n",
       "chr1_145511983 0.521739130434783 0    0                 0       \n",
       "chr1_145511992 0.5               0    0                 0       \n",
       "               GW16_1_9          GW19_1_1 GW19_1_2 GW19_1_3 GW23_1_1 GW23_1_2\n",
       "chr1_19585569  0                 0        0        0        0        0       \n",
       "chr1_19585571  0                 0        0        0        0        0       \n",
       "chr1_19585603  0                 0        0        0        0        0       \n",
       "chr1_145511929 0.857142857142857 0        0        0        0        0       \n",
       "chr1_145511983 0                 0        0        0        0        0       \n",
       "chr1_145511992 0                 0        0        0        0        0       \n",
       "               GW23_1_3 GW26_1_1          p_value      adjust_p    \n",
       "chr1_19585569  0        0                 3.136243e-94 5.948785e-93\n",
       "chr1_19585571  0        0                 8.032454e-96 1.604113e-94\n",
       "chr1_19585603  0        0                 6.924410e-94 1.282509e-92\n",
       "chr1_145511929 0        0                 2.272534e-01 8.292350e-01\n",
       "chr1_145511983 0        0                 3.273267e-93 5.889387e-92\n",
       "chr1_145511992 0        0.617283950617284 1.005671e-97 2.078680e-96"
      ]
     },
     "metadata": {},
     "output_type": "display_data"
    }
   ],
   "source": [
    "all_edited_sites_with_p_values <- data\n",
    "all_edited_sites_with_p_values$p_value <- p_values\n",
    "all_edited_sites_with_p_values$adjust_p <- fdr_adjusted_p_values\n",
    "head(all_edited_sites_with_p_values)"
   ]
  },
  {
   "cell_type": "code",
   "execution_count": 19,
   "metadata": {
    "vscode": {
     "languageId": "r"
    }
   },
   "outputs": [],
   "source": [
    "write.table(all_edited_sites_with_p_values,\"/disk1/wenqing/tmp_data/PFC_s2/all_analysis_result/de_editing/all_edited_sites_with_p_values_with1.txt\",quote=F,sep='\\t')"
   ]
  },
  {
   "cell_type": "code",
   "execution_count": 16,
   "metadata": {
    "vscode": {
     "languageId": "r"
    }
   },
   "outputs": [
    {
     "data": {
      "text/html": [
       "<table class=\"dataframe\">\n",
       "<caption>A data.frame: 12 × 1</caption>\n",
       "<thead>\n",
       "\t<tr><th></th><th scope=col>stages</th></tr>\n",
       "\t<tr><th></th><th scope=col>&lt;chr&gt;</th></tr>\n",
       "</thead>\n",
       "<tbody>\n",
       "\t<tr><th scope=row>GW08</th><td>week8 </td></tr>\n",
       "\t<tr><th scope=row>GW12</th><td>week12</td></tr>\n",
       "\t<tr><th scope=row>GW16_1_3</th><td>week16</td></tr>\n",
       "\t<tr><th scope=row>GW16_1_4</th><td>week16</td></tr>\n",
       "\t<tr><th scope=row>GW16_1_9</th><td>week16</td></tr>\n",
       "\t<tr><th scope=row>GW19_1_1</th><td>week19</td></tr>\n",
       "\t<tr><th scope=row>GW19_1_2</th><td>week19</td></tr>\n",
       "\t<tr><th scope=row>GW19_1_3</th><td>week19</td></tr>\n",
       "\t<tr><th scope=row>GW23_1_1</th><td>week23</td></tr>\n",
       "\t<tr><th scope=row>GW23_1_2</th><td>week23</td></tr>\n",
       "\t<tr><th scope=row>GW23_1_3</th><td>week23</td></tr>\n",
       "\t<tr><th scope=row>GW26_1_1</th><td>week26</td></tr>\n",
       "</tbody>\n",
       "</table>\n"
      ],
      "text/latex": [
       "A data.frame: 12 × 1\n",
       "\\begin{tabular}{r|l}\n",
       "  & stages\\\\\n",
       "  & <chr>\\\\\n",
       "\\hline\n",
       "\tGW08 & week8 \\\\\n",
       "\tGW12 & week12\\\\\n",
       "\tGW16\\_1\\_3 & week16\\\\\n",
       "\tGW16\\_1\\_4 & week16\\\\\n",
       "\tGW16\\_1\\_9 & week16\\\\\n",
       "\tGW19\\_1\\_1 & week19\\\\\n",
       "\tGW19\\_1\\_2 & week19\\\\\n",
       "\tGW19\\_1\\_3 & week19\\\\\n",
       "\tGW23\\_1\\_1 & week23\\\\\n",
       "\tGW23\\_1\\_2 & week23\\\\\n",
       "\tGW23\\_1\\_3 & week23\\\\\n",
       "\tGW26\\_1\\_1 & week26\\\\\n",
       "\\end{tabular}\n"
      ],
      "text/markdown": [
       "\n",
       "A data.frame: 12 × 1\n",
       "\n",
       "| <!--/--> | stages &lt;chr&gt; |\n",
       "|---|---|\n",
       "| GW08 | week8  |\n",
       "| GW12 | week12 |\n",
       "| GW16_1_3 | week16 |\n",
       "| GW16_1_4 | week16 |\n",
       "| GW16_1_9 | week16 |\n",
       "| GW19_1_1 | week19 |\n",
       "| GW19_1_2 | week19 |\n",
       "| GW19_1_3 | week19 |\n",
       "| GW23_1_1 | week23 |\n",
       "| GW23_1_2 | week23 |\n",
       "| GW23_1_3 | week23 |\n",
       "| GW26_1_1 | week26 |\n",
       "\n"
      ],
      "text/plain": [
       "         stages\n",
       "GW08     week8 \n",
       "GW12     week12\n",
       "GW16_1_3 week16\n",
       "GW16_1_4 week16\n",
       "GW16_1_9 week16\n",
       "GW19_1_1 week19\n",
       "GW19_1_2 week19\n",
       "GW19_1_3 week19\n",
       "GW23_1_1 week23\n",
       "GW23_1_2 week23\n",
       "GW23_1_3 week23\n",
       "GW26_1_1 week26"
      ]
     },
     "metadata": {},
     "output_type": "display_data"
    }
   ],
   "source": [
    "my_palette <- colorRampPalette(c(\"green\", \"red\"))(n = 100)  # 创建自定义颜色梯度，100级颜色 \n",
    "annotation_col = data.frame(\n",
    "  stages = c('week8','week12',rep('week16',3),rep('week19',3),rep('week23',3),'week26')\n",
    "  #color = c('blue','yellow',rep('purple',3),rep('red',3),rep('orange',3),'black')\n",
    ")\n",
    "rownames(annotation_col) = colnames(de_data)\n",
    "annotation_col\n",
    "color_mapping <- list(stages=c(week8 = \"blue\", week12 = \"yellow\", week16 = \"purple\", week19 = 'red', week23 = 'orange', week26 = 'black')) "
   ]
  },
  {
   "cell_type": "code",
   "execution_count": 17,
   "metadata": {
    "vscode": {
     "languageId": "r"
    }
   },
   "outputs": [
    {
     "data": {
      "image/png": "[encoded data removed]",
      "text/plain": [
       "plot without title"
      ]
     },
     "metadata": {
      "image/png": {
       "height": 420,
       "width": 420
      }
     },
     "output_type": "display_data"
    }
   ],
   "source": [
    "#pdf(\"/disk1/wenqing/tmp_data/PFC_s2/all_analysis_result/de_editing/de_edited_sites.pdf\")\n",
    "pheatmap_result <- pheatmap(de_data,\n",
    "         cluster_cols = FALSE,\n",
    "         cluster_rows = TRUE,\n",
    "         show_colnames = TRUE,\n",
    "         show_rownames = FALSE,\n",
    "         #cellheight = 0.5,\n",
    "         color = my_palette,\n",
    "         #fontsize_row = 6,          # 行标签字体大小\n",
    "         fontsize_col = 13,          # 列标签字体大小\n",
    "         border_color = \"white\",    # 边框颜色\n",
    "         cell_border_color = \"grey\", # 单元格边框颜色\n",
    "         #alpha = 0.8,             # 颜色透明度\n",
    "         treeheight_row = 0,\n",
    "         annotation_col = annotation_col,\n",
    "         annotation_colors =  color_mapping,\n",
    "         annotation_legend = FALSE, \n",
    "         annotation_names_col = TRUE,# 添加列注释\n",
    "         main = \"Differently edited RES along developmental stages\",\n",
    "         #main = \"Customized Heatmap\", # 图表标题\n",
    "         #legend_breaks = seq(min(de_data), max(de_data), length.out = 5), # 图例刻度\n",
    "         legend_labels = 'Editing rate' # 图例标签\n",
    ")\n",
    "#dev.off()\n",
    "#mtext(\"My X-axis Label\", side = 1, line = 2.5, cex = 1.2) "
   ]
  },
  {
   "cell_type": "code",
   "execution_count": 18,
   "metadata": {
    "vscode": {
     "languageId": "r"
    }
   },
   "outputs": [
    {
     "name": "stderr",
     "output_type": "stream",
     "text": [
      "\n",
      "---------------------\n",
      "Welcome to dendextend version 1.17.1\n",
      "Type citation('dendextend') for how to cite the package.\n",
      "\n",
      "Type browseVignettes(package = 'dendextend') for the package vignette.\n",
      "The github page is: https://github.com/talgalili/dendextend/\n",
      "\n",
      "Suggestions and bug-reports can be submitted at: https://github.com/talgalili/dendextend/issues\n",
      "You may ask questions at stackoverflow, use the r and dendextend tags: \n",
      "\t https://stackoverflow.com/questions/tagged/dendextend\n",
      "\n",
      "\tTo suppress this message use:  suppressPackageStartupMessages(library(dendextend))\n",
      "---------------------\n",
      "\n",
      "\n",
      "\n",
      "Attaching package: ‘dendextend’\n",
      "\n",
      "\n",
      "The following object is masked from ‘package:stats’:\n",
      "\n",
      "    cutree\n",
      "\n",
      "\n",
      "\n",
      "Attaching package: ‘ape’\n",
      "\n",
      "\n",
      "The following objects are masked from ‘package:dendextend’:\n",
      "\n",
      "    ladderize, rotate\n",
      "\n",
      "\n",
      "The following object is masked from ‘package:dplyr’:\n",
      "\n",
      "    where\n",
      "\n",
      "\n",
      "Welcome! Want to learn more? See two factoextra-related books at https://goo.gl/ve3WBa\n",
      "\n"
     ]
    }
   ],
   "source": [
    "######对差异编辑位点分簇\n",
    "# 加载必要的库\n",
    "library(cluster) # 可能需要安装这个包来进行聚类分析\n",
    "library(dendextend)\n",
    "library(ape)\n",
    "library(factoextra)"
   ]
  },
  {
   "cell_type": "code",
   "execution_count": 19,
   "metadata": {
    "vscode": {
     "languageId": "r"
    }
   },
   "outputs": [
    {
     "data": {
      "text/html": [
       "<table class=\"dataframe\">\n",
       "<caption>A data.frame: 6 × 3</caption>\n",
       "<thead>\n",
       "\t<tr><th></th><th scope=col>all_site</th><th scope=col>sample_info</th><th scope=col>editing_level</th></tr>\n",
       "\t<tr><th></th><th scope=col>&lt;chr&gt;</th><th scope=col>&lt;chr&gt;</th><th scope=col>&lt;chr&gt;</th></tr>\n",
       "</thead>\n",
       "<tbody>\n",
       "\t<tr><th scope=row>1</th><td>chr1_19585569 </td><td>GW08</td><td>0.552631578947368</td></tr>\n",
       "\t<tr><th scope=row>2</th><td>chr1_19585571 </td><td>GW08</td><td>0.594594594594595</td></tr>\n",
       "\t<tr><th scope=row>3</th><td>chr1_19585603 </td><td>GW08</td><td>0.952380952380952</td></tr>\n",
       "\t<tr><th scope=row>5</th><td>chr1_145511983</td><td>GW08</td><td>0.521739130434783</td></tr>\n",
       "\t<tr><th scope=row>6</th><td>chr1_145511992</td><td>GW08</td><td>0.5              </td></tr>\n",
       "\t<tr><th scope=row>8</th><td>chr1_243772219</td><td>GW08</td><td>0.980392156862745</td></tr>\n",
       "</tbody>\n",
       "</table>\n"
      ],
      "text/latex": [
       "A data.frame: 6 × 3\n",
       "\\begin{tabular}{r|lll}\n",
       "  & all\\_site & sample\\_info & editing\\_level\\\\\n",
       "  & <chr> & <chr> & <chr>\\\\\n",
       "\\hline\n",
       "\t1 & chr1\\_19585569  & GW08 & 0.552631578947368\\\\\n",
       "\t2 & chr1\\_19585571  & GW08 & 0.594594594594595\\\\\n",
       "\t3 & chr1\\_19585603  & GW08 & 0.952380952380952\\\\\n",
       "\t5 & chr1\\_145511983 & GW08 & 0.521739130434783\\\\\n",
       "\t6 & chr1\\_145511992 & GW08 & 0.5              \\\\\n",
       "\t8 & chr1\\_243772219 & GW08 & 0.980392156862745\\\\\n",
       "\\end{tabular}\n"
      ],
      "text/markdown": [
       "\n",
       "A data.frame: 6 × 3\n",
       "\n",
       "| <!--/--> | all_site &lt;chr&gt; | sample_info &lt;chr&gt; | editing_level &lt;chr&gt; |\n",
       "|---|---|---|---|\n",
       "| 1 | chr1_19585569  | GW08 | 0.552631578947368 |\n",
       "| 2 | chr1_19585571  | GW08 | 0.594594594594595 |\n",
       "| 3 | chr1_19585603  | GW08 | 0.952380952380952 |\n",
       "| 5 | chr1_145511983 | GW08 | 0.521739130434783 |\n",
       "| 6 | chr1_145511992 | GW08 | 0.5               |\n",
       "| 8 | chr1_243772219 | GW08 | 0.980392156862745 |\n",
       "\n"
      ],
      "text/plain": [
       "  all_site       sample_info editing_level    \n",
       "1 chr1_19585569  GW08        0.552631578947368\n",
       "2 chr1_19585571  GW08        0.594594594594595\n",
       "3 chr1_19585603  GW08        0.952380952380952\n",
       "5 chr1_145511983 GW08        0.521739130434783\n",
       "6 chr1_145511992 GW08        0.5              \n",
       "8 chr1_243772219 GW08        0.980392156862745"
      ]
     },
     "metadata": {},
     "output_type": "display_data"
    }
   ],
   "source": [
    "#wide_df <- pivot_wider(de_data, names_from = \"sample_info\", values_from = \"editing_level\")\n",
    "edit_sites_data <- df[which(df$all_site %in% rownames(de_data)),]\n",
    "head(edit_sites_data)\n",
    "edit_sites_data$editing_level <- as.numeric(edit_sites_data$editing_level)"
   ]
  },
  {
   "cell_type": "code",
   "execution_count": 20,
   "metadata": {
    "vscode": {
     "languageId": "r"
    }
   },
   "outputs": [],
   "source": [
    "dist_obj <- dist(edit_sites_data$editing_level,method = \"euclidean\")\n",
    "hclust_obj <- hclust(dist_obj,method='ward.D2')\n",
    "\n",
    "dend <- edit_sites_data$editing_level %>%\n",
    "  dist(method = \"euclidean\") %>%\n",
    "  hclust() %>%\n",
    "  as.phylo()\n"
   ]
  },
  {
   "cell_type": "code",
   "execution_count": 23,
   "metadata": {
    "vscode": {
     "languageId": "r"
    }
   },
   "outputs": [
    {
     "data": {
      "text/plain": [
       "\n",
       "Call:\n",
       "hclust(d = dist_obj, method = \"ward.D2\")\n",
       "\n",
       "Cluster method   : ward.D2 \n",
       "Distance         : euclidean \n",
       "Number of objects: 684 \n"
      ]
     },
     "metadata": {},
     "output_type": "display_data"
    }
   ],
   "source": [
    "hclust_obj"
   ]
  },
  {
   "cell_type": "code",
   "execution_count": 21,
   "metadata": {
    "vscode": {
     "languageId": "r"
    }
   },
   "outputs": [
    {
     "data": {
      "image/png": "[encoded data removed]",
      "text/plain": [
       "plot without title"
      ]
     },
     "metadata": {
      "image/png": {
       "height": 420,
       "width": 420
      }
     },
     "output_type": "display_data"
    },
    {
     "data": {
      "image/png": "[encoded data removed]",
      "text/plain": [
       "plot without title"
      ]
     },
     "metadata": {
      "image/png": {
       "height": 420,
       "width": 420
      }
     },
     "output_type": "display_data"
    }
   ],
   "source": [
    "# 步骤3: 确定最佳聚类数\n",
    "# 绘制树状图\n",
    "#dend <- as.phylo.dendrogram(hclust_obj)\n",
    "plot(dend)\n",
    "# 使用肘部法则确定最佳聚类数\n",
    "# 计算并绘制不同聚类数目的总内平方和\n",
    "# 注意：这个方法不一定总是能找到最优解，更多是作为一个启发式方法\n",
    "fviz_nbclust(as.matrix(edit_sites_data$editing_level), FUN = hcut,hclust_method = \"ward.D2\", method = \"wss\") +\n",
    "  ggtitle(\"Elbow Method to Determine Optimal Number of Clusters\")\n",
    "\n"
   ]
  },
  {
   "cell_type": "code",
   "execution_count": 22,
   "metadata": {
    "vscode": {
     "languageId": "r"
    }
   },
   "outputs": [],
   "source": [
    "# 根据以上方法选择一个合适的聚类数目k\n",
    "# 然后切割树状图得到k个簇\n",
    "k <- 3 # 假设通过上述方法确定的最佳聚类数为5\n",
    "clusters <- cutree(hclust_obj, k = k)\n"
   ]
  },
  {
   "cell_type": "code",
   "execution_count": 25,
   "metadata": {
    "vscode": {
     "languageId": "r"
    }
   },
   "outputs": [
    {
     "data": {
      "text/html": [
       "<table class=\"dataframe\">\n",
       "<caption>A data.frame: 6 × 4</caption>\n",
       "<thead>\n",
       "\t<tr><th></th><th scope=col>all_site</th><th scope=col>sample_info</th><th scope=col>editing_level</th><th scope=col>cluster</th></tr>\n",
       "\t<tr><th></th><th scope=col>&lt;chr&gt;</th><th scope=col>&lt;chr&gt;</th><th scope=col>&lt;dbl&gt;</th><th scope=col>&lt;int&gt;</th></tr>\n",
       "</thead>\n",
       "<tbody>\n",
       "\t<tr><th scope=row>1</th><td>chr1_19585569 </td><td>GW08</td><td>0.5526316</td><td>1</td></tr>\n",
       "\t<tr><th scope=row>2</th><td>chr1_19585571 </td><td>GW08</td><td>0.5945946</td><td>1</td></tr>\n",
       "\t<tr><th scope=row>3</th><td>chr1_19585603 </td><td>GW08</td><td>0.9523810</td><td>2</td></tr>\n",
       "\t<tr><th scope=row>5</th><td>chr1_145511983</td><td>GW08</td><td>0.5217391</td><td>1</td></tr>\n",
       "\t<tr><th scope=row>6</th><td>chr1_145511992</td><td>GW08</td><td>0.5000000</td><td>1</td></tr>\n",
       "\t<tr><th scope=row>8</th><td>chr1_243772219</td><td>GW08</td><td>0.9803922</td><td>2</td></tr>\n",
       "</tbody>\n",
       "</table>\n"
      ],
      "text/latex": [
       "A data.frame: 6 × 4\n",
       "\\begin{tabular}{r|llll}\n",
       "  & all\\_site & sample\\_info & editing\\_level & cluster\\\\\n",
       "  & <chr> & <chr> & <dbl> & <int>\\\\\n",
       "\\hline\n",
       "\t1 & chr1\\_19585569  & GW08 & 0.5526316 & 1\\\\\n",
       "\t2 & chr1\\_19585571  & GW08 & 0.5945946 & 1\\\\\n",
       "\t3 & chr1\\_19585603  & GW08 & 0.9523810 & 2\\\\\n",
       "\t5 & chr1\\_145511983 & GW08 & 0.5217391 & 1\\\\\n",
       "\t6 & chr1\\_145511992 & GW08 & 0.5000000 & 1\\\\\n",
       "\t8 & chr1\\_243772219 & GW08 & 0.9803922 & 2\\\\\n",
       "\\end{tabular}\n"
      ],
      "text/markdown": [
       "\n",
       "A data.frame: 6 × 4\n",
       "\n",
       "| <!--/--> | all_site &lt;chr&gt; | sample_info &lt;chr&gt; | editing_level &lt;dbl&gt; | cluster &lt;int&gt; |\n",
       "|---|---|---|---|---|\n",
       "| 1 | chr1_19585569  | GW08 | 0.5526316 | 1 |\n",
       "| 2 | chr1_19585571  | GW08 | 0.5945946 | 1 |\n",
       "| 3 | chr1_19585603  | GW08 | 0.9523810 | 2 |\n",
       "| 5 | chr1_145511983 | GW08 | 0.5217391 | 1 |\n",
       "| 6 | chr1_145511992 | GW08 | 0.5000000 | 1 |\n",
       "| 8 | chr1_243772219 | GW08 | 0.9803922 | 2 |\n",
       "\n"
      ],
      "text/plain": [
       "  all_site       sample_info editing_level cluster\n",
       "1 chr1_19585569  GW08        0.5526316     1      \n",
       "2 chr1_19585571  GW08        0.5945946     1      \n",
       "3 chr1_19585603  GW08        0.9523810     2      \n",
       "5 chr1_145511983 GW08        0.5217391     1      \n",
       "6 chr1_145511992 GW08        0.5000000     1      \n",
       "8 chr1_243772219 GW08        0.9803922     2      "
      ]
     },
     "metadata": {},
     "output_type": "display_data"
    }
   ],
   "source": [
    "# 输出每个编辑位点所属的簇\n",
    "# print(clusters)\n",
    "edited_sites_wz_cluster <- edit_sites_data\n",
    "edited_sites_wz_cluster$cluster <- clusters\n",
    "head(edited_sites_wz_cluster)\n",
    "write.table(edited_sites_wz_cluster,\"/disk1/wenqing/tmp_data/PFC_s2/all_analysis_result/de_editing/GABAergic_neurons/de_edited_sites_wz_3clusters.txt\",quote=F,sep='\\t',row.names=F)"
   ]
  },
  {
   "cell_type": "code",
   "execution_count": 29,
   "metadata": {
    "vscode": {
     "languageId": "r"
    }
   },
   "outputs": [],
   "source": [
    "write.table(table(edited_sites_wz_cluster$sample_info,edited_sites_wz_cluster$cluster),\"/disk1/wenqing/tmp_data/PFC_s2/all_analysis_result/de_editing/GABAergic_neurons/de_edited_sites_num_in_3clusters_with1.txt\",sep='\\t',quote=F)"
   ]
  },
  {
   "cell_type": "code",
   "execution_count": 26,
   "metadata": {
    "vscode": {
     "languageId": "r"
    }
   },
   "outputs": [
    {
     "name": "stderr",
     "output_type": "stream",
     "text": [
      "\u001b[1m\u001b[22m`summarise()` has grouped output by 'sample_info'. You can override using the\n",
      "`.groups` argument.\n"
     ]
    },
    {
     "data": {
      "text/html": [
       "<table class=\"dataframe\">\n",
       "<caption>A grouped_df: 17 × 4</caption>\n",
       "<thead>\n",
       "\t<tr><th scope=col>sample_info</th><th scope=col>cluster</th><th scope=col>avg_editing_level</th><th scope=col>sd_editing_level</th></tr>\n",
       "\t<tr><th scope=col>&lt;chr&gt;</th><th scope=col>&lt;fct&gt;</th><th scope=col>&lt;dbl&gt;</th><th scope=col>&lt;dbl&gt;</th></tr>\n",
       "</thead>\n",
       "<tbody>\n",
       "\t<tr><td>GW08    </td><td>1</td><td>0.52688043</td><td>0.02952724</td></tr>\n",
       "\t<tr><td>GW08    </td><td>2</td><td>0.92464532</td><td>0.08073084</td></tr>\n",
       "\t<tr><td>GW08    </td><td>3</td><td>0.35584162</td><td>0.15264521</td></tr>\n",
       "\t<tr><td>GW12    </td><td>1</td><td>0.61679041</td><td>0.07258083</td></tr>\n",
       "\t<tr><td>GW12    </td><td>2</td><td>0.91422932</td><td>0.07055188</td></tr>\n",
       "\t<tr><td>GW12    </td><td>3</td><td>0.31842472</td><td>0.10326112</td></tr>\n",
       "\t<tr><td>GW16_1_3</td><td>3</td><td>0.18665768</td><td>0.16295857</td></tr>\n",
       "\t<tr><td>GW16_1_4</td><td>3</td><td>0.17957335</td><td>0.01425785</td></tr>\n",
       "\t<tr><td>GW16_1_9</td><td>3</td><td>0.11824652</td><td>0.08004304</td></tr>\n",
       "\t<tr><td>GW19_1_1</td><td>3</td><td>0.06635071</td><td>        NA</td></tr>\n",
       "\t<tr><td>GW23_1_1</td><td>3</td><td>0.15093069</td><td>0.08024184</td></tr>\n",
       "\t<tr><td>GW23_1_2</td><td>1</td><td>0.57500000</td><td>        NA</td></tr>\n",
       "\t<tr><td>GW23_1_2</td><td>3</td><td>0.13250742</td><td>0.04699384</td></tr>\n",
       "\t<tr><td>GW23_1_3</td><td>3</td><td>0.20091887</td><td>0.10992701</td></tr>\n",
       "\t<tr><td>GW26_1_1</td><td>1</td><td>0.62570891</td><td>0.07701113</td></tr>\n",
       "\t<tr><td>GW26_1_1</td><td>2</td><td>0.88094510</td><td>0.08879434</td></tr>\n",
       "\t<tr><td>GW26_1_1</td><td>3</td><td>0.19965814</td><td>0.11008254</td></tr>\n",
       "</tbody>\n",
       "</table>\n"
      ],
      "text/latex": [
       "A grouped\\_df: 17 × 4\n",
       "\\begin{tabular}{llll}\n",
       " sample\\_info & cluster & avg\\_editing\\_level & sd\\_editing\\_level\\\\\n",
       " <chr> & <fct> & <dbl> & <dbl>\\\\\n",
       "\\hline\n",
       "\t GW08     & 1 & 0.52688043 & 0.02952724\\\\\n",
       "\t GW08     & 2 & 0.92464532 & 0.08073084\\\\\n",
       "\t GW08     & 3 & 0.35584162 & 0.15264521\\\\\n",
       "\t GW12     & 1 & 0.61679041 & 0.07258083\\\\\n",
       "\t GW12     & 2 & 0.91422932 & 0.07055188\\\\\n",
       "\t GW12     & 3 & 0.31842472 & 0.10326112\\\\\n",
       "\t GW16\\_1\\_3 & 3 & 0.18665768 & 0.16295857\\\\\n",
       "\t GW16\\_1\\_4 & 3 & 0.17957335 & 0.01425785\\\\\n",
       "\t GW16\\_1\\_9 & 3 & 0.11824652 & 0.08004304\\\\\n",
       "\t GW19\\_1\\_1 & 3 & 0.06635071 &         NA\\\\\n",
       "\t GW23\\_1\\_1 & 3 & 0.15093069 & 0.08024184\\\\\n",
       "\t GW23\\_1\\_2 & 1 & 0.57500000 &         NA\\\\\n",
       "\t GW23\\_1\\_2 & 3 & 0.13250742 & 0.04699384\\\\\n",
       "\t GW23\\_1\\_3 & 3 & 0.20091887 & 0.10992701\\\\\n",
       "\t GW26\\_1\\_1 & 1 & 0.62570891 & 0.07701113\\\\\n",
       "\t GW26\\_1\\_1 & 2 & 0.88094510 & 0.08879434\\\\\n",
       "\t GW26\\_1\\_1 & 3 & 0.19965814 & 0.11008254\\\\\n",
       "\\end{tabular}\n"
      ],
      "text/markdown": [
       "\n",
       "A grouped_df: 17 × 4\n",
       "\n",
       "| sample_info &lt;chr&gt; | cluster &lt;fct&gt; | avg_editing_level &lt;dbl&gt; | sd_editing_level &lt;dbl&gt; |\n",
       "|---|---|---|---|\n",
       "| GW08     | 1 | 0.52688043 | 0.02952724 |\n",
       "| GW08     | 2 | 0.92464532 | 0.08073084 |\n",
       "| GW08     | 3 | 0.35584162 | 0.15264521 |\n",
       "| GW12     | 1 | 0.61679041 | 0.07258083 |\n",
       "| GW12     | 2 | 0.91422932 | 0.07055188 |\n",
       "| GW12     | 3 | 0.31842472 | 0.10326112 |\n",
       "| GW16_1_3 | 3 | 0.18665768 | 0.16295857 |\n",
       "| GW16_1_4 | 3 | 0.17957335 | 0.01425785 |\n",
       "| GW16_1_9 | 3 | 0.11824652 | 0.08004304 |\n",
       "| GW19_1_1 | 3 | 0.06635071 |         NA |\n",
       "| GW23_1_1 | 3 | 0.15093069 | 0.08024184 |\n",
       "| GW23_1_2 | 1 | 0.57500000 |         NA |\n",
       "| GW23_1_2 | 3 | 0.13250742 | 0.04699384 |\n",
       "| GW23_1_3 | 3 | 0.20091887 | 0.10992701 |\n",
       "| GW26_1_1 | 1 | 0.62570891 | 0.07701113 |\n",
       "| GW26_1_1 | 2 | 0.88094510 | 0.08879434 |\n",
       "| GW26_1_1 | 3 | 0.19965814 | 0.11008254 |\n",
       "\n"
      ],
      "text/plain": [
       "   sample_info cluster avg_editing_level sd_editing_level\n",
       "1  GW08        1       0.52688043        0.02952724      \n",
       "2  GW08        2       0.92464532        0.08073084      \n",
       "3  GW08        3       0.35584162        0.15264521      \n",
       "4  GW12        1       0.61679041        0.07258083      \n",
       "5  GW12        2       0.91422932        0.07055188      \n",
       "6  GW12        3       0.31842472        0.10326112      \n",
       "7  GW16_1_3    3       0.18665768        0.16295857      \n",
       "8  GW16_1_4    3       0.17957335        0.01425785      \n",
       "9  GW16_1_9    3       0.11824652        0.08004304      \n",
       "10 GW19_1_1    3       0.06635071                NA      \n",
       "11 GW23_1_1    3       0.15093069        0.08024184      \n",
       "12 GW23_1_2    1       0.57500000                NA      \n",
       "13 GW23_1_2    3       0.13250742        0.04699384      \n",
       "14 GW23_1_3    3       0.20091887        0.10992701      \n",
       "15 GW26_1_1    1       0.62570891        0.07701113      \n",
       "16 GW26_1_1    2       0.88094510        0.08879434      \n",
       "17 GW26_1_1    3       0.19965814        0.11008254      "
      ]
     },
     "metadata": {},
     "output_type": "display_data"
    }
   ],
   "source": [
    "data_summary <- edited_sites_wz_cluster %>%\n",
    "  group_by(sample_info, cluster) %>%\n",
    "  summarize(avg_editing_level = mean(editing_level),\n",
    "            sd_editing_level = sd(editing_level)) # 添加标准差计算\n",
    "data_summary$cluster <- as.factor(data_summary$cluster)\n",
    "data_summary"
   ]
  },
  {
   "cell_type": "code",
   "execution_count": 27,
   "metadata": {
    "vscode": {
     "languageId": "r"
    }
   },
   "outputs": [
    {
     "data": {
      "image/png": "[encoded data removed]",
      "text/plain": [
       "plot without title"
      ]
     },
     "metadata": {
      "image/png": {
       "height": 420,
       "width": 420
      }
     },
     "output_type": "display_data"
    }
   ],
   "source": [
    "# 假设df是原始的data_summary数据框\n",
    "\n",
    "# 步骤1: 获取所有独特的sample_info和cluster组合\n",
    "all_combinations <- expand.grid(unique(data_summary$sample_info), unique(data_summary$cluster))\n",
    "colnames(all_combinations) <- c(\"sample_info\", \"cluster\")\n",
    "\n",
    "# 步骤2: 创建一个包含所有组合且初始化编辑水平为0的数据框\n",
    "complete_data <- all_combinations %>%\n",
    "  mutate(avg_editing_level = 0,\n",
    "         sd_editing_level = 0)\n",
    "\n",
    "# 步骤3: 将原始数据与新创建的数据框合并，确保所有组合都有记录\n",
    "# 使用left_join确保所有来自complete_data的行都被保留\n",
    "final_data <- complete_data %>%\n",
    "  left_join(data_summary, by = c(\"sample_info\", \"cluster\"), suffix = c(\"_init\", \"\")) %>%\n",
    "  select(-ends_with(\"_init\")) # 移除初始化时添加的后缀列\n",
    "\n",
    "# 如果有特定的值需要填充而非0，可以在第2步时相应修改\n",
    "final_data[is.na(final_data)] <- 0\n",
    "# 假设final_data已经是包含了所有组合（即使某些原始数据中未出现的组合值为0）的数据框\n",
    "\n",
    "# 确保final_data中包含了误差范围的最小值和最大值列，如果还没有的话需要先计算并添加\n",
    "# 这里简化处理，直接使用之前逻辑但确保使用final_data作为数据源\n",
    "final_data <- final_data %>%\n",
    "  group_by(sample_info, cluster) %>%\n",
    "  mutate(min_val = avg_editing_level - sd_editing_level,\n",
    "         max_val = avg_editing_level + sd_editing_level)\n",
    "final_data <- as.data.frame(final_data)\n"
   ]
  },
  {
   "cell_type": "code",
   "execution_count": 29,
   "metadata": {
    "vscode": {
     "languageId": "r"
    }
   },
   "outputs": [
    {
     "data": {
      "text/html": [
       "<style>\n",
       ".list-inline {list-style: none; margin:0; padding: 0}\n",
       ".list-inline>li {display: inline-block}\n",
       ".list-inline>li:not(:last-child)::after {content: \"\\00b7\"; padding: 0 .5ex}\n",
       "</style>\n",
       "<ol class=list-inline><li>0</li><li>1.00537616003934</li></ol>\n"
      ],
      "text/latex": [
       "\\begin{enumerate*}\n",
       "\\item 0\n",
       "\\item 1.00537616003934\n",
       "\\end{enumerate*}\n"
      ],
      "text/markdown": [
       "1. 0\n",
       "2. 1.00537616003934\n",
       "\n",
       "\n"
      ],
      "text/plain": [
       "[1] 0.000000 1.005376"
      ]
     },
     "metadata": {},
     "output_type": "display_data"
    }
   ],
   "source": [
    "range(final_data$max_val)"
   ]
  },
  {
   "cell_type": "code",
   "execution_count": null,
   "metadata": {
    "vscode": {
     "languageId": "r"
    }
   },
   "outputs": [],
   "source": [
    "\n",
    "ggplot(data=final_data,aes(x=sample_info,y=avg_editing_level,group=cluster))+\n",
    "  geom_line(aes(color=cluster,lty=cluster))+\n",
    "  geom_point(aes(color=cluster,shape=cluster))+\n",
    "  geom_ribbon(aes(x=sample_info,ymin=min_val,ymax=max_val,fill=cluster,\n",
    "                  color=cluster),alpha=0.5)+\n",
    "  scale_color_manual(values = c(\"1\"=\"#840dd3\",\"2\"=\"#04c49c\",\"3\"=\"#2759bd\"))+\n",
    "  scale_fill_manual(values = c(\"1\"=\"#840dd3\",\"2\"=\"#04c49c\",\"3\"=\"#2759bd\"))+\n",
    "  #colors=c(\"#840dd3\",\"#04c49c\",\"#2759bd\")\n",
    "  theme_bw() +\n",
    "  theme(plot.title = element_text(hjust = 0.5),\n",
    "        legend.title = element_blank(),\n",
    "        axis.text.x = element_text(angle = 45, hjust = 1),\n",
    "        text = element_text(size = 13)) +\n",
    "  xlab('')+\n",
    "  ylab('RNA editing rate')"
   ]
  },
  {
   "cell_type": "code",
   "execution_count": 6,
   "metadata": {
    "vscode": {
     "languageId": "r"
    }
   },
   "outputs": [
    {
     "data": {
      "text/html": [
       "<style>\n",
       ".list-inline {list-style: none; margin:0; padding: 0}\n",
       ".list-inline>li {display: inline-block}\n",
       ".list-inline>li:not(:last-child)::after {content: \"\\00b7\"; padding: 0 .5ex}\n",
       "</style>\n",
       "<ol class=list-inline><li>18023</li><li>3</li></ol>\n"
      ],
      "text/latex": [
       "\\begin{enumerate*}\n",
       "\\item 18023\n",
       "\\item 3\n",
       "\\end{enumerate*}\n"
      ],
      "text/markdown": [
       "1. 18023\n",
       "2. 3\n",
       "\n",
       "\n"
      ],
      "text/plain": [
       "[1] 18023     3"
      ]
     },
     "metadata": {},
     "output_type": "display_data"
    }
   ],
   "source": [
    "########先使用和AEI计算一致的样本进行热图展示\n",
    "#构建数据框\n",
    "all_site <- c(sub_res_editing_rate_16_1_4$site,sub_res_editing_rate_19_1_1$site,sub_res_editing_rate_23_1_2$site,sub_res_editing_rate_26_1_1$site)\n",
    "sample_info <- c(rep('GW16_1_4',times=nrow(sub_res_editing_rate_16_1_4)),rep('GW19_1_1',times=nrow(sub_res_editing_rate_19_1_1)),\n",
    "                    rep('GW23_1_2',times=nrow(sub_res_editing_rate_23_1_2)),rep('GW26_1_1',times=nrow(sub_res_editing_rate_26_1_1)))\n",
    "editing_level <- c(sub_res_editing_rate_16_1_4$editing_rate,sub_res_editing_rate_19_1_1$editing_rate,\n",
    "                    sub_res_editing_rate_23_1_2$editing_rate,sub_res_editing_rate_26_1_1$editing_rate)\n",
    "df <- as.data.frame(cbind(all_site,sample_info,editing_level))\n",
    "dim(df)"
   ]
  },
  {
   "cell_type": "code",
   "execution_count": 7,
   "metadata": {
    "vscode": {
     "languageId": "r"
    }
   },
   "outputs": [
    {
     "data": {
      "text/html": [
       "<style>\n",
       ".list-inline {list-style: none; margin:0; padding: 0}\n",
       ".list-inline>li {display: inline-block}\n",
       ".list-inline>li:not(:last-child)::after {content: \"\\00b7\"; padding: 0 .5ex}\n",
       "</style>\n",
       "<ol class=list-inline><li>17472</li><li>5</li></ol>\n"
      ],
      "text/latex": [
       "\\begin{enumerate*}\n",
       "\\item 17472\n",
       "\\item 5\n",
       "\\end{enumerate*}\n"
      ],
      "text/markdown": [
       "1. 17472\n",
       "2. 5\n",
       "\n",
       "\n"
      ],
      "text/plain": [
       "[1] 17472     5"
      ]
     },
     "metadata": {},
     "output_type": "display_data"
    }
   ],
   "source": [
    "# 使用pivot_wider函数进行转换\n",
    "wide_df <- pivot_wider(df, names_from = \"sample_info\", values_from = \"editing_level\")\n",
    "dim(wide_df)\n",
    "data <- as.data.frame(wide_df)\n",
    "rownames(data) <- data$all_site\n",
    "data <- data[,-1]\n",
    "head(data)\n",
    "data[is.na(data)] <- 0\n",
    "# 查看转换后的数据框\n",
    "head(data)"
   ]
  },
  {
   "cell_type": "code",
   "execution_count": 94,
   "metadata": {
    "vscode": {
     "languageId": "r"
    }
   },
   "outputs": [
    {
     "name": "stderr",
     "output_type": "stream",
     "text": [
      "Warning message in cbind(all_site, sample_info, editing_level):\n",
      "“number of rows of result is not a multiple of vector length (arg 3)”\n"
     ]
    },
    {
     "data": {
      "text/html": [
       "<style>\n",
       ".list-inline {list-style: none; margin:0; padding: 0}\n",
       ".list-inline>li {display: inline-block}\n",
       ".list-inline>li:not(:last-child)::after {content: \"\\00b7\"; padding: 0 .5ex}\n",
       "</style>\n",
       "<ol class=list-inline><li>34440</li><li>3</li></ol>\n"
      ],
      "text/latex": [
       "\\begin{enumerate*}\n",
       "\\item 34440\n",
       "\\item 3\n",
       "\\end{enumerate*}\n"
      ],
      "text/markdown": [
       "1. 34440\n",
       "2. 3\n",
       "\n",
       "\n"
      ],
      "text/plain": [
       "[1] 34440     3"
      ]
     },
     "metadata": {},
     "output_type": "display_data"
    }
   ],
   "source": [
    "###############一下是不对editing level进行过滤的（大部份都是1，不过滤）\n",
    "########先使用和AEI计算一致的样本进行热图展示\n",
    "#构建数据框\n",
    "all_site <- c(res_site_editing_rate_16_1_4$site,res_site_editing_rate_19_1_1$site,res_site_editing_rate_23_1_2$site,res_site_editing_rate_26_1_1$site)\n",
    "sample_info <- c(rep('GW16_1_4',times=nrow(res_site_editing_rate_16_1_4)),rep('GW19_1_1',times=nrow(res_site_editing_rate_19_1_1)),\n",
    "                    rep('GW23_1_2',times=nrow(res_site_editing_rate_23_1_2)),rep('GW26_1_1',times=nrow(res_site_editing_rate_26_1_1)))\n",
    "editing_level <- c(res_site_editing_rate_16_1_4$editing_rate,res_site_editing_rate_19_1_1$editing_rate,\n",
    "                    res_site_editing_rate_23_1_2$editing_rate,res_site_editing_rate_26_1_1$editing_rate)\n",
    "df <- as.data.frame(cbind(all_site,sample_info,editing_level))\n",
    "dim(df)"
   ]
  },
  {
   "cell_type": "code",
   "execution_count": 51,
   "metadata": {
    "vscode": {
     "languageId": "r"
    }
   },
   "outputs": [
    {
     "data": {
      "text/html": [
       "<table class=\"dataframe\">\n",
       "<caption>A data.frame: 6 × 3</caption>\n",
       "<thead>\n",
       "\t<tr><th></th><th scope=col>all_site</th><th scope=col>sample_info</th><th scope=col>editing_level</th></tr>\n",
       "\t<tr><th></th><th scope=col>&lt;chr&gt;</th><th scope=col>&lt;chr&gt;</th><th scope=col>&lt;chr&gt;</th></tr>\n",
       "</thead>\n",
       "<tbody>\n",
       "\t<tr><th scope=row>1</th><td>chr1_657327 </td><td>GW16_1_4</td><td>1                </td></tr>\n",
       "\t<tr><th scope=row>2</th><td>chr1_657332 </td><td>GW16_1_4</td><td>0.985074626865672</td></tr>\n",
       "\t<tr><th scope=row>3</th><td>chr1_8667917</td><td>GW16_1_4</td><td>1                </td></tr>\n",
       "\t<tr><th scope=row>4</th><td>chr1_8667922</td><td>GW16_1_4</td><td>1                </td></tr>\n",
       "\t<tr><th scope=row>5</th><td>chr1_8667923</td><td>GW16_1_4</td><td>1                </td></tr>\n",
       "\t<tr><th scope=row>6</th><td>chr1_8667986</td><td>GW16_1_4</td><td>1                </td></tr>\n",
       "</tbody>\n",
       "</table>\n"
      ],
      "text/latex": [
       "A data.frame: 6 × 3\n",
       "\\begin{tabular}{r|lll}\n",
       "  & all\\_site & sample\\_info & editing\\_level\\\\\n",
       "  & <chr> & <chr> & <chr>\\\\\n",
       "\\hline\n",
       "\t1 & chr1\\_657327  & GW16\\_1\\_4 & 1                \\\\\n",
       "\t2 & chr1\\_657332  & GW16\\_1\\_4 & 0.985074626865672\\\\\n",
       "\t3 & chr1\\_8667917 & GW16\\_1\\_4 & 1                \\\\\n",
       "\t4 & chr1\\_8667922 & GW16\\_1\\_4 & 1                \\\\\n",
       "\t5 & chr1\\_8667923 & GW16\\_1\\_4 & 1                \\\\\n",
       "\t6 & chr1\\_8667986 & GW16\\_1\\_4 & 1                \\\\\n",
       "\\end{tabular}\n"
      ],
      "text/markdown": [
       "\n",
       "A data.frame: 6 × 3\n",
       "\n",
       "| <!--/--> | all_site &lt;chr&gt; | sample_info &lt;chr&gt; | editing_level &lt;chr&gt; |\n",
       "|---|---|---|---|\n",
       "| 1 | chr1_657327  | GW16_1_4 | 1                 |\n",
       "| 2 | chr1_657332  | GW16_1_4 | 0.985074626865672 |\n",
       "| 3 | chr1_8667917 | GW16_1_4 | 1                 |\n",
       "| 4 | chr1_8667922 | GW16_1_4 | 1                 |\n",
       "| 5 | chr1_8667923 | GW16_1_4 | 1                 |\n",
       "| 6 | chr1_8667986 | GW16_1_4 | 1                 |\n",
       "\n"
      ],
      "text/plain": [
       "  all_site     sample_info editing_level    \n",
       "1 chr1_657327  GW16_1_4    1                \n",
       "2 chr1_657332  GW16_1_4    0.985074626865672\n",
       "3 chr1_8667917 GW16_1_4    1                \n",
       "4 chr1_8667922 GW16_1_4    1                \n",
       "5 chr1_8667923 GW16_1_4    1                \n",
       "6 chr1_8667986 GW16_1_4    1                "
      ]
     },
     "metadata": {},
     "output_type": "display_data"
    }
   ],
   "source": [
    "head(df)"
   ]
  },
  {
   "cell_type": "code",
   "execution_count": 56,
   "metadata": {
    "vscode": {
     "languageId": "r"
    }
   },
   "outputs": [
    {
     "data": {
      "text/html": [
       "<table class=\"dataframe\">\n",
       "<caption>A tibble: 6 × 5</caption>\n",
       "<thead>\n",
       "\t<tr><th scope=col>all_site</th><th scope=col>GW16_1_4</th><th scope=col>GW19_1_1</th><th scope=col>GW23_1_2</th><th scope=col>GW26_1_1</th></tr>\n",
       "\t<tr><th scope=col>&lt;chr&gt;</th><th scope=col>&lt;chr&gt;</th><th scope=col>&lt;chr&gt;</th><th scope=col>&lt;chr&gt;</th><th scope=col>&lt;chr&gt;</th></tr>\n",
       "</thead>\n",
       "<tbody>\n",
       "\t<tr><td>chr1_657327 </td><td>1                </td><td>NA</td><td>NA</td><td>0.890928725701944</td></tr>\n",
       "\t<tr><td>chr1_657332 </td><td>0.985074626865672</td><td>NA</td><td>NA</td><td>0.897713598074609</td></tr>\n",
       "\t<tr><td>chr1_8667917</td><td>1                </td><td>NA</td><td>NA</td><td>NA               </td></tr>\n",
       "\t<tr><td>chr1_8667922</td><td>1                </td><td>NA</td><td>NA</td><td>NA               </td></tr>\n",
       "\t<tr><td>chr1_8667923</td><td>1                </td><td>NA</td><td>NA</td><td>NA               </td></tr>\n",
       "\t<tr><td>chr1_8667986</td><td>1                </td><td>NA</td><td>NA</td><td>NA               </td></tr>\n",
       "</tbody>\n",
       "</table>\n"
      ],
      "text/latex": [
       "A tibble: 6 × 5\n",
       "\\begin{tabular}{lllll}\n",
       " all\\_site & GW16\\_1\\_4 & GW19\\_1\\_1 & GW23\\_1\\_2 & GW26\\_1\\_1\\\\\n",
       " <chr> & <chr> & <chr> & <chr> & <chr>\\\\\n",
       "\\hline\n",
       "\t chr1\\_657327  & 1                 & NA & NA & 0.890928725701944\\\\\n",
       "\t chr1\\_657332  & 0.985074626865672 & NA & NA & 0.897713598074609\\\\\n",
       "\t chr1\\_8667917 & 1                 & NA & NA & NA               \\\\\n",
       "\t chr1\\_8667922 & 1                 & NA & NA & NA               \\\\\n",
       "\t chr1\\_8667923 & 1                 & NA & NA & NA               \\\\\n",
       "\t chr1\\_8667986 & 1                 & NA & NA & NA               \\\\\n",
       "\\end{tabular}\n"
      ],
      "text/markdown": [
       "\n",
       "A tibble: 6 × 5\n",
       "\n",
       "| all_site &lt;chr&gt; | GW16_1_4 &lt;chr&gt; | GW19_1_1 &lt;chr&gt; | GW23_1_2 &lt;chr&gt; | GW26_1_1 &lt;chr&gt; |\n",
       "|---|---|---|---|---|\n",
       "| chr1_657327  | 1                 | NA | NA | 0.890928725701944 |\n",
       "| chr1_657332  | 0.985074626865672 | NA | NA | 0.897713598074609 |\n",
       "| chr1_8667917 | 1                 | NA | NA | NA                |\n",
       "| chr1_8667922 | 1                 | NA | NA | NA                |\n",
       "| chr1_8667923 | 1                 | NA | NA | NA                |\n",
       "| chr1_8667986 | 1                 | NA | NA | NA                |\n",
       "\n"
      ],
      "text/plain": [
       "  all_site     GW16_1_4          GW19_1_1 GW23_1_2 GW26_1_1         \n",
       "1 chr1_657327  1                 NA       NA       0.890928725701944\n",
       "2 chr1_657332  0.985074626865672 NA       NA       0.897713598074609\n",
       "3 chr1_8667917 1                 NA       NA       NA               \n",
       "4 chr1_8667922 1                 NA       NA       NA               \n",
       "5 chr1_8667923 1                 NA       NA       NA               \n",
       "6 chr1_8667986 1                 NA       NA       NA               "
      ]
     },
     "metadata": {},
     "output_type": "display_data"
    }
   ],
   "source": [
    "# 使用pivot_wider函数进行转换\n",
    "wide_df <- pivot_wider(df, names_from = \"sample_info\", values_from = \"editing_level\")\n",
    "head(wide_df)"
   ]
  },
  {
   "cell_type": "code",
   "execution_count": 79,
   "metadata": {
    "vscode": {
     "languageId": "r"
    }
   },
   "outputs": [
    {
     "data": {
      "text/html": [
       "<table class=\"dataframe\">\n",
       "<caption>A tibble: 133776 × 3</caption>\n",
       "<thead>\n",
       "\t<tr><th scope=col>site</th><th scope=col>Sample</th><th scope=col>Value</th></tr>\n",
       "\t<tr><th scope=col>&lt;chr&gt;</th><th scope=col>&lt;chr&gt;</th><th scope=col>&lt;chr&gt;</th></tr>\n",
       "</thead>\n",
       "<tbody>\n",
       "\t<tr><td>chr1_657327 </td><td>GW16_1_4</td><td>1                </td></tr>\n",
       "\t<tr><td>chr1_657327 </td><td>GW19_1_1</td><td>0                </td></tr>\n",
       "\t<tr><td>chr1_657327 </td><td>GW23_1_2</td><td>0                </td></tr>\n",
       "\t<tr><td>chr1_657327 </td><td>GW26_1_1</td><td>0.890928725701944</td></tr>\n",
       "\t<tr><td>chr1_657332 </td><td>GW16_1_4</td><td>0.985074626865672</td></tr>\n",
       "\t<tr><td>chr1_657332 </td><td>GW19_1_1</td><td>0                </td></tr>\n",
       "\t<tr><td>chr1_657332 </td><td>GW23_1_2</td><td>0                </td></tr>\n",
       "\t<tr><td>chr1_657332 </td><td>GW26_1_1</td><td>0.897713598074609</td></tr>\n",
       "\t<tr><td>chr1_8667917</td><td>GW16_1_4</td><td>1                </td></tr>\n",
       "\t<tr><td>chr1_8667917</td><td>GW19_1_1</td><td>0                </td></tr>\n",
       "\t<tr><td>chr1_8667917</td><td>GW23_1_2</td><td>0                </td></tr>\n",
       "\t<tr><td>chr1_8667917</td><td>GW26_1_1</td><td>0                </td></tr>\n",
       "\t<tr><td>chr1_8667922</td><td>GW16_1_4</td><td>1                </td></tr>\n",
       "\t<tr><td>chr1_8667922</td><td>GW19_1_1</td><td>0                </td></tr>\n",
       "\t<tr><td>chr1_8667922</td><td>GW23_1_2</td><td>0                </td></tr>\n",
       "\t<tr><td>chr1_8667922</td><td>GW26_1_1</td><td>0                </td></tr>\n",
       "\t<tr><td>chr1_8667923</td><td>GW16_1_4</td><td>1                </td></tr>\n",
       "\t<tr><td>chr1_8667923</td><td>GW19_1_1</td><td>0                </td></tr>\n",
       "\t<tr><td>chr1_8667923</td><td>GW23_1_2</td><td>0                </td></tr>\n",
       "\t<tr><td>chr1_8667923</td><td>GW26_1_1</td><td>0                </td></tr>\n",
       "\t<tr><td>chr1_8667986</td><td>GW16_1_4</td><td>1                </td></tr>\n",
       "\t<tr><td>chr1_8667986</td><td>GW19_1_1</td><td>0                </td></tr>\n",
       "\t<tr><td>chr1_8667986</td><td>GW23_1_2</td><td>0                </td></tr>\n",
       "\t<tr><td>chr1_8667986</td><td>GW26_1_1</td><td>0                </td></tr>\n",
       "\t<tr><td>chr1_8668058</td><td>GW16_1_4</td><td>1                </td></tr>\n",
       "\t<tr><td>chr1_8668058</td><td>GW19_1_1</td><td>0                </td></tr>\n",
       "\t<tr><td>chr1_8668058</td><td>GW23_1_2</td><td>0                </td></tr>\n",
       "\t<tr><td>chr1_8668058</td><td>GW26_1_1</td><td>0                </td></tr>\n",
       "\t<tr><td>chr1_8668060</td><td>GW16_1_4</td><td>1                </td></tr>\n",
       "\t<tr><td>chr1_8668060</td><td>GW19_1_1</td><td>0                </td></tr>\n",
       "\t<tr><td>⋮</td><td>⋮</td><td>⋮</td></tr>\n",
       "\t<tr><td>chrY_2221789 </td><td>GW23_1_2</td><td>0</td></tr>\n",
       "\t<tr><td>chrY_2221789 </td><td>GW26_1_1</td><td>1</td></tr>\n",
       "\t<tr><td>chrY_2221794 </td><td>GW16_1_4</td><td>0</td></tr>\n",
       "\t<tr><td>chrY_2221794 </td><td>GW19_1_1</td><td>0</td></tr>\n",
       "\t<tr><td>chrY_2221794 </td><td>GW23_1_2</td><td>0</td></tr>\n",
       "\t<tr><td>chrY_2221794 </td><td>GW26_1_1</td><td>1</td></tr>\n",
       "\t<tr><td>chrY_2221853 </td><td>GW16_1_4</td><td>0</td></tr>\n",
       "\t<tr><td>chrY_2221853 </td><td>GW19_1_1</td><td>0</td></tr>\n",
       "\t<tr><td>chrY_2221853 </td><td>GW23_1_2</td><td>0</td></tr>\n",
       "\t<tr><td>chrY_2221853 </td><td>GW26_1_1</td><td>1</td></tr>\n",
       "\t<tr><td>chrY_2276344 </td><td>GW16_1_4</td><td>0</td></tr>\n",
       "\t<tr><td>chrY_2276344 </td><td>GW19_1_1</td><td>0</td></tr>\n",
       "\t<tr><td>chrY_2276344 </td><td>GW23_1_2</td><td>0</td></tr>\n",
       "\t<tr><td>chrY_2276344 </td><td>GW26_1_1</td><td>1</td></tr>\n",
       "\t<tr><td>chrY_2276349 </td><td>GW16_1_4</td><td>0</td></tr>\n",
       "\t<tr><td>chrY_2276349 </td><td>GW19_1_1</td><td>0</td></tr>\n",
       "\t<tr><td>chrY_2276349 </td><td>GW23_1_2</td><td>0</td></tr>\n",
       "\t<tr><td>chrY_2276349 </td><td>GW26_1_1</td><td>1</td></tr>\n",
       "\t<tr><td>chrY_21153275</td><td>GW16_1_4</td><td>0</td></tr>\n",
       "\t<tr><td>chrY_21153275</td><td>GW19_1_1</td><td>0</td></tr>\n",
       "\t<tr><td>chrY_21153275</td><td>GW23_1_2</td><td>0</td></tr>\n",
       "\t<tr><td>chrY_21153275</td><td>GW26_1_1</td><td>1</td></tr>\n",
       "\t<tr><td>chrY_21153459</td><td>GW16_1_4</td><td>0</td></tr>\n",
       "\t<tr><td>chrY_21153459</td><td>GW19_1_1</td><td>0</td></tr>\n",
       "\t<tr><td>chrY_21153459</td><td>GW23_1_2</td><td>0</td></tr>\n",
       "\t<tr><td>chrY_21153459</td><td>GW26_1_1</td><td>1</td></tr>\n",
       "\t<tr><td>chrY_21153474</td><td>GW16_1_4</td><td>0</td></tr>\n",
       "\t<tr><td>chrY_21153474</td><td>GW19_1_1</td><td>0</td></tr>\n",
       "\t<tr><td>chrY_21153474</td><td>GW23_1_2</td><td>0</td></tr>\n",
       "\t<tr><td>chrY_21153474</td><td>GW26_1_1</td><td>1</td></tr>\n",
       "</tbody>\n",
       "</table>\n"
      ],
      "text/latex": [
       "A tibble: 133776 × 3\n",
       "\\begin{tabular}{lll}\n",
       " site & Sample & Value\\\\\n",
       " <chr> & <chr> & <chr>\\\\\n",
       "\\hline\n",
       "\t chr1\\_657327  & GW16\\_1\\_4 & 1                \\\\\n",
       "\t chr1\\_657327  & GW19\\_1\\_1 & 0                \\\\\n",
       "\t chr1\\_657327  & GW23\\_1\\_2 & 0                \\\\\n",
       "\t chr1\\_657327  & GW26\\_1\\_1 & 0.890928725701944\\\\\n",
       "\t chr1\\_657332  & GW16\\_1\\_4 & 0.985074626865672\\\\\n",
       "\t chr1\\_657332  & GW19\\_1\\_1 & 0                \\\\\n",
       "\t chr1\\_657332  & GW23\\_1\\_2 & 0                \\\\\n",
       "\t chr1\\_657332  & GW26\\_1\\_1 & 0.897713598074609\\\\\n",
       "\t chr1\\_8667917 & GW16\\_1\\_4 & 1                \\\\\n",
       "\t chr1\\_8667917 & GW19\\_1\\_1 & 0                \\\\\n",
       "\t chr1\\_8667917 & GW23\\_1\\_2 & 0                \\\\\n",
       "\t chr1\\_8667917 & GW26\\_1\\_1 & 0                \\\\\n",
       "\t chr1\\_8667922 & GW16\\_1\\_4 & 1                \\\\\n",
       "\t chr1\\_8667922 & GW19\\_1\\_1 & 0                \\\\\n",
       "\t chr1\\_8667922 & GW23\\_1\\_2 & 0                \\\\\n",
       "\t chr1\\_8667922 & GW26\\_1\\_1 & 0                \\\\\n",
       "\t chr1\\_8667923 & GW16\\_1\\_4 & 1                \\\\\n",
       "\t chr1\\_8667923 & GW19\\_1\\_1 & 0                \\\\\n",
       "\t chr1\\_8667923 & GW23\\_1\\_2 & 0                \\\\\n",
       "\t chr1\\_8667923 & GW26\\_1\\_1 & 0                \\\\\n",
       "\t chr1\\_8667986 & GW16\\_1\\_4 & 1                \\\\\n",
       "\t chr1\\_8667986 & GW19\\_1\\_1 & 0                \\\\\n",
       "\t chr1\\_8667986 & GW23\\_1\\_2 & 0                \\\\\n",
       "\t chr1\\_8667986 & GW26\\_1\\_1 & 0                \\\\\n",
       "\t chr1\\_8668058 & GW16\\_1\\_4 & 1                \\\\\n",
       "\t chr1\\_8668058 & GW19\\_1\\_1 & 0                \\\\\n",
       "\t chr1\\_8668058 & GW23\\_1\\_2 & 0                \\\\\n",
       "\t chr1\\_8668058 & GW26\\_1\\_1 & 0                \\\\\n",
       "\t chr1\\_8668060 & GW16\\_1\\_4 & 1                \\\\\n",
       "\t chr1\\_8668060 & GW19\\_1\\_1 & 0                \\\\\n",
       "\t ⋮ & ⋮ & ⋮\\\\\n",
       "\t chrY\\_2221789  & GW23\\_1\\_2 & 0\\\\\n",
       "\t chrY\\_2221789  & GW26\\_1\\_1 & 1\\\\\n",
       "\t chrY\\_2221794  & GW16\\_1\\_4 & 0\\\\\n",
       "\t chrY\\_2221794  & GW19\\_1\\_1 & 0\\\\\n",
       "\t chrY\\_2221794  & GW23\\_1\\_2 & 0\\\\\n",
       "\t chrY\\_2221794  & GW26\\_1\\_1 & 1\\\\\n",
       "\t chrY\\_2221853  & GW16\\_1\\_4 & 0\\\\\n",
       "\t chrY\\_2221853  & GW19\\_1\\_1 & 0\\\\\n",
       "\t chrY\\_2221853  & GW23\\_1\\_2 & 0\\\\\n",
       "\t chrY\\_2221853  & GW26\\_1\\_1 & 1\\\\\n",
       "\t chrY\\_2276344  & GW16\\_1\\_4 & 0\\\\\n",
       "\t chrY\\_2276344  & GW19\\_1\\_1 & 0\\\\\n",
       "\t chrY\\_2276344  & GW23\\_1\\_2 & 0\\\\\n",
       "\t chrY\\_2276344  & GW26\\_1\\_1 & 1\\\\\n",
       "\t chrY\\_2276349  & GW16\\_1\\_4 & 0\\\\\n",
       "\t chrY\\_2276349  & GW19\\_1\\_1 & 0\\\\\n",
       "\t chrY\\_2276349  & GW23\\_1\\_2 & 0\\\\\n",
       "\t chrY\\_2276349  & GW26\\_1\\_1 & 1\\\\\n",
       "\t chrY\\_21153275 & GW16\\_1\\_4 & 0\\\\\n",
       "\t chrY\\_21153275 & GW19\\_1\\_1 & 0\\\\\n",
       "\t chrY\\_21153275 & GW23\\_1\\_2 & 0\\\\\n",
       "\t chrY\\_21153275 & GW26\\_1\\_1 & 1\\\\\n",
       "\t chrY\\_21153459 & GW16\\_1\\_4 & 0\\\\\n",
       "\t chrY\\_21153459 & GW19\\_1\\_1 & 0\\\\\n",
       "\t chrY\\_21153459 & GW23\\_1\\_2 & 0\\\\\n",
       "\t chrY\\_21153459 & GW26\\_1\\_1 & 1\\\\\n",
       "\t chrY\\_21153474 & GW16\\_1\\_4 & 0\\\\\n",
       "\t chrY\\_21153474 & GW19\\_1\\_1 & 0\\\\\n",
       "\t chrY\\_21153474 & GW23\\_1\\_2 & 0\\\\\n",
       "\t chrY\\_21153474 & GW26\\_1\\_1 & 1\\\\\n",
       "\\end{tabular}\n"
      ],
      "text/markdown": [
       "\n",
       "A tibble: 133776 × 3\n",
       "\n",
       "| site &lt;chr&gt; | Sample &lt;chr&gt; | Value &lt;chr&gt; |\n",
       "|---|---|---|\n",
       "| chr1_657327  | GW16_1_4 | 1                 |\n",
       "| chr1_657327  | GW19_1_1 | 0                 |\n",
       "| chr1_657327  | GW23_1_2 | 0                 |\n",
       "| chr1_657327  | GW26_1_1 | 0.890928725701944 |\n",
       "| chr1_657332  | GW16_1_4 | 0.985074626865672 |\n",
       "| chr1_657332  | GW19_1_1 | 0                 |\n",
       "| chr1_657332  | GW23_1_2 | 0                 |\n",
       "| chr1_657332  | GW26_1_1 | 0.897713598074609 |\n",
       "| chr1_8667917 | GW16_1_4 | 1                 |\n",
       "| chr1_8667917 | GW19_1_1 | 0                 |\n",
       "| chr1_8667917 | GW23_1_2 | 0                 |\n",
       "| chr1_8667917 | GW26_1_1 | 0                 |\n",
       "| chr1_8667922 | GW16_1_4 | 1                 |\n",
       "| chr1_8667922 | GW19_1_1 | 0                 |\n",
       "| chr1_8667922 | GW23_1_2 | 0                 |\n",
       "| chr1_8667922 | GW26_1_1 | 0                 |\n",
       "| chr1_8667923 | GW16_1_4 | 1                 |\n",
       "| chr1_8667923 | GW19_1_1 | 0                 |\n",
       "| chr1_8667923 | GW23_1_2 | 0                 |\n",
       "| chr1_8667923 | GW26_1_1 | 0                 |\n",
       "| chr1_8667986 | GW16_1_4 | 1                 |\n",
       "| chr1_8667986 | GW19_1_1 | 0                 |\n",
       "| chr1_8667986 | GW23_1_2 | 0                 |\n",
       "| chr1_8667986 | GW26_1_1 | 0                 |\n",
       "| chr1_8668058 | GW16_1_4 | 1                 |\n",
       "| chr1_8668058 | GW19_1_1 | 0                 |\n",
       "| chr1_8668058 | GW23_1_2 | 0                 |\n",
       "| chr1_8668058 | GW26_1_1 | 0                 |\n",
       "| chr1_8668060 | GW16_1_4 | 1                 |\n",
       "| chr1_8668060 | GW19_1_1 | 0                 |\n",
       "| ⋮ | ⋮ | ⋮ |\n",
       "| chrY_2221789  | GW23_1_2 | 0 |\n",
       "| chrY_2221789  | GW26_1_1 | 1 |\n",
       "| chrY_2221794  | GW16_1_4 | 0 |\n",
       "| chrY_2221794  | GW19_1_1 | 0 |\n",
       "| chrY_2221794  | GW23_1_2 | 0 |\n",
       "| chrY_2221794  | GW26_1_1 | 1 |\n",
       "| chrY_2221853  | GW16_1_4 | 0 |\n",
       "| chrY_2221853  | GW19_1_1 | 0 |\n",
       "| chrY_2221853  | GW23_1_2 | 0 |\n",
       "| chrY_2221853  | GW26_1_1 | 1 |\n",
       "| chrY_2276344  | GW16_1_4 | 0 |\n",
       "| chrY_2276344  | GW19_1_1 | 0 |\n",
       "| chrY_2276344  | GW23_1_2 | 0 |\n",
       "| chrY_2276344  | GW26_1_1 | 1 |\n",
       "| chrY_2276349  | GW16_1_4 | 0 |\n",
       "| chrY_2276349  | GW19_1_1 | 0 |\n",
       "| chrY_2276349  | GW23_1_2 | 0 |\n",
       "| chrY_2276349  | GW26_1_1 | 1 |\n",
       "| chrY_21153275 | GW16_1_4 | 0 |\n",
       "| chrY_21153275 | GW19_1_1 | 0 |\n",
       "| chrY_21153275 | GW23_1_2 | 0 |\n",
       "| chrY_21153275 | GW26_1_1 | 1 |\n",
       "| chrY_21153459 | GW16_1_4 | 0 |\n",
       "| chrY_21153459 | GW19_1_1 | 0 |\n",
       "| chrY_21153459 | GW23_1_2 | 0 |\n",
       "| chrY_21153459 | GW26_1_1 | 1 |\n",
       "| chrY_21153474 | GW16_1_4 | 0 |\n",
       "| chrY_21153474 | GW19_1_1 | 0 |\n",
       "| chrY_21153474 | GW23_1_2 | 0 |\n",
       "| chrY_21153474 | GW26_1_1 | 1 |\n",
       "\n"
      ],
      "text/plain": [
       "       site          Sample   Value            \n",
       "1      chr1_657327   GW16_1_4 1                \n",
       "2      chr1_657327   GW19_1_1 0                \n",
       "3      chr1_657327   GW23_1_2 0                \n",
       "4      chr1_657327   GW26_1_1 0.890928725701944\n",
       "5      chr1_657332   GW16_1_4 0.985074626865672\n",
       "6      chr1_657332   GW19_1_1 0                \n",
       "7      chr1_657332   GW23_1_2 0                \n",
       "8      chr1_657332   GW26_1_1 0.897713598074609\n",
       "9      chr1_8667917  GW16_1_4 1                \n",
       "10     chr1_8667917  GW19_1_1 0                \n",
       "11     chr1_8667917  GW23_1_2 0                \n",
       "12     chr1_8667917  GW26_1_1 0                \n",
       "13     chr1_8667922  GW16_1_4 1                \n",
       "14     chr1_8667922  GW19_1_1 0                \n",
       "15     chr1_8667922  GW23_1_2 0                \n",
       "16     chr1_8667922  GW26_1_1 0                \n",
       "17     chr1_8667923  GW16_1_4 1                \n",
       "18     chr1_8667923  GW19_1_1 0                \n",
       "19     chr1_8667923  GW23_1_2 0                \n",
       "20     chr1_8667923  GW26_1_1 0                \n",
       "21     chr1_8667986  GW16_1_4 1                \n",
       "22     chr1_8667986  GW19_1_1 0                \n",
       "23     chr1_8667986  GW23_1_2 0                \n",
       "24     chr1_8667986  GW26_1_1 0                \n",
       "25     chr1_8668058  GW16_1_4 1                \n",
       "26     chr1_8668058  GW19_1_1 0                \n",
       "27     chr1_8668058  GW23_1_2 0                \n",
       "28     chr1_8668058  GW26_1_1 0                \n",
       "29     chr1_8668060  GW16_1_4 1                \n",
       "30     chr1_8668060  GW19_1_1 0                \n",
       "⋮      ⋮             ⋮        ⋮                \n",
       "133747 chrY_2221789  GW23_1_2 0                \n",
       "133748 chrY_2221789  GW26_1_1 1                \n",
       "133749 chrY_2221794  GW16_1_4 0                \n",
       "133750 chrY_2221794  GW19_1_1 0                \n",
       "133751 chrY_2221794  GW23_1_2 0                \n",
       "133752 chrY_2221794  GW26_1_1 1                \n",
       "133753 chrY_2221853  GW16_1_4 0                \n",
       "133754 chrY_2221853  GW19_1_1 0                \n",
       "133755 chrY_2221853  GW23_1_2 0                \n",
       "133756 chrY_2221853  GW26_1_1 1                \n",
       "133757 chrY_2276344  GW16_1_4 0                \n",
       "133758 chrY_2276344  GW19_1_1 0                \n",
       "133759 chrY_2276344  GW23_1_2 0                \n",
       "133760 chrY_2276344  GW26_1_1 1                \n",
       "133761 chrY_2276349  GW16_1_4 0                \n",
       "133762 chrY_2276349  GW19_1_1 0                \n",
       "133763 chrY_2276349  GW23_1_2 0                \n",
       "133764 chrY_2276349  GW26_1_1 1                \n",
       "133765 chrY_21153275 GW16_1_4 0                \n",
       "133766 chrY_21153275 GW19_1_1 0                \n",
       "133767 chrY_21153275 GW23_1_2 0                \n",
       "133768 chrY_21153275 GW26_1_1 1                \n",
       "133769 chrY_21153459 GW16_1_4 0                \n",
       "133770 chrY_21153459 GW19_1_1 0                \n",
       "133771 chrY_21153459 GW23_1_2 0                \n",
       "133772 chrY_21153459 GW26_1_1 1                \n",
       "133773 chrY_21153474 GW16_1_4 0                \n",
       "133774 chrY_21153474 GW19_1_1 0                \n",
       "133775 chrY_21153474 GW23_1_2 0                \n",
       "133776 chrY_21153474 GW26_1_1 1                "
      ]
     },
     "metadata": {},
     "output_type": "display_data"
    }
   ],
   "source": [
    "df_long = data %>%\n",
    "  rownames_to_column(\"site\") %>%\n",
    "  pivot_longer(-1,names_to = \"Sample\",values_to = \"Value\")\n"
   ]
  },
  {
   "cell_type": "code",
   "execution_count": 11,
   "metadata": {
    "vscode": {
     "languageId": "r"
    }
   },
   "outputs": [
    {
     "data": {
      "text/html": [
       "<table class=\"dataframe\">\n",
       "<caption>A data.frame: 6 × 5</caption>\n",
       "<thead>\n",
       "\t<tr><th></th><th scope=col>V1</th><th scope=col>V2</th><th scope=col>V3</th><th scope=col>V4</th><th scope=col>V5</th></tr>\n",
       "\t<tr><th></th><th scope=col>&lt;chr&gt;</th><th scope=col>&lt;int&gt;</th><th scope=col>&lt;int&gt;</th><th scope=col>&lt;chr&gt;</th><th scope=col>&lt;chr&gt;</th></tr>\n",
       "</thead>\n",
       "<tbody>\n",
       "\t<tr><th scope=row>1</th><td>chr1</td><td>12227</td><td>12612</td><td>DDX11L1</td><td>;</td></tr>\n",
       "\t<tr><th scope=row>2</th><td>chr1</td><td>12721</td><td>13220</td><td>DDX11L1</td><td>;</td></tr>\n",
       "\t<tr><th scope=row>3</th><td>chr1</td><td>14829</td><td>14969</td><td>WASH7P </td><td>;</td></tr>\n",
       "\t<tr><th scope=row>4</th><td>chr1</td><td>15038</td><td>15795</td><td>WASH7P </td><td>;</td></tr>\n",
       "\t<tr><th scope=row>5</th><td>chr1</td><td>15947</td><td>16606</td><td>WASH7P </td><td>;</td></tr>\n",
       "\t<tr><th scope=row>6</th><td>chr1</td><td>16765</td><td>16857</td><td>WASH7P </td><td>;</td></tr>\n",
       "</tbody>\n",
       "</table>\n"
      ],
      "text/latex": [
       "A data.frame: 6 × 5\n",
       "\\begin{tabular}{r|lllll}\n",
       "  & V1 & V2 & V3 & V4 & V5\\\\\n",
       "  & <chr> & <int> & <int> & <chr> & <chr>\\\\\n",
       "\\hline\n",
       "\t1 & chr1 & 12227 & 12612 & DDX11L1 & ;\\\\\n",
       "\t2 & chr1 & 12721 & 13220 & DDX11L1 & ;\\\\\n",
       "\t3 & chr1 & 14829 & 14969 & WASH7P  & ;\\\\\n",
       "\t4 & chr1 & 15038 & 15795 & WASH7P  & ;\\\\\n",
       "\t5 & chr1 & 15947 & 16606 & WASH7P  & ;\\\\\n",
       "\t6 & chr1 & 16765 & 16857 & WASH7P  & ;\\\\\n",
       "\\end{tabular}\n"
      ],
      "text/markdown": [
       "\n",
       "A data.frame: 6 × 5\n",
       "\n",
       "| <!--/--> | V1 &lt;chr&gt; | V2 &lt;int&gt; | V3 &lt;int&gt; | V4 &lt;chr&gt; | V5 &lt;chr&gt; |\n",
       "|---|---|---|---|---|---|\n",
       "| 1 | chr1 | 12227 | 12612 | DDX11L1 | ; |\n",
       "| 2 | chr1 | 12721 | 13220 | DDX11L1 | ; |\n",
       "| 3 | chr1 | 14829 | 14969 | WASH7P  | ; |\n",
       "| 4 | chr1 | 15038 | 15795 | WASH7P  | ; |\n",
       "| 5 | chr1 | 15947 | 16606 | WASH7P  | ; |\n",
       "| 6 | chr1 | 16765 | 16857 | WASH7P  | ; |\n",
       "\n"
      ],
      "text/plain": [
       "  V1   V2    V3    V4      V5\n",
       "1 chr1 12227 12612 DDX11L1 ; \n",
       "2 chr1 12721 13220 DDX11L1 ; \n",
       "3 chr1 14829 14969 WASH7P  ; \n",
       "4 chr1 15038 15795 WASH7P  ; \n",
       "5 chr1 15947 16606 WASH7P  ; \n",
       "6 chr1 16765 16857 WASH7P  ; "
      ]
     },
     "metadata": {},
     "output_type": "display_data"
    }
   ],
   "source": [
    "intron_regions <- read.table(\"/disk1/wenqing/tmp_data/gtf_files/refseq/refGene_intron.bed\")\n",
    "head(intron_regions)"
   ]
  },
  {
   "cell_type": "code",
   "execution_count": 19,
   "metadata": {
    "vscode": {
     "languageId": "r"
    }
   },
   "outputs": [
    {
     "data": {
      "text/html": [
       "348"
      ],
      "text/latex": [
       "348"
      ],
      "text/markdown": [
       "348"
      ],
      "text/plain": [
       "[1] 348"
      ]
     },
     "metadata": {},
     "output_type": "display_data"
    }
   ],
   "source": [
    "mRNA_genes <- read.table(\"/disk1/wenqing/tmp_data/mRNA.bed\")[,4]\n",
    "length(mRNA_genes)"
   ]
  },
  {
   "cell_type": "code",
   "execution_count": 20,
   "metadata": {
    "vscode": {
     "languageId": "r"
    }
   },
   "outputs": [],
   "source": [
    "all_locs <- c()\n",
    "for(one in mRNA_genes){\n",
    "    res <- grep(one,intron_regions[,4],ignore.case=TRUE)\n",
    "    if(length(res)!=0){\n",
    "        all_locs <- c(all_locs,res)\n",
    "    }\n",
    "}"
   ]
  },
  {
   "cell_type": "code",
   "execution_count": 22,
   "metadata": {
    "vscode": {
     "languageId": "r"
    }
   },
   "outputs": [
    {
     "data": {
      "text/html": [
       "<style>\n",
       ".list-inline {list-style: none; margin:0; padding: 0}\n",
       ".list-inline>li {display: inline-block}\n",
       ".list-inline>li:not(:last-child)::after {content: \"\\00b7\"; padding: 0 .5ex}\n",
       "</style>\n",
       "<ol class=list-inline><li>1588</li><li>4</li></ol>\n"
      ],
      "text/latex": [
       "\\begin{enumerate*}\n",
       "\\item 1588\n",
       "\\item 4\n",
       "\\end{enumerate*}\n"
      ],
      "text/markdown": [
       "1. 1588\n",
       "2. 4\n",
       "\n",
       "\n"
      ],
      "text/plain": [
       "[1] 1588    4"
      ]
     },
     "metadata": {},
     "output_type": "display_data"
    }
   ],
   "source": [
    "dim(intron_regions[all_locs,c(1:4)])"
   ]
  },
  {
   "cell_type": "code",
   "execution_count": 18,
   "metadata": {
    "vscode": {
     "languageId": "r"
    }
   },
   "outputs": [],
   "source": [
    "write.table(intron_regions[all_locs,c(1:4)],\"/disk1/wenqing/tmp_data/mRNA_intron.refseq.bed\",quote=F,col.names=F,row.names=F,sep='\\t')"
   ]
  }
 ],
 "metadata": {
  "kernelspec": {
   "display_name": "R",
   "language": "R",
   "name": "ir"
  },
  "language_info": {
   "codemirror_mode": "r",
   "file_extension": ".r",
   "mimetype": "text/x-r-source",
   "name": "R",
   "pygments_lexer": "r",
   "version": "4.3.1"
  },
  "orig_nbformat": 4
 },
 "nbformat": 4,
 "nbformat_minor": 2
}
