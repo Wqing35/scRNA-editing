{
 "cells": [
  {
   "cell_type": "code",
   "execution_count": 1,
   "metadata": {
    "vscode": {
     "languageId": "r"
    }
   },
   "outputs": [],
   "source": [
    ".libPaths('/disk1/wenqing/anaconda3/envs/wq_R4.2/lib/R/library')"
   ]
  },
  {
   "cell_type": "code",
   "execution_count": 6,
   "metadata": {
    "vscode": {
     "languageId": "r"
    }
   },
   "outputs": [
    {
     "name": "stderr",
     "output_type": "stream",
     "text": [
      "\n",
      "Attaching package: ‘dplyr’\n",
      "\n",
      "\n",
      "The following objects are masked from ‘package:stats’:\n",
      "\n",
      "    filter, lag\n",
      "\n",
      "\n",
      "The following objects are masked from ‘package:base’:\n",
      "\n",
      "    intersect, setdiff, setequal, union\n",
      "\n",
      "\n",
      "── \u001b[1mAttaching core tidyverse packages\u001b[22m ──────────────────────── tidyverse 2.0.0 ──\n",
      "\u001b[32m✔\u001b[39m \u001b[34mforcats  \u001b[39m 1.0.0     \u001b[32m✔\u001b[39m \u001b[34mreadr    \u001b[39m 2.1.4\n",
      "\u001b[32m✔\u001b[39m \u001b[34mlubridate\u001b[39m 1.9.3     \u001b[32m✔\u001b[39m \u001b[34mstringr  \u001b[39m 1.5.0\n",
      "\u001b[32m✔\u001b[39m \u001b[34mpurrr    \u001b[39m 1.0.2     \u001b[32m✔\u001b[39m \u001b[34mtibble   \u001b[39m 3.2.1\n",
      "── \u001b[1mConflicts\u001b[22m ────────────────────────────────────────── tidyverse_conflicts() ──\n",
      "\u001b[31m✖\u001b[39m \u001b[34mdplyr\u001b[39m::\u001b[32mfilter()\u001b[39m masks \u001b[34mstats\u001b[39m::filter()\n",
      "\u001b[31m✖\u001b[39m \u001b[34mdplyr\u001b[39m::\u001b[32mlag()\u001b[39m    masks \u001b[34mstats\u001b[39m::lag()\n",
      "\u001b[36mℹ\u001b[39m Use the conflicted package (\u001b[3m\u001b[34m<http://conflicted.r-lib.org/>\u001b[39m\u001b[23m) to force all conflicts to become errors\n"
     ]
    }
   ],
   "source": [
    "# 确保载入所需的库\n",
    "library(tidyr)\n",
    "library(dplyr)\n",
    "library(ggplot2)\n",
    "library(tidyverse)\n",
    "library(pheatmap)\n",
    "#library(ggtree)  #聚类\n",
    "#library(aplot) "
   ]
  },
  {
   "cell_type": "code",
   "execution_count": 7,
   "metadata": {
    "vscode": {
     "languageId": "r"
    }
   },
   "outputs": [
    {
     "data": {
      "text/html": [
       "<table class=\"dataframe\">\n",
       "<caption>A data.frame: 6 × 2</caption>\n",
       "<thead>\n",
       "\t<tr><th></th><th scope=col>site</th><th scope=col>editing_rate</th></tr>\n",
       "\t<tr><th></th><th scope=col>&lt;chr&gt;</th><th scope=col>&lt;chr&gt;</th></tr>\n",
       "</thead>\n",
       "<tbody>\n",
       "\t<tr><th scope=row>1</th><td>chr1_657327 </td><td>1                </td></tr>\n",
       "\t<tr><th scope=row>2</th><td>chr1_657332 </td><td>0.944444444444444</td></tr>\n",
       "\t<tr><th scope=row>3</th><td>chr1_6714997</td><td>1                </td></tr>\n",
       "\t<tr><th scope=row>4</th><td>chr1_6715085</td><td>1                </td></tr>\n",
       "\t<tr><th scope=row>5</th><td>chr1_8531710</td><td>1                </td></tr>\n",
       "\t<tr><th scope=row>6</th><td>chr1_8531744</td><td>1                </td></tr>\n",
       "</tbody>\n",
       "</table>\n"
      ],
      "text/latex": [
       "A data.frame: 6 × 2\n",
       "\\begin{tabular}{r|ll}\n",
       "  & site & editing\\_rate\\\\\n",
       "  & <chr> & <chr>\\\\\n",
       "\\hline\n",
       "\t1 & chr1\\_657327  & 1                \\\\\n",
       "\t2 & chr1\\_657332  & 0.944444444444444\\\\\n",
       "\t3 & chr1\\_6714997 & 1                \\\\\n",
       "\t4 & chr1\\_6715085 & 1                \\\\\n",
       "\t5 & chr1\\_8531710 & 1                \\\\\n",
       "\t6 & chr1\\_8531744 & 1                \\\\\n",
       "\\end{tabular}\n"
      ],
      "text/markdown": [
       "\n",
       "A data.frame: 6 × 2\n",
       "\n",
       "| <!--/--> | site &lt;chr&gt; | editing_rate &lt;chr&gt; |\n",
       "|---|---|---|\n",
       "| 1 | chr1_657327  | 1                 |\n",
       "| 2 | chr1_657332  | 0.944444444444444 |\n",
       "| 3 | chr1_6714997 | 1                 |\n",
       "| 4 | chr1_6715085 | 1                 |\n",
       "| 5 | chr1_8531710 | 1                 |\n",
       "| 6 | chr1_8531744 | 1                 |\n",
       "\n"
      ],
      "text/plain": [
       "  site         editing_rate     \n",
       "1 chr1_657327  1                \n",
       "2 chr1_657332  0.944444444444444\n",
       "3 chr1_6714997 1                \n",
       "4 chr1_6715085 1                \n",
       "5 chr1_8531710 1                \n",
       "6 chr1_8531744 1                "
      ]
     },
     "metadata": {},
     "output_type": "display_data"
    },
    {
     "data": {
      "text/html": [
       "<table class=\"dataframe\">\n",
       "<caption>A data.frame: 6 × 2</caption>\n",
       "<thead>\n",
       "\t<tr><th></th><th scope=col>site</th><th scope=col>editing_rate</th></tr>\n",
       "\t<tr><th></th><th scope=col>&lt;chr&gt;</th><th scope=col>&lt;chr&gt;</th></tr>\n",
       "</thead>\n",
       "<tbody>\n",
       "\t<tr><th scope=row>1</th><td>chr1_657327 </td><td>0.941176470588235</td></tr>\n",
       "\t<tr><th scope=row>2</th><td>chr1_657332 </td><td>0.897058823529412</td></tr>\n",
       "\t<tr><th scope=row>3</th><td>chr1_1664434</td><td>0.587301587301587</td></tr>\n",
       "\t<tr><th scope=row>4</th><td>chr1_1664475</td><td>0.387096774193548</td></tr>\n",
       "\t<tr><th scope=row>5</th><td>chr1_9331094</td><td>1                </td></tr>\n",
       "\t<tr><th scope=row>6</th><td>chr1_9331101</td><td>1                </td></tr>\n",
       "</tbody>\n",
       "</table>\n"
      ],
      "text/latex": [
       "A data.frame: 6 × 2\n",
       "\\begin{tabular}{r|ll}\n",
       "  & site & editing\\_rate\\\\\n",
       "  & <chr> & <chr>\\\\\n",
       "\\hline\n",
       "\t1 & chr1\\_657327  & 0.941176470588235\\\\\n",
       "\t2 & chr1\\_657332  & 0.897058823529412\\\\\n",
       "\t3 & chr1\\_1664434 & 0.587301587301587\\\\\n",
       "\t4 & chr1\\_1664475 & 0.387096774193548\\\\\n",
       "\t5 & chr1\\_9331094 & 1                \\\\\n",
       "\t6 & chr1\\_9331101 & 1                \\\\\n",
       "\\end{tabular}\n"
      ],
      "text/markdown": [
       "\n",
       "A data.frame: 6 × 2\n",
       "\n",
       "| <!--/--> | site &lt;chr&gt; | editing_rate &lt;chr&gt; |\n",
       "|---|---|---|\n",
       "| 1 | chr1_657327  | 0.941176470588235 |\n",
       "| 2 | chr1_657332  | 0.897058823529412 |\n",
       "| 3 | chr1_1664434 | 0.587301587301587 |\n",
       "| 4 | chr1_1664475 | 0.387096774193548 |\n",
       "| 5 | chr1_9331094 | 1                 |\n",
       "| 6 | chr1_9331101 | 1                 |\n",
       "\n"
      ],
      "text/plain": [
       "  site         editing_rate     \n",
       "1 chr1_657327  0.941176470588235\n",
       "2 chr1_657332  0.897058823529412\n",
       "3 chr1_1664434 0.587301587301587\n",
       "4 chr1_1664475 0.387096774193548\n",
       "5 chr1_9331094 1                \n",
       "6 chr1_9331101 1                "
      ]
     },
     "metadata": {},
     "output_type": "display_data"
    },
    {
     "data": {
      "text/html": [
       "<table class=\"dataframe\">\n",
       "<caption>A data.frame: 6 × 2</caption>\n",
       "<thead>\n",
       "\t<tr><th></th><th scope=col>site</th><th scope=col>editing_rate</th></tr>\n",
       "\t<tr><th></th><th scope=col>&lt;chr&gt;</th><th scope=col>&lt;chr&gt;</th></tr>\n",
       "</thead>\n",
       "<tbody>\n",
       "\t<tr><th scope=row>1</th><td>chr1_10521170</td><td>1</td></tr>\n",
       "\t<tr><th scope=row>2</th><td>chr1_10521172</td><td>1</td></tr>\n",
       "\t<tr><th scope=row>3</th><td>chr1_10521200</td><td>1</td></tr>\n",
       "\t<tr><th scope=row>4</th><td>chr1_21440736</td><td>1</td></tr>\n",
       "\t<tr><th scope=row>5</th><td>chr1_21440894</td><td>1</td></tr>\n",
       "\t<tr><th scope=row>6</th><td>chr1_21440895</td><td>1</td></tr>\n",
       "</tbody>\n",
       "</table>\n"
      ],
      "text/latex": [
       "A data.frame: 6 × 2\n",
       "\\begin{tabular}{r|ll}\n",
       "  & site & editing\\_rate\\\\\n",
       "  & <chr> & <chr>\\\\\n",
       "\\hline\n",
       "\t1 & chr1\\_10521170 & 1\\\\\n",
       "\t2 & chr1\\_10521172 & 1\\\\\n",
       "\t3 & chr1\\_10521200 & 1\\\\\n",
       "\t4 & chr1\\_21440736 & 1\\\\\n",
       "\t5 & chr1\\_21440894 & 1\\\\\n",
       "\t6 & chr1\\_21440895 & 1\\\\\n",
       "\\end{tabular}\n"
      ],
      "text/markdown": [
       "\n",
       "A data.frame: 6 × 2\n",
       "\n",
       "| <!--/--> | site &lt;chr&gt; | editing_rate &lt;chr&gt; |\n",
       "|---|---|---|\n",
       "| 1 | chr1_10521170 | 1 |\n",
       "| 2 | chr1_10521172 | 1 |\n",
       "| 3 | chr1_10521200 | 1 |\n",
       "| 4 | chr1_21440736 | 1 |\n",
       "| 5 | chr1_21440894 | 1 |\n",
       "| 6 | chr1_21440895 | 1 |\n",
       "\n"
      ],
      "text/plain": [
       "  site          editing_rate\n",
       "1 chr1_10521170 1           \n",
       "2 chr1_10521172 1           \n",
       "3 chr1_10521200 1           \n",
       "4 chr1_21440736 1           \n",
       "5 chr1_21440894 1           \n",
       "6 chr1_21440895 1           "
      ]
     },
     "metadata": {},
     "output_type": "display_data"
    },
    {
     "data": {
      "text/html": [
       "<table class=\"dataframe\">\n",
       "<caption>A data.frame: 6 × 2</caption>\n",
       "<thead>\n",
       "\t<tr><th></th><th scope=col>site</th><th scope=col>editing_rate</th></tr>\n",
       "\t<tr><th></th><th scope=col>&lt;chr&gt;</th><th scope=col>&lt;chr&gt;</th></tr>\n",
       "</thead>\n",
       "<tbody>\n",
       "\t<tr><th scope=row>1</th><td>chr1_1662627</td><td>1</td></tr>\n",
       "\t<tr><th scope=row>2</th><td>chr1_1662652</td><td>1</td></tr>\n",
       "\t<tr><th scope=row>3</th><td>chr1_1662694</td><td>1</td></tr>\n",
       "\t<tr><th scope=row>4</th><td>chr1_1662733</td><td>1</td></tr>\n",
       "\t<tr><th scope=row>5</th><td>chr1_2302195</td><td>1</td></tr>\n",
       "\t<tr><th scope=row>6</th><td>chr1_2302209</td><td>1</td></tr>\n",
       "</tbody>\n",
       "</table>\n"
      ],
      "text/latex": [
       "A data.frame: 6 × 2\n",
       "\\begin{tabular}{r|ll}\n",
       "  & site & editing\\_rate\\\\\n",
       "  & <chr> & <chr>\\\\\n",
       "\\hline\n",
       "\t1 & chr1\\_1662627 & 1\\\\\n",
       "\t2 & chr1\\_1662652 & 1\\\\\n",
       "\t3 & chr1\\_1662694 & 1\\\\\n",
       "\t4 & chr1\\_1662733 & 1\\\\\n",
       "\t5 & chr1\\_2302195 & 1\\\\\n",
       "\t6 & chr1\\_2302209 & 1\\\\\n",
       "\\end{tabular}\n"
      ],
      "text/markdown": [
       "\n",
       "A data.frame: 6 × 2\n",
       "\n",
       "| <!--/--> | site &lt;chr&gt; | editing_rate &lt;chr&gt; |\n",
       "|---|---|---|\n",
       "| 1 | chr1_1662627 | 1 |\n",
       "| 2 | chr1_1662652 | 1 |\n",
       "| 3 | chr1_1662694 | 1 |\n",
       "| 4 | chr1_1662733 | 1 |\n",
       "| 5 | chr1_2302195 | 1 |\n",
       "| 6 | chr1_2302209 | 1 |\n",
       "\n"
      ],
      "text/plain": [
       "  site         editing_rate\n",
       "1 chr1_1662627 1           \n",
       "2 chr1_1662652 1           \n",
       "3 chr1_1662694 1           \n",
       "4 chr1_1662733 1           \n",
       "5 chr1_2302195 1           \n",
       "6 chr1_2302209 1           "
      ]
     },
     "metadata": {},
     "output_type": "display_data"
    },
    {
     "data": {
      "text/html": [
       "<table class=\"dataframe\">\n",
       "<caption>A data.frame: 6 × 2</caption>\n",
       "<thead>\n",
       "\t<tr><th></th><th scope=col>site</th><th scope=col>editing_rate</th></tr>\n",
       "\t<tr><th></th><th scope=col>&lt;chr&gt;</th><th scope=col>&lt;chr&gt;</th></tr>\n",
       "</thead>\n",
       "<tbody>\n",
       "\t<tr><th scope=row>1</th><td>chr1_21466899</td><td>1</td></tr>\n",
       "\t<tr><th scope=row>2</th><td>chr1_21466903</td><td>1</td></tr>\n",
       "\t<tr><th scope=row>3</th><td>chr1_21467001</td><td>1</td></tr>\n",
       "\t<tr><th scope=row>4</th><td>chr1_36067760</td><td>1</td></tr>\n",
       "\t<tr><th scope=row>5</th><td>chr1_36067817</td><td>1</td></tr>\n",
       "\t<tr><th scope=row>6</th><td>chr1_36068151</td><td>1</td></tr>\n",
       "</tbody>\n",
       "</table>\n"
      ],
      "text/latex": [
       "A data.frame: 6 × 2\n",
       "\\begin{tabular}{r|ll}\n",
       "  & site & editing\\_rate\\\\\n",
       "  & <chr> & <chr>\\\\\n",
       "\\hline\n",
       "\t1 & chr1\\_21466899 & 1\\\\\n",
       "\t2 & chr1\\_21466903 & 1\\\\\n",
       "\t3 & chr1\\_21467001 & 1\\\\\n",
       "\t4 & chr1\\_36067760 & 1\\\\\n",
       "\t5 & chr1\\_36067817 & 1\\\\\n",
       "\t6 & chr1\\_36068151 & 1\\\\\n",
       "\\end{tabular}\n"
      ],
      "text/markdown": [
       "\n",
       "A data.frame: 6 × 2\n",
       "\n",
       "| <!--/--> | site &lt;chr&gt; | editing_rate &lt;chr&gt; |\n",
       "|---|---|---|\n",
       "| 1 | chr1_21466899 | 1 |\n",
       "| 2 | chr1_21466903 | 1 |\n",
       "| 3 | chr1_21467001 | 1 |\n",
       "| 4 | chr1_36067760 | 1 |\n",
       "| 5 | chr1_36067817 | 1 |\n",
       "| 6 | chr1_36068151 | 1 |\n",
       "\n"
      ],
      "text/plain": [
       "  site          editing_rate\n",
       "1 chr1_21466899 1           \n",
       "2 chr1_21466903 1           \n",
       "3 chr1_21467001 1           \n",
       "4 chr1_36067760 1           \n",
       "5 chr1_36067817 1           \n",
       "6 chr1_36068151 1           "
      ]
     },
     "metadata": {},
     "output_type": "display_data"
    },
    {
     "data": {
      "text/html": [
       "<table class=\"dataframe\">\n",
       "<caption>A data.frame: 6 × 2</caption>\n",
       "<thead>\n",
       "\t<tr><th></th><th scope=col>site</th><th scope=col>editing_rate</th></tr>\n",
       "\t<tr><th></th><th scope=col>&lt;chr&gt;</th><th scope=col>&lt;chr&gt;</th></tr>\n",
       "</thead>\n",
       "<tbody>\n",
       "\t<tr><th scope=row>1</th><td>chr1_567949</td><td>0.0124282982791587</td></tr>\n",
       "\t<tr><th scope=row>2</th><td>chr1_567950</td><td>0.0247855100095329</td></tr>\n",
       "\t<tr><th scope=row>3</th><td>chr1_567951</td><td>0.0204372623574144</td></tr>\n",
       "\t<tr><th scope=row>4</th><td>chr1_567952</td><td>0.0208827717133365</td></tr>\n",
       "\t<tr><th scope=row>5</th><td>chr1_567953</td><td>0.0165641268338855</td></tr>\n",
       "\t<tr><th scope=row>6</th><td>chr1_567956</td><td>0.0113260972156678</td></tr>\n",
       "</tbody>\n",
       "</table>\n"
      ],
      "text/latex": [
       "A data.frame: 6 × 2\n",
       "\\begin{tabular}{r|ll}\n",
       "  & site & editing\\_rate\\\\\n",
       "  & <chr> & <chr>\\\\\n",
       "\\hline\n",
       "\t1 & chr1\\_567949 & 0.0124282982791587\\\\\n",
       "\t2 & chr1\\_567950 & 0.0247855100095329\\\\\n",
       "\t3 & chr1\\_567951 & 0.0204372623574144\\\\\n",
       "\t4 & chr1\\_567952 & 0.0208827717133365\\\\\n",
       "\t5 & chr1\\_567953 & 0.0165641268338855\\\\\n",
       "\t6 & chr1\\_567956 & 0.0113260972156678\\\\\n",
       "\\end{tabular}\n"
      ],
      "text/markdown": [
       "\n",
       "A data.frame: 6 × 2\n",
       "\n",
       "| <!--/--> | site &lt;chr&gt; | editing_rate &lt;chr&gt; |\n",
       "|---|---|---|\n",
       "| 1 | chr1_567949 | 0.0124282982791587 |\n",
       "| 2 | chr1_567950 | 0.0247855100095329 |\n",
       "| 3 | chr1_567951 | 0.0204372623574144 |\n",
       "| 4 | chr1_567952 | 0.0208827717133365 |\n",
       "| 5 | chr1_567953 | 0.0165641268338855 |\n",
       "| 6 | chr1_567956 | 0.0113260972156678 |\n",
       "\n"
      ],
      "text/plain": [
       "  site        editing_rate      \n",
       "1 chr1_567949 0.0124282982791587\n",
       "2 chr1_567950 0.0247855100095329\n",
       "3 chr1_567951 0.0204372623574144\n",
       "4 chr1_567952 0.0208827717133365\n",
       "5 chr1_567953 0.0165641268338855\n",
       "6 chr1_567956 0.0113260972156678"
      ]
     },
     "metadata": {},
     "output_type": "display_data"
    },
    {
     "data": {
      "text/html": [
       "<table class=\"dataframe\">\n",
       "<caption>A data.frame: 6 × 2</caption>\n",
       "<thead>\n",
       "\t<tr><th></th><th scope=col>site</th><th scope=col>editing_rate</th></tr>\n",
       "\t<tr><th></th><th scope=col>&lt;chr&gt;</th><th scope=col>&lt;chr&gt;</th></tr>\n",
       "</thead>\n",
       "<tbody>\n",
       "\t<tr><th scope=row>1</th><td>chr1_1814485 </td><td>1</td></tr>\n",
       "\t<tr><th scope=row>2</th><td>chr1_1814495 </td><td>1</td></tr>\n",
       "\t<tr><th scope=row>3</th><td>chr1_1814599 </td><td>1</td></tr>\n",
       "\t<tr><th scope=row>4</th><td>chr1_10456114</td><td>1</td></tr>\n",
       "\t<tr><th scope=row>5</th><td>chr1_10456175</td><td>1</td></tr>\n",
       "\t<tr><th scope=row>6</th><td>chr1_10456179</td><td>1</td></tr>\n",
       "</tbody>\n",
       "</table>\n"
      ],
      "text/latex": [
       "A data.frame: 6 × 2\n",
       "\\begin{tabular}{r|ll}\n",
       "  & site & editing\\_rate\\\\\n",
       "  & <chr> & <chr>\\\\\n",
       "\\hline\n",
       "\t1 & chr1\\_1814485  & 1\\\\\n",
       "\t2 & chr1\\_1814495  & 1\\\\\n",
       "\t3 & chr1\\_1814599  & 1\\\\\n",
       "\t4 & chr1\\_10456114 & 1\\\\\n",
       "\t5 & chr1\\_10456175 & 1\\\\\n",
       "\t6 & chr1\\_10456179 & 1\\\\\n",
       "\\end{tabular}\n"
      ],
      "text/markdown": [
       "\n",
       "A data.frame: 6 × 2\n",
       "\n",
       "| <!--/--> | site &lt;chr&gt; | editing_rate &lt;chr&gt; |\n",
       "|---|---|---|\n",
       "| 1 | chr1_1814485  | 1 |\n",
       "| 2 | chr1_1814495  | 1 |\n",
       "| 3 | chr1_1814599  | 1 |\n",
       "| 4 | chr1_10456114 | 1 |\n",
       "| 5 | chr1_10456175 | 1 |\n",
       "| 6 | chr1_10456179 | 1 |\n",
       "\n"
      ],
      "text/plain": [
       "  site          editing_rate\n",
       "1 chr1_1814485  1           \n",
       "2 chr1_1814495  1           \n",
       "3 chr1_1814599  1           \n",
       "4 chr1_10456114 1           \n",
       "5 chr1_10456175 1           \n",
       "6 chr1_10456179 1           "
      ]
     },
     "metadata": {},
     "output_type": "display_data"
    },
    {
     "data": {
      "text/html": [
       "<table class=\"dataframe\">\n",
       "<caption>A data.frame: 6 × 2</caption>\n",
       "<thead>\n",
       "\t<tr><th></th><th scope=col>site</th><th scope=col>editing_rate</th></tr>\n",
       "\t<tr><th></th><th scope=col>&lt;chr&gt;</th><th scope=col>&lt;chr&gt;</th></tr>\n",
       "</thead>\n",
       "<tbody>\n",
       "\t<tr><th scope=row>1</th><td>chr1_6353082 </td><td>1   </td></tr>\n",
       "\t<tr><th scope=row>2</th><td>chr1_6353088 </td><td>1   </td></tr>\n",
       "\t<tr><th scope=row>3</th><td>chr1_8599541 </td><td>1   </td></tr>\n",
       "\t<tr><th scope=row>4</th><td>chr1_8599602 </td><td>1   </td></tr>\n",
       "\t<tr><th scope=row>5</th><td>chr1_8599752 </td><td>1   </td></tr>\n",
       "\t<tr><th scope=row>6</th><td>chr1_10521144</td><td>0.17</td></tr>\n",
       "</tbody>\n",
       "</table>\n"
      ],
      "text/latex": [
       "A data.frame: 6 × 2\n",
       "\\begin{tabular}{r|ll}\n",
       "  & site & editing\\_rate\\\\\n",
       "  & <chr> & <chr>\\\\\n",
       "\\hline\n",
       "\t1 & chr1\\_6353082  & 1   \\\\\n",
       "\t2 & chr1\\_6353088  & 1   \\\\\n",
       "\t3 & chr1\\_8599541  & 1   \\\\\n",
       "\t4 & chr1\\_8599602  & 1   \\\\\n",
       "\t5 & chr1\\_8599752  & 1   \\\\\n",
       "\t6 & chr1\\_10521144 & 0.17\\\\\n",
       "\\end{tabular}\n"
      ],
      "text/markdown": [
       "\n",
       "A data.frame: 6 × 2\n",
       "\n",
       "| <!--/--> | site &lt;chr&gt; | editing_rate &lt;chr&gt; |\n",
       "|---|---|---|\n",
       "| 1 | chr1_6353082  | 1    |\n",
       "| 2 | chr1_6353088  | 1    |\n",
       "| 3 | chr1_8599541  | 1    |\n",
       "| 4 | chr1_8599602  | 1    |\n",
       "| 5 | chr1_8599752  | 1    |\n",
       "| 6 | chr1_10521144 | 0.17 |\n",
       "\n"
      ],
      "text/plain": [
       "  site          editing_rate\n",
       "1 chr1_6353082  1           \n",
       "2 chr1_6353088  1           \n",
       "3 chr1_8599541  1           \n",
       "4 chr1_8599602  1           \n",
       "5 chr1_8599752  1           \n",
       "6 chr1_10521144 0.17        "
      ]
     },
     "metadata": {},
     "output_type": "display_data"
    },
    {
     "data": {
      "text/html": [
       "<table class=\"dataframe\">\n",
       "<caption>A data.frame: 6 × 2</caption>\n",
       "<thead>\n",
       "\t<tr><th></th><th scope=col>site</th><th scope=col>editing_rate</th></tr>\n",
       "\t<tr><th></th><th scope=col>&lt;chr&gt;</th><th scope=col>&lt;chr&gt;</th></tr>\n",
       "</thead>\n",
       "<tbody>\n",
       "\t<tr><th scope=row>1</th><td>chr1_657320  </td><td>0.808219178082192</td></tr>\n",
       "\t<tr><th scope=row>2</th><td>chr1_657327  </td><td>0.901408450704225</td></tr>\n",
       "\t<tr><th scope=row>3</th><td>chr1_657332  </td><td>0.901785714285714</td></tr>\n",
       "\t<tr><th scope=row>4</th><td>chr1_9962935 </td><td>1                </td></tr>\n",
       "\t<tr><th scope=row>5</th><td>chr1_9962962 </td><td>1                </td></tr>\n",
       "\t<tr><th scope=row>6</th><td>chr1_10298319</td><td>1                </td></tr>\n",
       "</tbody>\n",
       "</table>\n"
      ],
      "text/latex": [
       "A data.frame: 6 × 2\n",
       "\\begin{tabular}{r|ll}\n",
       "  & site & editing\\_rate\\\\\n",
       "  & <chr> & <chr>\\\\\n",
       "\\hline\n",
       "\t1 & chr1\\_657320   & 0.808219178082192\\\\\n",
       "\t2 & chr1\\_657327   & 0.901408450704225\\\\\n",
       "\t3 & chr1\\_657332   & 0.901785714285714\\\\\n",
       "\t4 & chr1\\_9962935  & 1                \\\\\n",
       "\t5 & chr1\\_9962962  & 1                \\\\\n",
       "\t6 & chr1\\_10298319 & 1                \\\\\n",
       "\\end{tabular}\n"
      ],
      "text/markdown": [
       "\n",
       "A data.frame: 6 × 2\n",
       "\n",
       "| <!--/--> | site &lt;chr&gt; | editing_rate &lt;chr&gt; |\n",
       "|---|---|---|\n",
       "| 1 | chr1_657320   | 0.808219178082192 |\n",
       "| 2 | chr1_657327   | 0.901408450704225 |\n",
       "| 3 | chr1_657332   | 0.901785714285714 |\n",
       "| 4 | chr1_9962935  | 1                 |\n",
       "| 5 | chr1_9962962  | 1                 |\n",
       "| 6 | chr1_10298319 | 1                 |\n",
       "\n"
      ],
      "text/plain": [
       "  site          editing_rate     \n",
       "1 chr1_657320   0.808219178082192\n",
       "2 chr1_657327   0.901408450704225\n",
       "3 chr1_657332   0.901785714285714\n",
       "4 chr1_9962935  1                \n",
       "5 chr1_9962962  1                \n",
       "6 chr1_10298319 1                "
      ]
     },
     "metadata": {},
     "output_type": "display_data"
    }
   ],
   "source": [
    "###########在每种细胞类型中，鉴定差异编辑位点\n",
    "#step1：计算每个样本的编辑水平\n",
    "celltype <- 'OPC'\n",
    "\n",
    "regular_res_depth_16_1_3 <- read.table(paste0(\"/disk1/wenqing/tmp_data/PFC_s2/filter_snv_for_new_res/GW16_1_3/\",celltype,\"/regular.res.depth.orig\"))\n",
    "res_site_editing_rate_16_1_3 <- as.data.frame(cbind(paste0(regular_res_depth_16_1_3[,1],'_',regular_res_depth_16_1_3[,3]),\n",
    "                                regular_res_depth_16_1_3[,7]/regular_res_depth_16_1_3[,8]))\n",
    "colnames(res_site_editing_rate_16_1_3) <- c('site','editing_rate')\n",
    "head(res_site_editing_rate_16_1_3)\n",
    "regular_res_depth_16_1_4 <- read.table(paste0(\"/disk1/wenqing/tmp_data/PFC_s2/filter_snv_for_new_res/GW16_1_4/\",celltype,\"/regular.res.depth.orig\"))\n",
    "res_site_editing_rate_16_1_4 <- as.data.frame(cbind(paste0(regular_res_depth_16_1_4[,1],'_',regular_res_depth_16_1_4[,3]),\n",
    "                                regular_res_depth_16_1_4[,7]/regular_res_depth_16_1_4[,8]))\n",
    "colnames(res_site_editing_rate_16_1_4) <- c('site','editing_rate')\n",
    "head(res_site_editing_rate_16_1_4)\n",
    "regular_res_depth_16_1_9 <- read.table(paste0(\"/disk1/wenqing/tmp_data/PFC_s2/filter_snv_for_new_res/GW16_1_9/\",celltype,\"/regular.res.depth.orig\"))\n",
    "res_site_editing_rate_16_1_9 <- as.data.frame(cbind(paste0(regular_res_depth_16_1_9[,1],'_',regular_res_depth_16_1_9[,3]),\n",
    "                                regular_res_depth_16_1_9[,7]/regular_res_depth_16_1_9[,8]))\n",
    "colnames(res_site_editing_rate_16_1_9) <- c('site','editing_rate')\n",
    "head(res_site_editing_rate_16_1_9)\n",
    "regular_res_depth_19_1_1 <- read.table(paste0(\"/disk1/wenqing/tmp_data/PFC_s2/filter_snv_for_new_res/GW19_1_1/\",celltype,\"/regular.res.depth.orig\"))\n",
    "res_site_editing_rate_19_1_1 <- as.data.frame(cbind(paste0(regular_res_depth_19_1_1[,1],'_',regular_res_depth_19_1_1[,3]),\n",
    "                                regular_res_depth_19_1_1[,7]/regular_res_depth_19_1_1[,8]))\n",
    "colnames(res_site_editing_rate_19_1_1) <- c('site','editing_rate')\n",
    "head(res_site_editing_rate_19_1_1)\n",
    "regular_res_depth_19_1_3 <- read.table(paste0(\"/disk1/wenqing/tmp_data/PFC_s2/filter_snv_for_new_res/GW19_1_3/\",celltype,\"/regular.res.depth.orig\"))\n",
    "res_site_editing_rate_19_1_3 <- as.data.frame(cbind(paste0(regular_res_depth_19_1_3[,1],'_',regular_res_depth_19_1_3[,3]),\n",
    "                                regular_res_depth_19_1_3[,7]/regular_res_depth_19_1_3[,8]))\n",
    "colnames(res_site_editing_rate_19_1_3) <- c('site','editing_rate')\n",
    "head(res_site_editing_rate_19_1_3)\n",
    "regular_res_depth_23_1_1 <- read.table(paste0(\"/disk1/wenqing/tmp_data/PFC_s2/filter_snv_for_new_res/GW23_1_1/\",celltype,\"/regular.res.depth.orig\"))\n",
    "res_site_editing_rate_23_1_1 <- as.data.frame(cbind(paste0(regular_res_depth_23_1_1[,1],'_',regular_res_depth_23_1_1[,3]),\n",
    "                                regular_res_depth_23_1_1[,7]/regular_res_depth_23_1_1[,8]))\n",
    "colnames(res_site_editing_rate_23_1_1) <- c('site','editing_rate')\n",
    "head(res_site_editing_rate_23_1_1)\n",
    "regular_res_depth_23_1_2 <- read.table(paste0(\"/disk1/wenqing/tmp_data/PFC_s2/filter_snv_for_new_res/GW23_1_2/\",celltype,\"/regular.res.depth.orig\"))\n",
    "res_site_editing_rate_23_1_2 <- as.data.frame(cbind(paste0(regular_res_depth_23_1_2[,1],'_',regular_res_depth_23_1_2[,3]),\n",
    "                                regular_res_depth_23_1_2[,7]/regular_res_depth_23_1_2[,8]))\n",
    "colnames(res_site_editing_rate_23_1_2) <- c('site','editing_rate')\n",
    "head(res_site_editing_rate_23_1_2)\n",
    "regular_res_depth_23_1_3 <- read.table(paste0(\"/disk1/wenqing/tmp_data/PFC_s2/filter_snv_for_new_res/GW23_1_3/\",celltype,\"/regular.res.depth.orig\"))\n",
    "res_site_editing_rate_23_1_3 <- as.data.frame(cbind(paste0(regular_res_depth_23_1_3[,1],'_',regular_res_depth_23_1_3[,3]),\n",
    "                                regular_res_depth_23_1_3[,7]/regular_res_depth_23_1_3[,8]))\n",
    "colnames(res_site_editing_rate_23_1_3) <- c('site','editing_rate')\n",
    "head(res_site_editing_rate_23_1_3)\n",
    "regular_res_depth_26_1_1 <- read.table(paste0(\"/disk1/wenqing/tmp_data/PFC_s2/filter_snv_for_new_res/GW26_1_1/\",celltype,\"/regular.res.depth.orig\"))\n",
    "res_site_editing_rate_26_1_1 <- as.data.frame(cbind(paste0(regular_res_depth_26_1_1[,1],'_',regular_res_depth_26_1_1[,3]),\n",
    "                                regular_res_depth_26_1_1[,7]/regular_res_depth_26_1_1[,8]))\n",
    "colnames(res_site_editing_rate_26_1_1) <- c('site','editing_rate')\n",
    "head(res_site_editing_rate_26_1_1)"
   ]
  },
  {
   "cell_type": "code",
   "execution_count": null,
   "metadata": {
    "vscode": {
     "languageId": "r"
    }
   },
   "outputs": [],
   "source": [
    "#head(res_site_editing_rate_08)\n",
    "#Differentially edited editing sites across developmental stages were identified by ANOVA among the stage groups, followed by multiple test corrections with FDR.\n",
    "#增加样本数量\n",
    "######超过80%的位点编辑水平都等于100%（后续筛选）\n"
   ]
  },
  {
   "cell_type": "code",
   "execution_count": 34,
   "metadata": {
    "vscode": {
     "languageId": "r"
    }
   },
   "outputs": [],
   "source": [
    "#########过滤每个样本中editing rate为1的，GW26_1_1仍然有大量位点远多于其他三个样本\n",
    "sub_res_editing_rate_16_1_4 <- res_site_editing_rate_16_1_4[which(res_site_editing_rate_16_1_4$editing_rate!=1),]\n",
    "sub_res_editing_rate_19_1_1 <- res_site_editing_rate_19_1_1[which(res_site_editing_rate_19_1_1$editing_rate!=1),]\n",
    "sub_res_editing_rate_23_1_2 <- res_site_editing_rate_23_1_2[which(res_site_editing_rate_23_1_2$editing_rate!=1),]\n",
    "sub_res_editing_rate_26_1_1 <- res_site_editing_rate_26_1_1[which(res_site_editing_rate_26_1_1$editing_rate!=1),]\n",
    "sub_res_editing_rate_16_1_3 <- res_site_editing_rate_16_1_3[which(res_site_editing_rate_16_1_3$editing_rate!=1),]\n",
    "sub_res_editing_rate_16_1_9 <- res_site_editing_rate_16_1_9[which(res_site_editing_rate_16_1_9$editing_rate!=1),]\n",
    "sub_res_editing_rate_19_1_3 <- res_site_editing_rate_19_1_3[which(res_site_editing_rate_19_1_3$editing_rate!=1),]\n",
    "sub_res_editing_rate_23_1_1 <- res_site_editing_rate_23_1_1[which(res_site_editing_rate_23_1_1$editing_rate!=1),]\n",
    "sub_res_editing_rate_23_1_3 <- res_site_editing_rate_23_1_3[which(res_site_editing_rate_23_1_3$editing_rate!=1),]\n"
   ]
  },
  {
   "cell_type": "code",
   "execution_count": 5,
   "metadata": {
    "vscode": {
     "languageId": "r"
    }
   },
   "outputs": [
    {
     "data": {
      "text/html": [
       "<table class=\"dataframe\">\n",
       "<caption>A data.frame: 6 × 2</caption>\n",
       "<thead>\n",
       "\t<tr><th></th><th scope=col>site</th><th scope=col>editing_rate</th></tr>\n",
       "\t<tr><th></th><th scope=col>&lt;chr&gt;</th><th scope=col>&lt;chr&gt;</th></tr>\n",
       "</thead>\n",
       "<tbody>\n",
       "\t<tr><th scope=row>1</th><td>chr1_657327  </td><td>0.941176470588235</td></tr>\n",
       "\t<tr><th scope=row>2</th><td>chr1_657332  </td><td>0.897058823529412</td></tr>\n",
       "\t<tr><th scope=row>3</th><td>chr1_1664434 </td><td>0.587301587301587</td></tr>\n",
       "\t<tr><th scope=row>4</th><td>chr1_1664475 </td><td>0.387096774193548</td></tr>\n",
       "\t<tr><th scope=row>14</th><td>chr1_26088613</td><td>0.956521739130435</td></tr>\n",
       "\t<tr><th scope=row>15</th><td>chr1_26088618</td><td>0.96969696969697 </td></tr>\n",
       "</tbody>\n",
       "</table>\n"
      ],
      "text/latex": [
       "A data.frame: 6 × 2\n",
       "\\begin{tabular}{r|ll}\n",
       "  & site & editing\\_rate\\\\\n",
       "  & <chr> & <chr>\\\\\n",
       "\\hline\n",
       "\t1 & chr1\\_657327   & 0.941176470588235\\\\\n",
       "\t2 & chr1\\_657332   & 0.897058823529412\\\\\n",
       "\t3 & chr1\\_1664434  & 0.587301587301587\\\\\n",
       "\t4 & chr1\\_1664475  & 0.387096774193548\\\\\n",
       "\t14 & chr1\\_26088613 & 0.956521739130435\\\\\n",
       "\t15 & chr1\\_26088618 & 0.96969696969697 \\\\\n",
       "\\end{tabular}\n"
      ],
      "text/markdown": [
       "\n",
       "A data.frame: 6 × 2\n",
       "\n",
       "| <!--/--> | site &lt;chr&gt; | editing_rate &lt;chr&gt; |\n",
       "|---|---|---|\n",
       "| 1 | chr1_657327   | 0.941176470588235 |\n",
       "| 2 | chr1_657332   | 0.897058823529412 |\n",
       "| 3 | chr1_1664434  | 0.587301587301587 |\n",
       "| 4 | chr1_1664475  | 0.387096774193548 |\n",
       "| 14 | chr1_26088613 | 0.956521739130435 |\n",
       "| 15 | chr1_26088618 | 0.96969696969697  |\n",
       "\n"
      ],
      "text/plain": [
       "   site          editing_rate     \n",
       "1  chr1_657327   0.941176470588235\n",
       "2  chr1_657332   0.897058823529412\n",
       "3  chr1_1664434  0.587301587301587\n",
       "4  chr1_1664475  0.387096774193548\n",
       "14 chr1_26088613 0.956521739130435\n",
       "15 chr1_26088618 0.96969696969697 "
      ]
     },
     "metadata": {},
     "output_type": "display_data"
    }
   ],
   "source": [
    "head(sub_res_editing_rate_16_1_4)"
   ]
  },
  {
   "cell_type": "code",
   "execution_count": 35,
   "metadata": {
    "vscode": {
     "languageId": "r"
    }
   },
   "outputs": [
    {
     "data": {
      "text/html": [
       "<style>\n",
       ".list-inline {list-style: none; margin:0; padding: 0}\n",
       ".list-inline>li {display: inline-block}\n",
       ".list-inline>li:not(:last-child)::after {content: \"\\00b7\"; padding: 0 .5ex}\n",
       "</style>\n",
       "<ol class=list-inline><li>445</li><li>2</li></ol>\n"
      ],
      "text/latex": [
       "\\begin{enumerate*}\n",
       "\\item 445\n",
       "\\item 2\n",
       "\\end{enumerate*}\n"
      ],
      "text/markdown": [
       "1. 445\n",
       "2. 2\n",
       "\n",
       "\n"
      ],
      "text/plain": [
       "[1] 445   2"
      ]
     },
     "metadata": {},
     "output_type": "display_data"
    },
    {
     "data": {
      "text/html": [
       "<style>\n",
       ".list-inline {list-style: none; margin:0; padding: 0}\n",
       ".list-inline>li {display: inline-block}\n",
       ".list-inline>li:not(:last-child)::after {content: \"\\00b7\"; padding: 0 .5ex}\n",
       "</style>\n",
       "<ol class=list-inline><li>501</li><li>2</li></ol>\n"
      ],
      "text/latex": [
       "\\begin{enumerate*}\n",
       "\\item 501\n",
       "\\item 2\n",
       "\\end{enumerate*}\n"
      ],
      "text/markdown": [
       "1. 501\n",
       "2. 2\n",
       "\n",
       "\n"
      ],
      "text/plain": [
       "[1] 501   2"
      ]
     },
     "metadata": {},
     "output_type": "display_data"
    },
    {
     "data": {
      "text/html": [
       "<style>\n",
       ".list-inline {list-style: none; margin:0; padding: 0}\n",
       ".list-inline>li {display: inline-block}\n",
       ".list-inline>li:not(:last-child)::after {content: \"\\00b7\"; padding: 0 .5ex}\n",
       "</style>\n",
       "<ol class=list-inline><li>196</li><li>2</li></ol>\n"
      ],
      "text/latex": [
       "\\begin{enumerate*}\n",
       "\\item 196\n",
       "\\item 2\n",
       "\\end{enumerate*}\n"
      ],
      "text/markdown": [
       "1. 196\n",
       "2. 2\n",
       "\n",
       "\n"
      ],
      "text/plain": [
       "[1] 196   2"
      ]
     },
     "metadata": {},
     "output_type": "display_data"
    },
    {
     "data": {
      "text/html": [
       "<style>\n",
       ".list-inline {list-style: none; margin:0; padding: 0}\n",
       ".list-inline>li {display: inline-block}\n",
       ".list-inline>li:not(:last-child)::after {content: \"\\00b7\"; padding: 0 .5ex}\n",
       "</style>\n",
       "<ol class=list-inline><li>146</li><li>2</li></ol>\n"
      ],
      "text/latex": [
       "\\begin{enumerate*}\n",
       "\\item 146\n",
       "\\item 2\n",
       "\\end{enumerate*}\n"
      ],
      "text/markdown": [
       "1. 146\n",
       "2. 2\n",
       "\n",
       "\n"
      ],
      "text/plain": [
       "[1] 146   2"
      ]
     },
     "metadata": {},
     "output_type": "display_data"
    },
    {
     "data": {
      "text/html": [
       "<style>\n",
       ".list-inline {list-style: none; margin:0; padding: 0}\n",
       ".list-inline>li {display: inline-block}\n",
       ".list-inline>li:not(:last-child)::after {content: \"\\00b7\"; padding: 0 .5ex}\n",
       "</style>\n",
       "<ol class=list-inline><li>32</li><li>2</li></ol>\n"
      ],
      "text/latex": [
       "\\begin{enumerate*}\n",
       "\\item 32\n",
       "\\item 2\n",
       "\\end{enumerate*}\n"
      ],
      "text/markdown": [
       "1. 32\n",
       "2. 2\n",
       "\n",
       "\n"
      ],
      "text/plain": [
       "[1] 32  2"
      ]
     },
     "metadata": {},
     "output_type": "display_data"
    },
    {
     "data": {
      "text/html": [
       "<style>\n",
       ".list-inline {list-style: none; margin:0; padding: 0}\n",
       ".list-inline>li {display: inline-block}\n",
       ".list-inline>li:not(:last-child)::after {content: \"\\00b7\"; padding: 0 .5ex}\n",
       "</style>\n",
       "<ol class=list-inline><li>1088</li><li>2</li></ol>\n"
      ],
      "text/latex": [
       "\\begin{enumerate*}\n",
       "\\item 1088\n",
       "\\item 2\n",
       "\\end{enumerate*}\n"
      ],
      "text/markdown": [
       "1. 1088\n",
       "2. 2\n",
       "\n",
       "\n"
      ],
      "text/plain": [
       "[1] 1088    2"
      ]
     },
     "metadata": {},
     "output_type": "display_data"
    },
    {
     "data": {
      "text/html": [
       "<style>\n",
       ".list-inline {list-style: none; margin:0; padding: 0}\n",
       ".list-inline>li {display: inline-block}\n",
       ".list-inline>li:not(:last-child)::after {content: \"\\00b7\"; padding: 0 .5ex}\n",
       "</style>\n",
       "<ol class=list-inline><li>305</li><li>2</li></ol>\n"
      ],
      "text/latex": [
       "\\begin{enumerate*}\n",
       "\\item 305\n",
       "\\item 2\n",
       "\\end{enumerate*}\n"
      ],
      "text/markdown": [
       "1. 305\n",
       "2. 2\n",
       "\n",
       "\n"
      ],
      "text/plain": [
       "[1] 305   2"
      ]
     },
     "metadata": {},
     "output_type": "display_data"
    },
    {
     "data": {
      "text/html": [
       "<style>\n",
       ".list-inline {list-style: none; margin:0; padding: 0}\n",
       ".list-inline>li {display: inline-block}\n",
       ".list-inline>li:not(:last-child)::after {content: \"\\00b7\"; padding: 0 .5ex}\n",
       "</style>\n",
       "<ol class=list-inline><li>251</li><li>2</li></ol>\n"
      ],
      "text/latex": [
       "\\begin{enumerate*}\n",
       "\\item 251\n",
       "\\item 2\n",
       "\\end{enumerate*}\n"
      ],
      "text/markdown": [
       "1. 251\n",
       "2. 2\n",
       "\n",
       "\n"
      ],
      "text/plain": [
       "[1] 251   2"
      ]
     },
     "metadata": {},
     "output_type": "display_data"
    },
    {
     "data": {
      "text/html": [
       "<style>\n",
       ".list-inline {list-style: none; margin:0; padding: 0}\n",
       ".list-inline>li {display: inline-block}\n",
       ".list-inline>li:not(:last-child)::after {content: \"\\00b7\"; padding: 0 .5ex}\n",
       "</style>\n",
       "<ol class=list-inline><li>883</li><li>2</li></ol>\n"
      ],
      "text/latex": [
       "\\begin{enumerate*}\n",
       "\\item 883\n",
       "\\item 2\n",
       "\\end{enumerate*}\n"
      ],
      "text/markdown": [
       "1. 883\n",
       "2. 2\n",
       "\n",
       "\n"
      ],
      "text/plain": [
       "[1] 883   2"
      ]
     },
     "metadata": {},
     "output_type": "display_data"
    }
   ],
   "source": [
    "dim(sub_res_editing_rate_16_1_3)\n",
    "dim(sub_res_editing_rate_16_1_4)\n",
    "dim(sub_res_editing_rate_16_1_9)\n",
    "dim(sub_res_editing_rate_19_1_1)\n",
    "dim(sub_res_editing_rate_19_1_3)\n",
    "dim(sub_res_editing_rate_23_1_1)\n",
    "dim(sub_res_editing_rate_23_1_2)\n",
    "dim(sub_res_editing_rate_23_1_3)\n",
    "dim(sub_res_editing_rate_26_1_1)"
   ]
  },
  {
   "cell_type": "code",
   "execution_count": 9,
   "metadata": {
    "vscode": {
     "languageId": "r"
    }
   },
   "outputs": [
    {
     "data": {
      "text/html": [
       "<style>\n",
       ".dl-inline {width: auto; margin:0; padding: 0}\n",
       ".dl-inline>dt, .dl-inline>dd {float: none; width: auto; display: inline-block}\n",
       ".dl-inline>dt::after {content: \":\\0020\"; padding-right: .5ex}\n",
       ".dl-inline>dt:not(:first-of-type) {padding-left: .5ex}\n",
       "</style><dl class=dl-inline><dt>0%</dt><dd>0.0036330608537693</dd><dt>25%</dt><dd>0.442477876106195</dd><dt>50%</dt><dd>0.69620253164557</dd><dt>75%</dt><dd>0.953488372093023</dd><dt>100%</dt><dd>0.993589743589744</dd></dl>\n"
      ],
      "text/latex": [
       "\\begin{description*}\n",
       "\\item[0\\textbackslash{}\\%] 0.0036330608537693\n",
       "\\item[25\\textbackslash{}\\%] 0.442477876106195\n",
       "\\item[50\\textbackslash{}\\%] 0.69620253164557\n",
       "\\item[75\\textbackslash{}\\%] 0.953488372093023\n",
       "\\item[100\\textbackslash{}\\%] 0.993589743589744\n",
       "\\end{description*}\n"
      ],
      "text/markdown": [
       "0%\n",
       ":   0.003633060853769325%\n",
       ":   0.44247787610619550%\n",
       ":   0.6962025316455775%\n",
       ":   0.953488372093023100%\n",
       ":   0.993589743589744\n",
       "\n"
      ],
      "text/plain": [
       "         0%         25%         50%         75%        100% \n",
       "0.003633061 0.442477876 0.696202532 0.953488372 0.993589744 "
      ]
     },
     "metadata": {},
     "output_type": "display_data"
    },
    {
     "data": {
      "text/html": [
       "<style>\n",
       ".dl-inline {width: auto; margin:0; padding: 0}\n",
       ".dl-inline>dt, .dl-inline>dd {float: none; width: auto; display: inline-block}\n",
       ".dl-inline>dt::after {content: \":\\0020\"; padding-right: .5ex}\n",
       ".dl-inline>dt:not(:first-of-type) {padding-left: .5ex}\n",
       "</style><dl class=dl-inline><dt>0%</dt><dd>0.000798296966471527</dd><dt>25%</dt><dd>0.3875</dd><dt>50%</dt><dd>0.661016949152542</dd><dt>75%</dt><dd>0.961538461538462</dd><dt>100%</dt><dd>0.996124031007752</dd></dl>\n"
      ],
      "text/latex": [
       "\\begin{description*}\n",
       "\\item[0\\textbackslash{}\\%] 0.000798296966471527\n",
       "\\item[25\\textbackslash{}\\%] 0.3875\n",
       "\\item[50\\textbackslash{}\\%] 0.661016949152542\n",
       "\\item[75\\textbackslash{}\\%] 0.961538461538462\n",
       "\\item[100\\textbackslash{}\\%] 0.996124031007752\n",
       "\\end{description*}\n"
      ],
      "text/markdown": [
       "0%\n",
       ":   0.00079829696647152725%\n",
       ":   0.387550%\n",
       ":   0.66101694915254275%\n",
       ":   0.961538461538462100%\n",
       ":   0.996124031007752\n",
       "\n"
      ],
      "text/plain": [
       "         0%         25%         50%         75%        100% \n",
       "0.000798297 0.387500000 0.661016949 0.961538462 0.996124031 "
      ]
     },
     "metadata": {},
     "output_type": "display_data"
    },
    {
     "data": {
      "text/html": [
       "<style>\n",
       ".dl-inline {width: auto; margin:0; padding: 0}\n",
       ".dl-inline>dt, .dl-inline>dd {float: none; width: auto; display: inline-block}\n",
       ".dl-inline>dt::after {content: \":\\0020\"; padding-right: .5ex}\n",
       ".dl-inline>dt:not(:first-of-type) {padding-left: .5ex}\n",
       "</style><dl class=dl-inline><dt>0%</dt><dd>0.112068965517241</dd><dt>25%</dt><dd>0.463880173315404</dd><dt>50%</dt><dd>0.904282933160286</dd><dt>75%</dt><dd>0.969047619047619</dd><dt>100%</dt><dd>0.993288590604027</dd></dl>\n"
      ],
      "text/latex": [
       "\\begin{description*}\n",
       "\\item[0\\textbackslash{}\\%] 0.112068965517241\n",
       "\\item[25\\textbackslash{}\\%] 0.463880173315404\n",
       "\\item[50\\textbackslash{}\\%] 0.904282933160286\n",
       "\\item[75\\textbackslash{}\\%] 0.969047619047619\n",
       "\\item[100\\textbackslash{}\\%] 0.993288590604027\n",
       "\\end{description*}\n"
      ],
      "text/markdown": [
       "0%\n",
       ":   0.11206896551724125%\n",
       ":   0.46388017331540450%\n",
       ":   0.90428293316028675%\n",
       ":   0.969047619047619100%\n",
       ":   0.993288590604027\n",
       "\n"
      ],
      "text/plain": [
       "       0%       25%       50%       75%      100% \n",
       "0.1120690 0.4638802 0.9042829 0.9690476 0.9932886 "
      ]
     },
     "metadata": {},
     "output_type": "display_data"
    },
    {
     "data": {
      "text/html": [
       "<style>\n",
       ".dl-inline {width: auto; margin:0; padding: 0}\n",
       ".dl-inline>dt, .dl-inline>dd {float: none; width: auto; display: inline-block}\n",
       ".dl-inline>dt::after {content: \":\\0020\"; padding-right: .5ex}\n",
       ".dl-inline>dt:not(:first-of-type) {padding-left: .5ex}\n",
       "</style><dl class=dl-inline><dt>0%</dt><dd>0.00341390140652738</dd><dt>25%</dt><dd>0.354135545247268</dd><dt>50%</dt><dd>0.797058823529412</dd><dt>75%</dt><dd>0.965209359605911</dd><dt>100%</dt><dd>0.99290780141844</dd></dl>\n"
      ],
      "text/latex": [
       "\\begin{description*}\n",
       "\\item[0\\textbackslash{}\\%] 0.00341390140652738\n",
       "\\item[25\\textbackslash{}\\%] 0.354135545247268\n",
       "\\item[50\\textbackslash{}\\%] 0.797058823529412\n",
       "\\item[75\\textbackslash{}\\%] 0.965209359605911\n",
       "\\item[100\\textbackslash{}\\%] 0.99290780141844\n",
       "\\end{description*}\n"
      ],
      "text/markdown": [
       "0%\n",
       ":   0.0034139014065273825%\n",
       ":   0.35413554524726850%\n",
       ":   0.79705882352941275%\n",
       ":   0.965209359605911100%\n",
       ":   0.99290780141844\n",
       "\n"
      ],
      "text/plain": [
       "         0%         25%         50%         75%        100% \n",
       "0.003413901 0.354135545 0.797058824 0.965209360 0.992907801 "
      ]
     },
     "metadata": {},
     "output_type": "display_data"
    },
    {
     "data": {
      "text/html": [
       "<style>\n",
       ".dl-inline {width: auto; margin:0; padding: 0}\n",
       ".dl-inline>dt, .dl-inline>dd {float: none; width: auto; display: inline-block}\n",
       ".dl-inline>dt::after {content: \":\\0020\"; padding-right: .5ex}\n",
       ".dl-inline>dt:not(:first-of-type) {padding-left: .5ex}\n",
       "</style><dl class=dl-inline><dt>0%</dt><dd>0.316176470588235</dd><dt>25%</dt><dd>0.45477207977208</dd><dt>50%</dt><dd>0.878429943405933</dd><dt>75%</dt><dd>0.975</dd><dt>100%</dt><dd>0.994413407821229</dd></dl>\n"
      ],
      "text/latex": [
       "\\begin{description*}\n",
       "\\item[0\\textbackslash{}\\%] 0.316176470588235\n",
       "\\item[25\\textbackslash{}\\%] 0.45477207977208\n",
       "\\item[50\\textbackslash{}\\%] 0.878429943405933\n",
       "\\item[75\\textbackslash{}\\%] 0.975\n",
       "\\item[100\\textbackslash{}\\%] 0.994413407821229\n",
       "\\end{description*}\n"
      ],
      "text/markdown": [
       "0%\n",
       ":   0.31617647058823525%\n",
       ":   0.4547720797720850%\n",
       ":   0.87842994340593375%\n",
       ":   0.975100%\n",
       ":   0.994413407821229\n",
       "\n"
      ],
      "text/plain": [
       "       0%       25%       50%       75%      100% \n",
       "0.3161765 0.4547721 0.8784299 0.9750000 0.9944134 "
      ]
     },
     "metadata": {},
     "output_type": "display_data"
    },
    {
     "data": {
      "text/html": [
       "<style>\n",
       ".dl-inline {width: auto; margin:0; padding: 0}\n",
       ".dl-inline>dt, .dl-inline>dd {float: none; width: auto; display: inline-block}\n",
       ".dl-inline>dt::after {content: \":\\0020\"; padding-right: .5ex}\n",
       ".dl-inline>dt:not(:first-of-type) {padding-left: .5ex}\n",
       "</style><dl class=dl-inline><dt>0%</dt><dd>0.00151602656656079</dd><dt>25%</dt><dd>0.0348304071876031</dd><dt>50%</dt><dd>0.556258790436006</dd><dt>75%</dt><dd>0.969347319347319</dd><dt>100%</dt><dd>0.995934959349594</dd></dl>\n"
      ],
      "text/latex": [
       "\\begin{description*}\n",
       "\\item[0\\textbackslash{}\\%] 0.00151602656656079\n",
       "\\item[25\\textbackslash{}\\%] 0.0348304071876031\n",
       "\\item[50\\textbackslash{}\\%] 0.556258790436006\n",
       "\\item[75\\textbackslash{}\\%] 0.969347319347319\n",
       "\\item[100\\textbackslash{}\\%] 0.995934959349594\n",
       "\\end{description*}\n"
      ],
      "text/markdown": [
       "0%\n",
       ":   0.0015160265665607925%\n",
       ":   0.034830407187603150%\n",
       ":   0.55625879043600675%\n",
       ":   0.969347319347319100%\n",
       ":   0.995934959349594\n",
       "\n"
      ],
      "text/plain": [
       "         0%         25%         50%         75%        100% \n",
       "0.001516027 0.034830407 0.556258790 0.969347319 0.995934959 "
      ]
     },
     "metadata": {},
     "output_type": "display_data"
    },
    {
     "data": {
      "text/html": [
       "<style>\n",
       ".dl-inline {width: auto; margin:0; padding: 0}\n",
       ".dl-inline>dt, .dl-inline>dd {float: none; width: auto; display: inline-block}\n",
       ".dl-inline>dt::after {content: \":\\0020\"; padding-right: .5ex}\n",
       ".dl-inline>dt:not(:first-of-type) {padding-left: .5ex}\n",
       "</style><dl class=dl-inline><dt>0%</dt><dd>0.00251658659345687</dd><dt>25%</dt><dd>0.432</dd><dt>50%</dt><dd>0.942028985507246</dd><dt>75%</dt><dd>0.985714285714286</dd><dt>100%</dt><dd>0.995433789954338</dd></dl>\n"
      ],
      "text/latex": [
       "\\begin{description*}\n",
       "\\item[0\\textbackslash{}\\%] 0.00251658659345687\n",
       "\\item[25\\textbackslash{}\\%] 0.432\n",
       "\\item[50\\textbackslash{}\\%] 0.942028985507246\n",
       "\\item[75\\textbackslash{}\\%] 0.985714285714286\n",
       "\\item[100\\textbackslash{}\\%] 0.995433789954338\n",
       "\\end{description*}\n"
      ],
      "text/markdown": [
       "0%\n",
       ":   0.0025165865934568725%\n",
       ":   0.43250%\n",
       ":   0.94202898550724675%\n",
       ":   0.985714285714286100%\n",
       ":   0.995433789954338\n",
       "\n"
      ],
      "text/plain": [
       "         0%         25%         50%         75%        100% \n",
       "0.002516587 0.432000000 0.942028986 0.985714286 0.995433790 "
      ]
     },
     "metadata": {},
     "output_type": "display_data"
    },
    {
     "data": {
      "text/html": [
       "<style>\n",
       ".dl-inline {width: auto; margin:0; padding: 0}\n",
       ".dl-inline>dt, .dl-inline>dd {float: none; width: auto; display: inline-block}\n",
       ".dl-inline>dt::after {content: \":\\0020\"; padding-right: .5ex}\n",
       ".dl-inline>dt:not(:first-of-type) {padding-left: .5ex}\n",
       "</style><dl class=dl-inline><dt>0%</dt><dd>0.00627900627900628</dd><dt>25%</dt><dd>0.422482837528604</dd><dt>50%</dt><dd>0.82051282051282</dd><dt>75%</dt><dd>0.969223484848485</dd><dt>100%</dt><dd>0.993055555555556</dd></dl>\n"
      ],
      "text/latex": [
       "\\begin{description*}\n",
       "\\item[0\\textbackslash{}\\%] 0.00627900627900628\n",
       "\\item[25\\textbackslash{}\\%] 0.422482837528604\n",
       "\\item[50\\textbackslash{}\\%] 0.82051282051282\n",
       "\\item[75\\textbackslash{}\\%] 0.969223484848485\n",
       "\\item[100\\textbackslash{}\\%] 0.993055555555556\n",
       "\\end{description*}\n"
      ],
      "text/markdown": [
       "0%\n",
       ":   0.0062790062790062825%\n",
       ":   0.42248283752860450%\n",
       ":   0.8205128205128275%\n",
       ":   0.969223484848485100%\n",
       ":   0.993055555555556\n",
       "\n"
      ],
      "text/plain": [
       "         0%         25%         50%         75%        100% \n",
       "0.006279006 0.422482838 0.820512821 0.969223485 0.993055556 "
      ]
     },
     "metadata": {},
     "output_type": "display_data"
    },
    {
     "data": {
      "text/html": [
       "<style>\n",
       ".dl-inline {width: auto; margin:0; padding: 0}\n",
       ".dl-inline>dt, .dl-inline>dd {float: none; width: auto; display: inline-block}\n",
       ".dl-inline>dt::after {content: \":\\0020\"; padding-right: .5ex}\n",
       ".dl-inline>dt:not(:first-of-type) {padding-left: .5ex}\n",
       "</style><dl class=dl-inline><dt>0%</dt><dd>0.00797402406552765</dd><dt>25%</dt><dd>0.392796369824163</dd><dt>50%</dt><dd>0.761904761904762</dd><dt>75%</dt><dd>0.96551724137931</dd><dt>100%</dt><dd>0.99236641221374</dd></dl>\n"
      ],
      "text/latex": [
       "\\begin{description*}\n",
       "\\item[0\\textbackslash{}\\%] 0.00797402406552765\n",
       "\\item[25\\textbackslash{}\\%] 0.392796369824163\n",
       "\\item[50\\textbackslash{}\\%] 0.761904761904762\n",
       "\\item[75\\textbackslash{}\\%] 0.96551724137931\n",
       "\\item[100\\textbackslash{}\\%] 0.99236641221374\n",
       "\\end{description*}\n"
      ],
      "text/markdown": [
       "0%\n",
       ":   0.0079740240655276525%\n",
       ":   0.39279636982416350%\n",
       ":   0.76190476190476275%\n",
       ":   0.96551724137931100%\n",
       ":   0.99236641221374\n",
       "\n"
      ],
      "text/plain": [
       "         0%         25%         50%         75%        100% \n",
       "0.007974024 0.392796370 0.761904762 0.965517241 0.992366412 "
      ]
     },
     "metadata": {},
     "output_type": "display_data"
    }
   ],
   "source": [
    "quantile(as.numeric(sub_res_editing_rate_16_1_3$editing_rate))\n",
    "quantile(as.numeric(sub_res_editing_rate_16_1_4$editing_rate))\n",
    "quantile(as.numeric(sub_res_editing_rate_16_1_9$editing_rate))\n",
    "quantile(as.numeric(sub_res_editing_rate_19_1_1$editing_rate))\n",
    "quantile(as.numeric(sub_res_editing_rate_19_1_3$editing_rate))\n",
    "quantile(as.numeric(sub_res_editing_rate_23_1_1$editing_rate))\n",
    "quantile(as.numeric(sub_res_editing_rate_23_1_2$editing_rate))\n",
    "quantile(as.numeric(sub_res_editing_rate_23_1_3$editing_rate))\n",
    "quantile(as.numeric(sub_res_editing_rate_26_1_1$editing_rate))\n"
   ]
  },
  {
   "cell_type": "code",
   "execution_count": 26,
   "metadata": {
    "vscode": {
     "languageId": "r"
    }
   },
   "outputs": [
    {
     "data": {
      "text/html": [
       "<style>\n",
       ".list-inline {list-style: none; margin:0; padding: 0}\n",
       ".list-inline>li {display: inline-block}\n",
       ".list-inline>li:not(:last-child)::after {content: \"\\00b7\"; padding: 0 .5ex}\n",
       "</style>\n",
       "<ol class=list-inline><li>62</li><li>2</li></ol>\n"
      ],
      "text/latex": [
       "\\begin{enumerate*}\n",
       "\\item 62\n",
       "\\item 2\n",
       "\\end{enumerate*}\n"
      ],
      "text/markdown": [
       "1. 62\n",
       "2. 2\n",
       "\n",
       "\n"
      ],
      "text/plain": [
       "[1] 62  2"
      ]
     },
     "metadata": {},
     "output_type": "display_data"
    }
   ],
   "source": [
    "####GW26_1_1的位点数量太多，会对后续差异分析产生影响\n",
    "#仅保留GW26_1_1中和其他样本覆盖的位点\n",
    "shared_site <- unique(c(sub_res_editing_rate_16_1_3$site,\n",
    "                    sub_res_editing_rate_16_1_4$site,sub_res_editing_rate_16_1_9$site,sub_res_editing_rate_19_1_1$site,\n",
    "                    sub_res_editing_rate_19_1_3$site,sub_res_editing_rate_23_1_1$site,\n",
    "                    sub_res_editing_rate_23_1_2$site,sub_res_editing_rate_23_1_3$site))\n",
    "sub_res_editing_rate_26_1_1 <- sub_res_editing_rate_26_1_1[sub_res_editing_rate_26_1_1$site %in% shared_site,]\n",
    "dim(sub_res_editing_rate_26_1_1)"
   ]
  },
  {
   "cell_type": "code",
   "execution_count": 36,
   "metadata": {
    "vscode": {
     "languageId": "r"
    }
   },
   "outputs": [
    {
     "data": {
      "text/html": [
       "<style>\n",
       ".list-inline {list-style: none; margin:0; padding: 0}\n",
       ".list-inline>li {display: inline-block}\n",
       ".list-inline>li:not(:last-child)::after {content: \"\\00b7\"; padding: 0 .5ex}\n",
       "</style>\n",
       "<ol class=list-inline><li>3847</li><li>4</li></ol>\n"
      ],
      "text/latex": [
       "\\begin{enumerate*}\n",
       "\\item 3847\n",
       "\\item 4\n",
       "\\end{enumerate*}\n"
      ],
      "text/markdown": [
       "1. 3847\n",
       "2. 4\n",
       "\n",
       "\n"
      ],
      "text/plain": [
       "[1] 3847    4"
      ]
     },
     "metadata": {},
     "output_type": "display_data"
    }
   ],
   "source": [
    "########使用所有跑出fiter SNV(10) res的样本鉴定de res\n",
    "#构建数据框\n",
    "all_site <- c(sub_res_editing_rate_16_1_3$site,sub_res_editing_rate_16_1_4$site,\n",
    "                sub_res_editing_rate_16_1_9$site,sub_res_editing_rate_19_1_1$site,\n",
    "                sub_res_editing_rate_19_1_3$site,sub_res_editing_rate_23_1_1$site,\n",
    "                sub_res_editing_rate_23_1_2$site,sub_res_editing_rate_23_1_3$site,sub_res_editing_rate_26_1_1$site)\n",
    "sample_info <- c(rep('GW16_1_3',times=nrow(sub_res_editing_rate_16_1_3)),rep('GW16_1_4',times=nrow(sub_res_editing_rate_16_1_4)),\n",
    "                    rep('GW16_1_9',times=nrow(sub_res_editing_rate_16_1_9)),rep('GW19_1_1',times=nrow(sub_res_editing_rate_19_1_1)),\n",
    "                    rep('GW19_1_3',times=nrow(sub_res_editing_rate_19_1_3)),rep('GW23_1_1',times=nrow(sub_res_editing_rate_23_1_1)),\n",
    "                    rep('GW23_1_2',times=nrow(sub_res_editing_rate_23_1_2)),rep('GW23_1_3',times=nrow(sub_res_editing_rate_23_1_3)),\n",
    "                    rep('GW26_1_1',times=nrow(sub_res_editing_rate_26_1_1)))\n",
    "group_info <- c(rep('GW16',times=nrow(sub_res_editing_rate_16_1_3)),rep('GW16',times=nrow(sub_res_editing_rate_16_1_4)),\n",
    "                    rep('GW16',times=nrow(sub_res_editing_rate_16_1_9)),rep('GW19',times=nrow(sub_res_editing_rate_19_1_1)),\n",
    "                    rep('GW19',times=nrow(sub_res_editing_rate_19_1_3)),\n",
    "                    rep('GW23',times=nrow(sub_res_editing_rate_23_1_1)),rep('GW23',times=nrow(sub_res_editing_rate_23_1_2)),\n",
    "                    rep('GW23',times=nrow(sub_res_editing_rate_23_1_3)),rep('GW26',times=nrow(sub_res_editing_rate_26_1_1)))\n",
    "editing_level <- c(sub_res_editing_rate_16_1_3$editing_rate,sub_res_editing_rate_16_1_4$editing_rate,sub_res_editing_rate_16_1_9$editing_rate,sub_res_editing_rate_19_1_1$editing_rate,\n",
    "                    sub_res_editing_rate_19_1_3$editing_rate,sub_res_editing_rate_23_1_1$editing_rate,\n",
    "                    sub_res_editing_rate_23_1_2$editing_rate,sub_res_editing_rate_23_1_3$editing_rate,sub_res_editing_rate_26_1_1$editing_rate)\n",
    "df <- as.data.frame(cbind(all_site,sample_info,group_info,editing_level))\n",
    "dim(df)\n",
    "pure_df <- df <- as.data.frame(cbind(all_site,sample_info,editing_level))"
   ]
  },
  {
   "cell_type": "code",
   "execution_count": 37,
   "metadata": {
    "vscode": {
     "languageId": "r"
    }
   },
   "outputs": [
    {
     "data": {
      "text/html": [
       "<style>\n",
       ".list-inline {list-style: none; margin:0; padding: 0}\n",
       ".list-inline>li {display: inline-block}\n",
       ".list-inline>li:not(:last-child)::after {content: \"\\00b7\"; padding: 0 .5ex}\n",
       "</style>\n",
       "<ol class=list-inline><li>3847</li><li>3</li></ol>\n"
      ],
      "text/latex": [
       "\\begin{enumerate*}\n",
       "\\item 3847\n",
       "\\item 3\n",
       "\\end{enumerate*}\n"
      ],
      "text/markdown": [
       "1. 3847\n",
       "2. 3\n",
       "\n",
       "\n"
      ],
      "text/plain": [
       "[1] 3847    3"
      ]
     },
     "metadata": {},
     "output_type": "display_data"
    },
    {
     "data": {
      "text/html": [
       "<style>\n",
       ".list-inline {list-style: none; margin:0; padding: 0}\n",
       ".list-inline>li {display: inline-block}\n",
       ".list-inline>li:not(:last-child)::after {content: \"\\00b7\"; padding: 0 .5ex}\n",
       "</style>\n",
       "<ol class=list-inline><li>3847</li><li>3</li></ol>\n"
      ],
      "text/latex": [
       "\\begin{enumerate*}\n",
       "\\item 3847\n",
       "\\item 3\n",
       "\\end{enumerate*}\n"
      ],
      "text/markdown": [
       "1. 3847\n",
       "2. 3\n",
       "\n",
       "\n"
      ],
      "text/plain": [
       "[1] 3847    3"
      ]
     },
     "metadata": {},
     "output_type": "display_data"
    },
    {
     "data": {
      "text/html": [
       "<style>\n",
       ".list-inline {list-style: none; margin:0; padding: 0}\n",
       ".list-inline>li {display: inline-block}\n",
       ".list-inline>li:not(:last-child)::after {content: \"\\00b7\"; padding: 0 .5ex}\n",
       "</style>\n",
       "<ol class=list-inline><li>3847</li><li>3</li></ol>\n"
      ],
      "text/latex": [
       "\\begin{enumerate*}\n",
       "\\item 3847\n",
       "\\item 3\n",
       "\\end{enumerate*}\n"
      ],
      "text/markdown": [
       "1. 3847\n",
       "2. 3\n",
       "\n",
       "\n"
      ],
      "text/plain": [
       "[1] 3847    3"
      ]
     },
     "metadata": {},
     "output_type": "display_data"
    }
   ],
   "source": [
    "dim(df)\n",
    "dim(pure_df)\n",
    "pure_df <- pure_df[!duplicated(paste0(pure_df$all_site,\"_\",pure_df$sample_info)),]\n",
    "dim(pure_df)"
   ]
  },
  {
   "cell_type": "code",
   "execution_count": 38,
   "metadata": {
    "vscode": {
     "languageId": "r"
    }
   },
   "outputs": [
    {
     "data": {
      "text/html": [
       "<table class=\"dataframe\">\n",
       "<caption>A tibble: 6 × 10</caption>\n",
       "<thead>\n",
       "\t<tr><th scope=col>all_site</th><th scope=col>GW16_1_3</th><th scope=col>GW16_1_4</th><th scope=col>GW16_1_9</th><th scope=col>GW19_1_1</th><th scope=col>GW19_1_3</th><th scope=col>GW23_1_1</th><th scope=col>GW23_1_2</th><th scope=col>GW23_1_3</th><th scope=col>GW26_1_1</th></tr>\n",
       "\t<tr><th scope=col>&lt;chr&gt;</th><th scope=col>&lt;chr&gt;</th><th scope=col>&lt;chr&gt;</th><th scope=col>&lt;chr&gt;</th><th scope=col>&lt;chr&gt;</th><th scope=col>&lt;chr&gt;</th><th scope=col>&lt;chr&gt;</th><th scope=col>&lt;chr&gt;</th><th scope=col>&lt;chr&gt;</th><th scope=col>&lt;chr&gt;</th></tr>\n",
       "</thead>\n",
       "<tbody>\n",
       "\t<tr><td>chr1_657332  </td><td>0.944444444444444</td><td>0.897058823529412</td><td>NA</td><td>NA</td><td>NA</td><td>NA</td><td>NA</td><td>NA</td><td>0.901785714285714</td></tr>\n",
       "\t<tr><td>chr1_10376197</td><td>0.972222222222222</td><td>NA               </td><td>NA</td><td>NA</td><td>NA</td><td>NA</td><td>NA</td><td>NA</td><td>NA               </td></tr>\n",
       "\t<tr><td>chr1_11347871</td><td>0.941176470588235</td><td>NA               </td><td>NA</td><td>NA</td><td>NA</td><td>NA</td><td>NA</td><td>NA</td><td>NA               </td></tr>\n",
       "\t<tr><td>chr1_14985558</td><td>0.841269841269841</td><td>NA               </td><td>NA</td><td>NA</td><td>NA</td><td>NA</td><td>NA</td><td>NA</td><td>NA               </td></tr>\n",
       "\t<tr><td>chr1_14985563</td><td>0.857142857142857</td><td>NA               </td><td>NA</td><td>NA</td><td>NA</td><td>NA</td><td>NA</td><td>NA</td><td>NA               </td></tr>\n",
       "\t<tr><td>chr1_14985623</td><td>0.857142857142857</td><td>NA               </td><td>NA</td><td>NA</td><td>NA</td><td>NA</td><td>NA</td><td>NA</td><td>NA               </td></tr>\n",
       "</tbody>\n",
       "</table>\n"
      ],
      "text/latex": [
       "A tibble: 6 × 10\n",
       "\\begin{tabular}{llllllllll}\n",
       " all\\_site & GW16\\_1\\_3 & GW16\\_1\\_4 & GW16\\_1\\_9 & GW19\\_1\\_1 & GW19\\_1\\_3 & GW23\\_1\\_1 & GW23\\_1\\_2 & GW23\\_1\\_3 & GW26\\_1\\_1\\\\\n",
       " <chr> & <chr> & <chr> & <chr> & <chr> & <chr> & <chr> & <chr> & <chr> & <chr>\\\\\n",
       "\\hline\n",
       "\t chr1\\_657332   & 0.944444444444444 & 0.897058823529412 & NA & NA & NA & NA & NA & NA & 0.901785714285714\\\\\n",
       "\t chr1\\_10376197 & 0.972222222222222 & NA                & NA & NA & NA & NA & NA & NA & NA               \\\\\n",
       "\t chr1\\_11347871 & 0.941176470588235 & NA                & NA & NA & NA & NA & NA & NA & NA               \\\\\n",
       "\t chr1\\_14985558 & 0.841269841269841 & NA                & NA & NA & NA & NA & NA & NA & NA               \\\\\n",
       "\t chr1\\_14985563 & 0.857142857142857 & NA                & NA & NA & NA & NA & NA & NA & NA               \\\\\n",
       "\t chr1\\_14985623 & 0.857142857142857 & NA                & NA & NA & NA & NA & NA & NA & NA               \\\\\n",
       "\\end{tabular}\n"
      ],
      "text/markdown": [
       "\n",
       "A tibble: 6 × 10\n",
       "\n",
       "| all_site &lt;chr&gt; | GW16_1_3 &lt;chr&gt; | GW16_1_4 &lt;chr&gt; | GW16_1_9 &lt;chr&gt; | GW19_1_1 &lt;chr&gt; | GW19_1_3 &lt;chr&gt; | GW23_1_1 &lt;chr&gt; | GW23_1_2 &lt;chr&gt; | GW23_1_3 &lt;chr&gt; | GW26_1_1 &lt;chr&gt; |\n",
       "|---|---|---|---|---|---|---|---|---|---|\n",
       "| chr1_657332   | 0.944444444444444 | 0.897058823529412 | NA | NA | NA | NA | NA | NA | 0.901785714285714 |\n",
       "| chr1_10376197 | 0.972222222222222 | NA                | NA | NA | NA | NA | NA | NA | NA                |\n",
       "| chr1_11347871 | 0.941176470588235 | NA                | NA | NA | NA | NA | NA | NA | NA                |\n",
       "| chr1_14985558 | 0.841269841269841 | NA                | NA | NA | NA | NA | NA | NA | NA                |\n",
       "| chr1_14985563 | 0.857142857142857 | NA                | NA | NA | NA | NA | NA | NA | NA                |\n",
       "| chr1_14985623 | 0.857142857142857 | NA                | NA | NA | NA | NA | NA | NA | NA                |\n",
       "\n"
      ],
      "text/plain": [
       "  all_site      GW16_1_3          GW16_1_4          GW16_1_9 GW19_1_1 GW19_1_3\n",
       "1 chr1_657332   0.944444444444444 0.897058823529412 NA       NA       NA      \n",
       "2 chr1_10376197 0.972222222222222 NA                NA       NA       NA      \n",
       "3 chr1_11347871 0.941176470588235 NA                NA       NA       NA      \n",
       "4 chr1_14985558 0.841269841269841 NA                NA       NA       NA      \n",
       "5 chr1_14985563 0.857142857142857 NA                NA       NA       NA      \n",
       "6 chr1_14985623 0.857142857142857 NA                NA       NA       NA      \n",
       "  GW23_1_1 GW23_1_2 GW23_1_3 GW26_1_1         \n",
       "1 NA       NA       NA       0.901785714285714\n",
       "2 NA       NA       NA       NA               \n",
       "3 NA       NA       NA       NA               \n",
       "4 NA       NA       NA       NA               \n",
       "5 NA       NA       NA       NA               \n",
       "6 NA       NA       NA       NA               "
      ]
     },
     "metadata": {},
     "output_type": "display_data"
    },
    {
     "data": {
      "text/html": [
       "3624"
      ],
      "text/latex": [
       "3624"
      ],
      "text/markdown": [
       "3624"
      ],
      "text/plain": [
       "[1] 3624"
      ]
     },
     "metadata": {},
     "output_type": "display_data"
    },
    {
     "data": {
      "text/html": [
       "3624"
      ],
      "text/latex": [
       "3624"
      ],
      "text/markdown": [
       "3624"
      ],
      "text/plain": [
       "[1] 3624"
      ]
     },
     "metadata": {},
     "output_type": "display_data"
    }
   ],
   "source": [
    "# 使用pivot_wider函数进行转换\n",
    "wide_df <- pivot_wider(pure_df, names_from = \"sample_info\", values_from = \"editing_level\")\n",
    "head(wide_df)\n",
    "length(wide_df$all_site)\n",
    "length(unique(wide_df$all_site))\n"
   ]
  },
  {
   "cell_type": "code",
   "execution_count": 39,
   "metadata": {
    "vscode": {
     "languageId": "r"
    }
   },
   "outputs": [
    {
     "data": {
      "text/html": [
       "<table class=\"dataframe\">\n",
       "<caption>A data.frame: 6 × 9</caption>\n",
       "<thead>\n",
       "\t<tr><th></th><th scope=col>GW16_1_3</th><th scope=col>GW16_1_4</th><th scope=col>GW16_1_9</th><th scope=col>GW19_1_1</th><th scope=col>GW19_1_3</th><th scope=col>GW23_1_1</th><th scope=col>GW23_1_2</th><th scope=col>GW23_1_3</th><th scope=col>GW26_1_1</th></tr>\n",
       "\t<tr><th></th><th scope=col>&lt;chr&gt;</th><th scope=col>&lt;chr&gt;</th><th scope=col>&lt;chr&gt;</th><th scope=col>&lt;chr&gt;</th><th scope=col>&lt;chr&gt;</th><th scope=col>&lt;chr&gt;</th><th scope=col>&lt;chr&gt;</th><th scope=col>&lt;chr&gt;</th><th scope=col>&lt;chr&gt;</th></tr>\n",
       "</thead>\n",
       "<tbody>\n",
       "\t<tr><th scope=row>chr1_657332</th><td>0.944444444444444</td><td>0.897058823529412</td><td>NA</td><td>NA</td><td>NA</td><td>NA</td><td>NA</td><td>NA</td><td>0.901785714285714</td></tr>\n",
       "\t<tr><th scope=row>chr1_10376197</th><td>0.972222222222222</td><td>NA               </td><td>NA</td><td>NA</td><td>NA</td><td>NA</td><td>NA</td><td>NA</td><td>NA               </td></tr>\n",
       "\t<tr><th scope=row>chr1_11347871</th><td>0.941176470588235</td><td>NA               </td><td>NA</td><td>NA</td><td>NA</td><td>NA</td><td>NA</td><td>NA</td><td>NA               </td></tr>\n",
       "\t<tr><th scope=row>chr1_14985558</th><td>0.841269841269841</td><td>NA               </td><td>NA</td><td>NA</td><td>NA</td><td>NA</td><td>NA</td><td>NA</td><td>NA               </td></tr>\n",
       "\t<tr><th scope=row>chr1_14985563</th><td>0.857142857142857</td><td>NA               </td><td>NA</td><td>NA</td><td>NA</td><td>NA</td><td>NA</td><td>NA</td><td>NA               </td></tr>\n",
       "\t<tr><th scope=row>chr1_14985623</th><td>0.857142857142857</td><td>NA               </td><td>NA</td><td>NA</td><td>NA</td><td>NA</td><td>NA</td><td>NA</td><td>NA               </td></tr>\n",
       "</tbody>\n",
       "</table>\n"
      ],
      "text/latex": [
       "A data.frame: 6 × 9\n",
       "\\begin{tabular}{r|lllllllll}\n",
       "  & GW16\\_1\\_3 & GW16\\_1\\_4 & GW16\\_1\\_9 & GW19\\_1\\_1 & GW19\\_1\\_3 & GW23\\_1\\_1 & GW23\\_1\\_2 & GW23\\_1\\_3 & GW26\\_1\\_1\\\\\n",
       "  & <chr> & <chr> & <chr> & <chr> & <chr> & <chr> & <chr> & <chr> & <chr>\\\\\n",
       "\\hline\n",
       "\tchr1\\_657332 & 0.944444444444444 & 0.897058823529412 & NA & NA & NA & NA & NA & NA & 0.901785714285714\\\\\n",
       "\tchr1\\_10376197 & 0.972222222222222 & NA                & NA & NA & NA & NA & NA & NA & NA               \\\\\n",
       "\tchr1\\_11347871 & 0.941176470588235 & NA                & NA & NA & NA & NA & NA & NA & NA               \\\\\n",
       "\tchr1\\_14985558 & 0.841269841269841 & NA                & NA & NA & NA & NA & NA & NA & NA               \\\\\n",
       "\tchr1\\_14985563 & 0.857142857142857 & NA                & NA & NA & NA & NA & NA & NA & NA               \\\\\n",
       "\tchr1\\_14985623 & 0.857142857142857 & NA                & NA & NA & NA & NA & NA & NA & NA               \\\\\n",
       "\\end{tabular}\n"
      ],
      "text/markdown": [
       "\n",
       "A data.frame: 6 × 9\n",
       "\n",
       "| <!--/--> | GW16_1_3 &lt;chr&gt; | GW16_1_4 &lt;chr&gt; | GW16_1_9 &lt;chr&gt; | GW19_1_1 &lt;chr&gt; | GW19_1_3 &lt;chr&gt; | GW23_1_1 &lt;chr&gt; | GW23_1_2 &lt;chr&gt; | GW23_1_3 &lt;chr&gt; | GW26_1_1 &lt;chr&gt; |\n",
       "|---|---|---|---|---|---|---|---|---|---|\n",
       "| chr1_657332 | 0.944444444444444 | 0.897058823529412 | NA | NA | NA | NA | NA | NA | 0.901785714285714 |\n",
       "| chr1_10376197 | 0.972222222222222 | NA                | NA | NA | NA | NA | NA | NA | NA                |\n",
       "| chr1_11347871 | 0.941176470588235 | NA                | NA | NA | NA | NA | NA | NA | NA                |\n",
       "| chr1_14985558 | 0.841269841269841 | NA                | NA | NA | NA | NA | NA | NA | NA                |\n",
       "| chr1_14985563 | 0.857142857142857 | NA                | NA | NA | NA | NA | NA | NA | NA                |\n",
       "| chr1_14985623 | 0.857142857142857 | NA                | NA | NA | NA | NA | NA | NA | NA                |\n",
       "\n"
      ],
      "text/plain": [
       "              GW16_1_3          GW16_1_4          GW16_1_9 GW19_1_1 GW19_1_3\n",
       "chr1_657332   0.944444444444444 0.897058823529412 NA       NA       NA      \n",
       "chr1_10376197 0.972222222222222 NA                NA       NA       NA      \n",
       "chr1_11347871 0.941176470588235 NA                NA       NA       NA      \n",
       "chr1_14985558 0.841269841269841 NA                NA       NA       NA      \n",
       "chr1_14985563 0.857142857142857 NA                NA       NA       NA      \n",
       "chr1_14985623 0.857142857142857 NA                NA       NA       NA      \n",
       "              GW23_1_1 GW23_1_2 GW23_1_3 GW26_1_1         \n",
       "chr1_657332   NA       NA       NA       0.901785714285714\n",
       "chr1_10376197 NA       NA       NA       NA               \n",
       "chr1_11347871 NA       NA       NA       NA               \n",
       "chr1_14985558 NA       NA       NA       NA               \n",
       "chr1_14985563 NA       NA       NA       NA               \n",
       "chr1_14985623 NA       NA       NA       NA               "
      ]
     },
     "metadata": {},
     "output_type": "display_data"
    },
    {
     "data": {
      "text/html": [
       "<table class=\"dataframe\">\n",
       "<caption>A data.frame: 6 × 9</caption>\n",
       "<thead>\n",
       "\t<tr><th></th><th scope=col>GW16_1_3</th><th scope=col>GW16_1_4</th><th scope=col>GW16_1_9</th><th scope=col>GW19_1_1</th><th scope=col>GW19_1_3</th><th scope=col>GW23_1_1</th><th scope=col>GW23_1_2</th><th scope=col>GW23_1_3</th><th scope=col>GW26_1_1</th></tr>\n",
       "\t<tr><th></th><th scope=col>&lt;chr&gt;</th><th scope=col>&lt;chr&gt;</th><th scope=col>&lt;chr&gt;</th><th scope=col>&lt;chr&gt;</th><th scope=col>&lt;chr&gt;</th><th scope=col>&lt;chr&gt;</th><th scope=col>&lt;chr&gt;</th><th scope=col>&lt;chr&gt;</th><th scope=col>&lt;chr&gt;</th></tr>\n",
       "</thead>\n",
       "<tbody>\n",
       "\t<tr><th scope=row>chr1_657332</th><td>0.944444444444444</td><td>0.897058823529412</td><td>0</td><td>0</td><td>0</td><td>0</td><td>0</td><td>0</td><td>0.901785714285714</td></tr>\n",
       "\t<tr><th scope=row>chr1_10376197</th><td>0.972222222222222</td><td>0                </td><td>0</td><td>0</td><td>0</td><td>0</td><td>0</td><td>0</td><td>0                </td></tr>\n",
       "\t<tr><th scope=row>chr1_11347871</th><td>0.941176470588235</td><td>0                </td><td>0</td><td>0</td><td>0</td><td>0</td><td>0</td><td>0</td><td>0                </td></tr>\n",
       "\t<tr><th scope=row>chr1_14985558</th><td>0.841269841269841</td><td>0                </td><td>0</td><td>0</td><td>0</td><td>0</td><td>0</td><td>0</td><td>0                </td></tr>\n",
       "\t<tr><th scope=row>chr1_14985563</th><td>0.857142857142857</td><td>0                </td><td>0</td><td>0</td><td>0</td><td>0</td><td>0</td><td>0</td><td>0                </td></tr>\n",
       "\t<tr><th scope=row>chr1_14985623</th><td>0.857142857142857</td><td>0                </td><td>0</td><td>0</td><td>0</td><td>0</td><td>0</td><td>0</td><td>0                </td></tr>\n",
       "</tbody>\n",
       "</table>\n"
      ],
      "text/latex": [
       "A data.frame: 6 × 9\n",
       "\\begin{tabular}{r|lllllllll}\n",
       "  & GW16\\_1\\_3 & GW16\\_1\\_4 & GW16\\_1\\_9 & GW19\\_1\\_1 & GW19\\_1\\_3 & GW23\\_1\\_1 & GW23\\_1\\_2 & GW23\\_1\\_3 & GW26\\_1\\_1\\\\\n",
       "  & <chr> & <chr> & <chr> & <chr> & <chr> & <chr> & <chr> & <chr> & <chr>\\\\\n",
       "\\hline\n",
       "\tchr1\\_657332 & 0.944444444444444 & 0.897058823529412 & 0 & 0 & 0 & 0 & 0 & 0 & 0.901785714285714\\\\\n",
       "\tchr1\\_10376197 & 0.972222222222222 & 0                 & 0 & 0 & 0 & 0 & 0 & 0 & 0                \\\\\n",
       "\tchr1\\_11347871 & 0.941176470588235 & 0                 & 0 & 0 & 0 & 0 & 0 & 0 & 0                \\\\\n",
       "\tchr1\\_14985558 & 0.841269841269841 & 0                 & 0 & 0 & 0 & 0 & 0 & 0 & 0                \\\\\n",
       "\tchr1\\_14985563 & 0.857142857142857 & 0                 & 0 & 0 & 0 & 0 & 0 & 0 & 0                \\\\\n",
       "\tchr1\\_14985623 & 0.857142857142857 & 0                 & 0 & 0 & 0 & 0 & 0 & 0 & 0                \\\\\n",
       "\\end{tabular}\n"
      ],
      "text/markdown": [
       "\n",
       "A data.frame: 6 × 9\n",
       "\n",
       "| <!--/--> | GW16_1_3 &lt;chr&gt; | GW16_1_4 &lt;chr&gt; | GW16_1_9 &lt;chr&gt; | GW19_1_1 &lt;chr&gt; | GW19_1_3 &lt;chr&gt; | GW23_1_1 &lt;chr&gt; | GW23_1_2 &lt;chr&gt; | GW23_1_3 &lt;chr&gt; | GW26_1_1 &lt;chr&gt; |\n",
       "|---|---|---|---|---|---|---|---|---|---|\n",
       "| chr1_657332 | 0.944444444444444 | 0.897058823529412 | 0 | 0 | 0 | 0 | 0 | 0 | 0.901785714285714 |\n",
       "| chr1_10376197 | 0.972222222222222 | 0                 | 0 | 0 | 0 | 0 | 0 | 0 | 0                 |\n",
       "| chr1_11347871 | 0.941176470588235 | 0                 | 0 | 0 | 0 | 0 | 0 | 0 | 0                 |\n",
       "| chr1_14985558 | 0.841269841269841 | 0                 | 0 | 0 | 0 | 0 | 0 | 0 | 0                 |\n",
       "| chr1_14985563 | 0.857142857142857 | 0                 | 0 | 0 | 0 | 0 | 0 | 0 | 0                 |\n",
       "| chr1_14985623 | 0.857142857142857 | 0                 | 0 | 0 | 0 | 0 | 0 | 0 | 0                 |\n",
       "\n"
      ],
      "text/plain": [
       "              GW16_1_3          GW16_1_4          GW16_1_9 GW19_1_1 GW19_1_3\n",
       "chr1_657332   0.944444444444444 0.897058823529412 0        0        0       \n",
       "chr1_10376197 0.972222222222222 0                 0        0        0       \n",
       "chr1_11347871 0.941176470588235 0                 0        0        0       \n",
       "chr1_14985558 0.841269841269841 0                 0        0        0       \n",
       "chr1_14985563 0.857142857142857 0                 0        0        0       \n",
       "chr1_14985623 0.857142857142857 0                 0        0        0       \n",
       "              GW23_1_1 GW23_1_2 GW23_1_3 GW26_1_1         \n",
       "chr1_657332   0        0        0        0.901785714285714\n",
       "chr1_10376197 0        0        0        0                \n",
       "chr1_11347871 0        0        0        0                \n",
       "chr1_14985558 0        0        0        0                \n",
       "chr1_14985563 0        0        0        0                \n",
       "chr1_14985623 0        0        0        0                "
      ]
     },
     "metadata": {},
     "output_type": "display_data"
    }
   ],
   "source": [
    "data <- as.data.frame(wide_df)\n",
    "rownames(data) <- data$all_site\n",
    "\n",
    "data <- data[,-1]\n",
    "head(data)\n",
    "data[is.na(data)] <- 0\n",
    "# 查看转换后的数据框\n",
    "head(data)"
   ]
  },
  {
   "cell_type": "code",
   "execution_count": 40,
   "metadata": {
    "vscode": {
     "languageId": "r"
    }
   },
   "outputs": [
    {
     "data": {
      "text/html": [
       "3847"
      ],
      "text/latex": [
       "3847"
      ],
      "text/markdown": [
       "3847"
      ],
      "text/plain": [
       "[1] 3847"
      ]
     },
     "metadata": {},
     "output_type": "display_data"
    }
   ],
   "source": [
    "length(pure_df$all_site)"
   ]
  },
  {
   "cell_type": "code",
   "execution_count": 41,
   "metadata": {
    "vscode": {
     "languageId": "r"
    }
   },
   "outputs": [],
   "source": [
    "p_values <- c()\n",
    "for(site in rownames(data)){\n",
    "    sub_sample_data <- as.data.frame(cbind(c(rep('GW16',3),rep('GW19',2),rep('GW23',3),'GW26'),colnames(data), as.numeric(data[site,])))\n",
    "    colnames(sub_sample_data) <- c(\"group\",\"sample\",'editing_rate')\n",
    "    sub_sample_data$group <- factor(sub_sample_data$group)\n",
    "    #head(sub_sample_data)\n",
    "    result <- aov(editing_rate~group,sub_sample_data)\n",
    "    p_value <- summary(result)[[1]][[\"Pr(>F)\"]][1]\n",
    "    p_values <- c(p_values,p_value) \n",
    "}\n"
   ]
  },
  {
   "cell_type": "code",
   "execution_count": 42,
   "metadata": {
    "vscode": {
     "languageId": "r"
    }
   },
   "outputs": [
    {
     "data": {
      "text/plain": [
       "\n",
       "FALSE  TRUE \n",
       " 2788   836 "
      ]
     },
     "metadata": {},
     "output_type": "display_data"
    },
    {
     "data": {
      "text/html": [
       "3624"
      ],
      "text/latex": [
       "3624"
      ],
      "text/markdown": [
       "3624"
      ],
      "text/plain": [
       "[1] 3624"
      ]
     },
     "metadata": {},
     "output_type": "display_data"
    }
   ],
   "source": [
    "fdr_adjusted_p_values <- p.adjust(p_values, method = \"BH\")\n",
    "table(fdr_adjusted_p_values < 0.05)\n",
    "length(fdr_adjusted_p_values)"
   ]
  },
  {
   "cell_type": "code",
   "execution_count": 43,
   "metadata": {
    "vscode": {
     "languageId": "r"
    }
   },
   "outputs": [
    {
     "data": {
      "text/html": [
       "<style>\n",
       ".list-inline {list-style: none; margin:0; padding: 0}\n",
       ".list-inline>li {display: inline-block}\n",
       ".list-inline>li:not(:last-child)::after {content: \"\\00b7\"; padding: 0 .5ex}\n",
       "</style>\n",
       "<ol class=list-inline><li>836</li><li>9</li></ol>\n"
      ],
      "text/latex": [
       "\\begin{enumerate*}\n",
       "\\item 836\n",
       "\\item 9\n",
       "\\end{enumerate*}\n"
      ],
      "text/markdown": [
       "1. 836\n",
       "2. 9\n",
       "\n",
       "\n"
      ],
      "text/plain": [
       "[1] 836   9"
      ]
     },
     "metadata": {},
     "output_type": "display_data"
    }
   ],
   "source": [
    "#对差异编辑的位点进行热图展示\n",
    "de_data <- data[rownames(data)[fdr_adjusted_p_values < 0.05],]\n",
    "dim(de_data)"
   ]
  },
  {
   "cell_type": "code",
   "execution_count": 44,
   "metadata": {
    "vscode": {
     "languageId": "r"
    }
   },
   "outputs": [],
   "source": [
    "de_data$GW16_1_3 <- as.numeric(de_data$GW16_1_3)\n",
    "de_data$GW16_1_4 <- as.numeric(de_data$GW16_1_4)\n",
    "de_data$GW16_1_9 <- as.numeric(de_data$GW16_1_9)\n",
    "de_data$GW19_1_1 <- as.numeric(de_data$GW19_1_1)\n",
    "de_data$GW19_1_3 <- as.numeric(de_data$GW19_1_3)\n",
    "de_data$GW23_1_1 <- as.numeric(de_data$GW23_1_1)\n",
    "de_data$GW23_1_2 <- as.numeric(de_data$GW23_1_2)\n",
    "de_data$GW23_1_3 <- as.numeric(de_data$GW23_1_3)\n",
    "de_data$GW26_1_1 <- as.numeric(de_data$GW26_1_1)\n",
    "\n"
   ]
  },
  {
   "cell_type": "code",
   "execution_count": 45,
   "metadata": {
    "vscode": {
     "languageId": "r"
    }
   },
   "outputs": [
    {
     "data": {
      "text/html": [
       "<table class=\"dataframe\">\n",
       "<caption>A data.frame: 6 × 11</caption>\n",
       "<thead>\n",
       "\t<tr><th></th><th scope=col>GW16_1_3</th><th scope=col>GW16_1_4</th><th scope=col>GW16_1_9</th><th scope=col>GW19_1_1</th><th scope=col>GW19_1_3</th><th scope=col>GW23_1_1</th><th scope=col>GW23_1_2</th><th scope=col>GW23_1_3</th><th scope=col>GW26_1_1</th><th scope=col>p_value</th><th scope=col>adjust_p</th></tr>\n",
       "\t<tr><th></th><th scope=col>&lt;chr&gt;</th><th scope=col>&lt;chr&gt;</th><th scope=col>&lt;chr&gt;</th><th scope=col>&lt;chr&gt;</th><th scope=col>&lt;chr&gt;</th><th scope=col>&lt;chr&gt;</th><th scope=col>&lt;chr&gt;</th><th scope=col>&lt;chr&gt;</th><th scope=col>&lt;chr&gt;</th><th scope=col>&lt;dbl&gt;</th><th scope=col>&lt;dbl&gt;</th></tr>\n",
       "</thead>\n",
       "<tbody>\n",
       "\t<tr><th scope=row>chr1_657332</th><td>0.944444444444444</td><td>0.897058823529412</td><td>0</td><td>0</td><td>0</td><td>0</td><td>0</td><td>0</td><td>0.901785714285714</td><td>0.1180069</td><td>0.5001836</td></tr>\n",
       "\t<tr><th scope=row>chr1_10376197</th><td>0.972222222222222</td><td>0                </td><td>0</td><td>0</td><td>0</td><td>0</td><td>0</td><td>0</td><td>0                </td><td>0.6666667</td><td>0.6752376</td></tr>\n",
       "\t<tr><th scope=row>chr1_11347871</th><td>0.941176470588235</td><td>0                </td><td>0</td><td>0</td><td>0</td><td>0</td><td>0</td><td>0</td><td>0                </td><td>0.6666667</td><td>0.6752376</td></tr>\n",
       "\t<tr><th scope=row>chr1_14985558</th><td>0.841269841269841</td><td>0                </td><td>0</td><td>0</td><td>0</td><td>0</td><td>0</td><td>0</td><td>0                </td><td>0.6666667</td><td>0.6752376</td></tr>\n",
       "\t<tr><th scope=row>chr1_14985563</th><td>0.857142857142857</td><td>0                </td><td>0</td><td>0</td><td>0</td><td>0</td><td>0</td><td>0</td><td>0                </td><td>0.6666667</td><td>0.6752376</td></tr>\n",
       "\t<tr><th scope=row>chr1_14985623</th><td>0.857142857142857</td><td>0                </td><td>0</td><td>0</td><td>0</td><td>0</td><td>0</td><td>0</td><td>0                </td><td>0.6666667</td><td>0.6752376</td></tr>\n",
       "</tbody>\n",
       "</table>\n"
      ],
      "text/latex": [
       "A data.frame: 6 × 11\n",
       "\\begin{tabular}{r|lllllllllll}\n",
       "  & GW16\\_1\\_3 & GW16\\_1\\_4 & GW16\\_1\\_9 & GW19\\_1\\_1 & GW19\\_1\\_3 & GW23\\_1\\_1 & GW23\\_1\\_2 & GW23\\_1\\_3 & GW26\\_1\\_1 & p\\_value & adjust\\_p\\\\\n",
       "  & <chr> & <chr> & <chr> & <chr> & <chr> & <chr> & <chr> & <chr> & <chr> & <dbl> & <dbl>\\\\\n",
       "\\hline\n",
       "\tchr1\\_657332 & 0.944444444444444 & 0.897058823529412 & 0 & 0 & 0 & 0 & 0 & 0 & 0.901785714285714 & 0.1180069 & 0.5001836\\\\\n",
       "\tchr1\\_10376197 & 0.972222222222222 & 0                 & 0 & 0 & 0 & 0 & 0 & 0 & 0                 & 0.6666667 & 0.6752376\\\\\n",
       "\tchr1\\_11347871 & 0.941176470588235 & 0                 & 0 & 0 & 0 & 0 & 0 & 0 & 0                 & 0.6666667 & 0.6752376\\\\\n",
       "\tchr1\\_14985558 & 0.841269841269841 & 0                 & 0 & 0 & 0 & 0 & 0 & 0 & 0                 & 0.6666667 & 0.6752376\\\\\n",
       "\tchr1\\_14985563 & 0.857142857142857 & 0                 & 0 & 0 & 0 & 0 & 0 & 0 & 0                 & 0.6666667 & 0.6752376\\\\\n",
       "\tchr1\\_14985623 & 0.857142857142857 & 0                 & 0 & 0 & 0 & 0 & 0 & 0 & 0                 & 0.6666667 & 0.6752376\\\\\n",
       "\\end{tabular}\n"
      ],
      "text/markdown": [
       "\n",
       "A data.frame: 6 × 11\n",
       "\n",
       "| <!--/--> | GW16_1_3 &lt;chr&gt; | GW16_1_4 &lt;chr&gt; | GW16_1_9 &lt;chr&gt; | GW19_1_1 &lt;chr&gt; | GW19_1_3 &lt;chr&gt; | GW23_1_1 &lt;chr&gt; | GW23_1_2 &lt;chr&gt; | GW23_1_3 &lt;chr&gt; | GW26_1_1 &lt;chr&gt; | p_value &lt;dbl&gt; | adjust_p &lt;dbl&gt; |\n",
       "|---|---|---|---|---|---|---|---|---|---|---|---|\n",
       "| chr1_657332 | 0.944444444444444 | 0.897058823529412 | 0 | 0 | 0 | 0 | 0 | 0 | 0.901785714285714 | 0.1180069 | 0.5001836 |\n",
       "| chr1_10376197 | 0.972222222222222 | 0                 | 0 | 0 | 0 | 0 | 0 | 0 | 0                 | 0.6666667 | 0.6752376 |\n",
       "| chr1_11347871 | 0.941176470588235 | 0                 | 0 | 0 | 0 | 0 | 0 | 0 | 0                 | 0.6666667 | 0.6752376 |\n",
       "| chr1_14985558 | 0.841269841269841 | 0                 | 0 | 0 | 0 | 0 | 0 | 0 | 0                 | 0.6666667 | 0.6752376 |\n",
       "| chr1_14985563 | 0.857142857142857 | 0                 | 0 | 0 | 0 | 0 | 0 | 0 | 0                 | 0.6666667 | 0.6752376 |\n",
       "| chr1_14985623 | 0.857142857142857 | 0                 | 0 | 0 | 0 | 0 | 0 | 0 | 0                 | 0.6666667 | 0.6752376 |\n",
       "\n"
      ],
      "text/plain": [
       "              GW16_1_3          GW16_1_4          GW16_1_9 GW19_1_1 GW19_1_3\n",
       "chr1_657332   0.944444444444444 0.897058823529412 0        0        0       \n",
       "chr1_10376197 0.972222222222222 0                 0        0        0       \n",
       "chr1_11347871 0.941176470588235 0                 0        0        0       \n",
       "chr1_14985558 0.841269841269841 0                 0        0        0       \n",
       "chr1_14985563 0.857142857142857 0                 0        0        0       \n",
       "chr1_14985623 0.857142857142857 0                 0        0        0       \n",
       "              GW23_1_1 GW23_1_2 GW23_1_3 GW26_1_1          p_value   adjust_p \n",
       "chr1_657332   0        0        0        0.901785714285714 0.1180069 0.5001836\n",
       "chr1_10376197 0        0        0        0                 0.6666667 0.6752376\n",
       "chr1_11347871 0        0        0        0                 0.6666667 0.6752376\n",
       "chr1_14985558 0        0        0        0                 0.6666667 0.6752376\n",
       "chr1_14985563 0        0        0        0                 0.6666667 0.6752376\n",
       "chr1_14985623 0        0        0        0                 0.6666667 0.6752376"
      ]
     },
     "metadata": {},
     "output_type": "display_data"
    }
   ],
   "source": [
    "all_edited_sites_with_p_values <- data\n",
    "all_edited_sites_with_p_values$p_value <- p_values\n",
    "all_edited_sites_with_p_values$adjust_p <- fdr_adjusted_p_values\n",
    "head(all_edited_sites_with_p_values)"
   ]
  },
  {
   "cell_type": "code",
   "execution_count": 21,
   "metadata": {
    "vscode": {
     "languageId": "r"
    }
   },
   "outputs": [],
   "source": [
    "write.table(all_edited_sites_with_p_values,\"/disk1/wenqing/tmp_data/PFC_s2/all_analysis_result/de_editing/OPC/all_edited_sites_with_p_values.txt\",quote=F,sep='\\t')"
   ]
  },
  {
   "cell_type": "code",
   "execution_count": 46,
   "metadata": {
    "vscode": {
     "languageId": "r"
    }
   },
   "outputs": [
    {
     "data": {
      "text/html": [
       "<table class=\"dataframe\">\n",
       "<caption>A data.frame: 9 × 1</caption>\n",
       "<thead>\n",
       "\t<tr><th></th><th scope=col>stages</th></tr>\n",
       "\t<tr><th></th><th scope=col>&lt;chr&gt;</th></tr>\n",
       "</thead>\n",
       "<tbody>\n",
       "\t<tr><th scope=row>GW16_1_3</th><td>week16</td></tr>\n",
       "\t<tr><th scope=row>GW16_1_4</th><td>week16</td></tr>\n",
       "\t<tr><th scope=row>GW16_1_9</th><td>week16</td></tr>\n",
       "\t<tr><th scope=row>GW19_1_1</th><td>week19</td></tr>\n",
       "\t<tr><th scope=row>GW19_1_3</th><td>week19</td></tr>\n",
       "\t<tr><th scope=row>GW23_1_1</th><td>week23</td></tr>\n",
       "\t<tr><th scope=row>GW23_1_2</th><td>week23</td></tr>\n",
       "\t<tr><th scope=row>GW23_1_3</th><td>week23</td></tr>\n",
       "\t<tr><th scope=row>GW26_1_1</th><td>week26</td></tr>\n",
       "</tbody>\n",
       "</table>\n"
      ],
      "text/latex": [
       "A data.frame: 9 × 1\n",
       "\\begin{tabular}{r|l}\n",
       "  & stages\\\\\n",
       "  & <chr>\\\\\n",
       "\\hline\n",
       "\tGW16\\_1\\_3 & week16\\\\\n",
       "\tGW16\\_1\\_4 & week16\\\\\n",
       "\tGW16\\_1\\_9 & week16\\\\\n",
       "\tGW19\\_1\\_1 & week19\\\\\n",
       "\tGW19\\_1\\_3 & week19\\\\\n",
       "\tGW23\\_1\\_1 & week23\\\\\n",
       "\tGW23\\_1\\_2 & week23\\\\\n",
       "\tGW23\\_1\\_3 & week23\\\\\n",
       "\tGW26\\_1\\_1 & week26\\\\\n",
       "\\end{tabular}\n"
      ],
      "text/markdown": [
       "\n",
       "A data.frame: 9 × 1\n",
       "\n",
       "| <!--/--> | stages &lt;chr&gt; |\n",
       "|---|---|\n",
       "| GW16_1_3 | week16 |\n",
       "| GW16_1_4 | week16 |\n",
       "| GW16_1_9 | week16 |\n",
       "| GW19_1_1 | week19 |\n",
       "| GW19_1_3 | week19 |\n",
       "| GW23_1_1 | week23 |\n",
       "| GW23_1_2 | week23 |\n",
       "| GW23_1_3 | week23 |\n",
       "| GW26_1_1 | week26 |\n",
       "\n"
      ],
      "text/plain": [
       "         stages\n",
       "GW16_1_3 week16\n",
       "GW16_1_4 week16\n",
       "GW16_1_9 week16\n",
       "GW19_1_1 week19\n",
       "GW19_1_3 week19\n",
       "GW23_1_1 week23\n",
       "GW23_1_2 week23\n",
       "GW23_1_3 week23\n",
       "GW26_1_1 week26"
      ]
     },
     "metadata": {},
     "output_type": "display_data"
    }
   ],
   "source": [
    "my_palette <- colorRampPalette(c(\"green\", \"red\"))(n = 100)  # 创建自定义颜色梯度，100级颜色 \n",
    "annotation_col = data.frame(\n",
    "  stages = c(rep('week16',3),rep('week19',2),rep('week23',3),'week26')\n",
    "  #color = c('blue','yellow',rep('purple',3),rep('red',3),rep('orange',3),'black')\n",
    ")\n",
    "rownames(annotation_col) = colnames(de_data)\n",
    "annotation_col\n",
    "color_mapping <- list(stages=c(week16 = \"purple\", week19 = 'red', week23 = 'orange', week26 = 'black')) "
   ]
  },
  {
   "cell_type": "code",
   "execution_count": 47,
   "metadata": {
    "vscode": {
     "languageId": "r"
    }
   },
   "outputs": [
    {
     "data": {
      "image/png": "[encoded data removed]",
      "text/plain": [
       "plot without title"
      ]
     },
     "metadata": {
      "image/png": {
       "height": 420,
       "width": 420
      }
     },
     "output_type": "display_data"
    }
   ],
   "source": [
    "#pdf(\"/disk1/wenqing/tmp_data/PFC_s2/all_analysis_result/de_editing/de_edited_sites.pdf\")\n",
    "pheatmap_result <- pheatmap(de_data,\n",
    "         cluster_cols = FALSE,\n",
    "         cluster_rows = TRUE,\n",
    "         show_colnames = TRUE,\n",
    "         show_rownames = FALSE,\n",
    "         #cellheight = 0.01,\n",
    "         color = my_palette,\n",
    "         #fontsize_row = 6,          # 行标签字体大小\n",
    "         fontsize_col = 13,          # 列标签字体大小\n",
    "         border_color = \"white\",    # 边框颜色\n",
    "         cell_border_color = \"grey\", # 单元格边框颜色\n",
    "         #alpha = 0.8,             # 颜色透明度\n",
    "         treeheight_row = 0,\n",
    "         annotation_col = annotation_col,\n",
    "         annotation_colors =  color_mapping,\n",
    "         annotation_legend = FALSE, \n",
    "         annotation_names_col = TRUE,# 添加列注释\n",
    "         main = \"Differently edited RES along developmental stages\",\n",
    "         #main = \"Customized Heatmap\", # 图表标题\n",
    "         #legend_breaks = seq(min(de_data), max(de_data), length.out = 5), # 图例刻度\n",
    "         legend_labels = 'Editing rate' # 图例标签\n",
    ")\n",
    "#dev.off()\n",
    "#mtext(\"My X-axis Label\", side = 1, line = 2.5, cex = 1.2) "
   ]
  },
  {
   "cell_type": "code",
   "execution_count": 48,
   "metadata": {
    "vscode": {
     "languageId": "r"
    }
   },
   "outputs": [
    {
     "name": "stderr",
     "output_type": "stream",
     "text": [
      "\n",
      "---------------------\n",
      "Welcome to dendextend version 1.17.1\n",
      "Type citation('dendextend') for how to cite the package.\n",
      "\n",
      "Type browseVignettes(package = 'dendextend') for the package vignette.\n",
      "The github page is: https://github.com/talgalili/dendextend/\n",
      "\n",
      "Suggestions and bug-reports can be submitted at: https://github.com/talgalili/dendextend/issues\n",
      "You may ask questions at stackoverflow, use the r and dendextend tags: \n",
      "\t https://stackoverflow.com/questions/tagged/dendextend\n",
      "\n",
      "\tTo suppress this message use:  suppressPackageStartupMessages(library(dendextend))\n",
      "---------------------\n",
      "\n",
      "\n",
      "\n",
      "Attaching package: ‘dendextend’\n",
      "\n",
      "\n",
      "The following object is masked from ‘package:stats’:\n",
      "\n",
      "    cutree\n",
      "\n",
      "\n",
      "\n",
      "Attaching package: ‘ape’\n",
      "\n",
      "\n",
      "The following objects are masked from ‘package:dendextend’:\n",
      "\n",
      "    ladderize, rotate\n",
      "\n",
      "\n",
      "The following object is masked from ‘package:dplyr’:\n",
      "\n",
      "    where\n",
      "\n",
      "\n",
      "Welcome! Want to learn more? See two factoextra-related books at https://goo.gl/ve3WBa\n",
      "\n"
     ]
    }
   ],
   "source": [
    "######对差异编辑位点分簇\n",
    "# 加载必要的库\n",
    "library(cluster) # 可能需要安装这个包来进行聚类分析\n",
    "library(dendextend)\n",
    "library(ape)\n",
    "library(factoextra)"
   ]
  },
  {
   "cell_type": "code",
   "execution_count": 49,
   "metadata": {
    "vscode": {
     "languageId": "r"
    }
   },
   "outputs": [
    {
     "data": {
      "text/html": [
       "<style>\n",
       ".list-inline {list-style: none; margin:0; padding: 0}\n",
       ".list-inline>li {display: inline-block}\n",
       ".list-inline>li:not(:last-child)::after {content: \"\\00b7\"; padding: 0 .5ex}\n",
       "</style>\n",
       "<ol class=list-inline><li>855</li><li>3</li></ol>\n"
      ],
      "text/latex": [
       "\\begin{enumerate*}\n",
       "\\item 855\n",
       "\\item 3\n",
       "\\end{enumerate*}\n"
      ],
      "text/markdown": [
       "1. 855\n",
       "2. 3\n",
       "\n",
       "\n"
      ],
      "text/plain": [
       "[1] 855   3"
      ]
     },
     "metadata": {},
     "output_type": "display_data"
    }
   ],
   "source": [
    "#wide_df <- pivot_wider(de_data, names_from = \"sample_info\", values_from = \"editing_level\")\n",
    "edit_sites_data <- df[which(df$all_site %in% rownames(de_data)),]\n",
    "dim(edit_sites_data)\n",
    "edit_sites_data$editing_level <- as.numeric(edit_sites_data$editing_level)"
   ]
  },
  {
   "cell_type": "code",
   "execution_count": 50,
   "metadata": {
    "vscode": {
     "languageId": "r"
    }
   },
   "outputs": [],
   "source": [
    "dist_obj <- dist(edit_sites_data$editing_level,method = \"euclidean\")\n",
    "hclust_obj <- hclust(dist_obj,method='ward.D2')\n",
    "\n",
    "dend <- edit_sites_data$editing_level %>%\n",
    "  dist(method = \"euclidean\") %>%\n",
    "  hclust() %>%\n",
    "  as.phylo()\n",
    "\n"
   ]
  },
  {
   "cell_type": "code",
   "execution_count": 51,
   "metadata": {
    "vscode": {
     "languageId": "r"
    }
   },
   "outputs": [
    {
     "data": {
      "image/png": "[encoded data removed]",
      "text/plain": [
       "plot without title"
      ]
     },
     "metadata": {
      "image/png": {
       "height": 420,
       "width": 420
      }
     },
     "output_type": "display_data"
    },
    {
     "data": {
      "image/png": "[encoded data removed]",
      "text/plain": [
       "plot without title"
      ]
     },
     "metadata": {
      "image/png": {
       "height": 420,
       "width": 420
      }
     },
     "output_type": "display_data"
    }
   ],
   "source": [
    "# 步骤3: 确定最佳聚类数\n",
    "# 绘制树状图\n",
    "#dend <- as.phylo.dendrogram(hclust_obj)\n",
    "plot(dend)\n",
    "# 使用肘部法则确定最佳聚类数\n",
    "# 计算并绘制不同聚类数目的总内平方和\n",
    "# 注意：这个方法不一定总是能找到最优解，更多是作为一个启发式方法\n",
    "fviz_nbclust(as.matrix(edit_sites_data$editing_level), FUN = hcut,hclust_method = \"ward.D2\", method = \"wss\") +\n",
    "  ggtitle(\"Elbow Method to Determine Optimal Number of Clusters\")\n",
    "\n"
   ]
  },
  {
   "cell_type": "code",
   "execution_count": 52,
   "metadata": {
    "vscode": {
     "languageId": "r"
    }
   },
   "outputs": [
    {
     "data": {
      "text/plain": [
       "clusters\n",
       "  1   2   3 \n",
       "289 433 133 "
      ]
     },
     "metadata": {},
     "output_type": "display_data"
    }
   ],
   "source": [
    "# 根据以上方法选择一个合适的聚类数目k\n",
    "# 然后切割树状图得到k个簇\n",
    "k <- 3 # 假设通过上述方法确定的最佳聚类数为5\n",
    "clusters <- cutree(hclust_obj, k = k)\n",
    "table(clusters)"
   ]
  },
  {
   "cell_type": "code",
   "execution_count": 53,
   "metadata": {
    "vscode": {
     "languageId": "r"
    }
   },
   "outputs": [
    {
     "data": {
      "text/html": [
       "<table class=\"dataframe\">\n",
       "<caption>A data.frame: 6 × 4</caption>\n",
       "<thead>\n",
       "\t<tr><th></th><th scope=col>all_site</th><th scope=col>sample_info</th><th scope=col>editing_level</th><th scope=col>cluster</th></tr>\n",
       "\t<tr><th></th><th scope=col>&lt;chr&gt;</th><th scope=col>&lt;chr&gt;</th><th scope=col>&lt;dbl&gt;</th><th scope=col>&lt;int&gt;</th></tr>\n",
       "</thead>\n",
       "<tbody>\n",
       "\t<tr><th scope=row>165</th><td>chr16_6866647             </td><td>GW16_1_3</td><td>0.4000000</td><td>1</td></tr>\n",
       "\t<tr><th scope=row>412</th><td>chr7_gl000195_random_83036</td><td>GW16_1_3</td><td>0.3777778</td><td>1</td></tr>\n",
       "\t<tr><th scope=row>465</th><td>chr1_196340296            </td><td>GW16_1_4</td><td>0.3098592</td><td>1</td></tr>\n",
       "\t<tr><th scope=row>900</th><td>chr7_gl000195_random_83036</td><td>GW16_1_4</td><td>0.2660550</td><td>1</td></tr>\n",
       "\t<tr><th scope=row>1191</th><td>chr16_89629819            </td><td>GW19_1_1</td><td>0.2258065</td><td>1</td></tr>\n",
       "\t<tr><th scope=row>1565</th><td>chr12_66449313            </td><td>GW23_1_1</td><td>0.0098308</td><td>1</td></tr>\n",
       "</tbody>\n",
       "</table>\n"
      ],
      "text/latex": [
       "A data.frame: 6 × 4\n",
       "\\begin{tabular}{r|llll}\n",
       "  & all\\_site & sample\\_info & editing\\_level & cluster\\\\\n",
       "  & <chr> & <chr> & <dbl> & <int>\\\\\n",
       "\\hline\n",
       "\t165 & chr16\\_6866647              & GW16\\_1\\_3 & 0.4000000 & 1\\\\\n",
       "\t412 & chr7\\_gl000195\\_random\\_83036 & GW16\\_1\\_3 & 0.3777778 & 1\\\\\n",
       "\t465 & chr1\\_196340296             & GW16\\_1\\_4 & 0.3098592 & 1\\\\\n",
       "\t900 & chr7\\_gl000195\\_random\\_83036 & GW16\\_1\\_4 & 0.2660550 & 1\\\\\n",
       "\t1191 & chr16\\_89629819             & GW19\\_1\\_1 & 0.2258065 & 1\\\\\n",
       "\t1565 & chr12\\_66449313             & GW23\\_1\\_1 & 0.0098308 & 1\\\\\n",
       "\\end{tabular}\n"
      ],
      "text/markdown": [
       "\n",
       "A data.frame: 6 × 4\n",
       "\n",
       "| <!--/--> | all_site &lt;chr&gt; | sample_info &lt;chr&gt; | editing_level &lt;dbl&gt; | cluster &lt;int&gt; |\n",
       "|---|---|---|---|---|\n",
       "| 165 | chr16_6866647              | GW16_1_3 | 0.4000000 | 1 |\n",
       "| 412 | chr7_gl000195_random_83036 | GW16_1_3 | 0.3777778 | 1 |\n",
       "| 465 | chr1_196340296             | GW16_1_4 | 0.3098592 | 1 |\n",
       "| 900 | chr7_gl000195_random_83036 | GW16_1_4 | 0.2660550 | 1 |\n",
       "| 1191 | chr16_89629819             | GW19_1_1 | 0.2258065 | 1 |\n",
       "| 1565 | chr12_66449313             | GW23_1_1 | 0.0098308 | 1 |\n",
       "\n"
      ],
      "text/plain": [
       "     all_site                   sample_info editing_level cluster\n",
       "165  chr16_6866647              GW16_1_3    0.4000000     1      \n",
       "412  chr7_gl000195_random_83036 GW16_1_3    0.3777778     1      \n",
       "465  chr1_196340296             GW16_1_4    0.3098592     1      \n",
       "900  chr7_gl000195_random_83036 GW16_1_4    0.2660550     1      \n",
       "1191 chr16_89629819             GW19_1_1    0.2258065     1      \n",
       "1565 chr12_66449313             GW23_1_1    0.0098308     1      "
      ]
     },
     "metadata": {},
     "output_type": "display_data"
    }
   ],
   "source": [
    "# 输出每个编辑位点所属的簇\n",
    "# print(clusters)\n",
    "edited_sites_wz_cluster <- edit_sites_data\n",
    "edited_sites_wz_cluster$cluster <- clusters\n",
    "head(edited_sites_wz_cluster)\n",
    "write.table(edited_sites_wz_cluster,\"/disk1/wenqing/tmp_data/PFC_s2/all_analysis_result/de_editing/OPC/de_edited_sites_wz_3clusters.txt\",quote=F,sep='\\t',row.names=F)"
   ]
  },
  {
   "cell_type": "code",
   "execution_count": 54,
   "metadata": {
    "vscode": {
     "languageId": "r"
    }
   },
   "outputs": [],
   "source": [
    "write.table(table(edited_sites_wz_cluster$sample_info,edited_sites_wz_cluster$cluster),\"/disk1/wenqing/tmp_data/PFC_s2/all_analysis_result/de_editing/OPC/de_edited_sites_num_in_3clusters.txt\",sep='\\t',quote=F)"
   ]
  },
  {
   "cell_type": "code",
   "execution_count": 55,
   "metadata": {
    "vscode": {
     "languageId": "r"
    }
   },
   "outputs": [
    {
     "name": "stderr",
     "output_type": "stream",
     "text": [
      "\u001b[1m\u001b[22m`summarise()` has grouped output by 'sample_info'. You can override using the\n",
      "`.groups` argument.\n"
     ]
    },
    {
     "data": {
      "text/html": [
       "<table class=\"dataframe\">\n",
       "<caption>A grouped_df: 11 × 4</caption>\n",
       "<thead>\n",
       "\t<tr><th scope=col>sample_info</th><th scope=col>cluster</th><th scope=col>avg_editing_level</th><th scope=col>sd_editing_level</th></tr>\n",
       "\t<tr><th scope=col>&lt;chr&gt;</th><th scope=col>&lt;fct&gt;</th><th scope=col>&lt;dbl&gt;</th><th scope=col>&lt;dbl&gt;</th></tr>\n",
       "</thead>\n",
       "<tbody>\n",
       "\t<tr><td>GW16_1_3</td><td>1</td><td>0.3888889</td><td>0.01571348</td></tr>\n",
       "\t<tr><td>GW16_1_4</td><td>1</td><td>0.2879571</td><td>0.03097418</td></tr>\n",
       "\t<tr><td>GW19_1_1</td><td>1</td><td>0.2258065</td><td>        NA</td></tr>\n",
       "\t<tr><td>GW23_1_1</td><td>1</td><td>0.1153632</td><td>0.03832317</td></tr>\n",
       "\t<tr><td>GW23_1_1</td><td>2</td><td>0.9838710</td><td>        NA</td></tr>\n",
       "\t<tr><td>GW23_1_2</td><td>3</td><td>0.6779661</td><td>        NA</td></tr>\n",
       "\t<tr><td>GW23_1_3</td><td>1</td><td>0.1559633</td><td>        NA</td></tr>\n",
       "\t<tr><td>GW23_1_3</td><td>3</td><td>0.6052632</td><td>        NA</td></tr>\n",
       "\t<tr><td>GW26_1_1</td><td>1</td><td>0.2747773</td><td>0.14210979</td></tr>\n",
       "\t<tr><td>GW26_1_1</td><td>2</td><td>0.9399258</td><td>0.05982775</td></tr>\n",
       "\t<tr><td>GW26_1_1</td><td>3</td><td>0.6030035</td><td>0.06609303</td></tr>\n",
       "</tbody>\n",
       "</table>\n"
      ],
      "text/latex": [
       "A grouped\\_df: 11 × 4\n",
       "\\begin{tabular}{llll}\n",
       " sample\\_info & cluster & avg\\_editing\\_level & sd\\_editing\\_level\\\\\n",
       " <chr> & <fct> & <dbl> & <dbl>\\\\\n",
       "\\hline\n",
       "\t GW16\\_1\\_3 & 1 & 0.3888889 & 0.01571348\\\\\n",
       "\t GW16\\_1\\_4 & 1 & 0.2879571 & 0.03097418\\\\\n",
       "\t GW19\\_1\\_1 & 1 & 0.2258065 &         NA\\\\\n",
       "\t GW23\\_1\\_1 & 1 & 0.1153632 & 0.03832317\\\\\n",
       "\t GW23\\_1\\_1 & 2 & 0.9838710 &         NA\\\\\n",
       "\t GW23\\_1\\_2 & 3 & 0.6779661 &         NA\\\\\n",
       "\t GW23\\_1\\_3 & 1 & 0.1559633 &         NA\\\\\n",
       "\t GW23\\_1\\_3 & 3 & 0.6052632 &         NA\\\\\n",
       "\t GW26\\_1\\_1 & 1 & 0.2747773 & 0.14210979\\\\\n",
       "\t GW26\\_1\\_1 & 2 & 0.9399258 & 0.05982775\\\\\n",
       "\t GW26\\_1\\_1 & 3 & 0.6030035 & 0.06609303\\\\\n",
       "\\end{tabular}\n"
      ],
      "text/markdown": [
       "\n",
       "A grouped_df: 11 × 4\n",
       "\n",
       "| sample_info &lt;chr&gt; | cluster &lt;fct&gt; | avg_editing_level &lt;dbl&gt; | sd_editing_level &lt;dbl&gt; |\n",
       "|---|---|---|---|\n",
       "| GW16_1_3 | 1 | 0.3888889 | 0.01571348 |\n",
       "| GW16_1_4 | 1 | 0.2879571 | 0.03097418 |\n",
       "| GW19_1_1 | 1 | 0.2258065 |         NA |\n",
       "| GW23_1_1 | 1 | 0.1153632 | 0.03832317 |\n",
       "| GW23_1_1 | 2 | 0.9838710 |         NA |\n",
       "| GW23_1_2 | 3 | 0.6779661 |         NA |\n",
       "| GW23_1_3 | 1 | 0.1559633 |         NA |\n",
       "| GW23_1_3 | 3 | 0.6052632 |         NA |\n",
       "| GW26_1_1 | 1 | 0.2747773 | 0.14210979 |\n",
       "| GW26_1_1 | 2 | 0.9399258 | 0.05982775 |\n",
       "| GW26_1_1 | 3 | 0.6030035 | 0.06609303 |\n",
       "\n"
      ],
      "text/plain": [
       "   sample_info cluster avg_editing_level sd_editing_level\n",
       "1  GW16_1_3    1       0.3888889         0.01571348      \n",
       "2  GW16_1_4    1       0.2879571         0.03097418      \n",
       "3  GW19_1_1    1       0.2258065                 NA      \n",
       "4  GW23_1_1    1       0.1153632         0.03832317      \n",
       "5  GW23_1_1    2       0.9838710                 NA      \n",
       "6  GW23_1_2    3       0.6779661                 NA      \n",
       "7  GW23_1_3    1       0.1559633                 NA      \n",
       "8  GW23_1_3    3       0.6052632                 NA      \n",
       "9  GW26_1_1    1       0.2747773         0.14210979      \n",
       "10 GW26_1_1    2       0.9399258         0.05982775      \n",
       "11 GW26_1_1    3       0.6030035         0.06609303      "
      ]
     },
     "metadata": {},
     "output_type": "display_data"
    }
   ],
   "source": [
    "data_summary <- edited_sites_wz_cluster %>%\n",
    "  group_by(sample_info, cluster) %>%\n",
    "  summarize(avg_editing_level = mean(editing_level),\n",
    "            sd_editing_level = sd(editing_level)) # 添加标准差计算\n",
    "data_summary$cluster <- as.factor(data_summary$cluster)\n",
    "data_summary"
   ]
  },
  {
   "cell_type": "code",
   "execution_count": 56,
   "metadata": {
    "vscode": {
     "languageId": "r"
    }
   },
   "outputs": [
    {
     "data": {
      "image/png": "[encoded data removed]",
      "text/plain": [
       "plot without title"
      ]
     },
     "metadata": {
      "image/png": {
       "height": 420,
       "width": 420
      }
     },
     "output_type": "display_data"
    }
   ],
   "source": [
    "# 假设df是原始的data_summary数据框\n",
    "\n",
    "# 步骤1: 获取所有独特的sample_info和cluster组合\n",
    "all_combinations <- expand.grid(unique(data_summary$sample_info), unique(data_summary$cluster))\n",
    "colnames(all_combinations) <- c(\"sample_info\", \"cluster\")\n",
    "\n",
    "# 步骤2: 创建一个包含所有组合且初始化编辑水平为0的数据框\n",
    "complete_data <- all_combinations %>%\n",
    "  mutate(avg_editing_level = 0,\n",
    "         sd_editing_level = 0)\n",
    "\n",
    "# 步骤3: 将原始数据与新创建的数据框合并，确保所有组合都有记录\n",
    "# 使用left_join确保所有来自complete_data的行都被保留\n",
    "final_data <- complete_data %>%\n",
    "  left_join(data_summary, by = c(\"sample_info\", \"cluster\"), suffix = c(\"_init\", \"\")) %>%\n",
    "  select(-ends_with(\"_init\")) # 移除初始化时添加的后缀列\n",
    "\n",
    "# 如果有特定的值需要填充而非0，可以在第2步时相应修改\n",
    "final_data[is.na(final_data)] <- 0\n",
    "# 假设final_data已经是包含了所有组合（即使某些原始数据中未出现的组合值为0）的数据框\n",
    "\n",
    "# 确保final_data中包含了误差范围的最小值和最大值列，如果还没有的话需要先计算并添加\n",
    "# 这里简化处理，直接使用之前逻辑但确保使用final_data作为数据源\n",
    "final_data <- final_data %>%\n",
    "  group_by(sample_info, cluster) %>%\n",
    "  mutate(min_val = avg_editing_level - sd_editing_level,\n",
    "         max_val = avg_editing_level + sd_editing_level)\n",
    "final_data <- as.data.frame(final_data)\n",
    "\n",
    "ggplot(data=final_data,aes(x=sample_info,y=avg_editing_level,group=cluster))+\n",
    "  geom_line(aes(color=cluster,lty=cluster))+\n",
    "  geom_point(aes(color=cluster,shape=cluster))+\n",
    "  geom_ribbon(aes(x=sample_info,ymin=min_val,ymax=max_val,fill=cluster,\n",
    "                  color=cluster),alpha=0.5)+\n",
    "  scale_color_manual(values = c(\"1\"=\"#840dd3\",\"2\"=\"#04c49c\",\"3\"=\"#2759bd\"))+\n",
    "  scale_fill_manual(values = c(\"1\"=\"#840dd3\",\"2\"=\"#04c49c\",\"3\"=\"#2759bd\"))+\n",
    "  #colors=c(\"#840dd3\",\"#04c49c\",\"#2759bd\")\n",
    "  theme_bw() +\n",
    "  theme(plot.title = element_text(hjust = 0.5),\n",
    "        legend.title = element_blank(),\n",
    "        axis.text.x = element_text(angle = 45, hjust = 1),\n",
    "        text = element_text(size = 13)) +\n",
    "  xlab('')+\n",
    "  ylab('RNA editing rate')"
   ]
  },
  {
   "cell_type": "code",
   "execution_count": null,
   "metadata": {
    "vscode": {
     "languageId": "r"
    }
   },
   "outputs": [
    {
     "data": {
      "text/html": [
       "<style>\n",
       ".list-inline {list-style: none; margin:0; padding: 0}\n",
       ".list-inline>li {display: inline-block}\n",
       ".list-inline>li:not(:last-child)::after {content: \"\\00b7\"; padding: 0 .5ex}\n",
       "</style>\n",
       "<ol class=list-inline><li>18023</li><li>3</li></ol>\n"
      ],
      "text/latex": [
       "\\begin{enumerate*}\n",
       "\\item 18023\n",
       "\\item 3\n",
       "\\end{enumerate*}\n"
      ],
      "text/markdown": [
       "1. 18023\n",
       "2. 3\n",
       "\n",
       "\n"
      ],
      "text/plain": [
       "[1] 18023     3"
      ]
     },
     "metadata": {},
     "output_type": "display_data"
    }
   ],
   "source": [
    "########先使用和AEI计算一致的样本进行热图展示\n",
    "#构建数据框\n",
    "all_site <- c(sub_res_editing_rate_16_1_4$site,sub_res_editing_rate_19_1_1$site,sub_res_editing_rate_23_1_2$site,sub_res_editing_rate_26_1_1$site)\n",
    "sample_info <- c(rep('GW16_1_4',times=nrow(sub_res_editing_rate_16_1_4)),rep('GW19_1_1',times=nrow(sub_res_editing_rate_19_1_1)),\n",
    "                    rep('GW23_1_2',times=nrow(sub_res_editing_rate_23_1_2)),rep('GW26_1_1',times=nrow(sub_res_editing_rate_26_1_1)))\n",
    "editing_level <- c(sub_res_editing_rate_16_1_4$editing_rate,sub_res_editing_rate_19_1_1$editing_rate,\n",
    "                    sub_res_editing_rate_23_1_2$editing_rate,sub_res_editing_rate_26_1_1$editing_rate)\n",
    "df <- as.data.frame(cbind(all_site,sample_info,editing_level))\n",
    "dim(df)"
   ]
  },
  {
   "cell_type": "code",
   "execution_count": null,
   "metadata": {
    "vscode": {
     "languageId": "r"
    }
   },
   "outputs": [
    {
     "data": {
      "text/html": [
       "<style>\n",
       ".list-inline {list-style: none; margin:0; padding: 0}\n",
       ".list-inline>li {display: inline-block}\n",
       ".list-inline>li:not(:last-child)::after {content: \"\\00b7\"; padding: 0 .5ex}\n",
       "</style>\n",
       "<ol class=list-inline><li>17472</li><li>5</li></ol>\n"
      ],
      "text/latex": [
       "\\begin{enumerate*}\n",
       "\\item 17472\n",
       "\\item 5\n",
       "\\end{enumerate*}\n"
      ],
      "text/markdown": [
       "1. 17472\n",
       "2. 5\n",
       "\n",
       "\n"
      ],
      "text/plain": [
       "[1] 17472     5"
      ]
     },
     "metadata": {},
     "output_type": "display_data"
    }
   ],
   "source": [
    "# 使用pivot_wider函数进行转换\n",
    "wide_df <- pivot_wider(df, names_from = \"sample_info\", values_from = \"editing_level\")\n",
    "dim(wide_df)\n",
    "data <- as.data.frame(wide_df)\n",
    "rownames(data) <- data$all_site\n",
    "data <- data[,-1]\n",
    "head(data)\n",
    "data[is.na(data)] <- 0\n",
    "# 查看转换后的数据框\n",
    "head(data)"
   ]
  },
  {
   "cell_type": "code",
   "execution_count": null,
   "metadata": {
    "vscode": {
     "languageId": "r"
    }
   },
   "outputs": [
    {
     "name": "stderr",
     "output_type": "stream",
     "text": [
      "Warning message in cbind(all_site, sample_info, editing_level):\n",
      "“number of rows of result is not a multiple of vector length (arg 3)”\n"
     ]
    },
    {
     "data": {
      "text/html": [
       "<style>\n",
       ".list-inline {list-style: none; margin:0; padding: 0}\n",
       ".list-inline>li {display: inline-block}\n",
       ".list-inline>li:not(:last-child)::after {content: \"\\00b7\"; padding: 0 .5ex}\n",
       "</style>\n",
       "<ol class=list-inline><li>34440</li><li>3</li></ol>\n"
      ],
      "text/latex": [
       "\\begin{enumerate*}\n",
       "\\item 34440\n",
       "\\item 3\n",
       "\\end{enumerate*}\n"
      ],
      "text/markdown": [
       "1. 34440\n",
       "2. 3\n",
       "\n",
       "\n"
      ],
      "text/plain": [
       "[1] 34440     3"
      ]
     },
     "metadata": {},
     "output_type": "display_data"
    }
   ],
   "source": [
    "###############一下是不对editing level进行过滤的（大部份都是1，不过滤）\n",
    "########先使用和AEI计算一致的样本进行热图展示\n",
    "#构建数据框\n",
    "all_site <- c(res_site_editing_rate_16_1_4$site,res_site_editing_rate_19_1_1$site,res_site_editing_rate_23_1_2$site,res_site_editing_rate_26_1_1$site)\n",
    "sample_info <- c(rep('GW16_1_4',times=nrow(res_site_editing_rate_16_1_4)),rep('GW19_1_1',times=nrow(res_site_editing_rate_19_1_1)),\n",
    "                    rep('GW23_1_2',times=nrow(res_site_editing_rate_23_1_2)),rep('GW26_1_1',times=nrow(res_site_editing_rate_26_1_1)))\n",
    "editing_level <- c(res_site_editing_rate_16_1_4$editing_rate,res_site_editing_rate_19_1_1$editing_rate,\n",
    "                    res_site_editing_rate_23_1_2$editing_rate,res_site_editing_rate_26_1_1$editing_rate)\n",
    "df <- as.data.frame(cbind(all_site,sample_info,editing_level))\n",
    "dim(df)"
   ]
  },
  {
   "cell_type": "code",
   "execution_count": null,
   "metadata": {
    "vscode": {
     "languageId": "r"
    }
   },
   "outputs": [
    {
     "data": {
      "text/html": [
       "<table class=\"dataframe\">\n",
       "<caption>A data.frame: 6 × 3</caption>\n",
       "<thead>\n",
       "\t<tr><th></th><th scope=col>all_site</th><th scope=col>sample_info</th><th scope=col>editing_level</th></tr>\n",
       "\t<tr><th></th><th scope=col>&lt;chr&gt;</th><th scope=col>&lt;chr&gt;</th><th scope=col>&lt;chr&gt;</th></tr>\n",
       "</thead>\n",
       "<tbody>\n",
       "\t<tr><th scope=row>1</th><td>chr1_657327 </td><td>GW16_1_4</td><td>1                </td></tr>\n",
       "\t<tr><th scope=row>2</th><td>chr1_657332 </td><td>GW16_1_4</td><td>0.985074626865672</td></tr>\n",
       "\t<tr><th scope=row>3</th><td>chr1_8667917</td><td>GW16_1_4</td><td>1                </td></tr>\n",
       "\t<tr><th scope=row>4</th><td>chr1_8667922</td><td>GW16_1_4</td><td>1                </td></tr>\n",
       "\t<tr><th scope=row>5</th><td>chr1_8667923</td><td>GW16_1_4</td><td>1                </td></tr>\n",
       "\t<tr><th scope=row>6</th><td>chr1_8667986</td><td>GW16_1_4</td><td>1                </td></tr>\n",
       "</tbody>\n",
       "</table>\n"
      ],
      "text/latex": [
       "A data.frame: 6 × 3\n",
       "\\begin{tabular}{r|lll}\n",
       "  & all\\_site & sample\\_info & editing\\_level\\\\\n",
       "  & <chr> & <chr> & <chr>\\\\\n",
       "\\hline\n",
       "\t1 & chr1\\_657327  & GW16\\_1\\_4 & 1                \\\\\n",
       "\t2 & chr1\\_657332  & GW16\\_1\\_4 & 0.985074626865672\\\\\n",
       "\t3 & chr1\\_8667917 & GW16\\_1\\_4 & 1                \\\\\n",
       "\t4 & chr1\\_8667922 & GW16\\_1\\_4 & 1                \\\\\n",
       "\t5 & chr1\\_8667923 & GW16\\_1\\_4 & 1                \\\\\n",
       "\t6 & chr1\\_8667986 & GW16\\_1\\_4 & 1                \\\\\n",
       "\\end{tabular}\n"
      ],
      "text/markdown": [
       "\n",
       "A data.frame: 6 × 3\n",
       "\n",
       "| <!--/--> | all_site &lt;chr&gt; | sample_info &lt;chr&gt; | editing_level &lt;chr&gt; |\n",
       "|---|---|---|---|\n",
       "| 1 | chr1_657327  | GW16_1_4 | 1                 |\n",
       "| 2 | chr1_657332  | GW16_1_4 | 0.985074626865672 |\n",
       "| 3 | chr1_8667917 | GW16_1_4 | 1                 |\n",
       "| 4 | chr1_8667922 | GW16_1_4 | 1                 |\n",
       "| 5 | chr1_8667923 | GW16_1_4 | 1                 |\n",
       "| 6 | chr1_8667986 | GW16_1_4 | 1                 |\n",
       "\n"
      ],
      "text/plain": [
       "  all_site     sample_info editing_level    \n",
       "1 chr1_657327  GW16_1_4    1                \n",
       "2 chr1_657332  GW16_1_4    0.985074626865672\n",
       "3 chr1_8667917 GW16_1_4    1                \n",
       "4 chr1_8667922 GW16_1_4    1                \n",
       "5 chr1_8667923 GW16_1_4    1                \n",
       "6 chr1_8667986 GW16_1_4    1                "
      ]
     },
     "metadata": {},
     "output_type": "display_data"
    }
   ],
   "source": [
    "head(df)"
   ]
  },
  {
   "cell_type": "code",
   "execution_count": null,
   "metadata": {
    "vscode": {
     "languageId": "r"
    }
   },
   "outputs": [
    {
     "data": {
      "text/html": [
       "<table class=\"dataframe\">\n",
       "<caption>A tibble: 6 × 5</caption>\n",
       "<thead>\n",
       "\t<tr><th scope=col>all_site</th><th scope=col>GW16_1_4</th><th scope=col>GW19_1_1</th><th scope=col>GW23_1_2</th><th scope=col>GW26_1_1</th></tr>\n",
       "\t<tr><th scope=col>&lt;chr&gt;</th><th scope=col>&lt;chr&gt;</th><th scope=col>&lt;chr&gt;</th><th scope=col>&lt;chr&gt;</th><th scope=col>&lt;chr&gt;</th></tr>\n",
       "</thead>\n",
       "<tbody>\n",
       "\t<tr><td>chr1_657327 </td><td>1                </td><td>NA</td><td>NA</td><td>0.890928725701944</td></tr>\n",
       "\t<tr><td>chr1_657332 </td><td>0.985074626865672</td><td>NA</td><td>NA</td><td>0.897713598074609</td></tr>\n",
       "\t<tr><td>chr1_8667917</td><td>1                </td><td>NA</td><td>NA</td><td>NA               </td></tr>\n",
       "\t<tr><td>chr1_8667922</td><td>1                </td><td>NA</td><td>NA</td><td>NA               </td></tr>\n",
       "\t<tr><td>chr1_8667923</td><td>1                </td><td>NA</td><td>NA</td><td>NA               </td></tr>\n",
       "\t<tr><td>chr1_8667986</td><td>1                </td><td>NA</td><td>NA</td><td>NA               </td></tr>\n",
       "</tbody>\n",
       "</table>\n"
      ],
      "text/latex": [
       "A tibble: 6 × 5\n",
       "\\begin{tabular}{lllll}\n",
       " all\\_site & GW16\\_1\\_4 & GW19\\_1\\_1 & GW23\\_1\\_2 & GW26\\_1\\_1\\\\\n",
       " <chr> & <chr> & <chr> & <chr> & <chr>\\\\\n",
       "\\hline\n",
       "\t chr1\\_657327  & 1                 & NA & NA & 0.890928725701944\\\\\n",
       "\t chr1\\_657332  & 0.985074626865672 & NA & NA & 0.897713598074609\\\\\n",
       "\t chr1\\_8667917 & 1                 & NA & NA & NA               \\\\\n",
       "\t chr1\\_8667922 & 1                 & NA & NA & NA               \\\\\n",
       "\t chr1\\_8667923 & 1                 & NA & NA & NA               \\\\\n",
       "\t chr1\\_8667986 & 1                 & NA & NA & NA               \\\\\n",
       "\\end{tabular}\n"
      ],
      "text/markdown": [
       "\n",
       "A tibble: 6 × 5\n",
       "\n",
       "| all_site &lt;chr&gt; | GW16_1_4 &lt;chr&gt; | GW19_1_1 &lt;chr&gt; | GW23_1_2 &lt;chr&gt; | GW26_1_1 &lt;chr&gt; |\n",
       "|---|---|---|---|---|\n",
       "| chr1_657327  | 1                 | NA | NA | 0.890928725701944 |\n",
       "| chr1_657332  | 0.985074626865672 | NA | NA | 0.897713598074609 |\n",
       "| chr1_8667917 | 1                 | NA | NA | NA                |\n",
       "| chr1_8667922 | 1                 | NA | NA | NA                |\n",
       "| chr1_8667923 | 1                 | NA | NA | NA                |\n",
       "| chr1_8667986 | 1                 | NA | NA | NA                |\n",
       "\n"
      ],
      "text/plain": [
       "  all_site     GW16_1_4          GW19_1_1 GW23_1_2 GW26_1_1         \n",
       "1 chr1_657327  1                 NA       NA       0.890928725701944\n",
       "2 chr1_657332  0.985074626865672 NA       NA       0.897713598074609\n",
       "3 chr1_8667917 1                 NA       NA       NA               \n",
       "4 chr1_8667922 1                 NA       NA       NA               \n",
       "5 chr1_8667923 1                 NA       NA       NA               \n",
       "6 chr1_8667986 1                 NA       NA       NA               "
      ]
     },
     "metadata": {},
     "output_type": "display_data"
    }
   ],
   "source": [
    "# 使用pivot_wider函数进行转换\n",
    "wide_df <- pivot_wider(df, names_from = \"sample_info\", values_from = \"editing_level\")\n",
    "head(wide_df)"
   ]
  },
  {
   "cell_type": "code",
   "execution_count": null,
   "metadata": {
    "vscode": {
     "languageId": "r"
    }
   },
   "outputs": [
    {
     "data": {
      "text/html": [
       "<table class=\"dataframe\">\n",
       "<caption>A tibble: 133776 × 3</caption>\n",
       "<thead>\n",
       "\t<tr><th scope=col>site</th><th scope=col>Sample</th><th scope=col>Value</th></tr>\n",
       "\t<tr><th scope=col>&lt;chr&gt;</th><th scope=col>&lt;chr&gt;</th><th scope=col>&lt;chr&gt;</th></tr>\n",
       "</thead>\n",
       "<tbody>\n",
       "\t<tr><td>chr1_657327 </td><td>GW16_1_4</td><td>1                </td></tr>\n",
       "\t<tr><td>chr1_657327 </td><td>GW19_1_1</td><td>0                </td></tr>\n",
       "\t<tr><td>chr1_657327 </td><td>GW23_1_2</td><td>0                </td></tr>\n",
       "\t<tr><td>chr1_657327 </td><td>GW26_1_1</td><td>0.890928725701944</td></tr>\n",
       "\t<tr><td>chr1_657332 </td><td>GW16_1_4</td><td>0.985074626865672</td></tr>\n",
       "\t<tr><td>chr1_657332 </td><td>GW19_1_1</td><td>0                </td></tr>\n",
       "\t<tr><td>chr1_657332 </td><td>GW23_1_2</td><td>0                </td></tr>\n",
       "\t<tr><td>chr1_657332 </td><td>GW26_1_1</td><td>0.897713598074609</td></tr>\n",
       "\t<tr><td>chr1_8667917</td><td>GW16_1_4</td><td>1                </td></tr>\n",
       "\t<tr><td>chr1_8667917</td><td>GW19_1_1</td><td>0                </td></tr>\n",
       "\t<tr><td>chr1_8667917</td><td>GW23_1_2</td><td>0                </td></tr>\n",
       "\t<tr><td>chr1_8667917</td><td>GW26_1_1</td><td>0                </td></tr>\n",
       "\t<tr><td>chr1_8667922</td><td>GW16_1_4</td><td>1                </td></tr>\n",
       "\t<tr><td>chr1_8667922</td><td>GW19_1_1</td><td>0                </td></tr>\n",
       "\t<tr><td>chr1_8667922</td><td>GW23_1_2</td><td>0                </td></tr>\n",
       "\t<tr><td>chr1_8667922</td><td>GW26_1_1</td><td>0                </td></tr>\n",
       "\t<tr><td>chr1_8667923</td><td>GW16_1_4</td><td>1                </td></tr>\n",
       "\t<tr><td>chr1_8667923</td><td>GW19_1_1</td><td>0                </td></tr>\n",
       "\t<tr><td>chr1_8667923</td><td>GW23_1_2</td><td>0                </td></tr>\n",
       "\t<tr><td>chr1_8667923</td><td>GW26_1_1</td><td>0                </td></tr>\n",
       "\t<tr><td>chr1_8667986</td><td>GW16_1_4</td><td>1                </td></tr>\n",
       "\t<tr><td>chr1_8667986</td><td>GW19_1_1</td><td>0                </td></tr>\n",
       "\t<tr><td>chr1_8667986</td><td>GW23_1_2</td><td>0                </td></tr>\n",
       "\t<tr><td>chr1_8667986</td><td>GW26_1_1</td><td>0                </td></tr>\n",
       "\t<tr><td>chr1_8668058</td><td>GW16_1_4</td><td>1                </td></tr>\n",
       "\t<tr><td>chr1_8668058</td><td>GW19_1_1</td><td>0                </td></tr>\n",
       "\t<tr><td>chr1_8668058</td><td>GW23_1_2</td><td>0                </td></tr>\n",
       "\t<tr><td>chr1_8668058</td><td>GW26_1_1</td><td>0                </td></tr>\n",
       "\t<tr><td>chr1_8668060</td><td>GW16_1_4</td><td>1                </td></tr>\n",
       "\t<tr><td>chr1_8668060</td><td>GW19_1_1</td><td>0                </td></tr>\n",
       "\t<tr><td>⋮</td><td>⋮</td><td>⋮</td></tr>\n",
       "\t<tr><td>chrY_2221789 </td><td>GW23_1_2</td><td>0</td></tr>\n",
       "\t<tr><td>chrY_2221789 </td><td>GW26_1_1</td><td>1</td></tr>\n",
       "\t<tr><td>chrY_2221794 </td><td>GW16_1_4</td><td>0</td></tr>\n",
       "\t<tr><td>chrY_2221794 </td><td>GW19_1_1</td><td>0</td></tr>\n",
       "\t<tr><td>chrY_2221794 </td><td>GW23_1_2</td><td>0</td></tr>\n",
       "\t<tr><td>chrY_2221794 </td><td>GW26_1_1</td><td>1</td></tr>\n",
       "\t<tr><td>chrY_2221853 </td><td>GW16_1_4</td><td>0</td></tr>\n",
       "\t<tr><td>chrY_2221853 </td><td>GW19_1_1</td><td>0</td></tr>\n",
       "\t<tr><td>chrY_2221853 </td><td>GW23_1_2</td><td>0</td></tr>\n",
       "\t<tr><td>chrY_2221853 </td><td>GW26_1_1</td><td>1</td></tr>\n",
       "\t<tr><td>chrY_2276344 </td><td>GW16_1_4</td><td>0</td></tr>\n",
       "\t<tr><td>chrY_2276344 </td><td>GW19_1_1</td><td>0</td></tr>\n",
       "\t<tr><td>chrY_2276344 </td><td>GW23_1_2</td><td>0</td></tr>\n",
       "\t<tr><td>chrY_2276344 </td><td>GW26_1_1</td><td>1</td></tr>\n",
       "\t<tr><td>chrY_2276349 </td><td>GW16_1_4</td><td>0</td></tr>\n",
       "\t<tr><td>chrY_2276349 </td><td>GW19_1_1</td><td>0</td></tr>\n",
       "\t<tr><td>chrY_2276349 </td><td>GW23_1_2</td><td>0</td></tr>\n",
       "\t<tr><td>chrY_2276349 </td><td>GW26_1_1</td><td>1</td></tr>\n",
       "\t<tr><td>chrY_21153275</td><td>GW16_1_4</td><td>0</td></tr>\n",
       "\t<tr><td>chrY_21153275</td><td>GW19_1_1</td><td>0</td></tr>\n",
       "\t<tr><td>chrY_21153275</td><td>GW23_1_2</td><td>0</td></tr>\n",
       "\t<tr><td>chrY_21153275</td><td>GW26_1_1</td><td>1</td></tr>\n",
       "\t<tr><td>chrY_21153459</td><td>GW16_1_4</td><td>0</td></tr>\n",
       "\t<tr><td>chrY_21153459</td><td>GW19_1_1</td><td>0</td></tr>\n",
       "\t<tr><td>chrY_21153459</td><td>GW23_1_2</td><td>0</td></tr>\n",
       "\t<tr><td>chrY_21153459</td><td>GW26_1_1</td><td>1</td></tr>\n",
       "\t<tr><td>chrY_21153474</td><td>GW16_1_4</td><td>0</td></tr>\n",
       "\t<tr><td>chrY_21153474</td><td>GW19_1_1</td><td>0</td></tr>\n",
       "\t<tr><td>chrY_21153474</td><td>GW23_1_2</td><td>0</td></tr>\n",
       "\t<tr><td>chrY_21153474</td><td>GW26_1_1</td><td>1</td></tr>\n",
       "</tbody>\n",
       "</table>\n"
      ],
      "text/latex": [
       "A tibble: 133776 × 3\n",
       "\\begin{tabular}{lll}\n",
       " site & Sample & Value\\\\\n",
       " <chr> & <chr> & <chr>\\\\\n",
       "\\hline\n",
       "\t chr1\\_657327  & GW16\\_1\\_4 & 1                \\\\\n",
       "\t chr1\\_657327  & GW19\\_1\\_1 & 0                \\\\\n",
       "\t chr1\\_657327  & GW23\\_1\\_2 & 0                \\\\\n",
       "\t chr1\\_657327  & GW26\\_1\\_1 & 0.890928725701944\\\\\n",
       "\t chr1\\_657332  & GW16\\_1\\_4 & 0.985074626865672\\\\\n",
       "\t chr1\\_657332  & GW19\\_1\\_1 & 0                \\\\\n",
       "\t chr1\\_657332  & GW23\\_1\\_2 & 0                \\\\\n",
       "\t chr1\\_657332  & GW26\\_1\\_1 & 0.897713598074609\\\\\n",
       "\t chr1\\_8667917 & GW16\\_1\\_4 & 1                \\\\\n",
       "\t chr1\\_8667917 & GW19\\_1\\_1 & 0                \\\\\n",
       "\t chr1\\_8667917 & GW23\\_1\\_2 & 0                \\\\\n",
       "\t chr1\\_8667917 & GW26\\_1\\_1 & 0                \\\\\n",
       "\t chr1\\_8667922 & GW16\\_1\\_4 & 1                \\\\\n",
       "\t chr1\\_8667922 & GW19\\_1\\_1 & 0                \\\\\n",
       "\t chr1\\_8667922 & GW23\\_1\\_2 & 0                \\\\\n",
       "\t chr1\\_8667922 & GW26\\_1\\_1 & 0                \\\\\n",
       "\t chr1\\_8667923 & GW16\\_1\\_4 & 1                \\\\\n",
       "\t chr1\\_8667923 & GW19\\_1\\_1 & 0                \\\\\n",
       "\t chr1\\_8667923 & GW23\\_1\\_2 & 0                \\\\\n",
       "\t chr1\\_8667923 & GW26\\_1\\_1 & 0                \\\\\n",
       "\t chr1\\_8667986 & GW16\\_1\\_4 & 1                \\\\\n",
       "\t chr1\\_8667986 & GW19\\_1\\_1 & 0                \\\\\n",
       "\t chr1\\_8667986 & GW23\\_1\\_2 & 0                \\\\\n",
       "\t chr1\\_8667986 & GW26\\_1\\_1 & 0                \\\\\n",
       "\t chr1\\_8668058 & GW16\\_1\\_4 & 1                \\\\\n",
       "\t chr1\\_8668058 & GW19\\_1\\_1 & 0                \\\\\n",
       "\t chr1\\_8668058 & GW23\\_1\\_2 & 0                \\\\\n",
       "\t chr1\\_8668058 & GW26\\_1\\_1 & 0                \\\\\n",
       "\t chr1\\_8668060 & GW16\\_1\\_4 & 1                \\\\\n",
       "\t chr1\\_8668060 & GW19\\_1\\_1 & 0                \\\\\n",
       "\t ⋮ & ⋮ & ⋮\\\\\n",
       "\t chrY\\_2221789  & GW23\\_1\\_2 & 0\\\\\n",
       "\t chrY\\_2221789  & GW26\\_1\\_1 & 1\\\\\n",
       "\t chrY\\_2221794  & GW16\\_1\\_4 & 0\\\\\n",
       "\t chrY\\_2221794  & GW19\\_1\\_1 & 0\\\\\n",
       "\t chrY\\_2221794  & GW23\\_1\\_2 & 0\\\\\n",
       "\t chrY\\_2221794  & GW26\\_1\\_1 & 1\\\\\n",
       "\t chrY\\_2221853  & GW16\\_1\\_4 & 0\\\\\n",
       "\t chrY\\_2221853  & GW19\\_1\\_1 & 0\\\\\n",
       "\t chrY\\_2221853  & GW23\\_1\\_2 & 0\\\\\n",
       "\t chrY\\_2221853  & GW26\\_1\\_1 & 1\\\\\n",
       "\t chrY\\_2276344  & GW16\\_1\\_4 & 0\\\\\n",
       "\t chrY\\_2276344  & GW19\\_1\\_1 & 0\\\\\n",
       "\t chrY\\_2276344  & GW23\\_1\\_2 & 0\\\\\n",
       "\t chrY\\_2276344  & GW26\\_1\\_1 & 1\\\\\n",
       "\t chrY\\_2276349  & GW16\\_1\\_4 & 0\\\\\n",
       "\t chrY\\_2276349  & GW19\\_1\\_1 & 0\\\\\n",
       "\t chrY\\_2276349  & GW23\\_1\\_2 & 0\\\\\n",
       "\t chrY\\_2276349  & GW26\\_1\\_1 & 1\\\\\n",
       "\t chrY\\_21153275 & GW16\\_1\\_4 & 0\\\\\n",
       "\t chrY\\_21153275 & GW19\\_1\\_1 & 0\\\\\n",
       "\t chrY\\_21153275 & GW23\\_1\\_2 & 0\\\\\n",
       "\t chrY\\_21153275 & GW26\\_1\\_1 & 1\\\\\n",
       "\t chrY\\_21153459 & GW16\\_1\\_4 & 0\\\\\n",
       "\t chrY\\_21153459 & GW19\\_1\\_1 & 0\\\\\n",
       "\t chrY\\_21153459 & GW23\\_1\\_2 & 0\\\\\n",
       "\t chrY\\_21153459 & GW26\\_1\\_1 & 1\\\\\n",
       "\t chrY\\_21153474 & GW16\\_1\\_4 & 0\\\\\n",
       "\t chrY\\_21153474 & GW19\\_1\\_1 & 0\\\\\n",
       "\t chrY\\_21153474 & GW23\\_1\\_2 & 0\\\\\n",
       "\t chrY\\_21153474 & GW26\\_1\\_1 & 1\\\\\n",
       "\\end{tabular}\n"
      ],
      "text/markdown": [
       "\n",
       "A tibble: 133776 × 3\n",
       "\n",
       "| site &lt;chr&gt; | Sample &lt;chr&gt; | Value &lt;chr&gt; |\n",
       "|---|---|---|\n",
       "| chr1_657327  | GW16_1_4 | 1                 |\n",
       "| chr1_657327  | GW19_1_1 | 0                 |\n",
       "| chr1_657327  | GW23_1_2 | 0                 |\n",
       "| chr1_657327  | GW26_1_1 | 0.890928725701944 |\n",
       "| chr1_657332  | GW16_1_4 | 0.985074626865672 |\n",
       "| chr1_657332  | GW19_1_1 | 0                 |\n",
       "| chr1_657332  | GW23_1_2 | 0                 |\n",
       "| chr1_657332  | GW26_1_1 | 0.897713598074609 |\n",
       "| chr1_8667917 | GW16_1_4 | 1                 |\n",
       "| chr1_8667917 | GW19_1_1 | 0                 |\n",
       "| chr1_8667917 | GW23_1_2 | 0                 |\n",
       "| chr1_8667917 | GW26_1_1 | 0                 |\n",
       "| chr1_8667922 | GW16_1_4 | 1                 |\n",
       "| chr1_8667922 | GW19_1_1 | 0                 |\n",
       "| chr1_8667922 | GW23_1_2 | 0                 |\n",
       "| chr1_8667922 | GW26_1_1 | 0                 |\n",
       "| chr1_8667923 | GW16_1_4 | 1                 |\n",
       "| chr1_8667923 | GW19_1_1 | 0                 |\n",
       "| chr1_8667923 | GW23_1_2 | 0                 |\n",
       "| chr1_8667923 | GW26_1_1 | 0                 |\n",
       "| chr1_8667986 | GW16_1_4 | 1                 |\n",
       "| chr1_8667986 | GW19_1_1 | 0                 |\n",
       "| chr1_8667986 | GW23_1_2 | 0                 |\n",
       "| chr1_8667986 | GW26_1_1 | 0                 |\n",
       "| chr1_8668058 | GW16_1_4 | 1                 |\n",
       "| chr1_8668058 | GW19_1_1 | 0                 |\n",
       "| chr1_8668058 | GW23_1_2 | 0                 |\n",
       "| chr1_8668058 | GW26_1_1 | 0                 |\n",
       "| chr1_8668060 | GW16_1_4 | 1                 |\n",
       "| chr1_8668060 | GW19_1_1 | 0                 |\n",
       "| ⋮ | ⋮ | ⋮ |\n",
       "| chrY_2221789  | GW23_1_2 | 0 |\n",
       "| chrY_2221789  | GW26_1_1 | 1 |\n",
       "| chrY_2221794  | GW16_1_4 | 0 |\n",
       "| chrY_2221794  | GW19_1_1 | 0 |\n",
       "| chrY_2221794  | GW23_1_2 | 0 |\n",
       "| chrY_2221794  | GW26_1_1 | 1 |\n",
       "| chrY_2221853  | GW16_1_4 | 0 |\n",
       "| chrY_2221853  | GW19_1_1 | 0 |\n",
       "| chrY_2221853  | GW23_1_2 | 0 |\n",
       "| chrY_2221853  | GW26_1_1 | 1 |\n",
       "| chrY_2276344  | GW16_1_4 | 0 |\n",
       "| chrY_2276344  | GW19_1_1 | 0 |\n",
       "| chrY_2276344  | GW23_1_2 | 0 |\n",
       "| chrY_2276344  | GW26_1_1 | 1 |\n",
       "| chrY_2276349  | GW16_1_4 | 0 |\n",
       "| chrY_2276349  | GW19_1_1 | 0 |\n",
       "| chrY_2276349  | GW23_1_2 | 0 |\n",
       "| chrY_2276349  | GW26_1_1 | 1 |\n",
       "| chrY_21153275 | GW16_1_4 | 0 |\n",
       "| chrY_21153275 | GW19_1_1 | 0 |\n",
       "| chrY_21153275 | GW23_1_2 | 0 |\n",
       "| chrY_21153275 | GW26_1_1 | 1 |\n",
       "| chrY_21153459 | GW16_1_4 | 0 |\n",
       "| chrY_21153459 | GW19_1_1 | 0 |\n",
       "| chrY_21153459 | GW23_1_2 | 0 |\n",
       "| chrY_21153459 | GW26_1_1 | 1 |\n",
       "| chrY_21153474 | GW16_1_4 | 0 |\n",
       "| chrY_21153474 | GW19_1_1 | 0 |\n",
       "| chrY_21153474 | GW23_1_2 | 0 |\n",
       "| chrY_21153474 | GW26_1_1 | 1 |\n",
       "\n"
      ],
      "text/plain": [
       "       site          Sample   Value            \n",
       "1      chr1_657327   GW16_1_4 1                \n",
       "2      chr1_657327   GW19_1_1 0                \n",
       "3      chr1_657327   GW23_1_2 0                \n",
       "4      chr1_657327   GW26_1_1 0.890928725701944\n",
       "5      chr1_657332   GW16_1_4 0.985074626865672\n",
       "6      chr1_657332   GW19_1_1 0                \n",
       "7      chr1_657332   GW23_1_2 0                \n",
       "8      chr1_657332   GW26_1_1 0.897713598074609\n",
       "9      chr1_8667917  GW16_1_4 1                \n",
       "10     chr1_8667917  GW19_1_1 0                \n",
       "11     chr1_8667917  GW23_1_2 0                \n",
       "12     chr1_8667917  GW26_1_1 0                \n",
       "13     chr1_8667922  GW16_1_4 1                \n",
       "14     chr1_8667922  GW19_1_1 0                \n",
       "15     chr1_8667922  GW23_1_2 0                \n",
       "16     chr1_8667922  GW26_1_1 0                \n",
       "17     chr1_8667923  GW16_1_4 1                \n",
       "18     chr1_8667923  GW19_1_1 0                \n",
       "19     chr1_8667923  GW23_1_2 0                \n",
       "20     chr1_8667923  GW26_1_1 0                \n",
       "21     chr1_8667986  GW16_1_4 1                \n",
       "22     chr1_8667986  GW19_1_1 0                \n",
       "23     chr1_8667986  GW23_1_2 0                \n",
       "24     chr1_8667986  GW26_1_1 0                \n",
       "25     chr1_8668058  GW16_1_4 1                \n",
       "26     chr1_8668058  GW19_1_1 0                \n",
       "27     chr1_8668058  GW23_1_2 0                \n",
       "28     chr1_8668058  GW26_1_1 0                \n",
       "29     chr1_8668060  GW16_1_4 1                \n",
       "30     chr1_8668060  GW19_1_1 0                \n",
       "⋮      ⋮             ⋮        ⋮                \n",
       "133747 chrY_2221789  GW23_1_2 0                \n",
       "133748 chrY_2221789  GW26_1_1 1                \n",
       "133749 chrY_2221794  GW16_1_4 0                \n",
       "133750 chrY_2221794  GW19_1_1 0                \n",
       "133751 chrY_2221794  GW23_1_2 0                \n",
       "133752 chrY_2221794  GW26_1_1 1                \n",
       "133753 chrY_2221853  GW16_1_4 0                \n",
       "133754 chrY_2221853  GW19_1_1 0                \n",
       "133755 chrY_2221853  GW23_1_2 0                \n",
       "133756 chrY_2221853  GW26_1_1 1                \n",
       "133757 chrY_2276344  GW16_1_4 0                \n",
       "133758 chrY_2276344  GW19_1_1 0                \n",
       "133759 chrY_2276344  GW23_1_2 0                \n",
       "133760 chrY_2276344  GW26_1_1 1                \n",
       "133761 chrY_2276349  GW16_1_4 0                \n",
       "133762 chrY_2276349  GW19_1_1 0                \n",
       "133763 chrY_2276349  GW23_1_2 0                \n",
       "133764 chrY_2276349  GW26_1_1 1                \n",
       "133765 chrY_21153275 GW16_1_4 0                \n",
       "133766 chrY_21153275 GW19_1_1 0                \n",
       "133767 chrY_21153275 GW23_1_2 0                \n",
       "133768 chrY_21153275 GW26_1_1 1                \n",
       "133769 chrY_21153459 GW16_1_4 0                \n",
       "133770 chrY_21153459 GW19_1_1 0                \n",
       "133771 chrY_21153459 GW23_1_2 0                \n",
       "133772 chrY_21153459 GW26_1_1 1                \n",
       "133773 chrY_21153474 GW16_1_4 0                \n",
       "133774 chrY_21153474 GW19_1_1 0                \n",
       "133775 chrY_21153474 GW23_1_2 0                \n",
       "133776 chrY_21153474 GW26_1_1 1                "
      ]
     },
     "metadata": {},
     "output_type": "display_data"
    }
   ],
   "source": [
    "df_long = data %>%\n",
    "  rownames_to_column(\"site\") %>%\n",
    "  pivot_longer(-1,names_to = \"Sample\",values_to = \"Value\")\n"
   ]
  }
 ],
 "metadata": {
  "kernelspec": {
   "display_name": "R",
   "language": "R",
   "name": "ir"
  },
  "language_info": {
   "codemirror_mode": "r",
   "file_extension": ".r",
   "mimetype": "text/x-r-source",
   "name": "R",
   "pygments_lexer": "r",
   "version": "4.3.1"
  },
  "orig_nbformat": 4,
  "vscode": {
   "interpreter": {
    "hash": "4587f8d71e481bac2dbb4139bf1f5d6af8d88103a069ab0b4e862134521318f6"
   }
  }
 },
 "nbformat": 4,
 "nbformat_minor": 2
}
