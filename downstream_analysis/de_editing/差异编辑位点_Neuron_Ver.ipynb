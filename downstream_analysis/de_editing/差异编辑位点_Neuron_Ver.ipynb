{
 "cells": [
  {
   "cell_type": "code",
   "execution_count": 1,
   "metadata": {
    "vscode": {
     "languageId": "r"
    }
   },
   "outputs": [],
   "source": [
    ".libPaths('/disk1/wenqing/anaconda3/envs/wq_R4.2/lib/R/library')"
   ]
  },
  {
   "cell_type": "code",
   "execution_count": null,
   "metadata": {
    "vscode": {
     "languageId": "r"
    }
   },
   "outputs": [],
   "source": [
    "# 确保载入所需的库\n",
    "library(tidyr)\n",
    "library(dplyr)\n",
    "library(ggplot2)\n",
    "library(tidyverse)\n",
    "library(pheatmap)\n",
    "#library(ggtree)  #聚类\n",
    "#library(aplot) "
   ]
  },
  {
   "cell_type": "code",
   "execution_count": null,
   "metadata": {
    "vscode": {
     "languageId": "r"
    }
   },
   "outputs": [],
   "source": [
    "###########在每种细胞类型中，鉴定差异编辑位点\n",
    "#step1：计算每个样本的编辑水平\n",
    "celltype <- 'Neurons'\n",
    "regular_res_depth_08 <- read.table(paste0(\"/disk1/wenqing/tmp_data/PFC_s2/filter_snv_for_new_res/GW08/\",celltype,\"/regular.res.depth.orig\"))\n",
    "res_site_editing_rate_08 <- as.data.frame(cbind(paste0(regular_res_depth_08[,1],'_',regular_res_depth_08[,3]),\n",
    "                                regular_res_depth_08[,7]/regular_res_depth_08[,8]))\n",
    "colnames(res_site_editing_rate_08) <- c('site','editing_rate')\n",
    "\n",
    "regular_res_depth_12 <- read.table(paste0(\"/disk1/wenqing/tmp_data/PFC_s2/filter_snv_for_new_res/GW12/\",celltype,\"/regular.res.depth.orig\"))\n",
    "res_site_editing_rate_12 <- as.data.frame(cbind(paste0(regular_res_depth_12[,1],'_',regular_res_depth_12[,3]),\n",
    "                                regular_res_depth_12[,7]/regular_res_depth_12[,8]))\n",
    "colnames(res_site_editing_rate_12) <- c('site','editing_rate')\n",
    "head(res_site_editing_rate_12)\n",
    "regular_res_depth_16_1_3 <- read.table(paste0(\"/disk1/wenqing/tmp_data/PFC_s2/filter_snv_for_new_res/GW16_1_3/\",celltype,\"/regular.res.depth.orig\"))\n",
    "res_site_editing_rate_16_1_3 <- as.data.frame(cbind(paste0(regular_res_depth_16_1_3[,1],'_',regular_res_depth_16_1_3[,3]),\n",
    "                                regular_res_depth_16_1_3[,7]/regular_res_depth_16_1_3[,8]))\n",
    "colnames(res_site_editing_rate_16_1_3) <- c('site','editing_rate')\n",
    "head(res_site_editing_rate_16_1_3)\n",
    "regular_res_depth_16_1_4 <- read.table(paste0(\"/disk1/wenqing/tmp_data/PFC_s2/filter_snv_for_new_res/GW16_1_4/\",celltype,\"/regular.res.depth.orig\"))\n",
    "res_site_editing_rate_16_1_4 <- as.data.frame(cbind(paste0(regular_res_depth_16_1_4[,1],'_',regular_res_depth_16_1_4[,3]),\n",
    "                                regular_res_depth_16_1_4[,7]/regular_res_depth_16_1_4[,8]))\n",
    "colnames(res_site_editing_rate_16_1_4) <- c('site','editing_rate')\n",
    "head(res_site_editing_rate_16_1_4)\n",
    "regular_res_depth_16_1_9 <- read.table(paste0(\"/disk1/wenqing/tmp_data/PFC_s2/filter_snv_for_new_res/GW16_1_9/\",celltype,\"/regular.res.depth.orig\"))\n",
    "res_site_editing_rate_16_1_9 <- as.data.frame(cbind(paste0(regular_res_depth_16_1_9[,1],'_',regular_res_depth_16_1_9[,3]),\n",
    "                                regular_res_depth_16_1_9[,7]/regular_res_depth_16_1_9[,8]))\n",
    "colnames(res_site_editing_rate_16_1_9) <- c('site','editing_rate')\n",
    "head(res_site_editing_rate_16_1_9)\n",
    "regular_res_depth_19_1_1 <- read.table(paste0(\"/disk1/wenqing/tmp_data/PFC_s2/filter_snv_for_new_res/GW19_1_1/\",celltype,\"/regular.res.depth.orig\"))\n",
    "res_site_editing_rate_19_1_1 <- as.data.frame(cbind(paste0(regular_res_depth_19_1_1[,1],'_',regular_res_depth_19_1_1[,3]),\n",
    "                                regular_res_depth_19_1_1[,7]/regular_res_depth_19_1_1[,8]))\n",
    "colnames(res_site_editing_rate_19_1_1) <- c('site','editing_rate')\n",
    "head(res_site_editing_rate_19_1_1)\n",
    "regular_res_depth_19_1_2 <- read.table(paste0(\"/disk1/wenqing/tmp_data/PFC_s2/filter_snv_for_new_res/GW19_1_2/\",celltype,\"/regular.res.depth.orig\"))\n",
    "res_site_editing_rate_19_1_2 <- as.data.frame(cbind(paste0(regular_res_depth_19_1_2[,1],'_',regular_res_depth_19_1_2[,3]),\n",
    "                                regular_res_depth_19_1_2[,7]/regular_res_depth_19_1_2[,8]))\n",
    "colnames(res_site_editing_rate_19_1_2) <- c('site','editing_rate')\n",
    "head(res_site_editing_rate_19_1_2)\n",
    "regular_res_depth_19_1_3 <- read.table(paste0(\"/disk1/wenqing/tmp_data/PFC_s2/filter_snv_for_new_res/GW19_1_3/\",celltype,\"/regular.res.depth.orig\"))\n",
    "res_site_editing_rate_19_1_3 <- as.data.frame(cbind(paste0(regular_res_depth_19_1_3[,1],'_',regular_res_depth_19_1_3[,3]),\n",
    "                                regular_res_depth_19_1_3[,7]/regular_res_depth_19_1_3[,8]))\n",
    "colnames(res_site_editing_rate_19_1_3) <- c('site','editing_rate')\n",
    "head(res_site_editing_rate_19_1_3)\n",
    "regular_res_depth_23_1_1 <- read.table(paste0(\"/disk1/wenqing/tmp_data/PFC_s2/filter_snv_for_new_res/GW23_1_1/\",celltype,\"/regular.res.depth.orig\"))\n",
    "res_site_editing_rate_23_1_1 <- as.data.frame(cbind(paste0(regular_res_depth_23_1_1[,1],'_',regular_res_depth_23_1_1[,3]),\n",
    "                                regular_res_depth_23_1_1[,7]/regular_res_depth_23_1_1[,8]))\n",
    "colnames(res_site_editing_rate_23_1_1) <- c('site','editing_rate')\n",
    "head(res_site_editing_rate_23_1_1)\n",
    "regular_res_depth_23_1_2 <- read.table(paste0(\"/disk1/wenqing/tmp_data/PFC_s2/filter_snv_for_new_res/GW23_1_2/\",celltype,\"/regular.res.depth.orig\"))\n",
    "res_site_editing_rate_23_1_2 <- as.data.frame(cbind(paste0(regular_res_depth_23_1_2[,1],'_',regular_res_depth_23_1_2[,3]),\n",
    "                                regular_res_depth_23_1_2[,7]/regular_res_depth_23_1_2[,8]))\n",
    "colnames(res_site_editing_rate_23_1_2) <- c('site','editing_rate')\n",
    "head(res_site_editing_rate_23_1_2)\n",
    "regular_res_depth_23_1_3 <- read.table(paste0(\"/disk1/wenqing/tmp_data/PFC_s2/filter_snv_for_new_res/GW23_1_3/\",celltype,\"/regular.res.depth.orig\"))\n",
    "res_site_editing_rate_23_1_3 <- as.data.frame(cbind(paste0(regular_res_depth_23_1_3[,1],'_',regular_res_depth_23_1_3[,3]),\n",
    "                                regular_res_depth_23_1_3[,7]/regular_res_depth_23_1_3[,8]))\n",
    "colnames(res_site_editing_rate_23_1_3) <- c('site','editing_rate')\n",
    "head(res_site_editing_rate_23_1_3)\n",
    "regular_res_depth_26_1_1 <- read.table(paste0(\"/disk1/wenqing/tmp_data/PFC_s2/filter_snv_for_new_res/GW26_1_1/\",celltype,\"/regular.res.depth.orig\"))\n",
    "res_site_editing_rate_26_1_1 <- as.data.frame(cbind(paste0(regular_res_depth_26_1_1[,1],'_',regular_res_depth_26_1_1[,3]),\n",
    "                                regular_res_depth_26_1_1[,7]/regular_res_depth_26_1_1[,8]))\n",
    "colnames(res_site_editing_rate_26_1_1) <- c('site','editing_rate')\n",
    "head(res_site_editing_rate_26_1_1)"
   ]
  },
  {
   "cell_type": "code",
   "execution_count": null,
   "metadata": {
    "vscode": {
     "languageId": "r"
    }
   },
   "outputs": [],
   "source": [
    "#head(res_site_editing_rate_08)\n",
    "#Differentially edited editing sites across developmental stages were identified by ANOVA among the stage groups, followed by multiple test corrections with FDR.\n",
    "#增加样本数量\n",
    "######超过80%的位点编辑水平都等于100%（后续筛选）\n"
   ]
  },
  {
   "cell_type": "code",
   "execution_count": 4,
   "metadata": {
    "vscode": {
     "languageId": "r"
    }
   },
   "outputs": [],
   "source": [
    "#########过滤每个样本中editing rate为1的，GW26_1_1仍然有大量位点远多于其他三个样本\n",
    "sub_res_editing_rate_16_1_4 <- res_site_editing_rate_16_1_4[which(res_site_editing_rate_16_1_4$editing_rate!=1),]\n",
    "sub_res_editing_rate_19_1_1 <- res_site_editing_rate_19_1_1[which(res_site_editing_rate_19_1_1$editing_rate!=1),]\n",
    "sub_res_editing_rate_23_1_2 <- res_site_editing_rate_23_1_2[which(res_site_editing_rate_23_1_2$editing_rate!=1),]\n",
    "sub_res_editing_rate_26_1_1 <- res_site_editing_rate_26_1_1[which(res_site_editing_rate_26_1_1$editing_rate!=1),]\n",
    "sub_res_editing_rate_08 <- res_site_editing_rate_08[which(res_site_editing_rate_08$editing_rate!=1),]\n",
    "sub_res_editing_rate_12 <- res_site_editing_rate_12[which(res_site_editing_rate_12$editing_rate!=1),]\n",
    "sub_res_editing_rate_16_1_3 <- res_site_editing_rate_16_1_3[which(res_site_editing_rate_16_1_3$editing_rate!=1),]\n",
    "sub_res_editing_rate_16_1_9 <- res_site_editing_rate_16_1_9[which(res_site_editing_rate_16_1_9$editing_rate!=1),]\n",
    "sub_res_editing_rate_19_1_2 <- res_site_editing_rate_19_1_2[which(res_site_editing_rate_19_1_2$editing_rate!=1),]\n",
    "sub_res_editing_rate_19_1_3 <- res_site_editing_rate_19_1_3[which(res_site_editing_rate_19_1_3$editing_rate!=1),]\n",
    "sub_res_editing_rate_23_1_1 <- res_site_editing_rate_23_1_1[which(res_site_editing_rate_23_1_1$editing_rate!=1),]\n",
    "sub_res_editing_rate_23_1_3 <- res_site_editing_rate_23_1_3[which(res_site_editing_rate_23_1_3$editing_rate!=1),]\n"
   ]
  },
  {
   "cell_type": "code",
   "execution_count": 5,
   "metadata": {
    "vscode": {
     "languageId": "r"
    }
   },
   "outputs": [
    {
     "data": {
      "text/html": [
       "<table class=\"dataframe\">\n",
       "<caption>A data.frame: 6 × 2</caption>\n",
       "<thead>\n",
       "\t<tr><th></th><th scope=col>site</th><th scope=col>editing_rate</th></tr>\n",
       "\t<tr><th></th><th scope=col>&lt;chr&gt;</th><th scope=col>&lt;chr&gt;</th></tr>\n",
       "</thead>\n",
       "<tbody>\n",
       "\t<tr><th scope=row>1</th><td>chr1_329050</td><td>0.338709677419355  </td></tr>\n",
       "\t<tr><th scope=row>2</th><td>chr1_329083</td><td>0.254545454545455  </td></tr>\n",
       "\t<tr><th scope=row>3</th><td>chr1_583221</td><td>0.00372093023255814</td></tr>\n",
       "\t<tr><th scope=row>4</th><td>chr1_583222</td><td>0.0044147476434793 </td></tr>\n",
       "\t<tr><th scope=row>5</th><td>chr1_657320</td><td>0.907185628742515  </td></tr>\n",
       "\t<tr><th scope=row>6</th><td>chr1_657327</td><td>0.878491620111732  </td></tr>\n",
       "</tbody>\n",
       "</table>\n"
      ],
      "text/latex": [
       "A data.frame: 6 × 2\n",
       "\\begin{tabular}{r|ll}\n",
       "  & site & editing\\_rate\\\\\n",
       "  & <chr> & <chr>\\\\\n",
       "\\hline\n",
       "\t1 & chr1\\_329050 & 0.338709677419355  \\\\\n",
       "\t2 & chr1\\_329083 & 0.254545454545455  \\\\\n",
       "\t3 & chr1\\_583221 & 0.00372093023255814\\\\\n",
       "\t4 & chr1\\_583222 & 0.0044147476434793 \\\\\n",
       "\t5 & chr1\\_657320 & 0.907185628742515  \\\\\n",
       "\t6 & chr1\\_657327 & 0.878491620111732  \\\\\n",
       "\\end{tabular}\n"
      ],
      "text/markdown": [
       "\n",
       "A data.frame: 6 × 2\n",
       "\n",
       "| <!--/--> | site &lt;chr&gt; | editing_rate &lt;chr&gt; |\n",
       "|---|---|---|\n",
       "| 1 | chr1_329050 | 0.338709677419355   |\n",
       "| 2 | chr1_329083 | 0.254545454545455   |\n",
       "| 3 | chr1_583221 | 0.00372093023255814 |\n",
       "| 4 | chr1_583222 | 0.0044147476434793  |\n",
       "| 5 | chr1_657320 | 0.907185628742515   |\n",
       "| 6 | chr1_657327 | 0.878491620111732   |\n",
       "\n"
      ],
      "text/plain": [
       "  site        editing_rate       \n",
       "1 chr1_329050 0.338709677419355  \n",
       "2 chr1_329083 0.254545454545455  \n",
       "3 chr1_583221 0.00372093023255814\n",
       "4 chr1_583222 0.0044147476434793 \n",
       "5 chr1_657320 0.907185628742515  \n",
       "6 chr1_657327 0.878491620111732  "
      ]
     },
     "metadata": {},
     "output_type": "display_data"
    }
   ],
   "source": [
    "head(sub_res_editing_rate_16_1_4)"
   ]
  },
  {
   "cell_type": "code",
   "execution_count": 6,
   "metadata": {
    "vscode": {
     "languageId": "r"
    }
   },
   "outputs": [
    {
     "data": {
      "text/html": [
       "<style>\n",
       ".list-inline {list-style: none; margin:0; padding: 0}\n",
       ".list-inline>li {display: inline-block}\n",
       ".list-inline>li:not(:last-child)::after {content: \"\\00b7\"; padding: 0 .5ex}\n",
       "</style>\n",
       "<ol class=list-inline><li>1296</li><li>2</li></ol>\n"
      ],
      "text/latex": [
       "\\begin{enumerate*}\n",
       "\\item 1296\n",
       "\\item 2\n",
       "\\end{enumerate*}\n"
      ],
      "text/markdown": [
       "1. 1296\n",
       "2. 2\n",
       "\n",
       "\n"
      ],
      "text/plain": [
       "[1] 1296    2"
      ]
     },
     "metadata": {},
     "output_type": "display_data"
    },
    {
     "data": {
      "text/html": [
       "<style>\n",
       ".list-inline {list-style: none; margin:0; padding: 0}\n",
       ".list-inline>li {display: inline-block}\n",
       ".list-inline>li:not(:last-child)::after {content: \"\\00b7\"; padding: 0 .5ex}\n",
       "</style>\n",
       "<ol class=list-inline><li>9681</li><li>2</li></ol>\n"
      ],
      "text/latex": [
       "\\begin{enumerate*}\n",
       "\\item 9681\n",
       "\\item 2\n",
       "\\end{enumerate*}\n"
      ],
      "text/markdown": [
       "1. 9681\n",
       "2. 2\n",
       "\n",
       "\n"
      ],
      "text/plain": [
       "[1] 9681    2"
      ]
     },
     "metadata": {},
     "output_type": "display_data"
    },
    {
     "data": {
      "text/html": [
       "<style>\n",
       ".list-inline {list-style: none; margin:0; padding: 0}\n",
       ".list-inline>li {display: inline-block}\n",
       ".list-inline>li:not(:last-child)::after {content: \"\\00b7\"; padding: 0 .5ex}\n",
       "</style>\n",
       "<ol class=list-inline><li>33792</li><li>2</li></ol>\n"
      ],
      "text/latex": [
       "\\begin{enumerate*}\n",
       "\\item 33792\n",
       "\\item 2\n",
       "\\end{enumerate*}\n"
      ],
      "text/markdown": [
       "1. 33792\n",
       "2. 2\n",
       "\n",
       "\n"
      ],
      "text/plain": [
       "[1] 33792     2"
      ]
     },
     "metadata": {},
     "output_type": "display_data"
    },
    {
     "data": {
      "text/html": [
       "<style>\n",
       ".list-inline {list-style: none; margin:0; padding: 0}\n",
       ".list-inline>li {display: inline-block}\n",
       ".list-inline>li:not(:last-child)::after {content: \"\\00b7\"; padding: 0 .5ex}\n",
       "</style>\n",
       "<ol class=list-inline><li>19765</li><li>2</li></ol>\n"
      ],
      "text/latex": [
       "\\begin{enumerate*}\n",
       "\\item 19765\n",
       "\\item 2\n",
       "\\end{enumerate*}\n"
      ],
      "text/markdown": [
       "1. 19765\n",
       "2. 2\n",
       "\n",
       "\n"
      ],
      "text/plain": [
       "[1] 19765     2"
      ]
     },
     "metadata": {},
     "output_type": "display_data"
    },
    {
     "data": {
      "text/html": [
       "<style>\n",
       ".list-inline {list-style: none; margin:0; padding: 0}\n",
       ".list-inline>li {display: inline-block}\n",
       ".list-inline>li:not(:last-child)::after {content: \"\\00b7\"; padding: 0 .5ex}\n",
       "</style>\n",
       "<ol class=list-inline><li>12358</li><li>2</li></ol>\n"
      ],
      "text/latex": [
       "\\begin{enumerate*}\n",
       "\\item 12358\n",
       "\\item 2\n",
       "\\end{enumerate*}\n"
      ],
      "text/markdown": [
       "1. 12358\n",
       "2. 2\n",
       "\n",
       "\n"
      ],
      "text/plain": [
       "[1] 12358     2"
      ]
     },
     "metadata": {},
     "output_type": "display_data"
    },
    {
     "data": {
      "text/html": [
       "<style>\n",
       ".list-inline {list-style: none; margin:0; padding: 0}\n",
       ".list-inline>li {display: inline-block}\n",
       ".list-inline>li:not(:last-child)::after {content: \"\\00b7\"; padding: 0 .5ex}\n",
       "</style>\n",
       "<ol class=list-inline><li>2035</li><li>2</li></ol>\n"
      ],
      "text/latex": [
       "\\begin{enumerate*}\n",
       "\\item 2035\n",
       "\\item 2\n",
       "\\end{enumerate*}\n"
      ],
      "text/markdown": [
       "1. 2035\n",
       "2. 2\n",
       "\n",
       "\n"
      ],
      "text/plain": [
       "[1] 2035    2"
      ]
     },
     "metadata": {},
     "output_type": "display_data"
    },
    {
     "data": {
      "text/html": [
       "<style>\n",
       ".list-inline {list-style: none; margin:0; padding: 0}\n",
       ".list-inline>li {display: inline-block}\n",
       ".list-inline>li:not(:last-child)::after {content: \"\\00b7\"; padding: 0 .5ex}\n",
       "</style>\n",
       "<ol class=list-inline><li>1824</li><li>2</li></ol>\n"
      ],
      "text/latex": [
       "\\begin{enumerate*}\n",
       "\\item 1824\n",
       "\\item 2\n",
       "\\end{enumerate*}\n"
      ],
      "text/markdown": [
       "1. 1824\n",
       "2. 2\n",
       "\n",
       "\n"
      ],
      "text/plain": [
       "[1] 1824    2"
      ]
     },
     "metadata": {},
     "output_type": "display_data"
    },
    {
     "data": {
      "text/html": [
       "<style>\n",
       ".list-inline {list-style: none; margin:0; padding: 0}\n",
       ".list-inline>li {display: inline-block}\n",
       ".list-inline>li:not(:last-child)::after {content: \"\\00b7\"; padding: 0 .5ex}\n",
       "</style>\n",
       "<ol class=list-inline><li>3259</li><li>2</li></ol>\n"
      ],
      "text/latex": [
       "\\begin{enumerate*}\n",
       "\\item 3259\n",
       "\\item 2\n",
       "\\end{enumerate*}\n"
      ],
      "text/markdown": [
       "1. 3259\n",
       "2. 2\n",
       "\n",
       "\n"
      ],
      "text/plain": [
       "[1] 3259    2"
      ]
     },
     "metadata": {},
     "output_type": "display_data"
    },
    {
     "data": {
      "text/html": [
       "<style>\n",
       ".list-inline {list-style: none; margin:0; padding: 0}\n",
       ".list-inline>li {display: inline-block}\n",
       ".list-inline>li:not(:last-child)::after {content: \"\\00b7\"; padding: 0 .5ex}\n",
       "</style>\n",
       "<ol class=list-inline><li>3966</li><li>2</li></ol>\n"
      ],
      "text/latex": [
       "\\begin{enumerate*}\n",
       "\\item 3966\n",
       "\\item 2\n",
       "\\end{enumerate*}\n"
      ],
      "text/markdown": [
       "1. 3966\n",
       "2. 2\n",
       "\n",
       "\n"
      ],
      "text/plain": [
       "[1] 3966    2"
      ]
     },
     "metadata": {},
     "output_type": "display_data"
    },
    {
     "data": {
      "text/html": [
       "<style>\n",
       ".list-inline {list-style: none; margin:0; padding: 0}\n",
       ".list-inline>li {display: inline-block}\n",
       ".list-inline>li:not(:last-child)::after {content: \"\\00b7\"; padding: 0 .5ex}\n",
       "</style>\n",
       "<ol class=list-inline><li>3549</li><li>2</li></ol>\n"
      ],
      "text/latex": [
       "\\begin{enumerate*}\n",
       "\\item 3549\n",
       "\\item 2\n",
       "\\end{enumerate*}\n"
      ],
      "text/markdown": [
       "1. 3549\n",
       "2. 2\n",
       "\n",
       "\n"
      ],
      "text/plain": [
       "[1] 3549    2"
      ]
     },
     "metadata": {},
     "output_type": "display_data"
    },
    {
     "data": {
      "text/html": [
       "<style>\n",
       ".list-inline {list-style: none; margin:0; padding: 0}\n",
       ".list-inline>li {display: inline-block}\n",
       ".list-inline>li:not(:last-child)::after {content: \"\\00b7\"; padding: 0 .5ex}\n",
       "</style>\n",
       "<ol class=list-inline><li>2663</li><li>2</li></ol>\n"
      ],
      "text/latex": [
       "\\begin{enumerate*}\n",
       "\\item 2663\n",
       "\\item 2\n",
       "\\end{enumerate*}\n"
      ],
      "text/markdown": [
       "1. 2663\n",
       "2. 2\n",
       "\n",
       "\n"
      ],
      "text/plain": [
       "[1] 2663    2"
      ]
     },
     "metadata": {},
     "output_type": "display_data"
    },
    {
     "data": {
      "text/html": [
       "<style>\n",
       ".list-inline {list-style: none; margin:0; padding: 0}\n",
       ".list-inline>li {display: inline-block}\n",
       ".list-inline>li:not(:last-child)::after {content: \"\\00b7\"; padding: 0 .5ex}\n",
       "</style>\n",
       "<ol class=list-inline><li>545</li><li>2</li></ol>\n"
      ],
      "text/latex": [
       "\\begin{enumerate*}\n",
       "\\item 545\n",
       "\\item 2\n",
       "\\end{enumerate*}\n"
      ],
      "text/markdown": [
       "1. 545\n",
       "2. 2\n",
       "\n",
       "\n"
      ],
      "text/plain": [
       "[1] 545   2"
      ]
     },
     "metadata": {},
     "output_type": "display_data"
    }
   ],
   "source": [
    "dim(sub_res_editing_rate_08)\n",
    "dim(sub_res_editing_rate_12)\n",
    "dim(sub_res_editing_rate_16_1_3)\n",
    "dim(sub_res_editing_rate_16_1_4)\n",
    "dim(sub_res_editing_rate_16_1_9)\n",
    "dim(sub_res_editing_rate_19_1_1)\n",
    "dim(sub_res_editing_rate_19_1_2)\n",
    "dim(sub_res_editing_rate_19_1_3)\n",
    "dim(sub_res_editing_rate_23_1_1)\n",
    "dim(sub_res_editing_rate_23_1_2)\n",
    "dim(sub_res_editing_rate_23_1_3)\n",
    "dim(sub_res_editing_rate_26_1_1)"
   ]
  },
  {
   "cell_type": "code",
   "execution_count": 7,
   "metadata": {
    "vscode": {
     "languageId": "r"
    }
   },
   "outputs": [
    {
     "data": {
      "text/html": [
       "<style>\n",
       ".dl-inline {width: auto; margin:0; padding: 0}\n",
       ".dl-inline>dt, .dl-inline>dd {float: none; width: auto; display: inline-block}\n",
       ".dl-inline>dt::after {content: \":\\0020\"; padding-right: .5ex}\n",
       ".dl-inline>dt:not(:first-of-type) {padding-left: .5ex}\n",
       "</style><dl class=dl-inline><dt>0%</dt><dd>0.000530991376815788</dd><dt>25%</dt><dd>0.204951126221844</dd><dt>50%</dt><dd>0.42856071964018</dd><dt>75%</dt><dd>0.792452830188679</dd><dt>100%</dt><dd>0.995283018867924</dd></dl>\n"
      ],
      "text/latex": [
       "\\begin{description*}\n",
       "\\item[0\\textbackslash{}\\%] 0.000530991376815788\n",
       "\\item[25\\textbackslash{}\\%] 0.204951126221844\n",
       "\\item[50\\textbackslash{}\\%] 0.42856071964018\n",
       "\\item[75\\textbackslash{}\\%] 0.792452830188679\n",
       "\\item[100\\textbackslash{}\\%] 0.995283018867924\n",
       "\\end{description*}\n"
      ],
      "text/markdown": [
       "0%\n",
       ":   0.00053099137681578825%\n",
       ":   0.20495112622184450%\n",
       ":   0.4285607196401875%\n",
       ":   0.792452830188679100%\n",
       ":   0.995283018867924\n",
       "\n"
      ],
      "text/plain": [
       "          0%          25%          50%          75%         100% \n",
       "0.0005309914 0.2049511262 0.4285607196 0.7924528302 0.9952830189 "
      ]
     },
     "metadata": {},
     "output_type": "display_data"
    },
    {
     "data": {
      "text/html": [
       "<style>\n",
       ".dl-inline {width: auto; margin:0; padding: 0}\n",
       ".dl-inline>dt, .dl-inline>dd {float: none; width: auto; display: inline-block}\n",
       ".dl-inline>dt::after {content: \":\\0020\"; padding-right: .5ex}\n",
       ".dl-inline>dt:not(:first-of-type) {padding-left: .5ex}\n",
       "</style><dl class=dl-inline><dt>0%</dt><dd>0.000538664620144604</dd><dt>25%</dt><dd>0.21505376344086</dd><dt>50%</dt><dd>0.404761904761905</dd><dt>75%</dt><dd>0.741666666666667</dd><dt>100%</dt><dd>0.9979035639413</dd></dl>\n"
      ],
      "text/latex": [
       "\\begin{description*}\n",
       "\\item[0\\textbackslash{}\\%] 0.000538664620144604\n",
       "\\item[25\\textbackslash{}\\%] 0.21505376344086\n",
       "\\item[50\\textbackslash{}\\%] 0.404761904761905\n",
       "\\item[75\\textbackslash{}\\%] 0.741666666666667\n",
       "\\item[100\\textbackslash{}\\%] 0.9979035639413\n",
       "\\end{description*}\n"
      ],
      "text/markdown": [
       "0%\n",
       ":   0.00053866462014460425%\n",
       ":   0.2150537634408650%\n",
       ":   0.40476190476190575%\n",
       ":   0.741666666666667100%\n",
       ":   0.9979035639413\n",
       "\n"
      ],
      "text/plain": [
       "          0%          25%          50%          75%         100% \n",
       "0.0005386646 0.2150537634 0.4047619048 0.7416666667 0.9979035639 "
      ]
     },
     "metadata": {},
     "output_type": "display_data"
    },
    {
     "data": {
      "text/html": [
       "<style>\n",
       ".dl-inline {width: auto; margin:0; padding: 0}\n",
       ".dl-inline>dt, .dl-inline>dd {float: none; width: auto; display: inline-block}\n",
       ".dl-inline>dt::after {content: \":\\0020\"; padding-right: .5ex}\n",
       ".dl-inline>dt:not(:first-of-type) {padding-left: .5ex}\n",
       "</style><dl class=dl-inline><dt>0%</dt><dd>0.000205846532209707</dd><dt>25%</dt><dd>0.178571428571429</dd><dt>50%</dt><dd>0.333333333333333</dd><dt>75%</dt><dd>0.58695652173913</dd><dt>100%</dt><dd>0.996055226824458</dd></dl>\n"
      ],
      "text/latex": [
       "\\begin{description*}\n",
       "\\item[0\\textbackslash{}\\%] 0.000205846532209707\n",
       "\\item[25\\textbackslash{}\\%] 0.178571428571429\n",
       "\\item[50\\textbackslash{}\\%] 0.333333333333333\n",
       "\\item[75\\textbackslash{}\\%] 0.58695652173913\n",
       "\\item[100\\textbackslash{}\\%] 0.996055226824458\n",
       "\\end{description*}\n"
      ],
      "text/markdown": [
       "0%\n",
       ":   0.00020584653220970725%\n",
       ":   0.17857142857142950%\n",
       ":   0.33333333333333375%\n",
       ":   0.58695652173913100%\n",
       ":   0.996055226824458\n",
       "\n"
      ],
      "text/plain": [
       "          0%          25%          50%          75%         100% \n",
       "0.0002058465 0.1785714286 0.3333333333 0.5869565217 0.9960552268 "
      ]
     },
     "metadata": {},
     "output_type": "display_data"
    },
    {
     "data": {
      "text/html": [
       "<style>\n",
       ".dl-inline {width: auto; margin:0; padding: 0}\n",
       ".dl-inline>dt, .dl-inline>dd {float: none; width: auto; display: inline-block}\n",
       ".dl-inline>dt::after {content: \":\\0020\"; padding-right: .5ex}\n",
       ".dl-inline>dt:not(:first-of-type) {padding-left: .5ex}\n",
       "</style><dl class=dl-inline><dt>0%</dt><dd>0.000102932832560919</dd><dt>25%</dt><dd>0.204081632653061</dd><dt>50%</dt><dd>0.395209580838323</dd><dt>75%</dt><dd>0.736842105263158</dd><dt>100%</dt><dd>0.998198198198198</dd></dl>\n"
      ],
      "text/latex": [
       "\\begin{description*}\n",
       "\\item[0\\textbackslash{}\\%] 0.000102932832560919\n",
       "\\item[25\\textbackslash{}\\%] 0.204081632653061\n",
       "\\item[50\\textbackslash{}\\%] 0.395209580838323\n",
       "\\item[75\\textbackslash{}\\%] 0.736842105263158\n",
       "\\item[100\\textbackslash{}\\%] 0.998198198198198\n",
       "\\end{description*}\n"
      ],
      "text/markdown": [
       "0%\n",
       ":   0.00010293283256091925%\n",
       ":   0.20408163265306150%\n",
       ":   0.39520958083832375%\n",
       ":   0.736842105263158100%\n",
       ":   0.998198198198198\n",
       "\n"
      ],
      "text/plain": [
       "          0%          25%          50%          75%         100% \n",
       "0.0001029328 0.2040816327 0.3952095808 0.7368421053 0.9981981982 "
      ]
     },
     "metadata": {},
     "output_type": "display_data"
    },
    {
     "data": {
      "text/html": [
       "<style>\n",
       ".dl-inline {width: auto; margin:0; padding: 0}\n",
       ".dl-inline>dt, .dl-inline>dd {float: none; width: auto; display: inline-block}\n",
       ".dl-inline>dt::after {content: \":\\0020\"; padding-right: .5ex}\n",
       ".dl-inline>dt:not(:first-of-type) {padding-left: .5ex}\n",
       "</style><dl class=dl-inline><dt>0%</dt><dd>0.00025718397598843</dd><dt>25%</dt><dd>0.2</dd><dt>50%</dt><dd>0.412817367185834</dd><dt>75%</dt><dd>0.788888888888889</dd><dt>100%</dt><dd>0.998223801065719</dd></dl>\n"
      ],
      "text/latex": [
       "\\begin{description*}\n",
       "\\item[0\\textbackslash{}\\%] 0.00025718397598843\n",
       "\\item[25\\textbackslash{}\\%] 0.2\n",
       "\\item[50\\textbackslash{}\\%] 0.412817367185834\n",
       "\\item[75\\textbackslash{}\\%] 0.788888888888889\n",
       "\\item[100\\textbackslash{}\\%] 0.998223801065719\n",
       "\\end{description*}\n"
      ],
      "text/markdown": [
       "0%\n",
       ":   0.0002571839759884325%\n",
       ":   0.250%\n",
       ":   0.41281736718583475%\n",
       ":   0.788888888888889100%\n",
       ":   0.998223801065719\n",
       "\n"
      ],
      "text/plain": [
       "         0%         25%         50%         75%        100% \n",
       "0.000257184 0.200000000 0.412817367 0.788888889 0.998223801 "
      ]
     },
     "metadata": {},
     "output_type": "display_data"
    },
    {
     "data": {
      "text/html": [
       "<style>\n",
       ".dl-inline {width: auto; margin:0; padding: 0}\n",
       ".dl-inline>dt, .dl-inline>dd {float: none; width: auto; display: inline-block}\n",
       ".dl-inline>dt::after {content: \":\\0020\"; padding-right: .5ex}\n",
       ".dl-inline>dt:not(:first-of-type) {padding-left: .5ex}\n",
       "</style><dl class=dl-inline><dt>0%</dt><dd>0.00028926561596045</dd><dt>25%</dt><dd>0.290844616376531</dd><dt>50%</dt><dd>0.570247933884298</dd><dt>75%</dt><dd>0.928571428571429</dd><dt>100%</dt><dd>0.99609375</dd></dl>\n"
      ],
      "text/latex": [
       "\\begin{description*}\n",
       "\\item[0\\textbackslash{}\\%] 0.00028926561596045\n",
       "\\item[25\\textbackslash{}\\%] 0.290844616376531\n",
       "\\item[50\\textbackslash{}\\%] 0.570247933884298\n",
       "\\item[75\\textbackslash{}\\%] 0.928571428571429\n",
       "\\item[100\\textbackslash{}\\%] 0.99609375\n",
       "\\end{description*}\n"
      ],
      "text/markdown": [
       "0%\n",
       ":   0.0002892656159604525%\n",
       ":   0.29084461637653150%\n",
       ":   0.57024793388429875%\n",
       ":   0.928571428571429100%\n",
       ":   0.99609375\n",
       "\n"
      ],
      "text/plain": [
       "          0%          25%          50%          75%         100% \n",
       "0.0002892656 0.2908446164 0.5702479339 0.9285714286 0.9960937500 "
      ]
     },
     "metadata": {},
     "output_type": "display_data"
    },
    {
     "data": {
      "text/html": [
       "<style>\n",
       ".dl-inline {width: auto; margin:0; padding: 0}\n",
       ".dl-inline>dt, .dl-inline>dd {float: none; width: auto; display: inline-block}\n",
       ".dl-inline>dt::after {content: \":\\0020\"; padding-right: .5ex}\n",
       ".dl-inline>dt:not(:first-of-type) {padding-left: .5ex}\n",
       "</style><dl class=dl-inline><dt>0%</dt><dd>0.00323999074288359</dd><dt>25%</dt><dd>0.289252914164606</dd><dt>50%</dt><dd>0.644061302681992</dd><dt>75%</dt><dd>0.956521739130435</dd><dt>100%</dt><dd>0.996363636363636</dd></dl>\n"
      ],
      "text/latex": [
       "\\begin{description*}\n",
       "\\item[0\\textbackslash{}\\%] 0.00323999074288359\n",
       "\\item[25\\textbackslash{}\\%] 0.289252914164606\n",
       "\\item[50\\textbackslash{}\\%] 0.644061302681992\n",
       "\\item[75\\textbackslash{}\\%] 0.956521739130435\n",
       "\\item[100\\textbackslash{}\\%] 0.996363636363636\n",
       "\\end{description*}\n"
      ],
      "text/markdown": [
       "0%\n",
       ":   0.0032399907428835925%\n",
       ":   0.28925291416460650%\n",
       ":   0.64406130268199275%\n",
       ":   0.956521739130435100%\n",
       ":   0.996363636363636\n",
       "\n"
      ],
      "text/plain": [
       "         0%         25%         50%         75%        100% \n",
       "0.003239991 0.289252914 0.644061303 0.956521739 0.996363636 "
      ]
     },
     "metadata": {},
     "output_type": "display_data"
    },
    {
     "data": {
      "text/html": [
       "<style>\n",
       ".dl-inline {width: auto; margin:0; padding: 0}\n",
       ".dl-inline>dt, .dl-inline>dd {float: none; width: auto; display: inline-block}\n",
       ".dl-inline>dt::after {content: \":\\0020\"; padding-right: .5ex}\n",
       ".dl-inline>dt:not(:first-of-type) {padding-left: .5ex}\n",
       "</style><dl class=dl-inline><dt>0%</dt><dd>0.000882019404426897</dd><dt>25%</dt><dd>0.269230769230769</dd><dt>50%</dt><dd>0.532258064516129</dd><dt>75%</dt><dd>0.923076923076923</dd><dt>100%</dt><dd>0.993788819875776</dd></dl>\n"
      ],
      "text/latex": [
       "\\begin{description*}\n",
       "\\item[0\\textbackslash{}\\%] 0.000882019404426897\n",
       "\\item[25\\textbackslash{}\\%] 0.269230769230769\n",
       "\\item[50\\textbackslash{}\\%] 0.532258064516129\n",
       "\\item[75\\textbackslash{}\\%] 0.923076923076923\n",
       "\\item[100\\textbackslash{}\\%] 0.993788819875776\n",
       "\\end{description*}\n"
      ],
      "text/markdown": [
       "0%\n",
       ":   0.00088201940442689725%\n",
       ":   0.26923076923076950%\n",
       ":   0.53225806451612975%\n",
       ":   0.923076923076923100%\n",
       ":   0.993788819875776\n",
       "\n"
      ],
      "text/plain": [
       "          0%          25%          50%          75%         100% \n",
       "0.0008820194 0.2692307692 0.5322580645 0.9230769231 0.9937888199 "
      ]
     },
     "metadata": {},
     "output_type": "display_data"
    },
    {
     "data": {
      "text/html": [
       "<style>\n",
       ".dl-inline {width: auto; margin:0; padding: 0}\n",
       ".dl-inline>dt, .dl-inline>dd {float: none; width: auto; display: inline-block}\n",
       ".dl-inline>dt::after {content: \":\\0020\"; padding-right: .5ex}\n",
       ".dl-inline>dt:not(:first-of-type) {padding-left: .5ex}\n",
       "</style><dl class=dl-inline><dt>0%</dt><dd>0.000548753301094077</dd><dt>25%</dt><dd>0.130868936359591</dd><dt>50%</dt><dd>0.460857726344452</dd><dt>75%</dt><dd>0.933333333333333</dd><dt>100%</dt><dd>0.99609375</dd></dl>\n"
      ],
      "text/latex": [
       "\\begin{description*}\n",
       "\\item[0\\textbackslash{}\\%] 0.000548753301094077\n",
       "\\item[25\\textbackslash{}\\%] 0.130868936359591\n",
       "\\item[50\\textbackslash{}\\%] 0.460857726344452\n",
       "\\item[75\\textbackslash{}\\%] 0.933333333333333\n",
       "\\item[100\\textbackslash{}\\%] 0.99609375\n",
       "\\end{description*}\n"
      ],
      "text/markdown": [
       "0%\n",
       ":   0.00054875330109407725%\n",
       ":   0.13086893635959150%\n",
       ":   0.46085772634445275%\n",
       ":   0.933333333333333100%\n",
       ":   0.99609375\n",
       "\n"
      ],
      "text/plain": [
       "          0%          25%          50%          75%         100% \n",
       "0.0005487533 0.1308689364 0.4608577263 0.9333333333 0.9960937500 "
      ]
     },
     "metadata": {},
     "output_type": "display_data"
    },
    {
     "data": {
      "text/html": [
       "<style>\n",
       ".dl-inline {width: auto; margin:0; padding: 0}\n",
       ".dl-inline>dt, .dl-inline>dd {float: none; width: auto; display: inline-block}\n",
       ".dl-inline>dt::after {content: \":\\0020\"; padding-right: .5ex}\n",
       ".dl-inline>dt:not(:first-of-type) {padding-left: .5ex}\n",
       "</style><dl class=dl-inline><dt>0%</dt><dd>0.000615868067374011</dd><dt>25%</dt><dd>0.303030303030303</dd><dt>50%</dt><dd>0.680327868852459</dd><dt>75%</dt><dd>0.971428571428571</dd><dt>100%</dt><dd>0.997635933806147</dd></dl>\n"
      ],
      "text/latex": [
       "\\begin{description*}\n",
       "\\item[0\\textbackslash{}\\%] 0.000615868067374011\n",
       "\\item[25\\textbackslash{}\\%] 0.303030303030303\n",
       "\\item[50\\textbackslash{}\\%] 0.680327868852459\n",
       "\\item[75\\textbackslash{}\\%] 0.971428571428571\n",
       "\\item[100\\textbackslash{}\\%] 0.997635933806147\n",
       "\\end{description*}\n"
      ],
      "text/markdown": [
       "0%\n",
       ":   0.00061586806737401125%\n",
       ":   0.30303030303030350%\n",
       ":   0.68032786885245975%\n",
       ":   0.971428571428571100%\n",
       ":   0.997635933806147\n",
       "\n"
      ],
      "text/plain": [
       "          0%          25%          50%          75%         100% \n",
       "0.0006158681 0.3030303030 0.6803278689 0.9714285714 0.9976359338 "
      ]
     },
     "metadata": {},
     "output_type": "display_data"
    },
    {
     "data": {
      "text/html": [
       "<style>\n",
       ".dl-inline {width: auto; margin:0; padding: 0}\n",
       ".dl-inline>dt, .dl-inline>dd {float: none; width: auto; display: inline-block}\n",
       ".dl-inline>dt::after {content: \":\\0020\"; padding-right: .5ex}\n",
       ".dl-inline>dt:not(:first-of-type) {padding-left: .5ex}\n",
       "</style><dl class=dl-inline><dt>0%</dt><dd>0.000724800067227832</dd><dt>25%</dt><dd>0.290965381367858</dd><dt>50%</dt><dd>0.568807339449541</dd><dt>75%</dt><dd>0.937171052631579</dd><dt>100%</dt><dd>0.997245179063361</dd></dl>\n"
      ],
      "text/latex": [
       "\\begin{description*}\n",
       "\\item[0\\textbackslash{}\\%] 0.000724800067227832\n",
       "\\item[25\\textbackslash{}\\%] 0.290965381367858\n",
       "\\item[50\\textbackslash{}\\%] 0.568807339449541\n",
       "\\item[75\\textbackslash{}\\%] 0.937171052631579\n",
       "\\item[100\\textbackslash{}\\%] 0.997245179063361\n",
       "\\end{description*}\n"
      ],
      "text/markdown": [
       "0%\n",
       ":   0.00072480006722783225%\n",
       ":   0.29096538136785850%\n",
       ":   0.56880733944954175%\n",
       ":   0.937171052631579100%\n",
       ":   0.997245179063361\n",
       "\n"
      ],
      "text/plain": [
       "          0%          25%          50%          75%         100% \n",
       "0.0007248001 0.2909653814 0.5688073394 0.9371710526 0.9972451791 "
      ]
     },
     "metadata": {},
     "output_type": "display_data"
    },
    {
     "data": {
      "text/html": [
       "<style>\n",
       ".dl-inline {width: auto; margin:0; padding: 0}\n",
       ".dl-inline>dt, .dl-inline>dd {float: none; width: auto; display: inline-block}\n",
       ".dl-inline>dt::after {content: \":\\0020\"; padding-right: .5ex}\n",
       ".dl-inline>dt:not(:first-of-type) {padding-left: .5ex}\n",
       "</style><dl class=dl-inline><dt>0%</dt><dd>0.0113036925395629</dd><dt>25%</dt><dd>0.282608695652174</dd><dt>50%</dt><dd>0.571428571428571</dd><dt>75%</dt><dd>0.95</dd><dt>100%</dt><dd>0.993197278911565</dd></dl>\n"
      ],
      "text/latex": [
       "\\begin{description*}\n",
       "\\item[0\\textbackslash{}\\%] 0.0113036925395629\n",
       "\\item[25\\textbackslash{}\\%] 0.282608695652174\n",
       "\\item[50\\textbackslash{}\\%] 0.571428571428571\n",
       "\\item[75\\textbackslash{}\\%] 0.95\n",
       "\\item[100\\textbackslash{}\\%] 0.993197278911565\n",
       "\\end{description*}\n"
      ],
      "text/markdown": [
       "0%\n",
       ":   0.011303692539562925%\n",
       ":   0.28260869565217450%\n",
       ":   0.57142857142857175%\n",
       ":   0.95100%\n",
       ":   0.993197278911565\n",
       "\n"
      ],
      "text/plain": [
       "        0%        25%        50%        75%       100% \n",
       "0.01130369 0.28260870 0.57142857 0.95000000 0.99319728 "
      ]
     },
     "metadata": {},
     "output_type": "display_data"
    }
   ],
   "source": [
    "#从quantile来看GW26_1_1的分布与其他样本无异\n",
    "quantile(as.numeric(sub_res_editing_rate_08$editing_rate))\n",
    "quantile(as.numeric(sub_res_editing_rate_12$editing_rate))\n",
    "quantile(as.numeric(sub_res_editing_rate_16_1_3$editing_rate))\n",
    "quantile(as.numeric(sub_res_editing_rate_16_1_4$editing_rate))\n",
    "quantile(as.numeric(sub_res_editing_rate_16_1_9$editing_rate))\n",
    "quantile(as.numeric(sub_res_editing_rate_19_1_1$editing_rate))\n",
    "quantile(as.numeric(sub_res_editing_rate_19_1_2$editing_rate))\n",
    "quantile(as.numeric(sub_res_editing_rate_19_1_3$editing_rate))\n",
    "quantile(as.numeric(sub_res_editing_rate_23_1_1$editing_rate))\n",
    "quantile(as.numeric(sub_res_editing_rate_23_1_2$editing_rate))\n",
    "quantile(as.numeric(sub_res_editing_rate_23_1_3$editing_rate))\n",
    "quantile(as.numeric(sub_res_editing_rate_26_1_1$editing_rate))\n"
   ]
  },
  {
   "cell_type": "code",
   "execution_count": 9,
   "metadata": {
    "vscode": {
     "languageId": "r"
    }
   },
   "outputs": [
    {
     "data": {
      "text/html": [
       "<table class=\"dataframe\">\n",
       "<caption>A data.frame: 6 × 2</caption>\n",
       "<thead>\n",
       "\t<tr><th></th><th scope=col>site</th><th scope=col>editing_rate</th></tr>\n",
       "\t<tr><th></th><th scope=col>&lt;chr&gt;</th><th scope=col>&lt;chr&gt;</th></tr>\n",
       "</thead>\n",
       "<tbody>\n",
       "\t<tr><th scope=row>1</th><td>chr1_637619</td><td>0.387096774193548  </td></tr>\n",
       "\t<tr><th scope=row>2</th><td>chr1_637735</td><td>0.00317166644641205</td></tr>\n",
       "\t<tr><th scope=row>3</th><td>chr1_657320</td><td>0.901818181818182  </td></tr>\n",
       "\t<tr><th scope=row>4</th><td>chr1_657327</td><td>0.845454545454545  </td></tr>\n",
       "\t<tr><th scope=row>5</th><td>chr1_657332</td><td>0.804828973843058  </td></tr>\n",
       "\t<tr><th scope=row>7</th><td>chr1_942871</td><td>0.9375             </td></tr>\n",
       "</tbody>\n",
       "</table>\n"
      ],
      "text/latex": [
       "A data.frame: 6 × 2\n",
       "\\begin{tabular}{r|ll}\n",
       "  & site & editing\\_rate\\\\\n",
       "  & <chr> & <chr>\\\\\n",
       "\\hline\n",
       "\t1 & chr1\\_637619 & 0.387096774193548  \\\\\n",
       "\t2 & chr1\\_637735 & 0.00317166644641205\\\\\n",
       "\t3 & chr1\\_657320 & 0.901818181818182  \\\\\n",
       "\t4 & chr1\\_657327 & 0.845454545454545  \\\\\n",
       "\t5 & chr1\\_657332 & 0.804828973843058  \\\\\n",
       "\t7 & chr1\\_942871 & 0.9375             \\\\\n",
       "\\end{tabular}\n"
      ],
      "text/markdown": [
       "\n",
       "A data.frame: 6 × 2\n",
       "\n",
       "| <!--/--> | site &lt;chr&gt; | editing_rate &lt;chr&gt; |\n",
       "|---|---|---|\n",
       "| 1 | chr1_637619 | 0.387096774193548   |\n",
       "| 2 | chr1_637735 | 0.00317166644641205 |\n",
       "| 3 | chr1_657320 | 0.901818181818182   |\n",
       "| 4 | chr1_657327 | 0.845454545454545   |\n",
       "| 5 | chr1_657332 | 0.804828973843058   |\n",
       "| 7 | chr1_942871 | 0.9375              |\n",
       "\n"
      ],
      "text/plain": [
       "  site        editing_rate       \n",
       "1 chr1_637619 0.387096774193548  \n",
       "2 chr1_637735 0.00317166644641205\n",
       "3 chr1_657320 0.901818181818182  \n",
       "4 chr1_657327 0.845454545454545  \n",
       "5 chr1_657332 0.804828973843058  \n",
       "7 chr1_942871 0.9375             "
      ]
     },
     "metadata": {},
     "output_type": "display_data"
    }
   ],
   "source": [
    "head(sub_res_editing_rate_16_1_3)"
   ]
  },
  {
   "cell_type": "code",
   "execution_count": 7,
   "metadata": {
    "vscode": {
     "languageId": "r"
    }
   },
   "outputs": [
    {
     "data": {
      "text/html": [
       "<style>\n",
       ".list-inline {list-style: none; margin:0; padding: 0}\n",
       ".list-inline>li {display: inline-block}\n",
       ".list-inline>li:not(:last-child)::after {content: \"\\00b7\"; padding: 0 .5ex}\n",
       "</style>\n",
       "<ol class=list-inline><li>3846</li><li>2</li></ol>\n"
      ],
      "text/latex": [
       "\\begin{enumerate*}\n",
       "\\item 3846\n",
       "\\item 2\n",
       "\\end{enumerate*}\n"
      ],
      "text/markdown": [
       "1. 3846\n",
       "2. 2\n",
       "\n",
       "\n"
      ],
      "text/plain": [
       "[1] 3846    2"
      ]
     },
     "metadata": {},
     "output_type": "display_data"
    },
    {
     "data": {
      "text/html": [
       "<style>\n",
       ".list-inline {list-style: none; margin:0; padding: 0}\n",
       ".list-inline>li {display: inline-block}\n",
       ".list-inline>li:not(:last-child)::after {content: \"\\00b7\"; padding: 0 .5ex}\n",
       "</style>\n",
       "<ol class=list-inline><li>2977</li><li>2</li></ol>\n"
      ],
      "text/latex": [
       "\\begin{enumerate*}\n",
       "\\item 2977\n",
       "\\item 2\n",
       "\\end{enumerate*}\n"
      ],
      "text/markdown": [
       "1. 2977\n",
       "2. 2\n",
       "\n",
       "\n"
      ],
      "text/plain": [
       "[1] 2977    2"
      ]
     },
     "metadata": {},
     "output_type": "display_data"
    },
    {
     "data": {
      "text/html": [
       "<style>\n",
       ".list-inline {list-style: none; margin:0; padding: 0}\n",
       ".list-inline>li {display: inline-block}\n",
       ".list-inline>li:not(:last-child)::after {content: \"\\00b7\"; padding: 0 .5ex}\n",
       "</style>\n",
       "<ol class=list-inline><li>2420</li><li>2</li></ol>\n"
      ],
      "text/latex": [
       "\\begin{enumerate*}\n",
       "\\item 2420\n",
       "\\item 2\n",
       "\\end{enumerate*}\n"
      ],
      "text/markdown": [
       "1. 2420\n",
       "2. 2\n",
       "\n",
       "\n"
      ],
      "text/plain": [
       "[1] 2420    2"
      ]
     },
     "metadata": {},
     "output_type": "display_data"
    }
   ],
   "source": [
    "####GW16_3/4/9的位点数量太多，会对后续差异分析产生影响\n",
    "#\n",
    "#shared_site_16 <- intersect(sub_res_editing_rate_16_1_3$site,sub_res_editing_rate_16_1_4$all_site)\n",
    "#shared_site_16 <- intersect(sub_res_editing_rate_16_1_9$site,shared_site_16)\n",
    "shared_site <- unique(c(sub_res_editing_rate_08$site,sub_res_editing_rate_12$site,sub_res_editing_rate_19_1_1$site,\n",
    "                    sub_res_editing_rate_19_1_2$site,sub_res_editing_rate_19_1_3$site,sub_res_editing_rate_23_1_1$site,\n",
    "                    sub_res_editing_rate_23_1_2$site,sub_res_editing_rate_23_1_3$site))\n",
    "sub_res_editing_rate_16_1_3_intersected <- sub_res_editing_rate_16_1_3[sub_res_editing_rate_16_1_3$site %in% shared_site,]\n",
    "sub_res_editing_rate_16_1_4_intersected <- sub_res_editing_rate_16_1_4[sub_res_editing_rate_16_1_4$site %in% shared_site,]\n",
    "sub_res_editing_rate_16_1_9_intersected <- sub_res_editing_rate_16_1_9[sub_res_editing_rate_16_1_9$site %in% shared_site,]\n",
    "dim(sub_res_editing_rate_16_1_3_intersected)\n",
    "dim(sub_res_editing_rate_16_1_4_intersected)\n",
    "dim(sub_res_editing_rate_16_1_9_intersected)"
   ]
  },
  {
   "cell_type": "code",
   "execution_count": 8,
   "metadata": {
    "vscode": {
     "languageId": "r"
    }
   },
   "outputs": [
    {
     "ename": "ERROR",
     "evalue": "Error in eval(expr, envir, enclos): object 'all_site' not found\n",
     "output_type": "error",
     "traceback": [
      "Error in eval(expr, envir, enclos): object 'all_site' not found\nTraceback:\n"
     ]
    }
   ],
   "source": [
    "length(all_site)\n",
    "length(sample_info)\n",
    "length(group_info)\n",
    "length(editing_level)\n",
    "table(sample_info)"
   ]
  },
  {
   "cell_type": "code",
   "execution_count": 9,
   "metadata": {
    "vscode": {
     "languageId": "r"
    }
   },
   "outputs": [
    {
     "data": {
      "text/html": [
       "<style>\n",
       ".list-inline {list-style: none; margin:0; padding: 0}\n",
       ".list-inline>li {display: inline-block}\n",
       ".list-inline>li:not(:last-child)::after {content: \"\\00b7\"; padding: 0 .5ex}\n",
       "</style>\n",
       "<ol class=list-inline><li>38061</li><li>4</li></ol>\n"
      ],
      "text/latex": [
       "\\begin{enumerate*}\n",
       "\\item 38061\n",
       "\\item 4\n",
       "\\end{enumerate*}\n"
      ],
      "text/markdown": [
       "1. 38061\n",
       "2. 4\n",
       "\n",
       "\n"
      ],
      "text/plain": [
       "[1] 38061     4"
      ]
     },
     "metadata": {},
     "output_type": "display_data"
    }
   ],
   "source": [
    "########使用所有跑出fiter SNV(10) res的样本鉴定de res\n",
    "#构建数据框\n",
    "all_site <- c(sub_res_editing_rate_08$site, sub_res_editing_rate_12$site,sub_res_editing_rate_16_1_3_intersected$site,\n",
    "                sub_res_editing_rate_16_1_4_intersected$site,sub_res_editing_rate_16_1_9_intersected$site,sub_res_editing_rate_19_1_1$site,\n",
    "                sub_res_editing_rate_19_1_2$site,sub_res_editing_rate_19_1_3$site,sub_res_editing_rate_23_1_1$site,\n",
    "                sub_res_editing_rate_23_1_2$site,sub_res_editing_rate_23_1_3$site,sub_res_editing_rate_26_1_1$site)\n",
    "sample_info <- c(rep('GW08',times=nrow(sub_res_editing_rate_08)),rep('GW12',times=nrow(sub_res_editing_rate_12)),\n",
    "                    rep('GW16_1_3',times=nrow(sub_res_editing_rate_16_1_3_intersected)),rep('GW16_1_4',times=nrow(sub_res_editing_rate_16_1_4_intersected)),\n",
    "                    rep('GW16_1_9',times=nrow(sub_res_editing_rate_16_1_9_intersected)),rep('GW19_1_1',times=nrow(sub_res_editing_rate_19_1_1)),\n",
    "                    rep('GW19_1_2',times=nrow(sub_res_editing_rate_19_1_2)),rep('GW19_1_3',times=nrow(sub_res_editing_rate_19_1_3)),\n",
    "                    rep('GW23_1_1',times=nrow(sub_res_editing_rate_23_1_1)),rep('GW23_1_2',times=nrow(sub_res_editing_rate_23_1_2)),\n",
    "                    rep('GW23_1_3',times=nrow(sub_res_editing_rate_23_1_3)),rep('GW26_1_1',times=nrow(sub_res_editing_rate_26_1_1)))\n",
    "group_info <- c(rep('GW08',times=nrow(sub_res_editing_rate_08)),rep('GW12',times=nrow(sub_res_editing_rate_12)),\n",
    "                    rep('GW16',times=nrow(sub_res_editing_rate_16_1_3_intersected)),rep('GW16',times=nrow(sub_res_editing_rate_16_1_4_intersected)),\n",
    "                    rep('GW16',times=nrow(sub_res_editing_rate_16_1_9_intersected)),rep('GW19',times=nrow(sub_res_editing_rate_19_1_1)),\n",
    "                    rep('GW19',times=nrow(sub_res_editing_rate_19_1_2)),rep('GW19',times=nrow(sub_res_editing_rate_19_1_3)),\n",
    "                    rep('GW23',times=nrow(sub_res_editing_rate_23_1_1)),rep('GW23',times=nrow(sub_res_editing_rate_23_1_2)),\n",
    "                    rep('GW23',times=nrow(sub_res_editing_rate_23_1_3)),rep('GW26',times=nrow(sub_res_editing_rate_26_1_1)))\n",
    "editing_level <- c(sub_res_editing_rate_08$editing_rate,sub_res_editing_rate_12$editing_rate,sub_res_editing_rate_16_1_3_intersected$editing_rate,\n",
    "                    sub_res_editing_rate_16_1_4_intersected$editing_rate,sub_res_editing_rate_16_1_9_intersected$editing_rate,sub_res_editing_rate_19_1_1$editing_rate,\n",
    "                    sub_res_editing_rate_19_1_2$editing_rate,sub_res_editing_rate_19_1_3$editing_rate,sub_res_editing_rate_23_1_1$editing_rate,\n",
    "                    sub_res_editing_rate_23_1_2$editing_rate,sub_res_editing_rate_23_1_3$editing_rate,sub_res_editing_rate_26_1_1$editing_rate)\n",
    "df <- as.data.frame(cbind(all_site,sample_info,group_info,editing_level))\n",
    "dim(df)\n",
    "pure_df <- df <- as.data.frame(cbind(all_site,sample_info,editing_level))"
   ]
  },
  {
   "cell_type": "code",
   "execution_count": 10,
   "metadata": {
    "vscode": {
     "languageId": "r"
    }
   },
   "outputs": [
    {
     "data": {
      "text/html": [
       "<style>\n",
       ".list-inline {list-style: none; margin:0; padding: 0}\n",
       ".list-inline>li {display: inline-block}\n",
       ".list-inline>li:not(:last-child)::after {content: \"\\00b7\"; padding: 0 .5ex}\n",
       "</style>\n",
       "<ol class=list-inline><li>38061</li><li>3</li></ol>\n"
      ],
      "text/latex": [
       "\\begin{enumerate*}\n",
       "\\item 38061\n",
       "\\item 3\n",
       "\\end{enumerate*}\n"
      ],
      "text/markdown": [
       "1. 38061\n",
       "2. 3\n",
       "\n",
       "\n"
      ],
      "text/plain": [
       "[1] 38061     3"
      ]
     },
     "metadata": {},
     "output_type": "display_data"
    },
    {
     "data": {
      "text/html": [
       "<style>\n",
       ".list-inline {list-style: none; margin:0; padding: 0}\n",
       ".list-inline>li {display: inline-block}\n",
       ".list-inline>li:not(:last-child)::after {content: \"\\00b7\"; padding: 0 .5ex}\n",
       "</style>\n",
       "<ol class=list-inline><li>38061</li><li>3</li></ol>\n"
      ],
      "text/latex": [
       "\\begin{enumerate*}\n",
       "\\item 38061\n",
       "\\item 3\n",
       "\\end{enumerate*}\n"
      ],
      "text/markdown": [
       "1. 38061\n",
       "2. 3\n",
       "\n",
       "\n"
      ],
      "text/plain": [
       "[1] 38061     3"
      ]
     },
     "metadata": {},
     "output_type": "display_data"
    },
    {
     "data": {
      "text/html": [
       "<style>\n",
       ".list-inline {list-style: none; margin:0; padding: 0}\n",
       ".list-inline>li {display: inline-block}\n",
       ".list-inline>li:not(:last-child)::after {content: \"\\00b7\"; padding: 0 .5ex}\n",
       "</style>\n",
       "<ol class=list-inline><li>38048</li><li>3</li></ol>\n"
      ],
      "text/latex": [
       "\\begin{enumerate*}\n",
       "\\item 38048\n",
       "\\item 3\n",
       "\\end{enumerate*}\n"
      ],
      "text/markdown": [
       "1. 38048\n",
       "2. 3\n",
       "\n",
       "\n"
      ],
      "text/plain": [
       "[1] 38048     3"
      ]
     },
     "metadata": {},
     "output_type": "display_data"
    }
   ],
   "source": [
    "dim(df)\n",
    "dim(pure_df)\n",
    "pure_df <- pure_df[!duplicated(paste0(pure_df$all_site,\"_\",pure_df$sample_info)),]\n",
    "dim(pure_df)"
   ]
  },
  {
   "cell_type": "code",
   "execution_count": 11,
   "metadata": {
    "vscode": {
     "languageId": "r"
    }
   },
   "outputs": [
    {
     "data": {
      "text/html": [
       "<table class=\"dataframe\">\n",
       "<caption>A tibble: 6 × 13</caption>\n",
       "<thead>\n",
       "\t<tr><th scope=col>all_site</th><th scope=col>GW08</th><th scope=col>GW12</th><th scope=col>GW16_1_3</th><th scope=col>GW16_1_4</th><th scope=col>GW16_1_9</th><th scope=col>GW19_1_1</th><th scope=col>GW19_1_2</th><th scope=col>GW19_1_3</th><th scope=col>GW23_1_1</th><th scope=col>GW23_1_2</th><th scope=col>GW23_1_3</th><th scope=col>GW26_1_1</th></tr>\n",
       "\t<tr><th scope=col>&lt;chr&gt;</th><th scope=col>&lt;chr&gt;</th><th scope=col>&lt;chr&gt;</th><th scope=col>&lt;chr&gt;</th><th scope=col>&lt;chr&gt;</th><th scope=col>&lt;chr&gt;</th><th scope=col>&lt;chr&gt;</th><th scope=col>&lt;chr&gt;</th><th scope=col>&lt;chr&gt;</th><th scope=col>&lt;chr&gt;</th><th scope=col>&lt;chr&gt;</th><th scope=col>&lt;chr&gt;</th><th scope=col>&lt;chr&gt;</th></tr>\n",
       "</thead>\n",
       "<tbody>\n",
       "\t<tr><td>chr1_1735188</td><td>0.563218390804598</td><td>0.58994708994709 </td><td>0.424719101123596</td><td>0.41875          </td><td>0.194214876033058 </td><td>NA</td><td>NA</td><td>0.13953488372093</td><td>0.148854961832061</td><td>NA</td><td>NA</td><td>0.405737704918033</td></tr>\n",
       "\t<tr><td>chr1_1735236</td><td>0.615384615384615</td><td>0.470862470862471</td><td>0.270833333333333</td><td>0.508050089445438</td><td>0.0487329434697856</td><td>NA</td><td>NA</td><td>0.2             </td><td>0.135849056603774</td><td>NA</td><td>NA</td><td>0.354014598540146</td></tr>\n",
       "\t<tr><td>chr1_1735258</td><td>0.333333333333333</td><td>0.190243902439024</td><td>0.128390596745027</td><td>NA               </td><td>NA                </td><td>NA</td><td>NA</td><td>NA              </td><td>NA               </td><td>NA</td><td>NA</td><td>NA               </td></tr>\n",
       "\t<tr><td>chr1_1735272</td><td>0.305263157894737</td><td>0.18796992481203 </td><td>0.161178509532062</td><td>0.163669064748201</td><td>NA                </td><td>NA</td><td>NA</td><td>NA              </td><td>NA               </td><td>NA</td><td>NA</td><td>0.230769230769231</td></tr>\n",
       "\t<tr><td>chr1_1735273</td><td>0.478723404255319</td><td>0.187032418952618</td><td>0.281739130434783</td><td>0.163082437275986</td><td>NA                </td><td>NA</td><td>NA</td><td>NA              </td><td>0.212230215827338</td><td>NA</td><td>NA</td><td>0.230769230769231</td></tr>\n",
       "\t<tr><td>chr1_8652598</td><td>0.493506493506494</td><td>NA               </td><td>NA               </td><td>NA               </td><td>NA                </td><td>NA</td><td>NA</td><td>NA              </td><td>NA               </td><td>NA</td><td>NA</td><td>NA               </td></tr>\n",
       "</tbody>\n",
       "</table>\n"
      ],
      "text/latex": [
       "A tibble: 6 × 13\n",
       "\\begin{tabular}{lllllllllllll}\n",
       " all\\_site & GW08 & GW12 & GW16\\_1\\_3 & GW16\\_1\\_4 & GW16\\_1\\_9 & GW19\\_1\\_1 & GW19\\_1\\_2 & GW19\\_1\\_3 & GW23\\_1\\_1 & GW23\\_1\\_2 & GW23\\_1\\_3 & GW26\\_1\\_1\\\\\n",
       " <chr> & <chr> & <chr> & <chr> & <chr> & <chr> & <chr> & <chr> & <chr> & <chr> & <chr> & <chr> & <chr>\\\\\n",
       "\\hline\n",
       "\t chr1\\_1735188 & 0.563218390804598 & 0.58994708994709  & 0.424719101123596 & 0.41875           & 0.194214876033058  & NA & NA & 0.13953488372093 & 0.148854961832061 & NA & NA & 0.405737704918033\\\\\n",
       "\t chr1\\_1735236 & 0.615384615384615 & 0.470862470862471 & 0.270833333333333 & 0.508050089445438 & 0.0487329434697856 & NA & NA & 0.2              & 0.135849056603774 & NA & NA & 0.354014598540146\\\\\n",
       "\t chr1\\_1735258 & 0.333333333333333 & 0.190243902439024 & 0.128390596745027 & NA                & NA                 & NA & NA & NA               & NA                & NA & NA & NA               \\\\\n",
       "\t chr1\\_1735272 & 0.305263157894737 & 0.18796992481203  & 0.161178509532062 & 0.163669064748201 & NA                 & NA & NA & NA               & NA                & NA & NA & 0.230769230769231\\\\\n",
       "\t chr1\\_1735273 & 0.478723404255319 & 0.187032418952618 & 0.281739130434783 & 0.163082437275986 & NA                 & NA & NA & NA               & 0.212230215827338 & NA & NA & 0.230769230769231\\\\\n",
       "\t chr1\\_8652598 & 0.493506493506494 & NA                & NA                & NA                & NA                 & NA & NA & NA               & NA                & NA & NA & NA               \\\\\n",
       "\\end{tabular}\n"
      ],
      "text/markdown": [
       "\n",
       "A tibble: 6 × 13\n",
       "\n",
       "| all_site &lt;chr&gt; | GW08 &lt;chr&gt; | GW12 &lt;chr&gt; | GW16_1_3 &lt;chr&gt; | GW16_1_4 &lt;chr&gt; | GW16_1_9 &lt;chr&gt; | GW19_1_1 &lt;chr&gt; | GW19_1_2 &lt;chr&gt; | GW19_1_3 &lt;chr&gt; | GW23_1_1 &lt;chr&gt; | GW23_1_2 &lt;chr&gt; | GW23_1_3 &lt;chr&gt; | GW26_1_1 &lt;chr&gt; |\n",
       "|---|---|---|---|---|---|---|---|---|---|---|---|---|\n",
       "| chr1_1735188 | 0.563218390804598 | 0.58994708994709  | 0.424719101123596 | 0.41875           | 0.194214876033058  | NA | NA | 0.13953488372093 | 0.148854961832061 | NA | NA | 0.405737704918033 |\n",
       "| chr1_1735236 | 0.615384615384615 | 0.470862470862471 | 0.270833333333333 | 0.508050089445438 | 0.0487329434697856 | NA | NA | 0.2              | 0.135849056603774 | NA | NA | 0.354014598540146 |\n",
       "| chr1_1735258 | 0.333333333333333 | 0.190243902439024 | 0.128390596745027 | NA                | NA                 | NA | NA | NA               | NA                | NA | NA | NA                |\n",
       "| chr1_1735272 | 0.305263157894737 | 0.18796992481203  | 0.161178509532062 | 0.163669064748201 | NA                 | NA | NA | NA               | NA                | NA | NA | 0.230769230769231 |\n",
       "| chr1_1735273 | 0.478723404255319 | 0.187032418952618 | 0.281739130434783 | 0.163082437275986 | NA                 | NA | NA | NA               | 0.212230215827338 | NA | NA | 0.230769230769231 |\n",
       "| chr1_8652598 | 0.493506493506494 | NA                | NA                | NA                | NA                 | NA | NA | NA               | NA                | NA | NA | NA                |\n",
       "\n"
      ],
      "text/plain": [
       "  all_site     GW08              GW12              GW16_1_3         \n",
       "1 chr1_1735188 0.563218390804598 0.58994708994709  0.424719101123596\n",
       "2 chr1_1735236 0.615384615384615 0.470862470862471 0.270833333333333\n",
       "3 chr1_1735258 0.333333333333333 0.190243902439024 0.128390596745027\n",
       "4 chr1_1735272 0.305263157894737 0.18796992481203  0.161178509532062\n",
       "5 chr1_1735273 0.478723404255319 0.187032418952618 0.281739130434783\n",
       "6 chr1_8652598 0.493506493506494 NA                NA               \n",
       "  GW16_1_4          GW16_1_9           GW19_1_1 GW19_1_2 GW19_1_3        \n",
       "1 0.41875           0.194214876033058  NA       NA       0.13953488372093\n",
       "2 0.508050089445438 0.0487329434697856 NA       NA       0.2             \n",
       "3 NA                NA                 NA       NA       NA              \n",
       "4 0.163669064748201 NA                 NA       NA       NA              \n",
       "5 0.163082437275986 NA                 NA       NA       NA              \n",
       "6 NA                NA                 NA       NA       NA              \n",
       "  GW23_1_1          GW23_1_2 GW23_1_3 GW26_1_1         \n",
       "1 0.148854961832061 NA       NA       0.405737704918033\n",
       "2 0.135849056603774 NA       NA       0.354014598540146\n",
       "3 NA                NA       NA       NA               \n",
       "4 NA                NA       NA       0.230769230769231\n",
       "5 0.212230215827338 NA       NA       0.230769230769231\n",
       "6 NA                NA       NA       NA               "
      ]
     },
     "metadata": {},
     "output_type": "display_data"
    },
    {
     "data": {
      "text/html": [
       "24293"
      ],
      "text/latex": [
       "24293"
      ],
      "text/markdown": [
       "24293"
      ],
      "text/plain": [
       "[1] 24293"
      ]
     },
     "metadata": {},
     "output_type": "display_data"
    },
    {
     "data": {
      "text/html": [
       "24293"
      ],
      "text/latex": [
       "24293"
      ],
      "text/markdown": [
       "24293"
      ],
      "text/plain": [
       "[1] 24293"
      ]
     },
     "metadata": {},
     "output_type": "display_data"
    }
   ],
   "source": [
    "# 使用pivot_wider函数进行转换\n",
    "wide_df <- pivot_wider(pure_df, names_from = \"sample_info\", values_from = \"editing_level\")\n",
    "head(wide_df)\n",
    "length(wide_df$all_site)\n",
    "length(unique(wide_df$all_site))\n"
   ]
  },
  {
   "cell_type": "code",
   "execution_count": 12,
   "metadata": {
    "vscode": {
     "languageId": "r"
    }
   },
   "outputs": [
    {
     "data": {
      "text/html": [
       "<table class=\"dataframe\">\n",
       "<caption>A data.frame: 6 × 12</caption>\n",
       "<thead>\n",
       "\t<tr><th></th><th scope=col>GW08</th><th scope=col>GW12</th><th scope=col>GW16_1_3</th><th scope=col>GW16_1_4</th><th scope=col>GW16_1_9</th><th scope=col>GW19_1_1</th><th scope=col>GW19_1_2</th><th scope=col>GW19_1_3</th><th scope=col>GW23_1_1</th><th scope=col>GW23_1_2</th><th scope=col>GW23_1_3</th><th scope=col>GW26_1_1</th></tr>\n",
       "\t<tr><th></th><th scope=col>&lt;chr&gt;</th><th scope=col>&lt;chr&gt;</th><th scope=col>&lt;chr&gt;</th><th scope=col>&lt;chr&gt;</th><th scope=col>&lt;chr&gt;</th><th scope=col>&lt;chr&gt;</th><th scope=col>&lt;chr&gt;</th><th scope=col>&lt;chr&gt;</th><th scope=col>&lt;chr&gt;</th><th scope=col>&lt;chr&gt;</th><th scope=col>&lt;chr&gt;</th><th scope=col>&lt;chr&gt;</th></tr>\n",
       "</thead>\n",
       "<tbody>\n",
       "\t<tr><th scope=row>chr1_1735188</th><td>0.563218390804598</td><td>0.58994708994709 </td><td>0.424719101123596</td><td>0.41875          </td><td>0.194214876033058 </td><td>NA</td><td>NA</td><td>0.13953488372093</td><td>0.148854961832061</td><td>NA</td><td>NA</td><td>0.405737704918033</td></tr>\n",
       "\t<tr><th scope=row>chr1_1735236</th><td>0.615384615384615</td><td>0.470862470862471</td><td>0.270833333333333</td><td>0.508050089445438</td><td>0.0487329434697856</td><td>NA</td><td>NA</td><td>0.2             </td><td>0.135849056603774</td><td>NA</td><td>NA</td><td>0.354014598540146</td></tr>\n",
       "\t<tr><th scope=row>chr1_1735258</th><td>0.333333333333333</td><td>0.190243902439024</td><td>0.128390596745027</td><td>NA               </td><td>NA                </td><td>NA</td><td>NA</td><td>NA              </td><td>NA               </td><td>NA</td><td>NA</td><td>NA               </td></tr>\n",
       "\t<tr><th scope=row>chr1_1735272</th><td>0.305263157894737</td><td>0.18796992481203 </td><td>0.161178509532062</td><td>0.163669064748201</td><td>NA                </td><td>NA</td><td>NA</td><td>NA              </td><td>NA               </td><td>NA</td><td>NA</td><td>0.230769230769231</td></tr>\n",
       "\t<tr><th scope=row>chr1_1735273</th><td>0.478723404255319</td><td>0.187032418952618</td><td>0.281739130434783</td><td>0.163082437275986</td><td>NA                </td><td>NA</td><td>NA</td><td>NA              </td><td>0.212230215827338</td><td>NA</td><td>NA</td><td>0.230769230769231</td></tr>\n",
       "\t<tr><th scope=row>chr1_8652598</th><td>0.493506493506494</td><td>NA               </td><td>NA               </td><td>NA               </td><td>NA                </td><td>NA</td><td>NA</td><td>NA              </td><td>NA               </td><td>NA</td><td>NA</td><td>NA               </td></tr>\n",
       "</tbody>\n",
       "</table>\n"
      ],
      "text/latex": [
       "A data.frame: 6 × 12\n",
       "\\begin{tabular}{r|llllllllllll}\n",
       "  & GW08 & GW12 & GW16\\_1\\_3 & GW16\\_1\\_4 & GW16\\_1\\_9 & GW19\\_1\\_1 & GW19\\_1\\_2 & GW19\\_1\\_3 & GW23\\_1\\_1 & GW23\\_1\\_2 & GW23\\_1\\_3 & GW26\\_1\\_1\\\\\n",
       "  & <chr> & <chr> & <chr> & <chr> & <chr> & <chr> & <chr> & <chr> & <chr> & <chr> & <chr> & <chr>\\\\\n",
       "\\hline\n",
       "\tchr1\\_1735188 & 0.563218390804598 & 0.58994708994709  & 0.424719101123596 & 0.41875           & 0.194214876033058  & NA & NA & 0.13953488372093 & 0.148854961832061 & NA & NA & 0.405737704918033\\\\\n",
       "\tchr1\\_1735236 & 0.615384615384615 & 0.470862470862471 & 0.270833333333333 & 0.508050089445438 & 0.0487329434697856 & NA & NA & 0.2              & 0.135849056603774 & NA & NA & 0.354014598540146\\\\\n",
       "\tchr1\\_1735258 & 0.333333333333333 & 0.190243902439024 & 0.128390596745027 & NA                & NA                 & NA & NA & NA               & NA                & NA & NA & NA               \\\\\n",
       "\tchr1\\_1735272 & 0.305263157894737 & 0.18796992481203  & 0.161178509532062 & 0.163669064748201 & NA                 & NA & NA & NA               & NA                & NA & NA & 0.230769230769231\\\\\n",
       "\tchr1\\_1735273 & 0.478723404255319 & 0.187032418952618 & 0.281739130434783 & 0.163082437275986 & NA                 & NA & NA & NA               & 0.212230215827338 & NA & NA & 0.230769230769231\\\\\n",
       "\tchr1\\_8652598 & 0.493506493506494 & NA                & NA                & NA                & NA                 & NA & NA & NA               & NA                & NA & NA & NA               \\\\\n",
       "\\end{tabular}\n"
      ],
      "text/markdown": [
       "\n",
       "A data.frame: 6 × 12\n",
       "\n",
       "| <!--/--> | GW08 &lt;chr&gt; | GW12 &lt;chr&gt; | GW16_1_3 &lt;chr&gt; | GW16_1_4 &lt;chr&gt; | GW16_1_9 &lt;chr&gt; | GW19_1_1 &lt;chr&gt; | GW19_1_2 &lt;chr&gt; | GW19_1_3 &lt;chr&gt; | GW23_1_1 &lt;chr&gt; | GW23_1_2 &lt;chr&gt; | GW23_1_3 &lt;chr&gt; | GW26_1_1 &lt;chr&gt; |\n",
       "|---|---|---|---|---|---|---|---|---|---|---|---|---|\n",
       "| chr1_1735188 | 0.563218390804598 | 0.58994708994709  | 0.424719101123596 | 0.41875           | 0.194214876033058  | NA | NA | 0.13953488372093 | 0.148854961832061 | NA | NA | 0.405737704918033 |\n",
       "| chr1_1735236 | 0.615384615384615 | 0.470862470862471 | 0.270833333333333 | 0.508050089445438 | 0.0487329434697856 | NA | NA | 0.2              | 0.135849056603774 | NA | NA | 0.354014598540146 |\n",
       "| chr1_1735258 | 0.333333333333333 | 0.190243902439024 | 0.128390596745027 | NA                | NA                 | NA | NA | NA               | NA                | NA | NA | NA                |\n",
       "| chr1_1735272 | 0.305263157894737 | 0.18796992481203  | 0.161178509532062 | 0.163669064748201 | NA                 | NA | NA | NA               | NA                | NA | NA | 0.230769230769231 |\n",
       "| chr1_1735273 | 0.478723404255319 | 0.187032418952618 | 0.281739130434783 | 0.163082437275986 | NA                 | NA | NA | NA               | 0.212230215827338 | NA | NA | 0.230769230769231 |\n",
       "| chr1_8652598 | 0.493506493506494 | NA                | NA                | NA                | NA                 | NA | NA | NA               | NA                | NA | NA | NA                |\n",
       "\n"
      ],
      "text/plain": [
       "             GW08              GW12              GW16_1_3         \n",
       "chr1_1735188 0.563218390804598 0.58994708994709  0.424719101123596\n",
       "chr1_1735236 0.615384615384615 0.470862470862471 0.270833333333333\n",
       "chr1_1735258 0.333333333333333 0.190243902439024 0.128390596745027\n",
       "chr1_1735272 0.305263157894737 0.18796992481203  0.161178509532062\n",
       "chr1_1735273 0.478723404255319 0.187032418952618 0.281739130434783\n",
       "chr1_8652598 0.493506493506494 NA                NA               \n",
       "             GW16_1_4          GW16_1_9           GW19_1_1 GW19_1_2\n",
       "chr1_1735188 0.41875           0.194214876033058  NA       NA      \n",
       "chr1_1735236 0.508050089445438 0.0487329434697856 NA       NA      \n",
       "chr1_1735258 NA                NA                 NA       NA      \n",
       "chr1_1735272 0.163669064748201 NA                 NA       NA      \n",
       "chr1_1735273 0.163082437275986 NA                 NA       NA      \n",
       "chr1_8652598 NA                NA                 NA       NA      \n",
       "             GW19_1_3         GW23_1_1          GW23_1_2 GW23_1_3\n",
       "chr1_1735188 0.13953488372093 0.148854961832061 NA       NA      \n",
       "chr1_1735236 0.2              0.135849056603774 NA       NA      \n",
       "chr1_1735258 NA               NA                NA       NA      \n",
       "chr1_1735272 NA               NA                NA       NA      \n",
       "chr1_1735273 NA               0.212230215827338 NA       NA      \n",
       "chr1_8652598 NA               NA                NA       NA      \n",
       "             GW26_1_1         \n",
       "chr1_1735188 0.405737704918033\n",
       "chr1_1735236 0.354014598540146\n",
       "chr1_1735258 NA               \n",
       "chr1_1735272 0.230769230769231\n",
       "chr1_1735273 0.230769230769231\n",
       "chr1_8652598 NA               "
      ]
     },
     "metadata": {},
     "output_type": "display_data"
    },
    {
     "data": {
      "text/html": [
       "<table class=\"dataframe\">\n",
       "<caption>A data.frame: 6 × 12</caption>\n",
       "<thead>\n",
       "\t<tr><th></th><th scope=col>GW08</th><th scope=col>GW12</th><th scope=col>GW16_1_3</th><th scope=col>GW16_1_4</th><th scope=col>GW16_1_9</th><th scope=col>GW19_1_1</th><th scope=col>GW19_1_2</th><th scope=col>GW19_1_3</th><th scope=col>GW23_1_1</th><th scope=col>GW23_1_2</th><th scope=col>GW23_1_3</th><th scope=col>GW26_1_1</th></tr>\n",
       "\t<tr><th></th><th scope=col>&lt;chr&gt;</th><th scope=col>&lt;chr&gt;</th><th scope=col>&lt;chr&gt;</th><th scope=col>&lt;chr&gt;</th><th scope=col>&lt;chr&gt;</th><th scope=col>&lt;chr&gt;</th><th scope=col>&lt;chr&gt;</th><th scope=col>&lt;chr&gt;</th><th scope=col>&lt;chr&gt;</th><th scope=col>&lt;chr&gt;</th><th scope=col>&lt;chr&gt;</th><th scope=col>&lt;chr&gt;</th></tr>\n",
       "</thead>\n",
       "<tbody>\n",
       "\t<tr><th scope=row>chr1_1735188</th><td>0.563218390804598</td><td>0.58994708994709 </td><td>0.424719101123596</td><td>0.41875          </td><td>0.194214876033058 </td><td>0</td><td>0</td><td>0.13953488372093</td><td>0.148854961832061</td><td>0</td><td>0</td><td>0.405737704918033</td></tr>\n",
       "\t<tr><th scope=row>chr1_1735236</th><td>0.615384615384615</td><td>0.470862470862471</td><td>0.270833333333333</td><td>0.508050089445438</td><td>0.0487329434697856</td><td>0</td><td>0</td><td>0.2             </td><td>0.135849056603774</td><td>0</td><td>0</td><td>0.354014598540146</td></tr>\n",
       "\t<tr><th scope=row>chr1_1735258</th><td>0.333333333333333</td><td>0.190243902439024</td><td>0.128390596745027</td><td>0                </td><td>0                 </td><td>0</td><td>0</td><td>0               </td><td>0                </td><td>0</td><td>0</td><td>0                </td></tr>\n",
       "\t<tr><th scope=row>chr1_1735272</th><td>0.305263157894737</td><td>0.18796992481203 </td><td>0.161178509532062</td><td>0.163669064748201</td><td>0                 </td><td>0</td><td>0</td><td>0               </td><td>0                </td><td>0</td><td>0</td><td>0.230769230769231</td></tr>\n",
       "\t<tr><th scope=row>chr1_1735273</th><td>0.478723404255319</td><td>0.187032418952618</td><td>0.281739130434783</td><td>0.163082437275986</td><td>0                 </td><td>0</td><td>0</td><td>0               </td><td>0.212230215827338</td><td>0</td><td>0</td><td>0.230769230769231</td></tr>\n",
       "\t<tr><th scope=row>chr1_8652598</th><td>0.493506493506494</td><td>0                </td><td>0                </td><td>0                </td><td>0                 </td><td>0</td><td>0</td><td>0               </td><td>0                </td><td>0</td><td>0</td><td>0                </td></tr>\n",
       "</tbody>\n",
       "</table>\n"
      ],
      "text/latex": [
       "A data.frame: 6 × 12\n",
       "\\begin{tabular}{r|llllllllllll}\n",
       "  & GW08 & GW12 & GW16\\_1\\_3 & GW16\\_1\\_4 & GW16\\_1\\_9 & GW19\\_1\\_1 & GW19\\_1\\_2 & GW19\\_1\\_3 & GW23\\_1\\_1 & GW23\\_1\\_2 & GW23\\_1\\_3 & GW26\\_1\\_1\\\\\n",
       "  & <chr> & <chr> & <chr> & <chr> & <chr> & <chr> & <chr> & <chr> & <chr> & <chr> & <chr> & <chr>\\\\\n",
       "\\hline\n",
       "\tchr1\\_1735188 & 0.563218390804598 & 0.58994708994709  & 0.424719101123596 & 0.41875           & 0.194214876033058  & 0 & 0 & 0.13953488372093 & 0.148854961832061 & 0 & 0 & 0.405737704918033\\\\\n",
       "\tchr1\\_1735236 & 0.615384615384615 & 0.470862470862471 & 0.270833333333333 & 0.508050089445438 & 0.0487329434697856 & 0 & 0 & 0.2              & 0.135849056603774 & 0 & 0 & 0.354014598540146\\\\\n",
       "\tchr1\\_1735258 & 0.333333333333333 & 0.190243902439024 & 0.128390596745027 & 0                 & 0                  & 0 & 0 & 0                & 0                 & 0 & 0 & 0                \\\\\n",
       "\tchr1\\_1735272 & 0.305263157894737 & 0.18796992481203  & 0.161178509532062 & 0.163669064748201 & 0                  & 0 & 0 & 0                & 0                 & 0 & 0 & 0.230769230769231\\\\\n",
       "\tchr1\\_1735273 & 0.478723404255319 & 0.187032418952618 & 0.281739130434783 & 0.163082437275986 & 0                  & 0 & 0 & 0                & 0.212230215827338 & 0 & 0 & 0.230769230769231\\\\\n",
       "\tchr1\\_8652598 & 0.493506493506494 & 0                 & 0                 & 0                 & 0                  & 0 & 0 & 0                & 0                 & 0 & 0 & 0                \\\\\n",
       "\\end{tabular}\n"
      ],
      "text/markdown": [
       "\n",
       "A data.frame: 6 × 12\n",
       "\n",
       "| <!--/--> | GW08 &lt;chr&gt; | GW12 &lt;chr&gt; | GW16_1_3 &lt;chr&gt; | GW16_1_4 &lt;chr&gt; | GW16_1_9 &lt;chr&gt; | GW19_1_1 &lt;chr&gt; | GW19_1_2 &lt;chr&gt; | GW19_1_3 &lt;chr&gt; | GW23_1_1 &lt;chr&gt; | GW23_1_2 &lt;chr&gt; | GW23_1_3 &lt;chr&gt; | GW26_1_1 &lt;chr&gt; |\n",
       "|---|---|---|---|---|---|---|---|---|---|---|---|---|\n",
       "| chr1_1735188 | 0.563218390804598 | 0.58994708994709  | 0.424719101123596 | 0.41875           | 0.194214876033058  | 0 | 0 | 0.13953488372093 | 0.148854961832061 | 0 | 0 | 0.405737704918033 |\n",
       "| chr1_1735236 | 0.615384615384615 | 0.470862470862471 | 0.270833333333333 | 0.508050089445438 | 0.0487329434697856 | 0 | 0 | 0.2              | 0.135849056603774 | 0 | 0 | 0.354014598540146 |\n",
       "| chr1_1735258 | 0.333333333333333 | 0.190243902439024 | 0.128390596745027 | 0                 | 0                  | 0 | 0 | 0                | 0                 | 0 | 0 | 0                 |\n",
       "| chr1_1735272 | 0.305263157894737 | 0.18796992481203  | 0.161178509532062 | 0.163669064748201 | 0                  | 0 | 0 | 0                | 0                 | 0 | 0 | 0.230769230769231 |\n",
       "| chr1_1735273 | 0.478723404255319 | 0.187032418952618 | 0.281739130434783 | 0.163082437275986 | 0                  | 0 | 0 | 0                | 0.212230215827338 | 0 | 0 | 0.230769230769231 |\n",
       "| chr1_8652598 | 0.493506493506494 | 0                 | 0                 | 0                 | 0                  | 0 | 0 | 0                | 0                 | 0 | 0 | 0                 |\n",
       "\n"
      ],
      "text/plain": [
       "             GW08              GW12              GW16_1_3         \n",
       "chr1_1735188 0.563218390804598 0.58994708994709  0.424719101123596\n",
       "chr1_1735236 0.615384615384615 0.470862470862471 0.270833333333333\n",
       "chr1_1735258 0.333333333333333 0.190243902439024 0.128390596745027\n",
       "chr1_1735272 0.305263157894737 0.18796992481203  0.161178509532062\n",
       "chr1_1735273 0.478723404255319 0.187032418952618 0.281739130434783\n",
       "chr1_8652598 0.493506493506494 0                 0                \n",
       "             GW16_1_4          GW16_1_9           GW19_1_1 GW19_1_2\n",
       "chr1_1735188 0.41875           0.194214876033058  0        0       \n",
       "chr1_1735236 0.508050089445438 0.0487329434697856 0        0       \n",
       "chr1_1735258 0                 0                  0        0       \n",
       "chr1_1735272 0.163669064748201 0                  0        0       \n",
       "chr1_1735273 0.163082437275986 0                  0        0       \n",
       "chr1_8652598 0                 0                  0        0       \n",
       "             GW19_1_3         GW23_1_1          GW23_1_2 GW23_1_3\n",
       "chr1_1735188 0.13953488372093 0.148854961832061 0        0       \n",
       "chr1_1735236 0.2              0.135849056603774 0        0       \n",
       "chr1_1735258 0                0                 0        0       \n",
       "chr1_1735272 0                0                 0        0       \n",
       "chr1_1735273 0                0.212230215827338 0        0       \n",
       "chr1_8652598 0                0                 0        0       \n",
       "             GW26_1_1         \n",
       "chr1_1735188 0.405737704918033\n",
       "chr1_1735236 0.354014598540146\n",
       "chr1_1735258 0                \n",
       "chr1_1735272 0.230769230769231\n",
       "chr1_1735273 0.230769230769231\n",
       "chr1_8652598 0                "
      ]
     },
     "metadata": {},
     "output_type": "display_data"
    }
   ],
   "source": [
    "data <- as.data.frame(wide_df)\n",
    "rownames(data) <- data$all_site\n",
    "\n",
    "data <- data[,-1]\n",
    "head(data)\n",
    "data[is.na(data)] <- 0\n",
    "# 查看转换后的数据框\n",
    "head(data)"
   ]
  },
  {
   "cell_type": "code",
   "execution_count": 13,
   "metadata": {
    "vscode": {
     "languageId": "r"
    }
   },
   "outputs": [
    {
     "data": {
      "text/html": [
       "38048"
      ],
      "text/latex": [
       "38048"
      ],
      "text/markdown": [
       "38048"
      ],
      "text/plain": [
       "[1] 38048"
      ]
     },
     "metadata": {},
     "output_type": "display_data"
    }
   ],
   "source": [
    "length(pure_df$all_site)"
   ]
  },
  {
   "cell_type": "code",
   "execution_count": 14,
   "metadata": {
    "vscode": {
     "languageId": "r"
    }
   },
   "outputs": [],
   "source": [
    "p_values <- c()\n",
    "for(site in rownames(data)){\n",
    "    sub_sample_data <- as.data.frame(cbind(c('GW08','GW12',rep('GW16',3),rep('GW19',3),rep('GW23',3),'GW26'),colnames(data), as.numeric(data[site,])))\n",
    "    colnames(sub_sample_data) <- c(\"group\",\"sample\",'editing_rate')\n",
    "    sub_sample_data$group <- factor(sub_sample_data$group)\n",
    "    #head(sub_sample_data)\n",
    "    result <- aov(editing_rate~group,sub_sample_data)\n",
    "    p_value <- summary(result)[[1]][[\"Pr(>F)\"]][1]\n",
    "    p_values <- c(p_values,p_value) \n",
    "}\n"
   ]
  },
  {
   "cell_type": "code",
   "execution_count": 15,
   "metadata": {
    "vscode": {
     "languageId": "r"
    }
   },
   "outputs": [
    {
     "data": {
      "text/plain": [
       "\n",
       "FALSE  TRUE \n",
       "16216  8077 "
      ]
     },
     "metadata": {},
     "output_type": "display_data"
    },
    {
     "data": {
      "text/html": [
       "24293"
      ],
      "text/latex": [
       "24293"
      ],
      "text/markdown": [
       "24293"
      ],
      "text/plain": [
       "[1] 24293"
      ]
     },
     "metadata": {},
     "output_type": "display_data"
    }
   ],
   "source": [
    "fdr_adjusted_p_values <- p.adjust(p_values, method = \"BH\")\n",
    "table(fdr_adjusted_p_values < 0.05)\n",
    "length(fdr_adjusted_p_values)"
   ]
  },
  {
   "cell_type": "code",
   "execution_count": 16,
   "metadata": {
    "vscode": {
     "languageId": "r"
    }
   },
   "outputs": [
    {
     "data": {
      "text/html": [
       "<style>\n",
       ".list-inline {list-style: none; margin:0; padding: 0}\n",
       ".list-inline>li {display: inline-block}\n",
       ".list-inline>li:not(:last-child)::after {content: \"\\00b7\"; padding: 0 .5ex}\n",
       "</style>\n",
       "<ol class=list-inline><li>8077</li><li>12</li></ol>\n"
      ],
      "text/latex": [
       "\\begin{enumerate*}\n",
       "\\item 8077\n",
       "\\item 12\n",
       "\\end{enumerate*}\n"
      ],
      "text/markdown": [
       "1. 8077\n",
       "2. 12\n",
       "\n",
       "\n"
      ],
      "text/plain": [
       "[1] 8077   12"
      ]
     },
     "metadata": {},
     "output_type": "display_data"
    }
   ],
   "source": [
    "#对差异编辑的位点进行热图展示\n",
    "de_data <- data[rownames(data)[fdr_adjusted_p_values < 0.05],]\n",
    "dim(de_data)"
   ]
  },
  {
   "cell_type": "code",
   "execution_count": 17,
   "metadata": {
    "vscode": {
     "languageId": "r"
    }
   },
   "outputs": [],
   "source": [
    "de_data$GW08 <- as.numeric(de_data$GW08)\n",
    "de_data$GW12 <- as.numeric(de_data$GW12)\n",
    "de_data$GW16_1_3 <- as.numeric(de_data$GW16_1_3)\n",
    "de_data$GW16_1_4 <- as.numeric(de_data$GW16_1_4)\n",
    "de_data$GW16_1_9 <- as.numeric(de_data$GW16_1_9)\n",
    "de_data$GW19_1_1 <- as.numeric(de_data$GW19_1_1)\n",
    "de_data$GW19_1_2 <- as.numeric(de_data$GW19_1_2)\n",
    "de_data$GW19_1_3 <- as.numeric(de_data$GW19_1_3)\n",
    "de_data$GW23_1_1 <- as.numeric(de_data$GW23_1_1)\n",
    "de_data$GW23_1_2 <- as.numeric(de_data$GW23_1_2)\n",
    "de_data$GW23_1_3 <- as.numeric(de_data$GW23_1_3)\n",
    "de_data$GW26_1_1 <- as.numeric(de_data$GW26_1_1)\n",
    "\n"
   ]
  },
  {
   "cell_type": "code",
   "execution_count": 18,
   "metadata": {
    "vscode": {
     "languageId": "r"
    }
   },
   "outputs": [
    {
     "data": {
      "text/html": [
       "<table class=\"dataframe\">\n",
       "<caption>A data.frame: 6 × 14</caption>\n",
       "<thead>\n",
       "\t<tr><th></th><th scope=col>GW08</th><th scope=col>GW12</th><th scope=col>GW16_1_3</th><th scope=col>GW16_1_4</th><th scope=col>GW16_1_9</th><th scope=col>GW19_1_1</th><th scope=col>GW19_1_2</th><th scope=col>GW19_1_3</th><th scope=col>GW23_1_1</th><th scope=col>GW23_1_2</th><th scope=col>GW23_1_3</th><th scope=col>GW26_1_1</th><th scope=col>p_value</th><th scope=col>adjust_p</th></tr>\n",
       "\t<tr><th></th><th scope=col>&lt;chr&gt;</th><th scope=col>&lt;chr&gt;</th><th scope=col>&lt;chr&gt;</th><th scope=col>&lt;chr&gt;</th><th scope=col>&lt;chr&gt;</th><th scope=col>&lt;chr&gt;</th><th scope=col>&lt;chr&gt;</th><th scope=col>&lt;chr&gt;</th><th scope=col>&lt;chr&gt;</th><th scope=col>&lt;chr&gt;</th><th scope=col>&lt;chr&gt;</th><th scope=col>&lt;chr&gt;</th><th scope=col>&lt;dbl&gt;</th><th scope=col>&lt;dbl&gt;</th></tr>\n",
       "</thead>\n",
       "<tbody>\n",
       "\t<tr><th scope=row>chr1_1735188</th><td>0.563218390804598</td><td>0.58994708994709 </td><td>0.424719101123596</td><td>0.41875          </td><td>0.194214876033058 </td><td>0</td><td>0</td><td>0.13953488372093</td><td>0.148854961832061</td><td>0</td><td>0</td><td>0.405737704918033</td><td>7.479735e-03</td><td>2.291654e-02</td></tr>\n",
       "\t<tr><th scope=row>chr1_1735236</th><td>0.615384615384615</td><td>0.470862470862471</td><td>0.270833333333333</td><td>0.508050089445438</td><td>0.0487329434697856</td><td>0</td><td>0</td><td>0.2             </td><td>0.135849056603774</td><td>0</td><td>0</td><td>0.354014598540146</td><td>8.449363e-02</td><td>2.379003e-01</td></tr>\n",
       "\t<tr><th scope=row>chr1_1735258</th><td>0.333333333333333</td><td>0.190243902439024</td><td>0.128390596745027</td><td>0                </td><td>0                 </td><td>0</td><td>0</td><td>0               </td><td>0                </td><td>0</td><td>0</td><td>0                </td><td>3.727893e-03</td><td>1.156156e-02</td></tr>\n",
       "\t<tr><th scope=row>chr1_1735272</th><td>0.305263157894737</td><td>0.18796992481203 </td><td>0.161178509532062</td><td>0.163669064748201</td><td>0                 </td><td>0</td><td>0</td><td>0               </td><td>0                </td><td>0</td><td>0</td><td>0.230769230769231</td><td>1.059590e-02</td><td>3.223219e-02</td></tr>\n",
       "\t<tr><th scope=row>chr1_1735273</th><td>0.478723404255319</td><td>0.187032418952618</td><td>0.281739130434783</td><td>0.163082437275986</td><td>0                 </td><td>0</td><td>0</td><td>0               </td><td>0.212230215827338</td><td>0</td><td>0</td><td>0.230769230769231</td><td>8.517898e-02</td><td>2.397466e-01</td></tr>\n",
       "\t<tr><th scope=row>chr1_8652598</th><td>0.493506493506494</td><td>0                </td><td>0                </td><td>0                </td><td>0                 </td><td>0</td><td>0</td><td>0               </td><td>0                </td><td>0</td><td>0</td><td>0                </td><td>2.596513e-94</td><td>9.071925e-94</td></tr>\n",
       "</tbody>\n",
       "</table>\n"
      ],
      "text/latex": [
       "A data.frame: 6 × 14\n",
       "\\begin{tabular}{r|llllllllllllll}\n",
       "  & GW08 & GW12 & GW16\\_1\\_3 & GW16\\_1\\_4 & GW16\\_1\\_9 & GW19\\_1\\_1 & GW19\\_1\\_2 & GW19\\_1\\_3 & GW23\\_1\\_1 & GW23\\_1\\_2 & GW23\\_1\\_3 & GW26\\_1\\_1 & p\\_value & adjust\\_p\\\\\n",
       "  & <chr> & <chr> & <chr> & <chr> & <chr> & <chr> & <chr> & <chr> & <chr> & <chr> & <chr> & <chr> & <dbl> & <dbl>\\\\\n",
       "\\hline\n",
       "\tchr1\\_1735188 & 0.563218390804598 & 0.58994708994709  & 0.424719101123596 & 0.41875           & 0.194214876033058  & 0 & 0 & 0.13953488372093 & 0.148854961832061 & 0 & 0 & 0.405737704918033 & 7.479735e-03 & 2.291654e-02\\\\\n",
       "\tchr1\\_1735236 & 0.615384615384615 & 0.470862470862471 & 0.270833333333333 & 0.508050089445438 & 0.0487329434697856 & 0 & 0 & 0.2              & 0.135849056603774 & 0 & 0 & 0.354014598540146 & 8.449363e-02 & 2.379003e-01\\\\\n",
       "\tchr1\\_1735258 & 0.333333333333333 & 0.190243902439024 & 0.128390596745027 & 0                 & 0                  & 0 & 0 & 0                & 0                 & 0 & 0 & 0                 & 3.727893e-03 & 1.156156e-02\\\\\n",
       "\tchr1\\_1735272 & 0.305263157894737 & 0.18796992481203  & 0.161178509532062 & 0.163669064748201 & 0                  & 0 & 0 & 0                & 0                 & 0 & 0 & 0.230769230769231 & 1.059590e-02 & 3.223219e-02\\\\\n",
       "\tchr1\\_1735273 & 0.478723404255319 & 0.187032418952618 & 0.281739130434783 & 0.163082437275986 & 0                  & 0 & 0 & 0                & 0.212230215827338 & 0 & 0 & 0.230769230769231 & 8.517898e-02 & 2.397466e-01\\\\\n",
       "\tchr1\\_8652598 & 0.493506493506494 & 0                 & 0                 & 0                 & 0                  & 0 & 0 & 0                & 0                 & 0 & 0 & 0                 & 2.596513e-94 & 9.071925e-94\\\\\n",
       "\\end{tabular}\n"
      ],
      "text/markdown": [
       "\n",
       "A data.frame: 6 × 14\n",
       "\n",
       "| <!--/--> | GW08 &lt;chr&gt; | GW12 &lt;chr&gt; | GW16_1_3 &lt;chr&gt; | GW16_1_4 &lt;chr&gt; | GW16_1_9 &lt;chr&gt; | GW19_1_1 &lt;chr&gt; | GW19_1_2 &lt;chr&gt; | GW19_1_3 &lt;chr&gt; | GW23_1_1 &lt;chr&gt; | GW23_1_2 &lt;chr&gt; | GW23_1_3 &lt;chr&gt; | GW26_1_1 &lt;chr&gt; | p_value &lt;dbl&gt; | adjust_p &lt;dbl&gt; |\n",
       "|---|---|---|---|---|---|---|---|---|---|---|---|---|---|---|\n",
       "| chr1_1735188 | 0.563218390804598 | 0.58994708994709  | 0.424719101123596 | 0.41875           | 0.194214876033058  | 0 | 0 | 0.13953488372093 | 0.148854961832061 | 0 | 0 | 0.405737704918033 | 7.479735e-03 | 2.291654e-02 |\n",
       "| chr1_1735236 | 0.615384615384615 | 0.470862470862471 | 0.270833333333333 | 0.508050089445438 | 0.0487329434697856 | 0 | 0 | 0.2              | 0.135849056603774 | 0 | 0 | 0.354014598540146 | 8.449363e-02 | 2.379003e-01 |\n",
       "| chr1_1735258 | 0.333333333333333 | 0.190243902439024 | 0.128390596745027 | 0                 | 0                  | 0 | 0 | 0                | 0                 | 0 | 0 | 0                 | 3.727893e-03 | 1.156156e-02 |\n",
       "| chr1_1735272 | 0.305263157894737 | 0.18796992481203  | 0.161178509532062 | 0.163669064748201 | 0                  | 0 | 0 | 0                | 0                 | 0 | 0 | 0.230769230769231 | 1.059590e-02 | 3.223219e-02 |\n",
       "| chr1_1735273 | 0.478723404255319 | 0.187032418952618 | 0.281739130434783 | 0.163082437275986 | 0                  | 0 | 0 | 0                | 0.212230215827338 | 0 | 0 | 0.230769230769231 | 8.517898e-02 | 2.397466e-01 |\n",
       "| chr1_8652598 | 0.493506493506494 | 0                 | 0                 | 0                 | 0                  | 0 | 0 | 0                | 0                 | 0 | 0 | 0                 | 2.596513e-94 | 9.071925e-94 |\n",
       "\n"
      ],
      "text/plain": [
       "             GW08              GW12              GW16_1_3         \n",
       "chr1_1735188 0.563218390804598 0.58994708994709  0.424719101123596\n",
       "chr1_1735236 0.615384615384615 0.470862470862471 0.270833333333333\n",
       "chr1_1735258 0.333333333333333 0.190243902439024 0.128390596745027\n",
       "chr1_1735272 0.305263157894737 0.18796992481203  0.161178509532062\n",
       "chr1_1735273 0.478723404255319 0.187032418952618 0.281739130434783\n",
       "chr1_8652598 0.493506493506494 0                 0                \n",
       "             GW16_1_4          GW16_1_9           GW19_1_1 GW19_1_2\n",
       "chr1_1735188 0.41875           0.194214876033058  0        0       \n",
       "chr1_1735236 0.508050089445438 0.0487329434697856 0        0       \n",
       "chr1_1735258 0                 0                  0        0       \n",
       "chr1_1735272 0.163669064748201 0                  0        0       \n",
       "chr1_1735273 0.163082437275986 0                  0        0       \n",
       "chr1_8652598 0                 0                  0        0       \n",
       "             GW19_1_3         GW23_1_1          GW23_1_2 GW23_1_3\n",
       "chr1_1735188 0.13953488372093 0.148854961832061 0        0       \n",
       "chr1_1735236 0.2              0.135849056603774 0        0       \n",
       "chr1_1735258 0                0                 0        0       \n",
       "chr1_1735272 0                0                 0        0       \n",
       "chr1_1735273 0                0.212230215827338 0        0       \n",
       "chr1_8652598 0                0                 0        0       \n",
       "             GW26_1_1          p_value      adjust_p    \n",
       "chr1_1735188 0.405737704918033 7.479735e-03 2.291654e-02\n",
       "chr1_1735236 0.354014598540146 8.449363e-02 2.379003e-01\n",
       "chr1_1735258 0                 3.727893e-03 1.156156e-02\n",
       "chr1_1735272 0.230769230769231 1.059590e-02 3.223219e-02\n",
       "chr1_1735273 0.230769230769231 8.517898e-02 2.397466e-01\n",
       "chr1_8652598 0                 2.596513e-94 9.071925e-94"
      ]
     },
     "metadata": {},
     "output_type": "display_data"
    }
   ],
   "source": [
    "all_edited_sites_with_p_values <- data\n",
    "all_edited_sites_with_p_values$p_value <- p_values\n",
    "all_edited_sites_with_p_values$adjust_p <- fdr_adjusted_p_values\n",
    "head(all_edited_sites_with_p_values)"
   ]
  },
  {
   "cell_type": "code",
   "execution_count": 52,
   "metadata": {
    "vscode": {
     "languageId": "r"
    }
   },
   "outputs": [],
   "source": [
    "write.table(all_edited_sites_with_p_values,\"/disk1/wenqing/tmp_data/PFC_s2/all_analysis_result/de_editing/Neurons/all_edited_sites_with_p_values.txt\",quote=F,sep='\\t')"
   ]
  },
  {
   "cell_type": "code",
   "execution_count": 19,
   "metadata": {
    "vscode": {
     "languageId": "r"
    }
   },
   "outputs": [
    {
     "data": {
      "text/html": [
       "<table class=\"dataframe\">\n",
       "<caption>A data.frame: 12 × 1</caption>\n",
       "<thead>\n",
       "\t<tr><th></th><th scope=col>stages</th></tr>\n",
       "\t<tr><th></th><th scope=col>&lt;chr&gt;</th></tr>\n",
       "</thead>\n",
       "<tbody>\n",
       "\t<tr><th scope=row>GW08</th><td>week8 </td></tr>\n",
       "\t<tr><th scope=row>GW12</th><td>week12</td></tr>\n",
       "\t<tr><th scope=row>GW16_1_3</th><td>week16</td></tr>\n",
       "\t<tr><th scope=row>GW16_1_4</th><td>week16</td></tr>\n",
       "\t<tr><th scope=row>GW16_1_9</th><td>week16</td></tr>\n",
       "\t<tr><th scope=row>GW19_1_1</th><td>week19</td></tr>\n",
       "\t<tr><th scope=row>GW19_1_2</th><td>week19</td></tr>\n",
       "\t<tr><th scope=row>GW19_1_3</th><td>week19</td></tr>\n",
       "\t<tr><th scope=row>GW23_1_1</th><td>week23</td></tr>\n",
       "\t<tr><th scope=row>GW23_1_2</th><td>week23</td></tr>\n",
       "\t<tr><th scope=row>GW23_1_3</th><td>week23</td></tr>\n",
       "\t<tr><th scope=row>GW26_1_1</th><td>week26</td></tr>\n",
       "</tbody>\n",
       "</table>\n"
      ],
      "text/latex": [
       "A data.frame: 12 × 1\n",
       "\\begin{tabular}{r|l}\n",
       "  & stages\\\\\n",
       "  & <chr>\\\\\n",
       "\\hline\n",
       "\tGW08 & week8 \\\\\n",
       "\tGW12 & week12\\\\\n",
       "\tGW16\\_1\\_3 & week16\\\\\n",
       "\tGW16\\_1\\_4 & week16\\\\\n",
       "\tGW16\\_1\\_9 & week16\\\\\n",
       "\tGW19\\_1\\_1 & week19\\\\\n",
       "\tGW19\\_1\\_2 & week19\\\\\n",
       "\tGW19\\_1\\_3 & week19\\\\\n",
       "\tGW23\\_1\\_1 & week23\\\\\n",
       "\tGW23\\_1\\_2 & week23\\\\\n",
       "\tGW23\\_1\\_3 & week23\\\\\n",
       "\tGW26\\_1\\_1 & week26\\\\\n",
       "\\end{tabular}\n"
      ],
      "text/markdown": [
       "\n",
       "A data.frame: 12 × 1\n",
       "\n",
       "| <!--/--> | stages &lt;chr&gt; |\n",
       "|---|---|\n",
       "| GW08 | week8  |\n",
       "| GW12 | week12 |\n",
       "| GW16_1_3 | week16 |\n",
       "| GW16_1_4 | week16 |\n",
       "| GW16_1_9 | week16 |\n",
       "| GW19_1_1 | week19 |\n",
       "| GW19_1_2 | week19 |\n",
       "| GW19_1_3 | week19 |\n",
       "| GW23_1_1 | week23 |\n",
       "| GW23_1_2 | week23 |\n",
       "| GW23_1_3 | week23 |\n",
       "| GW26_1_1 | week26 |\n",
       "\n"
      ],
      "text/plain": [
       "         stages\n",
       "GW08     week8 \n",
       "GW12     week12\n",
       "GW16_1_3 week16\n",
       "GW16_1_4 week16\n",
       "GW16_1_9 week16\n",
       "GW19_1_1 week19\n",
       "GW19_1_2 week19\n",
       "GW19_1_3 week19\n",
       "GW23_1_1 week23\n",
       "GW23_1_2 week23\n",
       "GW23_1_3 week23\n",
       "GW26_1_1 week26"
      ]
     },
     "metadata": {},
     "output_type": "display_data"
    }
   ],
   "source": [
    "my_palette <- colorRampPalette(c(\"green\", \"red\"))(n = 100)  # 创建自定义颜色梯度，100级颜色 \n",
    "annotation_col = data.frame(\n",
    "  stages = c('week8','week12',rep('week16',3),rep('week19',3),rep('week23',3),'week26')\n",
    "  #color = c('blue','yellow',rep('purple',3),rep('red',3),rep('orange',3),'black')\n",
    ")\n",
    "rownames(annotation_col) = colnames(de_data)\n",
    "annotation_col\n",
    "color_mapping <- list(stages=c(week8 = \"blue\", week12 = \"yellow\", week16 = \"purple\", week19 = 'red', week23 = 'orange', week26 = 'black')) "
   ]
  },
  {
   "cell_type": "code",
   "execution_count": 20,
   "metadata": {
    "vscode": {
     "languageId": "r"
    }
   },
   "outputs": [
    {
     "data": {
      "image/png": "[encoded data removed]",
      "text/plain": [
       "plot without title"
      ]
     },
     "metadata": {
      "image/png": {
       "height": 420,
       "width": 420
      }
     },
     "output_type": "display_data"
    }
   ],
   "source": [
    "#pdf(\"/disk1/wenqing/tmp_data/PFC_s2/all_analysis_result/de_editing/de_edited_sites.pdf\")\n",
    "pheatmap_result <- pheatmap(de_data,\n",
    "         cluster_cols = FALSE,\n",
    "         cluster_rows = TRUE,\n",
    "         show_colnames = TRUE,\n",
    "         show_rownames = FALSE,\n",
    "         #cellheight = 0.01,\n",
    "         color = my_palette,\n",
    "         #fontsize_row = 6,          # 行标签字体大小\n",
    "         fontsize_col = 13,          # 列标签字体大小\n",
    "         border_color = \"white\",    # 边框颜色\n",
    "         cell_border_color = \"grey\", # 单元格边框颜色\n",
    "         #alpha = 0.8,             # 颜色透明度\n",
    "         treeheight_row = 0,\n",
    "         annotation_col = annotation_col,\n",
    "         annotation_colors =  color_mapping,\n",
    "         annotation_legend = FALSE, \n",
    "         annotation_names_col = TRUE,# 添加列注释\n",
    "         main = \"Differently edited RES along developmental stages\",\n",
    "         #main = \"Customized Heatmap\", # 图表标题\n",
    "         #legend_breaks = seq(min(de_data), max(de_data), length.out = 5), # 图例刻度\n",
    "         legend_labels = 'Editing rate' # 图例标签\n",
    ")\n",
    "#dev.off()\n",
    "#mtext(\"My X-axis Label\", side = 1, line = 2.5, cex = 1.2) "
   ]
  },
  {
   "cell_type": "code",
   "execution_count": null,
   "metadata": {
    "vscode": {
     "languageId": "r"
    }
   },
   "outputs": [],
   "source": [
    "######对差异编辑位点分簇\n",
    "# 加载必要的库\n",
    "library(cluster) # 可能需要安装这个包来进行聚类分析\n",
    "library(dendextend)\n",
    "library(ape)\n",
    "library(factoextra)"
   ]
  },
  {
   "cell_type": "code",
   "execution_count": 23,
   "metadata": {
    "vscode": {
     "languageId": "r"
    }
   },
   "outputs": [
    {
     "data": {
      "text/html": [
       "<style>\n",
       ".list-inline {list-style: none; margin:0; padding: 0}\n",
       ".list-inline>li {display: inline-block}\n",
       ".list-inline>li:not(:last-child)::after {content: \"\\00b7\"; padding: 0 .5ex}\n",
       "</style>\n",
       "<ol class=list-inline><li>9347</li><li>3</li></ol>\n"
      ],
      "text/latex": [
       "\\begin{enumerate*}\n",
       "\\item 9347\n",
       "\\item 3\n",
       "\\end{enumerate*}\n"
      ],
      "text/markdown": [
       "1. 9347\n",
       "2. 3\n",
       "\n",
       "\n"
      ],
      "text/plain": [
       "[1] 9347    3"
      ]
     },
     "metadata": {},
     "output_type": "display_data"
    }
   ],
   "source": [
    "#wide_df <- pivot_wider(de_data, names_from = \"sample_info\", values_from = \"editing_level\")\n",
    "edit_sites_data <- df[which(df$all_site %in% rownames(de_data)),]\n",
    "dim(edit_sites_data)\n",
    "edit_sites_data$editing_level <- as.numeric(edit_sites_data$editing_level)"
   ]
  },
  {
   "cell_type": "code",
   "execution_count": 27,
   "metadata": {
    "vscode": {
     "languageId": "r"
    }
   },
   "outputs": [],
   "source": [
    "dist_obj <- dist(edit_sites_data$editing_level,method = \"euclidean\")\n",
    "hclust_obj <- hclust(dist_obj,method='ward.D2')\n",
    "\n",
    "dend <- edit_sites_data$editing_level %>%\n",
    "  dist(method = \"euclidean\") %>%\n",
    "  hclust() %>%\n",
    "  as.phylo()\n",
    "\n"
   ]
  },
  {
   "cell_type": "code",
   "execution_count": 25,
   "metadata": {
    "vscode": {
     "languageId": "r"
    }
   },
   "outputs": [
    {
     "data": {
      "image/png": "[encoded data removed]",
      "text/plain": [
       "plot without title"
      ]
     },
     "metadata": {
      "image/png": {
       "height": 420,
       "width": 420
      }
     },
     "output_type": "display_data"
    },
    {
     "data": {
      "image/png": "[encoded data removed]",
      "text/plain": [
       "plot without title"
      ]
     },
     "metadata": {
      "image/png": {
       "height": 420,
       "width": 420
      }
     },
     "output_type": "display_data"
    }
   ],
   "source": [
    "# 步骤3: 确定最佳聚类数\n",
    "# 绘制树状图\n",
    "#dend <- as.phylo.dendrogram(hclust_obj)\n",
    "plot(dend)\n",
    "# 使用肘部法则确定最佳聚类数\n",
    "# 计算并绘制不同聚类数目的总内平方和\n",
    "# 注意：这个方法不一定总是能找到最优解，更多是作为一个启发式方法\n",
    "fviz_nbclust(as.matrix(edit_sites_data$editing_level), FUN = hcut,hclust_method = \"ward.D2\", method = \"wss\") +\n",
    "  ggtitle(\"Elbow Method to Determine Optimal Number of Clusters\")\n",
    "\n"
   ]
  },
  {
   "cell_type": "code",
   "execution_count": 35,
   "metadata": {
    "vscode": {
     "languageId": "r"
    }
   },
   "outputs": [
    {
     "data": {
      "text/plain": [
       "clusters\n",
       "   1    2 \n",
       "6196 3151 "
      ]
     },
     "metadata": {},
     "output_type": "display_data"
    }
   ],
   "source": [
    "# 根据以上方法选择一个合适的聚类数目k\n",
    "# 然后切割树状图得到k个簇\n",
    "k <- 2 # 假设通过上述方法确定的最佳聚类数为5\n",
    "clusters <- cutree(hclust_obj, k = k)\n",
    "table(clusters)"
   ]
  },
  {
   "cell_type": "code",
   "execution_count": 36,
   "metadata": {
    "vscode": {
     "languageId": "r"
    }
   },
   "outputs": [
    {
     "data": {
      "text/html": [
       "<table class=\"dataframe\">\n",
       "<caption>A data.frame: 6 × 4</caption>\n",
       "<thead>\n",
       "\t<tr><th></th><th scope=col>all_site</th><th scope=col>sample_info</th><th scope=col>editing_level</th><th scope=col>cluster</th></tr>\n",
       "\t<tr><th></th><th scope=col>&lt;chr&gt;</th><th scope=col>&lt;chr&gt;</th><th scope=col>&lt;dbl&gt;</th><th scope=col>&lt;int&gt;</th></tr>\n",
       "</thead>\n",
       "<tbody>\n",
       "\t<tr><th scope=row>1</th><td>chr1_1735188</td><td>GW08</td><td>0.5632184</td><td>1</td></tr>\n",
       "\t<tr><th scope=row>3</th><td>chr1_1735258</td><td>GW08</td><td>0.3333333</td><td>1</td></tr>\n",
       "\t<tr><th scope=row>4</th><td>chr1_1735272</td><td>GW08</td><td>0.3052632</td><td>1</td></tr>\n",
       "\t<tr><th scope=row>6</th><td>chr1_8652598</td><td>GW08</td><td>0.4935065</td><td>1</td></tr>\n",
       "\t<tr><th scope=row>7</th><td>chr1_8652603</td><td>GW08</td><td>0.4868421</td><td>1</td></tr>\n",
       "\t<tr><th scope=row>8</th><td>chr1_8652684</td><td>GW08</td><td>0.5714286</td><td>1</td></tr>\n",
       "</tbody>\n",
       "</table>\n"
      ],
      "text/latex": [
       "A data.frame: 6 × 4\n",
       "\\begin{tabular}{r|llll}\n",
       "  & all\\_site & sample\\_info & editing\\_level & cluster\\\\\n",
       "  & <chr> & <chr> & <dbl> & <int>\\\\\n",
       "\\hline\n",
       "\t1 & chr1\\_1735188 & GW08 & 0.5632184 & 1\\\\\n",
       "\t3 & chr1\\_1735258 & GW08 & 0.3333333 & 1\\\\\n",
       "\t4 & chr1\\_1735272 & GW08 & 0.3052632 & 1\\\\\n",
       "\t6 & chr1\\_8652598 & GW08 & 0.4935065 & 1\\\\\n",
       "\t7 & chr1\\_8652603 & GW08 & 0.4868421 & 1\\\\\n",
       "\t8 & chr1\\_8652684 & GW08 & 0.5714286 & 1\\\\\n",
       "\\end{tabular}\n"
      ],
      "text/markdown": [
       "\n",
       "A data.frame: 6 × 4\n",
       "\n",
       "| <!--/--> | all_site &lt;chr&gt; | sample_info &lt;chr&gt; | editing_level &lt;dbl&gt; | cluster &lt;int&gt; |\n",
       "|---|---|---|---|---|\n",
       "| 1 | chr1_1735188 | GW08 | 0.5632184 | 1 |\n",
       "| 3 | chr1_1735258 | GW08 | 0.3333333 | 1 |\n",
       "| 4 | chr1_1735272 | GW08 | 0.3052632 | 1 |\n",
       "| 6 | chr1_8652598 | GW08 | 0.4935065 | 1 |\n",
       "| 7 | chr1_8652603 | GW08 | 0.4868421 | 1 |\n",
       "| 8 | chr1_8652684 | GW08 | 0.5714286 | 1 |\n",
       "\n"
      ],
      "text/plain": [
       "  all_site     sample_info editing_level cluster\n",
       "1 chr1_1735188 GW08        0.5632184     1      \n",
       "3 chr1_1735258 GW08        0.3333333     1      \n",
       "4 chr1_1735272 GW08        0.3052632     1      \n",
       "6 chr1_8652598 GW08        0.4935065     1      \n",
       "7 chr1_8652603 GW08        0.4868421     1      \n",
       "8 chr1_8652684 GW08        0.5714286     1      "
      ]
     },
     "metadata": {},
     "output_type": "display_data"
    }
   ],
   "source": [
    "# 输出每个编辑位点所属的簇\n",
    "# print(clusters)\n",
    "edited_sites_wz_cluster <- edit_sites_data\n",
    "edited_sites_wz_cluster$cluster <- clusters\n",
    "head(edited_sites_wz_cluster)\n",
    "write.table(edited_sites_wz_cluster,\"/disk1/wenqing/tmp_data/PFC_s2/all_analysis_result/de_editing/Neurons/de_edited_sites_wz_2clusters.txt\",quote=F,sep='\\t',row.names=F)"
   ]
  },
  {
   "cell_type": "code",
   "execution_count": 32,
   "metadata": {
    "vscode": {
     "languageId": "r"
    }
   },
   "outputs": [],
   "source": [
    "write.table(table(edited_sites_wz_cluster$sample_info,edited_sites_wz_cluster$cluster),\"/disk1/wenqing/tmp_data/PFC_s2/all_analysis_result/de_editing/Neurons/de_edited_sites_num_in_category.txt\",sep='\\t',quote=F)"
   ]
  },
  {
   "cell_type": "code",
   "execution_count": 37,
   "metadata": {
    "vscode": {
     "languageId": "r"
    }
   },
   "outputs": [
    {
     "name": "stderr",
     "output_type": "stream",
     "text": [
      "\u001b[1m\u001b[22m`summarise()` has grouped output by 'sample_info'. You can override using the\n",
      "`.groups` argument.\n"
     ]
    },
    {
     "data": {
      "text/html": [
       "<table class=\"dataframe\">\n",
       "<caption>A grouped_df: 24 × 4</caption>\n",
       "<thead>\n",
       "\t<tr><th scope=col>sample_info</th><th scope=col>cluster</th><th scope=col>avg_editing_level</th><th scope=col>sd_editing_level</th></tr>\n",
       "\t<tr><th scope=col>&lt;chr&gt;</th><th scope=col>&lt;fct&gt;</th><th scope=col>&lt;dbl&gt;</th><th scope=col>&lt;dbl&gt;</th></tr>\n",
       "</thead>\n",
       "<tbody>\n",
       "\t<tr><td>GW08    </td><td>1</td><td>0.2906042</td><td>0.17290231</td></tr>\n",
       "\t<tr><td>GW08    </td><td>2</td><td>0.8580485</td><td>0.11639350</td></tr>\n",
       "\t<tr><td>GW12    </td><td>1</td><td>0.3063311</td><td>0.15937130</td></tr>\n",
       "\t<tr><td>GW12    </td><td>2</td><td>0.8652749</td><td>0.11666850</td></tr>\n",
       "\t<tr><td>GW16_1_3</td><td>1</td><td>0.1754755</td><td>0.12303221</td></tr>\n",
       "\t<tr><td>GW16_1_3</td><td>2</td><td>0.8287469</td><td>0.11697461</td></tr>\n",
       "\t<tr><td>GW16_1_4</td><td>1</td><td>0.1948643</td><td>0.14039751</td></tr>\n",
       "\t<tr><td>GW16_1_4</td><td>2</td><td>0.8167841</td><td>0.11268565</td></tr>\n",
       "\t<tr><td>GW16_1_9</td><td>1</td><td>0.1908944</td><td>0.14512200</td></tr>\n",
       "\t<tr><td>GW16_1_9</td><td>2</td><td>0.8371800</td><td>0.12649469</td></tr>\n",
       "\t<tr><td>GW19_1_1</td><td>1</td><td>0.2160411</td><td>0.17897390</td></tr>\n",
       "\t<tr><td>GW19_1_1</td><td>2</td><td>0.8224949</td><td>0.15674923</td></tr>\n",
       "\t<tr><td>GW19_1_2</td><td>1</td><td>0.3850200</td><td>0.15125723</td></tr>\n",
       "\t<tr><td>GW19_1_2</td><td>2</td><td>0.7894876</td><td>0.22699877</td></tr>\n",
       "\t<tr><td>GW19_1_3</td><td>1</td><td>0.1881470</td><td>0.13719965</td></tr>\n",
       "\t<tr><td>GW19_1_3</td><td>2</td><td>0.7368421</td><td>        NA</td></tr>\n",
       "\t<tr><td>GW23_1_1</td><td>1</td><td>0.2307441</td><td>0.16554816</td></tr>\n",
       "\t<tr><td>GW23_1_1</td><td>2</td><td>0.8715831</td><td>0.11875500</td></tr>\n",
       "\t<tr><td>GW23_1_2</td><td>1</td><td>0.1746304</td><td>0.13099429</td></tr>\n",
       "\t<tr><td>GW23_1_2</td><td>2</td><td>0.8493216</td><td>0.06653769</td></tr>\n",
       "\t<tr><td>GW23_1_3</td><td>1</td><td>0.2136787</td><td>0.13957038</td></tr>\n",
       "\t<tr><td>GW23_1_3</td><td>2</td><td>0.8102831</td><td>0.13707865</td></tr>\n",
       "\t<tr><td>GW26_1_1</td><td>1</td><td>0.3067293</td><td>0.15012435</td></tr>\n",
       "\t<tr><td>GW26_1_1</td><td>2</td><td>0.9007455</td><td>0.10632054</td></tr>\n",
       "</tbody>\n",
       "</table>\n"
      ],
      "text/latex": [
       "A grouped\\_df: 24 × 4\n",
       "\\begin{tabular}{llll}\n",
       " sample\\_info & cluster & avg\\_editing\\_level & sd\\_editing\\_level\\\\\n",
       " <chr> & <fct> & <dbl> & <dbl>\\\\\n",
       "\\hline\n",
       "\t GW08     & 1 & 0.2906042 & 0.17290231\\\\\n",
       "\t GW08     & 2 & 0.8580485 & 0.11639350\\\\\n",
       "\t GW12     & 1 & 0.3063311 & 0.15937130\\\\\n",
       "\t GW12     & 2 & 0.8652749 & 0.11666850\\\\\n",
       "\t GW16\\_1\\_3 & 1 & 0.1754755 & 0.12303221\\\\\n",
       "\t GW16\\_1\\_3 & 2 & 0.8287469 & 0.11697461\\\\\n",
       "\t GW16\\_1\\_4 & 1 & 0.1948643 & 0.14039751\\\\\n",
       "\t GW16\\_1\\_4 & 2 & 0.8167841 & 0.11268565\\\\\n",
       "\t GW16\\_1\\_9 & 1 & 0.1908944 & 0.14512200\\\\\n",
       "\t GW16\\_1\\_9 & 2 & 0.8371800 & 0.12649469\\\\\n",
       "\t GW19\\_1\\_1 & 1 & 0.2160411 & 0.17897390\\\\\n",
       "\t GW19\\_1\\_1 & 2 & 0.8224949 & 0.15674923\\\\\n",
       "\t GW19\\_1\\_2 & 1 & 0.3850200 & 0.15125723\\\\\n",
       "\t GW19\\_1\\_2 & 2 & 0.7894876 & 0.22699877\\\\\n",
       "\t GW19\\_1\\_3 & 1 & 0.1881470 & 0.13719965\\\\\n",
       "\t GW19\\_1\\_3 & 2 & 0.7368421 &         NA\\\\\n",
       "\t GW23\\_1\\_1 & 1 & 0.2307441 & 0.16554816\\\\\n",
       "\t GW23\\_1\\_1 & 2 & 0.8715831 & 0.11875500\\\\\n",
       "\t GW23\\_1\\_2 & 1 & 0.1746304 & 0.13099429\\\\\n",
       "\t GW23\\_1\\_2 & 2 & 0.8493216 & 0.06653769\\\\\n",
       "\t GW23\\_1\\_3 & 1 & 0.2136787 & 0.13957038\\\\\n",
       "\t GW23\\_1\\_3 & 2 & 0.8102831 & 0.13707865\\\\\n",
       "\t GW26\\_1\\_1 & 1 & 0.3067293 & 0.15012435\\\\\n",
       "\t GW26\\_1\\_1 & 2 & 0.9007455 & 0.10632054\\\\\n",
       "\\end{tabular}\n"
      ],
      "text/markdown": [
       "\n",
       "A grouped_df: 24 × 4\n",
       "\n",
       "| sample_info &lt;chr&gt; | cluster &lt;fct&gt; | avg_editing_level &lt;dbl&gt; | sd_editing_level &lt;dbl&gt; |\n",
       "|---|---|---|---|\n",
       "| GW08     | 1 | 0.2906042 | 0.17290231 |\n",
       "| GW08     | 2 | 0.8580485 | 0.11639350 |\n",
       "| GW12     | 1 | 0.3063311 | 0.15937130 |\n",
       "| GW12     | 2 | 0.8652749 | 0.11666850 |\n",
       "| GW16_1_3 | 1 | 0.1754755 | 0.12303221 |\n",
       "| GW16_1_3 | 2 | 0.8287469 | 0.11697461 |\n",
       "| GW16_1_4 | 1 | 0.1948643 | 0.14039751 |\n",
       "| GW16_1_4 | 2 | 0.8167841 | 0.11268565 |\n",
       "| GW16_1_9 | 1 | 0.1908944 | 0.14512200 |\n",
       "| GW16_1_9 | 2 | 0.8371800 | 0.12649469 |\n",
       "| GW19_1_1 | 1 | 0.2160411 | 0.17897390 |\n",
       "| GW19_1_1 | 2 | 0.8224949 | 0.15674923 |\n",
       "| GW19_1_2 | 1 | 0.3850200 | 0.15125723 |\n",
       "| GW19_1_2 | 2 | 0.7894876 | 0.22699877 |\n",
       "| GW19_1_3 | 1 | 0.1881470 | 0.13719965 |\n",
       "| GW19_1_3 | 2 | 0.7368421 |         NA |\n",
       "| GW23_1_1 | 1 | 0.2307441 | 0.16554816 |\n",
       "| GW23_1_1 | 2 | 0.8715831 | 0.11875500 |\n",
       "| GW23_1_2 | 1 | 0.1746304 | 0.13099429 |\n",
       "| GW23_1_2 | 2 | 0.8493216 | 0.06653769 |\n",
       "| GW23_1_3 | 1 | 0.2136787 | 0.13957038 |\n",
       "| GW23_1_3 | 2 | 0.8102831 | 0.13707865 |\n",
       "| GW26_1_1 | 1 | 0.3067293 | 0.15012435 |\n",
       "| GW26_1_1 | 2 | 0.9007455 | 0.10632054 |\n",
       "\n"
      ],
      "text/plain": [
       "   sample_info cluster avg_editing_level sd_editing_level\n",
       "1  GW08        1       0.2906042         0.17290231      \n",
       "2  GW08        2       0.8580485         0.11639350      \n",
       "3  GW12        1       0.3063311         0.15937130      \n",
       "4  GW12        2       0.8652749         0.11666850      \n",
       "5  GW16_1_3    1       0.1754755         0.12303221      \n",
       "6  GW16_1_3    2       0.8287469         0.11697461      \n",
       "7  GW16_1_4    1       0.1948643         0.14039751      \n",
       "8  GW16_1_4    2       0.8167841         0.11268565      \n",
       "9  GW16_1_9    1       0.1908944         0.14512200      \n",
       "10 GW16_1_9    2       0.8371800         0.12649469      \n",
       "11 GW19_1_1    1       0.2160411         0.17897390      \n",
       "12 GW19_1_1    2       0.8224949         0.15674923      \n",
       "13 GW19_1_2    1       0.3850200         0.15125723      \n",
       "14 GW19_1_2    2       0.7894876         0.22699877      \n",
       "15 GW19_1_3    1       0.1881470         0.13719965      \n",
       "16 GW19_1_3    2       0.7368421                 NA      \n",
       "17 GW23_1_1    1       0.2307441         0.16554816      \n",
       "18 GW23_1_1    2       0.8715831         0.11875500      \n",
       "19 GW23_1_2    1       0.1746304         0.13099429      \n",
       "20 GW23_1_2    2       0.8493216         0.06653769      \n",
       "21 GW23_1_3    1       0.2136787         0.13957038      \n",
       "22 GW23_1_3    2       0.8102831         0.13707865      \n",
       "23 GW26_1_1    1       0.3067293         0.15012435      \n",
       "24 GW26_1_1    2       0.9007455         0.10632054      "
      ]
     },
     "metadata": {},
     "output_type": "display_data"
    }
   ],
   "source": [
    "data_summary <- edited_sites_wz_cluster %>%\n",
    "  group_by(sample_info, cluster) %>%\n",
    "  summarize(avg_editing_level = mean(editing_level),\n",
    "            sd_editing_level = sd(editing_level)) # 添加标准差计算\n",
    "data_summary$cluster <- as.factor(data_summary$cluster)\n",
    "data_summary"
   ]
  },
  {
   "cell_type": "code",
   "execution_count": 38,
   "metadata": {
    "vscode": {
     "languageId": "r"
    }
   },
   "outputs": [
    {
     "data": {
      "image/png": "[encoded data removed]",
      "text/plain": [
       "plot without title"
      ]
     },
     "metadata": {
      "image/png": {
       "height": 420,
       "width": 420
      }
     },
     "output_type": "display_data"
    }
   ],
   "source": [
    "# 假设df是原始的data_summary数据框\n",
    "\n",
    "# 步骤1: 获取所有独特的sample_info和cluster组合\n",
    "all_combinations <- expand.grid(unique(data_summary$sample_info), unique(data_summary$cluster))\n",
    "colnames(all_combinations) <- c(\"sample_info\", \"cluster\")\n",
    "\n",
    "# 步骤2: 创建一个包含所有组合且初始化编辑水平为0的数据框\n",
    "complete_data <- all_combinations %>%\n",
    "  mutate(avg_editing_level = 0,\n",
    "         sd_editing_level = 0)\n",
    "\n",
    "# 步骤3: 将原始数据与新创建的数据框合并，确保所有组合都有记录\n",
    "# 使用left_join确保所有来自complete_data的行都被保留\n",
    "final_data <- complete_data %>%\n",
    "  left_join(data_summary, by = c(\"sample_info\", \"cluster\"), suffix = c(\"_init\", \"\")) %>%\n",
    "  select(-ends_with(\"_init\")) # 移除初始化时添加的后缀列\n",
    "\n",
    "# 如果有特定的值需要填充而非0，可以在第2步时相应修改\n",
    "final_data[is.na(final_data)] <- 0\n",
    "# 假设final_data已经是包含了所有组合（即使某些原始数据中未出现的组合值为0）的数据框\n",
    "\n",
    "# 确保final_data中包含了误差范围的最小值和最大值列，如果还没有的话需要先计算并添加\n",
    "# 这里简化处理，直接使用之前逻辑但确保使用final_data作为数据源\n",
    "final_data <- final_data %>%\n",
    "  group_by(sample_info, cluster) %>%\n",
    "  mutate(min_val = avg_editing_level - sd_editing_level,\n",
    "         max_val = avg_editing_level + sd_editing_level)\n",
    "final_data <- as.data.frame(final_data)\n",
    "\n",
    "ggplot(data=final_data,aes(x=sample_info,y=avg_editing_level,group=cluster))+\n",
    "  geom_line(aes(color=cluster,lty=cluster))+\n",
    "  geom_point(aes(color=cluster,shape=cluster))+\n",
    "  geom_ribbon(aes(x=sample_info,ymin=min_val,ymax=max_val,fill=cluster,\n",
    "                  color=cluster),alpha=0.5)+\n",
    "  scale_color_manual(values = c(\"1\"=\"#840dd3\",\"2\"=\"#04c49c\",\"3\"=\"#2759bd\"))+\n",
    "  scale_fill_manual(values = c(\"1\"=\"#840dd3\",\"2\"=\"#04c49c\",\"3\"=\"#2759bd\"))+\n",
    "  #colors=c(\"#840dd3\",\"#04c49c\",\"#2759bd\")\n",
    "  theme_bw() +\n",
    "  theme(plot.title = element_text(hjust = 0.5),\n",
    "        legend.title = element_blank(),\n",
    "        axis.text.x = element_text(angle = 45, hjust = 1),\n",
    "        text = element_text(size = 13)) +\n",
    "  xlab('')+\n",
    "  ylab('RNA editing rate')"
   ]
  },
  {
   "cell_type": "code",
   "execution_count": null,
   "metadata": {
    "vscode": {
     "languageId": "r"
    }
   },
   "outputs": [
    {
     "data": {
      "text/html": [
       "<style>\n",
       ".list-inline {list-style: none; margin:0; padding: 0}\n",
       ".list-inline>li {display: inline-block}\n",
       ".list-inline>li:not(:last-child)::after {content: \"\\00b7\"; padding: 0 .5ex}\n",
       "</style>\n",
       "<ol class=list-inline><li>18023</li><li>3</li></ol>\n"
      ],
      "text/latex": [
       "\\begin{enumerate*}\n",
       "\\item 18023\n",
       "\\item 3\n",
       "\\end{enumerate*}\n"
      ],
      "text/markdown": [
       "1. 18023\n",
       "2. 3\n",
       "\n",
       "\n"
      ],
      "text/plain": [
       "[1] 18023     3"
      ]
     },
     "metadata": {},
     "output_type": "display_data"
    }
   ],
   "source": [
    "########先使用和AEI计算一致的样本进行热图展示\n",
    "#构建数据框\n",
    "all_site <- c(sub_res_editing_rate_16_1_4$site,sub_res_editing_rate_19_1_1$site,sub_res_editing_rate_23_1_2$site,sub_res_editing_rate_26_1_1$site)\n",
    "sample_info <- c(rep('GW16_1_4',times=nrow(sub_res_editing_rate_16_1_4)),rep('GW19_1_1',times=nrow(sub_res_editing_rate_19_1_1)),\n",
    "                    rep('GW23_1_2',times=nrow(sub_res_editing_rate_23_1_2)),rep('GW26_1_1',times=nrow(sub_res_editing_rate_26_1_1)))\n",
    "editing_level <- c(sub_res_editing_rate_16_1_4$editing_rate,sub_res_editing_rate_19_1_1$editing_rate,\n",
    "                    sub_res_editing_rate_23_1_2$editing_rate,sub_res_editing_rate_26_1_1$editing_rate)\n",
    "df <- as.data.frame(cbind(all_site,sample_info,editing_level))\n",
    "dim(df)"
   ]
  },
  {
   "cell_type": "code",
   "execution_count": null,
   "metadata": {
    "vscode": {
     "languageId": "r"
    }
   },
   "outputs": [
    {
     "data": {
      "text/html": [
       "<style>\n",
       ".list-inline {list-style: none; margin:0; padding: 0}\n",
       ".list-inline>li {display: inline-block}\n",
       ".list-inline>li:not(:last-child)::after {content: \"\\00b7\"; padding: 0 .5ex}\n",
       "</style>\n",
       "<ol class=list-inline><li>17472</li><li>5</li></ol>\n"
      ],
      "text/latex": [
       "\\begin{enumerate*}\n",
       "\\item 17472\n",
       "\\item 5\n",
       "\\end{enumerate*}\n"
      ],
      "text/markdown": [
       "1. 17472\n",
       "2. 5\n",
       "\n",
       "\n"
      ],
      "text/plain": [
       "[1] 17472     5"
      ]
     },
     "metadata": {},
     "output_type": "display_data"
    }
   ],
   "source": [
    "# 使用pivot_wider函数进行转换\n",
    "wide_df <- pivot_wider(df, names_from = \"sample_info\", values_from = \"editing_level\")\n",
    "dim(wide_df)\n",
    "data <- as.data.frame(wide_df)\n",
    "rownames(data) <- data$all_site\n",
    "data <- data[,-1]\n",
    "head(data)\n",
    "data[is.na(data)] <- 0\n",
    "# 查看转换后的数据框\n",
    "head(data)"
   ]
  },
  {
   "cell_type": "code",
   "execution_count": null,
   "metadata": {
    "vscode": {
     "languageId": "r"
    }
   },
   "outputs": [
    {
     "name": "stderr",
     "output_type": "stream",
     "text": [
      "Warning message in cbind(all_site, sample_info, editing_level):\n",
      "“number of rows of result is not a multiple of vector length (arg 3)”\n"
     ]
    },
    {
     "data": {
      "text/html": [
       "<style>\n",
       ".list-inline {list-style: none; margin:0; padding: 0}\n",
       ".list-inline>li {display: inline-block}\n",
       ".list-inline>li:not(:last-child)::after {content: \"\\00b7\"; padding: 0 .5ex}\n",
       "</style>\n",
       "<ol class=list-inline><li>34440</li><li>3</li></ol>\n"
      ],
      "text/latex": [
       "\\begin{enumerate*}\n",
       "\\item 34440\n",
       "\\item 3\n",
       "\\end{enumerate*}\n"
      ],
      "text/markdown": [
       "1. 34440\n",
       "2. 3\n",
       "\n",
       "\n"
      ],
      "text/plain": [
       "[1] 34440     3"
      ]
     },
     "metadata": {},
     "output_type": "display_data"
    }
   ],
   "source": [
    "###############一下是不对editing level进行过滤的（大部份都是1，不过滤）\n",
    "########先使用和AEI计算一致的样本进行热图展示\n",
    "#构建数据框\n",
    "all_site <- c(res_site_editing_rate_16_1_4$site,res_site_editing_rate_19_1_1$site,res_site_editing_rate_23_1_2$site,res_site_editing_rate_26_1_1$site)\n",
    "sample_info <- c(rep('GW16_1_4',times=nrow(res_site_editing_rate_16_1_4)),rep('GW19_1_1',times=nrow(res_site_editing_rate_19_1_1)),\n",
    "                    rep('GW23_1_2',times=nrow(res_site_editing_rate_23_1_2)),rep('GW26_1_1',times=nrow(res_site_editing_rate_26_1_1)))\n",
    "editing_level <- c(res_site_editing_rate_16_1_4$editing_rate,res_site_editing_rate_19_1_1$editing_rate,\n",
    "                    res_site_editing_rate_23_1_2$editing_rate,res_site_editing_rate_26_1_1$editing_rate)\n",
    "df <- as.data.frame(cbind(all_site,sample_info,editing_level))\n",
    "dim(df)"
   ]
  },
  {
   "cell_type": "code",
   "execution_count": null,
   "metadata": {
    "vscode": {
     "languageId": "r"
    }
   },
   "outputs": [
    {
     "data": {
      "text/html": [
       "<table class=\"dataframe\">\n",
       "<caption>A data.frame: 6 × 3</caption>\n",
       "<thead>\n",
       "\t<tr><th></th><th scope=col>all_site</th><th scope=col>sample_info</th><th scope=col>editing_level</th></tr>\n",
       "\t<tr><th></th><th scope=col>&lt;chr&gt;</th><th scope=col>&lt;chr&gt;</th><th scope=col>&lt;chr&gt;</th></tr>\n",
       "</thead>\n",
       "<tbody>\n",
       "\t<tr><th scope=row>1</th><td>chr1_657327 </td><td>GW16_1_4</td><td>1                </td></tr>\n",
       "\t<tr><th scope=row>2</th><td>chr1_657332 </td><td>GW16_1_4</td><td>0.985074626865672</td></tr>\n",
       "\t<tr><th scope=row>3</th><td>chr1_8667917</td><td>GW16_1_4</td><td>1                </td></tr>\n",
       "\t<tr><th scope=row>4</th><td>chr1_8667922</td><td>GW16_1_4</td><td>1                </td></tr>\n",
       "\t<tr><th scope=row>5</th><td>chr1_8667923</td><td>GW16_1_4</td><td>1                </td></tr>\n",
       "\t<tr><th scope=row>6</th><td>chr1_8667986</td><td>GW16_1_4</td><td>1                </td></tr>\n",
       "</tbody>\n",
       "</table>\n"
      ],
      "text/latex": [
       "A data.frame: 6 × 3\n",
       "\\begin{tabular}{r|lll}\n",
       "  & all\\_site & sample\\_info & editing\\_level\\\\\n",
       "  & <chr> & <chr> & <chr>\\\\\n",
       "\\hline\n",
       "\t1 & chr1\\_657327  & GW16\\_1\\_4 & 1                \\\\\n",
       "\t2 & chr1\\_657332  & GW16\\_1\\_4 & 0.985074626865672\\\\\n",
       "\t3 & chr1\\_8667917 & GW16\\_1\\_4 & 1                \\\\\n",
       "\t4 & chr1\\_8667922 & GW16\\_1\\_4 & 1                \\\\\n",
       "\t5 & chr1\\_8667923 & GW16\\_1\\_4 & 1                \\\\\n",
       "\t6 & chr1\\_8667986 & GW16\\_1\\_4 & 1                \\\\\n",
       "\\end{tabular}\n"
      ],
      "text/markdown": [
       "\n",
       "A data.frame: 6 × 3\n",
       "\n",
       "| <!--/--> | all_site &lt;chr&gt; | sample_info &lt;chr&gt; | editing_level &lt;chr&gt; |\n",
       "|---|---|---|---|\n",
       "| 1 | chr1_657327  | GW16_1_4 | 1                 |\n",
       "| 2 | chr1_657332  | GW16_1_4 | 0.985074626865672 |\n",
       "| 3 | chr1_8667917 | GW16_1_4 | 1                 |\n",
       "| 4 | chr1_8667922 | GW16_1_4 | 1                 |\n",
       "| 5 | chr1_8667923 | GW16_1_4 | 1                 |\n",
       "| 6 | chr1_8667986 | GW16_1_4 | 1                 |\n",
       "\n"
      ],
      "text/plain": [
       "  all_site     sample_info editing_level    \n",
       "1 chr1_657327  GW16_1_4    1                \n",
       "2 chr1_657332  GW16_1_4    0.985074626865672\n",
       "3 chr1_8667917 GW16_1_4    1                \n",
       "4 chr1_8667922 GW16_1_4    1                \n",
       "5 chr1_8667923 GW16_1_4    1                \n",
       "6 chr1_8667986 GW16_1_4    1                "
      ]
     },
     "metadata": {},
     "output_type": "display_data"
    }
   ],
   "source": [
    "head(df)"
   ]
  },
  {
   "cell_type": "code",
   "execution_count": null,
   "metadata": {
    "vscode": {
     "languageId": "r"
    }
   },
   "outputs": [
    {
     "data": {
      "text/html": [
       "<table class=\"dataframe\">\n",
       "<caption>A tibble: 6 × 5</caption>\n",
       "<thead>\n",
       "\t<tr><th scope=col>all_site</th><th scope=col>GW16_1_4</th><th scope=col>GW19_1_1</th><th scope=col>GW23_1_2</th><th scope=col>GW26_1_1</th></tr>\n",
       "\t<tr><th scope=col>&lt;chr&gt;</th><th scope=col>&lt;chr&gt;</th><th scope=col>&lt;chr&gt;</th><th scope=col>&lt;chr&gt;</th><th scope=col>&lt;chr&gt;</th></tr>\n",
       "</thead>\n",
       "<tbody>\n",
       "\t<tr><td>chr1_657327 </td><td>1                </td><td>NA</td><td>NA</td><td>0.890928725701944</td></tr>\n",
       "\t<tr><td>chr1_657332 </td><td>0.985074626865672</td><td>NA</td><td>NA</td><td>0.897713598074609</td></tr>\n",
       "\t<tr><td>chr1_8667917</td><td>1                </td><td>NA</td><td>NA</td><td>NA               </td></tr>\n",
       "\t<tr><td>chr1_8667922</td><td>1                </td><td>NA</td><td>NA</td><td>NA               </td></tr>\n",
       "\t<tr><td>chr1_8667923</td><td>1                </td><td>NA</td><td>NA</td><td>NA               </td></tr>\n",
       "\t<tr><td>chr1_8667986</td><td>1                </td><td>NA</td><td>NA</td><td>NA               </td></tr>\n",
       "</tbody>\n",
       "</table>\n"
      ],
      "text/latex": [
       "A tibble: 6 × 5\n",
       "\\begin{tabular}{lllll}\n",
       " all\\_site & GW16\\_1\\_4 & GW19\\_1\\_1 & GW23\\_1\\_2 & GW26\\_1\\_1\\\\\n",
       " <chr> & <chr> & <chr> & <chr> & <chr>\\\\\n",
       "\\hline\n",
       "\t chr1\\_657327  & 1                 & NA & NA & 0.890928725701944\\\\\n",
       "\t chr1\\_657332  & 0.985074626865672 & NA & NA & 0.897713598074609\\\\\n",
       "\t chr1\\_8667917 & 1                 & NA & NA & NA               \\\\\n",
       "\t chr1\\_8667922 & 1                 & NA & NA & NA               \\\\\n",
       "\t chr1\\_8667923 & 1                 & NA & NA & NA               \\\\\n",
       "\t chr1\\_8667986 & 1                 & NA & NA & NA               \\\\\n",
       "\\end{tabular}\n"
      ],
      "text/markdown": [
       "\n",
       "A tibble: 6 × 5\n",
       "\n",
       "| all_site &lt;chr&gt; | GW16_1_4 &lt;chr&gt; | GW19_1_1 &lt;chr&gt; | GW23_1_2 &lt;chr&gt; | GW26_1_1 &lt;chr&gt; |\n",
       "|---|---|---|---|---|\n",
       "| chr1_657327  | 1                 | NA | NA | 0.890928725701944 |\n",
       "| chr1_657332  | 0.985074626865672 | NA | NA | 0.897713598074609 |\n",
       "| chr1_8667917 | 1                 | NA | NA | NA                |\n",
       "| chr1_8667922 | 1                 | NA | NA | NA                |\n",
       "| chr1_8667923 | 1                 | NA | NA | NA                |\n",
       "| chr1_8667986 | 1                 | NA | NA | NA                |\n",
       "\n"
      ],
      "text/plain": [
       "  all_site     GW16_1_4          GW19_1_1 GW23_1_2 GW26_1_1         \n",
       "1 chr1_657327  1                 NA       NA       0.890928725701944\n",
       "2 chr1_657332  0.985074626865672 NA       NA       0.897713598074609\n",
       "3 chr1_8667917 1                 NA       NA       NA               \n",
       "4 chr1_8667922 1                 NA       NA       NA               \n",
       "5 chr1_8667923 1                 NA       NA       NA               \n",
       "6 chr1_8667986 1                 NA       NA       NA               "
      ]
     },
     "metadata": {},
     "output_type": "display_data"
    }
   ],
   "source": [
    "# 使用pivot_wider函数进行转换\n",
    "wide_df <- pivot_wider(df, names_from = \"sample_info\", values_from = \"editing_level\")\n",
    "head(wide_df)"
   ]
  },
  {
   "cell_type": "code",
   "execution_count": null,
   "metadata": {
    "vscode": {
     "languageId": "r"
    }
   },
   "outputs": [
    {
     "data": {
      "text/html": [
       "<table class=\"dataframe\">\n",
       "<caption>A tibble: 133776 × 3</caption>\n",
       "<thead>\n",
       "\t<tr><th scope=col>site</th><th scope=col>Sample</th><th scope=col>Value</th></tr>\n",
       "\t<tr><th scope=col>&lt;chr&gt;</th><th scope=col>&lt;chr&gt;</th><th scope=col>&lt;chr&gt;</th></tr>\n",
       "</thead>\n",
       "<tbody>\n",
       "\t<tr><td>chr1_657327 </td><td>GW16_1_4</td><td>1                </td></tr>\n",
       "\t<tr><td>chr1_657327 </td><td>GW19_1_1</td><td>0                </td></tr>\n",
       "\t<tr><td>chr1_657327 </td><td>GW23_1_2</td><td>0                </td></tr>\n",
       "\t<tr><td>chr1_657327 </td><td>GW26_1_1</td><td>0.890928725701944</td></tr>\n",
       "\t<tr><td>chr1_657332 </td><td>GW16_1_4</td><td>0.985074626865672</td></tr>\n",
       "\t<tr><td>chr1_657332 </td><td>GW19_1_1</td><td>0                </td></tr>\n",
       "\t<tr><td>chr1_657332 </td><td>GW23_1_2</td><td>0                </td></tr>\n",
       "\t<tr><td>chr1_657332 </td><td>GW26_1_1</td><td>0.897713598074609</td></tr>\n",
       "\t<tr><td>chr1_8667917</td><td>GW16_1_4</td><td>1                </td></tr>\n",
       "\t<tr><td>chr1_8667917</td><td>GW19_1_1</td><td>0                </td></tr>\n",
       "\t<tr><td>chr1_8667917</td><td>GW23_1_2</td><td>0                </td></tr>\n",
       "\t<tr><td>chr1_8667917</td><td>GW26_1_1</td><td>0                </td></tr>\n",
       "\t<tr><td>chr1_8667922</td><td>GW16_1_4</td><td>1                </td></tr>\n",
       "\t<tr><td>chr1_8667922</td><td>GW19_1_1</td><td>0                </td></tr>\n",
       "\t<tr><td>chr1_8667922</td><td>GW23_1_2</td><td>0                </td></tr>\n",
       "\t<tr><td>chr1_8667922</td><td>GW26_1_1</td><td>0                </td></tr>\n",
       "\t<tr><td>chr1_8667923</td><td>GW16_1_4</td><td>1                </td></tr>\n",
       "\t<tr><td>chr1_8667923</td><td>GW19_1_1</td><td>0                </td></tr>\n",
       "\t<tr><td>chr1_8667923</td><td>GW23_1_2</td><td>0                </td></tr>\n",
       "\t<tr><td>chr1_8667923</td><td>GW26_1_1</td><td>0                </td></tr>\n",
       "\t<tr><td>chr1_8667986</td><td>GW16_1_4</td><td>1                </td></tr>\n",
       "\t<tr><td>chr1_8667986</td><td>GW19_1_1</td><td>0                </td></tr>\n",
       "\t<tr><td>chr1_8667986</td><td>GW23_1_2</td><td>0                </td></tr>\n",
       "\t<tr><td>chr1_8667986</td><td>GW26_1_1</td><td>0                </td></tr>\n",
       "\t<tr><td>chr1_8668058</td><td>GW16_1_4</td><td>1                </td></tr>\n",
       "\t<tr><td>chr1_8668058</td><td>GW19_1_1</td><td>0                </td></tr>\n",
       "\t<tr><td>chr1_8668058</td><td>GW23_1_2</td><td>0                </td></tr>\n",
       "\t<tr><td>chr1_8668058</td><td>GW26_1_1</td><td>0                </td></tr>\n",
       "\t<tr><td>chr1_8668060</td><td>GW16_1_4</td><td>1                </td></tr>\n",
       "\t<tr><td>chr1_8668060</td><td>GW19_1_1</td><td>0                </td></tr>\n",
       "\t<tr><td>⋮</td><td>⋮</td><td>⋮</td></tr>\n",
       "\t<tr><td>chrY_2221789 </td><td>GW23_1_2</td><td>0</td></tr>\n",
       "\t<tr><td>chrY_2221789 </td><td>GW26_1_1</td><td>1</td></tr>\n",
       "\t<tr><td>chrY_2221794 </td><td>GW16_1_4</td><td>0</td></tr>\n",
       "\t<tr><td>chrY_2221794 </td><td>GW19_1_1</td><td>0</td></tr>\n",
       "\t<tr><td>chrY_2221794 </td><td>GW23_1_2</td><td>0</td></tr>\n",
       "\t<tr><td>chrY_2221794 </td><td>GW26_1_1</td><td>1</td></tr>\n",
       "\t<tr><td>chrY_2221853 </td><td>GW16_1_4</td><td>0</td></tr>\n",
       "\t<tr><td>chrY_2221853 </td><td>GW19_1_1</td><td>0</td></tr>\n",
       "\t<tr><td>chrY_2221853 </td><td>GW23_1_2</td><td>0</td></tr>\n",
       "\t<tr><td>chrY_2221853 </td><td>GW26_1_1</td><td>1</td></tr>\n",
       "\t<tr><td>chrY_2276344 </td><td>GW16_1_4</td><td>0</td></tr>\n",
       "\t<tr><td>chrY_2276344 </td><td>GW19_1_1</td><td>0</td></tr>\n",
       "\t<tr><td>chrY_2276344 </td><td>GW23_1_2</td><td>0</td></tr>\n",
       "\t<tr><td>chrY_2276344 </td><td>GW26_1_1</td><td>1</td></tr>\n",
       "\t<tr><td>chrY_2276349 </td><td>GW16_1_4</td><td>0</td></tr>\n",
       "\t<tr><td>chrY_2276349 </td><td>GW19_1_1</td><td>0</td></tr>\n",
       "\t<tr><td>chrY_2276349 </td><td>GW23_1_2</td><td>0</td></tr>\n",
       "\t<tr><td>chrY_2276349 </td><td>GW26_1_1</td><td>1</td></tr>\n",
       "\t<tr><td>chrY_21153275</td><td>GW16_1_4</td><td>0</td></tr>\n",
       "\t<tr><td>chrY_21153275</td><td>GW19_1_1</td><td>0</td></tr>\n",
       "\t<tr><td>chrY_21153275</td><td>GW23_1_2</td><td>0</td></tr>\n",
       "\t<tr><td>chrY_21153275</td><td>GW26_1_1</td><td>1</td></tr>\n",
       "\t<tr><td>chrY_21153459</td><td>GW16_1_4</td><td>0</td></tr>\n",
       "\t<tr><td>chrY_21153459</td><td>GW19_1_1</td><td>0</td></tr>\n",
       "\t<tr><td>chrY_21153459</td><td>GW23_1_2</td><td>0</td></tr>\n",
       "\t<tr><td>chrY_21153459</td><td>GW26_1_1</td><td>1</td></tr>\n",
       "\t<tr><td>chrY_21153474</td><td>GW16_1_4</td><td>0</td></tr>\n",
       "\t<tr><td>chrY_21153474</td><td>GW19_1_1</td><td>0</td></tr>\n",
       "\t<tr><td>chrY_21153474</td><td>GW23_1_2</td><td>0</td></tr>\n",
       "\t<tr><td>chrY_21153474</td><td>GW26_1_1</td><td>1</td></tr>\n",
       "</tbody>\n",
       "</table>\n"
      ],
      "text/latex": [
       "A tibble: 133776 × 3\n",
       "\\begin{tabular}{lll}\n",
       " site & Sample & Value\\\\\n",
       " <chr> & <chr> & <chr>\\\\\n",
       "\\hline\n",
       "\t chr1\\_657327  & GW16\\_1\\_4 & 1                \\\\\n",
       "\t chr1\\_657327  & GW19\\_1\\_1 & 0                \\\\\n",
       "\t chr1\\_657327  & GW23\\_1\\_2 & 0                \\\\\n",
       "\t chr1\\_657327  & GW26\\_1\\_1 & 0.890928725701944\\\\\n",
       "\t chr1\\_657332  & GW16\\_1\\_4 & 0.985074626865672\\\\\n",
       "\t chr1\\_657332  & GW19\\_1\\_1 & 0                \\\\\n",
       "\t chr1\\_657332  & GW23\\_1\\_2 & 0                \\\\\n",
       "\t chr1\\_657332  & GW26\\_1\\_1 & 0.897713598074609\\\\\n",
       "\t chr1\\_8667917 & GW16\\_1\\_4 & 1                \\\\\n",
       "\t chr1\\_8667917 & GW19\\_1\\_1 & 0                \\\\\n",
       "\t chr1\\_8667917 & GW23\\_1\\_2 & 0                \\\\\n",
       "\t chr1\\_8667917 & GW26\\_1\\_1 & 0                \\\\\n",
       "\t chr1\\_8667922 & GW16\\_1\\_4 & 1                \\\\\n",
       "\t chr1\\_8667922 & GW19\\_1\\_1 & 0                \\\\\n",
       "\t chr1\\_8667922 & GW23\\_1\\_2 & 0                \\\\\n",
       "\t chr1\\_8667922 & GW26\\_1\\_1 & 0                \\\\\n",
       "\t chr1\\_8667923 & GW16\\_1\\_4 & 1                \\\\\n",
       "\t chr1\\_8667923 & GW19\\_1\\_1 & 0                \\\\\n",
       "\t chr1\\_8667923 & GW23\\_1\\_2 & 0                \\\\\n",
       "\t chr1\\_8667923 & GW26\\_1\\_1 & 0                \\\\\n",
       "\t chr1\\_8667986 & GW16\\_1\\_4 & 1                \\\\\n",
       "\t chr1\\_8667986 & GW19\\_1\\_1 & 0                \\\\\n",
       "\t chr1\\_8667986 & GW23\\_1\\_2 & 0                \\\\\n",
       "\t chr1\\_8667986 & GW26\\_1\\_1 & 0                \\\\\n",
       "\t chr1\\_8668058 & GW16\\_1\\_4 & 1                \\\\\n",
       "\t chr1\\_8668058 & GW19\\_1\\_1 & 0                \\\\\n",
       "\t chr1\\_8668058 & GW23\\_1\\_2 & 0                \\\\\n",
       "\t chr1\\_8668058 & GW26\\_1\\_1 & 0                \\\\\n",
       "\t chr1\\_8668060 & GW16\\_1\\_4 & 1                \\\\\n",
       "\t chr1\\_8668060 & GW19\\_1\\_1 & 0                \\\\\n",
       "\t ⋮ & ⋮ & ⋮\\\\\n",
       "\t chrY\\_2221789  & GW23\\_1\\_2 & 0\\\\\n",
       "\t chrY\\_2221789  & GW26\\_1\\_1 & 1\\\\\n",
       "\t chrY\\_2221794  & GW16\\_1\\_4 & 0\\\\\n",
       "\t chrY\\_2221794  & GW19\\_1\\_1 & 0\\\\\n",
       "\t chrY\\_2221794  & GW23\\_1\\_2 & 0\\\\\n",
       "\t chrY\\_2221794  & GW26\\_1\\_1 & 1\\\\\n",
       "\t chrY\\_2221853  & GW16\\_1\\_4 & 0\\\\\n",
       "\t chrY\\_2221853  & GW19\\_1\\_1 & 0\\\\\n",
       "\t chrY\\_2221853  & GW23\\_1\\_2 & 0\\\\\n",
       "\t chrY\\_2221853  & GW26\\_1\\_1 & 1\\\\\n",
       "\t chrY\\_2276344  & GW16\\_1\\_4 & 0\\\\\n",
       "\t chrY\\_2276344  & GW19\\_1\\_1 & 0\\\\\n",
       "\t chrY\\_2276344  & GW23\\_1\\_2 & 0\\\\\n",
       "\t chrY\\_2276344  & GW26\\_1\\_1 & 1\\\\\n",
       "\t chrY\\_2276349  & GW16\\_1\\_4 & 0\\\\\n",
       "\t chrY\\_2276349  & GW19\\_1\\_1 & 0\\\\\n",
       "\t chrY\\_2276349  & GW23\\_1\\_2 & 0\\\\\n",
       "\t chrY\\_2276349  & GW26\\_1\\_1 & 1\\\\\n",
       "\t chrY\\_21153275 & GW16\\_1\\_4 & 0\\\\\n",
       "\t chrY\\_21153275 & GW19\\_1\\_1 & 0\\\\\n",
       "\t chrY\\_21153275 & GW23\\_1\\_2 & 0\\\\\n",
       "\t chrY\\_21153275 & GW26\\_1\\_1 & 1\\\\\n",
       "\t chrY\\_21153459 & GW16\\_1\\_4 & 0\\\\\n",
       "\t chrY\\_21153459 & GW19\\_1\\_1 & 0\\\\\n",
       "\t chrY\\_21153459 & GW23\\_1\\_2 & 0\\\\\n",
       "\t chrY\\_21153459 & GW26\\_1\\_1 & 1\\\\\n",
       "\t chrY\\_21153474 & GW16\\_1\\_4 & 0\\\\\n",
       "\t chrY\\_21153474 & GW19\\_1\\_1 & 0\\\\\n",
       "\t chrY\\_21153474 & GW23\\_1\\_2 & 0\\\\\n",
       "\t chrY\\_21153474 & GW26\\_1\\_1 & 1\\\\\n",
       "\\end{tabular}\n"
      ],
      "text/markdown": [
       "\n",
       "A tibble: 133776 × 3\n",
       "\n",
       "| site &lt;chr&gt; | Sample &lt;chr&gt; | Value &lt;chr&gt; |\n",
       "|---|---|---|\n",
       "| chr1_657327  | GW16_1_4 | 1                 |\n",
       "| chr1_657327  | GW19_1_1 | 0                 |\n",
       "| chr1_657327  | GW23_1_2 | 0                 |\n",
       "| chr1_657327  | GW26_1_1 | 0.890928725701944 |\n",
       "| chr1_657332  | GW16_1_4 | 0.985074626865672 |\n",
       "| chr1_657332  | GW19_1_1 | 0                 |\n",
       "| chr1_657332  | GW23_1_2 | 0                 |\n",
       "| chr1_657332  | GW26_1_1 | 0.897713598074609 |\n",
       "| chr1_8667917 | GW16_1_4 | 1                 |\n",
       "| chr1_8667917 | GW19_1_1 | 0                 |\n",
       "| chr1_8667917 | GW23_1_2 | 0                 |\n",
       "| chr1_8667917 | GW26_1_1 | 0                 |\n",
       "| chr1_8667922 | GW16_1_4 | 1                 |\n",
       "| chr1_8667922 | GW19_1_1 | 0                 |\n",
       "| chr1_8667922 | GW23_1_2 | 0                 |\n",
       "| chr1_8667922 | GW26_1_1 | 0                 |\n",
       "| chr1_8667923 | GW16_1_4 | 1                 |\n",
       "| chr1_8667923 | GW19_1_1 | 0                 |\n",
       "| chr1_8667923 | GW23_1_2 | 0                 |\n",
       "| chr1_8667923 | GW26_1_1 | 0                 |\n",
       "| chr1_8667986 | GW16_1_4 | 1                 |\n",
       "| chr1_8667986 | GW19_1_1 | 0                 |\n",
       "| chr1_8667986 | GW23_1_2 | 0                 |\n",
       "| chr1_8667986 | GW26_1_1 | 0                 |\n",
       "| chr1_8668058 | GW16_1_4 | 1                 |\n",
       "| chr1_8668058 | GW19_1_1 | 0                 |\n",
       "| chr1_8668058 | GW23_1_2 | 0                 |\n",
       "| chr1_8668058 | GW26_1_1 | 0                 |\n",
       "| chr1_8668060 | GW16_1_4 | 1                 |\n",
       "| chr1_8668060 | GW19_1_1 | 0                 |\n",
       "| ⋮ | ⋮ | ⋮ |\n",
       "| chrY_2221789  | GW23_1_2 | 0 |\n",
       "| chrY_2221789  | GW26_1_1 | 1 |\n",
       "| chrY_2221794  | GW16_1_4 | 0 |\n",
       "| chrY_2221794  | GW19_1_1 | 0 |\n",
       "| chrY_2221794  | GW23_1_2 | 0 |\n",
       "| chrY_2221794  | GW26_1_1 | 1 |\n",
       "| chrY_2221853  | GW16_1_4 | 0 |\n",
       "| chrY_2221853  | GW19_1_1 | 0 |\n",
       "| chrY_2221853  | GW23_1_2 | 0 |\n",
       "| chrY_2221853  | GW26_1_1 | 1 |\n",
       "| chrY_2276344  | GW16_1_4 | 0 |\n",
       "| chrY_2276344  | GW19_1_1 | 0 |\n",
       "| chrY_2276344  | GW23_1_2 | 0 |\n",
       "| chrY_2276344  | GW26_1_1 | 1 |\n",
       "| chrY_2276349  | GW16_1_4 | 0 |\n",
       "| chrY_2276349  | GW19_1_1 | 0 |\n",
       "| chrY_2276349  | GW23_1_2 | 0 |\n",
       "| chrY_2276349  | GW26_1_1 | 1 |\n",
       "| chrY_21153275 | GW16_1_4 | 0 |\n",
       "| chrY_21153275 | GW19_1_1 | 0 |\n",
       "| chrY_21153275 | GW23_1_2 | 0 |\n",
       "| chrY_21153275 | GW26_1_1 | 1 |\n",
       "| chrY_21153459 | GW16_1_4 | 0 |\n",
       "| chrY_21153459 | GW19_1_1 | 0 |\n",
       "| chrY_21153459 | GW23_1_2 | 0 |\n",
       "| chrY_21153459 | GW26_1_1 | 1 |\n",
       "| chrY_21153474 | GW16_1_4 | 0 |\n",
       "| chrY_21153474 | GW19_1_1 | 0 |\n",
       "| chrY_21153474 | GW23_1_2 | 0 |\n",
       "| chrY_21153474 | GW26_1_1 | 1 |\n",
       "\n"
      ],
      "text/plain": [
       "       site          Sample   Value            \n",
       "1      chr1_657327   GW16_1_4 1                \n",
       "2      chr1_657327   GW19_1_1 0                \n",
       "3      chr1_657327   GW23_1_2 0                \n",
       "4      chr1_657327   GW26_1_1 0.890928725701944\n",
       "5      chr1_657332   GW16_1_4 0.985074626865672\n",
       "6      chr1_657332   GW19_1_1 0                \n",
       "7      chr1_657332   GW23_1_2 0                \n",
       "8      chr1_657332   GW26_1_1 0.897713598074609\n",
       "9      chr1_8667917  GW16_1_4 1                \n",
       "10     chr1_8667917  GW19_1_1 0                \n",
       "11     chr1_8667917  GW23_1_2 0                \n",
       "12     chr1_8667917  GW26_1_1 0                \n",
       "13     chr1_8667922  GW16_1_4 1                \n",
       "14     chr1_8667922  GW19_1_1 0                \n",
       "15     chr1_8667922  GW23_1_2 0                \n",
       "16     chr1_8667922  GW26_1_1 0                \n",
       "17     chr1_8667923  GW16_1_4 1                \n",
       "18     chr1_8667923  GW19_1_1 0                \n",
       "19     chr1_8667923  GW23_1_2 0                \n",
       "20     chr1_8667923  GW26_1_1 0                \n",
       "21     chr1_8667986  GW16_1_4 1                \n",
       "22     chr1_8667986  GW19_1_1 0                \n",
       "23     chr1_8667986  GW23_1_2 0                \n",
       "24     chr1_8667986  GW26_1_1 0                \n",
       "25     chr1_8668058  GW16_1_4 1                \n",
       "26     chr1_8668058  GW19_1_1 0                \n",
       "27     chr1_8668058  GW23_1_2 0                \n",
       "28     chr1_8668058  GW26_1_1 0                \n",
       "29     chr1_8668060  GW16_1_4 1                \n",
       "30     chr1_8668060  GW19_1_1 0                \n",
       "⋮      ⋮             ⋮        ⋮                \n",
       "133747 chrY_2221789  GW23_1_2 0                \n",
       "133748 chrY_2221789  GW26_1_1 1                \n",
       "133749 chrY_2221794  GW16_1_4 0                \n",
       "133750 chrY_2221794  GW19_1_1 0                \n",
       "133751 chrY_2221794  GW23_1_2 0                \n",
       "133752 chrY_2221794  GW26_1_1 1                \n",
       "133753 chrY_2221853  GW16_1_4 0                \n",
       "133754 chrY_2221853  GW19_1_1 0                \n",
       "133755 chrY_2221853  GW23_1_2 0                \n",
       "133756 chrY_2221853  GW26_1_1 1                \n",
       "133757 chrY_2276344  GW16_1_4 0                \n",
       "133758 chrY_2276344  GW19_1_1 0                \n",
       "133759 chrY_2276344  GW23_1_2 0                \n",
       "133760 chrY_2276344  GW26_1_1 1                \n",
       "133761 chrY_2276349  GW16_1_4 0                \n",
       "133762 chrY_2276349  GW19_1_1 0                \n",
       "133763 chrY_2276349  GW23_1_2 0                \n",
       "133764 chrY_2276349  GW26_1_1 1                \n",
       "133765 chrY_21153275 GW16_1_4 0                \n",
       "133766 chrY_21153275 GW19_1_1 0                \n",
       "133767 chrY_21153275 GW23_1_2 0                \n",
       "133768 chrY_21153275 GW26_1_1 1                \n",
       "133769 chrY_21153459 GW16_1_4 0                \n",
       "133770 chrY_21153459 GW19_1_1 0                \n",
       "133771 chrY_21153459 GW23_1_2 0                \n",
       "133772 chrY_21153459 GW26_1_1 1                \n",
       "133773 chrY_21153474 GW16_1_4 0                \n",
       "133774 chrY_21153474 GW19_1_1 0                \n",
       "133775 chrY_21153474 GW23_1_2 0                \n",
       "133776 chrY_21153474 GW26_1_1 1                "
      ]
     },
     "metadata": {},
     "output_type": "display_data"
    }
   ],
   "source": [
    "df_long = data %>%\n",
    "  rownames_to_column(\"site\") %>%\n",
    "  pivot_longer(-1,names_to = \"Sample\",values_to = \"Value\")\n"
   ]
  }
 ],
 "metadata": {
  "kernelspec": {
   "display_name": "R",
   "language": "R",
   "name": "ir"
  },
  "language_info": {
   "codemirror_mode": "r",
   "file_extension": ".r",
   "mimetype": "text/x-r-source",
   "name": "R",
   "pygments_lexer": "r",
   "version": "4.3.1"
  },
  "orig_nbformat": 4
 },
 "nbformat": 4,
 "nbformat_minor": 2
}
