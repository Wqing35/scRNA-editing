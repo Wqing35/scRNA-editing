{
 "cells": [
  {
   "cell_type": "code",
   "execution_count": 11,
   "metadata": {
    "vscode": {
     "languageId": "r"
    }
   },
   "outputs": [
    {
     "data": {
      "text/html": [
       "1111"
      ],
      "text/latex": [
       "1111"
      ],
      "text/markdown": [
       "1111"
      ],
      "text/plain": [
       "[1] 1111"
      ]
     },
     "metadata": {},
     "output_type": "display_data"
    }
   ],
   "source": [
    "#####处理在各个簇中的de-edited-sites所在的基因\n",
    "#Neuron\n",
    "gene_wz_de_edited_res_cluster1 <- read.table(\"/disk1/wenqing/tmp_data/PFC_s2/all_analysis_result/de_editing/Neurons/res_in_cluster/de_edited_res_of_cluster1_inGenes.txt\")\n",
    "gene_names <- names(sort(table(gene_wz_de_edited_res_cluster1[,4]),decreasing=T))\n",
    "#差异编辑的基因上编辑位点数量很少，不对此作过滤\n",
    "gene_wz_res_num <- sort(table(gene_wz_de_edited_res_cluster1[,4]),decreasing=T)\n",
    "length(gene_names)\n",
    "write.table(gene_names,\"/disk1/wenqing/tmp_data/PFC_s2/all_analysis_result/de_editing/Neurons/res_in_cluster/Neuron_genes_wz_de_edited_res_cluster1.txt\",quote=F,row.name=F,col.name=F)"
   ]
  },
  {
   "cell_type": "code",
   "execution_count": 12,
   "metadata": {
    "vscode": {
     "languageId": "r"
    }
   },
   "outputs": [
    {
     "data": {
      "text/html": [
       "638"
      ],
      "text/latex": [
       "638"
      ],
      "text/markdown": [
       "638"
      ],
      "text/plain": [
       "[1] 638"
      ]
     },
     "metadata": {},
     "output_type": "display_data"
    }
   ],
   "source": [
    "#####处理在各个簇中的de-edited-sites所在的基因\n",
    "#Neuron\n",
    "gene_wz_de_edited_res_cluster2 <- read.table(\"/disk1/wenqing/tmp_data/PFC_s2/all_analysis_result/de_editing/Neurons/res_in_cluster/de_edited_res_of_cluster2_inGenes.txt\")\n",
    "gene_names <- names(sort(table(gene_wz_de_edited_res_cluster2[,4]),decreasing=T))\n",
    "#差异编辑的基因上编辑位点数量很少，不对此作过滤\n",
    "gene_wz_res_num <- sort(table(gene_wz_de_edited_res_cluster2[,4]),decreasing=T)\n",
    "length(gene_names)\n",
    "write.table(gene_names,\"/disk1/wenqing/tmp_data/PFC_s2/all_analysis_result/de_editing/Neurons/res_in_cluster/Neuron_genes_wz_de_edited_res_cluster2.txt\",quote=F,row.name=F,col.name=F)"
   ]
  },
  {
   "cell_type": "code",
   "execution_count": 13,
   "metadata": {
    "vscode": {
     "languageId": "r"
    }
   },
   "outputs": [
    {
     "data": {
      "text/html": [
       "1314"
      ],
      "text/latex": [
       "1314"
      ],
      "text/markdown": [
       "1314"
      ],
      "text/plain": [
       "[1] 1314"
      ]
     },
     "metadata": {},
     "output_type": "display_data"
    }
   ],
   "source": [
    "#####处理在各个簇中的de-edited-sites所在的基因\n",
    "#Neuron\n",
    "gene_wz_de_edited_res_cluster3 <- read.table(\"/disk1/wenqing/tmp_data/PFC_s2/all_analysis_result/de_editing/Neurons/res_in_cluster/de_edited_res_of_cluster3_inGenes.txt\")\n",
    "gene_names <- names(sort(table(gene_wz_de_edited_res_cluster3[,4]),decreasing=T))\n",
    "#差异编辑的基因上编辑位点数量很少，不对此作过滤\n",
    "gene_wz_res_num <- sort(table(gene_wz_de_edited_res_cluster3[,4]),decreasing=T)\n",
    "length(gene_names)\n",
    "write.table(gene_names,\"/disk1/wenqing/tmp_data/PFC_s2/all_analysis_result/de_editing/Neurons/res_in_cluster/Neuron_genes_wz_de_edited_res_cluster3.txt\",quote=F,row.name=F,col.name=F)"
   ]
  },
  {
   "cell_type": "code",
   "execution_count": 17,
   "metadata": {
    "vscode": {
     "languageId": "r"
    }
   },
   "outputs": [
    {
     "data": {
      "text/html": [
       "227"
      ],
      "text/latex": [
       "227"
      ],
      "text/markdown": [
       "227"
      ],
      "text/plain": [
       "[1] 227"
      ]
     },
     "metadata": {},
     "output_type": "display_data"
    }
   ],
   "source": [
    "####不分簇\n",
    "gene_wz_de_edited_res <- read.table(\"/disk1/wenqing/tmp_data/PFC_s2/all_analysis_result/de_editing/GABAergic_neurons/res_in_cluster/de_edited_res_of_all_clusters_inGenes.txt\")\n",
    "gene_names <- names(sort(table(gene_wz_de_edited_res[,4]),decreasing=T))\n",
    "#差异编辑的基因上编辑位点数量很少，不对此作过滤\n",
    "gene_wz_res_num <- sort(table(gene_wz_de_edited_res[,4]),decreasing=T)\n",
    "length(gene_names)\n",
    "write.table(gene_names,\"/disk1/wenqing/tmp_data/PFC_s2/all_analysis_result/de_editing/GABAergic_neurons/res_in_cluster/GABA_genes_wz_de_edited_res.txt\",quote=F,row.name=F,col.name=F)"
   ]
  },
  {
   "cell_type": "code",
   "execution_count": null,
   "metadata": {
    "vscode": {
     "languageId": "r"
    }
   },
   "outputs": [],
   "source": [
    "####富集分析\n",
    "geneHasRes_Olig <- read.table(\"./analysis/regular/geneHasRes_Olig.txt\")\n",
    "#取包含10个res以上的基因做GO分析\n",
    "geneHasOver10Res_Olig <- names(table(geneHasRes_Olig$V4)[table(geneHasRes_Olig$V4) > 10])\n",
    "geneHasResNum_Olig <- table(geneHasRes_Olig$V4)\n",
    "\n",
    "\n",
    "gene_id_Olig <- mget(geneHasOver10Res_Olig, #需要转换的Symbol\n",
    "                     org.Hs.egSYMBOL2EG, # Symbol转EntrezID（人）\n",
    "                     ifnotfound=NA)\n",
    "gene_id_Olig <- as.character(gene_id_Olig)[!is.na(gene_id_Olig)]\n",
    "\n",
    "\n",
    "enrich.go <- enrichGO(gene = gene_id_Olig,  \n",
    "                      OrgDb = 'org.Hs.eg.db',  \n",
    "                      keyType = 'ENTREZID',  #指定给定的基因名称类型，例如这里以 entrze id 为例\n",
    "                      ont = 'ALL',  #GO Ontology，可选 BP、MF、CC，也可以指定 ALL 同时计算 3 者\n",
    "                      pAdjustMethod = 'fdr',  #指定 p 值校正方法\n",
    "                      pvalueCutoff = 0.05,  #指定 p 值阈值（可指定 1 以输出全部）\n",
    "                      qvalueCutoff = 0.2,  #指定 q 值阈值（可指定 1 以输出全部）\n",
    "                      readable = FALSE)  \n",
    "\n",
    "pdf(\"./analysis/regular/figure/GO_enrichment_Olig.pdf\")\n",
    "dotplot(enrich.go)  #富集气泡图\n",
    "barplot(enrich.go)  #富集柱形图\n",
    "dev.off()"
   ]
  },
  {
   "cell_type": "code",
   "execution_count": 22,
   "metadata": {
    "vscode": {
     "languageId": "r"
    }
   },
   "outputs": [],
   "source": [
    "res_stats <- as.data.frame(cbind(c(9368,8855,8152,9108,7462,8755,9291,9361,7275,7578,8125,8419)/9447,9447-c(9368,8855,8152,9108,7462,8755,9291,9361,7275,7578,8125,8419)))\n",
    "colnames(res_stats) <- c('percent_of_res_0','percent_of_res_not0')\n",
    "write.table(res_stats,\"/disk1/wenqing/tmp_data/PFC_s2/all_analysis_result/de_editing/GABAergic_neurons/GABA_res_stats.txt\",quote=F,row.names=F)\n"
   ]
  },
  {
   "cell_type": "code",
   "execution_count": 30,
   "metadata": {
    "vscode": {
     "languageId": "r"
    }
   },
   "outputs": [
    {
     "data": {
      "text/html": [
       "<style>\n",
       ".list-inline {list-style: none; margin:0; padding: 0}\n",
       ".list-inline>li {display: inline-block}\n",
       ".list-inline>li:not(:last-child)::after {content: \"\\00b7\"; padding: 0 .5ex}\n",
       "</style>\n",
       "<ol class=list-inline><li>684</li><li>4</li></ol>\n"
      ],
      "text/latex": [
       "\\begin{enumerate*}\n",
       "\\item 684\n",
       "\\item 4\n",
       "\\end{enumerate*}\n"
      ],
      "text/markdown": [
       "1. 684\n",
       "2. 4\n",
       "\n",
       "\n"
      ],
      "text/plain": [
       "[1] 684   4"
      ]
     },
     "metadata": {},
     "output_type": "display_data"
    }
   ],
   "source": [
    "data <- read.table(\"/disk1/wenqing/tmp_data/PFC_s2/all_analysis_result/de_editing/GABAergic_neurons/de_edited_sites_wz_3clusters.txt\",header=T)\n",
    "dim(data)"
   ]
  },
  {
   "cell_type": "code",
   "execution_count": 29,
   "metadata": {
    "vscode": {
     "languageId": "r"
    }
   },
   "outputs": [
    {
     "data": {
      "text/html": [
       "0.141812865497076"
      ],
      "text/latex": [
       "0.141812865497076"
      ],
      "text/markdown": [
       "0.141812865497076"
      ],
      "text/plain": [
       "[1] 0.1418129"
      ]
     },
     "metadata": {},
     "output_type": "display_data"
    },
    {
     "data": {
      "text/html": [
       "0.470760233918129"
      ],
      "text/latex": [
       "0.470760233918129"
      ],
      "text/markdown": [
       "0.470760233918129"
      ],
      "text/plain": [
       "[1] 0.4707602"
      ]
     },
     "metadata": {},
     "output_type": "display_data"
    },
    {
     "data": {
      "text/html": [
       "0.387426900584795"
      ],
      "text/latex": [
       "0.387426900584795"
      ],
      "text/markdown": [
       "0.387426900584795"
      ],
      "text/plain": [
       "[1] 0.3874269"
      ]
     },
     "metadata": {},
     "output_type": "display_data"
    },
    {
     "data": {
      "text/html": [
       "0.945195195195195"
      ],
      "text/latex": [
       "0.945195195195195"
      ],
      "text/markdown": [
       "0.945195195195195"
      ],
      "text/plain": [
       "[1] 0.9451952"
      ]
     },
     "metadata": {},
     "output_type": "display_data"
    },
    {
     "data": {
      "text/html": [
       "0.271186440677966"
      ],
      "text/latex": [
       "0.271186440677966"
      ],
      "text/markdown": [
       "0.271186440677966"
      ],
      "text/plain": [
       "[1] 0.2711864"
      ]
     },
     "metadata": {},
     "output_type": "display_data"
    }
   ],
   "source": [
    "length(data$editing_level[which(data$cluster==1)])/nrow(data)\n",
    "length(data$editing_level[which(data$cluster==2)])/nrow(data)\n",
    "length(data$editing_level[which(data$cluster==3)])/nrow(data)\n",
    "median(data$editing_level[which(data$cluster==2)])\n",
    "median(data$editing_level[which(data$cluster==3)])\n"
   ]
  }
 ],
 "metadata": {
  "kernelspec": {
   "display_name": "R",
   "language": "R",
   "name": "ir"
  },
  "language_info": {
   "codemirror_mode": "r",
   "file_extension": ".r",
   "mimetype": "text/x-r-source",
   "name": "R",
   "pygments_lexer": "r",
   "version": "4.3.1"
  },
  "orig_nbformat": 4
 },
 "nbformat": 4,
 "nbformat_minor": 2
}
