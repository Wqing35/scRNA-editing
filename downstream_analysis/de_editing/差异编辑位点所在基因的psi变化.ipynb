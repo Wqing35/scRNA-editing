{
 "cells": [
  {
   "cell_type": "code",
   "execution_count": 1,
   "metadata": {
    "vscode": {
     "languageId": "r"
    }
   },
   "outputs": [
    {
     "name": "stderr",
     "output_type": "stream",
     "text": [
      "\n",
      "Attaching package: ‘dplyr’\n",
      "\n",
      "\n",
      "The following objects are masked from ‘package:stats’:\n",
      "\n",
      "    filter, lag\n",
      "\n",
      "\n",
      "The following objects are masked from ‘package:base’:\n",
      "\n",
      "    intersect, setdiff, setequal, union\n",
      "\n",
      "\n",
      "── \u001b[1mAttaching core tidyverse packages\u001b[22m ──────────────────────── tidyverse 2.0.0 ──\n",
      "\u001b[32m✔\u001b[39m \u001b[34mforcats  \u001b[39m 1.0.0     \u001b[32m✔\u001b[39m \u001b[34mreadr    \u001b[39m 2.1.4\n",
      "\u001b[32m✔\u001b[39m \u001b[34mlubridate\u001b[39m 1.9.3     \u001b[32m✔\u001b[39m \u001b[34mstringr  \u001b[39m 1.5.0\n",
      "\u001b[32m✔\u001b[39m \u001b[34mpurrr    \u001b[39m 1.0.2     \u001b[32m✔\u001b[39m \u001b[34mtibble   \u001b[39m 3.2.1\n",
      "── \u001b[1mConflicts\u001b[22m ────────────────────────────────────────── tidyverse_conflicts() ──\n",
      "\u001b[31m✖\u001b[39m \u001b[34mdplyr\u001b[39m::\u001b[32mfilter()\u001b[39m masks \u001b[34mstats\u001b[39m::filter()\n",
      "\u001b[31m✖\u001b[39m \u001b[34mdplyr\u001b[39m::\u001b[32mlag()\u001b[39m    masks \u001b[34mstats\u001b[39m::lag()\n",
      "\u001b[36mℹ\u001b[39m Use the conflicted package (\u001b[3m\u001b[34m<http://conflicted.r-lib.org/>\u001b[39m\u001b[23m) to force all conflicts to become errors\n",
      "\n",
      "Attaching package: ‘ape’\n",
      "\n",
      "\n",
      "The following object is masked from ‘package:dplyr’:\n",
      "\n",
      "    where\n",
      "\n",
      "\n",
      "Welcome! Want to learn more? See two factoextra-related books at https://goo.gl/ve3WBa\n",
      "\n",
      "\n",
      "Attaching package: ‘gridExtra’\n",
      "\n",
      "\n",
      "The following object is masked from ‘package:dplyr’:\n",
      "\n",
      "    combine\n",
      "\n",
      "\n"
     ]
    }
   ],
   "source": [
    "library(tidyr)\n",
    "library(dplyr)\n",
    "library(ggplot2)\n",
    "library(tidyverse)\n",
    "library(pheatmap)\n",
    "library(limma)\n",
    "library(ape)\n",
    "library(factoextra)\n",
    "library(gridBase)\n",
    "library(gridExtra)\n",
    "library(pheatmap)\n",
    "library(grid)"
   ]
  },
  {
   "cell_type": "code",
   "execution_count": 2,
   "metadata": {
    "vscode": {
     "languageId": "r"
    }
   },
   "outputs": [],
   "source": [
    ".libPaths('/disk1/wenqing/anaconda3/envs/wq_R4.2/lib/R/library')"
   ]
  },
  {
   "cell_type": "code",
   "execution_count": 3,
   "metadata": {
    "vscode": {
     "languageId": "r"
    }
   },
   "outputs": [
    {
     "data": {
      "text/html": [
       "<table class=\"dataframe\">\n",
       "<caption>A data.frame: 6 × 12</caption>\n",
       "<thead>\n",
       "\t<tr><th></th><th scope=col>GW08</th><th scope=col>GW12</th><th scope=col>GW16_1_3</th><th scope=col>GW16_1_4</th><th scope=col>GW16_1_9</th><th scope=col>GW19_1_1</th><th scope=col>GW19_1_2</th><th scope=col>GW19_1_3</th><th scope=col>GW23_1_1</th><th scope=col>GW23_1_2</th><th scope=col>GW23_1_3</th><th scope=col>GW26_1_1</th></tr>\n",
       "\t<tr><th></th><th scope=col>&lt;dbl&gt;</th><th scope=col>&lt;dbl&gt;</th><th scope=col>&lt;dbl&gt;</th><th scope=col>&lt;dbl&gt;</th><th scope=col>&lt;dbl&gt;</th><th scope=col>&lt;dbl&gt;</th><th scope=col>&lt;dbl&gt;</th><th scope=col>&lt;dbl&gt;</th><th scope=col>&lt;dbl&gt;</th><th scope=col>&lt;dbl&gt;</th><th scope=col>&lt;dbl&gt;</th><th scope=col>&lt;dbl&gt;</th></tr>\n",
       "</thead>\n",
       "<tbody>\n",
       "\t<tr><th scope=row>ENSG00000000003.15;A5:chrX:100635746-100636191:100635746-100636608:-</th><td>  0</td><td>  0</td><td>NaN</td><td>  0</td><td>0.0000000</td><td>  0</td><td>  0</td><td>  0</td><td>  0</td><td>0.0000000</td><td>  0</td><td>  0</td></tr>\n",
       "\t<tr><th scope=row>ENSG00000000003.15;A5:chrX:100635746-100636608:100635746-100636793:-</th><td>  1</td><td>  1</td><td>  0</td><td>  1</td><td>1.0000000</td><td>  1</td><td>  1</td><td>  1</td><td>  1</td><td>1.0000000</td><td>  1</td><td>  1</td></tr>\n",
       "\t<tr><th scope=row>ENSG00000000003.15;AF:chrX:100635746-100636191:100636689:100635746-100636793:100637104:-</th><td>NaN</td><td>NaN</td><td>  0</td><td>NaN</td><td>      NaN</td><td>NaN</td><td>NaN</td><td>NaN</td><td>NaN</td><td>      NaN</td><td>NaN</td><td>NaN</td></tr>\n",
       "\t<tr><th scope=row>ENSG00000000003.15;SE:chrX:100630866-100632485:100632568-100633405:-</th><td>  1</td><td>  1</td><td>  0</td><td>  1</td><td>1.0000000</td><td>  1</td><td>  1</td><td>  1</td><td>  1</td><td>1.0000000</td><td>  1</td><td>  1</td></tr>\n",
       "\t<tr><th scope=row>ENSG00000000419.13;A3:chr20:50940955-50941105:50940933-50941105:-</th><td>  1</td><td>  1</td><td>  1</td><td>  1</td><td>      NaN</td><td>  1</td><td>  1</td><td>NaN</td><td>  1</td><td>0.9876185</td><td>  1</td><td>  1</td></tr>\n",
       "\t<tr><th scope=row>ENSG00000000419.13;A3:chr20:50940955-50942031:50940933-50942031:-</th><td>  0</td><td>NaN</td><td>  0</td><td>  0</td><td>0.5916562</td><td>  0</td><td>  0</td><td>  0</td><td>  0</td><td>      NaN</td><td>NaN</td><td>  0</td></tr>\n",
       "</tbody>\n",
       "</table>\n"
      ],
      "text/latex": [
       "A data.frame: 6 × 12\n",
       "\\begin{tabular}{r|llllllllllll}\n",
       "  & GW08 & GW12 & GW16\\_1\\_3 & GW16\\_1\\_4 & GW16\\_1\\_9 & GW19\\_1\\_1 & GW19\\_1\\_2 & GW19\\_1\\_3 & GW23\\_1\\_1 & GW23\\_1\\_2 & GW23\\_1\\_3 & GW26\\_1\\_1\\\\\n",
       "  & <dbl> & <dbl> & <dbl> & <dbl> & <dbl> & <dbl> & <dbl> & <dbl> & <dbl> & <dbl> & <dbl> & <dbl>\\\\\n",
       "\\hline\n",
       "\tENSG00000000003.15;A5:chrX:100635746-100636191:100635746-100636608:- &   0 &   0 & NaN &   0 & 0.0000000 &   0 &   0 &   0 &   0 & 0.0000000 &   0 &   0\\\\\n",
       "\tENSG00000000003.15;A5:chrX:100635746-100636608:100635746-100636793:- &   1 &   1 &   0 &   1 & 1.0000000 &   1 &   1 &   1 &   1 & 1.0000000 &   1 &   1\\\\\n",
       "\tENSG00000000003.15;AF:chrX:100635746-100636191:100636689:100635746-100636793:100637104:- & NaN & NaN &   0 & NaN &       NaN & NaN & NaN & NaN & NaN &       NaN & NaN & NaN\\\\\n",
       "\tENSG00000000003.15;SE:chrX:100630866-100632485:100632568-100633405:- &   1 &   1 &   0 &   1 & 1.0000000 &   1 &   1 &   1 &   1 & 1.0000000 &   1 &   1\\\\\n",
       "\tENSG00000000419.13;A3:chr20:50940955-50941105:50940933-50941105:- &   1 &   1 &   1 &   1 &       NaN &   1 &   1 & NaN &   1 & 0.9876185 &   1 &   1\\\\\n",
       "\tENSG00000000419.13;A3:chr20:50940955-50942031:50940933-50942031:- &   0 & NaN &   0 &   0 & 0.5916562 &   0 &   0 &   0 &   0 &       NaN & NaN &   0\\\\\n",
       "\\end{tabular}\n"
      ],
      "text/markdown": [
       "\n",
       "A data.frame: 6 × 12\n",
       "\n",
       "| <!--/--> | GW08 &lt;dbl&gt; | GW12 &lt;dbl&gt; | GW16_1_3 &lt;dbl&gt; | GW16_1_4 &lt;dbl&gt; | GW16_1_9 &lt;dbl&gt; | GW19_1_1 &lt;dbl&gt; | GW19_1_2 &lt;dbl&gt; | GW19_1_3 &lt;dbl&gt; | GW23_1_1 &lt;dbl&gt; | GW23_1_2 &lt;dbl&gt; | GW23_1_3 &lt;dbl&gt; | GW26_1_1 &lt;dbl&gt; |\n",
       "|---|---|---|---|---|---|---|---|---|---|---|---|---|\n",
       "| ENSG00000000003.15;A5:chrX:100635746-100636191:100635746-100636608:- |   0 |   0 | NaN |   0 | 0.0000000 |   0 |   0 |   0 |   0 | 0.0000000 |   0 |   0 |\n",
       "| ENSG00000000003.15;A5:chrX:100635746-100636608:100635746-100636793:- |   1 |   1 |   0 |   1 | 1.0000000 |   1 |   1 |   1 |   1 | 1.0000000 |   1 |   1 |\n",
       "| ENSG00000000003.15;AF:chrX:100635746-100636191:100636689:100635746-100636793:100637104:- | NaN | NaN |   0 | NaN |       NaN | NaN | NaN | NaN | NaN |       NaN | NaN | NaN |\n",
       "| ENSG00000000003.15;SE:chrX:100630866-100632485:100632568-100633405:- |   1 |   1 |   0 |   1 | 1.0000000 |   1 |   1 |   1 |   1 | 1.0000000 |   1 |   1 |\n",
       "| ENSG00000000419.13;A3:chr20:50940955-50941105:50940933-50941105:- |   1 |   1 |   1 |   1 |       NaN |   1 |   1 | NaN |   1 | 0.9876185 |   1 |   1 |\n",
       "| ENSG00000000419.13;A3:chr20:50940955-50942031:50940933-50942031:- |   0 | NaN |   0 |   0 | 0.5916562 |   0 |   0 |   0 |   0 |       NaN | NaN |   0 |\n",
       "\n"
      ],
      "text/plain": [
       "                                                                                         GW08\n",
       "ENSG00000000003.15;A5:chrX:100635746-100636191:100635746-100636608:-                       0 \n",
       "ENSG00000000003.15;A5:chrX:100635746-100636608:100635746-100636793:-                       1 \n",
       "ENSG00000000003.15;AF:chrX:100635746-100636191:100636689:100635746-100636793:100637104:- NaN \n",
       "ENSG00000000003.15;SE:chrX:100630866-100632485:100632568-100633405:-                       1 \n",
       "ENSG00000000419.13;A3:chr20:50940955-50941105:50940933-50941105:-                          1 \n",
       "ENSG00000000419.13;A3:chr20:50940955-50942031:50940933-50942031:-                          0 \n",
       "                                                                                         GW12\n",
       "ENSG00000000003.15;A5:chrX:100635746-100636191:100635746-100636608:-                       0 \n",
       "ENSG00000000003.15;A5:chrX:100635746-100636608:100635746-100636793:-                       1 \n",
       "ENSG00000000003.15;AF:chrX:100635746-100636191:100636689:100635746-100636793:100637104:- NaN \n",
       "ENSG00000000003.15;SE:chrX:100630866-100632485:100632568-100633405:-                       1 \n",
       "ENSG00000000419.13;A3:chr20:50940955-50941105:50940933-50941105:-                          1 \n",
       "ENSG00000000419.13;A3:chr20:50940955-50942031:50940933-50942031:-                        NaN \n",
       "                                                                                         GW16_1_3\n",
       "ENSG00000000003.15;A5:chrX:100635746-100636191:100635746-100636608:-                     NaN     \n",
       "ENSG00000000003.15;A5:chrX:100635746-100636608:100635746-100636793:-                       0     \n",
       "ENSG00000000003.15;AF:chrX:100635746-100636191:100636689:100635746-100636793:100637104:-   0     \n",
       "ENSG00000000003.15;SE:chrX:100630866-100632485:100632568-100633405:-                       0     \n",
       "ENSG00000000419.13;A3:chr20:50940955-50941105:50940933-50941105:-                          1     \n",
       "ENSG00000000419.13;A3:chr20:50940955-50942031:50940933-50942031:-                          0     \n",
       "                                                                                         GW16_1_4\n",
       "ENSG00000000003.15;A5:chrX:100635746-100636191:100635746-100636608:-                       0     \n",
       "ENSG00000000003.15;A5:chrX:100635746-100636608:100635746-100636793:-                       1     \n",
       "ENSG00000000003.15;AF:chrX:100635746-100636191:100636689:100635746-100636793:100637104:- NaN     \n",
       "ENSG00000000003.15;SE:chrX:100630866-100632485:100632568-100633405:-                       1     \n",
       "ENSG00000000419.13;A3:chr20:50940955-50941105:50940933-50941105:-                          1     \n",
       "ENSG00000000419.13;A3:chr20:50940955-50942031:50940933-50942031:-                          0     \n",
       "                                                                                         GW16_1_9 \n",
       "ENSG00000000003.15;A5:chrX:100635746-100636191:100635746-100636608:-                     0.0000000\n",
       "ENSG00000000003.15;A5:chrX:100635746-100636608:100635746-100636793:-                     1.0000000\n",
       "ENSG00000000003.15;AF:chrX:100635746-100636191:100636689:100635746-100636793:100637104:-       NaN\n",
       "ENSG00000000003.15;SE:chrX:100630866-100632485:100632568-100633405:-                     1.0000000\n",
       "ENSG00000000419.13;A3:chr20:50940955-50941105:50940933-50941105:-                              NaN\n",
       "ENSG00000000419.13;A3:chr20:50940955-50942031:50940933-50942031:-                        0.5916562\n",
       "                                                                                         GW19_1_1\n",
       "ENSG00000000003.15;A5:chrX:100635746-100636191:100635746-100636608:-                       0     \n",
       "ENSG00000000003.15;A5:chrX:100635746-100636608:100635746-100636793:-                       1     \n",
       "ENSG00000000003.15;AF:chrX:100635746-100636191:100636689:100635746-100636793:100637104:- NaN     \n",
       "ENSG00000000003.15;SE:chrX:100630866-100632485:100632568-100633405:-                       1     \n",
       "ENSG00000000419.13;A3:chr20:50940955-50941105:50940933-50941105:-                          1     \n",
       "ENSG00000000419.13;A3:chr20:50940955-50942031:50940933-50942031:-                          0     \n",
       "                                                                                         GW19_1_2\n",
       "ENSG00000000003.15;A5:chrX:100635746-100636191:100635746-100636608:-                       0     \n",
       "ENSG00000000003.15;A5:chrX:100635746-100636608:100635746-100636793:-                       1     \n",
       "ENSG00000000003.15;AF:chrX:100635746-100636191:100636689:100635746-100636793:100637104:- NaN     \n",
       "ENSG00000000003.15;SE:chrX:100630866-100632485:100632568-100633405:-                       1     \n",
       "ENSG00000000419.13;A3:chr20:50940955-50941105:50940933-50941105:-                          1     \n",
       "ENSG00000000419.13;A3:chr20:50940955-50942031:50940933-50942031:-                          0     \n",
       "                                                                                         GW19_1_3\n",
       "ENSG00000000003.15;A5:chrX:100635746-100636191:100635746-100636608:-                       0     \n",
       "ENSG00000000003.15;A5:chrX:100635746-100636608:100635746-100636793:-                       1     \n",
       "ENSG00000000003.15;AF:chrX:100635746-100636191:100636689:100635746-100636793:100637104:- NaN     \n",
       "ENSG00000000003.15;SE:chrX:100630866-100632485:100632568-100633405:-                       1     \n",
       "ENSG00000000419.13;A3:chr20:50940955-50941105:50940933-50941105:-                        NaN     \n",
       "ENSG00000000419.13;A3:chr20:50940955-50942031:50940933-50942031:-                          0     \n",
       "                                                                                         GW23_1_1\n",
       "ENSG00000000003.15;A5:chrX:100635746-100636191:100635746-100636608:-                       0     \n",
       "ENSG00000000003.15;A5:chrX:100635746-100636608:100635746-100636793:-                       1     \n",
       "ENSG00000000003.15;AF:chrX:100635746-100636191:100636689:100635746-100636793:100637104:- NaN     \n",
       "ENSG00000000003.15;SE:chrX:100630866-100632485:100632568-100633405:-                       1     \n",
       "ENSG00000000419.13;A3:chr20:50940955-50941105:50940933-50941105:-                          1     \n",
       "ENSG00000000419.13;A3:chr20:50940955-50942031:50940933-50942031:-                          0     \n",
       "                                                                                         GW23_1_2 \n",
       "ENSG00000000003.15;A5:chrX:100635746-100636191:100635746-100636608:-                     0.0000000\n",
       "ENSG00000000003.15;A5:chrX:100635746-100636608:100635746-100636793:-                     1.0000000\n",
       "ENSG00000000003.15;AF:chrX:100635746-100636191:100636689:100635746-100636793:100637104:-       NaN\n",
       "ENSG00000000003.15;SE:chrX:100630866-100632485:100632568-100633405:-                     1.0000000\n",
       "ENSG00000000419.13;A3:chr20:50940955-50941105:50940933-50941105:-                        0.9876185\n",
       "ENSG00000000419.13;A3:chr20:50940955-50942031:50940933-50942031:-                              NaN\n",
       "                                                                                         GW23_1_3\n",
       "ENSG00000000003.15;A5:chrX:100635746-100636191:100635746-100636608:-                       0     \n",
       "ENSG00000000003.15;A5:chrX:100635746-100636608:100635746-100636793:-                       1     \n",
       "ENSG00000000003.15;AF:chrX:100635746-100636191:100636689:100635746-100636793:100637104:- NaN     \n",
       "ENSG00000000003.15;SE:chrX:100630866-100632485:100632568-100633405:-                       1     \n",
       "ENSG00000000419.13;A3:chr20:50940955-50941105:50940933-50941105:-                          1     \n",
       "ENSG00000000419.13;A3:chr20:50940955-50942031:50940933-50942031:-                        NaN     \n",
       "                                                                                         GW26_1_1\n",
       "ENSG00000000003.15;A5:chrX:100635746-100636191:100635746-100636608:-                       0     \n",
       "ENSG00000000003.15;A5:chrX:100635746-100636608:100635746-100636793:-                       1     \n",
       "ENSG00000000003.15;AF:chrX:100635746-100636191:100636689:100635746-100636793:100637104:- NaN     \n",
       "ENSG00000000003.15;SE:chrX:100630866-100632485:100632568-100633405:-                       1     \n",
       "ENSG00000000419.13;A3:chr20:50940955-50941105:50940933-50941105:-                          1     \n",
       "ENSG00000000419.13;A3:chr20:50940955-50942031:50940933-50942031:-                          0     "
      ]
     },
     "metadata": {},
     "output_type": "display_data"
    }
   ],
   "source": [
    "########提取psi矩阵，热图可视化\n",
    "data <- read.table(\"/disk1/wenqing/tmp_data/PFC_s2/salmon_output_untrimmed_ver/project_events_untrimmed_ver.psi\",row.names=NULL)\n",
    "rownames(data) <- data[,1]\n",
    "data <- data[,-1]\n",
    "head(data)\n"
   ]
  },
  {
   "cell_type": "code",
   "execution_count": 6,
   "metadata": {
    "vscode": {
     "languageId": "r"
    }
   },
   "outputs": [
    {
     "data": {
      "text/html": [
       "<style>\n",
       ".list-inline {list-style: none; margin:0; padding: 0}\n",
       ".list-inline>li {display: inline-block}\n",
       ".list-inline>li:not(:last-child)::after {content: \"\\00b7\"; padding: 0 .5ex}\n",
       "</style>\n",
       "<ol class=list-inline><li>'ENSG00000100028.12'</li><li>'ENSG00000102786.15'</li><li>'ENSG00000104765.16'</li><li>'ENSG00000165487.14'</li><li>'ENSG00000284218.2'</li><li>'ENSG00000283855.2'</li></ol>\n"
      ],
      "text/latex": [
       "\\begin{enumerate*}\n",
       "\\item 'ENSG00000100028.12'\n",
       "\\item 'ENSG00000102786.15'\n",
       "\\item 'ENSG00000104765.16'\n",
       "\\item 'ENSG00000165487.14'\n",
       "\\item 'ENSG00000284218.2'\n",
       "\\item 'ENSG00000283855.2'\n",
       "\\end{enumerate*}\n"
      ],
      "text/markdown": [
       "1. 'ENSG00000100028.12'\n",
       "2. 'ENSG00000102786.15'\n",
       "3. 'ENSG00000104765.16'\n",
       "4. 'ENSG00000165487.14'\n",
       "5. 'ENSG00000284218.2'\n",
       "6. 'ENSG00000283855.2'\n",
       "\n",
       "\n"
      ],
      "text/plain": [
       "[1] \"ENSG00000100028.12\" \"ENSG00000102786.15\" \"ENSG00000104765.16\"\n",
       "[4] \"ENSG00000165487.14\" \"ENSG00000284218.2\"  \"ENSG00000283855.2\" "
      ]
     },
     "metadata": {},
     "output_type": "display_data"
    }
   ],
   "source": [
    "genes_cluster_ensmbl_ver <- read.table('/disk1/wenqing/tmp_data/PFC_s2/all_analysis_result/de_editing/GABAergic_neurons/cluster1_geneNames_ENSMBL_ver.txt')[,2]\n",
    "head(genes_cluster_ensmbl_ver)"
   ]
  },
  {
   "cell_type": "code",
   "execution_count": 10,
   "metadata": {
    "vscode": {
     "languageId": "r"
    }
   },
   "outputs": [],
   "source": [
    "row_loc <- c()\n",
    "for(one in genes_cluster_ensmbl_ver){\n",
    "    row_loc <- c(row_loc,grep(one,rownames(data),value=TRUE))\n",
    "}\n"
   ]
  },
  {
   "cell_type": "code",
   "execution_count": 13,
   "metadata": {
    "vscode": {
     "languageId": "r"
    }
   },
   "outputs": [],
   "source": [
    "sub_data_cluster <- data[row_loc,]"
   ]
  },
  {
   "cell_type": "code",
   "execution_count": 14,
   "metadata": {
    "vscode": {
     "languageId": "r"
    }
   },
   "outputs": [
    {
     "data": {
      "text/html": [
       "<style>\n",
       ".list-inline {list-style: none; margin:0; padding: 0}\n",
       ".list-inline>li {display: inline-block}\n",
       ".list-inline>li:not(:last-child)::after {content: \"\\00b7\"; padding: 0 .5ex}\n",
       "</style>\n",
       "<ol class=list-inline><li>74</li><li>12</li></ol>\n"
      ],
      "text/latex": [
       "\\begin{enumerate*}\n",
       "\\item 74\n",
       "\\item 12\n",
       "\\end{enumerate*}\n"
      ],
      "text/markdown": [
       "1. 74\n",
       "2. 12\n",
       "\n",
       "\n"
      ],
      "text/plain": [
       "[1] 74 12"
      ]
     },
     "metadata": {},
     "output_type": "display_data"
    }
   ],
   "source": [
    "sub_data_cluster[sub_data_cluster==1] <- 0\n",
    "#######分开处理每一个数据框（剪切事件\n",
    "#step1:提取每个样本转录本的数据，按是否去掉1的psi分别分析\n",
    "sub_data_cluster[is.na(sub_data_cluster)] <- 0\n",
    "\n",
    "sub_data_cluster <- sub_data_cluster[rowSums(sub_data_cluster)!=0,]\n",
    "dim(sub_data_cluster)"
   ]
  },
  {
   "cell_type": "code",
   "execution_count": 24,
   "metadata": {
    "vscode": {
     "languageId": "r"
    }
   },
   "outputs": [],
   "source": [
    "sub_sub_data_cluster <- sub_data_cluster[rowSums(sub_data_cluster!=0)>2,]"
   ]
  },
  {
   "cell_type": "code",
   "execution_count": null,
   "metadata": {
    "vscode": {
     "languageId": "r"
    }
   },
   "outputs": [],
   "source": [
    "#dim(sub_sub_data_cluster)\n",
    "plots <- list()\n",
    "\n",
    "for(one_gene_as_event in rownames(sub_sub_data_cluster)){\n",
    "    df <- data.frame(time = as.factor(colnames(sub_sub_data_cluster)), value = as.double(sub_sub_data_cluster[one_gene_as_event,]))\n",
    "    p1 <- ggplot(df, aes(x = time, y = value)) +\n",
    "        geom_line() +   # 添加折线，设置颜色和线条宽度\n",
    "        geom_point(color = \"red\", size = 2) +    # 添加数据点，设置颜色和大小\n",
    "        labs(title = \"Time Series Line Plot\",      # 图标题\n",
    "            x = \"Time\",                          # x轴标签\n",
    "            y = \"Value\") +   \n",
    "        ggtitle(one_gene_as_event) +                    # y轴标签\n",
    "        theme() \n",
    "    plots[[one_gene_as_event]] <- p1\n",
    "}\n",
    "\n",
    "combined_plot <- grid.arrange(grobs = plots, ncol = 1) \n",
    "\n",
    "ggsave(\"all_plots_in_one_pdf.pdf\", plot = combined_plot, width = 15, height = 10, dpi = 300)"
   ]
  }
 ],
 "metadata": {
  "kernelspec": {
   "display_name": "R",
   "language": "R",
   "name": "ir"
  },
  "language_info": {
   "codemirror_mode": "r",
   "file_extension": ".r",
   "mimetype": "text/x-r-source",
   "name": "R",
   "pygments_lexer": "r",
   "version": "4.3.1"
  },
  "orig_nbformat": 4
 },
 "nbformat": 4,
 "nbformat_minor": 2
}
