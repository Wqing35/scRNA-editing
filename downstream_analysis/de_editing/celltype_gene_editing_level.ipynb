{
 "cells": [
  {
   "cell_type": "code",
   "execution_count": 44,
   "metadata": {
    "vscode": {
     "languageId": "r"
    }
   },
   "outputs": [],
   "source": [
    ".libPaths('/disk1/wenqing/anaconda3/envs/wq_R4.2/lib/R/library')"
   ]
  },
  {
   "cell_type": "code",
   "execution_count": 1,
   "metadata": {
    "vscode": {
     "languageId": "r"
    }
   },
   "outputs": [
    {
     "name": "stderr",
     "output_type": "stream",
     "text": [
      "Loading required package: S4Vectors\n",
      "\n",
      "Loading required package: stats4\n",
      "\n",
      "Loading required package: BiocGenerics\n",
      "\n",
      "\n",
      "Attaching package: ‘BiocGenerics’\n",
      "\n",
      "\n",
      "The following objects are masked from ‘package:stats’:\n",
      "\n",
      "    IQR, mad, sd, var, xtabs\n",
      "\n",
      "\n",
      "The following objects are masked from ‘package:base’:\n",
      "\n",
      "    anyDuplicated, aperm, append, as.data.frame, basename, cbind,\n",
      "    colnames, dirname, do.call, duplicated, eval, evalq, Filter, Find,\n",
      "    get, grep, grepl, intersect, is.unsorted, lapply, Map, mapply,\n",
      "    match, mget, order, paste, pmax, pmax.int, pmin, pmin.int,\n",
      "    Position, rank, rbind, Reduce, rownames, sapply, setdiff, sort,\n",
      "    table, tapply, union, unique, unsplit, which.max, which.min\n",
      "\n",
      "\n",
      "\n",
      "Attaching package: ‘S4Vectors’\n",
      "\n",
      "\n",
      "The following object is masked from ‘package:utils’:\n",
      "\n",
      "    findMatches\n",
      "\n",
      "\n",
      "The following objects are masked from ‘package:base’:\n",
      "\n",
      "    expand.grid, I, unname\n",
      "\n",
      "\n",
      "Loading required package: IRanges\n",
      "\n",
      "Loading required package: GenomicRanges\n",
      "\n",
      "Loading required package: GenomeInfoDb\n",
      "\n",
      "Loading required package: SummarizedExperiment\n",
      "\n",
      "Loading required package: MatrixGenerics\n",
      "\n",
      "Loading required package: matrixStats\n",
      "\n",
      "\n",
      "Attaching package: ‘MatrixGenerics’\n",
      "\n",
      "\n",
      "The following objects are masked from ‘package:matrixStats’:\n",
      "\n",
      "    colAlls, colAnyNAs, colAnys, colAvgsPerRowSet, colCollapse,\n",
      "    colCounts, colCummaxs, colCummins, colCumprods, colCumsums,\n",
      "    colDiffs, colIQRDiffs, colIQRs, colLogSumExps, colMadDiffs,\n",
      "    colMads, colMaxs, colMeans2, colMedians, colMins, colOrderStats,\n",
      "    colProds, colQuantiles, colRanges, colRanks, colSdDiffs, colSds,\n",
      "    colSums2, colTabulates, colVarDiffs, colVars, colWeightedMads,\n",
      "    colWeightedMeans, colWeightedMedians, colWeightedSds,\n",
      "    colWeightedVars, rowAlls, rowAnyNAs, rowAnys, rowAvgsPerColSet,\n",
      "    rowCollapse, rowCounts, rowCummaxs, rowCummins, rowCumprods,\n",
      "    rowCumsums, rowDiffs, rowIQRDiffs, rowIQRs, rowLogSumExps,\n",
      "    rowMadDiffs, rowMads, rowMaxs, rowMeans2, rowMedians, rowMins,\n",
      "    rowOrderStats, rowProds, rowQuantiles, rowRanges, rowRanks,\n",
      "    rowSdDiffs, rowSds, rowSums2, rowTabulates, rowVarDiffs, rowVars,\n",
      "    rowWeightedMads, rowWeightedMeans, rowWeightedMedians,\n",
      "    rowWeightedSds, rowWeightedVars\n",
      "\n",
      "\n",
      "Loading required package: Biobase\n",
      "\n",
      "Welcome to Bioconductor\n",
      "\n",
      "    Vignettes contain introductory material; view with\n",
      "    'browseVignettes()'. To cite Bioconductor, see\n",
      "    'citation(\"Biobase\")', and for packages 'citation(\"pkgname\")'.\n",
      "\n",
      "\n",
      "\n",
      "Attaching package: ‘Biobase’\n",
      "\n",
      "\n",
      "The following object is masked from ‘package:MatrixGenerics’:\n",
      "\n",
      "    rowMedians\n",
      "\n",
      "\n",
      "The following objects are masked from ‘package:matrixStats’:\n",
      "\n",
      "    anyMissing, rowMedians\n",
      "\n",
      "\n",
      "Attaching SeuratObject\n",
      "\n",
      "Seurat v4 was just loaded with SeuratObject v5; disabling v5 assays and\n",
      "validation routines, and ensuring assays work in strict v3/v4\n",
      "compatibility mode\n",
      "\n",
      "\n",
      "Attaching package: ‘Seurat’\n",
      "\n",
      "\n",
      "The following object is masked from ‘package:SummarizedExperiment’:\n",
      "\n",
      "    Assays\n",
      "\n",
      "\n",
      "\n",
      "Attaching package: ‘Matrix’\n",
      "\n",
      "\n",
      "The following object is masked from ‘package:S4Vectors’:\n",
      "\n",
      "    expand\n",
      "\n",
      "\n",
      "\n",
      "Attaching package: ‘cowplot’\n",
      "\n",
      "\n",
      "The following object is masked from ‘package:patchwork’:\n",
      "\n",
      "    align_plots\n",
      "\n",
      "\n",
      "Loading required package: limma\n",
      "\n",
      "\n",
      "Attaching package: ‘limma’\n",
      "\n",
      "\n",
      "The following object is masked from ‘package:DESeq2’:\n",
      "\n",
      "    plotMA\n",
      "\n",
      "\n",
      "The following object is masked from ‘package:BiocGenerics’:\n",
      "\n",
      "    plotMA\n",
      "\n",
      "\n",
      "\n",
      "Attaching package: ‘dplyr’\n",
      "\n",
      "\n",
      "The following object is masked from ‘package:vctrs’:\n",
      "\n",
      "    data_frame\n",
      "\n",
      "\n",
      "The following object is masked from ‘package:Biobase’:\n",
      "\n",
      "    combine\n",
      "\n",
      "\n",
      "The following object is masked from ‘package:matrixStats’:\n",
      "\n",
      "    count\n",
      "\n",
      "\n",
      "The following objects are masked from ‘package:GenomicRanges’:\n",
      "\n",
      "    intersect, setdiff, union\n",
      "\n",
      "\n",
      "The following object is masked from ‘package:GenomeInfoDb’:\n",
      "\n",
      "    intersect\n",
      "\n",
      "\n",
      "The following objects are masked from ‘package:IRanges’:\n",
      "\n",
      "    collapse, desc, intersect, setdiff, slice, union\n",
      "\n",
      "\n",
      "The following objects are masked from ‘package:S4Vectors’:\n",
      "\n",
      "    first, intersect, rename, setdiff, setequal, union\n",
      "\n",
      "\n",
      "The following objects are masked from ‘package:BiocGenerics’:\n",
      "\n",
      "    combine, intersect, setdiff, union\n",
      "\n",
      "\n",
      "The following objects are masked from ‘package:stats’:\n",
      "\n",
      "    filter, lag\n",
      "\n",
      "\n",
      "The following objects are masked from ‘package:base’:\n",
      "\n",
      "    intersect, setdiff, setequal, union\n",
      "\n",
      "\n",
      "\n",
      "Attaching package: ‘rlang’\n",
      "\n",
      "\n",
      "The following object is masked from ‘package:Biobase’:\n",
      "\n",
      "    exprs\n",
      "\n",
      "\n",
      "\n",
      "Attaching package: ‘hdf5r’\n",
      "\n",
      "\n",
      "The following object is masked from ‘package:SummarizedExperiment’:\n",
      "\n",
      "    values\n",
      "\n",
      "\n",
      "The following object is masked from ‘package:GenomicRanges’:\n",
      "\n",
      "    values\n",
      "\n",
      "\n",
      "The following object is masked from ‘package:S4Vectors’:\n",
      "\n",
      "    values\n",
      "\n",
      "\n",
      "\n",
      "Attaching package: ‘ggpubr’\n",
      "\n",
      "\n",
      "The following object is masked from ‘package:cowplot’:\n",
      "\n",
      "    get_legend\n",
      "\n",
      "\n"
     ]
    }
   ],
   "source": [
    "library(pheatmap)\n",
    "library(DESeq2)\n",
    "library(vctrs)\n",
    "library(Seurat)\n",
    "library(Matrix)\n",
    "library(patchwork)\n",
    "library(cowplot)\n",
    "library(colorspace)\n",
    "library(edgeR)\n",
    "library(dplyr)\n",
    "library(rlang)\n",
    "library(ggplot2)\n",
    "library(hdf5r)\n",
    "library(ggpubr)\n"
   ]
  },
  {
   "cell_type": "code",
   "execution_count": 46,
   "metadata": {
    "vscode": {
     "languageId": "r"
    }
   },
   "outputs": [],
   "source": [
    "sysnaptic_genes <- read.table(\"/disk1/wenqing/tmp_data/ASD/sysnaptic_genes_undergo_editing_in_coding_regions.txt\",sep='\\n')[,1]"
   ]
  },
  {
   "cell_type": "code",
   "execution_count": null,
   "metadata": {
    "vscode": {
     "languageId": "r"
    }
   },
   "outputs": [],
   "source": [
    "#gene mat\n",
    "samples <- c(\"asd_male_pfc/asd_17/\",\"asd_male_pfc/asd_18/\",\"asd_male_pfc/asd_57/\",\"ctr_male_pfc/ctr_20/\",\"ctr_male_pfc/ctr_32/\",\"ctr_male_pfc/ctr_56/\")\n",
    "celltypes <- c(\"L2_3_ExN\",\"L4\",\"L5_6\",\"L5_6_CC\",\"IN_VIP\",\"IN-PV\",\"IN-SST\",\"IN-SV2C\",\"Astrocyte\",\"Olig\")\n",
    "Gene_resNumInCelltype <- c()\n",
    "for(one_celltype in celltypes){\n",
    "  for(one_sample in samples){\n",
    "\n",
    "    print(paste0(one_sample,\" and \",one_celltype,\" running:\"))\n",
    "    gene_filename=paste0(\"/disk1/wenqing/tmp_data/ASD/\",one_sample,one_celltype,\"_geneMat_over1.h5\")\n",
    "\n",
    "    gene_filename\n",
    "    infile <- hdf5r::H5File$new(filename = gene_filename, mode = 'r') #infile环境类型\n",
    "    infile[[\"exprs\"]] #环境类型\n",
    "\n",
    "    counts=infile[[\"exprs/data\"]]\n",
    "    indices=infile[[\"exprs/indices\"]]\n",
    "    #indptr:创建矩阵时所需的pointer\n",
    "    indptr=infile[[\"exprs/indptr\"]]\n",
    "    shp=infile[[\"exprs/shape\"]]\n",
    "\n",
    "    barcode <- infile[[\"barcode/barcode\"]][]\n",
    "    gene_names=infile[[\"gene/gene\"]][]\n",
    "    #创建矩阵(注意Cell-BLAST的表达矩阵行为细胞，列为基因)\n",
    "    sparse.mat <- sparseMatrix(\n",
    "      j = indices[] + 1,\n",
    "      p = indptr[],\n",
    "      x = as.numeric(x = counts[]),\n",
    "      dims = shp[],\n",
    "      giveCsparse = FALSE\n",
    "    )\n",
    "\n",
    "    colnames(x = sparse.mat) <- barcode\n",
    "    rownames(x = sparse.mat) <- gene_names\n",
    "    gene_mat <- sparse.mat\n",
    "    dim(gene_mat)\n",
    "\n",
    "    rowsum_gene <- rowSums(gene_mat)\n",
    "     \n",
    "    for(gene in sysnaptic_genes){\n",
    "      specificGene_resNumInCelltype <- rowsum_gene[grep(gene,names(rowsum_gene),ignore.case=T)]\n",
    "      if(length(specificGene_resNumInCelltype)==0){\n",
    "        specificGene_resNumInCelltype <- 0\n",
    "      }\n",
    "      Gene_resNumInCelltype <- c(Gene_resNumInCelltype,specificGene_resNumInCelltype)\n",
    "    }   \n",
    "  } \n",
    "}\n",
    "resByCelltype <- as.data.frame(matrix(Gene_resNumInCelltype,nrow=60,byrow=TRUE))\n",
    "write.csv(resByCelltype,\"/disk1/wenqing/tmp_data/ASD/gene_resByCelltype_1.csv\",quote=F,row.names=FALSE,col.names=FALSE)\n"
   ]
  },
  {
   "cell_type": "code",
   "execution_count": 115,
   "metadata": {
    "vscode": {
     "languageId": "r"
    }
   },
   "outputs": [],
   "source": [
    "samples <- c(\"asd_17_\",\"asd_18_\",\"asd_57_\",\"ctr_20_\",\"ctr_32_\",\"ctr_56_\")\n",
    "celltypes <- c(\"L2_3_ExN\",\"L4\",\"L5_6\",\"L5_6_CC\",\"IN_VIP\",\"IN_PV\",\"IN_SST\",\"IN_SV2C\",\"Astrocyte\",\"Olig\")\n",
    "all_rownames <- c()\n",
    "for(one_celltype in celltypes){\n",
    "  for(one_sample in samples){\n",
    "    rowname <- paste0(one_sample,one_celltype)\n",
    "    all_rownames <- c(all_rownames,rowname)\n",
    "  }\n",
    "}\n"
   ]
  },
  {
   "cell_type": "code",
   "execution_count": 159,
   "metadata": {
    "vscode": {
     "languageId": "r"
    }
   },
   "outputs": [
    {
     "name": "stderr",
     "output_type": "stream",
     "text": [
      "Warning message in write.csv(resByCelltype, \"/disk1/wenqing/tmp_data/ASD/gene_resByCelltype_1.csv\", :\n",
      "“attempt to set 'col.names' ignored”\n"
     ]
    }
   ],
   "source": [
    "rownames(resByCelltype) <- all_rownames\n",
    "colnames(resByCelltype) <- sysnaptic_genes\n",
    "write.csv(resByCelltype,\"/disk1/wenqing/tmp_data/ASD/gene_resByCelltype_1.csv\",quote=F,row.names=TRUE,col.names=FALSE)\n"
   ]
  },
  {
   "cell_type": "code",
   "execution_count": 163,
   "metadata": {
    "vscode": {
     "languageId": "r"
    }
   },
   "outputs": [
    {
     "data": {
      "text/html": [
       "<table class=\"dataframe\">\n",
       "<caption>A data.frame: 6 × 11</caption>\n",
       "<thead>\n",
       "\t<tr><th></th><th scope=col>X</th><th scope=col>CYFIP2</th><th scope=col>FLNA</th><th scope=col>GABRA3</th><th scope=col>GRIA2</th><th scope=col>GRIA3</th><th scope=col>GRIA4</th><th scope=col>GRIK1</th><th scope=col>GRIK2</th><th scope=col>HTR2C</th><th scope=col>KCNA1</th></tr>\n",
       "\t<tr><th></th><th scope=col>&lt;chr&gt;</th><th scope=col>&lt;int&gt;</th><th scope=col>&lt;int&gt;</th><th scope=col>&lt;int&gt;</th><th scope=col>&lt;int&gt;</th><th scope=col>&lt;int&gt;</th><th scope=col>&lt;int&gt;</th><th scope=col>&lt;int&gt;</th><th scope=col>&lt;int&gt;</th><th scope=col>&lt;int&gt;</th><th scope=col>&lt;int&gt;</th></tr>\n",
       "</thead>\n",
       "<tbody>\n",
       "\t<tr><th scope=row>1</th><td>asd_17_L2_3_ExN</td><td> 14</td><td>0</td><td> 3</td><td>  2</td><td>15</td><td> 7</td><td>407</td><td>83</td><td>0</td><td> 0</td></tr>\n",
       "\t<tr><th scope=row>2</th><td>asd_18_L2_3_ExN</td><td>  1</td><td>0</td><td> 5</td><td>  8</td><td>32</td><td> 8</td><td> 10</td><td> 2</td><td>0</td><td> 0</td></tr>\n",
       "\t<tr><th scope=row>3</th><td>asd_57_L2_3_ExN</td><td>328</td><td>0</td><td>89</td><td> 17</td><td> 3</td><td>59</td><td>  4</td><td>29</td><td>0</td><td> 3</td></tr>\n",
       "\t<tr><th scope=row>4</th><td>ctr_20_L2_3_ExN</td><td>  6</td><td>0</td><td>13</td><td>142</td><td> 2</td><td> 3</td><td> 34</td><td>13</td><td>0</td><td>13</td></tr>\n",
       "\t<tr><th scope=row>5</th><td>ctr_32_L2_3_ExN</td><td> 15</td><td>0</td><td>16</td><td>  1</td><td> 8</td><td>18</td><td> 20</td><td>35</td><td>0</td><td>12</td></tr>\n",
       "\t<tr><th scope=row>6</th><td>ctr_56_L2_3_ExN</td><td>  4</td><td>0</td><td> 9</td><td>  9</td><td>12</td><td> 3</td><td>  0</td><td> 4</td><td>0</td><td>21</td></tr>\n",
       "</tbody>\n",
       "</table>\n"
      ],
      "text/latex": [
       "A data.frame: 6 × 11\n",
       "\\begin{tabular}{r|lllllllllll}\n",
       "  & X & CYFIP2 & FLNA & GABRA3 & GRIA2 & GRIA3 & GRIA4 & GRIK1 & GRIK2 & HTR2C & KCNA1\\\\\n",
       "  & <chr> & <int> & <int> & <int> & <int> & <int> & <int> & <int> & <int> & <int> & <int>\\\\\n",
       "\\hline\n",
       "\t1 & asd\\_17\\_L2\\_3\\_ExN &  14 & 0 &  3 &   2 & 15 &  7 & 407 & 83 & 0 &  0\\\\\n",
       "\t2 & asd\\_18\\_L2\\_3\\_ExN &   1 & 0 &  5 &   8 & 32 &  8 &  10 &  2 & 0 &  0\\\\\n",
       "\t3 & asd\\_57\\_L2\\_3\\_ExN & 328 & 0 & 89 &  17 &  3 & 59 &   4 & 29 & 0 &  3\\\\\n",
       "\t4 & ctr\\_20\\_L2\\_3\\_ExN &   6 & 0 & 13 & 142 &  2 &  3 &  34 & 13 & 0 & 13\\\\\n",
       "\t5 & ctr\\_32\\_L2\\_3\\_ExN &  15 & 0 & 16 &   1 &  8 & 18 &  20 & 35 & 0 & 12\\\\\n",
       "\t6 & ctr\\_56\\_L2\\_3\\_ExN &   4 & 0 &  9 &   9 & 12 &  3 &   0 &  4 & 0 & 21\\\\\n",
       "\\end{tabular}\n"
      ],
      "text/markdown": [
       "\n",
       "A data.frame: 6 × 11\n",
       "\n",
       "| <!--/--> | X &lt;chr&gt; | CYFIP2 &lt;int&gt; | FLNA &lt;int&gt; | GABRA3 &lt;int&gt; | GRIA2 &lt;int&gt; | GRIA3 &lt;int&gt; | GRIA4 &lt;int&gt; | GRIK1 &lt;int&gt; | GRIK2 &lt;int&gt; | HTR2C &lt;int&gt; | KCNA1 &lt;int&gt; |\n",
       "|---|---|---|---|---|---|---|---|---|---|---|---|\n",
       "| 1 | asd_17_L2_3_ExN |  14 | 0 |  3 |   2 | 15 |  7 | 407 | 83 | 0 |  0 |\n",
       "| 2 | asd_18_L2_3_ExN |   1 | 0 |  5 |   8 | 32 |  8 |  10 |  2 | 0 |  0 |\n",
       "| 3 | asd_57_L2_3_ExN | 328 | 0 | 89 |  17 |  3 | 59 |   4 | 29 | 0 |  3 |\n",
       "| 4 | ctr_20_L2_3_ExN |   6 | 0 | 13 | 142 |  2 |  3 |  34 | 13 | 0 | 13 |\n",
       "| 5 | ctr_32_L2_3_ExN |  15 | 0 | 16 |   1 |  8 | 18 |  20 | 35 | 0 | 12 |\n",
       "| 6 | ctr_56_L2_3_ExN |   4 | 0 |  9 |   9 | 12 |  3 |   0 |  4 | 0 | 21 |\n",
       "\n"
      ],
      "text/plain": [
       "  X               CYFIP2 FLNA GABRA3 GRIA2 GRIA3 GRIA4 GRIK1 GRIK2 HTR2C KCNA1\n",
       "1 asd_17_L2_3_ExN  14    0     3       2   15     7    407   83    0      0   \n",
       "2 asd_18_L2_3_ExN   1    0     5       8   32     8     10    2    0      0   \n",
       "3 asd_57_L2_3_ExN 328    0    89      17    3    59      4   29    0      3   \n",
       "4 ctr_20_L2_3_ExN   6    0    13     142    2     3     34   13    0     13   \n",
       "5 ctr_32_L2_3_ExN  15    0    16       1    8    18     20   35    0     12   \n",
       "6 ctr_56_L2_3_ExN   4    0     9       9   12     3      0    4    0     21   "
      ]
     },
     "metadata": {},
     "output_type": "display_data"
    },
    {
     "data": {
      "text/html": [
       "<table class=\"dataframe\">\n",
       "<caption>A data.frame: 6 × 10</caption>\n",
       "<thead>\n",
       "\t<tr><th></th><th scope=col>CYFIP2</th><th scope=col>FLNA</th><th scope=col>GABRA3</th><th scope=col>GRIA2</th><th scope=col>GRIA3</th><th scope=col>GRIA4</th><th scope=col>GRIK1</th><th scope=col>GRIK2</th><th scope=col>HTR2C</th><th scope=col>KCNA1</th></tr>\n",
       "\t<tr><th></th><th scope=col>&lt;int&gt;</th><th scope=col>&lt;int&gt;</th><th scope=col>&lt;int&gt;</th><th scope=col>&lt;int&gt;</th><th scope=col>&lt;int&gt;</th><th scope=col>&lt;int&gt;</th><th scope=col>&lt;int&gt;</th><th scope=col>&lt;int&gt;</th><th scope=col>&lt;int&gt;</th><th scope=col>&lt;int&gt;</th></tr>\n",
       "</thead>\n",
       "<tbody>\n",
       "\t<tr><th scope=row>asd_17_L2_3_ExN</th><td> 14</td><td>0</td><td> 3</td><td>  2</td><td>15</td><td> 7</td><td>407</td><td>83</td><td>0</td><td> 0</td></tr>\n",
       "\t<tr><th scope=row>asd_18_L2_3_ExN</th><td>  1</td><td>0</td><td> 5</td><td>  8</td><td>32</td><td> 8</td><td> 10</td><td> 2</td><td>0</td><td> 0</td></tr>\n",
       "\t<tr><th scope=row>asd_57_L2_3_ExN</th><td>328</td><td>0</td><td>89</td><td> 17</td><td> 3</td><td>59</td><td>  4</td><td>29</td><td>0</td><td> 3</td></tr>\n",
       "\t<tr><th scope=row>ctr_20_L2_3_ExN</th><td>  6</td><td>0</td><td>13</td><td>142</td><td> 2</td><td> 3</td><td> 34</td><td>13</td><td>0</td><td>13</td></tr>\n",
       "\t<tr><th scope=row>ctr_32_L2_3_ExN</th><td> 15</td><td>0</td><td>16</td><td>  1</td><td> 8</td><td>18</td><td> 20</td><td>35</td><td>0</td><td>12</td></tr>\n",
       "\t<tr><th scope=row>ctr_56_L2_3_ExN</th><td>  4</td><td>0</td><td> 9</td><td>  9</td><td>12</td><td> 3</td><td>  0</td><td> 4</td><td>0</td><td>21</td></tr>\n",
       "</tbody>\n",
       "</table>\n"
      ],
      "text/latex": [
       "A data.frame: 6 × 10\n",
       "\\begin{tabular}{r|llllllllll}\n",
       "  & CYFIP2 & FLNA & GABRA3 & GRIA2 & GRIA3 & GRIA4 & GRIK1 & GRIK2 & HTR2C & KCNA1\\\\\n",
       "  & <int> & <int> & <int> & <int> & <int> & <int> & <int> & <int> & <int> & <int>\\\\\n",
       "\\hline\n",
       "\tasd\\_17\\_L2\\_3\\_ExN &  14 & 0 &  3 &   2 & 15 &  7 & 407 & 83 & 0 &  0\\\\\n",
       "\tasd\\_18\\_L2\\_3\\_ExN &   1 & 0 &  5 &   8 & 32 &  8 &  10 &  2 & 0 &  0\\\\\n",
       "\tasd\\_57\\_L2\\_3\\_ExN & 328 & 0 & 89 &  17 &  3 & 59 &   4 & 29 & 0 &  3\\\\\n",
       "\tctr\\_20\\_L2\\_3\\_ExN &   6 & 0 & 13 & 142 &  2 &  3 &  34 & 13 & 0 & 13\\\\\n",
       "\tctr\\_32\\_L2\\_3\\_ExN &  15 & 0 & 16 &   1 &  8 & 18 &  20 & 35 & 0 & 12\\\\\n",
       "\tctr\\_56\\_L2\\_3\\_ExN &   4 & 0 &  9 &   9 & 12 &  3 &   0 &  4 & 0 & 21\\\\\n",
       "\\end{tabular}\n"
      ],
      "text/markdown": [
       "\n",
       "A data.frame: 6 × 10\n",
       "\n",
       "| <!--/--> | CYFIP2 &lt;int&gt; | FLNA &lt;int&gt; | GABRA3 &lt;int&gt; | GRIA2 &lt;int&gt; | GRIA3 &lt;int&gt; | GRIA4 &lt;int&gt; | GRIK1 &lt;int&gt; | GRIK2 &lt;int&gt; | HTR2C &lt;int&gt; | KCNA1 &lt;int&gt; |\n",
       "|---|---|---|---|---|---|---|---|---|---|---|\n",
       "| asd_17_L2_3_ExN |  14 | 0 |  3 |   2 | 15 |  7 | 407 | 83 | 0 |  0 |\n",
       "| asd_18_L2_3_ExN |   1 | 0 |  5 |   8 | 32 |  8 |  10 |  2 | 0 |  0 |\n",
       "| asd_57_L2_3_ExN | 328 | 0 | 89 |  17 |  3 | 59 |   4 | 29 | 0 |  3 |\n",
       "| ctr_20_L2_3_ExN |   6 | 0 | 13 | 142 |  2 |  3 |  34 | 13 | 0 | 13 |\n",
       "| ctr_32_L2_3_ExN |  15 | 0 | 16 |   1 |  8 | 18 |  20 | 35 | 0 | 12 |\n",
       "| ctr_56_L2_3_ExN |   4 | 0 |  9 |   9 | 12 |  3 |   0 |  4 | 0 | 21 |\n",
       "\n"
      ],
      "text/plain": [
       "                CYFIP2 FLNA GABRA3 GRIA2 GRIA3 GRIA4 GRIK1 GRIK2 HTR2C KCNA1\n",
       "asd_17_L2_3_ExN  14    0     3       2   15     7    407   83    0      0   \n",
       "asd_18_L2_3_ExN   1    0     5       8   32     8     10    2    0      0   \n",
       "asd_57_L2_3_ExN 328    0    89      17    3    59      4   29    0      3   \n",
       "ctr_20_L2_3_ExN   6    0    13     142    2     3     34   13    0     13   \n",
       "ctr_32_L2_3_ExN  15    0    16       1    8    18     20   35    0     12   \n",
       "ctr_56_L2_3_ExN   4    0     9       9   12     3      0    4    0     21   "
      ]
     },
     "metadata": {},
     "output_type": "display_data"
    },
    {
     "data": {
      "text/html": [
       "<table class=\"dataframe\">\n",
       "<caption>A matrix: 6 × 60 of type int</caption>\n",
       "<thead>\n",
       "\t<tr><th></th><th scope=col>asd_17_L2_3_ExN</th><th scope=col>asd_18_L2_3_ExN</th><th scope=col>asd_57_L2_3_ExN</th><th scope=col>ctr_20_L2_3_ExN</th><th scope=col>ctr_32_L2_3_ExN</th><th scope=col>ctr_56_L2_3_ExN</th><th scope=col>asd_17_L4</th><th scope=col>asd_18_L4</th><th scope=col>asd_57_L4</th><th scope=col>ctr_20_L4</th><th scope=col>⋯</th><th scope=col>asd_57_Astrocyte</th><th scope=col>ctr_20_Astrocyte</th><th scope=col>ctr_32_Astrocyte</th><th scope=col>ctr_56_Astrocyte</th><th scope=col>asd_17_Olig</th><th scope=col>asd_18_Olig</th><th scope=col>asd_57_Olig</th><th scope=col>ctr_20_Olig</th><th scope=col>ctr_32_Olig</th><th scope=col>ctr_56_Olig</th></tr>\n",
       "</thead>\n",
       "<tbody>\n",
       "\t<tr><th scope=row>CYFIP2</th><td>14</td><td> 1</td><td>328</td><td>  6</td><td>15</td><td> 4</td><td>13</td><td> 1</td><td> 0</td><td> 1</td><td>⋯</td><td>0</td><td>0</td><td>0</td><td>0</td><td>0</td><td>1</td><td>0</td><td>10</td><td>8</td><td> 1</td></tr>\n",
       "\t<tr><th scope=row>FLNA</th><td> 0</td><td> 0</td><td>  0</td><td>  0</td><td> 0</td><td> 0</td><td> 0</td><td> 0</td><td> 0</td><td> 0</td><td>⋯</td><td>0</td><td>0</td><td>0</td><td>0</td><td>0</td><td>0</td><td>0</td><td> 0</td><td>0</td><td> 0</td></tr>\n",
       "\t<tr><th scope=row>GABRA3</th><td> 3</td><td> 5</td><td> 89</td><td> 13</td><td>16</td><td> 9</td><td>37</td><td> 3</td><td>26</td><td>15</td><td>⋯</td><td>0</td><td>0</td><td>0</td><td>0</td><td>0</td><td>3</td><td>0</td><td> 1</td><td>0</td><td> 0</td></tr>\n",
       "\t<tr><th scope=row>GRIA2</th><td> 2</td><td> 8</td><td> 17</td><td>142</td><td> 1</td><td> 9</td><td> 3</td><td> 4</td><td> 4</td><td> 6</td><td>⋯</td><td>0</td><td>0</td><td>5</td><td>3</td><td>1</td><td>1</td><td>0</td><td> 4</td><td>3</td><td> 5</td></tr>\n",
       "\t<tr><th scope=row>GRIA3</th><td>15</td><td>32</td><td>  3</td><td>  2</td><td> 8</td><td>12</td><td> 8</td><td>34</td><td> 0</td><td> 8</td><td>⋯</td><td>0</td><td>0</td><td>0</td><td>0</td><td>5</td><td>4</td><td>0</td><td> 2</td><td>2</td><td>14</td></tr>\n",
       "\t<tr><th scope=row>GRIA4</th><td> 7</td><td> 8</td><td> 59</td><td>  3</td><td>18</td><td> 3</td><td>21</td><td>50</td><td> 6</td><td>32</td><td>⋯</td><td>1</td><td>9</td><td>0</td><td>0</td><td>1</td><td>2</td><td>3</td><td> 3</td><td>8</td><td>22</td></tr>\n",
       "</tbody>\n",
       "</table>\n"
      ],
      "text/latex": [
       "A matrix: 6 × 60 of type int\n",
       "\\begin{tabular}{r|lllllllllllllllllllll}\n",
       "  & asd\\_17\\_L2\\_3\\_ExN & asd\\_18\\_L2\\_3\\_ExN & asd\\_57\\_L2\\_3\\_ExN & ctr\\_20\\_L2\\_3\\_ExN & ctr\\_32\\_L2\\_3\\_ExN & ctr\\_56\\_L2\\_3\\_ExN & asd\\_17\\_L4 & asd\\_18\\_L4 & asd\\_57\\_L4 & ctr\\_20\\_L4 & ⋯ & asd\\_57\\_Astrocyte & ctr\\_20\\_Astrocyte & ctr\\_32\\_Astrocyte & ctr\\_56\\_Astrocyte & asd\\_17\\_Olig & asd\\_18\\_Olig & asd\\_57\\_Olig & ctr\\_20\\_Olig & ctr\\_32\\_Olig & ctr\\_56\\_Olig\\\\\n",
       "\\hline\n",
       "\tCYFIP2 & 14 &  1 & 328 &   6 & 15 &  4 & 13 &  1 &  0 &  1 & ⋯ & 0 & 0 & 0 & 0 & 0 & 1 & 0 & 10 & 8 &  1\\\\\n",
       "\tFLNA &  0 &  0 &   0 &   0 &  0 &  0 &  0 &  0 &  0 &  0 & ⋯ & 0 & 0 & 0 & 0 & 0 & 0 & 0 &  0 & 0 &  0\\\\\n",
       "\tGABRA3 &  3 &  5 &  89 &  13 & 16 &  9 & 37 &  3 & 26 & 15 & ⋯ & 0 & 0 & 0 & 0 & 0 & 3 & 0 &  1 & 0 &  0\\\\\n",
       "\tGRIA2 &  2 &  8 &  17 & 142 &  1 &  9 &  3 &  4 &  4 &  6 & ⋯ & 0 & 0 & 5 & 3 & 1 & 1 & 0 &  4 & 3 &  5\\\\\n",
       "\tGRIA3 & 15 & 32 &   3 &   2 &  8 & 12 &  8 & 34 &  0 &  8 & ⋯ & 0 & 0 & 0 & 0 & 5 & 4 & 0 &  2 & 2 & 14\\\\\n",
       "\tGRIA4 &  7 &  8 &  59 &   3 & 18 &  3 & 21 & 50 &  6 & 32 & ⋯ & 1 & 9 & 0 & 0 & 1 & 2 & 3 &  3 & 8 & 22\\\\\n",
       "\\end{tabular}\n"
      ],
      "text/markdown": [
       "\n",
       "A matrix: 6 × 60 of type int\n",
       "\n",
       "| <!--/--> | asd_17_L2_3_ExN | asd_18_L2_3_ExN | asd_57_L2_3_ExN | ctr_20_L2_3_ExN | ctr_32_L2_3_ExN | ctr_56_L2_3_ExN | asd_17_L4 | asd_18_L4 | asd_57_L4 | ctr_20_L4 | ⋯ | asd_57_Astrocyte | ctr_20_Astrocyte | ctr_32_Astrocyte | ctr_56_Astrocyte | asd_17_Olig | asd_18_Olig | asd_57_Olig | ctr_20_Olig | ctr_32_Olig | ctr_56_Olig |\n",
       "|---|---|---|---|---|---|---|---|---|---|---|---|---|---|---|---|---|---|---|---|---|---|\n",
       "| CYFIP2 | 14 |  1 | 328 |   6 | 15 |  4 | 13 |  1 |  0 |  1 | ⋯ | 0 | 0 | 0 | 0 | 0 | 1 | 0 | 10 | 8 |  1 |\n",
       "| FLNA |  0 |  0 |   0 |   0 |  0 |  0 |  0 |  0 |  0 |  0 | ⋯ | 0 | 0 | 0 | 0 | 0 | 0 | 0 |  0 | 0 |  0 |\n",
       "| GABRA3 |  3 |  5 |  89 |  13 | 16 |  9 | 37 |  3 | 26 | 15 | ⋯ | 0 | 0 | 0 | 0 | 0 | 3 | 0 |  1 | 0 |  0 |\n",
       "| GRIA2 |  2 |  8 |  17 | 142 |  1 |  9 |  3 |  4 |  4 |  6 | ⋯ | 0 | 0 | 5 | 3 | 1 | 1 | 0 |  4 | 3 |  5 |\n",
       "| GRIA3 | 15 | 32 |   3 |   2 |  8 | 12 |  8 | 34 |  0 |  8 | ⋯ | 0 | 0 | 0 | 0 | 5 | 4 | 0 |  2 | 2 | 14 |\n",
       "| GRIA4 |  7 |  8 |  59 |   3 | 18 |  3 | 21 | 50 |  6 | 32 | ⋯ | 1 | 9 | 0 | 0 | 1 | 2 | 3 |  3 | 8 | 22 |\n",
       "\n"
      ],
      "text/plain": [
       "       asd_17_L2_3_ExN asd_18_L2_3_ExN asd_57_L2_3_ExN ctr_20_L2_3_ExN\n",
       "CYFIP2 14               1              328               6            \n",
       "FLNA    0               0                0               0            \n",
       "GABRA3  3               5               89              13            \n",
       "GRIA2   2               8               17             142            \n",
       "GRIA3  15              32                3               2            \n",
       "GRIA4   7               8               59               3            \n",
       "       ctr_32_L2_3_ExN ctr_56_L2_3_ExN asd_17_L4 asd_18_L4 asd_57_L4 ctr_20_L4\n",
       "CYFIP2 15               4              13         1         0         1       \n",
       "FLNA    0               0               0         0         0         0       \n",
       "GABRA3 16               9              37         3        26        15       \n",
       "GRIA2   1               9               3         4         4         6       \n",
       "GRIA3   8              12               8        34         0         8       \n",
       "GRIA4  18               3              21        50         6        32       \n",
       "       ⋯ asd_57_Astrocyte ctr_20_Astrocyte ctr_32_Astrocyte ctr_56_Astrocyte\n",
       "CYFIP2 ⋯ 0                0                0                0               \n",
       "FLNA   ⋯ 0                0                0                0               \n",
       "GABRA3 ⋯ 0                0                0                0               \n",
       "GRIA2  ⋯ 0                0                5                3               \n",
       "GRIA3  ⋯ 0                0                0                0               \n",
       "GRIA4  ⋯ 1                9                0                0               \n",
       "       asd_17_Olig asd_18_Olig asd_57_Olig ctr_20_Olig ctr_32_Olig ctr_56_Olig\n",
       "CYFIP2 0           1           0           10          8            1         \n",
       "FLNA   0           0           0            0          0            0         \n",
       "GABRA3 0           3           0            1          0            0         \n",
       "GRIA2  1           1           0            4          3            5         \n",
       "GRIA3  5           4           0            2          2           14         \n",
       "GRIA4  1           2           3            3          8           22         "
      ]
     },
     "metadata": {},
     "output_type": "display_data"
    }
   ],
   "source": [
    "#####各细胞类型突触相关基因在res数量上的差异（asd Vs ctr）\n",
    "data <- read.csv(\"/disk1/wenqing/tmp_data/ASD/gene_resByCelltype_1.csv\")\n",
    "head(data)\n",
    "rownames(data) <- data[,1]\n",
    "data <- data[,-1]\n",
    "head(data)\n",
    "data <- t(data)\n",
    "head(data)"
   ]
  },
  {
   "cell_type": "code",
   "execution_count": 164,
   "metadata": {
    "vscode": {
     "languageId": "r"
    }
   },
   "outputs": [
    {
     "name": "stderr",
     "output_type": "stream",
     "text": [
      "estimating size factors\n",
      "\n",
      "estimating dispersions\n",
      "\n",
      "gene-wise dispersion estimates\n",
      "\n",
      "mean-dispersion relationship\n",
      "\n",
      "-- note: fitType='parametric', but the dispersion trend was not well captured by the\n",
      "   function: y = a/x + b, and a local regression fit was automatically substituted.\n",
      "   specify fitType='local' or 'mean' to avoid this message next time.\n",
      "\n",
      "Warning message in lfproc(x, y, weights = weights, cens = cens, base = base, geth = geth, :\n",
      "“Estimated rdf < 1.0; not estimating variance”\n",
      "final dispersion estimates\n",
      "\n",
      "fitting model and testing\n",
      "\n",
      "estimating size factors\n",
      "\n",
      "estimating dispersions\n",
      "\n",
      "gene-wise dispersion estimates\n",
      "\n",
      "mean-dispersion relationship\n",
      "\n",
      "final dispersion estimates\n",
      "\n",
      "fitting model and testing\n",
      "\n",
      "estimating size factors\n",
      "\n",
      "estimating dispersions\n",
      "\n",
      "gene-wise dispersion estimates\n",
      "\n",
      "mean-dispersion relationship\n",
      "\n",
      "-- note: fitType='parametric', but the dispersion trend was not well captured by the\n",
      "   function: y = a/x + b, and a local regression fit was automatically substituted.\n",
      "   specify fitType='local' or 'mean' to avoid this message next time.\n",
      "\n",
      "final dispersion estimates\n",
      "\n",
      "fitting model and testing\n",
      "\n",
      "estimating size factors\n",
      "\n",
      "estimating dispersions\n",
      "\n",
      "gene-wise dispersion estimates\n",
      "\n",
      "mean-dispersion relationship\n",
      "\n",
      "-- note: fitType='parametric', but the dispersion trend was not well captured by the\n",
      "   function: y = a/x + b, and a local regression fit was automatically substituted.\n",
      "   specify fitType='local' or 'mean' to avoid this message next time.\n",
      "\n",
      "Warning message in lfproc(x, y, weights = weights, cens = cens, base = base, geth = geth, :\n",
      "“Estimated rdf < 1.0; not estimating variance”\n",
      "final dispersion estimates\n",
      "\n",
      "fitting model and testing\n",
      "\n",
      "estimating size factors\n",
      "\n",
      "estimating dispersions\n",
      "\n",
      "gene-wise dispersion estimates\n",
      "\n",
      "mean-dispersion relationship\n",
      "\n",
      "-- note: fitType='parametric', but the dispersion trend was not well captured by the\n",
      "   function: y = a/x + b, and a local regression fit was automatically substituted.\n",
      "   specify fitType='local' or 'mean' to avoid this message next time.\n",
      "\n",
      "Warning message in lfproc(x, y, weights = weights, cens = cens, base = base, geth = geth, :\n",
      "“Estimated rdf < 1.0; not estimating variance”\n",
      "final dispersion estimates\n",
      "\n",
      "fitting model and testing\n",
      "\n",
      "estimating size factors\n",
      "\n",
      "estimating dispersions\n",
      "\n",
      "gene-wise dispersion estimates\n",
      "\n",
      "mean-dispersion relationship\n",
      "\n",
      "final dispersion estimates\n",
      "\n",
      "fitting model and testing\n",
      "\n",
      "estimating size factors\n",
      "\n",
      "estimating dispersions\n",
      "\n",
      "gene-wise dispersion estimates\n",
      "\n",
      "mean-dispersion relationship\n",
      "\n",
      "-- note: fitType='parametric', but the dispersion trend was not well captured by the\n",
      "   function: y = a/x + b, and a local regression fit was automatically substituted.\n",
      "   specify fitType='local' or 'mean' to avoid this message next time.\n",
      "\n",
      "Warning message in lfproc(x, y, weights = weights, cens = cens, base = base, geth = geth, :\n",
      "“Estimated rdf < 1.0; not estimating variance”\n",
      "final dispersion estimates\n",
      "\n",
      "fitting model and testing\n",
      "\n",
      "estimating size factors\n",
      "\n",
      "estimating dispersions\n",
      "\n",
      "gene-wise dispersion estimates\n",
      "\n",
      "mean-dispersion relationship\n",
      "\n",
      "-- note: fitType='parametric', but the dispersion trend was not well captured by the\n",
      "   function: y = a/x + b, and a local regression fit was automatically substituted.\n",
      "   specify fitType='local' or 'mean' to avoid this message next time.\n",
      "\n",
      "Warning message in lfproc(x, y, weights = weights, cens = cens, base = base, geth = geth, :\n",
      "“Estimated rdf < 1.0; not estimating variance”\n",
      "final dispersion estimates\n",
      "\n",
      "fitting model and testing\n",
      "\n",
      "estimating size factors\n",
      "\n"
     ]
    },
    {
     "ename": "ERROR",
     "evalue": "Error in estimateSizeFactorsForMatrix(counts(object), locfunc = locfunc, : every gene contains at least one zero, cannot compute log geometric means\n",
     "output_type": "error",
     "traceback": [
      "Error in estimateSizeFactorsForMatrix(counts(object), locfunc = locfunc, : every gene contains at least one zero, cannot compute log geometric means\nTraceback:\n",
      "1. DESeq(dds)",
      "2. estimateSizeFactors(object, type = sfType, quiet = quiet)",
      "3. estimateSizeFactors(object, type = sfType, quiet = quiet)",
      "4. .local(object, ...)",
      "5. estimateSizeFactorsForMatrix(counts(object), locfunc = locfunc, \n .     geoMeans = geoMeans, controlGenes = controlGenes)",
      "6. stop(\"every gene contains at least one zero, cannot compute log geometric means\")"
     ]
    }
   ],
   "source": [
    "celltypes <- c(\"L2_3_ExN\",\"L4\",\"L5_6\",\"L5_6_CC\",\"IN_VIP\",\"IN_PV\",\"IN_SST\",\"IN_SV2C\",\"Astrocyte\",\"Olig\")\n",
    "#celltypes <- c(\"IN_SV2C\",\"Astrocyte\",\"Olig\")\n",
    "i=1\n",
    "j=6\n",
    "for(one_celltype in celltypes){\n",
    "    range <- seq(i,j,by=1)\n",
    "    sub_data <- data[,range]\n",
    "    annotation_col = data.frame(\n",
    "        condition = factor(rep(c(\"Asd\",\"Ctr\"),each=3)),\n",
    "        phases = factor(c(\"17\",\"18\",\"57\",\"20\",\"23\",\"56\"))\n",
    "        #phases = factor(rep(c(\"16\",\"20\",'25'),times=3))\n",
    "    )\n",
    "    rownames(annotation_col) = colnames(sub_data)\n",
    "    head(annotation_col)\n",
    "\n",
    "\n",
    "    #差异分析\n",
    "    dds <- DESeqDataSetFromMatrix(countData = sub_data, colData = annotation_col, design = ~ condition)\n",
    "\n",
    "\n",
    "    dds <- DESeq(dds)\n",
    "    res <- results(dds,contrast = c(\"condition\",\"Asd\",\"Ctr\"))\n",
    "    res1 <- data.frame(res, stringsAsFactors = FALSE, check.names = FALSE)\n",
    "    write.table(res1, paste0(\"/disk1/wenqing/tmp_data/ASD/sysnaptic_genes_De/\",one_celltype,\"_De.txt\"), col.names = NA, sep = '\\t', quote = FALSE)  \n",
    "    i <- i+6\n",
    "    j <- j+6  \n",
    "\n",
    "}\n"
   ]
  },
  {
   "cell_type": "code",
   "execution_count": 153,
   "metadata": {
    "vscode": {
     "languageId": "r"
    }
   },
   "outputs": [
    {
     "data": {
      "text/html": [
       "<table class=\"dataframe\">\n",
       "<caption>A matrix: 6 × 7 of type int</caption>\n",
       "<thead>\n",
       "\t<tr><th></th><th scope=col>asd_17_IN_PV</th><th scope=col>asd_18_IN_PV</th><th scope=col>asd_57_IN_PV</th><th scope=col>ctr_20_IN_PV</th><th scope=col>ctr_32_IN_PV</th><th scope=col>ctr_56_IN_PV</th><th scope=col>asd_17_IN_SST</th></tr>\n",
       "</thead>\n",
       "<tbody>\n",
       "\t<tr><th scope=row>CYFIP2</th><td>2</td><td> 1</td><td>5</td><td>1</td><td>4</td><td> 6</td><td>0</td></tr>\n",
       "\t<tr><th scope=row>FLNA</th><td>0</td><td> 0</td><td>0</td><td>0</td><td>0</td><td> 0</td><td>0</td></tr>\n",
       "\t<tr><th scope=row>GABRA3</th><td>0</td><td> 1</td><td>0</td><td>0</td><td>0</td><td> 0</td><td>0</td></tr>\n",
       "\t<tr><th scope=row>GRIA2</th><td>4</td><td> 5</td><td>7</td><td>2</td><td>2</td><td>10</td><td>1</td></tr>\n",
       "\t<tr><th scope=row>GRIA3</th><td>0</td><td> 3</td><td>0</td><td>0</td><td>2</td><td> 2</td><td>0</td></tr>\n",
       "\t<tr><th scope=row>GRIA4</th><td>4</td><td>21</td><td>2</td><td>6</td><td>2</td><td>19</td><td>0</td></tr>\n",
       "</tbody>\n",
       "</table>\n"
      ],
      "text/latex": [
       "A matrix: 6 × 7 of type int\n",
       "\\begin{tabular}{r|lllllll}\n",
       "  & asd\\_17\\_IN\\_PV & asd\\_18\\_IN\\_PV & asd\\_57\\_IN\\_PV & ctr\\_20\\_IN\\_PV & ctr\\_32\\_IN\\_PV & ctr\\_56\\_IN\\_PV & asd\\_17\\_IN\\_SST\\\\\n",
       "\\hline\n",
       "\tCYFIP2 & 2 &  1 & 5 & 1 & 4 &  6 & 0\\\\\n",
       "\tFLNA & 0 &  0 & 0 & 0 & 0 &  0 & 0\\\\\n",
       "\tGABRA3 & 0 &  1 & 0 & 0 & 0 &  0 & 0\\\\\n",
       "\tGRIA2 & 4 &  5 & 7 & 2 & 2 & 10 & 1\\\\\n",
       "\tGRIA3 & 0 &  3 & 0 & 0 & 2 &  2 & 0\\\\\n",
       "\tGRIA4 & 4 & 21 & 2 & 6 & 2 & 19 & 0\\\\\n",
       "\\end{tabular}\n"
      ],
      "text/markdown": [
       "\n",
       "A matrix: 6 × 7 of type int\n",
       "\n",
       "| <!--/--> | asd_17_IN_PV | asd_18_IN_PV | asd_57_IN_PV | ctr_20_IN_PV | ctr_32_IN_PV | ctr_56_IN_PV | asd_17_IN_SST |\n",
       "|---|---|---|---|---|---|---|---|\n",
       "| CYFIP2 | 2 |  1 | 5 | 1 | 4 |  6 | 0 |\n",
       "| FLNA | 0 |  0 | 0 | 0 | 0 |  0 | 0 |\n",
       "| GABRA3 | 0 |  1 | 0 | 0 | 0 |  0 | 0 |\n",
       "| GRIA2 | 4 |  5 | 7 | 2 | 2 | 10 | 1 |\n",
       "| GRIA3 | 0 |  3 | 0 | 0 | 2 |  2 | 0 |\n",
       "| GRIA4 | 4 | 21 | 2 | 6 | 2 | 19 | 0 |\n",
       "\n"
      ],
      "text/plain": [
       "       asd_17_IN_PV asd_18_IN_PV asd_57_IN_PV ctr_20_IN_PV ctr_32_IN_PV\n",
       "CYFIP2 2             1           5            1            4           \n",
       "FLNA   0             0           0            0            0           \n",
       "GABRA3 0             1           0            0            0           \n",
       "GRIA2  4             5           7            2            2           \n",
       "GRIA3  0             3           0            0            2           \n",
       "GRIA4  4            21           2            6            2           \n",
       "       ctr_56_IN_PV asd_17_IN_SST\n",
       "CYFIP2  6           0            \n",
       "FLNA    0           0            \n",
       "GABRA3  0           0            \n",
       "GRIA2  10           1            \n",
       "GRIA3   2           0            \n",
       "GRIA4  19           0            "
      ]
     },
     "metadata": {},
     "output_type": "display_data"
    }
   ],
   "source": [
    "head(sub_data)"
   ]
  },
  {
   "cell_type": "code",
   "execution_count": 146,
   "metadata": {
    "vscode": {
     "languageId": "r"
    }
   },
   "outputs": [],
   "source": [
    "\n",
    "    #差异分析\n",
    "    dds <- DESeqDataSetFromMatrix(countData = sub_data, colData = annotation_col, design = ~ condition)\n",
    "\n"
   ]
  },
  {
   "cell_type": "code",
   "execution_count": 145,
   "metadata": {
    "vscode": {
     "languageId": "r"
    }
   },
   "outputs": [
    {
     "data": {
      "text/plain": [
       "class: DESeqDataSet \n",
       "dim: 10 6 \n",
       "metadata(1): version\n",
       "assays(1): counts\n",
       "rownames(10): CYFIP2 FLNA ... HTR2C KCNA1\n",
       "rowData names(0):\n",
       "colnames(6): asd_17_IN_VIP asd_18_IN_VIP ... ctr_32_IN_VIP\n",
       "  ctr_56_IN_VIP\n",
       "colData names(2): condition phases"
      ]
     },
     "metadata": {},
     "output_type": "display_data"
    }
   ],
   "source": []
  },
  {
   "cell_type": "code",
   "execution_count": 147,
   "metadata": {
    "vscode": {
     "languageId": "r"
    }
   },
   "outputs": [
    {
     "name": "stderr",
     "output_type": "stream",
     "text": [
      "estimating size factors\n",
      "\n",
      "estimating dispersions\n",
      "\n",
      "gene-wise dispersion estimates\n",
      "\n",
      "mean-dispersion relationship\n",
      "\n",
      "-- note: fitType='parametric', but the dispersion trend was not well captured by the\n",
      "   function: y = a/x + b, and a local regression fit was automatically substituted.\n",
      "   specify fitType='local' or 'mean' to avoid this message next time.\n",
      "\n",
      "Warning message in lfproc(x, y, weights = weights, cens = cens, base = base, geth = geth, :\n",
      "“procv: no points with non-zero weight”\n",
      "Warning message in lfproc(x, y, weights = weights, cens = cens, base = base, geth = geth, :\n",
      "“procv: no points with non-zero weight”\n",
      "Warning message in lfproc(x, y, weights = weights, cens = cens, base = base, geth = geth, :\n",
      "“procv: no points with non-zero weight”\n",
      "Warning message in lfproc(x, y, weights = weights, cens = cens, base = base, geth = geth, :\n",
      "“procv: no points with non-zero weight”\n",
      "Warning message in lfproc(x, y, weights = weights, cens = cens, base = base, geth = geth, :\n",
      "“procv: no points with non-zero weight”\n",
      "Warning message in lfproc(x, y, weights = weights, cens = cens, base = base, geth = geth, :\n",
      "“procv: no points with non-zero weight”\n",
      "Warning message in lfproc(x, y, weights = weights, cens = cens, base = base, geth = geth, :\n",
      "“procv: no points with non-zero weight”\n",
      "Warning message in lfproc(x, y, weights = weights, cens = cens, base = base, geth = geth, :\n",
      "“procv: no points with non-zero weight”\n",
      "Warning message in lfproc(x, y, weights = weights, cens = cens, base = base, geth = geth, :\n",
      "“procv: no points with non-zero weight”\n",
      "Warning message in lfproc(x, y, weights = weights, cens = cens, base = base, geth = geth, :\n",
      "“procv: no points with non-zero weight”\n",
      "Warning message in lfproc(x, y, weights = weights, cens = cens, base = base, geth = geth, :\n",
      "“procv: no points with non-zero weight”\n",
      "Warning message in lfproc(x, y, weights = weights, cens = cens, base = base, geth = geth, :\n",
      "“procv: no points with non-zero weight”\n",
      "Warning message in lfproc(x, y, weights = weights, cens = cens, base = base, geth = geth, :\n",
      "“procv: no points with non-zero weight”\n",
      "Warning message in lfproc(x, y, weights = weights, cens = cens, base = base, geth = geth, :\n",
      "“procv: no points with non-zero weight”\n",
      "Warning message in lfproc(x, y, weights = weights, cens = cens, base = base, geth = geth, :\n",
      "“procv: no points with non-zero weight”\n",
      "Warning message in lfproc(x, y, weights = weights, cens = cens, base = base, geth = geth, :\n",
      "“procv: no points with non-zero weight”\n",
      "Warning message in lfproc(x, y, weights = weights, cens = cens, base = base, geth = geth, :\n",
      "“procv: no points with non-zero weight”\n"
     ]
    },
    {
     "ename": "ERROR",
     "evalue": "Error in lfproc(x, y, weights = weights, cens = cens, base = base, geth = geth, : newsplit: out of vertex space\n",
     "output_type": "error",
     "traceback": [
      "Error in lfproc(x, y, weights = weights, cens = cens, base = base, geth = geth, : newsplit: out of vertex space\nTraceback:\n",
      "1. DESeq(dds)",
      "2. estimateDispersions(object, fitType = fitType, quiet = quiet, \n .     modelMatrix = modelMatrix, minmu = minmu)",
      "3. estimateDispersions(object, fitType = fitType, quiet = quiet, \n .     modelMatrix = modelMatrix, minmu = minmu)",
      "4. .local(object, ...)",
      "5. estimateDispersionsFit(object, fitType = fitType, quiet = quiet)",
      "6. localDispersionFit(means = mcols(objectNZ)$baseMean[useForFit], \n .     disps = mcols(objectNZ)$dispGeneEst[useForFit], minDisp = minDisp)",
      "7. locfit(logDisps ~ logMeans, data = d[disps >= minDisp * 10, , \n .     drop = FALSE], weights = means[disps >= minDisp * 10])",
      "8. lfproc(x, y, weights = weights, cens = cens, base = base, geth = geth, \n .     ...)"
     ]
    }
   ],
   "source": [
    "\n",
    "    dds <- DESeq(dds)\n"
   ]
  },
  {
   "cell_type": "code",
   "execution_count": null,
   "metadata": {
    "vscode": {
     "languageId": "r"
    }
   },
   "outputs": [],
   "source": [
    "    res <- results(dds,contrast = c(\"condition\",\"Asd\",\"Ctr\"))\n",
    "    res1 <- data.frame(res, stringsAsFactors = FALSE, check.names = FALSE)"
   ]
  },
  {
   "cell_type": "code",
   "execution_count": null,
   "metadata": {
    "vscode": {
     "languageId": "r"
    }
   },
   "outputs": [],
   "source": [
    "    res <- results(dds,contrast = c(\"condition\",\"Asd\",\"Ctr\"))\n",
    "    res1 <- data.frame(res, stringsAsFactors = FALSE, check.names = FALSE)"
   ]
  },
  {
   "cell_type": "code",
   "execution_count": 127,
   "metadata": {
    "vscode": {
     "languageId": "r"
    }
   },
   "outputs": [
    {
     "data": {
      "text/html": [
       "<table class=\"dataframe\">\n",
       "<caption>A data.frame: 6 × 2</caption>\n",
       "<thead>\n",
       "\t<tr><th></th><th scope=col>condition</th><th scope=col>phases</th></tr>\n",
       "\t<tr><th></th><th scope=col>&lt;fct&gt;</th><th scope=col>&lt;fct&gt;</th></tr>\n",
       "</thead>\n",
       "<tbody>\n",
       "\t<tr><th scope=row>asd_17_L2_3_ExN</th><td>Asd</td><td>17</td></tr>\n",
       "\t<tr><th scope=row>asd_18_L2_3_ExN</th><td>Asd</td><td>18</td></tr>\n",
       "\t<tr><th scope=row>asd_57_L2_3_ExN</th><td>Asd</td><td>57</td></tr>\n",
       "\t<tr><th scope=row>ctr_20_L2_3_ExN</th><td>Ctr</td><td>20</td></tr>\n",
       "\t<tr><th scope=row>ctr_32_L2_3_ExN</th><td>Ctr</td><td>23</td></tr>\n",
       "\t<tr><th scope=row>ctr_56_L2_3_ExN</th><td>Ctr</td><td>56</td></tr>\n",
       "</tbody>\n",
       "</table>\n"
      ],
      "text/latex": [
       "A data.frame: 6 × 2\n",
       "\\begin{tabular}{r|ll}\n",
       "  & condition & phases\\\\\n",
       "  & <fct> & <fct>\\\\\n",
       "\\hline\n",
       "\tasd\\_17\\_L2\\_3\\_ExN & Asd & 17\\\\\n",
       "\tasd\\_18\\_L2\\_3\\_ExN & Asd & 18\\\\\n",
       "\tasd\\_57\\_L2\\_3\\_ExN & Asd & 57\\\\\n",
       "\tctr\\_20\\_L2\\_3\\_ExN & Ctr & 20\\\\\n",
       "\tctr\\_32\\_L2\\_3\\_ExN & Ctr & 23\\\\\n",
       "\tctr\\_56\\_L2\\_3\\_ExN & Ctr & 56\\\\\n",
       "\\end{tabular}\n"
      ],
      "text/markdown": [
       "\n",
       "A data.frame: 6 × 2\n",
       "\n",
       "| <!--/--> | condition &lt;fct&gt; | phases &lt;fct&gt; |\n",
       "|---|---|---|\n",
       "| asd_17_L2_3_ExN | Asd | 17 |\n",
       "| asd_18_L2_3_ExN | Asd | 18 |\n",
       "| asd_57_L2_3_ExN | Asd | 57 |\n",
       "| ctr_20_L2_3_ExN | Ctr | 20 |\n",
       "| ctr_32_L2_3_ExN | Ctr | 23 |\n",
       "| ctr_56_L2_3_ExN | Ctr | 56 |\n",
       "\n"
      ],
      "text/plain": [
       "                condition phases\n",
       "asd_17_L2_3_ExN Asd       17    \n",
       "asd_18_L2_3_ExN Asd       18    \n",
       "asd_57_L2_3_ExN Asd       57    \n",
       "ctr_20_L2_3_ExN Ctr       20    \n",
       "ctr_32_L2_3_ExN Ctr       23    \n",
       "ctr_56_L2_3_ExN Ctr       56    "
      ]
     },
     "metadata": {},
     "output_type": "display_data"
    }
   ],
   "source": [
    "sub_data <- data[,range]\n",
    "annotation_col = data.frame(\n",
    "  condition = factor(rep(c(\"Asd\",\"Ctr\"),each=3)),\n",
    "  phases = factor(c(\"17\",\"18\",\"57\",\"20\",\"23\",\"56\"))\n",
    "  #phases = factor(rep(c(\"16\",\"20\",'25'),times=3))\n",
    ")\n",
    "rownames(annotation_col) = colnames(sub_data)\n",
    "head(annotation_col)\n",
    "\n",
    "\n",
    "#差异分析\n",
    "dds <- DESeqDataSetFromMatrix(countData = sub_data, colData = annotation_col, design = ~ condition)\n",
    "\n",
    "\n",
    "dds <- DESeq(dds)\n",
    "res <- results(dds,contrast = c(\"condition\",\"Asd\",\"Ctr\"))\n",
    "res1 <- data.frame(res, stringsAsFactors = FALSE, check.names = FALSE)\n",
    "write.table(res1, \"/disk1/wenqing/tmp_data/ASD/sysnaptic_genes_De/L2_3_ExN_De.txt\", col.names = NA, sep = '\\t', quote = FALSE)\n",
    "#res <- subset(res, padj < 0.1 & abs(log2FoldChange) > 1)\n",
    "\n"
   ]
  },
  {
   "cell_type": "code",
   "execution_count": null,
   "metadata": {
    "vscode": {
     "languageId": "r"
    }
   },
   "outputs": [],
   "source": [
    "\n",
    "#filtering\n",
    "res1 <- res1[order(res1$padj, res1$log2FoldChange, decreasing = c(FALSE, TRUE)), ]\n",
    "\n",
    "#log2FC≥1 & padj<0.1 标识 up，代表显著上调的基因\n",
    "#log2FC≤-1 & padj<0.1 标识 down，代表显著下调的基因\n",
    "#其余标识 none，代表非差异的基因\n",
    "res1[which(res1$log2FoldChange >= 1 & res1$padj < 0.1),'sig'] <- 'up'\n",
    "res1[which(res1$log2FoldChange <= -1 & res1$padj < 0.1),'sig'] <- 'down'\n",
    "res1[which(abs(res1$log2FoldChange) <= 1 | res1$padj >= 0.1),'sig'] <- 'none'\n",
    "\n",
    "#输出选择的差异基因总表\n",
    "res1_select <- subset(res1, sig %in% c('up', 'down'))\n",
    "#write.table(res1_select, file = './analysis/ASD/deseq_asd_ctr_select.txt', sep = '\\t', col.names = NA, quote = FALSE)\n",
    "\n",
    "#根据 up 和 down 分开输出\n",
    "res1_up <- subset(res1, sig == 'up')\n",
    "res1_down <- subset(res1, sig == 'down')\n",
    "\n",
    "#write.table(res1_up, file = 'control_treat.DESeq2.up.txt', sep = '\\t', col.names = NA, quote = FALSE)\n",
    "#write.table(res1_down, file = 'control_treat.DESeq2.down.txt', sep = '\\t', col.names = NA, quote = FALSE)\n",
    "\n",
    "#pdf(\"/disk1/wenqing/tmp_data/ASD/sysnaptic_genes_De_L2_3.pdf\")\n",
    "pheatmap(sub_data, annotation_col = annotation_col, annotation_legend = TRUE,cluster_cols = F,cluster_rows = T,show_colnames=F)\n",
    "#dev.off()"
   ]
  },
  {
   "cell_type": "code",
   "execution_count": 132,
   "metadata": {
    "vscode": {
     "languageId": "r"
    }
   },
   "outputs": [],
   "source": [
    "library(ggpubr)\n",
    "library(ggsignif)\n",
    "library(ggplot2)\n",
    "library(colorspace)\n",
    "colors<-qualitative_hcl(10,palette = \"Set3\")\n"
   ]
  },
  {
   "cell_type": "code",
   "execution_count": null,
   "metadata": {
    "vscode": {
     "languageId": "r"
    }
   },
   "outputs": [],
   "source": [
    "\n",
    "compaired <- list(c(\"Microglia\",\"CGE-derived InN\"), \n",
    "                  c(\"Microglia\",\"MGE-derived InN\"), \n",
    "                  c(\"Microglia\",\"Olig\"),\n",
    "                  c(\"Microglia\",\"Astrocyte\"),\n",
    "                  c(\"Microglia\",\"DG ExN\"),\n",
    "                  c(\"Microglia\",\"Non_DG ExN\"),\n",
    "                  c(\"CGE-derived InN\",\"MGE-derived InN\"),\n",
    "                  c(\"CGE-derived InN\",\"Olig\"),\n",
    "                  c(\"CGE-derived InN\",\"Astrocyte\"),\n",
    "                  c(\"CGE-derived InN\",\"DG ExN\"),\n",
    "                  c(\"CGE-derived InN\",\"Non_DG ExN\"),\n",
    "                  c(\"MGE-derived InN\",\"Olig\"),\n",
    "                  c(\"MGE-derived InN\",\"Astrocyte\"),\n",
    "                  c(\"MGE-derived InN\",\"DG ExN\"),\n",
    "                  c(\"MGE-derived InN\",\"Non_DG ExN\"),\n",
    "                  c(\"Olig\",\"Astrocyte\"),\n",
    "                  c(\"Olig\",\"DG ExN\"),\n",
    "                  c(\"Olig\",\"Non_DG ExN\"),\n",
    "                  c(\"Astrocyte\",\"DG ExN\"),\n",
    "                  c(\"DG ExN\",\"Non_DG ExN\")\n",
    "                  )\n"
   ]
  },
  {
   "cell_type": "code",
   "execution_count": null,
   "metadata": {
    "vscode": {
     "languageId": "r"
    }
   },
   "outputs": [],
   "source": [
    "data_res$group = factor(data_res$group, levels=c(\"Microglia\",\"CGE-derived InN\",\"MGE-derived InN\",\"Olig\",\"Astrocyte\",\"DG ExN\",\"Non_DG ExN\"))\n",
    "pdf(\"./finalVer_res/GW18/ResByCellType_ReadOver.pdf\")\n",
    "ggplot(data_res, aes(group, RES, fill = group),group = factor(1)) +\n",
    "  geom_boxplot() +\n",
    "  #ylim(1.5, 6.5) +\n",
    "  # geom_signif(comparisons = compaired,\n",
    "  #   step_increase = 0.05,\n",
    "  #   map_signif_level = T,\n",
    "  #   textsize = 2.3,\n",
    "  #   test = wilcox.test)+\n",
    "  theme(axis.title.x = NULL, axis.text.x = element_text(size = rel(0.85)),legend.position=\"none\")+\n",
    "  scale_fill_manual(values=colors)+\n",
    "dev.off()\n",
    "\n",
    "compaired_1 <- list(\n",
    "                  c(\"Microglia\",\"MGE-derived InN\"), \n",
    "                  c(\"Microglia\",\"Olig\"),\n",
    "                  c(\"Microglia\",\"Astrocyte\"),\n",
    "                  c(\"Microglia\",\"DG ExN\"),\n",
    "                  c(\"Microglia\",\"Non_DG ExN\"),\n",
    "                  c(\"CGE-derived InN\",\"MGE-derived InN\"),\n",
    "                  c(\"CGE-derived InN\",\"Olig\"),\n",
    "                  c(\"CGE-derived InN\",\"Astrocyte\"),\n",
    "                  c(\"CGE-derived InN\",\"DG ExN\"),\n",
    "                  c(\"CGE-derived InN\",\"Non_DG ExN\"),\n",
    "                  c(\"MGE-derived InN\",\"Olig\"),\n",
    "                  c(\"MGE-derived InN\",\"Astrocyte\"),\n",
    "                  c(\"MGE-derived InN\",\"DG ExN\"),\n",
    "                  c(\"MGE-derived InN\",\"Non_DG ExN\"),\n",
    "                  c(\"Olig\",\"Non_DG ExN\"),\n",
    "                  c(\"Astrocyte\",\"DG ExN\"),\n",
    "                  c(\"DG ExN\",\"Non_DG ExN\")\n",
    ")\n",
    "\n",
    "data_res_deGeneNum$group = factor(data_res_deGeneNum$group, levels=c(\"Microglia\",\"CGE-derived InN\",\"MGE-derived InN\",\"Olig\",\"Astrocyte\",\"DG ExN\",\"Non_DG ExN\"))\n",
    "pdf(\"~/SPRINT/bulk/18/filteredRES/resOnGenes_over1de11/uniq_res/ResBygenes_filterRes1De11.pdf\")\n",
    "ggplot(data_res_deGeneNum, aes(group, RES, fill = group),group = factor(1)) +\n",
    "  geom_boxplot() +\n",
    "  #ylim(0, 200) +\n",
    "  geom_signif(comparisons = compaired_1,\n",
    "              step_increase = 0.05,\n",
    "              map_signif_level = T,\n",
    "              textsize = 2.3,\n",
    "              test = wilcox.test)+\n",
    "  theme(axis.title.x = NULL, axis.text.x = element_text(size = rel(0.85)),legend.position=\"none\")+\n",
    "  scale_fill_manual(values=colors)\n",
    "dev.off()"
   ]
  },
  {
   "cell_type": "code",
   "execution_count": 1,
   "metadata": {
    "vscode": {
     "languageId": "r"
    }
   },
   "outputs": [
    {
     "data": {
      "text/html": [
       "0.00454748382943821"
      ],
      "text/latex": [
       "0.00454748382943821"
      ],
      "text/markdown": [
       "0.00454748382943821"
      ],
      "text/plain": [
       "[1] 0.004547484"
      ]
     },
     "metadata": {},
     "output_type": "display_data"
    },
    {
     "data": {
      "text/html": [
       "0.0107049919811967"
      ],
      "text/latex": [
       "0.0107049919811967"
      ],
      "text/markdown": [
       "0.0107049919811967"
      ],
      "text/plain": [
       "[1] 0.01070499"
      ]
     },
     "metadata": {},
     "output_type": "display_data"
    }
   ],
   "source": [
    "876/192634\n",
    "7269/679029"
   ]
  }
 ],
 "metadata": {
  "kernelspec": {
   "display_name": "R",
   "language": "R",
   "name": "ir"
  },
  "language_info": {
   "codemirror_mode": "r",
   "file_extension": ".r",
   "mimetype": "text/x-r-source",
   "name": "R",
   "pygments_lexer": "r",
   "version": "4.3.1"
  },
  "orig_nbformat": 4
 },
 "nbformat": 4,
 "nbformat_minor": 2
}
