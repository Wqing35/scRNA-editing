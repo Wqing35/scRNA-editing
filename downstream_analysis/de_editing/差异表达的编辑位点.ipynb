{
 "cells": [
  {
   "cell_type": "code",
   "execution_count": 1,
   "metadata": {
    "vscode": {
     "languageId": "r"
    }
   },
   "outputs": [
    {
     "data": {
      "text/html": [
       "'/disk1/wenqing/anaconda3/envs/wq_R4.2/lib/R/library'"
      ],
      "text/latex": [
       "'/disk1/wenqing/anaconda3/envs/wq\\_R4.2/lib/R/library'"
      ],
      "text/markdown": [
       "'/disk1/wenqing/anaconda3/envs/wq_R4.2/lib/R/library'"
      ],
      "text/plain": [
       "[1] \"/disk1/wenqing/anaconda3/envs/wq_R4.2/lib/R/library\""
      ]
     },
     "metadata": {},
     "output_type": "display_data"
    }
   ],
   "source": [
    ".libPaths()"
   ]
  },
  {
   "cell_type": "code",
   "execution_count": 2,
   "metadata": {
    "vscode": {
     "languageId": "r"
    }
   },
   "outputs": [],
   "source": [
    "####各细胞类型中ASD Vs CTR RNA编辑位点（位于剪接供受体上下游5个bp的）的差异表达\n",
    "uniq_all_sites <- read.table(\"/disk1/wenqing/tmp_data/ASD/donor_acceptor_sites_us_ds_5bp.txt\",header=T)\n"
   ]
  },
  {
   "cell_type": "code",
   "execution_count": 16,
   "metadata": {
    "vscode": {
     "languageId": "r"
    }
   },
   "outputs": [],
   "source": [
    "rownames(uniq_all_sites) <- uniq_all_sites$site"
   ]
  },
  {
   "cell_type": "code",
   "execution_count": 37,
   "metadata": {
    "vscode": {
     "languageId": "r"
    }
   },
   "outputs": [
    {
     "data": {
      "text/html": [
       "198524"
      ],
      "text/latex": [
       "198524"
      ],
      "text/markdown": [
       "198524"
      ],
      "text/plain": [
       "[1] 198524"
      ]
     },
     "metadata": {},
     "output_type": "display_data"
    },
    {
     "data": {
      "text/html": [
       "483381"
      ],
      "text/latex": [
       "483381"
      ],
      "text/markdown": [
       "483381"
      ],
      "text/plain": [
       "[1] 483381"
      ]
     },
     "metadata": {},
     "output_type": "display_data"
    },
    {
     "data": {
      "text/html": [
       "54662"
      ],
      "text/latex": [
       "54662"
      ],
      "text/markdown": [
       "54662"
      ],
      "text/plain": [
       "[1] 54662"
      ]
     },
     "metadata": {},
     "output_type": "display_data"
    },
    {
     "data": {
      "text/html": [
       "80594"
      ],
      "text/latex": [
       "80594"
      ],
      "text/markdown": [
       "80594"
      ],
      "text/plain": [
       "[1] 80594"
      ]
     },
     "metadata": {},
     "output_type": "display_data"
    },
    {
     "data": {
      "text/html": [
       "324635"
      ],
      "text/latex": [
       "324635"
      ],
      "text/markdown": [
       "324635"
      ],
      "text/plain": [
       "[1] 324635"
      ]
     },
     "metadata": {},
     "output_type": "display_data"
    },
    {
     "data": {
      "text/html": [
       "374532"
      ],
      "text/latex": [
       "374532"
      ],
      "text/markdown": [
       "374532"
      ],
      "text/plain": [
       "[1] 374532"
      ]
     },
     "metadata": {},
     "output_type": "display_data"
    }
   ],
   "source": [
    "    celltype='L5_6'\n",
    "\n",
    "    all_res <- read.table(paste0(\"/disk1/wenqing/tmp_data/ASD/all.celltype.res.WzSampleInfo/all.\",celltype,\".res.WzSampleInfo\"))\n",
    "    all_res$V10 <- paste0(all_res$V1,\"_\",all_res$V3)\n",
    "    ####各样本、细胞类型的res数量\n",
    "    length(unique(all_res$V10[all_res$V9=='17']))\n",
    "    length(unique(all_res$V10[all_res$V9=='18']))\n",
    "    length(unique(all_res$V10[all_res$V9=='57']))\n",
    "    length(unique(all_res$V10[all_res$V9=='20']))\n",
    "    length(unique(all_res$V10[all_res$V9=='32']))\n",
    "    length(unique(all_res$V10[all_res$V9=='56']))\n"
   ]
  },
  {
   "cell_type": "code",
   "execution_count": 38,
   "metadata": {
    "vscode": {
     "languageId": "r"
    }
   },
   "outputs": [],
   "source": [
    "resInSpliceSite <- all_res[all_res$V10 %in% uniq_all_sites$site,]"
   ]
  },
  {
   "cell_type": "code",
   "execution_count": 33,
   "metadata": {
    "vscode": {
     "languageId": "r"
    }
   },
   "outputs": [
    {
     "data": {
      "text/html": [
       "<table class=\"dataframe\">\n",
       "<caption>A data.frame: 6 × 2</caption>\n",
       "<thead>\n",
       "\t<tr><th></th><th scope=col>site</th><th scope=col>info</th></tr>\n",
       "\t<tr><th></th><th scope=col>&lt;chr&gt;</th><th scope=col>&lt;chr&gt;</th></tr>\n",
       "</thead>\n",
       "<tbody>\n",
       "\t<tr><th scope=row>chr1_2102990</th><td>chr1_2102990 </td><td>acceptor_us_2_A</td></tr>\n",
       "\t<tr><th scope=row>chr1_9807072</th><td>chr1_9807072 </td><td>donor_ds_2_T   </td></tr>\n",
       "\t<tr><th scope=row>chr1_10043060</th><td>chr1_10043060</td><td>acceptor_us_2_A</td></tr>\n",
       "\t<tr><th scope=row>chr1_10456878</th><td>chr1_10456878</td><td>acceptor_us_2_A</td></tr>\n",
       "\t<tr><th scope=row>chr1_11089813</th><td>chr1_11089813</td><td>acceptor_us_2_A</td></tr>\n",
       "\t<tr><th scope=row>chr1_11089841</th><td>chr1_11089841</td><td>donor_ds_3_A_G </td></tr>\n",
       "</tbody>\n",
       "</table>\n"
      ],
      "text/latex": [
       "A data.frame: 6 × 2\n",
       "\\begin{tabular}{r|ll}\n",
       "  & site & info\\\\\n",
       "  & <chr> & <chr>\\\\\n",
       "\\hline\n",
       "\tchr1\\_2102990 & chr1\\_2102990  & acceptor\\_us\\_2\\_A\\\\\n",
       "\tchr1\\_9807072 & chr1\\_9807072  & donor\\_ds\\_2\\_T   \\\\\n",
       "\tchr1\\_10043060 & chr1\\_10043060 & acceptor\\_us\\_2\\_A\\\\\n",
       "\tchr1\\_10456878 & chr1\\_10456878 & acceptor\\_us\\_2\\_A\\\\\n",
       "\tchr1\\_11089813 & chr1\\_11089813 & acceptor\\_us\\_2\\_A\\\\\n",
       "\tchr1\\_11089841 & chr1\\_11089841 & donor\\_ds\\_3\\_A\\_G \\\\\n",
       "\\end{tabular}\n"
      ],
      "text/markdown": [
       "\n",
       "A data.frame: 6 × 2\n",
       "\n",
       "| <!--/--> | site &lt;chr&gt; | info &lt;chr&gt; |\n",
       "|---|---|---|\n",
       "| chr1_2102990 | chr1_2102990  | acceptor_us_2_A |\n",
       "| chr1_9807072 | chr1_9807072  | donor_ds_2_T    |\n",
       "| chr1_10043060 | chr1_10043060 | acceptor_us_2_A |\n",
       "| chr1_10456878 | chr1_10456878 | acceptor_us_2_A |\n",
       "| chr1_11089813 | chr1_11089813 | acceptor_us_2_A |\n",
       "| chr1_11089841 | chr1_11089841 | donor_ds_3_A_G  |\n",
       "\n"
      ],
      "text/plain": [
       "              site          info           \n",
       "chr1_2102990  chr1_2102990  acceptor_us_2_A\n",
       "chr1_9807072  chr1_9807072  donor_ds_2_T   \n",
       "chr1_10043060 chr1_10043060 acceptor_us_2_A\n",
       "chr1_10456878 chr1_10456878 acceptor_us_2_A\n",
       "chr1_11089813 chr1_11089813 acceptor_us_2_A\n",
       "chr1_11089841 chr1_11089841 donor_ds_3_A_G "
      ]
     },
     "metadata": {},
     "output_type": "display_data"
    }
   ],
   "source": [
    "head(uniq_all_sites[resInSpliceSite$V10,])"
   ]
  },
  {
   "cell_type": "code",
   "execution_count": 39,
   "metadata": {
    "vscode": {
     "languageId": "r"
    }
   },
   "outputs": [],
   "source": [
    "res <- cbind(unique(resInSpliceSite$V10),uniq_all_sites[unique(resInSpliceSite$V10),]$info)"
   ]
  },
  {
   "cell_type": "code",
   "execution_count": 40,
   "metadata": {
    "vscode": {
     "languageId": "r"
    }
   },
   "outputs": [
    {
     "data": {
      "text/html": [
       "<style>\n",
       ".list-inline {list-style: none; margin:0; padding: 0}\n",
       ".list-inline>li {display: inline-block}\n",
       ".list-inline>li:not(:last-child)::after {content: \"\\00b7\"; padding: 0 .5ex}\n",
       "</style>\n",
       "<ol class=list-inline><li>879</li><li>2</li></ol>\n"
      ],
      "text/latex": [
       "\\begin{enumerate*}\n",
       "\\item 879\n",
       "\\item 2\n",
       "\\end{enumerate*}\n"
      ],
      "text/markdown": [
       "1. 879\n",
       "2. 2\n",
       "\n",
       "\n"
      ],
      "text/plain": [
       "[1] 879   2"
      ]
     },
     "metadata": {},
     "output_type": "display_data"
    }
   ],
   "source": [
    "dim(res)"
   ]
  },
  {
   "cell_type": "code",
   "execution_count": 10,
   "metadata": {
    "vscode": {
     "languageId": "r"
    }
   },
   "outputs": [
    {
     "data": {
      "text/html": [
       "2273"
      ],
      "text/latex": [
       "2273"
      ],
      "text/markdown": [
       "2273"
      ],
      "text/plain": [
       "[1] 2273"
      ]
     },
     "metadata": {},
     "output_type": "display_data"
    },
    {
     "data": {
      "text/html": [
       "<table class=\"dataframe\">\n",
       "<caption>A data.frame: 6 × 10</caption>\n",
       "<thead>\n",
       "\t<tr><th></th><th scope=col>V1</th><th scope=col>V2</th><th scope=col>V3</th><th scope=col>V4</th><th scope=col>V5</th><th scope=col>V6</th><th scope=col>V7</th><th scope=col>V8</th><th scope=col>V9</th><th scope=col>V10</th></tr>\n",
       "\t<tr><th></th><th scope=col>&lt;chr&gt;</th><th scope=col>&lt;int&gt;</th><th scope=col>&lt;int&gt;</th><th scope=col>&lt;chr&gt;</th><th scope=col>&lt;int&gt;</th><th scope=col>&lt;chr&gt;</th><th scope=col>&lt;chr&gt;</th><th scope=col>&lt;chr&gt;</th><th scope=col>&lt;int&gt;</th><th scope=col>&lt;chr&gt;</th></tr>\n",
       "</thead>\n",
       "<tbody>\n",
       "\t<tr><th scope=row>1</th><td>chr1</td><td> 93816</td><td> 93817</td><td>TC</td><td>1</td><td>+</td><td>ACTTGTTTCATGGTCA</td><td>1:1</td><td>56</td><td>chr1_93817 </td></tr>\n",
       "\t<tr><th scope=row>2</th><td>chr1</td><td> 99317</td><td> 99318</td><td>TC</td><td>1</td><td>+</td><td>GGACGTCTCTAACTGG</td><td>1:1</td><td>56</td><td>chr1_99318 </td></tr>\n",
       "\t<tr><th scope=row>3</th><td>chr1</td><td>108401</td><td>108402</td><td>TC</td><td>1</td><td>-</td><td>GACGTGCAGGTTCCTA</td><td>1:1</td><td>56</td><td>chr1_108402</td></tr>\n",
       "\t<tr><th scope=row>4</th><td>chr1</td><td>108453</td><td>108454</td><td>TC</td><td>1</td><td>-</td><td>CCTAGCTTCTATCGCC</td><td>1:1</td><td>56</td><td>chr1_108454</td></tr>\n",
       "\t<tr><th scope=row>5</th><td>chr1</td><td>109917</td><td>109918</td><td>AG</td><td>2</td><td>-</td><td>GAACGGACACAAGTAA</td><td>1:1</td><td>56</td><td>chr1_109918</td></tr>\n",
       "\t<tr><th scope=row>6</th><td>chr1</td><td>109925</td><td>109926</td><td>AG</td><td>1</td><td>-</td><td>CGATGTAGTCTGATTG</td><td>1:1</td><td>56</td><td>chr1_109926</td></tr>\n",
       "</tbody>\n",
       "</table>\n"
      ],
      "text/latex": [
       "A data.frame: 6 × 10\n",
       "\\begin{tabular}{r|llllllllll}\n",
       "  & V1 & V2 & V3 & V4 & V5 & V6 & V7 & V8 & V9 & V10\\\\\n",
       "  & <chr> & <int> & <int> & <chr> & <int> & <chr> & <chr> & <chr> & <int> & <chr>\\\\\n",
       "\\hline\n",
       "\t1 & chr1 &  93816 &  93817 & TC & 1 & + & ACTTGTTTCATGGTCA & 1:1 & 56 & chr1\\_93817 \\\\\n",
       "\t2 & chr1 &  99317 &  99318 & TC & 1 & + & GGACGTCTCTAACTGG & 1:1 & 56 & chr1\\_99318 \\\\\n",
       "\t3 & chr1 & 108401 & 108402 & TC & 1 & - & GACGTGCAGGTTCCTA & 1:1 & 56 & chr1\\_108402\\\\\n",
       "\t4 & chr1 & 108453 & 108454 & TC & 1 & - & CCTAGCTTCTATCGCC & 1:1 & 56 & chr1\\_108454\\\\\n",
       "\t5 & chr1 & 109917 & 109918 & AG & 2 & - & GAACGGACACAAGTAA & 1:1 & 56 & chr1\\_109918\\\\\n",
       "\t6 & chr1 & 109925 & 109926 & AG & 1 & - & CGATGTAGTCTGATTG & 1:1 & 56 & chr1\\_109926\\\\\n",
       "\\end{tabular}\n"
      ],
      "text/markdown": [
       "\n",
       "A data.frame: 6 × 10\n",
       "\n",
       "| <!--/--> | V1 &lt;chr&gt; | V2 &lt;int&gt; | V3 &lt;int&gt; | V4 &lt;chr&gt; | V5 &lt;int&gt; | V6 &lt;chr&gt; | V7 &lt;chr&gt; | V8 &lt;chr&gt; | V9 &lt;int&gt; | V10 &lt;chr&gt; |\n",
       "|---|---|---|---|---|---|---|---|---|---|---|\n",
       "| 1 | chr1 |  93816 |  93817 | TC | 1 | + | ACTTGTTTCATGGTCA | 1:1 | 56 | chr1_93817  |\n",
       "| 2 | chr1 |  99317 |  99318 | TC | 1 | + | GGACGTCTCTAACTGG | 1:1 | 56 | chr1_99318  |\n",
       "| 3 | chr1 | 108401 | 108402 | TC | 1 | - | GACGTGCAGGTTCCTA | 1:1 | 56 | chr1_108402 |\n",
       "| 4 | chr1 | 108453 | 108454 | TC | 1 | - | CCTAGCTTCTATCGCC | 1:1 | 56 | chr1_108454 |\n",
       "| 5 | chr1 | 109917 | 109918 | AG | 2 | - | GAACGGACACAAGTAA | 1:1 | 56 | chr1_109918 |\n",
       "| 6 | chr1 | 109925 | 109926 | AG | 1 | - | CGATGTAGTCTGATTG | 1:1 | 56 | chr1_109926 |\n",
       "\n"
      ],
      "text/plain": [
       "  V1   V2     V3     V4 V5 V6 V7               V8  V9 V10        \n",
       "1 chr1  93816  93817 TC 1  +  ACTTGTTTCATGGTCA 1:1 56 chr1_93817 \n",
       "2 chr1  99317  99318 TC 1  +  GGACGTCTCTAACTGG 1:1 56 chr1_99318 \n",
       "3 chr1 108401 108402 TC 1  -  GACGTGCAGGTTCCTA 1:1 56 chr1_108402\n",
       "4 chr1 108453 108454 TC 1  -  CCTAGCTTCTATCGCC 1:1 56 chr1_108454\n",
       "5 chr1 109917 109918 AG 2  -  GAACGGACACAAGTAA 1:1 56 chr1_109918\n",
       "6 chr1 109925 109926 AG 1  -  CGATGTAGTCTGATTG 1:1 56 chr1_109926"
      ]
     },
     "metadata": {},
     "output_type": "display_data"
    }
   ],
   "source": [
    "length(unique(resInSpliceSite$V10))\n",
    "head(all_res)"
   ]
  },
  {
   "cell_type": "code",
   "execution_count": 30,
   "metadata": {
    "vscode": {
     "languageId": "r"
    }
   },
   "outputs": [
    {
     "data": {
      "text/html": [
       "<table class=\"dataframe\">\n",
       "<caption>A data.frame: 26 × 10</caption>\n",
       "<thead>\n",
       "\t<tr><th></th><th scope=col>V1</th><th scope=col>V2</th><th scope=col>V3</th><th scope=col>V4</th><th scope=col>V5</th><th scope=col>V6</th><th scope=col>V7</th><th scope=col>V8</th><th scope=col>V9</th><th scope=col>V10</th></tr>\n",
       "\t<tr><th></th><th scope=col>&lt;chr&gt;</th><th scope=col>&lt;int&gt;</th><th scope=col>&lt;int&gt;</th><th scope=col>&lt;chr&gt;</th><th scope=col>&lt;int&gt;</th><th scope=col>&lt;chr&gt;</th><th scope=col>&lt;chr&gt;</th><th scope=col>&lt;chr&gt;</th><th scope=col>&lt;int&gt;</th><th scope=col>&lt;chr&gt;</th></tr>\n",
       "</thead>\n",
       "<tbody>\n",
       "\t<tr><th scope=row>772367</th><td>chr8</td><td>4250341</td><td>4250342</td><td>TC</td><td>2</td><td>+</td><td>CTGATCCAGTAAGTAC</td><td>2:2  </td><td>56</td><td>chr8_4250342</td></tr>\n",
       "\t<tr><th scope=row>1716163</th><td>chr8</td><td>4250341</td><td>4250342</td><td>TC</td><td>1</td><td>+</td><td>CTTCTCTGTTCGTTGA</td><td>2:2  </td><td>32</td><td>chr8_4250342</td></tr>\n",
       "\t<tr><th scope=row>1716164</th><td>chr8</td><td>4250341</td><td>4250342</td><td>TC</td><td>4</td><td>+</td><td>CGTAGGCGTGTGAATA</td><td>5:5  </td><td>32</td><td>chr8_4250342</td></tr>\n",
       "\t<tr><th scope=row>3225916</th><td>chr8</td><td>4250341</td><td>4250342</td><td>TC</td><td>1</td><td>+</td><td>AAGGCAGTCATTTGGG</td><td>1:1  </td><td>20</td><td>chr8_4250342</td></tr>\n",
       "\t<tr><th scope=row>3225917</th><td>chr8</td><td>4250341</td><td>4250342</td><td>TC</td><td>1</td><td>+</td><td>CTCGGAGAGGGTCGAT</td><td>1:1  </td><td>20</td><td>chr8_4250342</td></tr>\n",
       "\t<tr><th scope=row>3225918</th><td>chr8</td><td>4250341</td><td>4250342</td><td>TC</td><td>1</td><td>+</td><td>GATGAGGTCGTATCAG</td><td>6:6  </td><td>20</td><td>chr8_4250342</td></tr>\n",
       "\t<tr><th scope=row>3225919</th><td>chr8</td><td>4250341</td><td>4250342</td><td>TC</td><td>1</td><td>+</td><td>GTAGGCCTCCTTTACA</td><td>10:10</td><td>20</td><td>chr8_4250342</td></tr>\n",
       "\t<tr><th scope=row>3225920</th><td>chr8</td><td>4250341</td><td>4250342</td><td>TC</td><td>1</td><td>-</td><td>AAATGCCAGTCCAGGA</td><td>9:9  </td><td>20</td><td>chr8_4250342</td></tr>\n",
       "\t<tr><th scope=row>3225921</th><td>chr8</td><td>4250341</td><td>4250342</td><td>TC</td><td>1</td><td>-</td><td>ATTGGACCAGGGTATG</td><td>6:6  </td><td>20</td><td>chr8_4250342</td></tr>\n",
       "\t<tr><th scope=row>3225922</th><td>chr8</td><td>4250341</td><td>4250342</td><td>TC</td><td>1</td><td>-</td><td>GTAGGCCTCCTTTACA</td><td>10:10</td><td>20</td><td>chr8_4250342</td></tr>\n",
       "\t<tr><th scope=row>3225923</th><td>chr8</td><td>4250341</td><td>4250342</td><td>TC</td><td>1</td><td>-</td><td>GTCTCGTCACGTTGGC</td><td>10:10</td><td>20</td><td>chr8_4250342</td></tr>\n",
       "\t<tr><th scope=row>3225924</th><td>chr8</td><td>4250341</td><td>4250342</td><td>TC</td><td>2</td><td>+</td><td>AAATGCCAGTCCAGGA</td><td>9:9  </td><td>20</td><td>chr8_4250342</td></tr>\n",
       "\t<tr><th scope=row>3225925</th><td>chr8</td><td>4250341</td><td>4250342</td><td>TC</td><td>2</td><td>-</td><td>AGATTGCTCAACCATG</td><td>6:13 </td><td>20</td><td>chr8_4250342</td></tr>\n",
       "\t<tr><th scope=row>3225926</th><td>chr8</td><td>4250341</td><td>4250342</td><td>TC</td><td>5</td><td>+</td><td>CATCCACAGGGAACGG</td><td>13:21</td><td>20</td><td>chr8_4250342</td></tr>\n",
       "\t<tr><th scope=row>3225927</th><td>chr8</td><td>4250341</td><td>4250342</td><td>TC</td><td>5</td><td>+</td><td>TGATTTCTCTTCATGT</td><td>5:5  </td><td>20</td><td>chr8_4250342</td></tr>\n",
       "\t<tr><th scope=row>3225928</th><td>chr8</td><td>4250341</td><td>4250342</td><td>TC</td><td>8</td><td>+</td><td>GTCTCGTCACGTTGGC</td><td>10:10</td><td>20</td><td>chr8_4250342</td></tr>\n",
       "\t<tr><th scope=row>4252954</th><td>chr8</td><td>4250341</td><td>4250342</td><td>TC</td><td>1</td><td>+</td><td>CGCTATCTCATCATTC</td><td>1:1  </td><td>17</td><td>chr8_4250342</td></tr>\n",
       "\t<tr><th scope=row>4252955</th><td>chr8</td><td>4250341</td><td>4250342</td><td>TC</td><td>1</td><td>+</td><td>TCTGGAATCCCTCTTT</td><td>2:5  </td><td>17</td><td>chr8_4250342</td></tr>\n",
       "\t<tr><th scope=row>5701113</th><td>chr8</td><td>4250341</td><td>4250342</td><td>TC</td><td>1</td><td>+</td><td>CATATGGGTTCGGCAC</td><td>1:1  </td><td>18</td><td>chr8_4250342</td></tr>\n",
       "\t<tr><th scope=row>5701114</th><td>chr8</td><td>4250341</td><td>4250342</td><td>TC</td><td>1</td><td>+</td><td>GTCAAGTAGCGTGTCC</td><td>1:2  </td><td>18</td><td>chr8_4250342</td></tr>\n",
       "\t<tr><th scope=row>5701115</th><td>chr8</td><td>4250341</td><td>4250342</td><td>TC</td><td>1</td><td>+</td><td>TCTATTGAGCTATGCT</td><td>3:3  </td><td>18</td><td>chr8_4250342</td></tr>\n",
       "\t<tr><th scope=row>6808072</th><td>chr8</td><td>4250341</td><td>4250342</td><td>TC</td><td>1</td><td>+</td><td>ACGGCCATCCAAACTG</td><td>6:6  </td><td>57</td><td>chr8_4250342</td></tr>\n",
       "\t<tr><th scope=row>6808073</th><td>chr8</td><td>4250341</td><td>4250342</td><td>TC</td><td>1</td><td>+</td><td>CGACCTTAGACTGTAA</td><td>13:13</td><td>57</td><td>chr8_4250342</td></tr>\n",
       "\t<tr><th scope=row>6808074</th><td>chr8</td><td>4250341</td><td>4250342</td><td>TC</td><td>1</td><td>-</td><td>ACGGCCATCCAAACTG</td><td>6:6  </td><td>57</td><td>chr8_4250342</td></tr>\n",
       "\t<tr><th scope=row>6808075</th><td>chr8</td><td>4250341</td><td>4250342</td><td>TC</td><td>2</td><td>+</td><td>GACGTGCGTCAGAATA</td><td>2:2  </td><td>57</td><td>chr8_4250342</td></tr>\n",
       "\t<tr><th scope=row>6808076</th><td>chr8</td><td>4250341</td><td>4250342</td><td>TC</td><td>5</td><td>+</td><td>CCAGCGAAGGCCCTTG</td><td>1:11 </td><td>57</td><td>chr8_4250342</td></tr>\n",
       "</tbody>\n",
       "</table>\n"
      ],
      "text/latex": [
       "A data.frame: 26 × 10\n",
       "\\begin{tabular}{r|llllllllll}\n",
       "  & V1 & V2 & V3 & V4 & V5 & V6 & V7 & V8 & V9 & V10\\\\\n",
       "  & <chr> & <int> & <int> & <chr> & <int> & <chr> & <chr> & <chr> & <int> & <chr>\\\\\n",
       "\\hline\n",
       "\t772367 & chr8 & 4250341 & 4250342 & TC & 2 & + & CTGATCCAGTAAGTAC & 2:2   & 56 & chr8\\_4250342\\\\\n",
       "\t1716163 & chr8 & 4250341 & 4250342 & TC & 1 & + & CTTCTCTGTTCGTTGA & 2:2   & 32 & chr8\\_4250342\\\\\n",
       "\t1716164 & chr8 & 4250341 & 4250342 & TC & 4 & + & CGTAGGCGTGTGAATA & 5:5   & 32 & chr8\\_4250342\\\\\n",
       "\t3225916 & chr8 & 4250341 & 4250342 & TC & 1 & + & AAGGCAGTCATTTGGG & 1:1   & 20 & chr8\\_4250342\\\\\n",
       "\t3225917 & chr8 & 4250341 & 4250342 & TC & 1 & + & CTCGGAGAGGGTCGAT & 1:1   & 20 & chr8\\_4250342\\\\\n",
       "\t3225918 & chr8 & 4250341 & 4250342 & TC & 1 & + & GATGAGGTCGTATCAG & 6:6   & 20 & chr8\\_4250342\\\\\n",
       "\t3225919 & chr8 & 4250341 & 4250342 & TC & 1 & + & GTAGGCCTCCTTTACA & 10:10 & 20 & chr8\\_4250342\\\\\n",
       "\t3225920 & chr8 & 4250341 & 4250342 & TC & 1 & - & AAATGCCAGTCCAGGA & 9:9   & 20 & chr8\\_4250342\\\\\n",
       "\t3225921 & chr8 & 4250341 & 4250342 & TC & 1 & - & ATTGGACCAGGGTATG & 6:6   & 20 & chr8\\_4250342\\\\\n",
       "\t3225922 & chr8 & 4250341 & 4250342 & TC & 1 & - & GTAGGCCTCCTTTACA & 10:10 & 20 & chr8\\_4250342\\\\\n",
       "\t3225923 & chr8 & 4250341 & 4250342 & TC & 1 & - & GTCTCGTCACGTTGGC & 10:10 & 20 & chr8\\_4250342\\\\\n",
       "\t3225924 & chr8 & 4250341 & 4250342 & TC & 2 & + & AAATGCCAGTCCAGGA & 9:9   & 20 & chr8\\_4250342\\\\\n",
       "\t3225925 & chr8 & 4250341 & 4250342 & TC & 2 & - & AGATTGCTCAACCATG & 6:13  & 20 & chr8\\_4250342\\\\\n",
       "\t3225926 & chr8 & 4250341 & 4250342 & TC & 5 & + & CATCCACAGGGAACGG & 13:21 & 20 & chr8\\_4250342\\\\\n",
       "\t3225927 & chr8 & 4250341 & 4250342 & TC & 5 & + & TGATTTCTCTTCATGT & 5:5   & 20 & chr8\\_4250342\\\\\n",
       "\t3225928 & chr8 & 4250341 & 4250342 & TC & 8 & + & GTCTCGTCACGTTGGC & 10:10 & 20 & chr8\\_4250342\\\\\n",
       "\t4252954 & chr8 & 4250341 & 4250342 & TC & 1 & + & CGCTATCTCATCATTC & 1:1   & 17 & chr8\\_4250342\\\\\n",
       "\t4252955 & chr8 & 4250341 & 4250342 & TC & 1 & + & TCTGGAATCCCTCTTT & 2:5   & 17 & chr8\\_4250342\\\\\n",
       "\t5701113 & chr8 & 4250341 & 4250342 & TC & 1 & + & CATATGGGTTCGGCAC & 1:1   & 18 & chr8\\_4250342\\\\\n",
       "\t5701114 & chr8 & 4250341 & 4250342 & TC & 1 & + & GTCAAGTAGCGTGTCC & 1:2   & 18 & chr8\\_4250342\\\\\n",
       "\t5701115 & chr8 & 4250341 & 4250342 & TC & 1 & + & TCTATTGAGCTATGCT & 3:3   & 18 & chr8\\_4250342\\\\\n",
       "\t6808072 & chr8 & 4250341 & 4250342 & TC & 1 & + & ACGGCCATCCAAACTG & 6:6   & 57 & chr8\\_4250342\\\\\n",
       "\t6808073 & chr8 & 4250341 & 4250342 & TC & 1 & + & CGACCTTAGACTGTAA & 13:13 & 57 & chr8\\_4250342\\\\\n",
       "\t6808074 & chr8 & 4250341 & 4250342 & TC & 1 & - & ACGGCCATCCAAACTG & 6:6   & 57 & chr8\\_4250342\\\\\n",
       "\t6808075 & chr8 & 4250341 & 4250342 & TC & 2 & + & GACGTGCGTCAGAATA & 2:2   & 57 & chr8\\_4250342\\\\\n",
       "\t6808076 & chr8 & 4250341 & 4250342 & TC & 5 & + & CCAGCGAAGGCCCTTG & 1:11  & 57 & chr8\\_4250342\\\\\n",
       "\\end{tabular}\n"
      ],
      "text/markdown": [
       "\n",
       "A data.frame: 26 × 10\n",
       "\n",
       "| <!--/--> | V1 &lt;chr&gt; | V2 &lt;int&gt; | V3 &lt;int&gt; | V4 &lt;chr&gt; | V5 &lt;int&gt; | V6 &lt;chr&gt; | V7 &lt;chr&gt; | V8 &lt;chr&gt; | V9 &lt;int&gt; | V10 &lt;chr&gt; |\n",
       "|---|---|---|---|---|---|---|---|---|---|---|\n",
       "| 772367 | chr8 | 4250341 | 4250342 | TC | 2 | + | CTGATCCAGTAAGTAC | 2:2   | 56 | chr8_4250342 |\n",
       "| 1716163 | chr8 | 4250341 | 4250342 | TC | 1 | + | CTTCTCTGTTCGTTGA | 2:2   | 32 | chr8_4250342 |\n",
       "| 1716164 | chr8 | 4250341 | 4250342 | TC | 4 | + | CGTAGGCGTGTGAATA | 5:5   | 32 | chr8_4250342 |\n",
       "| 3225916 | chr8 | 4250341 | 4250342 | TC | 1 | + | AAGGCAGTCATTTGGG | 1:1   | 20 | chr8_4250342 |\n",
       "| 3225917 | chr8 | 4250341 | 4250342 | TC | 1 | + | CTCGGAGAGGGTCGAT | 1:1   | 20 | chr8_4250342 |\n",
       "| 3225918 | chr8 | 4250341 | 4250342 | TC | 1 | + | GATGAGGTCGTATCAG | 6:6   | 20 | chr8_4250342 |\n",
       "| 3225919 | chr8 | 4250341 | 4250342 | TC | 1 | + | GTAGGCCTCCTTTACA | 10:10 | 20 | chr8_4250342 |\n",
       "| 3225920 | chr8 | 4250341 | 4250342 | TC | 1 | - | AAATGCCAGTCCAGGA | 9:9   | 20 | chr8_4250342 |\n",
       "| 3225921 | chr8 | 4250341 | 4250342 | TC | 1 | - | ATTGGACCAGGGTATG | 6:6   | 20 | chr8_4250342 |\n",
       "| 3225922 | chr8 | 4250341 | 4250342 | TC | 1 | - | GTAGGCCTCCTTTACA | 10:10 | 20 | chr8_4250342 |\n",
       "| 3225923 | chr8 | 4250341 | 4250342 | TC | 1 | - | GTCTCGTCACGTTGGC | 10:10 | 20 | chr8_4250342 |\n",
       "| 3225924 | chr8 | 4250341 | 4250342 | TC | 2 | + | AAATGCCAGTCCAGGA | 9:9   | 20 | chr8_4250342 |\n",
       "| 3225925 | chr8 | 4250341 | 4250342 | TC | 2 | - | AGATTGCTCAACCATG | 6:13  | 20 | chr8_4250342 |\n",
       "| 3225926 | chr8 | 4250341 | 4250342 | TC | 5 | + | CATCCACAGGGAACGG | 13:21 | 20 | chr8_4250342 |\n",
       "| 3225927 | chr8 | 4250341 | 4250342 | TC | 5 | + | TGATTTCTCTTCATGT | 5:5   | 20 | chr8_4250342 |\n",
       "| 3225928 | chr8 | 4250341 | 4250342 | TC | 8 | + | GTCTCGTCACGTTGGC | 10:10 | 20 | chr8_4250342 |\n",
       "| 4252954 | chr8 | 4250341 | 4250342 | TC | 1 | + | CGCTATCTCATCATTC | 1:1   | 17 | chr8_4250342 |\n",
       "| 4252955 | chr8 | 4250341 | 4250342 | TC | 1 | + | TCTGGAATCCCTCTTT | 2:5   | 17 | chr8_4250342 |\n",
       "| 5701113 | chr8 | 4250341 | 4250342 | TC | 1 | + | CATATGGGTTCGGCAC | 1:1   | 18 | chr8_4250342 |\n",
       "| 5701114 | chr8 | 4250341 | 4250342 | TC | 1 | + | GTCAAGTAGCGTGTCC | 1:2   | 18 | chr8_4250342 |\n",
       "| 5701115 | chr8 | 4250341 | 4250342 | TC | 1 | + | TCTATTGAGCTATGCT | 3:3   | 18 | chr8_4250342 |\n",
       "| 6808072 | chr8 | 4250341 | 4250342 | TC | 1 | + | ACGGCCATCCAAACTG | 6:6   | 57 | chr8_4250342 |\n",
       "| 6808073 | chr8 | 4250341 | 4250342 | TC | 1 | + | CGACCTTAGACTGTAA | 13:13 | 57 | chr8_4250342 |\n",
       "| 6808074 | chr8 | 4250341 | 4250342 | TC | 1 | - | ACGGCCATCCAAACTG | 6:6   | 57 | chr8_4250342 |\n",
       "| 6808075 | chr8 | 4250341 | 4250342 | TC | 2 | + | GACGTGCGTCAGAATA | 2:2   | 57 | chr8_4250342 |\n",
       "| 6808076 | chr8 | 4250341 | 4250342 | TC | 5 | + | CCAGCGAAGGCCCTTG | 1:11  | 57 | chr8_4250342 |\n",
       "\n"
      ],
      "text/plain": [
       "        V1   V2      V3      V4 V5 V6 V7               V8    V9 V10         \n",
       "772367  chr8 4250341 4250342 TC 2  +  CTGATCCAGTAAGTAC 2:2   56 chr8_4250342\n",
       "1716163 chr8 4250341 4250342 TC 1  +  CTTCTCTGTTCGTTGA 2:2   32 chr8_4250342\n",
       "1716164 chr8 4250341 4250342 TC 4  +  CGTAGGCGTGTGAATA 5:5   32 chr8_4250342\n",
       "3225916 chr8 4250341 4250342 TC 1  +  AAGGCAGTCATTTGGG 1:1   20 chr8_4250342\n",
       "3225917 chr8 4250341 4250342 TC 1  +  CTCGGAGAGGGTCGAT 1:1   20 chr8_4250342\n",
       "3225918 chr8 4250341 4250342 TC 1  +  GATGAGGTCGTATCAG 6:6   20 chr8_4250342\n",
       "3225919 chr8 4250341 4250342 TC 1  +  GTAGGCCTCCTTTACA 10:10 20 chr8_4250342\n",
       "3225920 chr8 4250341 4250342 TC 1  -  AAATGCCAGTCCAGGA 9:9   20 chr8_4250342\n",
       "3225921 chr8 4250341 4250342 TC 1  -  ATTGGACCAGGGTATG 6:6   20 chr8_4250342\n",
       "3225922 chr8 4250341 4250342 TC 1  -  GTAGGCCTCCTTTACA 10:10 20 chr8_4250342\n",
       "3225923 chr8 4250341 4250342 TC 1  -  GTCTCGTCACGTTGGC 10:10 20 chr8_4250342\n",
       "3225924 chr8 4250341 4250342 TC 2  +  AAATGCCAGTCCAGGA 9:9   20 chr8_4250342\n",
       "3225925 chr8 4250341 4250342 TC 2  -  AGATTGCTCAACCATG 6:13  20 chr8_4250342\n",
       "3225926 chr8 4250341 4250342 TC 5  +  CATCCACAGGGAACGG 13:21 20 chr8_4250342\n",
       "3225927 chr8 4250341 4250342 TC 5  +  TGATTTCTCTTCATGT 5:5   20 chr8_4250342\n",
       "3225928 chr8 4250341 4250342 TC 8  +  GTCTCGTCACGTTGGC 10:10 20 chr8_4250342\n",
       "4252954 chr8 4250341 4250342 TC 1  +  CGCTATCTCATCATTC 1:1   17 chr8_4250342\n",
       "4252955 chr8 4250341 4250342 TC 1  +  TCTGGAATCCCTCTTT 2:5   17 chr8_4250342\n",
       "5701113 chr8 4250341 4250342 TC 1  +  CATATGGGTTCGGCAC 1:1   18 chr8_4250342\n",
       "5701114 chr8 4250341 4250342 TC 1  +  GTCAAGTAGCGTGTCC 1:2   18 chr8_4250342\n",
       "5701115 chr8 4250341 4250342 TC 1  +  TCTATTGAGCTATGCT 3:3   18 chr8_4250342\n",
       "6808072 chr8 4250341 4250342 TC 1  +  ACGGCCATCCAAACTG 6:6   57 chr8_4250342\n",
       "6808073 chr8 4250341 4250342 TC 1  +  CGACCTTAGACTGTAA 13:13 57 chr8_4250342\n",
       "6808074 chr8 4250341 4250342 TC 1  -  ACGGCCATCCAAACTG 6:6   57 chr8_4250342\n",
       "6808075 chr8 4250341 4250342 TC 2  +  GACGTGCGTCAGAATA 2:2   57 chr8_4250342\n",
       "6808076 chr8 4250341 4250342 TC 5  +  CCAGCGAAGGCCCTTG 1:11  57 chr8_4250342"
      ]
     },
     "metadata": {},
     "output_type": "display_data"
    }
   ],
   "source": [
    "all_res[which(all_res$V10==\"chr8_4250342\"),]"
   ]
  },
  {
   "cell_type": "code",
   "execution_count": 41,
   "metadata": {
    "vscode": {
     "languageId": "r"
    }
   },
   "outputs": [],
   "source": [
    "write.table(res,paste0(\"/disk1/wenqing/tmp_data/ASD/resInSpliceSite/\",celltype,\".res.InSplice.txt\"),quote=F,col.names=F,row.names=F)"
   ]
  }
 ],
 "metadata": {
  "kernelspec": {
   "display_name": "R",
   "language": "R",
   "name": "ir"
  },
  "language_info": {
   "codemirror_mode": "r",
   "file_extension": ".r",
   "mimetype": "text/x-r-source",
   "name": "R",
   "pygments_lexer": "r",
   "version": "4.3.1"
  },
  "orig_nbformat": 4,
  "vscode": {
   "interpreter": {
    "hash": "4587f8d71e481bac2dbb4139bf1f5d6af8d88103a069ab0b4e862134521318f6"
   }
  }
 },
 "nbformat": 4,
 "nbformat_minor": 2
}
