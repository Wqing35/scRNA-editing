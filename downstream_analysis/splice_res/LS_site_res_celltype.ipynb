{
 "cells": [
  {
   "cell_type": "code",
   "execution_count": 2,
   "metadata": {
    "vscode": {
     "languageId": "r"
    }
   },
   "outputs": [
    {
     "data": {
      "text/html": [
       "<table class=\"dataframe\">\n",
       "<caption>A data.frame: 6 × 5</caption>\n",
       "<thead>\n",
       "\t<tr><th></th><th scope=col>V1</th><th scope=col>V2</th><th scope=col>V3</th><th scope=col>V4</th><th scope=col>V5</th></tr>\n",
       "\t<tr><th></th><th scope=col>&lt;chr&gt;</th><th scope=col>&lt;int&gt;</th><th scope=col>&lt;int&gt;</th><th scope=col>&lt;chr&gt;</th><th scope=col>&lt;chr&gt;</th></tr>\n",
       "</thead>\n",
       "<tbody>\n",
       "\t<tr><th scope=row>1</th><td>chr6 </td><td>87344607</td><td>87345167</td><td>+</td><td>SMIM8  </td></tr>\n",
       "\t<tr><th scope=row>2</th><td>chr17</td><td>80328477</td><td>80332006</td><td>+</td><td>RNF213 </td></tr>\n",
       "\t<tr><th scope=row>3</th><td>chr10</td><td>99724123</td><td>99726968</td><td>-</td><td>COX15  </td></tr>\n",
       "\t<tr><th scope=row>4</th><td>chr12</td><td>21275424</td><td>21288136</td><td>-</td><td>SLCO1A2</td></tr>\n",
       "\t<tr><th scope=row>5</th><td>chr15</td><td>47762319</td><td>47763016</td><td>+</td><td>SEMA6D </td></tr>\n",
       "\t<tr><th scope=row>6</th><td>chr2 </td><td>28611499</td><td>28614031</td><td>+</td><td>PLB1   </td></tr>\n",
       "</tbody>\n",
       "</table>\n"
      ],
      "text/latex": [
       "A data.frame: 6 × 5\n",
       "\\begin{tabular}{r|lllll}\n",
       "  & V1 & V2 & V3 & V4 & V5\\\\\n",
       "  & <chr> & <int> & <int> & <chr> & <chr>\\\\\n",
       "\\hline\n",
       "\t1 & chr6  & 87344607 & 87345167 & + & SMIM8  \\\\\n",
       "\t2 & chr17 & 80328477 & 80332006 & + & RNF213 \\\\\n",
       "\t3 & chr10 & 99724123 & 99726968 & - & COX15  \\\\\n",
       "\t4 & chr12 & 21275424 & 21288136 & - & SLCO1A2\\\\\n",
       "\t5 & chr15 & 47762319 & 47763016 & + & SEMA6D \\\\\n",
       "\t6 & chr2  & 28611499 & 28614031 & + & PLB1   \\\\\n",
       "\\end{tabular}\n"
      ],
      "text/markdown": [
       "\n",
       "A data.frame: 6 × 5\n",
       "\n",
       "| <!--/--> | V1 &lt;chr&gt; | V2 &lt;int&gt; | V3 &lt;int&gt; | V4 &lt;chr&gt; | V5 &lt;chr&gt; |\n",
       "|---|---|---|---|---|---|\n",
       "| 1 | chr6  | 87344607 | 87345167 | + | SMIM8   |\n",
       "| 2 | chr17 | 80328477 | 80332006 | + | RNF213  |\n",
       "| 3 | chr10 | 99724123 | 99726968 | - | COX15   |\n",
       "| 4 | chr12 | 21275424 | 21288136 | - | SLCO1A2 |\n",
       "| 5 | chr15 | 47762319 | 47763016 | + | SEMA6D  |\n",
       "| 6 | chr2  | 28611499 | 28614031 | + | PLB1    |\n",
       "\n"
      ],
      "text/plain": [
       "  V1    V2       V3       V4 V5     \n",
       "1 chr6  87344607 87345167 +  SMIM8  \n",
       "2 chr17 80328477 80332006 +  RNF213 \n",
       "3 chr10 99724123 99726968 -  COX15  \n",
       "4 chr12 21275424 21288136 -  SLCO1A2\n",
       "5 chr15 47762319 47763016 +  SEMA6D \n",
       "6 chr2  28611499 28614031 +  PLB1   "
      ]
     },
     "metadata": {},
     "output_type": "display_data"
    }
   ],
   "source": [
    "####处理RJunBase的可变剪接位点，与iso做交叉\n",
    "LS_file <- read.table(\"/disk1/wenqing/tmp_data/RJunBase/processed_LS.txt\")\n",
    "head(LS_file)"
   ]
  },
  {
   "cell_type": "code",
   "execution_count": 3,
   "metadata": {
    "vscode": {
     "languageId": "r"
    }
   },
   "outputs": [],
   "source": [
    "new_ls_file <- LS_file\n",
    "new_ls_file$start_site <- new_ls_file$V2-2\n",
    "new_ls_file$end_site <- new_ls_file$V3+1"
   ]
  },
  {
   "cell_type": "code",
   "execution_count": 4,
   "metadata": {
    "vscode": {
     "languageId": "r"
    }
   },
   "outputs": [
    {
     "data": {
      "text/html": [
       "<table class=\"dataframe\">\n",
       "<caption>A data.frame: 6 × 7</caption>\n",
       "<thead>\n",
       "\t<tr><th></th><th scope=col>V1</th><th scope=col>V2</th><th scope=col>V3</th><th scope=col>V4</th><th scope=col>V5</th><th scope=col>start_site</th><th scope=col>end_site</th></tr>\n",
       "\t<tr><th></th><th scope=col>&lt;chr&gt;</th><th scope=col>&lt;int&gt;</th><th scope=col>&lt;int&gt;</th><th scope=col>&lt;chr&gt;</th><th scope=col>&lt;chr&gt;</th><th scope=col>&lt;dbl&gt;</th><th scope=col>&lt;dbl&gt;</th></tr>\n",
       "</thead>\n",
       "<tbody>\n",
       "\t<tr><th scope=row>1</th><td>chr6 </td><td>87344607</td><td>87345167</td><td>+</td><td>SMIM8  </td><td>87344605</td><td>87345168</td></tr>\n",
       "\t<tr><th scope=row>2</th><td>chr17</td><td>80328477</td><td>80332006</td><td>+</td><td>RNF213 </td><td>80328475</td><td>80332007</td></tr>\n",
       "\t<tr><th scope=row>3</th><td>chr10</td><td>99724123</td><td>99726968</td><td>-</td><td>COX15  </td><td>99724121</td><td>99726969</td></tr>\n",
       "\t<tr><th scope=row>4</th><td>chr12</td><td>21275424</td><td>21288136</td><td>-</td><td>SLCO1A2</td><td>21275422</td><td>21288137</td></tr>\n",
       "\t<tr><th scope=row>5</th><td>chr15</td><td>47762319</td><td>47763016</td><td>+</td><td>SEMA6D </td><td>47762317</td><td>47763017</td></tr>\n",
       "\t<tr><th scope=row>6</th><td>chr2 </td><td>28611499</td><td>28614031</td><td>+</td><td>PLB1   </td><td>28611497</td><td>28614032</td></tr>\n",
       "</tbody>\n",
       "</table>\n"
      ],
      "text/latex": [
       "A data.frame: 6 × 7\n",
       "\\begin{tabular}{r|lllllll}\n",
       "  & V1 & V2 & V3 & V4 & V5 & start\\_site & end\\_site\\\\\n",
       "  & <chr> & <int> & <int> & <chr> & <chr> & <dbl> & <dbl>\\\\\n",
       "\\hline\n",
       "\t1 & chr6  & 87344607 & 87345167 & + & SMIM8   & 87344605 & 87345168\\\\\n",
       "\t2 & chr17 & 80328477 & 80332006 & + & RNF213  & 80328475 & 80332007\\\\\n",
       "\t3 & chr10 & 99724123 & 99726968 & - & COX15   & 99724121 & 99726969\\\\\n",
       "\t4 & chr12 & 21275424 & 21288136 & - & SLCO1A2 & 21275422 & 21288137\\\\\n",
       "\t5 & chr15 & 47762319 & 47763016 & + & SEMA6D  & 47762317 & 47763017\\\\\n",
       "\t6 & chr2  & 28611499 & 28614031 & + & PLB1    & 28611497 & 28614032\\\\\n",
       "\\end{tabular}\n"
      ],
      "text/markdown": [
       "\n",
       "A data.frame: 6 × 7\n",
       "\n",
       "| <!--/--> | V1 &lt;chr&gt; | V2 &lt;int&gt; | V3 &lt;int&gt; | V4 &lt;chr&gt; | V5 &lt;chr&gt; | start_site &lt;dbl&gt; | end_site &lt;dbl&gt; |\n",
       "|---|---|---|---|---|---|---|---|\n",
       "| 1 | chr6  | 87344607 | 87345167 | + | SMIM8   | 87344605 | 87345168 |\n",
       "| 2 | chr17 | 80328477 | 80332006 | + | RNF213  | 80328475 | 80332007 |\n",
       "| 3 | chr10 | 99724123 | 99726968 | - | COX15   | 99724121 | 99726969 |\n",
       "| 4 | chr12 | 21275424 | 21288136 | - | SLCO1A2 | 21275422 | 21288137 |\n",
       "| 5 | chr15 | 47762319 | 47763016 | + | SEMA6D  | 47762317 | 47763017 |\n",
       "| 6 | chr2  | 28611499 | 28614031 | + | PLB1    | 28611497 | 28614032 |\n",
       "\n"
      ],
      "text/plain": [
       "  V1    V2       V3       V4 V5      start_site end_site\n",
       "1 chr6  87344607 87345167 +  SMIM8   87344605   87345168\n",
       "2 chr17 80328477 80332006 +  RNF213  80328475   80332007\n",
       "3 chr10 99724123 99726968 -  COX15   99724121   99726969\n",
       "4 chr12 21275424 21288136 -  SLCO1A2 21275422   21288137\n",
       "5 chr15 47762319 47763016 +  SEMA6D  47762317   47763017\n",
       "6 chr2  28611499 28614031 +  PLB1    28611497   28614032"
      ]
     },
     "metadata": {},
     "output_type": "display_data"
    }
   ],
   "source": [
    "head(new_ls_file)"
   ]
  },
  {
   "cell_type": "code",
   "execution_count": 5,
   "metadata": {
    "vscode": {
     "languageId": "r"
    }
   },
   "outputs": [],
   "source": [
    "all_acceptor_site <- paste0(new_ls_file$V1,\"_\",new_ls_file$V2)\n",
    "all_donor_site <- paste0(new_ls_file$V1,\"_\",new_ls_file$V3)\n",
    "all_site <- c(all_acceptor_site,all_donor_site)\n",
    "all_info <- c(rep(\"acceptor_us_2\",times=nrow(new_ls_file)),rep(\"donoe_ds_1\",times=nrow(new_ls_file)))\n",
    "all_site_info <- cbind(all_site,all_info,rep(new_ls_file$V5,times=2))"
   ]
  },
  {
   "cell_type": "code",
   "execution_count": 6,
   "metadata": {
    "vscode": {
     "languageId": "r"
    }
   },
   "outputs": [
    {
     "data": {
      "text/html": [
       "<table class=\"dataframe\">\n",
       "<caption>A matrix: 6 × 3 of type chr</caption>\n",
       "<thead>\n",
       "\t<tr><th scope=col>all_site</th><th scope=col>all_info</th><th scope=col></th></tr>\n",
       "</thead>\n",
       "<tbody>\n",
       "\t<tr><td>chr6_87344607 </td><td>acceptor_us_2</td><td>SMIM8  </td></tr>\n",
       "\t<tr><td>chr17_80328477</td><td>acceptor_us_2</td><td>RNF213 </td></tr>\n",
       "\t<tr><td>chr10_99724123</td><td>acceptor_us_2</td><td>COX15  </td></tr>\n",
       "\t<tr><td>chr12_21275424</td><td>acceptor_us_2</td><td>SLCO1A2</td></tr>\n",
       "\t<tr><td>chr15_47762319</td><td>acceptor_us_2</td><td>SEMA6D </td></tr>\n",
       "\t<tr><td>chr2_28611499 </td><td>acceptor_us_2</td><td>PLB1   </td></tr>\n",
       "</tbody>\n",
       "</table>\n"
      ],
      "text/latex": [
       "A matrix: 6 × 3 of type chr\n",
       "\\begin{tabular}{lll}\n",
       " all\\_site & all\\_info & \\\\\n",
       "\\hline\n",
       "\t chr6\\_87344607  & acceptor\\_us\\_2 & SMIM8  \\\\\n",
       "\t chr17\\_80328477 & acceptor\\_us\\_2 & RNF213 \\\\\n",
       "\t chr10\\_99724123 & acceptor\\_us\\_2 & COX15  \\\\\n",
       "\t chr12\\_21275424 & acceptor\\_us\\_2 & SLCO1A2\\\\\n",
       "\t chr15\\_47762319 & acceptor\\_us\\_2 & SEMA6D \\\\\n",
       "\t chr2\\_28611499  & acceptor\\_us\\_2 & PLB1   \\\\\n",
       "\\end{tabular}\n"
      ],
      "text/markdown": [
       "\n",
       "A matrix: 6 × 3 of type chr\n",
       "\n",
       "| all_site | all_info | <!----> |\n",
       "|---|---|---|\n",
       "| chr6_87344607  | acceptor_us_2 | SMIM8   |\n",
       "| chr17_80328477 | acceptor_us_2 | RNF213  |\n",
       "| chr10_99724123 | acceptor_us_2 | COX15   |\n",
       "| chr12_21275424 | acceptor_us_2 | SLCO1A2 |\n",
       "| chr15_47762319 | acceptor_us_2 | SEMA6D  |\n",
       "| chr2_28611499  | acceptor_us_2 | PLB1    |\n",
       "\n"
      ],
      "text/plain": [
       "     all_site       all_info             \n",
       "[1,] chr6_87344607  acceptor_us_2 SMIM8  \n",
       "[2,] chr17_80328477 acceptor_us_2 RNF213 \n",
       "[3,] chr10_99724123 acceptor_us_2 COX15  \n",
       "[4,] chr12_21275424 acceptor_us_2 SLCO1A2\n",
       "[5,] chr15_47762319 acceptor_us_2 SEMA6D \n",
       "[6,] chr2_28611499  acceptor_us_2 PLB1   "
      ]
     },
     "metadata": {},
     "output_type": "display_data"
    }
   ],
   "source": [
    "head(all_site_info)"
   ]
  },
  {
   "cell_type": "code",
   "execution_count": 7,
   "metadata": {
    "vscode": {
     "languageId": "r"
    }
   },
   "outputs": [],
   "source": [
    "L2_3_res_17 <- read.table(\"/disk1/wenqing/tmp_data/ASD/asd_male_pfc/asd_17/L2_3_ExN.res\")\n",
    "L2_3_res_17$V9 <- paste0(L2_3_res_17$V1,\"_\",L2_3_res_17$V3)"
   ]
  },
  {
   "cell_type": "code",
   "execution_count": 8,
   "metadata": {
    "vscode": {
     "languageId": "r"
    }
   },
   "outputs": [],
   "source": [
    "rownames(all_site_info) <- all_site_info[,1]"
   ]
  },
  {
   "cell_type": "code",
   "execution_count": 9,
   "metadata": {
    "vscode": {
     "languageId": "r"
    }
   },
   "outputs": [],
   "source": [
    "L2_3_res_17_in_AS_site <- as.data.frame(all_site_info[intersect(all_site_info[,1],L2_3_res_17$V9),])"
   ]
  },
  {
   "cell_type": "code",
   "execution_count": 10,
   "metadata": {
    "vscode": {
     "languageId": "r"
    }
   },
   "outputs": [],
   "source": [
    "colnames(L2_3_res_17_in_AS_site) <- c(\"all_site\",\"all_info\",\"gene\")"
   ]
  },
  {
   "cell_type": "code",
   "execution_count": 11,
   "metadata": {
    "vscode": {
     "languageId": "r"
    }
   },
   "outputs": [
    {
     "data": {
      "text/html": [
       "<table class=\"dataframe\">\n",
       "<caption>A data.frame: 6 × 32</caption>\n",
       "<thead>\n",
       "\t<tr><th></th><th scope=col>X</th><th scope=col>iso_ref</th><th scope=col>gene_ref</th><th scope=col>isoform_id</th><th scope=col>gene_id</th><th scope=col>condition_1</th><th scope=col>condition_2</th><th scope=col>gene_name</th><th scope=col>gene_biotype</th><th scope=col>iso_biotype</th><th scope=col>⋯</th><th scope=col>iso_log2_fold_change</th><th scope=col>iso_q_value</th><th scope=col>IF_overall</th><th scope=col>IF1</th><th scope=col>IF2</th><th scope=col>dIF</th><th scope=col>isoform_switch_q_value</th><th scope=col>gene_switch_q_value</th><th scope=col>PTC</th><th scope=col>IR</th></tr>\n",
       "\t<tr><th></th><th scope=col>&lt;int&gt;</th><th scope=col>&lt;chr&gt;</th><th scope=col>&lt;chr&gt;</th><th scope=col>&lt;chr&gt;</th><th scope=col>&lt;chr&gt;</th><th scope=col>&lt;chr&gt;</th><th scope=col>&lt;chr&gt;</th><th scope=col>&lt;chr&gt;</th><th scope=col>&lt;chr&gt;</th><th scope=col>&lt;chr&gt;</th><th scope=col>⋯</th><th scope=col>&lt;dbl&gt;</th><th scope=col>&lt;lgl&gt;</th><th scope=col>&lt;dbl&gt;</th><th scope=col>&lt;dbl&gt;</th><th scope=col>&lt;dbl&gt;</th><th scope=col>&lt;dbl&gt;</th><th scope=col>&lt;dbl&gt;</th><th scope=col>&lt;dbl&gt;</th><th scope=col>&lt;lgl&gt;</th><th scope=col>&lt;int&gt;</th></tr>\n",
       "</thead>\n",
       "<tbody>\n",
       "\t<tr><th scope=row>1</th><td>29333</td><td>isoComp_00012166</td><td>geneComp_00003259</td><td>ENST00000356221.8_9  </td><td>CDC16          </td><td>ASD</td><td>Control</td><td>CDC16          </td><td>protein_coding</td><td>protein_coding</td><td>⋯</td><td>-8.973881741</td><td>NA</td><td>0.1123833</td><td>0.22476667</td><td>0.0000000</td><td>-0.2247667</td><td>0.0099764393</td><td>9.976439e-03</td><td>FALSE</td><td>1</td></tr>\n",
       "\t<tr><th scope=row>2</th><td>66287</td><td>isoComp_00020232</td><td>geneComp_00005164</td><td>ENST00000433124.1_1  </td><td>DNAH14         </td><td>ASD</td><td>Control</td><td>DNAH14         </td><td>protein_coding</td><td>protein_coding</td><td>⋯</td><td> 8.059142198</td><td>NA</td><td>0.1283667</td><td>0.00000000</td><td>0.2567333</td><td> 0.2567333</td><td>0.0043675597</td><td>4.367560e-03</td><td>   NA</td><td>1</td></tr>\n",
       "\t<tr><th scope=row>3</th><td>98631</td><td>isoComp_00030823</td><td>geneComp_00011797</td><td>ENST00000690951.2_2  </td><td>ENSG00000278932</td><td>ASD</td><td>Control</td><td>ENSG00000278932</td><td>lncRNA        </td><td>lncRNA        </td><td>⋯</td><td> 6.083982340</td><td>NA</td><td>0.0751000</td><td>0.00000000</td><td>0.1502000</td><td> 0.1502000</td><td>0.0484498815</td><td>3.449201e-02</td><td>FALSE</td><td>1</td></tr>\n",
       "\t<tr><th scope=row>4</th><td>54249</td><td>isoComp_00038055</td><td>geneComp_00015666</td><td>ENST00000308275.8_7  </td><td>FBXO22         </td><td>ASD</td><td>Control</td><td>FBXO22         </td><td>protein_coding</td><td>protein_coding</td><td>⋯</td><td>-0.008027556</td><td>NA</td><td>0.6544167</td><td>0.97313333</td><td>0.3357000</td><td>-0.6374333</td><td>0.0346592787</td><td>2.879579e-06</td><td>FALSE</td><td>1</td></tr>\n",
       "\t<tr><th scope=row>5</th><td>35466</td><td>isoComp_00039012</td><td>geneComp_00015923</td><td>ENST00000260506.12_8 </td><td>FNBP1L         </td><td>ASD</td><td>Control</td><td>FNBP1L         </td><td>protein_coding</td><td>protein_coding</td><td>⋯</td><td> 1.286623242</td><td>NA</td><td>0.2679500</td><td>0.08926667</td><td>0.4466333</td><td> 0.3573667</td><td>0.0330975370</td><td>3.309754e-02</td><td>FALSE</td><td>1</td></tr>\n",
       "\t<tr><th scope=row>6</th><td> 6004</td><td>isoComp_00044379</td><td>geneComp_00017424</td><td>ENST00000310053.10_11</td><td>HLTF           </td><td>ASD</td><td>Control</td><td>HLTF           </td><td>protein_coding</td><td>protein_coding</td><td>⋯</td><td>-8.882732766</td><td>NA</td><td>0.1470833</td><td>0.29416667</td><td>0.0000000</td><td>-0.2941667</td><td>0.0004516219</td><td>4.516219e-04</td><td>FALSE</td><td>1</td></tr>\n",
       "</tbody>\n",
       "</table>\n"
      ],
      "text/latex": [
       "A data.frame: 6 × 32\n",
       "\\begin{tabular}{r|lllllllllllllllllllll}\n",
       "  & X & iso\\_ref & gene\\_ref & isoform\\_id & gene\\_id & condition\\_1 & condition\\_2 & gene\\_name & gene\\_biotype & iso\\_biotype & ⋯ & iso\\_log2\\_fold\\_change & iso\\_q\\_value & IF\\_overall & IF1 & IF2 & dIF & isoform\\_switch\\_q\\_value & gene\\_switch\\_q\\_value & PTC & IR\\\\\n",
       "  & <int> & <chr> & <chr> & <chr> & <chr> & <chr> & <chr> & <chr> & <chr> & <chr> & ⋯ & <dbl> & <lgl> & <dbl> & <dbl> & <dbl> & <dbl> & <dbl> & <dbl> & <lgl> & <int>\\\\\n",
       "\\hline\n",
       "\t1 & 29333 & isoComp\\_00012166 & geneComp\\_00003259 & ENST00000356221.8\\_9   & CDC16           & ASD & Control & CDC16           & protein\\_coding & protein\\_coding & ⋯ & -8.973881741 & NA & 0.1123833 & 0.22476667 & 0.0000000 & -0.2247667 & 0.0099764393 & 9.976439e-03 & FALSE & 1\\\\\n",
       "\t2 & 66287 & isoComp\\_00020232 & geneComp\\_00005164 & ENST00000433124.1\\_1   & DNAH14          & ASD & Control & DNAH14          & protein\\_coding & protein\\_coding & ⋯ &  8.059142198 & NA & 0.1283667 & 0.00000000 & 0.2567333 &  0.2567333 & 0.0043675597 & 4.367560e-03 &    NA & 1\\\\\n",
       "\t3 & 98631 & isoComp\\_00030823 & geneComp\\_00011797 & ENST00000690951.2\\_2   & ENSG00000278932 & ASD & Control & ENSG00000278932 & lncRNA         & lncRNA         & ⋯ &  6.083982340 & NA & 0.0751000 & 0.00000000 & 0.1502000 &  0.1502000 & 0.0484498815 & 3.449201e-02 & FALSE & 1\\\\\n",
       "\t4 & 54249 & isoComp\\_00038055 & geneComp\\_00015666 & ENST00000308275.8\\_7   & FBXO22          & ASD & Control & FBXO22          & protein\\_coding & protein\\_coding & ⋯ & -0.008027556 & NA & 0.6544167 & 0.97313333 & 0.3357000 & -0.6374333 & 0.0346592787 & 2.879579e-06 & FALSE & 1\\\\\n",
       "\t5 & 35466 & isoComp\\_00039012 & geneComp\\_00015923 & ENST00000260506.12\\_8  & FNBP1L          & ASD & Control & FNBP1L          & protein\\_coding & protein\\_coding & ⋯ &  1.286623242 & NA & 0.2679500 & 0.08926667 & 0.4466333 &  0.3573667 & 0.0330975370 & 3.309754e-02 & FALSE & 1\\\\\n",
       "\t6 &  6004 & isoComp\\_00044379 & geneComp\\_00017424 & ENST00000310053.10\\_11 & HLTF            & ASD & Control & HLTF            & protein\\_coding & protein\\_coding & ⋯ & -8.882732766 & NA & 0.1470833 & 0.29416667 & 0.0000000 & -0.2941667 & 0.0004516219 & 4.516219e-04 & FALSE & 1\\\\\n",
       "\\end{tabular}\n"
      ],
      "text/markdown": [
       "\n",
       "A data.frame: 6 × 32\n",
       "\n",
       "| <!--/--> | X &lt;int&gt; | iso_ref &lt;chr&gt; | gene_ref &lt;chr&gt; | isoform_id &lt;chr&gt; | gene_id &lt;chr&gt; | condition_1 &lt;chr&gt; | condition_2 &lt;chr&gt; | gene_name &lt;chr&gt; | gene_biotype &lt;chr&gt; | iso_biotype &lt;chr&gt; | ⋯ ⋯ | iso_log2_fold_change &lt;dbl&gt; | iso_q_value &lt;lgl&gt; | IF_overall &lt;dbl&gt; | IF1 &lt;dbl&gt; | IF2 &lt;dbl&gt; | dIF &lt;dbl&gt; | isoform_switch_q_value &lt;dbl&gt; | gene_switch_q_value &lt;dbl&gt; | PTC &lt;lgl&gt; | IR &lt;int&gt; |\n",
       "|---|---|---|---|---|---|---|---|---|---|---|---|---|---|---|---|---|---|---|---|---|---|\n",
       "| 1 | 29333 | isoComp_00012166 | geneComp_00003259 | ENST00000356221.8_9   | CDC16           | ASD | Control | CDC16           | protein_coding | protein_coding | ⋯ | -8.973881741 | NA | 0.1123833 | 0.22476667 | 0.0000000 | -0.2247667 | 0.0099764393 | 9.976439e-03 | FALSE | 1 |\n",
       "| 2 | 66287 | isoComp_00020232 | geneComp_00005164 | ENST00000433124.1_1   | DNAH14          | ASD | Control | DNAH14          | protein_coding | protein_coding | ⋯ |  8.059142198 | NA | 0.1283667 | 0.00000000 | 0.2567333 |  0.2567333 | 0.0043675597 | 4.367560e-03 |    NA | 1 |\n",
       "| 3 | 98631 | isoComp_00030823 | geneComp_00011797 | ENST00000690951.2_2   | ENSG00000278932 | ASD | Control | ENSG00000278932 | lncRNA         | lncRNA         | ⋯ |  6.083982340 | NA | 0.0751000 | 0.00000000 | 0.1502000 |  0.1502000 | 0.0484498815 | 3.449201e-02 | FALSE | 1 |\n",
       "| 4 | 54249 | isoComp_00038055 | geneComp_00015666 | ENST00000308275.8_7   | FBXO22          | ASD | Control | FBXO22          | protein_coding | protein_coding | ⋯ | -0.008027556 | NA | 0.6544167 | 0.97313333 | 0.3357000 | -0.6374333 | 0.0346592787 | 2.879579e-06 | FALSE | 1 |\n",
       "| 5 | 35466 | isoComp_00039012 | geneComp_00015923 | ENST00000260506.12_8  | FNBP1L          | ASD | Control | FNBP1L          | protein_coding | protein_coding | ⋯ |  1.286623242 | NA | 0.2679500 | 0.08926667 | 0.4466333 |  0.3573667 | 0.0330975370 | 3.309754e-02 | FALSE | 1 |\n",
       "| 6 |  6004 | isoComp_00044379 | geneComp_00017424 | ENST00000310053.10_11 | HLTF            | ASD | Control | HLTF            | protein_coding | protein_coding | ⋯ | -8.882732766 | NA | 0.1470833 | 0.29416667 | 0.0000000 | -0.2941667 | 0.0004516219 | 4.516219e-04 | FALSE | 1 |\n",
       "\n"
      ],
      "text/plain": [
       "  X     iso_ref          gene_ref          isoform_id           \n",
       "1 29333 isoComp_00012166 geneComp_00003259 ENST00000356221.8_9  \n",
       "2 66287 isoComp_00020232 geneComp_00005164 ENST00000433124.1_1  \n",
       "3 98631 isoComp_00030823 geneComp_00011797 ENST00000690951.2_2  \n",
       "4 54249 isoComp_00038055 geneComp_00015666 ENST00000308275.8_7  \n",
       "5 35466 isoComp_00039012 geneComp_00015923 ENST00000260506.12_8 \n",
       "6  6004 isoComp_00044379 geneComp_00017424 ENST00000310053.10_11\n",
       "  gene_id         condition_1 condition_2 gene_name       gene_biotype  \n",
       "1 CDC16           ASD         Control     CDC16           protein_coding\n",
       "2 DNAH14          ASD         Control     DNAH14          protein_coding\n",
       "3 ENSG00000278932 ASD         Control     ENSG00000278932 lncRNA        \n",
       "4 FBXO22          ASD         Control     FBXO22          protein_coding\n",
       "5 FNBP1L          ASD         Control     FNBP1L          protein_coding\n",
       "6 HLTF            ASD         Control     HLTF            protein_coding\n",
       "  iso_biotype    ⋯ iso_log2_fold_change iso_q_value IF_overall IF1       \n",
       "1 protein_coding ⋯ -8.973881741         NA          0.1123833  0.22476667\n",
       "2 protein_coding ⋯  8.059142198         NA          0.1283667  0.00000000\n",
       "3 lncRNA         ⋯  6.083982340         NA          0.0751000  0.00000000\n",
       "4 protein_coding ⋯ -0.008027556         NA          0.6544167  0.97313333\n",
       "5 protein_coding ⋯  1.286623242         NA          0.2679500  0.08926667\n",
       "6 protein_coding ⋯ -8.882732766         NA          0.1470833  0.29416667\n",
       "  IF2       dIF        isoform_switch_q_value gene_switch_q_value PTC   IR\n",
       "1 0.0000000 -0.2247667 0.0099764393           9.976439e-03        FALSE 1 \n",
       "2 0.2567333  0.2567333 0.0043675597           4.367560e-03           NA 1 \n",
       "3 0.1502000  0.1502000 0.0484498815           3.449201e-02        FALSE 1 \n",
       "4 0.3357000 -0.6374333 0.0346592787           2.879579e-06        FALSE 1 \n",
       "5 0.4466333  0.3573667 0.0330975370           3.309754e-02        FALSE 1 \n",
       "6 0.0000000 -0.2941667 0.0004516219           4.516219e-04        FALSE 1 "
      ]
     },
     "metadata": {},
     "output_type": "display_data"
    }
   ],
   "source": [
    "L2_3_de_iso_IR <- read.csv(\"/disk1/wenqing/tmp_data/ASD/deX_isoform_IR/de_isoform_IR_L2_3_ExN.csv\")\n",
    "head(L2_3_de_iso_IR)"
   ]
  },
  {
   "cell_type": "code",
   "execution_count": 13,
   "metadata": {
    "vscode": {
     "languageId": "r"
    }
   },
   "outputs": [
    {
     "data": {
      "text/html": [
       "'ENST00000582730.6_4'"
      ],
      "text/latex": [
       "'ENST00000582730.6\\_4'"
      ],
      "text/markdown": [
       "'ENST00000582730.6_4'"
      ],
      "text/plain": [
       "[1] \"ENST00000582730.6_4\""
      ]
     },
     "metadata": {},
     "output_type": "display_data"
    }
   ],
   "source": [
    "L2_3_de_iso_IR$isoform_id[L2_3_de_iso_IR$gene_id==\"SRSF1\"]"
   ]
  },
  {
   "cell_type": "code",
   "execution_count": 30,
   "metadata": {
    "vscode": {
     "languageId": "r"
    }
   },
   "outputs": [
    {
     "data": {
      "text/html": [
       "<table class=\"dataframe\">\n",
       "<caption>A data.frame: 6 × 4</caption>\n",
       "<thead>\n",
       "\t<tr><th></th><th scope=col>seqnames</th><th scope=col>start</th><th scope=col>end</th><th scope=col>isoform_id</th></tr>\n",
       "\t<tr><th></th><th scope=col>&lt;chr&gt;</th><th scope=col>&lt;int&gt;</th><th scope=col>&lt;int&gt;</th><th scope=col>&lt;chr&gt;</th></tr>\n",
       "</thead>\n",
       "<tbody>\n",
       "\t<tr><th scope=row>1</th><td>chr1</td><td>11869</td><td>12227</td><td>ENST00000456328.2</td></tr>\n",
       "\t<tr><th scope=row>2</th><td>chr1</td><td>12613</td><td>12721</td><td>ENST00000456328.2</td></tr>\n",
       "\t<tr><th scope=row>3</th><td>chr1</td><td>13221</td><td>14409</td><td>ENST00000456328.2</td></tr>\n",
       "\t<tr><th scope=row>4</th><td>chr1</td><td>11872</td><td>12227</td><td>ENST00000515242.2</td></tr>\n",
       "\t<tr><th scope=row>5</th><td>chr1</td><td>12613</td><td>12721</td><td>ENST00000515242.2</td></tr>\n",
       "\t<tr><th scope=row>6</th><td>chr1</td><td>13225</td><td>14412</td><td>ENST00000515242.2</td></tr>\n",
       "</tbody>\n",
       "</table>\n"
      ],
      "text/latex": [
       "A data.frame: 6 × 4\n",
       "\\begin{tabular}{r|llll}\n",
       "  & seqnames & start & end & isoform\\_id\\\\\n",
       "  & <chr> & <int> & <int> & <chr>\\\\\n",
       "\\hline\n",
       "\t1 & chr1 & 11869 & 12227 & ENST00000456328.2\\\\\n",
       "\t2 & chr1 & 12613 & 12721 & ENST00000456328.2\\\\\n",
       "\t3 & chr1 & 13221 & 14409 & ENST00000456328.2\\\\\n",
       "\t4 & chr1 & 11872 & 12227 & ENST00000515242.2\\\\\n",
       "\t5 & chr1 & 12613 & 12721 & ENST00000515242.2\\\\\n",
       "\t6 & chr1 & 13225 & 14412 & ENST00000515242.2\\\\\n",
       "\\end{tabular}\n"
      ],
      "text/markdown": [
       "\n",
       "A data.frame: 6 × 4\n",
       "\n",
       "| <!--/--> | seqnames &lt;chr&gt; | start &lt;int&gt; | end &lt;int&gt; | isoform_id &lt;chr&gt; |\n",
       "|---|---|---|---|---|\n",
       "| 1 | chr1 | 11869 | 12227 | ENST00000456328.2 |\n",
       "| 2 | chr1 | 12613 | 12721 | ENST00000456328.2 |\n",
       "| 3 | chr1 | 13221 | 14409 | ENST00000456328.2 |\n",
       "| 4 | chr1 | 11872 | 12227 | ENST00000515242.2 |\n",
       "| 5 | chr1 | 12613 | 12721 | ENST00000515242.2 |\n",
       "| 6 | chr1 | 13225 | 14412 | ENST00000515242.2 |\n",
       "\n"
      ],
      "text/plain": [
       "  seqnames start end   isoform_id       \n",
       "1 chr1     11869 12227 ENST00000456328.2\n",
       "2 chr1     12613 12721 ENST00000456328.2\n",
       "3 chr1     13221 14409 ENST00000456328.2\n",
       "4 chr1     11872 12227 ENST00000515242.2\n",
       "5 chr1     12613 12721 ENST00000515242.2\n",
       "6 chr1     13225 14412 ENST00000515242.2"
      ]
     },
     "metadata": {},
     "output_type": "display_data"
    }
   ],
   "source": [
    "#########得到在asd样本细胞类型中位于AS site的res后，检查该位点是否位于isoform区间内\n",
    "#首先获得每个iso的区间（注意每个iso区段的上下游+1与-2的处理）\n",
    "exon_region <- read.table(\"/disk1/wenqing/tmp_data/exon.gencode.bed\")\n",
    "colnames(exon_region) <- c('seqnames','start','end','isoform_id')\n",
    "head(exon_region)\n"
   ]
  },
  {
   "cell_type": "code",
   "execution_count": 13,
   "metadata": {
    "vscode": {
     "languageId": "r"
    }
   },
   "outputs": [],
   "source": [
    "one_iso <- L2_3_de_iso_IR$isoform_id[1]"
   ]
  },
  {
   "cell_type": "code",
   "execution_count": 33,
   "metadata": {
    "vscode": {
     "languageId": "r"
    }
   },
   "outputs": [],
   "source": [
    "target_iso <- c()\n",
    "target_iso_res <- c()\n",
    "target_iso_res_info <- c()\n",
    "target_iso_res_gene <- c()\n",
    "for(one_iso in L2_3_de_iso_IR$isoform_id){\n",
    "    tmp_iso_region_start <- exon_region$start[exon_region$isoform_id==one_iso]-2\n",
    "    tmp_iso_region_end <- exon_region$end[exon_region$isoform_id==one_iso]+1\n",
    "    chr_seq <- unique(exon_region$seqnames[exon_region$isoform_id==one_iso])\n",
    "    start_end_site <- c(tmp_iso_region_start,tmp_iso_region_end)\n",
    "    if(length(tmp_iso_region_start)!=0){\n",
    "        for(i in 1:nrow(L2_3_res_17_in_AS_site)){\n",
    "            res_chr <- strsplit(L2_3_res_17_in_AS_site$all_site[i],\"_\")[[1]][1]\n",
    "            res_site <- strsplit(L2_3_res_17_in_AS_site$all_site[i],\"_\")[[1]][2]\n",
    "            if(res_chr==chr_seq & res_site %in% start_end_site){\n",
    "                target_iso <- c(target_iso,one_iso)\n",
    "                target_iso_res <- c(target_iso_res,L2_3_res_17_in_AS_site$all_site[i])\n",
    "                target_iso_res_info <- c(target_iso_res_info,L2_3_res_17_in_AS_site$all_info[i])\n",
    "                target_iso_res_gene <- c(target_iso_res_gene,L2_3_res_17_in_AS_site$gene[i])\n",
    "            }\n",
    "        }\n",
    "    }\n",
    "}"
   ]
  },
  {
   "cell_type": "code",
   "execution_count": 68,
   "metadata": {
    "vscode": {
     "languageId": "r"
    }
   },
   "outputs": [
    {
     "data": {
      "text/plain": [
       "NULL"
      ]
     },
     "metadata": {},
     "output_type": "display_data"
    },
    {
     "data": {
      "text/html": [
       "<style>\n",
       ".list-inline {list-style: none; margin:0; padding: 0}\n",
       ".list-inline>li {display: inline-block}\n",
       ".list-inline>li:not(:last-child)::after {content: \"\\00b7\"; padding: 0 .5ex}\n",
       "</style>\n",
       "<ol class=list-inline><li>21</li><li>3</li></ol>\n"
      ],
      "text/latex": [
       "\\begin{enumerate*}\n",
       "\\item 21\n",
       "\\item 3\n",
       "\\end{enumerate*}\n"
      ],
      "text/markdown": [
       "1. 21\n",
       "2. 3\n",
       "\n",
       "\n"
      ],
      "text/plain": [
       "[1] 21  3"
      ]
     },
     "metadata": {},
     "output_type": "display_data"
    },
    {
     "data": {
      "text/plain": [
       "NULL"
      ]
     },
     "metadata": {},
     "output_type": "display_data"
    },
    {
     "data": {
      "text/html": [
       "<style>\n",
       ".list-inline {list-style: none; margin:0; padding: 0}\n",
       ".list-inline>li {display: inline-block}\n",
       ".list-inline>li:not(:last-child)::after {content: \"\\00b7\"; padding: 0 .5ex}\n",
       "</style>\n",
       "<ol class=list-inline><li>115</li><li>3</li></ol>\n"
      ],
      "text/latex": [
       "\\begin{enumerate*}\n",
       "\\item 115\n",
       "\\item 3\n",
       "\\end{enumerate*}\n"
      ],
      "text/markdown": [
       "1. 115\n",
       "2. 3\n",
       "\n",
       "\n"
      ],
      "text/plain": [
       "[1] 115   3"
      ]
     },
     "metadata": {},
     "output_type": "display_data"
    },
    {
     "data": {
      "text/plain": [
       "NULL"
      ]
     },
     "metadata": {},
     "output_type": "display_data"
    },
    {
     "data": {
      "text/html": [
       "<style>\n",
       ".list-inline {list-style: none; margin:0; padding: 0}\n",
       ".list-inline>li {display: inline-block}\n",
       ".list-inline>li:not(:last-child)::after {content: \"\\00b7\"; padding: 0 .5ex}\n",
       "</style>\n",
       "<ol class=list-inline><li>42</li><li>3</li></ol>\n"
      ],
      "text/latex": [
       "\\begin{enumerate*}\n",
       "\\item 42\n",
       "\\item 3\n",
       "\\end{enumerate*}\n"
      ],
      "text/markdown": [
       "1. 42\n",
       "2. 3\n",
       "\n",
       "\n"
      ],
      "text/plain": [
       "[1] 42  3"
      ]
     },
     "metadata": {},
     "output_type": "display_data"
    },
    {
     "data": {
      "text/plain": [
       "NULL"
      ]
     },
     "metadata": {},
     "output_type": "display_data"
    },
    {
     "data": {
      "text/html": [
       "<style>\n",
       ".list-inline {list-style: none; margin:0; padding: 0}\n",
       ".list-inline>li {display: inline-block}\n",
       ".list-inline>li:not(:last-child)::after {content: \"\\00b7\"; padding: 0 .5ex}\n",
       "</style>\n",
       "<ol class=list-inline><li>95</li><li>3</li></ol>\n"
      ],
      "text/latex": [
       "\\begin{enumerate*}\n",
       "\\item 95\n",
       "\\item 3\n",
       "\\end{enumerate*}\n"
      ],
      "text/markdown": [
       "1. 95\n",
       "2. 3\n",
       "\n",
       "\n"
      ],
      "text/plain": [
       "[1] 95  3"
      ]
     },
     "metadata": {},
     "output_type": "display_data"
    },
    {
     "data": {
      "text/plain": [
       "NULL"
      ]
     },
     "metadata": {},
     "output_type": "display_data"
    },
    {
     "data": {
      "text/html": [
       "<style>\n",
       ".list-inline {list-style: none; margin:0; padding: 0}\n",
       ".list-inline>li {display: inline-block}\n",
       ".list-inline>li:not(:last-child)::after {content: \"\\00b7\"; padding: 0 .5ex}\n",
       "</style>\n",
       "<ol class=list-inline><li>145</li><li>3</li></ol>\n"
      ],
      "text/latex": [
       "\\begin{enumerate*}\n",
       "\\item 145\n",
       "\\item 3\n",
       "\\end{enumerate*}\n"
      ],
      "text/markdown": [
       "1. 145\n",
       "2. 3\n",
       "\n",
       "\n"
      ],
      "text/plain": [
       "[1] 145   3"
      ]
     },
     "metadata": {},
     "output_type": "display_data"
    },
    {
     "data": {
      "text/plain": [
       "NULL"
      ]
     },
     "metadata": {},
     "output_type": "display_data"
    },
    {
     "data": {
      "text/html": [
       "<style>\n",
       ".list-inline {list-style: none; margin:0; padding: 0}\n",
       ".list-inline>li {display: inline-block}\n",
       ".list-inline>li:not(:last-child)::after {content: \"\\00b7\"; padding: 0 .5ex}\n",
       "</style>\n",
       "<ol class=list-inline><li>93</li><li>3</li></ol>\n"
      ],
      "text/latex": [
       "\\begin{enumerate*}\n",
       "\\item 93\n",
       "\\item 3\n",
       "\\end{enumerate*}\n"
      ],
      "text/markdown": [
       "1. 93\n",
       "2. 3\n",
       "\n",
       "\n"
      ],
      "text/plain": [
       "[1] 93  3"
      ]
     },
     "metadata": {},
     "output_type": "display_data"
    }
   ],
   "source": [
    "#所有自闭症样本与对照组样本6种细胞类型在无论是否差异表达的iso里均未找到位于剪接位点的res\n",
    "Olig_de_iso_IR <- read.csv(\"/disk1/wenqing/tmp_data/ASD/isoform_IR/isoform_IR_Olig.csv\")\n",
    "\n",
    "Olig_res_17 <- read.table(\"/disk1/wenqing/tmp_data/ASD/asd_male_pfc/asd_17/Olig.res\")\n",
    "Olig_res_17$V9 <- paste0(Olig_res_17$V1,\"_\",Olig_res_17$V3)\n",
    "Olig_res_17_in_AS_site <- as.data.frame(all_site_info[intersect(all_site_info[,1],Olig_res_17$V9),])\n",
    "colnames(Olig_res_17_in_AS_site) <- c(\"all_site\",\"all_info\",\"gene\")\n",
    "\n",
    "target_iso <- c()\n",
    "target_iso_res <- c()\n",
    "target_iso_res_info <- c()\n",
    "target_iso_res_gene <- c()\n",
    "for(one_iso in Olig_de_iso_IR$isoform_id){\n",
    "    tmp_iso_region_start <- exon_region$start[exon_region$isoform_id==one_iso]-2\n",
    "    tmp_iso_region_end <- exon_region$end[exon_region$isoform_id==one_iso]+1\n",
    "    chr_seq <- unique(exon_region$seqnames[exon_region$isoform_id==one_iso])\n",
    "    start_end_site <- c(tmp_iso_region_start,tmp_iso_region_end)\n",
    "    if(length(tmp_iso_region_start)!=0){\n",
    "        for(i in 1:nrow(Olig_res_17_in_AS_site)){\n",
    "            res_chr <- strsplit(Olig_res_17_in_AS_site$all_site[i],\"_\")[[1]][1]\n",
    "            res_site <- strsplit(Olig_res_17_in_AS_site$all_site[i],\"_\")[[1]][2]\n",
    "            if(res_chr==chr_seq & res_site %in% start_end_site){\n",
    "                target_iso <- c(target_iso,one_iso)\n",
    "                target_iso_res <- c(target_iso_res,Olig_res_17_in_AS_site$all_site[i])\n",
    "                target_iso_res_info <- c(target_iso_res_info,Olig_res_17_in_AS_site$all_info[i])\n",
    "                target_iso_res_gene <- c(target_iso_res_gene,Olig_res_17_in_AS_site$gene[i])\n",
    "            }\n",
    "        }\n",
    "    }\n",
    "}\n",
    "target_iso\n",
    "dim(Olig_res_17_in_AS_site)\n",
    "\n",
    "Olig_res_18 <- read.table(\"/disk1/wenqing/tmp_data/ASD/asd_male_pfc/asd_18/Olig.res\")\n",
    "Olig_res_18$V9 <- paste0(Olig_res_18$V1,\"_\",Olig_res_18$V3)\n",
    "Olig_res_18_in_AS_site <- as.data.frame(all_site_info[intersect(all_site_info[,1],Olig_res_18$V9),])\n",
    "colnames(Olig_res_18_in_AS_site) <- c(\"all_site\",\"all_info\",\"gene\")\n",
    "\n",
    "target_iso <- c()\n",
    "target_iso_res <- c()\n",
    "target_iso_res_info <- c()\n",
    "target_iso_res_gene <- c()\n",
    "for(one_iso in Olig_de_iso_IR$isoform_id){\n",
    "    tmp_iso_region_start <- exon_region$start[exon_region$isoform_id==one_iso]-2\n",
    "    tmp_iso_region_end <- exon_region$end[exon_region$isoform_id==one_iso]+1\n",
    "    chr_seq <- unique(exon_region$seqnames[exon_region$isoform_id==one_iso])\n",
    "    start_end_site <- c(tmp_iso_region_start,tmp_iso_region_end)\n",
    "    if(length(tmp_iso_region_start)!=0){\n",
    "        for(i in 1:nrow(Olig_res_18_in_AS_site)){\n",
    "            res_chr <- strsplit(Olig_res_18_in_AS_site$all_site[i],\"_\")[[1]][1]\n",
    "            res_site <- strsplit(Olig_res_18_in_AS_site$all_site[i],\"_\")[[1]][2]\n",
    "            if(res_chr==chr_seq & res_site %in% start_end_site){\n",
    "                target_iso <- c(target_iso,one_iso)\n",
    "                target_iso_res <- c(target_iso_res,Olig_res_18_in_AS_site$all_site[i])\n",
    "                target_iso_res_info <- c(target_iso_res_info,Olig_res_18_in_AS_site$all_info[i])\n",
    "                target_iso_res_gene <- c(target_iso_res_gene,Olig_res_18_in_AS_site$gene[i])\n",
    "            }\n",
    "        }\n",
    "    }\n",
    "}\n",
    "target_iso\n",
    "dim(Olig_res_18_in_AS_site)\n",
    "\n",
    "\n",
    "Olig_res_57 <- read.table(\"/disk1/wenqing/tmp_data/ASD/asd_male_pfc/asd_57/Olig.res\")\n",
    "Olig_res_57$V9 <- paste0(Olig_res_57$V1,\"_\",Olig_res_57$V3)\n",
    "Olig_res_57_in_AS_site <- as.data.frame(all_site_info[intersect(all_site_info[,1],Olig_res_57$V9),])\n",
    "colnames(Olig_res_57_in_AS_site) <- c(\"all_site\",\"all_info\",\"gene\")\n",
    "\n",
    "target_iso <- c()\n",
    "target_iso_res <- c()\n",
    "target_iso_res_info <- c()\n",
    "target_iso_res_gene <- c()\n",
    "for(one_iso in Olig_de_iso_IR$isoform_id){\n",
    "    tmp_iso_region_start <- exon_region$start[exon_region$isoform_id==one_iso]-2\n",
    "    tmp_iso_region_end <- exon_region$end[exon_region$isoform_id==one_iso]+1\n",
    "    chr_seq <- unique(exon_region$seqnames[exon_region$isoform_id==one_iso])\n",
    "    start_end_site <- c(tmp_iso_region_start,tmp_iso_region_end)\n",
    "    if(length(tmp_iso_region_start)!=0){\n",
    "        for(i in 1:nrow(Olig_res_57_in_AS_site)){\n",
    "            res_chr <- strsplit(Olig_res_57_in_AS_site$all_site[i],\"_\")[[1]][1]\n",
    "            res_site <- strsplit(Olig_res_57_in_AS_site$all_site[i],\"_\")[[1]][2]\n",
    "            if(res_chr==chr_seq & res_site %in% start_end_site){\n",
    "                target_iso <- c(target_iso,one_iso)\n",
    "                target_iso_res <- c(target_iso_res,Olig_res_57_in_AS_site$all_site[i])\n",
    "                target_iso_res_info <- c(target_iso_res_info,Olig_res_57_in_AS_site$all_info[i])\n",
    "                target_iso_res_gene <- c(target_iso_res_gene,Olig_res_57_in_AS_site$gene[i])\n",
    "            }\n",
    "        }\n",
    "    }\n",
    "}\n",
    "target_iso\n",
    "dim(Olig_res_57_in_AS_site)\n",
    "\n",
    "\n",
    "Olig_de_iso_IR <- read.csv(\"/disk1/wenqing/tmp_data/ASD/isoform_IR/isoform_IR_Olig.csv\")\n",
    "\n",
    "Olig_res_20 <- read.table(\"/disk1/wenqing/tmp_data/ASD/ctr_male_pfc/ctr_20/Olig.res\")\n",
    "Olig_res_20$V9 <- paste0(Olig_res_20$V1,\"_\",Olig_res_20$V3)\n",
    "Olig_res_20_in_AS_site <- as.data.frame(all_site_info[intersect(all_site_info[,1],Olig_res_20$V9),])\n",
    "colnames(Olig_res_20_in_AS_site) <- c(\"all_site\",\"all_info\",\"gene\")\n",
    "\n",
    "target_iso <- c()\n",
    "target_iso_res <- c()\n",
    "target_iso_res_info <- c()\n",
    "target_iso_res_gene <- c()\n",
    "for(one_iso in Olig_de_iso_IR$isoform_id){\n",
    "    tmp_iso_region_start <- exon_region$start[exon_region$isoform_id==one_iso]-2\n",
    "    tmp_iso_region_end <- exon_region$end[exon_region$isoform_id==one_iso]+1\n",
    "    chr_seq <- unique(exon_region$seqnames[exon_region$isoform_id==one_iso])\n",
    "    start_end_site <- c(tmp_iso_region_start,tmp_iso_region_end)\n",
    "    if(length(tmp_iso_region_start)!=0){\n",
    "        for(i in 1:nrow(Olig_res_20_in_AS_site)){\n",
    "            res_chr <- strsplit(Olig_res_20_in_AS_site$all_site[i],\"_\")[[1]][1]\n",
    "            res_site <- strsplit(Olig_res_20_in_AS_site$all_site[i],\"_\")[[1]][2]\n",
    "            if(res_chr==chr_seq & res_site %in% start_end_site){\n",
    "                target_iso <- c(target_iso,one_iso)\n",
    "                target_iso_res <- c(target_iso_res,Olig_res_20_in_AS_site$all_site[i])\n",
    "                target_iso_res_info <- c(target_iso_res_info,Olig_res_20_in_AS_site$all_info[i])\n",
    "                target_iso_res_gene <- c(target_iso_res_gene,Olig_res_20_in_AS_site$gene[i])\n",
    "            }\n",
    "        }\n",
    "    }\n",
    "}\n",
    "target_iso\n",
    "dim(Olig_res_20_in_AS_site)\n",
    "\n",
    "Olig_res_32 <- read.table(\"/disk1/wenqing/tmp_data/ASD/ctr_male_pfc/ctr_32/Olig.res\")\n",
    "Olig_res_32$V9 <- paste0(Olig_res_32$V1,\"_\",Olig_res_32$V3)\n",
    "Olig_res_32_in_AS_site <- as.data.frame(all_site_info[intersect(all_site_info[,1],Olig_res_32$V9),])\n",
    "colnames(Olig_res_32_in_AS_site) <- c(\"all_site\",\"all_info\",\"gene\")\n",
    "\n",
    "target_iso <- c()\n",
    "target_iso_res <- c()\n",
    "target_iso_res_info <- c()\n",
    "target_iso_res_gene <- c()\n",
    "for(one_iso in Olig_de_iso_IR$isoform_id){\n",
    "    tmp_iso_region_start <- exon_region$start[exon_region$isoform_id==one_iso]-2\n",
    "    tmp_iso_region_end <- exon_region$end[exon_region$isoform_id==one_iso]+1\n",
    "    chr_seq <- unique(exon_region$seqnames[exon_region$isoform_id==one_iso])\n",
    "    start_end_site <- c(tmp_iso_region_start,tmp_iso_region_end)\n",
    "    if(length(tmp_iso_region_start)!=0){\n",
    "        for(i in 1:nrow(Olig_res_32_in_AS_site)){\n",
    "            res_chr <- strsplit(Olig_res_32_in_AS_site$all_site[i],\"_\")[[1]][1]\n",
    "            res_site <- strsplit(Olig_res_32_in_AS_site$all_site[i],\"_\")[[1]][2]\n",
    "            if(res_chr==chr_seq & res_site %in% start_end_site){\n",
    "                target_iso <- c(target_iso,one_iso)\n",
    "                target_iso_res <- c(target_iso_res,Olig_res_32_in_AS_site$all_site[i])\n",
    "                target_iso_res_info <- c(target_iso_res_info,Olig_res_32_in_AS_site$all_info[i])\n",
    "                target_iso_res_gene <- c(target_iso_res_gene,Olig_res_32_in_AS_site$gene[i])\n",
    "            }\n",
    "        }\n",
    "    }\n",
    "}\n",
    "target_iso\n",
    "dim(Olig_res_32_in_AS_site)\n",
    "\n",
    "Olig_res_56 <- read.table(\"/disk1/wenqing/tmp_data/ASD/ctr_male_pfc/ctr_56/Olig.res\")\n",
    "Olig_res_56$V9 <- paste0(Olig_res_56$V1,\"_\",Olig_res_56$V3)\n",
    "Olig_res_56_in_AS_site <- as.data.frame(all_site_info[intersect(all_site_info[,1],Olig_res_56$V9),])\n",
    "colnames(Olig_res_56_in_AS_site) <- c(\"all_site\",\"all_info\",\"gene\")\n",
    "\n",
    "target_iso <- c()\n",
    "target_iso_res <- c()\n",
    "target_iso_res_info <- c()\n",
    "target_iso_res_gene <- c()\n",
    "for(one_iso in Olig_de_iso_IR$isoform_id){\n",
    "    tmp_iso_region_start <- exon_region$start[exon_region$isoform_id==one_iso]-2\n",
    "    tmp_iso_region_end <- exon_region$end[exon_region$isoform_id==one_iso]+1\n",
    "    chr_seq <- unique(exon_region$seqnames[exon_region$isoform_id==one_iso])\n",
    "    start_end_site <- c(tmp_iso_region_start,tmp_iso_region_end)\n",
    "    if(length(tmp_iso_region_start)!=0){\n",
    "        for(i in 1:nrow(Olig_res_56_in_AS_site)){\n",
    "            res_chr <- strsplit(Olig_res_56_in_AS_site$all_site[i],\"_\")[[1]][1]\n",
    "            res_site <- strsplit(Olig_res_56_in_AS_site$all_site[i],\"_\")[[1]][2]\n",
    "            if(res_chr==chr_seq & res_site %in% start_end_site){\n",
    "                target_iso <- c(target_iso,one_iso)\n",
    "                target_iso_res <- c(target_iso_res,Olig_res_56_in_AS_site$all_site[i])\n",
    "                target_iso_res_info <- c(target_iso_res_info,Olig_res_56_in_AS_site$all_info[i])\n",
    "                target_iso_res_gene <- c(target_iso_res_gene,Olig_res_56_in_AS_site$gene[i])\n",
    "            }\n",
    "        }\n",
    "    }\n",
    "}\n",
    "target_iso\n",
    "dim(Olig_res_56_in_AS_site)"
   ]
  },
  {
   "cell_type": "code",
   "execution_count": null,
   "metadata": {
    "vscode": {
     "languageId": "r"
    }
   },
   "outputs": [],
   "source": [
    "#####但每种细胞类型每个样本都有几百个res位于剪接位点上\n",
    "#从位于剪接位点的编辑位点数量的角度比较基因的表达？？"
   ]
  },
  {
   "cell_type": "code",
   "execution_count": 69,
   "metadata": {
    "vscode": {
     "languageId": "r"
    }
   },
   "outputs": [
    {
     "data": {
      "text/html": [
       "<table class=\"dataframe\">\n",
       "<caption>A data.frame: 6 × 3</caption>\n",
       "<thead>\n",
       "\t<tr><th></th><th scope=col>all_site</th><th scope=col>all_info</th><th scope=col>gene</th></tr>\n",
       "\t<tr><th></th><th scope=col>&lt;chr&gt;</th><th scope=col>&lt;chr&gt;</th><th scope=col>&lt;chr&gt;</th></tr>\n",
       "</thead>\n",
       "<tbody>\n",
       "\t<tr><th scope=row>chr6_105281851</th><td>chr6_105281851</td><td>acceptor_us_2</td><td>PREP    </td></tr>\n",
       "\t<tr><th scope=row>chr1_235455684</th><td>chr1_235455684</td><td>acceptor_us_2</td><td>B3GALNT2</td></tr>\n",
       "\t<tr><th scope=row>chr20_35673684</th><td>chr20_35673684</td><td>acceptor_us_2</td><td>NFS1    </td></tr>\n",
       "\t<tr><th scope=row>chr1_202740812</th><td>chr1_202740812</td><td>acceptor_us_2</td><td>KDM5B   </td></tr>\n",
       "\t<tr><th scope=row>chr14_49780775</th><td>chr14_49780775</td><td>acceptor_us_2</td><td>KLHDC2  </td></tr>\n",
       "\t<tr><th scope=row>chr11_65613668</th><td>chr11_65613668</td><td>acceptor_us_2</td><td>MAP3K11 </td></tr>\n",
       "</tbody>\n",
       "</table>\n"
      ],
      "text/latex": [
       "A data.frame: 6 × 3\n",
       "\\begin{tabular}{r|lll}\n",
       "  & all\\_site & all\\_info & gene\\\\\n",
       "  & <chr> & <chr> & <chr>\\\\\n",
       "\\hline\n",
       "\tchr6\\_105281851 & chr6\\_105281851 & acceptor\\_us\\_2 & PREP    \\\\\n",
       "\tchr1\\_235455684 & chr1\\_235455684 & acceptor\\_us\\_2 & B3GALNT2\\\\\n",
       "\tchr20\\_35673684 & chr20\\_35673684 & acceptor\\_us\\_2 & NFS1    \\\\\n",
       "\tchr1\\_202740812 & chr1\\_202740812 & acceptor\\_us\\_2 & KDM5B   \\\\\n",
       "\tchr14\\_49780775 & chr14\\_49780775 & acceptor\\_us\\_2 & KLHDC2  \\\\\n",
       "\tchr11\\_65613668 & chr11\\_65613668 & acceptor\\_us\\_2 & MAP3K11 \\\\\n",
       "\\end{tabular}\n"
      ],
      "text/markdown": [
       "\n",
       "A data.frame: 6 × 3\n",
       "\n",
       "| <!--/--> | all_site &lt;chr&gt; | all_info &lt;chr&gt; | gene &lt;chr&gt; |\n",
       "|---|---|---|---|\n",
       "| chr6_105281851 | chr6_105281851 | acceptor_us_2 | PREP     |\n",
       "| chr1_235455684 | chr1_235455684 | acceptor_us_2 | B3GALNT2 |\n",
       "| chr20_35673684 | chr20_35673684 | acceptor_us_2 | NFS1     |\n",
       "| chr1_202740812 | chr1_202740812 | acceptor_us_2 | KDM5B    |\n",
       "| chr14_49780775 | chr14_49780775 | acceptor_us_2 | KLHDC2   |\n",
       "| chr11_65613668 | chr11_65613668 | acceptor_us_2 | MAP3K11  |\n",
       "\n"
      ],
      "text/plain": [
       "               all_site       all_info      gene    \n",
       "chr6_105281851 chr6_105281851 acceptor_us_2 PREP    \n",
       "chr1_235455684 chr1_235455684 acceptor_us_2 B3GALNT2\n",
       "chr20_35673684 chr20_35673684 acceptor_us_2 NFS1    \n",
       "chr1_202740812 chr1_202740812 acceptor_us_2 KDM5B   \n",
       "chr14_49780775 chr14_49780775 acceptor_us_2 KLHDC2  \n",
       "chr11_65613668 chr11_65613668 acceptor_us_2 MAP3K11 "
      ]
     },
     "metadata": {},
     "output_type": "display_data"
    }
   ],
   "source": [
    "L2_3_res_17 <- read.table(\"/disk1/wenqing/tmp_data/ASD/asd_male_pfc/asd_17/L2_3_ExN.res\")\n",
    "L2_3_res_17$V9 <- paste0(L2_3_res_17$V1,\"_\",L2_3_res_17$V3)\n",
    "L2_3_res_17_in_AS_site <- as.data.frame(all_site_info[intersect(all_site_info[,1],L2_3_res_17$V9),])\n",
    "colnames(L2_3_res_17_in_AS_site) <- c(\"all_site\",\"all_info\",\"gene\")\n",
    "head(L2_3_res_17_in_AS_site)"
   ]
  },
  {
   "cell_type": "code",
   "execution_count": 74,
   "metadata": {
    "vscode": {
     "languageId": "r"
    }
   },
   "outputs": [
    {
     "data": {
      "text/html": [
       "<table class=\"dataframe\">\n",
       "<caption>A data.frame: 6 × 3</caption>\n",
       "<thead>\n",
       "\t<tr><th></th><th scope=col>all_site</th><th scope=col>all_info</th><th scope=col>gene</th></tr>\n",
       "\t<tr><th></th><th scope=col>&lt;chr&gt;</th><th scope=col>&lt;chr&gt;</th><th scope=col>&lt;chr&gt;</th></tr>\n",
       "</thead>\n",
       "<tbody>\n",
       "\t<tr><th scope=row>chr6_105281851</th><td>chr6_105281851</td><td>acceptor_us_2</td><td>PREP    </td></tr>\n",
       "\t<tr><th scope=row>chr1_235455684</th><td>chr1_235455684</td><td>acceptor_us_2</td><td>B3GALNT2</td></tr>\n",
       "\t<tr><th scope=row>chr20_35673684</th><td>chr20_35673684</td><td>acceptor_us_2</td><td>NFS1    </td></tr>\n",
       "\t<tr><th scope=row>chr1_202740812</th><td>chr1_202740812</td><td>acceptor_us_2</td><td>KDM5B   </td></tr>\n",
       "\t<tr><th scope=row>chr14_49780775</th><td>chr14_49780775</td><td>acceptor_us_2</td><td>KLHDC2  </td></tr>\n",
       "\t<tr><th scope=row>chr11_65613668</th><td>chr11_65613668</td><td>acceptor_us_2</td><td>MAP3K11 </td></tr>\n",
       "</tbody>\n",
       "</table>\n"
      ],
      "text/latex": [
       "A data.frame: 6 × 3\n",
       "\\begin{tabular}{r|lll}\n",
       "  & all\\_site & all\\_info & gene\\\\\n",
       "  & <chr> & <chr> & <chr>\\\\\n",
       "\\hline\n",
       "\tchr6\\_105281851 & chr6\\_105281851 & acceptor\\_us\\_2 & PREP    \\\\\n",
       "\tchr1\\_235455684 & chr1\\_235455684 & acceptor\\_us\\_2 & B3GALNT2\\\\\n",
       "\tchr20\\_35673684 & chr20\\_35673684 & acceptor\\_us\\_2 & NFS1    \\\\\n",
       "\tchr1\\_202740812 & chr1\\_202740812 & acceptor\\_us\\_2 & KDM5B   \\\\\n",
       "\tchr14\\_49780775 & chr14\\_49780775 & acceptor\\_us\\_2 & KLHDC2  \\\\\n",
       "\tchr11\\_65613668 & chr11\\_65613668 & acceptor\\_us\\_2 & MAP3K11 \\\\\n",
       "\\end{tabular}\n"
      ],
      "text/markdown": [
       "\n",
       "A data.frame: 6 × 3\n",
       "\n",
       "| <!--/--> | all_site &lt;chr&gt; | all_info &lt;chr&gt; | gene &lt;chr&gt; |\n",
       "|---|---|---|---|\n",
       "| chr6_105281851 | chr6_105281851 | acceptor_us_2 | PREP     |\n",
       "| chr1_235455684 | chr1_235455684 | acceptor_us_2 | B3GALNT2 |\n",
       "| chr20_35673684 | chr20_35673684 | acceptor_us_2 | NFS1     |\n",
       "| chr1_202740812 | chr1_202740812 | acceptor_us_2 | KDM5B    |\n",
       "| chr14_49780775 | chr14_49780775 | acceptor_us_2 | KLHDC2   |\n",
       "| chr11_65613668 | chr11_65613668 | acceptor_us_2 | MAP3K11  |\n",
       "\n"
      ],
      "text/plain": [
       "               all_site       all_info      gene    \n",
       "chr6_105281851 chr6_105281851 acceptor_us_2 PREP    \n",
       "chr1_235455684 chr1_235455684 acceptor_us_2 B3GALNT2\n",
       "chr20_35673684 chr20_35673684 acceptor_us_2 NFS1    \n",
       "chr1_202740812 chr1_202740812 acceptor_us_2 KDM5B   \n",
       "chr14_49780775 chr14_49780775 acceptor_us_2 KLHDC2  \n",
       "chr11_65613668 chr11_65613668 acceptor_us_2 MAP3K11 "
      ]
     },
     "metadata": {},
     "output_type": "display_data"
    }
   ],
   "source": [
    "L2_3_res_17 <- read.table(\"/disk1/wenqing/tmp_data/ASD/asd_male_pfc/asd_17/L2_3_ExN.res\")\n",
    "L2_3_res_17$V9 <- paste0(L2_3_res_17$V1,\"_\",L2_3_res_17$V3)\n",
    "L2_3_res_17_in_AS_site <- as.data.frame(all_site_info[intersect(all_site_info[,1],L2_3_res_17$V9),])\n",
    "colnames(L2_3_res_17_in_AS_site) <- c(\"all_site\",\"all_info\",\"gene\")\n",
    "head(L2_3_res_17_in_AS_site)\n",
    "\n",
    "L2_3_res_18 <- read.table(\"/disk1/wenqing/tmp_data/ASD/asd_male_pfc/asd_18/L2_3_ExN.res\")\n",
    "L2_3_res_18$V9 <- paste0(L2_3_res_18$V1,\"_\",L2_3_res_18$V3)\n",
    "L2_3_res_18_in_AS_site <- as.data.frame(all_site_info[intersect(all_site_info[,1],L2_3_res_18$V9),])\n",
    "colnames(L2_3_res_18_in_AS_site) <- c(\"all_site\",\"all_info\",\"gene\")\n",
    "\n",
    "L2_3_res_57 <- read.table(\"/disk1/wenqing/tmp_data/ASD/asd_male_pfc/asd_57/L2_3_ExN.res\")\n",
    "L2_3_res_57$V9 <- paste0(L2_3_res_57$V1,\"_\",L2_3_res_57$V3)\n",
    "L2_3_res_57_in_AS_site <- as.data.frame(all_site_info[intersect(all_site_info[,1],L2_3_res_57$V9),])\n",
    "colnames(L2_3_res_57_in_AS_site) <- c(\"all_site\",\"all_info\",\"gene\")\n"
   ]
  },
  {
   "cell_type": "code",
   "execution_count": 75,
   "metadata": {
    "vscode": {
     "languageId": "r"
    }
   },
   "outputs": [
    {
     "data": {
      "text/html": [
       "719"
      ],
      "text/latex": [
       "719"
      ],
      "text/markdown": [
       "719"
      ],
      "text/plain": [
       "[1] 719"
      ]
     },
     "metadata": {},
     "output_type": "display_data"
    }
   ],
   "source": [
    "length(unique(c(L2_3_res_57_in_AS_site$all_site,L2_3_res_18_in_AS_site$all_site,L2_3_res_18_in_AS_site$all_site)))"
   ]
  },
  {
   "cell_type": "code",
   "execution_count": 76,
   "metadata": {
    "vscode": {
     "languageId": "r"
    }
   },
   "outputs": [
    {
     "data": {
      "text/html": [
       "989"
      ],
      "text/latex": [
       "989"
      ],
      "text/markdown": [
       "989"
      ],
      "text/plain": [
       "[1] 989"
      ]
     },
     "metadata": {},
     "output_type": "display_data"
    }
   ],
   "source": [
    "L2_3_res_20 <- read.table(\"/disk1/wenqing/tmp_data/ASD/ctr_male_pfc/ctr_20/L2_3_ExN.res\")\n",
    "L2_3_res_20$V9 <- paste0(L2_3_res_20$V1,\"_\",L2_3_res_20$V3)\n",
    "L2_3_res_20_in_AS_site <- as.data.frame(all_site_info[intersect(all_site_info[,1],L2_3_res_20$V9),])\n",
    "colnames(L2_3_res_20_in_AS_site) <- c(\"all_site\",\"all_info\",\"gene\")\n",
    "\n",
    "\n",
    "L2_3_res_32 <- read.table(\"/disk1/wenqing/tmp_data/ASD/ctr_male_pfc/ctr_32/L2_3_ExN.res\")\n",
    "L2_3_res_32$V9 <- paste0(L2_3_res_32$V1,\"_\",L2_3_res_32$V3)\n",
    "L2_3_res_32_in_AS_site <- as.data.frame(all_site_info[intersect(all_site_info[,1],L2_3_res_32$V9),])\n",
    "colnames(L2_3_res_32_in_AS_site) <- c(\"all_site\",\"all_info\",\"gene\")\n",
    "\n",
    "L2_3_res_56 <- read.table(\"/disk1/wenqing/tmp_data/ASD/ctr_male_pfc/ctr_56/L2_3_ExN.res\")\n",
    "L2_3_res_56$V9 <- paste0(L2_3_res_56$V1,\"_\",L2_3_res_56$V3)\n",
    "L2_3_res_56_in_AS_site <- as.data.frame(all_site_info[intersect(all_site_info[,1],L2_3_res_56$V9),])\n",
    "colnames(L2_3_res_56_in_AS_site) <- c(\"all_site\",\"all_info\",\"gene\")\n",
    "\n",
    "length(unique(c(L2_3_res_20_in_AS_site$all_site,L2_3_res_32_in_AS_site$all_site,L2_3_res_56_in_AS_site$all_site)))\n",
    "9"
   ]
  }
 ],
 "metadata": {
  "kernelspec": {
   "display_name": "R",
   "language": "R",
   "name": "ir"
  },
  "language_info": {
   "codemirror_mode": "r",
   "file_extension": ".r",
   "mimetype": "text/x-r-source",
   "name": "R",
   "pygments_lexer": "r",
   "version": "4.3.1"
  },
  "orig_nbformat": 4
 },
 "nbformat": 4,
 "nbformat_minor": 2
}
